{
 "cells": [
  {
   "cell_type": "code",
   "execution_count": 193,
   "metadata": {},
   "outputs": [],
   "source": [
    "import pandas as pd\n",
    "import os\n",
    "os.getcwd()"
   ]
  },
  {
   "cell_type": "code",
   "execution_count": null,
   "metadata": {},
   "outputs": [],
   "source": [
    "baseline_csvresult = 'CookCnty_2007base_05.csv'\n",
    "\n",
    "test = pd.read_csv(baseline_csvresult)"
   ]
  },
  {
   "cell_type": "code",
   "execution_count": 194,
   "metadata": {},
   "outputs": [],
   "source": [
    "groups = pd.read_csv('Groups.csv')"
   ]
  },
  {
   "cell_type": "code",
   "execution_count": 195,
   "metadata": {},
   "outputs": [],
   "source": [
    "groups['median gas'] = 'NA'\n",
    "groups['median elec'] = 'NA'\n",
    "for i, row in groups.iterrows():\n",
    "    median_gas = test[test['build_existing_model.geometry_stories'].isin(row['Stories'].split(',')) & \\\n",
    "    test['build_existing_model.geometry_wall_type'].isin(row['WallType'].split(',')) & \\\n",
    "    test['build_existing_model.vintage_acs'].isin(row['Vintage'].split(',')) & \\\n",
    "    test['build_existing_model.geometry_building_type_recs'].isin(['Single-Family Detached'])]['simulation_output_report.total_site_natural_gas_therm'].median()\n",
    "    groups.iloc[i, groups.columns.get_loc('median gas')] = median_gas\n",
    "\n",
    "    median_elec = test[test['build_existing_model.geometry_stories'].isin(row['Stories'].split(',')) & \\\n",
    "    test['build_existing_model.geometry_wall_type'].isin(row['WallType'].split(',')) & \\\n",
    "    test['build_existing_model.vintage_acs'].isin(row['Vintage'].split(',')) & \\\n",
    "    test['build_existing_model.geometry_building_type_recs'].isin(['Single-Family Detached'])]['simulation_output_report.total_site_electricity_kwh'].median()\n",
    "    groups.iloc[i, groups.columns.get_loc('median elec')] = median_elec\n",
    "    "
   ]
  },
  {
   "cell_type": "code",
   "execution_count": 198,
   "metadata": {},
   "outputs": [],
   "source": [
    "groups['Gas Diff(%)'] = ((groups['Non-normalized gas usage'] - groups['median gas']) / groups['Non-normalized gas usage']) * 100\n",
    "groups['Elec Diff(%)'] = ((groups['Non-normalized elec. usage'] - groups['median elec']) / groups['Non-normalized elec. usage']) * 100"
   ]
  },
  {
   "cell_type": "markdown",
   "metadata": {},
   "source": [
    "### Write csv results to folder"
   ]
  },
  {
   "cell_type": "code",
   "execution_count": 202,
   "metadata": {},
   "outputs": [],
   "source": [
    "output_csv = \"Groups_results\" + \"_\" + baseline_csvresult.split(\"_\")[2]\n",
    "results = groups[['Group','Non-normalized gas usage','Non-normalized elec. usage',\n",
    "       'median gas','Gas Diff(%)', 'median elec', 'Elec Diff(%)']]"
   ]
  },
  {
   "cell_type": "code",
   "execution_count": 203,
   "metadata": {},
   "outputs": [],
   "source": [
    "results.to_csv(output_csv, index = False)"
   ]
  }
 ],
 "metadata": {
  "kernelspec": {
   "display_name": "Python 3",
   "language": "python",
   "name": "python3"
  },
  "language_info": {
   "codemirror_mode": {
    "name": "ipython",
    "version": 3
   },
   "file_extension": ".py",
   "mimetype": "text/x-python",
   "name": "python",
   "nbconvert_exporter": "python",
   "pygments_lexer": "ipython3",
   "version": "3.7.6"
  }
 },
 "nbformat": 4,
 "nbformat_minor": 4
}
