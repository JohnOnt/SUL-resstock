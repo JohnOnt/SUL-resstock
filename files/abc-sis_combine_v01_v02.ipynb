{
 "cells": [
  {
   "cell_type": "markdown",
   "metadata": {},
   "source": [
    "## ABC Simple Installation System: Combine v01 and v02 results\n",
    "(savings relative to thermal loads) \\\n",
    "Created on: 10/12/2021 \\\n",
    "By: Lixi Liu (Lixi.Liu@nrel.gov)"
   ]
  },
  {
   "cell_type": "markdown",
   "metadata": {},
   "source": [
    "Note: change kernel to that of EULP Calibration & Validation before running"
   ]
  },
  {
   "cell_type": "code",
   "execution_count": null,
   "metadata": {},
   "outputs": [],
   "source": [
    "import pandas as pd\n",
    "import numpy as np\n",
    "import os\n",
    "import matplotlib.pyplot as plt\n",
    "print(f'Notebook path: {os.getcwd()}')\n",
    "from pathlib import Path\n",
    "import eulpcv.resstock_enduse_categories as res_enduse_categories"
   ]
  },
  {
   "cell_type": "markdown",
   "metadata": {},
   "source": [
    "### Download results online\n",
    "* unprocessed upgrade results: S3/resbldg-datasets/abc-sis"
   ]
  },
  {
   "cell_type": "markdown",
   "metadata": {},
   "source": [
    "### Initialize"
   ]
  },
  {
   "cell_type": "code",
   "execution_count": null,
   "metadata": {},
   "outputs": [],
   "source": [
    "# output directory\n",
    "pkg_version = f'packages' # <----- \n",
    "result_dir = Path('/Users/lliu2/Documents/ABC Simple Intall Sys/results')\n",
    "resdir = result_dir / pkg_version / 'processed results'\n",
    "\n",
    "## create folder for post-processed results:\n",
    "outdir = result_dir / pkg_version / 'result summary'\n",
    "plot_path = outdir / 'plots'\n",
    "\n",
    "os.makedirs(resdir, exist_ok=True)\n",
    "os.makedirs(outdir, exist_ok=True)\n",
    "os.makedirs(plot_path, exist_ok=True)\n",
    "\n",
    "print(f'Output directory: \\n   {outdir}')"
   ]
  },
  {
   "cell_type": "markdown",
   "metadata": {},
   "source": [
    "### Variables"
   ]
  },
  {
   "cell_type": "code",
   "execution_count": null,
   "metadata": {},
   "outputs": [],
   "source": [
    "# define what packages and upgrades to combine\n",
    "packages_to_combine = ['packages_v01', 'packages_v02'] # <---\n",
    "\n",
    "upgrades_by_packages_to_combine = {\n",
    "    'packages_v01': [1,2,3,4,5,9,10],\n",
    "    'packages_v02': [1,2,3,4,5]\n",
    "}\n",
    "\n",
    "upgrade_number_dict = {\n",
    "    \"Air Tight Envelope\": 1, #(v01)\n",
    "    \"Ultra Air Tight Envelope - Mec Vent\": 2, #(v01)\n",
    "    \"Ultra Air Tight Envelope - Rec Vent\": 3, #(v01)\n",
    "    \"Air Tight Envelope + Roof Insulation\": 4, #(v01)\n",
    "    \"Ultra Air Tight Envelope - Mech Vent + Roof Insulation\": 5, #(V01)\n",
    "    \"Air Tight Envelope + MSHP\": 6, #(v02, #1)\n",
    "    \"Ultra Air Tight Envelope - Mech Vent + MSHP\": 7, #(v02, #2)\n",
    "    \"Ultra Air Tight Envelope - Rec Vent + MSHP\": 8, #(v02, #3)\n",
    "    \"Air Tight Envelope + HPWH\": 9, #(v01)\n",
    "    \"Ultra Air Tight Envelope - Mech Vent + HPWH\": 10, #(v01)\n",
    "    \"Air Tight Envelope + MSHP _HPWH\": 11, #(v02, #4)\n",
    "    \"Ultra Air Tight Envelope - Rec Vent + MSHP + HPWH\": 12, #(v02, #5)    \n",
    "}\n",
    "\n",
    "print('combination process setting defined')"
   ]
  },
  {
   "cell_type": "markdown",
   "metadata": {},
   "source": [
    "## Baseline result"
   ]
  },
  {
   "cell_type": "code",
   "execution_count": null,
   "metadata": {},
   "outputs": [],
   "source": [
    "pkg = packages_to_combine[0]\n",
    "resdir_path = result_dir / pkg / 'processed results'\n",
    "\n",
    "res = pd.read_csv(resdir_path / 'results_up00.csv')\n",
    "\n",
    "res.to_csv(resdir / 'results_up00.csv', index=False)\n",
    "print('baseline result saved to new loc')"
   ]
  },
  {
   "cell_type": "markdown",
   "metadata": {},
   "source": [
    "## Combine packages and rename ###"
   ]
  },
  {
   "cell_type": "code",
   "execution_count": null,
   "metadata": {
    "scrolled": true
   },
   "outputs": [],
   "source": [
    "## get summary table\n",
    "summary_upgrades = []\n",
    "\n",
    "for pkg in packages_to_combine:\n",
    "    package_list = upgrades_by_packages_to_combine[pkg]\n",
    "    print(f'\\n>>> retrieving packages: {package_list} from {pkg}...')\n",
    "    resdir_path = result_dir / pkg / 'processed results'\n",
    "\n",
    "    for n in package_list:\n",
    "        p = pd.read_csv(resdir_path / f'results_up{n:02d}.csv')\n",
    "        print(f'  {pkg} - Package {n}')\n",
    "\n",
    "        upgrade_name = p['apply_upgrade.upgrade_name'].replace('',np.nan).dropna(axis=0).unique()[0]\n",
    "        upgrade_name_corrected = p['upgrade_name'].replace('',np.nan).dropna(axis=0).unique()[0]\n",
    "        upgrade_name_short = p['upgrade_name_short'].replace('',np.nan).dropna(axis=0).unique()[0]\n",
    "        package_no = upgrade_number_dict[upgrade_name]\n",
    "        p['package_no'] = package_no\n",
    "\n",
    "        # save processed results\n",
    "        p.to_csv(resdir / f'results_up{package_no:02d}.csv', index=False)\n",
    "\n",
    "        ### add to summary table\n",
    "        summ = pd.DataFrame(index=[0])\n",
    "        level0 = ''\n",
    "        summ[(level0, 'upgrade_no')] = package_no\n",
    "        summ[(level0, 'upgrade_name')] = upgrade_name_corrected\n",
    "        summ[(level0, 'upgrade_name_short')] = upgrade_name_short\n",
    "        summ[(level0, 'sample_weight')] = res['build_existing_model.sample_weight'].mean()\n",
    "        summ[(level0, 'n_applied')] = len(p)\n",
    "        summ[(level0, 'n_success')] = len(p[p['completed_status']=='Success'])\n",
    "        summ[(level0, 'n_fail')] = len(p[p['completed_status']=='Fail'])\n",
    "        summ[(level0, 'n_invalid')] = len(p[p['completed_status']=='Invalid'])\n",
    "        summ[(level0, 'pct_success')] = round(summ[(level0,'n_success')]/summ[(level0,'n_applied')]*100,3)\n",
    "        summ.columns = pd.MultiIndex.from_tuples(summ.columns)\n",
    "\n",
    "        para = ['mean','std', 'min','50%','max']\n",
    "        p = p[p['completed_status']=='Success'].reset_index(drop=True)\n",
    "\n",
    "        ## (0) Upgrade cost\n",
    "        summ = pd.concat([\n",
    "            summ,\n",
    "            p['upgrade_cost'].describe()[para].apply(lambda x: round(x, 2)).to_frame().unstack().to_frame().transpose()\n",
    "        ], axis=1)\n",
    "\n",
    "        ## (1) Baselines\n",
    "        consum = pd.DataFrame(index=[0])\n",
    "        level1 = 'baseline - mean'\n",
    "        # 1.1. Annual Totals\n",
    "        consum[(level1, 'total gas (therm)')] = round(\n",
    "            res.loc[p.index, 'simulation_output_report.total_site_natural_gas_therm'].mean(), \n",
    "            3)\n",
    "        consum[(level1, 'total elec (kwh)')] = round(\n",
    "            res.loc[p.index, 'simulation_output_report.total_site_electricity_kwh'].mean(), \n",
    "            3)\n",
    "        consum[(level1, 'total site (mbtu)')] = round(\n",
    "            res.loc[p.index, 'simulation_output_report.total_site_energy_mbtu'].mean(), \n",
    "            3)\n",
    "\n",
    "        # 1.2. Thermal Totals\n",
    "        consum[(level1, 'thermal gas (therm)')] = round(\n",
    "            res.loc[p.index, 'thermal_gas_therm'].mean(), \n",
    "            3)\n",
    "        consum[(level1, 'thermal elec (kwh)')] = round(\n",
    "            res.loc[p.index, 'thermal_elec_kwh'].mean(), \n",
    "            3)\n",
    "        consum[(level1, 'thermal site (mbtu)')] = round(\n",
    "            res.loc[p.index, 'thermal_site_mbtu'].mean(), \n",
    "            3)\n",
    "\n",
    "        # 1.3. Thermal EUIs\n",
    "        consum[(level1, 'thermal_gas_eui (therm/sqft)')] = round(\n",
    "            res.loc[p.index, 'gas_eui_thermpersqft'].mean(), \n",
    "            3)\n",
    "        consum[(level1, 'thermal_elec_eui (kwh/sqft)')] = round(\n",
    "            res.loc[p.index, 'elec_eui_kwhpersqft'].mean(), \n",
    "            3)\n",
    "        consum[(level1, 'thermal_site_eui (mbtu/sqft)')] = round(\n",
    "            res.loc[p.index, 'site_eui_mbtupersqft'].mean(), \n",
    "            3)\n",
    "\n",
    "        ## (2) Upgrades\n",
    "        level2 = 'upgrade - mean'\n",
    "        # 2.1. Annual Totals\n",
    "        consum[(level2, 'gas (therm)')] = round(p['simulation_output_report.total_site_natural_gas_therm'].mean(), 3)\n",
    "        consum[(level2, 'elec (kwh)')] = round(p['simulation_output_report.total_site_electricity_kwh'].mean(), 3)\n",
    "        consum[(level2, 'site (mbtu)')] = round(p['simulation_output_report.total_site_energy_mbtu'].mean(), 3)\n",
    "\n",
    "        # 2.2. EUIs\n",
    "        consum[(level2, 'gas_eui (therm/sqft)')] = round(p['gas_eui_thermpersqft'].mean(), 3)\n",
    "        consum[(level2, 'elec_eui (kwh/sqft)')] = round(p['elec_eui_kwhpersqft'].mean(), 3)\n",
    "        consum[(level2, 'site_eui (mbtu/sqft)')] = round(p['site_eui_mbtupersqft'].mean(), 3)\n",
    "\n",
    "        consum.columns = pd.MultiIndex.from_tuples(consum.columns)\n",
    "        summ = pd.concat([summ, consum], axis=1)\n",
    "\n",
    "\n",
    "        ## (3-1) Savings ##\n",
    "        level3 = 'savings'\n",
    "        # 3-1.1 Annual Totals\n",
    "        summ = pd.concat([\n",
    "            summ,\n",
    "            p['ann_therm_gas_saving'].describe()[para].apply(lambda x: round(x, 2)).to_frame().unstack().to_frame().transpose()\n",
    "        ], axis=1)\n",
    "        summ = pd.concat([\n",
    "            summ,\n",
    "            p['ann_kwh_elec_saving'].describe()[para].apply(lambda x: round(x, 2)).to_frame().unstack().to_frame().transpose()\n",
    "        ], axis=1)\n",
    "        summ = pd.concat([\n",
    "            summ,\n",
    "            p['ann_mbtu_site_energy_saving'].describe()[para].apply(lambda x: round(x, 2)).to_frame().unstack().to_frame().transpose()\n",
    "        ], axis=1)\n",
    "\n",
    "        summ = pd.concat([\n",
    "            summ,\n",
    "            p['pct_delta_gas_eui'].describe()[para].apply(lambda x: round(x, 2)).to_frame().unstack().to_frame().transpose()\n",
    "        ], axis=1)\n",
    "        summ = pd.concat([\n",
    "            summ,\n",
    "            p['pct_delta_elec_eui'].describe()[para].apply(lambda x: round(x, 2)).to_frame().unstack().to_frame().transpose()\n",
    "        ], axis=1)\n",
    "        summ = pd.concat([\n",
    "            summ,\n",
    "            p['pct_delta_site_eui'].describe()[para].apply(lambda x: round(x, 2)).to_frame().unstack().to_frame().transpose()\n",
    "        ], axis=1)\n",
    "\n",
    "\n",
    "\n",
    "        summary_upgrades.append(summ)\n",
    "    \n",
    "summary_upgrades = pd.concat(summary_upgrades).reset_index(drop=True)\n",
    "summary_upgrades\n"
   ]
  },
  {
   "cell_type": "code",
   "execution_count": null,
   "metadata": {},
   "outputs": [],
   "source": [
    "### export UPGRADE summary\n",
    "summary_upgrades.to_csv(outdir / f'upgrades_summary.csv', index=False)\n",
    "print(f'UPGRADE summary table saved to new loc')"
   ]
  },
  {
   "cell_type": "code",
   "execution_count": null,
   "metadata": {},
   "outputs": [],
   "source": []
  },
  {
   "cell_type": "code",
   "execution_count": null,
   "metadata": {},
   "outputs": [],
   "source": []
  }
 ],
 "metadata": {
  "kernelspec": {
   "display_name": "EULP-calibration-and-validation",
   "language": "python",
   "name": "eulp-calibration-and-validation"
  },
  "language_info": {
   "codemirror_mode": {
    "name": "ipython",
    "version": 3
   },
   "file_extension": ".py",
   "mimetype": "text/x-python",
   "name": "python",
   "nbconvert_exporter": "python",
   "pygments_lexer": "ipython3",
   "version": "3.8.5"
  }
 },
 "nbformat": 4,
 "nbformat_minor": 4
}
