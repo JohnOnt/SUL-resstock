{
 "cells": [
  {
   "cell_type": "code",
   "execution_count": 191,
   "id": "db22b178",
   "metadata": {},
   "outputs": [],
   "source": [
    "import plotly.graph_objects as go\n",
    "from plotly.subplots import make_subplots\n",
    "import plotly.express as px\n",
    "import pandas as pd\n",
    "import numpy as np\n",
    "from pathlib import Path"
   ]
  },
  {
   "cell_type": "markdown",
   "id": "4d6ffd8b",
   "metadata": {},
   "source": [
    "# Functions"
   ]
  },
  {
   "cell_type": "code",
   "execution_count": 192,
   "id": "b3675128",
   "metadata": {},
   "outputs": [],
   "source": [
    "def weighted_mean(x, metric: str):\n",
    "    if len(x[metric].dropna()) == 0:\n",
    "        res = 0\n",
    "    else:\n",
    "        res = (x[metric] * x[\"sample_weight\"]).sum()/x[\"sample_weight\"].sum()\n",
    "    col_name = f\"{metric} wt_mean\"\n",
    "    return pd.Series({col_name: res})\n",
    "\n",
    "def weighted_percentile(x, metric: str, percents: int):\n",
    "    col_name = f\"{metric} wt_p{percents}\"\n",
    "    res = _weighted_percentile(x[metric], percents, weights=x[\"sample_weight\"])\n",
    "    return pd.Series({col_name: res})\n",
    "\n",
    "def _weighted_percentile(data, percents: int, weights=None):\n",
    "    \"\"\"\n",
    "    perc : percentile in 0 - 1\n",
    "    \"\"\"\n",
    "    # dropna\n",
    "    idx = ~np.isnan(data) & ~np.isnan(weights)\n",
    "    data = np.array(data)[idx]\n",
    "    if len(data) == 0:\n",
    "        return np.nan\n",
    "    if weights is None:\n",
    "        return np.percentile(data, percents)\n",
    "    weights = np.array(weights)[idx]\n",
    "    ix = np.argsort(data)\n",
    "    data = data[ix] # sort data\n",
    "    weights = weights[ix] # sort weights\n",
    "    cdf = (np.cumsum(weights) - 0.5 * weights) / np.sum(weights) # 'like' a CDF function\n",
    "    return np.interp(percents, cdf, data)\n",
    "\n",
    "def get_summary(df, metric, lower_percentile=0.10, middle_percentile1=0.25, middle_percentile2=0.75, upper_percentile=0.90):\n",
    "    dfgb = df.groupby([\"upgrade_name\"])\n",
    "    dfs = pd.concat([\n",
    "        dfgb[\"sample_weight\"].count().rename(\"n_samples\"),\n",
    "        dfgb[\"sample_weight\"].sum().rename(\"n_represented\"),\n",
    "        dfgb.apply(lambda x: weighted_mean(x, metric)),\n",
    "        dfgb.apply(lambda x: weighted_percentile(x, metric, percents=lower_percentile)),\n",
    "        dfgb.apply(lambda x: weighted_percentile(x, metric, percents=middle_percentile1)),\n",
    "        dfgb.apply(lambda x: weighted_percentile(x, metric, percents=middle_percentile2)),\n",
    "        dfgb.apply(lambda x: weighted_percentile(x, metric, percents=upper_percentile)),\n",
    "    ], axis=1)\n",
    "    dfs = dfs.sort_values(by=f\"{metric} wt_mean\", ascending=False)\n",
    "\n",
    "    return dfs"
   ]
  },
  {
   "cell_type": "markdown",
   "id": "e2c92a98",
   "metadata": {},
   "source": [
    "## Whole Community Upgrade Cost Per Dwelling Unit"
   ]
  },
  {
   "cell_type": "code",
   "execution_count": 193,
   "id": "db8bfb6a",
   "metadata": {},
   "outputs": [],
   "source": [
    "def community_mean_upgrade_cost(commnity_results):\n",
    "    results = commnity_results[['upgrade_name',\n",
    "                       'upgrade_cost_usd',\n",
    "                                'sample_weight']]\n",
    "    results = results.loc[results['upgrade_name'] != 'baseline']\n",
    "    results['upgrade_cost_usd'] = results['upgrade_cost_usd']*results['sample_weight']\n",
    "    \n",
    "    agg_functions = {'upgrade_name': 'first',\n",
    "                     'upgrade_cost_usd': 'sum',\n",
    "                    'sample_weight': 'sum'}\n",
    "    results = results.groupby(results['upgrade_name']).aggregate(agg_functions)\n",
    "    results['upgrade_cost_usd'] = results['upgrade_cost_usd']/results['sample_weight']\n",
    "    results = results.sort_values('upgrade_cost_usd')\n",
    "    results['upgrade_cost_usd'] = results['upgrade_cost_usd'].round(1) \n",
    "    \n",
    "    print('upgrade_cost_usd per dwelling unit')\n",
    "    display(results['upgrade_cost_usd'])\n",
    "    return results['upgrade_cost_usd']"
   ]
  },
  {
   "cell_type": "markdown",
   "id": "0a8130e7",
   "metadata": {},
   "source": [
    "## Whole Community Total Annual Savings"
   ]
  },
  {
   "cell_type": "code",
   "execution_count": 194,
   "id": "eaa95d01",
   "metadata": {},
   "outputs": [],
   "source": [
    "# flavor 1 - with electricity and non-electricity split\n",
    "def figure_total_savings_1(commnity_results):\n",
    "    results = commnity_results[['upgrade_name',\n",
    "                       'saving_energy.electricity_kwh',\n",
    "                      'saving_energy.natural_gas_therm',\n",
    "                                'saving_energy.fuel_oil_mmbtu',\n",
    "                                'saving_energy.propane_mmbtu',\n",
    "                       'saving_cbill.total_usd',\n",
    "                       'saving_emission.total_kgCO2e',\n",
    "                                'sample_weight']]\n",
    "    results = results.loc[results['upgrade_name'] != 'baseline']\n",
    "    results['saving_energy.natural_gas_fuel_oil_propane_mmbtu'] = results['saving_energy.natural_gas_therm']*0.1 + results['saving_energy.fuel_oil_mmbtu']+ results['saving_energy.propane_mmbtu']\n",
    "    results['saving_energy.electricity_kwh'] = results['saving_energy.electricity_kwh']*results['sample_weight']\n",
    "    results['saving_energy.natural_gas_fuel_oil_propane_mmbtu'] = results['saving_energy.natural_gas_fuel_oil_propane_mmbtu']*results['sample_weight']\n",
    "    results['saving_cbill.total_usd'] = results['saving_cbill.total_usd']*results['sample_weight']\n",
    "    results['saving_emission.total_kgCO2e'] = results['saving_emission.total_kgCO2e']*results['sample_weight']\n",
    "    \n",
    "    agg_functions = {'upgrade_name': 'first',\n",
    "                     'saving_energy.electricity_kwh': 'sum',\n",
    "                     'saving_energy.natural_gas_fuel_oil_propane_mmbtu': 'sum', \n",
    "                     'saving_cbill.total_usd': 'sum',\n",
    "                     'saving_emission.total_kgCO2e': 'sum'}\n",
    "    results = results.groupby(results['upgrade_name']).aggregate(agg_functions)\n",
    "    results = results.sort_values('saving_cbill.total_usd')\n",
    "    \n",
    "    fig = make_subplots(rows=1, cols=5, horizontal_spacing=0.12, column_widths=[0.001, 1, 1, 1, 1])\n",
    "    \n",
    "    fig.add_trace(go.Bar(\n",
    "        x=[0] * 176,\n",
    "        y=results['upgrade_name'],\n",
    "        text=None,\n",
    "        orientation='h'), row=1, col=1)\n",
    "    \n",
    "    fig.add_trace(go.Bar(\n",
    "        x=results['saving_cbill.total_usd'],\n",
    "        y=results['upgrade_name'],\n",
    "        text=results['saving_cbill.total_usd'],\n",
    "        orientation='h'), row=1, col=2)\n",
    "    \n",
    "    fig.add_trace(go.Bar(\n",
    "        x=results['saving_emission.total_kgCO2e'],\n",
    "        y=results['upgrade_name'],\n",
    "        text=results['saving_emission.total_kgCO2e'],\n",
    "        orientation='h'),row=1, col=3)\n",
    "    \n",
    "    fig.add_trace(go.Bar(\n",
    "        x=results['saving_energy.electricity_kwh'],\n",
    "        y=results['upgrade_name'],\n",
    "        text=results['saving_energy.electricity_kwh'],\n",
    "        orientation='h'),row=1, col=4)\n",
    "    \n",
    "    fig.add_trace(go.Bar(\n",
    "        x=results['saving_energy.natural_gas_fuel_oil_propane_mmbtu'],\n",
    "        y=results['upgrade_name'],\n",
    "        text=results['saving_energy.natural_gas_fuel_oil_propane_mmbtu'],\n",
    "        orientation='h'),row=1, col=5)\n",
    "\n",
    "    fig.update_traces(textfont_size=10, textangle=0, textposition=\"outside\", cliponaxis=False)\n",
    "    fig.update_traces(marker_color='rgb(0, 121, 61)', marker_line_color='rgb(0, 121, 61)')\n",
    "    fig.update_traces(marker_color='rgb(255, 255, 255)', marker_line_color='rgb(255, 255, 255)',row=1,col=1)\n",
    "    fig.update_traces(texttemplate='%{text:.3s}', textposition='outside',row=1,col=2)\n",
    "    fig.update_traces(texttemplate='%{text:.3s}', textposition='outside',row=1,col=3)\n",
    "    fig.update_traces(texttemplate='%{text:.3s}', textposition='outside',row=1,col=4)\n",
    "    fig.update_traces(texttemplate='%{text:.3s}', textposition='outside',row=1,col=5)\n",
    "    fig.update_layout(xaxis_title=\"\", xaxis_visible=False, yaxis_visible=True,\n",
    "                      xaxis2_title=\"Bill<br>Savings<br>usd\", xaxis2_visible=True, yaxis2_visible=False,\n",
    "                      xaxis3_title=\"Emission<br>Savings<br>kgCO2e\", xaxis3_visible=True, yaxis3_visible=False,\n",
    "                      xaxis4_title=\"Electricity<br>Savings<br>kwh\", xaxis4_visible=True, yaxis4_visible=False,\n",
    "                      xaxis5_title=\"Gas, Propane,<br>Fuel Oil Savings<br>mmbtu\", xaxis5_visible=True, yaxis5_visible=False,\n",
    "                     title='Total Annual Savings for the Whole Community')\n",
    "    fig.update_layout(\n",
    "    autosize=False,\n",
    "    width=900,\n",
    "    height=500,\n",
    "    font=dict(size=10),\n",
    "    plot_bgcolor='rgba(0, 0, 0, 0)',)\n",
    "    fig.update_xaxes(tickangle=45)\n",
    "    fig.update_layout(showlegend=False)\n",
    "    \n",
    "    fig.show()\n",
    "    fig.write_image(fig_dir / 'total_annual_savings_1.svg')    \n",
    "\n",
    "# flavor 2 - site, electricity, and non-electricity\n",
    "def figure_total_savings_2(commnity_results):\n",
    "    results = commnity_results[[\n",
    "        'upgrade_name',\n",
    "        'saving_energy.total_mmbtu',\n",
    "        'saving_energy.electricity_kwh',\n",
    "        'saving_energy.natural_gas_therm',\n",
    "        'saving_energy.fuel_oil_mmbtu',\n",
    "        'saving_energy.propane_mmbtu',\n",
    "        'saving_cbill.total_usd',\n",
    "        'saving_emission.total_kgCO2e',\n",
    "        'sample_weight']]\n",
    "    results = results.loc[results['upgrade_name'] != 'baseline']\n",
    "    results['saving_energy.natural_gas_fuel_oil_propane_mmbtu'] = results['saving_energy.natural_gas_therm']*0.1 + results['saving_energy.fuel_oil_mmbtu']+ results['saving_energy.propane_mmbtu']\n",
    "    results['saving_energy.electricity_kwh'] = results['saving_energy.electricity_kwh']*results['sample_weight']\n",
    "    results['saving_energy.natural_gas_fuel_oil_propane_mmbtu'] = results['saving_energy.natural_gas_fuel_oil_propane_mmbtu']*results['sample_weight']\n",
    "    results['saving_cbill.total_usd'] = results['saving_cbill.total_usd']*results['sample_weight']\n",
    "    results['saving_emission.total_kgCO2e'] = results['saving_emission.total_kgCO2e']*results['sample_weight']\n",
    "    \n",
    "    agg_functions = {'upgrade_name': 'first',\n",
    "                     'saving_energy.electricity_kwh': 'sum',\n",
    "                     'saving_energy.natural_gas_fuel_oil_propane_mmbtu': 'sum', \n",
    "                      'saving_energy.total_mmbtu': 'sum', \n",
    "                     'saving_cbill.total_usd': 'sum',\n",
    "                     'saving_emission.total_kgCO2e': 'sum'}\n",
    "    results = results.groupby(results['upgrade_name']).aggregate(agg_functions)\n",
    "    results = results.sort_values('saving_cbill.total_usd')\n",
    "    \n",
    "    fig = make_subplots(rows=1, cols=6, horizontal_spacing=0.12, column_widths=[0.001, 1, 1, 1, 1, 1])\n",
    "    \n",
    "    fig.add_trace(go.Bar(\n",
    "        x=[0] * 176,\n",
    "        y=results['upgrade_name'],\n",
    "        text=None,\n",
    "        orientation='h'), row=1, col=1)\n",
    "    \n",
    "    fig.add_trace(go.Bar(\n",
    "        x=results['saving_cbill.total_usd'],\n",
    "        y=results['upgrade_name'],\n",
    "        text=results['saving_cbill.total_usd'],\n",
    "        orientation='h'), row=1, col=2)\n",
    "    \n",
    "    fig.add_trace(go.Bar(\n",
    "        x=results['saving_emission.total_kgCO2e'],\n",
    "        y=results['upgrade_name'],\n",
    "        text=results['saving_emission.total_kgCO2e'],\n",
    "        orientation='h'),row=1, col=3)\n",
    "\n",
    "    fig.add_trace(go.Bar(\n",
    "        x=results['saving_energy.total_mmbtu'],\n",
    "        y=results['upgrade_name'],\n",
    "        text=results['saving_energy.total_mmbtu'],\n",
    "        orientation='h'),row=1, col=4)\n",
    "    \n",
    "    fig.add_trace(go.Bar(\n",
    "        x=results['saving_energy.electricity_kwh'],\n",
    "        y=results['upgrade_name'],\n",
    "        text=results['saving_energy.electricity_kwh'],\n",
    "        orientation='h'),row=1, col=5)\n",
    "    \n",
    "    fig.add_trace(go.Bar(\n",
    "        x=results['saving_energy.natural_gas_fuel_oil_propane_mmbtu'],\n",
    "        y=results['upgrade_name'],\n",
    "        text=results['saving_energy.natural_gas_fuel_oil_propane_mmbtu'],\n",
    "        orientation='h'),row=1, col=6)\n",
    "\n",
    "    fig.update_traces(textfont_size=10, textangle=0, textposition=\"outside\", cliponaxis=False)\n",
    "    fig.update_traces(marker_color='rgb(0, 121, 61)', marker_line_color='rgb(0, 121, 61)')\n",
    "    fig.update_traces(marker_color='rgb(255, 255, 255)', marker_line_color='rgb(255, 255, 255)',row=1,col=1)\n",
    "    fig.update_traces(texttemplate='%{text:.3s}', textposition='outside',row=1,col=2)\n",
    "    fig.update_traces(texttemplate='%{text:.3s}', textposition='outside',row=1,col=3)\n",
    "    fig.update_traces(texttemplate='%{text:.3s}', textposition='outside',row=1,col=4)\n",
    "    fig.update_traces(texttemplate='%{text:.3s}', textposition='outside',row=1,col=5)\n",
    "    fig.update_traces(texttemplate='%{text:.3s}', textposition='outside',row=1,col=6)\n",
    "    fig.update_layout(xaxis_title=\"\", xaxis_visible=False, yaxis_visible=True,\n",
    "                      xaxis2_title=\"Bill<br>Savings<br>usd\", xaxis2_visible=True, yaxis2_visible=False,\n",
    "                      xaxis3_title=\"Site Emission<br>Saving<br>kgCO2e\", xaxis3_visible=True, yaxis3_visible=False,\n",
    "                      xaxis4_title=\"Site Energy<br>Saving<br>mmbtu\", xaxis4_visible=True, yaxis4_visible=False,\n",
    "                      xaxis5_title=\"Electricity<br>Saving<br>kwh\", xaxis5_visible=True, yaxis5_visible=False,\n",
    "                      xaxis6_title=\"Gas, Propane,<br>Fuel Oil Saving<br>mmbtu\", xaxis6_visible=True, yaxis6_visible=False,\n",
    "                     title='Community Total Annual Savings')\n",
    "    fig.update_layout(\n",
    "    autosize=False,\n",
    "    width=1100,\n",
    "    height=500,\n",
    "    font=dict(size=10),\n",
    "    plot_bgcolor='rgba(0, 0, 0, 0)',)\n",
    "    fig.update_xaxes(tickangle=45)\n",
    "    fig.update_layout(showlegend=False)\n",
    "    \n",
    "    fig.show()\n",
    "    fig.write_image(fig_dir / 'total_annual_savings_2.svg')\n",
    "    \n",
    "    return results[['saving_cbill.total_usd','saving_emission.total_kgCO2e','saving_energy.total_mmbtu','saving_energy.electricity_kwh','saving_energy.natural_gas_fuel_oil_propane_mmbtu']]\n",
    "\n",
    "# flavor 3 - site energy only\n",
    "def figure_total_savings_3(commnity_results):\n",
    "    results = commnity_results[[\n",
    "        'upgrade_name',\n",
    "        'saving_energy.total_mmbtu',\n",
    "        'saving_cbill.total_usd',\n",
    "        'saving_emission.total_kgCO2e',\n",
    "        'sample_weight']]\n",
    "    results = results.loc[results['upgrade_name'] != 'baseline']\n",
    "    results['saving_energy.total_mmbtu'] = results['saving_energy.total_mmbtu']*results['sample_weight']\n",
    "    results['saving_cbill.total_usd'] = results['saving_cbill.total_usd']*results['sample_weight']\n",
    "    results['saving_emission.total_kgCO2e'] = results['saving_emission.total_kgCO2e']*results['sample_weight']\n",
    "    \n",
    "    agg_functions = {'upgrade_name': 'first',\n",
    "                     'saving_energy.total_mmbtu': 'sum', \n",
    "                     'saving_cbill.total_usd': 'sum',\n",
    "                     'saving_emission.total_kgCO2e': 'sum'}\n",
    "    results = results.groupby(results['upgrade_name']).aggregate(agg_functions)\n",
    "    results = results.sort_values('saving_cbill.total_usd')\n",
    "    \n",
    "    fig = make_subplots(rows=1, cols=4, horizontal_spacing=0.1, column_widths=[0.02, 1, 1, 1])\n",
    "    \n",
    "    fig.add_trace(go.Bar(\n",
    "        x=[0] * 176,\n",
    "        y=results['upgrade_name'],\n",
    "        text=None,\n",
    "        orientation='h'), row=1, col=1)\n",
    "    \n",
    "    fig.add_trace(go.Bar(\n",
    "        x=results['saving_cbill.total_usd'],\n",
    "        y=results['upgrade_name'],\n",
    "        text=results['saving_cbill.total_usd'],\n",
    "        orientation='h'), row=1, col=2)\n",
    "    \n",
    "    fig.add_trace(go.Bar(\n",
    "        x=results['saving_emission.total_kgCO2e'],\n",
    "        y=results['upgrade_name'],\n",
    "        text=results['saving_emission.total_kgCO2e'],\n",
    "        orientation='h'),row=1, col=3)\n",
    "    \n",
    "    fig.add_trace(go.Bar(\n",
    "        x=results['saving_energy.total_mmbtu'],\n",
    "        y=results['upgrade_name'],\n",
    "        text=results['saving_energy.total_mmbtu'],\n",
    "        orientation='h'),row=1, col=4)\n",
    "\n",
    "    fig.update_traces(textfont_size=10, textangle=0, textposition=\"outside\", cliponaxis=False)\n",
    "    fig.update_traces(marker_color='rgb(0, 121, 61)', marker_line_color='rgb(0, 121, 61)')\n",
    "    fig.update_traces(marker_color='rgb(255, 255, 255)', marker_line_color='rgb(255, 255, 255)',row=1,col=1)\n",
    "    fig.update_traces(texttemplate='%{text:.3s}', textposition='outside',row=1,col=2)\n",
    "    fig.update_traces(texttemplate='%{text:.3s}', textposition='outside',row=1,col=3)\n",
    "    fig.update_traces(texttemplate='%{text:.3s}', textposition='outside',row=1,col=4)\n",
    "    fig.update_layout(xaxis_title=\"\", xaxis_visible=False, yaxis_visible=True,\n",
    "                      xaxis2_title=\"Bill Savings<br>usd\", xaxis2_visible=True, yaxis2_visible=False,\n",
    "                      xaxis3_title=\"Emission Savings<br>kgCO2e\", xaxis3_visible=True, yaxis3_visible=False,\n",
    "                      xaxis4_title=\"Energy Savings<br>mmbtu\", xaxis4_visible=True, yaxis4_visible=False,\n",
    "                     title='Total Annual Savings for the Whole Community')\n",
    "    fig.update_layout(\n",
    "    autosize=False,\n",
    "    width=850,\n",
    "    height=500,\n",
    "    font=dict(size=10),\n",
    "    plot_bgcolor='rgba(0, 0, 0, 0)',)\n",
    "    fig.update_xaxes(tickangle=45)\n",
    "    fig.update_layout(showlegend=False)\n",
    "    \n",
    "    fig.show()\n",
    "    fig.write_image(fig_dir / 'total_annual_savings_3.svg')"
   ]
  },
  {
   "cell_type": "markdown",
   "id": "5e598a0f",
   "metadata": {},
   "source": [
    "## Whole Community Annual Savings Per Dewlling Unit"
   ]
  },
  {
   "cell_type": "code",
   "execution_count": 195,
   "id": "7df58f8e",
   "metadata": {},
   "outputs": [],
   "source": [
    "def figure_mean_savings(commnity_results):\n",
    "    results = commnity_results[['upgrade_name',\n",
    "                       'saving_energy.total_mmbtu',\n",
    "                       'saving_cbill.total_usd',\n",
    "                       'saving_emission.total_kgCO2e',\n",
    "                                'sample_weight']]\n",
    "    results = results.loc[results['upgrade_name'] != 'baseline']\n",
    "    results['saving_energy.total_mmbtu'] = results['saving_energy.total_mmbtu']*results['sample_weight']\n",
    "    results['saving_cbill.total_usd'] = results['saving_cbill.total_usd']*results['sample_weight']\n",
    "    results['saving_emission.total_kgCO2e'] = results['saving_emission.total_kgCO2e']*results['sample_weight']\n",
    "    \n",
    "    agg_functions = {'upgrade_name': 'first',\n",
    "                     'saving_energy.total_mmbtu': 'sum', \n",
    "                     'saving_cbill.total_usd': 'sum',\n",
    "                     'saving_emission.total_kgCO2e': 'sum',\n",
    "                    'sample_weight': 'sum'}\n",
    "    results = results.groupby(results['upgrade_name']).aggregate(agg_functions)\n",
    "    results['saving_energy.total_mmbtu'] = results['saving_energy.total_mmbtu']/results['sample_weight']\n",
    "    results['saving_cbill.total_usd'] = results['saving_cbill.total_usd']/results['sample_weight']\n",
    "    results['saving_emission.total_kgCO2e'] = results['saving_emission.total_kgCO2e']/results['sample_weight']\n",
    "    results = results.sort_values('saving_cbill.total_usd')\n",
    "    \n",
    "    print('sample_weight')\n",
    "    display(results['sample_weight'])\n",
    "  \n",
    "    fig = make_subplots(rows=1, cols=4, horizontal_spacing=0.1, column_widths=[0.02, 1, 1, 1])\n",
    "    \n",
    "    fig.add_trace(go.Bar(\n",
    "        x=[0] * 176,\n",
    "        y=results['upgrade_name'],\n",
    "        text=None,\n",
    "        orientation='h'), row=1, col=1)\n",
    "    \n",
    "    fig.add_trace(go.Bar(\n",
    "        x=results['saving_cbill.total_usd'],\n",
    "        y=results['upgrade_name'],\n",
    "        text=results['saving_cbill.total_usd'],\n",
    "        orientation='h'), row=1, col=2)\n",
    "    \n",
    "    fig.add_trace(go.Bar(\n",
    "        x=results['saving_emission.total_kgCO2e'],\n",
    "        y=results['upgrade_name'],\n",
    "        text=results['saving_emission.total_kgCO2e'],\n",
    "        orientation='h'),row=1, col=3)\n",
    "    \n",
    "    fig.add_trace(go.Bar(\n",
    "        x=results['saving_energy.total_mmbtu'],\n",
    "        y=results['upgrade_name'],\n",
    "        text=results['saving_energy.total_mmbtu'],\n",
    "        orientation='h'),row=1, col=4)\n",
    "\n",
    "    fig.update_traces(textfont_size=10, textangle=0, textposition=\"outside\", cliponaxis=False)\n",
    "    fig.update_traces(marker_color='rgb(0, 121, 61)', marker_line_color='rgb(0, 121, 61)')\n",
    "    fig.update_traces(marker_color='rgb(255, 255, 255)', marker_line_color='rgb(255, 255, 255)',row=1,col=1)\n",
    "    fig.update_traces(texttemplate='%{text:.3s}', textposition='outside',row=1,col=2)\n",
    "    fig.update_traces(texttemplate='%{text:.3s}', textposition='outside',row=1,col=3)\n",
    "    fig.update_traces(texttemplate='%{text:.3s}', textposition='outside',row=1,col=4)\n",
    "    fig.update_layout(xaxis_title=\"\", xaxis_visible=False, yaxis_visible=True,\n",
    "                      xaxis2_title=\"Bill Savings<br>usd\", xaxis2_visible=True, yaxis2_visible=False,\n",
    "                      xaxis3_title=\"Emission Savings<br>kgCO2e\", xaxis3_visible=True, yaxis3_visible=False,\n",
    "                      xaxis4_title=\"Energy Savings<br>mmbtu\", xaxis4_visible=True, yaxis4_visible=False,\n",
    "                     title='Annual Savings Per Dwelling Unit')\n",
    "    fig.update_layout(\n",
    "    autosize=False,\n",
    "    width=850,\n",
    "    height=500,\n",
    "    font=dict(size=10),\n",
    "    plot_bgcolor='rgba(0, 0, 0, 0)',)\n",
    "    fig.update_xaxes(tickangle=45)\n",
    "    fig.update_layout(showlegend=False)\n",
    "    \n",
    "    fig.show()\n",
    "    fig.write_image(fig_dir / 'annual_saving_per_dwelling_unit.svg')\n",
    "    \n",
    "    return results[['saving_cbill.total_usd','saving_emission.total_kgCO2e','saving_energy.total_mmbtu']]"
   ]
  },
  {
   "cell_type": "markdown",
   "id": "629953b2",
   "metadata": {},
   "source": [
    "## Segment Upgrade Cost Per Dwelling Unit"
   ]
  },
  {
   "cell_type": "code",
   "execution_count": 196,
   "id": "b17b036c",
   "metadata": {},
   "outputs": [],
   "source": [
    "def segment_mean_upgrade_cost(commnity_results):\n",
    "    results = commnity_results[['upgrade_name',\n",
    "                       'upgrade_cost_usd',\n",
    "                                'sample_weight',\n",
    "                                'segment']]\n",
    "    results = results.loc[results['upgrade_name'] != 'baseline']\n",
    "    results['upgrade_cost_usd'] = results['upgrade_cost_usd']*results['sample_weight']\n",
    "    \n",
    "    segment1 = results.loc[results['segment'] == 'segment1']\n",
    "    segment2 = results.loc[results['segment'] == 'segment2']\n",
    "    segment3 = results.loc[results['segment'] == 'segment3']\n",
    "    \n",
    "    agg_functions = {'upgrade_name': 'first',\n",
    "                     'segment': 'first',\n",
    "                     'upgrade_cost_usd': 'sum',\n",
    "                    'sample_weight': 'sum'}\n",
    "    \n",
    "    segment1 = segment1.groupby(segment1['upgrade_name']).aggregate(agg_functions)\n",
    "    segment2 = segment2.groupby(segment2['upgrade_name']).aggregate(agg_functions)\n",
    "    segment3 = segment3.groupby(segment3['upgrade_name']).aggregate(agg_functions)\n",
    "    \n",
    "    segment1['upgrade_cost_usd'] = segment1['upgrade_cost_usd']/segment1['sample_weight']\n",
    "    segment2['upgrade_cost_usd'] = segment2['upgrade_cost_usd']/segment2['sample_weight']\n",
    "    segment3['upgrade_cost_usd'] = segment3['upgrade_cost_usd']/segment3['sample_weight']\n",
    "    \n",
    "    segment1 = segment1.sort_values('upgrade_cost_usd')\n",
    "    segment2 = segment2.sort_values('upgrade_cost_usd')\n",
    "    segment3 = segment3.sort_values('upgrade_cost_usd')\n",
    "    \n",
    "    segment1['upgrade_cost_usd'] = segment1['upgrade_cost_usd'].round(1)\n",
    "    segment2['upgrade_cost_usd'] = segment2['upgrade_cost_usd'].round(1)\n",
    "    segment3['upgrade_cost_usd'] = segment3['upgrade_cost_usd'].round(1)\n",
    "    \n",
    "    print('segment1: upgrade cost (usd) per dwelling unit')\n",
    "    display(segment1['upgrade_cost_usd'])\n",
    "    print('segment2: upgrade cost (usd) per dwelling unit')\n",
    "    display(segment2['upgrade_cost_usd'])\n",
    "    print('segment3: upgrade cost (usd) per dwelling unit')\n",
    "    display(segment3['upgrade_cost_usd'])\n",
    "    return (segment1['upgrade_cost_usd'], segment2['upgrade_cost_usd'], segment3['upgrade_cost_usd'])"
   ]
  },
  {
   "cell_type": "markdown",
   "id": "2233e9eb",
   "metadata": {},
   "source": [
    "## Segment Savings Per Dollar Invested"
   ]
  },
  {
   "cell_type": "code",
   "execution_count": 197,
   "id": "b63f0b29",
   "metadata": {},
   "outputs": [],
   "source": [
    "def segment_savings_per_dollar(indicator, commnity_results):\n",
    "    \n",
    "    results = commnity_results[['upgrade_name', indicator, 'upgrade_cost_usd', 'sample_weight', 'segment']]\n",
    "    results = results.loc[results['upgrade_name'] != 'baseline']\n",
    "    results[indicator] = results[indicator]*results['sample_weight']\n",
    "    results['upgrade_cost_usd'] = results['upgrade_cost_usd']*results['sample_weight']\n",
    "    \n",
    "    segment1 = results.loc[results['segment'] == 'segment1']\n",
    "    segment2 = results.loc[results['segment'] == 'segment2']\n",
    "    segment3 = results.loc[results['segment'] == 'segment3']\n",
    "    \n",
    "    agg_functions = {'upgrade_name': 'first',\n",
    "                     indicator: 'sum',\n",
    "                     'upgrade_cost_usd': 'sum',\n",
    "                     'sample_weight': 'sum'}\n",
    "    \n",
    "    segment1_agg = segment1.groupby(segment1['upgrade_name']).aggregate(agg_functions)\n",
    "    segment2_agg = segment2.groupby(segment2['upgrade_name']).aggregate(agg_functions)\n",
    "    segment3_agg = segment3.groupby(segment3['upgrade_name']).aggregate(agg_functions)\n",
    "    \n",
    "    segment1_agg[indicator] = segment1_agg[indicator]/segment1_agg['upgrade_cost_usd']\n",
    "    segment2_agg[indicator] = segment2_agg[indicator]/segment2_agg['upgrade_cost_usd']\n",
    "    segment3_agg[indicator] = segment3_agg[indicator]/segment3_agg['upgrade_cost_usd']\n",
    "    \n",
    "    segment1_agg = segment1_agg.sort_values([indicator], ascending=False)\n",
    "    segment2_agg = segment2_agg.sort_values([indicator], ascending=False)\n",
    "    segment3_agg = segment3_agg.sort_values([indicator], ascending=False)\n",
    "    \n",
    "    segment1_agg[indicator] = segment1_agg[indicator].round(5)\n",
    "    segment2_agg[indicator] = segment2_agg[indicator].round(5)\n",
    "    segment3_agg[indicator] = segment3_agg[indicator].round(5)\n",
    "    \n",
    "    print('segment1')\n",
    "    display(segment1_agg[indicator])\n",
    "    print('segment2')\n",
    "    display(segment2_agg[indicator])\n",
    "    print('segment3')\n",
    "    display(segment3_agg[indicator])\n",
    "    \n",
    "    return (segment1_agg[indicator],segment2_agg[indicator],segment3_agg[indicator])"
   ]
  },
  {
   "cell_type": "markdown",
   "id": "4578ff09",
   "metadata": {},
   "source": [
    "## Segment Annual Total Savings"
   ]
  },
  {
   "cell_type": "code",
   "execution_count": 198,
   "id": "f1de1889",
   "metadata": {},
   "outputs": [],
   "source": [
    "def segment_annual_total_savings(indicator, commnity_results):\n",
    "    \n",
    "    results = commnity_results[['upgrade_name', indicator, 'sample_weight', 'segment']]\n",
    "    results = results.loc[results['upgrade_name'] != 'baseline']\n",
    "    results[indicator] = results[indicator]*results['sample_weight']\n",
    "    \n",
    "    segment1 = results.loc[results['segment'] == 'segment1']\n",
    "    segment2 = results.loc[results['segment'] == 'segment2']\n",
    "    segment3 = results.loc[results['segment'] == 'segment3']\n",
    "    \n",
    "    agg_functions = {'upgrade_name': 'first',\n",
    "                     indicator: 'sum',\n",
    "                    'sample_weight': 'sum'}\n",
    "    \n",
    "    segment1_agg = segment1.groupby(segment1['upgrade_name']).aggregate(agg_functions)\n",
    "    segment2_agg = segment2.groupby(segment2['upgrade_name']).aggregate(agg_functions)\n",
    "    segment3_agg = segment3.groupby(segment3['upgrade_name']).aggregate(agg_functions)\n",
    "    \n",
    "    segment1_agg = segment1_agg.sort_values([indicator], ascending=False)\n",
    "    segment2_agg = segment2_agg.sort_values([indicator], ascending=False)\n",
    "    segment3_agg = segment3_agg.sort_values([indicator], ascending=False)\n",
    "    \n",
    "    segment1_agg[indicator] = segment1_agg[indicator].round(1)\n",
    "    segment2_agg[indicator] = segment2_agg[indicator].round(1)\n",
    "    segment3_agg[indicator] = segment3_agg[indicator].round(1)\n",
    "\n",
    "    print('segment1')\n",
    "    display(segment1_agg[indicator])\n",
    "    print('segment2')\n",
    "    display(segment2_agg[indicator])\n",
    "    print('segment3')\n",
    "    display(segment3_agg[indicator])\n",
    "    \n",
    "    return (segment1_agg[indicator],segment2_agg[indicator],segment3_agg[indicator])"
   ]
  },
  {
   "cell_type": "markdown",
   "id": "102d90f1",
   "metadata": {},
   "source": [
    "## Segment Annual Savings Per Dwelling Unit"
   ]
  },
  {
   "cell_type": "code",
   "execution_count": 199,
   "id": "6b74793b",
   "metadata": {},
   "outputs": [],
   "source": [
    "def segment_mean_savings(indicator, commnity_results):\n",
    "    \n",
    "    results = commnity_results[['upgrade_name', indicator, 'sample_weight', 'segment']]\n",
    "    results = results.loc[results['upgrade_name'] != 'baseline']\n",
    "    results[indicator] = results[indicator]*results['sample_weight']\n",
    "    \n",
    "    segment1 = results.loc[results['segment'] == 'segment1']\n",
    "    segment2 = results.loc[results['segment'] == 'segment2']\n",
    "    segment3 = results.loc[results['segment'] == 'segment3']\n",
    "    \n",
    "    agg_functions = {'upgrade_name': 'first',\n",
    "                     indicator: 'sum',\n",
    "                    'sample_weight': 'sum'}\n",
    "    \n",
    "    segment1_agg = segment1.groupby(segment1['upgrade_name']).aggregate(agg_functions)\n",
    "    segment2_agg = segment2.groupby(segment2['upgrade_name']).aggregate(agg_functions)\n",
    "    segment3_agg = segment3.groupby(segment3['upgrade_name']).aggregate(agg_functions)\n",
    "    \n",
    "    segment1_agg[indicator] = segment1_agg[indicator]/segment1_agg['sample_weight']\n",
    "    segment2_agg[indicator] = segment2_agg[indicator]/segment2_agg['sample_weight']\n",
    "    segment3_agg[indicator] = segment3_agg[indicator]/segment3_agg['sample_weight']\n",
    "    \n",
    "    segment1_agg = segment1_agg.sort_values([indicator], ascending=False)\n",
    "    segment2_agg = segment2_agg.sort_values([indicator], ascending=False)\n",
    "    segment3_agg = segment3_agg.sort_values([indicator], ascending=False)\n",
    "    \n",
    "    segment1_agg[indicator] = segment1_agg[indicator].round(1)\n",
    "    segment2_agg[indicator] = segment2_agg[indicator].round(1)\n",
    "    segment3_agg[indicator] = segment3_agg[indicator].round(1)\n",
    "    \n",
    "    print('segment1')\n",
    "    display(segment1_agg[indicator])\n",
    "    print('segment2')\n",
    "    display(segment2_agg[indicator])\n",
    "    print('segment3')\n",
    "    display(segment3_agg[indicator])\n",
    "    \n",
    "    return (segment1_agg[indicator],segment2_agg[indicator],segment3_agg[indicator])"
   ]
  },
  {
   "cell_type": "markdown",
   "id": "4e3a051b",
   "metadata": {},
   "source": [
    "## Segment Percent Stock with Net Positive Savings"
   ]
  },
  {
   "cell_type": "code",
   "execution_count": 200,
   "id": "862cf0d7",
   "metadata": {},
   "outputs": [],
   "source": [
    "def figure_positive_negative_savings(segment, commnity_results):\n",
    "    results = commnity_results[['upgrade_name',\n",
    "                                  'saving_energy.total_mmbtu',\n",
    "                                  'saving_cbill.total_usd',\n",
    "                                  'saving_emission.total_kgCO2e',\n",
    "                                'sample_weight',\n",
    "                               'segment']]\n",
    "    results = results.loc[results['upgrade_name'] != 'baseline']\n",
    "    results = results.loc[results['segment'] == segment]\n",
    "    results = results.groupby(results['upgrade_name'])\n",
    "  \n",
    "    def pos(col): \n",
    "      return col[col > 0].count()\n",
    "  \n",
    "    def neg(col): \n",
    "      return col[col < 0].count() \n",
    "\n",
    "    percentage = pd.DataFrame()\n",
    "\n",
    "    bill = results['saving_cbill.total_usd'].agg([('negative_values', neg),('positive_values', pos)])\n",
    "    emission = results['saving_emission.total_kgCO2e'].agg([('negative_values', neg),('positive_values', pos)])\n",
    "    energy = results['saving_energy.total_mmbtu'].agg([('negative_values', neg),('positive_values', pos)])\n",
    "    \n",
    "    percentage ['cbill_n'] = bill['negative_values']/(bill['negative_values']+bill['positive_values'])\n",
    "    percentage ['cbill_p'] = bill['positive_values']/(bill['negative_values']+bill['positive_values'])\n",
    "    percentage ['emission_n'] = emission['negative_values']/(emission['negative_values']+emission['positive_values'])\n",
    "    percentage ['emission_p'] = emission['positive_values']/(emission['negative_values']+emission['positive_values'])\n",
    "    percentage ['energy_n'] = energy['negative_values']/(energy['negative_values']+energy['positive_values'])\n",
    "    percentage ['energy_p'] = energy['positive_values']/(energy['negative_values']+energy['positive_values'])\n",
    "    \n",
    "    \n",
    "    percentage = percentage.sort_values(('cbill_p'))\n",
    "    upgrade_name = percentage.index\n",
    "    \n",
    "    fig = make_subplots(rows=1, cols=3)\n",
    "    marker1= dict(color='red')\n",
    "    marker2= dict(color='green')\n",
    "    \n",
    "    fig.add_bar(y=upgrade_name, x=percentage ['cbill_n'], text=percentage ['cbill_n'],\n",
    "                orientation='h',name = \"Negative\",row=1, col=1, marker=marker1)\n",
    "    fig.add_bar(y=upgrade_name, x=percentage ['cbill_p'],text=percentage ['cbill_p'],\n",
    "                orientation='h', name = \"Positive\", row=1, col=1, marker=marker2)\n",
    "    \n",
    "    fig.add_bar(y=upgrade_name, x=percentage ['emission_n'], text=percentage ['emission_n'],\n",
    "                orientation='h',showlegend=False, row=1, col=2, marker=marker1)\n",
    "    fig.add_bar(y=upgrade_name, x=percentage ['emission_p'],text=percentage ['emission_p'],\n",
    "                orientation='h', showlegend=False, row=1, col=2, marker=marker2)\n",
    "    \n",
    "    fig.add_bar(y=upgrade_name, x=percentage ['energy_n'],text=percentage ['energy_n'],\n",
    "                orientation='h',showlegend=False, row=1, col=3, marker=marker1)\n",
    "    fig.add_bar(y=upgrade_name, x=percentage ['energy_p'],text=percentage ['energy_p'],\n",
    "                orientation='h', showlegend=False, row=1, col=3, marker=marker2)\n",
    "   \n",
    "  \n",
    "    fig.update_layout(barmode=\"relative\")\n",
    "    fig.update_traces(texttemplate='%{text:.0%}', textposition='inside')\n",
    "    \n",
    "    fig.update_layout(xaxis_title=\"Bill\", xaxis_visible=True, yaxis_visible=True,\n",
    "                      xaxis2_title=\"Emission\", xaxis2_visible=True, yaxis2_visible=False,\n",
    "                      xaxis3_title=\"Total Energy\", xaxis3_visible=True, yaxis3_visible=False,\n",
    "                      font=dict(size=10))\n",
    "    \n",
    "    fig.update_layout(\n",
    "        title='Percentage of Household in Positive and Negative Savings')\n",
    "    \n",
    "    fig.update_layout(\n",
    "    autosize=False,\n",
    "    width=1000,\n",
    "    height=500,\n",
    "    font=dict(size=10))\n",
    "    fig.layout.xaxis1.tickformat = ',.0%'\n",
    "    fig.layout.xaxis2.tickformat = ',.0%'\n",
    "    fig.layout.xaxis3.tickformat = ',.0%'\n",
    "    \n",
    "    fig.show()\n",
    "    fig.write_image(fig_dir / f'percentage_positive_saving_{segment}.svg')\n",
    "    return (percentage ['cbill_p'],percentage ['emission_p'],percentage ['energy_p'])"
   ]
  },
  {
   "cell_type": "markdown",
   "id": "63119384",
   "metadata": {},
   "source": [
    "## Segment Average Energy Burden (%) Before and after Upgrade."
   ]
  },
  {
   "cell_type": "code",
   "execution_count": 201,
   "id": "81da90ec",
   "metadata": {},
   "outputs": [],
   "source": [
    "def segment_mean_energy_burden(indicator, commnity_results):\n",
    "    \n",
    "    results = commnity_results[['upgrade_name', indicator, 'baseline_energy_burden_2023_cbills.%', 'sample_weight', 'segment']]\n",
    "    results.replace([np.inf, -np.inf], np.nan, inplace=True)\n",
    "    results.dropna(subset=['baseline_energy_burden_2023_cbills.%'], how=\"all\", inplace=True)\n",
    "    results[indicator] = results[indicator]*results['sample_weight']\n",
    "    results['baseline_energy_burden_2023_cbills.%'] = results['baseline_energy_burden_2023_cbills.%']*results['sample_weight']\n",
    "    \n",
    "    segment1 = results.loc[results['segment'] == 'segment1']\n",
    "    segment2 = results.loc[results['segment'] == 'segment2']\n",
    "    segment3 = results.loc[results['segment'] == 'segment3']\n",
    "    \n",
    "    agg_functions = {'upgrade_name': 'first',\n",
    "                     indicator: 'sum',\n",
    "                     'baseline_energy_burden_2023_cbills.%': 'sum',\n",
    "                    'sample_weight': 'sum'}\n",
    "    \n",
    "    segment1_agg = segment1.groupby(segment1['upgrade_name']).aggregate(agg_functions)\n",
    "    segment2_agg = segment2.groupby(segment2['upgrade_name']).aggregate(agg_functions)\n",
    "    segment3_agg = segment3.groupby(segment3['upgrade_name']).aggregate(agg_functions)\n",
    "    \n",
    "    segment1_agg['baseline_energy_burden_2023_cbills.%'] = segment1_agg['baseline_energy_burden_2023_cbills.%']/segment1_agg['sample_weight']\n",
    "    segment2_agg['baseline_energy_burden_2023_cbills.%'] = segment2_agg['baseline_energy_burden_2023_cbills.%']/segment2_agg['sample_weight']\n",
    "    segment3_agg['baseline_energy_burden_2023_cbills.%'] = segment3_agg['baseline_energy_burden_2023_cbills.%']/segment3_agg['sample_weight']\n",
    "    \n",
    "    segment1_agg[indicator] = segment1_agg[indicator]/segment1_agg['sample_weight']\n",
    "    segment2_agg[indicator] = segment2_agg[indicator]/segment2_agg['sample_weight']\n",
    "    segment3_agg[indicator] = segment3_agg[indicator]/segment3_agg['sample_weight']\n",
    "    \n",
    "    segment1_agg['energy_burden_diff'] = segment1_agg['baseline_energy_burden_2023_cbills.%'] - segment1_agg[indicator]\n",
    "    segment2_agg['energy_burden_diff'] = segment2_agg['baseline_energy_burden_2023_cbills.%'] - segment2_agg[indicator]\n",
    "    segment3_agg['energy_burden_diff'] = segment3_agg['baseline_energy_burden_2023_cbills.%'] - segment3_agg[indicator]\n",
    "    \n",
    "    segment1_agg = segment1_agg.sort_values(['energy_burden_diff'], ascending=False)\n",
    "    segment2_agg = segment2_agg.sort_values(['energy_burden_diff'], ascending=False)\n",
    "    segment3_agg = segment3_agg.sort_values(['energy_burden_diff'], ascending=False)\n",
    "    \n",
    "    segment1_agg = segment1_agg[segment1_agg.upgrade_name != 'baseline']\n",
    "    segment2_agg = segment2_agg[segment2_agg.upgrade_name != 'baseline']\n",
    "    segment3_agg = segment3_agg[segment3_agg.upgrade_name != 'baseline']\n",
    "    \n",
    "    segment1_agg = segment1_agg.rename(columns={'baseline_energy_burden_2023_cbills.%': 'before', indicator: 'after'})\n",
    "    segment2_agg = segment2_agg.rename(columns={'baseline_energy_burden_2023_cbills.%': 'before', indicator: 'after'})\n",
    "    segment3_agg = segment3_agg.rename(columns={'baseline_energy_burden_2023_cbills.%': 'before', indicator: 'after'})\n",
    "    \n",
    "    segment1_agg['before'] = segment1_agg['before'].round(1)\n",
    "    segment2_agg['before'] = segment2_agg['before'].round(1)\n",
    "    segment3_agg['before'] = segment3_agg['before'].round(1)\n",
    "    segment1_agg['after'] = segment1_agg['after'].round(1)\n",
    "    segment2_agg['after'] = segment2_agg['after'].round(1)\n",
    "    segment3_agg['after'] = segment3_agg['after'].round(1)\n",
    "    \n",
    "    print ('energy burden (%) before and after upgrade')\n",
    "    print('segment1')\n",
    "    display(segment1_agg[['before', 'after']])\n",
    "    print('segment2')\n",
    "    display(segment2_agg[['before', 'after']])\n",
    "    print('segment3')\n",
    "    display(segment3_agg[['before', 'after']])\n",
    "    \n",
    "    return(segment1_agg[['before', 'after']],segment2_agg[['before', 'after']],segment3_agg[['before', 'after']])"
   ]
  },
  {
   "cell_type": "code",
   "execution_count": 202,
   "id": "97b37ad7",
   "metadata": {},
   "outputs": [],
   "source": [
    "community = 'jackson_county'\n",
    "fig_dir = Path(\".\").resolve() / \"results\" / community\n",
    "community_results = pd.read_parquet(f\"data_/community_building_samples_with_upgrade_cost_and_bill/{community}/processed_upgrade_results.parquet\")\n",
    "saving_results = pd.DataFrame()"
   ]
  },
  {
   "cell_type": "markdown",
   "id": "712ba191",
   "metadata": {},
   "source": [
    "# 1. Results for Whole Community"
   ]
  },
  {
   "cell_type": "markdown",
   "id": "825d991e",
   "metadata": {},
   "source": [
    "## 1.1 Upgrade Cost Per Dwelling Unit"
   ]
  },
  {
   "cell_type": "code",
   "execution_count": 203,
   "id": "d2f8640e",
   "metadata": {},
   "outputs": [
    {
     "name": "stdout",
     "output_type": "stream",
     "text": [
      "upgrade_cost_usd per dwelling unit\n"
     ]
    },
    {
     "data": {
      "text/plain": [
       "upgrade_name\n",
       "Electric Cooking                                                    1150.3\n",
       "Electric Clothes Dryer                                              1291.8\n",
       "Induction Cooking                                                   1978.0\n",
       "Heat Pump Clothes Dryer                                             2599.4\n",
       "Heat Pump Water Heater                                              3269.1\n",
       "Basic Enclosure                                                     4855.9\n",
       "Enhanced Enclosure                                                  6941.2\n",
       "Mininum Efficiency Heat Pump with Existing Heat Backup             16880.9\n",
       "Mininum Efficiency Heat Pump with Electric Heat Backup             17362.6\n",
       "Mininum Efficiency Whole Home Electrification                      17468.6\n",
       "High Efficiency Heat Pump with Electric Heat Backup                28856.3\n",
       "Basic Enclosure + HPWH + High Efficiency HP/Electric Backup        33594.3\n",
       "Enhanced Enclosure + HPWH + High Efficiency HP/Electric Backup     34484.3\n",
       "High Efficiency Whole Home Electrification                         35988.8\n",
       "Basic Enclosure + High Efficiency Whole Home Electrification       37744.2\n",
       "Enhanced Enclosure + High Efficiency Whole Home Electrification    38634.1\n",
       "Name: upgrade_cost_usd, dtype: float64"
      ]
     },
     "metadata": {},
     "output_type": "display_data"
    }
   ],
   "source": [
    "results = community_mean_upgrade_cost(community_results)\n",
    "saving_results['whole_community_upgrade_cost_mean_usd'] = results"
   ]
  },
  {
   "cell_type": "markdown",
   "id": "8612601a",
   "metadata": {},
   "source": [
    "## 1.2 Total Annual Savings"
   ]
  },
  {
   "cell_type": "code",
   "execution_count": 204,
   "id": "2d30637c",
   "metadata": {},
   "outputs": [
    {
     "data": {
      "application/vnd.plotly.v1+json": {
       "config": {
        "plotlyServerURL": "https://plot.ly"
       },
       "data": [
        {
         "cliponaxis": false,
         "marker": {
          "color": "rgb(255, 255, 255)",
          "line": {
           "color": "rgb(255, 255, 255)"
          }
         },
         "orientation": "h",
         "textangle": 0,
         "textfont": {
          "size": 10
         },
         "textposition": "outside",
         "type": "bar",
         "x": [
          0,
          0,
          0,
          0,
          0,
          0,
          0,
          0,
          0,
          0,
          0,
          0,
          0,
          0,
          0,
          0,
          0,
          0,
          0,
          0,
          0,
          0,
          0,
          0,
          0,
          0,
          0,
          0,
          0,
          0,
          0,
          0,
          0,
          0,
          0,
          0,
          0,
          0,
          0,
          0,
          0,
          0,
          0,
          0,
          0,
          0,
          0,
          0,
          0,
          0,
          0,
          0,
          0,
          0,
          0,
          0,
          0,
          0,
          0,
          0,
          0,
          0,
          0,
          0,
          0,
          0,
          0,
          0,
          0,
          0,
          0,
          0,
          0,
          0,
          0,
          0,
          0,
          0,
          0,
          0,
          0,
          0,
          0,
          0,
          0,
          0,
          0,
          0,
          0,
          0,
          0,
          0,
          0,
          0,
          0,
          0,
          0,
          0,
          0,
          0,
          0,
          0,
          0,
          0,
          0,
          0,
          0,
          0,
          0,
          0,
          0,
          0,
          0,
          0,
          0,
          0,
          0,
          0,
          0,
          0,
          0,
          0,
          0,
          0,
          0,
          0,
          0,
          0,
          0,
          0,
          0,
          0,
          0,
          0,
          0,
          0,
          0,
          0,
          0,
          0,
          0,
          0,
          0,
          0,
          0,
          0,
          0,
          0,
          0,
          0,
          0,
          0,
          0,
          0,
          0,
          0,
          0,
          0,
          0,
          0,
          0,
          0,
          0,
          0,
          0,
          0,
          0,
          0,
          0,
          0,
          0,
          0,
          0,
          0,
          0,
          0
         ],
         "xaxis": "x",
         "y": [
          "Mininum Efficiency Whole Home Electrification",
          "Electric Cooking",
          "Electric Clothes Dryer",
          "Induction Cooking",
          "Heat Pump Clothes Dryer",
          "Mininum Efficiency Heat Pump with Electric Heat Backup",
          "Heat Pump Water Heater",
          "Mininum Efficiency Heat Pump with Existing Heat Backup",
          "Basic Enclosure",
          "Enhanced Enclosure",
          "High Efficiency Heat Pump with Electric Heat Backup",
          "High Efficiency Whole Home Electrification",
          "Basic Enclosure + HPWH + High Efficiency HP/Electric Backup",
          "Basic Enclosure + High Efficiency Whole Home Electrification",
          "Enhanced Enclosure + HPWH + High Efficiency HP/Electric Backup",
          "Enhanced Enclosure + High Efficiency Whole Home Electrification"
         ],
         "yaxis": "y"
        },
        {
         "cliponaxis": false,
         "marker": {
          "color": "rgb(0, 121, 61)",
          "line": {
           "color": "rgb(0, 121, 61)"
          }
         },
         "orientation": "h",
         "text": [
          -5076258.981235302,
          -190569.29513792906,
          -143200.64392729363,
          -75632.63163280909,
          489373.55545966915,
          1863249.305043874,
          2410953.1667605233,
          6743739.513363364,
          9004889.418568244,
          11070513.88387132,
          17675142.881065346,
          21875532.901328597,
          25768479.355942287,
          26244049.709158134,
          26391241.064738248,
          26866811.417954095
         ],
         "textangle": 0,
         "textfont": {
          "size": 10
         },
         "textposition": "outside",
         "texttemplate": "%{text:.3s}",
         "type": "bar",
         "x": [
          -5076258.981235302,
          -190569.29513792906,
          -143200.64392729363,
          -75632.63163280909,
          489373.55545966915,
          1863249.305043874,
          2410953.1667605233,
          6743739.513363364,
          9004889.418568244,
          11070513.88387132,
          17675142.881065346,
          21875532.901328597,
          25768479.355942287,
          26244049.709158134,
          26391241.064738248,
          26866811.417954095
         ],
         "xaxis": "x2",
         "y": [
          "Mininum Efficiency Whole Home Electrification",
          "Electric Cooking",
          "Electric Clothes Dryer",
          "Induction Cooking",
          "Heat Pump Clothes Dryer",
          "Mininum Efficiency Heat Pump with Electric Heat Backup",
          "Heat Pump Water Heater",
          "Mininum Efficiency Heat Pump with Existing Heat Backup",
          "Basic Enclosure",
          "Enhanced Enclosure",
          "High Efficiency Heat Pump with Electric Heat Backup",
          "High Efficiency Whole Home Electrification",
          "Basic Enclosure + HPWH + High Efficiency HP/Electric Backup",
          "Basic Enclosure + High Efficiency Whole Home Electrification",
          "Enhanced Enclosure + HPWH + High Efficiency HP/Electric Backup",
          "Enhanced Enclosure + High Efficiency Whole Home Electrification"
         ],
         "yaxis": "y2"
        },
        {
         "cliponaxis": false,
         "marker": {
          "color": "rgb(0, 121, 61)",
          "line": {
           "color": "rgb(0, 121, 61)"
          }
         },
         "orientation": "h",
         "text": [
          46954401.1450281,
          781111.8110404377,
          100647.86618534633,
          1027917.7262473437,
          1422920.4213458998,
          54531861.77544936,
          10434132.472632987,
          37675811.32602645,
          36579567.7501986,
          44691404.238177136,
          93199613.35512409,
          111646578.4098556,
          119902949.56665353,
          122353787.71424678,
          121476671.30844235,
          123927509.4560356
         ],
         "textangle": 0,
         "textfont": {
          "size": 10
         },
         "textposition": "outside",
         "texttemplate": "%{text:.3s}",
         "type": "bar",
         "x": [
          46954401.1450281,
          781111.8110404377,
          100647.86618534633,
          1027917.7262473437,
          1422920.4213458998,
          54531861.77544936,
          10434132.472632987,
          37675811.32602645,
          36579567.7501986,
          44691404.238177136,
          93199613.35512409,
          111646578.4098556,
          119902949.56665353,
          122353787.71424678,
          121476671.30844235,
          123927509.4560356
         ],
         "xaxis": "x3",
         "y": [
          "Mininum Efficiency Whole Home Electrification",
          "Electric Cooking",
          "Electric Clothes Dryer",
          "Induction Cooking",
          "Heat Pump Clothes Dryer",
          "Mininum Efficiency Heat Pump with Electric Heat Backup",
          "Heat Pump Water Heater",
          "Mininum Efficiency Heat Pump with Existing Heat Backup",
          "Basic Enclosure",
          "Enhanced Enclosure",
          "High Efficiency Heat Pump with Electric Heat Backup",
          "High Efficiency Whole Home Electrification",
          "Basic Enclosure + HPWH + High Efficiency HP/Electric Backup",
          "Basic Enclosure + High Efficiency Whole Home Electrification",
          "Enhanced Enclosure + HPWH + High Efficiency HP/Electric Backup",
          "Enhanced Enclosure + High Efficiency Whole Home Electrification"
         ],
         "yaxis": "y3"
        },
        {
         "cliponaxis": false,
         "marker": {
          "color": "rgb(0, 121, 61)",
          "line": {
           "color": "rgb(0, 121, 61)"
          }
         },
         "orientation": "h",
         "text": [
          -122160329.33746122,
          -3302929.005058265,
          -1731896.191037289,
          -2328960.8484984543,
          3628493.2655885858,
          -49302448.64599976,
          12727699.115719723,
          28747323.66457673,
          55935185.5545576,
          69455360.60749766,
          84693636.00819063,
          106227267.22351207,
          141946240.2410035,
          143245772.65809363,
          147223479.3396821,
          148523011.75677225
         ],
         "textangle": 0,
         "textfont": {
          "size": 10
         },
         "textposition": "outside",
         "texttemplate": "%{text:.3s}",
         "type": "bar",
         "x": [
          -122160329.33746122,
          -3302929.005058265,
          -1731896.191037289,
          -2328960.8484984543,
          3628493.2655885858,
          -49302448.64599976,
          12727699.115719723,
          28747323.66457673,
          55935185.5545576,
          69455360.60749766,
          84693636.00819063,
          106227267.22351207,
          141946240.2410035,
          143245772.65809363,
          147223479.3396821,
          148523011.75677225
         ],
         "xaxis": "x4",
         "y": [
          "Mininum Efficiency Whole Home Electrification",
          "Electric Cooking",
          "Electric Clothes Dryer",
          "Induction Cooking",
          "Heat Pump Clothes Dryer",
          "Mininum Efficiency Heat Pump with Electric Heat Backup",
          "Heat Pump Water Heater",
          "Mininum Efficiency Heat Pump with Existing Heat Backup",
          "Basic Enclosure",
          "Enhanced Enclosure",
          "High Efficiency Heat Pump with Electric Heat Backup",
          "High Efficiency Whole Home Electrification",
          "Basic Enclosure + HPWH + High Efficiency HP/Electric Backup",
          "Basic Enclosure + High Efficiency Whole Home Electrification",
          "Enhanced Enclosure + HPWH + High Efficiency HP/Electric Backup",
          "Enhanced Enclosure + High Efficiency Whole Home Electrification"
         ],
         "yaxis": "y4"
        },
        {
         "cliponaxis": false,
         "marker": {
          "color": "rgb(0, 121, 61)",
          "line": {
           "color": "rgb(0, 121, 61)"
          }
         },
         "orientation": "h",
         "text": [
          1208957.587212054,
          23496.871714351302,
          7695.434793469958,
          23496.83255757164,
          7695.434793469958,
          1019757.6164033462,
          107317.62088447784,
          426257.77869508887,
          304517.4899282712,
          365259.4185397178,
          1019649.0097826732,
          1208957.587212054,
          1177765.3198610125,
          1208957.587212054,
          1177765.3198610125,
          1208957.587212054
         ],
         "textangle": 0,
         "textfont": {
          "size": 10
         },
         "textposition": "outside",
         "texttemplate": "%{text:.3s}",
         "type": "bar",
         "x": [
          1208957.587212054,
          23496.871714351302,
          7695.434793469958,
          23496.83255757164,
          7695.434793469958,
          1019757.6164033462,
          107317.62088447784,
          426257.77869508887,
          304517.4899282712,
          365259.4185397178,
          1019649.0097826732,
          1208957.587212054,
          1177765.3198610125,
          1208957.587212054,
          1177765.3198610125,
          1208957.587212054
         ],
         "xaxis": "x5",
         "y": [
          "Mininum Efficiency Whole Home Electrification",
          "Electric Cooking",
          "Electric Clothes Dryer",
          "Induction Cooking",
          "Heat Pump Clothes Dryer",
          "Mininum Efficiency Heat Pump with Electric Heat Backup",
          "Heat Pump Water Heater",
          "Mininum Efficiency Heat Pump with Existing Heat Backup",
          "Basic Enclosure",
          "Enhanced Enclosure",
          "High Efficiency Heat Pump with Electric Heat Backup",
          "High Efficiency Whole Home Electrification",
          "Basic Enclosure + HPWH + High Efficiency HP/Electric Backup",
          "Basic Enclosure + High Efficiency Whole Home Electrification",
          "Enhanced Enclosure + HPWH + High Efficiency HP/Electric Backup",
          "Enhanced Enclosure + High Efficiency Whole Home Electrification"
         ],
         "yaxis": "y5"
        }
       ],
       "layout": {
        "autosize": false,
        "font": {
         "size": 10
        },
        "height": 500,
        "plot_bgcolor": "rgba(0, 0, 0, 0)",
        "showlegend": false,
        "template": {
         "data": {
          "bar": [
           {
            "error_x": {
             "color": "#2a3f5f"
            },
            "error_y": {
             "color": "#2a3f5f"
            },
            "marker": {
             "line": {
              "color": "#E5ECF6",
              "width": 0.5
             },
             "pattern": {
              "fillmode": "overlay",
              "size": 10,
              "solidity": 0.2
             }
            },
            "type": "bar"
           }
          ],
          "barpolar": [
           {
            "marker": {
             "line": {
              "color": "#E5ECF6",
              "width": 0.5
             },
             "pattern": {
              "fillmode": "overlay",
              "size": 10,
              "solidity": 0.2
             }
            },
            "type": "barpolar"
           }
          ],
          "carpet": [
           {
            "aaxis": {
             "endlinecolor": "#2a3f5f",
             "gridcolor": "white",
             "linecolor": "white",
             "minorgridcolor": "white",
             "startlinecolor": "#2a3f5f"
            },
            "baxis": {
             "endlinecolor": "#2a3f5f",
             "gridcolor": "white",
             "linecolor": "white",
             "minorgridcolor": "white",
             "startlinecolor": "#2a3f5f"
            },
            "type": "carpet"
           }
          ],
          "choropleth": [
           {
            "colorbar": {
             "outlinewidth": 0,
             "ticks": ""
            },
            "type": "choropleth"
           }
          ],
          "contour": [
           {
            "colorbar": {
             "outlinewidth": 0,
             "ticks": ""
            },
            "colorscale": [
             [
              0,
              "#0d0887"
             ],
             [
              0.1111111111111111,
              "#46039f"
             ],
             [
              0.2222222222222222,
              "#7201a8"
             ],
             [
              0.3333333333333333,
              "#9c179e"
             ],
             [
              0.4444444444444444,
              "#bd3786"
             ],
             [
              0.5555555555555556,
              "#d8576b"
             ],
             [
              0.6666666666666666,
              "#ed7953"
             ],
             [
              0.7777777777777778,
              "#fb9f3a"
             ],
             [
              0.8888888888888888,
              "#fdca26"
             ],
             [
              1,
              "#f0f921"
             ]
            ],
            "type": "contour"
           }
          ],
          "contourcarpet": [
           {
            "colorbar": {
             "outlinewidth": 0,
             "ticks": ""
            },
            "type": "contourcarpet"
           }
          ],
          "heatmap": [
           {
            "colorbar": {
             "outlinewidth": 0,
             "ticks": ""
            },
            "colorscale": [
             [
              0,
              "#0d0887"
             ],
             [
              0.1111111111111111,
              "#46039f"
             ],
             [
              0.2222222222222222,
              "#7201a8"
             ],
             [
              0.3333333333333333,
              "#9c179e"
             ],
             [
              0.4444444444444444,
              "#bd3786"
             ],
             [
              0.5555555555555556,
              "#d8576b"
             ],
             [
              0.6666666666666666,
              "#ed7953"
             ],
             [
              0.7777777777777778,
              "#fb9f3a"
             ],
             [
              0.8888888888888888,
              "#fdca26"
             ],
             [
              1,
              "#f0f921"
             ]
            ],
            "type": "heatmap"
           }
          ],
          "heatmapgl": [
           {
            "colorbar": {
             "outlinewidth": 0,
             "ticks": ""
            },
            "colorscale": [
             [
              0,
              "#0d0887"
             ],
             [
              0.1111111111111111,
              "#46039f"
             ],
             [
              0.2222222222222222,
              "#7201a8"
             ],
             [
              0.3333333333333333,
              "#9c179e"
             ],
             [
              0.4444444444444444,
              "#bd3786"
             ],
             [
              0.5555555555555556,
              "#d8576b"
             ],
             [
              0.6666666666666666,
              "#ed7953"
             ],
             [
              0.7777777777777778,
              "#fb9f3a"
             ],
             [
              0.8888888888888888,
              "#fdca26"
             ],
             [
              1,
              "#f0f921"
             ]
            ],
            "type": "heatmapgl"
           }
          ],
          "histogram": [
           {
            "marker": {
             "pattern": {
              "fillmode": "overlay",
              "size": 10,
              "solidity": 0.2
             }
            },
            "type": "histogram"
           }
          ],
          "histogram2d": [
           {
            "colorbar": {
             "outlinewidth": 0,
             "ticks": ""
            },
            "colorscale": [
             [
              0,
              "#0d0887"
             ],
             [
              0.1111111111111111,
              "#46039f"
             ],
             [
              0.2222222222222222,
              "#7201a8"
             ],
             [
              0.3333333333333333,
              "#9c179e"
             ],
             [
              0.4444444444444444,
              "#bd3786"
             ],
             [
              0.5555555555555556,
              "#d8576b"
             ],
             [
              0.6666666666666666,
              "#ed7953"
             ],
             [
              0.7777777777777778,
              "#fb9f3a"
             ],
             [
              0.8888888888888888,
              "#fdca26"
             ],
             [
              1,
              "#f0f921"
             ]
            ],
            "type": "histogram2d"
           }
          ],
          "histogram2dcontour": [
           {
            "colorbar": {
             "outlinewidth": 0,
             "ticks": ""
            },
            "colorscale": [
             [
              0,
              "#0d0887"
             ],
             [
              0.1111111111111111,
              "#46039f"
             ],
             [
              0.2222222222222222,
              "#7201a8"
             ],
             [
              0.3333333333333333,
              "#9c179e"
             ],
             [
              0.4444444444444444,
              "#bd3786"
             ],
             [
              0.5555555555555556,
              "#d8576b"
             ],
             [
              0.6666666666666666,
              "#ed7953"
             ],
             [
              0.7777777777777778,
              "#fb9f3a"
             ],
             [
              0.8888888888888888,
              "#fdca26"
             ],
             [
              1,
              "#f0f921"
             ]
            ],
            "type": "histogram2dcontour"
           }
          ],
          "mesh3d": [
           {
            "colorbar": {
             "outlinewidth": 0,
             "ticks": ""
            },
            "type": "mesh3d"
           }
          ],
          "parcoords": [
           {
            "line": {
             "colorbar": {
              "outlinewidth": 0,
              "ticks": ""
             }
            },
            "type": "parcoords"
           }
          ],
          "pie": [
           {
            "automargin": true,
            "type": "pie"
           }
          ],
          "scatter": [
           {
            "fillpattern": {
             "fillmode": "overlay",
             "size": 10,
             "solidity": 0.2
            },
            "type": "scatter"
           }
          ],
          "scatter3d": [
           {
            "line": {
             "colorbar": {
              "outlinewidth": 0,
              "ticks": ""
             }
            },
            "marker": {
             "colorbar": {
              "outlinewidth": 0,
              "ticks": ""
             }
            },
            "type": "scatter3d"
           }
          ],
          "scattercarpet": [
           {
            "marker": {
             "colorbar": {
              "outlinewidth": 0,
              "ticks": ""
             }
            },
            "type": "scattercarpet"
           }
          ],
          "scattergeo": [
           {
            "marker": {
             "colorbar": {
              "outlinewidth": 0,
              "ticks": ""
             }
            },
            "type": "scattergeo"
           }
          ],
          "scattergl": [
           {
            "marker": {
             "colorbar": {
              "outlinewidth": 0,
              "ticks": ""
             }
            },
            "type": "scattergl"
           }
          ],
          "scattermapbox": [
           {
            "marker": {
             "colorbar": {
              "outlinewidth": 0,
              "ticks": ""
             }
            },
            "type": "scattermapbox"
           }
          ],
          "scatterpolar": [
           {
            "marker": {
             "colorbar": {
              "outlinewidth": 0,
              "ticks": ""
             }
            },
            "type": "scatterpolar"
           }
          ],
          "scatterpolargl": [
           {
            "marker": {
             "colorbar": {
              "outlinewidth": 0,
              "ticks": ""
             }
            },
            "type": "scatterpolargl"
           }
          ],
          "scatterternary": [
           {
            "marker": {
             "colorbar": {
              "outlinewidth": 0,
              "ticks": ""
             }
            },
            "type": "scatterternary"
           }
          ],
          "surface": [
           {
            "colorbar": {
             "outlinewidth": 0,
             "ticks": ""
            },
            "colorscale": [
             [
              0,
              "#0d0887"
             ],
             [
              0.1111111111111111,
              "#46039f"
             ],
             [
              0.2222222222222222,
              "#7201a8"
             ],
             [
              0.3333333333333333,
              "#9c179e"
             ],
             [
              0.4444444444444444,
              "#bd3786"
             ],
             [
              0.5555555555555556,
              "#d8576b"
             ],
             [
              0.6666666666666666,
              "#ed7953"
             ],
             [
              0.7777777777777778,
              "#fb9f3a"
             ],
             [
              0.8888888888888888,
              "#fdca26"
             ],
             [
              1,
              "#f0f921"
             ]
            ],
            "type": "surface"
           }
          ],
          "table": [
           {
            "cells": {
             "fill": {
              "color": "#EBF0F8"
             },
             "line": {
              "color": "white"
             }
            },
            "header": {
             "fill": {
              "color": "#C8D4E3"
             },
             "line": {
              "color": "white"
             }
            },
            "type": "table"
           }
          ]
         },
         "layout": {
          "annotationdefaults": {
           "arrowcolor": "#2a3f5f",
           "arrowhead": 0,
           "arrowwidth": 1
          },
          "autotypenumbers": "strict",
          "coloraxis": {
           "colorbar": {
            "outlinewidth": 0,
            "ticks": ""
           }
          },
          "colorscale": {
           "diverging": [
            [
             0,
             "#8e0152"
            ],
            [
             0.1,
             "#c51b7d"
            ],
            [
             0.2,
             "#de77ae"
            ],
            [
             0.3,
             "#f1b6da"
            ],
            [
             0.4,
             "#fde0ef"
            ],
            [
             0.5,
             "#f7f7f7"
            ],
            [
             0.6,
             "#e6f5d0"
            ],
            [
             0.7,
             "#b8e186"
            ],
            [
             0.8,
             "#7fbc41"
            ],
            [
             0.9,
             "#4d9221"
            ],
            [
             1,
             "#276419"
            ]
           ],
           "sequential": [
            [
             0,
             "#0d0887"
            ],
            [
             0.1111111111111111,
             "#46039f"
            ],
            [
             0.2222222222222222,
             "#7201a8"
            ],
            [
             0.3333333333333333,
             "#9c179e"
            ],
            [
             0.4444444444444444,
             "#bd3786"
            ],
            [
             0.5555555555555556,
             "#d8576b"
            ],
            [
             0.6666666666666666,
             "#ed7953"
            ],
            [
             0.7777777777777778,
             "#fb9f3a"
            ],
            [
             0.8888888888888888,
             "#fdca26"
            ],
            [
             1,
             "#f0f921"
            ]
           ],
           "sequentialminus": [
            [
             0,
             "#0d0887"
            ],
            [
             0.1111111111111111,
             "#46039f"
            ],
            [
             0.2222222222222222,
             "#7201a8"
            ],
            [
             0.3333333333333333,
             "#9c179e"
            ],
            [
             0.4444444444444444,
             "#bd3786"
            ],
            [
             0.5555555555555556,
             "#d8576b"
            ],
            [
             0.6666666666666666,
             "#ed7953"
            ],
            [
             0.7777777777777778,
             "#fb9f3a"
            ],
            [
             0.8888888888888888,
             "#fdca26"
            ],
            [
             1,
             "#f0f921"
            ]
           ]
          },
          "colorway": [
           "#636efa",
           "#EF553B",
           "#00cc96",
           "#ab63fa",
           "#FFA15A",
           "#19d3f3",
           "#FF6692",
           "#B6E880",
           "#FF97FF",
           "#FECB52"
          ],
          "font": {
           "color": "#2a3f5f"
          },
          "geo": {
           "bgcolor": "white",
           "lakecolor": "white",
           "landcolor": "#E5ECF6",
           "showlakes": true,
           "showland": true,
           "subunitcolor": "white"
          },
          "hoverlabel": {
           "align": "left"
          },
          "hovermode": "closest",
          "mapbox": {
           "style": "light"
          },
          "paper_bgcolor": "white",
          "plot_bgcolor": "#E5ECF6",
          "polar": {
           "angularaxis": {
            "gridcolor": "white",
            "linecolor": "white",
            "ticks": ""
           },
           "bgcolor": "#E5ECF6",
           "radialaxis": {
            "gridcolor": "white",
            "linecolor": "white",
            "ticks": ""
           }
          },
          "scene": {
           "xaxis": {
            "backgroundcolor": "#E5ECF6",
            "gridcolor": "white",
            "gridwidth": 2,
            "linecolor": "white",
            "showbackground": true,
            "ticks": "",
            "zerolinecolor": "white"
           },
           "yaxis": {
            "backgroundcolor": "#E5ECF6",
            "gridcolor": "white",
            "gridwidth": 2,
            "linecolor": "white",
            "showbackground": true,
            "ticks": "",
            "zerolinecolor": "white"
           },
           "zaxis": {
            "backgroundcolor": "#E5ECF6",
            "gridcolor": "white",
            "gridwidth": 2,
            "linecolor": "white",
            "showbackground": true,
            "ticks": "",
            "zerolinecolor": "white"
           }
          },
          "shapedefaults": {
           "line": {
            "color": "#2a3f5f"
           }
          },
          "ternary": {
           "aaxis": {
            "gridcolor": "white",
            "linecolor": "white",
            "ticks": ""
           },
           "baxis": {
            "gridcolor": "white",
            "linecolor": "white",
            "ticks": ""
           },
           "bgcolor": "#E5ECF6",
           "caxis": {
            "gridcolor": "white",
            "linecolor": "white",
            "ticks": ""
           }
          },
          "title": {
           "x": 0.05
          },
          "xaxis": {
           "automargin": true,
           "gridcolor": "white",
           "linecolor": "white",
           "ticks": "",
           "title": {
            "standoff": 15
           },
           "zerolinecolor": "white",
           "zerolinewidth": 2
          },
          "yaxis": {
           "automargin": true,
           "gridcolor": "white",
           "linecolor": "white",
           "ticks": "",
           "title": {
            "standoff": 15
           },
           "zerolinecolor": "white",
           "zerolinewidth": 2
          }
         }
        },
        "title": {
         "text": "Total Annual Savings for the Whole Community"
        },
        "width": 900,
        "xaxis": {
         "anchor": "y",
         "domain": [
          0,
          0.00012996750812296928
         ],
         "tickangle": 45,
         "title": {
          "text": ""
         },
         "visible": false
        },
        "xaxis2": {
         "anchor": "y2",
         "domain": [
          0.12012996750812296,
          0.25009747563109225
         ],
         "tickangle": 45,
         "title": {
          "text": "Bill<br>Savings<br>usd"
         },
         "visible": true
        },
        "xaxis3": {
         "anchor": "y3",
         "domain": [
          0.37009747563109224,
          0.5000649837540615
         ],
         "tickangle": 45,
         "title": {
          "text": "Emission<br>Savings<br>kgCO2e"
         },
         "visible": true
        },
        "xaxis4": {
         "anchor": "y4",
         "domain": [
          0.6200649837540615,
          0.7500324918770308
         ],
         "tickangle": 45,
         "title": {
          "text": "Electricity<br>Savings<br>kwh"
         },
         "visible": true
        },
        "xaxis5": {
         "anchor": "y5",
         "domain": [
          0.8700324918770308,
          1
         ],
         "tickangle": 45,
         "title": {
          "text": "Gas, Propane,<br>Fuel Oil Savings<br>mmbtu"
         },
         "visible": true
        },
        "yaxis": {
         "anchor": "x",
         "domain": [
          0,
          1
         ],
         "visible": true
        },
        "yaxis2": {
         "anchor": "x2",
         "domain": [
          0,
          1
         ],
         "visible": false
        },
        "yaxis3": {
         "anchor": "x3",
         "domain": [
          0,
          1
         ],
         "visible": false
        },
        "yaxis4": {
         "anchor": "x4",
         "domain": [
          0,
          1
         ],
         "visible": false
        },
        "yaxis5": {
         "anchor": "x5",
         "domain": [
          0,
          1
         ],
         "visible": false
        }
       }
      },
      "text/html": [
       "<div>                            <div id=\"b509ceff-c6bb-4684-98ad-1b0e10079cc8\" class=\"plotly-graph-div\" style=\"height:500px; width:900px;\"></div>            <script type=\"text/javascript\">                require([\"plotly\"], function(Plotly) {                    window.PLOTLYENV=window.PLOTLYENV || {};                                    if (document.getElementById(\"b509ceff-c6bb-4684-98ad-1b0e10079cc8\")) {                    Plotly.newPlot(                        \"b509ceff-c6bb-4684-98ad-1b0e10079cc8\",                        [{\"orientation\":\"h\",\"x\":[0,0,0,0,0,0,0,0,0,0,0,0,0,0,0,0,0,0,0,0,0,0,0,0,0,0,0,0,0,0,0,0,0,0,0,0,0,0,0,0,0,0,0,0,0,0,0,0,0,0,0,0,0,0,0,0,0,0,0,0,0,0,0,0,0,0,0,0,0,0,0,0,0,0,0,0,0,0,0,0,0,0,0,0,0,0,0,0,0,0,0,0,0,0,0,0,0,0,0,0,0,0,0,0,0,0,0,0,0,0,0,0,0,0,0,0,0,0,0,0,0,0,0,0,0,0,0,0,0,0,0,0,0,0,0,0,0,0,0,0,0,0,0,0,0,0,0,0,0,0,0,0,0,0,0,0,0,0,0,0,0,0,0,0,0,0,0,0,0,0,0,0,0,0,0,0],\"y\":[\"Mininum Efficiency Whole Home Electrification\",\"Electric Cooking\",\"Electric Clothes Dryer\",\"Induction Cooking\",\"Heat Pump Clothes Dryer\",\"Mininum Efficiency Heat Pump with Electric Heat Backup\",\"Heat Pump Water Heater\",\"Mininum Efficiency Heat Pump with Existing Heat Backup\",\"Basic Enclosure\",\"Enhanced Enclosure\",\"High Efficiency Heat Pump with Electric Heat Backup\",\"High Efficiency Whole Home Electrification\",\"Basic Enclosure + HPWH + High Efficiency HP/Electric Backup\",\"Basic Enclosure + High Efficiency Whole Home Electrification\",\"Enhanced Enclosure + HPWH + High Efficiency HP/Electric Backup\",\"Enhanced Enclosure + High Efficiency Whole Home Electrification\"],\"type\":\"bar\",\"xaxis\":\"x\",\"yaxis\":\"y\",\"textfont\":{\"size\":10},\"cliponaxis\":false,\"textangle\":0,\"textposition\":\"outside\",\"marker\":{\"line\":{\"color\":\"rgb(255, 255, 255)\"},\"color\":\"rgb(255, 255, 255)\"}},{\"orientation\":\"h\",\"text\":[-5076258.981235302,-190569.29513792906,-143200.64392729363,-75632.63163280909,489373.55545966915,1863249.305043874,2410953.1667605233,6743739.513363364,9004889.418568244,11070513.88387132,17675142.881065346,21875532.901328597,25768479.355942287,26244049.709158134,26391241.064738248,26866811.417954095],\"x\":[-5076258.981235302,-190569.29513792906,-143200.64392729363,-75632.63163280909,489373.55545966915,1863249.305043874,2410953.1667605233,6743739.513363364,9004889.418568244,11070513.88387132,17675142.881065346,21875532.901328597,25768479.355942287,26244049.709158134,26391241.064738248,26866811.417954095],\"y\":[\"Mininum Efficiency Whole Home Electrification\",\"Electric Cooking\",\"Electric Clothes Dryer\",\"Induction Cooking\",\"Heat Pump Clothes Dryer\",\"Mininum Efficiency Heat Pump with Electric Heat Backup\",\"Heat Pump Water Heater\",\"Mininum Efficiency Heat Pump with Existing Heat Backup\",\"Basic Enclosure\",\"Enhanced Enclosure\",\"High Efficiency Heat Pump with Electric Heat Backup\",\"High Efficiency Whole Home Electrification\",\"Basic Enclosure + HPWH + High Efficiency HP/Electric Backup\",\"Basic Enclosure + High Efficiency Whole Home Electrification\",\"Enhanced Enclosure + HPWH + High Efficiency HP/Electric Backup\",\"Enhanced Enclosure + High Efficiency Whole Home Electrification\"],\"type\":\"bar\",\"xaxis\":\"x2\",\"yaxis\":\"y2\",\"textfont\":{\"size\":10},\"cliponaxis\":false,\"textangle\":0,\"textposition\":\"outside\",\"marker\":{\"line\":{\"color\":\"rgb(0, 121, 61)\"},\"color\":\"rgb(0, 121, 61)\"},\"texttemplate\":\"%{text:.3s}\"},{\"orientation\":\"h\",\"text\":[46954401.1450281,781111.8110404377,100647.86618534633,1027917.7262473437,1422920.4213458998,54531861.77544936,10434132.472632987,37675811.32602645,36579567.7501986,44691404.238177136,93199613.35512409,111646578.4098556,119902949.56665353,122353787.71424678,121476671.30844235,123927509.4560356],\"x\":[46954401.1450281,781111.8110404377,100647.86618534633,1027917.7262473437,1422920.4213458998,54531861.77544936,10434132.472632987,37675811.32602645,36579567.7501986,44691404.238177136,93199613.35512409,111646578.4098556,119902949.56665353,122353787.71424678,121476671.30844235,123927509.4560356],\"y\":[\"Mininum Efficiency Whole Home Electrification\",\"Electric Cooking\",\"Electric Clothes Dryer\",\"Induction Cooking\",\"Heat Pump Clothes Dryer\",\"Mininum Efficiency Heat Pump with Electric Heat Backup\",\"Heat Pump Water Heater\",\"Mininum Efficiency Heat Pump with Existing Heat Backup\",\"Basic Enclosure\",\"Enhanced Enclosure\",\"High Efficiency Heat Pump with Electric Heat Backup\",\"High Efficiency Whole Home Electrification\",\"Basic Enclosure + HPWH + High Efficiency HP/Electric Backup\",\"Basic Enclosure + High Efficiency Whole Home Electrification\",\"Enhanced Enclosure + HPWH + High Efficiency HP/Electric Backup\",\"Enhanced Enclosure + High Efficiency Whole Home Electrification\"],\"type\":\"bar\",\"xaxis\":\"x3\",\"yaxis\":\"y3\",\"textfont\":{\"size\":10},\"cliponaxis\":false,\"textangle\":0,\"textposition\":\"outside\",\"marker\":{\"line\":{\"color\":\"rgb(0, 121, 61)\"},\"color\":\"rgb(0, 121, 61)\"},\"texttemplate\":\"%{text:.3s}\"},{\"orientation\":\"h\",\"text\":[-122160329.33746122,-3302929.005058265,-1731896.191037289,-2328960.8484984543,3628493.2655885858,-49302448.64599976,12727699.115719723,28747323.66457673,55935185.5545576,69455360.60749766,84693636.00819063,106227267.22351207,141946240.2410035,143245772.65809363,147223479.3396821,148523011.75677225],\"x\":[-122160329.33746122,-3302929.005058265,-1731896.191037289,-2328960.8484984543,3628493.2655885858,-49302448.64599976,12727699.115719723,28747323.66457673,55935185.5545576,69455360.60749766,84693636.00819063,106227267.22351207,141946240.2410035,143245772.65809363,147223479.3396821,148523011.75677225],\"y\":[\"Mininum Efficiency Whole Home Electrification\",\"Electric Cooking\",\"Electric Clothes Dryer\",\"Induction Cooking\",\"Heat Pump Clothes Dryer\",\"Mininum Efficiency Heat Pump with Electric Heat Backup\",\"Heat Pump Water Heater\",\"Mininum Efficiency Heat Pump with Existing Heat Backup\",\"Basic Enclosure\",\"Enhanced Enclosure\",\"High Efficiency Heat Pump with Electric Heat Backup\",\"High Efficiency Whole Home Electrification\",\"Basic Enclosure + HPWH + High Efficiency HP/Electric Backup\",\"Basic Enclosure + High Efficiency Whole Home Electrification\",\"Enhanced Enclosure + HPWH + High Efficiency HP/Electric Backup\",\"Enhanced Enclosure + High Efficiency Whole Home Electrification\"],\"type\":\"bar\",\"xaxis\":\"x4\",\"yaxis\":\"y4\",\"textfont\":{\"size\":10},\"cliponaxis\":false,\"textangle\":0,\"textposition\":\"outside\",\"marker\":{\"line\":{\"color\":\"rgb(0, 121, 61)\"},\"color\":\"rgb(0, 121, 61)\"},\"texttemplate\":\"%{text:.3s}\"},{\"orientation\":\"h\",\"text\":[1208957.587212054,23496.871714351302,7695.434793469958,23496.83255757164,7695.434793469958,1019757.6164033462,107317.62088447784,426257.77869508887,304517.4899282712,365259.4185397178,1019649.0097826732,1208957.587212054,1177765.3198610125,1208957.587212054,1177765.3198610125,1208957.587212054],\"x\":[1208957.587212054,23496.871714351302,7695.434793469958,23496.83255757164,7695.434793469958,1019757.6164033462,107317.62088447784,426257.77869508887,304517.4899282712,365259.4185397178,1019649.0097826732,1208957.587212054,1177765.3198610125,1208957.587212054,1177765.3198610125,1208957.587212054],\"y\":[\"Mininum Efficiency Whole Home Electrification\",\"Electric Cooking\",\"Electric Clothes Dryer\",\"Induction Cooking\",\"Heat Pump Clothes Dryer\",\"Mininum Efficiency Heat Pump with Electric Heat Backup\",\"Heat Pump Water Heater\",\"Mininum Efficiency Heat Pump with Existing Heat Backup\",\"Basic Enclosure\",\"Enhanced Enclosure\",\"High Efficiency Heat Pump with Electric Heat Backup\",\"High Efficiency Whole Home Electrification\",\"Basic Enclosure + HPWH + High Efficiency HP/Electric Backup\",\"Basic Enclosure + High Efficiency Whole Home Electrification\",\"Enhanced Enclosure + HPWH + High Efficiency HP/Electric Backup\",\"Enhanced Enclosure + High Efficiency Whole Home Electrification\"],\"type\":\"bar\",\"xaxis\":\"x5\",\"yaxis\":\"y5\",\"textfont\":{\"size\":10},\"cliponaxis\":false,\"textangle\":0,\"textposition\":\"outside\",\"marker\":{\"line\":{\"color\":\"rgb(0, 121, 61)\"},\"color\":\"rgb(0, 121, 61)\"},\"texttemplate\":\"%{text:.3s}\"}],                        {\"template\":{\"data\":{\"histogram2dcontour\":[{\"type\":\"histogram2dcontour\",\"colorbar\":{\"outlinewidth\":0,\"ticks\":\"\"},\"colorscale\":[[0.0,\"#0d0887\"],[0.1111111111111111,\"#46039f\"],[0.2222222222222222,\"#7201a8\"],[0.3333333333333333,\"#9c179e\"],[0.4444444444444444,\"#bd3786\"],[0.5555555555555556,\"#d8576b\"],[0.6666666666666666,\"#ed7953\"],[0.7777777777777778,\"#fb9f3a\"],[0.8888888888888888,\"#fdca26\"],[1.0,\"#f0f921\"]]}],\"choropleth\":[{\"type\":\"choropleth\",\"colorbar\":{\"outlinewidth\":0,\"ticks\":\"\"}}],\"histogram2d\":[{\"type\":\"histogram2d\",\"colorbar\":{\"outlinewidth\":0,\"ticks\":\"\"},\"colorscale\":[[0.0,\"#0d0887\"],[0.1111111111111111,\"#46039f\"],[0.2222222222222222,\"#7201a8\"],[0.3333333333333333,\"#9c179e\"],[0.4444444444444444,\"#bd3786\"],[0.5555555555555556,\"#d8576b\"],[0.6666666666666666,\"#ed7953\"],[0.7777777777777778,\"#fb9f3a\"],[0.8888888888888888,\"#fdca26\"],[1.0,\"#f0f921\"]]}],\"heatmap\":[{\"type\":\"heatmap\",\"colorbar\":{\"outlinewidth\":0,\"ticks\":\"\"},\"colorscale\":[[0.0,\"#0d0887\"],[0.1111111111111111,\"#46039f\"],[0.2222222222222222,\"#7201a8\"],[0.3333333333333333,\"#9c179e\"],[0.4444444444444444,\"#bd3786\"],[0.5555555555555556,\"#d8576b\"],[0.6666666666666666,\"#ed7953\"],[0.7777777777777778,\"#fb9f3a\"],[0.8888888888888888,\"#fdca26\"],[1.0,\"#f0f921\"]]}],\"heatmapgl\":[{\"type\":\"heatmapgl\",\"colorbar\":{\"outlinewidth\":0,\"ticks\":\"\"},\"colorscale\":[[0.0,\"#0d0887\"],[0.1111111111111111,\"#46039f\"],[0.2222222222222222,\"#7201a8\"],[0.3333333333333333,\"#9c179e\"],[0.4444444444444444,\"#bd3786\"],[0.5555555555555556,\"#d8576b\"],[0.6666666666666666,\"#ed7953\"],[0.7777777777777778,\"#fb9f3a\"],[0.8888888888888888,\"#fdca26\"],[1.0,\"#f0f921\"]]}],\"contourcarpet\":[{\"type\":\"contourcarpet\",\"colorbar\":{\"outlinewidth\":0,\"ticks\":\"\"}}],\"contour\":[{\"type\":\"contour\",\"colorbar\":{\"outlinewidth\":0,\"ticks\":\"\"},\"colorscale\":[[0.0,\"#0d0887\"],[0.1111111111111111,\"#46039f\"],[0.2222222222222222,\"#7201a8\"],[0.3333333333333333,\"#9c179e\"],[0.4444444444444444,\"#bd3786\"],[0.5555555555555556,\"#d8576b\"],[0.6666666666666666,\"#ed7953\"],[0.7777777777777778,\"#fb9f3a\"],[0.8888888888888888,\"#fdca26\"],[1.0,\"#f0f921\"]]}],\"surface\":[{\"type\":\"surface\",\"colorbar\":{\"outlinewidth\":0,\"ticks\":\"\"},\"colorscale\":[[0.0,\"#0d0887\"],[0.1111111111111111,\"#46039f\"],[0.2222222222222222,\"#7201a8\"],[0.3333333333333333,\"#9c179e\"],[0.4444444444444444,\"#bd3786\"],[0.5555555555555556,\"#d8576b\"],[0.6666666666666666,\"#ed7953\"],[0.7777777777777778,\"#fb9f3a\"],[0.8888888888888888,\"#fdca26\"],[1.0,\"#f0f921\"]]}],\"mesh3d\":[{\"type\":\"mesh3d\",\"colorbar\":{\"outlinewidth\":0,\"ticks\":\"\"}}],\"scatter\":[{\"fillpattern\":{\"fillmode\":\"overlay\",\"size\":10,\"solidity\":0.2},\"type\":\"scatter\"}],\"parcoords\":[{\"type\":\"parcoords\",\"line\":{\"colorbar\":{\"outlinewidth\":0,\"ticks\":\"\"}}}],\"scatterpolargl\":[{\"type\":\"scatterpolargl\",\"marker\":{\"colorbar\":{\"outlinewidth\":0,\"ticks\":\"\"}}}],\"bar\":[{\"error_x\":{\"color\":\"#2a3f5f\"},\"error_y\":{\"color\":\"#2a3f5f\"},\"marker\":{\"line\":{\"color\":\"#E5ECF6\",\"width\":0.5},\"pattern\":{\"fillmode\":\"overlay\",\"size\":10,\"solidity\":0.2}},\"type\":\"bar\"}],\"scattergeo\":[{\"type\":\"scattergeo\",\"marker\":{\"colorbar\":{\"outlinewidth\":0,\"ticks\":\"\"}}}],\"scatterpolar\":[{\"type\":\"scatterpolar\",\"marker\":{\"colorbar\":{\"outlinewidth\":0,\"ticks\":\"\"}}}],\"histogram\":[{\"marker\":{\"pattern\":{\"fillmode\":\"overlay\",\"size\":10,\"solidity\":0.2}},\"type\":\"histogram\"}],\"scattergl\":[{\"type\":\"scattergl\",\"marker\":{\"colorbar\":{\"outlinewidth\":0,\"ticks\":\"\"}}}],\"scatter3d\":[{\"type\":\"scatter3d\",\"line\":{\"colorbar\":{\"outlinewidth\":0,\"ticks\":\"\"}},\"marker\":{\"colorbar\":{\"outlinewidth\":0,\"ticks\":\"\"}}}],\"scattermapbox\":[{\"type\":\"scattermapbox\",\"marker\":{\"colorbar\":{\"outlinewidth\":0,\"ticks\":\"\"}}}],\"scatterternary\":[{\"type\":\"scatterternary\",\"marker\":{\"colorbar\":{\"outlinewidth\":0,\"ticks\":\"\"}}}],\"scattercarpet\":[{\"type\":\"scattercarpet\",\"marker\":{\"colorbar\":{\"outlinewidth\":0,\"ticks\":\"\"}}}],\"carpet\":[{\"aaxis\":{\"endlinecolor\":\"#2a3f5f\",\"gridcolor\":\"white\",\"linecolor\":\"white\",\"minorgridcolor\":\"white\",\"startlinecolor\":\"#2a3f5f\"},\"baxis\":{\"endlinecolor\":\"#2a3f5f\",\"gridcolor\":\"white\",\"linecolor\":\"white\",\"minorgridcolor\":\"white\",\"startlinecolor\":\"#2a3f5f\"},\"type\":\"carpet\"}],\"table\":[{\"cells\":{\"fill\":{\"color\":\"#EBF0F8\"},\"line\":{\"color\":\"white\"}},\"header\":{\"fill\":{\"color\":\"#C8D4E3\"},\"line\":{\"color\":\"white\"}},\"type\":\"table\"}],\"barpolar\":[{\"marker\":{\"line\":{\"color\":\"#E5ECF6\",\"width\":0.5},\"pattern\":{\"fillmode\":\"overlay\",\"size\":10,\"solidity\":0.2}},\"type\":\"barpolar\"}],\"pie\":[{\"automargin\":true,\"type\":\"pie\"}]},\"layout\":{\"autotypenumbers\":\"strict\",\"colorway\":[\"#636efa\",\"#EF553B\",\"#00cc96\",\"#ab63fa\",\"#FFA15A\",\"#19d3f3\",\"#FF6692\",\"#B6E880\",\"#FF97FF\",\"#FECB52\"],\"font\":{\"color\":\"#2a3f5f\"},\"hovermode\":\"closest\",\"hoverlabel\":{\"align\":\"left\"},\"paper_bgcolor\":\"white\",\"plot_bgcolor\":\"#E5ECF6\",\"polar\":{\"bgcolor\":\"#E5ECF6\",\"angularaxis\":{\"gridcolor\":\"white\",\"linecolor\":\"white\",\"ticks\":\"\"},\"radialaxis\":{\"gridcolor\":\"white\",\"linecolor\":\"white\",\"ticks\":\"\"}},\"ternary\":{\"bgcolor\":\"#E5ECF6\",\"aaxis\":{\"gridcolor\":\"white\",\"linecolor\":\"white\",\"ticks\":\"\"},\"baxis\":{\"gridcolor\":\"white\",\"linecolor\":\"white\",\"ticks\":\"\"},\"caxis\":{\"gridcolor\":\"white\",\"linecolor\":\"white\",\"ticks\":\"\"}},\"coloraxis\":{\"colorbar\":{\"outlinewidth\":0,\"ticks\":\"\"}},\"colorscale\":{\"sequential\":[[0.0,\"#0d0887\"],[0.1111111111111111,\"#46039f\"],[0.2222222222222222,\"#7201a8\"],[0.3333333333333333,\"#9c179e\"],[0.4444444444444444,\"#bd3786\"],[0.5555555555555556,\"#d8576b\"],[0.6666666666666666,\"#ed7953\"],[0.7777777777777778,\"#fb9f3a\"],[0.8888888888888888,\"#fdca26\"],[1.0,\"#f0f921\"]],\"sequentialminus\":[[0.0,\"#0d0887\"],[0.1111111111111111,\"#46039f\"],[0.2222222222222222,\"#7201a8\"],[0.3333333333333333,\"#9c179e\"],[0.4444444444444444,\"#bd3786\"],[0.5555555555555556,\"#d8576b\"],[0.6666666666666666,\"#ed7953\"],[0.7777777777777778,\"#fb9f3a\"],[0.8888888888888888,\"#fdca26\"],[1.0,\"#f0f921\"]],\"diverging\":[[0,\"#8e0152\"],[0.1,\"#c51b7d\"],[0.2,\"#de77ae\"],[0.3,\"#f1b6da\"],[0.4,\"#fde0ef\"],[0.5,\"#f7f7f7\"],[0.6,\"#e6f5d0\"],[0.7,\"#b8e186\"],[0.8,\"#7fbc41\"],[0.9,\"#4d9221\"],[1,\"#276419\"]]},\"xaxis\":{\"gridcolor\":\"white\",\"linecolor\":\"white\",\"ticks\":\"\",\"title\":{\"standoff\":15},\"zerolinecolor\":\"white\",\"automargin\":true,\"zerolinewidth\":2},\"yaxis\":{\"gridcolor\":\"white\",\"linecolor\":\"white\",\"ticks\":\"\",\"title\":{\"standoff\":15},\"zerolinecolor\":\"white\",\"automargin\":true,\"zerolinewidth\":2},\"scene\":{\"xaxis\":{\"backgroundcolor\":\"#E5ECF6\",\"gridcolor\":\"white\",\"linecolor\":\"white\",\"showbackground\":true,\"ticks\":\"\",\"zerolinecolor\":\"white\",\"gridwidth\":2},\"yaxis\":{\"backgroundcolor\":\"#E5ECF6\",\"gridcolor\":\"white\",\"linecolor\":\"white\",\"showbackground\":true,\"ticks\":\"\",\"zerolinecolor\":\"white\",\"gridwidth\":2},\"zaxis\":{\"backgroundcolor\":\"#E5ECF6\",\"gridcolor\":\"white\",\"linecolor\":\"white\",\"showbackground\":true,\"ticks\":\"\",\"zerolinecolor\":\"white\",\"gridwidth\":2}},\"shapedefaults\":{\"line\":{\"color\":\"#2a3f5f\"}},\"annotationdefaults\":{\"arrowcolor\":\"#2a3f5f\",\"arrowhead\":0,\"arrowwidth\":1},\"geo\":{\"bgcolor\":\"white\",\"landcolor\":\"#E5ECF6\",\"subunitcolor\":\"white\",\"showland\":true,\"showlakes\":true,\"lakecolor\":\"white\"},\"title\":{\"x\":0.05},\"mapbox\":{\"style\":\"light\"}}},\"xaxis\":{\"anchor\":\"y\",\"domain\":[0.0,0.00012996750812296928],\"title\":{\"text\":\"\"},\"visible\":false,\"tickangle\":45},\"yaxis\":{\"anchor\":\"x\",\"domain\":[0.0,1.0],\"visible\":true},\"xaxis2\":{\"anchor\":\"y2\",\"domain\":[0.12012996750812296,0.25009747563109225],\"title\":{\"text\":\"Bill<br>Savings<br>usd\"},\"visible\":true,\"tickangle\":45},\"yaxis2\":{\"anchor\":\"x2\",\"domain\":[0.0,1.0],\"visible\":false},\"xaxis3\":{\"anchor\":\"y3\",\"domain\":[0.37009747563109224,0.5000649837540615],\"title\":{\"text\":\"Emission<br>Savings<br>kgCO2e\"},\"visible\":true,\"tickangle\":45},\"yaxis3\":{\"anchor\":\"x3\",\"domain\":[0.0,1.0],\"visible\":false},\"xaxis4\":{\"anchor\":\"y4\",\"domain\":[0.6200649837540615,0.7500324918770308],\"title\":{\"text\":\"Electricity<br>Savings<br>kwh\"},\"visible\":true,\"tickangle\":45},\"yaxis4\":{\"anchor\":\"x4\",\"domain\":[0.0,1.0],\"visible\":false},\"xaxis5\":{\"anchor\":\"y5\",\"domain\":[0.8700324918770308,1.0],\"title\":{\"text\":\"Gas, Propane,<br>Fuel Oil Savings<br>mmbtu\"},\"visible\":true,\"tickangle\":45},\"yaxis5\":{\"anchor\":\"x5\",\"domain\":[0.0,1.0],\"visible\":false},\"title\":{\"text\":\"Total Annual Savings for the Whole Community\"},\"font\":{\"size\":10},\"autosize\":false,\"width\":900,\"height\":500,\"plot_bgcolor\":\"rgba(0, 0, 0, 0)\",\"showlegend\":false},                        {\"responsive\": true}                    ).then(function(){\n",
       "                            \n",
       "var gd = document.getElementById('b509ceff-c6bb-4684-98ad-1b0e10079cc8');\n",
       "var x = new MutationObserver(function (mutations, observer) {{\n",
       "        var display = window.getComputedStyle(gd).display;\n",
       "        if (!display || display === 'none') {{\n",
       "            console.log([gd, 'removed!']);\n",
       "            Plotly.purge(gd);\n",
       "            observer.disconnect();\n",
       "        }}\n",
       "}});\n",
       "\n",
       "// Listen for the removal of the full notebook cells\n",
       "var notebookContainer = gd.closest('#notebook-container');\n",
       "if (notebookContainer) {{\n",
       "    x.observe(notebookContainer, {childList: true});\n",
       "}}\n",
       "\n",
       "// Listen for the clearing of the current output cell\n",
       "var outputEl = gd.closest('.output');\n",
       "if (outputEl) {{\n",
       "    x.observe(outputEl, {childList: true});\n",
       "}}\n",
       "\n",
       "                        })                };                });            </script>        </div>"
      ]
     },
     "metadata": {},
     "output_type": "display_data"
    }
   ],
   "source": [
    "figure_total_savings_1(community_results)"
   ]
  },
  {
   "cell_type": "code",
   "execution_count": 205,
   "id": "ebec6b8d",
   "metadata": {},
   "outputs": [
    {
     "data": {
      "application/vnd.plotly.v1+json": {
       "config": {
        "plotlyServerURL": "https://plot.ly"
       },
       "data": [
        {
         "cliponaxis": false,
         "marker": {
          "color": "rgb(255, 255, 255)",
          "line": {
           "color": "rgb(255, 255, 255)"
          }
         },
         "orientation": "h",
         "textangle": 0,
         "textfont": {
          "size": 10
         },
         "textposition": "outside",
         "type": "bar",
         "x": [
          0,
          0,
          0,
          0,
          0,
          0,
          0,
          0,
          0,
          0,
          0,
          0,
          0,
          0,
          0,
          0,
          0,
          0,
          0,
          0,
          0,
          0,
          0,
          0,
          0,
          0,
          0,
          0,
          0,
          0,
          0,
          0,
          0,
          0,
          0,
          0,
          0,
          0,
          0,
          0,
          0,
          0,
          0,
          0,
          0,
          0,
          0,
          0,
          0,
          0,
          0,
          0,
          0,
          0,
          0,
          0,
          0,
          0,
          0,
          0,
          0,
          0,
          0,
          0,
          0,
          0,
          0,
          0,
          0,
          0,
          0,
          0,
          0,
          0,
          0,
          0,
          0,
          0,
          0,
          0,
          0,
          0,
          0,
          0,
          0,
          0,
          0,
          0,
          0,
          0,
          0,
          0,
          0,
          0,
          0,
          0,
          0,
          0,
          0,
          0,
          0,
          0,
          0,
          0,
          0,
          0,
          0,
          0,
          0,
          0,
          0,
          0,
          0,
          0,
          0,
          0,
          0,
          0,
          0,
          0,
          0,
          0,
          0,
          0,
          0,
          0,
          0,
          0,
          0,
          0,
          0,
          0,
          0,
          0,
          0,
          0,
          0,
          0,
          0,
          0,
          0,
          0,
          0,
          0,
          0,
          0,
          0,
          0,
          0,
          0,
          0,
          0,
          0,
          0,
          0,
          0,
          0,
          0,
          0,
          0,
          0,
          0,
          0,
          0,
          0,
          0,
          0,
          0,
          0,
          0,
          0,
          0,
          0,
          0,
          0,
          0
         ],
         "xaxis": "x",
         "y": [
          "Mininum Efficiency Whole Home Electrification",
          "Electric Cooking",
          "Electric Clothes Dryer",
          "Induction Cooking",
          "Heat Pump Clothes Dryer",
          "Mininum Efficiency Heat Pump with Electric Heat Backup",
          "Heat Pump Water Heater",
          "Mininum Efficiency Heat Pump with Existing Heat Backup",
          "Basic Enclosure",
          "Enhanced Enclosure",
          "High Efficiency Heat Pump with Electric Heat Backup",
          "High Efficiency Whole Home Electrification",
          "Basic Enclosure + HPWH + High Efficiency HP/Electric Backup",
          "Basic Enclosure + High Efficiency Whole Home Electrification",
          "Enhanced Enclosure + HPWH + High Efficiency HP/Electric Backup",
          "Enhanced Enclosure + High Efficiency Whole Home Electrification"
         ],
         "yaxis": "y"
        },
        {
         "cliponaxis": false,
         "marker": {
          "color": "rgb(0, 121, 61)",
          "line": {
           "color": "rgb(0, 121, 61)"
          }
         },
         "orientation": "h",
         "text": [
          -5076258.981235302,
          -190569.29513792906,
          -143200.64392729363,
          -75632.63163280909,
          489373.55545966915,
          1863249.305043874,
          2410953.1667605233,
          6743739.513363364,
          9004889.418568244,
          11070513.88387132,
          17675142.881065346,
          21875532.901328597,
          25768479.355942287,
          26244049.709158134,
          26391241.064738248,
          26866811.417954095
         ],
         "textangle": 0,
         "textfont": {
          "size": 10
         },
         "textposition": "outside",
         "texttemplate": "%{text:.3s}",
         "type": "bar",
         "x": [
          -5076258.981235302,
          -190569.29513792906,
          -143200.64392729363,
          -75632.63163280909,
          489373.55545966915,
          1863249.305043874,
          2410953.1667605233,
          6743739.513363364,
          9004889.418568244,
          11070513.88387132,
          17675142.881065346,
          21875532.901328597,
          25768479.355942287,
          26244049.709158134,
          26391241.064738248,
          26866811.417954095
         ],
         "xaxis": "x2",
         "y": [
          "Mininum Efficiency Whole Home Electrification",
          "Electric Cooking",
          "Electric Clothes Dryer",
          "Induction Cooking",
          "Heat Pump Clothes Dryer",
          "Mininum Efficiency Heat Pump with Electric Heat Backup",
          "Heat Pump Water Heater",
          "Mininum Efficiency Heat Pump with Existing Heat Backup",
          "Basic Enclosure",
          "Enhanced Enclosure",
          "High Efficiency Heat Pump with Electric Heat Backup",
          "High Efficiency Whole Home Electrification",
          "Basic Enclosure + HPWH + High Efficiency HP/Electric Backup",
          "Basic Enclosure + High Efficiency Whole Home Electrification",
          "Enhanced Enclosure + HPWH + High Efficiency HP/Electric Backup",
          "Enhanced Enclosure + High Efficiency Whole Home Electrification"
         ],
         "yaxis": "y2"
        },
        {
         "cliponaxis": false,
         "marker": {
          "color": "rgb(0, 121, 61)",
          "line": {
           "color": "rgb(0, 121, 61)"
          }
         },
         "orientation": "h",
         "text": [
          46954401.1450281,
          781111.8110404377,
          100647.86618534633,
          1027917.7262473437,
          1422920.4213458998,
          54531861.77544936,
          10434132.472632987,
          37675811.32602645,
          36579567.7501986,
          44691404.238177136,
          93199613.35512409,
          111646578.4098556,
          119902949.56665353,
          122353787.71424678,
          121476671.30844235,
          123927509.4560356
         ],
         "textangle": 0,
         "textfont": {
          "size": 10
         },
         "textposition": "outside",
         "texttemplate": "%{text:.3s}",
         "type": "bar",
         "x": [
          46954401.1450281,
          781111.8110404377,
          100647.86618534633,
          1027917.7262473437,
          1422920.4213458998,
          54531861.77544936,
          10434132.472632987,
          37675811.32602645,
          36579567.7501986,
          44691404.238177136,
          93199613.35512409,
          111646578.4098556,
          119902949.56665353,
          122353787.71424678,
          121476671.30844235,
          123927509.4560356
         ],
         "xaxis": "x3",
         "y": [
          "Mininum Efficiency Whole Home Electrification",
          "Electric Cooking",
          "Electric Clothes Dryer",
          "Induction Cooking",
          "Heat Pump Clothes Dryer",
          "Mininum Efficiency Heat Pump with Electric Heat Backup",
          "Heat Pump Water Heater",
          "Mininum Efficiency Heat Pump with Existing Heat Backup",
          "Basic Enclosure",
          "Enhanced Enclosure",
          "High Efficiency Heat Pump with Electric Heat Backup",
          "High Efficiency Whole Home Electrification",
          "Basic Enclosure + HPWH + High Efficiency HP/Electric Backup",
          "Basic Enclosure + High Efficiency Whole Home Electrification",
          "Enhanced Enclosure + HPWH + High Efficiency HP/Electric Backup",
          "Enhanced Enclosure + High Efficiency Whole Home Electrification"
         ],
         "yaxis": "y3"
        },
        {
         "cliponaxis": false,
         "marker": {
          "color": "rgb(0, 121, 61)",
          "line": {
           "color": "rgb(0, 121, 61)"
          }
         },
         "orientation": "h",
         "text": [
          56110.985,
          666.6410000000002,
          116.93800000000036,
          807.1950000000005,
          1015.0430000000007,
          50836.863,
          7759.364999999999,
          26670.453,
          29277.192,
          35879.383,
          73440.19,
          87449.828,
          92386.525,
          94208.763,
          93419.903,
          95242.141
         ],
         "textangle": 0,
         "textfont": {
          "size": 10
         },
         "textposition": "outside",
         "texttemplate": "%{text:.3s}",
         "type": "bar",
         "x": [
          56110.985,
          666.6410000000002,
          116.93800000000036,
          807.1950000000005,
          1015.0430000000007,
          50836.863,
          7759.364999999999,
          26670.453,
          29277.192,
          35879.383,
          73440.19,
          87449.828,
          92386.525,
          94208.763,
          93419.903,
          95242.141
         ],
         "xaxis": "x4",
         "y": [
          "Mininum Efficiency Whole Home Electrification",
          "Electric Cooking",
          "Electric Clothes Dryer",
          "Induction Cooking",
          "Heat Pump Clothes Dryer",
          "Mininum Efficiency Heat Pump with Electric Heat Backup",
          "Heat Pump Water Heater",
          "Mininum Efficiency Heat Pump with Existing Heat Backup",
          "Basic Enclosure",
          "Enhanced Enclosure",
          "High Efficiency Heat Pump with Electric Heat Backup",
          "High Efficiency Whole Home Electrification",
          "Basic Enclosure + HPWH + High Efficiency HP/Electric Backup",
          "Basic Enclosure + High Efficiency Whole Home Electrification",
          "Enhanced Enclosure + HPWH + High Efficiency HP/Electric Backup",
          "Enhanced Enclosure + High Efficiency Whole Home Electrification"
         ],
         "yaxis": "y4"
        },
        {
         "cliponaxis": false,
         "marker": {
          "color": "rgb(0, 121, 61)",
          "line": {
           "color": "rgb(0, 121, 61)"
          }
         },
         "orientation": "h",
         "text": [
          -122160329.33746122,
          -3302929.005058265,
          -1731896.191037289,
          -2328960.8484984543,
          3628493.2655885858,
          -49302448.64599976,
          12727699.115719723,
          28747323.66457673,
          55935185.5545576,
          69455360.60749766,
          84693636.00819063,
          106227267.22351207,
          141946240.2410035,
          143245772.65809363,
          147223479.3396821,
          148523011.75677225
         ],
         "textangle": 0,
         "textfont": {
          "size": 10
         },
         "textposition": "outside",
         "texttemplate": "%{text:.3s}",
         "type": "bar",
         "x": [
          -122160329.33746122,
          -3302929.005058265,
          -1731896.191037289,
          -2328960.8484984543,
          3628493.2655885858,
          -49302448.64599976,
          12727699.115719723,
          28747323.66457673,
          55935185.5545576,
          69455360.60749766,
          84693636.00819063,
          106227267.22351207,
          141946240.2410035,
          143245772.65809363,
          147223479.3396821,
          148523011.75677225
         ],
         "xaxis": "x5",
         "y": [
          "Mininum Efficiency Whole Home Electrification",
          "Electric Cooking",
          "Electric Clothes Dryer",
          "Induction Cooking",
          "Heat Pump Clothes Dryer",
          "Mininum Efficiency Heat Pump with Electric Heat Backup",
          "Heat Pump Water Heater",
          "Mininum Efficiency Heat Pump with Existing Heat Backup",
          "Basic Enclosure",
          "Enhanced Enclosure",
          "High Efficiency Heat Pump with Electric Heat Backup",
          "High Efficiency Whole Home Electrification",
          "Basic Enclosure + HPWH + High Efficiency HP/Electric Backup",
          "Basic Enclosure + High Efficiency Whole Home Electrification",
          "Enhanced Enclosure + HPWH + High Efficiency HP/Electric Backup",
          "Enhanced Enclosure + High Efficiency Whole Home Electrification"
         ],
         "yaxis": "y5"
        },
        {
         "cliponaxis": false,
         "marker": {
          "color": "rgb(0, 121, 61)",
          "line": {
           "color": "rgb(0, 121, 61)"
          }
         },
         "orientation": "h",
         "text": [
          1208957.587212054,
          23496.871714351302,
          7695.434793469958,
          23496.83255757164,
          7695.434793469958,
          1019757.6164033462,
          107317.62088447784,
          426257.77869508887,
          304517.4899282712,
          365259.4185397178,
          1019649.0097826732,
          1208957.587212054,
          1177765.3198610125,
          1208957.587212054,
          1177765.3198610125,
          1208957.587212054
         ],
         "textangle": 0,
         "textfont": {
          "size": 10
         },
         "textposition": "outside",
         "texttemplate": "%{text:.3s}",
         "type": "bar",
         "x": [
          1208957.587212054,
          23496.871714351302,
          7695.434793469958,
          23496.83255757164,
          7695.434793469958,
          1019757.6164033462,
          107317.62088447784,
          426257.77869508887,
          304517.4899282712,
          365259.4185397178,
          1019649.0097826732,
          1208957.587212054,
          1177765.3198610125,
          1208957.587212054,
          1177765.3198610125,
          1208957.587212054
         ],
         "xaxis": "x6",
         "y": [
          "Mininum Efficiency Whole Home Electrification",
          "Electric Cooking",
          "Electric Clothes Dryer",
          "Induction Cooking",
          "Heat Pump Clothes Dryer",
          "Mininum Efficiency Heat Pump with Electric Heat Backup",
          "Heat Pump Water Heater",
          "Mininum Efficiency Heat Pump with Existing Heat Backup",
          "Basic Enclosure",
          "Enhanced Enclosure",
          "High Efficiency Heat Pump with Electric Heat Backup",
          "High Efficiency Whole Home Electrification",
          "Basic Enclosure + HPWH + High Efficiency HP/Electric Backup",
          "Basic Enclosure + High Efficiency Whole Home Electrification",
          "Enhanced Enclosure + HPWH + High Efficiency HP/Electric Backup",
          "Enhanced Enclosure + High Efficiency Whole Home Electrification"
         ],
         "yaxis": "y6"
        }
       ],
       "layout": {
        "autosize": false,
        "font": {
         "size": 10
        },
        "height": 500,
        "plot_bgcolor": "rgba(0, 0, 0, 0)",
        "showlegend": false,
        "template": {
         "data": {
          "bar": [
           {
            "error_x": {
             "color": "#2a3f5f"
            },
            "error_y": {
             "color": "#2a3f5f"
            },
            "marker": {
             "line": {
              "color": "#E5ECF6",
              "width": 0.5
             },
             "pattern": {
              "fillmode": "overlay",
              "size": 10,
              "solidity": 0.2
             }
            },
            "type": "bar"
           }
          ],
          "barpolar": [
           {
            "marker": {
             "line": {
              "color": "#E5ECF6",
              "width": 0.5
             },
             "pattern": {
              "fillmode": "overlay",
              "size": 10,
              "solidity": 0.2
             }
            },
            "type": "barpolar"
           }
          ],
          "carpet": [
           {
            "aaxis": {
             "endlinecolor": "#2a3f5f",
             "gridcolor": "white",
             "linecolor": "white",
             "minorgridcolor": "white",
             "startlinecolor": "#2a3f5f"
            },
            "baxis": {
             "endlinecolor": "#2a3f5f",
             "gridcolor": "white",
             "linecolor": "white",
             "minorgridcolor": "white",
             "startlinecolor": "#2a3f5f"
            },
            "type": "carpet"
           }
          ],
          "choropleth": [
           {
            "colorbar": {
             "outlinewidth": 0,
             "ticks": ""
            },
            "type": "choropleth"
           }
          ],
          "contour": [
           {
            "colorbar": {
             "outlinewidth": 0,
             "ticks": ""
            },
            "colorscale": [
             [
              0,
              "#0d0887"
             ],
             [
              0.1111111111111111,
              "#46039f"
             ],
             [
              0.2222222222222222,
              "#7201a8"
             ],
             [
              0.3333333333333333,
              "#9c179e"
             ],
             [
              0.4444444444444444,
              "#bd3786"
             ],
             [
              0.5555555555555556,
              "#d8576b"
             ],
             [
              0.6666666666666666,
              "#ed7953"
             ],
             [
              0.7777777777777778,
              "#fb9f3a"
             ],
             [
              0.8888888888888888,
              "#fdca26"
             ],
             [
              1,
              "#f0f921"
             ]
            ],
            "type": "contour"
           }
          ],
          "contourcarpet": [
           {
            "colorbar": {
             "outlinewidth": 0,
             "ticks": ""
            },
            "type": "contourcarpet"
           }
          ],
          "heatmap": [
           {
            "colorbar": {
             "outlinewidth": 0,
             "ticks": ""
            },
            "colorscale": [
             [
              0,
              "#0d0887"
             ],
             [
              0.1111111111111111,
              "#46039f"
             ],
             [
              0.2222222222222222,
              "#7201a8"
             ],
             [
              0.3333333333333333,
              "#9c179e"
             ],
             [
              0.4444444444444444,
              "#bd3786"
             ],
             [
              0.5555555555555556,
              "#d8576b"
             ],
             [
              0.6666666666666666,
              "#ed7953"
             ],
             [
              0.7777777777777778,
              "#fb9f3a"
             ],
             [
              0.8888888888888888,
              "#fdca26"
             ],
             [
              1,
              "#f0f921"
             ]
            ],
            "type": "heatmap"
           }
          ],
          "heatmapgl": [
           {
            "colorbar": {
             "outlinewidth": 0,
             "ticks": ""
            },
            "colorscale": [
             [
              0,
              "#0d0887"
             ],
             [
              0.1111111111111111,
              "#46039f"
             ],
             [
              0.2222222222222222,
              "#7201a8"
             ],
             [
              0.3333333333333333,
              "#9c179e"
             ],
             [
              0.4444444444444444,
              "#bd3786"
             ],
             [
              0.5555555555555556,
              "#d8576b"
             ],
             [
              0.6666666666666666,
              "#ed7953"
             ],
             [
              0.7777777777777778,
              "#fb9f3a"
             ],
             [
              0.8888888888888888,
              "#fdca26"
             ],
             [
              1,
              "#f0f921"
             ]
            ],
            "type": "heatmapgl"
           }
          ],
          "histogram": [
           {
            "marker": {
             "pattern": {
              "fillmode": "overlay",
              "size": 10,
              "solidity": 0.2
             }
            },
            "type": "histogram"
           }
          ],
          "histogram2d": [
           {
            "colorbar": {
             "outlinewidth": 0,
             "ticks": ""
            },
            "colorscale": [
             [
              0,
              "#0d0887"
             ],
             [
              0.1111111111111111,
              "#46039f"
             ],
             [
              0.2222222222222222,
              "#7201a8"
             ],
             [
              0.3333333333333333,
              "#9c179e"
             ],
             [
              0.4444444444444444,
              "#bd3786"
             ],
             [
              0.5555555555555556,
              "#d8576b"
             ],
             [
              0.6666666666666666,
              "#ed7953"
             ],
             [
              0.7777777777777778,
              "#fb9f3a"
             ],
             [
              0.8888888888888888,
              "#fdca26"
             ],
             [
              1,
              "#f0f921"
             ]
            ],
            "type": "histogram2d"
           }
          ],
          "histogram2dcontour": [
           {
            "colorbar": {
             "outlinewidth": 0,
             "ticks": ""
            },
            "colorscale": [
             [
              0,
              "#0d0887"
             ],
             [
              0.1111111111111111,
              "#46039f"
             ],
             [
              0.2222222222222222,
              "#7201a8"
             ],
             [
              0.3333333333333333,
              "#9c179e"
             ],
             [
              0.4444444444444444,
              "#bd3786"
             ],
             [
              0.5555555555555556,
              "#d8576b"
             ],
             [
              0.6666666666666666,
              "#ed7953"
             ],
             [
              0.7777777777777778,
              "#fb9f3a"
             ],
             [
              0.8888888888888888,
              "#fdca26"
             ],
             [
              1,
              "#f0f921"
             ]
            ],
            "type": "histogram2dcontour"
           }
          ],
          "mesh3d": [
           {
            "colorbar": {
             "outlinewidth": 0,
             "ticks": ""
            },
            "type": "mesh3d"
           }
          ],
          "parcoords": [
           {
            "line": {
             "colorbar": {
              "outlinewidth": 0,
              "ticks": ""
             }
            },
            "type": "parcoords"
           }
          ],
          "pie": [
           {
            "automargin": true,
            "type": "pie"
           }
          ],
          "scatter": [
           {
            "fillpattern": {
             "fillmode": "overlay",
             "size": 10,
             "solidity": 0.2
            },
            "type": "scatter"
           }
          ],
          "scatter3d": [
           {
            "line": {
             "colorbar": {
              "outlinewidth": 0,
              "ticks": ""
             }
            },
            "marker": {
             "colorbar": {
              "outlinewidth": 0,
              "ticks": ""
             }
            },
            "type": "scatter3d"
           }
          ],
          "scattercarpet": [
           {
            "marker": {
             "colorbar": {
              "outlinewidth": 0,
              "ticks": ""
             }
            },
            "type": "scattercarpet"
           }
          ],
          "scattergeo": [
           {
            "marker": {
             "colorbar": {
              "outlinewidth": 0,
              "ticks": ""
             }
            },
            "type": "scattergeo"
           }
          ],
          "scattergl": [
           {
            "marker": {
             "colorbar": {
              "outlinewidth": 0,
              "ticks": ""
             }
            },
            "type": "scattergl"
           }
          ],
          "scattermapbox": [
           {
            "marker": {
             "colorbar": {
              "outlinewidth": 0,
              "ticks": ""
             }
            },
            "type": "scattermapbox"
           }
          ],
          "scatterpolar": [
           {
            "marker": {
             "colorbar": {
              "outlinewidth": 0,
              "ticks": ""
             }
            },
            "type": "scatterpolar"
           }
          ],
          "scatterpolargl": [
           {
            "marker": {
             "colorbar": {
              "outlinewidth": 0,
              "ticks": ""
             }
            },
            "type": "scatterpolargl"
           }
          ],
          "scatterternary": [
           {
            "marker": {
             "colorbar": {
              "outlinewidth": 0,
              "ticks": ""
             }
            },
            "type": "scatterternary"
           }
          ],
          "surface": [
           {
            "colorbar": {
             "outlinewidth": 0,
             "ticks": ""
            },
            "colorscale": [
             [
              0,
              "#0d0887"
             ],
             [
              0.1111111111111111,
              "#46039f"
             ],
             [
              0.2222222222222222,
              "#7201a8"
             ],
             [
              0.3333333333333333,
              "#9c179e"
             ],
             [
              0.4444444444444444,
              "#bd3786"
             ],
             [
              0.5555555555555556,
              "#d8576b"
             ],
             [
              0.6666666666666666,
              "#ed7953"
             ],
             [
              0.7777777777777778,
              "#fb9f3a"
             ],
             [
              0.8888888888888888,
              "#fdca26"
             ],
             [
              1,
              "#f0f921"
             ]
            ],
            "type": "surface"
           }
          ],
          "table": [
           {
            "cells": {
             "fill": {
              "color": "#EBF0F8"
             },
             "line": {
              "color": "white"
             }
            },
            "header": {
             "fill": {
              "color": "#C8D4E3"
             },
             "line": {
              "color": "white"
             }
            },
            "type": "table"
           }
          ]
         },
         "layout": {
          "annotationdefaults": {
           "arrowcolor": "#2a3f5f",
           "arrowhead": 0,
           "arrowwidth": 1
          },
          "autotypenumbers": "strict",
          "coloraxis": {
           "colorbar": {
            "outlinewidth": 0,
            "ticks": ""
           }
          },
          "colorscale": {
           "diverging": [
            [
             0,
             "#8e0152"
            ],
            [
             0.1,
             "#c51b7d"
            ],
            [
             0.2,
             "#de77ae"
            ],
            [
             0.3,
             "#f1b6da"
            ],
            [
             0.4,
             "#fde0ef"
            ],
            [
             0.5,
             "#f7f7f7"
            ],
            [
             0.6,
             "#e6f5d0"
            ],
            [
             0.7,
             "#b8e186"
            ],
            [
             0.8,
             "#7fbc41"
            ],
            [
             0.9,
             "#4d9221"
            ],
            [
             1,
             "#276419"
            ]
           ],
           "sequential": [
            [
             0,
             "#0d0887"
            ],
            [
             0.1111111111111111,
             "#46039f"
            ],
            [
             0.2222222222222222,
             "#7201a8"
            ],
            [
             0.3333333333333333,
             "#9c179e"
            ],
            [
             0.4444444444444444,
             "#bd3786"
            ],
            [
             0.5555555555555556,
             "#d8576b"
            ],
            [
             0.6666666666666666,
             "#ed7953"
            ],
            [
             0.7777777777777778,
             "#fb9f3a"
            ],
            [
             0.8888888888888888,
             "#fdca26"
            ],
            [
             1,
             "#f0f921"
            ]
           ],
           "sequentialminus": [
            [
             0,
             "#0d0887"
            ],
            [
             0.1111111111111111,
             "#46039f"
            ],
            [
             0.2222222222222222,
             "#7201a8"
            ],
            [
             0.3333333333333333,
             "#9c179e"
            ],
            [
             0.4444444444444444,
             "#bd3786"
            ],
            [
             0.5555555555555556,
             "#d8576b"
            ],
            [
             0.6666666666666666,
             "#ed7953"
            ],
            [
             0.7777777777777778,
             "#fb9f3a"
            ],
            [
             0.8888888888888888,
             "#fdca26"
            ],
            [
             1,
             "#f0f921"
            ]
           ]
          },
          "colorway": [
           "#636efa",
           "#EF553B",
           "#00cc96",
           "#ab63fa",
           "#FFA15A",
           "#19d3f3",
           "#FF6692",
           "#B6E880",
           "#FF97FF",
           "#FECB52"
          ],
          "font": {
           "color": "#2a3f5f"
          },
          "geo": {
           "bgcolor": "white",
           "lakecolor": "white",
           "landcolor": "#E5ECF6",
           "showlakes": true,
           "showland": true,
           "subunitcolor": "white"
          },
          "hoverlabel": {
           "align": "left"
          },
          "hovermode": "closest",
          "mapbox": {
           "style": "light"
          },
          "paper_bgcolor": "white",
          "plot_bgcolor": "#E5ECF6",
          "polar": {
           "angularaxis": {
            "gridcolor": "white",
            "linecolor": "white",
            "ticks": ""
           },
           "bgcolor": "#E5ECF6",
           "radialaxis": {
            "gridcolor": "white",
            "linecolor": "white",
            "ticks": ""
           }
          },
          "scene": {
           "xaxis": {
            "backgroundcolor": "#E5ECF6",
            "gridcolor": "white",
            "gridwidth": 2,
            "linecolor": "white",
            "showbackground": true,
            "ticks": "",
            "zerolinecolor": "white"
           },
           "yaxis": {
            "backgroundcolor": "#E5ECF6",
            "gridcolor": "white",
            "gridwidth": 2,
            "linecolor": "white",
            "showbackground": true,
            "ticks": "",
            "zerolinecolor": "white"
           },
           "zaxis": {
            "backgroundcolor": "#E5ECF6",
            "gridcolor": "white",
            "gridwidth": 2,
            "linecolor": "white",
            "showbackground": true,
            "ticks": "",
            "zerolinecolor": "white"
           }
          },
          "shapedefaults": {
           "line": {
            "color": "#2a3f5f"
           }
          },
          "ternary": {
           "aaxis": {
            "gridcolor": "white",
            "linecolor": "white",
            "ticks": ""
           },
           "baxis": {
            "gridcolor": "white",
            "linecolor": "white",
            "ticks": ""
           },
           "bgcolor": "#E5ECF6",
           "caxis": {
            "gridcolor": "white",
            "linecolor": "white",
            "ticks": ""
           }
          },
          "title": {
           "x": 0.05
          },
          "xaxis": {
           "automargin": true,
           "gridcolor": "white",
           "linecolor": "white",
           "ticks": "",
           "title": {
            "standoff": 15
           },
           "zerolinecolor": "white",
           "zerolinewidth": 2
          },
          "yaxis": {
           "automargin": true,
           "gridcolor": "white",
           "linecolor": "white",
           "ticks": "",
           "title": {
            "standoff": 15
           },
           "zerolinecolor": "white",
           "zerolinewidth": 2
          }
         }
        },
        "title": {
         "text": "Community Total Annual Savings"
        },
        "width": 1100,
        "xaxis": {
         "anchor": "y",
         "domain": [
          0,
          7.998400319936014e-05
         ],
         "tickangle": 45,
         "title": {
          "text": ""
         },
         "visible": false
        },
        "xaxis2": {
         "anchor": "y2",
         "domain": [
          0.12007998400319936,
          0.2000639872025595
         ],
         "tickangle": 45,
         "title": {
          "text": "Bill<br>Savings<br>usd"
         },
         "visible": true
        },
        "xaxis3": {
         "anchor": "y3",
         "domain": [
          0.32006398720255946,
          0.40004799040191963
         ],
         "tickangle": 45,
         "title": {
          "text": "Site Emission<br>Saving<br>kgCO2e"
         },
         "visible": true
        },
        "xaxis4": {
         "anchor": "y4",
         "domain": [
          0.5200479904019196,
          0.6000319936012798
         ],
         "tickangle": 45,
         "title": {
          "text": "Site Energy<br>Saving<br>mmbtu"
         },
         "visible": true
        },
        "xaxis5": {
         "anchor": "y5",
         "domain": [
          0.7200319936012798,
          0.80001599680064
         ],
         "tickangle": 45,
         "title": {
          "text": "Electricity<br>Saving<br>kwh"
         },
         "visible": true
        },
        "xaxis6": {
         "anchor": "y6",
         "domain": [
          0.9200159968006398,
          1
         ],
         "tickangle": 45,
         "title": {
          "text": "Gas, Propane,<br>Fuel Oil Saving<br>mmbtu"
         },
         "visible": true
        },
        "yaxis": {
         "anchor": "x",
         "domain": [
          0,
          1
         ],
         "visible": true
        },
        "yaxis2": {
         "anchor": "x2",
         "domain": [
          0,
          1
         ],
         "visible": false
        },
        "yaxis3": {
         "anchor": "x3",
         "domain": [
          0,
          1
         ],
         "visible": false
        },
        "yaxis4": {
         "anchor": "x4",
         "domain": [
          0,
          1
         ],
         "visible": false
        },
        "yaxis5": {
         "anchor": "x5",
         "domain": [
          0,
          1
         ],
         "visible": false
        },
        "yaxis6": {
         "anchor": "x6",
         "domain": [
          0,
          1
         ],
         "visible": false
        }
       }
      },
      "text/html": [
       "<div>                            <div id=\"4775a227-4a90-4889-b7e1-645e3c14a17c\" class=\"plotly-graph-div\" style=\"height:500px; width:1100px;\"></div>            <script type=\"text/javascript\">                require([\"plotly\"], function(Plotly) {                    window.PLOTLYENV=window.PLOTLYENV || {};                                    if (document.getElementById(\"4775a227-4a90-4889-b7e1-645e3c14a17c\")) {                    Plotly.newPlot(                        \"4775a227-4a90-4889-b7e1-645e3c14a17c\",                        [{\"orientation\":\"h\",\"x\":[0,0,0,0,0,0,0,0,0,0,0,0,0,0,0,0,0,0,0,0,0,0,0,0,0,0,0,0,0,0,0,0,0,0,0,0,0,0,0,0,0,0,0,0,0,0,0,0,0,0,0,0,0,0,0,0,0,0,0,0,0,0,0,0,0,0,0,0,0,0,0,0,0,0,0,0,0,0,0,0,0,0,0,0,0,0,0,0,0,0,0,0,0,0,0,0,0,0,0,0,0,0,0,0,0,0,0,0,0,0,0,0,0,0,0,0,0,0,0,0,0,0,0,0,0,0,0,0,0,0,0,0,0,0,0,0,0,0,0,0,0,0,0,0,0,0,0,0,0,0,0,0,0,0,0,0,0,0,0,0,0,0,0,0,0,0,0,0,0,0,0,0,0,0,0,0],\"y\":[\"Mininum Efficiency Whole Home Electrification\",\"Electric Cooking\",\"Electric Clothes Dryer\",\"Induction Cooking\",\"Heat Pump Clothes Dryer\",\"Mininum Efficiency Heat Pump with Electric Heat Backup\",\"Heat Pump Water Heater\",\"Mininum Efficiency Heat Pump with Existing Heat Backup\",\"Basic Enclosure\",\"Enhanced Enclosure\",\"High Efficiency Heat Pump with Electric Heat Backup\",\"High Efficiency Whole Home Electrification\",\"Basic Enclosure + HPWH + High Efficiency HP/Electric Backup\",\"Basic Enclosure + High Efficiency Whole Home Electrification\",\"Enhanced Enclosure + HPWH + High Efficiency HP/Electric Backup\",\"Enhanced Enclosure + High Efficiency Whole Home Electrification\"],\"type\":\"bar\",\"xaxis\":\"x\",\"yaxis\":\"y\",\"textfont\":{\"size\":10},\"cliponaxis\":false,\"textangle\":0,\"textposition\":\"outside\",\"marker\":{\"line\":{\"color\":\"rgb(255, 255, 255)\"},\"color\":\"rgb(255, 255, 255)\"}},{\"orientation\":\"h\",\"text\":[-5076258.981235302,-190569.29513792906,-143200.64392729363,-75632.63163280909,489373.55545966915,1863249.305043874,2410953.1667605233,6743739.513363364,9004889.418568244,11070513.88387132,17675142.881065346,21875532.901328597,25768479.355942287,26244049.709158134,26391241.064738248,26866811.417954095],\"x\":[-5076258.981235302,-190569.29513792906,-143200.64392729363,-75632.63163280909,489373.55545966915,1863249.305043874,2410953.1667605233,6743739.513363364,9004889.418568244,11070513.88387132,17675142.881065346,21875532.901328597,25768479.355942287,26244049.709158134,26391241.064738248,26866811.417954095],\"y\":[\"Mininum Efficiency Whole Home Electrification\",\"Electric Cooking\",\"Electric Clothes Dryer\",\"Induction Cooking\",\"Heat Pump Clothes Dryer\",\"Mininum Efficiency Heat Pump with Electric Heat Backup\",\"Heat Pump Water Heater\",\"Mininum Efficiency Heat Pump with Existing Heat Backup\",\"Basic Enclosure\",\"Enhanced Enclosure\",\"High Efficiency Heat Pump with Electric Heat Backup\",\"High Efficiency Whole Home Electrification\",\"Basic Enclosure + HPWH + High Efficiency HP/Electric Backup\",\"Basic Enclosure + High Efficiency Whole Home Electrification\",\"Enhanced Enclosure + HPWH + High Efficiency HP/Electric Backup\",\"Enhanced Enclosure + High Efficiency Whole Home Electrification\"],\"type\":\"bar\",\"xaxis\":\"x2\",\"yaxis\":\"y2\",\"textfont\":{\"size\":10},\"cliponaxis\":false,\"textangle\":0,\"textposition\":\"outside\",\"marker\":{\"line\":{\"color\":\"rgb(0, 121, 61)\"},\"color\":\"rgb(0, 121, 61)\"},\"texttemplate\":\"%{text:.3s}\"},{\"orientation\":\"h\",\"text\":[46954401.1450281,781111.8110404377,100647.86618534633,1027917.7262473437,1422920.4213458998,54531861.77544936,10434132.472632987,37675811.32602645,36579567.7501986,44691404.238177136,93199613.35512409,111646578.4098556,119902949.56665353,122353787.71424678,121476671.30844235,123927509.4560356],\"x\":[46954401.1450281,781111.8110404377,100647.86618534633,1027917.7262473437,1422920.4213458998,54531861.77544936,10434132.472632987,37675811.32602645,36579567.7501986,44691404.238177136,93199613.35512409,111646578.4098556,119902949.56665353,122353787.71424678,121476671.30844235,123927509.4560356],\"y\":[\"Mininum Efficiency Whole Home Electrification\",\"Electric Cooking\",\"Electric Clothes Dryer\",\"Induction Cooking\",\"Heat Pump Clothes Dryer\",\"Mininum Efficiency Heat Pump with Electric Heat Backup\",\"Heat Pump Water Heater\",\"Mininum Efficiency Heat Pump with Existing Heat Backup\",\"Basic Enclosure\",\"Enhanced Enclosure\",\"High Efficiency Heat Pump with Electric Heat Backup\",\"High Efficiency Whole Home Electrification\",\"Basic Enclosure + HPWH + High Efficiency HP/Electric Backup\",\"Basic Enclosure + High Efficiency Whole Home Electrification\",\"Enhanced Enclosure + HPWH + High Efficiency HP/Electric Backup\",\"Enhanced Enclosure + High Efficiency Whole Home Electrification\"],\"type\":\"bar\",\"xaxis\":\"x3\",\"yaxis\":\"y3\",\"textfont\":{\"size\":10},\"cliponaxis\":false,\"textangle\":0,\"textposition\":\"outside\",\"marker\":{\"line\":{\"color\":\"rgb(0, 121, 61)\"},\"color\":\"rgb(0, 121, 61)\"},\"texttemplate\":\"%{text:.3s}\"},{\"orientation\":\"h\",\"text\":[56110.985,666.6410000000002,116.93800000000036,807.1950000000005,1015.0430000000007,50836.863,7759.364999999999,26670.453,29277.192,35879.383,73440.19,87449.828,92386.525,94208.763,93419.903,95242.141],\"x\":[56110.985,666.6410000000002,116.93800000000036,807.1950000000005,1015.0430000000007,50836.863,7759.364999999999,26670.453,29277.192,35879.383,73440.19,87449.828,92386.525,94208.763,93419.903,95242.141],\"y\":[\"Mininum Efficiency Whole Home Electrification\",\"Electric Cooking\",\"Electric Clothes Dryer\",\"Induction Cooking\",\"Heat Pump Clothes Dryer\",\"Mininum Efficiency Heat Pump with Electric Heat Backup\",\"Heat Pump Water Heater\",\"Mininum Efficiency Heat Pump with Existing Heat Backup\",\"Basic Enclosure\",\"Enhanced Enclosure\",\"High Efficiency Heat Pump with Electric Heat Backup\",\"High Efficiency Whole Home Electrification\",\"Basic Enclosure + HPWH + High Efficiency HP/Electric Backup\",\"Basic Enclosure + High Efficiency Whole Home Electrification\",\"Enhanced Enclosure + HPWH + High Efficiency HP/Electric Backup\",\"Enhanced Enclosure + High Efficiency Whole Home Electrification\"],\"type\":\"bar\",\"xaxis\":\"x4\",\"yaxis\":\"y4\",\"textfont\":{\"size\":10},\"cliponaxis\":false,\"textangle\":0,\"textposition\":\"outside\",\"marker\":{\"line\":{\"color\":\"rgb(0, 121, 61)\"},\"color\":\"rgb(0, 121, 61)\"},\"texttemplate\":\"%{text:.3s}\"},{\"orientation\":\"h\",\"text\":[-122160329.33746122,-3302929.005058265,-1731896.191037289,-2328960.8484984543,3628493.2655885858,-49302448.64599976,12727699.115719723,28747323.66457673,55935185.5545576,69455360.60749766,84693636.00819063,106227267.22351207,141946240.2410035,143245772.65809363,147223479.3396821,148523011.75677225],\"x\":[-122160329.33746122,-3302929.005058265,-1731896.191037289,-2328960.8484984543,3628493.2655885858,-49302448.64599976,12727699.115719723,28747323.66457673,55935185.5545576,69455360.60749766,84693636.00819063,106227267.22351207,141946240.2410035,143245772.65809363,147223479.3396821,148523011.75677225],\"y\":[\"Mininum Efficiency Whole Home Electrification\",\"Electric Cooking\",\"Electric Clothes Dryer\",\"Induction Cooking\",\"Heat Pump Clothes Dryer\",\"Mininum Efficiency Heat Pump with Electric Heat Backup\",\"Heat Pump Water Heater\",\"Mininum Efficiency Heat Pump with Existing Heat Backup\",\"Basic Enclosure\",\"Enhanced Enclosure\",\"High Efficiency Heat Pump with Electric Heat Backup\",\"High Efficiency Whole Home Electrification\",\"Basic Enclosure + HPWH + High Efficiency HP/Electric Backup\",\"Basic Enclosure + High Efficiency Whole Home Electrification\",\"Enhanced Enclosure + HPWH + High Efficiency HP/Electric Backup\",\"Enhanced Enclosure + High Efficiency Whole Home Electrification\"],\"type\":\"bar\",\"xaxis\":\"x5\",\"yaxis\":\"y5\",\"textfont\":{\"size\":10},\"cliponaxis\":false,\"textangle\":0,\"textposition\":\"outside\",\"marker\":{\"line\":{\"color\":\"rgb(0, 121, 61)\"},\"color\":\"rgb(0, 121, 61)\"},\"texttemplate\":\"%{text:.3s}\"},{\"orientation\":\"h\",\"text\":[1208957.587212054,23496.871714351302,7695.434793469958,23496.83255757164,7695.434793469958,1019757.6164033462,107317.62088447784,426257.77869508887,304517.4899282712,365259.4185397178,1019649.0097826732,1208957.587212054,1177765.3198610125,1208957.587212054,1177765.3198610125,1208957.587212054],\"x\":[1208957.587212054,23496.871714351302,7695.434793469958,23496.83255757164,7695.434793469958,1019757.6164033462,107317.62088447784,426257.77869508887,304517.4899282712,365259.4185397178,1019649.0097826732,1208957.587212054,1177765.3198610125,1208957.587212054,1177765.3198610125,1208957.587212054],\"y\":[\"Mininum Efficiency Whole Home Electrification\",\"Electric Cooking\",\"Electric Clothes Dryer\",\"Induction Cooking\",\"Heat Pump Clothes Dryer\",\"Mininum Efficiency Heat Pump with Electric Heat Backup\",\"Heat Pump Water Heater\",\"Mininum Efficiency Heat Pump with Existing Heat Backup\",\"Basic Enclosure\",\"Enhanced Enclosure\",\"High Efficiency Heat Pump with Electric Heat Backup\",\"High Efficiency Whole Home Electrification\",\"Basic Enclosure + HPWH + High Efficiency HP/Electric Backup\",\"Basic Enclosure + High Efficiency Whole Home Electrification\",\"Enhanced Enclosure + HPWH + High Efficiency HP/Electric Backup\",\"Enhanced Enclosure + High Efficiency Whole Home Electrification\"],\"type\":\"bar\",\"xaxis\":\"x6\",\"yaxis\":\"y6\",\"textfont\":{\"size\":10},\"cliponaxis\":false,\"textangle\":0,\"textposition\":\"outside\",\"marker\":{\"line\":{\"color\":\"rgb(0, 121, 61)\"},\"color\":\"rgb(0, 121, 61)\"},\"texttemplate\":\"%{text:.3s}\"}],                        {\"template\":{\"data\":{\"histogram2dcontour\":[{\"type\":\"histogram2dcontour\",\"colorbar\":{\"outlinewidth\":0,\"ticks\":\"\"},\"colorscale\":[[0.0,\"#0d0887\"],[0.1111111111111111,\"#46039f\"],[0.2222222222222222,\"#7201a8\"],[0.3333333333333333,\"#9c179e\"],[0.4444444444444444,\"#bd3786\"],[0.5555555555555556,\"#d8576b\"],[0.6666666666666666,\"#ed7953\"],[0.7777777777777778,\"#fb9f3a\"],[0.8888888888888888,\"#fdca26\"],[1.0,\"#f0f921\"]]}],\"choropleth\":[{\"type\":\"choropleth\",\"colorbar\":{\"outlinewidth\":0,\"ticks\":\"\"}}],\"histogram2d\":[{\"type\":\"histogram2d\",\"colorbar\":{\"outlinewidth\":0,\"ticks\":\"\"},\"colorscale\":[[0.0,\"#0d0887\"],[0.1111111111111111,\"#46039f\"],[0.2222222222222222,\"#7201a8\"],[0.3333333333333333,\"#9c179e\"],[0.4444444444444444,\"#bd3786\"],[0.5555555555555556,\"#d8576b\"],[0.6666666666666666,\"#ed7953\"],[0.7777777777777778,\"#fb9f3a\"],[0.8888888888888888,\"#fdca26\"],[1.0,\"#f0f921\"]]}],\"heatmap\":[{\"type\":\"heatmap\",\"colorbar\":{\"outlinewidth\":0,\"ticks\":\"\"},\"colorscale\":[[0.0,\"#0d0887\"],[0.1111111111111111,\"#46039f\"],[0.2222222222222222,\"#7201a8\"],[0.3333333333333333,\"#9c179e\"],[0.4444444444444444,\"#bd3786\"],[0.5555555555555556,\"#d8576b\"],[0.6666666666666666,\"#ed7953\"],[0.7777777777777778,\"#fb9f3a\"],[0.8888888888888888,\"#fdca26\"],[1.0,\"#f0f921\"]]}],\"heatmapgl\":[{\"type\":\"heatmapgl\",\"colorbar\":{\"outlinewidth\":0,\"ticks\":\"\"},\"colorscale\":[[0.0,\"#0d0887\"],[0.1111111111111111,\"#46039f\"],[0.2222222222222222,\"#7201a8\"],[0.3333333333333333,\"#9c179e\"],[0.4444444444444444,\"#bd3786\"],[0.5555555555555556,\"#d8576b\"],[0.6666666666666666,\"#ed7953\"],[0.7777777777777778,\"#fb9f3a\"],[0.8888888888888888,\"#fdca26\"],[1.0,\"#f0f921\"]]}],\"contourcarpet\":[{\"type\":\"contourcarpet\",\"colorbar\":{\"outlinewidth\":0,\"ticks\":\"\"}}],\"contour\":[{\"type\":\"contour\",\"colorbar\":{\"outlinewidth\":0,\"ticks\":\"\"},\"colorscale\":[[0.0,\"#0d0887\"],[0.1111111111111111,\"#46039f\"],[0.2222222222222222,\"#7201a8\"],[0.3333333333333333,\"#9c179e\"],[0.4444444444444444,\"#bd3786\"],[0.5555555555555556,\"#d8576b\"],[0.6666666666666666,\"#ed7953\"],[0.7777777777777778,\"#fb9f3a\"],[0.8888888888888888,\"#fdca26\"],[1.0,\"#f0f921\"]]}],\"surface\":[{\"type\":\"surface\",\"colorbar\":{\"outlinewidth\":0,\"ticks\":\"\"},\"colorscale\":[[0.0,\"#0d0887\"],[0.1111111111111111,\"#46039f\"],[0.2222222222222222,\"#7201a8\"],[0.3333333333333333,\"#9c179e\"],[0.4444444444444444,\"#bd3786\"],[0.5555555555555556,\"#d8576b\"],[0.6666666666666666,\"#ed7953\"],[0.7777777777777778,\"#fb9f3a\"],[0.8888888888888888,\"#fdca26\"],[1.0,\"#f0f921\"]]}],\"mesh3d\":[{\"type\":\"mesh3d\",\"colorbar\":{\"outlinewidth\":0,\"ticks\":\"\"}}],\"scatter\":[{\"fillpattern\":{\"fillmode\":\"overlay\",\"size\":10,\"solidity\":0.2},\"type\":\"scatter\"}],\"parcoords\":[{\"type\":\"parcoords\",\"line\":{\"colorbar\":{\"outlinewidth\":0,\"ticks\":\"\"}}}],\"scatterpolargl\":[{\"type\":\"scatterpolargl\",\"marker\":{\"colorbar\":{\"outlinewidth\":0,\"ticks\":\"\"}}}],\"bar\":[{\"error_x\":{\"color\":\"#2a3f5f\"},\"error_y\":{\"color\":\"#2a3f5f\"},\"marker\":{\"line\":{\"color\":\"#E5ECF6\",\"width\":0.5},\"pattern\":{\"fillmode\":\"overlay\",\"size\":10,\"solidity\":0.2}},\"type\":\"bar\"}],\"scattergeo\":[{\"type\":\"scattergeo\",\"marker\":{\"colorbar\":{\"outlinewidth\":0,\"ticks\":\"\"}}}],\"scatterpolar\":[{\"type\":\"scatterpolar\",\"marker\":{\"colorbar\":{\"outlinewidth\":0,\"ticks\":\"\"}}}],\"histogram\":[{\"marker\":{\"pattern\":{\"fillmode\":\"overlay\",\"size\":10,\"solidity\":0.2}},\"type\":\"histogram\"}],\"scattergl\":[{\"type\":\"scattergl\",\"marker\":{\"colorbar\":{\"outlinewidth\":0,\"ticks\":\"\"}}}],\"scatter3d\":[{\"type\":\"scatter3d\",\"line\":{\"colorbar\":{\"outlinewidth\":0,\"ticks\":\"\"}},\"marker\":{\"colorbar\":{\"outlinewidth\":0,\"ticks\":\"\"}}}],\"scattermapbox\":[{\"type\":\"scattermapbox\",\"marker\":{\"colorbar\":{\"outlinewidth\":0,\"ticks\":\"\"}}}],\"scatterternary\":[{\"type\":\"scatterternary\",\"marker\":{\"colorbar\":{\"outlinewidth\":0,\"ticks\":\"\"}}}],\"scattercarpet\":[{\"type\":\"scattercarpet\",\"marker\":{\"colorbar\":{\"outlinewidth\":0,\"ticks\":\"\"}}}],\"carpet\":[{\"aaxis\":{\"endlinecolor\":\"#2a3f5f\",\"gridcolor\":\"white\",\"linecolor\":\"white\",\"minorgridcolor\":\"white\",\"startlinecolor\":\"#2a3f5f\"},\"baxis\":{\"endlinecolor\":\"#2a3f5f\",\"gridcolor\":\"white\",\"linecolor\":\"white\",\"minorgridcolor\":\"white\",\"startlinecolor\":\"#2a3f5f\"},\"type\":\"carpet\"}],\"table\":[{\"cells\":{\"fill\":{\"color\":\"#EBF0F8\"},\"line\":{\"color\":\"white\"}},\"header\":{\"fill\":{\"color\":\"#C8D4E3\"},\"line\":{\"color\":\"white\"}},\"type\":\"table\"}],\"barpolar\":[{\"marker\":{\"line\":{\"color\":\"#E5ECF6\",\"width\":0.5},\"pattern\":{\"fillmode\":\"overlay\",\"size\":10,\"solidity\":0.2}},\"type\":\"barpolar\"}],\"pie\":[{\"automargin\":true,\"type\":\"pie\"}]},\"layout\":{\"autotypenumbers\":\"strict\",\"colorway\":[\"#636efa\",\"#EF553B\",\"#00cc96\",\"#ab63fa\",\"#FFA15A\",\"#19d3f3\",\"#FF6692\",\"#B6E880\",\"#FF97FF\",\"#FECB52\"],\"font\":{\"color\":\"#2a3f5f\"},\"hovermode\":\"closest\",\"hoverlabel\":{\"align\":\"left\"},\"paper_bgcolor\":\"white\",\"plot_bgcolor\":\"#E5ECF6\",\"polar\":{\"bgcolor\":\"#E5ECF6\",\"angularaxis\":{\"gridcolor\":\"white\",\"linecolor\":\"white\",\"ticks\":\"\"},\"radialaxis\":{\"gridcolor\":\"white\",\"linecolor\":\"white\",\"ticks\":\"\"}},\"ternary\":{\"bgcolor\":\"#E5ECF6\",\"aaxis\":{\"gridcolor\":\"white\",\"linecolor\":\"white\",\"ticks\":\"\"},\"baxis\":{\"gridcolor\":\"white\",\"linecolor\":\"white\",\"ticks\":\"\"},\"caxis\":{\"gridcolor\":\"white\",\"linecolor\":\"white\",\"ticks\":\"\"}},\"coloraxis\":{\"colorbar\":{\"outlinewidth\":0,\"ticks\":\"\"}},\"colorscale\":{\"sequential\":[[0.0,\"#0d0887\"],[0.1111111111111111,\"#46039f\"],[0.2222222222222222,\"#7201a8\"],[0.3333333333333333,\"#9c179e\"],[0.4444444444444444,\"#bd3786\"],[0.5555555555555556,\"#d8576b\"],[0.6666666666666666,\"#ed7953\"],[0.7777777777777778,\"#fb9f3a\"],[0.8888888888888888,\"#fdca26\"],[1.0,\"#f0f921\"]],\"sequentialminus\":[[0.0,\"#0d0887\"],[0.1111111111111111,\"#46039f\"],[0.2222222222222222,\"#7201a8\"],[0.3333333333333333,\"#9c179e\"],[0.4444444444444444,\"#bd3786\"],[0.5555555555555556,\"#d8576b\"],[0.6666666666666666,\"#ed7953\"],[0.7777777777777778,\"#fb9f3a\"],[0.8888888888888888,\"#fdca26\"],[1.0,\"#f0f921\"]],\"diverging\":[[0,\"#8e0152\"],[0.1,\"#c51b7d\"],[0.2,\"#de77ae\"],[0.3,\"#f1b6da\"],[0.4,\"#fde0ef\"],[0.5,\"#f7f7f7\"],[0.6,\"#e6f5d0\"],[0.7,\"#b8e186\"],[0.8,\"#7fbc41\"],[0.9,\"#4d9221\"],[1,\"#276419\"]]},\"xaxis\":{\"gridcolor\":\"white\",\"linecolor\":\"white\",\"ticks\":\"\",\"title\":{\"standoff\":15},\"zerolinecolor\":\"white\",\"automargin\":true,\"zerolinewidth\":2},\"yaxis\":{\"gridcolor\":\"white\",\"linecolor\":\"white\",\"ticks\":\"\",\"title\":{\"standoff\":15},\"zerolinecolor\":\"white\",\"automargin\":true,\"zerolinewidth\":2},\"scene\":{\"xaxis\":{\"backgroundcolor\":\"#E5ECF6\",\"gridcolor\":\"white\",\"linecolor\":\"white\",\"showbackground\":true,\"ticks\":\"\",\"zerolinecolor\":\"white\",\"gridwidth\":2},\"yaxis\":{\"backgroundcolor\":\"#E5ECF6\",\"gridcolor\":\"white\",\"linecolor\":\"white\",\"showbackground\":true,\"ticks\":\"\",\"zerolinecolor\":\"white\",\"gridwidth\":2},\"zaxis\":{\"backgroundcolor\":\"#E5ECF6\",\"gridcolor\":\"white\",\"linecolor\":\"white\",\"showbackground\":true,\"ticks\":\"\",\"zerolinecolor\":\"white\",\"gridwidth\":2}},\"shapedefaults\":{\"line\":{\"color\":\"#2a3f5f\"}},\"annotationdefaults\":{\"arrowcolor\":\"#2a3f5f\",\"arrowhead\":0,\"arrowwidth\":1},\"geo\":{\"bgcolor\":\"white\",\"landcolor\":\"#E5ECF6\",\"subunitcolor\":\"white\",\"showland\":true,\"showlakes\":true,\"lakecolor\":\"white\"},\"title\":{\"x\":0.05},\"mapbox\":{\"style\":\"light\"}}},\"xaxis\":{\"anchor\":\"y\",\"domain\":[0.0,7.998400319936014e-05],\"title\":{\"text\":\"\"},\"visible\":false,\"tickangle\":45},\"yaxis\":{\"anchor\":\"x\",\"domain\":[0.0,1.0],\"visible\":true},\"xaxis2\":{\"anchor\":\"y2\",\"domain\":[0.12007998400319936,0.2000639872025595],\"title\":{\"text\":\"Bill<br>Savings<br>usd\"},\"visible\":true,\"tickangle\":45},\"yaxis2\":{\"anchor\":\"x2\",\"domain\":[0.0,1.0],\"visible\":false},\"xaxis3\":{\"anchor\":\"y3\",\"domain\":[0.32006398720255946,0.40004799040191963],\"title\":{\"text\":\"Site Emission<br>Saving<br>kgCO2e\"},\"visible\":true,\"tickangle\":45},\"yaxis3\":{\"anchor\":\"x3\",\"domain\":[0.0,1.0],\"visible\":false},\"xaxis4\":{\"anchor\":\"y4\",\"domain\":[0.5200479904019196,0.6000319936012798],\"title\":{\"text\":\"Site Energy<br>Saving<br>mmbtu\"},\"visible\":true,\"tickangle\":45},\"yaxis4\":{\"anchor\":\"x4\",\"domain\":[0.0,1.0],\"visible\":false},\"xaxis5\":{\"anchor\":\"y5\",\"domain\":[0.7200319936012798,0.80001599680064],\"title\":{\"text\":\"Electricity<br>Saving<br>kwh\"},\"visible\":true,\"tickangle\":45},\"yaxis5\":{\"anchor\":\"x5\",\"domain\":[0.0,1.0],\"visible\":false},\"xaxis6\":{\"anchor\":\"y6\",\"domain\":[0.9200159968006398,1.0],\"title\":{\"text\":\"Gas, Propane,<br>Fuel Oil Saving<br>mmbtu\"},\"visible\":true,\"tickangle\":45},\"yaxis6\":{\"anchor\":\"x6\",\"domain\":[0.0,1.0],\"visible\":false},\"title\":{\"text\":\"Community Total Annual Savings\"},\"font\":{\"size\":10},\"autosize\":false,\"width\":1100,\"height\":500,\"plot_bgcolor\":\"rgba(0, 0, 0, 0)\",\"showlegend\":false},                        {\"responsive\": true}                    ).then(function(){\n",
       "                            \n",
       "var gd = document.getElementById('4775a227-4a90-4889-b7e1-645e3c14a17c');\n",
       "var x = new MutationObserver(function (mutations, observer) {{\n",
       "        var display = window.getComputedStyle(gd).display;\n",
       "        if (!display || display === 'none') {{\n",
       "            console.log([gd, 'removed!']);\n",
       "            Plotly.purge(gd);\n",
       "            observer.disconnect();\n",
       "        }}\n",
       "}});\n",
       "\n",
       "// Listen for the removal of the full notebook cells\n",
       "var notebookContainer = gd.closest('#notebook-container');\n",
       "if (notebookContainer) {{\n",
       "    x.observe(notebookContainer, {childList: true});\n",
       "}}\n",
       "\n",
       "// Listen for the clearing of the current output cell\n",
       "var outputEl = gd.closest('.output');\n",
       "if (outputEl) {{\n",
       "    x.observe(outputEl, {childList: true});\n",
       "}}\n",
       "\n",
       "                        })                };                });            </script>        </div>"
      ]
     },
     "metadata": {},
     "output_type": "display_data"
    }
   ],
   "source": [
    "results = figure_total_savings_2(community_results)\n",
    "saving_results[['whole_community_saving_bill_total_usd','whole_community_saving_emission_total_kgCO2e','whole_community_saving_energy_total_mmbtu','whole_community_saving_electricity_total_kwh','whole_community_saving_natural_gas_fuel_oil_propane_total_mmbtu']] = results"
   ]
  },
  {
   "cell_type": "code",
   "execution_count": 206,
   "id": "e7ef5df2",
   "metadata": {},
   "outputs": [
    {
     "data": {
      "application/vnd.plotly.v1+json": {
       "config": {
        "plotlyServerURL": "https://plot.ly"
       },
       "data": [
        {
         "cliponaxis": false,
         "marker": {
          "color": "rgb(255, 255, 255)",
          "line": {
           "color": "rgb(255, 255, 255)"
          }
         },
         "orientation": "h",
         "textangle": 0,
         "textfont": {
          "size": 10
         },
         "textposition": "outside",
         "type": "bar",
         "x": [
          0,
          0,
          0,
          0,
          0,
          0,
          0,
          0,
          0,
          0,
          0,
          0,
          0,
          0,
          0,
          0,
          0,
          0,
          0,
          0,
          0,
          0,
          0,
          0,
          0,
          0,
          0,
          0,
          0,
          0,
          0,
          0,
          0,
          0,
          0,
          0,
          0,
          0,
          0,
          0,
          0,
          0,
          0,
          0,
          0,
          0,
          0,
          0,
          0,
          0,
          0,
          0,
          0,
          0,
          0,
          0,
          0,
          0,
          0,
          0,
          0,
          0,
          0,
          0,
          0,
          0,
          0,
          0,
          0,
          0,
          0,
          0,
          0,
          0,
          0,
          0,
          0,
          0,
          0,
          0,
          0,
          0,
          0,
          0,
          0,
          0,
          0,
          0,
          0,
          0,
          0,
          0,
          0,
          0,
          0,
          0,
          0,
          0,
          0,
          0,
          0,
          0,
          0,
          0,
          0,
          0,
          0,
          0,
          0,
          0,
          0,
          0,
          0,
          0,
          0,
          0,
          0,
          0,
          0,
          0,
          0,
          0,
          0,
          0,
          0,
          0,
          0,
          0,
          0,
          0,
          0,
          0,
          0,
          0,
          0,
          0,
          0,
          0,
          0,
          0,
          0,
          0,
          0,
          0,
          0,
          0,
          0,
          0,
          0,
          0,
          0,
          0,
          0,
          0,
          0,
          0,
          0,
          0,
          0,
          0,
          0,
          0,
          0,
          0,
          0,
          0,
          0,
          0,
          0,
          0,
          0,
          0,
          0,
          0,
          0,
          0
         ],
         "xaxis": "x",
         "y": [
          "Mininum Efficiency Whole Home Electrification",
          "Electric Cooking",
          "Electric Clothes Dryer",
          "Induction Cooking",
          "Heat Pump Clothes Dryer",
          "Mininum Efficiency Heat Pump with Electric Heat Backup",
          "Heat Pump Water Heater",
          "Mininum Efficiency Heat Pump with Existing Heat Backup",
          "Basic Enclosure",
          "Enhanced Enclosure",
          "High Efficiency Heat Pump with Electric Heat Backup",
          "High Efficiency Whole Home Electrification",
          "Basic Enclosure + HPWH + High Efficiency HP/Electric Backup",
          "Basic Enclosure + High Efficiency Whole Home Electrification",
          "Enhanced Enclosure + HPWH + High Efficiency HP/Electric Backup",
          "Enhanced Enclosure + High Efficiency Whole Home Electrification"
         ],
         "yaxis": "y"
        },
        {
         "cliponaxis": false,
         "marker": {
          "color": "rgb(0, 121, 61)",
          "line": {
           "color": "rgb(0, 121, 61)"
          }
         },
         "orientation": "h",
         "text": [
          -5076258.981235302,
          -190569.29513792906,
          -143200.64392729363,
          -75632.63163280909,
          489373.55545966915,
          1863249.305043874,
          2410953.1667605233,
          6743739.513363364,
          9004889.418568244,
          11070513.88387132,
          17675142.881065346,
          21875532.901328597,
          25768479.355942287,
          26244049.709158134,
          26391241.064738248,
          26866811.417954095
         ],
         "textangle": 0,
         "textfont": {
          "size": 10
         },
         "textposition": "outside",
         "texttemplate": "%{text:.3s}",
         "type": "bar",
         "x": [
          -5076258.981235302,
          -190569.29513792906,
          -143200.64392729363,
          -75632.63163280909,
          489373.55545966915,
          1863249.305043874,
          2410953.1667605233,
          6743739.513363364,
          9004889.418568244,
          11070513.88387132,
          17675142.881065346,
          21875532.901328597,
          25768479.355942287,
          26244049.709158134,
          26391241.064738248,
          26866811.417954095
         ],
         "xaxis": "x2",
         "y": [
          "Mininum Efficiency Whole Home Electrification",
          "Electric Cooking",
          "Electric Clothes Dryer",
          "Induction Cooking",
          "Heat Pump Clothes Dryer",
          "Mininum Efficiency Heat Pump with Electric Heat Backup",
          "Heat Pump Water Heater",
          "Mininum Efficiency Heat Pump with Existing Heat Backup",
          "Basic Enclosure",
          "Enhanced Enclosure",
          "High Efficiency Heat Pump with Electric Heat Backup",
          "High Efficiency Whole Home Electrification",
          "Basic Enclosure + HPWH + High Efficiency HP/Electric Backup",
          "Basic Enclosure + High Efficiency Whole Home Electrification",
          "Enhanced Enclosure + HPWH + High Efficiency HP/Electric Backup",
          "Enhanced Enclosure + High Efficiency Whole Home Electrification"
         ],
         "yaxis": "y2"
        },
        {
         "cliponaxis": false,
         "marker": {
          "color": "rgb(0, 121, 61)",
          "line": {
           "color": "rgb(0, 121, 61)"
          }
         },
         "orientation": "h",
         "text": [
          46954401.1450281,
          781111.8110404377,
          100647.86618534633,
          1027917.7262473437,
          1422920.4213458998,
          54531861.77544936,
          10434132.472632987,
          37675811.32602645,
          36579567.7501986,
          44691404.238177136,
          93199613.35512409,
          111646578.4098556,
          119902949.56665353,
          122353787.71424678,
          121476671.30844235,
          123927509.4560356
         ],
         "textangle": 0,
         "textfont": {
          "size": 10
         },
         "textposition": "outside",
         "texttemplate": "%{text:.3s}",
         "type": "bar",
         "x": [
          46954401.1450281,
          781111.8110404377,
          100647.86618534633,
          1027917.7262473437,
          1422920.4213458998,
          54531861.77544936,
          10434132.472632987,
          37675811.32602645,
          36579567.7501986,
          44691404.238177136,
          93199613.35512409,
          111646578.4098556,
          119902949.56665353,
          122353787.71424678,
          121476671.30844235,
          123927509.4560356
         ],
         "xaxis": "x3",
         "y": [
          "Mininum Efficiency Whole Home Electrification",
          "Electric Cooking",
          "Electric Clothes Dryer",
          "Induction Cooking",
          "Heat Pump Clothes Dryer",
          "Mininum Efficiency Heat Pump with Electric Heat Backup",
          "Heat Pump Water Heater",
          "Mininum Efficiency Heat Pump with Existing Heat Backup",
          "Basic Enclosure",
          "Enhanced Enclosure",
          "High Efficiency Heat Pump with Electric Heat Backup",
          "High Efficiency Whole Home Electrification",
          "Basic Enclosure + HPWH + High Efficiency HP/Electric Backup",
          "Basic Enclosure + High Efficiency Whole Home Electrification",
          "Enhanced Enclosure + HPWH + High Efficiency HP/Electric Backup",
          "Enhanced Enclosure + High Efficiency Whole Home Electrification"
         ],
         "yaxis": "y3"
        },
        {
         "cliponaxis": false,
         "marker": {
          "color": "rgb(0, 121, 61)",
          "line": {
           "color": "rgb(0, 121, 61)"
          }
         },
         "orientation": "h",
         "text": [
          792128.9112843708,
          12226.483301357166,
          1786.1135225090527,
          15550.088279815214,
          20076.36773778476,
          851530.666377199,
          150746.56475723485,
          524347.8030324704,
          495376.5340489316,
          602250.8776365205,
          1308634.8573499706,
          1571419.7632627536,
          1662105.5024421907,
          1697731.9584597908,
          1680112.28903643,
          1715738.7450540299
         ],
         "textangle": 0,
         "textfont": {
          "size": 10
         },
         "textposition": "outside",
         "texttemplate": "%{text:.3s}",
         "type": "bar",
         "x": [
          792128.9112843708,
          12226.483301357166,
          1786.1135225090527,
          15550.088279815214,
          20076.36773778476,
          851530.666377199,
          150746.56475723485,
          524347.8030324704,
          495376.5340489316,
          602250.8776365205,
          1308634.8573499706,
          1571419.7632627536,
          1662105.5024421907,
          1697731.9584597908,
          1680112.28903643,
          1715738.7450540299
         ],
         "xaxis": "x4",
         "y": [
          "Mininum Efficiency Whole Home Electrification",
          "Electric Cooking",
          "Electric Clothes Dryer",
          "Induction Cooking",
          "Heat Pump Clothes Dryer",
          "Mininum Efficiency Heat Pump with Electric Heat Backup",
          "Heat Pump Water Heater",
          "Mininum Efficiency Heat Pump with Existing Heat Backup",
          "Basic Enclosure",
          "Enhanced Enclosure",
          "High Efficiency Heat Pump with Electric Heat Backup",
          "High Efficiency Whole Home Electrification",
          "Basic Enclosure + HPWH + High Efficiency HP/Electric Backup",
          "Basic Enclosure + High Efficiency Whole Home Electrification",
          "Enhanced Enclosure + HPWH + High Efficiency HP/Electric Backup",
          "Enhanced Enclosure + High Efficiency Whole Home Electrification"
         ],
         "yaxis": "y4"
        }
       ],
       "layout": {
        "autosize": false,
        "font": {
         "size": 10
        },
        "height": 500,
        "plot_bgcolor": "rgba(0, 0, 0, 0)",
        "showlegend": false,
        "template": {
         "data": {
          "bar": [
           {
            "error_x": {
             "color": "#2a3f5f"
            },
            "error_y": {
             "color": "#2a3f5f"
            },
            "marker": {
             "line": {
              "color": "#E5ECF6",
              "width": 0.5
             },
             "pattern": {
              "fillmode": "overlay",
              "size": 10,
              "solidity": 0.2
             }
            },
            "type": "bar"
           }
          ],
          "barpolar": [
           {
            "marker": {
             "line": {
              "color": "#E5ECF6",
              "width": 0.5
             },
             "pattern": {
              "fillmode": "overlay",
              "size": 10,
              "solidity": 0.2
             }
            },
            "type": "barpolar"
           }
          ],
          "carpet": [
           {
            "aaxis": {
             "endlinecolor": "#2a3f5f",
             "gridcolor": "white",
             "linecolor": "white",
             "minorgridcolor": "white",
             "startlinecolor": "#2a3f5f"
            },
            "baxis": {
             "endlinecolor": "#2a3f5f",
             "gridcolor": "white",
             "linecolor": "white",
             "minorgridcolor": "white",
             "startlinecolor": "#2a3f5f"
            },
            "type": "carpet"
           }
          ],
          "choropleth": [
           {
            "colorbar": {
             "outlinewidth": 0,
             "ticks": ""
            },
            "type": "choropleth"
           }
          ],
          "contour": [
           {
            "colorbar": {
             "outlinewidth": 0,
             "ticks": ""
            },
            "colorscale": [
             [
              0,
              "#0d0887"
             ],
             [
              0.1111111111111111,
              "#46039f"
             ],
             [
              0.2222222222222222,
              "#7201a8"
             ],
             [
              0.3333333333333333,
              "#9c179e"
             ],
             [
              0.4444444444444444,
              "#bd3786"
             ],
             [
              0.5555555555555556,
              "#d8576b"
             ],
             [
              0.6666666666666666,
              "#ed7953"
             ],
             [
              0.7777777777777778,
              "#fb9f3a"
             ],
             [
              0.8888888888888888,
              "#fdca26"
             ],
             [
              1,
              "#f0f921"
             ]
            ],
            "type": "contour"
           }
          ],
          "contourcarpet": [
           {
            "colorbar": {
             "outlinewidth": 0,
             "ticks": ""
            },
            "type": "contourcarpet"
           }
          ],
          "heatmap": [
           {
            "colorbar": {
             "outlinewidth": 0,
             "ticks": ""
            },
            "colorscale": [
             [
              0,
              "#0d0887"
             ],
             [
              0.1111111111111111,
              "#46039f"
             ],
             [
              0.2222222222222222,
              "#7201a8"
             ],
             [
              0.3333333333333333,
              "#9c179e"
             ],
             [
              0.4444444444444444,
              "#bd3786"
             ],
             [
              0.5555555555555556,
              "#d8576b"
             ],
             [
              0.6666666666666666,
              "#ed7953"
             ],
             [
              0.7777777777777778,
              "#fb9f3a"
             ],
             [
              0.8888888888888888,
              "#fdca26"
             ],
             [
              1,
              "#f0f921"
             ]
            ],
            "type": "heatmap"
           }
          ],
          "heatmapgl": [
           {
            "colorbar": {
             "outlinewidth": 0,
             "ticks": ""
            },
            "colorscale": [
             [
              0,
              "#0d0887"
             ],
             [
              0.1111111111111111,
              "#46039f"
             ],
             [
              0.2222222222222222,
              "#7201a8"
             ],
             [
              0.3333333333333333,
              "#9c179e"
             ],
             [
              0.4444444444444444,
              "#bd3786"
             ],
             [
              0.5555555555555556,
              "#d8576b"
             ],
             [
              0.6666666666666666,
              "#ed7953"
             ],
             [
              0.7777777777777778,
              "#fb9f3a"
             ],
             [
              0.8888888888888888,
              "#fdca26"
             ],
             [
              1,
              "#f0f921"
             ]
            ],
            "type": "heatmapgl"
           }
          ],
          "histogram": [
           {
            "marker": {
             "pattern": {
              "fillmode": "overlay",
              "size": 10,
              "solidity": 0.2
             }
            },
            "type": "histogram"
           }
          ],
          "histogram2d": [
           {
            "colorbar": {
             "outlinewidth": 0,
             "ticks": ""
            },
            "colorscale": [
             [
              0,
              "#0d0887"
             ],
             [
              0.1111111111111111,
              "#46039f"
             ],
             [
              0.2222222222222222,
              "#7201a8"
             ],
             [
              0.3333333333333333,
              "#9c179e"
             ],
             [
              0.4444444444444444,
              "#bd3786"
             ],
             [
              0.5555555555555556,
              "#d8576b"
             ],
             [
              0.6666666666666666,
              "#ed7953"
             ],
             [
              0.7777777777777778,
              "#fb9f3a"
             ],
             [
              0.8888888888888888,
              "#fdca26"
             ],
             [
              1,
              "#f0f921"
             ]
            ],
            "type": "histogram2d"
           }
          ],
          "histogram2dcontour": [
           {
            "colorbar": {
             "outlinewidth": 0,
             "ticks": ""
            },
            "colorscale": [
             [
              0,
              "#0d0887"
             ],
             [
              0.1111111111111111,
              "#46039f"
             ],
             [
              0.2222222222222222,
              "#7201a8"
             ],
             [
              0.3333333333333333,
              "#9c179e"
             ],
             [
              0.4444444444444444,
              "#bd3786"
             ],
             [
              0.5555555555555556,
              "#d8576b"
             ],
             [
              0.6666666666666666,
              "#ed7953"
             ],
             [
              0.7777777777777778,
              "#fb9f3a"
             ],
             [
              0.8888888888888888,
              "#fdca26"
             ],
             [
              1,
              "#f0f921"
             ]
            ],
            "type": "histogram2dcontour"
           }
          ],
          "mesh3d": [
           {
            "colorbar": {
             "outlinewidth": 0,
             "ticks": ""
            },
            "type": "mesh3d"
           }
          ],
          "parcoords": [
           {
            "line": {
             "colorbar": {
              "outlinewidth": 0,
              "ticks": ""
             }
            },
            "type": "parcoords"
           }
          ],
          "pie": [
           {
            "automargin": true,
            "type": "pie"
           }
          ],
          "scatter": [
           {
            "fillpattern": {
             "fillmode": "overlay",
             "size": 10,
             "solidity": 0.2
            },
            "type": "scatter"
           }
          ],
          "scatter3d": [
           {
            "line": {
             "colorbar": {
              "outlinewidth": 0,
              "ticks": ""
             }
            },
            "marker": {
             "colorbar": {
              "outlinewidth": 0,
              "ticks": ""
             }
            },
            "type": "scatter3d"
           }
          ],
          "scattercarpet": [
           {
            "marker": {
             "colorbar": {
              "outlinewidth": 0,
              "ticks": ""
             }
            },
            "type": "scattercarpet"
           }
          ],
          "scattergeo": [
           {
            "marker": {
             "colorbar": {
              "outlinewidth": 0,
              "ticks": ""
             }
            },
            "type": "scattergeo"
           }
          ],
          "scattergl": [
           {
            "marker": {
             "colorbar": {
              "outlinewidth": 0,
              "ticks": ""
             }
            },
            "type": "scattergl"
           }
          ],
          "scattermapbox": [
           {
            "marker": {
             "colorbar": {
              "outlinewidth": 0,
              "ticks": ""
             }
            },
            "type": "scattermapbox"
           }
          ],
          "scatterpolar": [
           {
            "marker": {
             "colorbar": {
              "outlinewidth": 0,
              "ticks": ""
             }
            },
            "type": "scatterpolar"
           }
          ],
          "scatterpolargl": [
           {
            "marker": {
             "colorbar": {
              "outlinewidth": 0,
              "ticks": ""
             }
            },
            "type": "scatterpolargl"
           }
          ],
          "scatterternary": [
           {
            "marker": {
             "colorbar": {
              "outlinewidth": 0,
              "ticks": ""
             }
            },
            "type": "scatterternary"
           }
          ],
          "surface": [
           {
            "colorbar": {
             "outlinewidth": 0,
             "ticks": ""
            },
            "colorscale": [
             [
              0,
              "#0d0887"
             ],
             [
              0.1111111111111111,
              "#46039f"
             ],
             [
              0.2222222222222222,
              "#7201a8"
             ],
             [
              0.3333333333333333,
              "#9c179e"
             ],
             [
              0.4444444444444444,
              "#bd3786"
             ],
             [
              0.5555555555555556,
              "#d8576b"
             ],
             [
              0.6666666666666666,
              "#ed7953"
             ],
             [
              0.7777777777777778,
              "#fb9f3a"
             ],
             [
              0.8888888888888888,
              "#fdca26"
             ],
             [
              1,
              "#f0f921"
             ]
            ],
            "type": "surface"
           }
          ],
          "table": [
           {
            "cells": {
             "fill": {
              "color": "#EBF0F8"
             },
             "line": {
              "color": "white"
             }
            },
            "header": {
             "fill": {
              "color": "#C8D4E3"
             },
             "line": {
              "color": "white"
             }
            },
            "type": "table"
           }
          ]
         },
         "layout": {
          "annotationdefaults": {
           "arrowcolor": "#2a3f5f",
           "arrowhead": 0,
           "arrowwidth": 1
          },
          "autotypenumbers": "strict",
          "coloraxis": {
           "colorbar": {
            "outlinewidth": 0,
            "ticks": ""
           }
          },
          "colorscale": {
           "diverging": [
            [
             0,
             "#8e0152"
            ],
            [
             0.1,
             "#c51b7d"
            ],
            [
             0.2,
             "#de77ae"
            ],
            [
             0.3,
             "#f1b6da"
            ],
            [
             0.4,
             "#fde0ef"
            ],
            [
             0.5,
             "#f7f7f7"
            ],
            [
             0.6,
             "#e6f5d0"
            ],
            [
             0.7,
             "#b8e186"
            ],
            [
             0.8,
             "#7fbc41"
            ],
            [
             0.9,
             "#4d9221"
            ],
            [
             1,
             "#276419"
            ]
           ],
           "sequential": [
            [
             0,
             "#0d0887"
            ],
            [
             0.1111111111111111,
             "#46039f"
            ],
            [
             0.2222222222222222,
             "#7201a8"
            ],
            [
             0.3333333333333333,
             "#9c179e"
            ],
            [
             0.4444444444444444,
             "#bd3786"
            ],
            [
             0.5555555555555556,
             "#d8576b"
            ],
            [
             0.6666666666666666,
             "#ed7953"
            ],
            [
             0.7777777777777778,
             "#fb9f3a"
            ],
            [
             0.8888888888888888,
             "#fdca26"
            ],
            [
             1,
             "#f0f921"
            ]
           ],
           "sequentialminus": [
            [
             0,
             "#0d0887"
            ],
            [
             0.1111111111111111,
             "#46039f"
            ],
            [
             0.2222222222222222,
             "#7201a8"
            ],
            [
             0.3333333333333333,
             "#9c179e"
            ],
            [
             0.4444444444444444,
             "#bd3786"
            ],
            [
             0.5555555555555556,
             "#d8576b"
            ],
            [
             0.6666666666666666,
             "#ed7953"
            ],
            [
             0.7777777777777778,
             "#fb9f3a"
            ],
            [
             0.8888888888888888,
             "#fdca26"
            ],
            [
             1,
             "#f0f921"
            ]
           ]
          },
          "colorway": [
           "#636efa",
           "#EF553B",
           "#00cc96",
           "#ab63fa",
           "#FFA15A",
           "#19d3f3",
           "#FF6692",
           "#B6E880",
           "#FF97FF",
           "#FECB52"
          ],
          "font": {
           "color": "#2a3f5f"
          },
          "geo": {
           "bgcolor": "white",
           "lakecolor": "white",
           "landcolor": "#E5ECF6",
           "showlakes": true,
           "showland": true,
           "subunitcolor": "white"
          },
          "hoverlabel": {
           "align": "left"
          },
          "hovermode": "closest",
          "mapbox": {
           "style": "light"
          },
          "paper_bgcolor": "white",
          "plot_bgcolor": "#E5ECF6",
          "polar": {
           "angularaxis": {
            "gridcolor": "white",
            "linecolor": "white",
            "ticks": ""
           },
           "bgcolor": "#E5ECF6",
           "radialaxis": {
            "gridcolor": "white",
            "linecolor": "white",
            "ticks": ""
           }
          },
          "scene": {
           "xaxis": {
            "backgroundcolor": "#E5ECF6",
            "gridcolor": "white",
            "gridwidth": 2,
            "linecolor": "white",
            "showbackground": true,
            "ticks": "",
            "zerolinecolor": "white"
           },
           "yaxis": {
            "backgroundcolor": "#E5ECF6",
            "gridcolor": "white",
            "gridwidth": 2,
            "linecolor": "white",
            "showbackground": true,
            "ticks": "",
            "zerolinecolor": "white"
           },
           "zaxis": {
            "backgroundcolor": "#E5ECF6",
            "gridcolor": "white",
            "gridwidth": 2,
            "linecolor": "white",
            "showbackground": true,
            "ticks": "",
            "zerolinecolor": "white"
           }
          },
          "shapedefaults": {
           "line": {
            "color": "#2a3f5f"
           }
          },
          "ternary": {
           "aaxis": {
            "gridcolor": "white",
            "linecolor": "white",
            "ticks": ""
           },
           "baxis": {
            "gridcolor": "white",
            "linecolor": "white",
            "ticks": ""
           },
           "bgcolor": "#E5ECF6",
           "caxis": {
            "gridcolor": "white",
            "linecolor": "white",
            "ticks": ""
           }
          },
          "title": {
           "x": 0.05
          },
          "xaxis": {
           "automargin": true,
           "gridcolor": "white",
           "linecolor": "white",
           "ticks": "",
           "title": {
            "standoff": 15
           },
           "zerolinecolor": "white",
           "zerolinewidth": 2
          },
          "yaxis": {
           "automargin": true,
           "gridcolor": "white",
           "linecolor": "white",
           "ticks": "",
           "title": {
            "standoff": 15
           },
           "zerolinecolor": "white",
           "zerolinewidth": 2
          }
         }
        },
        "title": {
         "text": "Total Annual Savings for the Whole Community"
        },
        "width": 850,
        "xaxis": {
         "anchor": "y",
         "domain": [
          0,
          0.004635761589403973
         ],
         "tickangle": 45,
         "title": {
          "text": ""
         },
         "visible": false
        },
        "xaxis2": {
         "anchor": "y2",
         "domain": [
          0.10463576158940398,
          0.33642384105960266
         ],
         "tickangle": 45,
         "title": {
          "text": "Bill Savings<br>usd"
         },
         "visible": true
        },
        "xaxis3": {
         "anchor": "y3",
         "domain": [
          0.43642384105960264,
          0.6682119205298013
         ],
         "tickangle": 45,
         "title": {
          "text": "Emission Savings<br>kgCO2e"
         },
         "visible": true
        },
        "xaxis4": {
         "anchor": "y4",
         "domain": [
          0.7682119205298014,
          1
         ],
         "tickangle": 45,
         "title": {
          "text": "Energy Savings<br>mmbtu"
         },
         "visible": true
        },
        "yaxis": {
         "anchor": "x",
         "domain": [
          0,
          1
         ],
         "visible": true
        },
        "yaxis2": {
         "anchor": "x2",
         "domain": [
          0,
          1
         ],
         "visible": false
        },
        "yaxis3": {
         "anchor": "x3",
         "domain": [
          0,
          1
         ],
         "visible": false
        },
        "yaxis4": {
         "anchor": "x4",
         "domain": [
          0,
          1
         ],
         "visible": false
        }
       }
      },
      "text/html": [
       "<div>                            <div id=\"90759b2f-ac47-4a03-8a85-3b971ead426a\" class=\"plotly-graph-div\" style=\"height:500px; width:850px;\"></div>            <script type=\"text/javascript\">                require([\"plotly\"], function(Plotly) {                    window.PLOTLYENV=window.PLOTLYENV || {};                                    if (document.getElementById(\"90759b2f-ac47-4a03-8a85-3b971ead426a\")) {                    Plotly.newPlot(                        \"90759b2f-ac47-4a03-8a85-3b971ead426a\",                        [{\"orientation\":\"h\",\"x\":[0,0,0,0,0,0,0,0,0,0,0,0,0,0,0,0,0,0,0,0,0,0,0,0,0,0,0,0,0,0,0,0,0,0,0,0,0,0,0,0,0,0,0,0,0,0,0,0,0,0,0,0,0,0,0,0,0,0,0,0,0,0,0,0,0,0,0,0,0,0,0,0,0,0,0,0,0,0,0,0,0,0,0,0,0,0,0,0,0,0,0,0,0,0,0,0,0,0,0,0,0,0,0,0,0,0,0,0,0,0,0,0,0,0,0,0,0,0,0,0,0,0,0,0,0,0,0,0,0,0,0,0,0,0,0,0,0,0,0,0,0,0,0,0,0,0,0,0,0,0,0,0,0,0,0,0,0,0,0,0,0,0,0,0,0,0,0,0,0,0,0,0,0,0,0,0],\"y\":[\"Mininum Efficiency Whole Home Electrification\",\"Electric Cooking\",\"Electric Clothes Dryer\",\"Induction Cooking\",\"Heat Pump Clothes Dryer\",\"Mininum Efficiency Heat Pump with Electric Heat Backup\",\"Heat Pump Water Heater\",\"Mininum Efficiency Heat Pump with Existing Heat Backup\",\"Basic Enclosure\",\"Enhanced Enclosure\",\"High Efficiency Heat Pump with Electric Heat Backup\",\"High Efficiency Whole Home Electrification\",\"Basic Enclosure + HPWH + High Efficiency HP/Electric Backup\",\"Basic Enclosure + High Efficiency Whole Home Electrification\",\"Enhanced Enclosure + HPWH + High Efficiency HP/Electric Backup\",\"Enhanced Enclosure + High Efficiency Whole Home Electrification\"],\"type\":\"bar\",\"xaxis\":\"x\",\"yaxis\":\"y\",\"textfont\":{\"size\":10},\"cliponaxis\":false,\"textangle\":0,\"textposition\":\"outside\",\"marker\":{\"line\":{\"color\":\"rgb(255, 255, 255)\"},\"color\":\"rgb(255, 255, 255)\"}},{\"orientation\":\"h\",\"text\":[-5076258.981235302,-190569.29513792906,-143200.64392729363,-75632.63163280909,489373.55545966915,1863249.305043874,2410953.1667605233,6743739.513363364,9004889.418568244,11070513.88387132,17675142.881065346,21875532.901328597,25768479.355942287,26244049.709158134,26391241.064738248,26866811.417954095],\"x\":[-5076258.981235302,-190569.29513792906,-143200.64392729363,-75632.63163280909,489373.55545966915,1863249.305043874,2410953.1667605233,6743739.513363364,9004889.418568244,11070513.88387132,17675142.881065346,21875532.901328597,25768479.355942287,26244049.709158134,26391241.064738248,26866811.417954095],\"y\":[\"Mininum Efficiency Whole Home Electrification\",\"Electric Cooking\",\"Electric Clothes Dryer\",\"Induction Cooking\",\"Heat Pump Clothes Dryer\",\"Mininum Efficiency Heat Pump with Electric Heat Backup\",\"Heat Pump Water Heater\",\"Mininum Efficiency Heat Pump with Existing Heat Backup\",\"Basic Enclosure\",\"Enhanced Enclosure\",\"High Efficiency Heat Pump with Electric Heat Backup\",\"High Efficiency Whole Home Electrification\",\"Basic Enclosure + HPWH + High Efficiency HP/Electric Backup\",\"Basic Enclosure + High Efficiency Whole Home Electrification\",\"Enhanced Enclosure + HPWH + High Efficiency HP/Electric Backup\",\"Enhanced Enclosure + High Efficiency Whole Home Electrification\"],\"type\":\"bar\",\"xaxis\":\"x2\",\"yaxis\":\"y2\",\"textfont\":{\"size\":10},\"cliponaxis\":false,\"textangle\":0,\"textposition\":\"outside\",\"marker\":{\"line\":{\"color\":\"rgb(0, 121, 61)\"},\"color\":\"rgb(0, 121, 61)\"},\"texttemplate\":\"%{text:.3s}\"},{\"orientation\":\"h\",\"text\":[46954401.1450281,781111.8110404377,100647.86618534633,1027917.7262473437,1422920.4213458998,54531861.77544936,10434132.472632987,37675811.32602645,36579567.7501986,44691404.238177136,93199613.35512409,111646578.4098556,119902949.56665353,122353787.71424678,121476671.30844235,123927509.4560356],\"x\":[46954401.1450281,781111.8110404377,100647.86618534633,1027917.7262473437,1422920.4213458998,54531861.77544936,10434132.472632987,37675811.32602645,36579567.7501986,44691404.238177136,93199613.35512409,111646578.4098556,119902949.56665353,122353787.71424678,121476671.30844235,123927509.4560356],\"y\":[\"Mininum Efficiency Whole Home Electrification\",\"Electric Cooking\",\"Electric Clothes Dryer\",\"Induction Cooking\",\"Heat Pump Clothes Dryer\",\"Mininum Efficiency Heat Pump with Electric Heat Backup\",\"Heat Pump Water Heater\",\"Mininum Efficiency Heat Pump with Existing Heat Backup\",\"Basic Enclosure\",\"Enhanced Enclosure\",\"High Efficiency Heat Pump with Electric Heat Backup\",\"High Efficiency Whole Home Electrification\",\"Basic Enclosure + HPWH + High Efficiency HP/Electric Backup\",\"Basic Enclosure + High Efficiency Whole Home Electrification\",\"Enhanced Enclosure + HPWH + High Efficiency HP/Electric Backup\",\"Enhanced Enclosure + High Efficiency Whole Home Electrification\"],\"type\":\"bar\",\"xaxis\":\"x3\",\"yaxis\":\"y3\",\"textfont\":{\"size\":10},\"cliponaxis\":false,\"textangle\":0,\"textposition\":\"outside\",\"marker\":{\"line\":{\"color\":\"rgb(0, 121, 61)\"},\"color\":\"rgb(0, 121, 61)\"},\"texttemplate\":\"%{text:.3s}\"},{\"orientation\":\"h\",\"text\":[792128.9112843708,12226.483301357166,1786.1135225090527,15550.088279815214,20076.36773778476,851530.666377199,150746.56475723485,524347.8030324704,495376.5340489316,602250.8776365205,1308634.8573499706,1571419.7632627536,1662105.5024421907,1697731.9584597908,1680112.28903643,1715738.7450540299],\"x\":[792128.9112843708,12226.483301357166,1786.1135225090527,15550.088279815214,20076.36773778476,851530.666377199,150746.56475723485,524347.8030324704,495376.5340489316,602250.8776365205,1308634.8573499706,1571419.7632627536,1662105.5024421907,1697731.9584597908,1680112.28903643,1715738.7450540299],\"y\":[\"Mininum Efficiency Whole Home Electrification\",\"Electric Cooking\",\"Electric Clothes Dryer\",\"Induction Cooking\",\"Heat Pump Clothes Dryer\",\"Mininum Efficiency Heat Pump with Electric Heat Backup\",\"Heat Pump Water Heater\",\"Mininum Efficiency Heat Pump with Existing Heat Backup\",\"Basic Enclosure\",\"Enhanced Enclosure\",\"High Efficiency Heat Pump with Electric Heat Backup\",\"High Efficiency Whole Home Electrification\",\"Basic Enclosure + HPWH + High Efficiency HP/Electric Backup\",\"Basic Enclosure + High Efficiency Whole Home Electrification\",\"Enhanced Enclosure + HPWH + High Efficiency HP/Electric Backup\",\"Enhanced Enclosure + High Efficiency Whole Home Electrification\"],\"type\":\"bar\",\"xaxis\":\"x4\",\"yaxis\":\"y4\",\"textfont\":{\"size\":10},\"cliponaxis\":false,\"textangle\":0,\"textposition\":\"outside\",\"marker\":{\"line\":{\"color\":\"rgb(0, 121, 61)\"},\"color\":\"rgb(0, 121, 61)\"},\"texttemplate\":\"%{text:.3s}\"}],                        {\"template\":{\"data\":{\"histogram2dcontour\":[{\"type\":\"histogram2dcontour\",\"colorbar\":{\"outlinewidth\":0,\"ticks\":\"\"},\"colorscale\":[[0.0,\"#0d0887\"],[0.1111111111111111,\"#46039f\"],[0.2222222222222222,\"#7201a8\"],[0.3333333333333333,\"#9c179e\"],[0.4444444444444444,\"#bd3786\"],[0.5555555555555556,\"#d8576b\"],[0.6666666666666666,\"#ed7953\"],[0.7777777777777778,\"#fb9f3a\"],[0.8888888888888888,\"#fdca26\"],[1.0,\"#f0f921\"]]}],\"choropleth\":[{\"type\":\"choropleth\",\"colorbar\":{\"outlinewidth\":0,\"ticks\":\"\"}}],\"histogram2d\":[{\"type\":\"histogram2d\",\"colorbar\":{\"outlinewidth\":0,\"ticks\":\"\"},\"colorscale\":[[0.0,\"#0d0887\"],[0.1111111111111111,\"#46039f\"],[0.2222222222222222,\"#7201a8\"],[0.3333333333333333,\"#9c179e\"],[0.4444444444444444,\"#bd3786\"],[0.5555555555555556,\"#d8576b\"],[0.6666666666666666,\"#ed7953\"],[0.7777777777777778,\"#fb9f3a\"],[0.8888888888888888,\"#fdca26\"],[1.0,\"#f0f921\"]]}],\"heatmap\":[{\"type\":\"heatmap\",\"colorbar\":{\"outlinewidth\":0,\"ticks\":\"\"},\"colorscale\":[[0.0,\"#0d0887\"],[0.1111111111111111,\"#46039f\"],[0.2222222222222222,\"#7201a8\"],[0.3333333333333333,\"#9c179e\"],[0.4444444444444444,\"#bd3786\"],[0.5555555555555556,\"#d8576b\"],[0.6666666666666666,\"#ed7953\"],[0.7777777777777778,\"#fb9f3a\"],[0.8888888888888888,\"#fdca26\"],[1.0,\"#f0f921\"]]}],\"heatmapgl\":[{\"type\":\"heatmapgl\",\"colorbar\":{\"outlinewidth\":0,\"ticks\":\"\"},\"colorscale\":[[0.0,\"#0d0887\"],[0.1111111111111111,\"#46039f\"],[0.2222222222222222,\"#7201a8\"],[0.3333333333333333,\"#9c179e\"],[0.4444444444444444,\"#bd3786\"],[0.5555555555555556,\"#d8576b\"],[0.6666666666666666,\"#ed7953\"],[0.7777777777777778,\"#fb9f3a\"],[0.8888888888888888,\"#fdca26\"],[1.0,\"#f0f921\"]]}],\"contourcarpet\":[{\"type\":\"contourcarpet\",\"colorbar\":{\"outlinewidth\":0,\"ticks\":\"\"}}],\"contour\":[{\"type\":\"contour\",\"colorbar\":{\"outlinewidth\":0,\"ticks\":\"\"},\"colorscale\":[[0.0,\"#0d0887\"],[0.1111111111111111,\"#46039f\"],[0.2222222222222222,\"#7201a8\"],[0.3333333333333333,\"#9c179e\"],[0.4444444444444444,\"#bd3786\"],[0.5555555555555556,\"#d8576b\"],[0.6666666666666666,\"#ed7953\"],[0.7777777777777778,\"#fb9f3a\"],[0.8888888888888888,\"#fdca26\"],[1.0,\"#f0f921\"]]}],\"surface\":[{\"type\":\"surface\",\"colorbar\":{\"outlinewidth\":0,\"ticks\":\"\"},\"colorscale\":[[0.0,\"#0d0887\"],[0.1111111111111111,\"#46039f\"],[0.2222222222222222,\"#7201a8\"],[0.3333333333333333,\"#9c179e\"],[0.4444444444444444,\"#bd3786\"],[0.5555555555555556,\"#d8576b\"],[0.6666666666666666,\"#ed7953\"],[0.7777777777777778,\"#fb9f3a\"],[0.8888888888888888,\"#fdca26\"],[1.0,\"#f0f921\"]]}],\"mesh3d\":[{\"type\":\"mesh3d\",\"colorbar\":{\"outlinewidth\":0,\"ticks\":\"\"}}],\"scatter\":[{\"fillpattern\":{\"fillmode\":\"overlay\",\"size\":10,\"solidity\":0.2},\"type\":\"scatter\"}],\"parcoords\":[{\"type\":\"parcoords\",\"line\":{\"colorbar\":{\"outlinewidth\":0,\"ticks\":\"\"}}}],\"scatterpolargl\":[{\"type\":\"scatterpolargl\",\"marker\":{\"colorbar\":{\"outlinewidth\":0,\"ticks\":\"\"}}}],\"bar\":[{\"error_x\":{\"color\":\"#2a3f5f\"},\"error_y\":{\"color\":\"#2a3f5f\"},\"marker\":{\"line\":{\"color\":\"#E5ECF6\",\"width\":0.5},\"pattern\":{\"fillmode\":\"overlay\",\"size\":10,\"solidity\":0.2}},\"type\":\"bar\"}],\"scattergeo\":[{\"type\":\"scattergeo\",\"marker\":{\"colorbar\":{\"outlinewidth\":0,\"ticks\":\"\"}}}],\"scatterpolar\":[{\"type\":\"scatterpolar\",\"marker\":{\"colorbar\":{\"outlinewidth\":0,\"ticks\":\"\"}}}],\"histogram\":[{\"marker\":{\"pattern\":{\"fillmode\":\"overlay\",\"size\":10,\"solidity\":0.2}},\"type\":\"histogram\"}],\"scattergl\":[{\"type\":\"scattergl\",\"marker\":{\"colorbar\":{\"outlinewidth\":0,\"ticks\":\"\"}}}],\"scatter3d\":[{\"type\":\"scatter3d\",\"line\":{\"colorbar\":{\"outlinewidth\":0,\"ticks\":\"\"}},\"marker\":{\"colorbar\":{\"outlinewidth\":0,\"ticks\":\"\"}}}],\"scattermapbox\":[{\"type\":\"scattermapbox\",\"marker\":{\"colorbar\":{\"outlinewidth\":0,\"ticks\":\"\"}}}],\"scatterternary\":[{\"type\":\"scatterternary\",\"marker\":{\"colorbar\":{\"outlinewidth\":0,\"ticks\":\"\"}}}],\"scattercarpet\":[{\"type\":\"scattercarpet\",\"marker\":{\"colorbar\":{\"outlinewidth\":0,\"ticks\":\"\"}}}],\"carpet\":[{\"aaxis\":{\"endlinecolor\":\"#2a3f5f\",\"gridcolor\":\"white\",\"linecolor\":\"white\",\"minorgridcolor\":\"white\",\"startlinecolor\":\"#2a3f5f\"},\"baxis\":{\"endlinecolor\":\"#2a3f5f\",\"gridcolor\":\"white\",\"linecolor\":\"white\",\"minorgridcolor\":\"white\",\"startlinecolor\":\"#2a3f5f\"},\"type\":\"carpet\"}],\"table\":[{\"cells\":{\"fill\":{\"color\":\"#EBF0F8\"},\"line\":{\"color\":\"white\"}},\"header\":{\"fill\":{\"color\":\"#C8D4E3\"},\"line\":{\"color\":\"white\"}},\"type\":\"table\"}],\"barpolar\":[{\"marker\":{\"line\":{\"color\":\"#E5ECF6\",\"width\":0.5},\"pattern\":{\"fillmode\":\"overlay\",\"size\":10,\"solidity\":0.2}},\"type\":\"barpolar\"}],\"pie\":[{\"automargin\":true,\"type\":\"pie\"}]},\"layout\":{\"autotypenumbers\":\"strict\",\"colorway\":[\"#636efa\",\"#EF553B\",\"#00cc96\",\"#ab63fa\",\"#FFA15A\",\"#19d3f3\",\"#FF6692\",\"#B6E880\",\"#FF97FF\",\"#FECB52\"],\"font\":{\"color\":\"#2a3f5f\"},\"hovermode\":\"closest\",\"hoverlabel\":{\"align\":\"left\"},\"paper_bgcolor\":\"white\",\"plot_bgcolor\":\"#E5ECF6\",\"polar\":{\"bgcolor\":\"#E5ECF6\",\"angularaxis\":{\"gridcolor\":\"white\",\"linecolor\":\"white\",\"ticks\":\"\"},\"radialaxis\":{\"gridcolor\":\"white\",\"linecolor\":\"white\",\"ticks\":\"\"}},\"ternary\":{\"bgcolor\":\"#E5ECF6\",\"aaxis\":{\"gridcolor\":\"white\",\"linecolor\":\"white\",\"ticks\":\"\"},\"baxis\":{\"gridcolor\":\"white\",\"linecolor\":\"white\",\"ticks\":\"\"},\"caxis\":{\"gridcolor\":\"white\",\"linecolor\":\"white\",\"ticks\":\"\"}},\"coloraxis\":{\"colorbar\":{\"outlinewidth\":0,\"ticks\":\"\"}},\"colorscale\":{\"sequential\":[[0.0,\"#0d0887\"],[0.1111111111111111,\"#46039f\"],[0.2222222222222222,\"#7201a8\"],[0.3333333333333333,\"#9c179e\"],[0.4444444444444444,\"#bd3786\"],[0.5555555555555556,\"#d8576b\"],[0.6666666666666666,\"#ed7953\"],[0.7777777777777778,\"#fb9f3a\"],[0.8888888888888888,\"#fdca26\"],[1.0,\"#f0f921\"]],\"sequentialminus\":[[0.0,\"#0d0887\"],[0.1111111111111111,\"#46039f\"],[0.2222222222222222,\"#7201a8\"],[0.3333333333333333,\"#9c179e\"],[0.4444444444444444,\"#bd3786\"],[0.5555555555555556,\"#d8576b\"],[0.6666666666666666,\"#ed7953\"],[0.7777777777777778,\"#fb9f3a\"],[0.8888888888888888,\"#fdca26\"],[1.0,\"#f0f921\"]],\"diverging\":[[0,\"#8e0152\"],[0.1,\"#c51b7d\"],[0.2,\"#de77ae\"],[0.3,\"#f1b6da\"],[0.4,\"#fde0ef\"],[0.5,\"#f7f7f7\"],[0.6,\"#e6f5d0\"],[0.7,\"#b8e186\"],[0.8,\"#7fbc41\"],[0.9,\"#4d9221\"],[1,\"#276419\"]]},\"xaxis\":{\"gridcolor\":\"white\",\"linecolor\":\"white\",\"ticks\":\"\",\"title\":{\"standoff\":15},\"zerolinecolor\":\"white\",\"automargin\":true,\"zerolinewidth\":2},\"yaxis\":{\"gridcolor\":\"white\",\"linecolor\":\"white\",\"ticks\":\"\",\"title\":{\"standoff\":15},\"zerolinecolor\":\"white\",\"automargin\":true,\"zerolinewidth\":2},\"scene\":{\"xaxis\":{\"backgroundcolor\":\"#E5ECF6\",\"gridcolor\":\"white\",\"linecolor\":\"white\",\"showbackground\":true,\"ticks\":\"\",\"zerolinecolor\":\"white\",\"gridwidth\":2},\"yaxis\":{\"backgroundcolor\":\"#E5ECF6\",\"gridcolor\":\"white\",\"linecolor\":\"white\",\"showbackground\":true,\"ticks\":\"\",\"zerolinecolor\":\"white\",\"gridwidth\":2},\"zaxis\":{\"backgroundcolor\":\"#E5ECF6\",\"gridcolor\":\"white\",\"linecolor\":\"white\",\"showbackground\":true,\"ticks\":\"\",\"zerolinecolor\":\"white\",\"gridwidth\":2}},\"shapedefaults\":{\"line\":{\"color\":\"#2a3f5f\"}},\"annotationdefaults\":{\"arrowcolor\":\"#2a3f5f\",\"arrowhead\":0,\"arrowwidth\":1},\"geo\":{\"bgcolor\":\"white\",\"landcolor\":\"#E5ECF6\",\"subunitcolor\":\"white\",\"showland\":true,\"showlakes\":true,\"lakecolor\":\"white\"},\"title\":{\"x\":0.05},\"mapbox\":{\"style\":\"light\"}}},\"xaxis\":{\"anchor\":\"y\",\"domain\":[0.0,0.004635761589403973],\"title\":{\"text\":\"\"},\"visible\":false,\"tickangle\":45},\"yaxis\":{\"anchor\":\"x\",\"domain\":[0.0,1.0],\"visible\":true},\"xaxis2\":{\"anchor\":\"y2\",\"domain\":[0.10463576158940398,0.33642384105960266],\"title\":{\"text\":\"Bill Savings<br>usd\"},\"visible\":true,\"tickangle\":45},\"yaxis2\":{\"anchor\":\"x2\",\"domain\":[0.0,1.0],\"visible\":false},\"xaxis3\":{\"anchor\":\"y3\",\"domain\":[0.43642384105960264,0.6682119205298013],\"title\":{\"text\":\"Emission Savings<br>kgCO2e\"},\"visible\":true,\"tickangle\":45},\"yaxis3\":{\"anchor\":\"x3\",\"domain\":[0.0,1.0],\"visible\":false},\"xaxis4\":{\"anchor\":\"y4\",\"domain\":[0.7682119205298014,1.0],\"title\":{\"text\":\"Energy Savings<br>mmbtu\"},\"visible\":true,\"tickangle\":45},\"yaxis4\":{\"anchor\":\"x4\",\"domain\":[0.0,1.0],\"visible\":false},\"title\":{\"text\":\"Total Annual Savings for the Whole Community\"},\"font\":{\"size\":10},\"autosize\":false,\"width\":850,\"height\":500,\"plot_bgcolor\":\"rgba(0, 0, 0, 0)\",\"showlegend\":false},                        {\"responsive\": true}                    ).then(function(){\n",
       "                            \n",
       "var gd = document.getElementById('90759b2f-ac47-4a03-8a85-3b971ead426a');\n",
       "var x = new MutationObserver(function (mutations, observer) {{\n",
       "        var display = window.getComputedStyle(gd).display;\n",
       "        if (!display || display === 'none') {{\n",
       "            console.log([gd, 'removed!']);\n",
       "            Plotly.purge(gd);\n",
       "            observer.disconnect();\n",
       "        }}\n",
       "}});\n",
       "\n",
       "// Listen for the removal of the full notebook cells\n",
       "var notebookContainer = gd.closest('#notebook-container');\n",
       "if (notebookContainer) {{\n",
       "    x.observe(notebookContainer, {childList: true});\n",
       "}}\n",
       "\n",
       "// Listen for the clearing of the current output cell\n",
       "var outputEl = gd.closest('.output');\n",
       "if (outputEl) {{\n",
       "    x.observe(outputEl, {childList: true});\n",
       "}}\n",
       "\n",
       "                        })                };                });            </script>        </div>"
      ]
     },
     "metadata": {},
     "output_type": "display_data"
    }
   ],
   "source": [
    "figure_total_savings_3(community_results) "
   ]
  },
  {
   "cell_type": "markdown",
   "id": "e25c8f8e",
   "metadata": {},
   "source": [
    "## 1.3 Annual Savings Per Dwelling Unit"
   ]
  },
  {
   "cell_type": "code",
   "execution_count": 207,
   "id": "9ba37c55",
   "metadata": {},
   "outputs": [
    {
     "name": "stdout",
     "output_type": "stream",
     "text": [
      "sample_weight\n"
     ]
    },
    {
     "data": {
      "text/plain": [
       "upgrade_name\n",
       "Mininum Efficiency Whole Home Electrification                      17646.462117\n",
       "Electric Clothes Dryer                                              3591.614938\n",
       "Electric Cooking                                                    9265.180107\n",
       "Induction Cooking                                                  27538.893286\n",
       "Heat Pump Clothes Dryer                                            23302.660882\n",
       "Mininum Efficiency Heat Pump with Electric Heat Backup             27468.480932\n",
       "Heat Pump Water Heater                                             27540.061448\n",
       "Mininum Efficiency Heat Pump with Existing Heat Backup             26996.819723\n",
       "Basic Enclosure                                                    27181.016959\n",
       "Enhanced Enclosure                                                 27284.784354\n",
       "High Efficiency Heat Pump with Electric Heat Backup                27468.480932\n",
       "High Efficiency Whole Home Electrification                         27723.000000\n",
       "Basic Enclosure + HPWH + High Efficiency HP/Electric Backup        27723.000000\n",
       "Basic Enclosure + High Efficiency Whole Home Electrification       27723.000000\n",
       "Enhanced Enclosure + HPWH + High Efficiency HP/Electric Backup     27723.000000\n",
       "Enhanced Enclosure + High Efficiency Whole Home Electrification    27723.000000\n",
       "Name: sample_weight, dtype: float64"
      ]
     },
     "metadata": {},
     "output_type": "display_data"
    },
    {
     "data": {
      "application/vnd.plotly.v1+json": {
       "config": {
        "plotlyServerURL": "https://plot.ly"
       },
       "data": [
        {
         "cliponaxis": false,
         "marker": {
          "color": "rgb(255, 255, 255)",
          "line": {
           "color": "rgb(255, 255, 255)"
          }
         },
         "orientation": "h",
         "textangle": 0,
         "textfont": {
          "size": 10
         },
         "textposition": "outside",
         "type": "bar",
         "x": [
          0,
          0,
          0,
          0,
          0,
          0,
          0,
          0,
          0,
          0,
          0,
          0,
          0,
          0,
          0,
          0,
          0,
          0,
          0,
          0,
          0,
          0,
          0,
          0,
          0,
          0,
          0,
          0,
          0,
          0,
          0,
          0,
          0,
          0,
          0,
          0,
          0,
          0,
          0,
          0,
          0,
          0,
          0,
          0,
          0,
          0,
          0,
          0,
          0,
          0,
          0,
          0,
          0,
          0,
          0,
          0,
          0,
          0,
          0,
          0,
          0,
          0,
          0,
          0,
          0,
          0,
          0,
          0,
          0,
          0,
          0,
          0,
          0,
          0,
          0,
          0,
          0,
          0,
          0,
          0,
          0,
          0,
          0,
          0,
          0,
          0,
          0,
          0,
          0,
          0,
          0,
          0,
          0,
          0,
          0,
          0,
          0,
          0,
          0,
          0,
          0,
          0,
          0,
          0,
          0,
          0,
          0,
          0,
          0,
          0,
          0,
          0,
          0,
          0,
          0,
          0,
          0,
          0,
          0,
          0,
          0,
          0,
          0,
          0,
          0,
          0,
          0,
          0,
          0,
          0,
          0,
          0,
          0,
          0,
          0,
          0,
          0,
          0,
          0,
          0,
          0,
          0,
          0,
          0,
          0,
          0,
          0,
          0,
          0,
          0,
          0,
          0,
          0,
          0,
          0,
          0,
          0,
          0,
          0,
          0,
          0,
          0,
          0,
          0,
          0,
          0,
          0,
          0,
          0,
          0,
          0,
          0,
          0,
          0,
          0,
          0
         ],
         "xaxis": "x",
         "y": [
          "Mininum Efficiency Whole Home Electrification",
          "Electric Clothes Dryer",
          "Electric Cooking",
          "Induction Cooking",
          "Heat Pump Clothes Dryer",
          "Mininum Efficiency Heat Pump with Electric Heat Backup",
          "Heat Pump Water Heater",
          "Mininum Efficiency Heat Pump with Existing Heat Backup",
          "Basic Enclosure",
          "Enhanced Enclosure",
          "High Efficiency Heat Pump with Electric Heat Backup",
          "High Efficiency Whole Home Electrification",
          "Basic Enclosure + HPWH + High Efficiency HP/Electric Backup",
          "Basic Enclosure + High Efficiency Whole Home Electrification",
          "Enhanced Enclosure + HPWH + High Efficiency HP/Electric Backup",
          "Enhanced Enclosure + High Efficiency Whole Home Electrification"
         ],
         "yaxis": "y"
        },
        {
         "cliponaxis": false,
         "marker": {
          "color": "rgb(0, 121, 61)",
          "line": {
           "color": "rgb(0, 121, 61)"
          }
         },
         "orientation": "h",
         "text": [
          -287.66440250639414,
          -39.87082312924515,
          -20.56833142239554,
          -2.746393286316494,
          21.000758580032553,
          67.83226599398314,
          87.54349264321871,
          249.79755329126385,
          331.293322547789,
          405.73946783836857,
          643.4699801816646,
          789.0752408227319,
          929.4982273181938,
          946.6525884340848,
          951.961947290634,
          969.116308406525
         ],
         "textangle": 0,
         "textfont": {
          "size": 10
         },
         "textposition": "outside",
         "texttemplate": "%{text:.3s}",
         "type": "bar",
         "x": [
          -287.66440250639414,
          -39.87082312924515,
          -20.56833142239554,
          -2.746393286316494,
          21.000758580032553,
          67.83226599398314,
          87.54349264321871,
          249.79755329126385,
          331.293322547789,
          405.73946783836857,
          643.4699801816646,
          789.0752408227319,
          929.4982273181938,
          946.6525884340848,
          951.961947290634,
          969.116308406525
         ],
         "xaxis": "x2",
         "y": [
          "Mininum Efficiency Whole Home Electrification",
          "Electric Clothes Dryer",
          "Electric Cooking",
          "Induction Cooking",
          "Heat Pump Clothes Dryer",
          "Mininum Efficiency Heat Pump with Electric Heat Backup",
          "Heat Pump Water Heater",
          "Mininum Efficiency Heat Pump with Existing Heat Backup",
          "Basic Enclosure",
          "Enhanced Enclosure",
          "High Efficiency Heat Pump with Electric Heat Backup",
          "High Efficiency Whole Home Electrification",
          "Basic Enclosure + HPWH + High Efficiency HP/Electric Backup",
          "Basic Enclosure + High Efficiency Whole Home Electrification",
          "Enhanced Enclosure + HPWH + High Efficiency HP/Electric Backup",
          "Enhanced Enclosure + High Efficiency Whole Home Electrification"
         ],
         "yaxis": "y2"
        },
        {
         "cliponaxis": false,
         "marker": {
          "color": "rgb(0, 121, 61)",
          "line": {
           "color": "rgb(0, 121, 61)"
          }
         },
         "orientation": "h",
         "text": [
          2660.839370166082,
          28.023011356354854,
          84.30616587944586,
          37.32603614742908,
          61.06257257651542,
          1985.2521844962134,
          378.87106724004076,
          1395.5648003389297,
          1345.776274868689,
          1637.9606911442063,
          3392.965689844869,
          4027.2184976321323,
          4325.035153722668,
          4413.439660723831,
          4381.80107883138,
          4470.205585832543
         ],
         "textangle": 0,
         "textfont": {
          "size": 10
         },
         "textposition": "outside",
         "texttemplate": "%{text:.3s}",
         "type": "bar",
         "x": [
          2660.839370166082,
          28.023011356354854,
          84.30616587944586,
          37.32603614742908,
          61.06257257651542,
          1985.2521844962134,
          378.87106724004076,
          1395.5648003389297,
          1345.776274868689,
          1637.9606911442063,
          3392.965689844869,
          4027.2184976321323,
          4325.035153722668,
          4413.439660723831,
          4381.80107883138,
          4470.205585832543
         ],
         "xaxis": "x3",
         "y": [
          "Mininum Efficiency Whole Home Electrification",
          "Electric Clothes Dryer",
          "Electric Cooking",
          "Induction Cooking",
          "Heat Pump Clothes Dryer",
          "Mininum Efficiency Heat Pump with Electric Heat Backup",
          "Heat Pump Water Heater",
          "Mininum Efficiency Heat Pump with Existing Heat Backup",
          "Basic Enclosure",
          "Enhanced Enclosure",
          "High Efficiency Heat Pump with Electric Heat Backup",
          "High Efficiency Whole Home Electrification",
          "Basic Enclosure + HPWH + High Efficiency HP/Electric Backup",
          "Basic Enclosure + High Efficiency Whole Home Electrification",
          "Enhanced Enclosure + HPWH + High Efficiency HP/Electric Backup",
          "Enhanced Enclosure + High Efficiency Whole Home Electrification"
         ],
         "yaxis": "y3"
        },
        {
         "cliponaxis": false,
         "marker": {
          "color": "rgb(0, 121, 61)",
          "line": {
           "color": "rgb(0, 121, 61)"
          }
         },
         "orientation": "h",
         "text": [
          44.88882281518422,
          0.49730095055206885,
          1.319616365746043,
          0.5646591574474231,
          0.8615482943886187,
          31.000282413829623,
          5.473719259568807,
          19.42257674864364,
          18.225091974907603,
          22.072773961598745,
          47.64132609225429,
          56.682890136808915,
          59.954027430010846,
          61.23911403743429,
          60.603552611060486,
          61.888639218483924
         ],
         "textangle": 0,
         "textfont": {
          "size": 10
         },
         "textposition": "outside",
         "texttemplate": "%{text:.3s}",
         "type": "bar",
         "x": [
          44.88882281518422,
          0.49730095055206885,
          1.319616365746043,
          0.5646591574474231,
          0.8615482943886187,
          31.000282413829623,
          5.473719259568807,
          19.42257674864364,
          18.225091974907603,
          22.072773961598745,
          47.64132609225429,
          56.682890136808915,
          59.954027430010846,
          61.23911403743429,
          60.603552611060486,
          61.888639218483924
         ],
         "xaxis": "x4",
         "y": [
          "Mininum Efficiency Whole Home Electrification",
          "Electric Clothes Dryer",
          "Electric Cooking",
          "Induction Cooking",
          "Heat Pump Clothes Dryer",
          "Mininum Efficiency Heat Pump with Electric Heat Backup",
          "Heat Pump Water Heater",
          "Mininum Efficiency Heat Pump with Existing Heat Backup",
          "Basic Enclosure",
          "Enhanced Enclosure",
          "High Efficiency Heat Pump with Electric Heat Backup",
          "High Efficiency Whole Home Electrification",
          "Basic Enclosure + HPWH + High Efficiency HP/Electric Backup",
          "Basic Enclosure + High Efficiency Whole Home Electrification",
          "Enhanced Enclosure + HPWH + High Efficiency HP/Electric Backup",
          "Enhanced Enclosure + High Efficiency Whole Home Electrification"
         ],
         "yaxis": "y4"
        }
       ],
       "layout": {
        "autosize": false,
        "font": {
         "size": 10
        },
        "height": 500,
        "plot_bgcolor": "rgba(0, 0, 0, 0)",
        "showlegend": false,
        "template": {
         "data": {
          "bar": [
           {
            "error_x": {
             "color": "#2a3f5f"
            },
            "error_y": {
             "color": "#2a3f5f"
            },
            "marker": {
             "line": {
              "color": "#E5ECF6",
              "width": 0.5
             },
             "pattern": {
              "fillmode": "overlay",
              "size": 10,
              "solidity": 0.2
             }
            },
            "type": "bar"
           }
          ],
          "barpolar": [
           {
            "marker": {
             "line": {
              "color": "#E5ECF6",
              "width": 0.5
             },
             "pattern": {
              "fillmode": "overlay",
              "size": 10,
              "solidity": 0.2
             }
            },
            "type": "barpolar"
           }
          ],
          "carpet": [
           {
            "aaxis": {
             "endlinecolor": "#2a3f5f",
             "gridcolor": "white",
             "linecolor": "white",
             "minorgridcolor": "white",
             "startlinecolor": "#2a3f5f"
            },
            "baxis": {
             "endlinecolor": "#2a3f5f",
             "gridcolor": "white",
             "linecolor": "white",
             "minorgridcolor": "white",
             "startlinecolor": "#2a3f5f"
            },
            "type": "carpet"
           }
          ],
          "choropleth": [
           {
            "colorbar": {
             "outlinewidth": 0,
             "ticks": ""
            },
            "type": "choropleth"
           }
          ],
          "contour": [
           {
            "colorbar": {
             "outlinewidth": 0,
             "ticks": ""
            },
            "colorscale": [
             [
              0,
              "#0d0887"
             ],
             [
              0.1111111111111111,
              "#46039f"
             ],
             [
              0.2222222222222222,
              "#7201a8"
             ],
             [
              0.3333333333333333,
              "#9c179e"
             ],
             [
              0.4444444444444444,
              "#bd3786"
             ],
             [
              0.5555555555555556,
              "#d8576b"
             ],
             [
              0.6666666666666666,
              "#ed7953"
             ],
             [
              0.7777777777777778,
              "#fb9f3a"
             ],
             [
              0.8888888888888888,
              "#fdca26"
             ],
             [
              1,
              "#f0f921"
             ]
            ],
            "type": "contour"
           }
          ],
          "contourcarpet": [
           {
            "colorbar": {
             "outlinewidth": 0,
             "ticks": ""
            },
            "type": "contourcarpet"
           }
          ],
          "heatmap": [
           {
            "colorbar": {
             "outlinewidth": 0,
             "ticks": ""
            },
            "colorscale": [
             [
              0,
              "#0d0887"
             ],
             [
              0.1111111111111111,
              "#46039f"
             ],
             [
              0.2222222222222222,
              "#7201a8"
             ],
             [
              0.3333333333333333,
              "#9c179e"
             ],
             [
              0.4444444444444444,
              "#bd3786"
             ],
             [
              0.5555555555555556,
              "#d8576b"
             ],
             [
              0.6666666666666666,
              "#ed7953"
             ],
             [
              0.7777777777777778,
              "#fb9f3a"
             ],
             [
              0.8888888888888888,
              "#fdca26"
             ],
             [
              1,
              "#f0f921"
             ]
            ],
            "type": "heatmap"
           }
          ],
          "heatmapgl": [
           {
            "colorbar": {
             "outlinewidth": 0,
             "ticks": ""
            },
            "colorscale": [
             [
              0,
              "#0d0887"
             ],
             [
              0.1111111111111111,
              "#46039f"
             ],
             [
              0.2222222222222222,
              "#7201a8"
             ],
             [
              0.3333333333333333,
              "#9c179e"
             ],
             [
              0.4444444444444444,
              "#bd3786"
             ],
             [
              0.5555555555555556,
              "#d8576b"
             ],
             [
              0.6666666666666666,
              "#ed7953"
             ],
             [
              0.7777777777777778,
              "#fb9f3a"
             ],
             [
              0.8888888888888888,
              "#fdca26"
             ],
             [
              1,
              "#f0f921"
             ]
            ],
            "type": "heatmapgl"
           }
          ],
          "histogram": [
           {
            "marker": {
             "pattern": {
              "fillmode": "overlay",
              "size": 10,
              "solidity": 0.2
             }
            },
            "type": "histogram"
           }
          ],
          "histogram2d": [
           {
            "colorbar": {
             "outlinewidth": 0,
             "ticks": ""
            },
            "colorscale": [
             [
              0,
              "#0d0887"
             ],
             [
              0.1111111111111111,
              "#46039f"
             ],
             [
              0.2222222222222222,
              "#7201a8"
             ],
             [
              0.3333333333333333,
              "#9c179e"
             ],
             [
              0.4444444444444444,
              "#bd3786"
             ],
             [
              0.5555555555555556,
              "#d8576b"
             ],
             [
              0.6666666666666666,
              "#ed7953"
             ],
             [
              0.7777777777777778,
              "#fb9f3a"
             ],
             [
              0.8888888888888888,
              "#fdca26"
             ],
             [
              1,
              "#f0f921"
             ]
            ],
            "type": "histogram2d"
           }
          ],
          "histogram2dcontour": [
           {
            "colorbar": {
             "outlinewidth": 0,
             "ticks": ""
            },
            "colorscale": [
             [
              0,
              "#0d0887"
             ],
             [
              0.1111111111111111,
              "#46039f"
             ],
             [
              0.2222222222222222,
              "#7201a8"
             ],
             [
              0.3333333333333333,
              "#9c179e"
             ],
             [
              0.4444444444444444,
              "#bd3786"
             ],
             [
              0.5555555555555556,
              "#d8576b"
             ],
             [
              0.6666666666666666,
              "#ed7953"
             ],
             [
              0.7777777777777778,
              "#fb9f3a"
             ],
             [
              0.8888888888888888,
              "#fdca26"
             ],
             [
              1,
              "#f0f921"
             ]
            ],
            "type": "histogram2dcontour"
           }
          ],
          "mesh3d": [
           {
            "colorbar": {
             "outlinewidth": 0,
             "ticks": ""
            },
            "type": "mesh3d"
           }
          ],
          "parcoords": [
           {
            "line": {
             "colorbar": {
              "outlinewidth": 0,
              "ticks": ""
             }
            },
            "type": "parcoords"
           }
          ],
          "pie": [
           {
            "automargin": true,
            "type": "pie"
           }
          ],
          "scatter": [
           {
            "fillpattern": {
             "fillmode": "overlay",
             "size": 10,
             "solidity": 0.2
            },
            "type": "scatter"
           }
          ],
          "scatter3d": [
           {
            "line": {
             "colorbar": {
              "outlinewidth": 0,
              "ticks": ""
             }
            },
            "marker": {
             "colorbar": {
              "outlinewidth": 0,
              "ticks": ""
             }
            },
            "type": "scatter3d"
           }
          ],
          "scattercarpet": [
           {
            "marker": {
             "colorbar": {
              "outlinewidth": 0,
              "ticks": ""
             }
            },
            "type": "scattercarpet"
           }
          ],
          "scattergeo": [
           {
            "marker": {
             "colorbar": {
              "outlinewidth": 0,
              "ticks": ""
             }
            },
            "type": "scattergeo"
           }
          ],
          "scattergl": [
           {
            "marker": {
             "colorbar": {
              "outlinewidth": 0,
              "ticks": ""
             }
            },
            "type": "scattergl"
           }
          ],
          "scattermapbox": [
           {
            "marker": {
             "colorbar": {
              "outlinewidth": 0,
              "ticks": ""
             }
            },
            "type": "scattermapbox"
           }
          ],
          "scatterpolar": [
           {
            "marker": {
             "colorbar": {
              "outlinewidth": 0,
              "ticks": ""
             }
            },
            "type": "scatterpolar"
           }
          ],
          "scatterpolargl": [
           {
            "marker": {
             "colorbar": {
              "outlinewidth": 0,
              "ticks": ""
             }
            },
            "type": "scatterpolargl"
           }
          ],
          "scatterternary": [
           {
            "marker": {
             "colorbar": {
              "outlinewidth": 0,
              "ticks": ""
             }
            },
            "type": "scatterternary"
           }
          ],
          "surface": [
           {
            "colorbar": {
             "outlinewidth": 0,
             "ticks": ""
            },
            "colorscale": [
             [
              0,
              "#0d0887"
             ],
             [
              0.1111111111111111,
              "#46039f"
             ],
             [
              0.2222222222222222,
              "#7201a8"
             ],
             [
              0.3333333333333333,
              "#9c179e"
             ],
             [
              0.4444444444444444,
              "#bd3786"
             ],
             [
              0.5555555555555556,
              "#d8576b"
             ],
             [
              0.6666666666666666,
              "#ed7953"
             ],
             [
              0.7777777777777778,
              "#fb9f3a"
             ],
             [
              0.8888888888888888,
              "#fdca26"
             ],
             [
              1,
              "#f0f921"
             ]
            ],
            "type": "surface"
           }
          ],
          "table": [
           {
            "cells": {
             "fill": {
              "color": "#EBF0F8"
             },
             "line": {
              "color": "white"
             }
            },
            "header": {
             "fill": {
              "color": "#C8D4E3"
             },
             "line": {
              "color": "white"
             }
            },
            "type": "table"
           }
          ]
         },
         "layout": {
          "annotationdefaults": {
           "arrowcolor": "#2a3f5f",
           "arrowhead": 0,
           "arrowwidth": 1
          },
          "autotypenumbers": "strict",
          "coloraxis": {
           "colorbar": {
            "outlinewidth": 0,
            "ticks": ""
           }
          },
          "colorscale": {
           "diverging": [
            [
             0,
             "#8e0152"
            ],
            [
             0.1,
             "#c51b7d"
            ],
            [
             0.2,
             "#de77ae"
            ],
            [
             0.3,
             "#f1b6da"
            ],
            [
             0.4,
             "#fde0ef"
            ],
            [
             0.5,
             "#f7f7f7"
            ],
            [
             0.6,
             "#e6f5d0"
            ],
            [
             0.7,
             "#b8e186"
            ],
            [
             0.8,
             "#7fbc41"
            ],
            [
             0.9,
             "#4d9221"
            ],
            [
             1,
             "#276419"
            ]
           ],
           "sequential": [
            [
             0,
             "#0d0887"
            ],
            [
             0.1111111111111111,
             "#46039f"
            ],
            [
             0.2222222222222222,
             "#7201a8"
            ],
            [
             0.3333333333333333,
             "#9c179e"
            ],
            [
             0.4444444444444444,
             "#bd3786"
            ],
            [
             0.5555555555555556,
             "#d8576b"
            ],
            [
             0.6666666666666666,
             "#ed7953"
            ],
            [
             0.7777777777777778,
             "#fb9f3a"
            ],
            [
             0.8888888888888888,
             "#fdca26"
            ],
            [
             1,
             "#f0f921"
            ]
           ],
           "sequentialminus": [
            [
             0,
             "#0d0887"
            ],
            [
             0.1111111111111111,
             "#46039f"
            ],
            [
             0.2222222222222222,
             "#7201a8"
            ],
            [
             0.3333333333333333,
             "#9c179e"
            ],
            [
             0.4444444444444444,
             "#bd3786"
            ],
            [
             0.5555555555555556,
             "#d8576b"
            ],
            [
             0.6666666666666666,
             "#ed7953"
            ],
            [
             0.7777777777777778,
             "#fb9f3a"
            ],
            [
             0.8888888888888888,
             "#fdca26"
            ],
            [
             1,
             "#f0f921"
            ]
           ]
          },
          "colorway": [
           "#636efa",
           "#EF553B",
           "#00cc96",
           "#ab63fa",
           "#FFA15A",
           "#19d3f3",
           "#FF6692",
           "#B6E880",
           "#FF97FF",
           "#FECB52"
          ],
          "font": {
           "color": "#2a3f5f"
          },
          "geo": {
           "bgcolor": "white",
           "lakecolor": "white",
           "landcolor": "#E5ECF6",
           "showlakes": true,
           "showland": true,
           "subunitcolor": "white"
          },
          "hoverlabel": {
           "align": "left"
          },
          "hovermode": "closest",
          "mapbox": {
           "style": "light"
          },
          "paper_bgcolor": "white",
          "plot_bgcolor": "#E5ECF6",
          "polar": {
           "angularaxis": {
            "gridcolor": "white",
            "linecolor": "white",
            "ticks": ""
           },
           "bgcolor": "#E5ECF6",
           "radialaxis": {
            "gridcolor": "white",
            "linecolor": "white",
            "ticks": ""
           }
          },
          "scene": {
           "xaxis": {
            "backgroundcolor": "#E5ECF6",
            "gridcolor": "white",
            "gridwidth": 2,
            "linecolor": "white",
            "showbackground": true,
            "ticks": "",
            "zerolinecolor": "white"
           },
           "yaxis": {
            "backgroundcolor": "#E5ECF6",
            "gridcolor": "white",
            "gridwidth": 2,
            "linecolor": "white",
            "showbackground": true,
            "ticks": "",
            "zerolinecolor": "white"
           },
           "zaxis": {
            "backgroundcolor": "#E5ECF6",
            "gridcolor": "white",
            "gridwidth": 2,
            "linecolor": "white",
            "showbackground": true,
            "ticks": "",
            "zerolinecolor": "white"
           }
          },
          "shapedefaults": {
           "line": {
            "color": "#2a3f5f"
           }
          },
          "ternary": {
           "aaxis": {
            "gridcolor": "white",
            "linecolor": "white",
            "ticks": ""
           },
           "baxis": {
            "gridcolor": "white",
            "linecolor": "white",
            "ticks": ""
           },
           "bgcolor": "#E5ECF6",
           "caxis": {
            "gridcolor": "white",
            "linecolor": "white",
            "ticks": ""
           }
          },
          "title": {
           "x": 0.05
          },
          "xaxis": {
           "automargin": true,
           "gridcolor": "white",
           "linecolor": "white",
           "ticks": "",
           "title": {
            "standoff": 15
           },
           "zerolinecolor": "white",
           "zerolinewidth": 2
          },
          "yaxis": {
           "automargin": true,
           "gridcolor": "white",
           "linecolor": "white",
           "ticks": "",
           "title": {
            "standoff": 15
           },
           "zerolinecolor": "white",
           "zerolinewidth": 2
          }
         }
        },
        "title": {
         "text": "Annual Savings Per Dwelling Unit"
        },
        "width": 850,
        "xaxis": {
         "anchor": "y",
         "domain": [
          0,
          0.004635761589403973
         ],
         "tickangle": 45,
         "title": {
          "text": ""
         },
         "visible": false
        },
        "xaxis2": {
         "anchor": "y2",
         "domain": [
          0.10463576158940398,
          0.33642384105960266
         ],
         "tickangle": 45,
         "title": {
          "text": "Bill Savings<br>usd"
         },
         "visible": true
        },
        "xaxis3": {
         "anchor": "y3",
         "domain": [
          0.43642384105960264,
          0.6682119205298013
         ],
         "tickangle": 45,
         "title": {
          "text": "Emission Savings<br>kgCO2e"
         },
         "visible": true
        },
        "xaxis4": {
         "anchor": "y4",
         "domain": [
          0.7682119205298014,
          1
         ],
         "tickangle": 45,
         "title": {
          "text": "Energy Savings<br>mmbtu"
         },
         "visible": true
        },
        "yaxis": {
         "anchor": "x",
         "domain": [
          0,
          1
         ],
         "visible": true
        },
        "yaxis2": {
         "anchor": "x2",
         "domain": [
          0,
          1
         ],
         "visible": false
        },
        "yaxis3": {
         "anchor": "x3",
         "domain": [
          0,
          1
         ],
         "visible": false
        },
        "yaxis4": {
         "anchor": "x4",
         "domain": [
          0,
          1
         ],
         "visible": false
        }
       }
      },
      "text/html": [
       "<div>                            <div id=\"8ea13b48-28dc-4a27-8ba1-1ba8690d9e91\" class=\"plotly-graph-div\" style=\"height:500px; width:850px;\"></div>            <script type=\"text/javascript\">                require([\"plotly\"], function(Plotly) {                    window.PLOTLYENV=window.PLOTLYENV || {};                                    if (document.getElementById(\"8ea13b48-28dc-4a27-8ba1-1ba8690d9e91\")) {                    Plotly.newPlot(                        \"8ea13b48-28dc-4a27-8ba1-1ba8690d9e91\",                        [{\"orientation\":\"h\",\"x\":[0,0,0,0,0,0,0,0,0,0,0,0,0,0,0,0,0,0,0,0,0,0,0,0,0,0,0,0,0,0,0,0,0,0,0,0,0,0,0,0,0,0,0,0,0,0,0,0,0,0,0,0,0,0,0,0,0,0,0,0,0,0,0,0,0,0,0,0,0,0,0,0,0,0,0,0,0,0,0,0,0,0,0,0,0,0,0,0,0,0,0,0,0,0,0,0,0,0,0,0,0,0,0,0,0,0,0,0,0,0,0,0,0,0,0,0,0,0,0,0,0,0,0,0,0,0,0,0,0,0,0,0,0,0,0,0,0,0,0,0,0,0,0,0,0,0,0,0,0,0,0,0,0,0,0,0,0,0,0,0,0,0,0,0,0,0,0,0,0,0,0,0,0,0,0,0],\"y\":[\"Mininum Efficiency Whole Home Electrification\",\"Electric Clothes Dryer\",\"Electric Cooking\",\"Induction Cooking\",\"Heat Pump Clothes Dryer\",\"Mininum Efficiency Heat Pump with Electric Heat Backup\",\"Heat Pump Water Heater\",\"Mininum Efficiency Heat Pump with Existing Heat Backup\",\"Basic Enclosure\",\"Enhanced Enclosure\",\"High Efficiency Heat Pump with Electric Heat Backup\",\"High Efficiency Whole Home Electrification\",\"Basic Enclosure + HPWH + High Efficiency HP/Electric Backup\",\"Basic Enclosure + High Efficiency Whole Home Electrification\",\"Enhanced Enclosure + HPWH + High Efficiency HP/Electric Backup\",\"Enhanced Enclosure + High Efficiency Whole Home Electrification\"],\"type\":\"bar\",\"xaxis\":\"x\",\"yaxis\":\"y\",\"textfont\":{\"size\":10},\"cliponaxis\":false,\"textangle\":0,\"textposition\":\"outside\",\"marker\":{\"line\":{\"color\":\"rgb(255, 255, 255)\"},\"color\":\"rgb(255, 255, 255)\"}},{\"orientation\":\"h\",\"text\":[-287.66440250639414,-39.87082312924515,-20.56833142239554,-2.746393286316494,21.000758580032553,67.83226599398314,87.54349264321871,249.79755329126385,331.293322547789,405.73946783836857,643.4699801816646,789.0752408227319,929.4982273181938,946.6525884340848,951.961947290634,969.116308406525],\"x\":[-287.66440250639414,-39.87082312924515,-20.56833142239554,-2.746393286316494,21.000758580032553,67.83226599398314,87.54349264321871,249.79755329126385,331.293322547789,405.73946783836857,643.4699801816646,789.0752408227319,929.4982273181938,946.6525884340848,951.961947290634,969.116308406525],\"y\":[\"Mininum Efficiency Whole Home Electrification\",\"Electric Clothes Dryer\",\"Electric Cooking\",\"Induction Cooking\",\"Heat Pump Clothes Dryer\",\"Mininum Efficiency Heat Pump with Electric Heat Backup\",\"Heat Pump Water Heater\",\"Mininum Efficiency Heat Pump with Existing Heat Backup\",\"Basic Enclosure\",\"Enhanced Enclosure\",\"High Efficiency Heat Pump with Electric Heat Backup\",\"High Efficiency Whole Home Electrification\",\"Basic Enclosure + HPWH + High Efficiency HP/Electric Backup\",\"Basic Enclosure + High Efficiency Whole Home Electrification\",\"Enhanced Enclosure + HPWH + High Efficiency HP/Electric Backup\",\"Enhanced Enclosure + High Efficiency Whole Home Electrification\"],\"type\":\"bar\",\"xaxis\":\"x2\",\"yaxis\":\"y2\",\"textfont\":{\"size\":10},\"cliponaxis\":false,\"textangle\":0,\"textposition\":\"outside\",\"marker\":{\"line\":{\"color\":\"rgb(0, 121, 61)\"},\"color\":\"rgb(0, 121, 61)\"},\"texttemplate\":\"%{text:.3s}\"},{\"orientation\":\"h\",\"text\":[2660.839370166082,28.023011356354854,84.30616587944586,37.32603614742908,61.06257257651542,1985.2521844962134,378.87106724004076,1395.5648003389297,1345.776274868689,1637.9606911442063,3392.965689844869,4027.2184976321323,4325.035153722668,4413.439660723831,4381.80107883138,4470.205585832543],\"x\":[2660.839370166082,28.023011356354854,84.30616587944586,37.32603614742908,61.06257257651542,1985.2521844962134,378.87106724004076,1395.5648003389297,1345.776274868689,1637.9606911442063,3392.965689844869,4027.2184976321323,4325.035153722668,4413.439660723831,4381.80107883138,4470.205585832543],\"y\":[\"Mininum Efficiency Whole Home Electrification\",\"Electric Clothes Dryer\",\"Electric Cooking\",\"Induction Cooking\",\"Heat Pump Clothes Dryer\",\"Mininum Efficiency Heat Pump with Electric Heat Backup\",\"Heat Pump Water Heater\",\"Mininum Efficiency Heat Pump with Existing Heat Backup\",\"Basic Enclosure\",\"Enhanced Enclosure\",\"High Efficiency Heat Pump with Electric Heat Backup\",\"High Efficiency Whole Home Electrification\",\"Basic Enclosure + HPWH + High Efficiency HP/Electric Backup\",\"Basic Enclosure + High Efficiency Whole Home Electrification\",\"Enhanced Enclosure + HPWH + High Efficiency HP/Electric Backup\",\"Enhanced Enclosure + High Efficiency Whole Home Electrification\"],\"type\":\"bar\",\"xaxis\":\"x3\",\"yaxis\":\"y3\",\"textfont\":{\"size\":10},\"cliponaxis\":false,\"textangle\":0,\"textposition\":\"outside\",\"marker\":{\"line\":{\"color\":\"rgb(0, 121, 61)\"},\"color\":\"rgb(0, 121, 61)\"},\"texttemplate\":\"%{text:.3s}\"},{\"orientation\":\"h\",\"text\":[44.88882281518422,0.49730095055206885,1.319616365746043,0.5646591574474231,0.8615482943886187,31.000282413829623,5.473719259568807,19.42257674864364,18.225091974907603,22.072773961598745,47.64132609225429,56.682890136808915,59.954027430010846,61.23911403743429,60.603552611060486,61.888639218483924],\"x\":[44.88882281518422,0.49730095055206885,1.319616365746043,0.5646591574474231,0.8615482943886187,31.000282413829623,5.473719259568807,19.42257674864364,18.225091974907603,22.072773961598745,47.64132609225429,56.682890136808915,59.954027430010846,61.23911403743429,60.603552611060486,61.888639218483924],\"y\":[\"Mininum Efficiency Whole Home Electrification\",\"Electric Clothes Dryer\",\"Electric Cooking\",\"Induction Cooking\",\"Heat Pump Clothes Dryer\",\"Mininum Efficiency Heat Pump with Electric Heat Backup\",\"Heat Pump Water Heater\",\"Mininum Efficiency Heat Pump with Existing Heat Backup\",\"Basic Enclosure\",\"Enhanced Enclosure\",\"High Efficiency Heat Pump with Electric Heat Backup\",\"High Efficiency Whole Home Electrification\",\"Basic Enclosure + HPWH + High Efficiency HP/Electric Backup\",\"Basic Enclosure + High Efficiency Whole Home Electrification\",\"Enhanced Enclosure + HPWH + High Efficiency HP/Electric Backup\",\"Enhanced Enclosure + High Efficiency Whole Home Electrification\"],\"type\":\"bar\",\"xaxis\":\"x4\",\"yaxis\":\"y4\",\"textfont\":{\"size\":10},\"cliponaxis\":false,\"textangle\":0,\"textposition\":\"outside\",\"marker\":{\"line\":{\"color\":\"rgb(0, 121, 61)\"},\"color\":\"rgb(0, 121, 61)\"},\"texttemplate\":\"%{text:.3s}\"}],                        {\"template\":{\"data\":{\"histogram2dcontour\":[{\"type\":\"histogram2dcontour\",\"colorbar\":{\"outlinewidth\":0,\"ticks\":\"\"},\"colorscale\":[[0.0,\"#0d0887\"],[0.1111111111111111,\"#46039f\"],[0.2222222222222222,\"#7201a8\"],[0.3333333333333333,\"#9c179e\"],[0.4444444444444444,\"#bd3786\"],[0.5555555555555556,\"#d8576b\"],[0.6666666666666666,\"#ed7953\"],[0.7777777777777778,\"#fb9f3a\"],[0.8888888888888888,\"#fdca26\"],[1.0,\"#f0f921\"]]}],\"choropleth\":[{\"type\":\"choropleth\",\"colorbar\":{\"outlinewidth\":0,\"ticks\":\"\"}}],\"histogram2d\":[{\"type\":\"histogram2d\",\"colorbar\":{\"outlinewidth\":0,\"ticks\":\"\"},\"colorscale\":[[0.0,\"#0d0887\"],[0.1111111111111111,\"#46039f\"],[0.2222222222222222,\"#7201a8\"],[0.3333333333333333,\"#9c179e\"],[0.4444444444444444,\"#bd3786\"],[0.5555555555555556,\"#d8576b\"],[0.6666666666666666,\"#ed7953\"],[0.7777777777777778,\"#fb9f3a\"],[0.8888888888888888,\"#fdca26\"],[1.0,\"#f0f921\"]]}],\"heatmap\":[{\"type\":\"heatmap\",\"colorbar\":{\"outlinewidth\":0,\"ticks\":\"\"},\"colorscale\":[[0.0,\"#0d0887\"],[0.1111111111111111,\"#46039f\"],[0.2222222222222222,\"#7201a8\"],[0.3333333333333333,\"#9c179e\"],[0.4444444444444444,\"#bd3786\"],[0.5555555555555556,\"#d8576b\"],[0.6666666666666666,\"#ed7953\"],[0.7777777777777778,\"#fb9f3a\"],[0.8888888888888888,\"#fdca26\"],[1.0,\"#f0f921\"]]}],\"heatmapgl\":[{\"type\":\"heatmapgl\",\"colorbar\":{\"outlinewidth\":0,\"ticks\":\"\"},\"colorscale\":[[0.0,\"#0d0887\"],[0.1111111111111111,\"#46039f\"],[0.2222222222222222,\"#7201a8\"],[0.3333333333333333,\"#9c179e\"],[0.4444444444444444,\"#bd3786\"],[0.5555555555555556,\"#d8576b\"],[0.6666666666666666,\"#ed7953\"],[0.7777777777777778,\"#fb9f3a\"],[0.8888888888888888,\"#fdca26\"],[1.0,\"#f0f921\"]]}],\"contourcarpet\":[{\"type\":\"contourcarpet\",\"colorbar\":{\"outlinewidth\":0,\"ticks\":\"\"}}],\"contour\":[{\"type\":\"contour\",\"colorbar\":{\"outlinewidth\":0,\"ticks\":\"\"},\"colorscale\":[[0.0,\"#0d0887\"],[0.1111111111111111,\"#46039f\"],[0.2222222222222222,\"#7201a8\"],[0.3333333333333333,\"#9c179e\"],[0.4444444444444444,\"#bd3786\"],[0.5555555555555556,\"#d8576b\"],[0.6666666666666666,\"#ed7953\"],[0.7777777777777778,\"#fb9f3a\"],[0.8888888888888888,\"#fdca26\"],[1.0,\"#f0f921\"]]}],\"surface\":[{\"type\":\"surface\",\"colorbar\":{\"outlinewidth\":0,\"ticks\":\"\"},\"colorscale\":[[0.0,\"#0d0887\"],[0.1111111111111111,\"#46039f\"],[0.2222222222222222,\"#7201a8\"],[0.3333333333333333,\"#9c179e\"],[0.4444444444444444,\"#bd3786\"],[0.5555555555555556,\"#d8576b\"],[0.6666666666666666,\"#ed7953\"],[0.7777777777777778,\"#fb9f3a\"],[0.8888888888888888,\"#fdca26\"],[1.0,\"#f0f921\"]]}],\"mesh3d\":[{\"type\":\"mesh3d\",\"colorbar\":{\"outlinewidth\":0,\"ticks\":\"\"}}],\"scatter\":[{\"fillpattern\":{\"fillmode\":\"overlay\",\"size\":10,\"solidity\":0.2},\"type\":\"scatter\"}],\"parcoords\":[{\"type\":\"parcoords\",\"line\":{\"colorbar\":{\"outlinewidth\":0,\"ticks\":\"\"}}}],\"scatterpolargl\":[{\"type\":\"scatterpolargl\",\"marker\":{\"colorbar\":{\"outlinewidth\":0,\"ticks\":\"\"}}}],\"bar\":[{\"error_x\":{\"color\":\"#2a3f5f\"},\"error_y\":{\"color\":\"#2a3f5f\"},\"marker\":{\"line\":{\"color\":\"#E5ECF6\",\"width\":0.5},\"pattern\":{\"fillmode\":\"overlay\",\"size\":10,\"solidity\":0.2}},\"type\":\"bar\"}],\"scattergeo\":[{\"type\":\"scattergeo\",\"marker\":{\"colorbar\":{\"outlinewidth\":0,\"ticks\":\"\"}}}],\"scatterpolar\":[{\"type\":\"scatterpolar\",\"marker\":{\"colorbar\":{\"outlinewidth\":0,\"ticks\":\"\"}}}],\"histogram\":[{\"marker\":{\"pattern\":{\"fillmode\":\"overlay\",\"size\":10,\"solidity\":0.2}},\"type\":\"histogram\"}],\"scattergl\":[{\"type\":\"scattergl\",\"marker\":{\"colorbar\":{\"outlinewidth\":0,\"ticks\":\"\"}}}],\"scatter3d\":[{\"type\":\"scatter3d\",\"line\":{\"colorbar\":{\"outlinewidth\":0,\"ticks\":\"\"}},\"marker\":{\"colorbar\":{\"outlinewidth\":0,\"ticks\":\"\"}}}],\"scattermapbox\":[{\"type\":\"scattermapbox\",\"marker\":{\"colorbar\":{\"outlinewidth\":0,\"ticks\":\"\"}}}],\"scatterternary\":[{\"type\":\"scatterternary\",\"marker\":{\"colorbar\":{\"outlinewidth\":0,\"ticks\":\"\"}}}],\"scattercarpet\":[{\"type\":\"scattercarpet\",\"marker\":{\"colorbar\":{\"outlinewidth\":0,\"ticks\":\"\"}}}],\"carpet\":[{\"aaxis\":{\"endlinecolor\":\"#2a3f5f\",\"gridcolor\":\"white\",\"linecolor\":\"white\",\"minorgridcolor\":\"white\",\"startlinecolor\":\"#2a3f5f\"},\"baxis\":{\"endlinecolor\":\"#2a3f5f\",\"gridcolor\":\"white\",\"linecolor\":\"white\",\"minorgridcolor\":\"white\",\"startlinecolor\":\"#2a3f5f\"},\"type\":\"carpet\"}],\"table\":[{\"cells\":{\"fill\":{\"color\":\"#EBF0F8\"},\"line\":{\"color\":\"white\"}},\"header\":{\"fill\":{\"color\":\"#C8D4E3\"},\"line\":{\"color\":\"white\"}},\"type\":\"table\"}],\"barpolar\":[{\"marker\":{\"line\":{\"color\":\"#E5ECF6\",\"width\":0.5},\"pattern\":{\"fillmode\":\"overlay\",\"size\":10,\"solidity\":0.2}},\"type\":\"barpolar\"}],\"pie\":[{\"automargin\":true,\"type\":\"pie\"}]},\"layout\":{\"autotypenumbers\":\"strict\",\"colorway\":[\"#636efa\",\"#EF553B\",\"#00cc96\",\"#ab63fa\",\"#FFA15A\",\"#19d3f3\",\"#FF6692\",\"#B6E880\",\"#FF97FF\",\"#FECB52\"],\"font\":{\"color\":\"#2a3f5f\"},\"hovermode\":\"closest\",\"hoverlabel\":{\"align\":\"left\"},\"paper_bgcolor\":\"white\",\"plot_bgcolor\":\"#E5ECF6\",\"polar\":{\"bgcolor\":\"#E5ECF6\",\"angularaxis\":{\"gridcolor\":\"white\",\"linecolor\":\"white\",\"ticks\":\"\"},\"radialaxis\":{\"gridcolor\":\"white\",\"linecolor\":\"white\",\"ticks\":\"\"}},\"ternary\":{\"bgcolor\":\"#E5ECF6\",\"aaxis\":{\"gridcolor\":\"white\",\"linecolor\":\"white\",\"ticks\":\"\"},\"baxis\":{\"gridcolor\":\"white\",\"linecolor\":\"white\",\"ticks\":\"\"},\"caxis\":{\"gridcolor\":\"white\",\"linecolor\":\"white\",\"ticks\":\"\"}},\"coloraxis\":{\"colorbar\":{\"outlinewidth\":0,\"ticks\":\"\"}},\"colorscale\":{\"sequential\":[[0.0,\"#0d0887\"],[0.1111111111111111,\"#46039f\"],[0.2222222222222222,\"#7201a8\"],[0.3333333333333333,\"#9c179e\"],[0.4444444444444444,\"#bd3786\"],[0.5555555555555556,\"#d8576b\"],[0.6666666666666666,\"#ed7953\"],[0.7777777777777778,\"#fb9f3a\"],[0.8888888888888888,\"#fdca26\"],[1.0,\"#f0f921\"]],\"sequentialminus\":[[0.0,\"#0d0887\"],[0.1111111111111111,\"#46039f\"],[0.2222222222222222,\"#7201a8\"],[0.3333333333333333,\"#9c179e\"],[0.4444444444444444,\"#bd3786\"],[0.5555555555555556,\"#d8576b\"],[0.6666666666666666,\"#ed7953\"],[0.7777777777777778,\"#fb9f3a\"],[0.8888888888888888,\"#fdca26\"],[1.0,\"#f0f921\"]],\"diverging\":[[0,\"#8e0152\"],[0.1,\"#c51b7d\"],[0.2,\"#de77ae\"],[0.3,\"#f1b6da\"],[0.4,\"#fde0ef\"],[0.5,\"#f7f7f7\"],[0.6,\"#e6f5d0\"],[0.7,\"#b8e186\"],[0.8,\"#7fbc41\"],[0.9,\"#4d9221\"],[1,\"#276419\"]]},\"xaxis\":{\"gridcolor\":\"white\",\"linecolor\":\"white\",\"ticks\":\"\",\"title\":{\"standoff\":15},\"zerolinecolor\":\"white\",\"automargin\":true,\"zerolinewidth\":2},\"yaxis\":{\"gridcolor\":\"white\",\"linecolor\":\"white\",\"ticks\":\"\",\"title\":{\"standoff\":15},\"zerolinecolor\":\"white\",\"automargin\":true,\"zerolinewidth\":2},\"scene\":{\"xaxis\":{\"backgroundcolor\":\"#E5ECF6\",\"gridcolor\":\"white\",\"linecolor\":\"white\",\"showbackground\":true,\"ticks\":\"\",\"zerolinecolor\":\"white\",\"gridwidth\":2},\"yaxis\":{\"backgroundcolor\":\"#E5ECF6\",\"gridcolor\":\"white\",\"linecolor\":\"white\",\"showbackground\":true,\"ticks\":\"\",\"zerolinecolor\":\"white\",\"gridwidth\":2},\"zaxis\":{\"backgroundcolor\":\"#E5ECF6\",\"gridcolor\":\"white\",\"linecolor\":\"white\",\"showbackground\":true,\"ticks\":\"\",\"zerolinecolor\":\"white\",\"gridwidth\":2}},\"shapedefaults\":{\"line\":{\"color\":\"#2a3f5f\"}},\"annotationdefaults\":{\"arrowcolor\":\"#2a3f5f\",\"arrowhead\":0,\"arrowwidth\":1},\"geo\":{\"bgcolor\":\"white\",\"landcolor\":\"#E5ECF6\",\"subunitcolor\":\"white\",\"showland\":true,\"showlakes\":true,\"lakecolor\":\"white\"},\"title\":{\"x\":0.05},\"mapbox\":{\"style\":\"light\"}}},\"xaxis\":{\"anchor\":\"y\",\"domain\":[0.0,0.004635761589403973],\"title\":{\"text\":\"\"},\"visible\":false,\"tickangle\":45},\"yaxis\":{\"anchor\":\"x\",\"domain\":[0.0,1.0],\"visible\":true},\"xaxis2\":{\"anchor\":\"y2\",\"domain\":[0.10463576158940398,0.33642384105960266],\"title\":{\"text\":\"Bill Savings<br>usd\"},\"visible\":true,\"tickangle\":45},\"yaxis2\":{\"anchor\":\"x2\",\"domain\":[0.0,1.0],\"visible\":false},\"xaxis3\":{\"anchor\":\"y3\",\"domain\":[0.43642384105960264,0.6682119205298013],\"title\":{\"text\":\"Emission Savings<br>kgCO2e\"},\"visible\":true,\"tickangle\":45},\"yaxis3\":{\"anchor\":\"x3\",\"domain\":[0.0,1.0],\"visible\":false},\"xaxis4\":{\"anchor\":\"y4\",\"domain\":[0.7682119205298014,1.0],\"title\":{\"text\":\"Energy Savings<br>mmbtu\"},\"visible\":true,\"tickangle\":45},\"yaxis4\":{\"anchor\":\"x4\",\"domain\":[0.0,1.0],\"visible\":false},\"title\":{\"text\":\"Annual Savings Per Dwelling Unit\"},\"font\":{\"size\":10},\"autosize\":false,\"width\":850,\"height\":500,\"plot_bgcolor\":\"rgba(0, 0, 0, 0)\",\"showlegend\":false},                        {\"responsive\": true}                    ).then(function(){\n",
       "                            \n",
       "var gd = document.getElementById('8ea13b48-28dc-4a27-8ba1-1ba8690d9e91');\n",
       "var x = new MutationObserver(function (mutations, observer) {{\n",
       "        var display = window.getComputedStyle(gd).display;\n",
       "        if (!display || display === 'none') {{\n",
       "            console.log([gd, 'removed!']);\n",
       "            Plotly.purge(gd);\n",
       "            observer.disconnect();\n",
       "        }}\n",
       "}});\n",
       "\n",
       "// Listen for the removal of the full notebook cells\n",
       "var notebookContainer = gd.closest('#notebook-container');\n",
       "if (notebookContainer) {{\n",
       "    x.observe(notebookContainer, {childList: true});\n",
       "}}\n",
       "\n",
       "// Listen for the clearing of the current output cell\n",
       "var outputEl = gd.closest('.output');\n",
       "if (outputEl) {{\n",
       "    x.observe(outputEl, {childList: true});\n",
       "}}\n",
       "\n",
       "                        })                };                });            </script>        </div>"
      ]
     },
     "metadata": {},
     "output_type": "display_data"
    }
   ],
   "source": [
    "results = figure_mean_savings(community_results) \n",
    "saving_results[['whole_community_saving_bill_mean_usd','whole_community_saving_emission_mean_kgCO2e','whole_community_saving_energy_mean_mmbtu']] = results"
   ]
  },
  {
   "cell_type": "code",
   "execution_count": 208,
   "id": "66b088aa",
   "metadata": {},
   "outputs": [
    {
     "name": "stdout",
     "output_type": "stream",
     "text": [
      "Community summary:\n"
     ]
    },
    {
     "data": {
      "text/html": [
       "<div>\n",
       "<style scoped>\n",
       "    .dataframe tbody tr th:only-of-type {\n",
       "        vertical-align: middle;\n",
       "    }\n",
       "\n",
       "    .dataframe tbody tr th {\n",
       "        vertical-align: top;\n",
       "    }\n",
       "\n",
       "    .dataframe thead th {\n",
       "        text-align: right;\n",
       "    }\n",
       "</style>\n",
       "<table border=\"1\" class=\"dataframe\">\n",
       "  <thead>\n",
       "    <tr style=\"text-align: right;\">\n",
       "      <th></th>\n",
       "      <th>n_samples</th>\n",
       "      <th>n_represented</th>\n",
       "      <th>saving_cbill.total_usd wt_mean</th>\n",
       "      <th>saving_cbill.total_usd wt_p0.1</th>\n",
       "      <th>saving_cbill.total_usd wt_p0.25</th>\n",
       "      <th>saving_cbill.total_usd wt_p0.75</th>\n",
       "      <th>saving_cbill.total_usd wt_p0.9</th>\n",
       "    </tr>\n",
       "    <tr>\n",
       "      <th>upgrade_name</th>\n",
       "      <th></th>\n",
       "      <th></th>\n",
       "      <th></th>\n",
       "      <th></th>\n",
       "      <th></th>\n",
       "      <th></th>\n",
       "      <th></th>\n",
       "    </tr>\n",
       "  </thead>\n",
       "  <tbody>\n",
       "    <tr>\n",
       "      <th>Enhanced Enclosure + High Efficiency Whole Home Electrification</th>\n",
       "      <td>1147</td>\n",
       "      <td>27723.000000</td>\n",
       "      <td>969.116308</td>\n",
       "      <td>178.248036</td>\n",
       "      <td>380.642562</td>\n",
       "      <td>1347.068175</td>\n",
       "      <td>2119.018933</td>\n",
       "    </tr>\n",
       "    <tr>\n",
       "      <th>Enhanced Enclosure + HPWH + High Efficiency HP/Electric Backup</th>\n",
       "      <td>1147</td>\n",
       "      <td>27723.000000</td>\n",
       "      <td>951.961947</td>\n",
       "      <td>174.466762</td>\n",
       "      <td>377.292809</td>\n",
       "      <td>1323.091279</td>\n",
       "      <td>2077.911943</td>\n",
       "    </tr>\n",
       "    <tr>\n",
       "      <th>Basic Enclosure + High Efficiency Whole Home Electrification</th>\n",
       "      <td>1147</td>\n",
       "      <td>27723.000000</td>\n",
       "      <td>946.652588</td>\n",
       "      <td>175.097136</td>\n",
       "      <td>366.410318</td>\n",
       "      <td>1323.635767</td>\n",
       "      <td>2108.064584</td>\n",
       "    </tr>\n",
       "    <tr>\n",
       "      <th>Basic Enclosure + HPWH + High Efficiency HP/Electric Backup</th>\n",
       "      <td>1147</td>\n",
       "      <td>27723.000000</td>\n",
       "      <td>929.498227</td>\n",
       "      <td>174.032757</td>\n",
       "      <td>364.978053</td>\n",
       "      <td>1290.691076</td>\n",
       "      <td>2053.322462</td>\n",
       "    </tr>\n",
       "    <tr>\n",
       "      <th>High Efficiency Whole Home Electrification</th>\n",
       "      <td>1147</td>\n",
       "      <td>27723.000000</td>\n",
       "      <td>789.075241</td>\n",
       "      <td>97.953658</td>\n",
       "      <td>302.802793</td>\n",
       "      <td>1110.354666</td>\n",
       "      <td>1790.090722</td>\n",
       "    </tr>\n",
       "    <tr>\n",
       "      <th>High Efficiency Heat Pump with Electric Heat Backup</th>\n",
       "      <td>1144</td>\n",
       "      <td>27468.480932</td>\n",
       "      <td>643.469980</td>\n",
       "      <td>57.878462</td>\n",
       "      <td>220.506818</td>\n",
       "      <td>935.637497</td>\n",
       "      <td>1555.435624</td>\n",
       "    </tr>\n",
       "    <tr>\n",
       "      <th>Enhanced Enclosure</th>\n",
       "      <td>1137</td>\n",
       "      <td>27284.784354</td>\n",
       "      <td>405.739468</td>\n",
       "      <td>47.501294</td>\n",
       "      <td>111.923211</td>\n",
       "      <td>573.286352</td>\n",
       "      <td>922.384096</td>\n",
       "    </tr>\n",
       "    <tr>\n",
       "      <th>Basic Enclosure</th>\n",
       "      <td>1131</td>\n",
       "      <td>27181.016959</td>\n",
       "      <td>331.293323</td>\n",
       "      <td>39.468827</td>\n",
       "      <td>94.142048</td>\n",
       "      <td>479.189436</td>\n",
       "      <td>771.355599</td>\n",
       "    </tr>\n",
       "    <tr>\n",
       "      <th>Mininum Efficiency Heat Pump with Existing Heat Backup</th>\n",
       "      <td>1135</td>\n",
       "      <td>26996.819723</td>\n",
       "      <td>249.797553</td>\n",
       "      <td>-193.323643</td>\n",
       "      <td>-8.896191</td>\n",
       "      <td>311.283058</td>\n",
       "      <td>895.007211</td>\n",
       "    </tr>\n",
       "    <tr>\n",
       "      <th>Heat Pump Water Heater</th>\n",
       "      <td>1137</td>\n",
       "      <td>27540.061448</td>\n",
       "      <td>87.543493</td>\n",
       "      <td>2.750389</td>\n",
       "      <td>17.505682</td>\n",
       "      <td>124.212220</td>\n",
       "      <td>209.513631</td>\n",
       "    </tr>\n",
       "    <tr>\n",
       "      <th>Mininum Efficiency Heat Pump with Electric Heat Backup</th>\n",
       "      <td>1144</td>\n",
       "      <td>27468.480932</td>\n",
       "      <td>67.832266</td>\n",
       "      <td>-688.656354</td>\n",
       "      <td>-246.541337</td>\n",
       "      <td>284.925321</td>\n",
       "      <td>892.652693</td>\n",
       "    </tr>\n",
       "    <tr>\n",
       "      <th>Heat Pump Clothes Dryer</th>\n",
       "      <td>1038</td>\n",
       "      <td>23302.660882</td>\n",
       "      <td>21.000759</td>\n",
       "      <td>-5.274686</td>\n",
       "      <td>0.000000</td>\n",
       "      <td>35.726330</td>\n",
       "      <td>51.912121</td>\n",
       "    </tr>\n",
       "    <tr>\n",
       "      <th>baseline</th>\n",
       "      <td>1147</td>\n",
       "      <td>27723.000000</td>\n",
       "      <td>0.000000</td>\n",
       "      <td>NaN</td>\n",
       "      <td>NaN</td>\n",
       "      <td>NaN</td>\n",
       "      <td>NaN</td>\n",
       "    </tr>\n",
       "    <tr>\n",
       "      <th>Induction Cooking</th>\n",
       "      <td>1139</td>\n",
       "      <td>27538.893286</td>\n",
       "      <td>-2.746393</td>\n",
       "      <td>-18.378047</td>\n",
       "      <td>-7.494976</td>\n",
       "      <td>4.323128</td>\n",
       "      <td>5.153169</td>\n",
       "    </tr>\n",
       "    <tr>\n",
       "      <th>Electric Cooking</th>\n",
       "      <td>469</td>\n",
       "      <td>9265.180107</td>\n",
       "      <td>-20.568331</td>\n",
       "      <td>-35.664243</td>\n",
       "      <td>-26.572564</td>\n",
       "      <td>-13.543793</td>\n",
       "      <td>0.000000</td>\n",
       "    </tr>\n",
       "    <tr>\n",
       "      <th>Electric Clothes Dryer</th>\n",
       "      <td>229</td>\n",
       "      <td>3591.614938</td>\n",
       "      <td>-39.870823</td>\n",
       "      <td>-71.796246</td>\n",
       "      <td>-54.757601</td>\n",
       "      <td>-20.810731</td>\n",
       "      <td>0.000000</td>\n",
       "    </tr>\n",
       "    <tr>\n",
       "      <th>Mininum Efficiency Whole Home Electrification</th>\n",
       "      <td>890</td>\n",
       "      <td>17646.462117</td>\n",
       "      <td>-287.664403</td>\n",
       "      <td>-852.860587</td>\n",
       "      <td>-392.194138</td>\n",
       "      <td>-4.199940</td>\n",
       "      <td>99.694294</td>\n",
       "    </tr>\n",
       "  </tbody>\n",
       "</table>\n",
       "</div>"
      ],
      "text/plain": [
       "                                                    n_samples  n_represented  \\\n",
       "upgrade_name                                                                   \n",
       "Enhanced Enclosure + High Efficiency Whole Home...       1147   27723.000000   \n",
       "Enhanced Enclosure + HPWH + High Efficiency HP/...       1147   27723.000000   \n",
       "Basic Enclosure + High Efficiency Whole Home El...       1147   27723.000000   \n",
       "Basic Enclosure + HPWH + High Efficiency HP/Ele...       1147   27723.000000   \n",
       "High Efficiency Whole Home Electrification               1147   27723.000000   \n",
       "High Efficiency Heat Pump with Electric Heat Ba...       1144   27468.480932   \n",
       "Enhanced Enclosure                                       1137   27284.784354   \n",
       "Basic Enclosure                                          1131   27181.016959   \n",
       "Mininum Efficiency Heat Pump with Existing Heat...       1135   26996.819723   \n",
       "Heat Pump Water Heater                                   1137   27540.061448   \n",
       "Mininum Efficiency Heat Pump with Electric Heat...       1144   27468.480932   \n",
       "Heat Pump Clothes Dryer                                  1038   23302.660882   \n",
       "baseline                                                 1147   27723.000000   \n",
       "Induction Cooking                                        1139   27538.893286   \n",
       "Electric Cooking                                          469    9265.180107   \n",
       "Electric Clothes Dryer                                    229    3591.614938   \n",
       "Mininum Efficiency Whole Home Electrification             890   17646.462117   \n",
       "\n",
       "                                                    saving_cbill.total_usd wt_mean  \\\n",
       "upgrade_name                                                                         \n",
       "Enhanced Enclosure + High Efficiency Whole Home...                      969.116308   \n",
       "Enhanced Enclosure + HPWH + High Efficiency HP/...                      951.961947   \n",
       "Basic Enclosure + High Efficiency Whole Home El...                      946.652588   \n",
       "Basic Enclosure + HPWH + High Efficiency HP/Ele...                      929.498227   \n",
       "High Efficiency Whole Home Electrification                              789.075241   \n",
       "High Efficiency Heat Pump with Electric Heat Ba...                      643.469980   \n",
       "Enhanced Enclosure                                                      405.739468   \n",
       "Basic Enclosure                                                         331.293323   \n",
       "Mininum Efficiency Heat Pump with Existing Heat...                      249.797553   \n",
       "Heat Pump Water Heater                                                   87.543493   \n",
       "Mininum Efficiency Heat Pump with Electric Heat...                       67.832266   \n",
       "Heat Pump Clothes Dryer                                                  21.000759   \n",
       "baseline                                                                  0.000000   \n",
       "Induction Cooking                                                        -2.746393   \n",
       "Electric Cooking                                                        -20.568331   \n",
       "Electric Clothes Dryer                                                  -39.870823   \n",
       "Mininum Efficiency Whole Home Electrification                          -287.664403   \n",
       "\n",
       "                                                    saving_cbill.total_usd wt_p0.1  \\\n",
       "upgrade_name                                                                         \n",
       "Enhanced Enclosure + High Efficiency Whole Home...                      178.248036   \n",
       "Enhanced Enclosure + HPWH + High Efficiency HP/...                      174.466762   \n",
       "Basic Enclosure + High Efficiency Whole Home El...                      175.097136   \n",
       "Basic Enclosure + HPWH + High Efficiency HP/Ele...                      174.032757   \n",
       "High Efficiency Whole Home Electrification                               97.953658   \n",
       "High Efficiency Heat Pump with Electric Heat Ba...                       57.878462   \n",
       "Enhanced Enclosure                                                       47.501294   \n",
       "Basic Enclosure                                                          39.468827   \n",
       "Mininum Efficiency Heat Pump with Existing Heat...                     -193.323643   \n",
       "Heat Pump Water Heater                                                    2.750389   \n",
       "Mininum Efficiency Heat Pump with Electric Heat...                     -688.656354   \n",
       "Heat Pump Clothes Dryer                                                  -5.274686   \n",
       "baseline                                                                       NaN   \n",
       "Induction Cooking                                                       -18.378047   \n",
       "Electric Cooking                                                        -35.664243   \n",
       "Electric Clothes Dryer                                                  -71.796246   \n",
       "Mininum Efficiency Whole Home Electrification                          -852.860587   \n",
       "\n",
       "                                                    saving_cbill.total_usd wt_p0.25  \\\n",
       "upgrade_name                                                                          \n",
       "Enhanced Enclosure + High Efficiency Whole Home...                       380.642562   \n",
       "Enhanced Enclosure + HPWH + High Efficiency HP/...                       377.292809   \n",
       "Basic Enclosure + High Efficiency Whole Home El...                       366.410318   \n",
       "Basic Enclosure + HPWH + High Efficiency HP/Ele...                       364.978053   \n",
       "High Efficiency Whole Home Electrification                               302.802793   \n",
       "High Efficiency Heat Pump with Electric Heat Ba...                       220.506818   \n",
       "Enhanced Enclosure                                                       111.923211   \n",
       "Basic Enclosure                                                           94.142048   \n",
       "Mininum Efficiency Heat Pump with Existing Heat...                        -8.896191   \n",
       "Heat Pump Water Heater                                                    17.505682   \n",
       "Mininum Efficiency Heat Pump with Electric Heat...                      -246.541337   \n",
       "Heat Pump Clothes Dryer                                                    0.000000   \n",
       "baseline                                                                        NaN   \n",
       "Induction Cooking                                                         -7.494976   \n",
       "Electric Cooking                                                         -26.572564   \n",
       "Electric Clothes Dryer                                                   -54.757601   \n",
       "Mininum Efficiency Whole Home Electrification                           -392.194138   \n",
       "\n",
       "                                                    saving_cbill.total_usd wt_p0.75  \\\n",
       "upgrade_name                                                                          \n",
       "Enhanced Enclosure + High Efficiency Whole Home...                      1347.068175   \n",
       "Enhanced Enclosure + HPWH + High Efficiency HP/...                      1323.091279   \n",
       "Basic Enclosure + High Efficiency Whole Home El...                      1323.635767   \n",
       "Basic Enclosure + HPWH + High Efficiency HP/Ele...                      1290.691076   \n",
       "High Efficiency Whole Home Electrification                              1110.354666   \n",
       "High Efficiency Heat Pump with Electric Heat Ba...                       935.637497   \n",
       "Enhanced Enclosure                                                       573.286352   \n",
       "Basic Enclosure                                                          479.189436   \n",
       "Mininum Efficiency Heat Pump with Existing Heat...                       311.283058   \n",
       "Heat Pump Water Heater                                                   124.212220   \n",
       "Mininum Efficiency Heat Pump with Electric Heat...                       284.925321   \n",
       "Heat Pump Clothes Dryer                                                   35.726330   \n",
       "baseline                                                                        NaN   \n",
       "Induction Cooking                                                          4.323128   \n",
       "Electric Cooking                                                         -13.543793   \n",
       "Electric Clothes Dryer                                                   -20.810731   \n",
       "Mininum Efficiency Whole Home Electrification                             -4.199940   \n",
       "\n",
       "                                                    saving_cbill.total_usd wt_p0.9  \n",
       "upgrade_name                                                                        \n",
       "Enhanced Enclosure + High Efficiency Whole Home...                     2119.018933  \n",
       "Enhanced Enclosure + HPWH + High Efficiency HP/...                     2077.911943  \n",
       "Basic Enclosure + High Efficiency Whole Home El...                     2108.064584  \n",
       "Basic Enclosure + HPWH + High Efficiency HP/Ele...                     2053.322462  \n",
       "High Efficiency Whole Home Electrification                             1790.090722  \n",
       "High Efficiency Heat Pump with Electric Heat Ba...                     1555.435624  \n",
       "Enhanced Enclosure                                                      922.384096  \n",
       "Basic Enclosure                                                         771.355599  \n",
       "Mininum Efficiency Heat Pump with Existing Heat...                      895.007211  \n",
       "Heat Pump Water Heater                                                  209.513631  \n",
       "Mininum Efficiency Heat Pump with Electric Heat...                      892.652693  \n",
       "Heat Pump Clothes Dryer                                                  51.912121  \n",
       "baseline                                                                       NaN  \n",
       "Induction Cooking                                                         5.153169  \n",
       "Electric Cooking                                                          0.000000  \n",
       "Electric Clothes Dryer                                                    0.000000  \n",
       "Mininum Efficiency Whole Home Electrification                            99.694294  "
      ]
     },
     "execution_count": 208,
     "metadata": {},
     "output_type": "execute_result"
    }
   ],
   "source": [
    "metric = \"saving_cbill.total_usd\"\n",
    "print(\"Community summary:\")\n",
    "results = get_summary(community_results, metric, lower_percentile=0.10, middle_percentile1=0.25, middle_percentile2=0.75, upper_percentile=0.90)\n",
    "saving_results['whole_community_saving_bill_total_usd_wt_p0.1'] = results.iloc[:, 3]\n",
    "saving_results['whole_community_saving_bill_total_usd_wt_p0.25'] = results.iloc[:, 4]\n",
    "saving_results['whole_community_saving_bill_total_usd_wt_p0.75'] = results.iloc[:, 5]\n",
    "saving_results['whole_community_saving_bill_total_usd_wt_p0.9'] = results.iloc[:, 6]\n",
    "results"
   ]
  },
  {
   "cell_type": "markdown",
   "id": "35e7b6ad",
   "metadata": {},
   "source": [
    "# 2. Results for Segments"
   ]
  },
  {
   "cell_type": "markdown",
   "id": "9c79f834",
   "metadata": {},
   "source": [
    "Segment Definition\n",
    "\n",
    "Segment 1. Occupied, Single family detached, pre 1940, renters, all income \n",
    "\n",
    "Segment 2. Occupied, Multifamily buildings, pre 1940, renters, all income \n",
    "\n",
    "Segment 3. Occupied, All housing types, renters, all income  \n"
   ]
  },
  {
   "cell_type": "code",
   "execution_count": 209,
   "id": "1389859d",
   "metadata": {},
   "outputs": [],
   "source": [
    "community_results = pd.read_parquet(f\"data_/community_building_samples_with_upgrade_cost_and_bill/{community}/processed_upgrade_results.parquet\")"
   ]
  },
  {
   "cell_type": "code",
   "execution_count": 210,
   "id": "42e13001",
   "metadata": {},
   "outputs": [],
   "source": [
    "income = 'all_incomes'\n",
    "vacancy_status = ['Occupied']\n",
    "\n",
    "seg1_building_type = ['Single-Family Detached']\n",
    "seg1_vintage = ['<1940']\n",
    "seg1_tenure = ['Renter']\n",
    "\n",
    "seg2_building_type = ['Multi-Family with 2 - 4 Units', 'Multi-Family with 5+ Units']\n",
    "seg2_vintage = ['<1940']\n",
    "seg2_tenure = ['Renter']\n",
    "\n",
    "seg3_tenure = ['Renter']\n",
    "\n",
    "community_results.loc[community_results['build_existing_model.vacancy_status'].isin(vacancy_status) & \n",
    "                     community_results['build_existing_model.geometry_building_type_recs'].isin(seg1_building_type) & \n",
    "                     community_results['build_existing_model.vintage'].isin(seg1_vintage) & \n",
    "                     community_results['build_existing_model.tenure'].isin(seg1_tenure),\n",
    "                     'segment'] = 'segment1'\n",
    "community_results.loc[community_results['build_existing_model.vacancy_status'].isin(vacancy_status) & \n",
    "                     community_results['build_existing_model.geometry_building_type_recs'].isin(seg2_building_type) & \n",
    "                     community_results['build_existing_model.vintage'].isin(seg2_vintage) & \n",
    "                     community_results['build_existing_model.tenure'].isin(seg2_tenure),\n",
    "                     'segment'] = 'segment2'\n",
    "\n",
    "seg3 = community_results.copy().assign(segment='segment3')\n",
    "seg3 = seg3.loc[seg3['build_existing_model.tenure'].isin(seg3_tenure) &\n",
    "                seg3['build_existing_model.vacancy_status'].isin(vacancy_status)]\n",
    "community_results = pd.concat([community_results, seg3], axis=0)"
   ]
  },
  {
   "cell_type": "code",
   "execution_count": 211,
   "id": "d8cae1d0",
   "metadata": {},
   "outputs": [
    {
     "name": "stdout",
     "output_type": "stream",
     "text": [
      "Summary for segment: segment1: \n"
     ]
    },
    {
     "data": {
      "text/html": [
       "<div>\n",
       "<style scoped>\n",
       "    .dataframe tbody tr th:only-of-type {\n",
       "        vertical-align: middle;\n",
       "    }\n",
       "\n",
       "    .dataframe tbody tr th {\n",
       "        vertical-align: top;\n",
       "    }\n",
       "\n",
       "    .dataframe thead th {\n",
       "        text-align: right;\n",
       "    }\n",
       "</style>\n",
       "<table border=\"1\" class=\"dataframe\">\n",
       "  <thead>\n",
       "    <tr style=\"text-align: right;\">\n",
       "      <th></th>\n",
       "      <th>n_samples</th>\n",
       "      <th>n_represented</th>\n",
       "      <th>saving_cbill.total_usd wt_mean</th>\n",
       "      <th>saving_cbill.total_usd wt_p0.1</th>\n",
       "      <th>saving_cbill.total_usd wt_p0.25</th>\n",
       "      <th>saving_cbill.total_usd wt_p0.75</th>\n",
       "      <th>saving_cbill.total_usd wt_p0.9</th>\n",
       "    </tr>\n",
       "    <tr>\n",
       "      <th>upgrade_name</th>\n",
       "      <th></th>\n",
       "      <th></th>\n",
       "      <th></th>\n",
       "      <th></th>\n",
       "      <th></th>\n",
       "      <th></th>\n",
       "      <th></th>\n",
       "    </tr>\n",
       "  </thead>\n",
       "  <tbody>\n",
       "    <tr>\n",
       "      <th>Enhanced Enclosure + High Efficiency Whole Home Electrification</th>\n",
       "      <td>25</td>\n",
       "      <td>621.890644</td>\n",
       "      <td>1019.549741</td>\n",
       "      <td>-134.432152</td>\n",
       "      <td>745.907553</td>\n",
       "      <td>1603.227955</td>\n",
       "      <td>1677.645841</td>\n",
       "    </tr>\n",
       "    <tr>\n",
       "      <th>Enhanced Enclosure + HPWH + High Efficiency HP/Electric Backup</th>\n",
       "      <td>25</td>\n",
       "      <td>621.890644</td>\n",
       "      <td>1007.374649</td>\n",
       "      <td>-156.409969</td>\n",
       "      <td>734.653035</td>\n",
       "      <td>1648.157812</td>\n",
       "      <td>1864.195102</td>\n",
       "    </tr>\n",
       "    <tr>\n",
       "      <th>Basic Enclosure + High Efficiency Whole Home Electrification</th>\n",
       "      <td>25</td>\n",
       "      <td>621.890644</td>\n",
       "      <td>987.918776</td>\n",
       "      <td>-265.237315</td>\n",
       "      <td>745.907553</td>\n",
       "      <td>1603.227955</td>\n",
       "      <td>1677.645841</td>\n",
       "    </tr>\n",
       "    <tr>\n",
       "      <th>Basic Enclosure + HPWH + High Efficiency HP/Electric Backup</th>\n",
       "      <td>25</td>\n",
       "      <td>621.890644</td>\n",
       "      <td>975.743684</td>\n",
       "      <td>-287.215132</td>\n",
       "      <td>734.653035</td>\n",
       "      <td>1648.157812</td>\n",
       "      <td>1864.195102</td>\n",
       "    </tr>\n",
       "    <tr>\n",
       "      <th>High Efficiency Whole Home Electrification</th>\n",
       "      <td>25</td>\n",
       "      <td>621.890644</td>\n",
       "      <td>740.076283</td>\n",
       "      <td>-601.435602</td>\n",
       "      <td>461.711484</td>\n",
       "      <td>1478.048648</td>\n",
       "      <td>1700.874412</td>\n",
       "    </tr>\n",
       "    <tr>\n",
       "      <th>High Efficiency Heat Pump with Electric Heat Backup</th>\n",
       "      <td>25</td>\n",
       "      <td>621.890644</td>\n",
       "      <td>556.468543</td>\n",
       "      <td>-518.757282</td>\n",
       "      <td>352.383981</td>\n",
       "      <td>1030.226154</td>\n",
       "      <td>1449.364612</td>\n",
       "    </tr>\n",
       "    <tr>\n",
       "      <th>Enhanced Enclosure</th>\n",
       "      <td>25</td>\n",
       "      <td>621.890644</td>\n",
       "      <td>490.342674</td>\n",
       "      <td>107.727698</td>\n",
       "      <td>301.452366</td>\n",
       "      <td>616.480273</td>\n",
       "      <td>777.411943</td>\n",
       "    </tr>\n",
       "    <tr>\n",
       "      <th>Basic Enclosure</th>\n",
       "      <td>25</td>\n",
       "      <td>621.890644</td>\n",
       "      <td>441.250756</td>\n",
       "      <td>100.314590</td>\n",
       "      <td>272.424620</td>\n",
       "      <td>602.950289</td>\n",
       "      <td>663.273025</td>\n",
       "    </tr>\n",
       "    <tr>\n",
       "      <th>Mininum Efficiency Heat Pump with Existing Heat Backup</th>\n",
       "      <td>24</td>\n",
       "      <td>543.577085</td>\n",
       "      <td>298.546356</td>\n",
       "      <td>-156.317204</td>\n",
       "      <td>-22.523725</td>\n",
       "      <td>574.984802</td>\n",
       "      <td>1078.569271</td>\n",
       "    </tr>\n",
       "    <tr>\n",
       "      <th>Heat Pump Water Heater</th>\n",
       "      <td>25</td>\n",
       "      <td>621.890644</td>\n",
       "      <td>123.680579</td>\n",
       "      <td>3.107188</td>\n",
       "      <td>13.962761</td>\n",
       "      <td>211.223091</td>\n",
       "      <td>363.509020</td>\n",
       "    </tr>\n",
       "    <tr>\n",
       "      <th>Heat Pump Clothes Dryer</th>\n",
       "      <td>25</td>\n",
       "      <td>621.890644</td>\n",
       "      <td>18.021933</td>\n",
       "      <td>-31.747195</td>\n",
       "      <td>-8.102312</td>\n",
       "      <td>35.471183</td>\n",
       "      <td>66.041439</td>\n",
       "    </tr>\n",
       "    <tr>\n",
       "      <th>baseline</th>\n",
       "      <td>25</td>\n",
       "      <td>621.890644</td>\n",
       "      <td>0.000000</td>\n",
       "      <td>NaN</td>\n",
       "      <td>NaN</td>\n",
       "      <td>NaN</td>\n",
       "      <td>NaN</td>\n",
       "    </tr>\n",
       "    <tr>\n",
       "      <th>Induction Cooking</th>\n",
       "      <td>25</td>\n",
       "      <td>621.890644</td>\n",
       "      <td>-8.947077</td>\n",
       "      <td>-31.679158</td>\n",
       "      <td>-19.570978</td>\n",
       "      <td>4.323128</td>\n",
       "      <td>6.017794</td>\n",
       "    </tr>\n",
       "    <tr>\n",
       "      <th>Electric Cooking</th>\n",
       "      <td>12</td>\n",
       "      <td>366.043589</td>\n",
       "      <td>-25.270314</td>\n",
       "      <td>-36.215905</td>\n",
       "      <td>-35.535204</td>\n",
       "      <td>-15.729869</td>\n",
       "      <td>-15.322564</td>\n",
       "    </tr>\n",
       "    <tr>\n",
       "      <th>Electric Clothes Dryer</th>\n",
       "      <td>8</td>\n",
       "      <td>231.030650</td>\n",
       "      <td>-52.395110</td>\n",
       "      <td>-69.723408</td>\n",
       "      <td>-69.723408</td>\n",
       "      <td>-31.176472</td>\n",
       "      <td>-26.131076</td>\n",
       "    </tr>\n",
       "    <tr>\n",
       "      <th>Mininum Efficiency Heat Pump with Electric Heat Backup</th>\n",
       "      <td>25</td>\n",
       "      <td>621.890644</td>\n",
       "      <td>-106.459393</td>\n",
       "      <td>-1394.799083</td>\n",
       "      <td>-529.498399</td>\n",
       "      <td>365.439154</td>\n",
       "      <td>1045.682371</td>\n",
       "    </tr>\n",
       "    <tr>\n",
       "      <th>Mininum Efficiency Whole Home Electrification</th>\n",
       "      <td>23</td>\n",
       "      <td>553.366280</td>\n",
       "      <td>-412.925780</td>\n",
       "      <td>-1532.345592</td>\n",
       "      <td>-354.302919</td>\n",
       "      <td>-98.567707</td>\n",
       "      <td>-26.779074</td>\n",
       "    </tr>\n",
       "  </tbody>\n",
       "</table>\n",
       "</div>"
      ],
      "text/plain": [
       "                                                    n_samples  n_represented  \\\n",
       "upgrade_name                                                                   \n",
       "Enhanced Enclosure + High Efficiency Whole Home...         25     621.890644   \n",
       "Enhanced Enclosure + HPWH + High Efficiency HP/...         25     621.890644   \n",
       "Basic Enclosure + High Efficiency Whole Home El...         25     621.890644   \n",
       "Basic Enclosure + HPWH + High Efficiency HP/Ele...         25     621.890644   \n",
       "High Efficiency Whole Home Electrification                 25     621.890644   \n",
       "High Efficiency Heat Pump with Electric Heat Ba...         25     621.890644   \n",
       "Enhanced Enclosure                                         25     621.890644   \n",
       "Basic Enclosure                                            25     621.890644   \n",
       "Mininum Efficiency Heat Pump with Existing Heat...         24     543.577085   \n",
       "Heat Pump Water Heater                                     25     621.890644   \n",
       "Heat Pump Clothes Dryer                                    25     621.890644   \n",
       "baseline                                                   25     621.890644   \n",
       "Induction Cooking                                          25     621.890644   \n",
       "Electric Cooking                                           12     366.043589   \n",
       "Electric Clothes Dryer                                      8     231.030650   \n",
       "Mininum Efficiency Heat Pump with Electric Heat...         25     621.890644   \n",
       "Mininum Efficiency Whole Home Electrification              23     553.366280   \n",
       "\n",
       "                                                    saving_cbill.total_usd wt_mean  \\\n",
       "upgrade_name                                                                         \n",
       "Enhanced Enclosure + High Efficiency Whole Home...                     1019.549741   \n",
       "Enhanced Enclosure + HPWH + High Efficiency HP/...                     1007.374649   \n",
       "Basic Enclosure + High Efficiency Whole Home El...                      987.918776   \n",
       "Basic Enclosure + HPWH + High Efficiency HP/Ele...                      975.743684   \n",
       "High Efficiency Whole Home Electrification                              740.076283   \n",
       "High Efficiency Heat Pump with Electric Heat Ba...                      556.468543   \n",
       "Enhanced Enclosure                                                      490.342674   \n",
       "Basic Enclosure                                                         441.250756   \n",
       "Mininum Efficiency Heat Pump with Existing Heat...                      298.546356   \n",
       "Heat Pump Water Heater                                                  123.680579   \n",
       "Heat Pump Clothes Dryer                                                  18.021933   \n",
       "baseline                                                                  0.000000   \n",
       "Induction Cooking                                                        -8.947077   \n",
       "Electric Cooking                                                        -25.270314   \n",
       "Electric Clothes Dryer                                                  -52.395110   \n",
       "Mininum Efficiency Heat Pump with Electric Heat...                     -106.459393   \n",
       "Mininum Efficiency Whole Home Electrification                          -412.925780   \n",
       "\n",
       "                                                    saving_cbill.total_usd wt_p0.1  \\\n",
       "upgrade_name                                                                         \n",
       "Enhanced Enclosure + High Efficiency Whole Home...                     -134.432152   \n",
       "Enhanced Enclosure + HPWH + High Efficiency HP/...                     -156.409969   \n",
       "Basic Enclosure + High Efficiency Whole Home El...                     -265.237315   \n",
       "Basic Enclosure + HPWH + High Efficiency HP/Ele...                     -287.215132   \n",
       "High Efficiency Whole Home Electrification                             -601.435602   \n",
       "High Efficiency Heat Pump with Electric Heat Ba...                     -518.757282   \n",
       "Enhanced Enclosure                                                      107.727698   \n",
       "Basic Enclosure                                                         100.314590   \n",
       "Mininum Efficiency Heat Pump with Existing Heat...                     -156.317204   \n",
       "Heat Pump Water Heater                                                    3.107188   \n",
       "Heat Pump Clothes Dryer                                                 -31.747195   \n",
       "baseline                                                                       NaN   \n",
       "Induction Cooking                                                       -31.679158   \n",
       "Electric Cooking                                                        -36.215905   \n",
       "Electric Clothes Dryer                                                  -69.723408   \n",
       "Mininum Efficiency Heat Pump with Electric Heat...                    -1394.799083   \n",
       "Mininum Efficiency Whole Home Electrification                         -1532.345592   \n",
       "\n",
       "                                                    saving_cbill.total_usd wt_p0.25  \\\n",
       "upgrade_name                                                                          \n",
       "Enhanced Enclosure + High Efficiency Whole Home...                       745.907553   \n",
       "Enhanced Enclosure + HPWH + High Efficiency HP/...                       734.653035   \n",
       "Basic Enclosure + High Efficiency Whole Home El...                       745.907553   \n",
       "Basic Enclosure + HPWH + High Efficiency HP/Ele...                       734.653035   \n",
       "High Efficiency Whole Home Electrification                               461.711484   \n",
       "High Efficiency Heat Pump with Electric Heat Ba...                       352.383981   \n",
       "Enhanced Enclosure                                                       301.452366   \n",
       "Basic Enclosure                                                          272.424620   \n",
       "Mininum Efficiency Heat Pump with Existing Heat...                       -22.523725   \n",
       "Heat Pump Water Heater                                                    13.962761   \n",
       "Heat Pump Clothes Dryer                                                   -8.102312   \n",
       "baseline                                                                        NaN   \n",
       "Induction Cooking                                                        -19.570978   \n",
       "Electric Cooking                                                         -35.535204   \n",
       "Electric Clothes Dryer                                                   -69.723408   \n",
       "Mininum Efficiency Heat Pump with Electric Heat...                      -529.498399   \n",
       "Mininum Efficiency Whole Home Electrification                           -354.302919   \n",
       "\n",
       "                                                    saving_cbill.total_usd wt_p0.75  \\\n",
       "upgrade_name                                                                          \n",
       "Enhanced Enclosure + High Efficiency Whole Home...                      1603.227955   \n",
       "Enhanced Enclosure + HPWH + High Efficiency HP/...                      1648.157812   \n",
       "Basic Enclosure + High Efficiency Whole Home El...                      1603.227955   \n",
       "Basic Enclosure + HPWH + High Efficiency HP/Ele...                      1648.157812   \n",
       "High Efficiency Whole Home Electrification                              1478.048648   \n",
       "High Efficiency Heat Pump with Electric Heat Ba...                      1030.226154   \n",
       "Enhanced Enclosure                                                       616.480273   \n",
       "Basic Enclosure                                                          602.950289   \n",
       "Mininum Efficiency Heat Pump with Existing Heat...                       574.984802   \n",
       "Heat Pump Water Heater                                                   211.223091   \n",
       "Heat Pump Clothes Dryer                                                   35.471183   \n",
       "baseline                                                                        NaN   \n",
       "Induction Cooking                                                          4.323128   \n",
       "Electric Cooking                                                         -15.729869   \n",
       "Electric Clothes Dryer                                                   -31.176472   \n",
       "Mininum Efficiency Heat Pump with Electric Heat...                       365.439154   \n",
       "Mininum Efficiency Whole Home Electrification                            -98.567707   \n",
       "\n",
       "                                                    saving_cbill.total_usd wt_p0.9  \n",
       "upgrade_name                                                                        \n",
       "Enhanced Enclosure + High Efficiency Whole Home...                     1677.645841  \n",
       "Enhanced Enclosure + HPWH + High Efficiency HP/...                     1864.195102  \n",
       "Basic Enclosure + High Efficiency Whole Home El...                     1677.645841  \n",
       "Basic Enclosure + HPWH + High Efficiency HP/Ele...                     1864.195102  \n",
       "High Efficiency Whole Home Electrification                             1700.874412  \n",
       "High Efficiency Heat Pump with Electric Heat Ba...                     1449.364612  \n",
       "Enhanced Enclosure                                                      777.411943  \n",
       "Basic Enclosure                                                         663.273025  \n",
       "Mininum Efficiency Heat Pump with Existing Heat...                     1078.569271  \n",
       "Heat Pump Water Heater                                                  363.509020  \n",
       "Heat Pump Clothes Dryer                                                  66.041439  \n",
       "baseline                                                                       NaN  \n",
       "Induction Cooking                                                         6.017794  \n",
       "Electric Cooking                                                        -15.322564  \n",
       "Electric Clothes Dryer                                                  -26.131076  \n",
       "Mininum Efficiency Heat Pump with Electric Heat...                     1045.682371  \n",
       "Mininum Efficiency Whole Home Electrification                           -26.779074  "
      ]
     },
     "metadata": {},
     "output_type": "display_data"
    },
    {
     "name": "stdout",
     "output_type": "stream",
     "text": [
      "Summary for segment: segment2: \n"
     ]
    },
    {
     "data": {
      "text/html": [
       "<div>\n",
       "<style scoped>\n",
       "    .dataframe tbody tr th:only-of-type {\n",
       "        vertical-align: middle;\n",
       "    }\n",
       "\n",
       "    .dataframe tbody tr th {\n",
       "        vertical-align: top;\n",
       "    }\n",
       "\n",
       "    .dataframe thead th {\n",
       "        text-align: right;\n",
       "    }\n",
       "</style>\n",
       "<table border=\"1\" class=\"dataframe\">\n",
       "  <thead>\n",
       "    <tr style=\"text-align: right;\">\n",
       "      <th></th>\n",
       "      <th>n_samples</th>\n",
       "      <th>n_represented</th>\n",
       "      <th>saving_cbill.total_usd wt_mean</th>\n",
       "      <th>saving_cbill.total_usd wt_p0.1</th>\n",
       "      <th>saving_cbill.total_usd wt_p0.25</th>\n",
       "      <th>saving_cbill.total_usd wt_p0.75</th>\n",
       "      <th>saving_cbill.total_usd wt_p0.9</th>\n",
       "    </tr>\n",
       "    <tr>\n",
       "      <th>upgrade_name</th>\n",
       "      <th></th>\n",
       "      <th></th>\n",
       "      <th></th>\n",
       "      <th></th>\n",
       "      <th></th>\n",
       "      <th></th>\n",
       "      <th></th>\n",
       "    </tr>\n",
       "  </thead>\n",
       "  <tbody>\n",
       "    <tr>\n",
       "      <th>Enhanced Enclosure + High Efficiency Whole Home Electrification</th>\n",
       "      <td>5</td>\n",
       "      <td>202.310028</td>\n",
       "      <td>1070.242967</td>\n",
       "      <td>540.225657</td>\n",
       "      <td>578.037942</td>\n",
       "      <td>1527.758846</td>\n",
       "      <td>2047.329660</td>\n",
       "    </tr>\n",
       "    <tr>\n",
       "      <th>Basic Enclosure + High Efficiency Whole Home Electrification</th>\n",
       "      <td>5</td>\n",
       "      <td>202.310028</td>\n",
       "      <td>1055.114809</td>\n",
       "      <td>540.225657</td>\n",
       "      <td>578.037942</td>\n",
       "      <td>1469.137230</td>\n",
       "      <td>2047.329660</td>\n",
       "    </tr>\n",
       "    <tr>\n",
       "      <th>Enhanced Enclosure + HPWH + High Efficiency HP/Electric Backup</th>\n",
       "      <td>5</td>\n",
       "      <td>202.310028</td>\n",
       "      <td>1051.374838</td>\n",
       "      <td>537.459713</td>\n",
       "      <td>565.015838</td>\n",
       "      <td>1489.092789</td>\n",
       "      <td>2012.052935</td>\n",
       "    </tr>\n",
       "    <tr>\n",
       "      <th>Basic Enclosure + HPWH + High Efficiency HP/Electric Backup</th>\n",
       "      <td>5</td>\n",
       "      <td>202.310028</td>\n",
       "      <td>1036.246679</td>\n",
       "      <td>537.459713</td>\n",
       "      <td>565.015838</td>\n",
       "      <td>1430.471174</td>\n",
       "      <td>2012.052935</td>\n",
       "    </tr>\n",
       "    <tr>\n",
       "      <th>High Efficiency Whole Home Electrification</th>\n",
       "      <td>5</td>\n",
       "      <td>202.310028</td>\n",
       "      <td>902.307017</td>\n",
       "      <td>343.112961</td>\n",
       "      <td>402.856627</td>\n",
       "      <td>1286.718522</td>\n",
       "      <td>1783.860948</td>\n",
       "    </tr>\n",
       "    <tr>\n",
       "      <th>High Efficiency Heat Pump with Electric Heat Backup</th>\n",
       "      <td>5</td>\n",
       "      <td>202.310028</td>\n",
       "      <td>777.299932</td>\n",
       "      <td>253.522748</td>\n",
       "      <td>330.474102</td>\n",
       "      <td>1099.700005</td>\n",
       "      <td>1654.132523</td>\n",
       "    </tr>\n",
       "    <tr>\n",
       "      <th>Enhanced Enclosure</th>\n",
       "      <td>5</td>\n",
       "      <td>202.310028</td>\n",
       "      <td>424.689454</td>\n",
       "      <td>71.383489</td>\n",
       "      <td>137.655068</td>\n",
       "      <td>716.325015</td>\n",
       "      <td>902.323274</td>\n",
       "    </tr>\n",
       "    <tr>\n",
       "      <th>Mininum Efficiency Heat Pump with Existing Heat Backup</th>\n",
       "      <td>5</td>\n",
       "      <td>202.310028</td>\n",
       "      <td>411.642486</td>\n",
       "      <td>-15.131826</td>\n",
       "      <td>63.186725</td>\n",
       "      <td>768.529187</td>\n",
       "      <td>1049.032945</td>\n",
       "    </tr>\n",
       "    <tr>\n",
       "      <th>Basic Enclosure</th>\n",
       "      <td>5</td>\n",
       "      <td>202.310028</td>\n",
       "      <td>382.683153</td>\n",
       "      <td>71.383489</td>\n",
       "      <td>138.080708</td>\n",
       "      <td>611.255989</td>\n",
       "      <td>902.323274</td>\n",
       "    </tr>\n",
       "    <tr>\n",
       "      <th>Mininum Efficiency Heat Pump with Electric Heat Backup</th>\n",
       "      <td>5</td>\n",
       "      <td>202.310028</td>\n",
       "      <td>367.468540</td>\n",
       "      <td>-195.361112</td>\n",
       "      <td>-18.663444</td>\n",
       "      <td>768.529187</td>\n",
       "      <td>1049.032945</td>\n",
       "    </tr>\n",
       "    <tr>\n",
       "      <th>Heat Pump Water Heater</th>\n",
       "      <td>5</td>\n",
       "      <td>202.310028</td>\n",
       "      <td>52.367480</td>\n",
       "      <td>27.353191</td>\n",
       "      <td>37.939326</td>\n",
       "      <td>63.873218</td>\n",
       "      <td>77.777994</td>\n",
       "    </tr>\n",
       "    <tr>\n",
       "      <th>Heat Pump Clothes Dryer</th>\n",
       "      <td>3</td>\n",
       "      <td>114.207274</td>\n",
       "      <td>30.122568</td>\n",
       "      <td>19.713464</td>\n",
       "      <td>23.578660</td>\n",
       "      <td>35.568702</td>\n",
       "      <td>37.628506</td>\n",
       "    </tr>\n",
       "    <tr>\n",
       "      <th>Induction Cooking</th>\n",
       "      <td>4</td>\n",
       "      <td>172.942444</td>\n",
       "      <td>0.269512</td>\n",
       "      <td>-15.158402</td>\n",
       "      <td>-3.612762</td>\n",
       "      <td>3.910103</td>\n",
       "      <td>4.354255</td>\n",
       "    </tr>\n",
       "    <tr>\n",
       "      <th>baseline</th>\n",
       "      <td>5</td>\n",
       "      <td>202.310028</td>\n",
       "      <td>0.000000</td>\n",
       "      <td>NaN</td>\n",
       "      <td>NaN</td>\n",
       "      <td>NaN</td>\n",
       "      <td>NaN</td>\n",
       "    </tr>\n",
       "    <tr>\n",
       "      <th>Electric Cooking</th>\n",
       "      <td>1</td>\n",
       "      <td>29.367585</td>\n",
       "      <td>-20.747111</td>\n",
       "      <td>-20.747111</td>\n",
       "      <td>-20.747111</td>\n",
       "      <td>-20.747111</td>\n",
       "      <td>-20.747111</td>\n",
       "    </tr>\n",
       "    <tr>\n",
       "      <th>Mininum Efficiency Whole Home Electrification</th>\n",
       "      <td>2</td>\n",
       "      <td>58.735169</td>\n",
       "      <td>-91.225962</td>\n",
       "      <td>-169.020930</td>\n",
       "      <td>-169.020930</td>\n",
       "      <td>-13.430993</td>\n",
       "      <td>-13.430993</td>\n",
       "    </tr>\n",
       "  </tbody>\n",
       "</table>\n",
       "</div>"
      ],
      "text/plain": [
       "                                                    n_samples  n_represented  \\\n",
       "upgrade_name                                                                   \n",
       "Enhanced Enclosure + High Efficiency Whole Home...          5     202.310028   \n",
       "Basic Enclosure + High Efficiency Whole Home El...          5     202.310028   \n",
       "Enhanced Enclosure + HPWH + High Efficiency HP/...          5     202.310028   \n",
       "Basic Enclosure + HPWH + High Efficiency HP/Ele...          5     202.310028   \n",
       "High Efficiency Whole Home Electrification                  5     202.310028   \n",
       "High Efficiency Heat Pump with Electric Heat Ba...          5     202.310028   \n",
       "Enhanced Enclosure                                          5     202.310028   \n",
       "Mininum Efficiency Heat Pump with Existing Heat...          5     202.310028   \n",
       "Basic Enclosure                                             5     202.310028   \n",
       "Mininum Efficiency Heat Pump with Electric Heat...          5     202.310028   \n",
       "Heat Pump Water Heater                                      5     202.310028   \n",
       "Heat Pump Clothes Dryer                                     3     114.207274   \n",
       "Induction Cooking                                           4     172.942444   \n",
       "baseline                                                    5     202.310028   \n",
       "Electric Cooking                                            1      29.367585   \n",
       "Mininum Efficiency Whole Home Electrification               2      58.735169   \n",
       "\n",
       "                                                    saving_cbill.total_usd wt_mean  \\\n",
       "upgrade_name                                                                         \n",
       "Enhanced Enclosure + High Efficiency Whole Home...                     1070.242967   \n",
       "Basic Enclosure + High Efficiency Whole Home El...                     1055.114809   \n",
       "Enhanced Enclosure + HPWH + High Efficiency HP/...                     1051.374838   \n",
       "Basic Enclosure + HPWH + High Efficiency HP/Ele...                     1036.246679   \n",
       "High Efficiency Whole Home Electrification                              902.307017   \n",
       "High Efficiency Heat Pump with Electric Heat Ba...                      777.299932   \n",
       "Enhanced Enclosure                                                      424.689454   \n",
       "Mininum Efficiency Heat Pump with Existing Heat...                      411.642486   \n",
       "Basic Enclosure                                                         382.683153   \n",
       "Mininum Efficiency Heat Pump with Electric Heat...                      367.468540   \n",
       "Heat Pump Water Heater                                                   52.367480   \n",
       "Heat Pump Clothes Dryer                                                  30.122568   \n",
       "Induction Cooking                                                         0.269512   \n",
       "baseline                                                                  0.000000   \n",
       "Electric Cooking                                                        -20.747111   \n",
       "Mininum Efficiency Whole Home Electrification                           -91.225962   \n",
       "\n",
       "                                                    saving_cbill.total_usd wt_p0.1  \\\n",
       "upgrade_name                                                                         \n",
       "Enhanced Enclosure + High Efficiency Whole Home...                      540.225657   \n",
       "Basic Enclosure + High Efficiency Whole Home El...                      540.225657   \n",
       "Enhanced Enclosure + HPWH + High Efficiency HP/...                      537.459713   \n",
       "Basic Enclosure + HPWH + High Efficiency HP/Ele...                      537.459713   \n",
       "High Efficiency Whole Home Electrification                              343.112961   \n",
       "High Efficiency Heat Pump with Electric Heat Ba...                      253.522748   \n",
       "Enhanced Enclosure                                                       71.383489   \n",
       "Mininum Efficiency Heat Pump with Existing Heat...                      -15.131826   \n",
       "Basic Enclosure                                                          71.383489   \n",
       "Mininum Efficiency Heat Pump with Electric Heat...                     -195.361112   \n",
       "Heat Pump Water Heater                                                   27.353191   \n",
       "Heat Pump Clothes Dryer                                                  19.713464   \n",
       "Induction Cooking                                                       -15.158402   \n",
       "baseline                                                                       NaN   \n",
       "Electric Cooking                                                        -20.747111   \n",
       "Mininum Efficiency Whole Home Electrification                          -169.020930   \n",
       "\n",
       "                                                    saving_cbill.total_usd wt_p0.25  \\\n",
       "upgrade_name                                                                          \n",
       "Enhanced Enclosure + High Efficiency Whole Home...                       578.037942   \n",
       "Basic Enclosure + High Efficiency Whole Home El...                       578.037942   \n",
       "Enhanced Enclosure + HPWH + High Efficiency HP/...                       565.015838   \n",
       "Basic Enclosure + HPWH + High Efficiency HP/Ele...                       565.015838   \n",
       "High Efficiency Whole Home Electrification                               402.856627   \n",
       "High Efficiency Heat Pump with Electric Heat Ba...                       330.474102   \n",
       "Enhanced Enclosure                                                       137.655068   \n",
       "Mininum Efficiency Heat Pump with Existing Heat...                        63.186725   \n",
       "Basic Enclosure                                                          138.080708   \n",
       "Mininum Efficiency Heat Pump with Electric Heat...                       -18.663444   \n",
       "Heat Pump Water Heater                                                    37.939326   \n",
       "Heat Pump Clothes Dryer                                                   23.578660   \n",
       "Induction Cooking                                                         -3.612762   \n",
       "baseline                                                                        NaN   \n",
       "Electric Cooking                                                         -20.747111   \n",
       "Mininum Efficiency Whole Home Electrification                           -169.020930   \n",
       "\n",
       "                                                    saving_cbill.total_usd wt_p0.75  \\\n",
       "upgrade_name                                                                          \n",
       "Enhanced Enclosure + High Efficiency Whole Home...                      1527.758846   \n",
       "Basic Enclosure + High Efficiency Whole Home El...                      1469.137230   \n",
       "Enhanced Enclosure + HPWH + High Efficiency HP/...                      1489.092789   \n",
       "Basic Enclosure + HPWH + High Efficiency HP/Ele...                      1430.471174   \n",
       "High Efficiency Whole Home Electrification                              1286.718522   \n",
       "High Efficiency Heat Pump with Electric Heat Ba...                      1099.700005   \n",
       "Enhanced Enclosure                                                       716.325015   \n",
       "Mininum Efficiency Heat Pump with Existing Heat...                       768.529187   \n",
       "Basic Enclosure                                                          611.255989   \n",
       "Mininum Efficiency Heat Pump with Electric Heat...                       768.529187   \n",
       "Heat Pump Water Heater                                                    63.873218   \n",
       "Heat Pump Clothes Dryer                                                   35.568702   \n",
       "Induction Cooking                                                          3.910103   \n",
       "baseline                                                                        NaN   \n",
       "Electric Cooking                                                         -20.747111   \n",
       "Mininum Efficiency Whole Home Electrification                            -13.430993   \n",
       "\n",
       "                                                    saving_cbill.total_usd wt_p0.9  \n",
       "upgrade_name                                                                        \n",
       "Enhanced Enclosure + High Efficiency Whole Home...                     2047.329660  \n",
       "Basic Enclosure + High Efficiency Whole Home El...                     2047.329660  \n",
       "Enhanced Enclosure + HPWH + High Efficiency HP/...                     2012.052935  \n",
       "Basic Enclosure + HPWH + High Efficiency HP/Ele...                     2012.052935  \n",
       "High Efficiency Whole Home Electrification                             1783.860948  \n",
       "High Efficiency Heat Pump with Electric Heat Ba...                     1654.132523  \n",
       "Enhanced Enclosure                                                      902.323274  \n",
       "Mininum Efficiency Heat Pump with Existing Heat...                     1049.032945  \n",
       "Basic Enclosure                                                         902.323274  \n",
       "Mininum Efficiency Heat Pump with Electric Heat...                     1049.032945  \n",
       "Heat Pump Water Heater                                                   77.777994  \n",
       "Heat Pump Clothes Dryer                                                  37.628506  \n",
       "Induction Cooking                                                         4.354255  \n",
       "baseline                                                                       NaN  \n",
       "Electric Cooking                                                        -20.747111  \n",
       "Mininum Efficiency Whole Home Electrification                           -13.430993  "
      ]
     },
     "metadata": {},
     "output_type": "display_data"
    },
    {
     "name": "stdout",
     "output_type": "stream",
     "text": [
      "Summary for segment: segment3: \n"
     ]
    },
    {
     "data": {
      "text/html": [
       "<div>\n",
       "<style scoped>\n",
       "    .dataframe tbody tr th:only-of-type {\n",
       "        vertical-align: middle;\n",
       "    }\n",
       "\n",
       "    .dataframe tbody tr th {\n",
       "        vertical-align: top;\n",
       "    }\n",
       "\n",
       "    .dataframe thead th {\n",
       "        text-align: right;\n",
       "    }\n",
       "</style>\n",
       "<table border=\"1\" class=\"dataframe\">\n",
       "  <thead>\n",
       "    <tr style=\"text-align: right;\">\n",
       "      <th></th>\n",
       "      <th>n_samples</th>\n",
       "      <th>n_represented</th>\n",
       "      <th>saving_cbill.total_usd wt_mean</th>\n",
       "      <th>saving_cbill.total_usd wt_p0.1</th>\n",
       "      <th>saving_cbill.total_usd wt_p0.25</th>\n",
       "      <th>saving_cbill.total_usd wt_p0.75</th>\n",
       "      <th>saving_cbill.total_usd wt_p0.9</th>\n",
       "    </tr>\n",
       "    <tr>\n",
       "      <th>upgrade_name</th>\n",
       "      <th></th>\n",
       "      <th></th>\n",
       "      <th></th>\n",
       "      <th></th>\n",
       "      <th></th>\n",
       "      <th></th>\n",
       "      <th></th>\n",
       "    </tr>\n",
       "  </thead>\n",
       "  <tbody>\n",
       "    <tr>\n",
       "      <th>Enhanced Enclosure + High Efficiency Whole Home Electrification</th>\n",
       "      <td>254</td>\n",
       "      <td>7589.336361</td>\n",
       "      <td>763.296433</td>\n",
       "      <td>224.027737</td>\n",
       "      <td>370.281332</td>\n",
       "      <td>922.057913</td>\n",
       "      <td>1647.085552</td>\n",
       "    </tr>\n",
       "    <tr>\n",
       "      <th>Basic Enclosure + High Efficiency Whole Home Electrification</th>\n",
       "      <td>254</td>\n",
       "      <td>7589.336361</td>\n",
       "      <td>750.731252</td>\n",
       "      <td>222.548804</td>\n",
       "      <td>369.399130</td>\n",
       "      <td>891.014769</td>\n",
       "      <td>1640.645881</td>\n",
       "    </tr>\n",
       "    <tr>\n",
       "      <th>Enhanced Enclosure + HPWH + High Efficiency HP/Electric Backup</th>\n",
       "      <td>254</td>\n",
       "      <td>7589.336361</td>\n",
       "      <td>747.142161</td>\n",
       "      <td>206.821223</td>\n",
       "      <td>358.803739</td>\n",
       "      <td>906.968678</td>\n",
       "      <td>1649.511860</td>\n",
       "    </tr>\n",
       "    <tr>\n",
       "      <th>Basic Enclosure + HPWH + High Efficiency HP/Electric Backup</th>\n",
       "      <td>254</td>\n",
       "      <td>7589.336361</td>\n",
       "      <td>734.576981</td>\n",
       "      <td>196.463900</td>\n",
       "      <td>357.678121</td>\n",
       "      <td>872.996265</td>\n",
       "      <td>1621.986220</td>\n",
       "    </tr>\n",
       "    <tr>\n",
       "      <th>High Efficiency Whole Home Electrification</th>\n",
       "      <td>254</td>\n",
       "      <td>7589.336361</td>\n",
       "      <td>633.819131</td>\n",
       "      <td>168.174087</td>\n",
       "      <td>309.551870</td>\n",
       "      <td>737.785413</td>\n",
       "      <td>1478.832882</td>\n",
       "    </tr>\n",
       "    <tr>\n",
       "      <th>High Efficiency Heat Pump with Electric Heat Backup</th>\n",
       "      <td>251</td>\n",
       "      <td>7334.817293</td>\n",
       "      <td>486.501730</td>\n",
       "      <td>119.553017</td>\n",
       "      <td>219.263992</td>\n",
       "      <td>573.053653</td>\n",
       "      <td>1140.626789</td>\n",
       "    </tr>\n",
       "    <tr>\n",
       "      <th>Enhanced Enclosure</th>\n",
       "      <td>250</td>\n",
       "      <td>7389.992755</td>\n",
       "      <td>282.053255</td>\n",
       "      <td>43.777069</td>\n",
       "      <td>90.374585</td>\n",
       "      <td>386.005379</td>\n",
       "      <td>623.811893</td>\n",
       "    </tr>\n",
       "    <tr>\n",
       "      <th>Basic Enclosure</th>\n",
       "      <td>249</td>\n",
       "      <td>7343.004620</td>\n",
       "      <td>243.556142</td>\n",
       "      <td>37.748651</td>\n",
       "      <td>86.434160</td>\n",
       "      <td>296.702523</td>\n",
       "      <td>574.424688</td>\n",
       "    </tr>\n",
       "    <tr>\n",
       "      <th>Mininum Efficiency Heat Pump with Existing Heat Backup</th>\n",
       "      <td>251</td>\n",
       "      <td>7430.929388</td>\n",
       "      <td>191.451963</td>\n",
       "      <td>-33.690228</td>\n",
       "      <td>16.196389</td>\n",
       "      <td>186.472895</td>\n",
       "      <td>752.190796</td>\n",
       "    </tr>\n",
       "    <tr>\n",
       "      <th>Heat Pump Water Heater</th>\n",
       "      <td>252</td>\n",
       "      <td>7555.937931</td>\n",
       "      <td>99.185953</td>\n",
       "      <td>5.094196</td>\n",
       "      <td>30.368449</td>\n",
       "      <td>150.665449</td>\n",
       "      <td>254.415940</td>\n",
       "    </tr>\n",
       "    <tr>\n",
       "      <th>Mininum Efficiency Heat Pump with Electric Heat Backup</th>\n",
       "      <td>251</td>\n",
       "      <td>7334.817293</td>\n",
       "      <td>88.860438</td>\n",
       "      <td>-424.230662</td>\n",
       "      <td>-105.450177</td>\n",
       "      <td>185.035395</td>\n",
       "      <td>757.228504</td>\n",
       "    </tr>\n",
       "    <tr>\n",
       "      <th>Heat Pump Clothes Dryer</th>\n",
       "      <td>190</td>\n",
       "      <td>5069.904151</td>\n",
       "      <td>23.571392</td>\n",
       "      <td>-7.890311</td>\n",
       "      <td>15.632431</td>\n",
       "      <td>35.726330</td>\n",
       "      <td>52.095396</td>\n",
       "    </tr>\n",
       "    <tr>\n",
       "      <th>baseline</th>\n",
       "      <td>254</td>\n",
       "      <td>7589.336361</td>\n",
       "      <td>0.000000</td>\n",
       "      <td>NaN</td>\n",
       "      <td>NaN</td>\n",
       "      <td>NaN</td>\n",
       "      <td>NaN</td>\n",
       "    </tr>\n",
       "    <tr>\n",
       "      <th>Induction Cooking</th>\n",
       "      <td>251</td>\n",
       "      <td>7524.371704</td>\n",
       "      <td>-2.004673</td>\n",
       "      <td>-16.320228</td>\n",
       "      <td>-10.193160</td>\n",
       "      <td>4.426883</td>\n",
       "      <td>5.499019</td>\n",
       "    </tr>\n",
       "    <tr>\n",
       "      <th>Electric Cooking</th>\n",
       "      <td>90</td>\n",
       "      <td>2309.057066</td>\n",
       "      <td>-21.824221</td>\n",
       "      <td>-35.777925</td>\n",
       "      <td>-24.146912</td>\n",
       "      <td>-15.365473</td>\n",
       "      <td>-5.751318</td>\n",
       "    </tr>\n",
       "    <tr>\n",
       "      <th>Electric Clothes Dryer</th>\n",
       "      <td>41</td>\n",
       "      <td>820.765784</td>\n",
       "      <td>-47.933061</td>\n",
       "      <td>-71.796246</td>\n",
       "      <td>-68.005652</td>\n",
       "      <td>-28.720134</td>\n",
       "      <td>-20.406307</td>\n",
       "    </tr>\n",
       "    <tr>\n",
       "      <th>Mininum Efficiency Whole Home Electrification</th>\n",
       "      <td>171</td>\n",
       "      <td>4237.743399</td>\n",
       "      <td>-169.931557</td>\n",
       "      <td>-505.695633</td>\n",
       "      <td>-261.249828</td>\n",
       "      <td>-8.298920</td>\n",
       "      <td>49.204669</td>\n",
       "    </tr>\n",
       "  </tbody>\n",
       "</table>\n",
       "</div>"
      ],
      "text/plain": [
       "                                                    n_samples  n_represented  \\\n",
       "upgrade_name                                                                   \n",
       "Enhanced Enclosure + High Efficiency Whole Home...        254    7589.336361   \n",
       "Basic Enclosure + High Efficiency Whole Home El...        254    7589.336361   \n",
       "Enhanced Enclosure + HPWH + High Efficiency HP/...        254    7589.336361   \n",
       "Basic Enclosure + HPWH + High Efficiency HP/Ele...        254    7589.336361   \n",
       "High Efficiency Whole Home Electrification                254    7589.336361   \n",
       "High Efficiency Heat Pump with Electric Heat Ba...        251    7334.817293   \n",
       "Enhanced Enclosure                                        250    7389.992755   \n",
       "Basic Enclosure                                           249    7343.004620   \n",
       "Mininum Efficiency Heat Pump with Existing Heat...        251    7430.929388   \n",
       "Heat Pump Water Heater                                    252    7555.937931   \n",
       "Mininum Efficiency Heat Pump with Electric Heat...        251    7334.817293   \n",
       "Heat Pump Clothes Dryer                                   190    5069.904151   \n",
       "baseline                                                  254    7589.336361   \n",
       "Induction Cooking                                         251    7524.371704   \n",
       "Electric Cooking                                           90    2309.057066   \n",
       "Electric Clothes Dryer                                     41     820.765784   \n",
       "Mininum Efficiency Whole Home Electrification             171    4237.743399   \n",
       "\n",
       "                                                    saving_cbill.total_usd wt_mean  \\\n",
       "upgrade_name                                                                         \n",
       "Enhanced Enclosure + High Efficiency Whole Home...                      763.296433   \n",
       "Basic Enclosure + High Efficiency Whole Home El...                      750.731252   \n",
       "Enhanced Enclosure + HPWH + High Efficiency HP/...                      747.142161   \n",
       "Basic Enclosure + HPWH + High Efficiency HP/Ele...                      734.576981   \n",
       "High Efficiency Whole Home Electrification                              633.819131   \n",
       "High Efficiency Heat Pump with Electric Heat Ba...                      486.501730   \n",
       "Enhanced Enclosure                                                      282.053255   \n",
       "Basic Enclosure                                                         243.556142   \n",
       "Mininum Efficiency Heat Pump with Existing Heat...                      191.451963   \n",
       "Heat Pump Water Heater                                                   99.185953   \n",
       "Mininum Efficiency Heat Pump with Electric Heat...                       88.860438   \n",
       "Heat Pump Clothes Dryer                                                  23.571392   \n",
       "baseline                                                                  0.000000   \n",
       "Induction Cooking                                                        -2.004673   \n",
       "Electric Cooking                                                        -21.824221   \n",
       "Electric Clothes Dryer                                                  -47.933061   \n",
       "Mininum Efficiency Whole Home Electrification                          -169.931557   \n",
       "\n",
       "                                                    saving_cbill.total_usd wt_p0.1  \\\n",
       "upgrade_name                                                                         \n",
       "Enhanced Enclosure + High Efficiency Whole Home...                      224.027737   \n",
       "Basic Enclosure + High Efficiency Whole Home El...                      222.548804   \n",
       "Enhanced Enclosure + HPWH + High Efficiency HP/...                      206.821223   \n",
       "Basic Enclosure + HPWH + High Efficiency HP/Ele...                      196.463900   \n",
       "High Efficiency Whole Home Electrification                              168.174087   \n",
       "High Efficiency Heat Pump with Electric Heat Ba...                      119.553017   \n",
       "Enhanced Enclosure                                                       43.777069   \n",
       "Basic Enclosure                                                          37.748651   \n",
       "Mininum Efficiency Heat Pump with Existing Heat...                      -33.690228   \n",
       "Heat Pump Water Heater                                                    5.094196   \n",
       "Mininum Efficiency Heat Pump with Electric Heat...                     -424.230662   \n",
       "Heat Pump Clothes Dryer                                                  -7.890311   \n",
       "baseline                                                                       NaN   \n",
       "Induction Cooking                                                       -16.320228   \n",
       "Electric Cooking                                                        -35.777925   \n",
       "Electric Clothes Dryer                                                  -71.796246   \n",
       "Mininum Efficiency Whole Home Electrification                          -505.695633   \n",
       "\n",
       "                                                    saving_cbill.total_usd wt_p0.25  \\\n",
       "upgrade_name                                                                          \n",
       "Enhanced Enclosure + High Efficiency Whole Home...                       370.281332   \n",
       "Basic Enclosure + High Efficiency Whole Home El...                       369.399130   \n",
       "Enhanced Enclosure + HPWH + High Efficiency HP/...                       358.803739   \n",
       "Basic Enclosure + HPWH + High Efficiency HP/Ele...                       357.678121   \n",
       "High Efficiency Whole Home Electrification                               309.551870   \n",
       "High Efficiency Heat Pump with Electric Heat Ba...                       219.263992   \n",
       "Enhanced Enclosure                                                        90.374585   \n",
       "Basic Enclosure                                                           86.434160   \n",
       "Mininum Efficiency Heat Pump with Existing Heat...                        16.196389   \n",
       "Heat Pump Water Heater                                                    30.368449   \n",
       "Mininum Efficiency Heat Pump with Electric Heat...                      -105.450177   \n",
       "Heat Pump Clothes Dryer                                                   15.632431   \n",
       "baseline                                                                        NaN   \n",
       "Induction Cooking                                                        -10.193160   \n",
       "Electric Cooking                                                         -24.146912   \n",
       "Electric Clothes Dryer                                                   -68.005652   \n",
       "Mininum Efficiency Whole Home Electrification                           -261.249828   \n",
       "\n",
       "                                                    saving_cbill.total_usd wt_p0.75  \\\n",
       "upgrade_name                                                                          \n",
       "Enhanced Enclosure + High Efficiency Whole Home...                       922.057913   \n",
       "Basic Enclosure + High Efficiency Whole Home El...                       891.014769   \n",
       "Enhanced Enclosure + HPWH + High Efficiency HP/...                       906.968678   \n",
       "Basic Enclosure + HPWH + High Efficiency HP/Ele...                       872.996265   \n",
       "High Efficiency Whole Home Electrification                               737.785413   \n",
       "High Efficiency Heat Pump with Electric Heat Ba...                       573.053653   \n",
       "Enhanced Enclosure                                                       386.005379   \n",
       "Basic Enclosure                                                          296.702523   \n",
       "Mininum Efficiency Heat Pump with Existing Heat...                       186.472895   \n",
       "Heat Pump Water Heater                                                   150.665449   \n",
       "Mininum Efficiency Heat Pump with Electric Heat...                       185.035395   \n",
       "Heat Pump Clothes Dryer                                                   35.726330   \n",
       "baseline                                                                        NaN   \n",
       "Induction Cooking                                                          4.426883   \n",
       "Electric Cooking                                                         -15.365473   \n",
       "Electric Clothes Dryer                                                   -28.720134   \n",
       "Mininum Efficiency Whole Home Electrification                             -8.298920   \n",
       "\n",
       "                                                    saving_cbill.total_usd wt_p0.9  \n",
       "upgrade_name                                                                        \n",
       "Enhanced Enclosure + High Efficiency Whole Home...                     1647.085552  \n",
       "Basic Enclosure + High Efficiency Whole Home El...                     1640.645881  \n",
       "Enhanced Enclosure + HPWH + High Efficiency HP/...                     1649.511860  \n",
       "Basic Enclosure + HPWH + High Efficiency HP/Ele...                     1621.986220  \n",
       "High Efficiency Whole Home Electrification                             1478.832882  \n",
       "High Efficiency Heat Pump with Electric Heat Ba...                     1140.626789  \n",
       "Enhanced Enclosure                                                      623.811893  \n",
       "Basic Enclosure                                                         574.424688  \n",
       "Mininum Efficiency Heat Pump with Existing Heat...                      752.190796  \n",
       "Heat Pump Water Heater                                                  254.415940  \n",
       "Mininum Efficiency Heat Pump with Electric Heat...                      757.228504  \n",
       "Heat Pump Clothes Dryer                                                  52.095396  \n",
       "baseline                                                                       NaN  \n",
       "Induction Cooking                                                         5.499019  \n",
       "Electric Cooking                                                         -5.751318  \n",
       "Electric Clothes Dryer                                                  -20.406307  \n",
       "Mininum Efficiency Whole Home Electrification                            49.204669  "
      ]
     },
     "metadata": {},
     "output_type": "display_data"
    }
   ],
   "source": [
    "metric = 'saving_cbill.total_usd'  # TODO 'pct_saving_cbill.total_%' #'pct_saving_energy.total_%' #'saving_energy.total_mmbtu' #'saving_cbill.total_usd'\n",
    "\n",
    "for segment in sorted(community_results[\"segment\"].dropna().unique()):\n",
    "    print(f\"Summary for segment: {segment}: \")\n",
    "    df_seg = community_results.loc[community_results[\"segment\"]==segment]\n",
    "    results = get_summary(df_seg, metric, lower_percentile=0.10, middle_percentile1=0.25, middle_percentile2=0.75, upper_percentile=0.90)\n",
    "    saving_results[f'{segment}_{income}_saving_bill_total_usd_wt_p0.1'] = results.iloc[:, 3]\n",
    "    saving_results[f'{segment}_{income}_saving_bill_total_usd_wt_p0.25'] = results.iloc[:, 4]\n",
    "    saving_results[f'{segment}_{income}_saving_bill_total_usd_wt_p0.75'] = results.iloc[:, 5]\n",
    "    saving_results[f'{segment}_{income}_saving_bill_total_usd_wt_p0.9'] = results.iloc[:, 6]\n",
    "    display(results)"
   ]
  },
  {
   "cell_type": "markdown",
   "id": "13fe6b47",
   "metadata": {},
   "source": [
    "## 2.1 Upgrade Cost Per Dwelling Unit "
   ]
  },
  {
   "cell_type": "code",
   "execution_count": 212,
   "id": "585a1a25",
   "metadata": {},
   "outputs": [
    {
     "name": "stdout",
     "output_type": "stream",
     "text": [
      "segment1: upgrade cost (usd) per dwelling unit\n"
     ]
    },
    {
     "data": {
      "text/plain": [
       "upgrade_name\n",
       "Electric Cooking                                                    1150.3\n",
       "Electric Clothes Dryer                                              1291.8\n",
       "Induction Cooking                                                   1978.0\n",
       "Heat Pump Clothes Dryer                                             2599.4\n",
       "Heat Pump Water Heater                                              3157.9\n",
       "Basic Enclosure                                                     6598.0\n",
       "Enhanced Enclosure                                                  8984.9\n",
       "Mininum Efficiency Heat Pump with Existing Heat Backup             22367.8\n",
       "Mininum Efficiency Whole Home Electrification                      23543.5\n",
       "Mininum Efficiency Heat Pump with Electric Heat Backup             27504.0\n",
       "High Efficiency Heat Pump with Electric Heat Backup                32211.6\n",
       "Basic Enclosure + HPWH + High Efficiency HP/Electric Backup        35146.8\n",
       "Enhanced Enclosure + HPWH + High Efficiency HP/Electric Backup     35996.6\n",
       "Basic Enclosure + High Efficiency Whole Home Electrification       39724.3\n",
       "High Efficiency Whole Home Electrification                         39947.0\n",
       "Enhanced Enclosure + High Efficiency Whole Home Electrification    40574.1\n",
       "Name: upgrade_cost_usd, dtype: float64"
      ]
     },
     "metadata": {},
     "output_type": "display_data"
    },
    {
     "name": "stdout",
     "output_type": "stream",
     "text": [
      "segment2: upgrade cost (usd) per dwelling unit\n"
     ]
    },
    {
     "data": {
      "text/plain": [
       "upgrade_name\n",
       "Electric Cooking                                                    1150.3\n",
       "Induction Cooking                                                   1978.0\n",
       "Heat Pump Clothes Dryer                                             2599.4\n",
       "Basic Enclosure                                                     2927.6\n",
       "Heat Pump Water Heater                                              2964.4\n",
       "Enhanced Enclosure                                                  3242.4\n",
       "Mininum Efficiency Whole Home Electrification                      13575.0\n",
       "Mininum Efficiency Heat Pump with Electric Heat Backup             14153.2\n",
       "Mininum Efficiency Heat Pump with Existing Heat Backup             14153.2\n",
       "High Efficiency Heat Pump with Electric Heat Backup                24100.3\n",
       "Basic Enclosure + HPWH + High Efficiency HP/Electric Backup        28268.5\n",
       "Enhanced Enclosure + HPWH + High Efficiency HP/Electric Backup     28456.4\n",
       "High Efficiency Whole Home Electrification                         30223.0\n",
       "Basic Enclosure + High Efficiency Whole Home Electrification       31426.8\n",
       "Enhanced Enclosure + High Efficiency Whole Home Electrification    31614.7\n",
       "Name: upgrade_cost_usd, dtype: float64"
      ]
     },
     "metadata": {},
     "output_type": "display_data"
    },
    {
     "name": "stdout",
     "output_type": "stream",
     "text": [
      "segment3: upgrade cost (usd) per dwelling unit\n"
     ]
    },
    {
     "data": {
      "text/plain": [
       "upgrade_name\n",
       "Electric Cooking                                                    1150.3\n",
       "Electric Clothes Dryer                                              1291.8\n",
       "Induction Cooking                                                   1978.0\n",
       "Heat Pump Clothes Dryer                                             2599.4\n",
       "Basic Enclosure                                                     2795.5\n",
       "Heat Pump Water Heater                                              3035.3\n",
       "Enhanced Enclosure                                                  4113.6\n",
       "Mininum Efficiency Heat Pump with Existing Heat Backup             12271.5\n",
       "Mininum Efficiency Heat Pump with Electric Heat Backup             12971.5\n",
       "Mininum Efficiency Whole Home Electrification                      13007.9\n",
       "High Efficiency Heat Pump with Electric Heat Backup                25439.3\n",
       "Basic Enclosure + HPWH + High Efficiency HP/Electric Backup        28374.9\n",
       "Enhanced Enclosure + HPWH + High Efficiency HP/Electric Backup     29073.8\n",
       "High Efficiency Whole Home Electrification                         31305.7\n",
       "Basic Enclosure + High Efficiency Whole Home Electrification       32072.4\n",
       "Enhanced Enclosure + High Efficiency Whole Home Electrification    32771.4\n",
       "Name: upgrade_cost_usd, dtype: float64"
      ]
     },
     "metadata": {},
     "output_type": "display_data"
    }
   ],
   "source": [
    "results = segment_mean_upgrade_cost(community_results) \n",
    "saving_results[f'segment1_{income}_upgrade_cost_mean_usd'] = results[0]\n",
    "saving_results[f'segment2_{income}_upgrade_cost_mean_usd'] = results[1]\n",
    "saving_results[f'segment3_{income}_upgrade_cost_mean_usd'] = results[2]"
   ]
  },
  {
   "cell_type": "markdown",
   "id": "660e0aa3",
   "metadata": {},
   "source": [
    " ## 2.2 Annual Savings Per Dollar Invested"
   ]
  },
  {
   "cell_type": "markdown",
   "id": "9492f6e1",
   "metadata": {},
   "source": [
    " ### Annual Bill Savings Per Dollar Invested"
   ]
  },
  {
   "cell_type": "code",
   "execution_count": 213,
   "id": "6e31ced4",
   "metadata": {},
   "outputs": [
    {
     "name": "stdout",
     "output_type": "stream",
     "text": [
      "segment1\n"
     ]
    },
    {
     "data": {
      "text/plain": [
       "upgrade_name\n",
       "Basic Enclosure                                                    0.06688\n",
       "Enhanced Enclosure                                                 0.05457\n",
       "Heat Pump Water Heater                                             0.03917\n",
       "Enhanced Enclosure + HPWH + High Efficiency HP/Electric Backup     0.02799\n",
       "Basic Enclosure + HPWH + High Efficiency HP/Electric Backup        0.02776\n",
       "Enhanced Enclosure + High Efficiency Whole Home Electrification    0.02513\n",
       "Basic Enclosure + High Efficiency Whole Home Electrification       0.02487\n",
       "High Efficiency Whole Home Electrification                         0.01853\n",
       "High Efficiency Heat Pump with Electric Heat Backup                0.01728\n",
       "Mininum Efficiency Heat Pump with Existing Heat Backup             0.01335\n",
       "Heat Pump Clothes Dryer                                            0.00693\n",
       "Mininum Efficiency Heat Pump with Electric Heat Backup            -0.00387\n",
       "Induction Cooking                                                 -0.00452\n",
       "Mininum Efficiency Whole Home Electrification                     -0.01754\n",
       "Electric Cooking                                                  -0.02197\n",
       "Electric Clothes Dryer                                            -0.04056\n",
       "Name: saving_cbill.total_usd, dtype: float64"
      ]
     },
     "metadata": {},
     "output_type": "display_data"
    },
    {
     "name": "stdout",
     "output_type": "stream",
     "text": [
      "segment2\n"
     ]
    },
    {
     "data": {
      "text/plain": [
       "upgrade_name\n",
       "Enhanced Enclosure                                                 0.13098\n",
       "Basic Enclosure                                                    0.13071\n",
       "Enhanced Enclosure + HPWH + High Efficiency HP/Electric Backup     0.03695\n",
       "Basic Enclosure + HPWH + High Efficiency HP/Electric Backup        0.03666\n",
       "Enhanced Enclosure + High Efficiency Whole Home Electrification    0.03385\n",
       "Basic Enclosure + High Efficiency Whole Home Electrification       0.03357\n",
       "High Efficiency Heat Pump with Electric Heat Backup                0.03225\n",
       "High Efficiency Whole Home Electrification                         0.02985\n",
       "Mininum Efficiency Heat Pump with Existing Heat Backup             0.02908\n",
       "Mininum Efficiency Heat Pump with Electric Heat Backup             0.02596\n",
       "Heat Pump Water Heater                                             0.01767\n",
       "Heat Pump Clothes Dryer                                            0.01159\n",
       "Induction Cooking                                                  0.00014\n",
       "Mininum Efficiency Whole Home Electrification                     -0.00672\n",
       "Electric Cooking                                                  -0.01804\n",
       "Name: saving_cbill.total_usd, dtype: float64"
      ]
     },
     "metadata": {},
     "output_type": "display_data"
    },
    {
     "name": "stdout",
     "output_type": "stream",
     "text": [
      "segment3\n"
     ]
    },
    {
     "data": {
      "text/plain": [
       "upgrade_name\n",
       "Basic Enclosure                                                    0.08713\n",
       "Enhanced Enclosure                                                 0.06857\n",
       "Heat Pump Water Heater                                             0.03268\n",
       "Basic Enclosure + HPWH + High Efficiency HP/Electric Backup        0.02589\n",
       "Enhanced Enclosure + HPWH + High Efficiency HP/Electric Backup     0.02570\n",
       "Basic Enclosure + High Efficiency Whole Home Electrification       0.02341\n",
       "Enhanced Enclosure + High Efficiency Whole Home Electrification    0.02329\n",
       "High Efficiency Whole Home Electrification                         0.02025\n",
       "High Efficiency Heat Pump with Electric Heat Backup                0.01912\n",
       "Mininum Efficiency Heat Pump with Existing Heat Backup             0.01560\n",
       "Heat Pump Clothes Dryer                                            0.00907\n",
       "Mininum Efficiency Heat Pump with Electric Heat Backup             0.00685\n",
       "Induction Cooking                                                 -0.00101\n",
       "Mininum Efficiency Whole Home Electrification                     -0.01306\n",
       "Electric Cooking                                                  -0.01897\n",
       "Electric Clothes Dryer                                            -0.03711\n",
       "Name: saving_cbill.total_usd, dtype: float64"
      ]
     },
     "metadata": {},
     "output_type": "display_data"
    }
   ],
   "source": [
    "indicator ='saving_cbill.total_usd'\n",
    "results = segment_savings_per_dollar(indicator, community_results) \n",
    "saving_results[f'segment1_{income}_saving_bill_per_dollar_invested_usd'] = results[0]\n",
    "saving_results[f'segment2_{income}_saving_bill_per_dollar_invested_usd'] = results[1]\n",
    "saving_results[f'segment3_{income}_saving_bill_per_dollar_invested_usd'] = results[2]"
   ]
  },
  {
   "cell_type": "markdown",
   "id": "4be95afb",
   "metadata": {},
   "source": [
    " ### Annual Energy Savings Per Dollar Invested"
   ]
  },
  {
   "cell_type": "code",
   "execution_count": 214,
   "id": "d03da729",
   "metadata": {},
   "outputs": [
    {
     "name": "stdout",
     "output_type": "stream",
     "text": [
      "segment1\n"
     ]
    },
    {
     "data": {
      "text/plain": [
       "upgrade_name\n",
       "Basic Enclosure                                                    0.00406\n",
       "Enhanced Enclosure                                                 0.00345\n",
       "Heat Pump Water Heater                                             0.00267\n",
       "Basic Enclosure + HPWH + High Efficiency HP/Electric Backup        0.00210\n",
       "Enhanced Enclosure + HPWH + High Efficiency HP/Electric Backup     0.00208\n",
       "Basic Enclosure + High Efficiency Whole Home Electrification       0.00192\n",
       "Enhanced Enclosure + High Efficiency Whole Home Electrification    0.00190\n",
       "Mininum Efficiency Whole Home Electrification                      0.00177\n",
       "High Efficiency Whole Home Electrification                         0.00173\n",
       "High Efficiency Heat Pump with Electric Heat Backup                0.00168\n",
       "Electric Cooking                                                   0.00155\n",
       "Mininum Efficiency Heat Pump with Existing Heat Backup             0.00135\n",
       "Mininum Efficiency Heat Pump with Electric Heat Backup             0.00127\n",
       "Induction Cooking                                                  0.00062\n",
       "Heat Pump Clothes Dryer                                            0.00049\n",
       "Electric Clothes Dryer                                             0.00041\n",
       "Name: saving_energy.total_mmbtu, dtype: float64"
      ]
     },
     "metadata": {},
     "output_type": "display_data"
    },
    {
     "name": "stdout",
     "output_type": "stream",
     "text": [
      "segment2\n"
     ]
    },
    {
     "data": {
      "text/plain": [
       "upgrade_name\n",
       "Basic Enclosure                                                    0.00525\n",
       "Enhanced Enclosure                                                 0.00512\n",
       "Mininum Efficiency Whole Home Electrification                      0.00311\n",
       "Enhanced Enclosure + HPWH + High Efficiency HP/Electric Backup     0.00152\n",
       "Basic Enclosure + HPWH + High Efficiency HP/Electric Backup        0.00151\n",
       "Mininum Efficiency Heat Pump with Electric Heat Backup             0.00149\n",
       "Enhanced Enclosure + High Efficiency Whole Home Electrification    0.00139\n",
       "Basic Enclosure + High Efficiency Whole Home Electrification       0.00139\n",
       "High Efficiency Heat Pump with Electric Heat Backup                0.00137\n",
       "Electric Cooking                                                   0.00132\n",
       "High Efficiency Whole Home Electrification                         0.00129\n",
       "Mininum Efficiency Heat Pump with Existing Heat Backup             0.00119\n",
       "Heat Pump Water Heater                                             0.00108\n",
       "Heat Pump Clothes Dryer                                            0.00034\n",
       "Induction Cooking                                                  0.00019\n",
       "Name: saving_energy.total_mmbtu, dtype: float64"
      ]
     },
     "metadata": {},
     "output_type": "display_data"
    },
    {
     "name": "stdout",
     "output_type": "stream",
     "text": [
      "segment3\n"
     ]
    },
    {
     "data": {
      "text/plain": [
       "upgrade_name\n",
       "Basic Enclosure                                                    0.00446\n",
       "Enhanced Enclosure                                                 0.00352\n",
       "Mininum Efficiency Whole Home Electrification                      0.00255\n",
       "Heat Pump Water Heater                                             0.00197\n",
       "Mininum Efficiency Heat Pump with Electric Heat Backup             0.00149\n",
       "Basic Enclosure + HPWH + High Efficiency HP/Electric Backup        0.00147\n",
       "Enhanced Enclosure + HPWH + High Efficiency HP/Electric Backup     0.00145\n",
       "Electric Cooking                                                   0.00138\n",
       "Basic Enclosure + High Efficiency Whole Home Electrification       0.00134\n",
       "Enhanced Enclosure + High Efficiency Whole Home Electrification    0.00132\n",
       "High Efficiency Whole Home Electrification                         0.00126\n",
       "High Efficiency Heat Pump with Electric Heat Backup                0.00121\n",
       "Mininum Efficiency Heat Pump with Existing Heat Backup             0.00095\n",
       "Electric Clothes Dryer                                             0.00046\n",
       "Heat Pump Clothes Dryer                                            0.00039\n",
       "Induction Cooking                                                  0.00031\n",
       "Name: saving_energy.total_mmbtu, dtype: float64"
      ]
     },
     "metadata": {},
     "output_type": "display_data"
    }
   ],
   "source": [
    "indicator = 'saving_energy.total_mmbtu'\n",
    "results = segment_savings_per_dollar(indicator, community_results) \n",
    "saving_results[f'segment1_{income}_saving_energy_per_dollar_invested_mmbtu'] = results[0]\n",
    "saving_results[f'segment2_{income}_saving_energy_per_dollar_invested_mmbtu'] = results[1]\n",
    "saving_results[f'segment3_{income}_saving_energy_per_dollar_invested_mmbtu'] = results[2]"
   ]
  },
  {
   "cell_type": "markdown",
   "id": "3b3ea80f",
   "metadata": {},
   "source": [
    " ### Annual Emission Savings Per Dollar Invested"
   ]
  },
  {
   "cell_type": "code",
   "execution_count": 215,
   "id": "b538dff9",
   "metadata": {},
   "outputs": [
    {
     "name": "stdout",
     "output_type": "stream",
     "text": [
      "segment1\n"
     ]
    },
    {
     "data": {
      "text/plain": [
       "upgrade_name\n",
       "Basic Enclosure                                                    0.29102\n",
       "Enhanced Enclosure                                                 0.24744\n",
       "Heat Pump Water Heater                                             0.18518\n",
       "Basic Enclosure + HPWH + High Efficiency HP/Electric Backup        0.14604\n",
       "Enhanced Enclosure + HPWH + High Efficiency HP/Electric Backup     0.14482\n",
       "Basic Enclosure + High Efficiency Whole Home Electrification       0.13359\n",
       "Enhanced Enclosure + High Efficiency Whole Home Electrification    0.13276\n",
       "High Efficiency Whole Home Electrification                         0.11783\n",
       "High Efficiency Heat Pump with Electric Heat Backup                0.11362\n",
       "Mininum Efficiency Whole Home Electrification                      0.09897\n",
       "Electric Cooking                                                   0.09888\n",
       "Mininum Efficiency Heat Pump with Existing Heat Backup             0.09193\n",
       "Mininum Efficiency Heat Pump with Electric Heat Backup             0.07460\n",
       "Induction Cooking                                                  0.04027\n",
       "Heat Pump Clothes Dryer                                            0.03621\n",
       "Electric Clothes Dryer                                             0.03472\n",
       "Name: saving_emission.total_kgCO2e, dtype: float64"
      ]
     },
     "metadata": {},
     "output_type": "display_data"
    },
    {
     "name": "stdout",
     "output_type": "stream",
     "text": [
      "segment2\n"
     ]
    },
    {
     "data": {
      "text/plain": [
       "upgrade_name\n",
       "Basic Enclosure                                                    0.40280\n",
       "Enhanced Enclosure                                                 0.39559\n",
       "Mininum Efficiency Whole Home Electrification                      0.17830\n",
       "Enhanced Enclosure + HPWH + High Efficiency HP/Electric Backup     0.11617\n",
       "Basic Enclosure + HPWH + High Efficiency HP/Electric Backup        0.11572\n",
       "Mininum Efficiency Heat Pump with Electric Heat Backup             0.10732\n",
       "Enhanced Enclosure + High Efficiency Whole Home Electrification    0.10631\n",
       "Basic Enclosure + High Efficiency Whole Home Electrification       0.10585\n",
       "High Efficiency Heat Pump with Electric Heat Backup                0.10420\n",
       "High Efficiency Whole Home Electrification                         0.09744\n",
       "Mininum Efficiency Heat Pump with Existing Heat Backup             0.09289\n",
       "Electric Cooking                                                   0.08219\n",
       "Heat Pump Water Heater                                             0.07273\n",
       "Heat Pump Clothes Dryer                                            0.02367\n",
       "Induction Cooking                                                  0.01217\n",
       "Name: saving_emission.total_kgCO2e, dtype: float64"
      ]
     },
     "metadata": {},
     "output_type": "display_data"
    },
    {
     "name": "stdout",
     "output_type": "stream",
     "text": [
      "segment3\n"
     ]
    },
    {
     "data": {
      "text/plain": [
       "upgrade_name\n",
       "Basic Enclosure                                                    0.33134\n",
       "Enhanced Enclosure                                                 0.26257\n",
       "Mininum Efficiency Whole Home Electrification                      0.14837\n",
       "Heat Pump Water Heater                                             0.13737\n",
       "Basic Enclosure + HPWH + High Efficiency HP/Electric Backup        0.10601\n",
       "Enhanced Enclosure + HPWH + High Efficiency HP/Electric Backup     0.10456\n",
       "Basic Enclosure + High Efficiency Whole Home Electrification       0.09653\n",
       "Enhanced Enclosure + High Efficiency Whole Home Electrification    0.09543\n",
       "Mininum Efficiency Heat Pump with Electric Heat Backup             0.09433\n",
       "High Efficiency Whole Home Electrification                         0.08969\n",
       "Electric Cooking                                                   0.08693\n",
       "High Efficiency Heat Pump with Electric Heat Backup                0.08619\n",
       "Mininum Efficiency Heat Pump with Existing Heat Backup             0.06929\n",
       "Heat Pump Clothes Dryer                                            0.02725\n",
       "Electric Clothes Dryer                                             0.02544\n",
       "Induction Cooking                                                  0.02059\n",
       "Name: saving_emission.total_kgCO2e, dtype: float64"
      ]
     },
     "metadata": {},
     "output_type": "display_data"
    }
   ],
   "source": [
    "indicator ='saving_emission.total_kgCO2e'\n",
    "results = segment_savings_per_dollar(indicator, community_results) \n",
    "saving_results[f'segment1_{income}_saving_emission_per_dollar_invested_kgCO2e'] = results[0]\n",
    "saving_results[f'segment2_{income}_saving_emission_per_dollar_invested_kgCO2e'] = results[1]\n",
    "saving_results[f'segment3_{income}_saving_emission_per_dollar_invested_kgCO2e'] = results[2]"
   ]
  },
  {
   "cell_type": "markdown",
   "id": "961cd050",
   "metadata": {},
   "source": [
    "## 2.3 Annual Total Savings"
   ]
  },
  {
   "cell_type": "markdown",
   "id": "702400cd",
   "metadata": {},
   "source": [
    "### Annual Total Bill Savings"
   ]
  },
  {
   "cell_type": "code",
   "execution_count": 216,
   "id": "4cb37f5f",
   "metadata": {},
   "outputs": [
    {
     "name": "stdout",
     "output_type": "stream",
     "text": [
      "segment1\n"
     ]
    },
    {
     "data": {
      "text/plain": [
       "upgrade_name\n",
       "Enhanced Enclosure + High Efficiency Whole Home Electrification    634048.4\n",
       "Enhanced Enclosure + HPWH + High Efficiency HP/Electric Backup     626476.9\n",
       "Basic Enclosure + High Efficiency Whole Home Electrification       614377.4\n",
       "Basic Enclosure + HPWH + High Efficiency HP/Electric Backup        606805.9\n",
       "High Efficiency Whole Home Electrification                         460246.5\n",
       "High Efficiency Heat Pump with Electric Heat Backup                346062.6\n",
       "Enhanced Enclosure                                                 304939.5\n",
       "Basic Enclosure                                                    274409.7\n",
       "Mininum Efficiency Heat Pump with Existing Heat Backup             162283.0\n",
       "Heat Pump Water Heater                                              76915.8\n",
       "Heat Pump Clothes Dryer                                             11207.7\n",
       "Induction Cooking                                                   -5564.1\n",
       "Electric Cooking                                                    -9250.0\n",
       "Electric Clothes Dryer                                             -12104.9\n",
       "Mininum Efficiency Heat Pump with Electric Heat Backup             -66206.1\n",
       "Mininum Efficiency Whole Home Electrification                     -228499.2\n",
       "Name: saving_cbill.total_usd, dtype: float64"
      ]
     },
     "metadata": {},
     "output_type": "display_data"
    },
    {
     "name": "stdout",
     "output_type": "stream",
     "text": [
      "segment2\n"
     ]
    },
    {
     "data": {
      "text/plain": [
       "upgrade_name\n",
       "Enhanced Enclosure + High Efficiency Whole Home Electrification    216520.9\n",
       "Basic Enclosure + High Efficiency Whole Home Electrification       213460.3\n",
       "Enhanced Enclosure + HPWH + High Efficiency HP/Electric Backup     212703.7\n",
       "Basic Enclosure + HPWH + High Efficiency HP/Electric Backup        209643.1\n",
       "High Efficiency Whole Home Electrification                         182545.8\n",
       "High Efficiency Heat Pump with Electric Heat Backup                157255.6\n",
       "Enhanced Enclosure                                                  85918.9\n",
       "Mininum Efficiency Heat Pump with Existing Heat Backup              83279.4\n",
       "Basic Enclosure                                                     77420.6\n",
       "Mininum Efficiency Heat Pump with Electric Heat Backup              74342.6\n",
       "Heat Pump Water Heater                                              10594.5\n",
       "Heat Pump Clothes Dryer                                              3440.2\n",
       "Induction Cooking                                                      46.6\n",
       "Electric Cooking                                                     -609.3\n",
       "Mininum Efficiency Whole Home Electrification                       -5358.2\n",
       "Name: saving_cbill.total_usd, dtype: float64"
      ]
     },
     "metadata": {},
     "output_type": "display_data"
    },
    {
     "name": "stdout",
     "output_type": "stream",
     "text": [
      "segment3\n"
     ]
    },
    {
     "data": {
      "text/plain": [
       "upgrade_name\n",
       "Enhanced Enclosure + High Efficiency Whole Home Electrification    5792913.4\n",
       "Basic Enclosure + High Efficiency Whole Home Electrification       5697552.0\n",
       "Enhanced Enclosure + HPWH + High Efficiency HP/Electric Backup     5670313.2\n",
       "Basic Enclosure + HPWH + High Efficiency HP/Electric Backup        5574951.8\n",
       "High Efficiency Whole Home Electrification                         4810266.6\n",
       "High Efficiency Heat Pump with Electric Heat Backup                3568401.3\n",
       "Enhanced Enclosure                                                 2084371.5\n",
       "Basic Enclosure                                                    1788433.9\n",
       "Mininum Efficiency Heat Pump with Existing Heat Backup             1422666.0\n",
       "Heat Pump Water Heater                                              749442.9\n",
       "Mininum Efficiency Heat Pump with Electric Heat Backup              651775.1\n",
       "Heat Pump Clothes Dryer                                             119504.7\n",
       "Induction Cooking                                                   -15083.9\n",
       "Electric Clothes Dryer                                              -39341.8\n",
       "Electric Cooking                                                    -50393.4\n",
       "Mininum Efficiency Whole Home Electrification                      -720126.3\n",
       "Name: saving_cbill.total_usd, dtype: float64"
      ]
     },
     "metadata": {},
     "output_type": "display_data"
    }
   ],
   "source": [
    "indicator ='saving_cbill.total_usd'\n",
    "results = segment_annual_total_savings(indicator, community_results)\n",
    "saving_results[f'segment1_{income}_saving_bill_total_usd'] = results[0]\n",
    "saving_results[f'segment2_{income}_saving_bill_total_usd'] = results[1]\n",
    "saving_results[f'segment3_{income}_saving_bill_total_usd'] = results[2]"
   ]
  },
  {
   "cell_type": "markdown",
   "id": "5a9433f1",
   "metadata": {},
   "source": [
    "### Annual Total Energy Savings"
   ]
  },
  {
   "cell_type": "code",
   "execution_count": 217,
   "id": "772222fe",
   "metadata": {},
   "outputs": [
    {
     "name": "stdout",
     "output_type": "stream",
     "text": [
      "segment1\n"
     ]
    },
    {
     "data": {
      "text/plain": [
       "upgrade_name\n",
       "Enhanced Enclosure + High Efficiency Whole Home Electrification    48042.2\n",
       "Basic Enclosure + High Efficiency Whole Home Electrification       47473.4\n",
       "Enhanced Enclosure + HPWH + High Efficiency HP/Electric Backup     46487.3\n",
       "Basic Enclosure + HPWH + High Efficiency HP/Electric Backup        45918.5\n",
       "High Efficiency Whole Home Electrification                         43016.8\n",
       "High Efficiency Heat Pump with Electric Heat Backup                33721.0\n",
       "Mininum Efficiency Whole Home Electrification                      23102.2\n",
       "Mininum Efficiency Heat Pump with Electric Heat Backup             21804.6\n",
       "Enhanced Enclosure                                                 19297.8\n",
       "Basic Enclosure                                                    16652.4\n",
       "Mininum Efficiency Heat Pump with Existing Heat Backup             16422.0\n",
       "Heat Pump Water Heater                                              5244.3\n",
       "Heat Pump Clothes Dryer                                              797.6\n",
       "Induction Cooking                                                    757.3\n",
       "Electric Cooking                                                     650.7\n",
       "Electric Clothes Dryer                                               123.5\n",
       "Name: saving_energy.total_mmbtu, dtype: float64"
      ]
     },
     "metadata": {},
     "output_type": "display_data"
    },
    {
     "name": "stdout",
     "output_type": "stream",
     "text": [
      "segment2\n"
     ]
    },
    {
     "data": {
      "text/plain": [
       "upgrade_name\n",
       "Enhanced Enclosure + High Efficiency Whole Home Electrification    8897.3\n",
       "Basic Enclosure + High Efficiency Whole Home Electrification       8808.8\n",
       "Enhanced Enclosure + HPWH + High Efficiency HP/Electric Backup     8734.2\n",
       "Basic Enclosure + HPWH + High Efficiency HP/Electric Backup        8645.7\n",
       "High Efficiency Whole Home Electrification                         7914.9\n",
       "High Efficiency Heat Pump with Electric Heat Backup                6662.3\n",
       "Mininum Efficiency Heat Pump with Electric Heat Backup             4265.8\n",
       "Mininum Efficiency Heat Pump with Existing Heat Backup             3402.7\n",
       "Enhanced Enclosure                                                 3355.5\n",
       "Basic Enclosure                                                    3109.8\n",
       "Mininum Efficiency Whole Home Electrification                      2481.8\n",
       "Heat Pump Water Heater                                              647.1\n",
       "Heat Pump Clothes Dryer                                              99.5\n",
       "Induction Cooking                                                    63.6\n",
       "Electric Cooking                                                     44.7\n",
       "Name: saving_energy.total_mmbtu, dtype: float64"
      ]
     },
     "metadata": {},
     "output_type": "display_data"
    },
    {
     "name": "stdout",
     "output_type": "stream",
     "text": [
      "segment3\n"
     ]
    },
    {
     "data": {
      "text/plain": [
       "upgrade_name\n",
       "Enhanced Enclosure + High Efficiency Whole Home Electrification    328653.1\n",
       "Basic Enclosure + High Efficiency Whole Home Electrification       325895.9\n",
       "Enhanced Enclosure + HPWH + High Efficiency HP/Electric Backup     318886.7\n",
       "Basic Enclosure + HPWH + High Efficiency HP/Electric Backup        316129.4\n",
       "High Efficiency Whole Home Electrification                         300240.6\n",
       "High Efficiency Heat Pump with Electric Heat Backup                225789.1\n",
       "Mininum Efficiency Heat Pump with Electric Heat Backup             141478.3\n",
       "Mininum Efficiency Whole Home Electrification                      140333.5\n",
       "Enhanced Enclosure                                                 107095.7\n",
       "Basic Enclosure                                                     91530.2\n",
       "Mininum Efficiency Heat Pump with Existing Heat Backup              86498.3\n",
       "Heat Pump Water Heater                                              45275.6\n",
       "Heat Pump Clothes Dryer                                              5085.1\n",
       "Induction Cooking                                                    4681.3\n",
       "Electric Cooking                                                     3660.1\n",
       "Electric Clothes Dryer                                                492.2\n",
       "Name: saving_energy.total_mmbtu, dtype: float64"
      ]
     },
     "metadata": {},
     "output_type": "display_data"
    }
   ],
   "source": [
    "indicator ='saving_energy.total_mmbtu'\n",
    "results = segment_annual_total_savings(indicator, community_results)\n",
    "saving_results[f'segment1_{income}_saving_energy_total_mmbtu'] = results[0]\n",
    "saving_results[f'segment2_{income}_saving_energy_total_mmbtu'] = results[1]\n",
    "saving_results[f'segment3_{income}_saving_energy_total_mmbtu'] = results[2]"
   ]
  },
  {
   "cell_type": "markdown",
   "id": "468edc4e",
   "metadata": {},
   "source": [
    "### Annual Total Emission Savings"
   ]
  },
  {
   "cell_type": "code",
   "execution_count": 218,
   "id": "5fb13c1b",
   "metadata": {},
   "outputs": [
    {
     "name": "stdout",
     "output_type": "stream",
     "text": [
      "segment1\n"
     ]
    },
    {
     "data": {
      "text/plain": [
       "upgrade_name\n",
       "Enhanced Enclosure + High Efficiency Whole Home Electrification    3349936.0\n",
       "Basic Enclosure + High Efficiency Whole Home Electrification       3300204.2\n",
       "Enhanced Enclosure + HPWH + High Efficiency HP/Electric Backup     3241854.2\n",
       "Basic Enclosure + HPWH + High Efficiency HP/Electric Backup        3192122.4\n",
       "High Efficiency Whole Home Electrification                         2927159.2\n",
       "High Efficiency Heat Pump with Electric Heat Backup                2275955.1\n",
       "Enhanced Enclosure                                                 1382608.0\n",
       "Mininum Efficiency Whole Home Electrification                      1289453.4\n",
       "Mininum Efficiency Heat Pump with Electric Heat Backup             1275941.5\n",
       "Basic Enclosure                                                    1194143.6\n",
       "Mininum Efficiency Heat Pump with Existing Heat Backup             1117701.3\n",
       "Heat Pump Water Heater                                              363660.6\n",
       "Heat Pump Clothes Dryer                                              58540.1\n",
       "Induction Cooking                                                    49541.6\n",
       "Electric Cooking                                                     41633.6\n",
       "Electric Clothes Dryer                                               10360.7\n",
       "Name: saving_emission.total_kgCO2e, dtype: float64"
      ]
     },
     "metadata": {},
     "output_type": "display_data"
    },
    {
     "name": "stdout",
     "output_type": "stream",
     "text": [
      "segment2\n"
     ]
    },
    {
     "data": {
      "text/plain": [
       "upgrade_name\n",
       "Enhanced Enclosure + High Efficiency Whole Home Electrification    679971.6\n",
       "Basic Enclosure + High Efficiency Whole Home Electrification       672969.1\n",
       "Enhanced Enclosure + HPWH + High Efficiency HP/Electric Backup     668782.8\n",
       "Basic Enclosure + HPWH + High Efficiency HP/Electric Backup        661780.3\n",
       "High Efficiency Whole Home Electrification                         595793.9\n",
       "High Efficiency Heat Pump with Electric Heat Backup                508076.0\n",
       "Mininum Efficiency Heat Pump with Electric Heat Backup             307295.4\n",
       "Mininum Efficiency Heat Pump with Existing Heat Backup             265965.1\n",
       "Enhanced Enclosure                                                 259493.4\n",
       "Basic Enclosure                                                    238573.1\n",
       "Mininum Efficiency Whole Home Electrification                      142159.9\n",
       "Heat Pump Water Heater                                              43615.0\n",
       "Heat Pump Clothes Dryer                                              7027.1\n",
       "Induction Cooking                                                    4161.7\n",
       "Electric Cooking                                                     2776.5\n",
       "Name: saving_emission.total_kgCO2e, dtype: float64"
      ]
     },
     "metadata": {},
     "output_type": "display_data"
    },
    {
     "name": "stdout",
     "output_type": "stream",
     "text": [
      "segment3\n"
     ]
    },
    {
     "data": {
      "text/plain": [
       "upgrade_name\n",
       "Enhanced Enclosure + High Efficiency Whole Home Electrification    23735718.7\n",
       "Basic Enclosure + High Efficiency Whole Home Electrification       23495432.7\n",
       "Enhanced Enclosure + HPWH + High Efficiency HP/Electric Backup     23070169.1\n",
       "Basic Enclosure + HPWH + High Efficiency HP/Electric Backup        22829883.1\n",
       "High Efficiency Whole Home Electrification                         21310056.9\n",
       "High Efficiency Heat Pump with Electric Heat Backup                16082601.0\n",
       "Mininum Efficiency Heat Pump with Electric Heat Backup              8974964.1\n",
       "Mininum Efficiency Whole Home Electrification                       8178618.5\n",
       "Enhanced Enclosure                                                  7981917.7\n",
       "Basic Enclosure                                                     6801407.9\n",
       "Mininum Efficiency Heat Pump with Existing Heat Backup              6318672.9\n",
       "Heat Pump Water Heater                                              3150542.1\n",
       "Heat Pump Clothes Dryer                                              359086.2\n",
       "Induction Cooking                                                    306463.4\n",
       "Electric Cooking                                                     230898.5\n",
       "Electric Clothes Dryer                                                26975.9\n",
       "Name: saving_emission.total_kgCO2e, dtype: float64"
      ]
     },
     "metadata": {},
     "output_type": "display_data"
    }
   ],
   "source": [
    "indicator ='saving_emission.total_kgCO2e'\n",
    "results = segment_annual_total_savings(indicator, community_results)\n",
    "saving_results[f'segment1_{income}_saving_emission_total_kgCO2e'] = results[0]\n",
    "saving_results[f'segment2_{income}_saving_emission_total_kgCO2e'] = results[1]\n",
    "saving_results[f'segment3_{income}_saving_emission_total_kgCO2e'] = results[2]"
   ]
  },
  {
   "cell_type": "markdown",
   "id": "83cbedb9",
   "metadata": {},
   "source": [
    "## 2.4 Annual Savings Per Dwelling Unit"
   ]
  },
  {
   "cell_type": "markdown",
   "id": "eb35438b",
   "metadata": {},
   "source": [
    "### Annual Bill Savings Per Dwelling Unit"
   ]
  },
  {
   "cell_type": "code",
   "execution_count": 219,
   "id": "876cf387",
   "metadata": {},
   "outputs": [
    {
     "name": "stdout",
     "output_type": "stream",
     "text": [
      "segment1\n"
     ]
    },
    {
     "data": {
      "text/plain": [
       "upgrade_name\n",
       "Enhanced Enclosure + High Efficiency Whole Home Electrification    1019.5\n",
       "Enhanced Enclosure + HPWH + High Efficiency HP/Electric Backup     1007.4\n",
       "Basic Enclosure + High Efficiency Whole Home Electrification        987.9\n",
       "Basic Enclosure + HPWH + High Efficiency HP/Electric Backup         975.7\n",
       "High Efficiency Whole Home Electrification                          740.1\n",
       "High Efficiency Heat Pump with Electric Heat Backup                 556.5\n",
       "Enhanced Enclosure                                                  490.3\n",
       "Basic Enclosure                                                     441.3\n",
       "Mininum Efficiency Heat Pump with Existing Heat Backup              298.5\n",
       "Heat Pump Water Heater                                              123.7\n",
       "Heat Pump Clothes Dryer                                              18.0\n",
       "Induction Cooking                                                    -8.9\n",
       "Electric Cooking                                                    -25.3\n",
       "Electric Clothes Dryer                                              -52.4\n",
       "Mininum Efficiency Heat Pump with Electric Heat Backup             -106.5\n",
       "Mininum Efficiency Whole Home Electrification                      -412.9\n",
       "Name: saving_cbill.total_usd, dtype: float64"
      ]
     },
     "metadata": {},
     "output_type": "display_data"
    },
    {
     "name": "stdout",
     "output_type": "stream",
     "text": [
      "segment2\n"
     ]
    },
    {
     "data": {
      "text/plain": [
       "upgrade_name\n",
       "Enhanced Enclosure + High Efficiency Whole Home Electrification    1070.2\n",
       "Basic Enclosure + High Efficiency Whole Home Electrification       1055.1\n",
       "Enhanced Enclosure + HPWH + High Efficiency HP/Electric Backup     1051.4\n",
       "Basic Enclosure + HPWH + High Efficiency HP/Electric Backup        1036.2\n",
       "High Efficiency Whole Home Electrification                          902.3\n",
       "High Efficiency Heat Pump with Electric Heat Backup                 777.3\n",
       "Enhanced Enclosure                                                  424.7\n",
       "Mininum Efficiency Heat Pump with Existing Heat Backup              411.6\n",
       "Basic Enclosure                                                     382.7\n",
       "Mininum Efficiency Heat Pump with Electric Heat Backup              367.5\n",
       "Heat Pump Water Heater                                               52.4\n",
       "Heat Pump Clothes Dryer                                              30.1\n",
       "Induction Cooking                                                     0.3\n",
       "Electric Cooking                                                    -20.7\n",
       "Mininum Efficiency Whole Home Electrification                       -91.2\n",
       "Name: saving_cbill.total_usd, dtype: float64"
      ]
     },
     "metadata": {},
     "output_type": "display_data"
    },
    {
     "name": "stdout",
     "output_type": "stream",
     "text": [
      "segment3\n"
     ]
    },
    {
     "data": {
      "text/plain": [
       "upgrade_name\n",
       "Enhanced Enclosure + High Efficiency Whole Home Electrification    763.3\n",
       "Basic Enclosure + High Efficiency Whole Home Electrification       750.7\n",
       "Enhanced Enclosure + HPWH + High Efficiency HP/Electric Backup     747.1\n",
       "Basic Enclosure + HPWH + High Efficiency HP/Electric Backup        734.6\n",
       "High Efficiency Whole Home Electrification                         633.8\n",
       "High Efficiency Heat Pump with Electric Heat Backup                486.5\n",
       "Enhanced Enclosure                                                 282.1\n",
       "Basic Enclosure                                                    243.6\n",
       "Mininum Efficiency Heat Pump with Existing Heat Backup             191.5\n",
       "Heat Pump Water Heater                                              99.2\n",
       "Mininum Efficiency Heat Pump with Electric Heat Backup              88.9\n",
       "Heat Pump Clothes Dryer                                             23.6\n",
       "Induction Cooking                                                   -2.0\n",
       "Electric Cooking                                                   -21.8\n",
       "Electric Clothes Dryer                                             -47.9\n",
       "Mininum Efficiency Whole Home Electrification                     -169.9\n",
       "Name: saving_cbill.total_usd, dtype: float64"
      ]
     },
     "metadata": {},
     "output_type": "display_data"
    }
   ],
   "source": [
    "indicator ='saving_cbill.total_usd'\n",
    "results = segment_mean_savings(indicator, community_results)\n",
    "saving_results[f'segment1_{income}_saving_bill_mean_usd'] = results[0]\n",
    "saving_results[f'segment2_{income}_saving_bill_mean_usd'] = results[1]\n",
    "saving_results[f'segment3_{income}_saving_bill_mean_usd'] = results[2]"
   ]
  },
  {
   "cell_type": "markdown",
   "id": "e902c573",
   "metadata": {},
   "source": [
    "### Annual Energy Savings Per Dwelling Unit"
   ]
  },
  {
   "cell_type": "code",
   "execution_count": 220,
   "id": "5ad585ad",
   "metadata": {},
   "outputs": [
    {
     "name": "stdout",
     "output_type": "stream",
     "text": [
      "segment1\n"
     ]
    },
    {
     "data": {
      "text/plain": [
       "upgrade_name\n",
       "Enhanced Enclosure + High Efficiency Whole Home Electrification    77.3\n",
       "Basic Enclosure + High Efficiency Whole Home Electrification       76.3\n",
       "Enhanced Enclosure + HPWH + High Efficiency HP/Electric Backup     74.8\n",
       "Basic Enclosure + HPWH + High Efficiency HP/Electric Backup        73.8\n",
       "High Efficiency Whole Home Electrification                         69.2\n",
       "High Efficiency Heat Pump with Electric Heat Backup                54.2\n",
       "Mininum Efficiency Whole Home Electrification                      41.7\n",
       "Mininum Efficiency Heat Pump with Electric Heat Backup             35.1\n",
       "Enhanced Enclosure                                                 31.0\n",
       "Mininum Efficiency Heat Pump with Existing Heat Backup             30.2\n",
       "Basic Enclosure                                                    26.8\n",
       "Heat Pump Water Heater                                              8.4\n",
       "Electric Cooking                                                    1.8\n",
       "Heat Pump Clothes Dryer                                             1.3\n",
       "Induction Cooking                                                   1.2\n",
       "Electric Clothes Dryer                                              0.5\n",
       "Name: saving_energy.total_mmbtu, dtype: float64"
      ]
     },
     "metadata": {},
     "output_type": "display_data"
    },
    {
     "name": "stdout",
     "output_type": "stream",
     "text": [
      "segment2\n"
     ]
    },
    {
     "data": {
      "text/plain": [
       "upgrade_name\n",
       "Enhanced Enclosure + High Efficiency Whole Home Electrification    44.0\n",
       "Basic Enclosure + High Efficiency Whole Home Electrification       43.5\n",
       "Enhanced Enclosure + HPWH + High Efficiency HP/Electric Backup     43.2\n",
       "Basic Enclosure + HPWH + High Efficiency HP/Electric Backup        42.7\n",
       "Mininum Efficiency Whole Home Electrification                      42.3\n",
       "High Efficiency Whole Home Electrification                         39.1\n",
       "High Efficiency Heat Pump with Electric Heat Backup                32.9\n",
       "Mininum Efficiency Heat Pump with Electric Heat Backup             21.1\n",
       "Mininum Efficiency Heat Pump with Existing Heat Backup             16.8\n",
       "Enhanced Enclosure                                                 16.6\n",
       "Basic Enclosure                                                    15.4\n",
       "Heat Pump Water Heater                                              3.2\n",
       "Electric Cooking                                                    1.5\n",
       "Heat Pump Clothes Dryer                                             0.9\n",
       "Induction Cooking                                                   0.4\n",
       "Name: saving_energy.total_mmbtu, dtype: float64"
      ]
     },
     "metadata": {},
     "output_type": "display_data"
    },
    {
     "name": "stdout",
     "output_type": "stream",
     "text": [
      "segment3\n"
     ]
    },
    {
     "data": {
      "text/plain": [
       "upgrade_name\n",
       "Enhanced Enclosure + High Efficiency Whole Home Electrification    43.3\n",
       "Basic Enclosure + High Efficiency Whole Home Electrification       42.9\n",
       "Enhanced Enclosure + HPWH + High Efficiency HP/Electric Backup     42.0\n",
       "Basic Enclosure + HPWH + High Efficiency HP/Electric Backup        41.7\n",
       "High Efficiency Whole Home Electrification                         39.6\n",
       "Mininum Efficiency Whole Home Electrification                      33.1\n",
       "High Efficiency Heat Pump with Electric Heat Backup                30.8\n",
       "Mininum Efficiency Heat Pump with Electric Heat Backup             19.3\n",
       "Enhanced Enclosure                                                 14.5\n",
       "Basic Enclosure                                                    12.5\n",
       "Mininum Efficiency Heat Pump with Existing Heat Backup             11.6\n",
       "Heat Pump Water Heater                                              6.0\n",
       "Electric Cooking                                                    1.6\n",
       "Heat Pump Clothes Dryer                                             1.0\n",
       "Induction Cooking                                                   0.6\n",
       "Electric Clothes Dryer                                              0.6\n",
       "Name: saving_energy.total_mmbtu, dtype: float64"
      ]
     },
     "metadata": {},
     "output_type": "display_data"
    }
   ],
   "source": [
    "indicator ='saving_energy.total_mmbtu'\n",
    "results = segment_mean_savings(indicator, community_results) \n",
    "saving_results[f'segment1_{income}_saving_energy_mean_mmbtu'] = results[0]\n",
    "saving_results[f'segment2_{income}_saving_energy_mean_mmbtu'] = results[1]\n",
    "saving_results[f'segment3_{income}_saving_energy_mean_mmbtu'] = results[2]"
   ]
  },
  {
   "cell_type": "markdown",
   "id": "6d99e632",
   "metadata": {},
   "source": [
    "### Annual Percentage Energy Savings Per Dwelling Unit"
   ]
  },
  {
   "cell_type": "code",
   "execution_count": 221,
   "id": "ae160b7b",
   "metadata": {},
   "outputs": [
    {
     "name": "stdout",
     "output_type": "stream",
     "text": [
      "segment1\n"
     ]
    },
    {
     "data": {
      "text/plain": [
       "upgrade_name\n",
       "Enhanced Enclosure + High Efficiency Whole Home Electrification    56.1\n",
       "Basic Enclosure + High Efficiency Whole Home Electrification       54.3\n",
       "Enhanced Enclosure + HPWH + High Efficiency HP/Electric Backup     52.9\n",
       "Basic Enclosure + HPWH + High Efficiency HP/Electric Backup        51.1\n",
       "High Efficiency Whole Home Electrification                         43.3\n",
       "High Efficiency Heat Pump with Electric Heat Backup                28.9\n",
       "Enhanced Enclosure                                                 23.8\n",
       "Mininum Efficiency Heat Pump with Existing Heat Backup             23.8\n",
       "Basic Enclosure                                                    21.0\n",
       "Heat Pump Water Heater                                              8.4\n",
       "Electric Cooking                                                    2.7\n",
       "Mininum Efficiency Heat Pump with Electric Heat Backup              2.0\n",
       "Induction Cooking                                                   1.8\n",
       "Heat Pump Clothes Dryer                                             1.4\n",
       "Electric Clothes Dryer                                              0.5\n",
       "Mininum Efficiency Whole Home Electrification                       0.3\n",
       "Name: pct_saving_energy.total_%, dtype: float64"
      ]
     },
     "metadata": {},
     "output_type": "display_data"
    },
    {
     "name": "stdout",
     "output_type": "stream",
     "text": [
      "segment2\n"
     ]
    },
    {
     "data": {
      "text/plain": [
       "upgrade_name\n",
       "Enhanced Enclosure + High Efficiency Whole Home Electrification    62.9\n",
       "Basic Enclosure + High Efficiency Whole Home Electrification       62.0\n",
       "Enhanced Enclosure + HPWH + High Efficiency HP/Electric Backup     61.8\n",
       "Basic Enclosure + HPWH + High Efficiency HP/Electric Backup        60.9\n",
       "High Efficiency Whole Home Electrification                         56.1\n",
       "Mininum Efficiency Whole Home Electrification                      51.1\n",
       "High Efficiency Heat Pump with Electric Heat Backup                46.9\n",
       "Mininum Efficiency Heat Pump with Electric Heat Backup             29.1\n",
       "Mininum Efficiency Heat Pump with Existing Heat Backup             24.9\n",
       "Enhanced Enclosure                                                 22.3\n",
       "Basic Enclosure                                                    19.9\n",
       "Heat Pump Water Heater                                              4.8\n",
       "Electric Cooking                                                    1.5\n",
       "Heat Pump Clothes Dryer                                             1.2\n",
       "Induction Cooking                                                   0.4\n",
       "Name: pct_saving_energy.total_%, dtype: float64"
      ]
     },
     "metadata": {},
     "output_type": "display_data"
    },
    {
     "name": "stdout",
     "output_type": "stream",
     "text": [
      "segment3\n"
     ]
    },
    {
     "data": {
      "text/plain": [
       "upgrade_name\n",
       "Enhanced Enclosure + High Efficiency Whole Home Electrification    53.7\n",
       "Basic Enclosure + High Efficiency Whole Home Electrification       53.1\n",
       "Enhanced Enclosure + HPWH + High Efficiency HP/Electric Backup     51.8\n",
       "Basic Enclosure + HPWH + High Efficiency HP/Electric Backup        51.3\n",
       "High Efficiency Whole Home Electrification                         48.4\n",
       "High Efficiency Heat Pump with Electric Heat Backup                35.9\n",
       "Mininum Efficiency Whole Home Electrification                      28.6\n",
       "Mininum Efficiency Heat Pump with Electric Heat Backup             18.9\n",
       "Enhanced Enclosure                                                 16.1\n",
       "Basic Enclosure                                                    14.0\n",
       "Mininum Efficiency Heat Pump with Existing Heat Backup             13.5\n",
       "Heat Pump Water Heater                                              8.7\n",
       "Electric Cooking                                                    2.3\n",
       "Heat Pump Clothes Dryer                                             1.3\n",
       "Induction Cooking                                                   0.9\n",
       "Electric Clothes Dryer                                              0.6\n",
       "Name: pct_saving_energy.total_%, dtype: float64"
      ]
     },
     "metadata": {},
     "output_type": "display_data"
    }
   ],
   "source": [
    "indicator ='pct_saving_energy.total_%'\n",
    "results = segment_mean_savings(indicator, community_results)\n",
    "saving_results[f'segment1_{income}_pct_saving_energy_mean_%'] = results[0]\n",
    "saving_results[f'segment2_{income}_pct_saving_energy_mean_%'] = results[1]\n",
    "saving_results[f'segment3_{income}_pct_saving_energy_mean_%'] = results[2]"
   ]
  },
  {
   "cell_type": "markdown",
   "id": "4c18ce08",
   "metadata": {},
   "source": [
    "### Annual Emission Savings Per Dwelling Unit"
   ]
  },
  {
   "cell_type": "code",
   "execution_count": 222,
   "id": "a310fa8d",
   "metadata": {},
   "outputs": [
    {
     "name": "stdout",
     "output_type": "stream",
     "text": [
      "segment1\n"
     ]
    },
    {
     "data": {
      "text/plain": [
       "upgrade_name\n",
       "Enhanced Enclosure + High Efficiency Whole Home Electrification    5386.7\n",
       "Basic Enclosure + High Efficiency Whole Home Electrification       5306.7\n",
       "Enhanced Enclosure + HPWH + High Efficiency HP/Electric Backup     5212.9\n",
       "Basic Enclosure + HPWH + High Efficiency HP/Electric Backup        5132.9\n",
       "High Efficiency Whole Home Electrification                         4706.9\n",
       "High Efficiency Heat Pump with Electric Heat Backup                3659.7\n",
       "Mininum Efficiency Whole Home Electrification                      2330.2\n",
       "Enhanced Enclosure                                                 2223.2\n",
       "Mininum Efficiency Heat Pump with Existing Heat Backup             2056.2\n",
       "Mininum Efficiency Heat Pump with Electric Heat Backup             2051.7\n",
       "Basic Enclosure                                                    1920.2\n",
       "Heat Pump Water Heater                                              584.8\n",
       "Electric Cooking                                                    113.7\n",
       "Heat Pump Clothes Dryer                                              94.1\n",
       "Induction Cooking                                                    79.7\n",
       "Electric Clothes Dryer                                               44.8\n",
       "Name: saving_emission.total_kgCO2e, dtype: float64"
      ]
     },
     "metadata": {},
     "output_type": "display_data"
    },
    {
     "name": "stdout",
     "output_type": "stream",
     "text": [
      "segment2\n"
     ]
    },
    {
     "data": {
      "text/plain": [
       "upgrade_name\n",
       "Enhanced Enclosure + High Efficiency Whole Home Electrification    3361.0\n",
       "Basic Enclosure + High Efficiency Whole Home Electrification       3326.4\n",
       "Enhanced Enclosure + HPWH + High Efficiency HP/Electric Backup     3305.7\n",
       "Basic Enclosure + HPWH + High Efficiency HP/Electric Backup        3271.1\n",
       "High Efficiency Whole Home Electrification                         2945.0\n",
       "High Efficiency Heat Pump with Electric Heat Backup                2511.4\n",
       "Mininum Efficiency Whole Home Electrification                      2420.4\n",
       "Mininum Efficiency Heat Pump with Electric Heat Backup             1518.9\n",
       "Mininum Efficiency Heat Pump with Existing Heat Backup             1314.6\n",
       "Enhanced Enclosure                                                 1282.7\n",
       "Basic Enclosure                                                    1179.2\n",
       "Heat Pump Water Heater                                              215.6\n",
       "Electric Cooking                                                     94.5\n",
       "Heat Pump Clothes Dryer                                              61.5\n",
       "Induction Cooking                                                    24.1\n",
       "Name: saving_emission.total_kgCO2e, dtype: float64"
      ]
     },
     "metadata": {},
     "output_type": "display_data"
    },
    {
     "name": "stdout",
     "output_type": "stream",
     "text": [
      "segment3\n"
     ]
    },
    {
     "data": {
      "text/plain": [
       "upgrade_name\n",
       "Enhanced Enclosure + High Efficiency Whole Home Electrification    3127.5\n",
       "Basic Enclosure + High Efficiency Whole Home Electrification       3095.8\n",
       "Enhanced Enclosure + HPWH + High Efficiency HP/Electric Backup     3039.8\n",
       "Basic Enclosure + HPWH + High Efficiency HP/Electric Backup        3008.2\n",
       "High Efficiency Whole Home Electrification                         2807.9\n",
       "High Efficiency Heat Pump with Electric Heat Backup                2192.6\n",
       "Mininum Efficiency Whole Home Electrification                      1929.9\n",
       "Mininum Efficiency Heat Pump with Electric Heat Backup             1223.6\n",
       "Enhanced Enclosure                                                 1080.1\n",
       "Basic Enclosure                                                     926.2\n",
       "Mininum Efficiency Heat Pump with Existing Heat Backup              850.3\n",
       "Heat Pump Water Heater                                              417.0\n",
       "Electric Cooking                                                    100.0\n",
       "Heat Pump Clothes Dryer                                              70.8\n",
       "Induction Cooking                                                    40.7\n",
       "Electric Clothes Dryer                                               32.9\n",
       "Name: saving_emission.total_kgCO2e, dtype: float64"
      ]
     },
     "metadata": {},
     "output_type": "display_data"
    }
   ],
   "source": [
    "indicator ='saving_emission.total_kgCO2e'\n",
    "results = segment_mean_savings(indicator, community_results)\n",
    "saving_results[f'segment1_{income}_saving_emission_mean_kgCO2e'] = results[0]\n",
    "saving_results[f'segment2_{income}_saving_emission_mean_kgCO2e'] = results[1]\n",
    "saving_results[f'segment3_{income}_saving_emission_mean_kgCO2e'] = results[2]"
   ]
  },
  {
   "cell_type": "markdown",
   "id": "ebaaed40",
   "metadata": {},
   "source": [
    "## 2.5. Pecent Stock with Positive and Negtive Savings"
   ]
  },
  {
   "cell_type": "markdown",
   "id": "2660dc7b",
   "metadata": {},
   "source": [
    "### Segment 1"
   ]
  },
  {
   "cell_type": "code",
   "execution_count": 223,
   "id": "361be888",
   "metadata": {},
   "outputs": [
    {
     "data": {
      "application/vnd.plotly.v1+json": {
       "config": {
        "plotlyServerURL": "https://plot.ly"
       },
       "data": [
        {
         "marker": {
          "color": "red"
         },
         "name": "Negative",
         "orientation": "h",
         "text": [
          1,
          1,
          0.9130434782608695,
          0.76,
          0.5,
          0.48,
          0.32,
          0.08,
          0.08,
          0.08,
          0.08,
          0.08,
          0.08,
          0.04,
          0,
          0
         ],
         "textposition": "inside",
         "texttemplate": "%{text:.0%}",
         "type": "bar",
         "x": [
          1,
          1,
          0.9130434782608695,
          0.76,
          0.5,
          0.48,
          0.32,
          0.08,
          0.08,
          0.08,
          0.08,
          0.08,
          0.08,
          0.04,
          0,
          0
         ],
         "xaxis": "x",
         "y": [
          "Electric Clothes Dryer",
          "Electric Cooking",
          "Mininum Efficiency Whole Home Electrification",
          "Mininum Efficiency Heat Pump with Electric Heat Backup",
          "Mininum Efficiency Heat Pump with Existing Heat Backup",
          "Induction Cooking",
          "Heat Pump Clothes Dryer",
          "Basic Enclosure + HPWH + High Efficiency HP/Electric Backup",
          "Basic Enclosure + High Efficiency Whole Home Electrification",
          "Enhanced Enclosure + HPWH + High Efficiency HP/Electric Backup",
          "Enhanced Enclosure + High Efficiency Whole Home Electrification",
          "High Efficiency Heat Pump with Electric Heat Backup",
          "High Efficiency Whole Home Electrification",
          "Heat Pump Water Heater",
          "Basic Enclosure",
          "Enhanced Enclosure"
         ],
         "yaxis": "y"
        },
        {
         "marker": {
          "color": "green"
         },
         "name": "Positive",
         "orientation": "h",
         "text": [
          0,
          0,
          0.08695652173913043,
          0.24,
          0.5,
          0.52,
          0.68,
          0.92,
          0.92,
          0.92,
          0.92,
          0.92,
          0.92,
          0.96,
          1,
          1
         ],
         "textposition": "inside",
         "texttemplate": "%{text:.0%}",
         "type": "bar",
         "x": [
          0,
          0,
          0.08695652173913043,
          0.24,
          0.5,
          0.52,
          0.68,
          0.92,
          0.92,
          0.92,
          0.92,
          0.92,
          0.92,
          0.96,
          1,
          1
         ],
         "xaxis": "x",
         "y": [
          "Electric Clothes Dryer",
          "Electric Cooking",
          "Mininum Efficiency Whole Home Electrification",
          "Mininum Efficiency Heat Pump with Electric Heat Backup",
          "Mininum Efficiency Heat Pump with Existing Heat Backup",
          "Induction Cooking",
          "Heat Pump Clothes Dryer",
          "Basic Enclosure + HPWH + High Efficiency HP/Electric Backup",
          "Basic Enclosure + High Efficiency Whole Home Electrification",
          "Enhanced Enclosure + HPWH + High Efficiency HP/Electric Backup",
          "Enhanced Enclosure + High Efficiency Whole Home Electrification",
          "High Efficiency Heat Pump with Electric Heat Backup",
          "High Efficiency Whole Home Electrification",
          "Heat Pump Water Heater",
          "Basic Enclosure",
          "Enhanced Enclosure"
         ],
         "yaxis": "y"
        },
        {
         "marker": {
          "color": "red"
         },
         "orientation": "h",
         "showlegend": false,
         "text": [
          0,
          0,
          0.043478260869565216,
          0.04,
          0,
          0,
          0,
          0.04,
          0.04,
          0.04,
          0.04,
          0.04,
          0.04,
          0,
          0,
          0
         ],
         "textposition": "inside",
         "texttemplate": "%{text:.0%}",
         "type": "bar",
         "x": [
          0,
          0,
          0.043478260869565216,
          0.04,
          0,
          0,
          0,
          0.04,
          0.04,
          0.04,
          0.04,
          0.04,
          0.04,
          0,
          0,
          0
         ],
         "xaxis": "x2",
         "y": [
          "Electric Clothes Dryer",
          "Electric Cooking",
          "Mininum Efficiency Whole Home Electrification",
          "Mininum Efficiency Heat Pump with Electric Heat Backup",
          "Mininum Efficiency Heat Pump with Existing Heat Backup",
          "Induction Cooking",
          "Heat Pump Clothes Dryer",
          "Basic Enclosure + HPWH + High Efficiency HP/Electric Backup",
          "Basic Enclosure + High Efficiency Whole Home Electrification",
          "Enhanced Enclosure + HPWH + High Efficiency HP/Electric Backup",
          "Enhanced Enclosure + High Efficiency Whole Home Electrification",
          "High Efficiency Heat Pump with Electric Heat Backup",
          "High Efficiency Whole Home Electrification",
          "Heat Pump Water Heater",
          "Basic Enclosure",
          "Enhanced Enclosure"
         ],
         "yaxis": "y2"
        },
        {
         "marker": {
          "color": "green"
         },
         "orientation": "h",
         "showlegend": false,
         "text": [
          1,
          1,
          0.9565217391304348,
          0.96,
          1,
          1,
          1,
          0.96,
          0.96,
          0.96,
          0.96,
          0.96,
          0.96,
          1,
          1,
          1
         ],
         "textposition": "inside",
         "texttemplate": "%{text:.0%}",
         "type": "bar",
         "x": [
          1,
          1,
          0.9565217391304348,
          0.96,
          1,
          1,
          1,
          0.96,
          0.96,
          0.96,
          0.96,
          0.96,
          0.96,
          1,
          1,
          1
         ],
         "xaxis": "x2",
         "y": [
          "Electric Clothes Dryer",
          "Electric Cooking",
          "Mininum Efficiency Whole Home Electrification",
          "Mininum Efficiency Heat Pump with Electric Heat Backup",
          "Mininum Efficiency Heat Pump with Existing Heat Backup",
          "Induction Cooking",
          "Heat Pump Clothes Dryer",
          "Basic Enclosure + HPWH + High Efficiency HP/Electric Backup",
          "Basic Enclosure + High Efficiency Whole Home Electrification",
          "Enhanced Enclosure + HPWH + High Efficiency HP/Electric Backup",
          "Enhanced Enclosure + High Efficiency Whole Home Electrification",
          "High Efficiency Heat Pump with Electric Heat Backup",
          "High Efficiency Whole Home Electrification",
          "Heat Pump Water Heater",
          "Basic Enclosure",
          "Enhanced Enclosure"
         ],
         "yaxis": "y2"
        },
        {
         "marker": {
          "color": "red"
         },
         "orientation": "h",
         "showlegend": false,
         "text": [
          0,
          0,
          0.043478260869565216,
          0.04,
          0,
          0,
          0,
          0.04,
          0.04,
          0.04,
          0.04,
          0.04,
          0.04,
          0,
          0,
          0
         ],
         "textposition": "inside",
         "texttemplate": "%{text:.0%}",
         "type": "bar",
         "x": [
          0,
          0,
          0.043478260869565216,
          0.04,
          0,
          0,
          0,
          0.04,
          0.04,
          0.04,
          0.04,
          0.04,
          0.04,
          0,
          0,
          0
         ],
         "xaxis": "x3",
         "y": [
          "Electric Clothes Dryer",
          "Electric Cooking",
          "Mininum Efficiency Whole Home Electrification",
          "Mininum Efficiency Heat Pump with Electric Heat Backup",
          "Mininum Efficiency Heat Pump with Existing Heat Backup",
          "Induction Cooking",
          "Heat Pump Clothes Dryer",
          "Basic Enclosure + HPWH + High Efficiency HP/Electric Backup",
          "Basic Enclosure + High Efficiency Whole Home Electrification",
          "Enhanced Enclosure + HPWH + High Efficiency HP/Electric Backup",
          "Enhanced Enclosure + High Efficiency Whole Home Electrification",
          "High Efficiency Heat Pump with Electric Heat Backup",
          "High Efficiency Whole Home Electrification",
          "Heat Pump Water Heater",
          "Basic Enclosure",
          "Enhanced Enclosure"
         ],
         "yaxis": "y3"
        },
        {
         "marker": {
          "color": "green"
         },
         "orientation": "h",
         "showlegend": false,
         "text": [
          1,
          1,
          0.9565217391304348,
          0.96,
          1,
          1,
          1,
          0.96,
          0.96,
          0.96,
          0.96,
          0.96,
          0.96,
          1,
          1,
          1
         ],
         "textposition": "inside",
         "texttemplate": "%{text:.0%}",
         "type": "bar",
         "x": [
          1,
          1,
          0.9565217391304348,
          0.96,
          1,
          1,
          1,
          0.96,
          0.96,
          0.96,
          0.96,
          0.96,
          0.96,
          1,
          1,
          1
         ],
         "xaxis": "x3",
         "y": [
          "Electric Clothes Dryer",
          "Electric Cooking",
          "Mininum Efficiency Whole Home Electrification",
          "Mininum Efficiency Heat Pump with Electric Heat Backup",
          "Mininum Efficiency Heat Pump with Existing Heat Backup",
          "Induction Cooking",
          "Heat Pump Clothes Dryer",
          "Basic Enclosure + HPWH + High Efficiency HP/Electric Backup",
          "Basic Enclosure + High Efficiency Whole Home Electrification",
          "Enhanced Enclosure + HPWH + High Efficiency HP/Electric Backup",
          "Enhanced Enclosure + High Efficiency Whole Home Electrification",
          "High Efficiency Heat Pump with Electric Heat Backup",
          "High Efficiency Whole Home Electrification",
          "Heat Pump Water Heater",
          "Basic Enclosure",
          "Enhanced Enclosure"
         ],
         "yaxis": "y3"
        }
       ],
       "layout": {
        "autosize": false,
        "barmode": "relative",
        "font": {
         "size": 10
        },
        "height": 500,
        "template": {
         "data": {
          "bar": [
           {
            "error_x": {
             "color": "#2a3f5f"
            },
            "error_y": {
             "color": "#2a3f5f"
            },
            "marker": {
             "line": {
              "color": "#E5ECF6",
              "width": 0.5
             },
             "pattern": {
              "fillmode": "overlay",
              "size": 10,
              "solidity": 0.2
             }
            },
            "type": "bar"
           }
          ],
          "barpolar": [
           {
            "marker": {
             "line": {
              "color": "#E5ECF6",
              "width": 0.5
             },
             "pattern": {
              "fillmode": "overlay",
              "size": 10,
              "solidity": 0.2
             }
            },
            "type": "barpolar"
           }
          ],
          "carpet": [
           {
            "aaxis": {
             "endlinecolor": "#2a3f5f",
             "gridcolor": "white",
             "linecolor": "white",
             "minorgridcolor": "white",
             "startlinecolor": "#2a3f5f"
            },
            "baxis": {
             "endlinecolor": "#2a3f5f",
             "gridcolor": "white",
             "linecolor": "white",
             "minorgridcolor": "white",
             "startlinecolor": "#2a3f5f"
            },
            "type": "carpet"
           }
          ],
          "choropleth": [
           {
            "colorbar": {
             "outlinewidth": 0,
             "ticks": ""
            },
            "type": "choropleth"
           }
          ],
          "contour": [
           {
            "colorbar": {
             "outlinewidth": 0,
             "ticks": ""
            },
            "colorscale": [
             [
              0,
              "#0d0887"
             ],
             [
              0.1111111111111111,
              "#46039f"
             ],
             [
              0.2222222222222222,
              "#7201a8"
             ],
             [
              0.3333333333333333,
              "#9c179e"
             ],
             [
              0.4444444444444444,
              "#bd3786"
             ],
             [
              0.5555555555555556,
              "#d8576b"
             ],
             [
              0.6666666666666666,
              "#ed7953"
             ],
             [
              0.7777777777777778,
              "#fb9f3a"
             ],
             [
              0.8888888888888888,
              "#fdca26"
             ],
             [
              1,
              "#f0f921"
             ]
            ],
            "type": "contour"
           }
          ],
          "contourcarpet": [
           {
            "colorbar": {
             "outlinewidth": 0,
             "ticks": ""
            },
            "type": "contourcarpet"
           }
          ],
          "heatmap": [
           {
            "colorbar": {
             "outlinewidth": 0,
             "ticks": ""
            },
            "colorscale": [
             [
              0,
              "#0d0887"
             ],
             [
              0.1111111111111111,
              "#46039f"
             ],
             [
              0.2222222222222222,
              "#7201a8"
             ],
             [
              0.3333333333333333,
              "#9c179e"
             ],
             [
              0.4444444444444444,
              "#bd3786"
             ],
             [
              0.5555555555555556,
              "#d8576b"
             ],
             [
              0.6666666666666666,
              "#ed7953"
             ],
             [
              0.7777777777777778,
              "#fb9f3a"
             ],
             [
              0.8888888888888888,
              "#fdca26"
             ],
             [
              1,
              "#f0f921"
             ]
            ],
            "type": "heatmap"
           }
          ],
          "heatmapgl": [
           {
            "colorbar": {
             "outlinewidth": 0,
             "ticks": ""
            },
            "colorscale": [
             [
              0,
              "#0d0887"
             ],
             [
              0.1111111111111111,
              "#46039f"
             ],
             [
              0.2222222222222222,
              "#7201a8"
             ],
             [
              0.3333333333333333,
              "#9c179e"
             ],
             [
              0.4444444444444444,
              "#bd3786"
             ],
             [
              0.5555555555555556,
              "#d8576b"
             ],
             [
              0.6666666666666666,
              "#ed7953"
             ],
             [
              0.7777777777777778,
              "#fb9f3a"
             ],
             [
              0.8888888888888888,
              "#fdca26"
             ],
             [
              1,
              "#f0f921"
             ]
            ],
            "type": "heatmapgl"
           }
          ],
          "histogram": [
           {
            "marker": {
             "pattern": {
              "fillmode": "overlay",
              "size": 10,
              "solidity": 0.2
             }
            },
            "type": "histogram"
           }
          ],
          "histogram2d": [
           {
            "colorbar": {
             "outlinewidth": 0,
             "ticks": ""
            },
            "colorscale": [
             [
              0,
              "#0d0887"
             ],
             [
              0.1111111111111111,
              "#46039f"
             ],
             [
              0.2222222222222222,
              "#7201a8"
             ],
             [
              0.3333333333333333,
              "#9c179e"
             ],
             [
              0.4444444444444444,
              "#bd3786"
             ],
             [
              0.5555555555555556,
              "#d8576b"
             ],
             [
              0.6666666666666666,
              "#ed7953"
             ],
             [
              0.7777777777777778,
              "#fb9f3a"
             ],
             [
              0.8888888888888888,
              "#fdca26"
             ],
             [
              1,
              "#f0f921"
             ]
            ],
            "type": "histogram2d"
           }
          ],
          "histogram2dcontour": [
           {
            "colorbar": {
             "outlinewidth": 0,
             "ticks": ""
            },
            "colorscale": [
             [
              0,
              "#0d0887"
             ],
             [
              0.1111111111111111,
              "#46039f"
             ],
             [
              0.2222222222222222,
              "#7201a8"
             ],
             [
              0.3333333333333333,
              "#9c179e"
             ],
             [
              0.4444444444444444,
              "#bd3786"
             ],
             [
              0.5555555555555556,
              "#d8576b"
             ],
             [
              0.6666666666666666,
              "#ed7953"
             ],
             [
              0.7777777777777778,
              "#fb9f3a"
             ],
             [
              0.8888888888888888,
              "#fdca26"
             ],
             [
              1,
              "#f0f921"
             ]
            ],
            "type": "histogram2dcontour"
           }
          ],
          "mesh3d": [
           {
            "colorbar": {
             "outlinewidth": 0,
             "ticks": ""
            },
            "type": "mesh3d"
           }
          ],
          "parcoords": [
           {
            "line": {
             "colorbar": {
              "outlinewidth": 0,
              "ticks": ""
             }
            },
            "type": "parcoords"
           }
          ],
          "pie": [
           {
            "automargin": true,
            "type": "pie"
           }
          ],
          "scatter": [
           {
            "fillpattern": {
             "fillmode": "overlay",
             "size": 10,
             "solidity": 0.2
            },
            "type": "scatter"
           }
          ],
          "scatter3d": [
           {
            "line": {
             "colorbar": {
              "outlinewidth": 0,
              "ticks": ""
             }
            },
            "marker": {
             "colorbar": {
              "outlinewidth": 0,
              "ticks": ""
             }
            },
            "type": "scatter3d"
           }
          ],
          "scattercarpet": [
           {
            "marker": {
             "colorbar": {
              "outlinewidth": 0,
              "ticks": ""
             }
            },
            "type": "scattercarpet"
           }
          ],
          "scattergeo": [
           {
            "marker": {
             "colorbar": {
              "outlinewidth": 0,
              "ticks": ""
             }
            },
            "type": "scattergeo"
           }
          ],
          "scattergl": [
           {
            "marker": {
             "colorbar": {
              "outlinewidth": 0,
              "ticks": ""
             }
            },
            "type": "scattergl"
           }
          ],
          "scattermapbox": [
           {
            "marker": {
             "colorbar": {
              "outlinewidth": 0,
              "ticks": ""
             }
            },
            "type": "scattermapbox"
           }
          ],
          "scatterpolar": [
           {
            "marker": {
             "colorbar": {
              "outlinewidth": 0,
              "ticks": ""
             }
            },
            "type": "scatterpolar"
           }
          ],
          "scatterpolargl": [
           {
            "marker": {
             "colorbar": {
              "outlinewidth": 0,
              "ticks": ""
             }
            },
            "type": "scatterpolargl"
           }
          ],
          "scatterternary": [
           {
            "marker": {
             "colorbar": {
              "outlinewidth": 0,
              "ticks": ""
             }
            },
            "type": "scatterternary"
           }
          ],
          "surface": [
           {
            "colorbar": {
             "outlinewidth": 0,
             "ticks": ""
            },
            "colorscale": [
             [
              0,
              "#0d0887"
             ],
             [
              0.1111111111111111,
              "#46039f"
             ],
             [
              0.2222222222222222,
              "#7201a8"
             ],
             [
              0.3333333333333333,
              "#9c179e"
             ],
             [
              0.4444444444444444,
              "#bd3786"
             ],
             [
              0.5555555555555556,
              "#d8576b"
             ],
             [
              0.6666666666666666,
              "#ed7953"
             ],
             [
              0.7777777777777778,
              "#fb9f3a"
             ],
             [
              0.8888888888888888,
              "#fdca26"
             ],
             [
              1,
              "#f0f921"
             ]
            ],
            "type": "surface"
           }
          ],
          "table": [
           {
            "cells": {
             "fill": {
              "color": "#EBF0F8"
             },
             "line": {
              "color": "white"
             }
            },
            "header": {
             "fill": {
              "color": "#C8D4E3"
             },
             "line": {
              "color": "white"
             }
            },
            "type": "table"
           }
          ]
         },
         "layout": {
          "annotationdefaults": {
           "arrowcolor": "#2a3f5f",
           "arrowhead": 0,
           "arrowwidth": 1
          },
          "autotypenumbers": "strict",
          "coloraxis": {
           "colorbar": {
            "outlinewidth": 0,
            "ticks": ""
           }
          },
          "colorscale": {
           "diverging": [
            [
             0,
             "#8e0152"
            ],
            [
             0.1,
             "#c51b7d"
            ],
            [
             0.2,
             "#de77ae"
            ],
            [
             0.3,
             "#f1b6da"
            ],
            [
             0.4,
             "#fde0ef"
            ],
            [
             0.5,
             "#f7f7f7"
            ],
            [
             0.6,
             "#e6f5d0"
            ],
            [
             0.7,
             "#b8e186"
            ],
            [
             0.8,
             "#7fbc41"
            ],
            [
             0.9,
             "#4d9221"
            ],
            [
             1,
             "#276419"
            ]
           ],
           "sequential": [
            [
             0,
             "#0d0887"
            ],
            [
             0.1111111111111111,
             "#46039f"
            ],
            [
             0.2222222222222222,
             "#7201a8"
            ],
            [
             0.3333333333333333,
             "#9c179e"
            ],
            [
             0.4444444444444444,
             "#bd3786"
            ],
            [
             0.5555555555555556,
             "#d8576b"
            ],
            [
             0.6666666666666666,
             "#ed7953"
            ],
            [
             0.7777777777777778,
             "#fb9f3a"
            ],
            [
             0.8888888888888888,
             "#fdca26"
            ],
            [
             1,
             "#f0f921"
            ]
           ],
           "sequentialminus": [
            [
             0,
             "#0d0887"
            ],
            [
             0.1111111111111111,
             "#46039f"
            ],
            [
             0.2222222222222222,
             "#7201a8"
            ],
            [
             0.3333333333333333,
             "#9c179e"
            ],
            [
             0.4444444444444444,
             "#bd3786"
            ],
            [
             0.5555555555555556,
             "#d8576b"
            ],
            [
             0.6666666666666666,
             "#ed7953"
            ],
            [
             0.7777777777777778,
             "#fb9f3a"
            ],
            [
             0.8888888888888888,
             "#fdca26"
            ],
            [
             1,
             "#f0f921"
            ]
           ]
          },
          "colorway": [
           "#636efa",
           "#EF553B",
           "#00cc96",
           "#ab63fa",
           "#FFA15A",
           "#19d3f3",
           "#FF6692",
           "#B6E880",
           "#FF97FF",
           "#FECB52"
          ],
          "font": {
           "color": "#2a3f5f"
          },
          "geo": {
           "bgcolor": "white",
           "lakecolor": "white",
           "landcolor": "#E5ECF6",
           "showlakes": true,
           "showland": true,
           "subunitcolor": "white"
          },
          "hoverlabel": {
           "align": "left"
          },
          "hovermode": "closest",
          "mapbox": {
           "style": "light"
          },
          "paper_bgcolor": "white",
          "plot_bgcolor": "#E5ECF6",
          "polar": {
           "angularaxis": {
            "gridcolor": "white",
            "linecolor": "white",
            "ticks": ""
           },
           "bgcolor": "#E5ECF6",
           "radialaxis": {
            "gridcolor": "white",
            "linecolor": "white",
            "ticks": ""
           }
          },
          "scene": {
           "xaxis": {
            "backgroundcolor": "#E5ECF6",
            "gridcolor": "white",
            "gridwidth": 2,
            "linecolor": "white",
            "showbackground": true,
            "ticks": "",
            "zerolinecolor": "white"
           },
           "yaxis": {
            "backgroundcolor": "#E5ECF6",
            "gridcolor": "white",
            "gridwidth": 2,
            "linecolor": "white",
            "showbackground": true,
            "ticks": "",
            "zerolinecolor": "white"
           },
           "zaxis": {
            "backgroundcolor": "#E5ECF6",
            "gridcolor": "white",
            "gridwidth": 2,
            "linecolor": "white",
            "showbackground": true,
            "ticks": "",
            "zerolinecolor": "white"
           }
          },
          "shapedefaults": {
           "line": {
            "color": "#2a3f5f"
           }
          },
          "ternary": {
           "aaxis": {
            "gridcolor": "white",
            "linecolor": "white",
            "ticks": ""
           },
           "baxis": {
            "gridcolor": "white",
            "linecolor": "white",
            "ticks": ""
           },
           "bgcolor": "#E5ECF6",
           "caxis": {
            "gridcolor": "white",
            "linecolor": "white",
            "ticks": ""
           }
          },
          "title": {
           "x": 0.05
          },
          "xaxis": {
           "automargin": true,
           "gridcolor": "white",
           "linecolor": "white",
           "ticks": "",
           "title": {
            "standoff": 15
           },
           "zerolinecolor": "white",
           "zerolinewidth": 2
          },
          "yaxis": {
           "automargin": true,
           "gridcolor": "white",
           "linecolor": "white",
           "ticks": "",
           "title": {
            "standoff": 15
           },
           "zerolinecolor": "white",
           "zerolinewidth": 2
          }
         }
        },
        "title": {
         "text": "Percentage of Household in Positive and Negative Savings"
        },
        "width": 1000,
        "xaxis": {
         "anchor": "y",
         "domain": [
          0,
          0.2888888888888889
         ],
         "tickformat": ",.0%",
         "title": {
          "text": "Bill"
         },
         "visible": true
        },
        "xaxis2": {
         "anchor": "y2",
         "domain": [
          0.35555555555555557,
          0.6444444444444445
         ],
         "tickformat": ",.0%",
         "title": {
          "text": "Emission"
         },
         "visible": true
        },
        "xaxis3": {
         "anchor": "y3",
         "domain": [
          0.7111111111111111,
          1
         ],
         "tickformat": ",.0%",
         "title": {
          "text": "Total Energy"
         },
         "visible": true
        },
        "yaxis": {
         "anchor": "x",
         "domain": [
          0,
          1
         ],
         "visible": true
        },
        "yaxis2": {
         "anchor": "x2",
         "domain": [
          0,
          1
         ],
         "visible": false
        },
        "yaxis3": {
         "anchor": "x3",
         "domain": [
          0,
          1
         ],
         "visible": false
        }
       }
      },
      "text/html": [
       "<div>                            <div id=\"75838a73-478b-471f-8750-1b1ba4ad5056\" class=\"plotly-graph-div\" style=\"height:500px; width:1000px;\"></div>            <script type=\"text/javascript\">                require([\"plotly\"], function(Plotly) {                    window.PLOTLYENV=window.PLOTLYENV || {};                                    if (document.getElementById(\"75838a73-478b-471f-8750-1b1ba4ad5056\")) {                    Plotly.newPlot(                        \"75838a73-478b-471f-8750-1b1ba4ad5056\",                        [{\"marker\":{\"color\":\"red\"},\"name\":\"Negative\",\"orientation\":\"h\",\"text\":[1.0,1.0,0.9130434782608695,0.76,0.5,0.48,0.32,0.08,0.08,0.08,0.08,0.08,0.08,0.04,0.0,0.0],\"x\":[1.0,1.0,0.9130434782608695,0.76,0.5,0.48,0.32,0.08,0.08,0.08,0.08,0.08,0.08,0.04,0.0,0.0],\"y\":[\"Electric Clothes Dryer\",\"Electric Cooking\",\"Mininum Efficiency Whole Home Electrification\",\"Mininum Efficiency Heat Pump with Electric Heat Backup\",\"Mininum Efficiency Heat Pump with Existing Heat Backup\",\"Induction Cooking\",\"Heat Pump Clothes Dryer\",\"Basic Enclosure + HPWH + High Efficiency HP/Electric Backup\",\"Basic Enclosure + High Efficiency Whole Home Electrification\",\"Enhanced Enclosure + HPWH + High Efficiency HP/Electric Backup\",\"Enhanced Enclosure + High Efficiency Whole Home Electrification\",\"High Efficiency Heat Pump with Electric Heat Backup\",\"High Efficiency Whole Home Electrification\",\"Heat Pump Water Heater\",\"Basic Enclosure\",\"Enhanced Enclosure\"],\"type\":\"bar\",\"xaxis\":\"x\",\"yaxis\":\"y\",\"textposition\":\"inside\",\"texttemplate\":\"%{text:.0%}\"},{\"marker\":{\"color\":\"green\"},\"name\":\"Positive\",\"orientation\":\"h\",\"text\":[0.0,0.0,0.08695652173913043,0.24,0.5,0.52,0.68,0.92,0.92,0.92,0.92,0.92,0.92,0.96,1.0,1.0],\"x\":[0.0,0.0,0.08695652173913043,0.24,0.5,0.52,0.68,0.92,0.92,0.92,0.92,0.92,0.92,0.96,1.0,1.0],\"y\":[\"Electric Clothes Dryer\",\"Electric Cooking\",\"Mininum Efficiency Whole Home Electrification\",\"Mininum Efficiency Heat Pump with Electric Heat Backup\",\"Mininum Efficiency Heat Pump with Existing Heat Backup\",\"Induction Cooking\",\"Heat Pump Clothes Dryer\",\"Basic Enclosure + HPWH + High Efficiency HP/Electric Backup\",\"Basic Enclosure + High Efficiency Whole Home Electrification\",\"Enhanced Enclosure + HPWH + High Efficiency HP/Electric Backup\",\"Enhanced Enclosure + High Efficiency Whole Home Electrification\",\"High Efficiency Heat Pump with Electric Heat Backup\",\"High Efficiency Whole Home Electrification\",\"Heat Pump Water Heater\",\"Basic Enclosure\",\"Enhanced Enclosure\"],\"type\":\"bar\",\"xaxis\":\"x\",\"yaxis\":\"y\",\"textposition\":\"inside\",\"texttemplate\":\"%{text:.0%}\"},{\"marker\":{\"color\":\"red\"},\"orientation\":\"h\",\"showlegend\":false,\"text\":[0.0,0.0,0.043478260869565216,0.04,0.0,0.0,0.0,0.04,0.04,0.04,0.04,0.04,0.04,0.0,0.0,0.0],\"x\":[0.0,0.0,0.043478260869565216,0.04,0.0,0.0,0.0,0.04,0.04,0.04,0.04,0.04,0.04,0.0,0.0,0.0],\"y\":[\"Electric Clothes Dryer\",\"Electric Cooking\",\"Mininum Efficiency Whole Home Electrification\",\"Mininum Efficiency Heat Pump with Electric Heat Backup\",\"Mininum Efficiency Heat Pump with Existing Heat Backup\",\"Induction Cooking\",\"Heat Pump Clothes Dryer\",\"Basic Enclosure + HPWH + High Efficiency HP/Electric Backup\",\"Basic Enclosure + High Efficiency Whole Home Electrification\",\"Enhanced Enclosure + HPWH + High Efficiency HP/Electric Backup\",\"Enhanced Enclosure + High Efficiency Whole Home Electrification\",\"High Efficiency Heat Pump with Electric Heat Backup\",\"High Efficiency Whole Home Electrification\",\"Heat Pump Water Heater\",\"Basic Enclosure\",\"Enhanced Enclosure\"],\"type\":\"bar\",\"xaxis\":\"x2\",\"yaxis\":\"y2\",\"textposition\":\"inside\",\"texttemplate\":\"%{text:.0%}\"},{\"marker\":{\"color\":\"green\"},\"orientation\":\"h\",\"showlegend\":false,\"text\":[1.0,1.0,0.9565217391304348,0.96,1.0,1.0,1.0,0.96,0.96,0.96,0.96,0.96,0.96,1.0,1.0,1.0],\"x\":[1.0,1.0,0.9565217391304348,0.96,1.0,1.0,1.0,0.96,0.96,0.96,0.96,0.96,0.96,1.0,1.0,1.0],\"y\":[\"Electric Clothes Dryer\",\"Electric Cooking\",\"Mininum Efficiency Whole Home Electrification\",\"Mininum Efficiency Heat Pump with Electric Heat Backup\",\"Mininum Efficiency Heat Pump with Existing Heat Backup\",\"Induction Cooking\",\"Heat Pump Clothes Dryer\",\"Basic Enclosure + HPWH + High Efficiency HP/Electric Backup\",\"Basic Enclosure + High Efficiency Whole Home Electrification\",\"Enhanced Enclosure + HPWH + High Efficiency HP/Electric Backup\",\"Enhanced Enclosure + High Efficiency Whole Home Electrification\",\"High Efficiency Heat Pump with Electric Heat Backup\",\"High Efficiency Whole Home Electrification\",\"Heat Pump Water Heater\",\"Basic Enclosure\",\"Enhanced Enclosure\"],\"type\":\"bar\",\"xaxis\":\"x2\",\"yaxis\":\"y2\",\"textposition\":\"inside\",\"texttemplate\":\"%{text:.0%}\"},{\"marker\":{\"color\":\"red\"},\"orientation\":\"h\",\"showlegend\":false,\"text\":[0.0,0.0,0.043478260869565216,0.04,0.0,0.0,0.0,0.04,0.04,0.04,0.04,0.04,0.04,0.0,0.0,0.0],\"x\":[0.0,0.0,0.043478260869565216,0.04,0.0,0.0,0.0,0.04,0.04,0.04,0.04,0.04,0.04,0.0,0.0,0.0],\"y\":[\"Electric Clothes Dryer\",\"Electric Cooking\",\"Mininum Efficiency Whole Home Electrification\",\"Mininum Efficiency Heat Pump with Electric Heat Backup\",\"Mininum Efficiency Heat Pump with Existing Heat Backup\",\"Induction Cooking\",\"Heat Pump Clothes Dryer\",\"Basic Enclosure + HPWH + High Efficiency HP/Electric Backup\",\"Basic Enclosure + High Efficiency Whole Home Electrification\",\"Enhanced Enclosure + HPWH + High Efficiency HP/Electric Backup\",\"Enhanced Enclosure + High Efficiency Whole Home Electrification\",\"High Efficiency Heat Pump with Electric Heat Backup\",\"High Efficiency Whole Home Electrification\",\"Heat Pump Water Heater\",\"Basic Enclosure\",\"Enhanced Enclosure\"],\"type\":\"bar\",\"xaxis\":\"x3\",\"yaxis\":\"y3\",\"textposition\":\"inside\",\"texttemplate\":\"%{text:.0%}\"},{\"marker\":{\"color\":\"green\"},\"orientation\":\"h\",\"showlegend\":false,\"text\":[1.0,1.0,0.9565217391304348,0.96,1.0,1.0,1.0,0.96,0.96,0.96,0.96,0.96,0.96,1.0,1.0,1.0],\"x\":[1.0,1.0,0.9565217391304348,0.96,1.0,1.0,1.0,0.96,0.96,0.96,0.96,0.96,0.96,1.0,1.0,1.0],\"y\":[\"Electric Clothes Dryer\",\"Electric Cooking\",\"Mininum Efficiency Whole Home Electrification\",\"Mininum Efficiency Heat Pump with Electric Heat Backup\",\"Mininum Efficiency Heat Pump with Existing Heat Backup\",\"Induction Cooking\",\"Heat Pump Clothes Dryer\",\"Basic Enclosure + HPWH + High Efficiency HP/Electric Backup\",\"Basic Enclosure + High Efficiency Whole Home Electrification\",\"Enhanced Enclosure + HPWH + High Efficiency HP/Electric Backup\",\"Enhanced Enclosure + High Efficiency Whole Home Electrification\",\"High Efficiency Heat Pump with Electric Heat Backup\",\"High Efficiency Whole Home Electrification\",\"Heat Pump Water Heater\",\"Basic Enclosure\",\"Enhanced Enclosure\"],\"type\":\"bar\",\"xaxis\":\"x3\",\"yaxis\":\"y3\",\"textposition\":\"inside\",\"texttemplate\":\"%{text:.0%}\"}],                        {\"template\":{\"data\":{\"histogram2dcontour\":[{\"type\":\"histogram2dcontour\",\"colorbar\":{\"outlinewidth\":0,\"ticks\":\"\"},\"colorscale\":[[0.0,\"#0d0887\"],[0.1111111111111111,\"#46039f\"],[0.2222222222222222,\"#7201a8\"],[0.3333333333333333,\"#9c179e\"],[0.4444444444444444,\"#bd3786\"],[0.5555555555555556,\"#d8576b\"],[0.6666666666666666,\"#ed7953\"],[0.7777777777777778,\"#fb9f3a\"],[0.8888888888888888,\"#fdca26\"],[1.0,\"#f0f921\"]]}],\"choropleth\":[{\"type\":\"choropleth\",\"colorbar\":{\"outlinewidth\":0,\"ticks\":\"\"}}],\"histogram2d\":[{\"type\":\"histogram2d\",\"colorbar\":{\"outlinewidth\":0,\"ticks\":\"\"},\"colorscale\":[[0.0,\"#0d0887\"],[0.1111111111111111,\"#46039f\"],[0.2222222222222222,\"#7201a8\"],[0.3333333333333333,\"#9c179e\"],[0.4444444444444444,\"#bd3786\"],[0.5555555555555556,\"#d8576b\"],[0.6666666666666666,\"#ed7953\"],[0.7777777777777778,\"#fb9f3a\"],[0.8888888888888888,\"#fdca26\"],[1.0,\"#f0f921\"]]}],\"heatmap\":[{\"type\":\"heatmap\",\"colorbar\":{\"outlinewidth\":0,\"ticks\":\"\"},\"colorscale\":[[0.0,\"#0d0887\"],[0.1111111111111111,\"#46039f\"],[0.2222222222222222,\"#7201a8\"],[0.3333333333333333,\"#9c179e\"],[0.4444444444444444,\"#bd3786\"],[0.5555555555555556,\"#d8576b\"],[0.6666666666666666,\"#ed7953\"],[0.7777777777777778,\"#fb9f3a\"],[0.8888888888888888,\"#fdca26\"],[1.0,\"#f0f921\"]]}],\"heatmapgl\":[{\"type\":\"heatmapgl\",\"colorbar\":{\"outlinewidth\":0,\"ticks\":\"\"},\"colorscale\":[[0.0,\"#0d0887\"],[0.1111111111111111,\"#46039f\"],[0.2222222222222222,\"#7201a8\"],[0.3333333333333333,\"#9c179e\"],[0.4444444444444444,\"#bd3786\"],[0.5555555555555556,\"#d8576b\"],[0.6666666666666666,\"#ed7953\"],[0.7777777777777778,\"#fb9f3a\"],[0.8888888888888888,\"#fdca26\"],[1.0,\"#f0f921\"]]}],\"contourcarpet\":[{\"type\":\"contourcarpet\",\"colorbar\":{\"outlinewidth\":0,\"ticks\":\"\"}}],\"contour\":[{\"type\":\"contour\",\"colorbar\":{\"outlinewidth\":0,\"ticks\":\"\"},\"colorscale\":[[0.0,\"#0d0887\"],[0.1111111111111111,\"#46039f\"],[0.2222222222222222,\"#7201a8\"],[0.3333333333333333,\"#9c179e\"],[0.4444444444444444,\"#bd3786\"],[0.5555555555555556,\"#d8576b\"],[0.6666666666666666,\"#ed7953\"],[0.7777777777777778,\"#fb9f3a\"],[0.8888888888888888,\"#fdca26\"],[1.0,\"#f0f921\"]]}],\"surface\":[{\"type\":\"surface\",\"colorbar\":{\"outlinewidth\":0,\"ticks\":\"\"},\"colorscale\":[[0.0,\"#0d0887\"],[0.1111111111111111,\"#46039f\"],[0.2222222222222222,\"#7201a8\"],[0.3333333333333333,\"#9c179e\"],[0.4444444444444444,\"#bd3786\"],[0.5555555555555556,\"#d8576b\"],[0.6666666666666666,\"#ed7953\"],[0.7777777777777778,\"#fb9f3a\"],[0.8888888888888888,\"#fdca26\"],[1.0,\"#f0f921\"]]}],\"mesh3d\":[{\"type\":\"mesh3d\",\"colorbar\":{\"outlinewidth\":0,\"ticks\":\"\"}}],\"scatter\":[{\"fillpattern\":{\"fillmode\":\"overlay\",\"size\":10,\"solidity\":0.2},\"type\":\"scatter\"}],\"parcoords\":[{\"type\":\"parcoords\",\"line\":{\"colorbar\":{\"outlinewidth\":0,\"ticks\":\"\"}}}],\"scatterpolargl\":[{\"type\":\"scatterpolargl\",\"marker\":{\"colorbar\":{\"outlinewidth\":0,\"ticks\":\"\"}}}],\"bar\":[{\"error_x\":{\"color\":\"#2a3f5f\"},\"error_y\":{\"color\":\"#2a3f5f\"},\"marker\":{\"line\":{\"color\":\"#E5ECF6\",\"width\":0.5},\"pattern\":{\"fillmode\":\"overlay\",\"size\":10,\"solidity\":0.2}},\"type\":\"bar\"}],\"scattergeo\":[{\"type\":\"scattergeo\",\"marker\":{\"colorbar\":{\"outlinewidth\":0,\"ticks\":\"\"}}}],\"scatterpolar\":[{\"type\":\"scatterpolar\",\"marker\":{\"colorbar\":{\"outlinewidth\":0,\"ticks\":\"\"}}}],\"histogram\":[{\"marker\":{\"pattern\":{\"fillmode\":\"overlay\",\"size\":10,\"solidity\":0.2}},\"type\":\"histogram\"}],\"scattergl\":[{\"type\":\"scattergl\",\"marker\":{\"colorbar\":{\"outlinewidth\":0,\"ticks\":\"\"}}}],\"scatter3d\":[{\"type\":\"scatter3d\",\"line\":{\"colorbar\":{\"outlinewidth\":0,\"ticks\":\"\"}},\"marker\":{\"colorbar\":{\"outlinewidth\":0,\"ticks\":\"\"}}}],\"scattermapbox\":[{\"type\":\"scattermapbox\",\"marker\":{\"colorbar\":{\"outlinewidth\":0,\"ticks\":\"\"}}}],\"scatterternary\":[{\"type\":\"scatterternary\",\"marker\":{\"colorbar\":{\"outlinewidth\":0,\"ticks\":\"\"}}}],\"scattercarpet\":[{\"type\":\"scattercarpet\",\"marker\":{\"colorbar\":{\"outlinewidth\":0,\"ticks\":\"\"}}}],\"carpet\":[{\"aaxis\":{\"endlinecolor\":\"#2a3f5f\",\"gridcolor\":\"white\",\"linecolor\":\"white\",\"minorgridcolor\":\"white\",\"startlinecolor\":\"#2a3f5f\"},\"baxis\":{\"endlinecolor\":\"#2a3f5f\",\"gridcolor\":\"white\",\"linecolor\":\"white\",\"minorgridcolor\":\"white\",\"startlinecolor\":\"#2a3f5f\"},\"type\":\"carpet\"}],\"table\":[{\"cells\":{\"fill\":{\"color\":\"#EBF0F8\"},\"line\":{\"color\":\"white\"}},\"header\":{\"fill\":{\"color\":\"#C8D4E3\"},\"line\":{\"color\":\"white\"}},\"type\":\"table\"}],\"barpolar\":[{\"marker\":{\"line\":{\"color\":\"#E5ECF6\",\"width\":0.5},\"pattern\":{\"fillmode\":\"overlay\",\"size\":10,\"solidity\":0.2}},\"type\":\"barpolar\"}],\"pie\":[{\"automargin\":true,\"type\":\"pie\"}]},\"layout\":{\"autotypenumbers\":\"strict\",\"colorway\":[\"#636efa\",\"#EF553B\",\"#00cc96\",\"#ab63fa\",\"#FFA15A\",\"#19d3f3\",\"#FF6692\",\"#B6E880\",\"#FF97FF\",\"#FECB52\"],\"font\":{\"color\":\"#2a3f5f\"},\"hovermode\":\"closest\",\"hoverlabel\":{\"align\":\"left\"},\"paper_bgcolor\":\"white\",\"plot_bgcolor\":\"#E5ECF6\",\"polar\":{\"bgcolor\":\"#E5ECF6\",\"angularaxis\":{\"gridcolor\":\"white\",\"linecolor\":\"white\",\"ticks\":\"\"},\"radialaxis\":{\"gridcolor\":\"white\",\"linecolor\":\"white\",\"ticks\":\"\"}},\"ternary\":{\"bgcolor\":\"#E5ECF6\",\"aaxis\":{\"gridcolor\":\"white\",\"linecolor\":\"white\",\"ticks\":\"\"},\"baxis\":{\"gridcolor\":\"white\",\"linecolor\":\"white\",\"ticks\":\"\"},\"caxis\":{\"gridcolor\":\"white\",\"linecolor\":\"white\",\"ticks\":\"\"}},\"coloraxis\":{\"colorbar\":{\"outlinewidth\":0,\"ticks\":\"\"}},\"colorscale\":{\"sequential\":[[0.0,\"#0d0887\"],[0.1111111111111111,\"#46039f\"],[0.2222222222222222,\"#7201a8\"],[0.3333333333333333,\"#9c179e\"],[0.4444444444444444,\"#bd3786\"],[0.5555555555555556,\"#d8576b\"],[0.6666666666666666,\"#ed7953\"],[0.7777777777777778,\"#fb9f3a\"],[0.8888888888888888,\"#fdca26\"],[1.0,\"#f0f921\"]],\"sequentialminus\":[[0.0,\"#0d0887\"],[0.1111111111111111,\"#46039f\"],[0.2222222222222222,\"#7201a8\"],[0.3333333333333333,\"#9c179e\"],[0.4444444444444444,\"#bd3786\"],[0.5555555555555556,\"#d8576b\"],[0.6666666666666666,\"#ed7953\"],[0.7777777777777778,\"#fb9f3a\"],[0.8888888888888888,\"#fdca26\"],[1.0,\"#f0f921\"]],\"diverging\":[[0,\"#8e0152\"],[0.1,\"#c51b7d\"],[0.2,\"#de77ae\"],[0.3,\"#f1b6da\"],[0.4,\"#fde0ef\"],[0.5,\"#f7f7f7\"],[0.6,\"#e6f5d0\"],[0.7,\"#b8e186\"],[0.8,\"#7fbc41\"],[0.9,\"#4d9221\"],[1,\"#276419\"]]},\"xaxis\":{\"gridcolor\":\"white\",\"linecolor\":\"white\",\"ticks\":\"\",\"title\":{\"standoff\":15},\"zerolinecolor\":\"white\",\"automargin\":true,\"zerolinewidth\":2},\"yaxis\":{\"gridcolor\":\"white\",\"linecolor\":\"white\",\"ticks\":\"\",\"title\":{\"standoff\":15},\"zerolinecolor\":\"white\",\"automargin\":true,\"zerolinewidth\":2},\"scene\":{\"xaxis\":{\"backgroundcolor\":\"#E5ECF6\",\"gridcolor\":\"white\",\"linecolor\":\"white\",\"showbackground\":true,\"ticks\":\"\",\"zerolinecolor\":\"white\",\"gridwidth\":2},\"yaxis\":{\"backgroundcolor\":\"#E5ECF6\",\"gridcolor\":\"white\",\"linecolor\":\"white\",\"showbackground\":true,\"ticks\":\"\",\"zerolinecolor\":\"white\",\"gridwidth\":2},\"zaxis\":{\"backgroundcolor\":\"#E5ECF6\",\"gridcolor\":\"white\",\"linecolor\":\"white\",\"showbackground\":true,\"ticks\":\"\",\"zerolinecolor\":\"white\",\"gridwidth\":2}},\"shapedefaults\":{\"line\":{\"color\":\"#2a3f5f\"}},\"annotationdefaults\":{\"arrowcolor\":\"#2a3f5f\",\"arrowhead\":0,\"arrowwidth\":1},\"geo\":{\"bgcolor\":\"white\",\"landcolor\":\"#E5ECF6\",\"subunitcolor\":\"white\",\"showland\":true,\"showlakes\":true,\"lakecolor\":\"white\"},\"title\":{\"x\":0.05},\"mapbox\":{\"style\":\"light\"}}},\"xaxis\":{\"anchor\":\"y\",\"domain\":[0.0,0.2888888888888889],\"title\":{\"text\":\"Bill\"},\"visible\":true,\"tickformat\":\",.0%\"},\"yaxis\":{\"anchor\":\"x\",\"domain\":[0.0,1.0],\"visible\":true},\"xaxis2\":{\"anchor\":\"y2\",\"domain\":[0.35555555555555557,0.6444444444444445],\"title\":{\"text\":\"Emission\"},\"visible\":true,\"tickformat\":\",.0%\"},\"yaxis2\":{\"anchor\":\"x2\",\"domain\":[0.0,1.0],\"visible\":false},\"xaxis3\":{\"anchor\":\"y3\",\"domain\":[0.7111111111111111,1.0],\"title\":{\"text\":\"Total Energy\"},\"visible\":true,\"tickformat\":\",.0%\"},\"yaxis3\":{\"anchor\":\"x3\",\"domain\":[0.0,1.0],\"visible\":false},\"barmode\":\"relative\",\"font\":{\"size\":10},\"title\":{\"text\":\"Percentage of Household in Positive and Negative Savings\"},\"autosize\":false,\"width\":1000,\"height\":500},                        {\"responsive\": true}                    ).then(function(){\n",
       "                            \n",
       "var gd = document.getElementById('75838a73-478b-471f-8750-1b1ba4ad5056');\n",
       "var x = new MutationObserver(function (mutations, observer) {{\n",
       "        var display = window.getComputedStyle(gd).display;\n",
       "        if (!display || display === 'none') {{\n",
       "            console.log([gd, 'removed!']);\n",
       "            Plotly.purge(gd);\n",
       "            observer.disconnect();\n",
       "        }}\n",
       "}});\n",
       "\n",
       "// Listen for the removal of the full notebook cells\n",
       "var notebookContainer = gd.closest('#notebook-container');\n",
       "if (notebookContainer) {{\n",
       "    x.observe(notebookContainer, {childList: true});\n",
       "}}\n",
       "\n",
       "// Listen for the clearing of the current output cell\n",
       "var outputEl = gd.closest('.output');\n",
       "if (outputEl) {{\n",
       "    x.observe(outputEl, {childList: true});\n",
       "}}\n",
       "\n",
       "                        })                };                });            </script>        </div>"
      ]
     },
     "metadata": {},
     "output_type": "display_data"
    }
   ],
   "source": [
    "segment = 'segment1'\n",
    "results = figure_positive_negative_savings(segment, community_results) \n",
    "saving_results[f'segment1_{income}_pct_bill_positive_savings_%'] = results[0]*100\n",
    "saving_results[f'segment1_{income}_pct_emission_positive_savings_%'] = results[1]*100\n",
    "saving_results[f'segment1_{income}_pct_energy_positive_savings_%'] = results[2]*100"
   ]
  },
  {
   "cell_type": "markdown",
   "id": "f3357f7f",
   "metadata": {},
   "source": [
    "### Segment 2"
   ]
  },
  {
   "cell_type": "code",
   "execution_count": 224,
   "id": "362580ae",
   "metadata": {},
   "outputs": [
    {
     "data": {
      "application/vnd.plotly.v1+json": {
       "config": {
        "plotlyServerURL": "https://plot.ly"
       },
       "data": [
        {
         "marker": {
          "color": "red"
         },
         "name": "Negative",
         "orientation": "h",
         "text": [
          1,
          1,
          0.4,
          0.25,
          0.2,
          0,
          0,
          0,
          0,
          0,
          0,
          0,
          0,
          0,
          0
         ],
         "textposition": "inside",
         "texttemplate": "%{text:.0%}",
         "type": "bar",
         "x": [
          1,
          1,
          0.4,
          0.25,
          0.2,
          0,
          0,
          0,
          0,
          0,
          0,
          0,
          0,
          0,
          0
         ],
         "xaxis": "x",
         "y": [
          "Electric Cooking",
          "Mininum Efficiency Whole Home Electrification",
          "Mininum Efficiency Heat Pump with Electric Heat Backup",
          "Induction Cooking",
          "Mininum Efficiency Heat Pump with Existing Heat Backup",
          "Basic Enclosure",
          "Basic Enclosure + HPWH + High Efficiency HP/Electric Backup",
          "Basic Enclosure + High Efficiency Whole Home Electrification",
          "Enhanced Enclosure",
          "Enhanced Enclosure + HPWH + High Efficiency HP/Electric Backup",
          "Enhanced Enclosure + High Efficiency Whole Home Electrification",
          "Heat Pump Clothes Dryer",
          "Heat Pump Water Heater",
          "High Efficiency Heat Pump with Electric Heat Backup",
          "High Efficiency Whole Home Electrification"
         ],
         "yaxis": "y"
        },
        {
         "marker": {
          "color": "green"
         },
         "name": "Positive",
         "orientation": "h",
         "text": [
          0,
          0,
          0.6,
          0.75,
          0.8,
          1,
          1,
          1,
          1,
          1,
          1,
          1,
          1,
          1,
          1
         ],
         "textposition": "inside",
         "texttemplate": "%{text:.0%}",
         "type": "bar",
         "x": [
          0,
          0,
          0.6,
          0.75,
          0.8,
          1,
          1,
          1,
          1,
          1,
          1,
          1,
          1,
          1,
          1
         ],
         "xaxis": "x",
         "y": [
          "Electric Cooking",
          "Mininum Efficiency Whole Home Electrification",
          "Mininum Efficiency Heat Pump with Electric Heat Backup",
          "Induction Cooking",
          "Mininum Efficiency Heat Pump with Existing Heat Backup",
          "Basic Enclosure",
          "Basic Enclosure + HPWH + High Efficiency HP/Electric Backup",
          "Basic Enclosure + High Efficiency Whole Home Electrification",
          "Enhanced Enclosure",
          "Enhanced Enclosure + HPWH + High Efficiency HP/Electric Backup",
          "Enhanced Enclosure + High Efficiency Whole Home Electrification",
          "Heat Pump Clothes Dryer",
          "Heat Pump Water Heater",
          "High Efficiency Heat Pump with Electric Heat Backup",
          "High Efficiency Whole Home Electrification"
         ],
         "yaxis": "y"
        },
        {
         "marker": {
          "color": "red"
         },
         "orientation": "h",
         "showlegend": false,
         "text": [
          0,
          0,
          0,
          0,
          0,
          0,
          0,
          0,
          0,
          0,
          0,
          0,
          0,
          0,
          0
         ],
         "textposition": "inside",
         "texttemplate": "%{text:.0%}",
         "type": "bar",
         "x": [
          0,
          0,
          0,
          0,
          0,
          0,
          0,
          0,
          0,
          0,
          0,
          0,
          0,
          0,
          0
         ],
         "xaxis": "x2",
         "y": [
          "Electric Cooking",
          "Mininum Efficiency Whole Home Electrification",
          "Mininum Efficiency Heat Pump with Electric Heat Backup",
          "Induction Cooking",
          "Mininum Efficiency Heat Pump with Existing Heat Backup",
          "Basic Enclosure",
          "Basic Enclosure + HPWH + High Efficiency HP/Electric Backup",
          "Basic Enclosure + High Efficiency Whole Home Electrification",
          "Enhanced Enclosure",
          "Enhanced Enclosure + HPWH + High Efficiency HP/Electric Backup",
          "Enhanced Enclosure + High Efficiency Whole Home Electrification",
          "Heat Pump Clothes Dryer",
          "Heat Pump Water Heater",
          "High Efficiency Heat Pump with Electric Heat Backup",
          "High Efficiency Whole Home Electrification"
         ],
         "yaxis": "y2"
        },
        {
         "marker": {
          "color": "green"
         },
         "orientation": "h",
         "showlegend": false,
         "text": [
          1,
          1,
          1,
          1,
          1,
          1,
          1,
          1,
          1,
          1,
          1,
          1,
          1,
          1,
          1
         ],
         "textposition": "inside",
         "texttemplate": "%{text:.0%}",
         "type": "bar",
         "x": [
          1,
          1,
          1,
          1,
          1,
          1,
          1,
          1,
          1,
          1,
          1,
          1,
          1,
          1,
          1
         ],
         "xaxis": "x2",
         "y": [
          "Electric Cooking",
          "Mininum Efficiency Whole Home Electrification",
          "Mininum Efficiency Heat Pump with Electric Heat Backup",
          "Induction Cooking",
          "Mininum Efficiency Heat Pump with Existing Heat Backup",
          "Basic Enclosure",
          "Basic Enclosure + HPWH + High Efficiency HP/Electric Backup",
          "Basic Enclosure + High Efficiency Whole Home Electrification",
          "Enhanced Enclosure",
          "Enhanced Enclosure + HPWH + High Efficiency HP/Electric Backup",
          "Enhanced Enclosure + High Efficiency Whole Home Electrification",
          "Heat Pump Clothes Dryer",
          "Heat Pump Water Heater",
          "High Efficiency Heat Pump with Electric Heat Backup",
          "High Efficiency Whole Home Electrification"
         ],
         "yaxis": "y2"
        },
        {
         "marker": {
          "color": "red"
         },
         "orientation": "h",
         "showlegend": false,
         "text": [
          0,
          0,
          0,
          0,
          0,
          0,
          0,
          0,
          0,
          0,
          0,
          0,
          0,
          0,
          0
         ],
         "textposition": "inside",
         "texttemplate": "%{text:.0%}",
         "type": "bar",
         "x": [
          0,
          0,
          0,
          0,
          0,
          0,
          0,
          0,
          0,
          0,
          0,
          0,
          0,
          0,
          0
         ],
         "xaxis": "x3",
         "y": [
          "Electric Cooking",
          "Mininum Efficiency Whole Home Electrification",
          "Mininum Efficiency Heat Pump with Electric Heat Backup",
          "Induction Cooking",
          "Mininum Efficiency Heat Pump with Existing Heat Backup",
          "Basic Enclosure",
          "Basic Enclosure + HPWH + High Efficiency HP/Electric Backup",
          "Basic Enclosure + High Efficiency Whole Home Electrification",
          "Enhanced Enclosure",
          "Enhanced Enclosure + HPWH + High Efficiency HP/Electric Backup",
          "Enhanced Enclosure + High Efficiency Whole Home Electrification",
          "Heat Pump Clothes Dryer",
          "Heat Pump Water Heater",
          "High Efficiency Heat Pump with Electric Heat Backup",
          "High Efficiency Whole Home Electrification"
         ],
         "yaxis": "y3"
        },
        {
         "marker": {
          "color": "green"
         },
         "orientation": "h",
         "showlegend": false,
         "text": [
          1,
          1,
          1,
          1,
          1,
          1,
          1,
          1,
          1,
          1,
          1,
          1,
          1,
          1,
          1
         ],
         "textposition": "inside",
         "texttemplate": "%{text:.0%}",
         "type": "bar",
         "x": [
          1,
          1,
          1,
          1,
          1,
          1,
          1,
          1,
          1,
          1,
          1,
          1,
          1,
          1,
          1
         ],
         "xaxis": "x3",
         "y": [
          "Electric Cooking",
          "Mininum Efficiency Whole Home Electrification",
          "Mininum Efficiency Heat Pump with Electric Heat Backup",
          "Induction Cooking",
          "Mininum Efficiency Heat Pump with Existing Heat Backup",
          "Basic Enclosure",
          "Basic Enclosure + HPWH + High Efficiency HP/Electric Backup",
          "Basic Enclosure + High Efficiency Whole Home Electrification",
          "Enhanced Enclosure",
          "Enhanced Enclosure + HPWH + High Efficiency HP/Electric Backup",
          "Enhanced Enclosure + High Efficiency Whole Home Electrification",
          "Heat Pump Clothes Dryer",
          "Heat Pump Water Heater",
          "High Efficiency Heat Pump with Electric Heat Backup",
          "High Efficiency Whole Home Electrification"
         ],
         "yaxis": "y3"
        }
       ],
       "layout": {
        "autosize": false,
        "barmode": "relative",
        "font": {
         "size": 10
        },
        "height": 500,
        "template": {
         "data": {
          "bar": [
           {
            "error_x": {
             "color": "#2a3f5f"
            },
            "error_y": {
             "color": "#2a3f5f"
            },
            "marker": {
             "line": {
              "color": "#E5ECF6",
              "width": 0.5
             },
             "pattern": {
              "fillmode": "overlay",
              "size": 10,
              "solidity": 0.2
             }
            },
            "type": "bar"
           }
          ],
          "barpolar": [
           {
            "marker": {
             "line": {
              "color": "#E5ECF6",
              "width": 0.5
             },
             "pattern": {
              "fillmode": "overlay",
              "size": 10,
              "solidity": 0.2
             }
            },
            "type": "barpolar"
           }
          ],
          "carpet": [
           {
            "aaxis": {
             "endlinecolor": "#2a3f5f",
             "gridcolor": "white",
             "linecolor": "white",
             "minorgridcolor": "white",
             "startlinecolor": "#2a3f5f"
            },
            "baxis": {
             "endlinecolor": "#2a3f5f",
             "gridcolor": "white",
             "linecolor": "white",
             "minorgridcolor": "white",
             "startlinecolor": "#2a3f5f"
            },
            "type": "carpet"
           }
          ],
          "choropleth": [
           {
            "colorbar": {
             "outlinewidth": 0,
             "ticks": ""
            },
            "type": "choropleth"
           }
          ],
          "contour": [
           {
            "colorbar": {
             "outlinewidth": 0,
             "ticks": ""
            },
            "colorscale": [
             [
              0,
              "#0d0887"
             ],
             [
              0.1111111111111111,
              "#46039f"
             ],
             [
              0.2222222222222222,
              "#7201a8"
             ],
             [
              0.3333333333333333,
              "#9c179e"
             ],
             [
              0.4444444444444444,
              "#bd3786"
             ],
             [
              0.5555555555555556,
              "#d8576b"
             ],
             [
              0.6666666666666666,
              "#ed7953"
             ],
             [
              0.7777777777777778,
              "#fb9f3a"
             ],
             [
              0.8888888888888888,
              "#fdca26"
             ],
             [
              1,
              "#f0f921"
             ]
            ],
            "type": "contour"
           }
          ],
          "contourcarpet": [
           {
            "colorbar": {
             "outlinewidth": 0,
             "ticks": ""
            },
            "type": "contourcarpet"
           }
          ],
          "heatmap": [
           {
            "colorbar": {
             "outlinewidth": 0,
             "ticks": ""
            },
            "colorscale": [
             [
              0,
              "#0d0887"
             ],
             [
              0.1111111111111111,
              "#46039f"
             ],
             [
              0.2222222222222222,
              "#7201a8"
             ],
             [
              0.3333333333333333,
              "#9c179e"
             ],
             [
              0.4444444444444444,
              "#bd3786"
             ],
             [
              0.5555555555555556,
              "#d8576b"
             ],
             [
              0.6666666666666666,
              "#ed7953"
             ],
             [
              0.7777777777777778,
              "#fb9f3a"
             ],
             [
              0.8888888888888888,
              "#fdca26"
             ],
             [
              1,
              "#f0f921"
             ]
            ],
            "type": "heatmap"
           }
          ],
          "heatmapgl": [
           {
            "colorbar": {
             "outlinewidth": 0,
             "ticks": ""
            },
            "colorscale": [
             [
              0,
              "#0d0887"
             ],
             [
              0.1111111111111111,
              "#46039f"
             ],
             [
              0.2222222222222222,
              "#7201a8"
             ],
             [
              0.3333333333333333,
              "#9c179e"
             ],
             [
              0.4444444444444444,
              "#bd3786"
             ],
             [
              0.5555555555555556,
              "#d8576b"
             ],
             [
              0.6666666666666666,
              "#ed7953"
             ],
             [
              0.7777777777777778,
              "#fb9f3a"
             ],
             [
              0.8888888888888888,
              "#fdca26"
             ],
             [
              1,
              "#f0f921"
             ]
            ],
            "type": "heatmapgl"
           }
          ],
          "histogram": [
           {
            "marker": {
             "pattern": {
              "fillmode": "overlay",
              "size": 10,
              "solidity": 0.2
             }
            },
            "type": "histogram"
           }
          ],
          "histogram2d": [
           {
            "colorbar": {
             "outlinewidth": 0,
             "ticks": ""
            },
            "colorscale": [
             [
              0,
              "#0d0887"
             ],
             [
              0.1111111111111111,
              "#46039f"
             ],
             [
              0.2222222222222222,
              "#7201a8"
             ],
             [
              0.3333333333333333,
              "#9c179e"
             ],
             [
              0.4444444444444444,
              "#bd3786"
             ],
             [
              0.5555555555555556,
              "#d8576b"
             ],
             [
              0.6666666666666666,
              "#ed7953"
             ],
             [
              0.7777777777777778,
              "#fb9f3a"
             ],
             [
              0.8888888888888888,
              "#fdca26"
             ],
             [
              1,
              "#f0f921"
             ]
            ],
            "type": "histogram2d"
           }
          ],
          "histogram2dcontour": [
           {
            "colorbar": {
             "outlinewidth": 0,
             "ticks": ""
            },
            "colorscale": [
             [
              0,
              "#0d0887"
             ],
             [
              0.1111111111111111,
              "#46039f"
             ],
             [
              0.2222222222222222,
              "#7201a8"
             ],
             [
              0.3333333333333333,
              "#9c179e"
             ],
             [
              0.4444444444444444,
              "#bd3786"
             ],
             [
              0.5555555555555556,
              "#d8576b"
             ],
             [
              0.6666666666666666,
              "#ed7953"
             ],
             [
              0.7777777777777778,
              "#fb9f3a"
             ],
             [
              0.8888888888888888,
              "#fdca26"
             ],
             [
              1,
              "#f0f921"
             ]
            ],
            "type": "histogram2dcontour"
           }
          ],
          "mesh3d": [
           {
            "colorbar": {
             "outlinewidth": 0,
             "ticks": ""
            },
            "type": "mesh3d"
           }
          ],
          "parcoords": [
           {
            "line": {
             "colorbar": {
              "outlinewidth": 0,
              "ticks": ""
             }
            },
            "type": "parcoords"
           }
          ],
          "pie": [
           {
            "automargin": true,
            "type": "pie"
           }
          ],
          "scatter": [
           {
            "fillpattern": {
             "fillmode": "overlay",
             "size": 10,
             "solidity": 0.2
            },
            "type": "scatter"
           }
          ],
          "scatter3d": [
           {
            "line": {
             "colorbar": {
              "outlinewidth": 0,
              "ticks": ""
             }
            },
            "marker": {
             "colorbar": {
              "outlinewidth": 0,
              "ticks": ""
             }
            },
            "type": "scatter3d"
           }
          ],
          "scattercarpet": [
           {
            "marker": {
             "colorbar": {
              "outlinewidth": 0,
              "ticks": ""
             }
            },
            "type": "scattercarpet"
           }
          ],
          "scattergeo": [
           {
            "marker": {
             "colorbar": {
              "outlinewidth": 0,
              "ticks": ""
             }
            },
            "type": "scattergeo"
           }
          ],
          "scattergl": [
           {
            "marker": {
             "colorbar": {
              "outlinewidth": 0,
              "ticks": ""
             }
            },
            "type": "scattergl"
           }
          ],
          "scattermapbox": [
           {
            "marker": {
             "colorbar": {
              "outlinewidth": 0,
              "ticks": ""
             }
            },
            "type": "scattermapbox"
           }
          ],
          "scatterpolar": [
           {
            "marker": {
             "colorbar": {
              "outlinewidth": 0,
              "ticks": ""
             }
            },
            "type": "scatterpolar"
           }
          ],
          "scatterpolargl": [
           {
            "marker": {
             "colorbar": {
              "outlinewidth": 0,
              "ticks": ""
             }
            },
            "type": "scatterpolargl"
           }
          ],
          "scatterternary": [
           {
            "marker": {
             "colorbar": {
              "outlinewidth": 0,
              "ticks": ""
             }
            },
            "type": "scatterternary"
           }
          ],
          "surface": [
           {
            "colorbar": {
             "outlinewidth": 0,
             "ticks": ""
            },
            "colorscale": [
             [
              0,
              "#0d0887"
             ],
             [
              0.1111111111111111,
              "#46039f"
             ],
             [
              0.2222222222222222,
              "#7201a8"
             ],
             [
              0.3333333333333333,
              "#9c179e"
             ],
             [
              0.4444444444444444,
              "#bd3786"
             ],
             [
              0.5555555555555556,
              "#d8576b"
             ],
             [
              0.6666666666666666,
              "#ed7953"
             ],
             [
              0.7777777777777778,
              "#fb9f3a"
             ],
             [
              0.8888888888888888,
              "#fdca26"
             ],
             [
              1,
              "#f0f921"
             ]
            ],
            "type": "surface"
           }
          ],
          "table": [
           {
            "cells": {
             "fill": {
              "color": "#EBF0F8"
             },
             "line": {
              "color": "white"
             }
            },
            "header": {
             "fill": {
              "color": "#C8D4E3"
             },
             "line": {
              "color": "white"
             }
            },
            "type": "table"
           }
          ]
         },
         "layout": {
          "annotationdefaults": {
           "arrowcolor": "#2a3f5f",
           "arrowhead": 0,
           "arrowwidth": 1
          },
          "autotypenumbers": "strict",
          "coloraxis": {
           "colorbar": {
            "outlinewidth": 0,
            "ticks": ""
           }
          },
          "colorscale": {
           "diverging": [
            [
             0,
             "#8e0152"
            ],
            [
             0.1,
             "#c51b7d"
            ],
            [
             0.2,
             "#de77ae"
            ],
            [
             0.3,
             "#f1b6da"
            ],
            [
             0.4,
             "#fde0ef"
            ],
            [
             0.5,
             "#f7f7f7"
            ],
            [
             0.6,
             "#e6f5d0"
            ],
            [
             0.7,
             "#b8e186"
            ],
            [
             0.8,
             "#7fbc41"
            ],
            [
             0.9,
             "#4d9221"
            ],
            [
             1,
             "#276419"
            ]
           ],
           "sequential": [
            [
             0,
             "#0d0887"
            ],
            [
             0.1111111111111111,
             "#46039f"
            ],
            [
             0.2222222222222222,
             "#7201a8"
            ],
            [
             0.3333333333333333,
             "#9c179e"
            ],
            [
             0.4444444444444444,
             "#bd3786"
            ],
            [
             0.5555555555555556,
             "#d8576b"
            ],
            [
             0.6666666666666666,
             "#ed7953"
            ],
            [
             0.7777777777777778,
             "#fb9f3a"
            ],
            [
             0.8888888888888888,
             "#fdca26"
            ],
            [
             1,
             "#f0f921"
            ]
           ],
           "sequentialminus": [
            [
             0,
             "#0d0887"
            ],
            [
             0.1111111111111111,
             "#46039f"
            ],
            [
             0.2222222222222222,
             "#7201a8"
            ],
            [
             0.3333333333333333,
             "#9c179e"
            ],
            [
             0.4444444444444444,
             "#bd3786"
            ],
            [
             0.5555555555555556,
             "#d8576b"
            ],
            [
             0.6666666666666666,
             "#ed7953"
            ],
            [
             0.7777777777777778,
             "#fb9f3a"
            ],
            [
             0.8888888888888888,
             "#fdca26"
            ],
            [
             1,
             "#f0f921"
            ]
           ]
          },
          "colorway": [
           "#636efa",
           "#EF553B",
           "#00cc96",
           "#ab63fa",
           "#FFA15A",
           "#19d3f3",
           "#FF6692",
           "#B6E880",
           "#FF97FF",
           "#FECB52"
          ],
          "font": {
           "color": "#2a3f5f"
          },
          "geo": {
           "bgcolor": "white",
           "lakecolor": "white",
           "landcolor": "#E5ECF6",
           "showlakes": true,
           "showland": true,
           "subunitcolor": "white"
          },
          "hoverlabel": {
           "align": "left"
          },
          "hovermode": "closest",
          "mapbox": {
           "style": "light"
          },
          "paper_bgcolor": "white",
          "plot_bgcolor": "#E5ECF6",
          "polar": {
           "angularaxis": {
            "gridcolor": "white",
            "linecolor": "white",
            "ticks": ""
           },
           "bgcolor": "#E5ECF6",
           "radialaxis": {
            "gridcolor": "white",
            "linecolor": "white",
            "ticks": ""
           }
          },
          "scene": {
           "xaxis": {
            "backgroundcolor": "#E5ECF6",
            "gridcolor": "white",
            "gridwidth": 2,
            "linecolor": "white",
            "showbackground": true,
            "ticks": "",
            "zerolinecolor": "white"
           },
           "yaxis": {
            "backgroundcolor": "#E5ECF6",
            "gridcolor": "white",
            "gridwidth": 2,
            "linecolor": "white",
            "showbackground": true,
            "ticks": "",
            "zerolinecolor": "white"
           },
           "zaxis": {
            "backgroundcolor": "#E5ECF6",
            "gridcolor": "white",
            "gridwidth": 2,
            "linecolor": "white",
            "showbackground": true,
            "ticks": "",
            "zerolinecolor": "white"
           }
          },
          "shapedefaults": {
           "line": {
            "color": "#2a3f5f"
           }
          },
          "ternary": {
           "aaxis": {
            "gridcolor": "white",
            "linecolor": "white",
            "ticks": ""
           },
           "baxis": {
            "gridcolor": "white",
            "linecolor": "white",
            "ticks": ""
           },
           "bgcolor": "#E5ECF6",
           "caxis": {
            "gridcolor": "white",
            "linecolor": "white",
            "ticks": ""
           }
          },
          "title": {
           "x": 0.05
          },
          "xaxis": {
           "automargin": true,
           "gridcolor": "white",
           "linecolor": "white",
           "ticks": "",
           "title": {
            "standoff": 15
           },
           "zerolinecolor": "white",
           "zerolinewidth": 2
          },
          "yaxis": {
           "automargin": true,
           "gridcolor": "white",
           "linecolor": "white",
           "ticks": "",
           "title": {
            "standoff": 15
           },
           "zerolinecolor": "white",
           "zerolinewidth": 2
          }
         }
        },
        "title": {
         "text": "Percentage of Household in Positive and Negative Savings"
        },
        "width": 1000,
        "xaxis": {
         "anchor": "y",
         "domain": [
          0,
          0.2888888888888889
         ],
         "tickformat": ",.0%",
         "title": {
          "text": "Bill"
         },
         "visible": true
        },
        "xaxis2": {
         "anchor": "y2",
         "domain": [
          0.35555555555555557,
          0.6444444444444445
         ],
         "tickformat": ",.0%",
         "title": {
          "text": "Emission"
         },
         "visible": true
        },
        "xaxis3": {
         "anchor": "y3",
         "domain": [
          0.7111111111111111,
          1
         ],
         "tickformat": ",.0%",
         "title": {
          "text": "Total Energy"
         },
         "visible": true
        },
        "yaxis": {
         "anchor": "x",
         "domain": [
          0,
          1
         ],
         "visible": true
        },
        "yaxis2": {
         "anchor": "x2",
         "domain": [
          0,
          1
         ],
         "visible": false
        },
        "yaxis3": {
         "anchor": "x3",
         "domain": [
          0,
          1
         ],
         "visible": false
        }
       }
      },
      "text/html": [
       "<div>                            <div id=\"ebb4717f-37b3-42cc-923e-b3e2953e4eb4\" class=\"plotly-graph-div\" style=\"height:500px; width:1000px;\"></div>            <script type=\"text/javascript\">                require([\"plotly\"], function(Plotly) {                    window.PLOTLYENV=window.PLOTLYENV || {};                                    if (document.getElementById(\"ebb4717f-37b3-42cc-923e-b3e2953e4eb4\")) {                    Plotly.newPlot(                        \"ebb4717f-37b3-42cc-923e-b3e2953e4eb4\",                        [{\"marker\":{\"color\":\"red\"},\"name\":\"Negative\",\"orientation\":\"h\",\"text\":[1.0,1.0,0.4,0.25,0.2,0.0,0.0,0.0,0.0,0.0,0.0,0.0,0.0,0.0,0.0],\"x\":[1.0,1.0,0.4,0.25,0.2,0.0,0.0,0.0,0.0,0.0,0.0,0.0,0.0,0.0,0.0],\"y\":[\"Electric Cooking\",\"Mininum Efficiency Whole Home Electrification\",\"Mininum Efficiency Heat Pump with Electric Heat Backup\",\"Induction Cooking\",\"Mininum Efficiency Heat Pump with Existing Heat Backup\",\"Basic Enclosure\",\"Basic Enclosure + HPWH + High Efficiency HP/Electric Backup\",\"Basic Enclosure + High Efficiency Whole Home Electrification\",\"Enhanced Enclosure\",\"Enhanced Enclosure + HPWH + High Efficiency HP/Electric Backup\",\"Enhanced Enclosure + High Efficiency Whole Home Electrification\",\"Heat Pump Clothes Dryer\",\"Heat Pump Water Heater\",\"High Efficiency Heat Pump with Electric Heat Backup\",\"High Efficiency Whole Home Electrification\"],\"type\":\"bar\",\"xaxis\":\"x\",\"yaxis\":\"y\",\"textposition\":\"inside\",\"texttemplate\":\"%{text:.0%}\"},{\"marker\":{\"color\":\"green\"},\"name\":\"Positive\",\"orientation\":\"h\",\"text\":[0.0,0.0,0.6,0.75,0.8,1.0,1.0,1.0,1.0,1.0,1.0,1.0,1.0,1.0,1.0],\"x\":[0.0,0.0,0.6,0.75,0.8,1.0,1.0,1.0,1.0,1.0,1.0,1.0,1.0,1.0,1.0],\"y\":[\"Electric Cooking\",\"Mininum Efficiency Whole Home Electrification\",\"Mininum Efficiency Heat Pump with Electric Heat Backup\",\"Induction Cooking\",\"Mininum Efficiency Heat Pump with Existing Heat Backup\",\"Basic Enclosure\",\"Basic Enclosure + HPWH + High Efficiency HP/Electric Backup\",\"Basic Enclosure + High Efficiency Whole Home Electrification\",\"Enhanced Enclosure\",\"Enhanced Enclosure + HPWH + High Efficiency HP/Electric Backup\",\"Enhanced Enclosure + High Efficiency Whole Home Electrification\",\"Heat Pump Clothes Dryer\",\"Heat Pump Water Heater\",\"High Efficiency Heat Pump with Electric Heat Backup\",\"High Efficiency Whole Home Electrification\"],\"type\":\"bar\",\"xaxis\":\"x\",\"yaxis\":\"y\",\"textposition\":\"inside\",\"texttemplate\":\"%{text:.0%}\"},{\"marker\":{\"color\":\"red\"},\"orientation\":\"h\",\"showlegend\":false,\"text\":[0.0,0.0,0.0,0.0,0.0,0.0,0.0,0.0,0.0,0.0,0.0,0.0,0.0,0.0,0.0],\"x\":[0.0,0.0,0.0,0.0,0.0,0.0,0.0,0.0,0.0,0.0,0.0,0.0,0.0,0.0,0.0],\"y\":[\"Electric Cooking\",\"Mininum Efficiency Whole Home Electrification\",\"Mininum Efficiency Heat Pump with Electric Heat Backup\",\"Induction Cooking\",\"Mininum Efficiency Heat Pump with Existing Heat Backup\",\"Basic Enclosure\",\"Basic Enclosure + HPWH + High Efficiency HP/Electric Backup\",\"Basic Enclosure + High Efficiency Whole Home Electrification\",\"Enhanced Enclosure\",\"Enhanced Enclosure + HPWH + High Efficiency HP/Electric Backup\",\"Enhanced Enclosure + High Efficiency Whole Home Electrification\",\"Heat Pump Clothes Dryer\",\"Heat Pump Water Heater\",\"High Efficiency Heat Pump with Electric Heat Backup\",\"High Efficiency Whole Home Electrification\"],\"type\":\"bar\",\"xaxis\":\"x2\",\"yaxis\":\"y2\",\"textposition\":\"inside\",\"texttemplate\":\"%{text:.0%}\"},{\"marker\":{\"color\":\"green\"},\"orientation\":\"h\",\"showlegend\":false,\"text\":[1.0,1.0,1.0,1.0,1.0,1.0,1.0,1.0,1.0,1.0,1.0,1.0,1.0,1.0,1.0],\"x\":[1.0,1.0,1.0,1.0,1.0,1.0,1.0,1.0,1.0,1.0,1.0,1.0,1.0,1.0,1.0],\"y\":[\"Electric Cooking\",\"Mininum Efficiency Whole Home Electrification\",\"Mininum Efficiency Heat Pump with Electric Heat Backup\",\"Induction Cooking\",\"Mininum Efficiency Heat Pump with Existing Heat Backup\",\"Basic Enclosure\",\"Basic Enclosure + HPWH + High Efficiency HP/Electric Backup\",\"Basic Enclosure + High Efficiency Whole Home Electrification\",\"Enhanced Enclosure\",\"Enhanced Enclosure + HPWH + High Efficiency HP/Electric Backup\",\"Enhanced Enclosure + High Efficiency Whole Home Electrification\",\"Heat Pump Clothes Dryer\",\"Heat Pump Water Heater\",\"High Efficiency Heat Pump with Electric Heat Backup\",\"High Efficiency Whole Home Electrification\"],\"type\":\"bar\",\"xaxis\":\"x2\",\"yaxis\":\"y2\",\"textposition\":\"inside\",\"texttemplate\":\"%{text:.0%}\"},{\"marker\":{\"color\":\"red\"},\"orientation\":\"h\",\"showlegend\":false,\"text\":[0.0,0.0,0.0,0.0,0.0,0.0,0.0,0.0,0.0,0.0,0.0,0.0,0.0,0.0,0.0],\"x\":[0.0,0.0,0.0,0.0,0.0,0.0,0.0,0.0,0.0,0.0,0.0,0.0,0.0,0.0,0.0],\"y\":[\"Electric Cooking\",\"Mininum Efficiency Whole Home Electrification\",\"Mininum Efficiency Heat Pump with Electric Heat Backup\",\"Induction Cooking\",\"Mininum Efficiency Heat Pump with Existing Heat Backup\",\"Basic Enclosure\",\"Basic Enclosure + HPWH + High Efficiency HP/Electric Backup\",\"Basic Enclosure + High Efficiency Whole Home Electrification\",\"Enhanced Enclosure\",\"Enhanced Enclosure + HPWH + High Efficiency HP/Electric Backup\",\"Enhanced Enclosure + High Efficiency Whole Home Electrification\",\"Heat Pump Clothes Dryer\",\"Heat Pump Water Heater\",\"High Efficiency Heat Pump with Electric Heat Backup\",\"High Efficiency Whole Home Electrification\"],\"type\":\"bar\",\"xaxis\":\"x3\",\"yaxis\":\"y3\",\"textposition\":\"inside\",\"texttemplate\":\"%{text:.0%}\"},{\"marker\":{\"color\":\"green\"},\"orientation\":\"h\",\"showlegend\":false,\"text\":[1.0,1.0,1.0,1.0,1.0,1.0,1.0,1.0,1.0,1.0,1.0,1.0,1.0,1.0,1.0],\"x\":[1.0,1.0,1.0,1.0,1.0,1.0,1.0,1.0,1.0,1.0,1.0,1.0,1.0,1.0,1.0],\"y\":[\"Electric Cooking\",\"Mininum Efficiency Whole Home Electrification\",\"Mininum Efficiency Heat Pump with Electric Heat Backup\",\"Induction Cooking\",\"Mininum Efficiency Heat Pump with Existing Heat Backup\",\"Basic Enclosure\",\"Basic Enclosure + HPWH + High Efficiency HP/Electric Backup\",\"Basic Enclosure + High Efficiency Whole Home Electrification\",\"Enhanced Enclosure\",\"Enhanced Enclosure + HPWH + High Efficiency HP/Electric Backup\",\"Enhanced Enclosure + High Efficiency Whole Home Electrification\",\"Heat Pump Clothes Dryer\",\"Heat Pump Water Heater\",\"High Efficiency Heat Pump with Electric Heat Backup\",\"High Efficiency Whole Home Electrification\"],\"type\":\"bar\",\"xaxis\":\"x3\",\"yaxis\":\"y3\",\"textposition\":\"inside\",\"texttemplate\":\"%{text:.0%}\"}],                        {\"template\":{\"data\":{\"histogram2dcontour\":[{\"type\":\"histogram2dcontour\",\"colorbar\":{\"outlinewidth\":0,\"ticks\":\"\"},\"colorscale\":[[0.0,\"#0d0887\"],[0.1111111111111111,\"#46039f\"],[0.2222222222222222,\"#7201a8\"],[0.3333333333333333,\"#9c179e\"],[0.4444444444444444,\"#bd3786\"],[0.5555555555555556,\"#d8576b\"],[0.6666666666666666,\"#ed7953\"],[0.7777777777777778,\"#fb9f3a\"],[0.8888888888888888,\"#fdca26\"],[1.0,\"#f0f921\"]]}],\"choropleth\":[{\"type\":\"choropleth\",\"colorbar\":{\"outlinewidth\":0,\"ticks\":\"\"}}],\"histogram2d\":[{\"type\":\"histogram2d\",\"colorbar\":{\"outlinewidth\":0,\"ticks\":\"\"},\"colorscale\":[[0.0,\"#0d0887\"],[0.1111111111111111,\"#46039f\"],[0.2222222222222222,\"#7201a8\"],[0.3333333333333333,\"#9c179e\"],[0.4444444444444444,\"#bd3786\"],[0.5555555555555556,\"#d8576b\"],[0.6666666666666666,\"#ed7953\"],[0.7777777777777778,\"#fb9f3a\"],[0.8888888888888888,\"#fdca26\"],[1.0,\"#f0f921\"]]}],\"heatmap\":[{\"type\":\"heatmap\",\"colorbar\":{\"outlinewidth\":0,\"ticks\":\"\"},\"colorscale\":[[0.0,\"#0d0887\"],[0.1111111111111111,\"#46039f\"],[0.2222222222222222,\"#7201a8\"],[0.3333333333333333,\"#9c179e\"],[0.4444444444444444,\"#bd3786\"],[0.5555555555555556,\"#d8576b\"],[0.6666666666666666,\"#ed7953\"],[0.7777777777777778,\"#fb9f3a\"],[0.8888888888888888,\"#fdca26\"],[1.0,\"#f0f921\"]]}],\"heatmapgl\":[{\"type\":\"heatmapgl\",\"colorbar\":{\"outlinewidth\":0,\"ticks\":\"\"},\"colorscale\":[[0.0,\"#0d0887\"],[0.1111111111111111,\"#46039f\"],[0.2222222222222222,\"#7201a8\"],[0.3333333333333333,\"#9c179e\"],[0.4444444444444444,\"#bd3786\"],[0.5555555555555556,\"#d8576b\"],[0.6666666666666666,\"#ed7953\"],[0.7777777777777778,\"#fb9f3a\"],[0.8888888888888888,\"#fdca26\"],[1.0,\"#f0f921\"]]}],\"contourcarpet\":[{\"type\":\"contourcarpet\",\"colorbar\":{\"outlinewidth\":0,\"ticks\":\"\"}}],\"contour\":[{\"type\":\"contour\",\"colorbar\":{\"outlinewidth\":0,\"ticks\":\"\"},\"colorscale\":[[0.0,\"#0d0887\"],[0.1111111111111111,\"#46039f\"],[0.2222222222222222,\"#7201a8\"],[0.3333333333333333,\"#9c179e\"],[0.4444444444444444,\"#bd3786\"],[0.5555555555555556,\"#d8576b\"],[0.6666666666666666,\"#ed7953\"],[0.7777777777777778,\"#fb9f3a\"],[0.8888888888888888,\"#fdca26\"],[1.0,\"#f0f921\"]]}],\"surface\":[{\"type\":\"surface\",\"colorbar\":{\"outlinewidth\":0,\"ticks\":\"\"},\"colorscale\":[[0.0,\"#0d0887\"],[0.1111111111111111,\"#46039f\"],[0.2222222222222222,\"#7201a8\"],[0.3333333333333333,\"#9c179e\"],[0.4444444444444444,\"#bd3786\"],[0.5555555555555556,\"#d8576b\"],[0.6666666666666666,\"#ed7953\"],[0.7777777777777778,\"#fb9f3a\"],[0.8888888888888888,\"#fdca26\"],[1.0,\"#f0f921\"]]}],\"mesh3d\":[{\"type\":\"mesh3d\",\"colorbar\":{\"outlinewidth\":0,\"ticks\":\"\"}}],\"scatter\":[{\"fillpattern\":{\"fillmode\":\"overlay\",\"size\":10,\"solidity\":0.2},\"type\":\"scatter\"}],\"parcoords\":[{\"type\":\"parcoords\",\"line\":{\"colorbar\":{\"outlinewidth\":0,\"ticks\":\"\"}}}],\"scatterpolargl\":[{\"type\":\"scatterpolargl\",\"marker\":{\"colorbar\":{\"outlinewidth\":0,\"ticks\":\"\"}}}],\"bar\":[{\"error_x\":{\"color\":\"#2a3f5f\"},\"error_y\":{\"color\":\"#2a3f5f\"},\"marker\":{\"line\":{\"color\":\"#E5ECF6\",\"width\":0.5},\"pattern\":{\"fillmode\":\"overlay\",\"size\":10,\"solidity\":0.2}},\"type\":\"bar\"}],\"scattergeo\":[{\"type\":\"scattergeo\",\"marker\":{\"colorbar\":{\"outlinewidth\":0,\"ticks\":\"\"}}}],\"scatterpolar\":[{\"type\":\"scatterpolar\",\"marker\":{\"colorbar\":{\"outlinewidth\":0,\"ticks\":\"\"}}}],\"histogram\":[{\"marker\":{\"pattern\":{\"fillmode\":\"overlay\",\"size\":10,\"solidity\":0.2}},\"type\":\"histogram\"}],\"scattergl\":[{\"type\":\"scattergl\",\"marker\":{\"colorbar\":{\"outlinewidth\":0,\"ticks\":\"\"}}}],\"scatter3d\":[{\"type\":\"scatter3d\",\"line\":{\"colorbar\":{\"outlinewidth\":0,\"ticks\":\"\"}},\"marker\":{\"colorbar\":{\"outlinewidth\":0,\"ticks\":\"\"}}}],\"scattermapbox\":[{\"type\":\"scattermapbox\",\"marker\":{\"colorbar\":{\"outlinewidth\":0,\"ticks\":\"\"}}}],\"scatterternary\":[{\"type\":\"scatterternary\",\"marker\":{\"colorbar\":{\"outlinewidth\":0,\"ticks\":\"\"}}}],\"scattercarpet\":[{\"type\":\"scattercarpet\",\"marker\":{\"colorbar\":{\"outlinewidth\":0,\"ticks\":\"\"}}}],\"carpet\":[{\"aaxis\":{\"endlinecolor\":\"#2a3f5f\",\"gridcolor\":\"white\",\"linecolor\":\"white\",\"minorgridcolor\":\"white\",\"startlinecolor\":\"#2a3f5f\"},\"baxis\":{\"endlinecolor\":\"#2a3f5f\",\"gridcolor\":\"white\",\"linecolor\":\"white\",\"minorgridcolor\":\"white\",\"startlinecolor\":\"#2a3f5f\"},\"type\":\"carpet\"}],\"table\":[{\"cells\":{\"fill\":{\"color\":\"#EBF0F8\"},\"line\":{\"color\":\"white\"}},\"header\":{\"fill\":{\"color\":\"#C8D4E3\"},\"line\":{\"color\":\"white\"}},\"type\":\"table\"}],\"barpolar\":[{\"marker\":{\"line\":{\"color\":\"#E5ECF6\",\"width\":0.5},\"pattern\":{\"fillmode\":\"overlay\",\"size\":10,\"solidity\":0.2}},\"type\":\"barpolar\"}],\"pie\":[{\"automargin\":true,\"type\":\"pie\"}]},\"layout\":{\"autotypenumbers\":\"strict\",\"colorway\":[\"#636efa\",\"#EF553B\",\"#00cc96\",\"#ab63fa\",\"#FFA15A\",\"#19d3f3\",\"#FF6692\",\"#B6E880\",\"#FF97FF\",\"#FECB52\"],\"font\":{\"color\":\"#2a3f5f\"},\"hovermode\":\"closest\",\"hoverlabel\":{\"align\":\"left\"},\"paper_bgcolor\":\"white\",\"plot_bgcolor\":\"#E5ECF6\",\"polar\":{\"bgcolor\":\"#E5ECF6\",\"angularaxis\":{\"gridcolor\":\"white\",\"linecolor\":\"white\",\"ticks\":\"\"},\"radialaxis\":{\"gridcolor\":\"white\",\"linecolor\":\"white\",\"ticks\":\"\"}},\"ternary\":{\"bgcolor\":\"#E5ECF6\",\"aaxis\":{\"gridcolor\":\"white\",\"linecolor\":\"white\",\"ticks\":\"\"},\"baxis\":{\"gridcolor\":\"white\",\"linecolor\":\"white\",\"ticks\":\"\"},\"caxis\":{\"gridcolor\":\"white\",\"linecolor\":\"white\",\"ticks\":\"\"}},\"coloraxis\":{\"colorbar\":{\"outlinewidth\":0,\"ticks\":\"\"}},\"colorscale\":{\"sequential\":[[0.0,\"#0d0887\"],[0.1111111111111111,\"#46039f\"],[0.2222222222222222,\"#7201a8\"],[0.3333333333333333,\"#9c179e\"],[0.4444444444444444,\"#bd3786\"],[0.5555555555555556,\"#d8576b\"],[0.6666666666666666,\"#ed7953\"],[0.7777777777777778,\"#fb9f3a\"],[0.8888888888888888,\"#fdca26\"],[1.0,\"#f0f921\"]],\"sequentialminus\":[[0.0,\"#0d0887\"],[0.1111111111111111,\"#46039f\"],[0.2222222222222222,\"#7201a8\"],[0.3333333333333333,\"#9c179e\"],[0.4444444444444444,\"#bd3786\"],[0.5555555555555556,\"#d8576b\"],[0.6666666666666666,\"#ed7953\"],[0.7777777777777778,\"#fb9f3a\"],[0.8888888888888888,\"#fdca26\"],[1.0,\"#f0f921\"]],\"diverging\":[[0,\"#8e0152\"],[0.1,\"#c51b7d\"],[0.2,\"#de77ae\"],[0.3,\"#f1b6da\"],[0.4,\"#fde0ef\"],[0.5,\"#f7f7f7\"],[0.6,\"#e6f5d0\"],[0.7,\"#b8e186\"],[0.8,\"#7fbc41\"],[0.9,\"#4d9221\"],[1,\"#276419\"]]},\"xaxis\":{\"gridcolor\":\"white\",\"linecolor\":\"white\",\"ticks\":\"\",\"title\":{\"standoff\":15},\"zerolinecolor\":\"white\",\"automargin\":true,\"zerolinewidth\":2},\"yaxis\":{\"gridcolor\":\"white\",\"linecolor\":\"white\",\"ticks\":\"\",\"title\":{\"standoff\":15},\"zerolinecolor\":\"white\",\"automargin\":true,\"zerolinewidth\":2},\"scene\":{\"xaxis\":{\"backgroundcolor\":\"#E5ECF6\",\"gridcolor\":\"white\",\"linecolor\":\"white\",\"showbackground\":true,\"ticks\":\"\",\"zerolinecolor\":\"white\",\"gridwidth\":2},\"yaxis\":{\"backgroundcolor\":\"#E5ECF6\",\"gridcolor\":\"white\",\"linecolor\":\"white\",\"showbackground\":true,\"ticks\":\"\",\"zerolinecolor\":\"white\",\"gridwidth\":2},\"zaxis\":{\"backgroundcolor\":\"#E5ECF6\",\"gridcolor\":\"white\",\"linecolor\":\"white\",\"showbackground\":true,\"ticks\":\"\",\"zerolinecolor\":\"white\",\"gridwidth\":2}},\"shapedefaults\":{\"line\":{\"color\":\"#2a3f5f\"}},\"annotationdefaults\":{\"arrowcolor\":\"#2a3f5f\",\"arrowhead\":0,\"arrowwidth\":1},\"geo\":{\"bgcolor\":\"white\",\"landcolor\":\"#E5ECF6\",\"subunitcolor\":\"white\",\"showland\":true,\"showlakes\":true,\"lakecolor\":\"white\"},\"title\":{\"x\":0.05},\"mapbox\":{\"style\":\"light\"}}},\"xaxis\":{\"anchor\":\"y\",\"domain\":[0.0,0.2888888888888889],\"title\":{\"text\":\"Bill\"},\"visible\":true,\"tickformat\":\",.0%\"},\"yaxis\":{\"anchor\":\"x\",\"domain\":[0.0,1.0],\"visible\":true},\"xaxis2\":{\"anchor\":\"y2\",\"domain\":[0.35555555555555557,0.6444444444444445],\"title\":{\"text\":\"Emission\"},\"visible\":true,\"tickformat\":\",.0%\"},\"yaxis2\":{\"anchor\":\"x2\",\"domain\":[0.0,1.0],\"visible\":false},\"xaxis3\":{\"anchor\":\"y3\",\"domain\":[0.7111111111111111,1.0],\"title\":{\"text\":\"Total Energy\"},\"visible\":true,\"tickformat\":\",.0%\"},\"yaxis3\":{\"anchor\":\"x3\",\"domain\":[0.0,1.0],\"visible\":false},\"barmode\":\"relative\",\"font\":{\"size\":10},\"title\":{\"text\":\"Percentage of Household in Positive and Negative Savings\"},\"autosize\":false,\"width\":1000,\"height\":500},                        {\"responsive\": true}                    ).then(function(){\n",
       "                            \n",
       "var gd = document.getElementById('ebb4717f-37b3-42cc-923e-b3e2953e4eb4');\n",
       "var x = new MutationObserver(function (mutations, observer) {{\n",
       "        var display = window.getComputedStyle(gd).display;\n",
       "        if (!display || display === 'none') {{\n",
       "            console.log([gd, 'removed!']);\n",
       "            Plotly.purge(gd);\n",
       "            observer.disconnect();\n",
       "        }}\n",
       "}});\n",
       "\n",
       "// Listen for the removal of the full notebook cells\n",
       "var notebookContainer = gd.closest('#notebook-container');\n",
       "if (notebookContainer) {{\n",
       "    x.observe(notebookContainer, {childList: true});\n",
       "}}\n",
       "\n",
       "// Listen for the clearing of the current output cell\n",
       "var outputEl = gd.closest('.output');\n",
       "if (outputEl) {{\n",
       "    x.observe(outputEl, {childList: true});\n",
       "}}\n",
       "\n",
       "                        })                };                });            </script>        </div>"
      ]
     },
     "metadata": {},
     "output_type": "display_data"
    }
   ],
   "source": [
    "segment = 'segment2'\n",
    "results = figure_positive_negative_savings(segment, community_results)\n",
    "saving_results[f'segment2_{income}_pct_bill_positive_savings_%'] = results[0]*100\n",
    "saving_results[f'segment2_{income}_pct_emission_positive_savings_%'] = results[1]*100\n",
    "saving_results[f'segment2_{income}_pct_energy_positive_savings_%'] = results[2]*100"
   ]
  },
  {
   "cell_type": "markdown",
   "id": "5bcfb89a",
   "metadata": {},
   "source": [
    "### Segment 3"
   ]
  },
  {
   "cell_type": "code",
   "execution_count": 225,
   "id": "5c5c3d99",
   "metadata": {},
   "outputs": [
    {
     "data": {
      "application/vnd.plotly.v1+json": {
       "config": {
        "plotlyServerURL": "https://plot.ly"
       },
       "data": [
        {
         "marker": {
          "color": "red"
         },
         "name": "Negative",
         "orientation": "h",
         "text": [
          1,
          1,
          0.8187134502923976,
          0.4701195219123506,
          0.3545816733067729,
          0.2549800796812749,
          0.22631578947368422,
          0.07936507936507936,
          0.035856573705179286,
          0.027559055118110236,
          0.01968503937007874,
          0.01968503937007874,
          0.01968503937007874,
          0.01968503937007874,
          0,
          0
         ],
         "textposition": "inside",
         "texttemplate": "%{text:.0%}",
         "type": "bar",
         "x": [
          1,
          1,
          0.8187134502923976,
          0.4701195219123506,
          0.3545816733067729,
          0.2549800796812749,
          0.22631578947368422,
          0.07936507936507936,
          0.035856573705179286,
          0.027559055118110236,
          0.01968503937007874,
          0.01968503937007874,
          0.01968503937007874,
          0.01968503937007874,
          0,
          0
         ],
         "xaxis": "x",
         "y": [
          "Electric Clothes Dryer",
          "Electric Cooking",
          "Mininum Efficiency Whole Home Electrification",
          "Mininum Efficiency Heat Pump with Electric Heat Backup",
          "Induction Cooking",
          "Mininum Efficiency Heat Pump with Existing Heat Backup",
          "Heat Pump Clothes Dryer",
          "Heat Pump Water Heater",
          "High Efficiency Heat Pump with Electric Heat Backup",
          "High Efficiency Whole Home Electrification",
          "Basic Enclosure + HPWH + High Efficiency HP/Electric Backup",
          "Basic Enclosure + High Efficiency Whole Home Electrification",
          "Enhanced Enclosure + HPWH + High Efficiency HP/Electric Backup",
          "Enhanced Enclosure + High Efficiency Whole Home Electrification",
          "Basic Enclosure",
          "Enhanced Enclosure"
         ],
         "yaxis": "y"
        },
        {
         "marker": {
          "color": "green"
         },
         "name": "Positive",
         "orientation": "h",
         "text": [
          0,
          0,
          0.18128654970760233,
          0.5298804780876494,
          0.6454183266932271,
          0.7450199203187251,
          0.7736842105263158,
          0.9206349206349206,
          0.9641434262948207,
          0.9724409448818898,
          0.9803149606299213,
          0.9803149606299213,
          0.9803149606299213,
          0.9803149606299213,
          1,
          1
         ],
         "textposition": "inside",
         "texttemplate": "%{text:.0%}",
         "type": "bar",
         "x": [
          0,
          0,
          0.18128654970760233,
          0.5298804780876494,
          0.6454183266932271,
          0.7450199203187251,
          0.7736842105263158,
          0.9206349206349206,
          0.9641434262948207,
          0.9724409448818898,
          0.9803149606299213,
          0.9803149606299213,
          0.9803149606299213,
          0.9803149606299213,
          1,
          1
         ],
         "xaxis": "x",
         "y": [
          "Electric Clothes Dryer",
          "Electric Cooking",
          "Mininum Efficiency Whole Home Electrification",
          "Mininum Efficiency Heat Pump with Electric Heat Backup",
          "Induction Cooking",
          "Mininum Efficiency Heat Pump with Existing Heat Backup",
          "Heat Pump Clothes Dryer",
          "Heat Pump Water Heater",
          "High Efficiency Heat Pump with Electric Heat Backup",
          "High Efficiency Whole Home Electrification",
          "Basic Enclosure + HPWH + High Efficiency HP/Electric Backup",
          "Basic Enclosure + High Efficiency Whole Home Electrification",
          "Enhanced Enclosure + HPWH + High Efficiency HP/Electric Backup",
          "Enhanced Enclosure + High Efficiency Whole Home Electrification",
          "Basic Enclosure",
          "Enhanced Enclosure"
         ],
         "yaxis": "y"
        },
        {
         "marker": {
          "color": "red"
         },
         "orientation": "h",
         "showlegend": false,
         "text": [
          0,
          0,
          0.04678362573099415,
          0.00796812749003984,
          0,
          0.035856573705179286,
          0.015789473684210527,
          0.023809523809523808,
          0.00796812749003984,
          0.003937007874015748,
          0.003937007874015748,
          0.003937007874015748,
          0.003937007874015748,
          0.003937007874015748,
          0,
          0
         ],
         "textposition": "inside",
         "texttemplate": "%{text:.0%}",
         "type": "bar",
         "x": [
          0,
          0,
          0.04678362573099415,
          0.00796812749003984,
          0,
          0.035856573705179286,
          0.015789473684210527,
          0.023809523809523808,
          0.00796812749003984,
          0.003937007874015748,
          0.003937007874015748,
          0.003937007874015748,
          0.003937007874015748,
          0.003937007874015748,
          0,
          0
         ],
         "xaxis": "x2",
         "y": [
          "Electric Clothes Dryer",
          "Electric Cooking",
          "Mininum Efficiency Whole Home Electrification",
          "Mininum Efficiency Heat Pump with Electric Heat Backup",
          "Induction Cooking",
          "Mininum Efficiency Heat Pump with Existing Heat Backup",
          "Heat Pump Clothes Dryer",
          "Heat Pump Water Heater",
          "High Efficiency Heat Pump with Electric Heat Backup",
          "High Efficiency Whole Home Electrification",
          "Basic Enclosure + HPWH + High Efficiency HP/Electric Backup",
          "Basic Enclosure + High Efficiency Whole Home Electrification",
          "Enhanced Enclosure + HPWH + High Efficiency HP/Electric Backup",
          "Enhanced Enclosure + High Efficiency Whole Home Electrification",
          "Basic Enclosure",
          "Enhanced Enclosure"
         ],
         "yaxis": "y2"
        },
        {
         "marker": {
          "color": "green"
         },
         "orientation": "h",
         "showlegend": false,
         "text": [
          1,
          1,
          0.9532163742690059,
          0.9920318725099602,
          1,
          0.9641434262948207,
          0.9842105263157894,
          0.9761904761904762,
          0.9920318725099602,
          0.9960629921259843,
          0.9960629921259843,
          0.9960629921259843,
          0.9960629921259843,
          0.9960629921259843,
          1,
          1
         ],
         "textposition": "inside",
         "texttemplate": "%{text:.0%}",
         "type": "bar",
         "x": [
          1,
          1,
          0.9532163742690059,
          0.9920318725099602,
          1,
          0.9641434262948207,
          0.9842105263157894,
          0.9761904761904762,
          0.9920318725099602,
          0.9960629921259843,
          0.9960629921259843,
          0.9960629921259843,
          0.9960629921259843,
          0.9960629921259843,
          1,
          1
         ],
         "xaxis": "x2",
         "y": [
          "Electric Clothes Dryer",
          "Electric Cooking",
          "Mininum Efficiency Whole Home Electrification",
          "Mininum Efficiency Heat Pump with Electric Heat Backup",
          "Induction Cooking",
          "Mininum Efficiency Heat Pump with Existing Heat Backup",
          "Heat Pump Clothes Dryer",
          "Heat Pump Water Heater",
          "High Efficiency Heat Pump with Electric Heat Backup",
          "High Efficiency Whole Home Electrification",
          "Basic Enclosure + HPWH + High Efficiency HP/Electric Backup",
          "Basic Enclosure + High Efficiency Whole Home Electrification",
          "Enhanced Enclosure + HPWH + High Efficiency HP/Electric Backup",
          "Enhanced Enclosure + High Efficiency Whole Home Electrification",
          "Basic Enclosure",
          "Enhanced Enclosure"
         ],
         "yaxis": "y2"
        },
        {
         "marker": {
          "color": "red"
         },
         "orientation": "h",
         "showlegend": false,
         "text": [
          0,
          0,
          0.04678362573099415,
          0.00796812749003984,
          0,
          0.035856573705179286,
          0.015789473684210527,
          0.023809523809523808,
          0.00796812749003984,
          0.003937007874015748,
          0.003937007874015748,
          0.003937007874015748,
          0.003937007874015748,
          0.003937007874015748,
          0,
          0
         ],
         "textposition": "inside",
         "texttemplate": "%{text:.0%}",
         "type": "bar",
         "x": [
          0,
          0,
          0.04678362573099415,
          0.00796812749003984,
          0,
          0.035856573705179286,
          0.015789473684210527,
          0.023809523809523808,
          0.00796812749003984,
          0.003937007874015748,
          0.003937007874015748,
          0.003937007874015748,
          0.003937007874015748,
          0.003937007874015748,
          0,
          0
         ],
         "xaxis": "x3",
         "y": [
          "Electric Clothes Dryer",
          "Electric Cooking",
          "Mininum Efficiency Whole Home Electrification",
          "Mininum Efficiency Heat Pump with Electric Heat Backup",
          "Induction Cooking",
          "Mininum Efficiency Heat Pump with Existing Heat Backup",
          "Heat Pump Clothes Dryer",
          "Heat Pump Water Heater",
          "High Efficiency Heat Pump with Electric Heat Backup",
          "High Efficiency Whole Home Electrification",
          "Basic Enclosure + HPWH + High Efficiency HP/Electric Backup",
          "Basic Enclosure + High Efficiency Whole Home Electrification",
          "Enhanced Enclosure + HPWH + High Efficiency HP/Electric Backup",
          "Enhanced Enclosure + High Efficiency Whole Home Electrification",
          "Basic Enclosure",
          "Enhanced Enclosure"
         ],
         "yaxis": "y3"
        },
        {
         "marker": {
          "color": "green"
         },
         "orientation": "h",
         "showlegend": false,
         "text": [
          1,
          1,
          0.9532163742690059,
          0.9920318725099602,
          1,
          0.9641434262948207,
          0.9842105263157894,
          0.9761904761904762,
          0.9920318725099602,
          0.9960629921259843,
          0.9960629921259843,
          0.9960629921259843,
          0.9960629921259843,
          0.9960629921259843,
          1,
          1
         ],
         "textposition": "inside",
         "texttemplate": "%{text:.0%}",
         "type": "bar",
         "x": [
          1,
          1,
          0.9532163742690059,
          0.9920318725099602,
          1,
          0.9641434262948207,
          0.9842105263157894,
          0.9761904761904762,
          0.9920318725099602,
          0.9960629921259843,
          0.9960629921259843,
          0.9960629921259843,
          0.9960629921259843,
          0.9960629921259843,
          1,
          1
         ],
         "xaxis": "x3",
         "y": [
          "Electric Clothes Dryer",
          "Electric Cooking",
          "Mininum Efficiency Whole Home Electrification",
          "Mininum Efficiency Heat Pump with Electric Heat Backup",
          "Induction Cooking",
          "Mininum Efficiency Heat Pump with Existing Heat Backup",
          "Heat Pump Clothes Dryer",
          "Heat Pump Water Heater",
          "High Efficiency Heat Pump with Electric Heat Backup",
          "High Efficiency Whole Home Electrification",
          "Basic Enclosure + HPWH + High Efficiency HP/Electric Backup",
          "Basic Enclosure + High Efficiency Whole Home Electrification",
          "Enhanced Enclosure + HPWH + High Efficiency HP/Electric Backup",
          "Enhanced Enclosure + High Efficiency Whole Home Electrification",
          "Basic Enclosure",
          "Enhanced Enclosure"
         ],
         "yaxis": "y3"
        }
       ],
       "layout": {
        "autosize": false,
        "barmode": "relative",
        "font": {
         "size": 10
        },
        "height": 500,
        "template": {
         "data": {
          "bar": [
           {
            "error_x": {
             "color": "#2a3f5f"
            },
            "error_y": {
             "color": "#2a3f5f"
            },
            "marker": {
             "line": {
              "color": "#E5ECF6",
              "width": 0.5
             },
             "pattern": {
              "fillmode": "overlay",
              "size": 10,
              "solidity": 0.2
             }
            },
            "type": "bar"
           }
          ],
          "barpolar": [
           {
            "marker": {
             "line": {
              "color": "#E5ECF6",
              "width": 0.5
             },
             "pattern": {
              "fillmode": "overlay",
              "size": 10,
              "solidity": 0.2
             }
            },
            "type": "barpolar"
           }
          ],
          "carpet": [
           {
            "aaxis": {
             "endlinecolor": "#2a3f5f",
             "gridcolor": "white",
             "linecolor": "white",
             "minorgridcolor": "white",
             "startlinecolor": "#2a3f5f"
            },
            "baxis": {
             "endlinecolor": "#2a3f5f",
             "gridcolor": "white",
             "linecolor": "white",
             "minorgridcolor": "white",
             "startlinecolor": "#2a3f5f"
            },
            "type": "carpet"
           }
          ],
          "choropleth": [
           {
            "colorbar": {
             "outlinewidth": 0,
             "ticks": ""
            },
            "type": "choropleth"
           }
          ],
          "contour": [
           {
            "colorbar": {
             "outlinewidth": 0,
             "ticks": ""
            },
            "colorscale": [
             [
              0,
              "#0d0887"
             ],
             [
              0.1111111111111111,
              "#46039f"
             ],
             [
              0.2222222222222222,
              "#7201a8"
             ],
             [
              0.3333333333333333,
              "#9c179e"
             ],
             [
              0.4444444444444444,
              "#bd3786"
             ],
             [
              0.5555555555555556,
              "#d8576b"
             ],
             [
              0.6666666666666666,
              "#ed7953"
             ],
             [
              0.7777777777777778,
              "#fb9f3a"
             ],
             [
              0.8888888888888888,
              "#fdca26"
             ],
             [
              1,
              "#f0f921"
             ]
            ],
            "type": "contour"
           }
          ],
          "contourcarpet": [
           {
            "colorbar": {
             "outlinewidth": 0,
             "ticks": ""
            },
            "type": "contourcarpet"
           }
          ],
          "heatmap": [
           {
            "colorbar": {
             "outlinewidth": 0,
             "ticks": ""
            },
            "colorscale": [
             [
              0,
              "#0d0887"
             ],
             [
              0.1111111111111111,
              "#46039f"
             ],
             [
              0.2222222222222222,
              "#7201a8"
             ],
             [
              0.3333333333333333,
              "#9c179e"
             ],
             [
              0.4444444444444444,
              "#bd3786"
             ],
             [
              0.5555555555555556,
              "#d8576b"
             ],
             [
              0.6666666666666666,
              "#ed7953"
             ],
             [
              0.7777777777777778,
              "#fb9f3a"
             ],
             [
              0.8888888888888888,
              "#fdca26"
             ],
             [
              1,
              "#f0f921"
             ]
            ],
            "type": "heatmap"
           }
          ],
          "heatmapgl": [
           {
            "colorbar": {
             "outlinewidth": 0,
             "ticks": ""
            },
            "colorscale": [
             [
              0,
              "#0d0887"
             ],
             [
              0.1111111111111111,
              "#46039f"
             ],
             [
              0.2222222222222222,
              "#7201a8"
             ],
             [
              0.3333333333333333,
              "#9c179e"
             ],
             [
              0.4444444444444444,
              "#bd3786"
             ],
             [
              0.5555555555555556,
              "#d8576b"
             ],
             [
              0.6666666666666666,
              "#ed7953"
             ],
             [
              0.7777777777777778,
              "#fb9f3a"
             ],
             [
              0.8888888888888888,
              "#fdca26"
             ],
             [
              1,
              "#f0f921"
             ]
            ],
            "type": "heatmapgl"
           }
          ],
          "histogram": [
           {
            "marker": {
             "pattern": {
              "fillmode": "overlay",
              "size": 10,
              "solidity": 0.2
             }
            },
            "type": "histogram"
           }
          ],
          "histogram2d": [
           {
            "colorbar": {
             "outlinewidth": 0,
             "ticks": ""
            },
            "colorscale": [
             [
              0,
              "#0d0887"
             ],
             [
              0.1111111111111111,
              "#46039f"
             ],
             [
              0.2222222222222222,
              "#7201a8"
             ],
             [
              0.3333333333333333,
              "#9c179e"
             ],
             [
              0.4444444444444444,
              "#bd3786"
             ],
             [
              0.5555555555555556,
              "#d8576b"
             ],
             [
              0.6666666666666666,
              "#ed7953"
             ],
             [
              0.7777777777777778,
              "#fb9f3a"
             ],
             [
              0.8888888888888888,
              "#fdca26"
             ],
             [
              1,
              "#f0f921"
             ]
            ],
            "type": "histogram2d"
           }
          ],
          "histogram2dcontour": [
           {
            "colorbar": {
             "outlinewidth": 0,
             "ticks": ""
            },
            "colorscale": [
             [
              0,
              "#0d0887"
             ],
             [
              0.1111111111111111,
              "#46039f"
             ],
             [
              0.2222222222222222,
              "#7201a8"
             ],
             [
              0.3333333333333333,
              "#9c179e"
             ],
             [
              0.4444444444444444,
              "#bd3786"
             ],
             [
              0.5555555555555556,
              "#d8576b"
             ],
             [
              0.6666666666666666,
              "#ed7953"
             ],
             [
              0.7777777777777778,
              "#fb9f3a"
             ],
             [
              0.8888888888888888,
              "#fdca26"
             ],
             [
              1,
              "#f0f921"
             ]
            ],
            "type": "histogram2dcontour"
           }
          ],
          "mesh3d": [
           {
            "colorbar": {
             "outlinewidth": 0,
             "ticks": ""
            },
            "type": "mesh3d"
           }
          ],
          "parcoords": [
           {
            "line": {
             "colorbar": {
              "outlinewidth": 0,
              "ticks": ""
             }
            },
            "type": "parcoords"
           }
          ],
          "pie": [
           {
            "automargin": true,
            "type": "pie"
           }
          ],
          "scatter": [
           {
            "fillpattern": {
             "fillmode": "overlay",
             "size": 10,
             "solidity": 0.2
            },
            "type": "scatter"
           }
          ],
          "scatter3d": [
           {
            "line": {
             "colorbar": {
              "outlinewidth": 0,
              "ticks": ""
             }
            },
            "marker": {
             "colorbar": {
              "outlinewidth": 0,
              "ticks": ""
             }
            },
            "type": "scatter3d"
           }
          ],
          "scattercarpet": [
           {
            "marker": {
             "colorbar": {
              "outlinewidth": 0,
              "ticks": ""
             }
            },
            "type": "scattercarpet"
           }
          ],
          "scattergeo": [
           {
            "marker": {
             "colorbar": {
              "outlinewidth": 0,
              "ticks": ""
             }
            },
            "type": "scattergeo"
           }
          ],
          "scattergl": [
           {
            "marker": {
             "colorbar": {
              "outlinewidth": 0,
              "ticks": ""
             }
            },
            "type": "scattergl"
           }
          ],
          "scattermapbox": [
           {
            "marker": {
             "colorbar": {
              "outlinewidth": 0,
              "ticks": ""
             }
            },
            "type": "scattermapbox"
           }
          ],
          "scatterpolar": [
           {
            "marker": {
             "colorbar": {
              "outlinewidth": 0,
              "ticks": ""
             }
            },
            "type": "scatterpolar"
           }
          ],
          "scatterpolargl": [
           {
            "marker": {
             "colorbar": {
              "outlinewidth": 0,
              "ticks": ""
             }
            },
            "type": "scatterpolargl"
           }
          ],
          "scatterternary": [
           {
            "marker": {
             "colorbar": {
              "outlinewidth": 0,
              "ticks": ""
             }
            },
            "type": "scatterternary"
           }
          ],
          "surface": [
           {
            "colorbar": {
             "outlinewidth": 0,
             "ticks": ""
            },
            "colorscale": [
             [
              0,
              "#0d0887"
             ],
             [
              0.1111111111111111,
              "#46039f"
             ],
             [
              0.2222222222222222,
              "#7201a8"
             ],
             [
              0.3333333333333333,
              "#9c179e"
             ],
             [
              0.4444444444444444,
              "#bd3786"
             ],
             [
              0.5555555555555556,
              "#d8576b"
             ],
             [
              0.6666666666666666,
              "#ed7953"
             ],
             [
              0.7777777777777778,
              "#fb9f3a"
             ],
             [
              0.8888888888888888,
              "#fdca26"
             ],
             [
              1,
              "#f0f921"
             ]
            ],
            "type": "surface"
           }
          ],
          "table": [
           {
            "cells": {
             "fill": {
              "color": "#EBF0F8"
             },
             "line": {
              "color": "white"
             }
            },
            "header": {
             "fill": {
              "color": "#C8D4E3"
             },
             "line": {
              "color": "white"
             }
            },
            "type": "table"
           }
          ]
         },
         "layout": {
          "annotationdefaults": {
           "arrowcolor": "#2a3f5f",
           "arrowhead": 0,
           "arrowwidth": 1
          },
          "autotypenumbers": "strict",
          "coloraxis": {
           "colorbar": {
            "outlinewidth": 0,
            "ticks": ""
           }
          },
          "colorscale": {
           "diverging": [
            [
             0,
             "#8e0152"
            ],
            [
             0.1,
             "#c51b7d"
            ],
            [
             0.2,
             "#de77ae"
            ],
            [
             0.3,
             "#f1b6da"
            ],
            [
             0.4,
             "#fde0ef"
            ],
            [
             0.5,
             "#f7f7f7"
            ],
            [
             0.6,
             "#e6f5d0"
            ],
            [
             0.7,
             "#b8e186"
            ],
            [
             0.8,
             "#7fbc41"
            ],
            [
             0.9,
             "#4d9221"
            ],
            [
             1,
             "#276419"
            ]
           ],
           "sequential": [
            [
             0,
             "#0d0887"
            ],
            [
             0.1111111111111111,
             "#46039f"
            ],
            [
             0.2222222222222222,
             "#7201a8"
            ],
            [
             0.3333333333333333,
             "#9c179e"
            ],
            [
             0.4444444444444444,
             "#bd3786"
            ],
            [
             0.5555555555555556,
             "#d8576b"
            ],
            [
             0.6666666666666666,
             "#ed7953"
            ],
            [
             0.7777777777777778,
             "#fb9f3a"
            ],
            [
             0.8888888888888888,
             "#fdca26"
            ],
            [
             1,
             "#f0f921"
            ]
           ],
           "sequentialminus": [
            [
             0,
             "#0d0887"
            ],
            [
             0.1111111111111111,
             "#46039f"
            ],
            [
             0.2222222222222222,
             "#7201a8"
            ],
            [
             0.3333333333333333,
             "#9c179e"
            ],
            [
             0.4444444444444444,
             "#bd3786"
            ],
            [
             0.5555555555555556,
             "#d8576b"
            ],
            [
             0.6666666666666666,
             "#ed7953"
            ],
            [
             0.7777777777777778,
             "#fb9f3a"
            ],
            [
             0.8888888888888888,
             "#fdca26"
            ],
            [
             1,
             "#f0f921"
            ]
           ]
          },
          "colorway": [
           "#636efa",
           "#EF553B",
           "#00cc96",
           "#ab63fa",
           "#FFA15A",
           "#19d3f3",
           "#FF6692",
           "#B6E880",
           "#FF97FF",
           "#FECB52"
          ],
          "font": {
           "color": "#2a3f5f"
          },
          "geo": {
           "bgcolor": "white",
           "lakecolor": "white",
           "landcolor": "#E5ECF6",
           "showlakes": true,
           "showland": true,
           "subunitcolor": "white"
          },
          "hoverlabel": {
           "align": "left"
          },
          "hovermode": "closest",
          "mapbox": {
           "style": "light"
          },
          "paper_bgcolor": "white",
          "plot_bgcolor": "#E5ECF6",
          "polar": {
           "angularaxis": {
            "gridcolor": "white",
            "linecolor": "white",
            "ticks": ""
           },
           "bgcolor": "#E5ECF6",
           "radialaxis": {
            "gridcolor": "white",
            "linecolor": "white",
            "ticks": ""
           }
          },
          "scene": {
           "xaxis": {
            "backgroundcolor": "#E5ECF6",
            "gridcolor": "white",
            "gridwidth": 2,
            "linecolor": "white",
            "showbackground": true,
            "ticks": "",
            "zerolinecolor": "white"
           },
           "yaxis": {
            "backgroundcolor": "#E5ECF6",
            "gridcolor": "white",
            "gridwidth": 2,
            "linecolor": "white",
            "showbackground": true,
            "ticks": "",
            "zerolinecolor": "white"
           },
           "zaxis": {
            "backgroundcolor": "#E5ECF6",
            "gridcolor": "white",
            "gridwidth": 2,
            "linecolor": "white",
            "showbackground": true,
            "ticks": "",
            "zerolinecolor": "white"
           }
          },
          "shapedefaults": {
           "line": {
            "color": "#2a3f5f"
           }
          },
          "ternary": {
           "aaxis": {
            "gridcolor": "white",
            "linecolor": "white",
            "ticks": ""
           },
           "baxis": {
            "gridcolor": "white",
            "linecolor": "white",
            "ticks": ""
           },
           "bgcolor": "#E5ECF6",
           "caxis": {
            "gridcolor": "white",
            "linecolor": "white",
            "ticks": ""
           }
          },
          "title": {
           "x": 0.05
          },
          "xaxis": {
           "automargin": true,
           "gridcolor": "white",
           "linecolor": "white",
           "ticks": "",
           "title": {
            "standoff": 15
           },
           "zerolinecolor": "white",
           "zerolinewidth": 2
          },
          "yaxis": {
           "automargin": true,
           "gridcolor": "white",
           "linecolor": "white",
           "ticks": "",
           "title": {
            "standoff": 15
           },
           "zerolinecolor": "white",
           "zerolinewidth": 2
          }
         }
        },
        "title": {
         "text": "Percentage of Household in Positive and Negative Savings"
        },
        "width": 1000,
        "xaxis": {
         "anchor": "y",
         "domain": [
          0,
          0.2888888888888889
         ],
         "tickformat": ",.0%",
         "title": {
          "text": "Bill"
         },
         "visible": true
        },
        "xaxis2": {
         "anchor": "y2",
         "domain": [
          0.35555555555555557,
          0.6444444444444445
         ],
         "tickformat": ",.0%",
         "title": {
          "text": "Emission"
         },
         "visible": true
        },
        "xaxis3": {
         "anchor": "y3",
         "domain": [
          0.7111111111111111,
          1
         ],
         "tickformat": ",.0%",
         "title": {
          "text": "Total Energy"
         },
         "visible": true
        },
        "yaxis": {
         "anchor": "x",
         "domain": [
          0,
          1
         ],
         "visible": true
        },
        "yaxis2": {
         "anchor": "x2",
         "domain": [
          0,
          1
         ],
         "visible": false
        },
        "yaxis3": {
         "anchor": "x3",
         "domain": [
          0,
          1
         ],
         "visible": false
        }
       }
      },
      "text/html": [
       "<div>                            <div id=\"e271575c-8285-4e09-9aab-e1ca661f8de8\" class=\"plotly-graph-div\" style=\"height:500px; width:1000px;\"></div>            <script type=\"text/javascript\">                require([\"plotly\"], function(Plotly) {                    window.PLOTLYENV=window.PLOTLYENV || {};                                    if (document.getElementById(\"e271575c-8285-4e09-9aab-e1ca661f8de8\")) {                    Plotly.newPlot(                        \"e271575c-8285-4e09-9aab-e1ca661f8de8\",                        [{\"marker\":{\"color\":\"red\"},\"name\":\"Negative\",\"orientation\":\"h\",\"text\":[1.0,1.0,0.8187134502923976,0.4701195219123506,0.3545816733067729,0.2549800796812749,0.22631578947368422,0.07936507936507936,0.035856573705179286,0.027559055118110236,0.01968503937007874,0.01968503937007874,0.01968503937007874,0.01968503937007874,0.0,0.0],\"x\":[1.0,1.0,0.8187134502923976,0.4701195219123506,0.3545816733067729,0.2549800796812749,0.22631578947368422,0.07936507936507936,0.035856573705179286,0.027559055118110236,0.01968503937007874,0.01968503937007874,0.01968503937007874,0.01968503937007874,0.0,0.0],\"y\":[\"Electric Clothes Dryer\",\"Electric Cooking\",\"Mininum Efficiency Whole Home Electrification\",\"Mininum Efficiency Heat Pump with Electric Heat Backup\",\"Induction Cooking\",\"Mininum Efficiency Heat Pump with Existing Heat Backup\",\"Heat Pump Clothes Dryer\",\"Heat Pump Water Heater\",\"High Efficiency Heat Pump with Electric Heat Backup\",\"High Efficiency Whole Home Electrification\",\"Basic Enclosure + HPWH + High Efficiency HP/Electric Backup\",\"Basic Enclosure + High Efficiency Whole Home Electrification\",\"Enhanced Enclosure + HPWH + High Efficiency HP/Electric Backup\",\"Enhanced Enclosure + High Efficiency Whole Home Electrification\",\"Basic Enclosure\",\"Enhanced Enclosure\"],\"type\":\"bar\",\"xaxis\":\"x\",\"yaxis\":\"y\",\"textposition\":\"inside\",\"texttemplate\":\"%{text:.0%}\"},{\"marker\":{\"color\":\"green\"},\"name\":\"Positive\",\"orientation\":\"h\",\"text\":[0.0,0.0,0.18128654970760233,0.5298804780876494,0.6454183266932271,0.7450199203187251,0.7736842105263158,0.9206349206349206,0.9641434262948207,0.9724409448818898,0.9803149606299213,0.9803149606299213,0.9803149606299213,0.9803149606299213,1.0,1.0],\"x\":[0.0,0.0,0.18128654970760233,0.5298804780876494,0.6454183266932271,0.7450199203187251,0.7736842105263158,0.9206349206349206,0.9641434262948207,0.9724409448818898,0.9803149606299213,0.9803149606299213,0.9803149606299213,0.9803149606299213,1.0,1.0],\"y\":[\"Electric Clothes Dryer\",\"Electric Cooking\",\"Mininum Efficiency Whole Home Electrification\",\"Mininum Efficiency Heat Pump with Electric Heat Backup\",\"Induction Cooking\",\"Mininum Efficiency Heat Pump with Existing Heat Backup\",\"Heat Pump Clothes Dryer\",\"Heat Pump Water Heater\",\"High Efficiency Heat Pump with Electric Heat Backup\",\"High Efficiency Whole Home Electrification\",\"Basic Enclosure + HPWH + High Efficiency HP/Electric Backup\",\"Basic Enclosure + High Efficiency Whole Home Electrification\",\"Enhanced Enclosure + HPWH + High Efficiency HP/Electric Backup\",\"Enhanced Enclosure + High Efficiency Whole Home Electrification\",\"Basic Enclosure\",\"Enhanced Enclosure\"],\"type\":\"bar\",\"xaxis\":\"x\",\"yaxis\":\"y\",\"textposition\":\"inside\",\"texttemplate\":\"%{text:.0%}\"},{\"marker\":{\"color\":\"red\"},\"orientation\":\"h\",\"showlegend\":false,\"text\":[0.0,0.0,0.04678362573099415,0.00796812749003984,0.0,0.035856573705179286,0.015789473684210527,0.023809523809523808,0.00796812749003984,0.003937007874015748,0.003937007874015748,0.003937007874015748,0.003937007874015748,0.003937007874015748,0.0,0.0],\"x\":[0.0,0.0,0.04678362573099415,0.00796812749003984,0.0,0.035856573705179286,0.015789473684210527,0.023809523809523808,0.00796812749003984,0.003937007874015748,0.003937007874015748,0.003937007874015748,0.003937007874015748,0.003937007874015748,0.0,0.0],\"y\":[\"Electric Clothes Dryer\",\"Electric Cooking\",\"Mininum Efficiency Whole Home Electrification\",\"Mininum Efficiency Heat Pump with Electric Heat Backup\",\"Induction Cooking\",\"Mininum Efficiency Heat Pump with Existing Heat Backup\",\"Heat Pump Clothes Dryer\",\"Heat Pump Water Heater\",\"High Efficiency Heat Pump with Electric Heat Backup\",\"High Efficiency Whole Home Electrification\",\"Basic Enclosure + HPWH + High Efficiency HP/Electric Backup\",\"Basic Enclosure + High Efficiency Whole Home Electrification\",\"Enhanced Enclosure + HPWH + High Efficiency HP/Electric Backup\",\"Enhanced Enclosure + High Efficiency Whole Home Electrification\",\"Basic Enclosure\",\"Enhanced Enclosure\"],\"type\":\"bar\",\"xaxis\":\"x2\",\"yaxis\":\"y2\",\"textposition\":\"inside\",\"texttemplate\":\"%{text:.0%}\"},{\"marker\":{\"color\":\"green\"},\"orientation\":\"h\",\"showlegend\":false,\"text\":[1.0,1.0,0.9532163742690059,0.9920318725099602,1.0,0.9641434262948207,0.9842105263157894,0.9761904761904762,0.9920318725099602,0.9960629921259843,0.9960629921259843,0.9960629921259843,0.9960629921259843,0.9960629921259843,1.0,1.0],\"x\":[1.0,1.0,0.9532163742690059,0.9920318725099602,1.0,0.9641434262948207,0.9842105263157894,0.9761904761904762,0.9920318725099602,0.9960629921259843,0.9960629921259843,0.9960629921259843,0.9960629921259843,0.9960629921259843,1.0,1.0],\"y\":[\"Electric Clothes Dryer\",\"Electric Cooking\",\"Mininum Efficiency Whole Home Electrification\",\"Mininum Efficiency Heat Pump with Electric Heat Backup\",\"Induction Cooking\",\"Mininum Efficiency Heat Pump with Existing Heat Backup\",\"Heat Pump Clothes Dryer\",\"Heat Pump Water Heater\",\"High Efficiency Heat Pump with Electric Heat Backup\",\"High Efficiency Whole Home Electrification\",\"Basic Enclosure + HPWH + High Efficiency HP/Electric Backup\",\"Basic Enclosure + High Efficiency Whole Home Electrification\",\"Enhanced Enclosure + HPWH + High Efficiency HP/Electric Backup\",\"Enhanced Enclosure + High Efficiency Whole Home Electrification\",\"Basic Enclosure\",\"Enhanced Enclosure\"],\"type\":\"bar\",\"xaxis\":\"x2\",\"yaxis\":\"y2\",\"textposition\":\"inside\",\"texttemplate\":\"%{text:.0%}\"},{\"marker\":{\"color\":\"red\"},\"orientation\":\"h\",\"showlegend\":false,\"text\":[0.0,0.0,0.04678362573099415,0.00796812749003984,0.0,0.035856573705179286,0.015789473684210527,0.023809523809523808,0.00796812749003984,0.003937007874015748,0.003937007874015748,0.003937007874015748,0.003937007874015748,0.003937007874015748,0.0,0.0],\"x\":[0.0,0.0,0.04678362573099415,0.00796812749003984,0.0,0.035856573705179286,0.015789473684210527,0.023809523809523808,0.00796812749003984,0.003937007874015748,0.003937007874015748,0.003937007874015748,0.003937007874015748,0.003937007874015748,0.0,0.0],\"y\":[\"Electric Clothes Dryer\",\"Electric Cooking\",\"Mininum Efficiency Whole Home Electrification\",\"Mininum Efficiency Heat Pump with Electric Heat Backup\",\"Induction Cooking\",\"Mininum Efficiency Heat Pump with Existing Heat Backup\",\"Heat Pump Clothes Dryer\",\"Heat Pump Water Heater\",\"High Efficiency Heat Pump with Electric Heat Backup\",\"High Efficiency Whole Home Electrification\",\"Basic Enclosure + HPWH + High Efficiency HP/Electric Backup\",\"Basic Enclosure + High Efficiency Whole Home Electrification\",\"Enhanced Enclosure + HPWH + High Efficiency HP/Electric Backup\",\"Enhanced Enclosure + High Efficiency Whole Home Electrification\",\"Basic Enclosure\",\"Enhanced Enclosure\"],\"type\":\"bar\",\"xaxis\":\"x3\",\"yaxis\":\"y3\",\"textposition\":\"inside\",\"texttemplate\":\"%{text:.0%}\"},{\"marker\":{\"color\":\"green\"},\"orientation\":\"h\",\"showlegend\":false,\"text\":[1.0,1.0,0.9532163742690059,0.9920318725099602,1.0,0.9641434262948207,0.9842105263157894,0.9761904761904762,0.9920318725099602,0.9960629921259843,0.9960629921259843,0.9960629921259843,0.9960629921259843,0.9960629921259843,1.0,1.0],\"x\":[1.0,1.0,0.9532163742690059,0.9920318725099602,1.0,0.9641434262948207,0.9842105263157894,0.9761904761904762,0.9920318725099602,0.9960629921259843,0.9960629921259843,0.9960629921259843,0.9960629921259843,0.9960629921259843,1.0,1.0],\"y\":[\"Electric Clothes Dryer\",\"Electric Cooking\",\"Mininum Efficiency Whole Home Electrification\",\"Mininum Efficiency Heat Pump with Electric Heat Backup\",\"Induction Cooking\",\"Mininum Efficiency Heat Pump with Existing Heat Backup\",\"Heat Pump Clothes Dryer\",\"Heat Pump Water Heater\",\"High Efficiency Heat Pump with Electric Heat Backup\",\"High Efficiency Whole Home Electrification\",\"Basic Enclosure + HPWH + High Efficiency HP/Electric Backup\",\"Basic Enclosure + High Efficiency Whole Home Electrification\",\"Enhanced Enclosure + HPWH + High Efficiency HP/Electric Backup\",\"Enhanced Enclosure + High Efficiency Whole Home Electrification\",\"Basic Enclosure\",\"Enhanced Enclosure\"],\"type\":\"bar\",\"xaxis\":\"x3\",\"yaxis\":\"y3\",\"textposition\":\"inside\",\"texttemplate\":\"%{text:.0%}\"}],                        {\"template\":{\"data\":{\"histogram2dcontour\":[{\"type\":\"histogram2dcontour\",\"colorbar\":{\"outlinewidth\":0,\"ticks\":\"\"},\"colorscale\":[[0.0,\"#0d0887\"],[0.1111111111111111,\"#46039f\"],[0.2222222222222222,\"#7201a8\"],[0.3333333333333333,\"#9c179e\"],[0.4444444444444444,\"#bd3786\"],[0.5555555555555556,\"#d8576b\"],[0.6666666666666666,\"#ed7953\"],[0.7777777777777778,\"#fb9f3a\"],[0.8888888888888888,\"#fdca26\"],[1.0,\"#f0f921\"]]}],\"choropleth\":[{\"type\":\"choropleth\",\"colorbar\":{\"outlinewidth\":0,\"ticks\":\"\"}}],\"histogram2d\":[{\"type\":\"histogram2d\",\"colorbar\":{\"outlinewidth\":0,\"ticks\":\"\"},\"colorscale\":[[0.0,\"#0d0887\"],[0.1111111111111111,\"#46039f\"],[0.2222222222222222,\"#7201a8\"],[0.3333333333333333,\"#9c179e\"],[0.4444444444444444,\"#bd3786\"],[0.5555555555555556,\"#d8576b\"],[0.6666666666666666,\"#ed7953\"],[0.7777777777777778,\"#fb9f3a\"],[0.8888888888888888,\"#fdca26\"],[1.0,\"#f0f921\"]]}],\"heatmap\":[{\"type\":\"heatmap\",\"colorbar\":{\"outlinewidth\":0,\"ticks\":\"\"},\"colorscale\":[[0.0,\"#0d0887\"],[0.1111111111111111,\"#46039f\"],[0.2222222222222222,\"#7201a8\"],[0.3333333333333333,\"#9c179e\"],[0.4444444444444444,\"#bd3786\"],[0.5555555555555556,\"#d8576b\"],[0.6666666666666666,\"#ed7953\"],[0.7777777777777778,\"#fb9f3a\"],[0.8888888888888888,\"#fdca26\"],[1.0,\"#f0f921\"]]}],\"heatmapgl\":[{\"type\":\"heatmapgl\",\"colorbar\":{\"outlinewidth\":0,\"ticks\":\"\"},\"colorscale\":[[0.0,\"#0d0887\"],[0.1111111111111111,\"#46039f\"],[0.2222222222222222,\"#7201a8\"],[0.3333333333333333,\"#9c179e\"],[0.4444444444444444,\"#bd3786\"],[0.5555555555555556,\"#d8576b\"],[0.6666666666666666,\"#ed7953\"],[0.7777777777777778,\"#fb9f3a\"],[0.8888888888888888,\"#fdca26\"],[1.0,\"#f0f921\"]]}],\"contourcarpet\":[{\"type\":\"contourcarpet\",\"colorbar\":{\"outlinewidth\":0,\"ticks\":\"\"}}],\"contour\":[{\"type\":\"contour\",\"colorbar\":{\"outlinewidth\":0,\"ticks\":\"\"},\"colorscale\":[[0.0,\"#0d0887\"],[0.1111111111111111,\"#46039f\"],[0.2222222222222222,\"#7201a8\"],[0.3333333333333333,\"#9c179e\"],[0.4444444444444444,\"#bd3786\"],[0.5555555555555556,\"#d8576b\"],[0.6666666666666666,\"#ed7953\"],[0.7777777777777778,\"#fb9f3a\"],[0.8888888888888888,\"#fdca26\"],[1.0,\"#f0f921\"]]}],\"surface\":[{\"type\":\"surface\",\"colorbar\":{\"outlinewidth\":0,\"ticks\":\"\"},\"colorscale\":[[0.0,\"#0d0887\"],[0.1111111111111111,\"#46039f\"],[0.2222222222222222,\"#7201a8\"],[0.3333333333333333,\"#9c179e\"],[0.4444444444444444,\"#bd3786\"],[0.5555555555555556,\"#d8576b\"],[0.6666666666666666,\"#ed7953\"],[0.7777777777777778,\"#fb9f3a\"],[0.8888888888888888,\"#fdca26\"],[1.0,\"#f0f921\"]]}],\"mesh3d\":[{\"type\":\"mesh3d\",\"colorbar\":{\"outlinewidth\":0,\"ticks\":\"\"}}],\"scatter\":[{\"fillpattern\":{\"fillmode\":\"overlay\",\"size\":10,\"solidity\":0.2},\"type\":\"scatter\"}],\"parcoords\":[{\"type\":\"parcoords\",\"line\":{\"colorbar\":{\"outlinewidth\":0,\"ticks\":\"\"}}}],\"scatterpolargl\":[{\"type\":\"scatterpolargl\",\"marker\":{\"colorbar\":{\"outlinewidth\":0,\"ticks\":\"\"}}}],\"bar\":[{\"error_x\":{\"color\":\"#2a3f5f\"},\"error_y\":{\"color\":\"#2a3f5f\"},\"marker\":{\"line\":{\"color\":\"#E5ECF6\",\"width\":0.5},\"pattern\":{\"fillmode\":\"overlay\",\"size\":10,\"solidity\":0.2}},\"type\":\"bar\"}],\"scattergeo\":[{\"type\":\"scattergeo\",\"marker\":{\"colorbar\":{\"outlinewidth\":0,\"ticks\":\"\"}}}],\"scatterpolar\":[{\"type\":\"scatterpolar\",\"marker\":{\"colorbar\":{\"outlinewidth\":0,\"ticks\":\"\"}}}],\"histogram\":[{\"marker\":{\"pattern\":{\"fillmode\":\"overlay\",\"size\":10,\"solidity\":0.2}},\"type\":\"histogram\"}],\"scattergl\":[{\"type\":\"scattergl\",\"marker\":{\"colorbar\":{\"outlinewidth\":0,\"ticks\":\"\"}}}],\"scatter3d\":[{\"type\":\"scatter3d\",\"line\":{\"colorbar\":{\"outlinewidth\":0,\"ticks\":\"\"}},\"marker\":{\"colorbar\":{\"outlinewidth\":0,\"ticks\":\"\"}}}],\"scattermapbox\":[{\"type\":\"scattermapbox\",\"marker\":{\"colorbar\":{\"outlinewidth\":0,\"ticks\":\"\"}}}],\"scatterternary\":[{\"type\":\"scatterternary\",\"marker\":{\"colorbar\":{\"outlinewidth\":0,\"ticks\":\"\"}}}],\"scattercarpet\":[{\"type\":\"scattercarpet\",\"marker\":{\"colorbar\":{\"outlinewidth\":0,\"ticks\":\"\"}}}],\"carpet\":[{\"aaxis\":{\"endlinecolor\":\"#2a3f5f\",\"gridcolor\":\"white\",\"linecolor\":\"white\",\"minorgridcolor\":\"white\",\"startlinecolor\":\"#2a3f5f\"},\"baxis\":{\"endlinecolor\":\"#2a3f5f\",\"gridcolor\":\"white\",\"linecolor\":\"white\",\"minorgridcolor\":\"white\",\"startlinecolor\":\"#2a3f5f\"},\"type\":\"carpet\"}],\"table\":[{\"cells\":{\"fill\":{\"color\":\"#EBF0F8\"},\"line\":{\"color\":\"white\"}},\"header\":{\"fill\":{\"color\":\"#C8D4E3\"},\"line\":{\"color\":\"white\"}},\"type\":\"table\"}],\"barpolar\":[{\"marker\":{\"line\":{\"color\":\"#E5ECF6\",\"width\":0.5},\"pattern\":{\"fillmode\":\"overlay\",\"size\":10,\"solidity\":0.2}},\"type\":\"barpolar\"}],\"pie\":[{\"automargin\":true,\"type\":\"pie\"}]},\"layout\":{\"autotypenumbers\":\"strict\",\"colorway\":[\"#636efa\",\"#EF553B\",\"#00cc96\",\"#ab63fa\",\"#FFA15A\",\"#19d3f3\",\"#FF6692\",\"#B6E880\",\"#FF97FF\",\"#FECB52\"],\"font\":{\"color\":\"#2a3f5f\"},\"hovermode\":\"closest\",\"hoverlabel\":{\"align\":\"left\"},\"paper_bgcolor\":\"white\",\"plot_bgcolor\":\"#E5ECF6\",\"polar\":{\"bgcolor\":\"#E5ECF6\",\"angularaxis\":{\"gridcolor\":\"white\",\"linecolor\":\"white\",\"ticks\":\"\"},\"radialaxis\":{\"gridcolor\":\"white\",\"linecolor\":\"white\",\"ticks\":\"\"}},\"ternary\":{\"bgcolor\":\"#E5ECF6\",\"aaxis\":{\"gridcolor\":\"white\",\"linecolor\":\"white\",\"ticks\":\"\"},\"baxis\":{\"gridcolor\":\"white\",\"linecolor\":\"white\",\"ticks\":\"\"},\"caxis\":{\"gridcolor\":\"white\",\"linecolor\":\"white\",\"ticks\":\"\"}},\"coloraxis\":{\"colorbar\":{\"outlinewidth\":0,\"ticks\":\"\"}},\"colorscale\":{\"sequential\":[[0.0,\"#0d0887\"],[0.1111111111111111,\"#46039f\"],[0.2222222222222222,\"#7201a8\"],[0.3333333333333333,\"#9c179e\"],[0.4444444444444444,\"#bd3786\"],[0.5555555555555556,\"#d8576b\"],[0.6666666666666666,\"#ed7953\"],[0.7777777777777778,\"#fb9f3a\"],[0.8888888888888888,\"#fdca26\"],[1.0,\"#f0f921\"]],\"sequentialminus\":[[0.0,\"#0d0887\"],[0.1111111111111111,\"#46039f\"],[0.2222222222222222,\"#7201a8\"],[0.3333333333333333,\"#9c179e\"],[0.4444444444444444,\"#bd3786\"],[0.5555555555555556,\"#d8576b\"],[0.6666666666666666,\"#ed7953\"],[0.7777777777777778,\"#fb9f3a\"],[0.8888888888888888,\"#fdca26\"],[1.0,\"#f0f921\"]],\"diverging\":[[0,\"#8e0152\"],[0.1,\"#c51b7d\"],[0.2,\"#de77ae\"],[0.3,\"#f1b6da\"],[0.4,\"#fde0ef\"],[0.5,\"#f7f7f7\"],[0.6,\"#e6f5d0\"],[0.7,\"#b8e186\"],[0.8,\"#7fbc41\"],[0.9,\"#4d9221\"],[1,\"#276419\"]]},\"xaxis\":{\"gridcolor\":\"white\",\"linecolor\":\"white\",\"ticks\":\"\",\"title\":{\"standoff\":15},\"zerolinecolor\":\"white\",\"automargin\":true,\"zerolinewidth\":2},\"yaxis\":{\"gridcolor\":\"white\",\"linecolor\":\"white\",\"ticks\":\"\",\"title\":{\"standoff\":15},\"zerolinecolor\":\"white\",\"automargin\":true,\"zerolinewidth\":2},\"scene\":{\"xaxis\":{\"backgroundcolor\":\"#E5ECF6\",\"gridcolor\":\"white\",\"linecolor\":\"white\",\"showbackground\":true,\"ticks\":\"\",\"zerolinecolor\":\"white\",\"gridwidth\":2},\"yaxis\":{\"backgroundcolor\":\"#E5ECF6\",\"gridcolor\":\"white\",\"linecolor\":\"white\",\"showbackground\":true,\"ticks\":\"\",\"zerolinecolor\":\"white\",\"gridwidth\":2},\"zaxis\":{\"backgroundcolor\":\"#E5ECF6\",\"gridcolor\":\"white\",\"linecolor\":\"white\",\"showbackground\":true,\"ticks\":\"\",\"zerolinecolor\":\"white\",\"gridwidth\":2}},\"shapedefaults\":{\"line\":{\"color\":\"#2a3f5f\"}},\"annotationdefaults\":{\"arrowcolor\":\"#2a3f5f\",\"arrowhead\":0,\"arrowwidth\":1},\"geo\":{\"bgcolor\":\"white\",\"landcolor\":\"#E5ECF6\",\"subunitcolor\":\"white\",\"showland\":true,\"showlakes\":true,\"lakecolor\":\"white\"},\"title\":{\"x\":0.05},\"mapbox\":{\"style\":\"light\"}}},\"xaxis\":{\"anchor\":\"y\",\"domain\":[0.0,0.2888888888888889],\"title\":{\"text\":\"Bill\"},\"visible\":true,\"tickformat\":\",.0%\"},\"yaxis\":{\"anchor\":\"x\",\"domain\":[0.0,1.0],\"visible\":true},\"xaxis2\":{\"anchor\":\"y2\",\"domain\":[0.35555555555555557,0.6444444444444445],\"title\":{\"text\":\"Emission\"},\"visible\":true,\"tickformat\":\",.0%\"},\"yaxis2\":{\"anchor\":\"x2\",\"domain\":[0.0,1.0],\"visible\":false},\"xaxis3\":{\"anchor\":\"y3\",\"domain\":[0.7111111111111111,1.0],\"title\":{\"text\":\"Total Energy\"},\"visible\":true,\"tickformat\":\",.0%\"},\"yaxis3\":{\"anchor\":\"x3\",\"domain\":[0.0,1.0],\"visible\":false},\"barmode\":\"relative\",\"font\":{\"size\":10},\"title\":{\"text\":\"Percentage of Household in Positive and Negative Savings\"},\"autosize\":false,\"width\":1000,\"height\":500},                        {\"responsive\": true}                    ).then(function(){\n",
       "                            \n",
       "var gd = document.getElementById('e271575c-8285-4e09-9aab-e1ca661f8de8');\n",
       "var x = new MutationObserver(function (mutations, observer) {{\n",
       "        var display = window.getComputedStyle(gd).display;\n",
       "        if (!display || display === 'none') {{\n",
       "            console.log([gd, 'removed!']);\n",
       "            Plotly.purge(gd);\n",
       "            observer.disconnect();\n",
       "        }}\n",
       "}});\n",
       "\n",
       "// Listen for the removal of the full notebook cells\n",
       "var notebookContainer = gd.closest('#notebook-container');\n",
       "if (notebookContainer) {{\n",
       "    x.observe(notebookContainer, {childList: true});\n",
       "}}\n",
       "\n",
       "// Listen for the clearing of the current output cell\n",
       "var outputEl = gd.closest('.output');\n",
       "if (outputEl) {{\n",
       "    x.observe(outputEl, {childList: true});\n",
       "}}\n",
       "\n",
       "                        })                };                });            </script>        </div>"
      ]
     },
     "metadata": {},
     "output_type": "display_data"
    }
   ],
   "source": [
    "segment = 'segment3'\n",
    "results = figure_positive_negative_savings(segment, community_results) \n",
    "saving_results[f'segment3_{income}_pct_bill_positive_savings_%'] = results[0]*100\n",
    "saving_results[f'segment3_{income}_pct_emission_positive_savings_%'] = results[1]*100\n",
    "saving_results[f'segment3_{income}_pct_energy_positive_savings_%'] = results[2]*100"
   ]
  },
  {
   "cell_type": "markdown",
   "id": "45d6e0b1",
   "metadata": {},
   "source": [
    "## 2.6. Average Energy Burden (%) Before and after Upgrade"
   ]
  },
  {
   "cell_type": "code",
   "execution_count": 226,
   "id": "59f77d21",
   "metadata": {},
   "outputs": [
    {
     "name": "stdout",
     "output_type": "stream",
     "text": [
      "energy burden (%) before and after upgrade\n",
      "segment1\n"
     ]
    },
    {
     "name": "stderr",
     "output_type": "stream",
     "text": [
      "C:\\Users\\ylou2\\AppData\\Local\\Temp\\ipykernel_12568\\3366644941.py:4: SettingWithCopyWarning:\n",
      "\n",
      "\n",
      "A value is trying to be set on a copy of a slice from a DataFrame\n",
      "\n",
      "See the caveats in the documentation: https://pandas.pydata.org/pandas-docs/stable/user_guide/indexing.html#returning-a-view-versus-a-copy\n",
      "\n",
      "C:\\Users\\ylou2\\AppData\\Local\\Temp\\ipykernel_12568\\3366644941.py:5: SettingWithCopyWarning:\n",
      "\n",
      "\n",
      "A value is trying to be set on a copy of a slice from a DataFrame\n",
      "\n",
      "See the caveats in the documentation: https://pandas.pydata.org/pandas-docs/stable/user_guide/indexing.html#returning-a-view-versus-a-copy\n",
      "\n",
      "C:\\Users\\ylou2\\AppData\\Local\\Temp\\ipykernel_12568\\3366644941.py:6: SettingWithCopyWarning:\n",
      "\n",
      "\n",
      "A value is trying to be set on a copy of a slice from a DataFrame.\n",
      "Try using .loc[row_indexer,col_indexer] = value instead\n",
      "\n",
      "See the caveats in the documentation: https://pandas.pydata.org/pandas-docs/stable/user_guide/indexing.html#returning-a-view-versus-a-copy\n",
      "\n",
      "C:\\Users\\ylou2\\AppData\\Local\\Temp\\ipykernel_12568\\3366644941.py:7: SettingWithCopyWarning:\n",
      "\n",
      "\n",
      "A value is trying to be set on a copy of a slice from a DataFrame.\n",
      "Try using .loc[row_indexer,col_indexer] = value instead\n",
      "\n",
      "See the caveats in the documentation: https://pandas.pydata.org/pandas-docs/stable/user_guide/indexing.html#returning-a-view-versus-a-copy\n",
      "\n"
     ]
    },
    {
     "data": {
      "text/html": [
       "<div>\n",
       "<style scoped>\n",
       "    .dataframe tbody tr th:only-of-type {\n",
       "        vertical-align: middle;\n",
       "    }\n",
       "\n",
       "    .dataframe tbody tr th {\n",
       "        vertical-align: top;\n",
       "    }\n",
       "\n",
       "    .dataframe thead th {\n",
       "        text-align: right;\n",
       "    }\n",
       "</style>\n",
       "<table border=\"1\" class=\"dataframe\">\n",
       "  <thead>\n",
       "    <tr style=\"text-align: right;\">\n",
       "      <th></th>\n",
       "      <th>before</th>\n",
       "      <th>after</th>\n",
       "    </tr>\n",
       "    <tr>\n",
       "      <th>upgrade_name</th>\n",
       "      <th></th>\n",
       "      <th></th>\n",
       "    </tr>\n",
       "  </thead>\n",
       "  <tbody>\n",
       "    <tr>\n",
       "      <th>Enhanced Enclosure + High Efficiency Whole Home Electrification</th>\n",
       "      <td>10.3</td>\n",
       "      <td>5.7</td>\n",
       "    </tr>\n",
       "    <tr>\n",
       "      <th>Enhanced Enclosure + HPWH + High Efficiency HP/Electric Backup</th>\n",
       "      <td>10.3</td>\n",
       "      <td>5.8</td>\n",
       "    </tr>\n",
       "    <tr>\n",
       "      <th>Basic Enclosure + High Efficiency Whole Home Electrification</th>\n",
       "      <td>10.3</td>\n",
       "      <td>5.9</td>\n",
       "    </tr>\n",
       "    <tr>\n",
       "      <th>Basic Enclosure + HPWH + High Efficiency HP/Electric Backup</th>\n",
       "      <td>10.3</td>\n",
       "      <td>6.0</td>\n",
       "    </tr>\n",
       "    <tr>\n",
       "      <th>High Efficiency Whole Home Electrification</th>\n",
       "      <td>10.3</td>\n",
       "      <td>7.0</td>\n",
       "    </tr>\n",
       "    <tr>\n",
       "      <th>High Efficiency Heat Pump with Electric Heat Backup</th>\n",
       "      <td>10.3</td>\n",
       "      <td>7.8</td>\n",
       "    </tr>\n",
       "    <tr>\n",
       "      <th>Enhanced Enclosure</th>\n",
       "      <td>10.3</td>\n",
       "      <td>8.1</td>\n",
       "    </tr>\n",
       "    <tr>\n",
       "      <th>Basic Enclosure</th>\n",
       "      <td>10.3</td>\n",
       "      <td>8.4</td>\n",
       "    </tr>\n",
       "    <tr>\n",
       "      <th>Mininum Efficiency Heat Pump with Existing Heat Backup</th>\n",
       "      <td>11.6</td>\n",
       "      <td>10.8</td>\n",
       "    </tr>\n",
       "    <tr>\n",
       "      <th>Heat Pump Water Heater</th>\n",
       "      <td>10.3</td>\n",
       "      <td>9.8</td>\n",
       "    </tr>\n",
       "    <tr>\n",
       "      <th>Heat Pump Clothes Dryer</th>\n",
       "      <td>10.3</td>\n",
       "      <td>10.2</td>\n",
       "    </tr>\n",
       "    <tr>\n",
       "      <th>Induction Cooking</th>\n",
       "      <td>10.3</td>\n",
       "      <td>10.3</td>\n",
       "    </tr>\n",
       "    <tr>\n",
       "      <th>Electric Cooking</th>\n",
       "      <td>8.9</td>\n",
       "      <td>9.0</td>\n",
       "    </tr>\n",
       "    <tr>\n",
       "      <th>Electric Clothes Dryer</th>\n",
       "      <td>7.4</td>\n",
       "      <td>7.5</td>\n",
       "    </tr>\n",
       "    <tr>\n",
       "      <th>Mininum Efficiency Heat Pump with Electric Heat Backup</th>\n",
       "      <td>10.3</td>\n",
       "      <td>11.0</td>\n",
       "    </tr>\n",
       "    <tr>\n",
       "      <th>Mininum Efficiency Whole Home Electrification</th>\n",
       "      <td>9.6</td>\n",
       "      <td>10.8</td>\n",
       "    </tr>\n",
       "  </tbody>\n",
       "</table>\n",
       "</div>"
      ],
      "text/plain": [
       "                                                    before  after\n",
       "upgrade_name                                                     \n",
       "Enhanced Enclosure + High Efficiency Whole Home...    10.3    5.7\n",
       "Enhanced Enclosure + HPWH + High Efficiency HP/...    10.3    5.8\n",
       "Basic Enclosure + High Efficiency Whole Home El...    10.3    5.9\n",
       "Basic Enclosure + HPWH + High Efficiency HP/Ele...    10.3    6.0\n",
       "High Efficiency Whole Home Electrification            10.3    7.0\n",
       "High Efficiency Heat Pump with Electric Heat Ba...    10.3    7.8\n",
       "Enhanced Enclosure                                    10.3    8.1\n",
       "Basic Enclosure                                       10.3    8.4\n",
       "Mininum Efficiency Heat Pump with Existing Heat...    11.6   10.8\n",
       "Heat Pump Water Heater                                10.3    9.8\n",
       "Heat Pump Clothes Dryer                               10.3   10.2\n",
       "Induction Cooking                                     10.3   10.3\n",
       "Electric Cooking                                       8.9    9.0\n",
       "Electric Clothes Dryer                                 7.4    7.5\n",
       "Mininum Efficiency Heat Pump with Electric Heat...    10.3   11.0\n",
       "Mininum Efficiency Whole Home Electrification          9.6   10.8"
      ]
     },
     "metadata": {},
     "output_type": "display_data"
    },
    {
     "name": "stdout",
     "output_type": "stream",
     "text": [
      "segment2\n"
     ]
    },
    {
     "data": {
      "text/html": [
       "<div>\n",
       "<style scoped>\n",
       "    .dataframe tbody tr th:only-of-type {\n",
       "        vertical-align: middle;\n",
       "    }\n",
       "\n",
       "    .dataframe tbody tr th {\n",
       "        vertical-align: top;\n",
       "    }\n",
       "\n",
       "    .dataframe thead th {\n",
       "        text-align: right;\n",
       "    }\n",
       "</style>\n",
       "<table border=\"1\" class=\"dataframe\">\n",
       "  <thead>\n",
       "    <tr style=\"text-align: right;\">\n",
       "      <th></th>\n",
       "      <th>before</th>\n",
       "      <th>after</th>\n",
       "    </tr>\n",
       "    <tr>\n",
       "      <th>upgrade_name</th>\n",
       "      <th></th>\n",
       "      <th></th>\n",
       "    </tr>\n",
       "  </thead>\n",
       "  <tbody>\n",
       "    <tr>\n",
       "      <th>Enhanced Enclosure + High Efficiency Whole Home Electrification</th>\n",
       "      <td>15.1</td>\n",
       "      <td>6.6</td>\n",
       "    </tr>\n",
       "    <tr>\n",
       "      <th>Enhanced Enclosure + HPWH + High Efficiency HP/Electric Backup</th>\n",
       "      <td>15.1</td>\n",
       "      <td>6.8</td>\n",
       "    </tr>\n",
       "    <tr>\n",
       "      <th>Basic Enclosure + High Efficiency Whole Home Electrification</th>\n",
       "      <td>15.1</td>\n",
       "      <td>7.0</td>\n",
       "    </tr>\n",
       "    <tr>\n",
       "      <th>Basic Enclosure + HPWH + High Efficiency HP/Electric Backup</th>\n",
       "      <td>15.1</td>\n",
       "      <td>7.2</td>\n",
       "    </tr>\n",
       "    <tr>\n",
       "      <th>High Efficiency Whole Home Electrification</th>\n",
       "      <td>15.1</td>\n",
       "      <td>8.2</td>\n",
       "    </tr>\n",
       "    <tr>\n",
       "      <th>High Efficiency Heat Pump with Electric Heat Backup</th>\n",
       "      <td>15.1</td>\n",
       "      <td>9.4</td>\n",
       "    </tr>\n",
       "    <tr>\n",
       "      <th>Enhanced Enclosure</th>\n",
       "      <td>15.1</td>\n",
       "      <td>11.5</td>\n",
       "    </tr>\n",
       "    <tr>\n",
       "      <th>Basic Enclosure</th>\n",
       "      <td>15.1</td>\n",
       "      <td>12.3</td>\n",
       "    </tr>\n",
       "    <tr>\n",
       "      <th>Mininum Efficiency Heat Pump with Existing Heat Backup</th>\n",
       "      <td>15.1</td>\n",
       "      <td>12.4</td>\n",
       "    </tr>\n",
       "    <tr>\n",
       "      <th>Mininum Efficiency Heat Pump with Electric Heat Backup</th>\n",
       "      <td>15.1</td>\n",
       "      <td>12.7</td>\n",
       "    </tr>\n",
       "    <tr>\n",
       "      <th>Heat Pump Water Heater</th>\n",
       "      <td>15.1</td>\n",
       "      <td>14.6</td>\n",
       "    </tr>\n",
       "    <tr>\n",
       "      <th>Heat Pump Clothes Dryer</th>\n",
       "      <td>19.9</td>\n",
       "      <td>19.6</td>\n",
       "    </tr>\n",
       "    <tr>\n",
       "      <th>Induction Cooking</th>\n",
       "      <td>16.1</td>\n",
       "      <td>16.1</td>\n",
       "    </tr>\n",
       "    <tr>\n",
       "      <th>Electric Cooking</th>\n",
       "      <td>15.1</td>\n",
       "      <td>15.3</td>\n",
       "    </tr>\n",
       "    <tr>\n",
       "      <th>Mininum Efficiency Whole Home Electrification</th>\n",
       "      <td>12.0</td>\n",
       "      <td>12.9</td>\n",
       "    </tr>\n",
       "  </tbody>\n",
       "</table>\n",
       "</div>"
      ],
      "text/plain": [
       "                                                    before  after\n",
       "upgrade_name                                                     \n",
       "Enhanced Enclosure + High Efficiency Whole Home...    15.1    6.6\n",
       "Enhanced Enclosure + HPWH + High Efficiency HP/...    15.1    6.8\n",
       "Basic Enclosure + High Efficiency Whole Home El...    15.1    7.0\n",
       "Basic Enclosure + HPWH + High Efficiency HP/Ele...    15.1    7.2\n",
       "High Efficiency Whole Home Electrification            15.1    8.2\n",
       "High Efficiency Heat Pump with Electric Heat Ba...    15.1    9.4\n",
       "Enhanced Enclosure                                    15.1   11.5\n",
       "Basic Enclosure                                       15.1   12.3\n",
       "Mininum Efficiency Heat Pump with Existing Heat...    15.1   12.4\n",
       "Mininum Efficiency Heat Pump with Electric Heat...    15.1   12.7\n",
       "Heat Pump Water Heater                                15.1   14.6\n",
       "Heat Pump Clothes Dryer                               19.9   19.6\n",
       "Induction Cooking                                     16.1   16.1\n",
       "Electric Cooking                                      15.1   15.3\n",
       "Mininum Efficiency Whole Home Electrification         12.0   12.9"
      ]
     },
     "metadata": {},
     "output_type": "display_data"
    },
    {
     "name": "stdout",
     "output_type": "stream",
     "text": [
      "segment3\n"
     ]
    },
    {
     "data": {
      "text/html": [
       "<div>\n",
       "<style scoped>\n",
       "    .dataframe tbody tr th:only-of-type {\n",
       "        vertical-align: middle;\n",
       "    }\n",
       "\n",
       "    .dataframe tbody tr th {\n",
       "        vertical-align: top;\n",
       "    }\n",
       "\n",
       "    .dataframe thead th {\n",
       "        text-align: right;\n",
       "    }\n",
       "</style>\n",
       "<table border=\"1\" class=\"dataframe\">\n",
       "  <thead>\n",
       "    <tr style=\"text-align: right;\">\n",
       "      <th></th>\n",
       "      <th>before</th>\n",
       "      <th>after</th>\n",
       "    </tr>\n",
       "    <tr>\n",
       "      <th>upgrade_name</th>\n",
       "      <th></th>\n",
       "      <th></th>\n",
       "    </tr>\n",
       "  </thead>\n",
       "  <tbody>\n",
       "    <tr>\n",
       "      <th>Enhanced Enclosure + High Efficiency Whole Home Electrification</th>\n",
       "      <td>10.4</td>\n",
       "      <td>5.9</td>\n",
       "    </tr>\n",
       "    <tr>\n",
       "      <th>Basic Enclosure + High Efficiency Whole Home Electrification</th>\n",
       "      <td>10.4</td>\n",
       "      <td>6.0</td>\n",
       "    </tr>\n",
       "    <tr>\n",
       "      <th>Enhanced Enclosure + HPWH + High Efficiency HP/Electric Backup</th>\n",
       "      <td>10.4</td>\n",
       "      <td>6.0</td>\n",
       "    </tr>\n",
       "    <tr>\n",
       "      <th>Basic Enclosure + HPWH + High Efficiency HP/Electric Backup</th>\n",
       "      <td>10.4</td>\n",
       "      <td>6.1</td>\n",
       "    </tr>\n",
       "    <tr>\n",
       "      <th>High Efficiency Whole Home Electrification</th>\n",
       "      <td>10.4</td>\n",
       "      <td>6.6</td>\n",
       "    </tr>\n",
       "    <tr>\n",
       "      <th>High Efficiency Heat Pump with Electric Heat Backup</th>\n",
       "      <td>10.6</td>\n",
       "      <td>7.8</td>\n",
       "    </tr>\n",
       "    <tr>\n",
       "      <th>Enhanced Enclosure</th>\n",
       "      <td>10.6</td>\n",
       "      <td>9.1</td>\n",
       "    </tr>\n",
       "    <tr>\n",
       "      <th>Basic Enclosure</th>\n",
       "      <td>10.5</td>\n",
       "      <td>9.2</td>\n",
       "    </tr>\n",
       "    <tr>\n",
       "      <th>Mininum Efficiency Heat Pump with Existing Heat Backup</th>\n",
       "      <td>10.4</td>\n",
       "      <td>9.4</td>\n",
       "    </tr>\n",
       "    <tr>\n",
       "      <th>Heat Pump Water Heater</th>\n",
       "      <td>10.4</td>\n",
       "      <td>9.8</td>\n",
       "    </tr>\n",
       "    <tr>\n",
       "      <th>Mininum Efficiency Heat Pump with Electric Heat Backup</th>\n",
       "      <td>10.6</td>\n",
       "      <td>10.0</td>\n",
       "    </tr>\n",
       "    <tr>\n",
       "      <th>Heat Pump Clothes Dryer</th>\n",
       "      <td>11.0</td>\n",
       "      <td>10.9</td>\n",
       "    </tr>\n",
       "    <tr>\n",
       "      <th>Induction Cooking</th>\n",
       "      <td>10.5</td>\n",
       "      <td>10.5</td>\n",
       "    </tr>\n",
       "    <tr>\n",
       "      <th>Electric Cooking</th>\n",
       "      <td>9.5</td>\n",
       "      <td>9.6</td>\n",
       "    </tr>\n",
       "    <tr>\n",
       "      <th>Electric Clothes Dryer</th>\n",
       "      <td>8.9</td>\n",
       "      <td>9.1</td>\n",
       "    </tr>\n",
       "    <tr>\n",
       "      <th>Mininum Efficiency Whole Home Electrification</th>\n",
       "      <td>8.6</td>\n",
       "      <td>9.3</td>\n",
       "    </tr>\n",
       "  </tbody>\n",
       "</table>\n",
       "</div>"
      ],
      "text/plain": [
       "                                                    before  after\n",
       "upgrade_name                                                     \n",
       "Enhanced Enclosure + High Efficiency Whole Home...    10.4    5.9\n",
       "Basic Enclosure + High Efficiency Whole Home El...    10.4    6.0\n",
       "Enhanced Enclosure + HPWH + High Efficiency HP/...    10.4    6.0\n",
       "Basic Enclosure + HPWH + High Efficiency HP/Ele...    10.4    6.1\n",
       "High Efficiency Whole Home Electrification            10.4    6.6\n",
       "High Efficiency Heat Pump with Electric Heat Ba...    10.6    7.8\n",
       "Enhanced Enclosure                                    10.6    9.1\n",
       "Basic Enclosure                                       10.5    9.2\n",
       "Mininum Efficiency Heat Pump with Existing Heat...    10.4    9.4\n",
       "Heat Pump Water Heater                                10.4    9.8\n",
       "Mininum Efficiency Heat Pump with Electric Heat...    10.6   10.0\n",
       "Heat Pump Clothes Dryer                               11.0   10.9\n",
       "Induction Cooking                                     10.5   10.5\n",
       "Electric Cooking                                       9.5    9.6\n",
       "Electric Clothes Dryer                                 8.9    9.1\n",
       "Mininum Efficiency Whole Home Electrification          8.6    9.3"
      ]
     },
     "metadata": {},
     "output_type": "display_data"
    }
   ],
   "source": [
    "results = segment_mean_energy_burden('post-upgrade_energy_burden_2023_cbills.%', community_results) \n",
    "saving_results[[f'segment1_{income}_energy_burden_before_upgrade_%',f'segment1_{income}_energy_burden_after_upgrade_%']] = results[0]\n",
    "saving_results[[f'segment2_{income}_energy_burden_before_upgrade_%',f'segment2_{income}_energy_burden_after_upgrade_%']] = results[1]\n",
    "saving_results[[f'segment3_{income}_energy_burden_before_upgrade_%',f'segment3_{income}_energy_burden_after_upgrade_%']] = results[2]"
   ]
  },
  {
   "cell_type": "markdown",
   "id": "e9d397f2",
   "metadata": {},
   "source": [
    "# 3. Results for Segments (0-80% AMI)"
   ]
  },
  {
   "cell_type": "markdown",
   "id": "bfb9f9b0",
   "metadata": {},
   "source": [
    "Segment Definition\n",
    "\n",
    "Segment 1. Occupied, Single family detached, pre 1940, renters, 0-80% AMI \n",
    "\n",
    "Segment 2. Occupied, Multifamily buildings, pre 1940, renters, 0-80% AMI \n",
    "\n",
    "Segment 3. Occupied, All housing types, renters, 0-80% AMI\n"
   ]
  },
  {
   "cell_type": "code",
   "execution_count": 227,
   "id": "30b69583",
   "metadata": {},
   "outputs": [],
   "source": [
    "community_results = pd.read_parquet(f\"data_/community_building_samples_with_upgrade_cost_and_bill/{community}/processed_upgrade_results.parquet\")"
   ]
  },
  {
   "cell_type": "code",
   "execution_count": 228,
   "id": "c1e1ddc7",
   "metadata": {},
   "outputs": [],
   "source": [
    "income = '0-80%AMI'\n",
    "vacancy_status = ['Occupied']\n",
    "\n",
    "seg1_building_type = ['Single-Family Detached']\n",
    "seg1_vintage = ['<1940']\n",
    "seg1_tenure = ['Renter']\n",
    "seg1_median_income = ['0-30%','30-60%','60-80%']\n",
    "\n",
    "seg2_building_type = ['Multi-Family with 2 - 4 Units', 'Multi-Family with 5+ Units']\n",
    "seg2_vintage = ['<1940']\n",
    "seg2_tenure = ['Renter']\n",
    "seg2_median_income = ['0-30%','30-60%','60-80%']\n",
    "\n",
    "seg3_tenure = ['Renter']\n",
    "seg3_median_income = ['0-30%','30-60%','60-80%']\n",
    "\n",
    "community_results.loc[community_results['build_existing_model.vacancy_status'].isin(vacancy_status) & \n",
    "                     community_results['build_existing_model.geometry_building_type_recs'].isin(seg1_building_type) & \n",
    "                     community_results['build_existing_model.vintage'].isin(seg1_vintage) &\n",
    "                    community_results['build_existing_model.area_median_income'].isin(seg1_median_income) &\n",
    "                     community_results['build_existing_model.tenure'].isin(seg1_tenure),\n",
    "                     'segment'] = 'segment1'\n",
    "community_results.loc[community_results['build_existing_model.vacancy_status'].isin(vacancy_status) & \n",
    "                     community_results['build_existing_model.geometry_building_type_recs'].isin(seg2_building_type) & \n",
    "                     community_results['build_existing_model.vintage'].isin(seg2_vintage) &\n",
    "                      community_results['build_existing_model.area_median_income'].isin(seg2_median_income) &\n",
    "                     community_results['build_existing_model.tenure'].isin(seg2_tenure),\n",
    "                     'segment'] = 'segment2'\n",
    "\n",
    "seg3 = community_results.copy().assign(segment='segment3')\n",
    "seg3 = seg3.loc[seg3['build_existing_model.tenure'].isin(seg3_tenure) &\n",
    "                seg3['build_existing_model.area_median_income'].isin(seg3_median_income) &\n",
    "                seg3['build_existing_model.vacancy_status'].isin(vacancy_status)]\n",
    "community_results = pd.concat([community_results, seg3], axis=0)"
   ]
  },
  {
   "cell_type": "code",
   "execution_count": 229,
   "id": "a0ff5f8e",
   "metadata": {},
   "outputs": [
    {
     "name": "stdout",
     "output_type": "stream",
     "text": [
      "Summary for segment: segment1: \n"
     ]
    },
    {
     "data": {
      "text/html": [
       "<div>\n",
       "<style scoped>\n",
       "    .dataframe tbody tr th:only-of-type {\n",
       "        vertical-align: middle;\n",
       "    }\n",
       "\n",
       "    .dataframe tbody tr th {\n",
       "        vertical-align: top;\n",
       "    }\n",
       "\n",
       "    .dataframe thead th {\n",
       "        text-align: right;\n",
       "    }\n",
       "</style>\n",
       "<table border=\"1\" class=\"dataframe\">\n",
       "  <thead>\n",
       "    <tr style=\"text-align: right;\">\n",
       "      <th></th>\n",
       "      <th>n_samples</th>\n",
       "      <th>n_represented</th>\n",
       "      <th>saving_cbill.total_usd wt_mean</th>\n",
       "      <th>saving_cbill.total_usd wt_p0.1</th>\n",
       "      <th>saving_cbill.total_usd wt_p0.25</th>\n",
       "      <th>saving_cbill.total_usd wt_p0.75</th>\n",
       "      <th>saving_cbill.total_usd wt_p0.9</th>\n",
       "    </tr>\n",
       "    <tr>\n",
       "      <th>upgrade_name</th>\n",
       "      <th></th>\n",
       "      <th></th>\n",
       "      <th></th>\n",
       "      <th></th>\n",
       "      <th></th>\n",
       "      <th></th>\n",
       "      <th></th>\n",
       "    </tr>\n",
       "  </thead>\n",
       "  <tbody>\n",
       "    <tr>\n",
       "      <th>Enhanced Enclosure + High Efficiency Whole Home Electrification</th>\n",
       "      <td>19</td>\n",
       "      <td>463.351509</td>\n",
       "      <td>871.633522</td>\n",
       "      <td>-215.039362</td>\n",
       "      <td>625.497524</td>\n",
       "      <td>1331.758929</td>\n",
       "      <td>1817.745312</td>\n",
       "    </tr>\n",
       "    <tr>\n",
       "      <th>Enhanced Enclosure + HPWH + High Efficiency HP/Electric Backup</th>\n",
       "      <td>19</td>\n",
       "      <td>463.351509</td>\n",
       "      <td>846.540211</td>\n",
       "      <td>-212.223831</td>\n",
       "      <td>594.401410</td>\n",
       "      <td>1315.985346</td>\n",
       "      <td>1780.466666</td>\n",
       "    </tr>\n",
       "    <tr>\n",
       "      <th>Basic Enclosure + High Efficiency Whole Home Electrification</th>\n",
       "      <td>19</td>\n",
       "      <td>463.351509</td>\n",
       "      <td>830.735070</td>\n",
       "      <td>-307.489792</td>\n",
       "      <td>625.497524</td>\n",
       "      <td>1308.074323</td>\n",
       "      <td>1817.745312</td>\n",
       "    </tr>\n",
       "    <tr>\n",
       "      <th>Basic Enclosure + HPWH + High Efficiency HP/Electric Backup</th>\n",
       "      <td>19</td>\n",
       "      <td>463.351509</td>\n",
       "      <td>805.641758</td>\n",
       "      <td>-304.674261</td>\n",
       "      <td>594.401410</td>\n",
       "      <td>1283.333096</td>\n",
       "      <td>1780.466666</td>\n",
       "    </tr>\n",
       "    <tr>\n",
       "      <th>High Efficiency Whole Home Electrification</th>\n",
       "      <td>19</td>\n",
       "      <td>463.351509</td>\n",
       "      <td>562.834172</td>\n",
       "      <td>-643.999438</td>\n",
       "      <td>430.805420</td>\n",
       "      <td>934.010660</td>\n",
       "      <td>1619.183218</td>\n",
       "    </tr>\n",
       "    <tr>\n",
       "      <th>Enhanced Enclosure</th>\n",
       "      <td>19</td>\n",
       "      <td>463.351509</td>\n",
       "      <td>457.999564</td>\n",
       "      <td>66.236935</td>\n",
       "      <td>224.377026</td>\n",
       "      <td>662.658139</td>\n",
       "      <td>778.929367</td>\n",
       "    </tr>\n",
       "    <tr>\n",
       "      <th>High Efficiency Heat Pump with Electric Heat Backup</th>\n",
       "      <td>19</td>\n",
       "      <td>463.351509</td>\n",
       "      <td>400.217129</td>\n",
       "      <td>-680.317656</td>\n",
       "      <td>217.803434</td>\n",
       "      <td>710.456624</td>\n",
       "      <td>1198.968505</td>\n",
       "    </tr>\n",
       "    <tr>\n",
       "      <th>Basic Enclosure</th>\n",
       "      <td>19</td>\n",
       "      <td>463.351509</td>\n",
       "      <td>394.332683</td>\n",
       "      <td>57.070379</td>\n",
       "      <td>199.675731</td>\n",
       "      <td>584.772524</td>\n",
       "      <td>702.002854</td>\n",
       "    </tr>\n",
       "    <tr>\n",
       "      <th>Mininum Efficiency Heat Pump with Existing Heat Backup</th>\n",
       "      <td>18</td>\n",
       "      <td>385.037949</td>\n",
       "      <td>157.785098</td>\n",
       "      <td>-148.545882</td>\n",
       "      <td>-33.430589</td>\n",
       "      <td>226.651491</td>\n",
       "      <td>746.182441</td>\n",
       "    </tr>\n",
       "    <tr>\n",
       "      <th>Heat Pump Water Heater</th>\n",
       "      <td>19</td>\n",
       "      <td>463.351509</td>\n",
       "      <td>85.898932</td>\n",
       "      <td>1.564376</td>\n",
       "      <td>10.548130</td>\n",
       "      <td>103.590862</td>\n",
       "      <td>263.692629</td>\n",
       "    </tr>\n",
       "    <tr>\n",
       "      <th>Heat Pump Clothes Dryer</th>\n",
       "      <td>19</td>\n",
       "      <td>463.351509</td>\n",
       "      <td>30.858036</td>\n",
       "      <td>-7.462699</td>\n",
       "      <td>5.994285</td>\n",
       "      <td>36.342501</td>\n",
       "      <td>73.136652</td>\n",
       "    </tr>\n",
       "    <tr>\n",
       "      <th>baseline</th>\n",
       "      <td>19</td>\n",
       "      <td>463.351509</td>\n",
       "      <td>0.000000</td>\n",
       "      <td>NaN</td>\n",
       "      <td>NaN</td>\n",
       "      <td>NaN</td>\n",
       "      <td>NaN</td>\n",
       "    </tr>\n",
       "    <tr>\n",
       "      <th>Induction Cooking</th>\n",
       "      <td>19</td>\n",
       "      <td>463.351509</td>\n",
       "      <td>-9.631617</td>\n",
       "      <td>-32.036747</td>\n",
       "      <td>-27.871881</td>\n",
       "      <td>4.323128</td>\n",
       "      <td>6.017794</td>\n",
       "    </tr>\n",
       "    <tr>\n",
       "      <th>Electric Cooking</th>\n",
       "      <td>10</td>\n",
       "      <td>243.172315</td>\n",
       "      <td>-30.046895</td>\n",
       "      <td>-37.565633</td>\n",
       "      <td>-35.963369</td>\n",
       "      <td>-24.940932</td>\n",
       "      <td>-16.891621</td>\n",
       "    </tr>\n",
       "    <tr>\n",
       "      <th>Electric Clothes Dryer</th>\n",
       "      <td>5</td>\n",
       "      <td>99.728306</td>\n",
       "      <td>-36.186050</td>\n",
       "      <td>-51.932499</td>\n",
       "      <td>-43.421977</td>\n",
       "      <td>-28.569983</td>\n",
       "      <td>-24.492818</td>\n",
       "    </tr>\n",
       "    <tr>\n",
       "      <th>Mininum Efficiency Heat Pump with Electric Heat Backup</th>\n",
       "      <td>19</td>\n",
       "      <td>463.351509</td>\n",
       "      <td>-336.642519</td>\n",
       "      <td>-1463.251786</td>\n",
       "      <td>-538.820216</td>\n",
       "      <td>229.957694</td>\n",
       "      <td>400.653561</td>\n",
       "    </tr>\n",
       "    <tr>\n",
       "      <th>Mininum Efficiency Whole Home Electrification</th>\n",
       "      <td>17</td>\n",
       "      <td>394.827144</td>\n",
       "      <td>-520.155012</td>\n",
       "      <td>-1585.772373</td>\n",
       "      <td>-808.397501</td>\n",
       "      <td>-96.474718</td>\n",
       "      <td>14.311788</td>\n",
       "    </tr>\n",
       "  </tbody>\n",
       "</table>\n",
       "</div>"
      ],
      "text/plain": [
       "                                                    n_samples  n_represented  \\\n",
       "upgrade_name                                                                   \n",
       "Enhanced Enclosure + High Efficiency Whole Home...         19     463.351509   \n",
       "Enhanced Enclosure + HPWH + High Efficiency HP/...         19     463.351509   \n",
       "Basic Enclosure + High Efficiency Whole Home El...         19     463.351509   \n",
       "Basic Enclosure + HPWH + High Efficiency HP/Ele...         19     463.351509   \n",
       "High Efficiency Whole Home Electrification                 19     463.351509   \n",
       "Enhanced Enclosure                                         19     463.351509   \n",
       "High Efficiency Heat Pump with Electric Heat Ba...         19     463.351509   \n",
       "Basic Enclosure                                            19     463.351509   \n",
       "Mininum Efficiency Heat Pump with Existing Heat...         18     385.037949   \n",
       "Heat Pump Water Heater                                     19     463.351509   \n",
       "Heat Pump Clothes Dryer                                    19     463.351509   \n",
       "baseline                                                   19     463.351509   \n",
       "Induction Cooking                                          19     463.351509   \n",
       "Electric Cooking                                           10     243.172315   \n",
       "Electric Clothes Dryer                                      5      99.728306   \n",
       "Mininum Efficiency Heat Pump with Electric Heat...         19     463.351509   \n",
       "Mininum Efficiency Whole Home Electrification              17     394.827144   \n",
       "\n",
       "                                                    saving_cbill.total_usd wt_mean  \\\n",
       "upgrade_name                                                                         \n",
       "Enhanced Enclosure + High Efficiency Whole Home...                      871.633522   \n",
       "Enhanced Enclosure + HPWH + High Efficiency HP/...                      846.540211   \n",
       "Basic Enclosure + High Efficiency Whole Home El...                      830.735070   \n",
       "Basic Enclosure + HPWH + High Efficiency HP/Ele...                      805.641758   \n",
       "High Efficiency Whole Home Electrification                              562.834172   \n",
       "Enhanced Enclosure                                                      457.999564   \n",
       "High Efficiency Heat Pump with Electric Heat Ba...                      400.217129   \n",
       "Basic Enclosure                                                         394.332683   \n",
       "Mininum Efficiency Heat Pump with Existing Heat...                      157.785098   \n",
       "Heat Pump Water Heater                                                   85.898932   \n",
       "Heat Pump Clothes Dryer                                                  30.858036   \n",
       "baseline                                                                  0.000000   \n",
       "Induction Cooking                                                        -9.631617   \n",
       "Electric Cooking                                                        -30.046895   \n",
       "Electric Clothes Dryer                                                  -36.186050   \n",
       "Mininum Efficiency Heat Pump with Electric Heat...                     -336.642519   \n",
       "Mininum Efficiency Whole Home Electrification                          -520.155012   \n",
       "\n",
       "                                                    saving_cbill.total_usd wt_p0.1  \\\n",
       "upgrade_name                                                                         \n",
       "Enhanced Enclosure + High Efficiency Whole Home...                     -215.039362   \n",
       "Enhanced Enclosure + HPWH + High Efficiency HP/...                     -212.223831   \n",
       "Basic Enclosure + High Efficiency Whole Home El...                     -307.489792   \n",
       "Basic Enclosure + HPWH + High Efficiency HP/Ele...                     -304.674261   \n",
       "High Efficiency Whole Home Electrification                             -643.999438   \n",
       "Enhanced Enclosure                                                       66.236935   \n",
       "High Efficiency Heat Pump with Electric Heat Ba...                     -680.317656   \n",
       "Basic Enclosure                                                          57.070379   \n",
       "Mininum Efficiency Heat Pump with Existing Heat...                     -148.545882   \n",
       "Heat Pump Water Heater                                                    1.564376   \n",
       "Heat Pump Clothes Dryer                                                  -7.462699   \n",
       "baseline                                                                       NaN   \n",
       "Induction Cooking                                                       -32.036747   \n",
       "Electric Cooking                                                        -37.565633   \n",
       "Electric Clothes Dryer                                                  -51.932499   \n",
       "Mininum Efficiency Heat Pump with Electric Heat...                    -1463.251786   \n",
       "Mininum Efficiency Whole Home Electrification                         -1585.772373   \n",
       "\n",
       "                                                    saving_cbill.total_usd wt_p0.25  \\\n",
       "upgrade_name                                                                          \n",
       "Enhanced Enclosure + High Efficiency Whole Home...                       625.497524   \n",
       "Enhanced Enclosure + HPWH + High Efficiency HP/...                       594.401410   \n",
       "Basic Enclosure + High Efficiency Whole Home El...                       625.497524   \n",
       "Basic Enclosure + HPWH + High Efficiency HP/Ele...                       594.401410   \n",
       "High Efficiency Whole Home Electrification                               430.805420   \n",
       "Enhanced Enclosure                                                       224.377026   \n",
       "High Efficiency Heat Pump with Electric Heat Ba...                       217.803434   \n",
       "Basic Enclosure                                                          199.675731   \n",
       "Mininum Efficiency Heat Pump with Existing Heat...                       -33.430589   \n",
       "Heat Pump Water Heater                                                    10.548130   \n",
       "Heat Pump Clothes Dryer                                                    5.994285   \n",
       "baseline                                                                        NaN   \n",
       "Induction Cooking                                                        -27.871881   \n",
       "Electric Cooking                                                         -35.963369   \n",
       "Electric Clothes Dryer                                                   -43.421977   \n",
       "Mininum Efficiency Heat Pump with Electric Heat...                      -538.820216   \n",
       "Mininum Efficiency Whole Home Electrification                           -808.397501   \n",
       "\n",
       "                                                    saving_cbill.total_usd wt_p0.75  \\\n",
       "upgrade_name                                                                          \n",
       "Enhanced Enclosure + High Efficiency Whole Home...                      1331.758929   \n",
       "Enhanced Enclosure + HPWH + High Efficiency HP/...                      1315.985346   \n",
       "Basic Enclosure + High Efficiency Whole Home El...                      1308.074323   \n",
       "Basic Enclosure + HPWH + High Efficiency HP/Ele...                      1283.333096   \n",
       "High Efficiency Whole Home Electrification                               934.010660   \n",
       "Enhanced Enclosure                                                       662.658139   \n",
       "High Efficiency Heat Pump with Electric Heat Ba...                       710.456624   \n",
       "Basic Enclosure                                                          584.772524   \n",
       "Mininum Efficiency Heat Pump with Existing Heat...                       226.651491   \n",
       "Heat Pump Water Heater                                                   103.590862   \n",
       "Heat Pump Clothes Dryer                                                   36.342501   \n",
       "baseline                                                                        NaN   \n",
       "Induction Cooking                                                          4.323128   \n",
       "Electric Cooking                                                         -24.940932   \n",
       "Electric Clothes Dryer                                                   -28.569983   \n",
       "Mininum Efficiency Heat Pump with Electric Heat...                       229.957694   \n",
       "Mininum Efficiency Whole Home Electrification                            -96.474718   \n",
       "\n",
       "                                                    saving_cbill.total_usd wt_p0.9  \n",
       "upgrade_name                                                                        \n",
       "Enhanced Enclosure + High Efficiency Whole Home...                     1817.745312  \n",
       "Enhanced Enclosure + HPWH + High Efficiency HP/...                     1780.466666  \n",
       "Basic Enclosure + High Efficiency Whole Home El...                     1817.745312  \n",
       "Basic Enclosure + HPWH + High Efficiency HP/Ele...                     1780.466666  \n",
       "High Efficiency Whole Home Electrification                             1619.183218  \n",
       "Enhanced Enclosure                                                      778.929367  \n",
       "High Efficiency Heat Pump with Electric Heat Ba...                     1198.968505  \n",
       "Basic Enclosure                                                         702.002854  \n",
       "Mininum Efficiency Heat Pump with Existing Heat...                      746.182441  \n",
       "Heat Pump Water Heater                                                  263.692629  \n",
       "Heat Pump Clothes Dryer                                                  73.136652  \n",
       "baseline                                                                       NaN  \n",
       "Induction Cooking                                                         6.017794  \n",
       "Electric Cooking                                                        -16.891621  \n",
       "Electric Clothes Dryer                                                  -24.492818  \n",
       "Mininum Efficiency Heat Pump with Electric Heat...                      400.653561  \n",
       "Mininum Efficiency Whole Home Electrification                            14.311788  "
      ]
     },
     "metadata": {},
     "output_type": "display_data"
    },
    {
     "name": "stdout",
     "output_type": "stream",
     "text": [
      "Summary for segment: segment2: \n"
     ]
    },
    {
     "data": {
      "text/html": [
       "<div>\n",
       "<style scoped>\n",
       "    .dataframe tbody tr th:only-of-type {\n",
       "        vertical-align: middle;\n",
       "    }\n",
       "\n",
       "    .dataframe tbody tr th {\n",
       "        vertical-align: top;\n",
       "    }\n",
       "\n",
       "    .dataframe thead th {\n",
       "        text-align: right;\n",
       "    }\n",
       "</style>\n",
       "<table border=\"1\" class=\"dataframe\">\n",
       "  <thead>\n",
       "    <tr style=\"text-align: right;\">\n",
       "      <th></th>\n",
       "      <th>n_samples</th>\n",
       "      <th>n_represented</th>\n",
       "      <th>saving_cbill.total_usd wt_mean</th>\n",
       "      <th>saving_cbill.total_usd wt_p0.1</th>\n",
       "      <th>saving_cbill.total_usd wt_p0.25</th>\n",
       "      <th>saving_cbill.total_usd wt_p0.75</th>\n",
       "      <th>saving_cbill.total_usd wt_p0.9</th>\n",
       "    </tr>\n",
       "    <tr>\n",
       "      <th>upgrade_name</th>\n",
       "      <th></th>\n",
       "      <th></th>\n",
       "      <th></th>\n",
       "      <th></th>\n",
       "      <th></th>\n",
       "      <th></th>\n",
       "      <th></th>\n",
       "    </tr>\n",
       "  </thead>\n",
       "  <tbody>\n",
       "    <tr>\n",
       "      <th>Enhanced Enclosure + High Efficiency Whole Home Electrification</th>\n",
       "      <td>5</td>\n",
       "      <td>202.310028</td>\n",
       "      <td>1070.242967</td>\n",
       "      <td>540.225657</td>\n",
       "      <td>578.037942</td>\n",
       "      <td>1527.758846</td>\n",
       "      <td>2047.329660</td>\n",
       "    </tr>\n",
       "    <tr>\n",
       "      <th>Basic Enclosure + High Efficiency Whole Home Electrification</th>\n",
       "      <td>5</td>\n",
       "      <td>202.310028</td>\n",
       "      <td>1055.114809</td>\n",
       "      <td>540.225657</td>\n",
       "      <td>578.037942</td>\n",
       "      <td>1469.137230</td>\n",
       "      <td>2047.329660</td>\n",
       "    </tr>\n",
       "    <tr>\n",
       "      <th>Enhanced Enclosure + HPWH + High Efficiency HP/Electric Backup</th>\n",
       "      <td>5</td>\n",
       "      <td>202.310028</td>\n",
       "      <td>1051.374838</td>\n",
       "      <td>537.459713</td>\n",
       "      <td>565.015838</td>\n",
       "      <td>1489.092789</td>\n",
       "      <td>2012.052935</td>\n",
       "    </tr>\n",
       "    <tr>\n",
       "      <th>Basic Enclosure + HPWH + High Efficiency HP/Electric Backup</th>\n",
       "      <td>5</td>\n",
       "      <td>202.310028</td>\n",
       "      <td>1036.246679</td>\n",
       "      <td>537.459713</td>\n",
       "      <td>565.015838</td>\n",
       "      <td>1430.471174</td>\n",
       "      <td>2012.052935</td>\n",
       "    </tr>\n",
       "    <tr>\n",
       "      <th>High Efficiency Whole Home Electrification</th>\n",
       "      <td>5</td>\n",
       "      <td>202.310028</td>\n",
       "      <td>902.307017</td>\n",
       "      <td>343.112961</td>\n",
       "      <td>402.856627</td>\n",
       "      <td>1286.718522</td>\n",
       "      <td>1783.860948</td>\n",
       "    </tr>\n",
       "    <tr>\n",
       "      <th>High Efficiency Heat Pump with Electric Heat Backup</th>\n",
       "      <td>5</td>\n",
       "      <td>202.310028</td>\n",
       "      <td>777.299932</td>\n",
       "      <td>253.522748</td>\n",
       "      <td>330.474102</td>\n",
       "      <td>1099.700005</td>\n",
       "      <td>1654.132523</td>\n",
       "    </tr>\n",
       "    <tr>\n",
       "      <th>Enhanced Enclosure</th>\n",
       "      <td>5</td>\n",
       "      <td>202.310028</td>\n",
       "      <td>424.689454</td>\n",
       "      <td>71.383489</td>\n",
       "      <td>137.655068</td>\n",
       "      <td>716.325015</td>\n",
       "      <td>902.323274</td>\n",
       "    </tr>\n",
       "    <tr>\n",
       "      <th>Mininum Efficiency Heat Pump with Existing Heat Backup</th>\n",
       "      <td>5</td>\n",
       "      <td>202.310028</td>\n",
       "      <td>411.642486</td>\n",
       "      <td>-15.131826</td>\n",
       "      <td>63.186725</td>\n",
       "      <td>768.529187</td>\n",
       "      <td>1049.032945</td>\n",
       "    </tr>\n",
       "    <tr>\n",
       "      <th>Basic Enclosure</th>\n",
       "      <td>5</td>\n",
       "      <td>202.310028</td>\n",
       "      <td>382.683153</td>\n",
       "      <td>71.383489</td>\n",
       "      <td>138.080708</td>\n",
       "      <td>611.255989</td>\n",
       "      <td>902.323274</td>\n",
       "    </tr>\n",
       "    <tr>\n",
       "      <th>Mininum Efficiency Heat Pump with Electric Heat Backup</th>\n",
       "      <td>5</td>\n",
       "      <td>202.310028</td>\n",
       "      <td>367.468540</td>\n",
       "      <td>-195.361112</td>\n",
       "      <td>-18.663444</td>\n",
       "      <td>768.529187</td>\n",
       "      <td>1049.032945</td>\n",
       "    </tr>\n",
       "    <tr>\n",
       "      <th>Heat Pump Water Heater</th>\n",
       "      <td>5</td>\n",
       "      <td>202.310028</td>\n",
       "      <td>52.367480</td>\n",
       "      <td>27.353191</td>\n",
       "      <td>37.939326</td>\n",
       "      <td>63.873218</td>\n",
       "      <td>77.777994</td>\n",
       "    </tr>\n",
       "    <tr>\n",
       "      <th>Heat Pump Clothes Dryer</th>\n",
       "      <td>3</td>\n",
       "      <td>114.207274</td>\n",
       "      <td>30.122568</td>\n",
       "      <td>19.713464</td>\n",
       "      <td>23.578660</td>\n",
       "      <td>35.568702</td>\n",
       "      <td>37.628506</td>\n",
       "    </tr>\n",
       "    <tr>\n",
       "      <th>Induction Cooking</th>\n",
       "      <td>4</td>\n",
       "      <td>172.942444</td>\n",
       "      <td>0.269512</td>\n",
       "      <td>-15.158402</td>\n",
       "      <td>-3.612762</td>\n",
       "      <td>3.910103</td>\n",
       "      <td>4.354255</td>\n",
       "    </tr>\n",
       "    <tr>\n",
       "      <th>baseline</th>\n",
       "      <td>5</td>\n",
       "      <td>202.310028</td>\n",
       "      <td>0.000000</td>\n",
       "      <td>NaN</td>\n",
       "      <td>NaN</td>\n",
       "      <td>NaN</td>\n",
       "      <td>NaN</td>\n",
       "    </tr>\n",
       "    <tr>\n",
       "      <th>Electric Cooking</th>\n",
       "      <td>1</td>\n",
       "      <td>29.367585</td>\n",
       "      <td>-20.747111</td>\n",
       "      <td>-20.747111</td>\n",
       "      <td>-20.747111</td>\n",
       "      <td>-20.747111</td>\n",
       "      <td>-20.747111</td>\n",
       "    </tr>\n",
       "    <tr>\n",
       "      <th>Mininum Efficiency Whole Home Electrification</th>\n",
       "      <td>2</td>\n",
       "      <td>58.735169</td>\n",
       "      <td>-91.225962</td>\n",
       "      <td>-169.020930</td>\n",
       "      <td>-169.020930</td>\n",
       "      <td>-13.430993</td>\n",
       "      <td>-13.430993</td>\n",
       "    </tr>\n",
       "  </tbody>\n",
       "</table>\n",
       "</div>"
      ],
      "text/plain": [
       "                                                    n_samples  n_represented  \\\n",
       "upgrade_name                                                                   \n",
       "Enhanced Enclosure + High Efficiency Whole Home...          5     202.310028   \n",
       "Basic Enclosure + High Efficiency Whole Home El...          5     202.310028   \n",
       "Enhanced Enclosure + HPWH + High Efficiency HP/...          5     202.310028   \n",
       "Basic Enclosure + HPWH + High Efficiency HP/Ele...          5     202.310028   \n",
       "High Efficiency Whole Home Electrification                  5     202.310028   \n",
       "High Efficiency Heat Pump with Electric Heat Ba...          5     202.310028   \n",
       "Enhanced Enclosure                                          5     202.310028   \n",
       "Mininum Efficiency Heat Pump with Existing Heat...          5     202.310028   \n",
       "Basic Enclosure                                             5     202.310028   \n",
       "Mininum Efficiency Heat Pump with Electric Heat...          5     202.310028   \n",
       "Heat Pump Water Heater                                      5     202.310028   \n",
       "Heat Pump Clothes Dryer                                     3     114.207274   \n",
       "Induction Cooking                                           4     172.942444   \n",
       "baseline                                                    5     202.310028   \n",
       "Electric Cooking                                            1      29.367585   \n",
       "Mininum Efficiency Whole Home Electrification               2      58.735169   \n",
       "\n",
       "                                                    saving_cbill.total_usd wt_mean  \\\n",
       "upgrade_name                                                                         \n",
       "Enhanced Enclosure + High Efficiency Whole Home...                     1070.242967   \n",
       "Basic Enclosure + High Efficiency Whole Home El...                     1055.114809   \n",
       "Enhanced Enclosure + HPWH + High Efficiency HP/...                     1051.374838   \n",
       "Basic Enclosure + HPWH + High Efficiency HP/Ele...                     1036.246679   \n",
       "High Efficiency Whole Home Electrification                              902.307017   \n",
       "High Efficiency Heat Pump with Electric Heat Ba...                      777.299932   \n",
       "Enhanced Enclosure                                                      424.689454   \n",
       "Mininum Efficiency Heat Pump with Existing Heat...                      411.642486   \n",
       "Basic Enclosure                                                         382.683153   \n",
       "Mininum Efficiency Heat Pump with Electric Heat...                      367.468540   \n",
       "Heat Pump Water Heater                                                   52.367480   \n",
       "Heat Pump Clothes Dryer                                                  30.122568   \n",
       "Induction Cooking                                                         0.269512   \n",
       "baseline                                                                  0.000000   \n",
       "Electric Cooking                                                        -20.747111   \n",
       "Mininum Efficiency Whole Home Electrification                           -91.225962   \n",
       "\n",
       "                                                    saving_cbill.total_usd wt_p0.1  \\\n",
       "upgrade_name                                                                         \n",
       "Enhanced Enclosure + High Efficiency Whole Home...                      540.225657   \n",
       "Basic Enclosure + High Efficiency Whole Home El...                      540.225657   \n",
       "Enhanced Enclosure + HPWH + High Efficiency HP/...                      537.459713   \n",
       "Basic Enclosure + HPWH + High Efficiency HP/Ele...                      537.459713   \n",
       "High Efficiency Whole Home Electrification                              343.112961   \n",
       "High Efficiency Heat Pump with Electric Heat Ba...                      253.522748   \n",
       "Enhanced Enclosure                                                       71.383489   \n",
       "Mininum Efficiency Heat Pump with Existing Heat...                      -15.131826   \n",
       "Basic Enclosure                                                          71.383489   \n",
       "Mininum Efficiency Heat Pump with Electric Heat...                     -195.361112   \n",
       "Heat Pump Water Heater                                                   27.353191   \n",
       "Heat Pump Clothes Dryer                                                  19.713464   \n",
       "Induction Cooking                                                       -15.158402   \n",
       "baseline                                                                       NaN   \n",
       "Electric Cooking                                                        -20.747111   \n",
       "Mininum Efficiency Whole Home Electrification                          -169.020930   \n",
       "\n",
       "                                                    saving_cbill.total_usd wt_p0.25  \\\n",
       "upgrade_name                                                                          \n",
       "Enhanced Enclosure + High Efficiency Whole Home...                       578.037942   \n",
       "Basic Enclosure + High Efficiency Whole Home El...                       578.037942   \n",
       "Enhanced Enclosure + HPWH + High Efficiency HP/...                       565.015838   \n",
       "Basic Enclosure + HPWH + High Efficiency HP/Ele...                       565.015838   \n",
       "High Efficiency Whole Home Electrification                               402.856627   \n",
       "High Efficiency Heat Pump with Electric Heat Ba...                       330.474102   \n",
       "Enhanced Enclosure                                                       137.655068   \n",
       "Mininum Efficiency Heat Pump with Existing Heat...                        63.186725   \n",
       "Basic Enclosure                                                          138.080708   \n",
       "Mininum Efficiency Heat Pump with Electric Heat...                       -18.663444   \n",
       "Heat Pump Water Heater                                                    37.939326   \n",
       "Heat Pump Clothes Dryer                                                   23.578660   \n",
       "Induction Cooking                                                         -3.612762   \n",
       "baseline                                                                        NaN   \n",
       "Electric Cooking                                                         -20.747111   \n",
       "Mininum Efficiency Whole Home Electrification                           -169.020930   \n",
       "\n",
       "                                                    saving_cbill.total_usd wt_p0.75  \\\n",
       "upgrade_name                                                                          \n",
       "Enhanced Enclosure + High Efficiency Whole Home...                      1527.758846   \n",
       "Basic Enclosure + High Efficiency Whole Home El...                      1469.137230   \n",
       "Enhanced Enclosure + HPWH + High Efficiency HP/...                      1489.092789   \n",
       "Basic Enclosure + HPWH + High Efficiency HP/Ele...                      1430.471174   \n",
       "High Efficiency Whole Home Electrification                              1286.718522   \n",
       "High Efficiency Heat Pump with Electric Heat Ba...                      1099.700005   \n",
       "Enhanced Enclosure                                                       716.325015   \n",
       "Mininum Efficiency Heat Pump with Existing Heat...                       768.529187   \n",
       "Basic Enclosure                                                          611.255989   \n",
       "Mininum Efficiency Heat Pump with Electric Heat...                       768.529187   \n",
       "Heat Pump Water Heater                                                    63.873218   \n",
       "Heat Pump Clothes Dryer                                                   35.568702   \n",
       "Induction Cooking                                                          3.910103   \n",
       "baseline                                                                        NaN   \n",
       "Electric Cooking                                                         -20.747111   \n",
       "Mininum Efficiency Whole Home Electrification                            -13.430993   \n",
       "\n",
       "                                                    saving_cbill.total_usd wt_p0.9  \n",
       "upgrade_name                                                                        \n",
       "Enhanced Enclosure + High Efficiency Whole Home...                     2047.329660  \n",
       "Basic Enclosure + High Efficiency Whole Home El...                     2047.329660  \n",
       "Enhanced Enclosure + HPWH + High Efficiency HP/...                     2012.052935  \n",
       "Basic Enclosure + HPWH + High Efficiency HP/Ele...                     2012.052935  \n",
       "High Efficiency Whole Home Electrification                             1783.860948  \n",
       "High Efficiency Heat Pump with Electric Heat Ba...                     1654.132523  \n",
       "Enhanced Enclosure                                                      902.323274  \n",
       "Mininum Efficiency Heat Pump with Existing Heat...                     1049.032945  \n",
       "Basic Enclosure                                                         902.323274  \n",
       "Mininum Efficiency Heat Pump with Electric Heat...                     1049.032945  \n",
       "Heat Pump Water Heater                                                   77.777994  \n",
       "Heat Pump Clothes Dryer                                                  37.628506  \n",
       "Induction Cooking                                                         4.354255  \n",
       "baseline                                                                       NaN  \n",
       "Electric Cooking                                                        -20.747111  \n",
       "Mininum Efficiency Whole Home Electrification                           -13.430993  "
      ]
     },
     "metadata": {},
     "output_type": "display_data"
    },
    {
     "name": "stdout",
     "output_type": "stream",
     "text": [
      "Summary for segment: segment3: \n"
     ]
    },
    {
     "data": {
      "text/html": [
       "<div>\n",
       "<style scoped>\n",
       "    .dataframe tbody tr th:only-of-type {\n",
       "        vertical-align: middle;\n",
       "    }\n",
       "\n",
       "    .dataframe tbody tr th {\n",
       "        vertical-align: top;\n",
       "    }\n",
       "\n",
       "    .dataframe thead th {\n",
       "        text-align: right;\n",
       "    }\n",
       "</style>\n",
       "<table border=\"1\" class=\"dataframe\">\n",
       "  <thead>\n",
       "    <tr style=\"text-align: right;\">\n",
       "      <th></th>\n",
       "      <th>n_samples</th>\n",
       "      <th>n_represented</th>\n",
       "      <th>saving_cbill.total_usd wt_mean</th>\n",
       "      <th>saving_cbill.total_usd wt_p0.1</th>\n",
       "      <th>saving_cbill.total_usd wt_p0.25</th>\n",
       "      <th>saving_cbill.total_usd wt_p0.75</th>\n",
       "      <th>saving_cbill.total_usd wt_p0.9</th>\n",
       "    </tr>\n",
       "    <tr>\n",
       "      <th>upgrade_name</th>\n",
       "      <th></th>\n",
       "      <th></th>\n",
       "      <th></th>\n",
       "      <th></th>\n",
       "      <th></th>\n",
       "      <th></th>\n",
       "      <th></th>\n",
       "    </tr>\n",
       "  </thead>\n",
       "  <tbody>\n",
       "    <tr>\n",
       "      <th>Enhanced Enclosure + High Efficiency Whole Home Electrification</th>\n",
       "      <td>195</td>\n",
       "      <td>6183.564070</td>\n",
       "      <td>738.135527</td>\n",
       "      <td>236.062659</td>\n",
       "      <td>380.382790</td>\n",
       "      <td>908.805701</td>\n",
       "      <td>1410.171721</td>\n",
       "    </tr>\n",
       "    <tr>\n",
       "      <th>Basic Enclosure + High Efficiency Whole Home Electrification</th>\n",
       "      <td>195</td>\n",
       "      <td>6183.564070</td>\n",
       "      <td>725.083772</td>\n",
       "      <td>228.571197</td>\n",
       "      <td>380.046821</td>\n",
       "      <td>890.134235</td>\n",
       "      <td>1363.454800</td>\n",
       "    </tr>\n",
       "    <tr>\n",
       "      <th>Enhanced Enclosure + HPWH + High Efficiency HP/Electric Backup</th>\n",
       "      <td>195</td>\n",
       "      <td>6183.564070</td>\n",
       "      <td>721.479844</td>\n",
       "      <td>217.203887</td>\n",
       "      <td>367.419169</td>\n",
       "      <td>875.954054</td>\n",
       "      <td>1360.323969</td>\n",
       "    </tr>\n",
       "    <tr>\n",
       "      <th>Basic Enclosure + HPWH + High Efficiency HP/Electric Backup</th>\n",
       "      <td>195</td>\n",
       "      <td>6183.564070</td>\n",
       "      <td>708.428089</td>\n",
       "      <td>210.396424</td>\n",
       "      <td>360.076190</td>\n",
       "      <td>855.059835</td>\n",
       "      <td>1360.323969</td>\n",
       "    </tr>\n",
       "    <tr>\n",
       "      <th>High Efficiency Whole Home Electrification</th>\n",
       "      <td>195</td>\n",
       "      <td>6183.564070</td>\n",
       "      <td>612.921614</td>\n",
       "      <td>178.238059</td>\n",
       "      <td>323.736192</td>\n",
       "      <td>739.838903</td>\n",
       "      <td>1328.533417</td>\n",
       "    </tr>\n",
       "    <tr>\n",
       "      <th>High Efficiency Heat Pump with Electric Heat Backup</th>\n",
       "      <td>194</td>\n",
       "      <td>6124.828901</td>\n",
       "      <td>457.311076</td>\n",
       "      <td>109.383511</td>\n",
       "      <td>213.143927</td>\n",
       "      <td>553.163602</td>\n",
       "      <td>1002.242854</td>\n",
       "    </tr>\n",
       "    <tr>\n",
       "      <th>Enhanced Enclosure</th>\n",
       "      <td>193</td>\n",
       "      <td>6140.847584</td>\n",
       "      <td>264.038453</td>\n",
       "      <td>41.396527</td>\n",
       "      <td>86.553722</td>\n",
       "      <td>334.428038</td>\n",
       "      <td>587.135774</td>\n",
       "    </tr>\n",
       "    <tr>\n",
       "      <th>Basic Enclosure</th>\n",
       "      <td>192</td>\n",
       "      <td>6093.859448</td>\n",
       "      <td>224.265385</td>\n",
       "      <td>36.934424</td>\n",
       "      <td>74.639199</td>\n",
       "      <td>267.458826</td>\n",
       "      <td>487.193969</td>\n",
       "    </tr>\n",
       "    <tr>\n",
       "      <th>Mininum Efficiency Heat Pump with Existing Heat Backup</th>\n",
       "      <td>192</td>\n",
       "      <td>6025.157098</td>\n",
       "      <td>181.558055</td>\n",
       "      <td>-34.978024</td>\n",
       "      <td>24.263288</td>\n",
       "      <td>186.887478</td>\n",
       "      <td>696.592220</td>\n",
       "    </tr>\n",
       "    <tr>\n",
       "      <th>Heat Pump Water Heater</th>\n",
       "      <td>194</td>\n",
       "      <td>6169.744031</td>\n",
       "      <td>95.624776</td>\n",
       "      <td>3.185190</td>\n",
       "      <td>26.675890</td>\n",
       "      <td>146.904116</td>\n",
       "      <td>251.870712</td>\n",
       "    </tr>\n",
       "    <tr>\n",
       "      <th>Mininum Efficiency Heat Pump with Electric Heat Backup</th>\n",
       "      <td>194</td>\n",
       "      <td>6124.828901</td>\n",
       "      <td>76.277598</td>\n",
       "      <td>-426.594616</td>\n",
       "      <td>-95.594414</td>\n",
       "      <td>180.227253</td>\n",
       "      <td>669.027468</td>\n",
       "    </tr>\n",
       "    <tr>\n",
       "      <th>Heat Pump Clothes Dryer</th>\n",
       "      <td>138</td>\n",
       "      <td>4087.391573</td>\n",
       "      <td>24.689918</td>\n",
       "      <td>-6.229758</td>\n",
       "      <td>15.632431</td>\n",
       "      <td>35.726330</td>\n",
       "      <td>52.017001</td>\n",
       "    </tr>\n",
       "    <tr>\n",
       "      <th>baseline</th>\n",
       "      <td>195</td>\n",
       "      <td>6183.564070</td>\n",
       "      <td>0.000000</td>\n",
       "      <td>NaN</td>\n",
       "      <td>NaN</td>\n",
       "      <td>NaN</td>\n",
       "      <td>NaN</td>\n",
       "    </tr>\n",
       "    <tr>\n",
       "      <th>Induction Cooking</th>\n",
       "      <td>192</td>\n",
       "      <td>6118.599413</td>\n",
       "      <td>-2.130861</td>\n",
       "      <td>-16.838470</td>\n",
       "      <td>-10.673236</td>\n",
       "      <td>4.565223</td>\n",
       "      <td>5.499019</td>\n",
       "    </tr>\n",
       "    <tr>\n",
       "      <th>Electric Cooking</th>\n",
       "      <td>66</td>\n",
       "      <td>1770.695274</td>\n",
       "      <td>-23.078769</td>\n",
       "      <td>-37.084475</td>\n",
       "      <td>-25.382176</td>\n",
       "      <td>-15.940466</td>\n",
       "      <td>-12.468035</td>\n",
       "    </tr>\n",
       "    <tr>\n",
       "      <th>Electric Clothes Dryer</th>\n",
       "      <td>26</td>\n",
       "      <td>568.645795</td>\n",
       "      <td>-44.066557</td>\n",
       "      <td>-71.796246</td>\n",
       "      <td>-45.572270</td>\n",
       "      <td>-23.600109</td>\n",
       "      <td>-20.032680</td>\n",
       "    </tr>\n",
       "    <tr>\n",
       "      <th>Mininum Efficiency Whole Home Electrification</th>\n",
       "      <td>123</td>\n",
       "      <td>3358.292236</td>\n",
       "      <td>-173.878280</td>\n",
       "      <td>-504.899448</td>\n",
       "      <td>-273.548495</td>\n",
       "      <td>-5.021690</td>\n",
       "      <td>84.628317</td>\n",
       "    </tr>\n",
       "  </tbody>\n",
       "</table>\n",
       "</div>"
      ],
      "text/plain": [
       "                                                    n_samples  n_represented  \\\n",
       "upgrade_name                                                                   \n",
       "Enhanced Enclosure + High Efficiency Whole Home...        195    6183.564070   \n",
       "Basic Enclosure + High Efficiency Whole Home El...        195    6183.564070   \n",
       "Enhanced Enclosure + HPWH + High Efficiency HP/...        195    6183.564070   \n",
       "Basic Enclosure + HPWH + High Efficiency HP/Ele...        195    6183.564070   \n",
       "High Efficiency Whole Home Electrification                195    6183.564070   \n",
       "High Efficiency Heat Pump with Electric Heat Ba...        194    6124.828901   \n",
       "Enhanced Enclosure                                        193    6140.847584   \n",
       "Basic Enclosure                                           192    6093.859448   \n",
       "Mininum Efficiency Heat Pump with Existing Heat...        192    6025.157098   \n",
       "Heat Pump Water Heater                                    194    6169.744031   \n",
       "Mininum Efficiency Heat Pump with Electric Heat...        194    6124.828901   \n",
       "Heat Pump Clothes Dryer                                   138    4087.391573   \n",
       "baseline                                                  195    6183.564070   \n",
       "Induction Cooking                                         192    6118.599413   \n",
       "Electric Cooking                                           66    1770.695274   \n",
       "Electric Clothes Dryer                                     26     568.645795   \n",
       "Mininum Efficiency Whole Home Electrification             123    3358.292236   \n",
       "\n",
       "                                                    saving_cbill.total_usd wt_mean  \\\n",
       "upgrade_name                                                                         \n",
       "Enhanced Enclosure + High Efficiency Whole Home...                      738.135527   \n",
       "Basic Enclosure + High Efficiency Whole Home El...                      725.083772   \n",
       "Enhanced Enclosure + HPWH + High Efficiency HP/...                      721.479844   \n",
       "Basic Enclosure + HPWH + High Efficiency HP/Ele...                      708.428089   \n",
       "High Efficiency Whole Home Electrification                              612.921614   \n",
       "High Efficiency Heat Pump with Electric Heat Ba...                      457.311076   \n",
       "Enhanced Enclosure                                                      264.038453   \n",
       "Basic Enclosure                                                         224.265385   \n",
       "Mininum Efficiency Heat Pump with Existing Heat...                      181.558055   \n",
       "Heat Pump Water Heater                                                   95.624776   \n",
       "Mininum Efficiency Heat Pump with Electric Heat...                       76.277598   \n",
       "Heat Pump Clothes Dryer                                                  24.689918   \n",
       "baseline                                                                  0.000000   \n",
       "Induction Cooking                                                        -2.130861   \n",
       "Electric Cooking                                                        -23.078769   \n",
       "Electric Clothes Dryer                                                  -44.066557   \n",
       "Mininum Efficiency Whole Home Electrification                          -173.878280   \n",
       "\n",
       "                                                    saving_cbill.total_usd wt_p0.1  \\\n",
       "upgrade_name                                                                         \n",
       "Enhanced Enclosure + High Efficiency Whole Home...                      236.062659   \n",
       "Basic Enclosure + High Efficiency Whole Home El...                      228.571197   \n",
       "Enhanced Enclosure + HPWH + High Efficiency HP/...                      217.203887   \n",
       "Basic Enclosure + HPWH + High Efficiency HP/Ele...                      210.396424   \n",
       "High Efficiency Whole Home Electrification                              178.238059   \n",
       "High Efficiency Heat Pump with Electric Heat Ba...                      109.383511   \n",
       "Enhanced Enclosure                                                       41.396527   \n",
       "Basic Enclosure                                                          36.934424   \n",
       "Mininum Efficiency Heat Pump with Existing Heat...                      -34.978024   \n",
       "Heat Pump Water Heater                                                    3.185190   \n",
       "Mininum Efficiency Heat Pump with Electric Heat...                     -426.594616   \n",
       "Heat Pump Clothes Dryer                                                  -6.229758   \n",
       "baseline                                                                       NaN   \n",
       "Induction Cooking                                                       -16.838470   \n",
       "Electric Cooking                                                        -37.084475   \n",
       "Electric Clothes Dryer                                                  -71.796246   \n",
       "Mininum Efficiency Whole Home Electrification                          -504.899448   \n",
       "\n",
       "                                                    saving_cbill.total_usd wt_p0.25  \\\n",
       "upgrade_name                                                                          \n",
       "Enhanced Enclosure + High Efficiency Whole Home...                       380.382790   \n",
       "Basic Enclosure + High Efficiency Whole Home El...                       380.046821   \n",
       "Enhanced Enclosure + HPWH + High Efficiency HP/...                       367.419169   \n",
       "Basic Enclosure + HPWH + High Efficiency HP/Ele...                       360.076190   \n",
       "High Efficiency Whole Home Electrification                               323.736192   \n",
       "High Efficiency Heat Pump with Electric Heat Ba...                       213.143927   \n",
       "Enhanced Enclosure                                                        86.553722   \n",
       "Basic Enclosure                                                           74.639199   \n",
       "Mininum Efficiency Heat Pump with Existing Heat...                        24.263288   \n",
       "Heat Pump Water Heater                                                    26.675890   \n",
       "Mininum Efficiency Heat Pump with Electric Heat...                       -95.594414   \n",
       "Heat Pump Clothes Dryer                                                   15.632431   \n",
       "baseline                                                                        NaN   \n",
       "Induction Cooking                                                        -10.673236   \n",
       "Electric Cooking                                                         -25.382176   \n",
       "Electric Clothes Dryer                                                   -45.572270   \n",
       "Mininum Efficiency Whole Home Electrification                           -273.548495   \n",
       "\n",
       "                                                    saving_cbill.total_usd wt_p0.75  \\\n",
       "upgrade_name                                                                          \n",
       "Enhanced Enclosure + High Efficiency Whole Home...                       908.805701   \n",
       "Basic Enclosure + High Efficiency Whole Home El...                       890.134235   \n",
       "Enhanced Enclosure + HPWH + High Efficiency HP/...                       875.954054   \n",
       "Basic Enclosure + HPWH + High Efficiency HP/Ele...                       855.059835   \n",
       "High Efficiency Whole Home Electrification                               739.838903   \n",
       "High Efficiency Heat Pump with Electric Heat Ba...                       553.163602   \n",
       "Enhanced Enclosure                                                       334.428038   \n",
       "Basic Enclosure                                                          267.458826   \n",
       "Mininum Efficiency Heat Pump with Existing Heat...                       186.887478   \n",
       "Heat Pump Water Heater                                                   146.904116   \n",
       "Mininum Efficiency Heat Pump with Electric Heat...                       180.227253   \n",
       "Heat Pump Clothes Dryer                                                   35.726330   \n",
       "baseline                                                                        NaN   \n",
       "Induction Cooking                                                          4.565223   \n",
       "Electric Cooking                                                         -15.940466   \n",
       "Electric Clothes Dryer                                                   -23.600109   \n",
       "Mininum Efficiency Whole Home Electrification                             -5.021690   \n",
       "\n",
       "                                                    saving_cbill.total_usd wt_p0.9  \n",
       "upgrade_name                                                                        \n",
       "Enhanced Enclosure + High Efficiency Whole Home...                     1410.171721  \n",
       "Basic Enclosure + High Efficiency Whole Home El...                     1363.454800  \n",
       "Enhanced Enclosure + HPWH + High Efficiency HP/...                     1360.323969  \n",
       "Basic Enclosure + HPWH + High Efficiency HP/Ele...                     1360.323969  \n",
       "High Efficiency Whole Home Electrification                             1328.533417  \n",
       "High Efficiency Heat Pump with Electric Heat Ba...                     1002.242854  \n",
       "Enhanced Enclosure                                                      587.135774  \n",
       "Basic Enclosure                                                         487.193969  \n",
       "Mininum Efficiency Heat Pump with Existing Heat...                      696.592220  \n",
       "Heat Pump Water Heater                                                  251.870712  \n",
       "Mininum Efficiency Heat Pump with Electric Heat...                      669.027468  \n",
       "Heat Pump Clothes Dryer                                                  52.017001  \n",
       "baseline                                                                       NaN  \n",
       "Induction Cooking                                                         5.499019  \n",
       "Electric Cooking                                                        -12.468035  \n",
       "Electric Clothes Dryer                                                  -20.032680  \n",
       "Mininum Efficiency Whole Home Electrification                            84.628317  "
      ]
     },
     "metadata": {},
     "output_type": "display_data"
    }
   ],
   "source": [
    "metric = 'saving_cbill.total_usd'  # TODO 'pct_saving_cbill.total_%' #'pct_saving_energy.total_%' #'saving_energy.total_mmbtu' #'saving_cbill.total_usd'\n",
    "\n",
    "for segment in sorted(community_results[\"segment\"].dropna().unique()):\n",
    "    print(f\"Summary for segment: {segment}: \")\n",
    "    df_seg = community_results.loc[community_results[\"segment\"]==segment]\n",
    "    results = get_summary(df_seg, metric, lower_percentile=0.10, middle_percentile1=0.25, middle_percentile2=0.75, upper_percentile=0.90)\n",
    "    saving_results[f'{segment}_{income}_saving_bill_total_usd_wt_p0.1'] = results.iloc[:, 3]\n",
    "    saving_results[f'{segment}_{income}_saving_bill_total_usd_wt_p0.25'] = results.iloc[:, 4]\n",
    "    saving_results[f'{segment}_{income}_saving_bill_total_usd_wt_p0.75'] = results.iloc[:, 5]\n",
    "    saving_results[f'{segment}_{income}_saving_bill_total_usd_wt_p0.9'] = results.iloc[:, 6]\n",
    "    display(results)"
   ]
  },
  {
   "cell_type": "markdown",
   "id": "1ff28af5",
   "metadata": {},
   "source": [
    "## 3.1 Upgrade Cost Per Dwelling Unit "
   ]
  },
  {
   "cell_type": "code",
   "execution_count": 230,
   "id": "2dc159a6",
   "metadata": {},
   "outputs": [
    {
     "name": "stdout",
     "output_type": "stream",
     "text": [
      "segment1: upgrade cost (usd) per dwelling unit\n"
     ]
    },
    {
     "data": {
      "text/plain": [
       "upgrade_name\n",
       "Electric Cooking                                                    1150.3\n",
       "Electric Clothes Dryer                                              1291.8\n",
       "Induction Cooking                                                   1978.0\n",
       "Heat Pump Clothes Dryer                                             2599.4\n",
       "Heat Pump Water Heater                                              3224.1\n",
       "Basic Enclosure                                                     7173.8\n",
       "Enhanced Enclosure                                                 10300.2\n",
       "Mininum Efficiency Heat Pump with Existing Heat Backup             21191.5\n",
       "Mininum Efficiency Heat Pump with Electric Heat Backup             28283.9\n",
       "Mininum Efficiency Whole Home Electrification                      29977.1\n",
       "High Efficiency Heat Pump with Electric Heat Backup                34412.7\n",
       "Basic Enclosure + HPWH + High Efficiency HP/Electric Backup        37835.4\n",
       "Enhanced Enclosure + HPWH + High Efficiency HP/Electric Backup     38913.9\n",
       "High Efficiency Whole Home Electrification                         42214.2\n",
       "Basic Enclosure + High Efficiency Whole Home Electrification       42412.8\n",
       "Enhanced Enclosure + High Efficiency Whole Home Electrification    43491.4\n",
       "Name: upgrade_cost_usd, dtype: float64"
      ]
     },
     "metadata": {},
     "output_type": "display_data"
    },
    {
     "name": "stdout",
     "output_type": "stream",
     "text": [
      "segment2: upgrade cost (usd) per dwelling unit\n"
     ]
    },
    {
     "data": {
      "text/plain": [
       "upgrade_name\n",
       "Electric Cooking                                                    1150.3\n",
       "Induction Cooking                                                   1978.0\n",
       "Heat Pump Clothes Dryer                                             2599.4\n",
       "Basic Enclosure                                                     2927.6\n",
       "Heat Pump Water Heater                                              2964.4\n",
       "Enhanced Enclosure                                                  3242.4\n",
       "Mininum Efficiency Whole Home Electrification                      13575.0\n",
       "Mininum Efficiency Heat Pump with Electric Heat Backup             14153.2\n",
       "Mininum Efficiency Heat Pump with Existing Heat Backup             14153.2\n",
       "High Efficiency Heat Pump with Electric Heat Backup                24100.3\n",
       "Basic Enclosure + HPWH + High Efficiency HP/Electric Backup        28268.5\n",
       "Enhanced Enclosure + HPWH + High Efficiency HP/Electric Backup     28456.4\n",
       "High Efficiency Whole Home Electrification                         30223.0\n",
       "Basic Enclosure + High Efficiency Whole Home Electrification       31426.8\n",
       "Enhanced Enclosure + High Efficiency Whole Home Electrification    31614.7\n",
       "Name: upgrade_cost_usd, dtype: float64"
      ]
     },
     "metadata": {},
     "output_type": "display_data"
    },
    {
     "name": "stdout",
     "output_type": "stream",
     "text": [
      "segment3: upgrade cost (usd) per dwelling unit\n"
     ]
    },
    {
     "data": {
      "text/plain": [
       "upgrade_name\n",
       "Electric Cooking                                                    1150.3\n",
       "Electric Clothes Dryer                                              1291.8\n",
       "Induction Cooking                                                   1978.0\n",
       "Heat Pump Clothes Dryer                                             2599.4\n",
       "Basic Enclosure                                                     2692.2\n",
       "Heat Pump Water Heater                                              3035.0\n",
       "Enhanced Enclosure                                                  4108.7\n",
       "Mininum Efficiency Heat Pump with Existing Heat Backup             12215.2\n",
       "Mininum Efficiency Heat Pump with Electric Heat Backup             12926.3\n",
       "Mininum Efficiency Whole Home Electrification                      13687.5\n",
       "High Efficiency Heat Pump with Electric Heat Backup                25345.9\n",
       "Basic Enclosure + HPWH + High Efficiency HP/Electric Backup        28866.0\n",
       "Enhanced Enclosure + HPWH + High Efficiency HP/Electric Backup     29630.4\n",
       "High Efficiency Whole Home Electrification                         31808.9\n",
       "Basic Enclosure + High Efficiency Whole Home Electrification       32541.5\n",
       "Enhanced Enclosure + High Efficiency Whole Home Electrification    33305.9\n",
       "Name: upgrade_cost_usd, dtype: float64"
      ]
     },
     "metadata": {},
     "output_type": "display_data"
    }
   ],
   "source": [
    "results = segment_mean_upgrade_cost(community_results) \n",
    "saving_results[f'segment1_{income}_upgrade_cost_mean_usd'] = results[0]\n",
    "saving_results[f'segment2_{income}_upgrade_cost_mean_usd'] = results[1]\n",
    "saving_results[f'segment3_{income}_upgrade_cost_mean_usd'] = results[2]"
   ]
  },
  {
   "cell_type": "markdown",
   "id": "7caaa79d",
   "metadata": {},
   "source": [
    " ## 3.2 Annual Savings Per Dollar Invested"
   ]
  },
  {
   "cell_type": "markdown",
   "id": "8e2dcd5d",
   "metadata": {},
   "source": [
    " ### Annual Bill Savings Per Dollar Invested"
   ]
  },
  {
   "cell_type": "code",
   "execution_count": 231,
   "id": "d57a486b",
   "metadata": {},
   "outputs": [
    {
     "name": "stdout",
     "output_type": "stream",
     "text": [
      "segment1\n"
     ]
    },
    {
     "data": {
      "text/plain": [
       "upgrade_name\n",
       "Basic Enclosure                                                    0.05497\n",
       "Enhanced Enclosure                                                 0.04447\n",
       "Heat Pump Water Heater                                             0.02664\n",
       "Enhanced Enclosure + HPWH + High Efficiency HP/Electric Backup     0.02175\n",
       "Basic Enclosure + HPWH + High Efficiency HP/Electric Backup        0.02129\n",
       "Enhanced Enclosure + High Efficiency Whole Home Electrification    0.02004\n",
       "Basic Enclosure + High Efficiency Whole Home Electrification       0.01959\n",
       "High Efficiency Whole Home Electrification                         0.01333\n",
       "Heat Pump Clothes Dryer                                            0.01187\n",
       "High Efficiency Heat Pump with Electric Heat Backup                0.01163\n",
       "Mininum Efficiency Heat Pump with Existing Heat Backup             0.00745\n",
       "Induction Cooking                                                 -0.00487\n",
       "Mininum Efficiency Heat Pump with Electric Heat Backup            -0.01190\n",
       "Mininum Efficiency Whole Home Electrification                     -0.01735\n",
       "Electric Cooking                                                  -0.02612\n",
       "Electric Clothes Dryer                                            -0.02801\n",
       "Name: saving_cbill.total_usd, dtype: float64"
      ]
     },
     "metadata": {},
     "output_type": "display_data"
    },
    {
     "name": "stdout",
     "output_type": "stream",
     "text": [
      "segment2\n"
     ]
    },
    {
     "data": {
      "text/plain": [
       "upgrade_name\n",
       "Enhanced Enclosure                                                 0.13098\n",
       "Basic Enclosure                                                    0.13071\n",
       "Enhanced Enclosure + HPWH + High Efficiency HP/Electric Backup     0.03695\n",
       "Basic Enclosure + HPWH + High Efficiency HP/Electric Backup        0.03666\n",
       "Enhanced Enclosure + High Efficiency Whole Home Electrification    0.03385\n",
       "Basic Enclosure + High Efficiency Whole Home Electrification       0.03357\n",
       "High Efficiency Heat Pump with Electric Heat Backup                0.03225\n",
       "High Efficiency Whole Home Electrification                         0.02985\n",
       "Mininum Efficiency Heat Pump with Existing Heat Backup             0.02908\n",
       "Mininum Efficiency Heat Pump with Electric Heat Backup             0.02596\n",
       "Heat Pump Water Heater                                             0.01767\n",
       "Heat Pump Clothes Dryer                                            0.01159\n",
       "Induction Cooking                                                  0.00014\n",
       "Mininum Efficiency Whole Home Electrification                     -0.00672\n",
       "Electric Cooking                                                  -0.01804\n",
       "Name: saving_cbill.total_usd, dtype: float64"
      ]
     },
     "metadata": {},
     "output_type": "display_data"
    },
    {
     "name": "stdout",
     "output_type": "stream",
     "text": [
      "segment3\n"
     ]
    },
    {
     "data": {
      "text/plain": [
       "upgrade_name\n",
       "Basic Enclosure                                                    0.08330\n",
       "Enhanced Enclosure                                                 0.06426\n",
       "Heat Pump Water Heater                                             0.03151\n",
       "Basic Enclosure + HPWH + High Efficiency HP/Electric Backup        0.02454\n",
       "Enhanced Enclosure + HPWH + High Efficiency HP/Electric Backup     0.02435\n",
       "Basic Enclosure + High Efficiency Whole Home Electrification       0.02228\n",
       "Enhanced Enclosure + High Efficiency Whole Home Electrification    0.02216\n",
       "High Efficiency Whole Home Electrification                         0.01927\n",
       "High Efficiency Heat Pump with Electric Heat Backup                0.01804\n",
       "Mininum Efficiency Heat Pump with Existing Heat Backup             0.01486\n",
       "Heat Pump Clothes Dryer                                            0.00950\n",
       "Mininum Efficiency Heat Pump with Electric Heat Backup             0.00590\n",
       "Induction Cooking                                                 -0.00108\n",
       "Mininum Efficiency Whole Home Electrification                     -0.01270\n",
       "Electric Cooking                                                  -0.02006\n",
       "Electric Clothes Dryer                                            -0.03411\n",
       "Name: saving_cbill.total_usd, dtype: float64"
      ]
     },
     "metadata": {},
     "output_type": "display_data"
    }
   ],
   "source": [
    "indicator ='saving_cbill.total_usd'\n",
    "results = segment_savings_per_dollar(indicator, community_results) \n",
    "saving_results[f'segment1_{income}_saving_bill_per_dollar_invested_usd'] = results[0]\n",
    "saving_results[f'segment2_{income}_saving_bill_per_dollar_invested_usd'] = results[1]\n",
    "saving_results[f'segment3_{income}_saving_bill_per_dollar_invested_usd'] = results[2]"
   ]
  },
  {
   "cell_type": "markdown",
   "id": "02f1e5af",
   "metadata": {},
   "source": [
    " ### Annual Energy Savings Per Dollar Invested"
   ]
  },
  {
   "cell_type": "code",
   "execution_count": 232,
   "id": "940401a4",
   "metadata": {},
   "outputs": [
    {
     "name": "stdout",
     "output_type": "stream",
     "text": [
      "segment1\n"
     ]
    },
    {
     "data": {
      "text/plain": [
       "upgrade_name\n",
       "Basic Enclosure                                                    0.00387\n",
       "Enhanced Enclosure                                                 0.00323\n",
       "Heat Pump Water Heater                                             0.00264\n",
       "Basic Enclosure + HPWH + High Efficiency HP/Electric Backup        0.00207\n",
       "Enhanced Enclosure + HPWH + High Efficiency HP/Electric Backup     0.00204\n",
       "Basic Enclosure + High Efficiency Whole Home Electrification       0.00190\n",
       "Enhanced Enclosure + High Efficiency Whole Home Electrification    0.00188\n",
       "High Efficiency Whole Home Electrification                         0.00173\n",
       "Mininum Efficiency Whole Home Electrification                      0.00171\n",
       "High Efficiency Heat Pump with Electric Heat Backup                0.00166\n",
       "Mininum Efficiency Heat Pump with Existing Heat Backup             0.00147\n",
       "Electric Cooking                                                   0.00146\n",
       "Mininum Efficiency Heat Pump with Electric Heat Backup             0.00127\n",
       "Induction Cooking                                                  0.00053\n",
       "Heat Pump Clothes Dryer                                            0.00047\n",
       "Electric Clothes Dryer                                             0.00037\n",
       "Name: saving_energy.total_mmbtu, dtype: float64"
      ]
     },
     "metadata": {},
     "output_type": "display_data"
    },
    {
     "name": "stdout",
     "output_type": "stream",
     "text": [
      "segment2\n"
     ]
    },
    {
     "data": {
      "text/plain": [
       "upgrade_name\n",
       "Basic Enclosure                                                    0.00525\n",
       "Enhanced Enclosure                                                 0.00512\n",
       "Mininum Efficiency Whole Home Electrification                      0.00311\n",
       "Enhanced Enclosure + HPWH + High Efficiency HP/Electric Backup     0.00152\n",
       "Basic Enclosure + HPWH + High Efficiency HP/Electric Backup        0.00151\n",
       "Mininum Efficiency Heat Pump with Electric Heat Backup             0.00149\n",
       "Enhanced Enclosure + High Efficiency Whole Home Electrification    0.00139\n",
       "Basic Enclosure + High Efficiency Whole Home Electrification       0.00139\n",
       "High Efficiency Heat Pump with Electric Heat Backup                0.00137\n",
       "Electric Cooking                                                   0.00132\n",
       "High Efficiency Whole Home Electrification                         0.00129\n",
       "Mininum Efficiency Heat Pump with Existing Heat Backup             0.00119\n",
       "Heat Pump Water Heater                                             0.00108\n",
       "Heat Pump Clothes Dryer                                            0.00034\n",
       "Induction Cooking                                                  0.00019\n",
       "Name: saving_energy.total_mmbtu, dtype: float64"
      ]
     },
     "metadata": {},
     "output_type": "display_data"
    },
    {
     "name": "stdout",
     "output_type": "stream",
     "text": [
      "segment3\n"
     ]
    },
    {
     "data": {
      "text/plain": [
       "upgrade_name\n",
       "Basic Enclosure                                                    0.00436\n",
       "Enhanced Enclosure                                                 0.00335\n",
       "Mininum Efficiency Whole Home Electrification                      0.00247\n",
       "Heat Pump Water Heater                                             0.00191\n",
       "Mininum Efficiency Heat Pump with Electric Heat Backup             0.00142\n",
       "Basic Enclosure + HPWH + High Efficiency HP/Electric Backup        0.00141\n",
       "Enhanced Enclosure + HPWH + High Efficiency HP/Electric Backup     0.00139\n",
       "Electric Cooking                                                   0.00138\n",
       "Basic Enclosure + High Efficiency Whole Home Electrification       0.00129\n",
       "Enhanced Enclosure + High Efficiency Whole Home Electrification    0.00127\n",
       "High Efficiency Whole Home Electrification                         0.00122\n",
       "High Efficiency Heat Pump with Electric Heat Backup                0.00116\n",
       "Mininum Efficiency Heat Pump with Existing Heat Backup             0.00094\n",
       "Electric Clothes Dryer                                             0.00046\n",
       "Heat Pump Clothes Dryer                                            0.00037\n",
       "Induction Cooking                                                  0.00030\n",
       "Name: saving_energy.total_mmbtu, dtype: float64"
      ]
     },
     "metadata": {},
     "output_type": "display_data"
    }
   ],
   "source": [
    "indicator = 'saving_energy.total_mmbtu'\n",
    "results = segment_savings_per_dollar(indicator, community_results) \n",
    "saving_results[f'segment1_{income}_saving_energy_per_dollar_invested_mmbtu'] = results[0]\n",
    "saving_results[f'segment2_{income}_saving_energy_per_dollar_invested_mmbtu'] = results[1]\n",
    "saving_results[f'segment3_{income}_saving_energy_per_dollar_invested_mmbtu'] = results[2]"
   ]
  },
  {
   "cell_type": "markdown",
   "id": "52c22d3b",
   "metadata": {},
   "source": [
    "### Annual Emission Savings Per Dollar Invested"
   ]
  },
  {
   "cell_type": "code",
   "execution_count": 233,
   "id": "f6733148",
   "metadata": {},
   "outputs": [
    {
     "name": "stdout",
     "output_type": "stream",
     "text": [
      "segment1\n"
     ]
    },
    {
     "data": {
      "text/plain": [
       "upgrade_name\n",
       "Basic Enclosure                                                    0.27313\n",
       "Enhanced Enclosure                                                 0.22847\n",
       "Heat Pump Water Heater                                             0.17944\n",
       "Basic Enclosure + HPWH + High Efficiency HP/Electric Backup        0.14114\n",
       "Enhanced Enclosure + HPWH + High Efficiency HP/Electric Backup     0.13989\n",
       "Basic Enclosure + High Efficiency Whole Home Electrification       0.12960\n",
       "Enhanced Enclosure + High Efficiency Whole Home Electrification    0.12877\n",
       "High Efficiency Whole Home Electrification                         0.11481\n",
       "High Efficiency Heat Pump with Electric Heat Backup                0.10931\n",
       "Electric Cooking                                                   0.09719\n",
       "Mininum Efficiency Heat Pump with Existing Heat Backup             0.09671\n",
       "Mininum Efficiency Whole Home Electrification                      0.09530\n",
       "Mininum Efficiency Heat Pump with Electric Heat Backup             0.06964\n",
       "Induction Cooking                                                  0.03631\n",
       "Heat Pump Clothes Dryer                                            0.03267\n",
       "Electric Clothes Dryer                                             0.01962\n",
       "Name: saving_emission.total_kgCO2e, dtype: float64"
      ]
     },
     "metadata": {},
     "output_type": "display_data"
    },
    {
     "name": "stdout",
     "output_type": "stream",
     "text": [
      "segment2\n"
     ]
    },
    {
     "data": {
      "text/plain": [
       "upgrade_name\n",
       "Basic Enclosure                                                    0.40280\n",
       "Enhanced Enclosure                                                 0.39559\n",
       "Mininum Efficiency Whole Home Electrification                      0.17830\n",
       "Enhanced Enclosure + HPWH + High Efficiency HP/Electric Backup     0.11617\n",
       "Basic Enclosure + HPWH + High Efficiency HP/Electric Backup        0.11572\n",
       "Mininum Efficiency Heat Pump with Electric Heat Backup             0.10732\n",
       "Enhanced Enclosure + High Efficiency Whole Home Electrification    0.10631\n",
       "Basic Enclosure + High Efficiency Whole Home Electrification       0.10585\n",
       "High Efficiency Heat Pump with Electric Heat Backup                0.10420\n",
       "High Efficiency Whole Home Electrification                         0.09744\n",
       "Mininum Efficiency Heat Pump with Existing Heat Backup             0.09289\n",
       "Electric Cooking                                                   0.08219\n",
       "Heat Pump Water Heater                                             0.07273\n",
       "Heat Pump Clothes Dryer                                            0.02367\n",
       "Induction Cooking                                                  0.01217\n",
       "Name: saving_emission.total_kgCO2e, dtype: float64"
      ]
     },
     "metadata": {},
     "output_type": "display_data"
    },
    {
     "name": "stdout",
     "output_type": "stream",
     "text": [
      "segment3\n"
     ]
    },
    {
     "data": {
      "text/plain": [
       "upgrade_name\n",
       "Basic Enclosure                                                    0.32305\n",
       "Enhanced Enclosure                                                 0.24980\n",
       "Mininum Efficiency Whole Home Electrification                      0.14448\n",
       "Heat Pump Water Heater                                             0.13310\n",
       "Basic Enclosure + HPWH + High Efficiency HP/Electric Backup        0.10209\n",
       "Enhanced Enclosure + HPWH + High Efficiency HP/Electric Backup     0.10057\n",
       "Basic Enclosure + High Efficiency Whole Home Electrification       0.09314\n",
       "Enhanced Enclosure + High Efficiency Whole Home Electrification    0.09199\n",
       "Mininum Efficiency Heat Pump with Electric Heat Backup             0.09010\n",
       "Electric Cooking                                                   0.08857\n",
       "High Efficiency Whole Home Electrification                         0.08660\n",
       "High Efficiency Heat Pump with Electric Heat Backup                0.08255\n",
       "Mininum Efficiency Heat Pump with Existing Heat Backup             0.06846\n",
       "Heat Pump Clothes Dryer                                            0.02624\n",
       "Electric Clothes Dryer                                             0.02135\n",
       "Induction Cooking                                                  0.01981\n",
       "Name: saving_emission.total_kgCO2e, dtype: float64"
      ]
     },
     "metadata": {},
     "output_type": "display_data"
    }
   ],
   "source": [
    "indicator ='saving_emission.total_kgCO2e'\n",
    "results = segment_savings_per_dollar(indicator, community_results) \n",
    "saving_results[f'segment1_{income}_saving_emission_per_dollar_invested_kgCO2e'] = results[0]\n",
    "saving_results[f'segment2_{income}_saving_emission_per_dollar_invested_kgCO2e'] = results[1]\n",
    "saving_results[f'segment3_{income}_saving_emission_per_dollar_invested_kgCO2e'] = results[2]"
   ]
  },
  {
   "cell_type": "markdown",
   "id": "15008085",
   "metadata": {},
   "source": [
    "## 3.3 Annual Total Savings"
   ]
  },
  {
   "cell_type": "markdown",
   "id": "92e852fa",
   "metadata": {},
   "source": [
    "### Annual Total Bill Savings"
   ]
  },
  {
   "cell_type": "code",
   "execution_count": 234,
   "id": "da9535d8",
   "metadata": {},
   "outputs": [
    {
     "name": "stdout",
     "output_type": "stream",
     "text": [
      "segment1\n"
     ]
    },
    {
     "data": {
      "text/plain": [
       "upgrade_name\n",
       "Enhanced Enclosure + High Efficiency Whole Home Electrification    403872.7\n",
       "Enhanced Enclosure + HPWH + High Efficiency HP/Electric Backup     392245.7\n",
       "Basic Enclosure + High Efficiency Whole Home Electrification       384922.3\n",
       "Basic Enclosure + HPWH + High Efficiency HP/Electric Backup        373295.3\n",
       "High Efficiency Whole Home Electrification                         260790.1\n",
       "Enhanced Enclosure                                                 212214.8\n",
       "High Efficiency Heat Pump with Electric Heat Backup                185441.2\n",
       "Basic Enclosure                                                    182714.6\n",
       "Mininum Efficiency Heat Pump with Existing Heat Backup              60753.3\n",
       "Heat Pump Water Heater                                              39801.4\n",
       "Heat Pump Clothes Dryer                                             14298.1\n",
       "Electric Clothes Dryer                                              -3608.8\n",
       "Induction Cooking                                                   -4462.8\n",
       "Electric Cooking                                                    -7306.6\n",
       "Mininum Efficiency Heat Pump with Electric Heat Backup            -155983.8\n",
       "Mininum Efficiency Whole Home Electrification                     -205371.3\n",
       "Name: saving_cbill.total_usd, dtype: float64"
      ]
     },
     "metadata": {},
     "output_type": "display_data"
    },
    {
     "name": "stdout",
     "output_type": "stream",
     "text": [
      "segment2\n"
     ]
    },
    {
     "data": {
      "text/plain": [
       "upgrade_name\n",
       "Enhanced Enclosure + High Efficiency Whole Home Electrification    216520.9\n",
       "Basic Enclosure + High Efficiency Whole Home Electrification       213460.3\n",
       "Enhanced Enclosure + HPWH + High Efficiency HP/Electric Backup     212703.7\n",
       "Basic Enclosure + HPWH + High Efficiency HP/Electric Backup        209643.1\n",
       "High Efficiency Whole Home Electrification                         182545.8\n",
       "High Efficiency Heat Pump with Electric Heat Backup                157255.6\n",
       "Enhanced Enclosure                                                  85918.9\n",
       "Mininum Efficiency Heat Pump with Existing Heat Backup              83279.4\n",
       "Basic Enclosure                                                     77420.6\n",
       "Mininum Efficiency Heat Pump with Electric Heat Backup              74342.6\n",
       "Heat Pump Water Heater                                              10594.5\n",
       "Heat Pump Clothes Dryer                                              3440.2\n",
       "Induction Cooking                                                      46.6\n",
       "Electric Cooking                                                     -609.3\n",
       "Mininum Efficiency Whole Home Electrification                       -5358.2\n",
       "Name: saving_cbill.total_usd, dtype: float64"
      ]
     },
     "metadata": {},
     "output_type": "display_data"
    },
    {
     "name": "stdout",
     "output_type": "stream",
     "text": [
      "segment3\n"
     ]
    },
    {
     "data": {
      "text/plain": [
       "upgrade_name\n",
       "Enhanced Enclosure + High Efficiency Whole Home Electrification    4564308.3\n",
       "Basic Enclosure + High Efficiency Whole Home Electrification       4483602.0\n",
       "Enhanced Enclosure + HPWH + High Efficiency HP/Electric Backup     4461316.8\n",
       "Basic Enclosure + HPWH + High Efficiency HP/Electric Backup        4380610.5\n",
       "High Efficiency Whole Home Electrification                         3790040.1\n",
       "High Efficiency Heat Pump with Electric Heat Backup                2800952.1\n",
       "Enhanced Enclosure                                                 1621419.9\n",
       "Basic Enclosure                                                    1366641.7\n",
       "Mininum Efficiency Heat Pump with Existing Heat Backup             1093915.8\n",
       "Heat Pump Water Heater                                              589980.4\n",
       "Mininum Efficiency Heat Pump with Electric Heat Backup              467187.2\n",
       "Heat Pump Clothes Dryer                                             100917.4\n",
       "Induction Cooking                                                   -13037.9\n",
       "Electric Clothes Dryer                                              -25058.3\n",
       "Electric Cooking                                                    -40865.5\n",
       "Mininum Efficiency Whole Home Electrification                      -583934.1\n",
       "Name: saving_cbill.total_usd, dtype: float64"
      ]
     },
     "metadata": {},
     "output_type": "display_data"
    }
   ],
   "source": [
    "indicator ='saving_cbill.total_usd'\n",
    "results = segment_annual_total_savings(indicator, community_results)\n",
    "saving_results[f'segment1_{income}_saving_bill_total_usd'] = results[0]\n",
    "saving_results[f'segment2_{income}_saving_bill_total_usd'] = results[1]\n",
    "saving_results[f'segment3_{income}_saving_bill_total_usd'] = results[2]"
   ]
  },
  {
   "cell_type": "markdown",
   "id": "e9832ff6",
   "metadata": {},
   "source": [
    "### Annual Total Energy Savings"
   ]
  },
  {
   "cell_type": "code",
   "execution_count": 235,
   "id": "e1a37356",
   "metadata": {},
   "outputs": [
    {
     "name": "stdout",
     "output_type": "stream",
     "text": [
      "segment1\n"
     ]
    },
    {
     "data": {
      "text/plain": [
       "upgrade_name\n",
       "Enhanced Enclosure + High Efficiency Whole Home Electrification    37882.4\n",
       "Basic Enclosure + High Efficiency Whole Home Electrification       37334.4\n",
       "Enhanced Enclosure + HPWH + High Efficiency HP/Electric Backup     36827.5\n",
       "Basic Enclosure + HPWH + High Efficiency HP/Electric Backup        36279.6\n",
       "High Efficiency Whole Home Electrification                         33745.2\n",
       "High Efficiency Heat Pump with Electric Heat Backup                26486.3\n",
       "Mininum Efficiency Whole Home Electrification                      20266.5\n",
       "Mininum Efficiency Heat Pump with Electric Heat Backup             16617.9\n",
       "Enhanced Enclosure                                                 15436.7\n",
       "Basic Enclosure                                                    12877.8\n",
       "Mininum Efficiency Heat Pump with Existing Heat Backup             12017.2\n",
       "Heat Pump Water Heater                                              3940.4\n",
       "Heat Pump Clothes Dryer                                              565.3\n",
       "Induction Cooking                                                    489.6\n",
       "Electric Cooking                                                     407.3\n",
       "Electric Clothes Dryer                                                47.5\n",
       "Name: saving_energy.total_mmbtu, dtype: float64"
      ]
     },
     "metadata": {},
     "output_type": "display_data"
    },
    {
     "name": "stdout",
     "output_type": "stream",
     "text": [
      "segment2\n"
     ]
    },
    {
     "data": {
      "text/plain": [
       "upgrade_name\n",
       "Enhanced Enclosure + High Efficiency Whole Home Electrification    8897.3\n",
       "Basic Enclosure + High Efficiency Whole Home Electrification       8808.8\n",
       "Enhanced Enclosure + HPWH + High Efficiency HP/Electric Backup     8734.2\n",
       "Basic Enclosure + HPWH + High Efficiency HP/Electric Backup        8645.7\n",
       "High Efficiency Whole Home Electrification                         7914.9\n",
       "High Efficiency Heat Pump with Electric Heat Backup                6662.3\n",
       "Mininum Efficiency Heat Pump with Electric Heat Backup             4265.8\n",
       "Mininum Efficiency Heat Pump with Existing Heat Backup             3402.7\n",
       "Enhanced Enclosure                                                 3355.5\n",
       "Basic Enclosure                                                    3109.8\n",
       "Mininum Efficiency Whole Home Electrification                      2481.8\n",
       "Heat Pump Water Heater                                              647.1\n",
       "Heat Pump Clothes Dryer                                              99.5\n",
       "Induction Cooking                                                    63.6\n",
       "Electric Cooking                                                     44.7\n",
       "Name: saving_energy.total_mmbtu, dtype: float64"
      ]
     },
     "metadata": {},
     "output_type": "display_data"
    },
    {
     "name": "stdout",
     "output_type": "stream",
     "text": [
      "segment3\n"
     ]
    },
    {
     "data": {
      "text/plain": [
       "upgrade_name\n",
       "Enhanced Enclosure + High Efficiency Whole Home Electrification    262441.1\n",
       "Basic Enclosure + High Efficiency Whole Home Electrification       260107.6\n",
       "Enhanced Enclosure + HPWH + High Efficiency HP/Electric Backup     254855.1\n",
       "Basic Enclosure + HPWH + High Efficiency HP/Electric Backup        252521.6\n",
       "High Efficiency Whole Home Electrification                         240053.7\n",
       "High Efficiency Heat Pump with Electric Heat Backup                179877.8\n",
       "Mininum Efficiency Whole Home Electrification                      113583.6\n",
       "Mininum Efficiency Heat Pump with Electric Heat Backup             112411.0\n",
       "Enhanced Enclosure                                                  84586.8\n",
       "Basic Enclosure                                                     71465.3\n",
       "Mininum Efficiency Heat Pump with Existing Heat Backup              69144.9\n",
       "Heat Pump Water Heater                                              35854.1\n",
       "Heat Pump Clothes Dryer                                              3979.3\n",
       "Induction Cooking                                                    3606.8\n",
       "Electric Cooking                                                     2802.1\n",
       "Electric Clothes Dryer                                                336.8\n",
       "Name: saving_energy.total_mmbtu, dtype: float64"
      ]
     },
     "metadata": {},
     "output_type": "display_data"
    },
    {
     "name": "stderr",
     "output_type": "stream",
     "text": [
      "C:\\Users\\ylou2\\AppData\\Local\\Temp\\ipykernel_12568\\922227291.py:3: PerformanceWarning:\n",
      "\n",
      "DataFrame is highly fragmented.  This is usually the result of calling `frame.insert` many times, which has poor performance.  Consider joining all columns at once using pd.concat(axis=1) instead. To get a de-fragmented frame, use `newframe = frame.copy()`\n",
      "\n",
      "C:\\Users\\ylou2\\AppData\\Local\\Temp\\ipykernel_12568\\922227291.py:4: PerformanceWarning:\n",
      "\n",
      "DataFrame is highly fragmented.  This is usually the result of calling `frame.insert` many times, which has poor performance.  Consider joining all columns at once using pd.concat(axis=1) instead. To get a de-fragmented frame, use `newframe = frame.copy()`\n",
      "\n",
      "C:\\Users\\ylou2\\AppData\\Local\\Temp\\ipykernel_12568\\922227291.py:5: PerformanceWarning:\n",
      "\n",
      "DataFrame is highly fragmented.  This is usually the result of calling `frame.insert` many times, which has poor performance.  Consider joining all columns at once using pd.concat(axis=1) instead. To get a de-fragmented frame, use `newframe = frame.copy()`\n",
      "\n"
     ]
    }
   ],
   "source": [
    "indicator ='saving_energy.total_mmbtu'\n",
    "results = segment_annual_total_savings(indicator, community_results)\n",
    "saving_results[f'segment1_{income}_saving_energy_total_mmbtu'] = results[0]\n",
    "saving_results[f'segment2_{income}_saving_energy_total_mmbtu'] = results[1]\n",
    "saving_results[f'segment3_{income}_saving_energy_total_mmbtu'] = results[2]"
   ]
  },
  {
   "cell_type": "markdown",
   "id": "b3071cfc",
   "metadata": {},
   "source": [
    "### Annual Total Emission Savings"
   ]
  },
  {
   "cell_type": "code",
   "execution_count": 236,
   "id": "703f0421",
   "metadata": {},
   "outputs": [
    {
     "name": "stdout",
     "output_type": "stream",
     "text": [
      "segment1\n"
     ]
    },
    {
     "data": {
      "text/plain": [
       "upgrade_name\n",
       "Enhanced Enclosure + High Efficiency Whole Home Electrification    2594885.8\n",
       "Basic Enclosure + High Efficiency Whole Home Electrification       2547002.6\n",
       "Enhanced Enclosure + HPWH + High Efficiency HP/Electric Backup     2522257.3\n",
       "Basic Enclosure + HPWH + High Efficiency HP/Electric Backup        2474374.1\n",
       "High Efficiency Whole Home Electrification                         2245652.8\n",
       "High Efficiency Heat Pump with Electric Heat Backup                1742921.6\n",
       "Mininum Efficiency Whole Home Electrification                      1127989.8\n",
       "Enhanced Enclosure                                                 1090398.0\n",
       "Mininum Efficiency Heat Pump with Electric Heat Backup              912713.7\n",
       "Basic Enclosure                                                     907891.0\n",
       "Mininum Efficiency Heat Pump with Existing Heat Backup              789110.5\n",
       "Heat Pump Water Heater                                              268062.5\n",
       "Heat Pump Clothes Dryer                                              39351.8\n",
       "Induction Cooking                                                    33276.7\n",
       "Electric Cooking                                                     27185.7\n",
       "Electric Clothes Dryer                                                2527.9\n",
       "Name: saving_emission.total_kgCO2e, dtype: float64"
      ]
     },
     "metadata": {},
     "output_type": "display_data"
    },
    {
     "name": "stdout",
     "output_type": "stream",
     "text": [
      "segment2\n"
     ]
    },
    {
     "data": {
      "text/plain": [
       "upgrade_name\n",
       "Enhanced Enclosure + High Efficiency Whole Home Electrification    679971.6\n",
       "Basic Enclosure + High Efficiency Whole Home Electrification       672969.1\n",
       "Enhanced Enclosure + HPWH + High Efficiency HP/Electric Backup     668782.8\n",
       "Basic Enclosure + HPWH + High Efficiency HP/Electric Backup        661780.3\n",
       "High Efficiency Whole Home Electrification                         595793.9\n",
       "High Efficiency Heat Pump with Electric Heat Backup                508076.0\n",
       "Mininum Efficiency Heat Pump with Electric Heat Backup             307295.4\n",
       "Mininum Efficiency Heat Pump with Existing Heat Backup             265965.1\n",
       "Enhanced Enclosure                                                 259493.4\n",
       "Basic Enclosure                                                    238573.1\n",
       "Mininum Efficiency Whole Home Electrification                      142159.9\n",
       "Heat Pump Water Heater                                              43615.0\n",
       "Heat Pump Clothes Dryer                                              7027.1\n",
       "Induction Cooking                                                    4161.7\n",
       "Electric Cooking                                                     2776.5\n",
       "Name: saving_emission.total_kgCO2e, dtype: float64"
      ]
     },
     "metadata": {},
     "output_type": "display_data"
    },
    {
     "name": "stdout",
     "output_type": "stream",
     "text": [
      "segment3\n"
     ]
    },
    {
     "data": {
      "text/plain": [
       "upgrade_name\n",
       "Enhanced Enclosure + High Efficiency Whole Home Electrification    18945054.2\n",
       "Basic Enclosure + High Efficiency Whole Home Electrification       18741842.5\n",
       "Enhanced Enclosure + HPWH + High Efficiency HP/Electric Backup     18426588.4\n",
       "Basic Enclosure + HPWH + High Efficiency HP/Electric Backup        18223376.7\n",
       "High Efficiency Whole Home Electrification                         17033959.2\n",
       "High Efficiency Heat Pump with Electric Heat Backup                12815755.1\n",
       "Mininum Efficiency Heat Pump with Electric Heat Backup              7133462.3\n",
       "Mininum Efficiency Whole Home Electrification                       6641233.1\n",
       "Enhanced Enclosure                                                  6302663.6\n",
       "Basic Enclosure                                                     5299865.3\n",
       "Mininum Efficiency Heat Pump with Existing Heat Backup              5038323.8\n",
       "Heat Pump Water Heater                                              2492288.0\n",
       "Heat Pump Clothes Dryer                                              278753.9\n",
       "Induction Cooking                                                    239711.9\n",
       "Electric Cooking                                                     180410.4\n",
       "Electric Clothes Dryer                                                15680.6\n",
       "Name: saving_emission.total_kgCO2e, dtype: float64"
      ]
     },
     "metadata": {},
     "output_type": "display_data"
    },
    {
     "name": "stderr",
     "output_type": "stream",
     "text": [
      "C:\\Users\\ylou2\\AppData\\Local\\Temp\\ipykernel_12568\\4045702603.py:3: PerformanceWarning:\n",
      "\n",
      "DataFrame is highly fragmented.  This is usually the result of calling `frame.insert` many times, which has poor performance.  Consider joining all columns at once using pd.concat(axis=1) instead. To get a de-fragmented frame, use `newframe = frame.copy()`\n",
      "\n",
      "C:\\Users\\ylou2\\AppData\\Local\\Temp\\ipykernel_12568\\4045702603.py:4: PerformanceWarning:\n",
      "\n",
      "DataFrame is highly fragmented.  This is usually the result of calling `frame.insert` many times, which has poor performance.  Consider joining all columns at once using pd.concat(axis=1) instead. To get a de-fragmented frame, use `newframe = frame.copy()`\n",
      "\n",
      "C:\\Users\\ylou2\\AppData\\Local\\Temp\\ipykernel_12568\\4045702603.py:5: PerformanceWarning:\n",
      "\n",
      "DataFrame is highly fragmented.  This is usually the result of calling `frame.insert` many times, which has poor performance.  Consider joining all columns at once using pd.concat(axis=1) instead. To get a de-fragmented frame, use `newframe = frame.copy()`\n",
      "\n"
     ]
    }
   ],
   "source": [
    "indicator ='saving_emission.total_kgCO2e'\n",
    "results = segment_annual_total_savings(indicator, community_results)\n",
    "saving_results[f'segment1_{income}_saving_emission_total_kgCO2e'] = results[0]\n",
    "saving_results[f'segment2_{income}_saving_emission_total_kgCO2e'] = results[1]\n",
    "saving_results[f'segment3_{income}_saving_emission_total_kgCO2e'] = results[2]"
   ]
  },
  {
   "cell_type": "markdown",
   "id": "7f49f310",
   "metadata": {},
   "source": [
    "## 3.4 Annual Savings Per Dwelling Unit"
   ]
  },
  {
   "cell_type": "markdown",
   "id": "055b8b4e",
   "metadata": {},
   "source": [
    "### Annual Bill Savings Per Dwelling Unit"
   ]
  },
  {
   "cell_type": "code",
   "execution_count": 237,
   "id": "9f434eb5",
   "metadata": {},
   "outputs": [
    {
     "name": "stdout",
     "output_type": "stream",
     "text": [
      "segment1\n"
     ]
    },
    {
     "data": {
      "text/plain": [
       "upgrade_name\n",
       "Enhanced Enclosure + High Efficiency Whole Home Electrification    871.6\n",
       "Enhanced Enclosure + HPWH + High Efficiency HP/Electric Backup     846.5\n",
       "Basic Enclosure + High Efficiency Whole Home Electrification       830.7\n",
       "Basic Enclosure + HPWH + High Efficiency HP/Electric Backup        805.6\n",
       "High Efficiency Whole Home Electrification                         562.8\n",
       "Enhanced Enclosure                                                 458.0\n",
       "High Efficiency Heat Pump with Electric Heat Backup                400.2\n",
       "Basic Enclosure                                                    394.3\n",
       "Mininum Efficiency Heat Pump with Existing Heat Backup             157.8\n",
       "Heat Pump Water Heater                                              85.9\n",
       "Heat Pump Clothes Dryer                                             30.9\n",
       "Induction Cooking                                                   -9.6\n",
       "Electric Cooking                                                   -30.0\n",
       "Electric Clothes Dryer                                             -36.2\n",
       "Mininum Efficiency Heat Pump with Electric Heat Backup            -336.6\n",
       "Mininum Efficiency Whole Home Electrification                     -520.2\n",
       "Name: saving_cbill.total_usd, dtype: float64"
      ]
     },
     "metadata": {},
     "output_type": "display_data"
    },
    {
     "name": "stdout",
     "output_type": "stream",
     "text": [
      "segment2\n"
     ]
    },
    {
     "data": {
      "text/plain": [
       "upgrade_name\n",
       "Enhanced Enclosure + High Efficiency Whole Home Electrification    1070.2\n",
       "Basic Enclosure + High Efficiency Whole Home Electrification       1055.1\n",
       "Enhanced Enclosure + HPWH + High Efficiency HP/Electric Backup     1051.4\n",
       "Basic Enclosure + HPWH + High Efficiency HP/Electric Backup        1036.2\n",
       "High Efficiency Whole Home Electrification                          902.3\n",
       "High Efficiency Heat Pump with Electric Heat Backup                 777.3\n",
       "Enhanced Enclosure                                                  424.7\n",
       "Mininum Efficiency Heat Pump with Existing Heat Backup              411.6\n",
       "Basic Enclosure                                                     382.7\n",
       "Mininum Efficiency Heat Pump with Electric Heat Backup              367.5\n",
       "Heat Pump Water Heater                                               52.4\n",
       "Heat Pump Clothes Dryer                                              30.1\n",
       "Induction Cooking                                                     0.3\n",
       "Electric Cooking                                                    -20.7\n",
       "Mininum Efficiency Whole Home Electrification                       -91.2\n",
       "Name: saving_cbill.total_usd, dtype: float64"
      ]
     },
     "metadata": {},
     "output_type": "display_data"
    },
    {
     "name": "stdout",
     "output_type": "stream",
     "text": [
      "segment3\n"
     ]
    },
    {
     "data": {
      "text/plain": [
       "upgrade_name\n",
       "Enhanced Enclosure + High Efficiency Whole Home Electrification    738.1\n",
       "Basic Enclosure + High Efficiency Whole Home Electrification       725.1\n",
       "Enhanced Enclosure + HPWH + High Efficiency HP/Electric Backup     721.5\n",
       "Basic Enclosure + HPWH + High Efficiency HP/Electric Backup        708.4\n",
       "High Efficiency Whole Home Electrification                         612.9\n",
       "High Efficiency Heat Pump with Electric Heat Backup                457.3\n",
       "Enhanced Enclosure                                                 264.0\n",
       "Basic Enclosure                                                    224.3\n",
       "Mininum Efficiency Heat Pump with Existing Heat Backup             181.6\n",
       "Heat Pump Water Heater                                              95.6\n",
       "Mininum Efficiency Heat Pump with Electric Heat Backup              76.3\n",
       "Heat Pump Clothes Dryer                                             24.7\n",
       "Induction Cooking                                                   -2.1\n",
       "Electric Cooking                                                   -23.1\n",
       "Electric Clothes Dryer                                             -44.1\n",
       "Mininum Efficiency Whole Home Electrification                     -173.9\n",
       "Name: saving_cbill.total_usd, dtype: float64"
      ]
     },
     "metadata": {},
     "output_type": "display_data"
    },
    {
     "name": "stderr",
     "output_type": "stream",
     "text": [
      "C:\\Users\\ylou2\\AppData\\Local\\Temp\\ipykernel_12568\\2125560417.py:3: PerformanceWarning:\n",
      "\n",
      "DataFrame is highly fragmented.  This is usually the result of calling `frame.insert` many times, which has poor performance.  Consider joining all columns at once using pd.concat(axis=1) instead. To get a de-fragmented frame, use `newframe = frame.copy()`\n",
      "\n",
      "C:\\Users\\ylou2\\AppData\\Local\\Temp\\ipykernel_12568\\2125560417.py:4: PerformanceWarning:\n",
      "\n",
      "DataFrame is highly fragmented.  This is usually the result of calling `frame.insert` many times, which has poor performance.  Consider joining all columns at once using pd.concat(axis=1) instead. To get a de-fragmented frame, use `newframe = frame.copy()`\n",
      "\n",
      "C:\\Users\\ylou2\\AppData\\Local\\Temp\\ipykernel_12568\\2125560417.py:5: PerformanceWarning:\n",
      "\n",
      "DataFrame is highly fragmented.  This is usually the result of calling `frame.insert` many times, which has poor performance.  Consider joining all columns at once using pd.concat(axis=1) instead. To get a de-fragmented frame, use `newframe = frame.copy()`\n",
      "\n"
     ]
    }
   ],
   "source": [
    "indicator ='saving_cbill.total_usd'\n",
    "results = segment_mean_savings(indicator, community_results)\n",
    "saving_results[f'segment1_{income}_saving_bill_mean_usd'] = results[0]\n",
    "saving_results[f'segment2_{income}_saving_bill_mean_usd'] = results[1]\n",
    "saving_results[f'segment3_{income}_saving_bill_mean_usd'] = results[2]"
   ]
  },
  {
   "cell_type": "markdown",
   "id": "9ada845b",
   "metadata": {},
   "source": [
    "### Annual Energy Savings Per Dwelling Unit"
   ]
  },
  {
   "cell_type": "code",
   "execution_count": 238,
   "id": "d2c9d099",
   "metadata": {},
   "outputs": [
    {
     "name": "stdout",
     "output_type": "stream",
     "text": [
      "segment1\n"
     ]
    },
    {
     "data": {
      "text/plain": [
       "upgrade_name\n",
       "Enhanced Enclosure + High Efficiency Whole Home Electrification    81.8\n",
       "Basic Enclosure + High Efficiency Whole Home Electrification       80.6\n",
       "Enhanced Enclosure + HPWH + High Efficiency HP/Electric Backup     79.5\n",
       "Basic Enclosure + HPWH + High Efficiency HP/Electric Backup        78.3\n",
       "High Efficiency Whole Home Electrification                         72.8\n",
       "High Efficiency Heat Pump with Electric Heat Backup                57.2\n",
       "Mininum Efficiency Whole Home Electrification                      51.3\n",
       "Mininum Efficiency Heat Pump with Electric Heat Backup             35.9\n",
       "Enhanced Enclosure                                                 33.3\n",
       "Mininum Efficiency Heat Pump with Existing Heat Backup             31.2\n",
       "Basic Enclosure                                                    27.8\n",
       "Heat Pump Water Heater                                              8.5\n",
       "Electric Cooking                                                    1.7\n",
       "Heat Pump Clothes Dryer                                             1.2\n",
       "Induction Cooking                                                   1.1\n",
       "Electric Clothes Dryer                                              0.5\n",
       "Name: saving_energy.total_mmbtu, dtype: float64"
      ]
     },
     "metadata": {},
     "output_type": "display_data"
    },
    {
     "name": "stdout",
     "output_type": "stream",
     "text": [
      "segment2\n"
     ]
    },
    {
     "data": {
      "text/plain": [
       "upgrade_name\n",
       "Enhanced Enclosure + High Efficiency Whole Home Electrification    44.0\n",
       "Basic Enclosure + High Efficiency Whole Home Electrification       43.5\n",
       "Enhanced Enclosure + HPWH + High Efficiency HP/Electric Backup     43.2\n",
       "Basic Enclosure + HPWH + High Efficiency HP/Electric Backup        42.7\n",
       "Mininum Efficiency Whole Home Electrification                      42.3\n",
       "High Efficiency Whole Home Electrification                         39.1\n",
       "High Efficiency Heat Pump with Electric Heat Backup                32.9\n",
       "Mininum Efficiency Heat Pump with Electric Heat Backup             21.1\n",
       "Mininum Efficiency Heat Pump with Existing Heat Backup             16.8\n",
       "Enhanced Enclosure                                                 16.6\n",
       "Basic Enclosure                                                    15.4\n",
       "Heat Pump Water Heater                                              3.2\n",
       "Electric Cooking                                                    1.5\n",
       "Heat Pump Clothes Dryer                                             0.9\n",
       "Induction Cooking                                                   0.4\n",
       "Name: saving_energy.total_mmbtu, dtype: float64"
      ]
     },
     "metadata": {},
     "output_type": "display_data"
    },
    {
     "name": "stdout",
     "output_type": "stream",
     "text": [
      "segment3\n"
     ]
    },
    {
     "data": {
      "text/plain": [
       "upgrade_name\n",
       "Enhanced Enclosure + High Efficiency Whole Home Electrification    42.4\n",
       "Basic Enclosure + High Efficiency Whole Home Electrification       42.1\n",
       "Enhanced Enclosure + HPWH + High Efficiency HP/Electric Backup     41.2\n",
       "Basic Enclosure + HPWH + High Efficiency HP/Electric Backup        40.8\n",
       "High Efficiency Whole Home Electrification                         38.8\n",
       "Mininum Efficiency Whole Home Electrification                      33.8\n",
       "High Efficiency Heat Pump with Electric Heat Backup                29.4\n",
       "Mininum Efficiency Heat Pump with Electric Heat Backup             18.4\n",
       "Enhanced Enclosure                                                 13.8\n",
       "Basic Enclosure                                                    11.7\n",
       "Mininum Efficiency Heat Pump with Existing Heat Backup             11.5\n",
       "Heat Pump Water Heater                                              5.8\n",
       "Electric Cooking                                                    1.6\n",
       "Heat Pump Clothes Dryer                                             1.0\n",
       "Electric Clothes Dryer                                              0.6\n",
       "Induction Cooking                                                   0.6\n",
       "Name: saving_energy.total_mmbtu, dtype: float64"
      ]
     },
     "metadata": {},
     "output_type": "display_data"
    },
    {
     "name": "stderr",
     "output_type": "stream",
     "text": [
      "C:\\Users\\ylou2\\AppData\\Local\\Temp\\ipykernel_12568\\3547008041.py:3: PerformanceWarning:\n",
      "\n",
      "DataFrame is highly fragmented.  This is usually the result of calling `frame.insert` many times, which has poor performance.  Consider joining all columns at once using pd.concat(axis=1) instead. To get a de-fragmented frame, use `newframe = frame.copy()`\n",
      "\n",
      "C:\\Users\\ylou2\\AppData\\Local\\Temp\\ipykernel_12568\\3547008041.py:4: PerformanceWarning:\n",
      "\n",
      "DataFrame is highly fragmented.  This is usually the result of calling `frame.insert` many times, which has poor performance.  Consider joining all columns at once using pd.concat(axis=1) instead. To get a de-fragmented frame, use `newframe = frame.copy()`\n",
      "\n",
      "C:\\Users\\ylou2\\AppData\\Local\\Temp\\ipykernel_12568\\3547008041.py:5: PerformanceWarning:\n",
      "\n",
      "DataFrame is highly fragmented.  This is usually the result of calling `frame.insert` many times, which has poor performance.  Consider joining all columns at once using pd.concat(axis=1) instead. To get a de-fragmented frame, use `newframe = frame.copy()`\n",
      "\n"
     ]
    }
   ],
   "source": [
    "indicator ='saving_energy.total_mmbtu'\n",
    "results = segment_mean_savings(indicator, community_results) \n",
    "saving_results[f'segment1_{income}_saving_energy_mean_mmbtu'] = results[0]\n",
    "saving_results[f'segment2_{income}_saving_energy_mean_mmbtu'] = results[1]\n",
    "saving_results[f'segment3_{income}_saving_energy_mean_mmbtu'] = results[2]"
   ]
  },
  {
   "cell_type": "markdown",
   "id": "7d630097",
   "metadata": {},
   "source": [
    "### Annual Percentage Energy Savings Per Dwelling Unit"
   ]
  },
  {
   "cell_type": "code",
   "execution_count": 239,
   "id": "9f879425",
   "metadata": {},
   "outputs": [
    {
     "name": "stdout",
     "output_type": "stream",
     "text": [
      "segment1\n"
     ]
    },
    {
     "data": {
      "text/plain": [
       "upgrade_name\n",
       "Enhanced Enclosure + High Efficiency Whole Home Electrification    52.7\n",
       "Basic Enclosure + High Efficiency Whole Home Electrification       50.3\n",
       "Enhanced Enclosure + HPWH + High Efficiency HP/Electric Backup     49.7\n",
       "Basic Enclosure + HPWH + High Efficiency HP/Electric Backup        47.3\n",
       "High Efficiency Whole Home Electrification                         37.5\n",
       "Enhanced Enclosure                                                 23.7\n",
       "High Efficiency Heat Pump with Electric Heat Backup                23.0\n",
       "Mininum Efficiency Heat Pump with Existing Heat Backup             21.0\n",
       "Basic Enclosure                                                    20.1\n",
       "Heat Pump Water Heater                                              8.2\n",
       "Electric Cooking                                                    2.9\n",
       "Induction Cooking                                                   1.7\n",
       "Heat Pump Clothes Dryer                                             1.3\n",
       "Electric Clothes Dryer                                              0.3\n",
       "Mininum Efficiency Whole Home Electrification                      -5.1\n",
       "Mininum Efficiency Heat Pump with Electric Heat Backup             -8.7\n",
       "Name: pct_saving_energy.total_%, dtype: float64"
      ]
     },
     "metadata": {},
     "output_type": "display_data"
    },
    {
     "name": "stdout",
     "output_type": "stream",
     "text": [
      "segment2\n"
     ]
    },
    {
     "data": {
      "text/plain": [
       "upgrade_name\n",
       "Enhanced Enclosure + High Efficiency Whole Home Electrification    62.9\n",
       "Basic Enclosure + High Efficiency Whole Home Electrification       62.0\n",
       "Enhanced Enclosure + HPWH + High Efficiency HP/Electric Backup     61.8\n",
       "Basic Enclosure + HPWH + High Efficiency HP/Electric Backup        60.9\n",
       "High Efficiency Whole Home Electrification                         56.1\n",
       "Mininum Efficiency Whole Home Electrification                      51.1\n",
       "High Efficiency Heat Pump with Electric Heat Backup                46.9\n",
       "Mininum Efficiency Heat Pump with Electric Heat Backup             29.1\n",
       "Mininum Efficiency Heat Pump with Existing Heat Backup             24.9\n",
       "Enhanced Enclosure                                                 22.3\n",
       "Basic Enclosure                                                    19.9\n",
       "Heat Pump Water Heater                                              4.8\n",
       "Electric Cooking                                                    1.5\n",
       "Heat Pump Clothes Dryer                                             1.2\n",
       "Induction Cooking                                                   0.4\n",
       "Name: pct_saving_energy.total_%, dtype: float64"
      ]
     },
     "metadata": {},
     "output_type": "display_data"
    },
    {
     "name": "stdout",
     "output_type": "stream",
     "text": [
      "segment3\n"
     ]
    },
    {
     "data": {
      "text/plain": [
       "upgrade_name\n",
       "Enhanced Enclosure + High Efficiency Whole Home Electrification    53.9\n",
       "Basic Enclosure + High Efficiency Whole Home Electrification       53.4\n",
       "Enhanced Enclosure + HPWH + High Efficiency HP/Electric Backup     52.2\n",
       "Basic Enclosure + HPWH + High Efficiency HP/Electric Backup        51.6\n",
       "High Efficiency Whole Home Electrification                         48.7\n",
       "High Efficiency Heat Pump with Electric Heat Backup                35.0\n",
       "Mininum Efficiency Whole Home Electrification                      28.3\n",
       "Mininum Efficiency Heat Pump with Electric Heat Backup             18.0\n",
       "Enhanced Enclosure                                                 15.6\n",
       "Mininum Efficiency Heat Pump with Existing Heat Backup             13.9\n",
       "Basic Enclosure                                                    13.4\n",
       "Heat Pump Water Heater                                              8.6\n",
       "Electric Cooking                                                    2.3\n",
       "Heat Pump Clothes Dryer                                             1.3\n",
       "Induction Cooking                                                   0.9\n",
       "Electric Clothes Dryer                                              0.6\n",
       "Name: pct_saving_energy.total_%, dtype: float64"
      ]
     },
     "metadata": {},
     "output_type": "display_data"
    },
    {
     "name": "stderr",
     "output_type": "stream",
     "text": [
      "C:\\Users\\ylou2\\AppData\\Local\\Temp\\ipykernel_12568\\2997227555.py:3: PerformanceWarning:\n",
      "\n",
      "DataFrame is highly fragmented.  This is usually the result of calling `frame.insert` many times, which has poor performance.  Consider joining all columns at once using pd.concat(axis=1) instead. To get a de-fragmented frame, use `newframe = frame.copy()`\n",
      "\n",
      "C:\\Users\\ylou2\\AppData\\Local\\Temp\\ipykernel_12568\\2997227555.py:4: PerformanceWarning:\n",
      "\n",
      "DataFrame is highly fragmented.  This is usually the result of calling `frame.insert` many times, which has poor performance.  Consider joining all columns at once using pd.concat(axis=1) instead. To get a de-fragmented frame, use `newframe = frame.copy()`\n",
      "\n",
      "C:\\Users\\ylou2\\AppData\\Local\\Temp\\ipykernel_12568\\2997227555.py:5: PerformanceWarning:\n",
      "\n",
      "DataFrame is highly fragmented.  This is usually the result of calling `frame.insert` many times, which has poor performance.  Consider joining all columns at once using pd.concat(axis=1) instead. To get a de-fragmented frame, use `newframe = frame.copy()`\n",
      "\n"
     ]
    }
   ],
   "source": [
    "indicator ='pct_saving_energy.total_%'\n",
    "results = segment_mean_savings(indicator, community_results)\n",
    "saving_results[f'segment1_{income}_pct_saving_energy_mean_%'] = results[0]\n",
    "saving_results[f'segment2_{income}_pct_saving_energy_mean_%'] = results[1]\n",
    "saving_results[f'segment3_{income}_pct_saving_energy_mean_%'] = results[2]"
   ]
  },
  {
   "cell_type": "markdown",
   "id": "4e0f00a1",
   "metadata": {},
   "source": [
    "### Annual Emission Savings Per Dwelling Unit"
   ]
  },
  {
   "cell_type": "code",
   "execution_count": 240,
   "id": "28a3140e",
   "metadata": {},
   "outputs": [
    {
     "name": "stdout",
     "output_type": "stream",
     "text": [
      "segment1\n"
     ]
    },
    {
     "data": {
      "text/plain": [
       "upgrade_name\n",
       "Enhanced Enclosure + High Efficiency Whole Home Electrification    5600.3\n",
       "Basic Enclosure + High Efficiency Whole Home Electrification       5496.9\n",
       "Enhanced Enclosure + HPWH + High Efficiency HP/Electric Backup     5443.5\n",
       "Basic Enclosure + HPWH + High Efficiency HP/Electric Backup        5340.2\n",
       "High Efficiency Whole Home Electrification                         4846.5\n",
       "High Efficiency Heat Pump with Electric Heat Backup                3761.6\n",
       "Mininum Efficiency Whole Home Electrification                      2856.9\n",
       "Enhanced Enclosure                                                 2353.3\n",
       "Mininum Efficiency Heat Pump with Existing Heat Backup             2049.4\n",
       "Mininum Efficiency Heat Pump with Electric Heat Backup             1969.8\n",
       "Basic Enclosure                                                    1959.4\n",
       "Heat Pump Water Heater                                              578.5\n",
       "Electric Cooking                                                    111.8\n",
       "Heat Pump Clothes Dryer                                              84.9\n",
       "Induction Cooking                                                    71.8\n",
       "Electric Clothes Dryer                                               25.3\n",
       "Name: saving_emission.total_kgCO2e, dtype: float64"
      ]
     },
     "metadata": {},
     "output_type": "display_data"
    },
    {
     "name": "stdout",
     "output_type": "stream",
     "text": [
      "segment2\n"
     ]
    },
    {
     "data": {
      "text/plain": [
       "upgrade_name\n",
       "Enhanced Enclosure + High Efficiency Whole Home Electrification    3361.0\n",
       "Basic Enclosure + High Efficiency Whole Home Electrification       3326.4\n",
       "Enhanced Enclosure + HPWH + High Efficiency HP/Electric Backup     3305.7\n",
       "Basic Enclosure + HPWH + High Efficiency HP/Electric Backup        3271.1\n",
       "High Efficiency Whole Home Electrification                         2945.0\n",
       "High Efficiency Heat Pump with Electric Heat Backup                2511.4\n",
       "Mininum Efficiency Whole Home Electrification                      2420.4\n",
       "Mininum Efficiency Heat Pump with Electric Heat Backup             1518.9\n",
       "Mininum Efficiency Heat Pump with Existing Heat Backup             1314.6\n",
       "Enhanced Enclosure                                                 1282.7\n",
       "Basic Enclosure                                                    1179.2\n",
       "Heat Pump Water Heater                                              215.6\n",
       "Electric Cooking                                                     94.5\n",
       "Heat Pump Clothes Dryer                                              61.5\n",
       "Induction Cooking                                                    24.1\n",
       "Name: saving_emission.total_kgCO2e, dtype: float64"
      ]
     },
     "metadata": {},
     "output_type": "display_data"
    },
    {
     "name": "stdout",
     "output_type": "stream",
     "text": [
      "segment3\n"
     ]
    },
    {
     "data": {
      "text/plain": [
       "upgrade_name\n",
       "Enhanced Enclosure + High Efficiency Whole Home Electrification    3063.8\n",
       "Basic Enclosure + High Efficiency Whole Home Electrification       3030.9\n",
       "Enhanced Enclosure + HPWH + High Efficiency HP/Electric Backup     2979.9\n",
       "Basic Enclosure + HPWH + High Efficiency HP/Electric Backup        2947.1\n",
       "High Efficiency Whole Home Electrification                         2754.7\n",
       "High Efficiency Heat Pump with Electric Heat Backup                2092.4\n",
       "Mininum Efficiency Whole Home Electrification                      1977.6\n",
       "Mininum Efficiency Heat Pump with Electric Heat Backup             1164.7\n",
       "Enhanced Enclosure                                                 1026.4\n",
       "Basic Enclosure                                                     869.7\n",
       "Mininum Efficiency Heat Pump with Existing Heat Backup              836.2\n",
       "Heat Pump Water Heater                                              404.0\n",
       "Electric Cooking                                                    101.9\n",
       "Heat Pump Clothes Dryer                                              68.2\n",
       "Induction Cooking                                                    39.2\n",
       "Electric Clothes Dryer                                               27.6\n",
       "Name: saving_emission.total_kgCO2e, dtype: float64"
      ]
     },
     "metadata": {},
     "output_type": "display_data"
    },
    {
     "name": "stderr",
     "output_type": "stream",
     "text": [
      "C:\\Users\\ylou2\\AppData\\Local\\Temp\\ipykernel_12568\\3299577571.py:3: PerformanceWarning:\n",
      "\n",
      "DataFrame is highly fragmented.  This is usually the result of calling `frame.insert` many times, which has poor performance.  Consider joining all columns at once using pd.concat(axis=1) instead. To get a de-fragmented frame, use `newframe = frame.copy()`\n",
      "\n",
      "C:\\Users\\ylou2\\AppData\\Local\\Temp\\ipykernel_12568\\3299577571.py:4: PerformanceWarning:\n",
      "\n",
      "DataFrame is highly fragmented.  This is usually the result of calling `frame.insert` many times, which has poor performance.  Consider joining all columns at once using pd.concat(axis=1) instead. To get a de-fragmented frame, use `newframe = frame.copy()`\n",
      "\n",
      "C:\\Users\\ylou2\\AppData\\Local\\Temp\\ipykernel_12568\\3299577571.py:5: PerformanceWarning:\n",
      "\n",
      "DataFrame is highly fragmented.  This is usually the result of calling `frame.insert` many times, which has poor performance.  Consider joining all columns at once using pd.concat(axis=1) instead. To get a de-fragmented frame, use `newframe = frame.copy()`\n",
      "\n"
     ]
    }
   ],
   "source": [
    "indicator ='saving_emission.total_kgCO2e'\n",
    "results = segment_mean_savings(indicator, community_results)\n",
    "saving_results[f'segment1_{income}_saving_emission_mean_kgCO2e'] = results[0]\n",
    "saving_results[f'segment2_{income}_saving_emission_mean_kgCO2e'] = results[1]\n",
    "saving_results[f'segment3_{income}_saving_emission_mean_kgCO2e'] = results[2]"
   ]
  },
  {
   "cell_type": "markdown",
   "id": "29b1f612",
   "metadata": {},
   "source": [
    "## 3.5. Pecent Stock with Positive and Negtive Savings"
   ]
  },
  {
   "cell_type": "markdown",
   "id": "39c7e32d",
   "metadata": {},
   "source": [
    "### Segment 1"
   ]
  },
  {
   "cell_type": "code",
   "execution_count": 241,
   "id": "86ef104a",
   "metadata": {},
   "outputs": [
    {
     "data": {
      "application/vnd.plotly.v1+json": {
       "config": {
        "plotlyServerURL": "https://plot.ly"
       },
       "data": [
        {
         "marker": {
          "color": "red"
         },
         "name": "Negative",
         "orientation": "h",
         "text": [
          1,
          1,
          0.9411764705882353,
          0.7894736842105263,
          0.5263157894736842,
          0.5,
          0.2631578947368421,
          0.10526315789473684,
          0.10526315789473684,
          0.10526315789473684,
          0.10526315789473684,
          0.10526315789473684,
          0.10526315789473684,
          0.05263157894736842,
          0,
          0
         ],
         "textposition": "inside",
         "texttemplate": "%{text:.0%}",
         "type": "bar",
         "x": [
          1,
          1,
          0.9411764705882353,
          0.7894736842105263,
          0.5263157894736842,
          0.5,
          0.2631578947368421,
          0.10526315789473684,
          0.10526315789473684,
          0.10526315789473684,
          0.10526315789473684,
          0.10526315789473684,
          0.10526315789473684,
          0.05263157894736842,
          0,
          0
         ],
         "xaxis": "x",
         "y": [
          "Electric Clothes Dryer",
          "Electric Cooking",
          "Mininum Efficiency Whole Home Electrification",
          "Mininum Efficiency Heat Pump with Electric Heat Backup",
          "Induction Cooking",
          "Mininum Efficiency Heat Pump with Existing Heat Backup",
          "Heat Pump Clothes Dryer",
          "Basic Enclosure + HPWH + High Efficiency HP/Electric Backup",
          "Basic Enclosure + High Efficiency Whole Home Electrification",
          "Enhanced Enclosure + HPWH + High Efficiency HP/Electric Backup",
          "Enhanced Enclosure + High Efficiency Whole Home Electrification",
          "High Efficiency Heat Pump with Electric Heat Backup",
          "High Efficiency Whole Home Electrification",
          "Heat Pump Water Heater",
          "Basic Enclosure",
          "Enhanced Enclosure"
         ],
         "yaxis": "y"
        },
        {
         "marker": {
          "color": "green"
         },
         "name": "Positive",
         "orientation": "h",
         "text": [
          0,
          0,
          0.058823529411764705,
          0.21052631578947367,
          0.47368421052631576,
          0.5,
          0.7368421052631579,
          0.8947368421052632,
          0.8947368421052632,
          0.8947368421052632,
          0.8947368421052632,
          0.8947368421052632,
          0.8947368421052632,
          0.9473684210526315,
          1,
          1
         ],
         "textposition": "inside",
         "texttemplate": "%{text:.0%}",
         "type": "bar",
         "x": [
          0,
          0,
          0.058823529411764705,
          0.21052631578947367,
          0.47368421052631576,
          0.5,
          0.7368421052631579,
          0.8947368421052632,
          0.8947368421052632,
          0.8947368421052632,
          0.8947368421052632,
          0.8947368421052632,
          0.8947368421052632,
          0.9473684210526315,
          1,
          1
         ],
         "xaxis": "x",
         "y": [
          "Electric Clothes Dryer",
          "Electric Cooking",
          "Mininum Efficiency Whole Home Electrification",
          "Mininum Efficiency Heat Pump with Electric Heat Backup",
          "Induction Cooking",
          "Mininum Efficiency Heat Pump with Existing Heat Backup",
          "Heat Pump Clothes Dryer",
          "Basic Enclosure + HPWH + High Efficiency HP/Electric Backup",
          "Basic Enclosure + High Efficiency Whole Home Electrification",
          "Enhanced Enclosure + HPWH + High Efficiency HP/Electric Backup",
          "Enhanced Enclosure + High Efficiency Whole Home Electrification",
          "High Efficiency Heat Pump with Electric Heat Backup",
          "High Efficiency Whole Home Electrification",
          "Heat Pump Water Heater",
          "Basic Enclosure",
          "Enhanced Enclosure"
         ],
         "yaxis": "y"
        },
        {
         "marker": {
          "color": "red"
         },
         "orientation": "h",
         "showlegend": false,
         "text": [
          0,
          0,
          0.058823529411764705,
          0.05263157894736842,
          0,
          0,
          0,
          0.05263157894736842,
          0.05263157894736842,
          0.05263157894736842,
          0.05263157894736842,
          0.05263157894736842,
          0.05263157894736842,
          0,
          0,
          0
         ],
         "textposition": "inside",
         "texttemplate": "%{text:.0%}",
         "type": "bar",
         "x": [
          0,
          0,
          0.058823529411764705,
          0.05263157894736842,
          0,
          0,
          0,
          0.05263157894736842,
          0.05263157894736842,
          0.05263157894736842,
          0.05263157894736842,
          0.05263157894736842,
          0.05263157894736842,
          0,
          0,
          0
         ],
         "xaxis": "x2",
         "y": [
          "Electric Clothes Dryer",
          "Electric Cooking",
          "Mininum Efficiency Whole Home Electrification",
          "Mininum Efficiency Heat Pump with Electric Heat Backup",
          "Induction Cooking",
          "Mininum Efficiency Heat Pump with Existing Heat Backup",
          "Heat Pump Clothes Dryer",
          "Basic Enclosure + HPWH + High Efficiency HP/Electric Backup",
          "Basic Enclosure + High Efficiency Whole Home Electrification",
          "Enhanced Enclosure + HPWH + High Efficiency HP/Electric Backup",
          "Enhanced Enclosure + High Efficiency Whole Home Electrification",
          "High Efficiency Heat Pump with Electric Heat Backup",
          "High Efficiency Whole Home Electrification",
          "Heat Pump Water Heater",
          "Basic Enclosure",
          "Enhanced Enclosure"
         ],
         "yaxis": "y2"
        },
        {
         "marker": {
          "color": "green"
         },
         "orientation": "h",
         "showlegend": false,
         "text": [
          1,
          1,
          0.9411764705882353,
          0.9473684210526315,
          1,
          1,
          1,
          0.9473684210526315,
          0.9473684210526315,
          0.9473684210526315,
          0.9473684210526315,
          0.9473684210526315,
          0.9473684210526315,
          1,
          1,
          1
         ],
         "textposition": "inside",
         "texttemplate": "%{text:.0%}",
         "type": "bar",
         "x": [
          1,
          1,
          0.9411764705882353,
          0.9473684210526315,
          1,
          1,
          1,
          0.9473684210526315,
          0.9473684210526315,
          0.9473684210526315,
          0.9473684210526315,
          0.9473684210526315,
          0.9473684210526315,
          1,
          1,
          1
         ],
         "xaxis": "x2",
         "y": [
          "Electric Clothes Dryer",
          "Electric Cooking",
          "Mininum Efficiency Whole Home Electrification",
          "Mininum Efficiency Heat Pump with Electric Heat Backup",
          "Induction Cooking",
          "Mininum Efficiency Heat Pump with Existing Heat Backup",
          "Heat Pump Clothes Dryer",
          "Basic Enclosure + HPWH + High Efficiency HP/Electric Backup",
          "Basic Enclosure + High Efficiency Whole Home Electrification",
          "Enhanced Enclosure + HPWH + High Efficiency HP/Electric Backup",
          "Enhanced Enclosure + High Efficiency Whole Home Electrification",
          "High Efficiency Heat Pump with Electric Heat Backup",
          "High Efficiency Whole Home Electrification",
          "Heat Pump Water Heater",
          "Basic Enclosure",
          "Enhanced Enclosure"
         ],
         "yaxis": "y2"
        },
        {
         "marker": {
          "color": "red"
         },
         "orientation": "h",
         "showlegend": false,
         "text": [
          0,
          0,
          0.058823529411764705,
          0.05263157894736842,
          0,
          0,
          0,
          0.05263157894736842,
          0.05263157894736842,
          0.05263157894736842,
          0.05263157894736842,
          0.05263157894736842,
          0.05263157894736842,
          0,
          0,
          0
         ],
         "textposition": "inside",
         "texttemplate": "%{text:.0%}",
         "type": "bar",
         "x": [
          0,
          0,
          0.058823529411764705,
          0.05263157894736842,
          0,
          0,
          0,
          0.05263157894736842,
          0.05263157894736842,
          0.05263157894736842,
          0.05263157894736842,
          0.05263157894736842,
          0.05263157894736842,
          0,
          0,
          0
         ],
         "xaxis": "x3",
         "y": [
          "Electric Clothes Dryer",
          "Electric Cooking",
          "Mininum Efficiency Whole Home Electrification",
          "Mininum Efficiency Heat Pump with Electric Heat Backup",
          "Induction Cooking",
          "Mininum Efficiency Heat Pump with Existing Heat Backup",
          "Heat Pump Clothes Dryer",
          "Basic Enclosure + HPWH + High Efficiency HP/Electric Backup",
          "Basic Enclosure + High Efficiency Whole Home Electrification",
          "Enhanced Enclosure + HPWH + High Efficiency HP/Electric Backup",
          "Enhanced Enclosure + High Efficiency Whole Home Electrification",
          "High Efficiency Heat Pump with Electric Heat Backup",
          "High Efficiency Whole Home Electrification",
          "Heat Pump Water Heater",
          "Basic Enclosure",
          "Enhanced Enclosure"
         ],
         "yaxis": "y3"
        },
        {
         "marker": {
          "color": "green"
         },
         "orientation": "h",
         "showlegend": false,
         "text": [
          1,
          1,
          0.9411764705882353,
          0.9473684210526315,
          1,
          1,
          1,
          0.9473684210526315,
          0.9473684210526315,
          0.9473684210526315,
          0.9473684210526315,
          0.9473684210526315,
          0.9473684210526315,
          1,
          1,
          1
         ],
         "textposition": "inside",
         "texttemplate": "%{text:.0%}",
         "type": "bar",
         "x": [
          1,
          1,
          0.9411764705882353,
          0.9473684210526315,
          1,
          1,
          1,
          0.9473684210526315,
          0.9473684210526315,
          0.9473684210526315,
          0.9473684210526315,
          0.9473684210526315,
          0.9473684210526315,
          1,
          1,
          1
         ],
         "xaxis": "x3",
         "y": [
          "Electric Clothes Dryer",
          "Electric Cooking",
          "Mininum Efficiency Whole Home Electrification",
          "Mininum Efficiency Heat Pump with Electric Heat Backup",
          "Induction Cooking",
          "Mininum Efficiency Heat Pump with Existing Heat Backup",
          "Heat Pump Clothes Dryer",
          "Basic Enclosure + HPWH + High Efficiency HP/Electric Backup",
          "Basic Enclosure + High Efficiency Whole Home Electrification",
          "Enhanced Enclosure + HPWH + High Efficiency HP/Electric Backup",
          "Enhanced Enclosure + High Efficiency Whole Home Electrification",
          "High Efficiency Heat Pump with Electric Heat Backup",
          "High Efficiency Whole Home Electrification",
          "Heat Pump Water Heater",
          "Basic Enclosure",
          "Enhanced Enclosure"
         ],
         "yaxis": "y3"
        }
       ],
       "layout": {
        "autosize": false,
        "barmode": "relative",
        "font": {
         "size": 10
        },
        "height": 500,
        "template": {
         "data": {
          "bar": [
           {
            "error_x": {
             "color": "#2a3f5f"
            },
            "error_y": {
             "color": "#2a3f5f"
            },
            "marker": {
             "line": {
              "color": "#E5ECF6",
              "width": 0.5
             },
             "pattern": {
              "fillmode": "overlay",
              "size": 10,
              "solidity": 0.2
             }
            },
            "type": "bar"
           }
          ],
          "barpolar": [
           {
            "marker": {
             "line": {
              "color": "#E5ECF6",
              "width": 0.5
             },
             "pattern": {
              "fillmode": "overlay",
              "size": 10,
              "solidity": 0.2
             }
            },
            "type": "barpolar"
           }
          ],
          "carpet": [
           {
            "aaxis": {
             "endlinecolor": "#2a3f5f",
             "gridcolor": "white",
             "linecolor": "white",
             "minorgridcolor": "white",
             "startlinecolor": "#2a3f5f"
            },
            "baxis": {
             "endlinecolor": "#2a3f5f",
             "gridcolor": "white",
             "linecolor": "white",
             "minorgridcolor": "white",
             "startlinecolor": "#2a3f5f"
            },
            "type": "carpet"
           }
          ],
          "choropleth": [
           {
            "colorbar": {
             "outlinewidth": 0,
             "ticks": ""
            },
            "type": "choropleth"
           }
          ],
          "contour": [
           {
            "colorbar": {
             "outlinewidth": 0,
             "ticks": ""
            },
            "colorscale": [
             [
              0,
              "#0d0887"
             ],
             [
              0.1111111111111111,
              "#46039f"
             ],
             [
              0.2222222222222222,
              "#7201a8"
             ],
             [
              0.3333333333333333,
              "#9c179e"
             ],
             [
              0.4444444444444444,
              "#bd3786"
             ],
             [
              0.5555555555555556,
              "#d8576b"
             ],
             [
              0.6666666666666666,
              "#ed7953"
             ],
             [
              0.7777777777777778,
              "#fb9f3a"
             ],
             [
              0.8888888888888888,
              "#fdca26"
             ],
             [
              1,
              "#f0f921"
             ]
            ],
            "type": "contour"
           }
          ],
          "contourcarpet": [
           {
            "colorbar": {
             "outlinewidth": 0,
             "ticks": ""
            },
            "type": "contourcarpet"
           }
          ],
          "heatmap": [
           {
            "colorbar": {
             "outlinewidth": 0,
             "ticks": ""
            },
            "colorscale": [
             [
              0,
              "#0d0887"
             ],
             [
              0.1111111111111111,
              "#46039f"
             ],
             [
              0.2222222222222222,
              "#7201a8"
             ],
             [
              0.3333333333333333,
              "#9c179e"
             ],
             [
              0.4444444444444444,
              "#bd3786"
             ],
             [
              0.5555555555555556,
              "#d8576b"
             ],
             [
              0.6666666666666666,
              "#ed7953"
             ],
             [
              0.7777777777777778,
              "#fb9f3a"
             ],
             [
              0.8888888888888888,
              "#fdca26"
             ],
             [
              1,
              "#f0f921"
             ]
            ],
            "type": "heatmap"
           }
          ],
          "heatmapgl": [
           {
            "colorbar": {
             "outlinewidth": 0,
             "ticks": ""
            },
            "colorscale": [
             [
              0,
              "#0d0887"
             ],
             [
              0.1111111111111111,
              "#46039f"
             ],
             [
              0.2222222222222222,
              "#7201a8"
             ],
             [
              0.3333333333333333,
              "#9c179e"
             ],
             [
              0.4444444444444444,
              "#bd3786"
             ],
             [
              0.5555555555555556,
              "#d8576b"
             ],
             [
              0.6666666666666666,
              "#ed7953"
             ],
             [
              0.7777777777777778,
              "#fb9f3a"
             ],
             [
              0.8888888888888888,
              "#fdca26"
             ],
             [
              1,
              "#f0f921"
             ]
            ],
            "type": "heatmapgl"
           }
          ],
          "histogram": [
           {
            "marker": {
             "pattern": {
              "fillmode": "overlay",
              "size": 10,
              "solidity": 0.2
             }
            },
            "type": "histogram"
           }
          ],
          "histogram2d": [
           {
            "colorbar": {
             "outlinewidth": 0,
             "ticks": ""
            },
            "colorscale": [
             [
              0,
              "#0d0887"
             ],
             [
              0.1111111111111111,
              "#46039f"
             ],
             [
              0.2222222222222222,
              "#7201a8"
             ],
             [
              0.3333333333333333,
              "#9c179e"
             ],
             [
              0.4444444444444444,
              "#bd3786"
             ],
             [
              0.5555555555555556,
              "#d8576b"
             ],
             [
              0.6666666666666666,
              "#ed7953"
             ],
             [
              0.7777777777777778,
              "#fb9f3a"
             ],
             [
              0.8888888888888888,
              "#fdca26"
             ],
             [
              1,
              "#f0f921"
             ]
            ],
            "type": "histogram2d"
           }
          ],
          "histogram2dcontour": [
           {
            "colorbar": {
             "outlinewidth": 0,
             "ticks": ""
            },
            "colorscale": [
             [
              0,
              "#0d0887"
             ],
             [
              0.1111111111111111,
              "#46039f"
             ],
             [
              0.2222222222222222,
              "#7201a8"
             ],
             [
              0.3333333333333333,
              "#9c179e"
             ],
             [
              0.4444444444444444,
              "#bd3786"
             ],
             [
              0.5555555555555556,
              "#d8576b"
             ],
             [
              0.6666666666666666,
              "#ed7953"
             ],
             [
              0.7777777777777778,
              "#fb9f3a"
             ],
             [
              0.8888888888888888,
              "#fdca26"
             ],
             [
              1,
              "#f0f921"
             ]
            ],
            "type": "histogram2dcontour"
           }
          ],
          "mesh3d": [
           {
            "colorbar": {
             "outlinewidth": 0,
             "ticks": ""
            },
            "type": "mesh3d"
           }
          ],
          "parcoords": [
           {
            "line": {
             "colorbar": {
              "outlinewidth": 0,
              "ticks": ""
             }
            },
            "type": "parcoords"
           }
          ],
          "pie": [
           {
            "automargin": true,
            "type": "pie"
           }
          ],
          "scatter": [
           {
            "fillpattern": {
             "fillmode": "overlay",
             "size": 10,
             "solidity": 0.2
            },
            "type": "scatter"
           }
          ],
          "scatter3d": [
           {
            "line": {
             "colorbar": {
              "outlinewidth": 0,
              "ticks": ""
             }
            },
            "marker": {
             "colorbar": {
              "outlinewidth": 0,
              "ticks": ""
             }
            },
            "type": "scatter3d"
           }
          ],
          "scattercarpet": [
           {
            "marker": {
             "colorbar": {
              "outlinewidth": 0,
              "ticks": ""
             }
            },
            "type": "scattercarpet"
           }
          ],
          "scattergeo": [
           {
            "marker": {
             "colorbar": {
              "outlinewidth": 0,
              "ticks": ""
             }
            },
            "type": "scattergeo"
           }
          ],
          "scattergl": [
           {
            "marker": {
             "colorbar": {
              "outlinewidth": 0,
              "ticks": ""
             }
            },
            "type": "scattergl"
           }
          ],
          "scattermapbox": [
           {
            "marker": {
             "colorbar": {
              "outlinewidth": 0,
              "ticks": ""
             }
            },
            "type": "scattermapbox"
           }
          ],
          "scatterpolar": [
           {
            "marker": {
             "colorbar": {
              "outlinewidth": 0,
              "ticks": ""
             }
            },
            "type": "scatterpolar"
           }
          ],
          "scatterpolargl": [
           {
            "marker": {
             "colorbar": {
              "outlinewidth": 0,
              "ticks": ""
             }
            },
            "type": "scatterpolargl"
           }
          ],
          "scatterternary": [
           {
            "marker": {
             "colorbar": {
              "outlinewidth": 0,
              "ticks": ""
             }
            },
            "type": "scatterternary"
           }
          ],
          "surface": [
           {
            "colorbar": {
             "outlinewidth": 0,
             "ticks": ""
            },
            "colorscale": [
             [
              0,
              "#0d0887"
             ],
             [
              0.1111111111111111,
              "#46039f"
             ],
             [
              0.2222222222222222,
              "#7201a8"
             ],
             [
              0.3333333333333333,
              "#9c179e"
             ],
             [
              0.4444444444444444,
              "#bd3786"
             ],
             [
              0.5555555555555556,
              "#d8576b"
             ],
             [
              0.6666666666666666,
              "#ed7953"
             ],
             [
              0.7777777777777778,
              "#fb9f3a"
             ],
             [
              0.8888888888888888,
              "#fdca26"
             ],
             [
              1,
              "#f0f921"
             ]
            ],
            "type": "surface"
           }
          ],
          "table": [
           {
            "cells": {
             "fill": {
              "color": "#EBF0F8"
             },
             "line": {
              "color": "white"
             }
            },
            "header": {
             "fill": {
              "color": "#C8D4E3"
             },
             "line": {
              "color": "white"
             }
            },
            "type": "table"
           }
          ]
         },
         "layout": {
          "annotationdefaults": {
           "arrowcolor": "#2a3f5f",
           "arrowhead": 0,
           "arrowwidth": 1
          },
          "autotypenumbers": "strict",
          "coloraxis": {
           "colorbar": {
            "outlinewidth": 0,
            "ticks": ""
           }
          },
          "colorscale": {
           "diverging": [
            [
             0,
             "#8e0152"
            ],
            [
             0.1,
             "#c51b7d"
            ],
            [
             0.2,
             "#de77ae"
            ],
            [
             0.3,
             "#f1b6da"
            ],
            [
             0.4,
             "#fde0ef"
            ],
            [
             0.5,
             "#f7f7f7"
            ],
            [
             0.6,
             "#e6f5d0"
            ],
            [
             0.7,
             "#b8e186"
            ],
            [
             0.8,
             "#7fbc41"
            ],
            [
             0.9,
             "#4d9221"
            ],
            [
             1,
             "#276419"
            ]
           ],
           "sequential": [
            [
             0,
             "#0d0887"
            ],
            [
             0.1111111111111111,
             "#46039f"
            ],
            [
             0.2222222222222222,
             "#7201a8"
            ],
            [
             0.3333333333333333,
             "#9c179e"
            ],
            [
             0.4444444444444444,
             "#bd3786"
            ],
            [
             0.5555555555555556,
             "#d8576b"
            ],
            [
             0.6666666666666666,
             "#ed7953"
            ],
            [
             0.7777777777777778,
             "#fb9f3a"
            ],
            [
             0.8888888888888888,
             "#fdca26"
            ],
            [
             1,
             "#f0f921"
            ]
           ],
           "sequentialminus": [
            [
             0,
             "#0d0887"
            ],
            [
             0.1111111111111111,
             "#46039f"
            ],
            [
             0.2222222222222222,
             "#7201a8"
            ],
            [
             0.3333333333333333,
             "#9c179e"
            ],
            [
             0.4444444444444444,
             "#bd3786"
            ],
            [
             0.5555555555555556,
             "#d8576b"
            ],
            [
             0.6666666666666666,
             "#ed7953"
            ],
            [
             0.7777777777777778,
             "#fb9f3a"
            ],
            [
             0.8888888888888888,
             "#fdca26"
            ],
            [
             1,
             "#f0f921"
            ]
           ]
          },
          "colorway": [
           "#636efa",
           "#EF553B",
           "#00cc96",
           "#ab63fa",
           "#FFA15A",
           "#19d3f3",
           "#FF6692",
           "#B6E880",
           "#FF97FF",
           "#FECB52"
          ],
          "font": {
           "color": "#2a3f5f"
          },
          "geo": {
           "bgcolor": "white",
           "lakecolor": "white",
           "landcolor": "#E5ECF6",
           "showlakes": true,
           "showland": true,
           "subunitcolor": "white"
          },
          "hoverlabel": {
           "align": "left"
          },
          "hovermode": "closest",
          "mapbox": {
           "style": "light"
          },
          "paper_bgcolor": "white",
          "plot_bgcolor": "#E5ECF6",
          "polar": {
           "angularaxis": {
            "gridcolor": "white",
            "linecolor": "white",
            "ticks": ""
           },
           "bgcolor": "#E5ECF6",
           "radialaxis": {
            "gridcolor": "white",
            "linecolor": "white",
            "ticks": ""
           }
          },
          "scene": {
           "xaxis": {
            "backgroundcolor": "#E5ECF6",
            "gridcolor": "white",
            "gridwidth": 2,
            "linecolor": "white",
            "showbackground": true,
            "ticks": "",
            "zerolinecolor": "white"
           },
           "yaxis": {
            "backgroundcolor": "#E5ECF6",
            "gridcolor": "white",
            "gridwidth": 2,
            "linecolor": "white",
            "showbackground": true,
            "ticks": "",
            "zerolinecolor": "white"
           },
           "zaxis": {
            "backgroundcolor": "#E5ECF6",
            "gridcolor": "white",
            "gridwidth": 2,
            "linecolor": "white",
            "showbackground": true,
            "ticks": "",
            "zerolinecolor": "white"
           }
          },
          "shapedefaults": {
           "line": {
            "color": "#2a3f5f"
           }
          },
          "ternary": {
           "aaxis": {
            "gridcolor": "white",
            "linecolor": "white",
            "ticks": ""
           },
           "baxis": {
            "gridcolor": "white",
            "linecolor": "white",
            "ticks": ""
           },
           "bgcolor": "#E5ECF6",
           "caxis": {
            "gridcolor": "white",
            "linecolor": "white",
            "ticks": ""
           }
          },
          "title": {
           "x": 0.05
          },
          "xaxis": {
           "automargin": true,
           "gridcolor": "white",
           "linecolor": "white",
           "ticks": "",
           "title": {
            "standoff": 15
           },
           "zerolinecolor": "white",
           "zerolinewidth": 2
          },
          "yaxis": {
           "automargin": true,
           "gridcolor": "white",
           "linecolor": "white",
           "ticks": "",
           "title": {
            "standoff": 15
           },
           "zerolinecolor": "white",
           "zerolinewidth": 2
          }
         }
        },
        "title": {
         "text": "Percentage of Household in Positive and Negative Savings"
        },
        "width": 1000,
        "xaxis": {
         "anchor": "y",
         "domain": [
          0,
          0.2888888888888889
         ],
         "tickformat": ",.0%",
         "title": {
          "text": "Bill"
         },
         "visible": true
        },
        "xaxis2": {
         "anchor": "y2",
         "domain": [
          0.35555555555555557,
          0.6444444444444445
         ],
         "tickformat": ",.0%",
         "title": {
          "text": "Emission"
         },
         "visible": true
        },
        "xaxis3": {
         "anchor": "y3",
         "domain": [
          0.7111111111111111,
          1
         ],
         "tickformat": ",.0%",
         "title": {
          "text": "Total Energy"
         },
         "visible": true
        },
        "yaxis": {
         "anchor": "x",
         "domain": [
          0,
          1
         ],
         "visible": true
        },
        "yaxis2": {
         "anchor": "x2",
         "domain": [
          0,
          1
         ],
         "visible": false
        },
        "yaxis3": {
         "anchor": "x3",
         "domain": [
          0,
          1
         ],
         "visible": false
        }
       }
      },
      "text/html": [
       "<div>                            <div id=\"67906345-1840-4ef7-a80c-d72d3e4c44e8\" class=\"plotly-graph-div\" style=\"height:500px; width:1000px;\"></div>            <script type=\"text/javascript\">                require([\"plotly\"], function(Plotly) {                    window.PLOTLYENV=window.PLOTLYENV || {};                                    if (document.getElementById(\"67906345-1840-4ef7-a80c-d72d3e4c44e8\")) {                    Plotly.newPlot(                        \"67906345-1840-4ef7-a80c-d72d3e4c44e8\",                        [{\"marker\":{\"color\":\"red\"},\"name\":\"Negative\",\"orientation\":\"h\",\"text\":[1.0,1.0,0.9411764705882353,0.7894736842105263,0.5263157894736842,0.5,0.2631578947368421,0.10526315789473684,0.10526315789473684,0.10526315789473684,0.10526315789473684,0.10526315789473684,0.10526315789473684,0.05263157894736842,0.0,0.0],\"x\":[1.0,1.0,0.9411764705882353,0.7894736842105263,0.5263157894736842,0.5,0.2631578947368421,0.10526315789473684,0.10526315789473684,0.10526315789473684,0.10526315789473684,0.10526315789473684,0.10526315789473684,0.05263157894736842,0.0,0.0],\"y\":[\"Electric Clothes Dryer\",\"Electric Cooking\",\"Mininum Efficiency Whole Home Electrification\",\"Mininum Efficiency Heat Pump with Electric Heat Backup\",\"Induction Cooking\",\"Mininum Efficiency Heat Pump with Existing Heat Backup\",\"Heat Pump Clothes Dryer\",\"Basic Enclosure + HPWH + High Efficiency HP/Electric Backup\",\"Basic Enclosure + High Efficiency Whole Home Electrification\",\"Enhanced Enclosure + HPWH + High Efficiency HP/Electric Backup\",\"Enhanced Enclosure + High Efficiency Whole Home Electrification\",\"High Efficiency Heat Pump with Electric Heat Backup\",\"High Efficiency Whole Home Electrification\",\"Heat Pump Water Heater\",\"Basic Enclosure\",\"Enhanced Enclosure\"],\"type\":\"bar\",\"xaxis\":\"x\",\"yaxis\":\"y\",\"textposition\":\"inside\",\"texttemplate\":\"%{text:.0%}\"},{\"marker\":{\"color\":\"green\"},\"name\":\"Positive\",\"orientation\":\"h\",\"text\":[0.0,0.0,0.058823529411764705,0.21052631578947367,0.47368421052631576,0.5,0.7368421052631579,0.8947368421052632,0.8947368421052632,0.8947368421052632,0.8947368421052632,0.8947368421052632,0.8947368421052632,0.9473684210526315,1.0,1.0],\"x\":[0.0,0.0,0.058823529411764705,0.21052631578947367,0.47368421052631576,0.5,0.7368421052631579,0.8947368421052632,0.8947368421052632,0.8947368421052632,0.8947368421052632,0.8947368421052632,0.8947368421052632,0.9473684210526315,1.0,1.0],\"y\":[\"Electric Clothes Dryer\",\"Electric Cooking\",\"Mininum Efficiency Whole Home Electrification\",\"Mininum Efficiency Heat Pump with Electric Heat Backup\",\"Induction Cooking\",\"Mininum Efficiency Heat Pump with Existing Heat Backup\",\"Heat Pump Clothes Dryer\",\"Basic Enclosure + HPWH + High Efficiency HP/Electric Backup\",\"Basic Enclosure + High Efficiency Whole Home Electrification\",\"Enhanced Enclosure + HPWH + High Efficiency HP/Electric Backup\",\"Enhanced Enclosure + High Efficiency Whole Home Electrification\",\"High Efficiency Heat Pump with Electric Heat Backup\",\"High Efficiency Whole Home Electrification\",\"Heat Pump Water Heater\",\"Basic Enclosure\",\"Enhanced Enclosure\"],\"type\":\"bar\",\"xaxis\":\"x\",\"yaxis\":\"y\",\"textposition\":\"inside\",\"texttemplate\":\"%{text:.0%}\"},{\"marker\":{\"color\":\"red\"},\"orientation\":\"h\",\"showlegend\":false,\"text\":[0.0,0.0,0.058823529411764705,0.05263157894736842,0.0,0.0,0.0,0.05263157894736842,0.05263157894736842,0.05263157894736842,0.05263157894736842,0.05263157894736842,0.05263157894736842,0.0,0.0,0.0],\"x\":[0.0,0.0,0.058823529411764705,0.05263157894736842,0.0,0.0,0.0,0.05263157894736842,0.05263157894736842,0.05263157894736842,0.05263157894736842,0.05263157894736842,0.05263157894736842,0.0,0.0,0.0],\"y\":[\"Electric Clothes Dryer\",\"Electric Cooking\",\"Mininum Efficiency Whole Home Electrification\",\"Mininum Efficiency Heat Pump with Electric Heat Backup\",\"Induction Cooking\",\"Mininum Efficiency Heat Pump with Existing Heat Backup\",\"Heat Pump Clothes Dryer\",\"Basic Enclosure + HPWH + High Efficiency HP/Electric Backup\",\"Basic Enclosure + High Efficiency Whole Home Electrification\",\"Enhanced Enclosure + HPWH + High Efficiency HP/Electric Backup\",\"Enhanced Enclosure + High Efficiency Whole Home Electrification\",\"High Efficiency Heat Pump with Electric Heat Backup\",\"High Efficiency Whole Home Electrification\",\"Heat Pump Water Heater\",\"Basic Enclosure\",\"Enhanced Enclosure\"],\"type\":\"bar\",\"xaxis\":\"x2\",\"yaxis\":\"y2\",\"textposition\":\"inside\",\"texttemplate\":\"%{text:.0%}\"},{\"marker\":{\"color\":\"green\"},\"orientation\":\"h\",\"showlegend\":false,\"text\":[1.0,1.0,0.9411764705882353,0.9473684210526315,1.0,1.0,1.0,0.9473684210526315,0.9473684210526315,0.9473684210526315,0.9473684210526315,0.9473684210526315,0.9473684210526315,1.0,1.0,1.0],\"x\":[1.0,1.0,0.9411764705882353,0.9473684210526315,1.0,1.0,1.0,0.9473684210526315,0.9473684210526315,0.9473684210526315,0.9473684210526315,0.9473684210526315,0.9473684210526315,1.0,1.0,1.0],\"y\":[\"Electric Clothes Dryer\",\"Electric Cooking\",\"Mininum Efficiency Whole Home Electrification\",\"Mininum Efficiency Heat Pump with Electric Heat Backup\",\"Induction Cooking\",\"Mininum Efficiency Heat Pump with Existing Heat Backup\",\"Heat Pump Clothes Dryer\",\"Basic Enclosure + HPWH + High Efficiency HP/Electric Backup\",\"Basic Enclosure + High Efficiency Whole Home Electrification\",\"Enhanced Enclosure + HPWH + High Efficiency HP/Electric Backup\",\"Enhanced Enclosure + High Efficiency Whole Home Electrification\",\"High Efficiency Heat Pump with Electric Heat Backup\",\"High Efficiency Whole Home Electrification\",\"Heat Pump Water Heater\",\"Basic Enclosure\",\"Enhanced Enclosure\"],\"type\":\"bar\",\"xaxis\":\"x2\",\"yaxis\":\"y2\",\"textposition\":\"inside\",\"texttemplate\":\"%{text:.0%}\"},{\"marker\":{\"color\":\"red\"},\"orientation\":\"h\",\"showlegend\":false,\"text\":[0.0,0.0,0.058823529411764705,0.05263157894736842,0.0,0.0,0.0,0.05263157894736842,0.05263157894736842,0.05263157894736842,0.05263157894736842,0.05263157894736842,0.05263157894736842,0.0,0.0,0.0],\"x\":[0.0,0.0,0.058823529411764705,0.05263157894736842,0.0,0.0,0.0,0.05263157894736842,0.05263157894736842,0.05263157894736842,0.05263157894736842,0.05263157894736842,0.05263157894736842,0.0,0.0,0.0],\"y\":[\"Electric Clothes Dryer\",\"Electric Cooking\",\"Mininum Efficiency Whole Home Electrification\",\"Mininum Efficiency Heat Pump with Electric Heat Backup\",\"Induction Cooking\",\"Mininum Efficiency Heat Pump with Existing Heat Backup\",\"Heat Pump Clothes Dryer\",\"Basic Enclosure + HPWH + High Efficiency HP/Electric Backup\",\"Basic Enclosure + High Efficiency Whole Home Electrification\",\"Enhanced Enclosure + HPWH + High Efficiency HP/Electric Backup\",\"Enhanced Enclosure + High Efficiency Whole Home Electrification\",\"High Efficiency Heat Pump with Electric Heat Backup\",\"High Efficiency Whole Home Electrification\",\"Heat Pump Water Heater\",\"Basic Enclosure\",\"Enhanced Enclosure\"],\"type\":\"bar\",\"xaxis\":\"x3\",\"yaxis\":\"y3\",\"textposition\":\"inside\",\"texttemplate\":\"%{text:.0%}\"},{\"marker\":{\"color\":\"green\"},\"orientation\":\"h\",\"showlegend\":false,\"text\":[1.0,1.0,0.9411764705882353,0.9473684210526315,1.0,1.0,1.0,0.9473684210526315,0.9473684210526315,0.9473684210526315,0.9473684210526315,0.9473684210526315,0.9473684210526315,1.0,1.0,1.0],\"x\":[1.0,1.0,0.9411764705882353,0.9473684210526315,1.0,1.0,1.0,0.9473684210526315,0.9473684210526315,0.9473684210526315,0.9473684210526315,0.9473684210526315,0.9473684210526315,1.0,1.0,1.0],\"y\":[\"Electric Clothes Dryer\",\"Electric Cooking\",\"Mininum Efficiency Whole Home Electrification\",\"Mininum Efficiency Heat Pump with Electric Heat Backup\",\"Induction Cooking\",\"Mininum Efficiency Heat Pump with Existing Heat Backup\",\"Heat Pump Clothes Dryer\",\"Basic Enclosure + HPWH + High Efficiency HP/Electric Backup\",\"Basic Enclosure + High Efficiency Whole Home Electrification\",\"Enhanced Enclosure + HPWH + High Efficiency HP/Electric Backup\",\"Enhanced Enclosure + High Efficiency Whole Home Electrification\",\"High Efficiency Heat Pump with Electric Heat Backup\",\"High Efficiency Whole Home Electrification\",\"Heat Pump Water Heater\",\"Basic Enclosure\",\"Enhanced Enclosure\"],\"type\":\"bar\",\"xaxis\":\"x3\",\"yaxis\":\"y3\",\"textposition\":\"inside\",\"texttemplate\":\"%{text:.0%}\"}],                        {\"template\":{\"data\":{\"histogram2dcontour\":[{\"type\":\"histogram2dcontour\",\"colorbar\":{\"outlinewidth\":0,\"ticks\":\"\"},\"colorscale\":[[0.0,\"#0d0887\"],[0.1111111111111111,\"#46039f\"],[0.2222222222222222,\"#7201a8\"],[0.3333333333333333,\"#9c179e\"],[0.4444444444444444,\"#bd3786\"],[0.5555555555555556,\"#d8576b\"],[0.6666666666666666,\"#ed7953\"],[0.7777777777777778,\"#fb9f3a\"],[0.8888888888888888,\"#fdca26\"],[1.0,\"#f0f921\"]]}],\"choropleth\":[{\"type\":\"choropleth\",\"colorbar\":{\"outlinewidth\":0,\"ticks\":\"\"}}],\"histogram2d\":[{\"type\":\"histogram2d\",\"colorbar\":{\"outlinewidth\":0,\"ticks\":\"\"},\"colorscale\":[[0.0,\"#0d0887\"],[0.1111111111111111,\"#46039f\"],[0.2222222222222222,\"#7201a8\"],[0.3333333333333333,\"#9c179e\"],[0.4444444444444444,\"#bd3786\"],[0.5555555555555556,\"#d8576b\"],[0.6666666666666666,\"#ed7953\"],[0.7777777777777778,\"#fb9f3a\"],[0.8888888888888888,\"#fdca26\"],[1.0,\"#f0f921\"]]}],\"heatmap\":[{\"type\":\"heatmap\",\"colorbar\":{\"outlinewidth\":0,\"ticks\":\"\"},\"colorscale\":[[0.0,\"#0d0887\"],[0.1111111111111111,\"#46039f\"],[0.2222222222222222,\"#7201a8\"],[0.3333333333333333,\"#9c179e\"],[0.4444444444444444,\"#bd3786\"],[0.5555555555555556,\"#d8576b\"],[0.6666666666666666,\"#ed7953\"],[0.7777777777777778,\"#fb9f3a\"],[0.8888888888888888,\"#fdca26\"],[1.0,\"#f0f921\"]]}],\"heatmapgl\":[{\"type\":\"heatmapgl\",\"colorbar\":{\"outlinewidth\":0,\"ticks\":\"\"},\"colorscale\":[[0.0,\"#0d0887\"],[0.1111111111111111,\"#46039f\"],[0.2222222222222222,\"#7201a8\"],[0.3333333333333333,\"#9c179e\"],[0.4444444444444444,\"#bd3786\"],[0.5555555555555556,\"#d8576b\"],[0.6666666666666666,\"#ed7953\"],[0.7777777777777778,\"#fb9f3a\"],[0.8888888888888888,\"#fdca26\"],[1.0,\"#f0f921\"]]}],\"contourcarpet\":[{\"type\":\"contourcarpet\",\"colorbar\":{\"outlinewidth\":0,\"ticks\":\"\"}}],\"contour\":[{\"type\":\"contour\",\"colorbar\":{\"outlinewidth\":0,\"ticks\":\"\"},\"colorscale\":[[0.0,\"#0d0887\"],[0.1111111111111111,\"#46039f\"],[0.2222222222222222,\"#7201a8\"],[0.3333333333333333,\"#9c179e\"],[0.4444444444444444,\"#bd3786\"],[0.5555555555555556,\"#d8576b\"],[0.6666666666666666,\"#ed7953\"],[0.7777777777777778,\"#fb9f3a\"],[0.8888888888888888,\"#fdca26\"],[1.0,\"#f0f921\"]]}],\"surface\":[{\"type\":\"surface\",\"colorbar\":{\"outlinewidth\":0,\"ticks\":\"\"},\"colorscale\":[[0.0,\"#0d0887\"],[0.1111111111111111,\"#46039f\"],[0.2222222222222222,\"#7201a8\"],[0.3333333333333333,\"#9c179e\"],[0.4444444444444444,\"#bd3786\"],[0.5555555555555556,\"#d8576b\"],[0.6666666666666666,\"#ed7953\"],[0.7777777777777778,\"#fb9f3a\"],[0.8888888888888888,\"#fdca26\"],[1.0,\"#f0f921\"]]}],\"mesh3d\":[{\"type\":\"mesh3d\",\"colorbar\":{\"outlinewidth\":0,\"ticks\":\"\"}}],\"scatter\":[{\"fillpattern\":{\"fillmode\":\"overlay\",\"size\":10,\"solidity\":0.2},\"type\":\"scatter\"}],\"parcoords\":[{\"type\":\"parcoords\",\"line\":{\"colorbar\":{\"outlinewidth\":0,\"ticks\":\"\"}}}],\"scatterpolargl\":[{\"type\":\"scatterpolargl\",\"marker\":{\"colorbar\":{\"outlinewidth\":0,\"ticks\":\"\"}}}],\"bar\":[{\"error_x\":{\"color\":\"#2a3f5f\"},\"error_y\":{\"color\":\"#2a3f5f\"},\"marker\":{\"line\":{\"color\":\"#E5ECF6\",\"width\":0.5},\"pattern\":{\"fillmode\":\"overlay\",\"size\":10,\"solidity\":0.2}},\"type\":\"bar\"}],\"scattergeo\":[{\"type\":\"scattergeo\",\"marker\":{\"colorbar\":{\"outlinewidth\":0,\"ticks\":\"\"}}}],\"scatterpolar\":[{\"type\":\"scatterpolar\",\"marker\":{\"colorbar\":{\"outlinewidth\":0,\"ticks\":\"\"}}}],\"histogram\":[{\"marker\":{\"pattern\":{\"fillmode\":\"overlay\",\"size\":10,\"solidity\":0.2}},\"type\":\"histogram\"}],\"scattergl\":[{\"type\":\"scattergl\",\"marker\":{\"colorbar\":{\"outlinewidth\":0,\"ticks\":\"\"}}}],\"scatter3d\":[{\"type\":\"scatter3d\",\"line\":{\"colorbar\":{\"outlinewidth\":0,\"ticks\":\"\"}},\"marker\":{\"colorbar\":{\"outlinewidth\":0,\"ticks\":\"\"}}}],\"scattermapbox\":[{\"type\":\"scattermapbox\",\"marker\":{\"colorbar\":{\"outlinewidth\":0,\"ticks\":\"\"}}}],\"scatterternary\":[{\"type\":\"scatterternary\",\"marker\":{\"colorbar\":{\"outlinewidth\":0,\"ticks\":\"\"}}}],\"scattercarpet\":[{\"type\":\"scattercarpet\",\"marker\":{\"colorbar\":{\"outlinewidth\":0,\"ticks\":\"\"}}}],\"carpet\":[{\"aaxis\":{\"endlinecolor\":\"#2a3f5f\",\"gridcolor\":\"white\",\"linecolor\":\"white\",\"minorgridcolor\":\"white\",\"startlinecolor\":\"#2a3f5f\"},\"baxis\":{\"endlinecolor\":\"#2a3f5f\",\"gridcolor\":\"white\",\"linecolor\":\"white\",\"minorgridcolor\":\"white\",\"startlinecolor\":\"#2a3f5f\"},\"type\":\"carpet\"}],\"table\":[{\"cells\":{\"fill\":{\"color\":\"#EBF0F8\"},\"line\":{\"color\":\"white\"}},\"header\":{\"fill\":{\"color\":\"#C8D4E3\"},\"line\":{\"color\":\"white\"}},\"type\":\"table\"}],\"barpolar\":[{\"marker\":{\"line\":{\"color\":\"#E5ECF6\",\"width\":0.5},\"pattern\":{\"fillmode\":\"overlay\",\"size\":10,\"solidity\":0.2}},\"type\":\"barpolar\"}],\"pie\":[{\"automargin\":true,\"type\":\"pie\"}]},\"layout\":{\"autotypenumbers\":\"strict\",\"colorway\":[\"#636efa\",\"#EF553B\",\"#00cc96\",\"#ab63fa\",\"#FFA15A\",\"#19d3f3\",\"#FF6692\",\"#B6E880\",\"#FF97FF\",\"#FECB52\"],\"font\":{\"color\":\"#2a3f5f\"},\"hovermode\":\"closest\",\"hoverlabel\":{\"align\":\"left\"},\"paper_bgcolor\":\"white\",\"plot_bgcolor\":\"#E5ECF6\",\"polar\":{\"bgcolor\":\"#E5ECF6\",\"angularaxis\":{\"gridcolor\":\"white\",\"linecolor\":\"white\",\"ticks\":\"\"},\"radialaxis\":{\"gridcolor\":\"white\",\"linecolor\":\"white\",\"ticks\":\"\"}},\"ternary\":{\"bgcolor\":\"#E5ECF6\",\"aaxis\":{\"gridcolor\":\"white\",\"linecolor\":\"white\",\"ticks\":\"\"},\"baxis\":{\"gridcolor\":\"white\",\"linecolor\":\"white\",\"ticks\":\"\"},\"caxis\":{\"gridcolor\":\"white\",\"linecolor\":\"white\",\"ticks\":\"\"}},\"coloraxis\":{\"colorbar\":{\"outlinewidth\":0,\"ticks\":\"\"}},\"colorscale\":{\"sequential\":[[0.0,\"#0d0887\"],[0.1111111111111111,\"#46039f\"],[0.2222222222222222,\"#7201a8\"],[0.3333333333333333,\"#9c179e\"],[0.4444444444444444,\"#bd3786\"],[0.5555555555555556,\"#d8576b\"],[0.6666666666666666,\"#ed7953\"],[0.7777777777777778,\"#fb9f3a\"],[0.8888888888888888,\"#fdca26\"],[1.0,\"#f0f921\"]],\"sequentialminus\":[[0.0,\"#0d0887\"],[0.1111111111111111,\"#46039f\"],[0.2222222222222222,\"#7201a8\"],[0.3333333333333333,\"#9c179e\"],[0.4444444444444444,\"#bd3786\"],[0.5555555555555556,\"#d8576b\"],[0.6666666666666666,\"#ed7953\"],[0.7777777777777778,\"#fb9f3a\"],[0.8888888888888888,\"#fdca26\"],[1.0,\"#f0f921\"]],\"diverging\":[[0,\"#8e0152\"],[0.1,\"#c51b7d\"],[0.2,\"#de77ae\"],[0.3,\"#f1b6da\"],[0.4,\"#fde0ef\"],[0.5,\"#f7f7f7\"],[0.6,\"#e6f5d0\"],[0.7,\"#b8e186\"],[0.8,\"#7fbc41\"],[0.9,\"#4d9221\"],[1,\"#276419\"]]},\"xaxis\":{\"gridcolor\":\"white\",\"linecolor\":\"white\",\"ticks\":\"\",\"title\":{\"standoff\":15},\"zerolinecolor\":\"white\",\"automargin\":true,\"zerolinewidth\":2},\"yaxis\":{\"gridcolor\":\"white\",\"linecolor\":\"white\",\"ticks\":\"\",\"title\":{\"standoff\":15},\"zerolinecolor\":\"white\",\"automargin\":true,\"zerolinewidth\":2},\"scene\":{\"xaxis\":{\"backgroundcolor\":\"#E5ECF6\",\"gridcolor\":\"white\",\"linecolor\":\"white\",\"showbackground\":true,\"ticks\":\"\",\"zerolinecolor\":\"white\",\"gridwidth\":2},\"yaxis\":{\"backgroundcolor\":\"#E5ECF6\",\"gridcolor\":\"white\",\"linecolor\":\"white\",\"showbackground\":true,\"ticks\":\"\",\"zerolinecolor\":\"white\",\"gridwidth\":2},\"zaxis\":{\"backgroundcolor\":\"#E5ECF6\",\"gridcolor\":\"white\",\"linecolor\":\"white\",\"showbackground\":true,\"ticks\":\"\",\"zerolinecolor\":\"white\",\"gridwidth\":2}},\"shapedefaults\":{\"line\":{\"color\":\"#2a3f5f\"}},\"annotationdefaults\":{\"arrowcolor\":\"#2a3f5f\",\"arrowhead\":0,\"arrowwidth\":1},\"geo\":{\"bgcolor\":\"white\",\"landcolor\":\"#E5ECF6\",\"subunitcolor\":\"white\",\"showland\":true,\"showlakes\":true,\"lakecolor\":\"white\"},\"title\":{\"x\":0.05},\"mapbox\":{\"style\":\"light\"}}},\"xaxis\":{\"anchor\":\"y\",\"domain\":[0.0,0.2888888888888889],\"title\":{\"text\":\"Bill\"},\"visible\":true,\"tickformat\":\",.0%\"},\"yaxis\":{\"anchor\":\"x\",\"domain\":[0.0,1.0],\"visible\":true},\"xaxis2\":{\"anchor\":\"y2\",\"domain\":[0.35555555555555557,0.6444444444444445],\"title\":{\"text\":\"Emission\"},\"visible\":true,\"tickformat\":\",.0%\"},\"yaxis2\":{\"anchor\":\"x2\",\"domain\":[0.0,1.0],\"visible\":false},\"xaxis3\":{\"anchor\":\"y3\",\"domain\":[0.7111111111111111,1.0],\"title\":{\"text\":\"Total Energy\"},\"visible\":true,\"tickformat\":\",.0%\"},\"yaxis3\":{\"anchor\":\"x3\",\"domain\":[0.0,1.0],\"visible\":false},\"barmode\":\"relative\",\"font\":{\"size\":10},\"title\":{\"text\":\"Percentage of Household in Positive and Negative Savings\"},\"autosize\":false,\"width\":1000,\"height\":500},                        {\"responsive\": true}                    ).then(function(){\n",
       "                            \n",
       "var gd = document.getElementById('67906345-1840-4ef7-a80c-d72d3e4c44e8');\n",
       "var x = new MutationObserver(function (mutations, observer) {{\n",
       "        var display = window.getComputedStyle(gd).display;\n",
       "        if (!display || display === 'none') {{\n",
       "            console.log([gd, 'removed!']);\n",
       "            Plotly.purge(gd);\n",
       "            observer.disconnect();\n",
       "        }}\n",
       "}});\n",
       "\n",
       "// Listen for the removal of the full notebook cells\n",
       "var notebookContainer = gd.closest('#notebook-container');\n",
       "if (notebookContainer) {{\n",
       "    x.observe(notebookContainer, {childList: true});\n",
       "}}\n",
       "\n",
       "// Listen for the clearing of the current output cell\n",
       "var outputEl = gd.closest('.output');\n",
       "if (outputEl) {{\n",
       "    x.observe(outputEl, {childList: true});\n",
       "}}\n",
       "\n",
       "                        })                };                });            </script>        </div>"
      ]
     },
     "metadata": {},
     "output_type": "display_data"
    },
    {
     "name": "stderr",
     "output_type": "stream",
     "text": [
      "C:\\Users\\ylou2\\AppData\\Local\\Temp\\ipykernel_12568\\868763001.py:3: PerformanceWarning:\n",
      "\n",
      "DataFrame is highly fragmented.  This is usually the result of calling `frame.insert` many times, which has poor performance.  Consider joining all columns at once using pd.concat(axis=1) instead. To get a de-fragmented frame, use `newframe = frame.copy()`\n",
      "\n",
      "C:\\Users\\ylou2\\AppData\\Local\\Temp\\ipykernel_12568\\868763001.py:4: PerformanceWarning:\n",
      "\n",
      "DataFrame is highly fragmented.  This is usually the result of calling `frame.insert` many times, which has poor performance.  Consider joining all columns at once using pd.concat(axis=1) instead. To get a de-fragmented frame, use `newframe = frame.copy()`\n",
      "\n",
      "C:\\Users\\ylou2\\AppData\\Local\\Temp\\ipykernel_12568\\868763001.py:5: PerformanceWarning:\n",
      "\n",
      "DataFrame is highly fragmented.  This is usually the result of calling `frame.insert` many times, which has poor performance.  Consider joining all columns at once using pd.concat(axis=1) instead. To get a de-fragmented frame, use `newframe = frame.copy()`\n",
      "\n"
     ]
    }
   ],
   "source": [
    "segment = 'segment1'\n",
    "results = figure_positive_negative_savings(segment, community_results) \n",
    "saving_results[f'segment1_{income}_pct_bill_positive_savings_%'] = results[0]*100\n",
    "saving_results[f'segment1_{income}_pct_emission_positive_savings_%'] = results[1]*100\n",
    "saving_results[f'segment1_{income}_pct_energy_positive_savings_%'] = results[2]*100"
   ]
  },
  {
   "cell_type": "markdown",
   "id": "97abb617",
   "metadata": {},
   "source": [
    "### Segment 2"
   ]
  },
  {
   "cell_type": "code",
   "execution_count": 242,
   "id": "2d927faf",
   "metadata": {},
   "outputs": [
    {
     "data": {
      "application/vnd.plotly.v1+json": {
       "config": {
        "plotlyServerURL": "https://plot.ly"
       },
       "data": [
        {
         "marker": {
          "color": "red"
         },
         "name": "Negative",
         "orientation": "h",
         "text": [
          1,
          1,
          0.4,
          0.25,
          0.2,
          0,
          0,
          0,
          0,
          0,
          0,
          0,
          0,
          0,
          0
         ],
         "textposition": "inside",
         "texttemplate": "%{text:.0%}",
         "type": "bar",
         "x": [
          1,
          1,
          0.4,
          0.25,
          0.2,
          0,
          0,
          0,
          0,
          0,
          0,
          0,
          0,
          0,
          0
         ],
         "xaxis": "x",
         "y": [
          "Electric Cooking",
          "Mininum Efficiency Whole Home Electrification",
          "Mininum Efficiency Heat Pump with Electric Heat Backup",
          "Induction Cooking",
          "Mininum Efficiency Heat Pump with Existing Heat Backup",
          "Basic Enclosure",
          "Basic Enclosure + HPWH + High Efficiency HP/Electric Backup",
          "Basic Enclosure + High Efficiency Whole Home Electrification",
          "Enhanced Enclosure",
          "Enhanced Enclosure + HPWH + High Efficiency HP/Electric Backup",
          "Enhanced Enclosure + High Efficiency Whole Home Electrification",
          "Heat Pump Clothes Dryer",
          "Heat Pump Water Heater",
          "High Efficiency Heat Pump with Electric Heat Backup",
          "High Efficiency Whole Home Electrification"
         ],
         "yaxis": "y"
        },
        {
         "marker": {
          "color": "green"
         },
         "name": "Positive",
         "orientation": "h",
         "text": [
          0,
          0,
          0.6,
          0.75,
          0.8,
          1,
          1,
          1,
          1,
          1,
          1,
          1,
          1,
          1,
          1
         ],
         "textposition": "inside",
         "texttemplate": "%{text:.0%}",
         "type": "bar",
         "x": [
          0,
          0,
          0.6,
          0.75,
          0.8,
          1,
          1,
          1,
          1,
          1,
          1,
          1,
          1,
          1,
          1
         ],
         "xaxis": "x",
         "y": [
          "Electric Cooking",
          "Mininum Efficiency Whole Home Electrification",
          "Mininum Efficiency Heat Pump with Electric Heat Backup",
          "Induction Cooking",
          "Mininum Efficiency Heat Pump with Existing Heat Backup",
          "Basic Enclosure",
          "Basic Enclosure + HPWH + High Efficiency HP/Electric Backup",
          "Basic Enclosure + High Efficiency Whole Home Electrification",
          "Enhanced Enclosure",
          "Enhanced Enclosure + HPWH + High Efficiency HP/Electric Backup",
          "Enhanced Enclosure + High Efficiency Whole Home Electrification",
          "Heat Pump Clothes Dryer",
          "Heat Pump Water Heater",
          "High Efficiency Heat Pump with Electric Heat Backup",
          "High Efficiency Whole Home Electrification"
         ],
         "yaxis": "y"
        },
        {
         "marker": {
          "color": "red"
         },
         "orientation": "h",
         "showlegend": false,
         "text": [
          0,
          0,
          0,
          0,
          0,
          0,
          0,
          0,
          0,
          0,
          0,
          0,
          0,
          0,
          0
         ],
         "textposition": "inside",
         "texttemplate": "%{text:.0%}",
         "type": "bar",
         "x": [
          0,
          0,
          0,
          0,
          0,
          0,
          0,
          0,
          0,
          0,
          0,
          0,
          0,
          0,
          0
         ],
         "xaxis": "x2",
         "y": [
          "Electric Cooking",
          "Mininum Efficiency Whole Home Electrification",
          "Mininum Efficiency Heat Pump with Electric Heat Backup",
          "Induction Cooking",
          "Mininum Efficiency Heat Pump with Existing Heat Backup",
          "Basic Enclosure",
          "Basic Enclosure + HPWH + High Efficiency HP/Electric Backup",
          "Basic Enclosure + High Efficiency Whole Home Electrification",
          "Enhanced Enclosure",
          "Enhanced Enclosure + HPWH + High Efficiency HP/Electric Backup",
          "Enhanced Enclosure + High Efficiency Whole Home Electrification",
          "Heat Pump Clothes Dryer",
          "Heat Pump Water Heater",
          "High Efficiency Heat Pump with Electric Heat Backup",
          "High Efficiency Whole Home Electrification"
         ],
         "yaxis": "y2"
        },
        {
         "marker": {
          "color": "green"
         },
         "orientation": "h",
         "showlegend": false,
         "text": [
          1,
          1,
          1,
          1,
          1,
          1,
          1,
          1,
          1,
          1,
          1,
          1,
          1,
          1,
          1
         ],
         "textposition": "inside",
         "texttemplate": "%{text:.0%}",
         "type": "bar",
         "x": [
          1,
          1,
          1,
          1,
          1,
          1,
          1,
          1,
          1,
          1,
          1,
          1,
          1,
          1,
          1
         ],
         "xaxis": "x2",
         "y": [
          "Electric Cooking",
          "Mininum Efficiency Whole Home Electrification",
          "Mininum Efficiency Heat Pump with Electric Heat Backup",
          "Induction Cooking",
          "Mininum Efficiency Heat Pump with Existing Heat Backup",
          "Basic Enclosure",
          "Basic Enclosure + HPWH + High Efficiency HP/Electric Backup",
          "Basic Enclosure + High Efficiency Whole Home Electrification",
          "Enhanced Enclosure",
          "Enhanced Enclosure + HPWH + High Efficiency HP/Electric Backup",
          "Enhanced Enclosure + High Efficiency Whole Home Electrification",
          "Heat Pump Clothes Dryer",
          "Heat Pump Water Heater",
          "High Efficiency Heat Pump with Electric Heat Backup",
          "High Efficiency Whole Home Electrification"
         ],
         "yaxis": "y2"
        },
        {
         "marker": {
          "color": "red"
         },
         "orientation": "h",
         "showlegend": false,
         "text": [
          0,
          0,
          0,
          0,
          0,
          0,
          0,
          0,
          0,
          0,
          0,
          0,
          0,
          0,
          0
         ],
         "textposition": "inside",
         "texttemplate": "%{text:.0%}",
         "type": "bar",
         "x": [
          0,
          0,
          0,
          0,
          0,
          0,
          0,
          0,
          0,
          0,
          0,
          0,
          0,
          0,
          0
         ],
         "xaxis": "x3",
         "y": [
          "Electric Cooking",
          "Mininum Efficiency Whole Home Electrification",
          "Mininum Efficiency Heat Pump with Electric Heat Backup",
          "Induction Cooking",
          "Mininum Efficiency Heat Pump with Existing Heat Backup",
          "Basic Enclosure",
          "Basic Enclosure + HPWH + High Efficiency HP/Electric Backup",
          "Basic Enclosure + High Efficiency Whole Home Electrification",
          "Enhanced Enclosure",
          "Enhanced Enclosure + HPWH + High Efficiency HP/Electric Backup",
          "Enhanced Enclosure + High Efficiency Whole Home Electrification",
          "Heat Pump Clothes Dryer",
          "Heat Pump Water Heater",
          "High Efficiency Heat Pump with Electric Heat Backup",
          "High Efficiency Whole Home Electrification"
         ],
         "yaxis": "y3"
        },
        {
         "marker": {
          "color": "green"
         },
         "orientation": "h",
         "showlegend": false,
         "text": [
          1,
          1,
          1,
          1,
          1,
          1,
          1,
          1,
          1,
          1,
          1,
          1,
          1,
          1,
          1
         ],
         "textposition": "inside",
         "texttemplate": "%{text:.0%}",
         "type": "bar",
         "x": [
          1,
          1,
          1,
          1,
          1,
          1,
          1,
          1,
          1,
          1,
          1,
          1,
          1,
          1,
          1
         ],
         "xaxis": "x3",
         "y": [
          "Electric Cooking",
          "Mininum Efficiency Whole Home Electrification",
          "Mininum Efficiency Heat Pump with Electric Heat Backup",
          "Induction Cooking",
          "Mininum Efficiency Heat Pump with Existing Heat Backup",
          "Basic Enclosure",
          "Basic Enclosure + HPWH + High Efficiency HP/Electric Backup",
          "Basic Enclosure + High Efficiency Whole Home Electrification",
          "Enhanced Enclosure",
          "Enhanced Enclosure + HPWH + High Efficiency HP/Electric Backup",
          "Enhanced Enclosure + High Efficiency Whole Home Electrification",
          "Heat Pump Clothes Dryer",
          "Heat Pump Water Heater",
          "High Efficiency Heat Pump with Electric Heat Backup",
          "High Efficiency Whole Home Electrification"
         ],
         "yaxis": "y3"
        }
       ],
       "layout": {
        "autosize": false,
        "barmode": "relative",
        "font": {
         "size": 10
        },
        "height": 500,
        "template": {
         "data": {
          "bar": [
           {
            "error_x": {
             "color": "#2a3f5f"
            },
            "error_y": {
             "color": "#2a3f5f"
            },
            "marker": {
             "line": {
              "color": "#E5ECF6",
              "width": 0.5
             },
             "pattern": {
              "fillmode": "overlay",
              "size": 10,
              "solidity": 0.2
             }
            },
            "type": "bar"
           }
          ],
          "barpolar": [
           {
            "marker": {
             "line": {
              "color": "#E5ECF6",
              "width": 0.5
             },
             "pattern": {
              "fillmode": "overlay",
              "size": 10,
              "solidity": 0.2
             }
            },
            "type": "barpolar"
           }
          ],
          "carpet": [
           {
            "aaxis": {
             "endlinecolor": "#2a3f5f",
             "gridcolor": "white",
             "linecolor": "white",
             "minorgridcolor": "white",
             "startlinecolor": "#2a3f5f"
            },
            "baxis": {
             "endlinecolor": "#2a3f5f",
             "gridcolor": "white",
             "linecolor": "white",
             "minorgridcolor": "white",
             "startlinecolor": "#2a3f5f"
            },
            "type": "carpet"
           }
          ],
          "choropleth": [
           {
            "colorbar": {
             "outlinewidth": 0,
             "ticks": ""
            },
            "type": "choropleth"
           }
          ],
          "contour": [
           {
            "colorbar": {
             "outlinewidth": 0,
             "ticks": ""
            },
            "colorscale": [
             [
              0,
              "#0d0887"
             ],
             [
              0.1111111111111111,
              "#46039f"
             ],
             [
              0.2222222222222222,
              "#7201a8"
             ],
             [
              0.3333333333333333,
              "#9c179e"
             ],
             [
              0.4444444444444444,
              "#bd3786"
             ],
             [
              0.5555555555555556,
              "#d8576b"
             ],
             [
              0.6666666666666666,
              "#ed7953"
             ],
             [
              0.7777777777777778,
              "#fb9f3a"
             ],
             [
              0.8888888888888888,
              "#fdca26"
             ],
             [
              1,
              "#f0f921"
             ]
            ],
            "type": "contour"
           }
          ],
          "contourcarpet": [
           {
            "colorbar": {
             "outlinewidth": 0,
             "ticks": ""
            },
            "type": "contourcarpet"
           }
          ],
          "heatmap": [
           {
            "colorbar": {
             "outlinewidth": 0,
             "ticks": ""
            },
            "colorscale": [
             [
              0,
              "#0d0887"
             ],
             [
              0.1111111111111111,
              "#46039f"
             ],
             [
              0.2222222222222222,
              "#7201a8"
             ],
             [
              0.3333333333333333,
              "#9c179e"
             ],
             [
              0.4444444444444444,
              "#bd3786"
             ],
             [
              0.5555555555555556,
              "#d8576b"
             ],
             [
              0.6666666666666666,
              "#ed7953"
             ],
             [
              0.7777777777777778,
              "#fb9f3a"
             ],
             [
              0.8888888888888888,
              "#fdca26"
             ],
             [
              1,
              "#f0f921"
             ]
            ],
            "type": "heatmap"
           }
          ],
          "heatmapgl": [
           {
            "colorbar": {
             "outlinewidth": 0,
             "ticks": ""
            },
            "colorscale": [
             [
              0,
              "#0d0887"
             ],
             [
              0.1111111111111111,
              "#46039f"
             ],
             [
              0.2222222222222222,
              "#7201a8"
             ],
             [
              0.3333333333333333,
              "#9c179e"
             ],
             [
              0.4444444444444444,
              "#bd3786"
             ],
             [
              0.5555555555555556,
              "#d8576b"
             ],
             [
              0.6666666666666666,
              "#ed7953"
             ],
             [
              0.7777777777777778,
              "#fb9f3a"
             ],
             [
              0.8888888888888888,
              "#fdca26"
             ],
             [
              1,
              "#f0f921"
             ]
            ],
            "type": "heatmapgl"
           }
          ],
          "histogram": [
           {
            "marker": {
             "pattern": {
              "fillmode": "overlay",
              "size": 10,
              "solidity": 0.2
             }
            },
            "type": "histogram"
           }
          ],
          "histogram2d": [
           {
            "colorbar": {
             "outlinewidth": 0,
             "ticks": ""
            },
            "colorscale": [
             [
              0,
              "#0d0887"
             ],
             [
              0.1111111111111111,
              "#46039f"
             ],
             [
              0.2222222222222222,
              "#7201a8"
             ],
             [
              0.3333333333333333,
              "#9c179e"
             ],
             [
              0.4444444444444444,
              "#bd3786"
             ],
             [
              0.5555555555555556,
              "#d8576b"
             ],
             [
              0.6666666666666666,
              "#ed7953"
             ],
             [
              0.7777777777777778,
              "#fb9f3a"
             ],
             [
              0.8888888888888888,
              "#fdca26"
             ],
             [
              1,
              "#f0f921"
             ]
            ],
            "type": "histogram2d"
           }
          ],
          "histogram2dcontour": [
           {
            "colorbar": {
             "outlinewidth": 0,
             "ticks": ""
            },
            "colorscale": [
             [
              0,
              "#0d0887"
             ],
             [
              0.1111111111111111,
              "#46039f"
             ],
             [
              0.2222222222222222,
              "#7201a8"
             ],
             [
              0.3333333333333333,
              "#9c179e"
             ],
             [
              0.4444444444444444,
              "#bd3786"
             ],
             [
              0.5555555555555556,
              "#d8576b"
             ],
             [
              0.6666666666666666,
              "#ed7953"
             ],
             [
              0.7777777777777778,
              "#fb9f3a"
             ],
             [
              0.8888888888888888,
              "#fdca26"
             ],
             [
              1,
              "#f0f921"
             ]
            ],
            "type": "histogram2dcontour"
           }
          ],
          "mesh3d": [
           {
            "colorbar": {
             "outlinewidth": 0,
             "ticks": ""
            },
            "type": "mesh3d"
           }
          ],
          "parcoords": [
           {
            "line": {
             "colorbar": {
              "outlinewidth": 0,
              "ticks": ""
             }
            },
            "type": "parcoords"
           }
          ],
          "pie": [
           {
            "automargin": true,
            "type": "pie"
           }
          ],
          "scatter": [
           {
            "fillpattern": {
             "fillmode": "overlay",
             "size": 10,
             "solidity": 0.2
            },
            "type": "scatter"
           }
          ],
          "scatter3d": [
           {
            "line": {
             "colorbar": {
              "outlinewidth": 0,
              "ticks": ""
             }
            },
            "marker": {
             "colorbar": {
              "outlinewidth": 0,
              "ticks": ""
             }
            },
            "type": "scatter3d"
           }
          ],
          "scattercarpet": [
           {
            "marker": {
             "colorbar": {
              "outlinewidth": 0,
              "ticks": ""
             }
            },
            "type": "scattercarpet"
           }
          ],
          "scattergeo": [
           {
            "marker": {
             "colorbar": {
              "outlinewidth": 0,
              "ticks": ""
             }
            },
            "type": "scattergeo"
           }
          ],
          "scattergl": [
           {
            "marker": {
             "colorbar": {
              "outlinewidth": 0,
              "ticks": ""
             }
            },
            "type": "scattergl"
           }
          ],
          "scattermapbox": [
           {
            "marker": {
             "colorbar": {
              "outlinewidth": 0,
              "ticks": ""
             }
            },
            "type": "scattermapbox"
           }
          ],
          "scatterpolar": [
           {
            "marker": {
             "colorbar": {
              "outlinewidth": 0,
              "ticks": ""
             }
            },
            "type": "scatterpolar"
           }
          ],
          "scatterpolargl": [
           {
            "marker": {
             "colorbar": {
              "outlinewidth": 0,
              "ticks": ""
             }
            },
            "type": "scatterpolargl"
           }
          ],
          "scatterternary": [
           {
            "marker": {
             "colorbar": {
              "outlinewidth": 0,
              "ticks": ""
             }
            },
            "type": "scatterternary"
           }
          ],
          "surface": [
           {
            "colorbar": {
             "outlinewidth": 0,
             "ticks": ""
            },
            "colorscale": [
             [
              0,
              "#0d0887"
             ],
             [
              0.1111111111111111,
              "#46039f"
             ],
             [
              0.2222222222222222,
              "#7201a8"
             ],
             [
              0.3333333333333333,
              "#9c179e"
             ],
             [
              0.4444444444444444,
              "#bd3786"
             ],
             [
              0.5555555555555556,
              "#d8576b"
             ],
             [
              0.6666666666666666,
              "#ed7953"
             ],
             [
              0.7777777777777778,
              "#fb9f3a"
             ],
             [
              0.8888888888888888,
              "#fdca26"
             ],
             [
              1,
              "#f0f921"
             ]
            ],
            "type": "surface"
           }
          ],
          "table": [
           {
            "cells": {
             "fill": {
              "color": "#EBF0F8"
             },
             "line": {
              "color": "white"
             }
            },
            "header": {
             "fill": {
              "color": "#C8D4E3"
             },
             "line": {
              "color": "white"
             }
            },
            "type": "table"
           }
          ]
         },
         "layout": {
          "annotationdefaults": {
           "arrowcolor": "#2a3f5f",
           "arrowhead": 0,
           "arrowwidth": 1
          },
          "autotypenumbers": "strict",
          "coloraxis": {
           "colorbar": {
            "outlinewidth": 0,
            "ticks": ""
           }
          },
          "colorscale": {
           "diverging": [
            [
             0,
             "#8e0152"
            ],
            [
             0.1,
             "#c51b7d"
            ],
            [
             0.2,
             "#de77ae"
            ],
            [
             0.3,
             "#f1b6da"
            ],
            [
             0.4,
             "#fde0ef"
            ],
            [
             0.5,
             "#f7f7f7"
            ],
            [
             0.6,
             "#e6f5d0"
            ],
            [
             0.7,
             "#b8e186"
            ],
            [
             0.8,
             "#7fbc41"
            ],
            [
             0.9,
             "#4d9221"
            ],
            [
             1,
             "#276419"
            ]
           ],
           "sequential": [
            [
             0,
             "#0d0887"
            ],
            [
             0.1111111111111111,
             "#46039f"
            ],
            [
             0.2222222222222222,
             "#7201a8"
            ],
            [
             0.3333333333333333,
             "#9c179e"
            ],
            [
             0.4444444444444444,
             "#bd3786"
            ],
            [
             0.5555555555555556,
             "#d8576b"
            ],
            [
             0.6666666666666666,
             "#ed7953"
            ],
            [
             0.7777777777777778,
             "#fb9f3a"
            ],
            [
             0.8888888888888888,
             "#fdca26"
            ],
            [
             1,
             "#f0f921"
            ]
           ],
           "sequentialminus": [
            [
             0,
             "#0d0887"
            ],
            [
             0.1111111111111111,
             "#46039f"
            ],
            [
             0.2222222222222222,
             "#7201a8"
            ],
            [
             0.3333333333333333,
             "#9c179e"
            ],
            [
             0.4444444444444444,
             "#bd3786"
            ],
            [
             0.5555555555555556,
             "#d8576b"
            ],
            [
             0.6666666666666666,
             "#ed7953"
            ],
            [
             0.7777777777777778,
             "#fb9f3a"
            ],
            [
             0.8888888888888888,
             "#fdca26"
            ],
            [
             1,
             "#f0f921"
            ]
           ]
          },
          "colorway": [
           "#636efa",
           "#EF553B",
           "#00cc96",
           "#ab63fa",
           "#FFA15A",
           "#19d3f3",
           "#FF6692",
           "#B6E880",
           "#FF97FF",
           "#FECB52"
          ],
          "font": {
           "color": "#2a3f5f"
          },
          "geo": {
           "bgcolor": "white",
           "lakecolor": "white",
           "landcolor": "#E5ECF6",
           "showlakes": true,
           "showland": true,
           "subunitcolor": "white"
          },
          "hoverlabel": {
           "align": "left"
          },
          "hovermode": "closest",
          "mapbox": {
           "style": "light"
          },
          "paper_bgcolor": "white",
          "plot_bgcolor": "#E5ECF6",
          "polar": {
           "angularaxis": {
            "gridcolor": "white",
            "linecolor": "white",
            "ticks": ""
           },
           "bgcolor": "#E5ECF6",
           "radialaxis": {
            "gridcolor": "white",
            "linecolor": "white",
            "ticks": ""
           }
          },
          "scene": {
           "xaxis": {
            "backgroundcolor": "#E5ECF6",
            "gridcolor": "white",
            "gridwidth": 2,
            "linecolor": "white",
            "showbackground": true,
            "ticks": "",
            "zerolinecolor": "white"
           },
           "yaxis": {
            "backgroundcolor": "#E5ECF6",
            "gridcolor": "white",
            "gridwidth": 2,
            "linecolor": "white",
            "showbackground": true,
            "ticks": "",
            "zerolinecolor": "white"
           },
           "zaxis": {
            "backgroundcolor": "#E5ECF6",
            "gridcolor": "white",
            "gridwidth": 2,
            "linecolor": "white",
            "showbackground": true,
            "ticks": "",
            "zerolinecolor": "white"
           }
          },
          "shapedefaults": {
           "line": {
            "color": "#2a3f5f"
           }
          },
          "ternary": {
           "aaxis": {
            "gridcolor": "white",
            "linecolor": "white",
            "ticks": ""
           },
           "baxis": {
            "gridcolor": "white",
            "linecolor": "white",
            "ticks": ""
           },
           "bgcolor": "#E5ECF6",
           "caxis": {
            "gridcolor": "white",
            "linecolor": "white",
            "ticks": ""
           }
          },
          "title": {
           "x": 0.05
          },
          "xaxis": {
           "automargin": true,
           "gridcolor": "white",
           "linecolor": "white",
           "ticks": "",
           "title": {
            "standoff": 15
           },
           "zerolinecolor": "white",
           "zerolinewidth": 2
          },
          "yaxis": {
           "automargin": true,
           "gridcolor": "white",
           "linecolor": "white",
           "ticks": "",
           "title": {
            "standoff": 15
           },
           "zerolinecolor": "white",
           "zerolinewidth": 2
          }
         }
        },
        "title": {
         "text": "Percentage of Household in Positive and Negative Savings"
        },
        "width": 1000,
        "xaxis": {
         "anchor": "y",
         "domain": [
          0,
          0.2888888888888889
         ],
         "tickformat": ",.0%",
         "title": {
          "text": "Bill"
         },
         "visible": true
        },
        "xaxis2": {
         "anchor": "y2",
         "domain": [
          0.35555555555555557,
          0.6444444444444445
         ],
         "tickformat": ",.0%",
         "title": {
          "text": "Emission"
         },
         "visible": true
        },
        "xaxis3": {
         "anchor": "y3",
         "domain": [
          0.7111111111111111,
          1
         ],
         "tickformat": ",.0%",
         "title": {
          "text": "Total Energy"
         },
         "visible": true
        },
        "yaxis": {
         "anchor": "x",
         "domain": [
          0,
          1
         ],
         "visible": true
        },
        "yaxis2": {
         "anchor": "x2",
         "domain": [
          0,
          1
         ],
         "visible": false
        },
        "yaxis3": {
         "anchor": "x3",
         "domain": [
          0,
          1
         ],
         "visible": false
        }
       }
      },
      "text/html": [
       "<div>                            <div id=\"5cfbb73f-1beb-44d4-9251-0c78f10e2702\" class=\"plotly-graph-div\" style=\"height:500px; width:1000px;\"></div>            <script type=\"text/javascript\">                require([\"plotly\"], function(Plotly) {                    window.PLOTLYENV=window.PLOTLYENV || {};                                    if (document.getElementById(\"5cfbb73f-1beb-44d4-9251-0c78f10e2702\")) {                    Plotly.newPlot(                        \"5cfbb73f-1beb-44d4-9251-0c78f10e2702\",                        [{\"marker\":{\"color\":\"red\"},\"name\":\"Negative\",\"orientation\":\"h\",\"text\":[1.0,1.0,0.4,0.25,0.2,0.0,0.0,0.0,0.0,0.0,0.0,0.0,0.0,0.0,0.0],\"x\":[1.0,1.0,0.4,0.25,0.2,0.0,0.0,0.0,0.0,0.0,0.0,0.0,0.0,0.0,0.0],\"y\":[\"Electric Cooking\",\"Mininum Efficiency Whole Home Electrification\",\"Mininum Efficiency Heat Pump with Electric Heat Backup\",\"Induction Cooking\",\"Mininum Efficiency Heat Pump with Existing Heat Backup\",\"Basic Enclosure\",\"Basic Enclosure + HPWH + High Efficiency HP/Electric Backup\",\"Basic Enclosure + High Efficiency Whole Home Electrification\",\"Enhanced Enclosure\",\"Enhanced Enclosure + HPWH + High Efficiency HP/Electric Backup\",\"Enhanced Enclosure + High Efficiency Whole Home Electrification\",\"Heat Pump Clothes Dryer\",\"Heat Pump Water Heater\",\"High Efficiency Heat Pump with Electric Heat Backup\",\"High Efficiency Whole Home Electrification\"],\"type\":\"bar\",\"xaxis\":\"x\",\"yaxis\":\"y\",\"textposition\":\"inside\",\"texttemplate\":\"%{text:.0%}\"},{\"marker\":{\"color\":\"green\"},\"name\":\"Positive\",\"orientation\":\"h\",\"text\":[0.0,0.0,0.6,0.75,0.8,1.0,1.0,1.0,1.0,1.0,1.0,1.0,1.0,1.0,1.0],\"x\":[0.0,0.0,0.6,0.75,0.8,1.0,1.0,1.0,1.0,1.0,1.0,1.0,1.0,1.0,1.0],\"y\":[\"Electric Cooking\",\"Mininum Efficiency Whole Home Electrification\",\"Mininum Efficiency Heat Pump with Electric Heat Backup\",\"Induction Cooking\",\"Mininum Efficiency Heat Pump with Existing Heat Backup\",\"Basic Enclosure\",\"Basic Enclosure + HPWH + High Efficiency HP/Electric Backup\",\"Basic Enclosure + High Efficiency Whole Home Electrification\",\"Enhanced Enclosure\",\"Enhanced Enclosure + HPWH + High Efficiency HP/Electric Backup\",\"Enhanced Enclosure + High Efficiency Whole Home Electrification\",\"Heat Pump Clothes Dryer\",\"Heat Pump Water Heater\",\"High Efficiency Heat Pump with Electric Heat Backup\",\"High Efficiency Whole Home Electrification\"],\"type\":\"bar\",\"xaxis\":\"x\",\"yaxis\":\"y\",\"textposition\":\"inside\",\"texttemplate\":\"%{text:.0%}\"},{\"marker\":{\"color\":\"red\"},\"orientation\":\"h\",\"showlegend\":false,\"text\":[0.0,0.0,0.0,0.0,0.0,0.0,0.0,0.0,0.0,0.0,0.0,0.0,0.0,0.0,0.0],\"x\":[0.0,0.0,0.0,0.0,0.0,0.0,0.0,0.0,0.0,0.0,0.0,0.0,0.0,0.0,0.0],\"y\":[\"Electric Cooking\",\"Mininum Efficiency Whole Home Electrification\",\"Mininum Efficiency Heat Pump with Electric Heat Backup\",\"Induction Cooking\",\"Mininum Efficiency Heat Pump with Existing Heat Backup\",\"Basic Enclosure\",\"Basic Enclosure + HPWH + High Efficiency HP/Electric Backup\",\"Basic Enclosure + High Efficiency Whole Home Electrification\",\"Enhanced Enclosure\",\"Enhanced Enclosure + HPWH + High Efficiency HP/Electric Backup\",\"Enhanced Enclosure + High Efficiency Whole Home Electrification\",\"Heat Pump Clothes Dryer\",\"Heat Pump Water Heater\",\"High Efficiency Heat Pump with Electric Heat Backup\",\"High Efficiency Whole Home Electrification\"],\"type\":\"bar\",\"xaxis\":\"x2\",\"yaxis\":\"y2\",\"textposition\":\"inside\",\"texttemplate\":\"%{text:.0%}\"},{\"marker\":{\"color\":\"green\"},\"orientation\":\"h\",\"showlegend\":false,\"text\":[1.0,1.0,1.0,1.0,1.0,1.0,1.0,1.0,1.0,1.0,1.0,1.0,1.0,1.0,1.0],\"x\":[1.0,1.0,1.0,1.0,1.0,1.0,1.0,1.0,1.0,1.0,1.0,1.0,1.0,1.0,1.0],\"y\":[\"Electric Cooking\",\"Mininum Efficiency Whole Home Electrification\",\"Mininum Efficiency Heat Pump with Electric Heat Backup\",\"Induction Cooking\",\"Mininum Efficiency Heat Pump with Existing Heat Backup\",\"Basic Enclosure\",\"Basic Enclosure + HPWH + High Efficiency HP/Electric Backup\",\"Basic Enclosure + High Efficiency Whole Home Electrification\",\"Enhanced Enclosure\",\"Enhanced Enclosure + HPWH + High Efficiency HP/Electric Backup\",\"Enhanced Enclosure + High Efficiency Whole Home Electrification\",\"Heat Pump Clothes Dryer\",\"Heat Pump Water Heater\",\"High Efficiency Heat Pump with Electric Heat Backup\",\"High Efficiency Whole Home Electrification\"],\"type\":\"bar\",\"xaxis\":\"x2\",\"yaxis\":\"y2\",\"textposition\":\"inside\",\"texttemplate\":\"%{text:.0%}\"},{\"marker\":{\"color\":\"red\"},\"orientation\":\"h\",\"showlegend\":false,\"text\":[0.0,0.0,0.0,0.0,0.0,0.0,0.0,0.0,0.0,0.0,0.0,0.0,0.0,0.0,0.0],\"x\":[0.0,0.0,0.0,0.0,0.0,0.0,0.0,0.0,0.0,0.0,0.0,0.0,0.0,0.0,0.0],\"y\":[\"Electric Cooking\",\"Mininum Efficiency Whole Home Electrification\",\"Mininum Efficiency Heat Pump with Electric Heat Backup\",\"Induction Cooking\",\"Mininum Efficiency Heat Pump with Existing Heat Backup\",\"Basic Enclosure\",\"Basic Enclosure + HPWH + High Efficiency HP/Electric Backup\",\"Basic Enclosure + High Efficiency Whole Home Electrification\",\"Enhanced Enclosure\",\"Enhanced Enclosure + HPWH + High Efficiency HP/Electric Backup\",\"Enhanced Enclosure + High Efficiency Whole Home Electrification\",\"Heat Pump Clothes Dryer\",\"Heat Pump Water Heater\",\"High Efficiency Heat Pump with Electric Heat Backup\",\"High Efficiency Whole Home Electrification\"],\"type\":\"bar\",\"xaxis\":\"x3\",\"yaxis\":\"y3\",\"textposition\":\"inside\",\"texttemplate\":\"%{text:.0%}\"},{\"marker\":{\"color\":\"green\"},\"orientation\":\"h\",\"showlegend\":false,\"text\":[1.0,1.0,1.0,1.0,1.0,1.0,1.0,1.0,1.0,1.0,1.0,1.0,1.0,1.0,1.0],\"x\":[1.0,1.0,1.0,1.0,1.0,1.0,1.0,1.0,1.0,1.0,1.0,1.0,1.0,1.0,1.0],\"y\":[\"Electric Cooking\",\"Mininum Efficiency Whole Home Electrification\",\"Mininum Efficiency Heat Pump with Electric Heat Backup\",\"Induction Cooking\",\"Mininum Efficiency Heat Pump with Existing Heat Backup\",\"Basic Enclosure\",\"Basic Enclosure + HPWH + High Efficiency HP/Electric Backup\",\"Basic Enclosure + High Efficiency Whole Home Electrification\",\"Enhanced Enclosure\",\"Enhanced Enclosure + HPWH + High Efficiency HP/Electric Backup\",\"Enhanced Enclosure + High Efficiency Whole Home Electrification\",\"Heat Pump Clothes Dryer\",\"Heat Pump Water Heater\",\"High Efficiency Heat Pump with Electric Heat Backup\",\"High Efficiency Whole Home Electrification\"],\"type\":\"bar\",\"xaxis\":\"x3\",\"yaxis\":\"y3\",\"textposition\":\"inside\",\"texttemplate\":\"%{text:.0%}\"}],                        {\"template\":{\"data\":{\"histogram2dcontour\":[{\"type\":\"histogram2dcontour\",\"colorbar\":{\"outlinewidth\":0,\"ticks\":\"\"},\"colorscale\":[[0.0,\"#0d0887\"],[0.1111111111111111,\"#46039f\"],[0.2222222222222222,\"#7201a8\"],[0.3333333333333333,\"#9c179e\"],[0.4444444444444444,\"#bd3786\"],[0.5555555555555556,\"#d8576b\"],[0.6666666666666666,\"#ed7953\"],[0.7777777777777778,\"#fb9f3a\"],[0.8888888888888888,\"#fdca26\"],[1.0,\"#f0f921\"]]}],\"choropleth\":[{\"type\":\"choropleth\",\"colorbar\":{\"outlinewidth\":0,\"ticks\":\"\"}}],\"histogram2d\":[{\"type\":\"histogram2d\",\"colorbar\":{\"outlinewidth\":0,\"ticks\":\"\"},\"colorscale\":[[0.0,\"#0d0887\"],[0.1111111111111111,\"#46039f\"],[0.2222222222222222,\"#7201a8\"],[0.3333333333333333,\"#9c179e\"],[0.4444444444444444,\"#bd3786\"],[0.5555555555555556,\"#d8576b\"],[0.6666666666666666,\"#ed7953\"],[0.7777777777777778,\"#fb9f3a\"],[0.8888888888888888,\"#fdca26\"],[1.0,\"#f0f921\"]]}],\"heatmap\":[{\"type\":\"heatmap\",\"colorbar\":{\"outlinewidth\":0,\"ticks\":\"\"},\"colorscale\":[[0.0,\"#0d0887\"],[0.1111111111111111,\"#46039f\"],[0.2222222222222222,\"#7201a8\"],[0.3333333333333333,\"#9c179e\"],[0.4444444444444444,\"#bd3786\"],[0.5555555555555556,\"#d8576b\"],[0.6666666666666666,\"#ed7953\"],[0.7777777777777778,\"#fb9f3a\"],[0.8888888888888888,\"#fdca26\"],[1.0,\"#f0f921\"]]}],\"heatmapgl\":[{\"type\":\"heatmapgl\",\"colorbar\":{\"outlinewidth\":0,\"ticks\":\"\"},\"colorscale\":[[0.0,\"#0d0887\"],[0.1111111111111111,\"#46039f\"],[0.2222222222222222,\"#7201a8\"],[0.3333333333333333,\"#9c179e\"],[0.4444444444444444,\"#bd3786\"],[0.5555555555555556,\"#d8576b\"],[0.6666666666666666,\"#ed7953\"],[0.7777777777777778,\"#fb9f3a\"],[0.8888888888888888,\"#fdca26\"],[1.0,\"#f0f921\"]]}],\"contourcarpet\":[{\"type\":\"contourcarpet\",\"colorbar\":{\"outlinewidth\":0,\"ticks\":\"\"}}],\"contour\":[{\"type\":\"contour\",\"colorbar\":{\"outlinewidth\":0,\"ticks\":\"\"},\"colorscale\":[[0.0,\"#0d0887\"],[0.1111111111111111,\"#46039f\"],[0.2222222222222222,\"#7201a8\"],[0.3333333333333333,\"#9c179e\"],[0.4444444444444444,\"#bd3786\"],[0.5555555555555556,\"#d8576b\"],[0.6666666666666666,\"#ed7953\"],[0.7777777777777778,\"#fb9f3a\"],[0.8888888888888888,\"#fdca26\"],[1.0,\"#f0f921\"]]}],\"surface\":[{\"type\":\"surface\",\"colorbar\":{\"outlinewidth\":0,\"ticks\":\"\"},\"colorscale\":[[0.0,\"#0d0887\"],[0.1111111111111111,\"#46039f\"],[0.2222222222222222,\"#7201a8\"],[0.3333333333333333,\"#9c179e\"],[0.4444444444444444,\"#bd3786\"],[0.5555555555555556,\"#d8576b\"],[0.6666666666666666,\"#ed7953\"],[0.7777777777777778,\"#fb9f3a\"],[0.8888888888888888,\"#fdca26\"],[1.0,\"#f0f921\"]]}],\"mesh3d\":[{\"type\":\"mesh3d\",\"colorbar\":{\"outlinewidth\":0,\"ticks\":\"\"}}],\"scatter\":[{\"fillpattern\":{\"fillmode\":\"overlay\",\"size\":10,\"solidity\":0.2},\"type\":\"scatter\"}],\"parcoords\":[{\"type\":\"parcoords\",\"line\":{\"colorbar\":{\"outlinewidth\":0,\"ticks\":\"\"}}}],\"scatterpolargl\":[{\"type\":\"scatterpolargl\",\"marker\":{\"colorbar\":{\"outlinewidth\":0,\"ticks\":\"\"}}}],\"bar\":[{\"error_x\":{\"color\":\"#2a3f5f\"},\"error_y\":{\"color\":\"#2a3f5f\"},\"marker\":{\"line\":{\"color\":\"#E5ECF6\",\"width\":0.5},\"pattern\":{\"fillmode\":\"overlay\",\"size\":10,\"solidity\":0.2}},\"type\":\"bar\"}],\"scattergeo\":[{\"type\":\"scattergeo\",\"marker\":{\"colorbar\":{\"outlinewidth\":0,\"ticks\":\"\"}}}],\"scatterpolar\":[{\"type\":\"scatterpolar\",\"marker\":{\"colorbar\":{\"outlinewidth\":0,\"ticks\":\"\"}}}],\"histogram\":[{\"marker\":{\"pattern\":{\"fillmode\":\"overlay\",\"size\":10,\"solidity\":0.2}},\"type\":\"histogram\"}],\"scattergl\":[{\"type\":\"scattergl\",\"marker\":{\"colorbar\":{\"outlinewidth\":0,\"ticks\":\"\"}}}],\"scatter3d\":[{\"type\":\"scatter3d\",\"line\":{\"colorbar\":{\"outlinewidth\":0,\"ticks\":\"\"}},\"marker\":{\"colorbar\":{\"outlinewidth\":0,\"ticks\":\"\"}}}],\"scattermapbox\":[{\"type\":\"scattermapbox\",\"marker\":{\"colorbar\":{\"outlinewidth\":0,\"ticks\":\"\"}}}],\"scatterternary\":[{\"type\":\"scatterternary\",\"marker\":{\"colorbar\":{\"outlinewidth\":0,\"ticks\":\"\"}}}],\"scattercarpet\":[{\"type\":\"scattercarpet\",\"marker\":{\"colorbar\":{\"outlinewidth\":0,\"ticks\":\"\"}}}],\"carpet\":[{\"aaxis\":{\"endlinecolor\":\"#2a3f5f\",\"gridcolor\":\"white\",\"linecolor\":\"white\",\"minorgridcolor\":\"white\",\"startlinecolor\":\"#2a3f5f\"},\"baxis\":{\"endlinecolor\":\"#2a3f5f\",\"gridcolor\":\"white\",\"linecolor\":\"white\",\"minorgridcolor\":\"white\",\"startlinecolor\":\"#2a3f5f\"},\"type\":\"carpet\"}],\"table\":[{\"cells\":{\"fill\":{\"color\":\"#EBF0F8\"},\"line\":{\"color\":\"white\"}},\"header\":{\"fill\":{\"color\":\"#C8D4E3\"},\"line\":{\"color\":\"white\"}},\"type\":\"table\"}],\"barpolar\":[{\"marker\":{\"line\":{\"color\":\"#E5ECF6\",\"width\":0.5},\"pattern\":{\"fillmode\":\"overlay\",\"size\":10,\"solidity\":0.2}},\"type\":\"barpolar\"}],\"pie\":[{\"automargin\":true,\"type\":\"pie\"}]},\"layout\":{\"autotypenumbers\":\"strict\",\"colorway\":[\"#636efa\",\"#EF553B\",\"#00cc96\",\"#ab63fa\",\"#FFA15A\",\"#19d3f3\",\"#FF6692\",\"#B6E880\",\"#FF97FF\",\"#FECB52\"],\"font\":{\"color\":\"#2a3f5f\"},\"hovermode\":\"closest\",\"hoverlabel\":{\"align\":\"left\"},\"paper_bgcolor\":\"white\",\"plot_bgcolor\":\"#E5ECF6\",\"polar\":{\"bgcolor\":\"#E5ECF6\",\"angularaxis\":{\"gridcolor\":\"white\",\"linecolor\":\"white\",\"ticks\":\"\"},\"radialaxis\":{\"gridcolor\":\"white\",\"linecolor\":\"white\",\"ticks\":\"\"}},\"ternary\":{\"bgcolor\":\"#E5ECF6\",\"aaxis\":{\"gridcolor\":\"white\",\"linecolor\":\"white\",\"ticks\":\"\"},\"baxis\":{\"gridcolor\":\"white\",\"linecolor\":\"white\",\"ticks\":\"\"},\"caxis\":{\"gridcolor\":\"white\",\"linecolor\":\"white\",\"ticks\":\"\"}},\"coloraxis\":{\"colorbar\":{\"outlinewidth\":0,\"ticks\":\"\"}},\"colorscale\":{\"sequential\":[[0.0,\"#0d0887\"],[0.1111111111111111,\"#46039f\"],[0.2222222222222222,\"#7201a8\"],[0.3333333333333333,\"#9c179e\"],[0.4444444444444444,\"#bd3786\"],[0.5555555555555556,\"#d8576b\"],[0.6666666666666666,\"#ed7953\"],[0.7777777777777778,\"#fb9f3a\"],[0.8888888888888888,\"#fdca26\"],[1.0,\"#f0f921\"]],\"sequentialminus\":[[0.0,\"#0d0887\"],[0.1111111111111111,\"#46039f\"],[0.2222222222222222,\"#7201a8\"],[0.3333333333333333,\"#9c179e\"],[0.4444444444444444,\"#bd3786\"],[0.5555555555555556,\"#d8576b\"],[0.6666666666666666,\"#ed7953\"],[0.7777777777777778,\"#fb9f3a\"],[0.8888888888888888,\"#fdca26\"],[1.0,\"#f0f921\"]],\"diverging\":[[0,\"#8e0152\"],[0.1,\"#c51b7d\"],[0.2,\"#de77ae\"],[0.3,\"#f1b6da\"],[0.4,\"#fde0ef\"],[0.5,\"#f7f7f7\"],[0.6,\"#e6f5d0\"],[0.7,\"#b8e186\"],[0.8,\"#7fbc41\"],[0.9,\"#4d9221\"],[1,\"#276419\"]]},\"xaxis\":{\"gridcolor\":\"white\",\"linecolor\":\"white\",\"ticks\":\"\",\"title\":{\"standoff\":15},\"zerolinecolor\":\"white\",\"automargin\":true,\"zerolinewidth\":2},\"yaxis\":{\"gridcolor\":\"white\",\"linecolor\":\"white\",\"ticks\":\"\",\"title\":{\"standoff\":15},\"zerolinecolor\":\"white\",\"automargin\":true,\"zerolinewidth\":2},\"scene\":{\"xaxis\":{\"backgroundcolor\":\"#E5ECF6\",\"gridcolor\":\"white\",\"linecolor\":\"white\",\"showbackground\":true,\"ticks\":\"\",\"zerolinecolor\":\"white\",\"gridwidth\":2},\"yaxis\":{\"backgroundcolor\":\"#E5ECF6\",\"gridcolor\":\"white\",\"linecolor\":\"white\",\"showbackground\":true,\"ticks\":\"\",\"zerolinecolor\":\"white\",\"gridwidth\":2},\"zaxis\":{\"backgroundcolor\":\"#E5ECF6\",\"gridcolor\":\"white\",\"linecolor\":\"white\",\"showbackground\":true,\"ticks\":\"\",\"zerolinecolor\":\"white\",\"gridwidth\":2}},\"shapedefaults\":{\"line\":{\"color\":\"#2a3f5f\"}},\"annotationdefaults\":{\"arrowcolor\":\"#2a3f5f\",\"arrowhead\":0,\"arrowwidth\":1},\"geo\":{\"bgcolor\":\"white\",\"landcolor\":\"#E5ECF6\",\"subunitcolor\":\"white\",\"showland\":true,\"showlakes\":true,\"lakecolor\":\"white\"},\"title\":{\"x\":0.05},\"mapbox\":{\"style\":\"light\"}}},\"xaxis\":{\"anchor\":\"y\",\"domain\":[0.0,0.2888888888888889],\"title\":{\"text\":\"Bill\"},\"visible\":true,\"tickformat\":\",.0%\"},\"yaxis\":{\"anchor\":\"x\",\"domain\":[0.0,1.0],\"visible\":true},\"xaxis2\":{\"anchor\":\"y2\",\"domain\":[0.35555555555555557,0.6444444444444445],\"title\":{\"text\":\"Emission\"},\"visible\":true,\"tickformat\":\",.0%\"},\"yaxis2\":{\"anchor\":\"x2\",\"domain\":[0.0,1.0],\"visible\":false},\"xaxis3\":{\"anchor\":\"y3\",\"domain\":[0.7111111111111111,1.0],\"title\":{\"text\":\"Total Energy\"},\"visible\":true,\"tickformat\":\",.0%\"},\"yaxis3\":{\"anchor\":\"x3\",\"domain\":[0.0,1.0],\"visible\":false},\"barmode\":\"relative\",\"font\":{\"size\":10},\"title\":{\"text\":\"Percentage of Household in Positive and Negative Savings\"},\"autosize\":false,\"width\":1000,\"height\":500},                        {\"responsive\": true}                    ).then(function(){\n",
       "                            \n",
       "var gd = document.getElementById('5cfbb73f-1beb-44d4-9251-0c78f10e2702');\n",
       "var x = new MutationObserver(function (mutations, observer) {{\n",
       "        var display = window.getComputedStyle(gd).display;\n",
       "        if (!display || display === 'none') {{\n",
       "            console.log([gd, 'removed!']);\n",
       "            Plotly.purge(gd);\n",
       "            observer.disconnect();\n",
       "        }}\n",
       "}});\n",
       "\n",
       "// Listen for the removal of the full notebook cells\n",
       "var notebookContainer = gd.closest('#notebook-container');\n",
       "if (notebookContainer) {{\n",
       "    x.observe(notebookContainer, {childList: true});\n",
       "}}\n",
       "\n",
       "// Listen for the clearing of the current output cell\n",
       "var outputEl = gd.closest('.output');\n",
       "if (outputEl) {{\n",
       "    x.observe(outputEl, {childList: true});\n",
       "}}\n",
       "\n",
       "                        })                };                });            </script>        </div>"
      ]
     },
     "metadata": {},
     "output_type": "display_data"
    },
    {
     "name": "stderr",
     "output_type": "stream",
     "text": [
      "C:\\Users\\ylou2\\AppData\\Local\\Temp\\ipykernel_12568\\3209730133.py:3: PerformanceWarning:\n",
      "\n",
      "DataFrame is highly fragmented.  This is usually the result of calling `frame.insert` many times, which has poor performance.  Consider joining all columns at once using pd.concat(axis=1) instead. To get a de-fragmented frame, use `newframe = frame.copy()`\n",
      "\n",
      "C:\\Users\\ylou2\\AppData\\Local\\Temp\\ipykernel_12568\\3209730133.py:4: PerformanceWarning:\n",
      "\n",
      "DataFrame is highly fragmented.  This is usually the result of calling `frame.insert` many times, which has poor performance.  Consider joining all columns at once using pd.concat(axis=1) instead. To get a de-fragmented frame, use `newframe = frame.copy()`\n",
      "\n",
      "C:\\Users\\ylou2\\AppData\\Local\\Temp\\ipykernel_12568\\3209730133.py:5: PerformanceWarning:\n",
      "\n",
      "DataFrame is highly fragmented.  This is usually the result of calling `frame.insert` many times, which has poor performance.  Consider joining all columns at once using pd.concat(axis=1) instead. To get a de-fragmented frame, use `newframe = frame.copy()`\n",
      "\n"
     ]
    }
   ],
   "source": [
    "segment = 'segment2'\n",
    "results = figure_positive_negative_savings(segment, community_results)\n",
    "saving_results[f'segment2_{income}_pct_bill_positive_savings_%'] = results[0]*100\n",
    "saving_results[f'segment2_{income}_pct_emission_positive_savings_%'] = results[1]*100\n",
    "saving_results[f'segment2_{income}_pct_energy_positive_savings_%'] = results[2]*100"
   ]
  },
  {
   "cell_type": "markdown",
   "id": "a4dbe158",
   "metadata": {},
   "source": [
    "### Segment 3"
   ]
  },
  {
   "cell_type": "code",
   "execution_count": 243,
   "id": "f6c2aed1",
   "metadata": {},
   "outputs": [
    {
     "data": {
      "application/vnd.plotly.v1+json": {
       "config": {
        "plotlyServerURL": "https://plot.ly"
       },
       "data": [
        {
         "marker": {
          "color": "red"
         },
         "name": "Negative",
         "orientation": "h",
         "text": [
          1,
          1,
          0.7886178861788617,
          0.422680412371134,
          0.3385416666666667,
          0.22395833333333334,
          0.21014492753623187,
          0.08762886597938144,
          0.03608247422680412,
          0.03076923076923077,
          0.020512820512820513,
          0.020512820512820513,
          0.020512820512820513,
          0.020512820512820513,
          0,
          0
         ],
         "textposition": "inside",
         "texttemplate": "%{text:.0%}",
         "type": "bar",
         "x": [
          1,
          1,
          0.7886178861788617,
          0.422680412371134,
          0.3385416666666667,
          0.22395833333333334,
          0.21014492753623187,
          0.08762886597938144,
          0.03608247422680412,
          0.03076923076923077,
          0.020512820512820513,
          0.020512820512820513,
          0.020512820512820513,
          0.020512820512820513,
          0,
          0
         ],
         "xaxis": "x",
         "y": [
          "Electric Clothes Dryer",
          "Electric Cooking",
          "Mininum Efficiency Whole Home Electrification",
          "Mininum Efficiency Heat Pump with Electric Heat Backup",
          "Induction Cooking",
          "Mininum Efficiency Heat Pump with Existing Heat Backup",
          "Heat Pump Clothes Dryer",
          "Heat Pump Water Heater",
          "High Efficiency Heat Pump with Electric Heat Backup",
          "High Efficiency Whole Home Electrification",
          "Basic Enclosure + HPWH + High Efficiency HP/Electric Backup",
          "Basic Enclosure + High Efficiency Whole Home Electrification",
          "Enhanced Enclosure + HPWH + High Efficiency HP/Electric Backup",
          "Enhanced Enclosure + High Efficiency Whole Home Electrification",
          "Basic Enclosure",
          "Enhanced Enclosure"
         ],
         "yaxis": "y"
        },
        {
         "marker": {
          "color": "green"
         },
         "name": "Positive",
         "orientation": "h",
         "text": [
          0,
          0,
          0.21138211382113822,
          0.5773195876288659,
          0.6614583333333334,
          0.7760416666666666,
          0.7898550724637681,
          0.9123711340206185,
          0.9639175257731959,
          0.9692307692307692,
          0.9794871794871794,
          0.9794871794871794,
          0.9794871794871794,
          0.9794871794871794,
          1,
          1
         ],
         "textposition": "inside",
         "texttemplate": "%{text:.0%}",
         "type": "bar",
         "x": [
          0,
          0,
          0.21138211382113822,
          0.5773195876288659,
          0.6614583333333334,
          0.7760416666666666,
          0.7898550724637681,
          0.9123711340206185,
          0.9639175257731959,
          0.9692307692307692,
          0.9794871794871794,
          0.9794871794871794,
          0.9794871794871794,
          0.9794871794871794,
          1,
          1
         ],
         "xaxis": "x",
         "y": [
          "Electric Clothes Dryer",
          "Electric Cooking",
          "Mininum Efficiency Whole Home Electrification",
          "Mininum Efficiency Heat Pump with Electric Heat Backup",
          "Induction Cooking",
          "Mininum Efficiency Heat Pump with Existing Heat Backup",
          "Heat Pump Clothes Dryer",
          "Heat Pump Water Heater",
          "High Efficiency Heat Pump with Electric Heat Backup",
          "High Efficiency Whole Home Electrification",
          "Basic Enclosure + HPWH + High Efficiency HP/Electric Backup",
          "Basic Enclosure + High Efficiency Whole Home Electrification",
          "Enhanced Enclosure + HPWH + High Efficiency HP/Electric Backup",
          "Enhanced Enclosure + High Efficiency Whole Home Electrification",
          "Basic Enclosure",
          "Enhanced Enclosure"
         ],
         "yaxis": "y"
        },
        {
         "marker": {
          "color": "red"
         },
         "orientation": "h",
         "showlegend": false,
         "text": [
          0,
          0,
          0.06504065040650407,
          0.010309278350515464,
          0,
          0.036458333333333336,
          0.021739130434782608,
          0.030927835051546393,
          0.010309278350515464,
          0.005128205128205128,
          0.005128205128205128,
          0.005128205128205128,
          0.005128205128205128,
          0.005128205128205128,
          0,
          0
         ],
         "textposition": "inside",
         "texttemplate": "%{text:.0%}",
         "type": "bar",
         "x": [
          0,
          0,
          0.06504065040650407,
          0.010309278350515464,
          0,
          0.036458333333333336,
          0.021739130434782608,
          0.030927835051546393,
          0.010309278350515464,
          0.005128205128205128,
          0.005128205128205128,
          0.005128205128205128,
          0.005128205128205128,
          0.005128205128205128,
          0,
          0
         ],
         "xaxis": "x2",
         "y": [
          "Electric Clothes Dryer",
          "Electric Cooking",
          "Mininum Efficiency Whole Home Electrification",
          "Mininum Efficiency Heat Pump with Electric Heat Backup",
          "Induction Cooking",
          "Mininum Efficiency Heat Pump with Existing Heat Backup",
          "Heat Pump Clothes Dryer",
          "Heat Pump Water Heater",
          "High Efficiency Heat Pump with Electric Heat Backup",
          "High Efficiency Whole Home Electrification",
          "Basic Enclosure + HPWH + High Efficiency HP/Electric Backup",
          "Basic Enclosure + High Efficiency Whole Home Electrification",
          "Enhanced Enclosure + HPWH + High Efficiency HP/Electric Backup",
          "Enhanced Enclosure + High Efficiency Whole Home Electrification",
          "Basic Enclosure",
          "Enhanced Enclosure"
         ],
         "yaxis": "y2"
        },
        {
         "marker": {
          "color": "green"
         },
         "orientation": "h",
         "showlegend": false,
         "text": [
          1,
          1,
          0.9349593495934959,
          0.9896907216494846,
          1,
          0.9635416666666666,
          0.9782608695652174,
          0.9690721649484536,
          0.9896907216494846,
          0.9948717948717949,
          0.9948717948717949,
          0.9948717948717949,
          0.9948717948717949,
          0.9948717948717949,
          1,
          1
         ],
         "textposition": "inside",
         "texttemplate": "%{text:.0%}",
         "type": "bar",
         "x": [
          1,
          1,
          0.9349593495934959,
          0.9896907216494846,
          1,
          0.9635416666666666,
          0.9782608695652174,
          0.9690721649484536,
          0.9896907216494846,
          0.9948717948717949,
          0.9948717948717949,
          0.9948717948717949,
          0.9948717948717949,
          0.9948717948717949,
          1,
          1
         ],
         "xaxis": "x2",
         "y": [
          "Electric Clothes Dryer",
          "Electric Cooking",
          "Mininum Efficiency Whole Home Electrification",
          "Mininum Efficiency Heat Pump with Electric Heat Backup",
          "Induction Cooking",
          "Mininum Efficiency Heat Pump with Existing Heat Backup",
          "Heat Pump Clothes Dryer",
          "Heat Pump Water Heater",
          "High Efficiency Heat Pump with Electric Heat Backup",
          "High Efficiency Whole Home Electrification",
          "Basic Enclosure + HPWH + High Efficiency HP/Electric Backup",
          "Basic Enclosure + High Efficiency Whole Home Electrification",
          "Enhanced Enclosure + HPWH + High Efficiency HP/Electric Backup",
          "Enhanced Enclosure + High Efficiency Whole Home Electrification",
          "Basic Enclosure",
          "Enhanced Enclosure"
         ],
         "yaxis": "y2"
        },
        {
         "marker": {
          "color": "red"
         },
         "orientation": "h",
         "showlegend": false,
         "text": [
          0,
          0,
          0.06504065040650407,
          0.010309278350515464,
          0,
          0.036458333333333336,
          0.021739130434782608,
          0.030927835051546393,
          0.010309278350515464,
          0.005128205128205128,
          0.005128205128205128,
          0.005128205128205128,
          0.005128205128205128,
          0.005128205128205128,
          0,
          0
         ],
         "textposition": "inside",
         "texttemplate": "%{text:.0%}",
         "type": "bar",
         "x": [
          0,
          0,
          0.06504065040650407,
          0.010309278350515464,
          0,
          0.036458333333333336,
          0.021739130434782608,
          0.030927835051546393,
          0.010309278350515464,
          0.005128205128205128,
          0.005128205128205128,
          0.005128205128205128,
          0.005128205128205128,
          0.005128205128205128,
          0,
          0
         ],
         "xaxis": "x3",
         "y": [
          "Electric Clothes Dryer",
          "Electric Cooking",
          "Mininum Efficiency Whole Home Electrification",
          "Mininum Efficiency Heat Pump with Electric Heat Backup",
          "Induction Cooking",
          "Mininum Efficiency Heat Pump with Existing Heat Backup",
          "Heat Pump Clothes Dryer",
          "Heat Pump Water Heater",
          "High Efficiency Heat Pump with Electric Heat Backup",
          "High Efficiency Whole Home Electrification",
          "Basic Enclosure + HPWH + High Efficiency HP/Electric Backup",
          "Basic Enclosure + High Efficiency Whole Home Electrification",
          "Enhanced Enclosure + HPWH + High Efficiency HP/Electric Backup",
          "Enhanced Enclosure + High Efficiency Whole Home Electrification",
          "Basic Enclosure",
          "Enhanced Enclosure"
         ],
         "yaxis": "y3"
        },
        {
         "marker": {
          "color": "green"
         },
         "orientation": "h",
         "showlegend": false,
         "text": [
          1,
          1,
          0.9349593495934959,
          0.9896907216494846,
          1,
          0.9635416666666666,
          0.9782608695652174,
          0.9690721649484536,
          0.9896907216494846,
          0.9948717948717949,
          0.9948717948717949,
          0.9948717948717949,
          0.9948717948717949,
          0.9948717948717949,
          1,
          1
         ],
         "textposition": "inside",
         "texttemplate": "%{text:.0%}",
         "type": "bar",
         "x": [
          1,
          1,
          0.9349593495934959,
          0.9896907216494846,
          1,
          0.9635416666666666,
          0.9782608695652174,
          0.9690721649484536,
          0.9896907216494846,
          0.9948717948717949,
          0.9948717948717949,
          0.9948717948717949,
          0.9948717948717949,
          0.9948717948717949,
          1,
          1
         ],
         "xaxis": "x3",
         "y": [
          "Electric Clothes Dryer",
          "Electric Cooking",
          "Mininum Efficiency Whole Home Electrification",
          "Mininum Efficiency Heat Pump with Electric Heat Backup",
          "Induction Cooking",
          "Mininum Efficiency Heat Pump with Existing Heat Backup",
          "Heat Pump Clothes Dryer",
          "Heat Pump Water Heater",
          "High Efficiency Heat Pump with Electric Heat Backup",
          "High Efficiency Whole Home Electrification",
          "Basic Enclosure + HPWH + High Efficiency HP/Electric Backup",
          "Basic Enclosure + High Efficiency Whole Home Electrification",
          "Enhanced Enclosure + HPWH + High Efficiency HP/Electric Backup",
          "Enhanced Enclosure + High Efficiency Whole Home Electrification",
          "Basic Enclosure",
          "Enhanced Enclosure"
         ],
         "yaxis": "y3"
        }
       ],
       "layout": {
        "autosize": false,
        "barmode": "relative",
        "font": {
         "size": 10
        },
        "height": 500,
        "template": {
         "data": {
          "bar": [
           {
            "error_x": {
             "color": "#2a3f5f"
            },
            "error_y": {
             "color": "#2a3f5f"
            },
            "marker": {
             "line": {
              "color": "#E5ECF6",
              "width": 0.5
             },
             "pattern": {
              "fillmode": "overlay",
              "size": 10,
              "solidity": 0.2
             }
            },
            "type": "bar"
           }
          ],
          "barpolar": [
           {
            "marker": {
             "line": {
              "color": "#E5ECF6",
              "width": 0.5
             },
             "pattern": {
              "fillmode": "overlay",
              "size": 10,
              "solidity": 0.2
             }
            },
            "type": "barpolar"
           }
          ],
          "carpet": [
           {
            "aaxis": {
             "endlinecolor": "#2a3f5f",
             "gridcolor": "white",
             "linecolor": "white",
             "minorgridcolor": "white",
             "startlinecolor": "#2a3f5f"
            },
            "baxis": {
             "endlinecolor": "#2a3f5f",
             "gridcolor": "white",
             "linecolor": "white",
             "minorgridcolor": "white",
             "startlinecolor": "#2a3f5f"
            },
            "type": "carpet"
           }
          ],
          "choropleth": [
           {
            "colorbar": {
             "outlinewidth": 0,
             "ticks": ""
            },
            "type": "choropleth"
           }
          ],
          "contour": [
           {
            "colorbar": {
             "outlinewidth": 0,
             "ticks": ""
            },
            "colorscale": [
             [
              0,
              "#0d0887"
             ],
             [
              0.1111111111111111,
              "#46039f"
             ],
             [
              0.2222222222222222,
              "#7201a8"
             ],
             [
              0.3333333333333333,
              "#9c179e"
             ],
             [
              0.4444444444444444,
              "#bd3786"
             ],
             [
              0.5555555555555556,
              "#d8576b"
             ],
             [
              0.6666666666666666,
              "#ed7953"
             ],
             [
              0.7777777777777778,
              "#fb9f3a"
             ],
             [
              0.8888888888888888,
              "#fdca26"
             ],
             [
              1,
              "#f0f921"
             ]
            ],
            "type": "contour"
           }
          ],
          "contourcarpet": [
           {
            "colorbar": {
             "outlinewidth": 0,
             "ticks": ""
            },
            "type": "contourcarpet"
           }
          ],
          "heatmap": [
           {
            "colorbar": {
             "outlinewidth": 0,
             "ticks": ""
            },
            "colorscale": [
             [
              0,
              "#0d0887"
             ],
             [
              0.1111111111111111,
              "#46039f"
             ],
             [
              0.2222222222222222,
              "#7201a8"
             ],
             [
              0.3333333333333333,
              "#9c179e"
             ],
             [
              0.4444444444444444,
              "#bd3786"
             ],
             [
              0.5555555555555556,
              "#d8576b"
             ],
             [
              0.6666666666666666,
              "#ed7953"
             ],
             [
              0.7777777777777778,
              "#fb9f3a"
             ],
             [
              0.8888888888888888,
              "#fdca26"
             ],
             [
              1,
              "#f0f921"
             ]
            ],
            "type": "heatmap"
           }
          ],
          "heatmapgl": [
           {
            "colorbar": {
             "outlinewidth": 0,
             "ticks": ""
            },
            "colorscale": [
             [
              0,
              "#0d0887"
             ],
             [
              0.1111111111111111,
              "#46039f"
             ],
             [
              0.2222222222222222,
              "#7201a8"
             ],
             [
              0.3333333333333333,
              "#9c179e"
             ],
             [
              0.4444444444444444,
              "#bd3786"
             ],
             [
              0.5555555555555556,
              "#d8576b"
             ],
             [
              0.6666666666666666,
              "#ed7953"
             ],
             [
              0.7777777777777778,
              "#fb9f3a"
             ],
             [
              0.8888888888888888,
              "#fdca26"
             ],
             [
              1,
              "#f0f921"
             ]
            ],
            "type": "heatmapgl"
           }
          ],
          "histogram": [
           {
            "marker": {
             "pattern": {
              "fillmode": "overlay",
              "size": 10,
              "solidity": 0.2
             }
            },
            "type": "histogram"
           }
          ],
          "histogram2d": [
           {
            "colorbar": {
             "outlinewidth": 0,
             "ticks": ""
            },
            "colorscale": [
             [
              0,
              "#0d0887"
             ],
             [
              0.1111111111111111,
              "#46039f"
             ],
             [
              0.2222222222222222,
              "#7201a8"
             ],
             [
              0.3333333333333333,
              "#9c179e"
             ],
             [
              0.4444444444444444,
              "#bd3786"
             ],
             [
              0.5555555555555556,
              "#d8576b"
             ],
             [
              0.6666666666666666,
              "#ed7953"
             ],
             [
              0.7777777777777778,
              "#fb9f3a"
             ],
             [
              0.8888888888888888,
              "#fdca26"
             ],
             [
              1,
              "#f0f921"
             ]
            ],
            "type": "histogram2d"
           }
          ],
          "histogram2dcontour": [
           {
            "colorbar": {
             "outlinewidth": 0,
             "ticks": ""
            },
            "colorscale": [
             [
              0,
              "#0d0887"
             ],
             [
              0.1111111111111111,
              "#46039f"
             ],
             [
              0.2222222222222222,
              "#7201a8"
             ],
             [
              0.3333333333333333,
              "#9c179e"
             ],
             [
              0.4444444444444444,
              "#bd3786"
             ],
             [
              0.5555555555555556,
              "#d8576b"
             ],
             [
              0.6666666666666666,
              "#ed7953"
             ],
             [
              0.7777777777777778,
              "#fb9f3a"
             ],
             [
              0.8888888888888888,
              "#fdca26"
             ],
             [
              1,
              "#f0f921"
             ]
            ],
            "type": "histogram2dcontour"
           }
          ],
          "mesh3d": [
           {
            "colorbar": {
             "outlinewidth": 0,
             "ticks": ""
            },
            "type": "mesh3d"
           }
          ],
          "parcoords": [
           {
            "line": {
             "colorbar": {
              "outlinewidth": 0,
              "ticks": ""
             }
            },
            "type": "parcoords"
           }
          ],
          "pie": [
           {
            "automargin": true,
            "type": "pie"
           }
          ],
          "scatter": [
           {
            "fillpattern": {
             "fillmode": "overlay",
             "size": 10,
             "solidity": 0.2
            },
            "type": "scatter"
           }
          ],
          "scatter3d": [
           {
            "line": {
             "colorbar": {
              "outlinewidth": 0,
              "ticks": ""
             }
            },
            "marker": {
             "colorbar": {
              "outlinewidth": 0,
              "ticks": ""
             }
            },
            "type": "scatter3d"
           }
          ],
          "scattercarpet": [
           {
            "marker": {
             "colorbar": {
              "outlinewidth": 0,
              "ticks": ""
             }
            },
            "type": "scattercarpet"
           }
          ],
          "scattergeo": [
           {
            "marker": {
             "colorbar": {
              "outlinewidth": 0,
              "ticks": ""
             }
            },
            "type": "scattergeo"
           }
          ],
          "scattergl": [
           {
            "marker": {
             "colorbar": {
              "outlinewidth": 0,
              "ticks": ""
             }
            },
            "type": "scattergl"
           }
          ],
          "scattermapbox": [
           {
            "marker": {
             "colorbar": {
              "outlinewidth": 0,
              "ticks": ""
             }
            },
            "type": "scattermapbox"
           }
          ],
          "scatterpolar": [
           {
            "marker": {
             "colorbar": {
              "outlinewidth": 0,
              "ticks": ""
             }
            },
            "type": "scatterpolar"
           }
          ],
          "scatterpolargl": [
           {
            "marker": {
             "colorbar": {
              "outlinewidth": 0,
              "ticks": ""
             }
            },
            "type": "scatterpolargl"
           }
          ],
          "scatterternary": [
           {
            "marker": {
             "colorbar": {
              "outlinewidth": 0,
              "ticks": ""
             }
            },
            "type": "scatterternary"
           }
          ],
          "surface": [
           {
            "colorbar": {
             "outlinewidth": 0,
             "ticks": ""
            },
            "colorscale": [
             [
              0,
              "#0d0887"
             ],
             [
              0.1111111111111111,
              "#46039f"
             ],
             [
              0.2222222222222222,
              "#7201a8"
             ],
             [
              0.3333333333333333,
              "#9c179e"
             ],
             [
              0.4444444444444444,
              "#bd3786"
             ],
             [
              0.5555555555555556,
              "#d8576b"
             ],
             [
              0.6666666666666666,
              "#ed7953"
             ],
             [
              0.7777777777777778,
              "#fb9f3a"
             ],
             [
              0.8888888888888888,
              "#fdca26"
             ],
             [
              1,
              "#f0f921"
             ]
            ],
            "type": "surface"
           }
          ],
          "table": [
           {
            "cells": {
             "fill": {
              "color": "#EBF0F8"
             },
             "line": {
              "color": "white"
             }
            },
            "header": {
             "fill": {
              "color": "#C8D4E3"
             },
             "line": {
              "color": "white"
             }
            },
            "type": "table"
           }
          ]
         },
         "layout": {
          "annotationdefaults": {
           "arrowcolor": "#2a3f5f",
           "arrowhead": 0,
           "arrowwidth": 1
          },
          "autotypenumbers": "strict",
          "coloraxis": {
           "colorbar": {
            "outlinewidth": 0,
            "ticks": ""
           }
          },
          "colorscale": {
           "diverging": [
            [
             0,
             "#8e0152"
            ],
            [
             0.1,
             "#c51b7d"
            ],
            [
             0.2,
             "#de77ae"
            ],
            [
             0.3,
             "#f1b6da"
            ],
            [
             0.4,
             "#fde0ef"
            ],
            [
             0.5,
             "#f7f7f7"
            ],
            [
             0.6,
             "#e6f5d0"
            ],
            [
             0.7,
             "#b8e186"
            ],
            [
             0.8,
             "#7fbc41"
            ],
            [
             0.9,
             "#4d9221"
            ],
            [
             1,
             "#276419"
            ]
           ],
           "sequential": [
            [
             0,
             "#0d0887"
            ],
            [
             0.1111111111111111,
             "#46039f"
            ],
            [
             0.2222222222222222,
             "#7201a8"
            ],
            [
             0.3333333333333333,
             "#9c179e"
            ],
            [
             0.4444444444444444,
             "#bd3786"
            ],
            [
             0.5555555555555556,
             "#d8576b"
            ],
            [
             0.6666666666666666,
             "#ed7953"
            ],
            [
             0.7777777777777778,
             "#fb9f3a"
            ],
            [
             0.8888888888888888,
             "#fdca26"
            ],
            [
             1,
             "#f0f921"
            ]
           ],
           "sequentialminus": [
            [
             0,
             "#0d0887"
            ],
            [
             0.1111111111111111,
             "#46039f"
            ],
            [
             0.2222222222222222,
             "#7201a8"
            ],
            [
             0.3333333333333333,
             "#9c179e"
            ],
            [
             0.4444444444444444,
             "#bd3786"
            ],
            [
             0.5555555555555556,
             "#d8576b"
            ],
            [
             0.6666666666666666,
             "#ed7953"
            ],
            [
             0.7777777777777778,
             "#fb9f3a"
            ],
            [
             0.8888888888888888,
             "#fdca26"
            ],
            [
             1,
             "#f0f921"
            ]
           ]
          },
          "colorway": [
           "#636efa",
           "#EF553B",
           "#00cc96",
           "#ab63fa",
           "#FFA15A",
           "#19d3f3",
           "#FF6692",
           "#B6E880",
           "#FF97FF",
           "#FECB52"
          ],
          "font": {
           "color": "#2a3f5f"
          },
          "geo": {
           "bgcolor": "white",
           "lakecolor": "white",
           "landcolor": "#E5ECF6",
           "showlakes": true,
           "showland": true,
           "subunitcolor": "white"
          },
          "hoverlabel": {
           "align": "left"
          },
          "hovermode": "closest",
          "mapbox": {
           "style": "light"
          },
          "paper_bgcolor": "white",
          "plot_bgcolor": "#E5ECF6",
          "polar": {
           "angularaxis": {
            "gridcolor": "white",
            "linecolor": "white",
            "ticks": ""
           },
           "bgcolor": "#E5ECF6",
           "radialaxis": {
            "gridcolor": "white",
            "linecolor": "white",
            "ticks": ""
           }
          },
          "scene": {
           "xaxis": {
            "backgroundcolor": "#E5ECF6",
            "gridcolor": "white",
            "gridwidth": 2,
            "linecolor": "white",
            "showbackground": true,
            "ticks": "",
            "zerolinecolor": "white"
           },
           "yaxis": {
            "backgroundcolor": "#E5ECF6",
            "gridcolor": "white",
            "gridwidth": 2,
            "linecolor": "white",
            "showbackground": true,
            "ticks": "",
            "zerolinecolor": "white"
           },
           "zaxis": {
            "backgroundcolor": "#E5ECF6",
            "gridcolor": "white",
            "gridwidth": 2,
            "linecolor": "white",
            "showbackground": true,
            "ticks": "",
            "zerolinecolor": "white"
           }
          },
          "shapedefaults": {
           "line": {
            "color": "#2a3f5f"
           }
          },
          "ternary": {
           "aaxis": {
            "gridcolor": "white",
            "linecolor": "white",
            "ticks": ""
           },
           "baxis": {
            "gridcolor": "white",
            "linecolor": "white",
            "ticks": ""
           },
           "bgcolor": "#E5ECF6",
           "caxis": {
            "gridcolor": "white",
            "linecolor": "white",
            "ticks": ""
           }
          },
          "title": {
           "x": 0.05
          },
          "xaxis": {
           "automargin": true,
           "gridcolor": "white",
           "linecolor": "white",
           "ticks": "",
           "title": {
            "standoff": 15
           },
           "zerolinecolor": "white",
           "zerolinewidth": 2
          },
          "yaxis": {
           "automargin": true,
           "gridcolor": "white",
           "linecolor": "white",
           "ticks": "",
           "title": {
            "standoff": 15
           },
           "zerolinecolor": "white",
           "zerolinewidth": 2
          }
         }
        },
        "title": {
         "text": "Percentage of Household in Positive and Negative Savings"
        },
        "width": 1000,
        "xaxis": {
         "anchor": "y",
         "domain": [
          0,
          0.2888888888888889
         ],
         "tickformat": ",.0%",
         "title": {
          "text": "Bill"
         },
         "visible": true
        },
        "xaxis2": {
         "anchor": "y2",
         "domain": [
          0.35555555555555557,
          0.6444444444444445
         ],
         "tickformat": ",.0%",
         "title": {
          "text": "Emission"
         },
         "visible": true
        },
        "xaxis3": {
         "anchor": "y3",
         "domain": [
          0.7111111111111111,
          1
         ],
         "tickformat": ",.0%",
         "title": {
          "text": "Total Energy"
         },
         "visible": true
        },
        "yaxis": {
         "anchor": "x",
         "domain": [
          0,
          1
         ],
         "visible": true
        },
        "yaxis2": {
         "anchor": "x2",
         "domain": [
          0,
          1
         ],
         "visible": false
        },
        "yaxis3": {
         "anchor": "x3",
         "domain": [
          0,
          1
         ],
         "visible": false
        }
       }
      },
      "text/html": [
       "<div>                            <div id=\"2b9faab7-bff4-4642-9fbf-20558fd25d69\" class=\"plotly-graph-div\" style=\"height:500px; width:1000px;\"></div>            <script type=\"text/javascript\">                require([\"plotly\"], function(Plotly) {                    window.PLOTLYENV=window.PLOTLYENV || {};                                    if (document.getElementById(\"2b9faab7-bff4-4642-9fbf-20558fd25d69\")) {                    Plotly.newPlot(                        \"2b9faab7-bff4-4642-9fbf-20558fd25d69\",                        [{\"marker\":{\"color\":\"red\"},\"name\":\"Negative\",\"orientation\":\"h\",\"text\":[1.0,1.0,0.7886178861788617,0.422680412371134,0.3385416666666667,0.22395833333333334,0.21014492753623187,0.08762886597938144,0.03608247422680412,0.03076923076923077,0.020512820512820513,0.020512820512820513,0.020512820512820513,0.020512820512820513,0.0,0.0],\"x\":[1.0,1.0,0.7886178861788617,0.422680412371134,0.3385416666666667,0.22395833333333334,0.21014492753623187,0.08762886597938144,0.03608247422680412,0.03076923076923077,0.020512820512820513,0.020512820512820513,0.020512820512820513,0.020512820512820513,0.0,0.0],\"y\":[\"Electric Clothes Dryer\",\"Electric Cooking\",\"Mininum Efficiency Whole Home Electrification\",\"Mininum Efficiency Heat Pump with Electric Heat Backup\",\"Induction Cooking\",\"Mininum Efficiency Heat Pump with Existing Heat Backup\",\"Heat Pump Clothes Dryer\",\"Heat Pump Water Heater\",\"High Efficiency Heat Pump with Electric Heat Backup\",\"High Efficiency Whole Home Electrification\",\"Basic Enclosure + HPWH + High Efficiency HP/Electric Backup\",\"Basic Enclosure + High Efficiency Whole Home Electrification\",\"Enhanced Enclosure + HPWH + High Efficiency HP/Electric Backup\",\"Enhanced Enclosure + High Efficiency Whole Home Electrification\",\"Basic Enclosure\",\"Enhanced Enclosure\"],\"type\":\"bar\",\"xaxis\":\"x\",\"yaxis\":\"y\",\"textposition\":\"inside\",\"texttemplate\":\"%{text:.0%}\"},{\"marker\":{\"color\":\"green\"},\"name\":\"Positive\",\"orientation\":\"h\",\"text\":[0.0,0.0,0.21138211382113822,0.5773195876288659,0.6614583333333334,0.7760416666666666,0.7898550724637681,0.9123711340206185,0.9639175257731959,0.9692307692307692,0.9794871794871794,0.9794871794871794,0.9794871794871794,0.9794871794871794,1.0,1.0],\"x\":[0.0,0.0,0.21138211382113822,0.5773195876288659,0.6614583333333334,0.7760416666666666,0.7898550724637681,0.9123711340206185,0.9639175257731959,0.9692307692307692,0.9794871794871794,0.9794871794871794,0.9794871794871794,0.9794871794871794,1.0,1.0],\"y\":[\"Electric Clothes Dryer\",\"Electric Cooking\",\"Mininum Efficiency Whole Home Electrification\",\"Mininum Efficiency Heat Pump with Electric Heat Backup\",\"Induction Cooking\",\"Mininum Efficiency Heat Pump with Existing Heat Backup\",\"Heat Pump Clothes Dryer\",\"Heat Pump Water Heater\",\"High Efficiency Heat Pump with Electric Heat Backup\",\"High Efficiency Whole Home Electrification\",\"Basic Enclosure + HPWH + High Efficiency HP/Electric Backup\",\"Basic Enclosure + High Efficiency Whole Home Electrification\",\"Enhanced Enclosure + HPWH + High Efficiency HP/Electric Backup\",\"Enhanced Enclosure + High Efficiency Whole Home Electrification\",\"Basic Enclosure\",\"Enhanced Enclosure\"],\"type\":\"bar\",\"xaxis\":\"x\",\"yaxis\":\"y\",\"textposition\":\"inside\",\"texttemplate\":\"%{text:.0%}\"},{\"marker\":{\"color\":\"red\"},\"orientation\":\"h\",\"showlegend\":false,\"text\":[0.0,0.0,0.06504065040650407,0.010309278350515464,0.0,0.036458333333333336,0.021739130434782608,0.030927835051546393,0.010309278350515464,0.005128205128205128,0.005128205128205128,0.005128205128205128,0.005128205128205128,0.005128205128205128,0.0,0.0],\"x\":[0.0,0.0,0.06504065040650407,0.010309278350515464,0.0,0.036458333333333336,0.021739130434782608,0.030927835051546393,0.010309278350515464,0.005128205128205128,0.005128205128205128,0.005128205128205128,0.005128205128205128,0.005128205128205128,0.0,0.0],\"y\":[\"Electric Clothes Dryer\",\"Electric Cooking\",\"Mininum Efficiency Whole Home Electrification\",\"Mininum Efficiency Heat Pump with Electric Heat Backup\",\"Induction Cooking\",\"Mininum Efficiency Heat Pump with Existing Heat Backup\",\"Heat Pump Clothes Dryer\",\"Heat Pump Water Heater\",\"High Efficiency Heat Pump with Electric Heat Backup\",\"High Efficiency Whole Home Electrification\",\"Basic Enclosure + HPWH + High Efficiency HP/Electric Backup\",\"Basic Enclosure + High Efficiency Whole Home Electrification\",\"Enhanced Enclosure + HPWH + High Efficiency HP/Electric Backup\",\"Enhanced Enclosure + High Efficiency Whole Home Electrification\",\"Basic Enclosure\",\"Enhanced Enclosure\"],\"type\":\"bar\",\"xaxis\":\"x2\",\"yaxis\":\"y2\",\"textposition\":\"inside\",\"texttemplate\":\"%{text:.0%}\"},{\"marker\":{\"color\":\"green\"},\"orientation\":\"h\",\"showlegend\":false,\"text\":[1.0,1.0,0.9349593495934959,0.9896907216494846,1.0,0.9635416666666666,0.9782608695652174,0.9690721649484536,0.9896907216494846,0.9948717948717949,0.9948717948717949,0.9948717948717949,0.9948717948717949,0.9948717948717949,1.0,1.0],\"x\":[1.0,1.0,0.9349593495934959,0.9896907216494846,1.0,0.9635416666666666,0.9782608695652174,0.9690721649484536,0.9896907216494846,0.9948717948717949,0.9948717948717949,0.9948717948717949,0.9948717948717949,0.9948717948717949,1.0,1.0],\"y\":[\"Electric Clothes Dryer\",\"Electric Cooking\",\"Mininum Efficiency Whole Home Electrification\",\"Mininum Efficiency Heat Pump with Electric Heat Backup\",\"Induction Cooking\",\"Mininum Efficiency Heat Pump with Existing Heat Backup\",\"Heat Pump Clothes Dryer\",\"Heat Pump Water Heater\",\"High Efficiency Heat Pump with Electric Heat Backup\",\"High Efficiency Whole Home Electrification\",\"Basic Enclosure + HPWH + High Efficiency HP/Electric Backup\",\"Basic Enclosure + High Efficiency Whole Home Electrification\",\"Enhanced Enclosure + HPWH + High Efficiency HP/Electric Backup\",\"Enhanced Enclosure + High Efficiency Whole Home Electrification\",\"Basic Enclosure\",\"Enhanced Enclosure\"],\"type\":\"bar\",\"xaxis\":\"x2\",\"yaxis\":\"y2\",\"textposition\":\"inside\",\"texttemplate\":\"%{text:.0%}\"},{\"marker\":{\"color\":\"red\"},\"orientation\":\"h\",\"showlegend\":false,\"text\":[0.0,0.0,0.06504065040650407,0.010309278350515464,0.0,0.036458333333333336,0.021739130434782608,0.030927835051546393,0.010309278350515464,0.005128205128205128,0.005128205128205128,0.005128205128205128,0.005128205128205128,0.005128205128205128,0.0,0.0],\"x\":[0.0,0.0,0.06504065040650407,0.010309278350515464,0.0,0.036458333333333336,0.021739130434782608,0.030927835051546393,0.010309278350515464,0.005128205128205128,0.005128205128205128,0.005128205128205128,0.005128205128205128,0.005128205128205128,0.0,0.0],\"y\":[\"Electric Clothes Dryer\",\"Electric Cooking\",\"Mininum Efficiency Whole Home Electrification\",\"Mininum Efficiency Heat Pump with Electric Heat Backup\",\"Induction Cooking\",\"Mininum Efficiency Heat Pump with Existing Heat Backup\",\"Heat Pump Clothes Dryer\",\"Heat Pump Water Heater\",\"High Efficiency Heat Pump with Electric Heat Backup\",\"High Efficiency Whole Home Electrification\",\"Basic Enclosure + HPWH + High Efficiency HP/Electric Backup\",\"Basic Enclosure + High Efficiency Whole Home Electrification\",\"Enhanced Enclosure + HPWH + High Efficiency HP/Electric Backup\",\"Enhanced Enclosure + High Efficiency Whole Home Electrification\",\"Basic Enclosure\",\"Enhanced Enclosure\"],\"type\":\"bar\",\"xaxis\":\"x3\",\"yaxis\":\"y3\",\"textposition\":\"inside\",\"texttemplate\":\"%{text:.0%}\"},{\"marker\":{\"color\":\"green\"},\"orientation\":\"h\",\"showlegend\":false,\"text\":[1.0,1.0,0.9349593495934959,0.9896907216494846,1.0,0.9635416666666666,0.9782608695652174,0.9690721649484536,0.9896907216494846,0.9948717948717949,0.9948717948717949,0.9948717948717949,0.9948717948717949,0.9948717948717949,1.0,1.0],\"x\":[1.0,1.0,0.9349593495934959,0.9896907216494846,1.0,0.9635416666666666,0.9782608695652174,0.9690721649484536,0.9896907216494846,0.9948717948717949,0.9948717948717949,0.9948717948717949,0.9948717948717949,0.9948717948717949,1.0,1.0],\"y\":[\"Electric Clothes Dryer\",\"Electric Cooking\",\"Mininum Efficiency Whole Home Electrification\",\"Mininum Efficiency Heat Pump with Electric Heat Backup\",\"Induction Cooking\",\"Mininum Efficiency Heat Pump with Existing Heat Backup\",\"Heat Pump Clothes Dryer\",\"Heat Pump Water Heater\",\"High Efficiency Heat Pump with Electric Heat Backup\",\"High Efficiency Whole Home Electrification\",\"Basic Enclosure + HPWH + High Efficiency HP/Electric Backup\",\"Basic Enclosure + High Efficiency Whole Home Electrification\",\"Enhanced Enclosure + HPWH + High Efficiency HP/Electric Backup\",\"Enhanced Enclosure + High Efficiency Whole Home Electrification\",\"Basic Enclosure\",\"Enhanced Enclosure\"],\"type\":\"bar\",\"xaxis\":\"x3\",\"yaxis\":\"y3\",\"textposition\":\"inside\",\"texttemplate\":\"%{text:.0%}\"}],                        {\"template\":{\"data\":{\"histogram2dcontour\":[{\"type\":\"histogram2dcontour\",\"colorbar\":{\"outlinewidth\":0,\"ticks\":\"\"},\"colorscale\":[[0.0,\"#0d0887\"],[0.1111111111111111,\"#46039f\"],[0.2222222222222222,\"#7201a8\"],[0.3333333333333333,\"#9c179e\"],[0.4444444444444444,\"#bd3786\"],[0.5555555555555556,\"#d8576b\"],[0.6666666666666666,\"#ed7953\"],[0.7777777777777778,\"#fb9f3a\"],[0.8888888888888888,\"#fdca26\"],[1.0,\"#f0f921\"]]}],\"choropleth\":[{\"type\":\"choropleth\",\"colorbar\":{\"outlinewidth\":0,\"ticks\":\"\"}}],\"histogram2d\":[{\"type\":\"histogram2d\",\"colorbar\":{\"outlinewidth\":0,\"ticks\":\"\"},\"colorscale\":[[0.0,\"#0d0887\"],[0.1111111111111111,\"#46039f\"],[0.2222222222222222,\"#7201a8\"],[0.3333333333333333,\"#9c179e\"],[0.4444444444444444,\"#bd3786\"],[0.5555555555555556,\"#d8576b\"],[0.6666666666666666,\"#ed7953\"],[0.7777777777777778,\"#fb9f3a\"],[0.8888888888888888,\"#fdca26\"],[1.0,\"#f0f921\"]]}],\"heatmap\":[{\"type\":\"heatmap\",\"colorbar\":{\"outlinewidth\":0,\"ticks\":\"\"},\"colorscale\":[[0.0,\"#0d0887\"],[0.1111111111111111,\"#46039f\"],[0.2222222222222222,\"#7201a8\"],[0.3333333333333333,\"#9c179e\"],[0.4444444444444444,\"#bd3786\"],[0.5555555555555556,\"#d8576b\"],[0.6666666666666666,\"#ed7953\"],[0.7777777777777778,\"#fb9f3a\"],[0.8888888888888888,\"#fdca26\"],[1.0,\"#f0f921\"]]}],\"heatmapgl\":[{\"type\":\"heatmapgl\",\"colorbar\":{\"outlinewidth\":0,\"ticks\":\"\"},\"colorscale\":[[0.0,\"#0d0887\"],[0.1111111111111111,\"#46039f\"],[0.2222222222222222,\"#7201a8\"],[0.3333333333333333,\"#9c179e\"],[0.4444444444444444,\"#bd3786\"],[0.5555555555555556,\"#d8576b\"],[0.6666666666666666,\"#ed7953\"],[0.7777777777777778,\"#fb9f3a\"],[0.8888888888888888,\"#fdca26\"],[1.0,\"#f0f921\"]]}],\"contourcarpet\":[{\"type\":\"contourcarpet\",\"colorbar\":{\"outlinewidth\":0,\"ticks\":\"\"}}],\"contour\":[{\"type\":\"contour\",\"colorbar\":{\"outlinewidth\":0,\"ticks\":\"\"},\"colorscale\":[[0.0,\"#0d0887\"],[0.1111111111111111,\"#46039f\"],[0.2222222222222222,\"#7201a8\"],[0.3333333333333333,\"#9c179e\"],[0.4444444444444444,\"#bd3786\"],[0.5555555555555556,\"#d8576b\"],[0.6666666666666666,\"#ed7953\"],[0.7777777777777778,\"#fb9f3a\"],[0.8888888888888888,\"#fdca26\"],[1.0,\"#f0f921\"]]}],\"surface\":[{\"type\":\"surface\",\"colorbar\":{\"outlinewidth\":0,\"ticks\":\"\"},\"colorscale\":[[0.0,\"#0d0887\"],[0.1111111111111111,\"#46039f\"],[0.2222222222222222,\"#7201a8\"],[0.3333333333333333,\"#9c179e\"],[0.4444444444444444,\"#bd3786\"],[0.5555555555555556,\"#d8576b\"],[0.6666666666666666,\"#ed7953\"],[0.7777777777777778,\"#fb9f3a\"],[0.8888888888888888,\"#fdca26\"],[1.0,\"#f0f921\"]]}],\"mesh3d\":[{\"type\":\"mesh3d\",\"colorbar\":{\"outlinewidth\":0,\"ticks\":\"\"}}],\"scatter\":[{\"fillpattern\":{\"fillmode\":\"overlay\",\"size\":10,\"solidity\":0.2},\"type\":\"scatter\"}],\"parcoords\":[{\"type\":\"parcoords\",\"line\":{\"colorbar\":{\"outlinewidth\":0,\"ticks\":\"\"}}}],\"scatterpolargl\":[{\"type\":\"scatterpolargl\",\"marker\":{\"colorbar\":{\"outlinewidth\":0,\"ticks\":\"\"}}}],\"bar\":[{\"error_x\":{\"color\":\"#2a3f5f\"},\"error_y\":{\"color\":\"#2a3f5f\"},\"marker\":{\"line\":{\"color\":\"#E5ECF6\",\"width\":0.5},\"pattern\":{\"fillmode\":\"overlay\",\"size\":10,\"solidity\":0.2}},\"type\":\"bar\"}],\"scattergeo\":[{\"type\":\"scattergeo\",\"marker\":{\"colorbar\":{\"outlinewidth\":0,\"ticks\":\"\"}}}],\"scatterpolar\":[{\"type\":\"scatterpolar\",\"marker\":{\"colorbar\":{\"outlinewidth\":0,\"ticks\":\"\"}}}],\"histogram\":[{\"marker\":{\"pattern\":{\"fillmode\":\"overlay\",\"size\":10,\"solidity\":0.2}},\"type\":\"histogram\"}],\"scattergl\":[{\"type\":\"scattergl\",\"marker\":{\"colorbar\":{\"outlinewidth\":0,\"ticks\":\"\"}}}],\"scatter3d\":[{\"type\":\"scatter3d\",\"line\":{\"colorbar\":{\"outlinewidth\":0,\"ticks\":\"\"}},\"marker\":{\"colorbar\":{\"outlinewidth\":0,\"ticks\":\"\"}}}],\"scattermapbox\":[{\"type\":\"scattermapbox\",\"marker\":{\"colorbar\":{\"outlinewidth\":0,\"ticks\":\"\"}}}],\"scatterternary\":[{\"type\":\"scatterternary\",\"marker\":{\"colorbar\":{\"outlinewidth\":0,\"ticks\":\"\"}}}],\"scattercarpet\":[{\"type\":\"scattercarpet\",\"marker\":{\"colorbar\":{\"outlinewidth\":0,\"ticks\":\"\"}}}],\"carpet\":[{\"aaxis\":{\"endlinecolor\":\"#2a3f5f\",\"gridcolor\":\"white\",\"linecolor\":\"white\",\"minorgridcolor\":\"white\",\"startlinecolor\":\"#2a3f5f\"},\"baxis\":{\"endlinecolor\":\"#2a3f5f\",\"gridcolor\":\"white\",\"linecolor\":\"white\",\"minorgridcolor\":\"white\",\"startlinecolor\":\"#2a3f5f\"},\"type\":\"carpet\"}],\"table\":[{\"cells\":{\"fill\":{\"color\":\"#EBF0F8\"},\"line\":{\"color\":\"white\"}},\"header\":{\"fill\":{\"color\":\"#C8D4E3\"},\"line\":{\"color\":\"white\"}},\"type\":\"table\"}],\"barpolar\":[{\"marker\":{\"line\":{\"color\":\"#E5ECF6\",\"width\":0.5},\"pattern\":{\"fillmode\":\"overlay\",\"size\":10,\"solidity\":0.2}},\"type\":\"barpolar\"}],\"pie\":[{\"automargin\":true,\"type\":\"pie\"}]},\"layout\":{\"autotypenumbers\":\"strict\",\"colorway\":[\"#636efa\",\"#EF553B\",\"#00cc96\",\"#ab63fa\",\"#FFA15A\",\"#19d3f3\",\"#FF6692\",\"#B6E880\",\"#FF97FF\",\"#FECB52\"],\"font\":{\"color\":\"#2a3f5f\"},\"hovermode\":\"closest\",\"hoverlabel\":{\"align\":\"left\"},\"paper_bgcolor\":\"white\",\"plot_bgcolor\":\"#E5ECF6\",\"polar\":{\"bgcolor\":\"#E5ECF6\",\"angularaxis\":{\"gridcolor\":\"white\",\"linecolor\":\"white\",\"ticks\":\"\"},\"radialaxis\":{\"gridcolor\":\"white\",\"linecolor\":\"white\",\"ticks\":\"\"}},\"ternary\":{\"bgcolor\":\"#E5ECF6\",\"aaxis\":{\"gridcolor\":\"white\",\"linecolor\":\"white\",\"ticks\":\"\"},\"baxis\":{\"gridcolor\":\"white\",\"linecolor\":\"white\",\"ticks\":\"\"},\"caxis\":{\"gridcolor\":\"white\",\"linecolor\":\"white\",\"ticks\":\"\"}},\"coloraxis\":{\"colorbar\":{\"outlinewidth\":0,\"ticks\":\"\"}},\"colorscale\":{\"sequential\":[[0.0,\"#0d0887\"],[0.1111111111111111,\"#46039f\"],[0.2222222222222222,\"#7201a8\"],[0.3333333333333333,\"#9c179e\"],[0.4444444444444444,\"#bd3786\"],[0.5555555555555556,\"#d8576b\"],[0.6666666666666666,\"#ed7953\"],[0.7777777777777778,\"#fb9f3a\"],[0.8888888888888888,\"#fdca26\"],[1.0,\"#f0f921\"]],\"sequentialminus\":[[0.0,\"#0d0887\"],[0.1111111111111111,\"#46039f\"],[0.2222222222222222,\"#7201a8\"],[0.3333333333333333,\"#9c179e\"],[0.4444444444444444,\"#bd3786\"],[0.5555555555555556,\"#d8576b\"],[0.6666666666666666,\"#ed7953\"],[0.7777777777777778,\"#fb9f3a\"],[0.8888888888888888,\"#fdca26\"],[1.0,\"#f0f921\"]],\"diverging\":[[0,\"#8e0152\"],[0.1,\"#c51b7d\"],[0.2,\"#de77ae\"],[0.3,\"#f1b6da\"],[0.4,\"#fde0ef\"],[0.5,\"#f7f7f7\"],[0.6,\"#e6f5d0\"],[0.7,\"#b8e186\"],[0.8,\"#7fbc41\"],[0.9,\"#4d9221\"],[1,\"#276419\"]]},\"xaxis\":{\"gridcolor\":\"white\",\"linecolor\":\"white\",\"ticks\":\"\",\"title\":{\"standoff\":15},\"zerolinecolor\":\"white\",\"automargin\":true,\"zerolinewidth\":2},\"yaxis\":{\"gridcolor\":\"white\",\"linecolor\":\"white\",\"ticks\":\"\",\"title\":{\"standoff\":15},\"zerolinecolor\":\"white\",\"automargin\":true,\"zerolinewidth\":2},\"scene\":{\"xaxis\":{\"backgroundcolor\":\"#E5ECF6\",\"gridcolor\":\"white\",\"linecolor\":\"white\",\"showbackground\":true,\"ticks\":\"\",\"zerolinecolor\":\"white\",\"gridwidth\":2},\"yaxis\":{\"backgroundcolor\":\"#E5ECF6\",\"gridcolor\":\"white\",\"linecolor\":\"white\",\"showbackground\":true,\"ticks\":\"\",\"zerolinecolor\":\"white\",\"gridwidth\":2},\"zaxis\":{\"backgroundcolor\":\"#E5ECF6\",\"gridcolor\":\"white\",\"linecolor\":\"white\",\"showbackground\":true,\"ticks\":\"\",\"zerolinecolor\":\"white\",\"gridwidth\":2}},\"shapedefaults\":{\"line\":{\"color\":\"#2a3f5f\"}},\"annotationdefaults\":{\"arrowcolor\":\"#2a3f5f\",\"arrowhead\":0,\"arrowwidth\":1},\"geo\":{\"bgcolor\":\"white\",\"landcolor\":\"#E5ECF6\",\"subunitcolor\":\"white\",\"showland\":true,\"showlakes\":true,\"lakecolor\":\"white\"},\"title\":{\"x\":0.05},\"mapbox\":{\"style\":\"light\"}}},\"xaxis\":{\"anchor\":\"y\",\"domain\":[0.0,0.2888888888888889],\"title\":{\"text\":\"Bill\"},\"visible\":true,\"tickformat\":\",.0%\"},\"yaxis\":{\"anchor\":\"x\",\"domain\":[0.0,1.0],\"visible\":true},\"xaxis2\":{\"anchor\":\"y2\",\"domain\":[0.35555555555555557,0.6444444444444445],\"title\":{\"text\":\"Emission\"},\"visible\":true,\"tickformat\":\",.0%\"},\"yaxis2\":{\"anchor\":\"x2\",\"domain\":[0.0,1.0],\"visible\":false},\"xaxis3\":{\"anchor\":\"y3\",\"domain\":[0.7111111111111111,1.0],\"title\":{\"text\":\"Total Energy\"},\"visible\":true,\"tickformat\":\",.0%\"},\"yaxis3\":{\"anchor\":\"x3\",\"domain\":[0.0,1.0],\"visible\":false},\"barmode\":\"relative\",\"font\":{\"size\":10},\"title\":{\"text\":\"Percentage of Household in Positive and Negative Savings\"},\"autosize\":false,\"width\":1000,\"height\":500},                        {\"responsive\": true}                    ).then(function(){\n",
       "                            \n",
       "var gd = document.getElementById('2b9faab7-bff4-4642-9fbf-20558fd25d69');\n",
       "var x = new MutationObserver(function (mutations, observer) {{\n",
       "        var display = window.getComputedStyle(gd).display;\n",
       "        if (!display || display === 'none') {{\n",
       "            console.log([gd, 'removed!']);\n",
       "            Plotly.purge(gd);\n",
       "            observer.disconnect();\n",
       "        }}\n",
       "}});\n",
       "\n",
       "// Listen for the removal of the full notebook cells\n",
       "var notebookContainer = gd.closest('#notebook-container');\n",
       "if (notebookContainer) {{\n",
       "    x.observe(notebookContainer, {childList: true});\n",
       "}}\n",
       "\n",
       "// Listen for the clearing of the current output cell\n",
       "var outputEl = gd.closest('.output');\n",
       "if (outputEl) {{\n",
       "    x.observe(outputEl, {childList: true});\n",
       "}}\n",
       "\n",
       "                        })                };                });            </script>        </div>"
      ]
     },
     "metadata": {},
     "output_type": "display_data"
    },
    {
     "name": "stderr",
     "output_type": "stream",
     "text": [
      "C:\\Users\\ylou2\\AppData\\Local\\Temp\\ipykernel_12568\\4148934776.py:3: PerformanceWarning:\n",
      "\n",
      "DataFrame is highly fragmented.  This is usually the result of calling `frame.insert` many times, which has poor performance.  Consider joining all columns at once using pd.concat(axis=1) instead. To get a de-fragmented frame, use `newframe = frame.copy()`\n",
      "\n",
      "C:\\Users\\ylou2\\AppData\\Local\\Temp\\ipykernel_12568\\4148934776.py:4: PerformanceWarning:\n",
      "\n",
      "DataFrame is highly fragmented.  This is usually the result of calling `frame.insert` many times, which has poor performance.  Consider joining all columns at once using pd.concat(axis=1) instead. To get a de-fragmented frame, use `newframe = frame.copy()`\n",
      "\n",
      "C:\\Users\\ylou2\\AppData\\Local\\Temp\\ipykernel_12568\\4148934776.py:5: PerformanceWarning:\n",
      "\n",
      "DataFrame is highly fragmented.  This is usually the result of calling `frame.insert` many times, which has poor performance.  Consider joining all columns at once using pd.concat(axis=1) instead. To get a de-fragmented frame, use `newframe = frame.copy()`\n",
      "\n"
     ]
    }
   ],
   "source": [
    "segment = 'segment3'\n",
    "results = figure_positive_negative_savings(segment, community_results) \n",
    "saving_results[f'segment3_{income}_pct_bill_positive_savings_%'] = results[0]*100\n",
    "saving_results[f'segment3_{income}_pct_emission_positive_savings_%'] = results[1]*100\n",
    "saving_results[f'segment3_{income}_pct_energy_positive_savings_%'] = results[2]*100"
   ]
  },
  {
   "cell_type": "markdown",
   "id": "2d0b8033",
   "metadata": {},
   "source": [
    "## 3.6. Average Energy Burden (%) Before and after Upgrade"
   ]
  },
  {
   "cell_type": "code",
   "execution_count": 244,
   "id": "0740cac0",
   "metadata": {},
   "outputs": [
    {
     "name": "stdout",
     "output_type": "stream",
     "text": [
      "energy burden (%) before and after upgrade\n",
      "segment1\n"
     ]
    },
    {
     "name": "stderr",
     "output_type": "stream",
     "text": [
      "C:\\Users\\ylou2\\AppData\\Local\\Temp\\ipykernel_12568\\3366644941.py:4: SettingWithCopyWarning:\n",
      "\n",
      "\n",
      "A value is trying to be set on a copy of a slice from a DataFrame\n",
      "\n",
      "See the caveats in the documentation: https://pandas.pydata.org/pandas-docs/stable/user_guide/indexing.html#returning-a-view-versus-a-copy\n",
      "\n",
      "C:\\Users\\ylou2\\AppData\\Local\\Temp\\ipykernel_12568\\3366644941.py:5: SettingWithCopyWarning:\n",
      "\n",
      "\n",
      "A value is trying to be set on a copy of a slice from a DataFrame\n",
      "\n",
      "See the caveats in the documentation: https://pandas.pydata.org/pandas-docs/stable/user_guide/indexing.html#returning-a-view-versus-a-copy\n",
      "\n",
      "C:\\Users\\ylou2\\AppData\\Local\\Temp\\ipykernel_12568\\3366644941.py:6: SettingWithCopyWarning:\n",
      "\n",
      "\n",
      "A value is trying to be set on a copy of a slice from a DataFrame.\n",
      "Try using .loc[row_indexer,col_indexer] = value instead\n",
      "\n",
      "See the caveats in the documentation: https://pandas.pydata.org/pandas-docs/stable/user_guide/indexing.html#returning-a-view-versus-a-copy\n",
      "\n",
      "C:\\Users\\ylou2\\AppData\\Local\\Temp\\ipykernel_12568\\3366644941.py:7: SettingWithCopyWarning:\n",
      "\n",
      "\n",
      "A value is trying to be set on a copy of a slice from a DataFrame.\n",
      "Try using .loc[row_indexer,col_indexer] = value instead\n",
      "\n",
      "See the caveats in the documentation: https://pandas.pydata.org/pandas-docs/stable/user_guide/indexing.html#returning-a-view-versus-a-copy\n",
      "\n"
     ]
    },
    {
     "data": {
      "text/html": [
       "<div>\n",
       "<style scoped>\n",
       "    .dataframe tbody tr th:only-of-type {\n",
       "        vertical-align: middle;\n",
       "    }\n",
       "\n",
       "    .dataframe tbody tr th {\n",
       "        vertical-align: top;\n",
       "    }\n",
       "\n",
       "    .dataframe thead th {\n",
       "        text-align: right;\n",
       "    }\n",
       "</style>\n",
       "<table border=\"1\" class=\"dataframe\">\n",
       "  <thead>\n",
       "    <tr style=\"text-align: right;\">\n",
       "      <th></th>\n",
       "      <th>before</th>\n",
       "      <th>after</th>\n",
       "    </tr>\n",
       "    <tr>\n",
       "      <th>upgrade_name</th>\n",
       "      <th></th>\n",
       "      <th></th>\n",
       "    </tr>\n",
       "  </thead>\n",
       "  <tbody>\n",
       "    <tr>\n",
       "      <th>Enhanced Enclosure + High Efficiency Whole Home Electrification</th>\n",
       "      <td>12.2</td>\n",
       "      <td>7.0</td>\n",
       "    </tr>\n",
       "    <tr>\n",
       "      <th>Enhanced Enclosure + HPWH + High Efficiency HP/Electric Backup</th>\n",
       "      <td>12.2</td>\n",
       "      <td>7.2</td>\n",
       "    </tr>\n",
       "    <tr>\n",
       "      <th>Basic Enclosure + High Efficiency Whole Home Electrification</th>\n",
       "      <td>12.2</td>\n",
       "      <td>7.2</td>\n",
       "    </tr>\n",
       "    <tr>\n",
       "      <th>Basic Enclosure + HPWH + High Efficiency HP/Electric Backup</th>\n",
       "      <td>12.2</td>\n",
       "      <td>7.4</td>\n",
       "    </tr>\n",
       "    <tr>\n",
       "      <th>High Efficiency Whole Home Electrification</th>\n",
       "      <td>12.2</td>\n",
       "      <td>8.6</td>\n",
       "    </tr>\n",
       "    <tr>\n",
       "      <th>High Efficiency Heat Pump with Electric Heat Backup</th>\n",
       "      <td>12.2</td>\n",
       "      <td>9.5</td>\n",
       "    </tr>\n",
       "    <tr>\n",
       "      <th>Enhanced Enclosure</th>\n",
       "      <td>12.2</td>\n",
       "      <td>9.6</td>\n",
       "    </tr>\n",
       "    <tr>\n",
       "      <th>Basic Enclosure</th>\n",
       "      <td>12.2</td>\n",
       "      <td>10.0</td>\n",
       "    </tr>\n",
       "    <tr>\n",
       "      <th>Mininum Efficiency Heat Pump with Existing Heat Backup</th>\n",
       "      <td>14.4</td>\n",
       "      <td>13.8</td>\n",
       "    </tr>\n",
       "    <tr>\n",
       "      <th>Heat Pump Water Heater</th>\n",
       "      <td>12.2</td>\n",
       "      <td>11.7</td>\n",
       "    </tr>\n",
       "    <tr>\n",
       "      <th>Heat Pump Clothes Dryer</th>\n",
       "      <td>12.2</td>\n",
       "      <td>12.1</td>\n",
       "    </tr>\n",
       "    <tr>\n",
       "      <th>Induction Cooking</th>\n",
       "      <td>12.2</td>\n",
       "      <td>12.3</td>\n",
       "    </tr>\n",
       "    <tr>\n",
       "      <th>Electric Cooking</th>\n",
       "      <td>11.1</td>\n",
       "      <td>11.2</td>\n",
       "    </tr>\n",
       "    <tr>\n",
       "      <th>Electric Clothes Dryer</th>\n",
       "      <td>11.0</td>\n",
       "      <td>11.2</td>\n",
       "    </tr>\n",
       "    <tr>\n",
       "      <th>Mininum Efficiency Heat Pump with Electric Heat Backup</th>\n",
       "      <td>12.2</td>\n",
       "      <td>13.4</td>\n",
       "    </tr>\n",
       "    <tr>\n",
       "      <th>Mininum Efficiency Whole Home Electrification</th>\n",
       "      <td>11.5</td>\n",
       "      <td>13.2</td>\n",
       "    </tr>\n",
       "  </tbody>\n",
       "</table>\n",
       "</div>"
      ],
      "text/plain": [
       "                                                    before  after\n",
       "upgrade_name                                                     \n",
       "Enhanced Enclosure + High Efficiency Whole Home...    12.2    7.0\n",
       "Enhanced Enclosure + HPWH + High Efficiency HP/...    12.2    7.2\n",
       "Basic Enclosure + High Efficiency Whole Home El...    12.2    7.2\n",
       "Basic Enclosure + HPWH + High Efficiency HP/Ele...    12.2    7.4\n",
       "High Efficiency Whole Home Electrification            12.2    8.6\n",
       "High Efficiency Heat Pump with Electric Heat Ba...    12.2    9.5\n",
       "Enhanced Enclosure                                    12.2    9.6\n",
       "Basic Enclosure                                       12.2   10.0\n",
       "Mininum Efficiency Heat Pump with Existing Heat...    14.4   13.8\n",
       "Heat Pump Water Heater                                12.2   11.7\n",
       "Heat Pump Clothes Dryer                               12.2   12.1\n",
       "Induction Cooking                                     12.2   12.3\n",
       "Electric Cooking                                      11.1   11.2\n",
       "Electric Clothes Dryer                                11.0   11.2\n",
       "Mininum Efficiency Heat Pump with Electric Heat...    12.2   13.4\n",
       "Mininum Efficiency Whole Home Electrification         11.5   13.2"
      ]
     },
     "metadata": {},
     "output_type": "display_data"
    },
    {
     "name": "stdout",
     "output_type": "stream",
     "text": [
      "segment2\n"
     ]
    },
    {
     "data": {
      "text/html": [
       "<div>\n",
       "<style scoped>\n",
       "    .dataframe tbody tr th:only-of-type {\n",
       "        vertical-align: middle;\n",
       "    }\n",
       "\n",
       "    .dataframe tbody tr th {\n",
       "        vertical-align: top;\n",
       "    }\n",
       "\n",
       "    .dataframe thead th {\n",
       "        text-align: right;\n",
       "    }\n",
       "</style>\n",
       "<table border=\"1\" class=\"dataframe\">\n",
       "  <thead>\n",
       "    <tr style=\"text-align: right;\">\n",
       "      <th></th>\n",
       "      <th>before</th>\n",
       "      <th>after</th>\n",
       "    </tr>\n",
       "    <tr>\n",
       "      <th>upgrade_name</th>\n",
       "      <th></th>\n",
       "      <th></th>\n",
       "    </tr>\n",
       "  </thead>\n",
       "  <tbody>\n",
       "    <tr>\n",
       "      <th>Enhanced Enclosure + High Efficiency Whole Home Electrification</th>\n",
       "      <td>15.1</td>\n",
       "      <td>6.6</td>\n",
       "    </tr>\n",
       "    <tr>\n",
       "      <th>Enhanced Enclosure + HPWH + High Efficiency HP/Electric Backup</th>\n",
       "      <td>15.1</td>\n",
       "      <td>6.8</td>\n",
       "    </tr>\n",
       "    <tr>\n",
       "      <th>Basic Enclosure + High Efficiency Whole Home Electrification</th>\n",
       "      <td>15.1</td>\n",
       "      <td>7.0</td>\n",
       "    </tr>\n",
       "    <tr>\n",
       "      <th>Basic Enclosure + HPWH + High Efficiency HP/Electric Backup</th>\n",
       "      <td>15.1</td>\n",
       "      <td>7.2</td>\n",
       "    </tr>\n",
       "    <tr>\n",
       "      <th>High Efficiency Whole Home Electrification</th>\n",
       "      <td>15.1</td>\n",
       "      <td>8.2</td>\n",
       "    </tr>\n",
       "    <tr>\n",
       "      <th>High Efficiency Heat Pump with Electric Heat Backup</th>\n",
       "      <td>15.1</td>\n",
       "      <td>9.4</td>\n",
       "    </tr>\n",
       "    <tr>\n",
       "      <th>Enhanced Enclosure</th>\n",
       "      <td>15.1</td>\n",
       "      <td>11.5</td>\n",
       "    </tr>\n",
       "    <tr>\n",
       "      <th>Basic Enclosure</th>\n",
       "      <td>15.1</td>\n",
       "      <td>12.3</td>\n",
       "    </tr>\n",
       "    <tr>\n",
       "      <th>Mininum Efficiency Heat Pump with Existing Heat Backup</th>\n",
       "      <td>15.1</td>\n",
       "      <td>12.4</td>\n",
       "    </tr>\n",
       "    <tr>\n",
       "      <th>Mininum Efficiency Heat Pump with Electric Heat Backup</th>\n",
       "      <td>15.1</td>\n",
       "      <td>12.7</td>\n",
       "    </tr>\n",
       "    <tr>\n",
       "      <th>Heat Pump Water Heater</th>\n",
       "      <td>15.1</td>\n",
       "      <td>14.6</td>\n",
       "    </tr>\n",
       "    <tr>\n",
       "      <th>Heat Pump Clothes Dryer</th>\n",
       "      <td>19.9</td>\n",
       "      <td>19.6</td>\n",
       "    </tr>\n",
       "    <tr>\n",
       "      <th>Induction Cooking</th>\n",
       "      <td>16.1</td>\n",
       "      <td>16.1</td>\n",
       "    </tr>\n",
       "    <tr>\n",
       "      <th>Electric Cooking</th>\n",
       "      <td>15.1</td>\n",
       "      <td>15.3</td>\n",
       "    </tr>\n",
       "    <tr>\n",
       "      <th>Mininum Efficiency Whole Home Electrification</th>\n",
       "      <td>12.0</td>\n",
       "      <td>12.9</td>\n",
       "    </tr>\n",
       "  </tbody>\n",
       "</table>\n",
       "</div>"
      ],
      "text/plain": [
       "                                                    before  after\n",
       "upgrade_name                                                     \n",
       "Enhanced Enclosure + High Efficiency Whole Home...    15.1    6.6\n",
       "Enhanced Enclosure + HPWH + High Efficiency HP/...    15.1    6.8\n",
       "Basic Enclosure + High Efficiency Whole Home El...    15.1    7.0\n",
       "Basic Enclosure + HPWH + High Efficiency HP/Ele...    15.1    7.2\n",
       "High Efficiency Whole Home Electrification            15.1    8.2\n",
       "High Efficiency Heat Pump with Electric Heat Ba...    15.1    9.4\n",
       "Enhanced Enclosure                                    15.1   11.5\n",
       "Basic Enclosure                                       15.1   12.3\n",
       "Mininum Efficiency Heat Pump with Existing Heat...    15.1   12.4\n",
       "Mininum Efficiency Heat Pump with Electric Heat...    15.1   12.7\n",
       "Heat Pump Water Heater                                15.1   14.6\n",
       "Heat Pump Clothes Dryer                               19.9   19.6\n",
       "Induction Cooking                                     16.1   16.1\n",
       "Electric Cooking                                      15.1   15.3\n",
       "Mininum Efficiency Whole Home Electrification         12.0   12.9"
      ]
     },
     "metadata": {},
     "output_type": "display_data"
    },
    {
     "name": "stdout",
     "output_type": "stream",
     "text": [
      "segment3\n"
     ]
    },
    {
     "data": {
      "text/html": [
       "<div>\n",
       "<style scoped>\n",
       "    .dataframe tbody tr th:only-of-type {\n",
       "        vertical-align: middle;\n",
       "    }\n",
       "\n",
       "    .dataframe tbody tr th {\n",
       "        vertical-align: top;\n",
       "    }\n",
       "\n",
       "    .dataframe thead th {\n",
       "        text-align: right;\n",
       "    }\n",
       "</style>\n",
       "<table border=\"1\" class=\"dataframe\">\n",
       "  <thead>\n",
       "    <tr style=\"text-align: right;\">\n",
       "      <th></th>\n",
       "      <th>before</th>\n",
       "      <th>after</th>\n",
       "    </tr>\n",
       "    <tr>\n",
       "      <th>upgrade_name</th>\n",
       "      <th></th>\n",
       "      <th></th>\n",
       "    </tr>\n",
       "  </thead>\n",
       "  <tbody>\n",
       "    <tr>\n",
       "      <th>Enhanced Enclosure + High Efficiency Whole Home Electrification</th>\n",
       "      <td>12.1</td>\n",
       "      <td>6.9</td>\n",
       "    </tr>\n",
       "    <tr>\n",
       "      <th>Basic Enclosure + High Efficiency Whole Home Electrification</th>\n",
       "      <td>12.1</td>\n",
       "      <td>7.0</td>\n",
       "    </tr>\n",
       "    <tr>\n",
       "      <th>Enhanced Enclosure + HPWH + High Efficiency HP/Electric Backup</th>\n",
       "      <td>12.1</td>\n",
       "      <td>7.0</td>\n",
       "    </tr>\n",
       "    <tr>\n",
       "      <th>Basic Enclosure + HPWH + High Efficiency HP/Electric Backup</th>\n",
       "      <td>12.1</td>\n",
       "      <td>7.1</td>\n",
       "    </tr>\n",
       "    <tr>\n",
       "      <th>High Efficiency Whole Home Electrification</th>\n",
       "      <td>12.1</td>\n",
       "      <td>7.7</td>\n",
       "    </tr>\n",
       "    <tr>\n",
       "      <th>High Efficiency Heat Pump with Electric Heat Backup</th>\n",
       "      <td>12.1</td>\n",
       "      <td>8.9</td>\n",
       "    </tr>\n",
       "    <tr>\n",
       "      <th>Enhanced Enclosure</th>\n",
       "      <td>12.1</td>\n",
       "      <td>10.5</td>\n",
       "    </tr>\n",
       "    <tr>\n",
       "      <th>Basic Enclosure</th>\n",
       "      <td>11.9</td>\n",
       "      <td>10.5</td>\n",
       "    </tr>\n",
       "    <tr>\n",
       "      <th>Mininum Efficiency Heat Pump with Existing Heat Backup</th>\n",
       "      <td>12.1</td>\n",
       "      <td>10.9</td>\n",
       "    </tr>\n",
       "    <tr>\n",
       "      <th>Heat Pump Water Heater</th>\n",
       "      <td>12.1</td>\n",
       "      <td>11.4</td>\n",
       "    </tr>\n",
       "    <tr>\n",
       "      <th>Mininum Efficiency Heat Pump with Electric Heat Backup</th>\n",
       "      <td>12.1</td>\n",
       "      <td>11.4</td>\n",
       "    </tr>\n",
       "    <tr>\n",
       "      <th>Heat Pump Clothes Dryer</th>\n",
       "      <td>12.8</td>\n",
       "      <td>12.6</td>\n",
       "    </tr>\n",
       "    <tr>\n",
       "      <th>Induction Cooking</th>\n",
       "      <td>12.1</td>\n",
       "      <td>12.2</td>\n",
       "    </tr>\n",
       "    <tr>\n",
       "      <th>Electric Cooking</th>\n",
       "      <td>11.4</td>\n",
       "      <td>11.6</td>\n",
       "    </tr>\n",
       "    <tr>\n",
       "      <th>Electric Clothes Dryer</th>\n",
       "      <td>11.0</td>\n",
       "      <td>11.2</td>\n",
       "    </tr>\n",
       "    <tr>\n",
       "      <th>Mininum Efficiency Whole Home Electrification</th>\n",
       "      <td>10.1</td>\n",
       "      <td>11.0</td>\n",
       "    </tr>\n",
       "  </tbody>\n",
       "</table>\n",
       "</div>"
      ],
      "text/plain": [
       "                                                    before  after\n",
       "upgrade_name                                                     \n",
       "Enhanced Enclosure + High Efficiency Whole Home...    12.1    6.9\n",
       "Basic Enclosure + High Efficiency Whole Home El...    12.1    7.0\n",
       "Enhanced Enclosure + HPWH + High Efficiency HP/...    12.1    7.0\n",
       "Basic Enclosure + HPWH + High Efficiency HP/Ele...    12.1    7.1\n",
       "High Efficiency Whole Home Electrification            12.1    7.7\n",
       "High Efficiency Heat Pump with Electric Heat Ba...    12.1    8.9\n",
       "Enhanced Enclosure                                    12.1   10.5\n",
       "Basic Enclosure                                       11.9   10.5\n",
       "Mininum Efficiency Heat Pump with Existing Heat...    12.1   10.9\n",
       "Heat Pump Water Heater                                12.1   11.4\n",
       "Mininum Efficiency Heat Pump with Electric Heat...    12.1   11.4\n",
       "Heat Pump Clothes Dryer                               12.8   12.6\n",
       "Induction Cooking                                     12.1   12.2\n",
       "Electric Cooking                                      11.4   11.6\n",
       "Electric Clothes Dryer                                11.0   11.2\n",
       "Mininum Efficiency Whole Home Electrification         10.1   11.0"
      ]
     },
     "metadata": {},
     "output_type": "display_data"
    },
    {
     "name": "stderr",
     "output_type": "stream",
     "text": [
      "C:\\Users\\ylou2\\AppData\\Local\\Temp\\ipykernel_12568\\4220242559.py:2: PerformanceWarning:\n",
      "\n",
      "DataFrame is highly fragmented.  This is usually the result of calling `frame.insert` many times, which has poor performance.  Consider joining all columns at once using pd.concat(axis=1) instead. To get a de-fragmented frame, use `newframe = frame.copy()`\n",
      "\n",
      "C:\\Users\\ylou2\\AppData\\Local\\Temp\\ipykernel_12568\\4220242559.py:2: PerformanceWarning:\n",
      "\n",
      "DataFrame is highly fragmented.  This is usually the result of calling `frame.insert` many times, which has poor performance.  Consider joining all columns at once using pd.concat(axis=1) instead. To get a de-fragmented frame, use `newframe = frame.copy()`\n",
      "\n",
      "C:\\Users\\ylou2\\AppData\\Local\\Temp\\ipykernel_12568\\4220242559.py:3: PerformanceWarning:\n",
      "\n",
      "DataFrame is highly fragmented.  This is usually the result of calling `frame.insert` many times, which has poor performance.  Consider joining all columns at once using pd.concat(axis=1) instead. To get a de-fragmented frame, use `newframe = frame.copy()`\n",
      "\n",
      "C:\\Users\\ylou2\\AppData\\Local\\Temp\\ipykernel_12568\\4220242559.py:3: PerformanceWarning:\n",
      "\n",
      "DataFrame is highly fragmented.  This is usually the result of calling `frame.insert` many times, which has poor performance.  Consider joining all columns at once using pd.concat(axis=1) instead. To get a de-fragmented frame, use `newframe = frame.copy()`\n",
      "\n",
      "C:\\Users\\ylou2\\AppData\\Local\\Temp\\ipykernel_12568\\4220242559.py:4: PerformanceWarning:\n",
      "\n",
      "DataFrame is highly fragmented.  This is usually the result of calling `frame.insert` many times, which has poor performance.  Consider joining all columns at once using pd.concat(axis=1) instead. To get a de-fragmented frame, use `newframe = frame.copy()`\n",
      "\n",
      "C:\\Users\\ylou2\\AppData\\Local\\Temp\\ipykernel_12568\\4220242559.py:4: PerformanceWarning:\n",
      "\n",
      "DataFrame is highly fragmented.  This is usually the result of calling `frame.insert` many times, which has poor performance.  Consider joining all columns at once using pd.concat(axis=1) instead. To get a de-fragmented frame, use `newframe = frame.copy()`\n",
      "\n"
     ]
    }
   ],
   "source": [
    "results = segment_mean_energy_burden('post-upgrade_energy_burden_2023_cbills.%', community_results) \n",
    "saving_results[[f'segment1_{income}_energy_burden_before_upgrade_%',f'segment1_{income}_energy_burden_after_upgrade_%']] = results[0]\n",
    "saving_results[[f'segment2_{income}_energy_burden_before_upgrade_%',f'segment2_{income}_energy_burden_after_upgrade_%']] = results[1]\n",
    "saving_results[[f'segment3_{income}_energy_burden_before_upgrade_%',f'segment3_{income}_energy_burden_after_upgrade_%']] = results[2]"
   ]
  },
  {
   "cell_type": "code",
   "execution_count": 245,
   "id": "e11b7cb5",
   "metadata": {},
   "outputs": [],
   "source": [
    "saving_results.to_csv(fig_dir / f'saving_results_{community}.csv')"
   ]
  },
  {
   "cell_type": "markdown",
   "id": "12292cc4",
   "metadata": {},
   "source": [
    "### Save html file"
   ]
  },
  {
   "cell_type": "code",
   "execution_count": 246,
   "id": "aaebc580",
   "metadata": {},
   "outputs": [
    {
     "name": "stderr",
     "output_type": "stream",
     "text": [
      "C:\\ProgramData\\Anaconda3\\lib\\site-packages\\traitlets\\traitlets.py:2202: FutureWarning: Supporting extra quotes around strings is deprecated in traitlets 5.0. You can use './results/jackson_county/' instead of \"'./results/jackson_county/'\" if you require traitlets >=5.\n",
      "  warn(\n",
      "[NbConvertApp] Converting notebook saving_results_reports_for_jackson_county.ipynb to html\n",
      "[NbConvertApp] Writing 948521 bytes to results\\jackson_county\\saving_results_reports_for_jackson_county.html\n"
     ]
    }
   ],
   "source": [
    "! jupyter nbconvert --output-dir='./results/jackson_county/' --to=html --no-input saving_results_reports_for_jackson_county.ipynb"
   ]
  }
 ],
 "metadata": {
  "kernelspec": {
   "display_name": "Python 3 (ipykernel)",
   "language": "python",
   "name": "python3"
  },
  "language_info": {
   "codemirror_mode": {
    "name": "ipython",
    "version": 3
   },
   "file_extension": ".py",
   "mimetype": "text/x-python",
   "name": "python",
   "nbconvert_exporter": "python",
   "pygments_lexer": "ipython3",
   "version": "3.9.13"
  }
 },
 "nbformat": 4,
 "nbformat_minor": 5
}
