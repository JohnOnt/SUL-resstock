{
 "cells": [
  {
   "cell_type": "code",
   "execution_count": 15,
   "id": "b16a5e14",
   "metadata": {},
   "outputs": [],
   "source": [
    "import pandas as pd\n",
    "from pathlib import Path"
   ]
  },
  {
   "cell_type": "code",
   "execution_count": 16,
   "id": "158c54a6",
   "metadata": {},
   "outputs": [],
   "source": [
    "community = 'lawrence'\n",
    "fig_dir = Path(\".\").resolve() / \"results\" / community\n",
    "community_results = pd.read_parquet(f\"data_/community_building_samples_with_upgrade_cost_and_bill/{community}/processed_upgrade_results_TOU.parquet\")"
   ]
  },
  {
   "cell_type": "code",
   "execution_count": 17,
   "id": "693d1644",
   "metadata": {},
   "outputs": [],
   "source": [
    "discount_rate = 0.32\n",
    "discount_list = ['0-30%', '30-60%']\n",
    "discount_item = ['baseline_cbill.electricity_usd',\n",
    "                 'baseline_cbill.natural_gas_usd',\n",
    "                 'saving_cbill.electricity_usd',\n",
    "                 'saving_cbill.natural_gas_usd']"
   ]
  },
  {
   "cell_type": "code",
   "execution_count": 18,
   "id": "64f8781b",
   "metadata": {},
   "outputs": [
    {
     "name": "stderr",
     "output_type": "stream",
     "text": [
      "C:\\Users\\ylou2\\AppData\\Local\\Temp\\1\\ipykernel_9676\\3804448515.py:4: SettingWithCopyWarning: \n",
      "A value is trying to be set on a copy of a slice from a DataFrame.\n",
      "Try using .loc[row_indexer,col_indexer] = value instead\n",
      "\n",
      "See the caveats in the documentation: https://pandas.pydata.org/pandas-docs/stable/user_guide/indexing.html#returning-a-view-versus-a-copy\n",
      "  samples_discount[f'{item}'] = samples_discount[f'{item}']*(1-0.32)\n"
     ]
    }
   ],
   "source": [
    "samples_discount = community_results.loc[community_results['build_existing_model.area_median_income'].isin(discount_list)]\n",
    "samples_others = community_results.loc[~community_results['build_existing_model.area_median_income'].isin(discount_list)]\n",
    "for item in discount_item:\n",
    "    samples_discount[f'{item}'] = samples_discount[f'{item}']*(1-0.32)\n",
    "community_results_discount = pd.concat([samples_discount, samples_others], ignore_index=True, sort=False)"
   ]
  },
  {
   "cell_type": "code",
   "execution_count": 19,
   "id": "1a8c6e06",
   "metadata": {},
   "outputs": [],
   "source": [
    "community_results_discount['baseline_cbill.total_usd'] =\\\n",
    "    community_results_discount['baseline_cbill.electricity_usd'] +\\\n",
    "    community_results_discount['baseline_cbill.natural_gas_usd'] + \\\n",
    "    community_results_discount['baseline_cbill.fuel_oil_usd'] +\\\n",
    "    community_results_discount['baseline_cbill.propane_usd']\n",
    "community_results_discount['saving_cbill.total_usd'] =\\\n",
    "    community_results_discount['saving_cbill.electricity_usd'] +\\\n",
    "    community_results_discount['saving_cbill.natural_gas_usd'] +\\\n",
    "    community_results_discount['saving_cbill.fuel_oil_usd'] +\\\n",
    "    community_results_discount['saving_cbill.propane_usd']\n",
    "community_results_discount['pct_saving_cbill.total_%'] =\\\n",
    "    community_results_discount['saving_cbill.total_usd']/community_results_discount['baseline_cbill.total_usd'] * 100\n",
    "community_results_discount['baseline_energy_burden_2023_cbills.%'] =\\\n",
    "    community_results_discount['baseline_cbill.total_usd']/community_results_discount['rep_income'] * 100\n",
    "community_results_discount['post-upgrade_energy_burden_2023_cbills.%'] =\\\n",
    "    (community_results_discount['baseline_cbill.total_usd']-community_results_discount['saving_cbill.total_usd'])/community_results_discount['rep_income'] * 100"
   ]
  },
  {
   "cell_type": "code",
   "execution_count": 20,
   "id": "322a9a03",
   "metadata": {},
   "outputs": [
    {
     "name": "stderr",
     "output_type": "stream",
     "text": [
      "C:\\Users\\ylou2\\AppData\\Roaming\\Python\\Python39\\site-packages\\pyarrow\\pandas_compat.py:373: FutureWarning: is_sparse is deprecated and will be removed in a future version. Check `isinstance(dtype, pd.SparseDtype)` instead.\n",
      "  if _pandas_api.is_sparse(col):\n"
     ]
    }
   ],
   "source": [
    "community_results_discount.to_csv(f\"data_/community_building_samples_with_upgrade_cost_and_bill/{community}/processed_upgrade_results_TOU_discount.csv\")\n",
    "community_results_discount.to_parquet(f\"data_/community_building_samples_with_upgrade_cost_and_bill/{community}/processed_upgrade_results_TOU_discount.parquet\")"
   ]
  },
  {
   "cell_type": "code",
   "execution_count": null,
   "id": "badf1d30",
   "metadata": {},
   "outputs": [],
   "source": []
  }
 ],
 "metadata": {
  "kernelspec": {
   "display_name": "Python 3 (ipykernel)",
   "language": "python",
   "name": "python3"
  },
  "language_info": {
   "codemirror_mode": {
    "name": "ipython",
    "version": 3
   },
   "file_extension": ".py",
   "mimetype": "text/x-python",
   "name": "python",
   "nbconvert_exporter": "python",
   "pygments_lexer": "ipython3",
   "version": "3.9.13"
  }
 },
 "nbformat": 4,
 "nbformat_minor": 5
}
