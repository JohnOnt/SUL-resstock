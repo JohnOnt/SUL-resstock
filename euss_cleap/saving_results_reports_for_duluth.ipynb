{
 "cells": [
  {
   "cell_type": "code",
   "execution_count": 1,
   "id": "db22b178",
   "metadata": {},
   "outputs": [],
   "source": [
    "import plotly.graph_objects as go\n",
    "from plotly.subplots import make_subplots\n",
    "import plotly.express as px\n",
    "import pandas as pd\n",
    "import numpy as np\n",
    "from pathlib import Path"
   ]
  },
  {
   "cell_type": "markdown",
   "id": "4d6ffd8b",
   "metadata": {},
   "source": [
    "# Functions"
   ]
  },
  {
   "cell_type": "code",
   "execution_count": 2,
   "id": "43654d91",
   "metadata": {},
   "outputs": [],
   "source": [
    "def weighted_mean(x, metric: str):\n",
    "    if len(x[metric].dropna()) == 0:\n",
    "        res = 0\n",
    "    else:\n",
    "        res = (x[metric] * x[\"sample_weight\"]).sum()/x[\"sample_weight\"].sum()\n",
    "    col_name = f\"{metric} wt_mean\"\n",
    "    return pd.Series({col_name: res})\n",
    "\n",
    "def weighted_percentile(x, metric: str, percents: int):\n",
    "    col_name = f\"{metric} wt_p{percents}\"\n",
    "    res = _weighted_percentile(x[metric], percents, weights=x[\"sample_weight\"])\n",
    "    return pd.Series({col_name: res})\n",
    "\n",
    "def _weighted_percentile(data, percents: int, weights=None):\n",
    "    \"\"\"\n",
    "    perc : percentile in 0 - 1\n",
    "    \"\"\"\n",
    "    # dropna\n",
    "    idx = ~np.isnan(data) & ~np.isnan(weights)\n",
    "    data = np.array(data)[idx]\n",
    "    if len(data) == 0:\n",
    "        return np.nan\n",
    "    if weights is None:\n",
    "        return np.percentile(data, percents)\n",
    "    weights = np.array(weights)[idx]\n",
    "    ix = np.argsort(data)\n",
    "    data = data[ix] # sort data\n",
    "    weights = weights[ix] # sort weights\n",
    "    cdf = (np.cumsum(weights) - 0.5 * weights) / np.sum(weights) # 'like' a CDF function\n",
    "    return np.interp(percents, cdf, data)\n",
    "\n",
    "def get_summary(df, metric, lower_percentile=0.25, upper_percentile=0.75):\n",
    "    dfgb = df.groupby([\"upgrade_name\"])\n",
    "    dfs = pd.concat([\n",
    "        dfgb[\"sample_weight\"].count().rename(\"n_samples\"),\n",
    "        dfgb[\"sample_weight\"].sum().rename(\"n_represented\"),\n",
    "        dfgb.apply(lambda x: weighted_mean(x, metric)),\n",
    "        dfgb.apply(lambda x: weighted_percentile(x, metric, percents=lower_percentile)),\n",
    "        dfgb.apply(lambda x: weighted_percentile(x, metric, percents=upper_percentile)),\n",
    "    ], axis=1)\n",
    "    dfs = dfs.sort_values(by=f\"{metric} wt_mean\", ascending=False)\n",
    "\n",
    "    return dfs"
   ]
  },
  {
   "cell_type": "markdown",
   "id": "e2c92a98",
   "metadata": {},
   "source": [
    "## Whole Community Upgrade Cost Per Dwelling Unit"
   ]
  },
  {
   "cell_type": "code",
   "execution_count": 3,
   "id": "db8bfb6a",
   "metadata": {},
   "outputs": [],
   "source": [
    "def community_mean_upgrade_cost(commnity_results):\n",
    "    results = commnity_results[['upgrade_name',\n",
    "                       'upgrade_cost_usd',\n",
    "                                'sample_weight']]\n",
    "    results = results.loc[results['upgrade_name'] != 'baseline']\n",
    "    results['upgrade_cost_usd'] = results['upgrade_cost_usd']*results['sample_weight']\n",
    "    \n",
    "    agg_functions = {'upgrade_name': 'first',\n",
    "                     'upgrade_cost_usd': 'sum',\n",
    "                    'sample_weight': 'sum'}\n",
    "    results = results.groupby(results['upgrade_name']).aggregate(agg_functions)\n",
    "    results['upgrade_cost_usd'] = results['upgrade_cost_usd']/results['sample_weight']\n",
    "    results = results.sort_values('upgrade_cost_usd')\n",
    "    results['upgrade_cost_usd'] = results['upgrade_cost_usd'].round(1) \n",
    "    \n",
    "    print('upgrade_cost_usd per dwelling unit')\n",
    "    display(results['upgrade_cost_usd'])\n",
    "    return results['upgrade_cost_usd']"
   ]
  },
  {
   "cell_type": "markdown",
   "id": "0a8130e7",
   "metadata": {},
   "source": [
    "## Whole Community Total Annual Savings"
   ]
  },
  {
   "cell_type": "code",
   "execution_count": 4,
   "id": "eaa95d01",
   "metadata": {},
   "outputs": [],
   "source": [
    "# flavor 1 - with electricity and non-electricity split\n",
    "def figure_total_savings_1(commnity_results):\n",
    "    results = commnity_results[['upgrade_name',\n",
    "                       'saving_energy.electricity_kwh',\n",
    "                      'saving_energy.natural_gas_therm',\n",
    "                                'saving_energy.fuel_oil_mmbtu',\n",
    "                                'saving_energy.propane_mmbtu',\n",
    "                       'saving_cbill.total_usd',\n",
    "                       'saving_emission.total_kgCO2e',\n",
    "                                'sample_weight']]\n",
    "    results = results.loc[results['upgrade_name'] != 'baseline']\n",
    "    results['saving_energy.natural_gas_fuel_oil_propane_mmbtu'] = results['saving_energy.natural_gas_therm']*0.1 + results['saving_energy.fuel_oil_mmbtu']+ results['saving_energy.propane_mmbtu']\n",
    "    results['saving_energy.electricity_kwh'] = results['saving_energy.electricity_kwh']*results['sample_weight']\n",
    "    results['saving_energy.natural_gas_fuel_oil_propane_mmbtu'] = results['saving_energy.natural_gas_fuel_oil_propane_mmbtu']*results['sample_weight']\n",
    "    results['saving_cbill.total_usd'] = results['saving_cbill.total_usd']*results['sample_weight']\n",
    "    results['saving_emission.total_kgCO2e'] = results['saving_emission.total_kgCO2e']*results['sample_weight']\n",
    "    \n",
    "    agg_functions = {'upgrade_name': 'first',\n",
    "                     'saving_energy.electricity_kwh': 'sum',\n",
    "                     'saving_energy.natural_gas_fuel_oil_propane_mmbtu': 'sum', \n",
    "                     'saving_cbill.total_usd': 'sum',\n",
    "                     'saving_emission.total_kgCO2e': 'sum'}\n",
    "    results = results.groupby(results['upgrade_name']).aggregate(agg_functions)\n",
    "    results = results.sort_values('saving_cbill.total_usd')\n",
    "    \n",
    "    fig = make_subplots(rows=1, cols=5, horizontal_spacing=0.12, column_widths=[0.001, 1, 1, 1, 1])\n",
    "    \n",
    "    fig.add_trace(go.Bar(\n",
    "        x=[0] * 176,\n",
    "        y=results['upgrade_name'],\n",
    "        text=None,\n",
    "        orientation='h'), row=1, col=1)\n",
    "    \n",
    "    fig.add_trace(go.Bar(\n",
    "        x=results['saving_cbill.total_usd'],\n",
    "        y=results['upgrade_name'],\n",
    "        text=results['saving_cbill.total_usd'],\n",
    "        orientation='h'), row=1, col=2)\n",
    "    \n",
    "    fig.add_trace(go.Bar(\n",
    "        x=results['saving_emission.total_kgCO2e'],\n",
    "        y=results['upgrade_name'],\n",
    "        text=results['saving_emission.total_kgCO2e'],\n",
    "        orientation='h'),row=1, col=3)\n",
    "    \n",
    "    fig.add_trace(go.Bar(\n",
    "        x=results['saving_energy.electricity_kwh'],\n",
    "        y=results['upgrade_name'],\n",
    "        text=results['saving_energy.electricity_kwh'],\n",
    "        orientation='h'),row=1, col=4)\n",
    "    \n",
    "    fig.add_trace(go.Bar(\n",
    "        x=results['saving_energy.natural_gas_fuel_oil_propane_mmbtu'],\n",
    "        y=results['upgrade_name'],\n",
    "        text=results['saving_energy.natural_gas_fuel_oil_propane_mmbtu'],\n",
    "        orientation='h'),row=1, col=5)\n",
    "\n",
    "    fig.update_traces(textfont_size=10, textangle=0, textposition=\"outside\", cliponaxis=False)\n",
    "    fig.update_traces(marker_color='rgb(0, 121, 61)', marker_line_color='rgb(0, 121, 61)')\n",
    "    fig.update_traces(marker_color='rgb(255, 255, 255)', marker_line_color='rgb(255, 255, 255)',row=1,col=1)\n",
    "    fig.update_traces(texttemplate='%{text:.3s}', textposition='outside',row=1,col=2)\n",
    "    fig.update_traces(texttemplate='%{text:.3s}', textposition='outside',row=1,col=3)\n",
    "    fig.update_traces(texttemplate='%{text:.3s}', textposition='outside',row=1,col=4)\n",
    "    fig.update_traces(texttemplate='%{text:.3s}', textposition='outside',row=1,col=5)\n",
    "    fig.update_layout(xaxis_title=\"\", xaxis_visible=False, yaxis_visible=True,\n",
    "                      xaxis2_title=\"Bill<br>Savings<br>usd\", xaxis2_visible=True, yaxis2_visible=False,\n",
    "                      xaxis3_title=\"Emission<br>Savings<br>kgCO2e\", xaxis3_visible=True, yaxis3_visible=False,\n",
    "                      xaxis4_title=\"Electricity<br>Savings<br>kwh\", xaxis4_visible=True, yaxis4_visible=False,\n",
    "                      xaxis5_title=\"Gas, Propane,<br>Fuel Oil Savings<br>mmbtu\", xaxis5_visible=True, yaxis5_visible=False,\n",
    "                     title='Total Annual Savings for the Whole Community')\n",
    "    fig.update_layout(\n",
    "    autosize=False,\n",
    "    width=900,\n",
    "    height=500,\n",
    "    font=dict(size=10),\n",
    "    plot_bgcolor='rgba(0, 0, 0, 0)',)\n",
    "    fig.update_xaxes(tickangle=45)\n",
    "    fig.update_layout(showlegend=False)\n",
    "    \n",
    "    fig.show()\n",
    "    fig.write_image(fig_dir / 'total_annual_savings_1.svg')    \n",
    "\n",
    "# flavor 2 - site, electricity, and non-electricity\n",
    "def figure_total_savings_2(commnity_results):\n",
    "    results = commnity_results[[\n",
    "        'upgrade_name',\n",
    "        'saving_energy.total_mmbtu',\n",
    "        'saving_energy.electricity_kwh',\n",
    "        'saving_energy.natural_gas_therm',\n",
    "        'saving_energy.fuel_oil_mmbtu',\n",
    "        'saving_energy.propane_mmbtu',\n",
    "        'saving_cbill.total_usd',\n",
    "        'saving_emission.total_kgCO2e',\n",
    "        'sample_weight']]\n",
    "    results = results.loc[results['upgrade_name'] != 'baseline']\n",
    "    results['saving_energy.natural_gas_fuel_oil_propane_mmbtu'] = results['saving_energy.natural_gas_therm']*0.1 + results['saving_energy.fuel_oil_mmbtu']+ results['saving_energy.propane_mmbtu']\n",
    "    results['saving_energy.electricity_kwh'] = results['saving_energy.electricity_kwh']*results['sample_weight']\n",
    "    results['saving_energy.natural_gas_fuel_oil_propane_mmbtu'] = results['saving_energy.natural_gas_fuel_oil_propane_mmbtu']*results['sample_weight']\n",
    "    results['saving_cbill.total_usd'] = results['saving_cbill.total_usd']*results['sample_weight']\n",
    "    results['saving_emission.total_kgCO2e'] = results['saving_emission.total_kgCO2e']*results['sample_weight']\n",
    "    \n",
    "    agg_functions = {'upgrade_name': 'first',\n",
    "                     'saving_energy.electricity_kwh': 'sum',\n",
    "                     'saving_energy.natural_gas_fuel_oil_propane_mmbtu': 'sum', \n",
    "                      'saving_energy.total_mmbtu': 'sum', \n",
    "                     'saving_cbill.total_usd': 'sum',\n",
    "                     'saving_emission.total_kgCO2e': 'sum'}\n",
    "    results = results.groupby(results['upgrade_name']).aggregate(agg_functions)\n",
    "    results = results.sort_values('saving_cbill.total_usd')\n",
    "    \n",
    "    fig = make_subplots(rows=1, cols=6, horizontal_spacing=0.12, column_widths=[0.001, 1, 1, 1, 1, 1])\n",
    "    \n",
    "    fig.add_trace(go.Bar(\n",
    "        x=[0] * 176,\n",
    "        y=results['upgrade_name'],\n",
    "        text=None,\n",
    "        orientation='h'), row=1, col=1)\n",
    "    \n",
    "    fig.add_trace(go.Bar(\n",
    "        x=results['saving_cbill.total_usd'],\n",
    "        y=results['upgrade_name'],\n",
    "        text=results['saving_cbill.total_usd'],\n",
    "        orientation='h'), row=1, col=2)\n",
    "    \n",
    "    fig.add_trace(go.Bar(\n",
    "        x=results['saving_emission.total_kgCO2e'],\n",
    "        y=results['upgrade_name'],\n",
    "        text=results['saving_emission.total_kgCO2e'],\n",
    "        orientation='h'),row=1, col=3)\n",
    "\n",
    "    fig.add_trace(go.Bar(\n",
    "        x=results['saving_energy.total_mmbtu'],\n",
    "        y=results['upgrade_name'],\n",
    "        text=results['saving_energy.total_mmbtu'],\n",
    "        orientation='h'),row=1, col=4)\n",
    "    \n",
    "    fig.add_trace(go.Bar(\n",
    "        x=results['saving_energy.electricity_kwh'],\n",
    "        y=results['upgrade_name'],\n",
    "        text=results['saving_energy.electricity_kwh'],\n",
    "        orientation='h'),row=1, col=5)\n",
    "    \n",
    "    fig.add_trace(go.Bar(\n",
    "        x=results['saving_energy.natural_gas_fuel_oil_propane_mmbtu'],\n",
    "        y=results['upgrade_name'],\n",
    "        text=results['saving_energy.natural_gas_fuel_oil_propane_mmbtu'],\n",
    "        orientation='h'),row=1, col=6)\n",
    "\n",
    "    fig.update_traces(textfont_size=10, textangle=0, textposition=\"outside\", cliponaxis=False)\n",
    "    fig.update_traces(marker_color='rgb(0, 121, 61)', marker_line_color='rgb(0, 121, 61)')\n",
    "    fig.update_traces(marker_color='rgb(255, 255, 255)', marker_line_color='rgb(255, 255, 255)',row=1,col=1)\n",
    "    fig.update_traces(texttemplate='%{text:.3s}', textposition='outside',row=1,col=2)\n",
    "    fig.update_traces(texttemplate='%{text:.3s}', textposition='outside',row=1,col=3)\n",
    "    fig.update_traces(texttemplate='%{text:.3s}', textposition='outside',row=1,col=4)\n",
    "    fig.update_traces(texttemplate='%{text:.3s}', textposition='outside',row=1,col=5)\n",
    "    fig.update_traces(texttemplate='%{text:.3s}', textposition='outside',row=1,col=6)\n",
    "    fig.update_layout(xaxis_title=\"\", xaxis_visible=False, yaxis_visible=True,\n",
    "                      xaxis2_title=\"Bill<br>Savings<br>usd\", xaxis2_visible=True, yaxis2_visible=False,\n",
    "                      xaxis3_title=\"Site Emission<br>Saving<br>kgCO2e\", xaxis3_visible=True, yaxis3_visible=False,\n",
    "                      xaxis4_title=\"Site Energy<br>Saving<br>mmbtu\", xaxis4_visible=True, yaxis4_visible=False,\n",
    "                      xaxis5_title=\"Electricity<br>Saving<br>kwh\", xaxis5_visible=True, yaxis5_visible=False,\n",
    "                      xaxis6_title=\"Gas, Propane,<br>Fuel Oil Saving<br>mmbtu\", xaxis6_visible=True, yaxis6_visible=False,\n",
    "                     title='Community Total Annual Savings')\n",
    "    fig.update_layout(\n",
    "    autosize=False,\n",
    "    width=1100,\n",
    "    height=500,\n",
    "    font=dict(size=10),\n",
    "    plot_bgcolor='rgba(0, 0, 0, 0)',)\n",
    "    fig.update_xaxes(tickangle=45)\n",
    "    fig.update_layout(showlegend=False)\n",
    "    \n",
    "    fig.show()\n",
    "    fig.write_image(fig_dir / 'total_annual_savings_2.svg')\n",
    "    \n",
    "    return results[['saving_cbill.total_usd','saving_emission.total_kgCO2e','saving_energy.total_mmbtu','saving_energy.electricity_kwh','saving_energy.natural_gas_fuel_oil_propane_mmbtu']]\n",
    "\n",
    "# flavor 3 - site energy only\n",
    "def figure_total_savings_3(commnity_results):\n",
    "    results = commnity_results[[\n",
    "        'upgrade_name',\n",
    "        'saving_energy.total_mmbtu',\n",
    "        'saving_cbill.total_usd',\n",
    "        'saving_emission.total_kgCO2e',\n",
    "        'sample_weight']]\n",
    "    results = results.loc[results['upgrade_name'] != 'baseline']\n",
    "    results['saving_energy.total_mmbtu'] = results['saving_energy.total_mmbtu']*results['sample_weight']\n",
    "    results['saving_cbill.total_usd'] = results['saving_cbill.total_usd']*results['sample_weight']\n",
    "    results['saving_emission.total_kgCO2e'] = results['saving_emission.total_kgCO2e']*results['sample_weight']\n",
    "    \n",
    "    agg_functions = {'upgrade_name': 'first',\n",
    "                     'saving_energy.total_mmbtu': 'sum', \n",
    "                     'saving_cbill.total_usd': 'sum',\n",
    "                     'saving_emission.total_kgCO2e': 'sum'}\n",
    "    results = results.groupby(results['upgrade_name']).aggregate(agg_functions)\n",
    "    results = results.sort_values('saving_cbill.total_usd')\n",
    "    \n",
    "    fig = make_subplots(rows=1, cols=4, horizontal_spacing=0.1, column_widths=[0.02, 1, 1, 1])\n",
    "    \n",
    "    fig.add_trace(go.Bar(\n",
    "        x=[0] * 176,\n",
    "        y=results['upgrade_name'],\n",
    "        text=None,\n",
    "        orientation='h'), row=1, col=1)\n",
    "    \n",
    "    fig.add_trace(go.Bar(\n",
    "        x=results['saving_cbill.total_usd'],\n",
    "        y=results['upgrade_name'],\n",
    "        text=results['saving_cbill.total_usd'],\n",
    "        orientation='h'), row=1, col=2)\n",
    "    \n",
    "    fig.add_trace(go.Bar(\n",
    "        x=results['saving_emission.total_kgCO2e'],\n",
    "        y=results['upgrade_name'],\n",
    "        text=results['saving_emission.total_kgCO2e'],\n",
    "        orientation='h'),row=1, col=3)\n",
    "    \n",
    "    fig.add_trace(go.Bar(\n",
    "        x=results['saving_energy.total_mmbtu'],\n",
    "        y=results['upgrade_name'],\n",
    "        text=results['saving_energy.total_mmbtu'],\n",
    "        orientation='h'),row=1, col=4)\n",
    "\n",
    "    fig.update_traces(textfont_size=10, textangle=0, textposition=\"outside\", cliponaxis=False)\n",
    "    fig.update_traces(marker_color='rgb(0, 121, 61)', marker_line_color='rgb(0, 121, 61)')\n",
    "    fig.update_traces(marker_color='rgb(255, 255, 255)', marker_line_color='rgb(255, 255, 255)',row=1,col=1)\n",
    "    fig.update_traces(texttemplate='%{text:.3s}', textposition='outside',row=1,col=2)\n",
    "    fig.update_traces(texttemplate='%{text:.3s}', textposition='outside',row=1,col=3)\n",
    "    fig.update_traces(texttemplate='%{text:.3s}', textposition='outside',row=1,col=4)\n",
    "    fig.update_layout(xaxis_title=\"\", xaxis_visible=False, yaxis_visible=True,\n",
    "                      xaxis2_title=\"Bill Savings<br>usd\", xaxis2_visible=True, yaxis2_visible=False,\n",
    "                      xaxis3_title=\"Emission Savings<br>kgCO2e\", xaxis3_visible=True, yaxis3_visible=False,\n",
    "                      xaxis4_title=\"Energy Savings<br>mmbtu\", xaxis4_visible=True, yaxis4_visible=False,\n",
    "                     title='Total Annual Savings for the Whole Community')\n",
    "    fig.update_layout(\n",
    "    autosize=False,\n",
    "    width=850,\n",
    "    height=500,\n",
    "    font=dict(size=10),\n",
    "    plot_bgcolor='rgba(0, 0, 0, 0)',)\n",
    "    fig.update_xaxes(tickangle=45)\n",
    "    fig.update_layout(showlegend=False)\n",
    "    \n",
    "    fig.show()\n",
    "    fig.write_image(fig_dir / 'total_annual_savings_3.svg')"
   ]
  },
  {
   "cell_type": "markdown",
   "id": "5e598a0f",
   "metadata": {},
   "source": [
    "## Whole Community Annual Savings Per Dewlling Unit"
   ]
  },
  {
   "cell_type": "code",
   "execution_count": 5,
   "id": "7df58f8e",
   "metadata": {},
   "outputs": [],
   "source": [
    "def figure_mean_savings(commnity_results):\n",
    "    results = commnity_results[['upgrade_name',\n",
    "                       'saving_energy.total_mmbtu',\n",
    "                       'saving_cbill.total_usd',\n",
    "                       'saving_emission.total_kgCO2e',\n",
    "                                'sample_weight']]\n",
    "    results = results.loc[results['upgrade_name'] != 'baseline']\n",
    "    results['saving_energy.total_mmbtu'] = results['saving_energy.total_mmbtu']*results['sample_weight']\n",
    "    results['saving_cbill.total_usd'] = results['saving_cbill.total_usd']*results['sample_weight']\n",
    "    results['saving_emission.total_kgCO2e'] = results['saving_emission.total_kgCO2e']*results['sample_weight']\n",
    "    \n",
    "    agg_functions = {'upgrade_name': 'first',\n",
    "                     'saving_energy.total_mmbtu': 'sum', \n",
    "                     'saving_cbill.total_usd': 'sum',\n",
    "                     'saving_emission.total_kgCO2e': 'sum',\n",
    "                    'sample_weight': 'sum'}\n",
    "    results = results.groupby(results['upgrade_name']).aggregate(agg_functions)\n",
    "    results['saving_energy.total_mmbtu'] = results['saving_energy.total_mmbtu']/results['sample_weight']\n",
    "    results['saving_cbill.total_usd'] = results['saving_cbill.total_usd']/results['sample_weight']\n",
    "    results['saving_emission.total_kgCO2e'] = results['saving_emission.total_kgCO2e']/results['sample_weight']\n",
    "    results = results.sort_values('saving_cbill.total_usd')\n",
    "    \n",
    "    print('sample_weight')\n",
    "    display(results['sample_weight'])\n",
    "  \n",
    "    fig = make_subplots(rows=1, cols=4, horizontal_spacing=0.1, column_widths=[0.02, 1, 1, 1])\n",
    "    \n",
    "    fig.add_trace(go.Bar(\n",
    "        x=[0] * 176,\n",
    "        y=results['upgrade_name'],\n",
    "        text=None,\n",
    "        orientation='h'), row=1, col=1)\n",
    "    \n",
    "    fig.add_trace(go.Bar(\n",
    "        x=results['saving_cbill.total_usd'],\n",
    "        y=results['upgrade_name'],\n",
    "        text=results['saving_cbill.total_usd'],\n",
    "        orientation='h'), row=1, col=2)\n",
    "    \n",
    "    fig.add_trace(go.Bar(\n",
    "        x=results['saving_emission.total_kgCO2e'],\n",
    "        y=results['upgrade_name'],\n",
    "        text=results['saving_emission.total_kgCO2e'],\n",
    "        orientation='h'),row=1, col=3)\n",
    "    \n",
    "    fig.add_trace(go.Bar(\n",
    "        x=results['saving_energy.total_mmbtu'],\n",
    "        y=results['upgrade_name'],\n",
    "        text=results['saving_energy.total_mmbtu'],\n",
    "        orientation='h'),row=1, col=4)\n",
    "\n",
    "    fig.update_traces(textfont_size=10, textangle=0, textposition=\"outside\", cliponaxis=False)\n",
    "    fig.update_traces(marker_color='rgb(0, 121, 61)', marker_line_color='rgb(0, 121, 61)')\n",
    "    fig.update_traces(marker_color='rgb(255, 255, 255)', marker_line_color='rgb(255, 255, 255)',row=1,col=1)\n",
    "    fig.update_traces(texttemplate='%{text:.3s}', textposition='outside',row=1,col=2)\n",
    "    fig.update_traces(texttemplate='%{text:.3s}', textposition='outside',row=1,col=3)\n",
    "    fig.update_traces(texttemplate='%{text:.3s}', textposition='outside',row=1,col=4)\n",
    "    fig.update_layout(xaxis_title=\"\", xaxis_visible=False, yaxis_visible=True,\n",
    "                      xaxis2_title=\"Bill Savings<br>usd\", xaxis2_visible=True, yaxis2_visible=False,\n",
    "                      xaxis3_title=\"Emission Savings<br>kgCO2e\", xaxis3_visible=True, yaxis3_visible=False,\n",
    "                      xaxis4_title=\"Energy Savings<br>mmbtu\", xaxis4_visible=True, yaxis4_visible=False,\n",
    "                     title='Annual Savings Per Dwelling Unit')\n",
    "    fig.update_layout(\n",
    "    autosize=False,\n",
    "    width=850,\n",
    "    height=500,\n",
    "    font=dict(size=10),\n",
    "    plot_bgcolor='rgba(0, 0, 0, 0)',)\n",
    "    fig.update_xaxes(tickangle=45)\n",
    "    fig.update_layout(showlegend=False)\n",
    "    \n",
    "    fig.show()\n",
    "    fig.write_image(fig_dir / 'annual_saving_per_dwelling_unit.svg')\n",
    "    \n",
    "    return results[['saving_cbill.total_usd','saving_emission.total_kgCO2e','saving_energy.total_mmbtu']]"
   ]
  },
  {
   "cell_type": "markdown",
   "id": "629953b2",
   "metadata": {},
   "source": [
    "## Segment Upgrade Cost Per Dwelling Unit"
   ]
  },
  {
   "cell_type": "code",
   "execution_count": 6,
   "id": "b17b036c",
   "metadata": {},
   "outputs": [],
   "source": [
    "def segment_mean_upgrade_cost(commnity_results):\n",
    "    results = commnity_results[['upgrade_name',\n",
    "                       'upgrade_cost_usd',\n",
    "                                'sample_weight',\n",
    "                                'segment']]\n",
    "    results = results.loc[results['upgrade_name'] != 'baseline']\n",
    "    results['upgrade_cost_usd'] = results['upgrade_cost_usd']*results['sample_weight']\n",
    "    \n",
    "    segment1 = results.loc[results['segment'] == 'segment1']\n",
    "    segment2 = results.loc[results['segment'] == 'segment2']\n",
    "    segment3 = results.loc[results['segment'] == 'segment3']\n",
    "    segment4 = results.loc[results['segment'] == 'segment4']\n",
    "    segment5 = results.loc[results['segment'] == 'segment5']\n",
    "    \n",
    "    agg_functions = {'upgrade_name': 'first',\n",
    "                     'segment': 'first',\n",
    "                     'upgrade_cost_usd': 'sum',\n",
    "                    'sample_weight': 'sum'}\n",
    "    \n",
    "    segment1 = segment1.groupby(segment1['upgrade_name']).aggregate(agg_functions)\n",
    "    segment2 = segment2.groupby(segment2['upgrade_name']).aggregate(agg_functions)\n",
    "    segment3 = segment3.groupby(segment3['upgrade_name']).aggregate(agg_functions)\n",
    "    segment4 = segment4.groupby(segment4['upgrade_name']).aggregate(agg_functions)\n",
    "    segment5 = segment5.groupby(segment5['upgrade_name']).aggregate(agg_functions)\n",
    "    \n",
    "    segment1['upgrade_cost_usd'] = segment1['upgrade_cost_usd']/segment1['sample_weight']\n",
    "    segment2['upgrade_cost_usd'] = segment2['upgrade_cost_usd']/segment2['sample_weight']\n",
    "    segment3['upgrade_cost_usd'] = segment3['upgrade_cost_usd']/segment3['sample_weight']\n",
    "    segment4['upgrade_cost_usd'] = segment4['upgrade_cost_usd']/segment4['sample_weight']\n",
    "    segment5['upgrade_cost_usd'] = segment5['upgrade_cost_usd']/segment5['sample_weight']\n",
    "    \n",
    "    segment1 = segment1.sort_values('upgrade_cost_usd')\n",
    "    segment2 = segment2.sort_values('upgrade_cost_usd')\n",
    "    segment3 = segment3.sort_values('upgrade_cost_usd')\n",
    "    segment4 = segment4.sort_values('upgrade_cost_usd')\n",
    "    segment5 = segment5.sort_values('upgrade_cost_usd')\n",
    "    \n",
    "    segment1['upgrade_cost_usd'] = segment1['upgrade_cost_usd'].round(1)\n",
    "    segment2['upgrade_cost_usd'] = segment2['upgrade_cost_usd'].round(1)\n",
    "    segment3['upgrade_cost_usd'] = segment3['upgrade_cost_usd'].round(1)\n",
    "    segment4['upgrade_cost_usd'] = segment4['upgrade_cost_usd'].round(1)\n",
    "    segment5['upgrade_cost_usd'] = segment5['upgrade_cost_usd'].round(1)\n",
    "    \n",
    "    print('segment1: upgrade cost (usd) per dwelling unit')\n",
    "    display(segment1['upgrade_cost_usd'])\n",
    "    print('segment2: upgrade cost (usd) per dwelling unit')\n",
    "    display(segment2['upgrade_cost_usd'])\n",
    "    print('segment3: upgrade cost (usd) per dwelling unit')\n",
    "    display(segment3['upgrade_cost_usd'])\n",
    "    print('segment4: upgrade cost (usd) per dwelling unit')\n",
    "    display(segment4['upgrade_cost_usd'])\n",
    "    print('segment5: upgrade cost (usd) per dwelling unit')\n",
    "    display(segment5['upgrade_cost_usd'])\n",
    "    return (segment1['upgrade_cost_usd'], segment2['upgrade_cost_usd'], segment3['upgrade_cost_usd'], segment4['upgrade_cost_usd'], segment5['upgrade_cost_usd'])"
   ]
  },
  {
   "cell_type": "markdown",
   "id": "2233e9eb",
   "metadata": {},
   "source": [
    "## Segment Savings Per Dollar Invested"
   ]
  },
  {
   "cell_type": "code",
   "execution_count": 7,
   "id": "b63f0b29",
   "metadata": {},
   "outputs": [],
   "source": [
    "def segment_savings_per_dollar(indicator, commnity_results):\n",
    "    \n",
    "    results = commnity_results[['upgrade_name', indicator, 'upgrade_cost_usd', 'sample_weight', 'segment']]\n",
    "    results = results.loc[results['upgrade_name'] != 'baseline']\n",
    "    results[indicator] = results[indicator]*results['sample_weight']\n",
    "    results['upgrade_cost_usd'] = results['upgrade_cost_usd']*results['sample_weight']\n",
    "    \n",
    "    segment1 = results.loc[results['segment'] == 'segment1']\n",
    "    segment2 = results.loc[results['segment'] == 'segment2']\n",
    "    segment3 = results.loc[results['segment'] == 'segment3']\n",
    "    segment4 = results.loc[results['segment'] == 'segment4']\n",
    "    segment5 = results.loc[results['segment'] == 'segment5']\n",
    "    \n",
    "    agg_functions = {'upgrade_name': 'first',\n",
    "                     indicator: 'sum',\n",
    "                     'upgrade_cost_usd': 'sum',\n",
    "                     'sample_weight': 'sum'}\n",
    "    \n",
    "    segment1_agg = segment1.groupby(segment1['upgrade_name']).aggregate(agg_functions)\n",
    "    segment2_agg = segment2.groupby(segment2['upgrade_name']).aggregate(agg_functions)\n",
    "    segment3_agg = segment3.groupby(segment3['upgrade_name']).aggregate(agg_functions)\n",
    "    segment4_agg = segment4.groupby(segment4['upgrade_name']).aggregate(agg_functions)\n",
    "    segment5_agg = segment5.groupby(segment5['upgrade_name']).aggregate(agg_functions)\n",
    "    \n",
    "    segment1_agg[indicator] = segment1_agg[indicator]/segment1_agg['upgrade_cost_usd']\n",
    "    segment2_agg[indicator] = segment2_agg[indicator]/segment2_agg['upgrade_cost_usd']\n",
    "    segment3_agg[indicator] = segment3_agg[indicator]/segment3_agg['upgrade_cost_usd']\n",
    "    segment4_agg[indicator] = segment4_agg[indicator]/segment4_agg['upgrade_cost_usd']\n",
    "    segment5_agg[indicator] = segment5_agg[indicator]/segment5_agg['upgrade_cost_usd']\n",
    "    \n",
    "    segment1_agg = segment1_agg.sort_values([indicator], ascending=False)\n",
    "    segment2_agg = segment2_agg.sort_values([indicator], ascending=False)\n",
    "    segment3_agg = segment3_agg.sort_values([indicator], ascending=False)\n",
    "    segment4_agg = segment4_agg.sort_values([indicator], ascending=False)\n",
    "    segment5_agg = segment5_agg.sort_values([indicator], ascending=False)\n",
    "    \n",
    "    segment1_agg[indicator] = segment1_agg[indicator].round(5)\n",
    "    segment2_agg[indicator] = segment2_agg[indicator].round(5)\n",
    "    segment3_agg[indicator] = segment3_agg[indicator].round(5)\n",
    "    segment4_agg[indicator] = segment4_agg[indicator].round(5)\n",
    "    segment5_agg[indicator] = segment5_agg[indicator].round(5)\n",
    "    \n",
    "    print('segment1')\n",
    "    display(segment1_agg[indicator])\n",
    "    print('segment2')\n",
    "    display(segment2_agg[indicator])\n",
    "    print('segment3')\n",
    "    display(segment3_agg[indicator])\n",
    "    print('segment4')\n",
    "    display(segment4_agg[indicator]) \n",
    "    print('segment5')\n",
    "    display(segment5_agg[indicator]) \n",
    "    \n",
    "    return (segment1_agg[indicator],segment2_agg[indicator],segment3_agg[indicator],segment4_agg[indicator],segment5_agg[indicator])"
   ]
  },
  {
   "cell_type": "markdown",
   "id": "4578ff09",
   "metadata": {},
   "source": [
    "## Segment Annual Total Savings"
   ]
  },
  {
   "cell_type": "code",
   "execution_count": 8,
   "id": "f1de1889",
   "metadata": {},
   "outputs": [],
   "source": [
    "def segment_annual_total_savings(indicator, commnity_results):\n",
    "    \n",
    "    results = commnity_results[['upgrade_name', indicator, 'sample_weight', 'segment']]\n",
    "    results = results.loc[results['upgrade_name'] != 'baseline']\n",
    "    results[indicator] = results[indicator]*results['sample_weight']\n",
    "    \n",
    "    segment1 = results.loc[results['segment'] == 'segment1']\n",
    "    segment2 = results.loc[results['segment'] == 'segment2']\n",
    "    segment3 = results.loc[results['segment'] == 'segment3']\n",
    "    segment4 = results.loc[results['segment'] == 'segment4']\n",
    "    segment5 = results.loc[results['segment'] == 'segment5']\n",
    "    \n",
    "    agg_functions = {'upgrade_name': 'first',\n",
    "                     indicator: 'sum',\n",
    "                    'sample_weight': 'sum'}\n",
    "    \n",
    "    segment1_agg = segment1.groupby(segment1['upgrade_name']).aggregate(agg_functions)\n",
    "    segment2_agg = segment2.groupby(segment2['upgrade_name']).aggregate(agg_functions)\n",
    "    segment3_agg = segment3.groupby(segment3['upgrade_name']).aggregate(agg_functions)\n",
    "    segment4_agg = segment4.groupby(segment4['upgrade_name']).aggregate(agg_functions)\n",
    "    segment5_agg = segment5.groupby(segment5['upgrade_name']).aggregate(agg_functions)\n",
    "    \n",
    "    segment1_agg = segment1_agg.sort_values([indicator], ascending=False)\n",
    "    segment2_agg = segment2_agg.sort_values([indicator], ascending=False)\n",
    "    segment3_agg = segment3_agg.sort_values([indicator], ascending=False)\n",
    "    segment4_agg = segment4_agg.sort_values([indicator], ascending=False)\n",
    "    segment5_agg = segment5_agg.sort_values([indicator], ascending=False)\n",
    "    \n",
    "    segment1_agg[indicator] = segment1_agg[indicator].round(1)\n",
    "    segment2_agg[indicator] = segment2_agg[indicator].round(1)\n",
    "    segment3_agg[indicator] = segment3_agg[indicator].round(1)\n",
    "    segment4_agg[indicator] = segment4_agg[indicator].round(1)\n",
    "    segment5_agg[indicator] = segment5_agg[indicator].round(1)\n",
    "\n",
    "    print('segment1')\n",
    "    display(segment1_agg[indicator])\n",
    "    print('segment2')\n",
    "    display(segment2_agg[indicator])\n",
    "    print('segment3')\n",
    "    display(segment3_agg[indicator])\n",
    "    print('segment4')\n",
    "    display(segment4_agg[indicator])\n",
    "    print('segment5')\n",
    "    display(segment5_agg[indicator])\n",
    "    \n",
    "    return (segment1_agg[indicator],segment2_agg[indicator],segment3_agg[indicator],segment4_agg[indicator],segment5_agg[indicator])"
   ]
  },
  {
   "cell_type": "markdown",
   "id": "102d90f1",
   "metadata": {},
   "source": [
    "## Segment Annual Savings Per Dwelling Unit"
   ]
  },
  {
   "cell_type": "code",
   "execution_count": 9,
   "id": "6b74793b",
   "metadata": {},
   "outputs": [],
   "source": [
    "def segment_mean_savings(indicator, commnity_results):\n",
    "    \n",
    "    results = commnity_results[['upgrade_name', indicator, 'sample_weight', 'segment']]\n",
    "    results = results.loc[results['upgrade_name'] != 'baseline']\n",
    "    results[indicator] = results[indicator]*results['sample_weight']\n",
    "    \n",
    "    segment1 = results.loc[results['segment'] == 'segment1']\n",
    "    segment2 = results.loc[results['segment'] == 'segment2']\n",
    "    segment3 = results.loc[results['segment'] == 'segment3']\n",
    "    segment4 = results.loc[results['segment'] == 'segment4']\n",
    "    segment5 = results.loc[results['segment'] == 'segment5']\n",
    "    \n",
    "    agg_functions = {'upgrade_name': 'first',\n",
    "                     indicator: 'sum',\n",
    "                    'sample_weight': 'sum'}\n",
    "    \n",
    "    segment1_agg = segment1.groupby(segment1['upgrade_name']).aggregate(agg_functions)\n",
    "    segment2_agg = segment2.groupby(segment2['upgrade_name']).aggregate(agg_functions)\n",
    "    segment3_agg = segment3.groupby(segment3['upgrade_name']).aggregate(agg_functions)\n",
    "    segment4_agg = segment4.groupby(segment4['upgrade_name']).aggregate(agg_functions)\n",
    "    segment5_agg = segment5.groupby(segment5['upgrade_name']).aggregate(agg_functions)\n",
    "    \n",
    "    segment1_agg[indicator] = segment1_agg[indicator]/segment1_agg['sample_weight']\n",
    "    segment2_agg[indicator] = segment2_agg[indicator]/segment2_agg['sample_weight']\n",
    "    segment3_agg[indicator] = segment3_agg[indicator]/segment3_agg['sample_weight']\n",
    "    segment4_agg[indicator] = segment4_agg[indicator]/segment4_agg['sample_weight']\n",
    "    segment5_agg[indicator] = segment5_agg[indicator]/segment5_agg['sample_weight']\n",
    "    \n",
    "    segment1_agg = segment1_agg.sort_values([indicator], ascending=False)\n",
    "    segment2_agg = segment2_agg.sort_values([indicator], ascending=False)\n",
    "    segment3_agg = segment3_agg.sort_values([indicator], ascending=False)\n",
    "    segment4_agg = segment4_agg.sort_values([indicator], ascending=False)\n",
    "    segment5_agg = segment5_agg.sort_values([indicator], ascending=False)\n",
    "    \n",
    "    segment1_agg[indicator] = segment1_agg[indicator].round(1)\n",
    "    segment2_agg[indicator] = segment2_agg[indicator].round(1)\n",
    "    segment3_agg[indicator] = segment3_agg[indicator].round(1)\n",
    "    segment4_agg[indicator] = segment4_agg[indicator].round(1)\n",
    "    segment5_agg[indicator] = segment5_agg[indicator].round(1)\n",
    "    \n",
    "    print('segment1')\n",
    "    display(segment1_agg[indicator])\n",
    "    print('segment2')\n",
    "    display(segment2_agg[indicator])\n",
    "    print('segment3')\n",
    "    display(segment3_agg[indicator])\n",
    "    print('segment4')\n",
    "    display(segment4_agg[indicator])\n",
    "    print('segment5')\n",
    "    display(segment5_agg[indicator])\n",
    "    \n",
    "    return (segment1_agg[indicator],segment2_agg[indicator],segment3_agg[indicator],segment4_agg[indicator],segment5_agg[indicator])"
   ]
  },
  {
   "cell_type": "markdown",
   "id": "4e3a051b",
   "metadata": {},
   "source": [
    "## Segment Percent Stock with Net Positive Savings"
   ]
  },
  {
   "cell_type": "code",
   "execution_count": 10,
   "id": "862cf0d7",
   "metadata": {},
   "outputs": [],
   "source": [
    "def figure_positive_negative_savings(segment, commnity_results):\n",
    "    results = commnity_results[['upgrade_name',\n",
    "                                  'saving_energy.total_mmbtu',\n",
    "                                  'saving_cbill.total_usd',\n",
    "                                  'saving_emission.total_kgCO2e',\n",
    "                                'sample_weight',\n",
    "                               'segment']]\n",
    "    results = results.loc[results['upgrade_name'] != 'baseline']\n",
    "    results = results.loc[results['segment'] == segment]\n",
    "    results = results.groupby(results['upgrade_name'])\n",
    "  \n",
    "    def pos(col): \n",
    "      return col[col > 0].count()\n",
    "  \n",
    "    def neg(col): \n",
    "      return col[col < 0].count() \n",
    "\n",
    "    percentage = pd.DataFrame()\n",
    "\n",
    "    bill = results['saving_cbill.total_usd'].agg([('negative_values', neg),('positive_values', pos)])\n",
    "    emission = results['saving_emission.total_kgCO2e'].agg([('negative_values', neg),('positive_values', pos)])\n",
    "    energy = results['saving_energy.total_mmbtu'].agg([('negative_values', neg),('positive_values', pos)])\n",
    "    \n",
    "    percentage ['cbill_n'] = bill['negative_values']/(bill['negative_values']+bill['positive_values'])\n",
    "    percentage ['cbill_p'] = bill['positive_values']/(bill['negative_values']+bill['positive_values'])\n",
    "    percentage ['emission_n'] = emission['negative_values']/(emission['negative_values']+emission['positive_values'])\n",
    "    percentage ['emission_p'] = emission['positive_values']/(emission['negative_values']+emission['positive_values'])\n",
    "    percentage ['energy_n'] = energy['negative_values']/(energy['negative_values']+energy['positive_values'])\n",
    "    percentage ['energy_p'] = energy['positive_values']/(energy['negative_values']+energy['positive_values'])\n",
    "    \n",
    "    \n",
    "    percentage = percentage.sort_values(('cbill_p'))\n",
    "    upgrade_name = percentage.index\n",
    "    \n",
    "    fig = make_subplots(rows=1, cols=3)\n",
    "    marker1= dict(color='red')\n",
    "    marker2= dict(color='green')\n",
    "    \n",
    "    fig.add_bar(y=upgrade_name, x=percentage ['cbill_n'], text=percentage ['cbill_n'],\n",
    "                orientation='h',name = \"Negative\",row=1, col=1, marker=marker1)\n",
    "    fig.add_bar(y=upgrade_name, x=percentage ['cbill_p'],text=percentage ['cbill_p'],\n",
    "                orientation='h', name = \"Positive\", row=1, col=1, marker=marker2)\n",
    "    \n",
    "    fig.add_bar(y=upgrade_name, x=percentage ['emission_n'], text=percentage ['emission_n'],\n",
    "                orientation='h',showlegend=False, row=1, col=2, marker=marker1)\n",
    "    fig.add_bar(y=upgrade_name, x=percentage ['emission_p'],text=percentage ['emission_p'],\n",
    "                orientation='h', showlegend=False, row=1, col=2, marker=marker2)\n",
    "    \n",
    "    fig.add_bar(y=upgrade_name, x=percentage ['energy_n'],text=percentage ['energy_n'],\n",
    "                orientation='h',showlegend=False, row=1, col=3, marker=marker1)\n",
    "    fig.add_bar(y=upgrade_name, x=percentage ['energy_p'],text=percentage ['energy_p'],\n",
    "                orientation='h', showlegend=False, row=1, col=3, marker=marker2)\n",
    "   \n",
    "  \n",
    "    fig.update_layout(barmode=\"relative\")\n",
    "    fig.update_traces(texttemplate='%{text:.0%}', textposition='inside')\n",
    "    \n",
    "    fig.update_layout(xaxis_title=\"Bill\", xaxis_visible=True, yaxis_visible=True,\n",
    "                      xaxis2_title=\"Emission\", xaxis2_visible=True, yaxis2_visible=False,\n",
    "                      xaxis3_title=\"Total Energy\", xaxis3_visible=True, yaxis3_visible=False,\n",
    "                      font=dict(size=10))\n",
    "    \n",
    "    fig.update_layout(\n",
    "        title='Percentage of Household in Positive and Negative Savings')\n",
    "    \n",
    "    fig.update_layout(\n",
    "    autosize=False,\n",
    "    width=1000,\n",
    "    height=500,\n",
    "    font=dict(size=10))\n",
    "    fig.layout.xaxis1.tickformat = ',.0%'\n",
    "    fig.layout.xaxis2.tickformat = ',.0%'\n",
    "    fig.layout.xaxis3.tickformat = ',.0%'\n",
    "    \n",
    "    fig.show()\n",
    "    fig.write_image(fig_dir / f'percentage_positive_saving_{segment}.svg')\n",
    "    return (percentage ['cbill_p'],percentage ['emission_p'],percentage ['energy_p'])"
   ]
  },
  {
   "cell_type": "markdown",
   "id": "63119384",
   "metadata": {},
   "source": [
    "## Segment Average Energy Burden (%) Before and after Upgrade."
   ]
  },
  {
   "cell_type": "code",
   "execution_count": 11,
   "id": "81da90ec",
   "metadata": {},
   "outputs": [],
   "source": [
    "def segment_mean_energy_burden(indicator, commnity_results):\n",
    "    \n",
    "    results = commnity_results[['upgrade_name', indicator, 'baseline_energy_burden_2023_cbills.%', 'sample_weight', 'segment']]\n",
    "    results.replace([np.inf, -np.inf], np.nan, inplace=True)\n",
    "    results.dropna(subset=['baseline_energy_burden_2023_cbills.%'], how=\"all\", inplace=True)\n",
    "    results[indicator] = results[indicator]*results['sample_weight']\n",
    "    results['baseline_energy_burden_2023_cbills.%'] = results['baseline_energy_burden_2023_cbills.%']*results['sample_weight']\n",
    "    \n",
    "    segment1 = results.loc[results['segment'] == 'segment1']\n",
    "    segment2 = results.loc[results['segment'] == 'segment2']\n",
    "    segment3 = results.loc[results['segment'] == 'segment3']\n",
    "    segment4 = results.loc[results['segment'] == 'segment4']\n",
    "    segment5 = results.loc[results['segment'] == 'segment5']\n",
    "    \n",
    "    agg_functions = {'upgrade_name': 'first',\n",
    "                     indicator: 'sum',\n",
    "                     'baseline_energy_burden_2023_cbills.%': 'sum',\n",
    "                    'sample_weight': 'sum'}\n",
    "    \n",
    "    segment1_agg = segment1.groupby(segment1['upgrade_name']).aggregate(agg_functions)\n",
    "    segment2_agg = segment2.groupby(segment2['upgrade_name']).aggregate(agg_functions)\n",
    "    segment3_agg = segment3.groupby(segment3['upgrade_name']).aggregate(agg_functions)\n",
    "    segment4_agg = segment4.groupby(segment4['upgrade_name']).aggregate(agg_functions)\n",
    "    segment5_agg = segment5.groupby(segment5['upgrade_name']).aggregate(agg_functions)\n",
    "    \n",
    "    segment1_agg['baseline_energy_burden_2023_cbills.%'] = segment1_agg['baseline_energy_burden_2023_cbills.%']/segment1_agg['sample_weight']\n",
    "    segment2_agg['baseline_energy_burden_2023_cbills.%'] = segment2_agg['baseline_energy_burden_2023_cbills.%']/segment2_agg['sample_weight']\n",
    "    segment3_agg['baseline_energy_burden_2023_cbills.%'] = segment3_agg['baseline_energy_burden_2023_cbills.%']/segment3_agg['sample_weight']\n",
    "    segment4_agg['baseline_energy_burden_2023_cbills.%'] = segment4_agg['baseline_energy_burden_2023_cbills.%']/segment4_agg['sample_weight']\n",
    "    segment5_agg['baseline_energy_burden_2023_cbills.%'] = segment5_agg['baseline_energy_burden_2023_cbills.%']/segment5_agg['sample_weight']\n",
    "    \n",
    "    segment1_agg[indicator] = segment1_agg[indicator]/segment1_agg['sample_weight']\n",
    "    segment2_agg[indicator] = segment2_agg[indicator]/segment2_agg['sample_weight']\n",
    "    segment3_agg[indicator] = segment3_agg[indicator]/segment3_agg['sample_weight']\n",
    "    segment4_agg[indicator] = segment4_agg[indicator]/segment4_agg['sample_weight']\n",
    "    segment5_agg[indicator] = segment5_agg[indicator]/segment5_agg['sample_weight']\n",
    "    \n",
    "    segment1_agg['energy_burden_diff'] = segment1_agg['baseline_energy_burden_2023_cbills.%'] - segment1_agg[indicator]\n",
    "    segment2_agg['energy_burden_diff'] = segment2_agg['baseline_energy_burden_2023_cbills.%'] - segment2_agg[indicator]\n",
    "    segment3_agg['energy_burden_diff'] = segment3_agg['baseline_energy_burden_2023_cbills.%'] - segment3_agg[indicator]\n",
    "    segment4_agg['energy_burden_diff'] = segment4_agg['baseline_energy_burden_2023_cbills.%'] - segment4_agg[indicator]\n",
    "    segment5_agg['energy_burden_diff'] = segment5_agg['baseline_energy_burden_2023_cbills.%'] - segment5_agg[indicator]\n",
    "    \n",
    "    segment1_agg = segment1_agg.sort_values(['energy_burden_diff'], ascending=False)\n",
    "    segment2_agg = segment2_agg.sort_values(['energy_burden_diff'], ascending=False)\n",
    "    segment3_agg = segment3_agg.sort_values(['energy_burden_diff'], ascending=False)\n",
    "    segment4_agg = segment4_agg.sort_values(['energy_burden_diff'], ascending=False)\n",
    "    segment5_agg = segment5_agg.sort_values(['energy_burden_diff'], ascending=False)\n",
    "    \n",
    "    segment1_agg = segment1_agg[segment1_agg.upgrade_name != 'baseline']\n",
    "    segment2_agg = segment2_agg[segment2_agg.upgrade_name != 'baseline']\n",
    "    segment3_agg = segment3_agg[segment3_agg.upgrade_name != 'baseline']\n",
    "    segment4_agg = segment4_agg[segment4_agg.upgrade_name != 'baseline']\n",
    "    segment5_agg = segment5_agg[segment5_agg.upgrade_name != 'baseline']\n",
    "    \n",
    "    segment1_agg = segment1_agg.rename(columns={'baseline_energy_burden_2023_cbills.%': 'before', indicator: 'after'})\n",
    "    segment2_agg = segment2_agg.rename(columns={'baseline_energy_burden_2023_cbills.%': 'before', indicator: 'after'})\n",
    "    segment3_agg = segment3_agg.rename(columns={'baseline_energy_burden_2023_cbills.%': 'before', indicator: 'after'})\n",
    "    segment4_agg = segment4_agg.rename(columns={'baseline_energy_burden_2023_cbills.%': 'before', indicator: 'after'})\n",
    "    segment5_agg = segment5_agg.rename(columns={'baseline_energy_burden_2023_cbills.%': 'before', indicator: 'after'})\n",
    "    \n",
    "    segment1_agg['before'] = segment1_agg['before'].round(1)\n",
    "    segment2_agg['before'] = segment2_agg['before'].round(1)\n",
    "    segment3_agg['before'] = segment3_agg['before'].round(1)\n",
    "    segment4_agg['before'] = segment4_agg['before'].round(1)\n",
    "    segment5_agg['before'] = segment5_agg['before'].round(1)\n",
    "    segment1_agg['after'] = segment1_agg['after'].round(1)\n",
    "    segment2_agg['after'] = segment2_agg['after'].round(1)\n",
    "    segment3_agg['after'] = segment3_agg['after'].round(1)\n",
    "    segment4_agg['after'] = segment4_agg['after'].round(1)\n",
    "    segment5_agg['after'] = segment5_agg['after'].round(1)\n",
    "    \n",
    "    print ('energy burden (%) before and after upgrade')\n",
    "    print('segment1')\n",
    "    display(segment1_agg[['before', 'after']])\n",
    "    print('segment2')\n",
    "    display(segment2_agg[['before', 'after']])\n",
    "    print('segment3')\n",
    "    display(segment3_agg[['before', 'after']])\n",
    "    print('segment4')\n",
    "    display(segment4_agg[['before', 'after']])\n",
    "    print('segment5')\n",
    "    display(segment5_agg[['before', 'after']])\n",
    "    \n",
    "    return(segment1_agg[['before', 'after']],segment2_agg[['before', 'after']],segment3_agg[['before', 'after']],segment4_agg[['before', 'after']],segment5_agg[['before', 'after']])"
   ]
  },
  {
   "cell_type": "code",
   "execution_count": 12,
   "id": "97b37ad7",
   "metadata": {},
   "outputs": [],
   "source": [
    "community = 'duluth'\n",
    "fig_dir = Path(\".\").resolve() / \"results\" / community\n",
    "community_results = pd.read_parquet(f\"data_/community_building_samples_with_upgrade_cost_and_bill/{community}/processed_upgrade_results.parquet\")\n",
    "saving_results = pd.DataFrame()"
   ]
  },
  {
   "cell_type": "markdown",
   "id": "712ba191",
   "metadata": {},
   "source": [
    "# 1. Results for Whole Community"
   ]
  },
  {
   "cell_type": "markdown",
   "id": "825d991e",
   "metadata": {},
   "source": [
    "## 1.1 Upgrade Cost Per Dwelling Unit"
   ]
  },
  {
   "cell_type": "code",
   "execution_count": 13,
   "id": "d2f8640e",
   "metadata": {},
   "outputs": [
    {
     "name": "stdout",
     "output_type": "stream",
     "text": [
      "upgrade_cost_usd per dwelling unit\n"
     ]
    },
    {
     "data": {
      "text/plain": [
       "upgrade_name\n",
       "Electric Cooking                                                    1127.3\n",
       "Electric Clothes Dryer                                              1266.0\n",
       "Induction Cooking                                                   1953.1\n",
       "Heat Pump Clothes Dryer                                             2547.5\n",
       "Basic Enclosure                                                     2940.3\n",
       "Heat Pump Water Heater                                              3194.7\n",
       "Enhanced Enclosure                                                  4934.1\n",
       "High Efficiency Heat Pump with Electric Heat Backup                31202.6\n",
       "Basic Enclosure + HPWH + High Efficiency HP/Electric Backup        34316.7\n",
       "Enhanced Enclosure + HPWH + High Efficiency HP/Electric Backup     34669.7\n",
       "Basic Enclosure + High Efficiency Whole Home Electrification       38326.7\n",
       "High Efficiency Whole Home Electrification                         38404.3\n",
       "Enhanced Enclosure + High Efficiency Whole Home Electrification    38679.8\n",
       "Mininum Efficiency Heat Pump with Existing Heat Backup             62266.8\n",
       "Mininum Efficiency Whole Home Electrification                      69997.3\n",
       "Mininum Efficiency Heat Pump with Electric Heat Backup             74919.5\n",
       "Name: upgrade_cost_usd, dtype: float64"
      ]
     },
     "metadata": {},
     "output_type": "display_data"
    }
   ],
   "source": [
    "results = community_mean_upgrade_cost(community_results)\n",
    "saving_results['whole_community_upgrade_cost_mean_usd'] = results"
   ]
  },
  {
   "cell_type": "markdown",
   "id": "8612601a",
   "metadata": {},
   "source": [
    "## 1.2 Total Annual Savings"
   ]
  },
  {
   "cell_type": "code",
   "execution_count": 14,
   "id": "2d30637c",
   "metadata": {},
   "outputs": [
    {
     "data": {
      "application/vnd.plotly.v1+json": {
       "config": {
        "plotlyServerURL": "https://plot.ly"
       },
       "data": [
        {
         "cliponaxis": false,
         "marker": {
          "color": "rgb(255, 255, 255)",
          "line": {
           "color": "rgb(255, 255, 255)"
          }
         },
         "orientation": "h",
         "textangle": 0,
         "textfont": {
          "size": 10
         },
         "textposition": "outside",
         "type": "bar",
         "x": [
          0,
          0,
          0,
          0,
          0,
          0,
          0,
          0,
          0,
          0,
          0,
          0,
          0,
          0,
          0,
          0,
          0,
          0,
          0,
          0,
          0,
          0,
          0,
          0,
          0,
          0,
          0,
          0,
          0,
          0,
          0,
          0,
          0,
          0,
          0,
          0,
          0,
          0,
          0,
          0,
          0,
          0,
          0,
          0,
          0,
          0,
          0,
          0,
          0,
          0,
          0,
          0,
          0,
          0,
          0,
          0,
          0,
          0,
          0,
          0,
          0,
          0,
          0,
          0,
          0,
          0,
          0,
          0,
          0,
          0,
          0,
          0,
          0,
          0,
          0,
          0,
          0,
          0,
          0,
          0,
          0,
          0,
          0,
          0,
          0,
          0,
          0,
          0,
          0,
          0,
          0,
          0,
          0,
          0,
          0,
          0,
          0,
          0,
          0,
          0,
          0,
          0,
          0,
          0,
          0,
          0,
          0,
          0,
          0,
          0,
          0,
          0,
          0,
          0,
          0,
          0,
          0,
          0,
          0,
          0,
          0,
          0,
          0,
          0,
          0,
          0,
          0,
          0,
          0,
          0,
          0,
          0,
          0,
          0,
          0,
          0,
          0,
          0,
          0,
          0,
          0,
          0,
          0,
          0,
          0,
          0,
          0,
          0,
          0,
          0,
          0,
          0,
          0,
          0,
          0,
          0,
          0,
          0,
          0,
          0,
          0,
          0,
          0,
          0,
          0,
          0,
          0,
          0,
          0,
          0,
          0,
          0,
          0,
          0,
          0,
          0
         ],
         "xaxis": "x",
         "y": [
          "Mininum Efficiency Whole Home Electrification",
          "Mininum Efficiency Heat Pump with Electric Heat Backup",
          "High Efficiency Heat Pump with Electric Heat Backup",
          "Electric Clothes Dryer",
          "Electric Cooking",
          "Induction Cooking",
          "Heat Pump Clothes Dryer",
          "Mininum Efficiency Heat Pump with Existing Heat Backup",
          "Heat Pump Water Heater",
          "High Efficiency Whole Home Electrification",
          "Basic Enclosure",
          "Enhanced Enclosure",
          "Basic Enclosure + HPWH + High Efficiency HP/Electric Backup",
          "Basic Enclosure + High Efficiency Whole Home Electrification",
          "Enhanced Enclosure + HPWH + High Efficiency HP/Electric Backup",
          "Enhanced Enclosure + High Efficiency Whole Home Electrification"
         ],
         "yaxis": "y"
        },
        {
         "cliponaxis": false,
         "marker": {
          "color": "rgb(0, 121, 61)",
          "line": {
           "color": "rgb(0, 121, 61)"
          }
         },
         "orientation": "h",
         "text": [
          -21367390.671423443,
          -20327528.181549888,
          -395459.1508117569,
          -116662.26682610072,
          -83816.51093521103,
          20377.903633061545,
          506819.9685175932,
          1305499.7908440067,
          1921829.8104714649,
          4859006.152865477,
          8318934.913899742,
          11272565.211944839,
          13911975.442515345,
          14533608.21714293,
          15197241.655928282,
          15818874.430555867
         ],
         "textangle": 0,
         "textfont": {
          "size": 10
         },
         "textposition": "outside",
         "texttemplate": "%{text:.3s}",
         "type": "bar",
         "x": [
          -21367390.671423443,
          -20327528.181549888,
          -395459.1508117569,
          -116662.26682610072,
          -83816.51093521103,
          20377.903633061545,
          506819.9685175932,
          1305499.7908440067,
          1921829.8104714649,
          4859006.152865477,
          8318934.913899742,
          11272565.211944839,
          13911975.442515345,
          14533608.21714293,
          15197241.655928282,
          15818874.430555867
         ],
         "xaxis": "x2",
         "y": [
          "Mininum Efficiency Whole Home Electrification",
          "Mininum Efficiency Heat Pump with Electric Heat Backup",
          "High Efficiency Heat Pump with Electric Heat Backup",
          "Electric Clothes Dryer",
          "Electric Cooking",
          "Induction Cooking",
          "Heat Pump Clothes Dryer",
          "Mininum Efficiency Heat Pump with Existing Heat Backup",
          "Heat Pump Water Heater",
          "High Efficiency Whole Home Electrification",
          "Basic Enclosure",
          "Enhanced Enclosure",
          "Basic Enclosure + HPWH + High Efficiency HP/Electric Backup",
          "Basic Enclosure + High Efficiency Whole Home Electrification",
          "Enhanced Enclosure + HPWH + High Efficiency HP/Electric Backup",
          "Enhanced Enclosure + High Efficiency Whole Home Electrification"
         ],
         "yaxis": "y2"
        },
        {
         "cliponaxis": false,
         "marker": {
          "color": "rgb(0, 121, 61)",
          "line": {
           "color": "rgb(0, 121, 61)"
          }
         },
         "orientation": "h",
         "text": [
          230326391.65844133,
          205622565.21037492,
          236108114.61562437,
          507366.0023379695,
          1561327.9044513842,
          1701158.1002626037,
          1333014.305647918,
          62965505.80782202,
          15974956.45396246,
          269875258.9534309,
          59874749.554827884,
          80049730.7991554,
          282022130.0451105,
          285056302.451021,
          284055256.4995859,
          287089428.9054964
         ],
         "textangle": 0,
         "textfont": {
          "size": 10
         },
         "textposition": "outside",
         "texttemplate": "%{text:.3s}",
         "type": "bar",
         "x": [
          230326391.65844133,
          205622565.21037492,
          236108114.61562437,
          507366.0023379695,
          1561327.9044513842,
          1701158.1002626037,
          1333014.305647918,
          62965505.80782202,
          15974956.45396246,
          269875258.9534309,
          59874749.554827884,
          80049730.7991554,
          282022130.0451105,
          285056302.451021,
          284055256.4995859,
          287089428.9054964
         ],
         "xaxis": "x3",
         "y": [
          "Mininum Efficiency Whole Home Electrification",
          "Mininum Efficiency Heat Pump with Electric Heat Backup",
          "High Efficiency Heat Pump with Electric Heat Backup",
          "Electric Clothes Dryer",
          "Electric Cooking",
          "Induction Cooking",
          "Heat Pump Clothes Dryer",
          "Mininum Efficiency Heat Pump with Existing Heat Backup",
          "Heat Pump Water Heater",
          "High Efficiency Whole Home Electrification",
          "Basic Enclosure",
          "Enhanced Enclosure",
          "Basic Enclosure + HPWH + High Efficiency HP/Electric Backup",
          "Basic Enclosure + High Efficiency Whole Home Electrification",
          "Enhanced Enclosure + HPWH + High Efficiency HP/Electric Backup",
          "Enhanced Enclosure + High Efficiency Whole Home Electrification"
         ],
         "yaxis": "y3"
        },
        {
         "cliponaxis": false,
         "marker": {
          "color": "rgb(0, 121, 61)",
          "line": {
           "color": "rgb(0, 121, 61)"
          }
         },
         "orientation": "h",
         "text": [
          -697969520.2733308,
          -631802545.9690868,
          -394012200.2093022,
          -2702139.5433983942,
          -4085540.4139914135,
          -2842763.522671369,
          4734432.9201475745,
          -85136843.82819256,
          -5556794.95086545,
          -385154672.6553809,
          23804454.773255534,
          33363727.514124185,
          -271652710.5609982,
          -269761041.163522,
          -256322722.32849658,
          -254431052.93102038
         ],
         "textangle": 0,
         "textfont": {
          "size": 10
         },
         "textposition": "outside",
         "texttemplate": "%{text:.3s}",
         "type": "bar",
         "x": [
          -697969520.2733308,
          -631802545.9690868,
          -394012200.2093022,
          -2702139.5433983942,
          -4085540.4139914135,
          -2842763.522671369,
          4734432.9201475745,
          -85136843.82819256,
          -5556794.95086545,
          -385154672.6553809,
          23804454.773255534,
          33363727.514124185,
          -271652710.5609982,
          -269761041.163522,
          -256322722.32849658,
          -254431052.93102038
         ],
         "xaxis": "x4",
         "y": [
          "Mininum Efficiency Whole Home Electrification",
          "Mininum Efficiency Heat Pump with Electric Heat Backup",
          "High Efficiency Heat Pump with Electric Heat Backup",
          "Electric Clothes Dryer",
          "Electric Cooking",
          "Induction Cooking",
          "Heat Pump Clothes Dryer",
          "Mininum Efficiency Heat Pump with Existing Heat Backup",
          "Heat Pump Water Heater",
          "High Efficiency Whole Home Electrification",
          "Basic Enclosure",
          "Enhanced Enclosure",
          "Basic Enclosure + HPWH + High Efficiency HP/Electric Backup",
          "Basic Enclosure + High Efficiency Whole Home Electrification",
          "Enhanced Enclosure + HPWH + High Efficiency HP/Electric Backup",
          "Enhanced Enclosure + High Efficiency Whole Home Electrification"
         ],
         "yaxis": "y4"
        },
        {
         "cliponaxis": false,
         "marker": {
          "color": "rgb(0, 121, 61)",
          "line": {
           "color": "rgb(0, 121, 61)"
          }
         },
         "orientation": "h",
         "text": [
          4622011.203429879,
          4139322.297885347,
          4138843.484680678,
          12021.869275966106,
          29797.166720618123,
          29797.166720618123,
          12021.869275966106,
          1058024.8644380565,
          251438.76078152412,
          4622011.203429879,
          811370.9115951823,
          1082846.1091641535,
          4580192.1674332945,
          4622011.203429879,
          4580192.1674332945,
          4622011.203429879
         ],
         "textangle": 0,
         "textfont": {
          "size": 10
         },
         "textposition": "outside",
         "texttemplate": "%{text:.3s}",
         "type": "bar",
         "x": [
          4622011.203429879,
          4139322.297885347,
          4138843.484680678,
          12021.869275966106,
          29797.166720618123,
          29797.166720618123,
          12021.869275966106,
          1058024.8644380565,
          251438.76078152412,
          4622011.203429879,
          811370.9115951823,
          1082846.1091641535,
          4580192.1674332945,
          4622011.203429879,
          4580192.1674332945,
          4622011.203429879
         ],
         "xaxis": "x5",
         "y": [
          "Mininum Efficiency Whole Home Electrification",
          "Mininum Efficiency Heat Pump with Electric Heat Backup",
          "High Efficiency Heat Pump with Electric Heat Backup",
          "Electric Clothes Dryer",
          "Electric Cooking",
          "Induction Cooking",
          "Heat Pump Clothes Dryer",
          "Mininum Efficiency Heat Pump with Existing Heat Backup",
          "Heat Pump Water Heater",
          "High Efficiency Whole Home Electrification",
          "Basic Enclosure",
          "Enhanced Enclosure",
          "Basic Enclosure + HPWH + High Efficiency HP/Electric Backup",
          "Basic Enclosure + High Efficiency Whole Home Electrification",
          "Enhanced Enclosure + HPWH + High Efficiency HP/Electric Backup",
          "Enhanced Enclosure + High Efficiency Whole Home Electrification"
         ],
         "yaxis": "y5"
        }
       ],
       "layout": {
        "autosize": false,
        "font": {
         "size": 10
        },
        "height": 500,
        "plot_bgcolor": "rgba(0, 0, 0, 0)",
        "showlegend": false,
        "template": {
         "data": {
          "bar": [
           {
            "error_x": {
             "color": "#2a3f5f"
            },
            "error_y": {
             "color": "#2a3f5f"
            },
            "marker": {
             "line": {
              "color": "#E5ECF6",
              "width": 0.5
             },
             "pattern": {
              "fillmode": "overlay",
              "size": 10,
              "solidity": 0.2
             }
            },
            "type": "bar"
           }
          ],
          "barpolar": [
           {
            "marker": {
             "line": {
              "color": "#E5ECF6",
              "width": 0.5
             },
             "pattern": {
              "fillmode": "overlay",
              "size": 10,
              "solidity": 0.2
             }
            },
            "type": "barpolar"
           }
          ],
          "carpet": [
           {
            "aaxis": {
             "endlinecolor": "#2a3f5f",
             "gridcolor": "white",
             "linecolor": "white",
             "minorgridcolor": "white",
             "startlinecolor": "#2a3f5f"
            },
            "baxis": {
             "endlinecolor": "#2a3f5f",
             "gridcolor": "white",
             "linecolor": "white",
             "minorgridcolor": "white",
             "startlinecolor": "#2a3f5f"
            },
            "type": "carpet"
           }
          ],
          "choropleth": [
           {
            "colorbar": {
             "outlinewidth": 0,
             "ticks": ""
            },
            "type": "choropleth"
           }
          ],
          "contour": [
           {
            "colorbar": {
             "outlinewidth": 0,
             "ticks": ""
            },
            "colorscale": [
             [
              0,
              "#0d0887"
             ],
             [
              0.1111111111111111,
              "#46039f"
             ],
             [
              0.2222222222222222,
              "#7201a8"
             ],
             [
              0.3333333333333333,
              "#9c179e"
             ],
             [
              0.4444444444444444,
              "#bd3786"
             ],
             [
              0.5555555555555556,
              "#d8576b"
             ],
             [
              0.6666666666666666,
              "#ed7953"
             ],
             [
              0.7777777777777778,
              "#fb9f3a"
             ],
             [
              0.8888888888888888,
              "#fdca26"
             ],
             [
              1,
              "#f0f921"
             ]
            ],
            "type": "contour"
           }
          ],
          "contourcarpet": [
           {
            "colorbar": {
             "outlinewidth": 0,
             "ticks": ""
            },
            "type": "contourcarpet"
           }
          ],
          "heatmap": [
           {
            "colorbar": {
             "outlinewidth": 0,
             "ticks": ""
            },
            "colorscale": [
             [
              0,
              "#0d0887"
             ],
             [
              0.1111111111111111,
              "#46039f"
             ],
             [
              0.2222222222222222,
              "#7201a8"
             ],
             [
              0.3333333333333333,
              "#9c179e"
             ],
             [
              0.4444444444444444,
              "#bd3786"
             ],
             [
              0.5555555555555556,
              "#d8576b"
             ],
             [
              0.6666666666666666,
              "#ed7953"
             ],
             [
              0.7777777777777778,
              "#fb9f3a"
             ],
             [
              0.8888888888888888,
              "#fdca26"
             ],
             [
              1,
              "#f0f921"
             ]
            ],
            "type": "heatmap"
           }
          ],
          "heatmapgl": [
           {
            "colorbar": {
             "outlinewidth": 0,
             "ticks": ""
            },
            "colorscale": [
             [
              0,
              "#0d0887"
             ],
             [
              0.1111111111111111,
              "#46039f"
             ],
             [
              0.2222222222222222,
              "#7201a8"
             ],
             [
              0.3333333333333333,
              "#9c179e"
             ],
             [
              0.4444444444444444,
              "#bd3786"
             ],
             [
              0.5555555555555556,
              "#d8576b"
             ],
             [
              0.6666666666666666,
              "#ed7953"
             ],
             [
              0.7777777777777778,
              "#fb9f3a"
             ],
             [
              0.8888888888888888,
              "#fdca26"
             ],
             [
              1,
              "#f0f921"
             ]
            ],
            "type": "heatmapgl"
           }
          ],
          "histogram": [
           {
            "marker": {
             "pattern": {
              "fillmode": "overlay",
              "size": 10,
              "solidity": 0.2
             }
            },
            "type": "histogram"
           }
          ],
          "histogram2d": [
           {
            "colorbar": {
             "outlinewidth": 0,
             "ticks": ""
            },
            "colorscale": [
             [
              0,
              "#0d0887"
             ],
             [
              0.1111111111111111,
              "#46039f"
             ],
             [
              0.2222222222222222,
              "#7201a8"
             ],
             [
              0.3333333333333333,
              "#9c179e"
             ],
             [
              0.4444444444444444,
              "#bd3786"
             ],
             [
              0.5555555555555556,
              "#d8576b"
             ],
             [
              0.6666666666666666,
              "#ed7953"
             ],
             [
              0.7777777777777778,
              "#fb9f3a"
             ],
             [
              0.8888888888888888,
              "#fdca26"
             ],
             [
              1,
              "#f0f921"
             ]
            ],
            "type": "histogram2d"
           }
          ],
          "histogram2dcontour": [
           {
            "colorbar": {
             "outlinewidth": 0,
             "ticks": ""
            },
            "colorscale": [
             [
              0,
              "#0d0887"
             ],
             [
              0.1111111111111111,
              "#46039f"
             ],
             [
              0.2222222222222222,
              "#7201a8"
             ],
             [
              0.3333333333333333,
              "#9c179e"
             ],
             [
              0.4444444444444444,
              "#bd3786"
             ],
             [
              0.5555555555555556,
              "#d8576b"
             ],
             [
              0.6666666666666666,
              "#ed7953"
             ],
             [
              0.7777777777777778,
              "#fb9f3a"
             ],
             [
              0.8888888888888888,
              "#fdca26"
             ],
             [
              1,
              "#f0f921"
             ]
            ],
            "type": "histogram2dcontour"
           }
          ],
          "mesh3d": [
           {
            "colorbar": {
             "outlinewidth": 0,
             "ticks": ""
            },
            "type": "mesh3d"
           }
          ],
          "parcoords": [
           {
            "line": {
             "colorbar": {
              "outlinewidth": 0,
              "ticks": ""
             }
            },
            "type": "parcoords"
           }
          ],
          "pie": [
           {
            "automargin": true,
            "type": "pie"
           }
          ],
          "scatter": [
           {
            "fillpattern": {
             "fillmode": "overlay",
             "size": 10,
             "solidity": 0.2
            },
            "type": "scatter"
           }
          ],
          "scatter3d": [
           {
            "line": {
             "colorbar": {
              "outlinewidth": 0,
              "ticks": ""
             }
            },
            "marker": {
             "colorbar": {
              "outlinewidth": 0,
              "ticks": ""
             }
            },
            "type": "scatter3d"
           }
          ],
          "scattercarpet": [
           {
            "marker": {
             "colorbar": {
              "outlinewidth": 0,
              "ticks": ""
             }
            },
            "type": "scattercarpet"
           }
          ],
          "scattergeo": [
           {
            "marker": {
             "colorbar": {
              "outlinewidth": 0,
              "ticks": ""
             }
            },
            "type": "scattergeo"
           }
          ],
          "scattergl": [
           {
            "marker": {
             "colorbar": {
              "outlinewidth": 0,
              "ticks": ""
             }
            },
            "type": "scattergl"
           }
          ],
          "scattermapbox": [
           {
            "marker": {
             "colorbar": {
              "outlinewidth": 0,
              "ticks": ""
             }
            },
            "type": "scattermapbox"
           }
          ],
          "scatterpolar": [
           {
            "marker": {
             "colorbar": {
              "outlinewidth": 0,
              "ticks": ""
             }
            },
            "type": "scatterpolar"
           }
          ],
          "scatterpolargl": [
           {
            "marker": {
             "colorbar": {
              "outlinewidth": 0,
              "ticks": ""
             }
            },
            "type": "scatterpolargl"
           }
          ],
          "scatterternary": [
           {
            "marker": {
             "colorbar": {
              "outlinewidth": 0,
              "ticks": ""
             }
            },
            "type": "scatterternary"
           }
          ],
          "surface": [
           {
            "colorbar": {
             "outlinewidth": 0,
             "ticks": ""
            },
            "colorscale": [
             [
              0,
              "#0d0887"
             ],
             [
              0.1111111111111111,
              "#46039f"
             ],
             [
              0.2222222222222222,
              "#7201a8"
             ],
             [
              0.3333333333333333,
              "#9c179e"
             ],
             [
              0.4444444444444444,
              "#bd3786"
             ],
             [
              0.5555555555555556,
              "#d8576b"
             ],
             [
              0.6666666666666666,
              "#ed7953"
             ],
             [
              0.7777777777777778,
              "#fb9f3a"
             ],
             [
              0.8888888888888888,
              "#fdca26"
             ],
             [
              1,
              "#f0f921"
             ]
            ],
            "type": "surface"
           }
          ],
          "table": [
           {
            "cells": {
             "fill": {
              "color": "#EBF0F8"
             },
             "line": {
              "color": "white"
             }
            },
            "header": {
             "fill": {
              "color": "#C8D4E3"
             },
             "line": {
              "color": "white"
             }
            },
            "type": "table"
           }
          ]
         },
         "layout": {
          "annotationdefaults": {
           "arrowcolor": "#2a3f5f",
           "arrowhead": 0,
           "arrowwidth": 1
          },
          "autotypenumbers": "strict",
          "coloraxis": {
           "colorbar": {
            "outlinewidth": 0,
            "ticks": ""
           }
          },
          "colorscale": {
           "diverging": [
            [
             0,
             "#8e0152"
            ],
            [
             0.1,
             "#c51b7d"
            ],
            [
             0.2,
             "#de77ae"
            ],
            [
             0.3,
             "#f1b6da"
            ],
            [
             0.4,
             "#fde0ef"
            ],
            [
             0.5,
             "#f7f7f7"
            ],
            [
             0.6,
             "#e6f5d0"
            ],
            [
             0.7,
             "#b8e186"
            ],
            [
             0.8,
             "#7fbc41"
            ],
            [
             0.9,
             "#4d9221"
            ],
            [
             1,
             "#276419"
            ]
           ],
           "sequential": [
            [
             0,
             "#0d0887"
            ],
            [
             0.1111111111111111,
             "#46039f"
            ],
            [
             0.2222222222222222,
             "#7201a8"
            ],
            [
             0.3333333333333333,
             "#9c179e"
            ],
            [
             0.4444444444444444,
             "#bd3786"
            ],
            [
             0.5555555555555556,
             "#d8576b"
            ],
            [
             0.6666666666666666,
             "#ed7953"
            ],
            [
             0.7777777777777778,
             "#fb9f3a"
            ],
            [
             0.8888888888888888,
             "#fdca26"
            ],
            [
             1,
             "#f0f921"
            ]
           ],
           "sequentialminus": [
            [
             0,
             "#0d0887"
            ],
            [
             0.1111111111111111,
             "#46039f"
            ],
            [
             0.2222222222222222,
             "#7201a8"
            ],
            [
             0.3333333333333333,
             "#9c179e"
            ],
            [
             0.4444444444444444,
             "#bd3786"
            ],
            [
             0.5555555555555556,
             "#d8576b"
            ],
            [
             0.6666666666666666,
             "#ed7953"
            ],
            [
             0.7777777777777778,
             "#fb9f3a"
            ],
            [
             0.8888888888888888,
             "#fdca26"
            ],
            [
             1,
             "#f0f921"
            ]
           ]
          },
          "colorway": [
           "#636efa",
           "#EF553B",
           "#00cc96",
           "#ab63fa",
           "#FFA15A",
           "#19d3f3",
           "#FF6692",
           "#B6E880",
           "#FF97FF",
           "#FECB52"
          ],
          "font": {
           "color": "#2a3f5f"
          },
          "geo": {
           "bgcolor": "white",
           "lakecolor": "white",
           "landcolor": "#E5ECF6",
           "showlakes": true,
           "showland": true,
           "subunitcolor": "white"
          },
          "hoverlabel": {
           "align": "left"
          },
          "hovermode": "closest",
          "mapbox": {
           "style": "light"
          },
          "paper_bgcolor": "white",
          "plot_bgcolor": "#E5ECF6",
          "polar": {
           "angularaxis": {
            "gridcolor": "white",
            "linecolor": "white",
            "ticks": ""
           },
           "bgcolor": "#E5ECF6",
           "radialaxis": {
            "gridcolor": "white",
            "linecolor": "white",
            "ticks": ""
           }
          },
          "scene": {
           "xaxis": {
            "backgroundcolor": "#E5ECF6",
            "gridcolor": "white",
            "gridwidth": 2,
            "linecolor": "white",
            "showbackground": true,
            "ticks": "",
            "zerolinecolor": "white"
           },
           "yaxis": {
            "backgroundcolor": "#E5ECF6",
            "gridcolor": "white",
            "gridwidth": 2,
            "linecolor": "white",
            "showbackground": true,
            "ticks": "",
            "zerolinecolor": "white"
           },
           "zaxis": {
            "backgroundcolor": "#E5ECF6",
            "gridcolor": "white",
            "gridwidth": 2,
            "linecolor": "white",
            "showbackground": true,
            "ticks": "",
            "zerolinecolor": "white"
           }
          },
          "shapedefaults": {
           "line": {
            "color": "#2a3f5f"
           }
          },
          "ternary": {
           "aaxis": {
            "gridcolor": "white",
            "linecolor": "white",
            "ticks": ""
           },
           "baxis": {
            "gridcolor": "white",
            "linecolor": "white",
            "ticks": ""
           },
           "bgcolor": "#E5ECF6",
           "caxis": {
            "gridcolor": "white",
            "linecolor": "white",
            "ticks": ""
           }
          },
          "title": {
           "x": 0.05
          },
          "xaxis": {
           "automargin": true,
           "gridcolor": "white",
           "linecolor": "white",
           "ticks": "",
           "title": {
            "standoff": 15
           },
           "zerolinecolor": "white",
           "zerolinewidth": 2
          },
          "yaxis": {
           "automargin": true,
           "gridcolor": "white",
           "linecolor": "white",
           "ticks": "",
           "title": {
            "standoff": 15
           },
           "zerolinecolor": "white",
           "zerolinewidth": 2
          }
         }
        },
        "title": {
         "text": "Total Annual Savings for the Whole Community"
        },
        "width": 900,
        "xaxis": {
         "anchor": "y",
         "domain": [
          0,
          0.00012996750812296928
         ],
         "tickangle": 45,
         "title": {
          "text": ""
         },
         "visible": false
        },
        "xaxis2": {
         "anchor": "y2",
         "domain": [
          0.12012996750812296,
          0.25009747563109225
         ],
         "tickangle": 45,
         "title": {
          "text": "Bill<br>Savings<br>usd"
         },
         "visible": true
        },
        "xaxis3": {
         "anchor": "y3",
         "domain": [
          0.37009747563109224,
          0.5000649837540615
         ],
         "tickangle": 45,
         "title": {
          "text": "Emission<br>Savings<br>kgCO2e"
         },
         "visible": true
        },
        "xaxis4": {
         "anchor": "y4",
         "domain": [
          0.6200649837540615,
          0.7500324918770308
         ],
         "tickangle": 45,
         "title": {
          "text": "Electricity<br>Savings<br>kwh"
         },
         "visible": true
        },
        "xaxis5": {
         "anchor": "y5",
         "domain": [
          0.8700324918770308,
          1
         ],
         "tickangle": 45,
         "title": {
          "text": "Gas, Propane,<br>Fuel Oil Savings<br>mmbtu"
         },
         "visible": true
        },
        "yaxis": {
         "anchor": "x",
         "domain": [
          0,
          1
         ],
         "visible": true
        },
        "yaxis2": {
         "anchor": "x2",
         "domain": [
          0,
          1
         ],
         "visible": false
        },
        "yaxis3": {
         "anchor": "x3",
         "domain": [
          0,
          1
         ],
         "visible": false
        },
        "yaxis4": {
         "anchor": "x4",
         "domain": [
          0,
          1
         ],
         "visible": false
        },
        "yaxis5": {
         "anchor": "x5",
         "domain": [
          0,
          1
         ],
         "visible": false
        }
       }
      }
     },
     "metadata": {},
     "output_type": "display_data"
    }
   ],
   "source": [
    "figure_total_savings_1(community_results)"
   ]
  },
  {
   "cell_type": "code",
   "execution_count": 15,
   "id": "ebec6b8d",
   "metadata": {},
   "outputs": [
    {
     "data": {
      "application/vnd.plotly.v1+json": {
       "config": {
        "plotlyServerURL": "https://plot.ly"
       },
       "data": [
        {
         "cliponaxis": false,
         "marker": {
          "color": "rgb(255, 255, 255)",
          "line": {
           "color": "rgb(255, 255, 255)"
          }
         },
         "orientation": "h",
         "textangle": 0,
         "textfont": {
          "size": 10
         },
         "textposition": "outside",
         "type": "bar",
         "x": [
          0,
          0,
          0,
          0,
          0,
          0,
          0,
          0,
          0,
          0,
          0,
          0,
          0,
          0,
          0,
          0,
          0,
          0,
          0,
          0,
          0,
          0,
          0,
          0,
          0,
          0,
          0,
          0,
          0,
          0,
          0,
          0,
          0,
          0,
          0,
          0,
          0,
          0,
          0,
          0,
          0,
          0,
          0,
          0,
          0,
          0,
          0,
          0,
          0,
          0,
          0,
          0,
          0,
          0,
          0,
          0,
          0,
          0,
          0,
          0,
          0,
          0,
          0,
          0,
          0,
          0,
          0,
          0,
          0,
          0,
          0,
          0,
          0,
          0,
          0,
          0,
          0,
          0,
          0,
          0,
          0,
          0,
          0,
          0,
          0,
          0,
          0,
          0,
          0,
          0,
          0,
          0,
          0,
          0,
          0,
          0,
          0,
          0,
          0,
          0,
          0,
          0,
          0,
          0,
          0,
          0,
          0,
          0,
          0,
          0,
          0,
          0,
          0,
          0,
          0,
          0,
          0,
          0,
          0,
          0,
          0,
          0,
          0,
          0,
          0,
          0,
          0,
          0,
          0,
          0,
          0,
          0,
          0,
          0,
          0,
          0,
          0,
          0,
          0,
          0,
          0,
          0,
          0,
          0,
          0,
          0,
          0,
          0,
          0,
          0,
          0,
          0,
          0,
          0,
          0,
          0,
          0,
          0,
          0,
          0,
          0,
          0,
          0,
          0,
          0,
          0,
          0,
          0,
          0,
          0,
          0,
          0,
          0,
          0,
          0,
          0
         ],
         "xaxis": "x",
         "y": [
          "Mininum Efficiency Whole Home Electrification",
          "Mininum Efficiency Heat Pump with Electric Heat Backup",
          "High Efficiency Heat Pump with Electric Heat Backup",
          "Electric Clothes Dryer",
          "Electric Cooking",
          "Induction Cooking",
          "Heat Pump Clothes Dryer",
          "Mininum Efficiency Heat Pump with Existing Heat Backup",
          "Heat Pump Water Heater",
          "High Efficiency Whole Home Electrification",
          "Basic Enclosure",
          "Enhanced Enclosure",
          "Basic Enclosure + HPWH + High Efficiency HP/Electric Backup",
          "Basic Enclosure + High Efficiency Whole Home Electrification",
          "Enhanced Enclosure + HPWH + High Efficiency HP/Electric Backup",
          "Enhanced Enclosure + High Efficiency Whole Home Electrification"
         ],
         "yaxis": "y"
        },
        {
         "cliponaxis": false,
         "marker": {
          "color": "rgb(0, 121, 61)",
          "line": {
           "color": "rgb(0, 121, 61)"
          }
         },
         "orientation": "h",
         "text": [
          -21367390.671423443,
          -20327528.181549888,
          -395459.1508117569,
          -116662.26682610072,
          -83816.51093521103,
          20377.903633061545,
          506819.9685175932,
          1305499.7908440067,
          1921829.8104714649,
          4859006.152865477,
          8318934.913899742,
          11272565.211944839,
          13911975.442515345,
          14533608.21714293,
          15197241.655928282,
          15818874.430555867
         ],
         "textangle": 0,
         "textfont": {
          "size": 10
         },
         "textposition": "outside",
         "texttemplate": "%{text:.3s}",
         "type": "bar",
         "x": [
          -21367390.671423443,
          -20327528.181549888,
          -395459.1508117569,
          -116662.26682610072,
          -83816.51093521103,
          20377.903633061545,
          506819.9685175932,
          1305499.7908440067,
          1921829.8104714649,
          4859006.152865477,
          8318934.913899742,
          11272565.211944839,
          13911975.442515345,
          14533608.21714293,
          15197241.655928282,
          15818874.430555867
         ],
         "xaxis": "x2",
         "y": [
          "Mininum Efficiency Whole Home Electrification",
          "Mininum Efficiency Heat Pump with Electric Heat Backup",
          "High Efficiency Heat Pump with Electric Heat Backup",
          "Electric Clothes Dryer",
          "Electric Cooking",
          "Induction Cooking",
          "Heat Pump Clothes Dryer",
          "Mininum Efficiency Heat Pump with Existing Heat Backup",
          "Heat Pump Water Heater",
          "High Efficiency Whole Home Electrification",
          "Basic Enclosure",
          "Enhanced Enclosure",
          "Basic Enclosure + HPWH + High Efficiency HP/Electric Backup",
          "Basic Enclosure + High Efficiency Whole Home Electrification",
          "Enhanced Enclosure + HPWH + High Efficiency HP/Electric Backup",
          "Enhanced Enclosure + High Efficiency Whole Home Electrification"
         ],
         "yaxis": "y2"
        },
        {
         "cliponaxis": false,
         "marker": {
          "color": "rgb(0, 121, 61)",
          "line": {
           "color": "rgb(0, 121, 61)"
          }
         },
         "orientation": "h",
         "text": [
          230326391.65844133,
          205622565.21037492,
          236108114.61562437,
          507366.0023379695,
          1561327.9044513842,
          1701158.1002626037,
          1333014.305647918,
          62965505.80782202,
          15974956.45396246,
          269875258.9534309,
          59874749.554827884,
          80049730.7991554,
          282022130.0451105,
          285056302.451021,
          284055256.4995859,
          287089428.9054964
         ],
         "textangle": 0,
         "textfont": {
          "size": 10
         },
         "textposition": "outside",
         "texttemplate": "%{text:.3s}",
         "type": "bar",
         "x": [
          230326391.65844133,
          205622565.21037492,
          236108114.61562437,
          507366.0023379695,
          1561327.9044513842,
          1701158.1002626037,
          1333014.305647918,
          62965505.80782202,
          15974956.45396246,
          269875258.9534309,
          59874749.554827884,
          80049730.7991554,
          282022130.0451105,
          285056302.451021,
          284055256.4995859,
          287089428.9054964
         ],
         "xaxis": "x3",
         "y": [
          "Mininum Efficiency Whole Home Electrification",
          "Mininum Efficiency Heat Pump with Electric Heat Backup",
          "High Efficiency Heat Pump with Electric Heat Backup",
          "Electric Clothes Dryer",
          "Electric Cooking",
          "Induction Cooking",
          "Heat Pump Clothes Dryer",
          "Mininum Efficiency Heat Pump with Existing Heat Backup",
          "Heat Pump Water Heater",
          "High Efficiency Whole Home Electrification",
          "Basic Enclosure",
          "Enhanced Enclosure",
          "Basic Enclosure + HPWH + High Efficiency HP/Electric Backup",
          "Basic Enclosure + High Efficiency Whole Home Electrification",
          "Enhanced Enclosure + HPWH + High Efficiency HP/Electric Backup",
          "Enhanced Enclosure + High Efficiency Whole Home Electrification"
         ],
         "yaxis": "y3"
        },
        {
         "cliponaxis": false,
         "marker": {
          "color": "rgb(0, 121, 61)",
          "line": {
           "color": "rgb(0, 121, 61)"
          }
         },
         "orientation": "h",
         "text": [
          67486.696,
          63901.421,
          90576.919,
          74.97600000000014,
          461.0110000000009,
          591.1990000000012,
          898.8770000000002,
          26400.736,
          6875.059999999999,
          105447.363,
          27464.417999999998,
          37976.986,
          116245.843,
          117735.919,
          117806.012,
          119296.088
         ],
         "textangle": 0,
         "textfont": {
          "size": 10
         },
         "textposition": "outside",
         "texttemplate": "%{text:.3s}",
         "type": "bar",
         "x": [
          67486.696,
          63901.421,
          90576.919,
          74.97600000000014,
          461.0110000000009,
          591.1990000000012,
          898.8770000000002,
          26400.736,
          6875.059999999999,
          105447.363,
          27464.417999999998,
          37976.986,
          116245.843,
          117735.919,
          117806.012,
          119296.088
         ],
         "xaxis": "x4",
         "y": [
          "Mininum Efficiency Whole Home Electrification",
          "Mininum Efficiency Heat Pump with Electric Heat Backup",
          "High Efficiency Heat Pump with Electric Heat Backup",
          "Electric Clothes Dryer",
          "Electric Cooking",
          "Induction Cooking",
          "Heat Pump Clothes Dryer",
          "Mininum Efficiency Heat Pump with Existing Heat Backup",
          "Heat Pump Water Heater",
          "High Efficiency Whole Home Electrification",
          "Basic Enclosure",
          "Enhanced Enclosure",
          "Basic Enclosure + HPWH + High Efficiency HP/Electric Backup",
          "Basic Enclosure + High Efficiency Whole Home Electrification",
          "Enhanced Enclosure + HPWH + High Efficiency HP/Electric Backup",
          "Enhanced Enclosure + High Efficiency Whole Home Electrification"
         ],
         "yaxis": "y4"
        },
        {
         "cliponaxis": false,
         "marker": {
          "color": "rgb(0, 121, 61)",
          "line": {
           "color": "rgb(0, 121, 61)"
          }
         },
         "orientation": "h",
         "text": [
          -697969520.2733308,
          -631802545.9690868,
          -394012200.2093022,
          -2702139.5433983942,
          -4085540.4139914135,
          -2842763.522671369,
          4734432.9201475745,
          -85136843.82819256,
          -5556794.95086545,
          -385154672.6553809,
          23804454.773255534,
          33363727.514124185,
          -271652710.5609982,
          -269761041.163522,
          -256322722.32849658,
          -254431052.93102038
         ],
         "textangle": 0,
         "textfont": {
          "size": 10
         },
         "textposition": "outside",
         "texttemplate": "%{text:.3s}",
         "type": "bar",
         "x": [
          -697969520.2733308,
          -631802545.9690868,
          -394012200.2093022,
          -2702139.5433983942,
          -4085540.4139914135,
          -2842763.522671369,
          4734432.9201475745,
          -85136843.82819256,
          -5556794.95086545,
          -385154672.6553809,
          23804454.773255534,
          33363727.514124185,
          -271652710.5609982,
          -269761041.163522,
          -256322722.32849658,
          -254431052.93102038
         ],
         "xaxis": "x5",
         "y": [
          "Mininum Efficiency Whole Home Electrification",
          "Mininum Efficiency Heat Pump with Electric Heat Backup",
          "High Efficiency Heat Pump with Electric Heat Backup",
          "Electric Clothes Dryer",
          "Electric Cooking",
          "Induction Cooking",
          "Heat Pump Clothes Dryer",
          "Mininum Efficiency Heat Pump with Existing Heat Backup",
          "Heat Pump Water Heater",
          "High Efficiency Whole Home Electrification",
          "Basic Enclosure",
          "Enhanced Enclosure",
          "Basic Enclosure + HPWH + High Efficiency HP/Electric Backup",
          "Basic Enclosure + High Efficiency Whole Home Electrification",
          "Enhanced Enclosure + HPWH + High Efficiency HP/Electric Backup",
          "Enhanced Enclosure + High Efficiency Whole Home Electrification"
         ],
         "yaxis": "y5"
        },
        {
         "cliponaxis": false,
         "marker": {
          "color": "rgb(0, 121, 61)",
          "line": {
           "color": "rgb(0, 121, 61)"
          }
         },
         "orientation": "h",
         "text": [
          4622011.203429879,
          4139322.297885347,
          4138843.484680678,
          12021.869275966106,
          29797.166720618123,
          29797.166720618123,
          12021.869275966106,
          1058024.8644380565,
          251438.76078152412,
          4622011.203429879,
          811370.9115951823,
          1082846.1091641535,
          4580192.1674332945,
          4622011.203429879,
          4580192.1674332945,
          4622011.203429879
         ],
         "textangle": 0,
         "textfont": {
          "size": 10
         },
         "textposition": "outside",
         "texttemplate": "%{text:.3s}",
         "type": "bar",
         "x": [
          4622011.203429879,
          4139322.297885347,
          4138843.484680678,
          12021.869275966106,
          29797.166720618123,
          29797.166720618123,
          12021.869275966106,
          1058024.8644380565,
          251438.76078152412,
          4622011.203429879,
          811370.9115951823,
          1082846.1091641535,
          4580192.1674332945,
          4622011.203429879,
          4580192.1674332945,
          4622011.203429879
         ],
         "xaxis": "x6",
         "y": [
          "Mininum Efficiency Whole Home Electrification",
          "Mininum Efficiency Heat Pump with Electric Heat Backup",
          "High Efficiency Heat Pump with Electric Heat Backup",
          "Electric Clothes Dryer",
          "Electric Cooking",
          "Induction Cooking",
          "Heat Pump Clothes Dryer",
          "Mininum Efficiency Heat Pump with Existing Heat Backup",
          "Heat Pump Water Heater",
          "High Efficiency Whole Home Electrification",
          "Basic Enclosure",
          "Enhanced Enclosure",
          "Basic Enclosure + HPWH + High Efficiency HP/Electric Backup",
          "Basic Enclosure + High Efficiency Whole Home Electrification",
          "Enhanced Enclosure + HPWH + High Efficiency HP/Electric Backup",
          "Enhanced Enclosure + High Efficiency Whole Home Electrification"
         ],
         "yaxis": "y6"
        }
       ],
       "layout": {
        "autosize": false,
        "font": {
         "size": 10
        },
        "height": 500,
        "plot_bgcolor": "rgba(0, 0, 0, 0)",
        "showlegend": false,
        "template": {
         "data": {
          "bar": [
           {
            "error_x": {
             "color": "#2a3f5f"
            },
            "error_y": {
             "color": "#2a3f5f"
            },
            "marker": {
             "line": {
              "color": "#E5ECF6",
              "width": 0.5
             },
             "pattern": {
              "fillmode": "overlay",
              "size": 10,
              "solidity": 0.2
             }
            },
            "type": "bar"
           }
          ],
          "barpolar": [
           {
            "marker": {
             "line": {
              "color": "#E5ECF6",
              "width": 0.5
             },
             "pattern": {
              "fillmode": "overlay",
              "size": 10,
              "solidity": 0.2
             }
            },
            "type": "barpolar"
           }
          ],
          "carpet": [
           {
            "aaxis": {
             "endlinecolor": "#2a3f5f",
             "gridcolor": "white",
             "linecolor": "white",
             "minorgridcolor": "white",
             "startlinecolor": "#2a3f5f"
            },
            "baxis": {
             "endlinecolor": "#2a3f5f",
             "gridcolor": "white",
             "linecolor": "white",
             "minorgridcolor": "white",
             "startlinecolor": "#2a3f5f"
            },
            "type": "carpet"
           }
          ],
          "choropleth": [
           {
            "colorbar": {
             "outlinewidth": 0,
             "ticks": ""
            },
            "type": "choropleth"
           }
          ],
          "contour": [
           {
            "colorbar": {
             "outlinewidth": 0,
             "ticks": ""
            },
            "colorscale": [
             [
              0,
              "#0d0887"
             ],
             [
              0.1111111111111111,
              "#46039f"
             ],
             [
              0.2222222222222222,
              "#7201a8"
             ],
             [
              0.3333333333333333,
              "#9c179e"
             ],
             [
              0.4444444444444444,
              "#bd3786"
             ],
             [
              0.5555555555555556,
              "#d8576b"
             ],
             [
              0.6666666666666666,
              "#ed7953"
             ],
             [
              0.7777777777777778,
              "#fb9f3a"
             ],
             [
              0.8888888888888888,
              "#fdca26"
             ],
             [
              1,
              "#f0f921"
             ]
            ],
            "type": "contour"
           }
          ],
          "contourcarpet": [
           {
            "colorbar": {
             "outlinewidth": 0,
             "ticks": ""
            },
            "type": "contourcarpet"
           }
          ],
          "heatmap": [
           {
            "colorbar": {
             "outlinewidth": 0,
             "ticks": ""
            },
            "colorscale": [
             [
              0,
              "#0d0887"
             ],
             [
              0.1111111111111111,
              "#46039f"
             ],
             [
              0.2222222222222222,
              "#7201a8"
             ],
             [
              0.3333333333333333,
              "#9c179e"
             ],
             [
              0.4444444444444444,
              "#bd3786"
             ],
             [
              0.5555555555555556,
              "#d8576b"
             ],
             [
              0.6666666666666666,
              "#ed7953"
             ],
             [
              0.7777777777777778,
              "#fb9f3a"
             ],
             [
              0.8888888888888888,
              "#fdca26"
             ],
             [
              1,
              "#f0f921"
             ]
            ],
            "type": "heatmap"
           }
          ],
          "heatmapgl": [
           {
            "colorbar": {
             "outlinewidth": 0,
             "ticks": ""
            },
            "colorscale": [
             [
              0,
              "#0d0887"
             ],
             [
              0.1111111111111111,
              "#46039f"
             ],
             [
              0.2222222222222222,
              "#7201a8"
             ],
             [
              0.3333333333333333,
              "#9c179e"
             ],
             [
              0.4444444444444444,
              "#bd3786"
             ],
             [
              0.5555555555555556,
              "#d8576b"
             ],
             [
              0.6666666666666666,
              "#ed7953"
             ],
             [
              0.7777777777777778,
              "#fb9f3a"
             ],
             [
              0.8888888888888888,
              "#fdca26"
             ],
             [
              1,
              "#f0f921"
             ]
            ],
            "type": "heatmapgl"
           }
          ],
          "histogram": [
           {
            "marker": {
             "pattern": {
              "fillmode": "overlay",
              "size": 10,
              "solidity": 0.2
             }
            },
            "type": "histogram"
           }
          ],
          "histogram2d": [
           {
            "colorbar": {
             "outlinewidth": 0,
             "ticks": ""
            },
            "colorscale": [
             [
              0,
              "#0d0887"
             ],
             [
              0.1111111111111111,
              "#46039f"
             ],
             [
              0.2222222222222222,
              "#7201a8"
             ],
             [
              0.3333333333333333,
              "#9c179e"
             ],
             [
              0.4444444444444444,
              "#bd3786"
             ],
             [
              0.5555555555555556,
              "#d8576b"
             ],
             [
              0.6666666666666666,
              "#ed7953"
             ],
             [
              0.7777777777777778,
              "#fb9f3a"
             ],
             [
              0.8888888888888888,
              "#fdca26"
             ],
             [
              1,
              "#f0f921"
             ]
            ],
            "type": "histogram2d"
           }
          ],
          "histogram2dcontour": [
           {
            "colorbar": {
             "outlinewidth": 0,
             "ticks": ""
            },
            "colorscale": [
             [
              0,
              "#0d0887"
             ],
             [
              0.1111111111111111,
              "#46039f"
             ],
             [
              0.2222222222222222,
              "#7201a8"
             ],
             [
              0.3333333333333333,
              "#9c179e"
             ],
             [
              0.4444444444444444,
              "#bd3786"
             ],
             [
              0.5555555555555556,
              "#d8576b"
             ],
             [
              0.6666666666666666,
              "#ed7953"
             ],
             [
              0.7777777777777778,
              "#fb9f3a"
             ],
             [
              0.8888888888888888,
              "#fdca26"
             ],
             [
              1,
              "#f0f921"
             ]
            ],
            "type": "histogram2dcontour"
           }
          ],
          "mesh3d": [
           {
            "colorbar": {
             "outlinewidth": 0,
             "ticks": ""
            },
            "type": "mesh3d"
           }
          ],
          "parcoords": [
           {
            "line": {
             "colorbar": {
              "outlinewidth": 0,
              "ticks": ""
             }
            },
            "type": "parcoords"
           }
          ],
          "pie": [
           {
            "automargin": true,
            "type": "pie"
           }
          ],
          "scatter": [
           {
            "fillpattern": {
             "fillmode": "overlay",
             "size": 10,
             "solidity": 0.2
            },
            "type": "scatter"
           }
          ],
          "scatter3d": [
           {
            "line": {
             "colorbar": {
              "outlinewidth": 0,
              "ticks": ""
             }
            },
            "marker": {
             "colorbar": {
              "outlinewidth": 0,
              "ticks": ""
             }
            },
            "type": "scatter3d"
           }
          ],
          "scattercarpet": [
           {
            "marker": {
             "colorbar": {
              "outlinewidth": 0,
              "ticks": ""
             }
            },
            "type": "scattercarpet"
           }
          ],
          "scattergeo": [
           {
            "marker": {
             "colorbar": {
              "outlinewidth": 0,
              "ticks": ""
             }
            },
            "type": "scattergeo"
           }
          ],
          "scattergl": [
           {
            "marker": {
             "colorbar": {
              "outlinewidth": 0,
              "ticks": ""
             }
            },
            "type": "scattergl"
           }
          ],
          "scattermapbox": [
           {
            "marker": {
             "colorbar": {
              "outlinewidth": 0,
              "ticks": ""
             }
            },
            "type": "scattermapbox"
           }
          ],
          "scatterpolar": [
           {
            "marker": {
             "colorbar": {
              "outlinewidth": 0,
              "ticks": ""
             }
            },
            "type": "scatterpolar"
           }
          ],
          "scatterpolargl": [
           {
            "marker": {
             "colorbar": {
              "outlinewidth": 0,
              "ticks": ""
             }
            },
            "type": "scatterpolargl"
           }
          ],
          "scatterternary": [
           {
            "marker": {
             "colorbar": {
              "outlinewidth": 0,
              "ticks": ""
             }
            },
            "type": "scatterternary"
           }
          ],
          "surface": [
           {
            "colorbar": {
             "outlinewidth": 0,
             "ticks": ""
            },
            "colorscale": [
             [
              0,
              "#0d0887"
             ],
             [
              0.1111111111111111,
              "#46039f"
             ],
             [
              0.2222222222222222,
              "#7201a8"
             ],
             [
              0.3333333333333333,
              "#9c179e"
             ],
             [
              0.4444444444444444,
              "#bd3786"
             ],
             [
              0.5555555555555556,
              "#d8576b"
             ],
             [
              0.6666666666666666,
              "#ed7953"
             ],
             [
              0.7777777777777778,
              "#fb9f3a"
             ],
             [
              0.8888888888888888,
              "#fdca26"
             ],
             [
              1,
              "#f0f921"
             ]
            ],
            "type": "surface"
           }
          ],
          "table": [
           {
            "cells": {
             "fill": {
              "color": "#EBF0F8"
             },
             "line": {
              "color": "white"
             }
            },
            "header": {
             "fill": {
              "color": "#C8D4E3"
             },
             "line": {
              "color": "white"
             }
            },
            "type": "table"
           }
          ]
         },
         "layout": {
          "annotationdefaults": {
           "arrowcolor": "#2a3f5f",
           "arrowhead": 0,
           "arrowwidth": 1
          },
          "autotypenumbers": "strict",
          "coloraxis": {
           "colorbar": {
            "outlinewidth": 0,
            "ticks": ""
           }
          },
          "colorscale": {
           "diverging": [
            [
             0,
             "#8e0152"
            ],
            [
             0.1,
             "#c51b7d"
            ],
            [
             0.2,
             "#de77ae"
            ],
            [
             0.3,
             "#f1b6da"
            ],
            [
             0.4,
             "#fde0ef"
            ],
            [
             0.5,
             "#f7f7f7"
            ],
            [
             0.6,
             "#e6f5d0"
            ],
            [
             0.7,
             "#b8e186"
            ],
            [
             0.8,
             "#7fbc41"
            ],
            [
             0.9,
             "#4d9221"
            ],
            [
             1,
             "#276419"
            ]
           ],
           "sequential": [
            [
             0,
             "#0d0887"
            ],
            [
             0.1111111111111111,
             "#46039f"
            ],
            [
             0.2222222222222222,
             "#7201a8"
            ],
            [
             0.3333333333333333,
             "#9c179e"
            ],
            [
             0.4444444444444444,
             "#bd3786"
            ],
            [
             0.5555555555555556,
             "#d8576b"
            ],
            [
             0.6666666666666666,
             "#ed7953"
            ],
            [
             0.7777777777777778,
             "#fb9f3a"
            ],
            [
             0.8888888888888888,
             "#fdca26"
            ],
            [
             1,
             "#f0f921"
            ]
           ],
           "sequentialminus": [
            [
             0,
             "#0d0887"
            ],
            [
             0.1111111111111111,
             "#46039f"
            ],
            [
             0.2222222222222222,
             "#7201a8"
            ],
            [
             0.3333333333333333,
             "#9c179e"
            ],
            [
             0.4444444444444444,
             "#bd3786"
            ],
            [
             0.5555555555555556,
             "#d8576b"
            ],
            [
             0.6666666666666666,
             "#ed7953"
            ],
            [
             0.7777777777777778,
             "#fb9f3a"
            ],
            [
             0.8888888888888888,
             "#fdca26"
            ],
            [
             1,
             "#f0f921"
            ]
           ]
          },
          "colorway": [
           "#636efa",
           "#EF553B",
           "#00cc96",
           "#ab63fa",
           "#FFA15A",
           "#19d3f3",
           "#FF6692",
           "#B6E880",
           "#FF97FF",
           "#FECB52"
          ],
          "font": {
           "color": "#2a3f5f"
          },
          "geo": {
           "bgcolor": "white",
           "lakecolor": "white",
           "landcolor": "#E5ECF6",
           "showlakes": true,
           "showland": true,
           "subunitcolor": "white"
          },
          "hoverlabel": {
           "align": "left"
          },
          "hovermode": "closest",
          "mapbox": {
           "style": "light"
          },
          "paper_bgcolor": "white",
          "plot_bgcolor": "#E5ECF6",
          "polar": {
           "angularaxis": {
            "gridcolor": "white",
            "linecolor": "white",
            "ticks": ""
           },
           "bgcolor": "#E5ECF6",
           "radialaxis": {
            "gridcolor": "white",
            "linecolor": "white",
            "ticks": ""
           }
          },
          "scene": {
           "xaxis": {
            "backgroundcolor": "#E5ECF6",
            "gridcolor": "white",
            "gridwidth": 2,
            "linecolor": "white",
            "showbackground": true,
            "ticks": "",
            "zerolinecolor": "white"
           },
           "yaxis": {
            "backgroundcolor": "#E5ECF6",
            "gridcolor": "white",
            "gridwidth": 2,
            "linecolor": "white",
            "showbackground": true,
            "ticks": "",
            "zerolinecolor": "white"
           },
           "zaxis": {
            "backgroundcolor": "#E5ECF6",
            "gridcolor": "white",
            "gridwidth": 2,
            "linecolor": "white",
            "showbackground": true,
            "ticks": "",
            "zerolinecolor": "white"
           }
          },
          "shapedefaults": {
           "line": {
            "color": "#2a3f5f"
           }
          },
          "ternary": {
           "aaxis": {
            "gridcolor": "white",
            "linecolor": "white",
            "ticks": ""
           },
           "baxis": {
            "gridcolor": "white",
            "linecolor": "white",
            "ticks": ""
           },
           "bgcolor": "#E5ECF6",
           "caxis": {
            "gridcolor": "white",
            "linecolor": "white",
            "ticks": ""
           }
          },
          "title": {
           "x": 0.05
          },
          "xaxis": {
           "automargin": true,
           "gridcolor": "white",
           "linecolor": "white",
           "ticks": "",
           "title": {
            "standoff": 15
           },
           "zerolinecolor": "white",
           "zerolinewidth": 2
          },
          "yaxis": {
           "automargin": true,
           "gridcolor": "white",
           "linecolor": "white",
           "ticks": "",
           "title": {
            "standoff": 15
           },
           "zerolinecolor": "white",
           "zerolinewidth": 2
          }
         }
        },
        "title": {
         "text": "Community Total Annual Savings"
        },
        "width": 1100,
        "xaxis": {
         "anchor": "y",
         "domain": [
          0,
          0.00007998400319936014
         ],
         "tickangle": 45,
         "title": {
          "text": ""
         },
         "visible": false
        },
        "xaxis2": {
         "anchor": "y2",
         "domain": [
          0.12007998400319936,
          0.2000639872025595
         ],
         "tickangle": 45,
         "title": {
          "text": "Bill<br>Savings<br>usd"
         },
         "visible": true
        },
        "xaxis3": {
         "anchor": "y3",
         "domain": [
          0.32006398720255946,
          0.40004799040191963
         ],
         "tickangle": 45,
         "title": {
          "text": "Site Emission<br>Saving<br>kgCO2e"
         },
         "visible": true
        },
        "xaxis4": {
         "anchor": "y4",
         "domain": [
          0.5200479904019196,
          0.6000319936012798
         ],
         "tickangle": 45,
         "title": {
          "text": "Site Energy<br>Saving<br>mmbtu"
         },
         "visible": true
        },
        "xaxis5": {
         "anchor": "y5",
         "domain": [
          0.7200319936012798,
          0.80001599680064
         ],
         "tickangle": 45,
         "title": {
          "text": "Electricity<br>Saving<br>kwh"
         },
         "visible": true
        },
        "xaxis6": {
         "anchor": "y6",
         "domain": [
          0.9200159968006398,
          1
         ],
         "tickangle": 45,
         "title": {
          "text": "Gas, Propane,<br>Fuel Oil Saving<br>mmbtu"
         },
         "visible": true
        },
        "yaxis": {
         "anchor": "x",
         "domain": [
          0,
          1
         ],
         "visible": true
        },
        "yaxis2": {
         "anchor": "x2",
         "domain": [
          0,
          1
         ],
         "visible": false
        },
        "yaxis3": {
         "anchor": "x3",
         "domain": [
          0,
          1
         ],
         "visible": false
        },
        "yaxis4": {
         "anchor": "x4",
         "domain": [
          0,
          1
         ],
         "visible": false
        },
        "yaxis5": {
         "anchor": "x5",
         "domain": [
          0,
          1
         ],
         "visible": false
        },
        "yaxis6": {
         "anchor": "x6",
         "domain": [
          0,
          1
         ],
         "visible": false
        }
       }
      }
     },
     "metadata": {},
     "output_type": "display_data"
    }
   ],
   "source": [
    "results = figure_total_savings_2(community_results)\n",
    "saving_results[['whole_community_saving_bill_total_usd','whole_community_saving_emission_total_kgCO2e','whole_community_saving_energy_total_mmbtu','whole_community_saving_electricity_total_kwh','whole_community_saving_natural_gas_fuel_oil_propane_total_mmbtu']] = results"
   ]
  },
  {
   "cell_type": "code",
   "execution_count": 16,
   "id": "e7ef5df2",
   "metadata": {},
   "outputs": [
    {
     "data": {
      "application/vnd.plotly.v1+json": {
       "config": {
        "plotlyServerURL": "https://plot.ly"
       },
       "data": [
        {
         "cliponaxis": false,
         "marker": {
          "color": "rgb(255, 255, 255)",
          "line": {
           "color": "rgb(255, 255, 255)"
          }
         },
         "orientation": "h",
         "textangle": 0,
         "textfont": {
          "size": 10
         },
         "textposition": "outside",
         "type": "bar",
         "x": [
          0,
          0,
          0,
          0,
          0,
          0,
          0,
          0,
          0,
          0,
          0,
          0,
          0,
          0,
          0,
          0,
          0,
          0,
          0,
          0,
          0,
          0,
          0,
          0,
          0,
          0,
          0,
          0,
          0,
          0,
          0,
          0,
          0,
          0,
          0,
          0,
          0,
          0,
          0,
          0,
          0,
          0,
          0,
          0,
          0,
          0,
          0,
          0,
          0,
          0,
          0,
          0,
          0,
          0,
          0,
          0,
          0,
          0,
          0,
          0,
          0,
          0,
          0,
          0,
          0,
          0,
          0,
          0,
          0,
          0,
          0,
          0,
          0,
          0,
          0,
          0,
          0,
          0,
          0,
          0,
          0,
          0,
          0,
          0,
          0,
          0,
          0,
          0,
          0,
          0,
          0,
          0,
          0,
          0,
          0,
          0,
          0,
          0,
          0,
          0,
          0,
          0,
          0,
          0,
          0,
          0,
          0,
          0,
          0,
          0,
          0,
          0,
          0,
          0,
          0,
          0,
          0,
          0,
          0,
          0,
          0,
          0,
          0,
          0,
          0,
          0,
          0,
          0,
          0,
          0,
          0,
          0,
          0,
          0,
          0,
          0,
          0,
          0,
          0,
          0,
          0,
          0,
          0,
          0,
          0,
          0,
          0,
          0,
          0,
          0,
          0,
          0,
          0,
          0,
          0,
          0,
          0,
          0,
          0,
          0,
          0,
          0,
          0,
          0,
          0,
          0,
          0,
          0,
          0,
          0,
          0,
          0,
          0,
          0,
          0,
          0
         ],
         "xaxis": "x",
         "y": [
          "Mininum Efficiency Whole Home Electrification",
          "Mininum Efficiency Heat Pump with Electric Heat Backup",
          "High Efficiency Heat Pump with Electric Heat Backup",
          "Electric Clothes Dryer",
          "Electric Cooking",
          "Induction Cooking",
          "Heat Pump Clothes Dryer",
          "Mininum Efficiency Heat Pump with Existing Heat Backup",
          "Heat Pump Water Heater",
          "High Efficiency Whole Home Electrification",
          "Basic Enclosure",
          "Enhanced Enclosure",
          "Basic Enclosure + HPWH + High Efficiency HP/Electric Backup",
          "Basic Enclosure + High Efficiency Whole Home Electrification",
          "Enhanced Enclosure + HPWH + High Efficiency HP/Electric Backup",
          "Enhanced Enclosure + High Efficiency Whole Home Electrification"
         ],
         "yaxis": "y"
        },
        {
         "cliponaxis": false,
         "marker": {
          "color": "rgb(0, 121, 61)",
          "line": {
           "color": "rgb(0, 121, 61)"
          }
         },
         "orientation": "h",
         "text": [
          -21367390.671423443,
          -20327528.181549888,
          -395459.1508117569,
          -116662.26682610072,
          -83816.51093521103,
          20377.903633061545,
          506819.9685175932,
          1305499.7908440067,
          1921829.8104714649,
          4859006.152865477,
          8318934.913899742,
          11272565.211944839,
          13911975.442515345,
          14533608.21714293,
          15197241.655928282,
          15818874.430555867
         ],
         "textangle": 0,
         "textfont": {
          "size": 10
         },
         "textposition": "outside",
         "texttemplate": "%{text:.3s}",
         "type": "bar",
         "x": [
          -21367390.671423443,
          -20327528.181549888,
          -395459.1508117569,
          -116662.26682610072,
          -83816.51093521103,
          20377.903633061545,
          506819.9685175932,
          1305499.7908440067,
          1921829.8104714649,
          4859006.152865477,
          8318934.913899742,
          11272565.211944839,
          13911975.442515345,
          14533608.21714293,
          15197241.655928282,
          15818874.430555867
         ],
         "xaxis": "x2",
         "y": [
          "Mininum Efficiency Whole Home Electrification",
          "Mininum Efficiency Heat Pump with Electric Heat Backup",
          "High Efficiency Heat Pump with Electric Heat Backup",
          "Electric Clothes Dryer",
          "Electric Cooking",
          "Induction Cooking",
          "Heat Pump Clothes Dryer",
          "Mininum Efficiency Heat Pump with Existing Heat Backup",
          "Heat Pump Water Heater",
          "High Efficiency Whole Home Electrification",
          "Basic Enclosure",
          "Enhanced Enclosure",
          "Basic Enclosure + HPWH + High Efficiency HP/Electric Backup",
          "Basic Enclosure + High Efficiency Whole Home Electrification",
          "Enhanced Enclosure + HPWH + High Efficiency HP/Electric Backup",
          "Enhanced Enclosure + High Efficiency Whole Home Electrification"
         ],
         "yaxis": "y2"
        },
        {
         "cliponaxis": false,
         "marker": {
          "color": "rgb(0, 121, 61)",
          "line": {
           "color": "rgb(0, 121, 61)"
          }
         },
         "orientation": "h",
         "text": [
          230326391.65844133,
          205622565.21037492,
          236108114.61562437,
          507366.0023379695,
          1561327.9044513842,
          1701158.1002626037,
          1333014.305647918,
          62965505.80782202,
          15974956.45396246,
          269875258.9534309,
          59874749.554827884,
          80049730.7991554,
          282022130.0451105,
          285056302.451021,
          284055256.4995859,
          287089428.9054964
         ],
         "textangle": 0,
         "textfont": {
          "size": 10
         },
         "textposition": "outside",
         "texttemplate": "%{text:.3s}",
         "type": "bar",
         "x": [
          230326391.65844133,
          205622565.21037492,
          236108114.61562437,
          507366.0023379695,
          1561327.9044513842,
          1701158.1002626037,
          1333014.305647918,
          62965505.80782202,
          15974956.45396246,
          269875258.9534309,
          59874749.554827884,
          80049730.7991554,
          282022130.0451105,
          285056302.451021,
          284055256.4995859,
          287089428.9054964
         ],
         "xaxis": "x3",
         "y": [
          "Mininum Efficiency Whole Home Electrification",
          "Mininum Efficiency Heat Pump with Electric Heat Backup",
          "High Efficiency Heat Pump with Electric Heat Backup",
          "Electric Clothes Dryer",
          "Electric Cooking",
          "Induction Cooking",
          "Heat Pump Clothes Dryer",
          "Mininum Efficiency Heat Pump with Existing Heat Backup",
          "Heat Pump Water Heater",
          "High Efficiency Whole Home Electrification",
          "Basic Enclosure",
          "Enhanced Enclosure",
          "Basic Enclosure + HPWH + High Efficiency HP/Electric Backup",
          "Basic Enclosure + High Efficiency Whole Home Electrification",
          "Enhanced Enclosure + HPWH + High Efficiency HP/Electric Backup",
          "Enhanced Enclosure + High Efficiency Whole Home Electrification"
         ],
         "yaxis": "y3"
        },
        {
         "cliponaxis": false,
         "marker": {
          "color": "rgb(0, 121, 61)",
          "line": {
           "color": "rgb(0, 121, 61)"
          }
         },
         "orientation": "h",
         "text": [
          2240440.1620378606,
          1983524.0378412406,
          2794418.211867845,
          2801.7984414317593,
          15856.669821657038,
          20097.254946073608,
          28176.424961546327,
          767524.6556025974,
          232478.18009854818,
          3307808.7393468744,
          892594.6841050673,
          1196686.753324821,
          3653274.277821498,
          3701547.957729118,
          3705582.4014105294,
          3753856.0813181493
         ],
         "textangle": 0,
         "textfont": {
          "size": 10
         },
         "textposition": "outside",
         "texttemplate": "%{text:.3s}",
         "type": "bar",
         "x": [
          2240440.1620378606,
          1983524.0378412406,
          2794418.211867845,
          2801.7984414317593,
          15856.669821657038,
          20097.254946073608,
          28176.424961546327,
          767524.6556025974,
          232478.18009854818,
          3307808.7393468744,
          892594.6841050673,
          1196686.753324821,
          3653274.277821498,
          3701547.957729118,
          3705582.4014105294,
          3753856.0813181493
         ],
         "xaxis": "x4",
         "y": [
          "Mininum Efficiency Whole Home Electrification",
          "Mininum Efficiency Heat Pump with Electric Heat Backup",
          "High Efficiency Heat Pump with Electric Heat Backup",
          "Electric Clothes Dryer",
          "Electric Cooking",
          "Induction Cooking",
          "Heat Pump Clothes Dryer",
          "Mininum Efficiency Heat Pump with Existing Heat Backup",
          "Heat Pump Water Heater",
          "High Efficiency Whole Home Electrification",
          "Basic Enclosure",
          "Enhanced Enclosure",
          "Basic Enclosure + HPWH + High Efficiency HP/Electric Backup",
          "Basic Enclosure + High Efficiency Whole Home Electrification",
          "Enhanced Enclosure + HPWH + High Efficiency HP/Electric Backup",
          "Enhanced Enclosure + High Efficiency Whole Home Electrification"
         ],
         "yaxis": "y4"
        }
       ],
       "layout": {
        "autosize": false,
        "font": {
         "size": 10
        },
        "height": 500,
        "plot_bgcolor": "rgba(0, 0, 0, 0)",
        "showlegend": false,
        "template": {
         "data": {
          "bar": [
           {
            "error_x": {
             "color": "#2a3f5f"
            },
            "error_y": {
             "color": "#2a3f5f"
            },
            "marker": {
             "line": {
              "color": "#E5ECF6",
              "width": 0.5
             },
             "pattern": {
              "fillmode": "overlay",
              "size": 10,
              "solidity": 0.2
             }
            },
            "type": "bar"
           }
          ],
          "barpolar": [
           {
            "marker": {
             "line": {
              "color": "#E5ECF6",
              "width": 0.5
             },
             "pattern": {
              "fillmode": "overlay",
              "size": 10,
              "solidity": 0.2
             }
            },
            "type": "barpolar"
           }
          ],
          "carpet": [
           {
            "aaxis": {
             "endlinecolor": "#2a3f5f",
             "gridcolor": "white",
             "linecolor": "white",
             "minorgridcolor": "white",
             "startlinecolor": "#2a3f5f"
            },
            "baxis": {
             "endlinecolor": "#2a3f5f",
             "gridcolor": "white",
             "linecolor": "white",
             "minorgridcolor": "white",
             "startlinecolor": "#2a3f5f"
            },
            "type": "carpet"
           }
          ],
          "choropleth": [
           {
            "colorbar": {
             "outlinewidth": 0,
             "ticks": ""
            },
            "type": "choropleth"
           }
          ],
          "contour": [
           {
            "colorbar": {
             "outlinewidth": 0,
             "ticks": ""
            },
            "colorscale": [
             [
              0,
              "#0d0887"
             ],
             [
              0.1111111111111111,
              "#46039f"
             ],
             [
              0.2222222222222222,
              "#7201a8"
             ],
             [
              0.3333333333333333,
              "#9c179e"
             ],
             [
              0.4444444444444444,
              "#bd3786"
             ],
             [
              0.5555555555555556,
              "#d8576b"
             ],
             [
              0.6666666666666666,
              "#ed7953"
             ],
             [
              0.7777777777777778,
              "#fb9f3a"
             ],
             [
              0.8888888888888888,
              "#fdca26"
             ],
             [
              1,
              "#f0f921"
             ]
            ],
            "type": "contour"
           }
          ],
          "contourcarpet": [
           {
            "colorbar": {
             "outlinewidth": 0,
             "ticks": ""
            },
            "type": "contourcarpet"
           }
          ],
          "heatmap": [
           {
            "colorbar": {
             "outlinewidth": 0,
             "ticks": ""
            },
            "colorscale": [
             [
              0,
              "#0d0887"
             ],
             [
              0.1111111111111111,
              "#46039f"
             ],
             [
              0.2222222222222222,
              "#7201a8"
             ],
             [
              0.3333333333333333,
              "#9c179e"
             ],
             [
              0.4444444444444444,
              "#bd3786"
             ],
             [
              0.5555555555555556,
              "#d8576b"
             ],
             [
              0.6666666666666666,
              "#ed7953"
             ],
             [
              0.7777777777777778,
              "#fb9f3a"
             ],
             [
              0.8888888888888888,
              "#fdca26"
             ],
             [
              1,
              "#f0f921"
             ]
            ],
            "type": "heatmap"
           }
          ],
          "heatmapgl": [
           {
            "colorbar": {
             "outlinewidth": 0,
             "ticks": ""
            },
            "colorscale": [
             [
              0,
              "#0d0887"
             ],
             [
              0.1111111111111111,
              "#46039f"
             ],
             [
              0.2222222222222222,
              "#7201a8"
             ],
             [
              0.3333333333333333,
              "#9c179e"
             ],
             [
              0.4444444444444444,
              "#bd3786"
             ],
             [
              0.5555555555555556,
              "#d8576b"
             ],
             [
              0.6666666666666666,
              "#ed7953"
             ],
             [
              0.7777777777777778,
              "#fb9f3a"
             ],
             [
              0.8888888888888888,
              "#fdca26"
             ],
             [
              1,
              "#f0f921"
             ]
            ],
            "type": "heatmapgl"
           }
          ],
          "histogram": [
           {
            "marker": {
             "pattern": {
              "fillmode": "overlay",
              "size": 10,
              "solidity": 0.2
             }
            },
            "type": "histogram"
           }
          ],
          "histogram2d": [
           {
            "colorbar": {
             "outlinewidth": 0,
             "ticks": ""
            },
            "colorscale": [
             [
              0,
              "#0d0887"
             ],
             [
              0.1111111111111111,
              "#46039f"
             ],
             [
              0.2222222222222222,
              "#7201a8"
             ],
             [
              0.3333333333333333,
              "#9c179e"
             ],
             [
              0.4444444444444444,
              "#bd3786"
             ],
             [
              0.5555555555555556,
              "#d8576b"
             ],
             [
              0.6666666666666666,
              "#ed7953"
             ],
             [
              0.7777777777777778,
              "#fb9f3a"
             ],
             [
              0.8888888888888888,
              "#fdca26"
             ],
             [
              1,
              "#f0f921"
             ]
            ],
            "type": "histogram2d"
           }
          ],
          "histogram2dcontour": [
           {
            "colorbar": {
             "outlinewidth": 0,
             "ticks": ""
            },
            "colorscale": [
             [
              0,
              "#0d0887"
             ],
             [
              0.1111111111111111,
              "#46039f"
             ],
             [
              0.2222222222222222,
              "#7201a8"
             ],
             [
              0.3333333333333333,
              "#9c179e"
             ],
             [
              0.4444444444444444,
              "#bd3786"
             ],
             [
              0.5555555555555556,
              "#d8576b"
             ],
             [
              0.6666666666666666,
              "#ed7953"
             ],
             [
              0.7777777777777778,
              "#fb9f3a"
             ],
             [
              0.8888888888888888,
              "#fdca26"
             ],
             [
              1,
              "#f0f921"
             ]
            ],
            "type": "histogram2dcontour"
           }
          ],
          "mesh3d": [
           {
            "colorbar": {
             "outlinewidth": 0,
             "ticks": ""
            },
            "type": "mesh3d"
           }
          ],
          "parcoords": [
           {
            "line": {
             "colorbar": {
              "outlinewidth": 0,
              "ticks": ""
             }
            },
            "type": "parcoords"
           }
          ],
          "pie": [
           {
            "automargin": true,
            "type": "pie"
           }
          ],
          "scatter": [
           {
            "fillpattern": {
             "fillmode": "overlay",
             "size": 10,
             "solidity": 0.2
            },
            "type": "scatter"
           }
          ],
          "scatter3d": [
           {
            "line": {
             "colorbar": {
              "outlinewidth": 0,
              "ticks": ""
             }
            },
            "marker": {
             "colorbar": {
              "outlinewidth": 0,
              "ticks": ""
             }
            },
            "type": "scatter3d"
           }
          ],
          "scattercarpet": [
           {
            "marker": {
             "colorbar": {
              "outlinewidth": 0,
              "ticks": ""
             }
            },
            "type": "scattercarpet"
           }
          ],
          "scattergeo": [
           {
            "marker": {
             "colorbar": {
              "outlinewidth": 0,
              "ticks": ""
             }
            },
            "type": "scattergeo"
           }
          ],
          "scattergl": [
           {
            "marker": {
             "colorbar": {
              "outlinewidth": 0,
              "ticks": ""
             }
            },
            "type": "scattergl"
           }
          ],
          "scattermapbox": [
           {
            "marker": {
             "colorbar": {
              "outlinewidth": 0,
              "ticks": ""
             }
            },
            "type": "scattermapbox"
           }
          ],
          "scatterpolar": [
           {
            "marker": {
             "colorbar": {
              "outlinewidth": 0,
              "ticks": ""
             }
            },
            "type": "scatterpolar"
           }
          ],
          "scatterpolargl": [
           {
            "marker": {
             "colorbar": {
              "outlinewidth": 0,
              "ticks": ""
             }
            },
            "type": "scatterpolargl"
           }
          ],
          "scatterternary": [
           {
            "marker": {
             "colorbar": {
              "outlinewidth": 0,
              "ticks": ""
             }
            },
            "type": "scatterternary"
           }
          ],
          "surface": [
           {
            "colorbar": {
             "outlinewidth": 0,
             "ticks": ""
            },
            "colorscale": [
             [
              0,
              "#0d0887"
             ],
             [
              0.1111111111111111,
              "#46039f"
             ],
             [
              0.2222222222222222,
              "#7201a8"
             ],
             [
              0.3333333333333333,
              "#9c179e"
             ],
             [
              0.4444444444444444,
              "#bd3786"
             ],
             [
              0.5555555555555556,
              "#d8576b"
             ],
             [
              0.6666666666666666,
              "#ed7953"
             ],
             [
              0.7777777777777778,
              "#fb9f3a"
             ],
             [
              0.8888888888888888,
              "#fdca26"
             ],
             [
              1,
              "#f0f921"
             ]
            ],
            "type": "surface"
           }
          ],
          "table": [
           {
            "cells": {
             "fill": {
              "color": "#EBF0F8"
             },
             "line": {
              "color": "white"
             }
            },
            "header": {
             "fill": {
              "color": "#C8D4E3"
             },
             "line": {
              "color": "white"
             }
            },
            "type": "table"
           }
          ]
         },
         "layout": {
          "annotationdefaults": {
           "arrowcolor": "#2a3f5f",
           "arrowhead": 0,
           "arrowwidth": 1
          },
          "autotypenumbers": "strict",
          "coloraxis": {
           "colorbar": {
            "outlinewidth": 0,
            "ticks": ""
           }
          },
          "colorscale": {
           "diverging": [
            [
             0,
             "#8e0152"
            ],
            [
             0.1,
             "#c51b7d"
            ],
            [
             0.2,
             "#de77ae"
            ],
            [
             0.3,
             "#f1b6da"
            ],
            [
             0.4,
             "#fde0ef"
            ],
            [
             0.5,
             "#f7f7f7"
            ],
            [
             0.6,
             "#e6f5d0"
            ],
            [
             0.7,
             "#b8e186"
            ],
            [
             0.8,
             "#7fbc41"
            ],
            [
             0.9,
             "#4d9221"
            ],
            [
             1,
             "#276419"
            ]
           ],
           "sequential": [
            [
             0,
             "#0d0887"
            ],
            [
             0.1111111111111111,
             "#46039f"
            ],
            [
             0.2222222222222222,
             "#7201a8"
            ],
            [
             0.3333333333333333,
             "#9c179e"
            ],
            [
             0.4444444444444444,
             "#bd3786"
            ],
            [
             0.5555555555555556,
             "#d8576b"
            ],
            [
             0.6666666666666666,
             "#ed7953"
            ],
            [
             0.7777777777777778,
             "#fb9f3a"
            ],
            [
             0.8888888888888888,
             "#fdca26"
            ],
            [
             1,
             "#f0f921"
            ]
           ],
           "sequentialminus": [
            [
             0,
             "#0d0887"
            ],
            [
             0.1111111111111111,
             "#46039f"
            ],
            [
             0.2222222222222222,
             "#7201a8"
            ],
            [
             0.3333333333333333,
             "#9c179e"
            ],
            [
             0.4444444444444444,
             "#bd3786"
            ],
            [
             0.5555555555555556,
             "#d8576b"
            ],
            [
             0.6666666666666666,
             "#ed7953"
            ],
            [
             0.7777777777777778,
             "#fb9f3a"
            ],
            [
             0.8888888888888888,
             "#fdca26"
            ],
            [
             1,
             "#f0f921"
            ]
           ]
          },
          "colorway": [
           "#636efa",
           "#EF553B",
           "#00cc96",
           "#ab63fa",
           "#FFA15A",
           "#19d3f3",
           "#FF6692",
           "#B6E880",
           "#FF97FF",
           "#FECB52"
          ],
          "font": {
           "color": "#2a3f5f"
          },
          "geo": {
           "bgcolor": "white",
           "lakecolor": "white",
           "landcolor": "#E5ECF6",
           "showlakes": true,
           "showland": true,
           "subunitcolor": "white"
          },
          "hoverlabel": {
           "align": "left"
          },
          "hovermode": "closest",
          "mapbox": {
           "style": "light"
          },
          "paper_bgcolor": "white",
          "plot_bgcolor": "#E5ECF6",
          "polar": {
           "angularaxis": {
            "gridcolor": "white",
            "linecolor": "white",
            "ticks": ""
           },
           "bgcolor": "#E5ECF6",
           "radialaxis": {
            "gridcolor": "white",
            "linecolor": "white",
            "ticks": ""
           }
          },
          "scene": {
           "xaxis": {
            "backgroundcolor": "#E5ECF6",
            "gridcolor": "white",
            "gridwidth": 2,
            "linecolor": "white",
            "showbackground": true,
            "ticks": "",
            "zerolinecolor": "white"
           },
           "yaxis": {
            "backgroundcolor": "#E5ECF6",
            "gridcolor": "white",
            "gridwidth": 2,
            "linecolor": "white",
            "showbackground": true,
            "ticks": "",
            "zerolinecolor": "white"
           },
           "zaxis": {
            "backgroundcolor": "#E5ECF6",
            "gridcolor": "white",
            "gridwidth": 2,
            "linecolor": "white",
            "showbackground": true,
            "ticks": "",
            "zerolinecolor": "white"
           }
          },
          "shapedefaults": {
           "line": {
            "color": "#2a3f5f"
           }
          },
          "ternary": {
           "aaxis": {
            "gridcolor": "white",
            "linecolor": "white",
            "ticks": ""
           },
           "baxis": {
            "gridcolor": "white",
            "linecolor": "white",
            "ticks": ""
           },
           "bgcolor": "#E5ECF6",
           "caxis": {
            "gridcolor": "white",
            "linecolor": "white",
            "ticks": ""
           }
          },
          "title": {
           "x": 0.05
          },
          "xaxis": {
           "automargin": true,
           "gridcolor": "white",
           "linecolor": "white",
           "ticks": "",
           "title": {
            "standoff": 15
           },
           "zerolinecolor": "white",
           "zerolinewidth": 2
          },
          "yaxis": {
           "automargin": true,
           "gridcolor": "white",
           "linecolor": "white",
           "ticks": "",
           "title": {
            "standoff": 15
           },
           "zerolinecolor": "white",
           "zerolinewidth": 2
          }
         }
        },
        "title": {
         "text": "Total Annual Savings for the Whole Community"
        },
        "width": 850,
        "xaxis": {
         "anchor": "y",
         "domain": [
          0,
          0.004635761589403973
         ],
         "tickangle": 45,
         "title": {
          "text": ""
         },
         "visible": false
        },
        "xaxis2": {
         "anchor": "y2",
         "domain": [
          0.10463576158940398,
          0.33642384105960266
         ],
         "tickangle": 45,
         "title": {
          "text": "Bill Savings<br>usd"
         },
         "visible": true
        },
        "xaxis3": {
         "anchor": "y3",
         "domain": [
          0.43642384105960264,
          0.6682119205298013
         ],
         "tickangle": 45,
         "title": {
          "text": "Emission Savings<br>kgCO2e"
         },
         "visible": true
        },
        "xaxis4": {
         "anchor": "y4",
         "domain": [
          0.7682119205298014,
          1
         ],
         "tickangle": 45,
         "title": {
          "text": "Energy Savings<br>mmbtu"
         },
         "visible": true
        },
        "yaxis": {
         "anchor": "x",
         "domain": [
          0,
          1
         ],
         "visible": true
        },
        "yaxis2": {
         "anchor": "x2",
         "domain": [
          0,
          1
         ],
         "visible": false
        },
        "yaxis3": {
         "anchor": "x3",
         "domain": [
          0,
          1
         ],
         "visible": false
        },
        "yaxis4": {
         "anchor": "x4",
         "domain": [
          0,
          1
         ],
         "visible": false
        }
       }
      }
     },
     "metadata": {},
     "output_type": "display_data"
    }
   ],
   "source": [
    "figure_total_savings_3(community_results) "
   ]
  },
  {
   "cell_type": "markdown",
   "id": "e25c8f8e",
   "metadata": {},
   "source": [
    "## 1.3 Annual Savings Per Dwelling Unit"
   ]
  },
  {
   "cell_type": "code",
   "execution_count": 17,
   "id": "9ba37c55",
   "metadata": {},
   "outputs": [
    {
     "name": "stdout",
     "output_type": "stream",
     "text": [
      "sample_weight\n"
     ]
    },
    {
     "data": {
      "text/plain": [
       "upgrade_name\n",
       "Mininum Efficiency Whole Home Electrification                      35144.658339\n",
       "Mininum Efficiency Heat Pump with Electric Heat Backup             39762.000000\n",
       "Electric Clothes Dryer                                              5914.743706\n",
       "High Efficiency Heat Pump with Electric Heat Backup                39762.000000\n",
       "Electric Cooking                                                   12722.230006\n",
       "Induction Cooking                                                  39329.804348\n",
       "Heat Pump Clothes Dryer                                            32436.993494\n",
       "Mininum Efficiency Heat Pump with Existing Heat Backup             37835.613214\n",
       "Heat Pump Water Heater                                             39724.904866\n",
       "High Efficiency Whole Home Electrification                         39762.000000\n",
       "Basic Enclosure                                                    34337.157808\n",
       "Enhanced Enclosure                                                 35606.210876\n",
       "Basic Enclosure + HPWH + High Efficiency HP/Electric Backup        39762.000000\n",
       "Basic Enclosure + High Efficiency Whole Home Electrification       39762.000000\n",
       "Enhanced Enclosure + HPWH + High Efficiency HP/Electric Backup     39762.000000\n",
       "Enhanced Enclosure + High Efficiency Whole Home Electrification    39762.000000\n",
       "Name: sample_weight, dtype: float64"
      ]
     },
     "metadata": {},
     "output_type": "display_data"
    },
    {
     "data": {
      "application/vnd.plotly.v1+json": {
       "config": {
        "plotlyServerURL": "https://plot.ly"
       },
       "data": [
        {
         "cliponaxis": false,
         "marker": {
          "color": "rgb(255, 255, 255)",
          "line": {
           "color": "rgb(255, 255, 255)"
          }
         },
         "orientation": "h",
         "textangle": 0,
         "textfont": {
          "size": 10
         },
         "textposition": "outside",
         "type": "bar",
         "x": [
          0,
          0,
          0,
          0,
          0,
          0,
          0,
          0,
          0,
          0,
          0,
          0,
          0,
          0,
          0,
          0,
          0,
          0,
          0,
          0,
          0,
          0,
          0,
          0,
          0,
          0,
          0,
          0,
          0,
          0,
          0,
          0,
          0,
          0,
          0,
          0,
          0,
          0,
          0,
          0,
          0,
          0,
          0,
          0,
          0,
          0,
          0,
          0,
          0,
          0,
          0,
          0,
          0,
          0,
          0,
          0,
          0,
          0,
          0,
          0,
          0,
          0,
          0,
          0,
          0,
          0,
          0,
          0,
          0,
          0,
          0,
          0,
          0,
          0,
          0,
          0,
          0,
          0,
          0,
          0,
          0,
          0,
          0,
          0,
          0,
          0,
          0,
          0,
          0,
          0,
          0,
          0,
          0,
          0,
          0,
          0,
          0,
          0,
          0,
          0,
          0,
          0,
          0,
          0,
          0,
          0,
          0,
          0,
          0,
          0,
          0,
          0,
          0,
          0,
          0,
          0,
          0,
          0,
          0,
          0,
          0,
          0,
          0,
          0,
          0,
          0,
          0,
          0,
          0,
          0,
          0,
          0,
          0,
          0,
          0,
          0,
          0,
          0,
          0,
          0,
          0,
          0,
          0,
          0,
          0,
          0,
          0,
          0,
          0,
          0,
          0,
          0,
          0,
          0,
          0,
          0,
          0,
          0,
          0,
          0,
          0,
          0,
          0,
          0,
          0,
          0,
          0,
          0,
          0,
          0,
          0,
          0,
          0,
          0,
          0,
          0
         ],
         "xaxis": "x",
         "y": [
          "Mininum Efficiency Whole Home Electrification",
          "Mininum Efficiency Heat Pump with Electric Heat Backup",
          "Electric Clothes Dryer",
          "High Efficiency Heat Pump with Electric Heat Backup",
          "Electric Cooking",
          "Induction Cooking",
          "Heat Pump Clothes Dryer",
          "Mininum Efficiency Heat Pump with Existing Heat Backup",
          "Heat Pump Water Heater",
          "High Efficiency Whole Home Electrification",
          "Basic Enclosure",
          "Enhanced Enclosure",
          "Basic Enclosure + HPWH + High Efficiency HP/Electric Backup",
          "Basic Enclosure + High Efficiency Whole Home Electrification",
          "Enhanced Enclosure + HPWH + High Efficiency HP/Electric Backup",
          "Enhanced Enclosure + High Efficiency Whole Home Electrification"
         ],
         "yaxis": "y"
        },
        {
         "cliponaxis": false,
         "marker": {
          "color": "rgb(0, 121, 61)",
          "line": {
           "color": "rgb(0, 121, 61)"
          }
         },
         "orientation": "h",
         "text": [
          -607.9840203605943,
          -511.2300231766483,
          -19.723976663517806,
          -9.94565542004318,
          -6.588193335441084,
          0.5181287822548731,
          15.624751677708579,
          34.50452311819599,
          48.378462250359966,
          122.20225725228804,
          242.27208787784213,
          316.5898570681857,
          349.8811790784001,
          365.5150197963616,
          382.20516211277805,
          397.83900283073956
         ],
         "textangle": 0,
         "textfont": {
          "size": 10
         },
         "textposition": "outside",
         "texttemplate": "%{text:.3s}",
         "type": "bar",
         "x": [
          -607.9840203605943,
          -511.2300231766483,
          -19.723976663517806,
          -9.94565542004318,
          -6.588193335441084,
          0.5181287822548731,
          15.624751677708579,
          34.50452311819599,
          48.378462250359966,
          122.20225725228804,
          242.27208787784213,
          316.5898570681857,
          349.8811790784001,
          365.5150197963616,
          382.20516211277805,
          397.83900283073956
         ],
         "xaxis": "x2",
         "y": [
          "Mininum Efficiency Whole Home Electrification",
          "Mininum Efficiency Heat Pump with Electric Heat Backup",
          "Electric Clothes Dryer",
          "High Efficiency Heat Pump with Electric Heat Backup",
          "Electric Cooking",
          "Induction Cooking",
          "Heat Pump Clothes Dryer",
          "Mininum Efficiency Heat Pump with Existing Heat Backup",
          "Heat Pump Water Heater",
          "High Efficiency Whole Home Electrification",
          "Basic Enclosure",
          "Enhanced Enclosure",
          "Basic Enclosure + HPWH + High Efficiency HP/Electric Backup",
          "Basic Enclosure + High Efficiency Whole Home Electrification",
          "Enhanced Enclosure + HPWH + High Efficiency HP/Electric Backup",
          "Enhanced Enclosure + High Efficiency Whole Home Electrification"
         ],
         "yaxis": "y2"
        },
        {
         "cliponaxis": false,
         "marker": {
          "color": "rgb(0, 121, 61)",
          "line": {
           "color": "rgb(0, 121, 61)"
          }
         },
         "orientation": "h",
         "text": [
          6553.667115888383,
          5171.333564970951,
          85.77987949517122,
          5938.03416869434,
          122.72438902277847,
          43.25366292742906,
          41.095495052221565,
          1664.186211313228,
          402.1395773695343,
          6787.265704779208,
          1743.730505881666,
          2248.195717262032,
          7092.755144235967,
          7169.063489035286,
          7143.887543372716,
          7220.195888172034
         ],
         "textangle": 0,
         "textfont": {
          "size": 10
         },
         "textposition": "outside",
         "texttemplate": "%{text:.3s}",
         "type": "bar",
         "x": [
          6553.667115888383,
          5171.333564970951,
          85.77987949517122,
          5938.03416869434,
          122.72438902277847,
          43.25366292742906,
          41.095495052221565,
          1664.186211313228,
          402.1395773695343,
          6787.265704779208,
          1743.730505881666,
          2248.195717262032,
          7092.755144235967,
          7169.063489035286,
          7143.887543372716,
          7220.195888172034
         ],
         "xaxis": "x3",
         "y": [
          "Mininum Efficiency Whole Home Electrification",
          "Mininum Efficiency Heat Pump with Electric Heat Backup",
          "Electric Clothes Dryer",
          "High Efficiency Heat Pump with Electric Heat Backup",
          "Electric Cooking",
          "Induction Cooking",
          "Heat Pump Clothes Dryer",
          "Mininum Efficiency Heat Pump with Existing Heat Backup",
          "Heat Pump Water Heater",
          "High Efficiency Whole Home Electrification",
          "Basic Enclosure",
          "Enhanced Enclosure",
          "Basic Enclosure + HPWH + High Efficiency HP/Electric Backup",
          "Basic Enclosure + High Efficiency Whole Home Electrification",
          "Enhanced Enclosure + HPWH + High Efficiency HP/Electric Backup",
          "Enhanced Enclosure + High Efficiency Whole Home Electrification"
         ],
         "yaxis": "y3"
        },
        {
         "cliponaxis": false,
         "marker": {
          "color": "rgb(0, 121, 61)",
          "line": {
           "color": "rgb(0, 121, 61)"
          }
         },
         "orientation": "h",
         "text": [
          63.74909496623046,
          49.88491619740558,
          0.473697353721544,
          70.27861304430978,
          1.2463750313119335,
          0.5109930059233682,
          0.8686509422220378,
          20.285772857844666,
          5.852202311905491,
          83.19020017471139,
          25.99500777262648,
          33.608932932944406,
          91.87853422417128,
          93.09259991270856,
          93.19406472034932,
          94.4081304088866
         ],
         "textangle": 0,
         "textfont": {
          "size": 10
         },
         "textposition": "outside",
         "texttemplate": "%{text:.3s}",
         "type": "bar",
         "x": [
          63.74909496623046,
          49.88491619740558,
          0.473697353721544,
          70.27861304430978,
          1.2463750313119335,
          0.5109930059233682,
          0.8686509422220378,
          20.285772857844666,
          5.852202311905491,
          83.19020017471139,
          25.99500777262648,
          33.608932932944406,
          91.87853422417128,
          93.09259991270856,
          93.19406472034932,
          94.4081304088866
         ],
         "xaxis": "x4",
         "y": [
          "Mininum Efficiency Whole Home Electrification",
          "Mininum Efficiency Heat Pump with Electric Heat Backup",
          "Electric Clothes Dryer",
          "High Efficiency Heat Pump with Electric Heat Backup",
          "Electric Cooking",
          "Induction Cooking",
          "Heat Pump Clothes Dryer",
          "Mininum Efficiency Heat Pump with Existing Heat Backup",
          "Heat Pump Water Heater",
          "High Efficiency Whole Home Electrification",
          "Basic Enclosure",
          "Enhanced Enclosure",
          "Basic Enclosure + HPWH + High Efficiency HP/Electric Backup",
          "Basic Enclosure + High Efficiency Whole Home Electrification",
          "Enhanced Enclosure + HPWH + High Efficiency HP/Electric Backup",
          "Enhanced Enclosure + High Efficiency Whole Home Electrification"
         ],
         "yaxis": "y4"
        }
       ],
       "layout": {
        "autosize": false,
        "font": {
         "size": 10
        },
        "height": 500,
        "plot_bgcolor": "rgba(0, 0, 0, 0)",
        "showlegend": false,
        "template": {
         "data": {
          "bar": [
           {
            "error_x": {
             "color": "#2a3f5f"
            },
            "error_y": {
             "color": "#2a3f5f"
            },
            "marker": {
             "line": {
              "color": "#E5ECF6",
              "width": 0.5
             },
             "pattern": {
              "fillmode": "overlay",
              "size": 10,
              "solidity": 0.2
             }
            },
            "type": "bar"
           }
          ],
          "barpolar": [
           {
            "marker": {
             "line": {
              "color": "#E5ECF6",
              "width": 0.5
             },
             "pattern": {
              "fillmode": "overlay",
              "size": 10,
              "solidity": 0.2
             }
            },
            "type": "barpolar"
           }
          ],
          "carpet": [
           {
            "aaxis": {
             "endlinecolor": "#2a3f5f",
             "gridcolor": "white",
             "linecolor": "white",
             "minorgridcolor": "white",
             "startlinecolor": "#2a3f5f"
            },
            "baxis": {
             "endlinecolor": "#2a3f5f",
             "gridcolor": "white",
             "linecolor": "white",
             "minorgridcolor": "white",
             "startlinecolor": "#2a3f5f"
            },
            "type": "carpet"
           }
          ],
          "choropleth": [
           {
            "colorbar": {
             "outlinewidth": 0,
             "ticks": ""
            },
            "type": "choropleth"
           }
          ],
          "contour": [
           {
            "colorbar": {
             "outlinewidth": 0,
             "ticks": ""
            },
            "colorscale": [
             [
              0,
              "#0d0887"
             ],
             [
              0.1111111111111111,
              "#46039f"
             ],
             [
              0.2222222222222222,
              "#7201a8"
             ],
             [
              0.3333333333333333,
              "#9c179e"
             ],
             [
              0.4444444444444444,
              "#bd3786"
             ],
             [
              0.5555555555555556,
              "#d8576b"
             ],
             [
              0.6666666666666666,
              "#ed7953"
             ],
             [
              0.7777777777777778,
              "#fb9f3a"
             ],
             [
              0.8888888888888888,
              "#fdca26"
             ],
             [
              1,
              "#f0f921"
             ]
            ],
            "type": "contour"
           }
          ],
          "contourcarpet": [
           {
            "colorbar": {
             "outlinewidth": 0,
             "ticks": ""
            },
            "type": "contourcarpet"
           }
          ],
          "heatmap": [
           {
            "colorbar": {
             "outlinewidth": 0,
             "ticks": ""
            },
            "colorscale": [
             [
              0,
              "#0d0887"
             ],
             [
              0.1111111111111111,
              "#46039f"
             ],
             [
              0.2222222222222222,
              "#7201a8"
             ],
             [
              0.3333333333333333,
              "#9c179e"
             ],
             [
              0.4444444444444444,
              "#bd3786"
             ],
             [
              0.5555555555555556,
              "#d8576b"
             ],
             [
              0.6666666666666666,
              "#ed7953"
             ],
             [
              0.7777777777777778,
              "#fb9f3a"
             ],
             [
              0.8888888888888888,
              "#fdca26"
             ],
             [
              1,
              "#f0f921"
             ]
            ],
            "type": "heatmap"
           }
          ],
          "heatmapgl": [
           {
            "colorbar": {
             "outlinewidth": 0,
             "ticks": ""
            },
            "colorscale": [
             [
              0,
              "#0d0887"
             ],
             [
              0.1111111111111111,
              "#46039f"
             ],
             [
              0.2222222222222222,
              "#7201a8"
             ],
             [
              0.3333333333333333,
              "#9c179e"
             ],
             [
              0.4444444444444444,
              "#bd3786"
             ],
             [
              0.5555555555555556,
              "#d8576b"
             ],
             [
              0.6666666666666666,
              "#ed7953"
             ],
             [
              0.7777777777777778,
              "#fb9f3a"
             ],
             [
              0.8888888888888888,
              "#fdca26"
             ],
             [
              1,
              "#f0f921"
             ]
            ],
            "type": "heatmapgl"
           }
          ],
          "histogram": [
           {
            "marker": {
             "pattern": {
              "fillmode": "overlay",
              "size": 10,
              "solidity": 0.2
             }
            },
            "type": "histogram"
           }
          ],
          "histogram2d": [
           {
            "colorbar": {
             "outlinewidth": 0,
             "ticks": ""
            },
            "colorscale": [
             [
              0,
              "#0d0887"
             ],
             [
              0.1111111111111111,
              "#46039f"
             ],
             [
              0.2222222222222222,
              "#7201a8"
             ],
             [
              0.3333333333333333,
              "#9c179e"
             ],
             [
              0.4444444444444444,
              "#bd3786"
             ],
             [
              0.5555555555555556,
              "#d8576b"
             ],
             [
              0.6666666666666666,
              "#ed7953"
             ],
             [
              0.7777777777777778,
              "#fb9f3a"
             ],
             [
              0.8888888888888888,
              "#fdca26"
             ],
             [
              1,
              "#f0f921"
             ]
            ],
            "type": "histogram2d"
           }
          ],
          "histogram2dcontour": [
           {
            "colorbar": {
             "outlinewidth": 0,
             "ticks": ""
            },
            "colorscale": [
             [
              0,
              "#0d0887"
             ],
             [
              0.1111111111111111,
              "#46039f"
             ],
             [
              0.2222222222222222,
              "#7201a8"
             ],
             [
              0.3333333333333333,
              "#9c179e"
             ],
             [
              0.4444444444444444,
              "#bd3786"
             ],
             [
              0.5555555555555556,
              "#d8576b"
             ],
             [
              0.6666666666666666,
              "#ed7953"
             ],
             [
              0.7777777777777778,
              "#fb9f3a"
             ],
             [
              0.8888888888888888,
              "#fdca26"
             ],
             [
              1,
              "#f0f921"
             ]
            ],
            "type": "histogram2dcontour"
           }
          ],
          "mesh3d": [
           {
            "colorbar": {
             "outlinewidth": 0,
             "ticks": ""
            },
            "type": "mesh3d"
           }
          ],
          "parcoords": [
           {
            "line": {
             "colorbar": {
              "outlinewidth": 0,
              "ticks": ""
             }
            },
            "type": "parcoords"
           }
          ],
          "pie": [
           {
            "automargin": true,
            "type": "pie"
           }
          ],
          "scatter": [
           {
            "fillpattern": {
             "fillmode": "overlay",
             "size": 10,
             "solidity": 0.2
            },
            "type": "scatter"
           }
          ],
          "scatter3d": [
           {
            "line": {
             "colorbar": {
              "outlinewidth": 0,
              "ticks": ""
             }
            },
            "marker": {
             "colorbar": {
              "outlinewidth": 0,
              "ticks": ""
             }
            },
            "type": "scatter3d"
           }
          ],
          "scattercarpet": [
           {
            "marker": {
             "colorbar": {
              "outlinewidth": 0,
              "ticks": ""
             }
            },
            "type": "scattercarpet"
           }
          ],
          "scattergeo": [
           {
            "marker": {
             "colorbar": {
              "outlinewidth": 0,
              "ticks": ""
             }
            },
            "type": "scattergeo"
           }
          ],
          "scattergl": [
           {
            "marker": {
             "colorbar": {
              "outlinewidth": 0,
              "ticks": ""
             }
            },
            "type": "scattergl"
           }
          ],
          "scattermapbox": [
           {
            "marker": {
             "colorbar": {
              "outlinewidth": 0,
              "ticks": ""
             }
            },
            "type": "scattermapbox"
           }
          ],
          "scatterpolar": [
           {
            "marker": {
             "colorbar": {
              "outlinewidth": 0,
              "ticks": ""
             }
            },
            "type": "scatterpolar"
           }
          ],
          "scatterpolargl": [
           {
            "marker": {
             "colorbar": {
              "outlinewidth": 0,
              "ticks": ""
             }
            },
            "type": "scatterpolargl"
           }
          ],
          "scatterternary": [
           {
            "marker": {
             "colorbar": {
              "outlinewidth": 0,
              "ticks": ""
             }
            },
            "type": "scatterternary"
           }
          ],
          "surface": [
           {
            "colorbar": {
             "outlinewidth": 0,
             "ticks": ""
            },
            "colorscale": [
             [
              0,
              "#0d0887"
             ],
             [
              0.1111111111111111,
              "#46039f"
             ],
             [
              0.2222222222222222,
              "#7201a8"
             ],
             [
              0.3333333333333333,
              "#9c179e"
             ],
             [
              0.4444444444444444,
              "#bd3786"
             ],
             [
              0.5555555555555556,
              "#d8576b"
             ],
             [
              0.6666666666666666,
              "#ed7953"
             ],
             [
              0.7777777777777778,
              "#fb9f3a"
             ],
             [
              0.8888888888888888,
              "#fdca26"
             ],
             [
              1,
              "#f0f921"
             ]
            ],
            "type": "surface"
           }
          ],
          "table": [
           {
            "cells": {
             "fill": {
              "color": "#EBF0F8"
             },
             "line": {
              "color": "white"
             }
            },
            "header": {
             "fill": {
              "color": "#C8D4E3"
             },
             "line": {
              "color": "white"
             }
            },
            "type": "table"
           }
          ]
         },
         "layout": {
          "annotationdefaults": {
           "arrowcolor": "#2a3f5f",
           "arrowhead": 0,
           "arrowwidth": 1
          },
          "autotypenumbers": "strict",
          "coloraxis": {
           "colorbar": {
            "outlinewidth": 0,
            "ticks": ""
           }
          },
          "colorscale": {
           "diverging": [
            [
             0,
             "#8e0152"
            ],
            [
             0.1,
             "#c51b7d"
            ],
            [
             0.2,
             "#de77ae"
            ],
            [
             0.3,
             "#f1b6da"
            ],
            [
             0.4,
             "#fde0ef"
            ],
            [
             0.5,
             "#f7f7f7"
            ],
            [
             0.6,
             "#e6f5d0"
            ],
            [
             0.7,
             "#b8e186"
            ],
            [
             0.8,
             "#7fbc41"
            ],
            [
             0.9,
             "#4d9221"
            ],
            [
             1,
             "#276419"
            ]
           ],
           "sequential": [
            [
             0,
             "#0d0887"
            ],
            [
             0.1111111111111111,
             "#46039f"
            ],
            [
             0.2222222222222222,
             "#7201a8"
            ],
            [
             0.3333333333333333,
             "#9c179e"
            ],
            [
             0.4444444444444444,
             "#bd3786"
            ],
            [
             0.5555555555555556,
             "#d8576b"
            ],
            [
             0.6666666666666666,
             "#ed7953"
            ],
            [
             0.7777777777777778,
             "#fb9f3a"
            ],
            [
             0.8888888888888888,
             "#fdca26"
            ],
            [
             1,
             "#f0f921"
            ]
           ],
           "sequentialminus": [
            [
             0,
             "#0d0887"
            ],
            [
             0.1111111111111111,
             "#46039f"
            ],
            [
             0.2222222222222222,
             "#7201a8"
            ],
            [
             0.3333333333333333,
             "#9c179e"
            ],
            [
             0.4444444444444444,
             "#bd3786"
            ],
            [
             0.5555555555555556,
             "#d8576b"
            ],
            [
             0.6666666666666666,
             "#ed7953"
            ],
            [
             0.7777777777777778,
             "#fb9f3a"
            ],
            [
             0.8888888888888888,
             "#fdca26"
            ],
            [
             1,
             "#f0f921"
            ]
           ]
          },
          "colorway": [
           "#636efa",
           "#EF553B",
           "#00cc96",
           "#ab63fa",
           "#FFA15A",
           "#19d3f3",
           "#FF6692",
           "#B6E880",
           "#FF97FF",
           "#FECB52"
          ],
          "font": {
           "color": "#2a3f5f"
          },
          "geo": {
           "bgcolor": "white",
           "lakecolor": "white",
           "landcolor": "#E5ECF6",
           "showlakes": true,
           "showland": true,
           "subunitcolor": "white"
          },
          "hoverlabel": {
           "align": "left"
          },
          "hovermode": "closest",
          "mapbox": {
           "style": "light"
          },
          "paper_bgcolor": "white",
          "plot_bgcolor": "#E5ECF6",
          "polar": {
           "angularaxis": {
            "gridcolor": "white",
            "linecolor": "white",
            "ticks": ""
           },
           "bgcolor": "#E5ECF6",
           "radialaxis": {
            "gridcolor": "white",
            "linecolor": "white",
            "ticks": ""
           }
          },
          "scene": {
           "xaxis": {
            "backgroundcolor": "#E5ECF6",
            "gridcolor": "white",
            "gridwidth": 2,
            "linecolor": "white",
            "showbackground": true,
            "ticks": "",
            "zerolinecolor": "white"
           },
           "yaxis": {
            "backgroundcolor": "#E5ECF6",
            "gridcolor": "white",
            "gridwidth": 2,
            "linecolor": "white",
            "showbackground": true,
            "ticks": "",
            "zerolinecolor": "white"
           },
           "zaxis": {
            "backgroundcolor": "#E5ECF6",
            "gridcolor": "white",
            "gridwidth": 2,
            "linecolor": "white",
            "showbackground": true,
            "ticks": "",
            "zerolinecolor": "white"
           }
          },
          "shapedefaults": {
           "line": {
            "color": "#2a3f5f"
           }
          },
          "ternary": {
           "aaxis": {
            "gridcolor": "white",
            "linecolor": "white",
            "ticks": ""
           },
           "baxis": {
            "gridcolor": "white",
            "linecolor": "white",
            "ticks": ""
           },
           "bgcolor": "#E5ECF6",
           "caxis": {
            "gridcolor": "white",
            "linecolor": "white",
            "ticks": ""
           }
          },
          "title": {
           "x": 0.05
          },
          "xaxis": {
           "automargin": true,
           "gridcolor": "white",
           "linecolor": "white",
           "ticks": "",
           "title": {
            "standoff": 15
           },
           "zerolinecolor": "white",
           "zerolinewidth": 2
          },
          "yaxis": {
           "automargin": true,
           "gridcolor": "white",
           "linecolor": "white",
           "ticks": "",
           "title": {
            "standoff": 15
           },
           "zerolinecolor": "white",
           "zerolinewidth": 2
          }
         }
        },
        "title": {
         "text": "Annual Savings Per Dwelling Unit"
        },
        "width": 850,
        "xaxis": {
         "anchor": "y",
         "domain": [
          0,
          0.004635761589403973
         ],
         "tickangle": 45,
         "title": {
          "text": ""
         },
         "visible": false
        },
        "xaxis2": {
         "anchor": "y2",
         "domain": [
          0.10463576158940398,
          0.33642384105960266
         ],
         "tickangle": 45,
         "title": {
          "text": "Bill Savings<br>usd"
         },
         "visible": true
        },
        "xaxis3": {
         "anchor": "y3",
         "domain": [
          0.43642384105960264,
          0.6682119205298013
         ],
         "tickangle": 45,
         "title": {
          "text": "Emission Savings<br>kgCO2e"
         },
         "visible": true
        },
        "xaxis4": {
         "anchor": "y4",
         "domain": [
          0.7682119205298014,
          1
         ],
         "tickangle": 45,
         "title": {
          "text": "Energy Savings<br>mmbtu"
         },
         "visible": true
        },
        "yaxis": {
         "anchor": "x",
         "domain": [
          0,
          1
         ],
         "visible": true
        },
        "yaxis2": {
         "anchor": "x2",
         "domain": [
          0,
          1
         ],
         "visible": false
        },
        "yaxis3": {
         "anchor": "x3",
         "domain": [
          0,
          1
         ],
         "visible": false
        },
        "yaxis4": {
         "anchor": "x4",
         "domain": [
          0,
          1
         ],
         "visible": false
        }
       }
      }
     },
     "metadata": {},
     "output_type": "display_data"
    }
   ],
   "source": [
    "results = figure_mean_savings(community_results) \n",
    "saving_results[['whole_community_saving_bill_mean_usd','whole_community_saving_emission_mean_kgCO2e','whole_community_saving_energy_mean_mmbtu']] = results"
   ]
  },
  {
   "cell_type": "code",
   "execution_count": 18,
   "id": "ae53a529",
   "metadata": {},
   "outputs": [
    {
     "name": "stdout",
     "output_type": "stream",
     "text": [
      "Community summary:\n"
     ]
    },
    {
     "data": {
      "text/html": [
       "<div>\n",
       "<style scoped>\n",
       "    .dataframe tbody tr th:only-of-type {\n",
       "        vertical-align: middle;\n",
       "    }\n",
       "\n",
       "    .dataframe tbody tr th {\n",
       "        vertical-align: top;\n",
       "    }\n",
       "\n",
       "    .dataframe thead th {\n",
       "        text-align: right;\n",
       "    }\n",
       "</style>\n",
       "<table border=\"1\" class=\"dataframe\">\n",
       "  <thead>\n",
       "    <tr style=\"text-align: right;\">\n",
       "      <th></th>\n",
       "      <th>n_samples</th>\n",
       "      <th>n_represented</th>\n",
       "      <th>pct_saving_energy.total_% wt_mean</th>\n",
       "      <th>pct_saving_energy.total_% wt_p0.25</th>\n",
       "      <th>pct_saving_energy.total_% wt_p0.75</th>\n",
       "    </tr>\n",
       "    <tr>\n",
       "      <th>upgrade_name</th>\n",
       "      <th></th>\n",
       "      <th></th>\n",
       "      <th></th>\n",
       "      <th></th>\n",
       "      <th></th>\n",
       "    </tr>\n",
       "  </thead>\n",
       "  <tbody>\n",
       "    <tr>\n",
       "      <th>Enhanced Enclosure + High Efficiency Whole Home Electrification</th>\n",
       "      <td>1217</td>\n",
       "      <td>39762.000000</td>\n",
       "      <td>60.973876</td>\n",
       "      <td>53.006521</td>\n",
       "      <td>71.744138</td>\n",
       "    </tr>\n",
       "    <tr>\n",
       "      <th>Basic Enclosure + High Efficiency Whole Home Electrification</th>\n",
       "      <td>1217</td>\n",
       "      <td>39762.000000</td>\n",
       "      <td>60.176907</td>\n",
       "      <td>52.214968</td>\n",
       "      <td>71.186900</td>\n",
       "    </tr>\n",
       "    <tr>\n",
       "      <th>Enhanced Enclosure + HPWH + High Efficiency HP/Electric Backup</th>\n",
       "      <td>1217</td>\n",
       "      <td>39762.000000</td>\n",
       "      <td>60.095768</td>\n",
       "      <td>51.675971</td>\n",
       "      <td>71.065719</td>\n",
       "    </tr>\n",
       "    <tr>\n",
       "      <th>Basic Enclosure + HPWH + High Efficiency HP/Electric Backup</th>\n",
       "      <td>1217</td>\n",
       "      <td>39762.000000</td>\n",
       "      <td>59.298833</td>\n",
       "      <td>50.836656</td>\n",
       "      <td>70.780478</td>\n",
       "    </tr>\n",
       "    <tr>\n",
       "      <th>High Efficiency Whole Home Electrification</th>\n",
       "      <td>1217</td>\n",
       "      <td>39762.000000</td>\n",
       "      <td>54.329170</td>\n",
       "      <td>44.833602</td>\n",
       "      <td>67.887588</td>\n",
       "    </tr>\n",
       "    <tr>\n",
       "      <th>High Efficiency Heat Pump with Electric Heat Backup</th>\n",
       "      <td>1217</td>\n",
       "      <td>39762.000000</td>\n",
       "      <td>43.577378</td>\n",
       "      <td>32.230000</td>\n",
       "      <td>57.450301</td>\n",
       "    </tr>\n",
       "    <tr>\n",
       "      <th>Mininum Efficiency Whole Home Electrification</th>\n",
       "      <td>1037</td>\n",
       "      <td>35144.658339</td>\n",
       "      <td>36.754910</td>\n",
       "      <td>27.539903</td>\n",
       "      <td>54.803963</td>\n",
       "    </tr>\n",
       "    <tr>\n",
       "      <th>Mininum Efficiency Heat Pump with Electric Heat Backup</th>\n",
       "      <td>1217</td>\n",
       "      <td>39762.000000</td>\n",
       "      <td>28.879330</td>\n",
       "      <td>18.472464</td>\n",
       "      <td>43.076464</td>\n",
       "    </tr>\n",
       "    <tr>\n",
       "      <th>Enhanced Enclosure</th>\n",
       "      <td>1088</td>\n",
       "      <td>35606.210876</td>\n",
       "      <td>19.135668</td>\n",
       "      <td>11.316356</td>\n",
       "      <td>26.596441</td>\n",
       "    </tr>\n",
       "    <tr>\n",
       "      <th>Basic Enclosure</th>\n",
       "      <td>1042</td>\n",
       "      <td>34337.157808</td>\n",
       "      <td>14.586780</td>\n",
       "      <td>9.090000</td>\n",
       "      <td>19.386401</td>\n",
       "    </tr>\n",
       "    <tr>\n",
       "      <th>Mininum Efficiency Heat Pump with Existing Heat Backup</th>\n",
       "      <td>1159</td>\n",
       "      <td>37835.613214</td>\n",
       "      <td>13.870928</td>\n",
       "      <td>-7.240985</td>\n",
       "      <td>39.399371</td>\n",
       "    </tr>\n",
       "    <tr>\n",
       "      <th>Heat Pump Water Heater</th>\n",
       "      <td>1214</td>\n",
       "      <td>39724.904866</td>\n",
       "      <td>5.620150</td>\n",
       "      <td>1.410133</td>\n",
       "      <td>7.450000</td>\n",
       "    </tr>\n",
       "    <tr>\n",
       "      <th>Electric Cooking</th>\n",
       "      <td>385</td>\n",
       "      <td>12722.230006</td>\n",
       "      <td>0.946931</td>\n",
       "      <td>0.480000</td>\n",
       "      <td>1.252726</td>\n",
       "    </tr>\n",
       "    <tr>\n",
       "      <th>Heat Pump Clothes Dryer</th>\n",
       "      <td>1076</td>\n",
       "      <td>32436.993494</td>\n",
       "      <td>0.581680</td>\n",
       "      <td>0.220000</td>\n",
       "      <td>0.790000</td>\n",
       "    </tr>\n",
       "    <tr>\n",
       "      <th>Induction Cooking</th>\n",
       "      <td>1215</td>\n",
       "      <td>39329.804348</td>\n",
       "      <td>0.408063</td>\n",
       "      <td>0.040000</td>\n",
       "      <td>0.493943</td>\n",
       "    </tr>\n",
       "    <tr>\n",
       "      <th>Electric Clothes Dryer</th>\n",
       "      <td>176</td>\n",
       "      <td>5914.743706</td>\n",
       "      <td>0.265695</td>\n",
       "      <td>0.121011</td>\n",
       "      <td>0.365448</td>\n",
       "    </tr>\n",
       "    <tr>\n",
       "      <th>baseline</th>\n",
       "      <td>1217</td>\n",
       "      <td>39762.000000</td>\n",
       "      <td>0.000000</td>\n",
       "      <td>NaN</td>\n",
       "      <td>NaN</td>\n",
       "    </tr>\n",
       "  </tbody>\n",
       "</table>\n",
       "</div>"
      ],
      "text/plain": [
       "                                                    n_samples  n_represented  \\\n",
       "upgrade_name                                                                   \n",
       "Enhanced Enclosure + High Efficiency Whole Home...       1217   39762.000000   \n",
       "Basic Enclosure + High Efficiency Whole Home El...       1217   39762.000000   \n",
       "Enhanced Enclosure + HPWH + High Efficiency HP/...       1217   39762.000000   \n",
       "Basic Enclosure + HPWH + High Efficiency HP/Ele...       1217   39762.000000   \n",
       "High Efficiency Whole Home Electrification               1217   39762.000000   \n",
       "High Efficiency Heat Pump with Electric Heat Ba...       1217   39762.000000   \n",
       "Mininum Efficiency Whole Home Electrification            1037   35144.658339   \n",
       "Mininum Efficiency Heat Pump with Electric Heat...       1217   39762.000000   \n",
       "Enhanced Enclosure                                       1088   35606.210876   \n",
       "Basic Enclosure                                          1042   34337.157808   \n",
       "Mininum Efficiency Heat Pump with Existing Heat...       1159   37835.613214   \n",
       "Heat Pump Water Heater                                   1214   39724.904866   \n",
       "Electric Cooking                                          385   12722.230006   \n",
       "Heat Pump Clothes Dryer                                  1076   32436.993494   \n",
       "Induction Cooking                                        1215   39329.804348   \n",
       "Electric Clothes Dryer                                    176    5914.743706   \n",
       "baseline                                                 1217   39762.000000   \n",
       "\n",
       "                                                    pct_saving_energy.total_% wt_mean  \\\n",
       "upgrade_name                                                                            \n",
       "Enhanced Enclosure + High Efficiency Whole Home...                          60.973876   \n",
       "Basic Enclosure + High Efficiency Whole Home El...                          60.176907   \n",
       "Enhanced Enclosure + HPWH + High Efficiency HP/...                          60.095768   \n",
       "Basic Enclosure + HPWH + High Efficiency HP/Ele...                          59.298833   \n",
       "High Efficiency Whole Home Electrification                                  54.329170   \n",
       "High Efficiency Heat Pump with Electric Heat Ba...                          43.577378   \n",
       "Mininum Efficiency Whole Home Electrification                               36.754910   \n",
       "Mininum Efficiency Heat Pump with Electric Heat...                          28.879330   \n",
       "Enhanced Enclosure                                                          19.135668   \n",
       "Basic Enclosure                                                             14.586780   \n",
       "Mininum Efficiency Heat Pump with Existing Heat...                          13.870928   \n",
       "Heat Pump Water Heater                                                       5.620150   \n",
       "Electric Cooking                                                             0.946931   \n",
       "Heat Pump Clothes Dryer                                                      0.581680   \n",
       "Induction Cooking                                                            0.408063   \n",
       "Electric Clothes Dryer                                                       0.265695   \n",
       "baseline                                                                     0.000000   \n",
       "\n",
       "                                                    pct_saving_energy.total_% wt_p0.25  \\\n",
       "upgrade_name                                                                             \n",
       "Enhanced Enclosure + High Efficiency Whole Home...                           53.006521   \n",
       "Basic Enclosure + High Efficiency Whole Home El...                           52.214968   \n",
       "Enhanced Enclosure + HPWH + High Efficiency HP/...                           51.675971   \n",
       "Basic Enclosure + HPWH + High Efficiency HP/Ele...                           50.836656   \n",
       "High Efficiency Whole Home Electrification                                   44.833602   \n",
       "High Efficiency Heat Pump with Electric Heat Ba...                           32.230000   \n",
       "Mininum Efficiency Whole Home Electrification                                27.539903   \n",
       "Mininum Efficiency Heat Pump with Electric Heat...                           18.472464   \n",
       "Enhanced Enclosure                                                           11.316356   \n",
       "Basic Enclosure                                                               9.090000   \n",
       "Mininum Efficiency Heat Pump with Existing Heat...                           -7.240985   \n",
       "Heat Pump Water Heater                                                        1.410133   \n",
       "Electric Cooking                                                              0.480000   \n",
       "Heat Pump Clothes Dryer                                                       0.220000   \n",
       "Induction Cooking                                                             0.040000   \n",
       "Electric Clothes Dryer                                                        0.121011   \n",
       "baseline                                                                           NaN   \n",
       "\n",
       "                                                    pct_saving_energy.total_% wt_p0.75  \n",
       "upgrade_name                                                                            \n",
       "Enhanced Enclosure + High Efficiency Whole Home...                           71.744138  \n",
       "Basic Enclosure + High Efficiency Whole Home El...                           71.186900  \n",
       "Enhanced Enclosure + HPWH + High Efficiency HP/...                           71.065719  \n",
       "Basic Enclosure + HPWH + High Efficiency HP/Ele...                           70.780478  \n",
       "High Efficiency Whole Home Electrification                                   67.887588  \n",
       "High Efficiency Heat Pump with Electric Heat Ba...                           57.450301  \n",
       "Mininum Efficiency Whole Home Electrification                                54.803963  \n",
       "Mininum Efficiency Heat Pump with Electric Heat...                           43.076464  \n",
       "Enhanced Enclosure                                                           26.596441  \n",
       "Basic Enclosure                                                              19.386401  \n",
       "Mininum Efficiency Heat Pump with Existing Heat...                           39.399371  \n",
       "Heat Pump Water Heater                                                        7.450000  \n",
       "Electric Cooking                                                              1.252726  \n",
       "Heat Pump Clothes Dryer                                                       0.790000  \n",
       "Induction Cooking                                                             0.493943  \n",
       "Electric Clothes Dryer                                                        0.365448  \n",
       "baseline                                                                           NaN  "
      ]
     },
     "execution_count": 18,
     "metadata": {},
     "output_type": "execute_result"
    }
   ],
   "source": [
    "metric = \"pct_saving_energy.total_%\"\n",
    "print(\"Community summary:\")\n",
    "get_summary(community_results, metric, lower_percentile=0.25, upper_percentile=0.75)"
   ]
  },
  {
   "cell_type": "markdown",
   "id": "35e7b6ad",
   "metadata": {},
   "source": [
    "# 2. Results for Segments (All Income)"
   ]
  },
  {
   "cell_type": "markdown",
   "id": "9c79f834",
   "metadata": {},
   "source": [
    "Segment Definition\n",
    "\n",
    "Segment 1. Occupied, Single family detached, pre 1940, renter, all income  \n",
    "\n",
    "Segment 2. Occupied, Single family detached, pre 1940, owner, all income  \n",
    "\n",
    "Segment 3. Occupied, Multifamily with 2-4 units, 1940-1979, all income  \n",
    "\n",
    "Segment 4. Occupied,  Multifamily with 5+ units, 1940-1979, all income \n",
    "\n",
    "Segment 5. Occupied,  all building types, 1980+, all income\n"
   ]
  },
  {
   "cell_type": "code",
   "execution_count": 19,
   "id": "42e13001",
   "metadata": {},
   "outputs": [],
   "source": [
    "income = 'all_incomes'\n",
    "vacancy_status = ['Occupied']\n",
    "\n",
    "seg1_building_type = ['Single-Family Detached']\n",
    "seg1_vintage = ['<1940']\n",
    "seg1_tenure = ['Renter']\n",
    "seg1_median_income = ['0-30%','30-60%','60-80%','80-100%', '100-120%','120-150%']\n",
    "\n",
    "seg2_building_type = ['Single-Family Detached']\n",
    "seg2_vintage = ['<1940']\n",
    "seg2_tenure = ['Owner']\n",
    "seg2_median_income = ['0-30%','30-60%','60-80%','80-100%', '100-120%','120-150%']\n",
    "\n",
    "seg3_building_type = ['Multi-Family with 2 - 4 Units']\n",
    "seg3_vintage = ['1940s', '1950s', '1960s', '1970s']\n",
    "seg3_tenure = ['Renter','Owner']\n",
    "seg3_median_income = ['0-30%','30-60%','60-80%','80-100%', '100-120%','120-150%']\n",
    "\n",
    "seg4_building_type = ['Multi-Family with 5+ Units']\n",
    "seg4_vintage = ['1940s', '1950s', '1960s', '1970s']\n",
    "seg4_tenure = ['Renter','Owner']\n",
    "seg4_median_income = ['0-30%','30-60%','60-80%','80-100%', '100-120%','120-150%']\n",
    "\n",
    "seg5_vintage = ['1980s', '1990s', '2000s', '2010s']\n",
    "seg5_median_income = ['0-30%','30-60%','60-80%','80-100%', '100-120%','120-150%']\n",
    "\n",
    "community_results.loc[community_results['build_existing_model.vacancy_status'].isin(vacancy_status) & \n",
    "                     community_results['build_existing_model.geometry_building_type_recs'].isin(seg1_building_type) & \n",
    "                     community_results['build_existing_model.vintage'].isin(seg1_vintage) & \n",
    "                     community_results['build_existing_model.tenure'].isin(seg1_tenure) & \n",
    "                     community_results['build_existing_model.area_median_income'].isin(seg1_median_income),\n",
    "                     'segment'] = 'segment1'\n",
    "community_results.loc[community_results['build_existing_model.vacancy_status'].isin(vacancy_status) & \n",
    "                     community_results['build_existing_model.geometry_building_type_recs'].isin(seg2_building_type) & \n",
    "                     community_results['build_existing_model.vintage'].isin(seg2_vintage) & \n",
    "                     community_results['build_existing_model.tenure'].isin(seg2_tenure) & \n",
    "                     community_results['build_existing_model.area_median_income'].isin(seg2_median_income),\n",
    "                     'segment'] = 'segment2'\n",
    "community_results.loc[community_results['build_existing_model.vacancy_status'].isin(vacancy_status) & \n",
    "                     community_results['build_existing_model.geometry_building_type_recs'].isin(seg3_building_type) & \n",
    "                     community_results['build_existing_model.vintage'].isin(seg3_vintage) & \n",
    "                     community_results['build_existing_model.tenure'].isin(seg3_tenure) & \n",
    "                     community_results['build_existing_model.area_median_income'].isin(seg3_median_income),\n",
    "                     'segment'] = 'segment3'\n",
    "community_results.loc[community_results['build_existing_model.vacancy_status'].isin(vacancy_status) & \n",
    "                     community_results['build_existing_model.geometry_building_type_recs'].isin(seg4_building_type) & \n",
    "                     community_results['build_existing_model.vintage'].isin(seg4_vintage) & \n",
    "                     community_results['build_existing_model.tenure'].isin(seg4_tenure) & \n",
    "                     community_results['build_existing_model.area_median_income'].isin(seg4_median_income),\n",
    "                     'segment'] = 'segment4'\n",
    "community_results.loc[community_results['build_existing_model.vacancy_status'].isin(vacancy_status) & \n",
    "                     community_results['build_existing_model.vintage'].isin(seg5_vintage) &\n",
    "                     community_results['build_existing_model.area_median_income'].isin(seg5_median_income),\n",
    "                     'segment'] = 'segment5'"
   ]
  },
  {
   "cell_type": "code",
   "execution_count": 20,
   "id": "6cb62949",
   "metadata": {},
   "outputs": [
    {
     "name": "stdout",
     "output_type": "stream",
     "text": [
      "Summary for segment: segment1: \n"
     ]
    },
    {
     "data": {
      "text/html": [
       "<div>\n",
       "<style scoped>\n",
       "    .dataframe tbody tr th:only-of-type {\n",
       "        vertical-align: middle;\n",
       "    }\n",
       "\n",
       "    .dataframe tbody tr th {\n",
       "        vertical-align: top;\n",
       "    }\n",
       "\n",
       "    .dataframe thead th {\n",
       "        text-align: right;\n",
       "    }\n",
       "</style>\n",
       "<table border=\"1\" class=\"dataframe\">\n",
       "  <thead>\n",
       "    <tr style=\"text-align: right;\">\n",
       "      <th></th>\n",
       "      <th>n_samples</th>\n",
       "      <th>n_represented</th>\n",
       "      <th>pct_saving_energy.total_% wt_mean</th>\n",
       "      <th>pct_saving_energy.total_% wt_p0.25</th>\n",
       "      <th>pct_saving_energy.total_% wt_p0.75</th>\n",
       "    </tr>\n",
       "    <tr>\n",
       "      <th>upgrade_name</th>\n",
       "      <th></th>\n",
       "      <th></th>\n",
       "      <th></th>\n",
       "      <th></th>\n",
       "      <th></th>\n",
       "    </tr>\n",
       "  </thead>\n",
       "  <tbody>\n",
       "    <tr>\n",
       "      <th>Enhanced Enclosure + High Efficiency Whole Home Electrification</th>\n",
       "      <td>15</td>\n",
       "      <td>493.001043</td>\n",
       "      <td>65.246053</td>\n",
       "      <td>54.380030</td>\n",
       "      <td>78.486849</td>\n",
       "    </tr>\n",
       "    <tr>\n",
       "      <th>Basic Enclosure + High Efficiency Whole Home Electrification</th>\n",
       "      <td>15</td>\n",
       "      <td>493.001043</td>\n",
       "      <td>65.130862</td>\n",
       "      <td>54.380030</td>\n",
       "      <td>78.486849</td>\n",
       "    </tr>\n",
       "    <tr>\n",
       "      <th>Enhanced Enclosure + HPWH + High Efficiency HP/Electric Backup</th>\n",
       "      <td>15</td>\n",
       "      <td>493.001043</td>\n",
       "      <td>64.286411</td>\n",
       "      <td>53.354052</td>\n",
       "      <td>77.839138</td>\n",
       "    </tr>\n",
       "    <tr>\n",
       "      <th>Basic Enclosure + HPWH + High Efficiency HP/Electric Backup</th>\n",
       "      <td>15</td>\n",
       "      <td>493.001043</td>\n",
       "      <td>64.171220</td>\n",
       "      <td>53.354052</td>\n",
       "      <td>77.742090</td>\n",
       "    </tr>\n",
       "    <tr>\n",
       "      <th>High Efficiency Whole Home Electrification</th>\n",
       "      <td>15</td>\n",
       "      <td>493.001043</td>\n",
       "      <td>55.165217</td>\n",
       "      <td>40.954340</td>\n",
       "      <td>74.623988</td>\n",
       "    </tr>\n",
       "    <tr>\n",
       "      <th>High Efficiency Heat Pump with Electric Heat Backup</th>\n",
       "      <td>15</td>\n",
       "      <td>493.001043</td>\n",
       "      <td>45.767706</td>\n",
       "      <td>32.375854</td>\n",
       "      <td>64.960676</td>\n",
       "    </tr>\n",
       "    <tr>\n",
       "      <th>Mininum Efficiency Whole Home Electrification</th>\n",
       "      <td>15</td>\n",
       "      <td>493.001043</td>\n",
       "      <td>39.708669</td>\n",
       "      <td>29.245815</td>\n",
       "      <td>61.724290</td>\n",
       "    </tr>\n",
       "    <tr>\n",
       "      <th>Mininum Efficiency Heat Pump with Electric Heat Backup</th>\n",
       "      <td>15</td>\n",
       "      <td>493.001043</td>\n",
       "      <td>33.349826</td>\n",
       "      <td>24.082183</td>\n",
       "      <td>53.763848</td>\n",
       "    </tr>\n",
       "    <tr>\n",
       "      <th>Enhanced Enclosure</th>\n",
       "      <td>15</td>\n",
       "      <td>493.001043</td>\n",
       "      <td>29.184529</td>\n",
       "      <td>23.336893</td>\n",
       "      <td>33.785020</td>\n",
       "    </tr>\n",
       "    <tr>\n",
       "      <th>Basic Enclosure</th>\n",
       "      <td>15</td>\n",
       "      <td>493.001043</td>\n",
       "      <td>24.061078</td>\n",
       "      <td>16.845991</td>\n",
       "      <td>28.532475</td>\n",
       "    </tr>\n",
       "    <tr>\n",
       "      <th>Mininum Efficiency Heat Pump with Existing Heat Backup</th>\n",
       "      <td>14</td>\n",
       "      <td>480.995609</td>\n",
       "      <td>15.813505</td>\n",
       "      <td>-3.920038</td>\n",
       "      <td>53.681495</td>\n",
       "    </tr>\n",
       "    <tr>\n",
       "      <th>Heat Pump Water Heater</th>\n",
       "      <td>15</td>\n",
       "      <td>493.001043</td>\n",
       "      <td>4.460303</td>\n",
       "      <td>1.385859</td>\n",
       "      <td>6.189413</td>\n",
       "    </tr>\n",
       "    <tr>\n",
       "      <th>Electric Cooking</th>\n",
       "      <td>3</td>\n",
       "      <td>93.636374</td>\n",
       "      <td>0.901992</td>\n",
       "      <td>0.861083</td>\n",
       "      <td>0.947284</td>\n",
       "    </tr>\n",
       "    <tr>\n",
       "      <th>Heat Pump Clothes Dryer</th>\n",
       "      <td>15</td>\n",
       "      <td>493.001043</td>\n",
       "      <td>0.709380</td>\n",
       "      <td>0.378714</td>\n",
       "      <td>0.814442</td>\n",
       "    </tr>\n",
       "    <tr>\n",
       "      <th>Electric Clothes Dryer</th>\n",
       "      <td>4</td>\n",
       "      <td>122.792429</td>\n",
       "      <td>0.463928</td>\n",
       "      <td>0.308274</td>\n",
       "      <td>0.665586</td>\n",
       "    </tr>\n",
       "    <tr>\n",
       "      <th>Induction Cooking</th>\n",
       "      <td>15</td>\n",
       "      <td>493.001043</td>\n",
       "      <td>0.250657</td>\n",
       "      <td>0.060000</td>\n",
       "      <td>0.114682</td>\n",
       "    </tr>\n",
       "    <tr>\n",
       "      <th>baseline</th>\n",
       "      <td>15</td>\n",
       "      <td>493.001043</td>\n",
       "      <td>0.000000</td>\n",
       "      <td>NaN</td>\n",
       "      <td>NaN</td>\n",
       "    </tr>\n",
       "  </tbody>\n",
       "</table>\n",
       "</div>"
      ],
      "text/plain": [
       "                                                    n_samples  n_represented  \\\n",
       "upgrade_name                                                                   \n",
       "Enhanced Enclosure + High Efficiency Whole Home...         15     493.001043   \n",
       "Basic Enclosure + High Efficiency Whole Home El...         15     493.001043   \n",
       "Enhanced Enclosure + HPWH + High Efficiency HP/...         15     493.001043   \n",
       "Basic Enclosure + HPWH + High Efficiency HP/Ele...         15     493.001043   \n",
       "High Efficiency Whole Home Electrification                 15     493.001043   \n",
       "High Efficiency Heat Pump with Electric Heat Ba...         15     493.001043   \n",
       "Mininum Efficiency Whole Home Electrification              15     493.001043   \n",
       "Mininum Efficiency Heat Pump with Electric Heat...         15     493.001043   \n",
       "Enhanced Enclosure                                         15     493.001043   \n",
       "Basic Enclosure                                            15     493.001043   \n",
       "Mininum Efficiency Heat Pump with Existing Heat...         14     480.995609   \n",
       "Heat Pump Water Heater                                     15     493.001043   \n",
       "Electric Cooking                                            3      93.636374   \n",
       "Heat Pump Clothes Dryer                                    15     493.001043   \n",
       "Electric Clothes Dryer                                      4     122.792429   \n",
       "Induction Cooking                                          15     493.001043   \n",
       "baseline                                                   15     493.001043   \n",
       "\n",
       "                                                    pct_saving_energy.total_% wt_mean  \\\n",
       "upgrade_name                                                                            \n",
       "Enhanced Enclosure + High Efficiency Whole Home...                          65.246053   \n",
       "Basic Enclosure + High Efficiency Whole Home El...                          65.130862   \n",
       "Enhanced Enclosure + HPWH + High Efficiency HP/...                          64.286411   \n",
       "Basic Enclosure + HPWH + High Efficiency HP/Ele...                          64.171220   \n",
       "High Efficiency Whole Home Electrification                                  55.165217   \n",
       "High Efficiency Heat Pump with Electric Heat Ba...                          45.767706   \n",
       "Mininum Efficiency Whole Home Electrification                               39.708669   \n",
       "Mininum Efficiency Heat Pump with Electric Heat...                          33.349826   \n",
       "Enhanced Enclosure                                                          29.184529   \n",
       "Basic Enclosure                                                             24.061078   \n",
       "Mininum Efficiency Heat Pump with Existing Heat...                          15.813505   \n",
       "Heat Pump Water Heater                                                       4.460303   \n",
       "Electric Cooking                                                             0.901992   \n",
       "Heat Pump Clothes Dryer                                                      0.709380   \n",
       "Electric Clothes Dryer                                                       0.463928   \n",
       "Induction Cooking                                                            0.250657   \n",
       "baseline                                                                     0.000000   \n",
       "\n",
       "                                                    pct_saving_energy.total_% wt_p0.25  \\\n",
       "upgrade_name                                                                             \n",
       "Enhanced Enclosure + High Efficiency Whole Home...                           54.380030   \n",
       "Basic Enclosure + High Efficiency Whole Home El...                           54.380030   \n",
       "Enhanced Enclosure + HPWH + High Efficiency HP/...                           53.354052   \n",
       "Basic Enclosure + HPWH + High Efficiency HP/Ele...                           53.354052   \n",
       "High Efficiency Whole Home Electrification                                   40.954340   \n",
       "High Efficiency Heat Pump with Electric Heat Ba...                           32.375854   \n",
       "Mininum Efficiency Whole Home Electrification                                29.245815   \n",
       "Mininum Efficiency Heat Pump with Electric Heat...                           24.082183   \n",
       "Enhanced Enclosure                                                           23.336893   \n",
       "Basic Enclosure                                                              16.845991   \n",
       "Mininum Efficiency Heat Pump with Existing Heat...                           -3.920038   \n",
       "Heat Pump Water Heater                                                        1.385859   \n",
       "Electric Cooking                                                              0.861083   \n",
       "Heat Pump Clothes Dryer                                                       0.378714   \n",
       "Electric Clothes Dryer                                                        0.308274   \n",
       "Induction Cooking                                                             0.060000   \n",
       "baseline                                                                           NaN   \n",
       "\n",
       "                                                    pct_saving_energy.total_% wt_p0.75  \n",
       "upgrade_name                                                                            \n",
       "Enhanced Enclosure + High Efficiency Whole Home...                           78.486849  \n",
       "Basic Enclosure + High Efficiency Whole Home El...                           78.486849  \n",
       "Enhanced Enclosure + HPWH + High Efficiency HP/...                           77.839138  \n",
       "Basic Enclosure + HPWH + High Efficiency HP/Ele...                           77.742090  \n",
       "High Efficiency Whole Home Electrification                                   74.623988  \n",
       "High Efficiency Heat Pump with Electric Heat Ba...                           64.960676  \n",
       "Mininum Efficiency Whole Home Electrification                                61.724290  \n",
       "Mininum Efficiency Heat Pump with Electric Heat...                           53.763848  \n",
       "Enhanced Enclosure                                                           33.785020  \n",
       "Basic Enclosure                                                              28.532475  \n",
       "Mininum Efficiency Heat Pump with Existing Heat...                           53.681495  \n",
       "Heat Pump Water Heater                                                        6.189413  \n",
       "Electric Cooking                                                              0.947284  \n",
       "Heat Pump Clothes Dryer                                                       0.814442  \n",
       "Electric Clothes Dryer                                                        0.665586  \n",
       "Induction Cooking                                                             0.114682  \n",
       "baseline                                                                           NaN  "
      ]
     },
     "metadata": {},
     "output_type": "display_data"
    },
    {
     "name": "stdout",
     "output_type": "stream",
     "text": [
      "Summary for segment: segment2: \n"
     ]
    },
    {
     "data": {
      "text/html": [
       "<div>\n",
       "<style scoped>\n",
       "    .dataframe tbody tr th:only-of-type {\n",
       "        vertical-align: middle;\n",
       "    }\n",
       "\n",
       "    .dataframe tbody tr th {\n",
       "        vertical-align: top;\n",
       "    }\n",
       "\n",
       "    .dataframe thead th {\n",
       "        text-align: right;\n",
       "    }\n",
       "</style>\n",
       "<table border=\"1\" class=\"dataframe\">\n",
       "  <thead>\n",
       "    <tr style=\"text-align: right;\">\n",
       "      <th></th>\n",
       "      <th>n_samples</th>\n",
       "      <th>n_represented</th>\n",
       "      <th>pct_saving_energy.total_% wt_mean</th>\n",
       "      <th>pct_saving_energy.total_% wt_p0.25</th>\n",
       "      <th>pct_saving_energy.total_% wt_p0.75</th>\n",
       "    </tr>\n",
       "    <tr>\n",
       "      <th>upgrade_name</th>\n",
       "      <th></th>\n",
       "      <th></th>\n",
       "      <th></th>\n",
       "      <th></th>\n",
       "      <th></th>\n",
       "    </tr>\n",
       "  </thead>\n",
       "  <tbody>\n",
       "    <tr>\n",
       "      <th>Enhanced Enclosure + High Efficiency Whole Home Electrification</th>\n",
       "      <td>93</td>\n",
       "      <td>2552.842905</td>\n",
       "      <td>66.769462</td>\n",
       "      <td>59.452152</td>\n",
       "      <td>78.723786</td>\n",
       "    </tr>\n",
       "    <tr>\n",
       "      <th>Enhanced Enclosure + HPWH + High Efficiency HP/Electric Backup</th>\n",
       "      <td>93</td>\n",
       "      <td>2552.842905</td>\n",
       "      <td>65.929965</td>\n",
       "      <td>58.065202</td>\n",
       "      <td>77.653925</td>\n",
       "    </tr>\n",
       "    <tr>\n",
       "      <th>Basic Enclosure + High Efficiency Whole Home Electrification</th>\n",
       "      <td>93</td>\n",
       "      <td>2552.842905</td>\n",
       "      <td>65.581216</td>\n",
       "      <td>56.870969</td>\n",
       "      <td>78.723786</td>\n",
       "    </tr>\n",
       "    <tr>\n",
       "      <th>Basic Enclosure + HPWH + High Efficiency HP/Electric Backup</th>\n",
       "      <td>93</td>\n",
       "      <td>2552.842905</td>\n",
       "      <td>64.741797</td>\n",
       "      <td>56.512904</td>\n",
       "      <td>77.653925</td>\n",
       "    </tr>\n",
       "    <tr>\n",
       "      <th>High Efficiency Whole Home Electrification</th>\n",
       "      <td>93</td>\n",
       "      <td>2552.842905</td>\n",
       "      <td>57.896240</td>\n",
       "      <td>44.023295</td>\n",
       "      <td>75.687947</td>\n",
       "    </tr>\n",
       "    <tr>\n",
       "      <th>High Efficiency Heat Pump with Electric Heat Backup</th>\n",
       "      <td>93</td>\n",
       "      <td>2552.842905</td>\n",
       "      <td>50.105381</td>\n",
       "      <td>33.265348</td>\n",
       "      <td>68.534187</td>\n",
       "    </tr>\n",
       "    <tr>\n",
       "      <th>Mininum Efficiency Whole Home Electrification</th>\n",
       "      <td>82</td>\n",
       "      <td>2397.708951</td>\n",
       "      <td>42.872180</td>\n",
       "      <td>30.930000</td>\n",
       "      <td>62.634573</td>\n",
       "    </tr>\n",
       "    <tr>\n",
       "      <th>Mininum Efficiency Heat Pump with Electric Heat Backup</th>\n",
       "      <td>93</td>\n",
       "      <td>2552.842905</td>\n",
       "      <td>36.277012</td>\n",
       "      <td>21.474551</td>\n",
       "      <td>55.840627</td>\n",
       "    </tr>\n",
       "    <tr>\n",
       "      <th>Enhanced Enclosure</th>\n",
       "      <td>92</td>\n",
       "      <td>2539.746067</td>\n",
       "      <td>25.384161</td>\n",
       "      <td>18.730972</td>\n",
       "      <td>33.315135</td>\n",
       "    </tr>\n",
       "    <tr>\n",
       "      <th>Mininum Efficiency Heat Pump with Existing Heat Backup</th>\n",
       "      <td>86</td>\n",
       "      <td>2365.315607</td>\n",
       "      <td>22.257180</td>\n",
       "      <td>-3.228524</td>\n",
       "      <td>54.143533</td>\n",
       "    </tr>\n",
       "    <tr>\n",
       "      <th>Basic Enclosure</th>\n",
       "      <td>91</td>\n",
       "      <td>2501.611157</td>\n",
       "      <td>19.329913</td>\n",
       "      <td>13.089093</td>\n",
       "      <td>25.104734</td>\n",
       "    </tr>\n",
       "    <tr>\n",
       "      <th>Heat Pump Water Heater</th>\n",
       "      <td>93</td>\n",
       "      <td>2552.842905</td>\n",
       "      <td>3.841342</td>\n",
       "      <td>1.457420</td>\n",
       "      <td>4.897015</td>\n",
       "    </tr>\n",
       "    <tr>\n",
       "      <th>Electric Cooking</th>\n",
       "      <td>30</td>\n",
       "      <td>954.869509</td>\n",
       "      <td>0.721495</td>\n",
       "      <td>0.544333</td>\n",
       "      <td>0.861301</td>\n",
       "    </tr>\n",
       "    <tr>\n",
       "      <th>Heat Pump Clothes Dryer</th>\n",
       "      <td>92</td>\n",
       "      <td>2515.260675</td>\n",
       "      <td>0.508543</td>\n",
       "      <td>0.271411</td>\n",
       "      <td>0.626420</td>\n",
       "    </tr>\n",
       "    <tr>\n",
       "      <th>Induction Cooking</th>\n",
       "      <td>93</td>\n",
       "      <td>2552.842905</td>\n",
       "      <td>0.338028</td>\n",
       "      <td>0.070000</td>\n",
       "      <td>0.643772</td>\n",
       "    </tr>\n",
       "    <tr>\n",
       "      <th>Electric Clothes Dryer</th>\n",
       "      <td>14</td>\n",
       "      <td>359.480134</td>\n",
       "      <td>0.210237</td>\n",
       "      <td>0.150972</td>\n",
       "      <td>0.278771</td>\n",
       "    </tr>\n",
       "    <tr>\n",
       "      <th>baseline</th>\n",
       "      <td>93</td>\n",
       "      <td>2552.842905</td>\n",
       "      <td>0.000000</td>\n",
       "      <td>NaN</td>\n",
       "      <td>NaN</td>\n",
       "    </tr>\n",
       "  </tbody>\n",
       "</table>\n",
       "</div>"
      ],
      "text/plain": [
       "                                                    n_samples  n_represented  \\\n",
       "upgrade_name                                                                   \n",
       "Enhanced Enclosure + High Efficiency Whole Home...         93    2552.842905   \n",
       "Enhanced Enclosure + HPWH + High Efficiency HP/...         93    2552.842905   \n",
       "Basic Enclosure + High Efficiency Whole Home El...         93    2552.842905   \n",
       "Basic Enclosure + HPWH + High Efficiency HP/Ele...         93    2552.842905   \n",
       "High Efficiency Whole Home Electrification                 93    2552.842905   \n",
       "High Efficiency Heat Pump with Electric Heat Ba...         93    2552.842905   \n",
       "Mininum Efficiency Whole Home Electrification              82    2397.708951   \n",
       "Mininum Efficiency Heat Pump with Electric Heat...         93    2552.842905   \n",
       "Enhanced Enclosure                                         92    2539.746067   \n",
       "Mininum Efficiency Heat Pump with Existing Heat...         86    2365.315607   \n",
       "Basic Enclosure                                            91    2501.611157   \n",
       "Heat Pump Water Heater                                     93    2552.842905   \n",
       "Electric Cooking                                           30     954.869509   \n",
       "Heat Pump Clothes Dryer                                    92    2515.260675   \n",
       "Induction Cooking                                          93    2552.842905   \n",
       "Electric Clothes Dryer                                     14     359.480134   \n",
       "baseline                                                   93    2552.842905   \n",
       "\n",
       "                                                    pct_saving_energy.total_% wt_mean  \\\n",
       "upgrade_name                                                                            \n",
       "Enhanced Enclosure + High Efficiency Whole Home...                          66.769462   \n",
       "Enhanced Enclosure + HPWH + High Efficiency HP/...                          65.929965   \n",
       "Basic Enclosure + High Efficiency Whole Home El...                          65.581216   \n",
       "Basic Enclosure + HPWH + High Efficiency HP/Ele...                          64.741797   \n",
       "High Efficiency Whole Home Electrification                                  57.896240   \n",
       "High Efficiency Heat Pump with Electric Heat Ba...                          50.105381   \n",
       "Mininum Efficiency Whole Home Electrification                               42.872180   \n",
       "Mininum Efficiency Heat Pump with Electric Heat...                          36.277012   \n",
       "Enhanced Enclosure                                                          25.384161   \n",
       "Mininum Efficiency Heat Pump with Existing Heat...                          22.257180   \n",
       "Basic Enclosure                                                             19.329913   \n",
       "Heat Pump Water Heater                                                       3.841342   \n",
       "Electric Cooking                                                             0.721495   \n",
       "Heat Pump Clothes Dryer                                                      0.508543   \n",
       "Induction Cooking                                                            0.338028   \n",
       "Electric Clothes Dryer                                                       0.210237   \n",
       "baseline                                                                     0.000000   \n",
       "\n",
       "                                                    pct_saving_energy.total_% wt_p0.25  \\\n",
       "upgrade_name                                                                             \n",
       "Enhanced Enclosure + High Efficiency Whole Home...                           59.452152   \n",
       "Enhanced Enclosure + HPWH + High Efficiency HP/...                           58.065202   \n",
       "Basic Enclosure + High Efficiency Whole Home El...                           56.870969   \n",
       "Basic Enclosure + HPWH + High Efficiency HP/Ele...                           56.512904   \n",
       "High Efficiency Whole Home Electrification                                   44.023295   \n",
       "High Efficiency Heat Pump with Electric Heat Ba...                           33.265348   \n",
       "Mininum Efficiency Whole Home Electrification                                30.930000   \n",
       "Mininum Efficiency Heat Pump with Electric Heat...                           21.474551   \n",
       "Enhanced Enclosure                                                           18.730972   \n",
       "Mininum Efficiency Heat Pump with Existing Heat...                           -3.228524   \n",
       "Basic Enclosure                                                              13.089093   \n",
       "Heat Pump Water Heater                                                        1.457420   \n",
       "Electric Cooking                                                              0.544333   \n",
       "Heat Pump Clothes Dryer                                                       0.271411   \n",
       "Induction Cooking                                                             0.070000   \n",
       "Electric Clothes Dryer                                                        0.150972   \n",
       "baseline                                                                           NaN   \n",
       "\n",
       "                                                    pct_saving_energy.total_% wt_p0.75  \n",
       "upgrade_name                                                                            \n",
       "Enhanced Enclosure + High Efficiency Whole Home...                           78.723786  \n",
       "Enhanced Enclosure + HPWH + High Efficiency HP/...                           77.653925  \n",
       "Basic Enclosure + High Efficiency Whole Home El...                           78.723786  \n",
       "Basic Enclosure + HPWH + High Efficiency HP/Ele...                           77.653925  \n",
       "High Efficiency Whole Home Electrification                                   75.687947  \n",
       "High Efficiency Heat Pump with Electric Heat Ba...                           68.534187  \n",
       "Mininum Efficiency Whole Home Electrification                                62.634573  \n",
       "Mininum Efficiency Heat Pump with Electric Heat...                           55.840627  \n",
       "Enhanced Enclosure                                                           33.315135  \n",
       "Mininum Efficiency Heat Pump with Existing Heat...                           54.143533  \n",
       "Basic Enclosure                                                              25.104734  \n",
       "Heat Pump Water Heater                                                        4.897015  \n",
       "Electric Cooking                                                              0.861301  \n",
       "Heat Pump Clothes Dryer                                                       0.626420  \n",
       "Induction Cooking                                                             0.643772  \n",
       "Electric Clothes Dryer                                                        0.278771  \n",
       "baseline                                                                           NaN  "
      ]
     },
     "metadata": {},
     "output_type": "display_data"
    },
    {
     "name": "stdout",
     "output_type": "stream",
     "text": [
      "Summary for segment: segment3: \n"
     ]
    },
    {
     "data": {
      "text/html": [
       "<div>\n",
       "<style scoped>\n",
       "    .dataframe tbody tr th:only-of-type {\n",
       "        vertical-align: middle;\n",
       "    }\n",
       "\n",
       "    .dataframe tbody tr th {\n",
       "        vertical-align: top;\n",
       "    }\n",
       "\n",
       "    .dataframe thead th {\n",
       "        text-align: right;\n",
       "    }\n",
       "</style>\n",
       "<table border=\"1\" class=\"dataframe\">\n",
       "  <thead>\n",
       "    <tr style=\"text-align: right;\">\n",
       "      <th></th>\n",
       "      <th>n_samples</th>\n",
       "      <th>n_represented</th>\n",
       "      <th>pct_saving_energy.total_% wt_mean</th>\n",
       "      <th>pct_saving_energy.total_% wt_p0.25</th>\n",
       "      <th>pct_saving_energy.total_% wt_p0.75</th>\n",
       "    </tr>\n",
       "    <tr>\n",
       "      <th>upgrade_name</th>\n",
       "      <th></th>\n",
       "      <th></th>\n",
       "      <th></th>\n",
       "      <th></th>\n",
       "      <th></th>\n",
       "    </tr>\n",
       "  </thead>\n",
       "  <tbody>\n",
       "    <tr>\n",
       "      <th>Enhanced Enclosure + High Efficiency Whole Home Electrification</th>\n",
       "      <td>16</td>\n",
       "      <td>1228.155978</td>\n",
       "      <td>59.496866</td>\n",
       "      <td>48.505000</td>\n",
       "      <td>70.916714</td>\n",
       "    </tr>\n",
       "    <tr>\n",
       "      <th>Enhanced Enclosure + HPWH + High Efficiency HP/Electric Backup</th>\n",
       "      <td>16</td>\n",
       "      <td>1228.155978</td>\n",
       "      <td>58.217000</td>\n",
       "      <td>48.112656</td>\n",
       "      <td>70.007821</td>\n",
       "    </tr>\n",
       "    <tr>\n",
       "      <th>Basic Enclosure + High Efficiency Whole Home Electrification</th>\n",
       "      <td>16</td>\n",
       "      <td>1228.155978</td>\n",
       "      <td>56.723058</td>\n",
       "      <td>47.386225</td>\n",
       "      <td>70.916714</td>\n",
       "    </tr>\n",
       "    <tr>\n",
       "      <th>Basic Enclosure + HPWH + High Efficiency HP/Electric Backup</th>\n",
       "      <td>16</td>\n",
       "      <td>1228.155978</td>\n",
       "      <td>55.443779</td>\n",
       "      <td>46.676961</td>\n",
       "      <td>70.007821</td>\n",
       "    </tr>\n",
       "    <tr>\n",
       "      <th>High Efficiency Whole Home Electrification</th>\n",
       "      <td>16</td>\n",
       "      <td>1228.155978</td>\n",
       "      <td>48.963942</td>\n",
       "      <td>32.658352</td>\n",
       "      <td>69.725036</td>\n",
       "    </tr>\n",
       "    <tr>\n",
       "      <th>High Efficiency Heat Pump with Electric Heat Backup</th>\n",
       "      <td>16</td>\n",
       "      <td>1228.155978</td>\n",
       "      <td>38.118031</td>\n",
       "      <td>22.627344</td>\n",
       "      <td>54.242036</td>\n",
       "    </tr>\n",
       "    <tr>\n",
       "      <th>Mininum Efficiency Whole Home Electrification</th>\n",
       "      <td>10</td>\n",
       "      <td>853.586413</td>\n",
       "      <td>37.843936</td>\n",
       "      <td>12.199063</td>\n",
       "      <td>58.206810</td>\n",
       "    </tr>\n",
       "    <tr>\n",
       "      <th>Mininum Efficiency Heat Pump with Electric Heat Backup</th>\n",
       "      <td>16</td>\n",
       "      <td>1228.155978</td>\n",
       "      <td>23.420356</td>\n",
       "      <td>4.262656</td>\n",
       "      <td>42.870679</td>\n",
       "    </tr>\n",
       "    <tr>\n",
       "      <th>Mininum Efficiency Heat Pump with Existing Heat Backup</th>\n",
       "      <td>16</td>\n",
       "      <td>1228.155978</td>\n",
       "      <td>19.721508</td>\n",
       "      <td>2.097578</td>\n",
       "      <td>42.763214</td>\n",
       "    </tr>\n",
       "    <tr>\n",
       "      <th>Enhanced Enclosure</th>\n",
       "      <td>16</td>\n",
       "      <td>1228.155978</td>\n",
       "      <td>15.330499</td>\n",
       "      <td>9.421154</td>\n",
       "      <td>22.736016</td>\n",
       "    </tr>\n",
       "    <tr>\n",
       "      <th>Basic Enclosure</th>\n",
       "      <td>16</td>\n",
       "      <td>1228.155978</td>\n",
       "      <td>11.482053</td>\n",
       "      <td>8.803795</td>\n",
       "      <td>13.500247</td>\n",
       "    </tr>\n",
       "    <tr>\n",
       "      <th>Heat Pump Water Heater</th>\n",
       "      <td>16</td>\n",
       "      <td>1228.155978</td>\n",
       "      <td>5.258567</td>\n",
       "      <td>1.986800</td>\n",
       "      <td>7.663321</td>\n",
       "    </tr>\n",
       "    <tr>\n",
       "      <th>Electric Cooking</th>\n",
       "      <td>4</td>\n",
       "      <td>406.469720</td>\n",
       "      <td>1.524051</td>\n",
       "      <td>1.226757</td>\n",
       "      <td>1.845476</td>\n",
       "    </tr>\n",
       "    <tr>\n",
       "      <th>Heat Pump Clothes Dryer</th>\n",
       "      <td>12</td>\n",
       "      <td>915.328649</td>\n",
       "      <td>0.852659</td>\n",
       "      <td>0.469531</td>\n",
       "      <td>1.083607</td>\n",
       "    </tr>\n",
       "    <tr>\n",
       "      <th>Induction Cooking</th>\n",
       "      <td>16</td>\n",
       "      <td>1228.155978</td>\n",
       "      <td>0.642840</td>\n",
       "      <td>0.121195</td>\n",
       "      <td>1.317797</td>\n",
       "    </tr>\n",
       "    <tr>\n",
       "      <th>baseline</th>\n",
       "      <td>16</td>\n",
       "      <td>1228.155978</td>\n",
       "      <td>0.000000</td>\n",
       "      <td>NaN</td>\n",
       "      <td>NaN</td>\n",
       "    </tr>\n",
       "  </tbody>\n",
       "</table>\n",
       "</div>"
      ],
      "text/plain": [
       "                                                    n_samples  n_represented  \\\n",
       "upgrade_name                                                                   \n",
       "Enhanced Enclosure + High Efficiency Whole Home...         16    1228.155978   \n",
       "Enhanced Enclosure + HPWH + High Efficiency HP/...         16    1228.155978   \n",
       "Basic Enclosure + High Efficiency Whole Home El...         16    1228.155978   \n",
       "Basic Enclosure + HPWH + High Efficiency HP/Ele...         16    1228.155978   \n",
       "High Efficiency Whole Home Electrification                 16    1228.155978   \n",
       "High Efficiency Heat Pump with Electric Heat Ba...         16    1228.155978   \n",
       "Mininum Efficiency Whole Home Electrification              10     853.586413   \n",
       "Mininum Efficiency Heat Pump with Electric Heat...         16    1228.155978   \n",
       "Mininum Efficiency Heat Pump with Existing Heat...         16    1228.155978   \n",
       "Enhanced Enclosure                                         16    1228.155978   \n",
       "Basic Enclosure                                            16    1228.155978   \n",
       "Heat Pump Water Heater                                     16    1228.155978   \n",
       "Electric Cooking                                            4     406.469720   \n",
       "Heat Pump Clothes Dryer                                    12     915.328649   \n",
       "Induction Cooking                                          16    1228.155978   \n",
       "baseline                                                   16    1228.155978   \n",
       "\n",
       "                                                    pct_saving_energy.total_% wt_mean  \\\n",
       "upgrade_name                                                                            \n",
       "Enhanced Enclosure + High Efficiency Whole Home...                          59.496866   \n",
       "Enhanced Enclosure + HPWH + High Efficiency HP/...                          58.217000   \n",
       "Basic Enclosure + High Efficiency Whole Home El...                          56.723058   \n",
       "Basic Enclosure + HPWH + High Efficiency HP/Ele...                          55.443779   \n",
       "High Efficiency Whole Home Electrification                                  48.963942   \n",
       "High Efficiency Heat Pump with Electric Heat Ba...                          38.118031   \n",
       "Mininum Efficiency Whole Home Electrification                               37.843936   \n",
       "Mininum Efficiency Heat Pump with Electric Heat...                          23.420356   \n",
       "Mininum Efficiency Heat Pump with Existing Heat...                          19.721508   \n",
       "Enhanced Enclosure                                                          15.330499   \n",
       "Basic Enclosure                                                             11.482053   \n",
       "Heat Pump Water Heater                                                       5.258567   \n",
       "Electric Cooking                                                             1.524051   \n",
       "Heat Pump Clothes Dryer                                                      0.852659   \n",
       "Induction Cooking                                                            0.642840   \n",
       "baseline                                                                     0.000000   \n",
       "\n",
       "                                                    pct_saving_energy.total_% wt_p0.25  \\\n",
       "upgrade_name                                                                             \n",
       "Enhanced Enclosure + High Efficiency Whole Home...                           48.505000   \n",
       "Enhanced Enclosure + HPWH + High Efficiency HP/...                           48.112656   \n",
       "Basic Enclosure + High Efficiency Whole Home El...                           47.386225   \n",
       "Basic Enclosure + HPWH + High Efficiency HP/Ele...                           46.676961   \n",
       "High Efficiency Whole Home Electrification                                   32.658352   \n",
       "High Efficiency Heat Pump with Electric Heat Ba...                           22.627344   \n",
       "Mininum Efficiency Whole Home Electrification                                12.199063   \n",
       "Mininum Efficiency Heat Pump with Electric Heat...                            4.262656   \n",
       "Mininum Efficiency Heat Pump with Existing Heat...                            2.097578   \n",
       "Enhanced Enclosure                                                            9.421154   \n",
       "Basic Enclosure                                                               8.803795   \n",
       "Heat Pump Water Heater                                                        1.986800   \n",
       "Electric Cooking                                                              1.226757   \n",
       "Heat Pump Clothes Dryer                                                       0.469531   \n",
       "Induction Cooking                                                             0.121195   \n",
       "baseline                                                                           NaN   \n",
       "\n",
       "                                                    pct_saving_energy.total_% wt_p0.75  \n",
       "upgrade_name                                                                            \n",
       "Enhanced Enclosure + High Efficiency Whole Home...                           70.916714  \n",
       "Enhanced Enclosure + HPWH + High Efficiency HP/...                           70.007821  \n",
       "Basic Enclosure + High Efficiency Whole Home El...                           70.916714  \n",
       "Basic Enclosure + HPWH + High Efficiency HP/Ele...                           70.007821  \n",
       "High Efficiency Whole Home Electrification                                   69.725036  \n",
       "High Efficiency Heat Pump with Electric Heat Ba...                           54.242036  \n",
       "Mininum Efficiency Whole Home Electrification                                58.206810  \n",
       "Mininum Efficiency Heat Pump with Electric Heat...                           42.870679  \n",
       "Mininum Efficiency Heat Pump with Existing Heat...                           42.763214  \n",
       "Enhanced Enclosure                                                           22.736016  \n",
       "Basic Enclosure                                                              13.500247  \n",
       "Heat Pump Water Heater                                                        7.663321  \n",
       "Electric Cooking                                                              1.845476  \n",
       "Heat Pump Clothes Dryer                                                       1.083607  \n",
       "Induction Cooking                                                             1.317797  \n",
       "baseline                                                                           NaN  "
      ]
     },
     "metadata": {},
     "output_type": "display_data"
    },
    {
     "name": "stdout",
     "output_type": "stream",
     "text": [
      "Summary for segment: segment4: \n"
     ]
    },
    {
     "data": {
      "text/html": [
       "<div>\n",
       "<style scoped>\n",
       "    .dataframe tbody tr th:only-of-type {\n",
       "        vertical-align: middle;\n",
       "    }\n",
       "\n",
       "    .dataframe tbody tr th {\n",
       "        vertical-align: top;\n",
       "    }\n",
       "\n",
       "    .dataframe thead th {\n",
       "        text-align: right;\n",
       "    }\n",
       "</style>\n",
       "<table border=\"1\" class=\"dataframe\">\n",
       "  <thead>\n",
       "    <tr style=\"text-align: right;\">\n",
       "      <th></th>\n",
       "      <th>n_samples</th>\n",
       "      <th>n_represented</th>\n",
       "      <th>pct_saving_energy.total_% wt_mean</th>\n",
       "      <th>pct_saving_energy.total_% wt_p0.25</th>\n",
       "      <th>pct_saving_energy.total_% wt_p0.75</th>\n",
       "    </tr>\n",
       "    <tr>\n",
       "      <th>upgrade_name</th>\n",
       "      <th></th>\n",
       "      <th></th>\n",
       "      <th></th>\n",
       "      <th></th>\n",
       "      <th></th>\n",
       "    </tr>\n",
       "  </thead>\n",
       "  <tbody>\n",
       "    <tr>\n",
       "      <th>Enhanced Enclosure + High Efficiency Whole Home Electrification</th>\n",
       "      <td>53</td>\n",
       "      <td>2185.367208</td>\n",
       "      <td>55.552650</td>\n",
       "      <td>47.928259</td>\n",
       "      <td>67.677372</td>\n",
       "    </tr>\n",
       "    <tr>\n",
       "      <th>Basic Enclosure + High Efficiency Whole Home Electrification</th>\n",
       "      <td>53</td>\n",
       "      <td>2185.367208</td>\n",
       "      <td>54.496949</td>\n",
       "      <td>47.928259</td>\n",
       "      <td>66.664539</td>\n",
       "    </tr>\n",
       "    <tr>\n",
       "      <th>Enhanced Enclosure + HPWH + High Efficiency HP/Electric Backup</th>\n",
       "      <td>53</td>\n",
       "      <td>2185.367208</td>\n",
       "      <td>54.373469</td>\n",
       "      <td>46.481381</td>\n",
       "      <td>66.515319</td>\n",
       "    </tr>\n",
       "    <tr>\n",
       "      <th>Basic Enclosure + HPWH + High Efficiency HP/Electric Backup</th>\n",
       "      <td>53</td>\n",
       "      <td>2185.367208</td>\n",
       "      <td>53.317878</td>\n",
       "      <td>46.481381</td>\n",
       "      <td>64.464663</td>\n",
       "    </tr>\n",
       "    <tr>\n",
       "      <th>High Efficiency Whole Home Electrification</th>\n",
       "      <td>53</td>\n",
       "      <td>2185.367208</td>\n",
       "      <td>50.257786</td>\n",
       "      <td>39.431215</td>\n",
       "      <td>62.957417</td>\n",
       "    </tr>\n",
       "    <tr>\n",
       "      <th>High Efficiency Heat Pump with Electric Heat Backup</th>\n",
       "      <td>53</td>\n",
       "      <td>2185.367208</td>\n",
       "      <td>35.532866</td>\n",
       "      <td>23.946493</td>\n",
       "      <td>49.151633</td>\n",
       "    </tr>\n",
       "    <tr>\n",
       "      <th>Mininum Efficiency Whole Home Electrification</th>\n",
       "      <td>29</td>\n",
       "      <td>1435.596212</td>\n",
       "      <td>28.237764</td>\n",
       "      <td>6.498430</td>\n",
       "      <td>44.639860</td>\n",
       "    </tr>\n",
       "    <tr>\n",
       "      <th>Mininum Efficiency Heat Pump with Existing Heat Backup</th>\n",
       "      <td>52</td>\n",
       "      <td>1969.269382</td>\n",
       "      <td>23.236009</td>\n",
       "      <td>6.921691</td>\n",
       "      <td>38.377883</td>\n",
       "    </tr>\n",
       "    <tr>\n",
       "      <th>Mininum Efficiency Heat Pump with Electric Heat Backup</th>\n",
       "      <td>53</td>\n",
       "      <td>2185.367208</td>\n",
       "      <td>22.561790</td>\n",
       "      <td>7.240480</td>\n",
       "      <td>38.515764</td>\n",
       "    </tr>\n",
       "    <tr>\n",
       "      <th>Enhanced Enclosure</th>\n",
       "      <td>45</td>\n",
       "      <td>1718.819973</td>\n",
       "      <td>17.585608</td>\n",
       "      <td>12.048454</td>\n",
       "      <td>21.216302</td>\n",
       "    </tr>\n",
       "    <tr>\n",
       "      <th>Basic Enclosure</th>\n",
       "      <td>43</td>\n",
       "      <td>1628.779212</td>\n",
       "      <td>14.059957</td>\n",
       "      <td>10.794573</td>\n",
       "      <td>18.332115</td>\n",
       "    </tr>\n",
       "    <tr>\n",
       "      <th>Heat Pump Water Heater</th>\n",
       "      <td>53</td>\n",
       "      <td>2185.367208</td>\n",
       "      <td>8.846395</td>\n",
       "      <td>2.967455</td>\n",
       "      <td>15.791111</td>\n",
       "    </tr>\n",
       "    <tr>\n",
       "      <th>Electric Cooking</th>\n",
       "      <td>13</td>\n",
       "      <td>571.001114</td>\n",
       "      <td>2.328202</td>\n",
       "      <td>1.658156</td>\n",
       "      <td>2.713291</td>\n",
       "    </tr>\n",
       "    <tr>\n",
       "      <th>Heat Pump Clothes Dryer</th>\n",
       "      <td>17</td>\n",
       "      <td>585.889173</td>\n",
       "      <td>1.340524</td>\n",
       "      <td>0.773706</td>\n",
       "      <td>1.781324</td>\n",
       "    </tr>\n",
       "    <tr>\n",
       "      <th>Induction Cooking</th>\n",
       "      <td>52</td>\n",
       "      <td>1969.269382</td>\n",
       "      <td>0.910829</td>\n",
       "      <td>0.180000</td>\n",
       "      <td>1.780630</td>\n",
       "    </tr>\n",
       "    <tr>\n",
       "      <th>baseline</th>\n",
       "      <td>53</td>\n",
       "      <td>2185.367208</td>\n",
       "      <td>0.000000</td>\n",
       "      <td>NaN</td>\n",
       "      <td>NaN</td>\n",
       "    </tr>\n",
       "  </tbody>\n",
       "</table>\n",
       "</div>"
      ],
      "text/plain": [
       "                                                    n_samples  n_represented  \\\n",
       "upgrade_name                                                                   \n",
       "Enhanced Enclosure + High Efficiency Whole Home...         53    2185.367208   \n",
       "Basic Enclosure + High Efficiency Whole Home El...         53    2185.367208   \n",
       "Enhanced Enclosure + HPWH + High Efficiency HP/...         53    2185.367208   \n",
       "Basic Enclosure + HPWH + High Efficiency HP/Ele...         53    2185.367208   \n",
       "High Efficiency Whole Home Electrification                 53    2185.367208   \n",
       "High Efficiency Heat Pump with Electric Heat Ba...         53    2185.367208   \n",
       "Mininum Efficiency Whole Home Electrification              29    1435.596212   \n",
       "Mininum Efficiency Heat Pump with Existing Heat...         52    1969.269382   \n",
       "Mininum Efficiency Heat Pump with Electric Heat...         53    2185.367208   \n",
       "Enhanced Enclosure                                         45    1718.819973   \n",
       "Basic Enclosure                                            43    1628.779212   \n",
       "Heat Pump Water Heater                                     53    2185.367208   \n",
       "Electric Cooking                                           13     571.001114   \n",
       "Heat Pump Clothes Dryer                                    17     585.889173   \n",
       "Induction Cooking                                          52    1969.269382   \n",
       "baseline                                                   53    2185.367208   \n",
       "\n",
       "                                                    pct_saving_energy.total_% wt_mean  \\\n",
       "upgrade_name                                                                            \n",
       "Enhanced Enclosure + High Efficiency Whole Home...                          55.552650   \n",
       "Basic Enclosure + High Efficiency Whole Home El...                          54.496949   \n",
       "Enhanced Enclosure + HPWH + High Efficiency HP/...                          54.373469   \n",
       "Basic Enclosure + HPWH + High Efficiency HP/Ele...                          53.317878   \n",
       "High Efficiency Whole Home Electrification                                  50.257786   \n",
       "High Efficiency Heat Pump with Electric Heat Ba...                          35.532866   \n",
       "Mininum Efficiency Whole Home Electrification                               28.237764   \n",
       "Mininum Efficiency Heat Pump with Existing Heat...                          23.236009   \n",
       "Mininum Efficiency Heat Pump with Electric Heat...                          22.561790   \n",
       "Enhanced Enclosure                                                          17.585608   \n",
       "Basic Enclosure                                                             14.059957   \n",
       "Heat Pump Water Heater                                                       8.846395   \n",
       "Electric Cooking                                                             2.328202   \n",
       "Heat Pump Clothes Dryer                                                      1.340524   \n",
       "Induction Cooking                                                            0.910829   \n",
       "baseline                                                                     0.000000   \n",
       "\n",
       "                                                    pct_saving_energy.total_% wt_p0.25  \\\n",
       "upgrade_name                                                                             \n",
       "Enhanced Enclosure + High Efficiency Whole Home...                           47.928259   \n",
       "Basic Enclosure + High Efficiency Whole Home El...                           47.928259   \n",
       "Enhanced Enclosure + HPWH + High Efficiency HP/...                           46.481381   \n",
       "Basic Enclosure + HPWH + High Efficiency HP/Ele...                           46.481381   \n",
       "High Efficiency Whole Home Electrification                                   39.431215   \n",
       "High Efficiency Heat Pump with Electric Heat Ba...                           23.946493   \n",
       "Mininum Efficiency Whole Home Electrification                                 6.498430   \n",
       "Mininum Efficiency Heat Pump with Existing Heat...                            6.921691   \n",
       "Mininum Efficiency Heat Pump with Electric Heat...                            7.240480   \n",
       "Enhanced Enclosure                                                           12.048454   \n",
       "Basic Enclosure                                                              10.794573   \n",
       "Heat Pump Water Heater                                                        2.967455   \n",
       "Electric Cooking                                                              1.658156   \n",
       "Heat Pump Clothes Dryer                                                       0.773706   \n",
       "Induction Cooking                                                             0.180000   \n",
       "baseline                                                                           NaN   \n",
       "\n",
       "                                                    pct_saving_energy.total_% wt_p0.75  \n",
       "upgrade_name                                                                            \n",
       "Enhanced Enclosure + High Efficiency Whole Home...                           67.677372  \n",
       "Basic Enclosure + High Efficiency Whole Home El...                           66.664539  \n",
       "Enhanced Enclosure + HPWH + High Efficiency HP/...                           66.515319  \n",
       "Basic Enclosure + HPWH + High Efficiency HP/Ele...                           64.464663  \n",
       "High Efficiency Whole Home Electrification                                   62.957417  \n",
       "High Efficiency Heat Pump with Electric Heat Ba...                           49.151633  \n",
       "Mininum Efficiency Whole Home Electrification                                44.639860  \n",
       "Mininum Efficiency Heat Pump with Existing Heat...                           38.377883  \n",
       "Mininum Efficiency Heat Pump with Electric Heat...                           38.515764  \n",
       "Enhanced Enclosure                                                           21.216302  \n",
       "Basic Enclosure                                                              18.332115  \n",
       "Heat Pump Water Heater                                                       15.791111  \n",
       "Electric Cooking                                                              2.713291  \n",
       "Heat Pump Clothes Dryer                                                       1.781324  \n",
       "Induction Cooking                                                             1.780630  \n",
       "baseline                                                                           NaN  "
      ]
     },
     "metadata": {},
     "output_type": "display_data"
    },
    {
     "name": "stdout",
     "output_type": "stream",
     "text": [
      "Summary for segment: segment5: \n"
     ]
    },
    {
     "data": {
      "text/html": [
       "<div>\n",
       "<style scoped>\n",
       "    .dataframe tbody tr th:only-of-type {\n",
       "        vertical-align: middle;\n",
       "    }\n",
       "\n",
       "    .dataframe tbody tr th {\n",
       "        vertical-align: top;\n",
       "    }\n",
       "\n",
       "    .dataframe thead th {\n",
       "        text-align: right;\n",
       "    }\n",
       "</style>\n",
       "<table border=\"1\" class=\"dataframe\">\n",
       "  <thead>\n",
       "    <tr style=\"text-align: right;\">\n",
       "      <th></th>\n",
       "      <th>n_samples</th>\n",
       "      <th>n_represented</th>\n",
       "      <th>pct_saving_energy.total_% wt_mean</th>\n",
       "      <th>pct_saving_energy.total_% wt_p0.25</th>\n",
       "      <th>pct_saving_energy.total_% wt_p0.75</th>\n",
       "    </tr>\n",
       "    <tr>\n",
       "      <th>upgrade_name</th>\n",
       "      <th></th>\n",
       "      <th></th>\n",
       "      <th></th>\n",
       "      <th></th>\n",
       "      <th></th>\n",
       "    </tr>\n",
       "  </thead>\n",
       "  <tbody>\n",
       "    <tr>\n",
       "      <th>Enhanced Enclosure + High Efficiency Whole Home Electrification</th>\n",
       "      <td>225</td>\n",
       "      <td>7287.889107</td>\n",
       "      <td>53.392880</td>\n",
       "      <td>48.836195</td>\n",
       "      <td>63.457460</td>\n",
       "    </tr>\n",
       "    <tr>\n",
       "      <th>Basic Enclosure + High Efficiency Whole Home Electrification</th>\n",
       "      <td>225</td>\n",
       "      <td>7287.889107</td>\n",
       "      <td>52.467162</td>\n",
       "      <td>48.451007</td>\n",
       "      <td>62.580971</td>\n",
       "    </tr>\n",
       "    <tr>\n",
       "      <th>Enhanced Enclosure + HPWH + High Efficiency HP/Electric Backup</th>\n",
       "      <td>225</td>\n",
       "      <td>7287.889107</td>\n",
       "      <td>52.073577</td>\n",
       "      <td>48.272469</td>\n",
       "      <td>62.276614</td>\n",
       "    </tr>\n",
       "    <tr>\n",
       "      <th>Basic Enclosure + HPWH + High Efficiency HP/Electric Backup</th>\n",
       "      <td>225</td>\n",
       "      <td>7287.889107</td>\n",
       "      <td>51.147798</td>\n",
       "      <td>47.516748</td>\n",
       "      <td>61.334831</td>\n",
       "    </tr>\n",
       "    <tr>\n",
       "      <th>High Efficiency Whole Home Electrification</th>\n",
       "      <td>225</td>\n",
       "      <td>7287.889107</td>\n",
       "      <td>48.436314</td>\n",
       "      <td>44.482898</td>\n",
       "      <td>59.018343</td>\n",
       "    </tr>\n",
       "    <tr>\n",
       "      <th>High Efficiency Heat Pump with Electric Heat Backup</th>\n",
       "      <td>225</td>\n",
       "      <td>7287.889107</td>\n",
       "      <td>33.523501</td>\n",
       "      <td>26.233369</td>\n",
       "      <td>47.792840</td>\n",
       "    </tr>\n",
       "    <tr>\n",
       "      <th>Mininum Efficiency Whole Home Electrification</th>\n",
       "      <td>173</td>\n",
       "      <td>5731.426790</td>\n",
       "      <td>27.980566</td>\n",
       "      <td>22.821331</td>\n",
       "      <td>40.457814</td>\n",
       "    </tr>\n",
       "    <tr>\n",
       "      <th>Mininum Efficiency Heat Pump with Electric Heat Backup</th>\n",
       "      <td>225</td>\n",
       "      <td>7287.889107</td>\n",
       "      <td>19.103738</td>\n",
       "      <td>12.408210</td>\n",
       "      <td>33.064715</td>\n",
       "    </tr>\n",
       "    <tr>\n",
       "      <th>Enhanced Enclosure</th>\n",
       "      <td>172</td>\n",
       "      <td>5590.332477</td>\n",
       "      <td>12.418743</td>\n",
       "      <td>5.590040</td>\n",
       "      <td>18.113259</td>\n",
       "    </tr>\n",
       "    <tr>\n",
       "      <th>Basic Enclosure</th>\n",
       "      <td>165</td>\n",
       "      <td>5308.745664</td>\n",
       "      <td>10.871193</td>\n",
       "      <td>5.271174</td>\n",
       "      <td>15.117969</td>\n",
       "    </tr>\n",
       "    <tr>\n",
       "      <th>Mininum Efficiency Heat Pump with Existing Heat Backup</th>\n",
       "      <td>209</td>\n",
       "      <td>7063.929131</td>\n",
       "      <td>9.427281</td>\n",
       "      <td>-7.303215</td>\n",
       "      <td>28.315058</td>\n",
       "    </tr>\n",
       "    <tr>\n",
       "      <th>Heat Pump Water Heater</th>\n",
       "      <td>225</td>\n",
       "      <td>7287.889107</td>\n",
       "      <td>7.310081</td>\n",
       "      <td>2.580000</td>\n",
       "      <td>10.479670</td>\n",
       "    </tr>\n",
       "    <tr>\n",
       "      <th>Electric Cooking</th>\n",
       "      <td>64</td>\n",
       "      <td>2155.653907</td>\n",
       "      <td>1.586795</td>\n",
       "      <td>0.940000</td>\n",
       "      <td>1.820000</td>\n",
       "    </tr>\n",
       "    <tr>\n",
       "      <th>Heat Pump Clothes Dryer</th>\n",
       "      <td>176</td>\n",
       "      <td>4783.318526</td>\n",
       "      <td>1.001746</td>\n",
       "      <td>0.450000</td>\n",
       "      <td>1.371657</td>\n",
       "    </tr>\n",
       "    <tr>\n",
       "      <th>Induction Cooking</th>\n",
       "      <td>225</td>\n",
       "      <td>7287.889107</td>\n",
       "      <td>0.663004</td>\n",
       "      <td>0.131038</td>\n",
       "      <td>1.009692</td>\n",
       "    </tr>\n",
       "    <tr>\n",
       "      <th>Electric Clothes Dryer</th>\n",
       "      <td>27</td>\n",
       "      <td>888.228756</td>\n",
       "      <td>0.474627</td>\n",
       "      <td>0.270000</td>\n",
       "      <td>0.540000</td>\n",
       "    </tr>\n",
       "    <tr>\n",
       "      <th>baseline</th>\n",
       "      <td>225</td>\n",
       "      <td>7287.889107</td>\n",
       "      <td>0.000000</td>\n",
       "      <td>NaN</td>\n",
       "      <td>NaN</td>\n",
       "    </tr>\n",
       "  </tbody>\n",
       "</table>\n",
       "</div>"
      ],
      "text/plain": [
       "                                                    n_samples  n_represented  \\\n",
       "upgrade_name                                                                   \n",
       "Enhanced Enclosure + High Efficiency Whole Home...        225    7287.889107   \n",
       "Basic Enclosure + High Efficiency Whole Home El...        225    7287.889107   \n",
       "Enhanced Enclosure + HPWH + High Efficiency HP/...        225    7287.889107   \n",
       "Basic Enclosure + HPWH + High Efficiency HP/Ele...        225    7287.889107   \n",
       "High Efficiency Whole Home Electrification                225    7287.889107   \n",
       "High Efficiency Heat Pump with Electric Heat Ba...        225    7287.889107   \n",
       "Mininum Efficiency Whole Home Electrification             173    5731.426790   \n",
       "Mininum Efficiency Heat Pump with Electric Heat...        225    7287.889107   \n",
       "Enhanced Enclosure                                        172    5590.332477   \n",
       "Basic Enclosure                                           165    5308.745664   \n",
       "Mininum Efficiency Heat Pump with Existing Heat...        209    7063.929131   \n",
       "Heat Pump Water Heater                                    225    7287.889107   \n",
       "Electric Cooking                                           64    2155.653907   \n",
       "Heat Pump Clothes Dryer                                   176    4783.318526   \n",
       "Induction Cooking                                         225    7287.889107   \n",
       "Electric Clothes Dryer                                     27     888.228756   \n",
       "baseline                                                  225    7287.889107   \n",
       "\n",
       "                                                    pct_saving_energy.total_% wt_mean  \\\n",
       "upgrade_name                                                                            \n",
       "Enhanced Enclosure + High Efficiency Whole Home...                          53.392880   \n",
       "Basic Enclosure + High Efficiency Whole Home El...                          52.467162   \n",
       "Enhanced Enclosure + HPWH + High Efficiency HP/...                          52.073577   \n",
       "Basic Enclosure + HPWH + High Efficiency HP/Ele...                          51.147798   \n",
       "High Efficiency Whole Home Electrification                                  48.436314   \n",
       "High Efficiency Heat Pump with Electric Heat Ba...                          33.523501   \n",
       "Mininum Efficiency Whole Home Electrification                               27.980566   \n",
       "Mininum Efficiency Heat Pump with Electric Heat...                          19.103738   \n",
       "Enhanced Enclosure                                                          12.418743   \n",
       "Basic Enclosure                                                             10.871193   \n",
       "Mininum Efficiency Heat Pump with Existing Heat...                           9.427281   \n",
       "Heat Pump Water Heater                                                       7.310081   \n",
       "Electric Cooking                                                             1.586795   \n",
       "Heat Pump Clothes Dryer                                                      1.001746   \n",
       "Induction Cooking                                                            0.663004   \n",
       "Electric Clothes Dryer                                                       0.474627   \n",
       "baseline                                                                     0.000000   \n",
       "\n",
       "                                                    pct_saving_energy.total_% wt_p0.25  \\\n",
       "upgrade_name                                                                             \n",
       "Enhanced Enclosure + High Efficiency Whole Home...                           48.836195   \n",
       "Basic Enclosure + High Efficiency Whole Home El...                           48.451007   \n",
       "Enhanced Enclosure + HPWH + High Efficiency HP/...                           48.272469   \n",
       "Basic Enclosure + HPWH + High Efficiency HP/Ele...                           47.516748   \n",
       "High Efficiency Whole Home Electrification                                   44.482898   \n",
       "High Efficiency Heat Pump with Electric Heat Ba...                           26.233369   \n",
       "Mininum Efficiency Whole Home Electrification                                22.821331   \n",
       "Mininum Efficiency Heat Pump with Electric Heat...                           12.408210   \n",
       "Enhanced Enclosure                                                            5.590040   \n",
       "Basic Enclosure                                                               5.271174   \n",
       "Mininum Efficiency Heat Pump with Existing Heat...                           -7.303215   \n",
       "Heat Pump Water Heater                                                        2.580000   \n",
       "Electric Cooking                                                              0.940000   \n",
       "Heat Pump Clothes Dryer                                                       0.450000   \n",
       "Induction Cooking                                                             0.131038   \n",
       "Electric Clothes Dryer                                                        0.270000   \n",
       "baseline                                                                           NaN   \n",
       "\n",
       "                                                    pct_saving_energy.total_% wt_p0.75  \n",
       "upgrade_name                                                                            \n",
       "Enhanced Enclosure + High Efficiency Whole Home...                           63.457460  \n",
       "Basic Enclosure + High Efficiency Whole Home El...                           62.580971  \n",
       "Enhanced Enclosure + HPWH + High Efficiency HP/...                           62.276614  \n",
       "Basic Enclosure + HPWH + High Efficiency HP/Ele...                           61.334831  \n",
       "High Efficiency Whole Home Electrification                                   59.018343  \n",
       "High Efficiency Heat Pump with Electric Heat Ba...                           47.792840  \n",
       "Mininum Efficiency Whole Home Electrification                                40.457814  \n",
       "Mininum Efficiency Heat Pump with Electric Heat...                           33.064715  \n",
       "Enhanced Enclosure                                                           18.113259  \n",
       "Basic Enclosure                                                              15.117969  \n",
       "Mininum Efficiency Heat Pump with Existing Heat...                           28.315058  \n",
       "Heat Pump Water Heater                                                       10.479670  \n",
       "Electric Cooking                                                              1.820000  \n",
       "Heat Pump Clothes Dryer                                                       1.371657  \n",
       "Induction Cooking                                                             1.009692  \n",
       "Electric Clothes Dryer                                                        0.540000  \n",
       "baseline                                                                           NaN  "
      ]
     },
     "metadata": {},
     "output_type": "display_data"
    }
   ],
   "source": [
    "metric = 'pct_saving_energy.total_%'  # TODO 'pct_saving_cbill.total_%' #'pct_saving_energy.total_%' #'saving_energy.total_mmbtu' #'saving_cbill.total_usd'\n",
    "\n",
    "for segment in sorted(community_results[\"segment\"].dropna().unique()):\n",
    "    print(f\"Summary for segment: {segment}: \")\n",
    "    df_seg = community_results.loc[community_results[\"segment\"]==segment]\n",
    "    display(get_summary(df_seg, metric, lower_percentile=0.25, upper_percentile=0.75))"
   ]
  },
  {
   "cell_type": "markdown",
   "id": "13fe6b47",
   "metadata": {},
   "source": [
    "## 2.1 Upgrade Cost Per Dwelling Unit "
   ]
  },
  {
   "cell_type": "code",
   "execution_count": 21,
   "id": "585a1a25",
   "metadata": {},
   "outputs": [
    {
     "name": "stdout",
     "output_type": "stream",
     "text": [
      "segment1: upgrade cost (usd) per dwelling unit\n"
     ]
    },
    {
     "data": {
      "text/plain": [
       "upgrade_name\n",
       "Electric Cooking                                                    1127.3\n",
       "Electric Clothes Dryer                                              1266.0\n",
       "Induction Cooking                                                   1953.1\n",
       "Heat Pump Clothes Dryer                                             2547.5\n",
       "Heat Pump Water Heater                                              2977.1\n",
       "Basic Enclosure                                                     4161.7\n",
       "Enhanced Enclosure                                                  6039.4\n",
       "High Efficiency Heat Pump with Electric Heat Backup                34616.8\n",
       "Enhanced Enclosure + HPWH + High Efficiency HP/Electric Backup     35306.2\n",
       "Basic Enclosure + HPWH + High Efficiency HP/Electric Backup        35449.8\n",
       "Enhanced Enclosure + High Efficiency Whole Home Electrification    39806.8\n",
       "Basic Enclosure + High Efficiency Whole Home Electrification       39950.3\n",
       "High Efficiency Whole Home Electrification                         42094.6\n",
       "Mininum Efficiency Heat Pump with Existing Heat Backup             68959.2\n",
       "Mininum Efficiency Whole Home Electrification                      70126.2\n",
       "Mininum Efficiency Heat Pump with Electric Heat Backup             74261.3\n",
       "Name: upgrade_cost_usd, dtype: float64"
      ]
     },
     "metadata": {},
     "output_type": "display_data"
    },
    {
     "name": "stdout",
     "output_type": "stream",
     "text": [
      "segment2: upgrade cost (usd) per dwelling unit\n"
     ]
    },
    {
     "data": {
      "text/plain": [
       "upgrade_name\n",
       "Electric Cooking                                                     1127.3\n",
       "Electric Clothes Dryer                                               1266.0\n",
       "Induction Cooking                                                    1953.1\n",
       "Heat Pump Clothes Dryer                                              2547.5\n",
       "Heat Pump Water Heater                                               3243.2\n",
       "Basic Enclosure                                                      4499.4\n",
       "Enhanced Enclosure                                                   7233.8\n",
       "High Efficiency Heat Pump with Electric Heat Backup                 43875.5\n",
       "Basic Enclosure + HPWH + High Efficiency HP/Electric Backup         44714.7\n",
       "Enhanced Enclosure + HPWH + High Efficiency HP/Electric Backup      44966.1\n",
       "Basic Enclosure + High Efficiency Whole Home Electrification        49177.8\n",
       "Enhanced Enclosure + High Efficiency Whole Home Electrification     49429.2\n",
       "High Efficiency Whole Home Electrification                          51581.7\n",
       "Mininum Efficiency Heat Pump with Existing Heat Backup             102736.4\n",
       "Mininum Efficiency Whole Home Electrification                      137968.9\n",
       "Mininum Efficiency Heat Pump with Electric Heat Backup             140739.0\n",
       "Name: upgrade_cost_usd, dtype: float64"
      ]
     },
     "metadata": {},
     "output_type": "display_data"
    },
    {
     "name": "stdout",
     "output_type": "stream",
     "text": [
      "segment3: upgrade cost (usd) per dwelling unit\n"
     ]
    },
    {
     "data": {
      "text/plain": [
       "upgrade_name\n",
       "Basic Enclosure                                                      828.2\n",
       "Electric Cooking                                                    1127.3\n",
       "Induction Cooking                                                   1953.1\n",
       "Enhanced Enclosure                                                  2458.7\n",
       "Heat Pump Clothes Dryer                                             2547.5\n",
       "Heat Pump Water Heater                                              2905.1\n",
       "High Efficiency Heat Pump with Electric Heat Backup                23617.9\n",
       "Basic Enclosure + HPWH + High Efficiency HP/Electric Backup        26149.0\n",
       "Enhanced Enclosure + HPWH + High Efficiency HP/Electric Backup     27683.6\n",
       "Basic Enclosure + High Efficiency Whole Home Electrification       30000.7\n",
       "High Efficiency Whole Home Electrification                         30374.7\n",
       "Enhanced Enclosure + High Efficiency Whole Home Electrification    31535.3\n",
       "Mininum Efficiency Heat Pump with Electric Heat Backup             36178.5\n",
       "Mininum Efficiency Heat Pump with Existing Heat Backup             36178.5\n",
       "Mininum Efficiency Whole Home Electrification                      50053.3\n",
       "Name: upgrade_cost_usd, dtype: float64"
      ]
     },
     "metadata": {},
     "output_type": "display_data"
    },
    {
     "name": "stdout",
     "output_type": "stream",
     "text": [
      "segment4: upgrade cost (usd) per dwelling unit\n"
     ]
    },
    {
     "data": {
      "text/plain": [
       "upgrade_name\n",
       "Basic Enclosure                                                      708.9\n",
       "Electric Cooking                                                    1127.3\n",
       "Induction Cooking                                                   1953.1\n",
       "Enhanced Enclosure                                                  2244.1\n",
       "Heat Pump Clothes Dryer                                             2547.5\n",
       "Heat Pump Water Heater                                              2905.1\n",
       "High Efficiency Heat Pump with Electric Heat Backup                20402.0\n",
       "Basic Enclosure + HPWH + High Efficiency HP/Electric Backup        22129.7\n",
       "Enhanced Enclosure + HPWH + High Efficiency HP/Electric Backup     22970.4\n",
       "Basic Enclosure + High Efficiency Whole Home Electrification       24572.6\n",
       "Mininum Efficiency Whole Home Electrification                      25374.0\n",
       "Enhanced Enclosure + High Efficiency Whole Home Electrification    25413.4\n",
       "High Efficiency Whole Home Electrification                         25750.1\n",
       "Mininum Efficiency Heat Pump with Electric Heat Backup             49917.1\n",
       "Mininum Efficiency Heat Pump with Existing Heat Backup             54045.9\n",
       "Name: upgrade_cost_usd, dtype: float64"
      ]
     },
     "metadata": {},
     "output_type": "display_data"
    },
    {
     "name": "stdout",
     "output_type": "stream",
     "text": [
      "segment5: upgrade cost (usd) per dwelling unit\n"
     ]
    },
    {
     "data": {
      "text/plain": [
       "upgrade_name\n",
       "Electric Cooking                                                    1127.3\n",
       "Electric Clothes Dryer                                              1266.0\n",
       "Induction Cooking                                                   1953.1\n",
       "Basic Enclosure                                                     2103.1\n",
       "Heat Pump Clothes Dryer                                             2547.5\n",
       "Enhanced Enclosure                                                  2735.3\n",
       "Heat Pump Water Heater                                              3100.7\n",
       "High Efficiency Heat Pump with Electric Heat Backup                24287.5\n",
       "Basic Enclosure + HPWH + High Efficiency HP/Electric Backup        27898.4\n",
       "Enhanced Enclosure + HPWH + High Efficiency HP/Electric Backup     28144.9\n",
       "High Efficiency Whole Home Electrification                         31013.3\n",
       "Mininum Efficiency Whole Home Electrification                      31143.5\n",
       "Basic Enclosure + High Efficiency Whole Home Electrification       31523.5\n",
       "Enhanced Enclosure + High Efficiency Whole Home Electrification    31770.0\n",
       "Mininum Efficiency Heat Pump with Existing Heat Backup             45109.5\n",
       "Mininum Efficiency Heat Pump with Electric Heat Backup             48281.5\n",
       "Name: upgrade_cost_usd, dtype: float64"
      ]
     },
     "metadata": {},
     "output_type": "display_data"
    }
   ],
   "source": [
    "results = segment_mean_upgrade_cost(community_results) \n",
    "saving_results[f'segment1_{income}_upgrade_cost_mean_usd'] = results[0]\n",
    "saving_results[f'segment2_{income}_upgrade_cost_mean_usd'] = results[1]\n",
    "saving_results[f'segment3_{income}_upgrade_cost_mean_usd'] = results[2]\n",
    "saving_results[f'segment4_{income}_upgrade_cost_mean_usd'] = results[3]\n",
    "saving_results[f'segment5_{income}_upgrade_cost_mean_usd'] = results[4]"
   ]
  },
  {
   "cell_type": "markdown",
   "id": "660e0aa3",
   "metadata": {},
   "source": [
    " ## 2.2 Annual Savings Per Dollar Invested"
   ]
  },
  {
   "cell_type": "markdown",
   "id": "9492f6e1",
   "metadata": {},
   "source": [
    " ### Annual Bill Savings Per Dollar Invested"
   ]
  },
  {
   "cell_type": "code",
   "execution_count": 22,
   "id": "6e31ced4",
   "metadata": {},
   "outputs": [
    {
     "name": "stdout",
     "output_type": "stream",
     "text": [
      "segment1\n"
     ]
    },
    {
     "data": {
      "text/plain": [
       "upgrade_name\n",
       "Basic Enclosure                                                    0.08664\n",
       "Enhanced Enclosure                                                 0.07478\n",
       "Heat Pump Water Heater                                             0.03586\n",
       "Enhanced Enclosure + HPWH + High Efficiency HP/Electric Backup     0.01085\n",
       "Basic Enclosure + HPWH + High Efficiency HP/Electric Backup        0.01067\n",
       "Enhanced Enclosure + High Efficiency Whole Home Electrification    0.01027\n",
       "Basic Enclosure + High Efficiency Whole Home Electrification       0.01012\n",
       "Heat Pump Clothes Dryer                                            0.00791\n",
       "Induction Cooking                                                  0.00126\n",
       "Mininum Efficiency Heat Pump with Existing Heat Backup            -0.00000\n",
       "High Efficiency Whole Home Electrification                        -0.00159\n",
       "Electric Cooking                                                  -0.00525\n",
       "High Efficiency Heat Pump with Electric Heat Backup               -0.00730\n",
       "Mininum Efficiency Whole Home Electrification                     -0.01145\n",
       "Mininum Efficiency Heat Pump with Electric Heat Backup            -0.01154\n",
       "Electric Clothes Dryer                                            -0.02230\n",
       "Name: saving_cbill.total_usd, dtype: float64"
      ]
     },
     "metadata": {},
     "output_type": "display_data"
    },
    {
     "name": "stdout",
     "output_type": "stream",
     "text": [
      "segment2\n"
     ]
    },
    {
     "data": {
      "text/plain": [
       "upgrade_name\n",
       "Basic Enclosure                                                    0.09081\n",
       "Enhanced Enclosure                                                 0.07420\n",
       "Heat Pump Water Heater                                             0.01918\n",
       "Enhanced Enclosure + HPWH + High Efficiency HP/Electric Backup     0.01430\n",
       "Enhanced Enclosure + High Efficiency Whole Home Electrification    0.01349\n",
       "Basic Enclosure + HPWH + High Efficiency HP/Electric Backup        0.01264\n",
       "Basic Enclosure + High Efficiency Whole Home Electrification       0.01197\n",
       "Heat Pump Clothes Dryer                                            0.00777\n",
       "High Efficiency Whole Home Electrification                         0.00270\n",
       "Induction Cooking                                                  0.00045\n",
       "Mininum Efficiency Heat Pump with Existing Heat Backup             0.00031\n",
       "High Efficiency Heat Pump with Electric Heat Backup               -0.00039\n",
       "Mininum Efficiency Heat Pump with Electric Heat Backup            -0.00527\n",
       "Electric Cooking                                                  -0.00565\n",
       "Mininum Efficiency Whole Home Electrification                     -0.00580\n",
       "Electric Clothes Dryer                                            -0.01541\n",
       "Name: saving_cbill.total_usd, dtype: float64"
      ]
     },
     "metadata": {},
     "output_type": "display_data"
    },
    {
     "name": "stdout",
     "output_type": "stream",
     "text": [
      "segment3\n"
     ]
    },
    {
     "data": {
      "text/plain": [
       "upgrade_name\n",
       "Basic Enclosure                                                    0.23262\n",
       "Enhanced Enclosure                                                 0.09885\n",
       "Heat Pump Water Heater                                             0.02324\n",
       "Enhanced Enclosure + HPWH + High Efficiency HP/Electric Backup     0.02266\n",
       "Basic Enclosure + HPWH + High Efficiency HP/Electric Backup        0.02147\n",
       "Enhanced Enclosure + High Efficiency Whole Home Electrification    0.02045\n",
       "Basic Enclosure + High Efficiency Whole Home Electrification       0.01930\n",
       "High Efficiency Whole Home Electrification                         0.01279\n",
       "High Efficiency Heat Pump with Electric Heat Backup                0.01031\n",
       "Heat Pump Clothes Dryer                                            0.00722\n",
       "Mininum Efficiency Heat Pump with Existing Heat Backup             0.00226\n",
       "Induction Cooking                                                  0.00058\n",
       "Mininum Efficiency Heat Pump with Electric Heat Backup            -0.00240\n",
       "Mininum Efficiency Whole Home Electrification                     -0.00281\n",
       "Electric Cooking                                                  -0.00478\n",
       "Name: saving_cbill.total_usd, dtype: float64"
      ]
     },
     "metadata": {},
     "output_type": "display_data"
    },
    {
     "name": "stdout",
     "output_type": "stream",
     "text": [
      "segment4\n"
     ]
    },
    {
     "data": {
      "text/plain": [
       "upgrade_name\n",
       "Basic Enclosure                                                    0.23895\n",
       "Enhanced Enclosure                                                 0.08876\n",
       "Basic Enclosure + HPWH + High Efficiency HP/Electric Backup        0.02140\n",
       "Enhanced Enclosure + HPWH + High Efficiency HP/Electric Backup     0.02136\n",
       "Enhanced Enclosure + High Efficiency Whole Home Electrification    0.01959\n",
       "Basic Enclosure + High Efficiency Whole Home Electrification       0.01957\n",
       "High Efficiency Whole Home Electrification                         0.01596\n",
       "High Efficiency Heat Pump with Electric Heat Backup                0.01557\n",
       "Heat Pump Water Heater                                             0.01523\n",
       "Heat Pump Clothes Dryer                                            0.00728\n",
       "Mininum Efficiency Heat Pump with Existing Heat Backup             0.00375\n",
       "Mininum Efficiency Heat Pump with Electric Heat Backup             0.00278\n",
       "Induction Cooking                                                  0.00028\n",
       "Mininum Efficiency Whole Home Electrification                     -0.00066\n",
       "Electric Cooking                                                  -0.00808\n",
       "Name: saving_cbill.total_usd, dtype: float64"
      ]
     },
     "metadata": {},
     "output_type": "display_data"
    },
    {
     "name": "stdout",
     "output_type": "stream",
     "text": [
      "segment5\n"
     ]
    },
    {
     "data": {
      "text/plain": [
       "upgrade_name\n",
       "Basic Enclosure                                                    0.07532\n",
       "Enhanced Enclosure                                                 0.06513\n",
       "Heat Pump Water Heater                                             0.01310\n",
       "Enhanced Enclosure + HPWH + High Efficiency HP/Electric Backup     0.01176\n",
       "Basic Enclosure + HPWH + High Efficiency HP/Electric Backup        0.01092\n",
       "Enhanced Enclosure + High Efficiency Whole Home Electrification    0.01089\n",
       "Basic Enclosure + High Efficiency Whole Home Electrification       0.01015\n",
       "Heat Pump Clothes Dryer                                            0.00735\n",
       "High Efficiency Whole Home Electrification                         0.00656\n",
       "High Efficiency Heat Pump with Electric Heat Backup                0.00343\n",
       "Mininum Efficiency Heat Pump with Existing Heat Backup             0.00108\n",
       "Induction Cooking                                                  0.00013\n",
       "Mininum Efficiency Heat Pump with Electric Heat Backup            -0.00618\n",
       "Electric Cooking                                                  -0.00886\n",
       "Mininum Efficiency Whole Home Electrification                     -0.01603\n",
       "Electric Clothes Dryer                                            -0.01971\n",
       "Name: saving_cbill.total_usd, dtype: float64"
      ]
     },
     "metadata": {},
     "output_type": "display_data"
    }
   ],
   "source": [
    "indicator ='saving_cbill.total_usd'\n",
    "results = segment_savings_per_dollar(indicator, community_results) \n",
    "saving_results[f'segment1_{income}_saving_bill_per_dollar_invested_usd'] = results[0]\n",
    "saving_results[f'segment2_{income}_saving_bill_per_dollar_invested_usd'] = results[1]\n",
    "saving_results[f'segment3_{income}_saving_bill_per_dollar_invested_usd'] = results[2]\n",
    "saving_results[f'segment4_{income}_saving_bill_per_dollar_invested_usd'] = results[3]\n",
    "saving_results[f'segment5_{income}_saving_bill_per_dollar_invested_usd'] = results[4]"
   ]
  },
  {
   "cell_type": "markdown",
   "id": "4be95afb",
   "metadata": {},
   "source": [
    " ### Annual Energy Savings Per Dollar Invested"
   ]
  },
  {
   "cell_type": "code",
   "execution_count": 23,
   "id": "d03da729",
   "metadata": {},
   "outputs": [
    {
     "name": "stdout",
     "output_type": "stream",
     "text": [
      "segment1\n"
     ]
    },
    {
     "data": {
      "text/plain": [
       "upgrade_name\n",
       "Basic Enclosure                                                    0.01210\n",
       "Enhanced Enclosure                                                 0.00975\n",
       "Enhanced Enclosure + HPWH + High Efficiency HP/Electric Backup     0.00363\n",
       "Basic Enclosure + HPWH + High Efficiency HP/Electric Backup        0.00361\n",
       "Enhanced Enclosure + High Efficiency Whole Home Electrification    0.00326\n",
       "Basic Enclosure + High Efficiency Whole Home Electrification       0.00325\n",
       "High Efficiency Heat Pump with Electric Heat Backup                0.00270\n",
       "High Efficiency Whole Home Electrification                         0.00263\n",
       "Heat Pump Water Heater                                             0.00248\n",
       "Electric Cooking                                                   0.00135\n",
       "Mininum Efficiency Whole Home Electrification                      0.00115\n",
       "Mininum Efficiency Heat Pump with Electric Heat Backup             0.00093\n",
       "Electric Clothes Dryer                                             0.00055\n",
       "Heat Pump Clothes Dryer                                            0.00050\n",
       "Mininum Efficiency Heat Pump with Existing Heat Backup             0.00049\n",
       "Induction Cooking                                                  0.00022\n",
       "Name: saving_energy.total_mmbtu, dtype: float64"
      ]
     },
     "metadata": {},
     "output_type": "display_data"
    },
    {
     "name": "stdout",
     "output_type": "stream",
     "text": [
      "segment2\n"
     ]
    },
    {
     "data": {
      "text/plain": [
       "upgrade_name\n",
       "Basic Enclosure                                                    0.01038\n",
       "Enhanced Enclosure                                                 0.00826\n",
       "Enhanced Enclosure + HPWH + High Efficiency HP/Electric Backup     0.00341\n",
       "Basic Enclosure + HPWH + High Efficiency HP/Electric Backup        0.00335\n",
       "Enhanced Enclosure + High Efficiency Whole Home Electrification    0.00313\n",
       "Basic Enclosure + High Efficiency Whole Home Electrification       0.00308\n",
       "High Efficiency Heat Pump with Electric Heat Backup                0.00267\n",
       "High Efficiency Whole Home Electrification                         0.00258\n",
       "Heat Pump Water Heater                                             0.00242\n",
       "Electric Cooking                                                   0.00131\n",
       "Mininum Efficiency Whole Home Electrification                      0.00075\n",
       "Mininum Efficiency Heat Pump with Electric Heat Backup             0.00062\n",
       "Mininum Efficiency Heat Pump with Existing Heat Backup             0.00048\n",
       "Heat Pump Clothes Dryer                                            0.00039\n",
       "Electric Clothes Dryer                                             0.00035\n",
       "Induction Cooking                                                  0.00035\n",
       "Name: saving_energy.total_mmbtu, dtype: float64"
      ]
     },
     "metadata": {},
     "output_type": "display_data"
    },
    {
     "name": "stdout",
     "output_type": "stream",
     "text": [
      "segment3\n"
     ]
    },
    {
     "data": {
      "text/plain": [
       "upgrade_name\n",
       "Basic Enclosure                                                    0.01539\n",
       "Enhanced Enclosure                                                 0.00666\n",
       "Basic Enclosure + HPWH + High Efficiency HP/Electric Backup        0.00213\n",
       "Enhanced Enclosure + HPWH + High Efficiency HP/Electric Backup     0.00211\n",
       "Basic Enclosure + High Efficiency Whole Home Electrification       0.00189\n",
       "Enhanced Enclosure + High Efficiency Whole Home Electrification    0.00189\n",
       "Heat Pump Water Heater                                             0.00171\n",
       "High Efficiency Heat Pump with Electric Heat Backup                0.00163\n",
       "High Efficiency Whole Home Electrification                         0.00161\n",
       "Electric Cooking                                                   0.00121\n",
       "Mininum Efficiency Whole Home Electrification                      0.00084\n",
       "Mininum Efficiency Heat Pump with Electric Heat Backup             0.00069\n",
       "Mininum Efficiency Heat Pump with Existing Heat Backup             0.00054\n",
       "Heat Pump Clothes Dryer                                            0.00029\n",
       "Induction Cooking                                                  0.00029\n",
       "Name: saving_energy.total_mmbtu, dtype: float64"
      ]
     },
     "metadata": {},
     "output_type": "display_data"
    },
    {
     "name": "stdout",
     "output_type": "stream",
     "text": [
      "segment4\n"
     ]
    },
    {
     "data": {
      "text/plain": [
       "upgrade_name\n",
       "Basic Enclosure                                                    0.01331\n",
       "Enhanced Enclosure                                                 0.00514\n",
       "Heat Pump Water Heater                                             0.00147\n",
       "Basic Enclosure + HPWH + High Efficiency HP/Electric Backup        0.00145\n",
       "Enhanced Enclosure + HPWH + High Efficiency HP/Electric Backup     0.00143\n",
       "Basic Enclosure + High Efficiency Whole Home Electrification       0.00133\n",
       "Enhanced Enclosure + High Efficiency Whole Home Electrification    0.00131\n",
       "Electric Cooking                                                   0.00117\n",
       "High Efficiency Whole Home Electrification                         0.00116\n",
       "High Efficiency Heat Pump with Electric Heat Backup                0.00109\n",
       "Mininum Efficiency Whole Home Electrification                      0.00076\n",
       "Mininum Efficiency Heat Pump with Electric Heat Backup             0.00030\n",
       "Heat Pump Clothes Dryer                                            0.00030\n",
       "Mininum Efficiency Heat Pump with Existing Heat Backup             0.00027\n",
       "Induction Cooking                                                  0.00026\n",
       "Name: saving_energy.total_mmbtu, dtype: float64"
      ]
     },
     "metadata": {},
     "output_type": "display_data"
    },
    {
     "name": "stdout",
     "output_type": "stream",
     "text": [
      "segment5\n"
     ]
    },
    {
     "data": {
      "text/plain": [
       "upgrade_name\n",
       "Basic Enclosure                                                    0.00685\n",
       "Enhanced Enclosure                                                 0.00577\n",
       "Enhanced Enclosure + HPWH + High Efficiency HP/Electric Backup     0.00211\n",
       "Basic Enclosure + HPWH + High Efficiency HP/Electric Backup        0.00209\n",
       "Heat Pump Water Heater                                             0.00192\n",
       "Enhanced Enclosure + High Efficiency Whole Home Electrification    0.00191\n",
       "Basic Enclosure + High Efficiency Whole Home Electrification       0.00189\n",
       "High Efficiency Whole Home Electrification                         0.00177\n",
       "High Efficiency Heat Pump with Electric Heat Backup                0.00173\n",
       "Electric Cooking                                                   0.00140\n",
       "Mininum Efficiency Whole Home Electrification                      0.00125\n",
       "Mininum Efficiency Heat Pump with Electric Heat Backup             0.00055\n",
       "Electric Clothes Dryer                                             0.00047\n",
       "Heat Pump Clothes Dryer                                            0.00042\n",
       "Induction Cooking                                                  0.00031\n",
       "Mininum Efficiency Heat Pump with Existing Heat Backup             0.00016\n",
       "Name: saving_energy.total_mmbtu, dtype: float64"
      ]
     },
     "metadata": {},
     "output_type": "display_data"
    }
   ],
   "source": [
    "indicator = 'saving_energy.total_mmbtu'\n",
    "results = segment_savings_per_dollar(indicator, community_results) \n",
    "saving_results[f'segment1_{income}_saving_energy_per_dollar_invested_mmbtu'] = results[0]\n",
    "saving_results[f'segment2_{income}_saving_energy_per_dollar_invested_mmbtu'] = results[1]\n",
    "saving_results[f'segment3_{income}_saving_energy_per_dollar_invested_mmbtu'] = results[2]\n",
    "saving_results[f'segment4_{income}_saving_energy_per_dollar_invested_mmbtu'] = results[3]\n",
    "saving_results[f'segment5_{income}_saving_energy_per_dollar_invested_mmbtu'] = results[4]"
   ]
  },
  {
   "cell_type": "markdown",
   "id": "3b3ea80f",
   "metadata": {},
   "source": [
    " ### Annual Emission Savings Per Dollar Invested"
   ]
  },
  {
   "cell_type": "code",
   "execution_count": 24,
   "id": "b538dff9",
   "metadata": {},
   "outputs": [
    {
     "name": "stdout",
     "output_type": "stream",
     "text": [
      "segment1\n"
     ]
    },
    {
     "data": {
      "text/plain": [
       "upgrade_name\n",
       "Basic Enclosure                                                    0.87198\n",
       "Enhanced Enclosure                                                 0.69191\n",
       "Enhanced Enclosure + HPWH + High Efficiency HP/Electric Backup     0.28919\n",
       "Basic Enclosure + HPWH + High Efficiency HP/Electric Backup        0.28782\n",
       "Enhanced Enclosure + High Efficiency Whole Home Electrification    0.25900\n",
       "Basic Enclosure + High Efficiency Whole Home Electrification       0.25789\n",
       "High Efficiency Heat Pump with Electric Heat Backup                0.24475\n",
       "High Efficiency Whole Home Electrification                         0.22747\n",
       "Heat Pump Water Heater                                             0.13478\n",
       "Electric Cooking                                                   0.12935\n",
       "Mininum Efficiency Whole Home Electrification                      0.12108\n",
       "Mininum Efficiency Heat Pump with Electric Heat Backup             0.10193\n",
       "Electric Clothes Dryer                                             0.09952\n",
       "Mininum Efficiency Heat Pump with Existing Heat Backup             0.04220\n",
       "Heat Pump Clothes Dryer                                            0.02644\n",
       "Induction Cooking                                                  0.01662\n",
       "Name: saving_emission.total_kgCO2e, dtype: float64"
      ]
     },
     "metadata": {},
     "output_type": "display_data"
    },
    {
     "name": "stdout",
     "output_type": "stream",
     "text": [
      "segment2\n"
     ]
    },
    {
     "data": {
      "text/plain": [
       "upgrade_name\n",
       "Basic Enclosure                                                    0.70827\n",
       "Enhanced Enclosure                                                 0.55923\n",
       "Enhanced Enclosure + HPWH + High Efficiency HP/Electric Backup     0.26055\n",
       "Basic Enclosure + HPWH + High Efficiency HP/Electric Backup        0.25929\n",
       "Enhanced Enclosure + High Efficiency Whole Home Electrification    0.23902\n",
       "Basic Enclosure + High Efficiency Whole Home Electrification       0.23776\n",
       "High Efficiency Heat Pump with Electric Heat Backup                0.22580\n",
       "High Efficiency Whole Home Electrification                         0.21305\n",
       "Heat Pump Water Heater                                             0.16571\n",
       "Electric Cooking                                                   0.12633\n",
       "Mininum Efficiency Whole Home Electrification                      0.07453\n",
       "Electric Clothes Dryer                                             0.06480\n",
       "Mininum Efficiency Heat Pump with Electric Heat Backup             0.06260\n",
       "Mininum Efficiency Heat Pump with Existing Heat Backup             0.04046\n",
       "Induction Cooking                                                  0.02951\n",
       "Heat Pump Clothes Dryer                                            0.01630\n",
       "Name: saving_emission.total_kgCO2e, dtype: float64"
      ]
     },
     "metadata": {},
     "output_type": "display_data"
    },
    {
     "name": "stdout",
     "output_type": "stream",
     "text": [
      "segment3\n"
     ]
    },
    {
     "data": {
      "text/plain": [
       "upgrade_name\n",
       "Basic Enclosure                                                    0.86086\n",
       "Enhanced Enclosure                                                 0.37614\n",
       "Basic Enclosure + HPWH + High Efficiency HP/Electric Backup        0.13871\n",
       "Enhanced Enclosure + HPWH + High Efficiency HP/Electric Backup     0.13481\n",
       "Basic Enclosure + High Efficiency Whole Home Electrification       0.12310\n",
       "Enhanced Enclosure + High Efficiency Whole Home Electrification    0.12044\n",
       "High Efficiency Heat Pump with Electric Heat Backup                0.11751\n",
       "Electric Cooking                                                   0.11674\n",
       "High Efficiency Whole Home Electrification                         0.11165\n",
       "Heat Pump Water Heater                                             0.09882\n",
       "Mininum Efficiency Whole Home Electrification                      0.07668\n",
       "Mininum Efficiency Heat Pump with Electric Heat Backup             0.06279\n",
       "Mininum Efficiency Heat Pump with Existing Heat Backup             0.04161\n",
       "Induction Cooking                                                  0.02430\n",
       "Heat Pump Clothes Dryer                                            0.00970\n",
       "Name: saving_emission.total_kgCO2e, dtype: float64"
      ]
     },
     "metadata": {},
     "output_type": "display_data"
    },
    {
     "name": "stdout",
     "output_type": "stream",
     "text": [
      "segment4\n"
     ]
    },
    {
     "data": {
      "text/plain": [
       "upgrade_name\n",
       "Basic Enclosure                                                    0.66894\n",
       "Enhanced Enclosure                                                 0.26478\n",
       "Electric Cooking                                                   0.12003\n",
       "Heat Pump Water Heater                                             0.09554\n",
       "Basic Enclosure + HPWH + High Efficiency HP/Electric Backup        0.08159\n",
       "Enhanced Enclosure + HPWH + High Efficiency HP/Electric Backup     0.07975\n",
       "Basic Enclosure + High Efficiency Whole Home Electrification       0.07535\n",
       "Enhanced Enclosure + High Efficiency Whole Home Electrification    0.07389\n",
       "High Efficiency Whole Home Electrification                         0.06769\n",
       "Mininum Efficiency Whole Home Electrification                      0.06642\n",
       "High Efficiency Heat Pump with Electric Heat Backup                0.06233\n",
       "Induction Cooking                                                  0.02228\n",
       "Mininum Efficiency Heat Pump with Electric Heat Backup             0.01997\n",
       "Mininum Efficiency Heat Pump with Existing Heat Backup             0.01532\n",
       "Heat Pump Clothes Dryer                                            0.00982\n",
       "Name: saving_emission.total_kgCO2e, dtype: float64"
      ]
     },
     "metadata": {},
     "output_type": "display_data"
    },
    {
     "name": "stdout",
     "output_type": "stream",
     "text": [
      "segment5\n"
     ]
    },
    {
     "data": {
      "text/plain": [
       "upgrade_name\n",
       "Basic Enclosure                                                    0.43410\n",
       "Enhanced Enclosure                                                 0.36269\n",
       "Enhanced Enclosure + HPWH + High Efficiency HP/Electric Backup     0.15458\n",
       "Basic Enclosure + HPWH + High Efficiency HP/Electric Backup        0.15447\n",
       "Electric Cooking                                                   0.14014\n",
       "Enhanced Enclosure + High Efficiency Whole Home Electrification    0.13960\n",
       "Basic Enclosure + High Efficiency Whole Home Electrification       0.13939\n",
       "High Efficiency Heat Pump with Electric Heat Backup                0.13799\n",
       "Heat Pump Water Heater                                             0.13798\n",
       "High Efficiency Whole Home Electrification                         0.13582\n",
       "Mininum Efficiency Whole Home Electrification                      0.13541\n",
       "Electric Clothes Dryer                                             0.08571\n",
       "Mininum Efficiency Heat Pump with Electric Heat Backup             0.05728\n",
       "Induction Cooking                                                  0.02614\n",
       "Heat Pump Clothes Dryer                                            0.02000\n",
       "Mininum Efficiency Heat Pump with Existing Heat Backup             0.01191\n",
       "Name: saving_emission.total_kgCO2e, dtype: float64"
      ]
     },
     "metadata": {},
     "output_type": "display_data"
    }
   ],
   "source": [
    "indicator ='saving_emission.total_kgCO2e'\n",
    "results = segment_savings_per_dollar(indicator, community_results) \n",
    "saving_results[f'segment1_{income}_saving_emission_per_dollar_invested_kgCO2e'] = results[0]\n",
    "saving_results[f'segment2_{income}_saving_emission_per_dollar_invested_kgCO2e'] = results[1]\n",
    "saving_results[f'segment3_{income}_saving_emission_per_dollar_invested_kgCO2e'] = results[2]\n",
    "saving_results[f'segment4_{income}_saving_emission_per_dollar_invested_kgCO2e'] = results[3]\n",
    "saving_results[f'segment5_{income}_saving_emission_per_dollar_invested_kgCO2e'] = results[4]"
   ]
  },
  {
   "cell_type": "markdown",
   "id": "961cd050",
   "metadata": {},
   "source": [
    "## 2.3 Annual Total Savings"
   ]
  },
  {
   "cell_type": "markdown",
   "id": "702400cd",
   "metadata": {},
   "source": [
    "### Annual Total Bill Savings"
   ]
  },
  {
   "cell_type": "code",
   "execution_count": 25,
   "id": "4cb37f5f",
   "metadata": {},
   "outputs": [
    {
     "name": "stdout",
     "output_type": "stream",
     "text": [
      "segment1\n"
     ]
    },
    {
     "data": {
      "text/plain": [
       "upgrade_name\n",
       "Enhanced Enclosure                                                 222662.8\n",
       "Enhanced Enclosure + High Efficiency Whole Home Electrification    201613.5\n",
       "Basic Enclosure + High Efficiency Whole Home Electrification       199309.9\n",
       "Enhanced Enclosure + HPWH + High Efficiency HP/Electric Backup     188788.4\n",
       "Basic Enclosure + HPWH + High Efficiency HP/Electric Backup        186484.7\n",
       "Basic Enclosure                                                    177753.5\n",
       "Heat Pump Water Heater                                              52634.0\n",
       "Heat Pump Clothes Dryer                                              9938.1\n",
       "Induction Cooking                                                    1215.6\n",
       "Mininum Efficiency Heat Pump with Existing Heat Backup               -151.9\n",
       "Electric Cooking                                                     -554.4\n",
       "Electric Clothes Dryer                                              -3466.9\n",
       "High Efficiency Whole Home Electrification                         -32902.0\n",
       "High Efficiency Heat Pump with Electric Heat Backup               -124587.3\n",
       "Mininum Efficiency Whole Home Electrification                     -395736.0\n",
       "Mininum Efficiency Heat Pump with Electric Heat Backup            -422480.5\n",
       "Name: saving_cbill.total_usd, dtype: float64"
      ]
     },
     "metadata": {},
     "output_type": "display_data"
    },
    {
     "name": "stdout",
     "output_type": "stream",
     "text": [
      "segment2\n"
     ]
    },
    {
     "data": {
      "text/plain": [
       "upgrade_name\n",
       "Enhanced Enclosure + High Efficiency Whole Home Electrification    1702746.4\n",
       "Enhanced Enclosure + HPWH + High Efficiency HP/Electric Backup     1641928.1\n",
       "Basic Enclosure + High Efficiency Whole Home Electrification       1503287.0\n",
       "Basic Enclosure + HPWH + High Efficiency HP/Electric Backup        1442468.7\n",
       "Enhanced Enclosure                                                 1363273.7\n",
       "Basic Enclosure                                                    1022104.2\n",
       "High Efficiency Whole Home Electrification                          355325.4\n",
       "Heat Pump Water Heater                                              158827.4\n",
       "Mininum Efficiency Heat Pump with Existing Heat Backup               74970.4\n",
       "Heat Pump Clothes Dryer                                              49791.5\n",
       "Induction Cooking                                                     2231.8\n",
       "Electric Cooking                                                     -6084.8\n",
       "Electric Clothes Dryer                                               -7014.5\n",
       "High Efficiency Heat Pump with Electric Heat Backup                 -43325.5\n",
       "Mininum Efficiency Heat Pump with Electric Heat Backup            -1892560.5\n",
       "Mininum Efficiency Whole Home Electrification                     -1919396.9\n",
       "Name: saving_cbill.total_usd, dtype: float64"
      ]
     },
     "metadata": {},
     "output_type": "display_data"
    },
    {
     "name": "stdout",
     "output_type": "stream",
     "text": [
      "segment3\n"
     ]
    },
    {
     "data": {
      "text/plain": [
       "upgrade_name\n",
       "Enhanced Enclosure + High Efficiency Whole Home Electrification    792211.3\n",
       "Enhanced Enclosure + HPWH + High Efficiency HP/Electric Backup     770489.3\n",
       "Basic Enclosure + High Efficiency Whole Home Electrification       711236.9\n",
       "Basic Enclosure + HPWH + High Efficiency HP/Electric Backup        689515.0\n",
       "High Efficiency Whole Home Electrification                         477308.0\n",
       "High Efficiency Heat Pump with Electric Heat Backup                299108.1\n",
       "Enhanced Enclosure                                                 298505.2\n",
       "Basic Enclosure                                                    236605.8\n",
       "Mininum Efficiency Heat Pump with Existing Heat Backup             100338.1\n",
       "Heat Pump Water Heater                                              82933.8\n",
       "Heat Pump Clothes Dryer                                             16834.4\n",
       "Induction Cooking                                                    1379.8\n",
       "Electric Cooking                                                    -2188.9\n",
       "Mininum Efficiency Heat Pump with Electric Heat Backup            -106849.5\n",
       "Mininum Efficiency Whole Home Electrification                     -120205.4\n",
       "Name: saving_cbill.total_usd, dtype: float64"
      ]
     },
     "metadata": {},
     "output_type": "display_data"
    },
    {
     "name": "stdout",
     "output_type": "stream",
     "text": [
      "segment4\n"
     ]
    },
    {
     "data": {
      "text/plain": [
       "upgrade_name\n",
       "Enhanced Enclosure + High Efficiency Whole Home Electrification    1087922.7\n",
       "Enhanced Enclosure + HPWH + High Efficiency HP/Electric Backup     1072307.1\n",
       "Basic Enclosure + High Efficiency Whole Home Electrification       1050678.7\n",
       "Basic Enclosure + HPWH + High Efficiency HP/Electric Backup        1035063.1\n",
       "High Efficiency Whole Home Electrification                          898240.3\n",
       "High Efficiency Heat Pump with Electric Heat Backup                 694263.8\n",
       "Mininum Efficiency Heat Pump with Existing Heat Backup              398909.1\n",
       "Enhanced Enclosure                                                  342380.1\n",
       "Mininum Efficiency Heat Pump with Electric Heat Backup              302858.5\n",
       "Basic Enclosure                                                     275923.1\n",
       "Heat Pump Water Heater                                               96669.9\n",
       "Heat Pump Clothes Dryer                                              10859.0\n",
       "Induction Cooking                                                     1081.6\n",
       "Electric Cooking                                                     -5201.0\n",
       "Mininum Efficiency Whole Home Electrification                       -24204.0\n",
       "Name: saving_cbill.total_usd, dtype: float64"
      ]
     },
     "metadata": {},
     "output_type": "display_data"
    },
    {
     "name": "stdout",
     "output_type": "stream",
     "text": [
      "segment5\n"
     ]
    },
    {
     "data": {
      "text/plain": [
       "upgrade_name\n",
       "Enhanced Enclosure + High Efficiency Whole Home Electrification    2521154.4\n",
       "Enhanced Enclosure + HPWH + High Efficiency HP/Electric Backup     2411390.1\n",
       "Basic Enclosure + High Efficiency Whole Home Electrification       2330772.8\n",
       "Basic Enclosure + HPWH + High Efficiency HP/Electric Backup        2221008.6\n",
       "High Efficiency Whole Home Electrification                         1483494.5\n",
       "Enhanced Enclosure                                                  995944.7\n",
       "Basic Enclosure                                                     840917.2\n",
       "High Efficiency Heat Pump with Electric Heat Backup                 606754.3\n",
       "Mininum Efficiency Heat Pump with Existing Heat Backup              343653.0\n",
       "Heat Pump Water Heater                                              296098.7\n",
       "Heat Pump Clothes Dryer                                              89546.4\n",
       "Induction Cooking                                                     1886.2\n",
       "Electric Cooking                                                    -21530.3\n",
       "Electric Clothes Dryer                                              -22165.5\n",
       "Mininum Efficiency Heat Pump with Electric Heat Backup            -2174368.0\n",
       "Mininum Efficiency Whole Home Electrification                     -2862057.4\n",
       "Name: saving_cbill.total_usd, dtype: float64"
      ]
     },
     "metadata": {},
     "output_type": "display_data"
    }
   ],
   "source": [
    "indicator ='saving_cbill.total_usd'\n",
    "results = segment_annual_total_savings(indicator, community_results)\n",
    "saving_results[f'segment1_{income}_saving_bill_total_usd'] = results[0]\n",
    "saving_results[f'segment2_{income}_saving_bill_total_usd'] = results[1]\n",
    "saving_results[f'segment3_{income}_saving_bill_total_usd'] = results[2]\n",
    "saving_results[f'segment4_{income}_saving_bill_total_usd'] = results[3]\n",
    "saving_results[f'segment5_{income}_saving_bill_total_usd'] = results[4]"
   ]
  },
  {
   "cell_type": "markdown",
   "id": "5a9433f1",
   "metadata": {},
   "source": [
    "### Annual Total Energy Savings"
   ]
  },
  {
   "cell_type": "code",
   "execution_count": 26,
   "id": "772222fe",
   "metadata": {},
   "outputs": [
    {
     "name": "stdout",
     "output_type": "stream",
     "text": [
      "segment1\n"
     ]
    },
    {
     "data": {
      "text/plain": [
       "upgrade_name\n",
       "Enhanced Enclosure + High Efficiency Whole Home Electrification    64054.9\n",
       "Basic Enclosure + High Efficiency Whole Home Electrification       63961.2\n",
       "Enhanced Enclosure + HPWH + High Efficiency HP/Electric Backup     63209.6\n",
       "Basic Enclosure + HPWH + High Efficiency HP/Electric Backup        63115.9\n",
       "High Efficiency Whole Home Electrification                         54510.5\n",
       "High Efficiency Heat Pump with Electric Heat Backup                46064.6\n",
       "Mininum Efficiency Whole Home Electrification                      39743.8\n",
       "Mininum Efficiency Heat Pump with Electric Heat Backup             33949.9\n",
       "Enhanced Enclosure                                                 29033.9\n",
       "Basic Enclosure                                                    24820.3\n",
       "Mininum Efficiency Heat Pump with Existing Heat Backup             16412.7\n",
       "Heat Pump Water Heater                                              3635.8\n",
       "Heat Pump Clothes Dryer                                              630.4\n",
       "Induction Cooking                                                    214.8\n",
       "Electric Cooking                                                     142.8\n",
       "Electric Clothes Dryer                                                84.9\n",
       "Name: saving_energy.total_mmbtu, dtype: float64"
      ]
     },
     "metadata": {},
     "output_type": "display_data"
    },
    {
     "name": "stdout",
     "output_type": "stream",
     "text": [
      "segment2\n"
     ]
    },
    {
     "data": {
      "text/plain": [
       "upgrade_name\n",
       "Enhanced Enclosure + High Efficiency Whole Home Electrification    395101.6\n",
       "Enhanced Enclosure + HPWH + High Efficiency HP/Electric Backup     390885.5\n",
       "Basic Enclosure + High Efficiency Whole Home Electrification       386983.9\n",
       "Basic Enclosure + HPWH + High Efficiency HP/Electric Backup        382767.8\n",
       "High Efficiency Whole Home Electrification                         340263.9\n",
       "High Efficiency Heat Pump with Electric Heat Backup                298750.3\n",
       "Mininum Efficiency Whole Home Electrification                      247686.7\n",
       "Mininum Efficiency Heat Pump with Electric Heat Backup             223519.7\n",
       "Enhanced Enclosure                                                 151681.1\n",
       "Mininum Efficiency Heat Pump with Existing Heat Backup             117264.3\n",
       "Basic Enclosure                                                    116797.1\n",
       "Heat Pump Water Heater                                              20022.3\n",
       "Heat Pump Clothes Dryer                                              2472.0\n",
       "Induction Cooking                                                    1744.1\n",
       "Electric Cooking                                                     1405.7\n",
       "Electric Clothes Dryer                                                160.1\n",
       "Name: saving_energy.total_mmbtu, dtype: float64"
      ]
     },
     "metadata": {},
     "output_type": "display_data"
    },
    {
     "name": "stdout",
     "output_type": "stream",
     "text": [
      "segment3\n"
     ]
    },
    {
     "data": {
      "text/plain": [
       "upgrade_name\n",
       "Enhanced Enclosure + High Efficiency Whole Home Electrification    73062.6\n",
       "Enhanced Enclosure + HPWH + High Efficiency HP/Electric Backup     71675.9\n",
       "Basic Enclosure + High Efficiency Whole Home Electrification       69767.1\n",
       "Basic Enclosure + HPWH + High Efficiency HP/Electric Backup        68380.4\n",
       "High Efficiency Whole Home Electrification                         60246.6\n",
       "High Efficiency Heat Pump with Electric Heat Backup                47349.0\n",
       "Mininum Efficiency Whole Home Electrification                      35928.8\n",
       "Mininum Efficiency Heat Pump with Electric Heat Backup             30830.6\n",
       "Mininum Efficiency Heat Pump with Existing Heat Backup             24037.3\n",
       "Enhanced Enclosure                                                 20102.7\n",
       "Basic Enclosure                                                    15648.4\n",
       "Heat Pump Water Heater                                              6094.6\n",
       "Induction Cooking                                                    701.6\n",
       "Heat Pump Clothes Dryer                                              685.1\n",
       "Electric Cooking                                                     556.4\n",
       "Name: saving_energy.total_mmbtu, dtype: float64"
      ]
     },
     "metadata": {},
     "output_type": "display_data"
    },
    {
     "name": "stdout",
     "output_type": "stream",
     "text": [
      "segment4\n"
     ]
    },
    {
     "data": {
      "text/plain": [
       "upgrade_name\n",
       "Enhanced Enclosure + High Efficiency Whole Home Electrification    73017.1\n",
       "Enhanced Enclosure + HPWH + High Efficiency HP/Electric Backup     71563.6\n",
       "Basic Enclosure + High Efficiency Whole Home Electrification       71501.3\n",
       "Basic Enclosure + HPWH + High Efficiency HP/Electric Backup        70047.8\n",
       "High Efficiency Whole Home Electrification                         65297.4\n",
       "High Efficiency Heat Pump with Electric Heat Backup                48540.7\n",
       "Mininum Efficiency Heat Pump with Electric Heat Backup             32614.5\n",
       "Mininum Efficiency Heat Pump with Existing Heat Backup             28262.0\n",
       "Mininum Efficiency Whole Home Electrification                      27755.5\n",
       "Enhanced Enclosure                                                 19814.1\n",
       "Basic Enclosure                                                    15374.3\n",
       "Heat Pump Water Heater                                              9355.3\n",
       "Induction Cooking                                                   1011.6\n",
       "Electric Cooking                                                     755.9\n",
       "Heat Pump Clothes Dryer                                              441.9\n",
       "Name: saving_energy.total_mmbtu, dtype: float64"
      ]
     },
     "metadata": {},
     "output_type": "display_data"
    },
    {
     "name": "stdout",
     "output_type": "stream",
     "text": [
      "segment5\n"
     ]
    },
    {
     "data": {
      "text/plain": [
       "upgrade_name\n",
       "Enhanced Enclosure + High Efficiency Whole Home Electrification    441913.0\n",
       "Basic Enclosure + High Efficiency Whole Home Electrification       434164.8\n",
       "Enhanced Enclosure + HPWH + High Efficiency HP/Electric Backup     432478.2\n",
       "Basic Enclosure + HPWH + High Efficiency HP/Electric Backup        424730.0\n",
       "High Efficiency Whole Home Electrification                         399682.3\n",
       "High Efficiency Heat Pump with Electric Heat Backup                306167.1\n",
       "Mininum Efficiency Whole Home Electrification                      222825.9\n",
       "Mininum Efficiency Heat Pump with Electric Heat Backup             193023.0\n",
       "Enhanced Enclosure                                                  88234.8\n",
       "Basic Enclosure                                                     76459.5\n",
       "Mininum Efficiency Heat Pump with Existing Heat Backup              52017.7\n",
       "Heat Pump Water Heater                                              43429.2\n",
       "Heat Pump Clothes Dryer                                              5076.4\n",
       "Induction Cooking                                                    4358.4\n",
       "Electric Cooking                                                     3405.4\n",
       "Electric Clothes Dryer                                                529.9\n",
       "Name: saving_energy.total_mmbtu, dtype: float64"
      ]
     },
     "metadata": {},
     "output_type": "display_data"
    }
   ],
   "source": [
    "indicator ='saving_energy.total_mmbtu'\n",
    "results = segment_annual_total_savings(indicator, community_results)\n",
    "saving_results[f'segment1_{income}_saving_energy_total_mmbtu'] = results[0]\n",
    "saving_results[f'segment2_{income}_saving_energy_total_mmbtu'] = results[1]\n",
    "saving_results[f'segment3_{income}_saving_energy_total_mmbtu'] = results[2]\n",
    "saving_results[f'segment4_{income}_saving_energy_total_mmbtu'] = results[3]\n",
    "saving_results[f'segment5_{income}_saving_energy_total_mmbtu'] = results[4]"
   ]
  },
  {
   "cell_type": "markdown",
   "id": "468edc4e",
   "metadata": {},
   "source": [
    "### Annual Total Emission Savings"
   ]
  },
  {
   "cell_type": "code",
   "execution_count": 27,
   "id": "5fb13c1b",
   "metadata": {},
   "outputs": [
    {
     "name": "stdout",
     "output_type": "stream",
     "text": [
      "segment1\n"
     ]
    },
    {
     "data": {
      "text/plain": [
       "upgrade_name\n",
       "Enhanced Enclosure + High Efficiency Whole Home Electrification    5082917.7\n",
       "Basic Enclosure + High Efficiency Whole Home Electrification       5079360.2\n",
       "Enhanced Enclosure + HPWH + High Efficiency HP/Electric Backup     5033704.0\n",
       "Basic Enclosure + HPWH + High Efficiency HP/Electric Backup        5030146.5\n",
       "High Efficiency Whole Home Electrification                         4720578.1\n",
       "Mininum Efficiency Whole Home Electrification                      4185951.1\n",
       "High Efficiency Heat Pump with Electric Heat Backup                4177014.3\n",
       "Mininum Efficiency Heat Pump with Electric Heat Backup             3731688.3\n",
       "Enhanced Enclosure                                                 2060102.9\n",
       "Basic Enclosure                                                    1789076.9\n",
       "Mininum Efficiency Heat Pump with Existing Heat Backup             1399874.0\n",
       "Heat Pump Water Heater                                              197824.3\n",
       "Heat Pump Clothes Dryer                                              33209.5\n",
       "Induction Cooking                                                    16004.1\n",
       "Electric Clothes Dryer                                               15470.7\n",
       "Electric Cooking                                                     13654.1\n",
       "Name: saving_emission.total_kgCO2e, dtype: float64"
      ]
     },
     "metadata": {},
     "output_type": "display_data"
    },
    {
     "name": "stdout",
     "output_type": "stream",
     "text": [
      "segment2\n"
     ]
    },
    {
     "data": {
      "text/plain": [
       "upgrade_name\n",
       "Enhanced Enclosure + High Efficiency Whole Home Electrification    30160900.3\n",
       "Enhanced Enclosure + HPWH + High Efficiency HP/Electric Backup     29909306.1\n",
       "Basic Enclosure + High Efficiency Whole Home Electrification       29849149.8\n",
       "Basic Enclosure + HPWH + High Efficiency HP/Electric Backup        29597555.6\n",
       "High Efficiency Whole Home Electrification                         28054961.4\n",
       "High Efficiency Heat Pump with Electric Heat Backup                25290857.8\n",
       "Mininum Efficiency Whole Home Electrification                      24656099.8\n",
       "Mininum Efficiency Heat Pump with Electric Heat Backup             22491493.0\n",
       "Enhanced Enclosure                                                 10274190.1\n",
       "Mininum Efficiency Heat Pump with Existing Heat Backup              9832013.3\n",
       "Basic Enclosure                                                     7972131.0\n",
       "Heat Pump Water Heater                                              1371995.5\n",
       "Induction Cooking                                                    147136.0\n",
       "Electric Cooking                                                     135990.4\n",
       "Heat Pump Clothes Dryer                                              104458.3\n",
       "Electric Clothes Dryer                                                29488.0\n",
       "Name: saving_emission.total_kgCO2e, dtype: float64"
      ]
     },
     "metadata": {},
     "output_type": "display_data"
    },
    {
     "name": "stdout",
     "output_type": "stream",
     "text": [
      "segment3\n"
     ]
    },
    {
     "data": {
      "text/plain": [
       "upgrade_name\n",
       "Enhanced Enclosure + High Efficiency Whole Home Electrification    4664583.0\n",
       "Enhanced Enclosure + HPWH + High Efficiency HP/Electric Backup     4583676.3\n",
       "Basic Enclosure + High Efficiency Whole Home Electrification       4535551.1\n",
       "Basic Enclosure + HPWH + High Efficiency HP/Electric Backup        4454644.4\n",
       "High Efficiency Whole Home Electrification                         4165074.2\n",
       "High Efficiency Heat Pump with Electric Heat Backup                3408567.7\n",
       "Mininum Efficiency Whole Home Electrification                      3276294.6\n",
       "Mininum Efficiency Heat Pump with Electric Heat Backup             2789868.9\n",
       "Mininum Efficiency Heat Pump with Existing Heat Backup             1848740.6\n",
       "Enhanced Enclosure                                                 1135807.3\n",
       "Basic Enclosure                                                     875600.1\n",
       "Heat Pump Water Heater                                              352573.1\n",
       "Induction Cooking                                                    58290.2\n",
       "Electric Cooking                                                     53492.9\n",
       "Heat Pump Clothes Dryer                                              22616.6\n",
       "Name: saving_emission.total_kgCO2e, dtype: float64"
      ]
     },
     "metadata": {},
     "output_type": "display_data"
    },
    {
     "name": "stdout",
     "output_type": "stream",
     "text": [
      "segment4\n"
     ]
    },
    {
     "data": {
      "text/plain": [
       "upgrade_name\n",
       "Enhanced Enclosure + High Efficiency Whole Home Electrification    4103929.1\n",
       "Basic Enclosure + High Efficiency Whole Home Electrification       4046354.6\n",
       "Enhanced Enclosure + HPWH + High Efficiency HP/Electric Backup     4003587.6\n",
       "Basic Enclosure + HPWH + High Efficiency HP/Electric Backup        3946013.1\n",
       "High Efficiency Whole Home Electrification                         3808863.6\n",
       "High Efficiency Heat Pump with Electric Heat Backup                2779096.9\n",
       "Mininum Efficiency Whole Home Electrification                      2419544.8\n",
       "Mininum Efficiency Heat Pump with Electric Heat Backup             2178019.2\n",
       "Mininum Efficiency Heat Pump with Existing Heat Backup             1630701.7\n",
       "Enhanced Enclosure                                                 1021333.8\n",
       "Basic Enclosure                                                     772435.0\n",
       "Heat Pump Water Heater                                              606537.1\n",
       "Induction Cooking                                                    85691.5\n",
       "Electric Cooking                                                     77262.0\n",
       "Heat Pump Clothes Dryer                                              14649.9\n",
       "Name: saving_emission.total_kgCO2e, dtype: float64"
      ]
     },
     "metadata": {},
     "output_type": "display_data"
    },
    {
     "name": "stdout",
     "output_type": "stream",
     "text": [
      "segment5\n"
     ]
    },
    {
     "data": {
      "text/plain": [
       "upgrade_name\n",
       "Enhanced Enclosure + High Efficiency Whole Home Electrification    32322934.3\n",
       "Basic Enclosure + High Efficiency Whole Home Electrification       32023312.1\n",
       "Enhanced Enclosure + HPWH + High Efficiency HP/Electric Backup     31707087.2\n",
       "Basic Enclosure + HPWH + High Efficiency HP/Electric Backup        31407464.9\n",
       "High Efficiency Whole Home Electrification                         30698268.5\n",
       "High Efficiency Heat Pump with Electric Heat Backup                24424359.5\n",
       "Mininum Efficiency Whole Home Electrification                      24171104.8\n",
       "Mininum Efficiency Heat Pump with Electric Heat Backup             20156850.2\n",
       "Enhanced Enclosure                                                  5545905.3\n",
       "Basic Enclosure                                                     4846673.7\n",
       "Mininum Efficiency Heat Pump with Existing Heat Backup              3794715.6\n",
       "Heat Pump Water Heater                                              3118070.9\n",
       "Induction Cooking                                                    372092.1\n",
       "Electric Cooking                                                     340558.3\n",
       "Heat Pump Clothes Dryer                                              243755.0\n",
       "Electric Clothes Dryer                                                96380.4\n",
       "Name: saving_emission.total_kgCO2e, dtype: float64"
      ]
     },
     "metadata": {},
     "output_type": "display_data"
    }
   ],
   "source": [
    "indicator ='saving_emission.total_kgCO2e'\n",
    "results = segment_annual_total_savings(indicator, community_results)\n",
    "saving_results[f'segment1_{income}_saving_emission_total_kgCO2e'] = results[0]\n",
    "saving_results[f'segment2_{income}_saving_emission_total_kgCO2e'] = results[1]\n",
    "saving_results[f'segment3_{income}_saving_emission_total_kgCO2e'] = results[2]\n",
    "saving_results[f'segment4_{income}_saving_emission_total_kgCO2e'] = results[3]\n",
    "saving_results[f'segment5_{income}_saving_emission_total_kgCO2e'] = results[4]"
   ]
  },
  {
   "cell_type": "markdown",
   "id": "83cbedb9",
   "metadata": {},
   "source": [
    "## 2.4 Annual Savings Per Dwelling Unit"
   ]
  },
  {
   "cell_type": "markdown",
   "id": "eb35438b",
   "metadata": {},
   "source": [
    "### Annual Bill Savings Per Dwelling Unit"
   ]
  },
  {
   "cell_type": "code",
   "execution_count": 28,
   "id": "876cf387",
   "metadata": {},
   "outputs": [
    {
     "name": "stdout",
     "output_type": "stream",
     "text": [
      "segment1\n"
     ]
    },
    {
     "data": {
      "text/plain": [
       "upgrade_name\n",
       "Enhanced Enclosure                                                 451.6\n",
       "Enhanced Enclosure + High Efficiency Whole Home Electrification    409.0\n",
       "Basic Enclosure + High Efficiency Whole Home Electrification       404.3\n",
       "Enhanced Enclosure + HPWH + High Efficiency HP/Electric Backup     382.9\n",
       "Basic Enclosure + HPWH + High Efficiency HP/Electric Backup        378.3\n",
       "Basic Enclosure                                                    360.6\n",
       "Heat Pump Water Heater                                             106.8\n",
       "Heat Pump Clothes Dryer                                             20.2\n",
       "Induction Cooking                                                    2.5\n",
       "Mininum Efficiency Heat Pump with Existing Heat Backup              -0.3\n",
       "Electric Cooking                                                    -5.9\n",
       "Electric Clothes Dryer                                             -28.2\n",
       "High Efficiency Whole Home Electrification                         -66.7\n",
       "High Efficiency Heat Pump with Electric Heat Backup               -252.7\n",
       "Mininum Efficiency Whole Home Electrification                     -802.7\n",
       "Mininum Efficiency Heat Pump with Electric Heat Backup            -857.0\n",
       "Name: saving_cbill.total_usd, dtype: float64"
      ]
     },
     "metadata": {},
     "output_type": "display_data"
    },
    {
     "name": "stdout",
     "output_type": "stream",
     "text": [
      "segment2\n"
     ]
    },
    {
     "data": {
      "text/plain": [
       "upgrade_name\n",
       "Enhanced Enclosure + High Efficiency Whole Home Electrification    667.0\n",
       "Enhanced Enclosure + HPWH + High Efficiency HP/Electric Backup     643.2\n",
       "Basic Enclosure + High Efficiency Whole Home Electrification       588.9\n",
       "Basic Enclosure + HPWH + High Efficiency HP/Electric Backup        565.0\n",
       "Enhanced Enclosure                                                 536.8\n",
       "Basic Enclosure                                                    408.6\n",
       "High Efficiency Whole Home Electrification                         139.2\n",
       "Heat Pump Water Heater                                              62.2\n",
       "Mininum Efficiency Heat Pump with Existing Heat Backup              31.7\n",
       "Heat Pump Clothes Dryer                                             19.8\n",
       "Induction Cooking                                                    0.9\n",
       "Electric Cooking                                                    -6.4\n",
       "High Efficiency Heat Pump with Electric Heat Backup                -17.0\n",
       "Electric Clothes Dryer                                             -19.5\n",
       "Mininum Efficiency Heat Pump with Electric Heat Backup            -741.4\n",
       "Mininum Efficiency Whole Home Electrification                     -800.5\n",
       "Name: saving_cbill.total_usd, dtype: float64"
      ]
     },
     "metadata": {},
     "output_type": "display_data"
    },
    {
     "name": "stdout",
     "output_type": "stream",
     "text": [
      "segment3\n"
     ]
    },
    {
     "data": {
      "text/plain": [
       "upgrade_name\n",
       "Enhanced Enclosure + High Efficiency Whole Home Electrification    645.0\n",
       "Enhanced Enclosure + HPWH + High Efficiency HP/Electric Backup     627.4\n",
       "Basic Enclosure + High Efficiency Whole Home Electrification       579.1\n",
       "Basic Enclosure + HPWH + High Efficiency HP/Electric Backup        561.4\n",
       "High Efficiency Whole Home Electrification                         388.6\n",
       "High Efficiency Heat Pump with Electric Heat Backup                243.5\n",
       "Enhanced Enclosure                                                 243.1\n",
       "Basic Enclosure                                                    192.7\n",
       "Mininum Efficiency Heat Pump with Existing Heat Backup              81.7\n",
       "Heat Pump Water Heater                                              67.5\n",
       "Heat Pump Clothes Dryer                                             18.4\n",
       "Induction Cooking                                                    1.1\n",
       "Electric Cooking                                                    -5.4\n",
       "Mininum Efficiency Heat Pump with Electric Heat Backup             -87.0\n",
       "Mininum Efficiency Whole Home Electrification                     -140.8\n",
       "Name: saving_cbill.total_usd, dtype: float64"
      ]
     },
     "metadata": {},
     "output_type": "display_data"
    },
    {
     "name": "stdout",
     "output_type": "stream",
     "text": [
      "segment4\n"
     ]
    },
    {
     "data": {
      "text/plain": [
       "upgrade_name\n",
       "Enhanced Enclosure + High Efficiency Whole Home Electrification    497.8\n",
       "Enhanced Enclosure + HPWH + High Efficiency HP/Electric Backup     490.7\n",
       "Basic Enclosure + High Efficiency Whole Home Electrification       480.8\n",
       "Basic Enclosure + HPWH + High Efficiency HP/Electric Backup        473.6\n",
       "High Efficiency Whole Home Electrification                         411.0\n",
       "High Efficiency Heat Pump with Electric Heat Backup                317.7\n",
       "Mininum Efficiency Heat Pump with Existing Heat Backup             202.6\n",
       "Enhanced Enclosure                                                 199.2\n",
       "Basic Enclosure                                                    169.4\n",
       "Mininum Efficiency Heat Pump with Electric Heat Backup             138.6\n",
       "Heat Pump Water Heater                                              44.2\n",
       "Heat Pump Clothes Dryer                                             18.5\n",
       "Induction Cooking                                                    0.5\n",
       "Electric Cooking                                                    -9.1\n",
       "Mininum Efficiency Whole Home Electrification                      -16.9\n",
       "Name: saving_cbill.total_usd, dtype: float64"
      ]
     },
     "metadata": {},
     "output_type": "display_data"
    },
    {
     "name": "stdout",
     "output_type": "stream",
     "text": [
      "segment5\n"
     ]
    },
    {
     "data": {
      "text/plain": [
       "upgrade_name\n",
       "Enhanced Enclosure + High Efficiency Whole Home Electrification    345.9\n",
       "Enhanced Enclosure + HPWH + High Efficiency HP/Electric Backup     330.9\n",
       "Basic Enclosure + High Efficiency Whole Home Electrification       319.8\n",
       "Basic Enclosure + HPWH + High Efficiency HP/Electric Backup        304.8\n",
       "High Efficiency Whole Home Electrification                         203.6\n",
       "Enhanced Enclosure                                                 178.2\n",
       "Basic Enclosure                                                    158.4\n",
       "High Efficiency Heat Pump with Electric Heat Backup                 83.3\n",
       "Mininum Efficiency Heat Pump with Existing Heat Backup              48.6\n",
       "Heat Pump Water Heater                                              40.6\n",
       "Heat Pump Clothes Dryer                                             18.7\n",
       "Induction Cooking                                                    0.3\n",
       "Electric Cooking                                                   -10.0\n",
       "Electric Clothes Dryer                                             -25.0\n",
       "Mininum Efficiency Heat Pump with Electric Heat Backup            -298.4\n",
       "Mininum Efficiency Whole Home Electrification                     -499.4\n",
       "Name: saving_cbill.total_usd, dtype: float64"
      ]
     },
     "metadata": {},
     "output_type": "display_data"
    }
   ],
   "source": [
    "indicator ='saving_cbill.total_usd'\n",
    "results = segment_mean_savings(indicator, community_results)\n",
    "saving_results[f'segment1_{income}_saving_bill_mean_usd'] = results[0]\n",
    "saving_results[f'segment2_{income}_saving_bill_mean_usd'] = results[1]\n",
    "saving_results[f'segment3_{income}_saving_bill_mean_usd'] = results[2]\n",
    "saving_results[f'segment4_{income}_saving_bill_mean_usd'] = results[3]\n",
    "saving_results[f'segment5_{income}_saving_bill_mean_usd'] = results[4]"
   ]
  },
  {
   "cell_type": "markdown",
   "id": "e902c573",
   "metadata": {},
   "source": [
    "### Annual Energy Savings Per Dwelling Unit"
   ]
  },
  {
   "cell_type": "code",
   "execution_count": 29,
   "id": "5ad585ad",
   "metadata": {},
   "outputs": [
    {
     "name": "stdout",
     "output_type": "stream",
     "text": [
      "segment1\n"
     ]
    },
    {
     "data": {
      "text/plain": [
       "upgrade_name\n",
       "Enhanced Enclosure + High Efficiency Whole Home Electrification    129.9\n",
       "Basic Enclosure + High Efficiency Whole Home Electrification       129.7\n",
       "Enhanced Enclosure + HPWH + High Efficiency HP/Electric Backup     128.2\n",
       "Basic Enclosure + HPWH + High Efficiency HP/Electric Backup        128.0\n",
       "High Efficiency Whole Home Electrification                         110.6\n",
       "High Efficiency Heat Pump with Electric Heat Backup                 93.4\n",
       "Mininum Efficiency Whole Home Electrification                       80.6\n",
       "Mininum Efficiency Heat Pump with Electric Heat Backup              68.9\n",
       "Enhanced Enclosure                                                  58.9\n",
       "Basic Enclosure                                                     50.3\n",
       "Mininum Efficiency Heat Pump with Existing Heat Backup              34.1\n",
       "Heat Pump Water Heater                                               7.4\n",
       "Electric Cooking                                                     1.5\n",
       "Heat Pump Clothes Dryer                                              1.3\n",
       "Electric Clothes Dryer                                               0.7\n",
       "Induction Cooking                                                    0.4\n",
       "Name: saving_energy.total_mmbtu, dtype: float64"
      ]
     },
     "metadata": {},
     "output_type": "display_data"
    },
    {
     "name": "stdout",
     "output_type": "stream",
     "text": [
      "segment2\n"
     ]
    },
    {
     "data": {
      "text/plain": [
       "upgrade_name\n",
       "Enhanced Enclosure + High Efficiency Whole Home Electrification    154.8\n",
       "Enhanced Enclosure + HPWH + High Efficiency HP/Electric Backup     153.1\n",
       "Basic Enclosure + High Efficiency Whole Home Electrification       151.6\n",
       "Basic Enclosure + HPWH + High Efficiency HP/Electric Backup        149.9\n",
       "High Efficiency Whole Home Electrification                         133.3\n",
       "High Efficiency Heat Pump with Electric Heat Backup                117.0\n",
       "Mininum Efficiency Whole Home Electrification                      103.3\n",
       "Mininum Efficiency Heat Pump with Electric Heat Backup              87.6\n",
       "Enhanced Enclosure                                                  59.7\n",
       "Mininum Efficiency Heat Pump with Existing Heat Backup              49.6\n",
       "Basic Enclosure                                                     46.7\n",
       "Heat Pump Water Heater                                               7.8\n",
       "Electric Cooking                                                     1.5\n",
       "Heat Pump Clothes Dryer                                              1.0\n",
       "Induction Cooking                                                    0.7\n",
       "Electric Clothes Dryer                                               0.4\n",
       "Name: saving_energy.total_mmbtu, dtype: float64"
      ]
     },
     "metadata": {},
     "output_type": "display_data"
    },
    {
     "name": "stdout",
     "output_type": "stream",
     "text": [
      "segment3\n"
     ]
    },
    {
     "data": {
      "text/plain": [
       "upgrade_name\n",
       "Enhanced Enclosure + High Efficiency Whole Home Electrification    59.5\n",
       "Enhanced Enclosure + HPWH + High Efficiency HP/Electric Backup     58.4\n",
       "Basic Enclosure + High Efficiency Whole Home Electrification       56.8\n",
       "Basic Enclosure + HPWH + High Efficiency HP/Electric Backup        55.7\n",
       "High Efficiency Whole Home Electrification                         49.1\n",
       "Mininum Efficiency Whole Home Electrification                      42.1\n",
       "High Efficiency Heat Pump with Electric Heat Backup                38.6\n",
       "Mininum Efficiency Heat Pump with Electric Heat Backup             25.1\n",
       "Mininum Efficiency Heat Pump with Existing Heat Backup             19.6\n",
       "Enhanced Enclosure                                                 16.4\n",
       "Basic Enclosure                                                    12.7\n",
       "Heat Pump Water Heater                                              5.0\n",
       "Electric Cooking                                                    1.4\n",
       "Heat Pump Clothes Dryer                                             0.7\n",
       "Induction Cooking                                                   0.6\n",
       "Name: saving_energy.total_mmbtu, dtype: float64"
      ]
     },
     "metadata": {},
     "output_type": "display_data"
    },
    {
     "name": "stdout",
     "output_type": "stream",
     "text": [
      "segment4\n"
     ]
    },
    {
     "data": {
      "text/plain": [
       "upgrade_name\n",
       "Enhanced Enclosure + High Efficiency Whole Home Electrification    33.4\n",
       "Enhanced Enclosure + HPWH + High Efficiency HP/Electric Backup     32.7\n",
       "Basic Enclosure + High Efficiency Whole Home Electrification       32.7\n",
       "Basic Enclosure + HPWH + High Efficiency HP/Electric Backup        32.1\n",
       "High Efficiency Whole Home Electrification                         29.9\n",
       "High Efficiency Heat Pump with Electric Heat Backup                22.2\n",
       "Mininum Efficiency Whole Home Electrification                      19.3\n",
       "Mininum Efficiency Heat Pump with Electric Heat Backup             14.9\n",
       "Mininum Efficiency Heat Pump with Existing Heat Backup             14.4\n",
       "Enhanced Enclosure                                                 11.5\n",
       "Basic Enclosure                                                     9.4\n",
       "Heat Pump Water Heater                                              4.3\n",
       "Electric Cooking                                                    1.3\n",
       "Heat Pump Clothes Dryer                                             0.8\n",
       "Induction Cooking                                                   0.5\n",
       "Name: saving_energy.total_mmbtu, dtype: float64"
      ]
     },
     "metadata": {},
     "output_type": "display_data"
    },
    {
     "name": "stdout",
     "output_type": "stream",
     "text": [
      "segment5\n"
     ]
    },
    {
     "data": {
      "text/plain": [
       "upgrade_name\n",
       "Enhanced Enclosure + High Efficiency Whole Home Electrification    60.6\n",
       "Basic Enclosure + High Efficiency Whole Home Electrification       59.6\n",
       "Enhanced Enclosure + HPWH + High Efficiency HP/Electric Backup     59.3\n",
       "Basic Enclosure + HPWH + High Efficiency HP/Electric Backup        58.3\n",
       "High Efficiency Whole Home Electrification                         54.8\n",
       "High Efficiency Heat Pump with Electric Heat Backup                42.0\n",
       "Mininum Efficiency Whole Home Electrification                      38.9\n",
       "Mininum Efficiency Heat Pump with Electric Heat Backup             26.5\n",
       "Enhanced Enclosure                                                 15.8\n",
       "Basic Enclosure                                                    14.4\n",
       "Mininum Efficiency Heat Pump with Existing Heat Backup              7.4\n",
       "Heat Pump Water Heater                                              6.0\n",
       "Electric Cooking                                                    1.6\n",
       "Heat Pump Clothes Dryer                                             1.1\n",
       "Induction Cooking                                                   0.6\n",
       "Electric Clothes Dryer                                              0.6\n",
       "Name: saving_energy.total_mmbtu, dtype: float64"
      ]
     },
     "metadata": {},
     "output_type": "display_data"
    }
   ],
   "source": [
    "indicator ='saving_energy.total_mmbtu'\n",
    "results = segment_mean_savings(indicator, community_results) \n",
    "saving_results[f'segment1_{income}_saving_energy_mean_mmbtu'] = results[0]\n",
    "saving_results[f'segment2_{income}_saving_energy_mean_mmbtu'] = results[1]\n",
    "saving_results[f'segment3_{income}_saving_energy_mean_mmbtu'] = results[2]\n",
    "saving_results[f'segment4_{income}_saving_energy_mean_mmbtu'] = results[3]\n",
    "saving_results[f'segment5_{income}_saving_energy_mean_mmbtu'] = results[4]"
   ]
  },
  {
   "cell_type": "markdown",
   "id": "6d99e632",
   "metadata": {},
   "source": [
    "### Annual Percentage Energy Savings Per Dwelling Unit"
   ]
  },
  {
   "cell_type": "code",
   "execution_count": 30,
   "id": "ae160b7b",
   "metadata": {},
   "outputs": [
    {
     "name": "stdout",
     "output_type": "stream",
     "text": [
      "segment1\n"
     ]
    },
    {
     "data": {
      "text/plain": [
       "upgrade_name\n",
       "Enhanced Enclosure + High Efficiency Whole Home Electrification    65.2\n",
       "Basic Enclosure + High Efficiency Whole Home Electrification       65.1\n",
       "Enhanced Enclosure + HPWH + High Efficiency HP/Electric Backup     64.3\n",
       "Basic Enclosure + HPWH + High Efficiency HP/Electric Backup        64.2\n",
       "High Efficiency Whole Home Electrification                         55.2\n",
       "High Efficiency Heat Pump with Electric Heat Backup                45.8\n",
       "Mininum Efficiency Whole Home Electrification                      39.7\n",
       "Mininum Efficiency Heat Pump with Electric Heat Backup             33.3\n",
       "Enhanced Enclosure                                                 29.2\n",
       "Basic Enclosure                                                    24.1\n",
       "Mininum Efficiency Heat Pump with Existing Heat Backup             15.8\n",
       "Heat Pump Water Heater                                              4.5\n",
       "Electric Cooking                                                    0.9\n",
       "Heat Pump Clothes Dryer                                             0.7\n",
       "Electric Clothes Dryer                                              0.5\n",
       "Induction Cooking                                                   0.3\n",
       "Name: pct_saving_energy.total_%, dtype: float64"
      ]
     },
     "metadata": {},
     "output_type": "display_data"
    },
    {
     "name": "stdout",
     "output_type": "stream",
     "text": [
      "segment2\n"
     ]
    },
    {
     "data": {
      "text/plain": [
       "upgrade_name\n",
       "Enhanced Enclosure + High Efficiency Whole Home Electrification    66.8\n",
       "Enhanced Enclosure + HPWH + High Efficiency HP/Electric Backup     65.9\n",
       "Basic Enclosure + High Efficiency Whole Home Electrification       65.6\n",
       "Basic Enclosure + HPWH + High Efficiency HP/Electric Backup        64.7\n",
       "High Efficiency Whole Home Electrification                         57.9\n",
       "High Efficiency Heat Pump with Electric Heat Backup                50.1\n",
       "Mininum Efficiency Whole Home Electrification                      42.9\n",
       "Mininum Efficiency Heat Pump with Electric Heat Backup             36.3\n",
       "Enhanced Enclosure                                                 25.4\n",
       "Mininum Efficiency Heat Pump with Existing Heat Backup             22.3\n",
       "Basic Enclosure                                                    19.3\n",
       "Heat Pump Water Heater                                              3.8\n",
       "Electric Cooking                                                    0.7\n",
       "Heat Pump Clothes Dryer                                             0.5\n",
       "Induction Cooking                                                   0.3\n",
       "Electric Clothes Dryer                                              0.2\n",
       "Name: pct_saving_energy.total_%, dtype: float64"
      ]
     },
     "metadata": {},
     "output_type": "display_data"
    },
    {
     "name": "stdout",
     "output_type": "stream",
     "text": [
      "segment3\n"
     ]
    },
    {
     "data": {
      "text/plain": [
       "upgrade_name\n",
       "Enhanced Enclosure + High Efficiency Whole Home Electrification    59.5\n",
       "Enhanced Enclosure + HPWH + High Efficiency HP/Electric Backup     58.2\n",
       "Basic Enclosure + High Efficiency Whole Home Electrification       56.7\n",
       "Basic Enclosure + HPWH + High Efficiency HP/Electric Backup        55.4\n",
       "High Efficiency Whole Home Electrification                         49.0\n",
       "High Efficiency Heat Pump with Electric Heat Backup                38.1\n",
       "Mininum Efficiency Whole Home Electrification                      37.8\n",
       "Mininum Efficiency Heat Pump with Electric Heat Backup             23.4\n",
       "Mininum Efficiency Heat Pump with Existing Heat Backup             19.7\n",
       "Enhanced Enclosure                                                 15.3\n",
       "Basic Enclosure                                                    11.5\n",
       "Heat Pump Water Heater                                              5.3\n",
       "Electric Cooking                                                    1.5\n",
       "Heat Pump Clothes Dryer                                             0.9\n",
       "Induction Cooking                                                   0.6\n",
       "Name: pct_saving_energy.total_%, dtype: float64"
      ]
     },
     "metadata": {},
     "output_type": "display_data"
    },
    {
     "name": "stdout",
     "output_type": "stream",
     "text": [
      "segment4\n"
     ]
    },
    {
     "data": {
      "text/plain": [
       "upgrade_name\n",
       "Enhanced Enclosure + High Efficiency Whole Home Electrification    55.6\n",
       "Basic Enclosure + High Efficiency Whole Home Electrification       54.5\n",
       "Enhanced Enclosure + HPWH + High Efficiency HP/Electric Backup     54.4\n",
       "Basic Enclosure + HPWH + High Efficiency HP/Electric Backup        53.3\n",
       "High Efficiency Whole Home Electrification                         50.3\n",
       "High Efficiency Heat Pump with Electric Heat Backup                35.5\n",
       "Mininum Efficiency Whole Home Electrification                      28.2\n",
       "Mininum Efficiency Heat Pump with Existing Heat Backup             23.2\n",
       "Mininum Efficiency Heat Pump with Electric Heat Backup             22.6\n",
       "Enhanced Enclosure                                                 17.6\n",
       "Basic Enclosure                                                    14.1\n",
       "Heat Pump Water Heater                                              8.8\n",
       "Electric Cooking                                                    2.3\n",
       "Heat Pump Clothes Dryer                                             1.3\n",
       "Induction Cooking                                                   0.9\n",
       "Name: pct_saving_energy.total_%, dtype: float64"
      ]
     },
     "metadata": {},
     "output_type": "display_data"
    },
    {
     "name": "stdout",
     "output_type": "stream",
     "text": [
      "segment5\n"
     ]
    },
    {
     "data": {
      "text/plain": [
       "upgrade_name\n",
       "Enhanced Enclosure + High Efficiency Whole Home Electrification    53.4\n",
       "Basic Enclosure + High Efficiency Whole Home Electrification       52.5\n",
       "Enhanced Enclosure + HPWH + High Efficiency HP/Electric Backup     52.1\n",
       "Basic Enclosure + HPWH + High Efficiency HP/Electric Backup        51.1\n",
       "High Efficiency Whole Home Electrification                         48.4\n",
       "High Efficiency Heat Pump with Electric Heat Backup                33.5\n",
       "Mininum Efficiency Whole Home Electrification                      28.0\n",
       "Mininum Efficiency Heat Pump with Electric Heat Backup             19.1\n",
       "Enhanced Enclosure                                                 12.4\n",
       "Basic Enclosure                                                    10.9\n",
       "Mininum Efficiency Heat Pump with Existing Heat Backup              9.4\n",
       "Heat Pump Water Heater                                              7.3\n",
       "Electric Cooking                                                    1.6\n",
       "Heat Pump Clothes Dryer                                             1.0\n",
       "Induction Cooking                                                   0.7\n",
       "Electric Clothes Dryer                                              0.5\n",
       "Name: pct_saving_energy.total_%, dtype: float64"
      ]
     },
     "metadata": {},
     "output_type": "display_data"
    }
   ],
   "source": [
    "indicator ='pct_saving_energy.total_%'\n",
    "results = segment_mean_savings(indicator, community_results)\n",
    "saving_results[f'segment1_{income}_pct_saving_energy_mean_%'] = results[0]\n",
    "saving_results[f'segment2_{income}_pct_saving_energy_mean_%'] = results[1]\n",
    "saving_results[f'segment3_{income}_pct_saving_energy_mean_%'] = results[2]\n",
    "saving_results[f'segment4_{income}_pct_saving_energy_mean_%'] = results[3]\n",
    "saving_results[f'segment5_{income}_pct_saving_energy_mean_%'] = results[4]"
   ]
  },
  {
   "cell_type": "markdown",
   "id": "4c18ce08",
   "metadata": {},
   "source": [
    "### Annual Emission Savings Per Dwelling Unit"
   ]
  },
  {
   "cell_type": "code",
   "execution_count": 31,
   "id": "a310fa8d",
   "metadata": {},
   "outputs": [
    {
     "name": "stdout",
     "output_type": "stream",
     "text": [
      "segment1\n"
     ]
    },
    {
     "data": {
      "text/plain": [
       "upgrade_name\n",
       "Enhanced Enclosure + High Efficiency Whole Home Electrification    10310.2\n",
       "Basic Enclosure + High Efficiency Whole Home Electrification       10302.9\n",
       "Enhanced Enclosure + HPWH + High Efficiency HP/Electric Backup     10210.3\n",
       "Basic Enclosure + HPWH + High Efficiency HP/Electric Backup        10203.1\n",
       "High Efficiency Whole Home Electrification                          9575.2\n",
       "Mininum Efficiency Whole Home Electrification                       8490.8\n",
       "High Efficiency Heat Pump with Electric Heat Backup                 8472.6\n",
       "Mininum Efficiency Heat Pump with Electric Heat Backup              7569.3\n",
       "Enhanced Enclosure                                                  4178.7\n",
       "Basic Enclosure                                                     3629.0\n",
       "Mininum Efficiency Heat Pump with Existing Heat Backup              2910.4\n",
       "Heat Pump Water Heater                                               401.3\n",
       "Electric Cooking                                                     145.8\n",
       "Electric Clothes Dryer                                               126.0\n",
       "Heat Pump Clothes Dryer                                               67.4\n",
       "Induction Cooking                                                     32.5\n",
       "Name: saving_emission.total_kgCO2e, dtype: float64"
      ]
     },
     "metadata": {},
     "output_type": "display_data"
    },
    {
     "name": "stdout",
     "output_type": "stream",
     "text": [
      "segment2\n"
     ]
    },
    {
     "data": {
      "text/plain": [
       "upgrade_name\n",
       "Enhanced Enclosure + High Efficiency Whole Home Electrification    11814.6\n",
       "Enhanced Enclosure + HPWH + High Efficiency HP/Electric Backup     11716.1\n",
       "Basic Enclosure + High Efficiency Whole Home Electrification       11692.5\n",
       "Basic Enclosure + HPWH + High Efficiency HP/Electric Backup        11594.0\n",
       "High Efficiency Whole Home Electrification                         10989.7\n",
       "Mininum Efficiency Whole Home Electrification                      10283.2\n",
       "High Efficiency Heat Pump with Electric Heat Backup                 9906.9\n",
       "Mininum Efficiency Heat Pump with Electric Heat Backup              8810.4\n",
       "Mininum Efficiency Heat Pump with Existing Heat Backup              4156.7\n",
       "Enhanced Enclosure                                                  4045.4\n",
       "Basic Enclosure                                                     3186.8\n",
       "Heat Pump Water Heater                                               537.4\n",
       "Electric Cooking                                                     142.4\n",
       "Electric Clothes Dryer                                                82.0\n",
       "Induction Cooking                                                     57.6\n",
       "Heat Pump Clothes Dryer                                               41.5\n",
       "Name: saving_emission.total_kgCO2e, dtype: float64"
      ]
     },
     "metadata": {},
     "output_type": "display_data"
    },
    {
     "name": "stdout",
     "output_type": "stream",
     "text": [
      "segment3\n"
     ]
    },
    {
     "data": {
      "text/plain": [
       "upgrade_name\n",
       "Mininum Efficiency Whole Home Electrification                      3838.3\n",
       "Enhanced Enclosure + High Efficiency Whole Home Electrification    3798.0\n",
       "Enhanced Enclosure + HPWH + High Efficiency HP/Electric Backup     3732.2\n",
       "Basic Enclosure + High Efficiency Whole Home Electrification       3693.0\n",
       "Basic Enclosure + HPWH + High Efficiency HP/Electric Backup        3627.1\n",
       "High Efficiency Whole Home Electrification                         3391.3\n",
       "High Efficiency Heat Pump with Electric Heat Backup                2775.4\n",
       "Mininum Efficiency Heat Pump with Electric Heat Backup             2271.6\n",
       "Mininum Efficiency Heat Pump with Existing Heat Backup             1505.3\n",
       "Enhanced Enclosure                                                  924.8\n",
       "Basic Enclosure                                                     712.9\n",
       "Heat Pump Water Heater                                              287.1\n",
       "Electric Cooking                                                    131.6\n",
       "Induction Cooking                                                    47.5\n",
       "Heat Pump Clothes Dryer                                              24.7\n",
       "Name: saving_emission.total_kgCO2e, dtype: float64"
      ]
     },
     "metadata": {},
     "output_type": "display_data"
    },
    {
     "name": "stdout",
     "output_type": "stream",
     "text": [
      "segment4\n"
     ]
    },
    {
     "data": {
      "text/plain": [
       "upgrade_name\n",
       "Enhanced Enclosure + High Efficiency Whole Home Electrification    1877.9\n",
       "Basic Enclosure + High Efficiency Whole Home Electrification       1851.6\n",
       "Enhanced Enclosure + HPWH + High Efficiency HP/Electric Backup     1832.0\n",
       "Basic Enclosure + HPWH + High Efficiency HP/Electric Backup        1805.7\n",
       "High Efficiency Whole Home Electrification                         1742.9\n",
       "Mininum Efficiency Whole Home Electrification                      1685.4\n",
       "High Efficiency Heat Pump with Electric Heat Backup                1271.7\n",
       "Mininum Efficiency Heat Pump with Electric Heat Backup              996.6\n",
       "Mininum Efficiency Heat Pump with Existing Heat Backup              828.1\n",
       "Enhanced Enclosure                                                  594.2\n",
       "Basic Enclosure                                                     474.2\n",
       "Heat Pump Water Heater                                              277.5\n",
       "Electric Cooking                                                    135.3\n",
       "Induction Cooking                                                    43.5\n",
       "Heat Pump Clothes Dryer                                              25.0\n",
       "Name: saving_emission.total_kgCO2e, dtype: float64"
      ]
     },
     "metadata": {},
     "output_type": "display_data"
    },
    {
     "name": "stdout",
     "output_type": "stream",
     "text": [
      "segment5\n"
     ]
    },
    {
     "data": {
      "text/plain": [
       "upgrade_name\n",
       "Enhanced Enclosure + High Efficiency Whole Home Electrification    4435.2\n",
       "Basic Enclosure + High Efficiency Whole Home Electrification       4394.0\n",
       "Enhanced Enclosure + HPWH + High Efficiency HP/Electric Backup     4350.7\n",
       "Basic Enclosure + HPWH + High Efficiency HP/Electric Backup        4309.5\n",
       "Mininum Efficiency Whole Home Electrification                      4217.3\n",
       "High Efficiency Whole Home Electrification                         4212.2\n",
       "High Efficiency Heat Pump with Electric Heat Backup                3351.4\n",
       "Mininum Efficiency Heat Pump with Electric Heat Backup             2765.8\n",
       "Enhanced Enclosure                                                  992.1\n",
       "Basic Enclosure                                                     913.0\n",
       "Mininum Efficiency Heat Pump with Existing Heat Backup              537.2\n",
       "Heat Pump Water Heater                                              427.8\n",
       "Electric Cooking                                                    158.0\n",
       "Electric Clothes Dryer                                              108.5\n",
       "Induction Cooking                                                    51.1\n",
       "Heat Pump Clothes Dryer                                              51.0\n",
       "Name: saving_emission.total_kgCO2e, dtype: float64"
      ]
     },
     "metadata": {},
     "output_type": "display_data"
    }
   ],
   "source": [
    "indicator ='saving_emission.total_kgCO2e'\n",
    "results = segment_mean_savings(indicator, community_results)\n",
    "saving_results[f'segment1_{income}_saving_emission_mean_kgCO2e'] = results[0]\n",
    "saving_results[f'segment2_{income}_saving_emission_mean_kgCO2e'] = results[1]\n",
    "saving_results[f'segment3_{income}_saving_emission_mean_kgCO2e'] = results[2]\n",
    "saving_results[f'segment4_{income}_saving_emission_mean_kgCO2e'] = results[3]\n",
    "saving_results[f'segment5_{income}_saving_emission_mean_kgCO2e'] = results[4]"
   ]
  },
  {
   "cell_type": "markdown",
   "id": "ebaaed40",
   "metadata": {},
   "source": [
    "## 2.5. Pecent Stock with Positive and Negtive Savings"
   ]
  },
  {
   "cell_type": "markdown",
   "id": "2660dc7b",
   "metadata": {},
   "source": [
    "### Segment 1"
   ]
  },
  {
   "cell_type": "code",
   "execution_count": 32,
   "id": "361be888",
   "metadata": {},
   "outputs": [
    {
     "data": {
      "application/vnd.plotly.v1+json": {
       "config": {
        "plotlyServerURL": "https://plot.ly"
       },
       "data": [
        {
         "marker": {
          "color": "red"
         },
         "name": "Negative",
         "orientation": "h",
         "text": [
          1,
          1,
          0.6666666666666666,
          0.6,
          0.6,
          0.6,
          0.5714285714285714,
          0.3333333333333333,
          0.3333333333333333,
          0.26666666666666666,
          0.2,
          0.2,
          0.2,
          0,
          0,
          0
         ],
         "textposition": "inside",
         "texttemplate": "%{text:.0%}",
         "type": "bar",
         "x": [
          1,
          1,
          0.6666666666666666,
          0.6,
          0.6,
          0.6,
          0.5714285714285714,
          0.3333333333333333,
          0.3333333333333333,
          0.26666666666666666,
          0.2,
          0.2,
          0.2,
          0,
          0,
          0
         ],
         "xaxis": "x",
         "y": [
          "Electric Clothes Dryer",
          "Electric Cooking",
          "Mininum Efficiency Whole Home Electrification",
          "High Efficiency Heat Pump with Electric Heat Backup",
          "High Efficiency Whole Home Electrification",
          "Mininum Efficiency Heat Pump with Electric Heat Backup",
          "Mininum Efficiency Heat Pump with Existing Heat Backup",
          "Basic Enclosure + HPWH + High Efficiency HP/Electric Backup",
          "Enhanced Enclosure + HPWH + High Efficiency HP/Electric Backup",
          "Heat Pump Water Heater",
          "Basic Enclosure + High Efficiency Whole Home Electrification",
          "Enhanced Enclosure + High Efficiency Whole Home Electrification",
          "Induction Cooking",
          "Basic Enclosure",
          "Enhanced Enclosure",
          "Heat Pump Clothes Dryer"
         ],
         "yaxis": "y"
        },
        {
         "marker": {
          "color": "green"
         },
         "name": "Positive",
         "orientation": "h",
         "text": [
          0,
          0,
          0.3333333333333333,
          0.4,
          0.4,
          0.4,
          0.42857142857142855,
          0.6666666666666666,
          0.6666666666666666,
          0.7333333333333333,
          0.8,
          0.8,
          0.8,
          1,
          1,
          1
         ],
         "textposition": "inside",
         "texttemplate": "%{text:.0%}",
         "type": "bar",
         "x": [
          0,
          0,
          0.3333333333333333,
          0.4,
          0.4,
          0.4,
          0.42857142857142855,
          0.6666666666666666,
          0.6666666666666666,
          0.7333333333333333,
          0.8,
          0.8,
          0.8,
          1,
          1,
          1
         ],
         "xaxis": "x",
         "y": [
          "Electric Clothes Dryer",
          "Electric Cooking",
          "Mininum Efficiency Whole Home Electrification",
          "High Efficiency Heat Pump with Electric Heat Backup",
          "High Efficiency Whole Home Electrification",
          "Mininum Efficiency Heat Pump with Electric Heat Backup",
          "Mininum Efficiency Heat Pump with Existing Heat Backup",
          "Basic Enclosure + HPWH + High Efficiency HP/Electric Backup",
          "Enhanced Enclosure + HPWH + High Efficiency HP/Electric Backup",
          "Heat Pump Water Heater",
          "Basic Enclosure + High Efficiency Whole Home Electrification",
          "Enhanced Enclosure + High Efficiency Whole Home Electrification",
          "Induction Cooking",
          "Basic Enclosure",
          "Enhanced Enclosure",
          "Heat Pump Clothes Dryer"
         ],
         "yaxis": "y"
        },
        {
         "marker": {
          "color": "red"
         },
         "orientation": "h",
         "showlegend": false,
         "text": [
          0,
          0,
          0,
          0,
          0,
          0,
          0.42857142857142855,
          0,
          0,
          0.13333333333333333,
          0,
          0,
          0,
          0,
          0,
          0
         ],
         "textposition": "inside",
         "texttemplate": "%{text:.0%}",
         "type": "bar",
         "x": [
          0,
          0,
          0,
          0,
          0,
          0,
          0.42857142857142855,
          0,
          0,
          0.13333333333333333,
          0,
          0,
          0,
          0,
          0,
          0
         ],
         "xaxis": "x2",
         "y": [
          "Electric Clothes Dryer",
          "Electric Cooking",
          "Mininum Efficiency Whole Home Electrification",
          "High Efficiency Heat Pump with Electric Heat Backup",
          "High Efficiency Whole Home Electrification",
          "Mininum Efficiency Heat Pump with Electric Heat Backup",
          "Mininum Efficiency Heat Pump with Existing Heat Backup",
          "Basic Enclosure + HPWH + High Efficiency HP/Electric Backup",
          "Enhanced Enclosure + HPWH + High Efficiency HP/Electric Backup",
          "Heat Pump Water Heater",
          "Basic Enclosure + High Efficiency Whole Home Electrification",
          "Enhanced Enclosure + High Efficiency Whole Home Electrification",
          "Induction Cooking",
          "Basic Enclosure",
          "Enhanced Enclosure",
          "Heat Pump Clothes Dryer"
         ],
         "yaxis": "y2"
        },
        {
         "marker": {
          "color": "green"
         },
         "orientation": "h",
         "showlegend": false,
         "text": [
          1,
          1,
          1,
          1,
          1,
          1,
          0.5714285714285714,
          1,
          1,
          0.8666666666666667,
          1,
          1,
          1,
          1,
          1,
          1
         ],
         "textposition": "inside",
         "texttemplate": "%{text:.0%}",
         "type": "bar",
         "x": [
          1,
          1,
          1,
          1,
          1,
          1,
          0.5714285714285714,
          1,
          1,
          0.8666666666666667,
          1,
          1,
          1,
          1,
          1,
          1
         ],
         "xaxis": "x2",
         "y": [
          "Electric Clothes Dryer",
          "Electric Cooking",
          "Mininum Efficiency Whole Home Electrification",
          "High Efficiency Heat Pump with Electric Heat Backup",
          "High Efficiency Whole Home Electrification",
          "Mininum Efficiency Heat Pump with Electric Heat Backup",
          "Mininum Efficiency Heat Pump with Existing Heat Backup",
          "Basic Enclosure + HPWH + High Efficiency HP/Electric Backup",
          "Enhanced Enclosure + HPWH + High Efficiency HP/Electric Backup",
          "Heat Pump Water Heater",
          "Basic Enclosure + High Efficiency Whole Home Electrification",
          "Enhanced Enclosure + High Efficiency Whole Home Electrification",
          "Induction Cooking",
          "Basic Enclosure",
          "Enhanced Enclosure",
          "Heat Pump Clothes Dryer"
         ],
         "yaxis": "y2"
        },
        {
         "marker": {
          "color": "red"
         },
         "orientation": "h",
         "showlegend": false,
         "text": [
          0,
          0,
          0,
          0,
          0,
          0,
          0.5,
          0,
          0,
          0.06666666666666667,
          0,
          0,
          0,
          0,
          0,
          0
         ],
         "textposition": "inside",
         "texttemplate": "%{text:.0%}",
         "type": "bar",
         "x": [
          0,
          0,
          0,
          0,
          0,
          0,
          0.5,
          0,
          0,
          0.06666666666666667,
          0,
          0,
          0,
          0,
          0,
          0
         ],
         "xaxis": "x3",
         "y": [
          "Electric Clothes Dryer",
          "Electric Cooking",
          "Mininum Efficiency Whole Home Electrification",
          "High Efficiency Heat Pump with Electric Heat Backup",
          "High Efficiency Whole Home Electrification",
          "Mininum Efficiency Heat Pump with Electric Heat Backup",
          "Mininum Efficiency Heat Pump with Existing Heat Backup",
          "Basic Enclosure + HPWH + High Efficiency HP/Electric Backup",
          "Enhanced Enclosure + HPWH + High Efficiency HP/Electric Backup",
          "Heat Pump Water Heater",
          "Basic Enclosure + High Efficiency Whole Home Electrification",
          "Enhanced Enclosure + High Efficiency Whole Home Electrification",
          "Induction Cooking",
          "Basic Enclosure",
          "Enhanced Enclosure",
          "Heat Pump Clothes Dryer"
         ],
         "yaxis": "y3"
        },
        {
         "marker": {
          "color": "green"
         },
         "orientation": "h",
         "showlegend": false,
         "text": [
          1,
          1,
          1,
          1,
          1,
          1,
          0.5,
          1,
          1,
          0.9333333333333333,
          1,
          1,
          1,
          1,
          1,
          1
         ],
         "textposition": "inside",
         "texttemplate": "%{text:.0%}",
         "type": "bar",
         "x": [
          1,
          1,
          1,
          1,
          1,
          1,
          0.5,
          1,
          1,
          0.9333333333333333,
          1,
          1,
          1,
          1,
          1,
          1
         ],
         "xaxis": "x3",
         "y": [
          "Electric Clothes Dryer",
          "Electric Cooking",
          "Mininum Efficiency Whole Home Electrification",
          "High Efficiency Heat Pump with Electric Heat Backup",
          "High Efficiency Whole Home Electrification",
          "Mininum Efficiency Heat Pump with Electric Heat Backup",
          "Mininum Efficiency Heat Pump with Existing Heat Backup",
          "Basic Enclosure + HPWH + High Efficiency HP/Electric Backup",
          "Enhanced Enclosure + HPWH + High Efficiency HP/Electric Backup",
          "Heat Pump Water Heater",
          "Basic Enclosure + High Efficiency Whole Home Electrification",
          "Enhanced Enclosure + High Efficiency Whole Home Electrification",
          "Induction Cooking",
          "Basic Enclosure",
          "Enhanced Enclosure",
          "Heat Pump Clothes Dryer"
         ],
         "yaxis": "y3"
        }
       ],
       "layout": {
        "autosize": false,
        "barmode": "relative",
        "font": {
         "size": 10
        },
        "height": 500,
        "template": {
         "data": {
          "bar": [
           {
            "error_x": {
             "color": "#2a3f5f"
            },
            "error_y": {
             "color": "#2a3f5f"
            },
            "marker": {
             "line": {
              "color": "#E5ECF6",
              "width": 0.5
             },
             "pattern": {
              "fillmode": "overlay",
              "size": 10,
              "solidity": 0.2
             }
            },
            "type": "bar"
           }
          ],
          "barpolar": [
           {
            "marker": {
             "line": {
              "color": "#E5ECF6",
              "width": 0.5
             },
             "pattern": {
              "fillmode": "overlay",
              "size": 10,
              "solidity": 0.2
             }
            },
            "type": "barpolar"
           }
          ],
          "carpet": [
           {
            "aaxis": {
             "endlinecolor": "#2a3f5f",
             "gridcolor": "white",
             "linecolor": "white",
             "minorgridcolor": "white",
             "startlinecolor": "#2a3f5f"
            },
            "baxis": {
             "endlinecolor": "#2a3f5f",
             "gridcolor": "white",
             "linecolor": "white",
             "minorgridcolor": "white",
             "startlinecolor": "#2a3f5f"
            },
            "type": "carpet"
           }
          ],
          "choropleth": [
           {
            "colorbar": {
             "outlinewidth": 0,
             "ticks": ""
            },
            "type": "choropleth"
           }
          ],
          "contour": [
           {
            "colorbar": {
             "outlinewidth": 0,
             "ticks": ""
            },
            "colorscale": [
             [
              0,
              "#0d0887"
             ],
             [
              0.1111111111111111,
              "#46039f"
             ],
             [
              0.2222222222222222,
              "#7201a8"
             ],
             [
              0.3333333333333333,
              "#9c179e"
             ],
             [
              0.4444444444444444,
              "#bd3786"
             ],
             [
              0.5555555555555556,
              "#d8576b"
             ],
             [
              0.6666666666666666,
              "#ed7953"
             ],
             [
              0.7777777777777778,
              "#fb9f3a"
             ],
             [
              0.8888888888888888,
              "#fdca26"
             ],
             [
              1,
              "#f0f921"
             ]
            ],
            "type": "contour"
           }
          ],
          "contourcarpet": [
           {
            "colorbar": {
             "outlinewidth": 0,
             "ticks": ""
            },
            "type": "contourcarpet"
           }
          ],
          "heatmap": [
           {
            "colorbar": {
             "outlinewidth": 0,
             "ticks": ""
            },
            "colorscale": [
             [
              0,
              "#0d0887"
             ],
             [
              0.1111111111111111,
              "#46039f"
             ],
             [
              0.2222222222222222,
              "#7201a8"
             ],
             [
              0.3333333333333333,
              "#9c179e"
             ],
             [
              0.4444444444444444,
              "#bd3786"
             ],
             [
              0.5555555555555556,
              "#d8576b"
             ],
             [
              0.6666666666666666,
              "#ed7953"
             ],
             [
              0.7777777777777778,
              "#fb9f3a"
             ],
             [
              0.8888888888888888,
              "#fdca26"
             ],
             [
              1,
              "#f0f921"
             ]
            ],
            "type": "heatmap"
           }
          ],
          "heatmapgl": [
           {
            "colorbar": {
             "outlinewidth": 0,
             "ticks": ""
            },
            "colorscale": [
             [
              0,
              "#0d0887"
             ],
             [
              0.1111111111111111,
              "#46039f"
             ],
             [
              0.2222222222222222,
              "#7201a8"
             ],
             [
              0.3333333333333333,
              "#9c179e"
             ],
             [
              0.4444444444444444,
              "#bd3786"
             ],
             [
              0.5555555555555556,
              "#d8576b"
             ],
             [
              0.6666666666666666,
              "#ed7953"
             ],
             [
              0.7777777777777778,
              "#fb9f3a"
             ],
             [
              0.8888888888888888,
              "#fdca26"
             ],
             [
              1,
              "#f0f921"
             ]
            ],
            "type": "heatmapgl"
           }
          ],
          "histogram": [
           {
            "marker": {
             "pattern": {
              "fillmode": "overlay",
              "size": 10,
              "solidity": 0.2
             }
            },
            "type": "histogram"
           }
          ],
          "histogram2d": [
           {
            "colorbar": {
             "outlinewidth": 0,
             "ticks": ""
            },
            "colorscale": [
             [
              0,
              "#0d0887"
             ],
             [
              0.1111111111111111,
              "#46039f"
             ],
             [
              0.2222222222222222,
              "#7201a8"
             ],
             [
              0.3333333333333333,
              "#9c179e"
             ],
             [
              0.4444444444444444,
              "#bd3786"
             ],
             [
              0.5555555555555556,
              "#d8576b"
             ],
             [
              0.6666666666666666,
              "#ed7953"
             ],
             [
              0.7777777777777778,
              "#fb9f3a"
             ],
             [
              0.8888888888888888,
              "#fdca26"
             ],
             [
              1,
              "#f0f921"
             ]
            ],
            "type": "histogram2d"
           }
          ],
          "histogram2dcontour": [
           {
            "colorbar": {
             "outlinewidth": 0,
             "ticks": ""
            },
            "colorscale": [
             [
              0,
              "#0d0887"
             ],
             [
              0.1111111111111111,
              "#46039f"
             ],
             [
              0.2222222222222222,
              "#7201a8"
             ],
             [
              0.3333333333333333,
              "#9c179e"
             ],
             [
              0.4444444444444444,
              "#bd3786"
             ],
             [
              0.5555555555555556,
              "#d8576b"
             ],
             [
              0.6666666666666666,
              "#ed7953"
             ],
             [
              0.7777777777777778,
              "#fb9f3a"
             ],
             [
              0.8888888888888888,
              "#fdca26"
             ],
             [
              1,
              "#f0f921"
             ]
            ],
            "type": "histogram2dcontour"
           }
          ],
          "mesh3d": [
           {
            "colorbar": {
             "outlinewidth": 0,
             "ticks": ""
            },
            "type": "mesh3d"
           }
          ],
          "parcoords": [
           {
            "line": {
             "colorbar": {
              "outlinewidth": 0,
              "ticks": ""
             }
            },
            "type": "parcoords"
           }
          ],
          "pie": [
           {
            "automargin": true,
            "type": "pie"
           }
          ],
          "scatter": [
           {
            "fillpattern": {
             "fillmode": "overlay",
             "size": 10,
             "solidity": 0.2
            },
            "type": "scatter"
           }
          ],
          "scatter3d": [
           {
            "line": {
             "colorbar": {
              "outlinewidth": 0,
              "ticks": ""
             }
            },
            "marker": {
             "colorbar": {
              "outlinewidth": 0,
              "ticks": ""
             }
            },
            "type": "scatter3d"
           }
          ],
          "scattercarpet": [
           {
            "marker": {
             "colorbar": {
              "outlinewidth": 0,
              "ticks": ""
             }
            },
            "type": "scattercarpet"
           }
          ],
          "scattergeo": [
           {
            "marker": {
             "colorbar": {
              "outlinewidth": 0,
              "ticks": ""
             }
            },
            "type": "scattergeo"
           }
          ],
          "scattergl": [
           {
            "marker": {
             "colorbar": {
              "outlinewidth": 0,
              "ticks": ""
             }
            },
            "type": "scattergl"
           }
          ],
          "scattermapbox": [
           {
            "marker": {
             "colorbar": {
              "outlinewidth": 0,
              "ticks": ""
             }
            },
            "type": "scattermapbox"
           }
          ],
          "scatterpolar": [
           {
            "marker": {
             "colorbar": {
              "outlinewidth": 0,
              "ticks": ""
             }
            },
            "type": "scatterpolar"
           }
          ],
          "scatterpolargl": [
           {
            "marker": {
             "colorbar": {
              "outlinewidth": 0,
              "ticks": ""
             }
            },
            "type": "scatterpolargl"
           }
          ],
          "scatterternary": [
           {
            "marker": {
             "colorbar": {
              "outlinewidth": 0,
              "ticks": ""
             }
            },
            "type": "scatterternary"
           }
          ],
          "surface": [
           {
            "colorbar": {
             "outlinewidth": 0,
             "ticks": ""
            },
            "colorscale": [
             [
              0,
              "#0d0887"
             ],
             [
              0.1111111111111111,
              "#46039f"
             ],
             [
              0.2222222222222222,
              "#7201a8"
             ],
             [
              0.3333333333333333,
              "#9c179e"
             ],
             [
              0.4444444444444444,
              "#bd3786"
             ],
             [
              0.5555555555555556,
              "#d8576b"
             ],
             [
              0.6666666666666666,
              "#ed7953"
             ],
             [
              0.7777777777777778,
              "#fb9f3a"
             ],
             [
              0.8888888888888888,
              "#fdca26"
             ],
             [
              1,
              "#f0f921"
             ]
            ],
            "type": "surface"
           }
          ],
          "table": [
           {
            "cells": {
             "fill": {
              "color": "#EBF0F8"
             },
             "line": {
              "color": "white"
             }
            },
            "header": {
             "fill": {
              "color": "#C8D4E3"
             },
             "line": {
              "color": "white"
             }
            },
            "type": "table"
           }
          ]
         },
         "layout": {
          "annotationdefaults": {
           "arrowcolor": "#2a3f5f",
           "arrowhead": 0,
           "arrowwidth": 1
          },
          "autotypenumbers": "strict",
          "coloraxis": {
           "colorbar": {
            "outlinewidth": 0,
            "ticks": ""
           }
          },
          "colorscale": {
           "diverging": [
            [
             0,
             "#8e0152"
            ],
            [
             0.1,
             "#c51b7d"
            ],
            [
             0.2,
             "#de77ae"
            ],
            [
             0.3,
             "#f1b6da"
            ],
            [
             0.4,
             "#fde0ef"
            ],
            [
             0.5,
             "#f7f7f7"
            ],
            [
             0.6,
             "#e6f5d0"
            ],
            [
             0.7,
             "#b8e186"
            ],
            [
             0.8,
             "#7fbc41"
            ],
            [
             0.9,
             "#4d9221"
            ],
            [
             1,
             "#276419"
            ]
           ],
           "sequential": [
            [
             0,
             "#0d0887"
            ],
            [
             0.1111111111111111,
             "#46039f"
            ],
            [
             0.2222222222222222,
             "#7201a8"
            ],
            [
             0.3333333333333333,
             "#9c179e"
            ],
            [
             0.4444444444444444,
             "#bd3786"
            ],
            [
             0.5555555555555556,
             "#d8576b"
            ],
            [
             0.6666666666666666,
             "#ed7953"
            ],
            [
             0.7777777777777778,
             "#fb9f3a"
            ],
            [
             0.8888888888888888,
             "#fdca26"
            ],
            [
             1,
             "#f0f921"
            ]
           ],
           "sequentialminus": [
            [
             0,
             "#0d0887"
            ],
            [
             0.1111111111111111,
             "#46039f"
            ],
            [
             0.2222222222222222,
             "#7201a8"
            ],
            [
             0.3333333333333333,
             "#9c179e"
            ],
            [
             0.4444444444444444,
             "#bd3786"
            ],
            [
             0.5555555555555556,
             "#d8576b"
            ],
            [
             0.6666666666666666,
             "#ed7953"
            ],
            [
             0.7777777777777778,
             "#fb9f3a"
            ],
            [
             0.8888888888888888,
             "#fdca26"
            ],
            [
             1,
             "#f0f921"
            ]
           ]
          },
          "colorway": [
           "#636efa",
           "#EF553B",
           "#00cc96",
           "#ab63fa",
           "#FFA15A",
           "#19d3f3",
           "#FF6692",
           "#B6E880",
           "#FF97FF",
           "#FECB52"
          ],
          "font": {
           "color": "#2a3f5f"
          },
          "geo": {
           "bgcolor": "white",
           "lakecolor": "white",
           "landcolor": "#E5ECF6",
           "showlakes": true,
           "showland": true,
           "subunitcolor": "white"
          },
          "hoverlabel": {
           "align": "left"
          },
          "hovermode": "closest",
          "mapbox": {
           "style": "light"
          },
          "paper_bgcolor": "white",
          "plot_bgcolor": "#E5ECF6",
          "polar": {
           "angularaxis": {
            "gridcolor": "white",
            "linecolor": "white",
            "ticks": ""
           },
           "bgcolor": "#E5ECF6",
           "radialaxis": {
            "gridcolor": "white",
            "linecolor": "white",
            "ticks": ""
           }
          },
          "scene": {
           "xaxis": {
            "backgroundcolor": "#E5ECF6",
            "gridcolor": "white",
            "gridwidth": 2,
            "linecolor": "white",
            "showbackground": true,
            "ticks": "",
            "zerolinecolor": "white"
           },
           "yaxis": {
            "backgroundcolor": "#E5ECF6",
            "gridcolor": "white",
            "gridwidth": 2,
            "linecolor": "white",
            "showbackground": true,
            "ticks": "",
            "zerolinecolor": "white"
           },
           "zaxis": {
            "backgroundcolor": "#E5ECF6",
            "gridcolor": "white",
            "gridwidth": 2,
            "linecolor": "white",
            "showbackground": true,
            "ticks": "",
            "zerolinecolor": "white"
           }
          },
          "shapedefaults": {
           "line": {
            "color": "#2a3f5f"
           }
          },
          "ternary": {
           "aaxis": {
            "gridcolor": "white",
            "linecolor": "white",
            "ticks": ""
           },
           "baxis": {
            "gridcolor": "white",
            "linecolor": "white",
            "ticks": ""
           },
           "bgcolor": "#E5ECF6",
           "caxis": {
            "gridcolor": "white",
            "linecolor": "white",
            "ticks": ""
           }
          },
          "title": {
           "x": 0.05
          },
          "xaxis": {
           "automargin": true,
           "gridcolor": "white",
           "linecolor": "white",
           "ticks": "",
           "title": {
            "standoff": 15
           },
           "zerolinecolor": "white",
           "zerolinewidth": 2
          },
          "yaxis": {
           "automargin": true,
           "gridcolor": "white",
           "linecolor": "white",
           "ticks": "",
           "title": {
            "standoff": 15
           },
           "zerolinecolor": "white",
           "zerolinewidth": 2
          }
         }
        },
        "title": {
         "text": "Percentage of Household in Positive and Negative Savings"
        },
        "width": 1000,
        "xaxis": {
         "anchor": "y",
         "domain": [
          0,
          0.2888888888888889
         ],
         "tickformat": ",.0%",
         "title": {
          "text": "Bill"
         },
         "visible": true
        },
        "xaxis2": {
         "anchor": "y2",
         "domain": [
          0.35555555555555557,
          0.6444444444444445
         ],
         "tickformat": ",.0%",
         "title": {
          "text": "Emission"
         },
         "visible": true
        },
        "xaxis3": {
         "anchor": "y3",
         "domain": [
          0.7111111111111111,
          1
         ],
         "tickformat": ",.0%",
         "title": {
          "text": "Total Energy"
         },
         "visible": true
        },
        "yaxis": {
         "anchor": "x",
         "domain": [
          0,
          1
         ],
         "visible": true
        },
        "yaxis2": {
         "anchor": "x2",
         "domain": [
          0,
          1
         ],
         "visible": false
        },
        "yaxis3": {
         "anchor": "x3",
         "domain": [
          0,
          1
         ],
         "visible": false
        }
       }
      }
     },
     "metadata": {},
     "output_type": "display_data"
    }
   ],
   "source": [
    "segment = 'segment1'\n",
    "results = figure_positive_negative_savings(segment, community_results) \n",
    "saving_results[f'segment1_{income}_pct_bill_positive_savings_%'] = results[0]*100\n",
    "saving_results[f'segment1_{income}_pct_emission_positive_savings_%'] = results[1]*100\n",
    "saving_results[f'segment1_{income}_pct_energy_positive_savings_%'] = results[2]*100"
   ]
  },
  {
   "cell_type": "markdown",
   "id": "f3357f7f",
   "metadata": {},
   "source": [
    "### Segment 2"
   ]
  },
  {
   "cell_type": "code",
   "execution_count": 33,
   "id": "362580ae",
   "metadata": {},
   "outputs": [
    {
     "data": {
      "application/vnd.plotly.v1+json": {
       "config": {
        "plotlyServerURL": "https://plot.ly"
       },
       "data": [
        {
         "marker": {
          "color": "red"
         },
         "name": "Negative",
         "orientation": "h",
         "text": [
          1,
          1,
          0.5975609756097561,
          0.5161290322580645,
          0.4946236559139785,
          0.4838709677419355,
          0.43023255813953487,
          0.3225806451612903,
          0.3118279569892473,
          0.2903225806451613,
          0.27956989247311825,
          0.25806451612903225,
          0.1935483870967742,
          0.021739130434782608,
          0.01098901098901099,
          0
         ],
         "textposition": "inside",
         "texttemplate": "%{text:.0%}",
         "type": "bar",
         "x": [
          1,
          1,
          0.5975609756097561,
          0.5161290322580645,
          0.4946236559139785,
          0.4838709677419355,
          0.43023255813953487,
          0.3225806451612903,
          0.3118279569892473,
          0.2903225806451613,
          0.27956989247311825,
          0.25806451612903225,
          0.1935483870967742,
          0.021739130434782608,
          0.01098901098901099,
          0
         ],
         "xaxis": "x",
         "y": [
          "Electric Clothes Dryer",
          "Electric Cooking",
          "Mininum Efficiency Whole Home Electrification",
          "Mininum Efficiency Heat Pump with Electric Heat Backup",
          "High Efficiency Heat Pump with Electric Heat Backup",
          "High Efficiency Whole Home Electrification",
          "Mininum Efficiency Heat Pump with Existing Heat Backup",
          "Induction Cooking",
          "Basic Enclosure + HPWH + High Efficiency HP/Electric Backup",
          "Basic Enclosure + High Efficiency Whole Home Electrification",
          "Enhanced Enclosure + HPWH + High Efficiency HP/Electric Backup",
          "Enhanced Enclosure + High Efficiency Whole Home Electrification",
          "Heat Pump Water Heater",
          "Heat Pump Clothes Dryer",
          "Basic Enclosure",
          "Enhanced Enclosure"
         ],
         "yaxis": "y"
        },
        {
         "marker": {
          "color": "green"
         },
         "name": "Positive",
         "orientation": "h",
         "text": [
          0,
          0,
          0.4024390243902439,
          0.4838709677419355,
          0.5053763440860215,
          0.5161290322580645,
          0.5697674418604651,
          0.6774193548387096,
          0.6881720430107527,
          0.7096774193548387,
          0.7204301075268817,
          0.7419354838709677,
          0.8064516129032258,
          0.9782608695652174,
          0.989010989010989,
          1
         ],
         "textposition": "inside",
         "texttemplate": "%{text:.0%}",
         "type": "bar",
         "x": [
          0,
          0,
          0.4024390243902439,
          0.4838709677419355,
          0.5053763440860215,
          0.5161290322580645,
          0.5697674418604651,
          0.6774193548387096,
          0.6881720430107527,
          0.7096774193548387,
          0.7204301075268817,
          0.7419354838709677,
          0.8064516129032258,
          0.9782608695652174,
          0.989010989010989,
          1
         ],
         "xaxis": "x",
         "y": [
          "Electric Clothes Dryer",
          "Electric Cooking",
          "Mininum Efficiency Whole Home Electrification",
          "Mininum Efficiency Heat Pump with Electric Heat Backup",
          "High Efficiency Heat Pump with Electric Heat Backup",
          "High Efficiency Whole Home Electrification",
          "Mininum Efficiency Heat Pump with Existing Heat Backup",
          "Induction Cooking",
          "Basic Enclosure + HPWH + High Efficiency HP/Electric Backup",
          "Basic Enclosure + High Efficiency Whole Home Electrification",
          "Enhanced Enclosure + HPWH + High Efficiency HP/Electric Backup",
          "Enhanced Enclosure + High Efficiency Whole Home Electrification",
          "Heat Pump Water Heater",
          "Heat Pump Clothes Dryer",
          "Basic Enclosure",
          "Enhanced Enclosure"
         ],
         "yaxis": "y"
        },
        {
         "marker": {
          "color": "red"
         },
         "orientation": "h",
         "showlegend": false,
         "text": [
          0,
          0,
          0.012195121951219513,
          0.010752688172043012,
          0.010752688172043012,
          0.010752688172043012,
          0.26744186046511625,
          0,
          0.010752688172043012,
          0.010752688172043012,
          0.010752688172043012,
          0.010752688172043012,
          0.12903225806451613,
          0,
          0,
          0
         ],
         "textposition": "inside",
         "texttemplate": "%{text:.0%}",
         "type": "bar",
         "x": [
          0,
          0,
          0.012195121951219513,
          0.010752688172043012,
          0.010752688172043012,
          0.010752688172043012,
          0.26744186046511625,
          0,
          0.010752688172043012,
          0.010752688172043012,
          0.010752688172043012,
          0.010752688172043012,
          0.12903225806451613,
          0,
          0,
          0
         ],
         "xaxis": "x2",
         "y": [
          "Electric Clothes Dryer",
          "Electric Cooking",
          "Mininum Efficiency Whole Home Electrification",
          "Mininum Efficiency Heat Pump with Electric Heat Backup",
          "High Efficiency Heat Pump with Electric Heat Backup",
          "High Efficiency Whole Home Electrification",
          "Mininum Efficiency Heat Pump with Existing Heat Backup",
          "Induction Cooking",
          "Basic Enclosure + HPWH + High Efficiency HP/Electric Backup",
          "Basic Enclosure + High Efficiency Whole Home Electrification",
          "Enhanced Enclosure + HPWH + High Efficiency HP/Electric Backup",
          "Enhanced Enclosure + High Efficiency Whole Home Electrification",
          "Heat Pump Water Heater",
          "Heat Pump Clothes Dryer",
          "Basic Enclosure",
          "Enhanced Enclosure"
         ],
         "yaxis": "y2"
        },
        {
         "marker": {
          "color": "green"
         },
         "orientation": "h",
         "showlegend": false,
         "text": [
          1,
          1,
          0.9878048780487805,
          0.989247311827957,
          0.989247311827957,
          0.989247311827957,
          0.7325581395348837,
          1,
          0.989247311827957,
          0.989247311827957,
          0.989247311827957,
          0.989247311827957,
          0.8709677419354839,
          1,
          1,
          1
         ],
         "textposition": "inside",
         "texttemplate": "%{text:.0%}",
         "type": "bar",
         "x": [
          1,
          1,
          0.9878048780487805,
          0.989247311827957,
          0.989247311827957,
          0.989247311827957,
          0.7325581395348837,
          1,
          0.989247311827957,
          0.989247311827957,
          0.989247311827957,
          0.989247311827957,
          0.8709677419354839,
          1,
          1,
          1
         ],
         "xaxis": "x2",
         "y": [
          "Electric Clothes Dryer",
          "Electric Cooking",
          "Mininum Efficiency Whole Home Electrification",
          "Mininum Efficiency Heat Pump with Electric Heat Backup",
          "High Efficiency Heat Pump with Electric Heat Backup",
          "High Efficiency Whole Home Electrification",
          "Mininum Efficiency Heat Pump with Existing Heat Backup",
          "Induction Cooking",
          "Basic Enclosure + HPWH + High Efficiency HP/Electric Backup",
          "Basic Enclosure + High Efficiency Whole Home Electrification",
          "Enhanced Enclosure + HPWH + High Efficiency HP/Electric Backup",
          "Enhanced Enclosure + High Efficiency Whole Home Electrification",
          "Heat Pump Water Heater",
          "Heat Pump Clothes Dryer",
          "Basic Enclosure",
          "Enhanced Enclosure"
         ],
         "yaxis": "y2"
        },
        {
         "marker": {
          "color": "red"
         },
         "orientation": "h",
         "showlegend": false,
         "text": [
          0,
          0,
          0.024390243902439025,
          0.021505376344086023,
          0.010752688172043012,
          0.010752688172043012,
          0.27906976744186046,
          0,
          0.010752688172043012,
          0.010752688172043012,
          0.010752688172043012,
          0.010752688172043012,
          0.043010752688172046,
          0,
          0,
          0
         ],
         "textposition": "inside",
         "texttemplate": "%{text:.0%}",
         "type": "bar",
         "x": [
          0,
          0,
          0.024390243902439025,
          0.021505376344086023,
          0.010752688172043012,
          0.010752688172043012,
          0.27906976744186046,
          0,
          0.010752688172043012,
          0.010752688172043012,
          0.010752688172043012,
          0.010752688172043012,
          0.043010752688172046,
          0,
          0,
          0
         ],
         "xaxis": "x3",
         "y": [
          "Electric Clothes Dryer",
          "Electric Cooking",
          "Mininum Efficiency Whole Home Electrification",
          "Mininum Efficiency Heat Pump with Electric Heat Backup",
          "High Efficiency Heat Pump with Electric Heat Backup",
          "High Efficiency Whole Home Electrification",
          "Mininum Efficiency Heat Pump with Existing Heat Backup",
          "Induction Cooking",
          "Basic Enclosure + HPWH + High Efficiency HP/Electric Backup",
          "Basic Enclosure + High Efficiency Whole Home Electrification",
          "Enhanced Enclosure + HPWH + High Efficiency HP/Electric Backup",
          "Enhanced Enclosure + High Efficiency Whole Home Electrification",
          "Heat Pump Water Heater",
          "Heat Pump Clothes Dryer",
          "Basic Enclosure",
          "Enhanced Enclosure"
         ],
         "yaxis": "y3"
        },
        {
         "marker": {
          "color": "green"
         },
         "orientation": "h",
         "showlegend": false,
         "text": [
          1,
          1,
          0.975609756097561,
          0.978494623655914,
          0.989247311827957,
          0.989247311827957,
          0.7209302325581395,
          1,
          0.989247311827957,
          0.989247311827957,
          0.989247311827957,
          0.989247311827957,
          0.956989247311828,
          1,
          1,
          1
         ],
         "textposition": "inside",
         "texttemplate": "%{text:.0%}",
         "type": "bar",
         "x": [
          1,
          1,
          0.975609756097561,
          0.978494623655914,
          0.989247311827957,
          0.989247311827957,
          0.7209302325581395,
          1,
          0.989247311827957,
          0.989247311827957,
          0.989247311827957,
          0.989247311827957,
          0.956989247311828,
          1,
          1,
          1
         ],
         "xaxis": "x3",
         "y": [
          "Electric Clothes Dryer",
          "Electric Cooking",
          "Mininum Efficiency Whole Home Electrification",
          "Mininum Efficiency Heat Pump with Electric Heat Backup",
          "High Efficiency Heat Pump with Electric Heat Backup",
          "High Efficiency Whole Home Electrification",
          "Mininum Efficiency Heat Pump with Existing Heat Backup",
          "Induction Cooking",
          "Basic Enclosure + HPWH + High Efficiency HP/Electric Backup",
          "Basic Enclosure + High Efficiency Whole Home Electrification",
          "Enhanced Enclosure + HPWH + High Efficiency HP/Electric Backup",
          "Enhanced Enclosure + High Efficiency Whole Home Electrification",
          "Heat Pump Water Heater",
          "Heat Pump Clothes Dryer",
          "Basic Enclosure",
          "Enhanced Enclosure"
         ],
         "yaxis": "y3"
        }
       ],
       "layout": {
        "autosize": false,
        "barmode": "relative",
        "font": {
         "size": 10
        },
        "height": 500,
        "template": {
         "data": {
          "bar": [
           {
            "error_x": {
             "color": "#2a3f5f"
            },
            "error_y": {
             "color": "#2a3f5f"
            },
            "marker": {
             "line": {
              "color": "#E5ECF6",
              "width": 0.5
             },
             "pattern": {
              "fillmode": "overlay",
              "size": 10,
              "solidity": 0.2
             }
            },
            "type": "bar"
           }
          ],
          "barpolar": [
           {
            "marker": {
             "line": {
              "color": "#E5ECF6",
              "width": 0.5
             },
             "pattern": {
              "fillmode": "overlay",
              "size": 10,
              "solidity": 0.2
             }
            },
            "type": "barpolar"
           }
          ],
          "carpet": [
           {
            "aaxis": {
             "endlinecolor": "#2a3f5f",
             "gridcolor": "white",
             "linecolor": "white",
             "minorgridcolor": "white",
             "startlinecolor": "#2a3f5f"
            },
            "baxis": {
             "endlinecolor": "#2a3f5f",
             "gridcolor": "white",
             "linecolor": "white",
             "minorgridcolor": "white",
             "startlinecolor": "#2a3f5f"
            },
            "type": "carpet"
           }
          ],
          "choropleth": [
           {
            "colorbar": {
             "outlinewidth": 0,
             "ticks": ""
            },
            "type": "choropleth"
           }
          ],
          "contour": [
           {
            "colorbar": {
             "outlinewidth": 0,
             "ticks": ""
            },
            "colorscale": [
             [
              0,
              "#0d0887"
             ],
             [
              0.1111111111111111,
              "#46039f"
             ],
             [
              0.2222222222222222,
              "#7201a8"
             ],
             [
              0.3333333333333333,
              "#9c179e"
             ],
             [
              0.4444444444444444,
              "#bd3786"
             ],
             [
              0.5555555555555556,
              "#d8576b"
             ],
             [
              0.6666666666666666,
              "#ed7953"
             ],
             [
              0.7777777777777778,
              "#fb9f3a"
             ],
             [
              0.8888888888888888,
              "#fdca26"
             ],
             [
              1,
              "#f0f921"
             ]
            ],
            "type": "contour"
           }
          ],
          "contourcarpet": [
           {
            "colorbar": {
             "outlinewidth": 0,
             "ticks": ""
            },
            "type": "contourcarpet"
           }
          ],
          "heatmap": [
           {
            "colorbar": {
             "outlinewidth": 0,
             "ticks": ""
            },
            "colorscale": [
             [
              0,
              "#0d0887"
             ],
             [
              0.1111111111111111,
              "#46039f"
             ],
             [
              0.2222222222222222,
              "#7201a8"
             ],
             [
              0.3333333333333333,
              "#9c179e"
             ],
             [
              0.4444444444444444,
              "#bd3786"
             ],
             [
              0.5555555555555556,
              "#d8576b"
             ],
             [
              0.6666666666666666,
              "#ed7953"
             ],
             [
              0.7777777777777778,
              "#fb9f3a"
             ],
             [
              0.8888888888888888,
              "#fdca26"
             ],
             [
              1,
              "#f0f921"
             ]
            ],
            "type": "heatmap"
           }
          ],
          "heatmapgl": [
           {
            "colorbar": {
             "outlinewidth": 0,
             "ticks": ""
            },
            "colorscale": [
             [
              0,
              "#0d0887"
             ],
             [
              0.1111111111111111,
              "#46039f"
             ],
             [
              0.2222222222222222,
              "#7201a8"
             ],
             [
              0.3333333333333333,
              "#9c179e"
             ],
             [
              0.4444444444444444,
              "#bd3786"
             ],
             [
              0.5555555555555556,
              "#d8576b"
             ],
             [
              0.6666666666666666,
              "#ed7953"
             ],
             [
              0.7777777777777778,
              "#fb9f3a"
             ],
             [
              0.8888888888888888,
              "#fdca26"
             ],
             [
              1,
              "#f0f921"
             ]
            ],
            "type": "heatmapgl"
           }
          ],
          "histogram": [
           {
            "marker": {
             "pattern": {
              "fillmode": "overlay",
              "size": 10,
              "solidity": 0.2
             }
            },
            "type": "histogram"
           }
          ],
          "histogram2d": [
           {
            "colorbar": {
             "outlinewidth": 0,
             "ticks": ""
            },
            "colorscale": [
             [
              0,
              "#0d0887"
             ],
             [
              0.1111111111111111,
              "#46039f"
             ],
             [
              0.2222222222222222,
              "#7201a8"
             ],
             [
              0.3333333333333333,
              "#9c179e"
             ],
             [
              0.4444444444444444,
              "#bd3786"
             ],
             [
              0.5555555555555556,
              "#d8576b"
             ],
             [
              0.6666666666666666,
              "#ed7953"
             ],
             [
              0.7777777777777778,
              "#fb9f3a"
             ],
             [
              0.8888888888888888,
              "#fdca26"
             ],
             [
              1,
              "#f0f921"
             ]
            ],
            "type": "histogram2d"
           }
          ],
          "histogram2dcontour": [
           {
            "colorbar": {
             "outlinewidth": 0,
             "ticks": ""
            },
            "colorscale": [
             [
              0,
              "#0d0887"
             ],
             [
              0.1111111111111111,
              "#46039f"
             ],
             [
              0.2222222222222222,
              "#7201a8"
             ],
             [
              0.3333333333333333,
              "#9c179e"
             ],
             [
              0.4444444444444444,
              "#bd3786"
             ],
             [
              0.5555555555555556,
              "#d8576b"
             ],
             [
              0.6666666666666666,
              "#ed7953"
             ],
             [
              0.7777777777777778,
              "#fb9f3a"
             ],
             [
              0.8888888888888888,
              "#fdca26"
             ],
             [
              1,
              "#f0f921"
             ]
            ],
            "type": "histogram2dcontour"
           }
          ],
          "mesh3d": [
           {
            "colorbar": {
             "outlinewidth": 0,
             "ticks": ""
            },
            "type": "mesh3d"
           }
          ],
          "parcoords": [
           {
            "line": {
             "colorbar": {
              "outlinewidth": 0,
              "ticks": ""
             }
            },
            "type": "parcoords"
           }
          ],
          "pie": [
           {
            "automargin": true,
            "type": "pie"
           }
          ],
          "scatter": [
           {
            "fillpattern": {
             "fillmode": "overlay",
             "size": 10,
             "solidity": 0.2
            },
            "type": "scatter"
           }
          ],
          "scatter3d": [
           {
            "line": {
             "colorbar": {
              "outlinewidth": 0,
              "ticks": ""
             }
            },
            "marker": {
             "colorbar": {
              "outlinewidth": 0,
              "ticks": ""
             }
            },
            "type": "scatter3d"
           }
          ],
          "scattercarpet": [
           {
            "marker": {
             "colorbar": {
              "outlinewidth": 0,
              "ticks": ""
             }
            },
            "type": "scattercarpet"
           }
          ],
          "scattergeo": [
           {
            "marker": {
             "colorbar": {
              "outlinewidth": 0,
              "ticks": ""
             }
            },
            "type": "scattergeo"
           }
          ],
          "scattergl": [
           {
            "marker": {
             "colorbar": {
              "outlinewidth": 0,
              "ticks": ""
             }
            },
            "type": "scattergl"
           }
          ],
          "scattermapbox": [
           {
            "marker": {
             "colorbar": {
              "outlinewidth": 0,
              "ticks": ""
             }
            },
            "type": "scattermapbox"
           }
          ],
          "scatterpolar": [
           {
            "marker": {
             "colorbar": {
              "outlinewidth": 0,
              "ticks": ""
             }
            },
            "type": "scatterpolar"
           }
          ],
          "scatterpolargl": [
           {
            "marker": {
             "colorbar": {
              "outlinewidth": 0,
              "ticks": ""
             }
            },
            "type": "scatterpolargl"
           }
          ],
          "scatterternary": [
           {
            "marker": {
             "colorbar": {
              "outlinewidth": 0,
              "ticks": ""
             }
            },
            "type": "scatterternary"
           }
          ],
          "surface": [
           {
            "colorbar": {
             "outlinewidth": 0,
             "ticks": ""
            },
            "colorscale": [
             [
              0,
              "#0d0887"
             ],
             [
              0.1111111111111111,
              "#46039f"
             ],
             [
              0.2222222222222222,
              "#7201a8"
             ],
             [
              0.3333333333333333,
              "#9c179e"
             ],
             [
              0.4444444444444444,
              "#bd3786"
             ],
             [
              0.5555555555555556,
              "#d8576b"
             ],
             [
              0.6666666666666666,
              "#ed7953"
             ],
             [
              0.7777777777777778,
              "#fb9f3a"
             ],
             [
              0.8888888888888888,
              "#fdca26"
             ],
             [
              1,
              "#f0f921"
             ]
            ],
            "type": "surface"
           }
          ],
          "table": [
           {
            "cells": {
             "fill": {
              "color": "#EBF0F8"
             },
             "line": {
              "color": "white"
             }
            },
            "header": {
             "fill": {
              "color": "#C8D4E3"
             },
             "line": {
              "color": "white"
             }
            },
            "type": "table"
           }
          ]
         },
         "layout": {
          "annotationdefaults": {
           "arrowcolor": "#2a3f5f",
           "arrowhead": 0,
           "arrowwidth": 1
          },
          "autotypenumbers": "strict",
          "coloraxis": {
           "colorbar": {
            "outlinewidth": 0,
            "ticks": ""
           }
          },
          "colorscale": {
           "diverging": [
            [
             0,
             "#8e0152"
            ],
            [
             0.1,
             "#c51b7d"
            ],
            [
             0.2,
             "#de77ae"
            ],
            [
             0.3,
             "#f1b6da"
            ],
            [
             0.4,
             "#fde0ef"
            ],
            [
             0.5,
             "#f7f7f7"
            ],
            [
             0.6,
             "#e6f5d0"
            ],
            [
             0.7,
             "#b8e186"
            ],
            [
             0.8,
             "#7fbc41"
            ],
            [
             0.9,
             "#4d9221"
            ],
            [
             1,
             "#276419"
            ]
           ],
           "sequential": [
            [
             0,
             "#0d0887"
            ],
            [
             0.1111111111111111,
             "#46039f"
            ],
            [
             0.2222222222222222,
             "#7201a8"
            ],
            [
             0.3333333333333333,
             "#9c179e"
            ],
            [
             0.4444444444444444,
             "#bd3786"
            ],
            [
             0.5555555555555556,
             "#d8576b"
            ],
            [
             0.6666666666666666,
             "#ed7953"
            ],
            [
             0.7777777777777778,
             "#fb9f3a"
            ],
            [
             0.8888888888888888,
             "#fdca26"
            ],
            [
             1,
             "#f0f921"
            ]
           ],
           "sequentialminus": [
            [
             0,
             "#0d0887"
            ],
            [
             0.1111111111111111,
             "#46039f"
            ],
            [
             0.2222222222222222,
             "#7201a8"
            ],
            [
             0.3333333333333333,
             "#9c179e"
            ],
            [
             0.4444444444444444,
             "#bd3786"
            ],
            [
             0.5555555555555556,
             "#d8576b"
            ],
            [
             0.6666666666666666,
             "#ed7953"
            ],
            [
             0.7777777777777778,
             "#fb9f3a"
            ],
            [
             0.8888888888888888,
             "#fdca26"
            ],
            [
             1,
             "#f0f921"
            ]
           ]
          },
          "colorway": [
           "#636efa",
           "#EF553B",
           "#00cc96",
           "#ab63fa",
           "#FFA15A",
           "#19d3f3",
           "#FF6692",
           "#B6E880",
           "#FF97FF",
           "#FECB52"
          ],
          "font": {
           "color": "#2a3f5f"
          },
          "geo": {
           "bgcolor": "white",
           "lakecolor": "white",
           "landcolor": "#E5ECF6",
           "showlakes": true,
           "showland": true,
           "subunitcolor": "white"
          },
          "hoverlabel": {
           "align": "left"
          },
          "hovermode": "closest",
          "mapbox": {
           "style": "light"
          },
          "paper_bgcolor": "white",
          "plot_bgcolor": "#E5ECF6",
          "polar": {
           "angularaxis": {
            "gridcolor": "white",
            "linecolor": "white",
            "ticks": ""
           },
           "bgcolor": "#E5ECF6",
           "radialaxis": {
            "gridcolor": "white",
            "linecolor": "white",
            "ticks": ""
           }
          },
          "scene": {
           "xaxis": {
            "backgroundcolor": "#E5ECF6",
            "gridcolor": "white",
            "gridwidth": 2,
            "linecolor": "white",
            "showbackground": true,
            "ticks": "",
            "zerolinecolor": "white"
           },
           "yaxis": {
            "backgroundcolor": "#E5ECF6",
            "gridcolor": "white",
            "gridwidth": 2,
            "linecolor": "white",
            "showbackground": true,
            "ticks": "",
            "zerolinecolor": "white"
           },
           "zaxis": {
            "backgroundcolor": "#E5ECF6",
            "gridcolor": "white",
            "gridwidth": 2,
            "linecolor": "white",
            "showbackground": true,
            "ticks": "",
            "zerolinecolor": "white"
           }
          },
          "shapedefaults": {
           "line": {
            "color": "#2a3f5f"
           }
          },
          "ternary": {
           "aaxis": {
            "gridcolor": "white",
            "linecolor": "white",
            "ticks": ""
           },
           "baxis": {
            "gridcolor": "white",
            "linecolor": "white",
            "ticks": ""
           },
           "bgcolor": "#E5ECF6",
           "caxis": {
            "gridcolor": "white",
            "linecolor": "white",
            "ticks": ""
           }
          },
          "title": {
           "x": 0.05
          },
          "xaxis": {
           "automargin": true,
           "gridcolor": "white",
           "linecolor": "white",
           "ticks": "",
           "title": {
            "standoff": 15
           },
           "zerolinecolor": "white",
           "zerolinewidth": 2
          },
          "yaxis": {
           "automargin": true,
           "gridcolor": "white",
           "linecolor": "white",
           "ticks": "",
           "title": {
            "standoff": 15
           },
           "zerolinecolor": "white",
           "zerolinewidth": 2
          }
         }
        },
        "title": {
         "text": "Percentage of Household in Positive and Negative Savings"
        },
        "width": 1000,
        "xaxis": {
         "anchor": "y",
         "domain": [
          0,
          0.2888888888888889
         ],
         "tickformat": ",.0%",
         "title": {
          "text": "Bill"
         },
         "visible": true
        },
        "xaxis2": {
         "anchor": "y2",
         "domain": [
          0.35555555555555557,
          0.6444444444444445
         ],
         "tickformat": ",.0%",
         "title": {
          "text": "Emission"
         },
         "visible": true
        },
        "xaxis3": {
         "anchor": "y3",
         "domain": [
          0.7111111111111111,
          1
         ],
         "tickformat": ",.0%",
         "title": {
          "text": "Total Energy"
         },
         "visible": true
        },
        "yaxis": {
         "anchor": "x",
         "domain": [
          0,
          1
         ],
         "visible": true
        },
        "yaxis2": {
         "anchor": "x2",
         "domain": [
          0,
          1
         ],
         "visible": false
        },
        "yaxis3": {
         "anchor": "x3",
         "domain": [
          0,
          1
         ],
         "visible": false
        }
       }
      }
     },
     "metadata": {},
     "output_type": "display_data"
    }
   ],
   "source": [
    "segment = 'segment2'\n",
    "results = figure_positive_negative_savings(segment, community_results)\n",
    "saving_results[f'segment2_{income}_pct_bill_positive_savings_%'] = results[0]*100\n",
    "saving_results[f'segment2_{income}_pct_emission_positive_savings_%'] = results[1]*100\n",
    "saving_results[f'segment2_{income}_pct_energy_positive_savings_%'] = results[2]*100"
   ]
  },
  {
   "cell_type": "markdown",
   "id": "5bcfb89a",
   "metadata": {},
   "source": [
    "### Segment 3"
   ]
  },
  {
   "cell_type": "code",
   "execution_count": 34,
   "id": "5c5c3d99",
   "metadata": {},
   "outputs": [
    {
     "data": {
      "application/vnd.plotly.v1+json": {
       "config": {
        "plotlyServerURL": "https://plot.ly"
       },
       "data": [
        {
         "marker": {
          "color": "red"
         },
         "name": "Negative",
         "orientation": "h",
         "text": [
          1,
          0.4,
          0.25,
          0.25,
          0.25,
          0.25,
          0.1875,
          0.125,
          0.0625,
          0.0625,
          0,
          0,
          0,
          0,
          0
         ],
         "textposition": "inside",
         "texttemplate": "%{text:.0%}",
         "type": "bar",
         "x": [
          1,
          0.4,
          0.25,
          0.25,
          0.25,
          0.25,
          0.1875,
          0.125,
          0.0625,
          0.0625,
          0,
          0,
          0,
          0,
          0
         ],
         "xaxis": "x",
         "y": [
          "Electric Cooking",
          "Mininum Efficiency Whole Home Electrification",
          "High Efficiency Heat Pump with Electric Heat Backup",
          "High Efficiency Whole Home Electrification",
          "Induction Cooking",
          "Mininum Efficiency Heat Pump with Electric Heat Backup",
          "Mininum Efficiency Heat Pump with Existing Heat Backup",
          "Heat Pump Water Heater",
          "Basic Enclosure + HPWH + High Efficiency HP/Electric Backup",
          "Basic Enclosure + High Efficiency Whole Home Electrification",
          "Basic Enclosure",
          "Enhanced Enclosure",
          "Enhanced Enclosure + HPWH + High Efficiency HP/Electric Backup",
          "Enhanced Enclosure + High Efficiency Whole Home Electrification",
          "Heat Pump Clothes Dryer"
         ],
         "yaxis": "y"
        },
        {
         "marker": {
          "color": "green"
         },
         "name": "Positive",
         "orientation": "h",
         "text": [
          0,
          0.6,
          0.75,
          0.75,
          0.75,
          0.75,
          0.8125,
          0.875,
          0.9375,
          0.9375,
          1,
          1,
          1,
          1,
          1
         ],
         "textposition": "inside",
         "texttemplate": "%{text:.0%}",
         "type": "bar",
         "x": [
          0,
          0.6,
          0.75,
          0.75,
          0.75,
          0.75,
          0.8125,
          0.875,
          0.9375,
          0.9375,
          1,
          1,
          1,
          1,
          1
         ],
         "xaxis": "x",
         "y": [
          "Electric Cooking",
          "Mininum Efficiency Whole Home Electrification",
          "High Efficiency Heat Pump with Electric Heat Backup",
          "High Efficiency Whole Home Electrification",
          "Induction Cooking",
          "Mininum Efficiency Heat Pump with Electric Heat Backup",
          "Mininum Efficiency Heat Pump with Existing Heat Backup",
          "Heat Pump Water Heater",
          "Basic Enclosure + HPWH + High Efficiency HP/Electric Backup",
          "Basic Enclosure + High Efficiency Whole Home Electrification",
          "Basic Enclosure",
          "Enhanced Enclosure",
          "Enhanced Enclosure + HPWH + High Efficiency HP/Electric Backup",
          "Enhanced Enclosure + High Efficiency Whole Home Electrification",
          "Heat Pump Clothes Dryer"
         ],
         "yaxis": "y"
        },
        {
         "marker": {
          "color": "red"
         },
         "orientation": "h",
         "showlegend": false,
         "text": [
          0,
          0,
          0,
          0,
          0,
          0,
          0.0625,
          0.0625,
          0,
          0,
          0,
          0,
          0,
          0,
          0
         ],
         "textposition": "inside",
         "texttemplate": "%{text:.0%}",
         "type": "bar",
         "x": [
          0,
          0,
          0,
          0,
          0,
          0,
          0.0625,
          0.0625,
          0,
          0,
          0,
          0,
          0,
          0,
          0
         ],
         "xaxis": "x2",
         "y": [
          "Electric Cooking",
          "Mininum Efficiency Whole Home Electrification",
          "High Efficiency Heat Pump with Electric Heat Backup",
          "High Efficiency Whole Home Electrification",
          "Induction Cooking",
          "Mininum Efficiency Heat Pump with Electric Heat Backup",
          "Mininum Efficiency Heat Pump with Existing Heat Backup",
          "Heat Pump Water Heater",
          "Basic Enclosure + HPWH + High Efficiency HP/Electric Backup",
          "Basic Enclosure + High Efficiency Whole Home Electrification",
          "Basic Enclosure",
          "Enhanced Enclosure",
          "Enhanced Enclosure + HPWH + High Efficiency HP/Electric Backup",
          "Enhanced Enclosure + High Efficiency Whole Home Electrification",
          "Heat Pump Clothes Dryer"
         ],
         "yaxis": "y2"
        },
        {
         "marker": {
          "color": "green"
         },
         "orientation": "h",
         "showlegend": false,
         "text": [
          1,
          1,
          1,
          1,
          1,
          1,
          0.9375,
          0.9375,
          1,
          1,
          1,
          1,
          1,
          1,
          1
         ],
         "textposition": "inside",
         "texttemplate": "%{text:.0%}",
         "type": "bar",
         "x": [
          1,
          1,
          1,
          1,
          1,
          1,
          0.9375,
          0.9375,
          1,
          1,
          1,
          1,
          1,
          1,
          1
         ],
         "xaxis": "x2",
         "y": [
          "Electric Cooking",
          "Mininum Efficiency Whole Home Electrification",
          "High Efficiency Heat Pump with Electric Heat Backup",
          "High Efficiency Whole Home Electrification",
          "Induction Cooking",
          "Mininum Efficiency Heat Pump with Electric Heat Backup",
          "Mininum Efficiency Heat Pump with Existing Heat Backup",
          "Heat Pump Water Heater",
          "Basic Enclosure + HPWH + High Efficiency HP/Electric Backup",
          "Basic Enclosure + High Efficiency Whole Home Electrification",
          "Basic Enclosure",
          "Enhanced Enclosure",
          "Enhanced Enclosure + HPWH + High Efficiency HP/Electric Backup",
          "Enhanced Enclosure + High Efficiency Whole Home Electrification",
          "Heat Pump Clothes Dryer"
         ],
         "yaxis": "y2"
        },
        {
         "marker": {
          "color": "red"
         },
         "orientation": "h",
         "showlegend": false,
         "text": [
          0,
          0,
          0,
          0,
          0,
          0,
          0.0625,
          0,
          0,
          0,
          0,
          0,
          0,
          0,
          0
         ],
         "textposition": "inside",
         "texttemplate": "%{text:.0%}",
         "type": "bar",
         "x": [
          0,
          0,
          0,
          0,
          0,
          0,
          0.0625,
          0,
          0,
          0,
          0,
          0,
          0,
          0,
          0
         ],
         "xaxis": "x3",
         "y": [
          "Electric Cooking",
          "Mininum Efficiency Whole Home Electrification",
          "High Efficiency Heat Pump with Electric Heat Backup",
          "High Efficiency Whole Home Electrification",
          "Induction Cooking",
          "Mininum Efficiency Heat Pump with Electric Heat Backup",
          "Mininum Efficiency Heat Pump with Existing Heat Backup",
          "Heat Pump Water Heater",
          "Basic Enclosure + HPWH + High Efficiency HP/Electric Backup",
          "Basic Enclosure + High Efficiency Whole Home Electrification",
          "Basic Enclosure",
          "Enhanced Enclosure",
          "Enhanced Enclosure + HPWH + High Efficiency HP/Electric Backup",
          "Enhanced Enclosure + High Efficiency Whole Home Electrification",
          "Heat Pump Clothes Dryer"
         ],
         "yaxis": "y3"
        },
        {
         "marker": {
          "color": "green"
         },
         "orientation": "h",
         "showlegend": false,
         "text": [
          1,
          1,
          1,
          1,
          1,
          1,
          0.9375,
          1,
          1,
          1,
          1,
          1,
          1,
          1,
          1
         ],
         "textposition": "inside",
         "texttemplate": "%{text:.0%}",
         "type": "bar",
         "x": [
          1,
          1,
          1,
          1,
          1,
          1,
          0.9375,
          1,
          1,
          1,
          1,
          1,
          1,
          1,
          1
         ],
         "xaxis": "x3",
         "y": [
          "Electric Cooking",
          "Mininum Efficiency Whole Home Electrification",
          "High Efficiency Heat Pump with Electric Heat Backup",
          "High Efficiency Whole Home Electrification",
          "Induction Cooking",
          "Mininum Efficiency Heat Pump with Electric Heat Backup",
          "Mininum Efficiency Heat Pump with Existing Heat Backup",
          "Heat Pump Water Heater",
          "Basic Enclosure + HPWH + High Efficiency HP/Electric Backup",
          "Basic Enclosure + High Efficiency Whole Home Electrification",
          "Basic Enclosure",
          "Enhanced Enclosure",
          "Enhanced Enclosure + HPWH + High Efficiency HP/Electric Backup",
          "Enhanced Enclosure + High Efficiency Whole Home Electrification",
          "Heat Pump Clothes Dryer"
         ],
         "yaxis": "y3"
        }
       ],
       "layout": {
        "autosize": false,
        "barmode": "relative",
        "font": {
         "size": 10
        },
        "height": 500,
        "template": {
         "data": {
          "bar": [
           {
            "error_x": {
             "color": "#2a3f5f"
            },
            "error_y": {
             "color": "#2a3f5f"
            },
            "marker": {
             "line": {
              "color": "#E5ECF6",
              "width": 0.5
             },
             "pattern": {
              "fillmode": "overlay",
              "size": 10,
              "solidity": 0.2
             }
            },
            "type": "bar"
           }
          ],
          "barpolar": [
           {
            "marker": {
             "line": {
              "color": "#E5ECF6",
              "width": 0.5
             },
             "pattern": {
              "fillmode": "overlay",
              "size": 10,
              "solidity": 0.2
             }
            },
            "type": "barpolar"
           }
          ],
          "carpet": [
           {
            "aaxis": {
             "endlinecolor": "#2a3f5f",
             "gridcolor": "white",
             "linecolor": "white",
             "minorgridcolor": "white",
             "startlinecolor": "#2a3f5f"
            },
            "baxis": {
             "endlinecolor": "#2a3f5f",
             "gridcolor": "white",
             "linecolor": "white",
             "minorgridcolor": "white",
             "startlinecolor": "#2a3f5f"
            },
            "type": "carpet"
           }
          ],
          "choropleth": [
           {
            "colorbar": {
             "outlinewidth": 0,
             "ticks": ""
            },
            "type": "choropleth"
           }
          ],
          "contour": [
           {
            "colorbar": {
             "outlinewidth": 0,
             "ticks": ""
            },
            "colorscale": [
             [
              0,
              "#0d0887"
             ],
             [
              0.1111111111111111,
              "#46039f"
             ],
             [
              0.2222222222222222,
              "#7201a8"
             ],
             [
              0.3333333333333333,
              "#9c179e"
             ],
             [
              0.4444444444444444,
              "#bd3786"
             ],
             [
              0.5555555555555556,
              "#d8576b"
             ],
             [
              0.6666666666666666,
              "#ed7953"
             ],
             [
              0.7777777777777778,
              "#fb9f3a"
             ],
             [
              0.8888888888888888,
              "#fdca26"
             ],
             [
              1,
              "#f0f921"
             ]
            ],
            "type": "contour"
           }
          ],
          "contourcarpet": [
           {
            "colorbar": {
             "outlinewidth": 0,
             "ticks": ""
            },
            "type": "contourcarpet"
           }
          ],
          "heatmap": [
           {
            "colorbar": {
             "outlinewidth": 0,
             "ticks": ""
            },
            "colorscale": [
             [
              0,
              "#0d0887"
             ],
             [
              0.1111111111111111,
              "#46039f"
             ],
             [
              0.2222222222222222,
              "#7201a8"
             ],
             [
              0.3333333333333333,
              "#9c179e"
             ],
             [
              0.4444444444444444,
              "#bd3786"
             ],
             [
              0.5555555555555556,
              "#d8576b"
             ],
             [
              0.6666666666666666,
              "#ed7953"
             ],
             [
              0.7777777777777778,
              "#fb9f3a"
             ],
             [
              0.8888888888888888,
              "#fdca26"
             ],
             [
              1,
              "#f0f921"
             ]
            ],
            "type": "heatmap"
           }
          ],
          "heatmapgl": [
           {
            "colorbar": {
             "outlinewidth": 0,
             "ticks": ""
            },
            "colorscale": [
             [
              0,
              "#0d0887"
             ],
             [
              0.1111111111111111,
              "#46039f"
             ],
             [
              0.2222222222222222,
              "#7201a8"
             ],
             [
              0.3333333333333333,
              "#9c179e"
             ],
             [
              0.4444444444444444,
              "#bd3786"
             ],
             [
              0.5555555555555556,
              "#d8576b"
             ],
             [
              0.6666666666666666,
              "#ed7953"
             ],
             [
              0.7777777777777778,
              "#fb9f3a"
             ],
             [
              0.8888888888888888,
              "#fdca26"
             ],
             [
              1,
              "#f0f921"
             ]
            ],
            "type": "heatmapgl"
           }
          ],
          "histogram": [
           {
            "marker": {
             "pattern": {
              "fillmode": "overlay",
              "size": 10,
              "solidity": 0.2
             }
            },
            "type": "histogram"
           }
          ],
          "histogram2d": [
           {
            "colorbar": {
             "outlinewidth": 0,
             "ticks": ""
            },
            "colorscale": [
             [
              0,
              "#0d0887"
             ],
             [
              0.1111111111111111,
              "#46039f"
             ],
             [
              0.2222222222222222,
              "#7201a8"
             ],
             [
              0.3333333333333333,
              "#9c179e"
             ],
             [
              0.4444444444444444,
              "#bd3786"
             ],
             [
              0.5555555555555556,
              "#d8576b"
             ],
             [
              0.6666666666666666,
              "#ed7953"
             ],
             [
              0.7777777777777778,
              "#fb9f3a"
             ],
             [
              0.8888888888888888,
              "#fdca26"
             ],
             [
              1,
              "#f0f921"
             ]
            ],
            "type": "histogram2d"
           }
          ],
          "histogram2dcontour": [
           {
            "colorbar": {
             "outlinewidth": 0,
             "ticks": ""
            },
            "colorscale": [
             [
              0,
              "#0d0887"
             ],
             [
              0.1111111111111111,
              "#46039f"
             ],
             [
              0.2222222222222222,
              "#7201a8"
             ],
             [
              0.3333333333333333,
              "#9c179e"
             ],
             [
              0.4444444444444444,
              "#bd3786"
             ],
             [
              0.5555555555555556,
              "#d8576b"
             ],
             [
              0.6666666666666666,
              "#ed7953"
             ],
             [
              0.7777777777777778,
              "#fb9f3a"
             ],
             [
              0.8888888888888888,
              "#fdca26"
             ],
             [
              1,
              "#f0f921"
             ]
            ],
            "type": "histogram2dcontour"
           }
          ],
          "mesh3d": [
           {
            "colorbar": {
             "outlinewidth": 0,
             "ticks": ""
            },
            "type": "mesh3d"
           }
          ],
          "parcoords": [
           {
            "line": {
             "colorbar": {
              "outlinewidth": 0,
              "ticks": ""
             }
            },
            "type": "parcoords"
           }
          ],
          "pie": [
           {
            "automargin": true,
            "type": "pie"
           }
          ],
          "scatter": [
           {
            "fillpattern": {
             "fillmode": "overlay",
             "size": 10,
             "solidity": 0.2
            },
            "type": "scatter"
           }
          ],
          "scatter3d": [
           {
            "line": {
             "colorbar": {
              "outlinewidth": 0,
              "ticks": ""
             }
            },
            "marker": {
             "colorbar": {
              "outlinewidth": 0,
              "ticks": ""
             }
            },
            "type": "scatter3d"
           }
          ],
          "scattercarpet": [
           {
            "marker": {
             "colorbar": {
              "outlinewidth": 0,
              "ticks": ""
             }
            },
            "type": "scattercarpet"
           }
          ],
          "scattergeo": [
           {
            "marker": {
             "colorbar": {
              "outlinewidth": 0,
              "ticks": ""
             }
            },
            "type": "scattergeo"
           }
          ],
          "scattergl": [
           {
            "marker": {
             "colorbar": {
              "outlinewidth": 0,
              "ticks": ""
             }
            },
            "type": "scattergl"
           }
          ],
          "scattermapbox": [
           {
            "marker": {
             "colorbar": {
              "outlinewidth": 0,
              "ticks": ""
             }
            },
            "type": "scattermapbox"
           }
          ],
          "scatterpolar": [
           {
            "marker": {
             "colorbar": {
              "outlinewidth": 0,
              "ticks": ""
             }
            },
            "type": "scatterpolar"
           }
          ],
          "scatterpolargl": [
           {
            "marker": {
             "colorbar": {
              "outlinewidth": 0,
              "ticks": ""
             }
            },
            "type": "scatterpolargl"
           }
          ],
          "scatterternary": [
           {
            "marker": {
             "colorbar": {
              "outlinewidth": 0,
              "ticks": ""
             }
            },
            "type": "scatterternary"
           }
          ],
          "surface": [
           {
            "colorbar": {
             "outlinewidth": 0,
             "ticks": ""
            },
            "colorscale": [
             [
              0,
              "#0d0887"
             ],
             [
              0.1111111111111111,
              "#46039f"
             ],
             [
              0.2222222222222222,
              "#7201a8"
             ],
             [
              0.3333333333333333,
              "#9c179e"
             ],
             [
              0.4444444444444444,
              "#bd3786"
             ],
             [
              0.5555555555555556,
              "#d8576b"
             ],
             [
              0.6666666666666666,
              "#ed7953"
             ],
             [
              0.7777777777777778,
              "#fb9f3a"
             ],
             [
              0.8888888888888888,
              "#fdca26"
             ],
             [
              1,
              "#f0f921"
             ]
            ],
            "type": "surface"
           }
          ],
          "table": [
           {
            "cells": {
             "fill": {
              "color": "#EBF0F8"
             },
             "line": {
              "color": "white"
             }
            },
            "header": {
             "fill": {
              "color": "#C8D4E3"
             },
             "line": {
              "color": "white"
             }
            },
            "type": "table"
           }
          ]
         },
         "layout": {
          "annotationdefaults": {
           "arrowcolor": "#2a3f5f",
           "arrowhead": 0,
           "arrowwidth": 1
          },
          "autotypenumbers": "strict",
          "coloraxis": {
           "colorbar": {
            "outlinewidth": 0,
            "ticks": ""
           }
          },
          "colorscale": {
           "diverging": [
            [
             0,
             "#8e0152"
            ],
            [
             0.1,
             "#c51b7d"
            ],
            [
             0.2,
             "#de77ae"
            ],
            [
             0.3,
             "#f1b6da"
            ],
            [
             0.4,
             "#fde0ef"
            ],
            [
             0.5,
             "#f7f7f7"
            ],
            [
             0.6,
             "#e6f5d0"
            ],
            [
             0.7,
             "#b8e186"
            ],
            [
             0.8,
             "#7fbc41"
            ],
            [
             0.9,
             "#4d9221"
            ],
            [
             1,
             "#276419"
            ]
           ],
           "sequential": [
            [
             0,
             "#0d0887"
            ],
            [
             0.1111111111111111,
             "#46039f"
            ],
            [
             0.2222222222222222,
             "#7201a8"
            ],
            [
             0.3333333333333333,
             "#9c179e"
            ],
            [
             0.4444444444444444,
             "#bd3786"
            ],
            [
             0.5555555555555556,
             "#d8576b"
            ],
            [
             0.6666666666666666,
             "#ed7953"
            ],
            [
             0.7777777777777778,
             "#fb9f3a"
            ],
            [
             0.8888888888888888,
             "#fdca26"
            ],
            [
             1,
             "#f0f921"
            ]
           ],
           "sequentialminus": [
            [
             0,
             "#0d0887"
            ],
            [
             0.1111111111111111,
             "#46039f"
            ],
            [
             0.2222222222222222,
             "#7201a8"
            ],
            [
             0.3333333333333333,
             "#9c179e"
            ],
            [
             0.4444444444444444,
             "#bd3786"
            ],
            [
             0.5555555555555556,
             "#d8576b"
            ],
            [
             0.6666666666666666,
             "#ed7953"
            ],
            [
             0.7777777777777778,
             "#fb9f3a"
            ],
            [
             0.8888888888888888,
             "#fdca26"
            ],
            [
             1,
             "#f0f921"
            ]
           ]
          },
          "colorway": [
           "#636efa",
           "#EF553B",
           "#00cc96",
           "#ab63fa",
           "#FFA15A",
           "#19d3f3",
           "#FF6692",
           "#B6E880",
           "#FF97FF",
           "#FECB52"
          ],
          "font": {
           "color": "#2a3f5f"
          },
          "geo": {
           "bgcolor": "white",
           "lakecolor": "white",
           "landcolor": "#E5ECF6",
           "showlakes": true,
           "showland": true,
           "subunitcolor": "white"
          },
          "hoverlabel": {
           "align": "left"
          },
          "hovermode": "closest",
          "mapbox": {
           "style": "light"
          },
          "paper_bgcolor": "white",
          "plot_bgcolor": "#E5ECF6",
          "polar": {
           "angularaxis": {
            "gridcolor": "white",
            "linecolor": "white",
            "ticks": ""
           },
           "bgcolor": "#E5ECF6",
           "radialaxis": {
            "gridcolor": "white",
            "linecolor": "white",
            "ticks": ""
           }
          },
          "scene": {
           "xaxis": {
            "backgroundcolor": "#E5ECF6",
            "gridcolor": "white",
            "gridwidth": 2,
            "linecolor": "white",
            "showbackground": true,
            "ticks": "",
            "zerolinecolor": "white"
           },
           "yaxis": {
            "backgroundcolor": "#E5ECF6",
            "gridcolor": "white",
            "gridwidth": 2,
            "linecolor": "white",
            "showbackground": true,
            "ticks": "",
            "zerolinecolor": "white"
           },
           "zaxis": {
            "backgroundcolor": "#E5ECF6",
            "gridcolor": "white",
            "gridwidth": 2,
            "linecolor": "white",
            "showbackground": true,
            "ticks": "",
            "zerolinecolor": "white"
           }
          },
          "shapedefaults": {
           "line": {
            "color": "#2a3f5f"
           }
          },
          "ternary": {
           "aaxis": {
            "gridcolor": "white",
            "linecolor": "white",
            "ticks": ""
           },
           "baxis": {
            "gridcolor": "white",
            "linecolor": "white",
            "ticks": ""
           },
           "bgcolor": "#E5ECF6",
           "caxis": {
            "gridcolor": "white",
            "linecolor": "white",
            "ticks": ""
           }
          },
          "title": {
           "x": 0.05
          },
          "xaxis": {
           "automargin": true,
           "gridcolor": "white",
           "linecolor": "white",
           "ticks": "",
           "title": {
            "standoff": 15
           },
           "zerolinecolor": "white",
           "zerolinewidth": 2
          },
          "yaxis": {
           "automargin": true,
           "gridcolor": "white",
           "linecolor": "white",
           "ticks": "",
           "title": {
            "standoff": 15
           },
           "zerolinecolor": "white",
           "zerolinewidth": 2
          }
         }
        },
        "title": {
         "text": "Percentage of Household in Positive and Negative Savings"
        },
        "width": 1000,
        "xaxis": {
         "anchor": "y",
         "domain": [
          0,
          0.2888888888888889
         ],
         "tickformat": ",.0%",
         "title": {
          "text": "Bill"
         },
         "visible": true
        },
        "xaxis2": {
         "anchor": "y2",
         "domain": [
          0.35555555555555557,
          0.6444444444444445
         ],
         "tickformat": ",.0%",
         "title": {
          "text": "Emission"
         },
         "visible": true
        },
        "xaxis3": {
         "anchor": "y3",
         "domain": [
          0.7111111111111111,
          1
         ],
         "tickformat": ",.0%",
         "title": {
          "text": "Total Energy"
         },
         "visible": true
        },
        "yaxis": {
         "anchor": "x",
         "domain": [
          0,
          1
         ],
         "visible": true
        },
        "yaxis2": {
         "anchor": "x2",
         "domain": [
          0,
          1
         ],
         "visible": false
        },
        "yaxis3": {
         "anchor": "x3",
         "domain": [
          0,
          1
         ],
         "visible": false
        }
       }
      }
     },
     "metadata": {},
     "output_type": "display_data"
    }
   ],
   "source": [
    "segment = 'segment3'\n",
    "results = figure_positive_negative_savings(segment, community_results) \n",
    "saving_results[f'segment3_{income}_pct_bill_positive_savings_%'] = results[0]*100\n",
    "saving_results[f'segment3_{income}_pct_emission_positive_savings_%'] = results[1]*100\n",
    "saving_results[f'segment3_{income}_pct_energy_positive_savings_%'] = results[2]*100"
   ]
  },
  {
   "cell_type": "markdown",
   "id": "a37b751c",
   "metadata": {},
   "source": [
    "### Segment 4"
   ]
  },
  {
   "cell_type": "code",
   "execution_count": 35,
   "id": "20f060e0",
   "metadata": {},
   "outputs": [
    {
     "data": {
      "application/vnd.plotly.v1+json": {
       "config": {
        "plotlyServerURL": "https://plot.ly"
       },
       "data": [
        {
         "marker": {
          "color": "red"
         },
         "name": "Negative",
         "orientation": "h",
         "text": [
          1,
          0.4482758620689655,
          0.23076923076923078,
          0.20754716981132076,
          0.15384615384615385,
          0.11320754716981132,
          0.09433962264150944,
          0.03773584905660377,
          0,
          0,
          0,
          0,
          0,
          0,
          0
         ],
         "textposition": "inside",
         "texttemplate": "%{text:.0%}",
         "type": "bar",
         "x": [
          1,
          0.4482758620689655,
          0.23076923076923078,
          0.20754716981132076,
          0.15384615384615385,
          0.11320754716981132,
          0.09433962264150944,
          0.03773584905660377,
          0,
          0,
          0,
          0,
          0,
          0,
          0
         ],
         "xaxis": "x",
         "y": [
          "Electric Cooking",
          "Mininum Efficiency Whole Home Electrification",
          "Induction Cooking",
          "Mininum Efficiency Heat Pump with Electric Heat Backup",
          "Mininum Efficiency Heat Pump with Existing Heat Backup",
          "Heat Pump Water Heater",
          "High Efficiency Heat Pump with Electric Heat Backup",
          "High Efficiency Whole Home Electrification",
          "Basic Enclosure",
          "Basic Enclosure + HPWH + High Efficiency HP/Electric Backup",
          "Basic Enclosure + High Efficiency Whole Home Electrification",
          "Enhanced Enclosure",
          "Enhanced Enclosure + HPWH + High Efficiency HP/Electric Backup",
          "Enhanced Enclosure + High Efficiency Whole Home Electrification",
          "Heat Pump Clothes Dryer"
         ],
         "yaxis": "y"
        },
        {
         "marker": {
          "color": "green"
         },
         "name": "Positive",
         "orientation": "h",
         "text": [
          0,
          0.5517241379310345,
          0.7692307692307693,
          0.7924528301886793,
          0.8461538461538461,
          0.8867924528301887,
          0.9056603773584906,
          0.9622641509433962,
          1,
          1,
          1,
          1,
          1,
          1,
          1
         ],
         "textposition": "inside",
         "texttemplate": "%{text:.0%}",
         "type": "bar",
         "x": [
          0,
          0.5517241379310345,
          0.7692307692307693,
          0.7924528301886793,
          0.8461538461538461,
          0.8867924528301887,
          0.9056603773584906,
          0.9622641509433962,
          1,
          1,
          1,
          1,
          1,
          1,
          1
         ],
         "xaxis": "x",
         "y": [
          "Electric Cooking",
          "Mininum Efficiency Whole Home Electrification",
          "Induction Cooking",
          "Mininum Efficiency Heat Pump with Electric Heat Backup",
          "Mininum Efficiency Heat Pump with Existing Heat Backup",
          "Heat Pump Water Heater",
          "High Efficiency Heat Pump with Electric Heat Backup",
          "High Efficiency Whole Home Electrification",
          "Basic Enclosure",
          "Basic Enclosure + HPWH + High Efficiency HP/Electric Backup",
          "Basic Enclosure + High Efficiency Whole Home Electrification",
          "Enhanced Enclosure",
          "Enhanced Enclosure + HPWH + High Efficiency HP/Electric Backup",
          "Enhanced Enclosure + High Efficiency Whole Home Electrification",
          "Heat Pump Clothes Dryer"
         ],
         "yaxis": "y"
        },
        {
         "marker": {
          "color": "red"
         },
         "orientation": "h",
         "showlegend": false,
         "text": [
          0,
          0.034482758620689655,
          0,
          0.03773584905660377,
          0.057692307692307696,
          0.03773584905660377,
          0,
          0,
          0,
          0,
          0,
          0,
          0,
          0,
          0
         ],
         "textposition": "inside",
         "texttemplate": "%{text:.0%}",
         "type": "bar",
         "x": [
          0,
          0.034482758620689655,
          0,
          0.03773584905660377,
          0.057692307692307696,
          0.03773584905660377,
          0,
          0,
          0,
          0,
          0,
          0,
          0,
          0,
          0
         ],
         "xaxis": "x2",
         "y": [
          "Electric Cooking",
          "Mininum Efficiency Whole Home Electrification",
          "Induction Cooking",
          "Mininum Efficiency Heat Pump with Electric Heat Backup",
          "Mininum Efficiency Heat Pump with Existing Heat Backup",
          "Heat Pump Water Heater",
          "High Efficiency Heat Pump with Electric Heat Backup",
          "High Efficiency Whole Home Electrification",
          "Basic Enclosure",
          "Basic Enclosure + HPWH + High Efficiency HP/Electric Backup",
          "Basic Enclosure + High Efficiency Whole Home Electrification",
          "Enhanced Enclosure",
          "Enhanced Enclosure + HPWH + High Efficiency HP/Electric Backup",
          "Enhanced Enclosure + High Efficiency Whole Home Electrification",
          "Heat Pump Clothes Dryer"
         ],
         "yaxis": "y2"
        },
        {
         "marker": {
          "color": "green"
         },
         "orientation": "h",
         "showlegend": false,
         "text": [
          1,
          0.9655172413793104,
          1,
          0.9622641509433962,
          0.9423076923076923,
          0.9622641509433962,
          1,
          1,
          1,
          1,
          1,
          1,
          1,
          1,
          1
         ],
         "textposition": "inside",
         "texttemplate": "%{text:.0%}",
         "type": "bar",
         "x": [
          1,
          0.9655172413793104,
          1,
          0.9622641509433962,
          0.9423076923076923,
          0.9622641509433962,
          1,
          1,
          1,
          1,
          1,
          1,
          1,
          1,
          1
         ],
         "xaxis": "x2",
         "y": [
          "Electric Cooking",
          "Mininum Efficiency Whole Home Electrification",
          "Induction Cooking",
          "Mininum Efficiency Heat Pump with Electric Heat Backup",
          "Mininum Efficiency Heat Pump with Existing Heat Backup",
          "Heat Pump Water Heater",
          "High Efficiency Heat Pump with Electric Heat Backup",
          "High Efficiency Whole Home Electrification",
          "Basic Enclosure",
          "Basic Enclosure + HPWH + High Efficiency HP/Electric Backup",
          "Basic Enclosure + High Efficiency Whole Home Electrification",
          "Enhanced Enclosure",
          "Enhanced Enclosure + HPWH + High Efficiency HP/Electric Backup",
          "Enhanced Enclosure + High Efficiency Whole Home Electrification",
          "Heat Pump Clothes Dryer"
         ],
         "yaxis": "y2"
        },
        {
         "marker": {
          "color": "red"
         },
         "orientation": "h",
         "showlegend": false,
         "text": [
          0,
          0.034482758620689655,
          0,
          0.03773584905660377,
          0.057692307692307696,
          0.018867924528301886,
          0,
          0,
          0,
          0,
          0,
          0,
          0,
          0,
          0
         ],
         "textposition": "inside",
         "texttemplate": "%{text:.0%}",
         "type": "bar",
         "x": [
          0,
          0.034482758620689655,
          0,
          0.03773584905660377,
          0.057692307692307696,
          0.018867924528301886,
          0,
          0,
          0,
          0,
          0,
          0,
          0,
          0,
          0
         ],
         "xaxis": "x3",
         "y": [
          "Electric Cooking",
          "Mininum Efficiency Whole Home Electrification",
          "Induction Cooking",
          "Mininum Efficiency Heat Pump with Electric Heat Backup",
          "Mininum Efficiency Heat Pump with Existing Heat Backup",
          "Heat Pump Water Heater",
          "High Efficiency Heat Pump with Electric Heat Backup",
          "High Efficiency Whole Home Electrification",
          "Basic Enclosure",
          "Basic Enclosure + HPWH + High Efficiency HP/Electric Backup",
          "Basic Enclosure + High Efficiency Whole Home Electrification",
          "Enhanced Enclosure",
          "Enhanced Enclosure + HPWH + High Efficiency HP/Electric Backup",
          "Enhanced Enclosure + High Efficiency Whole Home Electrification",
          "Heat Pump Clothes Dryer"
         ],
         "yaxis": "y3"
        },
        {
         "marker": {
          "color": "green"
         },
         "orientation": "h",
         "showlegend": false,
         "text": [
          1,
          0.9655172413793104,
          1,
          0.9622641509433962,
          0.9423076923076923,
          0.9811320754716981,
          1,
          1,
          1,
          1,
          1,
          1,
          1,
          1,
          1
         ],
         "textposition": "inside",
         "texttemplate": "%{text:.0%}",
         "type": "bar",
         "x": [
          1,
          0.9655172413793104,
          1,
          0.9622641509433962,
          0.9423076923076923,
          0.9811320754716981,
          1,
          1,
          1,
          1,
          1,
          1,
          1,
          1,
          1
         ],
         "xaxis": "x3",
         "y": [
          "Electric Cooking",
          "Mininum Efficiency Whole Home Electrification",
          "Induction Cooking",
          "Mininum Efficiency Heat Pump with Electric Heat Backup",
          "Mininum Efficiency Heat Pump with Existing Heat Backup",
          "Heat Pump Water Heater",
          "High Efficiency Heat Pump with Electric Heat Backup",
          "High Efficiency Whole Home Electrification",
          "Basic Enclosure",
          "Basic Enclosure + HPWH + High Efficiency HP/Electric Backup",
          "Basic Enclosure + High Efficiency Whole Home Electrification",
          "Enhanced Enclosure",
          "Enhanced Enclosure + HPWH + High Efficiency HP/Electric Backup",
          "Enhanced Enclosure + High Efficiency Whole Home Electrification",
          "Heat Pump Clothes Dryer"
         ],
         "yaxis": "y3"
        }
       ],
       "layout": {
        "autosize": false,
        "barmode": "relative",
        "font": {
         "size": 10
        },
        "height": 500,
        "template": {
         "data": {
          "bar": [
           {
            "error_x": {
             "color": "#2a3f5f"
            },
            "error_y": {
             "color": "#2a3f5f"
            },
            "marker": {
             "line": {
              "color": "#E5ECF6",
              "width": 0.5
             },
             "pattern": {
              "fillmode": "overlay",
              "size": 10,
              "solidity": 0.2
             }
            },
            "type": "bar"
           }
          ],
          "barpolar": [
           {
            "marker": {
             "line": {
              "color": "#E5ECF6",
              "width": 0.5
             },
             "pattern": {
              "fillmode": "overlay",
              "size": 10,
              "solidity": 0.2
             }
            },
            "type": "barpolar"
           }
          ],
          "carpet": [
           {
            "aaxis": {
             "endlinecolor": "#2a3f5f",
             "gridcolor": "white",
             "linecolor": "white",
             "minorgridcolor": "white",
             "startlinecolor": "#2a3f5f"
            },
            "baxis": {
             "endlinecolor": "#2a3f5f",
             "gridcolor": "white",
             "linecolor": "white",
             "minorgridcolor": "white",
             "startlinecolor": "#2a3f5f"
            },
            "type": "carpet"
           }
          ],
          "choropleth": [
           {
            "colorbar": {
             "outlinewidth": 0,
             "ticks": ""
            },
            "type": "choropleth"
           }
          ],
          "contour": [
           {
            "colorbar": {
             "outlinewidth": 0,
             "ticks": ""
            },
            "colorscale": [
             [
              0,
              "#0d0887"
             ],
             [
              0.1111111111111111,
              "#46039f"
             ],
             [
              0.2222222222222222,
              "#7201a8"
             ],
             [
              0.3333333333333333,
              "#9c179e"
             ],
             [
              0.4444444444444444,
              "#bd3786"
             ],
             [
              0.5555555555555556,
              "#d8576b"
             ],
             [
              0.6666666666666666,
              "#ed7953"
             ],
             [
              0.7777777777777778,
              "#fb9f3a"
             ],
             [
              0.8888888888888888,
              "#fdca26"
             ],
             [
              1,
              "#f0f921"
             ]
            ],
            "type": "contour"
           }
          ],
          "contourcarpet": [
           {
            "colorbar": {
             "outlinewidth": 0,
             "ticks": ""
            },
            "type": "contourcarpet"
           }
          ],
          "heatmap": [
           {
            "colorbar": {
             "outlinewidth": 0,
             "ticks": ""
            },
            "colorscale": [
             [
              0,
              "#0d0887"
             ],
             [
              0.1111111111111111,
              "#46039f"
             ],
             [
              0.2222222222222222,
              "#7201a8"
             ],
             [
              0.3333333333333333,
              "#9c179e"
             ],
             [
              0.4444444444444444,
              "#bd3786"
             ],
             [
              0.5555555555555556,
              "#d8576b"
             ],
             [
              0.6666666666666666,
              "#ed7953"
             ],
             [
              0.7777777777777778,
              "#fb9f3a"
             ],
             [
              0.8888888888888888,
              "#fdca26"
             ],
             [
              1,
              "#f0f921"
             ]
            ],
            "type": "heatmap"
           }
          ],
          "heatmapgl": [
           {
            "colorbar": {
             "outlinewidth": 0,
             "ticks": ""
            },
            "colorscale": [
             [
              0,
              "#0d0887"
             ],
             [
              0.1111111111111111,
              "#46039f"
             ],
             [
              0.2222222222222222,
              "#7201a8"
             ],
             [
              0.3333333333333333,
              "#9c179e"
             ],
             [
              0.4444444444444444,
              "#bd3786"
             ],
             [
              0.5555555555555556,
              "#d8576b"
             ],
             [
              0.6666666666666666,
              "#ed7953"
             ],
             [
              0.7777777777777778,
              "#fb9f3a"
             ],
             [
              0.8888888888888888,
              "#fdca26"
             ],
             [
              1,
              "#f0f921"
             ]
            ],
            "type": "heatmapgl"
           }
          ],
          "histogram": [
           {
            "marker": {
             "pattern": {
              "fillmode": "overlay",
              "size": 10,
              "solidity": 0.2
             }
            },
            "type": "histogram"
           }
          ],
          "histogram2d": [
           {
            "colorbar": {
             "outlinewidth": 0,
             "ticks": ""
            },
            "colorscale": [
             [
              0,
              "#0d0887"
             ],
             [
              0.1111111111111111,
              "#46039f"
             ],
             [
              0.2222222222222222,
              "#7201a8"
             ],
             [
              0.3333333333333333,
              "#9c179e"
             ],
             [
              0.4444444444444444,
              "#bd3786"
             ],
             [
              0.5555555555555556,
              "#d8576b"
             ],
             [
              0.6666666666666666,
              "#ed7953"
             ],
             [
              0.7777777777777778,
              "#fb9f3a"
             ],
             [
              0.8888888888888888,
              "#fdca26"
             ],
             [
              1,
              "#f0f921"
             ]
            ],
            "type": "histogram2d"
           }
          ],
          "histogram2dcontour": [
           {
            "colorbar": {
             "outlinewidth": 0,
             "ticks": ""
            },
            "colorscale": [
             [
              0,
              "#0d0887"
             ],
             [
              0.1111111111111111,
              "#46039f"
             ],
             [
              0.2222222222222222,
              "#7201a8"
             ],
             [
              0.3333333333333333,
              "#9c179e"
             ],
             [
              0.4444444444444444,
              "#bd3786"
             ],
             [
              0.5555555555555556,
              "#d8576b"
             ],
             [
              0.6666666666666666,
              "#ed7953"
             ],
             [
              0.7777777777777778,
              "#fb9f3a"
             ],
             [
              0.8888888888888888,
              "#fdca26"
             ],
             [
              1,
              "#f0f921"
             ]
            ],
            "type": "histogram2dcontour"
           }
          ],
          "mesh3d": [
           {
            "colorbar": {
             "outlinewidth": 0,
             "ticks": ""
            },
            "type": "mesh3d"
           }
          ],
          "parcoords": [
           {
            "line": {
             "colorbar": {
              "outlinewidth": 0,
              "ticks": ""
             }
            },
            "type": "parcoords"
           }
          ],
          "pie": [
           {
            "automargin": true,
            "type": "pie"
           }
          ],
          "scatter": [
           {
            "fillpattern": {
             "fillmode": "overlay",
             "size": 10,
             "solidity": 0.2
            },
            "type": "scatter"
           }
          ],
          "scatter3d": [
           {
            "line": {
             "colorbar": {
              "outlinewidth": 0,
              "ticks": ""
             }
            },
            "marker": {
             "colorbar": {
              "outlinewidth": 0,
              "ticks": ""
             }
            },
            "type": "scatter3d"
           }
          ],
          "scattercarpet": [
           {
            "marker": {
             "colorbar": {
              "outlinewidth": 0,
              "ticks": ""
             }
            },
            "type": "scattercarpet"
           }
          ],
          "scattergeo": [
           {
            "marker": {
             "colorbar": {
              "outlinewidth": 0,
              "ticks": ""
             }
            },
            "type": "scattergeo"
           }
          ],
          "scattergl": [
           {
            "marker": {
             "colorbar": {
              "outlinewidth": 0,
              "ticks": ""
             }
            },
            "type": "scattergl"
           }
          ],
          "scattermapbox": [
           {
            "marker": {
             "colorbar": {
              "outlinewidth": 0,
              "ticks": ""
             }
            },
            "type": "scattermapbox"
           }
          ],
          "scatterpolar": [
           {
            "marker": {
             "colorbar": {
              "outlinewidth": 0,
              "ticks": ""
             }
            },
            "type": "scatterpolar"
           }
          ],
          "scatterpolargl": [
           {
            "marker": {
             "colorbar": {
              "outlinewidth": 0,
              "ticks": ""
             }
            },
            "type": "scatterpolargl"
           }
          ],
          "scatterternary": [
           {
            "marker": {
             "colorbar": {
              "outlinewidth": 0,
              "ticks": ""
             }
            },
            "type": "scatterternary"
           }
          ],
          "surface": [
           {
            "colorbar": {
             "outlinewidth": 0,
             "ticks": ""
            },
            "colorscale": [
             [
              0,
              "#0d0887"
             ],
             [
              0.1111111111111111,
              "#46039f"
             ],
             [
              0.2222222222222222,
              "#7201a8"
             ],
             [
              0.3333333333333333,
              "#9c179e"
             ],
             [
              0.4444444444444444,
              "#bd3786"
             ],
             [
              0.5555555555555556,
              "#d8576b"
             ],
             [
              0.6666666666666666,
              "#ed7953"
             ],
             [
              0.7777777777777778,
              "#fb9f3a"
             ],
             [
              0.8888888888888888,
              "#fdca26"
             ],
             [
              1,
              "#f0f921"
             ]
            ],
            "type": "surface"
           }
          ],
          "table": [
           {
            "cells": {
             "fill": {
              "color": "#EBF0F8"
             },
             "line": {
              "color": "white"
             }
            },
            "header": {
             "fill": {
              "color": "#C8D4E3"
             },
             "line": {
              "color": "white"
             }
            },
            "type": "table"
           }
          ]
         },
         "layout": {
          "annotationdefaults": {
           "arrowcolor": "#2a3f5f",
           "arrowhead": 0,
           "arrowwidth": 1
          },
          "autotypenumbers": "strict",
          "coloraxis": {
           "colorbar": {
            "outlinewidth": 0,
            "ticks": ""
           }
          },
          "colorscale": {
           "diverging": [
            [
             0,
             "#8e0152"
            ],
            [
             0.1,
             "#c51b7d"
            ],
            [
             0.2,
             "#de77ae"
            ],
            [
             0.3,
             "#f1b6da"
            ],
            [
             0.4,
             "#fde0ef"
            ],
            [
             0.5,
             "#f7f7f7"
            ],
            [
             0.6,
             "#e6f5d0"
            ],
            [
             0.7,
             "#b8e186"
            ],
            [
             0.8,
             "#7fbc41"
            ],
            [
             0.9,
             "#4d9221"
            ],
            [
             1,
             "#276419"
            ]
           ],
           "sequential": [
            [
             0,
             "#0d0887"
            ],
            [
             0.1111111111111111,
             "#46039f"
            ],
            [
             0.2222222222222222,
             "#7201a8"
            ],
            [
             0.3333333333333333,
             "#9c179e"
            ],
            [
             0.4444444444444444,
             "#bd3786"
            ],
            [
             0.5555555555555556,
             "#d8576b"
            ],
            [
             0.6666666666666666,
             "#ed7953"
            ],
            [
             0.7777777777777778,
             "#fb9f3a"
            ],
            [
             0.8888888888888888,
             "#fdca26"
            ],
            [
             1,
             "#f0f921"
            ]
           ],
           "sequentialminus": [
            [
             0,
             "#0d0887"
            ],
            [
             0.1111111111111111,
             "#46039f"
            ],
            [
             0.2222222222222222,
             "#7201a8"
            ],
            [
             0.3333333333333333,
             "#9c179e"
            ],
            [
             0.4444444444444444,
             "#bd3786"
            ],
            [
             0.5555555555555556,
             "#d8576b"
            ],
            [
             0.6666666666666666,
             "#ed7953"
            ],
            [
             0.7777777777777778,
             "#fb9f3a"
            ],
            [
             0.8888888888888888,
             "#fdca26"
            ],
            [
             1,
             "#f0f921"
            ]
           ]
          },
          "colorway": [
           "#636efa",
           "#EF553B",
           "#00cc96",
           "#ab63fa",
           "#FFA15A",
           "#19d3f3",
           "#FF6692",
           "#B6E880",
           "#FF97FF",
           "#FECB52"
          ],
          "font": {
           "color": "#2a3f5f"
          },
          "geo": {
           "bgcolor": "white",
           "lakecolor": "white",
           "landcolor": "#E5ECF6",
           "showlakes": true,
           "showland": true,
           "subunitcolor": "white"
          },
          "hoverlabel": {
           "align": "left"
          },
          "hovermode": "closest",
          "mapbox": {
           "style": "light"
          },
          "paper_bgcolor": "white",
          "plot_bgcolor": "#E5ECF6",
          "polar": {
           "angularaxis": {
            "gridcolor": "white",
            "linecolor": "white",
            "ticks": ""
           },
           "bgcolor": "#E5ECF6",
           "radialaxis": {
            "gridcolor": "white",
            "linecolor": "white",
            "ticks": ""
           }
          },
          "scene": {
           "xaxis": {
            "backgroundcolor": "#E5ECF6",
            "gridcolor": "white",
            "gridwidth": 2,
            "linecolor": "white",
            "showbackground": true,
            "ticks": "",
            "zerolinecolor": "white"
           },
           "yaxis": {
            "backgroundcolor": "#E5ECF6",
            "gridcolor": "white",
            "gridwidth": 2,
            "linecolor": "white",
            "showbackground": true,
            "ticks": "",
            "zerolinecolor": "white"
           },
           "zaxis": {
            "backgroundcolor": "#E5ECF6",
            "gridcolor": "white",
            "gridwidth": 2,
            "linecolor": "white",
            "showbackground": true,
            "ticks": "",
            "zerolinecolor": "white"
           }
          },
          "shapedefaults": {
           "line": {
            "color": "#2a3f5f"
           }
          },
          "ternary": {
           "aaxis": {
            "gridcolor": "white",
            "linecolor": "white",
            "ticks": ""
           },
           "baxis": {
            "gridcolor": "white",
            "linecolor": "white",
            "ticks": ""
           },
           "bgcolor": "#E5ECF6",
           "caxis": {
            "gridcolor": "white",
            "linecolor": "white",
            "ticks": ""
           }
          },
          "title": {
           "x": 0.05
          },
          "xaxis": {
           "automargin": true,
           "gridcolor": "white",
           "linecolor": "white",
           "ticks": "",
           "title": {
            "standoff": 15
           },
           "zerolinecolor": "white",
           "zerolinewidth": 2
          },
          "yaxis": {
           "automargin": true,
           "gridcolor": "white",
           "linecolor": "white",
           "ticks": "",
           "title": {
            "standoff": 15
           },
           "zerolinecolor": "white",
           "zerolinewidth": 2
          }
         }
        },
        "title": {
         "text": "Percentage of Household in Positive and Negative Savings"
        },
        "width": 1000,
        "xaxis": {
         "anchor": "y",
         "domain": [
          0,
          0.2888888888888889
         ],
         "tickformat": ",.0%",
         "title": {
          "text": "Bill"
         },
         "visible": true
        },
        "xaxis2": {
         "anchor": "y2",
         "domain": [
          0.35555555555555557,
          0.6444444444444445
         ],
         "tickformat": ",.0%",
         "title": {
          "text": "Emission"
         },
         "visible": true
        },
        "xaxis3": {
         "anchor": "y3",
         "domain": [
          0.7111111111111111,
          1
         ],
         "tickformat": ",.0%",
         "title": {
          "text": "Total Energy"
         },
         "visible": true
        },
        "yaxis": {
         "anchor": "x",
         "domain": [
          0,
          1
         ],
         "visible": true
        },
        "yaxis2": {
         "anchor": "x2",
         "domain": [
          0,
          1
         ],
         "visible": false
        },
        "yaxis3": {
         "anchor": "x3",
         "domain": [
          0,
          1
         ],
         "visible": false
        }
       }
      }
     },
     "metadata": {},
     "output_type": "display_data"
    }
   ],
   "source": [
    "segment = 'segment4'\n",
    "results = figure_positive_negative_savings(segment, community_results)\n",
    "saving_results[f'segment4_{income}_pct_bill_positive_savings_%'] = results[0]*100\n",
    "saving_results[f'segment4_{income}_pct_emission_positive_savings_%'] = results[1]*100\n",
    "saving_results[f'segment4_{income}_pct_energy_positive_savings_%'] = results[2]*100"
   ]
  },
  {
   "cell_type": "markdown",
   "id": "84767440",
   "metadata": {},
   "source": [
    "### Segment 5"
   ]
  },
  {
   "cell_type": "code",
   "execution_count": 36,
   "id": "ce27bfd9",
   "metadata": {},
   "outputs": [
    {
     "data": {
      "application/vnd.plotly.v1+json": {
       "config": {
        "plotlyServerURL": "https://plot.ly"
       },
       "data": [
        {
         "marker": {
          "color": "red"
         },
         "name": "Negative",
         "orientation": "h",
         "text": [
          1,
          0.96875,
          0.7687861271676301,
          0.5866666666666667,
          0.49282296650717705,
          0.4222222222222222,
          0.3377777777777778,
          0.29777777777777775,
          0.28888888888888886,
          0.27555555555555555,
          0.27111111111111114,
          0.26666666666666666,
          0.19555555555555557,
          0.011363636363636364,
          0.006134969325153374,
          0.0058823529411764705
         ],
         "textposition": "inside",
         "texttemplate": "%{text:.0%}",
         "type": "bar",
         "x": [
          1,
          0.96875,
          0.7687861271676301,
          0.5866666666666667,
          0.49282296650717705,
          0.4222222222222222,
          0.3377777777777778,
          0.29777777777777775,
          0.28888888888888886,
          0.27555555555555555,
          0.27111111111111114,
          0.26666666666666666,
          0.19555555555555557,
          0.011363636363636364,
          0.006134969325153374,
          0.0058823529411764705
         ],
         "xaxis": "x",
         "y": [
          "Electric Clothes Dryer",
          "Electric Cooking",
          "Mininum Efficiency Whole Home Electrification",
          "Mininum Efficiency Heat Pump with Electric Heat Backup",
          "Mininum Efficiency Heat Pump with Existing Heat Backup",
          "High Efficiency Heat Pump with Electric Heat Backup",
          "High Efficiency Whole Home Electrification",
          "Basic Enclosure + HPWH + High Efficiency HP/Electric Backup",
          "Enhanced Enclosure + HPWH + High Efficiency HP/Electric Backup",
          "Induction Cooking",
          "Basic Enclosure + High Efficiency Whole Home Electrification",
          "Enhanced Enclosure + High Efficiency Whole Home Electrification",
          "Heat Pump Water Heater",
          "Heat Pump Clothes Dryer",
          "Basic Enclosure",
          "Enhanced Enclosure"
         ],
         "yaxis": "y"
        },
        {
         "marker": {
          "color": "green"
         },
         "name": "Positive",
         "orientation": "h",
         "text": [
          0,
          0.03125,
          0.23121387283236994,
          0.41333333333333333,
          0.507177033492823,
          0.5777777777777777,
          0.6622222222222223,
          0.7022222222222222,
          0.7111111111111111,
          0.7244444444444444,
          0.7288888888888889,
          0.7333333333333333,
          0.8044444444444444,
          0.9886363636363636,
          0.9938650306748467,
          0.9941176470588236
         ],
         "textposition": "inside",
         "texttemplate": "%{text:.0%}",
         "type": "bar",
         "x": [
          0,
          0.03125,
          0.23121387283236994,
          0.41333333333333333,
          0.507177033492823,
          0.5777777777777777,
          0.6622222222222223,
          0.7022222222222222,
          0.7111111111111111,
          0.7244444444444444,
          0.7288888888888889,
          0.7333333333333333,
          0.8044444444444444,
          0.9886363636363636,
          0.9938650306748467,
          0.9941176470588236
         ],
         "xaxis": "x",
         "y": [
          "Electric Clothes Dryer",
          "Electric Cooking",
          "Mininum Efficiency Whole Home Electrification",
          "Mininum Efficiency Heat Pump with Electric Heat Backup",
          "Mininum Efficiency Heat Pump with Existing Heat Backup",
          "High Efficiency Heat Pump with Electric Heat Backup",
          "High Efficiency Whole Home Electrification",
          "Basic Enclosure + HPWH + High Efficiency HP/Electric Backup",
          "Enhanced Enclosure + HPWH + High Efficiency HP/Electric Backup",
          "Induction Cooking",
          "Basic Enclosure + High Efficiency Whole Home Electrification",
          "Enhanced Enclosure + High Efficiency Whole Home Electrification",
          "Heat Pump Water Heater",
          "Heat Pump Clothes Dryer",
          "Basic Enclosure",
          "Enhanced Enclosure"
         ],
         "yaxis": "y"
        },
        {
         "marker": {
          "color": "red"
         },
         "orientation": "h",
         "showlegend": false,
         "text": [
          0,
          0,
          0.057803468208092484,
          0.09333333333333334,
          0.41148325358851673,
          0.04888888888888889,
          0.044444444444444446,
          0.04,
          0.04,
          0,
          0.04,
          0.04,
          0.1288888888888889,
          0,
          0,
          0
         ],
         "textposition": "inside",
         "texttemplate": "%{text:.0%}",
         "type": "bar",
         "x": [
          0,
          0,
          0.057803468208092484,
          0.09333333333333334,
          0.41148325358851673,
          0.04888888888888889,
          0.044444444444444446,
          0.04,
          0.04,
          0,
          0.04,
          0.04,
          0.1288888888888889,
          0,
          0,
          0
         ],
         "xaxis": "x2",
         "y": [
          "Electric Clothes Dryer",
          "Electric Cooking",
          "Mininum Efficiency Whole Home Electrification",
          "Mininum Efficiency Heat Pump with Electric Heat Backup",
          "Mininum Efficiency Heat Pump with Existing Heat Backup",
          "High Efficiency Heat Pump with Electric Heat Backup",
          "High Efficiency Whole Home Electrification",
          "Basic Enclosure + HPWH + High Efficiency HP/Electric Backup",
          "Enhanced Enclosure + HPWH + High Efficiency HP/Electric Backup",
          "Induction Cooking",
          "Basic Enclosure + High Efficiency Whole Home Electrification",
          "Enhanced Enclosure + High Efficiency Whole Home Electrification",
          "Heat Pump Water Heater",
          "Heat Pump Clothes Dryer",
          "Basic Enclosure",
          "Enhanced Enclosure"
         ],
         "yaxis": "y2"
        },
        {
         "marker": {
          "color": "green"
         },
         "orientation": "h",
         "showlegend": false,
         "text": [
          1,
          1,
          0.9421965317919075,
          0.9066666666666666,
          0.5885167464114832,
          0.9511111111111111,
          0.9555555555555556,
          0.96,
          0.96,
          1,
          0.96,
          0.96,
          0.8711111111111111,
          1,
          1,
          1
         ],
         "textposition": "inside",
         "texttemplate": "%{text:.0%}",
         "type": "bar",
         "x": [
          1,
          1,
          0.9421965317919075,
          0.9066666666666666,
          0.5885167464114832,
          0.9511111111111111,
          0.9555555555555556,
          0.96,
          0.96,
          1,
          0.96,
          0.96,
          0.8711111111111111,
          1,
          1,
          1
         ],
         "xaxis": "x2",
         "y": [
          "Electric Clothes Dryer",
          "Electric Cooking",
          "Mininum Efficiency Whole Home Electrification",
          "Mininum Efficiency Heat Pump with Electric Heat Backup",
          "Mininum Efficiency Heat Pump with Existing Heat Backup",
          "High Efficiency Heat Pump with Electric Heat Backup",
          "High Efficiency Whole Home Electrification",
          "Basic Enclosure + HPWH + High Efficiency HP/Electric Backup",
          "Enhanced Enclosure + HPWH + High Efficiency HP/Electric Backup",
          "Induction Cooking",
          "Basic Enclosure + High Efficiency Whole Home Electrification",
          "Enhanced Enclosure + High Efficiency Whole Home Electrification",
          "Heat Pump Water Heater",
          "Heat Pump Clothes Dryer",
          "Basic Enclosure",
          "Enhanced Enclosure"
         ],
         "yaxis": "y2"
        },
        {
         "marker": {
          "color": "red"
         },
         "orientation": "h",
         "showlegend": false,
         "text": [
          0,
          0,
          0.057803468208092484,
          0.10222222222222223,
          0.430622009569378,
          0.04888888888888889,
          0.044444444444444446,
          0.044444444444444446,
          0.044444444444444446,
          0,
          0.044444444444444446,
          0.044444444444444446,
          0.07111111111111111,
          0,
          0,
          0
         ],
         "textposition": "inside",
         "texttemplate": "%{text:.0%}",
         "type": "bar",
         "x": [
          0,
          0,
          0.057803468208092484,
          0.10222222222222223,
          0.430622009569378,
          0.04888888888888889,
          0.044444444444444446,
          0.044444444444444446,
          0.044444444444444446,
          0,
          0.044444444444444446,
          0.044444444444444446,
          0.07111111111111111,
          0,
          0,
          0
         ],
         "xaxis": "x3",
         "y": [
          "Electric Clothes Dryer",
          "Electric Cooking",
          "Mininum Efficiency Whole Home Electrification",
          "Mininum Efficiency Heat Pump with Electric Heat Backup",
          "Mininum Efficiency Heat Pump with Existing Heat Backup",
          "High Efficiency Heat Pump with Electric Heat Backup",
          "High Efficiency Whole Home Electrification",
          "Basic Enclosure + HPWH + High Efficiency HP/Electric Backup",
          "Enhanced Enclosure + HPWH + High Efficiency HP/Electric Backup",
          "Induction Cooking",
          "Basic Enclosure + High Efficiency Whole Home Electrification",
          "Enhanced Enclosure + High Efficiency Whole Home Electrification",
          "Heat Pump Water Heater",
          "Heat Pump Clothes Dryer",
          "Basic Enclosure",
          "Enhanced Enclosure"
         ],
         "yaxis": "y3"
        },
        {
         "marker": {
          "color": "green"
         },
         "orientation": "h",
         "showlegend": false,
         "text": [
          1,
          1,
          0.9421965317919075,
          0.8977777777777778,
          0.569377990430622,
          0.9511111111111111,
          0.9555555555555556,
          0.9555555555555556,
          0.9555555555555556,
          1,
          0.9555555555555556,
          0.9555555555555556,
          0.9288888888888889,
          1,
          1,
          1
         ],
         "textposition": "inside",
         "texttemplate": "%{text:.0%}",
         "type": "bar",
         "x": [
          1,
          1,
          0.9421965317919075,
          0.8977777777777778,
          0.569377990430622,
          0.9511111111111111,
          0.9555555555555556,
          0.9555555555555556,
          0.9555555555555556,
          1,
          0.9555555555555556,
          0.9555555555555556,
          0.9288888888888889,
          1,
          1,
          1
         ],
         "xaxis": "x3",
         "y": [
          "Electric Clothes Dryer",
          "Electric Cooking",
          "Mininum Efficiency Whole Home Electrification",
          "Mininum Efficiency Heat Pump with Electric Heat Backup",
          "Mininum Efficiency Heat Pump with Existing Heat Backup",
          "High Efficiency Heat Pump with Electric Heat Backup",
          "High Efficiency Whole Home Electrification",
          "Basic Enclosure + HPWH + High Efficiency HP/Electric Backup",
          "Enhanced Enclosure + HPWH + High Efficiency HP/Electric Backup",
          "Induction Cooking",
          "Basic Enclosure + High Efficiency Whole Home Electrification",
          "Enhanced Enclosure + High Efficiency Whole Home Electrification",
          "Heat Pump Water Heater",
          "Heat Pump Clothes Dryer",
          "Basic Enclosure",
          "Enhanced Enclosure"
         ],
         "yaxis": "y3"
        }
       ],
       "layout": {
        "autosize": false,
        "barmode": "relative",
        "font": {
         "size": 10
        },
        "height": 500,
        "template": {
         "data": {
          "bar": [
           {
            "error_x": {
             "color": "#2a3f5f"
            },
            "error_y": {
             "color": "#2a3f5f"
            },
            "marker": {
             "line": {
              "color": "#E5ECF6",
              "width": 0.5
             },
             "pattern": {
              "fillmode": "overlay",
              "size": 10,
              "solidity": 0.2
             }
            },
            "type": "bar"
           }
          ],
          "barpolar": [
           {
            "marker": {
             "line": {
              "color": "#E5ECF6",
              "width": 0.5
             },
             "pattern": {
              "fillmode": "overlay",
              "size": 10,
              "solidity": 0.2
             }
            },
            "type": "barpolar"
           }
          ],
          "carpet": [
           {
            "aaxis": {
             "endlinecolor": "#2a3f5f",
             "gridcolor": "white",
             "linecolor": "white",
             "minorgridcolor": "white",
             "startlinecolor": "#2a3f5f"
            },
            "baxis": {
             "endlinecolor": "#2a3f5f",
             "gridcolor": "white",
             "linecolor": "white",
             "minorgridcolor": "white",
             "startlinecolor": "#2a3f5f"
            },
            "type": "carpet"
           }
          ],
          "choropleth": [
           {
            "colorbar": {
             "outlinewidth": 0,
             "ticks": ""
            },
            "type": "choropleth"
           }
          ],
          "contour": [
           {
            "colorbar": {
             "outlinewidth": 0,
             "ticks": ""
            },
            "colorscale": [
             [
              0,
              "#0d0887"
             ],
             [
              0.1111111111111111,
              "#46039f"
             ],
             [
              0.2222222222222222,
              "#7201a8"
             ],
             [
              0.3333333333333333,
              "#9c179e"
             ],
             [
              0.4444444444444444,
              "#bd3786"
             ],
             [
              0.5555555555555556,
              "#d8576b"
             ],
             [
              0.6666666666666666,
              "#ed7953"
             ],
             [
              0.7777777777777778,
              "#fb9f3a"
             ],
             [
              0.8888888888888888,
              "#fdca26"
             ],
             [
              1,
              "#f0f921"
             ]
            ],
            "type": "contour"
           }
          ],
          "contourcarpet": [
           {
            "colorbar": {
             "outlinewidth": 0,
             "ticks": ""
            },
            "type": "contourcarpet"
           }
          ],
          "heatmap": [
           {
            "colorbar": {
             "outlinewidth": 0,
             "ticks": ""
            },
            "colorscale": [
             [
              0,
              "#0d0887"
             ],
             [
              0.1111111111111111,
              "#46039f"
             ],
             [
              0.2222222222222222,
              "#7201a8"
             ],
             [
              0.3333333333333333,
              "#9c179e"
             ],
             [
              0.4444444444444444,
              "#bd3786"
             ],
             [
              0.5555555555555556,
              "#d8576b"
             ],
             [
              0.6666666666666666,
              "#ed7953"
             ],
             [
              0.7777777777777778,
              "#fb9f3a"
             ],
             [
              0.8888888888888888,
              "#fdca26"
             ],
             [
              1,
              "#f0f921"
             ]
            ],
            "type": "heatmap"
           }
          ],
          "heatmapgl": [
           {
            "colorbar": {
             "outlinewidth": 0,
             "ticks": ""
            },
            "colorscale": [
             [
              0,
              "#0d0887"
             ],
             [
              0.1111111111111111,
              "#46039f"
             ],
             [
              0.2222222222222222,
              "#7201a8"
             ],
             [
              0.3333333333333333,
              "#9c179e"
             ],
             [
              0.4444444444444444,
              "#bd3786"
             ],
             [
              0.5555555555555556,
              "#d8576b"
             ],
             [
              0.6666666666666666,
              "#ed7953"
             ],
             [
              0.7777777777777778,
              "#fb9f3a"
             ],
             [
              0.8888888888888888,
              "#fdca26"
             ],
             [
              1,
              "#f0f921"
             ]
            ],
            "type": "heatmapgl"
           }
          ],
          "histogram": [
           {
            "marker": {
             "pattern": {
              "fillmode": "overlay",
              "size": 10,
              "solidity": 0.2
             }
            },
            "type": "histogram"
           }
          ],
          "histogram2d": [
           {
            "colorbar": {
             "outlinewidth": 0,
             "ticks": ""
            },
            "colorscale": [
             [
              0,
              "#0d0887"
             ],
             [
              0.1111111111111111,
              "#46039f"
             ],
             [
              0.2222222222222222,
              "#7201a8"
             ],
             [
              0.3333333333333333,
              "#9c179e"
             ],
             [
              0.4444444444444444,
              "#bd3786"
             ],
             [
              0.5555555555555556,
              "#d8576b"
             ],
             [
              0.6666666666666666,
              "#ed7953"
             ],
             [
              0.7777777777777778,
              "#fb9f3a"
             ],
             [
              0.8888888888888888,
              "#fdca26"
             ],
             [
              1,
              "#f0f921"
             ]
            ],
            "type": "histogram2d"
           }
          ],
          "histogram2dcontour": [
           {
            "colorbar": {
             "outlinewidth": 0,
             "ticks": ""
            },
            "colorscale": [
             [
              0,
              "#0d0887"
             ],
             [
              0.1111111111111111,
              "#46039f"
             ],
             [
              0.2222222222222222,
              "#7201a8"
             ],
             [
              0.3333333333333333,
              "#9c179e"
             ],
             [
              0.4444444444444444,
              "#bd3786"
             ],
             [
              0.5555555555555556,
              "#d8576b"
             ],
             [
              0.6666666666666666,
              "#ed7953"
             ],
             [
              0.7777777777777778,
              "#fb9f3a"
             ],
             [
              0.8888888888888888,
              "#fdca26"
             ],
             [
              1,
              "#f0f921"
             ]
            ],
            "type": "histogram2dcontour"
           }
          ],
          "mesh3d": [
           {
            "colorbar": {
             "outlinewidth": 0,
             "ticks": ""
            },
            "type": "mesh3d"
           }
          ],
          "parcoords": [
           {
            "line": {
             "colorbar": {
              "outlinewidth": 0,
              "ticks": ""
             }
            },
            "type": "parcoords"
           }
          ],
          "pie": [
           {
            "automargin": true,
            "type": "pie"
           }
          ],
          "scatter": [
           {
            "fillpattern": {
             "fillmode": "overlay",
             "size": 10,
             "solidity": 0.2
            },
            "type": "scatter"
           }
          ],
          "scatter3d": [
           {
            "line": {
             "colorbar": {
              "outlinewidth": 0,
              "ticks": ""
             }
            },
            "marker": {
             "colorbar": {
              "outlinewidth": 0,
              "ticks": ""
             }
            },
            "type": "scatter3d"
           }
          ],
          "scattercarpet": [
           {
            "marker": {
             "colorbar": {
              "outlinewidth": 0,
              "ticks": ""
             }
            },
            "type": "scattercarpet"
           }
          ],
          "scattergeo": [
           {
            "marker": {
             "colorbar": {
              "outlinewidth": 0,
              "ticks": ""
             }
            },
            "type": "scattergeo"
           }
          ],
          "scattergl": [
           {
            "marker": {
             "colorbar": {
              "outlinewidth": 0,
              "ticks": ""
             }
            },
            "type": "scattergl"
           }
          ],
          "scattermapbox": [
           {
            "marker": {
             "colorbar": {
              "outlinewidth": 0,
              "ticks": ""
             }
            },
            "type": "scattermapbox"
           }
          ],
          "scatterpolar": [
           {
            "marker": {
             "colorbar": {
              "outlinewidth": 0,
              "ticks": ""
             }
            },
            "type": "scatterpolar"
           }
          ],
          "scatterpolargl": [
           {
            "marker": {
             "colorbar": {
              "outlinewidth": 0,
              "ticks": ""
             }
            },
            "type": "scatterpolargl"
           }
          ],
          "scatterternary": [
           {
            "marker": {
             "colorbar": {
              "outlinewidth": 0,
              "ticks": ""
             }
            },
            "type": "scatterternary"
           }
          ],
          "surface": [
           {
            "colorbar": {
             "outlinewidth": 0,
             "ticks": ""
            },
            "colorscale": [
             [
              0,
              "#0d0887"
             ],
             [
              0.1111111111111111,
              "#46039f"
             ],
             [
              0.2222222222222222,
              "#7201a8"
             ],
             [
              0.3333333333333333,
              "#9c179e"
             ],
             [
              0.4444444444444444,
              "#bd3786"
             ],
             [
              0.5555555555555556,
              "#d8576b"
             ],
             [
              0.6666666666666666,
              "#ed7953"
             ],
             [
              0.7777777777777778,
              "#fb9f3a"
             ],
             [
              0.8888888888888888,
              "#fdca26"
             ],
             [
              1,
              "#f0f921"
             ]
            ],
            "type": "surface"
           }
          ],
          "table": [
           {
            "cells": {
             "fill": {
              "color": "#EBF0F8"
             },
             "line": {
              "color": "white"
             }
            },
            "header": {
             "fill": {
              "color": "#C8D4E3"
             },
             "line": {
              "color": "white"
             }
            },
            "type": "table"
           }
          ]
         },
         "layout": {
          "annotationdefaults": {
           "arrowcolor": "#2a3f5f",
           "arrowhead": 0,
           "arrowwidth": 1
          },
          "autotypenumbers": "strict",
          "coloraxis": {
           "colorbar": {
            "outlinewidth": 0,
            "ticks": ""
           }
          },
          "colorscale": {
           "diverging": [
            [
             0,
             "#8e0152"
            ],
            [
             0.1,
             "#c51b7d"
            ],
            [
             0.2,
             "#de77ae"
            ],
            [
             0.3,
             "#f1b6da"
            ],
            [
             0.4,
             "#fde0ef"
            ],
            [
             0.5,
             "#f7f7f7"
            ],
            [
             0.6,
             "#e6f5d0"
            ],
            [
             0.7,
             "#b8e186"
            ],
            [
             0.8,
             "#7fbc41"
            ],
            [
             0.9,
             "#4d9221"
            ],
            [
             1,
             "#276419"
            ]
           ],
           "sequential": [
            [
             0,
             "#0d0887"
            ],
            [
             0.1111111111111111,
             "#46039f"
            ],
            [
             0.2222222222222222,
             "#7201a8"
            ],
            [
             0.3333333333333333,
             "#9c179e"
            ],
            [
             0.4444444444444444,
             "#bd3786"
            ],
            [
             0.5555555555555556,
             "#d8576b"
            ],
            [
             0.6666666666666666,
             "#ed7953"
            ],
            [
             0.7777777777777778,
             "#fb9f3a"
            ],
            [
             0.8888888888888888,
             "#fdca26"
            ],
            [
             1,
             "#f0f921"
            ]
           ],
           "sequentialminus": [
            [
             0,
             "#0d0887"
            ],
            [
             0.1111111111111111,
             "#46039f"
            ],
            [
             0.2222222222222222,
             "#7201a8"
            ],
            [
             0.3333333333333333,
             "#9c179e"
            ],
            [
             0.4444444444444444,
             "#bd3786"
            ],
            [
             0.5555555555555556,
             "#d8576b"
            ],
            [
             0.6666666666666666,
             "#ed7953"
            ],
            [
             0.7777777777777778,
             "#fb9f3a"
            ],
            [
             0.8888888888888888,
             "#fdca26"
            ],
            [
             1,
             "#f0f921"
            ]
           ]
          },
          "colorway": [
           "#636efa",
           "#EF553B",
           "#00cc96",
           "#ab63fa",
           "#FFA15A",
           "#19d3f3",
           "#FF6692",
           "#B6E880",
           "#FF97FF",
           "#FECB52"
          ],
          "font": {
           "color": "#2a3f5f"
          },
          "geo": {
           "bgcolor": "white",
           "lakecolor": "white",
           "landcolor": "#E5ECF6",
           "showlakes": true,
           "showland": true,
           "subunitcolor": "white"
          },
          "hoverlabel": {
           "align": "left"
          },
          "hovermode": "closest",
          "mapbox": {
           "style": "light"
          },
          "paper_bgcolor": "white",
          "plot_bgcolor": "#E5ECF6",
          "polar": {
           "angularaxis": {
            "gridcolor": "white",
            "linecolor": "white",
            "ticks": ""
           },
           "bgcolor": "#E5ECF6",
           "radialaxis": {
            "gridcolor": "white",
            "linecolor": "white",
            "ticks": ""
           }
          },
          "scene": {
           "xaxis": {
            "backgroundcolor": "#E5ECF6",
            "gridcolor": "white",
            "gridwidth": 2,
            "linecolor": "white",
            "showbackground": true,
            "ticks": "",
            "zerolinecolor": "white"
           },
           "yaxis": {
            "backgroundcolor": "#E5ECF6",
            "gridcolor": "white",
            "gridwidth": 2,
            "linecolor": "white",
            "showbackground": true,
            "ticks": "",
            "zerolinecolor": "white"
           },
           "zaxis": {
            "backgroundcolor": "#E5ECF6",
            "gridcolor": "white",
            "gridwidth": 2,
            "linecolor": "white",
            "showbackground": true,
            "ticks": "",
            "zerolinecolor": "white"
           }
          },
          "shapedefaults": {
           "line": {
            "color": "#2a3f5f"
           }
          },
          "ternary": {
           "aaxis": {
            "gridcolor": "white",
            "linecolor": "white",
            "ticks": ""
           },
           "baxis": {
            "gridcolor": "white",
            "linecolor": "white",
            "ticks": ""
           },
           "bgcolor": "#E5ECF6",
           "caxis": {
            "gridcolor": "white",
            "linecolor": "white",
            "ticks": ""
           }
          },
          "title": {
           "x": 0.05
          },
          "xaxis": {
           "automargin": true,
           "gridcolor": "white",
           "linecolor": "white",
           "ticks": "",
           "title": {
            "standoff": 15
           },
           "zerolinecolor": "white",
           "zerolinewidth": 2
          },
          "yaxis": {
           "automargin": true,
           "gridcolor": "white",
           "linecolor": "white",
           "ticks": "",
           "title": {
            "standoff": 15
           },
           "zerolinecolor": "white",
           "zerolinewidth": 2
          }
         }
        },
        "title": {
         "text": "Percentage of Household in Positive and Negative Savings"
        },
        "width": 1000,
        "xaxis": {
         "anchor": "y",
         "domain": [
          0,
          0.2888888888888889
         ],
         "tickformat": ",.0%",
         "title": {
          "text": "Bill"
         },
         "visible": true
        },
        "xaxis2": {
         "anchor": "y2",
         "domain": [
          0.35555555555555557,
          0.6444444444444445
         ],
         "tickformat": ",.0%",
         "title": {
          "text": "Emission"
         },
         "visible": true
        },
        "xaxis3": {
         "anchor": "y3",
         "domain": [
          0.7111111111111111,
          1
         ],
         "tickformat": ",.0%",
         "title": {
          "text": "Total Energy"
         },
         "visible": true
        },
        "yaxis": {
         "anchor": "x",
         "domain": [
          0,
          1
         ],
         "visible": true
        },
        "yaxis2": {
         "anchor": "x2",
         "domain": [
          0,
          1
         ],
         "visible": false
        },
        "yaxis3": {
         "anchor": "x3",
         "domain": [
          0,
          1
         ],
         "visible": false
        }
       }
      }
     },
     "metadata": {},
     "output_type": "display_data"
    }
   ],
   "source": [
    "segment = 'segment5'\n",
    "results = figure_positive_negative_savings(segment, community_results)\n",
    "saving_results[f'segment5_{income}_pct_bill_positive_savings_%'] = results[0]*100\n",
    "saving_results[f'segment5_{income}_pct_emission_positive_savings_%'] = results[1]*100\n",
    "saving_results[f'segment5_{income}_pct_energy_positive_savings_%'] = results[2]*100"
   ]
  },
  {
   "cell_type": "markdown",
   "id": "b53c1061",
   "metadata": {},
   "source": [
    "## 2.6. Average Energy Burden (%) Before and after Upgrade"
   ]
  },
  {
   "cell_type": "code",
   "execution_count": 37,
   "id": "1c373671",
   "metadata": {},
   "outputs": [
    {
     "name": "stdout",
     "output_type": "stream",
     "text": [
      "energy burden (%) before and after upgrade\n",
      "segment1\n"
     ]
    },
    {
     "name": "stderr",
     "output_type": "stream",
     "text": [
      "/var/folders/zw/lhnn73fj2250g9z11h_whq1szkf2pm/T/ipykernel_25540/2591935474.py:4: SettingWithCopyWarning:\n",
      "\n",
      "\n",
      "A value is trying to be set on a copy of a slice from a DataFrame\n",
      "\n",
      "See the caveats in the documentation: https://pandas.pydata.org/pandas-docs/stable/user_guide/indexing.html#returning-a-view-versus-a-copy\n",
      "\n",
      "/var/folders/zw/lhnn73fj2250g9z11h_whq1szkf2pm/T/ipykernel_25540/2591935474.py:5: SettingWithCopyWarning:\n",
      "\n",
      "\n",
      "A value is trying to be set on a copy of a slice from a DataFrame\n",
      "\n",
      "See the caveats in the documentation: https://pandas.pydata.org/pandas-docs/stable/user_guide/indexing.html#returning-a-view-versus-a-copy\n",
      "\n",
      "/var/folders/zw/lhnn73fj2250g9z11h_whq1szkf2pm/T/ipykernel_25540/2591935474.py:6: SettingWithCopyWarning:\n",
      "\n",
      "\n",
      "A value is trying to be set on a copy of a slice from a DataFrame.\n",
      "Try using .loc[row_indexer,col_indexer] = value instead\n",
      "\n",
      "See the caveats in the documentation: https://pandas.pydata.org/pandas-docs/stable/user_guide/indexing.html#returning-a-view-versus-a-copy\n",
      "\n",
      "/var/folders/zw/lhnn73fj2250g9z11h_whq1szkf2pm/T/ipykernel_25540/2591935474.py:7: SettingWithCopyWarning:\n",
      "\n",
      "\n",
      "A value is trying to be set on a copy of a slice from a DataFrame.\n",
      "Try using .loc[row_indexer,col_indexer] = value instead\n",
      "\n",
      "See the caveats in the documentation: https://pandas.pydata.org/pandas-docs/stable/user_guide/indexing.html#returning-a-view-versus-a-copy\n",
      "\n"
     ]
    },
    {
     "data": {
      "text/html": [
       "<div>\n",
       "<style scoped>\n",
       "    .dataframe tbody tr th:only-of-type {\n",
       "        vertical-align: middle;\n",
       "    }\n",
       "\n",
       "    .dataframe tbody tr th {\n",
       "        vertical-align: top;\n",
       "    }\n",
       "\n",
       "    .dataframe thead th {\n",
       "        text-align: right;\n",
       "    }\n",
       "</style>\n",
       "<table border=\"1\" class=\"dataframe\">\n",
       "  <thead>\n",
       "    <tr style=\"text-align: right;\">\n",
       "      <th></th>\n",
       "      <th>before</th>\n",
       "      <th>after</th>\n",
       "    </tr>\n",
       "    <tr>\n",
       "      <th>upgrade_name</th>\n",
       "      <th></th>\n",
       "      <th></th>\n",
       "    </tr>\n",
       "  </thead>\n",
       "  <tbody>\n",
       "    <tr>\n",
       "      <th>Enhanced Enclosure</th>\n",
       "      <td>13.1</td>\n",
       "      <td>10.0</td>\n",
       "    </tr>\n",
       "    <tr>\n",
       "      <th>Basic Enclosure</th>\n",
       "      <td>13.1</td>\n",
       "      <td>10.3</td>\n",
       "    </tr>\n",
       "    <tr>\n",
       "      <th>Enhanced Enclosure + High Efficiency Whole Home Electrification</th>\n",
       "      <td>13.1</td>\n",
       "      <td>12.3</td>\n",
       "    </tr>\n",
       "    <tr>\n",
       "      <th>Basic Enclosure + High Efficiency Whole Home Electrification</th>\n",
       "      <td>13.1</td>\n",
       "      <td>12.3</td>\n",
       "    </tr>\n",
       "    <tr>\n",
       "      <th>Enhanced Enclosure + HPWH + High Efficiency HP/Electric Backup</th>\n",
       "      <td>13.1</td>\n",
       "      <td>12.5</td>\n",
       "    </tr>\n",
       "    <tr>\n",
       "      <th>Basic Enclosure + HPWH + High Efficiency HP/Electric Backup</th>\n",
       "      <td>13.1</td>\n",
       "      <td>12.5</td>\n",
       "    </tr>\n",
       "    <tr>\n",
       "      <th>Heat Pump Water Heater</th>\n",
       "      <td>13.1</td>\n",
       "      <td>12.8</td>\n",
       "    </tr>\n",
       "    <tr>\n",
       "      <th>Heat Pump Clothes Dryer</th>\n",
       "      <td>13.1</td>\n",
       "      <td>12.9</td>\n",
       "    </tr>\n",
       "    <tr>\n",
       "      <th>Induction Cooking</th>\n",
       "      <td>13.1</td>\n",
       "      <td>13.0</td>\n",
       "    </tr>\n",
       "    <tr>\n",
       "      <th>Electric Cooking</th>\n",
       "      <td>7.0</td>\n",
       "      <td>7.0</td>\n",
       "    </tr>\n",
       "    <tr>\n",
       "      <th>Electric Clothes Dryer</th>\n",
       "      <td>4.5</td>\n",
       "      <td>4.5</td>\n",
       "    </tr>\n",
       "    <tr>\n",
       "      <th>Mininum Efficiency Heat Pump with Existing Heat Backup</th>\n",
       "      <td>13.3</td>\n",
       "      <td>13.7</td>\n",
       "    </tr>\n",
       "    <tr>\n",
       "      <th>High Efficiency Whole Home Electrification</th>\n",
       "      <td>13.1</td>\n",
       "      <td>16.1</td>\n",
       "    </tr>\n",
       "    <tr>\n",
       "      <th>High Efficiency Heat Pump with Electric Heat Backup</th>\n",
       "      <td>13.1</td>\n",
       "      <td>17.1</td>\n",
       "    </tr>\n",
       "    <tr>\n",
       "      <th>Mininum Efficiency Whole Home Electrification</th>\n",
       "      <td>13.1</td>\n",
       "      <td>19.9</td>\n",
       "    </tr>\n",
       "    <tr>\n",
       "      <th>Mininum Efficiency Heat Pump with Electric Heat Backup</th>\n",
       "      <td>13.1</td>\n",
       "      <td>20.5</td>\n",
       "    </tr>\n",
       "  </tbody>\n",
       "</table>\n",
       "</div>"
      ],
      "text/plain": [
       "                                                    before  after\n",
       "upgrade_name                                                     \n",
       "Enhanced Enclosure                                    13.1   10.0\n",
       "Basic Enclosure                                       13.1   10.3\n",
       "Enhanced Enclosure + High Efficiency Whole Home...    13.1   12.3\n",
       "Basic Enclosure + High Efficiency Whole Home El...    13.1   12.3\n",
       "Enhanced Enclosure + HPWH + High Efficiency HP/...    13.1   12.5\n",
       "Basic Enclosure + HPWH + High Efficiency HP/Ele...    13.1   12.5\n",
       "Heat Pump Water Heater                                13.1   12.8\n",
       "Heat Pump Clothes Dryer                               13.1   12.9\n",
       "Induction Cooking                                     13.1   13.0\n",
       "Electric Cooking                                       7.0    7.0\n",
       "Electric Clothes Dryer                                 4.5    4.5\n",
       "Mininum Efficiency Heat Pump with Existing Heat...    13.3   13.7\n",
       "High Efficiency Whole Home Electrification            13.1   16.1\n",
       "High Efficiency Heat Pump with Electric Heat Ba...    13.1   17.1\n",
       "Mininum Efficiency Whole Home Electrification         13.1   19.9\n",
       "Mininum Efficiency Heat Pump with Electric Heat...    13.1   20.5"
      ]
     },
     "metadata": {},
     "output_type": "display_data"
    },
    {
     "name": "stdout",
     "output_type": "stream",
     "text": [
      "segment2\n"
     ]
    },
    {
     "data": {
      "text/html": [
       "<div>\n",
       "<style scoped>\n",
       "    .dataframe tbody tr th:only-of-type {\n",
       "        vertical-align: middle;\n",
       "    }\n",
       "\n",
       "    .dataframe tbody tr th {\n",
       "        vertical-align: top;\n",
       "    }\n",
       "\n",
       "    .dataframe thead th {\n",
       "        text-align: right;\n",
       "    }\n",
       "</style>\n",
       "<table border=\"1\" class=\"dataframe\">\n",
       "  <thead>\n",
       "    <tr style=\"text-align: right;\">\n",
       "      <th></th>\n",
       "      <th>before</th>\n",
       "      <th>after</th>\n",
       "    </tr>\n",
       "    <tr>\n",
       "      <th>upgrade_name</th>\n",
       "      <th></th>\n",
       "      <th></th>\n",
       "    </tr>\n",
       "  </thead>\n",
       "  <tbody>\n",
       "    <tr>\n",
       "      <th>Enhanced Enclosure + High Efficiency Whole Home Electrification</th>\n",
       "      <td>8.2</td>\n",
       "      <td>5.5</td>\n",
       "    </tr>\n",
       "    <tr>\n",
       "      <th>Enhanced Enclosure + HPWH + High Efficiency HP/Electric Backup</th>\n",
       "      <td>8.2</td>\n",
       "      <td>5.5</td>\n",
       "    </tr>\n",
       "    <tr>\n",
       "      <th>Basic Enclosure + High Efficiency Whole Home Electrification</th>\n",
       "      <td>8.2</td>\n",
       "      <td>5.7</td>\n",
       "    </tr>\n",
       "    <tr>\n",
       "      <th>Basic Enclosure + HPWH + High Efficiency HP/Electric Backup</th>\n",
       "      <td>8.2</td>\n",
       "      <td>5.8</td>\n",
       "    </tr>\n",
       "    <tr>\n",
       "      <th>Enhanced Enclosure</th>\n",
       "      <td>8.3</td>\n",
       "      <td>6.7</td>\n",
       "    </tr>\n",
       "    <tr>\n",
       "      <th>High Efficiency Whole Home Electrification</th>\n",
       "      <td>8.2</td>\n",
       "      <td>7.0</td>\n",
       "    </tr>\n",
       "    <tr>\n",
       "      <th>Basic Enclosure</th>\n",
       "      <td>8.3</td>\n",
       "      <td>7.2</td>\n",
       "    </tr>\n",
       "    <tr>\n",
       "      <th>High Efficiency Heat Pump with Electric Heat Backup</th>\n",
       "      <td>8.2</td>\n",
       "      <td>7.5</td>\n",
       "    </tr>\n",
       "    <tr>\n",
       "      <th>Mininum Efficiency Heat Pump with Existing Heat Backup</th>\n",
       "      <td>7.8</td>\n",
       "      <td>7.5</td>\n",
       "    </tr>\n",
       "    <tr>\n",
       "      <th>Heat Pump Water Heater</th>\n",
       "      <td>8.2</td>\n",
       "      <td>8.0</td>\n",
       "    </tr>\n",
       "    <tr>\n",
       "      <th>Heat Pump Clothes Dryer</th>\n",
       "      <td>8.3</td>\n",
       "      <td>8.2</td>\n",
       "    </tr>\n",
       "    <tr>\n",
       "      <th>Induction Cooking</th>\n",
       "      <td>8.2</td>\n",
       "      <td>8.2</td>\n",
       "    </tr>\n",
       "    <tr>\n",
       "      <th>Electric Cooking</th>\n",
       "      <td>6.5</td>\n",
       "      <td>6.6</td>\n",
       "    </tr>\n",
       "    <tr>\n",
       "      <th>Electric Clothes Dryer</th>\n",
       "      <td>5.4</td>\n",
       "      <td>5.4</td>\n",
       "    </tr>\n",
       "    <tr>\n",
       "      <th>Mininum Efficiency Heat Pump with Electric Heat Backup</th>\n",
       "      <td>8.2</td>\n",
       "      <td>10.1</td>\n",
       "    </tr>\n",
       "    <tr>\n",
       "      <th>Mininum Efficiency Whole Home Electrification</th>\n",
       "      <td>8.0</td>\n",
       "      <td>9.9</td>\n",
       "    </tr>\n",
       "  </tbody>\n",
       "</table>\n",
       "</div>"
      ],
      "text/plain": [
       "                                                    before  after\n",
       "upgrade_name                                                     \n",
       "Enhanced Enclosure + High Efficiency Whole Home...     8.2    5.5\n",
       "Enhanced Enclosure + HPWH + High Efficiency HP/...     8.2    5.5\n",
       "Basic Enclosure + High Efficiency Whole Home El...     8.2    5.7\n",
       "Basic Enclosure + HPWH + High Efficiency HP/Ele...     8.2    5.8\n",
       "Enhanced Enclosure                                     8.3    6.7\n",
       "High Efficiency Whole Home Electrification             8.2    7.0\n",
       "Basic Enclosure                                        8.3    7.2\n",
       "High Efficiency Heat Pump with Electric Heat Ba...     8.2    7.5\n",
       "Mininum Efficiency Heat Pump with Existing Heat...     7.8    7.5\n",
       "Heat Pump Water Heater                                 8.2    8.0\n",
       "Heat Pump Clothes Dryer                                8.3    8.2\n",
       "Induction Cooking                                      8.2    8.2\n",
       "Electric Cooking                                       6.5    6.6\n",
       "Electric Clothes Dryer                                 5.4    5.4\n",
       "Mininum Efficiency Heat Pump with Electric Heat...     8.2   10.1\n",
       "Mininum Efficiency Whole Home Electrification          8.0    9.9"
      ]
     },
     "metadata": {},
     "output_type": "display_data"
    },
    {
     "name": "stdout",
     "output_type": "stream",
     "text": [
      "segment3\n"
     ]
    },
    {
     "data": {
      "text/html": [
       "<div>\n",
       "<style scoped>\n",
       "    .dataframe tbody tr th:only-of-type {\n",
       "        vertical-align: middle;\n",
       "    }\n",
       "\n",
       "    .dataframe tbody tr th {\n",
       "        vertical-align: top;\n",
       "    }\n",
       "\n",
       "    .dataframe thead th {\n",
       "        text-align: right;\n",
       "    }\n",
       "</style>\n",
       "<table border=\"1\" class=\"dataframe\">\n",
       "  <thead>\n",
       "    <tr style=\"text-align: right;\">\n",
       "      <th></th>\n",
       "      <th>before</th>\n",
       "      <th>after</th>\n",
       "    </tr>\n",
       "    <tr>\n",
       "      <th>upgrade_name</th>\n",
       "      <th></th>\n",
       "      <th></th>\n",
       "    </tr>\n",
       "  </thead>\n",
       "  <tbody>\n",
       "    <tr>\n",
       "      <th>Enhanced Enclosure + High Efficiency Whole Home Electrification</th>\n",
       "      <td>8.0</td>\n",
       "      <td>4.7</td>\n",
       "    </tr>\n",
       "    <tr>\n",
       "      <th>Enhanced Enclosure + HPWH + High Efficiency HP/Electric Backup</th>\n",
       "      <td>8.0</td>\n",
       "      <td>4.9</td>\n",
       "    </tr>\n",
       "    <tr>\n",
       "      <th>Basic Enclosure + High Efficiency Whole Home Electrification</th>\n",
       "      <td>8.0</td>\n",
       "      <td>5.4</td>\n",
       "    </tr>\n",
       "    <tr>\n",
       "      <th>Basic Enclosure + HPWH + High Efficiency HP/Electric Backup</th>\n",
       "      <td>8.0</td>\n",
       "      <td>5.5</td>\n",
       "    </tr>\n",
       "    <tr>\n",
       "      <th>High Efficiency Whole Home Electrification</th>\n",
       "      <td>8.0</td>\n",
       "      <td>6.2</td>\n",
       "    </tr>\n",
       "    <tr>\n",
       "      <th>Enhanced Enclosure</th>\n",
       "      <td>8.0</td>\n",
       "      <td>6.8</td>\n",
       "    </tr>\n",
       "    <tr>\n",
       "      <th>High Efficiency Heat Pump with Electric Heat Backup</th>\n",
       "      <td>8.0</td>\n",
       "      <td>7.0</td>\n",
       "    </tr>\n",
       "    <tr>\n",
       "      <th>Basic Enclosure</th>\n",
       "      <td>8.0</td>\n",
       "      <td>7.1</td>\n",
       "    </tr>\n",
       "    <tr>\n",
       "      <th>Mininum Efficiency Heat Pump with Existing Heat Backup</th>\n",
       "      <td>8.0</td>\n",
       "      <td>7.6</td>\n",
       "    </tr>\n",
       "    <tr>\n",
       "      <th>Heat Pump Water Heater</th>\n",
       "      <td>8.0</td>\n",
       "      <td>7.7</td>\n",
       "    </tr>\n",
       "    <tr>\n",
       "      <th>Heat Pump Clothes Dryer</th>\n",
       "      <td>8.4</td>\n",
       "      <td>8.2</td>\n",
       "    </tr>\n",
       "    <tr>\n",
       "      <th>Induction Cooking</th>\n",
       "      <td>8.0</td>\n",
       "      <td>8.0</td>\n",
       "    </tr>\n",
       "    <tr>\n",
       "      <th>Electric Cooking</th>\n",
       "      <td>7.1</td>\n",
       "      <td>7.1</td>\n",
       "    </tr>\n",
       "    <tr>\n",
       "      <th>Mininum Efficiency Heat Pump with Electric Heat Backup</th>\n",
       "      <td>8.0</td>\n",
       "      <td>8.7</td>\n",
       "    </tr>\n",
       "    <tr>\n",
       "      <th>Mininum Efficiency Whole Home Electrification</th>\n",
       "      <td>8.4</td>\n",
       "      <td>9.6</td>\n",
       "    </tr>\n",
       "  </tbody>\n",
       "</table>\n",
       "</div>"
      ],
      "text/plain": [
       "                                                    before  after\n",
       "upgrade_name                                                     \n",
       "Enhanced Enclosure + High Efficiency Whole Home...     8.0    4.7\n",
       "Enhanced Enclosure + HPWH + High Efficiency HP/...     8.0    4.9\n",
       "Basic Enclosure + High Efficiency Whole Home El...     8.0    5.4\n",
       "Basic Enclosure + HPWH + High Efficiency HP/Ele...     8.0    5.5\n",
       "High Efficiency Whole Home Electrification             8.0    6.2\n",
       "Enhanced Enclosure                                     8.0    6.8\n",
       "High Efficiency Heat Pump with Electric Heat Ba...     8.0    7.0\n",
       "Basic Enclosure                                        8.0    7.1\n",
       "Mininum Efficiency Heat Pump with Existing Heat...     8.0    7.6\n",
       "Heat Pump Water Heater                                 8.0    7.7\n",
       "Heat Pump Clothes Dryer                                8.4    8.2\n",
       "Induction Cooking                                      8.0    8.0\n",
       "Electric Cooking                                       7.1    7.1\n",
       "Mininum Efficiency Heat Pump with Electric Heat...     8.0    8.7\n",
       "Mininum Efficiency Whole Home Electrification          8.4    9.6"
      ]
     },
     "metadata": {},
     "output_type": "display_data"
    },
    {
     "name": "stdout",
     "output_type": "stream",
     "text": [
      "segment4\n"
     ]
    },
    {
     "data": {
      "text/html": [
       "<div>\n",
       "<style scoped>\n",
       "    .dataframe tbody tr th:only-of-type {\n",
       "        vertical-align: middle;\n",
       "    }\n",
       "\n",
       "    .dataframe tbody tr th {\n",
       "        vertical-align: top;\n",
       "    }\n",
       "\n",
       "    .dataframe thead th {\n",
       "        text-align: right;\n",
       "    }\n",
       "</style>\n",
       "<table border=\"1\" class=\"dataframe\">\n",
       "  <thead>\n",
       "    <tr style=\"text-align: right;\">\n",
       "      <th></th>\n",
       "      <th>before</th>\n",
       "      <th>after</th>\n",
       "    </tr>\n",
       "    <tr>\n",
       "      <th>upgrade_name</th>\n",
       "      <th></th>\n",
       "      <th></th>\n",
       "    </tr>\n",
       "  </thead>\n",
       "  <tbody>\n",
       "    <tr>\n",
       "      <th>Enhanced Enclosure + High Efficiency Whole Home Electrification</th>\n",
       "      <td>7.9</td>\n",
       "      <td>4.1</td>\n",
       "    </tr>\n",
       "    <tr>\n",
       "      <th>Enhanced Enclosure + HPWH + High Efficiency HP/Electric Backup</th>\n",
       "      <td>7.9</td>\n",
       "      <td>4.1</td>\n",
       "    </tr>\n",
       "    <tr>\n",
       "      <th>Basic Enclosure + High Efficiency Whole Home Electrification</th>\n",
       "      <td>7.9</td>\n",
       "      <td>4.3</td>\n",
       "    </tr>\n",
       "    <tr>\n",
       "      <th>Basic Enclosure + HPWH + High Efficiency HP/Electric Backup</th>\n",
       "      <td>7.9</td>\n",
       "      <td>4.3</td>\n",
       "    </tr>\n",
       "    <tr>\n",
       "      <th>High Efficiency Whole Home Electrification</th>\n",
       "      <td>7.9</td>\n",
       "      <td>4.8</td>\n",
       "    </tr>\n",
       "    <tr>\n",
       "      <th>High Efficiency Heat Pump with Electric Heat Backup</th>\n",
       "      <td>7.9</td>\n",
       "      <td>5.5</td>\n",
       "    </tr>\n",
       "    <tr>\n",
       "      <th>Enhanced Enclosure</th>\n",
       "      <td>8.9</td>\n",
       "      <td>7.4</td>\n",
       "    </tr>\n",
       "    <tr>\n",
       "      <th>Mininum Efficiency Heat Pump with Existing Heat Backup</th>\n",
       "      <td>8.6</td>\n",
       "      <td>7.2</td>\n",
       "    </tr>\n",
       "    <tr>\n",
       "      <th>Basic Enclosure</th>\n",
       "      <td>9.2</td>\n",
       "      <td>8.0</td>\n",
       "    </tr>\n",
       "    <tr>\n",
       "      <th>Mininum Efficiency Heat Pump with Electric Heat Backup</th>\n",
       "      <td>7.9</td>\n",
       "      <td>6.9</td>\n",
       "    </tr>\n",
       "    <tr>\n",
       "      <th>Heat Pump Water Heater</th>\n",
       "      <td>7.9</td>\n",
       "      <td>7.5</td>\n",
       "    </tr>\n",
       "    <tr>\n",
       "      <th>Heat Pump Clothes Dryer</th>\n",
       "      <td>6.3</td>\n",
       "      <td>6.2</td>\n",
       "    </tr>\n",
       "    <tr>\n",
       "      <th>Induction Cooking</th>\n",
       "      <td>8.6</td>\n",
       "      <td>8.6</td>\n",
       "    </tr>\n",
       "    <tr>\n",
       "      <th>Electric Cooking</th>\n",
       "      <td>6.3</td>\n",
       "      <td>6.3</td>\n",
       "    </tr>\n",
       "    <tr>\n",
       "      <th>Mininum Efficiency Whole Home Electrification</th>\n",
       "      <td>5.9</td>\n",
       "      <td>6.1</td>\n",
       "    </tr>\n",
       "  </tbody>\n",
       "</table>\n",
       "</div>"
      ],
      "text/plain": [
       "                                                    before  after\n",
       "upgrade_name                                                     \n",
       "Enhanced Enclosure + High Efficiency Whole Home...     7.9    4.1\n",
       "Enhanced Enclosure + HPWH + High Efficiency HP/...     7.9    4.1\n",
       "Basic Enclosure + High Efficiency Whole Home El...     7.9    4.3\n",
       "Basic Enclosure + HPWH + High Efficiency HP/Ele...     7.9    4.3\n",
       "High Efficiency Whole Home Electrification             7.9    4.8\n",
       "High Efficiency Heat Pump with Electric Heat Ba...     7.9    5.5\n",
       "Enhanced Enclosure                                     8.9    7.4\n",
       "Mininum Efficiency Heat Pump with Existing Heat...     8.6    7.2\n",
       "Basic Enclosure                                        9.2    8.0\n",
       "Mininum Efficiency Heat Pump with Electric Heat...     7.9    6.9\n",
       "Heat Pump Water Heater                                 7.9    7.5\n",
       "Heat Pump Clothes Dryer                                6.3    6.2\n",
       "Induction Cooking                                      8.6    8.6\n",
       "Electric Cooking                                       6.3    6.3\n",
       "Mininum Efficiency Whole Home Electrification          5.9    6.1"
      ]
     },
     "metadata": {},
     "output_type": "display_data"
    },
    {
     "name": "stdout",
     "output_type": "stream",
     "text": [
      "segment5\n"
     ]
    },
    {
     "data": {
      "text/html": [
       "<div>\n",
       "<style scoped>\n",
       "    .dataframe tbody tr th:only-of-type {\n",
       "        vertical-align: middle;\n",
       "    }\n",
       "\n",
       "    .dataframe tbody tr th {\n",
       "        vertical-align: top;\n",
       "    }\n",
       "\n",
       "    .dataframe thead th {\n",
       "        text-align: right;\n",
       "    }\n",
       "</style>\n",
       "<table border=\"1\" class=\"dataframe\">\n",
       "  <thead>\n",
       "    <tr style=\"text-align: right;\">\n",
       "      <th></th>\n",
       "      <th>before</th>\n",
       "      <th>after</th>\n",
       "    </tr>\n",
       "    <tr>\n",
       "      <th>upgrade_name</th>\n",
       "      <th></th>\n",
       "      <th></th>\n",
       "    </tr>\n",
       "  </thead>\n",
       "  <tbody>\n",
       "    <tr>\n",
       "      <th>Enhanced Enclosure + High Efficiency Whole Home Electrification</th>\n",
       "      <td>6.2</td>\n",
       "      <td>4.4</td>\n",
       "    </tr>\n",
       "    <tr>\n",
       "      <th>Enhanced Enclosure + HPWH + High Efficiency HP/Electric Backup</th>\n",
       "      <td>6.2</td>\n",
       "      <td>4.5</td>\n",
       "    </tr>\n",
       "    <tr>\n",
       "      <th>Basic Enclosure + High Efficiency Whole Home Electrification</th>\n",
       "      <td>6.2</td>\n",
       "      <td>4.5</td>\n",
       "    </tr>\n",
       "    <tr>\n",
       "      <th>Basic Enclosure + HPWH + High Efficiency HP/Electric Backup</th>\n",
       "      <td>6.2</td>\n",
       "      <td>4.6</td>\n",
       "    </tr>\n",
       "    <tr>\n",
       "      <th>High Efficiency Whole Home Electrification</th>\n",
       "      <td>6.2</td>\n",
       "      <td>5.0</td>\n",
       "    </tr>\n",
       "    <tr>\n",
       "      <th>Enhanced Enclosure</th>\n",
       "      <td>6.2</td>\n",
       "      <td>5.4</td>\n",
       "    </tr>\n",
       "    <tr>\n",
       "      <th>High Efficiency Heat Pump with Electric Heat Backup</th>\n",
       "      <td>6.2</td>\n",
       "      <td>5.5</td>\n",
       "    </tr>\n",
       "    <tr>\n",
       "      <th>Basic Enclosure</th>\n",
       "      <td>6.1</td>\n",
       "      <td>5.5</td>\n",
       "    </tr>\n",
       "    <tr>\n",
       "      <th>Mininum Efficiency Heat Pump with Existing Heat Backup</th>\n",
       "      <td>6.2</td>\n",
       "      <td>5.9</td>\n",
       "    </tr>\n",
       "    <tr>\n",
       "      <th>Heat Pump Water Heater</th>\n",
       "      <td>6.2</td>\n",
       "      <td>6.0</td>\n",
       "    </tr>\n",
       "    <tr>\n",
       "      <th>Heat Pump Clothes Dryer</th>\n",
       "      <td>6.0</td>\n",
       "      <td>6.0</td>\n",
       "    </tr>\n",
       "    <tr>\n",
       "      <th>Induction Cooking</th>\n",
       "      <td>6.2</td>\n",
       "      <td>6.2</td>\n",
       "    </tr>\n",
       "    <tr>\n",
       "      <th>Electric Cooking</th>\n",
       "      <td>5.5</td>\n",
       "      <td>5.5</td>\n",
       "    </tr>\n",
       "    <tr>\n",
       "      <th>Electric Clothes Dryer</th>\n",
       "      <td>5.6</td>\n",
       "      <td>5.6</td>\n",
       "    </tr>\n",
       "    <tr>\n",
       "      <th>Mininum Efficiency Heat Pump with Electric Heat Backup</th>\n",
       "      <td>6.2</td>\n",
       "      <td>7.0</td>\n",
       "    </tr>\n",
       "    <tr>\n",
       "      <th>Mininum Efficiency Whole Home Electrification</th>\n",
       "      <td>5.9</td>\n",
       "      <td>7.5</td>\n",
       "    </tr>\n",
       "  </tbody>\n",
       "</table>\n",
       "</div>"
      ],
      "text/plain": [
       "                                                    before  after\n",
       "upgrade_name                                                     \n",
       "Enhanced Enclosure + High Efficiency Whole Home...     6.2    4.4\n",
       "Enhanced Enclosure + HPWH + High Efficiency HP/...     6.2    4.5\n",
       "Basic Enclosure + High Efficiency Whole Home El...     6.2    4.5\n",
       "Basic Enclosure + HPWH + High Efficiency HP/Ele...     6.2    4.6\n",
       "High Efficiency Whole Home Electrification             6.2    5.0\n",
       "Enhanced Enclosure                                     6.2    5.4\n",
       "High Efficiency Heat Pump with Electric Heat Ba...     6.2    5.5\n",
       "Basic Enclosure                                        6.1    5.5\n",
       "Mininum Efficiency Heat Pump with Existing Heat...     6.2    5.9\n",
       "Heat Pump Water Heater                                 6.2    6.0\n",
       "Heat Pump Clothes Dryer                                6.0    6.0\n",
       "Induction Cooking                                      6.2    6.2\n",
       "Electric Cooking                                       5.5    5.5\n",
       "Electric Clothes Dryer                                 5.6    5.6\n",
       "Mininum Efficiency Heat Pump with Electric Heat...     6.2    7.0\n",
       "Mininum Efficiency Whole Home Electrification          5.9    7.5"
      ]
     },
     "metadata": {},
     "output_type": "display_data"
    }
   ],
   "source": [
    "results = segment_mean_energy_burden('post-upgrade_energy_burden_2023_cbills.%', community_results) \n",
    "saving_results[[f'segment1_{income}_energy_burden_before_upgrade_%',f'segment1_{income}_energy_burden_after_upgrade_%']] = results[0]\n",
    "saving_results[[f'segment2_{income}_energy_burden_before_upgrade_%',f'segment2_{income}_energy_burden_after_upgrade_%']] = results[1]\n",
    "saving_results[[f'segment3_{income}_energy_burden_before_upgrade_%',f'segment3_{income}_energy_burden_after_upgrade_%']] = results[2]\n",
    "saving_results[[f'segment4_{income}_energy_burden_before_upgrade_%',f'segment4_{income}_energy_burden_after_upgrade_%']] = results[3]\n",
    "saving_results[[f'segment5_{income}_energy_burden_before_upgrade_%',f'segment5_{income}_energy_burden_after_upgrade_%']] = results[4]"
   ]
  },
  {
   "cell_type": "markdown",
   "id": "0dc19882",
   "metadata": {},
   "source": [
    "# 3. Results for Segments (0-80% AMI)"
   ]
  },
  {
   "cell_type": "markdown",
   "id": "baa2745c",
   "metadata": {},
   "source": [
    "Segment Definition\n",
    "\n",
    "Segment 1. Occupied, Single family detached, pre 1940, renter, 0-80% AMI  \n",
    "\n",
    "Segment 2. Occupied, Single family detached, pre 1940, owner, 0-80% AMI \n",
    "\n",
    "Segment 3. Occupied, Multifamily with 2-4 units, 1940-1979, 0-80% AMI \n",
    "\n",
    "Segment 4. Occupied,  Multifamily with 5+ units, 1940-1979, 0-80% AMI\n",
    "\n",
    "Segment 5. Occupied,  all building types, 1980+, 0-80% AMI"
   ]
  },
  {
   "cell_type": "code",
   "execution_count": 38,
   "id": "b85921e5",
   "metadata": {},
   "outputs": [],
   "source": [
    "community_results = pd.read_parquet(f\"data_/community_building_samples_with_upgrade_cost_and_bill/{community}/processed_upgrade_results.parquet\")\n",
    "\n",
    "income = '0-80%AMI'\n",
    "vacancy_status = ['Occupied']\n",
    "\n",
    "seg1_building_type = ['Single-Family Detached']\n",
    "seg1_vintage = ['<1940']\n",
    "seg1_tenure = ['Renter']\n",
    "seg1_median_income = ['0-30%','30-60%','60-80%']\n",
    "\n",
    "seg2_building_type = ['Single-Family Detached']\n",
    "seg2_vintage = ['<1940']\n",
    "seg2_tenure = ['Owner']\n",
    "seg2_median_income = ['0-30%','30-60%','60-80%']\n",
    "\n",
    "seg3_building_type = ['Multi-Family with 2 - 4 Units']\n",
    "seg3_vintage = ['1940s', '1950s', '1960s', '1970s']\n",
    "seg3_tenure = ['Renter','Owner']\n",
    "seg3_median_income = ['0-30%','30-60%','60-80%']\n",
    "\n",
    "seg4_building_type = ['Multi-Family with 5+ Units']\n",
    "seg4_vintage = ['1940s', '1950s', '1960s', '1970s']\n",
    "seg4_tenure = ['Renter','Owner']\n",
    "seg4_median_income = ['0-30%','30-60%','60-80%']\n",
    "\n",
    "seg5_vintage = ['1980s', '1990s', '2000s', '2010s']\n",
    "seg5_median_income = ['0-30%','30-60%','60-80%']\n",
    "\n",
    "community_results.loc[community_results['build_existing_model.vacancy_status'].isin(vacancy_status) & \n",
    "                     community_results['build_existing_model.geometry_building_type_recs'].isin(seg1_building_type) & \n",
    "                     community_results['build_existing_model.vintage'].isin(seg1_vintage) & \n",
    "                     community_results['build_existing_model.tenure'].isin(seg1_tenure) & \n",
    "                     community_results['build_existing_model.area_median_income'].isin(seg1_median_income),\n",
    "                     'segment'] = 'segment1'\n",
    "community_results.loc[community_results['build_existing_model.vacancy_status'].isin(vacancy_status) & \n",
    "                     community_results['build_existing_model.geometry_building_type_recs'].isin(seg2_building_type) & \n",
    "                     community_results['build_existing_model.vintage'].isin(seg2_vintage) & \n",
    "                     community_results['build_existing_model.tenure'].isin(seg2_tenure) & \n",
    "                     community_results['build_existing_model.area_median_income'].isin(seg2_median_income),\n",
    "                     'segment'] = 'segment2'\n",
    "community_results.loc[community_results['build_existing_model.vacancy_status'].isin(vacancy_status) & \n",
    "                     community_results['build_existing_model.geometry_building_type_recs'].isin(seg3_building_type) & \n",
    "                     community_results['build_existing_model.vintage'].isin(seg3_vintage) & \n",
    "                     community_results['build_existing_model.tenure'].isin(seg3_tenure) & \n",
    "                     community_results['build_existing_model.area_median_income'].isin(seg3_median_income),\n",
    "                     'segment'] = 'segment3'\n",
    "community_results.loc[community_results['build_existing_model.vacancy_status'].isin(vacancy_status) & \n",
    "                     community_results['build_existing_model.geometry_building_type_recs'].isin(seg4_building_type) & \n",
    "                     community_results['build_existing_model.vintage'].isin(seg4_vintage) & \n",
    "                     community_results['build_existing_model.tenure'].isin(seg4_tenure) & \n",
    "                     community_results['build_existing_model.area_median_income'].isin(seg4_median_income),\n",
    "                     'segment'] = 'segment4'\n",
    "community_results.loc[community_results['build_existing_model.vacancy_status'].isin(vacancy_status) & \n",
    "                     community_results['build_existing_model.vintage'].isin(seg5_vintage) &\n",
    "                     community_results['build_existing_model.area_median_income'].isin(seg5_median_income),\n",
    "                     'segment'] = 'segment5'"
   ]
  },
  {
   "cell_type": "markdown",
   "id": "2b599aa4",
   "metadata": {},
   "source": [
    "## 3.1 Upgrade Cost Per Dwelling Unit "
   ]
  },
  {
   "cell_type": "code",
   "execution_count": 39,
   "id": "8aa276ba",
   "metadata": {},
   "outputs": [
    {
     "name": "stdout",
     "output_type": "stream",
     "text": [
      "segment1: upgrade cost (usd) per dwelling unit\n"
     ]
    },
    {
     "data": {
      "text/plain": [
       "upgrade_name\n",
       "Electric Cooking                                                    1127.3\n",
       "Electric Clothes Dryer                                              1266.0\n",
       "Induction Cooking                                                   1953.1\n",
       "Heat Pump Clothes Dryer                                             2547.5\n",
       "Heat Pump Water Heater                                              3014.7\n",
       "Basic Enclosure                                                     4512.8\n",
       "Enhanced Enclosure                                                  5123.9\n",
       "High Efficiency Heat Pump with Electric Heat Backup                28860.2\n",
       "Basic Enclosure + HPWH + High Efficiency HP/Electric Backup        32113.6\n",
       "Enhanced Enclosure + HPWH + High Efficiency HP/Electric Backup     32113.6\n",
       "High Efficiency Whole Home Electrification                         36375.5\n",
       "Basic Enclosure + High Efficiency Whole Home Electrification       36614.1\n",
       "Enhanced Enclosure + High Efficiency Whole Home Electrification    36614.1\n",
       "Mininum Efficiency Heat Pump with Electric Heat Backup             39396.4\n",
       "Mininum Efficiency Heat Pump with Existing Heat Backup             39396.4\n",
       "Mininum Efficiency Whole Home Electrification                      42228.3\n",
       "Name: upgrade_cost_usd, dtype: float64"
      ]
     },
     "metadata": {},
     "output_type": "display_data"
    },
    {
     "name": "stdout",
     "output_type": "stream",
     "text": [
      "segment2: upgrade cost (usd) per dwelling unit\n"
     ]
    },
    {
     "data": {
      "text/plain": [
       "upgrade_name\n",
       "Electric Cooking                                                     1127.3\n",
       "Electric Clothes Dryer                                               1266.0\n",
       "Induction Cooking                                                    1953.1\n",
       "Heat Pump Clothes Dryer                                              2547.5\n",
       "Heat Pump Water Heater                                               3150.2\n",
       "Basic Enclosure                                                      4796.8\n",
       "Enhanced Enclosure                                                   6372.4\n",
       "High Efficiency Heat Pump with Electric Heat Backup                 42479.1\n",
       "Basic Enclosure + HPWH + High Efficiency HP/Electric Backup         44412.4\n",
       "Enhanced Enclosure + HPWH + High Efficiency HP/Electric Backup      44440.9\n",
       "Basic Enclosure + High Efficiency Whole Home Electrification        48913.0\n",
       "Enhanced Enclosure + High Efficiency Whole Home Electrification     48941.4\n",
       "High Efficiency Whole Home Electrification                          50129.9\n",
       "Mininum Efficiency Heat Pump with Existing Heat Backup              88379.2\n",
       "Mininum Efficiency Heat Pump with Electric Heat Backup             131937.9\n",
       "Mininum Efficiency Whole Home Electrification                      132649.5\n",
       "Name: upgrade_cost_usd, dtype: float64"
      ]
     },
     "metadata": {},
     "output_type": "display_data"
    },
    {
     "name": "stdout",
     "output_type": "stream",
     "text": [
      "segment3: upgrade cost (usd) per dwelling unit\n"
     ]
    },
    {
     "data": {
      "text/plain": [
       "upgrade_name\n",
       "Basic Enclosure                                                      864.8\n",
       "Electric Cooking                                                    1127.3\n",
       "Induction Cooking                                                   1953.1\n",
       "Heat Pump Clothes Dryer                                             2547.5\n",
       "Enhanced Enclosure                                                  2712.0\n",
       "Heat Pump Water Heater                                              2905.1\n",
       "High Efficiency Heat Pump with Electric Heat Backup                23127.5\n",
       "Basic Enclosure + HPWH + High Efficiency HP/Electric Backup        25894.0\n",
       "Enhanced Enclosure + HPWH + High Efficiency HP/Electric Backup     27632.5\n",
       "Basic Enclosure + High Efficiency Whole Home Electrification       29659.5\n",
       "High Efficiency Whole Home Electrification                         29798.1\n",
       "Mininum Efficiency Heat Pump with Electric Heat Backup             30536.5\n",
       "Mininum Efficiency Heat Pump with Existing Heat Backup             30536.5\n",
       "Enhanced Enclosure + High Efficiency Whole Home Electrification    31398.0\n",
       "Mininum Efficiency Whole Home Electrification                      43660.1\n",
       "Name: upgrade_cost_usd, dtype: float64"
      ]
     },
     "metadata": {},
     "output_type": "display_data"
    },
    {
     "name": "stdout",
     "output_type": "stream",
     "text": [
      "segment4: upgrade cost (usd) per dwelling unit\n"
     ]
    },
    {
     "data": {
      "text/plain": [
       "upgrade_name\n",
       "Basic Enclosure                                                      605.9\n",
       "Electric Cooking                                                    1127.3\n",
       "Enhanced Enclosure                                                  1767.4\n",
       "Induction Cooking                                                   1953.1\n",
       "Heat Pump Clothes Dryer                                             2547.5\n",
       "Heat Pump Water Heater                                              2905.1\n",
       "High Efficiency Heat Pump with Electric Heat Backup                20270.5\n",
       "Basic Enclosure + HPWH + High Efficiency HP/Electric Backup        21699.6\n",
       "Enhanced Enclosure + HPWH + High Efficiency HP/Electric Backup     22217.9\n",
       "Mininum Efficiency Whole Home Electrification                      22973.4\n",
       "Basic Enclosure + High Efficiency Whole Home Electrification       24047.7\n",
       "Enhanced Enclosure + High Efficiency Whole Home Electrification    24566.0\n",
       "High Efficiency Whole Home Electrification                         25523.6\n",
       "Mininum Efficiency Heat Pump with Electric Heat Backup             49763.9\n",
       "Mininum Efficiency Heat Pump with Existing Heat Backup             54580.6\n",
       "Name: upgrade_cost_usd, dtype: float64"
      ]
     },
     "metadata": {},
     "output_type": "display_data"
    },
    {
     "name": "stdout",
     "output_type": "stream",
     "text": [
      "segment5: upgrade cost (usd) per dwelling unit\n"
     ]
    },
    {
     "data": {
      "text/plain": [
       "upgrade_name\n",
       "Electric Cooking                                                    1127.3\n",
       "Electric Clothes Dryer                                              1266.0\n",
       "Basic Enclosure                                                     1775.9\n",
       "Induction Cooking                                                   1953.1\n",
       "Enhanced Enclosure                                                  2391.5\n",
       "Heat Pump Clothes Dryer                                             2547.5\n",
       "Heat Pump Water Heater                                              3024.5\n",
       "High Efficiency Heat Pump with Electric Heat Backup                23422.6\n",
       "Basic Enclosure + HPWH + High Efficiency HP/Electric Backup        26846.8\n",
       "Enhanced Enclosure + HPWH + High Efficiency HP/Electric Backup     27142.9\n",
       "Mininum Efficiency Whole Home Electrification                      27579.0\n",
       "High Efficiency Whole Home Electrification                         29820.5\n",
       "Basic Enclosure + High Efficiency Whole Home Electrification       30220.3\n",
       "Enhanced Enclosure + High Efficiency Whole Home Electrification    30516.3\n",
       "Mininum Efficiency Heat Pump with Existing Heat Backup             40811.9\n",
       "Mininum Efficiency Heat Pump with Electric Heat Backup             44343.0\n",
       "Name: upgrade_cost_usd, dtype: float64"
      ]
     },
     "metadata": {},
     "output_type": "display_data"
    }
   ],
   "source": [
    "results = segment_mean_upgrade_cost(community_results) \n",
    "saving_results[f'segment1_{income}_upgrade_cost_mean_usd'] = results[0]\n",
    "saving_results[f'segment2_{income}_upgrade_cost_mean_usd'] = results[1]\n",
    "saving_results[f'segment3_{income}_upgrade_cost_mean_usd'] = results[2]\n",
    "saving_results[f'segment4_{income}_upgrade_cost_mean_usd'] = results[3]\n",
    "saving_results[f'segment5_{income}_upgrade_cost_mean_usd'] = results[4]"
   ]
  },
  {
   "cell_type": "markdown",
   "id": "0c3d8db5",
   "metadata": {},
   "source": [
    " ## 3.2 Annual Savings Per Dollar Invested"
   ]
  },
  {
   "cell_type": "markdown",
   "id": "6d7106aa",
   "metadata": {},
   "source": [
    "### Annual Bill Savings Per Dollar Invested"
   ]
  },
  {
   "cell_type": "code",
   "execution_count": 40,
   "id": "da9bebdf",
   "metadata": {},
   "outputs": [
    {
     "name": "stdout",
     "output_type": "stream",
     "text": [
      "segment1\n"
     ]
    },
    {
     "data": {
      "text/plain": [
       "upgrade_name\n",
       "Basic Enclosure                                                    0.07975\n",
       "Enhanced Enclosure                                                 0.07652\n",
       "Heat Pump Water Heater                                             0.04453\n",
       "Heat Pump Clothes Dryer                                            0.00886\n",
       "Basic Enclosure + High Efficiency Whole Home Electrification       0.00184\n",
       "Enhanced Enclosure + High Efficiency Whole Home Electrification    0.00184\n",
       "Induction Cooking                                                  0.00140\n",
       "Basic Enclosure + HPWH + High Efficiency HP/Electric Backup        0.00122\n",
       "Enhanced Enclosure + HPWH + High Efficiency HP/Electric Backup     0.00122\n",
       "Mininum Efficiency Heat Pump with Existing Heat Backup            -0.00273\n",
       "Electric Cooking                                                  -0.00533\n",
       "Electric Clothes Dryer                                            -0.01531\n",
       "High Efficiency Whole Home Electrification                        -0.01543\n",
       "High Efficiency Heat Pump with Electric Heat Backup               -0.02614\n",
       "Mininum Efficiency Whole Home Electrification                     -0.03087\n",
       "Mininum Efficiency Heat Pump with Electric Heat Backup            -0.03543\n",
       "Name: saving_cbill.total_usd, dtype: float64"
      ]
     },
     "metadata": {},
     "output_type": "display_data"
    },
    {
     "name": "stdout",
     "output_type": "stream",
     "text": [
      "segment2\n"
     ]
    },
    {
     "data": {
      "text/plain": [
       "upgrade_name\n",
       "Basic Enclosure                                                    0.07689\n",
       "Enhanced Enclosure                                                 0.07153\n",
       "Heat Pump Water Heater                                             0.02787\n",
       "Enhanced Enclosure + HPWH + High Efficiency HP/Electric Backup     0.01138\n",
       "Enhanced Enclosure + High Efficiency Whole Home Electrification    0.01078\n",
       "Basic Enclosure + HPWH + High Efficiency HP/Electric Backup        0.00986\n",
       "Basic Enclosure + High Efficiency Whole Home Electrification       0.00940\n",
       "Heat Pump Clothes Dryer                                            0.00696\n",
       "Induction Cooking                                                  0.00047\n",
       "Mininum Efficiency Heat Pump with Existing Heat Backup            -0.00040\n",
       "High Efficiency Whole Home Electrification                        -0.00095\n",
       "High Efficiency Heat Pump with Electric Heat Backup               -0.00527\n",
       "Electric Cooking                                                  -0.00554\n",
       "Mininum Efficiency Heat Pump with Electric Heat Backup            -0.00755\n",
       "Mininum Efficiency Whole Home Electrification                     -0.00864\n",
       "Electric Clothes Dryer                                            -0.01727\n",
       "Name: saving_cbill.total_usd, dtype: float64"
      ]
     },
     "metadata": {},
     "output_type": "display_data"
    },
    {
     "name": "stdout",
     "output_type": "stream",
     "text": [
      "segment3\n"
     ]
    },
    {
     "data": {
      "text/plain": [
       "upgrade_name\n",
       "Basic Enclosure                                                    0.24074\n",
       "Enhanced Enclosure                                                 0.09782\n",
       "Heat Pump Water Heater                                             0.02566\n",
       "Enhanced Enclosure + HPWH + High Efficiency HP/Electric Backup     0.02338\n",
       "Basic Enclosure + HPWH + High Efficiency HP/Electric Backup        0.02207\n",
       "Enhanced Enclosure + High Efficiency Whole Home Electrification    0.02109\n",
       "Basic Enclosure + High Efficiency Whole Home Electrification       0.01981\n",
       "High Efficiency Whole Home Electrification                         0.01259\n",
       "High Efficiency Heat Pump with Electric Heat Backup                0.00991\n",
       "Heat Pump Clothes Dryer                                            0.00661\n",
       "Mininum Efficiency Heat Pump with Existing Heat Backup             0.00263\n",
       "Induction Cooking                                                  0.00044\n",
       "Mininum Efficiency Heat Pump with Electric Heat Backup            -0.00361\n",
       "Mininum Efficiency Whole Home Electrification                     -0.00472\n",
       "Electric Cooking                                                  -0.00478\n",
       "Name: saving_cbill.total_usd, dtype: float64"
      ]
     },
     "metadata": {},
     "output_type": "display_data"
    },
    {
     "name": "stdout",
     "output_type": "stream",
     "text": [
      "segment4\n"
     ]
    },
    {
     "data": {
      "text/plain": [
       "upgrade_name\n",
       "Basic Enclosure                                                    0.27900\n",
       "Enhanced Enclosure                                                 0.11279\n",
       "Enhanced Enclosure + HPWH + High Efficiency HP/Electric Backup     0.02320\n",
       "Basic Enclosure + HPWH + High Efficiency HP/Electric Backup        0.02318\n",
       "Enhanced Enclosure + High Efficiency Whole Home Electrification    0.02126\n",
       "Basic Enclosure + High Efficiency Whole Home Electrification       0.02120\n",
       "High Efficiency Whole Home Electrification                         0.01746\n",
       "High Efficiency Heat Pump with Electric Heat Backup                0.01732\n",
       "Heat Pump Water Heater                                             0.01578\n",
       "Heat Pump Clothes Dryer                                            0.00779\n",
       "Mininum Efficiency Heat Pump with Existing Heat Backup             0.00416\n",
       "Mininum Efficiency Heat Pump with Electric Heat Backup             0.00360\n",
       "Mininum Efficiency Whole Home Electrification                      0.00042\n",
       "Induction Cooking                                                  0.00017\n",
       "Electric Cooking                                                  -0.00846\n",
       "Name: saving_cbill.total_usd, dtype: float64"
      ]
     },
     "metadata": {},
     "output_type": "display_data"
    },
    {
     "name": "stdout",
     "output_type": "stream",
     "text": [
      "segment5\n"
     ]
    },
    {
     "data": {
      "text/plain": [
       "upgrade_name\n",
       "Basic Enclosure                                                    0.08603\n",
       "Enhanced Enclosure                                                 0.07181\n",
       "Enhanced Enclosure + HPWH + High Efficiency HP/Electric Backup     0.01422\n",
       "Heat Pump Water Heater                                             0.01339\n",
       "Basic Enclosure + HPWH + High Efficiency HP/Electric Backup        0.01313\n",
       "Enhanced Enclosure + High Efficiency Whole Home Electrification    0.01309\n",
       "Basic Enclosure + High Efficiency Whole Home Electrification       0.01211\n",
       "High Efficiency Whole Home Electrification                         0.00865\n",
       "Heat Pump Clothes Dryer                                            0.00717\n",
       "High Efficiency Heat Pump with Electric Heat Backup                0.00606\n",
       "Mininum Efficiency Heat Pump with Existing Heat Backup             0.00122\n",
       "Induction Cooking                                                  0.00041\n",
       "Mininum Efficiency Heat Pump with Electric Heat Backup            -0.00405\n",
       "Electric Cooking                                                  -0.00711\n",
       "Mininum Efficiency Whole Home Electrification                     -0.01224\n",
       "Electric Clothes Dryer                                            -0.02133\n",
       "Name: saving_cbill.total_usd, dtype: float64"
      ]
     },
     "metadata": {},
     "output_type": "display_data"
    }
   ],
   "source": [
    "indicator ='saving_cbill.total_usd'\n",
    "results = segment_savings_per_dollar(indicator, community_results) \n",
    "saving_results[f'segment1_{income}_saving_bill_per_dollar_invested_usd'] = results[0]\n",
    "saving_results[f'segment2_{income}_saving_bill_per_dollar_invested_usd'] = results[1]\n",
    "saving_results[f'segment3_{income}_saving_bill_per_dollar_invested_usd'] = results[2]\n",
    "saving_results[f'segment4_{income}_saving_bill_per_dollar_invested_usd'] = results[3]\n",
    "saving_results[f'segment5_{income}_saving_bill_per_dollar_invested_usd'] = results[4]"
   ]
  },
  {
   "cell_type": "markdown",
   "id": "60fa915b",
   "metadata": {},
   "source": [
    " ### Annual Energy Savings Per Dollar Invested"
   ]
  },
  {
   "cell_type": "code",
   "execution_count": 41,
   "id": "0edaa5a4",
   "metadata": {},
   "outputs": [
    {
     "name": "stdout",
     "output_type": "stream",
     "text": [
      "segment1\n"
     ]
    },
    {
     "data": {
      "text/plain": [
       "upgrade_name\n",
       "Basic Enclosure                                                    0.01281\n",
       "Enhanced Enclosure                                                 0.01192\n",
       "Basic Enclosure + HPWH + High Efficiency HP/Electric Backup        0.00387\n",
       "Enhanced Enclosure + HPWH + High Efficiency HP/Electric Backup     0.00387\n",
       "Basic Enclosure + High Efficiency Whole Home Electrification       0.00344\n",
       "Enhanced Enclosure + High Efficiency Whole Home Electrification    0.00344\n",
       "High Efficiency Heat Pump with Electric Heat Backup                0.00288\n",
       "Heat Pump Water Heater                                             0.00282\n",
       "High Efficiency Whole Home Electrification                         0.00276\n",
       "Mininum Efficiency Whole Home Electrification                      0.00166\n",
       "Mininum Efficiency Heat Pump with Electric Heat Backup             0.00145\n",
       "Electric Cooking                                                   0.00138\n",
       "Heat Pump Clothes Dryer                                            0.00047\n",
       "Electric Clothes Dryer                                             0.00038\n",
       "Mininum Efficiency Heat Pump with Existing Heat Backup             0.00024\n",
       "Induction Cooking                                                  0.00021\n",
       "Name: saving_energy.total_mmbtu, dtype: float64"
      ]
     },
     "metadata": {},
     "output_type": "display_data"
    },
    {
     "name": "stdout",
     "output_type": "stream",
     "text": [
      "segment2\n"
     ]
    },
    {
     "data": {
      "text/plain": [
       "upgrade_name\n",
       "Basic Enclosure                                                    0.01008\n",
       "Enhanced Enclosure                                                 0.00867\n",
       "Enhanced Enclosure + HPWH + High Efficiency HP/Electric Backup     0.00331\n",
       "Basic Enclosure + HPWH + High Efficiency HP/Electric Backup        0.00325\n",
       "Enhanced Enclosure + High Efficiency Whole Home Electrification    0.00304\n",
       "Basic Enclosure + High Efficiency Whole Home Electrification       0.00298\n",
       "High Efficiency Heat Pump with Electric Heat Backup                0.00263\n",
       "High Efficiency Whole Home Electrification                         0.00250\n",
       "Heat Pump Water Heater                                             0.00249\n",
       "Electric Cooking                                                   0.00122\n",
       "Mininum Efficiency Whole Home Electrification                      0.00071\n",
       "Mininum Efficiency Heat Pump with Electric Heat Backup             0.00061\n",
       "Mininum Efficiency Heat Pump with Existing Heat Backup             0.00046\n",
       "Electric Clothes Dryer                                             0.00037\n",
       "Heat Pump Clothes Dryer                                            0.00036\n",
       "Induction Cooking                                                  0.00030\n",
       "Name: saving_energy.total_mmbtu, dtype: float64"
      ]
     },
     "metadata": {},
     "output_type": "display_data"
    },
    {
     "name": "stdout",
     "output_type": "stream",
     "text": [
      "segment3\n"
     ]
    },
    {
     "data": {
      "text/plain": [
       "upgrade_name\n",
       "Basic Enclosure                                                    0.01544\n",
       "Enhanced Enclosure                                                 0.00644\n",
       "Basic Enclosure + HPWH + High Efficiency HP/Electric Backup        0.00207\n",
       "Enhanced Enclosure + HPWH + High Efficiency HP/Electric Backup     0.00205\n",
       "Basic Enclosure + High Efficiency Whole Home Electrification       0.00184\n",
       "Enhanced Enclosure + High Efficiency Whole Home Electrification    0.00184\n",
       "Heat Pump Water Heater                                             0.00164\n",
       "High Efficiency Heat Pump with Electric Heat Backup                0.00157\n",
       "High Efficiency Whole Home Electrification                         0.00154\n",
       "Electric Cooking                                                   0.00121\n",
       "Mininum Efficiency Whole Home Electrification                      0.00088\n",
       "Mininum Efficiency Heat Pump with Electric Heat Backup             0.00073\n",
       "Mininum Efficiency Heat Pump with Existing Heat Backup             0.00053\n",
       "Induction Cooking                                                  0.00032\n",
       "Heat Pump Clothes Dryer                                            0.00027\n",
       "Name: saving_energy.total_mmbtu, dtype: float64"
      ]
     },
     "metadata": {},
     "output_type": "display_data"
    },
    {
     "name": "stdout",
     "output_type": "stream",
     "text": [
      "segment4\n"
     ]
    },
    {
     "data": {
      "text/plain": [
       "upgrade_name\n",
       "Basic Enclosure                                                    0.01468\n",
       "Enhanced Enclosure                                                 0.00610\n",
       "Basic Enclosure + HPWH + High Efficiency HP/Electric Backup        0.00139\n",
       "Enhanced Enclosure + HPWH + High Efficiency HP/Electric Backup     0.00138\n",
       "Heat Pump Water Heater                                             0.00131\n",
       "Basic Enclosure + High Efficiency Whole Home Electrification       0.00129\n",
       "Enhanced Enclosure + High Efficiency Whole Home Electrification    0.00128\n",
       "Electric Cooking                                                   0.00118\n",
       "High Efficiency Whole Home Electrification                         0.00111\n",
       "High Efficiency Heat Pump with Electric Heat Backup                0.00104\n",
       "Mininum Efficiency Whole Home Electrification                      0.00070\n",
       "Heat Pump Clothes Dryer                                            0.00032\n",
       "Mininum Efficiency Heat Pump with Electric Heat Backup             0.00028\n",
       "Induction Cooking                                                  0.00028\n",
       "Mininum Efficiency Heat Pump with Existing Heat Backup             0.00026\n",
       "Name: saving_energy.total_mmbtu, dtype: float64"
      ]
     },
     "metadata": {},
     "output_type": "display_data"
    },
    {
     "name": "stdout",
     "output_type": "stream",
     "text": [
      "segment5\n"
     ]
    },
    {
     "data": {
      "text/plain": [
       "upgrade_name\n",
       "Basic Enclosure                                                    0.00744\n",
       "Enhanced Enclosure                                                 0.00609\n",
       "Enhanced Enclosure + HPWH + High Efficiency HP/Electric Backup     0.00196\n",
       "Heat Pump Water Heater                                             0.00194\n",
       "Basic Enclosure + HPWH + High Efficiency HP/Electric Backup        0.00193\n",
       "Enhanced Enclosure + High Efficiency Whole Home Electrification    0.00178\n",
       "Basic Enclosure + High Efficiency Whole Home Electrification       0.00175\n",
       "High Efficiency Whole Home Electrification                         0.00163\n",
       "High Efficiency Heat Pump with Electric Heat Backup                0.00156\n",
       "Electric Cooking                                                   0.00140\n",
       "Mininum Efficiency Whole Home Electrification                      0.00129\n",
       "Mininum Efficiency Heat Pump with Electric Heat Backup             0.00053\n",
       "Electric Clothes Dryer                                             0.00052\n",
       "Heat Pump Clothes Dryer                                            0.00041\n",
       "Induction Cooking                                                  0.00030\n",
       "Mininum Efficiency Heat Pump with Existing Heat Backup             0.00019\n",
       "Name: saving_energy.total_mmbtu, dtype: float64"
      ]
     },
     "metadata": {},
     "output_type": "display_data"
    },
    {
     "name": "stderr",
     "output_type": "stream",
     "text": [
      "/var/folders/zw/lhnn73fj2250g9z11h_whq1szkf2pm/T/ipykernel_25540/2996368806.py:4: PerformanceWarning:\n",
      "\n",
      "DataFrame is highly fragmented.  This is usually the result of calling `frame.insert` many times, which has poor performance.  Consider joining all columns at once using pd.concat(axis=1) instead. To get a de-fragmented frame, use `newframe = frame.copy()`\n",
      "\n",
      "/var/folders/zw/lhnn73fj2250g9z11h_whq1szkf2pm/T/ipykernel_25540/2996368806.py:5: PerformanceWarning:\n",
      "\n",
      "DataFrame is highly fragmented.  This is usually the result of calling `frame.insert` many times, which has poor performance.  Consider joining all columns at once using pd.concat(axis=1) instead. To get a de-fragmented frame, use `newframe = frame.copy()`\n",
      "\n",
      "/var/folders/zw/lhnn73fj2250g9z11h_whq1szkf2pm/T/ipykernel_25540/2996368806.py:6: PerformanceWarning:\n",
      "\n",
      "DataFrame is highly fragmented.  This is usually the result of calling `frame.insert` many times, which has poor performance.  Consider joining all columns at once using pd.concat(axis=1) instead. To get a de-fragmented frame, use `newframe = frame.copy()`\n",
      "\n",
      "/var/folders/zw/lhnn73fj2250g9z11h_whq1szkf2pm/T/ipykernel_25540/2996368806.py:7: PerformanceWarning:\n",
      "\n",
      "DataFrame is highly fragmented.  This is usually the result of calling `frame.insert` many times, which has poor performance.  Consider joining all columns at once using pd.concat(axis=1) instead. To get a de-fragmented frame, use `newframe = frame.copy()`\n",
      "\n"
     ]
    }
   ],
   "source": [
    "indicator = 'saving_energy.total_mmbtu'\n",
    "results = segment_savings_per_dollar(indicator, community_results) \n",
    "saving_results[f'segment1_{income}_saving_energy_per_dollar_invested_mmbtu'] = results[0]\n",
    "saving_results[f'segment2_{income}_saving_energy_per_dollar_invested_mmbtu'] = results[1]\n",
    "saving_results[f'segment3_{income}_saving_energy_per_dollar_invested_mmbtu'] = results[2]\n",
    "saving_results[f'segment4_{income}_saving_energy_per_dollar_invested_mmbtu'] = results[3]\n",
    "saving_results[f'segment5_{income}_saving_energy_per_dollar_invested_mmbtu'] = results[4]"
   ]
  },
  {
   "cell_type": "markdown",
   "id": "e547f174",
   "metadata": {},
   "source": [
    " ### Annual Emission Savings Per Dollar Invested"
   ]
  },
  {
   "cell_type": "code",
   "execution_count": 42,
   "id": "1434b69a",
   "metadata": {},
   "outputs": [
    {
     "name": "stdout",
     "output_type": "stream",
     "text": [
      "segment1\n"
     ]
    },
    {
     "data": {
      "text/plain": [
       "upgrade_name\n",
       "Basic Enclosure                                                    0.95085\n",
       "Enhanced Enclosure                                                 0.87947\n",
       "Basic Enclosure + HPWH + High Efficiency HP/Electric Backup        0.32988\n",
       "Enhanced Enclosure + HPWH + High Efficiency HP/Electric Backup     0.32988\n",
       "High Efficiency Heat Pump with Electric Heat Backup                0.29868\n",
       "Basic Enclosure + High Efficiency Whole Home Electrification       0.29163\n",
       "Enhanced Enclosure + High Efficiency Whole Home Electrification    0.29163\n",
       "High Efficiency Whole Home Electrification                         0.26683\n",
       "Mininum Efficiency Whole Home Electrification                      0.20412\n",
       "Mininum Efficiency Heat Pump with Electric Heat Backup             0.19470\n",
       "Heat Pump Water Heater                                             0.14440\n",
       "Electric Cooking                                                   0.13197\n",
       "Electric Clothes Dryer                                             0.06878\n",
       "Mininum Efficiency Heat Pump with Existing Heat Backup             0.02612\n",
       "Heat Pump Clothes Dryer                                            0.02131\n",
       "Induction Cooking                                                  0.01513\n",
       "Name: saving_emission.total_kgCO2e, dtype: float64"
      ]
     },
     "metadata": {},
     "output_type": "display_data"
    },
    {
     "name": "stdout",
     "output_type": "stream",
     "text": [
      "segment2\n"
     ]
    },
    {
     "data": {
      "text/plain": [
       "upgrade_name\n",
       "Basic Enclosure                                                    0.71415\n",
       "Enhanced Enclosure                                                 0.60316\n",
       "Enhanced Enclosure + HPWH + High Efficiency HP/Electric Backup     0.25934\n",
       "Basic Enclosure + HPWH + High Efficiency HP/Electric Backup        0.25712\n",
       "Enhanced Enclosure + High Efficiency Whole Home Electrification    0.23732\n",
       "Basic Enclosure + High Efficiency Whole Home Electrification       0.23530\n",
       "High Efficiency Heat Pump with Electric Heat Backup                0.23264\n",
       "High Efficiency Whole Home Electrification                         0.21370\n",
       "Heat Pump Water Heater                                             0.15542\n",
       "Electric Cooking                                                   0.11840\n",
       "Mininum Efficiency Whole Home Electrification                      0.07686\n",
       "Electric Clothes Dryer                                             0.06918\n",
       "Mininum Efficiency Heat Pump with Electric Heat Backup             0.06606\n",
       "Mininum Efficiency Heat Pump with Existing Heat Backup             0.04031\n",
       "Induction Cooking                                                  0.02492\n",
       "Heat Pump Clothes Dryer                                            0.01609\n",
       "Name: saving_emission.total_kgCO2e, dtype: float64"
      ]
     },
     "metadata": {},
     "output_type": "display_data"
    },
    {
     "name": "stdout",
     "output_type": "stream",
     "text": [
      "segment3\n"
     ]
    },
    {
     "data": {
      "text/plain": [
       "upgrade_name\n",
       "Basic Enclosure                                                    0.85060\n",
       "Enhanced Enclosure                                                 0.35974\n",
       "Basic Enclosure + HPWH + High Efficiency HP/Electric Backup        0.13197\n",
       "Enhanced Enclosure + HPWH + High Efficiency HP/Electric Backup     0.12798\n",
       "Basic Enclosure + High Efficiency Whole Home Electrification       0.11757\n",
       "Electric Cooking                                                   0.11674\n",
       "Enhanced Enclosure + High Efficiency Whole Home Electrification    0.11485\n",
       "High Efficiency Heat Pump with Electric Heat Backup                0.11256\n",
       "High Efficiency Whole Home Electrification                         0.10572\n",
       "Heat Pump Water Heater                                             0.08814\n",
       "Mininum Efficiency Whole Home Electrification                      0.08364\n",
       "Mininum Efficiency Heat Pump with Electric Heat Backup             0.06828\n",
       "Mininum Efficiency Heat Pump with Existing Heat Backup             0.03992\n",
       "Induction Cooking                                                  0.02723\n",
       "Heat Pump Clothes Dryer                                            0.00919\n",
       "Name: saving_emission.total_kgCO2e, dtype: float64"
      ]
     },
     "metadata": {},
     "output_type": "display_data"
    },
    {
     "name": "stdout",
     "output_type": "stream",
     "text": [
      "segment4\n"
     ]
    },
    {
     "data": {
      "text/plain": [
       "upgrade_name\n",
       "Basic Enclosure                                                    0.70726\n",
       "Enhanced Enclosure                                                 0.29995\n",
       "Electric Cooking                                                   0.12138\n",
       "Heat Pump Water Heater                                             0.08111\n",
       "Basic Enclosure + HPWH + High Efficiency HP/Electric Backup        0.07355\n",
       "Enhanced Enclosure + HPWH + High Efficiency HP/Electric Backup     0.07269\n",
       "Basic Enclosure + High Efficiency Whole Home Electrification       0.06835\n",
       "Enhanced Enclosure + High Efficiency Whole Home Electrification    0.06769\n",
       "High Efficiency Whole Home Electrification                         0.06047\n",
       "Mininum Efficiency Whole Home Electrification                      0.05970\n",
       "High Efficiency Heat Pump with Electric Heat Backup                0.05457\n",
       "Induction Cooking                                                  0.02379\n",
       "Mininum Efficiency Heat Pump with Electric Heat Backup             0.01690\n",
       "Mininum Efficiency Heat Pump with Existing Heat Backup             0.01446\n",
       "Heat Pump Clothes Dryer                                            0.01062\n",
       "Name: saving_emission.total_kgCO2e, dtype: float64"
      ]
     },
     "metadata": {},
     "output_type": "display_data"
    },
    {
     "name": "stdout",
     "output_type": "stream",
     "text": [
      "segment5\n"
     ]
    },
    {
     "data": {
      "text/plain": [
       "upgrade_name\n",
       "Basic Enclosure                                                    0.46427\n",
       "Enhanced Enclosure                                                 0.37794\n",
       "Heat Pump Water Heater                                             0.14015\n",
       "Enhanced Enclosure + HPWH + High Efficiency HP/Electric Backup     0.13796\n",
       "Electric Cooking                                                   0.13777\n",
       "Basic Enclosure + HPWH + High Efficiency HP/Electric Backup        0.13751\n",
       "Mininum Efficiency Whole Home Electrification                      0.13239\n",
       "Enhanced Enclosure + High Efficiency Whole Home Electrification    0.12523\n",
       "Basic Enclosure + High Efficiency Whole Home Electrification       0.12471\n",
       "High Efficiency Whole Home Electrification                         0.12071\n",
       "High Efficiency Heat Pump with Electric Heat Backup                0.11904\n",
       "Electric Clothes Dryer                                             0.09415\n",
       "Mininum Efficiency Heat Pump with Electric Heat Backup             0.05172\n",
       "Induction Cooking                                                  0.02493\n",
       "Heat Pump Clothes Dryer                                            0.01995\n",
       "Mininum Efficiency Heat Pump with Existing Heat Backup             0.01361\n",
       "Name: saving_emission.total_kgCO2e, dtype: float64"
      ]
     },
     "metadata": {},
     "output_type": "display_data"
    },
    {
     "name": "stderr",
     "output_type": "stream",
     "text": [
      "/var/folders/zw/lhnn73fj2250g9z11h_whq1szkf2pm/T/ipykernel_25540/3746797145.py:3: PerformanceWarning:\n",
      "\n",
      "DataFrame is highly fragmented.  This is usually the result of calling `frame.insert` many times, which has poor performance.  Consider joining all columns at once using pd.concat(axis=1) instead. To get a de-fragmented frame, use `newframe = frame.copy()`\n",
      "\n",
      "/var/folders/zw/lhnn73fj2250g9z11h_whq1szkf2pm/T/ipykernel_25540/3746797145.py:4: PerformanceWarning:\n",
      "\n",
      "DataFrame is highly fragmented.  This is usually the result of calling `frame.insert` many times, which has poor performance.  Consider joining all columns at once using pd.concat(axis=1) instead. To get a de-fragmented frame, use `newframe = frame.copy()`\n",
      "\n",
      "/var/folders/zw/lhnn73fj2250g9z11h_whq1szkf2pm/T/ipykernel_25540/3746797145.py:5: PerformanceWarning:\n",
      "\n",
      "DataFrame is highly fragmented.  This is usually the result of calling `frame.insert` many times, which has poor performance.  Consider joining all columns at once using pd.concat(axis=1) instead. To get a de-fragmented frame, use `newframe = frame.copy()`\n",
      "\n",
      "/var/folders/zw/lhnn73fj2250g9z11h_whq1szkf2pm/T/ipykernel_25540/3746797145.py:6: PerformanceWarning:\n",
      "\n",
      "DataFrame is highly fragmented.  This is usually the result of calling `frame.insert` many times, which has poor performance.  Consider joining all columns at once using pd.concat(axis=1) instead. To get a de-fragmented frame, use `newframe = frame.copy()`\n",
      "\n",
      "/var/folders/zw/lhnn73fj2250g9z11h_whq1szkf2pm/T/ipykernel_25540/3746797145.py:7: PerformanceWarning:\n",
      "\n",
      "DataFrame is highly fragmented.  This is usually the result of calling `frame.insert` many times, which has poor performance.  Consider joining all columns at once using pd.concat(axis=1) instead. To get a de-fragmented frame, use `newframe = frame.copy()`\n",
      "\n"
     ]
    }
   ],
   "source": [
    "indicator ='saving_emission.total_kgCO2e'\n",
    "results = segment_savings_per_dollar(indicator, community_results) \n",
    "saving_results[f'segment1_{income}_saving_emission_per_dollar_invested_kgCO2e'] = results[0]\n",
    "saving_results[f'segment2_{income}_saving_emission_per_dollar_invested_kgCO2e'] = results[1]\n",
    "saving_results[f'segment3_{income}_saving_emission_per_dollar_invested_kgCO2e'] = results[2]\n",
    "saving_results[f'segment4_{income}_saving_emission_per_dollar_invested_kgCO2e'] = results[3]\n",
    "saving_results[f'segment5_{income}_saving_emission_per_dollar_invested_kgCO2e'] = results[4]"
   ]
  },
  {
   "cell_type": "markdown",
   "id": "dca98489",
   "metadata": {},
   "source": [
    "## 3.3 Annual Total Savings"
   ]
  },
  {
   "cell_type": "markdown",
   "id": "b549310c",
   "metadata": {},
   "source": [
    "### Annual Total Bill Savings"
   ]
  },
  {
   "cell_type": "code",
   "execution_count": 43,
   "id": "fdc30441",
   "metadata": {},
   "outputs": [
    {
     "name": "stdout",
     "output_type": "stream",
     "text": [
      "segment1\n"
     ]
    },
    {
     "data": {
      "text/plain": [
       "upgrade_name\n",
       "Enhanced Enclosure                                                 127060.8\n",
       "Basic Enclosure                                                    116635.7\n",
       "Heat Pump Water Heater                                              43508.3\n",
       "Basic Enclosure + High Efficiency Whole Home Electrification        21820.5\n",
       "Enhanced Enclosure + High Efficiency Whole Home Electrification     21820.5\n",
       "Basic Enclosure + HPWH + High Efficiency HP/Electric Backup         12747.7\n",
       "Enhanced Enclosure + HPWH + High Efficiency HP/Electric Backup      12747.7\n",
       "Heat Pump Clothes Dryer                                              7310.7\n",
       "Induction Cooking                                                     884.9\n",
       "Electric Cooking                                                     -322.3\n",
       "Electric Clothes Dryer                                              -1371.2\n",
       "Mininum Efficiency Heat Pump with Existing Heat Backup             -34822.4\n",
       "High Efficiency Whole Home Electrification                        -181912.1\n",
       "High Efficiency Heat Pump with Electric Heat Backup               -244499.6\n",
       "Mininum Efficiency Whole Home Electrification                     -422437.5\n",
       "Mininum Efficiency Heat Pump with Electric Heat Backup            -452339.5\n",
       "Name: saving_cbill.total_usd, dtype: float64"
      ]
     },
     "metadata": {},
     "output_type": "display_data"
    },
    {
     "name": "stdout",
     "output_type": "stream",
     "text": [
      "segment2\n"
     ]
    },
    {
     "data": {
      "text/plain": [
       "upgrade_name\n",
       "Enhanced Enclosure + High Efficiency Whole Home Electrification     512523.6\n",
       "Enhanced Enclosure + HPWH + High Efficiency HP/Electric Backup      491290.9\n",
       "Basic Enclosure + High Efficiency Whole Home Electrification        446915.6\n",
       "Enhanced Enclosure                                                  442900.4\n",
       "Basic Enclosure + HPWH + High Efficiency HP/Electric Backup         425682.9\n",
       "Basic Enclosure                                                     344289.5\n",
       "Heat Pump Water Heater                                               85299.9\n",
       "Heat Pump Clothes Dryer                                              17219.4\n",
       "Induction Cooking                                                      887.0\n",
       "Electric Cooking                                                     -2030.1\n",
       "Electric Clothes Dryer                                               -3186.7\n",
       "Mininum Efficiency Heat Pump with Existing Heat Backup              -30679.6\n",
       "High Efficiency Whole Home Electrification                          -46296.8\n",
       "High Efficiency Heat Pump with Electric Heat Backup                -217565.1\n",
       "Mininum Efficiency Heat Pump with Electric Heat Backup             -968489.2\n",
       "Mininum Efficiency Whole Home Electrification                     -1009153.1\n",
       "Name: saving_cbill.total_usd, dtype: float64"
      ]
     },
     "metadata": {},
     "output_type": "display_data"
    },
    {
     "name": "stdout",
     "output_type": "stream",
     "text": [
      "segment3\n"
     ]
    },
    {
     "data": {
      "text/plain": [
       "upgrade_name\n",
       "Enhanced Enclosure + High Efficiency Whole Home Electrification    717924.0\n",
       "Enhanced Enclosure + HPWH + High Efficiency HP/Electric Backup     700506.5\n",
       "Basic Enclosure + High Efficiency Whole Home Electrification       636949.6\n",
       "Basic Enclosure + HPWH + High Efficiency HP/Electric Backup        619532.1\n",
       "High Efficiency Whole Home Electrification                         406684.4\n",
       "Enhanced Enclosure                                                 287596.8\n",
       "High Efficiency Heat Pump with Electric Heat Backup                248395.3\n",
       "Basic Enclosure                                                    225697.5\n",
       "Mininum Efficiency Heat Pump with Existing Heat Backup              87121.7\n",
       "Heat Pump Water Heater                                              80818.5\n",
       "Heat Pump Clothes Dryer                                             12983.0\n",
       "Induction Cooking                                                     926.7\n",
       "Electric Cooking                                                    -2188.9\n",
       "Mininum Efficiency Heat Pump with Electric Heat Backup            -119500.7\n",
       "Mininum Efficiency Whole Home Electrification                     -146258.9\n",
       "Name: saving_cbill.total_usd, dtype: float64"
      ]
     },
     "metadata": {},
     "output_type": "display_data"
    },
    {
     "name": "stdout",
     "output_type": "stream",
     "text": [
      "segment4\n"
     ]
    },
    {
     "data": {
      "text/plain": [
       "upgrade_name\n",
       "Enhanced Enclosure + High Efficiency Whole Home Electrification    990883.8\n",
       "Enhanced Enclosure + HPWH + High Efficiency HP/Electric Backup     977988.8\n",
       "Basic Enclosure + High Efficiency Whole Home Electrification       967299.1\n",
       "Basic Enclosure + HPWH + High Efficiency HP/Electric Backup        954404.1\n",
       "High Efficiency Whole Home Electrification                         845441.3\n",
       "High Efficiency Heat Pump with Electric Heat Backup                666194.5\n",
       "Mininum Efficiency Heat Pump with Existing Heat Backup             381660.7\n",
       "Mininum Efficiency Heat Pump with Electric Heat Backup             339689.4\n",
       "Enhanced Enclosure                                                 306733.0\n",
       "Basic Enclosure                                                    250993.3\n",
       "Heat Pump Water Heater                                              86959.0\n",
       "Mininum Efficiency Whole Home Electrification                       11695.2\n",
       "Heat Pump Clothes Dryer                                              9127.6\n",
       "Induction Cooking                                                     558.5\n",
       "Electric Cooking                                                    -4930.6\n",
       "Name: saving_cbill.total_usd, dtype: float64"
      ]
     },
     "metadata": {},
     "output_type": "display_data"
    },
    {
     "name": "stdout",
     "output_type": "stream",
     "text": [
      "segment5\n"
     ]
    },
    {
     "data": {
      "text/plain": [
       "upgrade_name\n",
       "Enhanced Enclosure + High Efficiency Whole Home Electrification    1868827.7\n",
       "Enhanced Enclosure + HPWH + High Efficiency HP/Electric Backup     1806337.5\n",
       "Basic Enclosure + High Efficiency Whole Home Electrification       1711631.7\n",
       "Basic Enclosure + HPWH + High Efficiency HP/Electric Backup        1649141.5\n",
       "High Efficiency Whole Home Electrification                         1206344.1\n",
       "High Efficiency Heat Pump with Electric Heat Backup                 664565.9\n",
       "Enhanced Enclosure                                                  635501.8\n",
       "Basic Enclosure                                                     533354.5\n",
       "Mininum Efficiency Heat Pump with Existing Heat Backup              230113.6\n",
       "Heat Pump Water Heater                                              189471.3\n",
       "Heat Pump Clothes Dryer                                              47628.4\n",
       "Induction Cooking                                                     3766.1\n",
       "Electric Cooking                                                    -10748.8\n",
       "Electric Clothes Dryer                                              -12236.1\n",
       "Mininum Efficiency Heat Pump with Electric Heat Backup             -840103.7\n",
       "Mininum Efficiency Whole Home Electrification                     -1219841.0\n",
       "Name: saving_cbill.total_usd, dtype: float64"
      ]
     },
     "metadata": {},
     "output_type": "display_data"
    },
    {
     "name": "stderr",
     "output_type": "stream",
     "text": [
      "/var/folders/zw/lhnn73fj2250g9z11h_whq1szkf2pm/T/ipykernel_25540/320912423.py:3: PerformanceWarning:\n",
      "\n",
      "DataFrame is highly fragmented.  This is usually the result of calling `frame.insert` many times, which has poor performance.  Consider joining all columns at once using pd.concat(axis=1) instead. To get a de-fragmented frame, use `newframe = frame.copy()`\n",
      "\n",
      "/var/folders/zw/lhnn73fj2250g9z11h_whq1szkf2pm/T/ipykernel_25540/320912423.py:4: PerformanceWarning:\n",
      "\n",
      "DataFrame is highly fragmented.  This is usually the result of calling `frame.insert` many times, which has poor performance.  Consider joining all columns at once using pd.concat(axis=1) instead. To get a de-fragmented frame, use `newframe = frame.copy()`\n",
      "\n",
      "/var/folders/zw/lhnn73fj2250g9z11h_whq1szkf2pm/T/ipykernel_25540/320912423.py:5: PerformanceWarning:\n",
      "\n",
      "DataFrame is highly fragmented.  This is usually the result of calling `frame.insert` many times, which has poor performance.  Consider joining all columns at once using pd.concat(axis=1) instead. To get a de-fragmented frame, use `newframe = frame.copy()`\n",
      "\n",
      "/var/folders/zw/lhnn73fj2250g9z11h_whq1szkf2pm/T/ipykernel_25540/320912423.py:6: PerformanceWarning:\n",
      "\n",
      "DataFrame is highly fragmented.  This is usually the result of calling `frame.insert` many times, which has poor performance.  Consider joining all columns at once using pd.concat(axis=1) instead. To get a de-fragmented frame, use `newframe = frame.copy()`\n",
      "\n",
      "/var/folders/zw/lhnn73fj2250g9z11h_whq1szkf2pm/T/ipykernel_25540/320912423.py:7: PerformanceWarning:\n",
      "\n",
      "DataFrame is highly fragmented.  This is usually the result of calling `frame.insert` many times, which has poor performance.  Consider joining all columns at once using pd.concat(axis=1) instead. To get a de-fragmented frame, use `newframe = frame.copy()`\n",
      "\n"
     ]
    }
   ],
   "source": [
    "indicator ='saving_cbill.total_usd'\n",
    "results = segment_annual_total_savings(indicator, community_results)\n",
    "saving_results[f'segment1_{income}_saving_bill_total_usd'] = results[0]\n",
    "saving_results[f'segment2_{income}_saving_bill_total_usd'] = results[1]\n",
    "saving_results[f'segment3_{income}_saving_bill_total_usd'] = results[2]\n",
    "saving_results[f'segment4_{income}_saving_bill_total_usd'] = results[3]\n",
    "saving_results[f'segment5_{income}_saving_bill_total_usd'] = results[4]"
   ]
  },
  {
   "cell_type": "markdown",
   "id": "394241c1",
   "metadata": {},
   "source": [
    "### Annual Total Energy Savings"
   ]
  },
  {
   "cell_type": "code",
   "execution_count": 44,
   "id": "8d5c8c52",
   "metadata": {},
   "outputs": [
    {
     "name": "stdout",
     "output_type": "stream",
     "text": [
      "segment1\n"
     ]
    },
    {
     "data": {
      "text/plain": [
       "upgrade_name\n",
       "Basic Enclosure + High Efficiency Whole Home Electrification       40795.3\n",
       "Enhanced Enclosure + High Efficiency Whole Home Electrification    40795.3\n",
       "Basic Enclosure + HPWH + High Efficiency HP/Electric Backup        40276.0\n",
       "Enhanced Enclosure + HPWH + High Efficiency HP/Electric Backup     40276.0\n",
       "High Efficiency Whole Home Electrification                         32503.8\n",
       "High Efficiency Heat Pump with Electric Heat Backup                26948.2\n",
       "Mininum Efficiency Whole Home Electrification                      22714.8\n",
       "Enhanced Enclosure                                                 19790.1\n",
       "Basic Enclosure                                                    18730.6\n",
       "Mininum Efficiency Heat Pump with Electric Heat Backup             18498.4\n",
       "Mininum Efficiency Heat Pump with Existing Heat Backup              3035.5\n",
       "Heat Pump Water Heater                                              2750.5\n",
       "Heat Pump Clothes Dryer                                              386.9\n",
       "Induction Cooking                                                    132.4\n",
       "Electric Cooking                                                      83.3\n",
       "Electric Clothes Dryer                                                33.6\n",
       "Name: saving_energy.total_mmbtu, dtype: float64"
      ]
     },
     "metadata": {},
     "output_type": "display_data"
    },
    {
     "name": "stdout",
     "output_type": "stream",
     "text": [
      "segment2\n"
     ]
    },
    {
     "data": {
      "text/plain": [
       "upgrade_name\n",
       "Enhanced Enclosure + High Efficiency Whole Home Electrification    144470.9\n",
       "Enhanced Enclosure + HPWH + High Efficiency HP/Electric Backup     143004.5\n",
       "Basic Enclosure + High Efficiency Whole Home Electrification       141800.8\n",
       "Basic Enclosure + HPWH + High Efficiency HP/Electric Backup        140334.4\n",
       "High Efficiency Whole Home Electrification                         121727.9\n",
       "High Efficiency Heat Pump with Electric Heat Backup                108351.8\n",
       "Mininum Efficiency Whole Home Electrification                       82541.4\n",
       "Mininum Efficiency Heat Pump with Electric Heat Backup              77811.4\n",
       "Enhanced Enclosure                                                  53704.3\n",
       "Basic Enclosure                                                     45130.0\n",
       "Mininum Efficiency Heat Pump with Existing Heat Backup              35931.1\n",
       "Heat Pump Water Heater                                               7622.1\n",
       "Heat Pump Clothes Dryer                                               899.3\n",
       "Induction Cooking                                                     567.2\n",
       "Electric Cooking                                                      448.5\n",
       "Electric Clothes Dryer                                                 68.8\n",
       "Name: saving_energy.total_mmbtu, dtype: float64"
      ]
     },
     "metadata": {},
     "output_type": "display_data"
    },
    {
     "name": "stdout",
     "output_type": "stream",
     "text": [
      "segment3\n"
     ]
    },
    {
     "data": {
      "text/plain": [
       "upgrade_name\n",
       "Enhanced Enclosure + High Efficiency Whole Home Electrification    62505.9\n",
       "Enhanced Enclosure + HPWH + High Efficiency HP/Electric Backup     61294.4\n",
       "Basic Enclosure + High Efficiency Whole Home Electrification       59210.4\n",
       "Basic Enclosure + HPWH + High Efficiency HP/Electric Backup        57998.9\n",
       "High Efficiency Whole Home Electrification                         49839.0\n",
       "High Efficiency Heat Pump with Electric Heat Backup                39292.6\n",
       "Mininum Efficiency Whole Home Electrification                      27335.2\n",
       "Mininum Efficiency Heat Pump with Electric Heat Backup             24323.3\n",
       "Enhanced Enclosure                                                 18932.7\n",
       "Mininum Efficiency Heat Pump with Existing Heat Backup             17544.4\n",
       "Basic Enclosure                                                    14478.5\n",
       "Heat Pump Water Heater                                              5178.8\n",
       "Induction Cooking                                                    683.2\n",
       "Electric Cooking                                                     556.4\n",
       "Heat Pump Clothes Dryer                                              528.4\n",
       "Name: saving_energy.total_mmbtu, dtype: float64"
      ]
     },
     "metadata": {},
     "output_type": "display_data"
    },
    {
     "name": "stdout",
     "output_type": "stream",
     "text": [
      "segment4\n"
     ]
    },
    {
     "data": {
      "text/plain": [
       "upgrade_name\n",
       "Enhanced Enclosure + High Efficiency Whole Home Electrification    59600.4\n",
       "Basic Enclosure + High Efficiency Whole Home Electrification       58640.6\n",
       "Enhanced Enclosure + HPWH + High Efficiency HP/Electric Backup     58318.2\n",
       "Basic Enclosure + HPWH + High Efficiency HP/Electric Backup        57358.3\n",
       "High Efficiency Whole Home Electrification                         53681.2\n",
       "High Efficiency Heat Pump with Electric Heat Backup                39857.7\n",
       "Mininum Efficiency Heat Pump with Electric Heat Backup             26572.3\n",
       "Mininum Efficiency Heat Pump with Existing Heat Backup             24301.3\n",
       "Mininum Efficiency Whole Home Electrification                      19749.2\n",
       "Enhanced Enclosure                                                 16578.2\n",
       "Basic Enclosure                                                    13202.1\n",
       "Heat Pump Water Heater                                              7227.4\n",
       "Induction Cooking                                                    910.8\n",
       "Electric Cooking                                                     687.4\n",
       "Heat Pump Clothes Dryer                                              371.5\n",
       "Name: saving_energy.total_mmbtu, dtype: float64"
      ]
     },
     "metadata": {},
     "output_type": "display_data"
    },
    {
     "name": "stdout",
     "output_type": "stream",
     "text": [
      "segment5\n"
     ]
    },
    {
     "data": {
      "text/plain": [
       "upgrade_name\n",
       "Enhanced Enclosure + High Efficiency Whole Home Electrification    254242.8\n",
       "Enhanced Enclosure + HPWH + High Efficiency HP/Electric Backup     248792.7\n",
       "Basic Enclosure + High Efficiency Whole Home Electrification       247845.2\n",
       "Basic Enclosure + HPWH + High Efficiency HP/Electric Backup        242395.1\n",
       "High Efficiency Whole Home Electrification                         227281.1\n",
       "High Efficiency Heat Pump with Electric Heat Backup                170687.6\n",
       "Mininum Efficiency Whole Home Electrification                      128539.6\n",
       "Mininum Efficiency Heat Pump with Electric Heat Backup             109485.9\n",
       "Enhanced Enclosure                                                  53911.2\n",
       "Basic Enclosure                                                     46103.7\n",
       "Mininum Efficiency Heat Pump with Existing Heat Backup              35309.7\n",
       "Heat Pump Water Heater                                              27521.9\n",
       "Heat Pump Clothes Dryer                                              2735.9\n",
       "Induction Cooking                                                    2714.2\n",
       "Electric Cooking                                                     2123.5\n",
       "Electric Clothes Dryer                                                299.5\n",
       "Name: saving_energy.total_mmbtu, dtype: float64"
      ]
     },
     "metadata": {},
     "output_type": "display_data"
    },
    {
     "name": "stderr",
     "output_type": "stream",
     "text": [
      "/var/folders/zw/lhnn73fj2250g9z11h_whq1szkf2pm/T/ipykernel_25540/4074720020.py:3: PerformanceWarning:\n",
      "\n",
      "DataFrame is highly fragmented.  This is usually the result of calling `frame.insert` many times, which has poor performance.  Consider joining all columns at once using pd.concat(axis=1) instead. To get a de-fragmented frame, use `newframe = frame.copy()`\n",
      "\n",
      "/var/folders/zw/lhnn73fj2250g9z11h_whq1szkf2pm/T/ipykernel_25540/4074720020.py:4: PerformanceWarning:\n",
      "\n",
      "DataFrame is highly fragmented.  This is usually the result of calling `frame.insert` many times, which has poor performance.  Consider joining all columns at once using pd.concat(axis=1) instead. To get a de-fragmented frame, use `newframe = frame.copy()`\n",
      "\n",
      "/var/folders/zw/lhnn73fj2250g9z11h_whq1szkf2pm/T/ipykernel_25540/4074720020.py:5: PerformanceWarning:\n",
      "\n",
      "DataFrame is highly fragmented.  This is usually the result of calling `frame.insert` many times, which has poor performance.  Consider joining all columns at once using pd.concat(axis=1) instead. To get a de-fragmented frame, use `newframe = frame.copy()`\n",
      "\n",
      "/var/folders/zw/lhnn73fj2250g9z11h_whq1szkf2pm/T/ipykernel_25540/4074720020.py:6: PerformanceWarning:\n",
      "\n",
      "DataFrame is highly fragmented.  This is usually the result of calling `frame.insert` many times, which has poor performance.  Consider joining all columns at once using pd.concat(axis=1) instead. To get a de-fragmented frame, use `newframe = frame.copy()`\n",
      "\n",
      "/var/folders/zw/lhnn73fj2250g9z11h_whq1szkf2pm/T/ipykernel_25540/4074720020.py:7: PerformanceWarning:\n",
      "\n",
      "DataFrame is highly fragmented.  This is usually the result of calling `frame.insert` many times, which has poor performance.  Consider joining all columns at once using pd.concat(axis=1) instead. To get a de-fragmented frame, use `newframe = frame.copy()`\n",
      "\n"
     ]
    }
   ],
   "source": [
    "indicator ='saving_energy.total_mmbtu'\n",
    "results = segment_annual_total_savings(indicator, community_results)\n",
    "saving_results[f'segment1_{income}_saving_energy_total_mmbtu'] = results[0]\n",
    "saving_results[f'segment2_{income}_saving_energy_total_mmbtu'] = results[1]\n",
    "saving_results[f'segment3_{income}_saving_energy_total_mmbtu'] = results[2]\n",
    "saving_results[f'segment4_{income}_saving_energy_total_mmbtu'] = results[3]\n",
    "saving_results[f'segment5_{income}_saving_energy_total_mmbtu'] = results[4]"
   ]
  },
  {
   "cell_type": "markdown",
   "id": "5763f90a",
   "metadata": {},
   "source": [
    "### Annual Total Emission Savings"
   ]
  },
  {
   "cell_type": "code",
   "execution_count": 45,
   "id": "f1023e8a",
   "metadata": {},
   "outputs": [
    {
     "name": "stdout",
     "output_type": "stream",
     "text": [
      "segment1\n"
     ]
    },
    {
     "data": {
      "text/plain": [
       "upgrade_name\n",
       "Basic Enclosure + High Efficiency Whole Home Electrification       3460473.7\n",
       "Enhanced Enclosure + High Efficiency Whole Home Electrification    3460473.7\n",
       "Basic Enclosure + HPWH + High Efficiency HP/Electric Backup        3433300.3\n",
       "Enhanced Enclosure + HPWH + High Efficiency HP/Electric Backup     3433300.3\n",
       "High Efficiency Whole Home Electrification                         3145572.2\n",
       "High Efficiency Heat Pump with Electric Heat Backup                2793601.9\n",
       "Mininum Efficiency Whole Home Electrification                      2793545.1\n",
       "Mininum Efficiency Heat Pump with Electric Heat Backup             2485842.5\n",
       "Enhanced Enclosure                                                 1460444.3\n",
       "Basic Enclosure                                                    1390657.7\n",
       "Mininum Efficiency Heat Pump with Existing Heat Backup              333453.9\n",
       "Heat Pump Water Heater                                              141084.6\n",
       "Heat Pump Clothes Dryer                                              17597.4\n",
       "Induction Cooking                                                     9576.0\n",
       "Electric Cooking                                                      7976.5\n",
       "Electric Clothes Dryer                                                6161.7\n",
       "Name: saving_emission.total_kgCO2e, dtype: float64"
      ]
     },
     "metadata": {},
     "output_type": "display_data"
    },
    {
     "name": "stdout",
     "output_type": "stream",
     "text": [
      "segment2\n"
     ]
    },
    {
     "data": {
      "text/plain": [
       "upgrade_name\n",
       "Enhanced Enclosure + High Efficiency Whole Home Electrification    11285637.5\n",
       "Enhanced Enclosure + HPWH + High Efficiency HP/Electric Backup     11198505.5\n",
       "Basic Enclosure + High Efficiency Whole Home Electrification       11182798.5\n",
       "Basic Enclosure + HPWH + High Efficiency HP/Electric Backup        11095666.5\n",
       "High Efficiency Whole Home Electrification                         10409065.4\n",
       "High Efficiency Heat Pump with Electric Heat Backup                 9602368.7\n",
       "Mininum Efficiency Whole Home Electrification                       8971931.0\n",
       "Mininum Efficiency Heat Pump with Electric Heat Backup              8469300.7\n",
       "Enhanced Enclosure                                                  3734647.5\n",
       "Basic Enclosure                                                     3197900.4\n",
       "Mininum Efficiency Heat Pump with Existing Heat Backup              3130076.7\n",
       "Heat Pump Water Heater                                               475740.1\n",
       "Induction Cooking                                                     47295.7\n",
       "Electric Cooking                                                      43382.7\n",
       "Heat Pump Clothes Dryer                                               39836.4\n",
       "Electric Clothes Dryer                                                12764.8\n",
       "Name: saving_emission.total_kgCO2e, dtype: float64"
      ]
     },
     "metadata": {},
     "output_type": "display_data"
    },
    {
     "name": "stdout",
     "output_type": "stream",
     "text": [
      "segment3\n"
     ]
    },
    {
     "data": {
      "text/plain": [
       "upgrade_name\n",
       "Enhanced Enclosure + High Efficiency Whole Home Electrification    3909369.0\n",
       "Enhanced Enclosure + HPWH + High Efficiency HP/Electric Backup     3833648.2\n",
       "Basic Enclosure + High Efficiency Whole Home Electrification       3780337.1\n",
       "Basic Enclosure + HPWH + High Efficiency HP/Electric Backup        3704616.3\n",
       "High Efficiency Whole Home Electrification                         3415273.3\n",
       "High Efficiency Heat Pump with Electric Heat Backup                2822195.3\n",
       "Mininum Efficiency Whole Home Electrification                      2591098.5\n",
       "Mininum Efficiency Heat Pump with Electric Heat Backup             2260453.7\n",
       "Mininum Efficiency Heat Pump with Existing Heat Backup             1321644.4\n",
       "Enhanced Enclosure                                                 1057645.9\n",
       "Basic Enclosure                                                     797438.7\n",
       "Heat Pump Water Heater                                              277575.6\n",
       "Induction Cooking                                                    57664.7\n",
       "Electric Cooking                                                     53492.9\n",
       "Heat Pump Clothes Dryer                                              18056.1\n",
       "Name: saving_emission.total_kgCO2e, dtype: float64"
      ]
     },
     "metadata": {},
     "output_type": "display_data"
    },
    {
     "name": "stdout",
     "output_type": "stream",
     "text": [
      "segment4\n"
     ]
    },
    {
     "data": {
      "text/plain": [
       "upgrade_name\n",
       "Enhanced Enclosure + High Efficiency Whole Home Electrification    3154664.5\n",
       "Basic Enclosure + High Efficiency Whole Home Electrification       3118411.3\n",
       "Enhanced Enclosure + HPWH + High Efficiency HP/Electric Backup     3064109.0\n",
       "Basic Enclosure + HPWH + High Efficiency HP/Electric Backup        3027855.8\n",
       "High Efficiency Whole Home Electrification                         2928056.0\n",
       "High Efficiency Heat Pump with Electric Heat Backup                2098809.7\n",
       "Mininum Efficiency Whole Home Electrification                      1672433.1\n",
       "Mininum Efficiency Heat Pump with Electric Heat Backup             1595898.3\n",
       "Mininum Efficiency Heat Pump with Existing Heat Backup             1326731.1\n",
       "Enhanced Enclosure                                                  815709.7\n",
       "Basic Enclosure                                                     636263.5\n",
       "Heat Pump Water Heater                                              447039.7\n",
       "Induction Cooking                                                    78112.1\n",
       "Electric Cooking                                                     70740.0\n",
       "Heat Pump Clothes Dryer                                              12443.4\n",
       "Name: saving_emission.total_kgCO2e, dtype: float64"
      ]
     },
     "metadata": {},
     "output_type": "display_data"
    },
    {
     "name": "stdout",
     "output_type": "stream",
     "text": [
      "segment5\n"
     ]
    },
    {
     "data": {
      "text/plain": [
       "upgrade_name\n",
       "Enhanced Enclosure + High Efficiency Whole Home Electrification    17879805.0\n",
       "Basic Enclosure + High Efficiency Whole Home Electrification       17632724.0\n",
       "Enhanced Enclosure + HPWH + High Efficiency HP/Electric Backup     17519412.7\n",
       "Basic Enclosure + HPWH + High Efficiency HP/Electric Backup        17272331.7\n",
       "High Efficiency Whole Home Electrification                         16841317.4\n",
       "Mininum Efficiency Whole Home Electrification                      13189362.3\n",
       "High Efficiency Heat Pump with Electric Heat Backup                13045008.6\n",
       "Mininum Efficiency Heat Pump with Electric Heat Backup             10729909.3\n",
       "Enhanced Enclosure                                                  3344590.2\n",
       "Basic Enclosure                                                     2878159.2\n",
       "Mininum Efficiency Heat Pump with Existing Heat Backup              2569902.3\n",
       "Heat Pump Water Heater                                              1983217.9\n",
       "Induction Cooking                                                    227836.4\n",
       "Electric Cooking                                                     208263.4\n",
       "Heat Pump Clothes Dryer                                              132555.9\n",
       "Electric Clothes Dryer                                                54000.1\n",
       "Name: saving_emission.total_kgCO2e, dtype: float64"
      ]
     },
     "metadata": {},
     "output_type": "display_data"
    },
    {
     "name": "stderr",
     "output_type": "stream",
     "text": [
      "/var/folders/zw/lhnn73fj2250g9z11h_whq1szkf2pm/T/ipykernel_25540/723531023.py:3: PerformanceWarning:\n",
      "\n",
      "DataFrame is highly fragmented.  This is usually the result of calling `frame.insert` many times, which has poor performance.  Consider joining all columns at once using pd.concat(axis=1) instead. To get a de-fragmented frame, use `newframe = frame.copy()`\n",
      "\n",
      "/var/folders/zw/lhnn73fj2250g9z11h_whq1szkf2pm/T/ipykernel_25540/723531023.py:4: PerformanceWarning:\n",
      "\n",
      "DataFrame is highly fragmented.  This is usually the result of calling `frame.insert` many times, which has poor performance.  Consider joining all columns at once using pd.concat(axis=1) instead. To get a de-fragmented frame, use `newframe = frame.copy()`\n",
      "\n",
      "/var/folders/zw/lhnn73fj2250g9z11h_whq1szkf2pm/T/ipykernel_25540/723531023.py:5: PerformanceWarning:\n",
      "\n",
      "DataFrame is highly fragmented.  This is usually the result of calling `frame.insert` many times, which has poor performance.  Consider joining all columns at once using pd.concat(axis=1) instead. To get a de-fragmented frame, use `newframe = frame.copy()`\n",
      "\n",
      "/var/folders/zw/lhnn73fj2250g9z11h_whq1szkf2pm/T/ipykernel_25540/723531023.py:6: PerformanceWarning:\n",
      "\n",
      "DataFrame is highly fragmented.  This is usually the result of calling `frame.insert` many times, which has poor performance.  Consider joining all columns at once using pd.concat(axis=1) instead. To get a de-fragmented frame, use `newframe = frame.copy()`\n",
      "\n",
      "/var/folders/zw/lhnn73fj2250g9z11h_whq1szkf2pm/T/ipykernel_25540/723531023.py:7: PerformanceWarning:\n",
      "\n",
      "DataFrame is highly fragmented.  This is usually the result of calling `frame.insert` many times, which has poor performance.  Consider joining all columns at once using pd.concat(axis=1) instead. To get a de-fragmented frame, use `newframe = frame.copy()`\n",
      "\n"
     ]
    }
   ],
   "source": [
    "indicator ='saving_emission.total_kgCO2e'\n",
    "results = segment_annual_total_savings(indicator, community_results)\n",
    "saving_results[f'segment1_{income}_saving_emission_total_kgCO2e'] = results[0]\n",
    "saving_results[f'segment2_{income}_saving_emission_total_kgCO2e'] = results[1]\n",
    "saving_results[f'segment3_{income}_saving_emission_total_kgCO2e'] = results[2]\n",
    "saving_results[f'segment4_{income}_saving_emission_total_kgCO2e'] = results[3]\n",
    "saving_results[f'segment5_{income}_saving_emission_total_kgCO2e'] = results[4]"
   ]
  },
  {
   "cell_type": "markdown",
   "id": "563da3e8",
   "metadata": {},
   "source": [
    "## 3.4 Annual Savings Per Dwelling Unit"
   ]
  },
  {
   "cell_type": "markdown",
   "id": "cc8ea738",
   "metadata": {},
   "source": [
    "### Annual Bill Savings Per Dwelling Unit"
   ]
  },
  {
   "cell_type": "code",
   "execution_count": 46,
   "id": "82aded52",
   "metadata": {},
   "outputs": [
    {
     "name": "stdout",
     "output_type": "stream",
     "text": [
      "segment1\n"
     ]
    },
    {
     "data": {
      "text/plain": [
       "upgrade_name\n",
       "Enhanced Enclosure                                                  392.1\n",
       "Basic Enclosure                                                     359.9\n",
       "Heat Pump Water Heater                                              134.2\n",
       "Basic Enclosure + High Efficiency Whole Home Electrification         67.3\n",
       "Enhanced Enclosure + High Efficiency Whole Home Electrification      67.3\n",
       "Basic Enclosure + HPWH + High Efficiency HP/Electric Backup          39.3\n",
       "Enhanced Enclosure + HPWH + High Efficiency HP/Electric Backup       39.3\n",
       "Heat Pump Clothes Dryer                                              22.6\n",
       "Induction Cooking                                                     2.7\n",
       "Electric Cooking                                                     -6.0\n",
       "Electric Clothes Dryer                                              -19.4\n",
       "Mininum Efficiency Heat Pump with Existing Heat Backup             -107.4\n",
       "High Efficiency Whole Home Electrification                         -561.3\n",
       "High Efficiency Heat Pump with Electric Heat Backup                -754.4\n",
       "Mininum Efficiency Whole Home Electrification                     -1303.5\n",
       "Mininum Efficiency Heat Pump with Electric Heat Backup            -1395.7\n",
       "Name: saving_cbill.total_usd, dtype: float64"
      ]
     },
     "metadata": {},
     "output_type": "display_data"
    },
    {
     "name": "stdout",
     "output_type": "stream",
     "text": [
      "segment2\n"
     ]
    },
    {
     "data": {
      "text/plain": [
       "upgrade_name\n",
       "Enhanced Enclosure + High Efficiency Whole Home Electrification     527.5\n",
       "Enhanced Enclosure + HPWH + High Efficiency HP/Electric Backup      505.6\n",
       "Basic Enclosure + High Efficiency Whole Home Electrification        460.0\n",
       "Enhanced Enclosure                                                  455.8\n",
       "Basic Enclosure + HPWH + High Efficiency HP/Electric Backup         438.1\n",
       "Basic Enclosure                                                     368.8\n",
       "Heat Pump Water Heater                                               87.8\n",
       "Heat Pump Clothes Dryer                                              17.7\n",
       "Induction Cooking                                                     0.9\n",
       "Electric Cooking                                                     -6.2\n",
       "Electric Clothes Dryer                                              -21.9\n",
       "Mininum Efficiency Heat Pump with Existing Heat Backup              -34.9\n",
       "High Efficiency Whole Home Electrification                          -47.6\n",
       "High Efficiency Heat Pump with Electric Heat Backup                -223.9\n",
       "Mininum Efficiency Heat Pump with Electric Heat Backup             -996.7\n",
       "Mininum Efficiency Whole Home Electrification                     -1146.7\n",
       "Name: saving_cbill.total_usd, dtype: float64"
      ]
     },
     "metadata": {},
     "output_type": "display_data"
    },
    {
     "name": "stdout",
     "output_type": "stream",
     "text": [
      "segment3\n"
     ]
    },
    {
     "data": {
      "text/plain": [
       "upgrade_name\n",
       "Enhanced Enclosure + High Efficiency Whole Home Electrification    662.2\n",
       "Enhanced Enclosure + HPWH + High Efficiency HP/Electric Backup     646.2\n",
       "Basic Enclosure + High Efficiency Whole Home Electrification       587.5\n",
       "Basic Enclosure + HPWH + High Efficiency HP/Electric Backup        571.5\n",
       "High Efficiency Whole Home Electrification                         375.1\n",
       "Enhanced Enclosure                                                 265.3\n",
       "High Efficiency Heat Pump with Electric Heat Backup                229.1\n",
       "Basic Enclosure                                                    208.2\n",
       "Mininum Efficiency Heat Pump with Existing Heat Backup              80.4\n",
       "Heat Pump Water Heater                                              74.5\n",
       "Heat Pump Clothes Dryer                                             16.8\n",
       "Induction Cooking                                                    0.9\n",
       "Electric Cooking                                                    -5.4\n",
       "Mininum Efficiency Heat Pump with Electric Heat Backup            -110.2\n",
       "Mininum Efficiency Whole Home Electrification                     -206.1\n",
       "Name: saving_cbill.total_usd, dtype: float64"
      ]
     },
     "metadata": {},
     "output_type": "display_data"
    },
    {
     "name": "stdout",
     "output_type": "stream",
     "text": [
      "segment4\n"
     ]
    },
    {
     "data": {
      "text/plain": [
       "upgrade_name\n",
       "Enhanced Enclosure + High Efficiency Whole Home Electrification    522.3\n",
       "Enhanced Enclosure + HPWH + High Efficiency HP/Electric Backup     515.5\n",
       "Basic Enclosure + High Efficiency Whole Home Electrification       509.8\n",
       "Basic Enclosure + HPWH + High Efficiency HP/Electric Backup        503.0\n",
       "High Efficiency Whole Home Electrification                         445.6\n",
       "High Efficiency Heat Pump with Electric Heat Backup                351.1\n",
       "Mininum Efficiency Heat Pump with Existing Heat Backup             227.0\n",
       "Enhanced Enclosure                                                 199.3\n",
       "Mininum Efficiency Heat Pump with Electric Heat Backup             179.0\n",
       "Basic Enclosure                                                    169.1\n",
       "Heat Pump Water Heater                                              45.8\n",
       "Heat Pump Clothes Dryer                                             19.8\n",
       "Mininum Efficiency Whole Home Electrification                        9.6\n",
       "Induction Cooking                                                    0.3\n",
       "Electric Cooking                                                    -9.5\n",
       "Name: saving_cbill.total_usd, dtype: float64"
      ]
     },
     "metadata": {},
     "output_type": "display_data"
    },
    {
     "name": "stdout",
     "output_type": "stream",
     "text": [
      "segment5\n"
     ]
    },
    {
     "data": {
      "text/plain": [
       "upgrade_name\n",
       "Enhanced Enclosure + High Efficiency Whole Home Electrification    399.4\n",
       "Enhanced Enclosure + HPWH + High Efficiency HP/Electric Backup     386.1\n",
       "Basic Enclosure + High Efficiency Whole Home Electrification       365.8\n",
       "Basic Enclosure + HPWH + High Efficiency HP/Electric Backup        352.5\n",
       "High Efficiency Whole Home Electrification                         257.8\n",
       "Enhanced Enclosure                                                 171.7\n",
       "Basic Enclosure                                                    152.8\n",
       "High Efficiency Heat Pump with Electric Heat Backup                142.0\n",
       "Mininum Efficiency Heat Pump with Existing Heat Backup              49.7\n",
       "Heat Pump Water Heater                                              40.5\n",
       "Heat Pump Clothes Dryer                                             18.3\n",
       "Induction Cooking                                                    0.8\n",
       "Electric Cooking                                                    -8.0\n",
       "Electric Clothes Dryer                                             -27.0\n",
       "Mininum Efficiency Heat Pump with Electric Heat Backup            -179.6\n",
       "Mininum Efficiency Whole Home Electrification                     -337.7\n",
       "Name: saving_cbill.total_usd, dtype: float64"
      ]
     },
     "metadata": {},
     "output_type": "display_data"
    },
    {
     "name": "stderr",
     "output_type": "stream",
     "text": [
      "/var/folders/zw/lhnn73fj2250g9z11h_whq1szkf2pm/T/ipykernel_25540/541036721.py:3: PerformanceWarning:\n",
      "\n",
      "DataFrame is highly fragmented.  This is usually the result of calling `frame.insert` many times, which has poor performance.  Consider joining all columns at once using pd.concat(axis=1) instead. To get a de-fragmented frame, use `newframe = frame.copy()`\n",
      "\n",
      "/var/folders/zw/lhnn73fj2250g9z11h_whq1szkf2pm/T/ipykernel_25540/541036721.py:4: PerformanceWarning:\n",
      "\n",
      "DataFrame is highly fragmented.  This is usually the result of calling `frame.insert` many times, which has poor performance.  Consider joining all columns at once using pd.concat(axis=1) instead. To get a de-fragmented frame, use `newframe = frame.copy()`\n",
      "\n",
      "/var/folders/zw/lhnn73fj2250g9z11h_whq1szkf2pm/T/ipykernel_25540/541036721.py:5: PerformanceWarning:\n",
      "\n",
      "DataFrame is highly fragmented.  This is usually the result of calling `frame.insert` many times, which has poor performance.  Consider joining all columns at once using pd.concat(axis=1) instead. To get a de-fragmented frame, use `newframe = frame.copy()`\n",
      "\n",
      "/var/folders/zw/lhnn73fj2250g9z11h_whq1szkf2pm/T/ipykernel_25540/541036721.py:6: PerformanceWarning:\n",
      "\n",
      "DataFrame is highly fragmented.  This is usually the result of calling `frame.insert` many times, which has poor performance.  Consider joining all columns at once using pd.concat(axis=1) instead. To get a de-fragmented frame, use `newframe = frame.copy()`\n",
      "\n",
      "/var/folders/zw/lhnn73fj2250g9z11h_whq1szkf2pm/T/ipykernel_25540/541036721.py:7: PerformanceWarning:\n",
      "\n",
      "DataFrame is highly fragmented.  This is usually the result of calling `frame.insert` many times, which has poor performance.  Consider joining all columns at once using pd.concat(axis=1) instead. To get a de-fragmented frame, use `newframe = frame.copy()`\n",
      "\n"
     ]
    }
   ],
   "source": [
    "indicator ='saving_cbill.total_usd'\n",
    "results = segment_mean_savings(indicator, community_results)\n",
    "saving_results[f'segment1_{income}_saving_bill_mean_usd'] = results[0]\n",
    "saving_results[f'segment2_{income}_saving_bill_mean_usd'] = results[1]\n",
    "saving_results[f'segment3_{income}_saving_bill_mean_usd'] = results[2]\n",
    "saving_results[f'segment4_{income}_saving_bill_mean_usd'] = results[3]\n",
    "saving_results[f'segment5_{income}_saving_bill_mean_usd'] = results[4]"
   ]
  },
  {
   "cell_type": "markdown",
   "id": "7b3bbdc3",
   "metadata": {},
   "source": [
    "### Annual Energy Savings Per Dwelling Unit"
   ]
  },
  {
   "cell_type": "code",
   "execution_count": 47,
   "id": "d554f5e1",
   "metadata": {},
   "outputs": [
    {
     "name": "stdout",
     "output_type": "stream",
     "text": [
      "segment1\n"
     ]
    },
    {
     "data": {
      "text/plain": [
       "upgrade_name\n",
       "Basic Enclosure + High Efficiency Whole Home Electrification       125.9\n",
       "Enhanced Enclosure + High Efficiency Whole Home Electrification    125.9\n",
       "Basic Enclosure + HPWH + High Efficiency HP/Electric Backup        124.3\n",
       "Enhanced Enclosure + HPWH + High Efficiency HP/Electric Backup     124.3\n",
       "High Efficiency Whole Home Electrification                         100.3\n",
       "High Efficiency Heat Pump with Electric Heat Backup                 83.2\n",
       "Mininum Efficiency Whole Home Electrification                       70.1\n",
       "Enhanced Enclosure                                                  61.1\n",
       "Basic Enclosure                                                     57.8\n",
       "Mininum Efficiency Heat Pump with Electric Heat Backup              57.1\n",
       "Mininum Efficiency Heat Pump with Existing Heat Backup               9.4\n",
       "Heat Pump Water Heater                                               8.5\n",
       "Electric Cooking                                                     1.6\n",
       "Heat Pump Clothes Dryer                                              1.2\n",
       "Electric Clothes Dryer                                               0.5\n",
       "Induction Cooking                                                    0.4\n",
       "Name: saving_energy.total_mmbtu, dtype: float64"
      ]
     },
     "metadata": {},
     "output_type": "display_data"
    },
    {
     "name": "stdout",
     "output_type": "stream",
     "text": [
      "segment2\n"
     ]
    },
    {
     "data": {
      "text/plain": [
       "upgrade_name\n",
       "Enhanced Enclosure + High Efficiency Whole Home Electrification    148.7\n",
       "Enhanced Enclosure + HPWH + High Efficiency HP/Electric Backup     147.2\n",
       "Basic Enclosure + High Efficiency Whole Home Electrification       145.9\n",
       "Basic Enclosure + HPWH + High Efficiency HP/Electric Backup        144.4\n",
       "High Efficiency Whole Home Electrification                         125.3\n",
       "High Efficiency Heat Pump with Electric Heat Backup                111.5\n",
       "Mininum Efficiency Whole Home Electrification                       93.8\n",
       "Mininum Efficiency Heat Pump with Electric Heat Backup              80.1\n",
       "Enhanced Enclosure                                                  55.3\n",
       "Basic Enclosure                                                     48.3\n",
       "Mininum Efficiency Heat Pump with Existing Heat Backup              40.9\n",
       "Heat Pump Water Heater                                               7.8\n",
       "Electric Cooking                                                     1.4\n",
       "Heat Pump Clothes Dryer                                              0.9\n",
       "Induction Cooking                                                    0.6\n",
       "Electric Clothes Dryer                                               0.5\n",
       "Name: saving_energy.total_mmbtu, dtype: float64"
      ]
     },
     "metadata": {},
     "output_type": "display_data"
    },
    {
     "name": "stdout",
     "output_type": "stream",
     "text": [
      "segment3\n"
     ]
    },
    {
     "data": {
      "text/plain": [
       "upgrade_name\n",
       "Enhanced Enclosure + High Efficiency Whole Home Electrification    57.7\n",
       "Enhanced Enclosure + HPWH + High Efficiency HP/Electric Backup     56.5\n",
       "Basic Enclosure + High Efficiency Whole Home Electrification       54.6\n",
       "Basic Enclosure + HPWH + High Efficiency HP/Electric Backup        53.5\n",
       "High Efficiency Whole Home Electrification                         46.0\n",
       "Mininum Efficiency Whole Home Electrification                      38.5\n",
       "High Efficiency Heat Pump with Electric Heat Backup                36.2\n",
       "Mininum Efficiency Heat Pump with Electric Heat Backup             22.4\n",
       "Enhanced Enclosure                                                 17.5\n",
       "Mininum Efficiency Heat Pump with Existing Heat Backup             16.2\n",
       "Basic Enclosure                                                    13.4\n",
       "Heat Pump Water Heater                                              4.8\n",
       "Electric Cooking                                                    1.4\n",
       "Heat Pump Clothes Dryer                                             0.7\n",
       "Induction Cooking                                                   0.6\n",
       "Name: saving_energy.total_mmbtu, dtype: float64"
      ]
     },
     "metadata": {},
     "output_type": "display_data"
    },
    {
     "name": "stdout",
     "output_type": "stream",
     "text": [
      "segment4\n"
     ]
    },
    {
     "data": {
      "text/plain": [
       "upgrade_name\n",
       "Enhanced Enclosure + High Efficiency Whole Home Electrification    31.4\n",
       "Basic Enclosure + High Efficiency Whole Home Electrification       30.9\n",
       "Enhanced Enclosure + HPWH + High Efficiency HP/Electric Backup     30.7\n",
       "Basic Enclosure + HPWH + High Efficiency HP/Electric Backup        30.2\n",
       "High Efficiency Whole Home Electrification                         28.3\n",
       "High Efficiency Heat Pump with Electric Heat Backup                21.0\n",
       "Mininum Efficiency Whole Home Electrification                      16.2\n",
       "Mininum Efficiency Heat Pump with Existing Heat Backup             14.5\n",
       "Mininum Efficiency Heat Pump with Electric Heat Backup             14.0\n",
       "Enhanced Enclosure                                                 10.8\n",
       "Basic Enclosure                                                     8.9\n",
       "Heat Pump Water Heater                                              3.8\n",
       "Electric Cooking                                                    1.3\n",
       "Heat Pump Clothes Dryer                                             0.8\n",
       "Induction Cooking                                                   0.5\n",
       "Name: saving_energy.total_mmbtu, dtype: float64"
      ]
     },
     "metadata": {},
     "output_type": "display_data"
    },
    {
     "name": "stdout",
     "output_type": "stream",
     "text": [
      "segment5\n"
     ]
    },
    {
     "data": {
      "text/plain": [
       "upgrade_name\n",
       "Enhanced Enclosure + High Efficiency Whole Home Electrification    54.3\n",
       "Enhanced Enclosure + HPWH + High Efficiency HP/Electric Backup     53.2\n",
       "Basic Enclosure + High Efficiency Whole Home Electrification       53.0\n",
       "Basic Enclosure + HPWH + High Efficiency HP/Electric Backup        51.8\n",
       "High Efficiency Whole Home Electrification                         48.6\n",
       "High Efficiency Heat Pump with Electric Heat Backup                36.5\n",
       "Mininum Efficiency Whole Home Electrification                      35.6\n",
       "Mininum Efficiency Heat Pump with Electric Heat Backup             23.4\n",
       "Enhanced Enclosure                                                 14.6\n",
       "Basic Enclosure                                                    13.2\n",
       "Mininum Efficiency Heat Pump with Existing Heat Backup              7.6\n",
       "Heat Pump Water Heater                                              5.9\n",
       "Electric Cooking                                                    1.6\n",
       "Heat Pump Clothes Dryer                                             1.0\n",
       "Electric Clothes Dryer                                              0.7\n",
       "Induction Cooking                                                   0.6\n",
       "Name: saving_energy.total_mmbtu, dtype: float64"
      ]
     },
     "metadata": {},
     "output_type": "display_data"
    },
    {
     "name": "stderr",
     "output_type": "stream",
     "text": [
      "/var/folders/zw/lhnn73fj2250g9z11h_whq1szkf2pm/T/ipykernel_25540/927876618.py:3: PerformanceWarning:\n",
      "\n",
      "DataFrame is highly fragmented.  This is usually the result of calling `frame.insert` many times, which has poor performance.  Consider joining all columns at once using pd.concat(axis=1) instead. To get a de-fragmented frame, use `newframe = frame.copy()`\n",
      "\n",
      "/var/folders/zw/lhnn73fj2250g9z11h_whq1szkf2pm/T/ipykernel_25540/927876618.py:4: PerformanceWarning:\n",
      "\n",
      "DataFrame is highly fragmented.  This is usually the result of calling `frame.insert` many times, which has poor performance.  Consider joining all columns at once using pd.concat(axis=1) instead. To get a de-fragmented frame, use `newframe = frame.copy()`\n",
      "\n",
      "/var/folders/zw/lhnn73fj2250g9z11h_whq1szkf2pm/T/ipykernel_25540/927876618.py:5: PerformanceWarning:\n",
      "\n",
      "DataFrame is highly fragmented.  This is usually the result of calling `frame.insert` many times, which has poor performance.  Consider joining all columns at once using pd.concat(axis=1) instead. To get a de-fragmented frame, use `newframe = frame.copy()`\n",
      "\n",
      "/var/folders/zw/lhnn73fj2250g9z11h_whq1szkf2pm/T/ipykernel_25540/927876618.py:6: PerformanceWarning:\n",
      "\n",
      "DataFrame is highly fragmented.  This is usually the result of calling `frame.insert` many times, which has poor performance.  Consider joining all columns at once using pd.concat(axis=1) instead. To get a de-fragmented frame, use `newframe = frame.copy()`\n",
      "\n",
      "/var/folders/zw/lhnn73fj2250g9z11h_whq1szkf2pm/T/ipykernel_25540/927876618.py:7: PerformanceWarning:\n",
      "\n",
      "DataFrame is highly fragmented.  This is usually the result of calling `frame.insert` many times, which has poor performance.  Consider joining all columns at once using pd.concat(axis=1) instead. To get a de-fragmented frame, use `newframe = frame.copy()`\n",
      "\n"
     ]
    }
   ],
   "source": [
    "indicator ='saving_energy.total_mmbtu'\n",
    "results = segment_mean_savings(indicator, community_results) \n",
    "saving_results[f'segment1_{income}_saving_energy_mean_mmbtu'] = results[0]\n",
    "saving_results[f'segment2_{income}_saving_energy_mean_mmbtu'] = results[1]\n",
    "saving_results[f'segment3_{income}_saving_energy_mean_mmbtu'] = results[2]\n",
    "saving_results[f'segment4_{income}_saving_energy_mean_mmbtu'] = results[3]\n",
    "saving_results[f'segment5_{income}_saving_energy_mean_mmbtu'] = results[4]"
   ]
  },
  {
   "cell_type": "markdown",
   "id": "1df2744e",
   "metadata": {},
   "source": [
    "### Annual Percentage Energy Savings Per Dwelling Unit"
   ]
  },
  {
   "cell_type": "code",
   "execution_count": 48,
   "id": "75fce0ec",
   "metadata": {},
   "outputs": [
    {
     "name": "stdout",
     "output_type": "stream",
     "text": [
      "segment1\n"
     ]
    },
    {
     "data": {
      "text/plain": [
       "upgrade_name\n",
       "Basic Enclosure + High Efficiency Whole Home Electrification       61.7\n",
       "Enhanced Enclosure + High Efficiency Whole Home Electrification    61.7\n",
       "Basic Enclosure + HPWH + High Efficiency HP/Electric Backup        60.8\n",
       "Enhanced Enclosure + HPWH + High Efficiency HP/Electric Backup     60.8\n",
       "High Efficiency Whole Home Electrification                         48.5\n",
       "High Efficiency Heat Pump with Electric Heat Backup                38.8\n",
       "Mininum Efficiency Whole Home Electrification                      33.7\n",
       "Enhanced Enclosure                                                 29.4\n",
       "Basic Enclosure                                                    26.8\n",
       "Mininum Efficiency Heat Pump with Electric Heat Backup             26.0\n",
       "Heat Pump Water Heater                                              5.4\n",
       "Mininum Efficiency Heat Pump with Existing Heat Backup              3.0\n",
       "Electric Cooking                                                    0.9\n",
       "Heat Pump Clothes Dryer                                             0.6\n",
       "Electric Clothes Dryer                                              0.3\n",
       "Induction Cooking                                                   0.2\n",
       "Name: pct_saving_energy.total_%, dtype: float64"
      ]
     },
     "metadata": {},
     "output_type": "display_data"
    },
    {
     "name": "stdout",
     "output_type": "stream",
     "text": [
      "segment2\n"
     ]
    },
    {
     "data": {
      "text/plain": [
       "upgrade_name\n",
       "Enhanced Enclosure + High Efficiency Whole Home Electrification    67.6\n",
       "Enhanced Enclosure + HPWH + High Efficiency HP/Electric Backup     66.7\n",
       "Basic Enclosure + High Efficiency Whole Home Electrification       66.7\n",
       "Basic Enclosure + HPWH + High Efficiency HP/Electric Backup        65.9\n",
       "High Efficiency Whole Home Electrification                         57.8\n",
       "High Efficiency Heat Pump with Electric Heat Backup                50.4\n",
       "Mininum Efficiency Whole Home Electrification                      42.7\n",
       "Mininum Efficiency Heat Pump with Electric Heat Backup             36.1\n",
       "Enhanced Enclosure                                                 24.7\n",
       "Basic Enclosure                                                    20.7\n",
       "Mininum Efficiency Heat Pump with Existing Heat Backup             20.5\n",
       "Heat Pump Water Heater                                              4.2\n",
       "Electric Cooking                                                    0.8\n",
       "Heat Pump Clothes Dryer                                             0.5\n",
       "Induction Cooking                                                   0.3\n",
       "Electric Clothes Dryer                                              0.3\n",
       "Name: pct_saving_energy.total_%, dtype: float64"
      ]
     },
     "metadata": {},
     "output_type": "display_data"
    },
    {
     "name": "stdout",
     "output_type": "stream",
     "text": [
      "segment3\n"
     ]
    },
    {
     "data": {
      "text/plain": [
       "upgrade_name\n",
       "Enhanced Enclosure + High Efficiency Whole Home Electrification    57.8\n",
       "Enhanced Enclosure + HPWH + High Efficiency HP/Electric Backup     56.5\n",
       "Basic Enclosure + High Efficiency Whole Home Electrification       54.7\n",
       "Basic Enclosure + HPWH + High Efficiency HP/Electric Backup        53.4\n",
       "High Efficiency Whole Home Electrification                         46.0\n",
       "High Efficiency Heat Pump with Electric Heat Backup                35.8\n",
       "Mininum Efficiency Whole Home Electrification                      33.6\n",
       "Mininum Efficiency Heat Pump with Electric Heat Backup             20.6\n",
       "Mininum Efficiency Heat Pump with Existing Heat Backup             16.4\n",
       "Enhanced Enclosure                                                 16.3\n",
       "Basic Enclosure                                                    11.9\n",
       "Heat Pump Water Heater                                              5.1\n",
       "Electric Cooking                                                    1.5\n",
       "Heat Pump Clothes Dryer                                             0.8\n",
       "Induction Cooking                                                   0.7\n",
       "Name: pct_saving_energy.total_%, dtype: float64"
      ]
     },
     "metadata": {},
     "output_type": "display_data"
    },
    {
     "name": "stdout",
     "output_type": "stream",
     "text": [
      "segment4\n"
     ]
    },
    {
     "data": {
      "text/plain": [
       "upgrade_name\n",
       "Enhanced Enclosure + High Efficiency Whole Home Electrification    54.7\n",
       "Basic Enclosure + High Efficiency Whole Home Electrification       53.9\n",
       "Enhanced Enclosure + HPWH + High Efficiency HP/Electric Backup     53.5\n",
       "Basic Enclosure + HPWH + High Efficiency HP/Electric Backup        52.6\n",
       "High Efficiency Whole Home Electrification                         49.7\n",
       "High Efficiency Heat Pump with Electric Heat Backup                34.8\n",
       "Mininum Efficiency Whole Home Electrification                      25.0\n",
       "Mininum Efficiency Heat Pump with Existing Heat Backup             23.8\n",
       "Mininum Efficiency Heat Pump with Electric Heat Backup             21.8\n",
       "Enhanced Enclosure                                                 17.3\n",
       "Basic Enclosure                                                    13.8\n",
       "Heat Pump Water Heater                                              8.8\n",
       "Electric Cooking                                                    2.4\n",
       "Heat Pump Clothes Dryer                                             1.4\n",
       "Induction Cooking                                                   1.0\n",
       "Name: pct_saving_energy.total_%, dtype: float64"
      ]
     },
     "metadata": {},
     "output_type": "display_data"
    },
    {
     "name": "stdout",
     "output_type": "stream",
     "text": [
      "segment5\n"
     ]
    },
    {
     "data": {
      "text/plain": [
       "upgrade_name\n",
       "Enhanced Enclosure + High Efficiency Whole Home Electrification    57.3\n",
       "Basic Enclosure + High Efficiency Whole Home Electrification       56.1\n",
       "Enhanced Enclosure + HPWH + High Efficiency HP/Electric Backup     56.1\n",
       "Basic Enclosure + HPWH + High Efficiency HP/Electric Backup        54.9\n",
       "High Efficiency Whole Home Electrification                         52.0\n",
       "High Efficiency Heat Pump with Electric Heat Backup                36.5\n",
       "Mininum Efficiency Whole Home Electrification                      35.0\n",
       "Mininum Efficiency Heat Pump with Electric Heat Backup             23.0\n",
       "Enhanced Enclosure                                                 13.3\n",
       "Basic Enclosure                                                    11.6\n",
       "Mininum Efficiency Heat Pump with Existing Heat Backup             10.1\n",
       "Heat Pump Water Heater                                              7.6\n",
       "Electric Cooking                                                    1.6\n",
       "Heat Pump Clothes Dryer                                             1.1\n",
       "Induction Cooking                                                   0.7\n",
       "Electric Clothes Dryer                                              0.6\n",
       "Name: pct_saving_energy.total_%, dtype: float64"
      ]
     },
     "metadata": {},
     "output_type": "display_data"
    },
    {
     "name": "stderr",
     "output_type": "stream",
     "text": [
      "/var/folders/zw/lhnn73fj2250g9z11h_whq1szkf2pm/T/ipykernel_25540/1754187417.py:3: PerformanceWarning:\n",
      "\n",
      "DataFrame is highly fragmented.  This is usually the result of calling `frame.insert` many times, which has poor performance.  Consider joining all columns at once using pd.concat(axis=1) instead. To get a de-fragmented frame, use `newframe = frame.copy()`\n",
      "\n",
      "/var/folders/zw/lhnn73fj2250g9z11h_whq1szkf2pm/T/ipykernel_25540/1754187417.py:4: PerformanceWarning:\n",
      "\n",
      "DataFrame is highly fragmented.  This is usually the result of calling `frame.insert` many times, which has poor performance.  Consider joining all columns at once using pd.concat(axis=1) instead. To get a de-fragmented frame, use `newframe = frame.copy()`\n",
      "\n",
      "/var/folders/zw/lhnn73fj2250g9z11h_whq1szkf2pm/T/ipykernel_25540/1754187417.py:5: PerformanceWarning:\n",
      "\n",
      "DataFrame is highly fragmented.  This is usually the result of calling `frame.insert` many times, which has poor performance.  Consider joining all columns at once using pd.concat(axis=1) instead. To get a de-fragmented frame, use `newframe = frame.copy()`\n",
      "\n",
      "/var/folders/zw/lhnn73fj2250g9z11h_whq1szkf2pm/T/ipykernel_25540/1754187417.py:6: PerformanceWarning:\n",
      "\n",
      "DataFrame is highly fragmented.  This is usually the result of calling `frame.insert` many times, which has poor performance.  Consider joining all columns at once using pd.concat(axis=1) instead. To get a de-fragmented frame, use `newframe = frame.copy()`\n",
      "\n",
      "/var/folders/zw/lhnn73fj2250g9z11h_whq1szkf2pm/T/ipykernel_25540/1754187417.py:7: PerformanceWarning:\n",
      "\n",
      "DataFrame is highly fragmented.  This is usually the result of calling `frame.insert` many times, which has poor performance.  Consider joining all columns at once using pd.concat(axis=1) instead. To get a de-fragmented frame, use `newframe = frame.copy()`\n",
      "\n"
     ]
    }
   ],
   "source": [
    "indicator ='pct_saving_energy.total_%'\n",
    "results = segment_mean_savings(indicator, community_results)\n",
    "saving_results[f'segment1_{income}_pct_saving_energy_mean_%'] = results[0]\n",
    "saving_results[f'segment2_{income}_pct_saving_energy_mean_%'] = results[1]\n",
    "saving_results[f'segment3_{income}_pct_saving_energy_mean_%'] = results[2]\n",
    "saving_results[f'segment4_{income}_pct_saving_energy_mean_%'] = results[3]\n",
    "saving_results[f'segment5_{income}_pct_saving_energy_mean_%'] = results[4]"
   ]
  },
  {
   "cell_type": "markdown",
   "id": "d2b75959",
   "metadata": {},
   "source": [
    "### Annual Emission Savings Per Dwelling Unit"
   ]
  },
  {
   "cell_type": "code",
   "execution_count": 49,
   "id": "564427ed",
   "metadata": {},
   "outputs": [
    {
     "name": "stdout",
     "output_type": "stream",
     "text": [
      "segment1\n"
     ]
    },
    {
     "data": {
      "text/plain": [
       "upgrade_name\n",
       "Basic Enclosure + High Efficiency Whole Home Electrification       10677.6\n",
       "Enhanced Enclosure + High Efficiency Whole Home Electrification    10677.6\n",
       "Basic Enclosure + HPWH + High Efficiency HP/Electric Backup        10593.8\n",
       "Enhanced Enclosure + HPWH + High Efficiency HP/Electric Backup     10593.8\n",
       "High Efficiency Whole Home Electrification                          9706.0\n",
       "High Efficiency Heat Pump with Electric Heat Backup                 8619.9\n",
       "Mininum Efficiency Whole Home Electrification                       8619.7\n",
       "Mininum Efficiency Heat Pump with Electric Heat Backup              7670.3\n",
       "Enhanced Enclosure                                                  4506.3\n",
       "Basic Enclosure                                                     4291.0\n",
       "Mininum Efficiency Heat Pump with Existing Heat Backup              1028.9\n",
       "Heat Pump Water Heater                                               435.3\n",
       "Electric Cooking                                                     148.8\n",
       "Electric Clothes Dryer                                                87.1\n",
       "Heat Pump Clothes Dryer                                               54.3\n",
       "Induction Cooking                                                     29.5\n",
       "Name: saving_emission.total_kgCO2e, dtype: float64"
      ]
     },
     "metadata": {},
     "output_type": "display_data"
    },
    {
     "name": "stdout",
     "output_type": "stream",
     "text": [
      "segment2\n"
     ]
    },
    {
     "data": {
      "text/plain": [
       "upgrade_name\n",
       "Enhanced Enclosure + High Efficiency Whole Home Electrification    11614.9\n",
       "Enhanced Enclosure + HPWH + High Efficiency HP/Electric Backup     11525.2\n",
       "Basic Enclosure + High Efficiency Whole Home Electrification       11509.1\n",
       "Basic Enclosure + HPWH + High Efficiency HP/Electric Backup        11419.4\n",
       "High Efficiency Whole Home Electrification                         10712.8\n",
       "Mininum Efficiency Whole Home Electrification                      10194.8\n",
       "High Efficiency Heat Pump with Electric Heat Backup                 9882.5\n",
       "Mininum Efficiency Heat Pump with Electric Heat Backup              8716.4\n",
       "Enhanced Enclosure                                                  3843.6\n",
       "Mininum Efficiency Heat Pump with Existing Heat Backup              3562.7\n",
       "Basic Enclosure                                                     3425.7\n",
       "Heat Pump Water Heater                                               489.6\n",
       "Electric Cooking                                                     133.5\n",
       "Electric Clothes Dryer                                                87.6\n",
       "Induction Cooking                                                     48.7\n",
       "Heat Pump Clothes Dryer                                               41.0\n",
       "Name: saving_emission.total_kgCO2e, dtype: float64"
      ]
     },
     "metadata": {},
     "output_type": "display_data"
    },
    {
     "name": "stdout",
     "output_type": "stream",
     "text": [
      "segment3\n"
     ]
    },
    {
     "data": {
      "text/plain": [
       "upgrade_name\n",
       "Mininum Efficiency Whole Home Electrification                      3651.9\n",
       "Enhanced Enclosure + High Efficiency Whole Home Electrification    3606.1\n",
       "Enhanced Enclosure + HPWH + High Efficiency HP/Electric Backup     3536.3\n",
       "Basic Enclosure + High Efficiency Whole Home Electrification       3487.1\n",
       "Basic Enclosure + HPWH + High Efficiency HP/Electric Backup        3417.3\n",
       "High Efficiency Whole Home Electrification                         3150.4\n",
       "High Efficiency Heat Pump with Electric Heat Backup                2603.3\n",
       "Mininum Efficiency Heat Pump with Electric Heat Backup             2085.1\n",
       "Mininum Efficiency Heat Pump with Existing Heat Backup             1219.1\n",
       "Enhanced Enclosure                                                  975.6\n",
       "Basic Enclosure                                                     735.6\n",
       "Heat Pump Water Heater                                              256.0\n",
       "Electric Cooking                                                    131.6\n",
       "Induction Cooking                                                    53.2\n",
       "Heat Pump Clothes Dryer                                              23.4\n",
       "Name: saving_emission.total_kgCO2e, dtype: float64"
      ]
     },
     "metadata": {},
     "output_type": "display_data"
    },
    {
     "name": "stdout",
     "output_type": "stream",
     "text": [
      "segment4\n"
     ]
    },
    {
     "data": {
      "text/plain": [
       "upgrade_name\n",
       "Enhanced Enclosure + High Efficiency Whole Home Electrification    1662.8\n",
       "Basic Enclosure + High Efficiency Whole Home Electrification       1643.7\n",
       "Enhanced Enclosure + HPWH + High Efficiency HP/Electric Backup     1615.0\n",
       "Basic Enclosure + HPWH + High Efficiency HP/Electric Backup        1595.9\n",
       "High Efficiency Whole Home Electrification                         1543.3\n",
       "Mininum Efficiency Whole Home Electrification                      1371.4\n",
       "High Efficiency Heat Pump with Electric Heat Backup                1106.2\n",
       "Mininum Efficiency Heat Pump with Electric Heat Backup              841.2\n",
       "Mininum Efficiency Heat Pump with Existing Heat Backup              789.2\n",
       "Enhanced Enclosure                                                  530.1\n",
       "Basic Enclosure                                                     428.5\n",
       "Heat Pump Water Heater                                              235.6\n",
       "Electric Cooking                                                    136.8\n",
       "Induction Cooking                                                    46.5\n",
       "Heat Pump Clothes Dryer                                              27.1\n",
       "Name: saving_emission.total_kgCO2e, dtype: float64"
      ]
     },
     "metadata": {},
     "output_type": "display_data"
    },
    {
     "name": "stdout",
     "output_type": "stream",
     "text": [
      "segment5\n"
     ]
    },
    {
     "data": {
      "text/plain": [
       "upgrade_name\n",
       "Enhanced Enclosure + High Efficiency Whole Home Electrification    3821.6\n",
       "Basic Enclosure + High Efficiency Whole Home Electrification       3768.8\n",
       "Enhanced Enclosure + HPWH + High Efficiency HP/Electric Backup     3744.5\n",
       "Basic Enclosure + HPWH + High Efficiency HP/Electric Backup        3691.7\n",
       "Mininum Efficiency Whole Home Electrification                      3651.3\n",
       "High Efficiency Whole Home Electrification                         3599.6\n",
       "High Efficiency Heat Pump with Electric Heat Backup                2788.2\n",
       "Mininum Efficiency Heat Pump with Electric Heat Backup             2293.4\n",
       "Enhanced Enclosure                                                  903.8\n",
       "Basic Enclosure                                                     824.5\n",
       "Mininum Efficiency Heat Pump with Existing Heat Backup              555.5\n",
       "Heat Pump Water Heater                                              423.9\n",
       "Electric Cooking                                                    155.3\n",
       "Electric Clothes Dryer                                              119.2\n",
       "Heat Pump Clothes Dryer                                              50.8\n",
       "Induction Cooking                                                    48.7\n",
       "Name: saving_emission.total_kgCO2e, dtype: float64"
      ]
     },
     "metadata": {},
     "output_type": "display_data"
    },
    {
     "name": "stderr",
     "output_type": "stream",
     "text": [
      "/var/folders/zw/lhnn73fj2250g9z11h_whq1szkf2pm/T/ipykernel_25540/3614653602.py:3: PerformanceWarning:\n",
      "\n",
      "DataFrame is highly fragmented.  This is usually the result of calling `frame.insert` many times, which has poor performance.  Consider joining all columns at once using pd.concat(axis=1) instead. To get a de-fragmented frame, use `newframe = frame.copy()`\n",
      "\n",
      "/var/folders/zw/lhnn73fj2250g9z11h_whq1szkf2pm/T/ipykernel_25540/3614653602.py:4: PerformanceWarning:\n",
      "\n",
      "DataFrame is highly fragmented.  This is usually the result of calling `frame.insert` many times, which has poor performance.  Consider joining all columns at once using pd.concat(axis=1) instead. To get a de-fragmented frame, use `newframe = frame.copy()`\n",
      "\n",
      "/var/folders/zw/lhnn73fj2250g9z11h_whq1szkf2pm/T/ipykernel_25540/3614653602.py:5: PerformanceWarning:\n",
      "\n",
      "DataFrame is highly fragmented.  This is usually the result of calling `frame.insert` many times, which has poor performance.  Consider joining all columns at once using pd.concat(axis=1) instead. To get a de-fragmented frame, use `newframe = frame.copy()`\n",
      "\n",
      "/var/folders/zw/lhnn73fj2250g9z11h_whq1szkf2pm/T/ipykernel_25540/3614653602.py:6: PerformanceWarning:\n",
      "\n",
      "DataFrame is highly fragmented.  This is usually the result of calling `frame.insert` many times, which has poor performance.  Consider joining all columns at once using pd.concat(axis=1) instead. To get a de-fragmented frame, use `newframe = frame.copy()`\n",
      "\n",
      "/var/folders/zw/lhnn73fj2250g9z11h_whq1szkf2pm/T/ipykernel_25540/3614653602.py:7: PerformanceWarning:\n",
      "\n",
      "DataFrame is highly fragmented.  This is usually the result of calling `frame.insert` many times, which has poor performance.  Consider joining all columns at once using pd.concat(axis=1) instead. To get a de-fragmented frame, use `newframe = frame.copy()`\n",
      "\n"
     ]
    }
   ],
   "source": [
    "indicator ='saving_emission.total_kgCO2e'\n",
    "results = segment_mean_savings(indicator, community_results)\n",
    "saving_results[f'segment1_{income}_saving_emission_mean_kgCO2e'] = results[0]\n",
    "saving_results[f'segment2_{income}_saving_emission_mean_kgCO2e'] = results[1]\n",
    "saving_results[f'segment3_{income}_saving_emission_mean_kgCO2e'] = results[2]\n",
    "saving_results[f'segment4_{income}_saving_emission_mean_kgCO2e'] = results[3]\n",
    "saving_results[f'segment5_{income}_saving_emission_mean_kgCO2e'] = results[4]"
   ]
  },
  {
   "cell_type": "markdown",
   "id": "1a6cb1c1",
   "metadata": {},
   "source": [
    "## 3.5. Pecent Stock with Positive and Negtive Savings"
   ]
  },
  {
   "cell_type": "markdown",
   "id": "ad9fca17",
   "metadata": {},
   "source": [
    "### Segment 1"
   ]
  },
  {
   "cell_type": "code",
   "execution_count": 50,
   "id": "a4c6dfcc",
   "metadata": {},
   "outputs": [
    {
     "data": {
      "application/vnd.plotly.v1+json": {
       "config": {
        "plotlyServerURL": "https://plot.ly"
       },
       "data": [
        {
         "marker": {
          "color": "red"
         },
         "name": "Negative",
         "orientation": "h",
         "text": [
          1,
          1,
          0.8,
          0.8,
          0.8,
          0.8,
          0.8,
          0.5,
          0.5,
          0.3,
          0.3,
          0.2,
          0.2,
          0,
          0,
          0
         ],
         "textposition": "inside",
         "texttemplate": "%{text:.0%}",
         "type": "bar",
         "x": [
          1,
          1,
          0.8,
          0.8,
          0.8,
          0.8,
          0.8,
          0.5,
          0.5,
          0.3,
          0.3,
          0.2,
          0.2,
          0,
          0,
          0
         ],
         "xaxis": "x",
         "y": [
          "Electric Clothes Dryer",
          "Electric Cooking",
          "High Efficiency Heat Pump with Electric Heat Backup",
          "High Efficiency Whole Home Electrification",
          "Mininum Efficiency Heat Pump with Electric Heat Backup",
          "Mininum Efficiency Heat Pump with Existing Heat Backup",
          "Mininum Efficiency Whole Home Electrification",
          "Basic Enclosure + HPWH + High Efficiency HP/Electric Backup",
          "Enhanced Enclosure + HPWH + High Efficiency HP/Electric Backup",
          "Basic Enclosure + High Efficiency Whole Home Electrification",
          "Enhanced Enclosure + High Efficiency Whole Home Electrification",
          "Heat Pump Water Heater",
          "Induction Cooking",
          "Basic Enclosure",
          "Enhanced Enclosure",
          "Heat Pump Clothes Dryer"
         ],
         "yaxis": "y"
        },
        {
         "marker": {
          "color": "green"
         },
         "name": "Positive",
         "orientation": "h",
         "text": [
          0,
          0,
          0.2,
          0.2,
          0.2,
          0.2,
          0.2,
          0.5,
          0.5,
          0.7,
          0.7,
          0.8,
          0.8,
          1,
          1,
          1
         ],
         "textposition": "inside",
         "texttemplate": "%{text:.0%}",
         "type": "bar",
         "x": [
          0,
          0,
          0.2,
          0.2,
          0.2,
          0.2,
          0.2,
          0.5,
          0.5,
          0.7,
          0.7,
          0.8,
          0.8,
          1,
          1,
          1
         ],
         "xaxis": "x",
         "y": [
          "Electric Clothes Dryer",
          "Electric Cooking",
          "High Efficiency Heat Pump with Electric Heat Backup",
          "High Efficiency Whole Home Electrification",
          "Mininum Efficiency Heat Pump with Electric Heat Backup",
          "Mininum Efficiency Heat Pump with Existing Heat Backup",
          "Mininum Efficiency Whole Home Electrification",
          "Basic Enclosure + HPWH + High Efficiency HP/Electric Backup",
          "Enhanced Enclosure + HPWH + High Efficiency HP/Electric Backup",
          "Basic Enclosure + High Efficiency Whole Home Electrification",
          "Enhanced Enclosure + High Efficiency Whole Home Electrification",
          "Heat Pump Water Heater",
          "Induction Cooking",
          "Basic Enclosure",
          "Enhanced Enclosure",
          "Heat Pump Clothes Dryer"
         ],
         "yaxis": "y"
        },
        {
         "marker": {
          "color": "red"
         },
         "orientation": "h",
         "showlegend": false,
         "text": [
          0,
          0,
          0,
          0,
          0,
          0.6,
          0,
          0,
          0,
          0,
          0,
          0.1,
          0,
          0,
          0,
          0
         ],
         "textposition": "inside",
         "texttemplate": "%{text:.0%}",
         "type": "bar",
         "x": [
          0,
          0,
          0,
          0,
          0,
          0.6,
          0,
          0,
          0,
          0,
          0,
          0.1,
          0,
          0,
          0,
          0
         ],
         "xaxis": "x2",
         "y": [
          "Electric Clothes Dryer",
          "Electric Cooking",
          "High Efficiency Heat Pump with Electric Heat Backup",
          "High Efficiency Whole Home Electrification",
          "Mininum Efficiency Heat Pump with Electric Heat Backup",
          "Mininum Efficiency Heat Pump with Existing Heat Backup",
          "Mininum Efficiency Whole Home Electrification",
          "Basic Enclosure + HPWH + High Efficiency HP/Electric Backup",
          "Enhanced Enclosure + HPWH + High Efficiency HP/Electric Backup",
          "Basic Enclosure + High Efficiency Whole Home Electrification",
          "Enhanced Enclosure + High Efficiency Whole Home Electrification",
          "Heat Pump Water Heater",
          "Induction Cooking",
          "Basic Enclosure",
          "Enhanced Enclosure",
          "Heat Pump Clothes Dryer"
         ],
         "yaxis": "y2"
        },
        {
         "marker": {
          "color": "green"
         },
         "orientation": "h",
         "showlegend": false,
         "text": [
          1,
          1,
          1,
          1,
          1,
          0.4,
          1,
          1,
          1,
          1,
          1,
          0.9,
          1,
          1,
          1,
          1
         ],
         "textposition": "inside",
         "texttemplate": "%{text:.0%}",
         "type": "bar",
         "x": [
          1,
          1,
          1,
          1,
          1,
          0.4,
          1,
          1,
          1,
          1,
          1,
          0.9,
          1,
          1,
          1,
          1
         ],
         "xaxis": "x2",
         "y": [
          "Electric Clothes Dryer",
          "Electric Cooking",
          "High Efficiency Heat Pump with Electric Heat Backup",
          "High Efficiency Whole Home Electrification",
          "Mininum Efficiency Heat Pump with Electric Heat Backup",
          "Mininum Efficiency Heat Pump with Existing Heat Backup",
          "Mininum Efficiency Whole Home Electrification",
          "Basic Enclosure + HPWH + High Efficiency HP/Electric Backup",
          "Enhanced Enclosure + HPWH + High Efficiency HP/Electric Backup",
          "Basic Enclosure + High Efficiency Whole Home Electrification",
          "Enhanced Enclosure + High Efficiency Whole Home Electrification",
          "Heat Pump Water Heater",
          "Induction Cooking",
          "Basic Enclosure",
          "Enhanced Enclosure",
          "Heat Pump Clothes Dryer"
         ],
         "yaxis": "y2"
        },
        {
         "marker": {
          "color": "red"
         },
         "orientation": "h",
         "showlegend": false,
         "text": [
          0,
          0,
          0,
          0,
          0,
          0.7,
          0,
          0,
          0,
          0,
          0,
          0.1,
          0,
          0,
          0,
          0
         ],
         "textposition": "inside",
         "texttemplate": "%{text:.0%}",
         "type": "bar",
         "x": [
          0,
          0,
          0,
          0,
          0,
          0.7,
          0,
          0,
          0,
          0,
          0,
          0.1,
          0,
          0,
          0,
          0
         ],
         "xaxis": "x3",
         "y": [
          "Electric Clothes Dryer",
          "Electric Cooking",
          "High Efficiency Heat Pump with Electric Heat Backup",
          "High Efficiency Whole Home Electrification",
          "Mininum Efficiency Heat Pump with Electric Heat Backup",
          "Mininum Efficiency Heat Pump with Existing Heat Backup",
          "Mininum Efficiency Whole Home Electrification",
          "Basic Enclosure + HPWH + High Efficiency HP/Electric Backup",
          "Enhanced Enclosure + HPWH + High Efficiency HP/Electric Backup",
          "Basic Enclosure + High Efficiency Whole Home Electrification",
          "Enhanced Enclosure + High Efficiency Whole Home Electrification",
          "Heat Pump Water Heater",
          "Induction Cooking",
          "Basic Enclosure",
          "Enhanced Enclosure",
          "Heat Pump Clothes Dryer"
         ],
         "yaxis": "y3"
        },
        {
         "marker": {
          "color": "green"
         },
         "orientation": "h",
         "showlegend": false,
         "text": [
          1,
          1,
          1,
          1,
          1,
          0.3,
          1,
          1,
          1,
          1,
          1,
          0.9,
          1,
          1,
          1,
          1
         ],
         "textposition": "inside",
         "texttemplate": "%{text:.0%}",
         "type": "bar",
         "x": [
          1,
          1,
          1,
          1,
          1,
          0.3,
          1,
          1,
          1,
          1,
          1,
          0.9,
          1,
          1,
          1,
          1
         ],
         "xaxis": "x3",
         "y": [
          "Electric Clothes Dryer",
          "Electric Cooking",
          "High Efficiency Heat Pump with Electric Heat Backup",
          "High Efficiency Whole Home Electrification",
          "Mininum Efficiency Heat Pump with Electric Heat Backup",
          "Mininum Efficiency Heat Pump with Existing Heat Backup",
          "Mininum Efficiency Whole Home Electrification",
          "Basic Enclosure + HPWH + High Efficiency HP/Electric Backup",
          "Enhanced Enclosure + HPWH + High Efficiency HP/Electric Backup",
          "Basic Enclosure + High Efficiency Whole Home Electrification",
          "Enhanced Enclosure + High Efficiency Whole Home Electrification",
          "Heat Pump Water Heater",
          "Induction Cooking",
          "Basic Enclosure",
          "Enhanced Enclosure",
          "Heat Pump Clothes Dryer"
         ],
         "yaxis": "y3"
        }
       ],
       "layout": {
        "autosize": false,
        "barmode": "relative",
        "font": {
         "size": 10
        },
        "height": 500,
        "template": {
         "data": {
          "bar": [
           {
            "error_x": {
             "color": "#2a3f5f"
            },
            "error_y": {
             "color": "#2a3f5f"
            },
            "marker": {
             "line": {
              "color": "#E5ECF6",
              "width": 0.5
             },
             "pattern": {
              "fillmode": "overlay",
              "size": 10,
              "solidity": 0.2
             }
            },
            "type": "bar"
           }
          ],
          "barpolar": [
           {
            "marker": {
             "line": {
              "color": "#E5ECF6",
              "width": 0.5
             },
             "pattern": {
              "fillmode": "overlay",
              "size": 10,
              "solidity": 0.2
             }
            },
            "type": "barpolar"
           }
          ],
          "carpet": [
           {
            "aaxis": {
             "endlinecolor": "#2a3f5f",
             "gridcolor": "white",
             "linecolor": "white",
             "minorgridcolor": "white",
             "startlinecolor": "#2a3f5f"
            },
            "baxis": {
             "endlinecolor": "#2a3f5f",
             "gridcolor": "white",
             "linecolor": "white",
             "minorgridcolor": "white",
             "startlinecolor": "#2a3f5f"
            },
            "type": "carpet"
           }
          ],
          "choropleth": [
           {
            "colorbar": {
             "outlinewidth": 0,
             "ticks": ""
            },
            "type": "choropleth"
           }
          ],
          "contour": [
           {
            "colorbar": {
             "outlinewidth": 0,
             "ticks": ""
            },
            "colorscale": [
             [
              0,
              "#0d0887"
             ],
             [
              0.1111111111111111,
              "#46039f"
             ],
             [
              0.2222222222222222,
              "#7201a8"
             ],
             [
              0.3333333333333333,
              "#9c179e"
             ],
             [
              0.4444444444444444,
              "#bd3786"
             ],
             [
              0.5555555555555556,
              "#d8576b"
             ],
             [
              0.6666666666666666,
              "#ed7953"
             ],
             [
              0.7777777777777778,
              "#fb9f3a"
             ],
             [
              0.8888888888888888,
              "#fdca26"
             ],
             [
              1,
              "#f0f921"
             ]
            ],
            "type": "contour"
           }
          ],
          "contourcarpet": [
           {
            "colorbar": {
             "outlinewidth": 0,
             "ticks": ""
            },
            "type": "contourcarpet"
           }
          ],
          "heatmap": [
           {
            "colorbar": {
             "outlinewidth": 0,
             "ticks": ""
            },
            "colorscale": [
             [
              0,
              "#0d0887"
             ],
             [
              0.1111111111111111,
              "#46039f"
             ],
             [
              0.2222222222222222,
              "#7201a8"
             ],
             [
              0.3333333333333333,
              "#9c179e"
             ],
             [
              0.4444444444444444,
              "#bd3786"
             ],
             [
              0.5555555555555556,
              "#d8576b"
             ],
             [
              0.6666666666666666,
              "#ed7953"
             ],
             [
              0.7777777777777778,
              "#fb9f3a"
             ],
             [
              0.8888888888888888,
              "#fdca26"
             ],
             [
              1,
              "#f0f921"
             ]
            ],
            "type": "heatmap"
           }
          ],
          "heatmapgl": [
           {
            "colorbar": {
             "outlinewidth": 0,
             "ticks": ""
            },
            "colorscale": [
             [
              0,
              "#0d0887"
             ],
             [
              0.1111111111111111,
              "#46039f"
             ],
             [
              0.2222222222222222,
              "#7201a8"
             ],
             [
              0.3333333333333333,
              "#9c179e"
             ],
             [
              0.4444444444444444,
              "#bd3786"
             ],
             [
              0.5555555555555556,
              "#d8576b"
             ],
             [
              0.6666666666666666,
              "#ed7953"
             ],
             [
              0.7777777777777778,
              "#fb9f3a"
             ],
             [
              0.8888888888888888,
              "#fdca26"
             ],
             [
              1,
              "#f0f921"
             ]
            ],
            "type": "heatmapgl"
           }
          ],
          "histogram": [
           {
            "marker": {
             "pattern": {
              "fillmode": "overlay",
              "size": 10,
              "solidity": 0.2
             }
            },
            "type": "histogram"
           }
          ],
          "histogram2d": [
           {
            "colorbar": {
             "outlinewidth": 0,
             "ticks": ""
            },
            "colorscale": [
             [
              0,
              "#0d0887"
             ],
             [
              0.1111111111111111,
              "#46039f"
             ],
             [
              0.2222222222222222,
              "#7201a8"
             ],
             [
              0.3333333333333333,
              "#9c179e"
             ],
             [
              0.4444444444444444,
              "#bd3786"
             ],
             [
              0.5555555555555556,
              "#d8576b"
             ],
             [
              0.6666666666666666,
              "#ed7953"
             ],
             [
              0.7777777777777778,
              "#fb9f3a"
             ],
             [
              0.8888888888888888,
              "#fdca26"
             ],
             [
              1,
              "#f0f921"
             ]
            ],
            "type": "histogram2d"
           }
          ],
          "histogram2dcontour": [
           {
            "colorbar": {
             "outlinewidth": 0,
             "ticks": ""
            },
            "colorscale": [
             [
              0,
              "#0d0887"
             ],
             [
              0.1111111111111111,
              "#46039f"
             ],
             [
              0.2222222222222222,
              "#7201a8"
             ],
             [
              0.3333333333333333,
              "#9c179e"
             ],
             [
              0.4444444444444444,
              "#bd3786"
             ],
             [
              0.5555555555555556,
              "#d8576b"
             ],
             [
              0.6666666666666666,
              "#ed7953"
             ],
             [
              0.7777777777777778,
              "#fb9f3a"
             ],
             [
              0.8888888888888888,
              "#fdca26"
             ],
             [
              1,
              "#f0f921"
             ]
            ],
            "type": "histogram2dcontour"
           }
          ],
          "mesh3d": [
           {
            "colorbar": {
             "outlinewidth": 0,
             "ticks": ""
            },
            "type": "mesh3d"
           }
          ],
          "parcoords": [
           {
            "line": {
             "colorbar": {
              "outlinewidth": 0,
              "ticks": ""
             }
            },
            "type": "parcoords"
           }
          ],
          "pie": [
           {
            "automargin": true,
            "type": "pie"
           }
          ],
          "scatter": [
           {
            "fillpattern": {
             "fillmode": "overlay",
             "size": 10,
             "solidity": 0.2
            },
            "type": "scatter"
           }
          ],
          "scatter3d": [
           {
            "line": {
             "colorbar": {
              "outlinewidth": 0,
              "ticks": ""
             }
            },
            "marker": {
             "colorbar": {
              "outlinewidth": 0,
              "ticks": ""
             }
            },
            "type": "scatter3d"
           }
          ],
          "scattercarpet": [
           {
            "marker": {
             "colorbar": {
              "outlinewidth": 0,
              "ticks": ""
             }
            },
            "type": "scattercarpet"
           }
          ],
          "scattergeo": [
           {
            "marker": {
             "colorbar": {
              "outlinewidth": 0,
              "ticks": ""
             }
            },
            "type": "scattergeo"
           }
          ],
          "scattergl": [
           {
            "marker": {
             "colorbar": {
              "outlinewidth": 0,
              "ticks": ""
             }
            },
            "type": "scattergl"
           }
          ],
          "scattermapbox": [
           {
            "marker": {
             "colorbar": {
              "outlinewidth": 0,
              "ticks": ""
             }
            },
            "type": "scattermapbox"
           }
          ],
          "scatterpolar": [
           {
            "marker": {
             "colorbar": {
              "outlinewidth": 0,
              "ticks": ""
             }
            },
            "type": "scatterpolar"
           }
          ],
          "scatterpolargl": [
           {
            "marker": {
             "colorbar": {
              "outlinewidth": 0,
              "ticks": ""
             }
            },
            "type": "scatterpolargl"
           }
          ],
          "scatterternary": [
           {
            "marker": {
             "colorbar": {
              "outlinewidth": 0,
              "ticks": ""
             }
            },
            "type": "scatterternary"
           }
          ],
          "surface": [
           {
            "colorbar": {
             "outlinewidth": 0,
             "ticks": ""
            },
            "colorscale": [
             [
              0,
              "#0d0887"
             ],
             [
              0.1111111111111111,
              "#46039f"
             ],
             [
              0.2222222222222222,
              "#7201a8"
             ],
             [
              0.3333333333333333,
              "#9c179e"
             ],
             [
              0.4444444444444444,
              "#bd3786"
             ],
             [
              0.5555555555555556,
              "#d8576b"
             ],
             [
              0.6666666666666666,
              "#ed7953"
             ],
             [
              0.7777777777777778,
              "#fb9f3a"
             ],
             [
              0.8888888888888888,
              "#fdca26"
             ],
             [
              1,
              "#f0f921"
             ]
            ],
            "type": "surface"
           }
          ],
          "table": [
           {
            "cells": {
             "fill": {
              "color": "#EBF0F8"
             },
             "line": {
              "color": "white"
             }
            },
            "header": {
             "fill": {
              "color": "#C8D4E3"
             },
             "line": {
              "color": "white"
             }
            },
            "type": "table"
           }
          ]
         },
         "layout": {
          "annotationdefaults": {
           "arrowcolor": "#2a3f5f",
           "arrowhead": 0,
           "arrowwidth": 1
          },
          "autotypenumbers": "strict",
          "coloraxis": {
           "colorbar": {
            "outlinewidth": 0,
            "ticks": ""
           }
          },
          "colorscale": {
           "diverging": [
            [
             0,
             "#8e0152"
            ],
            [
             0.1,
             "#c51b7d"
            ],
            [
             0.2,
             "#de77ae"
            ],
            [
             0.3,
             "#f1b6da"
            ],
            [
             0.4,
             "#fde0ef"
            ],
            [
             0.5,
             "#f7f7f7"
            ],
            [
             0.6,
             "#e6f5d0"
            ],
            [
             0.7,
             "#b8e186"
            ],
            [
             0.8,
             "#7fbc41"
            ],
            [
             0.9,
             "#4d9221"
            ],
            [
             1,
             "#276419"
            ]
           ],
           "sequential": [
            [
             0,
             "#0d0887"
            ],
            [
             0.1111111111111111,
             "#46039f"
            ],
            [
             0.2222222222222222,
             "#7201a8"
            ],
            [
             0.3333333333333333,
             "#9c179e"
            ],
            [
             0.4444444444444444,
             "#bd3786"
            ],
            [
             0.5555555555555556,
             "#d8576b"
            ],
            [
             0.6666666666666666,
             "#ed7953"
            ],
            [
             0.7777777777777778,
             "#fb9f3a"
            ],
            [
             0.8888888888888888,
             "#fdca26"
            ],
            [
             1,
             "#f0f921"
            ]
           ],
           "sequentialminus": [
            [
             0,
             "#0d0887"
            ],
            [
             0.1111111111111111,
             "#46039f"
            ],
            [
             0.2222222222222222,
             "#7201a8"
            ],
            [
             0.3333333333333333,
             "#9c179e"
            ],
            [
             0.4444444444444444,
             "#bd3786"
            ],
            [
             0.5555555555555556,
             "#d8576b"
            ],
            [
             0.6666666666666666,
             "#ed7953"
            ],
            [
             0.7777777777777778,
             "#fb9f3a"
            ],
            [
             0.8888888888888888,
             "#fdca26"
            ],
            [
             1,
             "#f0f921"
            ]
           ]
          },
          "colorway": [
           "#636efa",
           "#EF553B",
           "#00cc96",
           "#ab63fa",
           "#FFA15A",
           "#19d3f3",
           "#FF6692",
           "#B6E880",
           "#FF97FF",
           "#FECB52"
          ],
          "font": {
           "color": "#2a3f5f"
          },
          "geo": {
           "bgcolor": "white",
           "lakecolor": "white",
           "landcolor": "#E5ECF6",
           "showlakes": true,
           "showland": true,
           "subunitcolor": "white"
          },
          "hoverlabel": {
           "align": "left"
          },
          "hovermode": "closest",
          "mapbox": {
           "style": "light"
          },
          "paper_bgcolor": "white",
          "plot_bgcolor": "#E5ECF6",
          "polar": {
           "angularaxis": {
            "gridcolor": "white",
            "linecolor": "white",
            "ticks": ""
           },
           "bgcolor": "#E5ECF6",
           "radialaxis": {
            "gridcolor": "white",
            "linecolor": "white",
            "ticks": ""
           }
          },
          "scene": {
           "xaxis": {
            "backgroundcolor": "#E5ECF6",
            "gridcolor": "white",
            "gridwidth": 2,
            "linecolor": "white",
            "showbackground": true,
            "ticks": "",
            "zerolinecolor": "white"
           },
           "yaxis": {
            "backgroundcolor": "#E5ECF6",
            "gridcolor": "white",
            "gridwidth": 2,
            "linecolor": "white",
            "showbackground": true,
            "ticks": "",
            "zerolinecolor": "white"
           },
           "zaxis": {
            "backgroundcolor": "#E5ECF6",
            "gridcolor": "white",
            "gridwidth": 2,
            "linecolor": "white",
            "showbackground": true,
            "ticks": "",
            "zerolinecolor": "white"
           }
          },
          "shapedefaults": {
           "line": {
            "color": "#2a3f5f"
           }
          },
          "ternary": {
           "aaxis": {
            "gridcolor": "white",
            "linecolor": "white",
            "ticks": ""
           },
           "baxis": {
            "gridcolor": "white",
            "linecolor": "white",
            "ticks": ""
           },
           "bgcolor": "#E5ECF6",
           "caxis": {
            "gridcolor": "white",
            "linecolor": "white",
            "ticks": ""
           }
          },
          "title": {
           "x": 0.05
          },
          "xaxis": {
           "automargin": true,
           "gridcolor": "white",
           "linecolor": "white",
           "ticks": "",
           "title": {
            "standoff": 15
           },
           "zerolinecolor": "white",
           "zerolinewidth": 2
          },
          "yaxis": {
           "automargin": true,
           "gridcolor": "white",
           "linecolor": "white",
           "ticks": "",
           "title": {
            "standoff": 15
           },
           "zerolinecolor": "white",
           "zerolinewidth": 2
          }
         }
        },
        "title": {
         "text": "Percentage of Household in Positive and Negative Savings"
        },
        "width": 1000,
        "xaxis": {
         "anchor": "y",
         "domain": [
          0,
          0.2888888888888889
         ],
         "tickformat": ",.0%",
         "title": {
          "text": "Bill"
         },
         "visible": true
        },
        "xaxis2": {
         "anchor": "y2",
         "domain": [
          0.35555555555555557,
          0.6444444444444445
         ],
         "tickformat": ",.0%",
         "title": {
          "text": "Emission"
         },
         "visible": true
        },
        "xaxis3": {
         "anchor": "y3",
         "domain": [
          0.7111111111111111,
          1
         ],
         "tickformat": ",.0%",
         "title": {
          "text": "Total Energy"
         },
         "visible": true
        },
        "yaxis": {
         "anchor": "x",
         "domain": [
          0,
          1
         ],
         "visible": true
        },
        "yaxis2": {
         "anchor": "x2",
         "domain": [
          0,
          1
         ],
         "visible": false
        },
        "yaxis3": {
         "anchor": "x3",
         "domain": [
          0,
          1
         ],
         "visible": false
        }
       }
      }
     },
     "metadata": {},
     "output_type": "display_data"
    },
    {
     "name": "stderr",
     "output_type": "stream",
     "text": [
      "/var/folders/zw/lhnn73fj2250g9z11h_whq1szkf2pm/T/ipykernel_25540/868763001.py:3: PerformanceWarning:\n",
      "\n",
      "DataFrame is highly fragmented.  This is usually the result of calling `frame.insert` many times, which has poor performance.  Consider joining all columns at once using pd.concat(axis=1) instead. To get a de-fragmented frame, use `newframe = frame.copy()`\n",
      "\n",
      "/var/folders/zw/lhnn73fj2250g9z11h_whq1szkf2pm/T/ipykernel_25540/868763001.py:4: PerformanceWarning:\n",
      "\n",
      "DataFrame is highly fragmented.  This is usually the result of calling `frame.insert` many times, which has poor performance.  Consider joining all columns at once using pd.concat(axis=1) instead. To get a de-fragmented frame, use `newframe = frame.copy()`\n",
      "\n",
      "/var/folders/zw/lhnn73fj2250g9z11h_whq1szkf2pm/T/ipykernel_25540/868763001.py:5: PerformanceWarning:\n",
      "\n",
      "DataFrame is highly fragmented.  This is usually the result of calling `frame.insert` many times, which has poor performance.  Consider joining all columns at once using pd.concat(axis=1) instead. To get a de-fragmented frame, use `newframe = frame.copy()`\n",
      "\n"
     ]
    }
   ],
   "source": [
    "segment = 'segment1'\n",
    "results = figure_positive_negative_savings(segment, community_results) \n",
    "saving_results[f'segment1_{income}_pct_bill_positive_savings_%'] = results[0]*100\n",
    "saving_results[f'segment1_{income}_pct_emission_positive_savings_%'] = results[1]*100\n",
    "saving_results[f'segment1_{income}_pct_energy_positive_savings_%'] = results[2]*100"
   ]
  },
  {
   "cell_type": "markdown",
   "id": "8494ec4f",
   "metadata": {},
   "source": [
    "### Segment 2"
   ]
  },
  {
   "cell_type": "code",
   "execution_count": 51,
   "id": "e2c5e7d1",
   "metadata": {},
   "outputs": [
    {
     "data": {
      "application/vnd.plotly.v1+json": {
       "config": {
        "plotlyServerURL": "https://plot.ly"
       },
       "data": [
        {
         "marker": {
          "color": "red"
         },
         "name": "Negative",
         "orientation": "h",
         "text": [
          1,
          1,
          0.6451612903225806,
          0.5625,
          0.5555555555555556,
          0.5555555555555556,
          0.5555555555555556,
          0.3611111111111111,
          0.3333333333333333,
          0.3333333333333333,
          0.3055555555555556,
          0.3055555555555556,
          0.1111111111111111,
          0.02857142857142857,
          0.027777777777777776,
          0
         ],
         "textposition": "inside",
         "texttemplate": "%{text:.0%}",
         "type": "bar",
         "x": [
          1,
          1,
          0.6451612903225806,
          0.5625,
          0.5555555555555556,
          0.5555555555555556,
          0.5555555555555556,
          0.3611111111111111,
          0.3333333333333333,
          0.3333333333333333,
          0.3055555555555556,
          0.3055555555555556,
          0.1111111111111111,
          0.02857142857142857,
          0.027777777777777776,
          0
         ],
         "xaxis": "x",
         "y": [
          "Electric Clothes Dryer",
          "Electric Cooking",
          "Mininum Efficiency Whole Home Electrification",
          "Mininum Efficiency Heat Pump with Existing Heat Backup",
          "High Efficiency Heat Pump with Electric Heat Backup",
          "High Efficiency Whole Home Electrification",
          "Mininum Efficiency Heat Pump with Electric Heat Backup",
          "Basic Enclosure + HPWH + High Efficiency HP/Electric Backup",
          "Basic Enclosure + High Efficiency Whole Home Electrification",
          "Enhanced Enclosure + HPWH + High Efficiency HP/Electric Backup",
          "Enhanced Enclosure + High Efficiency Whole Home Electrification",
          "Induction Cooking",
          "Heat Pump Water Heater",
          "Basic Enclosure",
          "Heat Pump Clothes Dryer",
          "Enhanced Enclosure"
         ],
         "yaxis": "y"
        },
        {
         "marker": {
          "color": "green"
         },
         "name": "Positive",
         "orientation": "h",
         "text": [
          0,
          0,
          0.3548387096774194,
          0.4375,
          0.4444444444444444,
          0.4444444444444444,
          0.4444444444444444,
          0.6388888888888888,
          0.6666666666666666,
          0.6666666666666666,
          0.6944444444444444,
          0.6944444444444444,
          0.8888888888888888,
          0.9714285714285714,
          0.9722222222222222,
          1
         ],
         "textposition": "inside",
         "texttemplate": "%{text:.0%}",
         "type": "bar",
         "x": [
          0,
          0,
          0.3548387096774194,
          0.4375,
          0.4444444444444444,
          0.4444444444444444,
          0.4444444444444444,
          0.6388888888888888,
          0.6666666666666666,
          0.6666666666666666,
          0.6944444444444444,
          0.6944444444444444,
          0.8888888888888888,
          0.9714285714285714,
          0.9722222222222222,
          1
         ],
         "xaxis": "x",
         "y": [
          "Electric Clothes Dryer",
          "Electric Cooking",
          "Mininum Efficiency Whole Home Electrification",
          "Mininum Efficiency Heat Pump with Existing Heat Backup",
          "High Efficiency Heat Pump with Electric Heat Backup",
          "High Efficiency Whole Home Electrification",
          "Mininum Efficiency Heat Pump with Electric Heat Backup",
          "Basic Enclosure + HPWH + High Efficiency HP/Electric Backup",
          "Basic Enclosure + High Efficiency Whole Home Electrification",
          "Enhanced Enclosure + HPWH + High Efficiency HP/Electric Backup",
          "Enhanced Enclosure + High Efficiency Whole Home Electrification",
          "Induction Cooking",
          "Heat Pump Water Heater",
          "Basic Enclosure",
          "Heat Pump Clothes Dryer",
          "Enhanced Enclosure"
         ],
         "yaxis": "y"
        },
        {
         "marker": {
          "color": "red"
         },
         "orientation": "h",
         "showlegend": false,
         "text": [
          0,
          0,
          0,
          0.375,
          0,
          0,
          0,
          0,
          0,
          0,
          0,
          0,
          0.08333333333333333,
          0,
          0,
          0
         ],
         "textposition": "inside",
         "texttemplate": "%{text:.0%}",
         "type": "bar",
         "x": [
          0,
          0,
          0,
          0.375,
          0,
          0,
          0,
          0,
          0,
          0,
          0,
          0,
          0.08333333333333333,
          0,
          0,
          0
         ],
         "xaxis": "x2",
         "y": [
          "Electric Clothes Dryer",
          "Electric Cooking",
          "Mininum Efficiency Whole Home Electrification",
          "Mininum Efficiency Heat Pump with Existing Heat Backup",
          "High Efficiency Heat Pump with Electric Heat Backup",
          "High Efficiency Whole Home Electrification",
          "Mininum Efficiency Heat Pump with Electric Heat Backup",
          "Basic Enclosure + HPWH + High Efficiency HP/Electric Backup",
          "Basic Enclosure + High Efficiency Whole Home Electrification",
          "Enhanced Enclosure + HPWH + High Efficiency HP/Electric Backup",
          "Enhanced Enclosure + High Efficiency Whole Home Electrification",
          "Induction Cooking",
          "Heat Pump Water Heater",
          "Basic Enclosure",
          "Heat Pump Clothes Dryer",
          "Enhanced Enclosure"
         ],
         "yaxis": "y2"
        },
        {
         "marker": {
          "color": "green"
         },
         "orientation": "h",
         "showlegend": false,
         "text": [
          1,
          1,
          1,
          0.625,
          1,
          1,
          1,
          1,
          1,
          1,
          1,
          1,
          0.9166666666666666,
          1,
          1,
          1
         ],
         "textposition": "inside",
         "texttemplate": "%{text:.0%}",
         "type": "bar",
         "x": [
          1,
          1,
          1,
          0.625,
          1,
          1,
          1,
          1,
          1,
          1,
          1,
          1,
          0.9166666666666666,
          1,
          1,
          1
         ],
         "xaxis": "x2",
         "y": [
          "Electric Clothes Dryer",
          "Electric Cooking",
          "Mininum Efficiency Whole Home Electrification",
          "Mininum Efficiency Heat Pump with Existing Heat Backup",
          "High Efficiency Heat Pump with Electric Heat Backup",
          "High Efficiency Whole Home Electrification",
          "Mininum Efficiency Heat Pump with Electric Heat Backup",
          "Basic Enclosure + HPWH + High Efficiency HP/Electric Backup",
          "Basic Enclosure + High Efficiency Whole Home Electrification",
          "Enhanced Enclosure + HPWH + High Efficiency HP/Electric Backup",
          "Enhanced Enclosure + High Efficiency Whole Home Electrification",
          "Induction Cooking",
          "Heat Pump Water Heater",
          "Basic Enclosure",
          "Heat Pump Clothes Dryer",
          "Enhanced Enclosure"
         ],
         "yaxis": "y2"
        },
        {
         "marker": {
          "color": "red"
         },
         "orientation": "h",
         "showlegend": false,
         "text": [
          0,
          0,
          0,
          0.375,
          0,
          0,
          0,
          0,
          0,
          0,
          0,
          0,
          0.027777777777777776,
          0,
          0,
          0
         ],
         "textposition": "inside",
         "texttemplate": "%{text:.0%}",
         "type": "bar",
         "x": [
          0,
          0,
          0,
          0.375,
          0,
          0,
          0,
          0,
          0,
          0,
          0,
          0,
          0.027777777777777776,
          0,
          0,
          0
         ],
         "xaxis": "x3",
         "y": [
          "Electric Clothes Dryer",
          "Electric Cooking",
          "Mininum Efficiency Whole Home Electrification",
          "Mininum Efficiency Heat Pump with Existing Heat Backup",
          "High Efficiency Heat Pump with Electric Heat Backup",
          "High Efficiency Whole Home Electrification",
          "Mininum Efficiency Heat Pump with Electric Heat Backup",
          "Basic Enclosure + HPWH + High Efficiency HP/Electric Backup",
          "Basic Enclosure + High Efficiency Whole Home Electrification",
          "Enhanced Enclosure + HPWH + High Efficiency HP/Electric Backup",
          "Enhanced Enclosure + High Efficiency Whole Home Electrification",
          "Induction Cooking",
          "Heat Pump Water Heater",
          "Basic Enclosure",
          "Heat Pump Clothes Dryer",
          "Enhanced Enclosure"
         ],
         "yaxis": "y3"
        },
        {
         "marker": {
          "color": "green"
         },
         "orientation": "h",
         "showlegend": false,
         "text": [
          1,
          1,
          1,
          0.625,
          1,
          1,
          1,
          1,
          1,
          1,
          1,
          1,
          0.9722222222222222,
          1,
          1,
          1
         ],
         "textposition": "inside",
         "texttemplate": "%{text:.0%}",
         "type": "bar",
         "x": [
          1,
          1,
          1,
          0.625,
          1,
          1,
          1,
          1,
          1,
          1,
          1,
          1,
          0.9722222222222222,
          1,
          1,
          1
         ],
         "xaxis": "x3",
         "y": [
          "Electric Clothes Dryer",
          "Electric Cooking",
          "Mininum Efficiency Whole Home Electrification",
          "Mininum Efficiency Heat Pump with Existing Heat Backup",
          "High Efficiency Heat Pump with Electric Heat Backup",
          "High Efficiency Whole Home Electrification",
          "Mininum Efficiency Heat Pump with Electric Heat Backup",
          "Basic Enclosure + HPWH + High Efficiency HP/Electric Backup",
          "Basic Enclosure + High Efficiency Whole Home Electrification",
          "Enhanced Enclosure + HPWH + High Efficiency HP/Electric Backup",
          "Enhanced Enclosure + High Efficiency Whole Home Electrification",
          "Induction Cooking",
          "Heat Pump Water Heater",
          "Basic Enclosure",
          "Heat Pump Clothes Dryer",
          "Enhanced Enclosure"
         ],
         "yaxis": "y3"
        }
       ],
       "layout": {
        "autosize": false,
        "barmode": "relative",
        "font": {
         "size": 10
        },
        "height": 500,
        "template": {
         "data": {
          "bar": [
           {
            "error_x": {
             "color": "#2a3f5f"
            },
            "error_y": {
             "color": "#2a3f5f"
            },
            "marker": {
             "line": {
              "color": "#E5ECF6",
              "width": 0.5
             },
             "pattern": {
              "fillmode": "overlay",
              "size": 10,
              "solidity": 0.2
             }
            },
            "type": "bar"
           }
          ],
          "barpolar": [
           {
            "marker": {
             "line": {
              "color": "#E5ECF6",
              "width": 0.5
             },
             "pattern": {
              "fillmode": "overlay",
              "size": 10,
              "solidity": 0.2
             }
            },
            "type": "barpolar"
           }
          ],
          "carpet": [
           {
            "aaxis": {
             "endlinecolor": "#2a3f5f",
             "gridcolor": "white",
             "linecolor": "white",
             "minorgridcolor": "white",
             "startlinecolor": "#2a3f5f"
            },
            "baxis": {
             "endlinecolor": "#2a3f5f",
             "gridcolor": "white",
             "linecolor": "white",
             "minorgridcolor": "white",
             "startlinecolor": "#2a3f5f"
            },
            "type": "carpet"
           }
          ],
          "choropleth": [
           {
            "colorbar": {
             "outlinewidth": 0,
             "ticks": ""
            },
            "type": "choropleth"
           }
          ],
          "contour": [
           {
            "colorbar": {
             "outlinewidth": 0,
             "ticks": ""
            },
            "colorscale": [
             [
              0,
              "#0d0887"
             ],
             [
              0.1111111111111111,
              "#46039f"
             ],
             [
              0.2222222222222222,
              "#7201a8"
             ],
             [
              0.3333333333333333,
              "#9c179e"
             ],
             [
              0.4444444444444444,
              "#bd3786"
             ],
             [
              0.5555555555555556,
              "#d8576b"
             ],
             [
              0.6666666666666666,
              "#ed7953"
             ],
             [
              0.7777777777777778,
              "#fb9f3a"
             ],
             [
              0.8888888888888888,
              "#fdca26"
             ],
             [
              1,
              "#f0f921"
             ]
            ],
            "type": "contour"
           }
          ],
          "contourcarpet": [
           {
            "colorbar": {
             "outlinewidth": 0,
             "ticks": ""
            },
            "type": "contourcarpet"
           }
          ],
          "heatmap": [
           {
            "colorbar": {
             "outlinewidth": 0,
             "ticks": ""
            },
            "colorscale": [
             [
              0,
              "#0d0887"
             ],
             [
              0.1111111111111111,
              "#46039f"
             ],
             [
              0.2222222222222222,
              "#7201a8"
             ],
             [
              0.3333333333333333,
              "#9c179e"
             ],
             [
              0.4444444444444444,
              "#bd3786"
             ],
             [
              0.5555555555555556,
              "#d8576b"
             ],
             [
              0.6666666666666666,
              "#ed7953"
             ],
             [
              0.7777777777777778,
              "#fb9f3a"
             ],
             [
              0.8888888888888888,
              "#fdca26"
             ],
             [
              1,
              "#f0f921"
             ]
            ],
            "type": "heatmap"
           }
          ],
          "heatmapgl": [
           {
            "colorbar": {
             "outlinewidth": 0,
             "ticks": ""
            },
            "colorscale": [
             [
              0,
              "#0d0887"
             ],
             [
              0.1111111111111111,
              "#46039f"
             ],
             [
              0.2222222222222222,
              "#7201a8"
             ],
             [
              0.3333333333333333,
              "#9c179e"
             ],
             [
              0.4444444444444444,
              "#bd3786"
             ],
             [
              0.5555555555555556,
              "#d8576b"
             ],
             [
              0.6666666666666666,
              "#ed7953"
             ],
             [
              0.7777777777777778,
              "#fb9f3a"
             ],
             [
              0.8888888888888888,
              "#fdca26"
             ],
             [
              1,
              "#f0f921"
             ]
            ],
            "type": "heatmapgl"
           }
          ],
          "histogram": [
           {
            "marker": {
             "pattern": {
              "fillmode": "overlay",
              "size": 10,
              "solidity": 0.2
             }
            },
            "type": "histogram"
           }
          ],
          "histogram2d": [
           {
            "colorbar": {
             "outlinewidth": 0,
             "ticks": ""
            },
            "colorscale": [
             [
              0,
              "#0d0887"
             ],
             [
              0.1111111111111111,
              "#46039f"
             ],
             [
              0.2222222222222222,
              "#7201a8"
             ],
             [
              0.3333333333333333,
              "#9c179e"
             ],
             [
              0.4444444444444444,
              "#bd3786"
             ],
             [
              0.5555555555555556,
              "#d8576b"
             ],
             [
              0.6666666666666666,
              "#ed7953"
             ],
             [
              0.7777777777777778,
              "#fb9f3a"
             ],
             [
              0.8888888888888888,
              "#fdca26"
             ],
             [
              1,
              "#f0f921"
             ]
            ],
            "type": "histogram2d"
           }
          ],
          "histogram2dcontour": [
           {
            "colorbar": {
             "outlinewidth": 0,
             "ticks": ""
            },
            "colorscale": [
             [
              0,
              "#0d0887"
             ],
             [
              0.1111111111111111,
              "#46039f"
             ],
             [
              0.2222222222222222,
              "#7201a8"
             ],
             [
              0.3333333333333333,
              "#9c179e"
             ],
             [
              0.4444444444444444,
              "#bd3786"
             ],
             [
              0.5555555555555556,
              "#d8576b"
             ],
             [
              0.6666666666666666,
              "#ed7953"
             ],
             [
              0.7777777777777778,
              "#fb9f3a"
             ],
             [
              0.8888888888888888,
              "#fdca26"
             ],
             [
              1,
              "#f0f921"
             ]
            ],
            "type": "histogram2dcontour"
           }
          ],
          "mesh3d": [
           {
            "colorbar": {
             "outlinewidth": 0,
             "ticks": ""
            },
            "type": "mesh3d"
           }
          ],
          "parcoords": [
           {
            "line": {
             "colorbar": {
              "outlinewidth": 0,
              "ticks": ""
             }
            },
            "type": "parcoords"
           }
          ],
          "pie": [
           {
            "automargin": true,
            "type": "pie"
           }
          ],
          "scatter": [
           {
            "fillpattern": {
             "fillmode": "overlay",
             "size": 10,
             "solidity": 0.2
            },
            "type": "scatter"
           }
          ],
          "scatter3d": [
           {
            "line": {
             "colorbar": {
              "outlinewidth": 0,
              "ticks": ""
             }
            },
            "marker": {
             "colorbar": {
              "outlinewidth": 0,
              "ticks": ""
             }
            },
            "type": "scatter3d"
           }
          ],
          "scattercarpet": [
           {
            "marker": {
             "colorbar": {
              "outlinewidth": 0,
              "ticks": ""
             }
            },
            "type": "scattercarpet"
           }
          ],
          "scattergeo": [
           {
            "marker": {
             "colorbar": {
              "outlinewidth": 0,
              "ticks": ""
             }
            },
            "type": "scattergeo"
           }
          ],
          "scattergl": [
           {
            "marker": {
             "colorbar": {
              "outlinewidth": 0,
              "ticks": ""
             }
            },
            "type": "scattergl"
           }
          ],
          "scattermapbox": [
           {
            "marker": {
             "colorbar": {
              "outlinewidth": 0,
              "ticks": ""
             }
            },
            "type": "scattermapbox"
           }
          ],
          "scatterpolar": [
           {
            "marker": {
             "colorbar": {
              "outlinewidth": 0,
              "ticks": ""
             }
            },
            "type": "scatterpolar"
           }
          ],
          "scatterpolargl": [
           {
            "marker": {
             "colorbar": {
              "outlinewidth": 0,
              "ticks": ""
             }
            },
            "type": "scatterpolargl"
           }
          ],
          "scatterternary": [
           {
            "marker": {
             "colorbar": {
              "outlinewidth": 0,
              "ticks": ""
             }
            },
            "type": "scatterternary"
           }
          ],
          "surface": [
           {
            "colorbar": {
             "outlinewidth": 0,
             "ticks": ""
            },
            "colorscale": [
             [
              0,
              "#0d0887"
             ],
             [
              0.1111111111111111,
              "#46039f"
             ],
             [
              0.2222222222222222,
              "#7201a8"
             ],
             [
              0.3333333333333333,
              "#9c179e"
             ],
             [
              0.4444444444444444,
              "#bd3786"
             ],
             [
              0.5555555555555556,
              "#d8576b"
             ],
             [
              0.6666666666666666,
              "#ed7953"
             ],
             [
              0.7777777777777778,
              "#fb9f3a"
             ],
             [
              0.8888888888888888,
              "#fdca26"
             ],
             [
              1,
              "#f0f921"
             ]
            ],
            "type": "surface"
           }
          ],
          "table": [
           {
            "cells": {
             "fill": {
              "color": "#EBF0F8"
             },
             "line": {
              "color": "white"
             }
            },
            "header": {
             "fill": {
              "color": "#C8D4E3"
             },
             "line": {
              "color": "white"
             }
            },
            "type": "table"
           }
          ]
         },
         "layout": {
          "annotationdefaults": {
           "arrowcolor": "#2a3f5f",
           "arrowhead": 0,
           "arrowwidth": 1
          },
          "autotypenumbers": "strict",
          "coloraxis": {
           "colorbar": {
            "outlinewidth": 0,
            "ticks": ""
           }
          },
          "colorscale": {
           "diverging": [
            [
             0,
             "#8e0152"
            ],
            [
             0.1,
             "#c51b7d"
            ],
            [
             0.2,
             "#de77ae"
            ],
            [
             0.3,
             "#f1b6da"
            ],
            [
             0.4,
             "#fde0ef"
            ],
            [
             0.5,
             "#f7f7f7"
            ],
            [
             0.6,
             "#e6f5d0"
            ],
            [
             0.7,
             "#b8e186"
            ],
            [
             0.8,
             "#7fbc41"
            ],
            [
             0.9,
             "#4d9221"
            ],
            [
             1,
             "#276419"
            ]
           ],
           "sequential": [
            [
             0,
             "#0d0887"
            ],
            [
             0.1111111111111111,
             "#46039f"
            ],
            [
             0.2222222222222222,
             "#7201a8"
            ],
            [
             0.3333333333333333,
             "#9c179e"
            ],
            [
             0.4444444444444444,
             "#bd3786"
            ],
            [
             0.5555555555555556,
             "#d8576b"
            ],
            [
             0.6666666666666666,
             "#ed7953"
            ],
            [
             0.7777777777777778,
             "#fb9f3a"
            ],
            [
             0.8888888888888888,
             "#fdca26"
            ],
            [
             1,
             "#f0f921"
            ]
           ],
           "sequentialminus": [
            [
             0,
             "#0d0887"
            ],
            [
             0.1111111111111111,
             "#46039f"
            ],
            [
             0.2222222222222222,
             "#7201a8"
            ],
            [
             0.3333333333333333,
             "#9c179e"
            ],
            [
             0.4444444444444444,
             "#bd3786"
            ],
            [
             0.5555555555555556,
             "#d8576b"
            ],
            [
             0.6666666666666666,
             "#ed7953"
            ],
            [
             0.7777777777777778,
             "#fb9f3a"
            ],
            [
             0.8888888888888888,
             "#fdca26"
            ],
            [
             1,
             "#f0f921"
            ]
           ]
          },
          "colorway": [
           "#636efa",
           "#EF553B",
           "#00cc96",
           "#ab63fa",
           "#FFA15A",
           "#19d3f3",
           "#FF6692",
           "#B6E880",
           "#FF97FF",
           "#FECB52"
          ],
          "font": {
           "color": "#2a3f5f"
          },
          "geo": {
           "bgcolor": "white",
           "lakecolor": "white",
           "landcolor": "#E5ECF6",
           "showlakes": true,
           "showland": true,
           "subunitcolor": "white"
          },
          "hoverlabel": {
           "align": "left"
          },
          "hovermode": "closest",
          "mapbox": {
           "style": "light"
          },
          "paper_bgcolor": "white",
          "plot_bgcolor": "#E5ECF6",
          "polar": {
           "angularaxis": {
            "gridcolor": "white",
            "linecolor": "white",
            "ticks": ""
           },
           "bgcolor": "#E5ECF6",
           "radialaxis": {
            "gridcolor": "white",
            "linecolor": "white",
            "ticks": ""
           }
          },
          "scene": {
           "xaxis": {
            "backgroundcolor": "#E5ECF6",
            "gridcolor": "white",
            "gridwidth": 2,
            "linecolor": "white",
            "showbackground": true,
            "ticks": "",
            "zerolinecolor": "white"
           },
           "yaxis": {
            "backgroundcolor": "#E5ECF6",
            "gridcolor": "white",
            "gridwidth": 2,
            "linecolor": "white",
            "showbackground": true,
            "ticks": "",
            "zerolinecolor": "white"
           },
           "zaxis": {
            "backgroundcolor": "#E5ECF6",
            "gridcolor": "white",
            "gridwidth": 2,
            "linecolor": "white",
            "showbackground": true,
            "ticks": "",
            "zerolinecolor": "white"
           }
          },
          "shapedefaults": {
           "line": {
            "color": "#2a3f5f"
           }
          },
          "ternary": {
           "aaxis": {
            "gridcolor": "white",
            "linecolor": "white",
            "ticks": ""
           },
           "baxis": {
            "gridcolor": "white",
            "linecolor": "white",
            "ticks": ""
           },
           "bgcolor": "#E5ECF6",
           "caxis": {
            "gridcolor": "white",
            "linecolor": "white",
            "ticks": ""
           }
          },
          "title": {
           "x": 0.05
          },
          "xaxis": {
           "automargin": true,
           "gridcolor": "white",
           "linecolor": "white",
           "ticks": "",
           "title": {
            "standoff": 15
           },
           "zerolinecolor": "white",
           "zerolinewidth": 2
          },
          "yaxis": {
           "automargin": true,
           "gridcolor": "white",
           "linecolor": "white",
           "ticks": "",
           "title": {
            "standoff": 15
           },
           "zerolinecolor": "white",
           "zerolinewidth": 2
          }
         }
        },
        "title": {
         "text": "Percentage of Household in Positive and Negative Savings"
        },
        "width": 1000,
        "xaxis": {
         "anchor": "y",
         "domain": [
          0,
          0.2888888888888889
         ],
         "tickformat": ",.0%",
         "title": {
          "text": "Bill"
         },
         "visible": true
        },
        "xaxis2": {
         "anchor": "y2",
         "domain": [
          0.35555555555555557,
          0.6444444444444445
         ],
         "tickformat": ",.0%",
         "title": {
          "text": "Emission"
         },
         "visible": true
        },
        "xaxis3": {
         "anchor": "y3",
         "domain": [
          0.7111111111111111,
          1
         ],
         "tickformat": ",.0%",
         "title": {
          "text": "Total Energy"
         },
         "visible": true
        },
        "yaxis": {
         "anchor": "x",
         "domain": [
          0,
          1
         ],
         "visible": true
        },
        "yaxis2": {
         "anchor": "x2",
         "domain": [
          0,
          1
         ],
         "visible": false
        },
        "yaxis3": {
         "anchor": "x3",
         "domain": [
          0,
          1
         ],
         "visible": false
        }
       }
      }
     },
     "metadata": {},
     "output_type": "display_data"
    },
    {
     "name": "stderr",
     "output_type": "stream",
     "text": [
      "/var/folders/zw/lhnn73fj2250g9z11h_whq1szkf2pm/T/ipykernel_25540/3209730133.py:3: PerformanceWarning:\n",
      "\n",
      "DataFrame is highly fragmented.  This is usually the result of calling `frame.insert` many times, which has poor performance.  Consider joining all columns at once using pd.concat(axis=1) instead. To get a de-fragmented frame, use `newframe = frame.copy()`\n",
      "\n",
      "/var/folders/zw/lhnn73fj2250g9z11h_whq1szkf2pm/T/ipykernel_25540/3209730133.py:4: PerformanceWarning:\n",
      "\n",
      "DataFrame is highly fragmented.  This is usually the result of calling `frame.insert` many times, which has poor performance.  Consider joining all columns at once using pd.concat(axis=1) instead. To get a de-fragmented frame, use `newframe = frame.copy()`\n",
      "\n",
      "/var/folders/zw/lhnn73fj2250g9z11h_whq1szkf2pm/T/ipykernel_25540/3209730133.py:5: PerformanceWarning:\n",
      "\n",
      "DataFrame is highly fragmented.  This is usually the result of calling `frame.insert` many times, which has poor performance.  Consider joining all columns at once using pd.concat(axis=1) instead. To get a de-fragmented frame, use `newframe = frame.copy()`\n",
      "\n"
     ]
    }
   ],
   "source": [
    "segment = 'segment2'\n",
    "results = figure_positive_negative_savings(segment, community_results)\n",
    "saving_results[f'segment2_{income}_pct_bill_positive_savings_%'] = results[0]*100\n",
    "saving_results[f'segment2_{income}_pct_emission_positive_savings_%'] = results[1]*100\n",
    "saving_results[f'segment2_{income}_pct_energy_positive_savings_%'] = results[2]*100"
   ]
  },
  {
   "cell_type": "markdown",
   "id": "5902d860",
   "metadata": {},
   "source": [
    "### Segment 3"
   ]
  },
  {
   "cell_type": "code",
   "execution_count": 52,
   "id": "bd3a4fc0",
   "metadata": {},
   "outputs": [
    {
     "data": {
      "application/vnd.plotly.v1+json": {
       "config": {
        "plotlyServerURL": "https://plot.ly"
       },
       "data": [
        {
         "marker": {
          "color": "red"
         },
         "name": "Negative",
         "orientation": "h",
         "text": [
          1,
          1,
          0.6451612903225806,
          0.5625,
          0.5555555555555556,
          0.5555555555555556,
          0.5555555555555556,
          0.3611111111111111,
          0.3333333333333333,
          0.3333333333333333,
          0.3055555555555556,
          0.3055555555555556,
          0.1111111111111111,
          0.02857142857142857,
          0.027777777777777776,
          0
         ],
         "textposition": "inside",
         "texttemplate": "%{text:.0%}",
         "type": "bar",
         "x": [
          1,
          1,
          0.6451612903225806,
          0.5625,
          0.5555555555555556,
          0.5555555555555556,
          0.5555555555555556,
          0.3611111111111111,
          0.3333333333333333,
          0.3333333333333333,
          0.3055555555555556,
          0.3055555555555556,
          0.1111111111111111,
          0.02857142857142857,
          0.027777777777777776,
          0
         ],
         "xaxis": "x",
         "y": [
          "Electric Clothes Dryer",
          "Electric Cooking",
          "Mininum Efficiency Whole Home Electrification",
          "Mininum Efficiency Heat Pump with Existing Heat Backup",
          "High Efficiency Heat Pump with Electric Heat Backup",
          "High Efficiency Whole Home Electrification",
          "Mininum Efficiency Heat Pump with Electric Heat Backup",
          "Basic Enclosure + HPWH + High Efficiency HP/Electric Backup",
          "Basic Enclosure + High Efficiency Whole Home Electrification",
          "Enhanced Enclosure + HPWH + High Efficiency HP/Electric Backup",
          "Enhanced Enclosure + High Efficiency Whole Home Electrification",
          "Induction Cooking",
          "Heat Pump Water Heater",
          "Basic Enclosure",
          "Heat Pump Clothes Dryer",
          "Enhanced Enclosure"
         ],
         "yaxis": "y"
        },
        {
         "marker": {
          "color": "green"
         },
         "name": "Positive",
         "orientation": "h",
         "text": [
          0,
          0,
          0.3548387096774194,
          0.4375,
          0.4444444444444444,
          0.4444444444444444,
          0.4444444444444444,
          0.6388888888888888,
          0.6666666666666666,
          0.6666666666666666,
          0.6944444444444444,
          0.6944444444444444,
          0.8888888888888888,
          0.9714285714285714,
          0.9722222222222222,
          1
         ],
         "textposition": "inside",
         "texttemplate": "%{text:.0%}",
         "type": "bar",
         "x": [
          0,
          0,
          0.3548387096774194,
          0.4375,
          0.4444444444444444,
          0.4444444444444444,
          0.4444444444444444,
          0.6388888888888888,
          0.6666666666666666,
          0.6666666666666666,
          0.6944444444444444,
          0.6944444444444444,
          0.8888888888888888,
          0.9714285714285714,
          0.9722222222222222,
          1
         ],
         "xaxis": "x",
         "y": [
          "Electric Clothes Dryer",
          "Electric Cooking",
          "Mininum Efficiency Whole Home Electrification",
          "Mininum Efficiency Heat Pump with Existing Heat Backup",
          "High Efficiency Heat Pump with Electric Heat Backup",
          "High Efficiency Whole Home Electrification",
          "Mininum Efficiency Heat Pump with Electric Heat Backup",
          "Basic Enclosure + HPWH + High Efficiency HP/Electric Backup",
          "Basic Enclosure + High Efficiency Whole Home Electrification",
          "Enhanced Enclosure + HPWH + High Efficiency HP/Electric Backup",
          "Enhanced Enclosure + High Efficiency Whole Home Electrification",
          "Induction Cooking",
          "Heat Pump Water Heater",
          "Basic Enclosure",
          "Heat Pump Clothes Dryer",
          "Enhanced Enclosure"
         ],
         "yaxis": "y"
        },
        {
         "marker": {
          "color": "red"
         },
         "orientation": "h",
         "showlegend": false,
         "text": [
          0,
          0,
          0,
          0.375,
          0,
          0,
          0,
          0,
          0,
          0,
          0,
          0,
          0.08333333333333333,
          0,
          0,
          0
         ],
         "textposition": "inside",
         "texttemplate": "%{text:.0%}",
         "type": "bar",
         "x": [
          0,
          0,
          0,
          0.375,
          0,
          0,
          0,
          0,
          0,
          0,
          0,
          0,
          0.08333333333333333,
          0,
          0,
          0
         ],
         "xaxis": "x2",
         "y": [
          "Electric Clothes Dryer",
          "Electric Cooking",
          "Mininum Efficiency Whole Home Electrification",
          "Mininum Efficiency Heat Pump with Existing Heat Backup",
          "High Efficiency Heat Pump with Electric Heat Backup",
          "High Efficiency Whole Home Electrification",
          "Mininum Efficiency Heat Pump with Electric Heat Backup",
          "Basic Enclosure + HPWH + High Efficiency HP/Electric Backup",
          "Basic Enclosure + High Efficiency Whole Home Electrification",
          "Enhanced Enclosure + HPWH + High Efficiency HP/Electric Backup",
          "Enhanced Enclosure + High Efficiency Whole Home Electrification",
          "Induction Cooking",
          "Heat Pump Water Heater",
          "Basic Enclosure",
          "Heat Pump Clothes Dryer",
          "Enhanced Enclosure"
         ],
         "yaxis": "y2"
        },
        {
         "marker": {
          "color": "green"
         },
         "orientation": "h",
         "showlegend": false,
         "text": [
          1,
          1,
          1,
          0.625,
          1,
          1,
          1,
          1,
          1,
          1,
          1,
          1,
          0.9166666666666666,
          1,
          1,
          1
         ],
         "textposition": "inside",
         "texttemplate": "%{text:.0%}",
         "type": "bar",
         "x": [
          1,
          1,
          1,
          0.625,
          1,
          1,
          1,
          1,
          1,
          1,
          1,
          1,
          0.9166666666666666,
          1,
          1,
          1
         ],
         "xaxis": "x2",
         "y": [
          "Electric Clothes Dryer",
          "Electric Cooking",
          "Mininum Efficiency Whole Home Electrification",
          "Mininum Efficiency Heat Pump with Existing Heat Backup",
          "High Efficiency Heat Pump with Electric Heat Backup",
          "High Efficiency Whole Home Electrification",
          "Mininum Efficiency Heat Pump with Electric Heat Backup",
          "Basic Enclosure + HPWH + High Efficiency HP/Electric Backup",
          "Basic Enclosure + High Efficiency Whole Home Electrification",
          "Enhanced Enclosure + HPWH + High Efficiency HP/Electric Backup",
          "Enhanced Enclosure + High Efficiency Whole Home Electrification",
          "Induction Cooking",
          "Heat Pump Water Heater",
          "Basic Enclosure",
          "Heat Pump Clothes Dryer",
          "Enhanced Enclosure"
         ],
         "yaxis": "y2"
        },
        {
         "marker": {
          "color": "red"
         },
         "orientation": "h",
         "showlegend": false,
         "text": [
          0,
          0,
          0,
          0.375,
          0,
          0,
          0,
          0,
          0,
          0,
          0,
          0,
          0.027777777777777776,
          0,
          0,
          0
         ],
         "textposition": "inside",
         "texttemplate": "%{text:.0%}",
         "type": "bar",
         "x": [
          0,
          0,
          0,
          0.375,
          0,
          0,
          0,
          0,
          0,
          0,
          0,
          0,
          0.027777777777777776,
          0,
          0,
          0
         ],
         "xaxis": "x3",
         "y": [
          "Electric Clothes Dryer",
          "Electric Cooking",
          "Mininum Efficiency Whole Home Electrification",
          "Mininum Efficiency Heat Pump with Existing Heat Backup",
          "High Efficiency Heat Pump with Electric Heat Backup",
          "High Efficiency Whole Home Electrification",
          "Mininum Efficiency Heat Pump with Electric Heat Backup",
          "Basic Enclosure + HPWH + High Efficiency HP/Electric Backup",
          "Basic Enclosure + High Efficiency Whole Home Electrification",
          "Enhanced Enclosure + HPWH + High Efficiency HP/Electric Backup",
          "Enhanced Enclosure + High Efficiency Whole Home Electrification",
          "Induction Cooking",
          "Heat Pump Water Heater",
          "Basic Enclosure",
          "Heat Pump Clothes Dryer",
          "Enhanced Enclosure"
         ],
         "yaxis": "y3"
        },
        {
         "marker": {
          "color": "green"
         },
         "orientation": "h",
         "showlegend": false,
         "text": [
          1,
          1,
          1,
          0.625,
          1,
          1,
          1,
          1,
          1,
          1,
          1,
          1,
          0.9722222222222222,
          1,
          1,
          1
         ],
         "textposition": "inside",
         "texttemplate": "%{text:.0%}",
         "type": "bar",
         "x": [
          1,
          1,
          1,
          0.625,
          1,
          1,
          1,
          1,
          1,
          1,
          1,
          1,
          0.9722222222222222,
          1,
          1,
          1
         ],
         "xaxis": "x3",
         "y": [
          "Electric Clothes Dryer",
          "Electric Cooking",
          "Mininum Efficiency Whole Home Electrification",
          "Mininum Efficiency Heat Pump with Existing Heat Backup",
          "High Efficiency Heat Pump with Electric Heat Backup",
          "High Efficiency Whole Home Electrification",
          "Mininum Efficiency Heat Pump with Electric Heat Backup",
          "Basic Enclosure + HPWH + High Efficiency HP/Electric Backup",
          "Basic Enclosure + High Efficiency Whole Home Electrification",
          "Enhanced Enclosure + HPWH + High Efficiency HP/Electric Backup",
          "Enhanced Enclosure + High Efficiency Whole Home Electrification",
          "Induction Cooking",
          "Heat Pump Water Heater",
          "Basic Enclosure",
          "Heat Pump Clothes Dryer",
          "Enhanced Enclosure"
         ],
         "yaxis": "y3"
        }
       ],
       "layout": {
        "autosize": false,
        "barmode": "relative",
        "font": {
         "size": 10
        },
        "height": 500,
        "template": {
         "data": {
          "bar": [
           {
            "error_x": {
             "color": "#2a3f5f"
            },
            "error_y": {
             "color": "#2a3f5f"
            },
            "marker": {
             "line": {
              "color": "#E5ECF6",
              "width": 0.5
             },
             "pattern": {
              "fillmode": "overlay",
              "size": 10,
              "solidity": 0.2
             }
            },
            "type": "bar"
           }
          ],
          "barpolar": [
           {
            "marker": {
             "line": {
              "color": "#E5ECF6",
              "width": 0.5
             },
             "pattern": {
              "fillmode": "overlay",
              "size": 10,
              "solidity": 0.2
             }
            },
            "type": "barpolar"
           }
          ],
          "carpet": [
           {
            "aaxis": {
             "endlinecolor": "#2a3f5f",
             "gridcolor": "white",
             "linecolor": "white",
             "minorgridcolor": "white",
             "startlinecolor": "#2a3f5f"
            },
            "baxis": {
             "endlinecolor": "#2a3f5f",
             "gridcolor": "white",
             "linecolor": "white",
             "minorgridcolor": "white",
             "startlinecolor": "#2a3f5f"
            },
            "type": "carpet"
           }
          ],
          "choropleth": [
           {
            "colorbar": {
             "outlinewidth": 0,
             "ticks": ""
            },
            "type": "choropleth"
           }
          ],
          "contour": [
           {
            "colorbar": {
             "outlinewidth": 0,
             "ticks": ""
            },
            "colorscale": [
             [
              0,
              "#0d0887"
             ],
             [
              0.1111111111111111,
              "#46039f"
             ],
             [
              0.2222222222222222,
              "#7201a8"
             ],
             [
              0.3333333333333333,
              "#9c179e"
             ],
             [
              0.4444444444444444,
              "#bd3786"
             ],
             [
              0.5555555555555556,
              "#d8576b"
             ],
             [
              0.6666666666666666,
              "#ed7953"
             ],
             [
              0.7777777777777778,
              "#fb9f3a"
             ],
             [
              0.8888888888888888,
              "#fdca26"
             ],
             [
              1,
              "#f0f921"
             ]
            ],
            "type": "contour"
           }
          ],
          "contourcarpet": [
           {
            "colorbar": {
             "outlinewidth": 0,
             "ticks": ""
            },
            "type": "contourcarpet"
           }
          ],
          "heatmap": [
           {
            "colorbar": {
             "outlinewidth": 0,
             "ticks": ""
            },
            "colorscale": [
             [
              0,
              "#0d0887"
             ],
             [
              0.1111111111111111,
              "#46039f"
             ],
             [
              0.2222222222222222,
              "#7201a8"
             ],
             [
              0.3333333333333333,
              "#9c179e"
             ],
             [
              0.4444444444444444,
              "#bd3786"
             ],
             [
              0.5555555555555556,
              "#d8576b"
             ],
             [
              0.6666666666666666,
              "#ed7953"
             ],
             [
              0.7777777777777778,
              "#fb9f3a"
             ],
             [
              0.8888888888888888,
              "#fdca26"
             ],
             [
              1,
              "#f0f921"
             ]
            ],
            "type": "heatmap"
           }
          ],
          "heatmapgl": [
           {
            "colorbar": {
             "outlinewidth": 0,
             "ticks": ""
            },
            "colorscale": [
             [
              0,
              "#0d0887"
             ],
             [
              0.1111111111111111,
              "#46039f"
             ],
             [
              0.2222222222222222,
              "#7201a8"
             ],
             [
              0.3333333333333333,
              "#9c179e"
             ],
             [
              0.4444444444444444,
              "#bd3786"
             ],
             [
              0.5555555555555556,
              "#d8576b"
             ],
             [
              0.6666666666666666,
              "#ed7953"
             ],
             [
              0.7777777777777778,
              "#fb9f3a"
             ],
             [
              0.8888888888888888,
              "#fdca26"
             ],
             [
              1,
              "#f0f921"
             ]
            ],
            "type": "heatmapgl"
           }
          ],
          "histogram": [
           {
            "marker": {
             "pattern": {
              "fillmode": "overlay",
              "size": 10,
              "solidity": 0.2
             }
            },
            "type": "histogram"
           }
          ],
          "histogram2d": [
           {
            "colorbar": {
             "outlinewidth": 0,
             "ticks": ""
            },
            "colorscale": [
             [
              0,
              "#0d0887"
             ],
             [
              0.1111111111111111,
              "#46039f"
             ],
             [
              0.2222222222222222,
              "#7201a8"
             ],
             [
              0.3333333333333333,
              "#9c179e"
             ],
             [
              0.4444444444444444,
              "#bd3786"
             ],
             [
              0.5555555555555556,
              "#d8576b"
             ],
             [
              0.6666666666666666,
              "#ed7953"
             ],
             [
              0.7777777777777778,
              "#fb9f3a"
             ],
             [
              0.8888888888888888,
              "#fdca26"
             ],
             [
              1,
              "#f0f921"
             ]
            ],
            "type": "histogram2d"
           }
          ],
          "histogram2dcontour": [
           {
            "colorbar": {
             "outlinewidth": 0,
             "ticks": ""
            },
            "colorscale": [
             [
              0,
              "#0d0887"
             ],
             [
              0.1111111111111111,
              "#46039f"
             ],
             [
              0.2222222222222222,
              "#7201a8"
             ],
             [
              0.3333333333333333,
              "#9c179e"
             ],
             [
              0.4444444444444444,
              "#bd3786"
             ],
             [
              0.5555555555555556,
              "#d8576b"
             ],
             [
              0.6666666666666666,
              "#ed7953"
             ],
             [
              0.7777777777777778,
              "#fb9f3a"
             ],
             [
              0.8888888888888888,
              "#fdca26"
             ],
             [
              1,
              "#f0f921"
             ]
            ],
            "type": "histogram2dcontour"
           }
          ],
          "mesh3d": [
           {
            "colorbar": {
             "outlinewidth": 0,
             "ticks": ""
            },
            "type": "mesh3d"
           }
          ],
          "parcoords": [
           {
            "line": {
             "colorbar": {
              "outlinewidth": 0,
              "ticks": ""
             }
            },
            "type": "parcoords"
           }
          ],
          "pie": [
           {
            "automargin": true,
            "type": "pie"
           }
          ],
          "scatter": [
           {
            "fillpattern": {
             "fillmode": "overlay",
             "size": 10,
             "solidity": 0.2
            },
            "type": "scatter"
           }
          ],
          "scatter3d": [
           {
            "line": {
             "colorbar": {
              "outlinewidth": 0,
              "ticks": ""
             }
            },
            "marker": {
             "colorbar": {
              "outlinewidth": 0,
              "ticks": ""
             }
            },
            "type": "scatter3d"
           }
          ],
          "scattercarpet": [
           {
            "marker": {
             "colorbar": {
              "outlinewidth": 0,
              "ticks": ""
             }
            },
            "type": "scattercarpet"
           }
          ],
          "scattergeo": [
           {
            "marker": {
             "colorbar": {
              "outlinewidth": 0,
              "ticks": ""
             }
            },
            "type": "scattergeo"
           }
          ],
          "scattergl": [
           {
            "marker": {
             "colorbar": {
              "outlinewidth": 0,
              "ticks": ""
             }
            },
            "type": "scattergl"
           }
          ],
          "scattermapbox": [
           {
            "marker": {
             "colorbar": {
              "outlinewidth": 0,
              "ticks": ""
             }
            },
            "type": "scattermapbox"
           }
          ],
          "scatterpolar": [
           {
            "marker": {
             "colorbar": {
              "outlinewidth": 0,
              "ticks": ""
             }
            },
            "type": "scatterpolar"
           }
          ],
          "scatterpolargl": [
           {
            "marker": {
             "colorbar": {
              "outlinewidth": 0,
              "ticks": ""
             }
            },
            "type": "scatterpolargl"
           }
          ],
          "scatterternary": [
           {
            "marker": {
             "colorbar": {
              "outlinewidth": 0,
              "ticks": ""
             }
            },
            "type": "scatterternary"
           }
          ],
          "surface": [
           {
            "colorbar": {
             "outlinewidth": 0,
             "ticks": ""
            },
            "colorscale": [
             [
              0,
              "#0d0887"
             ],
             [
              0.1111111111111111,
              "#46039f"
             ],
             [
              0.2222222222222222,
              "#7201a8"
             ],
             [
              0.3333333333333333,
              "#9c179e"
             ],
             [
              0.4444444444444444,
              "#bd3786"
             ],
             [
              0.5555555555555556,
              "#d8576b"
             ],
             [
              0.6666666666666666,
              "#ed7953"
             ],
             [
              0.7777777777777778,
              "#fb9f3a"
             ],
             [
              0.8888888888888888,
              "#fdca26"
             ],
             [
              1,
              "#f0f921"
             ]
            ],
            "type": "surface"
           }
          ],
          "table": [
           {
            "cells": {
             "fill": {
              "color": "#EBF0F8"
             },
             "line": {
              "color": "white"
             }
            },
            "header": {
             "fill": {
              "color": "#C8D4E3"
             },
             "line": {
              "color": "white"
             }
            },
            "type": "table"
           }
          ]
         },
         "layout": {
          "annotationdefaults": {
           "arrowcolor": "#2a3f5f",
           "arrowhead": 0,
           "arrowwidth": 1
          },
          "autotypenumbers": "strict",
          "coloraxis": {
           "colorbar": {
            "outlinewidth": 0,
            "ticks": ""
           }
          },
          "colorscale": {
           "diverging": [
            [
             0,
             "#8e0152"
            ],
            [
             0.1,
             "#c51b7d"
            ],
            [
             0.2,
             "#de77ae"
            ],
            [
             0.3,
             "#f1b6da"
            ],
            [
             0.4,
             "#fde0ef"
            ],
            [
             0.5,
             "#f7f7f7"
            ],
            [
             0.6,
             "#e6f5d0"
            ],
            [
             0.7,
             "#b8e186"
            ],
            [
             0.8,
             "#7fbc41"
            ],
            [
             0.9,
             "#4d9221"
            ],
            [
             1,
             "#276419"
            ]
           ],
           "sequential": [
            [
             0,
             "#0d0887"
            ],
            [
             0.1111111111111111,
             "#46039f"
            ],
            [
             0.2222222222222222,
             "#7201a8"
            ],
            [
             0.3333333333333333,
             "#9c179e"
            ],
            [
             0.4444444444444444,
             "#bd3786"
            ],
            [
             0.5555555555555556,
             "#d8576b"
            ],
            [
             0.6666666666666666,
             "#ed7953"
            ],
            [
             0.7777777777777778,
             "#fb9f3a"
            ],
            [
             0.8888888888888888,
             "#fdca26"
            ],
            [
             1,
             "#f0f921"
            ]
           ],
           "sequentialminus": [
            [
             0,
             "#0d0887"
            ],
            [
             0.1111111111111111,
             "#46039f"
            ],
            [
             0.2222222222222222,
             "#7201a8"
            ],
            [
             0.3333333333333333,
             "#9c179e"
            ],
            [
             0.4444444444444444,
             "#bd3786"
            ],
            [
             0.5555555555555556,
             "#d8576b"
            ],
            [
             0.6666666666666666,
             "#ed7953"
            ],
            [
             0.7777777777777778,
             "#fb9f3a"
            ],
            [
             0.8888888888888888,
             "#fdca26"
            ],
            [
             1,
             "#f0f921"
            ]
           ]
          },
          "colorway": [
           "#636efa",
           "#EF553B",
           "#00cc96",
           "#ab63fa",
           "#FFA15A",
           "#19d3f3",
           "#FF6692",
           "#B6E880",
           "#FF97FF",
           "#FECB52"
          ],
          "font": {
           "color": "#2a3f5f"
          },
          "geo": {
           "bgcolor": "white",
           "lakecolor": "white",
           "landcolor": "#E5ECF6",
           "showlakes": true,
           "showland": true,
           "subunitcolor": "white"
          },
          "hoverlabel": {
           "align": "left"
          },
          "hovermode": "closest",
          "mapbox": {
           "style": "light"
          },
          "paper_bgcolor": "white",
          "plot_bgcolor": "#E5ECF6",
          "polar": {
           "angularaxis": {
            "gridcolor": "white",
            "linecolor": "white",
            "ticks": ""
           },
           "bgcolor": "#E5ECF6",
           "radialaxis": {
            "gridcolor": "white",
            "linecolor": "white",
            "ticks": ""
           }
          },
          "scene": {
           "xaxis": {
            "backgroundcolor": "#E5ECF6",
            "gridcolor": "white",
            "gridwidth": 2,
            "linecolor": "white",
            "showbackground": true,
            "ticks": "",
            "zerolinecolor": "white"
           },
           "yaxis": {
            "backgroundcolor": "#E5ECF6",
            "gridcolor": "white",
            "gridwidth": 2,
            "linecolor": "white",
            "showbackground": true,
            "ticks": "",
            "zerolinecolor": "white"
           },
           "zaxis": {
            "backgroundcolor": "#E5ECF6",
            "gridcolor": "white",
            "gridwidth": 2,
            "linecolor": "white",
            "showbackground": true,
            "ticks": "",
            "zerolinecolor": "white"
           }
          },
          "shapedefaults": {
           "line": {
            "color": "#2a3f5f"
           }
          },
          "ternary": {
           "aaxis": {
            "gridcolor": "white",
            "linecolor": "white",
            "ticks": ""
           },
           "baxis": {
            "gridcolor": "white",
            "linecolor": "white",
            "ticks": ""
           },
           "bgcolor": "#E5ECF6",
           "caxis": {
            "gridcolor": "white",
            "linecolor": "white",
            "ticks": ""
           }
          },
          "title": {
           "x": 0.05
          },
          "xaxis": {
           "automargin": true,
           "gridcolor": "white",
           "linecolor": "white",
           "ticks": "",
           "title": {
            "standoff": 15
           },
           "zerolinecolor": "white",
           "zerolinewidth": 2
          },
          "yaxis": {
           "automargin": true,
           "gridcolor": "white",
           "linecolor": "white",
           "ticks": "",
           "title": {
            "standoff": 15
           },
           "zerolinecolor": "white",
           "zerolinewidth": 2
          }
         }
        },
        "title": {
         "text": "Percentage of Household in Positive and Negative Savings"
        },
        "width": 1000,
        "xaxis": {
         "anchor": "y",
         "domain": [
          0,
          0.2888888888888889
         ],
         "tickformat": ",.0%",
         "title": {
          "text": "Bill"
         },
         "visible": true
        },
        "xaxis2": {
         "anchor": "y2",
         "domain": [
          0.35555555555555557,
          0.6444444444444445
         ],
         "tickformat": ",.0%",
         "title": {
          "text": "Emission"
         },
         "visible": true
        },
        "xaxis3": {
         "anchor": "y3",
         "domain": [
          0.7111111111111111,
          1
         ],
         "tickformat": ",.0%",
         "title": {
          "text": "Total Energy"
         },
         "visible": true
        },
        "yaxis": {
         "anchor": "x",
         "domain": [
          0,
          1
         ],
         "visible": true
        },
        "yaxis2": {
         "anchor": "x2",
         "domain": [
          0,
          1
         ],
         "visible": false
        },
        "yaxis3": {
         "anchor": "x3",
         "domain": [
          0,
          1
         ],
         "visible": false
        }
       }
      }
     },
     "metadata": {},
     "output_type": "display_data"
    },
    {
     "name": "stderr",
     "output_type": "stream",
     "text": [
      "/var/folders/zw/lhnn73fj2250g9z11h_whq1szkf2pm/T/ipykernel_25540/1326448381.py:3: PerformanceWarning:\n",
      "\n",
      "DataFrame is highly fragmented.  This is usually the result of calling `frame.insert` many times, which has poor performance.  Consider joining all columns at once using pd.concat(axis=1) instead. To get a de-fragmented frame, use `newframe = frame.copy()`\n",
      "\n",
      "/var/folders/zw/lhnn73fj2250g9z11h_whq1szkf2pm/T/ipykernel_25540/1326448381.py:4: PerformanceWarning:\n",
      "\n",
      "DataFrame is highly fragmented.  This is usually the result of calling `frame.insert` many times, which has poor performance.  Consider joining all columns at once using pd.concat(axis=1) instead. To get a de-fragmented frame, use `newframe = frame.copy()`\n",
      "\n",
      "/var/folders/zw/lhnn73fj2250g9z11h_whq1szkf2pm/T/ipykernel_25540/1326448381.py:5: PerformanceWarning:\n",
      "\n",
      "DataFrame is highly fragmented.  This is usually the result of calling `frame.insert` many times, which has poor performance.  Consider joining all columns at once using pd.concat(axis=1) instead. To get a de-fragmented frame, use `newframe = frame.copy()`\n",
      "\n"
     ]
    }
   ],
   "source": [
    "egment = 'segment3'\n",
    "results = figure_positive_negative_savings(segment, community_results) \n",
    "saving_results[f'segment3_{income}_pct_bill_positive_savings_%'] = results[0]*100\n",
    "saving_results[f'segment3_{income}_pct_emission_positive_savings_%'] = results[1]*100\n",
    "saving_results[f'segment3_{income}_pct_energy_positive_savings_%'] = results[2]*100"
   ]
  },
  {
   "cell_type": "markdown",
   "id": "2e251a36",
   "metadata": {},
   "source": [
    "### Segment 4"
   ]
  },
  {
   "cell_type": "code",
   "execution_count": 53,
   "id": "2e970f6b",
   "metadata": {},
   "outputs": [
    {
     "data": {
      "application/vnd.plotly.v1+json": {
       "config": {
        "plotlyServerURL": "https://plot.ly"
       },
       "data": [
        {
         "marker": {
          "color": "red"
         },
         "name": "Negative",
         "orientation": "h",
         "text": [
          1,
          0.4230769230769231,
          0.23404255319148937,
          0.1875,
          0.14893617021276595,
          0.10416666666666667,
          0.08333333333333333,
          0.020833333333333332,
          0,
          0,
          0,
          0,
          0,
          0,
          0
         ],
         "textposition": "inside",
         "texttemplate": "%{text:.0%}",
         "type": "bar",
         "x": [
          1,
          0.4230769230769231,
          0.23404255319148937,
          0.1875,
          0.14893617021276595,
          0.10416666666666667,
          0.08333333333333333,
          0.020833333333333332,
          0,
          0,
          0,
          0,
          0,
          0,
          0
         ],
         "xaxis": "x",
         "y": [
          "Electric Cooking",
          "Mininum Efficiency Whole Home Electrification",
          "Induction Cooking",
          "Mininum Efficiency Heat Pump with Electric Heat Backup",
          "Mininum Efficiency Heat Pump with Existing Heat Backup",
          "Heat Pump Water Heater",
          "High Efficiency Heat Pump with Electric Heat Backup",
          "High Efficiency Whole Home Electrification",
          "Basic Enclosure",
          "Basic Enclosure + HPWH + High Efficiency HP/Electric Backup",
          "Basic Enclosure + High Efficiency Whole Home Electrification",
          "Enhanced Enclosure",
          "Enhanced Enclosure + HPWH + High Efficiency HP/Electric Backup",
          "Enhanced Enclosure + High Efficiency Whole Home Electrification",
          "Heat Pump Clothes Dryer"
         ],
         "yaxis": "y"
        },
        {
         "marker": {
          "color": "green"
         },
         "name": "Positive",
         "orientation": "h",
         "text": [
          0,
          0.5769230769230769,
          0.7659574468085106,
          0.8125,
          0.851063829787234,
          0.8958333333333334,
          0.9166666666666666,
          0.9791666666666666,
          1,
          1,
          1,
          1,
          1,
          1,
          1
         ],
         "textposition": "inside",
         "texttemplate": "%{text:.0%}",
         "type": "bar",
         "x": [
          0,
          0.5769230769230769,
          0.7659574468085106,
          0.8125,
          0.851063829787234,
          0.8958333333333334,
          0.9166666666666666,
          0.9791666666666666,
          1,
          1,
          1,
          1,
          1,
          1,
          1
         ],
         "xaxis": "x",
         "y": [
          "Electric Cooking",
          "Mininum Efficiency Whole Home Electrification",
          "Induction Cooking",
          "Mininum Efficiency Heat Pump with Electric Heat Backup",
          "Mininum Efficiency Heat Pump with Existing Heat Backup",
          "Heat Pump Water Heater",
          "High Efficiency Heat Pump with Electric Heat Backup",
          "High Efficiency Whole Home Electrification",
          "Basic Enclosure",
          "Basic Enclosure + HPWH + High Efficiency HP/Electric Backup",
          "Basic Enclosure + High Efficiency Whole Home Electrification",
          "Enhanced Enclosure",
          "Enhanced Enclosure + HPWH + High Efficiency HP/Electric Backup",
          "Enhanced Enclosure + High Efficiency Whole Home Electrification",
          "Heat Pump Clothes Dryer"
         ],
         "yaxis": "y"
        },
        {
         "marker": {
          "color": "red"
         },
         "orientation": "h",
         "showlegend": false,
         "text": [
          0,
          0.038461538461538464,
          0,
          0.041666666666666664,
          0.06382978723404255,
          0.041666666666666664,
          0,
          0,
          0,
          0,
          0,
          0,
          0,
          0,
          0
         ],
         "textposition": "inside",
         "texttemplate": "%{text:.0%}",
         "type": "bar",
         "x": [
          0,
          0.038461538461538464,
          0,
          0.041666666666666664,
          0.06382978723404255,
          0.041666666666666664,
          0,
          0,
          0,
          0,
          0,
          0,
          0,
          0,
          0
         ],
         "xaxis": "x2",
         "y": [
          "Electric Cooking",
          "Mininum Efficiency Whole Home Electrification",
          "Induction Cooking",
          "Mininum Efficiency Heat Pump with Electric Heat Backup",
          "Mininum Efficiency Heat Pump with Existing Heat Backup",
          "Heat Pump Water Heater",
          "High Efficiency Heat Pump with Electric Heat Backup",
          "High Efficiency Whole Home Electrification",
          "Basic Enclosure",
          "Basic Enclosure + HPWH + High Efficiency HP/Electric Backup",
          "Basic Enclosure + High Efficiency Whole Home Electrification",
          "Enhanced Enclosure",
          "Enhanced Enclosure + HPWH + High Efficiency HP/Electric Backup",
          "Enhanced Enclosure + High Efficiency Whole Home Electrification",
          "Heat Pump Clothes Dryer"
         ],
         "yaxis": "y2"
        },
        {
         "marker": {
          "color": "green"
         },
         "orientation": "h",
         "showlegend": false,
         "text": [
          1,
          0.9615384615384616,
          1,
          0.9583333333333334,
          0.9361702127659575,
          0.9583333333333334,
          1,
          1,
          1,
          1,
          1,
          1,
          1,
          1,
          1
         ],
         "textposition": "inside",
         "texttemplate": "%{text:.0%}",
         "type": "bar",
         "x": [
          1,
          0.9615384615384616,
          1,
          0.9583333333333334,
          0.9361702127659575,
          0.9583333333333334,
          1,
          1,
          1,
          1,
          1,
          1,
          1,
          1,
          1
         ],
         "xaxis": "x2",
         "y": [
          "Electric Cooking",
          "Mininum Efficiency Whole Home Electrification",
          "Induction Cooking",
          "Mininum Efficiency Heat Pump with Electric Heat Backup",
          "Mininum Efficiency Heat Pump with Existing Heat Backup",
          "Heat Pump Water Heater",
          "High Efficiency Heat Pump with Electric Heat Backup",
          "High Efficiency Whole Home Electrification",
          "Basic Enclosure",
          "Basic Enclosure + HPWH + High Efficiency HP/Electric Backup",
          "Basic Enclosure + High Efficiency Whole Home Electrification",
          "Enhanced Enclosure",
          "Enhanced Enclosure + HPWH + High Efficiency HP/Electric Backup",
          "Enhanced Enclosure + High Efficiency Whole Home Electrification",
          "Heat Pump Clothes Dryer"
         ],
         "yaxis": "y2"
        },
        {
         "marker": {
          "color": "red"
         },
         "orientation": "h",
         "showlegend": false,
         "text": [
          0,
          0.038461538461538464,
          0,
          0.041666666666666664,
          0.06382978723404255,
          0.020833333333333332,
          0,
          0,
          0,
          0,
          0,
          0,
          0,
          0,
          0
         ],
         "textposition": "inside",
         "texttemplate": "%{text:.0%}",
         "type": "bar",
         "x": [
          0,
          0.038461538461538464,
          0,
          0.041666666666666664,
          0.06382978723404255,
          0.020833333333333332,
          0,
          0,
          0,
          0,
          0,
          0,
          0,
          0,
          0
         ],
         "xaxis": "x3",
         "y": [
          "Electric Cooking",
          "Mininum Efficiency Whole Home Electrification",
          "Induction Cooking",
          "Mininum Efficiency Heat Pump with Electric Heat Backup",
          "Mininum Efficiency Heat Pump with Existing Heat Backup",
          "Heat Pump Water Heater",
          "High Efficiency Heat Pump with Electric Heat Backup",
          "High Efficiency Whole Home Electrification",
          "Basic Enclosure",
          "Basic Enclosure + HPWH + High Efficiency HP/Electric Backup",
          "Basic Enclosure + High Efficiency Whole Home Electrification",
          "Enhanced Enclosure",
          "Enhanced Enclosure + HPWH + High Efficiency HP/Electric Backup",
          "Enhanced Enclosure + High Efficiency Whole Home Electrification",
          "Heat Pump Clothes Dryer"
         ],
         "yaxis": "y3"
        },
        {
         "marker": {
          "color": "green"
         },
         "orientation": "h",
         "showlegend": false,
         "text": [
          1,
          0.9615384615384616,
          1,
          0.9583333333333334,
          0.9361702127659575,
          0.9791666666666666,
          1,
          1,
          1,
          1,
          1,
          1,
          1,
          1,
          1
         ],
         "textposition": "inside",
         "texttemplate": "%{text:.0%}",
         "type": "bar",
         "x": [
          1,
          0.9615384615384616,
          1,
          0.9583333333333334,
          0.9361702127659575,
          0.9791666666666666,
          1,
          1,
          1,
          1,
          1,
          1,
          1,
          1,
          1
         ],
         "xaxis": "x3",
         "y": [
          "Electric Cooking",
          "Mininum Efficiency Whole Home Electrification",
          "Induction Cooking",
          "Mininum Efficiency Heat Pump with Electric Heat Backup",
          "Mininum Efficiency Heat Pump with Existing Heat Backup",
          "Heat Pump Water Heater",
          "High Efficiency Heat Pump with Electric Heat Backup",
          "High Efficiency Whole Home Electrification",
          "Basic Enclosure",
          "Basic Enclosure + HPWH + High Efficiency HP/Electric Backup",
          "Basic Enclosure + High Efficiency Whole Home Electrification",
          "Enhanced Enclosure",
          "Enhanced Enclosure + HPWH + High Efficiency HP/Electric Backup",
          "Enhanced Enclosure + High Efficiency Whole Home Electrification",
          "Heat Pump Clothes Dryer"
         ],
         "yaxis": "y3"
        }
       ],
       "layout": {
        "autosize": false,
        "barmode": "relative",
        "font": {
         "size": 10
        },
        "height": 500,
        "template": {
         "data": {
          "bar": [
           {
            "error_x": {
             "color": "#2a3f5f"
            },
            "error_y": {
             "color": "#2a3f5f"
            },
            "marker": {
             "line": {
              "color": "#E5ECF6",
              "width": 0.5
             },
             "pattern": {
              "fillmode": "overlay",
              "size": 10,
              "solidity": 0.2
             }
            },
            "type": "bar"
           }
          ],
          "barpolar": [
           {
            "marker": {
             "line": {
              "color": "#E5ECF6",
              "width": 0.5
             },
             "pattern": {
              "fillmode": "overlay",
              "size": 10,
              "solidity": 0.2
             }
            },
            "type": "barpolar"
           }
          ],
          "carpet": [
           {
            "aaxis": {
             "endlinecolor": "#2a3f5f",
             "gridcolor": "white",
             "linecolor": "white",
             "minorgridcolor": "white",
             "startlinecolor": "#2a3f5f"
            },
            "baxis": {
             "endlinecolor": "#2a3f5f",
             "gridcolor": "white",
             "linecolor": "white",
             "minorgridcolor": "white",
             "startlinecolor": "#2a3f5f"
            },
            "type": "carpet"
           }
          ],
          "choropleth": [
           {
            "colorbar": {
             "outlinewidth": 0,
             "ticks": ""
            },
            "type": "choropleth"
           }
          ],
          "contour": [
           {
            "colorbar": {
             "outlinewidth": 0,
             "ticks": ""
            },
            "colorscale": [
             [
              0,
              "#0d0887"
             ],
             [
              0.1111111111111111,
              "#46039f"
             ],
             [
              0.2222222222222222,
              "#7201a8"
             ],
             [
              0.3333333333333333,
              "#9c179e"
             ],
             [
              0.4444444444444444,
              "#bd3786"
             ],
             [
              0.5555555555555556,
              "#d8576b"
             ],
             [
              0.6666666666666666,
              "#ed7953"
             ],
             [
              0.7777777777777778,
              "#fb9f3a"
             ],
             [
              0.8888888888888888,
              "#fdca26"
             ],
             [
              1,
              "#f0f921"
             ]
            ],
            "type": "contour"
           }
          ],
          "contourcarpet": [
           {
            "colorbar": {
             "outlinewidth": 0,
             "ticks": ""
            },
            "type": "contourcarpet"
           }
          ],
          "heatmap": [
           {
            "colorbar": {
             "outlinewidth": 0,
             "ticks": ""
            },
            "colorscale": [
             [
              0,
              "#0d0887"
             ],
             [
              0.1111111111111111,
              "#46039f"
             ],
             [
              0.2222222222222222,
              "#7201a8"
             ],
             [
              0.3333333333333333,
              "#9c179e"
             ],
             [
              0.4444444444444444,
              "#bd3786"
             ],
             [
              0.5555555555555556,
              "#d8576b"
             ],
             [
              0.6666666666666666,
              "#ed7953"
             ],
             [
              0.7777777777777778,
              "#fb9f3a"
             ],
             [
              0.8888888888888888,
              "#fdca26"
             ],
             [
              1,
              "#f0f921"
             ]
            ],
            "type": "heatmap"
           }
          ],
          "heatmapgl": [
           {
            "colorbar": {
             "outlinewidth": 0,
             "ticks": ""
            },
            "colorscale": [
             [
              0,
              "#0d0887"
             ],
             [
              0.1111111111111111,
              "#46039f"
             ],
             [
              0.2222222222222222,
              "#7201a8"
             ],
             [
              0.3333333333333333,
              "#9c179e"
             ],
             [
              0.4444444444444444,
              "#bd3786"
             ],
             [
              0.5555555555555556,
              "#d8576b"
             ],
             [
              0.6666666666666666,
              "#ed7953"
             ],
             [
              0.7777777777777778,
              "#fb9f3a"
             ],
             [
              0.8888888888888888,
              "#fdca26"
             ],
             [
              1,
              "#f0f921"
             ]
            ],
            "type": "heatmapgl"
           }
          ],
          "histogram": [
           {
            "marker": {
             "pattern": {
              "fillmode": "overlay",
              "size": 10,
              "solidity": 0.2
             }
            },
            "type": "histogram"
           }
          ],
          "histogram2d": [
           {
            "colorbar": {
             "outlinewidth": 0,
             "ticks": ""
            },
            "colorscale": [
             [
              0,
              "#0d0887"
             ],
             [
              0.1111111111111111,
              "#46039f"
             ],
             [
              0.2222222222222222,
              "#7201a8"
             ],
             [
              0.3333333333333333,
              "#9c179e"
             ],
             [
              0.4444444444444444,
              "#bd3786"
             ],
             [
              0.5555555555555556,
              "#d8576b"
             ],
             [
              0.6666666666666666,
              "#ed7953"
             ],
             [
              0.7777777777777778,
              "#fb9f3a"
             ],
             [
              0.8888888888888888,
              "#fdca26"
             ],
             [
              1,
              "#f0f921"
             ]
            ],
            "type": "histogram2d"
           }
          ],
          "histogram2dcontour": [
           {
            "colorbar": {
             "outlinewidth": 0,
             "ticks": ""
            },
            "colorscale": [
             [
              0,
              "#0d0887"
             ],
             [
              0.1111111111111111,
              "#46039f"
             ],
             [
              0.2222222222222222,
              "#7201a8"
             ],
             [
              0.3333333333333333,
              "#9c179e"
             ],
             [
              0.4444444444444444,
              "#bd3786"
             ],
             [
              0.5555555555555556,
              "#d8576b"
             ],
             [
              0.6666666666666666,
              "#ed7953"
             ],
             [
              0.7777777777777778,
              "#fb9f3a"
             ],
             [
              0.8888888888888888,
              "#fdca26"
             ],
             [
              1,
              "#f0f921"
             ]
            ],
            "type": "histogram2dcontour"
           }
          ],
          "mesh3d": [
           {
            "colorbar": {
             "outlinewidth": 0,
             "ticks": ""
            },
            "type": "mesh3d"
           }
          ],
          "parcoords": [
           {
            "line": {
             "colorbar": {
              "outlinewidth": 0,
              "ticks": ""
             }
            },
            "type": "parcoords"
           }
          ],
          "pie": [
           {
            "automargin": true,
            "type": "pie"
           }
          ],
          "scatter": [
           {
            "fillpattern": {
             "fillmode": "overlay",
             "size": 10,
             "solidity": 0.2
            },
            "type": "scatter"
           }
          ],
          "scatter3d": [
           {
            "line": {
             "colorbar": {
              "outlinewidth": 0,
              "ticks": ""
             }
            },
            "marker": {
             "colorbar": {
              "outlinewidth": 0,
              "ticks": ""
             }
            },
            "type": "scatter3d"
           }
          ],
          "scattercarpet": [
           {
            "marker": {
             "colorbar": {
              "outlinewidth": 0,
              "ticks": ""
             }
            },
            "type": "scattercarpet"
           }
          ],
          "scattergeo": [
           {
            "marker": {
             "colorbar": {
              "outlinewidth": 0,
              "ticks": ""
             }
            },
            "type": "scattergeo"
           }
          ],
          "scattergl": [
           {
            "marker": {
             "colorbar": {
              "outlinewidth": 0,
              "ticks": ""
             }
            },
            "type": "scattergl"
           }
          ],
          "scattermapbox": [
           {
            "marker": {
             "colorbar": {
              "outlinewidth": 0,
              "ticks": ""
             }
            },
            "type": "scattermapbox"
           }
          ],
          "scatterpolar": [
           {
            "marker": {
             "colorbar": {
              "outlinewidth": 0,
              "ticks": ""
             }
            },
            "type": "scatterpolar"
           }
          ],
          "scatterpolargl": [
           {
            "marker": {
             "colorbar": {
              "outlinewidth": 0,
              "ticks": ""
             }
            },
            "type": "scatterpolargl"
           }
          ],
          "scatterternary": [
           {
            "marker": {
             "colorbar": {
              "outlinewidth": 0,
              "ticks": ""
             }
            },
            "type": "scatterternary"
           }
          ],
          "surface": [
           {
            "colorbar": {
             "outlinewidth": 0,
             "ticks": ""
            },
            "colorscale": [
             [
              0,
              "#0d0887"
             ],
             [
              0.1111111111111111,
              "#46039f"
             ],
             [
              0.2222222222222222,
              "#7201a8"
             ],
             [
              0.3333333333333333,
              "#9c179e"
             ],
             [
              0.4444444444444444,
              "#bd3786"
             ],
             [
              0.5555555555555556,
              "#d8576b"
             ],
             [
              0.6666666666666666,
              "#ed7953"
             ],
             [
              0.7777777777777778,
              "#fb9f3a"
             ],
             [
              0.8888888888888888,
              "#fdca26"
             ],
             [
              1,
              "#f0f921"
             ]
            ],
            "type": "surface"
           }
          ],
          "table": [
           {
            "cells": {
             "fill": {
              "color": "#EBF0F8"
             },
             "line": {
              "color": "white"
             }
            },
            "header": {
             "fill": {
              "color": "#C8D4E3"
             },
             "line": {
              "color": "white"
             }
            },
            "type": "table"
           }
          ]
         },
         "layout": {
          "annotationdefaults": {
           "arrowcolor": "#2a3f5f",
           "arrowhead": 0,
           "arrowwidth": 1
          },
          "autotypenumbers": "strict",
          "coloraxis": {
           "colorbar": {
            "outlinewidth": 0,
            "ticks": ""
           }
          },
          "colorscale": {
           "diverging": [
            [
             0,
             "#8e0152"
            ],
            [
             0.1,
             "#c51b7d"
            ],
            [
             0.2,
             "#de77ae"
            ],
            [
             0.3,
             "#f1b6da"
            ],
            [
             0.4,
             "#fde0ef"
            ],
            [
             0.5,
             "#f7f7f7"
            ],
            [
             0.6,
             "#e6f5d0"
            ],
            [
             0.7,
             "#b8e186"
            ],
            [
             0.8,
             "#7fbc41"
            ],
            [
             0.9,
             "#4d9221"
            ],
            [
             1,
             "#276419"
            ]
           ],
           "sequential": [
            [
             0,
             "#0d0887"
            ],
            [
             0.1111111111111111,
             "#46039f"
            ],
            [
             0.2222222222222222,
             "#7201a8"
            ],
            [
             0.3333333333333333,
             "#9c179e"
            ],
            [
             0.4444444444444444,
             "#bd3786"
            ],
            [
             0.5555555555555556,
             "#d8576b"
            ],
            [
             0.6666666666666666,
             "#ed7953"
            ],
            [
             0.7777777777777778,
             "#fb9f3a"
            ],
            [
             0.8888888888888888,
             "#fdca26"
            ],
            [
             1,
             "#f0f921"
            ]
           ],
           "sequentialminus": [
            [
             0,
             "#0d0887"
            ],
            [
             0.1111111111111111,
             "#46039f"
            ],
            [
             0.2222222222222222,
             "#7201a8"
            ],
            [
             0.3333333333333333,
             "#9c179e"
            ],
            [
             0.4444444444444444,
             "#bd3786"
            ],
            [
             0.5555555555555556,
             "#d8576b"
            ],
            [
             0.6666666666666666,
             "#ed7953"
            ],
            [
             0.7777777777777778,
             "#fb9f3a"
            ],
            [
             0.8888888888888888,
             "#fdca26"
            ],
            [
             1,
             "#f0f921"
            ]
           ]
          },
          "colorway": [
           "#636efa",
           "#EF553B",
           "#00cc96",
           "#ab63fa",
           "#FFA15A",
           "#19d3f3",
           "#FF6692",
           "#B6E880",
           "#FF97FF",
           "#FECB52"
          ],
          "font": {
           "color": "#2a3f5f"
          },
          "geo": {
           "bgcolor": "white",
           "lakecolor": "white",
           "landcolor": "#E5ECF6",
           "showlakes": true,
           "showland": true,
           "subunitcolor": "white"
          },
          "hoverlabel": {
           "align": "left"
          },
          "hovermode": "closest",
          "mapbox": {
           "style": "light"
          },
          "paper_bgcolor": "white",
          "plot_bgcolor": "#E5ECF6",
          "polar": {
           "angularaxis": {
            "gridcolor": "white",
            "linecolor": "white",
            "ticks": ""
           },
           "bgcolor": "#E5ECF6",
           "radialaxis": {
            "gridcolor": "white",
            "linecolor": "white",
            "ticks": ""
           }
          },
          "scene": {
           "xaxis": {
            "backgroundcolor": "#E5ECF6",
            "gridcolor": "white",
            "gridwidth": 2,
            "linecolor": "white",
            "showbackground": true,
            "ticks": "",
            "zerolinecolor": "white"
           },
           "yaxis": {
            "backgroundcolor": "#E5ECF6",
            "gridcolor": "white",
            "gridwidth": 2,
            "linecolor": "white",
            "showbackground": true,
            "ticks": "",
            "zerolinecolor": "white"
           },
           "zaxis": {
            "backgroundcolor": "#E5ECF6",
            "gridcolor": "white",
            "gridwidth": 2,
            "linecolor": "white",
            "showbackground": true,
            "ticks": "",
            "zerolinecolor": "white"
           }
          },
          "shapedefaults": {
           "line": {
            "color": "#2a3f5f"
           }
          },
          "ternary": {
           "aaxis": {
            "gridcolor": "white",
            "linecolor": "white",
            "ticks": ""
           },
           "baxis": {
            "gridcolor": "white",
            "linecolor": "white",
            "ticks": ""
           },
           "bgcolor": "#E5ECF6",
           "caxis": {
            "gridcolor": "white",
            "linecolor": "white",
            "ticks": ""
           }
          },
          "title": {
           "x": 0.05
          },
          "xaxis": {
           "automargin": true,
           "gridcolor": "white",
           "linecolor": "white",
           "ticks": "",
           "title": {
            "standoff": 15
           },
           "zerolinecolor": "white",
           "zerolinewidth": 2
          },
          "yaxis": {
           "automargin": true,
           "gridcolor": "white",
           "linecolor": "white",
           "ticks": "",
           "title": {
            "standoff": 15
           },
           "zerolinecolor": "white",
           "zerolinewidth": 2
          }
         }
        },
        "title": {
         "text": "Percentage of Household in Positive and Negative Savings"
        },
        "width": 1000,
        "xaxis": {
         "anchor": "y",
         "domain": [
          0,
          0.2888888888888889
         ],
         "tickformat": ",.0%",
         "title": {
          "text": "Bill"
         },
         "visible": true
        },
        "xaxis2": {
         "anchor": "y2",
         "domain": [
          0.35555555555555557,
          0.6444444444444445
         ],
         "tickformat": ",.0%",
         "title": {
          "text": "Emission"
         },
         "visible": true
        },
        "xaxis3": {
         "anchor": "y3",
         "domain": [
          0.7111111111111111,
          1
         ],
         "tickformat": ",.0%",
         "title": {
          "text": "Total Energy"
         },
         "visible": true
        },
        "yaxis": {
         "anchor": "x",
         "domain": [
          0,
          1
         ],
         "visible": true
        },
        "yaxis2": {
         "anchor": "x2",
         "domain": [
          0,
          1
         ],
         "visible": false
        },
        "yaxis3": {
         "anchor": "x3",
         "domain": [
          0,
          1
         ],
         "visible": false
        }
       }
      }
     },
     "metadata": {},
     "output_type": "display_data"
    },
    {
     "name": "stderr",
     "output_type": "stream",
     "text": [
      "/var/folders/zw/lhnn73fj2250g9z11h_whq1szkf2pm/T/ipykernel_25540/2289506022.py:3: PerformanceWarning:\n",
      "\n",
      "DataFrame is highly fragmented.  This is usually the result of calling `frame.insert` many times, which has poor performance.  Consider joining all columns at once using pd.concat(axis=1) instead. To get a de-fragmented frame, use `newframe = frame.copy()`\n",
      "\n",
      "/var/folders/zw/lhnn73fj2250g9z11h_whq1szkf2pm/T/ipykernel_25540/2289506022.py:4: PerformanceWarning:\n",
      "\n",
      "DataFrame is highly fragmented.  This is usually the result of calling `frame.insert` many times, which has poor performance.  Consider joining all columns at once using pd.concat(axis=1) instead. To get a de-fragmented frame, use `newframe = frame.copy()`\n",
      "\n",
      "/var/folders/zw/lhnn73fj2250g9z11h_whq1szkf2pm/T/ipykernel_25540/2289506022.py:5: PerformanceWarning:\n",
      "\n",
      "DataFrame is highly fragmented.  This is usually the result of calling `frame.insert` many times, which has poor performance.  Consider joining all columns at once using pd.concat(axis=1) instead. To get a de-fragmented frame, use `newframe = frame.copy()`\n",
      "\n"
     ]
    }
   ],
   "source": [
    "segment = 'segment4'\n",
    "results = figure_positive_negative_savings(segment, community_results)\n",
    "saving_results[f'segment4_{income}_pct_bill_positive_savings_%'] = results[0]*100\n",
    "saving_results[f'segment4_{income}_pct_emission_positive_savings_%'] = results[1]*100\n",
    "saving_results[f'segment4_{income}_pct_energy_positive_savings_%'] = results[2]*100"
   ]
  },
  {
   "cell_type": "markdown",
   "id": "c9484cbf",
   "metadata": {},
   "source": [
    "### Segment 5"
   ]
  },
  {
   "cell_type": "code",
   "execution_count": 54,
   "id": "4f388546",
   "metadata": {},
   "outputs": [
    {
     "data": {
      "application/vnd.plotly.v1+json": {
       "config": {
        "plotlyServerURL": "https://plot.ly"
       },
       "data": [
        {
         "marker": {
          "color": "red"
         },
         "name": "Negative",
         "orientation": "h",
         "text": [
          1,
          1,
          0.6896551724137931,
          0.5284552845528455,
          0.5,
          0.3170731707317073,
          0.23577235772357724,
          0.1951219512195122,
          0.16260162601626016,
          0.14634146341463414,
          0.13821138211382114,
          0.12195121951219512,
          0.11382113821138211,
          0,
          0,
          0
         ],
         "textposition": "inside",
         "texttemplate": "%{text:.0%}",
         "type": "bar",
         "x": [
          1,
          1,
          0.6896551724137931,
          0.5284552845528455,
          0.5,
          0.3170731707317073,
          0.23577235772357724,
          0.1951219512195122,
          0.16260162601626016,
          0.14634146341463414,
          0.13821138211382114,
          0.12195121951219512,
          0.11382113821138211,
          0,
          0,
          0
         ],
         "xaxis": "x",
         "y": [
          "Electric Clothes Dryer",
          "Electric Cooking",
          "Mininum Efficiency Whole Home Electrification",
          "Mininum Efficiency Heat Pump with Electric Heat Backup",
          "Mininum Efficiency Heat Pump with Existing Heat Backup",
          "High Efficiency Heat Pump with Electric Heat Backup",
          "Induction Cooking",
          "High Efficiency Whole Home Electrification",
          "Basic Enclosure + HPWH + High Efficiency HP/Electric Backup",
          "Enhanced Enclosure + HPWH + High Efficiency HP/Electric Backup",
          "Heat Pump Water Heater",
          "Basic Enclosure + High Efficiency Whole Home Electrification",
          "Enhanced Enclosure + High Efficiency Whole Home Electrification",
          "Basic Enclosure",
          "Enhanced Enclosure",
          "Heat Pump Clothes Dryer"
         ],
         "yaxis": "y"
        },
        {
         "marker": {
          "color": "green"
         },
         "name": "Positive",
         "orientation": "h",
         "text": [
          0,
          0,
          0.3103448275862069,
          0.4715447154471545,
          0.5,
          0.6829268292682927,
          0.7642276422764228,
          0.8048780487804879,
          0.8373983739837398,
          0.8536585365853658,
          0.8617886178861789,
          0.8780487804878049,
          0.8861788617886179,
          1,
          1,
          1
         ],
         "textposition": "inside",
         "texttemplate": "%{text:.0%}",
         "type": "bar",
         "x": [
          0,
          0,
          0.3103448275862069,
          0.4715447154471545,
          0.5,
          0.6829268292682927,
          0.7642276422764228,
          0.8048780487804879,
          0.8373983739837398,
          0.8536585365853658,
          0.8617886178861789,
          0.8780487804878049,
          0.8861788617886179,
          1,
          1,
          1
         ],
         "xaxis": "x",
         "y": [
          "Electric Clothes Dryer",
          "Electric Cooking",
          "Mininum Efficiency Whole Home Electrification",
          "Mininum Efficiency Heat Pump with Electric Heat Backup",
          "Mininum Efficiency Heat Pump with Existing Heat Backup",
          "High Efficiency Heat Pump with Electric Heat Backup",
          "Induction Cooking",
          "High Efficiency Whole Home Electrification",
          "Basic Enclosure + HPWH + High Efficiency HP/Electric Backup",
          "Enhanced Enclosure + HPWH + High Efficiency HP/Electric Backup",
          "Heat Pump Water Heater",
          "Basic Enclosure + High Efficiency Whole Home Electrification",
          "Enhanced Enclosure + High Efficiency Whole Home Electrification",
          "Basic Enclosure",
          "Enhanced Enclosure",
          "Heat Pump Clothes Dryer"
         ],
         "yaxis": "y"
        },
        {
         "marker": {
          "color": "red"
         },
         "orientation": "h",
         "showlegend": false,
         "text": [
          0,
          0,
          0,
          0.07317073170731707,
          0.38333333333333336,
          0.008130081300813009,
          0,
          0,
          0,
          0,
          0.08943089430894309,
          0,
          0,
          0,
          0,
          0
         ],
         "textposition": "inside",
         "texttemplate": "%{text:.0%}",
         "type": "bar",
         "x": [
          0,
          0,
          0,
          0.07317073170731707,
          0.38333333333333336,
          0.008130081300813009,
          0,
          0,
          0,
          0,
          0.08943089430894309,
          0,
          0,
          0,
          0,
          0
         ],
         "xaxis": "x2",
         "y": [
          "Electric Clothes Dryer",
          "Electric Cooking",
          "Mininum Efficiency Whole Home Electrification",
          "Mininum Efficiency Heat Pump with Electric Heat Backup",
          "Mininum Efficiency Heat Pump with Existing Heat Backup",
          "High Efficiency Heat Pump with Electric Heat Backup",
          "Induction Cooking",
          "High Efficiency Whole Home Electrification",
          "Basic Enclosure + HPWH + High Efficiency HP/Electric Backup",
          "Enhanced Enclosure + HPWH + High Efficiency HP/Electric Backup",
          "Heat Pump Water Heater",
          "Basic Enclosure + High Efficiency Whole Home Electrification",
          "Enhanced Enclosure + High Efficiency Whole Home Electrification",
          "Basic Enclosure",
          "Enhanced Enclosure",
          "Heat Pump Clothes Dryer"
         ],
         "yaxis": "y2"
        },
        {
         "marker": {
          "color": "green"
         },
         "orientation": "h",
         "showlegend": false,
         "text": [
          1,
          1,
          1,
          0.926829268292683,
          0.6166666666666667,
          0.991869918699187,
          1,
          1,
          1,
          1,
          0.9105691056910569,
          1,
          1,
          1,
          1,
          1
         ],
         "textposition": "inside",
         "texttemplate": "%{text:.0%}",
         "type": "bar",
         "x": [
          1,
          1,
          1,
          0.926829268292683,
          0.6166666666666667,
          0.991869918699187,
          1,
          1,
          1,
          1,
          0.9105691056910569,
          1,
          1,
          1,
          1,
          1
         ],
         "xaxis": "x2",
         "y": [
          "Electric Clothes Dryer",
          "Electric Cooking",
          "Mininum Efficiency Whole Home Electrification",
          "Mininum Efficiency Heat Pump with Electric Heat Backup",
          "Mininum Efficiency Heat Pump with Existing Heat Backup",
          "High Efficiency Heat Pump with Electric Heat Backup",
          "Induction Cooking",
          "High Efficiency Whole Home Electrification",
          "Basic Enclosure + HPWH + High Efficiency HP/Electric Backup",
          "Enhanced Enclosure + HPWH + High Efficiency HP/Electric Backup",
          "Heat Pump Water Heater",
          "Basic Enclosure + High Efficiency Whole Home Electrification",
          "Enhanced Enclosure + High Efficiency Whole Home Electrification",
          "Basic Enclosure",
          "Enhanced Enclosure",
          "Heat Pump Clothes Dryer"
         ],
         "yaxis": "y2"
        },
        {
         "marker": {
          "color": "red"
         },
         "orientation": "h",
         "showlegend": false,
         "text": [
          0,
          0,
          0,
          0.08130081300813008,
          0.39166666666666666,
          0.008130081300813009,
          0,
          0,
          0,
          0,
          0.04065040650406504,
          0,
          0,
          0,
          0,
          0
         ],
         "textposition": "inside",
         "texttemplate": "%{text:.0%}",
         "type": "bar",
         "x": [
          0,
          0,
          0,
          0.08130081300813008,
          0.39166666666666666,
          0.008130081300813009,
          0,
          0,
          0,
          0,
          0.04065040650406504,
          0,
          0,
          0,
          0,
          0
         ],
         "xaxis": "x3",
         "y": [
          "Electric Clothes Dryer",
          "Electric Cooking",
          "Mininum Efficiency Whole Home Electrification",
          "Mininum Efficiency Heat Pump with Electric Heat Backup",
          "Mininum Efficiency Heat Pump with Existing Heat Backup",
          "High Efficiency Heat Pump with Electric Heat Backup",
          "Induction Cooking",
          "High Efficiency Whole Home Electrification",
          "Basic Enclosure + HPWH + High Efficiency HP/Electric Backup",
          "Enhanced Enclosure + HPWH + High Efficiency HP/Electric Backup",
          "Heat Pump Water Heater",
          "Basic Enclosure + High Efficiency Whole Home Electrification",
          "Enhanced Enclosure + High Efficiency Whole Home Electrification",
          "Basic Enclosure",
          "Enhanced Enclosure",
          "Heat Pump Clothes Dryer"
         ],
         "yaxis": "y3"
        },
        {
         "marker": {
          "color": "green"
         },
         "orientation": "h",
         "showlegend": false,
         "text": [
          1,
          1,
          1,
          0.9186991869918699,
          0.6083333333333333,
          0.991869918699187,
          1,
          1,
          1,
          1,
          0.959349593495935,
          1,
          1,
          1,
          1,
          1
         ],
         "textposition": "inside",
         "texttemplate": "%{text:.0%}",
         "type": "bar",
         "x": [
          1,
          1,
          1,
          0.9186991869918699,
          0.6083333333333333,
          0.991869918699187,
          1,
          1,
          1,
          1,
          0.959349593495935,
          1,
          1,
          1,
          1,
          1
         ],
         "xaxis": "x3",
         "y": [
          "Electric Clothes Dryer",
          "Electric Cooking",
          "Mininum Efficiency Whole Home Electrification",
          "Mininum Efficiency Heat Pump with Electric Heat Backup",
          "Mininum Efficiency Heat Pump with Existing Heat Backup",
          "High Efficiency Heat Pump with Electric Heat Backup",
          "Induction Cooking",
          "High Efficiency Whole Home Electrification",
          "Basic Enclosure + HPWH + High Efficiency HP/Electric Backup",
          "Enhanced Enclosure + HPWH + High Efficiency HP/Electric Backup",
          "Heat Pump Water Heater",
          "Basic Enclosure + High Efficiency Whole Home Electrification",
          "Enhanced Enclosure + High Efficiency Whole Home Electrification",
          "Basic Enclosure",
          "Enhanced Enclosure",
          "Heat Pump Clothes Dryer"
         ],
         "yaxis": "y3"
        }
       ],
       "layout": {
        "autosize": false,
        "barmode": "relative",
        "font": {
         "size": 10
        },
        "height": 500,
        "template": {
         "data": {
          "bar": [
           {
            "error_x": {
             "color": "#2a3f5f"
            },
            "error_y": {
             "color": "#2a3f5f"
            },
            "marker": {
             "line": {
              "color": "#E5ECF6",
              "width": 0.5
             },
             "pattern": {
              "fillmode": "overlay",
              "size": 10,
              "solidity": 0.2
             }
            },
            "type": "bar"
           }
          ],
          "barpolar": [
           {
            "marker": {
             "line": {
              "color": "#E5ECF6",
              "width": 0.5
             },
             "pattern": {
              "fillmode": "overlay",
              "size": 10,
              "solidity": 0.2
             }
            },
            "type": "barpolar"
           }
          ],
          "carpet": [
           {
            "aaxis": {
             "endlinecolor": "#2a3f5f",
             "gridcolor": "white",
             "linecolor": "white",
             "minorgridcolor": "white",
             "startlinecolor": "#2a3f5f"
            },
            "baxis": {
             "endlinecolor": "#2a3f5f",
             "gridcolor": "white",
             "linecolor": "white",
             "minorgridcolor": "white",
             "startlinecolor": "#2a3f5f"
            },
            "type": "carpet"
           }
          ],
          "choropleth": [
           {
            "colorbar": {
             "outlinewidth": 0,
             "ticks": ""
            },
            "type": "choropleth"
           }
          ],
          "contour": [
           {
            "colorbar": {
             "outlinewidth": 0,
             "ticks": ""
            },
            "colorscale": [
             [
              0,
              "#0d0887"
             ],
             [
              0.1111111111111111,
              "#46039f"
             ],
             [
              0.2222222222222222,
              "#7201a8"
             ],
             [
              0.3333333333333333,
              "#9c179e"
             ],
             [
              0.4444444444444444,
              "#bd3786"
             ],
             [
              0.5555555555555556,
              "#d8576b"
             ],
             [
              0.6666666666666666,
              "#ed7953"
             ],
             [
              0.7777777777777778,
              "#fb9f3a"
             ],
             [
              0.8888888888888888,
              "#fdca26"
             ],
             [
              1,
              "#f0f921"
             ]
            ],
            "type": "contour"
           }
          ],
          "contourcarpet": [
           {
            "colorbar": {
             "outlinewidth": 0,
             "ticks": ""
            },
            "type": "contourcarpet"
           }
          ],
          "heatmap": [
           {
            "colorbar": {
             "outlinewidth": 0,
             "ticks": ""
            },
            "colorscale": [
             [
              0,
              "#0d0887"
             ],
             [
              0.1111111111111111,
              "#46039f"
             ],
             [
              0.2222222222222222,
              "#7201a8"
             ],
             [
              0.3333333333333333,
              "#9c179e"
             ],
             [
              0.4444444444444444,
              "#bd3786"
             ],
             [
              0.5555555555555556,
              "#d8576b"
             ],
             [
              0.6666666666666666,
              "#ed7953"
             ],
             [
              0.7777777777777778,
              "#fb9f3a"
             ],
             [
              0.8888888888888888,
              "#fdca26"
             ],
             [
              1,
              "#f0f921"
             ]
            ],
            "type": "heatmap"
           }
          ],
          "heatmapgl": [
           {
            "colorbar": {
             "outlinewidth": 0,
             "ticks": ""
            },
            "colorscale": [
             [
              0,
              "#0d0887"
             ],
             [
              0.1111111111111111,
              "#46039f"
             ],
             [
              0.2222222222222222,
              "#7201a8"
             ],
             [
              0.3333333333333333,
              "#9c179e"
             ],
             [
              0.4444444444444444,
              "#bd3786"
             ],
             [
              0.5555555555555556,
              "#d8576b"
             ],
             [
              0.6666666666666666,
              "#ed7953"
             ],
             [
              0.7777777777777778,
              "#fb9f3a"
             ],
             [
              0.8888888888888888,
              "#fdca26"
             ],
             [
              1,
              "#f0f921"
             ]
            ],
            "type": "heatmapgl"
           }
          ],
          "histogram": [
           {
            "marker": {
             "pattern": {
              "fillmode": "overlay",
              "size": 10,
              "solidity": 0.2
             }
            },
            "type": "histogram"
           }
          ],
          "histogram2d": [
           {
            "colorbar": {
             "outlinewidth": 0,
             "ticks": ""
            },
            "colorscale": [
             [
              0,
              "#0d0887"
             ],
             [
              0.1111111111111111,
              "#46039f"
             ],
             [
              0.2222222222222222,
              "#7201a8"
             ],
             [
              0.3333333333333333,
              "#9c179e"
             ],
             [
              0.4444444444444444,
              "#bd3786"
             ],
             [
              0.5555555555555556,
              "#d8576b"
             ],
             [
              0.6666666666666666,
              "#ed7953"
             ],
             [
              0.7777777777777778,
              "#fb9f3a"
             ],
             [
              0.8888888888888888,
              "#fdca26"
             ],
             [
              1,
              "#f0f921"
             ]
            ],
            "type": "histogram2d"
           }
          ],
          "histogram2dcontour": [
           {
            "colorbar": {
             "outlinewidth": 0,
             "ticks": ""
            },
            "colorscale": [
             [
              0,
              "#0d0887"
             ],
             [
              0.1111111111111111,
              "#46039f"
             ],
             [
              0.2222222222222222,
              "#7201a8"
             ],
             [
              0.3333333333333333,
              "#9c179e"
             ],
             [
              0.4444444444444444,
              "#bd3786"
             ],
             [
              0.5555555555555556,
              "#d8576b"
             ],
             [
              0.6666666666666666,
              "#ed7953"
             ],
             [
              0.7777777777777778,
              "#fb9f3a"
             ],
             [
              0.8888888888888888,
              "#fdca26"
             ],
             [
              1,
              "#f0f921"
             ]
            ],
            "type": "histogram2dcontour"
           }
          ],
          "mesh3d": [
           {
            "colorbar": {
             "outlinewidth": 0,
             "ticks": ""
            },
            "type": "mesh3d"
           }
          ],
          "parcoords": [
           {
            "line": {
             "colorbar": {
              "outlinewidth": 0,
              "ticks": ""
             }
            },
            "type": "parcoords"
           }
          ],
          "pie": [
           {
            "automargin": true,
            "type": "pie"
           }
          ],
          "scatter": [
           {
            "fillpattern": {
             "fillmode": "overlay",
             "size": 10,
             "solidity": 0.2
            },
            "type": "scatter"
           }
          ],
          "scatter3d": [
           {
            "line": {
             "colorbar": {
              "outlinewidth": 0,
              "ticks": ""
             }
            },
            "marker": {
             "colorbar": {
              "outlinewidth": 0,
              "ticks": ""
             }
            },
            "type": "scatter3d"
           }
          ],
          "scattercarpet": [
           {
            "marker": {
             "colorbar": {
              "outlinewidth": 0,
              "ticks": ""
             }
            },
            "type": "scattercarpet"
           }
          ],
          "scattergeo": [
           {
            "marker": {
             "colorbar": {
              "outlinewidth": 0,
              "ticks": ""
             }
            },
            "type": "scattergeo"
           }
          ],
          "scattergl": [
           {
            "marker": {
             "colorbar": {
              "outlinewidth": 0,
              "ticks": ""
             }
            },
            "type": "scattergl"
           }
          ],
          "scattermapbox": [
           {
            "marker": {
             "colorbar": {
              "outlinewidth": 0,
              "ticks": ""
             }
            },
            "type": "scattermapbox"
           }
          ],
          "scatterpolar": [
           {
            "marker": {
             "colorbar": {
              "outlinewidth": 0,
              "ticks": ""
             }
            },
            "type": "scatterpolar"
           }
          ],
          "scatterpolargl": [
           {
            "marker": {
             "colorbar": {
              "outlinewidth": 0,
              "ticks": ""
             }
            },
            "type": "scatterpolargl"
           }
          ],
          "scatterternary": [
           {
            "marker": {
             "colorbar": {
              "outlinewidth": 0,
              "ticks": ""
             }
            },
            "type": "scatterternary"
           }
          ],
          "surface": [
           {
            "colorbar": {
             "outlinewidth": 0,
             "ticks": ""
            },
            "colorscale": [
             [
              0,
              "#0d0887"
             ],
             [
              0.1111111111111111,
              "#46039f"
             ],
             [
              0.2222222222222222,
              "#7201a8"
             ],
             [
              0.3333333333333333,
              "#9c179e"
             ],
             [
              0.4444444444444444,
              "#bd3786"
             ],
             [
              0.5555555555555556,
              "#d8576b"
             ],
             [
              0.6666666666666666,
              "#ed7953"
             ],
             [
              0.7777777777777778,
              "#fb9f3a"
             ],
             [
              0.8888888888888888,
              "#fdca26"
             ],
             [
              1,
              "#f0f921"
             ]
            ],
            "type": "surface"
           }
          ],
          "table": [
           {
            "cells": {
             "fill": {
              "color": "#EBF0F8"
             },
             "line": {
              "color": "white"
             }
            },
            "header": {
             "fill": {
              "color": "#C8D4E3"
             },
             "line": {
              "color": "white"
             }
            },
            "type": "table"
           }
          ]
         },
         "layout": {
          "annotationdefaults": {
           "arrowcolor": "#2a3f5f",
           "arrowhead": 0,
           "arrowwidth": 1
          },
          "autotypenumbers": "strict",
          "coloraxis": {
           "colorbar": {
            "outlinewidth": 0,
            "ticks": ""
           }
          },
          "colorscale": {
           "diverging": [
            [
             0,
             "#8e0152"
            ],
            [
             0.1,
             "#c51b7d"
            ],
            [
             0.2,
             "#de77ae"
            ],
            [
             0.3,
             "#f1b6da"
            ],
            [
             0.4,
             "#fde0ef"
            ],
            [
             0.5,
             "#f7f7f7"
            ],
            [
             0.6,
             "#e6f5d0"
            ],
            [
             0.7,
             "#b8e186"
            ],
            [
             0.8,
             "#7fbc41"
            ],
            [
             0.9,
             "#4d9221"
            ],
            [
             1,
             "#276419"
            ]
           ],
           "sequential": [
            [
             0,
             "#0d0887"
            ],
            [
             0.1111111111111111,
             "#46039f"
            ],
            [
             0.2222222222222222,
             "#7201a8"
            ],
            [
             0.3333333333333333,
             "#9c179e"
            ],
            [
             0.4444444444444444,
             "#bd3786"
            ],
            [
             0.5555555555555556,
             "#d8576b"
            ],
            [
             0.6666666666666666,
             "#ed7953"
            ],
            [
             0.7777777777777778,
             "#fb9f3a"
            ],
            [
             0.8888888888888888,
             "#fdca26"
            ],
            [
             1,
             "#f0f921"
            ]
           ],
           "sequentialminus": [
            [
             0,
             "#0d0887"
            ],
            [
             0.1111111111111111,
             "#46039f"
            ],
            [
             0.2222222222222222,
             "#7201a8"
            ],
            [
             0.3333333333333333,
             "#9c179e"
            ],
            [
             0.4444444444444444,
             "#bd3786"
            ],
            [
             0.5555555555555556,
             "#d8576b"
            ],
            [
             0.6666666666666666,
             "#ed7953"
            ],
            [
             0.7777777777777778,
             "#fb9f3a"
            ],
            [
             0.8888888888888888,
             "#fdca26"
            ],
            [
             1,
             "#f0f921"
            ]
           ]
          },
          "colorway": [
           "#636efa",
           "#EF553B",
           "#00cc96",
           "#ab63fa",
           "#FFA15A",
           "#19d3f3",
           "#FF6692",
           "#B6E880",
           "#FF97FF",
           "#FECB52"
          ],
          "font": {
           "color": "#2a3f5f"
          },
          "geo": {
           "bgcolor": "white",
           "lakecolor": "white",
           "landcolor": "#E5ECF6",
           "showlakes": true,
           "showland": true,
           "subunitcolor": "white"
          },
          "hoverlabel": {
           "align": "left"
          },
          "hovermode": "closest",
          "mapbox": {
           "style": "light"
          },
          "paper_bgcolor": "white",
          "plot_bgcolor": "#E5ECF6",
          "polar": {
           "angularaxis": {
            "gridcolor": "white",
            "linecolor": "white",
            "ticks": ""
           },
           "bgcolor": "#E5ECF6",
           "radialaxis": {
            "gridcolor": "white",
            "linecolor": "white",
            "ticks": ""
           }
          },
          "scene": {
           "xaxis": {
            "backgroundcolor": "#E5ECF6",
            "gridcolor": "white",
            "gridwidth": 2,
            "linecolor": "white",
            "showbackground": true,
            "ticks": "",
            "zerolinecolor": "white"
           },
           "yaxis": {
            "backgroundcolor": "#E5ECF6",
            "gridcolor": "white",
            "gridwidth": 2,
            "linecolor": "white",
            "showbackground": true,
            "ticks": "",
            "zerolinecolor": "white"
           },
           "zaxis": {
            "backgroundcolor": "#E5ECF6",
            "gridcolor": "white",
            "gridwidth": 2,
            "linecolor": "white",
            "showbackground": true,
            "ticks": "",
            "zerolinecolor": "white"
           }
          },
          "shapedefaults": {
           "line": {
            "color": "#2a3f5f"
           }
          },
          "ternary": {
           "aaxis": {
            "gridcolor": "white",
            "linecolor": "white",
            "ticks": ""
           },
           "baxis": {
            "gridcolor": "white",
            "linecolor": "white",
            "ticks": ""
           },
           "bgcolor": "#E5ECF6",
           "caxis": {
            "gridcolor": "white",
            "linecolor": "white",
            "ticks": ""
           }
          },
          "title": {
           "x": 0.05
          },
          "xaxis": {
           "automargin": true,
           "gridcolor": "white",
           "linecolor": "white",
           "ticks": "",
           "title": {
            "standoff": 15
           },
           "zerolinecolor": "white",
           "zerolinewidth": 2
          },
          "yaxis": {
           "automargin": true,
           "gridcolor": "white",
           "linecolor": "white",
           "ticks": "",
           "title": {
            "standoff": 15
           },
           "zerolinecolor": "white",
           "zerolinewidth": 2
          }
         }
        },
        "title": {
         "text": "Percentage of Household in Positive and Negative Savings"
        },
        "width": 1000,
        "xaxis": {
         "anchor": "y",
         "domain": [
          0,
          0.2888888888888889
         ],
         "tickformat": ",.0%",
         "title": {
          "text": "Bill"
         },
         "visible": true
        },
        "xaxis2": {
         "anchor": "y2",
         "domain": [
          0.35555555555555557,
          0.6444444444444445
         ],
         "tickformat": ",.0%",
         "title": {
          "text": "Emission"
         },
         "visible": true
        },
        "xaxis3": {
         "anchor": "y3",
         "domain": [
          0.7111111111111111,
          1
         ],
         "tickformat": ",.0%",
         "title": {
          "text": "Total Energy"
         },
         "visible": true
        },
        "yaxis": {
         "anchor": "x",
         "domain": [
          0,
          1
         ],
         "visible": true
        },
        "yaxis2": {
         "anchor": "x2",
         "domain": [
          0,
          1
         ],
         "visible": false
        },
        "yaxis3": {
         "anchor": "x3",
         "domain": [
          0,
          1
         ],
         "visible": false
        }
       }
      }
     },
     "metadata": {},
     "output_type": "display_data"
    },
    {
     "name": "stderr",
     "output_type": "stream",
     "text": [
      "/var/folders/zw/lhnn73fj2250g9z11h_whq1szkf2pm/T/ipykernel_25540/1874328925.py:3: PerformanceWarning:\n",
      "\n",
      "DataFrame is highly fragmented.  This is usually the result of calling `frame.insert` many times, which has poor performance.  Consider joining all columns at once using pd.concat(axis=1) instead. To get a de-fragmented frame, use `newframe = frame.copy()`\n",
      "\n",
      "/var/folders/zw/lhnn73fj2250g9z11h_whq1szkf2pm/T/ipykernel_25540/1874328925.py:4: PerformanceWarning:\n",
      "\n",
      "DataFrame is highly fragmented.  This is usually the result of calling `frame.insert` many times, which has poor performance.  Consider joining all columns at once using pd.concat(axis=1) instead. To get a de-fragmented frame, use `newframe = frame.copy()`\n",
      "\n",
      "/var/folders/zw/lhnn73fj2250g9z11h_whq1szkf2pm/T/ipykernel_25540/1874328925.py:5: PerformanceWarning:\n",
      "\n",
      "DataFrame is highly fragmented.  This is usually the result of calling `frame.insert` many times, which has poor performance.  Consider joining all columns at once using pd.concat(axis=1) instead. To get a de-fragmented frame, use `newframe = frame.copy()`\n",
      "\n"
     ]
    }
   ],
   "source": [
    "segment = 'segment5'\n",
    "results = figure_positive_negative_savings(segment, community_results)\n",
    "saving_results[f'segment5_{income}_pct_bill_positive_savings_%'] = results[0]*100\n",
    "saving_results[f'segment5_{income}_pct_emission_positive_savings_%'] = results[1]*100\n",
    "saving_results[f'segment5_{income}_pct_energy_positive_savings_%'] = results[2]*100"
   ]
  },
  {
   "cell_type": "markdown",
   "id": "45f2fa39",
   "metadata": {},
   "source": [
    "## 3.6. Average Energy Burden (%) Before and after Upgrade"
   ]
  },
  {
   "cell_type": "code",
   "execution_count": 55,
   "id": "9b9fbe35",
   "metadata": {},
   "outputs": [
    {
     "name": "stderr",
     "output_type": "stream",
     "text": [
      "/var/folders/zw/lhnn73fj2250g9z11h_whq1szkf2pm/T/ipykernel_25540/2591935474.py:4: SettingWithCopyWarning:\n",
      "\n",
      "\n",
      "A value is trying to be set on a copy of a slice from a DataFrame\n",
      "\n",
      "See the caveats in the documentation: https://pandas.pydata.org/pandas-docs/stable/user_guide/indexing.html#returning-a-view-versus-a-copy\n",
      "\n",
      "/var/folders/zw/lhnn73fj2250g9z11h_whq1szkf2pm/T/ipykernel_25540/2591935474.py:5: SettingWithCopyWarning:\n",
      "\n",
      "\n",
      "A value is trying to be set on a copy of a slice from a DataFrame\n",
      "\n",
      "See the caveats in the documentation: https://pandas.pydata.org/pandas-docs/stable/user_guide/indexing.html#returning-a-view-versus-a-copy\n",
      "\n",
      "/var/folders/zw/lhnn73fj2250g9z11h_whq1szkf2pm/T/ipykernel_25540/2591935474.py:6: SettingWithCopyWarning:\n",
      "\n",
      "\n",
      "A value is trying to be set on a copy of a slice from a DataFrame.\n",
      "Try using .loc[row_indexer,col_indexer] = value instead\n",
      "\n",
      "See the caveats in the documentation: https://pandas.pydata.org/pandas-docs/stable/user_guide/indexing.html#returning-a-view-versus-a-copy\n",
      "\n",
      "/var/folders/zw/lhnn73fj2250g9z11h_whq1szkf2pm/T/ipykernel_25540/2591935474.py:7: SettingWithCopyWarning:\n",
      "\n",
      "\n",
      "A value is trying to be set on a copy of a slice from a DataFrame.\n",
      "Try using .loc[row_indexer,col_indexer] = value instead\n",
      "\n",
      "See the caveats in the documentation: https://pandas.pydata.org/pandas-docs/stable/user_guide/indexing.html#returning-a-view-versus-a-copy\n",
      "\n"
     ]
    },
    {
     "name": "stdout",
     "output_type": "stream",
     "text": [
      "energy burden (%) before and after upgrade\n",
      "segment1\n"
     ]
    },
    {
     "data": {
      "text/html": [
       "<div>\n",
       "<style scoped>\n",
       "    .dataframe tbody tr th:only-of-type {\n",
       "        vertical-align: middle;\n",
       "    }\n",
       "\n",
       "    .dataframe tbody tr th {\n",
       "        vertical-align: top;\n",
       "    }\n",
       "\n",
       "    .dataframe thead th {\n",
       "        text-align: right;\n",
       "    }\n",
       "</style>\n",
       "<table border=\"1\" class=\"dataframe\">\n",
       "  <thead>\n",
       "    <tr style=\"text-align: right;\">\n",
       "      <th></th>\n",
       "      <th>before</th>\n",
       "      <th>after</th>\n",
       "    </tr>\n",
       "    <tr>\n",
       "      <th>upgrade_name</th>\n",
       "      <th></th>\n",
       "      <th></th>\n",
       "    </tr>\n",
       "  </thead>\n",
       "  <tbody>\n",
       "    <tr>\n",
       "      <th>Enhanced Enclosure</th>\n",
       "      <td>18.1</td>\n",
       "      <td>13.9</td>\n",
       "    </tr>\n",
       "    <tr>\n",
       "      <th>Basic Enclosure</th>\n",
       "      <td>18.1</td>\n",
       "      <td>14.2</td>\n",
       "    </tr>\n",
       "    <tr>\n",
       "      <th>Basic Enclosure + High Efficiency Whole Home Electrification</th>\n",
       "      <td>18.1</td>\n",
       "      <td>17.8</td>\n",
       "    </tr>\n",
       "    <tr>\n",
       "      <th>Enhanced Enclosure + High Efficiency Whole Home Electrification</th>\n",
       "      <td>18.1</td>\n",
       "      <td>17.8</td>\n",
       "    </tr>\n",
       "    <tr>\n",
       "      <th>Heat Pump Water Heater</th>\n",
       "      <td>18.1</td>\n",
       "      <td>17.8</td>\n",
       "    </tr>\n",
       "    <tr>\n",
       "      <th>Heat Pump Clothes Dryer</th>\n",
       "      <td>18.1</td>\n",
       "      <td>17.9</td>\n",
       "    </tr>\n",
       "    <tr>\n",
       "      <th>Enhanced Enclosure + HPWH + High Efficiency HP/Electric Backup</th>\n",
       "      <td>18.1</td>\n",
       "      <td>18.0</td>\n",
       "    </tr>\n",
       "    <tr>\n",
       "      <th>Basic Enclosure + HPWH + High Efficiency HP/Electric Backup</th>\n",
       "      <td>18.1</td>\n",
       "      <td>18.0</td>\n",
       "    </tr>\n",
       "    <tr>\n",
       "      <th>Induction Cooking</th>\n",
       "      <td>18.1</td>\n",
       "      <td>18.1</td>\n",
       "    </tr>\n",
       "    <tr>\n",
       "      <th>Electric Cooking</th>\n",
       "      <td>10.0</td>\n",
       "      <td>10.1</td>\n",
       "    </tr>\n",
       "    <tr>\n",
       "      <th>Electric Clothes Dryer</th>\n",
       "      <td>4.9</td>\n",
       "      <td>5.0</td>\n",
       "    </tr>\n",
       "    <tr>\n",
       "      <th>Mininum Efficiency Heat Pump with Existing Heat Backup</th>\n",
       "      <td>18.1</td>\n",
       "      <td>18.9</td>\n",
       "    </tr>\n",
       "    <tr>\n",
       "      <th>High Efficiency Whole Home Electrification</th>\n",
       "      <td>18.1</td>\n",
       "      <td>23.4</td>\n",
       "    </tr>\n",
       "    <tr>\n",
       "      <th>High Efficiency Heat Pump with Electric Heat Backup</th>\n",
       "      <td>18.1</td>\n",
       "      <td>24.8</td>\n",
       "    </tr>\n",
       "    <tr>\n",
       "      <th>Mininum Efficiency Whole Home Electrification</th>\n",
       "      <td>18.1</td>\n",
       "      <td>28.6</td>\n",
       "    </tr>\n",
       "    <tr>\n",
       "      <th>Mininum Efficiency Heat Pump with Electric Heat Backup</th>\n",
       "      <td>18.1</td>\n",
       "      <td>29.5</td>\n",
       "    </tr>\n",
       "  </tbody>\n",
       "</table>\n",
       "</div>"
      ],
      "text/plain": [
       "                                                    before  after\n",
       "upgrade_name                                                     \n",
       "Enhanced Enclosure                                    18.1   13.9\n",
       "Basic Enclosure                                       18.1   14.2\n",
       "Basic Enclosure + High Efficiency Whole Home El...    18.1   17.8\n",
       "Enhanced Enclosure + High Efficiency Whole Home...    18.1   17.8\n",
       "Heat Pump Water Heater                                18.1   17.8\n",
       "Heat Pump Clothes Dryer                               18.1   17.9\n",
       "Enhanced Enclosure + HPWH + High Efficiency HP/...    18.1   18.0\n",
       "Basic Enclosure + HPWH + High Efficiency HP/Ele...    18.1   18.0\n",
       "Induction Cooking                                     18.1   18.1\n",
       "Electric Cooking                                      10.0   10.1\n",
       "Electric Clothes Dryer                                 4.9    5.0\n",
       "Mininum Efficiency Heat Pump with Existing Heat...    18.1   18.9\n",
       "High Efficiency Whole Home Electrification            18.1   23.4\n",
       "High Efficiency Heat Pump with Electric Heat Ba...    18.1   24.8\n",
       "Mininum Efficiency Whole Home Electrification         18.1   28.6\n",
       "Mininum Efficiency Heat Pump with Electric Heat...    18.1   29.5"
      ]
     },
     "metadata": {},
     "output_type": "display_data"
    },
    {
     "name": "stdout",
     "output_type": "stream",
     "text": [
      "segment2\n"
     ]
    },
    {
     "data": {
      "text/html": [
       "<div>\n",
       "<style scoped>\n",
       "    .dataframe tbody tr th:only-of-type {\n",
       "        vertical-align: middle;\n",
       "    }\n",
       "\n",
       "    .dataframe tbody tr th {\n",
       "        vertical-align: top;\n",
       "    }\n",
       "\n",
       "    .dataframe thead th {\n",
       "        text-align: right;\n",
       "    }\n",
       "</style>\n",
       "<table border=\"1\" class=\"dataframe\">\n",
       "  <thead>\n",
       "    <tr style=\"text-align: right;\">\n",
       "      <th></th>\n",
       "      <th>before</th>\n",
       "      <th>after</th>\n",
       "    </tr>\n",
       "    <tr>\n",
       "      <th>upgrade_name</th>\n",
       "      <th></th>\n",
       "      <th></th>\n",
       "    </tr>\n",
       "  </thead>\n",
       "  <tbody>\n",
       "    <tr>\n",
       "      <th>Enhanced Enclosure + High Efficiency Whole Home Electrification</th>\n",
       "      <td>15.4</td>\n",
       "      <td>10.1</td>\n",
       "    </tr>\n",
       "    <tr>\n",
       "      <th>Enhanced Enclosure + HPWH + High Efficiency HP/Electric Backup</th>\n",
       "      <td>15.4</td>\n",
       "      <td>10.2</td>\n",
       "    </tr>\n",
       "    <tr>\n",
       "      <th>Basic Enclosure + High Efficiency Whole Home Electrification</th>\n",
       "      <td>15.4</td>\n",
       "      <td>10.6</td>\n",
       "    </tr>\n",
       "    <tr>\n",
       "      <th>Basic Enclosure + HPWH + High Efficiency HP/Electric Backup</th>\n",
       "      <td>15.4</td>\n",
       "      <td>10.7</td>\n",
       "    </tr>\n",
       "    <tr>\n",
       "      <th>Enhanced Enclosure</th>\n",
       "      <td>15.4</td>\n",
       "      <td>12.8</td>\n",
       "    </tr>\n",
       "    <tr>\n",
       "      <th>High Efficiency Whole Home Electrification</th>\n",
       "      <td>15.4</td>\n",
       "      <td>12.9</td>\n",
       "    </tr>\n",
       "    <tr>\n",
       "      <th>Basic Enclosure</th>\n",
       "      <td>15.9</td>\n",
       "      <td>13.9</td>\n",
       "    </tr>\n",
       "    <tr>\n",
       "      <th>High Efficiency Heat Pump with Electric Heat Backup</th>\n",
       "      <td>15.4</td>\n",
       "      <td>13.9</td>\n",
       "    </tr>\n",
       "    <tr>\n",
       "      <th>Mininum Efficiency Heat Pump with Existing Heat Backup</th>\n",
       "      <td>14.8</td>\n",
       "      <td>14.2</td>\n",
       "    </tr>\n",
       "    <tr>\n",
       "      <th>Heat Pump Water Heater</th>\n",
       "      <td>15.4</td>\n",
       "      <td>15.0</td>\n",
       "    </tr>\n",
       "    <tr>\n",
       "      <th>Heat Pump Clothes Dryer</th>\n",
       "      <td>15.4</td>\n",
       "      <td>15.3</td>\n",
       "    </tr>\n",
       "    <tr>\n",
       "      <th>Induction Cooking</th>\n",
       "      <td>15.4</td>\n",
       "      <td>15.4</td>\n",
       "    </tr>\n",
       "    <tr>\n",
       "      <th>Electric Cooking</th>\n",
       "      <td>11.9</td>\n",
       "      <td>11.9</td>\n",
       "    </tr>\n",
       "    <tr>\n",
       "      <th>Electric Clothes Dryer</th>\n",
       "      <td>6.2</td>\n",
       "      <td>6.3</td>\n",
       "    </tr>\n",
       "    <tr>\n",
       "      <th>Mininum Efficiency Heat Pump with Electric Heat Backup</th>\n",
       "      <td>15.4</td>\n",
       "      <td>19.1</td>\n",
       "    </tr>\n",
       "    <tr>\n",
       "      <th>Mininum Efficiency Whole Home Electrification</th>\n",
       "      <td>15.4</td>\n",
       "      <td>19.3</td>\n",
       "    </tr>\n",
       "  </tbody>\n",
       "</table>\n",
       "</div>"
      ],
      "text/plain": [
       "                                                    before  after\n",
       "upgrade_name                                                     \n",
       "Enhanced Enclosure + High Efficiency Whole Home...    15.4   10.1\n",
       "Enhanced Enclosure + HPWH + High Efficiency HP/...    15.4   10.2\n",
       "Basic Enclosure + High Efficiency Whole Home El...    15.4   10.6\n",
       "Basic Enclosure + HPWH + High Efficiency HP/Ele...    15.4   10.7\n",
       "Enhanced Enclosure                                    15.4   12.8\n",
       "High Efficiency Whole Home Electrification            15.4   12.9\n",
       "Basic Enclosure                                       15.9   13.9\n",
       "High Efficiency Heat Pump with Electric Heat Ba...    15.4   13.9\n",
       "Mininum Efficiency Heat Pump with Existing Heat...    14.8   14.2\n",
       "Heat Pump Water Heater                                15.4   15.0\n",
       "Heat Pump Clothes Dryer                               15.4   15.3\n",
       "Induction Cooking                                     15.4   15.4\n",
       "Electric Cooking                                      11.9   11.9\n",
       "Electric Clothes Dryer                                 6.2    6.3\n",
       "Mininum Efficiency Heat Pump with Electric Heat...    15.4   19.1\n",
       "Mininum Efficiency Whole Home Electrification         15.4   19.3"
      ]
     },
     "metadata": {},
     "output_type": "display_data"
    },
    {
     "name": "stdout",
     "output_type": "stream",
     "text": [
      "segment3\n"
     ]
    },
    {
     "data": {
      "text/html": [
       "<div>\n",
       "<style scoped>\n",
       "    .dataframe tbody tr th:only-of-type {\n",
       "        vertical-align: middle;\n",
       "    }\n",
       "\n",
       "    .dataframe tbody tr th {\n",
       "        vertical-align: top;\n",
       "    }\n",
       "\n",
       "    .dataframe thead th {\n",
       "        text-align: right;\n",
       "    }\n",
       "</style>\n",
       "<table border=\"1\" class=\"dataframe\">\n",
       "  <thead>\n",
       "    <tr style=\"text-align: right;\">\n",
       "      <th></th>\n",
       "      <th>before</th>\n",
       "      <th>after</th>\n",
       "    </tr>\n",
       "    <tr>\n",
       "      <th>upgrade_name</th>\n",
       "      <th></th>\n",
       "      <th></th>\n",
       "    </tr>\n",
       "  </thead>\n",
       "  <tbody>\n",
       "    <tr>\n",
       "      <th>Enhanced Enclosure + High Efficiency Whole Home Electrification</th>\n",
       "      <td>8.8</td>\n",
       "      <td>5.2</td>\n",
       "    </tr>\n",
       "    <tr>\n",
       "      <th>Enhanced Enclosure + HPWH + High Efficiency HP/Electric Backup</th>\n",
       "      <td>8.8</td>\n",
       "      <td>5.3</td>\n",
       "    </tr>\n",
       "    <tr>\n",
       "      <th>Basic Enclosure + High Efficiency Whole Home Electrification</th>\n",
       "      <td>8.8</td>\n",
       "      <td>5.9</td>\n",
       "    </tr>\n",
       "    <tr>\n",
       "      <th>Basic Enclosure + HPWH + High Efficiency HP/Electric Backup</th>\n",
       "      <td>8.8</td>\n",
       "      <td>6.0</td>\n",
       "    </tr>\n",
       "    <tr>\n",
       "      <th>High Efficiency Whole Home Electrification</th>\n",
       "      <td>8.8</td>\n",
       "      <td>6.9</td>\n",
       "    </tr>\n",
       "    <tr>\n",
       "      <th>Enhanced Enclosure</th>\n",
       "      <td>8.8</td>\n",
       "      <td>7.4</td>\n",
       "    </tr>\n",
       "    <tr>\n",
       "      <th>High Efficiency Heat Pump with Electric Heat Backup</th>\n",
       "      <td>8.8</td>\n",
       "      <td>7.8</td>\n",
       "    </tr>\n",
       "    <tr>\n",
       "      <th>Basic Enclosure</th>\n",
       "      <td>8.8</td>\n",
       "      <td>7.8</td>\n",
       "    </tr>\n",
       "    <tr>\n",
       "      <th>Mininum Efficiency Heat Pump with Existing Heat Backup</th>\n",
       "      <td>8.8</td>\n",
       "      <td>8.4</td>\n",
       "    </tr>\n",
       "    <tr>\n",
       "      <th>Heat Pump Water Heater</th>\n",
       "      <td>8.8</td>\n",
       "      <td>8.5</td>\n",
       "    </tr>\n",
       "    <tr>\n",
       "      <th>Heat Pump Clothes Dryer</th>\n",
       "      <td>9.6</td>\n",
       "      <td>9.4</td>\n",
       "    </tr>\n",
       "    <tr>\n",
       "      <th>Induction Cooking</th>\n",
       "      <td>8.8</td>\n",
       "      <td>8.8</td>\n",
       "    </tr>\n",
       "    <tr>\n",
       "      <th>Electric Cooking</th>\n",
       "      <td>7.1</td>\n",
       "      <td>7.1</td>\n",
       "    </tr>\n",
       "    <tr>\n",
       "      <th>Mininum Efficiency Heat Pump with Electric Heat Backup</th>\n",
       "      <td>8.8</td>\n",
       "      <td>9.7</td>\n",
       "    </tr>\n",
       "    <tr>\n",
       "      <th>Mininum Efficiency Whole Home Electrification</th>\n",
       "      <td>9.7</td>\n",
       "      <td>11.2</td>\n",
       "    </tr>\n",
       "  </tbody>\n",
       "</table>\n",
       "</div>"
      ],
      "text/plain": [
       "                                                    before  after\n",
       "upgrade_name                                                     \n",
       "Enhanced Enclosure + High Efficiency Whole Home...     8.8    5.2\n",
       "Enhanced Enclosure + HPWH + High Efficiency HP/...     8.8    5.3\n",
       "Basic Enclosure + High Efficiency Whole Home El...     8.8    5.9\n",
       "Basic Enclosure + HPWH + High Efficiency HP/Ele...     8.8    6.0\n",
       "High Efficiency Whole Home Electrification             8.8    6.9\n",
       "Enhanced Enclosure                                     8.8    7.4\n",
       "High Efficiency Heat Pump with Electric Heat Ba...     8.8    7.8\n",
       "Basic Enclosure                                        8.8    7.8\n",
       "Mininum Efficiency Heat Pump with Existing Heat...     8.8    8.4\n",
       "Heat Pump Water Heater                                 8.8    8.5\n",
       "Heat Pump Clothes Dryer                                9.6    9.4\n",
       "Induction Cooking                                      8.8    8.8\n",
       "Electric Cooking                                       7.1    7.1\n",
       "Mininum Efficiency Heat Pump with Electric Heat...     8.8    9.7\n",
       "Mininum Efficiency Whole Home Electrification          9.7   11.2"
      ]
     },
     "metadata": {},
     "output_type": "display_data"
    },
    {
     "name": "stdout",
     "output_type": "stream",
     "text": [
      "segment4\n"
     ]
    },
    {
     "data": {
      "text/html": [
       "<div>\n",
       "<style scoped>\n",
       "    .dataframe tbody tr th:only-of-type {\n",
       "        vertical-align: middle;\n",
       "    }\n",
       "\n",
       "    .dataframe tbody tr th {\n",
       "        vertical-align: top;\n",
       "    }\n",
       "\n",
       "    .dataframe thead th {\n",
       "        text-align: right;\n",
       "    }\n",
       "</style>\n",
       "<table border=\"1\" class=\"dataframe\">\n",
       "  <thead>\n",
       "    <tr style=\"text-align: right;\">\n",
       "      <th></th>\n",
       "      <th>before</th>\n",
       "      <th>after</th>\n",
       "    </tr>\n",
       "    <tr>\n",
       "      <th>upgrade_name</th>\n",
       "      <th></th>\n",
       "      <th></th>\n",
       "    </tr>\n",
       "  </thead>\n",
       "  <tbody>\n",
       "    <tr>\n",
       "      <th>Enhanced Enclosure + High Efficiency Whole Home Electrification</th>\n",
       "      <td>8.7</td>\n",
       "      <td>4.5</td>\n",
       "    </tr>\n",
       "    <tr>\n",
       "      <th>Enhanced Enclosure + HPWH + High Efficiency HP/Electric Backup</th>\n",
       "      <td>8.7</td>\n",
       "      <td>4.5</td>\n",
       "    </tr>\n",
       "    <tr>\n",
       "      <th>Basic Enclosure + High Efficiency Whole Home Electrification</th>\n",
       "      <td>8.7</td>\n",
       "      <td>4.7</td>\n",
       "    </tr>\n",
       "    <tr>\n",
       "      <th>Basic Enclosure + HPWH + High Efficiency HP/Electric Backup</th>\n",
       "      <td>8.7</td>\n",
       "      <td>4.7</td>\n",
       "    </tr>\n",
       "    <tr>\n",
       "      <th>High Efficiency Whole Home Electrification</th>\n",
       "      <td>8.7</td>\n",
       "      <td>5.3</td>\n",
       "    </tr>\n",
       "    <tr>\n",
       "      <th>High Efficiency Heat Pump with Electric Heat Backup</th>\n",
       "      <td>8.7</td>\n",
       "      <td>6.0</td>\n",
       "    </tr>\n",
       "    <tr>\n",
       "      <th>Mininum Efficiency Heat Pump with Existing Heat Backup</th>\n",
       "      <td>9.7</td>\n",
       "      <td>8.0</td>\n",
       "    </tr>\n",
       "    <tr>\n",
       "      <th>Enhanced Enclosure</th>\n",
       "      <td>9.6</td>\n",
       "      <td>8.0</td>\n",
       "    </tr>\n",
       "    <tr>\n",
       "      <th>Basic Enclosure</th>\n",
       "      <td>9.8</td>\n",
       "      <td>8.5</td>\n",
       "    </tr>\n",
       "    <tr>\n",
       "      <th>Mininum Efficiency Heat Pump with Electric Heat Backup</th>\n",
       "      <td>8.7</td>\n",
       "      <td>7.6</td>\n",
       "    </tr>\n",
       "    <tr>\n",
       "      <th>Heat Pump Water Heater</th>\n",
       "      <td>8.7</td>\n",
       "      <td>8.4</td>\n",
       "    </tr>\n",
       "    <tr>\n",
       "      <th>Heat Pump Clothes Dryer</th>\n",
       "      <td>7.4</td>\n",
       "      <td>7.3</td>\n",
       "    </tr>\n",
       "    <tr>\n",
       "      <th>Induction Cooking</th>\n",
       "      <td>9.7</td>\n",
       "      <td>9.7</td>\n",
       "    </tr>\n",
       "    <tr>\n",
       "      <th>Electric Cooking</th>\n",
       "      <td>6.8</td>\n",
       "      <td>6.8</td>\n",
       "    </tr>\n",
       "    <tr>\n",
       "      <th>Mininum Efficiency Whole Home Electrification</th>\n",
       "      <td>6.6</td>\n",
       "      <td>6.8</td>\n",
       "    </tr>\n",
       "  </tbody>\n",
       "</table>\n",
       "</div>"
      ],
      "text/plain": [
       "                                                    before  after\n",
       "upgrade_name                                                     \n",
       "Enhanced Enclosure + High Efficiency Whole Home...     8.7    4.5\n",
       "Enhanced Enclosure + HPWH + High Efficiency HP/...     8.7    4.5\n",
       "Basic Enclosure + High Efficiency Whole Home El...     8.7    4.7\n",
       "Basic Enclosure + HPWH + High Efficiency HP/Ele...     8.7    4.7\n",
       "High Efficiency Whole Home Electrification             8.7    5.3\n",
       "High Efficiency Heat Pump with Electric Heat Ba...     8.7    6.0\n",
       "Mininum Efficiency Heat Pump with Existing Heat...     9.7    8.0\n",
       "Enhanced Enclosure                                     9.6    8.0\n",
       "Basic Enclosure                                        9.8    8.5\n",
       "Mininum Efficiency Heat Pump with Electric Heat...     8.7    7.6\n",
       "Heat Pump Water Heater                                 8.7    8.4\n",
       "Heat Pump Clothes Dryer                                7.4    7.3\n",
       "Induction Cooking                                      9.7    9.7\n",
       "Electric Cooking                                       6.8    6.8\n",
       "Mininum Efficiency Whole Home Electrification          6.6    6.8"
      ]
     },
     "metadata": {},
     "output_type": "display_data"
    },
    {
     "name": "stdout",
     "output_type": "stream",
     "text": [
      "segment5\n"
     ]
    },
    {
     "data": {
      "text/html": [
       "<div>\n",
       "<style scoped>\n",
       "    .dataframe tbody tr th:only-of-type {\n",
       "        vertical-align: middle;\n",
       "    }\n",
       "\n",
       "    .dataframe tbody tr th {\n",
       "        vertical-align: top;\n",
       "    }\n",
       "\n",
       "    .dataframe thead th {\n",
       "        text-align: right;\n",
       "    }\n",
       "</style>\n",
       "<table border=\"1\" class=\"dataframe\">\n",
       "  <thead>\n",
       "    <tr style=\"text-align: right;\">\n",
       "      <th></th>\n",
       "      <th>before</th>\n",
       "      <th>after</th>\n",
       "    </tr>\n",
       "    <tr>\n",
       "      <th>upgrade_name</th>\n",
       "      <th></th>\n",
       "      <th></th>\n",
       "    </tr>\n",
       "  </thead>\n",
       "  <tbody>\n",
       "    <tr>\n",
       "      <th>Enhanced Enclosure + High Efficiency Whole Home Electrification</th>\n",
       "      <td>8.2</td>\n",
       "      <td>5.7</td>\n",
       "    </tr>\n",
       "    <tr>\n",
       "      <th>Enhanced Enclosure + HPWH + High Efficiency HP/Electric Backup</th>\n",
       "      <td>8.2</td>\n",
       "      <td>5.8</td>\n",
       "    </tr>\n",
       "    <tr>\n",
       "      <th>Basic Enclosure + High Efficiency Whole Home Electrification</th>\n",
       "      <td>8.2</td>\n",
       "      <td>5.9</td>\n",
       "    </tr>\n",
       "    <tr>\n",
       "      <th>Basic Enclosure + HPWH + High Efficiency HP/Electric Backup</th>\n",
       "      <td>8.2</td>\n",
       "      <td>5.9</td>\n",
       "    </tr>\n",
       "    <tr>\n",
       "      <th>High Efficiency Whole Home Electrification</th>\n",
       "      <td>8.2</td>\n",
       "      <td>6.5</td>\n",
       "    </tr>\n",
       "    <tr>\n",
       "      <th>High Efficiency Heat Pump with Electric Heat Backup</th>\n",
       "      <td>8.2</td>\n",
       "      <td>7.1</td>\n",
       "    </tr>\n",
       "    <tr>\n",
       "      <th>Enhanced Enclosure</th>\n",
       "      <td>7.9</td>\n",
       "      <td>7.0</td>\n",
       "    </tr>\n",
       "    <tr>\n",
       "      <th>Basic Enclosure</th>\n",
       "      <td>7.9</td>\n",
       "      <td>7.1</td>\n",
       "    </tr>\n",
       "    <tr>\n",
       "      <th>Mininum Efficiency Heat Pump with Existing Heat Backup</th>\n",
       "      <td>8.1</td>\n",
       "      <td>7.7</td>\n",
       "    </tr>\n",
       "    <tr>\n",
       "      <th>Heat Pump Water Heater</th>\n",
       "      <td>8.2</td>\n",
       "      <td>8.0</td>\n",
       "    </tr>\n",
       "    <tr>\n",
       "      <th>Heat Pump Clothes Dryer</th>\n",
       "      <td>8.8</td>\n",
       "      <td>8.8</td>\n",
       "    </tr>\n",
       "    <tr>\n",
       "      <th>Induction Cooking</th>\n",
       "      <td>8.2</td>\n",
       "      <td>8.2</td>\n",
       "    </tr>\n",
       "    <tr>\n",
       "      <th>Electric Cooking</th>\n",
       "      <td>7.4</td>\n",
       "      <td>7.4</td>\n",
       "    </tr>\n",
       "    <tr>\n",
       "      <th>Electric Clothes Dryer</th>\n",
       "      <td>7.8</td>\n",
       "      <td>7.9</td>\n",
       "    </tr>\n",
       "    <tr>\n",
       "      <th>Mininum Efficiency Heat Pump with Electric Heat Backup</th>\n",
       "      <td>8.2</td>\n",
       "      <td>9.1</td>\n",
       "    </tr>\n",
       "    <tr>\n",
       "      <th>Mininum Efficiency Whole Home Electrification</th>\n",
       "      <td>7.9</td>\n",
       "      <td>9.7</td>\n",
       "    </tr>\n",
       "  </tbody>\n",
       "</table>\n",
       "</div>"
      ],
      "text/plain": [
       "                                                    before  after\n",
       "upgrade_name                                                     \n",
       "Enhanced Enclosure + High Efficiency Whole Home...     8.2    5.7\n",
       "Enhanced Enclosure + HPWH + High Efficiency HP/...     8.2    5.8\n",
       "Basic Enclosure + High Efficiency Whole Home El...     8.2    5.9\n",
       "Basic Enclosure + HPWH + High Efficiency HP/Ele...     8.2    5.9\n",
       "High Efficiency Whole Home Electrification             8.2    6.5\n",
       "High Efficiency Heat Pump with Electric Heat Ba...     8.2    7.1\n",
       "Enhanced Enclosure                                     7.9    7.0\n",
       "Basic Enclosure                                        7.9    7.1\n",
       "Mininum Efficiency Heat Pump with Existing Heat...     8.1    7.7\n",
       "Heat Pump Water Heater                                 8.2    8.0\n",
       "Heat Pump Clothes Dryer                                8.8    8.8\n",
       "Induction Cooking                                      8.2    8.2\n",
       "Electric Cooking                                       7.4    7.4\n",
       "Electric Clothes Dryer                                 7.8    7.9\n",
       "Mininum Efficiency Heat Pump with Electric Heat...     8.2    9.1\n",
       "Mininum Efficiency Whole Home Electrification          7.9    9.7"
      ]
     },
     "metadata": {},
     "output_type": "display_data"
    },
    {
     "name": "stderr",
     "output_type": "stream",
     "text": [
      "/var/folders/zw/lhnn73fj2250g9z11h_whq1szkf2pm/T/ipykernel_25540/3291905064.py:2: PerformanceWarning:\n",
      "\n",
      "DataFrame is highly fragmented.  This is usually the result of calling `frame.insert` many times, which has poor performance.  Consider joining all columns at once using pd.concat(axis=1) instead. To get a de-fragmented frame, use `newframe = frame.copy()`\n",
      "\n",
      "/var/folders/zw/lhnn73fj2250g9z11h_whq1szkf2pm/T/ipykernel_25540/3291905064.py:2: PerformanceWarning:\n",
      "\n",
      "DataFrame is highly fragmented.  This is usually the result of calling `frame.insert` many times, which has poor performance.  Consider joining all columns at once using pd.concat(axis=1) instead. To get a de-fragmented frame, use `newframe = frame.copy()`\n",
      "\n",
      "/var/folders/zw/lhnn73fj2250g9z11h_whq1szkf2pm/T/ipykernel_25540/3291905064.py:3: PerformanceWarning:\n",
      "\n",
      "DataFrame is highly fragmented.  This is usually the result of calling `frame.insert` many times, which has poor performance.  Consider joining all columns at once using pd.concat(axis=1) instead. To get a de-fragmented frame, use `newframe = frame.copy()`\n",
      "\n",
      "/var/folders/zw/lhnn73fj2250g9z11h_whq1szkf2pm/T/ipykernel_25540/3291905064.py:3: PerformanceWarning:\n",
      "\n",
      "DataFrame is highly fragmented.  This is usually the result of calling `frame.insert` many times, which has poor performance.  Consider joining all columns at once using pd.concat(axis=1) instead. To get a de-fragmented frame, use `newframe = frame.copy()`\n",
      "\n",
      "/var/folders/zw/lhnn73fj2250g9z11h_whq1szkf2pm/T/ipykernel_25540/3291905064.py:4: PerformanceWarning:\n",
      "\n",
      "DataFrame is highly fragmented.  This is usually the result of calling `frame.insert` many times, which has poor performance.  Consider joining all columns at once using pd.concat(axis=1) instead. To get a de-fragmented frame, use `newframe = frame.copy()`\n",
      "\n",
      "/var/folders/zw/lhnn73fj2250g9z11h_whq1szkf2pm/T/ipykernel_25540/3291905064.py:4: PerformanceWarning:\n",
      "\n",
      "DataFrame is highly fragmented.  This is usually the result of calling `frame.insert` many times, which has poor performance.  Consider joining all columns at once using pd.concat(axis=1) instead. To get a de-fragmented frame, use `newframe = frame.copy()`\n",
      "\n",
      "/var/folders/zw/lhnn73fj2250g9z11h_whq1szkf2pm/T/ipykernel_25540/3291905064.py:5: PerformanceWarning:\n",
      "\n",
      "DataFrame is highly fragmented.  This is usually the result of calling `frame.insert` many times, which has poor performance.  Consider joining all columns at once using pd.concat(axis=1) instead. To get a de-fragmented frame, use `newframe = frame.copy()`\n",
      "\n",
      "/var/folders/zw/lhnn73fj2250g9z11h_whq1szkf2pm/T/ipykernel_25540/3291905064.py:5: PerformanceWarning:\n",
      "\n",
      "DataFrame is highly fragmented.  This is usually the result of calling `frame.insert` many times, which has poor performance.  Consider joining all columns at once using pd.concat(axis=1) instead. To get a de-fragmented frame, use `newframe = frame.copy()`\n",
      "\n",
      "/var/folders/zw/lhnn73fj2250g9z11h_whq1szkf2pm/T/ipykernel_25540/3291905064.py:6: PerformanceWarning:\n",
      "\n",
      "DataFrame is highly fragmented.  This is usually the result of calling `frame.insert` many times, which has poor performance.  Consider joining all columns at once using pd.concat(axis=1) instead. To get a de-fragmented frame, use `newframe = frame.copy()`\n",
      "\n",
      "/var/folders/zw/lhnn73fj2250g9z11h_whq1szkf2pm/T/ipykernel_25540/3291905064.py:6: PerformanceWarning:\n",
      "\n",
      "DataFrame is highly fragmented.  This is usually the result of calling `frame.insert` many times, which has poor performance.  Consider joining all columns at once using pd.concat(axis=1) instead. To get a de-fragmented frame, use `newframe = frame.copy()`\n",
      "\n"
     ]
    }
   ],
   "source": [
    "results = segment_mean_energy_burden('post-upgrade_energy_burden_2023_cbills.%', community_results) \n",
    "saving_results[[f'segment1_{income}_energy_burden_before_upgrade_%',f'segment1_{income}_energy_burden_after_upgrade_%']] = results[0]\n",
    "saving_results[[f'segment2_{income}_energy_burden_before_upgrade_%',f'segment2_{income}_energy_burden_after_upgrade_%']] = results[1]\n",
    "saving_results[[f'segment3_{income}_energy_burden_before_upgrade_%',f'segment3_{income}_energy_burden_after_upgrade_%']] = results[2]\n",
    "saving_results[[f'segment4_{income}_energy_burden_before_upgrade_%',f'segment4_{income}_energy_burden_after_upgrade_%']] = results[3]\n",
    "saving_results[[f'segment5_{income}_energy_burden_before_upgrade_%',f'segment5_{income}_energy_burden_after_upgrade_%']] = results[4]"
   ]
  },
  {
   "cell_type": "code",
   "execution_count": 56,
   "id": "45f4b53f",
   "metadata": {},
   "outputs": [],
   "source": [
    "saving_results.to_csv(fig_dir / f'saving_results_{community}.csv')"
   ]
  },
  {
   "cell_type": "markdown",
   "id": "14d74203",
   "metadata": {},
   "source": [
    "### Save html file"
   ]
  },
  {
   "cell_type": "code",
   "execution_count": 57,
   "id": "442ef0c6",
   "metadata": {},
   "outputs": [
    {
     "name": "stdout",
     "output_type": "stream",
     "text": [
      "[NbConvertApp] Converting notebook saving_results_reports_for_duluth.ipynb to html\n",
      "/Users/lliu2/micromamba/envs/res-est/share/jupyter/nbconvert/templates/base/display_priority.j2:32: UserWarning: Your element with mimetype(s) dict_keys(['application/vnd.plotly.v1+json']) is not able to be represented.\n",
      "  {%- elif type == 'application/javascript' -%}\n",
      "[NbConvertApp] Writing 557861 bytes to results/duluth/saving_results_reports_for_duluth.html\n"
     ]
    }
   ],
   "source": [
    "! jupyter nbconvert --output-dir='./results/duluth/' --to=html --no-input saving_results_reports_for_duluth.ipynb"
   ]
  }
 ],
 "metadata": {
  "kernelspec": {
   "display_name": "Python 3 (ipykernel)",
   "language": "python",
   "name": "python3"
  },
  "language_info": {
   "codemirror_mode": {
    "name": "ipython",
    "version": 3
   },
   "file_extension": ".py",
   "mimetype": "text/x-python",
   "name": "python",
   "nbconvert_exporter": "python",
   "pygments_lexer": "ipython3",
   "version": "3.9.16"
  },
  "vscode": {
   "interpreter": {
    "hash": "3a57d1f596c9ff9c21fe2833ccf65af76902e525ab80c4cb66d19dbf82ca6dce"
   }
  }
 },
 "nbformat": 4,
 "nbformat_minor": 5
}
