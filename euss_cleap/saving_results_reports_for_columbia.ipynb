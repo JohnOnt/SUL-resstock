{
 "cells": [
  {
   "cell_type": "code",
   "execution_count": 41,
   "id": "db22b178",
   "metadata": {},
   "outputs": [],
   "source": [
    "import plotly.graph_objects as go\n",
    "from plotly.subplots import make_subplots\n",
    "import plotly.express as px\n",
    "import pandas as pd\n",
    "import numpy as np\n",
    "from pathlib import Path"
   ]
  },
  {
   "cell_type": "markdown",
   "id": "37716b9d",
   "metadata": {},
   "source": [
    "# TODO: Change the Income Scope"
   ]
  },
  {
   "cell_type": "code",
   "execution_count": 42,
   "id": "fc10ddb3",
   "metadata": {},
   "outputs": [],
   "source": [
    "'''\n",
    "Single family detached, 1940-1979, all income \n",
    "Multifamily with 5+ units, 1940-1979, all income \n",
    "Single family detached, 1980+, all income \n",
    "Multifamily with 5+ units, 1980+, all income \n",
    "Single family detached, 1940-1979, 0-80% AMI \n",
    "Multifamily with 5+ units, 1940-1979, 0-80% AMI \n",
    "Single family detached, 1980+, 0-80% AMI \n",
    "Multifamily with 5+ units, 1980+, 0-80% AMI \n",
    "Only interested in electric and natural gas fuel types \n",
    "'''\n",
    "\n",
    "#'0-30%','30-60%','60-80%','80-100%', '100-120%','120-150%'\n",
    "seg1_median_income = ['0-30%','30-60%','60-80%','80-100%', '100-120%','120-150%']\n",
    "seg2_median_income = ['0-30%','30-60%','60-80%','80-100%', '100-120%','120-150%']\n",
    "seg3_median_income = ['0-30%','30-60%','60-80%','80-100%', '100-120%','120-150%']\n",
    "seg4_median_income = ['0-30%','30-60%','60-80%','80-100%', '100-120%','120-150%']"
   ]
  },
  {
   "cell_type": "markdown",
   "id": "919cada0",
   "metadata": {},
   "source": [
    "# 0. Add Segment Label"
   ]
  },
  {
   "cell_type": "code",
   "execution_count": null,
   "id": "97b37ad7",
   "metadata": {},
   "outputs": [],
   "source": [
    "community = 'columbia'\n",
    "fig_dir = Path(\".\").resolve() / \"results\" / community\n",
    "community_results = pd.read_parquet(f\"data_/community_building_samples_with_upgrade_cost_and_bill/{community}/processed_upgrade_results.parquet\")"
   ]
  },
  {
   "cell_type": "markdown",
   "id": "6497896e",
   "metadata": {},
   "source": [
    "Define segement"
   ]
  },
  {
   "cell_type": "code",
   "execution_count": 44,
   "id": "f6744766",
   "metadata": {},
   "outputs": [],
   "source": [
    "vacancy_status = ['Occupied']\n",
    "\n",
    "seg1_building_type = ['Single-Family Detached']\n",
    "seg1_vintage = ['1940s', '1950s', '1960s', '1970s']\n",
    "seg1_tenure = ['Renter', 'Owner']\n",
    "seg1_construction = ['Brick', 'Concrete', 'Steel Frame', 'Wood Frame']\n",
    "\n",
    "seg2_building_type = ['Multi-Family with 5+ Units']\n",
    "seg2_vintage = ['1940s', '1950s', '1960s', '1970s']\n",
    "seg2_tenure = ['Renter', 'Owner']\n",
    "seg2_construction = ['Brick', 'Concrete', 'Steel Frame', 'Wood Frame']\n",
    "\n",
    "seg3_building_type = ['Single-Family Detached']\n",
    "seg3_vintage = ['1980s', '1990s', '2000s', '2010s']\n",
    "seg3_tenure = ['Renter','Owner']\n",
    "seg3_construction = ['Brick', 'Concrete', 'Steel Frame', 'Wood Frame']\n",
    "\n",
    "seg4_building_type = ['Multi-Family with 5+ Units']\n",
    "seg4_vintage = ['1980s', '1990s', '2000s', '2010s']\n",
    "seg4_tenure = ['Renter','Owner']\n",
    "seg4_construction = ['Brick', 'Concrete', 'Steel Frame', 'Wood Frame']"
   ]
  },
  {
   "cell_type": "markdown",
   "id": "4109063a",
   "metadata": {},
   "source": [
    "label each building sample"
   ]
  },
  {
   "cell_type": "code",
   "execution_count": 45,
   "id": "b490e928",
   "metadata": {},
   "outputs": [],
   "source": [
    "community_results.loc[community_results['build_existing_model.vacancy_status'].isin(vacancy_status) & \n",
    "                     community_results['build_existing_model.geometry_building_type_recs'].isin(seg1_building_type) & \n",
    "                     community_results['build_existing_model.vintage'].isin(seg1_vintage) & \n",
    "                     community_results['build_existing_model.tenure'].isin(seg1_tenure) &  \n",
    "                     community_results['build_existing_model.geometry_wall_type'].isin(seg1_construction) & \n",
    "                     community_results['build_existing_model.area_median_income'].isin(seg1_median_income),\n",
    "                     'segment'] = 'segment1'\n",
    "community_results.loc[community_results['build_existing_model.vacancy_status'].isin(vacancy_status) & \n",
    "                     community_results['build_existing_model.geometry_building_type_recs'].isin(seg2_building_type) & \n",
    "                     community_results['build_existing_model.vintage'].isin(seg2_vintage) & \n",
    "                     community_results['build_existing_model.tenure'].isin(seg2_tenure) &  \n",
    "                     community_results['build_existing_model.geometry_wall_type'].isin(seg2_construction) & \n",
    "                     community_results['build_existing_model.area_median_income'].isin(seg2_median_income),\n",
    "                     'segment'] = 'segment2'\n",
    "community_results.loc[community_results['build_existing_model.vacancy_status'].isin(vacancy_status) & \n",
    "                     community_results['build_existing_model.geometry_building_type_recs'].isin(seg3_building_type) & \n",
    "                     community_results['build_existing_model.vintage'].isin(seg3_vintage) & \n",
    "                     community_results['build_existing_model.tenure'].isin(seg3_tenure) &   \n",
    "                     community_results['build_existing_model.geometry_wall_type'].isin(seg3_construction) &\n",
    "                     community_results['build_existing_model.area_median_income'].isin(seg3_median_income),\n",
    "                     'segment'] = 'segment3'\n",
    "community_results.loc[community_results['build_existing_model.vacancy_status'].isin(vacancy_status) & \n",
    "                     community_results['build_existing_model.geometry_building_type_recs'].isin(seg4_building_type) & \n",
    "                     community_results['build_existing_model.vintage'].isin(seg4_vintage) & \n",
    "                     community_results['build_existing_model.tenure'].isin(seg4_tenure) &   \n",
    "                     community_results['build_existing_model.geometry_wall_type'].isin(seg4_construction) &\n",
    "                     community_results['build_existing_model.area_median_income'].isin(seg4_median_income),\n",
    "                     'segment'] = 'segment4'"
   ]
  },
  {
   "cell_type": "markdown",
   "id": "712ba191",
   "metadata": {},
   "source": [
    "# 1. Whole Community"
   ]
  },
  {
   "cell_type": "markdown",
   "id": "825d991e",
   "metadata": {},
   "source": [
    "## 1.1 Upgrade Cost Per Dwelling Unit"
   ]
  },
  {
   "cell_type": "code",
   "execution_count": 46,
   "id": "d2f8640e",
   "metadata": {},
   "outputs": [
    {
     "name": "stdout",
     "output_type": "stream",
     "text": [
      "upgrade_cost_usd per dwelling unit\n",
      "upgrade_name\n",
      "Electric Cooking                                                    1115.8\n",
      "Electric Clothes Dryer                                              1253.0\n",
      "Induction Cooking                                                   1918.7\n",
      "Heat Pump Clothes Dryer                                             2521.5\n",
      "Heat Pump Water Heater                                              3128.7\n",
      "Basic Enclosure                                                     4004.6\n",
      "Enhanced Enclosure                                                  5940.4\n",
      "Mininum Efficiency Whole Home Electrification                      13639.7\n",
      "Mininum Efficiency Heat Pump with Existing Heat Backup             14026.2\n",
      "Mininum Efficiency Heat Pump with Electric Heat Backup             14128.6\n",
      "High Efficiency Heat Pump with Electric Heat Backup                26553.9\n",
      "Basic Enclosure + HPWH + High Efficiency HP/Electric Backup        30593.6\n",
      "Enhanced Enclosure + HPWH + High Efficiency HP/Electric Backup     31900.3\n",
      "High Efficiency Whole Home Electrification                         33589.9\n",
      "Basic Enclosure + High Efficiency Whole Home Electrification       34598.5\n",
      "Enhanced Enclosure + High Efficiency Whole Home Electrification    35905.2\n",
      "Name: upgrade_cost_usd, dtype: float64\n"
     ]
    }
   ],
   "source": [
    "def figure_mean_upgrade_cost(commnity_results):\n",
    "    results = commnity_results[['upgrade_name',\n",
    "                       'upgrade_cost_usd',\n",
    "                                'sample_weight']]\n",
    "    results = results.loc[results['upgrade_name'] != 'baseline']\n",
    "    results['upgrade_cost_usd'] = results['upgrade_cost_usd']*results['sample_weight']\n",
    "    \n",
    "    agg_functions = {'upgrade_name': 'first',\n",
    "                     'upgrade_cost_usd': 'sum',\n",
    "                    'sample_weight': 'sum'}\n",
    "    results = results.groupby(results['upgrade_name']).aggregate(agg_functions)\n",
    "    results['upgrade_cost_usd'] = results['upgrade_cost_usd']/results['sample_weight']\n",
    "    results = results.sort_values('upgrade_cost_usd')\n",
    "    results['upgrade_cost_usd'] = results['upgrade_cost_usd'].round(1) \n",
    "    \n",
    "    print('upgrade_cost_usd per dwelling unit')\n",
    "    print(results['upgrade_cost_usd'])\n",
    "\n",
    "figure_mean_upgrade_cost(community_results) "
   ]
  },
  {
   "cell_type": "markdown",
   "id": "8612601a",
   "metadata": {},
   "source": [
    "## 1.2 Total Annual Savings"
   ]
  },
  {
   "cell_type": "code",
   "execution_count": 47,
   "id": "2d30637c",
   "metadata": {},
   "outputs": [
    {
     "data": {
      "application/vnd.plotly.v1+json": {
       "config": {
        "plotlyServerURL": "https://plot.ly"
       },
       "data": [
        {
         "cliponaxis": false,
         "marker": {
          "color": "rgb(255, 255, 255)",
          "line": {
           "color": "rgb(255, 255, 255)"
          }
         },
         "orientation": "h",
         "textangle": 0,
         "textfont": {
          "size": 10
         },
         "textposition": "outside",
         "type": "bar",
         "x": [
          0,
          0,
          0,
          0,
          0,
          0,
          0,
          0,
          0,
          0,
          0,
          0,
          0,
          0,
          0,
          0,
          0,
          0,
          0,
          0,
          0,
          0,
          0,
          0,
          0,
          0,
          0,
          0,
          0,
          0,
          0,
          0,
          0,
          0,
          0,
          0,
          0,
          0,
          0,
          0,
          0,
          0,
          0,
          0,
          0,
          0,
          0,
          0,
          0,
          0,
          0,
          0,
          0,
          0,
          0,
          0,
          0,
          0,
          0,
          0,
          0,
          0,
          0,
          0,
          0,
          0,
          0,
          0,
          0,
          0,
          0,
          0,
          0,
          0,
          0,
          0,
          0,
          0,
          0,
          0,
          0,
          0,
          0,
          0,
          0,
          0,
          0,
          0,
          0,
          0,
          0,
          0,
          0,
          0,
          0,
          0,
          0,
          0,
          0,
          0,
          0,
          0,
          0,
          0,
          0,
          0,
          0,
          0,
          0,
          0,
          0,
          0,
          0,
          0,
          0,
          0,
          0,
          0,
          0,
          0,
          0,
          0,
          0,
          0,
          0,
          0,
          0,
          0,
          0,
          0,
          0,
          0,
          0,
          0,
          0,
          0,
          0,
          0,
          0,
          0,
          0,
          0,
          0,
          0,
          0,
          0,
          0,
          0,
          0,
          0,
          0,
          0,
          0,
          0,
          0,
          0,
          0,
          0,
          0,
          0,
          0,
          0,
          0,
          0,
          0,
          0,
          0,
          0,
          0,
          0,
          0,
          0,
          0,
          0,
          0,
          0
         ],
         "xaxis": "x",
         "y": [
          "Electric Cooking",
          "Electric Clothes Dryer",
          "Induction Cooking",
          "Heat Pump Clothes Dryer",
          "Mininum Efficiency Whole Home Electrification",
          "Heat Pump Water Heater",
          "Mininum Efficiency Heat Pump with Existing Heat Backup",
          "Mininum Efficiency Heat Pump with Electric Heat Backup",
          "Basic Enclosure",
          "Enhanced Enclosure",
          "High Efficiency Heat Pump with Electric Heat Backup",
          "High Efficiency Whole Home Electrification",
          "Basic Enclosure + HPWH + High Efficiency HP/Electric Backup",
          "Enhanced Enclosure + HPWH + High Efficiency HP/Electric Backup",
          "Basic Enclosure + High Efficiency Whole Home Electrification",
          "Enhanced Enclosure + High Efficiency Whole Home Electrification"
         ],
         "yaxis": "y"
        },
        {
         "cliponaxis": false,
         "marker": {
          "color": "rgb(0, 121, 61)",
          "line": {
           "color": "rgb(0, 121, 61)"
          }
         },
         "orientation": "h",
         "text": [
          -182015.37176855368,
          -115272.05835259888,
          191654.64435130538,
          2449844.652724317,
          6523900.048094642,
          11466380.299900299,
          28860662.831289142,
          29236980.796178706,
          31005180.995794274,
          36379631.07325443,
          65735189.65319706,
          83392091.15660128,
          91175242.37922944,
          92837364.8379836,
          93913831.60413334,
          95575954.0628875
         ],
         "textangle": 0,
         "textfont": {
          "size": 10
         },
         "textposition": "outside",
         "texttemplate": "%{text:.3s}",
         "type": "bar",
         "x": [
          -182015.37176855368,
          -115272.05835259888,
          191654.64435130538,
          2449844.652724317,
          6523900.048094642,
          11466380.299900299,
          28860662.831289142,
          29236980.796178706,
          31005180.995794274,
          36379631.07325443,
          65735189.65319706,
          83392091.15660128,
          91175242.37922944,
          92837364.8379836,
          93913831.60413334,
          95575954.0628875
         ],
         "xaxis": "x2",
         "y": [
          "Electric Cooking",
          "Electric Clothes Dryer",
          "Induction Cooking",
          "Heat Pump Clothes Dryer",
          "Mininum Efficiency Whole Home Electrification",
          "Heat Pump Water Heater",
          "Mininum Efficiency Heat Pump with Existing Heat Backup",
          "Mininum Efficiency Heat Pump with Electric Heat Backup",
          "Basic Enclosure",
          "Enhanced Enclosure",
          "High Efficiency Heat Pump with Electric Heat Backup",
          "High Efficiency Whole Home Electrification",
          "Basic Enclosure + HPWH + High Efficiency HP/Electric Backup",
          "Enhanced Enclosure + HPWH + High Efficiency HP/Electric Backup",
          "Basic Enclosure + High Efficiency Whole Home Electrification",
          "Enhanced Enclosure + High Efficiency Whole Home Electrification"
         ],
         "yaxis": "y2"
        },
        {
         "cliponaxis": false,
         "marker": {
          "color": "rgb(0, 121, 61)",
          "line": {
           "color": "rgb(0, 121, 61)"
          }
         },
         "orientation": "h",
         "text": [
          1738716.9819606321,
          109469.05466047108,
          2444730.3511143755,
          4660347.295615813,
          58226225.09023675,
          30117277.445562206,
          85870393.52910651,
          97052568.44644807,
          79419412.43569708,
          93644231.2684836,
          172714249.20032558,
          220318206.71843675,
          234851691.04288825,
          238607404.9815212,
          241956768.68961844,
          245712482.62825137
         ],
         "textangle": 0,
         "textfont": {
          "size": 10
         },
         "textposition": "outside",
         "texttemplate": "%{text:.3s}",
         "type": "bar",
         "x": [
          1738716.9819606321,
          109469.05466047108,
          2444730.3511143755,
          4660347.295615813,
          58226225.09023675,
          30117277.445562206,
          85870393.52910651,
          97052568.44644807,
          79419412.43569708,
          93644231.2684836,
          172714249.20032558,
          220318206.71843675,
          234851691.04288825,
          238607404.9815212,
          241956768.68961844,
          245712482.62825137
         ],
         "xaxis": "x3",
         "y": [
          "Electric Cooking",
          "Electric Clothes Dryer",
          "Induction Cooking",
          "Heat Pump Clothes Dryer",
          "Mininum Efficiency Whole Home Electrification",
          "Heat Pump Water Heater",
          "Mininum Efficiency Heat Pump with Existing Heat Backup",
          "Mininum Efficiency Heat Pump with Electric Heat Backup",
          "Basic Enclosure",
          "Enhanced Enclosure",
          "High Efficiency Heat Pump with Electric Heat Backup",
          "High Efficiency Whole Home Electrification",
          "Basic Enclosure + HPWH + High Efficiency HP/Electric Backup",
          "Enhanced Enclosure + HPWH + High Efficiency HP/Electric Backup",
          "Basic Enclosure + High Efficiency Whole Home Electrification",
          "Enhanced Enclosure + High Efficiency Whole Home Electrification"
         ],
         "yaxis": "y3"
        },
        {
         "cliponaxis": false,
         "marker": {
          "color": "rgb(0, 121, 61)",
          "line": {
           "color": "rgb(0, 121, 61)"
          }
         },
         "orientation": "h",
         "text": [
          -6412656.867989991,
          -1704668.5876111924,
          -3571029.5657840595,
          17801908.50483785,
          -79057435.51862597,
          65471103.43628962,
          161633131.29481307,
          130714853.68339854,
          195009489.2344344,
          228833065.33597508,
          408270397.6408062,
          505491546.29511267,
          571273902.698508,
          583913617.2137488,
          585504781.6375618,
          598144496.1528026
         ],
         "textangle": 0,
         "textfont": {
          "size": 10
         },
         "textposition": "outside",
         "texttemplate": "%{text:.3s}",
         "type": "bar",
         "x": [
          -6412656.867989991,
          -1704668.5876111924,
          -3571029.5657840595,
          17801908.50483785,
          -79057435.51862597,
          65471103.43628962,
          161633131.29481307,
          130714853.68339854,
          195009489.2344344,
          228833065.33597508,
          408270397.6408062,
          505491546.29511267,
          571273902.698508,
          583913617.2137488,
          585504781.6375618,
          598144496.1528026
         ],
         "xaxis": "x4",
         "y": [
          "Electric Cooking",
          "Electric Clothes Dryer",
          "Induction Cooking",
          "Heat Pump Clothes Dryer",
          "Mininum Efficiency Whole Home Electrification",
          "Heat Pump Water Heater",
          "Mininum Efficiency Heat Pump with Existing Heat Backup",
          "Mininum Efficiency Heat Pump with Electric Heat Backup",
          "Basic Enclosure",
          "Enhanced Enclosure",
          "High Efficiency Heat Pump with Electric Heat Backup",
          "High Efficiency Whole Home Electrification",
          "Basic Enclosure + HPWH + High Efficiency HP/Electric Backup",
          "Enhanced Enclosure + HPWH + High Efficiency HP/Electric Backup",
          "Basic Enclosure + High Efficiency Whole Home Electrification",
          "Enhanced Enclosure + High Efficiency Whole Home Electrification"
         ],
         "yaxis": "y4"
        },
        {
         "cliponaxis": false,
         "marker": {
          "color": "rgb(0, 121, 61)",
          "line": {
           "color": "rgb(0, 121, 61)"
          }
         },
         "orientation": "h",
         "text": [
          48485.403662085766,
          7579.684418273646,
          48485.122376149484,
          7579.813478879707,
          1233024.1669182384,
          215595.7316691919,
          562551.993929293,
          884938.3884818183,
          392403.5328666667,
          457997.4673717172,
          884913.957309091,
          1233024.1669182384,
          1176959.231063209,
          1176959.231063209,
          1233024.1669182384,
          1233024.1669182384
         ],
         "textangle": 0,
         "textfont": {
          "size": 10
         },
         "textposition": "outside",
         "texttemplate": "%{text:.3s}",
         "type": "bar",
         "x": [
          48485.403662085766,
          7579.684418273646,
          48485.122376149484,
          7579.813478879707,
          1233024.1669182384,
          215595.7316691919,
          562551.993929293,
          884938.3884818183,
          392403.5328666667,
          457997.4673717172,
          884913.957309091,
          1233024.1669182384,
          1176959.231063209,
          1176959.231063209,
          1233024.1669182384,
          1233024.1669182384
         ],
         "xaxis": "x5",
         "y": [
          "Electric Cooking",
          "Electric Clothes Dryer",
          "Induction Cooking",
          "Heat Pump Clothes Dryer",
          "Mininum Efficiency Whole Home Electrification",
          "Heat Pump Water Heater",
          "Mininum Efficiency Heat Pump with Existing Heat Backup",
          "Mininum Efficiency Heat Pump with Electric Heat Backup",
          "Basic Enclosure",
          "Enhanced Enclosure",
          "High Efficiency Heat Pump with Electric Heat Backup",
          "High Efficiency Whole Home Electrification",
          "Basic Enclosure + HPWH + High Efficiency HP/Electric Backup",
          "Enhanced Enclosure + HPWH + High Efficiency HP/Electric Backup",
          "Basic Enclosure + High Efficiency Whole Home Electrification",
          "Enhanced Enclosure + High Efficiency Whole Home Electrification"
         ],
         "yaxis": "y5"
        }
       ],
       "layout": {
        "autosize": false,
        "font": {
         "size": 10
        },
        "height": 500,
        "plot_bgcolor": "rgba(0, 0, 0, 0)",
        "showlegend": false,
        "template": {
         "data": {
          "bar": [
           {
            "error_x": {
             "color": "#2a3f5f"
            },
            "error_y": {
             "color": "#2a3f5f"
            },
            "marker": {
             "line": {
              "color": "#E5ECF6",
              "width": 0.5
             },
             "pattern": {
              "fillmode": "overlay",
              "size": 10,
              "solidity": 0.2
             }
            },
            "type": "bar"
           }
          ],
          "barpolar": [
           {
            "marker": {
             "line": {
              "color": "#E5ECF6",
              "width": 0.5
             },
             "pattern": {
              "fillmode": "overlay",
              "size": 10,
              "solidity": 0.2
             }
            },
            "type": "barpolar"
           }
          ],
          "carpet": [
           {
            "aaxis": {
             "endlinecolor": "#2a3f5f",
             "gridcolor": "white",
             "linecolor": "white",
             "minorgridcolor": "white",
             "startlinecolor": "#2a3f5f"
            },
            "baxis": {
             "endlinecolor": "#2a3f5f",
             "gridcolor": "white",
             "linecolor": "white",
             "minorgridcolor": "white",
             "startlinecolor": "#2a3f5f"
            },
            "type": "carpet"
           }
          ],
          "choropleth": [
           {
            "colorbar": {
             "outlinewidth": 0,
             "ticks": ""
            },
            "type": "choropleth"
           }
          ],
          "contour": [
           {
            "colorbar": {
             "outlinewidth": 0,
             "ticks": ""
            },
            "colorscale": [
             [
              0,
              "#0d0887"
             ],
             [
              0.1111111111111111,
              "#46039f"
             ],
             [
              0.2222222222222222,
              "#7201a8"
             ],
             [
              0.3333333333333333,
              "#9c179e"
             ],
             [
              0.4444444444444444,
              "#bd3786"
             ],
             [
              0.5555555555555556,
              "#d8576b"
             ],
             [
              0.6666666666666666,
              "#ed7953"
             ],
             [
              0.7777777777777778,
              "#fb9f3a"
             ],
             [
              0.8888888888888888,
              "#fdca26"
             ],
             [
              1,
              "#f0f921"
             ]
            ],
            "type": "contour"
           }
          ],
          "contourcarpet": [
           {
            "colorbar": {
             "outlinewidth": 0,
             "ticks": ""
            },
            "type": "contourcarpet"
           }
          ],
          "heatmap": [
           {
            "colorbar": {
             "outlinewidth": 0,
             "ticks": ""
            },
            "colorscale": [
             [
              0,
              "#0d0887"
             ],
             [
              0.1111111111111111,
              "#46039f"
             ],
             [
              0.2222222222222222,
              "#7201a8"
             ],
             [
              0.3333333333333333,
              "#9c179e"
             ],
             [
              0.4444444444444444,
              "#bd3786"
             ],
             [
              0.5555555555555556,
              "#d8576b"
             ],
             [
              0.6666666666666666,
              "#ed7953"
             ],
             [
              0.7777777777777778,
              "#fb9f3a"
             ],
             [
              0.8888888888888888,
              "#fdca26"
             ],
             [
              1,
              "#f0f921"
             ]
            ],
            "type": "heatmap"
           }
          ],
          "heatmapgl": [
           {
            "colorbar": {
             "outlinewidth": 0,
             "ticks": ""
            },
            "colorscale": [
             [
              0,
              "#0d0887"
             ],
             [
              0.1111111111111111,
              "#46039f"
             ],
             [
              0.2222222222222222,
              "#7201a8"
             ],
             [
              0.3333333333333333,
              "#9c179e"
             ],
             [
              0.4444444444444444,
              "#bd3786"
             ],
             [
              0.5555555555555556,
              "#d8576b"
             ],
             [
              0.6666666666666666,
              "#ed7953"
             ],
             [
              0.7777777777777778,
              "#fb9f3a"
             ],
             [
              0.8888888888888888,
              "#fdca26"
             ],
             [
              1,
              "#f0f921"
             ]
            ],
            "type": "heatmapgl"
           }
          ],
          "histogram": [
           {
            "marker": {
             "pattern": {
              "fillmode": "overlay",
              "size": 10,
              "solidity": 0.2
             }
            },
            "type": "histogram"
           }
          ],
          "histogram2d": [
           {
            "colorbar": {
             "outlinewidth": 0,
             "ticks": ""
            },
            "colorscale": [
             [
              0,
              "#0d0887"
             ],
             [
              0.1111111111111111,
              "#46039f"
             ],
             [
              0.2222222222222222,
              "#7201a8"
             ],
             [
              0.3333333333333333,
              "#9c179e"
             ],
             [
              0.4444444444444444,
              "#bd3786"
             ],
             [
              0.5555555555555556,
              "#d8576b"
             ],
             [
              0.6666666666666666,
              "#ed7953"
             ],
             [
              0.7777777777777778,
              "#fb9f3a"
             ],
             [
              0.8888888888888888,
              "#fdca26"
             ],
             [
              1,
              "#f0f921"
             ]
            ],
            "type": "histogram2d"
           }
          ],
          "histogram2dcontour": [
           {
            "colorbar": {
             "outlinewidth": 0,
             "ticks": ""
            },
            "colorscale": [
             [
              0,
              "#0d0887"
             ],
             [
              0.1111111111111111,
              "#46039f"
             ],
             [
              0.2222222222222222,
              "#7201a8"
             ],
             [
              0.3333333333333333,
              "#9c179e"
             ],
             [
              0.4444444444444444,
              "#bd3786"
             ],
             [
              0.5555555555555556,
              "#d8576b"
             ],
             [
              0.6666666666666666,
              "#ed7953"
             ],
             [
              0.7777777777777778,
              "#fb9f3a"
             ],
             [
              0.8888888888888888,
              "#fdca26"
             ],
             [
              1,
              "#f0f921"
             ]
            ],
            "type": "histogram2dcontour"
           }
          ],
          "mesh3d": [
           {
            "colorbar": {
             "outlinewidth": 0,
             "ticks": ""
            },
            "type": "mesh3d"
           }
          ],
          "parcoords": [
           {
            "line": {
             "colorbar": {
              "outlinewidth": 0,
              "ticks": ""
             }
            },
            "type": "parcoords"
           }
          ],
          "pie": [
           {
            "automargin": true,
            "type": "pie"
           }
          ],
          "scatter": [
           {
            "fillpattern": {
             "fillmode": "overlay",
             "size": 10,
             "solidity": 0.2
            },
            "type": "scatter"
           }
          ],
          "scatter3d": [
           {
            "line": {
             "colorbar": {
              "outlinewidth": 0,
              "ticks": ""
             }
            },
            "marker": {
             "colorbar": {
              "outlinewidth": 0,
              "ticks": ""
             }
            },
            "type": "scatter3d"
           }
          ],
          "scattercarpet": [
           {
            "marker": {
             "colorbar": {
              "outlinewidth": 0,
              "ticks": ""
             }
            },
            "type": "scattercarpet"
           }
          ],
          "scattergeo": [
           {
            "marker": {
             "colorbar": {
              "outlinewidth": 0,
              "ticks": ""
             }
            },
            "type": "scattergeo"
           }
          ],
          "scattergl": [
           {
            "marker": {
             "colorbar": {
              "outlinewidth": 0,
              "ticks": ""
             }
            },
            "type": "scattergl"
           }
          ],
          "scattermapbox": [
           {
            "marker": {
             "colorbar": {
              "outlinewidth": 0,
              "ticks": ""
             }
            },
            "type": "scattermapbox"
           }
          ],
          "scatterpolar": [
           {
            "marker": {
             "colorbar": {
              "outlinewidth": 0,
              "ticks": ""
             }
            },
            "type": "scatterpolar"
           }
          ],
          "scatterpolargl": [
           {
            "marker": {
             "colorbar": {
              "outlinewidth": 0,
              "ticks": ""
             }
            },
            "type": "scatterpolargl"
           }
          ],
          "scatterternary": [
           {
            "marker": {
             "colorbar": {
              "outlinewidth": 0,
              "ticks": ""
             }
            },
            "type": "scatterternary"
           }
          ],
          "surface": [
           {
            "colorbar": {
             "outlinewidth": 0,
             "ticks": ""
            },
            "colorscale": [
             [
              0,
              "#0d0887"
             ],
             [
              0.1111111111111111,
              "#46039f"
             ],
             [
              0.2222222222222222,
              "#7201a8"
             ],
             [
              0.3333333333333333,
              "#9c179e"
             ],
             [
              0.4444444444444444,
              "#bd3786"
             ],
             [
              0.5555555555555556,
              "#d8576b"
             ],
             [
              0.6666666666666666,
              "#ed7953"
             ],
             [
              0.7777777777777778,
              "#fb9f3a"
             ],
             [
              0.8888888888888888,
              "#fdca26"
             ],
             [
              1,
              "#f0f921"
             ]
            ],
            "type": "surface"
           }
          ],
          "table": [
           {
            "cells": {
             "fill": {
              "color": "#EBF0F8"
             },
             "line": {
              "color": "white"
             }
            },
            "header": {
             "fill": {
              "color": "#C8D4E3"
             },
             "line": {
              "color": "white"
             }
            },
            "type": "table"
           }
          ]
         },
         "layout": {
          "annotationdefaults": {
           "arrowcolor": "#2a3f5f",
           "arrowhead": 0,
           "arrowwidth": 1
          },
          "autotypenumbers": "strict",
          "coloraxis": {
           "colorbar": {
            "outlinewidth": 0,
            "ticks": ""
           }
          },
          "colorscale": {
           "diverging": [
            [
             0,
             "#8e0152"
            ],
            [
             0.1,
             "#c51b7d"
            ],
            [
             0.2,
             "#de77ae"
            ],
            [
             0.3,
             "#f1b6da"
            ],
            [
             0.4,
             "#fde0ef"
            ],
            [
             0.5,
             "#f7f7f7"
            ],
            [
             0.6,
             "#e6f5d0"
            ],
            [
             0.7,
             "#b8e186"
            ],
            [
             0.8,
             "#7fbc41"
            ],
            [
             0.9,
             "#4d9221"
            ],
            [
             1,
             "#276419"
            ]
           ],
           "sequential": [
            [
             0,
             "#0d0887"
            ],
            [
             0.1111111111111111,
             "#46039f"
            ],
            [
             0.2222222222222222,
             "#7201a8"
            ],
            [
             0.3333333333333333,
             "#9c179e"
            ],
            [
             0.4444444444444444,
             "#bd3786"
            ],
            [
             0.5555555555555556,
             "#d8576b"
            ],
            [
             0.6666666666666666,
             "#ed7953"
            ],
            [
             0.7777777777777778,
             "#fb9f3a"
            ],
            [
             0.8888888888888888,
             "#fdca26"
            ],
            [
             1,
             "#f0f921"
            ]
           ],
           "sequentialminus": [
            [
             0,
             "#0d0887"
            ],
            [
             0.1111111111111111,
             "#46039f"
            ],
            [
             0.2222222222222222,
             "#7201a8"
            ],
            [
             0.3333333333333333,
             "#9c179e"
            ],
            [
             0.4444444444444444,
             "#bd3786"
            ],
            [
             0.5555555555555556,
             "#d8576b"
            ],
            [
             0.6666666666666666,
             "#ed7953"
            ],
            [
             0.7777777777777778,
             "#fb9f3a"
            ],
            [
             0.8888888888888888,
             "#fdca26"
            ],
            [
             1,
             "#f0f921"
            ]
           ]
          },
          "colorway": [
           "#636efa",
           "#EF553B",
           "#00cc96",
           "#ab63fa",
           "#FFA15A",
           "#19d3f3",
           "#FF6692",
           "#B6E880",
           "#FF97FF",
           "#FECB52"
          ],
          "font": {
           "color": "#2a3f5f"
          },
          "geo": {
           "bgcolor": "white",
           "lakecolor": "white",
           "landcolor": "#E5ECF6",
           "showlakes": true,
           "showland": true,
           "subunitcolor": "white"
          },
          "hoverlabel": {
           "align": "left"
          },
          "hovermode": "closest",
          "mapbox": {
           "style": "light"
          },
          "paper_bgcolor": "white",
          "plot_bgcolor": "#E5ECF6",
          "polar": {
           "angularaxis": {
            "gridcolor": "white",
            "linecolor": "white",
            "ticks": ""
           },
           "bgcolor": "#E5ECF6",
           "radialaxis": {
            "gridcolor": "white",
            "linecolor": "white",
            "ticks": ""
           }
          },
          "scene": {
           "xaxis": {
            "backgroundcolor": "#E5ECF6",
            "gridcolor": "white",
            "gridwidth": 2,
            "linecolor": "white",
            "showbackground": true,
            "ticks": "",
            "zerolinecolor": "white"
           },
           "yaxis": {
            "backgroundcolor": "#E5ECF6",
            "gridcolor": "white",
            "gridwidth": 2,
            "linecolor": "white",
            "showbackground": true,
            "ticks": "",
            "zerolinecolor": "white"
           },
           "zaxis": {
            "backgroundcolor": "#E5ECF6",
            "gridcolor": "white",
            "gridwidth": 2,
            "linecolor": "white",
            "showbackground": true,
            "ticks": "",
            "zerolinecolor": "white"
           }
          },
          "shapedefaults": {
           "line": {
            "color": "#2a3f5f"
           }
          },
          "ternary": {
           "aaxis": {
            "gridcolor": "white",
            "linecolor": "white",
            "ticks": ""
           },
           "baxis": {
            "gridcolor": "white",
            "linecolor": "white",
            "ticks": ""
           },
           "bgcolor": "#E5ECF6",
           "caxis": {
            "gridcolor": "white",
            "linecolor": "white",
            "ticks": ""
           }
          },
          "title": {
           "x": 0.05
          },
          "xaxis": {
           "automargin": true,
           "gridcolor": "white",
           "linecolor": "white",
           "ticks": "",
           "title": {
            "standoff": 15
           },
           "zerolinecolor": "white",
           "zerolinewidth": 2
          },
          "yaxis": {
           "automargin": true,
           "gridcolor": "white",
           "linecolor": "white",
           "ticks": "",
           "title": {
            "standoff": 15
           },
           "zerolinecolor": "white",
           "zerolinewidth": 2
          }
         }
        },
        "title": {
         "text": "Total Annual Savings for the Whole Community"
        },
        "width": 900,
        "xaxis": {
         "anchor": "y",
         "domain": [
          0,
          0.00012996750812296928
         ],
         "tickangle": 45,
         "title": {
          "text": ""
         },
         "visible": false
        },
        "xaxis2": {
         "anchor": "y2",
         "domain": [
          0.12012996750812296,
          0.25009747563109225
         ],
         "tickangle": 45,
         "title": {
          "text": "Bill<br>Savings<br>usd"
         },
         "visible": true
        },
        "xaxis3": {
         "anchor": "y3",
         "domain": [
          0.37009747563109224,
          0.5000649837540615
         ],
         "tickangle": 45,
         "title": {
          "text": "Emission<br>Savings<br>kgCO2e"
         },
         "visible": true
        },
        "xaxis4": {
         "anchor": "y4",
         "domain": [
          0.6200649837540615,
          0.7500324918770308
         ],
         "tickangle": 45,
         "title": {
          "text": "Electricity<br>Savings<br>kwh"
         },
         "visible": true
        },
        "xaxis5": {
         "anchor": "y5",
         "domain": [
          0.8700324918770308,
          1
         ],
         "tickangle": 45,
         "title": {
          "text": "Gas, Propane,<br>Fuel Oil Savings<br>mmbtu"
         },
         "visible": true
        },
        "yaxis": {
         "anchor": "x",
         "domain": [
          0,
          1
         ],
         "visible": true
        },
        "yaxis2": {
         "anchor": "x2",
         "domain": [
          0,
          1
         ],
         "visible": false
        },
        "yaxis3": {
         "anchor": "x3",
         "domain": [
          0,
          1
         ],
         "visible": false
        },
        "yaxis4": {
         "anchor": "x4",
         "domain": [
          0,
          1
         ],
         "visible": false
        },
        "yaxis5": {
         "anchor": "x5",
         "domain": [
          0,
          1
         ],
         "visible": false
        }
       }
      },
      "text/html": [
       "<div>                            <div id=\"83bf9095-9dc5-4012-b71e-8d854ca18e99\" class=\"plotly-graph-div\" style=\"height:500px; width:900px;\"></div>            <script type=\"text/javascript\">                require([\"plotly\"], function(Plotly) {                    window.PLOTLYENV=window.PLOTLYENV || {};                                    if (document.getElementById(\"83bf9095-9dc5-4012-b71e-8d854ca18e99\")) {                    Plotly.newPlot(                        \"83bf9095-9dc5-4012-b71e-8d854ca18e99\",                        [{\"orientation\":\"h\",\"x\":[0,0,0,0,0,0,0,0,0,0,0,0,0,0,0,0,0,0,0,0,0,0,0,0,0,0,0,0,0,0,0,0,0,0,0,0,0,0,0,0,0,0,0,0,0,0,0,0,0,0,0,0,0,0,0,0,0,0,0,0,0,0,0,0,0,0,0,0,0,0,0,0,0,0,0,0,0,0,0,0,0,0,0,0,0,0,0,0,0,0,0,0,0,0,0,0,0,0,0,0,0,0,0,0,0,0,0,0,0,0,0,0,0,0,0,0,0,0,0,0,0,0,0,0,0,0,0,0,0,0,0,0,0,0,0,0,0,0,0,0,0,0,0,0,0,0,0,0,0,0,0,0,0,0,0,0,0,0,0,0,0,0,0,0,0,0,0,0,0,0,0,0,0,0,0,0],\"y\":[\"Electric Cooking\",\"Electric Clothes Dryer\",\"Induction Cooking\",\"Heat Pump Clothes Dryer\",\"Mininum Efficiency Whole Home Electrification\",\"Heat Pump Water Heater\",\"Mininum Efficiency Heat Pump with Existing Heat Backup\",\"Mininum Efficiency Heat Pump with Electric Heat Backup\",\"Basic Enclosure\",\"Enhanced Enclosure\",\"High Efficiency Heat Pump with Electric Heat Backup\",\"High Efficiency Whole Home Electrification\",\"Basic Enclosure + HPWH + High Efficiency HP/Electric Backup\",\"Enhanced Enclosure + HPWH + High Efficiency HP/Electric Backup\",\"Basic Enclosure + High Efficiency Whole Home Electrification\",\"Enhanced Enclosure + High Efficiency Whole Home Electrification\"],\"type\":\"bar\",\"xaxis\":\"x\",\"yaxis\":\"y\",\"textfont\":{\"size\":10},\"cliponaxis\":false,\"textangle\":0,\"textposition\":\"outside\",\"marker\":{\"line\":{\"color\":\"rgb(255, 255, 255)\"},\"color\":\"rgb(255, 255, 255)\"}},{\"orientation\":\"h\",\"text\":[-182015.37176855368,-115272.05835259888,191654.64435130538,2449844.652724317,6523900.048094642,11466380.299900299,28860662.831289142,29236980.796178706,31005180.995794274,36379631.07325443,65735189.65319706,83392091.15660128,91175242.37922944,92837364.8379836,93913831.60413334,95575954.0628875],\"x\":[-182015.37176855368,-115272.05835259888,191654.64435130538,2449844.652724317,6523900.048094642,11466380.299900299,28860662.831289142,29236980.796178706,31005180.995794274,36379631.07325443,65735189.65319706,83392091.15660128,91175242.37922944,92837364.8379836,93913831.60413334,95575954.0628875],\"y\":[\"Electric Cooking\",\"Electric Clothes Dryer\",\"Induction Cooking\",\"Heat Pump Clothes Dryer\",\"Mininum Efficiency Whole Home Electrification\",\"Heat Pump Water Heater\",\"Mininum Efficiency Heat Pump with Existing Heat Backup\",\"Mininum Efficiency Heat Pump with Electric Heat Backup\",\"Basic Enclosure\",\"Enhanced Enclosure\",\"High Efficiency Heat Pump with Electric Heat Backup\",\"High Efficiency Whole Home Electrification\",\"Basic Enclosure + HPWH + High Efficiency HP/Electric Backup\",\"Enhanced Enclosure + HPWH + High Efficiency HP/Electric Backup\",\"Basic Enclosure + High Efficiency Whole Home Electrification\",\"Enhanced Enclosure + High Efficiency Whole Home Electrification\"],\"type\":\"bar\",\"xaxis\":\"x2\",\"yaxis\":\"y2\",\"textfont\":{\"size\":10},\"cliponaxis\":false,\"textangle\":0,\"textposition\":\"outside\",\"marker\":{\"line\":{\"color\":\"rgb(0, 121, 61)\"},\"color\":\"rgb(0, 121, 61)\"},\"texttemplate\":\"%{text:.3s}\"},{\"orientation\":\"h\",\"text\":[1738716.9819606321,109469.05466047108,2444730.3511143755,4660347.295615813,58226225.09023675,30117277.445562206,85870393.52910651,97052568.44644807,79419412.43569708,93644231.2684836,172714249.20032558,220318206.71843675,234851691.04288825,238607404.9815212,241956768.68961844,245712482.62825137],\"x\":[1738716.9819606321,109469.05466047108,2444730.3511143755,4660347.295615813,58226225.09023675,30117277.445562206,85870393.52910651,97052568.44644807,79419412.43569708,93644231.2684836,172714249.20032558,220318206.71843675,234851691.04288825,238607404.9815212,241956768.68961844,245712482.62825137],\"y\":[\"Electric Cooking\",\"Electric Clothes Dryer\",\"Induction Cooking\",\"Heat Pump Clothes Dryer\",\"Mininum Efficiency Whole Home Electrification\",\"Heat Pump Water Heater\",\"Mininum Efficiency Heat Pump with Existing Heat Backup\",\"Mininum Efficiency Heat Pump with Electric Heat Backup\",\"Basic Enclosure\",\"Enhanced Enclosure\",\"High Efficiency Heat Pump with Electric Heat Backup\",\"High Efficiency Whole Home Electrification\",\"Basic Enclosure + HPWH + High Efficiency HP/Electric Backup\",\"Enhanced Enclosure + HPWH + High Efficiency HP/Electric Backup\",\"Basic Enclosure + High Efficiency Whole Home Electrification\",\"Enhanced Enclosure + High Efficiency Whole Home Electrification\"],\"type\":\"bar\",\"xaxis\":\"x3\",\"yaxis\":\"y3\",\"textfont\":{\"size\":10},\"cliponaxis\":false,\"textangle\":0,\"textposition\":\"outside\",\"marker\":{\"line\":{\"color\":\"rgb(0, 121, 61)\"},\"color\":\"rgb(0, 121, 61)\"},\"texttemplate\":\"%{text:.3s}\"},{\"orientation\":\"h\",\"text\":[-6412656.867989991,-1704668.5876111924,-3571029.5657840595,17801908.50483785,-79057435.51862597,65471103.43628962,161633131.29481307,130714853.68339854,195009489.2344344,228833065.33597508,408270397.6408062,505491546.29511267,571273902.698508,583913617.2137488,585504781.6375618,598144496.1528026],\"x\":[-6412656.867989991,-1704668.5876111924,-3571029.5657840595,17801908.50483785,-79057435.51862597,65471103.43628962,161633131.29481307,130714853.68339854,195009489.2344344,228833065.33597508,408270397.6408062,505491546.29511267,571273902.698508,583913617.2137488,585504781.6375618,598144496.1528026],\"y\":[\"Electric Cooking\",\"Electric Clothes Dryer\",\"Induction Cooking\",\"Heat Pump Clothes Dryer\",\"Mininum Efficiency Whole Home Electrification\",\"Heat Pump Water Heater\",\"Mininum Efficiency Heat Pump with Existing Heat Backup\",\"Mininum Efficiency Heat Pump with Electric Heat Backup\",\"Basic Enclosure\",\"Enhanced Enclosure\",\"High Efficiency Heat Pump with Electric Heat Backup\",\"High Efficiency Whole Home Electrification\",\"Basic Enclosure + HPWH + High Efficiency HP/Electric Backup\",\"Enhanced Enclosure + HPWH + High Efficiency HP/Electric Backup\",\"Basic Enclosure + High Efficiency Whole Home Electrification\",\"Enhanced Enclosure + High Efficiency Whole Home Electrification\"],\"type\":\"bar\",\"xaxis\":\"x4\",\"yaxis\":\"y4\",\"textfont\":{\"size\":10},\"cliponaxis\":false,\"textangle\":0,\"textposition\":\"outside\",\"marker\":{\"line\":{\"color\":\"rgb(0, 121, 61)\"},\"color\":\"rgb(0, 121, 61)\"},\"texttemplate\":\"%{text:.3s}\"},{\"orientation\":\"h\",\"text\":[48485.403662085766,7579.684418273646,48485.122376149484,7579.813478879707,1233024.1669182384,215595.7316691919,562551.993929293,884938.3884818183,392403.5328666667,457997.4673717172,884913.957309091,1233024.1669182384,1176959.231063209,1176959.231063209,1233024.1669182384,1233024.1669182384],\"x\":[48485.403662085766,7579.684418273646,48485.122376149484,7579.813478879707,1233024.1669182384,215595.7316691919,562551.993929293,884938.3884818183,392403.5328666667,457997.4673717172,884913.957309091,1233024.1669182384,1176959.231063209,1176959.231063209,1233024.1669182384,1233024.1669182384],\"y\":[\"Electric Cooking\",\"Electric Clothes Dryer\",\"Induction Cooking\",\"Heat Pump Clothes Dryer\",\"Mininum Efficiency Whole Home Electrification\",\"Heat Pump Water Heater\",\"Mininum Efficiency Heat Pump with Existing Heat Backup\",\"Mininum Efficiency Heat Pump with Electric Heat Backup\",\"Basic Enclosure\",\"Enhanced Enclosure\",\"High Efficiency Heat Pump with Electric Heat Backup\",\"High Efficiency Whole Home Electrification\",\"Basic Enclosure + HPWH + High Efficiency HP/Electric Backup\",\"Enhanced Enclosure + HPWH + High Efficiency HP/Electric Backup\",\"Basic Enclosure + High Efficiency Whole Home Electrification\",\"Enhanced Enclosure + High Efficiency Whole Home Electrification\"],\"type\":\"bar\",\"xaxis\":\"x5\",\"yaxis\":\"y5\",\"textfont\":{\"size\":10},\"cliponaxis\":false,\"textangle\":0,\"textposition\":\"outside\",\"marker\":{\"line\":{\"color\":\"rgb(0, 121, 61)\"},\"color\":\"rgb(0, 121, 61)\"},\"texttemplate\":\"%{text:.3s}\"}],                        {\"template\":{\"data\":{\"histogram2dcontour\":[{\"type\":\"histogram2dcontour\",\"colorbar\":{\"outlinewidth\":0,\"ticks\":\"\"},\"colorscale\":[[0.0,\"#0d0887\"],[0.1111111111111111,\"#46039f\"],[0.2222222222222222,\"#7201a8\"],[0.3333333333333333,\"#9c179e\"],[0.4444444444444444,\"#bd3786\"],[0.5555555555555556,\"#d8576b\"],[0.6666666666666666,\"#ed7953\"],[0.7777777777777778,\"#fb9f3a\"],[0.8888888888888888,\"#fdca26\"],[1.0,\"#f0f921\"]]}],\"choropleth\":[{\"type\":\"choropleth\",\"colorbar\":{\"outlinewidth\":0,\"ticks\":\"\"}}],\"histogram2d\":[{\"type\":\"histogram2d\",\"colorbar\":{\"outlinewidth\":0,\"ticks\":\"\"},\"colorscale\":[[0.0,\"#0d0887\"],[0.1111111111111111,\"#46039f\"],[0.2222222222222222,\"#7201a8\"],[0.3333333333333333,\"#9c179e\"],[0.4444444444444444,\"#bd3786\"],[0.5555555555555556,\"#d8576b\"],[0.6666666666666666,\"#ed7953\"],[0.7777777777777778,\"#fb9f3a\"],[0.8888888888888888,\"#fdca26\"],[1.0,\"#f0f921\"]]}],\"heatmap\":[{\"type\":\"heatmap\",\"colorbar\":{\"outlinewidth\":0,\"ticks\":\"\"},\"colorscale\":[[0.0,\"#0d0887\"],[0.1111111111111111,\"#46039f\"],[0.2222222222222222,\"#7201a8\"],[0.3333333333333333,\"#9c179e\"],[0.4444444444444444,\"#bd3786\"],[0.5555555555555556,\"#d8576b\"],[0.6666666666666666,\"#ed7953\"],[0.7777777777777778,\"#fb9f3a\"],[0.8888888888888888,\"#fdca26\"],[1.0,\"#f0f921\"]]}],\"heatmapgl\":[{\"type\":\"heatmapgl\",\"colorbar\":{\"outlinewidth\":0,\"ticks\":\"\"},\"colorscale\":[[0.0,\"#0d0887\"],[0.1111111111111111,\"#46039f\"],[0.2222222222222222,\"#7201a8\"],[0.3333333333333333,\"#9c179e\"],[0.4444444444444444,\"#bd3786\"],[0.5555555555555556,\"#d8576b\"],[0.6666666666666666,\"#ed7953\"],[0.7777777777777778,\"#fb9f3a\"],[0.8888888888888888,\"#fdca26\"],[1.0,\"#f0f921\"]]}],\"contourcarpet\":[{\"type\":\"contourcarpet\",\"colorbar\":{\"outlinewidth\":0,\"ticks\":\"\"}}],\"contour\":[{\"type\":\"contour\",\"colorbar\":{\"outlinewidth\":0,\"ticks\":\"\"},\"colorscale\":[[0.0,\"#0d0887\"],[0.1111111111111111,\"#46039f\"],[0.2222222222222222,\"#7201a8\"],[0.3333333333333333,\"#9c179e\"],[0.4444444444444444,\"#bd3786\"],[0.5555555555555556,\"#d8576b\"],[0.6666666666666666,\"#ed7953\"],[0.7777777777777778,\"#fb9f3a\"],[0.8888888888888888,\"#fdca26\"],[1.0,\"#f0f921\"]]}],\"surface\":[{\"type\":\"surface\",\"colorbar\":{\"outlinewidth\":0,\"ticks\":\"\"},\"colorscale\":[[0.0,\"#0d0887\"],[0.1111111111111111,\"#46039f\"],[0.2222222222222222,\"#7201a8\"],[0.3333333333333333,\"#9c179e\"],[0.4444444444444444,\"#bd3786\"],[0.5555555555555556,\"#d8576b\"],[0.6666666666666666,\"#ed7953\"],[0.7777777777777778,\"#fb9f3a\"],[0.8888888888888888,\"#fdca26\"],[1.0,\"#f0f921\"]]}],\"mesh3d\":[{\"type\":\"mesh3d\",\"colorbar\":{\"outlinewidth\":0,\"ticks\":\"\"}}],\"scatter\":[{\"fillpattern\":{\"fillmode\":\"overlay\",\"size\":10,\"solidity\":0.2},\"type\":\"scatter\"}],\"parcoords\":[{\"type\":\"parcoords\",\"line\":{\"colorbar\":{\"outlinewidth\":0,\"ticks\":\"\"}}}],\"scatterpolargl\":[{\"type\":\"scatterpolargl\",\"marker\":{\"colorbar\":{\"outlinewidth\":0,\"ticks\":\"\"}}}],\"bar\":[{\"error_x\":{\"color\":\"#2a3f5f\"},\"error_y\":{\"color\":\"#2a3f5f\"},\"marker\":{\"line\":{\"color\":\"#E5ECF6\",\"width\":0.5},\"pattern\":{\"fillmode\":\"overlay\",\"size\":10,\"solidity\":0.2}},\"type\":\"bar\"}],\"scattergeo\":[{\"type\":\"scattergeo\",\"marker\":{\"colorbar\":{\"outlinewidth\":0,\"ticks\":\"\"}}}],\"scatterpolar\":[{\"type\":\"scatterpolar\",\"marker\":{\"colorbar\":{\"outlinewidth\":0,\"ticks\":\"\"}}}],\"histogram\":[{\"marker\":{\"pattern\":{\"fillmode\":\"overlay\",\"size\":10,\"solidity\":0.2}},\"type\":\"histogram\"}],\"scattergl\":[{\"type\":\"scattergl\",\"marker\":{\"colorbar\":{\"outlinewidth\":0,\"ticks\":\"\"}}}],\"scatter3d\":[{\"type\":\"scatter3d\",\"line\":{\"colorbar\":{\"outlinewidth\":0,\"ticks\":\"\"}},\"marker\":{\"colorbar\":{\"outlinewidth\":0,\"ticks\":\"\"}}}],\"scattermapbox\":[{\"type\":\"scattermapbox\",\"marker\":{\"colorbar\":{\"outlinewidth\":0,\"ticks\":\"\"}}}],\"scatterternary\":[{\"type\":\"scatterternary\",\"marker\":{\"colorbar\":{\"outlinewidth\":0,\"ticks\":\"\"}}}],\"scattercarpet\":[{\"type\":\"scattercarpet\",\"marker\":{\"colorbar\":{\"outlinewidth\":0,\"ticks\":\"\"}}}],\"carpet\":[{\"aaxis\":{\"endlinecolor\":\"#2a3f5f\",\"gridcolor\":\"white\",\"linecolor\":\"white\",\"minorgridcolor\":\"white\",\"startlinecolor\":\"#2a3f5f\"},\"baxis\":{\"endlinecolor\":\"#2a3f5f\",\"gridcolor\":\"white\",\"linecolor\":\"white\",\"minorgridcolor\":\"white\",\"startlinecolor\":\"#2a3f5f\"},\"type\":\"carpet\"}],\"table\":[{\"cells\":{\"fill\":{\"color\":\"#EBF0F8\"},\"line\":{\"color\":\"white\"}},\"header\":{\"fill\":{\"color\":\"#C8D4E3\"},\"line\":{\"color\":\"white\"}},\"type\":\"table\"}],\"barpolar\":[{\"marker\":{\"line\":{\"color\":\"#E5ECF6\",\"width\":0.5},\"pattern\":{\"fillmode\":\"overlay\",\"size\":10,\"solidity\":0.2}},\"type\":\"barpolar\"}],\"pie\":[{\"automargin\":true,\"type\":\"pie\"}]},\"layout\":{\"autotypenumbers\":\"strict\",\"colorway\":[\"#636efa\",\"#EF553B\",\"#00cc96\",\"#ab63fa\",\"#FFA15A\",\"#19d3f3\",\"#FF6692\",\"#B6E880\",\"#FF97FF\",\"#FECB52\"],\"font\":{\"color\":\"#2a3f5f\"},\"hovermode\":\"closest\",\"hoverlabel\":{\"align\":\"left\"},\"paper_bgcolor\":\"white\",\"plot_bgcolor\":\"#E5ECF6\",\"polar\":{\"bgcolor\":\"#E5ECF6\",\"angularaxis\":{\"gridcolor\":\"white\",\"linecolor\":\"white\",\"ticks\":\"\"},\"radialaxis\":{\"gridcolor\":\"white\",\"linecolor\":\"white\",\"ticks\":\"\"}},\"ternary\":{\"bgcolor\":\"#E5ECF6\",\"aaxis\":{\"gridcolor\":\"white\",\"linecolor\":\"white\",\"ticks\":\"\"},\"baxis\":{\"gridcolor\":\"white\",\"linecolor\":\"white\",\"ticks\":\"\"},\"caxis\":{\"gridcolor\":\"white\",\"linecolor\":\"white\",\"ticks\":\"\"}},\"coloraxis\":{\"colorbar\":{\"outlinewidth\":0,\"ticks\":\"\"}},\"colorscale\":{\"sequential\":[[0.0,\"#0d0887\"],[0.1111111111111111,\"#46039f\"],[0.2222222222222222,\"#7201a8\"],[0.3333333333333333,\"#9c179e\"],[0.4444444444444444,\"#bd3786\"],[0.5555555555555556,\"#d8576b\"],[0.6666666666666666,\"#ed7953\"],[0.7777777777777778,\"#fb9f3a\"],[0.8888888888888888,\"#fdca26\"],[1.0,\"#f0f921\"]],\"sequentialminus\":[[0.0,\"#0d0887\"],[0.1111111111111111,\"#46039f\"],[0.2222222222222222,\"#7201a8\"],[0.3333333333333333,\"#9c179e\"],[0.4444444444444444,\"#bd3786\"],[0.5555555555555556,\"#d8576b\"],[0.6666666666666666,\"#ed7953\"],[0.7777777777777778,\"#fb9f3a\"],[0.8888888888888888,\"#fdca26\"],[1.0,\"#f0f921\"]],\"diverging\":[[0,\"#8e0152\"],[0.1,\"#c51b7d\"],[0.2,\"#de77ae\"],[0.3,\"#f1b6da\"],[0.4,\"#fde0ef\"],[0.5,\"#f7f7f7\"],[0.6,\"#e6f5d0\"],[0.7,\"#b8e186\"],[0.8,\"#7fbc41\"],[0.9,\"#4d9221\"],[1,\"#276419\"]]},\"xaxis\":{\"gridcolor\":\"white\",\"linecolor\":\"white\",\"ticks\":\"\",\"title\":{\"standoff\":15},\"zerolinecolor\":\"white\",\"automargin\":true,\"zerolinewidth\":2},\"yaxis\":{\"gridcolor\":\"white\",\"linecolor\":\"white\",\"ticks\":\"\",\"title\":{\"standoff\":15},\"zerolinecolor\":\"white\",\"automargin\":true,\"zerolinewidth\":2},\"scene\":{\"xaxis\":{\"backgroundcolor\":\"#E5ECF6\",\"gridcolor\":\"white\",\"linecolor\":\"white\",\"showbackground\":true,\"ticks\":\"\",\"zerolinecolor\":\"white\",\"gridwidth\":2},\"yaxis\":{\"backgroundcolor\":\"#E5ECF6\",\"gridcolor\":\"white\",\"linecolor\":\"white\",\"showbackground\":true,\"ticks\":\"\",\"zerolinecolor\":\"white\",\"gridwidth\":2},\"zaxis\":{\"backgroundcolor\":\"#E5ECF6\",\"gridcolor\":\"white\",\"linecolor\":\"white\",\"showbackground\":true,\"ticks\":\"\",\"zerolinecolor\":\"white\",\"gridwidth\":2}},\"shapedefaults\":{\"line\":{\"color\":\"#2a3f5f\"}},\"annotationdefaults\":{\"arrowcolor\":\"#2a3f5f\",\"arrowhead\":0,\"arrowwidth\":1},\"geo\":{\"bgcolor\":\"white\",\"landcolor\":\"#E5ECF6\",\"subunitcolor\":\"white\",\"showland\":true,\"showlakes\":true,\"lakecolor\":\"white\"},\"title\":{\"x\":0.05},\"mapbox\":{\"style\":\"light\"}}},\"xaxis\":{\"anchor\":\"y\",\"domain\":[0.0,0.00012996750812296928],\"title\":{\"text\":\"\"},\"visible\":false,\"tickangle\":45},\"yaxis\":{\"anchor\":\"x\",\"domain\":[0.0,1.0],\"visible\":true},\"xaxis2\":{\"anchor\":\"y2\",\"domain\":[0.12012996750812296,0.25009747563109225],\"title\":{\"text\":\"Bill<br>Savings<br>usd\"},\"visible\":true,\"tickangle\":45},\"yaxis2\":{\"anchor\":\"x2\",\"domain\":[0.0,1.0],\"visible\":false},\"xaxis3\":{\"anchor\":\"y3\",\"domain\":[0.37009747563109224,0.5000649837540615],\"title\":{\"text\":\"Emission<br>Savings<br>kgCO2e\"},\"visible\":true,\"tickangle\":45},\"yaxis3\":{\"anchor\":\"x3\",\"domain\":[0.0,1.0],\"visible\":false},\"xaxis4\":{\"anchor\":\"y4\",\"domain\":[0.6200649837540615,0.7500324918770308],\"title\":{\"text\":\"Electricity<br>Savings<br>kwh\"},\"visible\":true,\"tickangle\":45},\"yaxis4\":{\"anchor\":\"x4\",\"domain\":[0.0,1.0],\"visible\":false},\"xaxis5\":{\"anchor\":\"y5\",\"domain\":[0.8700324918770308,1.0],\"title\":{\"text\":\"Gas, Propane,<br>Fuel Oil Savings<br>mmbtu\"},\"visible\":true,\"tickangle\":45},\"yaxis5\":{\"anchor\":\"x5\",\"domain\":[0.0,1.0],\"visible\":false},\"title\":{\"text\":\"Total Annual Savings for the Whole Community\"},\"font\":{\"size\":10},\"autosize\":false,\"width\":900,\"height\":500,\"plot_bgcolor\":\"rgba(0, 0, 0, 0)\",\"showlegend\":false},                        {\"responsive\": true}                    ).then(function(){\n",
       "                            \n",
       "var gd = document.getElementById('83bf9095-9dc5-4012-b71e-8d854ca18e99');\n",
       "var x = new MutationObserver(function (mutations, observer) {{\n",
       "        var display = window.getComputedStyle(gd).display;\n",
       "        if (!display || display === 'none') {{\n",
       "            console.log([gd, 'removed!']);\n",
       "            Plotly.purge(gd);\n",
       "            observer.disconnect();\n",
       "        }}\n",
       "}});\n",
       "\n",
       "// Listen for the removal of the full notebook cells\n",
       "var notebookContainer = gd.closest('#notebook-container');\n",
       "if (notebookContainer) {{\n",
       "    x.observe(notebookContainer, {childList: true});\n",
       "}}\n",
       "\n",
       "// Listen for the clearing of the current output cell\n",
       "var outputEl = gd.closest('.output');\n",
       "if (outputEl) {{\n",
       "    x.observe(outputEl, {childList: true});\n",
       "}}\n",
       "\n",
       "                        })                };                });            </script>        </div>"
      ]
     },
     "metadata": {},
     "output_type": "display_data"
    }
   ],
   "source": [
    "# flavor 1 - with electricity and non-electricity split\n",
    "def figure_total_savings(commnity_results):\n",
    "    results = commnity_results[['upgrade_name',\n",
    "                       'saving_energy.electricity_kwh',\n",
    "                      'saving_energy.natural_gas_therm',\n",
    "                                'saving_energy.fuel_oil_mmbtu',\n",
    "                                'saving_energy.propane_mmbtu',\n",
    "                       'saving_cbill.total_usd',\n",
    "                       'saving_emission.total_kgCO2e',\n",
    "                                'sample_weight']]\n",
    "    results = results.loc[results['upgrade_name'] != 'baseline']\n",
    "    results['saving_energy.natural_gas_fuel_oil_propane_mmbtu'] = results['saving_energy.natural_gas_therm']*0.1 + results['saving_energy.fuel_oil_mmbtu']+ results['saving_energy.propane_mmbtu']\n",
    "    results['saving_energy.electricity_kwh'] = results['saving_energy.electricity_kwh']*results['sample_weight']\n",
    "    results['saving_energy.natural_gas_fuel_oil_propane_mmbtu'] = results['saving_energy.natural_gas_fuel_oil_propane_mmbtu']*results['sample_weight']\n",
    "    results['saving_cbill.total_usd'] = results['saving_cbill.total_usd']*results['sample_weight']\n",
    "    results['saving_emission.total_kgCO2e'] = results['saving_emission.total_kgCO2e']*results['sample_weight']\n",
    "    \n",
    "    agg_functions = {'upgrade_name': 'first',\n",
    "                     'saving_energy.electricity_kwh': 'sum',\n",
    "                     'saving_energy.natural_gas_fuel_oil_propane_mmbtu': 'sum', \n",
    "                     'saving_cbill.total_usd': 'sum',\n",
    "                     'saving_emission.total_kgCO2e': 'sum'}\n",
    "    results = results.groupby(results['upgrade_name']).aggregate(agg_functions)\n",
    "    results = results.sort_values('saving_cbill.total_usd')\n",
    "    \n",
    "    fig = make_subplots(rows=1, cols=5, horizontal_spacing=0.12, column_widths=[0.001, 1, 1, 1, 1])\n",
    "    \n",
    "    fig.add_trace(go.Bar(\n",
    "        x=[0] * 176,\n",
    "        y=results['upgrade_name'],\n",
    "        text=None,\n",
    "        orientation='h'), row=1, col=1)\n",
    "    \n",
    "    fig.add_trace(go.Bar(\n",
    "        x=results['saving_cbill.total_usd'],\n",
    "        y=results['upgrade_name'],\n",
    "        text=results['saving_cbill.total_usd'],\n",
    "        orientation='h'), row=1, col=2)\n",
    "    \n",
    "    fig.add_trace(go.Bar(\n",
    "        x=results['saving_emission.total_kgCO2e'],\n",
    "        y=results['upgrade_name'],\n",
    "        text=results['saving_emission.total_kgCO2e'],\n",
    "        orientation='h'),row=1, col=3)\n",
    "    \n",
    "    fig.add_trace(go.Bar(\n",
    "        x=results['saving_energy.electricity_kwh'],\n",
    "        y=results['upgrade_name'],\n",
    "        text=results['saving_energy.electricity_kwh'],\n",
    "        orientation='h'),row=1, col=4)\n",
    "    \n",
    "    fig.add_trace(go.Bar(\n",
    "        x=results['saving_energy.natural_gas_fuel_oil_propane_mmbtu'],\n",
    "        y=results['upgrade_name'],\n",
    "        text=results['saving_energy.natural_gas_fuel_oil_propane_mmbtu'],\n",
    "        orientation='h'),row=1, col=5)\n",
    "\n",
    "    fig.update_traces(textfont_size=10, textangle=0, textposition=\"outside\", cliponaxis=False)\n",
    "    fig.update_traces(marker_color='rgb(0, 121, 61)', marker_line_color='rgb(0, 121, 61)')\n",
    "    fig.update_traces(marker_color='rgb(255, 255, 255)', marker_line_color='rgb(255, 255, 255)',row=1,col=1)\n",
    "    fig.update_traces(texttemplate='%{text:.3s}', textposition='outside',row=1,col=2)\n",
    "    fig.update_traces(texttemplate='%{text:.3s}', textposition='outside',row=1,col=3)\n",
    "    fig.update_traces(texttemplate='%{text:.3s}', textposition='outside',row=1,col=4)\n",
    "    fig.update_traces(texttemplate='%{text:.3s}', textposition='outside',row=1,col=5)\n",
    "    fig.update_layout(xaxis_title=\"\", xaxis_visible=False, yaxis_visible=True,\n",
    "                      xaxis2_title=\"Bill<br>Savings<br>usd\", xaxis2_visible=True, yaxis2_visible=False,\n",
    "                      xaxis3_title=\"Emission<br>Savings<br>kgCO2e\", xaxis3_visible=True, yaxis3_visible=False,\n",
    "                      xaxis4_title=\"Electricity<br>Savings<br>kwh\", xaxis4_visible=True, yaxis4_visible=False,\n",
    "                      xaxis5_title=\"Gas, Propane,<br>Fuel Oil Savings<br>mmbtu\", xaxis5_visible=True, yaxis5_visible=False,\n",
    "                     title='Total Annual Savings for the Whole Community')\n",
    "    fig.update_layout(\n",
    "    autosize=False,\n",
    "    width=900,\n",
    "    height=500,\n",
    "    font=dict(size=10),\n",
    "    plot_bgcolor='rgba(0, 0, 0, 0)',)\n",
    "    fig.update_xaxes(tickangle=45)\n",
    "    fig.update_layout(showlegend=False)\n",
    "    \n",
    "    fig.show()\n",
    "    fig.write_image(fig_dir / 'total_annual_savings_1.svg')\n",
    "\n",
    "figure_total_savings(community_results)"
   ]
  },
  {
   "cell_type": "code",
   "execution_count": 48,
   "id": "ebec6b8d",
   "metadata": {},
   "outputs": [
    {
     "data": {
      "application/vnd.plotly.v1+json": {
       "config": {
        "plotlyServerURL": "https://plot.ly"
       },
       "data": [
        {
         "cliponaxis": false,
         "marker": {
          "color": "rgb(255, 255, 255)",
          "line": {
           "color": "rgb(255, 255, 255)"
          }
         },
         "orientation": "h",
         "textangle": 0,
         "textfont": {
          "size": 10
         },
         "textposition": "outside",
         "type": "bar",
         "x": [
          0,
          0,
          0,
          0,
          0,
          0,
          0,
          0,
          0,
          0,
          0,
          0,
          0,
          0,
          0,
          0,
          0,
          0,
          0,
          0,
          0,
          0,
          0,
          0,
          0,
          0,
          0,
          0,
          0,
          0,
          0,
          0,
          0,
          0,
          0,
          0,
          0,
          0,
          0,
          0,
          0,
          0,
          0,
          0,
          0,
          0,
          0,
          0,
          0,
          0,
          0,
          0,
          0,
          0,
          0,
          0,
          0,
          0,
          0,
          0,
          0,
          0,
          0,
          0,
          0,
          0,
          0,
          0,
          0,
          0,
          0,
          0,
          0,
          0,
          0,
          0,
          0,
          0,
          0,
          0,
          0,
          0,
          0,
          0,
          0,
          0,
          0,
          0,
          0,
          0,
          0,
          0,
          0,
          0,
          0,
          0,
          0,
          0,
          0,
          0,
          0,
          0,
          0,
          0,
          0,
          0,
          0,
          0,
          0,
          0,
          0,
          0,
          0,
          0,
          0,
          0,
          0,
          0,
          0,
          0,
          0,
          0,
          0,
          0,
          0,
          0,
          0,
          0,
          0,
          0,
          0,
          0,
          0,
          0,
          0,
          0,
          0,
          0,
          0,
          0,
          0,
          0,
          0,
          0,
          0,
          0,
          0,
          0,
          0,
          0,
          0,
          0,
          0,
          0,
          0,
          0,
          0,
          0,
          0,
          0,
          0,
          0,
          0,
          0,
          0,
          0,
          0,
          0,
          0,
          0,
          0,
          0,
          0,
          0,
          0,
          0
         ],
         "xaxis": "x",
         "y": [
          "Electric Cooking",
          "Electric Clothes Dryer",
          "Induction Cooking",
          "Heat Pump Clothes Dryer",
          "Mininum Efficiency Whole Home Electrification",
          "Heat Pump Water Heater",
          "Mininum Efficiency Heat Pump with Existing Heat Backup",
          "Mininum Efficiency Heat Pump with Electric Heat Backup",
          "Basic Enclosure",
          "Enhanced Enclosure",
          "High Efficiency Heat Pump with Electric Heat Backup",
          "High Efficiency Whole Home Electrification",
          "Basic Enclosure + HPWH + High Efficiency HP/Electric Backup",
          "Enhanced Enclosure + HPWH + High Efficiency HP/Electric Backup",
          "Basic Enclosure + High Efficiency Whole Home Electrification",
          "Enhanced Enclosure + High Efficiency Whole Home Electrification"
         ],
         "yaxis": "y"
        },
        {
         "cliponaxis": false,
         "marker": {
          "color": "rgb(0, 121, 61)",
          "line": {
           "color": "rgb(0, 121, 61)"
          }
         },
         "orientation": "h",
         "text": [
          -182015.37176855368,
          -115272.05835259888,
          191654.64435130538,
          2449844.652724317,
          6523900.048094642,
          11466380.299900299,
          28860662.831289142,
          29236980.796178706,
          31005180.995794274,
          36379631.07325443,
          65735189.65319706,
          83392091.15660128,
          91175242.37922944,
          92837364.8379836,
          93913831.60413334,
          95575954.0628875
         ],
         "textangle": 0,
         "textfont": {
          "size": 10
         },
         "textposition": "outside",
         "texttemplate": "%{text:.3s}",
         "type": "bar",
         "x": [
          -182015.37176855368,
          -115272.05835259888,
          191654.64435130538,
          2449844.652724317,
          6523900.048094642,
          11466380.299900299,
          28860662.831289142,
          29236980.796178706,
          31005180.995794274,
          36379631.07325443,
          65735189.65319706,
          83392091.15660128,
          91175242.37922944,
          92837364.8379836,
          93913831.60413334,
          95575954.0628875
         ],
         "xaxis": "x2",
         "y": [
          "Electric Cooking",
          "Electric Clothes Dryer",
          "Induction Cooking",
          "Heat Pump Clothes Dryer",
          "Mininum Efficiency Whole Home Electrification",
          "Heat Pump Water Heater",
          "Mininum Efficiency Heat Pump with Existing Heat Backup",
          "Mininum Efficiency Heat Pump with Electric Heat Backup",
          "Basic Enclosure",
          "Enhanced Enclosure",
          "High Efficiency Heat Pump with Electric Heat Backup",
          "High Efficiency Whole Home Electrification",
          "Basic Enclosure + HPWH + High Efficiency HP/Electric Backup",
          "Enhanced Enclosure + HPWH + High Efficiency HP/Electric Backup",
          "Basic Enclosure + High Efficiency Whole Home Electrification",
          "Enhanced Enclosure + High Efficiency Whole Home Electrification"
         ],
         "yaxis": "y2"
        },
        {
         "cliponaxis": false,
         "marker": {
          "color": "rgb(0, 121, 61)",
          "line": {
           "color": "rgb(0, 121, 61)"
          }
         },
         "orientation": "h",
         "text": [
          1738716.9819606321,
          109469.05466047108,
          2444730.3511143755,
          4660347.295615813,
          58226225.09023675,
          30117277.445562206,
          85870393.52910651,
          97052568.44644807,
          79419412.43569708,
          93644231.2684836,
          172714249.20032558,
          220318206.71843675,
          234851691.04288825,
          238607404.9815212,
          241956768.68961844,
          245712482.62825137
         ],
         "textangle": 0,
         "textfont": {
          "size": 10
         },
         "textposition": "outside",
         "texttemplate": "%{text:.3s}",
         "type": "bar",
         "x": [
          1738716.9819606321,
          109469.05466047108,
          2444730.3511143755,
          4660347.295615813,
          58226225.09023675,
          30117277.445562206,
          85870393.52910651,
          97052568.44644807,
          79419412.43569708,
          93644231.2684836,
          172714249.20032558,
          220318206.71843675,
          234851691.04288825,
          238607404.9815212,
          241956768.68961844,
          245712482.62825137
         ],
         "xaxis": "x3",
         "y": [
          "Electric Cooking",
          "Electric Clothes Dryer",
          "Induction Cooking",
          "Heat Pump Clothes Dryer",
          "Mininum Efficiency Whole Home Electrification",
          "Heat Pump Water Heater",
          "Mininum Efficiency Heat Pump with Existing Heat Backup",
          "Mininum Efficiency Heat Pump with Electric Heat Backup",
          "Basic Enclosure",
          "Enhanced Enclosure",
          "High Efficiency Heat Pump with Electric Heat Backup",
          "High Efficiency Whole Home Electrification",
          "Basic Enclosure + HPWH + High Efficiency HP/Electric Backup",
          "Enhanced Enclosure + HPWH + High Efficiency HP/Electric Backup",
          "Basic Enclosure + High Efficiency Whole Home Electrification",
          "Enhanced Enclosure + High Efficiency Whole Home Electrification"
         ],
         "yaxis": "y3"
        },
        {
         "cliponaxis": false,
         "marker": {
          "color": "rgb(0, 121, 61)",
          "line": {
           "color": "rgb(0, 121, 61)"
          }
         },
         "orientation": "h",
         "text": [
          272.6609999999999,
          16.709999999999965,
          385.1440000000005,
          776.2280000000003,
          8012.352,
          4572.663,
          12383.23,
          14595.204,
          10491.087,
          12280.517,
          25285.972,
          32532.239,
          34179.089,
          34629.783,
          35340.461,
          35791.155
         ],
         "textangle": 0,
         "textfont": {
          "size": 10
         },
         "textposition": "outside",
         "texttemplate": "%{text:.3s}",
         "type": "bar",
         "x": [
          272.6609999999999,
          16.709999999999965,
          385.1440000000005,
          776.2280000000003,
          8012.352,
          4572.663,
          12383.23,
          14595.204,
          10491.087,
          12280.517,
          25285.972,
          32532.239,
          34179.089,
          34629.783,
          35340.461,
          35791.155
         ],
         "xaxis": "x4",
         "y": [
          "Electric Cooking",
          "Electric Clothes Dryer",
          "Induction Cooking",
          "Heat Pump Clothes Dryer",
          "Mininum Efficiency Whole Home Electrification",
          "Heat Pump Water Heater",
          "Mininum Efficiency Heat Pump with Existing Heat Backup",
          "Mininum Efficiency Heat Pump with Electric Heat Backup",
          "Basic Enclosure",
          "Enhanced Enclosure",
          "High Efficiency Heat Pump with Electric Heat Backup",
          "High Efficiency Whole Home Electrification",
          "Basic Enclosure + HPWH + High Efficiency HP/Electric Backup",
          "Enhanced Enclosure + HPWH + High Efficiency HP/Electric Backup",
          "Basic Enclosure + High Efficiency Whole Home Electrification",
          "Enhanced Enclosure + High Efficiency Whole Home Electrification"
         ],
         "yaxis": "y4"
        },
        {
         "cliponaxis": false,
         "marker": {
          "color": "rgb(0, 121, 61)",
          "line": {
           "color": "rgb(0, 121, 61)"
          }
         },
         "orientation": "h",
         "text": [
          -6412656.867989991,
          -1704668.5876111924,
          -3571029.5657840595,
          17801908.50483785,
          -79057435.51862597,
          65471103.43628962,
          161633131.29481307,
          130714853.68339854,
          195009489.2344344,
          228833065.33597508,
          408270397.6408062,
          505491546.29511267,
          571273902.698508,
          583913617.2137488,
          585504781.6375618,
          598144496.1528026
         ],
         "textangle": 0,
         "textfont": {
          "size": 10
         },
         "textposition": "outside",
         "texttemplate": "%{text:.3s}",
         "type": "bar",
         "x": [
          -6412656.867989991,
          -1704668.5876111924,
          -3571029.5657840595,
          17801908.50483785,
          -79057435.51862597,
          65471103.43628962,
          161633131.29481307,
          130714853.68339854,
          195009489.2344344,
          228833065.33597508,
          408270397.6408062,
          505491546.29511267,
          571273902.698508,
          583913617.2137488,
          585504781.6375618,
          598144496.1528026
         ],
         "xaxis": "x5",
         "y": [
          "Electric Cooking",
          "Electric Clothes Dryer",
          "Induction Cooking",
          "Heat Pump Clothes Dryer",
          "Mininum Efficiency Whole Home Electrification",
          "Heat Pump Water Heater",
          "Mininum Efficiency Heat Pump with Existing Heat Backup",
          "Mininum Efficiency Heat Pump with Electric Heat Backup",
          "Basic Enclosure",
          "Enhanced Enclosure",
          "High Efficiency Heat Pump with Electric Heat Backup",
          "High Efficiency Whole Home Electrification",
          "Basic Enclosure + HPWH + High Efficiency HP/Electric Backup",
          "Enhanced Enclosure + HPWH + High Efficiency HP/Electric Backup",
          "Basic Enclosure + High Efficiency Whole Home Electrification",
          "Enhanced Enclosure + High Efficiency Whole Home Electrification"
         ],
         "yaxis": "y5"
        },
        {
         "cliponaxis": false,
         "marker": {
          "color": "rgb(0, 121, 61)",
          "line": {
           "color": "rgb(0, 121, 61)"
          }
         },
         "orientation": "h",
         "text": [
          48485.403662085766,
          7579.684418273646,
          48485.122376149484,
          7579.813478879707,
          1233024.1669182384,
          215595.7316691919,
          562551.993929293,
          884938.3884818183,
          392403.5328666667,
          457997.4673717172,
          884913.957309091,
          1233024.1669182384,
          1176959.231063209,
          1176959.231063209,
          1233024.1669182384,
          1233024.1669182384
         ],
         "textangle": 0,
         "textfont": {
          "size": 10
         },
         "textposition": "outside",
         "texttemplate": "%{text:.3s}",
         "type": "bar",
         "x": [
          48485.403662085766,
          7579.684418273646,
          48485.122376149484,
          7579.813478879707,
          1233024.1669182384,
          215595.7316691919,
          562551.993929293,
          884938.3884818183,
          392403.5328666667,
          457997.4673717172,
          884913.957309091,
          1233024.1669182384,
          1176959.231063209,
          1176959.231063209,
          1233024.1669182384,
          1233024.1669182384
         ],
         "xaxis": "x6",
         "y": [
          "Electric Cooking",
          "Electric Clothes Dryer",
          "Induction Cooking",
          "Heat Pump Clothes Dryer",
          "Mininum Efficiency Whole Home Electrification",
          "Heat Pump Water Heater",
          "Mininum Efficiency Heat Pump with Existing Heat Backup",
          "Mininum Efficiency Heat Pump with Electric Heat Backup",
          "Basic Enclosure",
          "Enhanced Enclosure",
          "High Efficiency Heat Pump with Electric Heat Backup",
          "High Efficiency Whole Home Electrification",
          "Basic Enclosure + HPWH + High Efficiency HP/Electric Backup",
          "Enhanced Enclosure + HPWH + High Efficiency HP/Electric Backup",
          "Basic Enclosure + High Efficiency Whole Home Electrification",
          "Enhanced Enclosure + High Efficiency Whole Home Electrification"
         ],
         "yaxis": "y6"
        }
       ],
       "layout": {
        "autosize": false,
        "font": {
         "size": 10
        },
        "height": 500,
        "plot_bgcolor": "rgba(0, 0, 0, 0)",
        "showlegend": false,
        "template": {
         "data": {
          "bar": [
           {
            "error_x": {
             "color": "#2a3f5f"
            },
            "error_y": {
             "color": "#2a3f5f"
            },
            "marker": {
             "line": {
              "color": "#E5ECF6",
              "width": 0.5
             },
             "pattern": {
              "fillmode": "overlay",
              "size": 10,
              "solidity": 0.2
             }
            },
            "type": "bar"
           }
          ],
          "barpolar": [
           {
            "marker": {
             "line": {
              "color": "#E5ECF6",
              "width": 0.5
             },
             "pattern": {
              "fillmode": "overlay",
              "size": 10,
              "solidity": 0.2
             }
            },
            "type": "barpolar"
           }
          ],
          "carpet": [
           {
            "aaxis": {
             "endlinecolor": "#2a3f5f",
             "gridcolor": "white",
             "linecolor": "white",
             "minorgridcolor": "white",
             "startlinecolor": "#2a3f5f"
            },
            "baxis": {
             "endlinecolor": "#2a3f5f",
             "gridcolor": "white",
             "linecolor": "white",
             "minorgridcolor": "white",
             "startlinecolor": "#2a3f5f"
            },
            "type": "carpet"
           }
          ],
          "choropleth": [
           {
            "colorbar": {
             "outlinewidth": 0,
             "ticks": ""
            },
            "type": "choropleth"
           }
          ],
          "contour": [
           {
            "colorbar": {
             "outlinewidth": 0,
             "ticks": ""
            },
            "colorscale": [
             [
              0,
              "#0d0887"
             ],
             [
              0.1111111111111111,
              "#46039f"
             ],
             [
              0.2222222222222222,
              "#7201a8"
             ],
             [
              0.3333333333333333,
              "#9c179e"
             ],
             [
              0.4444444444444444,
              "#bd3786"
             ],
             [
              0.5555555555555556,
              "#d8576b"
             ],
             [
              0.6666666666666666,
              "#ed7953"
             ],
             [
              0.7777777777777778,
              "#fb9f3a"
             ],
             [
              0.8888888888888888,
              "#fdca26"
             ],
             [
              1,
              "#f0f921"
             ]
            ],
            "type": "contour"
           }
          ],
          "contourcarpet": [
           {
            "colorbar": {
             "outlinewidth": 0,
             "ticks": ""
            },
            "type": "contourcarpet"
           }
          ],
          "heatmap": [
           {
            "colorbar": {
             "outlinewidth": 0,
             "ticks": ""
            },
            "colorscale": [
             [
              0,
              "#0d0887"
             ],
             [
              0.1111111111111111,
              "#46039f"
             ],
             [
              0.2222222222222222,
              "#7201a8"
             ],
             [
              0.3333333333333333,
              "#9c179e"
             ],
             [
              0.4444444444444444,
              "#bd3786"
             ],
             [
              0.5555555555555556,
              "#d8576b"
             ],
             [
              0.6666666666666666,
              "#ed7953"
             ],
             [
              0.7777777777777778,
              "#fb9f3a"
             ],
             [
              0.8888888888888888,
              "#fdca26"
             ],
             [
              1,
              "#f0f921"
             ]
            ],
            "type": "heatmap"
           }
          ],
          "heatmapgl": [
           {
            "colorbar": {
             "outlinewidth": 0,
             "ticks": ""
            },
            "colorscale": [
             [
              0,
              "#0d0887"
             ],
             [
              0.1111111111111111,
              "#46039f"
             ],
             [
              0.2222222222222222,
              "#7201a8"
             ],
             [
              0.3333333333333333,
              "#9c179e"
             ],
             [
              0.4444444444444444,
              "#bd3786"
             ],
             [
              0.5555555555555556,
              "#d8576b"
             ],
             [
              0.6666666666666666,
              "#ed7953"
             ],
             [
              0.7777777777777778,
              "#fb9f3a"
             ],
             [
              0.8888888888888888,
              "#fdca26"
             ],
             [
              1,
              "#f0f921"
             ]
            ],
            "type": "heatmapgl"
           }
          ],
          "histogram": [
           {
            "marker": {
             "pattern": {
              "fillmode": "overlay",
              "size": 10,
              "solidity": 0.2
             }
            },
            "type": "histogram"
           }
          ],
          "histogram2d": [
           {
            "colorbar": {
             "outlinewidth": 0,
             "ticks": ""
            },
            "colorscale": [
             [
              0,
              "#0d0887"
             ],
             [
              0.1111111111111111,
              "#46039f"
             ],
             [
              0.2222222222222222,
              "#7201a8"
             ],
             [
              0.3333333333333333,
              "#9c179e"
             ],
             [
              0.4444444444444444,
              "#bd3786"
             ],
             [
              0.5555555555555556,
              "#d8576b"
             ],
             [
              0.6666666666666666,
              "#ed7953"
             ],
             [
              0.7777777777777778,
              "#fb9f3a"
             ],
             [
              0.8888888888888888,
              "#fdca26"
             ],
             [
              1,
              "#f0f921"
             ]
            ],
            "type": "histogram2d"
           }
          ],
          "histogram2dcontour": [
           {
            "colorbar": {
             "outlinewidth": 0,
             "ticks": ""
            },
            "colorscale": [
             [
              0,
              "#0d0887"
             ],
             [
              0.1111111111111111,
              "#46039f"
             ],
             [
              0.2222222222222222,
              "#7201a8"
             ],
             [
              0.3333333333333333,
              "#9c179e"
             ],
             [
              0.4444444444444444,
              "#bd3786"
             ],
             [
              0.5555555555555556,
              "#d8576b"
             ],
             [
              0.6666666666666666,
              "#ed7953"
             ],
             [
              0.7777777777777778,
              "#fb9f3a"
             ],
             [
              0.8888888888888888,
              "#fdca26"
             ],
             [
              1,
              "#f0f921"
             ]
            ],
            "type": "histogram2dcontour"
           }
          ],
          "mesh3d": [
           {
            "colorbar": {
             "outlinewidth": 0,
             "ticks": ""
            },
            "type": "mesh3d"
           }
          ],
          "parcoords": [
           {
            "line": {
             "colorbar": {
              "outlinewidth": 0,
              "ticks": ""
             }
            },
            "type": "parcoords"
           }
          ],
          "pie": [
           {
            "automargin": true,
            "type": "pie"
           }
          ],
          "scatter": [
           {
            "fillpattern": {
             "fillmode": "overlay",
             "size": 10,
             "solidity": 0.2
            },
            "type": "scatter"
           }
          ],
          "scatter3d": [
           {
            "line": {
             "colorbar": {
              "outlinewidth": 0,
              "ticks": ""
             }
            },
            "marker": {
             "colorbar": {
              "outlinewidth": 0,
              "ticks": ""
             }
            },
            "type": "scatter3d"
           }
          ],
          "scattercarpet": [
           {
            "marker": {
             "colorbar": {
              "outlinewidth": 0,
              "ticks": ""
             }
            },
            "type": "scattercarpet"
           }
          ],
          "scattergeo": [
           {
            "marker": {
             "colorbar": {
              "outlinewidth": 0,
              "ticks": ""
             }
            },
            "type": "scattergeo"
           }
          ],
          "scattergl": [
           {
            "marker": {
             "colorbar": {
              "outlinewidth": 0,
              "ticks": ""
             }
            },
            "type": "scattergl"
           }
          ],
          "scattermapbox": [
           {
            "marker": {
             "colorbar": {
              "outlinewidth": 0,
              "ticks": ""
             }
            },
            "type": "scattermapbox"
           }
          ],
          "scatterpolar": [
           {
            "marker": {
             "colorbar": {
              "outlinewidth": 0,
              "ticks": ""
             }
            },
            "type": "scatterpolar"
           }
          ],
          "scatterpolargl": [
           {
            "marker": {
             "colorbar": {
              "outlinewidth": 0,
              "ticks": ""
             }
            },
            "type": "scatterpolargl"
           }
          ],
          "scatterternary": [
           {
            "marker": {
             "colorbar": {
              "outlinewidth": 0,
              "ticks": ""
             }
            },
            "type": "scatterternary"
           }
          ],
          "surface": [
           {
            "colorbar": {
             "outlinewidth": 0,
             "ticks": ""
            },
            "colorscale": [
             [
              0,
              "#0d0887"
             ],
             [
              0.1111111111111111,
              "#46039f"
             ],
             [
              0.2222222222222222,
              "#7201a8"
             ],
             [
              0.3333333333333333,
              "#9c179e"
             ],
             [
              0.4444444444444444,
              "#bd3786"
             ],
             [
              0.5555555555555556,
              "#d8576b"
             ],
             [
              0.6666666666666666,
              "#ed7953"
             ],
             [
              0.7777777777777778,
              "#fb9f3a"
             ],
             [
              0.8888888888888888,
              "#fdca26"
             ],
             [
              1,
              "#f0f921"
             ]
            ],
            "type": "surface"
           }
          ],
          "table": [
           {
            "cells": {
             "fill": {
              "color": "#EBF0F8"
             },
             "line": {
              "color": "white"
             }
            },
            "header": {
             "fill": {
              "color": "#C8D4E3"
             },
             "line": {
              "color": "white"
             }
            },
            "type": "table"
           }
          ]
         },
         "layout": {
          "annotationdefaults": {
           "arrowcolor": "#2a3f5f",
           "arrowhead": 0,
           "arrowwidth": 1
          },
          "autotypenumbers": "strict",
          "coloraxis": {
           "colorbar": {
            "outlinewidth": 0,
            "ticks": ""
           }
          },
          "colorscale": {
           "diverging": [
            [
             0,
             "#8e0152"
            ],
            [
             0.1,
             "#c51b7d"
            ],
            [
             0.2,
             "#de77ae"
            ],
            [
             0.3,
             "#f1b6da"
            ],
            [
             0.4,
             "#fde0ef"
            ],
            [
             0.5,
             "#f7f7f7"
            ],
            [
             0.6,
             "#e6f5d0"
            ],
            [
             0.7,
             "#b8e186"
            ],
            [
             0.8,
             "#7fbc41"
            ],
            [
             0.9,
             "#4d9221"
            ],
            [
             1,
             "#276419"
            ]
           ],
           "sequential": [
            [
             0,
             "#0d0887"
            ],
            [
             0.1111111111111111,
             "#46039f"
            ],
            [
             0.2222222222222222,
             "#7201a8"
            ],
            [
             0.3333333333333333,
             "#9c179e"
            ],
            [
             0.4444444444444444,
             "#bd3786"
            ],
            [
             0.5555555555555556,
             "#d8576b"
            ],
            [
             0.6666666666666666,
             "#ed7953"
            ],
            [
             0.7777777777777778,
             "#fb9f3a"
            ],
            [
             0.8888888888888888,
             "#fdca26"
            ],
            [
             1,
             "#f0f921"
            ]
           ],
           "sequentialminus": [
            [
             0,
             "#0d0887"
            ],
            [
             0.1111111111111111,
             "#46039f"
            ],
            [
             0.2222222222222222,
             "#7201a8"
            ],
            [
             0.3333333333333333,
             "#9c179e"
            ],
            [
             0.4444444444444444,
             "#bd3786"
            ],
            [
             0.5555555555555556,
             "#d8576b"
            ],
            [
             0.6666666666666666,
             "#ed7953"
            ],
            [
             0.7777777777777778,
             "#fb9f3a"
            ],
            [
             0.8888888888888888,
             "#fdca26"
            ],
            [
             1,
             "#f0f921"
            ]
           ]
          },
          "colorway": [
           "#636efa",
           "#EF553B",
           "#00cc96",
           "#ab63fa",
           "#FFA15A",
           "#19d3f3",
           "#FF6692",
           "#B6E880",
           "#FF97FF",
           "#FECB52"
          ],
          "font": {
           "color": "#2a3f5f"
          },
          "geo": {
           "bgcolor": "white",
           "lakecolor": "white",
           "landcolor": "#E5ECF6",
           "showlakes": true,
           "showland": true,
           "subunitcolor": "white"
          },
          "hoverlabel": {
           "align": "left"
          },
          "hovermode": "closest",
          "mapbox": {
           "style": "light"
          },
          "paper_bgcolor": "white",
          "plot_bgcolor": "#E5ECF6",
          "polar": {
           "angularaxis": {
            "gridcolor": "white",
            "linecolor": "white",
            "ticks": ""
           },
           "bgcolor": "#E5ECF6",
           "radialaxis": {
            "gridcolor": "white",
            "linecolor": "white",
            "ticks": ""
           }
          },
          "scene": {
           "xaxis": {
            "backgroundcolor": "#E5ECF6",
            "gridcolor": "white",
            "gridwidth": 2,
            "linecolor": "white",
            "showbackground": true,
            "ticks": "",
            "zerolinecolor": "white"
           },
           "yaxis": {
            "backgroundcolor": "#E5ECF6",
            "gridcolor": "white",
            "gridwidth": 2,
            "linecolor": "white",
            "showbackground": true,
            "ticks": "",
            "zerolinecolor": "white"
           },
           "zaxis": {
            "backgroundcolor": "#E5ECF6",
            "gridcolor": "white",
            "gridwidth": 2,
            "linecolor": "white",
            "showbackground": true,
            "ticks": "",
            "zerolinecolor": "white"
           }
          },
          "shapedefaults": {
           "line": {
            "color": "#2a3f5f"
           }
          },
          "ternary": {
           "aaxis": {
            "gridcolor": "white",
            "linecolor": "white",
            "ticks": ""
           },
           "baxis": {
            "gridcolor": "white",
            "linecolor": "white",
            "ticks": ""
           },
           "bgcolor": "#E5ECF6",
           "caxis": {
            "gridcolor": "white",
            "linecolor": "white",
            "ticks": ""
           }
          },
          "title": {
           "x": 0.05
          },
          "xaxis": {
           "automargin": true,
           "gridcolor": "white",
           "linecolor": "white",
           "ticks": "",
           "title": {
            "standoff": 15
           },
           "zerolinecolor": "white",
           "zerolinewidth": 2
          },
          "yaxis": {
           "automargin": true,
           "gridcolor": "white",
           "linecolor": "white",
           "ticks": "",
           "title": {
            "standoff": 15
           },
           "zerolinecolor": "white",
           "zerolinewidth": 2
          }
         }
        },
        "title": {
         "text": "Community Total Annual Savings"
        },
        "width": 1100,
        "xaxis": {
         "anchor": "y",
         "domain": [
          0,
          7.998400319936014e-05
         ],
         "tickangle": 45,
         "title": {
          "text": ""
         },
         "visible": false
        },
        "xaxis2": {
         "anchor": "y2",
         "domain": [
          0.12007998400319936,
          0.2000639872025595
         ],
         "tickangle": 45,
         "title": {
          "text": "Bill<br>Savings<br>usd"
         },
         "visible": true
        },
        "xaxis3": {
         "anchor": "y3",
         "domain": [
          0.32006398720255946,
          0.40004799040191963
         ],
         "tickangle": 45,
         "title": {
          "text": "Site Emission<br>Saving<br>kgCO2e"
         },
         "visible": true
        },
        "xaxis4": {
         "anchor": "y4",
         "domain": [
          0.5200479904019196,
          0.6000319936012798
         ],
         "tickangle": 45,
         "title": {
          "text": "Site Energy<br>Saving<br>mmbtu"
         },
         "visible": true
        },
        "xaxis5": {
         "anchor": "y5",
         "domain": [
          0.7200319936012798,
          0.80001599680064
         ],
         "tickangle": 45,
         "title": {
          "text": "Electricity<br>Saving<br>kwh"
         },
         "visible": true
        },
        "xaxis6": {
         "anchor": "y6",
         "domain": [
          0.9200159968006398,
          1
         ],
         "tickangle": 45,
         "title": {
          "text": "Gas, Propane,<br>Fuel Oil Saving<br>mmbtu"
         },
         "visible": true
        },
        "yaxis": {
         "anchor": "x",
         "domain": [
          0,
          1
         ],
         "visible": true
        },
        "yaxis2": {
         "anchor": "x2",
         "domain": [
          0,
          1
         ],
         "visible": false
        },
        "yaxis3": {
         "anchor": "x3",
         "domain": [
          0,
          1
         ],
         "visible": false
        },
        "yaxis4": {
         "anchor": "x4",
         "domain": [
          0,
          1
         ],
         "visible": false
        },
        "yaxis5": {
         "anchor": "x5",
         "domain": [
          0,
          1
         ],
         "visible": false
        },
        "yaxis6": {
         "anchor": "x6",
         "domain": [
          0,
          1
         ],
         "visible": false
        }
       }
      },
      "text/html": [
       "<div>                            <div id=\"aedbca13-fe06-4fd1-82fb-42179d30c95b\" class=\"plotly-graph-div\" style=\"height:500px; width:1100px;\"></div>            <script type=\"text/javascript\">                require([\"plotly\"], function(Plotly) {                    window.PLOTLYENV=window.PLOTLYENV || {};                                    if (document.getElementById(\"aedbca13-fe06-4fd1-82fb-42179d30c95b\")) {                    Plotly.newPlot(                        \"aedbca13-fe06-4fd1-82fb-42179d30c95b\",                        [{\"orientation\":\"h\",\"x\":[0,0,0,0,0,0,0,0,0,0,0,0,0,0,0,0,0,0,0,0,0,0,0,0,0,0,0,0,0,0,0,0,0,0,0,0,0,0,0,0,0,0,0,0,0,0,0,0,0,0,0,0,0,0,0,0,0,0,0,0,0,0,0,0,0,0,0,0,0,0,0,0,0,0,0,0,0,0,0,0,0,0,0,0,0,0,0,0,0,0,0,0,0,0,0,0,0,0,0,0,0,0,0,0,0,0,0,0,0,0,0,0,0,0,0,0,0,0,0,0,0,0,0,0,0,0,0,0,0,0,0,0,0,0,0,0,0,0,0,0,0,0,0,0,0,0,0,0,0,0,0,0,0,0,0,0,0,0,0,0,0,0,0,0,0,0,0,0,0,0,0,0,0,0,0,0],\"y\":[\"Electric Cooking\",\"Electric Clothes Dryer\",\"Induction Cooking\",\"Heat Pump Clothes Dryer\",\"Mininum Efficiency Whole Home Electrification\",\"Heat Pump Water Heater\",\"Mininum Efficiency Heat Pump with Existing Heat Backup\",\"Mininum Efficiency Heat Pump with Electric Heat Backup\",\"Basic Enclosure\",\"Enhanced Enclosure\",\"High Efficiency Heat Pump with Electric Heat Backup\",\"High Efficiency Whole Home Electrification\",\"Basic Enclosure + HPWH + High Efficiency HP/Electric Backup\",\"Enhanced Enclosure + HPWH + High Efficiency HP/Electric Backup\",\"Basic Enclosure + High Efficiency Whole Home Electrification\",\"Enhanced Enclosure + High Efficiency Whole Home Electrification\"],\"type\":\"bar\",\"xaxis\":\"x\",\"yaxis\":\"y\",\"textfont\":{\"size\":10},\"cliponaxis\":false,\"textangle\":0,\"textposition\":\"outside\",\"marker\":{\"line\":{\"color\":\"rgb(255, 255, 255)\"},\"color\":\"rgb(255, 255, 255)\"}},{\"orientation\":\"h\",\"text\":[-182015.37176855368,-115272.05835259888,191654.64435130538,2449844.652724317,6523900.048094642,11466380.299900299,28860662.831289142,29236980.796178706,31005180.995794274,36379631.07325443,65735189.65319706,83392091.15660128,91175242.37922944,92837364.8379836,93913831.60413334,95575954.0628875],\"x\":[-182015.37176855368,-115272.05835259888,191654.64435130538,2449844.652724317,6523900.048094642,11466380.299900299,28860662.831289142,29236980.796178706,31005180.995794274,36379631.07325443,65735189.65319706,83392091.15660128,91175242.37922944,92837364.8379836,93913831.60413334,95575954.0628875],\"y\":[\"Electric Cooking\",\"Electric Clothes Dryer\",\"Induction Cooking\",\"Heat Pump Clothes Dryer\",\"Mininum Efficiency Whole Home Electrification\",\"Heat Pump Water Heater\",\"Mininum Efficiency Heat Pump with Existing Heat Backup\",\"Mininum Efficiency Heat Pump with Electric Heat Backup\",\"Basic Enclosure\",\"Enhanced Enclosure\",\"High Efficiency Heat Pump with Electric Heat Backup\",\"High Efficiency Whole Home Electrification\",\"Basic Enclosure + HPWH + High Efficiency HP/Electric Backup\",\"Enhanced Enclosure + HPWH + High Efficiency HP/Electric Backup\",\"Basic Enclosure + High Efficiency Whole Home Electrification\",\"Enhanced Enclosure + High Efficiency Whole Home Electrification\"],\"type\":\"bar\",\"xaxis\":\"x2\",\"yaxis\":\"y2\",\"textfont\":{\"size\":10},\"cliponaxis\":false,\"textangle\":0,\"textposition\":\"outside\",\"marker\":{\"line\":{\"color\":\"rgb(0, 121, 61)\"},\"color\":\"rgb(0, 121, 61)\"},\"texttemplate\":\"%{text:.3s}\"},{\"orientation\":\"h\",\"text\":[1738716.9819606321,109469.05466047108,2444730.3511143755,4660347.295615813,58226225.09023675,30117277.445562206,85870393.52910651,97052568.44644807,79419412.43569708,93644231.2684836,172714249.20032558,220318206.71843675,234851691.04288825,238607404.9815212,241956768.68961844,245712482.62825137],\"x\":[1738716.9819606321,109469.05466047108,2444730.3511143755,4660347.295615813,58226225.09023675,30117277.445562206,85870393.52910651,97052568.44644807,79419412.43569708,93644231.2684836,172714249.20032558,220318206.71843675,234851691.04288825,238607404.9815212,241956768.68961844,245712482.62825137],\"y\":[\"Electric Cooking\",\"Electric Clothes Dryer\",\"Induction Cooking\",\"Heat Pump Clothes Dryer\",\"Mininum Efficiency Whole Home Electrification\",\"Heat Pump Water Heater\",\"Mininum Efficiency Heat Pump with Existing Heat Backup\",\"Mininum Efficiency Heat Pump with Electric Heat Backup\",\"Basic Enclosure\",\"Enhanced Enclosure\",\"High Efficiency Heat Pump with Electric Heat Backup\",\"High Efficiency Whole Home Electrification\",\"Basic Enclosure + HPWH + High Efficiency HP/Electric Backup\",\"Enhanced Enclosure + HPWH + High Efficiency HP/Electric Backup\",\"Basic Enclosure + High Efficiency Whole Home Electrification\",\"Enhanced Enclosure + High Efficiency Whole Home Electrification\"],\"type\":\"bar\",\"xaxis\":\"x3\",\"yaxis\":\"y3\",\"textfont\":{\"size\":10},\"cliponaxis\":false,\"textangle\":0,\"textposition\":\"outside\",\"marker\":{\"line\":{\"color\":\"rgb(0, 121, 61)\"},\"color\":\"rgb(0, 121, 61)\"},\"texttemplate\":\"%{text:.3s}\"},{\"orientation\":\"h\",\"text\":[272.6609999999999,16.709999999999965,385.1440000000005,776.2280000000003,8012.352,4572.663,12383.23,14595.204,10491.087,12280.517,25285.972,32532.239,34179.089,34629.783,35340.461,35791.155],\"x\":[272.6609999999999,16.709999999999965,385.1440000000005,776.2280000000003,8012.352,4572.663,12383.23,14595.204,10491.087,12280.517,25285.972,32532.239,34179.089,34629.783,35340.461,35791.155],\"y\":[\"Electric Cooking\",\"Electric Clothes Dryer\",\"Induction Cooking\",\"Heat Pump Clothes Dryer\",\"Mininum Efficiency Whole Home Electrification\",\"Heat Pump Water Heater\",\"Mininum Efficiency Heat Pump with Existing Heat Backup\",\"Mininum Efficiency Heat Pump with Electric Heat Backup\",\"Basic Enclosure\",\"Enhanced Enclosure\",\"High Efficiency Heat Pump with Electric Heat Backup\",\"High Efficiency Whole Home Electrification\",\"Basic Enclosure + HPWH + High Efficiency HP/Electric Backup\",\"Enhanced Enclosure + HPWH + High Efficiency HP/Electric Backup\",\"Basic Enclosure + High Efficiency Whole Home Electrification\",\"Enhanced Enclosure + High Efficiency Whole Home Electrification\"],\"type\":\"bar\",\"xaxis\":\"x4\",\"yaxis\":\"y4\",\"textfont\":{\"size\":10},\"cliponaxis\":false,\"textangle\":0,\"textposition\":\"outside\",\"marker\":{\"line\":{\"color\":\"rgb(0, 121, 61)\"},\"color\":\"rgb(0, 121, 61)\"},\"texttemplate\":\"%{text:.3s}\"},{\"orientation\":\"h\",\"text\":[-6412656.867989991,-1704668.5876111924,-3571029.5657840595,17801908.50483785,-79057435.51862597,65471103.43628962,161633131.29481307,130714853.68339854,195009489.2344344,228833065.33597508,408270397.6408062,505491546.29511267,571273902.698508,583913617.2137488,585504781.6375618,598144496.1528026],\"x\":[-6412656.867989991,-1704668.5876111924,-3571029.5657840595,17801908.50483785,-79057435.51862597,65471103.43628962,161633131.29481307,130714853.68339854,195009489.2344344,228833065.33597508,408270397.6408062,505491546.29511267,571273902.698508,583913617.2137488,585504781.6375618,598144496.1528026],\"y\":[\"Electric Cooking\",\"Electric Clothes Dryer\",\"Induction Cooking\",\"Heat Pump Clothes Dryer\",\"Mininum Efficiency Whole Home Electrification\",\"Heat Pump Water Heater\",\"Mininum Efficiency Heat Pump with Existing Heat Backup\",\"Mininum Efficiency Heat Pump with Electric Heat Backup\",\"Basic Enclosure\",\"Enhanced Enclosure\",\"High Efficiency Heat Pump with Electric Heat Backup\",\"High Efficiency Whole Home Electrification\",\"Basic Enclosure + HPWH + High Efficiency HP/Electric Backup\",\"Enhanced Enclosure + HPWH + High Efficiency HP/Electric Backup\",\"Basic Enclosure + High Efficiency Whole Home Electrification\",\"Enhanced Enclosure + High Efficiency Whole Home Electrification\"],\"type\":\"bar\",\"xaxis\":\"x5\",\"yaxis\":\"y5\",\"textfont\":{\"size\":10},\"cliponaxis\":false,\"textangle\":0,\"textposition\":\"outside\",\"marker\":{\"line\":{\"color\":\"rgb(0, 121, 61)\"},\"color\":\"rgb(0, 121, 61)\"},\"texttemplate\":\"%{text:.3s}\"},{\"orientation\":\"h\",\"text\":[48485.403662085766,7579.684418273646,48485.122376149484,7579.813478879707,1233024.1669182384,215595.7316691919,562551.993929293,884938.3884818183,392403.5328666667,457997.4673717172,884913.957309091,1233024.1669182384,1176959.231063209,1176959.231063209,1233024.1669182384,1233024.1669182384],\"x\":[48485.403662085766,7579.684418273646,48485.122376149484,7579.813478879707,1233024.1669182384,215595.7316691919,562551.993929293,884938.3884818183,392403.5328666667,457997.4673717172,884913.957309091,1233024.1669182384,1176959.231063209,1176959.231063209,1233024.1669182384,1233024.1669182384],\"y\":[\"Electric Cooking\",\"Electric Clothes Dryer\",\"Induction Cooking\",\"Heat Pump Clothes Dryer\",\"Mininum Efficiency Whole Home Electrification\",\"Heat Pump Water Heater\",\"Mininum Efficiency Heat Pump with Existing Heat Backup\",\"Mininum Efficiency Heat Pump with Electric Heat Backup\",\"Basic Enclosure\",\"Enhanced Enclosure\",\"High Efficiency Heat Pump with Electric Heat Backup\",\"High Efficiency Whole Home Electrification\",\"Basic Enclosure + HPWH + High Efficiency HP/Electric Backup\",\"Enhanced Enclosure + HPWH + High Efficiency HP/Electric Backup\",\"Basic Enclosure + High Efficiency Whole Home Electrification\",\"Enhanced Enclosure + High Efficiency Whole Home Electrification\"],\"type\":\"bar\",\"xaxis\":\"x6\",\"yaxis\":\"y6\",\"textfont\":{\"size\":10},\"cliponaxis\":false,\"textangle\":0,\"textposition\":\"outside\",\"marker\":{\"line\":{\"color\":\"rgb(0, 121, 61)\"},\"color\":\"rgb(0, 121, 61)\"},\"texttemplate\":\"%{text:.3s}\"}],                        {\"template\":{\"data\":{\"histogram2dcontour\":[{\"type\":\"histogram2dcontour\",\"colorbar\":{\"outlinewidth\":0,\"ticks\":\"\"},\"colorscale\":[[0.0,\"#0d0887\"],[0.1111111111111111,\"#46039f\"],[0.2222222222222222,\"#7201a8\"],[0.3333333333333333,\"#9c179e\"],[0.4444444444444444,\"#bd3786\"],[0.5555555555555556,\"#d8576b\"],[0.6666666666666666,\"#ed7953\"],[0.7777777777777778,\"#fb9f3a\"],[0.8888888888888888,\"#fdca26\"],[1.0,\"#f0f921\"]]}],\"choropleth\":[{\"type\":\"choropleth\",\"colorbar\":{\"outlinewidth\":0,\"ticks\":\"\"}}],\"histogram2d\":[{\"type\":\"histogram2d\",\"colorbar\":{\"outlinewidth\":0,\"ticks\":\"\"},\"colorscale\":[[0.0,\"#0d0887\"],[0.1111111111111111,\"#46039f\"],[0.2222222222222222,\"#7201a8\"],[0.3333333333333333,\"#9c179e\"],[0.4444444444444444,\"#bd3786\"],[0.5555555555555556,\"#d8576b\"],[0.6666666666666666,\"#ed7953\"],[0.7777777777777778,\"#fb9f3a\"],[0.8888888888888888,\"#fdca26\"],[1.0,\"#f0f921\"]]}],\"heatmap\":[{\"type\":\"heatmap\",\"colorbar\":{\"outlinewidth\":0,\"ticks\":\"\"},\"colorscale\":[[0.0,\"#0d0887\"],[0.1111111111111111,\"#46039f\"],[0.2222222222222222,\"#7201a8\"],[0.3333333333333333,\"#9c179e\"],[0.4444444444444444,\"#bd3786\"],[0.5555555555555556,\"#d8576b\"],[0.6666666666666666,\"#ed7953\"],[0.7777777777777778,\"#fb9f3a\"],[0.8888888888888888,\"#fdca26\"],[1.0,\"#f0f921\"]]}],\"heatmapgl\":[{\"type\":\"heatmapgl\",\"colorbar\":{\"outlinewidth\":0,\"ticks\":\"\"},\"colorscale\":[[0.0,\"#0d0887\"],[0.1111111111111111,\"#46039f\"],[0.2222222222222222,\"#7201a8\"],[0.3333333333333333,\"#9c179e\"],[0.4444444444444444,\"#bd3786\"],[0.5555555555555556,\"#d8576b\"],[0.6666666666666666,\"#ed7953\"],[0.7777777777777778,\"#fb9f3a\"],[0.8888888888888888,\"#fdca26\"],[1.0,\"#f0f921\"]]}],\"contourcarpet\":[{\"type\":\"contourcarpet\",\"colorbar\":{\"outlinewidth\":0,\"ticks\":\"\"}}],\"contour\":[{\"type\":\"contour\",\"colorbar\":{\"outlinewidth\":0,\"ticks\":\"\"},\"colorscale\":[[0.0,\"#0d0887\"],[0.1111111111111111,\"#46039f\"],[0.2222222222222222,\"#7201a8\"],[0.3333333333333333,\"#9c179e\"],[0.4444444444444444,\"#bd3786\"],[0.5555555555555556,\"#d8576b\"],[0.6666666666666666,\"#ed7953\"],[0.7777777777777778,\"#fb9f3a\"],[0.8888888888888888,\"#fdca26\"],[1.0,\"#f0f921\"]]}],\"surface\":[{\"type\":\"surface\",\"colorbar\":{\"outlinewidth\":0,\"ticks\":\"\"},\"colorscale\":[[0.0,\"#0d0887\"],[0.1111111111111111,\"#46039f\"],[0.2222222222222222,\"#7201a8\"],[0.3333333333333333,\"#9c179e\"],[0.4444444444444444,\"#bd3786\"],[0.5555555555555556,\"#d8576b\"],[0.6666666666666666,\"#ed7953\"],[0.7777777777777778,\"#fb9f3a\"],[0.8888888888888888,\"#fdca26\"],[1.0,\"#f0f921\"]]}],\"mesh3d\":[{\"type\":\"mesh3d\",\"colorbar\":{\"outlinewidth\":0,\"ticks\":\"\"}}],\"scatter\":[{\"fillpattern\":{\"fillmode\":\"overlay\",\"size\":10,\"solidity\":0.2},\"type\":\"scatter\"}],\"parcoords\":[{\"type\":\"parcoords\",\"line\":{\"colorbar\":{\"outlinewidth\":0,\"ticks\":\"\"}}}],\"scatterpolargl\":[{\"type\":\"scatterpolargl\",\"marker\":{\"colorbar\":{\"outlinewidth\":0,\"ticks\":\"\"}}}],\"bar\":[{\"error_x\":{\"color\":\"#2a3f5f\"},\"error_y\":{\"color\":\"#2a3f5f\"},\"marker\":{\"line\":{\"color\":\"#E5ECF6\",\"width\":0.5},\"pattern\":{\"fillmode\":\"overlay\",\"size\":10,\"solidity\":0.2}},\"type\":\"bar\"}],\"scattergeo\":[{\"type\":\"scattergeo\",\"marker\":{\"colorbar\":{\"outlinewidth\":0,\"ticks\":\"\"}}}],\"scatterpolar\":[{\"type\":\"scatterpolar\",\"marker\":{\"colorbar\":{\"outlinewidth\":0,\"ticks\":\"\"}}}],\"histogram\":[{\"marker\":{\"pattern\":{\"fillmode\":\"overlay\",\"size\":10,\"solidity\":0.2}},\"type\":\"histogram\"}],\"scattergl\":[{\"type\":\"scattergl\",\"marker\":{\"colorbar\":{\"outlinewidth\":0,\"ticks\":\"\"}}}],\"scatter3d\":[{\"type\":\"scatter3d\",\"line\":{\"colorbar\":{\"outlinewidth\":0,\"ticks\":\"\"}},\"marker\":{\"colorbar\":{\"outlinewidth\":0,\"ticks\":\"\"}}}],\"scattermapbox\":[{\"type\":\"scattermapbox\",\"marker\":{\"colorbar\":{\"outlinewidth\":0,\"ticks\":\"\"}}}],\"scatterternary\":[{\"type\":\"scatterternary\",\"marker\":{\"colorbar\":{\"outlinewidth\":0,\"ticks\":\"\"}}}],\"scattercarpet\":[{\"type\":\"scattercarpet\",\"marker\":{\"colorbar\":{\"outlinewidth\":0,\"ticks\":\"\"}}}],\"carpet\":[{\"aaxis\":{\"endlinecolor\":\"#2a3f5f\",\"gridcolor\":\"white\",\"linecolor\":\"white\",\"minorgridcolor\":\"white\",\"startlinecolor\":\"#2a3f5f\"},\"baxis\":{\"endlinecolor\":\"#2a3f5f\",\"gridcolor\":\"white\",\"linecolor\":\"white\",\"minorgridcolor\":\"white\",\"startlinecolor\":\"#2a3f5f\"},\"type\":\"carpet\"}],\"table\":[{\"cells\":{\"fill\":{\"color\":\"#EBF0F8\"},\"line\":{\"color\":\"white\"}},\"header\":{\"fill\":{\"color\":\"#C8D4E3\"},\"line\":{\"color\":\"white\"}},\"type\":\"table\"}],\"barpolar\":[{\"marker\":{\"line\":{\"color\":\"#E5ECF6\",\"width\":0.5},\"pattern\":{\"fillmode\":\"overlay\",\"size\":10,\"solidity\":0.2}},\"type\":\"barpolar\"}],\"pie\":[{\"automargin\":true,\"type\":\"pie\"}]},\"layout\":{\"autotypenumbers\":\"strict\",\"colorway\":[\"#636efa\",\"#EF553B\",\"#00cc96\",\"#ab63fa\",\"#FFA15A\",\"#19d3f3\",\"#FF6692\",\"#B6E880\",\"#FF97FF\",\"#FECB52\"],\"font\":{\"color\":\"#2a3f5f\"},\"hovermode\":\"closest\",\"hoverlabel\":{\"align\":\"left\"},\"paper_bgcolor\":\"white\",\"plot_bgcolor\":\"#E5ECF6\",\"polar\":{\"bgcolor\":\"#E5ECF6\",\"angularaxis\":{\"gridcolor\":\"white\",\"linecolor\":\"white\",\"ticks\":\"\"},\"radialaxis\":{\"gridcolor\":\"white\",\"linecolor\":\"white\",\"ticks\":\"\"}},\"ternary\":{\"bgcolor\":\"#E5ECF6\",\"aaxis\":{\"gridcolor\":\"white\",\"linecolor\":\"white\",\"ticks\":\"\"},\"baxis\":{\"gridcolor\":\"white\",\"linecolor\":\"white\",\"ticks\":\"\"},\"caxis\":{\"gridcolor\":\"white\",\"linecolor\":\"white\",\"ticks\":\"\"}},\"coloraxis\":{\"colorbar\":{\"outlinewidth\":0,\"ticks\":\"\"}},\"colorscale\":{\"sequential\":[[0.0,\"#0d0887\"],[0.1111111111111111,\"#46039f\"],[0.2222222222222222,\"#7201a8\"],[0.3333333333333333,\"#9c179e\"],[0.4444444444444444,\"#bd3786\"],[0.5555555555555556,\"#d8576b\"],[0.6666666666666666,\"#ed7953\"],[0.7777777777777778,\"#fb9f3a\"],[0.8888888888888888,\"#fdca26\"],[1.0,\"#f0f921\"]],\"sequentialminus\":[[0.0,\"#0d0887\"],[0.1111111111111111,\"#46039f\"],[0.2222222222222222,\"#7201a8\"],[0.3333333333333333,\"#9c179e\"],[0.4444444444444444,\"#bd3786\"],[0.5555555555555556,\"#d8576b\"],[0.6666666666666666,\"#ed7953\"],[0.7777777777777778,\"#fb9f3a\"],[0.8888888888888888,\"#fdca26\"],[1.0,\"#f0f921\"]],\"diverging\":[[0,\"#8e0152\"],[0.1,\"#c51b7d\"],[0.2,\"#de77ae\"],[0.3,\"#f1b6da\"],[0.4,\"#fde0ef\"],[0.5,\"#f7f7f7\"],[0.6,\"#e6f5d0\"],[0.7,\"#b8e186\"],[0.8,\"#7fbc41\"],[0.9,\"#4d9221\"],[1,\"#276419\"]]},\"xaxis\":{\"gridcolor\":\"white\",\"linecolor\":\"white\",\"ticks\":\"\",\"title\":{\"standoff\":15},\"zerolinecolor\":\"white\",\"automargin\":true,\"zerolinewidth\":2},\"yaxis\":{\"gridcolor\":\"white\",\"linecolor\":\"white\",\"ticks\":\"\",\"title\":{\"standoff\":15},\"zerolinecolor\":\"white\",\"automargin\":true,\"zerolinewidth\":2},\"scene\":{\"xaxis\":{\"backgroundcolor\":\"#E5ECF6\",\"gridcolor\":\"white\",\"linecolor\":\"white\",\"showbackground\":true,\"ticks\":\"\",\"zerolinecolor\":\"white\",\"gridwidth\":2},\"yaxis\":{\"backgroundcolor\":\"#E5ECF6\",\"gridcolor\":\"white\",\"linecolor\":\"white\",\"showbackground\":true,\"ticks\":\"\",\"zerolinecolor\":\"white\",\"gridwidth\":2},\"zaxis\":{\"backgroundcolor\":\"#E5ECF6\",\"gridcolor\":\"white\",\"linecolor\":\"white\",\"showbackground\":true,\"ticks\":\"\",\"zerolinecolor\":\"white\",\"gridwidth\":2}},\"shapedefaults\":{\"line\":{\"color\":\"#2a3f5f\"}},\"annotationdefaults\":{\"arrowcolor\":\"#2a3f5f\",\"arrowhead\":0,\"arrowwidth\":1},\"geo\":{\"bgcolor\":\"white\",\"landcolor\":\"#E5ECF6\",\"subunitcolor\":\"white\",\"showland\":true,\"showlakes\":true,\"lakecolor\":\"white\"},\"title\":{\"x\":0.05},\"mapbox\":{\"style\":\"light\"}}},\"xaxis\":{\"anchor\":\"y\",\"domain\":[0.0,7.998400319936014e-05],\"title\":{\"text\":\"\"},\"visible\":false,\"tickangle\":45},\"yaxis\":{\"anchor\":\"x\",\"domain\":[0.0,1.0],\"visible\":true},\"xaxis2\":{\"anchor\":\"y2\",\"domain\":[0.12007998400319936,0.2000639872025595],\"title\":{\"text\":\"Bill<br>Savings<br>usd\"},\"visible\":true,\"tickangle\":45},\"yaxis2\":{\"anchor\":\"x2\",\"domain\":[0.0,1.0],\"visible\":false},\"xaxis3\":{\"anchor\":\"y3\",\"domain\":[0.32006398720255946,0.40004799040191963],\"title\":{\"text\":\"Site Emission<br>Saving<br>kgCO2e\"},\"visible\":true,\"tickangle\":45},\"yaxis3\":{\"anchor\":\"x3\",\"domain\":[0.0,1.0],\"visible\":false},\"xaxis4\":{\"anchor\":\"y4\",\"domain\":[0.5200479904019196,0.6000319936012798],\"title\":{\"text\":\"Site Energy<br>Saving<br>mmbtu\"},\"visible\":true,\"tickangle\":45},\"yaxis4\":{\"anchor\":\"x4\",\"domain\":[0.0,1.0],\"visible\":false},\"xaxis5\":{\"anchor\":\"y5\",\"domain\":[0.7200319936012798,0.80001599680064],\"title\":{\"text\":\"Electricity<br>Saving<br>kwh\"},\"visible\":true,\"tickangle\":45},\"yaxis5\":{\"anchor\":\"x5\",\"domain\":[0.0,1.0],\"visible\":false},\"xaxis6\":{\"anchor\":\"y6\",\"domain\":[0.9200159968006398,1.0],\"title\":{\"text\":\"Gas, Propane,<br>Fuel Oil Saving<br>mmbtu\"},\"visible\":true,\"tickangle\":45},\"yaxis6\":{\"anchor\":\"x6\",\"domain\":[0.0,1.0],\"visible\":false},\"title\":{\"text\":\"Community Total Annual Savings\"},\"font\":{\"size\":10},\"autosize\":false,\"width\":1100,\"height\":500,\"plot_bgcolor\":\"rgba(0, 0, 0, 0)\",\"showlegend\":false},                        {\"responsive\": true}                    ).then(function(){\n",
       "                            \n",
       "var gd = document.getElementById('aedbca13-fe06-4fd1-82fb-42179d30c95b');\n",
       "var x = new MutationObserver(function (mutations, observer) {{\n",
       "        var display = window.getComputedStyle(gd).display;\n",
       "        if (!display || display === 'none') {{\n",
       "            console.log([gd, 'removed!']);\n",
       "            Plotly.purge(gd);\n",
       "            observer.disconnect();\n",
       "        }}\n",
       "}});\n",
       "\n",
       "// Listen for the removal of the full notebook cells\n",
       "var notebookContainer = gd.closest('#notebook-container');\n",
       "if (notebookContainer) {{\n",
       "    x.observe(notebookContainer, {childList: true});\n",
       "}}\n",
       "\n",
       "// Listen for the clearing of the current output cell\n",
       "var outputEl = gd.closest('.output');\n",
       "if (outputEl) {{\n",
       "    x.observe(outputEl, {childList: true});\n",
       "}}\n",
       "\n",
       "                        })                };                });            </script>        </div>"
      ]
     },
     "metadata": {},
     "output_type": "display_data"
    }
   ],
   "source": [
    "# flavor 2 - site, electricity, and non-electricity\n",
    "def figure_total_savings(commnity_results):\n",
    "    results = commnity_results[[\n",
    "        'upgrade_name',\n",
    "        'saving_energy.total_mmbtu',\n",
    "        'saving_energy.electricity_kwh',\n",
    "        'saving_energy.natural_gas_therm',\n",
    "        'saving_energy.fuel_oil_mmbtu',\n",
    "        'saving_energy.propane_mmbtu',\n",
    "        'saving_cbill.total_usd',\n",
    "        'saving_emission.total_kgCO2e',\n",
    "        'sample_weight']]\n",
    "    results = results.loc[results['upgrade_name'] != 'baseline']\n",
    "    results['saving_energy.natural_gas_fuel_oil_propane_mmbtu'] = results['saving_energy.natural_gas_therm']*0.1 + results['saving_energy.fuel_oil_mmbtu']+ results['saving_energy.propane_mmbtu']\n",
    "    results['saving_energy.electricity_kwh'] = results['saving_energy.electricity_kwh']*results['sample_weight']\n",
    "    results['saving_energy.natural_gas_fuel_oil_propane_mmbtu'] = results['saving_energy.natural_gas_fuel_oil_propane_mmbtu']*results['sample_weight']\n",
    "    results['saving_cbill.total_usd'] = results['saving_cbill.total_usd']*results['sample_weight']\n",
    "    results['saving_emission.total_kgCO2e'] = results['saving_emission.total_kgCO2e']*results['sample_weight']\n",
    "    \n",
    "    agg_functions = {'upgrade_name': 'first',\n",
    "                     'saving_energy.electricity_kwh': 'sum',\n",
    "                     'saving_energy.natural_gas_fuel_oil_propane_mmbtu': 'sum', \n",
    "                      'saving_energy.total_mmbtu': 'sum', \n",
    "                     'saving_cbill.total_usd': 'sum',\n",
    "                     'saving_emission.total_kgCO2e': 'sum'}\n",
    "    results = results.groupby(results['upgrade_name']).aggregate(agg_functions)\n",
    "    results = results.sort_values('saving_cbill.total_usd')\n",
    "    \n",
    "    fig = make_subplots(rows=1, cols=6, horizontal_spacing=0.12, column_widths=[0.001, 1, 1, 1, 1, 1])\n",
    "    \n",
    "    fig.add_trace(go.Bar(\n",
    "        x=[0] * 176,\n",
    "        y=results['upgrade_name'],\n",
    "        text=None,\n",
    "        orientation='h'), row=1, col=1)\n",
    "    \n",
    "    fig.add_trace(go.Bar(\n",
    "        x=results['saving_cbill.total_usd'],\n",
    "        y=results['upgrade_name'],\n",
    "        text=results['saving_cbill.total_usd'],\n",
    "        orientation='h'), row=1, col=2)\n",
    "    \n",
    "    fig.add_trace(go.Bar(\n",
    "        x=results['saving_emission.total_kgCO2e'],\n",
    "        y=results['upgrade_name'],\n",
    "        text=results['saving_emission.total_kgCO2e'],\n",
    "        orientation='h'),row=1, col=3)\n",
    "\n",
    "    fig.add_trace(go.Bar(\n",
    "        x=results['saving_energy.total_mmbtu'],\n",
    "        y=results['upgrade_name'],\n",
    "        text=results['saving_energy.total_mmbtu'],\n",
    "        orientation='h'),row=1, col=4)\n",
    "    \n",
    "    fig.add_trace(go.Bar(\n",
    "        x=results['saving_energy.electricity_kwh'],\n",
    "        y=results['upgrade_name'],\n",
    "        text=results['saving_energy.electricity_kwh'],\n",
    "        orientation='h'),row=1, col=5)\n",
    "    \n",
    "    fig.add_trace(go.Bar(\n",
    "        x=results['saving_energy.natural_gas_fuel_oil_propane_mmbtu'],\n",
    "        y=results['upgrade_name'],\n",
    "        text=results['saving_energy.natural_gas_fuel_oil_propane_mmbtu'],\n",
    "        orientation='h'),row=1, col=6)\n",
    "\n",
    "    fig.update_traces(textfont_size=10, textangle=0, textposition=\"outside\", cliponaxis=False)\n",
    "    fig.update_traces(marker_color='rgb(0, 121, 61)', marker_line_color='rgb(0, 121, 61)')\n",
    "    fig.update_traces(marker_color='rgb(255, 255, 255)', marker_line_color='rgb(255, 255, 255)',row=1,col=1)\n",
    "    fig.update_traces(texttemplate='%{text:.3s}', textposition='outside',row=1,col=2)\n",
    "    fig.update_traces(texttemplate='%{text:.3s}', textposition='outside',row=1,col=3)\n",
    "    fig.update_traces(texttemplate='%{text:.3s}', textposition='outside',row=1,col=4)\n",
    "    fig.update_traces(texttemplate='%{text:.3s}', textposition='outside',row=1,col=5)\n",
    "    fig.update_traces(texttemplate='%{text:.3s}', textposition='outside',row=1,col=6)\n",
    "    fig.update_layout(xaxis_title=\"\", xaxis_visible=False, yaxis_visible=True,\n",
    "                      xaxis2_title=\"Bill<br>Savings<br>usd\", xaxis2_visible=True, yaxis2_visible=False,\n",
    "                      xaxis3_title=\"Site Emission<br>Saving<br>kgCO2e\", xaxis3_visible=True, yaxis3_visible=False,\n",
    "                      xaxis4_title=\"Site Energy<br>Saving<br>mmbtu\", xaxis4_visible=True, yaxis4_visible=False,\n",
    "                      xaxis5_title=\"Electricity<br>Saving<br>kwh\", xaxis5_visible=True, yaxis5_visible=False,\n",
    "                      xaxis6_title=\"Gas, Propane,<br>Fuel Oil Saving<br>mmbtu\", xaxis6_visible=True, yaxis6_visible=False,\n",
    "                     title='Community Total Annual Savings')\n",
    "    fig.update_layout(\n",
    "    autosize=False,\n",
    "    width=1100,\n",
    "    height=500,\n",
    "    font=dict(size=10),\n",
    "    plot_bgcolor='rgba(0, 0, 0, 0)',)\n",
    "    fig.update_xaxes(tickangle=45)\n",
    "    fig.update_layout(showlegend=False)\n",
    "    \n",
    "    fig.show()\n",
    "    fig.write_image(fig_dir / 'total_annual_savings_2.svg')\n",
    "\n",
    "figure_total_savings(community_results)"
   ]
  },
  {
   "cell_type": "code",
   "execution_count": 49,
   "id": "e7ef5df2",
   "metadata": {},
   "outputs": [
    {
     "data": {
      "application/vnd.plotly.v1+json": {
       "config": {
        "plotlyServerURL": "https://plot.ly"
       },
       "data": [
        {
         "cliponaxis": false,
         "marker": {
          "color": "rgb(255, 255, 255)",
          "line": {
           "color": "rgb(255, 255, 255)"
          }
         },
         "orientation": "h",
         "textangle": 0,
         "textfont": {
          "size": 10
         },
         "textposition": "outside",
         "type": "bar",
         "x": [
          0,
          0,
          0,
          0,
          0,
          0,
          0,
          0,
          0,
          0,
          0,
          0,
          0,
          0,
          0,
          0,
          0,
          0,
          0,
          0,
          0,
          0,
          0,
          0,
          0,
          0,
          0,
          0,
          0,
          0,
          0,
          0,
          0,
          0,
          0,
          0,
          0,
          0,
          0,
          0,
          0,
          0,
          0,
          0,
          0,
          0,
          0,
          0,
          0,
          0,
          0,
          0,
          0,
          0,
          0,
          0,
          0,
          0,
          0,
          0,
          0,
          0,
          0,
          0,
          0,
          0,
          0,
          0,
          0,
          0,
          0,
          0,
          0,
          0,
          0,
          0,
          0,
          0,
          0,
          0,
          0,
          0,
          0,
          0,
          0,
          0,
          0,
          0,
          0,
          0,
          0,
          0,
          0,
          0,
          0,
          0,
          0,
          0,
          0,
          0,
          0,
          0,
          0,
          0,
          0,
          0,
          0,
          0,
          0,
          0,
          0,
          0,
          0,
          0,
          0,
          0,
          0,
          0,
          0,
          0,
          0,
          0,
          0,
          0,
          0,
          0,
          0,
          0,
          0,
          0,
          0,
          0,
          0,
          0,
          0,
          0,
          0,
          0,
          0,
          0,
          0,
          0,
          0,
          0,
          0,
          0,
          0,
          0,
          0,
          0,
          0,
          0,
          0,
          0,
          0,
          0,
          0,
          0,
          0,
          0,
          0,
          0,
          0,
          0,
          0,
          0,
          0,
          0,
          0,
          0,
          0,
          0,
          0,
          0,
          0,
          0
         ],
         "xaxis": "x",
         "y": [
          "Electric Cooking",
          "Electric Clothes Dryer",
          "Induction Cooking",
          "Heat Pump Clothes Dryer",
          "Mininum Efficiency Whole Home Electrification",
          "Heat Pump Water Heater",
          "Mininum Efficiency Heat Pump with Existing Heat Backup",
          "Mininum Efficiency Heat Pump with Electric Heat Backup",
          "Basic Enclosure",
          "Enhanced Enclosure",
          "High Efficiency Heat Pump with Electric Heat Backup",
          "High Efficiency Whole Home Electrification",
          "Basic Enclosure + HPWH + High Efficiency HP/Electric Backup",
          "Enhanced Enclosure + HPWH + High Efficiency HP/Electric Backup",
          "Basic Enclosure + High Efficiency Whole Home Electrification",
          "Enhanced Enclosure + High Efficiency Whole Home Electrification"
         ],
         "yaxis": "y"
        },
        {
         "cliponaxis": false,
         "marker": {
          "color": "rgb(0, 121, 61)",
          "line": {
           "color": "rgb(0, 121, 61)"
          }
         },
         "orientation": "h",
         "text": [
          -182015.37176855368,
          -115272.05835259888,
          191654.64435130538,
          2449844.652724317,
          6523900.048094642,
          11466380.299900299,
          28860662.831289142,
          29236980.796178706,
          31005180.995794274,
          36379631.07325443,
          65735189.65319706,
          83392091.15660128,
          91175242.37922944,
          92837364.8379836,
          93913831.60413334,
          95575954.0628875
         ],
         "textangle": 0,
         "textfont": {
          "size": 10
         },
         "textposition": "outside",
         "texttemplate": "%{text:.3s}",
         "type": "bar",
         "x": [
          -182015.37176855368,
          -115272.05835259888,
          191654.64435130538,
          2449844.652724317,
          6523900.048094642,
          11466380.299900299,
          28860662.831289142,
          29236980.796178706,
          31005180.995794274,
          36379631.07325443,
          65735189.65319706,
          83392091.15660128,
          91175242.37922944,
          92837364.8379836,
          93913831.60413334,
          95575954.0628875
         ],
         "xaxis": "x2",
         "y": [
          "Electric Cooking",
          "Electric Clothes Dryer",
          "Induction Cooking",
          "Heat Pump Clothes Dryer",
          "Mininum Efficiency Whole Home Electrification",
          "Heat Pump Water Heater",
          "Mininum Efficiency Heat Pump with Existing Heat Backup",
          "Mininum Efficiency Heat Pump with Electric Heat Backup",
          "Basic Enclosure",
          "Enhanced Enclosure",
          "High Efficiency Heat Pump with Electric Heat Backup",
          "High Efficiency Whole Home Electrification",
          "Basic Enclosure + HPWH + High Efficiency HP/Electric Backup",
          "Enhanced Enclosure + HPWH + High Efficiency HP/Electric Backup",
          "Basic Enclosure + High Efficiency Whole Home Electrification",
          "Enhanced Enclosure + High Efficiency Whole Home Electrification"
         ],
         "yaxis": "y2"
        },
        {
         "cliponaxis": false,
         "marker": {
          "color": "rgb(0, 121, 61)",
          "line": {
           "color": "rgb(0, 121, 61)"
          }
         },
         "orientation": "h",
         "text": [
          1738716.9819606321,
          109469.05466047108,
          2444730.3511143755,
          4660347.295615813,
          58226225.09023675,
          30117277.445562206,
          85870393.52910651,
          97052568.44644807,
          79419412.43569708,
          93644231.2684836,
          172714249.20032558,
          220318206.71843675,
          234851691.04288825,
          238607404.9815212,
          241956768.68961844,
          245712482.62825137
         ],
         "textangle": 0,
         "textfont": {
          "size": 10
         },
         "textposition": "outside",
         "texttemplate": "%{text:.3s}",
         "type": "bar",
         "x": [
          1738716.9819606321,
          109469.05466047108,
          2444730.3511143755,
          4660347.295615813,
          58226225.09023675,
          30117277.445562206,
          85870393.52910651,
          97052568.44644807,
          79419412.43569708,
          93644231.2684836,
          172714249.20032558,
          220318206.71843675,
          234851691.04288825,
          238607404.9815212,
          241956768.68961844,
          245712482.62825137
         ],
         "xaxis": "x3",
         "y": [
          "Electric Cooking",
          "Electric Clothes Dryer",
          "Induction Cooking",
          "Heat Pump Clothes Dryer",
          "Mininum Efficiency Whole Home Electrification",
          "Heat Pump Water Heater",
          "Mininum Efficiency Heat Pump with Existing Heat Backup",
          "Mininum Efficiency Heat Pump with Electric Heat Backup",
          "Basic Enclosure",
          "Enhanced Enclosure",
          "High Efficiency Heat Pump with Electric Heat Backup",
          "High Efficiency Whole Home Electrification",
          "Basic Enclosure + HPWH + High Efficiency HP/Electric Backup",
          "Enhanced Enclosure + HPWH + High Efficiency HP/Electric Backup",
          "Basic Enclosure + High Efficiency Whole Home Electrification",
          "Enhanced Enclosure + High Efficiency Whole Home Electrification"
         ],
         "yaxis": "y3"
        },
        {
         "cliponaxis": false,
         "marker": {
          "color": "rgb(0, 121, 61)",
          "line": {
           "color": "rgb(0, 121, 61)"
          }
         },
         "orientation": "h",
         "text": [
          26603.296317960187,
          1762.7911048668443,
          36300.26371444652,
          68322.44667306652,
          963269.4979692918,
          438992.78258785984,
          1114068.377979857,
          1330957.7356952457,
          1057804.1078470761,
          1238810.048079733,
          2277994.0654551536,
          2957833.5107796066,
          3126227.187194408,
          3169355.0575996637,
          3230849.897581921,
          3273977.7679871763
         ],
         "textangle": 0,
         "textfont": {
          "size": 10
         },
         "textposition": "outside",
         "texttemplate": "%{text:.3s}",
         "type": "bar",
         "x": [
          26603.296317960187,
          1762.7911048668443,
          36300.26371444652,
          68322.44667306652,
          963269.4979692918,
          438992.78258785984,
          1114068.377979857,
          1330957.7356952457,
          1057804.1078470761,
          1238810.048079733,
          2277994.0654551536,
          2957833.5107796066,
          3126227.187194408,
          3169355.0575996637,
          3230849.897581921,
          3273977.7679871763
         ],
         "xaxis": "x4",
         "y": [
          "Electric Cooking",
          "Electric Clothes Dryer",
          "Induction Cooking",
          "Heat Pump Clothes Dryer",
          "Mininum Efficiency Whole Home Electrification",
          "Heat Pump Water Heater",
          "Mininum Efficiency Heat Pump with Existing Heat Backup",
          "Mininum Efficiency Heat Pump with Electric Heat Backup",
          "Basic Enclosure",
          "Enhanced Enclosure",
          "High Efficiency Heat Pump with Electric Heat Backup",
          "High Efficiency Whole Home Electrification",
          "Basic Enclosure + HPWH + High Efficiency HP/Electric Backup",
          "Enhanced Enclosure + HPWH + High Efficiency HP/Electric Backup",
          "Basic Enclosure + High Efficiency Whole Home Electrification",
          "Enhanced Enclosure + High Efficiency Whole Home Electrification"
         ],
         "yaxis": "y4"
        }
       ],
       "layout": {
        "autosize": false,
        "font": {
         "size": 10
        },
        "height": 500,
        "plot_bgcolor": "rgba(0, 0, 0, 0)",
        "showlegend": false,
        "template": {
         "data": {
          "bar": [
           {
            "error_x": {
             "color": "#2a3f5f"
            },
            "error_y": {
             "color": "#2a3f5f"
            },
            "marker": {
             "line": {
              "color": "#E5ECF6",
              "width": 0.5
             },
             "pattern": {
              "fillmode": "overlay",
              "size": 10,
              "solidity": 0.2
             }
            },
            "type": "bar"
           }
          ],
          "barpolar": [
           {
            "marker": {
             "line": {
              "color": "#E5ECF6",
              "width": 0.5
             },
             "pattern": {
              "fillmode": "overlay",
              "size": 10,
              "solidity": 0.2
             }
            },
            "type": "barpolar"
           }
          ],
          "carpet": [
           {
            "aaxis": {
             "endlinecolor": "#2a3f5f",
             "gridcolor": "white",
             "linecolor": "white",
             "minorgridcolor": "white",
             "startlinecolor": "#2a3f5f"
            },
            "baxis": {
             "endlinecolor": "#2a3f5f",
             "gridcolor": "white",
             "linecolor": "white",
             "minorgridcolor": "white",
             "startlinecolor": "#2a3f5f"
            },
            "type": "carpet"
           }
          ],
          "choropleth": [
           {
            "colorbar": {
             "outlinewidth": 0,
             "ticks": ""
            },
            "type": "choropleth"
           }
          ],
          "contour": [
           {
            "colorbar": {
             "outlinewidth": 0,
             "ticks": ""
            },
            "colorscale": [
             [
              0,
              "#0d0887"
             ],
             [
              0.1111111111111111,
              "#46039f"
             ],
             [
              0.2222222222222222,
              "#7201a8"
             ],
             [
              0.3333333333333333,
              "#9c179e"
             ],
             [
              0.4444444444444444,
              "#bd3786"
             ],
             [
              0.5555555555555556,
              "#d8576b"
             ],
             [
              0.6666666666666666,
              "#ed7953"
             ],
             [
              0.7777777777777778,
              "#fb9f3a"
             ],
             [
              0.8888888888888888,
              "#fdca26"
             ],
             [
              1,
              "#f0f921"
             ]
            ],
            "type": "contour"
           }
          ],
          "contourcarpet": [
           {
            "colorbar": {
             "outlinewidth": 0,
             "ticks": ""
            },
            "type": "contourcarpet"
           }
          ],
          "heatmap": [
           {
            "colorbar": {
             "outlinewidth": 0,
             "ticks": ""
            },
            "colorscale": [
             [
              0,
              "#0d0887"
             ],
             [
              0.1111111111111111,
              "#46039f"
             ],
             [
              0.2222222222222222,
              "#7201a8"
             ],
             [
              0.3333333333333333,
              "#9c179e"
             ],
             [
              0.4444444444444444,
              "#bd3786"
             ],
             [
              0.5555555555555556,
              "#d8576b"
             ],
             [
              0.6666666666666666,
              "#ed7953"
             ],
             [
              0.7777777777777778,
              "#fb9f3a"
             ],
             [
              0.8888888888888888,
              "#fdca26"
             ],
             [
              1,
              "#f0f921"
             ]
            ],
            "type": "heatmap"
           }
          ],
          "heatmapgl": [
           {
            "colorbar": {
             "outlinewidth": 0,
             "ticks": ""
            },
            "colorscale": [
             [
              0,
              "#0d0887"
             ],
             [
              0.1111111111111111,
              "#46039f"
             ],
             [
              0.2222222222222222,
              "#7201a8"
             ],
             [
              0.3333333333333333,
              "#9c179e"
             ],
             [
              0.4444444444444444,
              "#bd3786"
             ],
             [
              0.5555555555555556,
              "#d8576b"
             ],
             [
              0.6666666666666666,
              "#ed7953"
             ],
             [
              0.7777777777777778,
              "#fb9f3a"
             ],
             [
              0.8888888888888888,
              "#fdca26"
             ],
             [
              1,
              "#f0f921"
             ]
            ],
            "type": "heatmapgl"
           }
          ],
          "histogram": [
           {
            "marker": {
             "pattern": {
              "fillmode": "overlay",
              "size": 10,
              "solidity": 0.2
             }
            },
            "type": "histogram"
           }
          ],
          "histogram2d": [
           {
            "colorbar": {
             "outlinewidth": 0,
             "ticks": ""
            },
            "colorscale": [
             [
              0,
              "#0d0887"
             ],
             [
              0.1111111111111111,
              "#46039f"
             ],
             [
              0.2222222222222222,
              "#7201a8"
             ],
             [
              0.3333333333333333,
              "#9c179e"
             ],
             [
              0.4444444444444444,
              "#bd3786"
             ],
             [
              0.5555555555555556,
              "#d8576b"
             ],
             [
              0.6666666666666666,
              "#ed7953"
             ],
             [
              0.7777777777777778,
              "#fb9f3a"
             ],
             [
              0.8888888888888888,
              "#fdca26"
             ],
             [
              1,
              "#f0f921"
             ]
            ],
            "type": "histogram2d"
           }
          ],
          "histogram2dcontour": [
           {
            "colorbar": {
             "outlinewidth": 0,
             "ticks": ""
            },
            "colorscale": [
             [
              0,
              "#0d0887"
             ],
             [
              0.1111111111111111,
              "#46039f"
             ],
             [
              0.2222222222222222,
              "#7201a8"
             ],
             [
              0.3333333333333333,
              "#9c179e"
             ],
             [
              0.4444444444444444,
              "#bd3786"
             ],
             [
              0.5555555555555556,
              "#d8576b"
             ],
             [
              0.6666666666666666,
              "#ed7953"
             ],
             [
              0.7777777777777778,
              "#fb9f3a"
             ],
             [
              0.8888888888888888,
              "#fdca26"
             ],
             [
              1,
              "#f0f921"
             ]
            ],
            "type": "histogram2dcontour"
           }
          ],
          "mesh3d": [
           {
            "colorbar": {
             "outlinewidth": 0,
             "ticks": ""
            },
            "type": "mesh3d"
           }
          ],
          "parcoords": [
           {
            "line": {
             "colorbar": {
              "outlinewidth": 0,
              "ticks": ""
             }
            },
            "type": "parcoords"
           }
          ],
          "pie": [
           {
            "automargin": true,
            "type": "pie"
           }
          ],
          "scatter": [
           {
            "fillpattern": {
             "fillmode": "overlay",
             "size": 10,
             "solidity": 0.2
            },
            "type": "scatter"
           }
          ],
          "scatter3d": [
           {
            "line": {
             "colorbar": {
              "outlinewidth": 0,
              "ticks": ""
             }
            },
            "marker": {
             "colorbar": {
              "outlinewidth": 0,
              "ticks": ""
             }
            },
            "type": "scatter3d"
           }
          ],
          "scattercarpet": [
           {
            "marker": {
             "colorbar": {
              "outlinewidth": 0,
              "ticks": ""
             }
            },
            "type": "scattercarpet"
           }
          ],
          "scattergeo": [
           {
            "marker": {
             "colorbar": {
              "outlinewidth": 0,
              "ticks": ""
             }
            },
            "type": "scattergeo"
           }
          ],
          "scattergl": [
           {
            "marker": {
             "colorbar": {
              "outlinewidth": 0,
              "ticks": ""
             }
            },
            "type": "scattergl"
           }
          ],
          "scattermapbox": [
           {
            "marker": {
             "colorbar": {
              "outlinewidth": 0,
              "ticks": ""
             }
            },
            "type": "scattermapbox"
           }
          ],
          "scatterpolar": [
           {
            "marker": {
             "colorbar": {
              "outlinewidth": 0,
              "ticks": ""
             }
            },
            "type": "scatterpolar"
           }
          ],
          "scatterpolargl": [
           {
            "marker": {
             "colorbar": {
              "outlinewidth": 0,
              "ticks": ""
             }
            },
            "type": "scatterpolargl"
           }
          ],
          "scatterternary": [
           {
            "marker": {
             "colorbar": {
              "outlinewidth": 0,
              "ticks": ""
             }
            },
            "type": "scatterternary"
           }
          ],
          "surface": [
           {
            "colorbar": {
             "outlinewidth": 0,
             "ticks": ""
            },
            "colorscale": [
             [
              0,
              "#0d0887"
             ],
             [
              0.1111111111111111,
              "#46039f"
             ],
             [
              0.2222222222222222,
              "#7201a8"
             ],
             [
              0.3333333333333333,
              "#9c179e"
             ],
             [
              0.4444444444444444,
              "#bd3786"
             ],
             [
              0.5555555555555556,
              "#d8576b"
             ],
             [
              0.6666666666666666,
              "#ed7953"
             ],
             [
              0.7777777777777778,
              "#fb9f3a"
             ],
             [
              0.8888888888888888,
              "#fdca26"
             ],
             [
              1,
              "#f0f921"
             ]
            ],
            "type": "surface"
           }
          ],
          "table": [
           {
            "cells": {
             "fill": {
              "color": "#EBF0F8"
             },
             "line": {
              "color": "white"
             }
            },
            "header": {
             "fill": {
              "color": "#C8D4E3"
             },
             "line": {
              "color": "white"
             }
            },
            "type": "table"
           }
          ]
         },
         "layout": {
          "annotationdefaults": {
           "arrowcolor": "#2a3f5f",
           "arrowhead": 0,
           "arrowwidth": 1
          },
          "autotypenumbers": "strict",
          "coloraxis": {
           "colorbar": {
            "outlinewidth": 0,
            "ticks": ""
           }
          },
          "colorscale": {
           "diverging": [
            [
             0,
             "#8e0152"
            ],
            [
             0.1,
             "#c51b7d"
            ],
            [
             0.2,
             "#de77ae"
            ],
            [
             0.3,
             "#f1b6da"
            ],
            [
             0.4,
             "#fde0ef"
            ],
            [
             0.5,
             "#f7f7f7"
            ],
            [
             0.6,
             "#e6f5d0"
            ],
            [
             0.7,
             "#b8e186"
            ],
            [
             0.8,
             "#7fbc41"
            ],
            [
             0.9,
             "#4d9221"
            ],
            [
             1,
             "#276419"
            ]
           ],
           "sequential": [
            [
             0,
             "#0d0887"
            ],
            [
             0.1111111111111111,
             "#46039f"
            ],
            [
             0.2222222222222222,
             "#7201a8"
            ],
            [
             0.3333333333333333,
             "#9c179e"
            ],
            [
             0.4444444444444444,
             "#bd3786"
            ],
            [
             0.5555555555555556,
             "#d8576b"
            ],
            [
             0.6666666666666666,
             "#ed7953"
            ],
            [
             0.7777777777777778,
             "#fb9f3a"
            ],
            [
             0.8888888888888888,
             "#fdca26"
            ],
            [
             1,
             "#f0f921"
            ]
           ],
           "sequentialminus": [
            [
             0,
             "#0d0887"
            ],
            [
             0.1111111111111111,
             "#46039f"
            ],
            [
             0.2222222222222222,
             "#7201a8"
            ],
            [
             0.3333333333333333,
             "#9c179e"
            ],
            [
             0.4444444444444444,
             "#bd3786"
            ],
            [
             0.5555555555555556,
             "#d8576b"
            ],
            [
             0.6666666666666666,
             "#ed7953"
            ],
            [
             0.7777777777777778,
             "#fb9f3a"
            ],
            [
             0.8888888888888888,
             "#fdca26"
            ],
            [
             1,
             "#f0f921"
            ]
           ]
          },
          "colorway": [
           "#636efa",
           "#EF553B",
           "#00cc96",
           "#ab63fa",
           "#FFA15A",
           "#19d3f3",
           "#FF6692",
           "#B6E880",
           "#FF97FF",
           "#FECB52"
          ],
          "font": {
           "color": "#2a3f5f"
          },
          "geo": {
           "bgcolor": "white",
           "lakecolor": "white",
           "landcolor": "#E5ECF6",
           "showlakes": true,
           "showland": true,
           "subunitcolor": "white"
          },
          "hoverlabel": {
           "align": "left"
          },
          "hovermode": "closest",
          "mapbox": {
           "style": "light"
          },
          "paper_bgcolor": "white",
          "plot_bgcolor": "#E5ECF6",
          "polar": {
           "angularaxis": {
            "gridcolor": "white",
            "linecolor": "white",
            "ticks": ""
           },
           "bgcolor": "#E5ECF6",
           "radialaxis": {
            "gridcolor": "white",
            "linecolor": "white",
            "ticks": ""
           }
          },
          "scene": {
           "xaxis": {
            "backgroundcolor": "#E5ECF6",
            "gridcolor": "white",
            "gridwidth": 2,
            "linecolor": "white",
            "showbackground": true,
            "ticks": "",
            "zerolinecolor": "white"
           },
           "yaxis": {
            "backgroundcolor": "#E5ECF6",
            "gridcolor": "white",
            "gridwidth": 2,
            "linecolor": "white",
            "showbackground": true,
            "ticks": "",
            "zerolinecolor": "white"
           },
           "zaxis": {
            "backgroundcolor": "#E5ECF6",
            "gridcolor": "white",
            "gridwidth": 2,
            "linecolor": "white",
            "showbackground": true,
            "ticks": "",
            "zerolinecolor": "white"
           }
          },
          "shapedefaults": {
           "line": {
            "color": "#2a3f5f"
           }
          },
          "ternary": {
           "aaxis": {
            "gridcolor": "white",
            "linecolor": "white",
            "ticks": ""
           },
           "baxis": {
            "gridcolor": "white",
            "linecolor": "white",
            "ticks": ""
           },
           "bgcolor": "#E5ECF6",
           "caxis": {
            "gridcolor": "white",
            "linecolor": "white",
            "ticks": ""
           }
          },
          "title": {
           "x": 0.05
          },
          "xaxis": {
           "automargin": true,
           "gridcolor": "white",
           "linecolor": "white",
           "ticks": "",
           "title": {
            "standoff": 15
           },
           "zerolinecolor": "white",
           "zerolinewidth": 2
          },
          "yaxis": {
           "automargin": true,
           "gridcolor": "white",
           "linecolor": "white",
           "ticks": "",
           "title": {
            "standoff": 15
           },
           "zerolinecolor": "white",
           "zerolinewidth": 2
          }
         }
        },
        "title": {
         "text": "Total Annual Savings for the Whole Community"
        },
        "width": 850,
        "xaxis": {
         "anchor": "y",
         "domain": [
          0,
          0.004635761589403973
         ],
         "tickangle": 45,
         "title": {
          "text": ""
         },
         "visible": false
        },
        "xaxis2": {
         "anchor": "y2",
         "domain": [
          0.10463576158940398,
          0.33642384105960266
         ],
         "tickangle": 45,
         "title": {
          "text": "Bill Savings<br>usd"
         },
         "visible": true
        },
        "xaxis3": {
         "anchor": "y3",
         "domain": [
          0.43642384105960264,
          0.6682119205298013
         ],
         "tickangle": 45,
         "title": {
          "text": "Emission Savings<br>kgCO2e"
         },
         "visible": true
        },
        "xaxis4": {
         "anchor": "y4",
         "domain": [
          0.7682119205298014,
          1
         ],
         "tickangle": 45,
         "title": {
          "text": "Energy Savings<br>mmbtu"
         },
         "visible": true
        },
        "yaxis": {
         "anchor": "x",
         "domain": [
          0,
          1
         ],
         "visible": true
        },
        "yaxis2": {
         "anchor": "x2",
         "domain": [
          0,
          1
         ],
         "visible": false
        },
        "yaxis3": {
         "anchor": "x3",
         "domain": [
          0,
          1
         ],
         "visible": false
        },
        "yaxis4": {
         "anchor": "x4",
         "domain": [
          0,
          1
         ],
         "visible": false
        }
       }
      },
      "text/html": [
       "<div>                            <div id=\"976ad192-3d2c-4004-a694-7a2596a6dc79\" class=\"plotly-graph-div\" style=\"height:500px; width:850px;\"></div>            <script type=\"text/javascript\">                require([\"plotly\"], function(Plotly) {                    window.PLOTLYENV=window.PLOTLYENV || {};                                    if (document.getElementById(\"976ad192-3d2c-4004-a694-7a2596a6dc79\")) {                    Plotly.newPlot(                        \"976ad192-3d2c-4004-a694-7a2596a6dc79\",                        [{\"orientation\":\"h\",\"x\":[0,0,0,0,0,0,0,0,0,0,0,0,0,0,0,0,0,0,0,0,0,0,0,0,0,0,0,0,0,0,0,0,0,0,0,0,0,0,0,0,0,0,0,0,0,0,0,0,0,0,0,0,0,0,0,0,0,0,0,0,0,0,0,0,0,0,0,0,0,0,0,0,0,0,0,0,0,0,0,0,0,0,0,0,0,0,0,0,0,0,0,0,0,0,0,0,0,0,0,0,0,0,0,0,0,0,0,0,0,0,0,0,0,0,0,0,0,0,0,0,0,0,0,0,0,0,0,0,0,0,0,0,0,0,0,0,0,0,0,0,0,0,0,0,0,0,0,0,0,0,0,0,0,0,0,0,0,0,0,0,0,0,0,0,0,0,0,0,0,0,0,0,0,0,0,0],\"y\":[\"Electric Cooking\",\"Electric Clothes Dryer\",\"Induction Cooking\",\"Heat Pump Clothes Dryer\",\"Mininum Efficiency Whole Home Electrification\",\"Heat Pump Water Heater\",\"Mininum Efficiency Heat Pump with Existing Heat Backup\",\"Mininum Efficiency Heat Pump with Electric Heat Backup\",\"Basic Enclosure\",\"Enhanced Enclosure\",\"High Efficiency Heat Pump with Electric Heat Backup\",\"High Efficiency Whole Home Electrification\",\"Basic Enclosure + HPWH + High Efficiency HP/Electric Backup\",\"Enhanced Enclosure + HPWH + High Efficiency HP/Electric Backup\",\"Basic Enclosure + High Efficiency Whole Home Electrification\",\"Enhanced Enclosure + High Efficiency Whole Home Electrification\"],\"type\":\"bar\",\"xaxis\":\"x\",\"yaxis\":\"y\",\"textfont\":{\"size\":10},\"cliponaxis\":false,\"textangle\":0,\"textposition\":\"outside\",\"marker\":{\"line\":{\"color\":\"rgb(255, 255, 255)\"},\"color\":\"rgb(255, 255, 255)\"}},{\"orientation\":\"h\",\"text\":[-182015.37176855368,-115272.05835259888,191654.64435130538,2449844.652724317,6523900.048094642,11466380.299900299,28860662.831289142,29236980.796178706,31005180.995794274,36379631.07325443,65735189.65319706,83392091.15660128,91175242.37922944,92837364.8379836,93913831.60413334,95575954.0628875],\"x\":[-182015.37176855368,-115272.05835259888,191654.64435130538,2449844.652724317,6523900.048094642,11466380.299900299,28860662.831289142,29236980.796178706,31005180.995794274,36379631.07325443,65735189.65319706,83392091.15660128,91175242.37922944,92837364.8379836,93913831.60413334,95575954.0628875],\"y\":[\"Electric Cooking\",\"Electric Clothes Dryer\",\"Induction Cooking\",\"Heat Pump Clothes Dryer\",\"Mininum Efficiency Whole Home Electrification\",\"Heat Pump Water Heater\",\"Mininum Efficiency Heat Pump with Existing Heat Backup\",\"Mininum Efficiency Heat Pump with Electric Heat Backup\",\"Basic Enclosure\",\"Enhanced Enclosure\",\"High Efficiency Heat Pump with Electric Heat Backup\",\"High Efficiency Whole Home Electrification\",\"Basic Enclosure + HPWH + High Efficiency HP/Electric Backup\",\"Enhanced Enclosure + HPWH + High Efficiency HP/Electric Backup\",\"Basic Enclosure + High Efficiency Whole Home Electrification\",\"Enhanced Enclosure + High Efficiency Whole Home Electrification\"],\"type\":\"bar\",\"xaxis\":\"x2\",\"yaxis\":\"y2\",\"textfont\":{\"size\":10},\"cliponaxis\":false,\"textangle\":0,\"textposition\":\"outside\",\"marker\":{\"line\":{\"color\":\"rgb(0, 121, 61)\"},\"color\":\"rgb(0, 121, 61)\"},\"texttemplate\":\"%{text:.3s}\"},{\"orientation\":\"h\",\"text\":[1738716.9819606321,109469.05466047108,2444730.3511143755,4660347.295615813,58226225.09023675,30117277.445562206,85870393.52910651,97052568.44644807,79419412.43569708,93644231.2684836,172714249.20032558,220318206.71843675,234851691.04288825,238607404.9815212,241956768.68961844,245712482.62825137],\"x\":[1738716.9819606321,109469.05466047108,2444730.3511143755,4660347.295615813,58226225.09023675,30117277.445562206,85870393.52910651,97052568.44644807,79419412.43569708,93644231.2684836,172714249.20032558,220318206.71843675,234851691.04288825,238607404.9815212,241956768.68961844,245712482.62825137],\"y\":[\"Electric Cooking\",\"Electric Clothes Dryer\",\"Induction Cooking\",\"Heat Pump Clothes Dryer\",\"Mininum Efficiency Whole Home Electrification\",\"Heat Pump Water Heater\",\"Mininum Efficiency Heat Pump with Existing Heat Backup\",\"Mininum Efficiency Heat Pump with Electric Heat Backup\",\"Basic Enclosure\",\"Enhanced Enclosure\",\"High Efficiency Heat Pump with Electric Heat Backup\",\"High Efficiency Whole Home Electrification\",\"Basic Enclosure + HPWH + High Efficiency HP/Electric Backup\",\"Enhanced Enclosure + HPWH + High Efficiency HP/Electric Backup\",\"Basic Enclosure + High Efficiency Whole Home Electrification\",\"Enhanced Enclosure + High Efficiency Whole Home Electrification\"],\"type\":\"bar\",\"xaxis\":\"x3\",\"yaxis\":\"y3\",\"textfont\":{\"size\":10},\"cliponaxis\":false,\"textangle\":0,\"textposition\":\"outside\",\"marker\":{\"line\":{\"color\":\"rgb(0, 121, 61)\"},\"color\":\"rgb(0, 121, 61)\"},\"texttemplate\":\"%{text:.3s}\"},{\"orientation\":\"h\",\"text\":[26603.296317960187,1762.7911048668443,36300.26371444652,68322.44667306652,963269.4979692918,438992.78258785984,1114068.377979857,1330957.7356952457,1057804.1078470761,1238810.048079733,2277994.0654551536,2957833.5107796066,3126227.187194408,3169355.0575996637,3230849.897581921,3273977.7679871763],\"x\":[26603.296317960187,1762.7911048668443,36300.26371444652,68322.44667306652,963269.4979692918,438992.78258785984,1114068.377979857,1330957.7356952457,1057804.1078470761,1238810.048079733,2277994.0654551536,2957833.5107796066,3126227.187194408,3169355.0575996637,3230849.897581921,3273977.7679871763],\"y\":[\"Electric Cooking\",\"Electric Clothes Dryer\",\"Induction Cooking\",\"Heat Pump Clothes Dryer\",\"Mininum Efficiency Whole Home Electrification\",\"Heat Pump Water Heater\",\"Mininum Efficiency Heat Pump with Existing Heat Backup\",\"Mininum Efficiency Heat Pump with Electric Heat Backup\",\"Basic Enclosure\",\"Enhanced Enclosure\",\"High Efficiency Heat Pump with Electric Heat Backup\",\"High Efficiency Whole Home Electrification\",\"Basic Enclosure + HPWH + High Efficiency HP/Electric Backup\",\"Enhanced Enclosure + HPWH + High Efficiency HP/Electric Backup\",\"Basic Enclosure + High Efficiency Whole Home Electrification\",\"Enhanced Enclosure + High Efficiency Whole Home Electrification\"],\"type\":\"bar\",\"xaxis\":\"x4\",\"yaxis\":\"y4\",\"textfont\":{\"size\":10},\"cliponaxis\":false,\"textangle\":0,\"textposition\":\"outside\",\"marker\":{\"line\":{\"color\":\"rgb(0, 121, 61)\"},\"color\":\"rgb(0, 121, 61)\"},\"texttemplate\":\"%{text:.3s}\"}],                        {\"template\":{\"data\":{\"histogram2dcontour\":[{\"type\":\"histogram2dcontour\",\"colorbar\":{\"outlinewidth\":0,\"ticks\":\"\"},\"colorscale\":[[0.0,\"#0d0887\"],[0.1111111111111111,\"#46039f\"],[0.2222222222222222,\"#7201a8\"],[0.3333333333333333,\"#9c179e\"],[0.4444444444444444,\"#bd3786\"],[0.5555555555555556,\"#d8576b\"],[0.6666666666666666,\"#ed7953\"],[0.7777777777777778,\"#fb9f3a\"],[0.8888888888888888,\"#fdca26\"],[1.0,\"#f0f921\"]]}],\"choropleth\":[{\"type\":\"choropleth\",\"colorbar\":{\"outlinewidth\":0,\"ticks\":\"\"}}],\"histogram2d\":[{\"type\":\"histogram2d\",\"colorbar\":{\"outlinewidth\":0,\"ticks\":\"\"},\"colorscale\":[[0.0,\"#0d0887\"],[0.1111111111111111,\"#46039f\"],[0.2222222222222222,\"#7201a8\"],[0.3333333333333333,\"#9c179e\"],[0.4444444444444444,\"#bd3786\"],[0.5555555555555556,\"#d8576b\"],[0.6666666666666666,\"#ed7953\"],[0.7777777777777778,\"#fb9f3a\"],[0.8888888888888888,\"#fdca26\"],[1.0,\"#f0f921\"]]}],\"heatmap\":[{\"type\":\"heatmap\",\"colorbar\":{\"outlinewidth\":0,\"ticks\":\"\"},\"colorscale\":[[0.0,\"#0d0887\"],[0.1111111111111111,\"#46039f\"],[0.2222222222222222,\"#7201a8\"],[0.3333333333333333,\"#9c179e\"],[0.4444444444444444,\"#bd3786\"],[0.5555555555555556,\"#d8576b\"],[0.6666666666666666,\"#ed7953\"],[0.7777777777777778,\"#fb9f3a\"],[0.8888888888888888,\"#fdca26\"],[1.0,\"#f0f921\"]]}],\"heatmapgl\":[{\"type\":\"heatmapgl\",\"colorbar\":{\"outlinewidth\":0,\"ticks\":\"\"},\"colorscale\":[[0.0,\"#0d0887\"],[0.1111111111111111,\"#46039f\"],[0.2222222222222222,\"#7201a8\"],[0.3333333333333333,\"#9c179e\"],[0.4444444444444444,\"#bd3786\"],[0.5555555555555556,\"#d8576b\"],[0.6666666666666666,\"#ed7953\"],[0.7777777777777778,\"#fb9f3a\"],[0.8888888888888888,\"#fdca26\"],[1.0,\"#f0f921\"]]}],\"contourcarpet\":[{\"type\":\"contourcarpet\",\"colorbar\":{\"outlinewidth\":0,\"ticks\":\"\"}}],\"contour\":[{\"type\":\"contour\",\"colorbar\":{\"outlinewidth\":0,\"ticks\":\"\"},\"colorscale\":[[0.0,\"#0d0887\"],[0.1111111111111111,\"#46039f\"],[0.2222222222222222,\"#7201a8\"],[0.3333333333333333,\"#9c179e\"],[0.4444444444444444,\"#bd3786\"],[0.5555555555555556,\"#d8576b\"],[0.6666666666666666,\"#ed7953\"],[0.7777777777777778,\"#fb9f3a\"],[0.8888888888888888,\"#fdca26\"],[1.0,\"#f0f921\"]]}],\"surface\":[{\"type\":\"surface\",\"colorbar\":{\"outlinewidth\":0,\"ticks\":\"\"},\"colorscale\":[[0.0,\"#0d0887\"],[0.1111111111111111,\"#46039f\"],[0.2222222222222222,\"#7201a8\"],[0.3333333333333333,\"#9c179e\"],[0.4444444444444444,\"#bd3786\"],[0.5555555555555556,\"#d8576b\"],[0.6666666666666666,\"#ed7953\"],[0.7777777777777778,\"#fb9f3a\"],[0.8888888888888888,\"#fdca26\"],[1.0,\"#f0f921\"]]}],\"mesh3d\":[{\"type\":\"mesh3d\",\"colorbar\":{\"outlinewidth\":0,\"ticks\":\"\"}}],\"scatter\":[{\"fillpattern\":{\"fillmode\":\"overlay\",\"size\":10,\"solidity\":0.2},\"type\":\"scatter\"}],\"parcoords\":[{\"type\":\"parcoords\",\"line\":{\"colorbar\":{\"outlinewidth\":0,\"ticks\":\"\"}}}],\"scatterpolargl\":[{\"type\":\"scatterpolargl\",\"marker\":{\"colorbar\":{\"outlinewidth\":0,\"ticks\":\"\"}}}],\"bar\":[{\"error_x\":{\"color\":\"#2a3f5f\"},\"error_y\":{\"color\":\"#2a3f5f\"},\"marker\":{\"line\":{\"color\":\"#E5ECF6\",\"width\":0.5},\"pattern\":{\"fillmode\":\"overlay\",\"size\":10,\"solidity\":0.2}},\"type\":\"bar\"}],\"scattergeo\":[{\"type\":\"scattergeo\",\"marker\":{\"colorbar\":{\"outlinewidth\":0,\"ticks\":\"\"}}}],\"scatterpolar\":[{\"type\":\"scatterpolar\",\"marker\":{\"colorbar\":{\"outlinewidth\":0,\"ticks\":\"\"}}}],\"histogram\":[{\"marker\":{\"pattern\":{\"fillmode\":\"overlay\",\"size\":10,\"solidity\":0.2}},\"type\":\"histogram\"}],\"scattergl\":[{\"type\":\"scattergl\",\"marker\":{\"colorbar\":{\"outlinewidth\":0,\"ticks\":\"\"}}}],\"scatter3d\":[{\"type\":\"scatter3d\",\"line\":{\"colorbar\":{\"outlinewidth\":0,\"ticks\":\"\"}},\"marker\":{\"colorbar\":{\"outlinewidth\":0,\"ticks\":\"\"}}}],\"scattermapbox\":[{\"type\":\"scattermapbox\",\"marker\":{\"colorbar\":{\"outlinewidth\":0,\"ticks\":\"\"}}}],\"scatterternary\":[{\"type\":\"scatterternary\",\"marker\":{\"colorbar\":{\"outlinewidth\":0,\"ticks\":\"\"}}}],\"scattercarpet\":[{\"type\":\"scattercarpet\",\"marker\":{\"colorbar\":{\"outlinewidth\":0,\"ticks\":\"\"}}}],\"carpet\":[{\"aaxis\":{\"endlinecolor\":\"#2a3f5f\",\"gridcolor\":\"white\",\"linecolor\":\"white\",\"minorgridcolor\":\"white\",\"startlinecolor\":\"#2a3f5f\"},\"baxis\":{\"endlinecolor\":\"#2a3f5f\",\"gridcolor\":\"white\",\"linecolor\":\"white\",\"minorgridcolor\":\"white\",\"startlinecolor\":\"#2a3f5f\"},\"type\":\"carpet\"}],\"table\":[{\"cells\":{\"fill\":{\"color\":\"#EBF0F8\"},\"line\":{\"color\":\"white\"}},\"header\":{\"fill\":{\"color\":\"#C8D4E3\"},\"line\":{\"color\":\"white\"}},\"type\":\"table\"}],\"barpolar\":[{\"marker\":{\"line\":{\"color\":\"#E5ECF6\",\"width\":0.5},\"pattern\":{\"fillmode\":\"overlay\",\"size\":10,\"solidity\":0.2}},\"type\":\"barpolar\"}],\"pie\":[{\"automargin\":true,\"type\":\"pie\"}]},\"layout\":{\"autotypenumbers\":\"strict\",\"colorway\":[\"#636efa\",\"#EF553B\",\"#00cc96\",\"#ab63fa\",\"#FFA15A\",\"#19d3f3\",\"#FF6692\",\"#B6E880\",\"#FF97FF\",\"#FECB52\"],\"font\":{\"color\":\"#2a3f5f\"},\"hovermode\":\"closest\",\"hoverlabel\":{\"align\":\"left\"},\"paper_bgcolor\":\"white\",\"plot_bgcolor\":\"#E5ECF6\",\"polar\":{\"bgcolor\":\"#E5ECF6\",\"angularaxis\":{\"gridcolor\":\"white\",\"linecolor\":\"white\",\"ticks\":\"\"},\"radialaxis\":{\"gridcolor\":\"white\",\"linecolor\":\"white\",\"ticks\":\"\"}},\"ternary\":{\"bgcolor\":\"#E5ECF6\",\"aaxis\":{\"gridcolor\":\"white\",\"linecolor\":\"white\",\"ticks\":\"\"},\"baxis\":{\"gridcolor\":\"white\",\"linecolor\":\"white\",\"ticks\":\"\"},\"caxis\":{\"gridcolor\":\"white\",\"linecolor\":\"white\",\"ticks\":\"\"}},\"coloraxis\":{\"colorbar\":{\"outlinewidth\":0,\"ticks\":\"\"}},\"colorscale\":{\"sequential\":[[0.0,\"#0d0887\"],[0.1111111111111111,\"#46039f\"],[0.2222222222222222,\"#7201a8\"],[0.3333333333333333,\"#9c179e\"],[0.4444444444444444,\"#bd3786\"],[0.5555555555555556,\"#d8576b\"],[0.6666666666666666,\"#ed7953\"],[0.7777777777777778,\"#fb9f3a\"],[0.8888888888888888,\"#fdca26\"],[1.0,\"#f0f921\"]],\"sequentialminus\":[[0.0,\"#0d0887\"],[0.1111111111111111,\"#46039f\"],[0.2222222222222222,\"#7201a8\"],[0.3333333333333333,\"#9c179e\"],[0.4444444444444444,\"#bd3786\"],[0.5555555555555556,\"#d8576b\"],[0.6666666666666666,\"#ed7953\"],[0.7777777777777778,\"#fb9f3a\"],[0.8888888888888888,\"#fdca26\"],[1.0,\"#f0f921\"]],\"diverging\":[[0,\"#8e0152\"],[0.1,\"#c51b7d\"],[0.2,\"#de77ae\"],[0.3,\"#f1b6da\"],[0.4,\"#fde0ef\"],[0.5,\"#f7f7f7\"],[0.6,\"#e6f5d0\"],[0.7,\"#b8e186\"],[0.8,\"#7fbc41\"],[0.9,\"#4d9221\"],[1,\"#276419\"]]},\"xaxis\":{\"gridcolor\":\"white\",\"linecolor\":\"white\",\"ticks\":\"\",\"title\":{\"standoff\":15},\"zerolinecolor\":\"white\",\"automargin\":true,\"zerolinewidth\":2},\"yaxis\":{\"gridcolor\":\"white\",\"linecolor\":\"white\",\"ticks\":\"\",\"title\":{\"standoff\":15},\"zerolinecolor\":\"white\",\"automargin\":true,\"zerolinewidth\":2},\"scene\":{\"xaxis\":{\"backgroundcolor\":\"#E5ECF6\",\"gridcolor\":\"white\",\"linecolor\":\"white\",\"showbackground\":true,\"ticks\":\"\",\"zerolinecolor\":\"white\",\"gridwidth\":2},\"yaxis\":{\"backgroundcolor\":\"#E5ECF6\",\"gridcolor\":\"white\",\"linecolor\":\"white\",\"showbackground\":true,\"ticks\":\"\",\"zerolinecolor\":\"white\",\"gridwidth\":2},\"zaxis\":{\"backgroundcolor\":\"#E5ECF6\",\"gridcolor\":\"white\",\"linecolor\":\"white\",\"showbackground\":true,\"ticks\":\"\",\"zerolinecolor\":\"white\",\"gridwidth\":2}},\"shapedefaults\":{\"line\":{\"color\":\"#2a3f5f\"}},\"annotationdefaults\":{\"arrowcolor\":\"#2a3f5f\",\"arrowhead\":0,\"arrowwidth\":1},\"geo\":{\"bgcolor\":\"white\",\"landcolor\":\"#E5ECF6\",\"subunitcolor\":\"white\",\"showland\":true,\"showlakes\":true,\"lakecolor\":\"white\"},\"title\":{\"x\":0.05},\"mapbox\":{\"style\":\"light\"}}},\"xaxis\":{\"anchor\":\"y\",\"domain\":[0.0,0.004635761589403973],\"title\":{\"text\":\"\"},\"visible\":false,\"tickangle\":45},\"yaxis\":{\"anchor\":\"x\",\"domain\":[0.0,1.0],\"visible\":true},\"xaxis2\":{\"anchor\":\"y2\",\"domain\":[0.10463576158940398,0.33642384105960266],\"title\":{\"text\":\"Bill Savings<br>usd\"},\"visible\":true,\"tickangle\":45},\"yaxis2\":{\"anchor\":\"x2\",\"domain\":[0.0,1.0],\"visible\":false},\"xaxis3\":{\"anchor\":\"y3\",\"domain\":[0.43642384105960264,0.6682119205298013],\"title\":{\"text\":\"Emission Savings<br>kgCO2e\"},\"visible\":true,\"tickangle\":45},\"yaxis3\":{\"anchor\":\"x3\",\"domain\":[0.0,1.0],\"visible\":false},\"xaxis4\":{\"anchor\":\"y4\",\"domain\":[0.7682119205298014,1.0],\"title\":{\"text\":\"Energy Savings<br>mmbtu\"},\"visible\":true,\"tickangle\":45},\"yaxis4\":{\"anchor\":\"x4\",\"domain\":[0.0,1.0],\"visible\":false},\"title\":{\"text\":\"Total Annual Savings for the Whole Community\"},\"font\":{\"size\":10},\"autosize\":false,\"width\":850,\"height\":500,\"plot_bgcolor\":\"rgba(0, 0, 0, 0)\",\"showlegend\":false},                        {\"responsive\": true}                    ).then(function(){\n",
       "                            \n",
       "var gd = document.getElementById('976ad192-3d2c-4004-a694-7a2596a6dc79');\n",
       "var x = new MutationObserver(function (mutations, observer) {{\n",
       "        var display = window.getComputedStyle(gd).display;\n",
       "        if (!display || display === 'none') {{\n",
       "            console.log([gd, 'removed!']);\n",
       "            Plotly.purge(gd);\n",
       "            observer.disconnect();\n",
       "        }}\n",
       "}});\n",
       "\n",
       "// Listen for the removal of the full notebook cells\n",
       "var notebookContainer = gd.closest('#notebook-container');\n",
       "if (notebookContainer) {{\n",
       "    x.observe(notebookContainer, {childList: true});\n",
       "}}\n",
       "\n",
       "// Listen for the clearing of the current output cell\n",
       "var outputEl = gd.closest('.output');\n",
       "if (outputEl) {{\n",
       "    x.observe(outputEl, {childList: true});\n",
       "}}\n",
       "\n",
       "                        })                };                });            </script>        </div>"
      ]
     },
     "metadata": {},
     "output_type": "display_data"
    }
   ],
   "source": [
    "# flavor 3 - site energy only\n",
    "def figure_total_savings(commnity_results):\n",
    "    results = commnity_results[[\n",
    "        'upgrade_name',\n",
    "        'saving_energy.total_mmbtu',\n",
    "        'saving_cbill.total_usd',\n",
    "        'saving_emission.total_kgCO2e',\n",
    "        'sample_weight']]\n",
    "    results = results.loc[results['upgrade_name'] != 'baseline']\n",
    "    results['saving_energy.total_mmbtu'] = results['saving_energy.total_mmbtu']*results['sample_weight']\n",
    "    results['saving_cbill.total_usd'] = results['saving_cbill.total_usd']*results['sample_weight']\n",
    "    results['saving_emission.total_kgCO2e'] = results['saving_emission.total_kgCO2e']*results['sample_weight']\n",
    "    \n",
    "    agg_functions = {'upgrade_name': 'first',\n",
    "                     'saving_energy.total_mmbtu': 'sum', \n",
    "                     'saving_cbill.total_usd': 'sum',\n",
    "                     'saving_emission.total_kgCO2e': 'sum'}\n",
    "    results = results.groupby(results['upgrade_name']).aggregate(agg_functions)\n",
    "    results = results.sort_values('saving_cbill.total_usd')\n",
    "    \n",
    "    fig = make_subplots(rows=1, cols=4, horizontal_spacing=0.1, column_widths=[0.02, 1, 1, 1])\n",
    "    \n",
    "    fig.add_trace(go.Bar(\n",
    "        x=[0] * 176,\n",
    "        y=results['upgrade_name'],\n",
    "        text=None,\n",
    "        orientation='h'), row=1, col=1)\n",
    "    \n",
    "    fig.add_trace(go.Bar(\n",
    "        x=results['saving_cbill.total_usd'],\n",
    "        y=results['upgrade_name'],\n",
    "        text=results['saving_cbill.total_usd'],\n",
    "        orientation='h'), row=1, col=2)\n",
    "    \n",
    "    fig.add_trace(go.Bar(\n",
    "        x=results['saving_emission.total_kgCO2e'],\n",
    "        y=results['upgrade_name'],\n",
    "        text=results['saving_emission.total_kgCO2e'],\n",
    "        orientation='h'),row=1, col=3)\n",
    "    \n",
    "    fig.add_trace(go.Bar(\n",
    "        x=results['saving_energy.total_mmbtu'],\n",
    "        y=results['upgrade_name'],\n",
    "        text=results['saving_energy.total_mmbtu'],\n",
    "        orientation='h'),row=1, col=4)\n",
    "\n",
    "    fig.update_traces(textfont_size=10, textangle=0, textposition=\"outside\", cliponaxis=False)\n",
    "    fig.update_traces(marker_color='rgb(0, 121, 61)', marker_line_color='rgb(0, 121, 61)')\n",
    "    fig.update_traces(marker_color='rgb(255, 255, 255)', marker_line_color='rgb(255, 255, 255)',row=1,col=1)\n",
    "    fig.update_traces(texttemplate='%{text:.3s}', textposition='outside',row=1,col=2)\n",
    "    fig.update_traces(texttemplate='%{text:.3s}', textposition='outside',row=1,col=3)\n",
    "    fig.update_traces(texttemplate='%{text:.3s}', textposition='outside',row=1,col=4)\n",
    "    fig.update_layout(xaxis_title=\"\", xaxis_visible=False, yaxis_visible=True,\n",
    "                      xaxis2_title=\"Bill Savings<br>usd\", xaxis2_visible=True, yaxis2_visible=False,\n",
    "                      xaxis3_title=\"Emission Savings<br>kgCO2e\", xaxis3_visible=True, yaxis3_visible=False,\n",
    "                      xaxis4_title=\"Energy Savings<br>mmbtu\", xaxis4_visible=True, yaxis4_visible=False,\n",
    "                     title='Total Annual Savings for the Whole Community')\n",
    "    fig.update_layout(\n",
    "    autosize=False,\n",
    "    width=850,\n",
    "    height=500,\n",
    "    font=dict(size=10),\n",
    "    plot_bgcolor='rgba(0, 0, 0, 0)',)\n",
    "    fig.update_xaxes(tickangle=45)\n",
    "    fig.update_layout(showlegend=False)\n",
    "    \n",
    "    fig.show()\n",
    "    fig.write_image(fig_dir / 'total_annual_savings_3.svg')\n",
    "\n",
    "figure_total_savings(community_results) "
   ]
  },
  {
   "cell_type": "code",
   "execution_count": 50,
   "id": "9ba37c55",
   "metadata": {},
   "outputs": [
    {
     "name": "stdout",
     "output_type": "stream",
     "text": [
      "sample_weight\n",
      "upgrade_name\n",
      "Electric Clothes Dryer                                              4096.305418\n",
      "Electric Cooking                                                   18234.147833\n",
      "Induction Cooking                                                  92049.895058\n",
      "Heat Pump Clothes Dryer                                            78779.108592\n",
      "Heat Pump Water Heater                                             92144.655665\n",
      "Mininum Efficiency Whole Home Electrification                      38136.075473\n",
      "Mininum Efficiency Heat Pump with Existing Heat Backup             92755.987940\n",
      "Mininum Efficiency Heat Pump with Electric Heat Backup             93536.674242\n",
      "Basic Enclosure                                                    91629.445286\n",
      "Enhanced Enclosure                                                 92408.930375\n",
      "High Efficiency Heat Pump with Electric Heat Backup                93536.674242\n",
      "High Efficiency Whole Home Electrification                         93698.000000\n",
      "Basic Enclosure + HPWH + High Efficiency HP/Electric Backup        93698.000000\n",
      "Enhanced Enclosure + HPWH + High Efficiency HP/Electric Backup     93698.000000\n",
      "Basic Enclosure + High Efficiency Whole Home Electrification       93698.000000\n",
      "Enhanced Enclosure + High Efficiency Whole Home Electrification    93698.000000\n",
      "Name: sample_weight, dtype: float64\n"
     ]
    },
    {
     "data": {
      "application/vnd.plotly.v1+json": {
       "config": {
        "plotlyServerURL": "https://plot.ly"
       },
       "data": [
        {
         "cliponaxis": false,
         "marker": {
          "color": "rgb(255, 255, 255)",
          "line": {
           "color": "rgb(255, 255, 255)"
          }
         },
         "orientation": "h",
         "textangle": 0,
         "textfont": {
          "size": 10
         },
         "textposition": "outside",
         "type": "bar",
         "x": [
          0,
          0,
          0,
          0,
          0,
          0,
          0,
          0,
          0,
          0,
          0,
          0,
          0,
          0,
          0,
          0,
          0,
          0,
          0,
          0,
          0,
          0,
          0,
          0,
          0,
          0,
          0,
          0,
          0,
          0,
          0,
          0,
          0,
          0,
          0,
          0,
          0,
          0,
          0,
          0,
          0,
          0,
          0,
          0,
          0,
          0,
          0,
          0,
          0,
          0,
          0,
          0,
          0,
          0,
          0,
          0,
          0,
          0,
          0,
          0,
          0,
          0,
          0,
          0,
          0,
          0,
          0,
          0,
          0,
          0,
          0,
          0,
          0,
          0,
          0,
          0,
          0,
          0,
          0,
          0,
          0,
          0,
          0,
          0,
          0,
          0,
          0,
          0,
          0,
          0,
          0,
          0,
          0,
          0,
          0,
          0,
          0,
          0,
          0,
          0,
          0,
          0,
          0,
          0,
          0,
          0,
          0,
          0,
          0,
          0,
          0,
          0,
          0,
          0,
          0,
          0,
          0,
          0,
          0,
          0,
          0,
          0,
          0,
          0,
          0,
          0,
          0,
          0,
          0,
          0,
          0,
          0,
          0,
          0,
          0,
          0,
          0,
          0,
          0,
          0,
          0,
          0,
          0,
          0,
          0,
          0,
          0,
          0,
          0,
          0,
          0,
          0,
          0,
          0,
          0,
          0,
          0,
          0,
          0,
          0,
          0,
          0,
          0,
          0,
          0,
          0,
          0,
          0,
          0,
          0,
          0,
          0,
          0,
          0,
          0,
          0
         ],
         "xaxis": "x",
         "y": [
          "Electric Clothes Dryer",
          "Electric Cooking",
          "Induction Cooking",
          "Heat Pump Clothes Dryer",
          "Heat Pump Water Heater",
          "Mininum Efficiency Whole Home Electrification",
          "Mininum Efficiency Heat Pump with Existing Heat Backup",
          "Mininum Efficiency Heat Pump with Electric Heat Backup",
          "Basic Enclosure",
          "Enhanced Enclosure",
          "High Efficiency Heat Pump with Electric Heat Backup",
          "High Efficiency Whole Home Electrification",
          "Basic Enclosure + HPWH + High Efficiency HP/Electric Backup",
          "Enhanced Enclosure + HPWH + High Efficiency HP/Electric Backup",
          "Basic Enclosure + High Efficiency Whole Home Electrification",
          "Enhanced Enclosure + High Efficiency Whole Home Electrification"
         ],
         "yaxis": "y"
        },
        {
         "cliponaxis": false,
         "marker": {
          "color": "rgb(0, 121, 61)",
          "line": {
           "color": "rgb(0, 121, 61)"
          }
         },
         "orientation": "h",
         "text": [
          -28.140494078222247,
          -9.982115612546052,
          2.082073469295678,
          31.097643734745738,
          124.43890768387713,
          171.0689935216541,
          311.1460884870958,
          312.5723790478543,
          338.3757360851933,
          393.6809021114418,
          702.7745019330864,
          890.0092974940903,
          973.0756513397238,
          990.8147968791607,
          1002.3034814417953,
          1020.0426269812323
         ],
         "textangle": 0,
         "textfont": {
          "size": 10
         },
         "textposition": "outside",
         "texttemplate": "%{text:.3s}",
         "type": "bar",
         "x": [
          -28.140494078222247,
          -9.982115612546052,
          2.082073469295678,
          31.097643734745738,
          124.43890768387713,
          171.0689935216541,
          311.1460884870958,
          312.5723790478543,
          338.3757360851933,
          393.6809021114418,
          702.7745019330864,
          890.0092974940903,
          973.0756513397238,
          990.8147968791607,
          1002.3034814417953,
          1020.0426269812323
         ],
         "xaxis": "x2",
         "y": [
          "Electric Clothes Dryer",
          "Electric Cooking",
          "Induction Cooking",
          "Heat Pump Clothes Dryer",
          "Heat Pump Water Heater",
          "Mininum Efficiency Whole Home Electrification",
          "Mininum Efficiency Heat Pump with Existing Heat Backup",
          "Mininum Efficiency Heat Pump with Electric Heat Backup",
          "Basic Enclosure",
          "Enhanced Enclosure",
          "High Efficiency Heat Pump with Electric Heat Backup",
          "High Efficiency Whole Home Electrification",
          "Basic Enclosure + HPWH + High Efficiency HP/Electric Backup",
          "Enhanced Enclosure + HPWH + High Efficiency HP/Electric Backup",
          "Basic Enclosure + High Efficiency Whole Home Electrification",
          "Enhanced Enclosure + High Efficiency Whole Home Electrification"
         ],
         "yaxis": "y2"
        },
        {
         "cliponaxis": false,
         "marker": {
          "color": "rgb(0, 121, 61)",
          "line": {
           "color": "rgb(0, 121, 61)"
          }
         },
         "orientation": "h",
         "text": [
          26.723850761810585,
          95.3549898713925,
          26.55875218085984,
          59.15714684932512,
          326.84779413522654,
          1526.8017059306708,
          925.7665778369676,
          1037.5884029713466,
          866.7455334651279,
          1013.3677653045858,
          1846.4869592507891,
          2351.3650955029643,
          2506.474962570047,
          2546.558144053461,
          2582.304517595023,
          2622.387699078437
         ],
         "textangle": 0,
         "textfont": {
          "size": 10
         },
         "textposition": "outside",
         "texttemplate": "%{text:.3s}",
         "type": "bar",
         "x": [
          26.723850761810585,
          95.3549898713925,
          26.55875218085984,
          59.15714684932512,
          326.84779413522654,
          1526.8017059306708,
          925.7665778369676,
          1037.5884029713466,
          866.7455334651279,
          1013.3677653045858,
          1846.4869592507891,
          2351.3650955029643,
          2506.474962570047,
          2546.558144053461,
          2582.304517595023,
          2622.387699078437
         ],
         "xaxis": "x3",
         "y": [
          "Electric Clothes Dryer",
          "Electric Cooking",
          "Induction Cooking",
          "Heat Pump Clothes Dryer",
          "Heat Pump Water Heater",
          "Mininum Efficiency Whole Home Electrification",
          "Mininum Efficiency Heat Pump with Existing Heat Backup",
          "Mininum Efficiency Heat Pump with Electric Heat Backup",
          "Basic Enclosure",
          "Enhanced Enclosure",
          "High Efficiency Heat Pump with Electric Heat Backup",
          "High Efficiency Whole Home Electrification",
          "Basic Enclosure + HPWH + High Efficiency HP/Electric Backup",
          "Enhanced Enclosure + HPWH + High Efficiency HP/Electric Backup",
          "Basic Enclosure + High Efficiency Whole Home Electrification",
          "Enhanced Enclosure + High Efficiency Whole Home Electrification"
         ],
         "yaxis": "y3"
        },
        {
         "cliponaxis": false,
         "marker": {
          "color": "rgb(0, 121, 61)",
          "line": {
           "color": "rgb(0, 121, 61)"
          }
         },
         "orientation": "h",
         "text": [
          0.4303368340653031,
          1.4589821559597467,
          0.3943542107424588,
          0.8672660543444987,
          4.764169765659528,
          25.258747419933684,
          12.010743486452085,
          14.22926083779425,
          11.544368783889634,
          13.40573949996134,
          24.354020323099668,
          31.567733684599528,
          33.3649297444386,
          33.82521566735324,
          34.481524659885174,
          34.94181058279981
         ],
         "textangle": 0,
         "textfont": {
          "size": 10
         },
         "textposition": "outside",
         "texttemplate": "%{text:.3s}",
         "type": "bar",
         "x": [
          0.4303368340653031,
          1.4589821559597467,
          0.3943542107424588,
          0.8672660543444987,
          4.764169765659528,
          25.258747419933684,
          12.010743486452085,
          14.22926083779425,
          11.544368783889634,
          13.40573949996134,
          24.354020323099668,
          31.567733684599528,
          33.3649297444386,
          33.82521566735324,
          34.481524659885174,
          34.94181058279981
         ],
         "xaxis": "x4",
         "y": [
          "Electric Clothes Dryer",
          "Electric Cooking",
          "Induction Cooking",
          "Heat Pump Clothes Dryer",
          "Heat Pump Water Heater",
          "Mininum Efficiency Whole Home Electrification",
          "Mininum Efficiency Heat Pump with Existing Heat Backup",
          "Mininum Efficiency Heat Pump with Electric Heat Backup",
          "Basic Enclosure",
          "Enhanced Enclosure",
          "High Efficiency Heat Pump with Electric Heat Backup",
          "High Efficiency Whole Home Electrification",
          "Basic Enclosure + HPWH + High Efficiency HP/Electric Backup",
          "Enhanced Enclosure + HPWH + High Efficiency HP/Electric Backup",
          "Basic Enclosure + High Efficiency Whole Home Electrification",
          "Enhanced Enclosure + High Efficiency Whole Home Electrification"
         ],
         "yaxis": "y4"
        }
       ],
       "layout": {
        "autosize": false,
        "font": {
         "size": 10
        },
        "height": 500,
        "plot_bgcolor": "rgba(0, 0, 0, 0)",
        "showlegend": false,
        "template": {
         "data": {
          "bar": [
           {
            "error_x": {
             "color": "#2a3f5f"
            },
            "error_y": {
             "color": "#2a3f5f"
            },
            "marker": {
             "line": {
              "color": "#E5ECF6",
              "width": 0.5
             },
             "pattern": {
              "fillmode": "overlay",
              "size": 10,
              "solidity": 0.2
             }
            },
            "type": "bar"
           }
          ],
          "barpolar": [
           {
            "marker": {
             "line": {
              "color": "#E5ECF6",
              "width": 0.5
             },
             "pattern": {
              "fillmode": "overlay",
              "size": 10,
              "solidity": 0.2
             }
            },
            "type": "barpolar"
           }
          ],
          "carpet": [
           {
            "aaxis": {
             "endlinecolor": "#2a3f5f",
             "gridcolor": "white",
             "linecolor": "white",
             "minorgridcolor": "white",
             "startlinecolor": "#2a3f5f"
            },
            "baxis": {
             "endlinecolor": "#2a3f5f",
             "gridcolor": "white",
             "linecolor": "white",
             "minorgridcolor": "white",
             "startlinecolor": "#2a3f5f"
            },
            "type": "carpet"
           }
          ],
          "choropleth": [
           {
            "colorbar": {
             "outlinewidth": 0,
             "ticks": ""
            },
            "type": "choropleth"
           }
          ],
          "contour": [
           {
            "colorbar": {
             "outlinewidth": 0,
             "ticks": ""
            },
            "colorscale": [
             [
              0,
              "#0d0887"
             ],
             [
              0.1111111111111111,
              "#46039f"
             ],
             [
              0.2222222222222222,
              "#7201a8"
             ],
             [
              0.3333333333333333,
              "#9c179e"
             ],
             [
              0.4444444444444444,
              "#bd3786"
             ],
             [
              0.5555555555555556,
              "#d8576b"
             ],
             [
              0.6666666666666666,
              "#ed7953"
             ],
             [
              0.7777777777777778,
              "#fb9f3a"
             ],
             [
              0.8888888888888888,
              "#fdca26"
             ],
             [
              1,
              "#f0f921"
             ]
            ],
            "type": "contour"
           }
          ],
          "contourcarpet": [
           {
            "colorbar": {
             "outlinewidth": 0,
             "ticks": ""
            },
            "type": "contourcarpet"
           }
          ],
          "heatmap": [
           {
            "colorbar": {
             "outlinewidth": 0,
             "ticks": ""
            },
            "colorscale": [
             [
              0,
              "#0d0887"
             ],
             [
              0.1111111111111111,
              "#46039f"
             ],
             [
              0.2222222222222222,
              "#7201a8"
             ],
             [
              0.3333333333333333,
              "#9c179e"
             ],
             [
              0.4444444444444444,
              "#bd3786"
             ],
             [
              0.5555555555555556,
              "#d8576b"
             ],
             [
              0.6666666666666666,
              "#ed7953"
             ],
             [
              0.7777777777777778,
              "#fb9f3a"
             ],
             [
              0.8888888888888888,
              "#fdca26"
             ],
             [
              1,
              "#f0f921"
             ]
            ],
            "type": "heatmap"
           }
          ],
          "heatmapgl": [
           {
            "colorbar": {
             "outlinewidth": 0,
             "ticks": ""
            },
            "colorscale": [
             [
              0,
              "#0d0887"
             ],
             [
              0.1111111111111111,
              "#46039f"
             ],
             [
              0.2222222222222222,
              "#7201a8"
             ],
             [
              0.3333333333333333,
              "#9c179e"
             ],
             [
              0.4444444444444444,
              "#bd3786"
             ],
             [
              0.5555555555555556,
              "#d8576b"
             ],
             [
              0.6666666666666666,
              "#ed7953"
             ],
             [
              0.7777777777777778,
              "#fb9f3a"
             ],
             [
              0.8888888888888888,
              "#fdca26"
             ],
             [
              1,
              "#f0f921"
             ]
            ],
            "type": "heatmapgl"
           }
          ],
          "histogram": [
           {
            "marker": {
             "pattern": {
              "fillmode": "overlay",
              "size": 10,
              "solidity": 0.2
             }
            },
            "type": "histogram"
           }
          ],
          "histogram2d": [
           {
            "colorbar": {
             "outlinewidth": 0,
             "ticks": ""
            },
            "colorscale": [
             [
              0,
              "#0d0887"
             ],
             [
              0.1111111111111111,
              "#46039f"
             ],
             [
              0.2222222222222222,
              "#7201a8"
             ],
             [
              0.3333333333333333,
              "#9c179e"
             ],
             [
              0.4444444444444444,
              "#bd3786"
             ],
             [
              0.5555555555555556,
              "#d8576b"
             ],
             [
              0.6666666666666666,
              "#ed7953"
             ],
             [
              0.7777777777777778,
              "#fb9f3a"
             ],
             [
              0.8888888888888888,
              "#fdca26"
             ],
             [
              1,
              "#f0f921"
             ]
            ],
            "type": "histogram2d"
           }
          ],
          "histogram2dcontour": [
           {
            "colorbar": {
             "outlinewidth": 0,
             "ticks": ""
            },
            "colorscale": [
             [
              0,
              "#0d0887"
             ],
             [
              0.1111111111111111,
              "#46039f"
             ],
             [
              0.2222222222222222,
              "#7201a8"
             ],
             [
              0.3333333333333333,
              "#9c179e"
             ],
             [
              0.4444444444444444,
              "#bd3786"
             ],
             [
              0.5555555555555556,
              "#d8576b"
             ],
             [
              0.6666666666666666,
              "#ed7953"
             ],
             [
              0.7777777777777778,
              "#fb9f3a"
             ],
             [
              0.8888888888888888,
              "#fdca26"
             ],
             [
              1,
              "#f0f921"
             ]
            ],
            "type": "histogram2dcontour"
           }
          ],
          "mesh3d": [
           {
            "colorbar": {
             "outlinewidth": 0,
             "ticks": ""
            },
            "type": "mesh3d"
           }
          ],
          "parcoords": [
           {
            "line": {
             "colorbar": {
              "outlinewidth": 0,
              "ticks": ""
             }
            },
            "type": "parcoords"
           }
          ],
          "pie": [
           {
            "automargin": true,
            "type": "pie"
           }
          ],
          "scatter": [
           {
            "fillpattern": {
             "fillmode": "overlay",
             "size": 10,
             "solidity": 0.2
            },
            "type": "scatter"
           }
          ],
          "scatter3d": [
           {
            "line": {
             "colorbar": {
              "outlinewidth": 0,
              "ticks": ""
             }
            },
            "marker": {
             "colorbar": {
              "outlinewidth": 0,
              "ticks": ""
             }
            },
            "type": "scatter3d"
           }
          ],
          "scattercarpet": [
           {
            "marker": {
             "colorbar": {
              "outlinewidth": 0,
              "ticks": ""
             }
            },
            "type": "scattercarpet"
           }
          ],
          "scattergeo": [
           {
            "marker": {
             "colorbar": {
              "outlinewidth": 0,
              "ticks": ""
             }
            },
            "type": "scattergeo"
           }
          ],
          "scattergl": [
           {
            "marker": {
             "colorbar": {
              "outlinewidth": 0,
              "ticks": ""
             }
            },
            "type": "scattergl"
           }
          ],
          "scattermapbox": [
           {
            "marker": {
             "colorbar": {
              "outlinewidth": 0,
              "ticks": ""
             }
            },
            "type": "scattermapbox"
           }
          ],
          "scatterpolar": [
           {
            "marker": {
             "colorbar": {
              "outlinewidth": 0,
              "ticks": ""
             }
            },
            "type": "scatterpolar"
           }
          ],
          "scatterpolargl": [
           {
            "marker": {
             "colorbar": {
              "outlinewidth": 0,
              "ticks": ""
             }
            },
            "type": "scatterpolargl"
           }
          ],
          "scatterternary": [
           {
            "marker": {
             "colorbar": {
              "outlinewidth": 0,
              "ticks": ""
             }
            },
            "type": "scatterternary"
           }
          ],
          "surface": [
           {
            "colorbar": {
             "outlinewidth": 0,
             "ticks": ""
            },
            "colorscale": [
             [
              0,
              "#0d0887"
             ],
             [
              0.1111111111111111,
              "#46039f"
             ],
             [
              0.2222222222222222,
              "#7201a8"
             ],
             [
              0.3333333333333333,
              "#9c179e"
             ],
             [
              0.4444444444444444,
              "#bd3786"
             ],
             [
              0.5555555555555556,
              "#d8576b"
             ],
             [
              0.6666666666666666,
              "#ed7953"
             ],
             [
              0.7777777777777778,
              "#fb9f3a"
             ],
             [
              0.8888888888888888,
              "#fdca26"
             ],
             [
              1,
              "#f0f921"
             ]
            ],
            "type": "surface"
           }
          ],
          "table": [
           {
            "cells": {
             "fill": {
              "color": "#EBF0F8"
             },
             "line": {
              "color": "white"
             }
            },
            "header": {
             "fill": {
              "color": "#C8D4E3"
             },
             "line": {
              "color": "white"
             }
            },
            "type": "table"
           }
          ]
         },
         "layout": {
          "annotationdefaults": {
           "arrowcolor": "#2a3f5f",
           "arrowhead": 0,
           "arrowwidth": 1
          },
          "autotypenumbers": "strict",
          "coloraxis": {
           "colorbar": {
            "outlinewidth": 0,
            "ticks": ""
           }
          },
          "colorscale": {
           "diverging": [
            [
             0,
             "#8e0152"
            ],
            [
             0.1,
             "#c51b7d"
            ],
            [
             0.2,
             "#de77ae"
            ],
            [
             0.3,
             "#f1b6da"
            ],
            [
             0.4,
             "#fde0ef"
            ],
            [
             0.5,
             "#f7f7f7"
            ],
            [
             0.6,
             "#e6f5d0"
            ],
            [
             0.7,
             "#b8e186"
            ],
            [
             0.8,
             "#7fbc41"
            ],
            [
             0.9,
             "#4d9221"
            ],
            [
             1,
             "#276419"
            ]
           ],
           "sequential": [
            [
             0,
             "#0d0887"
            ],
            [
             0.1111111111111111,
             "#46039f"
            ],
            [
             0.2222222222222222,
             "#7201a8"
            ],
            [
             0.3333333333333333,
             "#9c179e"
            ],
            [
             0.4444444444444444,
             "#bd3786"
            ],
            [
             0.5555555555555556,
             "#d8576b"
            ],
            [
             0.6666666666666666,
             "#ed7953"
            ],
            [
             0.7777777777777778,
             "#fb9f3a"
            ],
            [
             0.8888888888888888,
             "#fdca26"
            ],
            [
             1,
             "#f0f921"
            ]
           ],
           "sequentialminus": [
            [
             0,
             "#0d0887"
            ],
            [
             0.1111111111111111,
             "#46039f"
            ],
            [
             0.2222222222222222,
             "#7201a8"
            ],
            [
             0.3333333333333333,
             "#9c179e"
            ],
            [
             0.4444444444444444,
             "#bd3786"
            ],
            [
             0.5555555555555556,
             "#d8576b"
            ],
            [
             0.6666666666666666,
             "#ed7953"
            ],
            [
             0.7777777777777778,
             "#fb9f3a"
            ],
            [
             0.8888888888888888,
             "#fdca26"
            ],
            [
             1,
             "#f0f921"
            ]
           ]
          },
          "colorway": [
           "#636efa",
           "#EF553B",
           "#00cc96",
           "#ab63fa",
           "#FFA15A",
           "#19d3f3",
           "#FF6692",
           "#B6E880",
           "#FF97FF",
           "#FECB52"
          ],
          "font": {
           "color": "#2a3f5f"
          },
          "geo": {
           "bgcolor": "white",
           "lakecolor": "white",
           "landcolor": "#E5ECF6",
           "showlakes": true,
           "showland": true,
           "subunitcolor": "white"
          },
          "hoverlabel": {
           "align": "left"
          },
          "hovermode": "closest",
          "mapbox": {
           "style": "light"
          },
          "paper_bgcolor": "white",
          "plot_bgcolor": "#E5ECF6",
          "polar": {
           "angularaxis": {
            "gridcolor": "white",
            "linecolor": "white",
            "ticks": ""
           },
           "bgcolor": "#E5ECF6",
           "radialaxis": {
            "gridcolor": "white",
            "linecolor": "white",
            "ticks": ""
           }
          },
          "scene": {
           "xaxis": {
            "backgroundcolor": "#E5ECF6",
            "gridcolor": "white",
            "gridwidth": 2,
            "linecolor": "white",
            "showbackground": true,
            "ticks": "",
            "zerolinecolor": "white"
           },
           "yaxis": {
            "backgroundcolor": "#E5ECF6",
            "gridcolor": "white",
            "gridwidth": 2,
            "linecolor": "white",
            "showbackground": true,
            "ticks": "",
            "zerolinecolor": "white"
           },
           "zaxis": {
            "backgroundcolor": "#E5ECF6",
            "gridcolor": "white",
            "gridwidth": 2,
            "linecolor": "white",
            "showbackground": true,
            "ticks": "",
            "zerolinecolor": "white"
           }
          },
          "shapedefaults": {
           "line": {
            "color": "#2a3f5f"
           }
          },
          "ternary": {
           "aaxis": {
            "gridcolor": "white",
            "linecolor": "white",
            "ticks": ""
           },
           "baxis": {
            "gridcolor": "white",
            "linecolor": "white",
            "ticks": ""
           },
           "bgcolor": "#E5ECF6",
           "caxis": {
            "gridcolor": "white",
            "linecolor": "white",
            "ticks": ""
           }
          },
          "title": {
           "x": 0.05
          },
          "xaxis": {
           "automargin": true,
           "gridcolor": "white",
           "linecolor": "white",
           "ticks": "",
           "title": {
            "standoff": 15
           },
           "zerolinecolor": "white",
           "zerolinewidth": 2
          },
          "yaxis": {
           "automargin": true,
           "gridcolor": "white",
           "linecolor": "white",
           "ticks": "",
           "title": {
            "standoff": 15
           },
           "zerolinecolor": "white",
           "zerolinewidth": 2
          }
         }
        },
        "title": {
         "text": "Annual Savings Per Dwelling Unit"
        },
        "width": 850,
        "xaxis": {
         "anchor": "y",
         "domain": [
          0,
          0.004635761589403973
         ],
         "tickangle": 45,
         "title": {
          "text": ""
         },
         "visible": false
        },
        "xaxis2": {
         "anchor": "y2",
         "domain": [
          0.10463576158940398,
          0.33642384105960266
         ],
         "tickangle": 45,
         "title": {
          "text": "Bill Savings<br>usd"
         },
         "visible": true
        },
        "xaxis3": {
         "anchor": "y3",
         "domain": [
          0.43642384105960264,
          0.6682119205298013
         ],
         "tickangle": 45,
         "title": {
          "text": "Emission Savings<br>kgCO2e"
         },
         "visible": true
        },
        "xaxis4": {
         "anchor": "y4",
         "domain": [
          0.7682119205298014,
          1
         ],
         "tickangle": 45,
         "title": {
          "text": "Energy Savings<br>mmbtu"
         },
         "visible": true
        },
        "yaxis": {
         "anchor": "x",
         "domain": [
          0,
          1
         ],
         "visible": true
        },
        "yaxis2": {
         "anchor": "x2",
         "domain": [
          0,
          1
         ],
         "visible": false
        },
        "yaxis3": {
         "anchor": "x3",
         "domain": [
          0,
          1
         ],
         "visible": false
        },
        "yaxis4": {
         "anchor": "x4",
         "domain": [
          0,
          1
         ],
         "visible": false
        }
       }
      },
      "text/html": [
       "<div>                            <div id=\"532dd5cd-607a-4d76-837c-77e8f67f03d6\" class=\"plotly-graph-div\" style=\"height:500px; width:850px;\"></div>            <script type=\"text/javascript\">                require([\"plotly\"], function(Plotly) {                    window.PLOTLYENV=window.PLOTLYENV || {};                                    if (document.getElementById(\"532dd5cd-607a-4d76-837c-77e8f67f03d6\")) {                    Plotly.newPlot(                        \"532dd5cd-607a-4d76-837c-77e8f67f03d6\",                        [{\"orientation\":\"h\",\"x\":[0,0,0,0,0,0,0,0,0,0,0,0,0,0,0,0,0,0,0,0,0,0,0,0,0,0,0,0,0,0,0,0,0,0,0,0,0,0,0,0,0,0,0,0,0,0,0,0,0,0,0,0,0,0,0,0,0,0,0,0,0,0,0,0,0,0,0,0,0,0,0,0,0,0,0,0,0,0,0,0,0,0,0,0,0,0,0,0,0,0,0,0,0,0,0,0,0,0,0,0,0,0,0,0,0,0,0,0,0,0,0,0,0,0,0,0,0,0,0,0,0,0,0,0,0,0,0,0,0,0,0,0,0,0,0,0,0,0,0,0,0,0,0,0,0,0,0,0,0,0,0,0,0,0,0,0,0,0,0,0,0,0,0,0,0,0,0,0,0,0,0,0,0,0,0,0],\"y\":[\"Electric Clothes Dryer\",\"Electric Cooking\",\"Induction Cooking\",\"Heat Pump Clothes Dryer\",\"Heat Pump Water Heater\",\"Mininum Efficiency Whole Home Electrification\",\"Mininum Efficiency Heat Pump with Existing Heat Backup\",\"Mininum Efficiency Heat Pump with Electric Heat Backup\",\"Basic Enclosure\",\"Enhanced Enclosure\",\"High Efficiency Heat Pump with Electric Heat Backup\",\"High Efficiency Whole Home Electrification\",\"Basic Enclosure + HPWH + High Efficiency HP/Electric Backup\",\"Enhanced Enclosure + HPWH + High Efficiency HP/Electric Backup\",\"Basic Enclosure + High Efficiency Whole Home Electrification\",\"Enhanced Enclosure + High Efficiency Whole Home Electrification\"],\"type\":\"bar\",\"xaxis\":\"x\",\"yaxis\":\"y\",\"textfont\":{\"size\":10},\"cliponaxis\":false,\"textangle\":0,\"textposition\":\"outside\",\"marker\":{\"line\":{\"color\":\"rgb(255, 255, 255)\"},\"color\":\"rgb(255, 255, 255)\"}},{\"orientation\":\"h\",\"text\":[-28.140494078222247,-9.982115612546052,2.082073469295678,31.097643734745738,124.43890768387713,171.0689935216541,311.1460884870958,312.5723790478543,338.3757360851933,393.6809021114418,702.7745019330864,890.0092974940903,973.0756513397238,990.8147968791607,1002.3034814417953,1020.0426269812323],\"x\":[-28.140494078222247,-9.982115612546052,2.082073469295678,31.097643734745738,124.43890768387713,171.0689935216541,311.1460884870958,312.5723790478543,338.3757360851933,393.6809021114418,702.7745019330864,890.0092974940903,973.0756513397238,990.8147968791607,1002.3034814417953,1020.0426269812323],\"y\":[\"Electric Clothes Dryer\",\"Electric Cooking\",\"Induction Cooking\",\"Heat Pump Clothes Dryer\",\"Heat Pump Water Heater\",\"Mininum Efficiency Whole Home Electrification\",\"Mininum Efficiency Heat Pump with Existing Heat Backup\",\"Mininum Efficiency Heat Pump with Electric Heat Backup\",\"Basic Enclosure\",\"Enhanced Enclosure\",\"High Efficiency Heat Pump with Electric Heat Backup\",\"High Efficiency Whole Home Electrification\",\"Basic Enclosure + HPWH + High Efficiency HP/Electric Backup\",\"Enhanced Enclosure + HPWH + High Efficiency HP/Electric Backup\",\"Basic Enclosure + High Efficiency Whole Home Electrification\",\"Enhanced Enclosure + High Efficiency Whole Home Electrification\"],\"type\":\"bar\",\"xaxis\":\"x2\",\"yaxis\":\"y2\",\"textfont\":{\"size\":10},\"cliponaxis\":false,\"textangle\":0,\"textposition\":\"outside\",\"marker\":{\"line\":{\"color\":\"rgb(0, 121, 61)\"},\"color\":\"rgb(0, 121, 61)\"},\"texttemplate\":\"%{text:.3s}\"},{\"orientation\":\"h\",\"text\":[26.723850761810585,95.3549898713925,26.55875218085984,59.15714684932512,326.84779413522654,1526.8017059306708,925.7665778369676,1037.5884029713466,866.7455334651279,1013.3677653045858,1846.4869592507891,2351.3650955029643,2506.474962570047,2546.558144053461,2582.304517595023,2622.387699078437],\"x\":[26.723850761810585,95.3549898713925,26.55875218085984,59.15714684932512,326.84779413522654,1526.8017059306708,925.7665778369676,1037.5884029713466,866.7455334651279,1013.3677653045858,1846.4869592507891,2351.3650955029643,2506.474962570047,2546.558144053461,2582.304517595023,2622.387699078437],\"y\":[\"Electric Clothes Dryer\",\"Electric Cooking\",\"Induction Cooking\",\"Heat Pump Clothes Dryer\",\"Heat Pump Water Heater\",\"Mininum Efficiency Whole Home Electrification\",\"Mininum Efficiency Heat Pump with Existing Heat Backup\",\"Mininum Efficiency Heat Pump with Electric Heat Backup\",\"Basic Enclosure\",\"Enhanced Enclosure\",\"High Efficiency Heat Pump with Electric Heat Backup\",\"High Efficiency Whole Home Electrification\",\"Basic Enclosure + HPWH + High Efficiency HP/Electric Backup\",\"Enhanced Enclosure + HPWH + High Efficiency HP/Electric Backup\",\"Basic Enclosure + High Efficiency Whole Home Electrification\",\"Enhanced Enclosure + High Efficiency Whole Home Electrification\"],\"type\":\"bar\",\"xaxis\":\"x3\",\"yaxis\":\"y3\",\"textfont\":{\"size\":10},\"cliponaxis\":false,\"textangle\":0,\"textposition\":\"outside\",\"marker\":{\"line\":{\"color\":\"rgb(0, 121, 61)\"},\"color\":\"rgb(0, 121, 61)\"},\"texttemplate\":\"%{text:.3s}\"},{\"orientation\":\"h\",\"text\":[0.4303368340653031,1.4589821559597467,0.3943542107424588,0.8672660543444987,4.764169765659528,25.258747419933684,12.010743486452085,14.22926083779425,11.544368783889634,13.40573949996134,24.354020323099668,31.567733684599528,33.3649297444386,33.82521566735324,34.481524659885174,34.94181058279981],\"x\":[0.4303368340653031,1.4589821559597467,0.3943542107424588,0.8672660543444987,4.764169765659528,25.258747419933684,12.010743486452085,14.22926083779425,11.544368783889634,13.40573949996134,24.354020323099668,31.567733684599528,33.3649297444386,33.82521566735324,34.481524659885174,34.94181058279981],\"y\":[\"Electric Clothes Dryer\",\"Electric Cooking\",\"Induction Cooking\",\"Heat Pump Clothes Dryer\",\"Heat Pump Water Heater\",\"Mininum Efficiency Whole Home Electrification\",\"Mininum Efficiency Heat Pump with Existing Heat Backup\",\"Mininum Efficiency Heat Pump with Electric Heat Backup\",\"Basic Enclosure\",\"Enhanced Enclosure\",\"High Efficiency Heat Pump with Electric Heat Backup\",\"High Efficiency Whole Home Electrification\",\"Basic Enclosure + HPWH + High Efficiency HP/Electric Backup\",\"Enhanced Enclosure + HPWH + High Efficiency HP/Electric Backup\",\"Basic Enclosure + High Efficiency Whole Home Electrification\",\"Enhanced Enclosure + High Efficiency Whole Home Electrification\"],\"type\":\"bar\",\"xaxis\":\"x4\",\"yaxis\":\"y4\",\"textfont\":{\"size\":10},\"cliponaxis\":false,\"textangle\":0,\"textposition\":\"outside\",\"marker\":{\"line\":{\"color\":\"rgb(0, 121, 61)\"},\"color\":\"rgb(0, 121, 61)\"},\"texttemplate\":\"%{text:.3s}\"}],                        {\"template\":{\"data\":{\"histogram2dcontour\":[{\"type\":\"histogram2dcontour\",\"colorbar\":{\"outlinewidth\":0,\"ticks\":\"\"},\"colorscale\":[[0.0,\"#0d0887\"],[0.1111111111111111,\"#46039f\"],[0.2222222222222222,\"#7201a8\"],[0.3333333333333333,\"#9c179e\"],[0.4444444444444444,\"#bd3786\"],[0.5555555555555556,\"#d8576b\"],[0.6666666666666666,\"#ed7953\"],[0.7777777777777778,\"#fb9f3a\"],[0.8888888888888888,\"#fdca26\"],[1.0,\"#f0f921\"]]}],\"choropleth\":[{\"type\":\"choropleth\",\"colorbar\":{\"outlinewidth\":0,\"ticks\":\"\"}}],\"histogram2d\":[{\"type\":\"histogram2d\",\"colorbar\":{\"outlinewidth\":0,\"ticks\":\"\"},\"colorscale\":[[0.0,\"#0d0887\"],[0.1111111111111111,\"#46039f\"],[0.2222222222222222,\"#7201a8\"],[0.3333333333333333,\"#9c179e\"],[0.4444444444444444,\"#bd3786\"],[0.5555555555555556,\"#d8576b\"],[0.6666666666666666,\"#ed7953\"],[0.7777777777777778,\"#fb9f3a\"],[0.8888888888888888,\"#fdca26\"],[1.0,\"#f0f921\"]]}],\"heatmap\":[{\"type\":\"heatmap\",\"colorbar\":{\"outlinewidth\":0,\"ticks\":\"\"},\"colorscale\":[[0.0,\"#0d0887\"],[0.1111111111111111,\"#46039f\"],[0.2222222222222222,\"#7201a8\"],[0.3333333333333333,\"#9c179e\"],[0.4444444444444444,\"#bd3786\"],[0.5555555555555556,\"#d8576b\"],[0.6666666666666666,\"#ed7953\"],[0.7777777777777778,\"#fb9f3a\"],[0.8888888888888888,\"#fdca26\"],[1.0,\"#f0f921\"]]}],\"heatmapgl\":[{\"type\":\"heatmapgl\",\"colorbar\":{\"outlinewidth\":0,\"ticks\":\"\"},\"colorscale\":[[0.0,\"#0d0887\"],[0.1111111111111111,\"#46039f\"],[0.2222222222222222,\"#7201a8\"],[0.3333333333333333,\"#9c179e\"],[0.4444444444444444,\"#bd3786\"],[0.5555555555555556,\"#d8576b\"],[0.6666666666666666,\"#ed7953\"],[0.7777777777777778,\"#fb9f3a\"],[0.8888888888888888,\"#fdca26\"],[1.0,\"#f0f921\"]]}],\"contourcarpet\":[{\"type\":\"contourcarpet\",\"colorbar\":{\"outlinewidth\":0,\"ticks\":\"\"}}],\"contour\":[{\"type\":\"contour\",\"colorbar\":{\"outlinewidth\":0,\"ticks\":\"\"},\"colorscale\":[[0.0,\"#0d0887\"],[0.1111111111111111,\"#46039f\"],[0.2222222222222222,\"#7201a8\"],[0.3333333333333333,\"#9c179e\"],[0.4444444444444444,\"#bd3786\"],[0.5555555555555556,\"#d8576b\"],[0.6666666666666666,\"#ed7953\"],[0.7777777777777778,\"#fb9f3a\"],[0.8888888888888888,\"#fdca26\"],[1.0,\"#f0f921\"]]}],\"surface\":[{\"type\":\"surface\",\"colorbar\":{\"outlinewidth\":0,\"ticks\":\"\"},\"colorscale\":[[0.0,\"#0d0887\"],[0.1111111111111111,\"#46039f\"],[0.2222222222222222,\"#7201a8\"],[0.3333333333333333,\"#9c179e\"],[0.4444444444444444,\"#bd3786\"],[0.5555555555555556,\"#d8576b\"],[0.6666666666666666,\"#ed7953\"],[0.7777777777777778,\"#fb9f3a\"],[0.8888888888888888,\"#fdca26\"],[1.0,\"#f0f921\"]]}],\"mesh3d\":[{\"type\":\"mesh3d\",\"colorbar\":{\"outlinewidth\":0,\"ticks\":\"\"}}],\"scatter\":[{\"fillpattern\":{\"fillmode\":\"overlay\",\"size\":10,\"solidity\":0.2},\"type\":\"scatter\"}],\"parcoords\":[{\"type\":\"parcoords\",\"line\":{\"colorbar\":{\"outlinewidth\":0,\"ticks\":\"\"}}}],\"scatterpolargl\":[{\"type\":\"scatterpolargl\",\"marker\":{\"colorbar\":{\"outlinewidth\":0,\"ticks\":\"\"}}}],\"bar\":[{\"error_x\":{\"color\":\"#2a3f5f\"},\"error_y\":{\"color\":\"#2a3f5f\"},\"marker\":{\"line\":{\"color\":\"#E5ECF6\",\"width\":0.5},\"pattern\":{\"fillmode\":\"overlay\",\"size\":10,\"solidity\":0.2}},\"type\":\"bar\"}],\"scattergeo\":[{\"type\":\"scattergeo\",\"marker\":{\"colorbar\":{\"outlinewidth\":0,\"ticks\":\"\"}}}],\"scatterpolar\":[{\"type\":\"scatterpolar\",\"marker\":{\"colorbar\":{\"outlinewidth\":0,\"ticks\":\"\"}}}],\"histogram\":[{\"marker\":{\"pattern\":{\"fillmode\":\"overlay\",\"size\":10,\"solidity\":0.2}},\"type\":\"histogram\"}],\"scattergl\":[{\"type\":\"scattergl\",\"marker\":{\"colorbar\":{\"outlinewidth\":0,\"ticks\":\"\"}}}],\"scatter3d\":[{\"type\":\"scatter3d\",\"line\":{\"colorbar\":{\"outlinewidth\":0,\"ticks\":\"\"}},\"marker\":{\"colorbar\":{\"outlinewidth\":0,\"ticks\":\"\"}}}],\"scattermapbox\":[{\"type\":\"scattermapbox\",\"marker\":{\"colorbar\":{\"outlinewidth\":0,\"ticks\":\"\"}}}],\"scatterternary\":[{\"type\":\"scatterternary\",\"marker\":{\"colorbar\":{\"outlinewidth\":0,\"ticks\":\"\"}}}],\"scattercarpet\":[{\"type\":\"scattercarpet\",\"marker\":{\"colorbar\":{\"outlinewidth\":0,\"ticks\":\"\"}}}],\"carpet\":[{\"aaxis\":{\"endlinecolor\":\"#2a3f5f\",\"gridcolor\":\"white\",\"linecolor\":\"white\",\"minorgridcolor\":\"white\",\"startlinecolor\":\"#2a3f5f\"},\"baxis\":{\"endlinecolor\":\"#2a3f5f\",\"gridcolor\":\"white\",\"linecolor\":\"white\",\"minorgridcolor\":\"white\",\"startlinecolor\":\"#2a3f5f\"},\"type\":\"carpet\"}],\"table\":[{\"cells\":{\"fill\":{\"color\":\"#EBF0F8\"},\"line\":{\"color\":\"white\"}},\"header\":{\"fill\":{\"color\":\"#C8D4E3\"},\"line\":{\"color\":\"white\"}},\"type\":\"table\"}],\"barpolar\":[{\"marker\":{\"line\":{\"color\":\"#E5ECF6\",\"width\":0.5},\"pattern\":{\"fillmode\":\"overlay\",\"size\":10,\"solidity\":0.2}},\"type\":\"barpolar\"}],\"pie\":[{\"automargin\":true,\"type\":\"pie\"}]},\"layout\":{\"autotypenumbers\":\"strict\",\"colorway\":[\"#636efa\",\"#EF553B\",\"#00cc96\",\"#ab63fa\",\"#FFA15A\",\"#19d3f3\",\"#FF6692\",\"#B6E880\",\"#FF97FF\",\"#FECB52\"],\"font\":{\"color\":\"#2a3f5f\"},\"hovermode\":\"closest\",\"hoverlabel\":{\"align\":\"left\"},\"paper_bgcolor\":\"white\",\"plot_bgcolor\":\"#E5ECF6\",\"polar\":{\"bgcolor\":\"#E5ECF6\",\"angularaxis\":{\"gridcolor\":\"white\",\"linecolor\":\"white\",\"ticks\":\"\"},\"radialaxis\":{\"gridcolor\":\"white\",\"linecolor\":\"white\",\"ticks\":\"\"}},\"ternary\":{\"bgcolor\":\"#E5ECF6\",\"aaxis\":{\"gridcolor\":\"white\",\"linecolor\":\"white\",\"ticks\":\"\"},\"baxis\":{\"gridcolor\":\"white\",\"linecolor\":\"white\",\"ticks\":\"\"},\"caxis\":{\"gridcolor\":\"white\",\"linecolor\":\"white\",\"ticks\":\"\"}},\"coloraxis\":{\"colorbar\":{\"outlinewidth\":0,\"ticks\":\"\"}},\"colorscale\":{\"sequential\":[[0.0,\"#0d0887\"],[0.1111111111111111,\"#46039f\"],[0.2222222222222222,\"#7201a8\"],[0.3333333333333333,\"#9c179e\"],[0.4444444444444444,\"#bd3786\"],[0.5555555555555556,\"#d8576b\"],[0.6666666666666666,\"#ed7953\"],[0.7777777777777778,\"#fb9f3a\"],[0.8888888888888888,\"#fdca26\"],[1.0,\"#f0f921\"]],\"sequentialminus\":[[0.0,\"#0d0887\"],[0.1111111111111111,\"#46039f\"],[0.2222222222222222,\"#7201a8\"],[0.3333333333333333,\"#9c179e\"],[0.4444444444444444,\"#bd3786\"],[0.5555555555555556,\"#d8576b\"],[0.6666666666666666,\"#ed7953\"],[0.7777777777777778,\"#fb9f3a\"],[0.8888888888888888,\"#fdca26\"],[1.0,\"#f0f921\"]],\"diverging\":[[0,\"#8e0152\"],[0.1,\"#c51b7d\"],[0.2,\"#de77ae\"],[0.3,\"#f1b6da\"],[0.4,\"#fde0ef\"],[0.5,\"#f7f7f7\"],[0.6,\"#e6f5d0\"],[0.7,\"#b8e186\"],[0.8,\"#7fbc41\"],[0.9,\"#4d9221\"],[1,\"#276419\"]]},\"xaxis\":{\"gridcolor\":\"white\",\"linecolor\":\"white\",\"ticks\":\"\",\"title\":{\"standoff\":15},\"zerolinecolor\":\"white\",\"automargin\":true,\"zerolinewidth\":2},\"yaxis\":{\"gridcolor\":\"white\",\"linecolor\":\"white\",\"ticks\":\"\",\"title\":{\"standoff\":15},\"zerolinecolor\":\"white\",\"automargin\":true,\"zerolinewidth\":2},\"scene\":{\"xaxis\":{\"backgroundcolor\":\"#E5ECF6\",\"gridcolor\":\"white\",\"linecolor\":\"white\",\"showbackground\":true,\"ticks\":\"\",\"zerolinecolor\":\"white\",\"gridwidth\":2},\"yaxis\":{\"backgroundcolor\":\"#E5ECF6\",\"gridcolor\":\"white\",\"linecolor\":\"white\",\"showbackground\":true,\"ticks\":\"\",\"zerolinecolor\":\"white\",\"gridwidth\":2},\"zaxis\":{\"backgroundcolor\":\"#E5ECF6\",\"gridcolor\":\"white\",\"linecolor\":\"white\",\"showbackground\":true,\"ticks\":\"\",\"zerolinecolor\":\"white\",\"gridwidth\":2}},\"shapedefaults\":{\"line\":{\"color\":\"#2a3f5f\"}},\"annotationdefaults\":{\"arrowcolor\":\"#2a3f5f\",\"arrowhead\":0,\"arrowwidth\":1},\"geo\":{\"bgcolor\":\"white\",\"landcolor\":\"#E5ECF6\",\"subunitcolor\":\"white\",\"showland\":true,\"showlakes\":true,\"lakecolor\":\"white\"},\"title\":{\"x\":0.05},\"mapbox\":{\"style\":\"light\"}}},\"xaxis\":{\"anchor\":\"y\",\"domain\":[0.0,0.004635761589403973],\"title\":{\"text\":\"\"},\"visible\":false,\"tickangle\":45},\"yaxis\":{\"anchor\":\"x\",\"domain\":[0.0,1.0],\"visible\":true},\"xaxis2\":{\"anchor\":\"y2\",\"domain\":[0.10463576158940398,0.33642384105960266],\"title\":{\"text\":\"Bill Savings<br>usd\"},\"visible\":true,\"tickangle\":45},\"yaxis2\":{\"anchor\":\"x2\",\"domain\":[0.0,1.0],\"visible\":false},\"xaxis3\":{\"anchor\":\"y3\",\"domain\":[0.43642384105960264,0.6682119205298013],\"title\":{\"text\":\"Emission Savings<br>kgCO2e\"},\"visible\":true,\"tickangle\":45},\"yaxis3\":{\"anchor\":\"x3\",\"domain\":[0.0,1.0],\"visible\":false},\"xaxis4\":{\"anchor\":\"y4\",\"domain\":[0.7682119205298014,1.0],\"title\":{\"text\":\"Energy Savings<br>mmbtu\"},\"visible\":true,\"tickangle\":45},\"yaxis4\":{\"anchor\":\"x4\",\"domain\":[0.0,1.0],\"visible\":false},\"title\":{\"text\":\"Annual Savings Per Dwelling Unit\"},\"font\":{\"size\":10},\"autosize\":false,\"width\":850,\"height\":500,\"plot_bgcolor\":\"rgba(0, 0, 0, 0)\",\"showlegend\":false},                        {\"responsive\": true}                    ).then(function(){\n",
       "                            \n",
       "var gd = document.getElementById('532dd5cd-607a-4d76-837c-77e8f67f03d6');\n",
       "var x = new MutationObserver(function (mutations, observer) {{\n",
       "        var display = window.getComputedStyle(gd).display;\n",
       "        if (!display || display === 'none') {{\n",
       "            console.log([gd, 'removed!']);\n",
       "            Plotly.purge(gd);\n",
       "            observer.disconnect();\n",
       "        }}\n",
       "}});\n",
       "\n",
       "// Listen for the removal of the full notebook cells\n",
       "var notebookContainer = gd.closest('#notebook-container');\n",
       "if (notebookContainer) {{\n",
       "    x.observe(notebookContainer, {childList: true});\n",
       "}}\n",
       "\n",
       "// Listen for the clearing of the current output cell\n",
       "var outputEl = gd.closest('.output');\n",
       "if (outputEl) {{\n",
       "    x.observe(outputEl, {childList: true});\n",
       "}}\n",
       "\n",
       "                        })                };                });            </script>        </div>"
      ]
     },
     "metadata": {},
     "output_type": "display_data"
    }
   ],
   "source": [
    "def figure_mean_savings(commnity_results):\n",
    "    results = commnity_results[['upgrade_name',\n",
    "                       'saving_energy.total_mmbtu',\n",
    "                       'saving_cbill.total_usd',\n",
    "                       'saving_emission.total_kgCO2e',\n",
    "                                'sample_weight']]\n",
    "    results = results.loc[results['upgrade_name'] != 'baseline']\n",
    "    results['saving_energy.total_mmbtu'] = results['saving_energy.total_mmbtu']*results['sample_weight']\n",
    "    results['saving_cbill.total_usd'] = results['saving_cbill.total_usd']*results['sample_weight']\n",
    "    results['saving_emission.total_kgCO2e'] = results['saving_emission.total_kgCO2e']*results['sample_weight']\n",
    "    \n",
    "    agg_functions = {'upgrade_name': 'first',\n",
    "                     'saving_energy.total_mmbtu': 'sum', \n",
    "                     'saving_cbill.total_usd': 'sum',\n",
    "                     'saving_emission.total_kgCO2e': 'sum',\n",
    "                    'sample_weight': 'sum'}\n",
    "    results = results.groupby(results['upgrade_name']).aggregate(agg_functions)\n",
    "    results['saving_energy.total_mmbtu'] = results['saving_energy.total_mmbtu']/results['sample_weight']\n",
    "    results['saving_cbill.total_usd'] = results['saving_cbill.total_usd']/results['sample_weight']\n",
    "    results['saving_emission.total_kgCO2e'] = results['saving_emission.total_kgCO2e']/results['sample_weight']\n",
    "    results = results.sort_values('saving_cbill.total_usd')\n",
    "    \n",
    "    print('sample_weight')\n",
    "    print(results['sample_weight'])\n",
    "  \n",
    "    fig = make_subplots(rows=1, cols=4, horizontal_spacing=0.1, column_widths=[0.02, 1, 1, 1])\n",
    "    \n",
    "    fig.add_trace(go.Bar(\n",
    "        x=[0] * 176,\n",
    "        y=results['upgrade_name'],\n",
    "        text=None,\n",
    "        orientation='h'), row=1, col=1)\n",
    "    \n",
    "    fig.add_trace(go.Bar(\n",
    "        x=results['saving_cbill.total_usd'],\n",
    "        y=results['upgrade_name'],\n",
    "        text=results['saving_cbill.total_usd'],\n",
    "        orientation='h'), row=1, col=2)\n",
    "    \n",
    "    fig.add_trace(go.Bar(\n",
    "        x=results['saving_emission.total_kgCO2e'],\n",
    "        y=results['upgrade_name'],\n",
    "        text=results['saving_emission.total_kgCO2e'],\n",
    "        orientation='h'),row=1, col=3)\n",
    "    \n",
    "    fig.add_trace(go.Bar(\n",
    "        x=results['saving_energy.total_mmbtu'],\n",
    "        y=results['upgrade_name'],\n",
    "        text=results['saving_energy.total_mmbtu'],\n",
    "        orientation='h'),row=1, col=4)\n",
    "\n",
    "    fig.update_traces(textfont_size=10, textangle=0, textposition=\"outside\", cliponaxis=False)\n",
    "    fig.update_traces(marker_color='rgb(0, 121, 61)', marker_line_color='rgb(0, 121, 61)')\n",
    "    fig.update_traces(marker_color='rgb(255, 255, 255)', marker_line_color='rgb(255, 255, 255)',row=1,col=1)\n",
    "    fig.update_traces(texttemplate='%{text:.3s}', textposition='outside',row=1,col=2)\n",
    "    fig.update_traces(texttemplate='%{text:.3s}', textposition='outside',row=1,col=3)\n",
    "    fig.update_traces(texttemplate='%{text:.3s}', textposition='outside',row=1,col=4)\n",
    "    fig.update_layout(xaxis_title=\"\", xaxis_visible=False, yaxis_visible=True,\n",
    "                      xaxis2_title=\"Bill Savings<br>usd\", xaxis2_visible=True, yaxis2_visible=False,\n",
    "                      xaxis3_title=\"Emission Savings<br>kgCO2e\", xaxis3_visible=True, yaxis3_visible=False,\n",
    "                      xaxis4_title=\"Energy Savings<br>mmbtu\", xaxis4_visible=True, yaxis4_visible=False,\n",
    "                     title='Annual Savings Per Dwelling Unit')\n",
    "    fig.update_layout(\n",
    "    autosize=False,\n",
    "    width=850,\n",
    "    height=500,\n",
    "    font=dict(size=10),\n",
    "    plot_bgcolor='rgba(0, 0, 0, 0)',)\n",
    "    fig.update_xaxes(tickangle=45)\n",
    "    fig.update_layout(showlegend=False)\n",
    "    \n",
    "    fig.show()\n",
    "    fig.write_image(fig_dir / 'annual_saving_per_dwelling_unit.svg')\n",
    "\n",
    "figure_mean_savings(community_results) "
   ]
  },
  {
   "cell_type": "markdown",
   "id": "35e7b6ad",
   "metadata": {},
   "source": [
    "# 2. Results for Segments"
   ]
  },
  {
   "cell_type": "markdown",
   "id": "13fe6b47",
   "metadata": {},
   "source": [
    "## 2.1 Upgrade Cost Per Dwelling Unit "
   ]
  },
  {
   "cell_type": "code",
   "execution_count": 51,
   "id": "585a1a25",
   "metadata": {},
   "outputs": [
    {
     "name": "stdout",
     "output_type": "stream",
     "text": [
      "segment1: upgrade cost (usd) per dwelling unit\n",
      "upgrade_name\n",
      "Electric Cooking                                                    1115.8\n",
      "Electric Clothes Dryer                                              1253.0\n",
      "Induction Cooking                                                   1918.7\n",
      "Heat Pump Clothes Dryer                                             2521.5\n",
      "Heat Pump Water Heater                                              3133.1\n",
      "Basic Enclosure                                                     7018.2\n",
      "Enhanced Enclosure                                                  9756.2\n",
      "Mininum Efficiency Whole Home Electrification                      16209.2\n",
      "Mininum Efficiency Heat Pump with Existing Heat Backup             17741.1\n",
      "Mininum Efficiency Heat Pump with Electric Heat Backup             17961.2\n",
      "High Efficiency Heat Pump with Electric Heat Backup                29715.5\n",
      "Basic Enclosure + HPWH + High Efficiency HP/Electric Backup        34855.8\n",
      "Enhanced Enclosure + HPWH + High Efficiency HP/Electric Backup     36688.6\n",
      "High Efficiency Whole Home Electrification                         37198.5\n",
      "Basic Enclosure + High Efficiency Whole Home Electrification       39214.9\n",
      "Enhanced Enclosure + High Efficiency Whole Home Electrification    41047.7\n",
      "Name: upgrade_cost_usd, dtype: float64\n",
      "segment2: upgrade cost (usd) per dwelling unit\n",
      "upgrade_name\n",
      "Basic Enclosure                                                      907.9\n",
      "Electric Cooking                                                    1115.8\n",
      "Electric Clothes Dryer                                              1253.0\n",
      "Enhanced Enclosure                                                  1813.4\n",
      "Induction Cooking                                                   1918.7\n",
      "Heat Pump Clothes Dryer                                             2521.5\n",
      "Mininum Efficiency Whole Home Electrification                       2840.1\n",
      "Heat Pump Water Heater                                              2882.5\n",
      "Mininum Efficiency Heat Pump with Electric Heat Backup              9058.7\n",
      "Mininum Efficiency Heat Pump with Existing Heat Backup              9068.3\n",
      "High Efficiency Heat Pump with Electric Heat Backup                21567.1\n",
      "Basic Enclosure + HPWH + High Efficiency HP/Electric Backup        24409.5\n",
      "Enhanced Enclosure + HPWH + High Efficiency HP/Electric Backup     25059.5\n",
      "Basic Enclosure + High Efficiency Whole Home Electrification       28194.7\n",
      "High Efficiency Whole Home Electrification                         28198.4\n",
      "Enhanced Enclosure + High Efficiency Whole Home Electrification    28844.6\n",
      "Name: upgrade_cost_usd, dtype: float64\n",
      "segment3: upgrade cost (usd) per dwelling unit\n",
      "upgrade_name\n",
      "Electric Cooking                                                    1115.8\n",
      "Electric Clothes Dryer                                              1253.0\n",
      "Induction Cooking                                                   1918.7\n",
      "Heat Pump Clothes Dryer                                             2521.5\n",
      "Heat Pump Water Heater                                              3380.9\n",
      "Basic Enclosure                                                     3868.8\n",
      "Enhanced Enclosure                                                  6223.8\n",
      "Mininum Efficiency Whole Home Electrification                       9896.9\n",
      "Mininum Efficiency Heat Pump with Existing Heat Backup             13276.2\n",
      "Mininum Efficiency Heat Pump with Electric Heat Backup             13367.8\n",
      "High Efficiency Heat Pump with Electric Heat Backup                27847.6\n",
      "Basic Enclosure + HPWH + High Efficiency HP/Electric Backup        33221.8\n",
      "Enhanced Enclosure + HPWH + High Efficiency HP/Electric Backup     34956.4\n",
      "High Efficiency Whole Home Electrification                         35491.4\n",
      "Basic Enclosure + High Efficiency Whole Home Electrification       37506.8\n",
      "Enhanced Enclosure + High Efficiency Whole Home Electrification    39241.3\n",
      "Name: upgrade_cost_usd, dtype: float64\n",
      "segment4: upgrade cost (usd) per dwelling unit\n",
      "upgrade_name\n",
      "Basic Enclosure                                                      460.4\n",
      "Electric Cooking                                                    1115.8\n",
      "Electric Clothes Dryer                                              1253.0\n",
      "Enhanced Enclosure                                                  1679.8\n",
      "Induction Cooking                                                   1918.7\n",
      "Heat Pump Clothes Dryer                                             2521.5\n",
      "Mininum Efficiency Whole Home Electrification                       2567.2\n",
      "Heat Pump Water Heater                                              2890.6\n",
      "Mininum Efficiency Heat Pump with Existing Heat Backup              8187.1\n",
      "Mininum Efficiency Heat Pump with Electric Heat Backup              8202.4\n",
      "High Efficiency Heat Pump with Electric Heat Backup                22067.9\n",
      "Basic Enclosure + HPWH + High Efficiency HP/Electric Backup        24740.3\n",
      "Enhanced Enclosure + HPWH + High Efficiency HP/Electric Backup     25714.0\n",
      "Basic Enclosure + High Efficiency Whole Home Electrification       28545.7\n",
      "High Efficiency Whole Home Electrification                         28670.8\n",
      "Enhanced Enclosure + High Efficiency Whole Home Electrification    29519.4\n",
      "Name: upgrade_cost_usd, dtype: float64\n"
     ]
    }
   ],
   "source": [
    "def figure_mean_upgrade_cost(commnity_results):\n",
    "    results = commnity_results[['upgrade_name',\n",
    "                       'upgrade_cost_usd',\n",
    "                                'sample_weight',\n",
    "                                'segment']]\n",
    "    results = results.loc[results['upgrade_name'] != 'baseline']\n",
    "    results['upgrade_cost_usd'] = results['upgrade_cost_usd']*results['sample_weight']\n",
    "    \n",
    "    segment1 = results.loc[results['segment'] == 'segment1']\n",
    "    segment2 = results.loc[results['segment'] == 'segment2']\n",
    "    segment3 = results.loc[results['segment'] == 'segment3']\n",
    "    segment4 = results.loc[results['segment'] == 'segment4']\n",
    "    \n",
    "    agg_functions = {'upgrade_name': 'first',\n",
    "                     'segment': 'first',\n",
    "                     'upgrade_cost_usd': 'sum',\n",
    "                    'sample_weight': 'sum'}\n",
    "    \n",
    "    segment1 = segment1.groupby(segment1['upgrade_name']).aggregate(agg_functions)\n",
    "    segment2 = segment2.groupby(segment2['upgrade_name']).aggregate(agg_functions)\n",
    "    segment3 = segment3.groupby(segment3['upgrade_name']).aggregate(agg_functions)\n",
    "    segment4 = segment4.groupby(segment4['upgrade_name']).aggregate(agg_functions)\n",
    "    \n",
    "    segment1['upgrade_cost_usd'] = segment1['upgrade_cost_usd']/segment1['sample_weight']\n",
    "    segment2['upgrade_cost_usd'] = segment2['upgrade_cost_usd']/segment2['sample_weight']\n",
    "    segment3['upgrade_cost_usd'] = segment3['upgrade_cost_usd']/segment3['sample_weight']\n",
    "    segment4['upgrade_cost_usd'] = segment4['upgrade_cost_usd']/segment4['sample_weight']\n",
    "    \n",
    "    segment1 = segment1.sort_values('upgrade_cost_usd')\n",
    "    segment2 = segment2.sort_values('upgrade_cost_usd')\n",
    "    segment3 = segment3.sort_values('upgrade_cost_usd')\n",
    "    segment4 = segment4.sort_values('upgrade_cost_usd')\n",
    "    \n",
    "    segment1['upgrade_cost_usd'] = segment1['upgrade_cost_usd'].round(1)\n",
    "    segment2['upgrade_cost_usd'] = segment2['upgrade_cost_usd'].round(1)\n",
    "    segment3['upgrade_cost_usd'] = segment3['upgrade_cost_usd'].round(1)\n",
    "    segment4['upgrade_cost_usd'] = segment4['upgrade_cost_usd'].round(1)\n",
    "    \n",
    "    print('segment1: upgrade cost (usd) per dwelling unit')\n",
    "    print(segment1['upgrade_cost_usd'])\n",
    "    print('segment2: upgrade cost (usd) per dwelling unit')\n",
    "    print(segment2['upgrade_cost_usd'])\n",
    "    print('segment3: upgrade cost (usd) per dwelling unit')\n",
    "    print(segment3['upgrade_cost_usd'])\n",
    "    print('segment4: upgrade cost (usd) per dwelling unit')\n",
    "    print(segment4['upgrade_cost_usd'])\n",
    "\n",
    "figure_mean_upgrade_cost(community_results) "
   ]
  },
  {
   "cell_type": "markdown",
   "id": "660e0aa3",
   "metadata": {},
   "source": [
    " ## 2.2 Annual Savings Per Dollar Invested"
   ]
  },
  {
   "cell_type": "code",
   "execution_count": 52,
   "id": "d3e8bf3d",
   "metadata": {},
   "outputs": [],
   "source": [
    "def figure_most_impact_package_savings_per_dollar(indicator, commnity_results):\n",
    "    \n",
    "    results = commnity_results[['upgrade_name', indicator, 'upgrade_cost_usd', 'sample_weight', 'segment']]\n",
    "    results = results.loc[results['upgrade_name'] != 'baseline']\n",
    "    results[indicator] = results[indicator]*results['sample_weight']\n",
    "    results['upgrade_cost_usd'] = results['upgrade_cost_usd']*results['sample_weight']\n",
    "    \n",
    "    segment1 = results.loc[results['segment'] == 'segment1']\n",
    "    segment2 = results.loc[results['segment'] == 'segment2']\n",
    "    segment3 = results.loc[results['segment'] == 'segment3']\n",
    "    segment4 = results.loc[results['segment'] == 'segment4']\n",
    "    \n",
    "    agg_functions = {'upgrade_name': 'first',\n",
    "                     indicator: 'sum',\n",
    "                     'upgrade_cost_usd': 'sum',\n",
    "                     'sample_weight': 'sum'}\n",
    "    \n",
    "    segment1_agg = segment1.groupby(segment1['upgrade_name']).aggregate(agg_functions)\n",
    "    segment2_agg = segment2.groupby(segment2['upgrade_name']).aggregate(agg_functions)\n",
    "    segment3_agg = segment3.groupby(segment3['upgrade_name']).aggregate(agg_functions)\n",
    "    segment4_agg = segment4.groupby(segment4['upgrade_name']).aggregate(agg_functions)\n",
    "    \n",
    "    segment1_agg[indicator] = segment1_agg[indicator]/segment1_agg['upgrade_cost_usd']\n",
    "    segment2_agg[indicator] = segment2_agg[indicator]/segment2_agg['upgrade_cost_usd']\n",
    "    segment3_agg[indicator] = segment3_agg[indicator]/segment3_agg['upgrade_cost_usd']\n",
    "    segment4_agg[indicator] = segment4_agg[indicator]/segment4_agg['upgrade_cost_usd']\n",
    "    \n",
    "    segment1_agg = segment1_agg.sort_values([indicator], ascending=False)\n",
    "    segment2_agg = segment2_agg.sort_values([indicator], ascending=False)\n",
    "    segment3_agg = segment3_agg.sort_values([indicator], ascending=False)\n",
    "    segment4_agg = segment4_agg.sort_values([indicator], ascending=False)\n",
    "    \n",
    "    segment1_agg[indicator] = segment1_agg[indicator].round(5)\n",
    "    segment2_agg[indicator] = segment2_agg[indicator].round(5)\n",
    "    segment3_agg[indicator] = segment3_agg[indicator].round(5)\n",
    "    segment4_agg[indicator] = segment4_agg[indicator].round(5)\n",
    "    \n",
    "    print('segment1')\n",
    "    print(segment1_agg[indicator])\n",
    "    print('segment2')\n",
    "    print(segment2_agg[indicator])\n",
    "    print('segment3')\n",
    "    print(segment3_agg[indicator])\n",
    "    print('segment4')\n",
    "    print(segment4_agg[indicator])    "
   ]
  },
  {
   "cell_type": "markdown",
   "id": "9492f6e1",
   "metadata": {},
   "source": [
    " ### Annual Bill Savings Per Dollar Invested"
   ]
  },
  {
   "cell_type": "code",
   "execution_count": 53,
   "id": "6e31ced4",
   "metadata": {},
   "outputs": [
    {
     "name": "stdout",
     "output_type": "stream",
     "text": [
      "segment1\n",
      "upgrade_name\n",
      "Basic Enclosure                                                    0.08762\n",
      "Enhanced Enclosure                                                 0.07173\n",
      "Basic Enclosure + HPWH + High Efficiency HP/Electric Backup        0.04099\n",
      "Heat Pump Water Heater                                             0.04006\n",
      "Enhanced Enclosure + HPWH + High Efficiency HP/Electric Backup     0.03956\n",
      "Basic Enclosure + High Efficiency Whole Home Electrification       0.03746\n",
      "Enhanced Enclosure + High Efficiency Whole Home Electrification    0.03634\n",
      "High Efficiency Heat Pump with Electric Heat Backup                0.03531\n",
      "High Efficiency Whole Home Electrification                         0.03371\n",
      "Mininum Efficiency Heat Pump with Existing Heat Backup             0.02534\n",
      "Mininum Efficiency Heat Pump with Electric Heat Backup             0.02527\n",
      "Mininum Efficiency Whole Home Electrification                      0.01531\n",
      "Heat Pump Clothes Dryer                                            0.01478\n",
      "Induction Cooking                                                  0.00063\n",
      "Electric Cooking                                                  -0.01329\n",
      "Electric Clothes Dryer                                            -0.01971\n",
      "Name: saving_cbill.total_usd, dtype: float64\n",
      "segment2\n",
      "upgrade_name\n",
      "Basic Enclosure                                                    0.13098\n",
      "Enhanced Enclosure                                                 0.08295\n",
      "Heat Pump Water Heater                                             0.03909\n",
      "Basic Enclosure + HPWH + High Efficiency HP/Electric Backup        0.02248\n",
      "Enhanced Enclosure + HPWH + High Efficiency HP/Electric Backup     0.02238\n",
      "Basic Enclosure + High Efficiency Whole Home Electrification       0.02034\n",
      "Enhanced Enclosure + High Efficiency Whole Home Electrification    0.02030\n",
      "High Efficiency Whole Home Electrification                         0.01880\n",
      "High Efficiency Heat Pump with Electric Heat Backup                0.01675\n",
      "Mininum Efficiency Heat Pump with Electric Heat Backup             0.01603\n",
      "Mininum Efficiency Heat Pump with Existing Heat Backup             0.01539\n",
      "Heat Pump Clothes Dryer                                            0.01183\n",
      "Mininum Efficiency Whole Home Electrification                      0.00907\n",
      "Induction Cooking                                                  0.00129\n",
      "Electric Cooking                                                  -0.00203\n",
      "Electric Clothes Dryer                                            -0.01436\n",
      "Name: saving_cbill.total_usd, dtype: float64\n",
      "segment3\n",
      "upgrade_name\n",
      "Basic Enclosure                                                    0.06331\n",
      "Heat Pump Water Heater                                             0.04952\n",
      "Enhanced Enclosure                                                 0.04941\n",
      "Basic Enclosure + HPWH + High Efficiency HP/Electric Backup        0.03251\n",
      "Enhanced Enclosure + HPWH + High Efficiency HP/Electric Backup     0.03136\n",
      "Basic Enclosure + High Efficiency Whole Home Electrification       0.02995\n",
      "High Efficiency Whole Home Electrification                         0.02936\n",
      "Enhanced Enclosure + High Efficiency Whole Home Electrification    0.02904\n",
      "High Efficiency Heat Pump with Electric Heat Backup                0.02806\n",
      "Mininum Efficiency Heat Pump with Electric Heat Backup             0.02691\n",
      "Mininum Efficiency Heat Pump with Existing Heat Backup             0.02667\n",
      "Heat Pump Clothes Dryer                                            0.01699\n",
      "Mininum Efficiency Whole Home Electrification                      0.01180\n",
      "Induction Cooking                                                  0.00120\n",
      "Electric Cooking                                                  -0.01380\n",
      "Electric Clothes Dryer                                            -0.01967\n",
      "Name: saving_cbill.total_usd, dtype: float64\n",
      "segment4\n",
      "upgrade_name\n",
      "Basic Enclosure                                                    0.14538\n",
      "Enhanced Enclosure                                                 0.06483\n",
      "Heat Pump Water Heater                                             0.05352\n",
      "Enhanced Enclosure + HPWH + High Efficiency HP/Electric Backup     0.01922\n",
      "Basic Enclosure + HPWH + High Efficiency HP/Electric Backup        0.01899\n",
      "Enhanced Enclosure + High Efficiency Whole Home Electrification    0.01765\n",
      "Basic Enclosure + High Efficiency Whole Home Electrification       0.01739\n",
      "Mininum Efficiency Whole Home Electrification                      0.01681\n",
      "High Efficiency Whole Home Electrification                         0.01655\n",
      "Heat Pump Clothes Dryer                                            0.01250\n",
      "High Efficiency Heat Pump with Electric Heat Backup                0.01202\n",
      "Mininum Efficiency Heat Pump with Existing Heat Backup             0.01122\n",
      "Mininum Efficiency Heat Pump with Electric Heat Backup             0.01102\n",
      "Induction Cooking                                                  0.00150\n",
      "Electric Cooking                                                  -0.00479\n",
      "Electric Clothes Dryer                                            -0.04865\n",
      "Name: saving_cbill.total_usd, dtype: float64\n"
     ]
    }
   ],
   "source": [
    "indicator ='saving_cbill.total_usd'\n",
    "figure_most_impact_package_savings_per_dollar(indicator, community_results) "
   ]
  },
  {
   "cell_type": "markdown",
   "id": "4be95afb",
   "metadata": {},
   "source": [
    " ### Annual Energy Savings Per Dollar Invested"
   ]
  },
  {
   "cell_type": "code",
   "execution_count": 54,
   "id": "d03da729",
   "metadata": {},
   "outputs": [
    {
     "name": "stdout",
     "output_type": "stream",
     "text": [
      "segment1\n",
      "upgrade_name\n",
      "Basic Enclosure                                                    0.00331\n",
      "Enhanced Enclosure                                                 0.00272\n",
      "Mininum Efficiency Whole Home Electrification                      0.00241\n",
      "Heat Pump Water Heater                                             0.00220\n",
      "Basic Enclosure + HPWH + High Efficiency HP/Electric Backup        0.00166\n",
      "Enhanced Enclosure + HPWH + High Efficiency HP/Electric Backup     0.00159\n",
      "Electric Cooking                                                   0.00154\n",
      "Mininum Efficiency Heat Pump with Electric Heat Backup             0.00153\n",
      "Basic Enclosure + High Efficiency Whole Home Electrification       0.00151\n",
      "Enhanced Enclosure + High Efficiency Whole Home Electrification    0.00146\n",
      "High Efficiency Whole Home Electrification                         0.00145\n",
      "High Efficiency Heat Pump with Electric Heat Backup                0.00144\n",
      "Mininum Efficiency Heat Pump with Existing Heat Backup             0.00115\n",
      "Heat Pump Clothes Dryer                                            0.00042\n",
      "Induction Cooking                                                  0.00032\n",
      "Electric Clothes Dryer                                             0.00031\n",
      "Name: saving_energy.total_mmbtu, dtype: float64\n",
      "segment2\n",
      "upgrade_name\n",
      "Basic Enclosure                                                    0.00356\n",
      "Enhanced Enclosure                                                 0.00223\n",
      "Mininum Efficiency Whole Home Electrification                      0.00138\n",
      "Electric Cooking                                                   0.00138\n",
      "Heat Pump Water Heater                                             0.00110\n",
      "Basic Enclosure + HPWH + High Efficiency HP/Electric Backup        0.00061\n",
      "Enhanced Enclosure + HPWH + High Efficiency HP/Electric Backup     0.00060\n",
      "Basic Enclosure + High Efficiency Whole Home Electrification       0.00056\n",
      "Enhanced Enclosure + High Efficiency Whole Home Electrification    0.00056\n",
      "High Efficiency Whole Home Electrification                         0.00052\n",
      "High Efficiency Heat Pump with Electric Heat Backup                0.00045\n",
      "Mininum Efficiency Heat Pump with Electric Heat Backup             0.00045\n",
      "Mininum Efficiency Heat Pump with Existing Heat Backup             0.00041\n",
      "Heat Pump Clothes Dryer                                            0.00031\n",
      "Electric Clothes Dryer                                             0.00022\n",
      "Induction Cooking                                                  0.00020\n",
      "Name: saving_energy.total_mmbtu, dtype: float64\n",
      "segment3\n",
      "upgrade_name\n",
      "Heat Pump Water Heater                                             0.00194\n",
      "Basic Enclosure                                                    0.00180\n",
      "Electric Cooking                                                   0.00168\n",
      "Mininum Efficiency Whole Home Electrification                      0.00163\n",
      "Enhanced Enclosure                                                 0.00140\n",
      "Basic Enclosure + HPWH + High Efficiency HP/Electric Backup        0.00098\n",
      "Enhanced Enclosure + HPWH + High Efficiency HP/Electric Backup     0.00095\n",
      "Basic Enclosure + High Efficiency Whole Home Electrification       0.00091\n",
      "High Efficiency Whole Home Electrification                         0.00090\n",
      "Enhanced Enclosure + High Efficiency Whole Home Electrification    0.00088\n",
      "Mininum Efficiency Heat Pump with Electric Heat Backup             0.00086\n",
      "High Efficiency Heat Pump with Electric Heat Backup                0.00081\n",
      "Mininum Efficiency Heat Pump with Existing Heat Backup             0.00076\n",
      "Heat Pump Clothes Dryer                                            0.00046\n",
      "Electric Clothes Dryer                                             0.00029\n",
      "Induction Cooking                                                  0.00024\n",
      "Name: saving_energy.total_mmbtu, dtype: float64\n",
      "segment4\n",
      "upgrade_name\n",
      "Basic Enclosure                                                    0.00386\n",
      "Mininum Efficiency Whole Home Electrification                      0.00178\n",
      "Enhanced Enclosure                                                 0.00172\n",
      "Heat Pump Water Heater                                             0.00152\n",
      "Electric Cooking                                                   0.00137\n",
      "Enhanced Enclosure + HPWH + High Efficiency HP/Electric Backup     0.00052\n",
      "Basic Enclosure + HPWH + High Efficiency HP/Electric Backup        0.00051\n",
      "Electric Clothes Dryer                                             0.00049\n",
      "Enhanced Enclosure + High Efficiency Whole Home Electrification    0.00049\n",
      "Basic Enclosure + High Efficiency Whole Home Electrification       0.00048\n",
      "High Efficiency Whole Home Electrification                         0.00046\n",
      "Heat Pump Clothes Dryer                                            0.00034\n",
      "High Efficiency Heat Pump with Electric Heat Backup                0.00032\n",
      "Mininum Efficiency Heat Pump with Electric Heat Backup             0.00030\n",
      "Mininum Efficiency Heat Pump with Existing Heat Backup             0.00030\n",
      "Induction Cooking                                                  0.00018\n",
      "Name: saving_energy.total_mmbtu, dtype: float64\n"
     ]
    }
   ],
   "source": [
    "indicator = 'saving_energy.total_mmbtu'\n",
    "figure_most_impact_package_savings_per_dollar(indicator, community_results) "
   ]
  },
  {
   "cell_type": "markdown",
   "id": "3b3ea80f",
   "metadata": {},
   "source": [
    " ### Annual Emission Savings Per Dollar Invested"
   ]
  },
  {
   "cell_type": "code",
   "execution_count": 55,
   "id": "b538dff9",
   "metadata": {},
   "outputs": [
    {
     "name": "stdout",
     "output_type": "stream",
     "text": [
      "segment1\n",
      "upgrade_name\n",
      "Basic Enclosure                                                    0.24065\n",
      "Enhanced Enclosure                                                 0.19904\n",
      "Heat Pump Water Heater                                             0.15034\n",
      "Mininum Efficiency Whole Home Electrification                      0.14423\n",
      "Basic Enclosure + HPWH + High Efficiency HP/Electric Backup        0.11972\n",
      "Enhanced Enclosure + HPWH + High Efficiency HP/Electric Backup     0.11525\n",
      "Basic Enclosure + High Efficiency Whole Home Electrification       0.10924\n",
      "Enhanced Enclosure + High Efficiency Whole Home Electrification    0.10571\n",
      "High Efficiency Heat Pump with Electric Heat Backup                0.10408\n",
      "High Efficiency Whole Home Electrification                         0.10323\n",
      "Mininum Efficiency Heat Pump with Electric Heat Backup             0.10302\n",
      "Electric Cooking                                                   0.09892\n",
      "Mininum Efficiency Heat Pump with Existing Heat Backup             0.08384\n",
      "Heat Pump Clothes Dryer                                            0.02862\n",
      "Induction Cooking                                                  0.02125\n",
      "Electric Clothes Dryer                                             0.02001\n",
      "Name: saving_emission.total_kgCO2e, dtype: float64\n",
      "segment2\n",
      "upgrade_name\n",
      "Basic Enclosure                                                    0.29499\n",
      "Enhanced Enclosure                                                 0.18758\n",
      "Electric Cooking                                                   0.09383\n",
      "Mininum Efficiency Whole Home Electrification                      0.08659\n",
      "Heat Pump Water Heater                                             0.07801\n",
      "Basic Enclosure + HPWH + High Efficiency HP/Electric Backup        0.04869\n",
      "Enhanced Enclosure + HPWH + High Efficiency HP/Electric Backup     0.04854\n",
      "Basic Enclosure + High Efficiency Whole Home Electrification       0.04455\n",
      "Enhanced Enclosure + High Efficiency Whole Home Electrification    0.04451\n",
      "High Efficiency Whole Home Electrification                         0.04123\n",
      "Mininum Efficiency Heat Pump with Electric Heat Backup             0.03858\n",
      "High Efficiency Heat Pump with Electric Heat Backup                0.03701\n",
      "Mininum Efficiency Heat Pump with Existing Heat Backup             0.03642\n",
      "Heat Pump Clothes Dryer                                            0.02173\n",
      "Induction Cooking                                                  0.01403\n",
      "Electric Clothes Dryer                                             0.01296\n",
      "Name: saving_emission.total_kgCO2e, dtype: float64\n",
      "segment3\n",
      "upgrade_name\n",
      "Basic Enclosure                                                    0.14278\n",
      "Heat Pump Water Heater                                             0.13135\n",
      "Enhanced Enclosure                                                 0.11258\n",
      "Electric Cooking                                                   0.11223\n",
      "Mininum Efficiency Whole Home Electrification                      0.10127\n",
      "Basic Enclosure + HPWH + High Efficiency HP/Electric Backup        0.07651\n",
      "Enhanced Enclosure + HPWH + High Efficiency HP/Electric Backup     0.07381\n",
      "Basic Enclosure + High Efficiency Whole Home Electrification       0.07062\n",
      "High Efficiency Whole Home Electrification                         0.06988\n",
      "Mininum Efficiency Heat Pump with Electric Heat Backup             0.06888\n",
      "Enhanced Enclosure + High Efficiency Whole Home Electrification    0.06848\n",
      "High Efficiency Heat Pump with Electric Heat Backup                0.06467\n",
      "Mininum Efficiency Heat Pump with Existing Heat Backup             0.06366\n",
      "Heat Pump Clothes Dryer                                            0.03169\n",
      "Electric Clothes Dryer                                             0.01872\n",
      "Induction Cooking                                                  0.01661\n",
      "Name: saving_emission.total_kgCO2e, dtype: float64\n",
      "segment4\n",
      "upgrade_name\n",
      "Basic Enclosure                                                    0.32493\n",
      "Enhanced Enclosure                                                 0.13422\n",
      "Mininum Efficiency Whole Home Electrification                      0.11516\n",
      "Heat Pump Water Heater                                             0.10768\n",
      "Electric Cooking                                                   0.09385\n",
      "Electric Clothes Dryer                                             0.04709\n",
      "Enhanced Enclosure + HPWH + High Efficiency HP/Electric Backup     0.04019\n",
      "Basic Enclosure + HPWH + High Efficiency HP/Electric Backup        0.04009\n",
      "Enhanced Enclosure + High Efficiency Whole Home Electrification    0.03732\n",
      "Basic Enclosure + High Efficiency Whole Home Electrification       0.03713\n",
      "High Efficiency Whole Home Electrification                         0.03525\n",
      "High Efficiency Heat Pump with Electric Heat Backup                0.02578\n",
      "Mininum Efficiency Heat Pump with Electric Heat Backup             0.02542\n",
      "Mininum Efficiency Heat Pump with Existing Heat Backup             0.02532\n",
      "Heat Pump Clothes Dryer                                            0.02340\n",
      "Induction Cooking                                                  0.01243\n",
      "Name: saving_emission.total_kgCO2e, dtype: float64\n"
     ]
    }
   ],
   "source": [
    "indicator ='saving_emission.total_kgCO2e'\n",
    "figure_most_impact_package_savings_per_dollar(indicator, community_results) "
   ]
  },
  {
   "cell_type": "markdown",
   "id": "961cd050",
   "metadata": {},
   "source": [
    "## 2.3 Annual Total Savings"
   ]
  },
  {
   "cell_type": "code",
   "execution_count": 56,
   "id": "a5596818",
   "metadata": {},
   "outputs": [],
   "source": [
    "def figure_most_impact_package_total_savings(indicator, commnity_results):\n",
    "    \n",
    "    results = commnity_results[['upgrade_name', indicator, 'sample_weight', 'segment']]\n",
    "    results = results.loc[results['upgrade_name'] != 'baseline']\n",
    "    results[indicator] = results[indicator]*results['sample_weight']\n",
    "    \n",
    "    segment1 = results.loc[results['segment'] == 'segment1']\n",
    "    segment2 = results.loc[results['segment'] == 'segment2']\n",
    "    segment3 = results.loc[results['segment'] == 'segment3']\n",
    "    segment4 = results.loc[results['segment'] == 'segment4']\n",
    "    \n",
    "    agg_functions = {'upgrade_name': 'first',\n",
    "                     indicator: 'sum',\n",
    "                    'sample_weight': 'sum'}\n",
    "    \n",
    "    segment1_agg = segment1.groupby(segment1['upgrade_name']).aggregate(agg_functions)\n",
    "    segment2_agg = segment2.groupby(segment2['upgrade_name']).aggregate(agg_functions)\n",
    "    segment3_agg = segment3.groupby(segment3['upgrade_name']).aggregate(agg_functions)\n",
    "    segment4_agg = segment4.groupby(segment4['upgrade_name']).aggregate(agg_functions)\n",
    "    \n",
    "    segment1_agg = segment1_agg.sort_values([indicator], ascending=False)\n",
    "    segment2_agg = segment2_agg.sort_values([indicator], ascending=False)\n",
    "    segment3_agg = segment3_agg.sort_values([indicator], ascending=False)\n",
    "    segment4_agg = segment4_agg.sort_values([indicator], ascending=False)\n",
    "    \n",
    "    segment1_agg[indicator] = segment1_agg[indicator].round(1)\n",
    "    segment2_agg[indicator] = segment2_agg[indicator].round(1)\n",
    "    segment3_agg[indicator] = segment3_agg[indicator].round(1)\n",
    "    segment4_agg[indicator] = segment4_agg[indicator].round(1)\n",
    "\n",
    "    print('segment1')\n",
    "    print(segment1_agg[indicator])\n",
    "    print('segment2')\n",
    "    print(segment2_agg[indicator])\n",
    "    print('segment3')\n",
    "    print(segment3_agg[indicator])\n",
    "    print('segment4')\n",
    "    print(segment4_agg[indicator])    "
   ]
  },
  {
   "cell_type": "markdown",
   "id": "702400cd",
   "metadata": {},
   "source": [
    "### Annual Total Bill Savings"
   ]
  },
  {
   "cell_type": "code",
   "execution_count": 57,
   "id": "4cb37f5f",
   "metadata": {},
   "outputs": [
    {
     "name": "stdout",
     "output_type": "stream",
     "text": [
      "segment1\n",
      "upgrade_name\n",
      "Enhanced Enclosure + High Efficiency Whole Home Electrification    26188783.5\n",
      "Basic Enclosure + High Efficiency Whole Home Electrification       25789865.3\n",
      "Enhanced Enclosure + HPWH + High Efficiency HP/Electric Backup     25480462.0\n",
      "Basic Enclosure + HPWH + High Efficiency HP/Electric Backup        25081543.7\n",
      "High Efficiency Whole Home Electrification                         22015669.4\n",
      "High Efficiency Heat Pump with Electric Heat Backup                18418011.6\n",
      "Enhanced Enclosure                                                 12284982.8\n",
      "Basic Enclosure                                                    10795361.9\n",
      "Mininum Efficiency Heat Pump with Electric Heat Backup              7968124.7\n",
      "Mininum Efficiency Heat Pump with Existing Heat Backup              7892844.5\n",
      "Mininum Efficiency Whole Home Electrification                       2836823.8\n",
      "Heat Pump Water Heater                                              2197122.7\n",
      "Heat Pump Clothes Dryer                                              641109.8\n",
      "Induction Cooking                                                     20976.2\n",
      "Electric Clothes Dryer                                               -38468.5\n",
      "Electric Cooking                                                     -71435.5\n",
      "Name: saving_cbill.total_usd, dtype: float64\n",
      "segment2\n",
      "upgrade_name\n",
      "Enhanced Enclosure + High Efficiency Whole Home Electrification    4725350.6\n",
      "Basic Enclosure + High Efficiency Whole Home Electrification       4627449.2\n",
      "Enhanced Enclosure + HPWH + High Efficiency HP/Electric Backup     4524932.1\n",
      "Basic Enclosure + HPWH + High Efficiency HP/Electric Backup        4427030.7\n",
      "High Efficiency Whole Home Electrification                         4277823.5\n",
      "High Efficiency Heat Pump with Electric Heat Backup                2914582.6\n",
      "Enhanced Enclosure                                                 1213875.7\n",
      "Mininum Efficiency Heat Pump with Electric Heat Backup             1171392.2\n",
      "Mininum Efficiency Heat Pump with Existing Heat Backup             1075844.6\n",
      "Basic Enclosure                                                     944161.2\n",
      "Heat Pump Water Heater                                              897831.9\n",
      "Heat Pump Clothes Dryer                                             180725.2\n",
      "Mininum Efficiency Whole Home Electrification                        58486.1\n",
      "Induction Cooking                                                    19693.4\n",
      "Electric Clothes Dryer                                               -2322.7\n",
      "Electric Cooking                                                     -3687.4\n",
      "Name: saving_cbill.total_usd, dtype: float64\n",
      "segment3\n",
      "upgrade_name\n",
      "Enhanced Enclosure + High Efficiency Whole Home Electrification    11266393.1\n",
      "Basic Enclosure + High Efficiency Whole Home Electrification       11107509.7\n",
      "Enhanced Enclosure + HPWH + High Efficiency HP/Electric Backup     10839134.5\n",
      "Basic Enclosure + HPWH + High Efficiency HP/Electric Backup        10680251.0\n",
      "High Efficiency Whole Home Electrification                         10303948.7\n",
      "High Efficiency Heat Pump with Electric Heat Backup                 7726141.4\n",
      "Mininum Efficiency Heat Pump with Electric Heat Backup              3556608.3\n",
      "Mininum Efficiency Heat Pump with Existing Heat Backup              3500547.5\n",
      "Enhanced Enclosure                                                  3027149.7\n",
      "Basic Enclosure                                                     2411243.6\n",
      "Heat Pump Water Heater                                              1644689.4\n",
      "Mininum Efficiency Whole Home Electrification                        445317.0\n",
      "Heat Pump Clothes Dryer                                              398987.8\n",
      "Induction Cooking                                                     22643.8\n",
      "Electric Clothes Dryer                                               -13783.3\n",
      "Electric Cooking                                                     -26733.2\n",
      "Name: saving_cbill.total_usd, dtype: float64\n",
      "segment4\n",
      "upgrade_name\n",
      "Enhanced Enclosure + High Efficiency Whole Home Electrification    6246888.9\n",
      "Basic Enclosure + High Efficiency Whole Home Electrification       5953180.2\n",
      "Enhanced Enclosure + HPWH + High Efficiency HP/Electric Backup     5926993.2\n",
      "High Efficiency Whole Home Electrification                         5689528.5\n",
      "Basic Enclosure + HPWH + High Efficiency HP/Electric Backup        5633284.5\n",
      "High Efficiency Heat Pump with Electric Heat Backup                3172325.1\n",
      "Heat Pump Water Heater                                             1833698.6\n",
      "Enhanced Enclosure                                                 1230561.0\n",
      "Mininum Efficiency Heat Pump with Electric Heat Backup             1081478.8\n",
      "Mininum Efficiency Heat Pump with Existing Heat Backup             1077547.6\n",
      "Basic Enclosure                                                     713828.6\n",
      "Heat Pump Clothes Dryer                                             284036.9\n",
      "Mininum Efficiency Whole Home Electrification                       122452.0\n",
      "Induction Cooking                                                    34452.1\n",
      "Electric Cooking                                                    -10278.4\n",
      "Electric Clothes Dryer                                              -10610.1\n",
      "Name: saving_cbill.total_usd, dtype: float64\n"
     ]
    }
   ],
   "source": [
    "indicator ='saving_cbill.total_usd'\n",
    "figure_most_impact_package_total_savings(indicator, community_results)"
   ]
  },
  {
   "cell_type": "markdown",
   "id": "5a9433f1",
   "metadata": {},
   "source": [
    "### Annual Total Energy Savings"
   ]
  },
  {
   "cell_type": "code",
   "execution_count": 58,
   "id": "772222fe",
   "metadata": {},
   "outputs": [
    {
     "name": "stdout",
     "output_type": "stream",
     "text": [
      "segment1\n",
      "upgrade_name\n",
      "Enhanced Enclosure + High Efficiency Whole Home Electrification    1052226.1\n",
      "Basic Enclosure + High Efficiency Whole Home Electrification       1041875.1\n",
      "Enhanced Enclosure + HPWH + High Efficiency HP/Electric Backup     1023331.6\n",
      "Basic Enclosure + HPWH + High Efficiency HP/Electric Backup        1012980.6\n",
      "High Efficiency Whole Home Electrification                          943942.5\n",
      "High Efficiency Heat Pump with Electric Heat Backup                 753078.8\n",
      "Mininum Efficiency Heat Pump with Electric Heat Backup              481931.4\n",
      "Enhanced Enclosure                                                  466031.5\n",
      "Mininum Efficiency Whole Home Electrification                       446293.2\n",
      "Basic Enclosure                                                     408266.9\n",
      "Mininum Efficiency Heat Pump with Existing Heat Backup              357123.5\n",
      "Heat Pump Water Heater                                              120829.5\n",
      "Heat Pump Clothes Dryer                                              18246.2\n",
      "Induction Cooking                                                    10648.3\n",
      "Electric Cooking                                                      8250.2\n",
      "Electric Clothes Dryer                                                 612.5\n",
      "Name: saving_energy.total_mmbtu, dtype: float64\n",
      "segment2\n",
      "upgrade_name\n",
      "Enhanced Enclosure + High Efficiency Whole Home Electrification    129998.3\n",
      "Basic Enclosure + High Efficiency Whole Home Electrification       127458.1\n",
      "Enhanced Enclosure + HPWH + High Efficiency HP/Electric Backup     122110.2\n",
      "Basic Enclosure + HPWH + High Efficiency HP/Electric Backup        119570.0\n",
      "High Efficiency Whole Home Electrification                         118386.2\n",
      "High Efficiency Heat Pump with Electric Heat Backup                 77987.0\n",
      "Mininum Efficiency Heat Pump with Electric Heat Backup              32755.4\n",
      "Enhanced Enclosure                                                  32686.4\n",
      "Mininum Efficiency Heat Pump with Existing Heat Backup              28736.9\n",
      "Basic Enclosure                                                     25685.5\n",
      "Heat Pump Water Heater                                              25347.8\n",
      "Mininum Efficiency Whole Home Electrification                        8903.1\n",
      "Heat Pump Clothes Dryer                                              4785.4\n",
      "Induction Cooking                                                    3102.7\n",
      "Electric Cooking                                                     2495.9\n",
      "Electric Clothes Dryer                                                 35.7\n",
      "Name: saving_energy.total_mmbtu, dtype: float64\n",
      "segment3\n",
      "upgrade_name\n",
      "Enhanced Enclosure + High Efficiency Whole Home Electrification    342329.8\n",
      "Basic Enclosure + High Efficiency Whole Home Electrification       338207.2\n",
      "Enhanced Enclosure + HPWH + High Efficiency HP/Electric Backup     326886.4\n",
      "Basic Enclosure + HPWH + High Efficiency HP/Electric Backup        322763.9\n",
      "High Efficiency Whole Home Electrification                         317356.8\n",
      "High Efficiency Heat Pump with Electric Heat Backup                221721.1\n",
      "Mininum Efficiency Heat Pump with Electric Heat Backup             113537.7\n",
      "Mininum Efficiency Heat Pump with Existing Heat Backup              99546.8\n",
      "Enhanced Enclosure                                                  85774.4\n",
      "Basic Enclosure                                                     68597.1\n",
      "Heat Pump Water Heater                                              64262.3\n",
      "Mininum Efficiency Whole Home Electrification                       61546.6\n",
      "Heat Pump Clothes Dryer                                             10912.4\n",
      "Induction Cooking                                                    4531.0\n",
      "Electric Cooking                                                     3249.4\n",
      "Electric Clothes Dryer                                                201.9\n",
      "Name: saving_energy.total_mmbtu, dtype: float64\n",
      "segment4\n",
      "upgrade_name\n",
      "Enhanced Enclosure + High Efficiency Whole Home Electrification    171860.2\n",
      "Basic Enclosure + High Efficiency Whole Home Electrification       164239.2\n",
      "Enhanced Enclosure + HPWH + High Efficiency HP/Electric Backup     160008.1\n",
      "High Efficiency Whole Home Electrification                         157398.0\n",
      "Basic Enclosure + HPWH + High Efficiency HP/Electric Backup        152387.1\n",
      "High Efficiency Heat Pump with Electric Heat Backup                 83808.1\n",
      "Heat Pump Water Heater                                              52063.0\n",
      "Enhanced Enclosure                                                  32661.3\n",
      "Mininum Efficiency Heat Pump with Electric Heat Backup              29554.8\n",
      "Mininum Efficiency Heat Pump with Existing Heat Backup              28486.8\n",
      "Basic Enclosure                                                     18931.3\n",
      "Mininum Efficiency Whole Home Electrification                       12944.3\n",
      "Heat Pump Clothes Dryer                                              7751.7\n",
      "Induction Cooking                                                    4100.4\n",
      "Electric Cooking                                                     2939.2\n",
      "Electric Clothes Dryer                                                106.2\n",
      "Name: saving_energy.total_mmbtu, dtype: float64\n"
     ]
    }
   ],
   "source": [
    "indicator ='saving_energy.total_mmbtu'\n",
    "figure_most_impact_package_total_savings(indicator, community_results)"
   ]
  },
  {
   "cell_type": "markdown",
   "id": "468edc4e",
   "metadata": {},
   "source": [
    "### Annual Total Emission Savings"
   ]
  },
  {
   "cell_type": "code",
   "execution_count": 59,
   "id": "5fb13c1b",
   "metadata": {},
   "outputs": [
    {
     "name": "stdout",
     "output_type": "stream",
     "text": [
      "segment1\n",
      "upgrade_name\n",
      "Enhanced Enclosure + High Efficiency Whole Home Electrification    76173212.7\n",
      "Basic Enclosure + High Efficiency Whole Home Electrification       75203493.3\n",
      "Enhanced Enclosure + HPWH + High Efficiency HP/Electric Backup     74227341.3\n",
      "Basic Enclosure + HPWH + High Efficiency HP/Electric Backup        73257621.9\n",
      "High Efficiency Whole Home Electrification                         67413737.9\n",
      "High Efficiency Heat Pump with Electric Heat Backup                54291767.1\n",
      "Enhanced Enclosure                                                 34090010.1\n",
      "Mininum Efficiency Heat Pump with Electric Heat Backup             32484213.7\n",
      "Basic Enclosure                                                    29648605.7\n",
      "Mininum Efficiency Whole Home Electrification                      26729391.6\n",
      "Mininum Efficiency Heat Pump with Existing Heat Backup             26112702.6\n",
      "Heat Pump Water Heater                                              8244572.4\n",
      "Heat Pump Clothes Dryer                                             1241611.7\n",
      "Induction Cooking                                                    704259.6\n",
      "Electric Cooking                                                     531634.9\n",
      "Electric Clothes Dryer                                                39046.2\n",
      "Name: saving_emission.total_kgCO2e, dtype: float64\n",
      "segment2\n",
      "upgrade_name\n",
      "Enhanced Enclosure + High Efficiency Whole Home Electrification    10361105.6\n",
      "Basic Enclosure + High Efficiency Whole Home Electrification       10136507.6\n",
      "Enhanced Enclosure + HPWH + High Efficiency HP/Electric Backup      9814933.4\n",
      "Basic Enclosure + HPWH + High Efficiency HP/Electric Backup         9590335.3\n",
      "High Efficiency Whole Home Electrification                          9382032.1\n",
      "High Efficiency Heat Pump with Electric Heat Backup                 6441364.3\n",
      "Mininum Efficiency Heat Pump with Electric Heat Backup              2820119.4\n",
      "Enhanced Enclosure                                                  2744859.9\n",
      "Mininum Efficiency Heat Pump with Existing Heat Backup              2545885.4\n",
      "Basic Enclosure                                                     2126492.5\n",
      "Heat Pump Water Heater                                              1791610.4\n",
      "Mininum Efficiency Whole Home Electrification                        558256.7\n",
      "Heat Pump Clothes Dryer                                              331938.0\n",
      "Induction Cooking                                                    214234.2\n",
      "Electric Cooking                                                     170105.2\n",
      "Electric Clothes Dryer                                                 2095.8\n",
      "Name: saving_emission.total_kgCO2e, dtype: float64\n",
      "segment3\n",
      "upgrade_name\n",
      "Enhanced Enclosure + High Efficiency Whole Home Electrification    26570069.6\n",
      "Basic Enclosure + High Efficiency Whole Home Electrification       26189495.1\n",
      "Enhanced Enclosure + HPWH + High Efficiency HP/Electric Backup     25512433.9\n",
      "Basic Enclosure + HPWH + High Efficiency HP/Electric Backup        25131859.4\n",
      "High Efficiency Whole Home Electrification                         24523487.2\n",
      "High Efficiency Heat Pump with Electric Heat Backup                17806323.3\n",
      "Mininum Efficiency Heat Pump with Electric Heat Backup              9104516.9\n",
      "Mininum Efficiency Heat Pump with Existing Heat Backup              8356276.3\n",
      "Enhanced Enclosure                                                  6897441.1\n",
      "Basic Enclosure                                                     5438108.6\n",
      "Heat Pump Water Heater                                              4362202.0\n",
      "Mininum Efficiency Whole Home Electrification                       3820629.4\n",
      "Heat Pump Clothes Dryer                                              743929.8\n",
      "Induction Cooking                                                    313705.9\n",
      "Electric Cooking                                                     217427.5\n",
      "Electric Clothes Dryer                                                13117.8\n",
      "Name: saving_emission.total_kgCO2e, dtype: float64\n",
      "segment4\n",
      "upgrade_name\n",
      "Enhanced Enclosure + High Efficiency Whole Home Electrification    13211880.7\n",
      "Basic Enclosure + High Efficiency Whole Home Electrification       12712240.4\n",
      "Enhanced Enclosure + HPWH + High Efficiency HP/Electric Backup     12395224.3\n",
      "High Efficiency Whole Home Electrification                         12121777.2\n",
      "Basic Enclosure + HPWH + High Efficiency HP/Electric Backup        11895584.1\n",
      "High Efficiency Heat Pump with Electric Heat Backup                 6803931.8\n",
      "Heat Pump Water Heater                                              3689406.3\n",
      "Enhanced Enclosure                                                  2547735.2\n",
      "Mininum Efficiency Heat Pump with Electric Heat Backup              2493662.4\n",
      "Mininum Efficiency Heat Pump with Existing Heat Backup              2432780.5\n",
      "Basic Enclosure                                                     1595398.3\n",
      "Mininum Efficiency Whole Home Electrification                        839122.1\n",
      "Heat Pump Clothes Dryer                                              531770.6\n",
      "Induction Cooking                                                    284885.8\n",
      "Electric Cooking                                                     201290.1\n",
      "Electric Clothes Dryer                                                10269.1\n",
      "Name: saving_emission.total_kgCO2e, dtype: float64\n"
     ]
    }
   ],
   "source": [
    "indicator ='saving_emission.total_kgCO2e'\n",
    "figure_most_impact_package_total_savings(indicator, community_results)"
   ]
  },
  {
   "cell_type": "markdown",
   "id": "83cbedb9",
   "metadata": {},
   "source": [
    "## 2.4 Annual Savings Per Dwelling Unit"
   ]
  },
  {
   "cell_type": "code",
   "execution_count": 60,
   "id": "36dcf6e7",
   "metadata": {},
   "outputs": [],
   "source": [
    "def figure_most_impact_package_mean_savings(indicator, commnity_results):\n",
    "    \n",
    "    results = commnity_results[['upgrade_name', indicator, 'sample_weight', 'segment']]\n",
    "    results = results.loc[results['upgrade_name'] != 'baseline']\n",
    "    results[indicator] = results[indicator]*results['sample_weight']\n",
    "    \n",
    "    segment1 = results.loc[results['segment'] == 'segment1']\n",
    "    segment2 = results.loc[results['segment'] == 'segment2']\n",
    "    segment3 = results.loc[results['segment'] == 'segment3']\n",
    "    segment4 = results.loc[results['segment'] == 'segment4']\n",
    "    \n",
    "    agg_functions = {'upgrade_name': 'first',\n",
    "                     indicator: 'sum',\n",
    "                    'sample_weight': 'sum'}\n",
    "    \n",
    "    segment1_agg = segment1.groupby(segment1['upgrade_name']).aggregate(agg_functions)\n",
    "    segment2_agg = segment2.groupby(segment2['upgrade_name']).aggregate(agg_functions)\n",
    "    segment3_agg = segment3.groupby(segment3['upgrade_name']).aggregate(agg_functions)\n",
    "    segment4_agg = segment4.groupby(segment4['upgrade_name']).aggregate(agg_functions)\n",
    "    \n",
    "    segment1_agg[indicator] = segment1_agg[indicator]/segment1_agg['sample_weight']\n",
    "    segment2_agg[indicator] = segment2_agg[indicator]/segment2_agg['sample_weight']\n",
    "    segment3_agg[indicator] = segment3_agg[indicator]/segment3_agg['sample_weight']\n",
    "    segment4_agg[indicator] = segment4_agg[indicator]/segment4_agg['sample_weight']\n",
    "    \n",
    "    segment1_agg = segment1_agg.sort_values([indicator], ascending=False)\n",
    "    segment2_agg = segment2_agg.sort_values([indicator], ascending=False)\n",
    "    segment3_agg = segment3_agg.sort_values([indicator], ascending=False)\n",
    "    segment4_agg = segment4_agg.sort_values([indicator], ascending=False)\n",
    "    \n",
    "    segment1_agg[indicator] = segment1_agg[indicator].round(1)\n",
    "    segment2_agg[indicator] = segment2_agg[indicator].round(1)\n",
    "    segment3_agg[indicator] = segment3_agg[indicator].round(1)\n",
    "    segment4_agg[indicator] = segment4_agg[indicator].round(1)\n",
    "    \n",
    "    print('segment1')\n",
    "    print(segment1_agg[indicator])\n",
    "    print('segment2')\n",
    "    print(segment2_agg[indicator])\n",
    "    print('segment3')\n",
    "    print(segment3_agg[indicator])\n",
    "    print('segment4')\n",
    "    print(segment4_agg[indicator])"
   ]
  },
  {
   "cell_type": "markdown",
   "id": "eb35438b",
   "metadata": {},
   "source": [
    "### Annual Bill Savings Per Dwelling Unit"
   ]
  },
  {
   "cell_type": "code",
   "execution_count": 61,
   "id": "876cf387",
   "metadata": {},
   "outputs": [
    {
     "name": "stdout",
     "output_type": "stream",
     "text": [
      "segment1\n",
      "upgrade_name\n",
      "Enhanced Enclosure + High Efficiency Whole Home Electrification    1491.8\n",
      "Basic Enclosure + High Efficiency Whole Home Electrification       1469.1\n",
      "Enhanced Enclosure + HPWH + High Efficiency HP/Electric Backup     1451.5\n",
      "Basic Enclosure + HPWH + High Efficiency HP/Electric Backup        1428.7\n",
      "High Efficiency Whole Home Electrification                         1254.1\n",
      "High Efficiency Heat Pump with Electric Heat Backup                1049.2\n",
      "Enhanced Enclosure                                                  699.8\n",
      "Basic Enclosure                                                     614.9\n",
      "Mininum Efficiency Heat Pump with Electric Heat Backup              453.9\n",
      "Mininum Efficiency Heat Pump with Existing Heat Backup              449.6\n",
      "Mininum Efficiency Whole Home Electrification                       248.1\n",
      "Heat Pump Water Heater                                              125.5\n",
      "Heat Pump Clothes Dryer                                              37.3\n",
      "Induction Cooking                                                     1.2\n",
      "Electric Cooking                                                    -14.8\n",
      "Electric Clothes Dryer                                              -24.7\n",
      "Name: saving_cbill.total_usd, dtype: float64\n",
      "segment2\n",
      "upgrade_name\n",
      "Enhanced Enclosure + High Efficiency Whole Home Electrification    585.6\n",
      "Basic Enclosure + High Efficiency Whole Home Electrification       573.5\n",
      "Enhanced Enclosure + HPWH + High Efficiency HP/Electric Backup     560.8\n",
      "Basic Enclosure + HPWH + High Efficiency HP/Electric Backup        548.6\n",
      "High Efficiency Whole Home Electrification                         530.1\n",
      "High Efficiency Heat Pump with Electric Heat Backup                361.2\n",
      "Enhanced Enclosure                                                 150.4\n",
      "Mininum Efficiency Heat Pump with Electric Heat Backup             145.2\n",
      "Mininum Efficiency Heat Pump with Existing Heat Backup             139.5\n",
      "Basic Enclosure                                                    118.9\n",
      "Heat Pump Water Heater                                             112.7\n",
      "Heat Pump Clothes Dryer                                             29.8\n",
      "Mininum Efficiency Whole Home Electrification                       25.8\n",
      "Induction Cooking                                                    2.5\n",
      "Electric Cooking                                                    -2.3\n",
      "Electric Clothes Dryer                                             -18.0\n",
      "Name: saving_cbill.total_usd, dtype: float64\n",
      "segment3\n",
      "upgrade_name\n",
      "Enhanced Enclosure + High Efficiency Whole Home Electrification    1139.5\n",
      "Basic Enclosure + High Efficiency Whole Home Electrification       1123.4\n",
      "Enhanced Enclosure + HPWH + High Efficiency HP/Electric Backup     1096.3\n",
      "Basic Enclosure + HPWH + High Efficiency HP/Electric Backup        1080.2\n",
      "High Efficiency Whole Home Electrification                         1042.1\n",
      "High Efficiency Heat Pump with Electric Heat Backup                 781.4\n",
      "Mininum Efficiency Heat Pump with Electric Heat Backup              359.7\n",
      "Mininum Efficiency Heat Pump with Existing Heat Backup              354.0\n",
      "Enhanced Enclosure                                                  307.5\n",
      "Basic Enclosure                                                     244.9\n",
      "Heat Pump Water Heater                                              167.4\n",
      "Mininum Efficiency Whole Home Electrification                       116.8\n",
      "Heat Pump Clothes Dryer                                              42.8\n",
      "Induction Cooking                                                     2.3\n",
      "Electric Cooking                                                    -15.4\n",
      "Electric Clothes Dryer                                              -24.6\n",
      "Name: saving_cbill.total_usd, dtype: float64\n",
      "segment4\n",
      "upgrade_name\n",
      "Enhanced Enclosure + High Efficiency Whole Home Electrification    520.9\n",
      "Basic Enclosure + High Efficiency Whole Home Electrification       496.4\n",
      "Enhanced Enclosure + HPWH + High Efficiency HP/Electric Backup     494.2\n",
      "High Efficiency Whole Home Electrification                         474.4\n",
      "Basic Enclosure + HPWH + High Efficiency HP/Electric Backup        469.7\n",
      "High Efficiency Heat Pump with Electric Heat Backup                265.2\n",
      "Heat Pump Water Heater                                             154.7\n",
      "Enhanced Enclosure                                                 108.9\n",
      "Mininum Efficiency Heat Pump with Existing Heat Backup              91.8\n",
      "Mininum Efficiency Heat Pump with Electric Heat Backup              90.4\n",
      "Basic Enclosure                                                     66.9\n",
      "Mininum Efficiency Whole Home Electrification                       43.1\n",
      "Heat Pump Clothes Dryer                                             31.5\n",
      "Induction Cooking                                                    2.9\n",
      "Electric Cooking                                                    -5.3\n",
      "Electric Clothes Dryer                                             -61.0\n",
      "Name: saving_cbill.total_usd, dtype: float64\n"
     ]
    }
   ],
   "source": [
    "indicator ='saving_cbill.total_usd'\n",
    "figure_most_impact_package_mean_savings(indicator, community_results) "
   ]
  },
  {
   "cell_type": "markdown",
   "id": "e902c573",
   "metadata": {},
   "source": [
    "### Annual Energy Savings Per Dwelling Unit"
   ]
  },
  {
   "cell_type": "code",
   "execution_count": 62,
   "id": "5ad585ad",
   "metadata": {},
   "outputs": [
    {
     "name": "stdout",
     "output_type": "stream",
     "text": [
      "segment1\n",
      "upgrade_name\n",
      "Enhanced Enclosure + High Efficiency Whole Home Electrification    59.9\n",
      "Basic Enclosure + High Efficiency Whole Home Electrification       59.3\n",
      "Enhanced Enclosure + HPWH + High Efficiency HP/Electric Backup     58.3\n",
      "Basic Enclosure + HPWH + High Efficiency HP/Electric Backup        57.7\n",
      "High Efficiency Whole Home Electrification                         53.8\n",
      "High Efficiency Heat Pump with Electric Heat Backup                42.9\n",
      "Mininum Efficiency Whole Home Electrification                      39.0\n",
      "Mininum Efficiency Heat Pump with Electric Heat Backup             27.5\n",
      "Enhanced Enclosure                                                 26.5\n",
      "Basic Enclosure                                                    23.3\n",
      "Mininum Efficiency Heat Pump with Existing Heat Backup             20.3\n",
      "Heat Pump Water Heater                                              6.9\n",
      "Electric Cooking                                                    1.7\n",
      "Heat Pump Clothes Dryer                                             1.1\n",
      "Induction Cooking                                                   0.6\n",
      "Electric Clothes Dryer                                              0.4\n",
      "Name: saving_energy.total_mmbtu, dtype: float64\n",
      "segment2\n",
      "upgrade_name\n",
      "Enhanced Enclosure + High Efficiency Whole Home Electrification    16.1\n",
      "Basic Enclosure + High Efficiency Whole Home Electrification       15.8\n",
      "Enhanced Enclosure + HPWH + High Efficiency HP/Electric Backup     15.1\n",
      "Basic Enclosure + HPWH + High Efficiency HP/Electric Backup        14.8\n",
      "High Efficiency Whole Home Electrification                         14.7\n",
      "High Efficiency Heat Pump with Electric Heat Backup                 9.7\n",
      "Mininum Efficiency Heat Pump with Electric Heat Backup              4.1\n",
      "Enhanced Enclosure                                                  4.1\n",
      "Mininum Efficiency Whole Home Electrification                       3.9\n",
      "Mininum Efficiency Heat Pump with Existing Heat Backup              3.7\n",
      "Basic Enclosure                                                     3.2\n",
      "Heat Pump Water Heater                                              3.2\n",
      "Electric Cooking                                                    1.5\n",
      "Heat Pump Clothes Dryer                                             0.8\n",
      "Induction Cooking                                                   0.4\n",
      "Electric Clothes Dryer                                              0.3\n",
      "Name: saving_energy.total_mmbtu, dtype: float64\n",
      "segment3\n",
      "upgrade_name\n",
      "Enhanced Enclosure + High Efficiency Whole Home Electrification    34.6\n",
      "Basic Enclosure + High Efficiency Whole Home Electrification       34.2\n",
      "Enhanced Enclosure + HPWH + High Efficiency HP/Electric Backup     33.1\n",
      "Basic Enclosure + HPWH + High Efficiency HP/Electric Backup        32.6\n",
      "High Efficiency Whole Home Electrification                         32.1\n",
      "High Efficiency Heat Pump with Electric Heat Backup                22.4\n",
      "Mininum Efficiency Whole Home Electrification                      16.1\n",
      "Mininum Efficiency Heat Pump with Electric Heat Backup             11.5\n",
      "Mininum Efficiency Heat Pump with Existing Heat Backup             10.1\n",
      "Enhanced Enclosure                                                  8.7\n",
      "Basic Enclosure                                                     7.0\n",
      "Heat Pump Water Heater                                              6.5\n",
      "Electric Cooking                                                    1.9\n",
      "Heat Pump Clothes Dryer                                             1.2\n",
      "Induction Cooking                                                   0.5\n",
      "Electric Clothes Dryer                                              0.4\n",
      "Name: saving_energy.total_mmbtu, dtype: float64\n",
      "segment4\n",
      "upgrade_name\n",
      "Enhanced Enclosure + High Efficiency Whole Home Electrification    14.3\n",
      "Basic Enclosure + High Efficiency Whole Home Electrification       13.7\n",
      "Enhanced Enclosure + HPWH + High Efficiency HP/Electric Backup     13.3\n",
      "High Efficiency Whole Home Electrification                         13.1\n",
      "Basic Enclosure + HPWH + High Efficiency HP/Electric Backup        12.7\n",
      "High Efficiency Heat Pump with Electric Heat Backup                 7.0\n",
      "Mininum Efficiency Whole Home Electrification                       4.6\n",
      "Heat Pump Water Heater                                              4.4\n",
      "Enhanced Enclosure                                                  2.9\n",
      "Mininum Efficiency Heat Pump with Electric Heat Backup              2.5\n",
      "Mininum Efficiency Heat Pump with Existing Heat Backup              2.4\n",
      "Basic Enclosure                                                     1.8\n",
      "Electric Cooking                                                    1.5\n",
      "Heat Pump Clothes Dryer                                             0.9\n",
      "Electric Clothes Dryer                                              0.6\n",
      "Induction Cooking                                                   0.3\n",
      "Name: saving_energy.total_mmbtu, dtype: float64\n"
     ]
    }
   ],
   "source": [
    "indicator ='saving_energy.total_mmbtu'\n",
    "figure_most_impact_package_mean_savings(indicator, community_results) "
   ]
  },
  {
   "cell_type": "markdown",
   "id": "6d99e632",
   "metadata": {},
   "source": [
    "### Annual Percentage Energy Savings Per Dwelling Unit"
   ]
  },
  {
   "cell_type": "code",
   "execution_count": 63,
   "id": "ae160b7b",
   "metadata": {},
   "outputs": [
    {
     "name": "stdout",
     "output_type": "stream",
     "text": [
      "segment1\n",
      "upgrade_name\n",
      "Enhanced Enclosure + High Efficiency Whole Home Electrification    62.2\n",
      "Basic Enclosure + High Efficiency Whole Home Electrification       61.6\n",
      "Enhanced Enclosure + HPWH + High Efficiency HP/Electric Backup     60.4\n",
      "Basic Enclosure + HPWH + High Efficiency HP/Electric Backup        59.8\n",
      "High Efficiency Whole Home Electrification                         55.5\n",
      "High Efficiency Heat Pump with Electric Heat Backup                44.1\n",
      "Mininum Efficiency Whole Home Electrification                      35.0\n",
      "Enhanced Enclosure                                                 27.3\n",
      "Mininum Efficiency Heat Pump with Electric Heat Backup             27.0\n",
      "Basic Enclosure                                                    23.8\n",
      "Mininum Efficiency Heat Pump with Existing Heat Backup             20.8\n",
      "Heat Pump Water Heater                                              7.4\n",
      "Electric Cooking                                                    1.7\n",
      "Heat Pump Clothes Dryer                                             1.2\n",
      "Induction Cooking                                                   0.6\n",
      "Electric Clothes Dryer                                              0.4\n",
      "Name: pct_saving_energy.total_%, dtype: float64\n",
      "segment2\n",
      "upgrade_name\n",
      "Enhanced Enclosure + High Efficiency Whole Home Electrification    43.7\n",
      "Basic Enclosure + High Efficiency Whole Home Electrification       42.9\n",
      "Enhanced Enclosure + HPWH + High Efficiency HP/Electric Backup     40.9\n",
      "Basic Enclosure + HPWH + High Efficiency HP/Electric Backup        40.1\n",
      "High Efficiency Whole Home Electrification                         39.9\n",
      "High Efficiency Heat Pump with Electric Heat Backup                25.8\n",
      "Enhanced Enclosure                                                 10.7\n",
      "Mininum Efficiency Heat Pump with Electric Heat Backup             10.4\n",
      "Mininum Efficiency Heat Pump with Existing Heat Backup              9.6\n",
      "Mininum Efficiency Whole Home Electrification                       9.2\n",
      "Heat Pump Water Heater                                              8.9\n",
      "Basic Enclosure                                                     8.5\n",
      "Electric Cooking                                                    4.5\n",
      "Heat Pump Clothes Dryer                                             2.2\n",
      "Induction Cooking                                                   1.1\n",
      "Electric Clothes Dryer                                              1.1\n",
      "Name: pct_saving_energy.total_%, dtype: float64\n",
      "segment3\n",
      "upgrade_name\n",
      "Enhanced Enclosure + High Efficiency Whole Home Electrification    47.0\n",
      "Basic Enclosure + High Efficiency Whole Home Electrification       46.6\n",
      "Enhanced Enclosure + HPWH + High Efficiency HP/Electric Backup     44.9\n",
      "Basic Enclosure + HPWH + High Efficiency HP/Electric Backup        44.4\n",
      "High Efficiency Whole Home Electrification                         43.6\n",
      "High Efficiency Heat Pump with Electric Heat Backup                30.5\n",
      "Mininum Efficiency Whole Home Electrification                      20.5\n",
      "Mininum Efficiency Heat Pump with Electric Heat Backup             15.3\n",
      "Mininum Efficiency Heat Pump with Existing Heat Backup             13.4\n",
      "Enhanced Enclosure                                                 11.6\n",
      "Basic Enclosure                                                     9.6\n",
      "Heat Pump Water Heater                                              8.8\n",
      "Electric Cooking                                                    2.6\n",
      "Heat Pump Clothes Dryer                                             1.6\n",
      "Induction Cooking                                                   0.6\n",
      "Electric Clothes Dryer                                              0.5\n",
      "Name: pct_saving_energy.total_%, dtype: float64\n",
      "segment4\n",
      "upgrade_name\n",
      "Enhanced Enclosure + High Efficiency Whole Home Electrification    39.2\n",
      "Basic Enclosure + High Efficiency Whole Home Electrification       38.1\n",
      "High Efficiency Whole Home Electrification                         36.4\n",
      "Enhanced Enclosure + HPWH + High Efficiency HP/Electric Backup     36.3\n",
      "Basic Enclosure + HPWH + High Efficiency HP/Electric Backup        35.2\n",
      "High Efficiency Heat Pump with Electric Heat Backup                19.3\n",
      "Mininum Efficiency Whole Home Electrification                      12.9\n",
      "Heat Pump Water Heater                                             12.2\n",
      "Enhanced Enclosure                                                  6.9\n",
      "Mininum Efficiency Heat Pump with Electric Heat Backup              6.3\n",
      "Mininum Efficiency Heat Pump with Existing Heat Backup              6.1\n",
      "Basic Enclosure                                                     5.0\n",
      "Electric Cooking                                                    4.7\n",
      "Heat Pump Clothes Dryer                                             2.4\n",
      "Electric Clothes Dryer                                              1.7\n",
      "Induction Cooking                                                   1.1\n",
      "Name: pct_saving_energy.total_%, dtype: float64\n"
     ]
    }
   ],
   "source": [
    "indicator ='pct_saving_energy.total_%'\n",
    "figure_most_impact_package_mean_savings(indicator, community_results) "
   ]
  },
  {
   "cell_type": "markdown",
   "id": "4c18ce08",
   "metadata": {},
   "source": [
    "### Annual Emission Savings Per Dwelling Unit"
   ]
  },
  {
   "cell_type": "code",
   "execution_count": 64,
   "id": "a310fa8d",
   "metadata": {},
   "outputs": [
    {
     "name": "stdout",
     "output_type": "stream",
     "text": [
      "segment1\n",
      "upgrade_name\n",
      "Enhanced Enclosure + High Efficiency Whole Home Electrification    4339.1\n",
      "Basic Enclosure + High Efficiency Whole Home Electrification       4283.9\n",
      "Enhanced Enclosure + HPWH + High Efficiency HP/Electric Backup     4228.2\n",
      "Basic Enclosure + HPWH + High Efficiency HP/Electric Backup        4173.0\n",
      "High Efficiency Whole Home Electrification                         3840.1\n",
      "High Efficiency Heat Pump with Electric Heat Backup                3092.6\n",
      "Mininum Efficiency Whole Home Electrification                      2337.8\n",
      "Enhanced Enclosure                                                 1941.9\n",
      "Mininum Efficiency Heat Pump with Electric Heat Backup             1850.4\n",
      "Basic Enclosure                                                    1688.9\n",
      "Mininum Efficiency Heat Pump with Existing Heat Backup             1487.5\n",
      "Heat Pump Water Heater                                              471.0\n",
      "Electric Cooking                                                    110.4\n",
      "Heat Pump Clothes Dryer                                              72.2\n",
      "Induction Cooking                                                    40.8\n",
      "Electric Clothes Dryer                                               25.1\n",
      "Name: saving_emission.total_kgCO2e, dtype: float64\n",
      "segment2\n",
      "upgrade_name\n",
      "Enhanced Enclosure + High Efficiency Whole Home Electrification    1284.0\n",
      "Basic Enclosure + High Efficiency Whole Home Electrification       1256.2\n",
      "Enhanced Enclosure + HPWH + High Efficiency HP/Electric Backup     1216.3\n",
      "Basic Enclosure + HPWH + High Efficiency HP/Electric Backup        1188.5\n",
      "High Efficiency Whole Home Electrification                         1162.7\n",
      "High Efficiency Heat Pump with Electric Heat Backup                 798.3\n",
      "Mininum Efficiency Heat Pump with Electric Heat Backup              349.5\n",
      "Enhanced Enclosure                                                  340.2\n",
      "Mininum Efficiency Heat Pump with Existing Heat Backup              330.2\n",
      "Basic Enclosure                                                     267.8\n",
      "Mininum Efficiency Whole Home Electrification                       245.9\n",
      "Heat Pump Water Heater                                              224.9\n",
      "Electric Cooking                                                    104.7\n",
      "Heat Pump Clothes Dryer                                              54.8\n",
      "Induction Cooking                                                    26.9\n",
      "Electric Clothes Dryer                                               16.2\n",
      "Name: saving_emission.total_kgCO2e, dtype: float64\n",
      "segment3\n",
      "upgrade_name\n",
      "Enhanced Enclosure + High Efficiency Whole Home Electrification    2687.3\n",
      "Basic Enclosure + High Efficiency Whole Home Electrification       2648.8\n",
      "Enhanced Enclosure + HPWH + High Efficiency HP/Electric Backup     2580.3\n",
      "Basic Enclosure + HPWH + High Efficiency HP/Electric Backup        2541.8\n",
      "High Efficiency Whole Home Electrification                         2480.3\n",
      "High Efficiency Heat Pump with Electric Heat Backup                1800.9\n",
      "Mininum Efficiency Whole Home Electrification                      1002.3\n",
      "Mininum Efficiency Heat Pump with Electric Heat Backup              920.8\n",
      "Mininum Efficiency Heat Pump with Existing Heat Backup              845.1\n",
      "Enhanced Enclosure                                                  700.6\n",
      "Basic Enclosure                                                     552.4\n",
      "Heat Pump Water Heater                                              444.1\n",
      "Electric Cooking                                                    125.2\n",
      "Heat Pump Clothes Dryer                                              79.9\n",
      "Induction Cooking                                                    31.9\n",
      "Electric Clothes Dryer                                               23.5\n",
      "Name: saving_emission.total_kgCO2e, dtype: float64\n",
      "segment4\n",
      "upgrade_name\n",
      "Enhanced Enclosure + High Efficiency Whole Home Electrification    1101.6\n",
      "Basic Enclosure + High Efficiency Whole Home Electrification       1060.0\n",
      "Enhanced Enclosure + HPWH + High Efficiency HP/Electric Backup     1033.5\n",
      "High Efficiency Whole Home Electrification                         1010.7\n",
      "Basic Enclosure + HPWH + High Efficiency HP/Electric Backup         991.9\n",
      "High Efficiency Heat Pump with Electric Heat Backup                 568.9\n",
      "Heat Pump Water Heater                                              311.3\n",
      "Mininum Efficiency Whole Home Electrification                       295.6\n",
      "Enhanced Enclosure                                                  225.5\n",
      "Mininum Efficiency Heat Pump with Electric Heat Backup              208.5\n",
      "Mininum Efficiency Heat Pump with Existing Heat Backup              207.3\n",
      "Basic Enclosure                                                     149.6\n",
      "Electric Cooking                                                    104.7\n",
      "Electric Clothes Dryer                                               59.0\n",
      "Heat Pump Clothes Dryer                                              59.0\n",
      "Induction Cooking                                                    23.9\n",
      "Name: saving_emission.total_kgCO2e, dtype: float64\n"
     ]
    }
   ],
   "source": [
    "indicator ='saving_emission.total_kgCO2e'\n",
    "figure_most_impact_package_mean_savings(indicator, community_results) "
   ]
  },
  {
   "cell_type": "markdown",
   "id": "ebaaed40",
   "metadata": {},
   "source": [
    "## 2.5. Pecent Stock with Net Positive Bill Savings"
   ]
  },
  {
   "cell_type": "code",
   "execution_count": 65,
   "id": "828e542c",
   "metadata": {},
   "outputs": [],
   "source": [
    "def figure_positive_negative_savings(segment, commnity_results):\n",
    "    results = commnity_results[['upgrade_name',\n",
    "                                  'saving_energy.total_mmbtu',\n",
    "                                  'saving_cbill.total_usd',\n",
    "                                  'saving_emission.total_kgCO2e',\n",
    "                                'sample_weight',\n",
    "                               'segment']]\n",
    "    results = results.loc[results['upgrade_name'] != 'baseline']\n",
    "    results = results.loc[results['segment'] == segment]\n",
    "    results = results.groupby(results['upgrade_name'])\n",
    "  \n",
    "    def pos(col): \n",
    "      return col[col > 0].count()\n",
    "  \n",
    "    def neg(col): \n",
    "      return col[col < 0].count() \n",
    "\n",
    "    percentage = pd.DataFrame()\n",
    "\n",
    "    bill = results['saving_cbill.total_usd'].agg([('negative_values', neg),('positive_values', pos)])\n",
    "    emission = results['saving_emission.total_kgCO2e'].agg([('negative_values', neg),('positive_values', pos)])\n",
    "    energy = results['saving_energy.total_mmbtu'].agg([('negative_values', neg),('positive_values', pos)])\n",
    "    \n",
    "    percentage ['cbill_n'] = bill['negative_values']/(bill['negative_values']+bill['positive_values'])\n",
    "    percentage ['cbill_p'] = bill['positive_values']/(bill['negative_values']+bill['positive_values'])\n",
    "    percentage ['emission_n'] = emission['negative_values']/(emission['negative_values']+emission['positive_values'])\n",
    "    percentage ['emission_p'] = emission['positive_values']/(emission['negative_values']+emission['positive_values'])\n",
    "    percentage ['energy_n'] = energy['negative_values']/(energy['negative_values']+energy['positive_values'])\n",
    "    percentage ['energy_p'] = energy['positive_values']/(energy['negative_values']+energy['positive_values'])\n",
    "    \n",
    "    \n",
    "    percentage = percentage.sort_values(('cbill_p'))\n",
    "    upgrade_name = percentage.index\n",
    "    \n",
    "    fig = make_subplots(rows=1, cols=3)\n",
    "    marker1= dict(color='red')\n",
    "    marker2= dict(color='green')\n",
    "    \n",
    "    fig.add_bar(y=upgrade_name, x=percentage ['cbill_n'], text=percentage ['cbill_n'],\n",
    "                orientation='h',name = \"Negative\",row=1, col=1, marker=marker1)\n",
    "    fig.add_bar(y=upgrade_name, x=percentage ['cbill_p'],text=percentage ['cbill_p'],\n",
    "                orientation='h', name = \"Positive\", row=1, col=1, marker=marker2)\n",
    "    \n",
    "    fig.add_bar(y=upgrade_name, x=percentage ['emission_n'], text=percentage ['emission_n'],\n",
    "                orientation='h',showlegend=False, row=1, col=2, marker=marker1)\n",
    "    fig.add_bar(y=upgrade_name, x=percentage ['emission_p'],text=percentage ['emission_p'],\n",
    "                orientation='h', showlegend=False, row=1, col=2, marker=marker2)\n",
    "    \n",
    "    fig.add_bar(y=upgrade_name, x=percentage ['energy_n'],text=percentage ['energy_n'],\n",
    "                orientation='h',showlegend=False, row=1, col=3, marker=marker1)\n",
    "    fig.add_bar(y=upgrade_name, x=percentage ['energy_p'],text=percentage ['energy_p'],\n",
    "                orientation='h', showlegend=False, row=1, col=3, marker=marker2)\n",
    "   \n",
    "  \n",
    "    fig.update_layout(barmode=\"relative\")\n",
    "    fig.update_traces(texttemplate='%{text:.0%}', textposition='inside')\n",
    "    \n",
    "    fig.update_layout(xaxis_title=\"Bill\", xaxis_visible=True, yaxis_visible=True,\n",
    "                      xaxis2_title=\"Emission\", xaxis2_visible=True, yaxis2_visible=False,\n",
    "                      xaxis3_title=\"Total Energy\", xaxis3_visible=True, yaxis3_visible=False,\n",
    "                      font=dict(size=10))\n",
    "    \n",
    "    fig.update_layout(\n",
    "        title='Percentage of Household in Positive and Negative Savings')\n",
    "    \n",
    "    fig.update_layout(\n",
    "    autosize=False,\n",
    "    width=1000,\n",
    "    height=500,\n",
    "    font=dict(size=10))\n",
    "    fig.layout.xaxis1.tickformat = ',.0%'\n",
    "    fig.layout.xaxis2.tickformat = ',.0%'\n",
    "    fig.layout.xaxis3.tickformat = ',.0%'\n",
    "    \n",
    "    fig.show()\n",
    "    fig.write_image(fig_dir / f'percentage_positive_saving_{segment}.svg')   "
   ]
  },
  {
   "cell_type": "markdown",
   "id": "2660dc7b",
   "metadata": {},
   "source": [
    "### Segment 1"
   ]
  },
  {
   "cell_type": "code",
   "execution_count": 66,
   "id": "361be888",
   "metadata": {},
   "outputs": [
    {
     "data": {
      "application/vnd.plotly.v1+json": {
       "config": {
        "plotlyServerURL": "https://plot.ly"
       },
       "data": [
        {
         "marker": {
          "color": "red"
         },
         "name": "Negative",
         "orientation": "h",
         "text": [
          1,
          0.8918918918918919,
          0.24615384615384617,
          0.189873417721519,
          0.05263157894736842,
          0.045112781954887216,
          0.022727272727272728,
          0,
          0,
          0,
          0,
          0,
          0,
          0,
          0,
          0
         ],
         "textposition": "inside",
         "texttemplate": "%{text:.0%}",
         "type": "bar",
         "x": [
          1,
          0.8918918918918919,
          0.24615384615384617,
          0.189873417721519,
          0.05263157894736842,
          0.045112781954887216,
          0.022727272727272728,
          0,
          0,
          0,
          0,
          0,
          0,
          0,
          0,
          0
         ],
         "xaxis": "x",
         "y": [
          "Electric Clothes Dryer",
          "Electric Cooking",
          "Induction Cooking",
          "Mininum Efficiency Whole Home Electrification",
          "Mininum Efficiency Heat Pump with Existing Heat Backup",
          "Mininum Efficiency Heat Pump with Electric Heat Backup",
          "Heat Pump Water Heater",
          "Basic Enclosure",
          "Basic Enclosure + HPWH + High Efficiency HP/Electric Backup",
          "Basic Enclosure + High Efficiency Whole Home Electrification",
          "Enhanced Enclosure",
          "Enhanced Enclosure + HPWH + High Efficiency HP/Electric Backup",
          "Enhanced Enclosure + High Efficiency Whole Home Electrification",
          "Heat Pump Clothes Dryer",
          "High Efficiency Heat Pump with Electric Heat Backup",
          "High Efficiency Whole Home Electrification"
         ],
         "yaxis": "y"
        },
        {
         "marker": {
          "color": "green"
         },
         "name": "Positive",
         "orientation": "h",
         "text": [
          0,
          0.10810810810810811,
          0.7538461538461538,
          0.810126582278481,
          0.9473684210526315,
          0.9548872180451128,
          0.9772727272727273,
          1,
          1,
          1,
          1,
          1,
          1,
          1,
          1,
          1
         ],
         "textposition": "inside",
         "texttemplate": "%{text:.0%}",
         "type": "bar",
         "x": [
          0,
          0.10810810810810811,
          0.7538461538461538,
          0.810126582278481,
          0.9473684210526315,
          0.9548872180451128,
          0.9772727272727273,
          1,
          1,
          1,
          1,
          1,
          1,
          1,
          1,
          1
         ],
         "xaxis": "x",
         "y": [
          "Electric Clothes Dryer",
          "Electric Cooking",
          "Induction Cooking",
          "Mininum Efficiency Whole Home Electrification",
          "Mininum Efficiency Heat Pump with Existing Heat Backup",
          "Mininum Efficiency Heat Pump with Electric Heat Backup",
          "Heat Pump Water Heater",
          "Basic Enclosure",
          "Basic Enclosure + HPWH + High Efficiency HP/Electric Backup",
          "Basic Enclosure + High Efficiency Whole Home Electrification",
          "Enhanced Enclosure",
          "Enhanced Enclosure + HPWH + High Efficiency HP/Electric Backup",
          "Enhanced Enclosure + High Efficiency Whole Home Electrification",
          "Heat Pump Clothes Dryer",
          "High Efficiency Heat Pump with Electric Heat Backup",
          "High Efficiency Whole Home Electrification"
         ],
         "yaxis": "y"
        },
        {
         "marker": {
          "color": "red"
         },
         "orientation": "h",
         "showlegend": false,
         "text": [
          0,
          0,
          0,
          0,
          0.015037593984962405,
          0,
          0,
          0,
          0,
          0,
          0,
          0,
          0,
          0,
          0,
          0
         ],
         "textposition": "inside",
         "texttemplate": "%{text:.0%}",
         "type": "bar",
         "x": [
          0,
          0,
          0,
          0,
          0.015037593984962405,
          0,
          0,
          0,
          0,
          0,
          0,
          0,
          0,
          0,
          0,
          0
         ],
         "xaxis": "x2",
         "y": [
          "Electric Clothes Dryer",
          "Electric Cooking",
          "Induction Cooking",
          "Mininum Efficiency Whole Home Electrification",
          "Mininum Efficiency Heat Pump with Existing Heat Backup",
          "Mininum Efficiency Heat Pump with Electric Heat Backup",
          "Heat Pump Water Heater",
          "Basic Enclosure",
          "Basic Enclosure + HPWH + High Efficiency HP/Electric Backup",
          "Basic Enclosure + High Efficiency Whole Home Electrification",
          "Enhanced Enclosure",
          "Enhanced Enclosure + HPWH + High Efficiency HP/Electric Backup",
          "Enhanced Enclosure + High Efficiency Whole Home Electrification",
          "Heat Pump Clothes Dryer",
          "High Efficiency Heat Pump with Electric Heat Backup",
          "High Efficiency Whole Home Electrification"
         ],
         "yaxis": "y2"
        },
        {
         "marker": {
          "color": "green"
         },
         "orientation": "h",
         "showlegend": false,
         "text": [
          1,
          1,
          1,
          1,
          0.9849624060150376,
          1,
          1,
          1,
          1,
          1,
          1,
          1,
          1,
          1,
          1,
          1
         ],
         "textposition": "inside",
         "texttemplate": "%{text:.0%}",
         "type": "bar",
         "x": [
          1,
          1,
          1,
          1,
          0.9849624060150376,
          1,
          1,
          1,
          1,
          1,
          1,
          1,
          1,
          1,
          1,
          1
         ],
         "xaxis": "x2",
         "y": [
          "Electric Clothes Dryer",
          "Electric Cooking",
          "Induction Cooking",
          "Mininum Efficiency Whole Home Electrification",
          "Mininum Efficiency Heat Pump with Existing Heat Backup",
          "Mininum Efficiency Heat Pump with Electric Heat Backup",
          "Heat Pump Water Heater",
          "Basic Enclosure",
          "Basic Enclosure + HPWH + High Efficiency HP/Electric Backup",
          "Basic Enclosure + High Efficiency Whole Home Electrification",
          "Enhanced Enclosure",
          "Enhanced Enclosure + HPWH + High Efficiency HP/Electric Backup",
          "Enhanced Enclosure + High Efficiency Whole Home Electrification",
          "Heat Pump Clothes Dryer",
          "High Efficiency Heat Pump with Electric Heat Backup",
          "High Efficiency Whole Home Electrification"
         ],
         "yaxis": "y2"
        },
        {
         "marker": {
          "color": "red"
         },
         "orientation": "h",
         "showlegend": false,
         "text": [
          0,
          0,
          0,
          0,
          0.015037593984962405,
          0,
          0,
          0,
          0,
          0,
          0,
          0,
          0,
          0,
          0,
          0
         ],
         "textposition": "inside",
         "texttemplate": "%{text:.0%}",
         "type": "bar",
         "x": [
          0,
          0,
          0,
          0,
          0.015037593984962405,
          0,
          0,
          0,
          0,
          0,
          0,
          0,
          0,
          0,
          0,
          0
         ],
         "xaxis": "x3",
         "y": [
          "Electric Clothes Dryer",
          "Electric Cooking",
          "Induction Cooking",
          "Mininum Efficiency Whole Home Electrification",
          "Mininum Efficiency Heat Pump with Existing Heat Backup",
          "Mininum Efficiency Heat Pump with Electric Heat Backup",
          "Heat Pump Water Heater",
          "Basic Enclosure",
          "Basic Enclosure + HPWH + High Efficiency HP/Electric Backup",
          "Basic Enclosure + High Efficiency Whole Home Electrification",
          "Enhanced Enclosure",
          "Enhanced Enclosure + HPWH + High Efficiency HP/Electric Backup",
          "Enhanced Enclosure + High Efficiency Whole Home Electrification",
          "Heat Pump Clothes Dryer",
          "High Efficiency Heat Pump with Electric Heat Backup",
          "High Efficiency Whole Home Electrification"
         ],
         "yaxis": "y3"
        },
        {
         "marker": {
          "color": "green"
         },
         "orientation": "h",
         "showlegend": false,
         "text": [
          1,
          1,
          1,
          1,
          0.9849624060150376,
          1,
          1,
          1,
          1,
          1,
          1,
          1,
          1,
          1,
          1,
          1
         ],
         "textposition": "inside",
         "texttemplate": "%{text:.0%}",
         "type": "bar",
         "x": [
          1,
          1,
          1,
          1,
          0.9849624060150376,
          1,
          1,
          1,
          1,
          1,
          1,
          1,
          1,
          1,
          1,
          1
         ],
         "xaxis": "x3",
         "y": [
          "Electric Clothes Dryer",
          "Electric Cooking",
          "Induction Cooking",
          "Mininum Efficiency Whole Home Electrification",
          "Mininum Efficiency Heat Pump with Existing Heat Backup",
          "Mininum Efficiency Heat Pump with Electric Heat Backup",
          "Heat Pump Water Heater",
          "Basic Enclosure",
          "Basic Enclosure + HPWH + High Efficiency HP/Electric Backup",
          "Basic Enclosure + High Efficiency Whole Home Electrification",
          "Enhanced Enclosure",
          "Enhanced Enclosure + HPWH + High Efficiency HP/Electric Backup",
          "Enhanced Enclosure + High Efficiency Whole Home Electrification",
          "Heat Pump Clothes Dryer",
          "High Efficiency Heat Pump with Electric Heat Backup",
          "High Efficiency Whole Home Electrification"
         ],
         "yaxis": "y3"
        }
       ],
       "layout": {
        "autosize": false,
        "barmode": "relative",
        "font": {
         "size": 10
        },
        "height": 500,
        "template": {
         "data": {
          "bar": [
           {
            "error_x": {
             "color": "#2a3f5f"
            },
            "error_y": {
             "color": "#2a3f5f"
            },
            "marker": {
             "line": {
              "color": "#E5ECF6",
              "width": 0.5
             },
             "pattern": {
              "fillmode": "overlay",
              "size": 10,
              "solidity": 0.2
             }
            },
            "type": "bar"
           }
          ],
          "barpolar": [
           {
            "marker": {
             "line": {
              "color": "#E5ECF6",
              "width": 0.5
             },
             "pattern": {
              "fillmode": "overlay",
              "size": 10,
              "solidity": 0.2
             }
            },
            "type": "barpolar"
           }
          ],
          "carpet": [
           {
            "aaxis": {
             "endlinecolor": "#2a3f5f",
             "gridcolor": "white",
             "linecolor": "white",
             "minorgridcolor": "white",
             "startlinecolor": "#2a3f5f"
            },
            "baxis": {
             "endlinecolor": "#2a3f5f",
             "gridcolor": "white",
             "linecolor": "white",
             "minorgridcolor": "white",
             "startlinecolor": "#2a3f5f"
            },
            "type": "carpet"
           }
          ],
          "choropleth": [
           {
            "colorbar": {
             "outlinewidth": 0,
             "ticks": ""
            },
            "type": "choropleth"
           }
          ],
          "contour": [
           {
            "colorbar": {
             "outlinewidth": 0,
             "ticks": ""
            },
            "colorscale": [
             [
              0,
              "#0d0887"
             ],
             [
              0.1111111111111111,
              "#46039f"
             ],
             [
              0.2222222222222222,
              "#7201a8"
             ],
             [
              0.3333333333333333,
              "#9c179e"
             ],
             [
              0.4444444444444444,
              "#bd3786"
             ],
             [
              0.5555555555555556,
              "#d8576b"
             ],
             [
              0.6666666666666666,
              "#ed7953"
             ],
             [
              0.7777777777777778,
              "#fb9f3a"
             ],
             [
              0.8888888888888888,
              "#fdca26"
             ],
             [
              1,
              "#f0f921"
             ]
            ],
            "type": "contour"
           }
          ],
          "contourcarpet": [
           {
            "colorbar": {
             "outlinewidth": 0,
             "ticks": ""
            },
            "type": "contourcarpet"
           }
          ],
          "heatmap": [
           {
            "colorbar": {
             "outlinewidth": 0,
             "ticks": ""
            },
            "colorscale": [
             [
              0,
              "#0d0887"
             ],
             [
              0.1111111111111111,
              "#46039f"
             ],
             [
              0.2222222222222222,
              "#7201a8"
             ],
             [
              0.3333333333333333,
              "#9c179e"
             ],
             [
              0.4444444444444444,
              "#bd3786"
             ],
             [
              0.5555555555555556,
              "#d8576b"
             ],
             [
              0.6666666666666666,
              "#ed7953"
             ],
             [
              0.7777777777777778,
              "#fb9f3a"
             ],
             [
              0.8888888888888888,
              "#fdca26"
             ],
             [
              1,
              "#f0f921"
             ]
            ],
            "type": "heatmap"
           }
          ],
          "heatmapgl": [
           {
            "colorbar": {
             "outlinewidth": 0,
             "ticks": ""
            },
            "colorscale": [
             [
              0,
              "#0d0887"
             ],
             [
              0.1111111111111111,
              "#46039f"
             ],
             [
              0.2222222222222222,
              "#7201a8"
             ],
             [
              0.3333333333333333,
              "#9c179e"
             ],
             [
              0.4444444444444444,
              "#bd3786"
             ],
             [
              0.5555555555555556,
              "#d8576b"
             ],
             [
              0.6666666666666666,
              "#ed7953"
             ],
             [
              0.7777777777777778,
              "#fb9f3a"
             ],
             [
              0.8888888888888888,
              "#fdca26"
             ],
             [
              1,
              "#f0f921"
             ]
            ],
            "type": "heatmapgl"
           }
          ],
          "histogram": [
           {
            "marker": {
             "pattern": {
              "fillmode": "overlay",
              "size": 10,
              "solidity": 0.2
             }
            },
            "type": "histogram"
           }
          ],
          "histogram2d": [
           {
            "colorbar": {
             "outlinewidth": 0,
             "ticks": ""
            },
            "colorscale": [
             [
              0,
              "#0d0887"
             ],
             [
              0.1111111111111111,
              "#46039f"
             ],
             [
              0.2222222222222222,
              "#7201a8"
             ],
             [
              0.3333333333333333,
              "#9c179e"
             ],
             [
              0.4444444444444444,
              "#bd3786"
             ],
             [
              0.5555555555555556,
              "#d8576b"
             ],
             [
              0.6666666666666666,
              "#ed7953"
             ],
             [
              0.7777777777777778,
              "#fb9f3a"
             ],
             [
              0.8888888888888888,
              "#fdca26"
             ],
             [
              1,
              "#f0f921"
             ]
            ],
            "type": "histogram2d"
           }
          ],
          "histogram2dcontour": [
           {
            "colorbar": {
             "outlinewidth": 0,
             "ticks": ""
            },
            "colorscale": [
             [
              0,
              "#0d0887"
             ],
             [
              0.1111111111111111,
              "#46039f"
             ],
             [
              0.2222222222222222,
              "#7201a8"
             ],
             [
              0.3333333333333333,
              "#9c179e"
             ],
             [
              0.4444444444444444,
              "#bd3786"
             ],
             [
              0.5555555555555556,
              "#d8576b"
             ],
             [
              0.6666666666666666,
              "#ed7953"
             ],
             [
              0.7777777777777778,
              "#fb9f3a"
             ],
             [
              0.8888888888888888,
              "#fdca26"
             ],
             [
              1,
              "#f0f921"
             ]
            ],
            "type": "histogram2dcontour"
           }
          ],
          "mesh3d": [
           {
            "colorbar": {
             "outlinewidth": 0,
             "ticks": ""
            },
            "type": "mesh3d"
           }
          ],
          "parcoords": [
           {
            "line": {
             "colorbar": {
              "outlinewidth": 0,
              "ticks": ""
             }
            },
            "type": "parcoords"
           }
          ],
          "pie": [
           {
            "automargin": true,
            "type": "pie"
           }
          ],
          "scatter": [
           {
            "fillpattern": {
             "fillmode": "overlay",
             "size": 10,
             "solidity": 0.2
            },
            "type": "scatter"
           }
          ],
          "scatter3d": [
           {
            "line": {
             "colorbar": {
              "outlinewidth": 0,
              "ticks": ""
             }
            },
            "marker": {
             "colorbar": {
              "outlinewidth": 0,
              "ticks": ""
             }
            },
            "type": "scatter3d"
           }
          ],
          "scattercarpet": [
           {
            "marker": {
             "colorbar": {
              "outlinewidth": 0,
              "ticks": ""
             }
            },
            "type": "scattercarpet"
           }
          ],
          "scattergeo": [
           {
            "marker": {
             "colorbar": {
              "outlinewidth": 0,
              "ticks": ""
             }
            },
            "type": "scattergeo"
           }
          ],
          "scattergl": [
           {
            "marker": {
             "colorbar": {
              "outlinewidth": 0,
              "ticks": ""
             }
            },
            "type": "scattergl"
           }
          ],
          "scattermapbox": [
           {
            "marker": {
             "colorbar": {
              "outlinewidth": 0,
              "ticks": ""
             }
            },
            "type": "scattermapbox"
           }
          ],
          "scatterpolar": [
           {
            "marker": {
             "colorbar": {
              "outlinewidth": 0,
              "ticks": ""
             }
            },
            "type": "scatterpolar"
           }
          ],
          "scatterpolargl": [
           {
            "marker": {
             "colorbar": {
              "outlinewidth": 0,
              "ticks": ""
             }
            },
            "type": "scatterpolargl"
           }
          ],
          "scatterternary": [
           {
            "marker": {
             "colorbar": {
              "outlinewidth": 0,
              "ticks": ""
             }
            },
            "type": "scatterternary"
           }
          ],
          "surface": [
           {
            "colorbar": {
             "outlinewidth": 0,
             "ticks": ""
            },
            "colorscale": [
             [
              0,
              "#0d0887"
             ],
             [
              0.1111111111111111,
              "#46039f"
             ],
             [
              0.2222222222222222,
              "#7201a8"
             ],
             [
              0.3333333333333333,
              "#9c179e"
             ],
             [
              0.4444444444444444,
              "#bd3786"
             ],
             [
              0.5555555555555556,
              "#d8576b"
             ],
             [
              0.6666666666666666,
              "#ed7953"
             ],
             [
              0.7777777777777778,
              "#fb9f3a"
             ],
             [
              0.8888888888888888,
              "#fdca26"
             ],
             [
              1,
              "#f0f921"
             ]
            ],
            "type": "surface"
           }
          ],
          "table": [
           {
            "cells": {
             "fill": {
              "color": "#EBF0F8"
             },
             "line": {
              "color": "white"
             }
            },
            "header": {
             "fill": {
              "color": "#C8D4E3"
             },
             "line": {
              "color": "white"
             }
            },
            "type": "table"
           }
          ]
         },
         "layout": {
          "annotationdefaults": {
           "arrowcolor": "#2a3f5f",
           "arrowhead": 0,
           "arrowwidth": 1
          },
          "autotypenumbers": "strict",
          "coloraxis": {
           "colorbar": {
            "outlinewidth": 0,
            "ticks": ""
           }
          },
          "colorscale": {
           "diverging": [
            [
             0,
             "#8e0152"
            ],
            [
             0.1,
             "#c51b7d"
            ],
            [
             0.2,
             "#de77ae"
            ],
            [
             0.3,
             "#f1b6da"
            ],
            [
             0.4,
             "#fde0ef"
            ],
            [
             0.5,
             "#f7f7f7"
            ],
            [
             0.6,
             "#e6f5d0"
            ],
            [
             0.7,
             "#b8e186"
            ],
            [
             0.8,
             "#7fbc41"
            ],
            [
             0.9,
             "#4d9221"
            ],
            [
             1,
             "#276419"
            ]
           ],
           "sequential": [
            [
             0,
             "#0d0887"
            ],
            [
             0.1111111111111111,
             "#46039f"
            ],
            [
             0.2222222222222222,
             "#7201a8"
            ],
            [
             0.3333333333333333,
             "#9c179e"
            ],
            [
             0.4444444444444444,
             "#bd3786"
            ],
            [
             0.5555555555555556,
             "#d8576b"
            ],
            [
             0.6666666666666666,
             "#ed7953"
            ],
            [
             0.7777777777777778,
             "#fb9f3a"
            ],
            [
             0.8888888888888888,
             "#fdca26"
            ],
            [
             1,
             "#f0f921"
            ]
           ],
           "sequentialminus": [
            [
             0,
             "#0d0887"
            ],
            [
             0.1111111111111111,
             "#46039f"
            ],
            [
             0.2222222222222222,
             "#7201a8"
            ],
            [
             0.3333333333333333,
             "#9c179e"
            ],
            [
             0.4444444444444444,
             "#bd3786"
            ],
            [
             0.5555555555555556,
             "#d8576b"
            ],
            [
             0.6666666666666666,
             "#ed7953"
            ],
            [
             0.7777777777777778,
             "#fb9f3a"
            ],
            [
             0.8888888888888888,
             "#fdca26"
            ],
            [
             1,
             "#f0f921"
            ]
           ]
          },
          "colorway": [
           "#636efa",
           "#EF553B",
           "#00cc96",
           "#ab63fa",
           "#FFA15A",
           "#19d3f3",
           "#FF6692",
           "#B6E880",
           "#FF97FF",
           "#FECB52"
          ],
          "font": {
           "color": "#2a3f5f"
          },
          "geo": {
           "bgcolor": "white",
           "lakecolor": "white",
           "landcolor": "#E5ECF6",
           "showlakes": true,
           "showland": true,
           "subunitcolor": "white"
          },
          "hoverlabel": {
           "align": "left"
          },
          "hovermode": "closest",
          "mapbox": {
           "style": "light"
          },
          "paper_bgcolor": "white",
          "plot_bgcolor": "#E5ECF6",
          "polar": {
           "angularaxis": {
            "gridcolor": "white",
            "linecolor": "white",
            "ticks": ""
           },
           "bgcolor": "#E5ECF6",
           "radialaxis": {
            "gridcolor": "white",
            "linecolor": "white",
            "ticks": ""
           }
          },
          "scene": {
           "xaxis": {
            "backgroundcolor": "#E5ECF6",
            "gridcolor": "white",
            "gridwidth": 2,
            "linecolor": "white",
            "showbackground": true,
            "ticks": "",
            "zerolinecolor": "white"
           },
           "yaxis": {
            "backgroundcolor": "#E5ECF6",
            "gridcolor": "white",
            "gridwidth": 2,
            "linecolor": "white",
            "showbackground": true,
            "ticks": "",
            "zerolinecolor": "white"
           },
           "zaxis": {
            "backgroundcolor": "#E5ECF6",
            "gridcolor": "white",
            "gridwidth": 2,
            "linecolor": "white",
            "showbackground": true,
            "ticks": "",
            "zerolinecolor": "white"
           }
          },
          "shapedefaults": {
           "line": {
            "color": "#2a3f5f"
           }
          },
          "ternary": {
           "aaxis": {
            "gridcolor": "white",
            "linecolor": "white",
            "ticks": ""
           },
           "baxis": {
            "gridcolor": "white",
            "linecolor": "white",
            "ticks": ""
           },
           "bgcolor": "#E5ECF6",
           "caxis": {
            "gridcolor": "white",
            "linecolor": "white",
            "ticks": ""
           }
          },
          "title": {
           "x": 0.05
          },
          "xaxis": {
           "automargin": true,
           "gridcolor": "white",
           "linecolor": "white",
           "ticks": "",
           "title": {
            "standoff": 15
           },
           "zerolinecolor": "white",
           "zerolinewidth": 2
          },
          "yaxis": {
           "automargin": true,
           "gridcolor": "white",
           "linecolor": "white",
           "ticks": "",
           "title": {
            "standoff": 15
           },
           "zerolinecolor": "white",
           "zerolinewidth": 2
          }
         }
        },
        "title": {
         "text": "Percentage of Household in Positive and Negative Savings"
        },
        "width": 1000,
        "xaxis": {
         "anchor": "y",
         "domain": [
          0,
          0.2888888888888889
         ],
         "tickformat": ",.0%",
         "title": {
          "text": "Bill"
         },
         "visible": true
        },
        "xaxis2": {
         "anchor": "y2",
         "domain": [
          0.35555555555555557,
          0.6444444444444445
         ],
         "tickformat": ",.0%",
         "title": {
          "text": "Emission"
         },
         "visible": true
        },
        "xaxis3": {
         "anchor": "y3",
         "domain": [
          0.7111111111111111,
          1
         ],
         "tickformat": ",.0%",
         "title": {
          "text": "Total Energy"
         },
         "visible": true
        },
        "yaxis": {
         "anchor": "x",
         "domain": [
          0,
          1
         ],
         "visible": true
        },
        "yaxis2": {
         "anchor": "x2",
         "domain": [
          0,
          1
         ],
         "visible": false
        },
        "yaxis3": {
         "anchor": "x3",
         "domain": [
          0,
          1
         ],
         "visible": false
        }
       }
      },
      "text/html": [
       "<div>                            <div id=\"90da458d-0da4-42fb-b8b9-1884ee1d38aa\" class=\"plotly-graph-div\" style=\"height:500px; width:1000px;\"></div>            <script type=\"text/javascript\">                require([\"plotly\"], function(Plotly) {                    window.PLOTLYENV=window.PLOTLYENV || {};                                    if (document.getElementById(\"90da458d-0da4-42fb-b8b9-1884ee1d38aa\")) {                    Plotly.newPlot(                        \"90da458d-0da4-42fb-b8b9-1884ee1d38aa\",                        [{\"marker\":{\"color\":\"red\"},\"name\":\"Negative\",\"orientation\":\"h\",\"text\":[1.0,0.8918918918918919,0.24615384615384617,0.189873417721519,0.05263157894736842,0.045112781954887216,0.022727272727272728,0.0,0.0,0.0,0.0,0.0,0.0,0.0,0.0,0.0],\"x\":[1.0,0.8918918918918919,0.24615384615384617,0.189873417721519,0.05263157894736842,0.045112781954887216,0.022727272727272728,0.0,0.0,0.0,0.0,0.0,0.0,0.0,0.0,0.0],\"y\":[\"Electric Clothes Dryer\",\"Electric Cooking\",\"Induction Cooking\",\"Mininum Efficiency Whole Home Electrification\",\"Mininum Efficiency Heat Pump with Existing Heat Backup\",\"Mininum Efficiency Heat Pump with Electric Heat Backup\",\"Heat Pump Water Heater\",\"Basic Enclosure\",\"Basic Enclosure + HPWH + High Efficiency HP/Electric Backup\",\"Basic Enclosure + High Efficiency Whole Home Electrification\",\"Enhanced Enclosure\",\"Enhanced Enclosure + HPWH + High Efficiency HP/Electric Backup\",\"Enhanced Enclosure + High Efficiency Whole Home Electrification\",\"Heat Pump Clothes Dryer\",\"High Efficiency Heat Pump with Electric Heat Backup\",\"High Efficiency Whole Home Electrification\"],\"type\":\"bar\",\"xaxis\":\"x\",\"yaxis\":\"y\",\"textposition\":\"inside\",\"texttemplate\":\"%{text:.0%}\"},{\"marker\":{\"color\":\"green\"},\"name\":\"Positive\",\"orientation\":\"h\",\"text\":[0.0,0.10810810810810811,0.7538461538461538,0.810126582278481,0.9473684210526315,0.9548872180451128,0.9772727272727273,1.0,1.0,1.0,1.0,1.0,1.0,1.0,1.0,1.0],\"x\":[0.0,0.10810810810810811,0.7538461538461538,0.810126582278481,0.9473684210526315,0.9548872180451128,0.9772727272727273,1.0,1.0,1.0,1.0,1.0,1.0,1.0,1.0,1.0],\"y\":[\"Electric Clothes Dryer\",\"Electric Cooking\",\"Induction Cooking\",\"Mininum Efficiency Whole Home Electrification\",\"Mininum Efficiency Heat Pump with Existing Heat Backup\",\"Mininum Efficiency Heat Pump with Electric Heat Backup\",\"Heat Pump Water Heater\",\"Basic Enclosure\",\"Basic Enclosure + HPWH + High Efficiency HP/Electric Backup\",\"Basic Enclosure + High Efficiency Whole Home Electrification\",\"Enhanced Enclosure\",\"Enhanced Enclosure + HPWH + High Efficiency HP/Electric Backup\",\"Enhanced Enclosure + High Efficiency Whole Home Electrification\",\"Heat Pump Clothes Dryer\",\"High Efficiency Heat Pump with Electric Heat Backup\",\"High Efficiency Whole Home Electrification\"],\"type\":\"bar\",\"xaxis\":\"x\",\"yaxis\":\"y\",\"textposition\":\"inside\",\"texttemplate\":\"%{text:.0%}\"},{\"marker\":{\"color\":\"red\"},\"orientation\":\"h\",\"showlegend\":false,\"text\":[0.0,0.0,0.0,0.0,0.015037593984962405,0.0,0.0,0.0,0.0,0.0,0.0,0.0,0.0,0.0,0.0,0.0],\"x\":[0.0,0.0,0.0,0.0,0.015037593984962405,0.0,0.0,0.0,0.0,0.0,0.0,0.0,0.0,0.0,0.0,0.0],\"y\":[\"Electric Clothes Dryer\",\"Electric Cooking\",\"Induction Cooking\",\"Mininum Efficiency Whole Home Electrification\",\"Mininum Efficiency Heat Pump with Existing Heat Backup\",\"Mininum Efficiency Heat Pump with Electric Heat Backup\",\"Heat Pump Water Heater\",\"Basic Enclosure\",\"Basic Enclosure + HPWH + High Efficiency HP/Electric Backup\",\"Basic Enclosure + High Efficiency Whole Home Electrification\",\"Enhanced Enclosure\",\"Enhanced Enclosure + HPWH + High Efficiency HP/Electric Backup\",\"Enhanced Enclosure + High Efficiency Whole Home Electrification\",\"Heat Pump Clothes Dryer\",\"High Efficiency Heat Pump with Electric Heat Backup\",\"High Efficiency Whole Home Electrification\"],\"type\":\"bar\",\"xaxis\":\"x2\",\"yaxis\":\"y2\",\"textposition\":\"inside\",\"texttemplate\":\"%{text:.0%}\"},{\"marker\":{\"color\":\"green\"},\"orientation\":\"h\",\"showlegend\":false,\"text\":[1.0,1.0,1.0,1.0,0.9849624060150376,1.0,1.0,1.0,1.0,1.0,1.0,1.0,1.0,1.0,1.0,1.0],\"x\":[1.0,1.0,1.0,1.0,0.9849624060150376,1.0,1.0,1.0,1.0,1.0,1.0,1.0,1.0,1.0,1.0,1.0],\"y\":[\"Electric Clothes Dryer\",\"Electric Cooking\",\"Induction Cooking\",\"Mininum Efficiency Whole Home Electrification\",\"Mininum Efficiency Heat Pump with Existing Heat Backup\",\"Mininum Efficiency Heat Pump with Electric Heat Backup\",\"Heat Pump Water Heater\",\"Basic Enclosure\",\"Basic Enclosure + HPWH + High Efficiency HP/Electric Backup\",\"Basic Enclosure + High Efficiency Whole Home Electrification\",\"Enhanced Enclosure\",\"Enhanced Enclosure + HPWH + High Efficiency HP/Electric Backup\",\"Enhanced Enclosure + High Efficiency Whole Home Electrification\",\"Heat Pump Clothes Dryer\",\"High Efficiency Heat Pump with Electric Heat Backup\",\"High Efficiency Whole Home Electrification\"],\"type\":\"bar\",\"xaxis\":\"x2\",\"yaxis\":\"y2\",\"textposition\":\"inside\",\"texttemplate\":\"%{text:.0%}\"},{\"marker\":{\"color\":\"red\"},\"orientation\":\"h\",\"showlegend\":false,\"text\":[0.0,0.0,0.0,0.0,0.015037593984962405,0.0,0.0,0.0,0.0,0.0,0.0,0.0,0.0,0.0,0.0,0.0],\"x\":[0.0,0.0,0.0,0.0,0.015037593984962405,0.0,0.0,0.0,0.0,0.0,0.0,0.0,0.0,0.0,0.0,0.0],\"y\":[\"Electric Clothes Dryer\",\"Electric Cooking\",\"Induction Cooking\",\"Mininum Efficiency Whole Home Electrification\",\"Mininum Efficiency Heat Pump with Existing Heat Backup\",\"Mininum Efficiency Heat Pump with Electric Heat Backup\",\"Heat Pump Water Heater\",\"Basic Enclosure\",\"Basic Enclosure + HPWH + High Efficiency HP/Electric Backup\",\"Basic Enclosure + High Efficiency Whole Home Electrification\",\"Enhanced Enclosure\",\"Enhanced Enclosure + HPWH + High Efficiency HP/Electric Backup\",\"Enhanced Enclosure + High Efficiency Whole Home Electrification\",\"Heat Pump Clothes Dryer\",\"High Efficiency Heat Pump with Electric Heat Backup\",\"High Efficiency Whole Home Electrification\"],\"type\":\"bar\",\"xaxis\":\"x3\",\"yaxis\":\"y3\",\"textposition\":\"inside\",\"texttemplate\":\"%{text:.0%}\"},{\"marker\":{\"color\":\"green\"},\"orientation\":\"h\",\"showlegend\":false,\"text\":[1.0,1.0,1.0,1.0,0.9849624060150376,1.0,1.0,1.0,1.0,1.0,1.0,1.0,1.0,1.0,1.0,1.0],\"x\":[1.0,1.0,1.0,1.0,0.9849624060150376,1.0,1.0,1.0,1.0,1.0,1.0,1.0,1.0,1.0,1.0,1.0],\"y\":[\"Electric Clothes Dryer\",\"Electric Cooking\",\"Induction Cooking\",\"Mininum Efficiency Whole Home Electrification\",\"Mininum Efficiency Heat Pump with Existing Heat Backup\",\"Mininum Efficiency Heat Pump with Electric Heat Backup\",\"Heat Pump Water Heater\",\"Basic Enclosure\",\"Basic Enclosure + HPWH + High Efficiency HP/Electric Backup\",\"Basic Enclosure + High Efficiency Whole Home Electrification\",\"Enhanced Enclosure\",\"Enhanced Enclosure + HPWH + High Efficiency HP/Electric Backup\",\"Enhanced Enclosure + High Efficiency Whole Home Electrification\",\"Heat Pump Clothes Dryer\",\"High Efficiency Heat Pump with Electric Heat Backup\",\"High Efficiency Whole Home Electrification\"],\"type\":\"bar\",\"xaxis\":\"x3\",\"yaxis\":\"y3\",\"textposition\":\"inside\",\"texttemplate\":\"%{text:.0%}\"}],                        {\"template\":{\"data\":{\"histogram2dcontour\":[{\"type\":\"histogram2dcontour\",\"colorbar\":{\"outlinewidth\":0,\"ticks\":\"\"},\"colorscale\":[[0.0,\"#0d0887\"],[0.1111111111111111,\"#46039f\"],[0.2222222222222222,\"#7201a8\"],[0.3333333333333333,\"#9c179e\"],[0.4444444444444444,\"#bd3786\"],[0.5555555555555556,\"#d8576b\"],[0.6666666666666666,\"#ed7953\"],[0.7777777777777778,\"#fb9f3a\"],[0.8888888888888888,\"#fdca26\"],[1.0,\"#f0f921\"]]}],\"choropleth\":[{\"type\":\"choropleth\",\"colorbar\":{\"outlinewidth\":0,\"ticks\":\"\"}}],\"histogram2d\":[{\"type\":\"histogram2d\",\"colorbar\":{\"outlinewidth\":0,\"ticks\":\"\"},\"colorscale\":[[0.0,\"#0d0887\"],[0.1111111111111111,\"#46039f\"],[0.2222222222222222,\"#7201a8\"],[0.3333333333333333,\"#9c179e\"],[0.4444444444444444,\"#bd3786\"],[0.5555555555555556,\"#d8576b\"],[0.6666666666666666,\"#ed7953\"],[0.7777777777777778,\"#fb9f3a\"],[0.8888888888888888,\"#fdca26\"],[1.0,\"#f0f921\"]]}],\"heatmap\":[{\"type\":\"heatmap\",\"colorbar\":{\"outlinewidth\":0,\"ticks\":\"\"},\"colorscale\":[[0.0,\"#0d0887\"],[0.1111111111111111,\"#46039f\"],[0.2222222222222222,\"#7201a8\"],[0.3333333333333333,\"#9c179e\"],[0.4444444444444444,\"#bd3786\"],[0.5555555555555556,\"#d8576b\"],[0.6666666666666666,\"#ed7953\"],[0.7777777777777778,\"#fb9f3a\"],[0.8888888888888888,\"#fdca26\"],[1.0,\"#f0f921\"]]}],\"heatmapgl\":[{\"type\":\"heatmapgl\",\"colorbar\":{\"outlinewidth\":0,\"ticks\":\"\"},\"colorscale\":[[0.0,\"#0d0887\"],[0.1111111111111111,\"#46039f\"],[0.2222222222222222,\"#7201a8\"],[0.3333333333333333,\"#9c179e\"],[0.4444444444444444,\"#bd3786\"],[0.5555555555555556,\"#d8576b\"],[0.6666666666666666,\"#ed7953\"],[0.7777777777777778,\"#fb9f3a\"],[0.8888888888888888,\"#fdca26\"],[1.0,\"#f0f921\"]]}],\"contourcarpet\":[{\"type\":\"contourcarpet\",\"colorbar\":{\"outlinewidth\":0,\"ticks\":\"\"}}],\"contour\":[{\"type\":\"contour\",\"colorbar\":{\"outlinewidth\":0,\"ticks\":\"\"},\"colorscale\":[[0.0,\"#0d0887\"],[0.1111111111111111,\"#46039f\"],[0.2222222222222222,\"#7201a8\"],[0.3333333333333333,\"#9c179e\"],[0.4444444444444444,\"#bd3786\"],[0.5555555555555556,\"#d8576b\"],[0.6666666666666666,\"#ed7953\"],[0.7777777777777778,\"#fb9f3a\"],[0.8888888888888888,\"#fdca26\"],[1.0,\"#f0f921\"]]}],\"surface\":[{\"type\":\"surface\",\"colorbar\":{\"outlinewidth\":0,\"ticks\":\"\"},\"colorscale\":[[0.0,\"#0d0887\"],[0.1111111111111111,\"#46039f\"],[0.2222222222222222,\"#7201a8\"],[0.3333333333333333,\"#9c179e\"],[0.4444444444444444,\"#bd3786\"],[0.5555555555555556,\"#d8576b\"],[0.6666666666666666,\"#ed7953\"],[0.7777777777777778,\"#fb9f3a\"],[0.8888888888888888,\"#fdca26\"],[1.0,\"#f0f921\"]]}],\"mesh3d\":[{\"type\":\"mesh3d\",\"colorbar\":{\"outlinewidth\":0,\"ticks\":\"\"}}],\"scatter\":[{\"fillpattern\":{\"fillmode\":\"overlay\",\"size\":10,\"solidity\":0.2},\"type\":\"scatter\"}],\"parcoords\":[{\"type\":\"parcoords\",\"line\":{\"colorbar\":{\"outlinewidth\":0,\"ticks\":\"\"}}}],\"scatterpolargl\":[{\"type\":\"scatterpolargl\",\"marker\":{\"colorbar\":{\"outlinewidth\":0,\"ticks\":\"\"}}}],\"bar\":[{\"error_x\":{\"color\":\"#2a3f5f\"},\"error_y\":{\"color\":\"#2a3f5f\"},\"marker\":{\"line\":{\"color\":\"#E5ECF6\",\"width\":0.5},\"pattern\":{\"fillmode\":\"overlay\",\"size\":10,\"solidity\":0.2}},\"type\":\"bar\"}],\"scattergeo\":[{\"type\":\"scattergeo\",\"marker\":{\"colorbar\":{\"outlinewidth\":0,\"ticks\":\"\"}}}],\"scatterpolar\":[{\"type\":\"scatterpolar\",\"marker\":{\"colorbar\":{\"outlinewidth\":0,\"ticks\":\"\"}}}],\"histogram\":[{\"marker\":{\"pattern\":{\"fillmode\":\"overlay\",\"size\":10,\"solidity\":0.2}},\"type\":\"histogram\"}],\"scattergl\":[{\"type\":\"scattergl\",\"marker\":{\"colorbar\":{\"outlinewidth\":0,\"ticks\":\"\"}}}],\"scatter3d\":[{\"type\":\"scatter3d\",\"line\":{\"colorbar\":{\"outlinewidth\":0,\"ticks\":\"\"}},\"marker\":{\"colorbar\":{\"outlinewidth\":0,\"ticks\":\"\"}}}],\"scattermapbox\":[{\"type\":\"scattermapbox\",\"marker\":{\"colorbar\":{\"outlinewidth\":0,\"ticks\":\"\"}}}],\"scatterternary\":[{\"type\":\"scatterternary\",\"marker\":{\"colorbar\":{\"outlinewidth\":0,\"ticks\":\"\"}}}],\"scattercarpet\":[{\"type\":\"scattercarpet\",\"marker\":{\"colorbar\":{\"outlinewidth\":0,\"ticks\":\"\"}}}],\"carpet\":[{\"aaxis\":{\"endlinecolor\":\"#2a3f5f\",\"gridcolor\":\"white\",\"linecolor\":\"white\",\"minorgridcolor\":\"white\",\"startlinecolor\":\"#2a3f5f\"},\"baxis\":{\"endlinecolor\":\"#2a3f5f\",\"gridcolor\":\"white\",\"linecolor\":\"white\",\"minorgridcolor\":\"white\",\"startlinecolor\":\"#2a3f5f\"},\"type\":\"carpet\"}],\"table\":[{\"cells\":{\"fill\":{\"color\":\"#EBF0F8\"},\"line\":{\"color\":\"white\"}},\"header\":{\"fill\":{\"color\":\"#C8D4E3\"},\"line\":{\"color\":\"white\"}},\"type\":\"table\"}],\"barpolar\":[{\"marker\":{\"line\":{\"color\":\"#E5ECF6\",\"width\":0.5},\"pattern\":{\"fillmode\":\"overlay\",\"size\":10,\"solidity\":0.2}},\"type\":\"barpolar\"}],\"pie\":[{\"automargin\":true,\"type\":\"pie\"}]},\"layout\":{\"autotypenumbers\":\"strict\",\"colorway\":[\"#636efa\",\"#EF553B\",\"#00cc96\",\"#ab63fa\",\"#FFA15A\",\"#19d3f3\",\"#FF6692\",\"#B6E880\",\"#FF97FF\",\"#FECB52\"],\"font\":{\"color\":\"#2a3f5f\"},\"hovermode\":\"closest\",\"hoverlabel\":{\"align\":\"left\"},\"paper_bgcolor\":\"white\",\"plot_bgcolor\":\"#E5ECF6\",\"polar\":{\"bgcolor\":\"#E5ECF6\",\"angularaxis\":{\"gridcolor\":\"white\",\"linecolor\":\"white\",\"ticks\":\"\"},\"radialaxis\":{\"gridcolor\":\"white\",\"linecolor\":\"white\",\"ticks\":\"\"}},\"ternary\":{\"bgcolor\":\"#E5ECF6\",\"aaxis\":{\"gridcolor\":\"white\",\"linecolor\":\"white\",\"ticks\":\"\"},\"baxis\":{\"gridcolor\":\"white\",\"linecolor\":\"white\",\"ticks\":\"\"},\"caxis\":{\"gridcolor\":\"white\",\"linecolor\":\"white\",\"ticks\":\"\"}},\"coloraxis\":{\"colorbar\":{\"outlinewidth\":0,\"ticks\":\"\"}},\"colorscale\":{\"sequential\":[[0.0,\"#0d0887\"],[0.1111111111111111,\"#46039f\"],[0.2222222222222222,\"#7201a8\"],[0.3333333333333333,\"#9c179e\"],[0.4444444444444444,\"#bd3786\"],[0.5555555555555556,\"#d8576b\"],[0.6666666666666666,\"#ed7953\"],[0.7777777777777778,\"#fb9f3a\"],[0.8888888888888888,\"#fdca26\"],[1.0,\"#f0f921\"]],\"sequentialminus\":[[0.0,\"#0d0887\"],[0.1111111111111111,\"#46039f\"],[0.2222222222222222,\"#7201a8\"],[0.3333333333333333,\"#9c179e\"],[0.4444444444444444,\"#bd3786\"],[0.5555555555555556,\"#d8576b\"],[0.6666666666666666,\"#ed7953\"],[0.7777777777777778,\"#fb9f3a\"],[0.8888888888888888,\"#fdca26\"],[1.0,\"#f0f921\"]],\"diverging\":[[0,\"#8e0152\"],[0.1,\"#c51b7d\"],[0.2,\"#de77ae\"],[0.3,\"#f1b6da\"],[0.4,\"#fde0ef\"],[0.5,\"#f7f7f7\"],[0.6,\"#e6f5d0\"],[0.7,\"#b8e186\"],[0.8,\"#7fbc41\"],[0.9,\"#4d9221\"],[1,\"#276419\"]]},\"xaxis\":{\"gridcolor\":\"white\",\"linecolor\":\"white\",\"ticks\":\"\",\"title\":{\"standoff\":15},\"zerolinecolor\":\"white\",\"automargin\":true,\"zerolinewidth\":2},\"yaxis\":{\"gridcolor\":\"white\",\"linecolor\":\"white\",\"ticks\":\"\",\"title\":{\"standoff\":15},\"zerolinecolor\":\"white\",\"automargin\":true,\"zerolinewidth\":2},\"scene\":{\"xaxis\":{\"backgroundcolor\":\"#E5ECF6\",\"gridcolor\":\"white\",\"linecolor\":\"white\",\"showbackground\":true,\"ticks\":\"\",\"zerolinecolor\":\"white\",\"gridwidth\":2},\"yaxis\":{\"backgroundcolor\":\"#E5ECF6\",\"gridcolor\":\"white\",\"linecolor\":\"white\",\"showbackground\":true,\"ticks\":\"\",\"zerolinecolor\":\"white\",\"gridwidth\":2},\"zaxis\":{\"backgroundcolor\":\"#E5ECF6\",\"gridcolor\":\"white\",\"linecolor\":\"white\",\"showbackground\":true,\"ticks\":\"\",\"zerolinecolor\":\"white\",\"gridwidth\":2}},\"shapedefaults\":{\"line\":{\"color\":\"#2a3f5f\"}},\"annotationdefaults\":{\"arrowcolor\":\"#2a3f5f\",\"arrowhead\":0,\"arrowwidth\":1},\"geo\":{\"bgcolor\":\"white\",\"landcolor\":\"#E5ECF6\",\"subunitcolor\":\"white\",\"showland\":true,\"showlakes\":true,\"lakecolor\":\"white\"},\"title\":{\"x\":0.05},\"mapbox\":{\"style\":\"light\"}}},\"xaxis\":{\"anchor\":\"y\",\"domain\":[0.0,0.2888888888888889],\"title\":{\"text\":\"Bill\"},\"visible\":true,\"tickformat\":\",.0%\"},\"yaxis\":{\"anchor\":\"x\",\"domain\":[0.0,1.0],\"visible\":true},\"xaxis2\":{\"anchor\":\"y2\",\"domain\":[0.35555555555555557,0.6444444444444445],\"title\":{\"text\":\"Emission\"},\"visible\":true,\"tickformat\":\",.0%\"},\"yaxis2\":{\"anchor\":\"x2\",\"domain\":[0.0,1.0],\"visible\":false},\"xaxis3\":{\"anchor\":\"y3\",\"domain\":[0.7111111111111111,1.0],\"title\":{\"text\":\"Total Energy\"},\"visible\":true,\"tickformat\":\",.0%\"},\"yaxis3\":{\"anchor\":\"x3\",\"domain\":[0.0,1.0],\"visible\":false},\"barmode\":\"relative\",\"font\":{\"size\":10},\"title\":{\"text\":\"Percentage of Household in Positive and Negative Savings\"},\"autosize\":false,\"width\":1000,\"height\":500},                        {\"responsive\": true}                    ).then(function(){\n",
       "                            \n",
       "var gd = document.getElementById('90da458d-0da4-42fb-b8b9-1884ee1d38aa');\n",
       "var x = new MutationObserver(function (mutations, observer) {{\n",
       "        var display = window.getComputedStyle(gd).display;\n",
       "        if (!display || display === 'none') {{\n",
       "            console.log([gd, 'removed!']);\n",
       "            Plotly.purge(gd);\n",
       "            observer.disconnect();\n",
       "        }}\n",
       "}});\n",
       "\n",
       "// Listen for the removal of the full notebook cells\n",
       "var notebookContainer = gd.closest('#notebook-container');\n",
       "if (notebookContainer) {{\n",
       "    x.observe(notebookContainer, {childList: true});\n",
       "}}\n",
       "\n",
       "// Listen for the clearing of the current output cell\n",
       "var outputEl = gd.closest('.output');\n",
       "if (outputEl) {{\n",
       "    x.observe(outputEl, {childList: true});\n",
       "}}\n",
       "\n",
       "                        })                };                });            </script>        </div>"
      ]
     },
     "metadata": {},
     "output_type": "display_data"
    }
   ],
   "source": [
    "segment = 'segment1'\n",
    "figure_positive_negative_savings(segment, community_results) "
   ]
  },
  {
   "cell_type": "markdown",
   "id": "f3357f7f",
   "metadata": {},
   "source": [
    "### Segment 2"
   ]
  },
  {
   "cell_type": "code",
   "execution_count": 67,
   "id": "362580ae",
   "metadata": {},
   "outputs": [
    {
     "data": {
      "application/vnd.plotly.v1+json": {
       "config": {
        "plotlyServerURL": "https://plot.ly"
       },
       "data": [
        {
         "marker": {
          "color": "red"
         },
         "name": "Negative",
         "orientation": "h",
         "text": [
          1,
          0.35714285714285715,
          0.35294117647058826,
          0.05813953488372093,
          0.03529411764705882,
          0.03409090909090909,
          0,
          0,
          0,
          0,
          0,
          0,
          0,
          0,
          0,
          0
         ],
         "textposition": "inside",
         "texttemplate": "%{text:.0%}",
         "type": "bar",
         "x": [
          1,
          0.35714285714285715,
          0.35294117647058826,
          0.05813953488372093,
          0.03529411764705882,
          0.03409090909090909,
          0,
          0,
          0,
          0,
          0,
          0,
          0,
          0,
          0,
          0
         ],
         "xaxis": "x",
         "y": [
          "Electric Clothes Dryer",
          "Electric Cooking",
          "Mininum Efficiency Whole Home Electrification",
          "Induction Cooking",
          "Mininum Efficiency Heat Pump with Existing Heat Backup",
          "Mininum Efficiency Heat Pump with Electric Heat Backup",
          "Basic Enclosure",
          "Basic Enclosure + HPWH + High Efficiency HP/Electric Backup",
          "Basic Enclosure + High Efficiency Whole Home Electrification",
          "Enhanced Enclosure",
          "Enhanced Enclosure + HPWH + High Efficiency HP/Electric Backup",
          "Enhanced Enclosure + High Efficiency Whole Home Electrification",
          "Heat Pump Clothes Dryer",
          "Heat Pump Water Heater",
          "High Efficiency Heat Pump with Electric Heat Backup",
          "High Efficiency Whole Home Electrification"
         ],
         "yaxis": "y"
        },
        {
         "marker": {
          "color": "green"
         },
         "name": "Positive",
         "orientation": "h",
         "text": [
          0,
          0.6428571428571429,
          0.6470588235294118,
          0.9418604651162791,
          0.9647058823529412,
          0.9659090909090909,
          1,
          1,
          1,
          1,
          1,
          1,
          1,
          1,
          1,
          1
         ],
         "textposition": "inside",
         "texttemplate": "%{text:.0%}",
         "type": "bar",
         "x": [
          0,
          0.6428571428571429,
          0.6470588235294118,
          0.9418604651162791,
          0.9647058823529412,
          0.9659090909090909,
          1,
          1,
          1,
          1,
          1,
          1,
          1,
          1,
          1,
          1
         ],
         "xaxis": "x",
         "y": [
          "Electric Clothes Dryer",
          "Electric Cooking",
          "Mininum Efficiency Whole Home Electrification",
          "Induction Cooking",
          "Mininum Efficiency Heat Pump with Existing Heat Backup",
          "Mininum Efficiency Heat Pump with Electric Heat Backup",
          "Basic Enclosure",
          "Basic Enclosure + HPWH + High Efficiency HP/Electric Backup",
          "Basic Enclosure + High Efficiency Whole Home Electrification",
          "Enhanced Enclosure",
          "Enhanced Enclosure + HPWH + High Efficiency HP/Electric Backup",
          "Enhanced Enclosure + High Efficiency Whole Home Electrification",
          "Heat Pump Clothes Dryer",
          "Heat Pump Water Heater",
          "High Efficiency Heat Pump with Electric Heat Backup",
          "High Efficiency Whole Home Electrification"
         ],
         "yaxis": "y"
        },
        {
         "marker": {
          "color": "red"
         },
         "orientation": "h",
         "showlegend": false,
         "text": [
          0,
          0,
          0,
          0,
          0.023529411764705882,
          0.022727272727272728,
          0,
          0,
          0,
          0,
          0,
          0,
          0,
          0,
          0,
          0
         ],
         "textposition": "inside",
         "texttemplate": "%{text:.0%}",
         "type": "bar",
         "x": [
          0,
          0,
          0,
          0,
          0.023529411764705882,
          0.022727272727272728,
          0,
          0,
          0,
          0,
          0,
          0,
          0,
          0,
          0,
          0
         ],
         "xaxis": "x2",
         "y": [
          "Electric Clothes Dryer",
          "Electric Cooking",
          "Mininum Efficiency Whole Home Electrification",
          "Induction Cooking",
          "Mininum Efficiency Heat Pump with Existing Heat Backup",
          "Mininum Efficiency Heat Pump with Electric Heat Backup",
          "Basic Enclosure",
          "Basic Enclosure + HPWH + High Efficiency HP/Electric Backup",
          "Basic Enclosure + High Efficiency Whole Home Electrification",
          "Enhanced Enclosure",
          "Enhanced Enclosure + HPWH + High Efficiency HP/Electric Backup",
          "Enhanced Enclosure + High Efficiency Whole Home Electrification",
          "Heat Pump Clothes Dryer",
          "Heat Pump Water Heater",
          "High Efficiency Heat Pump with Electric Heat Backup",
          "High Efficiency Whole Home Electrification"
         ],
         "yaxis": "y2"
        },
        {
         "marker": {
          "color": "green"
         },
         "orientation": "h",
         "showlegend": false,
         "text": [
          1,
          1,
          1,
          1,
          0.9764705882352941,
          0.9772727272727273,
          1,
          1,
          1,
          1,
          1,
          1,
          1,
          1,
          1,
          1
         ],
         "textposition": "inside",
         "texttemplate": "%{text:.0%}",
         "type": "bar",
         "x": [
          1,
          1,
          1,
          1,
          0.9764705882352941,
          0.9772727272727273,
          1,
          1,
          1,
          1,
          1,
          1,
          1,
          1,
          1,
          1
         ],
         "xaxis": "x2",
         "y": [
          "Electric Clothes Dryer",
          "Electric Cooking",
          "Mininum Efficiency Whole Home Electrification",
          "Induction Cooking",
          "Mininum Efficiency Heat Pump with Existing Heat Backup",
          "Mininum Efficiency Heat Pump with Electric Heat Backup",
          "Basic Enclosure",
          "Basic Enclosure + HPWH + High Efficiency HP/Electric Backup",
          "Basic Enclosure + High Efficiency Whole Home Electrification",
          "Enhanced Enclosure",
          "Enhanced Enclosure + HPWH + High Efficiency HP/Electric Backup",
          "Enhanced Enclosure + High Efficiency Whole Home Electrification",
          "Heat Pump Clothes Dryer",
          "Heat Pump Water Heater",
          "High Efficiency Heat Pump with Electric Heat Backup",
          "High Efficiency Whole Home Electrification"
         ],
         "yaxis": "y2"
        },
        {
         "marker": {
          "color": "red"
         },
         "orientation": "h",
         "showlegend": false,
         "text": [
          0,
          0,
          0,
          0,
          0.03529411764705882,
          0.03409090909090909,
          0,
          0,
          0,
          0,
          0,
          0,
          0,
          0,
          0,
          0
         ],
         "textposition": "inside",
         "texttemplate": "%{text:.0%}",
         "type": "bar",
         "x": [
          0,
          0,
          0,
          0,
          0.03529411764705882,
          0.03409090909090909,
          0,
          0,
          0,
          0,
          0,
          0,
          0,
          0,
          0,
          0
         ],
         "xaxis": "x3",
         "y": [
          "Electric Clothes Dryer",
          "Electric Cooking",
          "Mininum Efficiency Whole Home Electrification",
          "Induction Cooking",
          "Mininum Efficiency Heat Pump with Existing Heat Backup",
          "Mininum Efficiency Heat Pump with Electric Heat Backup",
          "Basic Enclosure",
          "Basic Enclosure + HPWH + High Efficiency HP/Electric Backup",
          "Basic Enclosure + High Efficiency Whole Home Electrification",
          "Enhanced Enclosure",
          "Enhanced Enclosure + HPWH + High Efficiency HP/Electric Backup",
          "Enhanced Enclosure + High Efficiency Whole Home Electrification",
          "Heat Pump Clothes Dryer",
          "Heat Pump Water Heater",
          "High Efficiency Heat Pump with Electric Heat Backup",
          "High Efficiency Whole Home Electrification"
         ],
         "yaxis": "y3"
        },
        {
         "marker": {
          "color": "green"
         },
         "orientation": "h",
         "showlegend": false,
         "text": [
          1,
          1,
          1,
          1,
          0.9647058823529412,
          0.9659090909090909,
          1,
          1,
          1,
          1,
          1,
          1,
          1,
          1,
          1,
          1
         ],
         "textposition": "inside",
         "texttemplate": "%{text:.0%}",
         "type": "bar",
         "x": [
          1,
          1,
          1,
          1,
          0.9647058823529412,
          0.9659090909090909,
          1,
          1,
          1,
          1,
          1,
          1,
          1,
          1,
          1,
          1
         ],
         "xaxis": "x3",
         "y": [
          "Electric Clothes Dryer",
          "Electric Cooking",
          "Mininum Efficiency Whole Home Electrification",
          "Induction Cooking",
          "Mininum Efficiency Heat Pump with Existing Heat Backup",
          "Mininum Efficiency Heat Pump with Electric Heat Backup",
          "Basic Enclosure",
          "Basic Enclosure + HPWH + High Efficiency HP/Electric Backup",
          "Basic Enclosure + High Efficiency Whole Home Electrification",
          "Enhanced Enclosure",
          "Enhanced Enclosure + HPWH + High Efficiency HP/Electric Backup",
          "Enhanced Enclosure + High Efficiency Whole Home Electrification",
          "Heat Pump Clothes Dryer",
          "Heat Pump Water Heater",
          "High Efficiency Heat Pump with Electric Heat Backup",
          "High Efficiency Whole Home Electrification"
         ],
         "yaxis": "y3"
        }
       ],
       "layout": {
        "autosize": false,
        "barmode": "relative",
        "font": {
         "size": 10
        },
        "height": 500,
        "template": {
         "data": {
          "bar": [
           {
            "error_x": {
             "color": "#2a3f5f"
            },
            "error_y": {
             "color": "#2a3f5f"
            },
            "marker": {
             "line": {
              "color": "#E5ECF6",
              "width": 0.5
             },
             "pattern": {
              "fillmode": "overlay",
              "size": 10,
              "solidity": 0.2
             }
            },
            "type": "bar"
           }
          ],
          "barpolar": [
           {
            "marker": {
             "line": {
              "color": "#E5ECF6",
              "width": 0.5
             },
             "pattern": {
              "fillmode": "overlay",
              "size": 10,
              "solidity": 0.2
             }
            },
            "type": "barpolar"
           }
          ],
          "carpet": [
           {
            "aaxis": {
             "endlinecolor": "#2a3f5f",
             "gridcolor": "white",
             "linecolor": "white",
             "minorgridcolor": "white",
             "startlinecolor": "#2a3f5f"
            },
            "baxis": {
             "endlinecolor": "#2a3f5f",
             "gridcolor": "white",
             "linecolor": "white",
             "minorgridcolor": "white",
             "startlinecolor": "#2a3f5f"
            },
            "type": "carpet"
           }
          ],
          "choropleth": [
           {
            "colorbar": {
             "outlinewidth": 0,
             "ticks": ""
            },
            "type": "choropleth"
           }
          ],
          "contour": [
           {
            "colorbar": {
             "outlinewidth": 0,
             "ticks": ""
            },
            "colorscale": [
             [
              0,
              "#0d0887"
             ],
             [
              0.1111111111111111,
              "#46039f"
             ],
             [
              0.2222222222222222,
              "#7201a8"
             ],
             [
              0.3333333333333333,
              "#9c179e"
             ],
             [
              0.4444444444444444,
              "#bd3786"
             ],
             [
              0.5555555555555556,
              "#d8576b"
             ],
             [
              0.6666666666666666,
              "#ed7953"
             ],
             [
              0.7777777777777778,
              "#fb9f3a"
             ],
             [
              0.8888888888888888,
              "#fdca26"
             ],
             [
              1,
              "#f0f921"
             ]
            ],
            "type": "contour"
           }
          ],
          "contourcarpet": [
           {
            "colorbar": {
             "outlinewidth": 0,
             "ticks": ""
            },
            "type": "contourcarpet"
           }
          ],
          "heatmap": [
           {
            "colorbar": {
             "outlinewidth": 0,
             "ticks": ""
            },
            "colorscale": [
             [
              0,
              "#0d0887"
             ],
             [
              0.1111111111111111,
              "#46039f"
             ],
             [
              0.2222222222222222,
              "#7201a8"
             ],
             [
              0.3333333333333333,
              "#9c179e"
             ],
             [
              0.4444444444444444,
              "#bd3786"
             ],
             [
              0.5555555555555556,
              "#d8576b"
             ],
             [
              0.6666666666666666,
              "#ed7953"
             ],
             [
              0.7777777777777778,
              "#fb9f3a"
             ],
             [
              0.8888888888888888,
              "#fdca26"
             ],
             [
              1,
              "#f0f921"
             ]
            ],
            "type": "heatmap"
           }
          ],
          "heatmapgl": [
           {
            "colorbar": {
             "outlinewidth": 0,
             "ticks": ""
            },
            "colorscale": [
             [
              0,
              "#0d0887"
             ],
             [
              0.1111111111111111,
              "#46039f"
             ],
             [
              0.2222222222222222,
              "#7201a8"
             ],
             [
              0.3333333333333333,
              "#9c179e"
             ],
             [
              0.4444444444444444,
              "#bd3786"
             ],
             [
              0.5555555555555556,
              "#d8576b"
             ],
             [
              0.6666666666666666,
              "#ed7953"
             ],
             [
              0.7777777777777778,
              "#fb9f3a"
             ],
             [
              0.8888888888888888,
              "#fdca26"
             ],
             [
              1,
              "#f0f921"
             ]
            ],
            "type": "heatmapgl"
           }
          ],
          "histogram": [
           {
            "marker": {
             "pattern": {
              "fillmode": "overlay",
              "size": 10,
              "solidity": 0.2
             }
            },
            "type": "histogram"
           }
          ],
          "histogram2d": [
           {
            "colorbar": {
             "outlinewidth": 0,
             "ticks": ""
            },
            "colorscale": [
             [
              0,
              "#0d0887"
             ],
             [
              0.1111111111111111,
              "#46039f"
             ],
             [
              0.2222222222222222,
              "#7201a8"
             ],
             [
              0.3333333333333333,
              "#9c179e"
             ],
             [
              0.4444444444444444,
              "#bd3786"
             ],
             [
              0.5555555555555556,
              "#d8576b"
             ],
             [
              0.6666666666666666,
              "#ed7953"
             ],
             [
              0.7777777777777778,
              "#fb9f3a"
             ],
             [
              0.8888888888888888,
              "#fdca26"
             ],
             [
              1,
              "#f0f921"
             ]
            ],
            "type": "histogram2d"
           }
          ],
          "histogram2dcontour": [
           {
            "colorbar": {
             "outlinewidth": 0,
             "ticks": ""
            },
            "colorscale": [
             [
              0,
              "#0d0887"
             ],
             [
              0.1111111111111111,
              "#46039f"
             ],
             [
              0.2222222222222222,
              "#7201a8"
             ],
             [
              0.3333333333333333,
              "#9c179e"
             ],
             [
              0.4444444444444444,
              "#bd3786"
             ],
             [
              0.5555555555555556,
              "#d8576b"
             ],
             [
              0.6666666666666666,
              "#ed7953"
             ],
             [
              0.7777777777777778,
              "#fb9f3a"
             ],
             [
              0.8888888888888888,
              "#fdca26"
             ],
             [
              1,
              "#f0f921"
             ]
            ],
            "type": "histogram2dcontour"
           }
          ],
          "mesh3d": [
           {
            "colorbar": {
             "outlinewidth": 0,
             "ticks": ""
            },
            "type": "mesh3d"
           }
          ],
          "parcoords": [
           {
            "line": {
             "colorbar": {
              "outlinewidth": 0,
              "ticks": ""
             }
            },
            "type": "parcoords"
           }
          ],
          "pie": [
           {
            "automargin": true,
            "type": "pie"
           }
          ],
          "scatter": [
           {
            "fillpattern": {
             "fillmode": "overlay",
             "size": 10,
             "solidity": 0.2
            },
            "type": "scatter"
           }
          ],
          "scatter3d": [
           {
            "line": {
             "colorbar": {
              "outlinewidth": 0,
              "ticks": ""
             }
            },
            "marker": {
             "colorbar": {
              "outlinewidth": 0,
              "ticks": ""
             }
            },
            "type": "scatter3d"
           }
          ],
          "scattercarpet": [
           {
            "marker": {
             "colorbar": {
              "outlinewidth": 0,
              "ticks": ""
             }
            },
            "type": "scattercarpet"
           }
          ],
          "scattergeo": [
           {
            "marker": {
             "colorbar": {
              "outlinewidth": 0,
              "ticks": ""
             }
            },
            "type": "scattergeo"
           }
          ],
          "scattergl": [
           {
            "marker": {
             "colorbar": {
              "outlinewidth": 0,
              "ticks": ""
             }
            },
            "type": "scattergl"
           }
          ],
          "scattermapbox": [
           {
            "marker": {
             "colorbar": {
              "outlinewidth": 0,
              "ticks": ""
             }
            },
            "type": "scattermapbox"
           }
          ],
          "scatterpolar": [
           {
            "marker": {
             "colorbar": {
              "outlinewidth": 0,
              "ticks": ""
             }
            },
            "type": "scatterpolar"
           }
          ],
          "scatterpolargl": [
           {
            "marker": {
             "colorbar": {
              "outlinewidth": 0,
              "ticks": ""
             }
            },
            "type": "scatterpolargl"
           }
          ],
          "scatterternary": [
           {
            "marker": {
             "colorbar": {
              "outlinewidth": 0,
              "ticks": ""
             }
            },
            "type": "scatterternary"
           }
          ],
          "surface": [
           {
            "colorbar": {
             "outlinewidth": 0,
             "ticks": ""
            },
            "colorscale": [
             [
              0,
              "#0d0887"
             ],
             [
              0.1111111111111111,
              "#46039f"
             ],
             [
              0.2222222222222222,
              "#7201a8"
             ],
             [
              0.3333333333333333,
              "#9c179e"
             ],
             [
              0.4444444444444444,
              "#bd3786"
             ],
             [
              0.5555555555555556,
              "#d8576b"
             ],
             [
              0.6666666666666666,
              "#ed7953"
             ],
             [
              0.7777777777777778,
              "#fb9f3a"
             ],
             [
              0.8888888888888888,
              "#fdca26"
             ],
             [
              1,
              "#f0f921"
             ]
            ],
            "type": "surface"
           }
          ],
          "table": [
           {
            "cells": {
             "fill": {
              "color": "#EBF0F8"
             },
             "line": {
              "color": "white"
             }
            },
            "header": {
             "fill": {
              "color": "#C8D4E3"
             },
             "line": {
              "color": "white"
             }
            },
            "type": "table"
           }
          ]
         },
         "layout": {
          "annotationdefaults": {
           "arrowcolor": "#2a3f5f",
           "arrowhead": 0,
           "arrowwidth": 1
          },
          "autotypenumbers": "strict",
          "coloraxis": {
           "colorbar": {
            "outlinewidth": 0,
            "ticks": ""
           }
          },
          "colorscale": {
           "diverging": [
            [
             0,
             "#8e0152"
            ],
            [
             0.1,
             "#c51b7d"
            ],
            [
             0.2,
             "#de77ae"
            ],
            [
             0.3,
             "#f1b6da"
            ],
            [
             0.4,
             "#fde0ef"
            ],
            [
             0.5,
             "#f7f7f7"
            ],
            [
             0.6,
             "#e6f5d0"
            ],
            [
             0.7,
             "#b8e186"
            ],
            [
             0.8,
             "#7fbc41"
            ],
            [
             0.9,
             "#4d9221"
            ],
            [
             1,
             "#276419"
            ]
           ],
           "sequential": [
            [
             0,
             "#0d0887"
            ],
            [
             0.1111111111111111,
             "#46039f"
            ],
            [
             0.2222222222222222,
             "#7201a8"
            ],
            [
             0.3333333333333333,
             "#9c179e"
            ],
            [
             0.4444444444444444,
             "#bd3786"
            ],
            [
             0.5555555555555556,
             "#d8576b"
            ],
            [
             0.6666666666666666,
             "#ed7953"
            ],
            [
             0.7777777777777778,
             "#fb9f3a"
            ],
            [
             0.8888888888888888,
             "#fdca26"
            ],
            [
             1,
             "#f0f921"
            ]
           ],
           "sequentialminus": [
            [
             0,
             "#0d0887"
            ],
            [
             0.1111111111111111,
             "#46039f"
            ],
            [
             0.2222222222222222,
             "#7201a8"
            ],
            [
             0.3333333333333333,
             "#9c179e"
            ],
            [
             0.4444444444444444,
             "#bd3786"
            ],
            [
             0.5555555555555556,
             "#d8576b"
            ],
            [
             0.6666666666666666,
             "#ed7953"
            ],
            [
             0.7777777777777778,
             "#fb9f3a"
            ],
            [
             0.8888888888888888,
             "#fdca26"
            ],
            [
             1,
             "#f0f921"
            ]
           ]
          },
          "colorway": [
           "#636efa",
           "#EF553B",
           "#00cc96",
           "#ab63fa",
           "#FFA15A",
           "#19d3f3",
           "#FF6692",
           "#B6E880",
           "#FF97FF",
           "#FECB52"
          ],
          "font": {
           "color": "#2a3f5f"
          },
          "geo": {
           "bgcolor": "white",
           "lakecolor": "white",
           "landcolor": "#E5ECF6",
           "showlakes": true,
           "showland": true,
           "subunitcolor": "white"
          },
          "hoverlabel": {
           "align": "left"
          },
          "hovermode": "closest",
          "mapbox": {
           "style": "light"
          },
          "paper_bgcolor": "white",
          "plot_bgcolor": "#E5ECF6",
          "polar": {
           "angularaxis": {
            "gridcolor": "white",
            "linecolor": "white",
            "ticks": ""
           },
           "bgcolor": "#E5ECF6",
           "radialaxis": {
            "gridcolor": "white",
            "linecolor": "white",
            "ticks": ""
           }
          },
          "scene": {
           "xaxis": {
            "backgroundcolor": "#E5ECF6",
            "gridcolor": "white",
            "gridwidth": 2,
            "linecolor": "white",
            "showbackground": true,
            "ticks": "",
            "zerolinecolor": "white"
           },
           "yaxis": {
            "backgroundcolor": "#E5ECF6",
            "gridcolor": "white",
            "gridwidth": 2,
            "linecolor": "white",
            "showbackground": true,
            "ticks": "",
            "zerolinecolor": "white"
           },
           "zaxis": {
            "backgroundcolor": "#E5ECF6",
            "gridcolor": "white",
            "gridwidth": 2,
            "linecolor": "white",
            "showbackground": true,
            "ticks": "",
            "zerolinecolor": "white"
           }
          },
          "shapedefaults": {
           "line": {
            "color": "#2a3f5f"
           }
          },
          "ternary": {
           "aaxis": {
            "gridcolor": "white",
            "linecolor": "white",
            "ticks": ""
           },
           "baxis": {
            "gridcolor": "white",
            "linecolor": "white",
            "ticks": ""
           },
           "bgcolor": "#E5ECF6",
           "caxis": {
            "gridcolor": "white",
            "linecolor": "white",
            "ticks": ""
           }
          },
          "title": {
           "x": 0.05
          },
          "xaxis": {
           "automargin": true,
           "gridcolor": "white",
           "linecolor": "white",
           "ticks": "",
           "title": {
            "standoff": 15
           },
           "zerolinecolor": "white",
           "zerolinewidth": 2
          },
          "yaxis": {
           "automargin": true,
           "gridcolor": "white",
           "linecolor": "white",
           "ticks": "",
           "title": {
            "standoff": 15
           },
           "zerolinecolor": "white",
           "zerolinewidth": 2
          }
         }
        },
        "title": {
         "text": "Percentage of Household in Positive and Negative Savings"
        },
        "width": 1000,
        "xaxis": {
         "anchor": "y",
         "domain": [
          0,
          0.2888888888888889
         ],
         "tickformat": ",.0%",
         "title": {
          "text": "Bill"
         },
         "visible": true
        },
        "xaxis2": {
         "anchor": "y2",
         "domain": [
          0.35555555555555557,
          0.6444444444444445
         ],
         "tickformat": ",.0%",
         "title": {
          "text": "Emission"
         },
         "visible": true
        },
        "xaxis3": {
         "anchor": "y3",
         "domain": [
          0.7111111111111111,
          1
         ],
         "tickformat": ",.0%",
         "title": {
          "text": "Total Energy"
         },
         "visible": true
        },
        "yaxis": {
         "anchor": "x",
         "domain": [
          0,
          1
         ],
         "visible": true
        },
        "yaxis2": {
         "anchor": "x2",
         "domain": [
          0,
          1
         ],
         "visible": false
        },
        "yaxis3": {
         "anchor": "x3",
         "domain": [
          0,
          1
         ],
         "visible": false
        }
       }
      },
      "text/html": [
       "<div>                            <div id=\"611b2bcc-a032-4d47-b324-6b7903d26ca9\" class=\"plotly-graph-div\" style=\"height:500px; width:1000px;\"></div>            <script type=\"text/javascript\">                require([\"plotly\"], function(Plotly) {                    window.PLOTLYENV=window.PLOTLYENV || {};                                    if (document.getElementById(\"611b2bcc-a032-4d47-b324-6b7903d26ca9\")) {                    Plotly.newPlot(                        \"611b2bcc-a032-4d47-b324-6b7903d26ca9\",                        [{\"marker\":{\"color\":\"red\"},\"name\":\"Negative\",\"orientation\":\"h\",\"text\":[1.0,0.35714285714285715,0.35294117647058826,0.05813953488372093,0.03529411764705882,0.03409090909090909,0.0,0.0,0.0,0.0,0.0,0.0,0.0,0.0,0.0,0.0],\"x\":[1.0,0.35714285714285715,0.35294117647058826,0.05813953488372093,0.03529411764705882,0.03409090909090909,0.0,0.0,0.0,0.0,0.0,0.0,0.0,0.0,0.0,0.0],\"y\":[\"Electric Clothes Dryer\",\"Electric Cooking\",\"Mininum Efficiency Whole Home Electrification\",\"Induction Cooking\",\"Mininum Efficiency Heat Pump with Existing Heat Backup\",\"Mininum Efficiency Heat Pump with Electric Heat Backup\",\"Basic Enclosure\",\"Basic Enclosure + HPWH + High Efficiency HP/Electric Backup\",\"Basic Enclosure + High Efficiency Whole Home Electrification\",\"Enhanced Enclosure\",\"Enhanced Enclosure + HPWH + High Efficiency HP/Electric Backup\",\"Enhanced Enclosure + High Efficiency Whole Home Electrification\",\"Heat Pump Clothes Dryer\",\"Heat Pump Water Heater\",\"High Efficiency Heat Pump with Electric Heat Backup\",\"High Efficiency Whole Home Electrification\"],\"type\":\"bar\",\"xaxis\":\"x\",\"yaxis\":\"y\",\"textposition\":\"inside\",\"texttemplate\":\"%{text:.0%}\"},{\"marker\":{\"color\":\"green\"},\"name\":\"Positive\",\"orientation\":\"h\",\"text\":[0.0,0.6428571428571429,0.6470588235294118,0.9418604651162791,0.9647058823529412,0.9659090909090909,1.0,1.0,1.0,1.0,1.0,1.0,1.0,1.0,1.0,1.0],\"x\":[0.0,0.6428571428571429,0.6470588235294118,0.9418604651162791,0.9647058823529412,0.9659090909090909,1.0,1.0,1.0,1.0,1.0,1.0,1.0,1.0,1.0,1.0],\"y\":[\"Electric Clothes Dryer\",\"Electric Cooking\",\"Mininum Efficiency Whole Home Electrification\",\"Induction Cooking\",\"Mininum Efficiency Heat Pump with Existing Heat Backup\",\"Mininum Efficiency Heat Pump with Electric Heat Backup\",\"Basic Enclosure\",\"Basic Enclosure + HPWH + High Efficiency HP/Electric Backup\",\"Basic Enclosure + High Efficiency Whole Home Electrification\",\"Enhanced Enclosure\",\"Enhanced Enclosure + HPWH + High Efficiency HP/Electric Backup\",\"Enhanced Enclosure + High Efficiency Whole Home Electrification\",\"Heat Pump Clothes Dryer\",\"Heat Pump Water Heater\",\"High Efficiency Heat Pump with Electric Heat Backup\",\"High Efficiency Whole Home Electrification\"],\"type\":\"bar\",\"xaxis\":\"x\",\"yaxis\":\"y\",\"textposition\":\"inside\",\"texttemplate\":\"%{text:.0%}\"},{\"marker\":{\"color\":\"red\"},\"orientation\":\"h\",\"showlegend\":false,\"text\":[0.0,0.0,0.0,0.0,0.023529411764705882,0.022727272727272728,0.0,0.0,0.0,0.0,0.0,0.0,0.0,0.0,0.0,0.0],\"x\":[0.0,0.0,0.0,0.0,0.023529411764705882,0.022727272727272728,0.0,0.0,0.0,0.0,0.0,0.0,0.0,0.0,0.0,0.0],\"y\":[\"Electric Clothes Dryer\",\"Electric Cooking\",\"Mininum Efficiency Whole Home Electrification\",\"Induction Cooking\",\"Mininum Efficiency Heat Pump with Existing Heat Backup\",\"Mininum Efficiency Heat Pump with Electric Heat Backup\",\"Basic Enclosure\",\"Basic Enclosure + HPWH + High Efficiency HP/Electric Backup\",\"Basic Enclosure + High Efficiency Whole Home Electrification\",\"Enhanced Enclosure\",\"Enhanced Enclosure + HPWH + High Efficiency HP/Electric Backup\",\"Enhanced Enclosure + High Efficiency Whole Home Electrification\",\"Heat Pump Clothes Dryer\",\"Heat Pump Water Heater\",\"High Efficiency Heat Pump with Electric Heat Backup\",\"High Efficiency Whole Home Electrification\"],\"type\":\"bar\",\"xaxis\":\"x2\",\"yaxis\":\"y2\",\"textposition\":\"inside\",\"texttemplate\":\"%{text:.0%}\"},{\"marker\":{\"color\":\"green\"},\"orientation\":\"h\",\"showlegend\":false,\"text\":[1.0,1.0,1.0,1.0,0.9764705882352941,0.9772727272727273,1.0,1.0,1.0,1.0,1.0,1.0,1.0,1.0,1.0,1.0],\"x\":[1.0,1.0,1.0,1.0,0.9764705882352941,0.9772727272727273,1.0,1.0,1.0,1.0,1.0,1.0,1.0,1.0,1.0,1.0],\"y\":[\"Electric Clothes Dryer\",\"Electric Cooking\",\"Mininum Efficiency Whole Home Electrification\",\"Induction Cooking\",\"Mininum Efficiency Heat Pump with Existing Heat Backup\",\"Mininum Efficiency Heat Pump with Electric Heat Backup\",\"Basic Enclosure\",\"Basic Enclosure + HPWH + High Efficiency HP/Electric Backup\",\"Basic Enclosure + High Efficiency Whole Home Electrification\",\"Enhanced Enclosure\",\"Enhanced Enclosure + HPWH + High Efficiency HP/Electric Backup\",\"Enhanced Enclosure + High Efficiency Whole Home Electrification\",\"Heat Pump Clothes Dryer\",\"Heat Pump Water Heater\",\"High Efficiency Heat Pump with Electric Heat Backup\",\"High Efficiency Whole Home Electrification\"],\"type\":\"bar\",\"xaxis\":\"x2\",\"yaxis\":\"y2\",\"textposition\":\"inside\",\"texttemplate\":\"%{text:.0%}\"},{\"marker\":{\"color\":\"red\"},\"orientation\":\"h\",\"showlegend\":false,\"text\":[0.0,0.0,0.0,0.0,0.03529411764705882,0.03409090909090909,0.0,0.0,0.0,0.0,0.0,0.0,0.0,0.0,0.0,0.0],\"x\":[0.0,0.0,0.0,0.0,0.03529411764705882,0.03409090909090909,0.0,0.0,0.0,0.0,0.0,0.0,0.0,0.0,0.0,0.0],\"y\":[\"Electric Clothes Dryer\",\"Electric Cooking\",\"Mininum Efficiency Whole Home Electrification\",\"Induction Cooking\",\"Mininum Efficiency Heat Pump with Existing Heat Backup\",\"Mininum Efficiency Heat Pump with Electric Heat Backup\",\"Basic Enclosure\",\"Basic Enclosure + HPWH + High Efficiency HP/Electric Backup\",\"Basic Enclosure + High Efficiency Whole Home Electrification\",\"Enhanced Enclosure\",\"Enhanced Enclosure + HPWH + High Efficiency HP/Electric Backup\",\"Enhanced Enclosure + High Efficiency Whole Home Electrification\",\"Heat Pump Clothes Dryer\",\"Heat Pump Water Heater\",\"High Efficiency Heat Pump with Electric Heat Backup\",\"High Efficiency Whole Home Electrification\"],\"type\":\"bar\",\"xaxis\":\"x3\",\"yaxis\":\"y3\",\"textposition\":\"inside\",\"texttemplate\":\"%{text:.0%}\"},{\"marker\":{\"color\":\"green\"},\"orientation\":\"h\",\"showlegend\":false,\"text\":[1.0,1.0,1.0,1.0,0.9647058823529412,0.9659090909090909,1.0,1.0,1.0,1.0,1.0,1.0,1.0,1.0,1.0,1.0],\"x\":[1.0,1.0,1.0,1.0,0.9647058823529412,0.9659090909090909,1.0,1.0,1.0,1.0,1.0,1.0,1.0,1.0,1.0,1.0],\"y\":[\"Electric Clothes Dryer\",\"Electric Cooking\",\"Mininum Efficiency Whole Home Electrification\",\"Induction Cooking\",\"Mininum Efficiency Heat Pump with Existing Heat Backup\",\"Mininum Efficiency Heat Pump with Electric Heat Backup\",\"Basic Enclosure\",\"Basic Enclosure + HPWH + High Efficiency HP/Electric Backup\",\"Basic Enclosure + High Efficiency Whole Home Electrification\",\"Enhanced Enclosure\",\"Enhanced Enclosure + HPWH + High Efficiency HP/Electric Backup\",\"Enhanced Enclosure + High Efficiency Whole Home Electrification\",\"Heat Pump Clothes Dryer\",\"Heat Pump Water Heater\",\"High Efficiency Heat Pump with Electric Heat Backup\",\"High Efficiency Whole Home Electrification\"],\"type\":\"bar\",\"xaxis\":\"x3\",\"yaxis\":\"y3\",\"textposition\":\"inside\",\"texttemplate\":\"%{text:.0%}\"}],                        {\"template\":{\"data\":{\"histogram2dcontour\":[{\"type\":\"histogram2dcontour\",\"colorbar\":{\"outlinewidth\":0,\"ticks\":\"\"},\"colorscale\":[[0.0,\"#0d0887\"],[0.1111111111111111,\"#46039f\"],[0.2222222222222222,\"#7201a8\"],[0.3333333333333333,\"#9c179e\"],[0.4444444444444444,\"#bd3786\"],[0.5555555555555556,\"#d8576b\"],[0.6666666666666666,\"#ed7953\"],[0.7777777777777778,\"#fb9f3a\"],[0.8888888888888888,\"#fdca26\"],[1.0,\"#f0f921\"]]}],\"choropleth\":[{\"type\":\"choropleth\",\"colorbar\":{\"outlinewidth\":0,\"ticks\":\"\"}}],\"histogram2d\":[{\"type\":\"histogram2d\",\"colorbar\":{\"outlinewidth\":0,\"ticks\":\"\"},\"colorscale\":[[0.0,\"#0d0887\"],[0.1111111111111111,\"#46039f\"],[0.2222222222222222,\"#7201a8\"],[0.3333333333333333,\"#9c179e\"],[0.4444444444444444,\"#bd3786\"],[0.5555555555555556,\"#d8576b\"],[0.6666666666666666,\"#ed7953\"],[0.7777777777777778,\"#fb9f3a\"],[0.8888888888888888,\"#fdca26\"],[1.0,\"#f0f921\"]]}],\"heatmap\":[{\"type\":\"heatmap\",\"colorbar\":{\"outlinewidth\":0,\"ticks\":\"\"},\"colorscale\":[[0.0,\"#0d0887\"],[0.1111111111111111,\"#46039f\"],[0.2222222222222222,\"#7201a8\"],[0.3333333333333333,\"#9c179e\"],[0.4444444444444444,\"#bd3786\"],[0.5555555555555556,\"#d8576b\"],[0.6666666666666666,\"#ed7953\"],[0.7777777777777778,\"#fb9f3a\"],[0.8888888888888888,\"#fdca26\"],[1.0,\"#f0f921\"]]}],\"heatmapgl\":[{\"type\":\"heatmapgl\",\"colorbar\":{\"outlinewidth\":0,\"ticks\":\"\"},\"colorscale\":[[0.0,\"#0d0887\"],[0.1111111111111111,\"#46039f\"],[0.2222222222222222,\"#7201a8\"],[0.3333333333333333,\"#9c179e\"],[0.4444444444444444,\"#bd3786\"],[0.5555555555555556,\"#d8576b\"],[0.6666666666666666,\"#ed7953\"],[0.7777777777777778,\"#fb9f3a\"],[0.8888888888888888,\"#fdca26\"],[1.0,\"#f0f921\"]]}],\"contourcarpet\":[{\"type\":\"contourcarpet\",\"colorbar\":{\"outlinewidth\":0,\"ticks\":\"\"}}],\"contour\":[{\"type\":\"contour\",\"colorbar\":{\"outlinewidth\":0,\"ticks\":\"\"},\"colorscale\":[[0.0,\"#0d0887\"],[0.1111111111111111,\"#46039f\"],[0.2222222222222222,\"#7201a8\"],[0.3333333333333333,\"#9c179e\"],[0.4444444444444444,\"#bd3786\"],[0.5555555555555556,\"#d8576b\"],[0.6666666666666666,\"#ed7953\"],[0.7777777777777778,\"#fb9f3a\"],[0.8888888888888888,\"#fdca26\"],[1.0,\"#f0f921\"]]}],\"surface\":[{\"type\":\"surface\",\"colorbar\":{\"outlinewidth\":0,\"ticks\":\"\"},\"colorscale\":[[0.0,\"#0d0887\"],[0.1111111111111111,\"#46039f\"],[0.2222222222222222,\"#7201a8\"],[0.3333333333333333,\"#9c179e\"],[0.4444444444444444,\"#bd3786\"],[0.5555555555555556,\"#d8576b\"],[0.6666666666666666,\"#ed7953\"],[0.7777777777777778,\"#fb9f3a\"],[0.8888888888888888,\"#fdca26\"],[1.0,\"#f0f921\"]]}],\"mesh3d\":[{\"type\":\"mesh3d\",\"colorbar\":{\"outlinewidth\":0,\"ticks\":\"\"}}],\"scatter\":[{\"fillpattern\":{\"fillmode\":\"overlay\",\"size\":10,\"solidity\":0.2},\"type\":\"scatter\"}],\"parcoords\":[{\"type\":\"parcoords\",\"line\":{\"colorbar\":{\"outlinewidth\":0,\"ticks\":\"\"}}}],\"scatterpolargl\":[{\"type\":\"scatterpolargl\",\"marker\":{\"colorbar\":{\"outlinewidth\":0,\"ticks\":\"\"}}}],\"bar\":[{\"error_x\":{\"color\":\"#2a3f5f\"},\"error_y\":{\"color\":\"#2a3f5f\"},\"marker\":{\"line\":{\"color\":\"#E5ECF6\",\"width\":0.5},\"pattern\":{\"fillmode\":\"overlay\",\"size\":10,\"solidity\":0.2}},\"type\":\"bar\"}],\"scattergeo\":[{\"type\":\"scattergeo\",\"marker\":{\"colorbar\":{\"outlinewidth\":0,\"ticks\":\"\"}}}],\"scatterpolar\":[{\"type\":\"scatterpolar\",\"marker\":{\"colorbar\":{\"outlinewidth\":0,\"ticks\":\"\"}}}],\"histogram\":[{\"marker\":{\"pattern\":{\"fillmode\":\"overlay\",\"size\":10,\"solidity\":0.2}},\"type\":\"histogram\"}],\"scattergl\":[{\"type\":\"scattergl\",\"marker\":{\"colorbar\":{\"outlinewidth\":0,\"ticks\":\"\"}}}],\"scatter3d\":[{\"type\":\"scatter3d\",\"line\":{\"colorbar\":{\"outlinewidth\":0,\"ticks\":\"\"}},\"marker\":{\"colorbar\":{\"outlinewidth\":0,\"ticks\":\"\"}}}],\"scattermapbox\":[{\"type\":\"scattermapbox\",\"marker\":{\"colorbar\":{\"outlinewidth\":0,\"ticks\":\"\"}}}],\"scatterternary\":[{\"type\":\"scatterternary\",\"marker\":{\"colorbar\":{\"outlinewidth\":0,\"ticks\":\"\"}}}],\"scattercarpet\":[{\"type\":\"scattercarpet\",\"marker\":{\"colorbar\":{\"outlinewidth\":0,\"ticks\":\"\"}}}],\"carpet\":[{\"aaxis\":{\"endlinecolor\":\"#2a3f5f\",\"gridcolor\":\"white\",\"linecolor\":\"white\",\"minorgridcolor\":\"white\",\"startlinecolor\":\"#2a3f5f\"},\"baxis\":{\"endlinecolor\":\"#2a3f5f\",\"gridcolor\":\"white\",\"linecolor\":\"white\",\"minorgridcolor\":\"white\",\"startlinecolor\":\"#2a3f5f\"},\"type\":\"carpet\"}],\"table\":[{\"cells\":{\"fill\":{\"color\":\"#EBF0F8\"},\"line\":{\"color\":\"white\"}},\"header\":{\"fill\":{\"color\":\"#C8D4E3\"},\"line\":{\"color\":\"white\"}},\"type\":\"table\"}],\"barpolar\":[{\"marker\":{\"line\":{\"color\":\"#E5ECF6\",\"width\":0.5},\"pattern\":{\"fillmode\":\"overlay\",\"size\":10,\"solidity\":0.2}},\"type\":\"barpolar\"}],\"pie\":[{\"automargin\":true,\"type\":\"pie\"}]},\"layout\":{\"autotypenumbers\":\"strict\",\"colorway\":[\"#636efa\",\"#EF553B\",\"#00cc96\",\"#ab63fa\",\"#FFA15A\",\"#19d3f3\",\"#FF6692\",\"#B6E880\",\"#FF97FF\",\"#FECB52\"],\"font\":{\"color\":\"#2a3f5f\"},\"hovermode\":\"closest\",\"hoverlabel\":{\"align\":\"left\"},\"paper_bgcolor\":\"white\",\"plot_bgcolor\":\"#E5ECF6\",\"polar\":{\"bgcolor\":\"#E5ECF6\",\"angularaxis\":{\"gridcolor\":\"white\",\"linecolor\":\"white\",\"ticks\":\"\"},\"radialaxis\":{\"gridcolor\":\"white\",\"linecolor\":\"white\",\"ticks\":\"\"}},\"ternary\":{\"bgcolor\":\"#E5ECF6\",\"aaxis\":{\"gridcolor\":\"white\",\"linecolor\":\"white\",\"ticks\":\"\"},\"baxis\":{\"gridcolor\":\"white\",\"linecolor\":\"white\",\"ticks\":\"\"},\"caxis\":{\"gridcolor\":\"white\",\"linecolor\":\"white\",\"ticks\":\"\"}},\"coloraxis\":{\"colorbar\":{\"outlinewidth\":0,\"ticks\":\"\"}},\"colorscale\":{\"sequential\":[[0.0,\"#0d0887\"],[0.1111111111111111,\"#46039f\"],[0.2222222222222222,\"#7201a8\"],[0.3333333333333333,\"#9c179e\"],[0.4444444444444444,\"#bd3786\"],[0.5555555555555556,\"#d8576b\"],[0.6666666666666666,\"#ed7953\"],[0.7777777777777778,\"#fb9f3a\"],[0.8888888888888888,\"#fdca26\"],[1.0,\"#f0f921\"]],\"sequentialminus\":[[0.0,\"#0d0887\"],[0.1111111111111111,\"#46039f\"],[0.2222222222222222,\"#7201a8\"],[0.3333333333333333,\"#9c179e\"],[0.4444444444444444,\"#bd3786\"],[0.5555555555555556,\"#d8576b\"],[0.6666666666666666,\"#ed7953\"],[0.7777777777777778,\"#fb9f3a\"],[0.8888888888888888,\"#fdca26\"],[1.0,\"#f0f921\"]],\"diverging\":[[0,\"#8e0152\"],[0.1,\"#c51b7d\"],[0.2,\"#de77ae\"],[0.3,\"#f1b6da\"],[0.4,\"#fde0ef\"],[0.5,\"#f7f7f7\"],[0.6,\"#e6f5d0\"],[0.7,\"#b8e186\"],[0.8,\"#7fbc41\"],[0.9,\"#4d9221\"],[1,\"#276419\"]]},\"xaxis\":{\"gridcolor\":\"white\",\"linecolor\":\"white\",\"ticks\":\"\",\"title\":{\"standoff\":15},\"zerolinecolor\":\"white\",\"automargin\":true,\"zerolinewidth\":2},\"yaxis\":{\"gridcolor\":\"white\",\"linecolor\":\"white\",\"ticks\":\"\",\"title\":{\"standoff\":15},\"zerolinecolor\":\"white\",\"automargin\":true,\"zerolinewidth\":2},\"scene\":{\"xaxis\":{\"backgroundcolor\":\"#E5ECF6\",\"gridcolor\":\"white\",\"linecolor\":\"white\",\"showbackground\":true,\"ticks\":\"\",\"zerolinecolor\":\"white\",\"gridwidth\":2},\"yaxis\":{\"backgroundcolor\":\"#E5ECF6\",\"gridcolor\":\"white\",\"linecolor\":\"white\",\"showbackground\":true,\"ticks\":\"\",\"zerolinecolor\":\"white\",\"gridwidth\":2},\"zaxis\":{\"backgroundcolor\":\"#E5ECF6\",\"gridcolor\":\"white\",\"linecolor\":\"white\",\"showbackground\":true,\"ticks\":\"\",\"zerolinecolor\":\"white\",\"gridwidth\":2}},\"shapedefaults\":{\"line\":{\"color\":\"#2a3f5f\"}},\"annotationdefaults\":{\"arrowcolor\":\"#2a3f5f\",\"arrowhead\":0,\"arrowwidth\":1},\"geo\":{\"bgcolor\":\"white\",\"landcolor\":\"#E5ECF6\",\"subunitcolor\":\"white\",\"showland\":true,\"showlakes\":true,\"lakecolor\":\"white\"},\"title\":{\"x\":0.05},\"mapbox\":{\"style\":\"light\"}}},\"xaxis\":{\"anchor\":\"y\",\"domain\":[0.0,0.2888888888888889],\"title\":{\"text\":\"Bill\"},\"visible\":true,\"tickformat\":\",.0%\"},\"yaxis\":{\"anchor\":\"x\",\"domain\":[0.0,1.0],\"visible\":true},\"xaxis2\":{\"anchor\":\"y2\",\"domain\":[0.35555555555555557,0.6444444444444445],\"title\":{\"text\":\"Emission\"},\"visible\":true,\"tickformat\":\",.0%\"},\"yaxis2\":{\"anchor\":\"x2\",\"domain\":[0.0,1.0],\"visible\":false},\"xaxis3\":{\"anchor\":\"y3\",\"domain\":[0.7111111111111111,1.0],\"title\":{\"text\":\"Total Energy\"},\"visible\":true,\"tickformat\":\",.0%\"},\"yaxis3\":{\"anchor\":\"x3\",\"domain\":[0.0,1.0],\"visible\":false},\"barmode\":\"relative\",\"font\":{\"size\":10},\"title\":{\"text\":\"Percentage of Household in Positive and Negative Savings\"},\"autosize\":false,\"width\":1000,\"height\":500},                        {\"responsive\": true}                    ).then(function(){\n",
       "                            \n",
       "var gd = document.getElementById('611b2bcc-a032-4d47-b324-6b7903d26ca9');\n",
       "var x = new MutationObserver(function (mutations, observer) {{\n",
       "        var display = window.getComputedStyle(gd).display;\n",
       "        if (!display || display === 'none') {{\n",
       "            console.log([gd, 'removed!']);\n",
       "            Plotly.purge(gd);\n",
       "            observer.disconnect();\n",
       "        }}\n",
       "}});\n",
       "\n",
       "// Listen for the removal of the full notebook cells\n",
       "var notebookContainer = gd.closest('#notebook-container');\n",
       "if (notebookContainer) {{\n",
       "    x.observe(notebookContainer, {childList: true});\n",
       "}}\n",
       "\n",
       "// Listen for the clearing of the current output cell\n",
       "var outputEl = gd.closest('.output');\n",
       "if (outputEl) {{\n",
       "    x.observe(outputEl, {childList: true});\n",
       "}}\n",
       "\n",
       "                        })                };                });            </script>        </div>"
      ]
     },
     "metadata": {},
     "output_type": "display_data"
    }
   ],
   "source": [
    "segment = 'segment2'\n",
    "figure_positive_negative_savings(segment, community_results) "
   ]
  },
  {
   "cell_type": "markdown",
   "id": "5bcfb89a",
   "metadata": {},
   "source": [
    "### Segment 3"
   ]
  },
  {
   "cell_type": "code",
   "execution_count": 68,
   "id": "5c5c3d99",
   "metadata": {},
   "outputs": [
    {
     "data": {
      "application/vnd.plotly.v1+json": {
       "config": {
        "plotlyServerURL": "https://plot.ly"
       },
       "data": [
        {
         "marker": {
          "color": "red"
         },
         "name": "Negative",
         "orientation": "h",
         "text": [
          1,
          0.7,
          0.4117647058823529,
          0.0546875,
          0.015503875968992248,
          0.015503875968992248,
          0.008064516129032258,
          0.007874015748031496,
          0,
          0,
          0,
          0,
          0,
          0,
          0,
          0
         ],
         "textposition": "inside",
         "texttemplate": "%{text:.0%}",
         "type": "bar",
         "x": [
          1,
          0.7,
          0.4117647058823529,
          0.0546875,
          0.015503875968992248,
          0.015503875968992248,
          0.008064516129032258,
          0.007874015748031496,
          0,
          0,
          0,
          0,
          0,
          0,
          0,
          0
         ],
         "xaxis": "x",
         "y": [
          "Electric Clothes Dryer",
          "Electric Cooking",
          "Mininum Efficiency Whole Home Electrification",
          "Induction Cooking",
          "Mininum Efficiency Heat Pump with Electric Heat Backup",
          "Mininum Efficiency Heat Pump with Existing Heat Backup",
          "Heat Pump Clothes Dryer",
          "Heat Pump Water Heater",
          "Basic Enclosure",
          "Basic Enclosure + HPWH + High Efficiency HP/Electric Backup",
          "Basic Enclosure + High Efficiency Whole Home Electrification",
          "Enhanced Enclosure",
          "Enhanced Enclosure + HPWH + High Efficiency HP/Electric Backup",
          "Enhanced Enclosure + High Efficiency Whole Home Electrification",
          "High Efficiency Heat Pump with Electric Heat Backup",
          "High Efficiency Whole Home Electrification"
         ],
         "yaxis": "y"
        },
        {
         "marker": {
          "color": "green"
         },
         "name": "Positive",
         "orientation": "h",
         "text": [
          0,
          0.3,
          0.5882352941176471,
          0.9453125,
          0.9844961240310077,
          0.9844961240310077,
          0.9919354838709677,
          0.9921259842519685,
          1,
          1,
          1,
          1,
          1,
          1,
          1,
          1
         ],
         "textposition": "inside",
         "texttemplate": "%{text:.0%}",
         "type": "bar",
         "x": [
          0,
          0.3,
          0.5882352941176471,
          0.9453125,
          0.9844961240310077,
          0.9844961240310077,
          0.9919354838709677,
          0.9921259842519685,
          1,
          1,
          1,
          1,
          1,
          1,
          1,
          1
         ],
         "xaxis": "x",
         "y": [
          "Electric Clothes Dryer",
          "Electric Cooking",
          "Mininum Efficiency Whole Home Electrification",
          "Induction Cooking",
          "Mininum Efficiency Heat Pump with Electric Heat Backup",
          "Mininum Efficiency Heat Pump with Existing Heat Backup",
          "Heat Pump Clothes Dryer",
          "Heat Pump Water Heater",
          "Basic Enclosure",
          "Basic Enclosure + HPWH + High Efficiency HP/Electric Backup",
          "Basic Enclosure + High Efficiency Whole Home Electrification",
          "Enhanced Enclosure",
          "Enhanced Enclosure + HPWH + High Efficiency HP/Electric Backup",
          "Enhanced Enclosure + High Efficiency Whole Home Electrification",
          "High Efficiency Heat Pump with Electric Heat Backup",
          "High Efficiency Whole Home Electrification"
         ],
         "yaxis": "y"
        },
        {
         "marker": {
          "color": "red"
         },
         "orientation": "h",
         "showlegend": false,
         "text": [
          0,
          0,
          0,
          0,
          0.007751937984496124,
          0.015503875968992248,
          0,
          0,
          0,
          0,
          0,
          0,
          0,
          0,
          0,
          0
         ],
         "textposition": "inside",
         "texttemplate": "%{text:.0%}",
         "type": "bar",
         "x": [
          0,
          0,
          0,
          0,
          0.007751937984496124,
          0.015503875968992248,
          0,
          0,
          0,
          0,
          0,
          0,
          0,
          0,
          0,
          0
         ],
         "xaxis": "x2",
         "y": [
          "Electric Clothes Dryer",
          "Electric Cooking",
          "Mininum Efficiency Whole Home Electrification",
          "Induction Cooking",
          "Mininum Efficiency Heat Pump with Electric Heat Backup",
          "Mininum Efficiency Heat Pump with Existing Heat Backup",
          "Heat Pump Clothes Dryer",
          "Heat Pump Water Heater",
          "Basic Enclosure",
          "Basic Enclosure + HPWH + High Efficiency HP/Electric Backup",
          "Basic Enclosure + High Efficiency Whole Home Electrification",
          "Enhanced Enclosure",
          "Enhanced Enclosure + HPWH + High Efficiency HP/Electric Backup",
          "Enhanced Enclosure + High Efficiency Whole Home Electrification",
          "High Efficiency Heat Pump with Electric Heat Backup",
          "High Efficiency Whole Home Electrification"
         ],
         "yaxis": "y2"
        },
        {
         "marker": {
          "color": "green"
         },
         "orientation": "h",
         "showlegend": false,
         "text": [
          1,
          1,
          1,
          1,
          0.9922480620155039,
          0.9844961240310077,
          1,
          1,
          1,
          1,
          1,
          1,
          1,
          1,
          1,
          1
         ],
         "textposition": "inside",
         "texttemplate": "%{text:.0%}",
         "type": "bar",
         "x": [
          1,
          1,
          1,
          1,
          0.9922480620155039,
          0.9844961240310077,
          1,
          1,
          1,
          1,
          1,
          1,
          1,
          1,
          1,
          1
         ],
         "xaxis": "x2",
         "y": [
          "Electric Clothes Dryer",
          "Electric Cooking",
          "Mininum Efficiency Whole Home Electrification",
          "Induction Cooking",
          "Mininum Efficiency Heat Pump with Electric Heat Backup",
          "Mininum Efficiency Heat Pump with Existing Heat Backup",
          "Heat Pump Clothes Dryer",
          "Heat Pump Water Heater",
          "Basic Enclosure",
          "Basic Enclosure + HPWH + High Efficiency HP/Electric Backup",
          "Basic Enclosure + High Efficiency Whole Home Electrification",
          "Enhanced Enclosure",
          "Enhanced Enclosure + HPWH + High Efficiency HP/Electric Backup",
          "Enhanced Enclosure + High Efficiency Whole Home Electrification",
          "High Efficiency Heat Pump with Electric Heat Backup",
          "High Efficiency Whole Home Electrification"
         ],
         "yaxis": "y2"
        },
        {
         "marker": {
          "color": "red"
         },
         "orientation": "h",
         "showlegend": false,
         "text": [
          0,
          0,
          0,
          0,
          0.015503875968992248,
          0.023255813953488372,
          0,
          0,
          0,
          0,
          0,
          0,
          0,
          0,
          0,
          0
         ],
         "textposition": "inside",
         "texttemplate": "%{text:.0%}",
         "type": "bar",
         "x": [
          0,
          0,
          0,
          0,
          0.015503875968992248,
          0.023255813953488372,
          0,
          0,
          0,
          0,
          0,
          0,
          0,
          0,
          0,
          0
         ],
         "xaxis": "x3",
         "y": [
          "Electric Clothes Dryer",
          "Electric Cooking",
          "Mininum Efficiency Whole Home Electrification",
          "Induction Cooking",
          "Mininum Efficiency Heat Pump with Electric Heat Backup",
          "Mininum Efficiency Heat Pump with Existing Heat Backup",
          "Heat Pump Clothes Dryer",
          "Heat Pump Water Heater",
          "Basic Enclosure",
          "Basic Enclosure + HPWH + High Efficiency HP/Electric Backup",
          "Basic Enclosure + High Efficiency Whole Home Electrification",
          "Enhanced Enclosure",
          "Enhanced Enclosure + HPWH + High Efficiency HP/Electric Backup",
          "Enhanced Enclosure + High Efficiency Whole Home Electrification",
          "High Efficiency Heat Pump with Electric Heat Backup",
          "High Efficiency Whole Home Electrification"
         ],
         "yaxis": "y3"
        },
        {
         "marker": {
          "color": "green"
         },
         "orientation": "h",
         "showlegend": false,
         "text": [
          1,
          1,
          1,
          1,
          0.9844961240310077,
          0.9767441860465116,
          1,
          1,
          1,
          1,
          1,
          1,
          1,
          1,
          1,
          1
         ],
         "textposition": "inside",
         "texttemplate": "%{text:.0%}",
         "type": "bar",
         "x": [
          1,
          1,
          1,
          1,
          0.9844961240310077,
          0.9767441860465116,
          1,
          1,
          1,
          1,
          1,
          1,
          1,
          1,
          1,
          1
         ],
         "xaxis": "x3",
         "y": [
          "Electric Clothes Dryer",
          "Electric Cooking",
          "Mininum Efficiency Whole Home Electrification",
          "Induction Cooking",
          "Mininum Efficiency Heat Pump with Electric Heat Backup",
          "Mininum Efficiency Heat Pump with Existing Heat Backup",
          "Heat Pump Clothes Dryer",
          "Heat Pump Water Heater",
          "Basic Enclosure",
          "Basic Enclosure + HPWH + High Efficiency HP/Electric Backup",
          "Basic Enclosure + High Efficiency Whole Home Electrification",
          "Enhanced Enclosure",
          "Enhanced Enclosure + HPWH + High Efficiency HP/Electric Backup",
          "Enhanced Enclosure + High Efficiency Whole Home Electrification",
          "High Efficiency Heat Pump with Electric Heat Backup",
          "High Efficiency Whole Home Electrification"
         ],
         "yaxis": "y3"
        }
       ],
       "layout": {
        "autosize": false,
        "barmode": "relative",
        "font": {
         "size": 10
        },
        "height": 500,
        "template": {
         "data": {
          "bar": [
           {
            "error_x": {
             "color": "#2a3f5f"
            },
            "error_y": {
             "color": "#2a3f5f"
            },
            "marker": {
             "line": {
              "color": "#E5ECF6",
              "width": 0.5
             },
             "pattern": {
              "fillmode": "overlay",
              "size": 10,
              "solidity": 0.2
             }
            },
            "type": "bar"
           }
          ],
          "barpolar": [
           {
            "marker": {
             "line": {
              "color": "#E5ECF6",
              "width": 0.5
             },
             "pattern": {
              "fillmode": "overlay",
              "size": 10,
              "solidity": 0.2
             }
            },
            "type": "barpolar"
           }
          ],
          "carpet": [
           {
            "aaxis": {
             "endlinecolor": "#2a3f5f",
             "gridcolor": "white",
             "linecolor": "white",
             "minorgridcolor": "white",
             "startlinecolor": "#2a3f5f"
            },
            "baxis": {
             "endlinecolor": "#2a3f5f",
             "gridcolor": "white",
             "linecolor": "white",
             "minorgridcolor": "white",
             "startlinecolor": "#2a3f5f"
            },
            "type": "carpet"
           }
          ],
          "choropleth": [
           {
            "colorbar": {
             "outlinewidth": 0,
             "ticks": ""
            },
            "type": "choropleth"
           }
          ],
          "contour": [
           {
            "colorbar": {
             "outlinewidth": 0,
             "ticks": ""
            },
            "colorscale": [
             [
              0,
              "#0d0887"
             ],
             [
              0.1111111111111111,
              "#46039f"
             ],
             [
              0.2222222222222222,
              "#7201a8"
             ],
             [
              0.3333333333333333,
              "#9c179e"
             ],
             [
              0.4444444444444444,
              "#bd3786"
             ],
             [
              0.5555555555555556,
              "#d8576b"
             ],
             [
              0.6666666666666666,
              "#ed7953"
             ],
             [
              0.7777777777777778,
              "#fb9f3a"
             ],
             [
              0.8888888888888888,
              "#fdca26"
             ],
             [
              1,
              "#f0f921"
             ]
            ],
            "type": "contour"
           }
          ],
          "contourcarpet": [
           {
            "colorbar": {
             "outlinewidth": 0,
             "ticks": ""
            },
            "type": "contourcarpet"
           }
          ],
          "heatmap": [
           {
            "colorbar": {
             "outlinewidth": 0,
             "ticks": ""
            },
            "colorscale": [
             [
              0,
              "#0d0887"
             ],
             [
              0.1111111111111111,
              "#46039f"
             ],
             [
              0.2222222222222222,
              "#7201a8"
             ],
             [
              0.3333333333333333,
              "#9c179e"
             ],
             [
              0.4444444444444444,
              "#bd3786"
             ],
             [
              0.5555555555555556,
              "#d8576b"
             ],
             [
              0.6666666666666666,
              "#ed7953"
             ],
             [
              0.7777777777777778,
              "#fb9f3a"
             ],
             [
              0.8888888888888888,
              "#fdca26"
             ],
             [
              1,
              "#f0f921"
             ]
            ],
            "type": "heatmap"
           }
          ],
          "heatmapgl": [
           {
            "colorbar": {
             "outlinewidth": 0,
             "ticks": ""
            },
            "colorscale": [
             [
              0,
              "#0d0887"
             ],
             [
              0.1111111111111111,
              "#46039f"
             ],
             [
              0.2222222222222222,
              "#7201a8"
             ],
             [
              0.3333333333333333,
              "#9c179e"
             ],
             [
              0.4444444444444444,
              "#bd3786"
             ],
             [
              0.5555555555555556,
              "#d8576b"
             ],
             [
              0.6666666666666666,
              "#ed7953"
             ],
             [
              0.7777777777777778,
              "#fb9f3a"
             ],
             [
              0.8888888888888888,
              "#fdca26"
             ],
             [
              1,
              "#f0f921"
             ]
            ],
            "type": "heatmapgl"
           }
          ],
          "histogram": [
           {
            "marker": {
             "pattern": {
              "fillmode": "overlay",
              "size": 10,
              "solidity": 0.2
             }
            },
            "type": "histogram"
           }
          ],
          "histogram2d": [
           {
            "colorbar": {
             "outlinewidth": 0,
             "ticks": ""
            },
            "colorscale": [
             [
              0,
              "#0d0887"
             ],
             [
              0.1111111111111111,
              "#46039f"
             ],
             [
              0.2222222222222222,
              "#7201a8"
             ],
             [
              0.3333333333333333,
              "#9c179e"
             ],
             [
              0.4444444444444444,
              "#bd3786"
             ],
             [
              0.5555555555555556,
              "#d8576b"
             ],
             [
              0.6666666666666666,
              "#ed7953"
             ],
             [
              0.7777777777777778,
              "#fb9f3a"
             ],
             [
              0.8888888888888888,
              "#fdca26"
             ],
             [
              1,
              "#f0f921"
             ]
            ],
            "type": "histogram2d"
           }
          ],
          "histogram2dcontour": [
           {
            "colorbar": {
             "outlinewidth": 0,
             "ticks": ""
            },
            "colorscale": [
             [
              0,
              "#0d0887"
             ],
             [
              0.1111111111111111,
              "#46039f"
             ],
             [
              0.2222222222222222,
              "#7201a8"
             ],
             [
              0.3333333333333333,
              "#9c179e"
             ],
             [
              0.4444444444444444,
              "#bd3786"
             ],
             [
              0.5555555555555556,
              "#d8576b"
             ],
             [
              0.6666666666666666,
              "#ed7953"
             ],
             [
              0.7777777777777778,
              "#fb9f3a"
             ],
             [
              0.8888888888888888,
              "#fdca26"
             ],
             [
              1,
              "#f0f921"
             ]
            ],
            "type": "histogram2dcontour"
           }
          ],
          "mesh3d": [
           {
            "colorbar": {
             "outlinewidth": 0,
             "ticks": ""
            },
            "type": "mesh3d"
           }
          ],
          "parcoords": [
           {
            "line": {
             "colorbar": {
              "outlinewidth": 0,
              "ticks": ""
             }
            },
            "type": "parcoords"
           }
          ],
          "pie": [
           {
            "automargin": true,
            "type": "pie"
           }
          ],
          "scatter": [
           {
            "fillpattern": {
             "fillmode": "overlay",
             "size": 10,
             "solidity": 0.2
            },
            "type": "scatter"
           }
          ],
          "scatter3d": [
           {
            "line": {
             "colorbar": {
              "outlinewidth": 0,
              "ticks": ""
             }
            },
            "marker": {
             "colorbar": {
              "outlinewidth": 0,
              "ticks": ""
             }
            },
            "type": "scatter3d"
           }
          ],
          "scattercarpet": [
           {
            "marker": {
             "colorbar": {
              "outlinewidth": 0,
              "ticks": ""
             }
            },
            "type": "scattercarpet"
           }
          ],
          "scattergeo": [
           {
            "marker": {
             "colorbar": {
              "outlinewidth": 0,
              "ticks": ""
             }
            },
            "type": "scattergeo"
           }
          ],
          "scattergl": [
           {
            "marker": {
             "colorbar": {
              "outlinewidth": 0,
              "ticks": ""
             }
            },
            "type": "scattergl"
           }
          ],
          "scattermapbox": [
           {
            "marker": {
             "colorbar": {
              "outlinewidth": 0,
              "ticks": ""
             }
            },
            "type": "scattermapbox"
           }
          ],
          "scatterpolar": [
           {
            "marker": {
             "colorbar": {
              "outlinewidth": 0,
              "ticks": ""
             }
            },
            "type": "scatterpolar"
           }
          ],
          "scatterpolargl": [
           {
            "marker": {
             "colorbar": {
              "outlinewidth": 0,
              "ticks": ""
             }
            },
            "type": "scatterpolargl"
           }
          ],
          "scatterternary": [
           {
            "marker": {
             "colorbar": {
              "outlinewidth": 0,
              "ticks": ""
             }
            },
            "type": "scatterternary"
           }
          ],
          "surface": [
           {
            "colorbar": {
             "outlinewidth": 0,
             "ticks": ""
            },
            "colorscale": [
             [
              0,
              "#0d0887"
             ],
             [
              0.1111111111111111,
              "#46039f"
             ],
             [
              0.2222222222222222,
              "#7201a8"
             ],
             [
              0.3333333333333333,
              "#9c179e"
             ],
             [
              0.4444444444444444,
              "#bd3786"
             ],
             [
              0.5555555555555556,
              "#d8576b"
             ],
             [
              0.6666666666666666,
              "#ed7953"
             ],
             [
              0.7777777777777778,
              "#fb9f3a"
             ],
             [
              0.8888888888888888,
              "#fdca26"
             ],
             [
              1,
              "#f0f921"
             ]
            ],
            "type": "surface"
           }
          ],
          "table": [
           {
            "cells": {
             "fill": {
              "color": "#EBF0F8"
             },
             "line": {
              "color": "white"
             }
            },
            "header": {
             "fill": {
              "color": "#C8D4E3"
             },
             "line": {
              "color": "white"
             }
            },
            "type": "table"
           }
          ]
         },
         "layout": {
          "annotationdefaults": {
           "arrowcolor": "#2a3f5f",
           "arrowhead": 0,
           "arrowwidth": 1
          },
          "autotypenumbers": "strict",
          "coloraxis": {
           "colorbar": {
            "outlinewidth": 0,
            "ticks": ""
           }
          },
          "colorscale": {
           "diverging": [
            [
             0,
             "#8e0152"
            ],
            [
             0.1,
             "#c51b7d"
            ],
            [
             0.2,
             "#de77ae"
            ],
            [
             0.3,
             "#f1b6da"
            ],
            [
             0.4,
             "#fde0ef"
            ],
            [
             0.5,
             "#f7f7f7"
            ],
            [
             0.6,
             "#e6f5d0"
            ],
            [
             0.7,
             "#b8e186"
            ],
            [
             0.8,
             "#7fbc41"
            ],
            [
             0.9,
             "#4d9221"
            ],
            [
             1,
             "#276419"
            ]
           ],
           "sequential": [
            [
             0,
             "#0d0887"
            ],
            [
             0.1111111111111111,
             "#46039f"
            ],
            [
             0.2222222222222222,
             "#7201a8"
            ],
            [
             0.3333333333333333,
             "#9c179e"
            ],
            [
             0.4444444444444444,
             "#bd3786"
            ],
            [
             0.5555555555555556,
             "#d8576b"
            ],
            [
             0.6666666666666666,
             "#ed7953"
            ],
            [
             0.7777777777777778,
             "#fb9f3a"
            ],
            [
             0.8888888888888888,
             "#fdca26"
            ],
            [
             1,
             "#f0f921"
            ]
           ],
           "sequentialminus": [
            [
             0,
             "#0d0887"
            ],
            [
             0.1111111111111111,
             "#46039f"
            ],
            [
             0.2222222222222222,
             "#7201a8"
            ],
            [
             0.3333333333333333,
             "#9c179e"
            ],
            [
             0.4444444444444444,
             "#bd3786"
            ],
            [
             0.5555555555555556,
             "#d8576b"
            ],
            [
             0.6666666666666666,
             "#ed7953"
            ],
            [
             0.7777777777777778,
             "#fb9f3a"
            ],
            [
             0.8888888888888888,
             "#fdca26"
            ],
            [
             1,
             "#f0f921"
            ]
           ]
          },
          "colorway": [
           "#636efa",
           "#EF553B",
           "#00cc96",
           "#ab63fa",
           "#FFA15A",
           "#19d3f3",
           "#FF6692",
           "#B6E880",
           "#FF97FF",
           "#FECB52"
          ],
          "font": {
           "color": "#2a3f5f"
          },
          "geo": {
           "bgcolor": "white",
           "lakecolor": "white",
           "landcolor": "#E5ECF6",
           "showlakes": true,
           "showland": true,
           "subunitcolor": "white"
          },
          "hoverlabel": {
           "align": "left"
          },
          "hovermode": "closest",
          "mapbox": {
           "style": "light"
          },
          "paper_bgcolor": "white",
          "plot_bgcolor": "#E5ECF6",
          "polar": {
           "angularaxis": {
            "gridcolor": "white",
            "linecolor": "white",
            "ticks": ""
           },
           "bgcolor": "#E5ECF6",
           "radialaxis": {
            "gridcolor": "white",
            "linecolor": "white",
            "ticks": ""
           }
          },
          "scene": {
           "xaxis": {
            "backgroundcolor": "#E5ECF6",
            "gridcolor": "white",
            "gridwidth": 2,
            "linecolor": "white",
            "showbackground": true,
            "ticks": "",
            "zerolinecolor": "white"
           },
           "yaxis": {
            "backgroundcolor": "#E5ECF6",
            "gridcolor": "white",
            "gridwidth": 2,
            "linecolor": "white",
            "showbackground": true,
            "ticks": "",
            "zerolinecolor": "white"
           },
           "zaxis": {
            "backgroundcolor": "#E5ECF6",
            "gridcolor": "white",
            "gridwidth": 2,
            "linecolor": "white",
            "showbackground": true,
            "ticks": "",
            "zerolinecolor": "white"
           }
          },
          "shapedefaults": {
           "line": {
            "color": "#2a3f5f"
           }
          },
          "ternary": {
           "aaxis": {
            "gridcolor": "white",
            "linecolor": "white",
            "ticks": ""
           },
           "baxis": {
            "gridcolor": "white",
            "linecolor": "white",
            "ticks": ""
           },
           "bgcolor": "#E5ECF6",
           "caxis": {
            "gridcolor": "white",
            "linecolor": "white",
            "ticks": ""
           }
          },
          "title": {
           "x": 0.05
          },
          "xaxis": {
           "automargin": true,
           "gridcolor": "white",
           "linecolor": "white",
           "ticks": "",
           "title": {
            "standoff": 15
           },
           "zerolinecolor": "white",
           "zerolinewidth": 2
          },
          "yaxis": {
           "automargin": true,
           "gridcolor": "white",
           "linecolor": "white",
           "ticks": "",
           "title": {
            "standoff": 15
           },
           "zerolinecolor": "white",
           "zerolinewidth": 2
          }
         }
        },
        "title": {
         "text": "Percentage of Household in Positive and Negative Savings"
        },
        "width": 1000,
        "xaxis": {
         "anchor": "y",
         "domain": [
          0,
          0.2888888888888889
         ],
         "tickformat": ",.0%",
         "title": {
          "text": "Bill"
         },
         "visible": true
        },
        "xaxis2": {
         "anchor": "y2",
         "domain": [
          0.35555555555555557,
          0.6444444444444445
         ],
         "tickformat": ",.0%",
         "title": {
          "text": "Emission"
         },
         "visible": true
        },
        "xaxis3": {
         "anchor": "y3",
         "domain": [
          0.7111111111111111,
          1
         ],
         "tickformat": ",.0%",
         "title": {
          "text": "Total Energy"
         },
         "visible": true
        },
        "yaxis": {
         "anchor": "x",
         "domain": [
          0,
          1
         ],
         "visible": true
        },
        "yaxis2": {
         "anchor": "x2",
         "domain": [
          0,
          1
         ],
         "visible": false
        },
        "yaxis3": {
         "anchor": "x3",
         "domain": [
          0,
          1
         ],
         "visible": false
        }
       }
      },
      "text/html": [
       "<div>                            <div id=\"2fb1d271-9e64-457f-8ae2-aa3fd9d4d15b\" class=\"plotly-graph-div\" style=\"height:500px; width:1000px;\"></div>            <script type=\"text/javascript\">                require([\"plotly\"], function(Plotly) {                    window.PLOTLYENV=window.PLOTLYENV || {};                                    if (document.getElementById(\"2fb1d271-9e64-457f-8ae2-aa3fd9d4d15b\")) {                    Plotly.newPlot(                        \"2fb1d271-9e64-457f-8ae2-aa3fd9d4d15b\",                        [{\"marker\":{\"color\":\"red\"},\"name\":\"Negative\",\"orientation\":\"h\",\"text\":[1.0,0.7,0.4117647058823529,0.0546875,0.015503875968992248,0.015503875968992248,0.008064516129032258,0.007874015748031496,0.0,0.0,0.0,0.0,0.0,0.0,0.0,0.0],\"x\":[1.0,0.7,0.4117647058823529,0.0546875,0.015503875968992248,0.015503875968992248,0.008064516129032258,0.007874015748031496,0.0,0.0,0.0,0.0,0.0,0.0,0.0,0.0],\"y\":[\"Electric Clothes Dryer\",\"Electric Cooking\",\"Mininum Efficiency Whole Home Electrification\",\"Induction Cooking\",\"Mininum Efficiency Heat Pump with Electric Heat Backup\",\"Mininum Efficiency Heat Pump with Existing Heat Backup\",\"Heat Pump Clothes Dryer\",\"Heat Pump Water Heater\",\"Basic Enclosure\",\"Basic Enclosure + HPWH + High Efficiency HP/Electric Backup\",\"Basic Enclosure + High Efficiency Whole Home Electrification\",\"Enhanced Enclosure\",\"Enhanced Enclosure + HPWH + High Efficiency HP/Electric Backup\",\"Enhanced Enclosure + High Efficiency Whole Home Electrification\",\"High Efficiency Heat Pump with Electric Heat Backup\",\"High Efficiency Whole Home Electrification\"],\"type\":\"bar\",\"xaxis\":\"x\",\"yaxis\":\"y\",\"textposition\":\"inside\",\"texttemplate\":\"%{text:.0%}\"},{\"marker\":{\"color\":\"green\"},\"name\":\"Positive\",\"orientation\":\"h\",\"text\":[0.0,0.3,0.5882352941176471,0.9453125,0.9844961240310077,0.9844961240310077,0.9919354838709677,0.9921259842519685,1.0,1.0,1.0,1.0,1.0,1.0,1.0,1.0],\"x\":[0.0,0.3,0.5882352941176471,0.9453125,0.9844961240310077,0.9844961240310077,0.9919354838709677,0.9921259842519685,1.0,1.0,1.0,1.0,1.0,1.0,1.0,1.0],\"y\":[\"Electric Clothes Dryer\",\"Electric Cooking\",\"Mininum Efficiency Whole Home Electrification\",\"Induction Cooking\",\"Mininum Efficiency Heat Pump with Electric Heat Backup\",\"Mininum Efficiency Heat Pump with Existing Heat Backup\",\"Heat Pump Clothes Dryer\",\"Heat Pump Water Heater\",\"Basic Enclosure\",\"Basic Enclosure + HPWH + High Efficiency HP/Electric Backup\",\"Basic Enclosure + High Efficiency Whole Home Electrification\",\"Enhanced Enclosure\",\"Enhanced Enclosure + HPWH + High Efficiency HP/Electric Backup\",\"Enhanced Enclosure + High Efficiency Whole Home Electrification\",\"High Efficiency Heat Pump with Electric Heat Backup\",\"High Efficiency Whole Home Electrification\"],\"type\":\"bar\",\"xaxis\":\"x\",\"yaxis\":\"y\",\"textposition\":\"inside\",\"texttemplate\":\"%{text:.0%}\"},{\"marker\":{\"color\":\"red\"},\"orientation\":\"h\",\"showlegend\":false,\"text\":[0.0,0.0,0.0,0.0,0.007751937984496124,0.015503875968992248,0.0,0.0,0.0,0.0,0.0,0.0,0.0,0.0,0.0,0.0],\"x\":[0.0,0.0,0.0,0.0,0.007751937984496124,0.015503875968992248,0.0,0.0,0.0,0.0,0.0,0.0,0.0,0.0,0.0,0.0],\"y\":[\"Electric Clothes Dryer\",\"Electric Cooking\",\"Mininum Efficiency Whole Home Electrification\",\"Induction Cooking\",\"Mininum Efficiency Heat Pump with Electric Heat Backup\",\"Mininum Efficiency Heat Pump with Existing Heat Backup\",\"Heat Pump Clothes Dryer\",\"Heat Pump Water Heater\",\"Basic Enclosure\",\"Basic Enclosure + HPWH + High Efficiency HP/Electric Backup\",\"Basic Enclosure + High Efficiency Whole Home Electrification\",\"Enhanced Enclosure\",\"Enhanced Enclosure + HPWH + High Efficiency HP/Electric Backup\",\"Enhanced Enclosure + High Efficiency Whole Home Electrification\",\"High Efficiency Heat Pump with Electric Heat Backup\",\"High Efficiency Whole Home Electrification\"],\"type\":\"bar\",\"xaxis\":\"x2\",\"yaxis\":\"y2\",\"textposition\":\"inside\",\"texttemplate\":\"%{text:.0%}\"},{\"marker\":{\"color\":\"green\"},\"orientation\":\"h\",\"showlegend\":false,\"text\":[1.0,1.0,1.0,1.0,0.9922480620155039,0.9844961240310077,1.0,1.0,1.0,1.0,1.0,1.0,1.0,1.0,1.0,1.0],\"x\":[1.0,1.0,1.0,1.0,0.9922480620155039,0.9844961240310077,1.0,1.0,1.0,1.0,1.0,1.0,1.0,1.0,1.0,1.0],\"y\":[\"Electric Clothes Dryer\",\"Electric Cooking\",\"Mininum Efficiency Whole Home Electrification\",\"Induction Cooking\",\"Mininum Efficiency Heat Pump with Electric Heat Backup\",\"Mininum Efficiency Heat Pump with Existing Heat Backup\",\"Heat Pump Clothes Dryer\",\"Heat Pump Water Heater\",\"Basic Enclosure\",\"Basic Enclosure + HPWH + High Efficiency HP/Electric Backup\",\"Basic Enclosure + High Efficiency Whole Home Electrification\",\"Enhanced Enclosure\",\"Enhanced Enclosure + HPWH + High Efficiency HP/Electric Backup\",\"Enhanced Enclosure + High Efficiency Whole Home Electrification\",\"High Efficiency Heat Pump with Electric Heat Backup\",\"High Efficiency Whole Home Electrification\"],\"type\":\"bar\",\"xaxis\":\"x2\",\"yaxis\":\"y2\",\"textposition\":\"inside\",\"texttemplate\":\"%{text:.0%}\"},{\"marker\":{\"color\":\"red\"},\"orientation\":\"h\",\"showlegend\":false,\"text\":[0.0,0.0,0.0,0.0,0.015503875968992248,0.023255813953488372,0.0,0.0,0.0,0.0,0.0,0.0,0.0,0.0,0.0,0.0],\"x\":[0.0,0.0,0.0,0.0,0.015503875968992248,0.023255813953488372,0.0,0.0,0.0,0.0,0.0,0.0,0.0,0.0,0.0,0.0],\"y\":[\"Electric Clothes Dryer\",\"Electric Cooking\",\"Mininum Efficiency Whole Home Electrification\",\"Induction Cooking\",\"Mininum Efficiency Heat Pump with Electric Heat Backup\",\"Mininum Efficiency Heat Pump with Existing Heat Backup\",\"Heat Pump Clothes Dryer\",\"Heat Pump Water Heater\",\"Basic Enclosure\",\"Basic Enclosure + HPWH + High Efficiency HP/Electric Backup\",\"Basic Enclosure + High Efficiency Whole Home Electrification\",\"Enhanced Enclosure\",\"Enhanced Enclosure + HPWH + High Efficiency HP/Electric Backup\",\"Enhanced Enclosure + High Efficiency Whole Home Electrification\",\"High Efficiency Heat Pump with Electric Heat Backup\",\"High Efficiency Whole Home Electrification\"],\"type\":\"bar\",\"xaxis\":\"x3\",\"yaxis\":\"y3\",\"textposition\":\"inside\",\"texttemplate\":\"%{text:.0%}\"},{\"marker\":{\"color\":\"green\"},\"orientation\":\"h\",\"showlegend\":false,\"text\":[1.0,1.0,1.0,1.0,0.9844961240310077,0.9767441860465116,1.0,1.0,1.0,1.0,1.0,1.0,1.0,1.0,1.0,1.0],\"x\":[1.0,1.0,1.0,1.0,0.9844961240310077,0.9767441860465116,1.0,1.0,1.0,1.0,1.0,1.0,1.0,1.0,1.0,1.0],\"y\":[\"Electric Clothes Dryer\",\"Electric Cooking\",\"Mininum Efficiency Whole Home Electrification\",\"Induction Cooking\",\"Mininum Efficiency Heat Pump with Electric Heat Backup\",\"Mininum Efficiency Heat Pump with Existing Heat Backup\",\"Heat Pump Clothes Dryer\",\"Heat Pump Water Heater\",\"Basic Enclosure\",\"Basic Enclosure + HPWH + High Efficiency HP/Electric Backup\",\"Basic Enclosure + High Efficiency Whole Home Electrification\",\"Enhanced Enclosure\",\"Enhanced Enclosure + HPWH + High Efficiency HP/Electric Backup\",\"Enhanced Enclosure + High Efficiency Whole Home Electrification\",\"High Efficiency Heat Pump with Electric Heat Backup\",\"High Efficiency Whole Home Electrification\"],\"type\":\"bar\",\"xaxis\":\"x3\",\"yaxis\":\"y3\",\"textposition\":\"inside\",\"texttemplate\":\"%{text:.0%}\"}],                        {\"template\":{\"data\":{\"histogram2dcontour\":[{\"type\":\"histogram2dcontour\",\"colorbar\":{\"outlinewidth\":0,\"ticks\":\"\"},\"colorscale\":[[0.0,\"#0d0887\"],[0.1111111111111111,\"#46039f\"],[0.2222222222222222,\"#7201a8\"],[0.3333333333333333,\"#9c179e\"],[0.4444444444444444,\"#bd3786\"],[0.5555555555555556,\"#d8576b\"],[0.6666666666666666,\"#ed7953\"],[0.7777777777777778,\"#fb9f3a\"],[0.8888888888888888,\"#fdca26\"],[1.0,\"#f0f921\"]]}],\"choropleth\":[{\"type\":\"choropleth\",\"colorbar\":{\"outlinewidth\":0,\"ticks\":\"\"}}],\"histogram2d\":[{\"type\":\"histogram2d\",\"colorbar\":{\"outlinewidth\":0,\"ticks\":\"\"},\"colorscale\":[[0.0,\"#0d0887\"],[0.1111111111111111,\"#46039f\"],[0.2222222222222222,\"#7201a8\"],[0.3333333333333333,\"#9c179e\"],[0.4444444444444444,\"#bd3786\"],[0.5555555555555556,\"#d8576b\"],[0.6666666666666666,\"#ed7953\"],[0.7777777777777778,\"#fb9f3a\"],[0.8888888888888888,\"#fdca26\"],[1.0,\"#f0f921\"]]}],\"heatmap\":[{\"type\":\"heatmap\",\"colorbar\":{\"outlinewidth\":0,\"ticks\":\"\"},\"colorscale\":[[0.0,\"#0d0887\"],[0.1111111111111111,\"#46039f\"],[0.2222222222222222,\"#7201a8\"],[0.3333333333333333,\"#9c179e\"],[0.4444444444444444,\"#bd3786\"],[0.5555555555555556,\"#d8576b\"],[0.6666666666666666,\"#ed7953\"],[0.7777777777777778,\"#fb9f3a\"],[0.8888888888888888,\"#fdca26\"],[1.0,\"#f0f921\"]]}],\"heatmapgl\":[{\"type\":\"heatmapgl\",\"colorbar\":{\"outlinewidth\":0,\"ticks\":\"\"},\"colorscale\":[[0.0,\"#0d0887\"],[0.1111111111111111,\"#46039f\"],[0.2222222222222222,\"#7201a8\"],[0.3333333333333333,\"#9c179e\"],[0.4444444444444444,\"#bd3786\"],[0.5555555555555556,\"#d8576b\"],[0.6666666666666666,\"#ed7953\"],[0.7777777777777778,\"#fb9f3a\"],[0.8888888888888888,\"#fdca26\"],[1.0,\"#f0f921\"]]}],\"contourcarpet\":[{\"type\":\"contourcarpet\",\"colorbar\":{\"outlinewidth\":0,\"ticks\":\"\"}}],\"contour\":[{\"type\":\"contour\",\"colorbar\":{\"outlinewidth\":0,\"ticks\":\"\"},\"colorscale\":[[0.0,\"#0d0887\"],[0.1111111111111111,\"#46039f\"],[0.2222222222222222,\"#7201a8\"],[0.3333333333333333,\"#9c179e\"],[0.4444444444444444,\"#bd3786\"],[0.5555555555555556,\"#d8576b\"],[0.6666666666666666,\"#ed7953\"],[0.7777777777777778,\"#fb9f3a\"],[0.8888888888888888,\"#fdca26\"],[1.0,\"#f0f921\"]]}],\"surface\":[{\"type\":\"surface\",\"colorbar\":{\"outlinewidth\":0,\"ticks\":\"\"},\"colorscale\":[[0.0,\"#0d0887\"],[0.1111111111111111,\"#46039f\"],[0.2222222222222222,\"#7201a8\"],[0.3333333333333333,\"#9c179e\"],[0.4444444444444444,\"#bd3786\"],[0.5555555555555556,\"#d8576b\"],[0.6666666666666666,\"#ed7953\"],[0.7777777777777778,\"#fb9f3a\"],[0.8888888888888888,\"#fdca26\"],[1.0,\"#f0f921\"]]}],\"mesh3d\":[{\"type\":\"mesh3d\",\"colorbar\":{\"outlinewidth\":0,\"ticks\":\"\"}}],\"scatter\":[{\"fillpattern\":{\"fillmode\":\"overlay\",\"size\":10,\"solidity\":0.2},\"type\":\"scatter\"}],\"parcoords\":[{\"type\":\"parcoords\",\"line\":{\"colorbar\":{\"outlinewidth\":0,\"ticks\":\"\"}}}],\"scatterpolargl\":[{\"type\":\"scatterpolargl\",\"marker\":{\"colorbar\":{\"outlinewidth\":0,\"ticks\":\"\"}}}],\"bar\":[{\"error_x\":{\"color\":\"#2a3f5f\"},\"error_y\":{\"color\":\"#2a3f5f\"},\"marker\":{\"line\":{\"color\":\"#E5ECF6\",\"width\":0.5},\"pattern\":{\"fillmode\":\"overlay\",\"size\":10,\"solidity\":0.2}},\"type\":\"bar\"}],\"scattergeo\":[{\"type\":\"scattergeo\",\"marker\":{\"colorbar\":{\"outlinewidth\":0,\"ticks\":\"\"}}}],\"scatterpolar\":[{\"type\":\"scatterpolar\",\"marker\":{\"colorbar\":{\"outlinewidth\":0,\"ticks\":\"\"}}}],\"histogram\":[{\"marker\":{\"pattern\":{\"fillmode\":\"overlay\",\"size\":10,\"solidity\":0.2}},\"type\":\"histogram\"}],\"scattergl\":[{\"type\":\"scattergl\",\"marker\":{\"colorbar\":{\"outlinewidth\":0,\"ticks\":\"\"}}}],\"scatter3d\":[{\"type\":\"scatter3d\",\"line\":{\"colorbar\":{\"outlinewidth\":0,\"ticks\":\"\"}},\"marker\":{\"colorbar\":{\"outlinewidth\":0,\"ticks\":\"\"}}}],\"scattermapbox\":[{\"type\":\"scattermapbox\",\"marker\":{\"colorbar\":{\"outlinewidth\":0,\"ticks\":\"\"}}}],\"scatterternary\":[{\"type\":\"scatterternary\",\"marker\":{\"colorbar\":{\"outlinewidth\":0,\"ticks\":\"\"}}}],\"scattercarpet\":[{\"type\":\"scattercarpet\",\"marker\":{\"colorbar\":{\"outlinewidth\":0,\"ticks\":\"\"}}}],\"carpet\":[{\"aaxis\":{\"endlinecolor\":\"#2a3f5f\",\"gridcolor\":\"white\",\"linecolor\":\"white\",\"minorgridcolor\":\"white\",\"startlinecolor\":\"#2a3f5f\"},\"baxis\":{\"endlinecolor\":\"#2a3f5f\",\"gridcolor\":\"white\",\"linecolor\":\"white\",\"minorgridcolor\":\"white\",\"startlinecolor\":\"#2a3f5f\"},\"type\":\"carpet\"}],\"table\":[{\"cells\":{\"fill\":{\"color\":\"#EBF0F8\"},\"line\":{\"color\":\"white\"}},\"header\":{\"fill\":{\"color\":\"#C8D4E3\"},\"line\":{\"color\":\"white\"}},\"type\":\"table\"}],\"barpolar\":[{\"marker\":{\"line\":{\"color\":\"#E5ECF6\",\"width\":0.5},\"pattern\":{\"fillmode\":\"overlay\",\"size\":10,\"solidity\":0.2}},\"type\":\"barpolar\"}],\"pie\":[{\"automargin\":true,\"type\":\"pie\"}]},\"layout\":{\"autotypenumbers\":\"strict\",\"colorway\":[\"#636efa\",\"#EF553B\",\"#00cc96\",\"#ab63fa\",\"#FFA15A\",\"#19d3f3\",\"#FF6692\",\"#B6E880\",\"#FF97FF\",\"#FECB52\"],\"font\":{\"color\":\"#2a3f5f\"},\"hovermode\":\"closest\",\"hoverlabel\":{\"align\":\"left\"},\"paper_bgcolor\":\"white\",\"plot_bgcolor\":\"#E5ECF6\",\"polar\":{\"bgcolor\":\"#E5ECF6\",\"angularaxis\":{\"gridcolor\":\"white\",\"linecolor\":\"white\",\"ticks\":\"\"},\"radialaxis\":{\"gridcolor\":\"white\",\"linecolor\":\"white\",\"ticks\":\"\"}},\"ternary\":{\"bgcolor\":\"#E5ECF6\",\"aaxis\":{\"gridcolor\":\"white\",\"linecolor\":\"white\",\"ticks\":\"\"},\"baxis\":{\"gridcolor\":\"white\",\"linecolor\":\"white\",\"ticks\":\"\"},\"caxis\":{\"gridcolor\":\"white\",\"linecolor\":\"white\",\"ticks\":\"\"}},\"coloraxis\":{\"colorbar\":{\"outlinewidth\":0,\"ticks\":\"\"}},\"colorscale\":{\"sequential\":[[0.0,\"#0d0887\"],[0.1111111111111111,\"#46039f\"],[0.2222222222222222,\"#7201a8\"],[0.3333333333333333,\"#9c179e\"],[0.4444444444444444,\"#bd3786\"],[0.5555555555555556,\"#d8576b\"],[0.6666666666666666,\"#ed7953\"],[0.7777777777777778,\"#fb9f3a\"],[0.8888888888888888,\"#fdca26\"],[1.0,\"#f0f921\"]],\"sequentialminus\":[[0.0,\"#0d0887\"],[0.1111111111111111,\"#46039f\"],[0.2222222222222222,\"#7201a8\"],[0.3333333333333333,\"#9c179e\"],[0.4444444444444444,\"#bd3786\"],[0.5555555555555556,\"#d8576b\"],[0.6666666666666666,\"#ed7953\"],[0.7777777777777778,\"#fb9f3a\"],[0.8888888888888888,\"#fdca26\"],[1.0,\"#f0f921\"]],\"diverging\":[[0,\"#8e0152\"],[0.1,\"#c51b7d\"],[0.2,\"#de77ae\"],[0.3,\"#f1b6da\"],[0.4,\"#fde0ef\"],[0.5,\"#f7f7f7\"],[0.6,\"#e6f5d0\"],[0.7,\"#b8e186\"],[0.8,\"#7fbc41\"],[0.9,\"#4d9221\"],[1,\"#276419\"]]},\"xaxis\":{\"gridcolor\":\"white\",\"linecolor\":\"white\",\"ticks\":\"\",\"title\":{\"standoff\":15},\"zerolinecolor\":\"white\",\"automargin\":true,\"zerolinewidth\":2},\"yaxis\":{\"gridcolor\":\"white\",\"linecolor\":\"white\",\"ticks\":\"\",\"title\":{\"standoff\":15},\"zerolinecolor\":\"white\",\"automargin\":true,\"zerolinewidth\":2},\"scene\":{\"xaxis\":{\"backgroundcolor\":\"#E5ECF6\",\"gridcolor\":\"white\",\"linecolor\":\"white\",\"showbackground\":true,\"ticks\":\"\",\"zerolinecolor\":\"white\",\"gridwidth\":2},\"yaxis\":{\"backgroundcolor\":\"#E5ECF6\",\"gridcolor\":\"white\",\"linecolor\":\"white\",\"showbackground\":true,\"ticks\":\"\",\"zerolinecolor\":\"white\",\"gridwidth\":2},\"zaxis\":{\"backgroundcolor\":\"#E5ECF6\",\"gridcolor\":\"white\",\"linecolor\":\"white\",\"showbackground\":true,\"ticks\":\"\",\"zerolinecolor\":\"white\",\"gridwidth\":2}},\"shapedefaults\":{\"line\":{\"color\":\"#2a3f5f\"}},\"annotationdefaults\":{\"arrowcolor\":\"#2a3f5f\",\"arrowhead\":0,\"arrowwidth\":1},\"geo\":{\"bgcolor\":\"white\",\"landcolor\":\"#E5ECF6\",\"subunitcolor\":\"white\",\"showland\":true,\"showlakes\":true,\"lakecolor\":\"white\"},\"title\":{\"x\":0.05},\"mapbox\":{\"style\":\"light\"}}},\"xaxis\":{\"anchor\":\"y\",\"domain\":[0.0,0.2888888888888889],\"title\":{\"text\":\"Bill\"},\"visible\":true,\"tickformat\":\",.0%\"},\"yaxis\":{\"anchor\":\"x\",\"domain\":[0.0,1.0],\"visible\":true},\"xaxis2\":{\"anchor\":\"y2\",\"domain\":[0.35555555555555557,0.6444444444444445],\"title\":{\"text\":\"Emission\"},\"visible\":true,\"tickformat\":\",.0%\"},\"yaxis2\":{\"anchor\":\"x2\",\"domain\":[0.0,1.0],\"visible\":false},\"xaxis3\":{\"anchor\":\"y3\",\"domain\":[0.7111111111111111,1.0],\"title\":{\"text\":\"Total Energy\"},\"visible\":true,\"tickformat\":\",.0%\"},\"yaxis3\":{\"anchor\":\"x3\",\"domain\":[0.0,1.0],\"visible\":false},\"barmode\":\"relative\",\"font\":{\"size\":10},\"title\":{\"text\":\"Percentage of Household in Positive and Negative Savings\"},\"autosize\":false,\"width\":1000,\"height\":500},                        {\"responsive\": true}                    ).then(function(){\n",
       "                            \n",
       "var gd = document.getElementById('2fb1d271-9e64-457f-8ae2-aa3fd9d4d15b');\n",
       "var x = new MutationObserver(function (mutations, observer) {{\n",
       "        var display = window.getComputedStyle(gd).display;\n",
       "        if (!display || display === 'none') {{\n",
       "            console.log([gd, 'removed!']);\n",
       "            Plotly.purge(gd);\n",
       "            observer.disconnect();\n",
       "        }}\n",
       "}});\n",
       "\n",
       "// Listen for the removal of the full notebook cells\n",
       "var notebookContainer = gd.closest('#notebook-container');\n",
       "if (notebookContainer) {{\n",
       "    x.observe(notebookContainer, {childList: true});\n",
       "}}\n",
       "\n",
       "// Listen for the clearing of the current output cell\n",
       "var outputEl = gd.closest('.output');\n",
       "if (outputEl) {{\n",
       "    x.observe(outputEl, {childList: true});\n",
       "}}\n",
       "\n",
       "                        })                };                });            </script>        </div>"
      ]
     },
     "metadata": {},
     "output_type": "display_data"
    }
   ],
   "source": [
    "segment = 'segment3'\n",
    "figure_positive_negative_savings(segment, community_results) "
   ]
  },
  {
   "cell_type": "markdown",
   "id": "a37b751c",
   "metadata": {},
   "source": [
    "### Segment 4"
   ]
  },
  {
   "cell_type": "code",
   "execution_count": 69,
   "id": "20f060e0",
   "metadata": {},
   "outputs": [
    {
     "data": {
      "application/vnd.plotly.v1+json": {
       "config": {
        "plotlyServerURL": "https://plot.ly"
       },
       "data": [
        {
         "marker": {
          "color": "red"
         },
         "name": "Negative",
         "orientation": "h",
         "text": [
          1,
          0.52,
          0.45454545454545453,
          0.06521739130434782,
          0.03804347826086957,
          0.03278688524590164,
          0.014492753623188406,
          0.01098901098901099,
          0.00546448087431694,
          0.005405405405405406,
          0.005405405405405406,
          0,
          0,
          0,
          0,
          0
         ],
         "textposition": "inside",
         "texttemplate": "%{text:.0%}",
         "type": "bar",
         "x": [
          1,
          0.52,
          0.45454545454545453,
          0.06521739130434782,
          0.03804347826086957,
          0.03278688524590164,
          0.014492753623188406,
          0.01098901098901099,
          0.00546448087431694,
          0.005405405405405406,
          0.005405405405405406,
          0,
          0,
          0,
          0,
          0
         ],
         "xaxis": "x",
         "y": [
          "Electric Clothes Dryer",
          "Electric Cooking",
          "Mininum Efficiency Whole Home Electrification",
          "Induction Cooking",
          "Mininum Efficiency Heat Pump with Existing Heat Backup",
          "Mininum Efficiency Heat Pump with Electric Heat Backup",
          "Heat Pump Clothes Dryer",
          "Heat Pump Water Heater",
          "High Efficiency Heat Pump with Electric Heat Backup",
          "Basic Enclosure + HPWH + High Efficiency HP/Electric Backup",
          "Enhanced Enclosure + HPWH + High Efficiency HP/Electric Backup",
          "Basic Enclosure",
          "Basic Enclosure + High Efficiency Whole Home Electrification",
          "Enhanced Enclosure",
          "Enhanced Enclosure + High Efficiency Whole Home Electrification",
          "High Efficiency Whole Home Electrification"
         ],
         "yaxis": "y"
        },
        {
         "marker": {
          "color": "green"
         },
         "name": "Positive",
         "orientation": "h",
         "text": [
          0,
          0.48,
          0.5454545454545454,
          0.9347826086956522,
          0.9619565217391305,
          0.9672131147540983,
          0.9855072463768116,
          0.989010989010989,
          0.994535519125683,
          0.9945945945945946,
          0.9945945945945946,
          1,
          1,
          1,
          1,
          1
         ],
         "textposition": "inside",
         "texttemplate": "%{text:.0%}",
         "type": "bar",
         "x": [
          0,
          0.48,
          0.5454545454545454,
          0.9347826086956522,
          0.9619565217391305,
          0.9672131147540983,
          0.9855072463768116,
          0.989010989010989,
          0.994535519125683,
          0.9945945945945946,
          0.9945945945945946,
          1,
          1,
          1,
          1,
          1
         ],
         "xaxis": "x",
         "y": [
          "Electric Clothes Dryer",
          "Electric Cooking",
          "Mininum Efficiency Whole Home Electrification",
          "Induction Cooking",
          "Mininum Efficiency Heat Pump with Existing Heat Backup",
          "Mininum Efficiency Heat Pump with Electric Heat Backup",
          "Heat Pump Clothes Dryer",
          "Heat Pump Water Heater",
          "High Efficiency Heat Pump with Electric Heat Backup",
          "Basic Enclosure + HPWH + High Efficiency HP/Electric Backup",
          "Enhanced Enclosure + HPWH + High Efficiency HP/Electric Backup",
          "Basic Enclosure",
          "Basic Enclosure + High Efficiency Whole Home Electrification",
          "Enhanced Enclosure",
          "Enhanced Enclosure + High Efficiency Whole Home Electrification",
          "High Efficiency Whole Home Electrification"
         ],
         "yaxis": "y"
        },
        {
         "marker": {
          "color": "red"
         },
         "orientation": "h",
         "showlegend": false,
         "text": [
          0,
          0,
          0,
          0,
          0.03804347826086957,
          0.03278688524590164,
          0,
          0.016483516483516484,
          0.00546448087431694,
          0,
          0,
          0,
          0,
          0,
          0,
          0
         ],
         "textposition": "inside",
         "texttemplate": "%{text:.0%}",
         "type": "bar",
         "x": [
          0,
          0,
          0,
          0,
          0.03804347826086957,
          0.03278688524590164,
          0,
          0.016483516483516484,
          0.00546448087431694,
          0,
          0,
          0,
          0,
          0,
          0,
          0
         ],
         "xaxis": "x2",
         "y": [
          "Electric Clothes Dryer",
          "Electric Cooking",
          "Mininum Efficiency Whole Home Electrification",
          "Induction Cooking",
          "Mininum Efficiency Heat Pump with Existing Heat Backup",
          "Mininum Efficiency Heat Pump with Electric Heat Backup",
          "Heat Pump Clothes Dryer",
          "Heat Pump Water Heater",
          "High Efficiency Heat Pump with Electric Heat Backup",
          "Basic Enclosure + HPWH + High Efficiency HP/Electric Backup",
          "Enhanced Enclosure + HPWH + High Efficiency HP/Electric Backup",
          "Basic Enclosure",
          "Basic Enclosure + High Efficiency Whole Home Electrification",
          "Enhanced Enclosure",
          "Enhanced Enclosure + High Efficiency Whole Home Electrification",
          "High Efficiency Whole Home Electrification"
         ],
         "yaxis": "y2"
        },
        {
         "marker": {
          "color": "green"
         },
         "orientation": "h",
         "showlegend": false,
         "text": [
          1,
          1,
          1,
          1,
          0.9619565217391305,
          0.9672131147540983,
          1,
          0.9835164835164835,
          0.994535519125683,
          1,
          1,
          1,
          1,
          1,
          1,
          1
         ],
         "textposition": "inside",
         "texttemplate": "%{text:.0%}",
         "type": "bar",
         "x": [
          1,
          1,
          1,
          1,
          0.9619565217391305,
          0.9672131147540983,
          1,
          0.9835164835164835,
          0.994535519125683,
          1,
          1,
          1,
          1,
          1,
          1,
          1
         ],
         "xaxis": "x2",
         "y": [
          "Electric Clothes Dryer",
          "Electric Cooking",
          "Mininum Efficiency Whole Home Electrification",
          "Induction Cooking",
          "Mininum Efficiency Heat Pump with Existing Heat Backup",
          "Mininum Efficiency Heat Pump with Electric Heat Backup",
          "Heat Pump Clothes Dryer",
          "Heat Pump Water Heater",
          "High Efficiency Heat Pump with Electric Heat Backup",
          "Basic Enclosure + HPWH + High Efficiency HP/Electric Backup",
          "Enhanced Enclosure + HPWH + High Efficiency HP/Electric Backup",
          "Basic Enclosure",
          "Basic Enclosure + High Efficiency Whole Home Electrification",
          "Enhanced Enclosure",
          "Enhanced Enclosure + High Efficiency Whole Home Electrification",
          "High Efficiency Whole Home Electrification"
         ],
         "yaxis": "y2"
        },
        {
         "marker": {
          "color": "red"
         },
         "orientation": "h",
         "showlegend": false,
         "text": [
          0,
          0,
          0,
          0,
          0.03804347826086957,
          0.03278688524590164,
          0,
          0.01098901098901099,
          0.00546448087431694,
          0.005405405405405406,
          0.005405405405405406,
          0,
          0,
          0,
          0,
          0
         ],
         "textposition": "inside",
         "texttemplate": "%{text:.0%}",
         "type": "bar",
         "x": [
          0,
          0,
          0,
          0,
          0.03804347826086957,
          0.03278688524590164,
          0,
          0.01098901098901099,
          0.00546448087431694,
          0.005405405405405406,
          0.005405405405405406,
          0,
          0,
          0,
          0,
          0
         ],
         "xaxis": "x3",
         "y": [
          "Electric Clothes Dryer",
          "Electric Cooking",
          "Mininum Efficiency Whole Home Electrification",
          "Induction Cooking",
          "Mininum Efficiency Heat Pump with Existing Heat Backup",
          "Mininum Efficiency Heat Pump with Electric Heat Backup",
          "Heat Pump Clothes Dryer",
          "Heat Pump Water Heater",
          "High Efficiency Heat Pump with Electric Heat Backup",
          "Basic Enclosure + HPWH + High Efficiency HP/Electric Backup",
          "Enhanced Enclosure + HPWH + High Efficiency HP/Electric Backup",
          "Basic Enclosure",
          "Basic Enclosure + High Efficiency Whole Home Electrification",
          "Enhanced Enclosure",
          "Enhanced Enclosure + High Efficiency Whole Home Electrification",
          "High Efficiency Whole Home Electrification"
         ],
         "yaxis": "y3"
        },
        {
         "marker": {
          "color": "green"
         },
         "orientation": "h",
         "showlegend": false,
         "text": [
          1,
          1,
          1,
          1,
          0.9619565217391305,
          0.9672131147540983,
          1,
          0.989010989010989,
          0.994535519125683,
          0.9945945945945946,
          0.9945945945945946,
          1,
          1,
          1,
          1,
          1
         ],
         "textposition": "inside",
         "texttemplate": "%{text:.0%}",
         "type": "bar",
         "x": [
          1,
          1,
          1,
          1,
          0.9619565217391305,
          0.9672131147540983,
          1,
          0.989010989010989,
          0.994535519125683,
          0.9945945945945946,
          0.9945945945945946,
          1,
          1,
          1,
          1,
          1
         ],
         "xaxis": "x3",
         "y": [
          "Electric Clothes Dryer",
          "Electric Cooking",
          "Mininum Efficiency Whole Home Electrification",
          "Induction Cooking",
          "Mininum Efficiency Heat Pump with Existing Heat Backup",
          "Mininum Efficiency Heat Pump with Electric Heat Backup",
          "Heat Pump Clothes Dryer",
          "Heat Pump Water Heater",
          "High Efficiency Heat Pump with Electric Heat Backup",
          "Basic Enclosure + HPWH + High Efficiency HP/Electric Backup",
          "Enhanced Enclosure + HPWH + High Efficiency HP/Electric Backup",
          "Basic Enclosure",
          "Basic Enclosure + High Efficiency Whole Home Electrification",
          "Enhanced Enclosure",
          "Enhanced Enclosure + High Efficiency Whole Home Electrification",
          "High Efficiency Whole Home Electrification"
         ],
         "yaxis": "y3"
        }
       ],
       "layout": {
        "autosize": false,
        "barmode": "relative",
        "font": {
         "size": 10
        },
        "height": 500,
        "template": {
         "data": {
          "bar": [
           {
            "error_x": {
             "color": "#2a3f5f"
            },
            "error_y": {
             "color": "#2a3f5f"
            },
            "marker": {
             "line": {
              "color": "#E5ECF6",
              "width": 0.5
             },
             "pattern": {
              "fillmode": "overlay",
              "size": 10,
              "solidity": 0.2
             }
            },
            "type": "bar"
           }
          ],
          "barpolar": [
           {
            "marker": {
             "line": {
              "color": "#E5ECF6",
              "width": 0.5
             },
             "pattern": {
              "fillmode": "overlay",
              "size": 10,
              "solidity": 0.2
             }
            },
            "type": "barpolar"
           }
          ],
          "carpet": [
           {
            "aaxis": {
             "endlinecolor": "#2a3f5f",
             "gridcolor": "white",
             "linecolor": "white",
             "minorgridcolor": "white",
             "startlinecolor": "#2a3f5f"
            },
            "baxis": {
             "endlinecolor": "#2a3f5f",
             "gridcolor": "white",
             "linecolor": "white",
             "minorgridcolor": "white",
             "startlinecolor": "#2a3f5f"
            },
            "type": "carpet"
           }
          ],
          "choropleth": [
           {
            "colorbar": {
             "outlinewidth": 0,
             "ticks": ""
            },
            "type": "choropleth"
           }
          ],
          "contour": [
           {
            "colorbar": {
             "outlinewidth": 0,
             "ticks": ""
            },
            "colorscale": [
             [
              0,
              "#0d0887"
             ],
             [
              0.1111111111111111,
              "#46039f"
             ],
             [
              0.2222222222222222,
              "#7201a8"
             ],
             [
              0.3333333333333333,
              "#9c179e"
             ],
             [
              0.4444444444444444,
              "#bd3786"
             ],
             [
              0.5555555555555556,
              "#d8576b"
             ],
             [
              0.6666666666666666,
              "#ed7953"
             ],
             [
              0.7777777777777778,
              "#fb9f3a"
             ],
             [
              0.8888888888888888,
              "#fdca26"
             ],
             [
              1,
              "#f0f921"
             ]
            ],
            "type": "contour"
           }
          ],
          "contourcarpet": [
           {
            "colorbar": {
             "outlinewidth": 0,
             "ticks": ""
            },
            "type": "contourcarpet"
           }
          ],
          "heatmap": [
           {
            "colorbar": {
             "outlinewidth": 0,
             "ticks": ""
            },
            "colorscale": [
             [
              0,
              "#0d0887"
             ],
             [
              0.1111111111111111,
              "#46039f"
             ],
             [
              0.2222222222222222,
              "#7201a8"
             ],
             [
              0.3333333333333333,
              "#9c179e"
             ],
             [
              0.4444444444444444,
              "#bd3786"
             ],
             [
              0.5555555555555556,
              "#d8576b"
             ],
             [
              0.6666666666666666,
              "#ed7953"
             ],
             [
              0.7777777777777778,
              "#fb9f3a"
             ],
             [
              0.8888888888888888,
              "#fdca26"
             ],
             [
              1,
              "#f0f921"
             ]
            ],
            "type": "heatmap"
           }
          ],
          "heatmapgl": [
           {
            "colorbar": {
             "outlinewidth": 0,
             "ticks": ""
            },
            "colorscale": [
             [
              0,
              "#0d0887"
             ],
             [
              0.1111111111111111,
              "#46039f"
             ],
             [
              0.2222222222222222,
              "#7201a8"
             ],
             [
              0.3333333333333333,
              "#9c179e"
             ],
             [
              0.4444444444444444,
              "#bd3786"
             ],
             [
              0.5555555555555556,
              "#d8576b"
             ],
             [
              0.6666666666666666,
              "#ed7953"
             ],
             [
              0.7777777777777778,
              "#fb9f3a"
             ],
             [
              0.8888888888888888,
              "#fdca26"
             ],
             [
              1,
              "#f0f921"
             ]
            ],
            "type": "heatmapgl"
           }
          ],
          "histogram": [
           {
            "marker": {
             "pattern": {
              "fillmode": "overlay",
              "size": 10,
              "solidity": 0.2
             }
            },
            "type": "histogram"
           }
          ],
          "histogram2d": [
           {
            "colorbar": {
             "outlinewidth": 0,
             "ticks": ""
            },
            "colorscale": [
             [
              0,
              "#0d0887"
             ],
             [
              0.1111111111111111,
              "#46039f"
             ],
             [
              0.2222222222222222,
              "#7201a8"
             ],
             [
              0.3333333333333333,
              "#9c179e"
             ],
             [
              0.4444444444444444,
              "#bd3786"
             ],
             [
              0.5555555555555556,
              "#d8576b"
             ],
             [
              0.6666666666666666,
              "#ed7953"
             ],
             [
              0.7777777777777778,
              "#fb9f3a"
             ],
             [
              0.8888888888888888,
              "#fdca26"
             ],
             [
              1,
              "#f0f921"
             ]
            ],
            "type": "histogram2d"
           }
          ],
          "histogram2dcontour": [
           {
            "colorbar": {
             "outlinewidth": 0,
             "ticks": ""
            },
            "colorscale": [
             [
              0,
              "#0d0887"
             ],
             [
              0.1111111111111111,
              "#46039f"
             ],
             [
              0.2222222222222222,
              "#7201a8"
             ],
             [
              0.3333333333333333,
              "#9c179e"
             ],
             [
              0.4444444444444444,
              "#bd3786"
             ],
             [
              0.5555555555555556,
              "#d8576b"
             ],
             [
              0.6666666666666666,
              "#ed7953"
             ],
             [
              0.7777777777777778,
              "#fb9f3a"
             ],
             [
              0.8888888888888888,
              "#fdca26"
             ],
             [
              1,
              "#f0f921"
             ]
            ],
            "type": "histogram2dcontour"
           }
          ],
          "mesh3d": [
           {
            "colorbar": {
             "outlinewidth": 0,
             "ticks": ""
            },
            "type": "mesh3d"
           }
          ],
          "parcoords": [
           {
            "line": {
             "colorbar": {
              "outlinewidth": 0,
              "ticks": ""
             }
            },
            "type": "parcoords"
           }
          ],
          "pie": [
           {
            "automargin": true,
            "type": "pie"
           }
          ],
          "scatter": [
           {
            "fillpattern": {
             "fillmode": "overlay",
             "size": 10,
             "solidity": 0.2
            },
            "type": "scatter"
           }
          ],
          "scatter3d": [
           {
            "line": {
             "colorbar": {
              "outlinewidth": 0,
              "ticks": ""
             }
            },
            "marker": {
             "colorbar": {
              "outlinewidth": 0,
              "ticks": ""
             }
            },
            "type": "scatter3d"
           }
          ],
          "scattercarpet": [
           {
            "marker": {
             "colorbar": {
              "outlinewidth": 0,
              "ticks": ""
             }
            },
            "type": "scattercarpet"
           }
          ],
          "scattergeo": [
           {
            "marker": {
             "colorbar": {
              "outlinewidth": 0,
              "ticks": ""
             }
            },
            "type": "scattergeo"
           }
          ],
          "scattergl": [
           {
            "marker": {
             "colorbar": {
              "outlinewidth": 0,
              "ticks": ""
             }
            },
            "type": "scattergl"
           }
          ],
          "scattermapbox": [
           {
            "marker": {
             "colorbar": {
              "outlinewidth": 0,
              "ticks": ""
             }
            },
            "type": "scattermapbox"
           }
          ],
          "scatterpolar": [
           {
            "marker": {
             "colorbar": {
              "outlinewidth": 0,
              "ticks": ""
             }
            },
            "type": "scatterpolar"
           }
          ],
          "scatterpolargl": [
           {
            "marker": {
             "colorbar": {
              "outlinewidth": 0,
              "ticks": ""
             }
            },
            "type": "scatterpolargl"
           }
          ],
          "scatterternary": [
           {
            "marker": {
             "colorbar": {
              "outlinewidth": 0,
              "ticks": ""
             }
            },
            "type": "scatterternary"
           }
          ],
          "surface": [
           {
            "colorbar": {
             "outlinewidth": 0,
             "ticks": ""
            },
            "colorscale": [
             [
              0,
              "#0d0887"
             ],
             [
              0.1111111111111111,
              "#46039f"
             ],
             [
              0.2222222222222222,
              "#7201a8"
             ],
             [
              0.3333333333333333,
              "#9c179e"
             ],
             [
              0.4444444444444444,
              "#bd3786"
             ],
             [
              0.5555555555555556,
              "#d8576b"
             ],
             [
              0.6666666666666666,
              "#ed7953"
             ],
             [
              0.7777777777777778,
              "#fb9f3a"
             ],
             [
              0.8888888888888888,
              "#fdca26"
             ],
             [
              1,
              "#f0f921"
             ]
            ],
            "type": "surface"
           }
          ],
          "table": [
           {
            "cells": {
             "fill": {
              "color": "#EBF0F8"
             },
             "line": {
              "color": "white"
             }
            },
            "header": {
             "fill": {
              "color": "#C8D4E3"
             },
             "line": {
              "color": "white"
             }
            },
            "type": "table"
           }
          ]
         },
         "layout": {
          "annotationdefaults": {
           "arrowcolor": "#2a3f5f",
           "arrowhead": 0,
           "arrowwidth": 1
          },
          "autotypenumbers": "strict",
          "coloraxis": {
           "colorbar": {
            "outlinewidth": 0,
            "ticks": ""
           }
          },
          "colorscale": {
           "diverging": [
            [
             0,
             "#8e0152"
            ],
            [
             0.1,
             "#c51b7d"
            ],
            [
             0.2,
             "#de77ae"
            ],
            [
             0.3,
             "#f1b6da"
            ],
            [
             0.4,
             "#fde0ef"
            ],
            [
             0.5,
             "#f7f7f7"
            ],
            [
             0.6,
             "#e6f5d0"
            ],
            [
             0.7,
             "#b8e186"
            ],
            [
             0.8,
             "#7fbc41"
            ],
            [
             0.9,
             "#4d9221"
            ],
            [
             1,
             "#276419"
            ]
           ],
           "sequential": [
            [
             0,
             "#0d0887"
            ],
            [
             0.1111111111111111,
             "#46039f"
            ],
            [
             0.2222222222222222,
             "#7201a8"
            ],
            [
             0.3333333333333333,
             "#9c179e"
            ],
            [
             0.4444444444444444,
             "#bd3786"
            ],
            [
             0.5555555555555556,
             "#d8576b"
            ],
            [
             0.6666666666666666,
             "#ed7953"
            ],
            [
             0.7777777777777778,
             "#fb9f3a"
            ],
            [
             0.8888888888888888,
             "#fdca26"
            ],
            [
             1,
             "#f0f921"
            ]
           ],
           "sequentialminus": [
            [
             0,
             "#0d0887"
            ],
            [
             0.1111111111111111,
             "#46039f"
            ],
            [
             0.2222222222222222,
             "#7201a8"
            ],
            [
             0.3333333333333333,
             "#9c179e"
            ],
            [
             0.4444444444444444,
             "#bd3786"
            ],
            [
             0.5555555555555556,
             "#d8576b"
            ],
            [
             0.6666666666666666,
             "#ed7953"
            ],
            [
             0.7777777777777778,
             "#fb9f3a"
            ],
            [
             0.8888888888888888,
             "#fdca26"
            ],
            [
             1,
             "#f0f921"
            ]
           ]
          },
          "colorway": [
           "#636efa",
           "#EF553B",
           "#00cc96",
           "#ab63fa",
           "#FFA15A",
           "#19d3f3",
           "#FF6692",
           "#B6E880",
           "#FF97FF",
           "#FECB52"
          ],
          "font": {
           "color": "#2a3f5f"
          },
          "geo": {
           "bgcolor": "white",
           "lakecolor": "white",
           "landcolor": "#E5ECF6",
           "showlakes": true,
           "showland": true,
           "subunitcolor": "white"
          },
          "hoverlabel": {
           "align": "left"
          },
          "hovermode": "closest",
          "mapbox": {
           "style": "light"
          },
          "paper_bgcolor": "white",
          "plot_bgcolor": "#E5ECF6",
          "polar": {
           "angularaxis": {
            "gridcolor": "white",
            "linecolor": "white",
            "ticks": ""
           },
           "bgcolor": "#E5ECF6",
           "radialaxis": {
            "gridcolor": "white",
            "linecolor": "white",
            "ticks": ""
           }
          },
          "scene": {
           "xaxis": {
            "backgroundcolor": "#E5ECF6",
            "gridcolor": "white",
            "gridwidth": 2,
            "linecolor": "white",
            "showbackground": true,
            "ticks": "",
            "zerolinecolor": "white"
           },
           "yaxis": {
            "backgroundcolor": "#E5ECF6",
            "gridcolor": "white",
            "gridwidth": 2,
            "linecolor": "white",
            "showbackground": true,
            "ticks": "",
            "zerolinecolor": "white"
           },
           "zaxis": {
            "backgroundcolor": "#E5ECF6",
            "gridcolor": "white",
            "gridwidth": 2,
            "linecolor": "white",
            "showbackground": true,
            "ticks": "",
            "zerolinecolor": "white"
           }
          },
          "shapedefaults": {
           "line": {
            "color": "#2a3f5f"
           }
          },
          "ternary": {
           "aaxis": {
            "gridcolor": "white",
            "linecolor": "white",
            "ticks": ""
           },
           "baxis": {
            "gridcolor": "white",
            "linecolor": "white",
            "ticks": ""
           },
           "bgcolor": "#E5ECF6",
           "caxis": {
            "gridcolor": "white",
            "linecolor": "white",
            "ticks": ""
           }
          },
          "title": {
           "x": 0.05
          },
          "xaxis": {
           "automargin": true,
           "gridcolor": "white",
           "linecolor": "white",
           "ticks": "",
           "title": {
            "standoff": 15
           },
           "zerolinecolor": "white",
           "zerolinewidth": 2
          },
          "yaxis": {
           "automargin": true,
           "gridcolor": "white",
           "linecolor": "white",
           "ticks": "",
           "title": {
            "standoff": 15
           },
           "zerolinecolor": "white",
           "zerolinewidth": 2
          }
         }
        },
        "title": {
         "text": "Percentage of Household in Positive and Negative Savings"
        },
        "width": 1000,
        "xaxis": {
         "anchor": "y",
         "domain": [
          0,
          0.2888888888888889
         ],
         "tickformat": ",.0%",
         "title": {
          "text": "Bill"
         },
         "visible": true
        },
        "xaxis2": {
         "anchor": "y2",
         "domain": [
          0.35555555555555557,
          0.6444444444444445
         ],
         "tickformat": ",.0%",
         "title": {
          "text": "Emission"
         },
         "visible": true
        },
        "xaxis3": {
         "anchor": "y3",
         "domain": [
          0.7111111111111111,
          1
         ],
         "tickformat": ",.0%",
         "title": {
          "text": "Total Energy"
         },
         "visible": true
        },
        "yaxis": {
         "anchor": "x",
         "domain": [
          0,
          1
         ],
         "visible": true
        },
        "yaxis2": {
         "anchor": "x2",
         "domain": [
          0,
          1
         ],
         "visible": false
        },
        "yaxis3": {
         "anchor": "x3",
         "domain": [
          0,
          1
         ],
         "visible": false
        }
       }
      },
      "text/html": [
       "<div>                            <div id=\"4dfdc928-8161-4a0a-8d4c-55e2ca507268\" class=\"plotly-graph-div\" style=\"height:500px; width:1000px;\"></div>            <script type=\"text/javascript\">                require([\"plotly\"], function(Plotly) {                    window.PLOTLYENV=window.PLOTLYENV || {};                                    if (document.getElementById(\"4dfdc928-8161-4a0a-8d4c-55e2ca507268\")) {                    Plotly.newPlot(                        \"4dfdc928-8161-4a0a-8d4c-55e2ca507268\",                        [{\"marker\":{\"color\":\"red\"},\"name\":\"Negative\",\"orientation\":\"h\",\"text\":[1.0,0.52,0.45454545454545453,0.06521739130434782,0.03804347826086957,0.03278688524590164,0.014492753623188406,0.01098901098901099,0.00546448087431694,0.005405405405405406,0.005405405405405406,0.0,0.0,0.0,0.0,0.0],\"x\":[1.0,0.52,0.45454545454545453,0.06521739130434782,0.03804347826086957,0.03278688524590164,0.014492753623188406,0.01098901098901099,0.00546448087431694,0.005405405405405406,0.005405405405405406,0.0,0.0,0.0,0.0,0.0],\"y\":[\"Electric Clothes Dryer\",\"Electric Cooking\",\"Mininum Efficiency Whole Home Electrification\",\"Induction Cooking\",\"Mininum Efficiency Heat Pump with Existing Heat Backup\",\"Mininum Efficiency Heat Pump with Electric Heat Backup\",\"Heat Pump Clothes Dryer\",\"Heat Pump Water Heater\",\"High Efficiency Heat Pump with Electric Heat Backup\",\"Basic Enclosure + HPWH + High Efficiency HP/Electric Backup\",\"Enhanced Enclosure + HPWH + High Efficiency HP/Electric Backup\",\"Basic Enclosure\",\"Basic Enclosure + High Efficiency Whole Home Electrification\",\"Enhanced Enclosure\",\"Enhanced Enclosure + High Efficiency Whole Home Electrification\",\"High Efficiency Whole Home Electrification\"],\"type\":\"bar\",\"xaxis\":\"x\",\"yaxis\":\"y\",\"textposition\":\"inside\",\"texttemplate\":\"%{text:.0%}\"},{\"marker\":{\"color\":\"green\"},\"name\":\"Positive\",\"orientation\":\"h\",\"text\":[0.0,0.48,0.5454545454545454,0.9347826086956522,0.9619565217391305,0.9672131147540983,0.9855072463768116,0.989010989010989,0.994535519125683,0.9945945945945946,0.9945945945945946,1.0,1.0,1.0,1.0,1.0],\"x\":[0.0,0.48,0.5454545454545454,0.9347826086956522,0.9619565217391305,0.9672131147540983,0.9855072463768116,0.989010989010989,0.994535519125683,0.9945945945945946,0.9945945945945946,1.0,1.0,1.0,1.0,1.0],\"y\":[\"Electric Clothes Dryer\",\"Electric Cooking\",\"Mininum Efficiency Whole Home Electrification\",\"Induction Cooking\",\"Mininum Efficiency Heat Pump with Existing Heat Backup\",\"Mininum Efficiency Heat Pump with Electric Heat Backup\",\"Heat Pump Clothes Dryer\",\"Heat Pump Water Heater\",\"High Efficiency Heat Pump with Electric Heat Backup\",\"Basic Enclosure + HPWH + High Efficiency HP/Electric Backup\",\"Enhanced Enclosure + HPWH + High Efficiency HP/Electric Backup\",\"Basic Enclosure\",\"Basic Enclosure + High Efficiency Whole Home Electrification\",\"Enhanced Enclosure\",\"Enhanced Enclosure + High Efficiency Whole Home Electrification\",\"High Efficiency Whole Home Electrification\"],\"type\":\"bar\",\"xaxis\":\"x\",\"yaxis\":\"y\",\"textposition\":\"inside\",\"texttemplate\":\"%{text:.0%}\"},{\"marker\":{\"color\":\"red\"},\"orientation\":\"h\",\"showlegend\":false,\"text\":[0.0,0.0,0.0,0.0,0.03804347826086957,0.03278688524590164,0.0,0.016483516483516484,0.00546448087431694,0.0,0.0,0.0,0.0,0.0,0.0,0.0],\"x\":[0.0,0.0,0.0,0.0,0.03804347826086957,0.03278688524590164,0.0,0.016483516483516484,0.00546448087431694,0.0,0.0,0.0,0.0,0.0,0.0,0.0],\"y\":[\"Electric Clothes Dryer\",\"Electric Cooking\",\"Mininum Efficiency Whole Home Electrification\",\"Induction Cooking\",\"Mininum Efficiency Heat Pump with Existing Heat Backup\",\"Mininum Efficiency Heat Pump with Electric Heat Backup\",\"Heat Pump Clothes Dryer\",\"Heat Pump Water Heater\",\"High Efficiency Heat Pump with Electric Heat Backup\",\"Basic Enclosure + HPWH + High Efficiency HP/Electric Backup\",\"Enhanced Enclosure + HPWH + High Efficiency HP/Electric Backup\",\"Basic Enclosure\",\"Basic Enclosure + High Efficiency Whole Home Electrification\",\"Enhanced Enclosure\",\"Enhanced Enclosure + High Efficiency Whole Home Electrification\",\"High Efficiency Whole Home Electrification\"],\"type\":\"bar\",\"xaxis\":\"x2\",\"yaxis\":\"y2\",\"textposition\":\"inside\",\"texttemplate\":\"%{text:.0%}\"},{\"marker\":{\"color\":\"green\"},\"orientation\":\"h\",\"showlegend\":false,\"text\":[1.0,1.0,1.0,1.0,0.9619565217391305,0.9672131147540983,1.0,0.9835164835164835,0.994535519125683,1.0,1.0,1.0,1.0,1.0,1.0,1.0],\"x\":[1.0,1.0,1.0,1.0,0.9619565217391305,0.9672131147540983,1.0,0.9835164835164835,0.994535519125683,1.0,1.0,1.0,1.0,1.0,1.0,1.0],\"y\":[\"Electric Clothes Dryer\",\"Electric Cooking\",\"Mininum Efficiency Whole Home Electrification\",\"Induction Cooking\",\"Mininum Efficiency Heat Pump with Existing Heat Backup\",\"Mininum Efficiency Heat Pump with Electric Heat Backup\",\"Heat Pump Clothes Dryer\",\"Heat Pump Water Heater\",\"High Efficiency Heat Pump with Electric Heat Backup\",\"Basic Enclosure + HPWH + High Efficiency HP/Electric Backup\",\"Enhanced Enclosure + HPWH + High Efficiency HP/Electric Backup\",\"Basic Enclosure\",\"Basic Enclosure + High Efficiency Whole Home Electrification\",\"Enhanced Enclosure\",\"Enhanced Enclosure + High Efficiency Whole Home Electrification\",\"High Efficiency Whole Home Electrification\"],\"type\":\"bar\",\"xaxis\":\"x2\",\"yaxis\":\"y2\",\"textposition\":\"inside\",\"texttemplate\":\"%{text:.0%}\"},{\"marker\":{\"color\":\"red\"},\"orientation\":\"h\",\"showlegend\":false,\"text\":[0.0,0.0,0.0,0.0,0.03804347826086957,0.03278688524590164,0.0,0.01098901098901099,0.00546448087431694,0.005405405405405406,0.005405405405405406,0.0,0.0,0.0,0.0,0.0],\"x\":[0.0,0.0,0.0,0.0,0.03804347826086957,0.03278688524590164,0.0,0.01098901098901099,0.00546448087431694,0.005405405405405406,0.005405405405405406,0.0,0.0,0.0,0.0,0.0],\"y\":[\"Electric Clothes Dryer\",\"Electric Cooking\",\"Mininum Efficiency Whole Home Electrification\",\"Induction Cooking\",\"Mininum Efficiency Heat Pump with Existing Heat Backup\",\"Mininum Efficiency Heat Pump with Electric Heat Backup\",\"Heat Pump Clothes Dryer\",\"Heat Pump Water Heater\",\"High Efficiency Heat Pump with Electric Heat Backup\",\"Basic Enclosure + HPWH + High Efficiency HP/Electric Backup\",\"Enhanced Enclosure + HPWH + High Efficiency HP/Electric Backup\",\"Basic Enclosure\",\"Basic Enclosure + High Efficiency Whole Home Electrification\",\"Enhanced Enclosure\",\"Enhanced Enclosure + High Efficiency Whole Home Electrification\",\"High Efficiency Whole Home Electrification\"],\"type\":\"bar\",\"xaxis\":\"x3\",\"yaxis\":\"y3\",\"textposition\":\"inside\",\"texttemplate\":\"%{text:.0%}\"},{\"marker\":{\"color\":\"green\"},\"orientation\":\"h\",\"showlegend\":false,\"text\":[1.0,1.0,1.0,1.0,0.9619565217391305,0.9672131147540983,1.0,0.989010989010989,0.994535519125683,0.9945945945945946,0.9945945945945946,1.0,1.0,1.0,1.0,1.0],\"x\":[1.0,1.0,1.0,1.0,0.9619565217391305,0.9672131147540983,1.0,0.989010989010989,0.994535519125683,0.9945945945945946,0.9945945945945946,1.0,1.0,1.0,1.0,1.0],\"y\":[\"Electric Clothes Dryer\",\"Electric Cooking\",\"Mininum Efficiency Whole Home Electrification\",\"Induction Cooking\",\"Mininum Efficiency Heat Pump with Existing Heat Backup\",\"Mininum Efficiency Heat Pump with Electric Heat Backup\",\"Heat Pump Clothes Dryer\",\"Heat Pump Water Heater\",\"High Efficiency Heat Pump with Electric Heat Backup\",\"Basic Enclosure + HPWH + High Efficiency HP/Electric Backup\",\"Enhanced Enclosure + HPWH + High Efficiency HP/Electric Backup\",\"Basic Enclosure\",\"Basic Enclosure + High Efficiency Whole Home Electrification\",\"Enhanced Enclosure\",\"Enhanced Enclosure + High Efficiency Whole Home Electrification\",\"High Efficiency Whole Home Electrification\"],\"type\":\"bar\",\"xaxis\":\"x3\",\"yaxis\":\"y3\",\"textposition\":\"inside\",\"texttemplate\":\"%{text:.0%}\"}],                        {\"template\":{\"data\":{\"histogram2dcontour\":[{\"type\":\"histogram2dcontour\",\"colorbar\":{\"outlinewidth\":0,\"ticks\":\"\"},\"colorscale\":[[0.0,\"#0d0887\"],[0.1111111111111111,\"#46039f\"],[0.2222222222222222,\"#7201a8\"],[0.3333333333333333,\"#9c179e\"],[0.4444444444444444,\"#bd3786\"],[0.5555555555555556,\"#d8576b\"],[0.6666666666666666,\"#ed7953\"],[0.7777777777777778,\"#fb9f3a\"],[0.8888888888888888,\"#fdca26\"],[1.0,\"#f0f921\"]]}],\"choropleth\":[{\"type\":\"choropleth\",\"colorbar\":{\"outlinewidth\":0,\"ticks\":\"\"}}],\"histogram2d\":[{\"type\":\"histogram2d\",\"colorbar\":{\"outlinewidth\":0,\"ticks\":\"\"},\"colorscale\":[[0.0,\"#0d0887\"],[0.1111111111111111,\"#46039f\"],[0.2222222222222222,\"#7201a8\"],[0.3333333333333333,\"#9c179e\"],[0.4444444444444444,\"#bd3786\"],[0.5555555555555556,\"#d8576b\"],[0.6666666666666666,\"#ed7953\"],[0.7777777777777778,\"#fb9f3a\"],[0.8888888888888888,\"#fdca26\"],[1.0,\"#f0f921\"]]}],\"heatmap\":[{\"type\":\"heatmap\",\"colorbar\":{\"outlinewidth\":0,\"ticks\":\"\"},\"colorscale\":[[0.0,\"#0d0887\"],[0.1111111111111111,\"#46039f\"],[0.2222222222222222,\"#7201a8\"],[0.3333333333333333,\"#9c179e\"],[0.4444444444444444,\"#bd3786\"],[0.5555555555555556,\"#d8576b\"],[0.6666666666666666,\"#ed7953\"],[0.7777777777777778,\"#fb9f3a\"],[0.8888888888888888,\"#fdca26\"],[1.0,\"#f0f921\"]]}],\"heatmapgl\":[{\"type\":\"heatmapgl\",\"colorbar\":{\"outlinewidth\":0,\"ticks\":\"\"},\"colorscale\":[[0.0,\"#0d0887\"],[0.1111111111111111,\"#46039f\"],[0.2222222222222222,\"#7201a8\"],[0.3333333333333333,\"#9c179e\"],[0.4444444444444444,\"#bd3786\"],[0.5555555555555556,\"#d8576b\"],[0.6666666666666666,\"#ed7953\"],[0.7777777777777778,\"#fb9f3a\"],[0.8888888888888888,\"#fdca26\"],[1.0,\"#f0f921\"]]}],\"contourcarpet\":[{\"type\":\"contourcarpet\",\"colorbar\":{\"outlinewidth\":0,\"ticks\":\"\"}}],\"contour\":[{\"type\":\"contour\",\"colorbar\":{\"outlinewidth\":0,\"ticks\":\"\"},\"colorscale\":[[0.0,\"#0d0887\"],[0.1111111111111111,\"#46039f\"],[0.2222222222222222,\"#7201a8\"],[0.3333333333333333,\"#9c179e\"],[0.4444444444444444,\"#bd3786\"],[0.5555555555555556,\"#d8576b\"],[0.6666666666666666,\"#ed7953\"],[0.7777777777777778,\"#fb9f3a\"],[0.8888888888888888,\"#fdca26\"],[1.0,\"#f0f921\"]]}],\"surface\":[{\"type\":\"surface\",\"colorbar\":{\"outlinewidth\":0,\"ticks\":\"\"},\"colorscale\":[[0.0,\"#0d0887\"],[0.1111111111111111,\"#46039f\"],[0.2222222222222222,\"#7201a8\"],[0.3333333333333333,\"#9c179e\"],[0.4444444444444444,\"#bd3786\"],[0.5555555555555556,\"#d8576b\"],[0.6666666666666666,\"#ed7953\"],[0.7777777777777778,\"#fb9f3a\"],[0.8888888888888888,\"#fdca26\"],[1.0,\"#f0f921\"]]}],\"mesh3d\":[{\"type\":\"mesh3d\",\"colorbar\":{\"outlinewidth\":0,\"ticks\":\"\"}}],\"scatter\":[{\"fillpattern\":{\"fillmode\":\"overlay\",\"size\":10,\"solidity\":0.2},\"type\":\"scatter\"}],\"parcoords\":[{\"type\":\"parcoords\",\"line\":{\"colorbar\":{\"outlinewidth\":0,\"ticks\":\"\"}}}],\"scatterpolargl\":[{\"type\":\"scatterpolargl\",\"marker\":{\"colorbar\":{\"outlinewidth\":0,\"ticks\":\"\"}}}],\"bar\":[{\"error_x\":{\"color\":\"#2a3f5f\"},\"error_y\":{\"color\":\"#2a3f5f\"},\"marker\":{\"line\":{\"color\":\"#E5ECF6\",\"width\":0.5},\"pattern\":{\"fillmode\":\"overlay\",\"size\":10,\"solidity\":0.2}},\"type\":\"bar\"}],\"scattergeo\":[{\"type\":\"scattergeo\",\"marker\":{\"colorbar\":{\"outlinewidth\":0,\"ticks\":\"\"}}}],\"scatterpolar\":[{\"type\":\"scatterpolar\",\"marker\":{\"colorbar\":{\"outlinewidth\":0,\"ticks\":\"\"}}}],\"histogram\":[{\"marker\":{\"pattern\":{\"fillmode\":\"overlay\",\"size\":10,\"solidity\":0.2}},\"type\":\"histogram\"}],\"scattergl\":[{\"type\":\"scattergl\",\"marker\":{\"colorbar\":{\"outlinewidth\":0,\"ticks\":\"\"}}}],\"scatter3d\":[{\"type\":\"scatter3d\",\"line\":{\"colorbar\":{\"outlinewidth\":0,\"ticks\":\"\"}},\"marker\":{\"colorbar\":{\"outlinewidth\":0,\"ticks\":\"\"}}}],\"scattermapbox\":[{\"type\":\"scattermapbox\",\"marker\":{\"colorbar\":{\"outlinewidth\":0,\"ticks\":\"\"}}}],\"scatterternary\":[{\"type\":\"scatterternary\",\"marker\":{\"colorbar\":{\"outlinewidth\":0,\"ticks\":\"\"}}}],\"scattercarpet\":[{\"type\":\"scattercarpet\",\"marker\":{\"colorbar\":{\"outlinewidth\":0,\"ticks\":\"\"}}}],\"carpet\":[{\"aaxis\":{\"endlinecolor\":\"#2a3f5f\",\"gridcolor\":\"white\",\"linecolor\":\"white\",\"minorgridcolor\":\"white\",\"startlinecolor\":\"#2a3f5f\"},\"baxis\":{\"endlinecolor\":\"#2a3f5f\",\"gridcolor\":\"white\",\"linecolor\":\"white\",\"minorgridcolor\":\"white\",\"startlinecolor\":\"#2a3f5f\"},\"type\":\"carpet\"}],\"table\":[{\"cells\":{\"fill\":{\"color\":\"#EBF0F8\"},\"line\":{\"color\":\"white\"}},\"header\":{\"fill\":{\"color\":\"#C8D4E3\"},\"line\":{\"color\":\"white\"}},\"type\":\"table\"}],\"barpolar\":[{\"marker\":{\"line\":{\"color\":\"#E5ECF6\",\"width\":0.5},\"pattern\":{\"fillmode\":\"overlay\",\"size\":10,\"solidity\":0.2}},\"type\":\"barpolar\"}],\"pie\":[{\"automargin\":true,\"type\":\"pie\"}]},\"layout\":{\"autotypenumbers\":\"strict\",\"colorway\":[\"#636efa\",\"#EF553B\",\"#00cc96\",\"#ab63fa\",\"#FFA15A\",\"#19d3f3\",\"#FF6692\",\"#B6E880\",\"#FF97FF\",\"#FECB52\"],\"font\":{\"color\":\"#2a3f5f\"},\"hovermode\":\"closest\",\"hoverlabel\":{\"align\":\"left\"},\"paper_bgcolor\":\"white\",\"plot_bgcolor\":\"#E5ECF6\",\"polar\":{\"bgcolor\":\"#E5ECF6\",\"angularaxis\":{\"gridcolor\":\"white\",\"linecolor\":\"white\",\"ticks\":\"\"},\"radialaxis\":{\"gridcolor\":\"white\",\"linecolor\":\"white\",\"ticks\":\"\"}},\"ternary\":{\"bgcolor\":\"#E5ECF6\",\"aaxis\":{\"gridcolor\":\"white\",\"linecolor\":\"white\",\"ticks\":\"\"},\"baxis\":{\"gridcolor\":\"white\",\"linecolor\":\"white\",\"ticks\":\"\"},\"caxis\":{\"gridcolor\":\"white\",\"linecolor\":\"white\",\"ticks\":\"\"}},\"coloraxis\":{\"colorbar\":{\"outlinewidth\":0,\"ticks\":\"\"}},\"colorscale\":{\"sequential\":[[0.0,\"#0d0887\"],[0.1111111111111111,\"#46039f\"],[0.2222222222222222,\"#7201a8\"],[0.3333333333333333,\"#9c179e\"],[0.4444444444444444,\"#bd3786\"],[0.5555555555555556,\"#d8576b\"],[0.6666666666666666,\"#ed7953\"],[0.7777777777777778,\"#fb9f3a\"],[0.8888888888888888,\"#fdca26\"],[1.0,\"#f0f921\"]],\"sequentialminus\":[[0.0,\"#0d0887\"],[0.1111111111111111,\"#46039f\"],[0.2222222222222222,\"#7201a8\"],[0.3333333333333333,\"#9c179e\"],[0.4444444444444444,\"#bd3786\"],[0.5555555555555556,\"#d8576b\"],[0.6666666666666666,\"#ed7953\"],[0.7777777777777778,\"#fb9f3a\"],[0.8888888888888888,\"#fdca26\"],[1.0,\"#f0f921\"]],\"diverging\":[[0,\"#8e0152\"],[0.1,\"#c51b7d\"],[0.2,\"#de77ae\"],[0.3,\"#f1b6da\"],[0.4,\"#fde0ef\"],[0.5,\"#f7f7f7\"],[0.6,\"#e6f5d0\"],[0.7,\"#b8e186\"],[0.8,\"#7fbc41\"],[0.9,\"#4d9221\"],[1,\"#276419\"]]},\"xaxis\":{\"gridcolor\":\"white\",\"linecolor\":\"white\",\"ticks\":\"\",\"title\":{\"standoff\":15},\"zerolinecolor\":\"white\",\"automargin\":true,\"zerolinewidth\":2},\"yaxis\":{\"gridcolor\":\"white\",\"linecolor\":\"white\",\"ticks\":\"\",\"title\":{\"standoff\":15},\"zerolinecolor\":\"white\",\"automargin\":true,\"zerolinewidth\":2},\"scene\":{\"xaxis\":{\"backgroundcolor\":\"#E5ECF6\",\"gridcolor\":\"white\",\"linecolor\":\"white\",\"showbackground\":true,\"ticks\":\"\",\"zerolinecolor\":\"white\",\"gridwidth\":2},\"yaxis\":{\"backgroundcolor\":\"#E5ECF6\",\"gridcolor\":\"white\",\"linecolor\":\"white\",\"showbackground\":true,\"ticks\":\"\",\"zerolinecolor\":\"white\",\"gridwidth\":2},\"zaxis\":{\"backgroundcolor\":\"#E5ECF6\",\"gridcolor\":\"white\",\"linecolor\":\"white\",\"showbackground\":true,\"ticks\":\"\",\"zerolinecolor\":\"white\",\"gridwidth\":2}},\"shapedefaults\":{\"line\":{\"color\":\"#2a3f5f\"}},\"annotationdefaults\":{\"arrowcolor\":\"#2a3f5f\",\"arrowhead\":0,\"arrowwidth\":1},\"geo\":{\"bgcolor\":\"white\",\"landcolor\":\"#E5ECF6\",\"subunitcolor\":\"white\",\"showland\":true,\"showlakes\":true,\"lakecolor\":\"white\"},\"title\":{\"x\":0.05},\"mapbox\":{\"style\":\"light\"}}},\"xaxis\":{\"anchor\":\"y\",\"domain\":[0.0,0.2888888888888889],\"title\":{\"text\":\"Bill\"},\"visible\":true,\"tickformat\":\",.0%\"},\"yaxis\":{\"anchor\":\"x\",\"domain\":[0.0,1.0],\"visible\":true},\"xaxis2\":{\"anchor\":\"y2\",\"domain\":[0.35555555555555557,0.6444444444444445],\"title\":{\"text\":\"Emission\"},\"visible\":true,\"tickformat\":\",.0%\"},\"yaxis2\":{\"anchor\":\"x2\",\"domain\":[0.0,1.0],\"visible\":false},\"xaxis3\":{\"anchor\":\"y3\",\"domain\":[0.7111111111111111,1.0],\"title\":{\"text\":\"Total Energy\"},\"visible\":true,\"tickformat\":\",.0%\"},\"yaxis3\":{\"anchor\":\"x3\",\"domain\":[0.0,1.0],\"visible\":false},\"barmode\":\"relative\",\"font\":{\"size\":10},\"title\":{\"text\":\"Percentage of Household in Positive and Negative Savings\"},\"autosize\":false,\"width\":1000,\"height\":500},                        {\"responsive\": true}                    ).then(function(){\n",
       "                            \n",
       "var gd = document.getElementById('4dfdc928-8161-4a0a-8d4c-55e2ca507268');\n",
       "var x = new MutationObserver(function (mutations, observer) {{\n",
       "        var display = window.getComputedStyle(gd).display;\n",
       "        if (!display || display === 'none') {{\n",
       "            console.log([gd, 'removed!']);\n",
       "            Plotly.purge(gd);\n",
       "            observer.disconnect();\n",
       "        }}\n",
       "}});\n",
       "\n",
       "// Listen for the removal of the full notebook cells\n",
       "var notebookContainer = gd.closest('#notebook-container');\n",
       "if (notebookContainer) {{\n",
       "    x.observe(notebookContainer, {childList: true});\n",
       "}}\n",
       "\n",
       "// Listen for the clearing of the current output cell\n",
       "var outputEl = gd.closest('.output');\n",
       "if (outputEl) {{\n",
       "    x.observe(outputEl, {childList: true});\n",
       "}}\n",
       "\n",
       "                        })                };                });            </script>        </div>"
      ]
     },
     "metadata": {},
     "output_type": "display_data"
    }
   ],
   "source": [
    "segment = 'segment4'\n",
    "figure_positive_negative_savings(segment, community_results) "
   ]
  },
  {
   "cell_type": "markdown",
   "id": "b53c1061",
   "metadata": {},
   "source": [
    "## 2.6. Average Energy Burden (%) Before and after Upgrade"
   ]
  },
  {
   "cell_type": "code",
   "execution_count": 70,
   "id": "1c373671",
   "metadata": {},
   "outputs": [
    {
     "name": "stdout",
     "output_type": "stream",
     "text": [
      "energy burden (%) before and after upgrade\n",
      "segment1\n",
      "                                                                 before  after\n",
      "upgrade_name                                                                  \n",
      "Enhanced Enclosure + High Efficiency Whole Home Electrification    14.9    6.9\n",
      "Basic Enclosure + High Efficiency Whole Home Electrification       14.9    7.0\n",
      "Enhanced Enclosure + HPWH + High Efficiency HP/Electric Backup     14.9    7.1\n",
      "Basic Enclosure + HPWH + High Efficiency HP/Electric Backup        14.9    7.2\n",
      "High Efficiency Whole Home Electrification                         14.9    8.1\n",
      "High Efficiency Heat Pump with Electric Heat Backup                14.9    9.1\n",
      "Enhanced Enclosure                                                 14.9   11.1\n",
      "Basic Enclosure                                                    14.9   11.6\n",
      "Mininum Efficiency Heat Pump with Electric Heat Backup             14.9   12.2\n",
      "Mininum Efficiency Heat Pump with Existing Heat Backup             14.9   12.3\n",
      "Mininum Efficiency Whole Home Electrification                      13.6   12.0\n",
      "Heat Pump Water Heater                                             14.8   14.2\n",
      "Heat Pump Clothes Dryer                                            14.5   14.3\n",
      "Induction Cooking                                                  15.0   15.0\n",
      "Electric Cooking                                                   12.3   12.3\n",
      "Electric Clothes Dryer                                             14.2   14.3\n",
      "segment2\n",
      "                                                                 before  after\n",
      "upgrade_name                                                                  \n",
      "Enhanced Enclosure + High Efficiency Whole Home Electrification    12.9    7.3\n",
      "Basic Enclosure + High Efficiency Whole Home Electrification       12.9    7.4\n",
      "Enhanced Enclosure + HPWH + High Efficiency HP/Electric Backup     12.9    7.5\n",
      "Basic Enclosure + HPWH + High Efficiency HP/Electric Backup        12.9    7.6\n",
      "High Efficiency Whole Home Electrification                         12.9    7.8\n",
      "High Efficiency Heat Pump with Electric Heat Backup                12.9    9.4\n",
      "Mininum Efficiency Heat Pump with Existing Heat Backup             13.1   11.5\n",
      "Mininum Efficiency Heat Pump with Electric Heat Backup             12.9   11.3\n",
      "Enhanced Enclosure                                                 12.9   11.5\n",
      "Basic Enclosure                                                    13.0   11.8\n",
      "Heat Pump Water Heater                                             12.5   11.5\n",
      "Heat Pump Clothes Dryer                                            11.1   10.8\n",
      "Mininum Efficiency Whole Home Electrification                       7.4    7.3\n",
      "Induction Cooking                                                  12.9   12.8\n",
      "Electric Clothes Dryer                                              5.8    5.9\n",
      "Electric Cooking                                                    8.0    8.1\n",
      "segment3\n",
      "                                                                 before  after\n",
      "upgrade_name                                                                  \n",
      "Enhanced Enclosure + High Efficiency Whole Home Electrification    14.1    7.8\n",
      "Basic Enclosure + High Efficiency Whole Home Electrification       14.1    7.9\n",
      "Enhanced Enclosure + HPWH + High Efficiency HP/Electric Backup     14.1    8.1\n",
      "Basic Enclosure + HPWH + High Efficiency HP/Electric Backup        14.1    8.1\n",
      "High Efficiency Whole Home Electrification                         14.1    8.2\n",
      "High Efficiency Heat Pump with Electric Heat Backup                14.1    9.8\n",
      "Mininum Efficiency Heat Pump with Electric Heat Backup             14.1   11.9\n",
      "Mininum Efficiency Heat Pump with Existing Heat Backup             14.1   11.9\n",
      "Enhanced Enclosure                                                 14.1   12.7\n",
      "Basic Enclosure                                                    14.1   12.9\n",
      "Heat Pump Water Heater                                             14.1   13.2\n",
      "Mininum Efficiency Whole Home Electrification                      14.9   14.3\n",
      "Heat Pump Clothes Dryer                                            14.1   13.9\n",
      "Induction Cooking                                                  14.1   14.1\n",
      "Electric Clothes Dryer                                              4.0    4.0\n",
      "Electric Cooking                                                   25.5   25.5\n",
      "segment4\n",
      "                                                                 before  after\n",
      "upgrade_name                                                                  \n",
      "Enhanced Enclosure + High Efficiency Whole Home Electrification    10.3    6.3\n",
      "Basic Enclosure + High Efficiency Whole Home Electrification       10.3    6.4\n",
      "Enhanced Enclosure + HPWH + High Efficiency HP/Electric Backup     10.3    6.4\n",
      "Basic Enclosure + HPWH + High Efficiency HP/Electric Backup        10.3    6.6\n",
      "High Efficiency Whole Home Electrification                         10.3    6.6\n",
      "High Efficiency Heat Pump with Electric Heat Backup                10.3    8.0\n",
      "Heat Pump Water Heater                                             10.3    9.3\n",
      "Enhanced Enclosure                                                 10.6    9.7\n",
      "Mininum Efficiency Heat Pump with Electric Heat Backup             10.3    9.4\n",
      "Mininum Efficiency Heat Pump with Existing Heat Backup             10.4    9.6\n",
      "Basic Enclosure                                                    10.1    9.5\n",
      "Heat Pump Clothes Dryer                                            11.2   11.0\n",
      "Mininum Efficiency Whole Home Electrification                       7.0    6.8\n",
      "Induction Cooking                                                  10.4   10.3\n",
      "Electric Cooking                                                    5.6    5.7\n",
      "Electric Clothes Dryer                                             14.0   14.6\n"
     ]
    },
    {
     "name": "stderr",
     "output_type": "stream",
     "text": [
      "C:\\Users\\ylou2\\AppData\\Local\\Temp\\1\\ipykernel_19820\\733330893.py:4: SettingWithCopyWarning:\n",
      "\n",
      "\n",
      "A value is trying to be set on a copy of a slice from a DataFrame\n",
      "\n",
      "See the caveats in the documentation: https://pandas.pydata.org/pandas-docs/stable/user_guide/indexing.html#returning-a-view-versus-a-copy\n",
      "\n",
      "C:\\Users\\ylou2\\AppData\\Local\\Temp\\1\\ipykernel_19820\\733330893.py:5: SettingWithCopyWarning:\n",
      "\n",
      "\n",
      "A value is trying to be set on a copy of a slice from a DataFrame\n",
      "\n",
      "See the caveats in the documentation: https://pandas.pydata.org/pandas-docs/stable/user_guide/indexing.html#returning-a-view-versus-a-copy\n",
      "\n",
      "C:\\Users\\ylou2\\AppData\\Local\\Temp\\1\\ipykernel_19820\\733330893.py:7: SettingWithCopyWarning:\n",
      "\n",
      "\n",
      "A value is trying to be set on a copy of a slice from a DataFrame.\n",
      "Try using .loc[row_indexer,col_indexer] = value instead\n",
      "\n",
      "See the caveats in the documentation: https://pandas.pydata.org/pandas-docs/stable/user_guide/indexing.html#returning-a-view-versus-a-copy\n",
      "\n",
      "C:\\Users\\ylou2\\AppData\\Local\\Temp\\1\\ipykernel_19820\\733330893.py:8: SettingWithCopyWarning:\n",
      "\n",
      "\n",
      "A value is trying to be set on a copy of a slice from a DataFrame.\n",
      "Try using .loc[row_indexer,col_indexer] = value instead\n",
      "\n",
      "See the caveats in the documentation: https://pandas.pydata.org/pandas-docs/stable/user_guide/indexing.html#returning-a-view-versus-a-copy\n",
      "\n"
     ]
    }
   ],
   "source": [
    "def figure_most_impact_package_mean_energy_burden(indicator, commnity_results):\n",
    "    \n",
    "    results = commnity_results[['upgrade_name', indicator, 'baseline_energy_burden_2023_cbills.%', 'sample_weight', 'segment']]\n",
    "    results.replace([np.inf, -np.inf], np.nan, inplace=True)\n",
    "    results.dropna(subset=['baseline_energy_burden_2023_cbills.%'], how=\"all\", inplace=True)\n",
    "    results.to_csv('test.csv')\n",
    "    results[indicator] = results[indicator]*results['sample_weight']\n",
    "    results['baseline_energy_burden_2023_cbills.%'] = results['baseline_energy_burden_2023_cbills.%']*results['sample_weight']\n",
    "    \n",
    "    segment1 = results.loc[results['segment'] == 'segment1']\n",
    "    segment2 = results.loc[results['segment'] == 'segment2']\n",
    "    segment3 = results.loc[results['segment'] == 'segment3']\n",
    "    segment4 = results.loc[results['segment'] == 'segment4']\n",
    "    \n",
    "    agg_functions = {'upgrade_name': 'first',\n",
    "                     indicator: 'sum',\n",
    "                     'baseline_energy_burden_2023_cbills.%': 'sum',\n",
    "                    'sample_weight': 'sum'}\n",
    "    \n",
    "    segment1_agg = segment1.groupby(segment1['upgrade_name']).aggregate(agg_functions)\n",
    "    segment2_agg = segment2.groupby(segment2['upgrade_name']).aggregate(agg_functions)\n",
    "    segment3_agg = segment3.groupby(segment3['upgrade_name']).aggregate(agg_functions)\n",
    "    segment4_agg = segment4.groupby(segment4['upgrade_name']).aggregate(agg_functions)\n",
    "    \n",
    "    segment1_agg['baseline_energy_burden_2023_cbills.%'] = segment1_agg['baseline_energy_burden_2023_cbills.%']/segment1_agg['sample_weight']\n",
    "    segment2_agg['baseline_energy_burden_2023_cbills.%'] = segment2_agg['baseline_energy_burden_2023_cbills.%']/segment2_agg['sample_weight']\n",
    "    segment3_agg['baseline_energy_burden_2023_cbills.%'] = segment3_agg['baseline_energy_burden_2023_cbills.%']/segment3_agg['sample_weight']\n",
    "    segment4_agg['baseline_energy_burden_2023_cbills.%'] = segment4_agg['baseline_energy_burden_2023_cbills.%']/segment4_agg['sample_weight']\n",
    "    \n",
    "    segment1_agg[indicator] = segment1_agg[indicator]/segment1_agg['sample_weight']\n",
    "    segment2_agg[indicator] = segment2_agg[indicator]/segment2_agg['sample_weight']\n",
    "    segment3_agg[indicator] = segment3_agg[indicator]/segment3_agg['sample_weight']\n",
    "    segment4_agg[indicator] = segment4_agg[indicator]/segment4_agg['sample_weight']\n",
    "    \n",
    "    segment1_agg['energy_burden_diff'] = segment1_agg['baseline_energy_burden_2023_cbills.%'] - segment1_agg[indicator]\n",
    "    segment2_agg['energy_burden_diff'] = segment2_agg['baseline_energy_burden_2023_cbills.%'] - segment2_agg[indicator]\n",
    "    segment3_agg['energy_burden_diff'] = segment3_agg['baseline_energy_burden_2023_cbills.%'] - segment3_agg[indicator]\n",
    "    segment4_agg['energy_burden_diff'] = segment4_agg['baseline_energy_burden_2023_cbills.%'] - segment4_agg[indicator]\n",
    "    \n",
    "    segment1_agg = segment1_agg.sort_values(['energy_burden_diff'], ascending=False)\n",
    "    segment2_agg = segment2_agg.sort_values(['energy_burden_diff'], ascending=False)\n",
    "    segment3_agg = segment3_agg.sort_values(['energy_burden_diff'], ascending=False)\n",
    "    segment4_agg = segment4_agg.sort_values(['energy_burden_diff'], ascending=False)\n",
    "    \n",
    "    segment1_agg = segment1_agg[segment1_agg.upgrade_name != 'baseline']\n",
    "    segment2_agg = segment2_agg[segment2_agg.upgrade_name != 'baseline']\n",
    "    segment3_agg = segment3_agg[segment3_agg.upgrade_name != 'baseline']\n",
    "    segment4_agg = segment4_agg[segment4_agg.upgrade_name != 'baseline']\n",
    "    \n",
    "    segment1_agg = segment1_agg.rename(columns={'baseline_energy_burden_2023_cbills.%': 'before', indicator: 'after'})\n",
    "    segment2_agg = segment2_agg.rename(columns={'baseline_energy_burden_2023_cbills.%': 'before', indicator: 'after'})\n",
    "    segment3_agg = segment3_agg.rename(columns={'baseline_energy_burden_2023_cbills.%': 'before', indicator: 'after'})\n",
    "    segment4_agg = segment4_agg.rename(columns={'baseline_energy_burden_2023_cbills.%': 'before', indicator: 'after'})\n",
    "    \n",
    "    segment1_agg['before'] = segment1_agg['before'].round(1)\n",
    "    segment2_agg['before'] = segment2_agg['before'].round(1)\n",
    "    segment3_agg['before'] = segment3_agg['before'].round(1)\n",
    "    segment4_agg['before'] = segment4_agg['before'].round(1)\n",
    "    segment1_agg['after'] = segment1_agg['after'].round(1)\n",
    "    segment2_agg['after'] = segment2_agg['after'].round(1)\n",
    "    segment3_agg['after'] = segment3_agg['after'].round(1)\n",
    "    segment4_agg['after'] = segment4_agg['after'].round(1)\n",
    "    \n",
    "    print ('energy burden (%) before and after upgrade')\n",
    "    print('segment1')\n",
    "    print(segment1_agg[['before', 'after']])\n",
    "    print('segment2')\n",
    "    print(segment2_agg[['before', 'after']])\n",
    "    print('segment3')\n",
    "    print(segment3_agg[['before', 'after']])\n",
    "    print('segment4')\n",
    "    print(segment4_agg[['before', 'after']])\n",
    "\n",
    "figure_most_impact_package_mean_energy_burden('post-upgrade_energy_burden_2023_cbills.%', community_results) "
   ]
  }
 ],
 "metadata": {
  "kernelspec": {
   "display_name": "Python 3 (ipykernel)",
   "language": "python",
   "name": "python3"
  },
  "language_info": {
   "codemirror_mode": {
    "name": "ipython",
    "version": 3
   },
   "file_extension": ".py",
   "mimetype": "text/x-python",
   "name": "python",
   "nbconvert_exporter": "python",
   "pygments_lexer": "ipython3",
   "version": "3.11.1"
  }
 },
 "nbformat": 4,
 "nbformat_minor": 5
}
