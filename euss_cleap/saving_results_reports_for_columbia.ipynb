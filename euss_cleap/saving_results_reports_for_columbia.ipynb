{
 "cells": [
  {
   "cell_type": "code",
   "execution_count": 1,
   "id": "db22b178",
   "metadata": {},
   "outputs": [],
   "source": [
    "import plotly.graph_objects as go\n",
    "from plotly.subplots import make_subplots\n",
    "import plotly.express as px\n",
    "import pandas as pd\n",
    "import numpy as np\n",
    "from pathlib import Path"
   ]
  },
  {
   "cell_type": "markdown",
   "id": "4d6ffd8b",
   "metadata": {},
   "source": [
    "# Functions"
   ]
  },
  {
   "cell_type": "code",
   "execution_count": 2,
   "id": "ecea33f6",
   "metadata": {},
   "outputs": [],
   "source": [
    "def weighted_mean(x, metric: str):\n",
    "    if len(x[metric].dropna()) == 0:\n",
    "        res = 0\n",
    "    else:\n",
    "        res = (x[metric] * x[\"sample_weight\"]).sum()/x[\"sample_weight\"].sum()\n",
    "    col_name = f\"{metric} wt_mean\"\n",
    "    return pd.Series({col_name: res})\n",
    "\n",
    "def weighted_percentile(x, metric: str, percents: int):\n",
    "    col_name = f\"{metric} wt_p{percents}\"\n",
    "    res = _weighted_percentile(x[metric], percents, weights=x[\"sample_weight\"])\n",
    "    return pd.Series({col_name: res})\n",
    "\n",
    "def _weighted_percentile(data, percents: int, weights=None):\n",
    "    \"\"\"\n",
    "    perc : percentile in 0 - 1\n",
    "    \"\"\"\n",
    "    # dropna\n",
    "    idx = ~np.isnan(data) & ~np.isnan(weights)\n",
    "    data = np.array(data)[idx]\n",
    "    if len(data) == 0:\n",
    "        return np.nan\n",
    "    if weights is None:\n",
    "        return np.percentile(data, percents)\n",
    "    weights = np.array(weights)[idx]\n",
    "    ix = np.argsort(data)\n",
    "    data = data[ix] # sort data\n",
    "    weights = weights[ix] # sort weights\n",
    "    cdf = (np.cumsum(weights) - 0.5 * weights) / np.sum(weights) # 'like' a CDF function\n",
    "    return np.interp(percents, cdf, data)\n",
    "\n",
    "def get_summary(df, metric, lower_percentile=0.25, upper_percentile=0.75):\n",
    "    dfgb = df.groupby([\"upgrade_name\"])\n",
    "    dfs = pd.concat([\n",
    "        dfgb[\"sample_weight\"].count().rename(\"n_samples\"),\n",
    "        dfgb[\"sample_weight\"].sum().rename(\"n_represented\"),\n",
    "        dfgb.apply(lambda x: weighted_mean(x, metric)),\n",
    "        dfgb.apply(lambda x: weighted_percentile(x, metric, percents=lower_percentile)),\n",
    "        dfgb.apply(lambda x: weighted_percentile(x, metric, percents=upper_percentile)),\n",
    "    ], axis=1)\n",
    "    dfs = dfs.sort_values(by=f\"{metric} wt_mean\", ascending=False)\n",
    "\n",
    "    return dfs"
   ]
  },
  {
   "cell_type": "markdown",
   "id": "e2c92a98",
   "metadata": {},
   "source": [
    "## Whole Community Upgrade Cost Per Dwelling Unit"
   ]
  },
  {
   "cell_type": "code",
   "execution_count": 3,
   "id": "db8bfb6a",
   "metadata": {},
   "outputs": [],
   "source": [
    "def community_mean_upgrade_cost(commnity_results):\n",
    "    results = commnity_results[['upgrade_name',\n",
    "                       'upgrade_cost_usd',\n",
    "                                'sample_weight']]\n",
    "    results = results.loc[results['upgrade_name'] != 'baseline']\n",
    "    results['upgrade_cost_usd'] = results['upgrade_cost_usd']*results['sample_weight']\n",
    "    \n",
    "    agg_functions = {'upgrade_name': 'first',\n",
    "                     'upgrade_cost_usd': 'sum',\n",
    "                    'sample_weight': 'sum'}\n",
    "    results = results.groupby(results['upgrade_name']).aggregate(agg_functions)\n",
    "    results['upgrade_cost_usd'] = results['upgrade_cost_usd']/results['sample_weight']\n",
    "    results = results.sort_values('upgrade_cost_usd')\n",
    "    results['upgrade_cost_usd'] = results['upgrade_cost_usd'].round(1) \n",
    "    \n",
    "    print('upgrade_cost_usd per dwelling unit')\n",
    "    display(results['upgrade_cost_usd'])\n",
    "    return results['upgrade_cost_usd']"
   ]
  },
  {
   "cell_type": "markdown",
   "id": "0a8130e7",
   "metadata": {},
   "source": [
    "## Whole Community Total Annual Savings"
   ]
  },
  {
   "cell_type": "code",
   "execution_count": 4,
   "id": "eaa95d01",
   "metadata": {},
   "outputs": [],
   "source": [
    "# flavor 1 - with electricity and non-electricity split\n",
    "def figure_total_savings_1(commnity_results):\n",
    "    results = commnity_results[['upgrade_name',\n",
    "                       'saving_energy.electricity_kwh',\n",
    "                      'saving_energy.natural_gas_therm',\n",
    "                                'saving_energy.fuel_oil_mmbtu',\n",
    "                                'saving_energy.propane_mmbtu',\n",
    "                       'saving_cbill.total_usd',\n",
    "                       'saving_emission.total_kgCO2e',\n",
    "                                'sample_weight']]\n",
    "    results = results.loc[results['upgrade_name'] != 'baseline']\n",
    "    results['saving_energy.natural_gas_fuel_oil_propane_mmbtu'] = results['saving_energy.natural_gas_therm']*0.1 + results['saving_energy.fuel_oil_mmbtu']+ results['saving_energy.propane_mmbtu']\n",
    "    results['saving_energy.electricity_kwh'] = results['saving_energy.electricity_kwh']*results['sample_weight']\n",
    "    results['saving_energy.natural_gas_fuel_oil_propane_mmbtu'] = results['saving_energy.natural_gas_fuel_oil_propane_mmbtu']*results['sample_weight']\n",
    "    results['saving_cbill.total_usd'] = results['saving_cbill.total_usd']*results['sample_weight']\n",
    "    results['saving_emission.total_kgCO2e'] = results['saving_emission.total_kgCO2e']*results['sample_weight']\n",
    "    \n",
    "    agg_functions = {'upgrade_name': 'first',\n",
    "                     'saving_energy.electricity_kwh': 'sum',\n",
    "                     'saving_energy.natural_gas_fuel_oil_propane_mmbtu': 'sum', \n",
    "                     'saving_cbill.total_usd': 'sum',\n",
    "                     'saving_emission.total_kgCO2e': 'sum'}\n",
    "    results = results.groupby(results['upgrade_name']).aggregate(agg_functions)\n",
    "    results = results.sort_values('saving_cbill.total_usd')\n",
    "    \n",
    "    fig = make_subplots(rows=1, cols=5, horizontal_spacing=0.12, column_widths=[0.001, 1, 1, 1, 1])\n",
    "    \n",
    "    fig.add_trace(go.Bar(\n",
    "        x=[0] * 176,\n",
    "        y=results['upgrade_name'],\n",
    "        text=None,\n",
    "        orientation='h'), row=1, col=1)\n",
    "    \n",
    "    fig.add_trace(go.Bar(\n",
    "        x=results['saving_cbill.total_usd'],\n",
    "        y=results['upgrade_name'],\n",
    "        text=results['saving_cbill.total_usd'],\n",
    "        orientation='h'), row=1, col=2)\n",
    "    \n",
    "    fig.add_trace(go.Bar(\n",
    "        x=results['saving_emission.total_kgCO2e'],\n",
    "        y=results['upgrade_name'],\n",
    "        text=results['saving_emission.total_kgCO2e'],\n",
    "        orientation='h'),row=1, col=3)\n",
    "    \n",
    "    fig.add_trace(go.Bar(\n",
    "        x=results['saving_energy.electricity_kwh'],\n",
    "        y=results['upgrade_name'],\n",
    "        text=results['saving_energy.electricity_kwh'],\n",
    "        orientation='h'),row=1, col=4)\n",
    "    \n",
    "    fig.add_trace(go.Bar(\n",
    "        x=results['saving_energy.natural_gas_fuel_oil_propane_mmbtu'],\n",
    "        y=results['upgrade_name'],\n",
    "        text=results['saving_energy.natural_gas_fuel_oil_propane_mmbtu'],\n",
    "        orientation='h'),row=1, col=5)\n",
    "\n",
    "    fig.update_traces(textfont_size=10, textangle=0, textposition=\"outside\", cliponaxis=False)\n",
    "    fig.update_traces(marker_color='rgb(0, 121, 61)', marker_line_color='rgb(0, 121, 61)')\n",
    "    fig.update_traces(marker_color='rgb(255, 255, 255)', marker_line_color='rgb(255, 255, 255)',row=1,col=1)\n",
    "    fig.update_traces(texttemplate='%{text:.3s}', textposition='outside',row=1,col=2)\n",
    "    fig.update_traces(texttemplate='%{text:.3s}', textposition='outside',row=1,col=3)\n",
    "    fig.update_traces(texttemplate='%{text:.3s}', textposition='outside',row=1,col=4)\n",
    "    fig.update_traces(texttemplate='%{text:.3s}', textposition='outside',row=1,col=5)\n",
    "    fig.update_layout(xaxis_title=\"\", xaxis_visible=False, yaxis_visible=True,\n",
    "                      xaxis2_title=\"Bill<br>Savings<br>usd\", xaxis2_visible=True, yaxis2_visible=False,\n",
    "                      xaxis3_title=\"Emission<br>Savings<br>kgCO2e\", xaxis3_visible=True, yaxis3_visible=False,\n",
    "                      xaxis4_title=\"Electricity<br>Savings<br>kwh\", xaxis4_visible=True, yaxis4_visible=False,\n",
    "                      xaxis5_title=\"Gas, Propane,<br>Fuel Oil Savings<br>mmbtu\", xaxis5_visible=True, yaxis5_visible=False,\n",
    "                     title='Total Annual Savings for the Whole Community')\n",
    "    fig.update_layout(\n",
    "    autosize=False,\n",
    "    width=900,\n",
    "    height=500,\n",
    "    font=dict(size=10),\n",
    "    plot_bgcolor='rgba(0, 0, 0, 0)',)\n",
    "    fig.update_xaxes(tickangle=45)\n",
    "    fig.update_layout(showlegend=False)\n",
    "    \n",
    "    fig.show()\n",
    "    fig.write_image(fig_dir / 'total_annual_savings_1.svg')    \n",
    "\n",
    "# flavor 2 - site, electricity, and non-electricity\n",
    "def figure_total_savings_2(commnity_results):\n",
    "    results = commnity_results[[\n",
    "        'upgrade_name',\n",
    "        'saving_energy.total_mmbtu',\n",
    "        'saving_energy.electricity_kwh',\n",
    "        'saving_energy.natural_gas_therm',\n",
    "        'saving_energy.fuel_oil_mmbtu',\n",
    "        'saving_energy.propane_mmbtu',\n",
    "        'saving_cbill.total_usd',\n",
    "        'saving_emission.total_kgCO2e',\n",
    "        'sample_weight']]\n",
    "    results = results.loc[results['upgrade_name'] != 'baseline']\n",
    "    results['saving_energy.natural_gas_fuel_oil_propane_mmbtu'] = results['saving_energy.natural_gas_therm']*0.1 + results['saving_energy.fuel_oil_mmbtu']+ results['saving_energy.propane_mmbtu']\n",
    "    results['saving_energy.electricity_kwh'] = results['saving_energy.electricity_kwh']*results['sample_weight']\n",
    "    results['saving_energy.natural_gas_fuel_oil_propane_mmbtu'] = results['saving_energy.natural_gas_fuel_oil_propane_mmbtu']*results['sample_weight']\n",
    "    results['saving_cbill.total_usd'] = results['saving_cbill.total_usd']*results['sample_weight']\n",
    "    results['saving_emission.total_kgCO2e'] = results['saving_emission.total_kgCO2e']*results['sample_weight']\n",
    "    \n",
    "    agg_functions = {'upgrade_name': 'first',\n",
    "                     'saving_energy.electricity_kwh': 'sum',\n",
    "                     'saving_energy.natural_gas_fuel_oil_propane_mmbtu': 'sum', \n",
    "                      'saving_energy.total_mmbtu': 'sum', \n",
    "                     'saving_cbill.total_usd': 'sum',\n",
    "                     'saving_emission.total_kgCO2e': 'sum'}\n",
    "    results = results.groupby(results['upgrade_name']).aggregate(agg_functions)\n",
    "    results = results.sort_values('saving_cbill.total_usd')\n",
    "    \n",
    "    fig = make_subplots(rows=1, cols=6, horizontal_spacing=0.12, column_widths=[0.001, 1, 1, 1, 1, 1])\n",
    "    \n",
    "    fig.add_trace(go.Bar(\n",
    "        x=[0] * 176,\n",
    "        y=results['upgrade_name'],\n",
    "        text=None,\n",
    "        orientation='h'), row=1, col=1)\n",
    "    \n",
    "    fig.add_trace(go.Bar(\n",
    "        x=results['saving_cbill.total_usd'],\n",
    "        y=results['upgrade_name'],\n",
    "        text=results['saving_cbill.total_usd'],\n",
    "        orientation='h'), row=1, col=2)\n",
    "    \n",
    "    fig.add_trace(go.Bar(\n",
    "        x=results['saving_emission.total_kgCO2e'],\n",
    "        y=results['upgrade_name'],\n",
    "        text=results['saving_emission.total_kgCO2e'],\n",
    "        orientation='h'),row=1, col=3)\n",
    "\n",
    "    fig.add_trace(go.Bar(\n",
    "        x=results['saving_energy.total_mmbtu'],\n",
    "        y=results['upgrade_name'],\n",
    "        text=results['saving_energy.total_mmbtu'],\n",
    "        orientation='h'),row=1, col=4)\n",
    "    \n",
    "    fig.add_trace(go.Bar(\n",
    "        x=results['saving_energy.electricity_kwh'],\n",
    "        y=results['upgrade_name'],\n",
    "        text=results['saving_energy.electricity_kwh'],\n",
    "        orientation='h'),row=1, col=5)\n",
    "    \n",
    "    fig.add_trace(go.Bar(\n",
    "        x=results['saving_energy.natural_gas_fuel_oil_propane_mmbtu'],\n",
    "        y=results['upgrade_name'],\n",
    "        text=results['saving_energy.natural_gas_fuel_oil_propane_mmbtu'],\n",
    "        orientation='h'),row=1, col=6)\n",
    "\n",
    "    fig.update_traces(textfont_size=10, textangle=0, textposition=\"outside\", cliponaxis=False)\n",
    "    fig.update_traces(marker_color='rgb(0, 121, 61)', marker_line_color='rgb(0, 121, 61)')\n",
    "    fig.update_traces(marker_color='rgb(255, 255, 255)', marker_line_color='rgb(255, 255, 255)',row=1,col=1)\n",
    "    fig.update_traces(texttemplate='%{text:.3s}', textposition='outside',row=1,col=2)\n",
    "    fig.update_traces(texttemplate='%{text:.3s}', textposition='outside',row=1,col=3)\n",
    "    fig.update_traces(texttemplate='%{text:.3s}', textposition='outside',row=1,col=4)\n",
    "    fig.update_traces(texttemplate='%{text:.3s}', textposition='outside',row=1,col=5)\n",
    "    fig.update_traces(texttemplate='%{text:.3s}', textposition='outside',row=1,col=6)\n",
    "    fig.update_layout(xaxis_title=\"\", xaxis_visible=False, yaxis_visible=True,\n",
    "                      xaxis2_title=\"Bill<br>Savings<br>usd\", xaxis2_visible=True, yaxis2_visible=False,\n",
    "                      xaxis3_title=\"Site Emission<br>Saving<br>kgCO2e\", xaxis3_visible=True, yaxis3_visible=False,\n",
    "                      xaxis4_title=\"Site Energy<br>Saving<br>mmbtu\", xaxis4_visible=True, yaxis4_visible=False,\n",
    "                      xaxis5_title=\"Electricity<br>Saving<br>kwh\", xaxis5_visible=True, yaxis5_visible=False,\n",
    "                      xaxis6_title=\"Gas, Propane,<br>Fuel Oil Saving<br>mmbtu\", xaxis6_visible=True, yaxis6_visible=False,\n",
    "                     title='Community Total Annual Savings')\n",
    "    fig.update_layout(\n",
    "    autosize=False,\n",
    "    width=1100,\n",
    "    height=500,\n",
    "    font=dict(size=10),\n",
    "    plot_bgcolor='rgba(0, 0, 0, 0)',)\n",
    "    fig.update_xaxes(tickangle=45)\n",
    "    fig.update_layout(showlegend=False)\n",
    "    \n",
    "    fig.show()\n",
    "    fig.write_image(fig_dir / 'total_annual_savings_2.svg')\n",
    "    \n",
    "    return results[['saving_cbill.total_usd','saving_emission.total_kgCO2e','saving_energy.total_mmbtu','saving_energy.electricity_kwh','saving_energy.natural_gas_fuel_oil_propane_mmbtu']]\n",
    "\n",
    "# flavor 3 - site energy only\n",
    "def figure_total_savings_3(commnity_results):\n",
    "    results = commnity_results[[\n",
    "        'upgrade_name',\n",
    "        'saving_energy.total_mmbtu',\n",
    "        'saving_cbill.total_usd',\n",
    "        'saving_emission.total_kgCO2e',\n",
    "        'sample_weight']]\n",
    "    results = results.loc[results['upgrade_name'] != 'baseline']\n",
    "    results['saving_energy.total_mmbtu'] = results['saving_energy.total_mmbtu']*results['sample_weight']\n",
    "    results['saving_cbill.total_usd'] = results['saving_cbill.total_usd']*results['sample_weight']\n",
    "    results['saving_emission.total_kgCO2e'] = results['saving_emission.total_kgCO2e']*results['sample_weight']\n",
    "    \n",
    "    agg_functions = {'upgrade_name': 'first',\n",
    "                     'saving_energy.total_mmbtu': 'sum', \n",
    "                     'saving_cbill.total_usd': 'sum',\n",
    "                     'saving_emission.total_kgCO2e': 'sum'}\n",
    "    results = results.groupby(results['upgrade_name']).aggregate(agg_functions)\n",
    "    results = results.sort_values('saving_cbill.total_usd')\n",
    "    \n",
    "    fig = make_subplots(rows=1, cols=4, horizontal_spacing=0.1, column_widths=[0.02, 1, 1, 1])\n",
    "    \n",
    "    fig.add_trace(go.Bar(\n",
    "        x=[0] * 176,\n",
    "        y=results['upgrade_name'],\n",
    "        text=None,\n",
    "        orientation='h'), row=1, col=1)\n",
    "    \n",
    "    fig.add_trace(go.Bar(\n",
    "        x=results['saving_cbill.total_usd'],\n",
    "        y=results['upgrade_name'],\n",
    "        text=results['saving_cbill.total_usd'],\n",
    "        orientation='h'), row=1, col=2)\n",
    "    \n",
    "    fig.add_trace(go.Bar(\n",
    "        x=results['saving_emission.total_kgCO2e'],\n",
    "        y=results['upgrade_name'],\n",
    "        text=results['saving_emission.total_kgCO2e'],\n",
    "        orientation='h'),row=1, col=3)\n",
    "    \n",
    "    fig.add_trace(go.Bar(\n",
    "        x=results['saving_energy.total_mmbtu'],\n",
    "        y=results['upgrade_name'],\n",
    "        text=results['saving_energy.total_mmbtu'],\n",
    "        orientation='h'),row=1, col=4)\n",
    "\n",
    "    fig.update_traces(textfont_size=10, textangle=0, textposition=\"outside\", cliponaxis=False)\n",
    "    fig.update_traces(marker_color='rgb(0, 121, 61)', marker_line_color='rgb(0, 121, 61)')\n",
    "    fig.update_traces(marker_color='rgb(255, 255, 255)', marker_line_color='rgb(255, 255, 255)',row=1,col=1)\n",
    "    fig.update_traces(texttemplate='%{text:.3s}', textposition='outside',row=1,col=2)\n",
    "    fig.update_traces(texttemplate='%{text:.3s}', textposition='outside',row=1,col=3)\n",
    "    fig.update_traces(texttemplate='%{text:.3s}', textposition='outside',row=1,col=4)\n",
    "    fig.update_layout(xaxis_title=\"\", xaxis_visible=False, yaxis_visible=True,\n",
    "                      xaxis2_title=\"Bill Savings<br>usd\", xaxis2_visible=True, yaxis2_visible=False,\n",
    "                      xaxis3_title=\"Emission Savings<br>kgCO2e\", xaxis3_visible=True, yaxis3_visible=False,\n",
    "                      xaxis4_title=\"Energy Savings<br>mmbtu\", xaxis4_visible=True, yaxis4_visible=False,\n",
    "                     title='Total Annual Savings for the Whole Community')\n",
    "    fig.update_layout(\n",
    "    autosize=False,\n",
    "    width=850,\n",
    "    height=500,\n",
    "    font=dict(size=10),\n",
    "    plot_bgcolor='rgba(0, 0, 0, 0)',)\n",
    "    fig.update_xaxes(tickangle=45)\n",
    "    fig.update_layout(showlegend=False)\n",
    "    \n",
    "    fig.show()\n",
    "    fig.write_image(fig_dir / 'total_annual_savings_3.svg')"
   ]
  },
  {
   "cell_type": "markdown",
   "id": "5e598a0f",
   "metadata": {},
   "source": [
    "## Whole Community Annual Savings Per Dewlling Unit"
   ]
  },
  {
   "cell_type": "code",
   "execution_count": 5,
   "id": "7df58f8e",
   "metadata": {},
   "outputs": [],
   "source": [
    "def figure_mean_savings(commnity_results):\n",
    "    results = commnity_results[['upgrade_name',\n",
    "                       'saving_energy.total_mmbtu',\n",
    "                       'saving_cbill.total_usd',\n",
    "                       'saving_emission.total_kgCO2e',\n",
    "                                'sample_weight']]\n",
    "    results = results.loc[results['upgrade_name'] != 'baseline']\n",
    "    results['saving_energy.total_mmbtu'] = results['saving_energy.total_mmbtu']*results['sample_weight']\n",
    "    results['saving_cbill.total_usd'] = results['saving_cbill.total_usd']*results['sample_weight']\n",
    "    results['saving_emission.total_kgCO2e'] = results['saving_emission.total_kgCO2e']*results['sample_weight']\n",
    "    \n",
    "    agg_functions = {'upgrade_name': 'first',\n",
    "                     'saving_energy.total_mmbtu': 'sum', \n",
    "                     'saving_cbill.total_usd': 'sum',\n",
    "                     'saving_emission.total_kgCO2e': 'sum',\n",
    "                    'sample_weight': 'sum'}\n",
    "    results = results.groupby(results['upgrade_name']).aggregate(agg_functions)\n",
    "    results['saving_energy.total_mmbtu'] = results['saving_energy.total_mmbtu']/results['sample_weight']\n",
    "    results['saving_cbill.total_usd'] = results['saving_cbill.total_usd']/results['sample_weight']\n",
    "    results['saving_emission.total_kgCO2e'] = results['saving_emission.total_kgCO2e']/results['sample_weight']\n",
    "    results = results.sort_values('saving_cbill.total_usd')\n",
    "    \n",
    "    print('sample_weight')\n",
    "    display(results['sample_weight'])\n",
    "  \n",
    "    fig = make_subplots(rows=1, cols=4, horizontal_spacing=0.1, column_widths=[0.02, 1, 1, 1])\n",
    "    \n",
    "    fig.add_trace(go.Bar(\n",
    "        x=[0] * 176,\n",
    "        y=results['upgrade_name'],\n",
    "        text=None,\n",
    "        orientation='h'), row=1, col=1)\n",
    "    \n",
    "    fig.add_trace(go.Bar(\n",
    "        x=results['saving_cbill.total_usd'],\n",
    "        y=results['upgrade_name'],\n",
    "        text=results['saving_cbill.total_usd'],\n",
    "        orientation='h'), row=1, col=2)\n",
    "    \n",
    "    fig.add_trace(go.Bar(\n",
    "        x=results['saving_emission.total_kgCO2e'],\n",
    "        y=results['upgrade_name'],\n",
    "        text=results['saving_emission.total_kgCO2e'],\n",
    "        orientation='h'),row=1, col=3)\n",
    "    \n",
    "    fig.add_trace(go.Bar(\n",
    "        x=results['saving_energy.total_mmbtu'],\n",
    "        y=results['upgrade_name'],\n",
    "        text=results['saving_energy.total_mmbtu'],\n",
    "        orientation='h'),row=1, col=4)\n",
    "\n",
    "    fig.update_traces(textfont_size=10, textangle=0, textposition=\"outside\", cliponaxis=False)\n",
    "    fig.update_traces(marker_color='rgb(0, 121, 61)', marker_line_color='rgb(0, 121, 61)')\n",
    "    fig.update_traces(marker_color='rgb(255, 255, 255)', marker_line_color='rgb(255, 255, 255)',row=1,col=1)\n",
    "    fig.update_traces(texttemplate='%{text:.3s}', textposition='outside',row=1,col=2)\n",
    "    fig.update_traces(texttemplate='%{text:.3s}', textposition='outside',row=1,col=3)\n",
    "    fig.update_traces(texttemplate='%{text:.3s}', textposition='outside',row=1,col=4)\n",
    "    fig.update_layout(xaxis_title=\"\", xaxis_visible=False, yaxis_visible=True,\n",
    "                      xaxis2_title=\"Bill Savings<br>usd\", xaxis2_visible=True, yaxis2_visible=False,\n",
    "                      xaxis3_title=\"Emission Savings<br>kgCO2e\", xaxis3_visible=True, yaxis3_visible=False,\n",
    "                      xaxis4_title=\"Energy Savings<br>mmbtu\", xaxis4_visible=True, yaxis4_visible=False,\n",
    "                     title='Annual Savings Per Dwelling Unit')\n",
    "    fig.update_layout(\n",
    "    autosize=False,\n",
    "    width=850,\n",
    "    height=500,\n",
    "    font=dict(size=10),\n",
    "    plot_bgcolor='rgba(0, 0, 0, 0)',)\n",
    "    fig.update_xaxes(tickangle=45)\n",
    "    fig.update_layout(showlegend=False)\n",
    "    \n",
    "    fig.show()\n",
    "    fig.write_image(fig_dir / 'annual_saving_per_dwelling_unit.svg')\n",
    "    \n",
    "    return results[['saving_cbill.total_usd','saving_emission.total_kgCO2e','saving_energy.total_mmbtu']]"
   ]
  },
  {
   "cell_type": "markdown",
   "id": "629953b2",
   "metadata": {},
   "source": [
    "## Segment Upgrade Cost Per Dwelling Unit"
   ]
  },
  {
   "cell_type": "code",
   "execution_count": 6,
   "id": "b17b036c",
   "metadata": {},
   "outputs": [],
   "source": [
    "def segment_mean_upgrade_cost(commnity_results):\n",
    "    results = commnity_results[['upgrade_name',\n",
    "                       'upgrade_cost_usd',\n",
    "                                'sample_weight',\n",
    "                                'segment']]\n",
    "    results = results.loc[results['upgrade_name'] != 'baseline']\n",
    "    results['upgrade_cost_usd'] = results['upgrade_cost_usd']*results['sample_weight']\n",
    "    \n",
    "    segment1 = results.loc[results['segment'] == 'segment1']\n",
    "    segment2 = results.loc[results['segment'] == 'segment2']\n",
    "    segment3 = results.loc[results['segment'] == 'segment3']\n",
    "    segment4 = results.loc[results['segment'] == 'segment4']\n",
    "    \n",
    "    agg_functions = {'upgrade_name': 'first',\n",
    "                     'segment': 'first',\n",
    "                     'upgrade_cost_usd': 'sum',\n",
    "                    'sample_weight': 'sum'}\n",
    "    \n",
    "    segment1 = segment1.groupby(segment1['upgrade_name']).aggregate(agg_functions)\n",
    "    segment2 = segment2.groupby(segment2['upgrade_name']).aggregate(agg_functions)\n",
    "    segment3 = segment3.groupby(segment3['upgrade_name']).aggregate(agg_functions)\n",
    "    segment4 = segment4.groupby(segment4['upgrade_name']).aggregate(agg_functions)\n",
    "    \n",
    "    segment1['upgrade_cost_usd'] = segment1['upgrade_cost_usd']/segment1['sample_weight']\n",
    "    segment2['upgrade_cost_usd'] = segment2['upgrade_cost_usd']/segment2['sample_weight']\n",
    "    segment3['upgrade_cost_usd'] = segment3['upgrade_cost_usd']/segment3['sample_weight']\n",
    "    segment4['upgrade_cost_usd'] = segment4['upgrade_cost_usd']/segment4['sample_weight']\n",
    "    \n",
    "    segment1 = segment1.sort_values('upgrade_cost_usd')\n",
    "    segment2 = segment2.sort_values('upgrade_cost_usd')\n",
    "    segment3 = segment3.sort_values('upgrade_cost_usd')\n",
    "    segment4 = segment4.sort_values('upgrade_cost_usd')\n",
    "    \n",
    "    segment1['upgrade_cost_usd'] = segment1['upgrade_cost_usd'].round(1)\n",
    "    segment2['upgrade_cost_usd'] = segment2['upgrade_cost_usd'].round(1)\n",
    "    segment3['upgrade_cost_usd'] = segment3['upgrade_cost_usd'].round(1)\n",
    "    segment4['upgrade_cost_usd'] = segment4['upgrade_cost_usd'].round(1)\n",
    "    \n",
    "    print('segment1: upgrade cost (usd) per dwelling unit')\n",
    "    display(segment1['upgrade_cost_usd'])\n",
    "    print('segment2: upgrade cost (usd) per dwelling unit')\n",
    "    display(segment2['upgrade_cost_usd'])\n",
    "    print('segment3: upgrade cost (usd) per dwelling unit')\n",
    "    display(segment3['upgrade_cost_usd'])\n",
    "    print('segment4: upgrade cost (usd) per dwelling unit')\n",
    "    display(segment4['upgrade_cost_usd'])\n",
    "    return (segment1['upgrade_cost_usd'], segment2['upgrade_cost_usd'], segment3['upgrade_cost_usd'], segment4['upgrade_cost_usd'])"
   ]
  },
  {
   "cell_type": "markdown",
   "id": "2233e9eb",
   "metadata": {},
   "source": [
    "## Segment Savings Per Dollar Invested"
   ]
  },
  {
   "cell_type": "code",
   "execution_count": 7,
   "id": "b63f0b29",
   "metadata": {},
   "outputs": [],
   "source": [
    "def segment_savings_per_dollar(indicator, commnity_results):\n",
    "    \n",
    "    results = commnity_results[['upgrade_name', indicator, 'upgrade_cost_usd', 'sample_weight', 'segment']]\n",
    "    results = results.loc[results['upgrade_name'] != 'baseline']\n",
    "    results[indicator] = results[indicator]*results['sample_weight']\n",
    "    results['upgrade_cost_usd'] = results['upgrade_cost_usd']*results['sample_weight']\n",
    "    \n",
    "    segment1 = results.loc[results['segment'] == 'segment1']\n",
    "    segment2 = results.loc[results['segment'] == 'segment2']\n",
    "    segment3 = results.loc[results['segment'] == 'segment3']\n",
    "    segment4 = results.loc[results['segment'] == 'segment4']\n",
    "    \n",
    "    agg_functions = {'upgrade_name': 'first',\n",
    "                     indicator: 'sum',\n",
    "                     'upgrade_cost_usd': 'sum',\n",
    "                     'sample_weight': 'sum'}\n",
    "    \n",
    "    segment1_agg = segment1.groupby(segment1['upgrade_name']).aggregate(agg_functions)\n",
    "    segment2_agg = segment2.groupby(segment2['upgrade_name']).aggregate(agg_functions)\n",
    "    segment3_agg = segment3.groupby(segment3['upgrade_name']).aggregate(agg_functions)\n",
    "    segment4_agg = segment4.groupby(segment4['upgrade_name']).aggregate(agg_functions)\n",
    "    \n",
    "    segment1_agg[indicator] = segment1_agg[indicator]/segment1_agg['upgrade_cost_usd']\n",
    "    segment2_agg[indicator] = segment2_agg[indicator]/segment2_agg['upgrade_cost_usd']\n",
    "    segment3_agg[indicator] = segment3_agg[indicator]/segment3_agg['upgrade_cost_usd']\n",
    "    segment4_agg[indicator] = segment4_agg[indicator]/segment4_agg['upgrade_cost_usd']\n",
    "    \n",
    "    segment1_agg = segment1_agg.sort_values([indicator], ascending=False)\n",
    "    segment2_agg = segment2_agg.sort_values([indicator], ascending=False)\n",
    "    segment3_agg = segment3_agg.sort_values([indicator], ascending=False)\n",
    "    segment4_agg = segment4_agg.sort_values([indicator], ascending=False)\n",
    "    \n",
    "    segment1_agg[indicator] = segment1_agg[indicator].round(5)\n",
    "    segment2_agg[indicator] = segment2_agg[indicator].round(5)\n",
    "    segment3_agg[indicator] = segment3_agg[indicator].round(5)\n",
    "    segment4_agg[indicator] = segment4_agg[indicator].round(5)\n",
    "    \n",
    "    print('segment1')\n",
    "    display(segment1_agg[indicator])\n",
    "    print('segment2')\n",
    "    display(segment2_agg[indicator])\n",
    "    print('segment3')\n",
    "    display(segment3_agg[indicator])\n",
    "    print('segment4')\n",
    "    display(segment4_agg[indicator]) \n",
    "    \n",
    "    return (segment1_agg[indicator],segment2_agg[indicator],segment3_agg[indicator],segment4_agg[indicator])"
   ]
  },
  {
   "cell_type": "markdown",
   "id": "4578ff09",
   "metadata": {},
   "source": [
    "## Segment Annual Total Savings"
   ]
  },
  {
   "cell_type": "code",
   "execution_count": 8,
   "id": "f1de1889",
   "metadata": {},
   "outputs": [],
   "source": [
    "def segment_annual_total_savings(indicator, commnity_results):\n",
    "    \n",
    "    results = commnity_results[['upgrade_name', indicator, 'sample_weight', 'segment']]\n",
    "    results = results.loc[results['upgrade_name'] != 'baseline']\n",
    "    results[indicator] = results[indicator]*results['sample_weight']\n",
    "    \n",
    "    segment1 = results.loc[results['segment'] == 'segment1']\n",
    "    segment2 = results.loc[results['segment'] == 'segment2']\n",
    "    segment3 = results.loc[results['segment'] == 'segment3']\n",
    "    segment4 = results.loc[results['segment'] == 'segment4']\n",
    "    \n",
    "    agg_functions = {'upgrade_name': 'first',\n",
    "                     indicator: 'sum',\n",
    "                    'sample_weight': 'sum'}\n",
    "    \n",
    "    segment1_agg = segment1.groupby(segment1['upgrade_name']).aggregate(agg_functions)\n",
    "    segment2_agg = segment2.groupby(segment2['upgrade_name']).aggregate(agg_functions)\n",
    "    segment3_agg = segment3.groupby(segment3['upgrade_name']).aggregate(agg_functions)\n",
    "    segment4_agg = segment4.groupby(segment4['upgrade_name']).aggregate(agg_functions)\n",
    "    \n",
    "    segment1_agg = segment1_agg.sort_values([indicator], ascending=False)\n",
    "    segment2_agg = segment2_agg.sort_values([indicator], ascending=False)\n",
    "    segment3_agg = segment3_agg.sort_values([indicator], ascending=False)\n",
    "    segment4_agg = segment4_agg.sort_values([indicator], ascending=False)\n",
    "    \n",
    "    segment1_agg[indicator] = segment1_agg[indicator].round(1)\n",
    "    segment2_agg[indicator] = segment2_agg[indicator].round(1)\n",
    "    segment3_agg[indicator] = segment3_agg[indicator].round(1)\n",
    "    segment4_agg[indicator] = segment4_agg[indicator].round(1)\n",
    "\n",
    "    print('segment1')\n",
    "    display(segment1_agg[indicator])\n",
    "    print('segment2')\n",
    "    display(segment2_agg[indicator])\n",
    "    print('segment3')\n",
    "    display(segment3_agg[indicator])\n",
    "    print('segment4')\n",
    "    display(segment4_agg[indicator])\n",
    "    \n",
    "    return (segment1_agg[indicator],segment2_agg[indicator],segment3_agg[indicator],segment4_agg[indicator])"
   ]
  },
  {
   "cell_type": "markdown",
   "id": "102d90f1",
   "metadata": {},
   "source": [
    "## Segment Annual Savings Per Dwelling Unit"
   ]
  },
  {
   "cell_type": "code",
   "execution_count": 9,
   "id": "6b74793b",
   "metadata": {},
   "outputs": [],
   "source": [
    "def segment_mean_savings(indicator, commnity_results):\n",
    "    \n",
    "    results = commnity_results[['upgrade_name', indicator, 'sample_weight', 'segment']]\n",
    "    results = results.loc[results['upgrade_name'] != 'baseline']\n",
    "    results[indicator] = results[indicator]*results['sample_weight']\n",
    "    \n",
    "    segment1 = results.loc[results['segment'] == 'segment1']\n",
    "    segment2 = results.loc[results['segment'] == 'segment2']\n",
    "    segment3 = results.loc[results['segment'] == 'segment3']\n",
    "    segment4 = results.loc[results['segment'] == 'segment4']\n",
    "    \n",
    "    agg_functions = {'upgrade_name': 'first',\n",
    "                     indicator: 'sum',\n",
    "                    'sample_weight': 'sum'}\n",
    "    \n",
    "    segment1_agg = segment1.groupby(segment1['upgrade_name']).aggregate(agg_functions)\n",
    "    segment2_agg = segment2.groupby(segment2['upgrade_name']).aggregate(agg_functions)\n",
    "    segment3_agg = segment3.groupby(segment3['upgrade_name']).aggregate(agg_functions)\n",
    "    segment4_agg = segment4.groupby(segment4['upgrade_name']).aggregate(agg_functions)\n",
    "    \n",
    "    segment1_agg[indicator] = segment1_agg[indicator]/segment1_agg['sample_weight']\n",
    "    segment2_agg[indicator] = segment2_agg[indicator]/segment2_agg['sample_weight']\n",
    "    segment3_agg[indicator] = segment3_agg[indicator]/segment3_agg['sample_weight']\n",
    "    segment4_agg[indicator] = segment4_agg[indicator]/segment4_agg['sample_weight']\n",
    "    \n",
    "    segment1_agg = segment1_agg.sort_values([indicator], ascending=False)\n",
    "    segment2_agg = segment2_agg.sort_values([indicator], ascending=False)\n",
    "    segment3_agg = segment3_agg.sort_values([indicator], ascending=False)\n",
    "    segment4_agg = segment4_agg.sort_values([indicator], ascending=False)\n",
    "    \n",
    "    segment1_agg[indicator] = segment1_agg[indicator].round(1)\n",
    "    segment2_agg[indicator] = segment2_agg[indicator].round(1)\n",
    "    segment3_agg[indicator] = segment3_agg[indicator].round(1)\n",
    "    segment4_agg[indicator] = segment4_agg[indicator].round(1)\n",
    "    \n",
    "    print('segment1')\n",
    "    display(segment1_agg[indicator])\n",
    "    print('segment2')\n",
    "    display(segment2_agg[indicator])\n",
    "    print('segment3')\n",
    "    display(segment3_agg[indicator])\n",
    "    print('segment4')\n",
    "    display(segment4_agg[indicator])\n",
    "    \n",
    "    return (segment1_agg[indicator],segment2_agg[indicator],segment3_agg[indicator],segment4_agg[indicator])"
   ]
  },
  {
   "cell_type": "markdown",
   "id": "4e3a051b",
   "metadata": {},
   "source": [
    "## Segment Percent Stock with Net Positive Savings"
   ]
  },
  {
   "cell_type": "code",
   "execution_count": 10,
   "id": "862cf0d7",
   "metadata": {},
   "outputs": [],
   "source": [
    "def figure_positive_negative_savings(segment, commnity_results):\n",
    "    results = commnity_results[['upgrade_name',\n",
    "                                  'saving_energy.total_mmbtu',\n",
    "                                  'saving_cbill.total_usd',\n",
    "                                  'saving_emission.total_kgCO2e',\n",
    "                                'sample_weight',\n",
    "                               'segment']]\n",
    "    results = results.loc[results['upgrade_name'] != 'baseline']\n",
    "    results = results.loc[results['segment'] == segment]\n",
    "    results = results.groupby(results['upgrade_name'])\n",
    "  \n",
    "    def pos(col): \n",
    "      return col[col > 0].count()\n",
    "  \n",
    "    def neg(col): \n",
    "      return col[col < 0].count() \n",
    "\n",
    "    percentage = pd.DataFrame()\n",
    "\n",
    "    bill = results['saving_cbill.total_usd'].agg([('negative_values', neg),('positive_values', pos)])\n",
    "    emission = results['saving_emission.total_kgCO2e'].agg([('negative_values', neg),('positive_values', pos)])\n",
    "    energy = results['saving_energy.total_mmbtu'].agg([('negative_values', neg),('positive_values', pos)])\n",
    "    \n",
    "    percentage ['cbill_n'] = bill['negative_values']/(bill['negative_values']+bill['positive_values'])\n",
    "    percentage ['cbill_p'] = bill['positive_values']/(bill['negative_values']+bill['positive_values'])\n",
    "    percentage ['emission_n'] = emission['negative_values']/(emission['negative_values']+emission['positive_values'])\n",
    "    percentage ['emission_p'] = emission['positive_values']/(emission['negative_values']+emission['positive_values'])\n",
    "    percentage ['energy_n'] = energy['negative_values']/(energy['negative_values']+energy['positive_values'])\n",
    "    percentage ['energy_p'] = energy['positive_values']/(energy['negative_values']+energy['positive_values'])\n",
    "    \n",
    "    \n",
    "    percentage = percentage.sort_values(('cbill_p'))\n",
    "    upgrade_name = percentage.index\n",
    "    \n",
    "    fig = make_subplots(rows=1, cols=3)\n",
    "    marker1= dict(color='red')\n",
    "    marker2= dict(color='green')\n",
    "    \n",
    "    fig.add_bar(y=upgrade_name, x=percentage ['cbill_n'], text=percentage ['cbill_n'],\n",
    "                orientation='h',name = \"Negative\",row=1, col=1, marker=marker1)\n",
    "    fig.add_bar(y=upgrade_name, x=percentage ['cbill_p'],text=percentage ['cbill_p'],\n",
    "                orientation='h', name = \"Positive\", row=1, col=1, marker=marker2)\n",
    "    \n",
    "    fig.add_bar(y=upgrade_name, x=percentage ['emission_n'], text=percentage ['emission_n'],\n",
    "                orientation='h',showlegend=False, row=1, col=2, marker=marker1)\n",
    "    fig.add_bar(y=upgrade_name, x=percentage ['emission_p'],text=percentage ['emission_p'],\n",
    "                orientation='h', showlegend=False, row=1, col=2, marker=marker2)\n",
    "    \n",
    "    fig.add_bar(y=upgrade_name, x=percentage ['energy_n'],text=percentage ['energy_n'],\n",
    "                orientation='h',showlegend=False, row=1, col=3, marker=marker1)\n",
    "    fig.add_bar(y=upgrade_name, x=percentage ['energy_p'],text=percentage ['energy_p'],\n",
    "                orientation='h', showlegend=False, row=1, col=3, marker=marker2)\n",
    "   \n",
    "  \n",
    "    fig.update_layout(barmode=\"relative\")\n",
    "    fig.update_traces(texttemplate='%{text:.0%}', textposition='inside')\n",
    "    \n",
    "    fig.update_layout(xaxis_title=\"Bill\", xaxis_visible=True, yaxis_visible=True,\n",
    "                      xaxis2_title=\"Emission\", xaxis2_visible=True, yaxis2_visible=False,\n",
    "                      xaxis3_title=\"Total Energy\", xaxis3_visible=True, yaxis3_visible=False,\n",
    "                      font=dict(size=10))\n",
    "    \n",
    "    fig.update_layout(\n",
    "        title='Percentage of Household in Positive and Negative Savings')\n",
    "    \n",
    "    fig.update_layout(\n",
    "    autosize=False,\n",
    "    width=1000,\n",
    "    height=500,\n",
    "    font=dict(size=10))\n",
    "    fig.layout.xaxis1.tickformat = ',.0%'\n",
    "    fig.layout.xaxis2.tickformat = ',.0%'\n",
    "    fig.layout.xaxis3.tickformat = ',.0%'\n",
    "    \n",
    "    fig.show()\n",
    "    fig.write_image(fig_dir / f'percentage_positive_saving_{segment}.svg')\n",
    "    return (percentage ['cbill_p'],percentage ['emission_p'],percentage ['energy_p'])"
   ]
  },
  {
   "cell_type": "markdown",
   "id": "63119384",
   "metadata": {},
   "source": [
    "## Segment Average Energy Burden (%) Before and after Upgrade."
   ]
  },
  {
   "cell_type": "code",
   "execution_count": 11,
   "id": "81da90ec",
   "metadata": {},
   "outputs": [],
   "source": [
    "def segment_mean_energy_burden(indicator, commnity_results):\n",
    "    \n",
    "    results = commnity_results[['upgrade_name', indicator, 'baseline_energy_burden_2023_cbills.%', 'sample_weight', 'segment']]\n",
    "    results.replace([np.inf, -np.inf], np.nan, inplace=True)\n",
    "    results.dropna(subset=['baseline_energy_burden_2023_cbills.%'], how=\"all\", inplace=True)\n",
    "    results[indicator] = results[indicator]*results['sample_weight']\n",
    "    results['baseline_energy_burden_2023_cbills.%'] = results['baseline_energy_burden_2023_cbills.%']*results['sample_weight']\n",
    "    \n",
    "    segment1 = results.loc[results['segment'] == 'segment1']\n",
    "    segment2 = results.loc[results['segment'] == 'segment2']\n",
    "    segment3 = results.loc[results['segment'] == 'segment3']\n",
    "    segment4 = results.loc[results['segment'] == 'segment4']\n",
    "    \n",
    "    agg_functions = {'upgrade_name': 'first',\n",
    "                     indicator: 'sum',\n",
    "                     'baseline_energy_burden_2023_cbills.%': 'sum',\n",
    "                    'sample_weight': 'sum'}\n",
    "    \n",
    "    segment1_agg = segment1.groupby(segment1['upgrade_name']).aggregate(agg_functions)\n",
    "    segment2_agg = segment2.groupby(segment2['upgrade_name']).aggregate(agg_functions)\n",
    "    segment3_agg = segment3.groupby(segment3['upgrade_name']).aggregate(agg_functions)\n",
    "    segment4_agg = segment4.groupby(segment4['upgrade_name']).aggregate(agg_functions)\n",
    "    \n",
    "    segment1_agg['baseline_energy_burden_2023_cbills.%'] = segment1_agg['baseline_energy_burden_2023_cbills.%']/segment1_agg['sample_weight']\n",
    "    segment2_agg['baseline_energy_burden_2023_cbills.%'] = segment2_agg['baseline_energy_burden_2023_cbills.%']/segment2_agg['sample_weight']\n",
    "    segment3_agg['baseline_energy_burden_2023_cbills.%'] = segment3_agg['baseline_energy_burden_2023_cbills.%']/segment3_agg['sample_weight']\n",
    "    segment4_agg['baseline_energy_burden_2023_cbills.%'] = segment4_agg['baseline_energy_burden_2023_cbills.%']/segment4_agg['sample_weight']\n",
    "    \n",
    "    segment1_agg[indicator] = segment1_agg[indicator]/segment1_agg['sample_weight']\n",
    "    segment2_agg[indicator] = segment2_agg[indicator]/segment2_agg['sample_weight']\n",
    "    segment3_agg[indicator] = segment3_agg[indicator]/segment3_agg['sample_weight']\n",
    "    segment4_agg[indicator] = segment4_agg[indicator]/segment4_agg['sample_weight']\n",
    "    \n",
    "    segment1_agg['energy_burden_diff'] = segment1_agg['baseline_energy_burden_2023_cbills.%'] - segment1_agg[indicator]\n",
    "    segment2_agg['energy_burden_diff'] = segment2_agg['baseline_energy_burden_2023_cbills.%'] - segment2_agg[indicator]\n",
    "    segment3_agg['energy_burden_diff'] = segment3_agg['baseline_energy_burden_2023_cbills.%'] - segment3_agg[indicator]\n",
    "    segment4_agg['energy_burden_diff'] = segment4_agg['baseline_energy_burden_2023_cbills.%'] - segment4_agg[indicator]\n",
    "    \n",
    "    segment1_agg = segment1_agg.sort_values(['energy_burden_diff'], ascending=False)\n",
    "    segment2_agg = segment2_agg.sort_values(['energy_burden_diff'], ascending=False)\n",
    "    segment3_agg = segment3_agg.sort_values(['energy_burden_diff'], ascending=False)\n",
    "    segment4_agg = segment4_agg.sort_values(['energy_burden_diff'], ascending=False)\n",
    "    \n",
    "    segment1_agg = segment1_agg[segment1_agg.upgrade_name != 'baseline']\n",
    "    segment2_agg = segment2_agg[segment2_agg.upgrade_name != 'baseline']\n",
    "    segment3_agg = segment3_agg[segment3_agg.upgrade_name != 'baseline']\n",
    "    segment4_agg = segment4_agg[segment4_agg.upgrade_name != 'baseline']\n",
    "    \n",
    "    segment1_agg = segment1_agg.rename(columns={'baseline_energy_burden_2023_cbills.%': 'before', indicator: 'after'})\n",
    "    segment2_agg = segment2_agg.rename(columns={'baseline_energy_burden_2023_cbills.%': 'before', indicator: 'after'})\n",
    "    segment3_agg = segment3_agg.rename(columns={'baseline_energy_burden_2023_cbills.%': 'before', indicator: 'after'})\n",
    "    segment4_agg = segment4_agg.rename(columns={'baseline_energy_burden_2023_cbills.%': 'before', indicator: 'after'})\n",
    "    \n",
    "    segment1_agg['before'] = segment1_agg['before'].round(1)\n",
    "    segment2_agg['before'] = segment2_agg['before'].round(1)\n",
    "    segment3_agg['before'] = segment3_agg['before'].round(1)\n",
    "    segment4_agg['before'] = segment4_agg['before'].round(1)\n",
    "    segment1_agg['after'] = segment1_agg['after'].round(1)\n",
    "    segment2_agg['after'] = segment2_agg['after'].round(1)\n",
    "    segment3_agg['after'] = segment3_agg['after'].round(1)\n",
    "    segment4_agg['after'] = segment4_agg['after'].round(1)\n",
    "    \n",
    "    print ('energy burden (%) before and after upgrade')\n",
    "    print('segment1')\n",
    "    display(segment1_agg[['before', 'after']])\n",
    "    print('segment2')\n",
    "    display(segment2_agg[['before', 'after']])\n",
    "    print('segment3')\n",
    "    display(segment3_agg[['before', 'after']])\n",
    "    print('segment4')\n",
    "    display(segment4_agg[['before', 'after']])\n",
    "    \n",
    "    return(segment1_agg[['before', 'after']],segment2_agg[['before', 'after']],segment3_agg[['before', 'after']],segment4_agg[['before', 'after']])"
   ]
  },
  {
   "cell_type": "code",
   "execution_count": 12,
   "id": "97b37ad7",
   "metadata": {},
   "outputs": [],
   "source": [
    "community = 'columbia'\n",
    "fig_dir = Path(\".\").resolve() / \"results\" / community\n",
    "community_results = pd.read_parquet(f\"data_/community_building_samples_with_upgrade_cost_and_bill/{community}/processed_upgrade_results_TOU.parquet\")\n",
    "saving_results = pd.DataFrame()"
   ]
  },
  {
   "cell_type": "markdown",
   "id": "712ba191",
   "metadata": {},
   "source": [
    "# 1. Results for Whole Community"
   ]
  },
  {
   "cell_type": "markdown",
   "id": "825d991e",
   "metadata": {},
   "source": [
    "## 1.1 Upgrade Cost Per Dwelling Unit"
   ]
  },
  {
   "cell_type": "code",
   "execution_count": 13,
   "id": "d2f8640e",
   "metadata": {},
   "outputs": [
    {
     "name": "stdout",
     "output_type": "stream",
     "text": [
      "upgrade_cost_usd per dwelling unit\n"
     ]
    },
    {
     "data": {
      "text/plain": [
       "upgrade_name\n",
       "Electric Cooking                                                    1115.8\n",
       "Electric Clothes Dryer                                              1253.0\n",
       "Induction Cooking                                                   1918.7\n",
       "Heat Pump Clothes Dryer                                             2521.5\n",
       "Heat Pump Water Heater                                              3128.7\n",
       "Basic Enclosure                                                     4373.6\n",
       "Enhanced Enclosure                                                  6306.9\n",
       "Mininum Efficiency Whole Home Electrification                      13639.7\n",
       "Mininum Efficiency Heat Pump with Existing Heat Backup             14026.2\n",
       "Mininum Efficiency Heat Pump with Electric Heat Backup             14128.6\n",
       "High Efficiency Heat Pump with Electric Heat Backup                26553.9\n",
       "Basic Enclosure + HPWH + High Efficiency HP/Electric Backup        30947.0\n",
       "Enhanced Enclosure + HPWH + High Efficiency HP/Electric Backup     32253.8\n",
       "High Efficiency Whole Home Electrification                         33589.9\n",
       "Basic Enclosure + High Efficiency Whole Home Electrification       34951.9\n",
       "Enhanced Enclosure + High Efficiency Whole Home Electrification    36258.7\n",
       "Name: upgrade_cost_usd, dtype: float64"
      ]
     },
     "metadata": {},
     "output_type": "display_data"
    }
   ],
   "source": [
    "results = community_mean_upgrade_cost(community_results)\n",
    "saving_results['whole_community_upgrade_cost_mean_usd'] = results"
   ]
  },
  {
   "cell_type": "markdown",
   "id": "8612601a",
   "metadata": {},
   "source": [
    "## 1.2 Total Annual Savings"
   ]
  },
  {
   "cell_type": "code",
   "execution_count": 14,
   "id": "2d30637c",
   "metadata": {},
   "outputs": [
    {
     "data": {
      "application/vnd.plotly.v1+json": {
       "config": {
        "plotlyServerURL": "https://plot.ly"
       },
       "data": [
        {
         "cliponaxis": false,
         "marker": {
          "color": "rgb(255, 255, 255)",
          "line": {
           "color": "rgb(255, 255, 255)"
          }
         },
         "orientation": "h",
         "textangle": 0,
         "textfont": {
          "size": 10
         },
         "textposition": "outside",
         "type": "bar",
         "x": [
          0,
          0,
          0,
          0,
          0,
          0,
          0,
          0,
          0,
          0,
          0,
          0,
          0,
          0,
          0,
          0,
          0,
          0,
          0,
          0,
          0,
          0,
          0,
          0,
          0,
          0,
          0,
          0,
          0,
          0,
          0,
          0,
          0,
          0,
          0,
          0,
          0,
          0,
          0,
          0,
          0,
          0,
          0,
          0,
          0,
          0,
          0,
          0,
          0,
          0,
          0,
          0,
          0,
          0,
          0,
          0,
          0,
          0,
          0,
          0,
          0,
          0,
          0,
          0,
          0,
          0,
          0,
          0,
          0,
          0,
          0,
          0,
          0,
          0,
          0,
          0,
          0,
          0,
          0,
          0,
          0,
          0,
          0,
          0,
          0,
          0,
          0,
          0,
          0,
          0,
          0,
          0,
          0,
          0,
          0,
          0,
          0,
          0,
          0,
          0,
          0,
          0,
          0,
          0,
          0,
          0,
          0,
          0,
          0,
          0,
          0,
          0,
          0,
          0,
          0,
          0,
          0,
          0,
          0,
          0,
          0,
          0,
          0,
          0,
          0,
          0,
          0,
          0,
          0,
          0,
          0,
          0,
          0,
          0,
          0,
          0,
          0,
          0,
          0,
          0,
          0,
          0,
          0,
          0,
          0,
          0,
          0,
          0,
          0,
          0,
          0,
          0,
          0,
          0,
          0,
          0,
          0,
          0,
          0,
          0,
          0,
          0,
          0,
          0,
          0,
          0,
          0,
          0,
          0,
          0,
          0,
          0,
          0,
          0,
          0,
          0
         ],
         "xaxis": "x",
         "y": [
          "Electric Cooking",
          "Electric Clothes Dryer",
          "Induction Cooking",
          "Heat Pump Clothes Dryer",
          "Mininum Efficiency Whole Home Electrification",
          "Heat Pump Water Heater",
          "Mininum Efficiency Heat Pump with Existing Heat Backup",
          "Mininum Efficiency Heat Pump with Electric Heat Backup",
          "Basic Enclosure",
          "Enhanced Enclosure",
          "High Efficiency Heat Pump with Electric Heat Backup",
          "High Efficiency Whole Home Electrification",
          "Basic Enclosure + HPWH + High Efficiency HP/Electric Backup",
          "Enhanced Enclosure + HPWH + High Efficiency HP/Electric Backup",
          "Basic Enclosure + High Efficiency Whole Home Electrification",
          "Enhanced Enclosure + High Efficiency Whole Home Electrification"
         ],
         "yaxis": "y"
        },
        {
         "cliponaxis": false,
         "marker": {
          "color": "rgb(0, 121, 61)",
          "line": {
           "color": "rgb(0, 121, 61)"
          }
         },
         "orientation": "h",
         "text": [
          -182015.37176855368,
          -115272.05835259888,
          191654.64435130538,
          2449844.652724317,
          6523900.048094642,
          11466380.299900299,
          28860662.831289142,
          29236980.796178706,
          31005180.995794274,
          36379631.07325443,
          65735189.65319706,
          83392091.15660128,
          91175242.37922944,
          92837364.8379836,
          93913831.60413334,
          95575954.0628875
         ],
         "textangle": 0,
         "textfont": {
          "size": 10
         },
         "textposition": "outside",
         "texttemplate": "%{text:.3s}",
         "type": "bar",
         "x": [
          -182015.37176855368,
          -115272.05835259888,
          191654.64435130538,
          2449844.652724317,
          6523900.048094642,
          11466380.299900299,
          28860662.831289142,
          29236980.796178706,
          31005180.995794274,
          36379631.07325443,
          65735189.65319706,
          83392091.15660128,
          91175242.37922944,
          92837364.8379836,
          93913831.60413334,
          95575954.0628875
         ],
         "xaxis": "x2",
         "y": [
          "Electric Cooking",
          "Electric Clothes Dryer",
          "Induction Cooking",
          "Heat Pump Clothes Dryer",
          "Mininum Efficiency Whole Home Electrification",
          "Heat Pump Water Heater",
          "Mininum Efficiency Heat Pump with Existing Heat Backup",
          "Mininum Efficiency Heat Pump with Electric Heat Backup",
          "Basic Enclosure",
          "Enhanced Enclosure",
          "High Efficiency Heat Pump with Electric Heat Backup",
          "High Efficiency Whole Home Electrification",
          "Basic Enclosure + HPWH + High Efficiency HP/Electric Backup",
          "Enhanced Enclosure + HPWH + High Efficiency HP/Electric Backup",
          "Basic Enclosure + High Efficiency Whole Home Electrification",
          "Enhanced Enclosure + High Efficiency Whole Home Electrification"
         ],
         "yaxis": "y2"
        },
        {
         "cliponaxis": false,
         "marker": {
          "color": "rgb(0, 121, 61)",
          "line": {
           "color": "rgb(0, 121, 61)"
          }
         },
         "orientation": "h",
         "text": [
          1738716.9819606321,
          109469.05466047108,
          2444730.3511143755,
          4660347.295615813,
          58226225.09023675,
          30117277.445562206,
          85870393.52910651,
          97052568.44644807,
          79419412.43569708,
          93644231.2684836,
          172714249.20032558,
          220318206.71843675,
          234851691.04288825,
          238607404.9815212,
          241956768.68961844,
          245712482.62825137
         ],
         "textangle": 0,
         "textfont": {
          "size": 10
         },
         "textposition": "outside",
         "texttemplate": "%{text:.3s}",
         "type": "bar",
         "x": [
          1738716.9819606321,
          109469.05466047108,
          2444730.3511143755,
          4660347.295615813,
          58226225.09023675,
          30117277.445562206,
          85870393.52910651,
          97052568.44644807,
          79419412.43569708,
          93644231.2684836,
          172714249.20032558,
          220318206.71843675,
          234851691.04288825,
          238607404.9815212,
          241956768.68961844,
          245712482.62825137
         ],
         "xaxis": "x3",
         "y": [
          "Electric Cooking",
          "Electric Clothes Dryer",
          "Induction Cooking",
          "Heat Pump Clothes Dryer",
          "Mininum Efficiency Whole Home Electrification",
          "Heat Pump Water Heater",
          "Mininum Efficiency Heat Pump with Existing Heat Backup",
          "Mininum Efficiency Heat Pump with Electric Heat Backup",
          "Basic Enclosure",
          "Enhanced Enclosure",
          "High Efficiency Heat Pump with Electric Heat Backup",
          "High Efficiency Whole Home Electrification",
          "Basic Enclosure + HPWH + High Efficiency HP/Electric Backup",
          "Enhanced Enclosure + HPWH + High Efficiency HP/Electric Backup",
          "Basic Enclosure + High Efficiency Whole Home Electrification",
          "Enhanced Enclosure + High Efficiency Whole Home Electrification"
         ],
         "yaxis": "y3"
        },
        {
         "cliponaxis": false,
         "marker": {
          "color": "rgb(0, 121, 61)",
          "line": {
           "color": "rgb(0, 121, 61)"
          }
         },
         "orientation": "h",
         "text": [
          -6412656.867989991,
          -1704668.5876111924,
          -3571029.5657840595,
          17801908.50483785,
          -79057435.51862597,
          65471103.43628962,
          161633131.29481307,
          130714853.68339854,
          195009489.2344344,
          228833065.33597508,
          408270397.6408062,
          505491546.29511267,
          571273902.698508,
          583913617.2137488,
          585504781.6375618,
          598144496.1528026
         ],
         "textangle": 0,
         "textfont": {
          "size": 10
         },
         "textposition": "outside",
         "texttemplate": "%{text:.3s}",
         "type": "bar",
         "x": [
          -6412656.867989991,
          -1704668.5876111924,
          -3571029.5657840595,
          17801908.50483785,
          -79057435.51862597,
          65471103.43628962,
          161633131.29481307,
          130714853.68339854,
          195009489.2344344,
          228833065.33597508,
          408270397.6408062,
          505491546.29511267,
          571273902.698508,
          583913617.2137488,
          585504781.6375618,
          598144496.1528026
         ],
         "xaxis": "x4",
         "y": [
          "Electric Cooking",
          "Electric Clothes Dryer",
          "Induction Cooking",
          "Heat Pump Clothes Dryer",
          "Mininum Efficiency Whole Home Electrification",
          "Heat Pump Water Heater",
          "Mininum Efficiency Heat Pump with Existing Heat Backup",
          "Mininum Efficiency Heat Pump with Electric Heat Backup",
          "Basic Enclosure",
          "Enhanced Enclosure",
          "High Efficiency Heat Pump with Electric Heat Backup",
          "High Efficiency Whole Home Electrification",
          "Basic Enclosure + HPWH + High Efficiency HP/Electric Backup",
          "Enhanced Enclosure + HPWH + High Efficiency HP/Electric Backup",
          "Basic Enclosure + High Efficiency Whole Home Electrification",
          "Enhanced Enclosure + High Efficiency Whole Home Electrification"
         ],
         "yaxis": "y4"
        },
        {
         "cliponaxis": false,
         "marker": {
          "color": "rgb(0, 121, 61)",
          "line": {
           "color": "rgb(0, 121, 61)"
          }
         },
         "orientation": "h",
         "text": [
          48485.403662085766,
          7579.684418273646,
          48485.122376149484,
          7579.813478879707,
          1233024.1669182384,
          215595.7316691919,
          562551.993929293,
          884938.3884818183,
          392403.5328666667,
          457997.4673717172,
          884913.957309091,
          1233024.1669182384,
          1176959.231063209,
          1176959.231063209,
          1233024.1669182384,
          1233024.1669182384
         ],
         "textangle": 0,
         "textfont": {
          "size": 10
         },
         "textposition": "outside",
         "texttemplate": "%{text:.3s}",
         "type": "bar",
         "x": [
          48485.403662085766,
          7579.684418273646,
          48485.122376149484,
          7579.813478879707,
          1233024.1669182384,
          215595.7316691919,
          562551.993929293,
          884938.3884818183,
          392403.5328666667,
          457997.4673717172,
          884913.957309091,
          1233024.1669182384,
          1176959.231063209,
          1176959.231063209,
          1233024.1669182384,
          1233024.1669182384
         ],
         "xaxis": "x5",
         "y": [
          "Electric Cooking",
          "Electric Clothes Dryer",
          "Induction Cooking",
          "Heat Pump Clothes Dryer",
          "Mininum Efficiency Whole Home Electrification",
          "Heat Pump Water Heater",
          "Mininum Efficiency Heat Pump with Existing Heat Backup",
          "Mininum Efficiency Heat Pump with Electric Heat Backup",
          "Basic Enclosure",
          "Enhanced Enclosure",
          "High Efficiency Heat Pump with Electric Heat Backup",
          "High Efficiency Whole Home Electrification",
          "Basic Enclosure + HPWH + High Efficiency HP/Electric Backup",
          "Enhanced Enclosure + HPWH + High Efficiency HP/Electric Backup",
          "Basic Enclosure + High Efficiency Whole Home Electrification",
          "Enhanced Enclosure + High Efficiency Whole Home Electrification"
         ],
         "yaxis": "y5"
        }
       ],
       "layout": {
        "autosize": false,
        "font": {
         "size": 10
        },
        "height": 500,
        "plot_bgcolor": "rgba(0, 0, 0, 0)",
        "showlegend": false,
        "template": {
         "data": {
          "bar": [
           {
            "error_x": {
             "color": "#2a3f5f"
            },
            "error_y": {
             "color": "#2a3f5f"
            },
            "marker": {
             "line": {
              "color": "#E5ECF6",
              "width": 0.5
             },
             "pattern": {
              "fillmode": "overlay",
              "size": 10,
              "solidity": 0.2
             }
            },
            "type": "bar"
           }
          ],
          "barpolar": [
           {
            "marker": {
             "line": {
              "color": "#E5ECF6",
              "width": 0.5
             },
             "pattern": {
              "fillmode": "overlay",
              "size": 10,
              "solidity": 0.2
             }
            },
            "type": "barpolar"
           }
          ],
          "carpet": [
           {
            "aaxis": {
             "endlinecolor": "#2a3f5f",
             "gridcolor": "white",
             "linecolor": "white",
             "minorgridcolor": "white",
             "startlinecolor": "#2a3f5f"
            },
            "baxis": {
             "endlinecolor": "#2a3f5f",
             "gridcolor": "white",
             "linecolor": "white",
             "minorgridcolor": "white",
             "startlinecolor": "#2a3f5f"
            },
            "type": "carpet"
           }
          ],
          "choropleth": [
           {
            "colorbar": {
             "outlinewidth": 0,
             "ticks": ""
            },
            "type": "choropleth"
           }
          ],
          "contour": [
           {
            "colorbar": {
             "outlinewidth": 0,
             "ticks": ""
            },
            "colorscale": [
             [
              0,
              "#0d0887"
             ],
             [
              0.1111111111111111,
              "#46039f"
             ],
             [
              0.2222222222222222,
              "#7201a8"
             ],
             [
              0.3333333333333333,
              "#9c179e"
             ],
             [
              0.4444444444444444,
              "#bd3786"
             ],
             [
              0.5555555555555556,
              "#d8576b"
             ],
             [
              0.6666666666666666,
              "#ed7953"
             ],
             [
              0.7777777777777778,
              "#fb9f3a"
             ],
             [
              0.8888888888888888,
              "#fdca26"
             ],
             [
              1,
              "#f0f921"
             ]
            ],
            "type": "contour"
           }
          ],
          "contourcarpet": [
           {
            "colorbar": {
             "outlinewidth": 0,
             "ticks": ""
            },
            "type": "contourcarpet"
           }
          ],
          "heatmap": [
           {
            "colorbar": {
             "outlinewidth": 0,
             "ticks": ""
            },
            "colorscale": [
             [
              0,
              "#0d0887"
             ],
             [
              0.1111111111111111,
              "#46039f"
             ],
             [
              0.2222222222222222,
              "#7201a8"
             ],
             [
              0.3333333333333333,
              "#9c179e"
             ],
             [
              0.4444444444444444,
              "#bd3786"
             ],
             [
              0.5555555555555556,
              "#d8576b"
             ],
             [
              0.6666666666666666,
              "#ed7953"
             ],
             [
              0.7777777777777778,
              "#fb9f3a"
             ],
             [
              0.8888888888888888,
              "#fdca26"
             ],
             [
              1,
              "#f0f921"
             ]
            ],
            "type": "heatmap"
           }
          ],
          "heatmapgl": [
           {
            "colorbar": {
             "outlinewidth": 0,
             "ticks": ""
            },
            "colorscale": [
             [
              0,
              "#0d0887"
             ],
             [
              0.1111111111111111,
              "#46039f"
             ],
             [
              0.2222222222222222,
              "#7201a8"
             ],
             [
              0.3333333333333333,
              "#9c179e"
             ],
             [
              0.4444444444444444,
              "#bd3786"
             ],
             [
              0.5555555555555556,
              "#d8576b"
             ],
             [
              0.6666666666666666,
              "#ed7953"
             ],
             [
              0.7777777777777778,
              "#fb9f3a"
             ],
             [
              0.8888888888888888,
              "#fdca26"
             ],
             [
              1,
              "#f0f921"
             ]
            ],
            "type": "heatmapgl"
           }
          ],
          "histogram": [
           {
            "marker": {
             "pattern": {
              "fillmode": "overlay",
              "size": 10,
              "solidity": 0.2
             }
            },
            "type": "histogram"
           }
          ],
          "histogram2d": [
           {
            "colorbar": {
             "outlinewidth": 0,
             "ticks": ""
            },
            "colorscale": [
             [
              0,
              "#0d0887"
             ],
             [
              0.1111111111111111,
              "#46039f"
             ],
             [
              0.2222222222222222,
              "#7201a8"
             ],
             [
              0.3333333333333333,
              "#9c179e"
             ],
             [
              0.4444444444444444,
              "#bd3786"
             ],
             [
              0.5555555555555556,
              "#d8576b"
             ],
             [
              0.6666666666666666,
              "#ed7953"
             ],
             [
              0.7777777777777778,
              "#fb9f3a"
             ],
             [
              0.8888888888888888,
              "#fdca26"
             ],
             [
              1,
              "#f0f921"
             ]
            ],
            "type": "histogram2d"
           }
          ],
          "histogram2dcontour": [
           {
            "colorbar": {
             "outlinewidth": 0,
             "ticks": ""
            },
            "colorscale": [
             [
              0,
              "#0d0887"
             ],
             [
              0.1111111111111111,
              "#46039f"
             ],
             [
              0.2222222222222222,
              "#7201a8"
             ],
             [
              0.3333333333333333,
              "#9c179e"
             ],
             [
              0.4444444444444444,
              "#bd3786"
             ],
             [
              0.5555555555555556,
              "#d8576b"
             ],
             [
              0.6666666666666666,
              "#ed7953"
             ],
             [
              0.7777777777777778,
              "#fb9f3a"
             ],
             [
              0.8888888888888888,
              "#fdca26"
             ],
             [
              1,
              "#f0f921"
             ]
            ],
            "type": "histogram2dcontour"
           }
          ],
          "mesh3d": [
           {
            "colorbar": {
             "outlinewidth": 0,
             "ticks": ""
            },
            "type": "mesh3d"
           }
          ],
          "parcoords": [
           {
            "line": {
             "colorbar": {
              "outlinewidth": 0,
              "ticks": ""
             }
            },
            "type": "parcoords"
           }
          ],
          "pie": [
           {
            "automargin": true,
            "type": "pie"
           }
          ],
          "scatter": [
           {
            "fillpattern": {
             "fillmode": "overlay",
             "size": 10,
             "solidity": 0.2
            },
            "type": "scatter"
           }
          ],
          "scatter3d": [
           {
            "line": {
             "colorbar": {
              "outlinewidth": 0,
              "ticks": ""
             }
            },
            "marker": {
             "colorbar": {
              "outlinewidth": 0,
              "ticks": ""
             }
            },
            "type": "scatter3d"
           }
          ],
          "scattercarpet": [
           {
            "marker": {
             "colorbar": {
              "outlinewidth": 0,
              "ticks": ""
             }
            },
            "type": "scattercarpet"
           }
          ],
          "scattergeo": [
           {
            "marker": {
             "colorbar": {
              "outlinewidth": 0,
              "ticks": ""
             }
            },
            "type": "scattergeo"
           }
          ],
          "scattergl": [
           {
            "marker": {
             "colorbar": {
              "outlinewidth": 0,
              "ticks": ""
             }
            },
            "type": "scattergl"
           }
          ],
          "scattermapbox": [
           {
            "marker": {
             "colorbar": {
              "outlinewidth": 0,
              "ticks": ""
             }
            },
            "type": "scattermapbox"
           }
          ],
          "scatterpolar": [
           {
            "marker": {
             "colorbar": {
              "outlinewidth": 0,
              "ticks": ""
             }
            },
            "type": "scatterpolar"
           }
          ],
          "scatterpolargl": [
           {
            "marker": {
             "colorbar": {
              "outlinewidth": 0,
              "ticks": ""
             }
            },
            "type": "scatterpolargl"
           }
          ],
          "scatterternary": [
           {
            "marker": {
             "colorbar": {
              "outlinewidth": 0,
              "ticks": ""
             }
            },
            "type": "scatterternary"
           }
          ],
          "surface": [
           {
            "colorbar": {
             "outlinewidth": 0,
             "ticks": ""
            },
            "colorscale": [
             [
              0,
              "#0d0887"
             ],
             [
              0.1111111111111111,
              "#46039f"
             ],
             [
              0.2222222222222222,
              "#7201a8"
             ],
             [
              0.3333333333333333,
              "#9c179e"
             ],
             [
              0.4444444444444444,
              "#bd3786"
             ],
             [
              0.5555555555555556,
              "#d8576b"
             ],
             [
              0.6666666666666666,
              "#ed7953"
             ],
             [
              0.7777777777777778,
              "#fb9f3a"
             ],
             [
              0.8888888888888888,
              "#fdca26"
             ],
             [
              1,
              "#f0f921"
             ]
            ],
            "type": "surface"
           }
          ],
          "table": [
           {
            "cells": {
             "fill": {
              "color": "#EBF0F8"
             },
             "line": {
              "color": "white"
             }
            },
            "header": {
             "fill": {
              "color": "#C8D4E3"
             },
             "line": {
              "color": "white"
             }
            },
            "type": "table"
           }
          ]
         },
         "layout": {
          "annotationdefaults": {
           "arrowcolor": "#2a3f5f",
           "arrowhead": 0,
           "arrowwidth": 1
          },
          "autotypenumbers": "strict",
          "coloraxis": {
           "colorbar": {
            "outlinewidth": 0,
            "ticks": ""
           }
          },
          "colorscale": {
           "diverging": [
            [
             0,
             "#8e0152"
            ],
            [
             0.1,
             "#c51b7d"
            ],
            [
             0.2,
             "#de77ae"
            ],
            [
             0.3,
             "#f1b6da"
            ],
            [
             0.4,
             "#fde0ef"
            ],
            [
             0.5,
             "#f7f7f7"
            ],
            [
             0.6,
             "#e6f5d0"
            ],
            [
             0.7,
             "#b8e186"
            ],
            [
             0.8,
             "#7fbc41"
            ],
            [
             0.9,
             "#4d9221"
            ],
            [
             1,
             "#276419"
            ]
           ],
           "sequential": [
            [
             0,
             "#0d0887"
            ],
            [
             0.1111111111111111,
             "#46039f"
            ],
            [
             0.2222222222222222,
             "#7201a8"
            ],
            [
             0.3333333333333333,
             "#9c179e"
            ],
            [
             0.4444444444444444,
             "#bd3786"
            ],
            [
             0.5555555555555556,
             "#d8576b"
            ],
            [
             0.6666666666666666,
             "#ed7953"
            ],
            [
             0.7777777777777778,
             "#fb9f3a"
            ],
            [
             0.8888888888888888,
             "#fdca26"
            ],
            [
             1,
             "#f0f921"
            ]
           ],
           "sequentialminus": [
            [
             0,
             "#0d0887"
            ],
            [
             0.1111111111111111,
             "#46039f"
            ],
            [
             0.2222222222222222,
             "#7201a8"
            ],
            [
             0.3333333333333333,
             "#9c179e"
            ],
            [
             0.4444444444444444,
             "#bd3786"
            ],
            [
             0.5555555555555556,
             "#d8576b"
            ],
            [
             0.6666666666666666,
             "#ed7953"
            ],
            [
             0.7777777777777778,
             "#fb9f3a"
            ],
            [
             0.8888888888888888,
             "#fdca26"
            ],
            [
             1,
             "#f0f921"
            ]
           ]
          },
          "colorway": [
           "#636efa",
           "#EF553B",
           "#00cc96",
           "#ab63fa",
           "#FFA15A",
           "#19d3f3",
           "#FF6692",
           "#B6E880",
           "#FF97FF",
           "#FECB52"
          ],
          "font": {
           "color": "#2a3f5f"
          },
          "geo": {
           "bgcolor": "white",
           "lakecolor": "white",
           "landcolor": "#E5ECF6",
           "showlakes": true,
           "showland": true,
           "subunitcolor": "white"
          },
          "hoverlabel": {
           "align": "left"
          },
          "hovermode": "closest",
          "mapbox": {
           "style": "light"
          },
          "paper_bgcolor": "white",
          "plot_bgcolor": "#E5ECF6",
          "polar": {
           "angularaxis": {
            "gridcolor": "white",
            "linecolor": "white",
            "ticks": ""
           },
           "bgcolor": "#E5ECF6",
           "radialaxis": {
            "gridcolor": "white",
            "linecolor": "white",
            "ticks": ""
           }
          },
          "scene": {
           "xaxis": {
            "backgroundcolor": "#E5ECF6",
            "gridcolor": "white",
            "gridwidth": 2,
            "linecolor": "white",
            "showbackground": true,
            "ticks": "",
            "zerolinecolor": "white"
           },
           "yaxis": {
            "backgroundcolor": "#E5ECF6",
            "gridcolor": "white",
            "gridwidth": 2,
            "linecolor": "white",
            "showbackground": true,
            "ticks": "",
            "zerolinecolor": "white"
           },
           "zaxis": {
            "backgroundcolor": "#E5ECF6",
            "gridcolor": "white",
            "gridwidth": 2,
            "linecolor": "white",
            "showbackground": true,
            "ticks": "",
            "zerolinecolor": "white"
           }
          },
          "shapedefaults": {
           "line": {
            "color": "#2a3f5f"
           }
          },
          "ternary": {
           "aaxis": {
            "gridcolor": "white",
            "linecolor": "white",
            "ticks": ""
           },
           "baxis": {
            "gridcolor": "white",
            "linecolor": "white",
            "ticks": ""
           },
           "bgcolor": "#E5ECF6",
           "caxis": {
            "gridcolor": "white",
            "linecolor": "white",
            "ticks": ""
           }
          },
          "title": {
           "x": 0.05
          },
          "xaxis": {
           "automargin": true,
           "gridcolor": "white",
           "linecolor": "white",
           "ticks": "",
           "title": {
            "standoff": 15
           },
           "zerolinecolor": "white",
           "zerolinewidth": 2
          },
          "yaxis": {
           "automargin": true,
           "gridcolor": "white",
           "linecolor": "white",
           "ticks": "",
           "title": {
            "standoff": 15
           },
           "zerolinecolor": "white",
           "zerolinewidth": 2
          }
         }
        },
        "title": {
         "text": "Total Annual Savings for the Whole Community"
        },
        "width": 900,
        "xaxis": {
         "anchor": "y",
         "domain": [
          0,
          0.00012996750812296928
         ],
         "tickangle": 45,
         "title": {
          "text": ""
         },
         "visible": false
        },
        "xaxis2": {
         "anchor": "y2",
         "domain": [
          0.12012996750812296,
          0.25009747563109225
         ],
         "tickangle": 45,
         "title": {
          "text": "Bill<br>Savings<br>usd"
         },
         "visible": true
        },
        "xaxis3": {
         "anchor": "y3",
         "domain": [
          0.37009747563109224,
          0.5000649837540615
         ],
         "tickangle": 45,
         "title": {
          "text": "Emission<br>Savings<br>kgCO2e"
         },
         "visible": true
        },
        "xaxis4": {
         "anchor": "y4",
         "domain": [
          0.6200649837540615,
          0.7500324918770308
         ],
         "tickangle": 45,
         "title": {
          "text": "Electricity<br>Savings<br>kwh"
         },
         "visible": true
        },
        "xaxis5": {
         "anchor": "y5",
         "domain": [
          0.8700324918770308,
          1
         ],
         "tickangle": 45,
         "title": {
          "text": "Gas, Propane,<br>Fuel Oil Savings<br>mmbtu"
         },
         "visible": true
        },
        "yaxis": {
         "anchor": "x",
         "domain": [
          0,
          1
         ],
         "visible": true
        },
        "yaxis2": {
         "anchor": "x2",
         "domain": [
          0,
          1
         ],
         "visible": false
        },
        "yaxis3": {
         "anchor": "x3",
         "domain": [
          0,
          1
         ],
         "visible": false
        },
        "yaxis4": {
         "anchor": "x4",
         "domain": [
          0,
          1
         ],
         "visible": false
        },
        "yaxis5": {
         "anchor": "x5",
         "domain": [
          0,
          1
         ],
         "visible": false
        }
       }
      }
     },
     "metadata": {},
     "output_type": "display_data"
    }
   ],
   "source": [
    "figure_total_savings_1(community_results)"
   ]
  },
  {
   "cell_type": "code",
   "execution_count": 15,
   "id": "ebec6b8d",
   "metadata": {},
   "outputs": [
    {
     "data": {
      "application/vnd.plotly.v1+json": {
       "config": {
        "plotlyServerURL": "https://plot.ly"
       },
       "data": [
        {
         "cliponaxis": false,
         "marker": {
          "color": "rgb(255, 255, 255)",
          "line": {
           "color": "rgb(255, 255, 255)"
          }
         },
         "orientation": "h",
         "textangle": 0,
         "textfont": {
          "size": 10
         },
         "textposition": "outside",
         "type": "bar",
         "x": [
          0,
          0,
          0,
          0,
          0,
          0,
          0,
          0,
          0,
          0,
          0,
          0,
          0,
          0,
          0,
          0,
          0,
          0,
          0,
          0,
          0,
          0,
          0,
          0,
          0,
          0,
          0,
          0,
          0,
          0,
          0,
          0,
          0,
          0,
          0,
          0,
          0,
          0,
          0,
          0,
          0,
          0,
          0,
          0,
          0,
          0,
          0,
          0,
          0,
          0,
          0,
          0,
          0,
          0,
          0,
          0,
          0,
          0,
          0,
          0,
          0,
          0,
          0,
          0,
          0,
          0,
          0,
          0,
          0,
          0,
          0,
          0,
          0,
          0,
          0,
          0,
          0,
          0,
          0,
          0,
          0,
          0,
          0,
          0,
          0,
          0,
          0,
          0,
          0,
          0,
          0,
          0,
          0,
          0,
          0,
          0,
          0,
          0,
          0,
          0,
          0,
          0,
          0,
          0,
          0,
          0,
          0,
          0,
          0,
          0,
          0,
          0,
          0,
          0,
          0,
          0,
          0,
          0,
          0,
          0,
          0,
          0,
          0,
          0,
          0,
          0,
          0,
          0,
          0,
          0,
          0,
          0,
          0,
          0,
          0,
          0,
          0,
          0,
          0,
          0,
          0,
          0,
          0,
          0,
          0,
          0,
          0,
          0,
          0,
          0,
          0,
          0,
          0,
          0,
          0,
          0,
          0,
          0,
          0,
          0,
          0,
          0,
          0,
          0,
          0,
          0,
          0,
          0,
          0,
          0,
          0,
          0,
          0,
          0,
          0,
          0
         ],
         "xaxis": "x",
         "y": [
          "Electric Cooking",
          "Electric Clothes Dryer",
          "Induction Cooking",
          "Heat Pump Clothes Dryer",
          "Mininum Efficiency Whole Home Electrification",
          "Heat Pump Water Heater",
          "Mininum Efficiency Heat Pump with Existing Heat Backup",
          "Mininum Efficiency Heat Pump with Electric Heat Backup",
          "Basic Enclosure",
          "Enhanced Enclosure",
          "High Efficiency Heat Pump with Electric Heat Backup",
          "High Efficiency Whole Home Electrification",
          "Basic Enclosure + HPWH + High Efficiency HP/Electric Backup",
          "Enhanced Enclosure + HPWH + High Efficiency HP/Electric Backup",
          "Basic Enclosure + High Efficiency Whole Home Electrification",
          "Enhanced Enclosure + High Efficiency Whole Home Electrification"
         ],
         "yaxis": "y"
        },
        {
         "cliponaxis": false,
         "marker": {
          "color": "rgb(0, 121, 61)",
          "line": {
           "color": "rgb(0, 121, 61)"
          }
         },
         "orientation": "h",
         "text": [
          -182015.37176855368,
          -115272.05835259888,
          191654.64435130538,
          2449844.652724317,
          6523900.048094642,
          11466380.299900299,
          28860662.831289142,
          29236980.796178706,
          31005180.995794274,
          36379631.07325443,
          65735189.65319706,
          83392091.15660128,
          91175242.37922944,
          92837364.8379836,
          93913831.60413334,
          95575954.0628875
         ],
         "textangle": 0,
         "textfont": {
          "size": 10
         },
         "textposition": "outside",
         "texttemplate": "%{text:.3s}",
         "type": "bar",
         "x": [
          -182015.37176855368,
          -115272.05835259888,
          191654.64435130538,
          2449844.652724317,
          6523900.048094642,
          11466380.299900299,
          28860662.831289142,
          29236980.796178706,
          31005180.995794274,
          36379631.07325443,
          65735189.65319706,
          83392091.15660128,
          91175242.37922944,
          92837364.8379836,
          93913831.60413334,
          95575954.0628875
         ],
         "xaxis": "x2",
         "y": [
          "Electric Cooking",
          "Electric Clothes Dryer",
          "Induction Cooking",
          "Heat Pump Clothes Dryer",
          "Mininum Efficiency Whole Home Electrification",
          "Heat Pump Water Heater",
          "Mininum Efficiency Heat Pump with Existing Heat Backup",
          "Mininum Efficiency Heat Pump with Electric Heat Backup",
          "Basic Enclosure",
          "Enhanced Enclosure",
          "High Efficiency Heat Pump with Electric Heat Backup",
          "High Efficiency Whole Home Electrification",
          "Basic Enclosure + HPWH + High Efficiency HP/Electric Backup",
          "Enhanced Enclosure + HPWH + High Efficiency HP/Electric Backup",
          "Basic Enclosure + High Efficiency Whole Home Electrification",
          "Enhanced Enclosure + High Efficiency Whole Home Electrification"
         ],
         "yaxis": "y2"
        },
        {
         "cliponaxis": false,
         "marker": {
          "color": "rgb(0, 121, 61)",
          "line": {
           "color": "rgb(0, 121, 61)"
          }
         },
         "orientation": "h",
         "text": [
          1738716.9819606321,
          109469.05466047108,
          2444730.3511143755,
          4660347.295615813,
          58226225.09023675,
          30117277.445562206,
          85870393.52910651,
          97052568.44644807,
          79419412.43569708,
          93644231.2684836,
          172714249.20032558,
          220318206.71843675,
          234851691.04288825,
          238607404.9815212,
          241956768.68961844,
          245712482.62825137
         ],
         "textangle": 0,
         "textfont": {
          "size": 10
         },
         "textposition": "outside",
         "texttemplate": "%{text:.3s}",
         "type": "bar",
         "x": [
          1738716.9819606321,
          109469.05466047108,
          2444730.3511143755,
          4660347.295615813,
          58226225.09023675,
          30117277.445562206,
          85870393.52910651,
          97052568.44644807,
          79419412.43569708,
          93644231.2684836,
          172714249.20032558,
          220318206.71843675,
          234851691.04288825,
          238607404.9815212,
          241956768.68961844,
          245712482.62825137
         ],
         "xaxis": "x3",
         "y": [
          "Electric Cooking",
          "Electric Clothes Dryer",
          "Induction Cooking",
          "Heat Pump Clothes Dryer",
          "Mininum Efficiency Whole Home Electrification",
          "Heat Pump Water Heater",
          "Mininum Efficiency Heat Pump with Existing Heat Backup",
          "Mininum Efficiency Heat Pump with Electric Heat Backup",
          "Basic Enclosure",
          "Enhanced Enclosure",
          "High Efficiency Heat Pump with Electric Heat Backup",
          "High Efficiency Whole Home Electrification",
          "Basic Enclosure + HPWH + High Efficiency HP/Electric Backup",
          "Enhanced Enclosure + HPWH + High Efficiency HP/Electric Backup",
          "Basic Enclosure + High Efficiency Whole Home Electrification",
          "Enhanced Enclosure + High Efficiency Whole Home Electrification"
         ],
         "yaxis": "y3"
        },
        {
         "cliponaxis": false,
         "marker": {
          "color": "rgb(0, 121, 61)",
          "line": {
           "color": "rgb(0, 121, 61)"
          }
         },
         "orientation": "h",
         "text": [
          272.6609999999999,
          16.709999999999965,
          385.1440000000005,
          776.2280000000003,
          8012.352,
          4572.663,
          12383.23,
          14595.204,
          10491.087,
          12280.517,
          25285.972,
          32532.239,
          34179.089,
          34629.783,
          35340.461,
          35791.155
         ],
         "textangle": 0,
         "textfont": {
          "size": 10
         },
         "textposition": "outside",
         "texttemplate": "%{text:.3s}",
         "type": "bar",
         "x": [
          272.6609999999999,
          16.709999999999965,
          385.1440000000005,
          776.2280000000003,
          8012.352,
          4572.663,
          12383.23,
          14595.204,
          10491.087,
          12280.517,
          25285.972,
          32532.239,
          34179.089,
          34629.783,
          35340.461,
          35791.155
         ],
         "xaxis": "x4",
         "y": [
          "Electric Cooking",
          "Electric Clothes Dryer",
          "Induction Cooking",
          "Heat Pump Clothes Dryer",
          "Mininum Efficiency Whole Home Electrification",
          "Heat Pump Water Heater",
          "Mininum Efficiency Heat Pump with Existing Heat Backup",
          "Mininum Efficiency Heat Pump with Electric Heat Backup",
          "Basic Enclosure",
          "Enhanced Enclosure",
          "High Efficiency Heat Pump with Electric Heat Backup",
          "High Efficiency Whole Home Electrification",
          "Basic Enclosure + HPWH + High Efficiency HP/Electric Backup",
          "Enhanced Enclosure + HPWH + High Efficiency HP/Electric Backup",
          "Basic Enclosure + High Efficiency Whole Home Electrification",
          "Enhanced Enclosure + High Efficiency Whole Home Electrification"
         ],
         "yaxis": "y4"
        },
        {
         "cliponaxis": false,
         "marker": {
          "color": "rgb(0, 121, 61)",
          "line": {
           "color": "rgb(0, 121, 61)"
          }
         },
         "orientation": "h",
         "text": [
          -6412656.867989991,
          -1704668.5876111924,
          -3571029.5657840595,
          17801908.50483785,
          -79057435.51862597,
          65471103.43628962,
          161633131.29481307,
          130714853.68339854,
          195009489.2344344,
          228833065.33597508,
          408270397.6408062,
          505491546.29511267,
          571273902.698508,
          583913617.2137488,
          585504781.6375618,
          598144496.1528026
         ],
         "textangle": 0,
         "textfont": {
          "size": 10
         },
         "textposition": "outside",
         "texttemplate": "%{text:.3s}",
         "type": "bar",
         "x": [
          -6412656.867989991,
          -1704668.5876111924,
          -3571029.5657840595,
          17801908.50483785,
          -79057435.51862597,
          65471103.43628962,
          161633131.29481307,
          130714853.68339854,
          195009489.2344344,
          228833065.33597508,
          408270397.6408062,
          505491546.29511267,
          571273902.698508,
          583913617.2137488,
          585504781.6375618,
          598144496.1528026
         ],
         "xaxis": "x5",
         "y": [
          "Electric Cooking",
          "Electric Clothes Dryer",
          "Induction Cooking",
          "Heat Pump Clothes Dryer",
          "Mininum Efficiency Whole Home Electrification",
          "Heat Pump Water Heater",
          "Mininum Efficiency Heat Pump with Existing Heat Backup",
          "Mininum Efficiency Heat Pump with Electric Heat Backup",
          "Basic Enclosure",
          "Enhanced Enclosure",
          "High Efficiency Heat Pump with Electric Heat Backup",
          "High Efficiency Whole Home Electrification",
          "Basic Enclosure + HPWH + High Efficiency HP/Electric Backup",
          "Enhanced Enclosure + HPWH + High Efficiency HP/Electric Backup",
          "Basic Enclosure + High Efficiency Whole Home Electrification",
          "Enhanced Enclosure + High Efficiency Whole Home Electrification"
         ],
         "yaxis": "y5"
        },
        {
         "cliponaxis": false,
         "marker": {
          "color": "rgb(0, 121, 61)",
          "line": {
           "color": "rgb(0, 121, 61)"
          }
         },
         "orientation": "h",
         "text": [
          48485.403662085766,
          7579.684418273646,
          48485.122376149484,
          7579.813478879707,
          1233024.1669182384,
          215595.7316691919,
          562551.993929293,
          884938.3884818183,
          392403.5328666667,
          457997.4673717172,
          884913.957309091,
          1233024.1669182384,
          1176959.231063209,
          1176959.231063209,
          1233024.1669182384,
          1233024.1669182384
         ],
         "textangle": 0,
         "textfont": {
          "size": 10
         },
         "textposition": "outside",
         "texttemplate": "%{text:.3s}",
         "type": "bar",
         "x": [
          48485.403662085766,
          7579.684418273646,
          48485.122376149484,
          7579.813478879707,
          1233024.1669182384,
          215595.7316691919,
          562551.993929293,
          884938.3884818183,
          392403.5328666667,
          457997.4673717172,
          884913.957309091,
          1233024.1669182384,
          1176959.231063209,
          1176959.231063209,
          1233024.1669182384,
          1233024.1669182384
         ],
         "xaxis": "x6",
         "y": [
          "Electric Cooking",
          "Electric Clothes Dryer",
          "Induction Cooking",
          "Heat Pump Clothes Dryer",
          "Mininum Efficiency Whole Home Electrification",
          "Heat Pump Water Heater",
          "Mininum Efficiency Heat Pump with Existing Heat Backup",
          "Mininum Efficiency Heat Pump with Electric Heat Backup",
          "Basic Enclosure",
          "Enhanced Enclosure",
          "High Efficiency Heat Pump with Electric Heat Backup",
          "High Efficiency Whole Home Electrification",
          "Basic Enclosure + HPWH + High Efficiency HP/Electric Backup",
          "Enhanced Enclosure + HPWH + High Efficiency HP/Electric Backup",
          "Basic Enclosure + High Efficiency Whole Home Electrification",
          "Enhanced Enclosure + High Efficiency Whole Home Electrification"
         ],
         "yaxis": "y6"
        }
       ],
       "layout": {
        "autosize": false,
        "font": {
         "size": 10
        },
        "height": 500,
        "plot_bgcolor": "rgba(0, 0, 0, 0)",
        "showlegend": false,
        "template": {
         "data": {
          "bar": [
           {
            "error_x": {
             "color": "#2a3f5f"
            },
            "error_y": {
             "color": "#2a3f5f"
            },
            "marker": {
             "line": {
              "color": "#E5ECF6",
              "width": 0.5
             },
             "pattern": {
              "fillmode": "overlay",
              "size": 10,
              "solidity": 0.2
             }
            },
            "type": "bar"
           }
          ],
          "barpolar": [
           {
            "marker": {
             "line": {
              "color": "#E5ECF6",
              "width": 0.5
             },
             "pattern": {
              "fillmode": "overlay",
              "size": 10,
              "solidity": 0.2
             }
            },
            "type": "barpolar"
           }
          ],
          "carpet": [
           {
            "aaxis": {
             "endlinecolor": "#2a3f5f",
             "gridcolor": "white",
             "linecolor": "white",
             "minorgridcolor": "white",
             "startlinecolor": "#2a3f5f"
            },
            "baxis": {
             "endlinecolor": "#2a3f5f",
             "gridcolor": "white",
             "linecolor": "white",
             "minorgridcolor": "white",
             "startlinecolor": "#2a3f5f"
            },
            "type": "carpet"
           }
          ],
          "choropleth": [
           {
            "colorbar": {
             "outlinewidth": 0,
             "ticks": ""
            },
            "type": "choropleth"
           }
          ],
          "contour": [
           {
            "colorbar": {
             "outlinewidth": 0,
             "ticks": ""
            },
            "colorscale": [
             [
              0,
              "#0d0887"
             ],
             [
              0.1111111111111111,
              "#46039f"
             ],
             [
              0.2222222222222222,
              "#7201a8"
             ],
             [
              0.3333333333333333,
              "#9c179e"
             ],
             [
              0.4444444444444444,
              "#bd3786"
             ],
             [
              0.5555555555555556,
              "#d8576b"
             ],
             [
              0.6666666666666666,
              "#ed7953"
             ],
             [
              0.7777777777777778,
              "#fb9f3a"
             ],
             [
              0.8888888888888888,
              "#fdca26"
             ],
             [
              1,
              "#f0f921"
             ]
            ],
            "type": "contour"
           }
          ],
          "contourcarpet": [
           {
            "colorbar": {
             "outlinewidth": 0,
             "ticks": ""
            },
            "type": "contourcarpet"
           }
          ],
          "heatmap": [
           {
            "colorbar": {
             "outlinewidth": 0,
             "ticks": ""
            },
            "colorscale": [
             [
              0,
              "#0d0887"
             ],
             [
              0.1111111111111111,
              "#46039f"
             ],
             [
              0.2222222222222222,
              "#7201a8"
             ],
             [
              0.3333333333333333,
              "#9c179e"
             ],
             [
              0.4444444444444444,
              "#bd3786"
             ],
             [
              0.5555555555555556,
              "#d8576b"
             ],
             [
              0.6666666666666666,
              "#ed7953"
             ],
             [
              0.7777777777777778,
              "#fb9f3a"
             ],
             [
              0.8888888888888888,
              "#fdca26"
             ],
             [
              1,
              "#f0f921"
             ]
            ],
            "type": "heatmap"
           }
          ],
          "heatmapgl": [
           {
            "colorbar": {
             "outlinewidth": 0,
             "ticks": ""
            },
            "colorscale": [
             [
              0,
              "#0d0887"
             ],
             [
              0.1111111111111111,
              "#46039f"
             ],
             [
              0.2222222222222222,
              "#7201a8"
             ],
             [
              0.3333333333333333,
              "#9c179e"
             ],
             [
              0.4444444444444444,
              "#bd3786"
             ],
             [
              0.5555555555555556,
              "#d8576b"
             ],
             [
              0.6666666666666666,
              "#ed7953"
             ],
             [
              0.7777777777777778,
              "#fb9f3a"
             ],
             [
              0.8888888888888888,
              "#fdca26"
             ],
             [
              1,
              "#f0f921"
             ]
            ],
            "type": "heatmapgl"
           }
          ],
          "histogram": [
           {
            "marker": {
             "pattern": {
              "fillmode": "overlay",
              "size": 10,
              "solidity": 0.2
             }
            },
            "type": "histogram"
           }
          ],
          "histogram2d": [
           {
            "colorbar": {
             "outlinewidth": 0,
             "ticks": ""
            },
            "colorscale": [
             [
              0,
              "#0d0887"
             ],
             [
              0.1111111111111111,
              "#46039f"
             ],
             [
              0.2222222222222222,
              "#7201a8"
             ],
             [
              0.3333333333333333,
              "#9c179e"
             ],
             [
              0.4444444444444444,
              "#bd3786"
             ],
             [
              0.5555555555555556,
              "#d8576b"
             ],
             [
              0.6666666666666666,
              "#ed7953"
             ],
             [
              0.7777777777777778,
              "#fb9f3a"
             ],
             [
              0.8888888888888888,
              "#fdca26"
             ],
             [
              1,
              "#f0f921"
             ]
            ],
            "type": "histogram2d"
           }
          ],
          "histogram2dcontour": [
           {
            "colorbar": {
             "outlinewidth": 0,
             "ticks": ""
            },
            "colorscale": [
             [
              0,
              "#0d0887"
             ],
             [
              0.1111111111111111,
              "#46039f"
             ],
             [
              0.2222222222222222,
              "#7201a8"
             ],
             [
              0.3333333333333333,
              "#9c179e"
             ],
             [
              0.4444444444444444,
              "#bd3786"
             ],
             [
              0.5555555555555556,
              "#d8576b"
             ],
             [
              0.6666666666666666,
              "#ed7953"
             ],
             [
              0.7777777777777778,
              "#fb9f3a"
             ],
             [
              0.8888888888888888,
              "#fdca26"
             ],
             [
              1,
              "#f0f921"
             ]
            ],
            "type": "histogram2dcontour"
           }
          ],
          "mesh3d": [
           {
            "colorbar": {
             "outlinewidth": 0,
             "ticks": ""
            },
            "type": "mesh3d"
           }
          ],
          "parcoords": [
           {
            "line": {
             "colorbar": {
              "outlinewidth": 0,
              "ticks": ""
             }
            },
            "type": "parcoords"
           }
          ],
          "pie": [
           {
            "automargin": true,
            "type": "pie"
           }
          ],
          "scatter": [
           {
            "fillpattern": {
             "fillmode": "overlay",
             "size": 10,
             "solidity": 0.2
            },
            "type": "scatter"
           }
          ],
          "scatter3d": [
           {
            "line": {
             "colorbar": {
              "outlinewidth": 0,
              "ticks": ""
             }
            },
            "marker": {
             "colorbar": {
              "outlinewidth": 0,
              "ticks": ""
             }
            },
            "type": "scatter3d"
           }
          ],
          "scattercarpet": [
           {
            "marker": {
             "colorbar": {
              "outlinewidth": 0,
              "ticks": ""
             }
            },
            "type": "scattercarpet"
           }
          ],
          "scattergeo": [
           {
            "marker": {
             "colorbar": {
              "outlinewidth": 0,
              "ticks": ""
             }
            },
            "type": "scattergeo"
           }
          ],
          "scattergl": [
           {
            "marker": {
             "colorbar": {
              "outlinewidth": 0,
              "ticks": ""
             }
            },
            "type": "scattergl"
           }
          ],
          "scattermapbox": [
           {
            "marker": {
             "colorbar": {
              "outlinewidth": 0,
              "ticks": ""
             }
            },
            "type": "scattermapbox"
           }
          ],
          "scatterpolar": [
           {
            "marker": {
             "colorbar": {
              "outlinewidth": 0,
              "ticks": ""
             }
            },
            "type": "scatterpolar"
           }
          ],
          "scatterpolargl": [
           {
            "marker": {
             "colorbar": {
              "outlinewidth": 0,
              "ticks": ""
             }
            },
            "type": "scatterpolargl"
           }
          ],
          "scatterternary": [
           {
            "marker": {
             "colorbar": {
              "outlinewidth": 0,
              "ticks": ""
             }
            },
            "type": "scatterternary"
           }
          ],
          "surface": [
           {
            "colorbar": {
             "outlinewidth": 0,
             "ticks": ""
            },
            "colorscale": [
             [
              0,
              "#0d0887"
             ],
             [
              0.1111111111111111,
              "#46039f"
             ],
             [
              0.2222222222222222,
              "#7201a8"
             ],
             [
              0.3333333333333333,
              "#9c179e"
             ],
             [
              0.4444444444444444,
              "#bd3786"
             ],
             [
              0.5555555555555556,
              "#d8576b"
             ],
             [
              0.6666666666666666,
              "#ed7953"
             ],
             [
              0.7777777777777778,
              "#fb9f3a"
             ],
             [
              0.8888888888888888,
              "#fdca26"
             ],
             [
              1,
              "#f0f921"
             ]
            ],
            "type": "surface"
           }
          ],
          "table": [
           {
            "cells": {
             "fill": {
              "color": "#EBF0F8"
             },
             "line": {
              "color": "white"
             }
            },
            "header": {
             "fill": {
              "color": "#C8D4E3"
             },
             "line": {
              "color": "white"
             }
            },
            "type": "table"
           }
          ]
         },
         "layout": {
          "annotationdefaults": {
           "arrowcolor": "#2a3f5f",
           "arrowhead": 0,
           "arrowwidth": 1
          },
          "autotypenumbers": "strict",
          "coloraxis": {
           "colorbar": {
            "outlinewidth": 0,
            "ticks": ""
           }
          },
          "colorscale": {
           "diverging": [
            [
             0,
             "#8e0152"
            ],
            [
             0.1,
             "#c51b7d"
            ],
            [
             0.2,
             "#de77ae"
            ],
            [
             0.3,
             "#f1b6da"
            ],
            [
             0.4,
             "#fde0ef"
            ],
            [
             0.5,
             "#f7f7f7"
            ],
            [
             0.6,
             "#e6f5d0"
            ],
            [
             0.7,
             "#b8e186"
            ],
            [
             0.8,
             "#7fbc41"
            ],
            [
             0.9,
             "#4d9221"
            ],
            [
             1,
             "#276419"
            ]
           ],
           "sequential": [
            [
             0,
             "#0d0887"
            ],
            [
             0.1111111111111111,
             "#46039f"
            ],
            [
             0.2222222222222222,
             "#7201a8"
            ],
            [
             0.3333333333333333,
             "#9c179e"
            ],
            [
             0.4444444444444444,
             "#bd3786"
            ],
            [
             0.5555555555555556,
             "#d8576b"
            ],
            [
             0.6666666666666666,
             "#ed7953"
            ],
            [
             0.7777777777777778,
             "#fb9f3a"
            ],
            [
             0.8888888888888888,
             "#fdca26"
            ],
            [
             1,
             "#f0f921"
            ]
           ],
           "sequentialminus": [
            [
             0,
             "#0d0887"
            ],
            [
             0.1111111111111111,
             "#46039f"
            ],
            [
             0.2222222222222222,
             "#7201a8"
            ],
            [
             0.3333333333333333,
             "#9c179e"
            ],
            [
             0.4444444444444444,
             "#bd3786"
            ],
            [
             0.5555555555555556,
             "#d8576b"
            ],
            [
             0.6666666666666666,
             "#ed7953"
            ],
            [
             0.7777777777777778,
             "#fb9f3a"
            ],
            [
             0.8888888888888888,
             "#fdca26"
            ],
            [
             1,
             "#f0f921"
            ]
           ]
          },
          "colorway": [
           "#636efa",
           "#EF553B",
           "#00cc96",
           "#ab63fa",
           "#FFA15A",
           "#19d3f3",
           "#FF6692",
           "#B6E880",
           "#FF97FF",
           "#FECB52"
          ],
          "font": {
           "color": "#2a3f5f"
          },
          "geo": {
           "bgcolor": "white",
           "lakecolor": "white",
           "landcolor": "#E5ECF6",
           "showlakes": true,
           "showland": true,
           "subunitcolor": "white"
          },
          "hoverlabel": {
           "align": "left"
          },
          "hovermode": "closest",
          "mapbox": {
           "style": "light"
          },
          "paper_bgcolor": "white",
          "plot_bgcolor": "#E5ECF6",
          "polar": {
           "angularaxis": {
            "gridcolor": "white",
            "linecolor": "white",
            "ticks": ""
           },
           "bgcolor": "#E5ECF6",
           "radialaxis": {
            "gridcolor": "white",
            "linecolor": "white",
            "ticks": ""
           }
          },
          "scene": {
           "xaxis": {
            "backgroundcolor": "#E5ECF6",
            "gridcolor": "white",
            "gridwidth": 2,
            "linecolor": "white",
            "showbackground": true,
            "ticks": "",
            "zerolinecolor": "white"
           },
           "yaxis": {
            "backgroundcolor": "#E5ECF6",
            "gridcolor": "white",
            "gridwidth": 2,
            "linecolor": "white",
            "showbackground": true,
            "ticks": "",
            "zerolinecolor": "white"
           },
           "zaxis": {
            "backgroundcolor": "#E5ECF6",
            "gridcolor": "white",
            "gridwidth": 2,
            "linecolor": "white",
            "showbackground": true,
            "ticks": "",
            "zerolinecolor": "white"
           }
          },
          "shapedefaults": {
           "line": {
            "color": "#2a3f5f"
           }
          },
          "ternary": {
           "aaxis": {
            "gridcolor": "white",
            "linecolor": "white",
            "ticks": ""
           },
           "baxis": {
            "gridcolor": "white",
            "linecolor": "white",
            "ticks": ""
           },
           "bgcolor": "#E5ECF6",
           "caxis": {
            "gridcolor": "white",
            "linecolor": "white",
            "ticks": ""
           }
          },
          "title": {
           "x": 0.05
          },
          "xaxis": {
           "automargin": true,
           "gridcolor": "white",
           "linecolor": "white",
           "ticks": "",
           "title": {
            "standoff": 15
           },
           "zerolinecolor": "white",
           "zerolinewidth": 2
          },
          "yaxis": {
           "automargin": true,
           "gridcolor": "white",
           "linecolor": "white",
           "ticks": "",
           "title": {
            "standoff": 15
           },
           "zerolinecolor": "white",
           "zerolinewidth": 2
          }
         }
        },
        "title": {
         "text": "Community Total Annual Savings"
        },
        "width": 1100,
        "xaxis": {
         "anchor": "y",
         "domain": [
          0,
          0.00007998400319936014
         ],
         "tickangle": 45,
         "title": {
          "text": ""
         },
         "visible": false
        },
        "xaxis2": {
         "anchor": "y2",
         "domain": [
          0.12007998400319936,
          0.2000639872025595
         ],
         "tickangle": 45,
         "title": {
          "text": "Bill<br>Savings<br>usd"
         },
         "visible": true
        },
        "xaxis3": {
         "anchor": "y3",
         "domain": [
          0.32006398720255946,
          0.40004799040191963
         ],
         "tickangle": 45,
         "title": {
          "text": "Site Emission<br>Saving<br>kgCO2e"
         },
         "visible": true
        },
        "xaxis4": {
         "anchor": "y4",
         "domain": [
          0.5200479904019196,
          0.6000319936012798
         ],
         "tickangle": 45,
         "title": {
          "text": "Site Energy<br>Saving<br>mmbtu"
         },
         "visible": true
        },
        "xaxis5": {
         "anchor": "y5",
         "domain": [
          0.7200319936012798,
          0.80001599680064
         ],
         "tickangle": 45,
         "title": {
          "text": "Electricity<br>Saving<br>kwh"
         },
         "visible": true
        },
        "xaxis6": {
         "anchor": "y6",
         "domain": [
          0.9200159968006398,
          1
         ],
         "tickangle": 45,
         "title": {
          "text": "Gas, Propane,<br>Fuel Oil Saving<br>mmbtu"
         },
         "visible": true
        },
        "yaxis": {
         "anchor": "x",
         "domain": [
          0,
          1
         ],
         "visible": true
        },
        "yaxis2": {
         "anchor": "x2",
         "domain": [
          0,
          1
         ],
         "visible": false
        },
        "yaxis3": {
         "anchor": "x3",
         "domain": [
          0,
          1
         ],
         "visible": false
        },
        "yaxis4": {
         "anchor": "x4",
         "domain": [
          0,
          1
         ],
         "visible": false
        },
        "yaxis5": {
         "anchor": "x5",
         "domain": [
          0,
          1
         ],
         "visible": false
        },
        "yaxis6": {
         "anchor": "x6",
         "domain": [
          0,
          1
         ],
         "visible": false
        }
       }
      }
     },
     "metadata": {},
     "output_type": "display_data"
    }
   ],
   "source": [
    "results = figure_total_savings_2(community_results)\n",
    "saving_results[['whole_community_saving_bill_total_usd','whole_community_saving_emission_total_kgCO2e','whole_community_saving_energy_total_mmbtu','whole_community_saving_electricity_total_kwh','whole_community_saving_natural_gas_fuel_oil_propane_total_mmbtu']] = results"
   ]
  },
  {
   "cell_type": "code",
   "execution_count": 16,
   "id": "e7ef5df2",
   "metadata": {},
   "outputs": [
    {
     "data": {
      "application/vnd.plotly.v1+json": {
       "config": {
        "plotlyServerURL": "https://plot.ly"
       },
       "data": [
        {
         "cliponaxis": false,
         "marker": {
          "color": "rgb(255, 255, 255)",
          "line": {
           "color": "rgb(255, 255, 255)"
          }
         },
         "orientation": "h",
         "textangle": 0,
         "textfont": {
          "size": 10
         },
         "textposition": "outside",
         "type": "bar",
         "x": [
          0,
          0,
          0,
          0,
          0,
          0,
          0,
          0,
          0,
          0,
          0,
          0,
          0,
          0,
          0,
          0,
          0,
          0,
          0,
          0,
          0,
          0,
          0,
          0,
          0,
          0,
          0,
          0,
          0,
          0,
          0,
          0,
          0,
          0,
          0,
          0,
          0,
          0,
          0,
          0,
          0,
          0,
          0,
          0,
          0,
          0,
          0,
          0,
          0,
          0,
          0,
          0,
          0,
          0,
          0,
          0,
          0,
          0,
          0,
          0,
          0,
          0,
          0,
          0,
          0,
          0,
          0,
          0,
          0,
          0,
          0,
          0,
          0,
          0,
          0,
          0,
          0,
          0,
          0,
          0,
          0,
          0,
          0,
          0,
          0,
          0,
          0,
          0,
          0,
          0,
          0,
          0,
          0,
          0,
          0,
          0,
          0,
          0,
          0,
          0,
          0,
          0,
          0,
          0,
          0,
          0,
          0,
          0,
          0,
          0,
          0,
          0,
          0,
          0,
          0,
          0,
          0,
          0,
          0,
          0,
          0,
          0,
          0,
          0,
          0,
          0,
          0,
          0,
          0,
          0,
          0,
          0,
          0,
          0,
          0,
          0,
          0,
          0,
          0,
          0,
          0,
          0,
          0,
          0,
          0,
          0,
          0,
          0,
          0,
          0,
          0,
          0,
          0,
          0,
          0,
          0,
          0,
          0,
          0,
          0,
          0,
          0,
          0,
          0,
          0,
          0,
          0,
          0,
          0,
          0,
          0,
          0,
          0,
          0,
          0,
          0
         ],
         "xaxis": "x",
         "y": [
          "Electric Cooking",
          "Electric Clothes Dryer",
          "Induction Cooking",
          "Heat Pump Clothes Dryer",
          "Mininum Efficiency Whole Home Electrification",
          "Heat Pump Water Heater",
          "Mininum Efficiency Heat Pump with Existing Heat Backup",
          "Mininum Efficiency Heat Pump with Electric Heat Backup",
          "Basic Enclosure",
          "Enhanced Enclosure",
          "High Efficiency Heat Pump with Electric Heat Backup",
          "High Efficiency Whole Home Electrification",
          "Basic Enclosure + HPWH + High Efficiency HP/Electric Backup",
          "Enhanced Enclosure + HPWH + High Efficiency HP/Electric Backup",
          "Basic Enclosure + High Efficiency Whole Home Electrification",
          "Enhanced Enclosure + High Efficiency Whole Home Electrification"
         ],
         "yaxis": "y"
        },
        {
         "cliponaxis": false,
         "marker": {
          "color": "rgb(0, 121, 61)",
          "line": {
           "color": "rgb(0, 121, 61)"
          }
         },
         "orientation": "h",
         "text": [
          -182015.37176855368,
          -115272.05835259888,
          191654.64435130538,
          2449844.652724317,
          6523900.048094642,
          11466380.299900299,
          28860662.831289142,
          29236980.796178706,
          31005180.995794274,
          36379631.07325443,
          65735189.65319706,
          83392091.15660128,
          91175242.37922944,
          92837364.8379836,
          93913831.60413334,
          95575954.0628875
         ],
         "textangle": 0,
         "textfont": {
          "size": 10
         },
         "textposition": "outside",
         "texttemplate": "%{text:.3s}",
         "type": "bar",
         "x": [
          -182015.37176855368,
          -115272.05835259888,
          191654.64435130538,
          2449844.652724317,
          6523900.048094642,
          11466380.299900299,
          28860662.831289142,
          29236980.796178706,
          31005180.995794274,
          36379631.07325443,
          65735189.65319706,
          83392091.15660128,
          91175242.37922944,
          92837364.8379836,
          93913831.60413334,
          95575954.0628875
         ],
         "xaxis": "x2",
         "y": [
          "Electric Cooking",
          "Electric Clothes Dryer",
          "Induction Cooking",
          "Heat Pump Clothes Dryer",
          "Mininum Efficiency Whole Home Electrification",
          "Heat Pump Water Heater",
          "Mininum Efficiency Heat Pump with Existing Heat Backup",
          "Mininum Efficiency Heat Pump with Electric Heat Backup",
          "Basic Enclosure",
          "Enhanced Enclosure",
          "High Efficiency Heat Pump with Electric Heat Backup",
          "High Efficiency Whole Home Electrification",
          "Basic Enclosure + HPWH + High Efficiency HP/Electric Backup",
          "Enhanced Enclosure + HPWH + High Efficiency HP/Electric Backup",
          "Basic Enclosure + High Efficiency Whole Home Electrification",
          "Enhanced Enclosure + High Efficiency Whole Home Electrification"
         ],
         "yaxis": "y2"
        },
        {
         "cliponaxis": false,
         "marker": {
          "color": "rgb(0, 121, 61)",
          "line": {
           "color": "rgb(0, 121, 61)"
          }
         },
         "orientation": "h",
         "text": [
          1738716.9819606321,
          109469.05466047108,
          2444730.3511143755,
          4660347.295615813,
          58226225.09023675,
          30117277.445562206,
          85870393.52910651,
          97052568.44644807,
          79419412.43569708,
          93644231.2684836,
          172714249.20032558,
          220318206.71843675,
          234851691.04288825,
          238607404.9815212,
          241956768.68961844,
          245712482.62825137
         ],
         "textangle": 0,
         "textfont": {
          "size": 10
         },
         "textposition": "outside",
         "texttemplate": "%{text:.3s}",
         "type": "bar",
         "x": [
          1738716.9819606321,
          109469.05466047108,
          2444730.3511143755,
          4660347.295615813,
          58226225.09023675,
          30117277.445562206,
          85870393.52910651,
          97052568.44644807,
          79419412.43569708,
          93644231.2684836,
          172714249.20032558,
          220318206.71843675,
          234851691.04288825,
          238607404.9815212,
          241956768.68961844,
          245712482.62825137
         ],
         "xaxis": "x3",
         "y": [
          "Electric Cooking",
          "Electric Clothes Dryer",
          "Induction Cooking",
          "Heat Pump Clothes Dryer",
          "Mininum Efficiency Whole Home Electrification",
          "Heat Pump Water Heater",
          "Mininum Efficiency Heat Pump with Existing Heat Backup",
          "Mininum Efficiency Heat Pump with Electric Heat Backup",
          "Basic Enclosure",
          "Enhanced Enclosure",
          "High Efficiency Heat Pump with Electric Heat Backup",
          "High Efficiency Whole Home Electrification",
          "Basic Enclosure + HPWH + High Efficiency HP/Electric Backup",
          "Enhanced Enclosure + HPWH + High Efficiency HP/Electric Backup",
          "Basic Enclosure + High Efficiency Whole Home Electrification",
          "Enhanced Enclosure + High Efficiency Whole Home Electrification"
         ],
         "yaxis": "y3"
        },
        {
         "cliponaxis": false,
         "marker": {
          "color": "rgb(0, 121, 61)",
          "line": {
           "color": "rgb(0, 121, 61)"
          }
         },
         "orientation": "h",
         "text": [
          26603.296317960187,
          1762.7911048668443,
          36300.26371444652,
          68322.44667306652,
          963269.4979692918,
          438992.78258785984,
          1114068.377979857,
          1330957.7356952457,
          1057804.1078470761,
          1238810.048079733,
          2277994.0654551536,
          2957833.5107796066,
          3126227.187194408,
          3169355.0575996637,
          3230849.897581921,
          3273977.7679871763
         ],
         "textangle": 0,
         "textfont": {
          "size": 10
         },
         "textposition": "outside",
         "texttemplate": "%{text:.3s}",
         "type": "bar",
         "x": [
          26603.296317960187,
          1762.7911048668443,
          36300.26371444652,
          68322.44667306652,
          963269.4979692918,
          438992.78258785984,
          1114068.377979857,
          1330957.7356952457,
          1057804.1078470761,
          1238810.048079733,
          2277994.0654551536,
          2957833.5107796066,
          3126227.187194408,
          3169355.0575996637,
          3230849.897581921,
          3273977.7679871763
         ],
         "xaxis": "x4",
         "y": [
          "Electric Cooking",
          "Electric Clothes Dryer",
          "Induction Cooking",
          "Heat Pump Clothes Dryer",
          "Mininum Efficiency Whole Home Electrification",
          "Heat Pump Water Heater",
          "Mininum Efficiency Heat Pump with Existing Heat Backup",
          "Mininum Efficiency Heat Pump with Electric Heat Backup",
          "Basic Enclosure",
          "Enhanced Enclosure",
          "High Efficiency Heat Pump with Electric Heat Backup",
          "High Efficiency Whole Home Electrification",
          "Basic Enclosure + HPWH + High Efficiency HP/Electric Backup",
          "Enhanced Enclosure + HPWH + High Efficiency HP/Electric Backup",
          "Basic Enclosure + High Efficiency Whole Home Electrification",
          "Enhanced Enclosure + High Efficiency Whole Home Electrification"
         ],
         "yaxis": "y4"
        }
       ],
       "layout": {
        "autosize": false,
        "font": {
         "size": 10
        },
        "height": 500,
        "plot_bgcolor": "rgba(0, 0, 0, 0)",
        "showlegend": false,
        "template": {
         "data": {
          "bar": [
           {
            "error_x": {
             "color": "#2a3f5f"
            },
            "error_y": {
             "color": "#2a3f5f"
            },
            "marker": {
             "line": {
              "color": "#E5ECF6",
              "width": 0.5
             },
             "pattern": {
              "fillmode": "overlay",
              "size": 10,
              "solidity": 0.2
             }
            },
            "type": "bar"
           }
          ],
          "barpolar": [
           {
            "marker": {
             "line": {
              "color": "#E5ECF6",
              "width": 0.5
             },
             "pattern": {
              "fillmode": "overlay",
              "size": 10,
              "solidity": 0.2
             }
            },
            "type": "barpolar"
           }
          ],
          "carpet": [
           {
            "aaxis": {
             "endlinecolor": "#2a3f5f",
             "gridcolor": "white",
             "linecolor": "white",
             "minorgridcolor": "white",
             "startlinecolor": "#2a3f5f"
            },
            "baxis": {
             "endlinecolor": "#2a3f5f",
             "gridcolor": "white",
             "linecolor": "white",
             "minorgridcolor": "white",
             "startlinecolor": "#2a3f5f"
            },
            "type": "carpet"
           }
          ],
          "choropleth": [
           {
            "colorbar": {
             "outlinewidth": 0,
             "ticks": ""
            },
            "type": "choropleth"
           }
          ],
          "contour": [
           {
            "colorbar": {
             "outlinewidth": 0,
             "ticks": ""
            },
            "colorscale": [
             [
              0,
              "#0d0887"
             ],
             [
              0.1111111111111111,
              "#46039f"
             ],
             [
              0.2222222222222222,
              "#7201a8"
             ],
             [
              0.3333333333333333,
              "#9c179e"
             ],
             [
              0.4444444444444444,
              "#bd3786"
             ],
             [
              0.5555555555555556,
              "#d8576b"
             ],
             [
              0.6666666666666666,
              "#ed7953"
             ],
             [
              0.7777777777777778,
              "#fb9f3a"
             ],
             [
              0.8888888888888888,
              "#fdca26"
             ],
             [
              1,
              "#f0f921"
             ]
            ],
            "type": "contour"
           }
          ],
          "contourcarpet": [
           {
            "colorbar": {
             "outlinewidth": 0,
             "ticks": ""
            },
            "type": "contourcarpet"
           }
          ],
          "heatmap": [
           {
            "colorbar": {
             "outlinewidth": 0,
             "ticks": ""
            },
            "colorscale": [
             [
              0,
              "#0d0887"
             ],
             [
              0.1111111111111111,
              "#46039f"
             ],
             [
              0.2222222222222222,
              "#7201a8"
             ],
             [
              0.3333333333333333,
              "#9c179e"
             ],
             [
              0.4444444444444444,
              "#bd3786"
             ],
             [
              0.5555555555555556,
              "#d8576b"
             ],
             [
              0.6666666666666666,
              "#ed7953"
             ],
             [
              0.7777777777777778,
              "#fb9f3a"
             ],
             [
              0.8888888888888888,
              "#fdca26"
             ],
             [
              1,
              "#f0f921"
             ]
            ],
            "type": "heatmap"
           }
          ],
          "heatmapgl": [
           {
            "colorbar": {
             "outlinewidth": 0,
             "ticks": ""
            },
            "colorscale": [
             [
              0,
              "#0d0887"
             ],
             [
              0.1111111111111111,
              "#46039f"
             ],
             [
              0.2222222222222222,
              "#7201a8"
             ],
             [
              0.3333333333333333,
              "#9c179e"
             ],
             [
              0.4444444444444444,
              "#bd3786"
             ],
             [
              0.5555555555555556,
              "#d8576b"
             ],
             [
              0.6666666666666666,
              "#ed7953"
             ],
             [
              0.7777777777777778,
              "#fb9f3a"
             ],
             [
              0.8888888888888888,
              "#fdca26"
             ],
             [
              1,
              "#f0f921"
             ]
            ],
            "type": "heatmapgl"
           }
          ],
          "histogram": [
           {
            "marker": {
             "pattern": {
              "fillmode": "overlay",
              "size": 10,
              "solidity": 0.2
             }
            },
            "type": "histogram"
           }
          ],
          "histogram2d": [
           {
            "colorbar": {
             "outlinewidth": 0,
             "ticks": ""
            },
            "colorscale": [
             [
              0,
              "#0d0887"
             ],
             [
              0.1111111111111111,
              "#46039f"
             ],
             [
              0.2222222222222222,
              "#7201a8"
             ],
             [
              0.3333333333333333,
              "#9c179e"
             ],
             [
              0.4444444444444444,
              "#bd3786"
             ],
             [
              0.5555555555555556,
              "#d8576b"
             ],
             [
              0.6666666666666666,
              "#ed7953"
             ],
             [
              0.7777777777777778,
              "#fb9f3a"
             ],
             [
              0.8888888888888888,
              "#fdca26"
             ],
             [
              1,
              "#f0f921"
             ]
            ],
            "type": "histogram2d"
           }
          ],
          "histogram2dcontour": [
           {
            "colorbar": {
             "outlinewidth": 0,
             "ticks": ""
            },
            "colorscale": [
             [
              0,
              "#0d0887"
             ],
             [
              0.1111111111111111,
              "#46039f"
             ],
             [
              0.2222222222222222,
              "#7201a8"
             ],
             [
              0.3333333333333333,
              "#9c179e"
             ],
             [
              0.4444444444444444,
              "#bd3786"
             ],
             [
              0.5555555555555556,
              "#d8576b"
             ],
             [
              0.6666666666666666,
              "#ed7953"
             ],
             [
              0.7777777777777778,
              "#fb9f3a"
             ],
             [
              0.8888888888888888,
              "#fdca26"
             ],
             [
              1,
              "#f0f921"
             ]
            ],
            "type": "histogram2dcontour"
           }
          ],
          "mesh3d": [
           {
            "colorbar": {
             "outlinewidth": 0,
             "ticks": ""
            },
            "type": "mesh3d"
           }
          ],
          "parcoords": [
           {
            "line": {
             "colorbar": {
              "outlinewidth": 0,
              "ticks": ""
             }
            },
            "type": "parcoords"
           }
          ],
          "pie": [
           {
            "automargin": true,
            "type": "pie"
           }
          ],
          "scatter": [
           {
            "fillpattern": {
             "fillmode": "overlay",
             "size": 10,
             "solidity": 0.2
            },
            "type": "scatter"
           }
          ],
          "scatter3d": [
           {
            "line": {
             "colorbar": {
              "outlinewidth": 0,
              "ticks": ""
             }
            },
            "marker": {
             "colorbar": {
              "outlinewidth": 0,
              "ticks": ""
             }
            },
            "type": "scatter3d"
           }
          ],
          "scattercarpet": [
           {
            "marker": {
             "colorbar": {
              "outlinewidth": 0,
              "ticks": ""
             }
            },
            "type": "scattercarpet"
           }
          ],
          "scattergeo": [
           {
            "marker": {
             "colorbar": {
              "outlinewidth": 0,
              "ticks": ""
             }
            },
            "type": "scattergeo"
           }
          ],
          "scattergl": [
           {
            "marker": {
             "colorbar": {
              "outlinewidth": 0,
              "ticks": ""
             }
            },
            "type": "scattergl"
           }
          ],
          "scattermapbox": [
           {
            "marker": {
             "colorbar": {
              "outlinewidth": 0,
              "ticks": ""
             }
            },
            "type": "scattermapbox"
           }
          ],
          "scatterpolar": [
           {
            "marker": {
             "colorbar": {
              "outlinewidth": 0,
              "ticks": ""
             }
            },
            "type": "scatterpolar"
           }
          ],
          "scatterpolargl": [
           {
            "marker": {
             "colorbar": {
              "outlinewidth": 0,
              "ticks": ""
             }
            },
            "type": "scatterpolargl"
           }
          ],
          "scatterternary": [
           {
            "marker": {
             "colorbar": {
              "outlinewidth": 0,
              "ticks": ""
             }
            },
            "type": "scatterternary"
           }
          ],
          "surface": [
           {
            "colorbar": {
             "outlinewidth": 0,
             "ticks": ""
            },
            "colorscale": [
             [
              0,
              "#0d0887"
             ],
             [
              0.1111111111111111,
              "#46039f"
             ],
             [
              0.2222222222222222,
              "#7201a8"
             ],
             [
              0.3333333333333333,
              "#9c179e"
             ],
             [
              0.4444444444444444,
              "#bd3786"
             ],
             [
              0.5555555555555556,
              "#d8576b"
             ],
             [
              0.6666666666666666,
              "#ed7953"
             ],
             [
              0.7777777777777778,
              "#fb9f3a"
             ],
             [
              0.8888888888888888,
              "#fdca26"
             ],
             [
              1,
              "#f0f921"
             ]
            ],
            "type": "surface"
           }
          ],
          "table": [
           {
            "cells": {
             "fill": {
              "color": "#EBF0F8"
             },
             "line": {
              "color": "white"
             }
            },
            "header": {
             "fill": {
              "color": "#C8D4E3"
             },
             "line": {
              "color": "white"
             }
            },
            "type": "table"
           }
          ]
         },
         "layout": {
          "annotationdefaults": {
           "arrowcolor": "#2a3f5f",
           "arrowhead": 0,
           "arrowwidth": 1
          },
          "autotypenumbers": "strict",
          "coloraxis": {
           "colorbar": {
            "outlinewidth": 0,
            "ticks": ""
           }
          },
          "colorscale": {
           "diverging": [
            [
             0,
             "#8e0152"
            ],
            [
             0.1,
             "#c51b7d"
            ],
            [
             0.2,
             "#de77ae"
            ],
            [
             0.3,
             "#f1b6da"
            ],
            [
             0.4,
             "#fde0ef"
            ],
            [
             0.5,
             "#f7f7f7"
            ],
            [
             0.6,
             "#e6f5d0"
            ],
            [
             0.7,
             "#b8e186"
            ],
            [
             0.8,
             "#7fbc41"
            ],
            [
             0.9,
             "#4d9221"
            ],
            [
             1,
             "#276419"
            ]
           ],
           "sequential": [
            [
             0,
             "#0d0887"
            ],
            [
             0.1111111111111111,
             "#46039f"
            ],
            [
             0.2222222222222222,
             "#7201a8"
            ],
            [
             0.3333333333333333,
             "#9c179e"
            ],
            [
             0.4444444444444444,
             "#bd3786"
            ],
            [
             0.5555555555555556,
             "#d8576b"
            ],
            [
             0.6666666666666666,
             "#ed7953"
            ],
            [
             0.7777777777777778,
             "#fb9f3a"
            ],
            [
             0.8888888888888888,
             "#fdca26"
            ],
            [
             1,
             "#f0f921"
            ]
           ],
           "sequentialminus": [
            [
             0,
             "#0d0887"
            ],
            [
             0.1111111111111111,
             "#46039f"
            ],
            [
             0.2222222222222222,
             "#7201a8"
            ],
            [
             0.3333333333333333,
             "#9c179e"
            ],
            [
             0.4444444444444444,
             "#bd3786"
            ],
            [
             0.5555555555555556,
             "#d8576b"
            ],
            [
             0.6666666666666666,
             "#ed7953"
            ],
            [
             0.7777777777777778,
             "#fb9f3a"
            ],
            [
             0.8888888888888888,
             "#fdca26"
            ],
            [
             1,
             "#f0f921"
            ]
           ]
          },
          "colorway": [
           "#636efa",
           "#EF553B",
           "#00cc96",
           "#ab63fa",
           "#FFA15A",
           "#19d3f3",
           "#FF6692",
           "#B6E880",
           "#FF97FF",
           "#FECB52"
          ],
          "font": {
           "color": "#2a3f5f"
          },
          "geo": {
           "bgcolor": "white",
           "lakecolor": "white",
           "landcolor": "#E5ECF6",
           "showlakes": true,
           "showland": true,
           "subunitcolor": "white"
          },
          "hoverlabel": {
           "align": "left"
          },
          "hovermode": "closest",
          "mapbox": {
           "style": "light"
          },
          "paper_bgcolor": "white",
          "plot_bgcolor": "#E5ECF6",
          "polar": {
           "angularaxis": {
            "gridcolor": "white",
            "linecolor": "white",
            "ticks": ""
           },
           "bgcolor": "#E5ECF6",
           "radialaxis": {
            "gridcolor": "white",
            "linecolor": "white",
            "ticks": ""
           }
          },
          "scene": {
           "xaxis": {
            "backgroundcolor": "#E5ECF6",
            "gridcolor": "white",
            "gridwidth": 2,
            "linecolor": "white",
            "showbackground": true,
            "ticks": "",
            "zerolinecolor": "white"
           },
           "yaxis": {
            "backgroundcolor": "#E5ECF6",
            "gridcolor": "white",
            "gridwidth": 2,
            "linecolor": "white",
            "showbackground": true,
            "ticks": "",
            "zerolinecolor": "white"
           },
           "zaxis": {
            "backgroundcolor": "#E5ECF6",
            "gridcolor": "white",
            "gridwidth": 2,
            "linecolor": "white",
            "showbackground": true,
            "ticks": "",
            "zerolinecolor": "white"
           }
          },
          "shapedefaults": {
           "line": {
            "color": "#2a3f5f"
           }
          },
          "ternary": {
           "aaxis": {
            "gridcolor": "white",
            "linecolor": "white",
            "ticks": ""
           },
           "baxis": {
            "gridcolor": "white",
            "linecolor": "white",
            "ticks": ""
           },
           "bgcolor": "#E5ECF6",
           "caxis": {
            "gridcolor": "white",
            "linecolor": "white",
            "ticks": ""
           }
          },
          "title": {
           "x": 0.05
          },
          "xaxis": {
           "automargin": true,
           "gridcolor": "white",
           "linecolor": "white",
           "ticks": "",
           "title": {
            "standoff": 15
           },
           "zerolinecolor": "white",
           "zerolinewidth": 2
          },
          "yaxis": {
           "automargin": true,
           "gridcolor": "white",
           "linecolor": "white",
           "ticks": "",
           "title": {
            "standoff": 15
           },
           "zerolinecolor": "white",
           "zerolinewidth": 2
          }
         }
        },
        "title": {
         "text": "Total Annual Savings for the Whole Community"
        },
        "width": 850,
        "xaxis": {
         "anchor": "y",
         "domain": [
          0,
          0.004635761589403973
         ],
         "tickangle": 45,
         "title": {
          "text": ""
         },
         "visible": false
        },
        "xaxis2": {
         "anchor": "y2",
         "domain": [
          0.10463576158940398,
          0.33642384105960266
         ],
         "tickangle": 45,
         "title": {
          "text": "Bill Savings<br>usd"
         },
         "visible": true
        },
        "xaxis3": {
         "anchor": "y3",
         "domain": [
          0.43642384105960264,
          0.6682119205298013
         ],
         "tickangle": 45,
         "title": {
          "text": "Emission Savings<br>kgCO2e"
         },
         "visible": true
        },
        "xaxis4": {
         "anchor": "y4",
         "domain": [
          0.7682119205298014,
          1
         ],
         "tickangle": 45,
         "title": {
          "text": "Energy Savings<br>mmbtu"
         },
         "visible": true
        },
        "yaxis": {
         "anchor": "x",
         "domain": [
          0,
          1
         ],
         "visible": true
        },
        "yaxis2": {
         "anchor": "x2",
         "domain": [
          0,
          1
         ],
         "visible": false
        },
        "yaxis3": {
         "anchor": "x3",
         "domain": [
          0,
          1
         ],
         "visible": false
        },
        "yaxis4": {
         "anchor": "x4",
         "domain": [
          0,
          1
         ],
         "visible": false
        }
       }
      }
     },
     "metadata": {},
     "output_type": "display_data"
    }
   ],
   "source": [
    "figure_total_savings_3(community_results) "
   ]
  },
  {
   "cell_type": "markdown",
   "id": "e25c8f8e",
   "metadata": {},
   "source": [
    "## 1.3 Annual Savings Per Dwelling Unit"
   ]
  },
  {
   "cell_type": "code",
   "execution_count": 17,
   "id": "9ba37c55",
   "metadata": {},
   "outputs": [
    {
     "name": "stdout",
     "output_type": "stream",
     "text": [
      "sample_weight\n"
     ]
    },
    {
     "data": {
      "text/plain": [
       "upgrade_name\n",
       "Electric Clothes Dryer                                              4096.305418\n",
       "Electric Cooking                                                   18234.147833\n",
       "Induction Cooking                                                  92049.895058\n",
       "Heat Pump Clothes Dryer                                            78779.108592\n",
       "Heat Pump Water Heater                                             92144.655665\n",
       "Mininum Efficiency Whole Home Electrification                      38136.075473\n",
       "Mininum Efficiency Heat Pump with Existing Heat Backup             92755.987940\n",
       "Mininum Efficiency Heat Pump with Electric Heat Backup             93536.674242\n",
       "Basic Enclosure                                                    91597.180135\n",
       "Enhanced Enclosure                                                 92376.665224\n",
       "High Efficiency Heat Pump with Electric Heat Backup                93536.674242\n",
       "High Efficiency Whole Home Electrification                         93698.000000\n",
       "Basic Enclosure + HPWH + High Efficiency HP/Electric Backup        93698.000000\n",
       "Enhanced Enclosure + HPWH + High Efficiency HP/Electric Backup     93698.000000\n",
       "Basic Enclosure + High Efficiency Whole Home Electrification       93698.000000\n",
       "Enhanced Enclosure + High Efficiency Whole Home Electrification    93698.000000\n",
       "Name: sample_weight, dtype: float64"
      ]
     },
     "metadata": {},
     "output_type": "display_data"
    },
    {
     "data": {
      "application/vnd.plotly.v1+json": {
       "config": {
        "plotlyServerURL": "https://plot.ly"
       },
       "data": [
        {
         "cliponaxis": false,
         "marker": {
          "color": "rgb(255, 255, 255)",
          "line": {
           "color": "rgb(255, 255, 255)"
          }
         },
         "orientation": "h",
         "textangle": 0,
         "textfont": {
          "size": 10
         },
         "textposition": "outside",
         "type": "bar",
         "x": [
          0,
          0,
          0,
          0,
          0,
          0,
          0,
          0,
          0,
          0,
          0,
          0,
          0,
          0,
          0,
          0,
          0,
          0,
          0,
          0,
          0,
          0,
          0,
          0,
          0,
          0,
          0,
          0,
          0,
          0,
          0,
          0,
          0,
          0,
          0,
          0,
          0,
          0,
          0,
          0,
          0,
          0,
          0,
          0,
          0,
          0,
          0,
          0,
          0,
          0,
          0,
          0,
          0,
          0,
          0,
          0,
          0,
          0,
          0,
          0,
          0,
          0,
          0,
          0,
          0,
          0,
          0,
          0,
          0,
          0,
          0,
          0,
          0,
          0,
          0,
          0,
          0,
          0,
          0,
          0,
          0,
          0,
          0,
          0,
          0,
          0,
          0,
          0,
          0,
          0,
          0,
          0,
          0,
          0,
          0,
          0,
          0,
          0,
          0,
          0,
          0,
          0,
          0,
          0,
          0,
          0,
          0,
          0,
          0,
          0,
          0,
          0,
          0,
          0,
          0,
          0,
          0,
          0,
          0,
          0,
          0,
          0,
          0,
          0,
          0,
          0,
          0,
          0,
          0,
          0,
          0,
          0,
          0,
          0,
          0,
          0,
          0,
          0,
          0,
          0,
          0,
          0,
          0,
          0,
          0,
          0,
          0,
          0,
          0,
          0,
          0,
          0,
          0,
          0,
          0,
          0,
          0,
          0,
          0,
          0,
          0,
          0,
          0,
          0,
          0,
          0,
          0,
          0,
          0,
          0,
          0,
          0,
          0,
          0,
          0,
          0
         ],
         "xaxis": "x",
         "y": [
          "Electric Clothes Dryer",
          "Electric Cooking",
          "Induction Cooking",
          "Heat Pump Clothes Dryer",
          "Heat Pump Water Heater",
          "Mininum Efficiency Whole Home Electrification",
          "Mininum Efficiency Heat Pump with Existing Heat Backup",
          "Mininum Efficiency Heat Pump with Electric Heat Backup",
          "Basic Enclosure",
          "Enhanced Enclosure",
          "High Efficiency Heat Pump with Electric Heat Backup",
          "High Efficiency Whole Home Electrification",
          "Basic Enclosure + HPWH + High Efficiency HP/Electric Backup",
          "Enhanced Enclosure + HPWH + High Efficiency HP/Electric Backup",
          "Basic Enclosure + High Efficiency Whole Home Electrification",
          "Enhanced Enclosure + High Efficiency Whole Home Electrification"
         ],
         "yaxis": "y"
        },
        {
         "cliponaxis": false,
         "marker": {
          "color": "rgb(0, 121, 61)",
          "line": {
           "color": "rgb(0, 121, 61)"
          }
         },
         "orientation": "h",
         "text": [
          -28.140494078222247,
          -9.982115612546052,
          2.082073469295678,
          31.097643734745738,
          124.43890768387713,
          171.0689935216541,
          311.1460884870958,
          312.5723790478543,
          338.4949291037751,
          393.8184062519571,
          702.7745019330864,
          890.0092974940903,
          973.0756513397238,
          990.8147968791607,
          1002.3034814417953,
          1020.0426269812323
         ],
         "textangle": 0,
         "textfont": {
          "size": 10
         },
         "textposition": "outside",
         "texttemplate": "%{text:.3s}",
         "type": "bar",
         "x": [
          -28.140494078222247,
          -9.982115612546052,
          2.082073469295678,
          31.097643734745738,
          124.43890768387713,
          171.0689935216541,
          311.1460884870958,
          312.5723790478543,
          338.4949291037751,
          393.8184062519571,
          702.7745019330864,
          890.0092974940903,
          973.0756513397238,
          990.8147968791607,
          1002.3034814417953,
          1020.0426269812323
         ],
         "xaxis": "x2",
         "y": [
          "Electric Clothes Dryer",
          "Electric Cooking",
          "Induction Cooking",
          "Heat Pump Clothes Dryer",
          "Heat Pump Water Heater",
          "Mininum Efficiency Whole Home Electrification",
          "Mininum Efficiency Heat Pump with Existing Heat Backup",
          "Mininum Efficiency Heat Pump with Electric Heat Backup",
          "Basic Enclosure",
          "Enhanced Enclosure",
          "High Efficiency Heat Pump with Electric Heat Backup",
          "High Efficiency Whole Home Electrification",
          "Basic Enclosure + HPWH + High Efficiency HP/Electric Backup",
          "Enhanced Enclosure + HPWH + High Efficiency HP/Electric Backup",
          "Basic Enclosure + High Efficiency Whole Home Electrification",
          "Enhanced Enclosure + High Efficiency Whole Home Electrification"
         ],
         "yaxis": "y2"
        },
        {
         "cliponaxis": false,
         "marker": {
          "color": "rgb(0, 121, 61)",
          "line": {
           "color": "rgb(0, 121, 61)"
          }
         },
         "orientation": "h",
         "text": [
          26.723850761810585,
          95.3549898713925,
          26.55875218085984,
          59.15714684932512,
          326.84779413522654,
          1526.8017059306708,
          925.7665778369676,
          1037.5884029713466,
          867.0508450033348,
          1013.7217125315067,
          1846.4869592507891,
          2351.3650955029643,
          2506.474962570047,
          2546.558144053461,
          2582.304517595023,
          2622.387699078437
         ],
         "textangle": 0,
         "textfont": {
          "size": 10
         },
         "textposition": "outside",
         "texttemplate": "%{text:.3s}",
         "type": "bar",
         "x": [
          26.723850761810585,
          95.3549898713925,
          26.55875218085984,
          59.15714684932512,
          326.84779413522654,
          1526.8017059306708,
          925.7665778369676,
          1037.5884029713466,
          867.0508450033348,
          1013.7217125315067,
          1846.4869592507891,
          2351.3650955029643,
          2506.474962570047,
          2546.558144053461,
          2582.304517595023,
          2622.387699078437
         ],
         "xaxis": "x3",
         "y": [
          "Electric Clothes Dryer",
          "Electric Cooking",
          "Induction Cooking",
          "Heat Pump Clothes Dryer",
          "Heat Pump Water Heater",
          "Mininum Efficiency Whole Home Electrification",
          "Mininum Efficiency Heat Pump with Existing Heat Backup",
          "Mininum Efficiency Heat Pump with Electric Heat Backup",
          "Basic Enclosure",
          "Enhanced Enclosure",
          "High Efficiency Heat Pump with Electric Heat Backup",
          "High Efficiency Whole Home Electrification",
          "Basic Enclosure + HPWH + High Efficiency HP/Electric Backup",
          "Enhanced Enclosure + HPWH + High Efficiency HP/Electric Backup",
          "Basic Enclosure + High Efficiency Whole Home Electrification",
          "Enhanced Enclosure + High Efficiency Whole Home Electrification"
         ],
         "yaxis": "y3"
        },
        {
         "cliponaxis": false,
         "marker": {
          "color": "rgb(0, 121, 61)",
          "line": {
           "color": "rgb(0, 121, 61)"
          }
         },
         "orientation": "h",
         "text": [
          0.4303368340653031,
          1.4589821559597467,
          0.3943542107424588,
          0.8672660543444987,
          4.764169765659528,
          25.258747419933684,
          12.010743486452085,
          14.22926083779425,
          11.54843529344169,
          13.41042183196685,
          24.354020323099668,
          31.567733684599528,
          33.3649297444386,
          33.82521566735324,
          34.481524659885174,
          34.94181058279981
         ],
         "textangle": 0,
         "textfont": {
          "size": 10
         },
         "textposition": "outside",
         "texttemplate": "%{text:.3s}",
         "type": "bar",
         "x": [
          0.4303368340653031,
          1.4589821559597467,
          0.3943542107424588,
          0.8672660543444987,
          4.764169765659528,
          25.258747419933684,
          12.010743486452085,
          14.22926083779425,
          11.54843529344169,
          13.41042183196685,
          24.354020323099668,
          31.567733684599528,
          33.3649297444386,
          33.82521566735324,
          34.481524659885174,
          34.94181058279981
         ],
         "xaxis": "x4",
         "y": [
          "Electric Clothes Dryer",
          "Electric Cooking",
          "Induction Cooking",
          "Heat Pump Clothes Dryer",
          "Heat Pump Water Heater",
          "Mininum Efficiency Whole Home Electrification",
          "Mininum Efficiency Heat Pump with Existing Heat Backup",
          "Mininum Efficiency Heat Pump with Electric Heat Backup",
          "Basic Enclosure",
          "Enhanced Enclosure",
          "High Efficiency Heat Pump with Electric Heat Backup",
          "High Efficiency Whole Home Electrification",
          "Basic Enclosure + HPWH + High Efficiency HP/Electric Backup",
          "Enhanced Enclosure + HPWH + High Efficiency HP/Electric Backup",
          "Basic Enclosure + High Efficiency Whole Home Electrification",
          "Enhanced Enclosure + High Efficiency Whole Home Electrification"
         ],
         "yaxis": "y4"
        }
       ],
       "layout": {
        "autosize": false,
        "font": {
         "size": 10
        },
        "height": 500,
        "plot_bgcolor": "rgba(0, 0, 0, 0)",
        "showlegend": false,
        "template": {
         "data": {
          "bar": [
           {
            "error_x": {
             "color": "#2a3f5f"
            },
            "error_y": {
             "color": "#2a3f5f"
            },
            "marker": {
             "line": {
              "color": "#E5ECF6",
              "width": 0.5
             },
             "pattern": {
              "fillmode": "overlay",
              "size": 10,
              "solidity": 0.2
             }
            },
            "type": "bar"
           }
          ],
          "barpolar": [
           {
            "marker": {
             "line": {
              "color": "#E5ECF6",
              "width": 0.5
             },
             "pattern": {
              "fillmode": "overlay",
              "size": 10,
              "solidity": 0.2
             }
            },
            "type": "barpolar"
           }
          ],
          "carpet": [
           {
            "aaxis": {
             "endlinecolor": "#2a3f5f",
             "gridcolor": "white",
             "linecolor": "white",
             "minorgridcolor": "white",
             "startlinecolor": "#2a3f5f"
            },
            "baxis": {
             "endlinecolor": "#2a3f5f",
             "gridcolor": "white",
             "linecolor": "white",
             "minorgridcolor": "white",
             "startlinecolor": "#2a3f5f"
            },
            "type": "carpet"
           }
          ],
          "choropleth": [
           {
            "colorbar": {
             "outlinewidth": 0,
             "ticks": ""
            },
            "type": "choropleth"
           }
          ],
          "contour": [
           {
            "colorbar": {
             "outlinewidth": 0,
             "ticks": ""
            },
            "colorscale": [
             [
              0,
              "#0d0887"
             ],
             [
              0.1111111111111111,
              "#46039f"
             ],
             [
              0.2222222222222222,
              "#7201a8"
             ],
             [
              0.3333333333333333,
              "#9c179e"
             ],
             [
              0.4444444444444444,
              "#bd3786"
             ],
             [
              0.5555555555555556,
              "#d8576b"
             ],
             [
              0.6666666666666666,
              "#ed7953"
             ],
             [
              0.7777777777777778,
              "#fb9f3a"
             ],
             [
              0.8888888888888888,
              "#fdca26"
             ],
             [
              1,
              "#f0f921"
             ]
            ],
            "type": "contour"
           }
          ],
          "contourcarpet": [
           {
            "colorbar": {
             "outlinewidth": 0,
             "ticks": ""
            },
            "type": "contourcarpet"
           }
          ],
          "heatmap": [
           {
            "colorbar": {
             "outlinewidth": 0,
             "ticks": ""
            },
            "colorscale": [
             [
              0,
              "#0d0887"
             ],
             [
              0.1111111111111111,
              "#46039f"
             ],
             [
              0.2222222222222222,
              "#7201a8"
             ],
             [
              0.3333333333333333,
              "#9c179e"
             ],
             [
              0.4444444444444444,
              "#bd3786"
             ],
             [
              0.5555555555555556,
              "#d8576b"
             ],
             [
              0.6666666666666666,
              "#ed7953"
             ],
             [
              0.7777777777777778,
              "#fb9f3a"
             ],
             [
              0.8888888888888888,
              "#fdca26"
             ],
             [
              1,
              "#f0f921"
             ]
            ],
            "type": "heatmap"
           }
          ],
          "heatmapgl": [
           {
            "colorbar": {
             "outlinewidth": 0,
             "ticks": ""
            },
            "colorscale": [
             [
              0,
              "#0d0887"
             ],
             [
              0.1111111111111111,
              "#46039f"
             ],
             [
              0.2222222222222222,
              "#7201a8"
             ],
             [
              0.3333333333333333,
              "#9c179e"
             ],
             [
              0.4444444444444444,
              "#bd3786"
             ],
             [
              0.5555555555555556,
              "#d8576b"
             ],
             [
              0.6666666666666666,
              "#ed7953"
             ],
             [
              0.7777777777777778,
              "#fb9f3a"
             ],
             [
              0.8888888888888888,
              "#fdca26"
             ],
             [
              1,
              "#f0f921"
             ]
            ],
            "type": "heatmapgl"
           }
          ],
          "histogram": [
           {
            "marker": {
             "pattern": {
              "fillmode": "overlay",
              "size": 10,
              "solidity": 0.2
             }
            },
            "type": "histogram"
           }
          ],
          "histogram2d": [
           {
            "colorbar": {
             "outlinewidth": 0,
             "ticks": ""
            },
            "colorscale": [
             [
              0,
              "#0d0887"
             ],
             [
              0.1111111111111111,
              "#46039f"
             ],
             [
              0.2222222222222222,
              "#7201a8"
             ],
             [
              0.3333333333333333,
              "#9c179e"
             ],
             [
              0.4444444444444444,
              "#bd3786"
             ],
             [
              0.5555555555555556,
              "#d8576b"
             ],
             [
              0.6666666666666666,
              "#ed7953"
             ],
             [
              0.7777777777777778,
              "#fb9f3a"
             ],
             [
              0.8888888888888888,
              "#fdca26"
             ],
             [
              1,
              "#f0f921"
             ]
            ],
            "type": "histogram2d"
           }
          ],
          "histogram2dcontour": [
           {
            "colorbar": {
             "outlinewidth": 0,
             "ticks": ""
            },
            "colorscale": [
             [
              0,
              "#0d0887"
             ],
             [
              0.1111111111111111,
              "#46039f"
             ],
             [
              0.2222222222222222,
              "#7201a8"
             ],
             [
              0.3333333333333333,
              "#9c179e"
             ],
             [
              0.4444444444444444,
              "#bd3786"
             ],
             [
              0.5555555555555556,
              "#d8576b"
             ],
             [
              0.6666666666666666,
              "#ed7953"
             ],
             [
              0.7777777777777778,
              "#fb9f3a"
             ],
             [
              0.8888888888888888,
              "#fdca26"
             ],
             [
              1,
              "#f0f921"
             ]
            ],
            "type": "histogram2dcontour"
           }
          ],
          "mesh3d": [
           {
            "colorbar": {
             "outlinewidth": 0,
             "ticks": ""
            },
            "type": "mesh3d"
           }
          ],
          "parcoords": [
           {
            "line": {
             "colorbar": {
              "outlinewidth": 0,
              "ticks": ""
             }
            },
            "type": "parcoords"
           }
          ],
          "pie": [
           {
            "automargin": true,
            "type": "pie"
           }
          ],
          "scatter": [
           {
            "fillpattern": {
             "fillmode": "overlay",
             "size": 10,
             "solidity": 0.2
            },
            "type": "scatter"
           }
          ],
          "scatter3d": [
           {
            "line": {
             "colorbar": {
              "outlinewidth": 0,
              "ticks": ""
             }
            },
            "marker": {
             "colorbar": {
              "outlinewidth": 0,
              "ticks": ""
             }
            },
            "type": "scatter3d"
           }
          ],
          "scattercarpet": [
           {
            "marker": {
             "colorbar": {
              "outlinewidth": 0,
              "ticks": ""
             }
            },
            "type": "scattercarpet"
           }
          ],
          "scattergeo": [
           {
            "marker": {
             "colorbar": {
              "outlinewidth": 0,
              "ticks": ""
             }
            },
            "type": "scattergeo"
           }
          ],
          "scattergl": [
           {
            "marker": {
             "colorbar": {
              "outlinewidth": 0,
              "ticks": ""
             }
            },
            "type": "scattergl"
           }
          ],
          "scattermapbox": [
           {
            "marker": {
             "colorbar": {
              "outlinewidth": 0,
              "ticks": ""
             }
            },
            "type": "scattermapbox"
           }
          ],
          "scatterpolar": [
           {
            "marker": {
             "colorbar": {
              "outlinewidth": 0,
              "ticks": ""
             }
            },
            "type": "scatterpolar"
           }
          ],
          "scatterpolargl": [
           {
            "marker": {
             "colorbar": {
              "outlinewidth": 0,
              "ticks": ""
             }
            },
            "type": "scatterpolargl"
           }
          ],
          "scatterternary": [
           {
            "marker": {
             "colorbar": {
              "outlinewidth": 0,
              "ticks": ""
             }
            },
            "type": "scatterternary"
           }
          ],
          "surface": [
           {
            "colorbar": {
             "outlinewidth": 0,
             "ticks": ""
            },
            "colorscale": [
             [
              0,
              "#0d0887"
             ],
             [
              0.1111111111111111,
              "#46039f"
             ],
             [
              0.2222222222222222,
              "#7201a8"
             ],
             [
              0.3333333333333333,
              "#9c179e"
             ],
             [
              0.4444444444444444,
              "#bd3786"
             ],
             [
              0.5555555555555556,
              "#d8576b"
             ],
             [
              0.6666666666666666,
              "#ed7953"
             ],
             [
              0.7777777777777778,
              "#fb9f3a"
             ],
             [
              0.8888888888888888,
              "#fdca26"
             ],
             [
              1,
              "#f0f921"
             ]
            ],
            "type": "surface"
           }
          ],
          "table": [
           {
            "cells": {
             "fill": {
              "color": "#EBF0F8"
             },
             "line": {
              "color": "white"
             }
            },
            "header": {
             "fill": {
              "color": "#C8D4E3"
             },
             "line": {
              "color": "white"
             }
            },
            "type": "table"
           }
          ]
         },
         "layout": {
          "annotationdefaults": {
           "arrowcolor": "#2a3f5f",
           "arrowhead": 0,
           "arrowwidth": 1
          },
          "autotypenumbers": "strict",
          "coloraxis": {
           "colorbar": {
            "outlinewidth": 0,
            "ticks": ""
           }
          },
          "colorscale": {
           "diverging": [
            [
             0,
             "#8e0152"
            ],
            [
             0.1,
             "#c51b7d"
            ],
            [
             0.2,
             "#de77ae"
            ],
            [
             0.3,
             "#f1b6da"
            ],
            [
             0.4,
             "#fde0ef"
            ],
            [
             0.5,
             "#f7f7f7"
            ],
            [
             0.6,
             "#e6f5d0"
            ],
            [
             0.7,
             "#b8e186"
            ],
            [
             0.8,
             "#7fbc41"
            ],
            [
             0.9,
             "#4d9221"
            ],
            [
             1,
             "#276419"
            ]
           ],
           "sequential": [
            [
             0,
             "#0d0887"
            ],
            [
             0.1111111111111111,
             "#46039f"
            ],
            [
             0.2222222222222222,
             "#7201a8"
            ],
            [
             0.3333333333333333,
             "#9c179e"
            ],
            [
             0.4444444444444444,
             "#bd3786"
            ],
            [
             0.5555555555555556,
             "#d8576b"
            ],
            [
             0.6666666666666666,
             "#ed7953"
            ],
            [
             0.7777777777777778,
             "#fb9f3a"
            ],
            [
             0.8888888888888888,
             "#fdca26"
            ],
            [
             1,
             "#f0f921"
            ]
           ],
           "sequentialminus": [
            [
             0,
             "#0d0887"
            ],
            [
             0.1111111111111111,
             "#46039f"
            ],
            [
             0.2222222222222222,
             "#7201a8"
            ],
            [
             0.3333333333333333,
             "#9c179e"
            ],
            [
             0.4444444444444444,
             "#bd3786"
            ],
            [
             0.5555555555555556,
             "#d8576b"
            ],
            [
             0.6666666666666666,
             "#ed7953"
            ],
            [
             0.7777777777777778,
             "#fb9f3a"
            ],
            [
             0.8888888888888888,
             "#fdca26"
            ],
            [
             1,
             "#f0f921"
            ]
           ]
          },
          "colorway": [
           "#636efa",
           "#EF553B",
           "#00cc96",
           "#ab63fa",
           "#FFA15A",
           "#19d3f3",
           "#FF6692",
           "#B6E880",
           "#FF97FF",
           "#FECB52"
          ],
          "font": {
           "color": "#2a3f5f"
          },
          "geo": {
           "bgcolor": "white",
           "lakecolor": "white",
           "landcolor": "#E5ECF6",
           "showlakes": true,
           "showland": true,
           "subunitcolor": "white"
          },
          "hoverlabel": {
           "align": "left"
          },
          "hovermode": "closest",
          "mapbox": {
           "style": "light"
          },
          "paper_bgcolor": "white",
          "plot_bgcolor": "#E5ECF6",
          "polar": {
           "angularaxis": {
            "gridcolor": "white",
            "linecolor": "white",
            "ticks": ""
           },
           "bgcolor": "#E5ECF6",
           "radialaxis": {
            "gridcolor": "white",
            "linecolor": "white",
            "ticks": ""
           }
          },
          "scene": {
           "xaxis": {
            "backgroundcolor": "#E5ECF6",
            "gridcolor": "white",
            "gridwidth": 2,
            "linecolor": "white",
            "showbackground": true,
            "ticks": "",
            "zerolinecolor": "white"
           },
           "yaxis": {
            "backgroundcolor": "#E5ECF6",
            "gridcolor": "white",
            "gridwidth": 2,
            "linecolor": "white",
            "showbackground": true,
            "ticks": "",
            "zerolinecolor": "white"
           },
           "zaxis": {
            "backgroundcolor": "#E5ECF6",
            "gridcolor": "white",
            "gridwidth": 2,
            "linecolor": "white",
            "showbackground": true,
            "ticks": "",
            "zerolinecolor": "white"
           }
          },
          "shapedefaults": {
           "line": {
            "color": "#2a3f5f"
           }
          },
          "ternary": {
           "aaxis": {
            "gridcolor": "white",
            "linecolor": "white",
            "ticks": ""
           },
           "baxis": {
            "gridcolor": "white",
            "linecolor": "white",
            "ticks": ""
           },
           "bgcolor": "#E5ECF6",
           "caxis": {
            "gridcolor": "white",
            "linecolor": "white",
            "ticks": ""
           }
          },
          "title": {
           "x": 0.05
          },
          "xaxis": {
           "automargin": true,
           "gridcolor": "white",
           "linecolor": "white",
           "ticks": "",
           "title": {
            "standoff": 15
           },
           "zerolinecolor": "white",
           "zerolinewidth": 2
          },
          "yaxis": {
           "automargin": true,
           "gridcolor": "white",
           "linecolor": "white",
           "ticks": "",
           "title": {
            "standoff": 15
           },
           "zerolinecolor": "white",
           "zerolinewidth": 2
          }
         }
        },
        "title": {
         "text": "Annual Savings Per Dwelling Unit"
        },
        "width": 850,
        "xaxis": {
         "anchor": "y",
         "domain": [
          0,
          0.004635761589403973
         ],
         "tickangle": 45,
         "title": {
          "text": ""
         },
         "visible": false
        },
        "xaxis2": {
         "anchor": "y2",
         "domain": [
          0.10463576158940398,
          0.33642384105960266
         ],
         "tickangle": 45,
         "title": {
          "text": "Bill Savings<br>usd"
         },
         "visible": true
        },
        "xaxis3": {
         "anchor": "y3",
         "domain": [
          0.43642384105960264,
          0.6682119205298013
         ],
         "tickangle": 45,
         "title": {
          "text": "Emission Savings<br>kgCO2e"
         },
         "visible": true
        },
        "xaxis4": {
         "anchor": "y4",
         "domain": [
          0.7682119205298014,
          1
         ],
         "tickangle": 45,
         "title": {
          "text": "Energy Savings<br>mmbtu"
         },
         "visible": true
        },
        "yaxis": {
         "anchor": "x",
         "domain": [
          0,
          1
         ],
         "visible": true
        },
        "yaxis2": {
         "anchor": "x2",
         "domain": [
          0,
          1
         ],
         "visible": false
        },
        "yaxis3": {
         "anchor": "x3",
         "domain": [
          0,
          1
         ],
         "visible": false
        },
        "yaxis4": {
         "anchor": "x4",
         "domain": [
          0,
          1
         ],
         "visible": false
        }
       }
      }
     },
     "metadata": {},
     "output_type": "display_data"
    }
   ],
   "source": [
    "results = figure_mean_savings(community_results) \n",
    "saving_results[['whole_community_saving_bill_mean_usd','whole_community_saving_emission_mean_kgCO2e','whole_community_saving_energy_mean_mmbtu']] = results"
   ]
  },
  {
   "cell_type": "code",
   "execution_count": 18,
   "id": "553ba381",
   "metadata": {},
   "outputs": [
    {
     "name": "stdout",
     "output_type": "stream",
     "text": [
      "Community summary:\n"
     ]
    },
    {
     "data": {
      "text/html": [
       "<div>\n",
       "<style scoped>\n",
       "    .dataframe tbody tr th:only-of-type {\n",
       "        vertical-align: middle;\n",
       "    }\n",
       "\n",
       "    .dataframe tbody tr th {\n",
       "        vertical-align: top;\n",
       "    }\n",
       "\n",
       "    .dataframe thead th {\n",
       "        text-align: right;\n",
       "    }\n",
       "</style>\n",
       "<table border=\"1\" class=\"dataframe\">\n",
       "  <thead>\n",
       "    <tr style=\"text-align: right;\">\n",
       "      <th></th>\n",
       "      <th>n_samples</th>\n",
       "      <th>n_represented</th>\n",
       "      <th>pct_saving_energy.total_% wt_mean</th>\n",
       "      <th>pct_saving_energy.total_% wt_p0.25</th>\n",
       "      <th>pct_saving_energy.total_% wt_p0.75</th>\n",
       "    </tr>\n",
       "    <tr>\n",
       "      <th>upgrade_name</th>\n",
       "      <th></th>\n",
       "      <th></th>\n",
       "      <th></th>\n",
       "      <th></th>\n",
       "      <th></th>\n",
       "    </tr>\n",
       "  </thead>\n",
       "  <tbody>\n",
       "    <tr>\n",
       "      <th>Enhanced Enclosure + High Efficiency Whole Home Electrification</th>\n",
       "      <td>1120</td>\n",
       "      <td>93698.000000</td>\n",
       "      <td>51.880599</td>\n",
       "      <td>41.956560</td>\n",
       "      <td>62.805880</td>\n",
       "    </tr>\n",
       "    <tr>\n",
       "      <th>Basic Enclosure + High Efficiency Whole Home Electrification</th>\n",
       "      <td>1120</td>\n",
       "      <td>93698.000000</td>\n",
       "      <td>51.100352</td>\n",
       "      <td>41.372864</td>\n",
       "      <td>62.127911</td>\n",
       "    </tr>\n",
       "    <tr>\n",
       "      <th>Enhanced Enclosure + HPWH + High Efficiency HP/Electric Backup</th>\n",
       "      <td>1120</td>\n",
       "      <td>93698.000000</td>\n",
       "      <td>50.061886</td>\n",
       "      <td>39.655341</td>\n",
       "      <td>61.691443</td>\n",
       "    </tr>\n",
       "    <tr>\n",
       "      <th>Basic Enclosure + HPWH + High Efficiency HP/Electric Backup</th>\n",
       "      <td>1120</td>\n",
       "      <td>93698.000000</td>\n",
       "      <td>49.281746</td>\n",
       "      <td>38.811163</td>\n",
       "      <td>61.047052</td>\n",
       "    </tr>\n",
       "    <tr>\n",
       "      <th>High Efficiency Whole Home Electrification</th>\n",
       "      <td>1120</td>\n",
       "      <td>93698.000000</td>\n",
       "      <td>46.847475</td>\n",
       "      <td>38.450000</td>\n",
       "      <td>55.936199</td>\n",
       "    </tr>\n",
       "    <tr>\n",
       "      <th>High Efficiency Heat Pump with Electric Heat Backup</th>\n",
       "      <td>1117</td>\n",
       "      <td>93536.674242</td>\n",
       "      <td>34.745254</td>\n",
       "      <td>24.652401</td>\n",
       "      <td>46.564562</td>\n",
       "    </tr>\n",
       "    <tr>\n",
       "      <th>Mininum Efficiency Whole Home Electrification</th>\n",
       "      <td>348</td>\n",
       "      <td>38136.075473</td>\n",
       "      <td>27.435292</td>\n",
       "      <td>5.611356</td>\n",
       "      <td>45.142413</td>\n",
       "    </tr>\n",
       "    <tr>\n",
       "      <th>Enhanced Enclosure</th>\n",
       "      <td>1105</td>\n",
       "      <td>92376.665224</td>\n",
       "      <td>17.494616</td>\n",
       "      <td>7.265421</td>\n",
       "      <td>25.665255</td>\n",
       "    </tr>\n",
       "    <tr>\n",
       "      <th>Mininum Efficiency Heat Pump with Electric Heat Backup</th>\n",
       "      <td>1117</td>\n",
       "      <td>93536.674242</td>\n",
       "      <td>17.146593</td>\n",
       "      <td>7.424104</td>\n",
       "      <td>28.581836</td>\n",
       "    </tr>\n",
       "    <tr>\n",
       "      <th>Basic Enclosure</th>\n",
       "      <td>1098</td>\n",
       "      <td>91597.180135</td>\n",
       "      <td>14.903187</td>\n",
       "      <td>5.901752</td>\n",
       "      <td>22.046135</td>\n",
       "    </tr>\n",
       "    <tr>\n",
       "      <th>Mininum Efficiency Heat Pump with Existing Heat Backup</th>\n",
       "      <td>1113</td>\n",
       "      <td>92755.987940</td>\n",
       "      <td>14.679444</td>\n",
       "      <td>6.322192</td>\n",
       "      <td>23.454922</td>\n",
       "    </tr>\n",
       "    <tr>\n",
       "      <th>Heat Pump Water Heater</th>\n",
       "      <td>1100</td>\n",
       "      <td>92144.655665</td>\n",
       "      <td>8.378170</td>\n",
       "      <td>4.045803</td>\n",
       "      <td>10.963503</td>\n",
       "    </tr>\n",
       "    <tr>\n",
       "      <th>Electric Cooking</th>\n",
       "      <td>203</td>\n",
       "      <td>18234.147833</td>\n",
       "      <td>2.363013</td>\n",
       "      <td>1.263095</td>\n",
       "      <td>3.361766</td>\n",
       "    </tr>\n",
       "    <tr>\n",
       "      <th>Heat Pump Clothes Dryer</th>\n",
       "      <td>947</td>\n",
       "      <td>78779.108592</td>\n",
       "      <td>1.402468</td>\n",
       "      <td>0.786403</td>\n",
       "      <td>1.880000</td>\n",
       "    </tr>\n",
       "    <tr>\n",
       "      <th>Induction Cooking</th>\n",
       "      <td>1099</td>\n",
       "      <td>92049.895058</td>\n",
       "      <td>0.650906</td>\n",
       "      <td>0.130000</td>\n",
       "      <td>0.390000</td>\n",
       "    </tr>\n",
       "    <tr>\n",
       "      <th>Electric Clothes Dryer</th>\n",
       "      <td>40</td>\n",
       "      <td>4096.305418</td>\n",
       "      <td>0.568155</td>\n",
       "      <td>0.317374</td>\n",
       "      <td>0.591909</td>\n",
       "    </tr>\n",
       "    <tr>\n",
       "      <th>baseline</th>\n",
       "      <td>1120</td>\n",
       "      <td>93698.000000</td>\n",
       "      <td>0.000000</td>\n",
       "      <td>NaN</td>\n",
       "      <td>NaN</td>\n",
       "    </tr>\n",
       "  </tbody>\n",
       "</table>\n",
       "</div>"
      ],
      "text/plain": [
       "                                                    n_samples  n_represented  \\\n",
       "upgrade_name                                                                   \n",
       "Enhanced Enclosure + High Efficiency Whole Home...       1120   93698.000000   \n",
       "Basic Enclosure + High Efficiency Whole Home El...       1120   93698.000000   \n",
       "Enhanced Enclosure + HPWH + High Efficiency HP/...       1120   93698.000000   \n",
       "Basic Enclosure + HPWH + High Efficiency HP/Ele...       1120   93698.000000   \n",
       "High Efficiency Whole Home Electrification               1120   93698.000000   \n",
       "High Efficiency Heat Pump with Electric Heat Ba...       1117   93536.674242   \n",
       "Mininum Efficiency Whole Home Electrification             348   38136.075473   \n",
       "Enhanced Enclosure                                       1105   92376.665224   \n",
       "Mininum Efficiency Heat Pump with Electric Heat...       1117   93536.674242   \n",
       "Basic Enclosure                                          1098   91597.180135   \n",
       "Mininum Efficiency Heat Pump with Existing Heat...       1113   92755.987940   \n",
       "Heat Pump Water Heater                                   1100   92144.655665   \n",
       "Electric Cooking                                          203   18234.147833   \n",
       "Heat Pump Clothes Dryer                                   947   78779.108592   \n",
       "Induction Cooking                                        1099   92049.895058   \n",
       "Electric Clothes Dryer                                     40    4096.305418   \n",
       "baseline                                                 1120   93698.000000   \n",
       "\n",
       "                                                    pct_saving_energy.total_% wt_mean  \\\n",
       "upgrade_name                                                                            \n",
       "Enhanced Enclosure + High Efficiency Whole Home...                          51.880599   \n",
       "Basic Enclosure + High Efficiency Whole Home El...                          51.100352   \n",
       "Enhanced Enclosure + HPWH + High Efficiency HP/...                          50.061886   \n",
       "Basic Enclosure + HPWH + High Efficiency HP/Ele...                          49.281746   \n",
       "High Efficiency Whole Home Electrification                                  46.847475   \n",
       "High Efficiency Heat Pump with Electric Heat Ba...                          34.745254   \n",
       "Mininum Efficiency Whole Home Electrification                               27.435292   \n",
       "Enhanced Enclosure                                                          17.494616   \n",
       "Mininum Efficiency Heat Pump with Electric Heat...                          17.146593   \n",
       "Basic Enclosure                                                             14.903187   \n",
       "Mininum Efficiency Heat Pump with Existing Heat...                          14.679444   \n",
       "Heat Pump Water Heater                                                       8.378170   \n",
       "Electric Cooking                                                             2.363013   \n",
       "Heat Pump Clothes Dryer                                                      1.402468   \n",
       "Induction Cooking                                                            0.650906   \n",
       "Electric Clothes Dryer                                                       0.568155   \n",
       "baseline                                                                     0.000000   \n",
       "\n",
       "                                                    pct_saving_energy.total_% wt_p0.25  \\\n",
       "upgrade_name                                                                             \n",
       "Enhanced Enclosure + High Efficiency Whole Home...                           41.956560   \n",
       "Basic Enclosure + High Efficiency Whole Home El...                           41.372864   \n",
       "Enhanced Enclosure + HPWH + High Efficiency HP/...                           39.655341   \n",
       "Basic Enclosure + HPWH + High Efficiency HP/Ele...                           38.811163   \n",
       "High Efficiency Whole Home Electrification                                   38.450000   \n",
       "High Efficiency Heat Pump with Electric Heat Ba...                           24.652401   \n",
       "Mininum Efficiency Whole Home Electrification                                 5.611356   \n",
       "Enhanced Enclosure                                                            7.265421   \n",
       "Mininum Efficiency Heat Pump with Electric Heat...                            7.424104   \n",
       "Basic Enclosure                                                               5.901752   \n",
       "Mininum Efficiency Heat Pump with Existing Heat...                            6.322192   \n",
       "Heat Pump Water Heater                                                        4.045803   \n",
       "Electric Cooking                                                              1.263095   \n",
       "Heat Pump Clothes Dryer                                                       0.786403   \n",
       "Induction Cooking                                                             0.130000   \n",
       "Electric Clothes Dryer                                                        0.317374   \n",
       "baseline                                                                           NaN   \n",
       "\n",
       "                                                    pct_saving_energy.total_% wt_p0.75  \n",
       "upgrade_name                                                                            \n",
       "Enhanced Enclosure + High Efficiency Whole Home...                           62.805880  \n",
       "Basic Enclosure + High Efficiency Whole Home El...                           62.127911  \n",
       "Enhanced Enclosure + HPWH + High Efficiency HP/...                           61.691443  \n",
       "Basic Enclosure + HPWH + High Efficiency HP/Ele...                           61.047052  \n",
       "High Efficiency Whole Home Electrification                                   55.936199  \n",
       "High Efficiency Heat Pump with Electric Heat Ba...                           46.564562  \n",
       "Mininum Efficiency Whole Home Electrification                                45.142413  \n",
       "Enhanced Enclosure                                                           25.665255  \n",
       "Mininum Efficiency Heat Pump with Electric Heat...                           28.581836  \n",
       "Basic Enclosure                                                              22.046135  \n",
       "Mininum Efficiency Heat Pump with Existing Heat...                           23.454922  \n",
       "Heat Pump Water Heater                                                       10.963503  \n",
       "Electric Cooking                                                              3.361766  \n",
       "Heat Pump Clothes Dryer                                                       1.880000  \n",
       "Induction Cooking                                                             0.390000  \n",
       "Electric Clothes Dryer                                                        0.591909  \n",
       "baseline                                                                           NaN  "
      ]
     },
     "execution_count": 18,
     "metadata": {},
     "output_type": "execute_result"
    }
   ],
   "source": [
    "metric = \"pct_saving_energy.total_%\"\n",
    "print(\"Community summary:\")\n",
    "get_summary(community_results, metric, lower_percentile=0.25, upper_percentile=0.75)"
   ]
  },
  {
   "cell_type": "markdown",
   "id": "35e7b6ad",
   "metadata": {},
   "source": [
    "# 2. Results for Segments (All Income)"
   ]
  },
  {
   "cell_type": "markdown",
   "id": "9c79f834",
   "metadata": {},
   "source": [
    "Segment Definition\n",
    "\n",
    "Segment 1. Occupied, Single family detached, 1940-1979, all income \n",
    "\n",
    "Segment 2. Occupied, Multifamily with 5+ units, 1940-1979, all income \n",
    "\n",
    "Segment 3. Occupied, Single family detached, 1980+, all income \n",
    "\n",
    "Segment 4. Occupied, Multifamily with 5+ units, 1980+, all income \n"
   ]
  },
  {
   "cell_type": "code",
   "execution_count": 19,
   "id": "42e13001",
   "metadata": {},
   "outputs": [],
   "source": [
    "income = 'all_incomes'\n",
    "vacancy_status = ['Occupied']\n",
    "\n",
    "seg1_building_type = ['Single-Family Detached']\n",
    "seg1_vintage = ['1940s', '1950s', '1960s', '1970s']\n",
    "seg1_median_income = ['0-30%','30-60%','60-80%','80-100%', '100-120%','120-150%']\n",
    "\n",
    "seg2_building_type = ['Multi-Family with 5+ Units']\n",
    "seg2_vintage = ['1940s', '1950s', '1960s', '1970s']\n",
    "seg2_median_income = ['0-30%','30-60%','60-80%','80-100%', '100-120%','120-150%']\n",
    "\n",
    "seg3_building_type = ['Single-Family Detached']\n",
    "seg3_vintage = ['1980s', '1990s', '2000s', '2010s']\n",
    "seg3_median_income = ['0-30%','30-60%','60-80%','80-100%', '100-120%','120-150%']\n",
    "\n",
    "seg4_building_type = ['Multi-Family with 5+ Units']\n",
    "seg4_vintage = ['1980s', '1990s', '2000s', '2010s']\n",
    "seg4_median_income = ['0-30%','30-60%','60-80%','80-100%', '100-120%','120-150%']\n",
    "\n",
    "community_results.loc[community_results['build_existing_model.vacancy_status'].isin(vacancy_status) & \n",
    "                     community_results['build_existing_model.geometry_building_type_recs'].isin(seg1_building_type) & \n",
    "                     community_results['build_existing_model.vintage'].isin(seg1_vintage) & \n",
    "                     community_results['build_existing_model.area_median_income'].isin(seg1_median_income),\n",
    "                     'segment'] = 'segment1'\n",
    "community_results.loc[community_results['build_existing_model.vacancy_status'].isin(vacancy_status) & \n",
    "                     community_results['build_existing_model.geometry_building_type_recs'].isin(seg2_building_type) & \n",
    "                     community_results['build_existing_model.vintage'].isin(seg2_vintage) & \n",
    "                     community_results['build_existing_model.area_median_income'].isin(seg2_median_income),\n",
    "                     'segment'] = 'segment2'\n",
    "community_results.loc[community_results['build_existing_model.vacancy_status'].isin(vacancy_status) & \n",
    "                     community_results['build_existing_model.geometry_building_type_recs'].isin(seg3_building_type) & \n",
    "                     community_results['build_existing_model.vintage'].isin(seg3_vintage) & \n",
    "                     community_results['build_existing_model.area_median_income'].isin(seg3_median_income),\n",
    "                     'segment'] = 'segment3'\n",
    "community_results.loc[community_results['build_existing_model.vacancy_status'].isin(vacancy_status) & \n",
    "                     community_results['build_existing_model.geometry_building_type_recs'].isin(seg4_building_type) & \n",
    "                     community_results['build_existing_model.vintage'].isin(seg4_vintage) & \n",
    "                     community_results['build_existing_model.area_median_income'].isin(seg4_median_income),\n",
    "                     'segment'] = 'segment4'"
   ]
  },
  {
   "cell_type": "code",
   "execution_count": 20,
   "id": "7796610c",
   "metadata": {},
   "outputs": [
    {
     "name": "stdout",
     "output_type": "stream",
     "text": [
      "Summary for segment: segment1: \n"
     ]
    },
    {
     "data": {
      "text/html": [
       "<div>\n",
       "<style scoped>\n",
       "    .dataframe tbody tr th:only-of-type {\n",
       "        vertical-align: middle;\n",
       "    }\n",
       "\n",
       "    .dataframe tbody tr th {\n",
       "        vertical-align: top;\n",
       "    }\n",
       "\n",
       "    .dataframe thead th {\n",
       "        text-align: right;\n",
       "    }\n",
       "</style>\n",
       "<table border=\"1\" class=\"dataframe\">\n",
       "  <thead>\n",
       "    <tr style=\"text-align: right;\">\n",
       "      <th></th>\n",
       "      <th>n_samples</th>\n",
       "      <th>n_represented</th>\n",
       "      <th>pct_saving_energy.total_% wt_mean</th>\n",
       "      <th>pct_saving_energy.total_% wt_p0.25</th>\n",
       "      <th>pct_saving_energy.total_% wt_p0.75</th>\n",
       "    </tr>\n",
       "    <tr>\n",
       "      <th>upgrade_name</th>\n",
       "      <th></th>\n",
       "      <th></th>\n",
       "      <th></th>\n",
       "      <th></th>\n",
       "      <th></th>\n",
       "    </tr>\n",
       "  </thead>\n",
       "  <tbody>\n",
       "    <tr>\n",
       "      <th>Enhanced Enclosure + High Efficiency Whole Home Electrification</th>\n",
       "      <td>133</td>\n",
       "      <td>17555.110438</td>\n",
       "      <td>62.234227</td>\n",
       "      <td>55.904250</td>\n",
       "      <td>69.167063</td>\n",
       "    </tr>\n",
       "    <tr>\n",
       "      <th>Basic Enclosure + High Efficiency Whole Home Electrification</th>\n",
       "      <td>133</td>\n",
       "      <td>17555.110438</td>\n",
       "      <td>61.573800</td>\n",
       "      <td>55.763750</td>\n",
       "      <td>68.842778</td>\n",
       "    </tr>\n",
       "    <tr>\n",
       "      <th>Enhanced Enclosure + HPWH + High Efficiency HP/Electric Backup</th>\n",
       "      <td>133</td>\n",
       "      <td>17555.110438</td>\n",
       "      <td>60.449792</td>\n",
       "      <td>54.531500</td>\n",
       "      <td>67.676222</td>\n",
       "    </tr>\n",
       "    <tr>\n",
       "      <th>Basic Enclosure + HPWH + High Efficiency HP/Electric Backup</th>\n",
       "      <td>133</td>\n",
       "      <td>17555.110438</td>\n",
       "      <td>59.788968</td>\n",
       "      <td>54.410000</td>\n",
       "      <td>67.456528</td>\n",
       "    </tr>\n",
       "    <tr>\n",
       "      <th>High Efficiency Whole Home Electrification</th>\n",
       "      <td>133</td>\n",
       "      <td>17555.110438</td>\n",
       "      <td>55.495694</td>\n",
       "      <td>48.301375</td>\n",
       "      <td>63.052083</td>\n",
       "    </tr>\n",
       "    <tr>\n",
       "      <th>High Efficiency Heat Pump with Electric Heat Backup</th>\n",
       "      <td>133</td>\n",
       "      <td>17555.110438</td>\n",
       "      <td>44.088481</td>\n",
       "      <td>36.304000</td>\n",
       "      <td>52.294398</td>\n",
       "    </tr>\n",
       "    <tr>\n",
       "      <th>Mininum Efficiency Whole Home Electrification</th>\n",
       "      <td>79</td>\n",
       "      <td>11433.335690</td>\n",
       "      <td>34.979913</td>\n",
       "      <td>18.980167</td>\n",
       "      <td>49.377556</td>\n",
       "    </tr>\n",
       "    <tr>\n",
       "      <th>Enhanced Enclosure</th>\n",
       "      <td>133</td>\n",
       "      <td>17555.110438</td>\n",
       "      <td>27.254203</td>\n",
       "      <td>20.252667</td>\n",
       "      <td>35.726270</td>\n",
       "    </tr>\n",
       "    <tr>\n",
       "      <th>Mininum Efficiency Heat Pump with Electric Heat Backup</th>\n",
       "      <td>133</td>\n",
       "      <td>17555.110438</td>\n",
       "      <td>27.025288</td>\n",
       "      <td>18.111818</td>\n",
       "      <td>35.915694</td>\n",
       "    </tr>\n",
       "    <tr>\n",
       "      <th>Basic Enclosure</th>\n",
       "      <td>133</td>\n",
       "      <td>17555.110438</td>\n",
       "      <td>23.830738</td>\n",
       "      <td>16.106650</td>\n",
       "      <td>31.656889</td>\n",
       "    </tr>\n",
       "    <tr>\n",
       "      <th>Mininum Efficiency Heat Pump with Existing Heat Backup</th>\n",
       "      <td>133</td>\n",
       "      <td>17555.110438</td>\n",
       "      <td>20.806522</td>\n",
       "      <td>11.460769</td>\n",
       "      <td>28.955926</td>\n",
       "    </tr>\n",
       "    <tr>\n",
       "      <th>Heat Pump Water Heater</th>\n",
       "      <td>132</td>\n",
       "      <td>17503.486195</td>\n",
       "      <td>7.351512</td>\n",
       "      <td>3.780150</td>\n",
       "      <td>10.514978</td>\n",
       "    </tr>\n",
       "    <tr>\n",
       "      <th>Electric Cooking</th>\n",
       "      <td>37</td>\n",
       "      <td>4816.828620</td>\n",
       "      <td>1.740375</td>\n",
       "      <td>1.395917</td>\n",
       "      <td>1.907500</td>\n",
       "    </tr>\n",
       "    <tr>\n",
       "      <th>Heat Pump Clothes Dryer</th>\n",
       "      <td>130</td>\n",
       "      <td>17203.778788</td>\n",
       "      <td>1.172333</td>\n",
       "      <td>0.750000</td>\n",
       "      <td>1.471562</td>\n",
       "    </tr>\n",
       "    <tr>\n",
       "      <th>Induction Cooking</th>\n",
       "      <td>130</td>\n",
       "      <td>17275.479125</td>\n",
       "      <td>0.646236</td>\n",
       "      <td>0.130000</td>\n",
       "      <td>1.380764</td>\n",
       "    </tr>\n",
       "    <tr>\n",
       "      <th>Electric Clothes Dryer</th>\n",
       "      <td>11</td>\n",
       "      <td>1557.331313</td>\n",
       "      <td>0.361630</td>\n",
       "      <td>0.293611</td>\n",
       "      <td>0.438800</td>\n",
       "    </tr>\n",
       "    <tr>\n",
       "      <th>baseline</th>\n",
       "      <td>133</td>\n",
       "      <td>17555.110438</td>\n",
       "      <td>0.000000</td>\n",
       "      <td>NaN</td>\n",
       "      <td>NaN</td>\n",
       "    </tr>\n",
       "  </tbody>\n",
       "</table>\n",
       "</div>"
      ],
      "text/plain": [
       "                                                    n_samples  n_represented  \\\n",
       "upgrade_name                                                                   \n",
       "Enhanced Enclosure + High Efficiency Whole Home...        133   17555.110438   \n",
       "Basic Enclosure + High Efficiency Whole Home El...        133   17555.110438   \n",
       "Enhanced Enclosure + HPWH + High Efficiency HP/...        133   17555.110438   \n",
       "Basic Enclosure + HPWH + High Efficiency HP/Ele...        133   17555.110438   \n",
       "High Efficiency Whole Home Electrification                133   17555.110438   \n",
       "High Efficiency Heat Pump with Electric Heat Ba...        133   17555.110438   \n",
       "Mininum Efficiency Whole Home Electrification              79   11433.335690   \n",
       "Enhanced Enclosure                                        133   17555.110438   \n",
       "Mininum Efficiency Heat Pump with Electric Heat...        133   17555.110438   \n",
       "Basic Enclosure                                           133   17555.110438   \n",
       "Mininum Efficiency Heat Pump with Existing Heat...        133   17555.110438   \n",
       "Heat Pump Water Heater                                    132   17503.486195   \n",
       "Electric Cooking                                           37    4816.828620   \n",
       "Heat Pump Clothes Dryer                                   130   17203.778788   \n",
       "Induction Cooking                                         130   17275.479125   \n",
       "Electric Clothes Dryer                                     11    1557.331313   \n",
       "baseline                                                  133   17555.110438   \n",
       "\n",
       "                                                    pct_saving_energy.total_% wt_mean  \\\n",
       "upgrade_name                                                                            \n",
       "Enhanced Enclosure + High Efficiency Whole Home...                          62.234227   \n",
       "Basic Enclosure + High Efficiency Whole Home El...                          61.573800   \n",
       "Enhanced Enclosure + HPWH + High Efficiency HP/...                          60.449792   \n",
       "Basic Enclosure + HPWH + High Efficiency HP/Ele...                          59.788968   \n",
       "High Efficiency Whole Home Electrification                                  55.495694   \n",
       "High Efficiency Heat Pump with Electric Heat Ba...                          44.088481   \n",
       "Mininum Efficiency Whole Home Electrification                               34.979913   \n",
       "Enhanced Enclosure                                                          27.254203   \n",
       "Mininum Efficiency Heat Pump with Electric Heat...                          27.025288   \n",
       "Basic Enclosure                                                             23.830738   \n",
       "Mininum Efficiency Heat Pump with Existing Heat...                          20.806522   \n",
       "Heat Pump Water Heater                                                       7.351512   \n",
       "Electric Cooking                                                             1.740375   \n",
       "Heat Pump Clothes Dryer                                                      1.172333   \n",
       "Induction Cooking                                                            0.646236   \n",
       "Electric Clothes Dryer                                                       0.361630   \n",
       "baseline                                                                     0.000000   \n",
       "\n",
       "                                                    pct_saving_energy.total_% wt_p0.25  \\\n",
       "upgrade_name                                                                             \n",
       "Enhanced Enclosure + High Efficiency Whole Home...                           55.904250   \n",
       "Basic Enclosure + High Efficiency Whole Home El...                           55.763750   \n",
       "Enhanced Enclosure + HPWH + High Efficiency HP/...                           54.531500   \n",
       "Basic Enclosure + HPWH + High Efficiency HP/Ele...                           54.410000   \n",
       "High Efficiency Whole Home Electrification                                   48.301375   \n",
       "High Efficiency Heat Pump with Electric Heat Ba...                           36.304000   \n",
       "Mininum Efficiency Whole Home Electrification                                18.980167   \n",
       "Enhanced Enclosure                                                           20.252667   \n",
       "Mininum Efficiency Heat Pump with Electric Heat...                           18.111818   \n",
       "Basic Enclosure                                                              16.106650   \n",
       "Mininum Efficiency Heat Pump with Existing Heat...                           11.460769   \n",
       "Heat Pump Water Heater                                                        3.780150   \n",
       "Electric Cooking                                                              1.395917   \n",
       "Heat Pump Clothes Dryer                                                       0.750000   \n",
       "Induction Cooking                                                             0.130000   \n",
       "Electric Clothes Dryer                                                        0.293611   \n",
       "baseline                                                                           NaN   \n",
       "\n",
       "                                                    pct_saving_energy.total_% wt_p0.75  \n",
       "upgrade_name                                                                            \n",
       "Enhanced Enclosure + High Efficiency Whole Home...                           69.167063  \n",
       "Basic Enclosure + High Efficiency Whole Home El...                           68.842778  \n",
       "Enhanced Enclosure + HPWH + High Efficiency HP/...                           67.676222  \n",
       "Basic Enclosure + HPWH + High Efficiency HP/Ele...                           67.456528  \n",
       "High Efficiency Whole Home Electrification                                   63.052083  \n",
       "High Efficiency Heat Pump with Electric Heat Ba...                           52.294398  \n",
       "Mininum Efficiency Whole Home Electrification                                49.377556  \n",
       "Enhanced Enclosure                                                           35.726270  \n",
       "Mininum Efficiency Heat Pump with Electric Heat...                           35.915694  \n",
       "Basic Enclosure                                                              31.656889  \n",
       "Mininum Efficiency Heat Pump with Existing Heat...                           28.955926  \n",
       "Heat Pump Water Heater                                                       10.514978  \n",
       "Electric Cooking                                                              1.907500  \n",
       "Heat Pump Clothes Dryer                                                       1.471562  \n",
       "Induction Cooking                                                             1.380764  \n",
       "Electric Clothes Dryer                                                        0.438800  \n",
       "baseline                                                                           NaN  "
      ]
     },
     "metadata": {},
     "output_type": "display_data"
    },
    {
     "name": "stdout",
     "output_type": "stream",
     "text": [
      "Summary for segment: segment2: \n"
     ]
    },
    {
     "data": {
      "text/html": [
       "<div>\n",
       "<style scoped>\n",
       "    .dataframe tbody tr th:only-of-type {\n",
       "        vertical-align: middle;\n",
       "    }\n",
       "\n",
       "    .dataframe tbody tr th {\n",
       "        vertical-align: top;\n",
       "    }\n",
       "\n",
       "    .dataframe thead th {\n",
       "        text-align: right;\n",
       "    }\n",
       "</style>\n",
       "<table border=\"1\" class=\"dataframe\">\n",
       "  <thead>\n",
       "    <tr style=\"text-align: right;\">\n",
       "      <th></th>\n",
       "      <th>n_samples</th>\n",
       "      <th>n_represented</th>\n",
       "      <th>pct_saving_energy.total_% wt_mean</th>\n",
       "      <th>pct_saving_energy.total_% wt_p0.25</th>\n",
       "      <th>pct_saving_energy.total_% wt_p0.75</th>\n",
       "    </tr>\n",
       "    <tr>\n",
       "      <th>upgrade_name</th>\n",
       "      <th></th>\n",
       "      <th></th>\n",
       "      <th></th>\n",
       "      <th></th>\n",
       "      <th></th>\n",
       "    </tr>\n",
       "  </thead>\n",
       "  <tbody>\n",
       "    <tr>\n",
       "      <th>Enhanced Enclosure + High Efficiency Whole Home Electrification</th>\n",
       "      <td>88</td>\n",
       "      <td>8069.342127</td>\n",
       "      <td>43.708095</td>\n",
       "      <td>36.178942</td>\n",
       "      <td>50.462762</td>\n",
       "    </tr>\n",
       "    <tr>\n",
       "      <th>Basic Enclosure + High Efficiency Whole Home Electrification</th>\n",
       "      <td>88</td>\n",
       "      <td>8069.342127</td>\n",
       "      <td>42.886457</td>\n",
       "      <td>36.166509</td>\n",
       "      <td>49.877057</td>\n",
       "    </tr>\n",
       "    <tr>\n",
       "      <th>Enhanced Enclosure + HPWH + High Efficiency HP/Electric Backup</th>\n",
       "      <td>88</td>\n",
       "      <td>8069.342127</td>\n",
       "      <td>40.904972</td>\n",
       "      <td>33.606187</td>\n",
       "      <td>47.104039</td>\n",
       "    </tr>\n",
       "    <tr>\n",
       "      <th>Basic Enclosure + HPWH + High Efficiency HP/Electric Backup</th>\n",
       "      <td>88</td>\n",
       "      <td>8069.342127</td>\n",
       "      <td>40.083389</td>\n",
       "      <td>33.606187</td>\n",
       "      <td>45.899405</td>\n",
       "    </tr>\n",
       "    <tr>\n",
       "      <th>High Efficiency Whole Home Electrification</th>\n",
       "      <td>88</td>\n",
       "      <td>8069.342127</td>\n",
       "      <td>39.904118</td>\n",
       "      <td>34.601418</td>\n",
       "      <td>44.979946</td>\n",
       "    </tr>\n",
       "    <tr>\n",
       "      <th>High Efficiency Heat Pump with Electric Heat Backup</th>\n",
       "      <td>88</td>\n",
       "      <td>8069.342127</td>\n",
       "      <td>25.826280</td>\n",
       "      <td>18.204995</td>\n",
       "      <td>34.278741</td>\n",
       "    </tr>\n",
       "    <tr>\n",
       "      <th>Enhanced Enclosure</th>\n",
       "      <td>88</td>\n",
       "      <td>8069.342127</td>\n",
       "      <td>10.684951</td>\n",
       "      <td>4.328627</td>\n",
       "      <td>15.905353</td>\n",
       "    </tr>\n",
       "    <tr>\n",
       "      <th>Mininum Efficiency Heat Pump with Electric Heat Backup</th>\n",
       "      <td>88</td>\n",
       "      <td>8069.342127</td>\n",
       "      <td>10.402477</td>\n",
       "      <td>5.876623</td>\n",
       "      <td>16.315672</td>\n",
       "    </tr>\n",
       "    <tr>\n",
       "      <th>Mininum Efficiency Heat Pump with Existing Heat Backup</th>\n",
       "      <td>85</td>\n",
       "      <td>7709.536801</td>\n",
       "      <td>9.590166</td>\n",
       "      <td>5.275169</td>\n",
       "      <td>13.943813</td>\n",
       "    </tr>\n",
       "    <tr>\n",
       "      <th>Mininum Efficiency Whole Home Electrification</th>\n",
       "      <td>17</td>\n",
       "      <td>2270.032660</td>\n",
       "      <td>9.199015</td>\n",
       "      <td>3.659896</td>\n",
       "      <td>7.859148</td>\n",
       "    </tr>\n",
       "    <tr>\n",
       "      <th>Heat Pump Water Heater</th>\n",
       "      <td>86</td>\n",
       "      <td>7967.658013</td>\n",
       "      <td>8.852146</td>\n",
       "      <td>5.632367</td>\n",
       "      <td>10.929635</td>\n",
       "    </tr>\n",
       "    <tr>\n",
       "      <th>Basic Enclosure</th>\n",
       "      <td>87</td>\n",
       "      <td>7940.281521</td>\n",
       "      <td>8.525833</td>\n",
       "      <td>3.703912</td>\n",
       "      <td>13.311293</td>\n",
       "    </tr>\n",
       "    <tr>\n",
       "      <th>Electric Cooking</th>\n",
       "      <td>14</td>\n",
       "      <td>1624.729630</td>\n",
       "      <td>4.508773</td>\n",
       "      <td>3.650521</td>\n",
       "      <td>5.449213</td>\n",
       "    </tr>\n",
       "    <tr>\n",
       "      <th>Heat Pump Clothes Dryer</th>\n",
       "      <td>59</td>\n",
       "      <td>6057.169951</td>\n",
       "      <td>2.228666</td>\n",
       "      <td>1.300000</td>\n",
       "      <td>2.911371</td>\n",
       "    </tr>\n",
       "    <tr>\n",
       "      <th>Induction Cooking</th>\n",
       "      <td>86</td>\n",
       "      <td>7959.053973</td>\n",
       "      <td>1.146899</td>\n",
       "      <td>0.309096</td>\n",
       "      <td>0.510000</td>\n",
       "    </tr>\n",
       "    <tr>\n",
       "      <th>Electric Clothes Dryer</th>\n",
       "      <td>1</td>\n",
       "      <td>129.060606</td>\n",
       "      <td>1.060000</td>\n",
       "      <td>1.060000</td>\n",
       "      <td>1.060000</td>\n",
       "    </tr>\n",
       "    <tr>\n",
       "      <th>baseline</th>\n",
       "      <td>88</td>\n",
       "      <td>8069.342127</td>\n",
       "      <td>0.000000</td>\n",
       "      <td>NaN</td>\n",
       "      <td>NaN</td>\n",
       "    </tr>\n",
       "  </tbody>\n",
       "</table>\n",
       "</div>"
      ],
      "text/plain": [
       "                                                    n_samples  n_represented  \\\n",
       "upgrade_name                                                                   \n",
       "Enhanced Enclosure + High Efficiency Whole Home...         88    8069.342127   \n",
       "Basic Enclosure + High Efficiency Whole Home El...         88    8069.342127   \n",
       "Enhanced Enclosure + HPWH + High Efficiency HP/...         88    8069.342127   \n",
       "Basic Enclosure + HPWH + High Efficiency HP/Ele...         88    8069.342127   \n",
       "High Efficiency Whole Home Electrification                 88    8069.342127   \n",
       "High Efficiency Heat Pump with Electric Heat Ba...         88    8069.342127   \n",
       "Enhanced Enclosure                                         88    8069.342127   \n",
       "Mininum Efficiency Heat Pump with Electric Heat...         88    8069.342127   \n",
       "Mininum Efficiency Heat Pump with Existing Heat...         85    7709.536801   \n",
       "Mininum Efficiency Whole Home Electrification              17    2270.032660   \n",
       "Heat Pump Water Heater                                     86    7967.658013   \n",
       "Basic Enclosure                                            87    7940.281521   \n",
       "Electric Cooking                                           14    1624.729630   \n",
       "Heat Pump Clothes Dryer                                    59    6057.169951   \n",
       "Induction Cooking                                          86    7959.053973   \n",
       "Electric Clothes Dryer                                      1     129.060606   \n",
       "baseline                                                   88    8069.342127   \n",
       "\n",
       "                                                    pct_saving_energy.total_% wt_mean  \\\n",
       "upgrade_name                                                                            \n",
       "Enhanced Enclosure + High Efficiency Whole Home...                          43.708095   \n",
       "Basic Enclosure + High Efficiency Whole Home El...                          42.886457   \n",
       "Enhanced Enclosure + HPWH + High Efficiency HP/...                          40.904972   \n",
       "Basic Enclosure + HPWH + High Efficiency HP/Ele...                          40.083389   \n",
       "High Efficiency Whole Home Electrification                                  39.904118   \n",
       "High Efficiency Heat Pump with Electric Heat Ba...                          25.826280   \n",
       "Enhanced Enclosure                                                          10.684951   \n",
       "Mininum Efficiency Heat Pump with Electric Heat...                          10.402477   \n",
       "Mininum Efficiency Heat Pump with Existing Heat...                           9.590166   \n",
       "Mininum Efficiency Whole Home Electrification                                9.199015   \n",
       "Heat Pump Water Heater                                                       8.852146   \n",
       "Basic Enclosure                                                              8.525833   \n",
       "Electric Cooking                                                             4.508773   \n",
       "Heat Pump Clothes Dryer                                                      2.228666   \n",
       "Induction Cooking                                                            1.146899   \n",
       "Electric Clothes Dryer                                                       1.060000   \n",
       "baseline                                                                     0.000000   \n",
       "\n",
       "                                                    pct_saving_energy.total_% wt_p0.25  \\\n",
       "upgrade_name                                                                             \n",
       "Enhanced Enclosure + High Efficiency Whole Home...                           36.178942   \n",
       "Basic Enclosure + High Efficiency Whole Home El...                           36.166509   \n",
       "Enhanced Enclosure + HPWH + High Efficiency HP/...                           33.606187   \n",
       "Basic Enclosure + HPWH + High Efficiency HP/Ele...                           33.606187   \n",
       "High Efficiency Whole Home Electrification                                   34.601418   \n",
       "High Efficiency Heat Pump with Electric Heat Ba...                           18.204995   \n",
       "Enhanced Enclosure                                                            4.328627   \n",
       "Mininum Efficiency Heat Pump with Electric Heat...                            5.876623   \n",
       "Mininum Efficiency Heat Pump with Existing Heat...                            5.275169   \n",
       "Mininum Efficiency Whole Home Electrification                                 3.659896   \n",
       "Heat Pump Water Heater                                                        5.632367   \n",
       "Basic Enclosure                                                               3.703912   \n",
       "Electric Cooking                                                              3.650521   \n",
       "Heat Pump Clothes Dryer                                                       1.300000   \n",
       "Induction Cooking                                                             0.309096   \n",
       "Electric Clothes Dryer                                                        1.060000   \n",
       "baseline                                                                           NaN   \n",
       "\n",
       "                                                    pct_saving_energy.total_% wt_p0.75  \n",
       "upgrade_name                                                                            \n",
       "Enhanced Enclosure + High Efficiency Whole Home...                           50.462762  \n",
       "Basic Enclosure + High Efficiency Whole Home El...                           49.877057  \n",
       "Enhanced Enclosure + HPWH + High Efficiency HP/...                           47.104039  \n",
       "Basic Enclosure + HPWH + High Efficiency HP/Ele...                           45.899405  \n",
       "High Efficiency Whole Home Electrification                                   44.979946  \n",
       "High Efficiency Heat Pump with Electric Heat Ba...                           34.278741  \n",
       "Enhanced Enclosure                                                           15.905353  \n",
       "Mininum Efficiency Heat Pump with Electric Heat...                           16.315672  \n",
       "Mininum Efficiency Heat Pump with Existing Heat...                           13.943813  \n",
       "Mininum Efficiency Whole Home Electrification                                 7.859148  \n",
       "Heat Pump Water Heater                                                       10.929635  \n",
       "Basic Enclosure                                                              13.311293  \n",
       "Electric Cooking                                                              5.449213  \n",
       "Heat Pump Clothes Dryer                                                       2.911371  \n",
       "Induction Cooking                                                             0.510000  \n",
       "Electric Clothes Dryer                                                        1.060000  \n",
       "baseline                                                                           NaN  "
      ]
     },
     "metadata": {},
     "output_type": "display_data"
    },
    {
     "name": "stdout",
     "output_type": "stream",
     "text": [
      "Summary for segment: segment3: \n"
     ]
    },
    {
     "data": {
      "text/html": [
       "<div>\n",
       "<style scoped>\n",
       "    .dataframe tbody tr th:only-of-type {\n",
       "        vertical-align: middle;\n",
       "    }\n",
       "\n",
       "    .dataframe tbody tr th {\n",
       "        vertical-align: top;\n",
       "    }\n",
       "\n",
       "    .dataframe thead th {\n",
       "        text-align: right;\n",
       "    }\n",
       "</style>\n",
       "<table border=\"1\" class=\"dataframe\">\n",
       "  <thead>\n",
       "    <tr style=\"text-align: right;\">\n",
       "      <th></th>\n",
       "      <th>n_samples</th>\n",
       "      <th>n_represented</th>\n",
       "      <th>pct_saving_energy.total_% wt_mean</th>\n",
       "      <th>pct_saving_energy.total_% wt_p0.25</th>\n",
       "      <th>pct_saving_energy.total_% wt_p0.75</th>\n",
       "    </tr>\n",
       "    <tr>\n",
       "      <th>upgrade_name</th>\n",
       "      <th></th>\n",
       "      <th></th>\n",
       "      <th></th>\n",
       "      <th></th>\n",
       "      <th></th>\n",
       "    </tr>\n",
       "  </thead>\n",
       "  <tbody>\n",
       "    <tr>\n",
       "      <th>Enhanced Enclosure + High Efficiency Whole Home Electrification</th>\n",
       "      <td>129</td>\n",
       "      <td>9887.441333</td>\n",
       "      <td>47.040361</td>\n",
       "      <td>40.718285</td>\n",
       "      <td>53.323627</td>\n",
       "    </tr>\n",
       "    <tr>\n",
       "      <th>Basic Enclosure + High Efficiency Whole Home Electrification</th>\n",
       "      <td>129</td>\n",
       "      <td>9887.441333</td>\n",
       "      <td>46.569113</td>\n",
       "      <td>40.698282</td>\n",
       "      <td>53.293237</td>\n",
       "    </tr>\n",
       "    <tr>\n",
       "      <th>Enhanced Enclosure + HPWH + High Efficiency HP/Electric Backup</th>\n",
       "      <td>129</td>\n",
       "      <td>9887.441333</td>\n",
       "      <td>44.870497</td>\n",
       "      <td>38.061937</td>\n",
       "      <td>50.456464</td>\n",
       "    </tr>\n",
       "    <tr>\n",
       "      <th>Basic Enclosure + HPWH + High Efficiency HP/Electric Backup</th>\n",
       "      <td>129</td>\n",
       "      <td>9887.441333</td>\n",
       "      <td>44.399342</td>\n",
       "      <td>37.455371</td>\n",
       "      <td>50.321813</td>\n",
       "    </tr>\n",
       "    <tr>\n",
       "      <th>High Efficiency Whole Home Electrification</th>\n",
       "      <td>129</td>\n",
       "      <td>9887.441333</td>\n",
       "      <td>43.604580</td>\n",
       "      <td>37.451223</td>\n",
       "      <td>49.578475</td>\n",
       "    </tr>\n",
       "    <tr>\n",
       "      <th>High Efficiency Heat Pump with Electric Heat Backup</th>\n",
       "      <td>129</td>\n",
       "      <td>9887.441333</td>\n",
       "      <td>30.509530</td>\n",
       "      <td>24.564803</td>\n",
       "      <td>37.170468</td>\n",
       "    </tr>\n",
       "    <tr>\n",
       "      <th>Mininum Efficiency Whole Home Electrification</th>\n",
       "      <td>34</td>\n",
       "      <td>3811.940163</td>\n",
       "      <td>20.489908</td>\n",
       "      <td>3.370437</td>\n",
       "      <td>29.565950</td>\n",
       "    </tr>\n",
       "    <tr>\n",
       "      <th>Mininum Efficiency Heat Pump with Electric Heat Backup</th>\n",
       "      <td>129</td>\n",
       "      <td>9887.441333</td>\n",
       "      <td>15.253867</td>\n",
       "      <td>7.068537</td>\n",
       "      <td>21.529288</td>\n",
       "    </tr>\n",
       "    <tr>\n",
       "      <th>Mininum Efficiency Heat Pump with Existing Heat Backup</th>\n",
       "      <td>129</td>\n",
       "      <td>9887.441333</td>\n",
       "      <td>13.405815</td>\n",
       "      <td>4.667903</td>\n",
       "      <td>20.743190</td>\n",
       "    </tr>\n",
       "    <tr>\n",
       "      <th>Enhanced Enclosure</th>\n",
       "      <td>128</td>\n",
       "      <td>9844.421131</td>\n",
       "      <td>11.640403</td>\n",
       "      <td>7.625644</td>\n",
       "      <td>15.820341</td>\n",
       "    </tr>\n",
       "    <tr>\n",
       "      <th>Basic Enclosure</th>\n",
       "      <td>128</td>\n",
       "      <td>9844.421131</td>\n",
       "      <td>9.629354</td>\n",
       "      <td>5.859512</td>\n",
       "      <td>12.164872</td>\n",
       "    </tr>\n",
       "    <tr>\n",
       "      <th>Heat Pump Water Heater</th>\n",
       "      <td>127</td>\n",
       "      <td>9822.911030</td>\n",
       "      <td>8.772366</td>\n",
       "      <td>4.388060</td>\n",
       "      <td>11.118791</td>\n",
       "    </tr>\n",
       "    <tr>\n",
       "      <th>Electric Cooking</th>\n",
       "      <td>20</td>\n",
       "      <td>1736.215416</td>\n",
       "      <td>2.564542</td>\n",
       "      <td>2.072841</td>\n",
       "      <td>3.253883</td>\n",
       "    </tr>\n",
       "    <tr>\n",
       "      <th>Heat Pump Clothes Dryer</th>\n",
       "      <td>124</td>\n",
       "      <td>9311.632475</td>\n",
       "      <td>1.628163</td>\n",
       "      <td>1.180957</td>\n",
       "      <td>1.941968</td>\n",
       "    </tr>\n",
       "    <tr>\n",
       "      <th>Induction Cooking</th>\n",
       "      <td>128</td>\n",
       "      <td>9844.421131</td>\n",
       "      <td>0.639105</td>\n",
       "      <td>0.170000</td>\n",
       "      <td>0.285587</td>\n",
       "    </tr>\n",
       "    <tr>\n",
       "      <th>Electric Clothes Dryer</th>\n",
       "      <td>4</td>\n",
       "      <td>559.262626</td>\n",
       "      <td>0.506538</td>\n",
       "      <td>0.436923</td>\n",
       "      <td>0.576154</td>\n",
       "    </tr>\n",
       "    <tr>\n",
       "      <th>baseline</th>\n",
       "      <td>129</td>\n",
       "      <td>9887.441333</td>\n",
       "      <td>0.000000</td>\n",
       "      <td>NaN</td>\n",
       "      <td>NaN</td>\n",
       "    </tr>\n",
       "  </tbody>\n",
       "</table>\n",
       "</div>"
      ],
      "text/plain": [
       "                                                    n_samples  n_represented  \\\n",
       "upgrade_name                                                                   \n",
       "Enhanced Enclosure + High Efficiency Whole Home...        129    9887.441333   \n",
       "Basic Enclosure + High Efficiency Whole Home El...        129    9887.441333   \n",
       "Enhanced Enclosure + HPWH + High Efficiency HP/...        129    9887.441333   \n",
       "Basic Enclosure + HPWH + High Efficiency HP/Ele...        129    9887.441333   \n",
       "High Efficiency Whole Home Electrification                129    9887.441333   \n",
       "High Efficiency Heat Pump with Electric Heat Ba...        129    9887.441333   \n",
       "Mininum Efficiency Whole Home Electrification              34    3811.940163   \n",
       "Mininum Efficiency Heat Pump with Electric Heat...        129    9887.441333   \n",
       "Mininum Efficiency Heat Pump with Existing Heat...        129    9887.441333   \n",
       "Enhanced Enclosure                                        128    9844.421131   \n",
       "Basic Enclosure                                           128    9844.421131   \n",
       "Heat Pump Water Heater                                    127    9822.911030   \n",
       "Electric Cooking                                           20    1736.215416   \n",
       "Heat Pump Clothes Dryer                                   124    9311.632475   \n",
       "Induction Cooking                                         128    9844.421131   \n",
       "Electric Clothes Dryer                                      4     559.262626   \n",
       "baseline                                                  129    9887.441333   \n",
       "\n",
       "                                                    pct_saving_energy.total_% wt_mean  \\\n",
       "upgrade_name                                                                            \n",
       "Enhanced Enclosure + High Efficiency Whole Home...                          47.040361   \n",
       "Basic Enclosure + High Efficiency Whole Home El...                          46.569113   \n",
       "Enhanced Enclosure + HPWH + High Efficiency HP/...                          44.870497   \n",
       "Basic Enclosure + HPWH + High Efficiency HP/Ele...                          44.399342   \n",
       "High Efficiency Whole Home Electrification                                  43.604580   \n",
       "High Efficiency Heat Pump with Electric Heat Ba...                          30.509530   \n",
       "Mininum Efficiency Whole Home Electrification                               20.489908   \n",
       "Mininum Efficiency Heat Pump with Electric Heat...                          15.253867   \n",
       "Mininum Efficiency Heat Pump with Existing Heat...                          13.405815   \n",
       "Enhanced Enclosure                                                          11.640403   \n",
       "Basic Enclosure                                                              9.629354   \n",
       "Heat Pump Water Heater                                                       8.772366   \n",
       "Electric Cooking                                                             2.564542   \n",
       "Heat Pump Clothes Dryer                                                      1.628163   \n",
       "Induction Cooking                                                            0.639105   \n",
       "Electric Clothes Dryer                                                       0.506538   \n",
       "baseline                                                                     0.000000   \n",
       "\n",
       "                                                    pct_saving_energy.total_% wt_p0.25  \\\n",
       "upgrade_name                                                                             \n",
       "Enhanced Enclosure + High Efficiency Whole Home...                           40.718285   \n",
       "Basic Enclosure + High Efficiency Whole Home El...                           40.698282   \n",
       "Enhanced Enclosure + HPWH + High Efficiency HP/...                           38.061937   \n",
       "Basic Enclosure + HPWH + High Efficiency HP/Ele...                           37.455371   \n",
       "High Efficiency Whole Home Electrification                                   37.451223   \n",
       "High Efficiency Heat Pump with Electric Heat Ba...                           24.564803   \n",
       "Mininum Efficiency Whole Home Electrification                                 3.370437   \n",
       "Mininum Efficiency Heat Pump with Electric Heat...                            7.068537   \n",
       "Mininum Efficiency Heat Pump with Existing Heat...                            4.667903   \n",
       "Enhanced Enclosure                                                            7.625644   \n",
       "Basic Enclosure                                                               5.859512   \n",
       "Heat Pump Water Heater                                                        4.388060   \n",
       "Electric Cooking                                                              2.072841   \n",
       "Heat Pump Clothes Dryer                                                       1.180957   \n",
       "Induction Cooking                                                             0.170000   \n",
       "Electric Clothes Dryer                                                        0.436923   \n",
       "baseline                                                                           NaN   \n",
       "\n",
       "                                                    pct_saving_energy.total_% wt_p0.75  \n",
       "upgrade_name                                                                            \n",
       "Enhanced Enclosure + High Efficiency Whole Home...                           53.323627  \n",
       "Basic Enclosure + High Efficiency Whole Home El...                           53.293237  \n",
       "Enhanced Enclosure + HPWH + High Efficiency HP/...                           50.456464  \n",
       "Basic Enclosure + HPWH + High Efficiency HP/Ele...                           50.321813  \n",
       "High Efficiency Whole Home Electrification                                   49.578475  \n",
       "High Efficiency Heat Pump with Electric Heat Ba...                           37.170468  \n",
       "Mininum Efficiency Whole Home Electrification                                29.565950  \n",
       "Mininum Efficiency Heat Pump with Electric Heat...                           21.529288  \n",
       "Mininum Efficiency Heat Pump with Existing Heat...                           20.743190  \n",
       "Enhanced Enclosure                                                           15.820341  \n",
       "Basic Enclosure                                                              12.164872  \n",
       "Heat Pump Water Heater                                                       11.118791  \n",
       "Electric Cooking                                                              3.253883  \n",
       "Heat Pump Clothes Dryer                                                       1.941968  \n",
       "Induction Cooking                                                             0.285587  \n",
       "Electric Clothes Dryer                                                        0.576154  \n",
       "baseline                                                                           NaN  "
      ]
     },
     "metadata": {},
     "output_type": "display_data"
    },
    {
     "name": "stdout",
     "output_type": "stream",
     "text": [
      "Summary for segment: segment4: \n"
     ]
    },
    {
     "data": {
      "text/html": [
       "<div>\n",
       "<style scoped>\n",
       "    .dataframe tbody tr th:only-of-type {\n",
       "        vertical-align: middle;\n",
       "    }\n",
       "\n",
       "    .dataframe tbody tr th {\n",
       "        vertical-align: top;\n",
       "    }\n",
       "\n",
       "    .dataframe thead th {\n",
       "        text-align: right;\n",
       "    }\n",
       "</style>\n",
       "<table border=\"1\" class=\"dataframe\">\n",
       "  <thead>\n",
       "    <tr style=\"text-align: right;\">\n",
       "      <th></th>\n",
       "      <th>n_samples</th>\n",
       "      <th>n_represented</th>\n",
       "      <th>pct_saving_energy.total_% wt_mean</th>\n",
       "      <th>pct_saving_energy.total_% wt_p0.25</th>\n",
       "      <th>pct_saving_energy.total_% wt_p0.75</th>\n",
       "    </tr>\n",
       "    <tr>\n",
       "      <th>upgrade_name</th>\n",
       "      <th></th>\n",
       "      <th></th>\n",
       "      <th></th>\n",
       "      <th></th>\n",
       "      <th></th>\n",
       "    </tr>\n",
       "  </thead>\n",
       "  <tbody>\n",
       "    <tr>\n",
       "      <th>Enhanced Enclosure + High Efficiency Whole Home Electrification</th>\n",
       "      <td>185</td>\n",
       "      <td>11993.040624</td>\n",
       "      <td>39.181283</td>\n",
       "      <td>34.611972</td>\n",
       "      <td>44.403706</td>\n",
       "    </tr>\n",
       "    <tr>\n",
       "      <th>Basic Enclosure + High Efficiency Whole Home Electrification</th>\n",
       "      <td>185</td>\n",
       "      <td>11993.040624</td>\n",
       "      <td>38.096843</td>\n",
       "      <td>34.025236</td>\n",
       "      <td>43.695263</td>\n",
       "    </tr>\n",
       "    <tr>\n",
       "      <th>High Efficiency Whole Home Electrification</th>\n",
       "      <td>185</td>\n",
       "      <td>11993.040624</td>\n",
       "      <td>36.446545</td>\n",
       "      <td>32.919780</td>\n",
       "      <td>41.250000</td>\n",
       "    </tr>\n",
       "    <tr>\n",
       "      <th>Enhanced Enclosure + HPWH + High Efficiency HP/Electric Backup</th>\n",
       "      <td>185</td>\n",
       "      <td>11993.040624</td>\n",
       "      <td>36.306312</td>\n",
       "      <td>30.881179</td>\n",
       "      <td>41.963407</td>\n",
       "    </tr>\n",
       "    <tr>\n",
       "      <th>Basic Enclosure + HPWH + High Efficiency HP/Electric Backup</th>\n",
       "      <td>185</td>\n",
       "      <td>11993.040624</td>\n",
       "      <td>35.222307</td>\n",
       "      <td>30.750000</td>\n",
       "      <td>40.887015</td>\n",
       "    </tr>\n",
       "    <tr>\n",
       "      <th>High Efficiency Heat Pump with Electric Heat Backup</th>\n",
       "      <td>183</td>\n",
       "      <td>11960.775472</td>\n",
       "      <td>19.275672</td>\n",
       "      <td>13.472423</td>\n",
       "      <td>25.749929</td>\n",
       "    </tr>\n",
       "    <tr>\n",
       "      <th>Mininum Efficiency Whole Home Electrification</th>\n",
       "      <td>33</td>\n",
       "      <td>2838.276452</td>\n",
       "      <td>12.899465</td>\n",
       "      <td>4.285723</td>\n",
       "      <td>21.672688</td>\n",
       "    </tr>\n",
       "    <tr>\n",
       "      <th>Heat Pump Water Heater</th>\n",
       "      <td>182</td>\n",
       "      <td>11852.917680</td>\n",
       "      <td>12.212144</td>\n",
       "      <td>7.642060</td>\n",
       "      <td>16.985154</td>\n",
       "    </tr>\n",
       "    <tr>\n",
       "      <th>Enhanced Enclosure</th>\n",
       "      <td>177</td>\n",
       "      <td>11267.535645</td>\n",
       "      <td>6.900381</td>\n",
       "      <td>2.368173</td>\n",
       "      <td>8.856349</td>\n",
       "    </tr>\n",
       "    <tr>\n",
       "      <th>Mininum Efficiency Heat Pump with Electric Heat Backup</th>\n",
       "      <td>183</td>\n",
       "      <td>11960.775472</td>\n",
       "      <td>6.275099</td>\n",
       "      <td>3.199553</td>\n",
       "      <td>11.116927</td>\n",
       "    </tr>\n",
       "    <tr>\n",
       "      <th>Mininum Efficiency Heat Pump with Existing Heat Backup</th>\n",
       "      <td>184</td>\n",
       "      <td>11734.919412</td>\n",
       "      <td>6.130698</td>\n",
       "      <td>3.343765</td>\n",
       "      <td>11.283553</td>\n",
       "    </tr>\n",
       "    <tr>\n",
       "      <th>Basic Enclosure</th>\n",
       "      <td>172</td>\n",
       "      <td>10631.451230</td>\n",
       "      <td>5.026131</td>\n",
       "      <td>1.955190</td>\n",
       "      <td>7.499113</td>\n",
       "    </tr>\n",
       "    <tr>\n",
       "      <th>Electric Cooking</th>\n",
       "      <td>25</td>\n",
       "      <td>1922.141695</td>\n",
       "      <td>4.724825</td>\n",
       "      <td>4.043375</td>\n",
       "      <td>5.327260</td>\n",
       "    </tr>\n",
       "    <tr>\n",
       "      <th>Heat Pump Clothes Dryer</th>\n",
       "      <td>138</td>\n",
       "      <td>9013.207222</td>\n",
       "      <td>2.423285</td>\n",
       "      <td>1.662303</td>\n",
       "      <td>3.130738</td>\n",
       "    </tr>\n",
       "    <tr>\n",
       "      <th>Electric Clothes Dryer</th>\n",
       "      <td>4</td>\n",
       "      <td>174.036272</td>\n",
       "      <td>1.679101</td>\n",
       "      <td>1.488485</td>\n",
       "      <td>1.939174</td>\n",
       "    </tr>\n",
       "    <tr>\n",
       "      <th>Induction Cooking</th>\n",
       "      <td>184</td>\n",
       "      <td>11941.416381</td>\n",
       "      <td>1.058484</td>\n",
       "      <td>0.330000</td>\n",
       "      <td>0.477681</td>\n",
       "    </tr>\n",
       "    <tr>\n",
       "      <th>baseline</th>\n",
       "      <td>185</td>\n",
       "      <td>11993.040624</td>\n",
       "      <td>0.000000</td>\n",
       "      <td>NaN</td>\n",
       "      <td>NaN</td>\n",
       "    </tr>\n",
       "  </tbody>\n",
       "</table>\n",
       "</div>"
      ],
      "text/plain": [
       "                                                    n_samples  n_represented  \\\n",
       "upgrade_name                                                                   \n",
       "Enhanced Enclosure + High Efficiency Whole Home...        185   11993.040624   \n",
       "Basic Enclosure + High Efficiency Whole Home El...        185   11993.040624   \n",
       "High Efficiency Whole Home Electrification                185   11993.040624   \n",
       "Enhanced Enclosure + HPWH + High Efficiency HP/...        185   11993.040624   \n",
       "Basic Enclosure + HPWH + High Efficiency HP/Ele...        185   11993.040624   \n",
       "High Efficiency Heat Pump with Electric Heat Ba...        183   11960.775472   \n",
       "Mininum Efficiency Whole Home Electrification              33    2838.276452   \n",
       "Heat Pump Water Heater                                    182   11852.917680   \n",
       "Enhanced Enclosure                                        177   11267.535645   \n",
       "Mininum Efficiency Heat Pump with Electric Heat...        183   11960.775472   \n",
       "Mininum Efficiency Heat Pump with Existing Heat...        184   11734.919412   \n",
       "Basic Enclosure                                           172   10631.451230   \n",
       "Electric Cooking                                           25    1922.141695   \n",
       "Heat Pump Clothes Dryer                                   138    9013.207222   \n",
       "Electric Clothes Dryer                                      4     174.036272   \n",
       "Induction Cooking                                         184   11941.416381   \n",
       "baseline                                                  185   11993.040624   \n",
       "\n",
       "                                                    pct_saving_energy.total_% wt_mean  \\\n",
       "upgrade_name                                                                            \n",
       "Enhanced Enclosure + High Efficiency Whole Home...                          39.181283   \n",
       "Basic Enclosure + High Efficiency Whole Home El...                          38.096843   \n",
       "High Efficiency Whole Home Electrification                                  36.446545   \n",
       "Enhanced Enclosure + HPWH + High Efficiency HP/...                          36.306312   \n",
       "Basic Enclosure + HPWH + High Efficiency HP/Ele...                          35.222307   \n",
       "High Efficiency Heat Pump with Electric Heat Ba...                          19.275672   \n",
       "Mininum Efficiency Whole Home Electrification                               12.899465   \n",
       "Heat Pump Water Heater                                                      12.212144   \n",
       "Enhanced Enclosure                                                           6.900381   \n",
       "Mininum Efficiency Heat Pump with Electric Heat...                           6.275099   \n",
       "Mininum Efficiency Heat Pump with Existing Heat...                           6.130698   \n",
       "Basic Enclosure                                                              5.026131   \n",
       "Electric Cooking                                                             4.724825   \n",
       "Heat Pump Clothes Dryer                                                      2.423285   \n",
       "Electric Clothes Dryer                                                       1.679101   \n",
       "Induction Cooking                                                            1.058484   \n",
       "baseline                                                                     0.000000   \n",
       "\n",
       "                                                    pct_saving_energy.total_% wt_p0.25  \\\n",
       "upgrade_name                                                                             \n",
       "Enhanced Enclosure + High Efficiency Whole Home...                           34.611972   \n",
       "Basic Enclosure + High Efficiency Whole Home El...                           34.025236   \n",
       "High Efficiency Whole Home Electrification                                   32.919780   \n",
       "Enhanced Enclosure + HPWH + High Efficiency HP/...                           30.881179   \n",
       "Basic Enclosure + HPWH + High Efficiency HP/Ele...                           30.750000   \n",
       "High Efficiency Heat Pump with Electric Heat Ba...                           13.472423   \n",
       "Mininum Efficiency Whole Home Electrification                                 4.285723   \n",
       "Heat Pump Water Heater                                                        7.642060   \n",
       "Enhanced Enclosure                                                            2.368173   \n",
       "Mininum Efficiency Heat Pump with Electric Heat...                            3.199553   \n",
       "Mininum Efficiency Heat Pump with Existing Heat...                            3.343765   \n",
       "Basic Enclosure                                                               1.955190   \n",
       "Electric Cooking                                                              4.043375   \n",
       "Heat Pump Clothes Dryer                                                       1.662303   \n",
       "Electric Clothes Dryer                                                        1.488485   \n",
       "Induction Cooking                                                             0.330000   \n",
       "baseline                                                                           NaN   \n",
       "\n",
       "                                                    pct_saving_energy.total_% wt_p0.75  \n",
       "upgrade_name                                                                            \n",
       "Enhanced Enclosure + High Efficiency Whole Home...                           44.403706  \n",
       "Basic Enclosure + High Efficiency Whole Home El...                           43.695263  \n",
       "High Efficiency Whole Home Electrification                                   41.250000  \n",
       "Enhanced Enclosure + HPWH + High Efficiency HP/...                           41.963407  \n",
       "Basic Enclosure + HPWH + High Efficiency HP/Ele...                           40.887015  \n",
       "High Efficiency Heat Pump with Electric Heat Ba...                           25.749929  \n",
       "Mininum Efficiency Whole Home Electrification                                21.672688  \n",
       "Heat Pump Water Heater                                                       16.985154  \n",
       "Enhanced Enclosure                                                            8.856349  \n",
       "Mininum Efficiency Heat Pump with Electric Heat...                           11.116927  \n",
       "Mininum Efficiency Heat Pump with Existing Heat...                           11.283553  \n",
       "Basic Enclosure                                                               7.499113  \n",
       "Electric Cooking                                                              5.327260  \n",
       "Heat Pump Clothes Dryer                                                       3.130738  \n",
       "Electric Clothes Dryer                                                        1.939174  \n",
       "Induction Cooking                                                             0.477681  \n",
       "baseline                                                                           NaN  "
      ]
     },
     "metadata": {},
     "output_type": "display_data"
    }
   ],
   "source": [
    "metric = 'pct_saving_energy.total_%'  # TODO 'pct_saving_cbill.total_%' #'pct_saving_energy.total_%' #'saving_energy.total_mmbtu' #'saving_cbill.total_usd'\n",
    "\n",
    "for segment in sorted(community_results[\"segment\"].dropna().unique()):\n",
    "    print(f\"Summary for segment: {segment}: \")\n",
    "    df_seg = community_results.loc[community_results[\"segment\"]==segment]\n",
    "    display(get_summary(df_seg, metric, lower_percentile=0.25, upper_percentile=0.75))"
   ]
  },
  {
   "cell_type": "markdown",
   "id": "13fe6b47",
   "metadata": {},
   "source": [
    "## 2.1 Upgrade Cost Per Dwelling Unit "
   ]
  },
  {
   "cell_type": "code",
   "execution_count": 21,
   "id": "585a1a25",
   "metadata": {},
   "outputs": [
    {
     "name": "stdout",
     "output_type": "stream",
     "text": [
      "segment1: upgrade cost (usd) per dwelling unit\n"
     ]
    },
    {
     "data": {
      "text/plain": [
       "upgrade_name\n",
       "Electric Cooking                                                    1115.8\n",
       "Electric Clothes Dryer                                              1253.0\n",
       "Induction Cooking                                                   1918.7\n",
       "Heat Pump Clothes Dryer                                             2521.5\n",
       "Heat Pump Water Heater                                              3133.1\n",
       "Basic Enclosure                                                     7174.8\n",
       "Enhanced Enclosure                                                  9912.8\n",
       "Mininum Efficiency Whole Home Electrification                      16209.2\n",
       "Mininum Efficiency Heat Pump with Existing Heat Backup             17741.1\n",
       "Mininum Efficiency Heat Pump with Electric Heat Backup             17961.2\n",
       "High Efficiency Heat Pump with Electric Heat Backup                29715.5\n",
       "Basic Enclosure + HPWH + High Efficiency HP/Electric Backup        35012.4\n",
       "Enhanced Enclosure + HPWH + High Efficiency HP/Electric Backup     36845.2\n",
       "High Efficiency Whole Home Electrification                         37198.5\n",
       "Basic Enclosure + High Efficiency Whole Home Electrification       39371.5\n",
       "Enhanced Enclosure + High Efficiency Whole Home Electrification    41204.3\n",
       "Name: upgrade_cost_usd, dtype: float64"
      ]
     },
     "metadata": {},
     "output_type": "display_data"
    },
    {
     "name": "stdout",
     "output_type": "stream",
     "text": [
      "segment2: upgrade cost (usd) per dwelling unit\n"
     ]
    },
    {
     "data": {
      "text/plain": [
       "upgrade_name\n",
       "Electric Cooking                                                    1115.8\n",
       "Electric Clothes Dryer                                              1253.0\n",
       "Basic Enclosure                                                     1445.7\n",
       "Induction Cooking                                                   1918.7\n",
       "Enhanced Enclosure                                                  2342.7\n",
       "Heat Pump Clothes Dryer                                             2521.5\n",
       "Mininum Efficiency Whole Home Electrification                       2840.1\n",
       "Heat Pump Water Heater                                              2882.5\n",
       "Mininum Efficiency Heat Pump with Electric Heat Backup              9058.7\n",
       "Mininum Efficiency Heat Pump with Existing Heat Backup              9068.3\n",
       "High Efficiency Heat Pump with Electric Heat Backup                21567.1\n",
       "Basic Enclosure + HPWH + High Efficiency HP/Electric Backup        24894.0\n",
       "Enhanced Enclosure + HPWH + High Efficiency HP/Electric Backup     25544.0\n",
       "High Efficiency Whole Home Electrification                         28198.4\n",
       "Basic Enclosure + High Efficiency Whole Home Electrification       28679.1\n",
       "Enhanced Enclosure + High Efficiency Whole Home Electrification    29329.1\n",
       "Name: upgrade_cost_usd, dtype: float64"
      ]
     },
     "metadata": {},
     "output_type": "display_data"
    },
    {
     "name": "stdout",
     "output_type": "stream",
     "text": [
      "segment3: upgrade cost (usd) per dwelling unit\n"
     ]
    },
    {
     "data": {
      "text/plain": [
       "upgrade_name\n",
       "Electric Cooking                                                    1115.8\n",
       "Electric Clothes Dryer                                              1253.0\n",
       "Induction Cooking                                                   1918.7\n",
       "Heat Pump Clothes Dryer                                             2521.5\n",
       "Heat Pump Water Heater                                              3380.9\n",
       "Basic Enclosure                                                     4057.4\n",
       "Enhanced Enclosure                                                  6412.4\n",
       "Mininum Efficiency Whole Home Electrification                       9896.9\n",
       "Mininum Efficiency Heat Pump with Existing Heat Backup             13276.2\n",
       "Mininum Efficiency Heat Pump with Electric Heat Backup             13367.8\n",
       "High Efficiency Heat Pump with Electric Heat Backup                27847.6\n",
       "Basic Enclosure + HPWH + High Efficiency HP/Electric Backup        33409.6\n",
       "Enhanced Enclosure + HPWH + High Efficiency HP/Electric Backup     35144.1\n",
       "High Efficiency Whole Home Electrification                         35491.4\n",
       "Basic Enclosure + High Efficiency Whole Home Electrification       37694.6\n",
       "Enhanced Enclosure + High Efficiency Whole Home Electrification    39429.1\n",
       "Name: upgrade_cost_usd, dtype: float64"
      ]
     },
     "metadata": {},
     "output_type": "display_data"
    },
    {
     "name": "stdout",
     "output_type": "stream",
     "text": [
      "segment4: upgrade cost (usd) per dwelling unit\n"
     ]
    },
    {
     "data": {
      "text/plain": [
       "upgrade_name\n",
       "Electric Cooking                                                    1115.8\n",
       "Basic Enclosure                                                     1206.2\n",
       "Electric Clothes Dryer                                              1253.0\n",
       "Induction Cooking                                                   1918.7\n",
       "Enhanced Enclosure                                                  2387.0\n",
       "Heat Pump Clothes Dryer                                             2521.5\n",
       "Mininum Efficiency Whole Home Electrification                       2567.2\n",
       "Heat Pump Water Heater                                              2890.6\n",
       "Mininum Efficiency Heat Pump with Existing Heat Backup              8187.1\n",
       "Mininum Efficiency Heat Pump with Electric Heat Backup              8202.4\n",
       "High Efficiency Heat Pump with Electric Heat Backup                22067.9\n",
       "Basic Enclosure + HPWH + High Efficiency HP/Electric Backup        25397.7\n",
       "Enhanced Enclosure + HPWH + High Efficiency HP/Electric Backup     26371.4\n",
       "High Efficiency Whole Home Electrification                         28670.8\n",
       "Basic Enclosure + High Efficiency Whole Home Electrification       29203.1\n",
       "Enhanced Enclosure + High Efficiency Whole Home Electrification    30176.8\n",
       "Name: upgrade_cost_usd, dtype: float64"
      ]
     },
     "metadata": {},
     "output_type": "display_data"
    }
   ],
   "source": [
    "results = segment_mean_upgrade_cost(community_results) \n",
    "saving_results[f'segment1_{income}_upgrade_cost_mean_usd'] = results[0]\n",
    "saving_results[f'segment2_{income}_upgrade_cost_mean_usd'] = results[1]\n",
    "saving_results[f'segment3_{income}_upgrade_cost_mean_usd'] = results[2]\n",
    "saving_results[f'segment4_{income}_upgrade_cost_mean_usd'] = results[3]"
   ]
  },
  {
   "cell_type": "markdown",
   "id": "660e0aa3",
   "metadata": {},
   "source": [
    " ## 2.2 Annual Savings Per Dollar Invested"
   ]
  },
  {
   "cell_type": "markdown",
   "id": "9492f6e1",
   "metadata": {},
   "source": [
    " ### Annual Bill Savings Per Dollar Invested"
   ]
  },
  {
   "cell_type": "code",
   "execution_count": 22,
   "id": "6e31ced4",
   "metadata": {},
   "outputs": [
    {
     "name": "stdout",
     "output_type": "stream",
     "text": [
      "segment1\n"
     ]
    },
    {
     "data": {
      "text/plain": [
       "upgrade_name\n",
       "Basic Enclosure                                                    0.08571\n",
       "Enhanced Enclosure                                                 0.07060\n",
       "Basic Enclosure + HPWH + High Efficiency HP/Electric Backup        0.04081\n",
       "Heat Pump Water Heater                                             0.04006\n",
       "Enhanced Enclosure + HPWH + High Efficiency HP/Electric Backup     0.03939\n",
       "Basic Enclosure + High Efficiency Whole Home Electrification       0.03731\n",
       "Enhanced Enclosure + High Efficiency Whole Home Electrification    0.03621\n",
       "High Efficiency Heat Pump with Electric Heat Backup                0.03531\n",
       "High Efficiency Whole Home Electrification                         0.03371\n",
       "Mininum Efficiency Heat Pump with Existing Heat Backup             0.02534\n",
       "Mininum Efficiency Heat Pump with Electric Heat Backup             0.02527\n",
       "Mininum Efficiency Whole Home Electrification                      0.01531\n",
       "Heat Pump Clothes Dryer                                            0.01478\n",
       "Induction Cooking                                                  0.00063\n",
       "Electric Cooking                                                  -0.01329\n",
       "Electric Clothes Dryer                                            -0.01971\n",
       "Name: saving_cbill.total_usd, dtype: float64"
      ]
     },
     "metadata": {},
     "output_type": "display_data"
    },
    {
     "name": "stdout",
     "output_type": "stream",
     "text": [
      "segment2\n"
     ]
    },
    {
     "data": {
      "text/plain": [
       "upgrade_name\n",
       "Basic Enclosure                                                    0.08225\n",
       "Enhanced Enclosure                                                 0.06421\n",
       "Heat Pump Water Heater                                             0.03909\n",
       "Basic Enclosure + HPWH + High Efficiency HP/Electric Backup        0.02204\n",
       "Enhanced Enclosure + HPWH + High Efficiency HP/Electric Backup     0.02195\n",
       "Basic Enclosure + High Efficiency Whole Home Electrification       0.02000\n",
       "Enhanced Enclosure + High Efficiency Whole Home Electrification    0.01997\n",
       "High Efficiency Whole Home Electrification                         0.01880\n",
       "High Efficiency Heat Pump with Electric Heat Backup                0.01675\n",
       "Mininum Efficiency Heat Pump with Electric Heat Backup             0.01603\n",
       "Mininum Efficiency Heat Pump with Existing Heat Backup             0.01539\n",
       "Heat Pump Clothes Dryer                                            0.01183\n",
       "Mininum Efficiency Whole Home Electrification                      0.00907\n",
       "Induction Cooking                                                  0.00129\n",
       "Electric Cooking                                                  -0.00203\n",
       "Electric Clothes Dryer                                            -0.01436\n",
       "Name: saving_cbill.total_usd, dtype: float64"
      ]
     },
     "metadata": {},
     "output_type": "display_data"
    },
    {
     "name": "stdout",
     "output_type": "stream",
     "text": [
      "segment3\n"
     ]
    },
    {
     "data": {
      "text/plain": [
       "upgrade_name\n",
       "Basic Enclosure                                                    0.06037\n",
       "Heat Pump Water Heater                                             0.04952\n",
       "Enhanced Enclosure                                                 0.04795\n",
       "Basic Enclosure + HPWH + High Efficiency HP/Electric Backup        0.03233\n",
       "Enhanced Enclosure + HPWH + High Efficiency HP/Electric Backup     0.03119\n",
       "Basic Enclosure + High Efficiency Whole Home Electrification       0.02980\n",
       "High Efficiency Whole Home Electrification                         0.02936\n",
       "Enhanced Enclosure + High Efficiency Whole Home Electrification    0.02890\n",
       "High Efficiency Heat Pump with Electric Heat Backup                0.02806\n",
       "Mininum Efficiency Heat Pump with Electric Heat Backup             0.02691\n",
       "Mininum Efficiency Heat Pump with Existing Heat Backup             0.02667\n",
       "Heat Pump Clothes Dryer                                            0.01699\n",
       "Mininum Efficiency Whole Home Electrification                      0.01180\n",
       "Induction Cooking                                                  0.00120\n",
       "Electric Cooking                                                  -0.01380\n",
       "Electric Clothes Dryer                                            -0.01967\n",
       "Name: saving_cbill.total_usd, dtype: float64"
      ]
     },
     "metadata": {},
     "output_type": "display_data"
    },
    {
     "name": "stdout",
     "output_type": "stream",
     "text": [
      "segment4\n"
     ]
    },
    {
     "data": {
      "text/plain": [
       "upgrade_name\n",
       "Basic Enclosure                                                    0.05567\n",
       "Heat Pump Water Heater                                             0.05352\n",
       "Enhanced Enclosure                                                 0.04575\n",
       "Enhanced Enclosure + HPWH + High Efficiency HP/Electric Backup     0.01874\n",
       "Basic Enclosure + HPWH + High Efficiency HP/Electric Backup        0.01849\n",
       "Enhanced Enclosure + High Efficiency Whole Home Electrification    0.01726\n",
       "Basic Enclosure + High Efficiency Whole Home Electrification       0.01700\n",
       "Mininum Efficiency Whole Home Electrification                      0.01681\n",
       "High Efficiency Whole Home Electrification                         0.01655\n",
       "Heat Pump Clothes Dryer                                            0.01250\n",
       "High Efficiency Heat Pump with Electric Heat Backup                0.01202\n",
       "Mininum Efficiency Heat Pump with Existing Heat Backup             0.01122\n",
       "Mininum Efficiency Heat Pump with Electric Heat Backup             0.01102\n",
       "Induction Cooking                                                  0.00150\n",
       "Electric Cooking                                                  -0.00479\n",
       "Electric Clothes Dryer                                            -0.04865\n",
       "Name: saving_cbill.total_usd, dtype: float64"
      ]
     },
     "metadata": {},
     "output_type": "display_data"
    }
   ],
   "source": [
    "indicator ='saving_cbill.total_usd'\n",
    "results = segment_savings_per_dollar(indicator, community_results) \n",
    "saving_results[f'segment1_{income}_saving_bill_per_dollar_invested_usd'] = results[0]\n",
    "saving_results[f'segment2_{income}_saving_bill_per_dollar_invested_usd'] = results[1]\n",
    "saving_results[f'segment3_{income}_saving_bill_per_dollar_invested_usd'] = results[2]\n",
    "saving_results[f'segment4_{income}_saving_bill_per_dollar_invested_usd'] = results[3]"
   ]
  },
  {
   "cell_type": "markdown",
   "id": "4be95afb",
   "metadata": {},
   "source": [
    " ### Annual Energy Savings Per Dollar Invested"
   ]
  },
  {
   "cell_type": "code",
   "execution_count": 23,
   "id": "d03da729",
   "metadata": {},
   "outputs": [
    {
     "name": "stdout",
     "output_type": "stream",
     "text": [
      "segment1\n"
     ]
    },
    {
     "data": {
      "text/plain": [
       "upgrade_name\n",
       "Basic Enclosure                                                    0.00324\n",
       "Enhanced Enclosure                                                 0.00268\n",
       "Mininum Efficiency Whole Home Electrification                      0.00241\n",
       "Heat Pump Water Heater                                             0.00220\n",
       "Basic Enclosure + HPWH + High Efficiency HP/Electric Backup        0.00165\n",
       "Enhanced Enclosure + HPWH + High Efficiency HP/Electric Backup     0.00158\n",
       "Electric Cooking                                                   0.00154\n",
       "Mininum Efficiency Heat Pump with Electric Heat Backup             0.00153\n",
       "Basic Enclosure + High Efficiency Whole Home Electrification       0.00151\n",
       "Enhanced Enclosure + High Efficiency Whole Home Electrification    0.00145\n",
       "High Efficiency Whole Home Electrification                         0.00145\n",
       "High Efficiency Heat Pump with Electric Heat Backup                0.00144\n",
       "Mininum Efficiency Heat Pump with Existing Heat Backup             0.00115\n",
       "Heat Pump Clothes Dryer                                            0.00042\n",
       "Induction Cooking                                                  0.00032\n",
       "Electric Clothes Dryer                                             0.00031\n",
       "Name: saving_energy.total_mmbtu, dtype: float64"
      ]
     },
     "metadata": {},
     "output_type": "display_data"
    },
    {
     "name": "stdout",
     "output_type": "stream",
     "text": [
      "segment2\n"
     ]
    },
    {
     "data": {
      "text/plain": [
       "upgrade_name\n",
       "Basic Enclosure                                                    0.00224\n",
       "Enhanced Enclosure                                                 0.00173\n",
       "Mininum Efficiency Whole Home Electrification                      0.00138\n",
       "Electric Cooking                                                   0.00138\n",
       "Heat Pump Water Heater                                             0.00110\n",
       "Basic Enclosure + HPWH + High Efficiency HP/Electric Backup        0.00060\n",
       "Enhanced Enclosure + HPWH + High Efficiency HP/Electric Backup     0.00059\n",
       "Basic Enclosure + High Efficiency Whole Home Electrification       0.00055\n",
       "Enhanced Enclosure + High Efficiency Whole Home Electrification    0.00055\n",
       "High Efficiency Whole Home Electrification                         0.00052\n",
       "High Efficiency Heat Pump with Electric Heat Backup                0.00045\n",
       "Mininum Efficiency Heat Pump with Electric Heat Backup             0.00045\n",
       "Mininum Efficiency Heat Pump with Existing Heat Backup             0.00041\n",
       "Heat Pump Clothes Dryer                                            0.00031\n",
       "Electric Clothes Dryer                                             0.00022\n",
       "Induction Cooking                                                  0.00020\n",
       "Name: saving_energy.total_mmbtu, dtype: float64"
      ]
     },
     "metadata": {},
     "output_type": "display_data"
    },
    {
     "name": "stdout",
     "output_type": "stream",
     "text": [
      "segment3\n"
     ]
    },
    {
     "data": {
      "text/plain": [
       "upgrade_name\n",
       "Heat Pump Water Heater                                             0.00194\n",
       "Basic Enclosure                                                    0.00172\n",
       "Electric Cooking                                                   0.00168\n",
       "Mininum Efficiency Whole Home Electrification                      0.00163\n",
       "Enhanced Enclosure                                                 0.00136\n",
       "Basic Enclosure + HPWH + High Efficiency HP/Electric Backup        0.00098\n",
       "Enhanced Enclosure + HPWH + High Efficiency HP/Electric Backup     0.00094\n",
       "Basic Enclosure + High Efficiency Whole Home Electrification       0.00091\n",
       "High Efficiency Whole Home Electrification                         0.00090\n",
       "Enhanced Enclosure + High Efficiency Whole Home Electrification    0.00088\n",
       "Mininum Efficiency Heat Pump with Electric Heat Backup             0.00086\n",
       "High Efficiency Heat Pump with Electric Heat Backup                0.00081\n",
       "Mininum Efficiency Heat Pump with Existing Heat Backup             0.00076\n",
       "Heat Pump Clothes Dryer                                            0.00046\n",
       "Electric Clothes Dryer                                             0.00029\n",
       "Induction Cooking                                                  0.00024\n",
       "Name: saving_energy.total_mmbtu, dtype: float64"
      ]
     },
     "metadata": {},
     "output_type": "display_data"
    },
    {
     "name": "stdout",
     "output_type": "stream",
     "text": [
      "segment4\n"
     ]
    },
    {
     "data": {
      "text/plain": [
       "upgrade_name\n",
       "Mininum Efficiency Whole Home Electrification                      0.00178\n",
       "Heat Pump Water Heater                                             0.00152\n",
       "Basic Enclosure                                                    0.00148\n",
       "Electric Cooking                                                   0.00137\n",
       "Enhanced Enclosure                                                 0.00121\n",
       "Enhanced Enclosure + HPWH + High Efficiency HP/Electric Backup     0.00051\n",
       "Basic Enclosure + HPWH + High Efficiency HP/Electric Backup        0.00050\n",
       "Electric Clothes Dryer                                             0.00049\n",
       "Enhanced Enclosure + High Efficiency Whole Home Electrification    0.00047\n",
       "Basic Enclosure + High Efficiency Whole Home Electrification       0.00047\n",
       "High Efficiency Whole Home Electrification                         0.00046\n",
       "Heat Pump Clothes Dryer                                            0.00034\n",
       "High Efficiency Heat Pump with Electric Heat Backup                0.00032\n",
       "Mininum Efficiency Heat Pump with Electric Heat Backup             0.00030\n",
       "Mininum Efficiency Heat Pump with Existing Heat Backup             0.00030\n",
       "Induction Cooking                                                  0.00018\n",
       "Name: saving_energy.total_mmbtu, dtype: float64"
      ]
     },
     "metadata": {},
     "output_type": "display_data"
    }
   ],
   "source": [
    "indicator = 'saving_energy.total_mmbtu'\n",
    "results = segment_savings_per_dollar(indicator, community_results) \n",
    "saving_results[f'segment1_{income}_saving_energy_per_dollar_invested_mmbtu'] = results[0]\n",
    "saving_results[f'segment2_{income}_saving_energy_per_dollar_invested_mmbtu'] = results[1]\n",
    "saving_results[f'segment3_{income}_saving_energy_per_dollar_invested_mmbtu'] = results[2]\n",
    "saving_results[f'segment4_{income}_saving_energy_per_dollar_invested_mmbtu'] = results[3]"
   ]
  },
  {
   "cell_type": "markdown",
   "id": "3b3ea80f",
   "metadata": {},
   "source": [
    " ### Annual Emission Savings Per Dollar Invested"
   ]
  },
  {
   "cell_type": "code",
   "execution_count": 24,
   "id": "b538dff9",
   "metadata": {},
   "outputs": [
    {
     "name": "stdout",
     "output_type": "stream",
     "text": [
      "segment1\n"
     ]
    },
    {
     "data": {
      "text/plain": [
       "upgrade_name\n",
       "Basic Enclosure                                                    0.23539\n",
       "Enhanced Enclosure                                                 0.19590\n",
       "Heat Pump Water Heater                                             0.15034\n",
       "Mininum Efficiency Whole Home Electrification                      0.14423\n",
       "Basic Enclosure + HPWH + High Efficiency HP/Electric Backup        0.11919\n",
       "Enhanced Enclosure + HPWH + High Efficiency HP/Electric Backup     0.11476\n",
       "Basic Enclosure + High Efficiency Whole Home Electrification       0.10881\n",
       "Enhanced Enclosure + High Efficiency Whole Home Electrification    0.10531\n",
       "High Efficiency Heat Pump with Electric Heat Backup                0.10408\n",
       "High Efficiency Whole Home Electrification                         0.10323\n",
       "Mininum Efficiency Heat Pump with Electric Heat Backup             0.10302\n",
       "Electric Cooking                                                   0.09892\n",
       "Mininum Efficiency Heat Pump with Existing Heat Backup             0.08384\n",
       "Heat Pump Clothes Dryer                                            0.02862\n",
       "Induction Cooking                                                  0.02125\n",
       "Electric Clothes Dryer                                             0.02001\n",
       "Name: saving_emission.total_kgCO2e, dtype: float64"
      ]
     },
     "metadata": {},
     "output_type": "display_data"
    },
    {
     "name": "stdout",
     "output_type": "stream",
     "text": [
      "segment2\n"
     ]
    },
    {
     "data": {
      "text/plain": [
       "upgrade_name\n",
       "Basic Enclosure                                                    0.18525\n",
       "Enhanced Enclosure                                                 0.14520\n",
       "Electric Cooking                                                   0.09383\n",
       "Mininum Efficiency Whole Home Electrification                      0.08659\n",
       "Heat Pump Water Heater                                             0.07801\n",
       "Basic Enclosure + HPWH + High Efficiency HP/Electric Backup        0.04774\n",
       "Enhanced Enclosure + HPWH + High Efficiency HP/Electric Backup     0.04762\n",
       "Basic Enclosure + High Efficiency Whole Home Electrification       0.04380\n",
       "Enhanced Enclosure + High Efficiency Whole Home Electrification    0.04378\n",
       "High Efficiency Whole Home Electrification                         0.04123\n",
       "Mininum Efficiency Heat Pump with Electric Heat Backup             0.03858\n",
       "High Efficiency Heat Pump with Electric Heat Backup                0.03701\n",
       "Mininum Efficiency Heat Pump with Existing Heat Backup             0.03642\n",
       "Heat Pump Clothes Dryer                                            0.02173\n",
       "Induction Cooking                                                  0.01403\n",
       "Electric Clothes Dryer                                             0.01296\n",
       "Name: saving_emission.total_kgCO2e, dtype: float64"
      ]
     },
     "metadata": {},
     "output_type": "display_data"
    },
    {
     "name": "stdout",
     "output_type": "stream",
     "text": [
      "segment3\n"
     ]
    },
    {
     "data": {
      "text/plain": [
       "upgrade_name\n",
       "Basic Enclosure                                                    0.13615\n",
       "Heat Pump Water Heater                                             0.13135\n",
       "Electric Cooking                                                   0.11223\n",
       "Enhanced Enclosure                                                 0.10926\n",
       "Mininum Efficiency Whole Home Electrification                      0.10127\n",
       "Basic Enclosure + HPWH + High Efficiency HP/Electric Backup        0.07608\n",
       "Enhanced Enclosure + HPWH + High Efficiency HP/Electric Backup     0.07342\n",
       "Basic Enclosure + High Efficiency Whole Home Electrification       0.07027\n",
       "High Efficiency Whole Home Electrification                         0.06988\n",
       "Mininum Efficiency Heat Pump with Electric Heat Backup             0.06888\n",
       "Enhanced Enclosure + High Efficiency Whole Home Electrification    0.06815\n",
       "High Efficiency Heat Pump with Electric Heat Backup                0.06467\n",
       "Mininum Efficiency Heat Pump with Existing Heat Backup             0.06366\n",
       "Heat Pump Clothes Dryer                                            0.03169\n",
       "Electric Clothes Dryer                                             0.01872\n",
       "Induction Cooking                                                  0.01661\n",
       "Name: saving_emission.total_kgCO2e, dtype: float64"
      ]
     },
     "metadata": {},
     "output_type": "display_data"
    },
    {
     "name": "stdout",
     "output_type": "stream",
     "text": [
      "segment4\n"
     ]
    },
    {
     "data": {
      "text/plain": [
       "upgrade_name\n",
       "Basic Enclosure                                                    0.12441\n",
       "Mininum Efficiency Whole Home Electrification                      0.11516\n",
       "Heat Pump Water Heater                                             0.10768\n",
       "Enhanced Enclosure                                                 0.09473\n",
       "Electric Cooking                                                   0.09385\n",
       "Electric Clothes Dryer                                             0.04709\n",
       "Enhanced Enclosure + HPWH + High Efficiency HP/Electric Backup     0.03919\n",
       "Basic Enclosure + HPWH + High Efficiency HP/Electric Backup        0.03905\n",
       "Enhanced Enclosure + High Efficiency Whole Home Electrification    0.03651\n",
       "Basic Enclosure + High Efficiency Whole Home Electrification       0.03630\n",
       "High Efficiency Whole Home Electrification                         0.03525\n",
       "High Efficiency Heat Pump with Electric Heat Backup                0.02578\n",
       "Mininum Efficiency Heat Pump with Electric Heat Backup             0.02542\n",
       "Mininum Efficiency Heat Pump with Existing Heat Backup             0.02532\n",
       "Heat Pump Clothes Dryer                                            0.02340\n",
       "Induction Cooking                                                  0.01243\n",
       "Name: saving_emission.total_kgCO2e, dtype: float64"
      ]
     },
     "metadata": {},
     "output_type": "display_data"
    }
   ],
   "source": [
    "indicator ='saving_emission.total_kgCO2e'\n",
    "results = segment_savings_per_dollar(indicator, community_results) \n",
    "saving_results[f'segment1_{income}_saving_emission_per_dollar_invested_kgCO2e'] = results[0]\n",
    "saving_results[f'segment2_{income}_saving_emission_per_dollar_invested_kgCO2e'] = results[1]\n",
    "saving_results[f'segment3_{income}_saving_emission_per_dollar_invested_kgCO2e'] = results[2]\n",
    "saving_results[f'segment4_{income}_saving_emission_per_dollar_invested_kgCO2e'] = results[3]"
   ]
  },
  {
   "cell_type": "markdown",
   "id": "961cd050",
   "metadata": {},
   "source": [
    "## 2.3 Annual Total Savings"
   ]
  },
  {
   "cell_type": "markdown",
   "id": "702400cd",
   "metadata": {},
   "source": [
    "### Annual Total Bill Savings"
   ]
  },
  {
   "cell_type": "code",
   "execution_count": 25,
   "id": "4cb37f5f",
   "metadata": {},
   "outputs": [
    {
     "name": "stdout",
     "output_type": "stream",
     "text": [
      "segment1\n"
     ]
    },
    {
     "data": {
      "text/plain": [
       "upgrade_name\n",
       "Enhanced Enclosure + High Efficiency Whole Home Electrification    26188783.5\n",
       "Basic Enclosure + High Efficiency Whole Home Electrification       25789865.3\n",
       "Enhanced Enclosure + HPWH + High Efficiency HP/Electric Backup     25480462.0\n",
       "Basic Enclosure + HPWH + High Efficiency HP/Electric Backup        25081543.7\n",
       "High Efficiency Whole Home Electrification                         22015669.4\n",
       "High Efficiency Heat Pump with Electric Heat Backup                18418011.6\n",
       "Enhanced Enclosure                                                 12284982.8\n",
       "Basic Enclosure                                                    10795361.9\n",
       "Mininum Efficiency Heat Pump with Electric Heat Backup              7968124.7\n",
       "Mininum Efficiency Heat Pump with Existing Heat Backup              7892844.5\n",
       "Mininum Efficiency Whole Home Electrification                       2836823.8\n",
       "Heat Pump Water Heater                                              2197122.7\n",
       "Heat Pump Clothes Dryer                                              641109.8\n",
       "Induction Cooking                                                     20976.2\n",
       "Electric Clothes Dryer                                               -38468.5\n",
       "Electric Cooking                                                     -71435.5\n",
       "Name: saving_cbill.total_usd, dtype: float64"
      ]
     },
     "metadata": {},
     "output_type": "display_data"
    },
    {
     "name": "stdout",
     "output_type": "stream",
     "text": [
      "segment2\n"
     ]
    },
    {
     "data": {
      "text/plain": [
       "upgrade_name\n",
       "Enhanced Enclosure + High Efficiency Whole Home Electrification    4725350.6\n",
       "Basic Enclosure + High Efficiency Whole Home Electrification       4627449.2\n",
       "Enhanced Enclosure + HPWH + High Efficiency HP/Electric Backup     4524932.1\n",
       "Basic Enclosure + HPWH + High Efficiency HP/Electric Backup        4427030.7\n",
       "High Efficiency Whole Home Electrification                         4277823.5\n",
       "High Efficiency Heat Pump with Electric Heat Backup                2914582.6\n",
       "Enhanced Enclosure                                                 1213875.7\n",
       "Mininum Efficiency Heat Pump with Electric Heat Backup             1171392.2\n",
       "Mininum Efficiency Heat Pump with Existing Heat Backup             1075844.6\n",
       "Basic Enclosure                                                     944161.2\n",
       "Heat Pump Water Heater                                              897831.9\n",
       "Heat Pump Clothes Dryer                                             180725.2\n",
       "Mininum Efficiency Whole Home Electrification                        58486.1\n",
       "Induction Cooking                                                    19693.4\n",
       "Electric Clothes Dryer                                               -2322.7\n",
       "Electric Cooking                                                     -3687.4\n",
       "Name: saving_cbill.total_usd, dtype: float64"
      ]
     },
     "metadata": {},
     "output_type": "display_data"
    },
    {
     "name": "stdout",
     "output_type": "stream",
     "text": [
      "segment3\n"
     ]
    },
    {
     "data": {
      "text/plain": [
       "upgrade_name\n",
       "Enhanced Enclosure + High Efficiency Whole Home Electrification    11266393.1\n",
       "Basic Enclosure + High Efficiency Whole Home Electrification       11107509.7\n",
       "Enhanced Enclosure + HPWH + High Efficiency HP/Electric Backup     10839134.5\n",
       "Basic Enclosure + HPWH + High Efficiency HP/Electric Backup        10680251.0\n",
       "High Efficiency Whole Home Electrification                         10303948.7\n",
       "High Efficiency Heat Pump with Electric Heat Backup                 7726141.4\n",
       "Mininum Efficiency Heat Pump with Electric Heat Backup              3556608.3\n",
       "Mininum Efficiency Heat Pump with Existing Heat Backup              3500547.5\n",
       "Enhanced Enclosure                                                  3027149.7\n",
       "Basic Enclosure                                                     2411243.6\n",
       "Heat Pump Water Heater                                              1644689.4\n",
       "Mininum Efficiency Whole Home Electrification                        445317.0\n",
       "Heat Pump Clothes Dryer                                              398987.8\n",
       "Induction Cooking                                                     22643.8\n",
       "Electric Clothes Dryer                                               -13783.3\n",
       "Electric Cooking                                                     -26733.2\n",
       "Name: saving_cbill.total_usd, dtype: float64"
      ]
     },
     "metadata": {},
     "output_type": "display_data"
    },
    {
     "name": "stdout",
     "output_type": "stream",
     "text": [
      "segment4\n"
     ]
    },
    {
     "data": {
      "text/plain": [
       "upgrade_name\n",
       "Enhanced Enclosure + High Efficiency Whole Home Electrification    6246888.9\n",
       "Basic Enclosure + High Efficiency Whole Home Electrification       5953180.2\n",
       "Enhanced Enclosure + HPWH + High Efficiency HP/Electric Backup     5926993.2\n",
       "High Efficiency Whole Home Electrification                         5689528.5\n",
       "Basic Enclosure + HPWH + High Efficiency HP/Electric Backup        5633284.5\n",
       "High Efficiency Heat Pump with Electric Heat Backup                3172325.1\n",
       "Heat Pump Water Heater                                             1833698.6\n",
       "Enhanced Enclosure                                                 1230561.0\n",
       "Mininum Efficiency Heat Pump with Electric Heat Backup             1081478.8\n",
       "Mininum Efficiency Heat Pump with Existing Heat Backup             1077547.6\n",
       "Basic Enclosure                                                     713828.6\n",
       "Heat Pump Clothes Dryer                                             284036.9\n",
       "Mininum Efficiency Whole Home Electrification                       122452.0\n",
       "Induction Cooking                                                    34452.1\n",
       "Electric Cooking                                                    -10278.4\n",
       "Electric Clothes Dryer                                              -10610.1\n",
       "Name: saving_cbill.total_usd, dtype: float64"
      ]
     },
     "metadata": {},
     "output_type": "display_data"
    }
   ],
   "source": [
    "indicator ='saving_cbill.total_usd'\n",
    "results = segment_annual_total_savings(indicator, community_results)\n",
    "saving_results[f'segment1_{income}_saving_bill_total_usd'] = results[0]\n",
    "saving_results[f'segment2_{income}_saving_bill_total_usd'] = results[1]\n",
    "saving_results[f'segment3_{income}_saving_bill_total_usd'] = results[2]\n",
    "saving_results[f'segment4_{income}_saving_bill_total_usd'] = results[3]"
   ]
  },
  {
   "cell_type": "markdown",
   "id": "5a9433f1",
   "metadata": {},
   "source": [
    "### Annual Total Energy Savings"
   ]
  },
  {
   "cell_type": "code",
   "execution_count": 26,
   "id": "772222fe",
   "metadata": {},
   "outputs": [
    {
     "name": "stdout",
     "output_type": "stream",
     "text": [
      "segment1\n"
     ]
    },
    {
     "data": {
      "text/plain": [
       "upgrade_name\n",
       "Enhanced Enclosure + High Efficiency Whole Home Electrification    1052226.1\n",
       "Basic Enclosure + High Efficiency Whole Home Electrification       1041875.1\n",
       "Enhanced Enclosure + HPWH + High Efficiency HP/Electric Backup     1023331.6\n",
       "Basic Enclosure + HPWH + High Efficiency HP/Electric Backup        1012980.6\n",
       "High Efficiency Whole Home Electrification                          943942.5\n",
       "High Efficiency Heat Pump with Electric Heat Backup                 753078.8\n",
       "Mininum Efficiency Heat Pump with Electric Heat Backup              481931.4\n",
       "Enhanced Enclosure                                                  466031.5\n",
       "Mininum Efficiency Whole Home Electrification                       446293.2\n",
       "Basic Enclosure                                                     408266.9\n",
       "Mininum Efficiency Heat Pump with Existing Heat Backup              357123.5\n",
       "Heat Pump Water Heater                                              120829.5\n",
       "Heat Pump Clothes Dryer                                              18246.2\n",
       "Induction Cooking                                                    10648.3\n",
       "Electric Cooking                                                      8250.2\n",
       "Electric Clothes Dryer                                                 612.5\n",
       "Name: saving_energy.total_mmbtu, dtype: float64"
      ]
     },
     "metadata": {},
     "output_type": "display_data"
    },
    {
     "name": "stdout",
     "output_type": "stream",
     "text": [
      "segment2\n"
     ]
    },
    {
     "data": {
      "text/plain": [
       "upgrade_name\n",
       "Enhanced Enclosure + High Efficiency Whole Home Electrification    129998.3\n",
       "Basic Enclosure + High Efficiency Whole Home Electrification       127458.1\n",
       "Enhanced Enclosure + HPWH + High Efficiency HP/Electric Backup     122110.2\n",
       "Basic Enclosure + HPWH + High Efficiency HP/Electric Backup        119570.0\n",
       "High Efficiency Whole Home Electrification                         118386.2\n",
       "High Efficiency Heat Pump with Electric Heat Backup                 77987.0\n",
       "Mininum Efficiency Heat Pump with Electric Heat Backup              32755.4\n",
       "Enhanced Enclosure                                                  32686.4\n",
       "Mininum Efficiency Heat Pump with Existing Heat Backup              28736.9\n",
       "Basic Enclosure                                                     25685.5\n",
       "Heat Pump Water Heater                                              25347.8\n",
       "Mininum Efficiency Whole Home Electrification                        8903.1\n",
       "Heat Pump Clothes Dryer                                              4785.4\n",
       "Induction Cooking                                                    3102.7\n",
       "Electric Cooking                                                     2495.9\n",
       "Electric Clothes Dryer                                                 35.7\n",
       "Name: saving_energy.total_mmbtu, dtype: float64"
      ]
     },
     "metadata": {},
     "output_type": "display_data"
    },
    {
     "name": "stdout",
     "output_type": "stream",
     "text": [
      "segment3\n"
     ]
    },
    {
     "data": {
      "text/plain": [
       "upgrade_name\n",
       "Enhanced Enclosure + High Efficiency Whole Home Electrification    342329.8\n",
       "Basic Enclosure + High Efficiency Whole Home Electrification       338207.2\n",
       "Enhanced Enclosure + HPWH + High Efficiency HP/Electric Backup     326886.4\n",
       "Basic Enclosure + HPWH + High Efficiency HP/Electric Backup        322763.9\n",
       "High Efficiency Whole Home Electrification                         317356.8\n",
       "High Efficiency Heat Pump with Electric Heat Backup                221721.1\n",
       "Mininum Efficiency Heat Pump with Electric Heat Backup             113537.7\n",
       "Mininum Efficiency Heat Pump with Existing Heat Backup              99546.8\n",
       "Enhanced Enclosure                                                  85774.4\n",
       "Basic Enclosure                                                     68597.1\n",
       "Heat Pump Water Heater                                              64262.3\n",
       "Mininum Efficiency Whole Home Electrification                       61546.6\n",
       "Heat Pump Clothes Dryer                                             10912.4\n",
       "Induction Cooking                                                    4531.0\n",
       "Electric Cooking                                                     3249.4\n",
       "Electric Clothes Dryer                                                201.9\n",
       "Name: saving_energy.total_mmbtu, dtype: float64"
      ]
     },
     "metadata": {},
     "output_type": "display_data"
    },
    {
     "name": "stdout",
     "output_type": "stream",
     "text": [
      "segment4\n"
     ]
    },
    {
     "data": {
      "text/plain": [
       "upgrade_name\n",
       "Enhanced Enclosure + High Efficiency Whole Home Electrification    171860.2\n",
       "Basic Enclosure + High Efficiency Whole Home Electrification       164239.2\n",
       "Enhanced Enclosure + HPWH + High Efficiency HP/Electric Backup     160008.1\n",
       "High Efficiency Whole Home Electrification                         157398.0\n",
       "Basic Enclosure + HPWH + High Efficiency HP/Electric Backup        152387.1\n",
       "High Efficiency Heat Pump with Electric Heat Backup                 83808.1\n",
       "Heat Pump Water Heater                                              52063.0\n",
       "Enhanced Enclosure                                                  32661.3\n",
       "Mininum Efficiency Heat Pump with Electric Heat Backup              29554.8\n",
       "Mininum Efficiency Heat Pump with Existing Heat Backup              28486.8\n",
       "Basic Enclosure                                                     18931.3\n",
       "Mininum Efficiency Whole Home Electrification                       12944.3\n",
       "Heat Pump Clothes Dryer                                              7751.7\n",
       "Induction Cooking                                                    4100.4\n",
       "Electric Cooking                                                     2939.2\n",
       "Electric Clothes Dryer                                                106.2\n",
       "Name: saving_energy.total_mmbtu, dtype: float64"
      ]
     },
     "metadata": {},
     "output_type": "display_data"
    }
   ],
   "source": [
    "indicator ='saving_energy.total_mmbtu'\n",
    "results = segment_annual_total_savings(indicator, community_results)\n",
    "saving_results[f'segment1_{income}_saving_energy_total_mmbtu'] = results[0]\n",
    "saving_results[f'segment2_{income}_saving_energy_total_mmbtu'] = results[1]\n",
    "saving_results[f'segment3_{income}_saving_energy_total_mmbtu'] = results[2]\n",
    "saving_results[f'segment4_{income}_saving_energy_total_mmbtu'] = results[3]"
   ]
  },
  {
   "cell_type": "markdown",
   "id": "468edc4e",
   "metadata": {},
   "source": [
    "### Annual Total Emission Savings"
   ]
  },
  {
   "cell_type": "code",
   "execution_count": 27,
   "id": "5fb13c1b",
   "metadata": {},
   "outputs": [
    {
     "name": "stdout",
     "output_type": "stream",
     "text": [
      "segment1\n"
     ]
    },
    {
     "data": {
      "text/plain": [
       "upgrade_name\n",
       "Enhanced Enclosure + High Efficiency Whole Home Electrification    76173212.7\n",
       "Basic Enclosure + High Efficiency Whole Home Electrification       75203493.3\n",
       "Enhanced Enclosure + HPWH + High Efficiency HP/Electric Backup     74227341.3\n",
       "Basic Enclosure + HPWH + High Efficiency HP/Electric Backup        73257621.9\n",
       "High Efficiency Whole Home Electrification                         67413737.9\n",
       "High Efficiency Heat Pump with Electric Heat Backup                54291767.1\n",
       "Enhanced Enclosure                                                 34090010.1\n",
       "Mininum Efficiency Heat Pump with Electric Heat Backup             32484213.7\n",
       "Basic Enclosure                                                    29648605.7\n",
       "Mininum Efficiency Whole Home Electrification                      26729391.6\n",
       "Mininum Efficiency Heat Pump with Existing Heat Backup             26112702.6\n",
       "Heat Pump Water Heater                                              8244572.4\n",
       "Heat Pump Clothes Dryer                                             1241611.7\n",
       "Induction Cooking                                                    704259.6\n",
       "Electric Cooking                                                     531634.9\n",
       "Electric Clothes Dryer                                                39046.2\n",
       "Name: saving_emission.total_kgCO2e, dtype: float64"
      ]
     },
     "metadata": {},
     "output_type": "display_data"
    },
    {
     "name": "stdout",
     "output_type": "stream",
     "text": [
      "segment2\n"
     ]
    },
    {
     "data": {
      "text/plain": [
       "upgrade_name\n",
       "Enhanced Enclosure + High Efficiency Whole Home Electrification    10361105.6\n",
       "Basic Enclosure + High Efficiency Whole Home Electrification       10136507.6\n",
       "Enhanced Enclosure + HPWH + High Efficiency HP/Electric Backup      9814933.4\n",
       "Basic Enclosure + HPWH + High Efficiency HP/Electric Backup         9590335.3\n",
       "High Efficiency Whole Home Electrification                          9382032.1\n",
       "High Efficiency Heat Pump with Electric Heat Backup                 6441364.3\n",
       "Mininum Efficiency Heat Pump with Electric Heat Backup              2820119.4\n",
       "Enhanced Enclosure                                                  2744859.9\n",
       "Mininum Efficiency Heat Pump with Existing Heat Backup              2545885.4\n",
       "Basic Enclosure                                                     2126492.5\n",
       "Heat Pump Water Heater                                              1791610.4\n",
       "Mininum Efficiency Whole Home Electrification                        558256.7\n",
       "Heat Pump Clothes Dryer                                              331938.0\n",
       "Induction Cooking                                                    214234.2\n",
       "Electric Cooking                                                     170105.2\n",
       "Electric Clothes Dryer                                                 2095.8\n",
       "Name: saving_emission.total_kgCO2e, dtype: float64"
      ]
     },
     "metadata": {},
     "output_type": "display_data"
    },
    {
     "name": "stdout",
     "output_type": "stream",
     "text": [
      "segment3\n"
     ]
    },
    {
     "data": {
      "text/plain": [
       "upgrade_name\n",
       "Enhanced Enclosure + High Efficiency Whole Home Electrification    26570069.6\n",
       "Basic Enclosure + High Efficiency Whole Home Electrification       26189495.1\n",
       "Enhanced Enclosure + HPWH + High Efficiency HP/Electric Backup     25512433.9\n",
       "Basic Enclosure + HPWH + High Efficiency HP/Electric Backup        25131859.4\n",
       "High Efficiency Whole Home Electrification                         24523487.2\n",
       "High Efficiency Heat Pump with Electric Heat Backup                17806323.3\n",
       "Mininum Efficiency Heat Pump with Electric Heat Backup              9104516.9\n",
       "Mininum Efficiency Heat Pump with Existing Heat Backup              8356276.3\n",
       "Enhanced Enclosure                                                  6897441.1\n",
       "Basic Enclosure                                                     5438108.6\n",
       "Heat Pump Water Heater                                              4362202.0\n",
       "Mininum Efficiency Whole Home Electrification                       3820629.4\n",
       "Heat Pump Clothes Dryer                                              743929.8\n",
       "Induction Cooking                                                    313705.9\n",
       "Electric Cooking                                                     217427.5\n",
       "Electric Clothes Dryer                                                13117.8\n",
       "Name: saving_emission.total_kgCO2e, dtype: float64"
      ]
     },
     "metadata": {},
     "output_type": "display_data"
    },
    {
     "name": "stdout",
     "output_type": "stream",
     "text": [
      "segment4\n"
     ]
    },
    {
     "data": {
      "text/plain": [
       "upgrade_name\n",
       "Enhanced Enclosure + High Efficiency Whole Home Electrification    13211880.7\n",
       "Basic Enclosure + High Efficiency Whole Home Electrification       12712240.4\n",
       "Enhanced Enclosure + HPWH + High Efficiency HP/Electric Backup     12395224.3\n",
       "High Efficiency Whole Home Electrification                         12121777.2\n",
       "Basic Enclosure + HPWH + High Efficiency HP/Electric Backup        11895584.1\n",
       "High Efficiency Heat Pump with Electric Heat Backup                 6803931.8\n",
       "Heat Pump Water Heater                                              3689406.3\n",
       "Enhanced Enclosure                                                  2547735.2\n",
       "Mininum Efficiency Heat Pump with Electric Heat Backup              2493662.4\n",
       "Mininum Efficiency Heat Pump with Existing Heat Backup              2432780.5\n",
       "Basic Enclosure                                                     1595398.3\n",
       "Mininum Efficiency Whole Home Electrification                        839122.1\n",
       "Heat Pump Clothes Dryer                                              531770.6\n",
       "Induction Cooking                                                    284885.8\n",
       "Electric Cooking                                                     201290.1\n",
       "Electric Clothes Dryer                                                10269.1\n",
       "Name: saving_emission.total_kgCO2e, dtype: float64"
      ]
     },
     "metadata": {},
     "output_type": "display_data"
    }
   ],
   "source": [
    "indicator ='saving_emission.total_kgCO2e'\n",
    "results = segment_annual_total_savings(indicator, community_results)\n",
    "saving_results[f'segment1_{income}_saving_emission_total_kgCO2e'] = results[0]\n",
    "saving_results[f'segment2_{income}_saving_emission_total_kgCO2e'] = results[1]\n",
    "saving_results[f'segment3_{income}_saving_emission_total_kgCO2e'] = results[2]\n",
    "saving_results[f'segment4_{income}_saving_emission_total_kgCO2e'] = results[3]"
   ]
  },
  {
   "cell_type": "markdown",
   "id": "83cbedb9",
   "metadata": {},
   "source": [
    "## 2.4 Annual Savings Per Dwelling Unit"
   ]
  },
  {
   "cell_type": "markdown",
   "id": "eb35438b",
   "metadata": {},
   "source": [
    "### Annual Bill Savings Per Dwelling Unit"
   ]
  },
  {
   "cell_type": "code",
   "execution_count": 28,
   "id": "876cf387",
   "metadata": {},
   "outputs": [
    {
     "name": "stdout",
     "output_type": "stream",
     "text": [
      "segment1\n"
     ]
    },
    {
     "data": {
      "text/plain": [
       "upgrade_name\n",
       "Enhanced Enclosure + High Efficiency Whole Home Electrification    1491.8\n",
       "Basic Enclosure + High Efficiency Whole Home Electrification       1469.1\n",
       "Enhanced Enclosure + HPWH + High Efficiency HP/Electric Backup     1451.5\n",
       "Basic Enclosure + HPWH + High Efficiency HP/Electric Backup        1428.7\n",
       "High Efficiency Whole Home Electrification                         1254.1\n",
       "High Efficiency Heat Pump with Electric Heat Backup                1049.2\n",
       "Enhanced Enclosure                                                  699.8\n",
       "Basic Enclosure                                                     614.9\n",
       "Mininum Efficiency Heat Pump with Electric Heat Backup              453.9\n",
       "Mininum Efficiency Heat Pump with Existing Heat Backup              449.6\n",
       "Mininum Efficiency Whole Home Electrification                       248.1\n",
       "Heat Pump Water Heater                                              125.5\n",
       "Heat Pump Clothes Dryer                                              37.3\n",
       "Induction Cooking                                                     1.2\n",
       "Electric Cooking                                                    -14.8\n",
       "Electric Clothes Dryer                                              -24.7\n",
       "Name: saving_cbill.total_usd, dtype: float64"
      ]
     },
     "metadata": {},
     "output_type": "display_data"
    },
    {
     "name": "stdout",
     "output_type": "stream",
     "text": [
      "segment2\n"
     ]
    },
    {
     "data": {
      "text/plain": [
       "upgrade_name\n",
       "Enhanced Enclosure + High Efficiency Whole Home Electrification    585.6\n",
       "Basic Enclosure + High Efficiency Whole Home Electrification       573.5\n",
       "Enhanced Enclosure + HPWH + High Efficiency HP/Electric Backup     560.8\n",
       "Basic Enclosure + HPWH + High Efficiency HP/Electric Backup        548.6\n",
       "High Efficiency Whole Home Electrification                         530.1\n",
       "High Efficiency Heat Pump with Electric Heat Backup                361.2\n",
       "Enhanced Enclosure                                                 150.4\n",
       "Mininum Efficiency Heat Pump with Electric Heat Backup             145.2\n",
       "Mininum Efficiency Heat Pump with Existing Heat Backup             139.5\n",
       "Basic Enclosure                                                    118.9\n",
       "Heat Pump Water Heater                                             112.7\n",
       "Heat Pump Clothes Dryer                                             29.8\n",
       "Mininum Efficiency Whole Home Electrification                       25.8\n",
       "Induction Cooking                                                    2.5\n",
       "Electric Cooking                                                    -2.3\n",
       "Electric Clothes Dryer                                             -18.0\n",
       "Name: saving_cbill.total_usd, dtype: float64"
      ]
     },
     "metadata": {},
     "output_type": "display_data"
    },
    {
     "name": "stdout",
     "output_type": "stream",
     "text": [
      "segment3\n"
     ]
    },
    {
     "data": {
      "text/plain": [
       "upgrade_name\n",
       "Enhanced Enclosure + High Efficiency Whole Home Electrification    1139.5\n",
       "Basic Enclosure + High Efficiency Whole Home Electrification       1123.4\n",
       "Enhanced Enclosure + HPWH + High Efficiency HP/Electric Backup     1096.3\n",
       "Basic Enclosure + HPWH + High Efficiency HP/Electric Backup        1080.2\n",
       "High Efficiency Whole Home Electrification                         1042.1\n",
       "High Efficiency Heat Pump with Electric Heat Backup                 781.4\n",
       "Mininum Efficiency Heat Pump with Electric Heat Backup              359.7\n",
       "Mininum Efficiency Heat Pump with Existing Heat Backup              354.0\n",
       "Enhanced Enclosure                                                  307.5\n",
       "Basic Enclosure                                                     244.9\n",
       "Heat Pump Water Heater                                              167.4\n",
       "Mininum Efficiency Whole Home Electrification                       116.8\n",
       "Heat Pump Clothes Dryer                                              42.8\n",
       "Induction Cooking                                                     2.3\n",
       "Electric Cooking                                                    -15.4\n",
       "Electric Clothes Dryer                                              -24.6\n",
       "Name: saving_cbill.total_usd, dtype: float64"
      ]
     },
     "metadata": {},
     "output_type": "display_data"
    },
    {
     "name": "stdout",
     "output_type": "stream",
     "text": [
      "segment4\n"
     ]
    },
    {
     "data": {
      "text/plain": [
       "upgrade_name\n",
       "Enhanced Enclosure + High Efficiency Whole Home Electrification    520.9\n",
       "Basic Enclosure + High Efficiency Whole Home Electrification       496.4\n",
       "Enhanced Enclosure + HPWH + High Efficiency HP/Electric Backup     494.2\n",
       "High Efficiency Whole Home Electrification                         474.4\n",
       "Basic Enclosure + HPWH + High Efficiency HP/Electric Backup        469.7\n",
       "High Efficiency Heat Pump with Electric Heat Backup                265.2\n",
       "Heat Pump Water Heater                                             154.7\n",
       "Enhanced Enclosure                                                 109.2\n",
       "Mininum Efficiency Heat Pump with Existing Heat Backup              91.8\n",
       "Mininum Efficiency Heat Pump with Electric Heat Backup              90.4\n",
       "Basic Enclosure                                                     67.1\n",
       "Mininum Efficiency Whole Home Electrification                       43.1\n",
       "Heat Pump Clothes Dryer                                             31.5\n",
       "Induction Cooking                                                    2.9\n",
       "Electric Cooking                                                    -5.3\n",
       "Electric Clothes Dryer                                             -61.0\n",
       "Name: saving_cbill.total_usd, dtype: float64"
      ]
     },
     "metadata": {},
     "output_type": "display_data"
    }
   ],
   "source": [
    "indicator ='saving_cbill.total_usd'\n",
    "results = segment_mean_savings(indicator, community_results)\n",
    "saving_results[f'segment1_{income}_saving_bill_mean_usd'] = results[0]\n",
    "saving_results[f'segment2_{income}_saving_bill_mean_usd'] = results[1]\n",
    "saving_results[f'segment3_{income}_saving_bill_mean_usd'] = results[2]\n",
    "saving_results[f'segment4_{income}_saving_bill_mean_usd'] = results[3]"
   ]
  },
  {
   "cell_type": "markdown",
   "id": "e902c573",
   "metadata": {},
   "source": [
    "### Annual Energy Savings Per Dwelling Unit"
   ]
  },
  {
   "cell_type": "code",
   "execution_count": 29,
   "id": "5ad585ad",
   "metadata": {},
   "outputs": [
    {
     "name": "stdout",
     "output_type": "stream",
     "text": [
      "segment1\n"
     ]
    },
    {
     "data": {
      "text/plain": [
       "upgrade_name\n",
       "Enhanced Enclosure + High Efficiency Whole Home Electrification    59.9\n",
       "Basic Enclosure + High Efficiency Whole Home Electrification       59.3\n",
       "Enhanced Enclosure + HPWH + High Efficiency HP/Electric Backup     58.3\n",
       "Basic Enclosure + HPWH + High Efficiency HP/Electric Backup        57.7\n",
       "High Efficiency Whole Home Electrification                         53.8\n",
       "High Efficiency Heat Pump with Electric Heat Backup                42.9\n",
       "Mininum Efficiency Whole Home Electrification                      39.0\n",
       "Mininum Efficiency Heat Pump with Electric Heat Backup             27.5\n",
       "Enhanced Enclosure                                                 26.5\n",
       "Basic Enclosure                                                    23.3\n",
       "Mininum Efficiency Heat Pump with Existing Heat Backup             20.3\n",
       "Heat Pump Water Heater                                              6.9\n",
       "Electric Cooking                                                    1.7\n",
       "Heat Pump Clothes Dryer                                             1.1\n",
       "Induction Cooking                                                   0.6\n",
       "Electric Clothes Dryer                                              0.4\n",
       "Name: saving_energy.total_mmbtu, dtype: float64"
      ]
     },
     "metadata": {},
     "output_type": "display_data"
    },
    {
     "name": "stdout",
     "output_type": "stream",
     "text": [
      "segment2\n"
     ]
    },
    {
     "data": {
      "text/plain": [
       "upgrade_name\n",
       "Enhanced Enclosure + High Efficiency Whole Home Electrification    16.1\n",
       "Basic Enclosure + High Efficiency Whole Home Electrification       15.8\n",
       "Enhanced Enclosure + HPWH + High Efficiency HP/Electric Backup     15.1\n",
       "Basic Enclosure + HPWH + High Efficiency HP/Electric Backup        14.8\n",
       "High Efficiency Whole Home Electrification                         14.7\n",
       "High Efficiency Heat Pump with Electric Heat Backup                 9.7\n",
       "Mininum Efficiency Heat Pump with Electric Heat Backup              4.1\n",
       "Enhanced Enclosure                                                  4.1\n",
       "Mininum Efficiency Whole Home Electrification                       3.9\n",
       "Mininum Efficiency Heat Pump with Existing Heat Backup              3.7\n",
       "Basic Enclosure                                                     3.2\n",
       "Heat Pump Water Heater                                              3.2\n",
       "Electric Cooking                                                    1.5\n",
       "Heat Pump Clothes Dryer                                             0.8\n",
       "Induction Cooking                                                   0.4\n",
       "Electric Clothes Dryer                                              0.3\n",
       "Name: saving_energy.total_mmbtu, dtype: float64"
      ]
     },
     "metadata": {},
     "output_type": "display_data"
    },
    {
     "name": "stdout",
     "output_type": "stream",
     "text": [
      "segment3\n"
     ]
    },
    {
     "data": {
      "text/plain": [
       "upgrade_name\n",
       "Enhanced Enclosure + High Efficiency Whole Home Electrification    34.6\n",
       "Basic Enclosure + High Efficiency Whole Home Electrification       34.2\n",
       "Enhanced Enclosure + HPWH + High Efficiency HP/Electric Backup     33.1\n",
       "Basic Enclosure + HPWH + High Efficiency HP/Electric Backup        32.6\n",
       "High Efficiency Whole Home Electrification                         32.1\n",
       "High Efficiency Heat Pump with Electric Heat Backup                22.4\n",
       "Mininum Efficiency Whole Home Electrification                      16.1\n",
       "Mininum Efficiency Heat Pump with Electric Heat Backup             11.5\n",
       "Mininum Efficiency Heat Pump with Existing Heat Backup             10.1\n",
       "Enhanced Enclosure                                                  8.7\n",
       "Basic Enclosure                                                     7.0\n",
       "Heat Pump Water Heater                                              6.5\n",
       "Electric Cooking                                                    1.9\n",
       "Heat Pump Clothes Dryer                                             1.2\n",
       "Induction Cooking                                                   0.5\n",
       "Electric Clothes Dryer                                              0.4\n",
       "Name: saving_energy.total_mmbtu, dtype: float64"
      ]
     },
     "metadata": {},
     "output_type": "display_data"
    },
    {
     "name": "stdout",
     "output_type": "stream",
     "text": [
      "segment4\n"
     ]
    },
    {
     "data": {
      "text/plain": [
       "upgrade_name\n",
       "Enhanced Enclosure + High Efficiency Whole Home Electrification    14.3\n",
       "Basic Enclosure + High Efficiency Whole Home Electrification       13.7\n",
       "Enhanced Enclosure + HPWH + High Efficiency HP/Electric Backup     13.3\n",
       "High Efficiency Whole Home Electrification                         13.1\n",
       "Basic Enclosure + HPWH + High Efficiency HP/Electric Backup        12.7\n",
       "High Efficiency Heat Pump with Electric Heat Backup                 7.0\n",
       "Mininum Efficiency Whole Home Electrification                       4.6\n",
       "Heat Pump Water Heater                                              4.4\n",
       "Enhanced Enclosure                                                  2.9\n",
       "Mininum Efficiency Heat Pump with Electric Heat Backup              2.5\n",
       "Mininum Efficiency Heat Pump with Existing Heat Backup              2.4\n",
       "Basic Enclosure                                                     1.8\n",
       "Electric Cooking                                                    1.5\n",
       "Heat Pump Clothes Dryer                                             0.9\n",
       "Electric Clothes Dryer                                              0.6\n",
       "Induction Cooking                                                   0.3\n",
       "Name: saving_energy.total_mmbtu, dtype: float64"
      ]
     },
     "metadata": {},
     "output_type": "display_data"
    }
   ],
   "source": [
    "indicator ='saving_energy.total_mmbtu'\n",
    "results = segment_mean_savings(indicator, community_results) \n",
    "saving_results[f'segment1_{income}_saving_energy_mean_mmbtu'] = results[0]\n",
    "saving_results[f'segment2_{income}_saving_energy_mean_mmbtu'] = results[1]\n",
    "saving_results[f'segment3_{income}_saving_energy_mean_mmbtu'] = results[2]\n",
    "saving_results[f'segment4_{income}_saving_energy_mean_mmbtu'] = results[3]"
   ]
  },
  {
   "cell_type": "markdown",
   "id": "6d99e632",
   "metadata": {},
   "source": [
    "### Annual Percentage Energy Savings Per Dwelling Unit"
   ]
  },
  {
   "cell_type": "code",
   "execution_count": 30,
   "id": "ae160b7b",
   "metadata": {},
   "outputs": [
    {
     "name": "stdout",
     "output_type": "stream",
     "text": [
      "segment1\n"
     ]
    },
    {
     "data": {
      "text/plain": [
       "upgrade_name\n",
       "Enhanced Enclosure + High Efficiency Whole Home Electrification    62.2\n",
       "Basic Enclosure + High Efficiency Whole Home Electrification       61.6\n",
       "Enhanced Enclosure + HPWH + High Efficiency HP/Electric Backup     60.4\n",
       "Basic Enclosure + HPWH + High Efficiency HP/Electric Backup        59.8\n",
       "High Efficiency Whole Home Electrification                         55.5\n",
       "High Efficiency Heat Pump with Electric Heat Backup                44.1\n",
       "Mininum Efficiency Whole Home Electrification                      35.0\n",
       "Enhanced Enclosure                                                 27.3\n",
       "Mininum Efficiency Heat Pump with Electric Heat Backup             27.0\n",
       "Basic Enclosure                                                    23.8\n",
       "Mininum Efficiency Heat Pump with Existing Heat Backup             20.8\n",
       "Heat Pump Water Heater                                              7.4\n",
       "Electric Cooking                                                    1.7\n",
       "Heat Pump Clothes Dryer                                             1.2\n",
       "Induction Cooking                                                   0.6\n",
       "Electric Clothes Dryer                                              0.4\n",
       "Name: pct_saving_energy.total_%, dtype: float64"
      ]
     },
     "metadata": {},
     "output_type": "display_data"
    },
    {
     "name": "stdout",
     "output_type": "stream",
     "text": [
      "segment2\n"
     ]
    },
    {
     "data": {
      "text/plain": [
       "upgrade_name\n",
       "Enhanced Enclosure + High Efficiency Whole Home Electrification    43.7\n",
       "Basic Enclosure + High Efficiency Whole Home Electrification       42.9\n",
       "Enhanced Enclosure + HPWH + High Efficiency HP/Electric Backup     40.9\n",
       "Basic Enclosure + HPWH + High Efficiency HP/Electric Backup        40.1\n",
       "High Efficiency Whole Home Electrification                         39.9\n",
       "High Efficiency Heat Pump with Electric Heat Backup                25.8\n",
       "Enhanced Enclosure                                                 10.7\n",
       "Mininum Efficiency Heat Pump with Electric Heat Backup             10.4\n",
       "Mininum Efficiency Heat Pump with Existing Heat Backup              9.6\n",
       "Mininum Efficiency Whole Home Electrification                       9.2\n",
       "Heat Pump Water Heater                                              8.9\n",
       "Basic Enclosure                                                     8.5\n",
       "Electric Cooking                                                    4.5\n",
       "Heat Pump Clothes Dryer                                             2.2\n",
       "Induction Cooking                                                   1.1\n",
       "Electric Clothes Dryer                                              1.1\n",
       "Name: pct_saving_energy.total_%, dtype: float64"
      ]
     },
     "metadata": {},
     "output_type": "display_data"
    },
    {
     "name": "stdout",
     "output_type": "stream",
     "text": [
      "segment3\n"
     ]
    },
    {
     "data": {
      "text/plain": [
       "upgrade_name\n",
       "Enhanced Enclosure + High Efficiency Whole Home Electrification    47.0\n",
       "Basic Enclosure + High Efficiency Whole Home Electrification       46.6\n",
       "Enhanced Enclosure + HPWH + High Efficiency HP/Electric Backup     44.9\n",
       "Basic Enclosure + HPWH + High Efficiency HP/Electric Backup        44.4\n",
       "High Efficiency Whole Home Electrification                         43.6\n",
       "High Efficiency Heat Pump with Electric Heat Backup                30.5\n",
       "Mininum Efficiency Whole Home Electrification                      20.5\n",
       "Mininum Efficiency Heat Pump with Electric Heat Backup             15.3\n",
       "Mininum Efficiency Heat Pump with Existing Heat Backup             13.4\n",
       "Enhanced Enclosure                                                 11.6\n",
       "Basic Enclosure                                                     9.6\n",
       "Heat Pump Water Heater                                              8.8\n",
       "Electric Cooking                                                    2.6\n",
       "Heat Pump Clothes Dryer                                             1.6\n",
       "Induction Cooking                                                   0.6\n",
       "Electric Clothes Dryer                                              0.5\n",
       "Name: pct_saving_energy.total_%, dtype: float64"
      ]
     },
     "metadata": {},
     "output_type": "display_data"
    },
    {
     "name": "stdout",
     "output_type": "stream",
     "text": [
      "segment4\n"
     ]
    },
    {
     "data": {
      "text/plain": [
       "upgrade_name\n",
       "Enhanced Enclosure + High Efficiency Whole Home Electrification    39.2\n",
       "Basic Enclosure + High Efficiency Whole Home Electrification       38.1\n",
       "High Efficiency Whole Home Electrification                         36.4\n",
       "Enhanced Enclosure + HPWH + High Efficiency HP/Electric Backup     36.3\n",
       "Basic Enclosure + HPWH + High Efficiency HP/Electric Backup        35.2\n",
       "High Efficiency Heat Pump with Electric Heat Backup                19.3\n",
       "Mininum Efficiency Whole Home Electrification                      12.9\n",
       "Heat Pump Water Heater                                             12.2\n",
       "Enhanced Enclosure                                                  6.9\n",
       "Mininum Efficiency Heat Pump with Electric Heat Backup              6.3\n",
       "Mininum Efficiency Heat Pump with Existing Heat Backup              6.1\n",
       "Basic Enclosure                                                     5.0\n",
       "Electric Cooking                                                    4.7\n",
       "Heat Pump Clothes Dryer                                             2.4\n",
       "Electric Clothes Dryer                                              1.7\n",
       "Induction Cooking                                                   1.1\n",
       "Name: pct_saving_energy.total_%, dtype: float64"
      ]
     },
     "metadata": {},
     "output_type": "display_data"
    }
   ],
   "source": [
    "indicator ='pct_saving_energy.total_%'\n",
    "results = segment_mean_savings(indicator, community_results)\n",
    "saving_results[f'segment1_{income}_pct_saving_energy_mean_%'] = results[0]\n",
    "saving_results[f'segment2_{income}_pct_saving_energy_mean_%'] = results[1]\n",
    "saving_results[f'segment3_{income}_pct_saving_energy_mean_%'] = results[2]\n",
    "saving_results[f'segment4_{income}_pct_saving_energy_mean_%'] = results[3]"
   ]
  },
  {
   "cell_type": "markdown",
   "id": "4c18ce08",
   "metadata": {},
   "source": [
    "### Annual Emission Savings Per Dwelling Unit"
   ]
  },
  {
   "cell_type": "code",
   "execution_count": 31,
   "id": "a310fa8d",
   "metadata": {},
   "outputs": [
    {
     "name": "stdout",
     "output_type": "stream",
     "text": [
      "segment1\n"
     ]
    },
    {
     "data": {
      "text/plain": [
       "upgrade_name\n",
       "Enhanced Enclosure + High Efficiency Whole Home Electrification    4339.1\n",
       "Basic Enclosure + High Efficiency Whole Home Electrification       4283.9\n",
       "Enhanced Enclosure + HPWH + High Efficiency HP/Electric Backup     4228.2\n",
       "Basic Enclosure + HPWH + High Efficiency HP/Electric Backup        4173.0\n",
       "High Efficiency Whole Home Electrification                         3840.1\n",
       "High Efficiency Heat Pump with Electric Heat Backup                3092.6\n",
       "Mininum Efficiency Whole Home Electrification                      2337.8\n",
       "Enhanced Enclosure                                                 1941.9\n",
       "Mininum Efficiency Heat Pump with Electric Heat Backup             1850.4\n",
       "Basic Enclosure                                                    1688.9\n",
       "Mininum Efficiency Heat Pump with Existing Heat Backup             1487.5\n",
       "Heat Pump Water Heater                                              471.0\n",
       "Electric Cooking                                                    110.4\n",
       "Heat Pump Clothes Dryer                                              72.2\n",
       "Induction Cooking                                                    40.8\n",
       "Electric Clothes Dryer                                               25.1\n",
       "Name: saving_emission.total_kgCO2e, dtype: float64"
      ]
     },
     "metadata": {},
     "output_type": "display_data"
    },
    {
     "name": "stdout",
     "output_type": "stream",
     "text": [
      "segment2\n"
     ]
    },
    {
     "data": {
      "text/plain": [
       "upgrade_name\n",
       "Enhanced Enclosure + High Efficiency Whole Home Electrification    1284.0\n",
       "Basic Enclosure + High Efficiency Whole Home Electrification       1256.2\n",
       "Enhanced Enclosure + HPWH + High Efficiency HP/Electric Backup     1216.3\n",
       "Basic Enclosure + HPWH + High Efficiency HP/Electric Backup        1188.5\n",
       "High Efficiency Whole Home Electrification                         1162.7\n",
       "High Efficiency Heat Pump with Electric Heat Backup                 798.3\n",
       "Mininum Efficiency Heat Pump with Electric Heat Backup              349.5\n",
       "Enhanced Enclosure                                                  340.2\n",
       "Mininum Efficiency Heat Pump with Existing Heat Backup              330.2\n",
       "Basic Enclosure                                                     267.8\n",
       "Mininum Efficiency Whole Home Electrification                       245.9\n",
       "Heat Pump Water Heater                                              224.9\n",
       "Electric Cooking                                                    104.7\n",
       "Heat Pump Clothes Dryer                                              54.8\n",
       "Induction Cooking                                                    26.9\n",
       "Electric Clothes Dryer                                               16.2\n",
       "Name: saving_emission.total_kgCO2e, dtype: float64"
      ]
     },
     "metadata": {},
     "output_type": "display_data"
    },
    {
     "name": "stdout",
     "output_type": "stream",
     "text": [
      "segment3\n"
     ]
    },
    {
     "data": {
      "text/plain": [
       "upgrade_name\n",
       "Enhanced Enclosure + High Efficiency Whole Home Electrification    2687.3\n",
       "Basic Enclosure + High Efficiency Whole Home Electrification       2648.8\n",
       "Enhanced Enclosure + HPWH + High Efficiency HP/Electric Backup     2580.3\n",
       "Basic Enclosure + HPWH + High Efficiency HP/Electric Backup        2541.8\n",
       "High Efficiency Whole Home Electrification                         2480.3\n",
       "High Efficiency Heat Pump with Electric Heat Backup                1800.9\n",
       "Mininum Efficiency Whole Home Electrification                      1002.3\n",
       "Mininum Efficiency Heat Pump with Electric Heat Backup              920.8\n",
       "Mininum Efficiency Heat Pump with Existing Heat Backup              845.1\n",
       "Enhanced Enclosure                                                  700.6\n",
       "Basic Enclosure                                                     552.4\n",
       "Heat Pump Water Heater                                              444.1\n",
       "Electric Cooking                                                    125.2\n",
       "Heat Pump Clothes Dryer                                              79.9\n",
       "Induction Cooking                                                    31.9\n",
       "Electric Clothes Dryer                                               23.5\n",
       "Name: saving_emission.total_kgCO2e, dtype: float64"
      ]
     },
     "metadata": {},
     "output_type": "display_data"
    },
    {
     "name": "stdout",
     "output_type": "stream",
     "text": [
      "segment4\n"
     ]
    },
    {
     "data": {
      "text/plain": [
       "upgrade_name\n",
       "Enhanced Enclosure + High Efficiency Whole Home Electrification    1101.6\n",
       "Basic Enclosure + High Efficiency Whole Home Electrification       1060.0\n",
       "Enhanced Enclosure + HPWH + High Efficiency HP/Electric Backup     1033.5\n",
       "High Efficiency Whole Home Electrification                         1010.7\n",
       "Basic Enclosure + HPWH + High Efficiency HP/Electric Backup         991.9\n",
       "High Efficiency Heat Pump with Electric Heat Backup                 568.9\n",
       "Heat Pump Water Heater                                              311.3\n",
       "Mininum Efficiency Whole Home Electrification                       295.6\n",
       "Enhanced Enclosure                                                  226.1\n",
       "Mininum Efficiency Heat Pump with Electric Heat Backup              208.5\n",
       "Mininum Efficiency Heat Pump with Existing Heat Backup              207.3\n",
       "Basic Enclosure                                                     150.1\n",
       "Electric Cooking                                                    104.7\n",
       "Electric Clothes Dryer                                               59.0\n",
       "Heat Pump Clothes Dryer                                              59.0\n",
       "Induction Cooking                                                    23.9\n",
       "Name: saving_emission.total_kgCO2e, dtype: float64"
      ]
     },
     "metadata": {},
     "output_type": "display_data"
    }
   ],
   "source": [
    "indicator ='saving_emission.total_kgCO2e'\n",
    "results = segment_mean_savings(indicator, community_results)\n",
    "saving_results[f'segment1_{income}_saving_emission_mean_kgCO2e'] = results[0]\n",
    "saving_results[f'segment2_{income}_saving_emission_mean_kgCO2e'] = results[1]\n",
    "saving_results[f'segment3_{income}_saving_emission_mean_kgCO2e'] = results[2]\n",
    "saving_results[f'segment4_{income}_saving_emission_mean_kgCO2e'] = results[3]"
   ]
  },
  {
   "cell_type": "markdown",
   "id": "ebaaed40",
   "metadata": {},
   "source": [
    "## 2.5. Pecent Stock with Positive and Negtive Savings"
   ]
  },
  {
   "cell_type": "markdown",
   "id": "2660dc7b",
   "metadata": {},
   "source": [
    "### Segment 1"
   ]
  },
  {
   "cell_type": "code",
   "execution_count": 32,
   "id": "361be888",
   "metadata": {},
   "outputs": [
    {
     "data": {
      "application/vnd.plotly.v1+json": {
       "config": {
        "plotlyServerURL": "https://plot.ly"
       },
       "data": [
        {
         "marker": {
          "color": "red"
         },
         "name": "Negative",
         "orientation": "h",
         "text": [
          1,
          0.8918918918918919,
          0.24615384615384617,
          0.189873417721519,
          0.05263157894736842,
          0.045112781954887216,
          0.022727272727272728,
          0,
          0,
          0,
          0,
          0,
          0,
          0,
          0,
          0
         ],
         "textposition": "inside",
         "texttemplate": "%{text:.0%}",
         "type": "bar",
         "x": [
          1,
          0.8918918918918919,
          0.24615384615384617,
          0.189873417721519,
          0.05263157894736842,
          0.045112781954887216,
          0.022727272727272728,
          0,
          0,
          0,
          0,
          0,
          0,
          0,
          0,
          0
         ],
         "xaxis": "x",
         "y": [
          "Electric Clothes Dryer",
          "Electric Cooking",
          "Induction Cooking",
          "Mininum Efficiency Whole Home Electrification",
          "Mininum Efficiency Heat Pump with Existing Heat Backup",
          "Mininum Efficiency Heat Pump with Electric Heat Backup",
          "Heat Pump Water Heater",
          "Basic Enclosure",
          "Basic Enclosure + HPWH + High Efficiency HP/Electric Backup",
          "Basic Enclosure + High Efficiency Whole Home Electrification",
          "Enhanced Enclosure",
          "Enhanced Enclosure + HPWH + High Efficiency HP/Electric Backup",
          "Enhanced Enclosure + High Efficiency Whole Home Electrification",
          "Heat Pump Clothes Dryer",
          "High Efficiency Heat Pump with Electric Heat Backup",
          "High Efficiency Whole Home Electrification"
         ],
         "yaxis": "y"
        },
        {
         "marker": {
          "color": "green"
         },
         "name": "Positive",
         "orientation": "h",
         "text": [
          0,
          0.10810810810810811,
          0.7538461538461538,
          0.810126582278481,
          0.9473684210526315,
          0.9548872180451128,
          0.9772727272727273,
          1,
          1,
          1,
          1,
          1,
          1,
          1,
          1,
          1
         ],
         "textposition": "inside",
         "texttemplate": "%{text:.0%}",
         "type": "bar",
         "x": [
          0,
          0.10810810810810811,
          0.7538461538461538,
          0.810126582278481,
          0.9473684210526315,
          0.9548872180451128,
          0.9772727272727273,
          1,
          1,
          1,
          1,
          1,
          1,
          1,
          1,
          1
         ],
         "xaxis": "x",
         "y": [
          "Electric Clothes Dryer",
          "Electric Cooking",
          "Induction Cooking",
          "Mininum Efficiency Whole Home Electrification",
          "Mininum Efficiency Heat Pump with Existing Heat Backup",
          "Mininum Efficiency Heat Pump with Electric Heat Backup",
          "Heat Pump Water Heater",
          "Basic Enclosure",
          "Basic Enclosure + HPWH + High Efficiency HP/Electric Backup",
          "Basic Enclosure + High Efficiency Whole Home Electrification",
          "Enhanced Enclosure",
          "Enhanced Enclosure + HPWH + High Efficiency HP/Electric Backup",
          "Enhanced Enclosure + High Efficiency Whole Home Electrification",
          "Heat Pump Clothes Dryer",
          "High Efficiency Heat Pump with Electric Heat Backup",
          "High Efficiency Whole Home Electrification"
         ],
         "yaxis": "y"
        },
        {
         "marker": {
          "color": "red"
         },
         "orientation": "h",
         "showlegend": false,
         "text": [
          0,
          0,
          0,
          0,
          0.015037593984962405,
          0,
          0,
          0,
          0,
          0,
          0,
          0,
          0,
          0,
          0,
          0
         ],
         "textposition": "inside",
         "texttemplate": "%{text:.0%}",
         "type": "bar",
         "x": [
          0,
          0,
          0,
          0,
          0.015037593984962405,
          0,
          0,
          0,
          0,
          0,
          0,
          0,
          0,
          0,
          0,
          0
         ],
         "xaxis": "x2",
         "y": [
          "Electric Clothes Dryer",
          "Electric Cooking",
          "Induction Cooking",
          "Mininum Efficiency Whole Home Electrification",
          "Mininum Efficiency Heat Pump with Existing Heat Backup",
          "Mininum Efficiency Heat Pump with Electric Heat Backup",
          "Heat Pump Water Heater",
          "Basic Enclosure",
          "Basic Enclosure + HPWH + High Efficiency HP/Electric Backup",
          "Basic Enclosure + High Efficiency Whole Home Electrification",
          "Enhanced Enclosure",
          "Enhanced Enclosure + HPWH + High Efficiency HP/Electric Backup",
          "Enhanced Enclosure + High Efficiency Whole Home Electrification",
          "Heat Pump Clothes Dryer",
          "High Efficiency Heat Pump with Electric Heat Backup",
          "High Efficiency Whole Home Electrification"
         ],
         "yaxis": "y2"
        },
        {
         "marker": {
          "color": "green"
         },
         "orientation": "h",
         "showlegend": false,
         "text": [
          1,
          1,
          1,
          1,
          0.9849624060150376,
          1,
          1,
          1,
          1,
          1,
          1,
          1,
          1,
          1,
          1,
          1
         ],
         "textposition": "inside",
         "texttemplate": "%{text:.0%}",
         "type": "bar",
         "x": [
          1,
          1,
          1,
          1,
          0.9849624060150376,
          1,
          1,
          1,
          1,
          1,
          1,
          1,
          1,
          1,
          1,
          1
         ],
         "xaxis": "x2",
         "y": [
          "Electric Clothes Dryer",
          "Electric Cooking",
          "Induction Cooking",
          "Mininum Efficiency Whole Home Electrification",
          "Mininum Efficiency Heat Pump with Existing Heat Backup",
          "Mininum Efficiency Heat Pump with Electric Heat Backup",
          "Heat Pump Water Heater",
          "Basic Enclosure",
          "Basic Enclosure + HPWH + High Efficiency HP/Electric Backup",
          "Basic Enclosure + High Efficiency Whole Home Electrification",
          "Enhanced Enclosure",
          "Enhanced Enclosure + HPWH + High Efficiency HP/Electric Backup",
          "Enhanced Enclosure + High Efficiency Whole Home Electrification",
          "Heat Pump Clothes Dryer",
          "High Efficiency Heat Pump with Electric Heat Backup",
          "High Efficiency Whole Home Electrification"
         ],
         "yaxis": "y2"
        },
        {
         "marker": {
          "color": "red"
         },
         "orientation": "h",
         "showlegend": false,
         "text": [
          0,
          0,
          0,
          0,
          0.015037593984962405,
          0,
          0,
          0,
          0,
          0,
          0,
          0,
          0,
          0,
          0,
          0
         ],
         "textposition": "inside",
         "texttemplate": "%{text:.0%}",
         "type": "bar",
         "x": [
          0,
          0,
          0,
          0,
          0.015037593984962405,
          0,
          0,
          0,
          0,
          0,
          0,
          0,
          0,
          0,
          0,
          0
         ],
         "xaxis": "x3",
         "y": [
          "Electric Clothes Dryer",
          "Electric Cooking",
          "Induction Cooking",
          "Mininum Efficiency Whole Home Electrification",
          "Mininum Efficiency Heat Pump with Existing Heat Backup",
          "Mininum Efficiency Heat Pump with Electric Heat Backup",
          "Heat Pump Water Heater",
          "Basic Enclosure",
          "Basic Enclosure + HPWH + High Efficiency HP/Electric Backup",
          "Basic Enclosure + High Efficiency Whole Home Electrification",
          "Enhanced Enclosure",
          "Enhanced Enclosure + HPWH + High Efficiency HP/Electric Backup",
          "Enhanced Enclosure + High Efficiency Whole Home Electrification",
          "Heat Pump Clothes Dryer",
          "High Efficiency Heat Pump with Electric Heat Backup",
          "High Efficiency Whole Home Electrification"
         ],
         "yaxis": "y3"
        },
        {
         "marker": {
          "color": "green"
         },
         "orientation": "h",
         "showlegend": false,
         "text": [
          1,
          1,
          1,
          1,
          0.9849624060150376,
          1,
          1,
          1,
          1,
          1,
          1,
          1,
          1,
          1,
          1,
          1
         ],
         "textposition": "inside",
         "texttemplate": "%{text:.0%}",
         "type": "bar",
         "x": [
          1,
          1,
          1,
          1,
          0.9849624060150376,
          1,
          1,
          1,
          1,
          1,
          1,
          1,
          1,
          1,
          1,
          1
         ],
         "xaxis": "x3",
         "y": [
          "Electric Clothes Dryer",
          "Electric Cooking",
          "Induction Cooking",
          "Mininum Efficiency Whole Home Electrification",
          "Mininum Efficiency Heat Pump with Existing Heat Backup",
          "Mininum Efficiency Heat Pump with Electric Heat Backup",
          "Heat Pump Water Heater",
          "Basic Enclosure",
          "Basic Enclosure + HPWH + High Efficiency HP/Electric Backup",
          "Basic Enclosure + High Efficiency Whole Home Electrification",
          "Enhanced Enclosure",
          "Enhanced Enclosure + HPWH + High Efficiency HP/Electric Backup",
          "Enhanced Enclosure + High Efficiency Whole Home Electrification",
          "Heat Pump Clothes Dryer",
          "High Efficiency Heat Pump with Electric Heat Backup",
          "High Efficiency Whole Home Electrification"
         ],
         "yaxis": "y3"
        }
       ],
       "layout": {
        "autosize": false,
        "barmode": "relative",
        "font": {
         "size": 10
        },
        "height": 500,
        "template": {
         "data": {
          "bar": [
           {
            "error_x": {
             "color": "#2a3f5f"
            },
            "error_y": {
             "color": "#2a3f5f"
            },
            "marker": {
             "line": {
              "color": "#E5ECF6",
              "width": 0.5
             },
             "pattern": {
              "fillmode": "overlay",
              "size": 10,
              "solidity": 0.2
             }
            },
            "type": "bar"
           }
          ],
          "barpolar": [
           {
            "marker": {
             "line": {
              "color": "#E5ECF6",
              "width": 0.5
             },
             "pattern": {
              "fillmode": "overlay",
              "size": 10,
              "solidity": 0.2
             }
            },
            "type": "barpolar"
           }
          ],
          "carpet": [
           {
            "aaxis": {
             "endlinecolor": "#2a3f5f",
             "gridcolor": "white",
             "linecolor": "white",
             "minorgridcolor": "white",
             "startlinecolor": "#2a3f5f"
            },
            "baxis": {
             "endlinecolor": "#2a3f5f",
             "gridcolor": "white",
             "linecolor": "white",
             "minorgridcolor": "white",
             "startlinecolor": "#2a3f5f"
            },
            "type": "carpet"
           }
          ],
          "choropleth": [
           {
            "colorbar": {
             "outlinewidth": 0,
             "ticks": ""
            },
            "type": "choropleth"
           }
          ],
          "contour": [
           {
            "colorbar": {
             "outlinewidth": 0,
             "ticks": ""
            },
            "colorscale": [
             [
              0,
              "#0d0887"
             ],
             [
              0.1111111111111111,
              "#46039f"
             ],
             [
              0.2222222222222222,
              "#7201a8"
             ],
             [
              0.3333333333333333,
              "#9c179e"
             ],
             [
              0.4444444444444444,
              "#bd3786"
             ],
             [
              0.5555555555555556,
              "#d8576b"
             ],
             [
              0.6666666666666666,
              "#ed7953"
             ],
             [
              0.7777777777777778,
              "#fb9f3a"
             ],
             [
              0.8888888888888888,
              "#fdca26"
             ],
             [
              1,
              "#f0f921"
             ]
            ],
            "type": "contour"
           }
          ],
          "contourcarpet": [
           {
            "colorbar": {
             "outlinewidth": 0,
             "ticks": ""
            },
            "type": "contourcarpet"
           }
          ],
          "heatmap": [
           {
            "colorbar": {
             "outlinewidth": 0,
             "ticks": ""
            },
            "colorscale": [
             [
              0,
              "#0d0887"
             ],
             [
              0.1111111111111111,
              "#46039f"
             ],
             [
              0.2222222222222222,
              "#7201a8"
             ],
             [
              0.3333333333333333,
              "#9c179e"
             ],
             [
              0.4444444444444444,
              "#bd3786"
             ],
             [
              0.5555555555555556,
              "#d8576b"
             ],
             [
              0.6666666666666666,
              "#ed7953"
             ],
             [
              0.7777777777777778,
              "#fb9f3a"
             ],
             [
              0.8888888888888888,
              "#fdca26"
             ],
             [
              1,
              "#f0f921"
             ]
            ],
            "type": "heatmap"
           }
          ],
          "heatmapgl": [
           {
            "colorbar": {
             "outlinewidth": 0,
             "ticks": ""
            },
            "colorscale": [
             [
              0,
              "#0d0887"
             ],
             [
              0.1111111111111111,
              "#46039f"
             ],
             [
              0.2222222222222222,
              "#7201a8"
             ],
             [
              0.3333333333333333,
              "#9c179e"
             ],
             [
              0.4444444444444444,
              "#bd3786"
             ],
             [
              0.5555555555555556,
              "#d8576b"
             ],
             [
              0.6666666666666666,
              "#ed7953"
             ],
             [
              0.7777777777777778,
              "#fb9f3a"
             ],
             [
              0.8888888888888888,
              "#fdca26"
             ],
             [
              1,
              "#f0f921"
             ]
            ],
            "type": "heatmapgl"
           }
          ],
          "histogram": [
           {
            "marker": {
             "pattern": {
              "fillmode": "overlay",
              "size": 10,
              "solidity": 0.2
             }
            },
            "type": "histogram"
           }
          ],
          "histogram2d": [
           {
            "colorbar": {
             "outlinewidth": 0,
             "ticks": ""
            },
            "colorscale": [
             [
              0,
              "#0d0887"
             ],
             [
              0.1111111111111111,
              "#46039f"
             ],
             [
              0.2222222222222222,
              "#7201a8"
             ],
             [
              0.3333333333333333,
              "#9c179e"
             ],
             [
              0.4444444444444444,
              "#bd3786"
             ],
             [
              0.5555555555555556,
              "#d8576b"
             ],
             [
              0.6666666666666666,
              "#ed7953"
             ],
             [
              0.7777777777777778,
              "#fb9f3a"
             ],
             [
              0.8888888888888888,
              "#fdca26"
             ],
             [
              1,
              "#f0f921"
             ]
            ],
            "type": "histogram2d"
           }
          ],
          "histogram2dcontour": [
           {
            "colorbar": {
             "outlinewidth": 0,
             "ticks": ""
            },
            "colorscale": [
             [
              0,
              "#0d0887"
             ],
             [
              0.1111111111111111,
              "#46039f"
             ],
             [
              0.2222222222222222,
              "#7201a8"
             ],
             [
              0.3333333333333333,
              "#9c179e"
             ],
             [
              0.4444444444444444,
              "#bd3786"
             ],
             [
              0.5555555555555556,
              "#d8576b"
             ],
             [
              0.6666666666666666,
              "#ed7953"
             ],
             [
              0.7777777777777778,
              "#fb9f3a"
             ],
             [
              0.8888888888888888,
              "#fdca26"
             ],
             [
              1,
              "#f0f921"
             ]
            ],
            "type": "histogram2dcontour"
           }
          ],
          "mesh3d": [
           {
            "colorbar": {
             "outlinewidth": 0,
             "ticks": ""
            },
            "type": "mesh3d"
           }
          ],
          "parcoords": [
           {
            "line": {
             "colorbar": {
              "outlinewidth": 0,
              "ticks": ""
             }
            },
            "type": "parcoords"
           }
          ],
          "pie": [
           {
            "automargin": true,
            "type": "pie"
           }
          ],
          "scatter": [
           {
            "fillpattern": {
             "fillmode": "overlay",
             "size": 10,
             "solidity": 0.2
            },
            "type": "scatter"
           }
          ],
          "scatter3d": [
           {
            "line": {
             "colorbar": {
              "outlinewidth": 0,
              "ticks": ""
             }
            },
            "marker": {
             "colorbar": {
              "outlinewidth": 0,
              "ticks": ""
             }
            },
            "type": "scatter3d"
           }
          ],
          "scattercarpet": [
           {
            "marker": {
             "colorbar": {
              "outlinewidth": 0,
              "ticks": ""
             }
            },
            "type": "scattercarpet"
           }
          ],
          "scattergeo": [
           {
            "marker": {
             "colorbar": {
              "outlinewidth": 0,
              "ticks": ""
             }
            },
            "type": "scattergeo"
           }
          ],
          "scattergl": [
           {
            "marker": {
             "colorbar": {
              "outlinewidth": 0,
              "ticks": ""
             }
            },
            "type": "scattergl"
           }
          ],
          "scattermapbox": [
           {
            "marker": {
             "colorbar": {
              "outlinewidth": 0,
              "ticks": ""
             }
            },
            "type": "scattermapbox"
           }
          ],
          "scatterpolar": [
           {
            "marker": {
             "colorbar": {
              "outlinewidth": 0,
              "ticks": ""
             }
            },
            "type": "scatterpolar"
           }
          ],
          "scatterpolargl": [
           {
            "marker": {
             "colorbar": {
              "outlinewidth": 0,
              "ticks": ""
             }
            },
            "type": "scatterpolargl"
           }
          ],
          "scatterternary": [
           {
            "marker": {
             "colorbar": {
              "outlinewidth": 0,
              "ticks": ""
             }
            },
            "type": "scatterternary"
           }
          ],
          "surface": [
           {
            "colorbar": {
             "outlinewidth": 0,
             "ticks": ""
            },
            "colorscale": [
             [
              0,
              "#0d0887"
             ],
             [
              0.1111111111111111,
              "#46039f"
             ],
             [
              0.2222222222222222,
              "#7201a8"
             ],
             [
              0.3333333333333333,
              "#9c179e"
             ],
             [
              0.4444444444444444,
              "#bd3786"
             ],
             [
              0.5555555555555556,
              "#d8576b"
             ],
             [
              0.6666666666666666,
              "#ed7953"
             ],
             [
              0.7777777777777778,
              "#fb9f3a"
             ],
             [
              0.8888888888888888,
              "#fdca26"
             ],
             [
              1,
              "#f0f921"
             ]
            ],
            "type": "surface"
           }
          ],
          "table": [
           {
            "cells": {
             "fill": {
              "color": "#EBF0F8"
             },
             "line": {
              "color": "white"
             }
            },
            "header": {
             "fill": {
              "color": "#C8D4E3"
             },
             "line": {
              "color": "white"
             }
            },
            "type": "table"
           }
          ]
         },
         "layout": {
          "annotationdefaults": {
           "arrowcolor": "#2a3f5f",
           "arrowhead": 0,
           "arrowwidth": 1
          },
          "autotypenumbers": "strict",
          "coloraxis": {
           "colorbar": {
            "outlinewidth": 0,
            "ticks": ""
           }
          },
          "colorscale": {
           "diverging": [
            [
             0,
             "#8e0152"
            ],
            [
             0.1,
             "#c51b7d"
            ],
            [
             0.2,
             "#de77ae"
            ],
            [
             0.3,
             "#f1b6da"
            ],
            [
             0.4,
             "#fde0ef"
            ],
            [
             0.5,
             "#f7f7f7"
            ],
            [
             0.6,
             "#e6f5d0"
            ],
            [
             0.7,
             "#b8e186"
            ],
            [
             0.8,
             "#7fbc41"
            ],
            [
             0.9,
             "#4d9221"
            ],
            [
             1,
             "#276419"
            ]
           ],
           "sequential": [
            [
             0,
             "#0d0887"
            ],
            [
             0.1111111111111111,
             "#46039f"
            ],
            [
             0.2222222222222222,
             "#7201a8"
            ],
            [
             0.3333333333333333,
             "#9c179e"
            ],
            [
             0.4444444444444444,
             "#bd3786"
            ],
            [
             0.5555555555555556,
             "#d8576b"
            ],
            [
             0.6666666666666666,
             "#ed7953"
            ],
            [
             0.7777777777777778,
             "#fb9f3a"
            ],
            [
             0.8888888888888888,
             "#fdca26"
            ],
            [
             1,
             "#f0f921"
            ]
           ],
           "sequentialminus": [
            [
             0,
             "#0d0887"
            ],
            [
             0.1111111111111111,
             "#46039f"
            ],
            [
             0.2222222222222222,
             "#7201a8"
            ],
            [
             0.3333333333333333,
             "#9c179e"
            ],
            [
             0.4444444444444444,
             "#bd3786"
            ],
            [
             0.5555555555555556,
             "#d8576b"
            ],
            [
             0.6666666666666666,
             "#ed7953"
            ],
            [
             0.7777777777777778,
             "#fb9f3a"
            ],
            [
             0.8888888888888888,
             "#fdca26"
            ],
            [
             1,
             "#f0f921"
            ]
           ]
          },
          "colorway": [
           "#636efa",
           "#EF553B",
           "#00cc96",
           "#ab63fa",
           "#FFA15A",
           "#19d3f3",
           "#FF6692",
           "#B6E880",
           "#FF97FF",
           "#FECB52"
          ],
          "font": {
           "color": "#2a3f5f"
          },
          "geo": {
           "bgcolor": "white",
           "lakecolor": "white",
           "landcolor": "#E5ECF6",
           "showlakes": true,
           "showland": true,
           "subunitcolor": "white"
          },
          "hoverlabel": {
           "align": "left"
          },
          "hovermode": "closest",
          "mapbox": {
           "style": "light"
          },
          "paper_bgcolor": "white",
          "plot_bgcolor": "#E5ECF6",
          "polar": {
           "angularaxis": {
            "gridcolor": "white",
            "linecolor": "white",
            "ticks": ""
           },
           "bgcolor": "#E5ECF6",
           "radialaxis": {
            "gridcolor": "white",
            "linecolor": "white",
            "ticks": ""
           }
          },
          "scene": {
           "xaxis": {
            "backgroundcolor": "#E5ECF6",
            "gridcolor": "white",
            "gridwidth": 2,
            "linecolor": "white",
            "showbackground": true,
            "ticks": "",
            "zerolinecolor": "white"
           },
           "yaxis": {
            "backgroundcolor": "#E5ECF6",
            "gridcolor": "white",
            "gridwidth": 2,
            "linecolor": "white",
            "showbackground": true,
            "ticks": "",
            "zerolinecolor": "white"
           },
           "zaxis": {
            "backgroundcolor": "#E5ECF6",
            "gridcolor": "white",
            "gridwidth": 2,
            "linecolor": "white",
            "showbackground": true,
            "ticks": "",
            "zerolinecolor": "white"
           }
          },
          "shapedefaults": {
           "line": {
            "color": "#2a3f5f"
           }
          },
          "ternary": {
           "aaxis": {
            "gridcolor": "white",
            "linecolor": "white",
            "ticks": ""
           },
           "baxis": {
            "gridcolor": "white",
            "linecolor": "white",
            "ticks": ""
           },
           "bgcolor": "#E5ECF6",
           "caxis": {
            "gridcolor": "white",
            "linecolor": "white",
            "ticks": ""
           }
          },
          "title": {
           "x": 0.05
          },
          "xaxis": {
           "automargin": true,
           "gridcolor": "white",
           "linecolor": "white",
           "ticks": "",
           "title": {
            "standoff": 15
           },
           "zerolinecolor": "white",
           "zerolinewidth": 2
          },
          "yaxis": {
           "automargin": true,
           "gridcolor": "white",
           "linecolor": "white",
           "ticks": "",
           "title": {
            "standoff": 15
           },
           "zerolinecolor": "white",
           "zerolinewidth": 2
          }
         }
        },
        "title": {
         "text": "Percentage of Household in Positive and Negative Savings"
        },
        "width": 1000,
        "xaxis": {
         "anchor": "y",
         "domain": [
          0,
          0.2888888888888889
         ],
         "tickformat": ",.0%",
         "title": {
          "text": "Bill"
         },
         "visible": true
        },
        "xaxis2": {
         "anchor": "y2",
         "domain": [
          0.35555555555555557,
          0.6444444444444445
         ],
         "tickformat": ",.0%",
         "title": {
          "text": "Emission"
         },
         "visible": true
        },
        "xaxis3": {
         "anchor": "y3",
         "domain": [
          0.7111111111111111,
          1
         ],
         "tickformat": ",.0%",
         "title": {
          "text": "Total Energy"
         },
         "visible": true
        },
        "yaxis": {
         "anchor": "x",
         "domain": [
          0,
          1
         ],
         "visible": true
        },
        "yaxis2": {
         "anchor": "x2",
         "domain": [
          0,
          1
         ],
         "visible": false
        },
        "yaxis3": {
         "anchor": "x3",
         "domain": [
          0,
          1
         ],
         "visible": false
        }
       }
      }
     },
     "metadata": {},
     "output_type": "display_data"
    }
   ],
   "source": [
    "segment = 'segment1'\n",
    "results = figure_positive_negative_savings(segment, community_results) \n",
    "saving_results[f'segment1_{income}_pct_bill_positive_savings_%'] = results[0]*100\n",
    "saving_results[f'segment1_{income}_pct_emission_positive_savings_%'] = results[1]*100\n",
    "saving_results[f'segment1_{income}_pct_energy_positive_savings_%'] = results[2]*100"
   ]
  },
  {
   "cell_type": "markdown",
   "id": "f3357f7f",
   "metadata": {},
   "source": [
    "### Segment 2"
   ]
  },
  {
   "cell_type": "code",
   "execution_count": 33,
   "id": "362580ae",
   "metadata": {},
   "outputs": [
    {
     "data": {
      "application/vnd.plotly.v1+json": {
       "config": {
        "plotlyServerURL": "https://plot.ly"
       },
       "data": [
        {
         "marker": {
          "color": "red"
         },
         "name": "Negative",
         "orientation": "h",
         "text": [
          1,
          0.35714285714285715,
          0.35294117647058826,
          0.05813953488372093,
          0.03529411764705882,
          0.03409090909090909,
          0,
          0,
          0,
          0,
          0,
          0,
          0,
          0,
          0,
          0
         ],
         "textposition": "inside",
         "texttemplate": "%{text:.0%}",
         "type": "bar",
         "x": [
          1,
          0.35714285714285715,
          0.35294117647058826,
          0.05813953488372093,
          0.03529411764705882,
          0.03409090909090909,
          0,
          0,
          0,
          0,
          0,
          0,
          0,
          0,
          0,
          0
         ],
         "xaxis": "x",
         "y": [
          "Electric Clothes Dryer",
          "Electric Cooking",
          "Mininum Efficiency Whole Home Electrification",
          "Induction Cooking",
          "Mininum Efficiency Heat Pump with Existing Heat Backup",
          "Mininum Efficiency Heat Pump with Electric Heat Backup",
          "Basic Enclosure",
          "Basic Enclosure + HPWH + High Efficiency HP/Electric Backup",
          "Basic Enclosure + High Efficiency Whole Home Electrification",
          "Enhanced Enclosure",
          "Enhanced Enclosure + HPWH + High Efficiency HP/Electric Backup",
          "Enhanced Enclosure + High Efficiency Whole Home Electrification",
          "Heat Pump Clothes Dryer",
          "Heat Pump Water Heater",
          "High Efficiency Heat Pump with Electric Heat Backup",
          "High Efficiency Whole Home Electrification"
         ],
         "yaxis": "y"
        },
        {
         "marker": {
          "color": "green"
         },
         "name": "Positive",
         "orientation": "h",
         "text": [
          0,
          0.6428571428571429,
          0.6470588235294118,
          0.9418604651162791,
          0.9647058823529412,
          0.9659090909090909,
          1,
          1,
          1,
          1,
          1,
          1,
          1,
          1,
          1,
          1
         ],
         "textposition": "inside",
         "texttemplate": "%{text:.0%}",
         "type": "bar",
         "x": [
          0,
          0.6428571428571429,
          0.6470588235294118,
          0.9418604651162791,
          0.9647058823529412,
          0.9659090909090909,
          1,
          1,
          1,
          1,
          1,
          1,
          1,
          1,
          1,
          1
         ],
         "xaxis": "x",
         "y": [
          "Electric Clothes Dryer",
          "Electric Cooking",
          "Mininum Efficiency Whole Home Electrification",
          "Induction Cooking",
          "Mininum Efficiency Heat Pump with Existing Heat Backup",
          "Mininum Efficiency Heat Pump with Electric Heat Backup",
          "Basic Enclosure",
          "Basic Enclosure + HPWH + High Efficiency HP/Electric Backup",
          "Basic Enclosure + High Efficiency Whole Home Electrification",
          "Enhanced Enclosure",
          "Enhanced Enclosure + HPWH + High Efficiency HP/Electric Backup",
          "Enhanced Enclosure + High Efficiency Whole Home Electrification",
          "Heat Pump Clothes Dryer",
          "Heat Pump Water Heater",
          "High Efficiency Heat Pump with Electric Heat Backup",
          "High Efficiency Whole Home Electrification"
         ],
         "yaxis": "y"
        },
        {
         "marker": {
          "color": "red"
         },
         "orientation": "h",
         "showlegend": false,
         "text": [
          0,
          0,
          0,
          0,
          0.023529411764705882,
          0.022727272727272728,
          0,
          0,
          0,
          0,
          0,
          0,
          0,
          0,
          0,
          0
         ],
         "textposition": "inside",
         "texttemplate": "%{text:.0%}",
         "type": "bar",
         "x": [
          0,
          0,
          0,
          0,
          0.023529411764705882,
          0.022727272727272728,
          0,
          0,
          0,
          0,
          0,
          0,
          0,
          0,
          0,
          0
         ],
         "xaxis": "x2",
         "y": [
          "Electric Clothes Dryer",
          "Electric Cooking",
          "Mininum Efficiency Whole Home Electrification",
          "Induction Cooking",
          "Mininum Efficiency Heat Pump with Existing Heat Backup",
          "Mininum Efficiency Heat Pump with Electric Heat Backup",
          "Basic Enclosure",
          "Basic Enclosure + HPWH + High Efficiency HP/Electric Backup",
          "Basic Enclosure + High Efficiency Whole Home Electrification",
          "Enhanced Enclosure",
          "Enhanced Enclosure + HPWH + High Efficiency HP/Electric Backup",
          "Enhanced Enclosure + High Efficiency Whole Home Electrification",
          "Heat Pump Clothes Dryer",
          "Heat Pump Water Heater",
          "High Efficiency Heat Pump with Electric Heat Backup",
          "High Efficiency Whole Home Electrification"
         ],
         "yaxis": "y2"
        },
        {
         "marker": {
          "color": "green"
         },
         "orientation": "h",
         "showlegend": false,
         "text": [
          1,
          1,
          1,
          1,
          0.9764705882352941,
          0.9772727272727273,
          1,
          1,
          1,
          1,
          1,
          1,
          1,
          1,
          1,
          1
         ],
         "textposition": "inside",
         "texttemplate": "%{text:.0%}",
         "type": "bar",
         "x": [
          1,
          1,
          1,
          1,
          0.9764705882352941,
          0.9772727272727273,
          1,
          1,
          1,
          1,
          1,
          1,
          1,
          1,
          1,
          1
         ],
         "xaxis": "x2",
         "y": [
          "Electric Clothes Dryer",
          "Electric Cooking",
          "Mininum Efficiency Whole Home Electrification",
          "Induction Cooking",
          "Mininum Efficiency Heat Pump with Existing Heat Backup",
          "Mininum Efficiency Heat Pump with Electric Heat Backup",
          "Basic Enclosure",
          "Basic Enclosure + HPWH + High Efficiency HP/Electric Backup",
          "Basic Enclosure + High Efficiency Whole Home Electrification",
          "Enhanced Enclosure",
          "Enhanced Enclosure + HPWH + High Efficiency HP/Electric Backup",
          "Enhanced Enclosure + High Efficiency Whole Home Electrification",
          "Heat Pump Clothes Dryer",
          "Heat Pump Water Heater",
          "High Efficiency Heat Pump with Electric Heat Backup",
          "High Efficiency Whole Home Electrification"
         ],
         "yaxis": "y2"
        },
        {
         "marker": {
          "color": "red"
         },
         "orientation": "h",
         "showlegend": false,
         "text": [
          0,
          0,
          0,
          0,
          0.03529411764705882,
          0.03409090909090909,
          0,
          0,
          0,
          0,
          0,
          0,
          0,
          0,
          0,
          0
         ],
         "textposition": "inside",
         "texttemplate": "%{text:.0%}",
         "type": "bar",
         "x": [
          0,
          0,
          0,
          0,
          0.03529411764705882,
          0.03409090909090909,
          0,
          0,
          0,
          0,
          0,
          0,
          0,
          0,
          0,
          0
         ],
         "xaxis": "x3",
         "y": [
          "Electric Clothes Dryer",
          "Electric Cooking",
          "Mininum Efficiency Whole Home Electrification",
          "Induction Cooking",
          "Mininum Efficiency Heat Pump with Existing Heat Backup",
          "Mininum Efficiency Heat Pump with Electric Heat Backup",
          "Basic Enclosure",
          "Basic Enclosure + HPWH + High Efficiency HP/Electric Backup",
          "Basic Enclosure + High Efficiency Whole Home Electrification",
          "Enhanced Enclosure",
          "Enhanced Enclosure + HPWH + High Efficiency HP/Electric Backup",
          "Enhanced Enclosure + High Efficiency Whole Home Electrification",
          "Heat Pump Clothes Dryer",
          "Heat Pump Water Heater",
          "High Efficiency Heat Pump with Electric Heat Backup",
          "High Efficiency Whole Home Electrification"
         ],
         "yaxis": "y3"
        },
        {
         "marker": {
          "color": "green"
         },
         "orientation": "h",
         "showlegend": false,
         "text": [
          1,
          1,
          1,
          1,
          0.9647058823529412,
          0.9659090909090909,
          1,
          1,
          1,
          1,
          1,
          1,
          1,
          1,
          1,
          1
         ],
         "textposition": "inside",
         "texttemplate": "%{text:.0%}",
         "type": "bar",
         "x": [
          1,
          1,
          1,
          1,
          0.9647058823529412,
          0.9659090909090909,
          1,
          1,
          1,
          1,
          1,
          1,
          1,
          1,
          1,
          1
         ],
         "xaxis": "x3",
         "y": [
          "Electric Clothes Dryer",
          "Electric Cooking",
          "Mininum Efficiency Whole Home Electrification",
          "Induction Cooking",
          "Mininum Efficiency Heat Pump with Existing Heat Backup",
          "Mininum Efficiency Heat Pump with Electric Heat Backup",
          "Basic Enclosure",
          "Basic Enclosure + HPWH + High Efficiency HP/Electric Backup",
          "Basic Enclosure + High Efficiency Whole Home Electrification",
          "Enhanced Enclosure",
          "Enhanced Enclosure + HPWH + High Efficiency HP/Electric Backup",
          "Enhanced Enclosure + High Efficiency Whole Home Electrification",
          "Heat Pump Clothes Dryer",
          "Heat Pump Water Heater",
          "High Efficiency Heat Pump with Electric Heat Backup",
          "High Efficiency Whole Home Electrification"
         ],
         "yaxis": "y3"
        }
       ],
       "layout": {
        "autosize": false,
        "barmode": "relative",
        "font": {
         "size": 10
        },
        "height": 500,
        "template": {
         "data": {
          "bar": [
           {
            "error_x": {
             "color": "#2a3f5f"
            },
            "error_y": {
             "color": "#2a3f5f"
            },
            "marker": {
             "line": {
              "color": "#E5ECF6",
              "width": 0.5
             },
             "pattern": {
              "fillmode": "overlay",
              "size": 10,
              "solidity": 0.2
             }
            },
            "type": "bar"
           }
          ],
          "barpolar": [
           {
            "marker": {
             "line": {
              "color": "#E5ECF6",
              "width": 0.5
             },
             "pattern": {
              "fillmode": "overlay",
              "size": 10,
              "solidity": 0.2
             }
            },
            "type": "barpolar"
           }
          ],
          "carpet": [
           {
            "aaxis": {
             "endlinecolor": "#2a3f5f",
             "gridcolor": "white",
             "linecolor": "white",
             "minorgridcolor": "white",
             "startlinecolor": "#2a3f5f"
            },
            "baxis": {
             "endlinecolor": "#2a3f5f",
             "gridcolor": "white",
             "linecolor": "white",
             "minorgridcolor": "white",
             "startlinecolor": "#2a3f5f"
            },
            "type": "carpet"
           }
          ],
          "choropleth": [
           {
            "colorbar": {
             "outlinewidth": 0,
             "ticks": ""
            },
            "type": "choropleth"
           }
          ],
          "contour": [
           {
            "colorbar": {
             "outlinewidth": 0,
             "ticks": ""
            },
            "colorscale": [
             [
              0,
              "#0d0887"
             ],
             [
              0.1111111111111111,
              "#46039f"
             ],
             [
              0.2222222222222222,
              "#7201a8"
             ],
             [
              0.3333333333333333,
              "#9c179e"
             ],
             [
              0.4444444444444444,
              "#bd3786"
             ],
             [
              0.5555555555555556,
              "#d8576b"
             ],
             [
              0.6666666666666666,
              "#ed7953"
             ],
             [
              0.7777777777777778,
              "#fb9f3a"
             ],
             [
              0.8888888888888888,
              "#fdca26"
             ],
             [
              1,
              "#f0f921"
             ]
            ],
            "type": "contour"
           }
          ],
          "contourcarpet": [
           {
            "colorbar": {
             "outlinewidth": 0,
             "ticks": ""
            },
            "type": "contourcarpet"
           }
          ],
          "heatmap": [
           {
            "colorbar": {
             "outlinewidth": 0,
             "ticks": ""
            },
            "colorscale": [
             [
              0,
              "#0d0887"
             ],
             [
              0.1111111111111111,
              "#46039f"
             ],
             [
              0.2222222222222222,
              "#7201a8"
             ],
             [
              0.3333333333333333,
              "#9c179e"
             ],
             [
              0.4444444444444444,
              "#bd3786"
             ],
             [
              0.5555555555555556,
              "#d8576b"
             ],
             [
              0.6666666666666666,
              "#ed7953"
             ],
             [
              0.7777777777777778,
              "#fb9f3a"
             ],
             [
              0.8888888888888888,
              "#fdca26"
             ],
             [
              1,
              "#f0f921"
             ]
            ],
            "type": "heatmap"
           }
          ],
          "heatmapgl": [
           {
            "colorbar": {
             "outlinewidth": 0,
             "ticks": ""
            },
            "colorscale": [
             [
              0,
              "#0d0887"
             ],
             [
              0.1111111111111111,
              "#46039f"
             ],
             [
              0.2222222222222222,
              "#7201a8"
             ],
             [
              0.3333333333333333,
              "#9c179e"
             ],
             [
              0.4444444444444444,
              "#bd3786"
             ],
             [
              0.5555555555555556,
              "#d8576b"
             ],
             [
              0.6666666666666666,
              "#ed7953"
             ],
             [
              0.7777777777777778,
              "#fb9f3a"
             ],
             [
              0.8888888888888888,
              "#fdca26"
             ],
             [
              1,
              "#f0f921"
             ]
            ],
            "type": "heatmapgl"
           }
          ],
          "histogram": [
           {
            "marker": {
             "pattern": {
              "fillmode": "overlay",
              "size": 10,
              "solidity": 0.2
             }
            },
            "type": "histogram"
           }
          ],
          "histogram2d": [
           {
            "colorbar": {
             "outlinewidth": 0,
             "ticks": ""
            },
            "colorscale": [
             [
              0,
              "#0d0887"
             ],
             [
              0.1111111111111111,
              "#46039f"
             ],
             [
              0.2222222222222222,
              "#7201a8"
             ],
             [
              0.3333333333333333,
              "#9c179e"
             ],
             [
              0.4444444444444444,
              "#bd3786"
             ],
             [
              0.5555555555555556,
              "#d8576b"
             ],
             [
              0.6666666666666666,
              "#ed7953"
             ],
             [
              0.7777777777777778,
              "#fb9f3a"
             ],
             [
              0.8888888888888888,
              "#fdca26"
             ],
             [
              1,
              "#f0f921"
             ]
            ],
            "type": "histogram2d"
           }
          ],
          "histogram2dcontour": [
           {
            "colorbar": {
             "outlinewidth": 0,
             "ticks": ""
            },
            "colorscale": [
             [
              0,
              "#0d0887"
             ],
             [
              0.1111111111111111,
              "#46039f"
             ],
             [
              0.2222222222222222,
              "#7201a8"
             ],
             [
              0.3333333333333333,
              "#9c179e"
             ],
             [
              0.4444444444444444,
              "#bd3786"
             ],
             [
              0.5555555555555556,
              "#d8576b"
             ],
             [
              0.6666666666666666,
              "#ed7953"
             ],
             [
              0.7777777777777778,
              "#fb9f3a"
             ],
             [
              0.8888888888888888,
              "#fdca26"
             ],
             [
              1,
              "#f0f921"
             ]
            ],
            "type": "histogram2dcontour"
           }
          ],
          "mesh3d": [
           {
            "colorbar": {
             "outlinewidth": 0,
             "ticks": ""
            },
            "type": "mesh3d"
           }
          ],
          "parcoords": [
           {
            "line": {
             "colorbar": {
              "outlinewidth": 0,
              "ticks": ""
             }
            },
            "type": "parcoords"
           }
          ],
          "pie": [
           {
            "automargin": true,
            "type": "pie"
           }
          ],
          "scatter": [
           {
            "fillpattern": {
             "fillmode": "overlay",
             "size": 10,
             "solidity": 0.2
            },
            "type": "scatter"
           }
          ],
          "scatter3d": [
           {
            "line": {
             "colorbar": {
              "outlinewidth": 0,
              "ticks": ""
             }
            },
            "marker": {
             "colorbar": {
              "outlinewidth": 0,
              "ticks": ""
             }
            },
            "type": "scatter3d"
           }
          ],
          "scattercarpet": [
           {
            "marker": {
             "colorbar": {
              "outlinewidth": 0,
              "ticks": ""
             }
            },
            "type": "scattercarpet"
           }
          ],
          "scattergeo": [
           {
            "marker": {
             "colorbar": {
              "outlinewidth": 0,
              "ticks": ""
             }
            },
            "type": "scattergeo"
           }
          ],
          "scattergl": [
           {
            "marker": {
             "colorbar": {
              "outlinewidth": 0,
              "ticks": ""
             }
            },
            "type": "scattergl"
           }
          ],
          "scattermapbox": [
           {
            "marker": {
             "colorbar": {
              "outlinewidth": 0,
              "ticks": ""
             }
            },
            "type": "scattermapbox"
           }
          ],
          "scatterpolar": [
           {
            "marker": {
             "colorbar": {
              "outlinewidth": 0,
              "ticks": ""
             }
            },
            "type": "scatterpolar"
           }
          ],
          "scatterpolargl": [
           {
            "marker": {
             "colorbar": {
              "outlinewidth": 0,
              "ticks": ""
             }
            },
            "type": "scatterpolargl"
           }
          ],
          "scatterternary": [
           {
            "marker": {
             "colorbar": {
              "outlinewidth": 0,
              "ticks": ""
             }
            },
            "type": "scatterternary"
           }
          ],
          "surface": [
           {
            "colorbar": {
             "outlinewidth": 0,
             "ticks": ""
            },
            "colorscale": [
             [
              0,
              "#0d0887"
             ],
             [
              0.1111111111111111,
              "#46039f"
             ],
             [
              0.2222222222222222,
              "#7201a8"
             ],
             [
              0.3333333333333333,
              "#9c179e"
             ],
             [
              0.4444444444444444,
              "#bd3786"
             ],
             [
              0.5555555555555556,
              "#d8576b"
             ],
             [
              0.6666666666666666,
              "#ed7953"
             ],
             [
              0.7777777777777778,
              "#fb9f3a"
             ],
             [
              0.8888888888888888,
              "#fdca26"
             ],
             [
              1,
              "#f0f921"
             ]
            ],
            "type": "surface"
           }
          ],
          "table": [
           {
            "cells": {
             "fill": {
              "color": "#EBF0F8"
             },
             "line": {
              "color": "white"
             }
            },
            "header": {
             "fill": {
              "color": "#C8D4E3"
             },
             "line": {
              "color": "white"
             }
            },
            "type": "table"
           }
          ]
         },
         "layout": {
          "annotationdefaults": {
           "arrowcolor": "#2a3f5f",
           "arrowhead": 0,
           "arrowwidth": 1
          },
          "autotypenumbers": "strict",
          "coloraxis": {
           "colorbar": {
            "outlinewidth": 0,
            "ticks": ""
           }
          },
          "colorscale": {
           "diverging": [
            [
             0,
             "#8e0152"
            ],
            [
             0.1,
             "#c51b7d"
            ],
            [
             0.2,
             "#de77ae"
            ],
            [
             0.3,
             "#f1b6da"
            ],
            [
             0.4,
             "#fde0ef"
            ],
            [
             0.5,
             "#f7f7f7"
            ],
            [
             0.6,
             "#e6f5d0"
            ],
            [
             0.7,
             "#b8e186"
            ],
            [
             0.8,
             "#7fbc41"
            ],
            [
             0.9,
             "#4d9221"
            ],
            [
             1,
             "#276419"
            ]
           ],
           "sequential": [
            [
             0,
             "#0d0887"
            ],
            [
             0.1111111111111111,
             "#46039f"
            ],
            [
             0.2222222222222222,
             "#7201a8"
            ],
            [
             0.3333333333333333,
             "#9c179e"
            ],
            [
             0.4444444444444444,
             "#bd3786"
            ],
            [
             0.5555555555555556,
             "#d8576b"
            ],
            [
             0.6666666666666666,
             "#ed7953"
            ],
            [
             0.7777777777777778,
             "#fb9f3a"
            ],
            [
             0.8888888888888888,
             "#fdca26"
            ],
            [
             1,
             "#f0f921"
            ]
           ],
           "sequentialminus": [
            [
             0,
             "#0d0887"
            ],
            [
             0.1111111111111111,
             "#46039f"
            ],
            [
             0.2222222222222222,
             "#7201a8"
            ],
            [
             0.3333333333333333,
             "#9c179e"
            ],
            [
             0.4444444444444444,
             "#bd3786"
            ],
            [
             0.5555555555555556,
             "#d8576b"
            ],
            [
             0.6666666666666666,
             "#ed7953"
            ],
            [
             0.7777777777777778,
             "#fb9f3a"
            ],
            [
             0.8888888888888888,
             "#fdca26"
            ],
            [
             1,
             "#f0f921"
            ]
           ]
          },
          "colorway": [
           "#636efa",
           "#EF553B",
           "#00cc96",
           "#ab63fa",
           "#FFA15A",
           "#19d3f3",
           "#FF6692",
           "#B6E880",
           "#FF97FF",
           "#FECB52"
          ],
          "font": {
           "color": "#2a3f5f"
          },
          "geo": {
           "bgcolor": "white",
           "lakecolor": "white",
           "landcolor": "#E5ECF6",
           "showlakes": true,
           "showland": true,
           "subunitcolor": "white"
          },
          "hoverlabel": {
           "align": "left"
          },
          "hovermode": "closest",
          "mapbox": {
           "style": "light"
          },
          "paper_bgcolor": "white",
          "plot_bgcolor": "#E5ECF6",
          "polar": {
           "angularaxis": {
            "gridcolor": "white",
            "linecolor": "white",
            "ticks": ""
           },
           "bgcolor": "#E5ECF6",
           "radialaxis": {
            "gridcolor": "white",
            "linecolor": "white",
            "ticks": ""
           }
          },
          "scene": {
           "xaxis": {
            "backgroundcolor": "#E5ECF6",
            "gridcolor": "white",
            "gridwidth": 2,
            "linecolor": "white",
            "showbackground": true,
            "ticks": "",
            "zerolinecolor": "white"
           },
           "yaxis": {
            "backgroundcolor": "#E5ECF6",
            "gridcolor": "white",
            "gridwidth": 2,
            "linecolor": "white",
            "showbackground": true,
            "ticks": "",
            "zerolinecolor": "white"
           },
           "zaxis": {
            "backgroundcolor": "#E5ECF6",
            "gridcolor": "white",
            "gridwidth": 2,
            "linecolor": "white",
            "showbackground": true,
            "ticks": "",
            "zerolinecolor": "white"
           }
          },
          "shapedefaults": {
           "line": {
            "color": "#2a3f5f"
           }
          },
          "ternary": {
           "aaxis": {
            "gridcolor": "white",
            "linecolor": "white",
            "ticks": ""
           },
           "baxis": {
            "gridcolor": "white",
            "linecolor": "white",
            "ticks": ""
           },
           "bgcolor": "#E5ECF6",
           "caxis": {
            "gridcolor": "white",
            "linecolor": "white",
            "ticks": ""
           }
          },
          "title": {
           "x": 0.05
          },
          "xaxis": {
           "automargin": true,
           "gridcolor": "white",
           "linecolor": "white",
           "ticks": "",
           "title": {
            "standoff": 15
           },
           "zerolinecolor": "white",
           "zerolinewidth": 2
          },
          "yaxis": {
           "automargin": true,
           "gridcolor": "white",
           "linecolor": "white",
           "ticks": "",
           "title": {
            "standoff": 15
           },
           "zerolinecolor": "white",
           "zerolinewidth": 2
          }
         }
        },
        "title": {
         "text": "Percentage of Household in Positive and Negative Savings"
        },
        "width": 1000,
        "xaxis": {
         "anchor": "y",
         "domain": [
          0,
          0.2888888888888889
         ],
         "tickformat": ",.0%",
         "title": {
          "text": "Bill"
         },
         "visible": true
        },
        "xaxis2": {
         "anchor": "y2",
         "domain": [
          0.35555555555555557,
          0.6444444444444445
         ],
         "tickformat": ",.0%",
         "title": {
          "text": "Emission"
         },
         "visible": true
        },
        "xaxis3": {
         "anchor": "y3",
         "domain": [
          0.7111111111111111,
          1
         ],
         "tickformat": ",.0%",
         "title": {
          "text": "Total Energy"
         },
         "visible": true
        },
        "yaxis": {
         "anchor": "x",
         "domain": [
          0,
          1
         ],
         "visible": true
        },
        "yaxis2": {
         "anchor": "x2",
         "domain": [
          0,
          1
         ],
         "visible": false
        },
        "yaxis3": {
         "anchor": "x3",
         "domain": [
          0,
          1
         ],
         "visible": false
        }
       }
      }
     },
     "metadata": {},
     "output_type": "display_data"
    }
   ],
   "source": [
    "segment = 'segment2'\n",
    "results = figure_positive_negative_savings(segment, community_results)\n",
    "saving_results[f'segment2_{income}_pct_bill_positive_savings_%'] = results[0]*100\n",
    "saving_results[f'segment2_{income}_pct_emission_positive_savings_%'] = results[1]*100\n",
    "saving_results[f'segment2_{income}_pct_energy_positive_savings_%'] = results[2]*100"
   ]
  },
  {
   "cell_type": "markdown",
   "id": "5bcfb89a",
   "metadata": {},
   "source": [
    "### Segment 3"
   ]
  },
  {
   "cell_type": "code",
   "execution_count": 34,
   "id": "5c5c3d99",
   "metadata": {},
   "outputs": [
    {
     "data": {
      "application/vnd.plotly.v1+json": {
       "config": {
        "plotlyServerURL": "https://plot.ly"
       },
       "data": [
        {
         "marker": {
          "color": "red"
         },
         "name": "Negative",
         "orientation": "h",
         "text": [
          1,
          0.7,
          0.4117647058823529,
          0.0546875,
          0.015503875968992248,
          0.015503875968992248,
          0.008064516129032258,
          0.007874015748031496,
          0,
          0,
          0,
          0,
          0,
          0,
          0,
          0
         ],
         "textposition": "inside",
         "texttemplate": "%{text:.0%}",
         "type": "bar",
         "x": [
          1,
          0.7,
          0.4117647058823529,
          0.0546875,
          0.015503875968992248,
          0.015503875968992248,
          0.008064516129032258,
          0.007874015748031496,
          0,
          0,
          0,
          0,
          0,
          0,
          0,
          0
         ],
         "xaxis": "x",
         "y": [
          "Electric Clothes Dryer",
          "Electric Cooking",
          "Mininum Efficiency Whole Home Electrification",
          "Induction Cooking",
          "Mininum Efficiency Heat Pump with Electric Heat Backup",
          "Mininum Efficiency Heat Pump with Existing Heat Backup",
          "Heat Pump Clothes Dryer",
          "Heat Pump Water Heater",
          "Basic Enclosure",
          "Basic Enclosure + HPWH + High Efficiency HP/Electric Backup",
          "Basic Enclosure + High Efficiency Whole Home Electrification",
          "Enhanced Enclosure",
          "Enhanced Enclosure + HPWH + High Efficiency HP/Electric Backup",
          "Enhanced Enclosure + High Efficiency Whole Home Electrification",
          "High Efficiency Heat Pump with Electric Heat Backup",
          "High Efficiency Whole Home Electrification"
         ],
         "yaxis": "y"
        },
        {
         "marker": {
          "color": "green"
         },
         "name": "Positive",
         "orientation": "h",
         "text": [
          0,
          0.3,
          0.5882352941176471,
          0.9453125,
          0.9844961240310077,
          0.9844961240310077,
          0.9919354838709677,
          0.9921259842519685,
          1,
          1,
          1,
          1,
          1,
          1,
          1,
          1
         ],
         "textposition": "inside",
         "texttemplate": "%{text:.0%}",
         "type": "bar",
         "x": [
          0,
          0.3,
          0.5882352941176471,
          0.9453125,
          0.9844961240310077,
          0.9844961240310077,
          0.9919354838709677,
          0.9921259842519685,
          1,
          1,
          1,
          1,
          1,
          1,
          1,
          1
         ],
         "xaxis": "x",
         "y": [
          "Electric Clothes Dryer",
          "Electric Cooking",
          "Mininum Efficiency Whole Home Electrification",
          "Induction Cooking",
          "Mininum Efficiency Heat Pump with Electric Heat Backup",
          "Mininum Efficiency Heat Pump with Existing Heat Backup",
          "Heat Pump Clothes Dryer",
          "Heat Pump Water Heater",
          "Basic Enclosure",
          "Basic Enclosure + HPWH + High Efficiency HP/Electric Backup",
          "Basic Enclosure + High Efficiency Whole Home Electrification",
          "Enhanced Enclosure",
          "Enhanced Enclosure + HPWH + High Efficiency HP/Electric Backup",
          "Enhanced Enclosure + High Efficiency Whole Home Electrification",
          "High Efficiency Heat Pump with Electric Heat Backup",
          "High Efficiency Whole Home Electrification"
         ],
         "yaxis": "y"
        },
        {
         "marker": {
          "color": "red"
         },
         "orientation": "h",
         "showlegend": false,
         "text": [
          0,
          0,
          0,
          0,
          0.007751937984496124,
          0.015503875968992248,
          0,
          0,
          0,
          0,
          0,
          0,
          0,
          0,
          0,
          0
         ],
         "textposition": "inside",
         "texttemplate": "%{text:.0%}",
         "type": "bar",
         "x": [
          0,
          0,
          0,
          0,
          0.007751937984496124,
          0.015503875968992248,
          0,
          0,
          0,
          0,
          0,
          0,
          0,
          0,
          0,
          0
         ],
         "xaxis": "x2",
         "y": [
          "Electric Clothes Dryer",
          "Electric Cooking",
          "Mininum Efficiency Whole Home Electrification",
          "Induction Cooking",
          "Mininum Efficiency Heat Pump with Electric Heat Backup",
          "Mininum Efficiency Heat Pump with Existing Heat Backup",
          "Heat Pump Clothes Dryer",
          "Heat Pump Water Heater",
          "Basic Enclosure",
          "Basic Enclosure + HPWH + High Efficiency HP/Electric Backup",
          "Basic Enclosure + High Efficiency Whole Home Electrification",
          "Enhanced Enclosure",
          "Enhanced Enclosure + HPWH + High Efficiency HP/Electric Backup",
          "Enhanced Enclosure + High Efficiency Whole Home Electrification",
          "High Efficiency Heat Pump with Electric Heat Backup",
          "High Efficiency Whole Home Electrification"
         ],
         "yaxis": "y2"
        },
        {
         "marker": {
          "color": "green"
         },
         "orientation": "h",
         "showlegend": false,
         "text": [
          1,
          1,
          1,
          1,
          0.9922480620155039,
          0.9844961240310077,
          1,
          1,
          1,
          1,
          1,
          1,
          1,
          1,
          1,
          1
         ],
         "textposition": "inside",
         "texttemplate": "%{text:.0%}",
         "type": "bar",
         "x": [
          1,
          1,
          1,
          1,
          0.9922480620155039,
          0.9844961240310077,
          1,
          1,
          1,
          1,
          1,
          1,
          1,
          1,
          1,
          1
         ],
         "xaxis": "x2",
         "y": [
          "Electric Clothes Dryer",
          "Electric Cooking",
          "Mininum Efficiency Whole Home Electrification",
          "Induction Cooking",
          "Mininum Efficiency Heat Pump with Electric Heat Backup",
          "Mininum Efficiency Heat Pump with Existing Heat Backup",
          "Heat Pump Clothes Dryer",
          "Heat Pump Water Heater",
          "Basic Enclosure",
          "Basic Enclosure + HPWH + High Efficiency HP/Electric Backup",
          "Basic Enclosure + High Efficiency Whole Home Electrification",
          "Enhanced Enclosure",
          "Enhanced Enclosure + HPWH + High Efficiency HP/Electric Backup",
          "Enhanced Enclosure + High Efficiency Whole Home Electrification",
          "High Efficiency Heat Pump with Electric Heat Backup",
          "High Efficiency Whole Home Electrification"
         ],
         "yaxis": "y2"
        },
        {
         "marker": {
          "color": "red"
         },
         "orientation": "h",
         "showlegend": false,
         "text": [
          0,
          0,
          0,
          0,
          0.015503875968992248,
          0.023255813953488372,
          0,
          0,
          0,
          0,
          0,
          0,
          0,
          0,
          0,
          0
         ],
         "textposition": "inside",
         "texttemplate": "%{text:.0%}",
         "type": "bar",
         "x": [
          0,
          0,
          0,
          0,
          0.015503875968992248,
          0.023255813953488372,
          0,
          0,
          0,
          0,
          0,
          0,
          0,
          0,
          0,
          0
         ],
         "xaxis": "x3",
         "y": [
          "Electric Clothes Dryer",
          "Electric Cooking",
          "Mininum Efficiency Whole Home Electrification",
          "Induction Cooking",
          "Mininum Efficiency Heat Pump with Electric Heat Backup",
          "Mininum Efficiency Heat Pump with Existing Heat Backup",
          "Heat Pump Clothes Dryer",
          "Heat Pump Water Heater",
          "Basic Enclosure",
          "Basic Enclosure + HPWH + High Efficiency HP/Electric Backup",
          "Basic Enclosure + High Efficiency Whole Home Electrification",
          "Enhanced Enclosure",
          "Enhanced Enclosure + HPWH + High Efficiency HP/Electric Backup",
          "Enhanced Enclosure + High Efficiency Whole Home Electrification",
          "High Efficiency Heat Pump with Electric Heat Backup",
          "High Efficiency Whole Home Electrification"
         ],
         "yaxis": "y3"
        },
        {
         "marker": {
          "color": "green"
         },
         "orientation": "h",
         "showlegend": false,
         "text": [
          1,
          1,
          1,
          1,
          0.9844961240310077,
          0.9767441860465116,
          1,
          1,
          1,
          1,
          1,
          1,
          1,
          1,
          1,
          1
         ],
         "textposition": "inside",
         "texttemplate": "%{text:.0%}",
         "type": "bar",
         "x": [
          1,
          1,
          1,
          1,
          0.9844961240310077,
          0.9767441860465116,
          1,
          1,
          1,
          1,
          1,
          1,
          1,
          1,
          1,
          1
         ],
         "xaxis": "x3",
         "y": [
          "Electric Clothes Dryer",
          "Electric Cooking",
          "Mininum Efficiency Whole Home Electrification",
          "Induction Cooking",
          "Mininum Efficiency Heat Pump with Electric Heat Backup",
          "Mininum Efficiency Heat Pump with Existing Heat Backup",
          "Heat Pump Clothes Dryer",
          "Heat Pump Water Heater",
          "Basic Enclosure",
          "Basic Enclosure + HPWH + High Efficiency HP/Electric Backup",
          "Basic Enclosure + High Efficiency Whole Home Electrification",
          "Enhanced Enclosure",
          "Enhanced Enclosure + HPWH + High Efficiency HP/Electric Backup",
          "Enhanced Enclosure + High Efficiency Whole Home Electrification",
          "High Efficiency Heat Pump with Electric Heat Backup",
          "High Efficiency Whole Home Electrification"
         ],
         "yaxis": "y3"
        }
       ],
       "layout": {
        "autosize": false,
        "barmode": "relative",
        "font": {
         "size": 10
        },
        "height": 500,
        "template": {
         "data": {
          "bar": [
           {
            "error_x": {
             "color": "#2a3f5f"
            },
            "error_y": {
             "color": "#2a3f5f"
            },
            "marker": {
             "line": {
              "color": "#E5ECF6",
              "width": 0.5
             },
             "pattern": {
              "fillmode": "overlay",
              "size": 10,
              "solidity": 0.2
             }
            },
            "type": "bar"
           }
          ],
          "barpolar": [
           {
            "marker": {
             "line": {
              "color": "#E5ECF6",
              "width": 0.5
             },
             "pattern": {
              "fillmode": "overlay",
              "size": 10,
              "solidity": 0.2
             }
            },
            "type": "barpolar"
           }
          ],
          "carpet": [
           {
            "aaxis": {
             "endlinecolor": "#2a3f5f",
             "gridcolor": "white",
             "linecolor": "white",
             "minorgridcolor": "white",
             "startlinecolor": "#2a3f5f"
            },
            "baxis": {
             "endlinecolor": "#2a3f5f",
             "gridcolor": "white",
             "linecolor": "white",
             "minorgridcolor": "white",
             "startlinecolor": "#2a3f5f"
            },
            "type": "carpet"
           }
          ],
          "choropleth": [
           {
            "colorbar": {
             "outlinewidth": 0,
             "ticks": ""
            },
            "type": "choropleth"
           }
          ],
          "contour": [
           {
            "colorbar": {
             "outlinewidth": 0,
             "ticks": ""
            },
            "colorscale": [
             [
              0,
              "#0d0887"
             ],
             [
              0.1111111111111111,
              "#46039f"
             ],
             [
              0.2222222222222222,
              "#7201a8"
             ],
             [
              0.3333333333333333,
              "#9c179e"
             ],
             [
              0.4444444444444444,
              "#bd3786"
             ],
             [
              0.5555555555555556,
              "#d8576b"
             ],
             [
              0.6666666666666666,
              "#ed7953"
             ],
             [
              0.7777777777777778,
              "#fb9f3a"
             ],
             [
              0.8888888888888888,
              "#fdca26"
             ],
             [
              1,
              "#f0f921"
             ]
            ],
            "type": "contour"
           }
          ],
          "contourcarpet": [
           {
            "colorbar": {
             "outlinewidth": 0,
             "ticks": ""
            },
            "type": "contourcarpet"
           }
          ],
          "heatmap": [
           {
            "colorbar": {
             "outlinewidth": 0,
             "ticks": ""
            },
            "colorscale": [
             [
              0,
              "#0d0887"
             ],
             [
              0.1111111111111111,
              "#46039f"
             ],
             [
              0.2222222222222222,
              "#7201a8"
             ],
             [
              0.3333333333333333,
              "#9c179e"
             ],
             [
              0.4444444444444444,
              "#bd3786"
             ],
             [
              0.5555555555555556,
              "#d8576b"
             ],
             [
              0.6666666666666666,
              "#ed7953"
             ],
             [
              0.7777777777777778,
              "#fb9f3a"
             ],
             [
              0.8888888888888888,
              "#fdca26"
             ],
             [
              1,
              "#f0f921"
             ]
            ],
            "type": "heatmap"
           }
          ],
          "heatmapgl": [
           {
            "colorbar": {
             "outlinewidth": 0,
             "ticks": ""
            },
            "colorscale": [
             [
              0,
              "#0d0887"
             ],
             [
              0.1111111111111111,
              "#46039f"
             ],
             [
              0.2222222222222222,
              "#7201a8"
             ],
             [
              0.3333333333333333,
              "#9c179e"
             ],
             [
              0.4444444444444444,
              "#bd3786"
             ],
             [
              0.5555555555555556,
              "#d8576b"
             ],
             [
              0.6666666666666666,
              "#ed7953"
             ],
             [
              0.7777777777777778,
              "#fb9f3a"
             ],
             [
              0.8888888888888888,
              "#fdca26"
             ],
             [
              1,
              "#f0f921"
             ]
            ],
            "type": "heatmapgl"
           }
          ],
          "histogram": [
           {
            "marker": {
             "pattern": {
              "fillmode": "overlay",
              "size": 10,
              "solidity": 0.2
             }
            },
            "type": "histogram"
           }
          ],
          "histogram2d": [
           {
            "colorbar": {
             "outlinewidth": 0,
             "ticks": ""
            },
            "colorscale": [
             [
              0,
              "#0d0887"
             ],
             [
              0.1111111111111111,
              "#46039f"
             ],
             [
              0.2222222222222222,
              "#7201a8"
             ],
             [
              0.3333333333333333,
              "#9c179e"
             ],
             [
              0.4444444444444444,
              "#bd3786"
             ],
             [
              0.5555555555555556,
              "#d8576b"
             ],
             [
              0.6666666666666666,
              "#ed7953"
             ],
             [
              0.7777777777777778,
              "#fb9f3a"
             ],
             [
              0.8888888888888888,
              "#fdca26"
             ],
             [
              1,
              "#f0f921"
             ]
            ],
            "type": "histogram2d"
           }
          ],
          "histogram2dcontour": [
           {
            "colorbar": {
             "outlinewidth": 0,
             "ticks": ""
            },
            "colorscale": [
             [
              0,
              "#0d0887"
             ],
             [
              0.1111111111111111,
              "#46039f"
             ],
             [
              0.2222222222222222,
              "#7201a8"
             ],
             [
              0.3333333333333333,
              "#9c179e"
             ],
             [
              0.4444444444444444,
              "#bd3786"
             ],
             [
              0.5555555555555556,
              "#d8576b"
             ],
             [
              0.6666666666666666,
              "#ed7953"
             ],
             [
              0.7777777777777778,
              "#fb9f3a"
             ],
             [
              0.8888888888888888,
              "#fdca26"
             ],
             [
              1,
              "#f0f921"
             ]
            ],
            "type": "histogram2dcontour"
           }
          ],
          "mesh3d": [
           {
            "colorbar": {
             "outlinewidth": 0,
             "ticks": ""
            },
            "type": "mesh3d"
           }
          ],
          "parcoords": [
           {
            "line": {
             "colorbar": {
              "outlinewidth": 0,
              "ticks": ""
             }
            },
            "type": "parcoords"
           }
          ],
          "pie": [
           {
            "automargin": true,
            "type": "pie"
           }
          ],
          "scatter": [
           {
            "fillpattern": {
             "fillmode": "overlay",
             "size": 10,
             "solidity": 0.2
            },
            "type": "scatter"
           }
          ],
          "scatter3d": [
           {
            "line": {
             "colorbar": {
              "outlinewidth": 0,
              "ticks": ""
             }
            },
            "marker": {
             "colorbar": {
              "outlinewidth": 0,
              "ticks": ""
             }
            },
            "type": "scatter3d"
           }
          ],
          "scattercarpet": [
           {
            "marker": {
             "colorbar": {
              "outlinewidth": 0,
              "ticks": ""
             }
            },
            "type": "scattercarpet"
           }
          ],
          "scattergeo": [
           {
            "marker": {
             "colorbar": {
              "outlinewidth": 0,
              "ticks": ""
             }
            },
            "type": "scattergeo"
           }
          ],
          "scattergl": [
           {
            "marker": {
             "colorbar": {
              "outlinewidth": 0,
              "ticks": ""
             }
            },
            "type": "scattergl"
           }
          ],
          "scattermapbox": [
           {
            "marker": {
             "colorbar": {
              "outlinewidth": 0,
              "ticks": ""
             }
            },
            "type": "scattermapbox"
           }
          ],
          "scatterpolar": [
           {
            "marker": {
             "colorbar": {
              "outlinewidth": 0,
              "ticks": ""
             }
            },
            "type": "scatterpolar"
           }
          ],
          "scatterpolargl": [
           {
            "marker": {
             "colorbar": {
              "outlinewidth": 0,
              "ticks": ""
             }
            },
            "type": "scatterpolargl"
           }
          ],
          "scatterternary": [
           {
            "marker": {
             "colorbar": {
              "outlinewidth": 0,
              "ticks": ""
             }
            },
            "type": "scatterternary"
           }
          ],
          "surface": [
           {
            "colorbar": {
             "outlinewidth": 0,
             "ticks": ""
            },
            "colorscale": [
             [
              0,
              "#0d0887"
             ],
             [
              0.1111111111111111,
              "#46039f"
             ],
             [
              0.2222222222222222,
              "#7201a8"
             ],
             [
              0.3333333333333333,
              "#9c179e"
             ],
             [
              0.4444444444444444,
              "#bd3786"
             ],
             [
              0.5555555555555556,
              "#d8576b"
             ],
             [
              0.6666666666666666,
              "#ed7953"
             ],
             [
              0.7777777777777778,
              "#fb9f3a"
             ],
             [
              0.8888888888888888,
              "#fdca26"
             ],
             [
              1,
              "#f0f921"
             ]
            ],
            "type": "surface"
           }
          ],
          "table": [
           {
            "cells": {
             "fill": {
              "color": "#EBF0F8"
             },
             "line": {
              "color": "white"
             }
            },
            "header": {
             "fill": {
              "color": "#C8D4E3"
             },
             "line": {
              "color": "white"
             }
            },
            "type": "table"
           }
          ]
         },
         "layout": {
          "annotationdefaults": {
           "arrowcolor": "#2a3f5f",
           "arrowhead": 0,
           "arrowwidth": 1
          },
          "autotypenumbers": "strict",
          "coloraxis": {
           "colorbar": {
            "outlinewidth": 0,
            "ticks": ""
           }
          },
          "colorscale": {
           "diverging": [
            [
             0,
             "#8e0152"
            ],
            [
             0.1,
             "#c51b7d"
            ],
            [
             0.2,
             "#de77ae"
            ],
            [
             0.3,
             "#f1b6da"
            ],
            [
             0.4,
             "#fde0ef"
            ],
            [
             0.5,
             "#f7f7f7"
            ],
            [
             0.6,
             "#e6f5d0"
            ],
            [
             0.7,
             "#b8e186"
            ],
            [
             0.8,
             "#7fbc41"
            ],
            [
             0.9,
             "#4d9221"
            ],
            [
             1,
             "#276419"
            ]
           ],
           "sequential": [
            [
             0,
             "#0d0887"
            ],
            [
             0.1111111111111111,
             "#46039f"
            ],
            [
             0.2222222222222222,
             "#7201a8"
            ],
            [
             0.3333333333333333,
             "#9c179e"
            ],
            [
             0.4444444444444444,
             "#bd3786"
            ],
            [
             0.5555555555555556,
             "#d8576b"
            ],
            [
             0.6666666666666666,
             "#ed7953"
            ],
            [
             0.7777777777777778,
             "#fb9f3a"
            ],
            [
             0.8888888888888888,
             "#fdca26"
            ],
            [
             1,
             "#f0f921"
            ]
           ],
           "sequentialminus": [
            [
             0,
             "#0d0887"
            ],
            [
             0.1111111111111111,
             "#46039f"
            ],
            [
             0.2222222222222222,
             "#7201a8"
            ],
            [
             0.3333333333333333,
             "#9c179e"
            ],
            [
             0.4444444444444444,
             "#bd3786"
            ],
            [
             0.5555555555555556,
             "#d8576b"
            ],
            [
             0.6666666666666666,
             "#ed7953"
            ],
            [
             0.7777777777777778,
             "#fb9f3a"
            ],
            [
             0.8888888888888888,
             "#fdca26"
            ],
            [
             1,
             "#f0f921"
            ]
           ]
          },
          "colorway": [
           "#636efa",
           "#EF553B",
           "#00cc96",
           "#ab63fa",
           "#FFA15A",
           "#19d3f3",
           "#FF6692",
           "#B6E880",
           "#FF97FF",
           "#FECB52"
          ],
          "font": {
           "color": "#2a3f5f"
          },
          "geo": {
           "bgcolor": "white",
           "lakecolor": "white",
           "landcolor": "#E5ECF6",
           "showlakes": true,
           "showland": true,
           "subunitcolor": "white"
          },
          "hoverlabel": {
           "align": "left"
          },
          "hovermode": "closest",
          "mapbox": {
           "style": "light"
          },
          "paper_bgcolor": "white",
          "plot_bgcolor": "#E5ECF6",
          "polar": {
           "angularaxis": {
            "gridcolor": "white",
            "linecolor": "white",
            "ticks": ""
           },
           "bgcolor": "#E5ECF6",
           "radialaxis": {
            "gridcolor": "white",
            "linecolor": "white",
            "ticks": ""
           }
          },
          "scene": {
           "xaxis": {
            "backgroundcolor": "#E5ECF6",
            "gridcolor": "white",
            "gridwidth": 2,
            "linecolor": "white",
            "showbackground": true,
            "ticks": "",
            "zerolinecolor": "white"
           },
           "yaxis": {
            "backgroundcolor": "#E5ECF6",
            "gridcolor": "white",
            "gridwidth": 2,
            "linecolor": "white",
            "showbackground": true,
            "ticks": "",
            "zerolinecolor": "white"
           },
           "zaxis": {
            "backgroundcolor": "#E5ECF6",
            "gridcolor": "white",
            "gridwidth": 2,
            "linecolor": "white",
            "showbackground": true,
            "ticks": "",
            "zerolinecolor": "white"
           }
          },
          "shapedefaults": {
           "line": {
            "color": "#2a3f5f"
           }
          },
          "ternary": {
           "aaxis": {
            "gridcolor": "white",
            "linecolor": "white",
            "ticks": ""
           },
           "baxis": {
            "gridcolor": "white",
            "linecolor": "white",
            "ticks": ""
           },
           "bgcolor": "#E5ECF6",
           "caxis": {
            "gridcolor": "white",
            "linecolor": "white",
            "ticks": ""
           }
          },
          "title": {
           "x": 0.05
          },
          "xaxis": {
           "automargin": true,
           "gridcolor": "white",
           "linecolor": "white",
           "ticks": "",
           "title": {
            "standoff": 15
           },
           "zerolinecolor": "white",
           "zerolinewidth": 2
          },
          "yaxis": {
           "automargin": true,
           "gridcolor": "white",
           "linecolor": "white",
           "ticks": "",
           "title": {
            "standoff": 15
           },
           "zerolinecolor": "white",
           "zerolinewidth": 2
          }
         }
        },
        "title": {
         "text": "Percentage of Household in Positive and Negative Savings"
        },
        "width": 1000,
        "xaxis": {
         "anchor": "y",
         "domain": [
          0,
          0.2888888888888889
         ],
         "tickformat": ",.0%",
         "title": {
          "text": "Bill"
         },
         "visible": true
        },
        "xaxis2": {
         "anchor": "y2",
         "domain": [
          0.35555555555555557,
          0.6444444444444445
         ],
         "tickformat": ",.0%",
         "title": {
          "text": "Emission"
         },
         "visible": true
        },
        "xaxis3": {
         "anchor": "y3",
         "domain": [
          0.7111111111111111,
          1
         ],
         "tickformat": ",.0%",
         "title": {
          "text": "Total Energy"
         },
         "visible": true
        },
        "yaxis": {
         "anchor": "x",
         "domain": [
          0,
          1
         ],
         "visible": true
        },
        "yaxis2": {
         "anchor": "x2",
         "domain": [
          0,
          1
         ],
         "visible": false
        },
        "yaxis3": {
         "anchor": "x3",
         "domain": [
          0,
          1
         ],
         "visible": false
        }
       }
      }
     },
     "metadata": {},
     "output_type": "display_data"
    }
   ],
   "source": [
    "segment = 'segment3'\n",
    "results = figure_positive_negative_savings(segment, community_results) \n",
    "saving_results[f'segment3_{income}_pct_bill_positive_savings_%'] = results[0]*100\n",
    "saving_results[f'segment3_{income}_pct_emission_positive_savings_%'] = results[1]*100\n",
    "saving_results[f'segment3_{income}_pct_energy_positive_savings_%'] = results[2]*100"
   ]
  },
  {
   "cell_type": "markdown",
   "id": "a37b751c",
   "metadata": {},
   "source": [
    "### Segment 4"
   ]
  },
  {
   "cell_type": "code",
   "execution_count": 35,
   "id": "20f060e0",
   "metadata": {},
   "outputs": [
    {
     "data": {
      "application/vnd.plotly.v1+json": {
       "config": {
        "plotlyServerURL": "https://plot.ly"
       },
       "data": [
        {
         "marker": {
          "color": "red"
         },
         "name": "Negative",
         "orientation": "h",
         "text": [
          1,
          0.52,
          0.45454545454545453,
          0.06521739130434782,
          0.03804347826086957,
          0.03278688524590164,
          0.014492753623188406,
          0.01098901098901099,
          0.00546448087431694,
          0.005405405405405406,
          0.005405405405405406,
          0,
          0,
          0,
          0,
          0
         ],
         "textposition": "inside",
         "texttemplate": "%{text:.0%}",
         "type": "bar",
         "x": [
          1,
          0.52,
          0.45454545454545453,
          0.06521739130434782,
          0.03804347826086957,
          0.03278688524590164,
          0.014492753623188406,
          0.01098901098901099,
          0.00546448087431694,
          0.005405405405405406,
          0.005405405405405406,
          0,
          0,
          0,
          0,
          0
         ],
         "xaxis": "x",
         "y": [
          "Electric Clothes Dryer",
          "Electric Cooking",
          "Mininum Efficiency Whole Home Electrification",
          "Induction Cooking",
          "Mininum Efficiency Heat Pump with Existing Heat Backup",
          "Mininum Efficiency Heat Pump with Electric Heat Backup",
          "Heat Pump Clothes Dryer",
          "Heat Pump Water Heater",
          "High Efficiency Heat Pump with Electric Heat Backup",
          "Basic Enclosure + HPWH + High Efficiency HP/Electric Backup",
          "Enhanced Enclosure + HPWH + High Efficiency HP/Electric Backup",
          "Basic Enclosure",
          "Basic Enclosure + High Efficiency Whole Home Electrification",
          "Enhanced Enclosure",
          "Enhanced Enclosure + High Efficiency Whole Home Electrification",
          "High Efficiency Whole Home Electrification"
         ],
         "yaxis": "y"
        },
        {
         "marker": {
          "color": "green"
         },
         "name": "Positive",
         "orientation": "h",
         "text": [
          0,
          0.48,
          0.5454545454545454,
          0.9347826086956522,
          0.9619565217391305,
          0.9672131147540983,
          0.9855072463768116,
          0.989010989010989,
          0.994535519125683,
          0.9945945945945946,
          0.9945945945945946,
          1,
          1,
          1,
          1,
          1
         ],
         "textposition": "inside",
         "texttemplate": "%{text:.0%}",
         "type": "bar",
         "x": [
          0,
          0.48,
          0.5454545454545454,
          0.9347826086956522,
          0.9619565217391305,
          0.9672131147540983,
          0.9855072463768116,
          0.989010989010989,
          0.994535519125683,
          0.9945945945945946,
          0.9945945945945946,
          1,
          1,
          1,
          1,
          1
         ],
         "xaxis": "x",
         "y": [
          "Electric Clothes Dryer",
          "Electric Cooking",
          "Mininum Efficiency Whole Home Electrification",
          "Induction Cooking",
          "Mininum Efficiency Heat Pump with Existing Heat Backup",
          "Mininum Efficiency Heat Pump with Electric Heat Backup",
          "Heat Pump Clothes Dryer",
          "Heat Pump Water Heater",
          "High Efficiency Heat Pump with Electric Heat Backup",
          "Basic Enclosure + HPWH + High Efficiency HP/Electric Backup",
          "Enhanced Enclosure + HPWH + High Efficiency HP/Electric Backup",
          "Basic Enclosure",
          "Basic Enclosure + High Efficiency Whole Home Electrification",
          "Enhanced Enclosure",
          "Enhanced Enclosure + High Efficiency Whole Home Electrification",
          "High Efficiency Whole Home Electrification"
         ],
         "yaxis": "y"
        },
        {
         "marker": {
          "color": "red"
         },
         "orientation": "h",
         "showlegend": false,
         "text": [
          0,
          0,
          0,
          0,
          0.03804347826086957,
          0.03278688524590164,
          0,
          0.016483516483516484,
          0.00546448087431694,
          0,
          0,
          0,
          0,
          0,
          0,
          0
         ],
         "textposition": "inside",
         "texttemplate": "%{text:.0%}",
         "type": "bar",
         "x": [
          0,
          0,
          0,
          0,
          0.03804347826086957,
          0.03278688524590164,
          0,
          0.016483516483516484,
          0.00546448087431694,
          0,
          0,
          0,
          0,
          0,
          0,
          0
         ],
         "xaxis": "x2",
         "y": [
          "Electric Clothes Dryer",
          "Electric Cooking",
          "Mininum Efficiency Whole Home Electrification",
          "Induction Cooking",
          "Mininum Efficiency Heat Pump with Existing Heat Backup",
          "Mininum Efficiency Heat Pump with Electric Heat Backup",
          "Heat Pump Clothes Dryer",
          "Heat Pump Water Heater",
          "High Efficiency Heat Pump with Electric Heat Backup",
          "Basic Enclosure + HPWH + High Efficiency HP/Electric Backup",
          "Enhanced Enclosure + HPWH + High Efficiency HP/Electric Backup",
          "Basic Enclosure",
          "Basic Enclosure + High Efficiency Whole Home Electrification",
          "Enhanced Enclosure",
          "Enhanced Enclosure + High Efficiency Whole Home Electrification",
          "High Efficiency Whole Home Electrification"
         ],
         "yaxis": "y2"
        },
        {
         "marker": {
          "color": "green"
         },
         "orientation": "h",
         "showlegend": false,
         "text": [
          1,
          1,
          1,
          1,
          0.9619565217391305,
          0.9672131147540983,
          1,
          0.9835164835164835,
          0.994535519125683,
          1,
          1,
          1,
          1,
          1,
          1,
          1
         ],
         "textposition": "inside",
         "texttemplate": "%{text:.0%}",
         "type": "bar",
         "x": [
          1,
          1,
          1,
          1,
          0.9619565217391305,
          0.9672131147540983,
          1,
          0.9835164835164835,
          0.994535519125683,
          1,
          1,
          1,
          1,
          1,
          1,
          1
         ],
         "xaxis": "x2",
         "y": [
          "Electric Clothes Dryer",
          "Electric Cooking",
          "Mininum Efficiency Whole Home Electrification",
          "Induction Cooking",
          "Mininum Efficiency Heat Pump with Existing Heat Backup",
          "Mininum Efficiency Heat Pump with Electric Heat Backup",
          "Heat Pump Clothes Dryer",
          "Heat Pump Water Heater",
          "High Efficiency Heat Pump with Electric Heat Backup",
          "Basic Enclosure + HPWH + High Efficiency HP/Electric Backup",
          "Enhanced Enclosure + HPWH + High Efficiency HP/Electric Backup",
          "Basic Enclosure",
          "Basic Enclosure + High Efficiency Whole Home Electrification",
          "Enhanced Enclosure",
          "Enhanced Enclosure + High Efficiency Whole Home Electrification",
          "High Efficiency Whole Home Electrification"
         ],
         "yaxis": "y2"
        },
        {
         "marker": {
          "color": "red"
         },
         "orientation": "h",
         "showlegend": false,
         "text": [
          0,
          0,
          0,
          0,
          0.03804347826086957,
          0.03278688524590164,
          0,
          0.01098901098901099,
          0.00546448087431694,
          0.005405405405405406,
          0.005405405405405406,
          0,
          0,
          0,
          0,
          0
         ],
         "textposition": "inside",
         "texttemplate": "%{text:.0%}",
         "type": "bar",
         "x": [
          0,
          0,
          0,
          0,
          0.03804347826086957,
          0.03278688524590164,
          0,
          0.01098901098901099,
          0.00546448087431694,
          0.005405405405405406,
          0.005405405405405406,
          0,
          0,
          0,
          0,
          0
         ],
         "xaxis": "x3",
         "y": [
          "Electric Clothes Dryer",
          "Electric Cooking",
          "Mininum Efficiency Whole Home Electrification",
          "Induction Cooking",
          "Mininum Efficiency Heat Pump with Existing Heat Backup",
          "Mininum Efficiency Heat Pump with Electric Heat Backup",
          "Heat Pump Clothes Dryer",
          "Heat Pump Water Heater",
          "High Efficiency Heat Pump with Electric Heat Backup",
          "Basic Enclosure + HPWH + High Efficiency HP/Electric Backup",
          "Enhanced Enclosure + HPWH + High Efficiency HP/Electric Backup",
          "Basic Enclosure",
          "Basic Enclosure + High Efficiency Whole Home Electrification",
          "Enhanced Enclosure",
          "Enhanced Enclosure + High Efficiency Whole Home Electrification",
          "High Efficiency Whole Home Electrification"
         ],
         "yaxis": "y3"
        },
        {
         "marker": {
          "color": "green"
         },
         "orientation": "h",
         "showlegend": false,
         "text": [
          1,
          1,
          1,
          1,
          0.9619565217391305,
          0.9672131147540983,
          1,
          0.989010989010989,
          0.994535519125683,
          0.9945945945945946,
          0.9945945945945946,
          1,
          1,
          1,
          1,
          1
         ],
         "textposition": "inside",
         "texttemplate": "%{text:.0%}",
         "type": "bar",
         "x": [
          1,
          1,
          1,
          1,
          0.9619565217391305,
          0.9672131147540983,
          1,
          0.989010989010989,
          0.994535519125683,
          0.9945945945945946,
          0.9945945945945946,
          1,
          1,
          1,
          1,
          1
         ],
         "xaxis": "x3",
         "y": [
          "Electric Clothes Dryer",
          "Electric Cooking",
          "Mininum Efficiency Whole Home Electrification",
          "Induction Cooking",
          "Mininum Efficiency Heat Pump with Existing Heat Backup",
          "Mininum Efficiency Heat Pump with Electric Heat Backup",
          "Heat Pump Clothes Dryer",
          "Heat Pump Water Heater",
          "High Efficiency Heat Pump with Electric Heat Backup",
          "Basic Enclosure + HPWH + High Efficiency HP/Electric Backup",
          "Enhanced Enclosure + HPWH + High Efficiency HP/Electric Backup",
          "Basic Enclosure",
          "Basic Enclosure + High Efficiency Whole Home Electrification",
          "Enhanced Enclosure",
          "Enhanced Enclosure + High Efficiency Whole Home Electrification",
          "High Efficiency Whole Home Electrification"
         ],
         "yaxis": "y3"
        }
       ],
       "layout": {
        "autosize": false,
        "barmode": "relative",
        "font": {
         "size": 10
        },
        "height": 500,
        "template": {
         "data": {
          "bar": [
           {
            "error_x": {
             "color": "#2a3f5f"
            },
            "error_y": {
             "color": "#2a3f5f"
            },
            "marker": {
             "line": {
              "color": "#E5ECF6",
              "width": 0.5
             },
             "pattern": {
              "fillmode": "overlay",
              "size": 10,
              "solidity": 0.2
             }
            },
            "type": "bar"
           }
          ],
          "barpolar": [
           {
            "marker": {
             "line": {
              "color": "#E5ECF6",
              "width": 0.5
             },
             "pattern": {
              "fillmode": "overlay",
              "size": 10,
              "solidity": 0.2
             }
            },
            "type": "barpolar"
           }
          ],
          "carpet": [
           {
            "aaxis": {
             "endlinecolor": "#2a3f5f",
             "gridcolor": "white",
             "linecolor": "white",
             "minorgridcolor": "white",
             "startlinecolor": "#2a3f5f"
            },
            "baxis": {
             "endlinecolor": "#2a3f5f",
             "gridcolor": "white",
             "linecolor": "white",
             "minorgridcolor": "white",
             "startlinecolor": "#2a3f5f"
            },
            "type": "carpet"
           }
          ],
          "choropleth": [
           {
            "colorbar": {
             "outlinewidth": 0,
             "ticks": ""
            },
            "type": "choropleth"
           }
          ],
          "contour": [
           {
            "colorbar": {
             "outlinewidth": 0,
             "ticks": ""
            },
            "colorscale": [
             [
              0,
              "#0d0887"
             ],
             [
              0.1111111111111111,
              "#46039f"
             ],
             [
              0.2222222222222222,
              "#7201a8"
             ],
             [
              0.3333333333333333,
              "#9c179e"
             ],
             [
              0.4444444444444444,
              "#bd3786"
             ],
             [
              0.5555555555555556,
              "#d8576b"
             ],
             [
              0.6666666666666666,
              "#ed7953"
             ],
             [
              0.7777777777777778,
              "#fb9f3a"
             ],
             [
              0.8888888888888888,
              "#fdca26"
             ],
             [
              1,
              "#f0f921"
             ]
            ],
            "type": "contour"
           }
          ],
          "contourcarpet": [
           {
            "colorbar": {
             "outlinewidth": 0,
             "ticks": ""
            },
            "type": "contourcarpet"
           }
          ],
          "heatmap": [
           {
            "colorbar": {
             "outlinewidth": 0,
             "ticks": ""
            },
            "colorscale": [
             [
              0,
              "#0d0887"
             ],
             [
              0.1111111111111111,
              "#46039f"
             ],
             [
              0.2222222222222222,
              "#7201a8"
             ],
             [
              0.3333333333333333,
              "#9c179e"
             ],
             [
              0.4444444444444444,
              "#bd3786"
             ],
             [
              0.5555555555555556,
              "#d8576b"
             ],
             [
              0.6666666666666666,
              "#ed7953"
             ],
             [
              0.7777777777777778,
              "#fb9f3a"
             ],
             [
              0.8888888888888888,
              "#fdca26"
             ],
             [
              1,
              "#f0f921"
             ]
            ],
            "type": "heatmap"
           }
          ],
          "heatmapgl": [
           {
            "colorbar": {
             "outlinewidth": 0,
             "ticks": ""
            },
            "colorscale": [
             [
              0,
              "#0d0887"
             ],
             [
              0.1111111111111111,
              "#46039f"
             ],
             [
              0.2222222222222222,
              "#7201a8"
             ],
             [
              0.3333333333333333,
              "#9c179e"
             ],
             [
              0.4444444444444444,
              "#bd3786"
             ],
             [
              0.5555555555555556,
              "#d8576b"
             ],
             [
              0.6666666666666666,
              "#ed7953"
             ],
             [
              0.7777777777777778,
              "#fb9f3a"
             ],
             [
              0.8888888888888888,
              "#fdca26"
             ],
             [
              1,
              "#f0f921"
             ]
            ],
            "type": "heatmapgl"
           }
          ],
          "histogram": [
           {
            "marker": {
             "pattern": {
              "fillmode": "overlay",
              "size": 10,
              "solidity": 0.2
             }
            },
            "type": "histogram"
           }
          ],
          "histogram2d": [
           {
            "colorbar": {
             "outlinewidth": 0,
             "ticks": ""
            },
            "colorscale": [
             [
              0,
              "#0d0887"
             ],
             [
              0.1111111111111111,
              "#46039f"
             ],
             [
              0.2222222222222222,
              "#7201a8"
             ],
             [
              0.3333333333333333,
              "#9c179e"
             ],
             [
              0.4444444444444444,
              "#bd3786"
             ],
             [
              0.5555555555555556,
              "#d8576b"
             ],
             [
              0.6666666666666666,
              "#ed7953"
             ],
             [
              0.7777777777777778,
              "#fb9f3a"
             ],
             [
              0.8888888888888888,
              "#fdca26"
             ],
             [
              1,
              "#f0f921"
             ]
            ],
            "type": "histogram2d"
           }
          ],
          "histogram2dcontour": [
           {
            "colorbar": {
             "outlinewidth": 0,
             "ticks": ""
            },
            "colorscale": [
             [
              0,
              "#0d0887"
             ],
             [
              0.1111111111111111,
              "#46039f"
             ],
             [
              0.2222222222222222,
              "#7201a8"
             ],
             [
              0.3333333333333333,
              "#9c179e"
             ],
             [
              0.4444444444444444,
              "#bd3786"
             ],
             [
              0.5555555555555556,
              "#d8576b"
             ],
             [
              0.6666666666666666,
              "#ed7953"
             ],
             [
              0.7777777777777778,
              "#fb9f3a"
             ],
             [
              0.8888888888888888,
              "#fdca26"
             ],
             [
              1,
              "#f0f921"
             ]
            ],
            "type": "histogram2dcontour"
           }
          ],
          "mesh3d": [
           {
            "colorbar": {
             "outlinewidth": 0,
             "ticks": ""
            },
            "type": "mesh3d"
           }
          ],
          "parcoords": [
           {
            "line": {
             "colorbar": {
              "outlinewidth": 0,
              "ticks": ""
             }
            },
            "type": "parcoords"
           }
          ],
          "pie": [
           {
            "automargin": true,
            "type": "pie"
           }
          ],
          "scatter": [
           {
            "fillpattern": {
             "fillmode": "overlay",
             "size": 10,
             "solidity": 0.2
            },
            "type": "scatter"
           }
          ],
          "scatter3d": [
           {
            "line": {
             "colorbar": {
              "outlinewidth": 0,
              "ticks": ""
             }
            },
            "marker": {
             "colorbar": {
              "outlinewidth": 0,
              "ticks": ""
             }
            },
            "type": "scatter3d"
           }
          ],
          "scattercarpet": [
           {
            "marker": {
             "colorbar": {
              "outlinewidth": 0,
              "ticks": ""
             }
            },
            "type": "scattercarpet"
           }
          ],
          "scattergeo": [
           {
            "marker": {
             "colorbar": {
              "outlinewidth": 0,
              "ticks": ""
             }
            },
            "type": "scattergeo"
           }
          ],
          "scattergl": [
           {
            "marker": {
             "colorbar": {
              "outlinewidth": 0,
              "ticks": ""
             }
            },
            "type": "scattergl"
           }
          ],
          "scattermapbox": [
           {
            "marker": {
             "colorbar": {
              "outlinewidth": 0,
              "ticks": ""
             }
            },
            "type": "scattermapbox"
           }
          ],
          "scatterpolar": [
           {
            "marker": {
             "colorbar": {
              "outlinewidth": 0,
              "ticks": ""
             }
            },
            "type": "scatterpolar"
           }
          ],
          "scatterpolargl": [
           {
            "marker": {
             "colorbar": {
              "outlinewidth": 0,
              "ticks": ""
             }
            },
            "type": "scatterpolargl"
           }
          ],
          "scatterternary": [
           {
            "marker": {
             "colorbar": {
              "outlinewidth": 0,
              "ticks": ""
             }
            },
            "type": "scatterternary"
           }
          ],
          "surface": [
           {
            "colorbar": {
             "outlinewidth": 0,
             "ticks": ""
            },
            "colorscale": [
             [
              0,
              "#0d0887"
             ],
             [
              0.1111111111111111,
              "#46039f"
             ],
             [
              0.2222222222222222,
              "#7201a8"
             ],
             [
              0.3333333333333333,
              "#9c179e"
             ],
             [
              0.4444444444444444,
              "#bd3786"
             ],
             [
              0.5555555555555556,
              "#d8576b"
             ],
             [
              0.6666666666666666,
              "#ed7953"
             ],
             [
              0.7777777777777778,
              "#fb9f3a"
             ],
             [
              0.8888888888888888,
              "#fdca26"
             ],
             [
              1,
              "#f0f921"
             ]
            ],
            "type": "surface"
           }
          ],
          "table": [
           {
            "cells": {
             "fill": {
              "color": "#EBF0F8"
             },
             "line": {
              "color": "white"
             }
            },
            "header": {
             "fill": {
              "color": "#C8D4E3"
             },
             "line": {
              "color": "white"
             }
            },
            "type": "table"
           }
          ]
         },
         "layout": {
          "annotationdefaults": {
           "arrowcolor": "#2a3f5f",
           "arrowhead": 0,
           "arrowwidth": 1
          },
          "autotypenumbers": "strict",
          "coloraxis": {
           "colorbar": {
            "outlinewidth": 0,
            "ticks": ""
           }
          },
          "colorscale": {
           "diverging": [
            [
             0,
             "#8e0152"
            ],
            [
             0.1,
             "#c51b7d"
            ],
            [
             0.2,
             "#de77ae"
            ],
            [
             0.3,
             "#f1b6da"
            ],
            [
             0.4,
             "#fde0ef"
            ],
            [
             0.5,
             "#f7f7f7"
            ],
            [
             0.6,
             "#e6f5d0"
            ],
            [
             0.7,
             "#b8e186"
            ],
            [
             0.8,
             "#7fbc41"
            ],
            [
             0.9,
             "#4d9221"
            ],
            [
             1,
             "#276419"
            ]
           ],
           "sequential": [
            [
             0,
             "#0d0887"
            ],
            [
             0.1111111111111111,
             "#46039f"
            ],
            [
             0.2222222222222222,
             "#7201a8"
            ],
            [
             0.3333333333333333,
             "#9c179e"
            ],
            [
             0.4444444444444444,
             "#bd3786"
            ],
            [
             0.5555555555555556,
             "#d8576b"
            ],
            [
             0.6666666666666666,
             "#ed7953"
            ],
            [
             0.7777777777777778,
             "#fb9f3a"
            ],
            [
             0.8888888888888888,
             "#fdca26"
            ],
            [
             1,
             "#f0f921"
            ]
           ],
           "sequentialminus": [
            [
             0,
             "#0d0887"
            ],
            [
             0.1111111111111111,
             "#46039f"
            ],
            [
             0.2222222222222222,
             "#7201a8"
            ],
            [
             0.3333333333333333,
             "#9c179e"
            ],
            [
             0.4444444444444444,
             "#bd3786"
            ],
            [
             0.5555555555555556,
             "#d8576b"
            ],
            [
             0.6666666666666666,
             "#ed7953"
            ],
            [
             0.7777777777777778,
             "#fb9f3a"
            ],
            [
             0.8888888888888888,
             "#fdca26"
            ],
            [
             1,
             "#f0f921"
            ]
           ]
          },
          "colorway": [
           "#636efa",
           "#EF553B",
           "#00cc96",
           "#ab63fa",
           "#FFA15A",
           "#19d3f3",
           "#FF6692",
           "#B6E880",
           "#FF97FF",
           "#FECB52"
          ],
          "font": {
           "color": "#2a3f5f"
          },
          "geo": {
           "bgcolor": "white",
           "lakecolor": "white",
           "landcolor": "#E5ECF6",
           "showlakes": true,
           "showland": true,
           "subunitcolor": "white"
          },
          "hoverlabel": {
           "align": "left"
          },
          "hovermode": "closest",
          "mapbox": {
           "style": "light"
          },
          "paper_bgcolor": "white",
          "plot_bgcolor": "#E5ECF6",
          "polar": {
           "angularaxis": {
            "gridcolor": "white",
            "linecolor": "white",
            "ticks": ""
           },
           "bgcolor": "#E5ECF6",
           "radialaxis": {
            "gridcolor": "white",
            "linecolor": "white",
            "ticks": ""
           }
          },
          "scene": {
           "xaxis": {
            "backgroundcolor": "#E5ECF6",
            "gridcolor": "white",
            "gridwidth": 2,
            "linecolor": "white",
            "showbackground": true,
            "ticks": "",
            "zerolinecolor": "white"
           },
           "yaxis": {
            "backgroundcolor": "#E5ECF6",
            "gridcolor": "white",
            "gridwidth": 2,
            "linecolor": "white",
            "showbackground": true,
            "ticks": "",
            "zerolinecolor": "white"
           },
           "zaxis": {
            "backgroundcolor": "#E5ECF6",
            "gridcolor": "white",
            "gridwidth": 2,
            "linecolor": "white",
            "showbackground": true,
            "ticks": "",
            "zerolinecolor": "white"
           }
          },
          "shapedefaults": {
           "line": {
            "color": "#2a3f5f"
           }
          },
          "ternary": {
           "aaxis": {
            "gridcolor": "white",
            "linecolor": "white",
            "ticks": ""
           },
           "baxis": {
            "gridcolor": "white",
            "linecolor": "white",
            "ticks": ""
           },
           "bgcolor": "#E5ECF6",
           "caxis": {
            "gridcolor": "white",
            "linecolor": "white",
            "ticks": ""
           }
          },
          "title": {
           "x": 0.05
          },
          "xaxis": {
           "automargin": true,
           "gridcolor": "white",
           "linecolor": "white",
           "ticks": "",
           "title": {
            "standoff": 15
           },
           "zerolinecolor": "white",
           "zerolinewidth": 2
          },
          "yaxis": {
           "automargin": true,
           "gridcolor": "white",
           "linecolor": "white",
           "ticks": "",
           "title": {
            "standoff": 15
           },
           "zerolinecolor": "white",
           "zerolinewidth": 2
          }
         }
        },
        "title": {
         "text": "Percentage of Household in Positive and Negative Savings"
        },
        "width": 1000,
        "xaxis": {
         "anchor": "y",
         "domain": [
          0,
          0.2888888888888889
         ],
         "tickformat": ",.0%",
         "title": {
          "text": "Bill"
         },
         "visible": true
        },
        "xaxis2": {
         "anchor": "y2",
         "domain": [
          0.35555555555555557,
          0.6444444444444445
         ],
         "tickformat": ",.0%",
         "title": {
          "text": "Emission"
         },
         "visible": true
        },
        "xaxis3": {
         "anchor": "y3",
         "domain": [
          0.7111111111111111,
          1
         ],
         "tickformat": ",.0%",
         "title": {
          "text": "Total Energy"
         },
         "visible": true
        },
        "yaxis": {
         "anchor": "x",
         "domain": [
          0,
          1
         ],
         "visible": true
        },
        "yaxis2": {
         "anchor": "x2",
         "domain": [
          0,
          1
         ],
         "visible": false
        },
        "yaxis3": {
         "anchor": "x3",
         "domain": [
          0,
          1
         ],
         "visible": false
        }
       }
      }
     },
     "metadata": {},
     "output_type": "display_data"
    }
   ],
   "source": [
    "segment = 'segment4'\n",
    "results = figure_positive_negative_savings(segment, community_results)\n",
    "saving_results[f'segment4_{income}_pct_bill_positive_savings_%'] = results[0]*100\n",
    "saving_results[f'segment4_{income}_pct_emission_positive_savings_%'] = results[1]*100\n",
    "saving_results[f'segment4_{income}_pct_energy_positive_savings_%'] = results[2]*100"
   ]
  },
  {
   "cell_type": "markdown",
   "id": "b53c1061",
   "metadata": {},
   "source": [
    "## 2.6. Average Energy Burden (%) Before and after Upgrade"
   ]
  },
  {
   "cell_type": "code",
   "execution_count": 36,
   "id": "1c373671",
   "metadata": {},
   "outputs": [
    {
     "name": "stdout",
     "output_type": "stream",
     "text": [
      "energy burden (%) before and after upgrade\n",
      "segment1\n"
     ]
    },
    {
     "name": "stderr",
     "output_type": "stream",
     "text": [
      "/var/folders/zw/lhnn73fj2250g9z11h_whq1szkf2pm/T/ipykernel_46519/3555432078.py:4: SettingWithCopyWarning:\n",
      "\n",
      "\n",
      "A value is trying to be set on a copy of a slice from a DataFrame\n",
      "\n",
      "See the caveats in the documentation: https://pandas.pydata.org/pandas-docs/stable/user_guide/indexing.html#returning-a-view-versus-a-copy\n",
      "\n",
      "/var/folders/zw/lhnn73fj2250g9z11h_whq1szkf2pm/T/ipykernel_46519/3555432078.py:5: SettingWithCopyWarning:\n",
      "\n",
      "\n",
      "A value is trying to be set on a copy of a slice from a DataFrame\n",
      "\n",
      "See the caveats in the documentation: https://pandas.pydata.org/pandas-docs/stable/user_guide/indexing.html#returning-a-view-versus-a-copy\n",
      "\n",
      "/var/folders/zw/lhnn73fj2250g9z11h_whq1szkf2pm/T/ipykernel_46519/3555432078.py:6: SettingWithCopyWarning:\n",
      "\n",
      "\n",
      "A value is trying to be set on a copy of a slice from a DataFrame.\n",
      "Try using .loc[row_indexer,col_indexer] = value instead\n",
      "\n",
      "See the caveats in the documentation: https://pandas.pydata.org/pandas-docs/stable/user_guide/indexing.html#returning-a-view-versus-a-copy\n",
      "\n",
      "/var/folders/zw/lhnn73fj2250g9z11h_whq1szkf2pm/T/ipykernel_46519/3555432078.py:7: SettingWithCopyWarning:\n",
      "\n",
      "\n",
      "A value is trying to be set on a copy of a slice from a DataFrame.\n",
      "Try using .loc[row_indexer,col_indexer] = value instead\n",
      "\n",
      "See the caveats in the documentation: https://pandas.pydata.org/pandas-docs/stable/user_guide/indexing.html#returning-a-view-versus-a-copy\n",
      "\n"
     ]
    },
    {
     "data": {
      "text/html": [
       "<div>\n",
       "<style scoped>\n",
       "    .dataframe tbody tr th:only-of-type {\n",
       "        vertical-align: middle;\n",
       "    }\n",
       "\n",
       "    .dataframe tbody tr th {\n",
       "        vertical-align: top;\n",
       "    }\n",
       "\n",
       "    .dataframe thead th {\n",
       "        text-align: right;\n",
       "    }\n",
       "</style>\n",
       "<table border=\"1\" class=\"dataframe\">\n",
       "  <thead>\n",
       "    <tr style=\"text-align: right;\">\n",
       "      <th></th>\n",
       "      <th>before</th>\n",
       "      <th>after</th>\n",
       "    </tr>\n",
       "    <tr>\n",
       "      <th>upgrade_name</th>\n",
       "      <th></th>\n",
       "      <th></th>\n",
       "    </tr>\n",
       "  </thead>\n",
       "  <tbody>\n",
       "    <tr>\n",
       "      <th>Enhanced Enclosure + High Efficiency Whole Home Electrification</th>\n",
       "      <td>14.9</td>\n",
       "      <td>6.9</td>\n",
       "    </tr>\n",
       "    <tr>\n",
       "      <th>Basic Enclosure + High Efficiency Whole Home Electrification</th>\n",
       "      <td>14.9</td>\n",
       "      <td>7.0</td>\n",
       "    </tr>\n",
       "    <tr>\n",
       "      <th>Enhanced Enclosure + HPWH + High Efficiency HP/Electric Backup</th>\n",
       "      <td>14.9</td>\n",
       "      <td>7.1</td>\n",
       "    </tr>\n",
       "    <tr>\n",
       "      <th>Basic Enclosure + HPWH + High Efficiency HP/Electric Backup</th>\n",
       "      <td>14.9</td>\n",
       "      <td>7.2</td>\n",
       "    </tr>\n",
       "    <tr>\n",
       "      <th>High Efficiency Whole Home Electrification</th>\n",
       "      <td>14.9</td>\n",
       "      <td>8.1</td>\n",
       "    </tr>\n",
       "    <tr>\n",
       "      <th>High Efficiency Heat Pump with Electric Heat Backup</th>\n",
       "      <td>14.9</td>\n",
       "      <td>9.1</td>\n",
       "    </tr>\n",
       "    <tr>\n",
       "      <th>Enhanced Enclosure</th>\n",
       "      <td>14.9</td>\n",
       "      <td>11.1</td>\n",
       "    </tr>\n",
       "    <tr>\n",
       "      <th>Basic Enclosure</th>\n",
       "      <td>14.9</td>\n",
       "      <td>11.6</td>\n",
       "    </tr>\n",
       "    <tr>\n",
       "      <th>Mininum Efficiency Heat Pump with Electric Heat Backup</th>\n",
       "      <td>14.9</td>\n",
       "      <td>12.2</td>\n",
       "    </tr>\n",
       "    <tr>\n",
       "      <th>Mininum Efficiency Heat Pump with Existing Heat Backup</th>\n",
       "      <td>14.9</td>\n",
       "      <td>12.3</td>\n",
       "    </tr>\n",
       "    <tr>\n",
       "      <th>Mininum Efficiency Whole Home Electrification</th>\n",
       "      <td>13.6</td>\n",
       "      <td>12.0</td>\n",
       "    </tr>\n",
       "    <tr>\n",
       "      <th>Heat Pump Water Heater</th>\n",
       "      <td>14.8</td>\n",
       "      <td>14.2</td>\n",
       "    </tr>\n",
       "    <tr>\n",
       "      <th>Heat Pump Clothes Dryer</th>\n",
       "      <td>14.5</td>\n",
       "      <td>14.3</td>\n",
       "    </tr>\n",
       "    <tr>\n",
       "      <th>Induction Cooking</th>\n",
       "      <td>15.0</td>\n",
       "      <td>15.0</td>\n",
       "    </tr>\n",
       "    <tr>\n",
       "      <th>Electric Cooking</th>\n",
       "      <td>12.3</td>\n",
       "      <td>12.3</td>\n",
       "    </tr>\n",
       "    <tr>\n",
       "      <th>Electric Clothes Dryer</th>\n",
       "      <td>14.2</td>\n",
       "      <td>14.3</td>\n",
       "    </tr>\n",
       "  </tbody>\n",
       "</table>\n",
       "</div>"
      ],
      "text/plain": [
       "                                                    before  after\n",
       "upgrade_name                                                     \n",
       "Enhanced Enclosure + High Efficiency Whole Home...    14.9    6.9\n",
       "Basic Enclosure + High Efficiency Whole Home El...    14.9    7.0\n",
       "Enhanced Enclosure + HPWH + High Efficiency HP/...    14.9    7.1\n",
       "Basic Enclosure + HPWH + High Efficiency HP/Ele...    14.9    7.2\n",
       "High Efficiency Whole Home Electrification            14.9    8.1\n",
       "High Efficiency Heat Pump with Electric Heat Ba...    14.9    9.1\n",
       "Enhanced Enclosure                                    14.9   11.1\n",
       "Basic Enclosure                                       14.9   11.6\n",
       "Mininum Efficiency Heat Pump with Electric Heat...    14.9   12.2\n",
       "Mininum Efficiency Heat Pump with Existing Heat...    14.9   12.3\n",
       "Mininum Efficiency Whole Home Electrification         13.6   12.0\n",
       "Heat Pump Water Heater                                14.8   14.2\n",
       "Heat Pump Clothes Dryer                               14.5   14.3\n",
       "Induction Cooking                                     15.0   15.0\n",
       "Electric Cooking                                      12.3   12.3\n",
       "Electric Clothes Dryer                                14.2   14.3"
      ]
     },
     "metadata": {},
     "output_type": "display_data"
    },
    {
     "name": "stdout",
     "output_type": "stream",
     "text": [
      "segment2\n"
     ]
    },
    {
     "data": {
      "text/html": [
       "<div>\n",
       "<style scoped>\n",
       "    .dataframe tbody tr th:only-of-type {\n",
       "        vertical-align: middle;\n",
       "    }\n",
       "\n",
       "    .dataframe tbody tr th {\n",
       "        vertical-align: top;\n",
       "    }\n",
       "\n",
       "    .dataframe thead th {\n",
       "        text-align: right;\n",
       "    }\n",
       "</style>\n",
       "<table border=\"1\" class=\"dataframe\">\n",
       "  <thead>\n",
       "    <tr style=\"text-align: right;\">\n",
       "      <th></th>\n",
       "      <th>before</th>\n",
       "      <th>after</th>\n",
       "    </tr>\n",
       "    <tr>\n",
       "      <th>upgrade_name</th>\n",
       "      <th></th>\n",
       "      <th></th>\n",
       "    </tr>\n",
       "  </thead>\n",
       "  <tbody>\n",
       "    <tr>\n",
       "      <th>Enhanced Enclosure + High Efficiency Whole Home Electrification</th>\n",
       "      <td>12.9</td>\n",
       "      <td>7.3</td>\n",
       "    </tr>\n",
       "    <tr>\n",
       "      <th>Basic Enclosure + High Efficiency Whole Home Electrification</th>\n",
       "      <td>12.9</td>\n",
       "      <td>7.4</td>\n",
       "    </tr>\n",
       "    <tr>\n",
       "      <th>Enhanced Enclosure + HPWH + High Efficiency HP/Electric Backup</th>\n",
       "      <td>12.9</td>\n",
       "      <td>7.5</td>\n",
       "    </tr>\n",
       "    <tr>\n",
       "      <th>Basic Enclosure + HPWH + High Efficiency HP/Electric Backup</th>\n",
       "      <td>12.9</td>\n",
       "      <td>7.6</td>\n",
       "    </tr>\n",
       "    <tr>\n",
       "      <th>High Efficiency Whole Home Electrification</th>\n",
       "      <td>12.9</td>\n",
       "      <td>7.8</td>\n",
       "    </tr>\n",
       "    <tr>\n",
       "      <th>High Efficiency Heat Pump with Electric Heat Backup</th>\n",
       "      <td>12.9</td>\n",
       "      <td>9.4</td>\n",
       "    </tr>\n",
       "    <tr>\n",
       "      <th>Mininum Efficiency Heat Pump with Existing Heat Backup</th>\n",
       "      <td>13.1</td>\n",
       "      <td>11.5</td>\n",
       "    </tr>\n",
       "    <tr>\n",
       "      <th>Mininum Efficiency Heat Pump with Electric Heat Backup</th>\n",
       "      <td>12.9</td>\n",
       "      <td>11.3</td>\n",
       "    </tr>\n",
       "    <tr>\n",
       "      <th>Enhanced Enclosure</th>\n",
       "      <td>12.9</td>\n",
       "      <td>11.5</td>\n",
       "    </tr>\n",
       "    <tr>\n",
       "      <th>Basic Enclosure</th>\n",
       "      <td>13.0</td>\n",
       "      <td>11.8</td>\n",
       "    </tr>\n",
       "    <tr>\n",
       "      <th>Heat Pump Water Heater</th>\n",
       "      <td>12.5</td>\n",
       "      <td>11.5</td>\n",
       "    </tr>\n",
       "    <tr>\n",
       "      <th>Heat Pump Clothes Dryer</th>\n",
       "      <td>11.1</td>\n",
       "      <td>10.8</td>\n",
       "    </tr>\n",
       "    <tr>\n",
       "      <th>Mininum Efficiency Whole Home Electrification</th>\n",
       "      <td>7.4</td>\n",
       "      <td>7.3</td>\n",
       "    </tr>\n",
       "    <tr>\n",
       "      <th>Induction Cooking</th>\n",
       "      <td>12.9</td>\n",
       "      <td>12.8</td>\n",
       "    </tr>\n",
       "    <tr>\n",
       "      <th>Electric Clothes Dryer</th>\n",
       "      <td>5.8</td>\n",
       "      <td>5.9</td>\n",
       "    </tr>\n",
       "    <tr>\n",
       "      <th>Electric Cooking</th>\n",
       "      <td>8.0</td>\n",
       "      <td>8.1</td>\n",
       "    </tr>\n",
       "  </tbody>\n",
       "</table>\n",
       "</div>"
      ],
      "text/plain": [
       "                                                    before  after\n",
       "upgrade_name                                                     \n",
       "Enhanced Enclosure + High Efficiency Whole Home...    12.9    7.3\n",
       "Basic Enclosure + High Efficiency Whole Home El...    12.9    7.4\n",
       "Enhanced Enclosure + HPWH + High Efficiency HP/...    12.9    7.5\n",
       "Basic Enclosure + HPWH + High Efficiency HP/Ele...    12.9    7.6\n",
       "High Efficiency Whole Home Electrification            12.9    7.8\n",
       "High Efficiency Heat Pump with Electric Heat Ba...    12.9    9.4\n",
       "Mininum Efficiency Heat Pump with Existing Heat...    13.1   11.5\n",
       "Mininum Efficiency Heat Pump with Electric Heat...    12.9   11.3\n",
       "Enhanced Enclosure                                    12.9   11.5\n",
       "Basic Enclosure                                       13.0   11.8\n",
       "Heat Pump Water Heater                                12.5   11.5\n",
       "Heat Pump Clothes Dryer                               11.1   10.8\n",
       "Mininum Efficiency Whole Home Electrification          7.4    7.3\n",
       "Induction Cooking                                     12.9   12.8\n",
       "Electric Clothes Dryer                                 5.8    5.9\n",
       "Electric Cooking                                       8.0    8.1"
      ]
     },
     "metadata": {},
     "output_type": "display_data"
    },
    {
     "name": "stdout",
     "output_type": "stream",
     "text": [
      "segment3\n"
     ]
    },
    {
     "data": {
      "text/html": [
       "<div>\n",
       "<style scoped>\n",
       "    .dataframe tbody tr th:only-of-type {\n",
       "        vertical-align: middle;\n",
       "    }\n",
       "\n",
       "    .dataframe tbody tr th {\n",
       "        vertical-align: top;\n",
       "    }\n",
       "\n",
       "    .dataframe thead th {\n",
       "        text-align: right;\n",
       "    }\n",
       "</style>\n",
       "<table border=\"1\" class=\"dataframe\">\n",
       "  <thead>\n",
       "    <tr style=\"text-align: right;\">\n",
       "      <th></th>\n",
       "      <th>before</th>\n",
       "      <th>after</th>\n",
       "    </tr>\n",
       "    <tr>\n",
       "      <th>upgrade_name</th>\n",
       "      <th></th>\n",
       "      <th></th>\n",
       "    </tr>\n",
       "  </thead>\n",
       "  <tbody>\n",
       "    <tr>\n",
       "      <th>Enhanced Enclosure + High Efficiency Whole Home Electrification</th>\n",
       "      <td>14.1</td>\n",
       "      <td>7.8</td>\n",
       "    </tr>\n",
       "    <tr>\n",
       "      <th>Basic Enclosure + High Efficiency Whole Home Electrification</th>\n",
       "      <td>14.1</td>\n",
       "      <td>7.9</td>\n",
       "    </tr>\n",
       "    <tr>\n",
       "      <th>Enhanced Enclosure + HPWH + High Efficiency HP/Electric Backup</th>\n",
       "      <td>14.1</td>\n",
       "      <td>8.1</td>\n",
       "    </tr>\n",
       "    <tr>\n",
       "      <th>Basic Enclosure + HPWH + High Efficiency HP/Electric Backup</th>\n",
       "      <td>14.1</td>\n",
       "      <td>8.1</td>\n",
       "    </tr>\n",
       "    <tr>\n",
       "      <th>High Efficiency Whole Home Electrification</th>\n",
       "      <td>14.1</td>\n",
       "      <td>8.2</td>\n",
       "    </tr>\n",
       "    <tr>\n",
       "      <th>High Efficiency Heat Pump with Electric Heat Backup</th>\n",
       "      <td>14.1</td>\n",
       "      <td>9.8</td>\n",
       "    </tr>\n",
       "    <tr>\n",
       "      <th>Mininum Efficiency Heat Pump with Electric Heat Backup</th>\n",
       "      <td>14.1</td>\n",
       "      <td>11.9</td>\n",
       "    </tr>\n",
       "    <tr>\n",
       "      <th>Mininum Efficiency Heat Pump with Existing Heat Backup</th>\n",
       "      <td>14.1</td>\n",
       "      <td>11.9</td>\n",
       "    </tr>\n",
       "    <tr>\n",
       "      <th>Enhanced Enclosure</th>\n",
       "      <td>14.1</td>\n",
       "      <td>12.7</td>\n",
       "    </tr>\n",
       "    <tr>\n",
       "      <th>Basic Enclosure</th>\n",
       "      <td>14.1</td>\n",
       "      <td>12.9</td>\n",
       "    </tr>\n",
       "    <tr>\n",
       "      <th>Heat Pump Water Heater</th>\n",
       "      <td>14.1</td>\n",
       "      <td>13.2</td>\n",
       "    </tr>\n",
       "    <tr>\n",
       "      <th>Mininum Efficiency Whole Home Electrification</th>\n",
       "      <td>14.9</td>\n",
       "      <td>14.3</td>\n",
       "    </tr>\n",
       "    <tr>\n",
       "      <th>Heat Pump Clothes Dryer</th>\n",
       "      <td>14.1</td>\n",
       "      <td>13.9</td>\n",
       "    </tr>\n",
       "    <tr>\n",
       "      <th>Induction Cooking</th>\n",
       "      <td>14.1</td>\n",
       "      <td>14.1</td>\n",
       "    </tr>\n",
       "    <tr>\n",
       "      <th>Electric Clothes Dryer</th>\n",
       "      <td>4.0</td>\n",
       "      <td>4.0</td>\n",
       "    </tr>\n",
       "    <tr>\n",
       "      <th>Electric Cooking</th>\n",
       "      <td>25.5</td>\n",
       "      <td>25.5</td>\n",
       "    </tr>\n",
       "  </tbody>\n",
       "</table>\n",
       "</div>"
      ],
      "text/plain": [
       "                                                    before  after\n",
       "upgrade_name                                                     \n",
       "Enhanced Enclosure + High Efficiency Whole Home...    14.1    7.8\n",
       "Basic Enclosure + High Efficiency Whole Home El...    14.1    7.9\n",
       "Enhanced Enclosure + HPWH + High Efficiency HP/...    14.1    8.1\n",
       "Basic Enclosure + HPWH + High Efficiency HP/Ele...    14.1    8.1\n",
       "High Efficiency Whole Home Electrification            14.1    8.2\n",
       "High Efficiency Heat Pump with Electric Heat Ba...    14.1    9.8\n",
       "Mininum Efficiency Heat Pump with Electric Heat...    14.1   11.9\n",
       "Mininum Efficiency Heat Pump with Existing Heat...    14.1   11.9\n",
       "Enhanced Enclosure                                    14.1   12.7\n",
       "Basic Enclosure                                       14.1   12.9\n",
       "Heat Pump Water Heater                                14.1   13.2\n",
       "Mininum Efficiency Whole Home Electrification         14.9   14.3\n",
       "Heat Pump Clothes Dryer                               14.1   13.9\n",
       "Induction Cooking                                     14.1   14.1\n",
       "Electric Clothes Dryer                                 4.0    4.0\n",
       "Electric Cooking                                      25.5   25.5"
      ]
     },
     "metadata": {},
     "output_type": "display_data"
    },
    {
     "name": "stdout",
     "output_type": "stream",
     "text": [
      "segment4\n"
     ]
    },
    {
     "data": {
      "text/html": [
       "<div>\n",
       "<style scoped>\n",
       "    .dataframe tbody tr th:only-of-type {\n",
       "        vertical-align: middle;\n",
       "    }\n",
       "\n",
       "    .dataframe tbody tr th {\n",
       "        vertical-align: top;\n",
       "    }\n",
       "\n",
       "    .dataframe thead th {\n",
       "        text-align: right;\n",
       "    }\n",
       "</style>\n",
       "<table border=\"1\" class=\"dataframe\">\n",
       "  <thead>\n",
       "    <tr style=\"text-align: right;\">\n",
       "      <th></th>\n",
       "      <th>before</th>\n",
       "      <th>after</th>\n",
       "    </tr>\n",
       "    <tr>\n",
       "      <th>upgrade_name</th>\n",
       "      <th></th>\n",
       "      <th></th>\n",
       "    </tr>\n",
       "  </thead>\n",
       "  <tbody>\n",
       "    <tr>\n",
       "      <th>Enhanced Enclosure + High Efficiency Whole Home Electrification</th>\n",
       "      <td>10.3</td>\n",
       "      <td>6.3</td>\n",
       "    </tr>\n",
       "    <tr>\n",
       "      <th>Basic Enclosure + High Efficiency Whole Home Electrification</th>\n",
       "      <td>10.3</td>\n",
       "      <td>6.4</td>\n",
       "    </tr>\n",
       "    <tr>\n",
       "      <th>Enhanced Enclosure + HPWH + High Efficiency HP/Electric Backup</th>\n",
       "      <td>10.3</td>\n",
       "      <td>6.4</td>\n",
       "    </tr>\n",
       "    <tr>\n",
       "      <th>Basic Enclosure + HPWH + High Efficiency HP/Electric Backup</th>\n",
       "      <td>10.3</td>\n",
       "      <td>6.6</td>\n",
       "    </tr>\n",
       "    <tr>\n",
       "      <th>High Efficiency Whole Home Electrification</th>\n",
       "      <td>10.3</td>\n",
       "      <td>6.6</td>\n",
       "    </tr>\n",
       "    <tr>\n",
       "      <th>High Efficiency Heat Pump with Electric Heat Backup</th>\n",
       "      <td>10.3</td>\n",
       "      <td>8.0</td>\n",
       "    </tr>\n",
       "    <tr>\n",
       "      <th>Heat Pump Water Heater</th>\n",
       "      <td>10.3</td>\n",
       "      <td>9.3</td>\n",
       "    </tr>\n",
       "    <tr>\n",
       "      <th>Enhanced Enclosure</th>\n",
       "      <td>10.5</td>\n",
       "      <td>9.6</td>\n",
       "    </tr>\n",
       "    <tr>\n",
       "      <th>Mininum Efficiency Heat Pump with Electric Heat Backup</th>\n",
       "      <td>10.3</td>\n",
       "      <td>9.4</td>\n",
       "    </tr>\n",
       "    <tr>\n",
       "      <th>Mininum Efficiency Heat Pump with Existing Heat Backup</th>\n",
       "      <td>10.4</td>\n",
       "      <td>9.6</td>\n",
       "    </tr>\n",
       "    <tr>\n",
       "      <th>Basic Enclosure</th>\n",
       "      <td>10.1</td>\n",
       "      <td>9.5</td>\n",
       "    </tr>\n",
       "    <tr>\n",
       "      <th>Heat Pump Clothes Dryer</th>\n",
       "      <td>11.2</td>\n",
       "      <td>11.0</td>\n",
       "    </tr>\n",
       "    <tr>\n",
       "      <th>Mininum Efficiency Whole Home Electrification</th>\n",
       "      <td>7.0</td>\n",
       "      <td>6.8</td>\n",
       "    </tr>\n",
       "    <tr>\n",
       "      <th>Induction Cooking</th>\n",
       "      <td>10.4</td>\n",
       "      <td>10.3</td>\n",
       "    </tr>\n",
       "    <tr>\n",
       "      <th>Electric Cooking</th>\n",
       "      <td>5.6</td>\n",
       "      <td>5.7</td>\n",
       "    </tr>\n",
       "    <tr>\n",
       "      <th>Electric Clothes Dryer</th>\n",
       "      <td>14.0</td>\n",
       "      <td>14.6</td>\n",
       "    </tr>\n",
       "  </tbody>\n",
       "</table>\n",
       "</div>"
      ],
      "text/plain": [
       "                                                    before  after\n",
       "upgrade_name                                                     \n",
       "Enhanced Enclosure + High Efficiency Whole Home...    10.3    6.3\n",
       "Basic Enclosure + High Efficiency Whole Home El...    10.3    6.4\n",
       "Enhanced Enclosure + HPWH + High Efficiency HP/...    10.3    6.4\n",
       "Basic Enclosure + HPWH + High Efficiency HP/Ele...    10.3    6.6\n",
       "High Efficiency Whole Home Electrification            10.3    6.6\n",
       "High Efficiency Heat Pump with Electric Heat Ba...    10.3    8.0\n",
       "Heat Pump Water Heater                                10.3    9.3\n",
       "Enhanced Enclosure                                    10.5    9.6\n",
       "Mininum Efficiency Heat Pump with Electric Heat...    10.3    9.4\n",
       "Mininum Efficiency Heat Pump with Existing Heat...    10.4    9.6\n",
       "Basic Enclosure                                       10.1    9.5\n",
       "Heat Pump Clothes Dryer                               11.2   11.0\n",
       "Mininum Efficiency Whole Home Electrification          7.0    6.8\n",
       "Induction Cooking                                     10.4   10.3\n",
       "Electric Cooking                                       5.6    5.7\n",
       "Electric Clothes Dryer                                14.0   14.6"
      ]
     },
     "metadata": {},
     "output_type": "display_data"
    }
   ],
   "source": [
    "results = segment_mean_energy_burden('post-upgrade_energy_burden_2023_cbills.%', community_results) \n",
    "saving_results[[f'segment1_{income}_energy_burden_before_upgrade_%',f'segment1_{income}_energy_burden_after_upgrade_%']] = results[0]\n",
    "saving_results[[f'segment2_{income}_energy_burden_before_upgrade_%',f'segment2_{income}_energy_burden_after_upgrade_%']] = results[1]\n",
    "saving_results[[f'segment3_{income}_energy_burden_before_upgrade_%',f'segment3_{income}_energy_burden_after_upgrade_%']] = results[2]\n",
    "saving_results[[f'segment4_{income}_energy_burden_before_upgrade_%',f'segment4_{income}_energy_burden_after_upgrade_%']] = results[3]"
   ]
  },
  {
   "cell_type": "markdown",
   "id": "0dc19882",
   "metadata": {},
   "source": [
    "# 3. Results for Segments (0-80% AMI)"
   ]
  },
  {
   "cell_type": "markdown",
   "id": "baa2745c",
   "metadata": {},
   "source": [
    "Segment Definition\n",
    "\n",
    "Segment 1. Occupied, Single family detached, 1940-1979, 0-80% AMI  \n",
    "\n",
    "Segment 2. Occupied, Multifamily with 5+ units, 1940-1979, 0-80% AMI \n",
    "\n",
    "Segment 3. Occupied, Single family detached, 1980+, 0-80% AMI \n",
    "\n",
    "Segment 4. Occupied, Multifamily with 5+ units, 1980+, 0-80% AMI  "
   ]
  },
  {
   "cell_type": "code",
   "execution_count": 37,
   "id": "b85921e5",
   "metadata": {},
   "outputs": [],
   "source": [
    "community_results = pd.read_parquet(f\"data_/community_building_samples_with_upgrade_cost_and_bill/{community}/processed_upgrade_results.parquet\")\n",
    "\n",
    "income = '0-80%AMI'\n",
    "vacancy_status = ['Occupied']\n",
    "\n",
    "seg1_building_type = ['Single-Family Detached']\n",
    "seg1_vintage = ['1940s', '1950s', '1960s', '1970s']\n",
    "seg1_median_income = ['0-30%','30-60%','60-80%']\n",
    "\n",
    "seg2_building_type = ['Multi-Family with 5+ Units']\n",
    "seg2_vintage = ['1940s', '1950s', '1960s', '1970s']\n",
    "seg2_median_income = ['0-30%','30-60%','60-80%']\n",
    "\n",
    "seg3_building_type = ['Single-Family Detached']\n",
    "seg3_vintage = ['1980s', '1990s', '2000s', '2010s']\n",
    "seg3_median_income = ['0-30%','30-60%','60-80%']\n",
    "\n",
    "seg4_building_type = ['Multi-Family with 5+ Units']\n",
    "seg4_vintage = ['1980s', '1990s', '2000s', '2010s']\n",
    "seg4_median_income = ['0-30%','30-60%','60-80%']\n",
    "\n",
    "community_results.loc[community_results['build_existing_model.vacancy_status'].isin(vacancy_status) & \n",
    "                     community_results['build_existing_model.geometry_building_type_recs'].isin(seg1_building_type) & \n",
    "                     community_results['build_existing_model.vintage'].isin(seg1_vintage) &  \n",
    "                     community_results['build_existing_model.area_median_income'].isin(seg1_median_income),\n",
    "                     'segment'] = 'segment1'\n",
    "community_results.loc[community_results['build_existing_model.vacancy_status'].isin(vacancy_status) & \n",
    "                     community_results['build_existing_model.geometry_building_type_recs'].isin(seg2_building_type) & \n",
    "                     community_results['build_existing_model.vintage'].isin(seg2_vintage) & \n",
    "                     community_results['build_existing_model.area_median_income'].isin(seg2_median_income),\n",
    "                     'segment'] = 'segment2'\n",
    "community_results.loc[community_results['build_existing_model.vacancy_status'].isin(vacancy_status) & \n",
    "                     community_results['build_existing_model.geometry_building_type_recs'].isin(seg3_building_type) & \n",
    "                     community_results['build_existing_model.vintage'].isin(seg3_vintage) & \n",
    "                     community_results['build_existing_model.area_median_income'].isin(seg3_median_income),\n",
    "                     'segment'] = 'segment3'\n",
    "community_results.loc[community_results['build_existing_model.vacancy_status'].isin(vacancy_status) & \n",
    "                     community_results['build_existing_model.geometry_building_type_recs'].isin(seg4_building_type) & \n",
    "                     community_results['build_existing_model.vintage'].isin(seg4_vintage) & \n",
    "                     community_results['build_existing_model.area_median_income'].isin(seg4_median_income),\n",
    "                     'segment'] = 'segment4'"
   ]
  },
  {
   "cell_type": "markdown",
   "id": "2b599aa4",
   "metadata": {},
   "source": [
    "## 3.1 Upgrade Cost Per Dwelling Unit "
   ]
  },
  {
   "cell_type": "code",
   "execution_count": 38,
   "id": "8aa276ba",
   "metadata": {},
   "outputs": [
    {
     "name": "stdout",
     "output_type": "stream",
     "text": [
      "segment1: upgrade cost (usd) per dwelling unit\n"
     ]
    },
    {
     "data": {
      "text/plain": [
       "upgrade_name\n",
       "Electric Cooking                                                    1115.8\n",
       "Electric Clothes Dryer                                              1253.0\n",
       "Induction Cooking                                                   1918.7\n",
       "Heat Pump Clothes Dryer                                             2521.5\n",
       "Heat Pump Water Heater                                              3120.6\n",
       "Basic Enclosure                                                     6615.8\n",
       "Enhanced Enclosure                                                  9533.9\n",
       "Mininum Efficiency Whole Home Electrification                      15133.9\n",
       "Mininum Efficiency Heat Pump with Existing Heat Backup             16673.8\n",
       "Mininum Efficiency Heat Pump with Electric Heat Backup             16857.3\n",
       "High Efficiency Heat Pump with Electric Heat Backup                28911.6\n",
       "Basic Enclosure + HPWH + High Efficiency HP/Electric Backup        33970.7\n",
       "Enhanced Enclosure + HPWH + High Efficiency HP/Electric Backup     35923.5\n",
       "High Efficiency Whole Home Electrification                         36326.1\n",
       "Basic Enclosure + High Efficiency Whole Home Electrification       38279.5\n",
       "Enhanced Enclosure + High Efficiency Whole Home Electrification    40232.3\n",
       "Name: upgrade_cost_usd, dtype: float64"
      ]
     },
     "metadata": {},
     "output_type": "display_data"
    },
    {
     "name": "stdout",
     "output_type": "stream",
     "text": [
      "segment2: upgrade cost (usd) per dwelling unit\n"
     ]
    },
    {
     "data": {
      "text/plain": [
       "upgrade_name\n",
       "Electric Cooking                                                    1115.8\n",
       "Electric Clothes Dryer                                              1253.0\n",
       "Basic Enclosure                                                     1457.8\n",
       "Induction Cooking                                                   1918.7\n",
       "Enhanced Enclosure                                                  2325.1\n",
       "Heat Pump Clothes Dryer                                             2521.5\n",
       "Heat Pump Water Heater                                              2875.4\n",
       "Mininum Efficiency Whole Home Electrification                       3347.6\n",
       "Mininum Efficiency Heat Pump with Electric Heat Backup              9148.3\n",
       "Mininum Efficiency Heat Pump with Existing Heat Backup              9165.1\n",
       "High Efficiency Heat Pump with Electric Heat Backup                21854.8\n",
       "Basic Enclosure + HPWH + High Efficiency HP/Electric Backup        25143.2\n",
       "Enhanced Enclosure + HPWH + High Efficiency HP/Electric Backup     25778.4\n",
       "High Efficiency Whole Home Electrification                         28396.6\n",
       "Basic Enclosure + High Efficiency Whole Home Electrification       28853.1\n",
       "Enhanced Enclosure + High Efficiency Whole Home Electrification    29488.3\n",
       "Name: upgrade_cost_usd, dtype: float64"
      ]
     },
     "metadata": {},
     "output_type": "display_data"
    },
    {
     "name": "stdout",
     "output_type": "stream",
     "text": [
      "segment3: upgrade cost (usd) per dwelling unit\n"
     ]
    },
    {
     "data": {
      "text/plain": [
       "upgrade_name\n",
       "Electric Cooking                                                    1115.8\n",
       "Induction Cooking                                                   1918.7\n",
       "Heat Pump Clothes Dryer                                             2521.5\n",
       "Heat Pump Water Heater                                              3494.4\n",
       "Basic Enclosure                                                     3952.2\n",
       "Enhanced Enclosure                                                  6710.1\n",
       "Mininum Efficiency Whole Home Electrification                       7844.4\n",
       "Mininum Efficiency Heat Pump with Existing Heat Backup             13282.5\n",
       "Mininum Efficiency Heat Pump with Electric Heat Backup             13339.0\n",
       "High Efficiency Heat Pump with Electric Heat Backup                27808.8\n",
       "Basic Enclosure + HPWH + High Efficiency HP/Electric Backup        33511.6\n",
       "High Efficiency Whole Home Electrification                         35413.0\n",
       "Enhanced Enclosure + HPWH + High Efficiency HP/Electric Backup     35457.2\n",
       "Basic Enclosure + High Efficiency Whole Home Electrification       37652.4\n",
       "Enhanced Enclosure + High Efficiency Whole Home Electrification    39598.1\n",
       "Name: upgrade_cost_usd, dtype: float64"
      ]
     },
     "metadata": {},
     "output_type": "display_data"
    },
    {
     "name": "stdout",
     "output_type": "stream",
     "text": [
      "segment4: upgrade cost (usd) per dwelling unit\n"
     ]
    },
    {
     "data": {
      "text/plain": [
       "upgrade_name\n",
       "Electric Cooking                                                    1115.8\n",
       "Basic Enclosure                                                     1211.7\n",
       "Electric Clothes Dryer                                              1253.0\n",
       "Induction Cooking                                                   1918.7\n",
       "Enhanced Enclosure                                                  2019.0\n",
       "Mininum Efficiency Whole Home Electrification                       2213.2\n",
       "Heat Pump Clothes Dryer                                             2521.5\n",
       "Heat Pump Water Heater                                              2879.8\n",
       "Mininum Efficiency Heat Pump with Existing Heat Backup              8269.3\n",
       "Mininum Efficiency Heat Pump with Electric Heat Backup              8286.9\n",
       "High Efficiency Heat Pump with Electric Heat Backup                22107.0\n",
       "Basic Enclosure + HPWH + High Efficiency HP/Electric Backup        25393.6\n",
       "Enhanced Enclosure + HPWH + High Efficiency HP/Electric Backup     26046.3\n",
       "High Efficiency Whole Home Electrification                         28670.1\n",
       "Basic Enclosure + High Efficiency Whole Home Electrification       29195.8\n",
       "Enhanced Enclosure + High Efficiency Whole Home Electrification    29848.5\n",
       "Name: upgrade_cost_usd, dtype: float64"
      ]
     },
     "metadata": {},
     "output_type": "display_data"
    }
   ],
   "source": [
    "results = segment_mean_upgrade_cost(community_results) \n",
    "saving_results[f'segment1_{income}_upgrade_cost_mean_usd'] = results[0]\n",
    "saving_results[f'segment2_{income}_upgrade_cost_mean_usd'] = results[1]\n",
    "saving_results[f'segment3_{income}_upgrade_cost_mean_usd'] = results[2]\n",
    "saving_results[f'segment4_{income}_upgrade_cost_mean_usd'] = results[3]"
   ]
  },
  {
   "cell_type": "markdown",
   "id": "0c3d8db5",
   "metadata": {},
   "source": [
    " ## 3.2 Annual Savings Per Dollar Invested"
   ]
  },
  {
   "cell_type": "markdown",
   "id": "6d7106aa",
   "metadata": {},
   "source": [
    "### Annual Bill Savings Per Dollar Invested"
   ]
  },
  {
   "cell_type": "code",
   "execution_count": 39,
   "id": "da9bebdf",
   "metadata": {},
   "outputs": [
    {
     "name": "stdout",
     "output_type": "stream",
     "text": [
      "segment1\n"
     ]
    },
    {
     "data": {
      "text/plain": [
       "upgrade_name\n",
       "Basic Enclosure                                                    0.08997\n",
       "Enhanced Enclosure                                                 0.07221\n",
       "Basic Enclosure + HPWH + High Efficiency HP/Electric Backup        0.04170\n",
       "Heat Pump Water Heater                                             0.04033\n",
       "Enhanced Enclosure + HPWH + High Efficiency HP/Electric Backup     0.04013\n",
       "Basic Enclosure + High Efficiency Whole Home Electrification       0.03801\n",
       "Enhanced Enclosure + High Efficiency Whole Home Electrification    0.03679\n",
       "High Efficiency Heat Pump with Electric Heat Backup                0.03631\n",
       "High Efficiency Whole Home Electrification                         0.03456\n",
       "Mininum Efficiency Heat Pump with Electric Heat Backup             0.02880\n",
       "Mininum Efficiency Heat Pump with Existing Heat Backup             0.02826\n",
       "Mininum Efficiency Whole Home Electrification                      0.02026\n",
       "Heat Pump Clothes Dryer                                            0.01395\n",
       "Induction Cooking                                                  0.00110\n",
       "Electric Cooking                                                  -0.01123\n",
       "Electric Clothes Dryer                                            -0.01944\n",
       "Name: saving_cbill.total_usd, dtype: float64"
      ]
     },
     "metadata": {},
     "output_type": "display_data"
    },
    {
     "name": "stdout",
     "output_type": "stream",
     "text": [
      "segment2\n"
     ]
    },
    {
     "data": {
      "text/plain": [
       "upgrade_name\n",
       "Basic Enclosure                                                    0.08354\n",
       "Enhanced Enclosure                                                 0.06512\n",
       "Heat Pump Water Heater                                             0.03766\n",
       "Basic Enclosure + HPWH + High Efficiency HP/Electric Backup        0.02188\n",
       "Enhanced Enclosure + HPWH + High Efficiency HP/Electric Backup     0.02176\n",
       "Basic Enclosure + High Efficiency Whole Home Electrification       0.01987\n",
       "Enhanced Enclosure + High Efficiency Whole Home Electrification    0.01981\n",
       "High Efficiency Whole Home Electrification                         0.01864\n",
       "High Efficiency Heat Pump with Electric Heat Backup                0.01681\n",
       "Mininum Efficiency Heat Pump with Electric Heat Backup             0.01636\n",
       "Mininum Efficiency Heat Pump with Existing Heat Backup             0.01562\n",
       "Heat Pump Clothes Dryer                                            0.01180\n",
       "Mininum Efficiency Whole Home Electrification                      0.00894\n",
       "Induction Cooking                                                  0.00100\n",
       "Electric Cooking                                                  -0.00785\n",
       "Electric Clothes Dryer                                            -0.01436\n",
       "Name: saving_cbill.total_usd, dtype: float64"
      ]
     },
     "metadata": {},
     "output_type": "display_data"
    },
    {
     "name": "stdout",
     "output_type": "stream",
     "text": [
      "segment3\n"
     ]
    },
    {
     "data": {
      "text/plain": [
       "upgrade_name\n",
       "Basic Enclosure                                                    0.05617\n",
       "Heat Pump Water Heater                                             0.04974\n",
       "Enhanced Enclosure                                                 0.04536\n",
       "Basic Enclosure + HPWH + High Efficiency HP/Electric Backup        0.03207\n",
       "Enhanced Enclosure + HPWH + High Efficiency HP/Electric Backup     0.03089\n",
       "Basic Enclosure + High Efficiency Whole Home Electrification       0.02975\n",
       "High Efficiency Whole Home Electrification                         0.02954\n",
       "Enhanced Enclosure + High Efficiency Whole Home Electrification    0.02880\n",
       "High Efficiency Heat Pump with Electric Heat Backup                0.02808\n",
       "Mininum Efficiency Heat Pump with Electric Heat Backup             0.02800\n",
       "Mininum Efficiency Heat Pump with Existing Heat Backup             0.02776\n",
       "Heat Pump Clothes Dryer                                            0.01940\n",
       "Mininum Efficiency Whole Home Electrification                      0.01171\n",
       "Induction Cooking                                                  0.00089\n",
       "Electric Cooking                                                  -0.01337\n",
       "Name: saving_cbill.total_usd, dtype: float64"
      ]
     },
     "metadata": {},
     "output_type": "display_data"
    },
    {
     "name": "stdout",
     "output_type": "stream",
     "text": [
      "segment4\n"
     ]
    },
    {
     "data": {
      "text/plain": [
       "upgrade_name\n",
       "Basic Enclosure                                                    0.05827\n",
       "Enhanced Enclosure                                                 0.05480\n",
       "Heat Pump Water Heater                                             0.04867\n",
       "Enhanced Enclosure + HPWH + High Efficiency HP/Electric Backup     0.01864\n",
       "Basic Enclosure + HPWH + High Efficiency HP/Electric Backup        0.01818\n",
       "Enhanced Enclosure + High Efficiency Whole Home Electrification    0.01713\n",
       "Basic Enclosure + High Efficiency Whole Home Electrification       0.01669\n",
       "Mininum Efficiency Whole Home Electrification                      0.01621\n",
       "High Efficiency Whole Home Electrification                         0.01618\n",
       "High Efficiency Heat Pump with Electric Heat Backup                0.01219\n",
       "Heat Pump Clothes Dryer                                            0.01185\n",
       "Mininum Efficiency Heat Pump with Existing Heat Backup             0.01130\n",
       "Mininum Efficiency Heat Pump with Electric Heat Backup             0.01101\n",
       "Induction Cooking                                                  0.00161\n",
       "Electric Cooking                                                  -0.00259\n",
       "Electric Clothes Dryer                                            -0.05412\n",
       "Name: saving_cbill.total_usd, dtype: float64"
      ]
     },
     "metadata": {},
     "output_type": "display_data"
    }
   ],
   "source": [
    "indicator ='saving_cbill.total_usd'\n",
    "results = segment_savings_per_dollar(indicator, community_results) \n",
    "saving_results[f'segment1_{income}_saving_bill_per_dollar_invested_usd'] = results[0]\n",
    "saving_results[f'segment2_{income}_saving_bill_per_dollar_invested_usd'] = results[1]\n",
    "saving_results[f'segment3_{income}_saving_bill_per_dollar_invested_usd'] = results[2]\n",
    "saving_results[f'segment4_{income}_saving_bill_per_dollar_invested_usd'] = results[3]"
   ]
  },
  {
   "cell_type": "markdown",
   "id": "60fa915b",
   "metadata": {},
   "source": [
    " ### Annual Energy Savings Per Dollar Invested"
   ]
  },
  {
   "cell_type": "code",
   "execution_count": 40,
   "id": "0edaa5a4",
   "metadata": {},
   "outputs": [
    {
     "name": "stdout",
     "output_type": "stream",
     "text": [
      "segment1\n"
     ]
    },
    {
     "data": {
      "text/plain": [
       "upgrade_name\n",
       "Basic Enclosure                                                    0.00330\n",
       "Enhanced Enclosure                                                 0.00264\n",
       "Mininum Efficiency Whole Home Electrification                      0.00254\n",
       "Heat Pump Water Heater                                             0.00181\n",
       "Basic Enclosure + HPWH + High Efficiency HP/Electric Backup        0.00159\n",
       "Electric Cooking                                                   0.00158\n",
       "Mininum Efficiency Heat Pump with Electric Heat Backup             0.00156\n",
       "Enhanced Enclosure + HPWH + High Efficiency HP/Electric Backup     0.00152\n",
       "Basic Enclosure + High Efficiency Whole Home Electrification       0.00145\n",
       "High Efficiency Heat Pump with Electric Heat Backup                0.00142\n",
       "Enhanced Enclosure + High Efficiency Whole Home Electrification    0.00140\n",
       "High Efficiency Whole Home Electrification                         0.00139\n",
       "Mininum Efficiency Heat Pump with Existing Heat Backup             0.00116\n",
       "Heat Pump Clothes Dryer                                            0.00041\n",
       "Electric Clothes Dryer                                             0.00032\n",
       "Induction Cooking                                                  0.00029\n",
       "Name: saving_energy.total_mmbtu, dtype: float64"
      ]
     },
     "metadata": {},
     "output_type": "display_data"
    },
    {
     "name": "stdout",
     "output_type": "stream",
     "text": [
      "segment2\n"
     ]
    },
    {
     "data": {
      "text/plain": [
       "upgrade_name\n",
       "Basic Enclosure                                                    0.00229\n",
       "Enhanced Enclosure                                                 0.00177\n",
       "Electric Cooking                                                   0.00138\n",
       "Mininum Efficiency Whole Home Electrification                      0.00138\n",
       "Heat Pump Water Heater                                             0.00109\n",
       "Basic Enclosure + HPWH + High Efficiency HP/Electric Backup        0.00060\n",
       "Enhanced Enclosure + HPWH + High Efficiency HP/Electric Backup     0.00059\n",
       "Basic Enclosure + High Efficiency Whole Home Electrification       0.00055\n",
       "Enhanced Enclosure + High Efficiency Whole Home Electrification    0.00055\n",
       "High Efficiency Whole Home Electrification                         0.00052\n",
       "Mininum Efficiency Heat Pump with Electric Heat Backup             0.00046\n",
       "High Efficiency Heat Pump with Electric Heat Backup                0.00045\n",
       "Mininum Efficiency Heat Pump with Existing Heat Backup             0.00042\n",
       "Heat Pump Clothes Dryer                                            0.00031\n",
       "Electric Clothes Dryer                                             0.00022\n",
       "Induction Cooking                                                  0.00018\n",
       "Name: saving_energy.total_mmbtu, dtype: float64"
      ]
     },
     "metadata": {},
     "output_type": "display_data"
    },
    {
     "name": "stdout",
     "output_type": "stream",
     "text": [
      "segment3\n"
     ]
    },
    {
     "data": {
      "text/plain": [
       "upgrade_name\n",
       "Heat Pump Water Heater                                             0.00199\n",
       "Electric Cooking                                                   0.00182\n",
       "Mininum Efficiency Whole Home Electrification                      0.00160\n",
       "Basic Enclosure                                                    0.00153\n",
       "Enhanced Enclosure                                                 0.00123\n",
       "Basic Enclosure + HPWH + High Efficiency HP/Electric Backup        0.00094\n",
       "Enhanced Enclosure + HPWH + High Efficiency HP/Electric Backup     0.00091\n",
       "High Efficiency Whole Home Electrification                         0.00089\n",
       "Basic Enclosure + High Efficiency Whole Home Electrification       0.00088\n",
       "Enhanced Enclosure + High Efficiency Whole Home Electrification    0.00085\n",
       "Mininum Efficiency Heat Pump with Electric Heat Backup             0.00082\n",
       "High Efficiency Heat Pump with Electric Heat Backup                0.00077\n",
       "Mininum Efficiency Heat Pump with Existing Heat Backup             0.00074\n",
       "Heat Pump Clothes Dryer                                            0.00050\n",
       "Induction Cooking                                                  0.00028\n",
       "Name: saving_energy.total_mmbtu, dtype: float64"
      ]
     },
     "metadata": {},
     "output_type": "display_data"
    },
    {
     "name": "stdout",
     "output_type": "stream",
     "text": [
      "segment4\n"
     ]
    },
    {
     "data": {
      "text/plain": [
       "upgrade_name\n",
       "Mininum Efficiency Whole Home Electrification                      0.00181\n",
       "Basic Enclosure                                                    0.00153\n",
       "Enhanced Enclosure                                                 0.00143\n",
       "Heat Pump Water Heater                                             0.00142\n",
       "Electric Cooking                                                   0.00134\n",
       "Enhanced Enclosure + HPWH + High Efficiency HP/Electric Backup     0.00050\n",
       "Basic Enclosure + HPWH + High Efficiency HP/Electric Backup        0.00049\n",
       "Electric Clothes Dryer                                             0.00049\n",
       "Enhanced Enclosure + High Efficiency Whole Home Electrification    0.00047\n",
       "Basic Enclosure + High Efficiency Whole Home Electrification       0.00046\n",
       "High Efficiency Whole Home Electrification                         0.00045\n",
       "Heat Pump Clothes Dryer                                            0.00033\n",
       "High Efficiency Heat Pump with Electric Heat Backup                0.00032\n",
       "Mininum Efficiency Heat Pump with Existing Heat Backup             0.00029\n",
       "Mininum Efficiency Heat Pump with Electric Heat Backup             0.00029\n",
       "Induction Cooking                                                  0.00019\n",
       "Name: saving_energy.total_mmbtu, dtype: float64"
      ]
     },
     "metadata": {},
     "output_type": "display_data"
    }
   ],
   "source": [
    "indicator = 'saving_energy.total_mmbtu'\n",
    "results = segment_savings_per_dollar(indicator, community_results) \n",
    "saving_results[f'segment1_{income}_saving_energy_per_dollar_invested_mmbtu'] = results[0]\n",
    "saving_results[f'segment2_{income}_saving_energy_per_dollar_invested_mmbtu'] = results[1]\n",
    "saving_results[f'segment3_{income}_saving_energy_per_dollar_invested_mmbtu'] = results[2]\n",
    "saving_results[f'segment4_{income}_saving_energy_per_dollar_invested_mmbtu'] = results[3]"
   ]
  },
  {
   "cell_type": "markdown",
   "id": "e547f174",
   "metadata": {},
   "source": [
    " ### Annual Emission Savings Per Dollar Invested"
   ]
  },
  {
   "cell_type": "code",
   "execution_count": 41,
   "id": "1434b69a",
   "metadata": {},
   "outputs": [
    {
     "name": "stdout",
     "output_type": "stream",
     "text": [
      "segment1\n"
     ]
    },
    {
     "data": {
      "text/plain": [
       "upgrade_name\n",
       "Basic Enclosure                                                    0.24196\n",
       "Enhanced Enclosure                                                 0.19569\n",
       "Mininum Efficiency Whole Home Electrification                      0.15118\n",
       "Heat Pump Water Heater                                             0.12284\n",
       "Basic Enclosure + HPWH + High Efficiency HP/Electric Backup        0.11610\n",
       "Enhanced Enclosure + HPWH + High Efficiency HP/Electric Backup     0.11147\n",
       "Mininum Efficiency Heat Pump with Electric Heat Backup             0.10684\n",
       "Basic Enclosure + High Efficiency Whole Home Electrification       0.10573\n",
       "High Efficiency Heat Pump with Electric Heat Backup                0.10327\n",
       "Enhanced Enclosure + High Efficiency Whole Home Electrification    0.10210\n",
       "High Efficiency Whole Home Electrification                         0.10004\n",
       "Electric Cooking                                                   0.09937\n",
       "Mininum Efficiency Heat Pump with Existing Heat Backup             0.08702\n",
       "Heat Pump Clothes Dryer                                            0.02778\n",
       "Electric Clothes Dryer                                             0.01949\n",
       "Induction Cooking                                                  0.01899\n",
       "Name: saving_emission.total_kgCO2e, dtype: float64"
      ]
     },
     "metadata": {},
     "output_type": "display_data"
    },
    {
     "name": "stdout",
     "output_type": "stream",
     "text": [
      "segment2\n"
     ]
    },
    {
     "data": {
      "text/plain": [
       "upgrade_name\n",
       "Basic Enclosure                                                    0.18879\n",
       "Enhanced Enclosure                                                 0.14732\n",
       "Electric Cooking                                                   0.09840\n",
       "Mininum Efficiency Whole Home Electrification                      0.08684\n",
       "Heat Pump Water Heater                                             0.07606\n",
       "Basic Enclosure + HPWH + High Efficiency HP/Electric Backup        0.04769\n",
       "Enhanced Enclosure + HPWH + High Efficiency HP/Electric Backup     0.04746\n",
       "Basic Enclosure + High Efficiency Whole Home Electrification       0.04377\n",
       "Enhanced Enclosure + High Efficiency Whole Home Electrification    0.04365\n",
       "High Efficiency Whole Home Electrification                         0.04112\n",
       "Mininum Efficiency Heat Pump with Electric Heat Backup             0.03994\n",
       "Mininum Efficiency Heat Pump with Existing Heat Backup             0.03741\n",
       "High Efficiency Heat Pump with Electric Heat Backup                0.03730\n",
       "Heat Pump Clothes Dryer                                            0.02167\n",
       "Electric Clothes Dryer                                             0.01296\n",
       "Induction Cooking                                                  0.01290\n",
       "Name: saving_emission.total_kgCO2e, dtype: float64"
      ]
     },
     "metadata": {},
     "output_type": "display_data"
    },
    {
     "name": "stdout",
     "output_type": "stream",
     "text": [
      "segment3\n"
     ]
    },
    {
     "data": {
      "text/plain": [
       "upgrade_name\n",
       "Heat Pump Water Heater                                             0.13756\n",
       "Electric Cooking                                                   0.12208\n",
       "Basic Enclosure                                                    0.12132\n",
       "Mininum Efficiency Whole Home Electrification                      0.10527\n",
       "Enhanced Enclosure                                                 0.09947\n",
       "Basic Enclosure + HPWH + High Efficiency HP/Electric Backup        0.07400\n",
       "Enhanced Enclosure + HPWH + High Efficiency HP/Electric Backup     0.07130\n",
       "High Efficiency Whole Home Electrification                         0.06895\n",
       "Basic Enclosure + High Efficiency Whole Home Electrification       0.06889\n",
       "Enhanced Enclosure + High Efficiency Whole Home Electrification    0.06671\n",
       "Mininum Efficiency Heat Pump with Electric Heat Backup             0.06660\n",
       "Mininum Efficiency Heat Pump with Existing Heat Backup             0.06256\n",
       "High Efficiency Heat Pump with Electric Heat Backup                0.06244\n",
       "Heat Pump Clothes Dryer                                            0.03446\n",
       "Induction Cooking                                                  0.01939\n",
       "Name: saving_emission.total_kgCO2e, dtype: float64"
      ]
     },
     "metadata": {},
     "output_type": "display_data"
    },
    {
     "name": "stdout",
     "output_type": "stream",
     "text": [
      "segment4\n"
     ]
    },
    {
     "data": {
      "text/plain": [
       "upgrade_name\n",
       "Basic Enclosure                                                    0.12953\n",
       "Mininum Efficiency Whole Home Electrification                      0.11805\n",
       "Enhanced Enclosure                                                 0.11256\n",
       "Heat Pump Water Heater                                             0.09984\n",
       "Electric Cooking                                                   0.08998\n",
       "Electric Clothes Dryer                                             0.05347\n",
       "Enhanced Enclosure + HPWH + High Efficiency HP/Electric Backup     0.03916\n",
       "Basic Enclosure + HPWH + High Efficiency HP/Electric Backup        0.03858\n",
       "Enhanced Enclosure + High Efficiency Whole Home Electrification    0.03643\n",
       "Basic Enclosure + High Efficiency Whole Home Electrification       0.03586\n",
       "High Efficiency Whole Home Electrification                         0.03470\n",
       "High Efficiency Heat Pump with Electric Heat Backup                0.02605\n",
       "Mininum Efficiency Heat Pump with Existing Heat Backup             0.02572\n",
       "Mininum Efficiency Heat Pump with Electric Heat Backup             0.02529\n",
       "Heat Pump Clothes Dryer                                            0.02239\n",
       "Induction Cooking                                                  0.01313\n",
       "Name: saving_emission.total_kgCO2e, dtype: float64"
      ]
     },
     "metadata": {},
     "output_type": "display_data"
    }
   ],
   "source": [
    "indicator ='saving_emission.total_kgCO2e'\n",
    "results = segment_savings_per_dollar(indicator, community_results) \n",
    "saving_results[f'segment1_{income}_saving_emission_per_dollar_invested_kgCO2e'] = results[0]\n",
    "saving_results[f'segment2_{income}_saving_emission_per_dollar_invested_kgCO2e'] = results[1]\n",
    "saving_results[f'segment3_{income}_saving_emission_per_dollar_invested_kgCO2e'] = results[2]\n",
    "saving_results[f'segment4_{income}_saving_emission_per_dollar_invested_kgCO2e'] = results[3]"
   ]
  },
  {
   "cell_type": "markdown",
   "id": "dca98489",
   "metadata": {},
   "source": [
    "## 3.3 Annual Total Savings"
   ]
  },
  {
   "cell_type": "markdown",
   "id": "b549310c",
   "metadata": {},
   "source": [
    "### Annual Total Bill Savings"
   ]
  },
  {
   "cell_type": "code",
   "execution_count": 42,
   "id": "fdc30441",
   "metadata": {},
   "outputs": [
    {
     "name": "stdout",
     "output_type": "stream",
     "text": [
      "segment1\n"
     ]
    },
    {
     "data": {
      "text/plain": [
       "upgrade_name\n",
       "Enhanced Enclosure + High Efficiency Whole Home Electrification    16023986.0\n",
       "Basic Enclosure + High Efficiency Whole Home Electrification       15751989.2\n",
       "Enhanced Enclosure + HPWH + High Efficiency HP/Electric Backup     15607339.9\n",
       "Basic Enclosure + HPWH + High Efficiency HP/Electric Backup        15335343.1\n",
       "High Efficiency Whole Home Electrification                         13590842.8\n",
       "High Efficiency Heat Pump with Electric Heat Backup                11366631.3\n",
       "Enhanced Enclosure                                                  7453144.9\n",
       "Basic Enclosure                                                     6444547.4\n",
       "Mininum Efficiency Heat Pump with Electric Heat Backup              5255587.9\n",
       "Mininum Efficiency Heat Pump with Existing Heat Backup              5100764.9\n",
       "Mininum Efficiency Whole Home Electrification                       1945317.8\n",
       "Heat Pump Water Heater                                              1355962.6\n",
       "Heat Pump Clothes Dryer                                              368347.0\n",
       "Induction Cooking                                                     22180.3\n",
       "Electric Clothes Dryer                                               -27239.2\n",
       "Electric Cooking                                                     -32109.7\n",
       "Name: saving_cbill.total_usd, dtype: float64"
      ]
     },
     "metadata": {},
     "output_type": "display_data"
    },
    {
     "name": "stdout",
     "output_type": "stream",
     "text": [
      "segment2\n"
     ]
    },
    {
     "data": {
      "text/plain": [
       "upgrade_name\n",
       "Enhanced Enclosure + High Efficiency Whole Home Electrification    3915028.1\n",
       "Basic Enclosure + High Efficiency Whole Home Electrification       3842204.8\n",
       "Enhanced Enclosure + HPWH + High Efficiency HP/Electric Backup     3759261.6\n",
       "Basic Enclosure + HPWH + High Efficiency HP/Electric Backup        3686438.3\n",
       "High Efficiency Whole Home Electrification                         3546195.6\n",
       "High Efficiency Heat Pump with Electric Heat Backup                2461430.9\n",
       "Enhanced Enclosure                                                 1014704.4\n",
       "Mininum Efficiency Heat Pump with Electric Heat Backup             1003093.2\n",
       "Mininum Efficiency Heat Pump with Existing Heat Backup              907585.4\n",
       "Basic Enclosure                                                     800418.5\n",
       "Heat Pump Water Heater                                              714603.8\n",
       "Heat Pump Clothes Dryer                                             142959.7\n",
       "Mininum Efficiency Whole Home Electrification                        52466.9\n",
       "Induction Cooking                                                    12806.7\n",
       "Electric Clothes Dryer                                               -2322.7\n",
       "Electric Cooking                                                     -9706.6\n",
       "Name: saving_cbill.total_usd, dtype: float64"
      ]
     },
     "metadata": {},
     "output_type": "display_data"
    },
    {
     "name": "stdout",
     "output_type": "stream",
     "text": [
      "segment3\n"
     ]
    },
    {
     "data": {
      "text/plain": [
       "upgrade_name\n",
       "Enhanced Enclosure + High Efficiency Whole Home Electrification    5532625.7\n",
       "Basic Enclosure + High Efficiency Whole Home Electrification       5434357.2\n",
       "Enhanced Enclosure + HPWH + High Efficiency HP/Electric Backup     5312406.1\n",
       "Basic Enclosure + HPWH + High Efficiency HP/Electric Backup        5214137.7\n",
       "High Efficiency Whole Home Electrification                         5074423.0\n",
       "High Efficiency Heat Pump with Electric Heat Backup                3788389.4\n",
       "Mininum Efficiency Heat Pump with Electric Heat Backup             1811453.6\n",
       "Mininum Efficiency Heat Pump with Existing Heat Backup             1788674.0\n",
       "Enhanced Enclosure                                                 1463256.1\n",
       "Basic Enclosure                                                    1067411.0\n",
       "Heat Pump Water Heater                                              835716.1\n",
       "Heat Pump Clothes Dryer                                             209146.9\n",
       "Mininum Efficiency Whole Home Electrification                       185731.8\n",
       "Induction Cooking                                                     8259.1\n",
       "Electric Cooking                                                    -14765.4\n",
       "Name: saving_cbill.total_usd, dtype: float64"
      ]
     },
     "metadata": {},
     "output_type": "display_data"
    },
    {
     "name": "stdout",
     "output_type": "stream",
     "text": [
      "segment4\n"
     ]
    },
    {
     "data": {
      "text/plain": [
       "upgrade_name\n",
       "Enhanced Enclosure + High Efficiency Whole Home Electrification    4804439.1\n",
       "Basic Enclosure + High Efficiency Whole Home Electrification       4579877.2\n",
       "Enhanced Enclosure + HPWH + High Efficiency HP/Electric Backup     4563169.8\n",
       "High Efficiency Whole Home Electrification                         4360929.3\n",
       "Basic Enclosure + HPWH + High Efficiency HP/Electric Backup        4338607.9\n",
       "High Efficiency Heat Pump with Electric Heat Backup                2523641.6\n",
       "Heat Pump Water Heater                                             1297602.2\n",
       "Enhanced Enclosure                                                  999602.0\n",
       "Mininum Efficiency Heat Pump with Electric Heat Backup              854689.1\n",
       "Mininum Efficiency Heat Pump with Existing Heat Backup              854232.7\n",
       "Basic Enclosure                                                     597583.7\n",
       "Heat Pump Clothes Dryer                                             210912.8\n",
       "Mininum Efficiency Whole Home Electrification                        88476.6\n",
       "Induction Cooking                                                    28949.8\n",
       "Electric Cooking                                                     -4942.2\n",
       "Electric Clothes Dryer                                               -9614.7\n",
       "Name: saving_cbill.total_usd, dtype: float64"
      ]
     },
     "metadata": {},
     "output_type": "display_data"
    }
   ],
   "source": [
    "indicator ='saving_cbill.total_usd'\n",
    "results = segment_annual_total_savings(indicator, community_results)\n",
    "saving_results[f'segment1_{income}_saving_bill_total_usd'] = results[0]\n",
    "saving_results[f'segment2_{income}_saving_bill_total_usd'] = results[1]\n",
    "saving_results[f'segment3_{income}_saving_bill_total_usd'] = results[2]\n",
    "saving_results[f'segment4_{income}_saving_bill_total_usd'] = results[3]"
   ]
  },
  {
   "cell_type": "markdown",
   "id": "394241c1",
   "metadata": {},
   "source": [
    "### Annual Total Energy Savings"
   ]
  },
  {
   "cell_type": "code",
   "execution_count": 43,
   "id": "8d5c8c52",
   "metadata": {},
   "outputs": [
    {
     "name": "stdout",
     "output_type": "stream",
     "text": [
      "segment1\n"
     ]
    },
    {
     "data": {
      "text/plain": [
       "upgrade_name\n",
       "Enhanced Enclosure + High Efficiency Whole Home Electrification    608963.4\n",
       "Basic Enclosure + High Efficiency Whole Home Electrification       601905.7\n",
       "Enhanced Enclosure + HPWH + High Efficiency HP/Electric Backup     592331.2\n",
       "Basic Enclosure + HPWH + High Efficiency HP/Electric Backup        585273.4\n",
       "High Efficiency Whole Home Electrification                         545828.7\n",
       "High Efficiency Heat Pump with Electric Heat Backup                443298.1\n",
       "Mininum Efficiency Heat Pump with Electric Heat Backup             284730.9\n",
       "Enhanced Enclosure                                                 272987.2\n",
       "Mininum Efficiency Whole Home Electrification                      243652.4\n",
       "Basic Enclosure                                                    236541.2\n",
       "Mininum Efficiency Heat Pump with Existing Heat Backup             210037.6\n",
       "Heat Pump Water Heater                                              60877.8\n",
       "Heat Pump Clothes Dryer                                             10707.4\n",
       "Induction Cooking                                                    5924.9\n",
       "Electric Cooking                                                     4516.0\n",
       "Electric Clothes Dryer                                                442.7\n",
       "Name: saving_energy.total_mmbtu, dtype: float64"
      ]
     },
     "metadata": {},
     "output_type": "display_data"
    },
    {
     "name": "stdout",
     "output_type": "stream",
     "text": [
      "segment2\n"
     ]
    },
    {
     "data": {
      "text/plain": [
       "upgrade_name\n",
       "Enhanced Enclosure + High Efficiency Whole Home Electrification    108342.9\n",
       "Basic Enclosure + High Efficiency Whole Home Electrification       106453.4\n",
       "Enhanced Enclosure + HPWH + High Efficiency HP/Electric Backup     102242.7\n",
       "Basic Enclosure + HPWH + High Efficiency HP/Electric Backup        100353.2\n",
       "High Efficiency Whole Home Electrification                          98772.8\n",
       "High Efficiency Heat Pump with Electric Heat Backup                 66228.7\n",
       "Mininum Efficiency Heat Pump with Electric Heat Backup              28388.1\n",
       "Enhanced Enclosure                                                  27518.3\n",
       "Mininum Efficiency Heat Pump with Existing Heat Backup              24370.6\n",
       "Basic Enclosure                                                     21955.7\n",
       "Heat Pump Water Heater                                              20593.2\n",
       "Mininum Efficiency Whole Home Electrification                        8117.6\n",
       "Heat Pump Clothes Dryer                                              3805.5\n",
       "Induction Cooking                                                    2294.7\n",
       "Electric Cooking                                                     1710.4\n",
       "Electric Clothes Dryer                                                 35.7\n",
       "Name: saving_energy.total_mmbtu, dtype: float64"
      ]
     },
     "metadata": {},
     "output_type": "display_data"
    },
    {
     "name": "stdout",
     "output_type": "stream",
     "text": [
      "segment3\n"
     ]
    },
    {
     "data": {
      "text/plain": [
       "upgrade_name\n",
       "Enhanced Enclosure + High Efficiency Whole Home Electrification    164061.5\n",
       "Basic Enclosure + High Efficiency Whole Home Electrification       161511.6\n",
       "Enhanced Enclosure + HPWH + High Efficiency HP/Electric Backup     156024.3\n",
       "Basic Enclosure + HPWH + High Efficiency HP/Electric Backup        153474.5\n",
       "High Efficiency Whole Home Electrification                         152172.1\n",
       "High Efficiency Heat Pump with Electric Heat Backup                104075.3\n",
       "Mininum Efficiency Heat Pump with Electric Heat Backup              52782.9\n",
       "Mininum Efficiency Heat Pump with Existing Heat Backup              47844.6\n",
       "Enhanced Enclosure                                                  39567.5\n",
       "Heat Pump Water Heater                                              33511.4\n",
       "Basic Enclosure                                                     29002.5\n",
       "Mininum Efficiency Whole Home Electrification                       25321.2\n",
       "Heat Pump Clothes Dryer                                              5426.9\n",
       "Induction Cooking                                                    2610.2\n",
       "Electric Cooking                                                     2012.8\n",
       "Name: saving_energy.total_mmbtu, dtype: float64"
      ]
     },
     "metadata": {},
     "output_type": "display_data"
    },
    {
     "name": "stdout",
     "output_type": "stream",
     "text": [
      "segment4\n"
     ]
    },
    {
     "data": {
      "text/plain": [
       "upgrade_name\n",
       "Enhanced Enclosure + High Efficiency Whole Home Electrification    132232.3\n",
       "Basic Enclosure + High Efficiency Whole Home Electrification       126405.4\n",
       "Enhanced Enclosure + HPWH + High Efficiency HP/Electric Backup     122979.2\n",
       "High Efficiency Whole Home Electrification                         120724.2\n",
       "Basic Enclosure + HPWH + High Efficiency HP/Electric Backup        117152.3\n",
       "High Efficiency Heat Pump with Electric Heat Backup                 65830.5\n",
       "Heat Pump Water Heater                                              37782.2\n",
       "Enhanced Enclosure                                                  26070.9\n",
       "Mininum Efficiency Heat Pump with Electric Heat Backup              22524.5\n",
       "Mininum Efficiency Heat Pump with Existing Heat Backup              22237.9\n",
       "Basic Enclosure                                                     15639.5\n",
       "Mininum Efficiency Whole Home Electrification                        9863.1\n",
       "Heat Pump Clothes Dryer                                              5808.5\n",
       "Induction Cooking                                                    3444.6\n",
       "Electric Cooking                                                     2564.6\n",
       "Electric Clothes Dryer                                                 86.2\n",
       "Name: saving_energy.total_mmbtu, dtype: float64"
      ]
     },
     "metadata": {},
     "output_type": "display_data"
    }
   ],
   "source": [
    "indicator ='saving_energy.total_mmbtu'\n",
    "results = segment_annual_total_savings(indicator, community_results)\n",
    "saving_results[f'segment1_{income}_saving_energy_total_mmbtu'] = results[0]\n",
    "saving_results[f'segment2_{income}_saving_energy_total_mmbtu'] = results[1]\n",
    "saving_results[f'segment3_{income}_saving_energy_total_mmbtu'] = results[2]\n",
    "saving_results[f'segment4_{income}_saving_energy_total_mmbtu'] = results[3]"
   ]
  },
  {
   "cell_type": "markdown",
   "id": "5763f90a",
   "metadata": {},
   "source": [
    "### Annual Total Emission Savings"
   ]
  },
  {
   "cell_type": "code",
   "execution_count": 44,
   "id": "f1023e8a",
   "metadata": {},
   "outputs": [
    {
     "name": "stdout",
     "output_type": "stream",
     "text": [
      "segment1\n"
     ]
    },
    {
     "data": {
      "text/plain": [
       "upgrade_name\n",
       "Enhanced Enclosure + High Efficiency Whole Home Electrification    44473016.8\n",
       "Basic Enclosure + High Efficiency Whole Home Electrification       43818421.9\n",
       "Enhanced Enclosure + HPWH + High Efficiency HP/Electric Backup     43354962.2\n",
       "Basic Enclosure + HPWH + High Efficiency HP/Electric Backup        42700367.3\n",
       "High Efficiency Whole Home Electrification                         39346154.3\n",
       "High Efficiency Heat Pump with Electric Heat Backup                32325117.3\n",
       "Enhanced Enclosure                                                 20199578.6\n",
       "Mininum Efficiency Heat Pump with Electric Heat Backup             19499737.1\n",
       "Basic Enclosure                                                    17331321.3\n",
       "Mininum Efficiency Heat Pump with Existing Heat Backup             15709644.5\n",
       "Mininum Efficiency Whole Home Electrification                      14514334.0\n",
       "Heat Pump Water Heater                                              4130581.8\n",
       "Heat Pump Clothes Dryer                                              733797.3\n",
       "Induction Cooking                                                    384257.2\n",
       "Electric Cooking                                                     284135.6\n",
       "Electric Clothes Dryer                                                27321.6\n",
       "Name: saving_emission.total_kgCO2e, dtype: float64"
      ]
     },
     "metadata": {},
     "output_type": "display_data"
    },
    {
     "name": "stdout",
     "output_type": "stream",
     "text": [
      "segment2\n"
     ]
    },
    {
     "data": {
      "text/plain": [
       "upgrade_name\n",
       "Enhanced Enclosure + High Efficiency Whole Home Electrification    8626311.7\n",
       "Basic Enclosure + High Efficiency Whole Home Electrification       8462588.8\n",
       "Enhanced Enclosure + HPWH + High Efficiency HP/Electric Backup     8199354.0\n",
       "Basic Enclosure + HPWH + High Efficiency HP/Electric Backup        8035631.2\n",
       "High Efficiency Whole Home Electrification                         7825410.1\n",
       "High Efficiency Heat Pump with Electric Heat Backup                5462679.5\n",
       "Mininum Efficiency Heat Pump with Electric Heat Backup             2448490.8\n",
       "Enhanced Enclosure                                                 2295504.7\n",
       "Mininum Efficiency Heat Pump with Existing Heat Backup             2174339.7\n",
       "Basic Enclosure                                                    1808839.6\n",
       "Heat Pump Water Heater                                             1443368.7\n",
       "Mininum Efficiency Whole Home Electrification                       509857.0\n",
       "Heat Pump Clothes Dryer                                             262529.6\n",
       "Induction Cooking                                                   164428.1\n",
       "Electric Cooking                                                    121705.5\n",
       "Electric Clothes Dryer                                                2095.8\n",
       "Name: saving_emission.total_kgCO2e, dtype: float64"
      ]
     },
     "metadata": {},
     "output_type": "display_data"
    },
    {
     "name": "stdout",
     "output_type": "stream",
     "text": [
      "segment3\n"
     ]
    },
    {
     "data": {
      "text/plain": [
       "upgrade_name\n",
       "Enhanced Enclosure + High Efficiency Whole Home Electrification    12815013.3\n",
       "Basic Enclosure + High Efficiency Whole Home Electrification       12582237.2\n",
       "Enhanced Enclosure + HPWH + High Efficiency HP/Electric Backup     12263075.9\n",
       "Basic Enclosure + HPWH + High Efficiency HP/Electric Backup        12030299.7\n",
       "High Efficiency Whole Home Electrification                         11843795.1\n",
       "High Efficiency Heat Pump with Electric Heat Backup                 8422554.4\n",
       "Mininum Efficiency Heat Pump with Electric Heat Backup              4309440.5\n",
       "Mininum Efficiency Heat Pump with Existing Heat Backup              4030703.8\n",
       "Enhanced Enclosure                                                  3208948.1\n",
       "Heat Pump Water Heater                                              2311129.9\n",
       "Basic Enclosure                                                     2305249.4\n",
       "Mininum Efficiency Whole Home Electrification                       1669869.1\n",
       "Heat Pump Clothes Dryer                                              371482.8\n",
       "Induction Cooking                                                    180454.7\n",
       "Electric Cooking                                                     134826.5\n",
       "Name: saving_emission.total_kgCO2e, dtype: float64"
      ]
     },
     "metadata": {},
     "output_type": "display_data"
    },
    {
     "name": "stdout",
     "output_type": "stream",
     "text": [
      "segment4\n"
     ]
    },
    {
     "data": {
      "text/plain": [
       "upgrade_name\n",
       "Enhanced Enclosure + High Efficiency Whole Home Electrification    10220162.9\n",
       "Basic Enclosure + High Efficiency Whole Home Electrification        9840805.5\n",
       "Enhanced Enclosure + HPWH + High Efficiency HP/Electric Backup      9586176.2\n",
       "High Efficiency Whole Home Electrification                          9350698.5\n",
       "Basic Enclosure + HPWH + High Efficiency HP/Electric Backup         9206818.7\n",
       "High Efficiency Heat Pump with Electric Heat Backup                 5394142.4\n",
       "Heat Pump Water Heater                                              2662104.6\n",
       "Enhanced Enclosure                                                  2053132.0\n",
       "Mininum Efficiency Heat Pump with Electric Heat Backup              1962937.7\n",
       "Mininum Efficiency Heat Pump with Existing Heat Backup              1943874.6\n",
       "Basic Enclosure                                                     1328339.9\n",
       "Mininum Efficiency Whole Home Electrification                        644315.8\n",
       "Heat Pump Clothes Dryer                                              398495.0\n",
       "Induction Cooking                                                    235491.8\n",
       "Electric Cooking                                                     171813.7\n",
       "Electric Clothes Dryer                                                 9498.7\n",
       "Name: saving_emission.total_kgCO2e, dtype: float64"
      ]
     },
     "metadata": {},
     "output_type": "display_data"
    },
    {
     "name": "stderr",
     "output_type": "stream",
     "text": [
      "/var/folders/zw/lhnn73fj2250g9z11h_whq1szkf2pm/T/ipykernel_46519/3926536263.py:6: PerformanceWarning:\n",
      "\n",
      "DataFrame is highly fragmented.  This is usually the result of calling `frame.insert` many times, which has poor performance.  Consider joining all columns at once using pd.concat(axis=1) instead. To get a de-fragmented frame, use `newframe = frame.copy()`\n",
      "\n"
     ]
    }
   ],
   "source": [
    "indicator ='saving_emission.total_kgCO2e'\n",
    "results = segment_annual_total_savings(indicator, community_results)\n",
    "saving_results[f'segment1_{income}_saving_emission_total_kgCO2e'] = results[0]\n",
    "saving_results[f'segment2_{income}_saving_emission_total_kgCO2e'] = results[1]\n",
    "saving_results[f'segment3_{income}_saving_emission_total_kgCO2e'] = results[2]\n",
    "saving_results[f'segment4_{income}_saving_emission_total_kgCO2e'] = results[3]"
   ]
  },
  {
   "cell_type": "markdown",
   "id": "563da3e8",
   "metadata": {},
   "source": [
    "## 3.4 Annual Savings Per Dwelling Unit"
   ]
  },
  {
   "cell_type": "markdown",
   "id": "cc8ea738",
   "metadata": {},
   "source": [
    "### Annual Bill Savings Per Dwelling Unit"
   ]
  },
  {
   "cell_type": "code",
   "execution_count": 45,
   "id": "82aded52",
   "metadata": {},
   "outputs": [
    {
     "name": "stdout",
     "output_type": "stream",
     "text": [
      "segment1\n"
     ]
    },
    {
     "data": {
      "text/plain": [
       "upgrade_name\n",
       "Enhanced Enclosure + High Efficiency Whole Home Electrification    1480.0\n",
       "Basic Enclosure + High Efficiency Whole Home Electrification       1454.9\n",
       "Enhanced Enclosure + HPWH + High Efficiency HP/Electric Backup     1441.6\n",
       "Basic Enclosure + HPWH + High Efficiency HP/Electric Backup        1416.4\n",
       "High Efficiency Whole Home Electrification                         1255.3\n",
       "High Efficiency Heat Pump with Electric Heat Backup                1049.9\n",
       "Enhanced Enclosure                                                  688.4\n",
       "Basic Enclosure                                                     595.2\n",
       "Mininum Efficiency Heat Pump with Electric Heat Backup              485.4\n",
       "Mininum Efficiency Heat Pump with Existing Heat Backup              471.1\n",
       "Mininum Efficiency Whole Home Electrification                       306.6\n",
       "Heat Pump Water Heater                                              125.8\n",
       "Heat Pump Clothes Dryer                                              35.2\n",
       "Induction Cooking                                                     2.1\n",
       "Electric Cooking                                                    -12.5\n",
       "Electric Clothes Dryer                                              -24.4\n",
       "Name: saving_cbill.total_usd, dtype: float64"
      ]
     },
     "metadata": {},
     "output_type": "display_data"
    },
    {
     "name": "stdout",
     "output_type": "stream",
     "text": [
      "segment2\n"
     ]
    },
    {
     "data": {
      "text/plain": [
       "upgrade_name\n",
       "Enhanced Enclosure + High Efficiency Whole Home Electrification    584.2\n",
       "Basic Enclosure + High Efficiency Whole Home Electrification       573.4\n",
       "Enhanced Enclosure + HPWH + High Efficiency HP/Electric Backup     561.0\n",
       "Basic Enclosure + HPWH + High Efficiency HP/Electric Backup        550.1\n",
       "High Efficiency Whole Home Electrification                         529.2\n",
       "High Efficiency Heat Pump with Electric Heat Backup                367.3\n",
       "Enhanced Enclosure                                                 151.4\n",
       "Mininum Efficiency Heat Pump with Electric Heat Backup             149.7\n",
       "Mininum Efficiency Heat Pump with Existing Heat Backup             143.1\n",
       "Basic Enclosure                                                    121.8\n",
       "Heat Pump Water Heater                                             108.3\n",
       "Mininum Efficiency Whole Home Electrification                       29.9\n",
       "Heat Pump Clothes Dryer                                             29.8\n",
       "Induction Cooking                                                    1.9\n",
       "Electric Cooking                                                    -8.8\n",
       "Electric Clothes Dryer                                             -18.0\n",
       "Name: saving_cbill.total_usd, dtype: float64"
      ]
     },
     "metadata": {},
     "output_type": "display_data"
    },
    {
     "name": "stdout",
     "output_type": "stream",
     "text": [
      "segment3\n"
     ]
    },
    {
     "data": {
      "text/plain": [
       "upgrade_name\n",
       "Enhanced Enclosure + High Efficiency Whole Home Electrification    1140.5\n",
       "Basic Enclosure + High Efficiency Whole Home Electrification       1120.3\n",
       "Enhanced Enclosure + HPWH + High Efficiency HP/Electric Backup     1095.1\n",
       "Basic Enclosure + HPWH + High Efficiency HP/Electric Backup        1074.9\n",
       "High Efficiency Whole Home Electrification                         1046.1\n",
       "High Efficiency Heat Pump with Electric Heat Backup                 781.0\n",
       "Mininum Efficiency Heat Pump with Electric Heat Backup              373.4\n",
       "Mininum Efficiency Heat Pump with Existing Heat Backup              368.7\n",
       "Enhanced Enclosure                                                  304.3\n",
       "Basic Enclosure                                                     222.0\n",
       "Heat Pump Water Heater                                              173.8\n",
       "Mininum Efficiency Whole Home Electrification                        91.8\n",
       "Heat Pump Clothes Dryer                                              48.9\n",
       "Induction Cooking                                                     1.7\n",
       "Electric Cooking                                                    -14.9\n",
       "Name: saving_cbill.total_usd, dtype: float64"
      ]
     },
     "metadata": {},
     "output_type": "display_data"
    },
    {
     "name": "stdout",
     "output_type": "stream",
     "text": [
      "segment4\n"
     ]
    },
    {
     "data": {
      "text/plain": [
       "upgrade_name\n",
       "Enhanced Enclosure + High Efficiency Whole Home Electrification    511.2\n",
       "Basic Enclosure + High Efficiency Whole Home Electrification       487.3\n",
       "Enhanced Enclosure + HPWH + High Efficiency HP/Electric Backup     485.5\n",
       "High Efficiency Whole Home Electrification                         464.0\n",
       "Basic Enclosure + HPWH + High Efficiency HP/Electric Backup        461.6\n",
       "High Efficiency Heat Pump with Electric Heat Backup                269.4\n",
       "Heat Pump Water Heater                                             140.1\n",
       "Enhanced Enclosure                                                 110.6\n",
       "Mininum Efficiency Heat Pump with Existing Heat Backup              93.5\n",
       "Mininum Efficiency Heat Pump with Electric Heat Backup              91.2\n",
       "Basic Enclosure                                                     70.6\n",
       "Mininum Efficiency Whole Home Electrification                       35.9\n",
       "Heat Pump Clothes Dryer                                             29.9\n",
       "Induction Cooking                                                    3.1\n",
       "Electric Cooking                                                    -2.9\n",
       "Electric Clothes Dryer                                             -67.8\n",
       "Name: saving_cbill.total_usd, dtype: float64"
      ]
     },
     "metadata": {},
     "output_type": "display_data"
    },
    {
     "name": "stderr",
     "output_type": "stream",
     "text": [
      "/var/folders/zw/lhnn73fj2250g9z11h_whq1szkf2pm/T/ipykernel_46519/3071005957.py:3: PerformanceWarning:\n",
      "\n",
      "DataFrame is highly fragmented.  This is usually the result of calling `frame.insert` many times, which has poor performance.  Consider joining all columns at once using pd.concat(axis=1) instead. To get a de-fragmented frame, use `newframe = frame.copy()`\n",
      "\n",
      "/var/folders/zw/lhnn73fj2250g9z11h_whq1szkf2pm/T/ipykernel_46519/3071005957.py:4: PerformanceWarning:\n",
      "\n",
      "DataFrame is highly fragmented.  This is usually the result of calling `frame.insert` many times, which has poor performance.  Consider joining all columns at once using pd.concat(axis=1) instead. To get a de-fragmented frame, use `newframe = frame.copy()`\n",
      "\n",
      "/var/folders/zw/lhnn73fj2250g9z11h_whq1szkf2pm/T/ipykernel_46519/3071005957.py:5: PerformanceWarning:\n",
      "\n",
      "DataFrame is highly fragmented.  This is usually the result of calling `frame.insert` many times, which has poor performance.  Consider joining all columns at once using pd.concat(axis=1) instead. To get a de-fragmented frame, use `newframe = frame.copy()`\n",
      "\n",
      "/var/folders/zw/lhnn73fj2250g9z11h_whq1szkf2pm/T/ipykernel_46519/3071005957.py:6: PerformanceWarning:\n",
      "\n",
      "DataFrame is highly fragmented.  This is usually the result of calling `frame.insert` many times, which has poor performance.  Consider joining all columns at once using pd.concat(axis=1) instead. To get a de-fragmented frame, use `newframe = frame.copy()`\n",
      "\n"
     ]
    }
   ],
   "source": [
    "indicator ='saving_cbill.total_usd'\n",
    "results = segment_mean_savings(indicator, community_results)\n",
    "saving_results[f'segment1_{income}_saving_bill_mean_usd'] = results[0]\n",
    "saving_results[f'segment2_{income}_saving_bill_mean_usd'] = results[1]\n",
    "saving_results[f'segment3_{income}_saving_bill_mean_usd'] = results[2]\n",
    "saving_results[f'segment4_{income}_saving_bill_mean_usd'] = results[3]"
   ]
  },
  {
   "cell_type": "markdown",
   "id": "7b3bbdc3",
   "metadata": {},
   "source": [
    "### Annual Energy Savings Per Dwelling Unit"
   ]
  },
  {
   "cell_type": "code",
   "execution_count": 46,
   "id": "d554f5e1",
   "metadata": {},
   "outputs": [
    {
     "name": "stdout",
     "output_type": "stream",
     "text": [
      "segment1\n"
     ]
    },
    {
     "data": {
      "text/plain": [
       "upgrade_name\n",
       "Enhanced Enclosure + High Efficiency Whole Home Electrification    56.2\n",
       "Basic Enclosure + High Efficiency Whole Home Electrification       55.6\n",
       "Enhanced Enclosure + HPWH + High Efficiency HP/Electric Backup     54.7\n",
       "Basic Enclosure + HPWH + High Efficiency HP/Electric Backup        54.1\n",
       "High Efficiency Whole Home Electrification                         50.4\n",
       "High Efficiency Heat Pump with Electric Heat Backup                40.9\n",
       "Mininum Efficiency Whole Home Electrification                      38.4\n",
       "Mininum Efficiency Heat Pump with Electric Heat Backup             26.3\n",
       "Enhanced Enclosure                                                 25.2\n",
       "Basic Enclosure                                                    21.8\n",
       "Mininum Efficiency Heat Pump with Existing Heat Backup             19.4\n",
       "Heat Pump Water Heater                                              5.6\n",
       "Electric Cooking                                                    1.8\n",
       "Heat Pump Clothes Dryer                                             1.0\n",
       "Induction Cooking                                                   0.6\n",
       "Electric Clothes Dryer                                              0.4\n",
       "Name: saving_energy.total_mmbtu, dtype: float64"
      ]
     },
     "metadata": {},
     "output_type": "display_data"
    },
    {
     "name": "stdout",
     "output_type": "stream",
     "text": [
      "segment2\n"
     ]
    },
    {
     "data": {
      "text/plain": [
       "upgrade_name\n",
       "Enhanced Enclosure + High Efficiency Whole Home Electrification    16.2\n",
       "Basic Enclosure + High Efficiency Whole Home Electrification       15.9\n",
       "Enhanced Enclosure + HPWH + High Efficiency HP/Electric Backup     15.3\n",
       "Basic Enclosure + HPWH + High Efficiency HP/Electric Backup        15.0\n",
       "High Efficiency Whole Home Electrification                         14.7\n",
       "High Efficiency Heat Pump with Electric Heat Backup                 9.9\n",
       "Mininum Efficiency Whole Home Electrification                       4.6\n",
       "Mininum Efficiency Heat Pump with Electric Heat Backup              4.2\n",
       "Enhanced Enclosure                                                  4.1\n",
       "Mininum Efficiency Heat Pump with Existing Heat Backup              3.8\n",
       "Basic Enclosure                                                     3.3\n",
       "Heat Pump Water Heater                                              3.1\n",
       "Electric Cooking                                                    1.5\n",
       "Heat Pump Clothes Dryer                                             0.8\n",
       "Induction Cooking                                                   0.3\n",
       "Electric Clothes Dryer                                              0.3\n",
       "Name: saving_energy.total_mmbtu, dtype: float64"
      ]
     },
     "metadata": {},
     "output_type": "display_data"
    },
    {
     "name": "stdout",
     "output_type": "stream",
     "text": [
      "segment3\n"
     ]
    },
    {
     "data": {
      "text/plain": [
       "upgrade_name\n",
       "Enhanced Enclosure + High Efficiency Whole Home Electrification    33.8\n",
       "Basic Enclosure + High Efficiency Whole Home Electrification       33.3\n",
       "Enhanced Enclosure + HPWH + High Efficiency HP/Electric Backup     32.2\n",
       "Basic Enclosure + HPWH + High Efficiency HP/Electric Backup        31.6\n",
       "High Efficiency Whole Home Electrification                         31.4\n",
       "High Efficiency Heat Pump with Electric Heat Backup                21.5\n",
       "Mininum Efficiency Whole Home Electrification                      12.5\n",
       "Mininum Efficiency Heat Pump with Electric Heat Backup             10.9\n",
       "Mininum Efficiency Heat Pump with Existing Heat Backup              9.9\n",
       "Enhanced Enclosure                                                  8.2\n",
       "Heat Pump Water Heater                                              7.0\n",
       "Basic Enclosure                                                     6.0\n",
       "Electric Cooking                                                    2.0\n",
       "Heat Pump Clothes Dryer                                             1.3\n",
       "Induction Cooking                                                   0.5\n",
       "Name: saving_energy.total_mmbtu, dtype: float64"
      ]
     },
     "metadata": {},
     "output_type": "display_data"
    },
    {
     "name": "stdout",
     "output_type": "stream",
     "text": [
      "segment4\n"
     ]
    },
    {
     "data": {
      "text/plain": [
       "upgrade_name\n",
       "Enhanced Enclosure + High Efficiency Whole Home Electrification    14.1\n",
       "Basic Enclosure + High Efficiency Whole Home Electrification       13.4\n",
       "Enhanced Enclosure + HPWH + High Efficiency HP/Electric Backup     13.1\n",
       "High Efficiency Whole Home Electrification                         12.8\n",
       "Basic Enclosure + HPWH + High Efficiency HP/Electric Backup        12.5\n",
       "High Efficiency Heat Pump with Electric Heat Backup                 7.0\n",
       "Heat Pump Water Heater                                              4.1\n",
       "Mininum Efficiency Whole Home Electrification                       4.0\n",
       "Enhanced Enclosure                                                  2.9\n",
       "Mininum Efficiency Heat Pump with Existing Heat Backup              2.4\n",
       "Mininum Efficiency Heat Pump with Electric Heat Backup              2.4\n",
       "Basic Enclosure                                                     1.8\n",
       "Electric Cooking                                                    1.5\n",
       "Heat Pump Clothes Dryer                                             0.8\n",
       "Electric Clothes Dryer                                              0.6\n",
       "Induction Cooking                                                   0.4\n",
       "Name: saving_energy.total_mmbtu, dtype: float64"
      ]
     },
     "metadata": {},
     "output_type": "display_data"
    },
    {
     "name": "stderr",
     "output_type": "stream",
     "text": [
      "/var/folders/zw/lhnn73fj2250g9z11h_whq1szkf2pm/T/ipykernel_46519/396568384.py:3: PerformanceWarning:\n",
      "\n",
      "DataFrame is highly fragmented.  This is usually the result of calling `frame.insert` many times, which has poor performance.  Consider joining all columns at once using pd.concat(axis=1) instead. To get a de-fragmented frame, use `newframe = frame.copy()`\n",
      "\n",
      "/var/folders/zw/lhnn73fj2250g9z11h_whq1szkf2pm/T/ipykernel_46519/396568384.py:4: PerformanceWarning:\n",
      "\n",
      "DataFrame is highly fragmented.  This is usually the result of calling `frame.insert` many times, which has poor performance.  Consider joining all columns at once using pd.concat(axis=1) instead. To get a de-fragmented frame, use `newframe = frame.copy()`\n",
      "\n",
      "/var/folders/zw/lhnn73fj2250g9z11h_whq1szkf2pm/T/ipykernel_46519/396568384.py:5: PerformanceWarning:\n",
      "\n",
      "DataFrame is highly fragmented.  This is usually the result of calling `frame.insert` many times, which has poor performance.  Consider joining all columns at once using pd.concat(axis=1) instead. To get a de-fragmented frame, use `newframe = frame.copy()`\n",
      "\n",
      "/var/folders/zw/lhnn73fj2250g9z11h_whq1szkf2pm/T/ipykernel_46519/396568384.py:6: PerformanceWarning:\n",
      "\n",
      "DataFrame is highly fragmented.  This is usually the result of calling `frame.insert` many times, which has poor performance.  Consider joining all columns at once using pd.concat(axis=1) instead. To get a de-fragmented frame, use `newframe = frame.copy()`\n",
      "\n"
     ]
    }
   ],
   "source": [
    "indicator ='saving_energy.total_mmbtu'\n",
    "results = segment_mean_savings(indicator, community_results) \n",
    "saving_results[f'segment1_{income}_saving_energy_mean_mmbtu'] = results[0]\n",
    "saving_results[f'segment2_{income}_saving_energy_mean_mmbtu'] = results[1]\n",
    "saving_results[f'segment3_{income}_saving_energy_mean_mmbtu'] = results[2]\n",
    "saving_results[f'segment4_{income}_saving_energy_mean_mmbtu'] = results[3]"
   ]
  },
  {
   "cell_type": "markdown",
   "id": "1df2744e",
   "metadata": {},
   "source": [
    "### Annual Percentage Energy Savings Per Dwelling Unit"
   ]
  },
  {
   "cell_type": "code",
   "execution_count": 47,
   "id": "75fce0ec",
   "metadata": {},
   "outputs": [
    {
     "name": "stdout",
     "output_type": "stream",
     "text": [
      "segment1\n"
     ]
    },
    {
     "data": {
      "text/plain": [
       "upgrade_name\n",
       "Enhanced Enclosure + High Efficiency Whole Home Electrification    61.5\n",
       "Basic Enclosure + High Efficiency Whole Home Electrification       60.8\n",
       "Enhanced Enclosure + HPWH + High Efficiency HP/Electric Backup     59.8\n",
       "Basic Enclosure + HPWH + High Efficiency HP/Electric Backup        59.1\n",
       "High Efficiency Whole Home Electrification                         54.7\n",
       "High Efficiency Heat Pump with Electric Heat Backup                44.2\n",
       "Mininum Efficiency Whole Home Electrification                      35.2\n",
       "Enhanced Enclosure                                                 27.3\n",
       "Mininum Efficiency Heat Pump with Electric Heat Backup             26.9\n",
       "Basic Enclosure                                                    23.7\n",
       "Mininum Efficiency Heat Pump with Existing Heat Backup             20.7\n",
       "Heat Pump Water Heater                                              6.5\n",
       "Electric Cooking                                                    1.7\n",
       "Heat Pump Clothes Dryer                                             1.2\n",
       "Induction Cooking                                                   0.6\n",
       "Electric Clothes Dryer                                              0.4\n",
       "Name: pct_saving_energy.total_%, dtype: float64"
      ]
     },
     "metadata": {},
     "output_type": "display_data"
    },
    {
     "name": "stdout",
     "output_type": "stream",
     "text": [
      "segment2\n"
     ]
    },
    {
     "data": {
      "text/plain": [
       "upgrade_name\n",
       "Enhanced Enclosure + High Efficiency Whole Home Electrification    43.8\n",
       "Basic Enclosure + High Efficiency Whole Home Electrification       43.1\n",
       "Enhanced Enclosure + HPWH + High Efficiency HP/Electric Backup     41.2\n",
       "Basic Enclosure + HPWH + High Efficiency HP/Electric Backup        40.5\n",
       "High Efficiency Whole Home Electrification                         40.1\n",
       "High Efficiency Heat Pump with Electric Heat Backup                26.3\n",
       "Enhanced Enclosure                                                 10.8\n",
       "Mininum Efficiency Heat Pump with Electric Heat Backup             10.7\n",
       "Mininum Efficiency Whole Home Electrification                      10.7\n",
       "Mininum Efficiency Heat Pump with Existing Heat Backup              9.8\n",
       "Heat Pump Water Heater                                              8.8\n",
       "Basic Enclosure                                                     8.7\n",
       "Electric Cooking                                                    4.7\n",
       "Heat Pump Clothes Dryer                                             2.2\n",
       "Electric Clothes Dryer                                              1.1\n",
       "Induction Cooking                                                   1.0\n",
       "Name: pct_saving_energy.total_%, dtype: float64"
      ]
     },
     "metadata": {},
     "output_type": "display_data"
    },
    {
     "name": "stdout",
     "output_type": "stream",
     "text": [
      "segment3\n"
     ]
    },
    {
     "data": {
      "text/plain": [
       "upgrade_name\n",
       "Enhanced Enclosure + High Efficiency Whole Home Electrification    46.2\n",
       "Basic Enclosure + High Efficiency Whole Home Electrification       45.7\n",
       "Enhanced Enclosure + HPWH + High Efficiency HP/Electric Backup     44.0\n",
       "Basic Enclosure + HPWH + High Efficiency HP/Electric Backup        43.5\n",
       "High Efficiency Whole Home Electrification                         43.0\n",
       "High Efficiency Heat Pump with Electric Heat Backup                29.7\n",
       "Mininum Efficiency Whole Home Electrification                      16.8\n",
       "Mininum Efficiency Heat Pump with Electric Heat Backup             14.9\n",
       "Mininum Efficiency Heat Pump with Existing Heat Backup             13.4\n",
       "Enhanced Enclosure                                                 10.7\n",
       "Heat Pump Water Heater                                              9.3\n",
       "Basic Enclosure                                                     8.5\n",
       "Electric Cooking                                                    2.9\n",
       "Heat Pump Clothes Dryer                                             1.7\n",
       "Induction Cooking                                                   0.8\n",
       "Name: pct_saving_energy.total_%, dtype: float64"
      ]
     },
     "metadata": {},
     "output_type": "display_data"
    },
    {
     "name": "stdout",
     "output_type": "stream",
     "text": [
      "segment4\n"
     ]
    },
    {
     "data": {
      "text/plain": [
       "upgrade_name\n",
       "Enhanced Enclosure + High Efficiency Whole Home Electrification    39.2\n",
       "Basic Enclosure + High Efficiency Whole Home Electrification       38.2\n",
       "High Efficiency Whole Home Electrification                         36.5\n",
       "Enhanced Enclosure + HPWH + High Efficiency HP/Electric Backup     36.3\n",
       "Basic Enclosure + HPWH + High Efficiency HP/Electric Backup        35.3\n",
       "High Efficiency Heat Pump with Electric Heat Backup                19.6\n",
       "Mininum Efficiency Whole Home Electrification                      12.0\n",
       "Heat Pump Water Heater                                             11.7\n",
       "Enhanced Enclosure                                                  6.8\n",
       "Mininum Efficiency Heat Pump with Electric Heat Backup              6.1\n",
       "Mininum Efficiency Heat Pump with Existing Heat Backup              6.1\n",
       "Basic Enclosure                                                     5.3\n",
       "Electric Cooking                                                    4.7\n",
       "Heat Pump Clothes Dryer                                             2.4\n",
       "Electric Clothes Dryer                                              1.7\n",
       "Induction Cooking                                                   1.2\n",
       "Name: pct_saving_energy.total_%, dtype: float64"
      ]
     },
     "metadata": {},
     "output_type": "display_data"
    },
    {
     "name": "stderr",
     "output_type": "stream",
     "text": [
      "/var/folders/zw/lhnn73fj2250g9z11h_whq1szkf2pm/T/ipykernel_46519/1358844843.py:3: PerformanceWarning:\n",
      "\n",
      "DataFrame is highly fragmented.  This is usually the result of calling `frame.insert` many times, which has poor performance.  Consider joining all columns at once using pd.concat(axis=1) instead. To get a de-fragmented frame, use `newframe = frame.copy()`\n",
      "\n",
      "/var/folders/zw/lhnn73fj2250g9z11h_whq1szkf2pm/T/ipykernel_46519/1358844843.py:4: PerformanceWarning:\n",
      "\n",
      "DataFrame is highly fragmented.  This is usually the result of calling `frame.insert` many times, which has poor performance.  Consider joining all columns at once using pd.concat(axis=1) instead. To get a de-fragmented frame, use `newframe = frame.copy()`\n",
      "\n",
      "/var/folders/zw/lhnn73fj2250g9z11h_whq1szkf2pm/T/ipykernel_46519/1358844843.py:5: PerformanceWarning:\n",
      "\n",
      "DataFrame is highly fragmented.  This is usually the result of calling `frame.insert` many times, which has poor performance.  Consider joining all columns at once using pd.concat(axis=1) instead. To get a de-fragmented frame, use `newframe = frame.copy()`\n",
      "\n",
      "/var/folders/zw/lhnn73fj2250g9z11h_whq1szkf2pm/T/ipykernel_46519/1358844843.py:6: PerformanceWarning:\n",
      "\n",
      "DataFrame is highly fragmented.  This is usually the result of calling `frame.insert` many times, which has poor performance.  Consider joining all columns at once using pd.concat(axis=1) instead. To get a de-fragmented frame, use `newframe = frame.copy()`\n",
      "\n"
     ]
    }
   ],
   "source": [
    "indicator ='pct_saving_energy.total_%'\n",
    "results = segment_mean_savings(indicator, community_results)\n",
    "saving_results[f'segment1_{income}_pct_saving_energy_mean_%'] = results[0]\n",
    "saving_results[f'segment2_{income}_pct_saving_energy_mean_%'] = results[1]\n",
    "saving_results[f'segment3_{income}_pct_saving_energy_mean_%'] = results[2]\n",
    "saving_results[f'segment4_{income}_pct_saving_energy_mean_%'] = results[3]"
   ]
  },
  {
   "cell_type": "markdown",
   "id": "d2b75959",
   "metadata": {},
   "source": [
    "### Annual Emission Savings Per Dwelling Unit"
   ]
  },
  {
   "cell_type": "code",
   "execution_count": 48,
   "id": "564427ed",
   "metadata": {},
   "outputs": [
    {
     "name": "stdout",
     "output_type": "stream",
     "text": [
      "segment1\n"
     ]
    },
    {
     "data": {
      "text/plain": [
       "upgrade_name\n",
       "Enhanced Enclosure + High Efficiency Whole Home Electrification    4107.7\n",
       "Basic Enclosure + High Efficiency Whole Home Electrification       4047.2\n",
       "Enhanced Enclosure + HPWH + High Efficiency HP/Electric Backup     4004.4\n",
       "Basic Enclosure + HPWH + High Efficiency HP/Electric Backup        3944.0\n",
       "High Efficiency Whole Home Electrification                         3634.2\n",
       "High Efficiency Heat Pump with Electric Heat Backup                2985.7\n",
       "Mininum Efficiency Whole Home Electrification                      2287.9\n",
       "Enhanced Enclosure                                                 1865.7\n",
       "Mininum Efficiency Heat Pump with Electric Heat Backup             1801.1\n",
       "Basic Enclosure                                                    1600.8\n",
       "Mininum Efficiency Heat Pump with Existing Heat Backup             1451.0\n",
       "Heat Pump Water Heater                                              383.3\n",
       "Electric Cooking                                                    110.9\n",
       "Heat Pump Clothes Dryer                                              70.0\n",
       "Induction Cooking                                                    36.4\n",
       "Electric Clothes Dryer                                               24.4\n",
       "Name: saving_emission.total_kgCO2e, dtype: float64"
      ]
     },
     "metadata": {},
     "output_type": "display_data"
    },
    {
     "name": "stdout",
     "output_type": "stream",
     "text": [
      "segment2\n"
     ]
    },
    {
     "data": {
      "text/plain": [
       "upgrade_name\n",
       "Enhanced Enclosure + High Efficiency Whole Home Electrification    1287.3\n",
       "Basic Enclosure + High Efficiency Whole Home Electrification       1262.8\n",
       "Enhanced Enclosure + HPWH + High Efficiency HP/Electric Backup     1223.5\n",
       "Basic Enclosure + HPWH + High Efficiency HP/Electric Backup        1199.1\n",
       "High Efficiency Whole Home Electrification                         1167.7\n",
       "High Efficiency Heat Pump with Electric Heat Backup                 815.2\n",
       "Mininum Efficiency Heat Pump with Electric Heat Backup              365.4\n",
       "Mininum Efficiency Heat Pump with Existing Heat Backup              342.9\n",
       "Enhanced Enclosure                                                  342.5\n",
       "Mininum Efficiency Whole Home Electrification                       290.7\n",
       "Basic Enclosure                                                     275.2\n",
       "Heat Pump Water Heater                                              218.7\n",
       "Electric Cooking                                                    109.8\n",
       "Heat Pump Clothes Dryer                                              54.6\n",
       "Induction Cooking                                                    24.8\n",
       "Electric Clothes Dryer                                               16.2\n",
       "Name: saving_emission.total_kgCO2e, dtype: float64"
      ]
     },
     "metadata": {},
     "output_type": "display_data"
    },
    {
     "name": "stdout",
     "output_type": "stream",
     "text": [
      "segment3\n"
     ]
    },
    {
     "data": {
      "text/plain": [
       "upgrade_name\n",
       "Enhanced Enclosure + High Efficiency Whole Home Electrification    2641.8\n",
       "Basic Enclosure + High Efficiency Whole Home Electrification       2593.8\n",
       "Enhanced Enclosure + HPWH + High Efficiency HP/Electric Backup     2528.0\n",
       "Basic Enclosure + HPWH + High Efficiency HP/Electric Backup        2480.0\n",
       "High Efficiency Whole Home Electrification                         2441.6\n",
       "High Efficiency Heat Pump with Electric Heat Backup                1736.3\n",
       "Mininum Efficiency Heat Pump with Electric Heat Backup              888.4\n",
       "Mininum Efficiency Heat Pump with Existing Heat Backup              830.9\n",
       "Mininum Efficiency Whole Home Electrification                       825.7\n",
       "Enhanced Enclosure                                                  667.4\n",
       "Heat Pump Water Heater                                              480.7\n",
       "Basic Enclosure                                                     479.5\n",
       "Electric Cooking                                                    136.2\n",
       "Heat Pump Clothes Dryer                                              86.9\n",
       "Induction Cooking                                                    37.2\n",
       "Name: saving_emission.total_kgCO2e, dtype: float64"
      ]
     },
     "metadata": {},
     "output_type": "display_data"
    },
    {
     "name": "stdout",
     "output_type": "stream",
     "text": [
      "segment4\n"
     ]
    },
    {
     "data": {
      "text/plain": [
       "upgrade_name\n",
       "Enhanced Enclosure + High Efficiency Whole Home Electrification    1087.4\n",
       "Basic Enclosure + High Efficiency Whole Home Electrification       1047.0\n",
       "Enhanced Enclosure + HPWH + High Efficiency HP/Electric Backup     1019.9\n",
       "High Efficiency Whole Home Electrification                          994.9\n",
       "Basic Enclosure + HPWH + High Efficiency HP/Electric Backup         979.6\n",
       "High Efficiency Heat Pump with Electric Heat Backup                 575.9\n",
       "Heat Pump Water Heater                                              287.5\n",
       "Mininum Efficiency Whole Home Electrification                       261.3\n",
       "Enhanced Enclosure                                                  227.2\n",
       "Mininum Efficiency Heat Pump with Existing Heat Backup              212.7\n",
       "Mininum Efficiency Heat Pump with Electric Heat Backup              209.6\n",
       "Basic Enclosure                                                     157.0\n",
       "Electric Cooking                                                    100.4\n",
       "Electric Clothes Dryer                                               67.0\n",
       "Heat Pump Clothes Dryer                                              56.4\n",
       "Induction Cooking                                                    25.2\n",
       "Name: saving_emission.total_kgCO2e, dtype: float64"
      ]
     },
     "metadata": {},
     "output_type": "display_data"
    },
    {
     "name": "stderr",
     "output_type": "stream",
     "text": [
      "/var/folders/zw/lhnn73fj2250g9z11h_whq1szkf2pm/T/ipykernel_46519/624873452.py:3: PerformanceWarning:\n",
      "\n",
      "DataFrame is highly fragmented.  This is usually the result of calling `frame.insert` many times, which has poor performance.  Consider joining all columns at once using pd.concat(axis=1) instead. To get a de-fragmented frame, use `newframe = frame.copy()`\n",
      "\n",
      "/var/folders/zw/lhnn73fj2250g9z11h_whq1szkf2pm/T/ipykernel_46519/624873452.py:4: PerformanceWarning:\n",
      "\n",
      "DataFrame is highly fragmented.  This is usually the result of calling `frame.insert` many times, which has poor performance.  Consider joining all columns at once using pd.concat(axis=1) instead. To get a de-fragmented frame, use `newframe = frame.copy()`\n",
      "\n",
      "/var/folders/zw/lhnn73fj2250g9z11h_whq1szkf2pm/T/ipykernel_46519/624873452.py:5: PerformanceWarning:\n",
      "\n",
      "DataFrame is highly fragmented.  This is usually the result of calling `frame.insert` many times, which has poor performance.  Consider joining all columns at once using pd.concat(axis=1) instead. To get a de-fragmented frame, use `newframe = frame.copy()`\n",
      "\n",
      "/var/folders/zw/lhnn73fj2250g9z11h_whq1szkf2pm/T/ipykernel_46519/624873452.py:6: PerformanceWarning:\n",
      "\n",
      "DataFrame is highly fragmented.  This is usually the result of calling `frame.insert` many times, which has poor performance.  Consider joining all columns at once using pd.concat(axis=1) instead. To get a de-fragmented frame, use `newframe = frame.copy()`\n",
      "\n"
     ]
    }
   ],
   "source": [
    "indicator ='saving_emission.total_kgCO2e'\n",
    "results = segment_mean_savings(indicator, community_results)\n",
    "saving_results[f'segment1_{income}_saving_emission_mean_kgCO2e'] = results[0]\n",
    "saving_results[f'segment2_{income}_saving_emission_mean_kgCO2e'] = results[1]\n",
    "saving_results[f'segment3_{income}_saving_emission_mean_kgCO2e'] = results[2]\n",
    "saving_results[f'segment4_{income}_saving_emission_mean_kgCO2e'] = results[3]"
   ]
  },
  {
   "cell_type": "markdown",
   "id": "1a6cb1c1",
   "metadata": {},
   "source": [
    "## 3.5. Pecent Stock with Positive and Negtive Savings"
   ]
  },
  {
   "cell_type": "markdown",
   "id": "ad9fca17",
   "metadata": {},
   "source": [
    "### Segment 1"
   ]
  },
  {
   "cell_type": "code",
   "execution_count": 49,
   "id": "a4c6dfcc",
   "metadata": {},
   "outputs": [
    {
     "data": {
      "application/vnd.plotly.v1+json": {
       "config": {
        "plotlyServerURL": "https://plot.ly"
       },
       "data": [
        {
         "marker": {
          "color": "red"
         },
         "name": "Negative",
         "orientation": "h",
         "text": [
          1,
          0.85,
          0.2073170731707317,
          0.13043478260869565,
          0.023529411764705882,
          0.011904761904761904,
          0.011764705882352941,
          0,
          0,
          0,
          0,
          0,
          0,
          0,
          0,
          0
         ],
         "textposition": "inside",
         "texttemplate": "%{text:.0%}",
         "type": "bar",
         "x": [
          1,
          0.85,
          0.2073170731707317,
          0.13043478260869565,
          0.023529411764705882,
          0.011904761904761904,
          0.011764705882352941,
          0,
          0,
          0,
          0,
          0,
          0,
          0,
          0,
          0
         ],
         "xaxis": "x",
         "y": [
          "Electric Clothes Dryer",
          "Electric Cooking",
          "Induction Cooking",
          "Mininum Efficiency Whole Home Electrification",
          "Mininum Efficiency Heat Pump with Existing Heat Backup",
          "Heat Pump Water Heater",
          "Mininum Efficiency Heat Pump with Electric Heat Backup",
          "Basic Enclosure",
          "Basic Enclosure + HPWH + High Efficiency HP/Electric Backup",
          "Basic Enclosure + High Efficiency Whole Home Electrification",
          "Enhanced Enclosure",
          "Enhanced Enclosure + HPWH + High Efficiency HP/Electric Backup",
          "Enhanced Enclosure + High Efficiency Whole Home Electrification",
          "Heat Pump Clothes Dryer",
          "High Efficiency Heat Pump with Electric Heat Backup",
          "High Efficiency Whole Home Electrification"
         ],
         "yaxis": "y"
        },
        {
         "marker": {
          "color": "green"
         },
         "name": "Positive",
         "orientation": "h",
         "text": [
          0,
          0.15,
          0.7926829268292683,
          0.8695652173913043,
          0.9764705882352941,
          0.9880952380952381,
          0.9882352941176471,
          1,
          1,
          1,
          1,
          1,
          1,
          1,
          1,
          1
         ],
         "textposition": "inside",
         "texttemplate": "%{text:.0%}",
         "type": "bar",
         "x": [
          0,
          0.15,
          0.7926829268292683,
          0.8695652173913043,
          0.9764705882352941,
          0.9880952380952381,
          0.9882352941176471,
          1,
          1,
          1,
          1,
          1,
          1,
          1,
          1,
          1
         ],
         "xaxis": "x",
         "y": [
          "Electric Clothes Dryer",
          "Electric Cooking",
          "Induction Cooking",
          "Mininum Efficiency Whole Home Electrification",
          "Mininum Efficiency Heat Pump with Existing Heat Backup",
          "Heat Pump Water Heater",
          "Mininum Efficiency Heat Pump with Electric Heat Backup",
          "Basic Enclosure",
          "Basic Enclosure + HPWH + High Efficiency HP/Electric Backup",
          "Basic Enclosure + High Efficiency Whole Home Electrification",
          "Enhanced Enclosure",
          "Enhanced Enclosure + HPWH + High Efficiency HP/Electric Backup",
          "Enhanced Enclosure + High Efficiency Whole Home Electrification",
          "Heat Pump Clothes Dryer",
          "High Efficiency Heat Pump with Electric Heat Backup",
          "High Efficiency Whole Home Electrification"
         ],
         "yaxis": "y"
        },
        {
         "marker": {
          "color": "red"
         },
         "orientation": "h",
         "showlegend": false,
         "text": [
          0,
          0,
          0,
          0,
          0.011764705882352941,
          0,
          0,
          0,
          0,
          0,
          0,
          0,
          0,
          0,
          0,
          0
         ],
         "textposition": "inside",
         "texttemplate": "%{text:.0%}",
         "type": "bar",
         "x": [
          0,
          0,
          0,
          0,
          0.011764705882352941,
          0,
          0,
          0,
          0,
          0,
          0,
          0,
          0,
          0,
          0,
          0
         ],
         "xaxis": "x2",
         "y": [
          "Electric Clothes Dryer",
          "Electric Cooking",
          "Induction Cooking",
          "Mininum Efficiency Whole Home Electrification",
          "Mininum Efficiency Heat Pump with Existing Heat Backup",
          "Heat Pump Water Heater",
          "Mininum Efficiency Heat Pump with Electric Heat Backup",
          "Basic Enclosure",
          "Basic Enclosure + HPWH + High Efficiency HP/Electric Backup",
          "Basic Enclosure + High Efficiency Whole Home Electrification",
          "Enhanced Enclosure",
          "Enhanced Enclosure + HPWH + High Efficiency HP/Electric Backup",
          "Enhanced Enclosure + High Efficiency Whole Home Electrification",
          "Heat Pump Clothes Dryer",
          "High Efficiency Heat Pump with Electric Heat Backup",
          "High Efficiency Whole Home Electrification"
         ],
         "yaxis": "y2"
        },
        {
         "marker": {
          "color": "green"
         },
         "orientation": "h",
         "showlegend": false,
         "text": [
          1,
          1,
          1,
          1,
          0.9882352941176471,
          1,
          1,
          1,
          1,
          1,
          1,
          1,
          1,
          1,
          1,
          1
         ],
         "textposition": "inside",
         "texttemplate": "%{text:.0%}",
         "type": "bar",
         "x": [
          1,
          1,
          1,
          1,
          0.9882352941176471,
          1,
          1,
          1,
          1,
          1,
          1,
          1,
          1,
          1,
          1,
          1
         ],
         "xaxis": "x2",
         "y": [
          "Electric Clothes Dryer",
          "Electric Cooking",
          "Induction Cooking",
          "Mininum Efficiency Whole Home Electrification",
          "Mininum Efficiency Heat Pump with Existing Heat Backup",
          "Heat Pump Water Heater",
          "Mininum Efficiency Heat Pump with Electric Heat Backup",
          "Basic Enclosure",
          "Basic Enclosure + HPWH + High Efficiency HP/Electric Backup",
          "Basic Enclosure + High Efficiency Whole Home Electrification",
          "Enhanced Enclosure",
          "Enhanced Enclosure + HPWH + High Efficiency HP/Electric Backup",
          "Enhanced Enclosure + High Efficiency Whole Home Electrification",
          "Heat Pump Clothes Dryer",
          "High Efficiency Heat Pump with Electric Heat Backup",
          "High Efficiency Whole Home Electrification"
         ],
         "yaxis": "y2"
        },
        {
         "marker": {
          "color": "red"
         },
         "orientation": "h",
         "showlegend": false,
         "text": [
          0,
          0,
          0,
          0,
          0.011764705882352941,
          0,
          0,
          0,
          0,
          0,
          0,
          0,
          0,
          0,
          0,
          0
         ],
         "textposition": "inside",
         "texttemplate": "%{text:.0%}",
         "type": "bar",
         "x": [
          0,
          0,
          0,
          0,
          0.011764705882352941,
          0,
          0,
          0,
          0,
          0,
          0,
          0,
          0,
          0,
          0,
          0
         ],
         "xaxis": "x3",
         "y": [
          "Electric Clothes Dryer",
          "Electric Cooking",
          "Induction Cooking",
          "Mininum Efficiency Whole Home Electrification",
          "Mininum Efficiency Heat Pump with Existing Heat Backup",
          "Heat Pump Water Heater",
          "Mininum Efficiency Heat Pump with Electric Heat Backup",
          "Basic Enclosure",
          "Basic Enclosure + HPWH + High Efficiency HP/Electric Backup",
          "Basic Enclosure + High Efficiency Whole Home Electrification",
          "Enhanced Enclosure",
          "Enhanced Enclosure + HPWH + High Efficiency HP/Electric Backup",
          "Enhanced Enclosure + High Efficiency Whole Home Electrification",
          "Heat Pump Clothes Dryer",
          "High Efficiency Heat Pump with Electric Heat Backup",
          "High Efficiency Whole Home Electrification"
         ],
         "yaxis": "y3"
        },
        {
         "marker": {
          "color": "green"
         },
         "orientation": "h",
         "showlegend": false,
         "text": [
          1,
          1,
          1,
          1,
          0.9882352941176471,
          1,
          1,
          1,
          1,
          1,
          1,
          1,
          1,
          1,
          1,
          1
         ],
         "textposition": "inside",
         "texttemplate": "%{text:.0%}",
         "type": "bar",
         "x": [
          1,
          1,
          1,
          1,
          0.9882352941176471,
          1,
          1,
          1,
          1,
          1,
          1,
          1,
          1,
          1,
          1,
          1
         ],
         "xaxis": "x3",
         "y": [
          "Electric Clothes Dryer",
          "Electric Cooking",
          "Induction Cooking",
          "Mininum Efficiency Whole Home Electrification",
          "Mininum Efficiency Heat Pump with Existing Heat Backup",
          "Heat Pump Water Heater",
          "Mininum Efficiency Heat Pump with Electric Heat Backup",
          "Basic Enclosure",
          "Basic Enclosure + HPWH + High Efficiency HP/Electric Backup",
          "Basic Enclosure + High Efficiency Whole Home Electrification",
          "Enhanced Enclosure",
          "Enhanced Enclosure + HPWH + High Efficiency HP/Electric Backup",
          "Enhanced Enclosure + High Efficiency Whole Home Electrification",
          "Heat Pump Clothes Dryer",
          "High Efficiency Heat Pump with Electric Heat Backup",
          "High Efficiency Whole Home Electrification"
         ],
         "yaxis": "y3"
        }
       ],
       "layout": {
        "autosize": false,
        "barmode": "relative",
        "font": {
         "size": 10
        },
        "height": 500,
        "template": {
         "data": {
          "bar": [
           {
            "error_x": {
             "color": "#2a3f5f"
            },
            "error_y": {
             "color": "#2a3f5f"
            },
            "marker": {
             "line": {
              "color": "#E5ECF6",
              "width": 0.5
             },
             "pattern": {
              "fillmode": "overlay",
              "size": 10,
              "solidity": 0.2
             }
            },
            "type": "bar"
           }
          ],
          "barpolar": [
           {
            "marker": {
             "line": {
              "color": "#E5ECF6",
              "width": 0.5
             },
             "pattern": {
              "fillmode": "overlay",
              "size": 10,
              "solidity": 0.2
             }
            },
            "type": "barpolar"
           }
          ],
          "carpet": [
           {
            "aaxis": {
             "endlinecolor": "#2a3f5f",
             "gridcolor": "white",
             "linecolor": "white",
             "minorgridcolor": "white",
             "startlinecolor": "#2a3f5f"
            },
            "baxis": {
             "endlinecolor": "#2a3f5f",
             "gridcolor": "white",
             "linecolor": "white",
             "minorgridcolor": "white",
             "startlinecolor": "#2a3f5f"
            },
            "type": "carpet"
           }
          ],
          "choropleth": [
           {
            "colorbar": {
             "outlinewidth": 0,
             "ticks": ""
            },
            "type": "choropleth"
           }
          ],
          "contour": [
           {
            "colorbar": {
             "outlinewidth": 0,
             "ticks": ""
            },
            "colorscale": [
             [
              0,
              "#0d0887"
             ],
             [
              0.1111111111111111,
              "#46039f"
             ],
             [
              0.2222222222222222,
              "#7201a8"
             ],
             [
              0.3333333333333333,
              "#9c179e"
             ],
             [
              0.4444444444444444,
              "#bd3786"
             ],
             [
              0.5555555555555556,
              "#d8576b"
             ],
             [
              0.6666666666666666,
              "#ed7953"
             ],
             [
              0.7777777777777778,
              "#fb9f3a"
             ],
             [
              0.8888888888888888,
              "#fdca26"
             ],
             [
              1,
              "#f0f921"
             ]
            ],
            "type": "contour"
           }
          ],
          "contourcarpet": [
           {
            "colorbar": {
             "outlinewidth": 0,
             "ticks": ""
            },
            "type": "contourcarpet"
           }
          ],
          "heatmap": [
           {
            "colorbar": {
             "outlinewidth": 0,
             "ticks": ""
            },
            "colorscale": [
             [
              0,
              "#0d0887"
             ],
             [
              0.1111111111111111,
              "#46039f"
             ],
             [
              0.2222222222222222,
              "#7201a8"
             ],
             [
              0.3333333333333333,
              "#9c179e"
             ],
             [
              0.4444444444444444,
              "#bd3786"
             ],
             [
              0.5555555555555556,
              "#d8576b"
             ],
             [
              0.6666666666666666,
              "#ed7953"
             ],
             [
              0.7777777777777778,
              "#fb9f3a"
             ],
             [
              0.8888888888888888,
              "#fdca26"
             ],
             [
              1,
              "#f0f921"
             ]
            ],
            "type": "heatmap"
           }
          ],
          "heatmapgl": [
           {
            "colorbar": {
             "outlinewidth": 0,
             "ticks": ""
            },
            "colorscale": [
             [
              0,
              "#0d0887"
             ],
             [
              0.1111111111111111,
              "#46039f"
             ],
             [
              0.2222222222222222,
              "#7201a8"
             ],
             [
              0.3333333333333333,
              "#9c179e"
             ],
             [
              0.4444444444444444,
              "#bd3786"
             ],
             [
              0.5555555555555556,
              "#d8576b"
             ],
             [
              0.6666666666666666,
              "#ed7953"
             ],
             [
              0.7777777777777778,
              "#fb9f3a"
             ],
             [
              0.8888888888888888,
              "#fdca26"
             ],
             [
              1,
              "#f0f921"
             ]
            ],
            "type": "heatmapgl"
           }
          ],
          "histogram": [
           {
            "marker": {
             "pattern": {
              "fillmode": "overlay",
              "size": 10,
              "solidity": 0.2
             }
            },
            "type": "histogram"
           }
          ],
          "histogram2d": [
           {
            "colorbar": {
             "outlinewidth": 0,
             "ticks": ""
            },
            "colorscale": [
             [
              0,
              "#0d0887"
             ],
             [
              0.1111111111111111,
              "#46039f"
             ],
             [
              0.2222222222222222,
              "#7201a8"
             ],
             [
              0.3333333333333333,
              "#9c179e"
             ],
             [
              0.4444444444444444,
              "#bd3786"
             ],
             [
              0.5555555555555556,
              "#d8576b"
             ],
             [
              0.6666666666666666,
              "#ed7953"
             ],
             [
              0.7777777777777778,
              "#fb9f3a"
             ],
             [
              0.8888888888888888,
              "#fdca26"
             ],
             [
              1,
              "#f0f921"
             ]
            ],
            "type": "histogram2d"
           }
          ],
          "histogram2dcontour": [
           {
            "colorbar": {
             "outlinewidth": 0,
             "ticks": ""
            },
            "colorscale": [
             [
              0,
              "#0d0887"
             ],
             [
              0.1111111111111111,
              "#46039f"
             ],
             [
              0.2222222222222222,
              "#7201a8"
             ],
             [
              0.3333333333333333,
              "#9c179e"
             ],
             [
              0.4444444444444444,
              "#bd3786"
             ],
             [
              0.5555555555555556,
              "#d8576b"
             ],
             [
              0.6666666666666666,
              "#ed7953"
             ],
             [
              0.7777777777777778,
              "#fb9f3a"
             ],
             [
              0.8888888888888888,
              "#fdca26"
             ],
             [
              1,
              "#f0f921"
             ]
            ],
            "type": "histogram2dcontour"
           }
          ],
          "mesh3d": [
           {
            "colorbar": {
             "outlinewidth": 0,
             "ticks": ""
            },
            "type": "mesh3d"
           }
          ],
          "parcoords": [
           {
            "line": {
             "colorbar": {
              "outlinewidth": 0,
              "ticks": ""
             }
            },
            "type": "parcoords"
           }
          ],
          "pie": [
           {
            "automargin": true,
            "type": "pie"
           }
          ],
          "scatter": [
           {
            "fillpattern": {
             "fillmode": "overlay",
             "size": 10,
             "solidity": 0.2
            },
            "type": "scatter"
           }
          ],
          "scatter3d": [
           {
            "line": {
             "colorbar": {
              "outlinewidth": 0,
              "ticks": ""
             }
            },
            "marker": {
             "colorbar": {
              "outlinewidth": 0,
              "ticks": ""
             }
            },
            "type": "scatter3d"
           }
          ],
          "scattercarpet": [
           {
            "marker": {
             "colorbar": {
              "outlinewidth": 0,
              "ticks": ""
             }
            },
            "type": "scattercarpet"
           }
          ],
          "scattergeo": [
           {
            "marker": {
             "colorbar": {
              "outlinewidth": 0,
              "ticks": ""
             }
            },
            "type": "scattergeo"
           }
          ],
          "scattergl": [
           {
            "marker": {
             "colorbar": {
              "outlinewidth": 0,
              "ticks": ""
             }
            },
            "type": "scattergl"
           }
          ],
          "scattermapbox": [
           {
            "marker": {
             "colorbar": {
              "outlinewidth": 0,
              "ticks": ""
             }
            },
            "type": "scattermapbox"
           }
          ],
          "scatterpolar": [
           {
            "marker": {
             "colorbar": {
              "outlinewidth": 0,
              "ticks": ""
             }
            },
            "type": "scatterpolar"
           }
          ],
          "scatterpolargl": [
           {
            "marker": {
             "colorbar": {
              "outlinewidth": 0,
              "ticks": ""
             }
            },
            "type": "scatterpolargl"
           }
          ],
          "scatterternary": [
           {
            "marker": {
             "colorbar": {
              "outlinewidth": 0,
              "ticks": ""
             }
            },
            "type": "scatterternary"
           }
          ],
          "surface": [
           {
            "colorbar": {
             "outlinewidth": 0,
             "ticks": ""
            },
            "colorscale": [
             [
              0,
              "#0d0887"
             ],
             [
              0.1111111111111111,
              "#46039f"
             ],
             [
              0.2222222222222222,
              "#7201a8"
             ],
             [
              0.3333333333333333,
              "#9c179e"
             ],
             [
              0.4444444444444444,
              "#bd3786"
             ],
             [
              0.5555555555555556,
              "#d8576b"
             ],
             [
              0.6666666666666666,
              "#ed7953"
             ],
             [
              0.7777777777777778,
              "#fb9f3a"
             ],
             [
              0.8888888888888888,
              "#fdca26"
             ],
             [
              1,
              "#f0f921"
             ]
            ],
            "type": "surface"
           }
          ],
          "table": [
           {
            "cells": {
             "fill": {
              "color": "#EBF0F8"
             },
             "line": {
              "color": "white"
             }
            },
            "header": {
             "fill": {
              "color": "#C8D4E3"
             },
             "line": {
              "color": "white"
             }
            },
            "type": "table"
           }
          ]
         },
         "layout": {
          "annotationdefaults": {
           "arrowcolor": "#2a3f5f",
           "arrowhead": 0,
           "arrowwidth": 1
          },
          "autotypenumbers": "strict",
          "coloraxis": {
           "colorbar": {
            "outlinewidth": 0,
            "ticks": ""
           }
          },
          "colorscale": {
           "diverging": [
            [
             0,
             "#8e0152"
            ],
            [
             0.1,
             "#c51b7d"
            ],
            [
             0.2,
             "#de77ae"
            ],
            [
             0.3,
             "#f1b6da"
            ],
            [
             0.4,
             "#fde0ef"
            ],
            [
             0.5,
             "#f7f7f7"
            ],
            [
             0.6,
             "#e6f5d0"
            ],
            [
             0.7,
             "#b8e186"
            ],
            [
             0.8,
             "#7fbc41"
            ],
            [
             0.9,
             "#4d9221"
            ],
            [
             1,
             "#276419"
            ]
           ],
           "sequential": [
            [
             0,
             "#0d0887"
            ],
            [
             0.1111111111111111,
             "#46039f"
            ],
            [
             0.2222222222222222,
             "#7201a8"
            ],
            [
             0.3333333333333333,
             "#9c179e"
            ],
            [
             0.4444444444444444,
             "#bd3786"
            ],
            [
             0.5555555555555556,
             "#d8576b"
            ],
            [
             0.6666666666666666,
             "#ed7953"
            ],
            [
             0.7777777777777778,
             "#fb9f3a"
            ],
            [
             0.8888888888888888,
             "#fdca26"
            ],
            [
             1,
             "#f0f921"
            ]
           ],
           "sequentialminus": [
            [
             0,
             "#0d0887"
            ],
            [
             0.1111111111111111,
             "#46039f"
            ],
            [
             0.2222222222222222,
             "#7201a8"
            ],
            [
             0.3333333333333333,
             "#9c179e"
            ],
            [
             0.4444444444444444,
             "#bd3786"
            ],
            [
             0.5555555555555556,
             "#d8576b"
            ],
            [
             0.6666666666666666,
             "#ed7953"
            ],
            [
             0.7777777777777778,
             "#fb9f3a"
            ],
            [
             0.8888888888888888,
             "#fdca26"
            ],
            [
             1,
             "#f0f921"
            ]
           ]
          },
          "colorway": [
           "#636efa",
           "#EF553B",
           "#00cc96",
           "#ab63fa",
           "#FFA15A",
           "#19d3f3",
           "#FF6692",
           "#B6E880",
           "#FF97FF",
           "#FECB52"
          ],
          "font": {
           "color": "#2a3f5f"
          },
          "geo": {
           "bgcolor": "white",
           "lakecolor": "white",
           "landcolor": "#E5ECF6",
           "showlakes": true,
           "showland": true,
           "subunitcolor": "white"
          },
          "hoverlabel": {
           "align": "left"
          },
          "hovermode": "closest",
          "mapbox": {
           "style": "light"
          },
          "paper_bgcolor": "white",
          "plot_bgcolor": "#E5ECF6",
          "polar": {
           "angularaxis": {
            "gridcolor": "white",
            "linecolor": "white",
            "ticks": ""
           },
           "bgcolor": "#E5ECF6",
           "radialaxis": {
            "gridcolor": "white",
            "linecolor": "white",
            "ticks": ""
           }
          },
          "scene": {
           "xaxis": {
            "backgroundcolor": "#E5ECF6",
            "gridcolor": "white",
            "gridwidth": 2,
            "linecolor": "white",
            "showbackground": true,
            "ticks": "",
            "zerolinecolor": "white"
           },
           "yaxis": {
            "backgroundcolor": "#E5ECF6",
            "gridcolor": "white",
            "gridwidth": 2,
            "linecolor": "white",
            "showbackground": true,
            "ticks": "",
            "zerolinecolor": "white"
           },
           "zaxis": {
            "backgroundcolor": "#E5ECF6",
            "gridcolor": "white",
            "gridwidth": 2,
            "linecolor": "white",
            "showbackground": true,
            "ticks": "",
            "zerolinecolor": "white"
           }
          },
          "shapedefaults": {
           "line": {
            "color": "#2a3f5f"
           }
          },
          "ternary": {
           "aaxis": {
            "gridcolor": "white",
            "linecolor": "white",
            "ticks": ""
           },
           "baxis": {
            "gridcolor": "white",
            "linecolor": "white",
            "ticks": ""
           },
           "bgcolor": "#E5ECF6",
           "caxis": {
            "gridcolor": "white",
            "linecolor": "white",
            "ticks": ""
           }
          },
          "title": {
           "x": 0.05
          },
          "xaxis": {
           "automargin": true,
           "gridcolor": "white",
           "linecolor": "white",
           "ticks": "",
           "title": {
            "standoff": 15
           },
           "zerolinecolor": "white",
           "zerolinewidth": 2
          },
          "yaxis": {
           "automargin": true,
           "gridcolor": "white",
           "linecolor": "white",
           "ticks": "",
           "title": {
            "standoff": 15
           },
           "zerolinecolor": "white",
           "zerolinewidth": 2
          }
         }
        },
        "title": {
         "text": "Percentage of Household in Positive and Negative Savings"
        },
        "width": 1000,
        "xaxis": {
         "anchor": "y",
         "domain": [
          0,
          0.2888888888888889
         ],
         "tickformat": ",.0%",
         "title": {
          "text": "Bill"
         },
         "visible": true
        },
        "xaxis2": {
         "anchor": "y2",
         "domain": [
          0.35555555555555557,
          0.6444444444444445
         ],
         "tickformat": ",.0%",
         "title": {
          "text": "Emission"
         },
         "visible": true
        },
        "xaxis3": {
         "anchor": "y3",
         "domain": [
          0.7111111111111111,
          1
         ],
         "tickformat": ",.0%",
         "title": {
          "text": "Total Energy"
         },
         "visible": true
        },
        "yaxis": {
         "anchor": "x",
         "domain": [
          0,
          1
         ],
         "visible": true
        },
        "yaxis2": {
         "anchor": "x2",
         "domain": [
          0,
          1
         ],
         "visible": false
        },
        "yaxis3": {
         "anchor": "x3",
         "domain": [
          0,
          1
         ],
         "visible": false
        }
       }
      }
     },
     "metadata": {},
     "output_type": "display_data"
    },
    {
     "name": "stderr",
     "output_type": "stream",
     "text": [
      "/var/folders/zw/lhnn73fj2250g9z11h_whq1szkf2pm/T/ipykernel_46519/868763001.py:3: PerformanceWarning:\n",
      "\n",
      "DataFrame is highly fragmented.  This is usually the result of calling `frame.insert` many times, which has poor performance.  Consider joining all columns at once using pd.concat(axis=1) instead. To get a de-fragmented frame, use `newframe = frame.copy()`\n",
      "\n",
      "/var/folders/zw/lhnn73fj2250g9z11h_whq1szkf2pm/T/ipykernel_46519/868763001.py:4: PerformanceWarning:\n",
      "\n",
      "DataFrame is highly fragmented.  This is usually the result of calling `frame.insert` many times, which has poor performance.  Consider joining all columns at once using pd.concat(axis=1) instead. To get a de-fragmented frame, use `newframe = frame.copy()`\n",
      "\n",
      "/var/folders/zw/lhnn73fj2250g9z11h_whq1szkf2pm/T/ipykernel_46519/868763001.py:5: PerformanceWarning:\n",
      "\n",
      "DataFrame is highly fragmented.  This is usually the result of calling `frame.insert` many times, which has poor performance.  Consider joining all columns at once using pd.concat(axis=1) instead. To get a de-fragmented frame, use `newframe = frame.copy()`\n",
      "\n"
     ]
    }
   ],
   "source": [
    "segment = 'segment1'\n",
    "results = figure_positive_negative_savings(segment, community_results) \n",
    "saving_results[f'segment1_{income}_pct_bill_positive_savings_%'] = results[0]*100\n",
    "saving_results[f'segment1_{income}_pct_emission_positive_savings_%'] = results[1]*100\n",
    "saving_results[f'segment1_{income}_pct_energy_positive_savings_%'] = results[2]*100"
   ]
  },
  {
   "cell_type": "markdown",
   "id": "8494ec4f",
   "metadata": {},
   "source": [
    "### Segment 2"
   ]
  },
  {
   "cell_type": "code",
   "execution_count": 50,
   "id": "e2c5e7d1",
   "metadata": {},
   "outputs": [
    {
     "data": {
      "application/vnd.plotly.v1+json": {
       "config": {
        "plotlyServerURL": "https://plot.ly"
       },
       "data": [
        {
         "marker": {
          "color": "red"
         },
         "name": "Negative",
         "orientation": "h",
         "text": [
          1,
          0.4166666666666667,
          0.4,
          0.06666666666666667,
          0.0410958904109589,
          0.039473684210526314,
          0,
          0,
          0,
          0,
          0,
          0,
          0,
          0,
          0,
          0
         ],
         "textposition": "inside",
         "texttemplate": "%{text:.0%}",
         "type": "bar",
         "x": [
          1,
          0.4166666666666667,
          0.4,
          0.06666666666666667,
          0.0410958904109589,
          0.039473684210526314,
          0,
          0,
          0,
          0,
          0,
          0,
          0,
          0,
          0,
          0
         ],
         "xaxis": "x",
         "y": [
          "Electric Clothes Dryer",
          "Electric Cooking",
          "Mininum Efficiency Whole Home Electrification",
          "Induction Cooking",
          "Mininum Efficiency Heat Pump with Existing Heat Backup",
          "Mininum Efficiency Heat Pump with Electric Heat Backup",
          "Basic Enclosure",
          "Basic Enclosure + HPWH + High Efficiency HP/Electric Backup",
          "Basic Enclosure + High Efficiency Whole Home Electrification",
          "Enhanced Enclosure",
          "Enhanced Enclosure + HPWH + High Efficiency HP/Electric Backup",
          "Enhanced Enclosure + High Efficiency Whole Home Electrification",
          "Heat Pump Clothes Dryer",
          "Heat Pump Water Heater",
          "High Efficiency Heat Pump with Electric Heat Backup",
          "High Efficiency Whole Home Electrification"
         ],
         "yaxis": "y"
        },
        {
         "marker": {
          "color": "green"
         },
         "name": "Positive",
         "orientation": "h",
         "text": [
          0,
          0.5833333333333334,
          0.6,
          0.9333333333333333,
          0.958904109589041,
          0.9605263157894737,
          1,
          1,
          1,
          1,
          1,
          1,
          1,
          1,
          1,
          1
         ],
         "textposition": "inside",
         "texttemplate": "%{text:.0%}",
         "type": "bar",
         "x": [
          0,
          0.5833333333333334,
          0.6,
          0.9333333333333333,
          0.958904109589041,
          0.9605263157894737,
          1,
          1,
          1,
          1,
          1,
          1,
          1,
          1,
          1,
          1
         ],
         "xaxis": "x",
         "y": [
          "Electric Clothes Dryer",
          "Electric Cooking",
          "Mininum Efficiency Whole Home Electrification",
          "Induction Cooking",
          "Mininum Efficiency Heat Pump with Existing Heat Backup",
          "Mininum Efficiency Heat Pump with Electric Heat Backup",
          "Basic Enclosure",
          "Basic Enclosure + HPWH + High Efficiency HP/Electric Backup",
          "Basic Enclosure + High Efficiency Whole Home Electrification",
          "Enhanced Enclosure",
          "Enhanced Enclosure + HPWH + High Efficiency HP/Electric Backup",
          "Enhanced Enclosure + High Efficiency Whole Home Electrification",
          "Heat Pump Clothes Dryer",
          "Heat Pump Water Heater",
          "High Efficiency Heat Pump with Electric Heat Backup",
          "High Efficiency Whole Home Electrification"
         ],
         "yaxis": "y"
        },
        {
         "marker": {
          "color": "red"
         },
         "orientation": "h",
         "showlegend": false,
         "text": [
          0,
          0,
          0,
          0,
          0.0273972602739726,
          0.02631578947368421,
          0,
          0,
          0,
          0,
          0,
          0,
          0,
          0,
          0,
          0
         ],
         "textposition": "inside",
         "texttemplate": "%{text:.0%}",
         "type": "bar",
         "x": [
          0,
          0,
          0,
          0,
          0.0273972602739726,
          0.02631578947368421,
          0,
          0,
          0,
          0,
          0,
          0,
          0,
          0,
          0,
          0
         ],
         "xaxis": "x2",
         "y": [
          "Electric Clothes Dryer",
          "Electric Cooking",
          "Mininum Efficiency Whole Home Electrification",
          "Induction Cooking",
          "Mininum Efficiency Heat Pump with Existing Heat Backup",
          "Mininum Efficiency Heat Pump with Electric Heat Backup",
          "Basic Enclosure",
          "Basic Enclosure + HPWH + High Efficiency HP/Electric Backup",
          "Basic Enclosure + High Efficiency Whole Home Electrification",
          "Enhanced Enclosure",
          "Enhanced Enclosure + HPWH + High Efficiency HP/Electric Backup",
          "Enhanced Enclosure + High Efficiency Whole Home Electrification",
          "Heat Pump Clothes Dryer",
          "Heat Pump Water Heater",
          "High Efficiency Heat Pump with Electric Heat Backup",
          "High Efficiency Whole Home Electrification"
         ],
         "yaxis": "y2"
        },
        {
         "marker": {
          "color": "green"
         },
         "orientation": "h",
         "showlegend": false,
         "text": [
          1,
          1,
          1,
          1,
          0.9726027397260274,
          0.9736842105263158,
          1,
          1,
          1,
          1,
          1,
          1,
          1,
          1,
          1,
          1
         ],
         "textposition": "inside",
         "texttemplate": "%{text:.0%}",
         "type": "bar",
         "x": [
          1,
          1,
          1,
          1,
          0.9726027397260274,
          0.9736842105263158,
          1,
          1,
          1,
          1,
          1,
          1,
          1,
          1,
          1,
          1
         ],
         "xaxis": "x2",
         "y": [
          "Electric Clothes Dryer",
          "Electric Cooking",
          "Mininum Efficiency Whole Home Electrification",
          "Induction Cooking",
          "Mininum Efficiency Heat Pump with Existing Heat Backup",
          "Mininum Efficiency Heat Pump with Electric Heat Backup",
          "Basic Enclosure",
          "Basic Enclosure + HPWH + High Efficiency HP/Electric Backup",
          "Basic Enclosure + High Efficiency Whole Home Electrification",
          "Enhanced Enclosure",
          "Enhanced Enclosure + HPWH + High Efficiency HP/Electric Backup",
          "Enhanced Enclosure + High Efficiency Whole Home Electrification",
          "Heat Pump Clothes Dryer",
          "Heat Pump Water Heater",
          "High Efficiency Heat Pump with Electric Heat Backup",
          "High Efficiency Whole Home Electrification"
         ],
         "yaxis": "y2"
        },
        {
         "marker": {
          "color": "red"
         },
         "orientation": "h",
         "showlegend": false,
         "text": [
          0,
          0,
          0,
          0,
          0.0410958904109589,
          0.039473684210526314,
          0,
          0,
          0,
          0,
          0,
          0,
          0,
          0,
          0,
          0
         ],
         "textposition": "inside",
         "texttemplate": "%{text:.0%}",
         "type": "bar",
         "x": [
          0,
          0,
          0,
          0,
          0.0410958904109589,
          0.039473684210526314,
          0,
          0,
          0,
          0,
          0,
          0,
          0,
          0,
          0,
          0
         ],
         "xaxis": "x3",
         "y": [
          "Electric Clothes Dryer",
          "Electric Cooking",
          "Mininum Efficiency Whole Home Electrification",
          "Induction Cooking",
          "Mininum Efficiency Heat Pump with Existing Heat Backup",
          "Mininum Efficiency Heat Pump with Electric Heat Backup",
          "Basic Enclosure",
          "Basic Enclosure + HPWH + High Efficiency HP/Electric Backup",
          "Basic Enclosure + High Efficiency Whole Home Electrification",
          "Enhanced Enclosure",
          "Enhanced Enclosure + HPWH + High Efficiency HP/Electric Backup",
          "Enhanced Enclosure + High Efficiency Whole Home Electrification",
          "Heat Pump Clothes Dryer",
          "Heat Pump Water Heater",
          "High Efficiency Heat Pump with Electric Heat Backup",
          "High Efficiency Whole Home Electrification"
         ],
         "yaxis": "y3"
        },
        {
         "marker": {
          "color": "green"
         },
         "orientation": "h",
         "showlegend": false,
         "text": [
          1,
          1,
          1,
          1,
          0.958904109589041,
          0.9605263157894737,
          1,
          1,
          1,
          1,
          1,
          1,
          1,
          1,
          1,
          1
         ],
         "textposition": "inside",
         "texttemplate": "%{text:.0%}",
         "type": "bar",
         "x": [
          1,
          1,
          1,
          1,
          0.958904109589041,
          0.9605263157894737,
          1,
          1,
          1,
          1,
          1,
          1,
          1,
          1,
          1,
          1
         ],
         "xaxis": "x3",
         "y": [
          "Electric Clothes Dryer",
          "Electric Cooking",
          "Mininum Efficiency Whole Home Electrification",
          "Induction Cooking",
          "Mininum Efficiency Heat Pump with Existing Heat Backup",
          "Mininum Efficiency Heat Pump with Electric Heat Backup",
          "Basic Enclosure",
          "Basic Enclosure + HPWH + High Efficiency HP/Electric Backup",
          "Basic Enclosure + High Efficiency Whole Home Electrification",
          "Enhanced Enclosure",
          "Enhanced Enclosure + HPWH + High Efficiency HP/Electric Backup",
          "Enhanced Enclosure + High Efficiency Whole Home Electrification",
          "Heat Pump Clothes Dryer",
          "Heat Pump Water Heater",
          "High Efficiency Heat Pump with Electric Heat Backup",
          "High Efficiency Whole Home Electrification"
         ],
         "yaxis": "y3"
        }
       ],
       "layout": {
        "autosize": false,
        "barmode": "relative",
        "font": {
         "size": 10
        },
        "height": 500,
        "template": {
         "data": {
          "bar": [
           {
            "error_x": {
             "color": "#2a3f5f"
            },
            "error_y": {
             "color": "#2a3f5f"
            },
            "marker": {
             "line": {
              "color": "#E5ECF6",
              "width": 0.5
             },
             "pattern": {
              "fillmode": "overlay",
              "size": 10,
              "solidity": 0.2
             }
            },
            "type": "bar"
           }
          ],
          "barpolar": [
           {
            "marker": {
             "line": {
              "color": "#E5ECF6",
              "width": 0.5
             },
             "pattern": {
              "fillmode": "overlay",
              "size": 10,
              "solidity": 0.2
             }
            },
            "type": "barpolar"
           }
          ],
          "carpet": [
           {
            "aaxis": {
             "endlinecolor": "#2a3f5f",
             "gridcolor": "white",
             "linecolor": "white",
             "minorgridcolor": "white",
             "startlinecolor": "#2a3f5f"
            },
            "baxis": {
             "endlinecolor": "#2a3f5f",
             "gridcolor": "white",
             "linecolor": "white",
             "minorgridcolor": "white",
             "startlinecolor": "#2a3f5f"
            },
            "type": "carpet"
           }
          ],
          "choropleth": [
           {
            "colorbar": {
             "outlinewidth": 0,
             "ticks": ""
            },
            "type": "choropleth"
           }
          ],
          "contour": [
           {
            "colorbar": {
             "outlinewidth": 0,
             "ticks": ""
            },
            "colorscale": [
             [
              0,
              "#0d0887"
             ],
             [
              0.1111111111111111,
              "#46039f"
             ],
             [
              0.2222222222222222,
              "#7201a8"
             ],
             [
              0.3333333333333333,
              "#9c179e"
             ],
             [
              0.4444444444444444,
              "#bd3786"
             ],
             [
              0.5555555555555556,
              "#d8576b"
             ],
             [
              0.6666666666666666,
              "#ed7953"
             ],
             [
              0.7777777777777778,
              "#fb9f3a"
             ],
             [
              0.8888888888888888,
              "#fdca26"
             ],
             [
              1,
              "#f0f921"
             ]
            ],
            "type": "contour"
           }
          ],
          "contourcarpet": [
           {
            "colorbar": {
             "outlinewidth": 0,
             "ticks": ""
            },
            "type": "contourcarpet"
           }
          ],
          "heatmap": [
           {
            "colorbar": {
             "outlinewidth": 0,
             "ticks": ""
            },
            "colorscale": [
             [
              0,
              "#0d0887"
             ],
             [
              0.1111111111111111,
              "#46039f"
             ],
             [
              0.2222222222222222,
              "#7201a8"
             ],
             [
              0.3333333333333333,
              "#9c179e"
             ],
             [
              0.4444444444444444,
              "#bd3786"
             ],
             [
              0.5555555555555556,
              "#d8576b"
             ],
             [
              0.6666666666666666,
              "#ed7953"
             ],
             [
              0.7777777777777778,
              "#fb9f3a"
             ],
             [
              0.8888888888888888,
              "#fdca26"
             ],
             [
              1,
              "#f0f921"
             ]
            ],
            "type": "heatmap"
           }
          ],
          "heatmapgl": [
           {
            "colorbar": {
             "outlinewidth": 0,
             "ticks": ""
            },
            "colorscale": [
             [
              0,
              "#0d0887"
             ],
             [
              0.1111111111111111,
              "#46039f"
             ],
             [
              0.2222222222222222,
              "#7201a8"
             ],
             [
              0.3333333333333333,
              "#9c179e"
             ],
             [
              0.4444444444444444,
              "#bd3786"
             ],
             [
              0.5555555555555556,
              "#d8576b"
             ],
             [
              0.6666666666666666,
              "#ed7953"
             ],
             [
              0.7777777777777778,
              "#fb9f3a"
             ],
             [
              0.8888888888888888,
              "#fdca26"
             ],
             [
              1,
              "#f0f921"
             ]
            ],
            "type": "heatmapgl"
           }
          ],
          "histogram": [
           {
            "marker": {
             "pattern": {
              "fillmode": "overlay",
              "size": 10,
              "solidity": 0.2
             }
            },
            "type": "histogram"
           }
          ],
          "histogram2d": [
           {
            "colorbar": {
             "outlinewidth": 0,
             "ticks": ""
            },
            "colorscale": [
             [
              0,
              "#0d0887"
             ],
             [
              0.1111111111111111,
              "#46039f"
             ],
             [
              0.2222222222222222,
              "#7201a8"
             ],
             [
              0.3333333333333333,
              "#9c179e"
             ],
             [
              0.4444444444444444,
              "#bd3786"
             ],
             [
              0.5555555555555556,
              "#d8576b"
             ],
             [
              0.6666666666666666,
              "#ed7953"
             ],
             [
              0.7777777777777778,
              "#fb9f3a"
             ],
             [
              0.8888888888888888,
              "#fdca26"
             ],
             [
              1,
              "#f0f921"
             ]
            ],
            "type": "histogram2d"
           }
          ],
          "histogram2dcontour": [
           {
            "colorbar": {
             "outlinewidth": 0,
             "ticks": ""
            },
            "colorscale": [
             [
              0,
              "#0d0887"
             ],
             [
              0.1111111111111111,
              "#46039f"
             ],
             [
              0.2222222222222222,
              "#7201a8"
             ],
             [
              0.3333333333333333,
              "#9c179e"
             ],
             [
              0.4444444444444444,
              "#bd3786"
             ],
             [
              0.5555555555555556,
              "#d8576b"
             ],
             [
              0.6666666666666666,
              "#ed7953"
             ],
             [
              0.7777777777777778,
              "#fb9f3a"
             ],
             [
              0.8888888888888888,
              "#fdca26"
             ],
             [
              1,
              "#f0f921"
             ]
            ],
            "type": "histogram2dcontour"
           }
          ],
          "mesh3d": [
           {
            "colorbar": {
             "outlinewidth": 0,
             "ticks": ""
            },
            "type": "mesh3d"
           }
          ],
          "parcoords": [
           {
            "line": {
             "colorbar": {
              "outlinewidth": 0,
              "ticks": ""
             }
            },
            "type": "parcoords"
           }
          ],
          "pie": [
           {
            "automargin": true,
            "type": "pie"
           }
          ],
          "scatter": [
           {
            "fillpattern": {
             "fillmode": "overlay",
             "size": 10,
             "solidity": 0.2
            },
            "type": "scatter"
           }
          ],
          "scatter3d": [
           {
            "line": {
             "colorbar": {
              "outlinewidth": 0,
              "ticks": ""
             }
            },
            "marker": {
             "colorbar": {
              "outlinewidth": 0,
              "ticks": ""
             }
            },
            "type": "scatter3d"
           }
          ],
          "scattercarpet": [
           {
            "marker": {
             "colorbar": {
              "outlinewidth": 0,
              "ticks": ""
             }
            },
            "type": "scattercarpet"
           }
          ],
          "scattergeo": [
           {
            "marker": {
             "colorbar": {
              "outlinewidth": 0,
              "ticks": ""
             }
            },
            "type": "scattergeo"
           }
          ],
          "scattergl": [
           {
            "marker": {
             "colorbar": {
              "outlinewidth": 0,
              "ticks": ""
             }
            },
            "type": "scattergl"
           }
          ],
          "scattermapbox": [
           {
            "marker": {
             "colorbar": {
              "outlinewidth": 0,
              "ticks": ""
             }
            },
            "type": "scattermapbox"
           }
          ],
          "scatterpolar": [
           {
            "marker": {
             "colorbar": {
              "outlinewidth": 0,
              "ticks": ""
             }
            },
            "type": "scatterpolar"
           }
          ],
          "scatterpolargl": [
           {
            "marker": {
             "colorbar": {
              "outlinewidth": 0,
              "ticks": ""
             }
            },
            "type": "scatterpolargl"
           }
          ],
          "scatterternary": [
           {
            "marker": {
             "colorbar": {
              "outlinewidth": 0,
              "ticks": ""
             }
            },
            "type": "scatterternary"
           }
          ],
          "surface": [
           {
            "colorbar": {
             "outlinewidth": 0,
             "ticks": ""
            },
            "colorscale": [
             [
              0,
              "#0d0887"
             ],
             [
              0.1111111111111111,
              "#46039f"
             ],
             [
              0.2222222222222222,
              "#7201a8"
             ],
             [
              0.3333333333333333,
              "#9c179e"
             ],
             [
              0.4444444444444444,
              "#bd3786"
             ],
             [
              0.5555555555555556,
              "#d8576b"
             ],
             [
              0.6666666666666666,
              "#ed7953"
             ],
             [
              0.7777777777777778,
              "#fb9f3a"
             ],
             [
              0.8888888888888888,
              "#fdca26"
             ],
             [
              1,
              "#f0f921"
             ]
            ],
            "type": "surface"
           }
          ],
          "table": [
           {
            "cells": {
             "fill": {
              "color": "#EBF0F8"
             },
             "line": {
              "color": "white"
             }
            },
            "header": {
             "fill": {
              "color": "#C8D4E3"
             },
             "line": {
              "color": "white"
             }
            },
            "type": "table"
           }
          ]
         },
         "layout": {
          "annotationdefaults": {
           "arrowcolor": "#2a3f5f",
           "arrowhead": 0,
           "arrowwidth": 1
          },
          "autotypenumbers": "strict",
          "coloraxis": {
           "colorbar": {
            "outlinewidth": 0,
            "ticks": ""
           }
          },
          "colorscale": {
           "diverging": [
            [
             0,
             "#8e0152"
            ],
            [
             0.1,
             "#c51b7d"
            ],
            [
             0.2,
             "#de77ae"
            ],
            [
             0.3,
             "#f1b6da"
            ],
            [
             0.4,
             "#fde0ef"
            ],
            [
             0.5,
             "#f7f7f7"
            ],
            [
             0.6,
             "#e6f5d0"
            ],
            [
             0.7,
             "#b8e186"
            ],
            [
             0.8,
             "#7fbc41"
            ],
            [
             0.9,
             "#4d9221"
            ],
            [
             1,
             "#276419"
            ]
           ],
           "sequential": [
            [
             0,
             "#0d0887"
            ],
            [
             0.1111111111111111,
             "#46039f"
            ],
            [
             0.2222222222222222,
             "#7201a8"
            ],
            [
             0.3333333333333333,
             "#9c179e"
            ],
            [
             0.4444444444444444,
             "#bd3786"
            ],
            [
             0.5555555555555556,
             "#d8576b"
            ],
            [
             0.6666666666666666,
             "#ed7953"
            ],
            [
             0.7777777777777778,
             "#fb9f3a"
            ],
            [
             0.8888888888888888,
             "#fdca26"
            ],
            [
             1,
             "#f0f921"
            ]
           ],
           "sequentialminus": [
            [
             0,
             "#0d0887"
            ],
            [
             0.1111111111111111,
             "#46039f"
            ],
            [
             0.2222222222222222,
             "#7201a8"
            ],
            [
             0.3333333333333333,
             "#9c179e"
            ],
            [
             0.4444444444444444,
             "#bd3786"
            ],
            [
             0.5555555555555556,
             "#d8576b"
            ],
            [
             0.6666666666666666,
             "#ed7953"
            ],
            [
             0.7777777777777778,
             "#fb9f3a"
            ],
            [
             0.8888888888888888,
             "#fdca26"
            ],
            [
             1,
             "#f0f921"
            ]
           ]
          },
          "colorway": [
           "#636efa",
           "#EF553B",
           "#00cc96",
           "#ab63fa",
           "#FFA15A",
           "#19d3f3",
           "#FF6692",
           "#B6E880",
           "#FF97FF",
           "#FECB52"
          ],
          "font": {
           "color": "#2a3f5f"
          },
          "geo": {
           "bgcolor": "white",
           "lakecolor": "white",
           "landcolor": "#E5ECF6",
           "showlakes": true,
           "showland": true,
           "subunitcolor": "white"
          },
          "hoverlabel": {
           "align": "left"
          },
          "hovermode": "closest",
          "mapbox": {
           "style": "light"
          },
          "paper_bgcolor": "white",
          "plot_bgcolor": "#E5ECF6",
          "polar": {
           "angularaxis": {
            "gridcolor": "white",
            "linecolor": "white",
            "ticks": ""
           },
           "bgcolor": "#E5ECF6",
           "radialaxis": {
            "gridcolor": "white",
            "linecolor": "white",
            "ticks": ""
           }
          },
          "scene": {
           "xaxis": {
            "backgroundcolor": "#E5ECF6",
            "gridcolor": "white",
            "gridwidth": 2,
            "linecolor": "white",
            "showbackground": true,
            "ticks": "",
            "zerolinecolor": "white"
           },
           "yaxis": {
            "backgroundcolor": "#E5ECF6",
            "gridcolor": "white",
            "gridwidth": 2,
            "linecolor": "white",
            "showbackground": true,
            "ticks": "",
            "zerolinecolor": "white"
           },
           "zaxis": {
            "backgroundcolor": "#E5ECF6",
            "gridcolor": "white",
            "gridwidth": 2,
            "linecolor": "white",
            "showbackground": true,
            "ticks": "",
            "zerolinecolor": "white"
           }
          },
          "shapedefaults": {
           "line": {
            "color": "#2a3f5f"
           }
          },
          "ternary": {
           "aaxis": {
            "gridcolor": "white",
            "linecolor": "white",
            "ticks": ""
           },
           "baxis": {
            "gridcolor": "white",
            "linecolor": "white",
            "ticks": ""
           },
           "bgcolor": "#E5ECF6",
           "caxis": {
            "gridcolor": "white",
            "linecolor": "white",
            "ticks": ""
           }
          },
          "title": {
           "x": 0.05
          },
          "xaxis": {
           "automargin": true,
           "gridcolor": "white",
           "linecolor": "white",
           "ticks": "",
           "title": {
            "standoff": 15
           },
           "zerolinecolor": "white",
           "zerolinewidth": 2
          },
          "yaxis": {
           "automargin": true,
           "gridcolor": "white",
           "linecolor": "white",
           "ticks": "",
           "title": {
            "standoff": 15
           },
           "zerolinecolor": "white",
           "zerolinewidth": 2
          }
         }
        },
        "title": {
         "text": "Percentage of Household in Positive and Negative Savings"
        },
        "width": 1000,
        "xaxis": {
         "anchor": "y",
         "domain": [
          0,
          0.2888888888888889
         ],
         "tickformat": ",.0%",
         "title": {
          "text": "Bill"
         },
         "visible": true
        },
        "xaxis2": {
         "anchor": "y2",
         "domain": [
          0.35555555555555557,
          0.6444444444444445
         ],
         "tickformat": ",.0%",
         "title": {
          "text": "Emission"
         },
         "visible": true
        },
        "xaxis3": {
         "anchor": "y3",
         "domain": [
          0.7111111111111111,
          1
         ],
         "tickformat": ",.0%",
         "title": {
          "text": "Total Energy"
         },
         "visible": true
        },
        "yaxis": {
         "anchor": "x",
         "domain": [
          0,
          1
         ],
         "visible": true
        },
        "yaxis2": {
         "anchor": "x2",
         "domain": [
          0,
          1
         ],
         "visible": false
        },
        "yaxis3": {
         "anchor": "x3",
         "domain": [
          0,
          1
         ],
         "visible": false
        }
       }
      }
     },
     "metadata": {},
     "output_type": "display_data"
    },
    {
     "name": "stderr",
     "output_type": "stream",
     "text": [
      "/var/folders/zw/lhnn73fj2250g9z11h_whq1szkf2pm/T/ipykernel_46519/3209730133.py:3: PerformanceWarning:\n",
      "\n",
      "DataFrame is highly fragmented.  This is usually the result of calling `frame.insert` many times, which has poor performance.  Consider joining all columns at once using pd.concat(axis=1) instead. To get a de-fragmented frame, use `newframe = frame.copy()`\n",
      "\n",
      "/var/folders/zw/lhnn73fj2250g9z11h_whq1szkf2pm/T/ipykernel_46519/3209730133.py:4: PerformanceWarning:\n",
      "\n",
      "DataFrame is highly fragmented.  This is usually the result of calling `frame.insert` many times, which has poor performance.  Consider joining all columns at once using pd.concat(axis=1) instead. To get a de-fragmented frame, use `newframe = frame.copy()`\n",
      "\n",
      "/var/folders/zw/lhnn73fj2250g9z11h_whq1szkf2pm/T/ipykernel_46519/3209730133.py:5: PerformanceWarning:\n",
      "\n",
      "DataFrame is highly fragmented.  This is usually the result of calling `frame.insert` many times, which has poor performance.  Consider joining all columns at once using pd.concat(axis=1) instead. To get a de-fragmented frame, use `newframe = frame.copy()`\n",
      "\n"
     ]
    }
   ],
   "source": [
    "segment = 'segment2'\n",
    "results = figure_positive_negative_savings(segment, community_results)\n",
    "saving_results[f'segment2_{income}_pct_bill_positive_savings_%'] = results[0]*100\n",
    "saving_results[f'segment2_{income}_pct_emission_positive_savings_%'] = results[1]*100\n",
    "saving_results[f'segment2_{income}_pct_energy_positive_savings_%'] = results[2]*100"
   ]
  },
  {
   "cell_type": "markdown",
   "id": "5902d860",
   "metadata": {},
   "source": [
    "### Segment 3"
   ]
  },
  {
   "cell_type": "code",
   "execution_count": 51,
   "id": "bd3a4fc0",
   "metadata": {},
   "outputs": [
    {
     "data": {
      "application/vnd.plotly.v1+json": {
       "config": {
        "plotlyServerURL": "https://plot.ly"
       },
       "data": [
        {
         "marker": {
          "color": "red"
         },
         "name": "Negative",
         "orientation": "h",
         "text": [
          1,
          0.4166666666666667,
          0.4,
          0.06666666666666667,
          0.0410958904109589,
          0.039473684210526314,
          0,
          0,
          0,
          0,
          0,
          0,
          0,
          0,
          0,
          0
         ],
         "textposition": "inside",
         "texttemplate": "%{text:.0%}",
         "type": "bar",
         "x": [
          1,
          0.4166666666666667,
          0.4,
          0.06666666666666667,
          0.0410958904109589,
          0.039473684210526314,
          0,
          0,
          0,
          0,
          0,
          0,
          0,
          0,
          0,
          0
         ],
         "xaxis": "x",
         "y": [
          "Electric Clothes Dryer",
          "Electric Cooking",
          "Mininum Efficiency Whole Home Electrification",
          "Induction Cooking",
          "Mininum Efficiency Heat Pump with Existing Heat Backup",
          "Mininum Efficiency Heat Pump with Electric Heat Backup",
          "Basic Enclosure",
          "Basic Enclosure + HPWH + High Efficiency HP/Electric Backup",
          "Basic Enclosure + High Efficiency Whole Home Electrification",
          "Enhanced Enclosure",
          "Enhanced Enclosure + HPWH + High Efficiency HP/Electric Backup",
          "Enhanced Enclosure + High Efficiency Whole Home Electrification",
          "Heat Pump Clothes Dryer",
          "Heat Pump Water Heater",
          "High Efficiency Heat Pump with Electric Heat Backup",
          "High Efficiency Whole Home Electrification"
         ],
         "yaxis": "y"
        },
        {
         "marker": {
          "color": "green"
         },
         "name": "Positive",
         "orientation": "h",
         "text": [
          0,
          0.5833333333333334,
          0.6,
          0.9333333333333333,
          0.958904109589041,
          0.9605263157894737,
          1,
          1,
          1,
          1,
          1,
          1,
          1,
          1,
          1,
          1
         ],
         "textposition": "inside",
         "texttemplate": "%{text:.0%}",
         "type": "bar",
         "x": [
          0,
          0.5833333333333334,
          0.6,
          0.9333333333333333,
          0.958904109589041,
          0.9605263157894737,
          1,
          1,
          1,
          1,
          1,
          1,
          1,
          1,
          1,
          1
         ],
         "xaxis": "x",
         "y": [
          "Electric Clothes Dryer",
          "Electric Cooking",
          "Mininum Efficiency Whole Home Electrification",
          "Induction Cooking",
          "Mininum Efficiency Heat Pump with Existing Heat Backup",
          "Mininum Efficiency Heat Pump with Electric Heat Backup",
          "Basic Enclosure",
          "Basic Enclosure + HPWH + High Efficiency HP/Electric Backup",
          "Basic Enclosure + High Efficiency Whole Home Electrification",
          "Enhanced Enclosure",
          "Enhanced Enclosure + HPWH + High Efficiency HP/Electric Backup",
          "Enhanced Enclosure + High Efficiency Whole Home Electrification",
          "Heat Pump Clothes Dryer",
          "Heat Pump Water Heater",
          "High Efficiency Heat Pump with Electric Heat Backup",
          "High Efficiency Whole Home Electrification"
         ],
         "yaxis": "y"
        },
        {
         "marker": {
          "color": "red"
         },
         "orientation": "h",
         "showlegend": false,
         "text": [
          0,
          0,
          0,
          0,
          0.0273972602739726,
          0.02631578947368421,
          0,
          0,
          0,
          0,
          0,
          0,
          0,
          0,
          0,
          0
         ],
         "textposition": "inside",
         "texttemplate": "%{text:.0%}",
         "type": "bar",
         "x": [
          0,
          0,
          0,
          0,
          0.0273972602739726,
          0.02631578947368421,
          0,
          0,
          0,
          0,
          0,
          0,
          0,
          0,
          0,
          0
         ],
         "xaxis": "x2",
         "y": [
          "Electric Clothes Dryer",
          "Electric Cooking",
          "Mininum Efficiency Whole Home Electrification",
          "Induction Cooking",
          "Mininum Efficiency Heat Pump with Existing Heat Backup",
          "Mininum Efficiency Heat Pump with Electric Heat Backup",
          "Basic Enclosure",
          "Basic Enclosure + HPWH + High Efficiency HP/Electric Backup",
          "Basic Enclosure + High Efficiency Whole Home Electrification",
          "Enhanced Enclosure",
          "Enhanced Enclosure + HPWH + High Efficiency HP/Electric Backup",
          "Enhanced Enclosure + High Efficiency Whole Home Electrification",
          "Heat Pump Clothes Dryer",
          "Heat Pump Water Heater",
          "High Efficiency Heat Pump with Electric Heat Backup",
          "High Efficiency Whole Home Electrification"
         ],
         "yaxis": "y2"
        },
        {
         "marker": {
          "color": "green"
         },
         "orientation": "h",
         "showlegend": false,
         "text": [
          1,
          1,
          1,
          1,
          0.9726027397260274,
          0.9736842105263158,
          1,
          1,
          1,
          1,
          1,
          1,
          1,
          1,
          1,
          1
         ],
         "textposition": "inside",
         "texttemplate": "%{text:.0%}",
         "type": "bar",
         "x": [
          1,
          1,
          1,
          1,
          0.9726027397260274,
          0.9736842105263158,
          1,
          1,
          1,
          1,
          1,
          1,
          1,
          1,
          1,
          1
         ],
         "xaxis": "x2",
         "y": [
          "Electric Clothes Dryer",
          "Electric Cooking",
          "Mininum Efficiency Whole Home Electrification",
          "Induction Cooking",
          "Mininum Efficiency Heat Pump with Existing Heat Backup",
          "Mininum Efficiency Heat Pump with Electric Heat Backup",
          "Basic Enclosure",
          "Basic Enclosure + HPWH + High Efficiency HP/Electric Backup",
          "Basic Enclosure + High Efficiency Whole Home Electrification",
          "Enhanced Enclosure",
          "Enhanced Enclosure + HPWH + High Efficiency HP/Electric Backup",
          "Enhanced Enclosure + High Efficiency Whole Home Electrification",
          "Heat Pump Clothes Dryer",
          "Heat Pump Water Heater",
          "High Efficiency Heat Pump with Electric Heat Backup",
          "High Efficiency Whole Home Electrification"
         ],
         "yaxis": "y2"
        },
        {
         "marker": {
          "color": "red"
         },
         "orientation": "h",
         "showlegend": false,
         "text": [
          0,
          0,
          0,
          0,
          0.0410958904109589,
          0.039473684210526314,
          0,
          0,
          0,
          0,
          0,
          0,
          0,
          0,
          0,
          0
         ],
         "textposition": "inside",
         "texttemplate": "%{text:.0%}",
         "type": "bar",
         "x": [
          0,
          0,
          0,
          0,
          0.0410958904109589,
          0.039473684210526314,
          0,
          0,
          0,
          0,
          0,
          0,
          0,
          0,
          0,
          0
         ],
         "xaxis": "x3",
         "y": [
          "Electric Clothes Dryer",
          "Electric Cooking",
          "Mininum Efficiency Whole Home Electrification",
          "Induction Cooking",
          "Mininum Efficiency Heat Pump with Existing Heat Backup",
          "Mininum Efficiency Heat Pump with Electric Heat Backup",
          "Basic Enclosure",
          "Basic Enclosure + HPWH + High Efficiency HP/Electric Backup",
          "Basic Enclosure + High Efficiency Whole Home Electrification",
          "Enhanced Enclosure",
          "Enhanced Enclosure + HPWH + High Efficiency HP/Electric Backup",
          "Enhanced Enclosure + High Efficiency Whole Home Electrification",
          "Heat Pump Clothes Dryer",
          "Heat Pump Water Heater",
          "High Efficiency Heat Pump with Electric Heat Backup",
          "High Efficiency Whole Home Electrification"
         ],
         "yaxis": "y3"
        },
        {
         "marker": {
          "color": "green"
         },
         "orientation": "h",
         "showlegend": false,
         "text": [
          1,
          1,
          1,
          1,
          0.958904109589041,
          0.9605263157894737,
          1,
          1,
          1,
          1,
          1,
          1,
          1,
          1,
          1,
          1
         ],
         "textposition": "inside",
         "texttemplate": "%{text:.0%}",
         "type": "bar",
         "x": [
          1,
          1,
          1,
          1,
          0.958904109589041,
          0.9605263157894737,
          1,
          1,
          1,
          1,
          1,
          1,
          1,
          1,
          1,
          1
         ],
         "xaxis": "x3",
         "y": [
          "Electric Clothes Dryer",
          "Electric Cooking",
          "Mininum Efficiency Whole Home Electrification",
          "Induction Cooking",
          "Mininum Efficiency Heat Pump with Existing Heat Backup",
          "Mininum Efficiency Heat Pump with Electric Heat Backup",
          "Basic Enclosure",
          "Basic Enclosure + HPWH + High Efficiency HP/Electric Backup",
          "Basic Enclosure + High Efficiency Whole Home Electrification",
          "Enhanced Enclosure",
          "Enhanced Enclosure + HPWH + High Efficiency HP/Electric Backup",
          "Enhanced Enclosure + High Efficiency Whole Home Electrification",
          "Heat Pump Clothes Dryer",
          "Heat Pump Water Heater",
          "High Efficiency Heat Pump with Electric Heat Backup",
          "High Efficiency Whole Home Electrification"
         ],
         "yaxis": "y3"
        }
       ],
       "layout": {
        "autosize": false,
        "barmode": "relative",
        "font": {
         "size": 10
        },
        "height": 500,
        "template": {
         "data": {
          "bar": [
           {
            "error_x": {
             "color": "#2a3f5f"
            },
            "error_y": {
             "color": "#2a3f5f"
            },
            "marker": {
             "line": {
              "color": "#E5ECF6",
              "width": 0.5
             },
             "pattern": {
              "fillmode": "overlay",
              "size": 10,
              "solidity": 0.2
             }
            },
            "type": "bar"
           }
          ],
          "barpolar": [
           {
            "marker": {
             "line": {
              "color": "#E5ECF6",
              "width": 0.5
             },
             "pattern": {
              "fillmode": "overlay",
              "size": 10,
              "solidity": 0.2
             }
            },
            "type": "barpolar"
           }
          ],
          "carpet": [
           {
            "aaxis": {
             "endlinecolor": "#2a3f5f",
             "gridcolor": "white",
             "linecolor": "white",
             "minorgridcolor": "white",
             "startlinecolor": "#2a3f5f"
            },
            "baxis": {
             "endlinecolor": "#2a3f5f",
             "gridcolor": "white",
             "linecolor": "white",
             "minorgridcolor": "white",
             "startlinecolor": "#2a3f5f"
            },
            "type": "carpet"
           }
          ],
          "choropleth": [
           {
            "colorbar": {
             "outlinewidth": 0,
             "ticks": ""
            },
            "type": "choropleth"
           }
          ],
          "contour": [
           {
            "colorbar": {
             "outlinewidth": 0,
             "ticks": ""
            },
            "colorscale": [
             [
              0,
              "#0d0887"
             ],
             [
              0.1111111111111111,
              "#46039f"
             ],
             [
              0.2222222222222222,
              "#7201a8"
             ],
             [
              0.3333333333333333,
              "#9c179e"
             ],
             [
              0.4444444444444444,
              "#bd3786"
             ],
             [
              0.5555555555555556,
              "#d8576b"
             ],
             [
              0.6666666666666666,
              "#ed7953"
             ],
             [
              0.7777777777777778,
              "#fb9f3a"
             ],
             [
              0.8888888888888888,
              "#fdca26"
             ],
             [
              1,
              "#f0f921"
             ]
            ],
            "type": "contour"
           }
          ],
          "contourcarpet": [
           {
            "colorbar": {
             "outlinewidth": 0,
             "ticks": ""
            },
            "type": "contourcarpet"
           }
          ],
          "heatmap": [
           {
            "colorbar": {
             "outlinewidth": 0,
             "ticks": ""
            },
            "colorscale": [
             [
              0,
              "#0d0887"
             ],
             [
              0.1111111111111111,
              "#46039f"
             ],
             [
              0.2222222222222222,
              "#7201a8"
             ],
             [
              0.3333333333333333,
              "#9c179e"
             ],
             [
              0.4444444444444444,
              "#bd3786"
             ],
             [
              0.5555555555555556,
              "#d8576b"
             ],
             [
              0.6666666666666666,
              "#ed7953"
             ],
             [
              0.7777777777777778,
              "#fb9f3a"
             ],
             [
              0.8888888888888888,
              "#fdca26"
             ],
             [
              1,
              "#f0f921"
             ]
            ],
            "type": "heatmap"
           }
          ],
          "heatmapgl": [
           {
            "colorbar": {
             "outlinewidth": 0,
             "ticks": ""
            },
            "colorscale": [
             [
              0,
              "#0d0887"
             ],
             [
              0.1111111111111111,
              "#46039f"
             ],
             [
              0.2222222222222222,
              "#7201a8"
             ],
             [
              0.3333333333333333,
              "#9c179e"
             ],
             [
              0.4444444444444444,
              "#bd3786"
             ],
             [
              0.5555555555555556,
              "#d8576b"
             ],
             [
              0.6666666666666666,
              "#ed7953"
             ],
             [
              0.7777777777777778,
              "#fb9f3a"
             ],
             [
              0.8888888888888888,
              "#fdca26"
             ],
             [
              1,
              "#f0f921"
             ]
            ],
            "type": "heatmapgl"
           }
          ],
          "histogram": [
           {
            "marker": {
             "pattern": {
              "fillmode": "overlay",
              "size": 10,
              "solidity": 0.2
             }
            },
            "type": "histogram"
           }
          ],
          "histogram2d": [
           {
            "colorbar": {
             "outlinewidth": 0,
             "ticks": ""
            },
            "colorscale": [
             [
              0,
              "#0d0887"
             ],
             [
              0.1111111111111111,
              "#46039f"
             ],
             [
              0.2222222222222222,
              "#7201a8"
             ],
             [
              0.3333333333333333,
              "#9c179e"
             ],
             [
              0.4444444444444444,
              "#bd3786"
             ],
             [
              0.5555555555555556,
              "#d8576b"
             ],
             [
              0.6666666666666666,
              "#ed7953"
             ],
             [
              0.7777777777777778,
              "#fb9f3a"
             ],
             [
              0.8888888888888888,
              "#fdca26"
             ],
             [
              1,
              "#f0f921"
             ]
            ],
            "type": "histogram2d"
           }
          ],
          "histogram2dcontour": [
           {
            "colorbar": {
             "outlinewidth": 0,
             "ticks": ""
            },
            "colorscale": [
             [
              0,
              "#0d0887"
             ],
             [
              0.1111111111111111,
              "#46039f"
             ],
             [
              0.2222222222222222,
              "#7201a8"
             ],
             [
              0.3333333333333333,
              "#9c179e"
             ],
             [
              0.4444444444444444,
              "#bd3786"
             ],
             [
              0.5555555555555556,
              "#d8576b"
             ],
             [
              0.6666666666666666,
              "#ed7953"
             ],
             [
              0.7777777777777778,
              "#fb9f3a"
             ],
             [
              0.8888888888888888,
              "#fdca26"
             ],
             [
              1,
              "#f0f921"
             ]
            ],
            "type": "histogram2dcontour"
           }
          ],
          "mesh3d": [
           {
            "colorbar": {
             "outlinewidth": 0,
             "ticks": ""
            },
            "type": "mesh3d"
           }
          ],
          "parcoords": [
           {
            "line": {
             "colorbar": {
              "outlinewidth": 0,
              "ticks": ""
             }
            },
            "type": "parcoords"
           }
          ],
          "pie": [
           {
            "automargin": true,
            "type": "pie"
           }
          ],
          "scatter": [
           {
            "fillpattern": {
             "fillmode": "overlay",
             "size": 10,
             "solidity": 0.2
            },
            "type": "scatter"
           }
          ],
          "scatter3d": [
           {
            "line": {
             "colorbar": {
              "outlinewidth": 0,
              "ticks": ""
             }
            },
            "marker": {
             "colorbar": {
              "outlinewidth": 0,
              "ticks": ""
             }
            },
            "type": "scatter3d"
           }
          ],
          "scattercarpet": [
           {
            "marker": {
             "colorbar": {
              "outlinewidth": 0,
              "ticks": ""
             }
            },
            "type": "scattercarpet"
           }
          ],
          "scattergeo": [
           {
            "marker": {
             "colorbar": {
              "outlinewidth": 0,
              "ticks": ""
             }
            },
            "type": "scattergeo"
           }
          ],
          "scattergl": [
           {
            "marker": {
             "colorbar": {
              "outlinewidth": 0,
              "ticks": ""
             }
            },
            "type": "scattergl"
           }
          ],
          "scattermapbox": [
           {
            "marker": {
             "colorbar": {
              "outlinewidth": 0,
              "ticks": ""
             }
            },
            "type": "scattermapbox"
           }
          ],
          "scatterpolar": [
           {
            "marker": {
             "colorbar": {
              "outlinewidth": 0,
              "ticks": ""
             }
            },
            "type": "scatterpolar"
           }
          ],
          "scatterpolargl": [
           {
            "marker": {
             "colorbar": {
              "outlinewidth": 0,
              "ticks": ""
             }
            },
            "type": "scatterpolargl"
           }
          ],
          "scatterternary": [
           {
            "marker": {
             "colorbar": {
              "outlinewidth": 0,
              "ticks": ""
             }
            },
            "type": "scatterternary"
           }
          ],
          "surface": [
           {
            "colorbar": {
             "outlinewidth": 0,
             "ticks": ""
            },
            "colorscale": [
             [
              0,
              "#0d0887"
             ],
             [
              0.1111111111111111,
              "#46039f"
             ],
             [
              0.2222222222222222,
              "#7201a8"
             ],
             [
              0.3333333333333333,
              "#9c179e"
             ],
             [
              0.4444444444444444,
              "#bd3786"
             ],
             [
              0.5555555555555556,
              "#d8576b"
             ],
             [
              0.6666666666666666,
              "#ed7953"
             ],
             [
              0.7777777777777778,
              "#fb9f3a"
             ],
             [
              0.8888888888888888,
              "#fdca26"
             ],
             [
              1,
              "#f0f921"
             ]
            ],
            "type": "surface"
           }
          ],
          "table": [
           {
            "cells": {
             "fill": {
              "color": "#EBF0F8"
             },
             "line": {
              "color": "white"
             }
            },
            "header": {
             "fill": {
              "color": "#C8D4E3"
             },
             "line": {
              "color": "white"
             }
            },
            "type": "table"
           }
          ]
         },
         "layout": {
          "annotationdefaults": {
           "arrowcolor": "#2a3f5f",
           "arrowhead": 0,
           "arrowwidth": 1
          },
          "autotypenumbers": "strict",
          "coloraxis": {
           "colorbar": {
            "outlinewidth": 0,
            "ticks": ""
           }
          },
          "colorscale": {
           "diverging": [
            [
             0,
             "#8e0152"
            ],
            [
             0.1,
             "#c51b7d"
            ],
            [
             0.2,
             "#de77ae"
            ],
            [
             0.3,
             "#f1b6da"
            ],
            [
             0.4,
             "#fde0ef"
            ],
            [
             0.5,
             "#f7f7f7"
            ],
            [
             0.6,
             "#e6f5d0"
            ],
            [
             0.7,
             "#b8e186"
            ],
            [
             0.8,
             "#7fbc41"
            ],
            [
             0.9,
             "#4d9221"
            ],
            [
             1,
             "#276419"
            ]
           ],
           "sequential": [
            [
             0,
             "#0d0887"
            ],
            [
             0.1111111111111111,
             "#46039f"
            ],
            [
             0.2222222222222222,
             "#7201a8"
            ],
            [
             0.3333333333333333,
             "#9c179e"
            ],
            [
             0.4444444444444444,
             "#bd3786"
            ],
            [
             0.5555555555555556,
             "#d8576b"
            ],
            [
             0.6666666666666666,
             "#ed7953"
            ],
            [
             0.7777777777777778,
             "#fb9f3a"
            ],
            [
             0.8888888888888888,
             "#fdca26"
            ],
            [
             1,
             "#f0f921"
            ]
           ],
           "sequentialminus": [
            [
             0,
             "#0d0887"
            ],
            [
             0.1111111111111111,
             "#46039f"
            ],
            [
             0.2222222222222222,
             "#7201a8"
            ],
            [
             0.3333333333333333,
             "#9c179e"
            ],
            [
             0.4444444444444444,
             "#bd3786"
            ],
            [
             0.5555555555555556,
             "#d8576b"
            ],
            [
             0.6666666666666666,
             "#ed7953"
            ],
            [
             0.7777777777777778,
             "#fb9f3a"
            ],
            [
             0.8888888888888888,
             "#fdca26"
            ],
            [
             1,
             "#f0f921"
            ]
           ]
          },
          "colorway": [
           "#636efa",
           "#EF553B",
           "#00cc96",
           "#ab63fa",
           "#FFA15A",
           "#19d3f3",
           "#FF6692",
           "#B6E880",
           "#FF97FF",
           "#FECB52"
          ],
          "font": {
           "color": "#2a3f5f"
          },
          "geo": {
           "bgcolor": "white",
           "lakecolor": "white",
           "landcolor": "#E5ECF6",
           "showlakes": true,
           "showland": true,
           "subunitcolor": "white"
          },
          "hoverlabel": {
           "align": "left"
          },
          "hovermode": "closest",
          "mapbox": {
           "style": "light"
          },
          "paper_bgcolor": "white",
          "plot_bgcolor": "#E5ECF6",
          "polar": {
           "angularaxis": {
            "gridcolor": "white",
            "linecolor": "white",
            "ticks": ""
           },
           "bgcolor": "#E5ECF6",
           "radialaxis": {
            "gridcolor": "white",
            "linecolor": "white",
            "ticks": ""
           }
          },
          "scene": {
           "xaxis": {
            "backgroundcolor": "#E5ECF6",
            "gridcolor": "white",
            "gridwidth": 2,
            "linecolor": "white",
            "showbackground": true,
            "ticks": "",
            "zerolinecolor": "white"
           },
           "yaxis": {
            "backgroundcolor": "#E5ECF6",
            "gridcolor": "white",
            "gridwidth": 2,
            "linecolor": "white",
            "showbackground": true,
            "ticks": "",
            "zerolinecolor": "white"
           },
           "zaxis": {
            "backgroundcolor": "#E5ECF6",
            "gridcolor": "white",
            "gridwidth": 2,
            "linecolor": "white",
            "showbackground": true,
            "ticks": "",
            "zerolinecolor": "white"
           }
          },
          "shapedefaults": {
           "line": {
            "color": "#2a3f5f"
           }
          },
          "ternary": {
           "aaxis": {
            "gridcolor": "white",
            "linecolor": "white",
            "ticks": ""
           },
           "baxis": {
            "gridcolor": "white",
            "linecolor": "white",
            "ticks": ""
           },
           "bgcolor": "#E5ECF6",
           "caxis": {
            "gridcolor": "white",
            "linecolor": "white",
            "ticks": ""
           }
          },
          "title": {
           "x": 0.05
          },
          "xaxis": {
           "automargin": true,
           "gridcolor": "white",
           "linecolor": "white",
           "ticks": "",
           "title": {
            "standoff": 15
           },
           "zerolinecolor": "white",
           "zerolinewidth": 2
          },
          "yaxis": {
           "automargin": true,
           "gridcolor": "white",
           "linecolor": "white",
           "ticks": "",
           "title": {
            "standoff": 15
           },
           "zerolinecolor": "white",
           "zerolinewidth": 2
          }
         }
        },
        "title": {
         "text": "Percentage of Household in Positive and Negative Savings"
        },
        "width": 1000,
        "xaxis": {
         "anchor": "y",
         "domain": [
          0,
          0.2888888888888889
         ],
         "tickformat": ",.0%",
         "title": {
          "text": "Bill"
         },
         "visible": true
        },
        "xaxis2": {
         "anchor": "y2",
         "domain": [
          0.35555555555555557,
          0.6444444444444445
         ],
         "tickformat": ",.0%",
         "title": {
          "text": "Emission"
         },
         "visible": true
        },
        "xaxis3": {
         "anchor": "y3",
         "domain": [
          0.7111111111111111,
          1
         ],
         "tickformat": ",.0%",
         "title": {
          "text": "Total Energy"
         },
         "visible": true
        },
        "yaxis": {
         "anchor": "x",
         "domain": [
          0,
          1
         ],
         "visible": true
        },
        "yaxis2": {
         "anchor": "x2",
         "domain": [
          0,
          1
         ],
         "visible": false
        },
        "yaxis3": {
         "anchor": "x3",
         "domain": [
          0,
          1
         ],
         "visible": false
        }
       }
      }
     },
     "metadata": {},
     "output_type": "display_data"
    },
    {
     "name": "stderr",
     "output_type": "stream",
     "text": [
      "/var/folders/zw/lhnn73fj2250g9z11h_whq1szkf2pm/T/ipykernel_46519/1326448381.py:3: PerformanceWarning:\n",
      "\n",
      "DataFrame is highly fragmented.  This is usually the result of calling `frame.insert` many times, which has poor performance.  Consider joining all columns at once using pd.concat(axis=1) instead. To get a de-fragmented frame, use `newframe = frame.copy()`\n",
      "\n",
      "/var/folders/zw/lhnn73fj2250g9z11h_whq1szkf2pm/T/ipykernel_46519/1326448381.py:4: PerformanceWarning:\n",
      "\n",
      "DataFrame is highly fragmented.  This is usually the result of calling `frame.insert` many times, which has poor performance.  Consider joining all columns at once using pd.concat(axis=1) instead. To get a de-fragmented frame, use `newframe = frame.copy()`\n",
      "\n",
      "/var/folders/zw/lhnn73fj2250g9z11h_whq1szkf2pm/T/ipykernel_46519/1326448381.py:5: PerformanceWarning:\n",
      "\n",
      "DataFrame is highly fragmented.  This is usually the result of calling `frame.insert` many times, which has poor performance.  Consider joining all columns at once using pd.concat(axis=1) instead. To get a de-fragmented frame, use `newframe = frame.copy()`\n",
      "\n"
     ]
    }
   ],
   "source": [
    "egment = 'segment3'\n",
    "results = figure_positive_negative_savings(segment, community_results) \n",
    "saving_results[f'segment3_{income}_pct_bill_positive_savings_%'] = results[0]*100\n",
    "saving_results[f'segment3_{income}_pct_emission_positive_savings_%'] = results[1]*100\n",
    "saving_results[f'segment3_{income}_pct_energy_positive_savings_%'] = results[2]*100"
   ]
  },
  {
   "cell_type": "markdown",
   "id": "2e251a36",
   "metadata": {},
   "source": [
    "### Segment 4"
   ]
  },
  {
   "cell_type": "code",
   "execution_count": 52,
   "id": "2e970f6b",
   "metadata": {},
   "outputs": [
    {
     "data": {
      "application/vnd.plotly.v1+json": {
       "config": {
        "plotlyServerURL": "https://plot.ly"
       },
       "data": [
        {
         "marker": {
          "color": "red"
         },
         "name": "Negative",
         "orientation": "h",
         "text": [
          1,
          0.47619047619047616,
          0.4074074074074074,
          0.05921052631578947,
          0.046052631578947366,
          0.039735099337748346,
          0.017699115044247787,
          0.006666666666666667,
          0.006622516556291391,
          0.006535947712418301,
          0.006535947712418301,
          0,
          0,
          0,
          0,
          0
         ],
         "textposition": "inside",
         "texttemplate": "%{text:.0%}",
         "type": "bar",
         "x": [
          1,
          0.47619047619047616,
          0.4074074074074074,
          0.05921052631578947,
          0.046052631578947366,
          0.039735099337748346,
          0.017699115044247787,
          0.006666666666666667,
          0.006622516556291391,
          0.006535947712418301,
          0.006535947712418301,
          0,
          0,
          0,
          0,
          0
         ],
         "xaxis": "x",
         "y": [
          "Electric Clothes Dryer",
          "Electric Cooking",
          "Mininum Efficiency Whole Home Electrification",
          "Induction Cooking",
          "Mininum Efficiency Heat Pump with Existing Heat Backup",
          "Mininum Efficiency Heat Pump with Electric Heat Backup",
          "Heat Pump Clothes Dryer",
          "Heat Pump Water Heater",
          "High Efficiency Heat Pump with Electric Heat Backup",
          "Basic Enclosure + HPWH + High Efficiency HP/Electric Backup",
          "Enhanced Enclosure + HPWH + High Efficiency HP/Electric Backup",
          "Basic Enclosure",
          "Basic Enclosure + High Efficiency Whole Home Electrification",
          "Enhanced Enclosure",
          "Enhanced Enclosure + High Efficiency Whole Home Electrification",
          "High Efficiency Whole Home Electrification"
         ],
         "yaxis": "y"
        },
        {
         "marker": {
          "color": "green"
         },
         "name": "Positive",
         "orientation": "h",
         "text": [
          0,
          0.5238095238095238,
          0.5925925925925926,
          0.9407894736842105,
          0.9539473684210527,
          0.9602649006622517,
          0.9823008849557522,
          0.9933333333333333,
          0.9933774834437086,
          0.9934640522875817,
          0.9934640522875817,
          1,
          1,
          1,
          1,
          1
         ],
         "textposition": "inside",
         "texttemplate": "%{text:.0%}",
         "type": "bar",
         "x": [
          0,
          0.5238095238095238,
          0.5925925925925926,
          0.9407894736842105,
          0.9539473684210527,
          0.9602649006622517,
          0.9823008849557522,
          0.9933333333333333,
          0.9933774834437086,
          0.9934640522875817,
          0.9934640522875817,
          1,
          1,
          1,
          1,
          1
         ],
         "xaxis": "x",
         "y": [
          "Electric Clothes Dryer",
          "Electric Cooking",
          "Mininum Efficiency Whole Home Electrification",
          "Induction Cooking",
          "Mininum Efficiency Heat Pump with Existing Heat Backup",
          "Mininum Efficiency Heat Pump with Electric Heat Backup",
          "Heat Pump Clothes Dryer",
          "Heat Pump Water Heater",
          "High Efficiency Heat Pump with Electric Heat Backup",
          "Basic Enclosure + HPWH + High Efficiency HP/Electric Backup",
          "Enhanced Enclosure + HPWH + High Efficiency HP/Electric Backup",
          "Basic Enclosure",
          "Basic Enclosure + High Efficiency Whole Home Electrification",
          "Enhanced Enclosure",
          "Enhanced Enclosure + High Efficiency Whole Home Electrification",
          "High Efficiency Whole Home Electrification"
         ],
         "yaxis": "y"
        },
        {
         "marker": {
          "color": "red"
         },
         "orientation": "h",
         "showlegend": false,
         "text": [
          0,
          0,
          0,
          0,
          0.046052631578947366,
          0.039735099337748346,
          0,
          0.013333333333333334,
          0.006622516556291391,
          0,
          0,
          0,
          0,
          0,
          0,
          0
         ],
         "textposition": "inside",
         "texttemplate": "%{text:.0%}",
         "type": "bar",
         "x": [
          0,
          0,
          0,
          0,
          0.046052631578947366,
          0.039735099337748346,
          0,
          0.013333333333333334,
          0.006622516556291391,
          0,
          0,
          0,
          0,
          0,
          0,
          0
         ],
         "xaxis": "x2",
         "y": [
          "Electric Clothes Dryer",
          "Electric Cooking",
          "Mininum Efficiency Whole Home Electrification",
          "Induction Cooking",
          "Mininum Efficiency Heat Pump with Existing Heat Backup",
          "Mininum Efficiency Heat Pump with Electric Heat Backup",
          "Heat Pump Clothes Dryer",
          "Heat Pump Water Heater",
          "High Efficiency Heat Pump with Electric Heat Backup",
          "Basic Enclosure + HPWH + High Efficiency HP/Electric Backup",
          "Enhanced Enclosure + HPWH + High Efficiency HP/Electric Backup",
          "Basic Enclosure",
          "Basic Enclosure + High Efficiency Whole Home Electrification",
          "Enhanced Enclosure",
          "Enhanced Enclosure + High Efficiency Whole Home Electrification",
          "High Efficiency Whole Home Electrification"
         ],
         "yaxis": "y2"
        },
        {
         "marker": {
          "color": "green"
         },
         "orientation": "h",
         "showlegend": false,
         "text": [
          1,
          1,
          1,
          1,
          0.9539473684210527,
          0.9602649006622517,
          1,
          0.9866666666666667,
          0.9933774834437086,
          1,
          1,
          1,
          1,
          1,
          1,
          1
         ],
         "textposition": "inside",
         "texttemplate": "%{text:.0%}",
         "type": "bar",
         "x": [
          1,
          1,
          1,
          1,
          0.9539473684210527,
          0.9602649006622517,
          1,
          0.9866666666666667,
          0.9933774834437086,
          1,
          1,
          1,
          1,
          1,
          1,
          1
         ],
         "xaxis": "x2",
         "y": [
          "Electric Clothes Dryer",
          "Electric Cooking",
          "Mininum Efficiency Whole Home Electrification",
          "Induction Cooking",
          "Mininum Efficiency Heat Pump with Existing Heat Backup",
          "Mininum Efficiency Heat Pump with Electric Heat Backup",
          "Heat Pump Clothes Dryer",
          "Heat Pump Water Heater",
          "High Efficiency Heat Pump with Electric Heat Backup",
          "Basic Enclosure + HPWH + High Efficiency HP/Electric Backup",
          "Enhanced Enclosure + HPWH + High Efficiency HP/Electric Backup",
          "Basic Enclosure",
          "Basic Enclosure + High Efficiency Whole Home Electrification",
          "Enhanced Enclosure",
          "Enhanced Enclosure + High Efficiency Whole Home Electrification",
          "High Efficiency Whole Home Electrification"
         ],
         "yaxis": "y2"
        },
        {
         "marker": {
          "color": "red"
         },
         "orientation": "h",
         "showlegend": false,
         "text": [
          0,
          0,
          0,
          0,
          0.046052631578947366,
          0.039735099337748346,
          0,
          0.006666666666666667,
          0.006622516556291391,
          0.006535947712418301,
          0.006535947712418301,
          0,
          0,
          0,
          0,
          0
         ],
         "textposition": "inside",
         "texttemplate": "%{text:.0%}",
         "type": "bar",
         "x": [
          0,
          0,
          0,
          0,
          0.046052631578947366,
          0.039735099337748346,
          0,
          0.006666666666666667,
          0.006622516556291391,
          0.006535947712418301,
          0.006535947712418301,
          0,
          0,
          0,
          0,
          0
         ],
         "xaxis": "x3",
         "y": [
          "Electric Clothes Dryer",
          "Electric Cooking",
          "Mininum Efficiency Whole Home Electrification",
          "Induction Cooking",
          "Mininum Efficiency Heat Pump with Existing Heat Backup",
          "Mininum Efficiency Heat Pump with Electric Heat Backup",
          "Heat Pump Clothes Dryer",
          "Heat Pump Water Heater",
          "High Efficiency Heat Pump with Electric Heat Backup",
          "Basic Enclosure + HPWH + High Efficiency HP/Electric Backup",
          "Enhanced Enclosure + HPWH + High Efficiency HP/Electric Backup",
          "Basic Enclosure",
          "Basic Enclosure + High Efficiency Whole Home Electrification",
          "Enhanced Enclosure",
          "Enhanced Enclosure + High Efficiency Whole Home Electrification",
          "High Efficiency Whole Home Electrification"
         ],
         "yaxis": "y3"
        },
        {
         "marker": {
          "color": "green"
         },
         "orientation": "h",
         "showlegend": false,
         "text": [
          1,
          1,
          1,
          1,
          0.9539473684210527,
          0.9602649006622517,
          1,
          0.9933333333333333,
          0.9933774834437086,
          0.9934640522875817,
          0.9934640522875817,
          1,
          1,
          1,
          1,
          1
         ],
         "textposition": "inside",
         "texttemplate": "%{text:.0%}",
         "type": "bar",
         "x": [
          1,
          1,
          1,
          1,
          0.9539473684210527,
          0.9602649006622517,
          1,
          0.9933333333333333,
          0.9933774834437086,
          0.9934640522875817,
          0.9934640522875817,
          1,
          1,
          1,
          1,
          1
         ],
         "xaxis": "x3",
         "y": [
          "Electric Clothes Dryer",
          "Electric Cooking",
          "Mininum Efficiency Whole Home Electrification",
          "Induction Cooking",
          "Mininum Efficiency Heat Pump with Existing Heat Backup",
          "Mininum Efficiency Heat Pump with Electric Heat Backup",
          "Heat Pump Clothes Dryer",
          "Heat Pump Water Heater",
          "High Efficiency Heat Pump with Electric Heat Backup",
          "Basic Enclosure + HPWH + High Efficiency HP/Electric Backup",
          "Enhanced Enclosure + HPWH + High Efficiency HP/Electric Backup",
          "Basic Enclosure",
          "Basic Enclosure + High Efficiency Whole Home Electrification",
          "Enhanced Enclosure",
          "Enhanced Enclosure + High Efficiency Whole Home Electrification",
          "High Efficiency Whole Home Electrification"
         ],
         "yaxis": "y3"
        }
       ],
       "layout": {
        "autosize": false,
        "barmode": "relative",
        "font": {
         "size": 10
        },
        "height": 500,
        "template": {
         "data": {
          "bar": [
           {
            "error_x": {
             "color": "#2a3f5f"
            },
            "error_y": {
             "color": "#2a3f5f"
            },
            "marker": {
             "line": {
              "color": "#E5ECF6",
              "width": 0.5
             },
             "pattern": {
              "fillmode": "overlay",
              "size": 10,
              "solidity": 0.2
             }
            },
            "type": "bar"
           }
          ],
          "barpolar": [
           {
            "marker": {
             "line": {
              "color": "#E5ECF6",
              "width": 0.5
             },
             "pattern": {
              "fillmode": "overlay",
              "size": 10,
              "solidity": 0.2
             }
            },
            "type": "barpolar"
           }
          ],
          "carpet": [
           {
            "aaxis": {
             "endlinecolor": "#2a3f5f",
             "gridcolor": "white",
             "linecolor": "white",
             "minorgridcolor": "white",
             "startlinecolor": "#2a3f5f"
            },
            "baxis": {
             "endlinecolor": "#2a3f5f",
             "gridcolor": "white",
             "linecolor": "white",
             "minorgridcolor": "white",
             "startlinecolor": "#2a3f5f"
            },
            "type": "carpet"
           }
          ],
          "choropleth": [
           {
            "colorbar": {
             "outlinewidth": 0,
             "ticks": ""
            },
            "type": "choropleth"
           }
          ],
          "contour": [
           {
            "colorbar": {
             "outlinewidth": 0,
             "ticks": ""
            },
            "colorscale": [
             [
              0,
              "#0d0887"
             ],
             [
              0.1111111111111111,
              "#46039f"
             ],
             [
              0.2222222222222222,
              "#7201a8"
             ],
             [
              0.3333333333333333,
              "#9c179e"
             ],
             [
              0.4444444444444444,
              "#bd3786"
             ],
             [
              0.5555555555555556,
              "#d8576b"
             ],
             [
              0.6666666666666666,
              "#ed7953"
             ],
             [
              0.7777777777777778,
              "#fb9f3a"
             ],
             [
              0.8888888888888888,
              "#fdca26"
             ],
             [
              1,
              "#f0f921"
             ]
            ],
            "type": "contour"
           }
          ],
          "contourcarpet": [
           {
            "colorbar": {
             "outlinewidth": 0,
             "ticks": ""
            },
            "type": "contourcarpet"
           }
          ],
          "heatmap": [
           {
            "colorbar": {
             "outlinewidth": 0,
             "ticks": ""
            },
            "colorscale": [
             [
              0,
              "#0d0887"
             ],
             [
              0.1111111111111111,
              "#46039f"
             ],
             [
              0.2222222222222222,
              "#7201a8"
             ],
             [
              0.3333333333333333,
              "#9c179e"
             ],
             [
              0.4444444444444444,
              "#bd3786"
             ],
             [
              0.5555555555555556,
              "#d8576b"
             ],
             [
              0.6666666666666666,
              "#ed7953"
             ],
             [
              0.7777777777777778,
              "#fb9f3a"
             ],
             [
              0.8888888888888888,
              "#fdca26"
             ],
             [
              1,
              "#f0f921"
             ]
            ],
            "type": "heatmap"
           }
          ],
          "heatmapgl": [
           {
            "colorbar": {
             "outlinewidth": 0,
             "ticks": ""
            },
            "colorscale": [
             [
              0,
              "#0d0887"
             ],
             [
              0.1111111111111111,
              "#46039f"
             ],
             [
              0.2222222222222222,
              "#7201a8"
             ],
             [
              0.3333333333333333,
              "#9c179e"
             ],
             [
              0.4444444444444444,
              "#bd3786"
             ],
             [
              0.5555555555555556,
              "#d8576b"
             ],
             [
              0.6666666666666666,
              "#ed7953"
             ],
             [
              0.7777777777777778,
              "#fb9f3a"
             ],
             [
              0.8888888888888888,
              "#fdca26"
             ],
             [
              1,
              "#f0f921"
             ]
            ],
            "type": "heatmapgl"
           }
          ],
          "histogram": [
           {
            "marker": {
             "pattern": {
              "fillmode": "overlay",
              "size": 10,
              "solidity": 0.2
             }
            },
            "type": "histogram"
           }
          ],
          "histogram2d": [
           {
            "colorbar": {
             "outlinewidth": 0,
             "ticks": ""
            },
            "colorscale": [
             [
              0,
              "#0d0887"
             ],
             [
              0.1111111111111111,
              "#46039f"
             ],
             [
              0.2222222222222222,
              "#7201a8"
             ],
             [
              0.3333333333333333,
              "#9c179e"
             ],
             [
              0.4444444444444444,
              "#bd3786"
             ],
             [
              0.5555555555555556,
              "#d8576b"
             ],
             [
              0.6666666666666666,
              "#ed7953"
             ],
             [
              0.7777777777777778,
              "#fb9f3a"
             ],
             [
              0.8888888888888888,
              "#fdca26"
             ],
             [
              1,
              "#f0f921"
             ]
            ],
            "type": "histogram2d"
           }
          ],
          "histogram2dcontour": [
           {
            "colorbar": {
             "outlinewidth": 0,
             "ticks": ""
            },
            "colorscale": [
             [
              0,
              "#0d0887"
             ],
             [
              0.1111111111111111,
              "#46039f"
             ],
             [
              0.2222222222222222,
              "#7201a8"
             ],
             [
              0.3333333333333333,
              "#9c179e"
             ],
             [
              0.4444444444444444,
              "#bd3786"
             ],
             [
              0.5555555555555556,
              "#d8576b"
             ],
             [
              0.6666666666666666,
              "#ed7953"
             ],
             [
              0.7777777777777778,
              "#fb9f3a"
             ],
             [
              0.8888888888888888,
              "#fdca26"
             ],
             [
              1,
              "#f0f921"
             ]
            ],
            "type": "histogram2dcontour"
           }
          ],
          "mesh3d": [
           {
            "colorbar": {
             "outlinewidth": 0,
             "ticks": ""
            },
            "type": "mesh3d"
           }
          ],
          "parcoords": [
           {
            "line": {
             "colorbar": {
              "outlinewidth": 0,
              "ticks": ""
             }
            },
            "type": "parcoords"
           }
          ],
          "pie": [
           {
            "automargin": true,
            "type": "pie"
           }
          ],
          "scatter": [
           {
            "fillpattern": {
             "fillmode": "overlay",
             "size": 10,
             "solidity": 0.2
            },
            "type": "scatter"
           }
          ],
          "scatter3d": [
           {
            "line": {
             "colorbar": {
              "outlinewidth": 0,
              "ticks": ""
             }
            },
            "marker": {
             "colorbar": {
              "outlinewidth": 0,
              "ticks": ""
             }
            },
            "type": "scatter3d"
           }
          ],
          "scattercarpet": [
           {
            "marker": {
             "colorbar": {
              "outlinewidth": 0,
              "ticks": ""
             }
            },
            "type": "scattercarpet"
           }
          ],
          "scattergeo": [
           {
            "marker": {
             "colorbar": {
              "outlinewidth": 0,
              "ticks": ""
             }
            },
            "type": "scattergeo"
           }
          ],
          "scattergl": [
           {
            "marker": {
             "colorbar": {
              "outlinewidth": 0,
              "ticks": ""
             }
            },
            "type": "scattergl"
           }
          ],
          "scattermapbox": [
           {
            "marker": {
             "colorbar": {
              "outlinewidth": 0,
              "ticks": ""
             }
            },
            "type": "scattermapbox"
           }
          ],
          "scatterpolar": [
           {
            "marker": {
             "colorbar": {
              "outlinewidth": 0,
              "ticks": ""
             }
            },
            "type": "scatterpolar"
           }
          ],
          "scatterpolargl": [
           {
            "marker": {
             "colorbar": {
              "outlinewidth": 0,
              "ticks": ""
             }
            },
            "type": "scatterpolargl"
           }
          ],
          "scatterternary": [
           {
            "marker": {
             "colorbar": {
              "outlinewidth": 0,
              "ticks": ""
             }
            },
            "type": "scatterternary"
           }
          ],
          "surface": [
           {
            "colorbar": {
             "outlinewidth": 0,
             "ticks": ""
            },
            "colorscale": [
             [
              0,
              "#0d0887"
             ],
             [
              0.1111111111111111,
              "#46039f"
             ],
             [
              0.2222222222222222,
              "#7201a8"
             ],
             [
              0.3333333333333333,
              "#9c179e"
             ],
             [
              0.4444444444444444,
              "#bd3786"
             ],
             [
              0.5555555555555556,
              "#d8576b"
             ],
             [
              0.6666666666666666,
              "#ed7953"
             ],
             [
              0.7777777777777778,
              "#fb9f3a"
             ],
             [
              0.8888888888888888,
              "#fdca26"
             ],
             [
              1,
              "#f0f921"
             ]
            ],
            "type": "surface"
           }
          ],
          "table": [
           {
            "cells": {
             "fill": {
              "color": "#EBF0F8"
             },
             "line": {
              "color": "white"
             }
            },
            "header": {
             "fill": {
              "color": "#C8D4E3"
             },
             "line": {
              "color": "white"
             }
            },
            "type": "table"
           }
          ]
         },
         "layout": {
          "annotationdefaults": {
           "arrowcolor": "#2a3f5f",
           "arrowhead": 0,
           "arrowwidth": 1
          },
          "autotypenumbers": "strict",
          "coloraxis": {
           "colorbar": {
            "outlinewidth": 0,
            "ticks": ""
           }
          },
          "colorscale": {
           "diverging": [
            [
             0,
             "#8e0152"
            ],
            [
             0.1,
             "#c51b7d"
            ],
            [
             0.2,
             "#de77ae"
            ],
            [
             0.3,
             "#f1b6da"
            ],
            [
             0.4,
             "#fde0ef"
            ],
            [
             0.5,
             "#f7f7f7"
            ],
            [
             0.6,
             "#e6f5d0"
            ],
            [
             0.7,
             "#b8e186"
            ],
            [
             0.8,
             "#7fbc41"
            ],
            [
             0.9,
             "#4d9221"
            ],
            [
             1,
             "#276419"
            ]
           ],
           "sequential": [
            [
             0,
             "#0d0887"
            ],
            [
             0.1111111111111111,
             "#46039f"
            ],
            [
             0.2222222222222222,
             "#7201a8"
            ],
            [
             0.3333333333333333,
             "#9c179e"
            ],
            [
             0.4444444444444444,
             "#bd3786"
            ],
            [
             0.5555555555555556,
             "#d8576b"
            ],
            [
             0.6666666666666666,
             "#ed7953"
            ],
            [
             0.7777777777777778,
             "#fb9f3a"
            ],
            [
             0.8888888888888888,
             "#fdca26"
            ],
            [
             1,
             "#f0f921"
            ]
           ],
           "sequentialminus": [
            [
             0,
             "#0d0887"
            ],
            [
             0.1111111111111111,
             "#46039f"
            ],
            [
             0.2222222222222222,
             "#7201a8"
            ],
            [
             0.3333333333333333,
             "#9c179e"
            ],
            [
             0.4444444444444444,
             "#bd3786"
            ],
            [
             0.5555555555555556,
             "#d8576b"
            ],
            [
             0.6666666666666666,
             "#ed7953"
            ],
            [
             0.7777777777777778,
             "#fb9f3a"
            ],
            [
             0.8888888888888888,
             "#fdca26"
            ],
            [
             1,
             "#f0f921"
            ]
           ]
          },
          "colorway": [
           "#636efa",
           "#EF553B",
           "#00cc96",
           "#ab63fa",
           "#FFA15A",
           "#19d3f3",
           "#FF6692",
           "#B6E880",
           "#FF97FF",
           "#FECB52"
          ],
          "font": {
           "color": "#2a3f5f"
          },
          "geo": {
           "bgcolor": "white",
           "lakecolor": "white",
           "landcolor": "#E5ECF6",
           "showlakes": true,
           "showland": true,
           "subunitcolor": "white"
          },
          "hoverlabel": {
           "align": "left"
          },
          "hovermode": "closest",
          "mapbox": {
           "style": "light"
          },
          "paper_bgcolor": "white",
          "plot_bgcolor": "#E5ECF6",
          "polar": {
           "angularaxis": {
            "gridcolor": "white",
            "linecolor": "white",
            "ticks": ""
           },
           "bgcolor": "#E5ECF6",
           "radialaxis": {
            "gridcolor": "white",
            "linecolor": "white",
            "ticks": ""
           }
          },
          "scene": {
           "xaxis": {
            "backgroundcolor": "#E5ECF6",
            "gridcolor": "white",
            "gridwidth": 2,
            "linecolor": "white",
            "showbackground": true,
            "ticks": "",
            "zerolinecolor": "white"
           },
           "yaxis": {
            "backgroundcolor": "#E5ECF6",
            "gridcolor": "white",
            "gridwidth": 2,
            "linecolor": "white",
            "showbackground": true,
            "ticks": "",
            "zerolinecolor": "white"
           },
           "zaxis": {
            "backgroundcolor": "#E5ECF6",
            "gridcolor": "white",
            "gridwidth": 2,
            "linecolor": "white",
            "showbackground": true,
            "ticks": "",
            "zerolinecolor": "white"
           }
          },
          "shapedefaults": {
           "line": {
            "color": "#2a3f5f"
           }
          },
          "ternary": {
           "aaxis": {
            "gridcolor": "white",
            "linecolor": "white",
            "ticks": ""
           },
           "baxis": {
            "gridcolor": "white",
            "linecolor": "white",
            "ticks": ""
           },
           "bgcolor": "#E5ECF6",
           "caxis": {
            "gridcolor": "white",
            "linecolor": "white",
            "ticks": ""
           }
          },
          "title": {
           "x": 0.05
          },
          "xaxis": {
           "automargin": true,
           "gridcolor": "white",
           "linecolor": "white",
           "ticks": "",
           "title": {
            "standoff": 15
           },
           "zerolinecolor": "white",
           "zerolinewidth": 2
          },
          "yaxis": {
           "automargin": true,
           "gridcolor": "white",
           "linecolor": "white",
           "ticks": "",
           "title": {
            "standoff": 15
           },
           "zerolinecolor": "white",
           "zerolinewidth": 2
          }
         }
        },
        "title": {
         "text": "Percentage of Household in Positive and Negative Savings"
        },
        "width": 1000,
        "xaxis": {
         "anchor": "y",
         "domain": [
          0,
          0.2888888888888889
         ],
         "tickformat": ",.0%",
         "title": {
          "text": "Bill"
         },
         "visible": true
        },
        "xaxis2": {
         "anchor": "y2",
         "domain": [
          0.35555555555555557,
          0.6444444444444445
         ],
         "tickformat": ",.0%",
         "title": {
          "text": "Emission"
         },
         "visible": true
        },
        "xaxis3": {
         "anchor": "y3",
         "domain": [
          0.7111111111111111,
          1
         ],
         "tickformat": ",.0%",
         "title": {
          "text": "Total Energy"
         },
         "visible": true
        },
        "yaxis": {
         "anchor": "x",
         "domain": [
          0,
          1
         ],
         "visible": true
        },
        "yaxis2": {
         "anchor": "x2",
         "domain": [
          0,
          1
         ],
         "visible": false
        },
        "yaxis3": {
         "anchor": "x3",
         "domain": [
          0,
          1
         ],
         "visible": false
        }
       }
      }
     },
     "metadata": {},
     "output_type": "display_data"
    },
    {
     "name": "stderr",
     "output_type": "stream",
     "text": [
      "/var/folders/zw/lhnn73fj2250g9z11h_whq1szkf2pm/T/ipykernel_46519/2289506022.py:3: PerformanceWarning:\n",
      "\n",
      "DataFrame is highly fragmented.  This is usually the result of calling `frame.insert` many times, which has poor performance.  Consider joining all columns at once using pd.concat(axis=1) instead. To get a de-fragmented frame, use `newframe = frame.copy()`\n",
      "\n",
      "/var/folders/zw/lhnn73fj2250g9z11h_whq1szkf2pm/T/ipykernel_46519/2289506022.py:4: PerformanceWarning:\n",
      "\n",
      "DataFrame is highly fragmented.  This is usually the result of calling `frame.insert` many times, which has poor performance.  Consider joining all columns at once using pd.concat(axis=1) instead. To get a de-fragmented frame, use `newframe = frame.copy()`\n",
      "\n",
      "/var/folders/zw/lhnn73fj2250g9z11h_whq1szkf2pm/T/ipykernel_46519/2289506022.py:5: PerformanceWarning:\n",
      "\n",
      "DataFrame is highly fragmented.  This is usually the result of calling `frame.insert` many times, which has poor performance.  Consider joining all columns at once using pd.concat(axis=1) instead. To get a de-fragmented frame, use `newframe = frame.copy()`\n",
      "\n"
     ]
    }
   ],
   "source": [
    "segment = 'segment4'\n",
    "results = figure_positive_negative_savings(segment, community_results)\n",
    "saving_results[f'segment4_{income}_pct_bill_positive_savings_%'] = results[0]*100\n",
    "saving_results[f'segment4_{income}_pct_emission_positive_savings_%'] = results[1]*100\n",
    "saving_results[f'segment4_{income}_pct_energy_positive_savings_%'] = results[2]*100"
   ]
  },
  {
   "cell_type": "markdown",
   "id": "45f2fa39",
   "metadata": {},
   "source": [
    "## 3.6. Average Energy Burden (%) Before and after Upgrade"
   ]
  },
  {
   "cell_type": "code",
   "execution_count": 53,
   "id": "9b9fbe35",
   "metadata": {},
   "outputs": [
    {
     "name": "stdout",
     "output_type": "stream",
     "text": [
      "energy burden (%) before and after upgrade\n",
      "segment1\n"
     ]
    },
    {
     "name": "stderr",
     "output_type": "stream",
     "text": [
      "/var/folders/zw/lhnn73fj2250g9z11h_whq1szkf2pm/T/ipykernel_46519/3555432078.py:4: SettingWithCopyWarning:\n",
      "\n",
      "\n",
      "A value is trying to be set on a copy of a slice from a DataFrame\n",
      "\n",
      "See the caveats in the documentation: https://pandas.pydata.org/pandas-docs/stable/user_guide/indexing.html#returning-a-view-versus-a-copy\n",
      "\n",
      "/var/folders/zw/lhnn73fj2250g9z11h_whq1szkf2pm/T/ipykernel_46519/3555432078.py:5: SettingWithCopyWarning:\n",
      "\n",
      "\n",
      "A value is trying to be set on a copy of a slice from a DataFrame\n",
      "\n",
      "See the caveats in the documentation: https://pandas.pydata.org/pandas-docs/stable/user_guide/indexing.html#returning-a-view-versus-a-copy\n",
      "\n",
      "/var/folders/zw/lhnn73fj2250g9z11h_whq1szkf2pm/T/ipykernel_46519/3555432078.py:6: SettingWithCopyWarning:\n",
      "\n",
      "\n",
      "A value is trying to be set on a copy of a slice from a DataFrame.\n",
      "Try using .loc[row_indexer,col_indexer] = value instead\n",
      "\n",
      "See the caveats in the documentation: https://pandas.pydata.org/pandas-docs/stable/user_guide/indexing.html#returning-a-view-versus-a-copy\n",
      "\n",
      "/var/folders/zw/lhnn73fj2250g9z11h_whq1szkf2pm/T/ipykernel_46519/3555432078.py:7: SettingWithCopyWarning:\n",
      "\n",
      "\n",
      "A value is trying to be set on a copy of a slice from a DataFrame.\n",
      "Try using .loc[row_indexer,col_indexer] = value instead\n",
      "\n",
      "See the caveats in the documentation: https://pandas.pydata.org/pandas-docs/stable/user_guide/indexing.html#returning-a-view-versus-a-copy\n",
      "\n"
     ]
    },
    {
     "data": {
      "text/html": [
       "<div>\n",
       "<style scoped>\n",
       "    .dataframe tbody tr th:only-of-type {\n",
       "        vertical-align: middle;\n",
       "    }\n",
       "\n",
       "    .dataframe tbody tr th {\n",
       "        vertical-align: top;\n",
       "    }\n",
       "\n",
       "    .dataframe thead th {\n",
       "        text-align: right;\n",
       "    }\n",
       "</style>\n",
       "<table border=\"1\" class=\"dataframe\">\n",
       "  <thead>\n",
       "    <tr style=\"text-align: right;\">\n",
       "      <th></th>\n",
       "      <th>before</th>\n",
       "      <th>after</th>\n",
       "    </tr>\n",
       "    <tr>\n",
       "      <th>upgrade_name</th>\n",
       "      <th></th>\n",
       "      <th></th>\n",
       "    </tr>\n",
       "  </thead>\n",
       "  <tbody>\n",
       "    <tr>\n",
       "      <th>Enhanced Enclosure + High Efficiency Whole Home Electrification</th>\n",
       "      <td>21.1</td>\n",
       "      <td>9.7</td>\n",
       "    </tr>\n",
       "    <tr>\n",
       "      <th>Basic Enclosure + High Efficiency Whole Home Electrification</th>\n",
       "      <td>21.1</td>\n",
       "      <td>9.9</td>\n",
       "    </tr>\n",
       "    <tr>\n",
       "      <th>Enhanced Enclosure + HPWH + High Efficiency HP/Electric Backup</th>\n",
       "      <td>21.1</td>\n",
       "      <td>10.0</td>\n",
       "    </tr>\n",
       "    <tr>\n",
       "      <th>Basic Enclosure + HPWH + High Efficiency HP/Electric Backup</th>\n",
       "      <td>21.1</td>\n",
       "      <td>10.2</td>\n",
       "    </tr>\n",
       "    <tr>\n",
       "      <th>High Efficiency Whole Home Electrification</th>\n",
       "      <td>21.1</td>\n",
       "      <td>11.4</td>\n",
       "    </tr>\n",
       "    <tr>\n",
       "      <th>High Efficiency Heat Pump with Electric Heat Backup</th>\n",
       "      <td>21.1</td>\n",
       "      <td>12.9</td>\n",
       "    </tr>\n",
       "    <tr>\n",
       "      <th>Enhanced Enclosure</th>\n",
       "      <td>21.1</td>\n",
       "      <td>15.7</td>\n",
       "    </tr>\n",
       "    <tr>\n",
       "      <th>Basic Enclosure</th>\n",
       "      <td>21.1</td>\n",
       "      <td>16.5</td>\n",
       "    </tr>\n",
       "    <tr>\n",
       "      <th>Mininum Efficiency Heat Pump with Electric Heat Backup</th>\n",
       "      <td>21.1</td>\n",
       "      <td>17.2</td>\n",
       "    </tr>\n",
       "    <tr>\n",
       "      <th>Mininum Efficiency Heat Pump with Existing Heat Backup</th>\n",
       "      <td>21.1</td>\n",
       "      <td>17.3</td>\n",
       "    </tr>\n",
       "    <tr>\n",
       "      <th>Mininum Efficiency Whole Home Electrification</th>\n",
       "      <td>20.6</td>\n",
       "      <td>18.1</td>\n",
       "    </tr>\n",
       "    <tr>\n",
       "      <th>Heat Pump Water Heater</th>\n",
       "      <td>21.1</td>\n",
       "      <td>20.2</td>\n",
       "    </tr>\n",
       "    <tr>\n",
       "      <th>Heat Pump Clothes Dryer</th>\n",
       "      <td>20.7</td>\n",
       "      <td>20.5</td>\n",
       "    </tr>\n",
       "    <tr>\n",
       "      <th>Induction Cooking</th>\n",
       "      <td>21.5</td>\n",
       "      <td>21.4</td>\n",
       "    </tr>\n",
       "    <tr>\n",
       "      <th>Electric Cooking</th>\n",
       "      <td>19.1</td>\n",
       "      <td>19.1</td>\n",
       "    </tr>\n",
       "    <tr>\n",
       "      <th>Electric Clothes Dryer</th>\n",
       "      <td>18.0</td>\n",
       "      <td>18.2</td>\n",
       "    </tr>\n",
       "  </tbody>\n",
       "</table>\n",
       "</div>"
      ],
      "text/plain": [
       "                                                    before  after\n",
       "upgrade_name                                                     \n",
       "Enhanced Enclosure + High Efficiency Whole Home...    21.1    9.7\n",
       "Basic Enclosure + High Efficiency Whole Home El...    21.1    9.9\n",
       "Enhanced Enclosure + HPWH + High Efficiency HP/...    21.1   10.0\n",
       "Basic Enclosure + HPWH + High Efficiency HP/Ele...    21.1   10.2\n",
       "High Efficiency Whole Home Electrification            21.1   11.4\n",
       "High Efficiency Heat Pump with Electric Heat Ba...    21.1   12.9\n",
       "Enhanced Enclosure                                    21.1   15.7\n",
       "Basic Enclosure                                       21.1   16.5\n",
       "Mininum Efficiency Heat Pump with Electric Heat...    21.1   17.2\n",
       "Mininum Efficiency Heat Pump with Existing Heat...    21.1   17.3\n",
       "Mininum Efficiency Whole Home Electrification         20.6   18.1\n",
       "Heat Pump Water Heater                                21.1   20.2\n",
       "Heat Pump Clothes Dryer                               20.7   20.5\n",
       "Induction Cooking                                     21.5   21.4\n",
       "Electric Cooking                                      19.1   19.1\n",
       "Electric Clothes Dryer                                18.0   18.2"
      ]
     },
     "metadata": {},
     "output_type": "display_data"
    },
    {
     "name": "stdout",
     "output_type": "stream",
     "text": [
      "segment2\n"
     ]
    },
    {
     "data": {
      "text/html": [
       "<div>\n",
       "<style scoped>\n",
       "    .dataframe tbody tr th:only-of-type {\n",
       "        vertical-align: middle;\n",
       "    }\n",
       "\n",
       "    .dataframe tbody tr th {\n",
       "        vertical-align: top;\n",
       "    }\n",
       "\n",
       "    .dataframe thead th {\n",
       "        text-align: right;\n",
       "    }\n",
       "</style>\n",
       "<table border=\"1\" class=\"dataframe\">\n",
       "  <thead>\n",
       "    <tr style=\"text-align: right;\">\n",
       "      <th></th>\n",
       "      <th>before</th>\n",
       "      <th>after</th>\n",
       "    </tr>\n",
       "    <tr>\n",
       "      <th>upgrade_name</th>\n",
       "      <th></th>\n",
       "      <th></th>\n",
       "    </tr>\n",
       "  </thead>\n",
       "  <tbody>\n",
       "    <tr>\n",
       "      <th>Enhanced Enclosure + High Efficiency Whole Home Electrification</th>\n",
       "      <td>15.1</td>\n",
       "      <td>8.5</td>\n",
       "    </tr>\n",
       "    <tr>\n",
       "      <th>Basic Enclosure + High Efficiency Whole Home Electrification</th>\n",
       "      <td>15.1</td>\n",
       "      <td>8.6</td>\n",
       "    </tr>\n",
       "    <tr>\n",
       "      <th>Enhanced Enclosure + HPWH + High Efficiency HP/Electric Backup</th>\n",
       "      <td>15.1</td>\n",
       "      <td>8.8</td>\n",
       "    </tr>\n",
       "    <tr>\n",
       "      <th>Basic Enclosure + HPWH + High Efficiency HP/Electric Backup</th>\n",
       "      <td>15.1</td>\n",
       "      <td>8.8</td>\n",
       "    </tr>\n",
       "    <tr>\n",
       "      <th>High Efficiency Whole Home Electrification</th>\n",
       "      <td>15.1</td>\n",
       "      <td>9.1</td>\n",
       "    </tr>\n",
       "    <tr>\n",
       "      <th>High Efficiency Heat Pump with Electric Heat Backup</th>\n",
       "      <td>15.1</td>\n",
       "      <td>10.9</td>\n",
       "    </tr>\n",
       "    <tr>\n",
       "      <th>Mininum Efficiency Heat Pump with Existing Heat Backup</th>\n",
       "      <td>15.4</td>\n",
       "      <td>13.5</td>\n",
       "    </tr>\n",
       "    <tr>\n",
       "      <th>Mininum Efficiency Heat Pump with Electric Heat Backup</th>\n",
       "      <td>15.1</td>\n",
       "      <td>13.2</td>\n",
       "    </tr>\n",
       "    <tr>\n",
       "      <th>Enhanced Enclosure</th>\n",
       "      <td>15.1</td>\n",
       "      <td>13.4</td>\n",
       "    </tr>\n",
       "    <tr>\n",
       "      <th>Basic Enclosure</th>\n",
       "      <td>15.3</td>\n",
       "      <td>13.8</td>\n",
       "    </tr>\n",
       "    <tr>\n",
       "      <th>Heat Pump Water Heater</th>\n",
       "      <td>14.6</td>\n",
       "      <td>13.4</td>\n",
       "    </tr>\n",
       "    <tr>\n",
       "      <th>Heat Pump Clothes Dryer</th>\n",
       "      <td>13.3</td>\n",
       "      <td>13.0</td>\n",
       "    </tr>\n",
       "    <tr>\n",
       "      <th>Mininum Efficiency Whole Home Electrification</th>\n",
       "      <td>8.7</td>\n",
       "      <td>8.7</td>\n",
       "    </tr>\n",
       "    <tr>\n",
       "      <th>Induction Cooking</th>\n",
       "      <td>14.9</td>\n",
       "      <td>14.9</td>\n",
       "    </tr>\n",
       "    <tr>\n",
       "      <th>Electric Clothes Dryer</th>\n",
       "      <td>5.8</td>\n",
       "      <td>5.9</td>\n",
       "    </tr>\n",
       "    <tr>\n",
       "      <th>Electric Cooking</th>\n",
       "      <td>10.5</td>\n",
       "      <td>10.7</td>\n",
       "    </tr>\n",
       "  </tbody>\n",
       "</table>\n",
       "</div>"
      ],
      "text/plain": [
       "                                                    before  after\n",
       "upgrade_name                                                     \n",
       "Enhanced Enclosure + High Efficiency Whole Home...    15.1    8.5\n",
       "Basic Enclosure + High Efficiency Whole Home El...    15.1    8.6\n",
       "Enhanced Enclosure + HPWH + High Efficiency HP/...    15.1    8.8\n",
       "Basic Enclosure + HPWH + High Efficiency HP/Ele...    15.1    8.8\n",
       "High Efficiency Whole Home Electrification            15.1    9.1\n",
       "High Efficiency Heat Pump with Electric Heat Ba...    15.1   10.9\n",
       "Mininum Efficiency Heat Pump with Existing Heat...    15.4   13.5\n",
       "Mininum Efficiency Heat Pump with Electric Heat...    15.1   13.2\n",
       "Enhanced Enclosure                                    15.1   13.4\n",
       "Basic Enclosure                                       15.3   13.8\n",
       "Heat Pump Water Heater                                14.6   13.4\n",
       "Heat Pump Clothes Dryer                               13.3   13.0\n",
       "Mininum Efficiency Whole Home Electrification          8.7    8.7\n",
       "Induction Cooking                                     14.9   14.9\n",
       "Electric Clothes Dryer                                 5.8    5.9\n",
       "Electric Cooking                                      10.5   10.7"
      ]
     },
     "metadata": {},
     "output_type": "display_data"
    },
    {
     "name": "stdout",
     "output_type": "stream",
     "text": [
      "segment3\n"
     ]
    },
    {
     "data": {
      "text/html": [
       "<div>\n",
       "<style scoped>\n",
       "    .dataframe tbody tr th:only-of-type {\n",
       "        vertical-align: middle;\n",
       "    }\n",
       "\n",
       "    .dataframe tbody tr th {\n",
       "        vertical-align: top;\n",
       "    }\n",
       "\n",
       "    .dataframe thead th {\n",
       "        text-align: right;\n",
       "    }\n",
       "</style>\n",
       "<table border=\"1\" class=\"dataframe\">\n",
       "  <thead>\n",
       "    <tr style=\"text-align: right;\">\n",
       "      <th></th>\n",
       "      <th>before</th>\n",
       "      <th>after</th>\n",
       "    </tr>\n",
       "    <tr>\n",
       "      <th>upgrade_name</th>\n",
       "      <th></th>\n",
       "      <th></th>\n",
       "    </tr>\n",
       "  </thead>\n",
       "  <tbody>\n",
       "    <tr>\n",
       "      <th>Enhanced Enclosure + High Efficiency Whole Home Electrification</th>\n",
       "      <td>24.7</td>\n",
       "      <td>13.8</td>\n",
       "    </tr>\n",
       "    <tr>\n",
       "      <th>Basic Enclosure + High Efficiency Whole Home Electrification</th>\n",
       "      <td>24.7</td>\n",
       "      <td>13.9</td>\n",
       "    </tr>\n",
       "    <tr>\n",
       "      <th>Enhanced Enclosure + HPWH + High Efficiency HP/Electric Backup</th>\n",
       "      <td>24.7</td>\n",
       "      <td>14.2</td>\n",
       "    </tr>\n",
       "    <tr>\n",
       "      <th>Basic Enclosure + HPWH + High Efficiency HP/Electric Backup</th>\n",
       "      <td>24.7</td>\n",
       "      <td>14.3</td>\n",
       "    </tr>\n",
       "    <tr>\n",
       "      <th>High Efficiency Whole Home Electrification</th>\n",
       "      <td>24.7</td>\n",
       "      <td>14.4</td>\n",
       "    </tr>\n",
       "    <tr>\n",
       "      <th>High Efficiency Heat Pump with Electric Heat Backup</th>\n",
       "      <td>24.7</td>\n",
       "      <td>17.2</td>\n",
       "    </tr>\n",
       "    <tr>\n",
       "      <th>Mininum Efficiency Heat Pump with Electric Heat Backup</th>\n",
       "      <td>24.7</td>\n",
       "      <td>20.8</td>\n",
       "    </tr>\n",
       "    <tr>\n",
       "      <th>Mininum Efficiency Heat Pump with Existing Heat Backup</th>\n",
       "      <td>24.7</td>\n",
       "      <td>20.9</td>\n",
       "    </tr>\n",
       "    <tr>\n",
       "      <th>Enhanced Enclosure</th>\n",
       "      <td>24.8</td>\n",
       "      <td>22.4</td>\n",
       "    </tr>\n",
       "    <tr>\n",
       "      <th>Basic Enclosure</th>\n",
       "      <td>24.8</td>\n",
       "      <td>22.9</td>\n",
       "    </tr>\n",
       "    <tr>\n",
       "      <th>Heat Pump Water Heater</th>\n",
       "      <td>24.8</td>\n",
       "      <td>23.1</td>\n",
       "    </tr>\n",
       "    <tr>\n",
       "      <th>Mininum Efficiency Whole Home Electrification</th>\n",
       "      <td>24.9</td>\n",
       "      <td>24.0</td>\n",
       "    </tr>\n",
       "    <tr>\n",
       "      <th>Heat Pump Clothes Dryer</th>\n",
       "      <td>26.1</td>\n",
       "      <td>25.7</td>\n",
       "    </tr>\n",
       "    <tr>\n",
       "      <th>Induction Cooking</th>\n",
       "      <td>24.7</td>\n",
       "      <td>24.7</td>\n",
       "    </tr>\n",
       "    <tr>\n",
       "      <th>Electric Cooking</th>\n",
       "      <td>41.4</td>\n",
       "      <td>41.5</td>\n",
       "    </tr>\n",
       "  </tbody>\n",
       "</table>\n",
       "</div>"
      ],
      "text/plain": [
       "                                                    before  after\n",
       "upgrade_name                                                     \n",
       "Enhanced Enclosure + High Efficiency Whole Home...    24.7   13.8\n",
       "Basic Enclosure + High Efficiency Whole Home El...    24.7   13.9\n",
       "Enhanced Enclosure + HPWH + High Efficiency HP/...    24.7   14.2\n",
       "Basic Enclosure + HPWH + High Efficiency HP/Ele...    24.7   14.3\n",
       "High Efficiency Whole Home Electrification            24.7   14.4\n",
       "High Efficiency Heat Pump with Electric Heat Ba...    24.7   17.2\n",
       "Mininum Efficiency Heat Pump with Electric Heat...    24.7   20.8\n",
       "Mininum Efficiency Heat Pump with Existing Heat...    24.7   20.9\n",
       "Enhanced Enclosure                                    24.8   22.4\n",
       "Basic Enclosure                                       24.8   22.9\n",
       "Heat Pump Water Heater                                24.8   23.1\n",
       "Mininum Efficiency Whole Home Electrification         24.9   24.0\n",
       "Heat Pump Clothes Dryer                               26.1   25.7\n",
       "Induction Cooking                                     24.7   24.7\n",
       "Electric Cooking                                      41.4   41.5"
      ]
     },
     "metadata": {},
     "output_type": "display_data"
    },
    {
     "name": "stdout",
     "output_type": "stream",
     "text": [
      "segment4\n"
     ]
    },
    {
     "data": {
      "text/html": [
       "<div>\n",
       "<style scoped>\n",
       "    .dataframe tbody tr th:only-of-type {\n",
       "        vertical-align: middle;\n",
       "    }\n",
       "\n",
       "    .dataframe tbody tr th {\n",
       "        vertical-align: top;\n",
       "    }\n",
       "\n",
       "    .dataframe thead th {\n",
       "        text-align: right;\n",
       "    }\n",
       "</style>\n",
       "<table border=\"1\" class=\"dataframe\">\n",
       "  <thead>\n",
       "    <tr style=\"text-align: right;\">\n",
       "      <th></th>\n",
       "      <th>before</th>\n",
       "      <th>after</th>\n",
       "    </tr>\n",
       "    <tr>\n",
       "      <th>upgrade_name</th>\n",
       "      <th></th>\n",
       "      <th></th>\n",
       "    </tr>\n",
       "  </thead>\n",
       "  <tbody>\n",
       "    <tr>\n",
       "      <th>Enhanced Enclosure + High Efficiency Whole Home Electrification</th>\n",
       "      <td>12.5</td>\n",
       "      <td>7.6</td>\n",
       "    </tr>\n",
       "    <tr>\n",
       "      <th>Basic Enclosure + High Efficiency Whole Home Electrification</th>\n",
       "      <td>12.5</td>\n",
       "      <td>7.7</td>\n",
       "    </tr>\n",
       "    <tr>\n",
       "      <th>Enhanced Enclosure + HPWH + High Efficiency HP/Electric Backup</th>\n",
       "      <td>12.5</td>\n",
       "      <td>7.8</td>\n",
       "    </tr>\n",
       "    <tr>\n",
       "      <th>Basic Enclosure + HPWH + High Efficiency HP/Electric Backup</th>\n",
       "      <td>12.5</td>\n",
       "      <td>8.0</td>\n",
       "    </tr>\n",
       "    <tr>\n",
       "      <th>High Efficiency Whole Home Electrification</th>\n",
       "      <td>12.5</td>\n",
       "      <td>8.0</td>\n",
       "    </tr>\n",
       "    <tr>\n",
       "      <th>High Efficiency Heat Pump with Electric Heat Backup</th>\n",
       "      <td>12.5</td>\n",
       "      <td>9.7</td>\n",
       "    </tr>\n",
       "    <tr>\n",
       "      <th>Heat Pump Water Heater</th>\n",
       "      <td>12.5</td>\n",
       "      <td>11.3</td>\n",
       "    </tr>\n",
       "    <tr>\n",
       "      <th>Enhanced Enclosure</th>\n",
       "      <td>12.5</td>\n",
       "      <td>11.5</td>\n",
       "    </tr>\n",
       "    <tr>\n",
       "      <th>Mininum Efficiency Heat Pump with Existing Heat Backup</th>\n",
       "      <td>12.7</td>\n",
       "      <td>11.7</td>\n",
       "    </tr>\n",
       "    <tr>\n",
       "      <th>Mininum Efficiency Heat Pump with Electric Heat Backup</th>\n",
       "      <td>12.5</td>\n",
       "      <td>11.4</td>\n",
       "    </tr>\n",
       "    <tr>\n",
       "      <th>Basic Enclosure</th>\n",
       "      <td>12.0</td>\n",
       "      <td>11.2</td>\n",
       "    </tr>\n",
       "    <tr>\n",
       "      <th>Heat Pump Clothes Dryer</th>\n",
       "      <td>13.6</td>\n",
       "      <td>13.3</td>\n",
       "    </tr>\n",
       "    <tr>\n",
       "      <th>Mininum Efficiency Whole Home Electrification</th>\n",
       "      <td>7.7</td>\n",
       "      <td>7.6</td>\n",
       "    </tr>\n",
       "    <tr>\n",
       "      <th>Induction Cooking</th>\n",
       "      <td>12.6</td>\n",
       "      <td>12.5</td>\n",
       "    </tr>\n",
       "    <tr>\n",
       "      <th>Electric Cooking</th>\n",
       "      <td>6.1</td>\n",
       "      <td>6.1</td>\n",
       "    </tr>\n",
       "    <tr>\n",
       "      <th>Electric Clothes Dryer</th>\n",
       "      <td>16.4</td>\n",
       "      <td>17.1</td>\n",
       "    </tr>\n",
       "  </tbody>\n",
       "</table>\n",
       "</div>"
      ],
      "text/plain": [
       "                                                    before  after\n",
       "upgrade_name                                                     \n",
       "Enhanced Enclosure + High Efficiency Whole Home...    12.5    7.6\n",
       "Basic Enclosure + High Efficiency Whole Home El...    12.5    7.7\n",
       "Enhanced Enclosure + HPWH + High Efficiency HP/...    12.5    7.8\n",
       "Basic Enclosure + HPWH + High Efficiency HP/Ele...    12.5    8.0\n",
       "High Efficiency Whole Home Electrification            12.5    8.0\n",
       "High Efficiency Heat Pump with Electric Heat Ba...    12.5    9.7\n",
       "Heat Pump Water Heater                                12.5   11.3\n",
       "Enhanced Enclosure                                    12.5   11.5\n",
       "Mininum Efficiency Heat Pump with Existing Heat...    12.7   11.7\n",
       "Mininum Efficiency Heat Pump with Electric Heat...    12.5   11.4\n",
       "Basic Enclosure                                       12.0   11.2\n",
       "Heat Pump Clothes Dryer                               13.6   13.3\n",
       "Mininum Efficiency Whole Home Electrification          7.7    7.6\n",
       "Induction Cooking                                     12.6   12.5\n",
       "Electric Cooking                                       6.1    6.1\n",
       "Electric Clothes Dryer                                16.4   17.1"
      ]
     },
     "metadata": {},
     "output_type": "display_data"
    },
    {
     "name": "stderr",
     "output_type": "stream",
     "text": [
      "/var/folders/zw/lhnn73fj2250g9z11h_whq1szkf2pm/T/ipykernel_46519/2330438264.py:2: PerformanceWarning:\n",
      "\n",
      "DataFrame is highly fragmented.  This is usually the result of calling `frame.insert` many times, which has poor performance.  Consider joining all columns at once using pd.concat(axis=1) instead. To get a de-fragmented frame, use `newframe = frame.copy()`\n",
      "\n",
      "/var/folders/zw/lhnn73fj2250g9z11h_whq1szkf2pm/T/ipykernel_46519/2330438264.py:2: PerformanceWarning:\n",
      "\n",
      "DataFrame is highly fragmented.  This is usually the result of calling `frame.insert` many times, which has poor performance.  Consider joining all columns at once using pd.concat(axis=1) instead. To get a de-fragmented frame, use `newframe = frame.copy()`\n",
      "\n",
      "/var/folders/zw/lhnn73fj2250g9z11h_whq1szkf2pm/T/ipykernel_46519/2330438264.py:3: PerformanceWarning:\n",
      "\n",
      "DataFrame is highly fragmented.  This is usually the result of calling `frame.insert` many times, which has poor performance.  Consider joining all columns at once using pd.concat(axis=1) instead. To get a de-fragmented frame, use `newframe = frame.copy()`\n",
      "\n",
      "/var/folders/zw/lhnn73fj2250g9z11h_whq1szkf2pm/T/ipykernel_46519/2330438264.py:3: PerformanceWarning:\n",
      "\n",
      "DataFrame is highly fragmented.  This is usually the result of calling `frame.insert` many times, which has poor performance.  Consider joining all columns at once using pd.concat(axis=1) instead. To get a de-fragmented frame, use `newframe = frame.copy()`\n",
      "\n",
      "/var/folders/zw/lhnn73fj2250g9z11h_whq1szkf2pm/T/ipykernel_46519/2330438264.py:4: PerformanceWarning:\n",
      "\n",
      "DataFrame is highly fragmented.  This is usually the result of calling `frame.insert` many times, which has poor performance.  Consider joining all columns at once using pd.concat(axis=1) instead. To get a de-fragmented frame, use `newframe = frame.copy()`\n",
      "\n",
      "/var/folders/zw/lhnn73fj2250g9z11h_whq1szkf2pm/T/ipykernel_46519/2330438264.py:4: PerformanceWarning:\n",
      "\n",
      "DataFrame is highly fragmented.  This is usually the result of calling `frame.insert` many times, which has poor performance.  Consider joining all columns at once using pd.concat(axis=1) instead. To get a de-fragmented frame, use `newframe = frame.copy()`\n",
      "\n",
      "/var/folders/zw/lhnn73fj2250g9z11h_whq1szkf2pm/T/ipykernel_46519/2330438264.py:5: PerformanceWarning:\n",
      "\n",
      "DataFrame is highly fragmented.  This is usually the result of calling `frame.insert` many times, which has poor performance.  Consider joining all columns at once using pd.concat(axis=1) instead. To get a de-fragmented frame, use `newframe = frame.copy()`\n",
      "\n",
      "/var/folders/zw/lhnn73fj2250g9z11h_whq1szkf2pm/T/ipykernel_46519/2330438264.py:5: PerformanceWarning:\n",
      "\n",
      "DataFrame is highly fragmented.  This is usually the result of calling `frame.insert` many times, which has poor performance.  Consider joining all columns at once using pd.concat(axis=1) instead. To get a de-fragmented frame, use `newframe = frame.copy()`\n",
      "\n"
     ]
    }
   ],
   "source": [
    "results = segment_mean_energy_burden('post-upgrade_energy_burden_2023_cbills.%', community_results) \n",
    "saving_results[[f'segment1_{income}_energy_burden_before_upgrade_%',f'segment1_{income}_energy_burden_after_upgrade_%']] = results[0]\n",
    "saving_results[[f'segment2_{income}_energy_burden_before_upgrade_%',f'segment2_{income}_energy_burden_after_upgrade_%']] = results[1]\n",
    "saving_results[[f'segment3_{income}_energy_burden_before_upgrade_%',f'segment3_{income}_energy_burden_after_upgrade_%']] = results[2]\n",
    "saving_results[[f'segment4_{income}_energy_burden_before_upgrade_%',f'segment4_{income}_energy_burden_after_upgrade_%']] = results[3]"
   ]
  },
  {
   "cell_type": "code",
   "execution_count": 54,
   "id": "45f4b53f",
   "metadata": {},
   "outputs": [],
   "source": [
    "saving_results.to_csv(fig_dir / f'saving_results_{community}.csv')"
   ]
  },
  {
   "cell_type": "code",
   "execution_count": null,
   "id": "442ef0c6",
   "metadata": {},
   "outputs": [],
   "source": []
  }
 ],
 "metadata": {
  "kernelspec": {
   "display_name": "Python 3 (ipykernel)",
   "language": "python",
   "name": "python3"
  },
  "language_info": {
   "codemirror_mode": {
    "name": "ipython",
    "version": 3
   },
   "file_extension": ".py",
   "mimetype": "text/x-python",
   "name": "python",
   "nbconvert_exporter": "python",
   "pygments_lexer": "ipython3",
   "version": "3.9.16"
  }
 },
 "nbformat": 4,
 "nbformat_minor": 5
}
