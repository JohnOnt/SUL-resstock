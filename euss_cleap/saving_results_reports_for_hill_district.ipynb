{
 "cells": [
  {
   "cell_type": "code",
   "execution_count": 22,
   "id": "db22b178",
   "metadata": {},
   "outputs": [],
   "source": [
    "import plotly.graph_objects as go\n",
    "from plotly.subplots import make_subplots\n",
    "import plotly.express as px\n",
    "import pandas as pd\n",
    "import numpy as np\n",
    "from pathlib import Path"
   ]
  },
  {
   "cell_type": "markdown",
   "id": "4d6ffd8b",
   "metadata": {},
   "source": [
    "# Functions"
   ]
  },
  {
   "cell_type": "code",
   "execution_count": 23,
   "id": "76ff23a4",
   "metadata": {},
   "outputs": [],
   "source": [
    "def weighted_mean(x, metric: str):\n",
    "    if len(x[metric].dropna()) == 0:\n",
    "        res = 0\n",
    "    else:\n",
    "        res = (x[metric] * x[\"sample_weight\"]).sum()/x[\"sample_weight\"].sum()\n",
    "    col_name = f\"{metric} wt_mean\"\n",
    "    return pd.Series({col_name: res})\n",
    "\n",
    "def weighted_percentile(x, metric: str, percents: int):\n",
    "    col_name = f\"{metric} wt_p{percents}\"\n",
    "    res = _weighted_percentile(x[metric], percents, weights=x[\"sample_weight\"])\n",
    "    return pd.Series({col_name: res})\n",
    "\n",
    "def _weighted_percentile(data, percents: int, weights=None):\n",
    "    \"\"\"\n",
    "    perc : percentile in 0 - 1\n",
    "    \"\"\"\n",
    "    # dropna\n",
    "    idx = ~np.isnan(data) & ~np.isnan(weights)\n",
    "    data = np.array(data)[idx]\n",
    "    if len(data) == 0:\n",
    "        return np.nan\n",
    "    if weights is None:\n",
    "        return np.percentile(data, percents)\n",
    "    weights = np.array(weights)[idx]\n",
    "    ix = np.argsort(data)\n",
    "    data = data[ix] # sort data\n",
    "    weights = weights[ix] # sort weights\n",
    "    cdf = (np.cumsum(weights) - 0.5 * weights) / np.sum(weights) # 'like' a CDF function\n",
    "    return np.interp(percents, cdf, data)\n",
    "\n",
    "def get_summary(df, metric, lower_percentile=0.25, upper_percentile=0.75):\n",
    "    dfgb = df.groupby([\"upgrade_name\"])\n",
    "    dfs = pd.concat([\n",
    "        dfgb[\"sample_weight\"].count().rename(\"n_samples\"),\n",
    "        dfgb[\"sample_weight\"].sum().rename(\"n_represented\"),\n",
    "        dfgb.apply(lambda x: weighted_mean(x, metric)),\n",
    "        dfgb.apply(lambda x: weighted_percentile(x, metric, percents=lower_percentile)),\n",
    "        dfgb.apply(lambda x: weighted_percentile(x, metric, percents=upper_percentile)),\n",
    "    ], axis=1)\n",
    "    dfs = dfs.sort_values(by=f\"{metric} wt_mean\", ascending=False)\n",
    "\n",
    "    return dfs"
   ]
  },
  {
   "cell_type": "markdown",
   "id": "e2c92a98",
   "metadata": {},
   "source": [
    "## Whole Community Upgrade Cost Per Dwelling Unit"
   ]
  },
  {
   "cell_type": "code",
   "execution_count": 24,
   "id": "db8bfb6a",
   "metadata": {},
   "outputs": [],
   "source": [
    "def community_mean_upgrade_cost(commnity_results):\n",
    "    results = commnity_results[['upgrade_name',\n",
    "                       'upgrade_cost_usd',\n",
    "                                'sample_weight']]\n",
    "    results = results.loc[results['upgrade_name'] != 'baseline']\n",
    "    results['upgrade_cost_usd'] = results['upgrade_cost_usd']*results['sample_weight']\n",
    "    \n",
    "    agg_functions = {'upgrade_name': 'first',\n",
    "                     'upgrade_cost_usd': 'sum',\n",
    "                    'sample_weight': 'sum'}\n",
    "    results = results.groupby(results['upgrade_name']).aggregate(agg_functions)\n",
    "    results['upgrade_cost_usd'] = results['upgrade_cost_usd']/results['sample_weight']\n",
    "    results = results.sort_values('upgrade_cost_usd')\n",
    "    results['upgrade_cost_usd'] = results['upgrade_cost_usd'].round(1) \n",
    "    \n",
    "    print('upgrade_cost_usd per dwelling unit')\n",
    "    display(results['upgrade_cost_usd'])\n",
    "    return results['upgrade_cost_usd']"
   ]
  },
  {
   "cell_type": "markdown",
   "id": "0a8130e7",
   "metadata": {},
   "source": [
    "## Whole Community Total Annual Savings"
   ]
  },
  {
   "cell_type": "code",
   "execution_count": 25,
   "id": "eaa95d01",
   "metadata": {},
   "outputs": [],
   "source": [
    "# flavor 1 - with electricity and non-electricity split\n",
    "def figure_total_savings_1(commnity_results):\n",
    "    results = commnity_results[['upgrade_name',\n",
    "                       'saving_energy.electricity_kwh',\n",
    "                      'saving_energy.natural_gas_therm',\n",
    "                                'saving_energy.fuel_oil_mmbtu',\n",
    "                                'saving_energy.propane_mmbtu',\n",
    "                       'saving_cbill.total_usd',\n",
    "                       'saving_emission.total_kgCO2e',\n",
    "                                'sample_weight']]\n",
    "    results = results.loc[results['upgrade_name'] != 'baseline']\n",
    "    results['saving_energy.natural_gas_fuel_oil_propane_mmbtu'] = results['saving_energy.natural_gas_therm']*0.1 + results['saving_energy.fuel_oil_mmbtu']+ results['saving_energy.propane_mmbtu']\n",
    "    results['saving_energy.electricity_kwh'] = results['saving_energy.electricity_kwh']*results['sample_weight']\n",
    "    results['saving_energy.natural_gas_fuel_oil_propane_mmbtu'] = results['saving_energy.natural_gas_fuel_oil_propane_mmbtu']*results['sample_weight']\n",
    "    results['saving_cbill.total_usd'] = results['saving_cbill.total_usd']*results['sample_weight']\n",
    "    results['saving_emission.total_kgCO2e'] = results['saving_emission.total_kgCO2e']*results['sample_weight']\n",
    "    \n",
    "    agg_functions = {'upgrade_name': 'first',\n",
    "                     'saving_energy.electricity_kwh': 'sum',\n",
    "                     'saving_energy.natural_gas_fuel_oil_propane_mmbtu': 'sum', \n",
    "                     'saving_cbill.total_usd': 'sum',\n",
    "                     'saving_emission.total_kgCO2e': 'sum'}\n",
    "    results = results.groupby(results['upgrade_name']).aggregate(agg_functions)\n",
    "    results = results.sort_values('saving_cbill.total_usd')\n",
    "    \n",
    "    fig = make_subplots(rows=1, cols=5, horizontal_spacing=0.12, column_widths=[0.001, 1, 1, 1, 1])\n",
    "    \n",
    "    fig.add_trace(go.Bar(\n",
    "        x=[0] * 176,\n",
    "        y=results['upgrade_name'],\n",
    "        text=None,\n",
    "        orientation='h'), row=1, col=1)\n",
    "    \n",
    "    fig.add_trace(go.Bar(\n",
    "        x=results['saving_cbill.total_usd'],\n",
    "        y=results['upgrade_name'],\n",
    "        text=results['saving_cbill.total_usd'],\n",
    "        orientation='h'), row=1, col=2)\n",
    "    \n",
    "    fig.add_trace(go.Bar(\n",
    "        x=results['saving_emission.total_kgCO2e'],\n",
    "        y=results['upgrade_name'],\n",
    "        text=results['saving_emission.total_kgCO2e'],\n",
    "        orientation='h'),row=1, col=3)\n",
    "    \n",
    "    fig.add_trace(go.Bar(\n",
    "        x=results['saving_energy.electricity_kwh'],\n",
    "        y=results['upgrade_name'],\n",
    "        text=results['saving_energy.electricity_kwh'],\n",
    "        orientation='h'),row=1, col=4)\n",
    "    \n",
    "    fig.add_trace(go.Bar(\n",
    "        x=results['saving_energy.natural_gas_fuel_oil_propane_mmbtu'],\n",
    "        y=results['upgrade_name'],\n",
    "        text=results['saving_energy.natural_gas_fuel_oil_propane_mmbtu'],\n",
    "        orientation='h'),row=1, col=5)\n",
    "\n",
    "    fig.update_traces(textfont_size=10, textangle=0, textposition=\"outside\", cliponaxis=False)\n",
    "    fig.update_traces(marker_color='rgb(0, 121, 61)', marker_line_color='rgb(0, 121, 61)')\n",
    "    fig.update_traces(marker_color='rgb(255, 255, 255)', marker_line_color='rgb(255, 255, 255)',row=1,col=1)\n",
    "    fig.update_traces(texttemplate='%{text:.3s}', textposition='outside',row=1,col=2)\n",
    "    fig.update_traces(texttemplate='%{text:.3s}', textposition='outside',row=1,col=3)\n",
    "    fig.update_traces(texttemplate='%{text:.3s}', textposition='outside',row=1,col=4)\n",
    "    fig.update_traces(texttemplate='%{text:.3s}', textposition='outside',row=1,col=5)\n",
    "    fig.update_layout(xaxis_title=\"\", xaxis_visible=False, yaxis_visible=True,\n",
    "                      xaxis2_title=\"Bill<br>Savings<br>usd\", xaxis2_visible=True, yaxis2_visible=False,\n",
    "                      xaxis3_title=\"Emission<br>Savings<br>kgCO2e\", xaxis3_visible=True, yaxis3_visible=False,\n",
    "                      xaxis4_title=\"Electricity<br>Savings<br>kwh\", xaxis4_visible=True, yaxis4_visible=False,\n",
    "                      xaxis5_title=\"Gas, Propane,<br>Fuel Oil Savings<br>mmbtu\", xaxis5_visible=True, yaxis5_visible=False,\n",
    "                     title='Total Annual Savings for the Whole Community')\n",
    "    fig.update_layout(\n",
    "    autosize=False,\n",
    "    width=900,\n",
    "    height=500,\n",
    "    font=dict(size=10),\n",
    "    plot_bgcolor='rgba(0, 0, 0, 0)',)\n",
    "    fig.update_xaxes(tickangle=45)\n",
    "    fig.update_layout(showlegend=False)\n",
    "    \n",
    "    fig.show()\n",
    "    fig.write_image(fig_dir / 'total_annual_savings_1.svg')    \n",
    "\n",
    "# flavor 2 - site, electricity, and non-electricity\n",
    "def figure_total_savings_2(commnity_results):\n",
    "    results = commnity_results[[\n",
    "        'upgrade_name',\n",
    "        'saving_energy.total_mmbtu',\n",
    "        'saving_energy.electricity_kwh',\n",
    "        'saving_energy.natural_gas_therm',\n",
    "        'saving_energy.fuel_oil_mmbtu',\n",
    "        'saving_energy.propane_mmbtu',\n",
    "        'saving_cbill.total_usd',\n",
    "        'saving_emission.total_kgCO2e',\n",
    "        'sample_weight']]\n",
    "    results = results.loc[results['upgrade_name'] != 'baseline']\n",
    "    results['saving_energy.natural_gas_fuel_oil_propane_mmbtu'] = results['saving_energy.natural_gas_therm']*0.1 + results['saving_energy.fuel_oil_mmbtu']+ results['saving_energy.propane_mmbtu']\n",
    "    results['saving_energy.electricity_kwh'] = results['saving_energy.electricity_kwh']*results['sample_weight']\n",
    "    results['saving_energy.natural_gas_fuel_oil_propane_mmbtu'] = results['saving_energy.natural_gas_fuel_oil_propane_mmbtu']*results['sample_weight']\n",
    "    results['saving_cbill.total_usd'] = results['saving_cbill.total_usd']*results['sample_weight']\n",
    "    results['saving_emission.total_kgCO2e'] = results['saving_emission.total_kgCO2e']*results['sample_weight']\n",
    "    \n",
    "    agg_functions = {'upgrade_name': 'first',\n",
    "                     'saving_energy.electricity_kwh': 'sum',\n",
    "                     'saving_energy.natural_gas_fuel_oil_propane_mmbtu': 'sum', \n",
    "                      'saving_energy.total_mmbtu': 'sum', \n",
    "                     'saving_cbill.total_usd': 'sum',\n",
    "                     'saving_emission.total_kgCO2e': 'sum'}\n",
    "    results = results.groupby(results['upgrade_name']).aggregate(agg_functions)\n",
    "    results = results.sort_values('saving_cbill.total_usd')\n",
    "    \n",
    "    fig = make_subplots(rows=1, cols=6, horizontal_spacing=0.12, column_widths=[0.001, 1, 1, 1, 1, 1])\n",
    "    \n",
    "    fig.add_trace(go.Bar(\n",
    "        x=[0] * 176,\n",
    "        y=results['upgrade_name'],\n",
    "        text=None,\n",
    "        orientation='h'), row=1, col=1)\n",
    "    \n",
    "    fig.add_trace(go.Bar(\n",
    "        x=results['saving_cbill.total_usd'],\n",
    "        y=results['upgrade_name'],\n",
    "        text=results['saving_cbill.total_usd'],\n",
    "        orientation='h'), row=1, col=2)\n",
    "    \n",
    "    fig.add_trace(go.Bar(\n",
    "        x=results['saving_emission.total_kgCO2e'],\n",
    "        y=results['upgrade_name'],\n",
    "        text=results['saving_emission.total_kgCO2e'],\n",
    "        orientation='h'),row=1, col=3)\n",
    "\n",
    "    fig.add_trace(go.Bar(\n",
    "        x=results['saving_energy.total_mmbtu'],\n",
    "        y=results['upgrade_name'],\n",
    "        text=results['saving_energy.total_mmbtu'],\n",
    "        orientation='h'),row=1, col=4)\n",
    "    \n",
    "    fig.add_trace(go.Bar(\n",
    "        x=results['saving_energy.electricity_kwh'],\n",
    "        y=results['upgrade_name'],\n",
    "        text=results['saving_energy.electricity_kwh'],\n",
    "        orientation='h'),row=1, col=5)\n",
    "    \n",
    "    fig.add_trace(go.Bar(\n",
    "        x=results['saving_energy.natural_gas_fuel_oil_propane_mmbtu'],\n",
    "        y=results['upgrade_name'],\n",
    "        text=results['saving_energy.natural_gas_fuel_oil_propane_mmbtu'],\n",
    "        orientation='h'),row=1, col=6)\n",
    "\n",
    "    fig.update_traces(textfont_size=10, textangle=0, textposition=\"outside\", cliponaxis=False)\n",
    "    fig.update_traces(marker_color='rgb(0, 121, 61)', marker_line_color='rgb(0, 121, 61)')\n",
    "    fig.update_traces(marker_color='rgb(255, 255, 255)', marker_line_color='rgb(255, 255, 255)',row=1,col=1)\n",
    "    fig.update_traces(texttemplate='%{text:.3s}', textposition='outside',row=1,col=2)\n",
    "    fig.update_traces(texttemplate='%{text:.3s}', textposition='outside',row=1,col=3)\n",
    "    fig.update_traces(texttemplate='%{text:.3s}', textposition='outside',row=1,col=4)\n",
    "    fig.update_traces(texttemplate='%{text:.3s}', textposition='outside',row=1,col=5)\n",
    "    fig.update_traces(texttemplate='%{text:.3s}', textposition='outside',row=1,col=6)\n",
    "    fig.update_layout(xaxis_title=\"\", xaxis_visible=False, yaxis_visible=True,\n",
    "                      xaxis2_title=\"Bill<br>Savings<br>usd\", xaxis2_visible=True, yaxis2_visible=False,\n",
    "                      xaxis3_title=\"Site Emission<br>Saving<br>kgCO2e\", xaxis3_visible=True, yaxis3_visible=False,\n",
    "                      xaxis4_title=\"Site Energy<br>Saving<br>mmbtu\", xaxis4_visible=True, yaxis4_visible=False,\n",
    "                      xaxis5_title=\"Electricity<br>Saving<br>kwh\", xaxis5_visible=True, yaxis5_visible=False,\n",
    "                      xaxis6_title=\"Gas, Propane,<br>Fuel Oil Saving<br>mmbtu\", xaxis6_visible=True, yaxis6_visible=False,\n",
    "                     title='Community Total Annual Savings')\n",
    "    fig.update_layout(\n",
    "    autosize=False,\n",
    "    width=1100,\n",
    "    height=500,\n",
    "    font=dict(size=10),\n",
    "    plot_bgcolor='rgba(0, 0, 0, 0)',)\n",
    "    fig.update_xaxes(tickangle=45)\n",
    "    fig.update_layout(showlegend=False)\n",
    "    \n",
    "    fig.show()\n",
    "    fig.write_image(fig_dir / 'total_annual_savings_2.svg')\n",
    "    \n",
    "    return results[['saving_cbill.total_usd','saving_emission.total_kgCO2e','saving_energy.total_mmbtu','saving_energy.electricity_kwh','saving_energy.natural_gas_fuel_oil_propane_mmbtu']]\n",
    "\n",
    "# flavor 3 - site energy only\n",
    "def figure_total_savings_3(commnity_results):\n",
    "    results = commnity_results[[\n",
    "        'upgrade_name',\n",
    "        'saving_energy.total_mmbtu',\n",
    "        'saving_cbill.total_usd',\n",
    "        'saving_emission.total_kgCO2e',\n",
    "        'sample_weight']]\n",
    "    results = results.loc[results['upgrade_name'] != 'baseline']\n",
    "    results['saving_energy.total_mmbtu'] = results['saving_energy.total_mmbtu']*results['sample_weight']\n",
    "    results['saving_cbill.total_usd'] = results['saving_cbill.total_usd']*results['sample_weight']\n",
    "    results['saving_emission.total_kgCO2e'] = results['saving_emission.total_kgCO2e']*results['sample_weight']\n",
    "    \n",
    "    agg_functions = {'upgrade_name': 'first',\n",
    "                     'saving_energy.total_mmbtu': 'sum', \n",
    "                     'saving_cbill.total_usd': 'sum',\n",
    "                     'saving_emission.total_kgCO2e': 'sum'}\n",
    "    results = results.groupby(results['upgrade_name']).aggregate(agg_functions)\n",
    "    results = results.sort_values('saving_cbill.total_usd')\n",
    "    \n",
    "    fig = make_subplots(rows=1, cols=4, horizontal_spacing=0.1, column_widths=[0.02, 1, 1, 1])\n",
    "    \n",
    "    fig.add_trace(go.Bar(\n",
    "        x=[0] * 176,\n",
    "        y=results['upgrade_name'],\n",
    "        text=None,\n",
    "        orientation='h'), row=1, col=1)\n",
    "    \n",
    "    fig.add_trace(go.Bar(\n",
    "        x=results['saving_cbill.total_usd'],\n",
    "        y=results['upgrade_name'],\n",
    "        text=results['saving_cbill.total_usd'],\n",
    "        orientation='h'), row=1, col=2)\n",
    "    \n",
    "    fig.add_trace(go.Bar(\n",
    "        x=results['saving_emission.total_kgCO2e'],\n",
    "        y=results['upgrade_name'],\n",
    "        text=results['saving_emission.total_kgCO2e'],\n",
    "        orientation='h'),row=1, col=3)\n",
    "    \n",
    "    fig.add_trace(go.Bar(\n",
    "        x=results['saving_energy.total_mmbtu'],\n",
    "        y=results['upgrade_name'],\n",
    "        text=results['saving_energy.total_mmbtu'],\n",
    "        orientation='h'),row=1, col=4)\n",
    "\n",
    "    fig.update_traces(textfont_size=10, textangle=0, textposition=\"outside\", cliponaxis=False)\n",
    "    fig.update_traces(marker_color='rgb(0, 121, 61)', marker_line_color='rgb(0, 121, 61)')\n",
    "    fig.update_traces(marker_color='rgb(255, 255, 255)', marker_line_color='rgb(255, 255, 255)',row=1,col=1)\n",
    "    fig.update_traces(texttemplate='%{text:.3s}', textposition='outside',row=1,col=2)\n",
    "    fig.update_traces(texttemplate='%{text:.3s}', textposition='outside',row=1,col=3)\n",
    "    fig.update_traces(texttemplate='%{text:.3s}', textposition='outside',row=1,col=4)\n",
    "    fig.update_layout(xaxis_title=\"\", xaxis_visible=False, yaxis_visible=True,\n",
    "                      xaxis2_title=\"Bill Savings<br>usd\", xaxis2_visible=True, yaxis2_visible=False,\n",
    "                      xaxis3_title=\"Emission Savings<br>kgCO2e\", xaxis3_visible=True, yaxis3_visible=False,\n",
    "                      xaxis4_title=\"Energy Savings<br>mmbtu\", xaxis4_visible=True, yaxis4_visible=False,\n",
    "                     title='Total Annual Savings for the Whole Community')\n",
    "    fig.update_layout(\n",
    "    autosize=False,\n",
    "    width=850,\n",
    "    height=500,\n",
    "    font=dict(size=10),\n",
    "    plot_bgcolor='rgba(0, 0, 0, 0)',)\n",
    "    fig.update_xaxes(tickangle=45)\n",
    "    fig.update_layout(showlegend=False)\n",
    "    \n",
    "    fig.show()\n",
    "    fig.write_image(fig_dir / 'total_annual_savings_3.svg')"
   ]
  },
  {
   "cell_type": "markdown",
   "id": "5e598a0f",
   "metadata": {},
   "source": [
    "## Whole Community Annual Savings Per Dewlling Unit"
   ]
  },
  {
   "cell_type": "code",
   "execution_count": 26,
   "id": "7df58f8e",
   "metadata": {},
   "outputs": [],
   "source": [
    "def figure_mean_savings(commnity_results):\n",
    "    results = commnity_results[['upgrade_name',\n",
    "                       'saving_energy.total_mmbtu',\n",
    "                       'saving_cbill.total_usd',\n",
    "                       'saving_emission.total_kgCO2e',\n",
    "                                'sample_weight']]\n",
    "    results = results.loc[results['upgrade_name'] != 'baseline']\n",
    "    results['saving_energy.total_mmbtu'] = results['saving_energy.total_mmbtu']*results['sample_weight']\n",
    "    results['saving_cbill.total_usd'] = results['saving_cbill.total_usd']*results['sample_weight']\n",
    "    results['saving_emission.total_kgCO2e'] = results['saving_emission.total_kgCO2e']*results['sample_weight']\n",
    "    \n",
    "    agg_functions = {'upgrade_name': 'first',\n",
    "                     'saving_energy.total_mmbtu': 'sum', \n",
    "                     'saving_cbill.total_usd': 'sum',\n",
    "                     'saving_emission.total_kgCO2e': 'sum',\n",
    "                    'sample_weight': 'sum'}\n",
    "    results = results.groupby(results['upgrade_name']).aggregate(agg_functions)\n",
    "    results['saving_energy.total_mmbtu'] = results['saving_energy.total_mmbtu']/results['sample_weight']\n",
    "    results['saving_cbill.total_usd'] = results['saving_cbill.total_usd']/results['sample_weight']\n",
    "    results['saving_emission.total_kgCO2e'] = results['saving_emission.total_kgCO2e']/results['sample_weight']\n",
    "    results = results.sort_values('saving_cbill.total_usd')\n",
    "    \n",
    "    print('sample_weight')\n",
    "    display(results['sample_weight'])\n",
    "  \n",
    "    fig = make_subplots(rows=1, cols=4, horizontal_spacing=0.1, column_widths=[0.02, 1, 1, 1])\n",
    "    \n",
    "    fig.add_trace(go.Bar(\n",
    "        x=[0] * 176,\n",
    "        y=results['upgrade_name'],\n",
    "        text=None,\n",
    "        orientation='h'), row=1, col=1)\n",
    "    \n",
    "    fig.add_trace(go.Bar(\n",
    "        x=results['saving_cbill.total_usd'],\n",
    "        y=results['upgrade_name'],\n",
    "        text=results['saving_cbill.total_usd'],\n",
    "        orientation='h'), row=1, col=2)\n",
    "    \n",
    "    fig.add_trace(go.Bar(\n",
    "        x=results['saving_emission.total_kgCO2e'],\n",
    "        y=results['upgrade_name'],\n",
    "        text=results['saving_emission.total_kgCO2e'],\n",
    "        orientation='h'),row=1, col=3)\n",
    "    \n",
    "    fig.add_trace(go.Bar(\n",
    "        x=results['saving_energy.total_mmbtu'],\n",
    "        y=results['upgrade_name'],\n",
    "        text=results['saving_energy.total_mmbtu'],\n",
    "        orientation='h'),row=1, col=4)\n",
    "\n",
    "    fig.update_traces(textfont_size=10, textangle=0, textposition=\"outside\", cliponaxis=False)\n",
    "    fig.update_traces(marker_color='rgb(0, 121, 61)', marker_line_color='rgb(0, 121, 61)')\n",
    "    fig.update_traces(marker_color='rgb(255, 255, 255)', marker_line_color='rgb(255, 255, 255)',row=1,col=1)\n",
    "    fig.update_traces(texttemplate='%{text:.3s}', textposition='outside',row=1,col=2)\n",
    "    fig.update_traces(texttemplate='%{text:.3s}', textposition='outside',row=1,col=3)\n",
    "    fig.update_traces(texttemplate='%{text:.3s}', textposition='outside',row=1,col=4)\n",
    "    fig.update_layout(xaxis_title=\"\", xaxis_visible=False, yaxis_visible=True,\n",
    "                      xaxis2_title=\"Bill Savings<br>usd\", xaxis2_visible=True, yaxis2_visible=False,\n",
    "                      xaxis3_title=\"Emission Savings<br>kgCO2e\", xaxis3_visible=True, yaxis3_visible=False,\n",
    "                      xaxis4_title=\"Energy Savings<br>mmbtu\", xaxis4_visible=True, yaxis4_visible=False,\n",
    "                     title='Annual Savings Per Dwelling Unit')\n",
    "    fig.update_layout(\n",
    "    autosize=False,\n",
    "    width=850,\n",
    "    height=500,\n",
    "    font=dict(size=10),\n",
    "    plot_bgcolor='rgba(0, 0, 0, 0)',)\n",
    "    fig.update_xaxes(tickangle=45)\n",
    "    fig.update_layout(showlegend=False)\n",
    "    \n",
    "    fig.show()\n",
    "    fig.write_image(fig_dir / 'annual_saving_per_dwelling_unit.svg')\n",
    "    \n",
    "    return results[['saving_cbill.total_usd','saving_emission.total_kgCO2e','saving_energy.total_mmbtu']]"
   ]
  },
  {
   "cell_type": "markdown",
   "id": "629953b2",
   "metadata": {},
   "source": [
    "## Segment Upgrade Cost Per Dwelling Unit"
   ]
  },
  {
   "cell_type": "code",
   "execution_count": 27,
   "id": "b17b036c",
   "metadata": {},
   "outputs": [],
   "source": [
    "def segment_mean_upgrade_cost(commnity_results):\n",
    "    results = commnity_results[['upgrade_name',\n",
    "                       'upgrade_cost_usd',\n",
    "                                'sample_weight',\n",
    "                                'segment']]\n",
    "    results = results.loc[results['upgrade_name'] != 'baseline']\n",
    "    results['upgrade_cost_usd'] = results['upgrade_cost_usd']*results['sample_weight']\n",
    "    \n",
    "    segment1 = results.loc[results['segment'] == 'segment1']\n",
    "    segment2 = results.loc[results['segment'] == 'segment2']\n",
    "    segment3 = results.loc[results['segment'] == 'segment3']\n",
    "    segment4 = results.loc[results['segment'] == 'segment4']\n",
    "    \n",
    "    agg_functions = {'upgrade_name': 'first',\n",
    "                     'segment': 'first',\n",
    "                     'upgrade_cost_usd': 'sum',\n",
    "                    'sample_weight': 'sum'}\n",
    "    \n",
    "    segment1 = segment1.groupby(segment1['upgrade_name']).aggregate(agg_functions)\n",
    "    segment2 = segment2.groupby(segment2['upgrade_name']).aggregate(agg_functions)\n",
    "    segment3 = segment3.groupby(segment3['upgrade_name']).aggregate(agg_functions)\n",
    "    segment4 = segment4.groupby(segment4['upgrade_name']).aggregate(agg_functions)\n",
    "    \n",
    "    segment1['upgrade_cost_usd'] = segment1['upgrade_cost_usd']/segment1['sample_weight']\n",
    "    segment2['upgrade_cost_usd'] = segment2['upgrade_cost_usd']/segment2['sample_weight']\n",
    "    segment3['upgrade_cost_usd'] = segment3['upgrade_cost_usd']/segment3['sample_weight']\n",
    "    segment4['upgrade_cost_usd'] = segment4['upgrade_cost_usd']/segment4['sample_weight']\n",
    "    \n",
    "    segment1 = segment1.sort_values('upgrade_cost_usd')\n",
    "    segment2 = segment2.sort_values('upgrade_cost_usd')\n",
    "    segment3 = segment3.sort_values('upgrade_cost_usd')\n",
    "    segment4 = segment4.sort_values('upgrade_cost_usd')\n",
    "    \n",
    "    segment1['upgrade_cost_usd'] = segment1['upgrade_cost_usd'].round(1)\n",
    "    segment2['upgrade_cost_usd'] = segment2['upgrade_cost_usd'].round(1)\n",
    "    segment3['upgrade_cost_usd'] = segment3['upgrade_cost_usd'].round(1)\n",
    "    segment4['upgrade_cost_usd'] = segment4['upgrade_cost_usd'].round(1)\n",
    "    \n",
    "    print('segment1: upgrade cost (usd) per dwelling unit')\n",
    "    display(segment1['upgrade_cost_usd'])\n",
    "    print('segment2: upgrade cost (usd) per dwelling unit')\n",
    "    display(segment2['upgrade_cost_usd'])\n",
    "    print('segment3: upgrade cost (usd) per dwelling unit')\n",
    "    display(segment3['upgrade_cost_usd'])\n",
    "    print('segment4: upgrade cost (usd) per dwelling unit')\n",
    "    display(segment4['upgrade_cost_usd'])\n",
    "    return (segment1['upgrade_cost_usd'], segment2['upgrade_cost_usd'], segment3['upgrade_cost_usd'], segment4['upgrade_cost_usd'])"
   ]
  },
  {
   "cell_type": "markdown",
   "id": "2233e9eb",
   "metadata": {},
   "source": [
    "## Segment Savings Per Dollar Invested"
   ]
  },
  {
   "cell_type": "code",
   "execution_count": 28,
   "id": "b63f0b29",
   "metadata": {},
   "outputs": [],
   "source": [
    "def segment_savings_per_dollar(indicator, commnity_results):\n",
    "    \n",
    "    results = commnity_results[['upgrade_name', indicator, 'upgrade_cost_usd', 'sample_weight', 'segment']]\n",
    "    results = results.loc[results['upgrade_name'] != 'baseline']\n",
    "    results[indicator] = results[indicator]*results['sample_weight']\n",
    "    results['upgrade_cost_usd'] = results['upgrade_cost_usd']*results['sample_weight']\n",
    "    \n",
    "    segment1 = results.loc[results['segment'] == 'segment1']\n",
    "    segment2 = results.loc[results['segment'] == 'segment2']\n",
    "    segment3 = results.loc[results['segment'] == 'segment3']\n",
    "    segment4 = results.loc[results['segment'] == 'segment4']\n",
    "    \n",
    "    agg_functions = {'upgrade_name': 'first',\n",
    "                     indicator: 'sum',\n",
    "                     'upgrade_cost_usd': 'sum',\n",
    "                     'sample_weight': 'sum'}\n",
    "    \n",
    "    segment1_agg = segment1.groupby(segment1['upgrade_name']).aggregate(agg_functions)\n",
    "    segment2_agg = segment2.groupby(segment2['upgrade_name']).aggregate(agg_functions)\n",
    "    segment3_agg = segment3.groupby(segment3['upgrade_name']).aggregate(agg_functions)\n",
    "    segment4_agg = segment4.groupby(segment4['upgrade_name']).aggregate(agg_functions)\n",
    "    \n",
    "    segment1_agg[indicator] = segment1_agg[indicator]/segment1_agg['upgrade_cost_usd']\n",
    "    segment2_agg[indicator] = segment2_agg[indicator]/segment2_agg['upgrade_cost_usd']\n",
    "    segment3_agg[indicator] = segment3_agg[indicator]/segment3_agg['upgrade_cost_usd']\n",
    "    segment4_agg[indicator] = segment4_agg[indicator]/segment4_agg['upgrade_cost_usd']\n",
    "    \n",
    "    segment1_agg = segment1_agg.sort_values([indicator], ascending=False)\n",
    "    segment2_agg = segment2_agg.sort_values([indicator], ascending=False)\n",
    "    segment3_agg = segment3_agg.sort_values([indicator], ascending=False)\n",
    "    segment4_agg = segment4_agg.sort_values([indicator], ascending=False)\n",
    "    \n",
    "    segment1_agg[indicator] = segment1_agg[indicator].round(5)\n",
    "    segment2_agg[indicator] = segment2_agg[indicator].round(5)\n",
    "    segment3_agg[indicator] = segment3_agg[indicator].round(5)\n",
    "    segment4_agg[indicator] = segment4_agg[indicator].round(5)\n",
    "    \n",
    "    print('segment1')\n",
    "    display(segment1_agg[indicator])\n",
    "    print('segment2')\n",
    "    display(segment2_agg[indicator])\n",
    "    print('segment3')\n",
    "    display(segment3_agg[indicator])\n",
    "    print('segment4')\n",
    "    display(segment4_agg[indicator]) \n",
    "    \n",
    "    return (segment1_agg[indicator],segment2_agg[indicator],segment3_agg[indicator],segment4_agg[indicator])"
   ]
  },
  {
   "cell_type": "markdown",
   "id": "4578ff09",
   "metadata": {},
   "source": [
    "## Segment Annual Total Savings"
   ]
  },
  {
   "cell_type": "code",
   "execution_count": 29,
   "id": "f1de1889",
   "metadata": {},
   "outputs": [],
   "source": [
    "def segment_annual_total_savings(indicator, commnity_results):\n",
    "    \n",
    "    results = commnity_results[['upgrade_name', indicator, 'sample_weight', 'segment']]\n",
    "    results = results.loc[results['upgrade_name'] != 'baseline']\n",
    "    results[indicator] = results[indicator]*results['sample_weight']\n",
    "    \n",
    "    segment1 = results.loc[results['segment'] == 'segment1']\n",
    "    segment2 = results.loc[results['segment'] == 'segment2']\n",
    "    segment3 = results.loc[results['segment'] == 'segment3']\n",
    "    segment4 = results.loc[results['segment'] == 'segment4']\n",
    "    \n",
    "    agg_functions = {'upgrade_name': 'first',\n",
    "                     indicator: 'sum',\n",
    "                    'sample_weight': 'sum'}\n",
    "    \n",
    "    segment1_agg = segment1.groupby(segment1['upgrade_name']).aggregate(agg_functions)\n",
    "    segment2_agg = segment2.groupby(segment2['upgrade_name']).aggregate(agg_functions)\n",
    "    segment3_agg = segment3.groupby(segment3['upgrade_name']).aggregate(agg_functions)\n",
    "    segment4_agg = segment4.groupby(segment4['upgrade_name']).aggregate(agg_functions)\n",
    "    \n",
    "    segment1_agg = segment1_agg.sort_values([indicator], ascending=False)\n",
    "    segment2_agg = segment2_agg.sort_values([indicator], ascending=False)\n",
    "    segment3_agg = segment3_agg.sort_values([indicator], ascending=False)\n",
    "    segment4_agg = segment4_agg.sort_values([indicator], ascending=False)\n",
    "    \n",
    "    segment1_agg[indicator] = segment1_agg[indicator].round(1)\n",
    "    segment2_agg[indicator] = segment2_agg[indicator].round(1)\n",
    "    segment3_agg[indicator] = segment3_agg[indicator].round(1)\n",
    "    segment4_agg[indicator] = segment4_agg[indicator].round(1)\n",
    "\n",
    "    print('segment1')\n",
    "    display(segment1_agg[indicator])\n",
    "    print('segment2')\n",
    "    display(segment2_agg[indicator])\n",
    "    print('segment3')\n",
    "    display(segment3_agg[indicator])\n",
    "    print('segment4')\n",
    "    display(segment4_agg[indicator])\n",
    "    \n",
    "    return (segment1_agg[indicator],segment2_agg[indicator],segment3_agg[indicator],segment4_agg[indicator])"
   ]
  },
  {
   "cell_type": "markdown",
   "id": "102d90f1",
   "metadata": {},
   "source": [
    "## Segment Annual Savings Per Dwelling Unit"
   ]
  },
  {
   "cell_type": "code",
   "execution_count": 30,
   "id": "6b74793b",
   "metadata": {},
   "outputs": [],
   "source": [
    "def segment_mean_savings(indicator, commnity_results):\n",
    "    \n",
    "    results = commnity_results[['upgrade_name', indicator, 'sample_weight', 'segment']]\n",
    "    results = results.loc[results['upgrade_name'] != 'baseline']\n",
    "    results[indicator] = results[indicator]*results['sample_weight']\n",
    "    \n",
    "    segment1 = results.loc[results['segment'] == 'segment1']\n",
    "    segment2 = results.loc[results['segment'] == 'segment2']\n",
    "    segment3 = results.loc[results['segment'] == 'segment3']\n",
    "    segment4 = results.loc[results['segment'] == 'segment4']\n",
    "    \n",
    "    agg_functions = {'upgrade_name': 'first',\n",
    "                     indicator: 'sum',\n",
    "                    'sample_weight': 'sum'}\n",
    "    \n",
    "    segment1_agg = segment1.groupby(segment1['upgrade_name']).aggregate(agg_functions)\n",
    "    segment2_agg = segment2.groupby(segment2['upgrade_name']).aggregate(agg_functions)\n",
    "    segment3_agg = segment3.groupby(segment3['upgrade_name']).aggregate(agg_functions)\n",
    "    segment4_agg = segment4.groupby(segment4['upgrade_name']).aggregate(agg_functions)\n",
    "    \n",
    "    segment1_agg[indicator] = segment1_agg[indicator]/segment1_agg['sample_weight']\n",
    "    segment2_agg[indicator] = segment2_agg[indicator]/segment2_agg['sample_weight']\n",
    "    segment3_agg[indicator] = segment3_agg[indicator]/segment3_agg['sample_weight']\n",
    "    segment4_agg[indicator] = segment4_agg[indicator]/segment4_agg['sample_weight']\n",
    "    \n",
    "    segment1_agg = segment1_agg.sort_values([indicator], ascending=False)\n",
    "    segment2_agg = segment2_agg.sort_values([indicator], ascending=False)\n",
    "    segment3_agg = segment3_agg.sort_values([indicator], ascending=False)\n",
    "    segment4_agg = segment4_agg.sort_values([indicator], ascending=False)\n",
    "    \n",
    "    segment1_agg[indicator] = segment1_agg[indicator].round(1)\n",
    "    segment2_agg[indicator] = segment2_agg[indicator].round(1)\n",
    "    segment3_agg[indicator] = segment3_agg[indicator].round(1)\n",
    "    segment4_agg[indicator] = segment4_agg[indicator].round(1)\n",
    "    \n",
    "    print('segment1')\n",
    "    display(segment1_agg[indicator])\n",
    "    print('segment2')\n",
    "    display(segment2_agg[indicator])\n",
    "    print('segment3')\n",
    "    display(segment3_agg[indicator])\n",
    "    print('segment4')\n",
    "    display(segment4_agg[indicator])\n",
    "    \n",
    "    return (segment1_agg[indicator],segment2_agg[indicator],segment3_agg[indicator],segment4_agg[indicator])"
   ]
  },
  {
   "cell_type": "markdown",
   "id": "4e3a051b",
   "metadata": {},
   "source": [
    "## Segment Percent Stock with Net Positive Savings"
   ]
  },
  {
   "cell_type": "code",
   "execution_count": 31,
   "id": "862cf0d7",
   "metadata": {},
   "outputs": [],
   "source": [
    "def figure_positive_negative_savings(segment, commnity_results):\n",
    "    results = commnity_results[['upgrade_name',\n",
    "                                  'saving_energy.total_mmbtu',\n",
    "                                  'saving_cbill.total_usd',\n",
    "                                  'saving_emission.total_kgCO2e',\n",
    "                                'sample_weight',\n",
    "                               'segment']]\n",
    "    results = results.loc[results['upgrade_name'] != 'baseline']\n",
    "    results = results.loc[results['segment'] == segment]\n",
    "    results = results.groupby(results['upgrade_name'])\n",
    "  \n",
    "    def pos(col): \n",
    "      return col[col > 0].count()\n",
    "  \n",
    "    def neg(col): \n",
    "      return col[col < 0].count() \n",
    "\n",
    "    percentage = pd.DataFrame()\n",
    "\n",
    "    bill = results['saving_cbill.total_usd'].agg([('negative_values', neg),('positive_values', pos)])\n",
    "    emission = results['saving_emission.total_kgCO2e'].agg([('negative_values', neg),('positive_values', pos)])\n",
    "    energy = results['saving_energy.total_mmbtu'].agg([('negative_values', neg),('positive_values', pos)])\n",
    "    \n",
    "    percentage ['cbill_n'] = bill['negative_values']/(bill['negative_values']+bill['positive_values'])\n",
    "    percentage ['cbill_p'] = bill['positive_values']/(bill['negative_values']+bill['positive_values'])\n",
    "    percentage ['emission_n'] = emission['negative_values']/(emission['negative_values']+emission['positive_values'])\n",
    "    percentage ['emission_p'] = emission['positive_values']/(emission['negative_values']+emission['positive_values'])\n",
    "    percentage ['energy_n'] = energy['negative_values']/(energy['negative_values']+energy['positive_values'])\n",
    "    percentage ['energy_p'] = energy['positive_values']/(energy['negative_values']+energy['positive_values'])\n",
    "    \n",
    "    \n",
    "    percentage = percentage.sort_values(('cbill_p'))\n",
    "    upgrade_name = percentage.index\n",
    "    \n",
    "    fig = make_subplots(rows=1, cols=3)\n",
    "    marker1= dict(color='red')\n",
    "    marker2= dict(color='green')\n",
    "    \n",
    "    fig.add_bar(y=upgrade_name, x=percentage ['cbill_n'], text=percentage ['cbill_n'],\n",
    "                orientation='h',name = \"Negative\",row=1, col=1, marker=marker1)\n",
    "    fig.add_bar(y=upgrade_name, x=percentage ['cbill_p'],text=percentage ['cbill_p'],\n",
    "                orientation='h', name = \"Positive\", row=1, col=1, marker=marker2)\n",
    "    \n",
    "    fig.add_bar(y=upgrade_name, x=percentage ['emission_n'], text=percentage ['emission_n'],\n",
    "                orientation='h',showlegend=False, row=1, col=2, marker=marker1)\n",
    "    fig.add_bar(y=upgrade_name, x=percentage ['emission_p'],text=percentage ['emission_p'],\n",
    "                orientation='h', showlegend=False, row=1, col=2, marker=marker2)\n",
    "    \n",
    "    fig.add_bar(y=upgrade_name, x=percentage ['energy_n'],text=percentage ['energy_n'],\n",
    "                orientation='h',showlegend=False, row=1, col=3, marker=marker1)\n",
    "    fig.add_bar(y=upgrade_name, x=percentage ['energy_p'],text=percentage ['energy_p'],\n",
    "                orientation='h', showlegend=False, row=1, col=3, marker=marker2)\n",
    "   \n",
    "  \n",
    "    fig.update_layout(barmode=\"relative\")\n",
    "    fig.update_traces(texttemplate='%{text:.0%}', textposition='inside')\n",
    "    \n",
    "    fig.update_layout(xaxis_title=\"Bill\", xaxis_visible=True, yaxis_visible=True,\n",
    "                      xaxis2_title=\"Emission\", xaxis2_visible=True, yaxis2_visible=False,\n",
    "                      xaxis3_title=\"Total Energy\", xaxis3_visible=True, yaxis3_visible=False,\n",
    "                      font=dict(size=10))\n",
    "    \n",
    "    fig.update_layout(\n",
    "        title='Percentage of Household in Positive and Negative Savings')\n",
    "    \n",
    "    fig.update_layout(\n",
    "    autosize=False,\n",
    "    width=1000,\n",
    "    height=500,\n",
    "    font=dict(size=10))\n",
    "    fig.layout.xaxis1.tickformat = ',.0%'\n",
    "    fig.layout.xaxis2.tickformat = ',.0%'\n",
    "    fig.layout.xaxis3.tickformat = ',.0%'\n",
    "    \n",
    "    fig.show()\n",
    "    fig.write_image(fig_dir / f'percentage_positive_saving_{segment}.svg')\n",
    "    return (percentage ['cbill_p'],percentage ['emission_p'],percentage ['energy_p'])"
   ]
  },
  {
   "cell_type": "markdown",
   "id": "63119384",
   "metadata": {},
   "source": [
    "## Segment Average Energy Burden (%) Before and after Upgrade."
   ]
  },
  {
   "cell_type": "code",
   "execution_count": 32,
   "id": "81da90ec",
   "metadata": {},
   "outputs": [],
   "source": [
    "def segment_mean_energy_burden(indicator, commnity_results):\n",
    "    \n",
    "    results = commnity_results[['upgrade_name', indicator, 'baseline_energy_burden_2023_cbills.%', 'sample_weight', 'segment']]\n",
    "    results.replace([np.inf, -np.inf], np.nan, inplace=True)\n",
    "    results.dropna(subset=['baseline_energy_burden_2023_cbills.%'], how=\"all\", inplace=True)\n",
    "    results[indicator] = results[indicator]*results['sample_weight']\n",
    "    results['baseline_energy_burden_2023_cbills.%'] = results['baseline_energy_burden_2023_cbills.%']*results['sample_weight']\n",
    "    \n",
    "    segment1 = results.loc[results['segment'] == 'segment1']\n",
    "    segment2 = results.loc[results['segment'] == 'segment2']\n",
    "    segment3 = results.loc[results['segment'] == 'segment3']\n",
    "    segment4 = results.loc[results['segment'] == 'segment4']\n",
    "    \n",
    "    agg_functions = {'upgrade_name': 'first',\n",
    "                     indicator: 'sum',\n",
    "                     'baseline_energy_burden_2023_cbills.%': 'sum',\n",
    "                    'sample_weight': 'sum'}\n",
    "    \n",
    "    segment1_agg = segment1.groupby(segment1['upgrade_name']).aggregate(agg_functions)\n",
    "    segment2_agg = segment2.groupby(segment2['upgrade_name']).aggregate(agg_functions)\n",
    "    segment3_agg = segment3.groupby(segment3['upgrade_name']).aggregate(agg_functions)\n",
    "    segment4_agg = segment4.groupby(segment4['upgrade_name']).aggregate(agg_functions)\n",
    "    \n",
    "    segment1_agg['baseline_energy_burden_2023_cbills.%'] = segment1_agg['baseline_energy_burden_2023_cbills.%']/segment1_agg['sample_weight']\n",
    "    segment2_agg['baseline_energy_burden_2023_cbills.%'] = segment2_agg['baseline_energy_burden_2023_cbills.%']/segment2_agg['sample_weight']\n",
    "    segment3_agg['baseline_energy_burden_2023_cbills.%'] = segment3_agg['baseline_energy_burden_2023_cbills.%']/segment3_agg['sample_weight']\n",
    "    segment4_agg['baseline_energy_burden_2023_cbills.%'] = segment4_agg['baseline_energy_burden_2023_cbills.%']/segment4_agg['sample_weight']\n",
    "    \n",
    "    segment1_agg[indicator] = segment1_agg[indicator]/segment1_agg['sample_weight']\n",
    "    segment2_agg[indicator] = segment2_agg[indicator]/segment2_agg['sample_weight']\n",
    "    segment3_agg[indicator] = segment3_agg[indicator]/segment3_agg['sample_weight']\n",
    "    segment4_agg[indicator] = segment4_agg[indicator]/segment4_agg['sample_weight']\n",
    "    \n",
    "    segment1_agg['energy_burden_diff'] = segment1_agg['baseline_energy_burden_2023_cbills.%'] - segment1_agg[indicator]\n",
    "    segment2_agg['energy_burden_diff'] = segment2_agg['baseline_energy_burden_2023_cbills.%'] - segment2_agg[indicator]\n",
    "    segment3_agg['energy_burden_diff'] = segment3_agg['baseline_energy_burden_2023_cbills.%'] - segment3_agg[indicator]\n",
    "    segment4_agg['energy_burden_diff'] = segment4_agg['baseline_energy_burden_2023_cbills.%'] - segment4_agg[indicator]\n",
    "    \n",
    "    segment1_agg = segment1_agg.sort_values(['energy_burden_diff'], ascending=False)\n",
    "    segment2_agg = segment2_agg.sort_values(['energy_burden_diff'], ascending=False)\n",
    "    segment3_agg = segment3_agg.sort_values(['energy_burden_diff'], ascending=False)\n",
    "    segment4_agg = segment4_agg.sort_values(['energy_burden_diff'], ascending=False)\n",
    "    \n",
    "    segment1_agg = segment1_agg[segment1_agg.upgrade_name != 'baseline']\n",
    "    segment2_agg = segment2_agg[segment2_agg.upgrade_name != 'baseline']\n",
    "    segment3_agg = segment3_agg[segment3_agg.upgrade_name != 'baseline']\n",
    "    segment4_agg = segment4_agg[segment4_agg.upgrade_name != 'baseline']\n",
    "    \n",
    "    segment1_agg = segment1_agg.rename(columns={'baseline_energy_burden_2023_cbills.%': 'before', indicator: 'after'})\n",
    "    segment2_agg = segment2_agg.rename(columns={'baseline_energy_burden_2023_cbills.%': 'before', indicator: 'after'})\n",
    "    segment3_agg = segment3_agg.rename(columns={'baseline_energy_burden_2023_cbills.%': 'before', indicator: 'after'})\n",
    "    segment4_agg = segment4_agg.rename(columns={'baseline_energy_burden_2023_cbills.%': 'before', indicator: 'after'})\n",
    "    \n",
    "    segment1_agg['before'] = segment1_agg['before'].round(1)\n",
    "    segment2_agg['before'] = segment2_agg['before'].round(1)\n",
    "    segment3_agg['before'] = segment3_agg['before'].round(1)\n",
    "    segment4_agg['before'] = segment4_agg['before'].round(1)\n",
    "    segment1_agg['after'] = segment1_agg['after'].round(1)\n",
    "    segment2_agg['after'] = segment2_agg['after'].round(1)\n",
    "    segment3_agg['after'] = segment3_agg['after'].round(1)\n",
    "    segment4_agg['after'] = segment4_agg['after'].round(1)\n",
    "    \n",
    "    print ('energy burden (%) before and after upgrade')\n",
    "    print('segment1')\n",
    "    display(segment1_agg[['before', 'after']])\n",
    "    print('segment2')\n",
    "    display(segment2_agg[['before', 'after']])\n",
    "    print('segment3')\n",
    "    display(segment3_agg[['before', 'after']])\n",
    "    print('segment4')\n",
    "    display(segment4_agg[['before', 'after']])\n",
    "    \n",
    "    return(segment1_agg[['before', 'after']],segment2_agg[['before', 'after']],segment3_agg[['before', 'after']],segment4_agg[['before', 'after']])"
   ]
  },
  {
   "cell_type": "code",
   "execution_count": 33,
   "id": "97b37ad7",
   "metadata": {},
   "outputs": [],
   "source": [
    "community = 'hill_district'\n",
    "fig_dir = Path(\".\").resolve() / \"results\" / community\n",
    "community_results = pd.read_parquet(f\"data_/community_building_samples_with_upgrade_cost_and_bill/{community}/processed_upgrade_results.parquet\")\n",
    "saving_results = pd.DataFrame()"
   ]
  },
  {
   "cell_type": "markdown",
   "id": "712ba191",
   "metadata": {},
   "source": [
    "# 1. Results for Whole Community"
   ]
  },
  {
   "cell_type": "markdown",
   "id": "825d991e",
   "metadata": {},
   "source": [
    "## 1.1 Upgrade Cost Per Dwelling Unit"
   ]
  },
  {
   "cell_type": "code",
   "execution_count": 34,
   "id": "d2f8640e",
   "metadata": {},
   "outputs": [
    {
     "name": "stdout",
     "output_type": "stream",
     "text": [
      "upgrade_cost_usd per dwelling unit\n"
     ]
    },
    {
     "data": {
      "text/plain": [
       "upgrade_name\n",
       "Electric Cooking                                                    1161.8\n",
       "Electric Clothes Dryer                                              1304.7\n",
       "Induction Cooking                                                   1997.8\n",
       "Heat Pump Clothes Dryer                                             2625.4\n",
       "Basic Enclosure                                                     2797.9\n",
       "Heat Pump Water Heater                                              3034.4\n",
       "Enhanced Enclosure                                                  3613.7\n",
       "Mininum Efficiency Heat Pump with Existing Heat Backup             15041.3\n",
       "Mininum Efficiency Heat Pump with Electric Heat Backup             15077.4\n",
       "Mininum Efficiency Whole Home Electrification                      16406.7\n",
       "High Efficiency Heat Pump with Electric Heat Backup                21726.5\n",
       "Basic Enclosure + HPWH + High Efficiency HP/Electric Backup        25129.3\n",
       "Enhanced Enclosure + HPWH + High Efficiency HP/Electric Backup     25510.7\n",
       "High Efficiency Whole Home Electrification                         28098.7\n",
       "Basic Enclosure + High Efficiency Whole Home Electrification       28488.3\n",
       "Enhanced Enclosure + High Efficiency Whole Home Electrification    28869.6\n",
       "Name: upgrade_cost_usd, dtype: float64"
      ]
     },
     "metadata": {},
     "output_type": "display_data"
    }
   ],
   "source": [
    "results = community_mean_upgrade_cost(community_results)\n",
    "saving_results['whole_community_upgrade_cost_mean_usd'] = results"
   ]
  },
  {
   "cell_type": "markdown",
   "id": "8612601a",
   "metadata": {},
   "source": [
    "## 1.2 Total Annual Savings"
   ]
  },
  {
   "cell_type": "code",
   "execution_count": 35,
   "id": "2d30637c",
   "metadata": {},
   "outputs": [
    {
     "data": {
      "application/vnd.plotly.v1+json": {
       "config": {
        "plotlyServerURL": "https://plot.ly"
       },
       "data": [
        {
         "cliponaxis": false,
         "marker": {
          "color": "rgb(255, 255, 255)",
          "line": {
           "color": "rgb(255, 255, 255)"
          }
         },
         "orientation": "h",
         "textangle": 0,
         "textfont": {
          "size": 10
         },
         "textposition": "outside",
         "type": "bar",
         "x": [
          0,
          0,
          0,
          0,
          0,
          0,
          0,
          0,
          0,
          0,
          0,
          0,
          0,
          0,
          0,
          0,
          0,
          0,
          0,
          0,
          0,
          0,
          0,
          0,
          0,
          0,
          0,
          0,
          0,
          0,
          0,
          0,
          0,
          0,
          0,
          0,
          0,
          0,
          0,
          0,
          0,
          0,
          0,
          0,
          0,
          0,
          0,
          0,
          0,
          0,
          0,
          0,
          0,
          0,
          0,
          0,
          0,
          0,
          0,
          0,
          0,
          0,
          0,
          0,
          0,
          0,
          0,
          0,
          0,
          0,
          0,
          0,
          0,
          0,
          0,
          0,
          0,
          0,
          0,
          0,
          0,
          0,
          0,
          0,
          0,
          0,
          0,
          0,
          0,
          0,
          0,
          0,
          0,
          0,
          0,
          0,
          0,
          0,
          0,
          0,
          0,
          0,
          0,
          0,
          0,
          0,
          0,
          0,
          0,
          0,
          0,
          0,
          0,
          0,
          0,
          0,
          0,
          0,
          0,
          0,
          0,
          0,
          0,
          0,
          0,
          0,
          0,
          0,
          0,
          0,
          0,
          0,
          0,
          0,
          0,
          0,
          0,
          0,
          0,
          0,
          0,
          0,
          0,
          0,
          0,
          0,
          0,
          0,
          0,
          0,
          0,
          0,
          0,
          0,
          0,
          0,
          0,
          0,
          0,
          0,
          0,
          0,
          0,
          0,
          0,
          0,
          0,
          0,
          0,
          0,
          0,
          0,
          0,
          0,
          0,
          0
         ],
         "xaxis": "x",
         "y": [
          "Mininum Efficiency Whole Home Electrification",
          "Mininum Efficiency Heat Pump with Electric Heat Backup",
          "Electric Cooking",
          "Induction Cooking",
          "Mininum Efficiency Heat Pump with Existing Heat Backup",
          "Electric Clothes Dryer",
          "Heat Pump Clothes Dryer",
          "Heat Pump Water Heater",
          "High Efficiency Heat Pump with Electric Heat Backup",
          "High Efficiency Whole Home Electrification",
          "Basic Enclosure",
          "Enhanced Enclosure",
          "Basic Enclosure + High Efficiency Whole Home Electrification",
          "Basic Enclosure + HPWH + High Efficiency HP/Electric Backup",
          "Enhanced Enclosure + High Efficiency Whole Home Electrification",
          "Enhanced Enclosure + HPWH + High Efficiency HP/Electric Backup"
         ],
         "yaxis": "y"
        },
        {
         "cliponaxis": false,
         "marker": {
          "color": "rgb(0, 121, 61)",
          "line": {
           "color": "rgb(0, 121, 61)"
          }
         },
         "orientation": "h",
         "text": [
          -51177493.38986804,
          -34428627.1260403,
          -2232567.4272690956,
          -1595543.0887620584,
          -1155076.7218412603,
          -1068967.6732839602,
          1102899.2177768694,
          2810037.6998261213,
          14161241.647828283,
          23206892.995109484,
          26000537.545126997,
          29860479.09767613,
          46840513.90177496,
          47041486.25510215,
          49050645.311839625,
          49251617.66516682
         ],
         "textangle": 0,
         "textfont": {
          "size": 10
         },
         "textposition": "outside",
         "texttemplate": "%{text:.3s}",
         "type": "bar",
         "x": [
          -51177493.38986804,
          -34428627.1260403,
          -2232567.4272690956,
          -1595543.0887620584,
          -1155076.7218412603,
          -1068967.6732839602,
          1102899.2177768694,
          2810037.6998261213,
          14161241.647828283,
          23206892.995109484,
          26000537.545126997,
          29860479.09767613,
          46840513.90177496,
          47041486.25510215,
          49050645.311839625,
          49251617.66516682
         ],
         "xaxis": "x2",
         "y": [
          "Mininum Efficiency Whole Home Electrification",
          "Mininum Efficiency Heat Pump with Electric Heat Backup",
          "Electric Cooking",
          "Induction Cooking",
          "Mininum Efficiency Heat Pump with Existing Heat Backup",
          "Electric Clothes Dryer",
          "Heat Pump Clothes Dryer",
          "Heat Pump Water Heater",
          "High Efficiency Heat Pump with Electric Heat Backup",
          "High Efficiency Whole Home Electrification",
          "Basic Enclosure",
          "Enhanced Enclosure",
          "Basic Enclosure + High Efficiency Whole Home Electrification",
          "Basic Enclosure + HPWH + High Efficiency HP/Electric Backup",
          "Enhanced Enclosure + High Efficiency Whole Home Electrification",
          "Enhanced Enclosure + HPWH + High Efficiency HP/Electric Backup"
         ],
         "yaxis": "y2"
        },
        {
         "cliponaxis": false,
         "marker": {
          "color": "rgb(0, 121, 61)",
          "line": {
           "color": "rgb(0, 121, 61)"
          }
         },
         "orientation": "h",
         "text": [
          119680134.84378858,
          95749190.80779828,
          3005009.2119232784,
          4125494.563169668,
          85898907.07217269,
          -149417.45884882592,
          3544439.383433246,
          40795807.51255415,
          192824131.2731375,
          266577012.48120186,
          114634738.71948875,
          130964620.94987243,
          315202532.99622655,
          307532599.0496236,
          319712432.8849812,
          312042498.93837833
         ],
         "textangle": 0,
         "textfont": {
          "size": 10
         },
         "textposition": "outside",
         "texttemplate": "%{text:.3s}",
         "type": "bar",
         "x": [
          119680134.84378858,
          95749190.80779828,
          3005009.2119232784,
          4125494.563169668,
          85898907.07217269,
          -149417.45884882592,
          3544439.383433246,
          40795807.51255415,
          192824131.2731375,
          266577012.48120186,
          114634738.71948875,
          130964620.94987243,
          315202532.99622655,
          307532599.0496236,
          319712432.8849812,
          312042498.93837833
         ],
         "xaxis": "x3",
         "y": [
          "Mininum Efficiency Whole Home Electrification",
          "Mininum Efficiency Heat Pump with Electric Heat Backup",
          "Electric Cooking",
          "Induction Cooking",
          "Mininum Efficiency Heat Pump with Existing Heat Backup",
          "Electric Clothes Dryer",
          "Heat Pump Clothes Dryer",
          "Heat Pump Water Heater",
          "High Efficiency Heat Pump with Electric Heat Backup",
          "High Efficiency Whole Home Electrification",
          "Basic Enclosure",
          "Enhanced Enclosure",
          "Basic Enclosure + High Efficiency Whole Home Electrification",
          "Basic Enclosure + HPWH + High Efficiency HP/Electric Backup",
          "Enhanced Enclosure + High Efficiency Whole Home Electrification",
          "Enhanced Enclosure + HPWH + High Efficiency HP/Electric Backup"
         ],
         "yaxis": "y3"
        },
        {
         "cliponaxis": false,
         "marker": {
          "color": "rgb(0, 121, 61)",
          "line": {
           "color": "rgb(0, 121, 61)"
          }
         },
         "orientation": "h",
         "text": [
          -513225111.46241766,
          -364692329.2203657,
          -18666538.49051087,
          -15262908.24421696,
          -99108530.79527314,
          -7367798.781978433,
          4236533.826809925,
          -19832688.211776305,
          -105005816.59587073,
          -115787697.56533752,
          71686899.85357982,
          83137609.42081243,
          10487259.19179794,
          21513633.609204974,
          22296039.96795026,
          33322414.385357294
         ],
         "textangle": 0,
         "textfont": {
          "size": 10
         },
         "textposition": "outside",
         "texttemplate": "%{text:.3s}",
         "type": "bar",
         "x": [
          -513225111.46241766,
          -364692329.2203657,
          -18666538.49051087,
          -15262908.24421696,
          -99108530.79527314,
          -7367798.781978433,
          4236533.826809925,
          -19832688.211776305,
          -105005816.59587073,
          -115787697.56533752,
          71686899.85357982,
          83137609.42081243,
          10487259.19179794,
          21513633.609204974,
          22296039.96795026,
          33322414.385357294
         ],
         "xaxis": "x4",
         "y": [
          "Mininum Efficiency Whole Home Electrification",
          "Mininum Efficiency Heat Pump with Electric Heat Backup",
          "Electric Cooking",
          "Induction Cooking",
          "Mininum Efficiency Heat Pump with Existing Heat Backup",
          "Electric Clothes Dryer",
          "Heat Pump Clothes Dryer",
          "Heat Pump Water Heater",
          "High Efficiency Heat Pump with Electric Heat Backup",
          "High Efficiency Whole Home Electrification",
          "Basic Enclosure",
          "Enhanced Enclosure",
          "Basic Enclosure + High Efficiency Whole Home Electrification",
          "Basic Enclosure + HPWH + High Efficiency HP/Electric Backup",
          "Enhanced Enclosure + High Efficiency Whole Home Electrification",
          "Enhanced Enclosure + HPWH + High Efficiency HP/Electric Backup"
         ],
         "yaxis": "y4"
        },
        {
         "cliponaxis": false,
         "marker": {
          "color": "rgb(0, 121, 61)",
          "line": {
           "color": "rgb(0, 121, 61)"
          }
         },
         "orientation": "h",
         "text": [
          4662620.182929368,
          3521911.688118959,
          135043.23670074347,
          135043.32993866169,
          1812679.159618959,
          32775.925390334574,
          32775.925390334574,
          705915.4673605948,
          3520519.5061431224,
          4662620.182929368,
          1312079.1824442379,
          1491871.5850408922,
          4662620.182929368,
          4494800.927600372,
          4662620.182929368,
          4494800.927600372
         ],
         "textangle": 0,
         "textfont": {
          "size": 10
         },
         "textposition": "outside",
         "texttemplate": "%{text:.3s}",
         "type": "bar",
         "x": [
          4662620.182929368,
          3521911.688118959,
          135043.23670074347,
          135043.32993866169,
          1812679.159618959,
          32775.925390334574,
          32775.925390334574,
          705915.4673605948,
          3520519.5061431224,
          4662620.182929368,
          1312079.1824442379,
          1491871.5850408922,
          4662620.182929368,
          4494800.927600372,
          4662620.182929368,
          4494800.927600372
         ],
         "xaxis": "x5",
         "y": [
          "Mininum Efficiency Whole Home Electrification",
          "Mininum Efficiency Heat Pump with Electric Heat Backup",
          "Electric Cooking",
          "Induction Cooking",
          "Mininum Efficiency Heat Pump with Existing Heat Backup",
          "Electric Clothes Dryer",
          "Heat Pump Clothes Dryer",
          "Heat Pump Water Heater",
          "High Efficiency Heat Pump with Electric Heat Backup",
          "High Efficiency Whole Home Electrification",
          "Basic Enclosure",
          "Enhanced Enclosure",
          "Basic Enclosure + High Efficiency Whole Home Electrification",
          "Basic Enclosure + HPWH + High Efficiency HP/Electric Backup",
          "Enhanced Enclosure + High Efficiency Whole Home Electrification",
          "Enhanced Enclosure + HPWH + High Efficiency HP/Electric Backup"
         ],
         "yaxis": "y5"
        }
       ],
       "layout": {
        "autosize": false,
        "font": {
         "size": 10
        },
        "height": 500,
        "plot_bgcolor": "rgba(0, 0, 0, 0)",
        "showlegend": false,
        "template": {
         "data": {
          "bar": [
           {
            "error_x": {
             "color": "#2a3f5f"
            },
            "error_y": {
             "color": "#2a3f5f"
            },
            "marker": {
             "line": {
              "color": "#E5ECF6",
              "width": 0.5
             },
             "pattern": {
              "fillmode": "overlay",
              "size": 10,
              "solidity": 0.2
             }
            },
            "type": "bar"
           }
          ],
          "barpolar": [
           {
            "marker": {
             "line": {
              "color": "#E5ECF6",
              "width": 0.5
             },
             "pattern": {
              "fillmode": "overlay",
              "size": 10,
              "solidity": 0.2
             }
            },
            "type": "barpolar"
           }
          ],
          "carpet": [
           {
            "aaxis": {
             "endlinecolor": "#2a3f5f",
             "gridcolor": "white",
             "linecolor": "white",
             "minorgridcolor": "white",
             "startlinecolor": "#2a3f5f"
            },
            "baxis": {
             "endlinecolor": "#2a3f5f",
             "gridcolor": "white",
             "linecolor": "white",
             "minorgridcolor": "white",
             "startlinecolor": "#2a3f5f"
            },
            "type": "carpet"
           }
          ],
          "choropleth": [
           {
            "colorbar": {
             "outlinewidth": 0,
             "ticks": ""
            },
            "type": "choropleth"
           }
          ],
          "contour": [
           {
            "colorbar": {
             "outlinewidth": 0,
             "ticks": ""
            },
            "colorscale": [
             [
              0,
              "#0d0887"
             ],
             [
              0.1111111111111111,
              "#46039f"
             ],
             [
              0.2222222222222222,
              "#7201a8"
             ],
             [
              0.3333333333333333,
              "#9c179e"
             ],
             [
              0.4444444444444444,
              "#bd3786"
             ],
             [
              0.5555555555555556,
              "#d8576b"
             ],
             [
              0.6666666666666666,
              "#ed7953"
             ],
             [
              0.7777777777777778,
              "#fb9f3a"
             ],
             [
              0.8888888888888888,
              "#fdca26"
             ],
             [
              1,
              "#f0f921"
             ]
            ],
            "type": "contour"
           }
          ],
          "contourcarpet": [
           {
            "colorbar": {
             "outlinewidth": 0,
             "ticks": ""
            },
            "type": "contourcarpet"
           }
          ],
          "heatmap": [
           {
            "colorbar": {
             "outlinewidth": 0,
             "ticks": ""
            },
            "colorscale": [
             [
              0,
              "#0d0887"
             ],
             [
              0.1111111111111111,
              "#46039f"
             ],
             [
              0.2222222222222222,
              "#7201a8"
             ],
             [
              0.3333333333333333,
              "#9c179e"
             ],
             [
              0.4444444444444444,
              "#bd3786"
             ],
             [
              0.5555555555555556,
              "#d8576b"
             ],
             [
              0.6666666666666666,
              "#ed7953"
             ],
             [
              0.7777777777777778,
              "#fb9f3a"
             ],
             [
              0.8888888888888888,
              "#fdca26"
             ],
             [
              1,
              "#f0f921"
             ]
            ],
            "type": "heatmap"
           }
          ],
          "heatmapgl": [
           {
            "colorbar": {
             "outlinewidth": 0,
             "ticks": ""
            },
            "colorscale": [
             [
              0,
              "#0d0887"
             ],
             [
              0.1111111111111111,
              "#46039f"
             ],
             [
              0.2222222222222222,
              "#7201a8"
             ],
             [
              0.3333333333333333,
              "#9c179e"
             ],
             [
              0.4444444444444444,
              "#bd3786"
             ],
             [
              0.5555555555555556,
              "#d8576b"
             ],
             [
              0.6666666666666666,
              "#ed7953"
             ],
             [
              0.7777777777777778,
              "#fb9f3a"
             ],
             [
              0.8888888888888888,
              "#fdca26"
             ],
             [
              1,
              "#f0f921"
             ]
            ],
            "type": "heatmapgl"
           }
          ],
          "histogram": [
           {
            "marker": {
             "pattern": {
              "fillmode": "overlay",
              "size": 10,
              "solidity": 0.2
             }
            },
            "type": "histogram"
           }
          ],
          "histogram2d": [
           {
            "colorbar": {
             "outlinewidth": 0,
             "ticks": ""
            },
            "colorscale": [
             [
              0,
              "#0d0887"
             ],
             [
              0.1111111111111111,
              "#46039f"
             ],
             [
              0.2222222222222222,
              "#7201a8"
             ],
             [
              0.3333333333333333,
              "#9c179e"
             ],
             [
              0.4444444444444444,
              "#bd3786"
             ],
             [
              0.5555555555555556,
              "#d8576b"
             ],
             [
              0.6666666666666666,
              "#ed7953"
             ],
             [
              0.7777777777777778,
              "#fb9f3a"
             ],
             [
              0.8888888888888888,
              "#fdca26"
             ],
             [
              1,
              "#f0f921"
             ]
            ],
            "type": "histogram2d"
           }
          ],
          "histogram2dcontour": [
           {
            "colorbar": {
             "outlinewidth": 0,
             "ticks": ""
            },
            "colorscale": [
             [
              0,
              "#0d0887"
             ],
             [
              0.1111111111111111,
              "#46039f"
             ],
             [
              0.2222222222222222,
              "#7201a8"
             ],
             [
              0.3333333333333333,
              "#9c179e"
             ],
             [
              0.4444444444444444,
              "#bd3786"
             ],
             [
              0.5555555555555556,
              "#d8576b"
             ],
             [
              0.6666666666666666,
              "#ed7953"
             ],
             [
              0.7777777777777778,
              "#fb9f3a"
             ],
             [
              0.8888888888888888,
              "#fdca26"
             ],
             [
              1,
              "#f0f921"
             ]
            ],
            "type": "histogram2dcontour"
           }
          ],
          "mesh3d": [
           {
            "colorbar": {
             "outlinewidth": 0,
             "ticks": ""
            },
            "type": "mesh3d"
           }
          ],
          "parcoords": [
           {
            "line": {
             "colorbar": {
              "outlinewidth": 0,
              "ticks": ""
             }
            },
            "type": "parcoords"
           }
          ],
          "pie": [
           {
            "automargin": true,
            "type": "pie"
           }
          ],
          "scatter": [
           {
            "fillpattern": {
             "fillmode": "overlay",
             "size": 10,
             "solidity": 0.2
            },
            "type": "scatter"
           }
          ],
          "scatter3d": [
           {
            "line": {
             "colorbar": {
              "outlinewidth": 0,
              "ticks": ""
             }
            },
            "marker": {
             "colorbar": {
              "outlinewidth": 0,
              "ticks": ""
             }
            },
            "type": "scatter3d"
           }
          ],
          "scattercarpet": [
           {
            "marker": {
             "colorbar": {
              "outlinewidth": 0,
              "ticks": ""
             }
            },
            "type": "scattercarpet"
           }
          ],
          "scattergeo": [
           {
            "marker": {
             "colorbar": {
              "outlinewidth": 0,
              "ticks": ""
             }
            },
            "type": "scattergeo"
           }
          ],
          "scattergl": [
           {
            "marker": {
             "colorbar": {
              "outlinewidth": 0,
              "ticks": ""
             }
            },
            "type": "scattergl"
           }
          ],
          "scattermapbox": [
           {
            "marker": {
             "colorbar": {
              "outlinewidth": 0,
              "ticks": ""
             }
            },
            "type": "scattermapbox"
           }
          ],
          "scatterpolar": [
           {
            "marker": {
             "colorbar": {
              "outlinewidth": 0,
              "ticks": ""
             }
            },
            "type": "scatterpolar"
           }
          ],
          "scatterpolargl": [
           {
            "marker": {
             "colorbar": {
              "outlinewidth": 0,
              "ticks": ""
             }
            },
            "type": "scatterpolargl"
           }
          ],
          "scatterternary": [
           {
            "marker": {
             "colorbar": {
              "outlinewidth": 0,
              "ticks": ""
             }
            },
            "type": "scatterternary"
           }
          ],
          "surface": [
           {
            "colorbar": {
             "outlinewidth": 0,
             "ticks": ""
            },
            "colorscale": [
             [
              0,
              "#0d0887"
             ],
             [
              0.1111111111111111,
              "#46039f"
             ],
             [
              0.2222222222222222,
              "#7201a8"
             ],
             [
              0.3333333333333333,
              "#9c179e"
             ],
             [
              0.4444444444444444,
              "#bd3786"
             ],
             [
              0.5555555555555556,
              "#d8576b"
             ],
             [
              0.6666666666666666,
              "#ed7953"
             ],
             [
              0.7777777777777778,
              "#fb9f3a"
             ],
             [
              0.8888888888888888,
              "#fdca26"
             ],
             [
              1,
              "#f0f921"
             ]
            ],
            "type": "surface"
           }
          ],
          "table": [
           {
            "cells": {
             "fill": {
              "color": "#EBF0F8"
             },
             "line": {
              "color": "white"
             }
            },
            "header": {
             "fill": {
              "color": "#C8D4E3"
             },
             "line": {
              "color": "white"
             }
            },
            "type": "table"
           }
          ]
         },
         "layout": {
          "annotationdefaults": {
           "arrowcolor": "#2a3f5f",
           "arrowhead": 0,
           "arrowwidth": 1
          },
          "autotypenumbers": "strict",
          "coloraxis": {
           "colorbar": {
            "outlinewidth": 0,
            "ticks": ""
           }
          },
          "colorscale": {
           "diverging": [
            [
             0,
             "#8e0152"
            ],
            [
             0.1,
             "#c51b7d"
            ],
            [
             0.2,
             "#de77ae"
            ],
            [
             0.3,
             "#f1b6da"
            ],
            [
             0.4,
             "#fde0ef"
            ],
            [
             0.5,
             "#f7f7f7"
            ],
            [
             0.6,
             "#e6f5d0"
            ],
            [
             0.7,
             "#b8e186"
            ],
            [
             0.8,
             "#7fbc41"
            ],
            [
             0.9,
             "#4d9221"
            ],
            [
             1,
             "#276419"
            ]
           ],
           "sequential": [
            [
             0,
             "#0d0887"
            ],
            [
             0.1111111111111111,
             "#46039f"
            ],
            [
             0.2222222222222222,
             "#7201a8"
            ],
            [
             0.3333333333333333,
             "#9c179e"
            ],
            [
             0.4444444444444444,
             "#bd3786"
            ],
            [
             0.5555555555555556,
             "#d8576b"
            ],
            [
             0.6666666666666666,
             "#ed7953"
            ],
            [
             0.7777777777777778,
             "#fb9f3a"
            ],
            [
             0.8888888888888888,
             "#fdca26"
            ],
            [
             1,
             "#f0f921"
            ]
           ],
           "sequentialminus": [
            [
             0,
             "#0d0887"
            ],
            [
             0.1111111111111111,
             "#46039f"
            ],
            [
             0.2222222222222222,
             "#7201a8"
            ],
            [
             0.3333333333333333,
             "#9c179e"
            ],
            [
             0.4444444444444444,
             "#bd3786"
            ],
            [
             0.5555555555555556,
             "#d8576b"
            ],
            [
             0.6666666666666666,
             "#ed7953"
            ],
            [
             0.7777777777777778,
             "#fb9f3a"
            ],
            [
             0.8888888888888888,
             "#fdca26"
            ],
            [
             1,
             "#f0f921"
            ]
           ]
          },
          "colorway": [
           "#636efa",
           "#EF553B",
           "#00cc96",
           "#ab63fa",
           "#FFA15A",
           "#19d3f3",
           "#FF6692",
           "#B6E880",
           "#FF97FF",
           "#FECB52"
          ],
          "font": {
           "color": "#2a3f5f"
          },
          "geo": {
           "bgcolor": "white",
           "lakecolor": "white",
           "landcolor": "#E5ECF6",
           "showlakes": true,
           "showland": true,
           "subunitcolor": "white"
          },
          "hoverlabel": {
           "align": "left"
          },
          "hovermode": "closest",
          "mapbox": {
           "style": "light"
          },
          "paper_bgcolor": "white",
          "plot_bgcolor": "#E5ECF6",
          "polar": {
           "angularaxis": {
            "gridcolor": "white",
            "linecolor": "white",
            "ticks": ""
           },
           "bgcolor": "#E5ECF6",
           "radialaxis": {
            "gridcolor": "white",
            "linecolor": "white",
            "ticks": ""
           }
          },
          "scene": {
           "xaxis": {
            "backgroundcolor": "#E5ECF6",
            "gridcolor": "white",
            "gridwidth": 2,
            "linecolor": "white",
            "showbackground": true,
            "ticks": "",
            "zerolinecolor": "white"
           },
           "yaxis": {
            "backgroundcolor": "#E5ECF6",
            "gridcolor": "white",
            "gridwidth": 2,
            "linecolor": "white",
            "showbackground": true,
            "ticks": "",
            "zerolinecolor": "white"
           },
           "zaxis": {
            "backgroundcolor": "#E5ECF6",
            "gridcolor": "white",
            "gridwidth": 2,
            "linecolor": "white",
            "showbackground": true,
            "ticks": "",
            "zerolinecolor": "white"
           }
          },
          "shapedefaults": {
           "line": {
            "color": "#2a3f5f"
           }
          },
          "ternary": {
           "aaxis": {
            "gridcolor": "white",
            "linecolor": "white",
            "ticks": ""
           },
           "baxis": {
            "gridcolor": "white",
            "linecolor": "white",
            "ticks": ""
           },
           "bgcolor": "#E5ECF6",
           "caxis": {
            "gridcolor": "white",
            "linecolor": "white",
            "ticks": ""
           }
          },
          "title": {
           "x": 0.05
          },
          "xaxis": {
           "automargin": true,
           "gridcolor": "white",
           "linecolor": "white",
           "ticks": "",
           "title": {
            "standoff": 15
           },
           "zerolinecolor": "white",
           "zerolinewidth": 2
          },
          "yaxis": {
           "automargin": true,
           "gridcolor": "white",
           "linecolor": "white",
           "ticks": "",
           "title": {
            "standoff": 15
           },
           "zerolinecolor": "white",
           "zerolinewidth": 2
          }
         }
        },
        "title": {
         "text": "Total Annual Savings for the Whole Community"
        },
        "width": 900,
        "xaxis": {
         "anchor": "y",
         "domain": [
          0,
          0.00012996750812296928
         ],
         "tickangle": 45,
         "title": {
          "text": ""
         },
         "visible": false
        },
        "xaxis2": {
         "anchor": "y2",
         "domain": [
          0.12012996750812296,
          0.25009747563109225
         ],
         "tickangle": 45,
         "title": {
          "text": "Bill<br>Savings<br>usd"
         },
         "visible": true
        },
        "xaxis3": {
         "anchor": "y3",
         "domain": [
          0.37009747563109224,
          0.5000649837540615
         ],
         "tickangle": 45,
         "title": {
          "text": "Emission<br>Savings<br>kgCO2e"
         },
         "visible": true
        },
        "xaxis4": {
         "anchor": "y4",
         "domain": [
          0.6200649837540615,
          0.7500324918770308
         ],
         "tickangle": 45,
         "title": {
          "text": "Electricity<br>Savings<br>kwh"
         },
         "visible": true
        },
        "xaxis5": {
         "anchor": "y5",
         "domain": [
          0.8700324918770308,
          1
         ],
         "tickangle": 45,
         "title": {
          "text": "Gas, Propane,<br>Fuel Oil Savings<br>mmbtu"
         },
         "visible": true
        },
        "yaxis": {
         "anchor": "x",
         "domain": [
          0,
          1
         ],
         "visible": true
        },
        "yaxis2": {
         "anchor": "x2",
         "domain": [
          0,
          1
         ],
         "visible": false
        },
        "yaxis3": {
         "anchor": "x3",
         "domain": [
          0,
          1
         ],
         "visible": false
        },
        "yaxis4": {
         "anchor": "x4",
         "domain": [
          0,
          1
         ],
         "visible": false
        },
        "yaxis5": {
         "anchor": "x5",
         "domain": [
          0,
          1
         ],
         "visible": false
        }
       }
      }
     },
     "metadata": {},
     "output_type": "display_data"
    }
   ],
   "source": [
    "figure_total_savings_1(community_results)"
   ]
  },
  {
   "cell_type": "code",
   "execution_count": 36,
   "id": "ebec6b8d",
   "metadata": {},
   "outputs": [
    {
     "data": {
      "application/vnd.plotly.v1+json": {
       "config": {
        "plotlyServerURL": "https://plot.ly"
       },
       "data": [
        {
         "cliponaxis": false,
         "marker": {
          "color": "rgb(255, 255, 255)",
          "line": {
           "color": "rgb(255, 255, 255)"
          }
         },
         "orientation": "h",
         "textangle": 0,
         "textfont": {
          "size": 10
         },
         "textposition": "outside",
         "type": "bar",
         "x": [
          0,
          0,
          0,
          0,
          0,
          0,
          0,
          0,
          0,
          0,
          0,
          0,
          0,
          0,
          0,
          0,
          0,
          0,
          0,
          0,
          0,
          0,
          0,
          0,
          0,
          0,
          0,
          0,
          0,
          0,
          0,
          0,
          0,
          0,
          0,
          0,
          0,
          0,
          0,
          0,
          0,
          0,
          0,
          0,
          0,
          0,
          0,
          0,
          0,
          0,
          0,
          0,
          0,
          0,
          0,
          0,
          0,
          0,
          0,
          0,
          0,
          0,
          0,
          0,
          0,
          0,
          0,
          0,
          0,
          0,
          0,
          0,
          0,
          0,
          0,
          0,
          0,
          0,
          0,
          0,
          0,
          0,
          0,
          0,
          0,
          0,
          0,
          0,
          0,
          0,
          0,
          0,
          0,
          0,
          0,
          0,
          0,
          0,
          0,
          0,
          0,
          0,
          0,
          0,
          0,
          0,
          0,
          0,
          0,
          0,
          0,
          0,
          0,
          0,
          0,
          0,
          0,
          0,
          0,
          0,
          0,
          0,
          0,
          0,
          0,
          0,
          0,
          0,
          0,
          0,
          0,
          0,
          0,
          0,
          0,
          0,
          0,
          0,
          0,
          0,
          0,
          0,
          0,
          0,
          0,
          0,
          0,
          0,
          0,
          0,
          0,
          0,
          0,
          0,
          0,
          0,
          0,
          0,
          0,
          0,
          0,
          0,
          0,
          0,
          0,
          0,
          0,
          0,
          0,
          0,
          0,
          0,
          0,
          0,
          0,
          0
         ],
         "xaxis": "x",
         "y": [
          "Mininum Efficiency Whole Home Electrification",
          "Mininum Efficiency Heat Pump with Electric Heat Backup",
          "Electric Cooking",
          "Induction Cooking",
          "Mininum Efficiency Heat Pump with Existing Heat Backup",
          "Electric Clothes Dryer",
          "Heat Pump Clothes Dryer",
          "Heat Pump Water Heater",
          "High Efficiency Heat Pump with Electric Heat Backup",
          "High Efficiency Whole Home Electrification",
          "Basic Enclosure",
          "Enhanced Enclosure",
          "Basic Enclosure + High Efficiency Whole Home Electrification",
          "Basic Enclosure + HPWH + High Efficiency HP/Electric Backup",
          "Enhanced Enclosure + High Efficiency Whole Home Electrification",
          "Enhanced Enclosure + HPWH + High Efficiency HP/Electric Backup"
         ],
         "yaxis": "y"
        },
        {
         "cliponaxis": false,
         "marker": {
          "color": "rgb(0, 121, 61)",
          "line": {
           "color": "rgb(0, 121, 61)"
          }
         },
         "orientation": "h",
         "text": [
          -51177493.38986804,
          -34428627.1260403,
          -2232567.4272690956,
          -1595543.0887620584,
          -1155076.7218412603,
          -1068967.6732839602,
          1102899.2177768694,
          2810037.6998261213,
          14161241.647828283,
          23206892.995109484,
          26000537.545126997,
          29860479.09767613,
          46840513.90177496,
          47041486.25510215,
          49050645.311839625,
          49251617.66516682
         ],
         "textangle": 0,
         "textfont": {
          "size": 10
         },
         "textposition": "outside",
         "texttemplate": "%{text:.3s}",
         "type": "bar",
         "x": [
          -51177493.38986804,
          -34428627.1260403,
          -2232567.4272690956,
          -1595543.0887620584,
          -1155076.7218412603,
          -1068967.6732839602,
          1102899.2177768694,
          2810037.6998261213,
          14161241.647828283,
          23206892.995109484,
          26000537.545126997,
          29860479.09767613,
          46840513.90177496,
          47041486.25510215,
          49050645.311839625,
          49251617.66516682
         ],
         "xaxis": "x2",
         "y": [
          "Mininum Efficiency Whole Home Electrification",
          "Mininum Efficiency Heat Pump with Electric Heat Backup",
          "Electric Cooking",
          "Induction Cooking",
          "Mininum Efficiency Heat Pump with Existing Heat Backup",
          "Electric Clothes Dryer",
          "Heat Pump Clothes Dryer",
          "Heat Pump Water Heater",
          "High Efficiency Heat Pump with Electric Heat Backup",
          "High Efficiency Whole Home Electrification",
          "Basic Enclosure",
          "Enhanced Enclosure",
          "Basic Enclosure + High Efficiency Whole Home Electrification",
          "Basic Enclosure + HPWH + High Efficiency HP/Electric Backup",
          "Enhanced Enclosure + High Efficiency Whole Home Electrification",
          "Enhanced Enclosure + HPWH + High Efficiency HP/Electric Backup"
         ],
         "yaxis": "y2"
        },
        {
         "cliponaxis": false,
         "marker": {
          "color": "rgb(0, 121, 61)",
          "line": {
           "color": "rgb(0, 121, 61)"
          }
         },
         "orientation": "h",
         "text": [
          119680134.84378858,
          95749190.80779828,
          3005009.2119232784,
          4125494.563169668,
          85898907.07217269,
          -149417.45884882592,
          3544439.383433246,
          40795807.51255415,
          192824131.2731375,
          266577012.48120186,
          114634738.71948875,
          130964620.94987243,
          315202532.99622655,
          307532599.0496236,
          319712432.8849812,
          312042498.93837833
         ],
         "textangle": 0,
         "textfont": {
          "size": 10
         },
         "textposition": "outside",
         "texttemplate": "%{text:.3s}",
         "type": "bar",
         "x": [
          119680134.84378858,
          95749190.80779828,
          3005009.2119232784,
          4125494.563169668,
          85898907.07217269,
          -149417.45884882592,
          3544439.383433246,
          40795807.51255415,
          192824131.2731375,
          266577012.48120186,
          114634738.71948875,
          130964620.94987243,
          315202532.99622655,
          307532599.0496236,
          319712432.8849812,
          312042498.93837833
         ],
         "xaxis": "x3",
         "y": [
          "Mininum Efficiency Whole Home Electrification",
          "Mininum Efficiency Heat Pump with Electric Heat Backup",
          "Electric Cooking",
          "Induction Cooking",
          "Mininum Efficiency Heat Pump with Existing Heat Backup",
          "Electric Clothes Dryer",
          "Heat Pump Clothes Dryer",
          "Heat Pump Water Heater",
          "High Efficiency Heat Pump with Electric Heat Backup",
          "High Efficiency Whole Home Electrification",
          "Basic Enclosure",
          "Enhanced Enclosure",
          "Basic Enclosure + High Efficiency Whole Home Electrification",
          "Basic Enclosure + HPWH + High Efficiency HP/Electric Backup",
          "Enhanced Enclosure + High Efficiency Whole Home Electrification",
          "Enhanced Enclosure + HPWH + High Efficiency HP/Electric Backup"
         ],
         "yaxis": "y3"
        },
        {
         "cliponaxis": false,
         "marker": {
          "color": "rgb(0, 121, 61)",
          "line": {
           "color": "rgb(0, 121, 61)"
          }
         },
         "orientation": "h",
         "text": [
          62451.442,
          48854.129,
          1530.4809999999998,
          1779.6220000000008,
          31628.887,
          163.79600000000022,
          1013.1409999999998,
          13690.608,
          67831.287,
          91540.749,
          33391.640999999996,
          38086.369,
          100783.079,
          97990.316,
          101647.399,
          98854.636
         ],
         "textangle": 0,
         "textfont": {
          "size": 10
         },
         "textposition": "outside",
         "texttemplate": "%{text:.3s}",
         "type": "bar",
         "x": [
          62451.442,
          48854.129,
          1530.4809999999998,
          1779.6220000000008,
          31628.887,
          163.79600000000022,
          1013.1409999999998,
          13690.608,
          67831.287,
          91540.749,
          33391.640999999996,
          38086.369,
          100783.079,
          97990.316,
          101647.399,
          98854.636
         ],
         "xaxis": "x4",
         "y": [
          "Mininum Efficiency Whole Home Electrification",
          "Mininum Efficiency Heat Pump with Electric Heat Backup",
          "Electric Cooking",
          "Induction Cooking",
          "Mininum Efficiency Heat Pump with Existing Heat Backup",
          "Electric Clothes Dryer",
          "Heat Pump Clothes Dryer",
          "Heat Pump Water Heater",
          "High Efficiency Heat Pump with Electric Heat Backup",
          "High Efficiency Whole Home Electrification",
          "Basic Enclosure",
          "Enhanced Enclosure",
          "Basic Enclosure + High Efficiency Whole Home Electrification",
          "Basic Enclosure + HPWH + High Efficiency HP/Electric Backup",
          "Enhanced Enclosure + High Efficiency Whole Home Electrification",
          "Enhanced Enclosure + HPWH + High Efficiency HP/Electric Backup"
         ],
         "yaxis": "y4"
        },
        {
         "cliponaxis": false,
         "marker": {
          "color": "rgb(0, 121, 61)",
          "line": {
           "color": "rgb(0, 121, 61)"
          }
         },
         "orientation": "h",
         "text": [
          -513225111.46241766,
          -364692329.2203657,
          -18666538.49051087,
          -15262908.24421696,
          -99108530.79527314,
          -7367798.781978433,
          4236533.826809925,
          -19832688.211776305,
          -105005816.59587073,
          -115787697.56533752,
          71686899.85357982,
          83137609.42081243,
          10487259.19179794,
          21513633.609204974,
          22296039.96795026,
          33322414.385357294
         ],
         "textangle": 0,
         "textfont": {
          "size": 10
         },
         "textposition": "outside",
         "texttemplate": "%{text:.3s}",
         "type": "bar",
         "x": [
          -513225111.46241766,
          -364692329.2203657,
          -18666538.49051087,
          -15262908.24421696,
          -99108530.79527314,
          -7367798.781978433,
          4236533.826809925,
          -19832688.211776305,
          -105005816.59587073,
          -115787697.56533752,
          71686899.85357982,
          83137609.42081243,
          10487259.19179794,
          21513633.609204974,
          22296039.96795026,
          33322414.385357294
         ],
         "xaxis": "x5",
         "y": [
          "Mininum Efficiency Whole Home Electrification",
          "Mininum Efficiency Heat Pump with Electric Heat Backup",
          "Electric Cooking",
          "Induction Cooking",
          "Mininum Efficiency Heat Pump with Existing Heat Backup",
          "Electric Clothes Dryer",
          "Heat Pump Clothes Dryer",
          "Heat Pump Water Heater",
          "High Efficiency Heat Pump with Electric Heat Backup",
          "High Efficiency Whole Home Electrification",
          "Basic Enclosure",
          "Enhanced Enclosure",
          "Basic Enclosure + High Efficiency Whole Home Electrification",
          "Basic Enclosure + HPWH + High Efficiency HP/Electric Backup",
          "Enhanced Enclosure + High Efficiency Whole Home Electrification",
          "Enhanced Enclosure + HPWH + High Efficiency HP/Electric Backup"
         ],
         "yaxis": "y5"
        },
        {
         "cliponaxis": false,
         "marker": {
          "color": "rgb(0, 121, 61)",
          "line": {
           "color": "rgb(0, 121, 61)"
          }
         },
         "orientation": "h",
         "text": [
          4662620.182929368,
          3521911.688118959,
          135043.23670074347,
          135043.32993866169,
          1812679.159618959,
          32775.925390334574,
          32775.925390334574,
          705915.4673605948,
          3520519.5061431224,
          4662620.182929368,
          1312079.1824442379,
          1491871.5850408922,
          4662620.182929368,
          4494800.927600372,
          4662620.182929368,
          4494800.927600372
         ],
         "textangle": 0,
         "textfont": {
          "size": 10
         },
         "textposition": "outside",
         "texttemplate": "%{text:.3s}",
         "type": "bar",
         "x": [
          4662620.182929368,
          3521911.688118959,
          135043.23670074347,
          135043.32993866169,
          1812679.159618959,
          32775.925390334574,
          32775.925390334574,
          705915.4673605948,
          3520519.5061431224,
          4662620.182929368,
          1312079.1824442379,
          1491871.5850408922,
          4662620.182929368,
          4494800.927600372,
          4662620.182929368,
          4494800.927600372
         ],
         "xaxis": "x6",
         "y": [
          "Mininum Efficiency Whole Home Electrification",
          "Mininum Efficiency Heat Pump with Electric Heat Backup",
          "Electric Cooking",
          "Induction Cooking",
          "Mininum Efficiency Heat Pump with Existing Heat Backup",
          "Electric Clothes Dryer",
          "Heat Pump Clothes Dryer",
          "Heat Pump Water Heater",
          "High Efficiency Heat Pump with Electric Heat Backup",
          "High Efficiency Whole Home Electrification",
          "Basic Enclosure",
          "Enhanced Enclosure",
          "Basic Enclosure + High Efficiency Whole Home Electrification",
          "Basic Enclosure + HPWH + High Efficiency HP/Electric Backup",
          "Enhanced Enclosure + High Efficiency Whole Home Electrification",
          "Enhanced Enclosure + HPWH + High Efficiency HP/Electric Backup"
         ],
         "yaxis": "y6"
        }
       ],
       "layout": {
        "autosize": false,
        "font": {
         "size": 10
        },
        "height": 500,
        "plot_bgcolor": "rgba(0, 0, 0, 0)",
        "showlegend": false,
        "template": {
         "data": {
          "bar": [
           {
            "error_x": {
             "color": "#2a3f5f"
            },
            "error_y": {
             "color": "#2a3f5f"
            },
            "marker": {
             "line": {
              "color": "#E5ECF6",
              "width": 0.5
             },
             "pattern": {
              "fillmode": "overlay",
              "size": 10,
              "solidity": 0.2
             }
            },
            "type": "bar"
           }
          ],
          "barpolar": [
           {
            "marker": {
             "line": {
              "color": "#E5ECF6",
              "width": 0.5
             },
             "pattern": {
              "fillmode": "overlay",
              "size": 10,
              "solidity": 0.2
             }
            },
            "type": "barpolar"
           }
          ],
          "carpet": [
           {
            "aaxis": {
             "endlinecolor": "#2a3f5f",
             "gridcolor": "white",
             "linecolor": "white",
             "minorgridcolor": "white",
             "startlinecolor": "#2a3f5f"
            },
            "baxis": {
             "endlinecolor": "#2a3f5f",
             "gridcolor": "white",
             "linecolor": "white",
             "minorgridcolor": "white",
             "startlinecolor": "#2a3f5f"
            },
            "type": "carpet"
           }
          ],
          "choropleth": [
           {
            "colorbar": {
             "outlinewidth": 0,
             "ticks": ""
            },
            "type": "choropleth"
           }
          ],
          "contour": [
           {
            "colorbar": {
             "outlinewidth": 0,
             "ticks": ""
            },
            "colorscale": [
             [
              0,
              "#0d0887"
             ],
             [
              0.1111111111111111,
              "#46039f"
             ],
             [
              0.2222222222222222,
              "#7201a8"
             ],
             [
              0.3333333333333333,
              "#9c179e"
             ],
             [
              0.4444444444444444,
              "#bd3786"
             ],
             [
              0.5555555555555556,
              "#d8576b"
             ],
             [
              0.6666666666666666,
              "#ed7953"
             ],
             [
              0.7777777777777778,
              "#fb9f3a"
             ],
             [
              0.8888888888888888,
              "#fdca26"
             ],
             [
              1,
              "#f0f921"
             ]
            ],
            "type": "contour"
           }
          ],
          "contourcarpet": [
           {
            "colorbar": {
             "outlinewidth": 0,
             "ticks": ""
            },
            "type": "contourcarpet"
           }
          ],
          "heatmap": [
           {
            "colorbar": {
             "outlinewidth": 0,
             "ticks": ""
            },
            "colorscale": [
             [
              0,
              "#0d0887"
             ],
             [
              0.1111111111111111,
              "#46039f"
             ],
             [
              0.2222222222222222,
              "#7201a8"
             ],
             [
              0.3333333333333333,
              "#9c179e"
             ],
             [
              0.4444444444444444,
              "#bd3786"
             ],
             [
              0.5555555555555556,
              "#d8576b"
             ],
             [
              0.6666666666666666,
              "#ed7953"
             ],
             [
              0.7777777777777778,
              "#fb9f3a"
             ],
             [
              0.8888888888888888,
              "#fdca26"
             ],
             [
              1,
              "#f0f921"
             ]
            ],
            "type": "heatmap"
           }
          ],
          "heatmapgl": [
           {
            "colorbar": {
             "outlinewidth": 0,
             "ticks": ""
            },
            "colorscale": [
             [
              0,
              "#0d0887"
             ],
             [
              0.1111111111111111,
              "#46039f"
             ],
             [
              0.2222222222222222,
              "#7201a8"
             ],
             [
              0.3333333333333333,
              "#9c179e"
             ],
             [
              0.4444444444444444,
              "#bd3786"
             ],
             [
              0.5555555555555556,
              "#d8576b"
             ],
             [
              0.6666666666666666,
              "#ed7953"
             ],
             [
              0.7777777777777778,
              "#fb9f3a"
             ],
             [
              0.8888888888888888,
              "#fdca26"
             ],
             [
              1,
              "#f0f921"
             ]
            ],
            "type": "heatmapgl"
           }
          ],
          "histogram": [
           {
            "marker": {
             "pattern": {
              "fillmode": "overlay",
              "size": 10,
              "solidity": 0.2
             }
            },
            "type": "histogram"
           }
          ],
          "histogram2d": [
           {
            "colorbar": {
             "outlinewidth": 0,
             "ticks": ""
            },
            "colorscale": [
             [
              0,
              "#0d0887"
             ],
             [
              0.1111111111111111,
              "#46039f"
             ],
             [
              0.2222222222222222,
              "#7201a8"
             ],
             [
              0.3333333333333333,
              "#9c179e"
             ],
             [
              0.4444444444444444,
              "#bd3786"
             ],
             [
              0.5555555555555556,
              "#d8576b"
             ],
             [
              0.6666666666666666,
              "#ed7953"
             ],
             [
              0.7777777777777778,
              "#fb9f3a"
             ],
             [
              0.8888888888888888,
              "#fdca26"
             ],
             [
              1,
              "#f0f921"
             ]
            ],
            "type": "histogram2d"
           }
          ],
          "histogram2dcontour": [
           {
            "colorbar": {
             "outlinewidth": 0,
             "ticks": ""
            },
            "colorscale": [
             [
              0,
              "#0d0887"
             ],
             [
              0.1111111111111111,
              "#46039f"
             ],
             [
              0.2222222222222222,
              "#7201a8"
             ],
             [
              0.3333333333333333,
              "#9c179e"
             ],
             [
              0.4444444444444444,
              "#bd3786"
             ],
             [
              0.5555555555555556,
              "#d8576b"
             ],
             [
              0.6666666666666666,
              "#ed7953"
             ],
             [
              0.7777777777777778,
              "#fb9f3a"
             ],
             [
              0.8888888888888888,
              "#fdca26"
             ],
             [
              1,
              "#f0f921"
             ]
            ],
            "type": "histogram2dcontour"
           }
          ],
          "mesh3d": [
           {
            "colorbar": {
             "outlinewidth": 0,
             "ticks": ""
            },
            "type": "mesh3d"
           }
          ],
          "parcoords": [
           {
            "line": {
             "colorbar": {
              "outlinewidth": 0,
              "ticks": ""
             }
            },
            "type": "parcoords"
           }
          ],
          "pie": [
           {
            "automargin": true,
            "type": "pie"
           }
          ],
          "scatter": [
           {
            "fillpattern": {
             "fillmode": "overlay",
             "size": 10,
             "solidity": 0.2
            },
            "type": "scatter"
           }
          ],
          "scatter3d": [
           {
            "line": {
             "colorbar": {
              "outlinewidth": 0,
              "ticks": ""
             }
            },
            "marker": {
             "colorbar": {
              "outlinewidth": 0,
              "ticks": ""
             }
            },
            "type": "scatter3d"
           }
          ],
          "scattercarpet": [
           {
            "marker": {
             "colorbar": {
              "outlinewidth": 0,
              "ticks": ""
             }
            },
            "type": "scattercarpet"
           }
          ],
          "scattergeo": [
           {
            "marker": {
             "colorbar": {
              "outlinewidth": 0,
              "ticks": ""
             }
            },
            "type": "scattergeo"
           }
          ],
          "scattergl": [
           {
            "marker": {
             "colorbar": {
              "outlinewidth": 0,
              "ticks": ""
             }
            },
            "type": "scattergl"
           }
          ],
          "scattermapbox": [
           {
            "marker": {
             "colorbar": {
              "outlinewidth": 0,
              "ticks": ""
             }
            },
            "type": "scattermapbox"
           }
          ],
          "scatterpolar": [
           {
            "marker": {
             "colorbar": {
              "outlinewidth": 0,
              "ticks": ""
             }
            },
            "type": "scatterpolar"
           }
          ],
          "scatterpolargl": [
           {
            "marker": {
             "colorbar": {
              "outlinewidth": 0,
              "ticks": ""
             }
            },
            "type": "scatterpolargl"
           }
          ],
          "scatterternary": [
           {
            "marker": {
             "colorbar": {
              "outlinewidth": 0,
              "ticks": ""
             }
            },
            "type": "scatterternary"
           }
          ],
          "surface": [
           {
            "colorbar": {
             "outlinewidth": 0,
             "ticks": ""
            },
            "colorscale": [
             [
              0,
              "#0d0887"
             ],
             [
              0.1111111111111111,
              "#46039f"
             ],
             [
              0.2222222222222222,
              "#7201a8"
             ],
             [
              0.3333333333333333,
              "#9c179e"
             ],
             [
              0.4444444444444444,
              "#bd3786"
             ],
             [
              0.5555555555555556,
              "#d8576b"
             ],
             [
              0.6666666666666666,
              "#ed7953"
             ],
             [
              0.7777777777777778,
              "#fb9f3a"
             ],
             [
              0.8888888888888888,
              "#fdca26"
             ],
             [
              1,
              "#f0f921"
             ]
            ],
            "type": "surface"
           }
          ],
          "table": [
           {
            "cells": {
             "fill": {
              "color": "#EBF0F8"
             },
             "line": {
              "color": "white"
             }
            },
            "header": {
             "fill": {
              "color": "#C8D4E3"
             },
             "line": {
              "color": "white"
             }
            },
            "type": "table"
           }
          ]
         },
         "layout": {
          "annotationdefaults": {
           "arrowcolor": "#2a3f5f",
           "arrowhead": 0,
           "arrowwidth": 1
          },
          "autotypenumbers": "strict",
          "coloraxis": {
           "colorbar": {
            "outlinewidth": 0,
            "ticks": ""
           }
          },
          "colorscale": {
           "diverging": [
            [
             0,
             "#8e0152"
            ],
            [
             0.1,
             "#c51b7d"
            ],
            [
             0.2,
             "#de77ae"
            ],
            [
             0.3,
             "#f1b6da"
            ],
            [
             0.4,
             "#fde0ef"
            ],
            [
             0.5,
             "#f7f7f7"
            ],
            [
             0.6,
             "#e6f5d0"
            ],
            [
             0.7,
             "#b8e186"
            ],
            [
             0.8,
             "#7fbc41"
            ],
            [
             0.9,
             "#4d9221"
            ],
            [
             1,
             "#276419"
            ]
           ],
           "sequential": [
            [
             0,
             "#0d0887"
            ],
            [
             0.1111111111111111,
             "#46039f"
            ],
            [
             0.2222222222222222,
             "#7201a8"
            ],
            [
             0.3333333333333333,
             "#9c179e"
            ],
            [
             0.4444444444444444,
             "#bd3786"
            ],
            [
             0.5555555555555556,
             "#d8576b"
            ],
            [
             0.6666666666666666,
             "#ed7953"
            ],
            [
             0.7777777777777778,
             "#fb9f3a"
            ],
            [
             0.8888888888888888,
             "#fdca26"
            ],
            [
             1,
             "#f0f921"
            ]
           ],
           "sequentialminus": [
            [
             0,
             "#0d0887"
            ],
            [
             0.1111111111111111,
             "#46039f"
            ],
            [
             0.2222222222222222,
             "#7201a8"
            ],
            [
             0.3333333333333333,
             "#9c179e"
            ],
            [
             0.4444444444444444,
             "#bd3786"
            ],
            [
             0.5555555555555556,
             "#d8576b"
            ],
            [
             0.6666666666666666,
             "#ed7953"
            ],
            [
             0.7777777777777778,
             "#fb9f3a"
            ],
            [
             0.8888888888888888,
             "#fdca26"
            ],
            [
             1,
             "#f0f921"
            ]
           ]
          },
          "colorway": [
           "#636efa",
           "#EF553B",
           "#00cc96",
           "#ab63fa",
           "#FFA15A",
           "#19d3f3",
           "#FF6692",
           "#B6E880",
           "#FF97FF",
           "#FECB52"
          ],
          "font": {
           "color": "#2a3f5f"
          },
          "geo": {
           "bgcolor": "white",
           "lakecolor": "white",
           "landcolor": "#E5ECF6",
           "showlakes": true,
           "showland": true,
           "subunitcolor": "white"
          },
          "hoverlabel": {
           "align": "left"
          },
          "hovermode": "closest",
          "mapbox": {
           "style": "light"
          },
          "paper_bgcolor": "white",
          "plot_bgcolor": "#E5ECF6",
          "polar": {
           "angularaxis": {
            "gridcolor": "white",
            "linecolor": "white",
            "ticks": ""
           },
           "bgcolor": "#E5ECF6",
           "radialaxis": {
            "gridcolor": "white",
            "linecolor": "white",
            "ticks": ""
           }
          },
          "scene": {
           "xaxis": {
            "backgroundcolor": "#E5ECF6",
            "gridcolor": "white",
            "gridwidth": 2,
            "linecolor": "white",
            "showbackground": true,
            "ticks": "",
            "zerolinecolor": "white"
           },
           "yaxis": {
            "backgroundcolor": "#E5ECF6",
            "gridcolor": "white",
            "gridwidth": 2,
            "linecolor": "white",
            "showbackground": true,
            "ticks": "",
            "zerolinecolor": "white"
           },
           "zaxis": {
            "backgroundcolor": "#E5ECF6",
            "gridcolor": "white",
            "gridwidth": 2,
            "linecolor": "white",
            "showbackground": true,
            "ticks": "",
            "zerolinecolor": "white"
           }
          },
          "shapedefaults": {
           "line": {
            "color": "#2a3f5f"
           }
          },
          "ternary": {
           "aaxis": {
            "gridcolor": "white",
            "linecolor": "white",
            "ticks": ""
           },
           "baxis": {
            "gridcolor": "white",
            "linecolor": "white",
            "ticks": ""
           },
           "bgcolor": "#E5ECF6",
           "caxis": {
            "gridcolor": "white",
            "linecolor": "white",
            "ticks": ""
           }
          },
          "title": {
           "x": 0.05
          },
          "xaxis": {
           "automargin": true,
           "gridcolor": "white",
           "linecolor": "white",
           "ticks": "",
           "title": {
            "standoff": 15
           },
           "zerolinecolor": "white",
           "zerolinewidth": 2
          },
          "yaxis": {
           "automargin": true,
           "gridcolor": "white",
           "linecolor": "white",
           "ticks": "",
           "title": {
            "standoff": 15
           },
           "zerolinecolor": "white",
           "zerolinewidth": 2
          }
         }
        },
        "title": {
         "text": "Community Total Annual Savings"
        },
        "width": 1100,
        "xaxis": {
         "anchor": "y",
         "domain": [
          0,
          0.00007998400319936014
         ],
         "tickangle": 45,
         "title": {
          "text": ""
         },
         "visible": false
        },
        "xaxis2": {
         "anchor": "y2",
         "domain": [
          0.12007998400319936,
          0.2000639872025595
         ],
         "tickangle": 45,
         "title": {
          "text": "Bill<br>Savings<br>usd"
         },
         "visible": true
        },
        "xaxis3": {
         "anchor": "y3",
         "domain": [
          0.32006398720255946,
          0.40004799040191963
         ],
         "tickangle": 45,
         "title": {
          "text": "Site Emission<br>Saving<br>kgCO2e"
         },
         "visible": true
        },
        "xaxis4": {
         "anchor": "y4",
         "domain": [
          0.5200479904019196,
          0.6000319936012798
         ],
         "tickangle": 45,
         "title": {
          "text": "Site Energy<br>Saving<br>mmbtu"
         },
         "visible": true
        },
        "xaxis5": {
         "anchor": "y5",
         "domain": [
          0.7200319936012798,
          0.80001599680064
         ],
         "tickangle": 45,
         "title": {
          "text": "Electricity<br>Saving<br>kwh"
         },
         "visible": true
        },
        "xaxis6": {
         "anchor": "y6",
         "domain": [
          0.9200159968006398,
          1
         ],
         "tickangle": 45,
         "title": {
          "text": "Gas, Propane,<br>Fuel Oil Saving<br>mmbtu"
         },
         "visible": true
        },
        "yaxis": {
         "anchor": "x",
         "domain": [
          0,
          1
         ],
         "visible": true
        },
        "yaxis2": {
         "anchor": "x2",
         "domain": [
          0,
          1
         ],
         "visible": false
        },
        "yaxis3": {
         "anchor": "x3",
         "domain": [
          0,
          1
         ],
         "visible": false
        },
        "yaxis4": {
         "anchor": "x4",
         "domain": [
          0,
          1
         ],
         "visible": false
        },
        "yaxis5": {
         "anchor": "x5",
         "domain": [
          0,
          1
         ],
         "visible": false
        },
        "yaxis6": {
         "anchor": "x6",
         "domain": [
          0,
          1
         ],
         "visible": false
        }
       }
      }
     },
     "metadata": {},
     "output_type": "display_data"
    }
   ],
   "source": [
    "results = figure_total_savings_2(community_results)\n",
    "saving_results[['whole_community_saving_bill_total_usd','whole_community_saving_emission_total_kgCO2e','whole_community_saving_energy_total_mmbtu','whole_community_saving_electricity_total_kwh','whole_community_saving_natural_gas_fuel_oil_propane_total_mmbtu']] = results"
   ]
  },
  {
   "cell_type": "code",
   "execution_count": 37,
   "id": "e7ef5df2",
   "metadata": {},
   "outputs": [
    {
     "data": {
      "application/vnd.plotly.v1+json": {
       "config": {
        "plotlyServerURL": "https://plot.ly"
       },
       "data": [
        {
         "cliponaxis": false,
         "marker": {
          "color": "rgb(255, 255, 255)",
          "line": {
           "color": "rgb(255, 255, 255)"
          }
         },
         "orientation": "h",
         "textangle": 0,
         "textfont": {
          "size": 10
         },
         "textposition": "outside",
         "type": "bar",
         "x": [
          0,
          0,
          0,
          0,
          0,
          0,
          0,
          0,
          0,
          0,
          0,
          0,
          0,
          0,
          0,
          0,
          0,
          0,
          0,
          0,
          0,
          0,
          0,
          0,
          0,
          0,
          0,
          0,
          0,
          0,
          0,
          0,
          0,
          0,
          0,
          0,
          0,
          0,
          0,
          0,
          0,
          0,
          0,
          0,
          0,
          0,
          0,
          0,
          0,
          0,
          0,
          0,
          0,
          0,
          0,
          0,
          0,
          0,
          0,
          0,
          0,
          0,
          0,
          0,
          0,
          0,
          0,
          0,
          0,
          0,
          0,
          0,
          0,
          0,
          0,
          0,
          0,
          0,
          0,
          0,
          0,
          0,
          0,
          0,
          0,
          0,
          0,
          0,
          0,
          0,
          0,
          0,
          0,
          0,
          0,
          0,
          0,
          0,
          0,
          0,
          0,
          0,
          0,
          0,
          0,
          0,
          0,
          0,
          0,
          0,
          0,
          0,
          0,
          0,
          0,
          0,
          0,
          0,
          0,
          0,
          0,
          0,
          0,
          0,
          0,
          0,
          0,
          0,
          0,
          0,
          0,
          0,
          0,
          0,
          0,
          0,
          0,
          0,
          0,
          0,
          0,
          0,
          0,
          0,
          0,
          0,
          0,
          0,
          0,
          0,
          0,
          0,
          0,
          0,
          0,
          0,
          0,
          0,
          0,
          0,
          0,
          0,
          0,
          0,
          0,
          0,
          0,
          0,
          0,
          0,
          0,
          0,
          0,
          0,
          0,
          0
         ],
         "xaxis": "x",
         "y": [
          "Mininum Efficiency Whole Home Electrification",
          "Mininum Efficiency Heat Pump with Electric Heat Backup",
          "Electric Cooking",
          "Induction Cooking",
          "Mininum Efficiency Heat Pump with Existing Heat Backup",
          "Electric Clothes Dryer",
          "Heat Pump Clothes Dryer",
          "Heat Pump Water Heater",
          "High Efficiency Heat Pump with Electric Heat Backup",
          "High Efficiency Whole Home Electrification",
          "Basic Enclosure",
          "Enhanced Enclosure",
          "Basic Enclosure + High Efficiency Whole Home Electrification",
          "Basic Enclosure + HPWH + High Efficiency HP/Electric Backup",
          "Enhanced Enclosure + High Efficiency Whole Home Electrification",
          "Enhanced Enclosure + HPWH + High Efficiency HP/Electric Backup"
         ],
         "yaxis": "y"
        },
        {
         "cliponaxis": false,
         "marker": {
          "color": "rgb(0, 121, 61)",
          "line": {
           "color": "rgb(0, 121, 61)"
          }
         },
         "orientation": "h",
         "text": [
          -51177493.38986804,
          -34428627.1260403,
          -2232567.4272690956,
          -1595543.0887620584,
          -1155076.7218412603,
          -1068967.6732839602,
          1102899.2177768694,
          2810037.6998261213,
          14161241.647828283,
          23206892.995109484,
          26000537.545126997,
          29860479.09767613,
          46840513.90177496,
          47041486.25510215,
          49050645.311839625,
          49251617.66516682
         ],
         "textangle": 0,
         "textfont": {
          "size": 10
         },
         "textposition": "outside",
         "texttemplate": "%{text:.3s}",
         "type": "bar",
         "x": [
          -51177493.38986804,
          -34428627.1260403,
          -2232567.4272690956,
          -1595543.0887620584,
          -1155076.7218412603,
          -1068967.6732839602,
          1102899.2177768694,
          2810037.6998261213,
          14161241.647828283,
          23206892.995109484,
          26000537.545126997,
          29860479.09767613,
          46840513.90177496,
          47041486.25510215,
          49050645.311839625,
          49251617.66516682
         ],
         "xaxis": "x2",
         "y": [
          "Mininum Efficiency Whole Home Electrification",
          "Mininum Efficiency Heat Pump with Electric Heat Backup",
          "Electric Cooking",
          "Induction Cooking",
          "Mininum Efficiency Heat Pump with Existing Heat Backup",
          "Electric Clothes Dryer",
          "Heat Pump Clothes Dryer",
          "Heat Pump Water Heater",
          "High Efficiency Heat Pump with Electric Heat Backup",
          "High Efficiency Whole Home Electrification",
          "Basic Enclosure",
          "Enhanced Enclosure",
          "Basic Enclosure + High Efficiency Whole Home Electrification",
          "Basic Enclosure + HPWH + High Efficiency HP/Electric Backup",
          "Enhanced Enclosure + High Efficiency Whole Home Electrification",
          "Enhanced Enclosure + HPWH + High Efficiency HP/Electric Backup"
         ],
         "yaxis": "y2"
        },
        {
         "cliponaxis": false,
         "marker": {
          "color": "rgb(0, 121, 61)",
          "line": {
           "color": "rgb(0, 121, 61)"
          }
         },
         "orientation": "h",
         "text": [
          119680134.84378858,
          95749190.80779828,
          3005009.2119232784,
          4125494.563169668,
          85898907.07217269,
          -149417.45884882592,
          3544439.383433246,
          40795807.51255415,
          192824131.2731375,
          266577012.48120186,
          114634738.71948875,
          130964620.94987243,
          315202532.99622655,
          307532599.0496236,
          319712432.8849812,
          312042498.93837833
         ],
         "textangle": 0,
         "textfont": {
          "size": 10
         },
         "textposition": "outside",
         "texttemplate": "%{text:.3s}",
         "type": "bar",
         "x": [
          119680134.84378858,
          95749190.80779828,
          3005009.2119232784,
          4125494.563169668,
          85898907.07217269,
          -149417.45884882592,
          3544439.383433246,
          40795807.51255415,
          192824131.2731375,
          266577012.48120186,
          114634738.71948875,
          130964620.94987243,
          315202532.99622655,
          307532599.0496236,
          319712432.8849812,
          312042498.93837833
         ],
         "xaxis": "x3",
         "y": [
          "Mininum Efficiency Whole Home Electrification",
          "Mininum Efficiency Heat Pump with Electric Heat Backup",
          "Electric Cooking",
          "Induction Cooking",
          "Mininum Efficiency Heat Pump with Existing Heat Backup",
          "Electric Clothes Dryer",
          "Heat Pump Clothes Dryer",
          "Heat Pump Water Heater",
          "High Efficiency Heat Pump with Electric Heat Backup",
          "High Efficiency Whole Home Electrification",
          "Basic Enclosure",
          "Enhanced Enclosure",
          "Basic Enclosure + High Efficiency Whole Home Electrification",
          "Basic Enclosure + HPWH + High Efficiency HP/Electric Backup",
          "Enhanced Enclosure + High Efficiency Whole Home Electrification",
          "Enhanced Enclosure + HPWH + High Efficiency HP/Electric Backup"
         ],
         "yaxis": "y3"
        },
        {
         "cliponaxis": false,
         "marker": {
          "color": "rgb(0, 121, 61)",
          "line": {
           "color": "rgb(0, 121, 61)"
          }
         },
         "orientation": "h",
         "text": [
          2911421.2208215613,
          2277528.642098513,
          71349.43115427508,
          82964.12524535319,
          1474505.7896784386,
          7635.999026022315,
          47231.57884944237,
          638241.8945130111,
          3162223.9948828993,
          4267534.434328996,
          1556683.546321561,
          1775546.8789758363,
          4698402.238659851,
          4568206.534565056,
          4738695.937395911,
          4608500.233301115
         ],
         "textangle": 0,
         "textfont": {
          "size": 10
         },
         "textposition": "outside",
         "texttemplate": "%{text:.3s}",
         "type": "bar",
         "x": [
          2911421.2208215613,
          2277528.642098513,
          71349.43115427508,
          82964.12524535319,
          1474505.7896784386,
          7635.999026022315,
          47231.57884944237,
          638241.8945130111,
          3162223.9948828993,
          4267534.434328996,
          1556683.546321561,
          1775546.8789758363,
          4698402.238659851,
          4568206.534565056,
          4738695.937395911,
          4608500.233301115
         ],
         "xaxis": "x4",
         "y": [
          "Mininum Efficiency Whole Home Electrification",
          "Mininum Efficiency Heat Pump with Electric Heat Backup",
          "Electric Cooking",
          "Induction Cooking",
          "Mininum Efficiency Heat Pump with Existing Heat Backup",
          "Electric Clothes Dryer",
          "Heat Pump Clothes Dryer",
          "Heat Pump Water Heater",
          "High Efficiency Heat Pump with Electric Heat Backup",
          "High Efficiency Whole Home Electrification",
          "Basic Enclosure",
          "Enhanced Enclosure",
          "Basic Enclosure + High Efficiency Whole Home Electrification",
          "Basic Enclosure + HPWH + High Efficiency HP/Electric Backup",
          "Enhanced Enclosure + High Efficiency Whole Home Electrification",
          "Enhanced Enclosure + HPWH + High Efficiency HP/Electric Backup"
         ],
         "yaxis": "y4"
        }
       ],
       "layout": {
        "autosize": false,
        "font": {
         "size": 10
        },
        "height": 500,
        "plot_bgcolor": "rgba(0, 0, 0, 0)",
        "showlegend": false,
        "template": {
         "data": {
          "bar": [
           {
            "error_x": {
             "color": "#2a3f5f"
            },
            "error_y": {
             "color": "#2a3f5f"
            },
            "marker": {
             "line": {
              "color": "#E5ECF6",
              "width": 0.5
             },
             "pattern": {
              "fillmode": "overlay",
              "size": 10,
              "solidity": 0.2
             }
            },
            "type": "bar"
           }
          ],
          "barpolar": [
           {
            "marker": {
             "line": {
              "color": "#E5ECF6",
              "width": 0.5
             },
             "pattern": {
              "fillmode": "overlay",
              "size": 10,
              "solidity": 0.2
             }
            },
            "type": "barpolar"
           }
          ],
          "carpet": [
           {
            "aaxis": {
             "endlinecolor": "#2a3f5f",
             "gridcolor": "white",
             "linecolor": "white",
             "minorgridcolor": "white",
             "startlinecolor": "#2a3f5f"
            },
            "baxis": {
             "endlinecolor": "#2a3f5f",
             "gridcolor": "white",
             "linecolor": "white",
             "minorgridcolor": "white",
             "startlinecolor": "#2a3f5f"
            },
            "type": "carpet"
           }
          ],
          "choropleth": [
           {
            "colorbar": {
             "outlinewidth": 0,
             "ticks": ""
            },
            "type": "choropleth"
           }
          ],
          "contour": [
           {
            "colorbar": {
             "outlinewidth": 0,
             "ticks": ""
            },
            "colorscale": [
             [
              0,
              "#0d0887"
             ],
             [
              0.1111111111111111,
              "#46039f"
             ],
             [
              0.2222222222222222,
              "#7201a8"
             ],
             [
              0.3333333333333333,
              "#9c179e"
             ],
             [
              0.4444444444444444,
              "#bd3786"
             ],
             [
              0.5555555555555556,
              "#d8576b"
             ],
             [
              0.6666666666666666,
              "#ed7953"
             ],
             [
              0.7777777777777778,
              "#fb9f3a"
             ],
             [
              0.8888888888888888,
              "#fdca26"
             ],
             [
              1,
              "#f0f921"
             ]
            ],
            "type": "contour"
           }
          ],
          "contourcarpet": [
           {
            "colorbar": {
             "outlinewidth": 0,
             "ticks": ""
            },
            "type": "contourcarpet"
           }
          ],
          "heatmap": [
           {
            "colorbar": {
             "outlinewidth": 0,
             "ticks": ""
            },
            "colorscale": [
             [
              0,
              "#0d0887"
             ],
             [
              0.1111111111111111,
              "#46039f"
             ],
             [
              0.2222222222222222,
              "#7201a8"
             ],
             [
              0.3333333333333333,
              "#9c179e"
             ],
             [
              0.4444444444444444,
              "#bd3786"
             ],
             [
              0.5555555555555556,
              "#d8576b"
             ],
             [
              0.6666666666666666,
              "#ed7953"
             ],
             [
              0.7777777777777778,
              "#fb9f3a"
             ],
             [
              0.8888888888888888,
              "#fdca26"
             ],
             [
              1,
              "#f0f921"
             ]
            ],
            "type": "heatmap"
           }
          ],
          "heatmapgl": [
           {
            "colorbar": {
             "outlinewidth": 0,
             "ticks": ""
            },
            "colorscale": [
             [
              0,
              "#0d0887"
             ],
             [
              0.1111111111111111,
              "#46039f"
             ],
             [
              0.2222222222222222,
              "#7201a8"
             ],
             [
              0.3333333333333333,
              "#9c179e"
             ],
             [
              0.4444444444444444,
              "#bd3786"
             ],
             [
              0.5555555555555556,
              "#d8576b"
             ],
             [
              0.6666666666666666,
              "#ed7953"
             ],
             [
              0.7777777777777778,
              "#fb9f3a"
             ],
             [
              0.8888888888888888,
              "#fdca26"
             ],
             [
              1,
              "#f0f921"
             ]
            ],
            "type": "heatmapgl"
           }
          ],
          "histogram": [
           {
            "marker": {
             "pattern": {
              "fillmode": "overlay",
              "size": 10,
              "solidity": 0.2
             }
            },
            "type": "histogram"
           }
          ],
          "histogram2d": [
           {
            "colorbar": {
             "outlinewidth": 0,
             "ticks": ""
            },
            "colorscale": [
             [
              0,
              "#0d0887"
             ],
             [
              0.1111111111111111,
              "#46039f"
             ],
             [
              0.2222222222222222,
              "#7201a8"
             ],
             [
              0.3333333333333333,
              "#9c179e"
             ],
             [
              0.4444444444444444,
              "#bd3786"
             ],
             [
              0.5555555555555556,
              "#d8576b"
             ],
             [
              0.6666666666666666,
              "#ed7953"
             ],
             [
              0.7777777777777778,
              "#fb9f3a"
             ],
             [
              0.8888888888888888,
              "#fdca26"
             ],
             [
              1,
              "#f0f921"
             ]
            ],
            "type": "histogram2d"
           }
          ],
          "histogram2dcontour": [
           {
            "colorbar": {
             "outlinewidth": 0,
             "ticks": ""
            },
            "colorscale": [
             [
              0,
              "#0d0887"
             ],
             [
              0.1111111111111111,
              "#46039f"
             ],
             [
              0.2222222222222222,
              "#7201a8"
             ],
             [
              0.3333333333333333,
              "#9c179e"
             ],
             [
              0.4444444444444444,
              "#bd3786"
             ],
             [
              0.5555555555555556,
              "#d8576b"
             ],
             [
              0.6666666666666666,
              "#ed7953"
             ],
             [
              0.7777777777777778,
              "#fb9f3a"
             ],
             [
              0.8888888888888888,
              "#fdca26"
             ],
             [
              1,
              "#f0f921"
             ]
            ],
            "type": "histogram2dcontour"
           }
          ],
          "mesh3d": [
           {
            "colorbar": {
             "outlinewidth": 0,
             "ticks": ""
            },
            "type": "mesh3d"
           }
          ],
          "parcoords": [
           {
            "line": {
             "colorbar": {
              "outlinewidth": 0,
              "ticks": ""
             }
            },
            "type": "parcoords"
           }
          ],
          "pie": [
           {
            "automargin": true,
            "type": "pie"
           }
          ],
          "scatter": [
           {
            "fillpattern": {
             "fillmode": "overlay",
             "size": 10,
             "solidity": 0.2
            },
            "type": "scatter"
           }
          ],
          "scatter3d": [
           {
            "line": {
             "colorbar": {
              "outlinewidth": 0,
              "ticks": ""
             }
            },
            "marker": {
             "colorbar": {
              "outlinewidth": 0,
              "ticks": ""
             }
            },
            "type": "scatter3d"
           }
          ],
          "scattercarpet": [
           {
            "marker": {
             "colorbar": {
              "outlinewidth": 0,
              "ticks": ""
             }
            },
            "type": "scattercarpet"
           }
          ],
          "scattergeo": [
           {
            "marker": {
             "colorbar": {
              "outlinewidth": 0,
              "ticks": ""
             }
            },
            "type": "scattergeo"
           }
          ],
          "scattergl": [
           {
            "marker": {
             "colorbar": {
              "outlinewidth": 0,
              "ticks": ""
             }
            },
            "type": "scattergl"
           }
          ],
          "scattermapbox": [
           {
            "marker": {
             "colorbar": {
              "outlinewidth": 0,
              "ticks": ""
             }
            },
            "type": "scattermapbox"
           }
          ],
          "scatterpolar": [
           {
            "marker": {
             "colorbar": {
              "outlinewidth": 0,
              "ticks": ""
             }
            },
            "type": "scatterpolar"
           }
          ],
          "scatterpolargl": [
           {
            "marker": {
             "colorbar": {
              "outlinewidth": 0,
              "ticks": ""
             }
            },
            "type": "scatterpolargl"
           }
          ],
          "scatterternary": [
           {
            "marker": {
             "colorbar": {
              "outlinewidth": 0,
              "ticks": ""
             }
            },
            "type": "scatterternary"
           }
          ],
          "surface": [
           {
            "colorbar": {
             "outlinewidth": 0,
             "ticks": ""
            },
            "colorscale": [
             [
              0,
              "#0d0887"
             ],
             [
              0.1111111111111111,
              "#46039f"
             ],
             [
              0.2222222222222222,
              "#7201a8"
             ],
             [
              0.3333333333333333,
              "#9c179e"
             ],
             [
              0.4444444444444444,
              "#bd3786"
             ],
             [
              0.5555555555555556,
              "#d8576b"
             ],
             [
              0.6666666666666666,
              "#ed7953"
             ],
             [
              0.7777777777777778,
              "#fb9f3a"
             ],
             [
              0.8888888888888888,
              "#fdca26"
             ],
             [
              1,
              "#f0f921"
             ]
            ],
            "type": "surface"
           }
          ],
          "table": [
           {
            "cells": {
             "fill": {
              "color": "#EBF0F8"
             },
             "line": {
              "color": "white"
             }
            },
            "header": {
             "fill": {
              "color": "#C8D4E3"
             },
             "line": {
              "color": "white"
             }
            },
            "type": "table"
           }
          ]
         },
         "layout": {
          "annotationdefaults": {
           "arrowcolor": "#2a3f5f",
           "arrowhead": 0,
           "arrowwidth": 1
          },
          "autotypenumbers": "strict",
          "coloraxis": {
           "colorbar": {
            "outlinewidth": 0,
            "ticks": ""
           }
          },
          "colorscale": {
           "diverging": [
            [
             0,
             "#8e0152"
            ],
            [
             0.1,
             "#c51b7d"
            ],
            [
             0.2,
             "#de77ae"
            ],
            [
             0.3,
             "#f1b6da"
            ],
            [
             0.4,
             "#fde0ef"
            ],
            [
             0.5,
             "#f7f7f7"
            ],
            [
             0.6,
             "#e6f5d0"
            ],
            [
             0.7,
             "#b8e186"
            ],
            [
             0.8,
             "#7fbc41"
            ],
            [
             0.9,
             "#4d9221"
            ],
            [
             1,
             "#276419"
            ]
           ],
           "sequential": [
            [
             0,
             "#0d0887"
            ],
            [
             0.1111111111111111,
             "#46039f"
            ],
            [
             0.2222222222222222,
             "#7201a8"
            ],
            [
             0.3333333333333333,
             "#9c179e"
            ],
            [
             0.4444444444444444,
             "#bd3786"
            ],
            [
             0.5555555555555556,
             "#d8576b"
            ],
            [
             0.6666666666666666,
             "#ed7953"
            ],
            [
             0.7777777777777778,
             "#fb9f3a"
            ],
            [
             0.8888888888888888,
             "#fdca26"
            ],
            [
             1,
             "#f0f921"
            ]
           ],
           "sequentialminus": [
            [
             0,
             "#0d0887"
            ],
            [
             0.1111111111111111,
             "#46039f"
            ],
            [
             0.2222222222222222,
             "#7201a8"
            ],
            [
             0.3333333333333333,
             "#9c179e"
            ],
            [
             0.4444444444444444,
             "#bd3786"
            ],
            [
             0.5555555555555556,
             "#d8576b"
            ],
            [
             0.6666666666666666,
             "#ed7953"
            ],
            [
             0.7777777777777778,
             "#fb9f3a"
            ],
            [
             0.8888888888888888,
             "#fdca26"
            ],
            [
             1,
             "#f0f921"
            ]
           ]
          },
          "colorway": [
           "#636efa",
           "#EF553B",
           "#00cc96",
           "#ab63fa",
           "#FFA15A",
           "#19d3f3",
           "#FF6692",
           "#B6E880",
           "#FF97FF",
           "#FECB52"
          ],
          "font": {
           "color": "#2a3f5f"
          },
          "geo": {
           "bgcolor": "white",
           "lakecolor": "white",
           "landcolor": "#E5ECF6",
           "showlakes": true,
           "showland": true,
           "subunitcolor": "white"
          },
          "hoverlabel": {
           "align": "left"
          },
          "hovermode": "closest",
          "mapbox": {
           "style": "light"
          },
          "paper_bgcolor": "white",
          "plot_bgcolor": "#E5ECF6",
          "polar": {
           "angularaxis": {
            "gridcolor": "white",
            "linecolor": "white",
            "ticks": ""
           },
           "bgcolor": "#E5ECF6",
           "radialaxis": {
            "gridcolor": "white",
            "linecolor": "white",
            "ticks": ""
           }
          },
          "scene": {
           "xaxis": {
            "backgroundcolor": "#E5ECF6",
            "gridcolor": "white",
            "gridwidth": 2,
            "linecolor": "white",
            "showbackground": true,
            "ticks": "",
            "zerolinecolor": "white"
           },
           "yaxis": {
            "backgroundcolor": "#E5ECF6",
            "gridcolor": "white",
            "gridwidth": 2,
            "linecolor": "white",
            "showbackground": true,
            "ticks": "",
            "zerolinecolor": "white"
           },
           "zaxis": {
            "backgroundcolor": "#E5ECF6",
            "gridcolor": "white",
            "gridwidth": 2,
            "linecolor": "white",
            "showbackground": true,
            "ticks": "",
            "zerolinecolor": "white"
           }
          },
          "shapedefaults": {
           "line": {
            "color": "#2a3f5f"
           }
          },
          "ternary": {
           "aaxis": {
            "gridcolor": "white",
            "linecolor": "white",
            "ticks": ""
           },
           "baxis": {
            "gridcolor": "white",
            "linecolor": "white",
            "ticks": ""
           },
           "bgcolor": "#E5ECF6",
           "caxis": {
            "gridcolor": "white",
            "linecolor": "white",
            "ticks": ""
           }
          },
          "title": {
           "x": 0.05
          },
          "xaxis": {
           "automargin": true,
           "gridcolor": "white",
           "linecolor": "white",
           "ticks": "",
           "title": {
            "standoff": 15
           },
           "zerolinecolor": "white",
           "zerolinewidth": 2
          },
          "yaxis": {
           "automargin": true,
           "gridcolor": "white",
           "linecolor": "white",
           "ticks": "",
           "title": {
            "standoff": 15
           },
           "zerolinecolor": "white",
           "zerolinewidth": 2
          }
         }
        },
        "title": {
         "text": "Total Annual Savings for the Whole Community"
        },
        "width": 850,
        "xaxis": {
         "anchor": "y",
         "domain": [
          0,
          0.004635761589403973
         ],
         "tickangle": 45,
         "title": {
          "text": ""
         },
         "visible": false
        },
        "xaxis2": {
         "anchor": "y2",
         "domain": [
          0.10463576158940398,
          0.33642384105960266
         ],
         "tickangle": 45,
         "title": {
          "text": "Bill Savings<br>usd"
         },
         "visible": true
        },
        "xaxis3": {
         "anchor": "y3",
         "domain": [
          0.43642384105960264,
          0.6682119205298013
         ],
         "tickangle": 45,
         "title": {
          "text": "Emission Savings<br>kgCO2e"
         },
         "visible": true
        },
        "xaxis4": {
         "anchor": "y4",
         "domain": [
          0.7682119205298014,
          1
         ],
         "tickangle": 45,
         "title": {
          "text": "Energy Savings<br>mmbtu"
         },
         "visible": true
        },
        "yaxis": {
         "anchor": "x",
         "domain": [
          0,
          1
         ],
         "visible": true
        },
        "yaxis2": {
         "anchor": "x2",
         "domain": [
          0,
          1
         ],
         "visible": false
        },
        "yaxis3": {
         "anchor": "x3",
         "domain": [
          0,
          1
         ],
         "visible": false
        },
        "yaxis4": {
         "anchor": "x4",
         "domain": [
          0,
          1
         ],
         "visible": false
        }
       }
      }
     },
     "metadata": {},
     "output_type": "display_data"
    }
   ],
   "source": [
    "figure_total_savings_3(community_results) "
   ]
  },
  {
   "cell_type": "markdown",
   "id": "e25c8f8e",
   "metadata": {},
   "source": [
    "## 1.3 Annual Savings Per Dwelling Unit"
   ]
  },
  {
   "cell_type": "code",
   "execution_count": 38,
   "id": "9ba37c55",
   "metadata": {},
   "outputs": [
    {
     "name": "stdout",
     "output_type": "stream",
     "text": [
      "sample_weight\n"
     ]
    },
    {
     "data": {
      "text/plain": [
       "upgrade_name\n",
       "Mininum Efficiency Whole Home Electrification                      85359.314126\n",
       "Mininum Efficiency Heat Pump with Electric Heat Backup             99857.810409\n",
       "Electric Clothes Dryer                                             17948.299257\n",
       "Electric Cooking                                                   55802.894052\n",
       "Induction Cooking                                                  97806.576208\n",
       "Mininum Efficiency Heat Pump with Existing Heat Backup             97899.814126\n",
       "Heat Pump Clothes Dryer                                            53332.089219\n",
       "Heat Pump Water Heater                                             99158.526022\n",
       "High Efficiency Heat Pump with Electric Heat Backup                99857.810409\n",
       "High Efficiency Whole Home Electrification                         99857.810409\n",
       "Basic Enclosure                                                    97107.291822\n",
       "Enhanced Enclosure                                                 98086.289963\n",
       "Basic Enclosure + High Efficiency Whole Home Electrification       99857.810409\n",
       "Basic Enclosure + HPWH + High Efficiency HP/Electric Backup        99857.810409\n",
       "Enhanced Enclosure + High Efficiency Whole Home Electrification    99857.810409\n",
       "Enhanced Enclosure + HPWH + High Efficiency HP/Electric Backup     99857.810409\n",
       "Name: sample_weight, dtype: float64"
      ]
     },
     "metadata": {},
     "output_type": "display_data"
    },
    {
     "data": {
      "application/vnd.plotly.v1+json": {
       "config": {
        "plotlyServerURL": "https://plot.ly"
       },
       "data": [
        {
         "cliponaxis": false,
         "marker": {
          "color": "rgb(255, 255, 255)",
          "line": {
           "color": "rgb(255, 255, 255)"
          }
         },
         "orientation": "h",
         "textangle": 0,
         "textfont": {
          "size": 10
         },
         "textposition": "outside",
         "type": "bar",
         "x": [
          0,
          0,
          0,
          0,
          0,
          0,
          0,
          0,
          0,
          0,
          0,
          0,
          0,
          0,
          0,
          0,
          0,
          0,
          0,
          0,
          0,
          0,
          0,
          0,
          0,
          0,
          0,
          0,
          0,
          0,
          0,
          0,
          0,
          0,
          0,
          0,
          0,
          0,
          0,
          0,
          0,
          0,
          0,
          0,
          0,
          0,
          0,
          0,
          0,
          0,
          0,
          0,
          0,
          0,
          0,
          0,
          0,
          0,
          0,
          0,
          0,
          0,
          0,
          0,
          0,
          0,
          0,
          0,
          0,
          0,
          0,
          0,
          0,
          0,
          0,
          0,
          0,
          0,
          0,
          0,
          0,
          0,
          0,
          0,
          0,
          0,
          0,
          0,
          0,
          0,
          0,
          0,
          0,
          0,
          0,
          0,
          0,
          0,
          0,
          0,
          0,
          0,
          0,
          0,
          0,
          0,
          0,
          0,
          0,
          0,
          0,
          0,
          0,
          0,
          0,
          0,
          0,
          0,
          0,
          0,
          0,
          0,
          0,
          0,
          0,
          0,
          0,
          0,
          0,
          0,
          0,
          0,
          0,
          0,
          0,
          0,
          0,
          0,
          0,
          0,
          0,
          0,
          0,
          0,
          0,
          0,
          0,
          0,
          0,
          0,
          0,
          0,
          0,
          0,
          0,
          0,
          0,
          0,
          0,
          0,
          0,
          0,
          0,
          0,
          0,
          0,
          0,
          0,
          0,
          0,
          0,
          0,
          0,
          0,
          0,
          0
         ],
         "xaxis": "x",
         "y": [
          "Mininum Efficiency Whole Home Electrification",
          "Mininum Efficiency Heat Pump with Electric Heat Backup",
          "Electric Clothes Dryer",
          "Electric Cooking",
          "Induction Cooking",
          "Mininum Efficiency Heat Pump with Existing Heat Backup",
          "Heat Pump Clothes Dryer",
          "Heat Pump Water Heater",
          "High Efficiency Heat Pump with Electric Heat Backup",
          "High Efficiency Whole Home Electrification",
          "Basic Enclosure",
          "Enhanced Enclosure",
          "Basic Enclosure + High Efficiency Whole Home Electrification",
          "Basic Enclosure + HPWH + High Efficiency HP/Electric Backup",
          "Enhanced Enclosure + High Efficiency Whole Home Electrification",
          "Enhanced Enclosure + HPWH + High Efficiency HP/Electric Backup"
         ],
         "yaxis": "y"
        },
        {
         "cliponaxis": false,
         "marker": {
          "color": "rgb(0, 121, 61)",
          "line": {
           "color": "rgb(0, 121, 61)"
          }
         },
         "orientation": "h",
         "text": [
          -599.5537090901179,
          -344.7765075666453,
          -59.55815969006089,
          -40.0080939384056,
          -16.313249585242527,
          -11.79855888541313,
          20.67984273485222,
          28.338840970609308,
          141.8140613121538,
          232.39937767588015,
          267.7506195199436,
          304.43071206988515,
          469.0721107338633,
          471.0846959538296,
          491.20489535045056,
          493.21748057041685
         ],
         "textangle": 0,
         "textfont": {
          "size": 10
         },
         "textposition": "outside",
         "texttemplate": "%{text:.3s}",
         "type": "bar",
         "x": [
          -599.5537090901179,
          -344.7765075666453,
          -59.55815969006089,
          -40.0080939384056,
          -16.313249585242527,
          -11.79855888541313,
          20.67984273485222,
          28.338840970609308,
          141.8140613121538,
          232.39937767588015,
          267.7506195199436,
          304.43071206988515,
          469.0721107338633,
          471.0846959538296,
          491.20489535045056,
          493.21748057041685
         ],
         "xaxis": "x2",
         "y": [
          "Mininum Efficiency Whole Home Electrification",
          "Mininum Efficiency Heat Pump with Electric Heat Backup",
          "Electric Clothes Dryer",
          "Electric Cooking",
          "Induction Cooking",
          "Mininum Efficiency Heat Pump with Existing Heat Backup",
          "Heat Pump Clothes Dryer",
          "Heat Pump Water Heater",
          "High Efficiency Heat Pump with Electric Heat Backup",
          "High Efficiency Whole Home Electrification",
          "Basic Enclosure",
          "Enhanced Enclosure",
          "Basic Enclosure + High Efficiency Whole Home Electrification",
          "Basic Enclosure + HPWH + High Efficiency HP/Electric Backup",
          "Enhanced Enclosure + High Efficiency Whole Home Electrification",
          "Enhanced Enclosure + HPWH + High Efficiency HP/Electric Backup"
         ],
         "yaxis": "y2"
        },
        {
         "cliponaxis": false,
         "marker": {
          "color": "rgb(0, 121, 61)",
          "line": {
           "color": "rgb(0, 121, 61)"
          }
         },
         "orientation": "h",
         "text": [
          1402.0747011459662,
          958.8553005088067,
          -8.324881188654562,
          53.8504187456775,
          42.18013474256244,
          877.4164469941942,
          66.45978875600699,
          411.42006793624074,
          1930.9869752152044,
          2669.5659697479628,
          1180.4956823441728,
          1335.1980281801673,
          3156.513563690801,
          3079.7050104570158,
          3201.6767799708946,
          3124.8682267371096
         ],
         "textangle": 0,
         "textfont": {
          "size": 10
         },
         "textposition": "outside",
         "texttemplate": "%{text:.3s}",
         "type": "bar",
         "x": [
          1402.0747011459662,
          958.8553005088067,
          -8.324881188654562,
          53.8504187456775,
          42.18013474256244,
          877.4164469941942,
          66.45978875600699,
          411.42006793624074,
          1930.9869752152044,
          2669.5659697479628,
          1180.4956823441728,
          1335.1980281801673,
          3156.513563690801,
          3079.7050104570158,
          3201.6767799708946,
          3124.8682267371096
         ],
         "xaxis": "x3",
         "y": [
          "Mininum Efficiency Whole Home Electrification",
          "Mininum Efficiency Heat Pump with Electric Heat Backup",
          "Electric Clothes Dryer",
          "Electric Cooking",
          "Induction Cooking",
          "Mininum Efficiency Heat Pump with Existing Heat Backup",
          "Heat Pump Clothes Dryer",
          "Heat Pump Water Heater",
          "High Efficiency Heat Pump with Electric Heat Backup",
          "High Efficiency Whole Home Electrification",
          "Basic Enclosure",
          "Enhanced Enclosure",
          "Basic Enclosure + High Efficiency Whole Home Electrification",
          "Basic Enclosure + HPWH + High Efficiency HP/Electric Backup",
          "Enhanced Enclosure + High Efficiency Whole Home Electrification",
          "Enhanced Enclosure + HPWH + High Efficiency HP/Electric Backup"
         ],
         "yaxis": "y3"
        },
        {
         "cliponaxis": false,
         "marker": {
          "color": "rgb(0, 121, 61)",
          "line": {
           "color": "rgb(0, 121, 61)"
          }
         },
         "orientation": "h",
         "text": [
          34.10783287820863,
          22.807716619981328,
          0.4254441558441564,
          1.2785973266499582,
          0.8482469018112492,
          15.061374761904762,
          0.8856127622377621,
          6.436581100141043,
          31.6672675070028,
          42.7361106442577,
          16.030552568410943,
          18.101886406844105,
          47.050923902894496,
          45.74711297852475,
          47.45443464052288,
          46.15062371615313
         ],
         "textangle": 0,
         "textfont": {
          "size": 10
         },
         "textposition": "outside",
         "texttemplate": "%{text:.3s}",
         "type": "bar",
         "x": [
          34.10783287820863,
          22.807716619981328,
          0.4254441558441564,
          1.2785973266499582,
          0.8482469018112492,
          15.061374761904762,
          0.8856127622377621,
          6.436581100141043,
          31.6672675070028,
          42.7361106442577,
          16.030552568410943,
          18.101886406844105,
          47.050923902894496,
          45.74711297852475,
          47.45443464052288,
          46.15062371615313
         ],
         "xaxis": "x4",
         "y": [
          "Mininum Efficiency Whole Home Electrification",
          "Mininum Efficiency Heat Pump with Electric Heat Backup",
          "Electric Clothes Dryer",
          "Electric Cooking",
          "Induction Cooking",
          "Mininum Efficiency Heat Pump with Existing Heat Backup",
          "Heat Pump Clothes Dryer",
          "Heat Pump Water Heater",
          "High Efficiency Heat Pump with Electric Heat Backup",
          "High Efficiency Whole Home Electrification",
          "Basic Enclosure",
          "Enhanced Enclosure",
          "Basic Enclosure + High Efficiency Whole Home Electrification",
          "Basic Enclosure + HPWH + High Efficiency HP/Electric Backup",
          "Enhanced Enclosure + High Efficiency Whole Home Electrification",
          "Enhanced Enclosure + HPWH + High Efficiency HP/Electric Backup"
         ],
         "yaxis": "y4"
        }
       ],
       "layout": {
        "autosize": false,
        "font": {
         "size": 10
        },
        "height": 500,
        "plot_bgcolor": "rgba(0, 0, 0, 0)",
        "showlegend": false,
        "template": {
         "data": {
          "bar": [
           {
            "error_x": {
             "color": "#2a3f5f"
            },
            "error_y": {
             "color": "#2a3f5f"
            },
            "marker": {
             "line": {
              "color": "#E5ECF6",
              "width": 0.5
             },
             "pattern": {
              "fillmode": "overlay",
              "size": 10,
              "solidity": 0.2
             }
            },
            "type": "bar"
           }
          ],
          "barpolar": [
           {
            "marker": {
             "line": {
              "color": "#E5ECF6",
              "width": 0.5
             },
             "pattern": {
              "fillmode": "overlay",
              "size": 10,
              "solidity": 0.2
             }
            },
            "type": "barpolar"
           }
          ],
          "carpet": [
           {
            "aaxis": {
             "endlinecolor": "#2a3f5f",
             "gridcolor": "white",
             "linecolor": "white",
             "minorgridcolor": "white",
             "startlinecolor": "#2a3f5f"
            },
            "baxis": {
             "endlinecolor": "#2a3f5f",
             "gridcolor": "white",
             "linecolor": "white",
             "minorgridcolor": "white",
             "startlinecolor": "#2a3f5f"
            },
            "type": "carpet"
           }
          ],
          "choropleth": [
           {
            "colorbar": {
             "outlinewidth": 0,
             "ticks": ""
            },
            "type": "choropleth"
           }
          ],
          "contour": [
           {
            "colorbar": {
             "outlinewidth": 0,
             "ticks": ""
            },
            "colorscale": [
             [
              0,
              "#0d0887"
             ],
             [
              0.1111111111111111,
              "#46039f"
             ],
             [
              0.2222222222222222,
              "#7201a8"
             ],
             [
              0.3333333333333333,
              "#9c179e"
             ],
             [
              0.4444444444444444,
              "#bd3786"
             ],
             [
              0.5555555555555556,
              "#d8576b"
             ],
             [
              0.6666666666666666,
              "#ed7953"
             ],
             [
              0.7777777777777778,
              "#fb9f3a"
             ],
             [
              0.8888888888888888,
              "#fdca26"
             ],
             [
              1,
              "#f0f921"
             ]
            ],
            "type": "contour"
           }
          ],
          "contourcarpet": [
           {
            "colorbar": {
             "outlinewidth": 0,
             "ticks": ""
            },
            "type": "contourcarpet"
           }
          ],
          "heatmap": [
           {
            "colorbar": {
             "outlinewidth": 0,
             "ticks": ""
            },
            "colorscale": [
             [
              0,
              "#0d0887"
             ],
             [
              0.1111111111111111,
              "#46039f"
             ],
             [
              0.2222222222222222,
              "#7201a8"
             ],
             [
              0.3333333333333333,
              "#9c179e"
             ],
             [
              0.4444444444444444,
              "#bd3786"
             ],
             [
              0.5555555555555556,
              "#d8576b"
             ],
             [
              0.6666666666666666,
              "#ed7953"
             ],
             [
              0.7777777777777778,
              "#fb9f3a"
             ],
             [
              0.8888888888888888,
              "#fdca26"
             ],
             [
              1,
              "#f0f921"
             ]
            ],
            "type": "heatmap"
           }
          ],
          "heatmapgl": [
           {
            "colorbar": {
             "outlinewidth": 0,
             "ticks": ""
            },
            "colorscale": [
             [
              0,
              "#0d0887"
             ],
             [
              0.1111111111111111,
              "#46039f"
             ],
             [
              0.2222222222222222,
              "#7201a8"
             ],
             [
              0.3333333333333333,
              "#9c179e"
             ],
             [
              0.4444444444444444,
              "#bd3786"
             ],
             [
              0.5555555555555556,
              "#d8576b"
             ],
             [
              0.6666666666666666,
              "#ed7953"
             ],
             [
              0.7777777777777778,
              "#fb9f3a"
             ],
             [
              0.8888888888888888,
              "#fdca26"
             ],
             [
              1,
              "#f0f921"
             ]
            ],
            "type": "heatmapgl"
           }
          ],
          "histogram": [
           {
            "marker": {
             "pattern": {
              "fillmode": "overlay",
              "size": 10,
              "solidity": 0.2
             }
            },
            "type": "histogram"
           }
          ],
          "histogram2d": [
           {
            "colorbar": {
             "outlinewidth": 0,
             "ticks": ""
            },
            "colorscale": [
             [
              0,
              "#0d0887"
             ],
             [
              0.1111111111111111,
              "#46039f"
             ],
             [
              0.2222222222222222,
              "#7201a8"
             ],
             [
              0.3333333333333333,
              "#9c179e"
             ],
             [
              0.4444444444444444,
              "#bd3786"
             ],
             [
              0.5555555555555556,
              "#d8576b"
             ],
             [
              0.6666666666666666,
              "#ed7953"
             ],
             [
              0.7777777777777778,
              "#fb9f3a"
             ],
             [
              0.8888888888888888,
              "#fdca26"
             ],
             [
              1,
              "#f0f921"
             ]
            ],
            "type": "histogram2d"
           }
          ],
          "histogram2dcontour": [
           {
            "colorbar": {
             "outlinewidth": 0,
             "ticks": ""
            },
            "colorscale": [
             [
              0,
              "#0d0887"
             ],
             [
              0.1111111111111111,
              "#46039f"
             ],
             [
              0.2222222222222222,
              "#7201a8"
             ],
             [
              0.3333333333333333,
              "#9c179e"
             ],
             [
              0.4444444444444444,
              "#bd3786"
             ],
             [
              0.5555555555555556,
              "#d8576b"
             ],
             [
              0.6666666666666666,
              "#ed7953"
             ],
             [
              0.7777777777777778,
              "#fb9f3a"
             ],
             [
              0.8888888888888888,
              "#fdca26"
             ],
             [
              1,
              "#f0f921"
             ]
            ],
            "type": "histogram2dcontour"
           }
          ],
          "mesh3d": [
           {
            "colorbar": {
             "outlinewidth": 0,
             "ticks": ""
            },
            "type": "mesh3d"
           }
          ],
          "parcoords": [
           {
            "line": {
             "colorbar": {
              "outlinewidth": 0,
              "ticks": ""
             }
            },
            "type": "parcoords"
           }
          ],
          "pie": [
           {
            "automargin": true,
            "type": "pie"
           }
          ],
          "scatter": [
           {
            "fillpattern": {
             "fillmode": "overlay",
             "size": 10,
             "solidity": 0.2
            },
            "type": "scatter"
           }
          ],
          "scatter3d": [
           {
            "line": {
             "colorbar": {
              "outlinewidth": 0,
              "ticks": ""
             }
            },
            "marker": {
             "colorbar": {
              "outlinewidth": 0,
              "ticks": ""
             }
            },
            "type": "scatter3d"
           }
          ],
          "scattercarpet": [
           {
            "marker": {
             "colorbar": {
              "outlinewidth": 0,
              "ticks": ""
             }
            },
            "type": "scattercarpet"
           }
          ],
          "scattergeo": [
           {
            "marker": {
             "colorbar": {
              "outlinewidth": 0,
              "ticks": ""
             }
            },
            "type": "scattergeo"
           }
          ],
          "scattergl": [
           {
            "marker": {
             "colorbar": {
              "outlinewidth": 0,
              "ticks": ""
             }
            },
            "type": "scattergl"
           }
          ],
          "scattermapbox": [
           {
            "marker": {
             "colorbar": {
              "outlinewidth": 0,
              "ticks": ""
             }
            },
            "type": "scattermapbox"
           }
          ],
          "scatterpolar": [
           {
            "marker": {
             "colorbar": {
              "outlinewidth": 0,
              "ticks": ""
             }
            },
            "type": "scatterpolar"
           }
          ],
          "scatterpolargl": [
           {
            "marker": {
             "colorbar": {
              "outlinewidth": 0,
              "ticks": ""
             }
            },
            "type": "scatterpolargl"
           }
          ],
          "scatterternary": [
           {
            "marker": {
             "colorbar": {
              "outlinewidth": 0,
              "ticks": ""
             }
            },
            "type": "scatterternary"
           }
          ],
          "surface": [
           {
            "colorbar": {
             "outlinewidth": 0,
             "ticks": ""
            },
            "colorscale": [
             [
              0,
              "#0d0887"
             ],
             [
              0.1111111111111111,
              "#46039f"
             ],
             [
              0.2222222222222222,
              "#7201a8"
             ],
             [
              0.3333333333333333,
              "#9c179e"
             ],
             [
              0.4444444444444444,
              "#bd3786"
             ],
             [
              0.5555555555555556,
              "#d8576b"
             ],
             [
              0.6666666666666666,
              "#ed7953"
             ],
             [
              0.7777777777777778,
              "#fb9f3a"
             ],
             [
              0.8888888888888888,
              "#fdca26"
             ],
             [
              1,
              "#f0f921"
             ]
            ],
            "type": "surface"
           }
          ],
          "table": [
           {
            "cells": {
             "fill": {
              "color": "#EBF0F8"
             },
             "line": {
              "color": "white"
             }
            },
            "header": {
             "fill": {
              "color": "#C8D4E3"
             },
             "line": {
              "color": "white"
             }
            },
            "type": "table"
           }
          ]
         },
         "layout": {
          "annotationdefaults": {
           "arrowcolor": "#2a3f5f",
           "arrowhead": 0,
           "arrowwidth": 1
          },
          "autotypenumbers": "strict",
          "coloraxis": {
           "colorbar": {
            "outlinewidth": 0,
            "ticks": ""
           }
          },
          "colorscale": {
           "diverging": [
            [
             0,
             "#8e0152"
            ],
            [
             0.1,
             "#c51b7d"
            ],
            [
             0.2,
             "#de77ae"
            ],
            [
             0.3,
             "#f1b6da"
            ],
            [
             0.4,
             "#fde0ef"
            ],
            [
             0.5,
             "#f7f7f7"
            ],
            [
             0.6,
             "#e6f5d0"
            ],
            [
             0.7,
             "#b8e186"
            ],
            [
             0.8,
             "#7fbc41"
            ],
            [
             0.9,
             "#4d9221"
            ],
            [
             1,
             "#276419"
            ]
           ],
           "sequential": [
            [
             0,
             "#0d0887"
            ],
            [
             0.1111111111111111,
             "#46039f"
            ],
            [
             0.2222222222222222,
             "#7201a8"
            ],
            [
             0.3333333333333333,
             "#9c179e"
            ],
            [
             0.4444444444444444,
             "#bd3786"
            ],
            [
             0.5555555555555556,
             "#d8576b"
            ],
            [
             0.6666666666666666,
             "#ed7953"
            ],
            [
             0.7777777777777778,
             "#fb9f3a"
            ],
            [
             0.8888888888888888,
             "#fdca26"
            ],
            [
             1,
             "#f0f921"
            ]
           ],
           "sequentialminus": [
            [
             0,
             "#0d0887"
            ],
            [
             0.1111111111111111,
             "#46039f"
            ],
            [
             0.2222222222222222,
             "#7201a8"
            ],
            [
             0.3333333333333333,
             "#9c179e"
            ],
            [
             0.4444444444444444,
             "#bd3786"
            ],
            [
             0.5555555555555556,
             "#d8576b"
            ],
            [
             0.6666666666666666,
             "#ed7953"
            ],
            [
             0.7777777777777778,
             "#fb9f3a"
            ],
            [
             0.8888888888888888,
             "#fdca26"
            ],
            [
             1,
             "#f0f921"
            ]
           ]
          },
          "colorway": [
           "#636efa",
           "#EF553B",
           "#00cc96",
           "#ab63fa",
           "#FFA15A",
           "#19d3f3",
           "#FF6692",
           "#B6E880",
           "#FF97FF",
           "#FECB52"
          ],
          "font": {
           "color": "#2a3f5f"
          },
          "geo": {
           "bgcolor": "white",
           "lakecolor": "white",
           "landcolor": "#E5ECF6",
           "showlakes": true,
           "showland": true,
           "subunitcolor": "white"
          },
          "hoverlabel": {
           "align": "left"
          },
          "hovermode": "closest",
          "mapbox": {
           "style": "light"
          },
          "paper_bgcolor": "white",
          "plot_bgcolor": "#E5ECF6",
          "polar": {
           "angularaxis": {
            "gridcolor": "white",
            "linecolor": "white",
            "ticks": ""
           },
           "bgcolor": "#E5ECF6",
           "radialaxis": {
            "gridcolor": "white",
            "linecolor": "white",
            "ticks": ""
           }
          },
          "scene": {
           "xaxis": {
            "backgroundcolor": "#E5ECF6",
            "gridcolor": "white",
            "gridwidth": 2,
            "linecolor": "white",
            "showbackground": true,
            "ticks": "",
            "zerolinecolor": "white"
           },
           "yaxis": {
            "backgroundcolor": "#E5ECF6",
            "gridcolor": "white",
            "gridwidth": 2,
            "linecolor": "white",
            "showbackground": true,
            "ticks": "",
            "zerolinecolor": "white"
           },
           "zaxis": {
            "backgroundcolor": "#E5ECF6",
            "gridcolor": "white",
            "gridwidth": 2,
            "linecolor": "white",
            "showbackground": true,
            "ticks": "",
            "zerolinecolor": "white"
           }
          },
          "shapedefaults": {
           "line": {
            "color": "#2a3f5f"
           }
          },
          "ternary": {
           "aaxis": {
            "gridcolor": "white",
            "linecolor": "white",
            "ticks": ""
           },
           "baxis": {
            "gridcolor": "white",
            "linecolor": "white",
            "ticks": ""
           },
           "bgcolor": "#E5ECF6",
           "caxis": {
            "gridcolor": "white",
            "linecolor": "white",
            "ticks": ""
           }
          },
          "title": {
           "x": 0.05
          },
          "xaxis": {
           "automargin": true,
           "gridcolor": "white",
           "linecolor": "white",
           "ticks": "",
           "title": {
            "standoff": 15
           },
           "zerolinecolor": "white",
           "zerolinewidth": 2
          },
          "yaxis": {
           "automargin": true,
           "gridcolor": "white",
           "linecolor": "white",
           "ticks": "",
           "title": {
            "standoff": 15
           },
           "zerolinecolor": "white",
           "zerolinewidth": 2
          }
         }
        },
        "title": {
         "text": "Annual Savings Per Dwelling Unit"
        },
        "width": 850,
        "xaxis": {
         "anchor": "y",
         "domain": [
          0,
          0.004635761589403973
         ],
         "tickangle": 45,
         "title": {
          "text": ""
         },
         "visible": false
        },
        "xaxis2": {
         "anchor": "y2",
         "domain": [
          0.10463576158940398,
          0.33642384105960266
         ],
         "tickangle": 45,
         "title": {
          "text": "Bill Savings<br>usd"
         },
         "visible": true
        },
        "xaxis3": {
         "anchor": "y3",
         "domain": [
          0.43642384105960264,
          0.6682119205298013
         ],
         "tickangle": 45,
         "title": {
          "text": "Emission Savings<br>kgCO2e"
         },
         "visible": true
        },
        "xaxis4": {
         "anchor": "y4",
         "domain": [
          0.7682119205298014,
          1
         ],
         "tickangle": 45,
         "title": {
          "text": "Energy Savings<br>mmbtu"
         },
         "visible": true
        },
        "yaxis": {
         "anchor": "x",
         "domain": [
          0,
          1
         ],
         "visible": true
        },
        "yaxis2": {
         "anchor": "x2",
         "domain": [
          0,
          1
         ],
         "visible": false
        },
        "yaxis3": {
         "anchor": "x3",
         "domain": [
          0,
          1
         ],
         "visible": false
        },
        "yaxis4": {
         "anchor": "x4",
         "domain": [
          0,
          1
         ],
         "visible": false
        }
       }
      }
     },
     "metadata": {},
     "output_type": "display_data"
    }
   ],
   "source": [
    "results = figure_mean_savings(community_results) \n",
    "saving_results[['whole_community_saving_bill_mean_usd','whole_community_saving_emission_mean_kgCO2e','whole_community_saving_energy_mean_mmbtu']] = results"
   ]
  },
  {
   "cell_type": "code",
   "execution_count": 39,
   "id": "b1cb7a37",
   "metadata": {},
   "outputs": [
    {
     "name": "stdout",
     "output_type": "stream",
     "text": [
      "Community summary:\n"
     ]
    },
    {
     "data": {
      "text/html": [
       "<div>\n",
       "<style scoped>\n",
       "    .dataframe tbody tr th:only-of-type {\n",
       "        vertical-align: middle;\n",
       "    }\n",
       "\n",
       "    .dataframe tbody tr th {\n",
       "        vertical-align: top;\n",
       "    }\n",
       "\n",
       "    .dataframe thead th {\n",
       "        text-align: right;\n",
       "    }\n",
       "</style>\n",
       "<table border=\"1\" class=\"dataframe\">\n",
       "  <thead>\n",
       "    <tr style=\"text-align: right;\">\n",
       "      <th></th>\n",
       "      <th>n_samples</th>\n",
       "      <th>n_represented</th>\n",
       "      <th>pct_saving_energy.total_% wt_mean</th>\n",
       "      <th>pct_saving_energy.total_% wt_p0.25</th>\n",
       "      <th>pct_saving_energy.total_% wt_p0.75</th>\n",
       "    </tr>\n",
       "    <tr>\n",
       "      <th>upgrade_name</th>\n",
       "      <th></th>\n",
       "      <th></th>\n",
       "      <th></th>\n",
       "      <th></th>\n",
       "      <th></th>\n",
       "    </tr>\n",
       "  </thead>\n",
       "  <tbody>\n",
       "    <tr>\n",
       "      <th>Enhanced Enclosure + High Efficiency Whole Home Electrification</th>\n",
       "      <td>2142</td>\n",
       "      <td>99857.810409</td>\n",
       "      <td>64.357087</td>\n",
       "      <td>58.1600</td>\n",
       "      <td>73.1900</td>\n",
       "    </tr>\n",
       "    <tr>\n",
       "      <th>Basic Enclosure + High Efficiency Whole Home Electrification</th>\n",
       "      <td>2142</td>\n",
       "      <td>99857.810409</td>\n",
       "      <td>63.826793</td>\n",
       "      <td>57.5700</td>\n",
       "      <td>72.4300</td>\n",
       "    </tr>\n",
       "    <tr>\n",
       "      <th>Enhanced Enclosure + HPWH + High Efficiency HP/Electric Backup</th>\n",
       "      <td>2142</td>\n",
       "      <td>99857.810409</td>\n",
       "      <td>62.355327</td>\n",
       "      <td>55.0300</td>\n",
       "      <td>71.6700</td>\n",
       "    </tr>\n",
       "    <tr>\n",
       "      <th>Basic Enclosure + HPWH + High Efficiency HP/Electric Backup</th>\n",
       "      <td>2142</td>\n",
       "      <td>99857.810409</td>\n",
       "      <td>61.825079</td>\n",
       "      <td>54.6200</td>\n",
       "      <td>71.0000</td>\n",
       "    </tr>\n",
       "    <tr>\n",
       "      <th>High Efficiency Whole Home Electrification</th>\n",
       "      <td>2142</td>\n",
       "      <td>99857.810409</td>\n",
       "      <td>58.460976</td>\n",
       "      <td>52.7500</td>\n",
       "      <td>65.8200</td>\n",
       "    </tr>\n",
       "    <tr>\n",
       "      <th>Mininum Efficiency Whole Home Electrification</th>\n",
       "      <td>1831</td>\n",
       "      <td>85359.314126</td>\n",
       "      <td>41.910442</td>\n",
       "      <td>36.2350</td>\n",
       "      <td>53.2275</td>\n",
       "    </tr>\n",
       "    <tr>\n",
       "      <th>High Efficiency Heat Pump with Electric Heat Backup</th>\n",
       "      <td>2142</td>\n",
       "      <td>99857.810409</td>\n",
       "      <td>40.160196</td>\n",
       "      <td>30.6000</td>\n",
       "      <td>52.4200</td>\n",
       "    </tr>\n",
       "    <tr>\n",
       "      <th>Mininum Efficiency Heat Pump with Electric Heat Backup</th>\n",
       "      <td>2142</td>\n",
       "      <td>99857.810409</td>\n",
       "      <td>27.503870</td>\n",
       "      <td>18.3000</td>\n",
       "      <td>38.1900</td>\n",
       "    </tr>\n",
       "    <tr>\n",
       "      <th>Enhanced Enclosure</th>\n",
       "      <td>2104</td>\n",
       "      <td>98086.289963</td>\n",
       "      <td>22.545813</td>\n",
       "      <td>15.2850</td>\n",
       "      <td>29.8700</td>\n",
       "    </tr>\n",
       "    <tr>\n",
       "      <th>Basic Enclosure</th>\n",
       "      <td>2083</td>\n",
       "      <td>97107.291822</td>\n",
       "      <td>20.005204</td>\n",
       "      <td>13.6725</td>\n",
       "      <td>26.4575</td>\n",
       "    </tr>\n",
       "    <tr>\n",
       "      <th>Mininum Efficiency Heat Pump with Existing Heat Backup</th>\n",
       "      <td>2100</td>\n",
       "      <td>97899.814126</td>\n",
       "      <td>19.021157</td>\n",
       "      <td>2.8350</td>\n",
       "      <td>33.5100</td>\n",
       "    </tr>\n",
       "    <tr>\n",
       "      <th>Heat Pump Water Heater</th>\n",
       "      <td>2127</td>\n",
       "      <td>99158.526022</td>\n",
       "      <td>11.143122</td>\n",
       "      <td>5.1725</td>\n",
       "      <td>15.2100</td>\n",
       "    </tr>\n",
       "    <tr>\n",
       "      <th>Electric Cooking</th>\n",
       "      <td>1197</td>\n",
       "      <td>55802.894052</td>\n",
       "      <td>2.034386</td>\n",
       "      <td>1.2000</td>\n",
       "      <td>2.7300</td>\n",
       "    </tr>\n",
       "    <tr>\n",
       "      <th>Induction Cooking</th>\n",
       "      <td>2098</td>\n",
       "      <td>97806.576208</td>\n",
       "      <td>1.379900</td>\n",
       "      <td>0.1900</td>\n",
       "      <td>2.3100</td>\n",
       "    </tr>\n",
       "    <tr>\n",
       "      <th>Heat Pump Clothes Dryer</th>\n",
       "      <td>1144</td>\n",
       "      <td>53332.089219</td>\n",
       "      <td>1.217622</td>\n",
       "      <td>0.5750</td>\n",
       "      <td>1.6300</td>\n",
       "    </tr>\n",
       "    <tr>\n",
       "      <th>Electric Clothes Dryer</th>\n",
       "      <td>385</td>\n",
       "      <td>17948.299257</td>\n",
       "      <td>0.543584</td>\n",
       "      <td>0.2575</td>\n",
       "      <td>0.7225</td>\n",
       "    </tr>\n",
       "    <tr>\n",
       "      <th>baseline</th>\n",
       "      <td>2142</td>\n",
       "      <td>99857.810409</td>\n",
       "      <td>0.000000</td>\n",
       "      <td>NaN</td>\n",
       "      <td>NaN</td>\n",
       "    </tr>\n",
       "  </tbody>\n",
       "</table>\n",
       "</div>"
      ],
      "text/plain": [
       "                                                    n_samples  n_represented  \\\n",
       "upgrade_name                                                                   \n",
       "Enhanced Enclosure + High Efficiency Whole Home...       2142   99857.810409   \n",
       "Basic Enclosure + High Efficiency Whole Home El...       2142   99857.810409   \n",
       "Enhanced Enclosure + HPWH + High Efficiency HP/...       2142   99857.810409   \n",
       "Basic Enclosure + HPWH + High Efficiency HP/Ele...       2142   99857.810409   \n",
       "High Efficiency Whole Home Electrification               2142   99857.810409   \n",
       "Mininum Efficiency Whole Home Electrification            1831   85359.314126   \n",
       "High Efficiency Heat Pump with Electric Heat Ba...       2142   99857.810409   \n",
       "Mininum Efficiency Heat Pump with Electric Heat...       2142   99857.810409   \n",
       "Enhanced Enclosure                                       2104   98086.289963   \n",
       "Basic Enclosure                                          2083   97107.291822   \n",
       "Mininum Efficiency Heat Pump with Existing Heat...       2100   97899.814126   \n",
       "Heat Pump Water Heater                                   2127   99158.526022   \n",
       "Electric Cooking                                         1197   55802.894052   \n",
       "Induction Cooking                                        2098   97806.576208   \n",
       "Heat Pump Clothes Dryer                                  1144   53332.089219   \n",
       "Electric Clothes Dryer                                    385   17948.299257   \n",
       "baseline                                                 2142   99857.810409   \n",
       "\n",
       "                                                    pct_saving_energy.total_% wt_mean  \\\n",
       "upgrade_name                                                                            \n",
       "Enhanced Enclosure + High Efficiency Whole Home...                          64.357087   \n",
       "Basic Enclosure + High Efficiency Whole Home El...                          63.826793   \n",
       "Enhanced Enclosure + HPWH + High Efficiency HP/...                          62.355327   \n",
       "Basic Enclosure + HPWH + High Efficiency HP/Ele...                          61.825079   \n",
       "High Efficiency Whole Home Electrification                                  58.460976   \n",
       "Mininum Efficiency Whole Home Electrification                               41.910442   \n",
       "High Efficiency Heat Pump with Electric Heat Ba...                          40.160196   \n",
       "Mininum Efficiency Heat Pump with Electric Heat...                          27.503870   \n",
       "Enhanced Enclosure                                                          22.545813   \n",
       "Basic Enclosure                                                             20.005204   \n",
       "Mininum Efficiency Heat Pump with Existing Heat...                          19.021157   \n",
       "Heat Pump Water Heater                                                      11.143122   \n",
       "Electric Cooking                                                             2.034386   \n",
       "Induction Cooking                                                            1.379900   \n",
       "Heat Pump Clothes Dryer                                                      1.217622   \n",
       "Electric Clothes Dryer                                                       0.543584   \n",
       "baseline                                                                     0.000000   \n",
       "\n",
       "                                                    pct_saving_energy.total_% wt_p0.25  \\\n",
       "upgrade_name                                                                             \n",
       "Enhanced Enclosure + High Efficiency Whole Home...                             58.1600   \n",
       "Basic Enclosure + High Efficiency Whole Home El...                             57.5700   \n",
       "Enhanced Enclosure + HPWH + High Efficiency HP/...                             55.0300   \n",
       "Basic Enclosure + HPWH + High Efficiency HP/Ele...                             54.6200   \n",
       "High Efficiency Whole Home Electrification                                     52.7500   \n",
       "Mininum Efficiency Whole Home Electrification                                  36.2350   \n",
       "High Efficiency Heat Pump with Electric Heat Ba...                             30.6000   \n",
       "Mininum Efficiency Heat Pump with Electric Heat...                             18.3000   \n",
       "Enhanced Enclosure                                                             15.2850   \n",
       "Basic Enclosure                                                                13.6725   \n",
       "Mininum Efficiency Heat Pump with Existing Heat...                              2.8350   \n",
       "Heat Pump Water Heater                                                          5.1725   \n",
       "Electric Cooking                                                                1.2000   \n",
       "Induction Cooking                                                               0.1900   \n",
       "Heat Pump Clothes Dryer                                                         0.5750   \n",
       "Electric Clothes Dryer                                                          0.2575   \n",
       "baseline                                                                           NaN   \n",
       "\n",
       "                                                    pct_saving_energy.total_% wt_p0.75  \n",
       "upgrade_name                                                                            \n",
       "Enhanced Enclosure + High Efficiency Whole Home...                             73.1900  \n",
       "Basic Enclosure + High Efficiency Whole Home El...                             72.4300  \n",
       "Enhanced Enclosure + HPWH + High Efficiency HP/...                             71.6700  \n",
       "Basic Enclosure + HPWH + High Efficiency HP/Ele...                             71.0000  \n",
       "High Efficiency Whole Home Electrification                                     65.8200  \n",
       "Mininum Efficiency Whole Home Electrification                                  53.2275  \n",
       "High Efficiency Heat Pump with Electric Heat Ba...                             52.4200  \n",
       "Mininum Efficiency Heat Pump with Electric Heat...                             38.1900  \n",
       "Enhanced Enclosure                                                             29.8700  \n",
       "Basic Enclosure                                                                26.4575  \n",
       "Mininum Efficiency Heat Pump with Existing Heat...                             33.5100  \n",
       "Heat Pump Water Heater                                                         15.2100  \n",
       "Electric Cooking                                                                2.7300  \n",
       "Induction Cooking                                                               2.3100  \n",
       "Heat Pump Clothes Dryer                                                         1.6300  \n",
       "Electric Clothes Dryer                                                          0.7225  \n",
       "baseline                                                                           NaN  "
      ]
     },
     "execution_count": 39,
     "metadata": {},
     "output_type": "execute_result"
    }
   ],
   "source": [
    "metric = \"pct_saving_energy.total_%\"\n",
    "print(\"Community summary:\")\n",
    "get_summary(community_results, metric, lower_percentile=0.25, upper_percentile=0.75)"
   ]
  },
  {
   "cell_type": "markdown",
   "id": "35e7b6ad",
   "metadata": {},
   "source": [
    "# 2. Results for Segments (0-80% AMI)"
   ]
  },
  {
   "attachments": {},
   "cell_type": "markdown",
   "id": "9c79f834",
   "metadata": {},
   "source": [
    "Segment Definition\n",
    "\n",
    "Segment 1. Single-family detached, renter, pre 1940, masonry construction, 0-80% AMI\n",
    "\n",
    "Segment 2. Single-family attached, renter, pre 1940, masonry construction, 0-80% AMI\n",
    "\n",
    "Segment 3. Multi-family, masonry construction, 0-80% AMI\n",
    "\n",
    "Segment 4. 0-80% AMI"
   ]
  },
  {
   "cell_type": "code",
   "execution_count": 40,
   "id": "42e13001",
   "metadata": {},
   "outputs": [],
   "source": [
    "income = '0-80%AMI'\n",
    "\n",
    "seg1_building_type = ['Single-Family Detached']\n",
    "seg1_vintage = ['<1940']\n",
    "seg1_tenure = ['Renter']\n",
    "seg1_construction = ['Brick', 'Concrete']\n",
    "seg1_median_income = ['0-30%','30-60%','60-80%']\n",
    "\n",
    "seg2_building_type = ['Single-Family Attached']\n",
    "seg2_vintage = ['<1940']\n",
    "seg2_tenure = ['Renter']\n",
    "seg2_construction = ['Brick', 'Concrete']\n",
    "seg2_median_income = ['0-30%','30-60%','60-80%']\n",
    "\n",
    "seg3_building_type = ['Multi-Family with 2 - 4 Units', 'Multi-Family with 5+ Units']\n",
    "seg3_construction = ['Brick', 'Concrete']\n",
    "seg3_median_income = ['0-30%','30-60%','60-80%']\n",
    "\n",
    "seg4_median_income = ['0-30%','30-60%','60-80%']\n",
    "\n",
    "community_results.loc[community_results['build_existing_model.geometry_building_type_recs'].isin(seg1_building_type) & \n",
    "                     community_results['build_existing_model.vintage'].isin(seg1_vintage) &  \n",
    "                     community_results['build_existing_model.geometry_wall_type'].isin(seg1_construction) & \n",
    "                     community_results['build_existing_model.area_median_income'].isin(seg1_median_income),\n",
    "                     'segment'] = 'segment1'\n",
    "community_results.loc[community_results['build_existing_model.geometry_building_type_recs'].isin(seg2_building_type) & \n",
    "                     community_results['build_existing_model.vintage'].isin(seg2_vintage) &   \n",
    "                     community_results['build_existing_model.geometry_wall_type'].isin(seg2_construction) &\n",
    "                     community_results['build_existing_model.area_median_income'].isin(seg2_median_income),\n",
    "                     'segment'] = 'segment2'\n",
    "community_results.loc[community_results['build_existing_model.geometry_building_type_recs'].isin(seg3_building_type) & \n",
    "                     community_results['build_existing_model.geometry_wall_type'].isin(seg3_construction) & \n",
    "                     community_results['build_existing_model.area_median_income'].isin(seg3_median_income),\n",
    "                     'segment'] = 'segment3'\n",
    "seg4 = community_results.copy().assign(segment='segment4')\n",
    "seg4 = seg4.loc[seg4['build_existing_model.area_median_income'].isin(seg4_median_income)]\n",
    "community_results = pd.concat([community_results, seg4], axis=0)"
   ]
  },
  {
   "cell_type": "code",
   "execution_count": 41,
   "id": "0393aa2c",
   "metadata": {},
   "outputs": [
    {
     "name": "stdout",
     "output_type": "stream",
     "text": [
      "Summary for segment: segment1: \n"
     ]
    },
    {
     "data": {
      "text/html": [
       "<div>\n",
       "<style scoped>\n",
       "    .dataframe tbody tr th:only-of-type {\n",
       "        vertical-align: middle;\n",
       "    }\n",
       "\n",
       "    .dataframe tbody tr th {\n",
       "        vertical-align: top;\n",
       "    }\n",
       "\n",
       "    .dataframe thead th {\n",
       "        text-align: right;\n",
       "    }\n",
       "</style>\n",
       "<table border=\"1\" class=\"dataframe\">\n",
       "  <thead>\n",
       "    <tr style=\"text-align: right;\">\n",
       "      <th></th>\n",
       "      <th>n_samples</th>\n",
       "      <th>n_represented</th>\n",
       "      <th>pct_saving_energy.total_% wt_mean</th>\n",
       "      <th>pct_saving_energy.total_% wt_p0.25</th>\n",
       "      <th>pct_saving_energy.total_% wt_p0.75</th>\n",
       "    </tr>\n",
       "    <tr>\n",
       "      <th>upgrade_name</th>\n",
       "      <th></th>\n",
       "      <th></th>\n",
       "      <th></th>\n",
       "      <th></th>\n",
       "      <th></th>\n",
       "    </tr>\n",
       "  </thead>\n",
       "  <tbody>\n",
       "    <tr>\n",
       "      <th>Enhanced Enclosure + High Efficiency Whole Home Electrification</th>\n",
       "      <td>239</td>\n",
       "      <td>11141.931227</td>\n",
       "      <td>70.508494</td>\n",
       "      <td>67.5050</td>\n",
       "      <td>76.8800</td>\n",
       "    </tr>\n",
       "    <tr>\n",
       "      <th>Basic Enclosure + High Efficiency Whole Home Electrification</th>\n",
       "      <td>239</td>\n",
       "      <td>11141.931227</td>\n",
       "      <td>70.131799</td>\n",
       "      <td>66.9225</td>\n",
       "      <td>76.6350</td>\n",
       "    </tr>\n",
       "    <tr>\n",
       "      <th>Enhanced Enclosure + HPWH + High Efficiency HP/Electric Backup</th>\n",
       "      <td>239</td>\n",
       "      <td>11141.931227</td>\n",
       "      <td>69.013305</td>\n",
       "      <td>65.5475</td>\n",
       "      <td>75.6200</td>\n",
       "    </tr>\n",
       "    <tr>\n",
       "      <th>Basic Enclosure + HPWH + High Efficiency HP/Electric Backup</th>\n",
       "      <td>239</td>\n",
       "      <td>11141.931227</td>\n",
       "      <td>68.636527</td>\n",
       "      <td>65.0850</td>\n",
       "      <td>75.4025</td>\n",
       "    </tr>\n",
       "    <tr>\n",
       "      <th>High Efficiency Whole Home Electrification</th>\n",
       "      <td>239</td>\n",
       "      <td>11141.931227</td>\n",
       "      <td>61.911130</td>\n",
       "      <td>58.3700</td>\n",
       "      <td>70.5950</td>\n",
       "    </tr>\n",
       "    <tr>\n",
       "      <th>High Efficiency Heat Pump with Electric Heat Backup</th>\n",
       "      <td>239</td>\n",
       "      <td>11141.931227</td>\n",
       "      <td>50.200544</td>\n",
       "      <td>45.1975</td>\n",
       "      <td>60.6875</td>\n",
       "    </tr>\n",
       "    <tr>\n",
       "      <th>Mininum Efficiency Whole Home Electrification</th>\n",
       "      <td>238</td>\n",
       "      <td>11095.312268</td>\n",
       "      <td>45.900504</td>\n",
       "      <td>41.7300</td>\n",
       "      <td>59.2500</td>\n",
       "    </tr>\n",
       "    <tr>\n",
       "      <th>Mininum Efficiency Heat Pump with Electric Heat Backup</th>\n",
       "      <td>239</td>\n",
       "      <td>11141.931227</td>\n",
       "      <td>35.725021</td>\n",
       "      <td>30.1750</td>\n",
       "      <td>48.7600</td>\n",
       "    </tr>\n",
       "    <tr>\n",
       "      <th>Enhanced Enclosure</th>\n",
       "      <td>239</td>\n",
       "      <td>11141.931227</td>\n",
       "      <td>31.723849</td>\n",
       "      <td>27.9700</td>\n",
       "      <td>35.8475</td>\n",
       "    </tr>\n",
       "    <tr>\n",
       "      <th>Basic Enclosure</th>\n",
       "      <td>239</td>\n",
       "      <td>11141.931227</td>\n",
       "      <td>27.475314</td>\n",
       "      <td>23.7350</td>\n",
       "      <td>31.5775</td>\n",
       "    </tr>\n",
       "    <tr>\n",
       "      <th>Mininum Efficiency Heat Pump with Existing Heat Backup</th>\n",
       "      <td>233</td>\n",
       "      <td>10862.217472</td>\n",
       "      <td>21.561717</td>\n",
       "      <td>1.8825</td>\n",
       "      <td>48.2425</td>\n",
       "    </tr>\n",
       "    <tr>\n",
       "      <th>Heat Pump Water Heater</th>\n",
       "      <td>239</td>\n",
       "      <td>11141.931227</td>\n",
       "      <td>7.200251</td>\n",
       "      <td>3.7075</td>\n",
       "      <td>9.7950</td>\n",
       "    </tr>\n",
       "    <tr>\n",
       "      <th>Electric Cooking</th>\n",
       "      <td>145</td>\n",
       "      <td>6759.749071</td>\n",
       "      <td>1.066276</td>\n",
       "      <td>0.7075</td>\n",
       "      <td>1.3500</td>\n",
       "    </tr>\n",
       "    <tr>\n",
       "      <th>Heat Pump Clothes Dryer</th>\n",
       "      <td>224</td>\n",
       "      <td>10442.646840</td>\n",
       "      <td>0.810268</td>\n",
       "      <td>0.3800</td>\n",
       "      <td>1.0800</td>\n",
       "    </tr>\n",
       "    <tr>\n",
       "      <th>Induction Cooking</th>\n",
       "      <td>234</td>\n",
       "      <td>10908.836431</td>\n",
       "      <td>0.751026</td>\n",
       "      <td>0.0900</td>\n",
       "      <td>1.2500</td>\n",
       "    </tr>\n",
       "    <tr>\n",
       "      <th>Electric Clothes Dryer</th>\n",
       "      <td>99</td>\n",
       "      <td>4615.276952</td>\n",
       "      <td>0.376061</td>\n",
       "      <td>0.1825</td>\n",
       "      <td>0.4650</td>\n",
       "    </tr>\n",
       "    <tr>\n",
       "      <th>baseline</th>\n",
       "      <td>239</td>\n",
       "      <td>11141.931227</td>\n",
       "      <td>0.000000</td>\n",
       "      <td>NaN</td>\n",
       "      <td>NaN</td>\n",
       "    </tr>\n",
       "  </tbody>\n",
       "</table>\n",
       "</div>"
      ],
      "text/plain": [
       "                                                    n_samples  n_represented  \\\n",
       "upgrade_name                                                                   \n",
       "Enhanced Enclosure + High Efficiency Whole Home...        239   11141.931227   \n",
       "Basic Enclosure + High Efficiency Whole Home El...        239   11141.931227   \n",
       "Enhanced Enclosure + HPWH + High Efficiency HP/...        239   11141.931227   \n",
       "Basic Enclosure + HPWH + High Efficiency HP/Ele...        239   11141.931227   \n",
       "High Efficiency Whole Home Electrification                239   11141.931227   \n",
       "High Efficiency Heat Pump with Electric Heat Ba...        239   11141.931227   \n",
       "Mininum Efficiency Whole Home Electrification             238   11095.312268   \n",
       "Mininum Efficiency Heat Pump with Electric Heat...        239   11141.931227   \n",
       "Enhanced Enclosure                                        239   11141.931227   \n",
       "Basic Enclosure                                           239   11141.931227   \n",
       "Mininum Efficiency Heat Pump with Existing Heat...        233   10862.217472   \n",
       "Heat Pump Water Heater                                    239   11141.931227   \n",
       "Electric Cooking                                          145    6759.749071   \n",
       "Heat Pump Clothes Dryer                                   224   10442.646840   \n",
       "Induction Cooking                                         234   10908.836431   \n",
       "Electric Clothes Dryer                                     99    4615.276952   \n",
       "baseline                                                  239   11141.931227   \n",
       "\n",
       "                                                    pct_saving_energy.total_% wt_mean  \\\n",
       "upgrade_name                                                                            \n",
       "Enhanced Enclosure + High Efficiency Whole Home...                          70.508494   \n",
       "Basic Enclosure + High Efficiency Whole Home El...                          70.131799   \n",
       "Enhanced Enclosure + HPWH + High Efficiency HP/...                          69.013305   \n",
       "Basic Enclosure + HPWH + High Efficiency HP/Ele...                          68.636527   \n",
       "High Efficiency Whole Home Electrification                                  61.911130   \n",
       "High Efficiency Heat Pump with Electric Heat Ba...                          50.200544   \n",
       "Mininum Efficiency Whole Home Electrification                               45.900504   \n",
       "Mininum Efficiency Heat Pump with Electric Heat...                          35.725021   \n",
       "Enhanced Enclosure                                                          31.723849   \n",
       "Basic Enclosure                                                             27.475314   \n",
       "Mininum Efficiency Heat Pump with Existing Heat...                          21.561717   \n",
       "Heat Pump Water Heater                                                       7.200251   \n",
       "Electric Cooking                                                             1.066276   \n",
       "Heat Pump Clothes Dryer                                                      0.810268   \n",
       "Induction Cooking                                                            0.751026   \n",
       "Electric Clothes Dryer                                                       0.376061   \n",
       "baseline                                                                     0.000000   \n",
       "\n",
       "                                                    pct_saving_energy.total_% wt_p0.25  \\\n",
       "upgrade_name                                                                             \n",
       "Enhanced Enclosure + High Efficiency Whole Home...                             67.5050   \n",
       "Basic Enclosure + High Efficiency Whole Home El...                             66.9225   \n",
       "Enhanced Enclosure + HPWH + High Efficiency HP/...                             65.5475   \n",
       "Basic Enclosure + HPWH + High Efficiency HP/Ele...                             65.0850   \n",
       "High Efficiency Whole Home Electrification                                     58.3700   \n",
       "High Efficiency Heat Pump with Electric Heat Ba...                             45.1975   \n",
       "Mininum Efficiency Whole Home Electrification                                  41.7300   \n",
       "Mininum Efficiency Heat Pump with Electric Heat...                             30.1750   \n",
       "Enhanced Enclosure                                                             27.9700   \n",
       "Basic Enclosure                                                                23.7350   \n",
       "Mininum Efficiency Heat Pump with Existing Heat...                              1.8825   \n",
       "Heat Pump Water Heater                                                          3.7075   \n",
       "Electric Cooking                                                                0.7075   \n",
       "Heat Pump Clothes Dryer                                                         0.3800   \n",
       "Induction Cooking                                                               0.0900   \n",
       "Electric Clothes Dryer                                                          0.1825   \n",
       "baseline                                                                           NaN   \n",
       "\n",
       "                                                    pct_saving_energy.total_% wt_p0.75  \n",
       "upgrade_name                                                                            \n",
       "Enhanced Enclosure + High Efficiency Whole Home...                             76.8800  \n",
       "Basic Enclosure + High Efficiency Whole Home El...                             76.6350  \n",
       "Enhanced Enclosure + HPWH + High Efficiency HP/...                             75.6200  \n",
       "Basic Enclosure + HPWH + High Efficiency HP/Ele...                             75.4025  \n",
       "High Efficiency Whole Home Electrification                                     70.5950  \n",
       "High Efficiency Heat Pump with Electric Heat Ba...                             60.6875  \n",
       "Mininum Efficiency Whole Home Electrification                                  59.2500  \n",
       "Mininum Efficiency Heat Pump with Electric Heat...                             48.7600  \n",
       "Enhanced Enclosure                                                             35.8475  \n",
       "Basic Enclosure                                                                31.5775  \n",
       "Mininum Efficiency Heat Pump with Existing Heat...                             48.2425  \n",
       "Heat Pump Water Heater                                                          9.7950  \n",
       "Electric Cooking                                                                1.3500  \n",
       "Heat Pump Clothes Dryer                                                         1.0800  \n",
       "Induction Cooking                                                               1.2500  \n",
       "Electric Clothes Dryer                                                          0.4650  \n",
       "baseline                                                                           NaN  "
      ]
     },
     "metadata": {},
     "output_type": "display_data"
    },
    {
     "name": "stdout",
     "output_type": "stream",
     "text": [
      "Summary for segment: segment2: \n"
     ]
    },
    {
     "data": {
      "text/html": [
       "<div>\n",
       "<style scoped>\n",
       "    .dataframe tbody tr th:only-of-type {\n",
       "        vertical-align: middle;\n",
       "    }\n",
       "\n",
       "    .dataframe tbody tr th {\n",
       "        vertical-align: top;\n",
       "    }\n",
       "\n",
       "    .dataframe thead th {\n",
       "        text-align: right;\n",
       "    }\n",
       "</style>\n",
       "<table border=\"1\" class=\"dataframe\">\n",
       "  <thead>\n",
       "    <tr style=\"text-align: right;\">\n",
       "      <th></th>\n",
       "      <th>n_samples</th>\n",
       "      <th>n_represented</th>\n",
       "      <th>pct_saving_energy.total_% wt_mean</th>\n",
       "      <th>pct_saving_energy.total_% wt_p0.25</th>\n",
       "      <th>pct_saving_energy.total_% wt_p0.75</th>\n",
       "    </tr>\n",
       "    <tr>\n",
       "      <th>upgrade_name</th>\n",
       "      <th></th>\n",
       "      <th></th>\n",
       "      <th></th>\n",
       "      <th></th>\n",
       "      <th></th>\n",
       "    </tr>\n",
       "  </thead>\n",
       "  <tbody>\n",
       "    <tr>\n",
       "      <th>Enhanced Enclosure + High Efficiency Whole Home Electrification</th>\n",
       "      <td>354</td>\n",
       "      <td>16503.111524</td>\n",
       "      <td>69.804350</td>\n",
       "      <td>63.8600</td>\n",
       "      <td>76.7600</td>\n",
       "    </tr>\n",
       "    <tr>\n",
       "      <th>Basic Enclosure + High Efficiency Whole Home Electrification</th>\n",
       "      <td>354</td>\n",
       "      <td>16503.111524</td>\n",
       "      <td>69.487486</td>\n",
       "      <td>63.8600</td>\n",
       "      <td>76.3300</td>\n",
       "    </tr>\n",
       "    <tr>\n",
       "      <th>Enhanced Enclosure + HPWH + High Efficiency HP/Electric Backup</th>\n",
       "      <td>354</td>\n",
       "      <td>16503.111524</td>\n",
       "      <td>67.701243</td>\n",
       "      <td>60.9300</td>\n",
       "      <td>75.2900</td>\n",
       "    </tr>\n",
       "    <tr>\n",
       "      <th>Basic Enclosure + HPWH + High Efficiency HP/Electric Backup</th>\n",
       "      <td>354</td>\n",
       "      <td>16503.111524</td>\n",
       "      <td>67.384435</td>\n",
       "      <td>60.9300</td>\n",
       "      <td>74.6900</td>\n",
       "    </tr>\n",
       "    <tr>\n",
       "      <th>High Efficiency Whole Home Electrification</th>\n",
       "      <td>354</td>\n",
       "      <td>16503.111524</td>\n",
       "      <td>63.417797</td>\n",
       "      <td>57.7100</td>\n",
       "      <td>70.6400</td>\n",
       "    </tr>\n",
       "    <tr>\n",
       "      <th>Mininum Efficiency Whole Home Electrification</th>\n",
       "      <td>336</td>\n",
       "      <td>15663.970260</td>\n",
       "      <td>49.566399</td>\n",
       "      <td>43.1100</td>\n",
       "      <td>58.0100</td>\n",
       "    </tr>\n",
       "    <tr>\n",
       "      <th>High Efficiency Heat Pump with Electric Heat Backup</th>\n",
       "      <td>354</td>\n",
       "      <td>16503.111524</td>\n",
       "      <td>47.680989</td>\n",
       "      <td>39.0400</td>\n",
       "      <td>57.4300</td>\n",
       "    </tr>\n",
       "    <tr>\n",
       "      <th>Mininum Efficiency Heat Pump with Electric Heat Backup</th>\n",
       "      <td>354</td>\n",
       "      <td>16503.111524</td>\n",
       "      <td>35.272316</td>\n",
       "      <td>25.9800</td>\n",
       "      <td>44.4500</td>\n",
       "    </tr>\n",
       "    <tr>\n",
       "      <th>Enhanced Enclosure</th>\n",
       "      <td>354</td>\n",
       "      <td>16503.111524</td>\n",
       "      <td>28.409350</td>\n",
       "      <td>23.5200</td>\n",
       "      <td>32.8600</td>\n",
       "    </tr>\n",
       "    <tr>\n",
       "      <th>Basic Enclosure</th>\n",
       "      <td>354</td>\n",
       "      <td>16503.111524</td>\n",
       "      <td>25.104831</td>\n",
       "      <td>20.9700</td>\n",
       "      <td>29.8500</td>\n",
       "    </tr>\n",
       "    <tr>\n",
       "      <th>Mininum Efficiency Heat Pump with Existing Heat Backup</th>\n",
       "      <td>353</td>\n",
       "      <td>16456.492565</td>\n",
       "      <td>21.827025</td>\n",
       "      <td>2.6300</td>\n",
       "      <td>41.3600</td>\n",
       "    </tr>\n",
       "    <tr>\n",
       "      <th>Heat Pump Water Heater</th>\n",
       "      <td>352</td>\n",
       "      <td>16409.873606</td>\n",
       "      <td>9.220568</td>\n",
       "      <td>5.0200</td>\n",
       "      <td>12.9100</td>\n",
       "    </tr>\n",
       "    <tr>\n",
       "      <th>Electric Cooking</th>\n",
       "      <td>249</td>\n",
       "      <td>11608.120818</td>\n",
       "      <td>1.531285</td>\n",
       "      <td>1.0075</td>\n",
       "      <td>2.1275</td>\n",
       "    </tr>\n",
       "    <tr>\n",
       "      <th>Induction Cooking</th>\n",
       "      <td>350</td>\n",
       "      <td>16316.635688</td>\n",
       "      <td>1.219257</td>\n",
       "      <td>0.1400</td>\n",
       "      <td>2.0900</td>\n",
       "    </tr>\n",
       "    <tr>\n",
       "      <th>Heat Pump Clothes Dryer</th>\n",
       "      <td>316</td>\n",
       "      <td>14731.591078</td>\n",
       "      <td>1.005728</td>\n",
       "      <td>0.5100</td>\n",
       "      <td>1.4800</td>\n",
       "    </tr>\n",
       "    <tr>\n",
       "      <th>Electric Clothes Dryer</th>\n",
       "      <td>106</td>\n",
       "      <td>4941.609665</td>\n",
       "      <td>0.451981</td>\n",
       "      <td>0.2100</td>\n",
       "      <td>0.6300</td>\n",
       "    </tr>\n",
       "    <tr>\n",
       "      <th>baseline</th>\n",
       "      <td>354</td>\n",
       "      <td>16503.111524</td>\n",
       "      <td>0.000000</td>\n",
       "      <td>NaN</td>\n",
       "      <td>NaN</td>\n",
       "    </tr>\n",
       "  </tbody>\n",
       "</table>\n",
       "</div>"
      ],
      "text/plain": [
       "                                                    n_samples  n_represented  \\\n",
       "upgrade_name                                                                   \n",
       "Enhanced Enclosure + High Efficiency Whole Home...        354   16503.111524   \n",
       "Basic Enclosure + High Efficiency Whole Home El...        354   16503.111524   \n",
       "Enhanced Enclosure + HPWH + High Efficiency HP/...        354   16503.111524   \n",
       "Basic Enclosure + HPWH + High Efficiency HP/Ele...        354   16503.111524   \n",
       "High Efficiency Whole Home Electrification                354   16503.111524   \n",
       "Mininum Efficiency Whole Home Electrification             336   15663.970260   \n",
       "High Efficiency Heat Pump with Electric Heat Ba...        354   16503.111524   \n",
       "Mininum Efficiency Heat Pump with Electric Heat...        354   16503.111524   \n",
       "Enhanced Enclosure                                        354   16503.111524   \n",
       "Basic Enclosure                                           354   16503.111524   \n",
       "Mininum Efficiency Heat Pump with Existing Heat...        353   16456.492565   \n",
       "Heat Pump Water Heater                                    352   16409.873606   \n",
       "Electric Cooking                                          249   11608.120818   \n",
       "Induction Cooking                                         350   16316.635688   \n",
       "Heat Pump Clothes Dryer                                   316   14731.591078   \n",
       "Electric Clothes Dryer                                    106    4941.609665   \n",
       "baseline                                                  354   16503.111524   \n",
       "\n",
       "                                                    pct_saving_energy.total_% wt_mean  \\\n",
       "upgrade_name                                                                            \n",
       "Enhanced Enclosure + High Efficiency Whole Home...                          69.804350   \n",
       "Basic Enclosure + High Efficiency Whole Home El...                          69.487486   \n",
       "Enhanced Enclosure + HPWH + High Efficiency HP/...                          67.701243   \n",
       "Basic Enclosure + HPWH + High Efficiency HP/Ele...                          67.384435   \n",
       "High Efficiency Whole Home Electrification                                  63.417797   \n",
       "Mininum Efficiency Whole Home Electrification                               49.566399   \n",
       "High Efficiency Heat Pump with Electric Heat Ba...                          47.680989   \n",
       "Mininum Efficiency Heat Pump with Electric Heat...                          35.272316   \n",
       "Enhanced Enclosure                                                          28.409350   \n",
       "Basic Enclosure                                                             25.104831   \n",
       "Mininum Efficiency Heat Pump with Existing Heat...                          21.827025   \n",
       "Heat Pump Water Heater                                                       9.220568   \n",
       "Electric Cooking                                                             1.531285   \n",
       "Induction Cooking                                                            1.219257   \n",
       "Heat Pump Clothes Dryer                                                      1.005728   \n",
       "Electric Clothes Dryer                                                       0.451981   \n",
       "baseline                                                                     0.000000   \n",
       "\n",
       "                                                    pct_saving_energy.total_% wt_p0.25  \\\n",
       "upgrade_name                                                                             \n",
       "Enhanced Enclosure + High Efficiency Whole Home...                             63.8600   \n",
       "Basic Enclosure + High Efficiency Whole Home El...                             63.8600   \n",
       "Enhanced Enclosure + HPWH + High Efficiency HP/...                             60.9300   \n",
       "Basic Enclosure + HPWH + High Efficiency HP/Ele...                             60.9300   \n",
       "High Efficiency Whole Home Electrification                                     57.7100   \n",
       "Mininum Efficiency Whole Home Electrification                                  43.1100   \n",
       "High Efficiency Heat Pump with Electric Heat Ba...                             39.0400   \n",
       "Mininum Efficiency Heat Pump with Electric Heat...                             25.9800   \n",
       "Enhanced Enclosure                                                             23.5200   \n",
       "Basic Enclosure                                                                20.9700   \n",
       "Mininum Efficiency Heat Pump with Existing Heat...                              2.6300   \n",
       "Heat Pump Water Heater                                                          5.0200   \n",
       "Electric Cooking                                                                1.0075   \n",
       "Induction Cooking                                                               0.1400   \n",
       "Heat Pump Clothes Dryer                                                         0.5100   \n",
       "Electric Clothes Dryer                                                          0.2100   \n",
       "baseline                                                                           NaN   \n",
       "\n",
       "                                                    pct_saving_energy.total_% wt_p0.75  \n",
       "upgrade_name                                                                            \n",
       "Enhanced Enclosure + High Efficiency Whole Home...                             76.7600  \n",
       "Basic Enclosure + High Efficiency Whole Home El...                             76.3300  \n",
       "Enhanced Enclosure + HPWH + High Efficiency HP/...                             75.2900  \n",
       "Basic Enclosure + HPWH + High Efficiency HP/Ele...                             74.6900  \n",
       "High Efficiency Whole Home Electrification                                     70.6400  \n",
       "Mininum Efficiency Whole Home Electrification                                  58.0100  \n",
       "High Efficiency Heat Pump with Electric Heat Ba...                             57.4300  \n",
       "Mininum Efficiency Heat Pump with Electric Heat...                             44.4500  \n",
       "Enhanced Enclosure                                                             32.8600  \n",
       "Basic Enclosure                                                                29.8500  \n",
       "Mininum Efficiency Heat Pump with Existing Heat...                             41.3600  \n",
       "Heat Pump Water Heater                                                         12.9100  \n",
       "Electric Cooking                                                                2.1275  \n",
       "Induction Cooking                                                               2.0900  \n",
       "Heat Pump Clothes Dryer                                                         1.4800  \n",
       "Electric Clothes Dryer                                                          0.6300  \n",
       "baseline                                                                           NaN  "
      ]
     },
     "metadata": {},
     "output_type": "display_data"
    },
    {
     "name": "stdout",
     "output_type": "stream",
     "text": [
      "Summary for segment: segment3: \n"
     ]
    },
    {
     "data": {
      "text/html": [
       "<div>\n",
       "<style scoped>\n",
       "    .dataframe tbody tr th:only-of-type {\n",
       "        vertical-align: middle;\n",
       "    }\n",
       "\n",
       "    .dataframe tbody tr th {\n",
       "        vertical-align: top;\n",
       "    }\n",
       "\n",
       "    .dataframe thead th {\n",
       "        text-align: right;\n",
       "    }\n",
       "</style>\n",
       "<table border=\"1\" class=\"dataframe\">\n",
       "  <thead>\n",
       "    <tr style=\"text-align: right;\">\n",
       "      <th></th>\n",
       "      <th>n_samples</th>\n",
       "      <th>n_represented</th>\n",
       "      <th>pct_saving_energy.total_% wt_mean</th>\n",
       "      <th>pct_saving_energy.total_% wt_p0.25</th>\n",
       "      <th>pct_saving_energy.total_% wt_p0.75</th>\n",
       "    </tr>\n",
       "    <tr>\n",
       "      <th>upgrade_name</th>\n",
       "      <th></th>\n",
       "      <th></th>\n",
       "      <th></th>\n",
       "      <th></th>\n",
       "      <th></th>\n",
       "    </tr>\n",
       "  </thead>\n",
       "  <tbody>\n",
       "    <tr>\n",
       "      <th>Enhanced Enclosure + High Efficiency Whole Home Electrification</th>\n",
       "      <td>1549</td>\n",
       "      <td>72212.767658</td>\n",
       "      <td>62.163079</td>\n",
       "      <td>55.2950</td>\n",
       "      <td>70.9825</td>\n",
       "    </tr>\n",
       "    <tr>\n",
       "      <th>Basic Enclosure + High Efficiency Whole Home Electrification</th>\n",
       "      <td>1549</td>\n",
       "      <td>72212.767658</td>\n",
       "      <td>61.560310</td>\n",
       "      <td>54.9850</td>\n",
       "      <td>70.0950</td>\n",
       "    </tr>\n",
       "    <tr>\n",
       "      <th>Enhanced Enclosure + HPWH + High Efficiency HP/Electric Backup</th>\n",
       "      <td>1549</td>\n",
       "      <td>72212.767658</td>\n",
       "      <td>60.106320</td>\n",
       "      <td>52.6625</td>\n",
       "      <td>69.2900</td>\n",
       "    </tr>\n",
       "    <tr>\n",
       "      <th>Basic Enclosure + HPWH + High Efficiency HP/Electric Backup</th>\n",
       "      <td>1549</td>\n",
       "      <td>72212.767658</td>\n",
       "      <td>59.503615</td>\n",
       "      <td>52.1000</td>\n",
       "      <td>68.3425</td>\n",
       "    </tr>\n",
       "    <tr>\n",
       "      <th>High Efficiency Whole Home Electrification</th>\n",
       "      <td>1549</td>\n",
       "      <td>72212.767658</td>\n",
       "      <td>56.795836</td>\n",
       "      <td>50.8775</td>\n",
       "      <td>64.3225</td>\n",
       "    </tr>\n",
       "    <tr>\n",
       "      <th>Mininum Efficiency Whole Home Electrification</th>\n",
       "      <td>1257</td>\n",
       "      <td>58600.031599</td>\n",
       "      <td>39.108504</td>\n",
       "      <td>29.8225</td>\n",
       "      <td>50.9700</td>\n",
       "    </tr>\n",
       "    <tr>\n",
       "      <th>High Efficiency Heat Pump with Electric Heat Backup</th>\n",
       "      <td>1549</td>\n",
       "      <td>72212.767658</td>\n",
       "      <td>36.892279</td>\n",
       "      <td>26.4675</td>\n",
       "      <td>48.8100</td>\n",
       "    </tr>\n",
       "    <tr>\n",
       "      <th>Mininum Efficiency Heat Pump with Electric Heat Backup</th>\n",
       "      <td>1549</td>\n",
       "      <td>72212.767658</td>\n",
       "      <td>24.460045</td>\n",
       "      <td>15.3675</td>\n",
       "      <td>35.1225</td>\n",
       "    </tr>\n",
       "    <tr>\n",
       "      <th>Enhanced Enclosure</th>\n",
       "      <td>1511</td>\n",
       "      <td>70441.247212</td>\n",
       "      <td>19.720371</td>\n",
       "      <td>12.5500</td>\n",
       "      <td>26.1400</td>\n",
       "    </tr>\n",
       "    <tr>\n",
       "      <th>Mininum Efficiency Heat Pump with Existing Heat Backup</th>\n",
       "      <td>1514</td>\n",
       "      <td>70581.104089</td>\n",
       "      <td>17.975964</td>\n",
       "      <td>3.0700</td>\n",
       "      <td>30.8800</td>\n",
       "    </tr>\n",
       "    <tr>\n",
       "      <th>Basic Enclosure</th>\n",
       "      <td>1490</td>\n",
       "      <td>69462.249071</td>\n",
       "      <td>17.595389</td>\n",
       "      <td>11.5100</td>\n",
       "      <td>23.8400</td>\n",
       "    </tr>\n",
       "    <tr>\n",
       "      <th>Heat Pump Water Heater</th>\n",
       "      <td>1536</td>\n",
       "      <td>71606.721190</td>\n",
       "      <td>12.197214</td>\n",
       "      <td>5.6900</td>\n",
       "      <td>16.9050</td>\n",
       "    </tr>\n",
       "    <tr>\n",
       "      <th>Electric Cooking</th>\n",
       "      <td>803</td>\n",
       "      <td>37435.024164</td>\n",
       "      <td>2.365205</td>\n",
       "      <td>1.5625</td>\n",
       "      <td>3.1775</td>\n",
       "    </tr>\n",
       "    <tr>\n",
       "      <th>Induction Cooking</th>\n",
       "      <td>1514</td>\n",
       "      <td>70581.104089</td>\n",
       "      <td>1.514234</td>\n",
       "      <td>0.2100</td>\n",
       "      <td>2.6100</td>\n",
       "    </tr>\n",
       "    <tr>\n",
       "      <th>Heat Pump Clothes Dryer</th>\n",
       "      <td>604</td>\n",
       "      <td>28157.851301</td>\n",
       "      <td>1.479553</td>\n",
       "      <td>0.8400</td>\n",
       "      <td>1.9150</td>\n",
       "    </tr>\n",
       "    <tr>\n",
       "      <th>Electric Clothes Dryer</th>\n",
       "      <td>180</td>\n",
       "      <td>8391.412639</td>\n",
       "      <td>0.689667</td>\n",
       "      <td>0.4100</td>\n",
       "      <td>0.9050</td>\n",
       "    </tr>\n",
       "    <tr>\n",
       "      <th>baseline</th>\n",
       "      <td>1549</td>\n",
       "      <td>72212.767658</td>\n",
       "      <td>0.000000</td>\n",
       "      <td>NaN</td>\n",
       "      <td>NaN</td>\n",
       "    </tr>\n",
       "  </tbody>\n",
       "</table>\n",
       "</div>"
      ],
      "text/plain": [
       "                                                    n_samples  n_represented  \\\n",
       "upgrade_name                                                                   \n",
       "Enhanced Enclosure + High Efficiency Whole Home...       1549   72212.767658   \n",
       "Basic Enclosure + High Efficiency Whole Home El...       1549   72212.767658   \n",
       "Enhanced Enclosure + HPWH + High Efficiency HP/...       1549   72212.767658   \n",
       "Basic Enclosure + HPWH + High Efficiency HP/Ele...       1549   72212.767658   \n",
       "High Efficiency Whole Home Electrification               1549   72212.767658   \n",
       "Mininum Efficiency Whole Home Electrification            1257   58600.031599   \n",
       "High Efficiency Heat Pump with Electric Heat Ba...       1549   72212.767658   \n",
       "Mininum Efficiency Heat Pump with Electric Heat...       1549   72212.767658   \n",
       "Enhanced Enclosure                                       1511   70441.247212   \n",
       "Mininum Efficiency Heat Pump with Existing Heat...       1514   70581.104089   \n",
       "Basic Enclosure                                          1490   69462.249071   \n",
       "Heat Pump Water Heater                                   1536   71606.721190   \n",
       "Electric Cooking                                          803   37435.024164   \n",
       "Induction Cooking                                        1514   70581.104089   \n",
       "Heat Pump Clothes Dryer                                   604   28157.851301   \n",
       "Electric Clothes Dryer                                    180    8391.412639   \n",
       "baseline                                                 1549   72212.767658   \n",
       "\n",
       "                                                    pct_saving_energy.total_% wt_mean  \\\n",
       "upgrade_name                                                                            \n",
       "Enhanced Enclosure + High Efficiency Whole Home...                          62.163079   \n",
       "Basic Enclosure + High Efficiency Whole Home El...                          61.560310   \n",
       "Enhanced Enclosure + HPWH + High Efficiency HP/...                          60.106320   \n",
       "Basic Enclosure + HPWH + High Efficiency HP/Ele...                          59.503615   \n",
       "High Efficiency Whole Home Electrification                                  56.795836   \n",
       "Mininum Efficiency Whole Home Electrification                               39.108504   \n",
       "High Efficiency Heat Pump with Electric Heat Ba...                          36.892279   \n",
       "Mininum Efficiency Heat Pump with Electric Heat...                          24.460045   \n",
       "Enhanced Enclosure                                                          19.720371   \n",
       "Mininum Efficiency Heat Pump with Existing Heat...                          17.975964   \n",
       "Basic Enclosure                                                             17.595389   \n",
       "Heat Pump Water Heater                                                      12.197214   \n",
       "Electric Cooking                                                             2.365205   \n",
       "Induction Cooking                                                            1.514234   \n",
       "Heat Pump Clothes Dryer                                                      1.479553   \n",
       "Electric Clothes Dryer                                                       0.689667   \n",
       "baseline                                                                     0.000000   \n",
       "\n",
       "                                                    pct_saving_energy.total_% wt_p0.25  \\\n",
       "upgrade_name                                                                             \n",
       "Enhanced Enclosure + High Efficiency Whole Home...                             55.2950   \n",
       "Basic Enclosure + High Efficiency Whole Home El...                             54.9850   \n",
       "Enhanced Enclosure + HPWH + High Efficiency HP/...                             52.6625   \n",
       "Basic Enclosure + HPWH + High Efficiency HP/Ele...                             52.1000   \n",
       "High Efficiency Whole Home Electrification                                     50.8775   \n",
       "Mininum Efficiency Whole Home Electrification                                  29.8225   \n",
       "High Efficiency Heat Pump with Electric Heat Ba...                             26.4675   \n",
       "Mininum Efficiency Heat Pump with Electric Heat...                             15.3675   \n",
       "Enhanced Enclosure                                                             12.5500   \n",
       "Mininum Efficiency Heat Pump with Existing Heat...                              3.0700   \n",
       "Basic Enclosure                                                                11.5100   \n",
       "Heat Pump Water Heater                                                          5.6900   \n",
       "Electric Cooking                                                                1.5625   \n",
       "Induction Cooking                                                               0.2100   \n",
       "Heat Pump Clothes Dryer                                                         0.8400   \n",
       "Electric Clothes Dryer                                                          0.4100   \n",
       "baseline                                                                           NaN   \n",
       "\n",
       "                                                    pct_saving_energy.total_% wt_p0.75  \n",
       "upgrade_name                                                                            \n",
       "Enhanced Enclosure + High Efficiency Whole Home...                             70.9825  \n",
       "Basic Enclosure + High Efficiency Whole Home El...                             70.0950  \n",
       "Enhanced Enclosure + HPWH + High Efficiency HP/...                             69.2900  \n",
       "Basic Enclosure + HPWH + High Efficiency HP/Ele...                             68.3425  \n",
       "High Efficiency Whole Home Electrification                                     64.3225  \n",
       "Mininum Efficiency Whole Home Electrification                                  50.9700  \n",
       "High Efficiency Heat Pump with Electric Heat Ba...                             48.8100  \n",
       "Mininum Efficiency Heat Pump with Electric Heat...                             35.1225  \n",
       "Enhanced Enclosure                                                             26.1400  \n",
       "Mininum Efficiency Heat Pump with Existing Heat...                             30.8800  \n",
       "Basic Enclosure                                                                23.8400  \n",
       "Heat Pump Water Heater                                                         16.9050  \n",
       "Electric Cooking                                                                3.1775  \n",
       "Induction Cooking                                                               2.6100  \n",
       "Heat Pump Clothes Dryer                                                         1.9150  \n",
       "Electric Clothes Dryer                                                          0.9050  \n",
       "baseline                                                                           NaN  "
      ]
     },
     "metadata": {},
     "output_type": "display_data"
    },
    {
     "name": "stdout",
     "output_type": "stream",
     "text": [
      "Summary for segment: segment4: \n"
     ]
    },
    {
     "data": {
      "text/html": [
       "<div>\n",
       "<style scoped>\n",
       "    .dataframe tbody tr th:only-of-type {\n",
       "        vertical-align: middle;\n",
       "    }\n",
       "\n",
       "    .dataframe tbody tr th {\n",
       "        vertical-align: top;\n",
       "    }\n",
       "\n",
       "    .dataframe thead th {\n",
       "        text-align: right;\n",
       "    }\n",
       "</style>\n",
       "<table border=\"1\" class=\"dataframe\">\n",
       "  <thead>\n",
       "    <tr style=\"text-align: right;\">\n",
       "      <th></th>\n",
       "      <th>n_samples</th>\n",
       "      <th>n_represented</th>\n",
       "      <th>pct_saving_energy.total_% wt_mean</th>\n",
       "      <th>pct_saving_energy.total_% wt_p0.25</th>\n",
       "      <th>pct_saving_energy.total_% wt_p0.75</th>\n",
       "    </tr>\n",
       "    <tr>\n",
       "      <th>upgrade_name</th>\n",
       "      <th></th>\n",
       "      <th></th>\n",
       "      <th></th>\n",
       "      <th></th>\n",
       "      <th></th>\n",
       "    </tr>\n",
       "  </thead>\n",
       "  <tbody>\n",
       "    <tr>\n",
       "      <th>Enhanced Enclosure + High Efficiency Whole Home Electrification</th>\n",
       "      <td>2142</td>\n",
       "      <td>99857.810409</td>\n",
       "      <td>64.357087</td>\n",
       "      <td>58.1600</td>\n",
       "      <td>73.1900</td>\n",
       "    </tr>\n",
       "    <tr>\n",
       "      <th>Basic Enclosure + High Efficiency Whole Home Electrification</th>\n",
       "      <td>2142</td>\n",
       "      <td>99857.810409</td>\n",
       "      <td>63.826793</td>\n",
       "      <td>57.5700</td>\n",
       "      <td>72.4300</td>\n",
       "    </tr>\n",
       "    <tr>\n",
       "      <th>Enhanced Enclosure + HPWH + High Efficiency HP/Electric Backup</th>\n",
       "      <td>2142</td>\n",
       "      <td>99857.810409</td>\n",
       "      <td>62.355327</td>\n",
       "      <td>55.0300</td>\n",
       "      <td>71.6700</td>\n",
       "    </tr>\n",
       "    <tr>\n",
       "      <th>Basic Enclosure + HPWH + High Efficiency HP/Electric Backup</th>\n",
       "      <td>2142</td>\n",
       "      <td>99857.810409</td>\n",
       "      <td>61.825079</td>\n",
       "      <td>54.6200</td>\n",
       "      <td>71.0000</td>\n",
       "    </tr>\n",
       "    <tr>\n",
       "      <th>High Efficiency Whole Home Electrification</th>\n",
       "      <td>2142</td>\n",
       "      <td>99857.810409</td>\n",
       "      <td>58.460976</td>\n",
       "      <td>52.7500</td>\n",
       "      <td>65.8200</td>\n",
       "    </tr>\n",
       "    <tr>\n",
       "      <th>Mininum Efficiency Whole Home Electrification</th>\n",
       "      <td>1831</td>\n",
       "      <td>85359.314126</td>\n",
       "      <td>41.910442</td>\n",
       "      <td>36.2350</td>\n",
       "      <td>53.2275</td>\n",
       "    </tr>\n",
       "    <tr>\n",
       "      <th>High Efficiency Heat Pump with Electric Heat Backup</th>\n",
       "      <td>2142</td>\n",
       "      <td>99857.810409</td>\n",
       "      <td>40.160196</td>\n",
       "      <td>30.6000</td>\n",
       "      <td>52.4200</td>\n",
       "    </tr>\n",
       "    <tr>\n",
       "      <th>Mininum Efficiency Heat Pump with Electric Heat Backup</th>\n",
       "      <td>2142</td>\n",
       "      <td>99857.810409</td>\n",
       "      <td>27.503870</td>\n",
       "      <td>18.3000</td>\n",
       "      <td>38.1900</td>\n",
       "    </tr>\n",
       "    <tr>\n",
       "      <th>Enhanced Enclosure</th>\n",
       "      <td>2104</td>\n",
       "      <td>98086.289963</td>\n",
       "      <td>22.545813</td>\n",
       "      <td>15.2850</td>\n",
       "      <td>29.8700</td>\n",
       "    </tr>\n",
       "    <tr>\n",
       "      <th>Basic Enclosure</th>\n",
       "      <td>2083</td>\n",
       "      <td>97107.291822</td>\n",
       "      <td>20.005204</td>\n",
       "      <td>13.6725</td>\n",
       "      <td>26.4575</td>\n",
       "    </tr>\n",
       "    <tr>\n",
       "      <th>Mininum Efficiency Heat Pump with Existing Heat Backup</th>\n",
       "      <td>2100</td>\n",
       "      <td>97899.814126</td>\n",
       "      <td>19.021157</td>\n",
       "      <td>2.8350</td>\n",
       "      <td>33.5100</td>\n",
       "    </tr>\n",
       "    <tr>\n",
       "      <th>Heat Pump Water Heater</th>\n",
       "      <td>2127</td>\n",
       "      <td>99158.526022</td>\n",
       "      <td>11.143122</td>\n",
       "      <td>5.1725</td>\n",
       "      <td>15.2100</td>\n",
       "    </tr>\n",
       "    <tr>\n",
       "      <th>Electric Cooking</th>\n",
       "      <td>1197</td>\n",
       "      <td>55802.894052</td>\n",
       "      <td>2.034386</td>\n",
       "      <td>1.2000</td>\n",
       "      <td>2.7300</td>\n",
       "    </tr>\n",
       "    <tr>\n",
       "      <th>Induction Cooking</th>\n",
       "      <td>2098</td>\n",
       "      <td>97806.576208</td>\n",
       "      <td>1.379900</td>\n",
       "      <td>0.1900</td>\n",
       "      <td>2.3100</td>\n",
       "    </tr>\n",
       "    <tr>\n",
       "      <th>Heat Pump Clothes Dryer</th>\n",
       "      <td>1144</td>\n",
       "      <td>53332.089219</td>\n",
       "      <td>1.217622</td>\n",
       "      <td>0.5750</td>\n",
       "      <td>1.6300</td>\n",
       "    </tr>\n",
       "    <tr>\n",
       "      <th>Electric Clothes Dryer</th>\n",
       "      <td>385</td>\n",
       "      <td>17948.299257</td>\n",
       "      <td>0.543584</td>\n",
       "      <td>0.2575</td>\n",
       "      <td>0.7225</td>\n",
       "    </tr>\n",
       "    <tr>\n",
       "      <th>baseline</th>\n",
       "      <td>2142</td>\n",
       "      <td>99857.810409</td>\n",
       "      <td>0.000000</td>\n",
       "      <td>NaN</td>\n",
       "      <td>NaN</td>\n",
       "    </tr>\n",
       "  </tbody>\n",
       "</table>\n",
       "</div>"
      ],
      "text/plain": [
       "                                                    n_samples  n_represented  \\\n",
       "upgrade_name                                                                   \n",
       "Enhanced Enclosure + High Efficiency Whole Home...       2142   99857.810409   \n",
       "Basic Enclosure + High Efficiency Whole Home El...       2142   99857.810409   \n",
       "Enhanced Enclosure + HPWH + High Efficiency HP/...       2142   99857.810409   \n",
       "Basic Enclosure + HPWH + High Efficiency HP/Ele...       2142   99857.810409   \n",
       "High Efficiency Whole Home Electrification               2142   99857.810409   \n",
       "Mininum Efficiency Whole Home Electrification            1831   85359.314126   \n",
       "High Efficiency Heat Pump with Electric Heat Ba...       2142   99857.810409   \n",
       "Mininum Efficiency Heat Pump with Electric Heat...       2142   99857.810409   \n",
       "Enhanced Enclosure                                       2104   98086.289963   \n",
       "Basic Enclosure                                          2083   97107.291822   \n",
       "Mininum Efficiency Heat Pump with Existing Heat...       2100   97899.814126   \n",
       "Heat Pump Water Heater                                   2127   99158.526022   \n",
       "Electric Cooking                                         1197   55802.894052   \n",
       "Induction Cooking                                        2098   97806.576208   \n",
       "Heat Pump Clothes Dryer                                  1144   53332.089219   \n",
       "Electric Clothes Dryer                                    385   17948.299257   \n",
       "baseline                                                 2142   99857.810409   \n",
       "\n",
       "                                                    pct_saving_energy.total_% wt_mean  \\\n",
       "upgrade_name                                                                            \n",
       "Enhanced Enclosure + High Efficiency Whole Home...                          64.357087   \n",
       "Basic Enclosure + High Efficiency Whole Home El...                          63.826793   \n",
       "Enhanced Enclosure + HPWH + High Efficiency HP/...                          62.355327   \n",
       "Basic Enclosure + HPWH + High Efficiency HP/Ele...                          61.825079   \n",
       "High Efficiency Whole Home Electrification                                  58.460976   \n",
       "Mininum Efficiency Whole Home Electrification                               41.910442   \n",
       "High Efficiency Heat Pump with Electric Heat Ba...                          40.160196   \n",
       "Mininum Efficiency Heat Pump with Electric Heat...                          27.503870   \n",
       "Enhanced Enclosure                                                          22.545813   \n",
       "Basic Enclosure                                                             20.005204   \n",
       "Mininum Efficiency Heat Pump with Existing Heat...                          19.021157   \n",
       "Heat Pump Water Heater                                                      11.143122   \n",
       "Electric Cooking                                                             2.034386   \n",
       "Induction Cooking                                                            1.379900   \n",
       "Heat Pump Clothes Dryer                                                      1.217622   \n",
       "Electric Clothes Dryer                                                       0.543584   \n",
       "baseline                                                                     0.000000   \n",
       "\n",
       "                                                    pct_saving_energy.total_% wt_p0.25  \\\n",
       "upgrade_name                                                                             \n",
       "Enhanced Enclosure + High Efficiency Whole Home...                             58.1600   \n",
       "Basic Enclosure + High Efficiency Whole Home El...                             57.5700   \n",
       "Enhanced Enclosure + HPWH + High Efficiency HP/...                             55.0300   \n",
       "Basic Enclosure + HPWH + High Efficiency HP/Ele...                             54.6200   \n",
       "High Efficiency Whole Home Electrification                                     52.7500   \n",
       "Mininum Efficiency Whole Home Electrification                                  36.2350   \n",
       "High Efficiency Heat Pump with Electric Heat Ba...                             30.6000   \n",
       "Mininum Efficiency Heat Pump with Electric Heat...                             18.3000   \n",
       "Enhanced Enclosure                                                             15.2850   \n",
       "Basic Enclosure                                                                13.6725   \n",
       "Mininum Efficiency Heat Pump with Existing Heat...                              2.8350   \n",
       "Heat Pump Water Heater                                                          5.1725   \n",
       "Electric Cooking                                                                1.2000   \n",
       "Induction Cooking                                                               0.1900   \n",
       "Heat Pump Clothes Dryer                                                         0.5750   \n",
       "Electric Clothes Dryer                                                          0.2575   \n",
       "baseline                                                                           NaN   \n",
       "\n",
       "                                                    pct_saving_energy.total_% wt_p0.75  \n",
       "upgrade_name                                                                            \n",
       "Enhanced Enclosure + High Efficiency Whole Home...                             73.1900  \n",
       "Basic Enclosure + High Efficiency Whole Home El...                             72.4300  \n",
       "Enhanced Enclosure + HPWH + High Efficiency HP/...                             71.6700  \n",
       "Basic Enclosure + HPWH + High Efficiency HP/Ele...                             71.0000  \n",
       "High Efficiency Whole Home Electrification                                     65.8200  \n",
       "Mininum Efficiency Whole Home Electrification                                  53.2275  \n",
       "High Efficiency Heat Pump with Electric Heat Ba...                             52.4200  \n",
       "Mininum Efficiency Heat Pump with Electric Heat...                             38.1900  \n",
       "Enhanced Enclosure                                                             29.8700  \n",
       "Basic Enclosure                                                                26.4575  \n",
       "Mininum Efficiency Heat Pump with Existing Heat...                             33.5100  \n",
       "Heat Pump Water Heater                                                         15.2100  \n",
       "Electric Cooking                                                                2.7300  \n",
       "Induction Cooking                                                               2.3100  \n",
       "Heat Pump Clothes Dryer                                                         1.6300  \n",
       "Electric Clothes Dryer                                                          0.7225  \n",
       "baseline                                                                           NaN  "
      ]
     },
     "metadata": {},
     "output_type": "display_data"
    }
   ],
   "source": [
    "metric = 'pct_saving_energy.total_%'  # TODO 'pct_saving_cbill.total_%' #'pct_saving_energy.total_%' #'saving_energy.total_mmbtu' #'saving_cbill.total_usd'\n",
    "\n",
    "for segment in sorted(community_results[\"segment\"].dropna().unique()):\n",
    "    print(f\"Summary for segment: {segment}: \")\n",
    "    df_seg = community_results.loc[community_results[\"segment\"]==segment]\n",
    "    display(get_summary(df_seg, metric, lower_percentile=0.25, upper_percentile=0.75))"
   ]
  },
  {
   "cell_type": "markdown",
   "id": "13fe6b47",
   "metadata": {},
   "source": [
    "## 2.1 Upgrade Cost Per Dwelling Unit "
   ]
  },
  {
   "cell_type": "code",
   "execution_count": 42,
   "id": "585a1a25",
   "metadata": {},
   "outputs": [
    {
     "name": "stdout",
     "output_type": "stream",
     "text": [
      "segment1: upgrade cost (usd) per dwelling unit\n"
     ]
    },
    {
     "data": {
      "text/plain": [
       "upgrade_name\n",
       "Electric Cooking                                                    1161.8\n",
       "Electric Clothes Dryer                                              1304.7\n",
       "Induction Cooking                                                   1997.8\n",
       "Heat Pump Clothes Dryer                                             2625.4\n",
       "Heat Pump Water Heater                                              3195.5\n",
       "Basic Enclosure                                                     7206.9\n",
       "Enhanced Enclosure                                                  9124.7\n",
       "Mininum Efficiency Heat Pump with Existing Heat Backup             22682.9\n",
       "Mininum Efficiency Heat Pump with Electric Heat Backup             22805.0\n",
       "Mininum Efficiency Whole Home Electrification                      26571.8\n",
       "High Efficiency Heat Pump with Electric Heat Backup                29144.5\n",
       "Basic Enclosure + HPWH + High Efficiency HP/Electric Backup        34719.0\n",
       "Enhanced Enclosure + HPWH + High Efficiency HP/Electric Backup     35191.1\n",
       "High Efficiency Whole Home Electrification                         36756.7\n",
       "Basic Enclosure + High Efficiency Whole Home Electrification       39135.6\n",
       "Enhanced Enclosure + High Efficiency Whole Home Electrification    39607.8\n",
       "Name: upgrade_cost_usd, dtype: float64"
      ]
     },
     "metadata": {},
     "output_type": "display_data"
    },
    {
     "name": "stdout",
     "output_type": "stream",
     "text": [
      "segment2: upgrade cost (usd) per dwelling unit\n"
     ]
    },
    {
     "data": {
      "text/plain": [
       "upgrade_name\n",
       "Electric Cooking                                                    1161.8\n",
       "Electric Clothes Dryer                                              1304.7\n",
       "Induction Cooking                                                   1997.8\n",
       "Heat Pump Clothes Dryer                                             2625.4\n",
       "Heat Pump Water Heater                                              3048.2\n",
       "Basic Enclosure                                                     4064.7\n",
       "Enhanced Enclosure                                                  4941.6\n",
       "Mininum Efficiency Heat Pump with Existing Heat Backup             18907.6\n",
       "Mininum Efficiency Heat Pump with Electric Heat Backup             18949.5\n",
       "Mininum Efficiency Whole Home Electrification                      22019.2\n",
       "High Efficiency Heat Pump with Electric Heat Backup                24276.1\n",
       "Basic Enclosure + HPWH + High Efficiency HP/Electric Backup        27769.3\n",
       "Enhanced Enclosure + HPWH + High Efficiency HP/Electric Backup     27945.4\n",
       "High Efficiency Whole Home Electrification                         31625.9\n",
       "Basic Enclosure + High Efficiency Whole Home Electrification       32088.1\n",
       "Enhanced Enclosure + High Efficiency Whole Home Electrification    32264.2\n",
       "Name: upgrade_cost_usd, dtype: float64"
      ]
     },
     "metadata": {},
     "output_type": "display_data"
    },
    {
     "name": "stdout",
     "output_type": "stream",
     "text": [
      "segment3: upgrade cost (usd) per dwelling unit\n"
     ]
    },
    {
     "data": {
      "text/plain": [
       "upgrade_name\n",
       "Electric Cooking                                                    1161.8\n",
       "Electric Clothes Dryer                                              1304.7\n",
       "Basic Enclosure                                                     1789.7\n",
       "Induction Cooking                                                   1997.8\n",
       "Enhanced Enclosure                                                  2430.9\n",
       "Heat Pump Clothes Dryer                                             2625.4\n",
       "Heat Pump Water Heater                                              3006.2\n",
       "Mininum Efficiency Heat Pump with Existing Heat Backup             12963.9\n",
       "Mininum Efficiency Whole Home Electrification                      12981.8\n",
       "Mininum Efficiency Heat Pump with Electric Heat Backup             13000.2\n",
       "High Efficiency Heat Pump with Electric Heat Backup                19999.3\n",
       "Basic Enclosure + HPWH + High Efficiency HP/Electric Backup        23046.4\n",
       "Enhanced Enclosure + HPWH + High Efficiency HP/Electric Backup     23460.7\n",
       "High Efficiency Whole Home Electrification                         25956.7\n",
       "Basic Enclosure + High Efficiency Whole Home Electrification       26022.8\n",
       "Enhanced Enclosure + High Efficiency Whole Home Electrification    26437.0\n",
       "Name: upgrade_cost_usd, dtype: float64"
      ]
     },
     "metadata": {},
     "output_type": "display_data"
    },
    {
     "name": "stdout",
     "output_type": "stream",
     "text": [
      "segment4: upgrade cost (usd) per dwelling unit\n"
     ]
    },
    {
     "data": {
      "text/plain": [
       "upgrade_name\n",
       "Electric Cooking                                                    1161.8\n",
       "Electric Clothes Dryer                                              1304.7\n",
       "Induction Cooking                                                   1997.8\n",
       "Heat Pump Clothes Dryer                                             2625.4\n",
       "Basic Enclosure                                                     2797.9\n",
       "Heat Pump Water Heater                                              3034.4\n",
       "Enhanced Enclosure                                                  3613.7\n",
       "Mininum Efficiency Heat Pump with Existing Heat Backup             15041.3\n",
       "Mininum Efficiency Heat Pump with Electric Heat Backup             15077.4\n",
       "Mininum Efficiency Whole Home Electrification                      16406.7\n",
       "High Efficiency Heat Pump with Electric Heat Backup                21726.5\n",
       "Basic Enclosure + HPWH + High Efficiency HP/Electric Backup        25129.3\n",
       "Enhanced Enclosure + HPWH + High Efficiency HP/Electric Backup     25510.7\n",
       "High Efficiency Whole Home Electrification                         28098.7\n",
       "Basic Enclosure + High Efficiency Whole Home Electrification       28488.3\n",
       "Enhanced Enclosure + High Efficiency Whole Home Electrification    28869.6\n",
       "Name: upgrade_cost_usd, dtype: float64"
      ]
     },
     "metadata": {},
     "output_type": "display_data"
    }
   ],
   "source": [
    "results = segment_mean_upgrade_cost(community_results) \n",
    "saving_results[f'segment1_{income}_upgrade_cost_mean_usd'] = results[0]\n",
    "saving_results[f'segment2_{income}_upgrade_cost_mean_usd'] = results[1]\n",
    "saving_results[f'segment3_{income}_upgrade_cost_mean_usd'] = results[2]\n",
    "saving_results[f'segment4_{income}_upgrade_cost_mean_usd'] = results[3]"
   ]
  },
  {
   "cell_type": "markdown",
   "id": "660e0aa3",
   "metadata": {},
   "source": [
    " ## 2.2 Annual Savings Per Dollar Invested"
   ]
  },
  {
   "cell_type": "markdown",
   "id": "9492f6e1",
   "metadata": {},
   "source": [
    " ### Annual Bill Savings Per Dollar Invested"
   ]
  },
  {
   "cell_type": "code",
   "execution_count": 43,
   "id": "6e31ced4",
   "metadata": {},
   "outputs": [
    {
     "name": "stdout",
     "output_type": "stream",
     "text": [
      "segment1\n"
     ]
    },
    {
     "data": {
      "text/plain": [
       "upgrade_name\n",
       "Basic Enclosure                                                    0.05984\n",
       "Enhanced Enclosure                                                 0.05466\n",
       "Enhanced Enclosure + HPWH + High Efficiency HP/Electric Backup     0.01108\n",
       "Basic Enclosure + HPWH + High Efficiency HP/Electric Backup        0.01038\n",
       "Enhanced Enclosure + High Efficiency Whole Home Electrification    0.00985\n",
       "Basic Enclosure + High Efficiency Whole Home Electrification       0.00922\n",
       "Heat Pump Clothes Dryer                                            0.00611\n",
       "Heat Pump Water Heater                                             0.00401\n",
       "High Efficiency Whole Home Electrification                        -0.00596\n",
       "Induction Cooking                                                 -0.00948\n",
       "High Efficiency Heat Pump with Electric Heat Backup               -0.01062\n",
       "Mininum Efficiency Heat Pump with Existing Heat Backup            -0.01322\n",
       "Electric Cooking                                                  -0.03513\n",
       "Electric Clothes Dryer                                            -0.04938\n",
       "Mininum Efficiency Whole Home Electrification                     -0.04968\n",
       "Mininum Efficiency Heat Pump with Electric Heat Backup            -0.05721\n",
       "Name: saving_cbill.total_usd, dtype: float64"
      ]
     },
     "metadata": {},
     "output_type": "display_data"
    },
    {
     "name": "stdout",
     "output_type": "stream",
     "text": [
      "segment2\n"
     ]
    },
    {
     "data": {
      "text/plain": [
       "upgrade_name\n",
       "Basic Enclosure                                                    0.08015\n",
       "Enhanced Enclosure                                                 0.07501\n",
       "Enhanced Enclosure + HPWH + High Efficiency HP/Electric Backup     0.01510\n",
       "Basic Enclosure + HPWH + High Efficiency HP/Electric Backup        0.01451\n",
       "Enhanced Enclosure + High Efficiency Whole Home Electrification    0.01312\n",
       "Basic Enclosure + High Efficiency Whole Home Electrification       0.01259\n",
       "Heat Pump Clothes Dryer                                            0.00801\n",
       "Heat Pump Water Heater                                             0.00400\n",
       "High Efficiency Whole Home Electrification                         0.00228\n",
       "High Efficiency Heat Pump with Electric Heat Backup               -0.00095\n",
       "Mininum Efficiency Heat Pump with Existing Heat Backup            -0.00888\n",
       "Induction Cooking                                                 -0.01091\n",
       "Electric Cooking                                                  -0.03365\n",
       "Mininum Efficiency Heat Pump with Electric Heat Backup            -0.03478\n",
       "Mininum Efficiency Whole Home Electrification                     -0.03512\n",
       "Electric Clothes Dryer                                            -0.04472\n",
       "Name: saving_cbill.total_usd, dtype: float64"
      ]
     },
     "metadata": {},
     "output_type": "display_data"
    },
    {
     "name": "stdout",
     "output_type": "stream",
     "text": [
      "segment3\n"
     ]
    },
    {
     "data": {
      "text/plain": [
       "upgrade_name\n",
       "Basic Enclosure                                                    0.12725\n",
       "Enhanced Enclosure                                                 0.10620\n",
       "Enhanced Enclosure + HPWH + High Efficiency HP/Electric Backup     0.02240\n",
       "Basic Enclosure + HPWH + High Efficiency HP/Electric Backup        0.02186\n",
       "Enhanced Enclosure + High Efficiency Whole Home Electrification    0.01976\n",
       "Basic Enclosure + High Efficiency Whole Home Electrification       0.01924\n",
       "High Efficiency Whole Home Electrification                         0.01305\n",
       "High Efficiency Heat Pump with Electric Heat Backup                0.01246\n",
       "Heat Pump Water Heater                                             0.01146\n",
       "Heat Pump Clothes Dryer                                            0.00846\n",
       "Mininum Efficiency Heat Pump with Existing Heat Backup             0.00532\n",
       "Induction Cooking                                                 -0.00733\n",
       "Mininum Efficiency Heat Pump with Electric Heat Backup            -0.00960\n",
       "Mininum Efficiency Whole Home Electrification                     -0.03210\n",
       "Electric Cooking                                                  -0.03456\n",
       "Electric Clothes Dryer                                            -0.04414\n",
       "Name: saving_cbill.total_usd, dtype: float64"
      ]
     },
     "metadata": {},
     "output_type": "display_data"
    },
    {
     "name": "stdout",
     "output_type": "stream",
     "text": [
      "segment4\n"
     ]
    },
    {
     "data": {
      "text/plain": [
       "upgrade_name\n",
       "Basic Enclosure                                                    0.09570\n",
       "Enhanced Enclosure                                                 0.08424\n",
       "Enhanced Enclosure + HPWH + High Efficiency HP/Electric Backup     0.01933\n",
       "Basic Enclosure + HPWH + High Efficiency HP/Electric Backup        0.01875\n",
       "Enhanced Enclosure + High Efficiency Whole Home Electrification    0.01701\n",
       "Basic Enclosure + High Efficiency Whole Home Electrification       0.01647\n",
       "Heat Pump Water Heater                                             0.00934\n",
       "High Efficiency Whole Home Electrification                         0.00827\n",
       "Heat Pump Clothes Dryer                                            0.00788\n",
       "High Efficiency Heat Pump with Electric Heat Backup                0.00653\n",
       "Mininum Efficiency Heat Pump with Existing Heat Backup            -0.00078\n",
       "Induction Cooking                                                 -0.00817\n",
       "Mininum Efficiency Heat Pump with Electric Heat Backup            -0.02287\n",
       "Electric Cooking                                                  -0.03444\n",
       "Mininum Efficiency Whole Home Electrification                     -0.03654\n",
       "Electric Clothes Dryer                                            -0.04565\n",
       "Name: saving_cbill.total_usd, dtype: float64"
      ]
     },
     "metadata": {},
     "output_type": "display_data"
    }
   ],
   "source": [
    "indicator ='saving_cbill.total_usd'\n",
    "results = segment_savings_per_dollar(indicator, community_results) \n",
    "saving_results[f'segment1_{income}_saving_bill_per_dollar_invested_usd'] = results[0]\n",
    "saving_results[f'segment2_{income}_saving_bill_per_dollar_invested_usd'] = results[1]\n",
    "saving_results[f'segment3_{income}_saving_bill_per_dollar_invested_usd'] = results[2]\n",
    "saving_results[f'segment4_{income}_saving_bill_per_dollar_invested_usd'] = results[3]"
   ]
  },
  {
   "cell_type": "markdown",
   "id": "4be95afb",
   "metadata": {},
   "source": [
    " ### Annual Energy Savings Per Dollar Invested"
   ]
  },
  {
   "cell_type": "code",
   "execution_count": 44,
   "id": "d03da729",
   "metadata": {},
   "outputs": [
    {
     "name": "stdout",
     "output_type": "stream",
     "text": [
      "segment1\n"
     ]
    },
    {
     "data": {
      "text/plain": [
       "upgrade_name\n",
       "Basic Enclosure                                                    0.00519\n",
       "Enhanced Enclosure                                                 0.00467\n",
       "Basic Enclosure + HPWH + High Efficiency HP/Electric Backup        0.00270\n",
       "Heat Pump Water Heater                                             0.00269\n",
       "Enhanced Enclosure + HPWH + High Efficiency HP/Electric Backup     0.00268\n",
       "Mininum Efficiency Whole Home Electrification                      0.00246\n",
       "Basic Enclosure + High Efficiency Whole Home Electrification       0.00244\n",
       "Enhanced Enclosure + High Efficiency Whole Home Electrification    0.00243\n",
       "High Efficiency Heat Pump with Electric Heat Backup                0.00242\n",
       "High Efficiency Whole Home Electrification                         0.00231\n",
       "Mininum Efficiency Heat Pump with Electric Heat Backup             0.00229\n",
       "Mininum Efficiency Heat Pump with Existing Heat Backup             0.00137\n",
       "Electric Cooking                                                   0.00118\n",
       "Induction Cooking                                                  0.00048\n",
       "Heat Pump Clothes Dryer                                            0.00039\n",
       "Electric Clothes Dryer                                             0.00035\n",
       "Name: saving_energy.total_mmbtu, dtype: float64"
      ]
     },
     "metadata": {},
     "output_type": "display_data"
    },
    {
     "name": "stdout",
     "output_type": "stream",
     "text": [
      "segment2\n"
     ]
    },
    {
     "data": {
      "text/plain": [
       "upgrade_name\n",
       "Basic Enclosure                                                    0.00594\n",
       "Enhanced Enclosure                                                 0.00552\n",
       "Heat Pump Water Heater                                             0.00241\n",
       "Basic Enclosure + HPWH + High Efficiency HP/Electric Backup        0.00231\n",
       "Enhanced Enclosure + HPWH + High Efficiency HP/Electric Backup     0.00231\n",
       "Mininum Efficiency Whole Home Electrification                      0.00216\n",
       "Basic Enclosure + High Efficiency Whole Home Electrification       0.00206\n",
       "Enhanced Enclosure + High Efficiency Whole Home Electrification    0.00206\n",
       "High Efficiency Heat Pump with Electric Heat Backup                0.00193\n",
       "High Efficiency Whole Home Electrification                         0.00189\n",
       "Mininum Efficiency Heat Pump with Electric Heat Backup             0.00186\n",
       "Mininum Efficiency Heat Pump with Existing Heat Backup             0.00119\n",
       "Electric Cooking                                                   0.00113\n",
       "Induction Cooking                                                  0.00052\n",
       "Heat Pump Clothes Dryer                                            0.00034\n",
       "Electric Clothes Dryer                                             0.00032\n",
       "Name: saving_energy.total_mmbtu, dtype: float64"
      ]
     },
     "metadata": {},
     "output_type": "display_data"
    },
    {
     "name": "stdout",
     "output_type": "stream",
     "text": [
      "segment3\n"
     ]
    },
    {
     "data": {
      "text/plain": [
       "upgrade_name\n",
       "Basic Enclosure                                                    0.00596\n",
       "Enhanced Enclosure                                                 0.00497\n",
       "Heat Pump Water Heater                                             0.00196\n",
       "Mininum Efficiency Whole Home Electrification                      0.00189\n",
       "Basic Enclosure + HPWH + High Efficiency HP/Electric Backup        0.00148\n",
       "Enhanced Enclosure + HPWH + High Efficiency HP/Electric Backup     0.00147\n",
       "Basic Enclosure + High Efficiency Whole Home Electrification       0.00135\n",
       "Enhanced Enclosure + High Efficiency Whole Home Electrification    0.00135\n",
       "High Efficiency Whole Home Electrification                         0.00124\n",
       "Mininum Efficiency Heat Pump with Electric Heat Backup             0.00119\n",
       "High Efficiency Heat Pump with Electric Heat Backup                0.00111\n",
       "Electric Cooking                                                   0.00108\n",
       "Mininum Efficiency Heat Pump with Existing Heat Backup             0.00084\n",
       "Induction Cooking                                                  0.00039\n",
       "Heat Pump Clothes Dryer                                            0.00032\n",
       "Electric Clothes Dryer                                             0.00032\n",
       "Name: saving_energy.total_mmbtu, dtype: float64"
      ]
     },
     "metadata": {},
     "output_type": "display_data"
    },
    {
     "name": "stdout",
     "output_type": "stream",
     "text": [
      "segment4\n"
     ]
    },
    {
     "data": {
      "text/plain": [
       "upgrade_name\n",
       "Basic Enclosure                                                    0.00573\n",
       "Enhanced Enclosure                                                 0.00501\n",
       "Heat Pump Water Heater                                             0.00212\n",
       "Mininum Efficiency Whole Home Electrification                      0.00208\n",
       "Basic Enclosure + HPWH + High Efficiency HP/Electric Backup        0.00182\n",
       "Enhanced Enclosure + HPWH + High Efficiency HP/Electric Backup     0.00181\n",
       "Basic Enclosure + High Efficiency Whole Home Electrification       0.00165\n",
       "Enhanced Enclosure + High Efficiency Whole Home Electrification    0.00164\n",
       "High Efficiency Whole Home Electrification                         0.00152\n",
       "Mininum Efficiency Heat Pump with Electric Heat Backup             0.00151\n",
       "High Efficiency Heat Pump with Electric Heat Backup                0.00146\n",
       "Electric Cooking                                                   0.00110\n",
       "Mininum Efficiency Heat Pump with Existing Heat Backup             0.00100\n",
       "Induction Cooking                                                  0.00042\n",
       "Heat Pump Clothes Dryer                                            0.00034\n",
       "Electric Clothes Dryer                                             0.00033\n",
       "Name: saving_energy.total_mmbtu, dtype: float64"
      ]
     },
     "metadata": {},
     "output_type": "display_data"
    }
   ],
   "source": [
    "indicator = 'saving_energy.total_mmbtu'\n",
    "results = segment_savings_per_dollar(indicator, community_results) \n",
    "saving_results[f'segment1_{income}_saving_energy_per_dollar_invested_mmbtu'] = results[0]\n",
    "saving_results[f'segment2_{income}_saving_energy_per_dollar_invested_mmbtu'] = results[1]\n",
    "saving_results[f'segment3_{income}_saving_energy_per_dollar_invested_mmbtu'] = results[2]\n",
    "saving_results[f'segment4_{income}_saving_energy_per_dollar_invested_mmbtu'] = results[3]"
   ]
  },
  {
   "cell_type": "markdown",
   "id": "3b3ea80f",
   "metadata": {},
   "source": [
    " ### Annual Emission Savings Per Dollar Invested"
   ]
  },
  {
   "cell_type": "code",
   "execution_count": 45,
   "id": "b538dff9",
   "metadata": {},
   "outputs": [
    {
     "name": "stdout",
     "output_type": "stream",
     "text": [
      "segment1\n"
     ]
    },
    {
     "data": {
      "text/plain": [
       "upgrade_name\n",
       "Basic Enclosure                                                    0.35597\n",
       "Enhanced Enclosure                                                 0.32133\n",
       "Basic Enclosure + HPWH + High Efficiency HP/Electric Backup        0.16401\n",
       "Heat Pump Water Heater                                             0.16387\n",
       "Enhanced Enclosure + HPWH + High Efficiency HP/Electric Backup     0.16355\n",
       "Basic Enclosure + High Efficiency Whole Home Electrification       0.14840\n",
       "Enhanced Enclosure + High Efficiency Whole Home Electrification    0.14817\n",
       "High Efficiency Heat Pump with Electric Heat Backup                0.12591\n",
       "High Efficiency Whole Home Electrification                         0.12557\n",
       "Mininum Efficiency Whole Home Electrification                      0.09222\n",
       "Mininum Efficiency Heat Pump with Electric Heat Backup             0.07346\n",
       "Mininum Efficiency Heat Pump with Existing Heat Backup             0.06788\n",
       "Electric Cooking                                                   0.04979\n",
       "Heat Pump Clothes Dryer                                            0.02743\n",
       "Induction Cooking                                                  0.02348\n",
       "Electric Clothes Dryer                                            -0.00676\n",
       "Name: saving_emission.total_kgCO2e, dtype: float64"
      ]
     },
     "metadata": {},
     "output_type": "display_data"
    },
    {
     "name": "stdout",
     "output_type": "stream",
     "text": [
      "segment2\n"
     ]
    },
    {
     "data": {
      "text/plain": [
       "upgrade_name\n",
       "Basic Enclosure                                                    0.41920\n",
       "Enhanced Enclosure                                                 0.39011\n",
       "Heat Pump Water Heater                                             0.14827\n",
       "Enhanced Enclosure + HPWH + High Efficiency HP/Electric Backup     0.14708\n",
       "Basic Enclosure + HPWH + High Efficiency HP/Electric Backup        0.14658\n",
       "Enhanced Enclosure + High Efficiency Whole Home Electrification    0.13073\n",
       "Basic Enclosure + High Efficiency Whole Home Electrification       0.13021\n",
       "High Efficiency Whole Home Electrification                         0.11057\n",
       "High Efficiency Heat Pump with Electric Heat Backup                0.10829\n",
       "Mininum Efficiency Whole Home Electrification                      0.09115\n",
       "Mininum Efficiency Heat Pump with Electric Heat Backup             0.07168\n",
       "Mininum Efficiency Heat Pump with Existing Heat Backup             0.06168\n",
       "Electric Cooking                                                   0.04705\n",
       "Heat Pump Clothes Dryer                                            0.02516\n",
       "Induction Cooking                                                  0.02473\n",
       "Electric Clothes Dryer                                            -0.00708\n",
       "Name: saving_emission.total_kgCO2e, dtype: float64"
      ]
     },
     "metadata": {},
     "output_type": "display_data"
    },
    {
     "name": "stdout",
     "output_type": "stream",
     "text": [
      "segment3\n"
     ]
    },
    {
     "data": {
      "text/plain": [
       "upgrade_name\n",
       "Basic Enclosure                                                    0.46600\n",
       "Enhanced Enclosure                                                 0.38825\n",
       "Heat Pump Water Heater                                             0.12796\n",
       "Basic Enclosure + HPWH + High Efficiency HP/Electric Backup        0.10630\n",
       "Enhanced Enclosure + HPWH + High Efficiency HP/Electric Backup     0.10630\n",
       "Enhanced Enclosure + High Efficiency Whole Home Electrification    0.09675\n",
       "Basic Enclosure + High Efficiency Whole Home Electrification       0.09661\n",
       "High Efficiency Whole Home Electrification                         0.08399\n",
       "Mininum Efficiency Whole Home Electrification                      0.08025\n",
       "High Efficiency Heat Pump with Electric Heat Backup                0.07517\n",
       "Mininum Efficiency Heat Pump with Electric Heat Backup             0.05823\n",
       "Mininum Efficiency Heat Pump with Existing Heat Backup             0.05463\n",
       "Electric Cooking                                                   0.04551\n",
       "Heat Pump Clothes Dryer                                            0.02461\n",
       "Induction Cooking                                                  0.01991\n",
       "Electric Clothes Dryer                                            -0.00576\n",
       "Name: saving_emission.total_kgCO2e, dtype: float64"
      ]
     },
     "metadata": {},
     "output_type": "display_data"
    },
    {
     "name": "stdout",
     "output_type": "stream",
     "text": [
      "segment4\n"
     ]
    },
    {
     "data": {
      "text/plain": [
       "upgrade_name\n",
       "Basic Enclosure                                                    0.42193\n",
       "Enhanced Enclosure                                                 0.36948\n",
       "Heat Pump Water Heater                                             0.13558\n",
       "Basic Enclosure + HPWH + High Efficiency HP/Electric Backup        0.12255\n",
       "Enhanced Enclosure + HPWH + High Efficiency HP/Electric Backup     0.12249\n",
       "Enhanced Enclosure + High Efficiency Whole Home Electrification    0.11090\n",
       "Basic Enclosure + High Efficiency Whole Home Electrification       0.11080\n",
       "High Efficiency Whole Home Electrification                         0.09501\n",
       "High Efficiency Heat Pump with Electric Heat Backup                0.08888\n",
       "Mininum Efficiency Whole Home Electrification                      0.08546\n",
       "Mininum Efficiency Heat Pump with Electric Heat Backup             0.06360\n",
       "Mininum Efficiency Heat Pump with Existing Heat Backup             0.05833\n",
       "Electric Cooking                                                   0.04635\n",
       "Heat Pump Clothes Dryer                                            0.02531\n",
       "Induction Cooking                                                  0.02111\n",
       "Electric Clothes Dryer                                            -0.00638\n",
       "Name: saving_emission.total_kgCO2e, dtype: float64"
      ]
     },
     "metadata": {},
     "output_type": "display_data"
    }
   ],
   "source": [
    "indicator ='saving_emission.total_kgCO2e'\n",
    "results = segment_savings_per_dollar(indicator, community_results) \n",
    "saving_results[f'segment1_{income}_saving_emission_per_dollar_invested_kgCO2e'] = results[0]\n",
    "saving_results[f'segment2_{income}_saving_emission_per_dollar_invested_kgCO2e'] = results[1]\n",
    "saving_results[f'segment3_{income}_saving_emission_per_dollar_invested_kgCO2e'] = results[2]\n",
    "saving_results[f'segment4_{income}_saving_emission_per_dollar_invested_kgCO2e'] = results[3]"
   ]
  },
  {
   "cell_type": "markdown",
   "id": "961cd050",
   "metadata": {},
   "source": [
    "## 2.3 Annual Total Savings"
   ]
  },
  {
   "cell_type": "markdown",
   "id": "702400cd",
   "metadata": {},
   "source": [
    "### Annual Total Bill Savings"
   ]
  },
  {
   "cell_type": "code",
   "execution_count": 46,
   "id": "4cb37f5f",
   "metadata": {},
   "outputs": [
    {
     "name": "stdout",
     "output_type": "stream",
     "text": [
      "segment1\n"
     ]
    },
    {
     "data": {
      "text/plain": [
       "upgrade_name\n",
       "Enhanced Enclosure                                                  5557245.2\n",
       "Basic Enclosure                                                     4804983.3\n",
       "Enhanced Enclosure + High Efficiency Whole Home Electrification     4347582.3\n",
       "Enhanced Enclosure + HPWH + High Efficiency HP/Electric Backup      4344716.6\n",
       "Basic Enclosure + High Efficiency Whole Home Electrification        4018572.4\n",
       "Basic Enclosure + HPWH + High Efficiency HP/Electric Backup         4015706.6\n",
       "Heat Pump Clothes Dryer                                              167474.4\n",
       "Heat Pump Water Heater                                               142851.3\n",
       "Induction Cooking                                                   -206705.5\n",
       "Electric Cooking                                                    -275885.4\n",
       "Electric Clothes Dryer                                              -297335.7\n",
       "High Efficiency Whole Home Electrification                         -2439657.1\n",
       "Mininum Efficiency Heat Pump with Existing Heat Backup             -3257062.3\n",
       "High Efficiency Heat Pump with Electric Heat Backup                -3447354.9\n",
       "Mininum Efficiency Heat Pump with Electric Heat Backup            -14537062.6\n",
       "Mininum Efficiency Whole Home Electrification                     -14646102.5\n",
       "Name: saving_cbill.total_usd, dtype: float64"
      ]
     },
     "metadata": {},
     "output_type": "display_data"
    },
    {
     "name": "stdout",
     "output_type": "stream",
     "text": [
      "segment2\n"
     ]
    },
    {
     "data": {
      "text/plain": [
       "upgrade_name\n",
       "Enhanced Enclosure + High Efficiency Whole Home Electrification     6985287.5\n",
       "Enhanced Enclosure + HPWH + High Efficiency HP/Electric Backup      6965604.2\n",
       "Basic Enclosure + High Efficiency Whole Home Electrification        6667805.0\n",
       "Basic Enclosure + HPWH + High Efficiency HP/Electric Backup         6648121.8\n",
       "Enhanced Enclosure                                                  6117542.2\n",
       "Basic Enclosure                                                     5376572.9\n",
       "High Efficiency Whole Home Electrification                          1190217.6\n",
       "Heat Pump Clothes Dryer                                              309969.1\n",
       "Heat Pump Water Heater                                               200117.0\n",
       "Electric Clothes Dryer                                              -288357.7\n",
       "Induction Cooking                                                   -355536.1\n",
       "High Efficiency Heat Pump with Electric Heat Backup                 -381998.1\n",
       "Electric Cooking                                                    -453772.4\n",
       "Mininum Efficiency Heat Pump with Existing Heat Backup             -2762663.5\n",
       "Mininum Efficiency Heat Pump with Electric Heat Backup            -10877630.7\n",
       "Mininum Efficiency Whole Home Electrification                     -12114780.6\n",
       "Name: saving_cbill.total_usd, dtype: float64"
      ]
     },
     "metadata": {},
     "output_type": "display_data"
    },
    {
     "name": "stdout",
     "output_type": "stream",
     "text": [
      "segment3\n"
     ]
    },
    {
     "data": {
      "text/plain": [
       "upgrade_name\n",
       "Enhanced Enclosure + HPWH + High Efficiency HP/Electric Backup     37941296.9\n",
       "Enhanced Enclosure + High Efficiency Whole Home Electrification    37717775.5\n",
       "Basic Enclosure + HPWH + High Efficiency HP/Electric Backup        36377657.8\n",
       "Basic Enclosure + High Efficiency Whole Home Electrification       36154136.5\n",
       "High Efficiency Whole Home Electrification                         24456332.4\n",
       "Enhanced Enclosure                                                 18185691.7\n",
       "High Efficiency Heat Pump with Electric Heat Backup                17990594.6\n",
       "Basic Enclosure                                                    15818981.4\n",
       "Mininum Efficiency Heat Pump with Existing Heat Backup              4864649.1\n",
       "Heat Pump Water Heater                                              2467069.5\n",
       "Heat Pump Clothes Dryer                                              625455.7\n",
       "Electric Clothes Dryer                                              -483274.3\n",
       "Induction Cooking                                                  -1033301.5\n",
       "Electric Cooking                                                   -1502909.6\n",
       "Mininum Efficiency Heat Pump with Electric Heat Backup             -9013933.8\n",
       "Mininum Efficiency Whole Home Electrification                     -24416610.2\n",
       "Name: saving_cbill.total_usd, dtype: float64"
      ]
     },
     "metadata": {},
     "output_type": "display_data"
    },
    {
     "name": "stdout",
     "output_type": "stream",
     "text": [
      "segment4\n"
     ]
    },
    {
     "data": {
      "text/plain": [
       "upgrade_name\n",
       "Enhanced Enclosure + HPWH + High Efficiency HP/Electric Backup     49251617.7\n",
       "Enhanced Enclosure + High Efficiency Whole Home Electrification    49050645.3\n",
       "Basic Enclosure + HPWH + High Efficiency HP/Electric Backup        47041486.3\n",
       "Basic Enclosure + High Efficiency Whole Home Electrification       46840513.9\n",
       "Enhanced Enclosure                                                 29860479.1\n",
       "Basic Enclosure                                                    26000537.5\n",
       "High Efficiency Whole Home Electrification                         23206893.0\n",
       "High Efficiency Heat Pump with Electric Heat Backup                14161241.6\n",
       "Heat Pump Water Heater                                              2810037.7\n",
       "Heat Pump Clothes Dryer                                             1102899.2\n",
       "Electric Clothes Dryer                                             -1068967.7\n",
       "Mininum Efficiency Heat Pump with Existing Heat Backup             -1155076.7\n",
       "Induction Cooking                                                  -1595543.1\n",
       "Electric Cooking                                                   -2232567.4\n",
       "Mininum Efficiency Heat Pump with Electric Heat Backup            -34428627.1\n",
       "Mininum Efficiency Whole Home Electrification                     -51177493.4\n",
       "Name: saving_cbill.total_usd, dtype: float64"
      ]
     },
     "metadata": {},
     "output_type": "display_data"
    }
   ],
   "source": [
    "indicator ='saving_cbill.total_usd'\n",
    "results = segment_annual_total_savings(indicator, community_results)\n",
    "saving_results[f'segment1_{income}_saving_bill_total_usd'] = results[0]\n",
    "saving_results[f'segment2_{income}_saving_bill_total_usd'] = results[1]\n",
    "saving_results[f'segment3_{income}_saving_bill_total_usd'] = results[2]\n",
    "saving_results[f'segment4_{income}_saving_bill_total_usd'] = results[3]"
   ]
  },
  {
   "cell_type": "markdown",
   "id": "5a9433f1",
   "metadata": {},
   "source": [
    "### Annual Total Energy Savings"
   ]
  },
  {
   "cell_type": "code",
   "execution_count": 47,
   "id": "772222fe",
   "metadata": {},
   "outputs": [
    {
     "name": "stdout",
     "output_type": "stream",
     "text": [
      "segment1\n"
     ]
    },
    {
     "data": {
      "text/plain": [
       "upgrade_name\n",
       "Enhanced Enclosure + High Efficiency Whole Home Electrification    1070778.2\n",
       "Basic Enclosure + High Efficiency Whole Home Electrification       1064780.0\n",
       "Enhanced Enclosure + HPWH + High Efficiency HP/Electric Backup     1049676.1\n",
       "Basic Enclosure + HPWH + High Efficiency HP/Electric Backup        1043677.8\n",
       "High Efficiency Whole Home Electrification                          947039.1\n",
       "High Efficiency Heat Pump with Electric Heat Backup                 784931.8\n",
       "Mininum Efficiency Whole Home Electrification                       724501.4\n",
       "Mininum Efficiency Heat Pump with Electric Heat Backup              583025.8\n",
       "Enhanced Enclosure                                                  474982.3\n",
       "Basic Enclosure                                                     416709.5\n",
       "Mininum Efficiency Heat Pump with Existing Heat Backup              336812.8\n",
       "Heat Pump Water Heater                                               95737.2\n",
       "Heat Pump Clothes Dryer                                              10586.0\n",
       "Induction Cooking                                                    10516.1\n",
       "Electric Cooking                                                      9254.9\n",
       "Electric Clothes Dryer                                                2112.0\n",
       "Name: saving_energy.total_mmbtu, dtype: float64"
      ]
     },
     "metadata": {},
     "output_type": "display_data"
    },
    {
     "name": "stdout",
     "output_type": "stream",
     "text": [
      "segment2\n"
     ]
    },
    {
     "data": {
      "text/plain": [
       "upgrade_name\n",
       "Enhanced Enclosure + High Efficiency Whole Home Electrification    1094312.7\n",
       "Basic Enclosure + High Efficiency Whole Home Electrification       1088524.6\n",
       "Enhanced Enclosure + HPWH + High Efficiency HP/Electric Backup     1064357.5\n",
       "Basic Enclosure + HPWH + High Efficiency HP/Electric Backup        1058569.4\n",
       "High Efficiency Whole Home Electrification                          988661.9\n",
       "High Efficiency Heat Pump with Electric Heat Backup                 771292.3\n",
       "Mininum Efficiency Whole Home Electrification                       746096.4\n",
       "Mininum Efficiency Heat Pump with Electric Heat Backup              580351.7\n",
       "Enhanced Enclosure                                                  450198.5\n",
       "Basic Enclosure                                                     398519.6\n",
       "Mininum Efficiency Heat Pump with Existing Heat Backup              370849.8\n",
       "Heat Pump Water Heater                                              120385.4\n",
       "Induction Cooking                                                    16971.9\n",
       "Electric Cooking                                                     15180.9\n",
       "Heat Pump Clothes Dryer                                              12983.3\n",
       "Electric Clothes Dryer                                                2075.1\n",
       "Name: saving_energy.total_mmbtu, dtype: float64"
      ]
     },
     "metadata": {},
     "output_type": "display_data"
    },
    {
     "name": "stdout",
     "output_type": "stream",
     "text": [
      "segment3\n"
     ]
    },
    {
     "data": {
      "text/plain": [
       "upgrade_name\n",
       "Enhanced Enclosure + High Efficiency Whole Home Electrification    2573605.1\n",
       "Basic Enclosure + High Efficiency Whole Home Electrification       2545097.6\n",
       "Enhanced Enclosure + HPWH + High Efficiency HP/Electric Backup     2494466.7\n",
       "Basic Enclosure + HPWH + High Efficiency HP/Electric Backup        2465959.3\n",
       "High Efficiency Whole Home Electrification                         2331833.4\n",
       "High Efficiency Heat Pump with Electric Heat Backup                1605999.9\n",
       "Mininum Efficiency Whole Home Electrification                      1440823.4\n",
       "Mininum Efficiency Heat Pump with Electric Heat Backup             1114151.2\n",
       "Enhanced Enclosure                                                  850366.0\n",
       "Mininum Efficiency Heat Pump with Existing Heat Backup              766843.2\n",
       "Basic Enclosure                                                     741454.5\n",
       "Heat Pump Water Heater                                              422119.3\n",
       "Induction Cooking                                                    55476.1\n",
       "Electric Cooking                                                     46913.7\n",
       "Heat Pump Clothes Dryer                                              23662.2\n",
       "Electric Clothes Dryer                                                3448.8\n",
       "Name: saving_energy.total_mmbtu, dtype: float64"
      ]
     },
     "metadata": {},
     "output_type": "display_data"
    },
    {
     "name": "stdout",
     "output_type": "stream",
     "text": [
      "segment4\n"
     ]
    },
    {
     "data": {
      "text/plain": [
       "upgrade_name\n",
       "Enhanced Enclosure + High Efficiency Whole Home Electrification    4738695.9\n",
       "Basic Enclosure + High Efficiency Whole Home Electrification       4698402.2\n",
       "Enhanced Enclosure + HPWH + High Efficiency HP/Electric Backup     4608500.2\n",
       "Basic Enclosure + HPWH + High Efficiency HP/Electric Backup        4568206.5\n",
       "High Efficiency Whole Home Electrification                         4267534.4\n",
       "High Efficiency Heat Pump with Electric Heat Backup                3162224.0\n",
       "Mininum Efficiency Whole Home Electrification                      2911421.2\n",
       "Mininum Efficiency Heat Pump with Electric Heat Backup             2277528.6\n",
       "Enhanced Enclosure                                                 1775546.9\n",
       "Basic Enclosure                                                    1556683.5\n",
       "Mininum Efficiency Heat Pump with Existing Heat Backup             1474505.8\n",
       "Heat Pump Water Heater                                              638241.9\n",
       "Induction Cooking                                                    82964.1\n",
       "Electric Cooking                                                     71349.4\n",
       "Heat Pump Clothes Dryer                                              47231.6\n",
       "Electric Clothes Dryer                                                7636.0\n",
       "Name: saving_energy.total_mmbtu, dtype: float64"
      ]
     },
     "metadata": {},
     "output_type": "display_data"
    }
   ],
   "source": [
    "indicator ='saving_energy.total_mmbtu'\n",
    "results = segment_annual_total_savings(indicator, community_results)\n",
    "saving_results[f'segment1_{income}_saving_energy_total_mmbtu'] = results[0]\n",
    "saving_results[f'segment2_{income}_saving_energy_total_mmbtu'] = results[1]\n",
    "saving_results[f'segment3_{income}_saving_energy_total_mmbtu'] = results[2]\n",
    "saving_results[f'segment4_{income}_saving_energy_total_mmbtu'] = results[3]"
   ]
  },
  {
   "cell_type": "markdown",
   "id": "468edc4e",
   "metadata": {},
   "source": [
    "### Annual Total Emission Savings"
   ]
  },
  {
   "cell_type": "code",
   "execution_count": 48,
   "id": "5fb13c1b",
   "metadata": {},
   "outputs": [
    {
     "name": "stdout",
     "output_type": "stream",
     "text": [
      "segment1\n"
     ]
    },
    {
     "data": {
      "text/plain": [
       "upgrade_name\n",
       "Enhanced Enclosure + High Efficiency Whole Home Electrification    65390522.7\n",
       "Basic Enclosure + High Efficiency Whole Home Electrification       64709740.3\n",
       "Enhanced Enclosure + HPWH + High Efficiency HP/Electric Backup     64126687.7\n",
       "Basic Enclosure + HPWH + High Efficiency HP/Electric Backup        63445905.3\n",
       "High Efficiency Whole Home Electrification                         51427581.3\n",
       "High Efficiency Heat Pump with Electric Heat Backup                40885108.0\n",
       "Enhanced Enclosure                                                 32668219.5\n",
       "Basic Enclosure                                                    28583734.5\n",
       "Mininum Efficiency Whole Home Electrification                      27189257.6\n",
       "Mininum Efficiency Heat Pump with Electric Heat Backup             18665164.7\n",
       "Mininum Efficiency Heat Pump with Existing Heat Backup             16723672.1\n",
       "Heat Pump Water Heater                                              5834525.4\n",
       "Heat Pump Clothes Dryer                                              752112.1\n",
       "Induction Cooking                                                    511722.9\n",
       "Electric Cooking                                                     391028.0\n",
       "Electric Clothes Dryer                                               -40695.2\n",
       "Name: saving_emission.total_kgCO2e, dtype: float64"
      ]
     },
     "metadata": {},
     "output_type": "display_data"
    },
    {
     "name": "stdout",
     "output_type": "stream",
     "text": [
      "segment2\n"
     ]
    },
    {
     "data": {
      "text/plain": [
       "upgrade_name\n",
       "Enhanced Enclosure + High Efficiency Whole Home Electrification    69610936.2\n",
       "Basic Enclosure + High Efficiency Whole Home Electrification       68953037.1\n",
       "Enhanced Enclosure + HPWH + High Efficiency HP/Electric Backup     67831725.5\n",
       "Basic Enclosure + HPWH + High Efficiency HP/Electric Backup        67173826.3\n",
       "High Efficiency Whole Home Electrification                         57711233.0\n",
       "High Efficiency Heat Pump with Electric Heat Backup                43383205.2\n",
       "Enhanced Enclosure                                                 31813987.6\n",
       "Mininum Efficiency Whole Home Electrification                      31438555.7\n",
       "Basic Enclosure                                                    28120349.4\n",
       "Mininum Efficiency Heat Pump with Electric Heat Backup             22415816.5\n",
       "Mininum Efficiency Heat Pump with Existing Heat Backup             19192462.5\n",
       "Heat Pump Water Heater                                              7416318.2\n",
       "Heat Pump Clothes Dryer                                              973183.0\n",
       "Induction Cooking                                                    806027.7\n",
       "Electric Cooking                                                     634492.8\n",
       "Electric Clothes Dryer                                               -45661.1\n",
       "Name: saving_emission.total_kgCO2e, dtype: float64"
      ]
     },
     "metadata": {},
     "output_type": "display_data"
    },
    {
     "name": "stdout",
     "output_type": "stream",
     "text": [
      "segment3\n"
     ]
    },
    {
     "data": {
      "text/plain": [
       "upgrade_name\n",
       "Enhanced Enclosure + High Efficiency Whole Home Electrification    184710974.0\n",
       "Basic Enclosure + High Efficiency Whole Home Electrification       181539755.7\n",
       "Enhanced Enclosure + HPWH + High Efficiency HP/Electric Backup     180084085.8\n",
       "Basic Enclosure + HPWH + High Efficiency HP/Electric Backup        176912867.4\n",
       "High Efficiency Whole Home Electrification                         157438198.2\n",
       "High Efficiency Heat Pump with Electric Heat Backup                108555818.1\n",
       "Enhanced Enclosure                                                  66482413.9\n",
       "Mininum Efficiency Whole Home Electrification                       61052321.5\n",
       "Basic Enclosure                                                     57930654.8\n",
       "Mininum Efficiency Heat Pump with Electric Heat Backup              54668209.6\n",
       "Mininum Efficiency Heat Pump with Existing Heat Backup              49982772.4\n",
       "Heat Pump Water Heater                                              27544963.9\n",
       "Induction Cooking                                                    2807744.0\n",
       "Electric Cooking                                                     1979488.5\n",
       "Heat Pump Clothes Dryer                                              1819144.2\n",
       "Electric Clothes Dryer                                                -63061.1\n",
       "Name: saving_emission.total_kgCO2e, dtype: float64"
      ]
     },
     "metadata": {},
     "output_type": "display_data"
    },
    {
     "name": "stdout",
     "output_type": "stream",
     "text": [
      "segment4\n"
     ]
    },
    {
     "data": {
      "text/plain": [
       "upgrade_name\n",
       "Enhanced Enclosure + High Efficiency Whole Home Electrification    319712432.9\n",
       "Basic Enclosure + High Efficiency Whole Home Electrification       315202533.0\n",
       "Enhanced Enclosure + HPWH + High Efficiency HP/Electric Backup     312042498.9\n",
       "Basic Enclosure + HPWH + High Efficiency HP/Electric Backup        307532599.0\n",
       "High Efficiency Whole Home Electrification                         266577012.5\n",
       "High Efficiency Heat Pump with Electric Heat Backup                192824131.3\n",
       "Enhanced Enclosure                                                 130964620.9\n",
       "Mininum Efficiency Whole Home Electrification                      119680134.8\n",
       "Basic Enclosure                                                    114634738.7\n",
       "Mininum Efficiency Heat Pump with Electric Heat Backup              95749190.8\n",
       "Mininum Efficiency Heat Pump with Existing Heat Backup              85898907.1\n",
       "Heat Pump Water Heater                                              40795807.5\n",
       "Induction Cooking                                                    4125494.6\n",
       "Heat Pump Clothes Dryer                                              3544439.4\n",
       "Electric Cooking                                                     3005009.2\n",
       "Electric Clothes Dryer                                               -149417.5\n",
       "Name: saving_emission.total_kgCO2e, dtype: float64"
      ]
     },
     "metadata": {},
     "output_type": "display_data"
    }
   ],
   "source": [
    "indicator ='saving_emission.total_kgCO2e'\n",
    "results = segment_annual_total_savings(indicator, community_results)\n",
    "saving_results[f'segment1_{income}_saving_emission_total_kgCO2e'] = results[0]\n",
    "saving_results[f'segment2_{income}_saving_emission_total_kgCO2e'] = results[1]\n",
    "saving_results[f'segment3_{income}_saving_emission_total_kgCO2e'] = results[2]\n",
    "saving_results[f'segment4_{income}_saving_emission_total_kgCO2e'] = results[3]"
   ]
  },
  {
   "cell_type": "markdown",
   "id": "83cbedb9",
   "metadata": {},
   "source": [
    "## 2.4 Annual Savings Per Dwelling Unit"
   ]
  },
  {
   "cell_type": "markdown",
   "id": "eb35438b",
   "metadata": {},
   "source": [
    "### Annual Bill Savings Per Dwelling Unit"
   ]
  },
  {
   "cell_type": "code",
   "execution_count": 49,
   "id": "876cf387",
   "metadata": {},
   "outputs": [
    {
     "name": "stdout",
     "output_type": "stream",
     "text": [
      "segment1\n"
     ]
    },
    {
     "data": {
      "text/plain": [
       "upgrade_name\n",
       "Enhanced Enclosure                                                  498.8\n",
       "Basic Enclosure                                                     431.3\n",
       "Enhanced Enclosure + High Efficiency Whole Home Electrification     390.2\n",
       "Enhanced Enclosure + HPWH + High Efficiency HP/Electric Backup      389.9\n",
       "Basic Enclosure + High Efficiency Whole Home Electrification        360.7\n",
       "Basic Enclosure + HPWH + High Efficiency HP/Electric Backup         360.4\n",
       "Heat Pump Clothes Dryer                                              16.0\n",
       "Heat Pump Water Heater                                               12.8\n",
       "Induction Cooking                                                   -18.9\n",
       "Electric Cooking                                                    -40.8\n",
       "Electric Clothes Dryer                                              -64.4\n",
       "High Efficiency Whole Home Electrification                         -219.0\n",
       "Mininum Efficiency Heat Pump with Existing Heat Backup             -299.9\n",
       "High Efficiency Heat Pump with Electric Heat Backup                -309.4\n",
       "Mininum Efficiency Heat Pump with Electric Heat Backup            -1304.7\n",
       "Mininum Efficiency Whole Home Electrification                     -1320.0\n",
       "Name: saving_cbill.total_usd, dtype: float64"
      ]
     },
     "metadata": {},
     "output_type": "display_data"
    },
    {
     "name": "stdout",
     "output_type": "stream",
     "text": [
      "segment2\n"
     ]
    },
    {
     "data": {
      "text/plain": [
       "upgrade_name\n",
       "Enhanced Enclosure + High Efficiency Whole Home Electrification    423.3\n",
       "Enhanced Enclosure + HPWH + High Efficiency HP/Electric Backup     422.1\n",
       "Basic Enclosure + High Efficiency Whole Home Electrification       404.0\n",
       "Basic Enclosure + HPWH + High Efficiency HP/Electric Backup        402.8\n",
       "Enhanced Enclosure                                                 370.7\n",
       "Basic Enclosure                                                    325.8\n",
       "High Efficiency Whole Home Electrification                          72.1\n",
       "Heat Pump Clothes Dryer                                             21.0\n",
       "Heat Pump Water Heater                                              12.2\n",
       "Induction Cooking                                                  -21.8\n",
       "High Efficiency Heat Pump with Electric Heat Backup                -23.1\n",
       "Electric Cooking                                                   -39.1\n",
       "Electric Clothes Dryer                                             -58.4\n",
       "Mininum Efficiency Heat Pump with Existing Heat Backup            -167.9\n",
       "Mininum Efficiency Heat Pump with Electric Heat Backup            -659.1\n",
       "Mininum Efficiency Whole Home Electrification                     -773.4\n",
       "Name: saving_cbill.total_usd, dtype: float64"
      ]
     },
     "metadata": {},
     "output_type": "display_data"
    },
    {
     "name": "stdout",
     "output_type": "stream",
     "text": [
      "segment3\n"
     ]
    },
    {
     "data": {
      "text/plain": [
       "upgrade_name\n",
       "Enhanced Enclosure + HPWH + High Efficiency HP/Electric Backup     525.4\n",
       "Enhanced Enclosure + High Efficiency Whole Home Electrification    522.3\n",
       "Basic Enclosure + HPWH + High Efficiency HP/Electric Backup        503.8\n",
       "Basic Enclosure + High Efficiency Whole Home Electrification       500.7\n",
       "High Efficiency Whole Home Electrification                         338.7\n",
       "Enhanced Enclosure                                                 258.2\n",
       "High Efficiency Heat Pump with Electric Heat Backup                249.1\n",
       "Basic Enclosure                                                    227.7\n",
       "Mininum Efficiency Heat Pump with Existing Heat Backup              68.9\n",
       "Heat Pump Water Heater                                              34.5\n",
       "Heat Pump Clothes Dryer                                             22.2\n",
       "Induction Cooking                                                  -14.6\n",
       "Electric Cooking                                                   -40.1\n",
       "Electric Clothes Dryer                                             -57.6\n",
       "Mininum Efficiency Heat Pump with Electric Heat Backup            -124.8\n",
       "Mininum Efficiency Whole Home Electrification                     -416.7\n",
       "Name: saving_cbill.total_usd, dtype: float64"
      ]
     },
     "metadata": {},
     "output_type": "display_data"
    },
    {
     "name": "stdout",
     "output_type": "stream",
     "text": [
      "segment4\n"
     ]
    },
    {
     "data": {
      "text/plain": [
       "upgrade_name\n",
       "Enhanced Enclosure + HPWH + High Efficiency HP/Electric Backup     493.2\n",
       "Enhanced Enclosure + High Efficiency Whole Home Electrification    491.2\n",
       "Basic Enclosure + HPWH + High Efficiency HP/Electric Backup        471.1\n",
       "Basic Enclosure + High Efficiency Whole Home Electrification       469.1\n",
       "Enhanced Enclosure                                                 304.4\n",
       "Basic Enclosure                                                    267.8\n",
       "High Efficiency Whole Home Electrification                         232.4\n",
       "High Efficiency Heat Pump with Electric Heat Backup                141.8\n",
       "Heat Pump Water Heater                                              28.3\n",
       "Heat Pump Clothes Dryer                                             20.7\n",
       "Mininum Efficiency Heat Pump with Existing Heat Backup             -11.8\n",
       "Induction Cooking                                                  -16.3\n",
       "Electric Cooking                                                   -40.0\n",
       "Electric Clothes Dryer                                             -59.6\n",
       "Mininum Efficiency Heat Pump with Electric Heat Backup            -344.8\n",
       "Mininum Efficiency Whole Home Electrification                     -599.6\n",
       "Name: saving_cbill.total_usd, dtype: float64"
      ]
     },
     "metadata": {},
     "output_type": "display_data"
    }
   ],
   "source": [
    "indicator ='saving_cbill.total_usd'\n",
    "results = segment_mean_savings(indicator, community_results)\n",
    "saving_results[f'segment1_{income}_saving_bill_mean_usd'] = results[0]\n",
    "saving_results[f'segment2_{income}_saving_bill_mean_usd'] = results[1]\n",
    "saving_results[f'segment3_{income}_saving_bill_mean_usd'] = results[2]\n",
    "saving_results[f'segment4_{income}_saving_bill_mean_usd'] = results[3]"
   ]
  },
  {
   "cell_type": "markdown",
   "id": "e902c573",
   "metadata": {},
   "source": [
    "### Annual Energy Savings Per Dwelling Unit"
   ]
  },
  {
   "cell_type": "code",
   "execution_count": 50,
   "id": "5ad585ad",
   "metadata": {},
   "outputs": [
    {
     "name": "stdout",
     "output_type": "stream",
     "text": [
      "segment1\n"
     ]
    },
    {
     "data": {
      "text/plain": [
       "upgrade_name\n",
       "Enhanced Enclosure + High Efficiency Whole Home Electrification    96.1\n",
       "Basic Enclosure + High Efficiency Whole Home Electrification       95.6\n",
       "Enhanced Enclosure + HPWH + High Efficiency HP/Electric Backup     94.2\n",
       "Basic Enclosure + HPWH + High Efficiency HP/Electric Backup        93.7\n",
       "High Efficiency Whole Home Electrification                         85.0\n",
       "High Efficiency Heat Pump with Electric Heat Backup                70.4\n",
       "Mininum Efficiency Whole Home Electrification                      65.3\n",
       "Mininum Efficiency Heat Pump with Electric Heat Backup             52.3\n",
       "Enhanced Enclosure                                                 42.6\n",
       "Basic Enclosure                                                    37.4\n",
       "Mininum Efficiency Heat Pump with Existing Heat Backup             31.0\n",
       "Heat Pump Water Heater                                              8.6\n",
       "Electric Cooking                                                    1.4\n",
       "Heat Pump Clothes Dryer                                             1.0\n",
       "Induction Cooking                                                   1.0\n",
       "Electric Clothes Dryer                                              0.5\n",
       "Name: saving_energy.total_mmbtu, dtype: float64"
      ]
     },
     "metadata": {},
     "output_type": "display_data"
    },
    {
     "name": "stdout",
     "output_type": "stream",
     "text": [
      "segment2\n"
     ]
    },
    {
     "data": {
      "text/plain": [
       "upgrade_name\n",
       "Enhanced Enclosure + High Efficiency Whole Home Electrification    66.3\n",
       "Basic Enclosure + High Efficiency Whole Home Electrification       66.0\n",
       "Enhanced Enclosure + HPWH + High Efficiency HP/Electric Backup     64.5\n",
       "Basic Enclosure + HPWH + High Efficiency HP/Electric Backup        64.1\n",
       "High Efficiency Whole Home Electrification                         59.9\n",
       "Mininum Efficiency Whole Home Electrification                      47.6\n",
       "High Efficiency Heat Pump with Electric Heat Backup                46.7\n",
       "Mininum Efficiency Heat Pump with Electric Heat Backup             35.2\n",
       "Enhanced Enclosure                                                 27.3\n",
       "Basic Enclosure                                                    24.1\n",
       "Mininum Efficiency Heat Pump with Existing Heat Backup             22.5\n",
       "Heat Pump Water Heater                                              7.3\n",
       "Electric Cooking                                                    1.3\n",
       "Induction Cooking                                                   1.0\n",
       "Heat Pump Clothes Dryer                                             0.9\n",
       "Electric Clothes Dryer                                              0.4\n",
       "Name: saving_energy.total_mmbtu, dtype: float64"
      ]
     },
     "metadata": {},
     "output_type": "display_data"
    },
    {
     "name": "stdout",
     "output_type": "stream",
     "text": [
      "segment3\n"
     ]
    },
    {
     "data": {
      "text/plain": [
       "upgrade_name\n",
       "Enhanced Enclosure + High Efficiency Whole Home Electrification    35.6\n",
       "Basic Enclosure + High Efficiency Whole Home Electrification       35.2\n",
       "Enhanced Enclosure + HPWH + High Efficiency HP/Electric Backup     34.5\n",
       "Basic Enclosure + HPWH + High Efficiency HP/Electric Backup        34.1\n",
       "High Efficiency Whole Home Electrification                         32.3\n",
       "Mininum Efficiency Whole Home Electrification                      24.6\n",
       "High Efficiency Heat Pump with Electric Heat Backup                22.2\n",
       "Mininum Efficiency Heat Pump with Electric Heat Backup             15.4\n",
       "Enhanced Enclosure                                                 12.1\n",
       "Mininum Efficiency Heat Pump with Existing Heat Backup             10.9\n",
       "Basic Enclosure                                                    10.7\n",
       "Heat Pump Water Heater                                              5.9\n",
       "Electric Cooking                                                    1.3\n",
       "Heat Pump Clothes Dryer                                             0.8\n",
       "Induction Cooking                                                   0.8\n",
       "Electric Clothes Dryer                                              0.4\n",
       "Name: saving_energy.total_mmbtu, dtype: float64"
      ]
     },
     "metadata": {},
     "output_type": "display_data"
    },
    {
     "name": "stdout",
     "output_type": "stream",
     "text": [
      "segment4\n"
     ]
    },
    {
     "data": {
      "text/plain": [
       "upgrade_name\n",
       "Enhanced Enclosure + High Efficiency Whole Home Electrification    47.5\n",
       "Basic Enclosure + High Efficiency Whole Home Electrification       47.1\n",
       "Enhanced Enclosure + HPWH + High Efficiency HP/Electric Backup     46.2\n",
       "Basic Enclosure + HPWH + High Efficiency HP/Electric Backup        45.7\n",
       "High Efficiency Whole Home Electrification                         42.7\n",
       "Mininum Efficiency Whole Home Electrification                      34.1\n",
       "High Efficiency Heat Pump with Electric Heat Backup                31.7\n",
       "Mininum Efficiency Heat Pump with Electric Heat Backup             22.8\n",
       "Enhanced Enclosure                                                 18.1\n",
       "Basic Enclosure                                                    16.0\n",
       "Mininum Efficiency Heat Pump with Existing Heat Backup             15.1\n",
       "Heat Pump Water Heater                                              6.4\n",
       "Electric Cooking                                                    1.3\n",
       "Heat Pump Clothes Dryer                                             0.9\n",
       "Induction Cooking                                                   0.8\n",
       "Electric Clothes Dryer                                              0.4\n",
       "Name: saving_energy.total_mmbtu, dtype: float64"
      ]
     },
     "metadata": {},
     "output_type": "display_data"
    }
   ],
   "source": [
    "indicator ='saving_energy.total_mmbtu'\n",
    "results = segment_mean_savings(indicator, community_results) \n",
    "saving_results[f'segment1_{income}_saving_energy_mean_mmbtu'] = results[0]\n",
    "saving_results[f'segment2_{income}_saving_energy_mean_mmbtu'] = results[1]\n",
    "saving_results[f'segment3_{income}_saving_energy_mean_mmbtu'] = results[2]\n",
    "saving_results[f'segment4_{income}_saving_energy_mean_mmbtu'] = results[3]"
   ]
  },
  {
   "cell_type": "markdown",
   "id": "6d99e632",
   "metadata": {},
   "source": [
    "### Annual Percentage Energy Savings Per Dwelling Unit"
   ]
  },
  {
   "cell_type": "code",
   "execution_count": 51,
   "id": "ae160b7b",
   "metadata": {},
   "outputs": [
    {
     "name": "stdout",
     "output_type": "stream",
     "text": [
      "segment1\n"
     ]
    },
    {
     "data": {
      "text/plain": [
       "upgrade_name\n",
       "Enhanced Enclosure + High Efficiency Whole Home Electrification    70.5\n",
       "Basic Enclosure + High Efficiency Whole Home Electrification       70.1\n",
       "Enhanced Enclosure + HPWH + High Efficiency HP/Electric Backup     69.0\n",
       "Basic Enclosure + HPWH + High Efficiency HP/Electric Backup        68.6\n",
       "High Efficiency Whole Home Electrification                         61.9\n",
       "High Efficiency Heat Pump with Electric Heat Backup                50.2\n",
       "Mininum Efficiency Whole Home Electrification                      45.9\n",
       "Mininum Efficiency Heat Pump with Electric Heat Backup             35.7\n",
       "Enhanced Enclosure                                                 31.7\n",
       "Basic Enclosure                                                    27.5\n",
       "Mininum Efficiency Heat Pump with Existing Heat Backup             21.6\n",
       "Heat Pump Water Heater                                              7.2\n",
       "Electric Cooking                                                    1.1\n",
       "Heat Pump Clothes Dryer                                             0.8\n",
       "Induction Cooking                                                   0.8\n",
       "Electric Clothes Dryer                                              0.4\n",
       "Name: pct_saving_energy.total_%, dtype: float64"
      ]
     },
     "metadata": {},
     "output_type": "display_data"
    },
    {
     "name": "stdout",
     "output_type": "stream",
     "text": [
      "segment2\n"
     ]
    },
    {
     "data": {
      "text/plain": [
       "upgrade_name\n",
       "Enhanced Enclosure + High Efficiency Whole Home Electrification    69.8\n",
       "Basic Enclosure + High Efficiency Whole Home Electrification       69.5\n",
       "Enhanced Enclosure + HPWH + High Efficiency HP/Electric Backup     67.7\n",
       "Basic Enclosure + HPWH + High Efficiency HP/Electric Backup        67.4\n",
       "High Efficiency Whole Home Electrification                         63.4\n",
       "Mininum Efficiency Whole Home Electrification                      49.6\n",
       "High Efficiency Heat Pump with Electric Heat Backup                47.7\n",
       "Mininum Efficiency Heat Pump with Electric Heat Backup             35.3\n",
       "Enhanced Enclosure                                                 28.4\n",
       "Basic Enclosure                                                    25.1\n",
       "Mininum Efficiency Heat Pump with Existing Heat Backup             21.8\n",
       "Heat Pump Water Heater                                              9.2\n",
       "Electric Cooking                                                    1.5\n",
       "Induction Cooking                                                   1.2\n",
       "Heat Pump Clothes Dryer                                             1.0\n",
       "Electric Clothes Dryer                                              0.5\n",
       "Name: pct_saving_energy.total_%, dtype: float64"
      ]
     },
     "metadata": {},
     "output_type": "display_data"
    },
    {
     "name": "stdout",
     "output_type": "stream",
     "text": [
      "segment3\n"
     ]
    },
    {
     "data": {
      "text/plain": [
       "upgrade_name\n",
       "Enhanced Enclosure + High Efficiency Whole Home Electrification    62.2\n",
       "Basic Enclosure + High Efficiency Whole Home Electrification       61.6\n",
       "Enhanced Enclosure + HPWH + High Efficiency HP/Electric Backup     60.1\n",
       "Basic Enclosure + HPWH + High Efficiency HP/Electric Backup        59.5\n",
       "High Efficiency Whole Home Electrification                         56.8\n",
       "Mininum Efficiency Whole Home Electrification                      39.1\n",
       "High Efficiency Heat Pump with Electric Heat Backup                36.9\n",
       "Mininum Efficiency Heat Pump with Electric Heat Backup             24.5\n",
       "Enhanced Enclosure                                                 19.7\n",
       "Mininum Efficiency Heat Pump with Existing Heat Backup             18.0\n",
       "Basic Enclosure                                                    17.6\n",
       "Heat Pump Water Heater                                             12.2\n",
       "Electric Cooking                                                    2.4\n",
       "Induction Cooking                                                   1.5\n",
       "Heat Pump Clothes Dryer                                             1.5\n",
       "Electric Clothes Dryer                                              0.7\n",
       "Name: pct_saving_energy.total_%, dtype: float64"
      ]
     },
     "metadata": {},
     "output_type": "display_data"
    },
    {
     "name": "stdout",
     "output_type": "stream",
     "text": [
      "segment4\n"
     ]
    },
    {
     "data": {
      "text/plain": [
       "upgrade_name\n",
       "Enhanced Enclosure + High Efficiency Whole Home Electrification    64.4\n",
       "Basic Enclosure + High Efficiency Whole Home Electrification       63.8\n",
       "Enhanced Enclosure + HPWH + High Efficiency HP/Electric Backup     62.4\n",
       "Basic Enclosure + HPWH + High Efficiency HP/Electric Backup        61.8\n",
       "High Efficiency Whole Home Electrification                         58.5\n",
       "Mininum Efficiency Whole Home Electrification                      41.9\n",
       "High Efficiency Heat Pump with Electric Heat Backup                40.2\n",
       "Mininum Efficiency Heat Pump with Electric Heat Backup             27.5\n",
       "Enhanced Enclosure                                                 22.5\n",
       "Basic Enclosure                                                    20.0\n",
       "Mininum Efficiency Heat Pump with Existing Heat Backup             19.0\n",
       "Heat Pump Water Heater                                             11.1\n",
       "Electric Cooking                                                    2.0\n",
       "Induction Cooking                                                   1.4\n",
       "Heat Pump Clothes Dryer                                             1.2\n",
       "Electric Clothes Dryer                                              0.5\n",
       "Name: pct_saving_energy.total_%, dtype: float64"
      ]
     },
     "metadata": {},
     "output_type": "display_data"
    }
   ],
   "source": [
    "indicator ='pct_saving_energy.total_%'\n",
    "results = segment_mean_savings(indicator, community_results)\n",
    "saving_results[f'segment1_{income}_pct_saving_energy_mean_%'] = results[0]\n",
    "saving_results[f'segment2_{income}_pct_saving_energy_mean_%'] = results[1]\n",
    "saving_results[f'segment3_{income}_pct_saving_energy_mean_%'] = results[2]\n",
    "saving_results[f'segment4_{income}_pct_saving_energy_mean_%'] = results[3]"
   ]
  },
  {
   "cell_type": "markdown",
   "id": "4c18ce08",
   "metadata": {},
   "source": [
    "### Annual Emission Savings Per Dwelling Unit"
   ]
  },
  {
   "cell_type": "code",
   "execution_count": 52,
   "id": "a310fa8d",
   "metadata": {},
   "outputs": [
    {
     "name": "stdout",
     "output_type": "stream",
     "text": [
      "segment1\n"
     ]
    },
    {
     "data": {
      "text/plain": [
       "upgrade_name\n",
       "Enhanced Enclosure + High Efficiency Whole Home Electrification    5868.9\n",
       "Basic Enclosure + High Efficiency Whole Home Electrification       5807.8\n",
       "Enhanced Enclosure + HPWH + High Efficiency HP/Electric Backup     5755.4\n",
       "Basic Enclosure + HPWH + High Efficiency HP/Electric Backup        5694.3\n",
       "High Efficiency Whole Home Electrification                         4615.7\n",
       "High Efficiency Heat Pump with Electric Heat Backup                3669.5\n",
       "Enhanced Enclosure                                                 2932.0\n",
       "Basic Enclosure                                                    2565.4\n",
       "Mininum Efficiency Whole Home Electrification                      2450.5\n",
       "Mininum Efficiency Heat Pump with Electric Heat Backup             1675.2\n",
       "Mininum Efficiency Heat Pump with Existing Heat Backup             1539.6\n",
       "Heat Pump Water Heater                                              523.7\n",
       "Heat Pump Clothes Dryer                                              72.0\n",
       "Electric Cooking                                                     57.8\n",
       "Induction Cooking                                                    46.9\n",
       "Electric Clothes Dryer                                               -8.8\n",
       "Name: saving_emission.total_kgCO2e, dtype: float64"
      ]
     },
     "metadata": {},
     "output_type": "display_data"
    },
    {
     "name": "stdout",
     "output_type": "stream",
     "text": [
      "segment2\n"
     ]
    },
    {
     "data": {
      "text/plain": [
       "upgrade_name\n",
       "Enhanced Enclosure + High Efficiency Whole Home Electrification    4218.0\n",
       "Basic Enclosure + High Efficiency Whole Home Electrification       4178.2\n",
       "Enhanced Enclosure + HPWH + High Efficiency HP/Electric Backup     4110.2\n",
       "Basic Enclosure + HPWH + High Efficiency HP/Electric Backup        4070.4\n",
       "High Efficiency Whole Home Electrification                         3497.0\n",
       "High Efficiency Heat Pump with Electric Heat Backup                2628.8\n",
       "Mininum Efficiency Whole Home Electrification                      2007.1\n",
       "Enhanced Enclosure                                                 1927.8\n",
       "Basic Enclosure                                                    1703.9\n",
       "Mininum Efficiency Heat Pump with Electric Heat Backup             1358.3\n",
       "Mininum Efficiency Heat Pump with Existing Heat Backup             1166.3\n",
       "Heat Pump Water Heater                                              451.9\n",
       "Heat Pump Clothes Dryer                                              66.1\n",
       "Electric Cooking                                                     54.7\n",
       "Induction Cooking                                                    49.4\n",
       "Electric Clothes Dryer                                               -9.2\n",
       "Name: saving_emission.total_kgCO2e, dtype: float64"
      ]
     },
     "metadata": {},
     "output_type": "display_data"
    },
    {
     "name": "stdout",
     "output_type": "stream",
     "text": [
      "segment3\n"
     ]
    },
    {
     "data": {
      "text/plain": [
       "upgrade_name\n",
       "Enhanced Enclosure + High Efficiency Whole Home Electrification    2557.9\n",
       "Basic Enclosure + High Efficiency Whole Home Electrification       2514.0\n",
       "Enhanced Enclosure + HPWH + High Efficiency HP/Electric Backup     2493.8\n",
       "Basic Enclosure + HPWH + High Efficiency HP/Electric Backup        2449.9\n",
       "High Efficiency Whole Home Electrification                         2180.2\n",
       "High Efficiency Heat Pump with Electric Heat Backup                1503.3\n",
       "Mininum Efficiency Whole Home Electrification                      1041.8\n",
       "Enhanced Enclosure                                                  943.8\n",
       "Basic Enclosure                                                     834.0\n",
       "Mininum Efficiency Heat Pump with Electric Heat Backup              757.0\n",
       "Mininum Efficiency Heat Pump with Existing Heat Backup              708.2\n",
       "Heat Pump Water Heater                                              384.7\n",
       "Heat Pump Clothes Dryer                                              64.6\n",
       "Electric Cooking                                                     52.9\n",
       "Induction Cooking                                                    39.8\n",
       "Electric Clothes Dryer                                               -7.5\n",
       "Name: saving_emission.total_kgCO2e, dtype: float64"
      ]
     },
     "metadata": {},
     "output_type": "display_data"
    },
    {
     "name": "stdout",
     "output_type": "stream",
     "text": [
      "segment4\n"
     ]
    },
    {
     "data": {
      "text/plain": [
       "upgrade_name\n",
       "Enhanced Enclosure + High Efficiency Whole Home Electrification    3201.7\n",
       "Basic Enclosure + High Efficiency Whole Home Electrification       3156.5\n",
       "Enhanced Enclosure + HPWH + High Efficiency HP/Electric Backup     3124.9\n",
       "Basic Enclosure + HPWH + High Efficiency HP/Electric Backup        3079.7\n",
       "High Efficiency Whole Home Electrification                         2669.6\n",
       "High Efficiency Heat Pump with Electric Heat Backup                1931.0\n",
       "Mininum Efficiency Whole Home Electrification                      1402.1\n",
       "Enhanced Enclosure                                                 1335.2\n",
       "Basic Enclosure                                                    1180.5\n",
       "Mininum Efficiency Heat Pump with Electric Heat Backup              958.9\n",
       "Mininum Efficiency Heat Pump with Existing Heat Backup              877.4\n",
       "Heat Pump Water Heater                                              411.4\n",
       "Heat Pump Clothes Dryer                                              66.5\n",
       "Electric Cooking                                                     53.9\n",
       "Induction Cooking                                                    42.2\n",
       "Electric Clothes Dryer                                               -8.3\n",
       "Name: saving_emission.total_kgCO2e, dtype: float64"
      ]
     },
     "metadata": {},
     "output_type": "display_data"
    }
   ],
   "source": [
    "indicator ='saving_emission.total_kgCO2e'\n",
    "results = segment_mean_savings(indicator, community_results)\n",
    "saving_results[f'segment1_{income}_saving_emission_mean_kgCO2e'] = results[0]\n",
    "saving_results[f'segment2_{income}_saving_emission_mean_kgCO2e'] = results[1]\n",
    "saving_results[f'segment3_{income}_saving_emission_mean_kgCO2e'] = results[2]\n",
    "saving_results[f'segment4_{income}_saving_emission_mean_kgCO2e'] = results[3]"
   ]
  },
  {
   "cell_type": "markdown",
   "id": "ebaaed40",
   "metadata": {},
   "source": [
    "## 2.5. Pecent Stock with Positive and Negtive Savings"
   ]
  },
  {
   "cell_type": "markdown",
   "id": "2660dc7b",
   "metadata": {},
   "source": [
    "### Segment 1"
   ]
  },
  {
   "cell_type": "code",
   "execution_count": 53,
   "id": "361be888",
   "metadata": {},
   "outputs": [
    {
     "data": {
      "application/vnd.plotly.v1+json": {
       "config": {
        "plotlyServerURL": "https://plot.ly"
       },
       "data": [
        {
         "marker": {
          "color": "red"
         },
         "name": "Negative",
         "orientation": "h",
         "text": [
          1,
          1,
          0.9915966386554622,
          0.9790794979079498,
          0.8669527896995708,
          0.6234309623430963,
          0.6201923076923077,
          0.5899581589958159,
          0.5439330543933054,
          0.4393939393939394,
          0.16736401673640167,
          0.16317991631799164,
          0.15481171548117154,
          0.1506276150627615,
          0,
          0
         ],
         "textposition": "inside",
         "texttemplate": "%{text:.0%}",
         "type": "bar",
         "x": [
          1,
          1,
          0.9915966386554622,
          0.9790794979079498,
          0.8669527896995708,
          0.6234309623430963,
          0.6201923076923077,
          0.5899581589958159,
          0.5439330543933054,
          0.4393939393939394,
          0.16736401673640167,
          0.16317991631799164,
          0.15481171548117154,
          0.1506276150627615,
          0,
          0
         ],
         "xaxis": "x",
         "y": [
          "Electric Clothes Dryer",
          "Electric Cooking",
          "Mininum Efficiency Whole Home Electrification",
          "Mininum Efficiency Heat Pump with Electric Heat Backup",
          "Mininum Efficiency Heat Pump with Existing Heat Backup",
          "High Efficiency Heat Pump with Electric Heat Backup",
          "Induction Cooking",
          "High Efficiency Whole Home Electrification",
          "Heat Pump Water Heater",
          "Heat Pump Clothes Dryer",
          "Basic Enclosure + High Efficiency Whole Home Electrification",
          "Basic Enclosure + HPWH + High Efficiency HP/Electric Backup",
          "Enhanced Enclosure + HPWH + High Efficiency HP/Electric Backup",
          "Enhanced Enclosure + High Efficiency Whole Home Electrification",
          "Basic Enclosure",
          "Enhanced Enclosure"
         ],
         "yaxis": "y"
        },
        {
         "marker": {
          "color": "green"
         },
         "name": "Positive",
         "orientation": "h",
         "text": [
          0,
          0,
          0.008403361344537815,
          0.02092050209205021,
          0.13304721030042918,
          0.37656903765690375,
          0.3798076923076923,
          0.4100418410041841,
          0.4560669456066946,
          0.5606060606060606,
          0.8326359832635983,
          0.8368200836820083,
          0.8451882845188284,
          0.8493723849372385,
          1,
          1
         ],
         "textposition": "inside",
         "texttemplate": "%{text:.0%}",
         "type": "bar",
         "x": [
          0,
          0,
          0.008403361344537815,
          0.02092050209205021,
          0.13304721030042918,
          0.37656903765690375,
          0.3798076923076923,
          0.4100418410041841,
          0.4560669456066946,
          0.5606060606060606,
          0.8326359832635983,
          0.8368200836820083,
          0.8451882845188284,
          0.8493723849372385,
          1,
          1
         ],
         "xaxis": "x",
         "y": [
          "Electric Clothes Dryer",
          "Electric Cooking",
          "Mininum Efficiency Whole Home Electrification",
          "Mininum Efficiency Heat Pump with Electric Heat Backup",
          "Mininum Efficiency Heat Pump with Existing Heat Backup",
          "High Efficiency Heat Pump with Electric Heat Backup",
          "Induction Cooking",
          "High Efficiency Whole Home Electrification",
          "Heat Pump Water Heater",
          "Heat Pump Clothes Dryer",
          "Basic Enclosure + High Efficiency Whole Home Electrification",
          "Basic Enclosure + HPWH + High Efficiency HP/Electric Backup",
          "Enhanced Enclosure + HPWH + High Efficiency HP/Electric Backup",
          "Enhanced Enclosure + High Efficiency Whole Home Electrification",
          "Basic Enclosure",
          "Enhanced Enclosure"
         ],
         "yaxis": "y"
        },
        {
         "marker": {
          "color": "red"
         },
         "orientation": "h",
         "showlegend": false,
         "text": [
          0.8735632183908046,
          0,
          0.0546218487394958,
          0.11715481171548117,
          0.26609442060085836,
          0.02510460251046025,
          0,
          0.016736401673640166,
          0.0041841004184100415,
          0,
          0.016736401673640166,
          0.016736401673640166,
          0.016736401673640166,
          0.016736401673640166,
          0,
          0
         ],
         "textposition": "inside",
         "texttemplate": "%{text:.0%}",
         "type": "bar",
         "x": [
          0.8735632183908046,
          0,
          0.0546218487394958,
          0.11715481171548117,
          0.26609442060085836,
          0.02510460251046025,
          0,
          0.016736401673640166,
          0.0041841004184100415,
          0,
          0.016736401673640166,
          0.016736401673640166,
          0.016736401673640166,
          0.016736401673640166,
          0,
          0
         ],
         "xaxis": "x2",
         "y": [
          "Electric Clothes Dryer",
          "Electric Cooking",
          "Mininum Efficiency Whole Home Electrification",
          "Mininum Efficiency Heat Pump with Electric Heat Backup",
          "Mininum Efficiency Heat Pump with Existing Heat Backup",
          "High Efficiency Heat Pump with Electric Heat Backup",
          "Induction Cooking",
          "High Efficiency Whole Home Electrification",
          "Heat Pump Water Heater",
          "Heat Pump Clothes Dryer",
          "Basic Enclosure + High Efficiency Whole Home Electrification",
          "Basic Enclosure + HPWH + High Efficiency HP/Electric Backup",
          "Enhanced Enclosure + HPWH + High Efficiency HP/Electric Backup",
          "Enhanced Enclosure + High Efficiency Whole Home Electrification",
          "Basic Enclosure",
          "Enhanced Enclosure"
         ],
         "yaxis": "y2"
        },
        {
         "marker": {
          "color": "green"
         },
         "orientation": "h",
         "showlegend": false,
         "text": [
          0.12643678160919541,
          1,
          0.9453781512605042,
          0.8828451882845189,
          0.7339055793991416,
          0.9748953974895398,
          1,
          0.9832635983263598,
          0.99581589958159,
          1,
          0.9832635983263598,
          0.9832635983263598,
          0.9832635983263598,
          0.9832635983263598,
          1,
          1
         ],
         "textposition": "inside",
         "texttemplate": "%{text:.0%}",
         "type": "bar",
         "x": [
          0.12643678160919541,
          1,
          0.9453781512605042,
          0.8828451882845189,
          0.7339055793991416,
          0.9748953974895398,
          1,
          0.9832635983263598,
          0.99581589958159,
          1,
          0.9832635983263598,
          0.9832635983263598,
          0.9832635983263598,
          0.9832635983263598,
          1,
          1
         ],
         "xaxis": "x2",
         "y": [
          "Electric Clothes Dryer",
          "Electric Cooking",
          "Mininum Efficiency Whole Home Electrification",
          "Mininum Efficiency Heat Pump with Electric Heat Backup",
          "Mininum Efficiency Heat Pump with Existing Heat Backup",
          "High Efficiency Heat Pump with Electric Heat Backup",
          "Induction Cooking",
          "High Efficiency Whole Home Electrification",
          "Heat Pump Water Heater",
          "Heat Pump Clothes Dryer",
          "Basic Enclosure + High Efficiency Whole Home Electrification",
          "Basic Enclosure + HPWH + High Efficiency HP/Electric Backup",
          "Enhanced Enclosure + HPWH + High Efficiency HP/Electric Backup",
          "Enhanced Enclosure + High Efficiency Whole Home Electrification",
          "Basic Enclosure",
          "Enhanced Enclosure"
         ],
         "yaxis": "y2"
        },
        {
         "marker": {
          "color": "red"
         },
         "orientation": "h",
         "showlegend": false,
         "text": [
          0,
          0,
          0.02100840336134454,
          0.02510460251046025,
          0.18454935622317598,
          0.02510460251046025,
          0,
          0.016736401673640166,
          0.008368200836820083,
          0,
          0.016736401673640166,
          0.016736401673640166,
          0.016736401673640166,
          0.016736401673640166,
          0,
          0
         ],
         "textposition": "inside",
         "texttemplate": "%{text:.0%}",
         "type": "bar",
         "x": [
          0,
          0,
          0.02100840336134454,
          0.02510460251046025,
          0.18454935622317598,
          0.02510460251046025,
          0,
          0.016736401673640166,
          0.008368200836820083,
          0,
          0.016736401673640166,
          0.016736401673640166,
          0.016736401673640166,
          0.016736401673640166,
          0,
          0
         ],
         "xaxis": "x3",
         "y": [
          "Electric Clothes Dryer",
          "Electric Cooking",
          "Mininum Efficiency Whole Home Electrification",
          "Mininum Efficiency Heat Pump with Electric Heat Backup",
          "Mininum Efficiency Heat Pump with Existing Heat Backup",
          "High Efficiency Heat Pump with Electric Heat Backup",
          "Induction Cooking",
          "High Efficiency Whole Home Electrification",
          "Heat Pump Water Heater",
          "Heat Pump Clothes Dryer",
          "Basic Enclosure + High Efficiency Whole Home Electrification",
          "Basic Enclosure + HPWH + High Efficiency HP/Electric Backup",
          "Enhanced Enclosure + HPWH + High Efficiency HP/Electric Backup",
          "Enhanced Enclosure + High Efficiency Whole Home Electrification",
          "Basic Enclosure",
          "Enhanced Enclosure"
         ],
         "yaxis": "y3"
        },
        {
         "marker": {
          "color": "green"
         },
         "orientation": "h",
         "showlegend": false,
         "text": [
          1,
          1,
          0.9789915966386554,
          0.9748953974895398,
          0.8154506437768241,
          0.9748953974895398,
          1,
          0.9832635983263598,
          0.9916317991631799,
          1,
          0.9832635983263598,
          0.9832635983263598,
          0.9832635983263598,
          0.9832635983263598,
          1,
          1
         ],
         "textposition": "inside",
         "texttemplate": "%{text:.0%}",
         "type": "bar",
         "x": [
          1,
          1,
          0.9789915966386554,
          0.9748953974895398,
          0.8154506437768241,
          0.9748953974895398,
          1,
          0.9832635983263598,
          0.9916317991631799,
          1,
          0.9832635983263598,
          0.9832635983263598,
          0.9832635983263598,
          0.9832635983263598,
          1,
          1
         ],
         "xaxis": "x3",
         "y": [
          "Electric Clothes Dryer",
          "Electric Cooking",
          "Mininum Efficiency Whole Home Electrification",
          "Mininum Efficiency Heat Pump with Electric Heat Backup",
          "Mininum Efficiency Heat Pump with Existing Heat Backup",
          "High Efficiency Heat Pump with Electric Heat Backup",
          "Induction Cooking",
          "High Efficiency Whole Home Electrification",
          "Heat Pump Water Heater",
          "Heat Pump Clothes Dryer",
          "Basic Enclosure + High Efficiency Whole Home Electrification",
          "Basic Enclosure + HPWH + High Efficiency HP/Electric Backup",
          "Enhanced Enclosure + HPWH + High Efficiency HP/Electric Backup",
          "Enhanced Enclosure + High Efficiency Whole Home Electrification",
          "Basic Enclosure",
          "Enhanced Enclosure"
         ],
         "yaxis": "y3"
        }
       ],
       "layout": {
        "autosize": false,
        "barmode": "relative",
        "font": {
         "size": 10
        },
        "height": 500,
        "template": {
         "data": {
          "bar": [
           {
            "error_x": {
             "color": "#2a3f5f"
            },
            "error_y": {
             "color": "#2a3f5f"
            },
            "marker": {
             "line": {
              "color": "#E5ECF6",
              "width": 0.5
             },
             "pattern": {
              "fillmode": "overlay",
              "size": 10,
              "solidity": 0.2
             }
            },
            "type": "bar"
           }
          ],
          "barpolar": [
           {
            "marker": {
             "line": {
              "color": "#E5ECF6",
              "width": 0.5
             },
             "pattern": {
              "fillmode": "overlay",
              "size": 10,
              "solidity": 0.2
             }
            },
            "type": "barpolar"
           }
          ],
          "carpet": [
           {
            "aaxis": {
             "endlinecolor": "#2a3f5f",
             "gridcolor": "white",
             "linecolor": "white",
             "minorgridcolor": "white",
             "startlinecolor": "#2a3f5f"
            },
            "baxis": {
             "endlinecolor": "#2a3f5f",
             "gridcolor": "white",
             "linecolor": "white",
             "minorgridcolor": "white",
             "startlinecolor": "#2a3f5f"
            },
            "type": "carpet"
           }
          ],
          "choropleth": [
           {
            "colorbar": {
             "outlinewidth": 0,
             "ticks": ""
            },
            "type": "choropleth"
           }
          ],
          "contour": [
           {
            "colorbar": {
             "outlinewidth": 0,
             "ticks": ""
            },
            "colorscale": [
             [
              0,
              "#0d0887"
             ],
             [
              0.1111111111111111,
              "#46039f"
             ],
             [
              0.2222222222222222,
              "#7201a8"
             ],
             [
              0.3333333333333333,
              "#9c179e"
             ],
             [
              0.4444444444444444,
              "#bd3786"
             ],
             [
              0.5555555555555556,
              "#d8576b"
             ],
             [
              0.6666666666666666,
              "#ed7953"
             ],
             [
              0.7777777777777778,
              "#fb9f3a"
             ],
             [
              0.8888888888888888,
              "#fdca26"
             ],
             [
              1,
              "#f0f921"
             ]
            ],
            "type": "contour"
           }
          ],
          "contourcarpet": [
           {
            "colorbar": {
             "outlinewidth": 0,
             "ticks": ""
            },
            "type": "contourcarpet"
           }
          ],
          "heatmap": [
           {
            "colorbar": {
             "outlinewidth": 0,
             "ticks": ""
            },
            "colorscale": [
             [
              0,
              "#0d0887"
             ],
             [
              0.1111111111111111,
              "#46039f"
             ],
             [
              0.2222222222222222,
              "#7201a8"
             ],
             [
              0.3333333333333333,
              "#9c179e"
             ],
             [
              0.4444444444444444,
              "#bd3786"
             ],
             [
              0.5555555555555556,
              "#d8576b"
             ],
             [
              0.6666666666666666,
              "#ed7953"
             ],
             [
              0.7777777777777778,
              "#fb9f3a"
             ],
             [
              0.8888888888888888,
              "#fdca26"
             ],
             [
              1,
              "#f0f921"
             ]
            ],
            "type": "heatmap"
           }
          ],
          "heatmapgl": [
           {
            "colorbar": {
             "outlinewidth": 0,
             "ticks": ""
            },
            "colorscale": [
             [
              0,
              "#0d0887"
             ],
             [
              0.1111111111111111,
              "#46039f"
             ],
             [
              0.2222222222222222,
              "#7201a8"
             ],
             [
              0.3333333333333333,
              "#9c179e"
             ],
             [
              0.4444444444444444,
              "#bd3786"
             ],
             [
              0.5555555555555556,
              "#d8576b"
             ],
             [
              0.6666666666666666,
              "#ed7953"
             ],
             [
              0.7777777777777778,
              "#fb9f3a"
             ],
             [
              0.8888888888888888,
              "#fdca26"
             ],
             [
              1,
              "#f0f921"
             ]
            ],
            "type": "heatmapgl"
           }
          ],
          "histogram": [
           {
            "marker": {
             "pattern": {
              "fillmode": "overlay",
              "size": 10,
              "solidity": 0.2
             }
            },
            "type": "histogram"
           }
          ],
          "histogram2d": [
           {
            "colorbar": {
             "outlinewidth": 0,
             "ticks": ""
            },
            "colorscale": [
             [
              0,
              "#0d0887"
             ],
             [
              0.1111111111111111,
              "#46039f"
             ],
             [
              0.2222222222222222,
              "#7201a8"
             ],
             [
              0.3333333333333333,
              "#9c179e"
             ],
             [
              0.4444444444444444,
              "#bd3786"
             ],
             [
              0.5555555555555556,
              "#d8576b"
             ],
             [
              0.6666666666666666,
              "#ed7953"
             ],
             [
              0.7777777777777778,
              "#fb9f3a"
             ],
             [
              0.8888888888888888,
              "#fdca26"
             ],
             [
              1,
              "#f0f921"
             ]
            ],
            "type": "histogram2d"
           }
          ],
          "histogram2dcontour": [
           {
            "colorbar": {
             "outlinewidth": 0,
             "ticks": ""
            },
            "colorscale": [
             [
              0,
              "#0d0887"
             ],
             [
              0.1111111111111111,
              "#46039f"
             ],
             [
              0.2222222222222222,
              "#7201a8"
             ],
             [
              0.3333333333333333,
              "#9c179e"
             ],
             [
              0.4444444444444444,
              "#bd3786"
             ],
             [
              0.5555555555555556,
              "#d8576b"
             ],
             [
              0.6666666666666666,
              "#ed7953"
             ],
             [
              0.7777777777777778,
              "#fb9f3a"
             ],
             [
              0.8888888888888888,
              "#fdca26"
             ],
             [
              1,
              "#f0f921"
             ]
            ],
            "type": "histogram2dcontour"
           }
          ],
          "mesh3d": [
           {
            "colorbar": {
             "outlinewidth": 0,
             "ticks": ""
            },
            "type": "mesh3d"
           }
          ],
          "parcoords": [
           {
            "line": {
             "colorbar": {
              "outlinewidth": 0,
              "ticks": ""
             }
            },
            "type": "parcoords"
           }
          ],
          "pie": [
           {
            "automargin": true,
            "type": "pie"
           }
          ],
          "scatter": [
           {
            "fillpattern": {
             "fillmode": "overlay",
             "size": 10,
             "solidity": 0.2
            },
            "type": "scatter"
           }
          ],
          "scatter3d": [
           {
            "line": {
             "colorbar": {
              "outlinewidth": 0,
              "ticks": ""
             }
            },
            "marker": {
             "colorbar": {
              "outlinewidth": 0,
              "ticks": ""
             }
            },
            "type": "scatter3d"
           }
          ],
          "scattercarpet": [
           {
            "marker": {
             "colorbar": {
              "outlinewidth": 0,
              "ticks": ""
             }
            },
            "type": "scattercarpet"
           }
          ],
          "scattergeo": [
           {
            "marker": {
             "colorbar": {
              "outlinewidth": 0,
              "ticks": ""
             }
            },
            "type": "scattergeo"
           }
          ],
          "scattergl": [
           {
            "marker": {
             "colorbar": {
              "outlinewidth": 0,
              "ticks": ""
             }
            },
            "type": "scattergl"
           }
          ],
          "scattermapbox": [
           {
            "marker": {
             "colorbar": {
              "outlinewidth": 0,
              "ticks": ""
             }
            },
            "type": "scattermapbox"
           }
          ],
          "scatterpolar": [
           {
            "marker": {
             "colorbar": {
              "outlinewidth": 0,
              "ticks": ""
             }
            },
            "type": "scatterpolar"
           }
          ],
          "scatterpolargl": [
           {
            "marker": {
             "colorbar": {
              "outlinewidth": 0,
              "ticks": ""
             }
            },
            "type": "scatterpolargl"
           }
          ],
          "scatterternary": [
           {
            "marker": {
             "colorbar": {
              "outlinewidth": 0,
              "ticks": ""
             }
            },
            "type": "scatterternary"
           }
          ],
          "surface": [
           {
            "colorbar": {
             "outlinewidth": 0,
             "ticks": ""
            },
            "colorscale": [
             [
              0,
              "#0d0887"
             ],
             [
              0.1111111111111111,
              "#46039f"
             ],
             [
              0.2222222222222222,
              "#7201a8"
             ],
             [
              0.3333333333333333,
              "#9c179e"
             ],
             [
              0.4444444444444444,
              "#bd3786"
             ],
             [
              0.5555555555555556,
              "#d8576b"
             ],
             [
              0.6666666666666666,
              "#ed7953"
             ],
             [
              0.7777777777777778,
              "#fb9f3a"
             ],
             [
              0.8888888888888888,
              "#fdca26"
             ],
             [
              1,
              "#f0f921"
             ]
            ],
            "type": "surface"
           }
          ],
          "table": [
           {
            "cells": {
             "fill": {
              "color": "#EBF0F8"
             },
             "line": {
              "color": "white"
             }
            },
            "header": {
             "fill": {
              "color": "#C8D4E3"
             },
             "line": {
              "color": "white"
             }
            },
            "type": "table"
           }
          ]
         },
         "layout": {
          "annotationdefaults": {
           "arrowcolor": "#2a3f5f",
           "arrowhead": 0,
           "arrowwidth": 1
          },
          "autotypenumbers": "strict",
          "coloraxis": {
           "colorbar": {
            "outlinewidth": 0,
            "ticks": ""
           }
          },
          "colorscale": {
           "diverging": [
            [
             0,
             "#8e0152"
            ],
            [
             0.1,
             "#c51b7d"
            ],
            [
             0.2,
             "#de77ae"
            ],
            [
             0.3,
             "#f1b6da"
            ],
            [
             0.4,
             "#fde0ef"
            ],
            [
             0.5,
             "#f7f7f7"
            ],
            [
             0.6,
             "#e6f5d0"
            ],
            [
             0.7,
             "#b8e186"
            ],
            [
             0.8,
             "#7fbc41"
            ],
            [
             0.9,
             "#4d9221"
            ],
            [
             1,
             "#276419"
            ]
           ],
           "sequential": [
            [
             0,
             "#0d0887"
            ],
            [
             0.1111111111111111,
             "#46039f"
            ],
            [
             0.2222222222222222,
             "#7201a8"
            ],
            [
             0.3333333333333333,
             "#9c179e"
            ],
            [
             0.4444444444444444,
             "#bd3786"
            ],
            [
             0.5555555555555556,
             "#d8576b"
            ],
            [
             0.6666666666666666,
             "#ed7953"
            ],
            [
             0.7777777777777778,
             "#fb9f3a"
            ],
            [
             0.8888888888888888,
             "#fdca26"
            ],
            [
             1,
             "#f0f921"
            ]
           ],
           "sequentialminus": [
            [
             0,
             "#0d0887"
            ],
            [
             0.1111111111111111,
             "#46039f"
            ],
            [
             0.2222222222222222,
             "#7201a8"
            ],
            [
             0.3333333333333333,
             "#9c179e"
            ],
            [
             0.4444444444444444,
             "#bd3786"
            ],
            [
             0.5555555555555556,
             "#d8576b"
            ],
            [
             0.6666666666666666,
             "#ed7953"
            ],
            [
             0.7777777777777778,
             "#fb9f3a"
            ],
            [
             0.8888888888888888,
             "#fdca26"
            ],
            [
             1,
             "#f0f921"
            ]
           ]
          },
          "colorway": [
           "#636efa",
           "#EF553B",
           "#00cc96",
           "#ab63fa",
           "#FFA15A",
           "#19d3f3",
           "#FF6692",
           "#B6E880",
           "#FF97FF",
           "#FECB52"
          ],
          "font": {
           "color": "#2a3f5f"
          },
          "geo": {
           "bgcolor": "white",
           "lakecolor": "white",
           "landcolor": "#E5ECF6",
           "showlakes": true,
           "showland": true,
           "subunitcolor": "white"
          },
          "hoverlabel": {
           "align": "left"
          },
          "hovermode": "closest",
          "mapbox": {
           "style": "light"
          },
          "paper_bgcolor": "white",
          "plot_bgcolor": "#E5ECF6",
          "polar": {
           "angularaxis": {
            "gridcolor": "white",
            "linecolor": "white",
            "ticks": ""
           },
           "bgcolor": "#E5ECF6",
           "radialaxis": {
            "gridcolor": "white",
            "linecolor": "white",
            "ticks": ""
           }
          },
          "scene": {
           "xaxis": {
            "backgroundcolor": "#E5ECF6",
            "gridcolor": "white",
            "gridwidth": 2,
            "linecolor": "white",
            "showbackground": true,
            "ticks": "",
            "zerolinecolor": "white"
           },
           "yaxis": {
            "backgroundcolor": "#E5ECF6",
            "gridcolor": "white",
            "gridwidth": 2,
            "linecolor": "white",
            "showbackground": true,
            "ticks": "",
            "zerolinecolor": "white"
           },
           "zaxis": {
            "backgroundcolor": "#E5ECF6",
            "gridcolor": "white",
            "gridwidth": 2,
            "linecolor": "white",
            "showbackground": true,
            "ticks": "",
            "zerolinecolor": "white"
           }
          },
          "shapedefaults": {
           "line": {
            "color": "#2a3f5f"
           }
          },
          "ternary": {
           "aaxis": {
            "gridcolor": "white",
            "linecolor": "white",
            "ticks": ""
           },
           "baxis": {
            "gridcolor": "white",
            "linecolor": "white",
            "ticks": ""
           },
           "bgcolor": "#E5ECF6",
           "caxis": {
            "gridcolor": "white",
            "linecolor": "white",
            "ticks": ""
           }
          },
          "title": {
           "x": 0.05
          },
          "xaxis": {
           "automargin": true,
           "gridcolor": "white",
           "linecolor": "white",
           "ticks": "",
           "title": {
            "standoff": 15
           },
           "zerolinecolor": "white",
           "zerolinewidth": 2
          },
          "yaxis": {
           "automargin": true,
           "gridcolor": "white",
           "linecolor": "white",
           "ticks": "",
           "title": {
            "standoff": 15
           },
           "zerolinecolor": "white",
           "zerolinewidth": 2
          }
         }
        },
        "title": {
         "text": "Percentage of Household in Positive and Negative Savings"
        },
        "width": 1000,
        "xaxis": {
         "anchor": "y",
         "domain": [
          0,
          0.2888888888888889
         ],
         "tickformat": ",.0%",
         "title": {
          "text": "Bill"
         },
         "visible": true
        },
        "xaxis2": {
         "anchor": "y2",
         "domain": [
          0.35555555555555557,
          0.6444444444444445
         ],
         "tickformat": ",.0%",
         "title": {
          "text": "Emission"
         },
         "visible": true
        },
        "xaxis3": {
         "anchor": "y3",
         "domain": [
          0.7111111111111111,
          1
         ],
         "tickformat": ",.0%",
         "title": {
          "text": "Total Energy"
         },
         "visible": true
        },
        "yaxis": {
         "anchor": "x",
         "domain": [
          0,
          1
         ],
         "visible": true
        },
        "yaxis2": {
         "anchor": "x2",
         "domain": [
          0,
          1
         ],
         "visible": false
        },
        "yaxis3": {
         "anchor": "x3",
         "domain": [
          0,
          1
         ],
         "visible": false
        }
       }
      }
     },
     "metadata": {},
     "output_type": "display_data"
    }
   ],
   "source": [
    "segment = 'segment1'\n",
    "results = figure_positive_negative_savings(segment, community_results) \n",
    "saving_results[f'segment1_{income}_pct_bill_positive_savings_%'] = results[0]*100\n",
    "saving_results[f'segment1_{income}_pct_emission_positive_savings_%'] = results[1]*100\n",
    "saving_results[f'segment1_{income}_pct_energy_positive_savings_%'] = results[2]*100"
   ]
  },
  {
   "cell_type": "markdown",
   "id": "f3357f7f",
   "metadata": {},
   "source": [
    "### Segment 2"
   ]
  },
  {
   "cell_type": "code",
   "execution_count": 54,
   "id": "362580ae",
   "metadata": {},
   "outputs": [
    {
     "data": {
      "application/vnd.plotly.v1+json": {
       "config": {
        "plotlyServerURL": "https://plot.ly"
       },
       "data": [
        {
         "marker": {
          "color": "red"
         },
         "name": "Negative",
         "orientation": "h",
         "text": [
          1,
          1,
          0.9970238095238095,
          0.9293785310734464,
          0.8413597733711048,
          0.73,
          0.5539772727272727,
          0.5028248587570622,
          0.4689265536723164,
          0.336996336996337,
          0.13559322033898305,
          0.1327683615819209,
          0.12146892655367232,
          0.11581920903954802,
          0.002824858757062147,
          0.002824858757062147
         ],
         "textposition": "inside",
         "texttemplate": "%{text:.0%}",
         "type": "bar",
         "x": [
          1,
          1,
          0.9970238095238095,
          0.9293785310734464,
          0.8413597733711048,
          0.73,
          0.5539772727272727,
          0.5028248587570622,
          0.4689265536723164,
          0.336996336996337,
          0.13559322033898305,
          0.1327683615819209,
          0.12146892655367232,
          0.11581920903954802,
          0.002824858757062147,
          0.002824858757062147
         ],
         "xaxis": "x",
         "y": [
          "Electric Clothes Dryer",
          "Electric Cooking",
          "Mininum Efficiency Whole Home Electrification",
          "Mininum Efficiency Heat Pump with Electric Heat Backup",
          "Mininum Efficiency Heat Pump with Existing Heat Backup",
          "Induction Cooking",
          "Heat Pump Water Heater",
          "High Efficiency Heat Pump with Electric Heat Backup",
          "High Efficiency Whole Home Electrification",
          "Heat Pump Clothes Dryer",
          "Basic Enclosure + HPWH + High Efficiency HP/Electric Backup",
          "Basic Enclosure + High Efficiency Whole Home Electrification",
          "Enhanced Enclosure + HPWH + High Efficiency HP/Electric Backup",
          "Enhanced Enclosure + High Efficiency Whole Home Electrification",
          "Basic Enclosure",
          "Enhanced Enclosure"
         ],
         "yaxis": "y"
        },
        {
         "marker": {
          "color": "green"
         },
         "name": "Positive",
         "orientation": "h",
         "text": [
          0,
          0,
          0.002976190476190476,
          0.07062146892655367,
          0.15864022662889518,
          0.27,
          0.4460227272727273,
          0.4971751412429379,
          0.5310734463276836,
          0.663003663003663,
          0.864406779661017,
          0.867231638418079,
          0.8785310734463276,
          0.884180790960452,
          0.9971751412429378,
          0.9971751412429378
         ],
         "textposition": "inside",
         "texttemplate": "%{text:.0%}",
         "type": "bar",
         "x": [
          0,
          0,
          0.002976190476190476,
          0.07062146892655367,
          0.15864022662889518,
          0.27,
          0.4460227272727273,
          0.4971751412429379,
          0.5310734463276836,
          0.663003663003663,
          0.864406779661017,
          0.867231638418079,
          0.8785310734463276,
          0.884180790960452,
          0.9971751412429378,
          0.9971751412429378
         ],
         "xaxis": "x",
         "y": [
          "Electric Clothes Dryer",
          "Electric Cooking",
          "Mininum Efficiency Whole Home Electrification",
          "Mininum Efficiency Heat Pump with Electric Heat Backup",
          "Mininum Efficiency Heat Pump with Existing Heat Backup",
          "Induction Cooking",
          "Heat Pump Water Heater",
          "High Efficiency Heat Pump with Electric Heat Backup",
          "High Efficiency Whole Home Electrification",
          "Heat Pump Clothes Dryer",
          "Basic Enclosure + HPWH + High Efficiency HP/Electric Backup",
          "Basic Enclosure + High Efficiency Whole Home Electrification",
          "Enhanced Enclosure + HPWH + High Efficiency HP/Electric Backup",
          "Enhanced Enclosure + High Efficiency Whole Home Electrification",
          "Basic Enclosure",
          "Enhanced Enclosure"
         ],
         "yaxis": "y"
        },
        {
         "marker": {
          "color": "red"
         },
         "orientation": "h",
         "showlegend": false,
         "text": [
          0.9456521739130435,
          0,
          0.017857142857142856,
          0.11864406779661017,
          0.23229461756373937,
          0,
          0.005681818181818182,
          0.005649717514124294,
          0,
          0,
          0,
          0,
          0,
          0,
          0,
          0
         ],
         "textposition": "inside",
         "texttemplate": "%{text:.0%}",
         "type": "bar",
         "x": [
          0.9456521739130435,
          0,
          0.017857142857142856,
          0.11864406779661017,
          0.23229461756373937,
          0,
          0.005681818181818182,
          0.005649717514124294,
          0,
          0,
          0,
          0,
          0,
          0,
          0,
          0
         ],
         "xaxis": "x2",
         "y": [
          "Electric Clothes Dryer",
          "Electric Cooking",
          "Mininum Efficiency Whole Home Electrification",
          "Mininum Efficiency Heat Pump with Electric Heat Backup",
          "Mininum Efficiency Heat Pump with Existing Heat Backup",
          "Induction Cooking",
          "Heat Pump Water Heater",
          "High Efficiency Heat Pump with Electric Heat Backup",
          "High Efficiency Whole Home Electrification",
          "Heat Pump Clothes Dryer",
          "Basic Enclosure + HPWH + High Efficiency HP/Electric Backup",
          "Basic Enclosure + High Efficiency Whole Home Electrification",
          "Enhanced Enclosure + HPWH + High Efficiency HP/Electric Backup",
          "Enhanced Enclosure + High Efficiency Whole Home Electrification",
          "Basic Enclosure",
          "Enhanced Enclosure"
         ],
         "yaxis": "y2"
        },
        {
         "marker": {
          "color": "green"
         },
         "orientation": "h",
         "showlegend": false,
         "text": [
          0.05434782608695652,
          1,
          0.9821428571428571,
          0.8813559322033898,
          0.7677053824362606,
          1,
          0.9943181818181818,
          0.9943502824858758,
          1,
          1,
          1,
          1,
          1,
          1,
          1,
          1
         ],
         "textposition": "inside",
         "texttemplate": "%{text:.0%}",
         "type": "bar",
         "x": [
          0.05434782608695652,
          1,
          0.9821428571428571,
          0.8813559322033898,
          0.7677053824362606,
          1,
          0.9943181818181818,
          0.9943502824858758,
          1,
          1,
          1,
          1,
          1,
          1,
          1,
          1
         ],
         "xaxis": "x2",
         "y": [
          "Electric Clothes Dryer",
          "Electric Cooking",
          "Mininum Efficiency Whole Home Electrification",
          "Mininum Efficiency Heat Pump with Electric Heat Backup",
          "Mininum Efficiency Heat Pump with Existing Heat Backup",
          "Induction Cooking",
          "Heat Pump Water Heater",
          "High Efficiency Heat Pump with Electric Heat Backup",
          "High Efficiency Whole Home Electrification",
          "Heat Pump Clothes Dryer",
          "Basic Enclosure + HPWH + High Efficiency HP/Electric Backup",
          "Basic Enclosure + High Efficiency Whole Home Electrification",
          "Enhanced Enclosure + HPWH + High Efficiency HP/Electric Backup",
          "Enhanced Enclosure + High Efficiency Whole Home Electrification",
          "Basic Enclosure",
          "Enhanced Enclosure"
         ],
         "yaxis": "y2"
        },
        {
         "marker": {
          "color": "red"
         },
         "orientation": "h",
         "showlegend": false,
         "text": [
          0,
          0,
          0,
          0.005649717514124294,
          0.1671388101983003,
          0,
          0.005681818181818182,
          0.002824858757062147,
          0,
          0,
          0,
          0,
          0,
          0,
          0,
          0
         ],
         "textposition": "inside",
         "texttemplate": "%{text:.0%}",
         "type": "bar",
         "x": [
          0,
          0,
          0,
          0.005649717514124294,
          0.1671388101983003,
          0,
          0.005681818181818182,
          0.002824858757062147,
          0,
          0,
          0,
          0,
          0,
          0,
          0,
          0
         ],
         "xaxis": "x3",
         "y": [
          "Electric Clothes Dryer",
          "Electric Cooking",
          "Mininum Efficiency Whole Home Electrification",
          "Mininum Efficiency Heat Pump with Electric Heat Backup",
          "Mininum Efficiency Heat Pump with Existing Heat Backup",
          "Induction Cooking",
          "Heat Pump Water Heater",
          "High Efficiency Heat Pump with Electric Heat Backup",
          "High Efficiency Whole Home Electrification",
          "Heat Pump Clothes Dryer",
          "Basic Enclosure + HPWH + High Efficiency HP/Electric Backup",
          "Basic Enclosure + High Efficiency Whole Home Electrification",
          "Enhanced Enclosure + HPWH + High Efficiency HP/Electric Backup",
          "Enhanced Enclosure + High Efficiency Whole Home Electrification",
          "Basic Enclosure",
          "Enhanced Enclosure"
         ],
         "yaxis": "y3"
        },
        {
         "marker": {
          "color": "green"
         },
         "orientation": "h",
         "showlegend": false,
         "text": [
          1,
          1,
          1,
          0.9943502824858758,
          0.8328611898016998,
          1,
          0.9943181818181818,
          0.9971751412429378,
          1,
          1,
          1,
          1,
          1,
          1,
          1,
          1
         ],
         "textposition": "inside",
         "texttemplate": "%{text:.0%}",
         "type": "bar",
         "x": [
          1,
          1,
          1,
          0.9943502824858758,
          0.8328611898016998,
          1,
          0.9943181818181818,
          0.9971751412429378,
          1,
          1,
          1,
          1,
          1,
          1,
          1,
          1
         ],
         "xaxis": "x3",
         "y": [
          "Electric Clothes Dryer",
          "Electric Cooking",
          "Mininum Efficiency Whole Home Electrification",
          "Mininum Efficiency Heat Pump with Electric Heat Backup",
          "Mininum Efficiency Heat Pump with Existing Heat Backup",
          "Induction Cooking",
          "Heat Pump Water Heater",
          "High Efficiency Heat Pump with Electric Heat Backup",
          "High Efficiency Whole Home Electrification",
          "Heat Pump Clothes Dryer",
          "Basic Enclosure + HPWH + High Efficiency HP/Electric Backup",
          "Basic Enclosure + High Efficiency Whole Home Electrification",
          "Enhanced Enclosure + HPWH + High Efficiency HP/Electric Backup",
          "Enhanced Enclosure + High Efficiency Whole Home Electrification",
          "Basic Enclosure",
          "Enhanced Enclosure"
         ],
         "yaxis": "y3"
        }
       ],
       "layout": {
        "autosize": false,
        "barmode": "relative",
        "font": {
         "size": 10
        },
        "height": 500,
        "template": {
         "data": {
          "bar": [
           {
            "error_x": {
             "color": "#2a3f5f"
            },
            "error_y": {
             "color": "#2a3f5f"
            },
            "marker": {
             "line": {
              "color": "#E5ECF6",
              "width": 0.5
             },
             "pattern": {
              "fillmode": "overlay",
              "size": 10,
              "solidity": 0.2
             }
            },
            "type": "bar"
           }
          ],
          "barpolar": [
           {
            "marker": {
             "line": {
              "color": "#E5ECF6",
              "width": 0.5
             },
             "pattern": {
              "fillmode": "overlay",
              "size": 10,
              "solidity": 0.2
             }
            },
            "type": "barpolar"
           }
          ],
          "carpet": [
           {
            "aaxis": {
             "endlinecolor": "#2a3f5f",
             "gridcolor": "white",
             "linecolor": "white",
             "minorgridcolor": "white",
             "startlinecolor": "#2a3f5f"
            },
            "baxis": {
             "endlinecolor": "#2a3f5f",
             "gridcolor": "white",
             "linecolor": "white",
             "minorgridcolor": "white",
             "startlinecolor": "#2a3f5f"
            },
            "type": "carpet"
           }
          ],
          "choropleth": [
           {
            "colorbar": {
             "outlinewidth": 0,
             "ticks": ""
            },
            "type": "choropleth"
           }
          ],
          "contour": [
           {
            "colorbar": {
             "outlinewidth": 0,
             "ticks": ""
            },
            "colorscale": [
             [
              0,
              "#0d0887"
             ],
             [
              0.1111111111111111,
              "#46039f"
             ],
             [
              0.2222222222222222,
              "#7201a8"
             ],
             [
              0.3333333333333333,
              "#9c179e"
             ],
             [
              0.4444444444444444,
              "#bd3786"
             ],
             [
              0.5555555555555556,
              "#d8576b"
             ],
             [
              0.6666666666666666,
              "#ed7953"
             ],
             [
              0.7777777777777778,
              "#fb9f3a"
             ],
             [
              0.8888888888888888,
              "#fdca26"
             ],
             [
              1,
              "#f0f921"
             ]
            ],
            "type": "contour"
           }
          ],
          "contourcarpet": [
           {
            "colorbar": {
             "outlinewidth": 0,
             "ticks": ""
            },
            "type": "contourcarpet"
           }
          ],
          "heatmap": [
           {
            "colorbar": {
             "outlinewidth": 0,
             "ticks": ""
            },
            "colorscale": [
             [
              0,
              "#0d0887"
             ],
             [
              0.1111111111111111,
              "#46039f"
             ],
             [
              0.2222222222222222,
              "#7201a8"
             ],
             [
              0.3333333333333333,
              "#9c179e"
             ],
             [
              0.4444444444444444,
              "#bd3786"
             ],
             [
              0.5555555555555556,
              "#d8576b"
             ],
             [
              0.6666666666666666,
              "#ed7953"
             ],
             [
              0.7777777777777778,
              "#fb9f3a"
             ],
             [
              0.8888888888888888,
              "#fdca26"
             ],
             [
              1,
              "#f0f921"
             ]
            ],
            "type": "heatmap"
           }
          ],
          "heatmapgl": [
           {
            "colorbar": {
             "outlinewidth": 0,
             "ticks": ""
            },
            "colorscale": [
             [
              0,
              "#0d0887"
             ],
             [
              0.1111111111111111,
              "#46039f"
             ],
             [
              0.2222222222222222,
              "#7201a8"
             ],
             [
              0.3333333333333333,
              "#9c179e"
             ],
             [
              0.4444444444444444,
              "#bd3786"
             ],
             [
              0.5555555555555556,
              "#d8576b"
             ],
             [
              0.6666666666666666,
              "#ed7953"
             ],
             [
              0.7777777777777778,
              "#fb9f3a"
             ],
             [
              0.8888888888888888,
              "#fdca26"
             ],
             [
              1,
              "#f0f921"
             ]
            ],
            "type": "heatmapgl"
           }
          ],
          "histogram": [
           {
            "marker": {
             "pattern": {
              "fillmode": "overlay",
              "size": 10,
              "solidity": 0.2
             }
            },
            "type": "histogram"
           }
          ],
          "histogram2d": [
           {
            "colorbar": {
             "outlinewidth": 0,
             "ticks": ""
            },
            "colorscale": [
             [
              0,
              "#0d0887"
             ],
             [
              0.1111111111111111,
              "#46039f"
             ],
             [
              0.2222222222222222,
              "#7201a8"
             ],
             [
              0.3333333333333333,
              "#9c179e"
             ],
             [
              0.4444444444444444,
              "#bd3786"
             ],
             [
              0.5555555555555556,
              "#d8576b"
             ],
             [
              0.6666666666666666,
              "#ed7953"
             ],
             [
              0.7777777777777778,
              "#fb9f3a"
             ],
             [
              0.8888888888888888,
              "#fdca26"
             ],
             [
              1,
              "#f0f921"
             ]
            ],
            "type": "histogram2d"
           }
          ],
          "histogram2dcontour": [
           {
            "colorbar": {
             "outlinewidth": 0,
             "ticks": ""
            },
            "colorscale": [
             [
              0,
              "#0d0887"
             ],
             [
              0.1111111111111111,
              "#46039f"
             ],
             [
              0.2222222222222222,
              "#7201a8"
             ],
             [
              0.3333333333333333,
              "#9c179e"
             ],
             [
              0.4444444444444444,
              "#bd3786"
             ],
             [
              0.5555555555555556,
              "#d8576b"
             ],
             [
              0.6666666666666666,
              "#ed7953"
             ],
             [
              0.7777777777777778,
              "#fb9f3a"
             ],
             [
              0.8888888888888888,
              "#fdca26"
             ],
             [
              1,
              "#f0f921"
             ]
            ],
            "type": "histogram2dcontour"
           }
          ],
          "mesh3d": [
           {
            "colorbar": {
             "outlinewidth": 0,
             "ticks": ""
            },
            "type": "mesh3d"
           }
          ],
          "parcoords": [
           {
            "line": {
             "colorbar": {
              "outlinewidth": 0,
              "ticks": ""
             }
            },
            "type": "parcoords"
           }
          ],
          "pie": [
           {
            "automargin": true,
            "type": "pie"
           }
          ],
          "scatter": [
           {
            "fillpattern": {
             "fillmode": "overlay",
             "size": 10,
             "solidity": 0.2
            },
            "type": "scatter"
           }
          ],
          "scatter3d": [
           {
            "line": {
             "colorbar": {
              "outlinewidth": 0,
              "ticks": ""
             }
            },
            "marker": {
             "colorbar": {
              "outlinewidth": 0,
              "ticks": ""
             }
            },
            "type": "scatter3d"
           }
          ],
          "scattercarpet": [
           {
            "marker": {
             "colorbar": {
              "outlinewidth": 0,
              "ticks": ""
             }
            },
            "type": "scattercarpet"
           }
          ],
          "scattergeo": [
           {
            "marker": {
             "colorbar": {
              "outlinewidth": 0,
              "ticks": ""
             }
            },
            "type": "scattergeo"
           }
          ],
          "scattergl": [
           {
            "marker": {
             "colorbar": {
              "outlinewidth": 0,
              "ticks": ""
             }
            },
            "type": "scattergl"
           }
          ],
          "scattermapbox": [
           {
            "marker": {
             "colorbar": {
              "outlinewidth": 0,
              "ticks": ""
             }
            },
            "type": "scattermapbox"
           }
          ],
          "scatterpolar": [
           {
            "marker": {
             "colorbar": {
              "outlinewidth": 0,
              "ticks": ""
             }
            },
            "type": "scatterpolar"
           }
          ],
          "scatterpolargl": [
           {
            "marker": {
             "colorbar": {
              "outlinewidth": 0,
              "ticks": ""
             }
            },
            "type": "scatterpolargl"
           }
          ],
          "scatterternary": [
           {
            "marker": {
             "colorbar": {
              "outlinewidth": 0,
              "ticks": ""
             }
            },
            "type": "scatterternary"
           }
          ],
          "surface": [
           {
            "colorbar": {
             "outlinewidth": 0,
             "ticks": ""
            },
            "colorscale": [
             [
              0,
              "#0d0887"
             ],
             [
              0.1111111111111111,
              "#46039f"
             ],
             [
              0.2222222222222222,
              "#7201a8"
             ],
             [
              0.3333333333333333,
              "#9c179e"
             ],
             [
              0.4444444444444444,
              "#bd3786"
             ],
             [
              0.5555555555555556,
              "#d8576b"
             ],
             [
              0.6666666666666666,
              "#ed7953"
             ],
             [
              0.7777777777777778,
              "#fb9f3a"
             ],
             [
              0.8888888888888888,
              "#fdca26"
             ],
             [
              1,
              "#f0f921"
             ]
            ],
            "type": "surface"
           }
          ],
          "table": [
           {
            "cells": {
             "fill": {
              "color": "#EBF0F8"
             },
             "line": {
              "color": "white"
             }
            },
            "header": {
             "fill": {
              "color": "#C8D4E3"
             },
             "line": {
              "color": "white"
             }
            },
            "type": "table"
           }
          ]
         },
         "layout": {
          "annotationdefaults": {
           "arrowcolor": "#2a3f5f",
           "arrowhead": 0,
           "arrowwidth": 1
          },
          "autotypenumbers": "strict",
          "coloraxis": {
           "colorbar": {
            "outlinewidth": 0,
            "ticks": ""
           }
          },
          "colorscale": {
           "diverging": [
            [
             0,
             "#8e0152"
            ],
            [
             0.1,
             "#c51b7d"
            ],
            [
             0.2,
             "#de77ae"
            ],
            [
             0.3,
             "#f1b6da"
            ],
            [
             0.4,
             "#fde0ef"
            ],
            [
             0.5,
             "#f7f7f7"
            ],
            [
             0.6,
             "#e6f5d0"
            ],
            [
             0.7,
             "#b8e186"
            ],
            [
             0.8,
             "#7fbc41"
            ],
            [
             0.9,
             "#4d9221"
            ],
            [
             1,
             "#276419"
            ]
           ],
           "sequential": [
            [
             0,
             "#0d0887"
            ],
            [
             0.1111111111111111,
             "#46039f"
            ],
            [
             0.2222222222222222,
             "#7201a8"
            ],
            [
             0.3333333333333333,
             "#9c179e"
            ],
            [
             0.4444444444444444,
             "#bd3786"
            ],
            [
             0.5555555555555556,
             "#d8576b"
            ],
            [
             0.6666666666666666,
             "#ed7953"
            ],
            [
             0.7777777777777778,
             "#fb9f3a"
            ],
            [
             0.8888888888888888,
             "#fdca26"
            ],
            [
             1,
             "#f0f921"
            ]
           ],
           "sequentialminus": [
            [
             0,
             "#0d0887"
            ],
            [
             0.1111111111111111,
             "#46039f"
            ],
            [
             0.2222222222222222,
             "#7201a8"
            ],
            [
             0.3333333333333333,
             "#9c179e"
            ],
            [
             0.4444444444444444,
             "#bd3786"
            ],
            [
             0.5555555555555556,
             "#d8576b"
            ],
            [
             0.6666666666666666,
             "#ed7953"
            ],
            [
             0.7777777777777778,
             "#fb9f3a"
            ],
            [
             0.8888888888888888,
             "#fdca26"
            ],
            [
             1,
             "#f0f921"
            ]
           ]
          },
          "colorway": [
           "#636efa",
           "#EF553B",
           "#00cc96",
           "#ab63fa",
           "#FFA15A",
           "#19d3f3",
           "#FF6692",
           "#B6E880",
           "#FF97FF",
           "#FECB52"
          ],
          "font": {
           "color": "#2a3f5f"
          },
          "geo": {
           "bgcolor": "white",
           "lakecolor": "white",
           "landcolor": "#E5ECF6",
           "showlakes": true,
           "showland": true,
           "subunitcolor": "white"
          },
          "hoverlabel": {
           "align": "left"
          },
          "hovermode": "closest",
          "mapbox": {
           "style": "light"
          },
          "paper_bgcolor": "white",
          "plot_bgcolor": "#E5ECF6",
          "polar": {
           "angularaxis": {
            "gridcolor": "white",
            "linecolor": "white",
            "ticks": ""
           },
           "bgcolor": "#E5ECF6",
           "radialaxis": {
            "gridcolor": "white",
            "linecolor": "white",
            "ticks": ""
           }
          },
          "scene": {
           "xaxis": {
            "backgroundcolor": "#E5ECF6",
            "gridcolor": "white",
            "gridwidth": 2,
            "linecolor": "white",
            "showbackground": true,
            "ticks": "",
            "zerolinecolor": "white"
           },
           "yaxis": {
            "backgroundcolor": "#E5ECF6",
            "gridcolor": "white",
            "gridwidth": 2,
            "linecolor": "white",
            "showbackground": true,
            "ticks": "",
            "zerolinecolor": "white"
           },
           "zaxis": {
            "backgroundcolor": "#E5ECF6",
            "gridcolor": "white",
            "gridwidth": 2,
            "linecolor": "white",
            "showbackground": true,
            "ticks": "",
            "zerolinecolor": "white"
           }
          },
          "shapedefaults": {
           "line": {
            "color": "#2a3f5f"
           }
          },
          "ternary": {
           "aaxis": {
            "gridcolor": "white",
            "linecolor": "white",
            "ticks": ""
           },
           "baxis": {
            "gridcolor": "white",
            "linecolor": "white",
            "ticks": ""
           },
           "bgcolor": "#E5ECF6",
           "caxis": {
            "gridcolor": "white",
            "linecolor": "white",
            "ticks": ""
           }
          },
          "title": {
           "x": 0.05
          },
          "xaxis": {
           "automargin": true,
           "gridcolor": "white",
           "linecolor": "white",
           "ticks": "",
           "title": {
            "standoff": 15
           },
           "zerolinecolor": "white",
           "zerolinewidth": 2
          },
          "yaxis": {
           "automargin": true,
           "gridcolor": "white",
           "linecolor": "white",
           "ticks": "",
           "title": {
            "standoff": 15
           },
           "zerolinecolor": "white",
           "zerolinewidth": 2
          }
         }
        },
        "title": {
         "text": "Percentage of Household in Positive and Negative Savings"
        },
        "width": 1000,
        "xaxis": {
         "anchor": "y",
         "domain": [
          0,
          0.2888888888888889
         ],
         "tickformat": ",.0%",
         "title": {
          "text": "Bill"
         },
         "visible": true
        },
        "xaxis2": {
         "anchor": "y2",
         "domain": [
          0.35555555555555557,
          0.6444444444444445
         ],
         "tickformat": ",.0%",
         "title": {
          "text": "Emission"
         },
         "visible": true
        },
        "xaxis3": {
         "anchor": "y3",
         "domain": [
          0.7111111111111111,
          1
         ],
         "tickformat": ",.0%",
         "title": {
          "text": "Total Energy"
         },
         "visible": true
        },
        "yaxis": {
         "anchor": "x",
         "domain": [
          0,
          1
         ],
         "visible": true
        },
        "yaxis2": {
         "anchor": "x2",
         "domain": [
          0,
          1
         ],
         "visible": false
        },
        "yaxis3": {
         "anchor": "x3",
         "domain": [
          0,
          1
         ],
         "visible": false
        }
       }
      }
     },
     "metadata": {},
     "output_type": "display_data"
    }
   ],
   "source": [
    "segment = 'segment2'\n",
    "results = figure_positive_negative_savings(segment, community_results)\n",
    "saving_results[f'segment2_{income}_pct_bill_positive_savings_%'] = results[0]*100\n",
    "saving_results[f'segment2_{income}_pct_emission_positive_savings_%'] = results[1]*100\n",
    "saving_results[f'segment2_{income}_pct_energy_positive_savings_%'] = results[2]*100"
   ]
  },
  {
   "cell_type": "markdown",
   "id": "5bcfb89a",
   "metadata": {},
   "source": [
    "### Segment 3"
   ]
  },
  {
   "cell_type": "code",
   "execution_count": 55,
   "id": "5c5c3d99",
   "metadata": {},
   "outputs": [
    {
     "data": {
      "application/vnd.plotly.v1+json": {
       "config": {
        "plotlyServerURL": "https://plot.ly"
       },
       "data": [
        {
         "marker": {
          "color": "red"
         },
         "name": "Negative",
         "orientation": "h",
         "text": [
          1,
          1,
          0.9285140562248996,
          0.6371852808263396,
          0.5568031704095112,
          0.5298452468680914,
          0.4381510416666667,
          0.3408650742414461,
          0.31375080697224017,
          0.2958801498127341,
          0.12395093608779859,
          0.11878631375080698,
          0.10587475790832795,
          0.10071013557133635,
          0.005434782608695652,
          0.005372733378106112
         ],
         "textposition": "inside",
         "texttemplate": "%{text:.0%}",
         "type": "bar",
         "x": [
          1,
          1,
          0.9285140562248996,
          0.6371852808263396,
          0.5568031704095112,
          0.5298452468680914,
          0.4381510416666667,
          0.3408650742414461,
          0.31375080697224017,
          0.2958801498127341,
          0.12395093608779859,
          0.11878631375080698,
          0.10587475790832795,
          0.10071013557133635,
          0.005434782608695652,
          0.005372733378106112
         ],
         "xaxis": "x",
         "y": [
          "Electric Clothes Dryer",
          "Electric Cooking",
          "Mininum Efficiency Whole Home Electrification",
          "Mininum Efficiency Heat Pump with Electric Heat Backup",
          "Mininum Efficiency Heat Pump with Existing Heat Backup",
          "Induction Cooking",
          "Heat Pump Water Heater",
          "High Efficiency Heat Pump with Electric Heat Backup",
          "High Efficiency Whole Home Electrification",
          "Heat Pump Clothes Dryer",
          "Basic Enclosure + High Efficiency Whole Home Electrification",
          "Basic Enclosure + HPWH + High Efficiency HP/Electric Backup",
          "Enhanced Enclosure + High Efficiency Whole Home Electrification",
          "Enhanced Enclosure + HPWH + High Efficiency HP/Electric Backup",
          "Basic Enclosure",
          "Enhanced Enclosure"
         ],
         "yaxis": "y"
        },
        {
         "marker": {
          "color": "green"
         },
         "name": "Positive",
         "orientation": "h",
         "text": [
          0,
          0,
          0.0714859437751004,
          0.3628147191736604,
          0.4431968295904888,
          0.47015475313190863,
          0.5618489583333334,
          0.6591349257585539,
          0.6862491930277599,
          0.704119850187266,
          0.8760490639122014,
          0.881213686249193,
          0.8941252420916721,
          0.8992898644286637,
          0.9945652173913043,
          0.9946272666218939
         ],
         "textposition": "inside",
         "texttemplate": "%{text:.0%}",
         "type": "bar",
         "x": [
          0,
          0,
          0.0714859437751004,
          0.3628147191736604,
          0.4431968295904888,
          0.47015475313190863,
          0.5618489583333334,
          0.6591349257585539,
          0.6862491930277599,
          0.704119850187266,
          0.8760490639122014,
          0.881213686249193,
          0.8941252420916721,
          0.8992898644286637,
          0.9945652173913043,
          0.9946272666218939
         ],
         "xaxis": "x",
         "y": [
          "Electric Clothes Dryer",
          "Electric Cooking",
          "Mininum Efficiency Whole Home Electrification",
          "Mininum Efficiency Heat Pump with Electric Heat Backup",
          "Mininum Efficiency Heat Pump with Existing Heat Backup",
          "Induction Cooking",
          "Heat Pump Water Heater",
          "High Efficiency Heat Pump with Electric Heat Backup",
          "High Efficiency Whole Home Electrification",
          "Heat Pump Clothes Dryer",
          "Basic Enclosure + High Efficiency Whole Home Electrification",
          "Basic Enclosure + HPWH + High Efficiency HP/Electric Backup",
          "Enhanced Enclosure + High Efficiency Whole Home Electrification",
          "Enhanced Enclosure + HPWH + High Efficiency HP/Electric Backup",
          "Basic Enclosure",
          "Enhanced Enclosure"
         ],
         "yaxis": "y"
        },
        {
         "marker": {
          "color": "red"
         },
         "orientation": "h",
         "showlegend": false,
         "text": [
          0.8544303797468354,
          0,
          0.02971887550200803,
          0.15816655907036797,
          0.19682959048877147,
          0,
          0.006510416666666667,
          0.035506778566817304,
          0.003873466752743706,
          0,
          0.0025823111684958036,
          0.0025823111684958036,
          0.0025823111684958036,
          0.0025823111684958036,
          0.001358695652173913,
          0.001343183344526528
         ],
         "textposition": "inside",
         "texttemplate": "%{text:.0%}",
         "type": "bar",
         "x": [
          0.8544303797468354,
          0,
          0.02971887550200803,
          0.15816655907036797,
          0.19682959048877147,
          0,
          0.006510416666666667,
          0.035506778566817304,
          0.003873466752743706,
          0,
          0.0025823111684958036,
          0.0025823111684958036,
          0.0025823111684958036,
          0.0025823111684958036,
          0.001358695652173913,
          0.001343183344526528
         ],
         "xaxis": "x2",
         "y": [
          "Electric Clothes Dryer",
          "Electric Cooking",
          "Mininum Efficiency Whole Home Electrification",
          "Mininum Efficiency Heat Pump with Electric Heat Backup",
          "Mininum Efficiency Heat Pump with Existing Heat Backup",
          "Induction Cooking",
          "Heat Pump Water Heater",
          "High Efficiency Heat Pump with Electric Heat Backup",
          "High Efficiency Whole Home Electrification",
          "Heat Pump Clothes Dryer",
          "Basic Enclosure + High Efficiency Whole Home Electrification",
          "Basic Enclosure + HPWH + High Efficiency HP/Electric Backup",
          "Enhanced Enclosure + High Efficiency Whole Home Electrification",
          "Enhanced Enclosure + HPWH + High Efficiency HP/Electric Backup",
          "Basic Enclosure",
          "Enhanced Enclosure"
         ],
         "yaxis": "y2"
        },
        {
         "marker": {
          "color": "green"
         },
         "orientation": "h",
         "showlegend": false,
         "text": [
          0.14556962025316456,
          1,
          0.970281124497992,
          0.841833440929632,
          0.8031704095112285,
          1,
          0.9934895833333334,
          0.9644932214331827,
          0.9961265332472563,
          1,
          0.9974176888315042,
          0.9974176888315042,
          0.9974176888315042,
          0.9974176888315042,
          0.998641304347826,
          0.9986568166554735
         ],
         "textposition": "inside",
         "texttemplate": "%{text:.0%}",
         "type": "bar",
         "x": [
          0.14556962025316456,
          1,
          0.970281124497992,
          0.841833440929632,
          0.8031704095112285,
          1,
          0.9934895833333334,
          0.9644932214331827,
          0.9961265332472563,
          1,
          0.9974176888315042,
          0.9974176888315042,
          0.9974176888315042,
          0.9974176888315042,
          0.998641304347826,
          0.9986568166554735
         ],
         "xaxis": "x2",
         "y": [
          "Electric Clothes Dryer",
          "Electric Cooking",
          "Mininum Efficiency Whole Home Electrification",
          "Mininum Efficiency Heat Pump with Electric Heat Backup",
          "Mininum Efficiency Heat Pump with Existing Heat Backup",
          "Induction Cooking",
          "Heat Pump Water Heater",
          "High Efficiency Heat Pump with Electric Heat Backup",
          "High Efficiency Whole Home Electrification",
          "Heat Pump Clothes Dryer",
          "Basic Enclosure + High Efficiency Whole Home Electrification",
          "Basic Enclosure + HPWH + High Efficiency HP/Electric Backup",
          "Enhanced Enclosure + High Efficiency Whole Home Electrification",
          "Enhanced Enclosure + HPWH + High Efficiency HP/Electric Backup",
          "Basic Enclosure",
          "Enhanced Enclosure"
         ],
         "yaxis": "y2"
        },
        {
         "marker": {
          "color": "red"
         },
         "orientation": "h",
         "showlegend": false,
         "text": [
          0,
          0,
          0.011244979919678716,
          0.058102001291155586,
          0.15465961665565103,
          0,
          0.0078125,
          0.025823111684958037,
          0.0025823111684958036,
          0,
          0.001936733376371853,
          0.001936733376371853,
          0.001936733376371853,
          0.001936733376371853,
          0.0006793478260869565,
          0.000671591672263264
         ],
         "textposition": "inside",
         "texttemplate": "%{text:.0%}",
         "type": "bar",
         "x": [
          0,
          0,
          0.011244979919678716,
          0.058102001291155586,
          0.15465961665565103,
          0,
          0.0078125,
          0.025823111684958037,
          0.0025823111684958036,
          0,
          0.001936733376371853,
          0.001936733376371853,
          0.001936733376371853,
          0.001936733376371853,
          0.0006793478260869565,
          0.000671591672263264
         ],
         "xaxis": "x3",
         "y": [
          "Electric Clothes Dryer",
          "Electric Cooking",
          "Mininum Efficiency Whole Home Electrification",
          "Mininum Efficiency Heat Pump with Electric Heat Backup",
          "Mininum Efficiency Heat Pump with Existing Heat Backup",
          "Induction Cooking",
          "Heat Pump Water Heater",
          "High Efficiency Heat Pump with Electric Heat Backup",
          "High Efficiency Whole Home Electrification",
          "Heat Pump Clothes Dryer",
          "Basic Enclosure + High Efficiency Whole Home Electrification",
          "Basic Enclosure + HPWH + High Efficiency HP/Electric Backup",
          "Enhanced Enclosure + High Efficiency Whole Home Electrification",
          "Enhanced Enclosure + HPWH + High Efficiency HP/Electric Backup",
          "Basic Enclosure",
          "Enhanced Enclosure"
         ],
         "yaxis": "y3"
        },
        {
         "marker": {
          "color": "green"
         },
         "orientation": "h",
         "showlegend": false,
         "text": [
          1,
          1,
          0.9887550200803212,
          0.9418979987088444,
          0.845340383344349,
          1,
          0.9921875,
          0.974176888315042,
          0.9974176888315042,
          1,
          0.9980632666236281,
          0.9980632666236281,
          0.9980632666236281,
          0.9980632666236281,
          0.9993206521739131,
          0.9993284083277367
         ],
         "textposition": "inside",
         "texttemplate": "%{text:.0%}",
         "type": "bar",
         "x": [
          1,
          1,
          0.9887550200803212,
          0.9418979987088444,
          0.845340383344349,
          1,
          0.9921875,
          0.974176888315042,
          0.9974176888315042,
          1,
          0.9980632666236281,
          0.9980632666236281,
          0.9980632666236281,
          0.9980632666236281,
          0.9993206521739131,
          0.9993284083277367
         ],
         "xaxis": "x3",
         "y": [
          "Electric Clothes Dryer",
          "Electric Cooking",
          "Mininum Efficiency Whole Home Electrification",
          "Mininum Efficiency Heat Pump with Electric Heat Backup",
          "Mininum Efficiency Heat Pump with Existing Heat Backup",
          "Induction Cooking",
          "Heat Pump Water Heater",
          "High Efficiency Heat Pump with Electric Heat Backup",
          "High Efficiency Whole Home Electrification",
          "Heat Pump Clothes Dryer",
          "Basic Enclosure + High Efficiency Whole Home Electrification",
          "Basic Enclosure + HPWH + High Efficiency HP/Electric Backup",
          "Enhanced Enclosure + High Efficiency Whole Home Electrification",
          "Enhanced Enclosure + HPWH + High Efficiency HP/Electric Backup",
          "Basic Enclosure",
          "Enhanced Enclosure"
         ],
         "yaxis": "y3"
        }
       ],
       "layout": {
        "autosize": false,
        "barmode": "relative",
        "font": {
         "size": 10
        },
        "height": 500,
        "template": {
         "data": {
          "bar": [
           {
            "error_x": {
             "color": "#2a3f5f"
            },
            "error_y": {
             "color": "#2a3f5f"
            },
            "marker": {
             "line": {
              "color": "#E5ECF6",
              "width": 0.5
             },
             "pattern": {
              "fillmode": "overlay",
              "size": 10,
              "solidity": 0.2
             }
            },
            "type": "bar"
           }
          ],
          "barpolar": [
           {
            "marker": {
             "line": {
              "color": "#E5ECF6",
              "width": 0.5
             },
             "pattern": {
              "fillmode": "overlay",
              "size": 10,
              "solidity": 0.2
             }
            },
            "type": "barpolar"
           }
          ],
          "carpet": [
           {
            "aaxis": {
             "endlinecolor": "#2a3f5f",
             "gridcolor": "white",
             "linecolor": "white",
             "minorgridcolor": "white",
             "startlinecolor": "#2a3f5f"
            },
            "baxis": {
             "endlinecolor": "#2a3f5f",
             "gridcolor": "white",
             "linecolor": "white",
             "minorgridcolor": "white",
             "startlinecolor": "#2a3f5f"
            },
            "type": "carpet"
           }
          ],
          "choropleth": [
           {
            "colorbar": {
             "outlinewidth": 0,
             "ticks": ""
            },
            "type": "choropleth"
           }
          ],
          "contour": [
           {
            "colorbar": {
             "outlinewidth": 0,
             "ticks": ""
            },
            "colorscale": [
             [
              0,
              "#0d0887"
             ],
             [
              0.1111111111111111,
              "#46039f"
             ],
             [
              0.2222222222222222,
              "#7201a8"
             ],
             [
              0.3333333333333333,
              "#9c179e"
             ],
             [
              0.4444444444444444,
              "#bd3786"
             ],
             [
              0.5555555555555556,
              "#d8576b"
             ],
             [
              0.6666666666666666,
              "#ed7953"
             ],
             [
              0.7777777777777778,
              "#fb9f3a"
             ],
             [
              0.8888888888888888,
              "#fdca26"
             ],
             [
              1,
              "#f0f921"
             ]
            ],
            "type": "contour"
           }
          ],
          "contourcarpet": [
           {
            "colorbar": {
             "outlinewidth": 0,
             "ticks": ""
            },
            "type": "contourcarpet"
           }
          ],
          "heatmap": [
           {
            "colorbar": {
             "outlinewidth": 0,
             "ticks": ""
            },
            "colorscale": [
             [
              0,
              "#0d0887"
             ],
             [
              0.1111111111111111,
              "#46039f"
             ],
             [
              0.2222222222222222,
              "#7201a8"
             ],
             [
              0.3333333333333333,
              "#9c179e"
             ],
             [
              0.4444444444444444,
              "#bd3786"
             ],
             [
              0.5555555555555556,
              "#d8576b"
             ],
             [
              0.6666666666666666,
              "#ed7953"
             ],
             [
              0.7777777777777778,
              "#fb9f3a"
             ],
             [
              0.8888888888888888,
              "#fdca26"
             ],
             [
              1,
              "#f0f921"
             ]
            ],
            "type": "heatmap"
           }
          ],
          "heatmapgl": [
           {
            "colorbar": {
             "outlinewidth": 0,
             "ticks": ""
            },
            "colorscale": [
             [
              0,
              "#0d0887"
             ],
             [
              0.1111111111111111,
              "#46039f"
             ],
             [
              0.2222222222222222,
              "#7201a8"
             ],
             [
              0.3333333333333333,
              "#9c179e"
             ],
             [
              0.4444444444444444,
              "#bd3786"
             ],
             [
              0.5555555555555556,
              "#d8576b"
             ],
             [
              0.6666666666666666,
              "#ed7953"
             ],
             [
              0.7777777777777778,
              "#fb9f3a"
             ],
             [
              0.8888888888888888,
              "#fdca26"
             ],
             [
              1,
              "#f0f921"
             ]
            ],
            "type": "heatmapgl"
           }
          ],
          "histogram": [
           {
            "marker": {
             "pattern": {
              "fillmode": "overlay",
              "size": 10,
              "solidity": 0.2
             }
            },
            "type": "histogram"
           }
          ],
          "histogram2d": [
           {
            "colorbar": {
             "outlinewidth": 0,
             "ticks": ""
            },
            "colorscale": [
             [
              0,
              "#0d0887"
             ],
             [
              0.1111111111111111,
              "#46039f"
             ],
             [
              0.2222222222222222,
              "#7201a8"
             ],
             [
              0.3333333333333333,
              "#9c179e"
             ],
             [
              0.4444444444444444,
              "#bd3786"
             ],
             [
              0.5555555555555556,
              "#d8576b"
             ],
             [
              0.6666666666666666,
              "#ed7953"
             ],
             [
              0.7777777777777778,
              "#fb9f3a"
             ],
             [
              0.8888888888888888,
              "#fdca26"
             ],
             [
              1,
              "#f0f921"
             ]
            ],
            "type": "histogram2d"
           }
          ],
          "histogram2dcontour": [
           {
            "colorbar": {
             "outlinewidth": 0,
             "ticks": ""
            },
            "colorscale": [
             [
              0,
              "#0d0887"
             ],
             [
              0.1111111111111111,
              "#46039f"
             ],
             [
              0.2222222222222222,
              "#7201a8"
             ],
             [
              0.3333333333333333,
              "#9c179e"
             ],
             [
              0.4444444444444444,
              "#bd3786"
             ],
             [
              0.5555555555555556,
              "#d8576b"
             ],
             [
              0.6666666666666666,
              "#ed7953"
             ],
             [
              0.7777777777777778,
              "#fb9f3a"
             ],
             [
              0.8888888888888888,
              "#fdca26"
             ],
             [
              1,
              "#f0f921"
             ]
            ],
            "type": "histogram2dcontour"
           }
          ],
          "mesh3d": [
           {
            "colorbar": {
             "outlinewidth": 0,
             "ticks": ""
            },
            "type": "mesh3d"
           }
          ],
          "parcoords": [
           {
            "line": {
             "colorbar": {
              "outlinewidth": 0,
              "ticks": ""
             }
            },
            "type": "parcoords"
           }
          ],
          "pie": [
           {
            "automargin": true,
            "type": "pie"
           }
          ],
          "scatter": [
           {
            "fillpattern": {
             "fillmode": "overlay",
             "size": 10,
             "solidity": 0.2
            },
            "type": "scatter"
           }
          ],
          "scatter3d": [
           {
            "line": {
             "colorbar": {
              "outlinewidth": 0,
              "ticks": ""
             }
            },
            "marker": {
             "colorbar": {
              "outlinewidth": 0,
              "ticks": ""
             }
            },
            "type": "scatter3d"
           }
          ],
          "scattercarpet": [
           {
            "marker": {
             "colorbar": {
              "outlinewidth": 0,
              "ticks": ""
             }
            },
            "type": "scattercarpet"
           }
          ],
          "scattergeo": [
           {
            "marker": {
             "colorbar": {
              "outlinewidth": 0,
              "ticks": ""
             }
            },
            "type": "scattergeo"
           }
          ],
          "scattergl": [
           {
            "marker": {
             "colorbar": {
              "outlinewidth": 0,
              "ticks": ""
             }
            },
            "type": "scattergl"
           }
          ],
          "scattermapbox": [
           {
            "marker": {
             "colorbar": {
              "outlinewidth": 0,
              "ticks": ""
             }
            },
            "type": "scattermapbox"
           }
          ],
          "scatterpolar": [
           {
            "marker": {
             "colorbar": {
              "outlinewidth": 0,
              "ticks": ""
             }
            },
            "type": "scatterpolar"
           }
          ],
          "scatterpolargl": [
           {
            "marker": {
             "colorbar": {
              "outlinewidth": 0,
              "ticks": ""
             }
            },
            "type": "scatterpolargl"
           }
          ],
          "scatterternary": [
           {
            "marker": {
             "colorbar": {
              "outlinewidth": 0,
              "ticks": ""
             }
            },
            "type": "scatterternary"
           }
          ],
          "surface": [
           {
            "colorbar": {
             "outlinewidth": 0,
             "ticks": ""
            },
            "colorscale": [
             [
              0,
              "#0d0887"
             ],
             [
              0.1111111111111111,
              "#46039f"
             ],
             [
              0.2222222222222222,
              "#7201a8"
             ],
             [
              0.3333333333333333,
              "#9c179e"
             ],
             [
              0.4444444444444444,
              "#bd3786"
             ],
             [
              0.5555555555555556,
              "#d8576b"
             ],
             [
              0.6666666666666666,
              "#ed7953"
             ],
             [
              0.7777777777777778,
              "#fb9f3a"
             ],
             [
              0.8888888888888888,
              "#fdca26"
             ],
             [
              1,
              "#f0f921"
             ]
            ],
            "type": "surface"
           }
          ],
          "table": [
           {
            "cells": {
             "fill": {
              "color": "#EBF0F8"
             },
             "line": {
              "color": "white"
             }
            },
            "header": {
             "fill": {
              "color": "#C8D4E3"
             },
             "line": {
              "color": "white"
             }
            },
            "type": "table"
           }
          ]
         },
         "layout": {
          "annotationdefaults": {
           "arrowcolor": "#2a3f5f",
           "arrowhead": 0,
           "arrowwidth": 1
          },
          "autotypenumbers": "strict",
          "coloraxis": {
           "colorbar": {
            "outlinewidth": 0,
            "ticks": ""
           }
          },
          "colorscale": {
           "diverging": [
            [
             0,
             "#8e0152"
            ],
            [
             0.1,
             "#c51b7d"
            ],
            [
             0.2,
             "#de77ae"
            ],
            [
             0.3,
             "#f1b6da"
            ],
            [
             0.4,
             "#fde0ef"
            ],
            [
             0.5,
             "#f7f7f7"
            ],
            [
             0.6,
             "#e6f5d0"
            ],
            [
             0.7,
             "#b8e186"
            ],
            [
             0.8,
             "#7fbc41"
            ],
            [
             0.9,
             "#4d9221"
            ],
            [
             1,
             "#276419"
            ]
           ],
           "sequential": [
            [
             0,
             "#0d0887"
            ],
            [
             0.1111111111111111,
             "#46039f"
            ],
            [
             0.2222222222222222,
             "#7201a8"
            ],
            [
             0.3333333333333333,
             "#9c179e"
            ],
            [
             0.4444444444444444,
             "#bd3786"
            ],
            [
             0.5555555555555556,
             "#d8576b"
            ],
            [
             0.6666666666666666,
             "#ed7953"
            ],
            [
             0.7777777777777778,
             "#fb9f3a"
            ],
            [
             0.8888888888888888,
             "#fdca26"
            ],
            [
             1,
             "#f0f921"
            ]
           ],
           "sequentialminus": [
            [
             0,
             "#0d0887"
            ],
            [
             0.1111111111111111,
             "#46039f"
            ],
            [
             0.2222222222222222,
             "#7201a8"
            ],
            [
             0.3333333333333333,
             "#9c179e"
            ],
            [
             0.4444444444444444,
             "#bd3786"
            ],
            [
             0.5555555555555556,
             "#d8576b"
            ],
            [
             0.6666666666666666,
             "#ed7953"
            ],
            [
             0.7777777777777778,
             "#fb9f3a"
            ],
            [
             0.8888888888888888,
             "#fdca26"
            ],
            [
             1,
             "#f0f921"
            ]
           ]
          },
          "colorway": [
           "#636efa",
           "#EF553B",
           "#00cc96",
           "#ab63fa",
           "#FFA15A",
           "#19d3f3",
           "#FF6692",
           "#B6E880",
           "#FF97FF",
           "#FECB52"
          ],
          "font": {
           "color": "#2a3f5f"
          },
          "geo": {
           "bgcolor": "white",
           "lakecolor": "white",
           "landcolor": "#E5ECF6",
           "showlakes": true,
           "showland": true,
           "subunitcolor": "white"
          },
          "hoverlabel": {
           "align": "left"
          },
          "hovermode": "closest",
          "mapbox": {
           "style": "light"
          },
          "paper_bgcolor": "white",
          "plot_bgcolor": "#E5ECF6",
          "polar": {
           "angularaxis": {
            "gridcolor": "white",
            "linecolor": "white",
            "ticks": ""
           },
           "bgcolor": "#E5ECF6",
           "radialaxis": {
            "gridcolor": "white",
            "linecolor": "white",
            "ticks": ""
           }
          },
          "scene": {
           "xaxis": {
            "backgroundcolor": "#E5ECF6",
            "gridcolor": "white",
            "gridwidth": 2,
            "linecolor": "white",
            "showbackground": true,
            "ticks": "",
            "zerolinecolor": "white"
           },
           "yaxis": {
            "backgroundcolor": "#E5ECF6",
            "gridcolor": "white",
            "gridwidth": 2,
            "linecolor": "white",
            "showbackground": true,
            "ticks": "",
            "zerolinecolor": "white"
           },
           "zaxis": {
            "backgroundcolor": "#E5ECF6",
            "gridcolor": "white",
            "gridwidth": 2,
            "linecolor": "white",
            "showbackground": true,
            "ticks": "",
            "zerolinecolor": "white"
           }
          },
          "shapedefaults": {
           "line": {
            "color": "#2a3f5f"
           }
          },
          "ternary": {
           "aaxis": {
            "gridcolor": "white",
            "linecolor": "white",
            "ticks": ""
           },
           "baxis": {
            "gridcolor": "white",
            "linecolor": "white",
            "ticks": ""
           },
           "bgcolor": "#E5ECF6",
           "caxis": {
            "gridcolor": "white",
            "linecolor": "white",
            "ticks": ""
           }
          },
          "title": {
           "x": 0.05
          },
          "xaxis": {
           "automargin": true,
           "gridcolor": "white",
           "linecolor": "white",
           "ticks": "",
           "title": {
            "standoff": 15
           },
           "zerolinecolor": "white",
           "zerolinewidth": 2
          },
          "yaxis": {
           "automargin": true,
           "gridcolor": "white",
           "linecolor": "white",
           "ticks": "",
           "title": {
            "standoff": 15
           },
           "zerolinecolor": "white",
           "zerolinewidth": 2
          }
         }
        },
        "title": {
         "text": "Percentage of Household in Positive and Negative Savings"
        },
        "width": 1000,
        "xaxis": {
         "anchor": "y",
         "domain": [
          0,
          0.2888888888888889
         ],
         "tickformat": ",.0%",
         "title": {
          "text": "Bill"
         },
         "visible": true
        },
        "xaxis2": {
         "anchor": "y2",
         "domain": [
          0.35555555555555557,
          0.6444444444444445
         ],
         "tickformat": ",.0%",
         "title": {
          "text": "Emission"
         },
         "visible": true
        },
        "xaxis3": {
         "anchor": "y3",
         "domain": [
          0.7111111111111111,
          1
         ],
         "tickformat": ",.0%",
         "title": {
          "text": "Total Energy"
         },
         "visible": true
        },
        "yaxis": {
         "anchor": "x",
         "domain": [
          0,
          1
         ],
         "visible": true
        },
        "yaxis2": {
         "anchor": "x2",
         "domain": [
          0,
          1
         ],
         "visible": false
        },
        "yaxis3": {
         "anchor": "x3",
         "domain": [
          0,
          1
         ],
         "visible": false
        }
       }
      }
     },
     "metadata": {},
     "output_type": "display_data"
    }
   ],
   "source": [
    "segment = 'segment3'\n",
    "results = figure_positive_negative_savings(segment, community_results) \n",
    "saving_results[f'segment3_{income}_pct_bill_positive_savings_%'] = results[0]*100\n",
    "saving_results[f'segment3_{income}_pct_emission_positive_savings_%'] = results[1]*100\n",
    "saving_results[f'segment3_{income}_pct_energy_positive_savings_%'] = results[2]*100"
   ]
  },
  {
   "cell_type": "markdown",
   "id": "a37b751c",
   "metadata": {},
   "source": [
    "### Segment 4"
   ]
  },
  {
   "cell_type": "code",
   "execution_count": 56,
   "id": "20f060e0",
   "metadata": {},
   "outputs": [
    {
     "data": {
      "application/vnd.plotly.v1+json": {
       "config": {
        "plotlyServerURL": "https://plot.ly"
       },
       "data": [
        {
         "marker": {
          "color": "red"
         },
         "name": "Negative",
         "orientation": "h",
         "text": [
          1,
          1,
          0.9494227597581089,
          0.7236227824463118,
          0.6390476190476191,
          0.5721179624664879,
          0.4692054536906441,
          0.39915966386554624,
          0.37021475256769376,
          0.3353233830845771,
          0.13025210084033614,
          0.1265172735760971,
          0.11251167133520075,
          0.11017740429505135,
          0.0043583535108958835,
          0.004322766570605188
         ],
         "textposition": "inside",
         "texttemplate": "%{text:.0%}",
         "type": "bar",
         "x": [
          1,
          1,
          0.9494227597581089,
          0.7236227824463118,
          0.6390476190476191,
          0.5721179624664879,
          0.4692054536906441,
          0.39915966386554624,
          0.37021475256769376,
          0.3353233830845771,
          0.13025210084033614,
          0.1265172735760971,
          0.11251167133520075,
          0.11017740429505135,
          0.0043583535108958835,
          0.004322766570605188
         ],
         "xaxis": "x",
         "y": [
          "Electric Clothes Dryer",
          "Electric Cooking",
          "Mininum Efficiency Whole Home Electrification",
          "Mininum Efficiency Heat Pump with Electric Heat Backup",
          "Mininum Efficiency Heat Pump with Existing Heat Backup",
          "Induction Cooking",
          "Heat Pump Water Heater",
          "High Efficiency Heat Pump with Electric Heat Backup",
          "High Efficiency Whole Home Electrification",
          "Heat Pump Clothes Dryer",
          "Basic Enclosure + High Efficiency Whole Home Electrification",
          "Basic Enclosure + HPWH + High Efficiency HP/Electric Backup",
          "Enhanced Enclosure + High Efficiency Whole Home Electrification",
          "Enhanced Enclosure + HPWH + High Efficiency HP/Electric Backup",
          "Basic Enclosure",
          "Enhanced Enclosure"
         ],
         "yaxis": "y"
        },
        {
         "marker": {
          "color": "green"
         },
         "name": "Positive",
         "orientation": "h",
         "text": [
          0,
          0,
          0.05057724024189115,
          0.27637721755368816,
          0.36095238095238097,
          0.42788203753351206,
          0.5307945463093559,
          0.6008403361344538,
          0.6297852474323062,
          0.6646766169154229,
          0.8697478991596639,
          0.8734827264239029,
          0.8874883286647992,
          0.8898225957049486,
          0.9956416464891041,
          0.9956772334293948
         ],
         "textposition": "inside",
         "texttemplate": "%{text:.0%}",
         "type": "bar",
         "x": [
          0,
          0,
          0.05057724024189115,
          0.27637721755368816,
          0.36095238095238097,
          0.42788203753351206,
          0.5307945463093559,
          0.6008403361344538,
          0.6297852474323062,
          0.6646766169154229,
          0.8697478991596639,
          0.8734827264239029,
          0.8874883286647992,
          0.8898225957049486,
          0.9956416464891041,
          0.9956772334293948
         ],
         "xaxis": "x",
         "y": [
          "Electric Clothes Dryer",
          "Electric Cooking",
          "Mininum Efficiency Whole Home Electrification",
          "Mininum Efficiency Heat Pump with Electric Heat Backup",
          "Mininum Efficiency Heat Pump with Existing Heat Backup",
          "Induction Cooking",
          "Heat Pump Water Heater",
          "High Efficiency Heat Pump with Electric Heat Backup",
          "High Efficiency Whole Home Electrification",
          "Heat Pump Clothes Dryer",
          "Basic Enclosure + High Efficiency Whole Home Electrification",
          "Basic Enclosure + HPWH + High Efficiency HP/Electric Backup",
          "Enhanced Enclosure + High Efficiency Whole Home Electrification",
          "Enhanced Enclosure + HPWH + High Efficiency HP/Electric Backup",
          "Basic Enclosure",
          "Enhanced Enclosure"
         ],
         "yaxis": "y"
        },
        {
         "marker": {
          "color": "red"
         },
         "orientation": "h",
         "showlegend": false,
         "text": [
          0.884272997032641,
          0,
          0.030786146234194612,
          0.14705882352941177,
          0.21047619047619048,
          0,
          0.0061118946873530795,
          0.029411764705882353,
          0.004668534080298786,
          0,
          0.003734827264239029,
          0.003734827264239029,
          0.003734827264239029,
          0.003734827264239029,
          0.0009685230024213075,
          0.0009606147934678194
         ],
         "textposition": "inside",
         "texttemplate": "%{text:.0%}",
         "type": "bar",
         "x": [
          0.884272997032641,
          0,
          0.030786146234194612,
          0.14705882352941177,
          0.21047619047619048,
          0,
          0.0061118946873530795,
          0.029411764705882353,
          0.004668534080298786,
          0,
          0.003734827264239029,
          0.003734827264239029,
          0.003734827264239029,
          0.003734827264239029,
          0.0009685230024213075,
          0.0009606147934678194
         ],
         "xaxis": "x2",
         "y": [
          "Electric Clothes Dryer",
          "Electric Cooking",
          "Mininum Efficiency Whole Home Electrification",
          "Mininum Efficiency Heat Pump with Electric Heat Backup",
          "Mininum Efficiency Heat Pump with Existing Heat Backup",
          "Induction Cooking",
          "Heat Pump Water Heater",
          "High Efficiency Heat Pump with Electric Heat Backup",
          "High Efficiency Whole Home Electrification",
          "Heat Pump Clothes Dryer",
          "Basic Enclosure + High Efficiency Whole Home Electrification",
          "Basic Enclosure + HPWH + High Efficiency HP/Electric Backup",
          "Enhanced Enclosure + High Efficiency Whole Home Electrification",
          "Enhanced Enclosure + HPWH + High Efficiency HP/Electric Backup",
          "Basic Enclosure",
          "Enhanced Enclosure"
         ],
         "yaxis": "y2"
        },
        {
         "marker": {
          "color": "green"
         },
         "orientation": "h",
         "showlegend": false,
         "text": [
          0.11572700296735905,
          1,
          0.9692138537658054,
          0.8529411764705882,
          0.7895238095238095,
          1,
          0.9938881053126469,
          0.9705882352941176,
          0.9953314659197012,
          1,
          0.996265172735761,
          0.996265172735761,
          0.996265172735761,
          0.996265172735761,
          0.9990314769975787,
          0.9990393852065321
         ],
         "textposition": "inside",
         "texttemplate": "%{text:.0%}",
         "type": "bar",
         "x": [
          0.11572700296735905,
          1,
          0.9692138537658054,
          0.8529411764705882,
          0.7895238095238095,
          1,
          0.9938881053126469,
          0.9705882352941176,
          0.9953314659197012,
          1,
          0.996265172735761,
          0.996265172735761,
          0.996265172735761,
          0.996265172735761,
          0.9990314769975787,
          0.9990393852065321
         ],
         "xaxis": "x2",
         "y": [
          "Electric Clothes Dryer",
          "Electric Cooking",
          "Mininum Efficiency Whole Home Electrification",
          "Mininum Efficiency Heat Pump with Electric Heat Backup",
          "Mininum Efficiency Heat Pump with Existing Heat Backup",
          "Induction Cooking",
          "Heat Pump Water Heater",
          "High Efficiency Heat Pump with Electric Heat Backup",
          "High Efficiency Whole Home Electrification",
          "Heat Pump Clothes Dryer",
          "Basic Enclosure + High Efficiency Whole Home Electrification",
          "Basic Enclosure + HPWH + High Efficiency HP/Electric Backup",
          "Enhanced Enclosure + High Efficiency Whole Home Electrification",
          "Enhanced Enclosure + HPWH + High Efficiency HP/Electric Backup",
          "Basic Enclosure",
          "Enhanced Enclosure"
         ],
         "yaxis": "y2"
        },
        {
         "marker": {
          "color": "red"
         },
         "orientation": "h",
         "showlegend": false,
         "text": [
          0,
          0,
          0.010445299615173173,
          0.0457516339869281,
          0.1600762267746546,
          0,
          0.007522331922896097,
          0.021942110177404293,
          0.003734827264239029,
          0,
          0.0032679738562091504,
          0.0032679738562091504,
          0.0032679738562091504,
          0.0032679738562091504,
          0.00048426150121065375,
          0.0004803073967339097
         ],
         "textposition": "inside",
         "texttemplate": "%{text:.0%}",
         "type": "bar",
         "x": [
          0,
          0,
          0.010445299615173173,
          0.0457516339869281,
          0.1600762267746546,
          0,
          0.007522331922896097,
          0.021942110177404293,
          0.003734827264239029,
          0,
          0.0032679738562091504,
          0.0032679738562091504,
          0.0032679738562091504,
          0.0032679738562091504,
          0.00048426150121065375,
          0.0004803073967339097
         ],
         "xaxis": "x3",
         "y": [
          "Electric Clothes Dryer",
          "Electric Cooking",
          "Mininum Efficiency Whole Home Electrification",
          "Mininum Efficiency Heat Pump with Electric Heat Backup",
          "Mininum Efficiency Heat Pump with Existing Heat Backup",
          "Induction Cooking",
          "Heat Pump Water Heater",
          "High Efficiency Heat Pump with Electric Heat Backup",
          "High Efficiency Whole Home Electrification",
          "Heat Pump Clothes Dryer",
          "Basic Enclosure + High Efficiency Whole Home Electrification",
          "Basic Enclosure + HPWH + High Efficiency HP/Electric Backup",
          "Enhanced Enclosure + High Efficiency Whole Home Electrification",
          "Enhanced Enclosure + HPWH + High Efficiency HP/Electric Backup",
          "Basic Enclosure",
          "Enhanced Enclosure"
         ],
         "yaxis": "y3"
        },
        {
         "marker": {
          "color": "green"
         },
         "orientation": "h",
         "showlegend": false,
         "text": [
          1,
          1,
          0.9895547003848268,
          0.954248366013072,
          0.8399237732253454,
          1,
          0.9924776680771039,
          0.9780578898225957,
          0.996265172735761,
          1,
          0.9967320261437909,
          0.9967320261437909,
          0.9967320261437909,
          0.9967320261437909,
          0.9995157384987894,
          0.9995196926032661
         ],
         "textposition": "inside",
         "texttemplate": "%{text:.0%}",
         "type": "bar",
         "x": [
          1,
          1,
          0.9895547003848268,
          0.954248366013072,
          0.8399237732253454,
          1,
          0.9924776680771039,
          0.9780578898225957,
          0.996265172735761,
          1,
          0.9967320261437909,
          0.9967320261437909,
          0.9967320261437909,
          0.9967320261437909,
          0.9995157384987894,
          0.9995196926032661
         ],
         "xaxis": "x3",
         "y": [
          "Electric Clothes Dryer",
          "Electric Cooking",
          "Mininum Efficiency Whole Home Electrification",
          "Mininum Efficiency Heat Pump with Electric Heat Backup",
          "Mininum Efficiency Heat Pump with Existing Heat Backup",
          "Induction Cooking",
          "Heat Pump Water Heater",
          "High Efficiency Heat Pump with Electric Heat Backup",
          "High Efficiency Whole Home Electrification",
          "Heat Pump Clothes Dryer",
          "Basic Enclosure + High Efficiency Whole Home Electrification",
          "Basic Enclosure + HPWH + High Efficiency HP/Electric Backup",
          "Enhanced Enclosure + High Efficiency Whole Home Electrification",
          "Enhanced Enclosure + HPWH + High Efficiency HP/Electric Backup",
          "Basic Enclosure",
          "Enhanced Enclosure"
         ],
         "yaxis": "y3"
        }
       ],
       "layout": {
        "autosize": false,
        "barmode": "relative",
        "font": {
         "size": 10
        },
        "height": 500,
        "template": {
         "data": {
          "bar": [
           {
            "error_x": {
             "color": "#2a3f5f"
            },
            "error_y": {
             "color": "#2a3f5f"
            },
            "marker": {
             "line": {
              "color": "#E5ECF6",
              "width": 0.5
             },
             "pattern": {
              "fillmode": "overlay",
              "size": 10,
              "solidity": 0.2
             }
            },
            "type": "bar"
           }
          ],
          "barpolar": [
           {
            "marker": {
             "line": {
              "color": "#E5ECF6",
              "width": 0.5
             },
             "pattern": {
              "fillmode": "overlay",
              "size": 10,
              "solidity": 0.2
             }
            },
            "type": "barpolar"
           }
          ],
          "carpet": [
           {
            "aaxis": {
             "endlinecolor": "#2a3f5f",
             "gridcolor": "white",
             "linecolor": "white",
             "minorgridcolor": "white",
             "startlinecolor": "#2a3f5f"
            },
            "baxis": {
             "endlinecolor": "#2a3f5f",
             "gridcolor": "white",
             "linecolor": "white",
             "minorgridcolor": "white",
             "startlinecolor": "#2a3f5f"
            },
            "type": "carpet"
           }
          ],
          "choropleth": [
           {
            "colorbar": {
             "outlinewidth": 0,
             "ticks": ""
            },
            "type": "choropleth"
           }
          ],
          "contour": [
           {
            "colorbar": {
             "outlinewidth": 0,
             "ticks": ""
            },
            "colorscale": [
             [
              0,
              "#0d0887"
             ],
             [
              0.1111111111111111,
              "#46039f"
             ],
             [
              0.2222222222222222,
              "#7201a8"
             ],
             [
              0.3333333333333333,
              "#9c179e"
             ],
             [
              0.4444444444444444,
              "#bd3786"
             ],
             [
              0.5555555555555556,
              "#d8576b"
             ],
             [
              0.6666666666666666,
              "#ed7953"
             ],
             [
              0.7777777777777778,
              "#fb9f3a"
             ],
             [
              0.8888888888888888,
              "#fdca26"
             ],
             [
              1,
              "#f0f921"
             ]
            ],
            "type": "contour"
           }
          ],
          "contourcarpet": [
           {
            "colorbar": {
             "outlinewidth": 0,
             "ticks": ""
            },
            "type": "contourcarpet"
           }
          ],
          "heatmap": [
           {
            "colorbar": {
             "outlinewidth": 0,
             "ticks": ""
            },
            "colorscale": [
             [
              0,
              "#0d0887"
             ],
             [
              0.1111111111111111,
              "#46039f"
             ],
             [
              0.2222222222222222,
              "#7201a8"
             ],
             [
              0.3333333333333333,
              "#9c179e"
             ],
             [
              0.4444444444444444,
              "#bd3786"
             ],
             [
              0.5555555555555556,
              "#d8576b"
             ],
             [
              0.6666666666666666,
              "#ed7953"
             ],
             [
              0.7777777777777778,
              "#fb9f3a"
             ],
             [
              0.8888888888888888,
              "#fdca26"
             ],
             [
              1,
              "#f0f921"
             ]
            ],
            "type": "heatmap"
           }
          ],
          "heatmapgl": [
           {
            "colorbar": {
             "outlinewidth": 0,
             "ticks": ""
            },
            "colorscale": [
             [
              0,
              "#0d0887"
             ],
             [
              0.1111111111111111,
              "#46039f"
             ],
             [
              0.2222222222222222,
              "#7201a8"
             ],
             [
              0.3333333333333333,
              "#9c179e"
             ],
             [
              0.4444444444444444,
              "#bd3786"
             ],
             [
              0.5555555555555556,
              "#d8576b"
             ],
             [
              0.6666666666666666,
              "#ed7953"
             ],
             [
              0.7777777777777778,
              "#fb9f3a"
             ],
             [
              0.8888888888888888,
              "#fdca26"
             ],
             [
              1,
              "#f0f921"
             ]
            ],
            "type": "heatmapgl"
           }
          ],
          "histogram": [
           {
            "marker": {
             "pattern": {
              "fillmode": "overlay",
              "size": 10,
              "solidity": 0.2
             }
            },
            "type": "histogram"
           }
          ],
          "histogram2d": [
           {
            "colorbar": {
             "outlinewidth": 0,
             "ticks": ""
            },
            "colorscale": [
             [
              0,
              "#0d0887"
             ],
             [
              0.1111111111111111,
              "#46039f"
             ],
             [
              0.2222222222222222,
              "#7201a8"
             ],
             [
              0.3333333333333333,
              "#9c179e"
             ],
             [
              0.4444444444444444,
              "#bd3786"
             ],
             [
              0.5555555555555556,
              "#d8576b"
             ],
             [
              0.6666666666666666,
              "#ed7953"
             ],
             [
              0.7777777777777778,
              "#fb9f3a"
             ],
             [
              0.8888888888888888,
              "#fdca26"
             ],
             [
              1,
              "#f0f921"
             ]
            ],
            "type": "histogram2d"
           }
          ],
          "histogram2dcontour": [
           {
            "colorbar": {
             "outlinewidth": 0,
             "ticks": ""
            },
            "colorscale": [
             [
              0,
              "#0d0887"
             ],
             [
              0.1111111111111111,
              "#46039f"
             ],
             [
              0.2222222222222222,
              "#7201a8"
             ],
             [
              0.3333333333333333,
              "#9c179e"
             ],
             [
              0.4444444444444444,
              "#bd3786"
             ],
             [
              0.5555555555555556,
              "#d8576b"
             ],
             [
              0.6666666666666666,
              "#ed7953"
             ],
             [
              0.7777777777777778,
              "#fb9f3a"
             ],
             [
              0.8888888888888888,
              "#fdca26"
             ],
             [
              1,
              "#f0f921"
             ]
            ],
            "type": "histogram2dcontour"
           }
          ],
          "mesh3d": [
           {
            "colorbar": {
             "outlinewidth": 0,
             "ticks": ""
            },
            "type": "mesh3d"
           }
          ],
          "parcoords": [
           {
            "line": {
             "colorbar": {
              "outlinewidth": 0,
              "ticks": ""
             }
            },
            "type": "parcoords"
           }
          ],
          "pie": [
           {
            "automargin": true,
            "type": "pie"
           }
          ],
          "scatter": [
           {
            "fillpattern": {
             "fillmode": "overlay",
             "size": 10,
             "solidity": 0.2
            },
            "type": "scatter"
           }
          ],
          "scatter3d": [
           {
            "line": {
             "colorbar": {
              "outlinewidth": 0,
              "ticks": ""
             }
            },
            "marker": {
             "colorbar": {
              "outlinewidth": 0,
              "ticks": ""
             }
            },
            "type": "scatter3d"
           }
          ],
          "scattercarpet": [
           {
            "marker": {
             "colorbar": {
              "outlinewidth": 0,
              "ticks": ""
             }
            },
            "type": "scattercarpet"
           }
          ],
          "scattergeo": [
           {
            "marker": {
             "colorbar": {
              "outlinewidth": 0,
              "ticks": ""
             }
            },
            "type": "scattergeo"
           }
          ],
          "scattergl": [
           {
            "marker": {
             "colorbar": {
              "outlinewidth": 0,
              "ticks": ""
             }
            },
            "type": "scattergl"
           }
          ],
          "scattermapbox": [
           {
            "marker": {
             "colorbar": {
              "outlinewidth": 0,
              "ticks": ""
             }
            },
            "type": "scattermapbox"
           }
          ],
          "scatterpolar": [
           {
            "marker": {
             "colorbar": {
              "outlinewidth": 0,
              "ticks": ""
             }
            },
            "type": "scatterpolar"
           }
          ],
          "scatterpolargl": [
           {
            "marker": {
             "colorbar": {
              "outlinewidth": 0,
              "ticks": ""
             }
            },
            "type": "scatterpolargl"
           }
          ],
          "scatterternary": [
           {
            "marker": {
             "colorbar": {
              "outlinewidth": 0,
              "ticks": ""
             }
            },
            "type": "scatterternary"
           }
          ],
          "surface": [
           {
            "colorbar": {
             "outlinewidth": 0,
             "ticks": ""
            },
            "colorscale": [
             [
              0,
              "#0d0887"
             ],
             [
              0.1111111111111111,
              "#46039f"
             ],
             [
              0.2222222222222222,
              "#7201a8"
             ],
             [
              0.3333333333333333,
              "#9c179e"
             ],
             [
              0.4444444444444444,
              "#bd3786"
             ],
             [
              0.5555555555555556,
              "#d8576b"
             ],
             [
              0.6666666666666666,
              "#ed7953"
             ],
             [
              0.7777777777777778,
              "#fb9f3a"
             ],
             [
              0.8888888888888888,
              "#fdca26"
             ],
             [
              1,
              "#f0f921"
             ]
            ],
            "type": "surface"
           }
          ],
          "table": [
           {
            "cells": {
             "fill": {
              "color": "#EBF0F8"
             },
             "line": {
              "color": "white"
             }
            },
            "header": {
             "fill": {
              "color": "#C8D4E3"
             },
             "line": {
              "color": "white"
             }
            },
            "type": "table"
           }
          ]
         },
         "layout": {
          "annotationdefaults": {
           "arrowcolor": "#2a3f5f",
           "arrowhead": 0,
           "arrowwidth": 1
          },
          "autotypenumbers": "strict",
          "coloraxis": {
           "colorbar": {
            "outlinewidth": 0,
            "ticks": ""
           }
          },
          "colorscale": {
           "diverging": [
            [
             0,
             "#8e0152"
            ],
            [
             0.1,
             "#c51b7d"
            ],
            [
             0.2,
             "#de77ae"
            ],
            [
             0.3,
             "#f1b6da"
            ],
            [
             0.4,
             "#fde0ef"
            ],
            [
             0.5,
             "#f7f7f7"
            ],
            [
             0.6,
             "#e6f5d0"
            ],
            [
             0.7,
             "#b8e186"
            ],
            [
             0.8,
             "#7fbc41"
            ],
            [
             0.9,
             "#4d9221"
            ],
            [
             1,
             "#276419"
            ]
           ],
           "sequential": [
            [
             0,
             "#0d0887"
            ],
            [
             0.1111111111111111,
             "#46039f"
            ],
            [
             0.2222222222222222,
             "#7201a8"
            ],
            [
             0.3333333333333333,
             "#9c179e"
            ],
            [
             0.4444444444444444,
             "#bd3786"
            ],
            [
             0.5555555555555556,
             "#d8576b"
            ],
            [
             0.6666666666666666,
             "#ed7953"
            ],
            [
             0.7777777777777778,
             "#fb9f3a"
            ],
            [
             0.8888888888888888,
             "#fdca26"
            ],
            [
             1,
             "#f0f921"
            ]
           ],
           "sequentialminus": [
            [
             0,
             "#0d0887"
            ],
            [
             0.1111111111111111,
             "#46039f"
            ],
            [
             0.2222222222222222,
             "#7201a8"
            ],
            [
             0.3333333333333333,
             "#9c179e"
            ],
            [
             0.4444444444444444,
             "#bd3786"
            ],
            [
             0.5555555555555556,
             "#d8576b"
            ],
            [
             0.6666666666666666,
             "#ed7953"
            ],
            [
             0.7777777777777778,
             "#fb9f3a"
            ],
            [
             0.8888888888888888,
             "#fdca26"
            ],
            [
             1,
             "#f0f921"
            ]
           ]
          },
          "colorway": [
           "#636efa",
           "#EF553B",
           "#00cc96",
           "#ab63fa",
           "#FFA15A",
           "#19d3f3",
           "#FF6692",
           "#B6E880",
           "#FF97FF",
           "#FECB52"
          ],
          "font": {
           "color": "#2a3f5f"
          },
          "geo": {
           "bgcolor": "white",
           "lakecolor": "white",
           "landcolor": "#E5ECF6",
           "showlakes": true,
           "showland": true,
           "subunitcolor": "white"
          },
          "hoverlabel": {
           "align": "left"
          },
          "hovermode": "closest",
          "mapbox": {
           "style": "light"
          },
          "paper_bgcolor": "white",
          "plot_bgcolor": "#E5ECF6",
          "polar": {
           "angularaxis": {
            "gridcolor": "white",
            "linecolor": "white",
            "ticks": ""
           },
           "bgcolor": "#E5ECF6",
           "radialaxis": {
            "gridcolor": "white",
            "linecolor": "white",
            "ticks": ""
           }
          },
          "scene": {
           "xaxis": {
            "backgroundcolor": "#E5ECF6",
            "gridcolor": "white",
            "gridwidth": 2,
            "linecolor": "white",
            "showbackground": true,
            "ticks": "",
            "zerolinecolor": "white"
           },
           "yaxis": {
            "backgroundcolor": "#E5ECF6",
            "gridcolor": "white",
            "gridwidth": 2,
            "linecolor": "white",
            "showbackground": true,
            "ticks": "",
            "zerolinecolor": "white"
           },
           "zaxis": {
            "backgroundcolor": "#E5ECF6",
            "gridcolor": "white",
            "gridwidth": 2,
            "linecolor": "white",
            "showbackground": true,
            "ticks": "",
            "zerolinecolor": "white"
           }
          },
          "shapedefaults": {
           "line": {
            "color": "#2a3f5f"
           }
          },
          "ternary": {
           "aaxis": {
            "gridcolor": "white",
            "linecolor": "white",
            "ticks": ""
           },
           "baxis": {
            "gridcolor": "white",
            "linecolor": "white",
            "ticks": ""
           },
           "bgcolor": "#E5ECF6",
           "caxis": {
            "gridcolor": "white",
            "linecolor": "white",
            "ticks": ""
           }
          },
          "title": {
           "x": 0.05
          },
          "xaxis": {
           "automargin": true,
           "gridcolor": "white",
           "linecolor": "white",
           "ticks": "",
           "title": {
            "standoff": 15
           },
           "zerolinecolor": "white",
           "zerolinewidth": 2
          },
          "yaxis": {
           "automargin": true,
           "gridcolor": "white",
           "linecolor": "white",
           "ticks": "",
           "title": {
            "standoff": 15
           },
           "zerolinecolor": "white",
           "zerolinewidth": 2
          }
         }
        },
        "title": {
         "text": "Percentage of Household in Positive and Negative Savings"
        },
        "width": 1000,
        "xaxis": {
         "anchor": "y",
         "domain": [
          0,
          0.2888888888888889
         ],
         "tickformat": ",.0%",
         "title": {
          "text": "Bill"
         },
         "visible": true
        },
        "xaxis2": {
         "anchor": "y2",
         "domain": [
          0.35555555555555557,
          0.6444444444444445
         ],
         "tickformat": ",.0%",
         "title": {
          "text": "Emission"
         },
         "visible": true
        },
        "xaxis3": {
         "anchor": "y3",
         "domain": [
          0.7111111111111111,
          1
         ],
         "tickformat": ",.0%",
         "title": {
          "text": "Total Energy"
         },
         "visible": true
        },
        "yaxis": {
         "anchor": "x",
         "domain": [
          0,
          1
         ],
         "visible": true
        },
        "yaxis2": {
         "anchor": "x2",
         "domain": [
          0,
          1
         ],
         "visible": false
        },
        "yaxis3": {
         "anchor": "x3",
         "domain": [
          0,
          1
         ],
         "visible": false
        }
       }
      }
     },
     "metadata": {},
     "output_type": "display_data"
    }
   ],
   "source": [
    "segment = 'segment4'\n",
    "results = figure_positive_negative_savings(segment, community_results)\n",
    "saving_results[f'segment4_{income}_pct_bill_positive_savings_%'] = results[0]*100\n",
    "saving_results[f'segment4_{income}_pct_emission_positive_savings_%'] = results[1]*100\n",
    "saving_results[f'segment4_{income}_pct_energy_positive_savings_%'] = results[2]*100"
   ]
  },
  {
   "cell_type": "markdown",
   "id": "b53c1061",
   "metadata": {},
   "source": [
    "## 2.6. Average Energy Burden (%) Before and after Upgrade"
   ]
  },
  {
   "cell_type": "code",
   "execution_count": 57,
   "id": "1c373671",
   "metadata": {},
   "outputs": [
    {
     "name": "stdout",
     "output_type": "stream",
     "text": [
      "energy burden (%) before and after upgrade\n",
      "segment1\n"
     ]
    },
    {
     "name": "stderr",
     "output_type": "stream",
     "text": [
      "/var/folders/zw/lhnn73fj2250g9z11h_whq1szkf2pm/T/ipykernel_61111/3555432078.py:4: SettingWithCopyWarning:\n",
      "\n",
      "\n",
      "A value is trying to be set on a copy of a slice from a DataFrame\n",
      "\n",
      "See the caveats in the documentation: https://pandas.pydata.org/pandas-docs/stable/user_guide/indexing.html#returning-a-view-versus-a-copy\n",
      "\n",
      "/var/folders/zw/lhnn73fj2250g9z11h_whq1szkf2pm/T/ipykernel_61111/3555432078.py:5: SettingWithCopyWarning:\n",
      "\n",
      "\n",
      "A value is trying to be set on a copy of a slice from a DataFrame\n",
      "\n",
      "See the caveats in the documentation: https://pandas.pydata.org/pandas-docs/stable/user_guide/indexing.html#returning-a-view-versus-a-copy\n",
      "\n",
      "/var/folders/zw/lhnn73fj2250g9z11h_whq1szkf2pm/T/ipykernel_61111/3555432078.py:6: SettingWithCopyWarning:\n",
      "\n",
      "\n",
      "A value is trying to be set on a copy of a slice from a DataFrame.\n",
      "Try using .loc[row_indexer,col_indexer] = value instead\n",
      "\n",
      "See the caveats in the documentation: https://pandas.pydata.org/pandas-docs/stable/user_guide/indexing.html#returning-a-view-versus-a-copy\n",
      "\n",
      "/var/folders/zw/lhnn73fj2250g9z11h_whq1szkf2pm/T/ipykernel_61111/3555432078.py:7: SettingWithCopyWarning:\n",
      "\n",
      "\n",
      "A value is trying to be set on a copy of a slice from a DataFrame.\n",
      "Try using .loc[row_indexer,col_indexer] = value instead\n",
      "\n",
      "See the caveats in the documentation: https://pandas.pydata.org/pandas-docs/stable/user_guide/indexing.html#returning-a-view-versus-a-copy\n",
      "\n"
     ]
    },
    {
     "data": {
      "text/html": [
       "<div>\n",
       "<style scoped>\n",
       "    .dataframe tbody tr th:only-of-type {\n",
       "        vertical-align: middle;\n",
       "    }\n",
       "\n",
       "    .dataframe tbody tr th {\n",
       "        vertical-align: top;\n",
       "    }\n",
       "\n",
       "    .dataframe thead th {\n",
       "        text-align: right;\n",
       "    }\n",
       "</style>\n",
       "<table border=\"1\" class=\"dataframe\">\n",
       "  <thead>\n",
       "    <tr style=\"text-align: right;\">\n",
       "      <th></th>\n",
       "      <th>before</th>\n",
       "      <th>after</th>\n",
       "    </tr>\n",
       "    <tr>\n",
       "      <th>upgrade_name</th>\n",
       "      <th></th>\n",
       "      <th></th>\n",
       "    </tr>\n",
       "  </thead>\n",
       "  <tbody>\n",
       "    <tr>\n",
       "      <th>Enhanced Enclosure</th>\n",
       "      <td>15.5</td>\n",
       "      <td>12.4</td>\n",
       "    </tr>\n",
       "    <tr>\n",
       "      <th>Enhanced Enclosure + High Efficiency Whole Home Electrification</th>\n",
       "      <td>15.5</td>\n",
       "      <td>12.6</td>\n",
       "    </tr>\n",
       "    <tr>\n",
       "      <th>Enhanced Enclosure + HPWH + High Efficiency HP/Electric Backup</th>\n",
       "      <td>15.5</td>\n",
       "      <td>12.6</td>\n",
       "    </tr>\n",
       "    <tr>\n",
       "      <th>Basic Enclosure + High Efficiency Whole Home Electrification</th>\n",
       "      <td>15.5</td>\n",
       "      <td>12.7</td>\n",
       "    </tr>\n",
       "    <tr>\n",
       "      <th>Basic Enclosure + HPWH + High Efficiency HP/Electric Backup</th>\n",
       "      <td>15.5</td>\n",
       "      <td>12.7</td>\n",
       "    </tr>\n",
       "    <tr>\n",
       "      <th>Basic Enclosure</th>\n",
       "      <td>15.5</td>\n",
       "      <td>12.8</td>\n",
       "    </tr>\n",
       "    <tr>\n",
       "      <th>Heat Pump Clothes Dryer</th>\n",
       "      <td>15.1</td>\n",
       "      <td>14.9</td>\n",
       "    </tr>\n",
       "    <tr>\n",
       "      <th>Heat Pump Water Heater</th>\n",
       "      <td>15.5</td>\n",
       "      <td>15.5</td>\n",
       "    </tr>\n",
       "    <tr>\n",
       "      <th>Induction Cooking</th>\n",
       "      <td>15.3</td>\n",
       "      <td>15.4</td>\n",
       "    </tr>\n",
       "    <tr>\n",
       "      <th>Electric Cooking</th>\n",
       "      <td>14.6</td>\n",
       "      <td>14.8</td>\n",
       "    </tr>\n",
       "    <tr>\n",
       "      <th>Electric Clothes Dryer</th>\n",
       "      <td>11.4</td>\n",
       "      <td>11.8</td>\n",
       "    </tr>\n",
       "    <tr>\n",
       "      <th>High Efficiency Whole Home Electrification</th>\n",
       "      <td>15.5</td>\n",
       "      <td>16.1</td>\n",
       "    </tr>\n",
       "    <tr>\n",
       "      <th>High Efficiency Heat Pump with Electric Heat Backup</th>\n",
       "      <td>15.5</td>\n",
       "      <td>16.7</td>\n",
       "    </tr>\n",
       "    <tr>\n",
       "      <th>Mininum Efficiency Heat Pump with Existing Heat Backup</th>\n",
       "      <td>15.6</td>\n",
       "      <td>17.2</td>\n",
       "    </tr>\n",
       "    <tr>\n",
       "      <th>Mininum Efficiency Heat Pump with Electric Heat Backup</th>\n",
       "      <td>15.5</td>\n",
       "      <td>22.7</td>\n",
       "    </tr>\n",
       "    <tr>\n",
       "      <th>Mininum Efficiency Whole Home Electrification</th>\n",
       "      <td>15.0</td>\n",
       "      <td>22.5</td>\n",
       "    </tr>\n",
       "  </tbody>\n",
       "</table>\n",
       "</div>"
      ],
      "text/plain": [
       "                                                    before  after\n",
       "upgrade_name                                                     \n",
       "Enhanced Enclosure                                    15.5   12.4\n",
       "Enhanced Enclosure + High Efficiency Whole Home...    15.5   12.6\n",
       "Enhanced Enclosure + HPWH + High Efficiency HP/...    15.5   12.6\n",
       "Basic Enclosure + High Efficiency Whole Home El...    15.5   12.7\n",
       "Basic Enclosure + HPWH + High Efficiency HP/Ele...    15.5   12.7\n",
       "Basic Enclosure                                       15.5   12.8\n",
       "Heat Pump Clothes Dryer                               15.1   14.9\n",
       "Heat Pump Water Heater                                15.5   15.5\n",
       "Induction Cooking                                     15.3   15.4\n",
       "Electric Cooking                                      14.6   14.8\n",
       "Electric Clothes Dryer                                11.4   11.8\n",
       "High Efficiency Whole Home Electrification            15.5   16.1\n",
       "High Efficiency Heat Pump with Electric Heat Ba...    15.5   16.7\n",
       "Mininum Efficiency Heat Pump with Existing Heat...    15.6   17.2\n",
       "Mininum Efficiency Heat Pump with Electric Heat...    15.5   22.7\n",
       "Mininum Efficiency Whole Home Electrification         15.0   22.5"
      ]
     },
     "metadata": {},
     "output_type": "display_data"
    },
    {
     "name": "stdout",
     "output_type": "stream",
     "text": [
      "segment2\n"
     ]
    },
    {
     "data": {
      "text/html": [
       "<div>\n",
       "<style scoped>\n",
       "    .dataframe tbody tr th:only-of-type {\n",
       "        vertical-align: middle;\n",
       "    }\n",
       "\n",
       "    .dataframe tbody tr th {\n",
       "        vertical-align: top;\n",
       "    }\n",
       "\n",
       "    .dataframe thead th {\n",
       "        text-align: right;\n",
       "    }\n",
       "</style>\n",
       "<table border=\"1\" class=\"dataframe\">\n",
       "  <thead>\n",
       "    <tr style=\"text-align: right;\">\n",
       "      <th></th>\n",
       "      <th>before</th>\n",
       "      <th>after</th>\n",
       "    </tr>\n",
       "    <tr>\n",
       "      <th>upgrade_name</th>\n",
       "      <th></th>\n",
       "      <th></th>\n",
       "    </tr>\n",
       "  </thead>\n",
       "  <tbody>\n",
       "    <tr>\n",
       "      <th>Enhanced Enclosure + HPWH + High Efficiency HP/Electric Backup</th>\n",
       "      <td>15.3</td>\n",
       "      <td>12.0</td>\n",
       "    </tr>\n",
       "    <tr>\n",
       "      <th>Enhanced Enclosure + High Efficiency Whole Home Electrification</th>\n",
       "      <td>15.3</td>\n",
       "      <td>12.0</td>\n",
       "    </tr>\n",
       "    <tr>\n",
       "      <th>Basic Enclosure + HPWH + High Efficiency HP/Electric Backup</th>\n",
       "      <td>15.3</td>\n",
       "      <td>12.1</td>\n",
       "    </tr>\n",
       "    <tr>\n",
       "      <th>Basic Enclosure + High Efficiency Whole Home Electrification</th>\n",
       "      <td>15.3</td>\n",
       "      <td>12.2</td>\n",
       "    </tr>\n",
       "    <tr>\n",
       "      <th>Enhanced Enclosure</th>\n",
       "      <td>15.3</td>\n",
       "      <td>12.4</td>\n",
       "    </tr>\n",
       "    <tr>\n",
       "      <th>Basic Enclosure</th>\n",
       "      <td>15.3</td>\n",
       "      <td>12.8</td>\n",
       "    </tr>\n",
       "    <tr>\n",
       "      <th>High Efficiency Whole Home Electrification</th>\n",
       "      <td>15.3</td>\n",
       "      <td>14.7</td>\n",
       "    </tr>\n",
       "    <tr>\n",
       "      <th>Heat Pump Clothes Dryer</th>\n",
       "      <td>15.1</td>\n",
       "      <td>15.0</td>\n",
       "    </tr>\n",
       "    <tr>\n",
       "      <th>Heat Pump Water Heater</th>\n",
       "      <td>15.3</td>\n",
       "      <td>15.2</td>\n",
       "    </tr>\n",
       "    <tr>\n",
       "      <th>High Efficiency Heat Pump with Electric Heat Backup</th>\n",
       "      <td>15.3</td>\n",
       "      <td>15.4</td>\n",
       "    </tr>\n",
       "    <tr>\n",
       "      <th>Induction Cooking</th>\n",
       "      <td>15.3</td>\n",
       "      <td>15.5</td>\n",
       "    </tr>\n",
       "    <tr>\n",
       "      <th>Electric Cooking</th>\n",
       "      <td>15.1</td>\n",
       "      <td>15.4</td>\n",
       "    </tr>\n",
       "    <tr>\n",
       "      <th>Electric Clothes Dryer</th>\n",
       "      <td>16.6</td>\n",
       "      <td>17.2</td>\n",
       "    </tr>\n",
       "    <tr>\n",
       "      <th>Mininum Efficiency Heat Pump with Existing Heat Backup</th>\n",
       "      <td>15.3</td>\n",
       "      <td>17.2</td>\n",
       "    </tr>\n",
       "    <tr>\n",
       "      <th>Mininum Efficiency Heat Pump with Electric Heat Backup</th>\n",
       "      <td>15.3</td>\n",
       "      <td>20.5</td>\n",
       "    </tr>\n",
       "    <tr>\n",
       "      <th>Mininum Efficiency Whole Home Electrification</th>\n",
       "      <td>15.1</td>\n",
       "      <td>20.9</td>\n",
       "    </tr>\n",
       "  </tbody>\n",
       "</table>\n",
       "</div>"
      ],
      "text/plain": [
       "                                                    before  after\n",
       "upgrade_name                                                     \n",
       "Enhanced Enclosure + HPWH + High Efficiency HP/...    15.3   12.0\n",
       "Enhanced Enclosure + High Efficiency Whole Home...    15.3   12.0\n",
       "Basic Enclosure + HPWH + High Efficiency HP/Ele...    15.3   12.1\n",
       "Basic Enclosure + High Efficiency Whole Home El...    15.3   12.2\n",
       "Enhanced Enclosure                                    15.3   12.4\n",
       "Basic Enclosure                                       15.3   12.8\n",
       "High Efficiency Whole Home Electrification            15.3   14.7\n",
       "Heat Pump Clothes Dryer                               15.1   15.0\n",
       "Heat Pump Water Heater                                15.3   15.2\n",
       "High Efficiency Heat Pump with Electric Heat Ba...    15.3   15.4\n",
       "Induction Cooking                                     15.3   15.5\n",
       "Electric Cooking                                      15.1   15.4\n",
       "Electric Clothes Dryer                                16.6   17.2\n",
       "Mininum Efficiency Heat Pump with Existing Heat...    15.3   17.2\n",
       "Mininum Efficiency Heat Pump with Electric Heat...    15.3   20.5\n",
       "Mininum Efficiency Whole Home Electrification         15.1   20.9"
      ]
     },
     "metadata": {},
     "output_type": "display_data"
    },
    {
     "name": "stdout",
     "output_type": "stream",
     "text": [
      "segment3\n"
     ]
    },
    {
     "data": {
      "text/html": [
       "<div>\n",
       "<style scoped>\n",
       "    .dataframe tbody tr th:only-of-type {\n",
       "        vertical-align: middle;\n",
       "    }\n",
       "\n",
       "    .dataframe tbody tr th {\n",
       "        vertical-align: top;\n",
       "    }\n",
       "\n",
       "    .dataframe thead th {\n",
       "        text-align: right;\n",
       "    }\n",
       "</style>\n",
       "<table border=\"1\" class=\"dataframe\">\n",
       "  <thead>\n",
       "    <tr style=\"text-align: right;\">\n",
       "      <th></th>\n",
       "      <th>before</th>\n",
       "      <th>after</th>\n",
       "    </tr>\n",
       "    <tr>\n",
       "      <th>upgrade_name</th>\n",
       "      <th></th>\n",
       "      <th></th>\n",
       "    </tr>\n",
       "  </thead>\n",
       "  <tbody>\n",
       "    <tr>\n",
       "      <th>Enhanced Enclosure + HPWH + High Efficiency HP/Electric Backup</th>\n",
       "      <td>16.1</td>\n",
       "      <td>10.7</td>\n",
       "    </tr>\n",
       "    <tr>\n",
       "      <th>Enhanced Enclosure + High Efficiency Whole Home Electrification</th>\n",
       "      <td>16.1</td>\n",
       "      <td>10.8</td>\n",
       "    </tr>\n",
       "    <tr>\n",
       "      <th>Basic Enclosure + HPWH + High Efficiency HP/Electric Backup</th>\n",
       "      <td>16.1</td>\n",
       "      <td>10.9</td>\n",
       "    </tr>\n",
       "    <tr>\n",
       "      <th>Basic Enclosure + High Efficiency Whole Home Electrification</th>\n",
       "      <td>16.1</td>\n",
       "      <td>11.0</td>\n",
       "    </tr>\n",
       "    <tr>\n",
       "      <th>High Efficiency Whole Home Electrification</th>\n",
       "      <td>16.1</td>\n",
       "      <td>12.7</td>\n",
       "    </tr>\n",
       "    <tr>\n",
       "      <th>Enhanced Enclosure</th>\n",
       "      <td>16.2</td>\n",
       "      <td>13.6</td>\n",
       "    </tr>\n",
       "    <tr>\n",
       "      <th>High Efficiency Heat Pump with Electric Heat Backup</th>\n",
       "      <td>16.1</td>\n",
       "      <td>13.6</td>\n",
       "    </tr>\n",
       "    <tr>\n",
       "      <th>Basic Enclosure</th>\n",
       "      <td>16.2</td>\n",
       "      <td>13.9</td>\n",
       "    </tr>\n",
       "    <tr>\n",
       "      <th>Mininum Efficiency Heat Pump with Existing Heat Backup</th>\n",
       "      <td>16.3</td>\n",
       "      <td>15.7</td>\n",
       "    </tr>\n",
       "    <tr>\n",
       "      <th>Heat Pump Water Heater</th>\n",
       "      <td>16.0</td>\n",
       "      <td>15.7</td>\n",
       "    </tr>\n",
       "    <tr>\n",
       "      <th>Heat Pump Clothes Dryer</th>\n",
       "      <td>15.4</td>\n",
       "      <td>15.2</td>\n",
       "    </tr>\n",
       "    <tr>\n",
       "      <th>Induction Cooking</th>\n",
       "      <td>16.2</td>\n",
       "      <td>16.4</td>\n",
       "    </tr>\n",
       "    <tr>\n",
       "      <th>Electric Cooking</th>\n",
       "      <td>14.4</td>\n",
       "      <td>14.8</td>\n",
       "    </tr>\n",
       "    <tr>\n",
       "      <th>Electric Clothes Dryer</th>\n",
       "      <td>14.6</td>\n",
       "      <td>15.2</td>\n",
       "    </tr>\n",
       "    <tr>\n",
       "      <th>Mininum Efficiency Heat Pump with Electric Heat Backup</th>\n",
       "      <td>16.1</td>\n",
       "      <td>17.5</td>\n",
       "    </tr>\n",
       "    <tr>\n",
       "      <th>Mininum Efficiency Whole Home Electrification</th>\n",
       "      <td>14.6</td>\n",
       "      <td>18.9</td>\n",
       "    </tr>\n",
       "  </tbody>\n",
       "</table>\n",
       "</div>"
      ],
      "text/plain": [
       "                                                    before  after\n",
       "upgrade_name                                                     \n",
       "Enhanced Enclosure + HPWH + High Efficiency HP/...    16.1   10.7\n",
       "Enhanced Enclosure + High Efficiency Whole Home...    16.1   10.8\n",
       "Basic Enclosure + HPWH + High Efficiency HP/Ele...    16.1   10.9\n",
       "Basic Enclosure + High Efficiency Whole Home El...    16.1   11.0\n",
       "High Efficiency Whole Home Electrification            16.1   12.7\n",
       "Enhanced Enclosure                                    16.2   13.6\n",
       "High Efficiency Heat Pump with Electric Heat Ba...    16.1   13.6\n",
       "Basic Enclosure                                       16.2   13.9\n",
       "Mininum Efficiency Heat Pump with Existing Heat...    16.3   15.7\n",
       "Heat Pump Water Heater                                16.0   15.7\n",
       "Heat Pump Clothes Dryer                               15.4   15.2\n",
       "Induction Cooking                                     16.2   16.4\n",
       "Electric Cooking                                      14.4   14.8\n",
       "Electric Clothes Dryer                                14.6   15.2\n",
       "Mininum Efficiency Heat Pump with Electric Heat...    16.1   17.5\n",
       "Mininum Efficiency Whole Home Electrification         14.6   18.9"
      ]
     },
     "metadata": {},
     "output_type": "display_data"
    },
    {
     "name": "stdout",
     "output_type": "stream",
     "text": [
      "segment4\n"
     ]
    },
    {
     "data": {
      "text/html": [
       "<div>\n",
       "<style scoped>\n",
       "    .dataframe tbody tr th:only-of-type {\n",
       "        vertical-align: middle;\n",
       "    }\n",
       "\n",
       "    .dataframe tbody tr th {\n",
       "        vertical-align: top;\n",
       "    }\n",
       "\n",
       "    .dataframe thead th {\n",
       "        text-align: right;\n",
       "    }\n",
       "</style>\n",
       "<table border=\"1\" class=\"dataframe\">\n",
       "  <thead>\n",
       "    <tr style=\"text-align: right;\">\n",
       "      <th></th>\n",
       "      <th>before</th>\n",
       "      <th>after</th>\n",
       "    </tr>\n",
       "    <tr>\n",
       "      <th>upgrade_name</th>\n",
       "      <th></th>\n",
       "      <th></th>\n",
       "    </tr>\n",
       "  </thead>\n",
       "  <tbody>\n",
       "    <tr>\n",
       "      <th>Enhanced Enclosure + HPWH + High Efficiency HP/Electric Backup</th>\n",
       "      <td>15.9</td>\n",
       "      <td>11.1</td>\n",
       "    </tr>\n",
       "    <tr>\n",
       "      <th>Enhanced Enclosure + High Efficiency Whole Home Electrification</th>\n",
       "      <td>15.9</td>\n",
       "      <td>11.2</td>\n",
       "    </tr>\n",
       "    <tr>\n",
       "      <th>Basic Enclosure + HPWH + High Efficiency HP/Electric Backup</th>\n",
       "      <td>15.9</td>\n",
       "      <td>11.3</td>\n",
       "    </tr>\n",
       "    <tr>\n",
       "      <th>Basic Enclosure + High Efficiency Whole Home Electrification</th>\n",
       "      <td>15.9</td>\n",
       "      <td>11.4</td>\n",
       "    </tr>\n",
       "    <tr>\n",
       "      <th>Enhanced Enclosure</th>\n",
       "      <td>15.9</td>\n",
       "      <td>13.3</td>\n",
       "    </tr>\n",
       "    <tr>\n",
       "      <th>High Efficiency Whole Home Electrification</th>\n",
       "      <td>15.9</td>\n",
       "      <td>13.4</td>\n",
       "    </tr>\n",
       "    <tr>\n",
       "      <th>Basic Enclosure</th>\n",
       "      <td>16.0</td>\n",
       "      <td>13.6</td>\n",
       "    </tr>\n",
       "    <tr>\n",
       "      <th>High Efficiency Heat Pump with Electric Heat Backup</th>\n",
       "      <td>15.9</td>\n",
       "      <td>14.2</td>\n",
       "    </tr>\n",
       "    <tr>\n",
       "      <th>Heat Pump Water Heater</th>\n",
       "      <td>15.8</td>\n",
       "      <td>15.6</td>\n",
       "    </tr>\n",
       "    <tr>\n",
       "      <th>Heat Pump Clothes Dryer</th>\n",
       "      <td>15.2</td>\n",
       "      <td>15.1</td>\n",
       "    </tr>\n",
       "    <tr>\n",
       "      <th>Mininum Efficiency Heat Pump with Existing Heat Backup</th>\n",
       "      <td>16.1</td>\n",
       "      <td>16.1</td>\n",
       "    </tr>\n",
       "    <tr>\n",
       "      <th>Induction Cooking</th>\n",
       "      <td>16.0</td>\n",
       "      <td>16.1</td>\n",
       "    </tr>\n",
       "    <tr>\n",
       "      <th>Electric Cooking</th>\n",
       "      <td>14.6</td>\n",
       "      <td>14.9</td>\n",
       "    </tr>\n",
       "    <tr>\n",
       "      <th>Electric Clothes Dryer</th>\n",
       "      <td>14.4</td>\n",
       "      <td>14.9</td>\n",
       "    </tr>\n",
       "    <tr>\n",
       "      <th>Mininum Efficiency Heat Pump with Electric Heat Backup</th>\n",
       "      <td>15.9</td>\n",
       "      <td>18.6</td>\n",
       "    </tr>\n",
       "    <tr>\n",
       "      <th>Mininum Efficiency Whole Home Electrification</th>\n",
       "      <td>14.7</td>\n",
       "      <td>19.8</td>\n",
       "    </tr>\n",
       "  </tbody>\n",
       "</table>\n",
       "</div>"
      ],
      "text/plain": [
       "                                                    before  after\n",
       "upgrade_name                                                     \n",
       "Enhanced Enclosure + HPWH + High Efficiency HP/...    15.9   11.1\n",
       "Enhanced Enclosure + High Efficiency Whole Home...    15.9   11.2\n",
       "Basic Enclosure + HPWH + High Efficiency HP/Ele...    15.9   11.3\n",
       "Basic Enclosure + High Efficiency Whole Home El...    15.9   11.4\n",
       "Enhanced Enclosure                                    15.9   13.3\n",
       "High Efficiency Whole Home Electrification            15.9   13.4\n",
       "Basic Enclosure                                       16.0   13.6\n",
       "High Efficiency Heat Pump with Electric Heat Ba...    15.9   14.2\n",
       "Heat Pump Water Heater                                15.8   15.6\n",
       "Heat Pump Clothes Dryer                               15.2   15.1\n",
       "Mininum Efficiency Heat Pump with Existing Heat...    16.1   16.1\n",
       "Induction Cooking                                     16.0   16.1\n",
       "Electric Cooking                                      14.6   14.9\n",
       "Electric Clothes Dryer                                14.4   14.9\n",
       "Mininum Efficiency Heat Pump with Electric Heat...    15.9   18.6\n",
       "Mininum Efficiency Whole Home Electrification         14.7   19.8"
      ]
     },
     "metadata": {},
     "output_type": "display_data"
    }
   ],
   "source": [
    "results = segment_mean_energy_burden('post-upgrade_energy_burden_2023_cbills.%', community_results) \n",
    "saving_results[[f'segment1_{income}_energy_burden_before_upgrade_%',f'segment1_{income}_energy_burden_after_upgrade_%']] = results[0]\n",
    "saving_results[[f'segment2_{income}_energy_burden_before_upgrade_%',f'segment2_{income}_energy_burden_after_upgrade_%']] = results[1]\n",
    "saving_results[[f'segment3_{income}_energy_burden_before_upgrade_%',f'segment3_{income}_energy_burden_after_upgrade_%']] = results[2]\n",
    "saving_results[[f'segment4_{income}_energy_burden_before_upgrade_%',f'segment4_{income}_energy_burden_after_upgrade_%']] = results[3]"
   ]
  },
  {
   "cell_type": "code",
   "execution_count": 58,
   "id": "45f4b53f",
   "metadata": {},
   "outputs": [],
   "source": [
    "saving_results.to_csv(fig_dir / f'saving_results_{community}.csv')"
   ]
  },
  {
   "cell_type": "markdown",
   "id": "191866f3",
   "metadata": {},
   "source": [
    "### Save html file"
   ]
  },
  {
   "cell_type": "code",
   "execution_count": 59,
   "id": "442ef0c6",
   "metadata": {},
   "outputs": [
    {
     "name": "stdout",
     "output_type": "stream",
     "text": [
      "[NbConvertApp] Converting notebook saving_results_reports_for_hill_district.ipynb to html\n",
      "/Users/lliu2/micromamba/envs/res-est/share/jupyter/nbconvert/templates/base/display_priority.j2:32: UserWarning: Your element with mimetype(s) dict_keys(['application/vnd.plotly.v1+json']) is not able to be represented.\n",
      "  {%- elif type == 'application/javascript' -%}\n",
      "[NbConvertApp] Writing 356710 bytes to results/hill_district/saving_results_reports_for_hill_district.html\n"
     ]
    }
   ],
   "source": [
    "! jupyter nbconvert --output-dir='./results/hill_district/' --to=html --no-input saving_results_reports_for_hill_district.ipynb"
   ]
  }
 ],
 "metadata": {
  "kernelspec": {
   "display_name": "Python 3 (ipykernel)",
   "language": "python",
   "name": "python3"
  },
  "language_info": {
   "codemirror_mode": {
    "name": "ipython",
    "version": 3
   },
   "file_extension": ".py",
   "mimetype": "text/x-python",
   "name": "python",
   "nbconvert_exporter": "python",
   "pygments_lexer": "ipython3",
   "version": "3.9.16"
  }
 },
 "nbformat": 4,
 "nbformat_minor": 5
}
