{
 "cells": [
  {
   "cell_type": "code",
   "execution_count": 1,
   "id": "fcd7c535",
   "metadata": {},
   "outputs": [
    {
     "name": "stderr",
     "output_type": "stream",
     "text": [
      "C:\\Users\\ylou2\\.conda\\envs\\myproject\\lib\\site-packages\\pydantic\\_internal\\_config.py:269: UserWarning: Valid config keys have changed in V2:\n",
      "* 'smart_union' has been removed\n",
      "  warnings.warn(message, UserWarning)\n",
      "C:\\Users\\ylou2\\.conda\\envs\\myproject\\lib\\site-packages\\pydantic\\_internal\\_config.py:269: UserWarning: Valid config keys have changed in V2:\n",
      "* 'smart_union' has been removed\n",
      "  warnings.warn(message, UserWarning)\n",
      "C:\\Users\\ylou2\\.conda\\envs\\myproject\\lib\\site-packages\\pydantic\\_internal\\_config.py:269: UserWarning: Valid config keys have changed in V2:\n",
      "* 'smart_union' has been removed\n",
      "  warnings.warn(message, UserWarning)\n"
     ]
    }
   ],
   "source": [
    "from buildstock_query import BuildStockQuery\n",
    "import pandas as pd"
   ]
  },
  {
   "cell_type": "markdown",
   "id": "ec5ee841",
   "metadata": {},
   "source": [
    "# TO DO change community name and monthly fixed charge"
   ]
  },
  {
   "cell_type": "code",
   "execution_count": 2,
   "id": "482a77a0",
   "metadata": {},
   "outputs": [],
   "source": [
    "community = 'columbia' # TODO change community name\n",
    "monthly_fixed_charge = 13 # TODO change monthly fixed charge"
   ]
  },
  {
   "cell_type": "code",
   "execution_count": 3,
   "id": "ec2aae98",
   "metadata": {},
   "outputs": [
    {
     "name": "stderr",
     "output_type": "stream",
     "text": [
      "INFO:buildstock_query.query_core:Loading euss_res_final_2018_550k_20220901 ...\n",
      "INFO:botocore.credentials:Found credentials in shared credentials file: ~/.aws/credentials\n",
      "INFO:botocore.credentials:Found credentials in shared credentials file: ~/.aws/credentials\n",
      "INFO:botocore.credentials:Found credentials in shared credentials file: ~/.aws/credentials\n",
      "INFO:botocore.credentials:Found credentials in shared credentials file: ~/.aws/credentials\n"
     ]
    }
   ],
   "source": [
    "my_run = BuildStockQuery(db_name='euss-final',\n",
    "                        table_name='euss_res_final_2018_550k_20220901',\n",
    "                        workgroup='factsheets',\n",
    "                        buildstock_type='resstock',\n",
    "                        skip_reports=True)"
   ]
  },
  {
   "cell_type": "code",
   "execution_count": 4,
   "id": "d75dad06",
   "metadata": {},
   "outputs": [],
   "source": [
    "community_results = pd.read_parquet(f\"data_/community_building_samples_with_upgrade_cost_and_bill/{community}/processed_upgrade_results.parquet\")\n",
    "community_results_bill = pd.DataFrame()\n",
    "all_frame = []"
   ]
  },
  {
   "cell_type": "markdown",
   "id": "c35f11e4",
   "metadata": {},
   "source": [
    "# Electricity TOU bill"
   ]
  },
  {
   "cell_type": "markdown",
   "id": "4aa56390",
   "metadata": {},
   "source": [
    "Get building samples and building ids"
   ]
  },
  {
   "cell_type": "code",
   "execution_count": 5,
   "id": "b918c802",
   "metadata": {},
   "outputs": [],
   "source": [
    "upgrade_name_list = ['baseline',\n",
    "                     'Basic Enclosure',\n",
    "                     'Enhanced Enclosure',\n",
    "                     'Mininum Efficiency Heat Pump with Electric Heat Backup',\n",
    "                     'High Efficiency Heat Pump with Electric Heat Backup',\n",
    "                     'Mininum Efficiency Heat Pump with Existing Heat Backup',\n",
    "                     'Basic Enclosure + HPWH + High Efficiency HP/Electric Backup',\n",
    "                     'Enhanced Enclosure + HPWH + High Efficiency HP/Electric Backup',\n",
    "                     'Heat Pump Water Heater',\n",
    "                     'Electric Clothes Dryer',\n",
    "                     'Heat Pump Clothes Dryer',\n",
    "                     'Electric Cooking',\n",
    "                     'Induction Cooking',\n",
    "                     'Mininum Efficiency Whole Home Electrification',\n",
    "                     'High Efficiency Whole Home Electrification',\n",
    "                     'Basic Enclosure + High Efficiency Whole Home Electrification',\n",
    "                     'Enhanced Enclosure + High Efficiency Whole Home Electrification'] # 17 in total\n",
    "results = {}\n",
    "for up in range (17):\n",
    "    results[f'{up}'] = community_results.loc[community_results['upgrade_name'] == upgrade_name_list[up]]\n",
    "    \n",
    "building_ids_list = {}\n",
    "for up in results:\n",
    "    building_ids_list[f'{up}'] = results[up].building_id.tolist()"
   ]
  },
  {
   "cell_type": "markdown",
   "id": "102d2c85",
   "metadata": {},
   "source": [
    "get euss TOU bill"
   ]
  },
  {
   "cell_type": "code",
   "execution_count": 6,
   "id": "baff0367",
   "metadata": {},
   "outputs": [
    {
     "name": "stderr",
     "output_type": "stream",
     "text": [
      "INFO:buildstock_query.aggregate_query:Aggregation done accross timestamps. Result no longer a timeseries.\n",
      "WARNING:urllib3.connectionpool:Connection pool is full, discarding connection: nrel-factsheets-bucket.s3.us-west-2.amazonaws.com. Connection pool size: 10\n",
      "WARNING:urllib3.connectionpool:Connection pool is full, discarding connection: nrel-factsheets-bucket.s3.us-west-2.amazonaws.com. Connection pool size: 10\n",
      "WARNING:urllib3.connectionpool:Connection pool is full, discarding connection: nrel-factsheets-bucket.s3.us-west-2.amazonaws.com. Connection pool size: 10\n",
      "WARNING:urllib3.connectionpool:Connection pool is full, discarding connection: nrel-factsheets-bucket.s3.us-west-2.amazonaws.com. Connection pool size: 10\n",
      "WARNING:urllib3.connectionpool:Connection pool is full, discarding connection: nrel-factsheets-bucket.s3.us-west-2.amazonaws.com. Connection pool size: 10\n",
      "WARNING:urllib3.connectionpool:Connection pool is full, discarding connection: nrel-factsheets-bucket.s3.us-west-2.amazonaws.com. Connection pool size: 10\n",
      "WARNING:urllib3.connectionpool:Connection pool is full, discarding connection: nrel-factsheets-bucket.s3.us-west-2.amazonaws.com. Connection pool size: 10\n",
      "WARNING:urllib3.connectionpool:Connection pool is full, discarding connection: nrel-factsheets-bucket.s3.us-west-2.amazonaws.com. Connection pool size: 10\n",
      "WARNING:urllib3.connectionpool:Connection pool is full, discarding connection: nrel-factsheets-bucket.s3.us-west-2.amazonaws.com. Connection pool size: 10\n",
      "WARNING:urllib3.connectionpool:Connection pool is full, discarding connection: nrel-factsheets-bucket.s3.us-west-2.amazonaws.com. Connection pool size: 10\n",
      "WARNING:urllib3.connectionpool:Connection pool is full, discarding connection: nrel-factsheets-bucket.s3.us-west-2.amazonaws.com. Connection pool size: 10\n",
      "WARNING:urllib3.connectionpool:Connection pool is full, discarding connection: nrel-factsheets-bucket.s3.us-west-2.amazonaws.com. Connection pool size: 10\n",
      "WARNING:urllib3.connectionpool:Connection pool is full, discarding connection: nrel-factsheets-bucket.s3.us-west-2.amazonaws.com. Connection pool size: 10\n",
      "WARNING:urllib3.connectionpool:Connection pool is full, discarding connection: nrel-factsheets-bucket.s3.us-west-2.amazonaws.com. Connection pool size: 10\n",
      "WARNING:buildstock_query.query_core:Column building_id found in multiple tables ['euss_res_final_2018_550k_20220901_baseline', 'euss_res_final_2018_550k_20220901_timeseries', 'euss_res_final_2018_550k_20220901_upgrades'].Using euss_res_final_2018_550k_20220901_baseline\n",
      "INFO:buildstock_query.aggregate_query:Restricting query to Upgrade 0.\n",
      "INFO:buildstock_query.aggregate_query:Aggregation done accross timestamps. Result no longer a timeseries.\n",
      "WARNING:buildstock_query.query_core:Column building_id found in multiple tables ['euss_res_final_2018_550k_20220901_baseline', 'euss_res_final_2018_550k_20220901_timeseries', 'euss_res_final_2018_550k_20220901_upgrades'].Using euss_res_final_2018_550k_20220901_baseline\n",
      "INFO:buildstock_query.aggregate_query:Restricting query to Upgrade 1.\n",
      "INFO:buildstock_query.aggregate_query:Aggregation done accross timestamps. Result no longer a timeseries.\n",
      "WARNING:buildstock_query.query_core:Column building_id found in multiple tables ['euss_res_final_2018_550k_20220901_baseline', 'euss_res_final_2018_550k_20220901_timeseries', 'euss_res_final_2018_550k_20220901_upgrades'].Using euss_res_final_2018_550k_20220901_baseline\n",
      "INFO:buildstock_query.aggregate_query:Restricting query to Upgrade 2.\n",
      "INFO:buildstock_query.aggregate_query:Aggregation done accross timestamps. Result no longer a timeseries.\n",
      "WARNING:buildstock_query.query_core:Column building_id found in multiple tables ['euss_res_final_2018_550k_20220901_baseline', 'euss_res_final_2018_550k_20220901_timeseries', 'euss_res_final_2018_550k_20220901_upgrades'].Using euss_res_final_2018_550k_20220901_baseline\n",
      "INFO:buildstock_query.aggregate_query:Restricting query to Upgrade 3.\n",
      "INFO:buildstock_query.aggregate_query:Aggregation done accross timestamps. Result no longer a timeseries.\n",
      "WARNING:buildstock_query.query_core:Column building_id found in multiple tables ['euss_res_final_2018_550k_20220901_baseline', 'euss_res_final_2018_550k_20220901_timeseries', 'euss_res_final_2018_550k_20220901_upgrades'].Using euss_res_final_2018_550k_20220901_baseline\n",
      "INFO:buildstock_query.aggregate_query:Restricting query to Upgrade 4.\n",
      "INFO:buildstock_query.aggregate_query:Aggregation done accross timestamps. Result no longer a timeseries.\n",
      "WARNING:buildstock_query.query_core:Column building_id found in multiple tables ['euss_res_final_2018_550k_20220901_baseline', 'euss_res_final_2018_550k_20220901_timeseries', 'euss_res_final_2018_550k_20220901_upgrades'].Using euss_res_final_2018_550k_20220901_baseline\n",
      "INFO:buildstock_query.aggregate_query:Restricting query to Upgrade 5.\n",
      "INFO:buildstock_query.aggregate_query:Aggregation done accross timestamps. Result no longer a timeseries.\n",
      "WARNING:buildstock_query.query_core:Column building_id found in multiple tables ['euss_res_final_2018_550k_20220901_baseline', 'euss_res_final_2018_550k_20220901_timeseries', 'euss_res_final_2018_550k_20220901_upgrades'].Using euss_res_final_2018_550k_20220901_baseline\n",
      "INFO:buildstock_query.aggregate_query:Restricting query to Upgrade 6.\n",
      "INFO:buildstock_query.aggregate_query:Aggregation done accross timestamps. Result no longer a timeseries.\n",
      "WARNING:buildstock_query.query_core:Column building_id found in multiple tables ['euss_res_final_2018_550k_20220901_baseline', 'euss_res_final_2018_550k_20220901_timeseries', 'euss_res_final_2018_550k_20220901_upgrades'].Using euss_res_final_2018_550k_20220901_baseline\n",
      "INFO:buildstock_query.aggregate_query:Restricting query to Upgrade 7.\n",
      "INFO:buildstock_query.aggregate_query:Aggregation done accross timestamps. Result no longer a timeseries.\n",
      "WARNING:buildstock_query.query_core:Column building_id found in multiple tables ['euss_res_final_2018_550k_20220901_baseline', 'euss_res_final_2018_550k_20220901_timeseries', 'euss_res_final_2018_550k_20220901_upgrades'].Using euss_res_final_2018_550k_20220901_baseline\n",
      "INFO:buildstock_query.aggregate_query:Restricting query to Upgrade 8.\n",
      "INFO:buildstock_query.aggregate_query:Aggregation done accross timestamps. Result no longer a timeseries.\n",
      "WARNING:buildstock_query.query_core:Column building_id found in multiple tables ['euss_res_final_2018_550k_20220901_baseline', 'euss_res_final_2018_550k_20220901_timeseries', 'euss_res_final_2018_550k_20220901_upgrades'].Using euss_res_final_2018_550k_20220901_baseline\n",
      "INFO:buildstock_query.aggregate_query:Restricting query to Upgrade 9.\n",
      "INFO:buildstock_query.aggregate_query:Aggregation done accross timestamps. Result no longer a timeseries.\n",
      "WARNING:buildstock_query.query_core:Column building_id found in multiple tables ['euss_res_final_2018_550k_20220901_baseline', 'euss_res_final_2018_550k_20220901_timeseries', 'euss_res_final_2018_550k_20220901_upgrades'].Using euss_res_final_2018_550k_20220901_baseline\n",
      "INFO:buildstock_query.aggregate_query:Restricting query to Upgrade 10.\n"
     ]
    }
   ],
   "source": [
    "def euss_TOU_bill(upgrade_id, building_ids_list):\n",
    "    euss = my_run.utility.calculate_tou_bill(\n",
    "        meter_col = ['fuel_use__electricity__total__kwh',\n",
    "                     'end_use__electricity__clothes_dryer__kwh',\n",
    "                     'end_use__electricity__range_oven__kwh'],\n",
    "        rate_map = (f\"data_/community_cost/TOU_{community}_weekday_cost.csv\",\n",
    "                    f\"data_/community_cost/TOU_{community}_weekend_cost.csv\"),\n",
    "        upgrade_id = upgrade_id,\n",
    "        group_by = [\"building_id\"],\n",
    "        restrict = [(my_run.ts_bldgid_column, building_ids_list)],\n",
    "        collapse_ts = True,\n",
    "    )\n",
    "    \n",
    "    euss['cbill.electricity__TOU__usd'] = euss['fuel_use__electricity__total__kwh__TOU__dollars']/euss['units_count'] + monthly_fixed_charge * 12\n",
    "    euss['cbill.electricity__clothes_dryer__TOU__usd'] = euss['end_use__electricity__clothes_dryer__kwh__TOU__dollars']/euss['units_count']\n",
    "    euss['cbill.electricity__range_oven__TOU__usd'] = euss['end_use__electricity__range_oven__kwh__TOU__dollars']/euss['units_count']\n",
    "    euss = euss.drop(['sample_count', 'units_count', \n",
    "                      'fuel_use__electricity__total__kwh__TOU__dollars',\n",
    "                      'end_use__electricity__clothes_dryer__kwh__TOU__dollars',\n",
    "                      'end_use__electricity__range_oven__kwh__TOU__dollars'], axis=1)\n",
    "    \n",
    "    return euss"
   ]
  },
  {
   "cell_type": "code",
   "execution_count": null,
   "id": "a169e2bf",
   "metadata": {},
   "outputs": [],
   "source": [
    "euss00 = euss_TOU_bill('0', building_ids_list['0'])\n",
    "euss00 = euss00.rename(columns={'cbill.electricity__TOU__usd': 'baseline_cbill.electricity__TOU__usd',\n",
    "                       'cbill.electricity__clothes_dryer__TOU__usd': 'baseline_cbill.electricity__clothes_dryer__TOU__usd',\n",
    "                       'cbill.electricity__range_oven__TOU__usd': 'baseline_cbill.electricity__range_oven__TOU__usd'})\n",
    "euss01 = euss_TOU_bill('1', building_ids_list['1'])\n",
    "euss02 = euss_TOU_bill('2', building_ids_list['2'])\n",
    "euss03 = euss_TOU_bill('3', building_ids_list['3'])\n",
    "euss04 = euss_TOU_bill('4', building_ids_list['4'])\n",
    "euss05 = euss_TOU_bill('5', building_ids_list['5'])\n",
    "euss06 = euss_TOU_bill('6', building_ids_list['8'])\n",
    "euss07 = euss_TOU_bill('7', building_ids_list['13'])\n",
    "euss08 = euss_TOU_bill('8', building_ids_list['14'])\n",
    "euss09 = euss_TOU_bill('9', building_ids_list['15'])\n",
    "euss10 = euss_TOU_bill('10', building_ids_list['16'])"
   ]
  },
  {
   "cell_type": "markdown",
   "id": "164f1cf0",
   "metadata": {},
   "source": [
    "Baseline"
   ]
  },
  {
   "cell_type": "code",
   "execution_count": 7,
   "id": "54b7c835",
   "metadata": {},
   "outputs": [],
   "source": [
    "up00 = results['0'].join(euss00.set_index('building_id'), on = 'building_id')\n",
    "all_frame.append(up00)"
   ]
  },
  {
   "cell_type": "markdown",
   "id": "369809b6",
   "metadata": {},
   "source": [
    "Package 1. Basic Enclosure - upgrade 1"
   ]
  },
  {
   "cell_type": "code",
   "execution_count": 8,
   "id": "25af1973",
   "metadata": {},
   "outputs": [],
   "source": [
    "up01_baseline = euss00.loc[euss00['building_id'].isin(building_ids_list['1'])]\n",
    "up01 = results['1'].join(up01_baseline.set_index('building_id'), on='building_id')\n",
    "up01 = up01.join(euss01.set_index('building_id'), on='building_id')\n",
    "up01['saving_cbill.electricity_TOU_usd'] = up01['baseline_cbill.electricity__TOU__usd'] - up01['cbill.electricity__TOU__usd'] \n",
    "up01['pct_saving_cbill.electricity_TOU_%'] = up01['saving_cbill.electricity_TOU_usd']/up01['baseline_cbill.electricity__TOU__usd'] * 100\n",
    "all_frame.append(up01)"
   ]
  },
  {
   "cell_type": "markdown",
   "id": "88202da0",
   "metadata": {},
   "source": [
    "Package 2. Enhanced Enclosure - upgrade 2"
   ]
  },
  {
   "cell_type": "code",
   "execution_count": 9,
   "id": "5d86744d",
   "metadata": {},
   "outputs": [],
   "source": [
    "up02_baseline = euss00.loc[euss00['building_id'].isin(building_ids_list['2'])]\n",
    "up02 = results['2'].join(up02_baseline.set_index('building_id'), on='building_id')\n",
    "up02 = up02.join(euss02.set_index('building_id'), on='building_id')\n",
    "up02['saving_cbill.electricity_TOU_usd'] = up02['baseline_cbill.electricity__TOU__usd'] - up02['cbill.electricity__TOU__usd'] \n",
    "up02['pct_saving_cbill.electricity_TOU_%'] = up02['saving_cbill.electricity_TOU_usd']/up02['baseline_cbill.electricity__TOU__usd'] * 100\n",
    "all_frame.append(up02)"
   ]
  },
  {
   "cell_type": "markdown",
   "id": "0b13c8f4",
   "metadata": {},
   "source": [
    "Package 3. Mininum Efficiency Heat Pump with Electric Heat Backup - upgrade 3"
   ]
  },
  {
   "cell_type": "code",
   "execution_count": 10,
   "id": "b7a97a1b",
   "metadata": {},
   "outputs": [],
   "source": [
    "up03_baseline = euss00.loc[euss00['building_id'].isin(building_ids_list['3'])]\n",
    "up03 = results['3'].join(up03_baseline.set_index('building_id'), on='building_id')\n",
    "up03 = up03.join(euss03.set_index('building_id'), on='building_id')\n",
    "up03['saving_cbill.electricity_TOU_usd'] = up03['baseline_cbill.electricity__TOU__usd'] - up03['cbill.electricity__TOU__usd'] \n",
    "up03['pct_saving_cbill.electricity_TOU_%'] = up03['saving_cbill.electricity_TOU_usd']/up03['baseline_cbill.electricity__TOU__usd'] * 100\n",
    "all_frame.append(up03)"
   ]
  },
  {
   "cell_type": "markdown",
   "id": "e85fb16f",
   "metadata": {},
   "source": [
    "Package 4. High Efficiency Heat Pump with Electric Heat Backup - upgrade 4"
   ]
  },
  {
   "cell_type": "code",
   "execution_count": 11,
   "id": "1e44c275",
   "metadata": {},
   "outputs": [],
   "source": [
    "up04_baseline = euss00.loc[euss00['building_id'].isin(building_ids_list['4'])]\n",
    "up04 = results['4'].join(up04_baseline.set_index('building_id'), on='building_id')\n",
    "up04 = up04.join(euss04.set_index('building_id'), on='building_id')\n",
    "up04['saving_cbill.electricity_TOU_usd'] = up04['baseline_cbill.electricity__TOU__usd'] - up04['cbill.electricity__TOU__usd'] \n",
    "up04['pct_saving_cbill.electricity_TOU_%'] = up04['saving_cbill.electricity_TOU_usd']/up04['baseline_cbill.electricity__TOU__usd'] * 100\n",
    "all_frame.append(up04)"
   ]
  },
  {
   "cell_type": "markdown",
   "id": "b27fdb3a",
   "metadata": {},
   "source": [
    "Package 5. Mininum Efficiency Heat Pump with Existing Heat Backup - upgrade 5"
   ]
  },
  {
   "cell_type": "code",
   "execution_count": 12,
   "id": "ec9bc4a3",
   "metadata": {},
   "outputs": [],
   "source": [
    "up05_baseline = euss00.loc[euss00['building_id'].isin(building_ids_list['5'])]\n",
    "up05 = results['5'].join(up05_baseline.set_index('building_id'), on='building_id')\n",
    "up05 = up05.join(euss05.set_index('building_id'), on='building_id')\n",
    "up05['saving_cbill.electricity_TOU_usd'] = up05['baseline_cbill.electricity__TOU__usd'] - up05['cbill.electricity__TOU__usd'] \n",
    "up05['pct_saving_cbill.electricity_TOU_%'] = up05['saving_cbill.electricity_TOU_usd']/up05['baseline_cbill.electricity__TOU__usd'] * 100\n",
    "all_frame.append(up05)"
   ]
  },
  {
   "cell_type": "markdown",
   "id": "3607d0b6",
   "metadata": {},
   "source": [
    "Package 6. Basic Enclosure + HPWH + High Efficiency HP/Electric Backup - upgrade 9 excluding: [\"clothes_dryer\", \"range_oven\"])"
   ]
  },
  {
   "cell_type": "code",
   "execution_count": 13,
   "id": "8a164f72",
   "metadata": {},
   "outputs": [],
   "source": [
    "up06_baseline = euss00.loc[euss00['building_id'].isin(building_ids_list['6'])]\n",
    "up06 = results['6'].join(up06_baseline.set_index('building_id'), on='building_id')\n",
    "up06 = up06.join(euss09.set_index('building_id'), on='building_id')\n",
    "up06['saving_cbill.electricity_TOU_usd'] = (up06['baseline_cbill.electricity__TOU__usd']-up06['baseline_cbill.electricity__clothes_dryer__TOU__usd'].fillna(0)-up06['baseline_cbill.electricity__range_oven__TOU__usd'].fillna(0)) - \\\n",
    "                                                      (up06['cbill.electricity__TOU__usd']-up06['cbill.electricity__clothes_dryer__TOU__usd'].fillna(0)-up06['cbill.electricity__range_oven__TOU__usd'].fillna(0)) \n",
    "up06['pct_saving_cbill.electricity_TOU_%'] = up06['saving_cbill.electricity_TOU_usd']/up06['baseline_cbill.electricity__TOU__usd'] * 100"
   ]
  },
  {
   "cell_type": "markdown",
   "id": "01b8e33e",
   "metadata": {},
   "source": [
    "Package 7. Enhanced Enclosure + HPWH + High Efficiency HP/Electric Backup - upgrade 10 excluding: [\"clothes_dryer\", \"range_oven\"])"
   ]
  },
  {
   "cell_type": "code",
   "execution_count": 14,
   "id": "caa2becb",
   "metadata": {},
   "outputs": [],
   "source": [
    "up07_baseline = euss00.loc[euss00['building_id'].isin(building_ids_list['7'])]\n",
    "up07 = results['7'].join(up07_baseline.set_index('building_id'), on='building_id')\n",
    "up07 = up07.join(euss10.set_index('building_id'), on='building_id')\n",
    "up07['saving_cbill.electricity_TOU_usd'] = (up07['baseline_cbill.electricity__TOU__usd']-up07['baseline_cbill.electricity__clothes_dryer__TOU__usd'].fillna(0)-up07['baseline_cbill.electricity__range_oven__TOU__usd'].fillna(0)) - \\\n",
    "                                                      (up07['cbill.electricity__TOU__usd']-up07['cbill.electricity__clothes_dryer__TOU__usd'].fillna(0)-up07['cbill.electricity__range_oven__TOU__usd'].fillna(0)) \n",
    "up07['pct_saving_cbill.electricity_TOU_%'] = up07['saving_cbill.electricity_TOU_usd']/up07['baseline_cbill.electricity__TOU__usd'] * 100\n"
   ]
  },
  {
   "cell_type": "markdown",
   "id": "606ab6e9",
   "metadata": {},
   "source": [
    "Package 8. Heat Pump Water Heater - upgrade 6"
   ]
  },
  {
   "cell_type": "code",
   "execution_count": 15,
   "id": "b76ffb18",
   "metadata": {},
   "outputs": [],
   "source": [
    "up08_baseline = euss00.loc[euss00['building_id'].isin(building_ids_list['8'])]\n",
    "up08 = results['8'].join(up08_baseline.set_index('building_id'), on='building_id')\n",
    "up08 = up08.join(euss06.set_index('building_id'), on='building_id')\n",
    "up08['saving_cbill.electricity_TOU_usd'] = up08['baseline_cbill.electricity__TOU__usd'] - up08['cbill.electricity__TOU__usd'] \n",
    "up08['pct_saving_cbill.electricity_TOU_%'] = up08['saving_cbill.electricity_TOU_usd']/up08['baseline_cbill.electricity__TOU__usd'] * 100\n",
    "all_frame.append(up08)"
   ]
  },
  {
   "cell_type": "markdown",
   "id": "56632e9b",
   "metadata": {},
   "source": [
    "Package 9. Electric Clothes Dryer - Clothes dryer in upgrade 7"
   ]
  },
  {
   "cell_type": "code",
   "execution_count": 16,
   "id": "b41789c1",
   "metadata": {},
   "outputs": [],
   "source": [
    "up09_baseline = euss00.loc[euss00['building_id'].isin(building_ids_list['9'])]\n",
    "up09 = results['9'].join(up09_baseline.set_index('building_id'), on='building_id')\n",
    "euss07_dryer = euss07.loc[euss07['building_id'].isin(building_ids_list['9'])]\n",
    "up09 = up09.join(euss07_dryer.set_index('building_id'), on='building_id')\n",
    "up09['saving_cbill.electricity_TOU_usd'] = up09['baseline_cbill.electricity__clothes_dryer__TOU__usd'].fillna(0) - up09['cbill.electricity__clothes_dryer__TOU__usd'].fillna(0) \n",
    "up09['pct_saving_cbill.electricity_TOU_%'] = up09['saving_cbill.electricity_TOU_usd']/up09['baseline_cbill.electricity__TOU__usd'] * 100\n",
    "all_frame.append(up09)"
   ]
  },
  {
   "cell_type": "markdown",
   "id": "05ff09a6",
   "metadata": {},
   "source": [
    "Package 10. Heat Pump Clothes Dryer - Clothes dryer in upgrade 8"
   ]
  },
  {
   "cell_type": "code",
   "execution_count": 17,
   "id": "382d090c",
   "metadata": {},
   "outputs": [],
   "source": [
    "up10_baseline = euss00.loc[euss00['building_id'].isin(building_ids_list['10'])]\n",
    "up10 = results['10'].join(up10_baseline.set_index('building_id'), on='building_id')\n",
    "euss08_dryer = euss08.loc[euss08['building_id'].isin(building_ids_list['10'])]\n",
    "up10 = up10.join(euss08_dryer.set_index('building_id'), on='building_id')\n",
    "up10['saving_cbill.electricity_TOU_usd'] = up10['baseline_cbill.electricity__clothes_dryer__TOU__usd'].fillna(0) - up10['cbill.electricity__clothes_dryer__TOU__usd'].fillna(0) \n",
    "up10['pct_saving_cbill.electricity_TOU_%'] = up10['saving_cbill.electricity_TOU_usd']/up10['baseline_cbill.electricity__TOU__usd'] * 100\n",
    "all_frame.append(up10)"
   ]
  },
  {
   "cell_type": "markdown",
   "id": "caefd720",
   "metadata": {},
   "source": [
    "Package 11. Electric Cooking - Cooking (\"range_oven\") in upgrade 7"
   ]
  },
  {
   "cell_type": "code",
   "execution_count": 18,
   "id": "ea68f63b",
   "metadata": {},
   "outputs": [],
   "source": [
    "up11_baseline = euss00.loc[euss00['building_id'].isin(building_ids_list['11'])]\n",
    "up11 = results['11'].join(up11_baseline.set_index('building_id'), on='building_id')\n",
    "euss07_cooking = euss07.loc[euss07['building_id'].isin(building_ids_list['11'])]\n",
    "up11 = up11.join(euss07_cooking.set_index('building_id'), on='building_id')\n",
    "up11['saving_cbill.electricity_TOU_usd'] = up11['baseline_cbill.electricity__clothes_dryer__TOU__usd'].fillna(0) - up11['cbill.electricity__clothes_dryer__TOU__usd'].fillna(0) \n",
    "up11['pct_saving_cbill.electricity_TOU_%'] = up11['saving_cbill.electricity_TOU_usd']/up11['baseline_cbill.electricity__TOU__usd'] * 100"
   ]
  },
  {
   "cell_type": "markdown",
   "id": "0810beef",
   "metadata": {},
   "source": [
    "Package 12. Induction Cooking - Cooking (\"range_oven\") in upgrade 8"
   ]
  },
  {
   "cell_type": "code",
   "execution_count": 19,
   "id": "dec0dbd6",
   "metadata": {},
   "outputs": [],
   "source": [
    "up12_baseline = euss00.loc[euss00['building_id'].isin(building_ids_list['12'])]\n",
    "up12 = results['12'].join(up12_baseline.set_index('building_id'), on='building_id')\n",
    "euss08_cooking = euss08.loc[euss08['building_id'].isin(building_ids_list['12'])]\n",
    "up12 = up12.join(euss08_cooking.set_index('building_id'), on='building_id')\n",
    "up12['saving_cbill.electricity_TOU_usd'] = up12['baseline_cbill.electricity__clothes_dryer__TOU__usd'].fillna(0) - up12['cbill.electricity__clothes_dryer__TOU__usd'].fillna(0) \n",
    "up12['pct_saving_cbill.electricity_TOU_%'] = up12['saving_cbill.electricity_TOU_usd']/up12['baseline_cbill.electricity__TOU__usd'] * 100"
   ]
  },
  {
   "cell_type": "markdown",
   "id": "ec865153",
   "metadata": {},
   "source": [
    "Package 13. Mininum Efficiency Whole Home Electrification - upgrade 7"
   ]
  },
  {
   "cell_type": "code",
   "execution_count": 20,
   "id": "f339697f",
   "metadata": {},
   "outputs": [],
   "source": [
    "up13_baseline = euss00.loc[euss00['building_id'].isin(building_ids_list['13'])]\n",
    "up13 = results['13'].join(up13_baseline.set_index('building_id'), on='building_id')\n",
    "up13 = up13.join(euss07.set_index('building_id'), on='building_id')\n",
    "up13['saving_cbill.electricity_TOU_usd'] = up13['baseline_cbill.electricity__TOU__usd'] - up13['cbill.electricity__TOU__usd'] \n",
    "up13['pct_saving_cbill.electricity_TOU_%'] = up13['saving_cbill.electricity_TOU_usd']/up13['baseline_cbill.electricity__TOU__usd'] * 100\n",
    "all_frame.append(up13)"
   ]
  },
  {
   "cell_type": "markdown",
   "id": "e0289a9f",
   "metadata": {},
   "source": [
    "Package 14. high Efficiency Whole Home Electrification - upgrade 8"
   ]
  },
  {
   "cell_type": "code",
   "execution_count": 21,
   "id": "a6d1cb7e",
   "metadata": {},
   "outputs": [],
   "source": [
    "up14_baseline = euss00.loc[euss00['building_id'].isin(building_ids_list['14'])]\n",
    "up14 = results['14'].join(up14_baseline.set_index('building_id'), on='building_id')\n",
    "up14 = up14.join(euss08.set_index('building_id'), on='building_id')\n",
    "up14['saving_cbill.electricity_TOU_usd'] = up14['baseline_cbill.electricity__TOU__usd'] - up14['cbill.electricity__TOU__usd'] \n",
    "up14['pct_saving_cbill.electricity_TOU_%'] = up14['saving_cbill.electricity_TOU_usd']/up14['baseline_cbill.electricity__TOU__usd'] * 100\n",
    "all_frame.append(up14)"
   ]
  },
  {
   "cell_type": "markdown",
   "id": "c6d42fe6",
   "metadata": {},
   "source": [
    "Package 15. Basic Enclosure + High Efficiency Whole Home Electrification - upgrade 9"
   ]
  },
  {
   "cell_type": "code",
   "execution_count": 22,
   "id": "e8df7d90",
   "metadata": {},
   "outputs": [],
   "source": [
    "up15_baseline = euss00.loc[euss00['building_id'].isin(building_ids_list['15'])]\n",
    "up15 = results['15'].join(up15_baseline.set_index('building_id'), on='building_id')\n",
    "up15 = up15.join(euss09.set_index('building_id'), on='building_id')\n",
    "up15['saving_cbill.electricity_TOU_usd'] = up15['baseline_cbill.electricity__TOU__usd'] - up15['cbill.electricity__TOU__usd'] \n",
    "up15['pct_saving_cbill.electricity_TOU_%'] = up15['saving_cbill.electricity_TOU_usd']/up15['baseline_cbill.electricity__TOU__usd'] * 100\n",
    "all_frame.append(up15)"
   ]
  },
  {
   "cell_type": "markdown",
   "id": "ff231b36",
   "metadata": {},
   "source": [
    "Package 16. Enhanced Enclosure + High Efficiency Whole Home Electrification - upgrade 10"
   ]
  },
  {
   "cell_type": "code",
   "execution_count": 23,
   "id": "7d9f572f",
   "metadata": {},
   "outputs": [],
   "source": [
    "up16_baseline = euss00.loc[euss00['building_id'].isin(building_ids_list['16'])]\n",
    "up16 = results['16'].join(up16_baseline.set_index('building_id'), on='building_id')\n",
    "up16 = up16.join(euss10.set_index('building_id'), on='building_id')\n",
    "up16['saving_cbill.electricity_TOU_usd'] = up16['baseline_cbill.electricity__TOU__usd'] - up16['cbill.electricity__TOU__usd'] \n",
    "up16['pct_saving_cbill.electricity_TOU_%'] = up16['saving_cbill.electricity_TOU_usd']/up16['baseline_cbill.electricity__TOU__usd'] * 100\n",
    "all_frame.append(up16)"
   ]
  },
  {
   "cell_type": "code",
   "execution_count": 24,
   "id": "1f9792d3",
   "metadata": {},
   "outputs": [],
   "source": [
    "community_results_bill = pd.concat(all_frame)\n",
    "community_results_bill = community_results_bill.drop(['cbill.electricity__TOU__usd',\n",
    "                             'cbill.electricity__clothes_dryer__TOU__usd',\n",
    "                             'cbill.electricity__range_oven__TOU__usd',\n",
    "                             'baseline_cbill.electricity__clothes_dryer__TOU__usd',\n",
    "                             'baseline_cbill.electricity__range_oven__TOU__usd'], axis=1)\n",
    "community_results_bill['baseline_cbill.total_usd'] = community_results_bill['baseline_cbill.electricity__TOU__usd']+community_results_bill['baseline_cbill.natural_gas_usd']+community_results_bill['baseline_cbill.fuel_oil_usd']+community_results_bill['baseline_cbill.propane_usd']\n",
    "community_results_bill['saving_cbill.total_usd'] = community_results_bill['saving_cbill.electricity_TOU_usd']+community_results_bill['saving_cbill.natural_gas_usd']+community_results_bill['saving_cbill.fuel_oil_usd']+community_results_bill['saving_cbill.propane_usd']\n",
    "community_results_bill['pct_saving_cbill.total_%'] = community_results_bill['saving_cbill.total__TOU_usd']/community_results_bill['baseline_cbill.total__TOU_usd'] * 100"
   ]
  },
  {
   "cell_type": "code",
   "execution_count": 25,
   "id": "da30bfc2",
   "metadata": {},
   "outputs": [],
   "source": [
    "community_results_bill.to_csv(f\"data_/community_building_samples_with_upgrade_cost_and_bill/{community}/processed_upgrade_results_TOU.csv\")\n",
    "community_results_bill.to_parquet(f\"data_/community_building_samples_with_upgrade_cost_and_bill/{community}/processed_upgrade_results_TOU.parquet\")"
   ]
  }
 ],
 "metadata": {
  "kernelspec": {
   "display_name": "Python 3 (ipykernel)",
   "language": "python",
   "name": "python3"
  },
  "language_info": {
   "codemirror_mode": {
    "name": "ipython",
    "version": 3
   },
   "file_extension": ".py",
   "mimetype": "text/x-python",
   "name": "python",
   "nbconvert_exporter": "python",
   "pygments_lexer": "ipython3",
   "version": "3.10.9"
  }
 },
 "nbformat": 4,
 "nbformat_minor": 5
}
