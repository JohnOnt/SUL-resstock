{
 "cells": [
  {
   "cell_type": "code",
   "execution_count": 2,
   "id": "3ddb2630",
   "metadata": {},
   "outputs": [],
   "source": [
    "import pandas as pd"
   ]
  },
  {
   "cell_type": "code",
   "execution_count": 3,
   "id": "41fe2dca",
   "metadata": {},
   "outputs": [],
   "source": [
    "community = 'duluth' # TODO change community name"
   ]
  },
  {
   "cell_type": "code",
   "execution_count": 4,
   "id": "5f9bfed2",
   "metadata": {},
   "outputs": [
    {
     "name": "stderr",
     "output_type": "stream",
     "text": [
      "C:\\Users\\ylou2\\AppData\\Local\\Temp\\1\\ipykernel_21940\\1322714873.py:6: DtypeWarning: Columns (550,553,556,583,604,616,617) have mixed types. Specify dtype option on import or set low_memory=False.\n",
      "  up05 = pd.read_csv(f'data_/community_building_samples_with_upgrade_cost_and_bill/{community}/up05__{community}.csv')\n",
      "C:\\Users\\ylou2\\AppData\\Local\\Temp\\1\\ipykernel_21940\\1322714873.py:7: DtypeWarning: Columns (8,9,10,11,501,502,503,504,505,506,507,508,509,510,511,512,513,529) have mixed types. Specify dtype option on import or set low_memory=False.\n",
      "  up06 = pd.read_csv(f'data_/community_building_samples_with_upgrade_cost_and_bill/{community}/up06__{community}.csv')\n"
     ]
    }
   ],
   "source": [
    "up00 = pd.read_csv(f'data_/community_building_samples_with_upgrade_cost_and_bill/{community}/up00__{community}.csv')\n",
    "up01 = pd.read_csv(f'data_/community_building_samples_with_upgrade_cost_and_bill/{community}/up01__{community}.csv')\n",
    "up02 = pd.read_csv(f'data_/community_building_samples_with_upgrade_cost_and_bill/{community}/up02__{community}.csv')\n",
    "up03 = pd.read_csv(f'data_/community_building_samples_with_upgrade_cost_and_bill/{community}/up03__{community}.csv')\n",
    "up04 = pd.read_csv(f'data_/community_building_samples_with_upgrade_cost_and_bill/{community}/up04__{community}.csv')\n",
    "up05 = pd.read_csv(f'data_/community_building_samples_with_upgrade_cost_and_bill/{community}/up05__{community}.csv')\n",
    "up06 = pd.read_csv(f'data_/community_building_samples_with_upgrade_cost_and_bill/{community}/up06__{community}.csv')\n",
    "up07 = pd.read_csv(f'data_/community_building_samples_with_upgrade_cost_and_bill/{community}/up07__{community}.csv')\n",
    "up08 = pd.read_csv(f'data_/community_building_samples_with_upgrade_cost_and_bill/{community}/up08__{community}.csv')\n",
    "up09 = pd.read_csv(f'data_/community_building_samples_with_upgrade_cost_and_bill/{community}/up09__{community}.csv')\n",
    "up10 = pd.read_csv(f'data_/community_building_samples_with_upgrade_cost_and_bill/{community}/up10__{community}.csv')\n",
    "\n",
    "up00.to_parquet(f'data_/community_building_samples_with_upgrade_cost_and_bill/{community}/up00__{community}.parquet')\n",
    "up01.to_parquet(f'data_/community_building_samples_with_upgrade_cost_and_bill/{community}/up01__{community}.parquet')\n",
    "up02.to_parquet(f'data_/community_building_samples_with_upgrade_cost_and_bill/{community}/up02__{community}.parquet')\n",
    "up03.to_parquet(f'data_/community_building_samples_with_upgrade_cost_and_bill/{community}/up03__{community}.parquet')\n",
    "up04.to_parquet(f'data_/community_building_samples_with_upgrade_cost_and_bill/{community}/up04__{community}.parquet')\n",
    "up05.to_parquet(f'data_/community_building_samples_with_upgrade_cost_and_bill/{community}/up05__{community}.parquet')\n",
    "up06.to_parquet(f'data_/community_building_samples_with_upgrade_cost_and_bill/{community}/up06__{community}.parquet')\n",
    "up07.to_parquet(f'data_/community_building_samples_with_upgrade_cost_and_bill/{community}/up07__{community}.parquet')\n",
    "up08.to_parquet(f'data_/community_building_samples_with_upgrade_cost_and_bill/{community}/up08__{community}.parquet')\n",
    "up09.to_parquet(f'data_/community_building_samples_with_upgrade_cost_and_bill/{community}/up09__{community}.parquet')\n",
    "up10.to_parquet(f'data_/community_building_samples_with_upgrade_cost_and_bill/{community}/up10__{community}.parquet')"
   ]
  },
  {
   "cell_type": "code",
   "execution_count": null,
   "id": "a0c84596",
   "metadata": {},
   "outputs": [],
   "source": []
  }
 ],
 "metadata": {
  "kernelspec": {
   "display_name": "Python 3 (ipykernel)",
   "language": "python",
   "name": "python3"
  },
  "language_info": {
   "codemirror_mode": {
    "name": "ipython",
    "version": 3
   },
   "file_extension": ".py",
   "mimetype": "text/x-python",
   "name": "python",
   "nbconvert_exporter": "python",
   "pygments_lexer": "ipython3",
   "version": "3.11.1"
  }
 },
 "nbformat": 4,
 "nbformat_minor": 5
}
