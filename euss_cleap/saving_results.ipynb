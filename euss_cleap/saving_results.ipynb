{
 "cells": [
  {
   "cell_type": "code",
   "execution_count": 6,
   "id": "db22b178",
   "metadata": {},
   "outputs": [],
   "source": [
    "import plotly.graph_objects as go\n",
    "from plotly.subplots import make_subplots\n",
    "import plotly.express as px\n",
    "import pandas as pd\n",
    "import numpy as np\n",
    "from pathlib import Path"
   ]
  },
  {
   "cell_type": "code",
   "execution_count": 7,
   "id": "01fc7805",
   "metadata": {},
   "outputs": [],
   "source": [
    "# [\"louisville\", \"san_jose\", \"columbia\", \"north_birmingham\", \"jackson_county\", \"duluth\", \"hill_district\"]\n",
    "community = 'duluth' # TODO change community name\n",
    "fig_dir = Path(\".\").resolve() / \"results\" / community\n",
    "fig_dir.mkdir(exist_ok=True, parents=True)\n",
    "\n",
    "community_results = pd.read_parquet(f\"data_/community_building_samples_with_upgrade_cost_and_bill/{community}/processed_upgrade_results.parquet\")"
   ]
  },
  {
   "cell_type": "markdown",
   "id": "40eb34a2",
   "metadata": {},
   "source": [
    "### get energy burden distribution"
   ]
  },
  {
   "cell_type": "code",
   "execution_count": 8,
   "id": "13b193ec",
   "metadata": {},
   "outputs": [
    {
     "data": {
      "application/vnd.plotly.v1+json": {
       "config": {
        "plotlyServerURL": "https://plot.ly"
       },
       "data": [
        {
         "alignmentgroup": "True",
         "cliponaxis": false,
         "hovertemplate": "x=%{x}<br>y=%{y}<extra></extra>",
         "legendgroup": "",
         "marker": {
          "color": "rgb(0, 121, 61)",
          "line": {
           "color": "rgb(0, 121, 61)"
          },
          "pattern": {
           "shape": ""
          }
         },
         "name": "",
         "offsetgroup": "",
         "orientation": "v",
         "showlegend": false,
         "textangle": 0,
         "textfont": {
          "size": 10
         },
         "textposition": "outside",
         "texttemplate": "%{y}",
         "type": "bar",
         "x": [
          "<2%",
          "2-4%",
          "4-6%",
          "6-8%",
          "8-10%",
          "10%+"
         ],
         "xaxis": "x",
         "y": [
          0.24862341961485648,
          0.2843969086490716,
          0.1586554230605623,
          0.09004932673838009,
          0.05815661526349035,
          0.16011830667363916
         ],
         "yaxis": "y"
        }
       ],
       "layout": {
        "autosize": false,
        "barmode": "relative",
        "font": {
         "size": 10
        },
        "height": 300,
        "legend": {
         "tracegroupgap": 0
        },
        "margin": {
         "t": 60
        },
        "plot_bgcolor": "rgba(0, 0, 0, 0)",
        "template": {
         "data": {
          "bar": [
           {
            "error_x": {
             "color": "#2a3f5f"
            },
            "error_y": {
             "color": "#2a3f5f"
            },
            "marker": {
             "line": {
              "color": "#E5ECF6",
              "width": 0.5
             },
             "pattern": {
              "fillmode": "overlay",
              "size": 10,
              "solidity": 0.2
             }
            },
            "type": "bar"
           }
          ],
          "barpolar": [
           {
            "marker": {
             "line": {
              "color": "#E5ECF6",
              "width": 0.5
             },
             "pattern": {
              "fillmode": "overlay",
              "size": 10,
              "solidity": 0.2
             }
            },
            "type": "barpolar"
           }
          ],
          "carpet": [
           {
            "aaxis": {
             "endlinecolor": "#2a3f5f",
             "gridcolor": "white",
             "linecolor": "white",
             "minorgridcolor": "white",
             "startlinecolor": "#2a3f5f"
            },
            "baxis": {
             "endlinecolor": "#2a3f5f",
             "gridcolor": "white",
             "linecolor": "white",
             "minorgridcolor": "white",
             "startlinecolor": "#2a3f5f"
            },
            "type": "carpet"
           }
          ],
          "choropleth": [
           {
            "colorbar": {
             "outlinewidth": 0,
             "ticks": ""
            },
            "type": "choropleth"
           }
          ],
          "contour": [
           {
            "colorbar": {
             "outlinewidth": 0,
             "ticks": ""
            },
            "colorscale": [
             [
              0,
              "#0d0887"
             ],
             [
              0.1111111111111111,
              "#46039f"
             ],
             [
              0.2222222222222222,
              "#7201a8"
             ],
             [
              0.3333333333333333,
              "#9c179e"
             ],
             [
              0.4444444444444444,
              "#bd3786"
             ],
             [
              0.5555555555555556,
              "#d8576b"
             ],
             [
              0.6666666666666666,
              "#ed7953"
             ],
             [
              0.7777777777777778,
              "#fb9f3a"
             ],
             [
              0.8888888888888888,
              "#fdca26"
             ],
             [
              1,
              "#f0f921"
             ]
            ],
            "type": "contour"
           }
          ],
          "contourcarpet": [
           {
            "colorbar": {
             "outlinewidth": 0,
             "ticks": ""
            },
            "type": "contourcarpet"
           }
          ],
          "heatmap": [
           {
            "colorbar": {
             "outlinewidth": 0,
             "ticks": ""
            },
            "colorscale": [
             [
              0,
              "#0d0887"
             ],
             [
              0.1111111111111111,
              "#46039f"
             ],
             [
              0.2222222222222222,
              "#7201a8"
             ],
             [
              0.3333333333333333,
              "#9c179e"
             ],
             [
              0.4444444444444444,
              "#bd3786"
             ],
             [
              0.5555555555555556,
              "#d8576b"
             ],
             [
              0.6666666666666666,
              "#ed7953"
             ],
             [
              0.7777777777777778,
              "#fb9f3a"
             ],
             [
              0.8888888888888888,
              "#fdca26"
             ],
             [
              1,
              "#f0f921"
             ]
            ],
            "type": "heatmap"
           }
          ],
          "heatmapgl": [
           {
            "colorbar": {
             "outlinewidth": 0,
             "ticks": ""
            },
            "colorscale": [
             [
              0,
              "#0d0887"
             ],
             [
              0.1111111111111111,
              "#46039f"
             ],
             [
              0.2222222222222222,
              "#7201a8"
             ],
             [
              0.3333333333333333,
              "#9c179e"
             ],
             [
              0.4444444444444444,
              "#bd3786"
             ],
             [
              0.5555555555555556,
              "#d8576b"
             ],
             [
              0.6666666666666666,
              "#ed7953"
             ],
             [
              0.7777777777777778,
              "#fb9f3a"
             ],
             [
              0.8888888888888888,
              "#fdca26"
             ],
             [
              1,
              "#f0f921"
             ]
            ],
            "type": "heatmapgl"
           }
          ],
          "histogram": [
           {
            "marker": {
             "pattern": {
              "fillmode": "overlay",
              "size": 10,
              "solidity": 0.2
             }
            },
            "type": "histogram"
           }
          ],
          "histogram2d": [
           {
            "colorbar": {
             "outlinewidth": 0,
             "ticks": ""
            },
            "colorscale": [
             [
              0,
              "#0d0887"
             ],
             [
              0.1111111111111111,
              "#46039f"
             ],
             [
              0.2222222222222222,
              "#7201a8"
             ],
             [
              0.3333333333333333,
              "#9c179e"
             ],
             [
              0.4444444444444444,
              "#bd3786"
             ],
             [
              0.5555555555555556,
              "#d8576b"
             ],
             [
              0.6666666666666666,
              "#ed7953"
             ],
             [
              0.7777777777777778,
              "#fb9f3a"
             ],
             [
              0.8888888888888888,
              "#fdca26"
             ],
             [
              1,
              "#f0f921"
             ]
            ],
            "type": "histogram2d"
           }
          ],
          "histogram2dcontour": [
           {
            "colorbar": {
             "outlinewidth": 0,
             "ticks": ""
            },
            "colorscale": [
             [
              0,
              "#0d0887"
             ],
             [
              0.1111111111111111,
              "#46039f"
             ],
             [
              0.2222222222222222,
              "#7201a8"
             ],
             [
              0.3333333333333333,
              "#9c179e"
             ],
             [
              0.4444444444444444,
              "#bd3786"
             ],
             [
              0.5555555555555556,
              "#d8576b"
             ],
             [
              0.6666666666666666,
              "#ed7953"
             ],
             [
              0.7777777777777778,
              "#fb9f3a"
             ],
             [
              0.8888888888888888,
              "#fdca26"
             ],
             [
              1,
              "#f0f921"
             ]
            ],
            "type": "histogram2dcontour"
           }
          ],
          "mesh3d": [
           {
            "colorbar": {
             "outlinewidth": 0,
             "ticks": ""
            },
            "type": "mesh3d"
           }
          ],
          "parcoords": [
           {
            "line": {
             "colorbar": {
              "outlinewidth": 0,
              "ticks": ""
             }
            },
            "type": "parcoords"
           }
          ],
          "pie": [
           {
            "automargin": true,
            "type": "pie"
           }
          ],
          "scatter": [
           {
            "fillpattern": {
             "fillmode": "overlay",
             "size": 10,
             "solidity": 0.2
            },
            "type": "scatter"
           }
          ],
          "scatter3d": [
           {
            "line": {
             "colorbar": {
              "outlinewidth": 0,
              "ticks": ""
             }
            },
            "marker": {
             "colorbar": {
              "outlinewidth": 0,
              "ticks": ""
             }
            },
            "type": "scatter3d"
           }
          ],
          "scattercarpet": [
           {
            "marker": {
             "colorbar": {
              "outlinewidth": 0,
              "ticks": ""
             }
            },
            "type": "scattercarpet"
           }
          ],
          "scattergeo": [
           {
            "marker": {
             "colorbar": {
              "outlinewidth": 0,
              "ticks": ""
             }
            },
            "type": "scattergeo"
           }
          ],
          "scattergl": [
           {
            "marker": {
             "colorbar": {
              "outlinewidth": 0,
              "ticks": ""
             }
            },
            "type": "scattergl"
           }
          ],
          "scattermapbox": [
           {
            "marker": {
             "colorbar": {
              "outlinewidth": 0,
              "ticks": ""
             }
            },
            "type": "scattermapbox"
           }
          ],
          "scatterpolar": [
           {
            "marker": {
             "colorbar": {
              "outlinewidth": 0,
              "ticks": ""
             }
            },
            "type": "scatterpolar"
           }
          ],
          "scatterpolargl": [
           {
            "marker": {
             "colorbar": {
              "outlinewidth": 0,
              "ticks": ""
             }
            },
            "type": "scatterpolargl"
           }
          ],
          "scatterternary": [
           {
            "marker": {
             "colorbar": {
              "outlinewidth": 0,
              "ticks": ""
             }
            },
            "type": "scatterternary"
           }
          ],
          "surface": [
           {
            "colorbar": {
             "outlinewidth": 0,
             "ticks": ""
            },
            "colorscale": [
             [
              0,
              "#0d0887"
             ],
             [
              0.1111111111111111,
              "#46039f"
             ],
             [
              0.2222222222222222,
              "#7201a8"
             ],
             [
              0.3333333333333333,
              "#9c179e"
             ],
             [
              0.4444444444444444,
              "#bd3786"
             ],
             [
              0.5555555555555556,
              "#d8576b"
             ],
             [
              0.6666666666666666,
              "#ed7953"
             ],
             [
              0.7777777777777778,
              "#fb9f3a"
             ],
             [
              0.8888888888888888,
              "#fdca26"
             ],
             [
              1,
              "#f0f921"
             ]
            ],
            "type": "surface"
           }
          ],
          "table": [
           {
            "cells": {
             "fill": {
              "color": "#EBF0F8"
             },
             "line": {
              "color": "white"
             }
            },
            "header": {
             "fill": {
              "color": "#C8D4E3"
             },
             "line": {
              "color": "white"
             }
            },
            "type": "table"
           }
          ]
         },
         "layout": {
          "annotationdefaults": {
           "arrowcolor": "#2a3f5f",
           "arrowhead": 0,
           "arrowwidth": 1
          },
          "autotypenumbers": "strict",
          "coloraxis": {
           "colorbar": {
            "outlinewidth": 0,
            "ticks": ""
           }
          },
          "colorscale": {
           "diverging": [
            [
             0,
             "#8e0152"
            ],
            [
             0.1,
             "#c51b7d"
            ],
            [
             0.2,
             "#de77ae"
            ],
            [
             0.3,
             "#f1b6da"
            ],
            [
             0.4,
             "#fde0ef"
            ],
            [
             0.5,
             "#f7f7f7"
            ],
            [
             0.6,
             "#e6f5d0"
            ],
            [
             0.7,
             "#b8e186"
            ],
            [
             0.8,
             "#7fbc41"
            ],
            [
             0.9,
             "#4d9221"
            ],
            [
             1,
             "#276419"
            ]
           ],
           "sequential": [
            [
             0,
             "#0d0887"
            ],
            [
             0.1111111111111111,
             "#46039f"
            ],
            [
             0.2222222222222222,
             "#7201a8"
            ],
            [
             0.3333333333333333,
             "#9c179e"
            ],
            [
             0.4444444444444444,
             "#bd3786"
            ],
            [
             0.5555555555555556,
             "#d8576b"
            ],
            [
             0.6666666666666666,
             "#ed7953"
            ],
            [
             0.7777777777777778,
             "#fb9f3a"
            ],
            [
             0.8888888888888888,
             "#fdca26"
            ],
            [
             1,
             "#f0f921"
            ]
           ],
           "sequentialminus": [
            [
             0,
             "#0d0887"
            ],
            [
             0.1111111111111111,
             "#46039f"
            ],
            [
             0.2222222222222222,
             "#7201a8"
            ],
            [
             0.3333333333333333,
             "#9c179e"
            ],
            [
             0.4444444444444444,
             "#bd3786"
            ],
            [
             0.5555555555555556,
             "#d8576b"
            ],
            [
             0.6666666666666666,
             "#ed7953"
            ],
            [
             0.7777777777777778,
             "#fb9f3a"
            ],
            [
             0.8888888888888888,
             "#fdca26"
            ],
            [
             1,
             "#f0f921"
            ]
           ]
          },
          "colorway": [
           "#636efa",
           "#EF553B",
           "#00cc96",
           "#ab63fa",
           "#FFA15A",
           "#19d3f3",
           "#FF6692",
           "#B6E880",
           "#FF97FF",
           "#FECB52"
          ],
          "font": {
           "color": "#2a3f5f"
          },
          "geo": {
           "bgcolor": "white",
           "lakecolor": "white",
           "landcolor": "#E5ECF6",
           "showlakes": true,
           "showland": true,
           "subunitcolor": "white"
          },
          "hoverlabel": {
           "align": "left"
          },
          "hovermode": "closest",
          "mapbox": {
           "style": "light"
          },
          "paper_bgcolor": "white",
          "plot_bgcolor": "#E5ECF6",
          "polar": {
           "angularaxis": {
            "gridcolor": "white",
            "linecolor": "white",
            "ticks": ""
           },
           "bgcolor": "#E5ECF6",
           "radialaxis": {
            "gridcolor": "white",
            "linecolor": "white",
            "ticks": ""
           }
          },
          "scene": {
           "xaxis": {
            "backgroundcolor": "#E5ECF6",
            "gridcolor": "white",
            "gridwidth": 2,
            "linecolor": "white",
            "showbackground": true,
            "ticks": "",
            "zerolinecolor": "white"
           },
           "yaxis": {
            "backgroundcolor": "#E5ECF6",
            "gridcolor": "white",
            "gridwidth": 2,
            "linecolor": "white",
            "showbackground": true,
            "ticks": "",
            "zerolinecolor": "white"
           },
           "zaxis": {
            "backgroundcolor": "#E5ECF6",
            "gridcolor": "white",
            "gridwidth": 2,
            "linecolor": "white",
            "showbackground": true,
            "ticks": "",
            "zerolinecolor": "white"
           }
          },
          "shapedefaults": {
           "line": {
            "color": "#2a3f5f"
           }
          },
          "ternary": {
           "aaxis": {
            "gridcolor": "white",
            "linecolor": "white",
            "ticks": ""
           },
           "baxis": {
            "gridcolor": "white",
            "linecolor": "white",
            "ticks": ""
           },
           "bgcolor": "#E5ECF6",
           "caxis": {
            "gridcolor": "white",
            "linecolor": "white",
            "ticks": ""
           }
          },
          "title": {
           "x": 0.05
          },
          "xaxis": {
           "automargin": true,
           "gridcolor": "white",
           "linecolor": "white",
           "ticks": "",
           "title": {
            "standoff": 15
           },
           "zerolinecolor": "white",
           "zerolinewidth": 2
          },
          "yaxis": {
           "automargin": true,
           "gridcolor": "white",
           "linecolor": "white",
           "ticks": "",
           "title": {
            "standoff": 15
           },
           "zerolinecolor": "white",
           "zerolinewidth": 2
          }
         }
        },
        "title": {
         "text": "Energy Burden"
        },
        "width": 350,
        "xaxis": {
         "anchor": "y",
         "domain": [
          0,
          1
         ],
         "tickangle": 45,
         "title": {
          "text": ""
         }
        },
        "yaxis": {
         "anchor": "x",
         "domain": [
          0,
          1
         ],
         "range": [
          0,
          0.3
         ],
         "tickformat": ",.0%",
         "title": {
          "text": "Percent of Housing"
         }
        }
       }
      }
     },
     "metadata": {},
     "output_type": "display_data"
    }
   ],
   "source": [
    "up00 = community_results.loc[community_results[\"upgrade_name\"]==\"baseline\"]\n",
    "metric = \"energy_burden\"\n",
    "metric_name = metric.replace(\"_\", \" \").title()\n",
    "\n",
    "cooling_type_list = ['<2%', '2-4%', '4-6%', '6-8%', '8-10%', '10%+']\n",
    "cooling_type_percentage = []\n",
    "for cooling_type in cooling_type_list:\n",
    "    temp = up00.loc[up00[metric] == cooling_type]\n",
    "    temp_count =temp['sample_weight'].sum()/up00[\"sample_weight\"].sum()\n",
    "    cooling_type_percentage.append(temp_count)\n",
    "    \n",
    "fig = px.bar(x=cooling_type_list, y=cooling_type_percentage, text_auto=True)\n",
    "fig.update_traces(textfont_size=10, textangle=0, textposition=\"outside\", cliponaxis=False)\n",
    "fig.update_traces(marker_color='rgb(0, 121, 61)', marker_line_color='rgb(0, 121, 61)')\n",
    "fig.update_layout(autosize=False, width=350, height=300, \n",
    "                  font=dict(size=10), \n",
    "                  plot_bgcolor='rgba(0, 0, 0, 0)', \n",
    "                  title=metric_name,\n",
    "                  xaxis_title=\"\",\n",
    "                  yaxis_title=\"Percent of Housing\",\n",
    "                  yaxis_range=[0,0.3])\n",
    "fig.layout.yaxis.tickformat = ',.0%'\n",
    "fig.update_xaxes(tickangle=45)\n",
    "fig.show()\n",
    "fig.write_image(fig_dir / f\"{metric}.svg\")"
   ]
  },
  {
   "cell_type": "markdown",
   "id": "919cada0",
   "metadata": {},
   "source": [
    "# Add segment label to the results"
   ]
  },
  {
   "cell_type": "markdown",
   "id": "6497896e",
   "metadata": {},
   "source": [
    "Define segement"
   ]
  },
  {
   "cell_type": "code",
   "execution_count": 9,
   "id": "f6744766",
   "metadata": {},
   "outputs": [],
   "source": [
    "####for columbia\n",
    "###### fuel\n",
    "# 'electricity', 'natural_gas', 'fuel_oil', 'propane'\n",
    "###### Vacancy Status\n",
    "# 'Occupied', 'Vacant'\n",
    "\n",
    "###### Building Type\n",
    "# 'Mobile Home'\n",
    "# 'Multi-Family with 2 - 4 Units'\n",
    "# 'Multi-Family with 5+ Units'\n",
    "# 'Single-Family Attached'\n",
    "# 'Single-Family Detached'\n",
    "###### Vintage\n",
    "# '<1940', '1940s', '1950s', '1960s', '1970s', '1980s', '1990s', '2000s', '2010s'\n",
    "###### Tenure\n",
    "# 'Renter', 'Owner'\n",
    "###### area_median_income\n",
    "# '0-30%','30-60%','60-80%','80-100%', '100-120%','120-150%'   build_existing_model.area_median_income\n",
    "\n",
    "######build_existing_model.geometry_wall_exterior_finish\n",
    "#'Brick', 'Concrete', 'Steel Frame', 'Wood Frame'\n",
    "\n",
    "#####TODO, change the community needs follwing\n",
    "'''\n",
    "Single family detached, 1940-1979, all income \n",
    "Multifamily with 5+ units, 1940-1979, all income \n",
    "Single family detached, 1980+, all income \n",
    "Multifamily with 5+ units, 1980+, all income \n",
    "Single family detached, 1940-1979, 0-80% AMI \n",
    "Multifamily with 5+ units, 1940-1979, 0-80% AMI \n",
    "Single family detached, 1980+, 0-80% AMI \n",
    "Multifamily with 5+ units, 1980+, 0-80% AMI \n",
    "Only interested in electric and natural gas fuel types \n",
    "'''\n",
    "\n",
    "seg1_building_type = ['Single-Family Detached']\n",
    "seg1_vintage = ['1940s', '1950s', '1960s', '1970s']\n",
    "seg1_tenure = ['Renter', 'Owner']\n",
    "seg1_construction = ['Brick', 'Concrete', 'Steel Frame', 'Wood Frame']\n",
    "seg1_median_income = ['0-30%','30-60%','60-80%','80-100%', '100-120%','120-150%']\n",
    "\n",
    "seg2_building_type = ['Multi-Family with 5+ Units']\n",
    "seg2_vintage = ['1940s', '1950s', '1960s', '1970s']\n",
    "seg2_tenure = ['Renter', 'Owner']\n",
    "seg2_construction = ['Brick', 'Concrete', 'Steel Frame', 'Wood Frame']\n",
    "seg2_median_income = ['0-30%','30-60%','60-80%','80-100%', '100-120%','120-150%']\n",
    "\n",
    "seg3_building_type = ['Single-Family Detached']\n",
    "seg3_vintage = ['1980s', '1990s', '2000s', '2010s']\n",
    "seg3_tenure = ['Renter','Owner']\n",
    "seg3_construction = ['Brick', 'Concrete', 'Steel Frame', 'Wood Frame']\n",
    "seg3_median_income = ['0-30%','30-60%','60-80%','80-100%', '100-120%','120-150%']\n",
    "\n",
    "seg4_building_type = ['Multi-Family with 5+ Units']\n",
    "seg4_vintage = ['1980s', '1990s', '2000s', '2010s']\n",
    "seg4_tenure = ['Renter','Owner']\n",
    "seg4_construction = ['Brick', 'Concrete', 'Steel Frame', 'Wood Frame']\n",
    "seg4_median_income = ['0-30%','30-60%','60-80%','80-100%', '100-120%','120-150%']"
   ]
  },
  {
   "cell_type": "code",
   "execution_count": 10,
   "id": "86e97dd4",
   "metadata": {},
   "outputs": [],
   "source": [
    "####for san_jose\n",
    "'''\n",
    "Multifamily with 5+ units, 1940-1979, all income \n",
    "Multifamily with 5+ units, 1980+, all income \n",
    "Single family detached 1940-1979, all income \n",
    "Single family attached 1940-1979, all income \n",
    "Multifamily with 5+ units, 1940-1979, 0-80% AMI \n",
    "Multifamily with 5+ units, 1980+, 0-80% AMI \n",
    "Single family detached 1940-1979, 0-80% AMI \n",
    "Single family attached 1940-1979, 0-80% AMI \n",
    "Only interested in electricity and natural gas fuel type \n",
    "Do not want results for vacant housing  \n",
    "'''\n",
    "vacancy_status = ['Occupied']\n",
    "\n",
    "seg1_building_type = ['Multi-Family with 5+ Units']\n",
    "seg1_vintage = ['1940s', '1950s', '1960s', '1970s']\n",
    "seg1_tenure = ['Renter', 'Owner']\n",
    "seg1_construction = ['Brick', 'Concrete', 'Steel Frame', 'Wood Frame']\n",
    "seg1_median_income = ['0-30%','30-60%','60-80%','80-100%', '100-120%','120-150%']\n",
    "\n",
    "seg2_building_type = ['Multi-Family with 5+ Units']\n",
    "seg2_vintage = ['1980s', '1990s', '2000s', '2010s']\n",
    "seg2_tenure = ['Renter', 'Owner']\n",
    "seg2_construction = ['Brick', 'Concrete', 'Steel Frame', 'Wood Frame']\n",
    "seg2_median_income = ['0-30%','30-60%','60-80%','80-100%', '100-120%','120-150%']\n",
    "\n",
    "seg3_building_type = ['Single-Family Detached']\n",
    "seg3_vintage = ['1940s', '1950s', '1960s', '1970s']\n",
    "seg3_tenure = ['Renter','Owner']\n",
    "seg3_construction = ['Brick', 'Concrete', 'Steel Frame', 'Wood Frame']\n",
    "seg3_median_income = ['0-30%','30-60%','60-80%','80-100%', '100-120%','120-150%']\n",
    "\n",
    "seg4_building_type = ['Single-Family Attached']\n",
    "seg4_vintage = ['1940s', '1950s', '1960s', '1970s']\n",
    "seg4_tenure = ['Renter','Owner']\n",
    "seg4_construction = ['Brick', 'Concrete', 'Steel Frame', 'Wood Frame']\n",
    "seg4_median_income = ['0-30%','30-60%','60-80%','80-100%', '100-120%','120-150%']"
   ]
  },
  {
   "cell_type": "code",
   "execution_count": 11,
   "id": "e7063531",
   "metadata": {},
   "outputs": [],
   "source": [
    "####for duluth\n",
    "'''\n",
    "Single family detached, pre 1940, renter, all income \n",
    "Single family detached, pre 1940, owner, all income \n",
    "Multifamily with 2-4 units, 1940-1979, all income \n",
    "Multifamily with 5+ units, 1940-1979, all income \n",
    "Single family detached, pre 1940, renter, 0-80% AMI \n",
    "Single family detached, pre 1940, owner, 0-80% AMI \n",
    "Multifamily with 2-4 units, 1940-1979, 0-80% AMI \n",
    "Multifamily with 5+ units, 1940-1979, 0-80% AMI \n",
    "Only interested in electricity, natural gas, and fuel oil fuel types \n",
    "Do not want vacant housing g  \n",
    "'''\n",
    "\n",
    "vacancy_status = ['Occupied']\n",
    "\n",
    "seg1_building_type = ['Single-Family Detached']\n",
    "seg1_vintage = ['<1940']\n",
    "seg1_tenure = ['Renter']\n",
    "seg1_construction = ['Brick', 'Concrete', 'Steel Frame', 'Wood Frame']\n",
    "seg1_median_income = ['0-30%','30-60%','60-80%','80-100%', '100-120%','120-150%']\n",
    "\n",
    "seg2_building_type = ['Single-Family Detached']\n",
    "seg2_vintage = ['<1940']\n",
    "seg2_tenure = ['Owner']\n",
    "seg2_construction = ['Brick', 'Concrete', 'Steel Frame', 'Wood Frame']\n",
    "seg2_median_income = ['0-30%','30-60%','60-80%','80-100%', '100-120%','120-150%']\n",
    "\n",
    "seg3_building_type = ['Multi-Family with 2 - 4 Units']\n",
    "seg3_vintage = ['1940s', '1950s', '1960s', '1970s']\n",
    "seg3_tenure = ['Renter','Owner']\n",
    "seg3_construction = ['Brick', 'Concrete', 'Steel Frame', 'Wood Frame']\n",
    "seg3_median_income = ['0-30%','30-60%','60-80%','80-100%', '100-120%','120-150%']\n",
    "\n",
    "seg4_building_type = ['Multi-Family with 5+ Units']\n",
    "seg4_vintage = ['1940s', '1950s', '1960s', '1970s']\n",
    "seg4_tenure = ['Renter','Owner']\n",
    "seg4_construction = ['Brick', 'Concrete', 'Steel Frame', 'Wood Frame']\n",
    "seg4_median_income = ['0-30%','30-60%','60-80%','80-100%', '100-120%','120-150%']"
   ]
  },
  {
   "cell_type": "code",
   "execution_count": 12,
   "id": "2439fec3",
   "metadata": {},
   "outputs": [],
   "source": [
    "####for louisville\n",
    "'''\n",
    "Multifamily with 2-4 units, pre 1940, 0-80% AMI \n",
    "Multifamily with 2-4 units, 1940-1979, 80-150% AMI \n",
    "Multifamily with 5+ units, pre 1940, 0-80% AMI \n",
    "Multifamily with 5+ units, 1940-1979, 80-150% AMI \n",
    "Multifamily with 2-4 units, pre 1940, all income \n",
    "Multifamily with 2-4 units, 1940-1979, all income \n",
    "Multifamily with 5+ units, pre 1940, all income \n",
    "Multifamily with 5+ units, 1940-1979, all income \n",
    "Do not want ‘Other Fuels’ as a fuel type \n",
    "Do not want vacant housing \n",
    "'''\n",
    "vacancy_status = ['Occupied']\n",
    "\n",
    "seg1_building_type = ['Multi-Family with 2 - 4 Units']\n",
    "seg1_vintage = ['<1940']\n",
    "seg1_tenure = ['Renter','Owner']\n",
    "seg1_construction = ['Brick', 'Concrete', 'Steel Frame', 'Wood Frame']\n",
    "seg1_median_income = ['0-30%','30-60%','60-80%','80-100%', '100-120%','120-150%']\n",
    "\n",
    "seg2_building_type = ['Multi-Family with 2 - 4 Units']\n",
    "seg2_vintage = ['1940s', '1950s', '1960s', '1970s']\n",
    "seg2_tenure = ['Renter','Owner']\n",
    "seg2_construction = ['Brick', 'Concrete', 'Steel Frame', 'Wood Frame']\n",
    "seg2_median_income = ['0-30%','30-60%','60-80%','80-100%', '100-120%','120-150%']\n",
    "\n",
    "seg3_building_type = ['Multi-Family with 5+ Units']\n",
    "seg3_vintage = ['<1940']\n",
    "seg3_tenure = ['Renter','Owner']\n",
    "seg3_construction = ['Brick', 'Concrete', 'Steel Frame', 'Wood Frame']\n",
    "seg3_median_income = ['0-30%','30-60%','60-80%','80-100%', '100-120%','120-150%']\n",
    "\n",
    "seg4_building_type = ['Multi-Family with 5+ Units']\n",
    "seg4_vintage = ['1940s', '1950s', '1960s', '1970s']\n",
    "seg4_tenure = ['Renter','Owner']\n",
    "seg4_construction = ['Brick', 'Concrete', 'Steel Frame', 'Wood Frame']\n",
    "seg4_median_income = ['0-30%','30-60%','60-80%','80-100%', '100-120%','120-150%']"
   ]
  },
  {
   "cell_type": "code",
   "execution_count": 13,
   "id": "3f9d1360",
   "metadata": {},
   "outputs": [],
   "source": [
    "####for hill_district\n",
    "'''\n",
    "Multifamily with 2-4 units, 1940-1979, all income \n",
    "Multifamily with 5+ units, 1980+, all income \n",
    "Single family detached, pre 1940, masonry construction, all income \n",
    "Single family detached, 1940-1979, masonry construction, all income \n",
    "Multifamily with 2-4 units, 1940-1979, 0-80% AMI \n",
    "Multifamily with 5+ units, 1980+, 0-80% AMI\n",
    "Single family detached, pre 1940, masonry construction, 0-80% AMI \n",
    "Single family detached, 1940-1979, masonry construction, 0-80% AMI \n",
    "Only interested in electricity and natural gas fuel type \n",
    "'''\n",
    "vacancy_status = ['Occupied']\n",
    "\n",
    "seg1_building_type = ['Multi-Family with 2 - 4 Units']\n",
    "seg1_vintage = ['1940s', '1950s', '1960s', '1970s']\n",
    "seg1_tenure = ['Renter','Owner']\n",
    "seg1_construction = ['Brick', 'Concrete', 'Steel Frame', 'Wood Frame']\n",
    "seg1_median_income = ['0-30%','30-60%','60-80%','80-100%', '100-120%','120-150%']\n",
    "\n",
    "seg2_building_type = ['Multi-Family with 5+ Units']\n",
    "seg2_vintage = ['1980s', '1990s', '2000s', '2010s']\n",
    "seg2_tenure = ['Renter','Owner']\n",
    "seg2_construction = ['Brick', 'Concrete', 'Steel Frame', 'Wood Frame']\n",
    "seg2_median_income = ['0-30%','30-60%','60-80%','80-100%', '100-120%','120-150%']\n",
    "\n",
    "seg3_building_type = ['Single-Family Detached']\n",
    "seg3_vintage = ['<1940']\n",
    "seg3_tenure = ['Renter','Owner']\n",
    "seg3_construction = ['Brick']\n",
    "seg3_median_income = ['0-30%','30-60%','60-80%','80-100%', '100-120%','120-150%']\n",
    "\n",
    "seg4_building_type = ['Single-Family Detached']\n",
    "seg4_vintage = ['1940s', '1950s', '1960s', '1970s']\n",
    "seg4_tenure = ['Renter','Owner']\n",
    "seg4_construction = ['Brick']\n",
    "seg4_median_income = ['0-30%','30-60%','60-80%','80-100%', '100-120%','120-150%']"
   ]
  },
  {
   "cell_type": "markdown",
   "id": "4109063a",
   "metadata": {},
   "source": [
    "label each building sample"
   ]
  },
  {
   "cell_type": "code",
   "execution_count": 14,
   "id": "b490e928",
   "metadata": {},
   "outputs": [],
   "source": [
    "community_results.loc[community_results['build_existing_model.vacancy_status'].isin(vacancy_status) & \n",
    "                     community_results['build_existing_model.geometry_building_type_recs'].isin(seg1_building_type) & \n",
    "                     community_results['build_existing_model.vintage'].isin(seg1_vintage) & \n",
    "                     community_results['build_existing_model.tenure'].isin(seg1_tenure) &  \n",
    "                     community_results['build_existing_model.geometry_wall_type'].isin(seg1_construction) & \n",
    "                     community_results['build_existing_model.area_median_income'].isin(seg1_median_income),\n",
    "                     'segment'] = 'segment1'\n",
    "community_results.loc[community_results['build_existing_model.vacancy_status'].isin(vacancy_status) & \n",
    "                     community_results['build_existing_model.geometry_building_type_recs'].isin(seg2_building_type) & \n",
    "                     community_results['build_existing_model.vintage'].isin(seg2_vintage) & \n",
    "                     community_results['build_existing_model.tenure'].isin(seg2_tenure) &  \n",
    "                     community_results['build_existing_model.geometry_wall_type'].isin(seg2_construction) & \n",
    "                     community_results['build_existing_model.area_median_income'].isin(seg2_median_income),\n",
    "                     'segment'] = 'segment2'\n",
    "community_results.loc[community_results['build_existing_model.vacancy_status'].isin(vacancy_status) & \n",
    "                     community_results['build_existing_model.geometry_building_type_recs'].isin(seg3_building_type) & \n",
    "                     community_results['build_existing_model.vintage'].isin(seg3_vintage) & \n",
    "                     community_results['build_existing_model.tenure'].isin(seg3_tenure) &   \n",
    "                     community_results['build_existing_model.geometry_wall_type'].isin(seg3_construction) &\n",
    "                     community_results['build_existing_model.area_median_income'].isin(seg3_median_income),\n",
    "                     'segment'] = 'segment3'\n",
    "community_results.loc[community_results['build_existing_model.vacancy_status'].isin(vacancy_status) & \n",
    "                     community_results['build_existing_model.geometry_building_type_recs'].isin(seg4_building_type) & \n",
    "                     community_results['build_existing_model.vintage'].isin(seg4_vintage) & \n",
    "                     community_results['build_existing_model.tenure'].isin(seg4_tenure) &   \n",
    "                     community_results['build_existing_model.geometry_wall_type'].isin(seg4_construction) &\n",
    "                     community_results['build_existing_model.area_median_income'].isin(seg4_median_income),\n",
    "                     'segment'] = 'segment4'"
   ]
  },
  {
   "cell_type": "markdown",
   "id": "08cdb476",
   "metadata": {},
   "source": [
    "### Get summary (including weighted percentiles)"
   ]
  },
  {
   "cell_type": "code",
   "execution_count": 15,
   "id": "5cc53d41",
   "metadata": {},
   "outputs": [],
   "source": [
    "def weighted_mean(x, metric: str):\n",
    "    if len(x[metric].dropna()) == 0:\n",
    "        res = 0\n",
    "    else:\n",
    "        res = (x[metric] * x[\"sample_weight\"]).sum()/x[\"sample_weight\"].sum()\n",
    "    col_name = f\"{metric} wt_mean\"\n",
    "    return pd.Series({col_name: res})\n",
    "\n",
    "def weighted_percentile(x, metric: str, percents: int):\n",
    "    col_name = f\"{metric} wt_p{percents}\"\n",
    "    res = _weighted_percentile(x[metric], percents, weights=x[\"sample_weight\"])\n",
    "    return pd.Series({col_name: res})\n",
    "\n",
    "def _weighted_percentile(data, percents: int, weights=None):\n",
    "    \"\"\"\n",
    "    perc : percentile in 0 - 1\n",
    "    \"\"\"\n",
    "    # dropna\n",
    "    idx = ~np.isnan(data) & ~np.isnan(weights)\n",
    "    data = np.array(data)[idx]\n",
    "    if len(data) == 0:\n",
    "        return np.nan\n",
    "    if weights is None:\n",
    "        return np.percentile(data, percents)\n",
    "    weights = np.array(weights)[idx]\n",
    "    ix = np.argsort(data)\n",
    "    data = data[ix] # sort data\n",
    "    weights = weights[ix] # sort weights\n",
    "    cdf = (np.cumsum(weights) - 0.5 * weights) / np.sum(weights) # 'like' a CDF function\n",
    "    return np.interp(percents, cdf, data)\n",
    "\n",
    "def get_summary(df, metric, lower_percentile=0.25, upper_percentile=0.75):\n",
    "    dfgb = df.groupby([\"upgrade_name\"])\n",
    "    dfs = pd.concat([\n",
    "        dfgb[\"sample_weight\"].count().rename(\"n_samples\"),\n",
    "        dfgb[\"sample_weight\"].sum().rename(\"n_represented\"),\n",
    "        dfgb.apply(lambda x: weighted_mean(x, metric)),\n",
    "        dfgb.apply(lambda x: weighted_percentile(x, metric, percents=lower_percentile)),\n",
    "        dfgb.apply(lambda x: weighted_percentile(x, metric, percents=upper_percentile)),\n",
    "    ], axis=1)\n",
    "    dfs = dfs.sort_values(by=f\"{metric} wt_mean\", ascending=False)\n",
    "\n",
    "    return dfs"
   ]
  },
  {
   "cell_type": "code",
   "execution_count": 16,
   "id": "21253c73",
   "metadata": {},
   "outputs": [
    {
     "data": {
      "text/html": [
       "<div>\n",
       "<style scoped>\n",
       "    .dataframe tbody tr th:only-of-type {\n",
       "        vertical-align: middle;\n",
       "    }\n",
       "\n",
       "    .dataframe tbody tr th {\n",
       "        vertical-align: top;\n",
       "    }\n",
       "\n",
       "    .dataframe thead th {\n",
       "        text-align: right;\n",
       "    }\n",
       "</style>\n",
       "<table border=\"1\" class=\"dataframe\">\n",
       "  <thead>\n",
       "    <tr style=\"text-align: right;\">\n",
       "      <th></th>\n",
       "      <th>n_samples</th>\n",
       "      <th>n_represented</th>\n",
       "      <th>pct_saving_energy.total_% wt_mean</th>\n",
       "      <th>pct_saving_energy.total_% wt_p0.25</th>\n",
       "      <th>pct_saving_energy.total_% wt_p0.75</th>\n",
       "    </tr>\n",
       "    <tr>\n",
       "      <th>upgrade_name</th>\n",
       "      <th></th>\n",
       "      <th></th>\n",
       "      <th></th>\n",
       "      <th></th>\n",
       "      <th></th>\n",
       "    </tr>\n",
       "  </thead>\n",
       "  <tbody>\n",
       "    <tr>\n",
       "      <th>Basic Enclosure + High Efficiency Whole Home Electrification</th>\n",
       "      <td>1</td>\n",
       "      <td>48.021739</td>\n",
       "      <td>59.60</td>\n",
       "      <td>59.60</td>\n",
       "      <td>59.60</td>\n",
       "    </tr>\n",
       "    <tr>\n",
       "      <th>Enhanced Enclosure + High Efficiency Whole Home Electrification</th>\n",
       "      <td>1</td>\n",
       "      <td>48.021739</td>\n",
       "      <td>59.60</td>\n",
       "      <td>59.60</td>\n",
       "      <td>59.60</td>\n",
       "    </tr>\n",
       "    <tr>\n",
       "      <th>Basic Enclosure + HPWH + High Efficiency HP/Electric Backup</th>\n",
       "      <td>1</td>\n",
       "      <td>48.021739</td>\n",
       "      <td>58.92</td>\n",
       "      <td>58.92</td>\n",
       "      <td>58.92</td>\n",
       "    </tr>\n",
       "    <tr>\n",
       "      <th>Enhanced Enclosure + HPWH + High Efficiency HP/Electric Backup</th>\n",
       "      <td>1</td>\n",
       "      <td>48.021739</td>\n",
       "      <td>58.92</td>\n",
       "      <td>58.92</td>\n",
       "      <td>58.92</td>\n",
       "    </tr>\n",
       "    <tr>\n",
       "      <th>High Efficiency Whole Home Electrification</th>\n",
       "      <td>1</td>\n",
       "      <td>48.021739</td>\n",
       "      <td>50.56</td>\n",
       "      <td>50.56</td>\n",
       "      <td>50.56</td>\n",
       "    </tr>\n",
       "    <tr>\n",
       "      <th>High Efficiency Heat Pump with Electric Heat Backup</th>\n",
       "      <td>1</td>\n",
       "      <td>48.021739</td>\n",
       "      <td>48.41</td>\n",
       "      <td>48.41</td>\n",
       "      <td>48.41</td>\n",
       "    </tr>\n",
       "    <tr>\n",
       "      <th>Mininum Efficiency Whole Home Electrification</th>\n",
       "      <td>1</td>\n",
       "      <td>48.021739</td>\n",
       "      <td>33.55</td>\n",
       "      <td>33.55</td>\n",
       "      <td>33.55</td>\n",
       "    </tr>\n",
       "    <tr>\n",
       "      <th>Mininum Efficiency Heat Pump with Electric Heat Backup</th>\n",
       "      <td>1</td>\n",
       "      <td>48.021739</td>\n",
       "      <td>33.25</td>\n",
       "      <td>33.25</td>\n",
       "      <td>33.25</td>\n",
       "    </tr>\n",
       "    <tr>\n",
       "      <th>Basic Enclosure</th>\n",
       "      <td>1</td>\n",
       "      <td>48.021739</td>\n",
       "      <td>22.43</td>\n",
       "      <td>22.43</td>\n",
       "      <td>22.43</td>\n",
       "    </tr>\n",
       "    <tr>\n",
       "      <th>Enhanced Enclosure</th>\n",
       "      <td>1</td>\n",
       "      <td>48.021739</td>\n",
       "      <td>22.43</td>\n",
       "      <td>22.43</td>\n",
       "      <td>22.43</td>\n",
       "    </tr>\n",
       "    <tr>\n",
       "      <th>Mininum Efficiency Heat Pump with Existing Heat Backup</th>\n",
       "      <td>1</td>\n",
       "      <td>48.021739</td>\n",
       "      <td>1.64</td>\n",
       "      <td>1.64</td>\n",
       "      <td>1.64</td>\n",
       "    </tr>\n",
       "    <tr>\n",
       "      <th>Heat Pump Water Heater</th>\n",
       "      <td>1</td>\n",
       "      <td>48.021739</td>\n",
       "      <td>1.04</td>\n",
       "      <td>1.04</td>\n",
       "      <td>1.04</td>\n",
       "    </tr>\n",
       "    <tr>\n",
       "      <th>Induction Cooking</th>\n",
       "      <td>1</td>\n",
       "      <td>48.021739</td>\n",
       "      <td>0.48</td>\n",
       "      <td>0.48</td>\n",
       "      <td>0.48</td>\n",
       "    </tr>\n",
       "    <tr>\n",
       "      <th>Electric Cooking</th>\n",
       "      <td>1</td>\n",
       "      <td>48.021739</td>\n",
       "      <td>0.44</td>\n",
       "      <td>0.44</td>\n",
       "      <td>0.44</td>\n",
       "    </tr>\n",
       "    <tr>\n",
       "      <th>Heat Pump Clothes Dryer</th>\n",
       "      <td>1</td>\n",
       "      <td>48.021739</td>\n",
       "      <td>0.20</td>\n",
       "      <td>0.20</td>\n",
       "      <td>0.20</td>\n",
       "    </tr>\n",
       "    <tr>\n",
       "      <th>baseline</th>\n",
       "      <td>1</td>\n",
       "      <td>48.021739</td>\n",
       "      <td>0.00</td>\n",
       "      <td>NaN</td>\n",
       "      <td>NaN</td>\n",
       "    </tr>\n",
       "  </tbody>\n",
       "</table>\n",
       "</div>"
      ],
      "text/plain": [
       "                                                    n_samples  n_represented  \\\n",
       "upgrade_name                                                                   \n",
       "Basic Enclosure + High Efficiency Whole Home El...          1      48.021739   \n",
       "Enhanced Enclosure + High Efficiency Whole Home...          1      48.021739   \n",
       "Basic Enclosure + HPWH + High Efficiency HP/Ele...          1      48.021739   \n",
       "Enhanced Enclosure + HPWH + High Efficiency HP/...          1      48.021739   \n",
       "High Efficiency Whole Home Electrification                  1      48.021739   \n",
       "High Efficiency Heat Pump with Electric Heat Ba...          1      48.021739   \n",
       "Mininum Efficiency Whole Home Electrification               1      48.021739   \n",
       "Mininum Efficiency Heat Pump with Electric Heat...          1      48.021739   \n",
       "Basic Enclosure                                             1      48.021739   \n",
       "Enhanced Enclosure                                          1      48.021739   \n",
       "Mininum Efficiency Heat Pump with Existing Heat...          1      48.021739   \n",
       "Heat Pump Water Heater                                      1      48.021739   \n",
       "Induction Cooking                                           1      48.021739   \n",
       "Electric Cooking                                            1      48.021739   \n",
       "Heat Pump Clothes Dryer                                     1      48.021739   \n",
       "baseline                                                    1      48.021739   \n",
       "\n",
       "                                                    pct_saving_energy.total_% wt_mean  \\\n",
       "upgrade_name                                                                            \n",
       "Basic Enclosure + High Efficiency Whole Home El...                              59.60   \n",
       "Enhanced Enclosure + High Efficiency Whole Home...                              59.60   \n",
       "Basic Enclosure + HPWH + High Efficiency HP/Ele...                              58.92   \n",
       "Enhanced Enclosure + HPWH + High Efficiency HP/...                              58.92   \n",
       "High Efficiency Whole Home Electrification                                      50.56   \n",
       "High Efficiency Heat Pump with Electric Heat Ba...                              48.41   \n",
       "Mininum Efficiency Whole Home Electrification                                   33.55   \n",
       "Mininum Efficiency Heat Pump with Electric Heat...                              33.25   \n",
       "Basic Enclosure                                                                 22.43   \n",
       "Enhanced Enclosure                                                              22.43   \n",
       "Mininum Efficiency Heat Pump with Existing Heat...                               1.64   \n",
       "Heat Pump Water Heater                                                           1.04   \n",
       "Induction Cooking                                                                0.48   \n",
       "Electric Cooking                                                                 0.44   \n",
       "Heat Pump Clothes Dryer                                                          0.20   \n",
       "baseline                                                                         0.00   \n",
       "\n",
       "                                                    pct_saving_energy.total_% wt_p0.25  \\\n",
       "upgrade_name                                                                             \n",
       "Basic Enclosure + High Efficiency Whole Home El...                               59.60   \n",
       "Enhanced Enclosure + High Efficiency Whole Home...                               59.60   \n",
       "Basic Enclosure + HPWH + High Efficiency HP/Ele...                               58.92   \n",
       "Enhanced Enclosure + HPWH + High Efficiency HP/...                               58.92   \n",
       "High Efficiency Whole Home Electrification                                       50.56   \n",
       "High Efficiency Heat Pump with Electric Heat Ba...                               48.41   \n",
       "Mininum Efficiency Whole Home Electrification                                    33.55   \n",
       "Mininum Efficiency Heat Pump with Electric Heat...                               33.25   \n",
       "Basic Enclosure                                                                  22.43   \n",
       "Enhanced Enclosure                                                               22.43   \n",
       "Mininum Efficiency Heat Pump with Existing Heat...                                1.64   \n",
       "Heat Pump Water Heater                                                            1.04   \n",
       "Induction Cooking                                                                 0.48   \n",
       "Electric Cooking                                                                  0.44   \n",
       "Heat Pump Clothes Dryer                                                           0.20   \n",
       "baseline                                                                           NaN   \n",
       "\n",
       "                                                    pct_saving_energy.total_% wt_p0.75  \n",
       "upgrade_name                                                                            \n",
       "Basic Enclosure + High Efficiency Whole Home El...                               59.60  \n",
       "Enhanced Enclosure + High Efficiency Whole Home...                               59.60  \n",
       "Basic Enclosure + HPWH + High Efficiency HP/Ele...                               58.92  \n",
       "Enhanced Enclosure + HPWH + High Efficiency HP/...                               58.92  \n",
       "High Efficiency Whole Home Electrification                                       50.56  \n",
       "High Efficiency Heat Pump with Electric Heat Ba...                               48.41  \n",
       "Mininum Efficiency Whole Home Electrification                                    33.55  \n",
       "Mininum Efficiency Heat Pump with Electric Heat...                               33.25  \n",
       "Basic Enclosure                                                                  22.43  \n",
       "Enhanced Enclosure                                                               22.43  \n",
       "Mininum Efficiency Heat Pump with Existing Heat...                                1.64  \n",
       "Heat Pump Water Heater                                                            1.04  \n",
       "Induction Cooking                                                                 0.48  \n",
       "Electric Cooking                                                                  0.44  \n",
       "Heat Pump Clothes Dryer                                                           0.20  \n",
       "baseline                                                                           NaN  "
      ]
     },
     "execution_count": 16,
     "metadata": {},
     "output_type": "execute_result"
    }
   ],
   "source": [
    "metric = 'pct_saving_energy.total_%'  # TODO 'pct_saving_cbill.total_%' #'pct_saving_energy.total_%' #'saving_energy.total_mmbtu' #'saving_cbill.total_usd'\n",
    "segment = \"segment3\" #TODO (can put in a for-loop)\n",
    "\n",
    "df_seg = community_results.loc[community_results[\"segment\"]==segment]\n",
    "get_summary(df_seg, metric, lower_percentile=0.25, upper_percentile=0.75)"
   ]
  },
  {
   "cell_type": "markdown",
   "id": "712ba191",
   "metadata": {},
   "source": [
    "# 1. Whole Community"
   ]
  },
  {
   "cell_type": "markdown",
   "id": "825d991e",
   "metadata": {},
   "source": [
    "## 1.1 Upgrade Cost Per Dwelling Unit"
   ]
  },
  {
   "cell_type": "code",
   "execution_count": 17,
   "id": "d2f8640e",
   "metadata": {},
   "outputs": [
    {
     "name": "stdout",
     "output_type": "stream",
     "text": [
      "upgrade_cost_usd per dwelling unit\n",
      "upgrade_name\n",
      "Electric Cooking                                                    1127.3\n",
      "Electric Clothes Dryer                                              1266.0\n",
      "Induction Cooking                                                   1953.1\n",
      "Heat Pump Clothes Dryer                                             2547.5\n",
      "Basic Enclosure                                                     2940.3\n",
      "Heat Pump Water Heater                                              3194.7\n",
      "Enhanced Enclosure                                                  4934.1\n",
      "High Efficiency Heat Pump with Electric Heat Backup                31202.6\n",
      "Basic Enclosure + HPWH + High Efficiency HP/Electric Backup        34316.7\n",
      "Enhanced Enclosure + HPWH + High Efficiency HP/Electric Backup     34669.7\n",
      "Basic Enclosure + High Efficiency Whole Home Electrification       38326.7\n",
      "High Efficiency Whole Home Electrification                         38404.3\n",
      "Enhanced Enclosure + High Efficiency Whole Home Electrification    38679.8\n",
      "Mininum Efficiency Heat Pump with Existing Heat Backup             62266.8\n",
      "Mininum Efficiency Whole Home Electrification                      69997.3\n",
      "Mininum Efficiency Heat Pump with Electric Heat Backup             74919.5\n",
      "Name: upgrade_cost_usd, dtype: float64\n"
     ]
    }
   ],
   "source": [
    "def figure_mean_upgrade_cost(commnity_results):\n",
    "    results = commnity_results[['upgrade_name',\n",
    "                       'upgrade_cost_usd',\n",
    "                                'sample_weight']]\n",
    "    results = results.loc[results['upgrade_name'] != 'baseline']\n",
    "    results['upgrade_cost_usd'] = results['upgrade_cost_usd']*results['sample_weight']\n",
    "    \n",
    "    agg_functions = {'upgrade_name': 'first',\n",
    "                     'upgrade_cost_usd': 'sum',\n",
    "                    'sample_weight': 'sum'}\n",
    "    results = results.groupby(results['upgrade_name']).aggregate(agg_functions)\n",
    "    results['upgrade_cost_usd'] = results['upgrade_cost_usd']/results['sample_weight']\n",
    "    results = results.sort_values('upgrade_cost_usd')\n",
    "    results['upgrade_cost_usd'] = results['upgrade_cost_usd'].round(1) \n",
    "    \n",
    "    print('upgrade_cost_usd per dwelling unit')\n",
    "    print(results['upgrade_cost_usd'])\n",
    "\n",
    "figure_mean_upgrade_cost(community_results) "
   ]
  },
  {
   "cell_type": "markdown",
   "id": "8612601a",
   "metadata": {},
   "source": [
    "## 1.2 Total Annual Savings"
   ]
  },
  {
   "cell_type": "code",
   "execution_count": 18,
   "id": "2d30637c",
   "metadata": {},
   "outputs": [
    {
     "data": {
      "application/vnd.plotly.v1+json": {
       "config": {
        "plotlyServerURL": "https://plot.ly"
       },
       "data": [
        {
         "cliponaxis": false,
         "marker": {
          "color": "rgb(255, 255, 255)",
          "line": {
           "color": "rgb(255, 255, 255)"
          }
         },
         "orientation": "h",
         "textangle": 0,
         "textfont": {
          "size": 10
         },
         "textposition": "outside",
         "type": "bar",
         "x": [
          0,
          0,
          0,
          0,
          0,
          0,
          0,
          0,
          0,
          0,
          0,
          0,
          0,
          0,
          0,
          0,
          0,
          0,
          0,
          0,
          0,
          0,
          0,
          0,
          0,
          0,
          0,
          0,
          0,
          0,
          0,
          0,
          0,
          0,
          0,
          0,
          0,
          0,
          0,
          0,
          0,
          0,
          0,
          0,
          0,
          0,
          0,
          0,
          0,
          0,
          0,
          0,
          0,
          0,
          0,
          0,
          0,
          0,
          0,
          0,
          0,
          0,
          0,
          0,
          0,
          0,
          0,
          0,
          0,
          0,
          0,
          0,
          0,
          0,
          0,
          0,
          0,
          0,
          0,
          0,
          0,
          0,
          0,
          0,
          0,
          0,
          0,
          0,
          0,
          0,
          0,
          0,
          0,
          0,
          0,
          0,
          0,
          0,
          0,
          0,
          0,
          0,
          0,
          0,
          0,
          0,
          0,
          0,
          0,
          0,
          0,
          0,
          0,
          0,
          0,
          0,
          0,
          0,
          0,
          0,
          0,
          0,
          0,
          0,
          0,
          0,
          0,
          0,
          0,
          0,
          0,
          0,
          0,
          0,
          0,
          0,
          0,
          0,
          0,
          0,
          0,
          0,
          0,
          0,
          0,
          0,
          0,
          0,
          0,
          0,
          0,
          0,
          0,
          0,
          0,
          0,
          0,
          0,
          0,
          0,
          0,
          0,
          0,
          0,
          0,
          0,
          0,
          0,
          0,
          0,
          0,
          0,
          0,
          0,
          0,
          0
         ],
         "xaxis": "x",
         "y": [
          "Mininum Efficiency Whole Home Electrification",
          "Mininum Efficiency Heat Pump with Electric Heat Backup",
          "High Efficiency Heat Pump with Electric Heat Backup",
          "Electric Clothes Dryer",
          "Electric Cooking",
          "Induction Cooking",
          "Heat Pump Clothes Dryer",
          "Mininum Efficiency Heat Pump with Existing Heat Backup",
          "Heat Pump Water Heater",
          "High Efficiency Whole Home Electrification",
          "Basic Enclosure",
          "Enhanced Enclosure",
          "Basic Enclosure + HPWH + High Efficiency HP/Electric Backup",
          "Basic Enclosure + High Efficiency Whole Home Electrification",
          "Enhanced Enclosure + HPWH + High Efficiency HP/Electric Backup",
          "Enhanced Enclosure + High Efficiency Whole Home Electrification"
         ],
         "yaxis": "y"
        },
        {
         "cliponaxis": false,
         "marker": {
          "color": "rgb(0, 121, 61)",
          "line": {
           "color": "rgb(0, 121, 61)"
          }
         },
         "orientation": "h",
         "text": [
          -21367390.671423443,
          -20327528.181549888,
          -395459.1508117569,
          -116662.26682610072,
          -83816.51093521103,
          20377.903633061545,
          506819.9685175932,
          1305499.7908440067,
          1921829.8104714649,
          4859006.152865477,
          8318934.913899742,
          11272565.211944839,
          13911975.442515345,
          14533608.21714293,
          15197241.655928282,
          15818874.430555867
         ],
         "textangle": 0,
         "textfont": {
          "size": 10
         },
         "textposition": "outside",
         "texttemplate": "%{text:.3s}",
         "type": "bar",
         "x": [
          -21367390.671423443,
          -20327528.181549888,
          -395459.1508117569,
          -116662.26682610072,
          -83816.51093521103,
          20377.903633061545,
          506819.9685175932,
          1305499.7908440067,
          1921829.8104714649,
          4859006.152865477,
          8318934.913899742,
          11272565.211944839,
          13911975.442515345,
          14533608.21714293,
          15197241.655928282,
          15818874.430555867
         ],
         "xaxis": "x2",
         "y": [
          "Mininum Efficiency Whole Home Electrification",
          "Mininum Efficiency Heat Pump with Electric Heat Backup",
          "High Efficiency Heat Pump with Electric Heat Backup",
          "Electric Clothes Dryer",
          "Electric Cooking",
          "Induction Cooking",
          "Heat Pump Clothes Dryer",
          "Mininum Efficiency Heat Pump with Existing Heat Backup",
          "Heat Pump Water Heater",
          "High Efficiency Whole Home Electrification",
          "Basic Enclosure",
          "Enhanced Enclosure",
          "Basic Enclosure + HPWH + High Efficiency HP/Electric Backup",
          "Basic Enclosure + High Efficiency Whole Home Electrification",
          "Enhanced Enclosure + HPWH + High Efficiency HP/Electric Backup",
          "Enhanced Enclosure + High Efficiency Whole Home Electrification"
         ],
         "yaxis": "y2"
        },
        {
         "cliponaxis": false,
         "marker": {
          "color": "rgb(0, 121, 61)",
          "line": {
           "color": "rgb(0, 121, 61)"
          }
         },
         "orientation": "h",
         "text": [
          230326391.65844133,
          205622565.21037492,
          236108114.61562437,
          507366.0023379695,
          1561327.9044513842,
          1701158.1002626037,
          1333014.305647918,
          62965505.80782202,
          15974956.45396246,
          269875258.9534309,
          59874749.554827884,
          80049730.7991554,
          282022130.0451105,
          285056302.451021,
          284055256.4995859,
          287089428.9054964
         ],
         "textangle": 0,
         "textfont": {
          "size": 10
         },
         "textposition": "outside",
         "texttemplate": "%{text:.3s}",
         "type": "bar",
         "x": [
          230326391.65844133,
          205622565.21037492,
          236108114.61562437,
          507366.0023379695,
          1561327.9044513842,
          1701158.1002626037,
          1333014.305647918,
          62965505.80782202,
          15974956.45396246,
          269875258.9534309,
          59874749.554827884,
          80049730.7991554,
          282022130.0451105,
          285056302.451021,
          284055256.4995859,
          287089428.9054964
         ],
         "xaxis": "x3",
         "y": [
          "Mininum Efficiency Whole Home Electrification",
          "Mininum Efficiency Heat Pump with Electric Heat Backup",
          "High Efficiency Heat Pump with Electric Heat Backup",
          "Electric Clothes Dryer",
          "Electric Cooking",
          "Induction Cooking",
          "Heat Pump Clothes Dryer",
          "Mininum Efficiency Heat Pump with Existing Heat Backup",
          "Heat Pump Water Heater",
          "High Efficiency Whole Home Electrification",
          "Basic Enclosure",
          "Enhanced Enclosure",
          "Basic Enclosure + HPWH + High Efficiency HP/Electric Backup",
          "Basic Enclosure + High Efficiency Whole Home Electrification",
          "Enhanced Enclosure + HPWH + High Efficiency HP/Electric Backup",
          "Enhanced Enclosure + High Efficiency Whole Home Electrification"
         ],
         "yaxis": "y3"
        },
        {
         "cliponaxis": false,
         "marker": {
          "color": "rgb(0, 121, 61)",
          "line": {
           "color": "rgb(0, 121, 61)"
          }
         },
         "orientation": "h",
         "text": [
          -697969520.2733308,
          -631802545.9690868,
          -394012200.2093022,
          -2702139.5433983942,
          -4085540.4139914135,
          -2842763.522671369,
          4734432.9201475745,
          -85136843.82819256,
          -5556794.95086545,
          -385154672.6553809,
          23804454.773255534,
          33363727.514124185,
          -271652710.5609982,
          -269761041.163522,
          -256322722.32849658,
          -254431052.93102038
         ],
         "textangle": 0,
         "textfont": {
          "size": 10
         },
         "textposition": "outside",
         "texttemplate": "%{text:.3s}",
         "type": "bar",
         "x": [
          -697969520.2733308,
          -631802545.9690868,
          -394012200.2093022,
          -2702139.5433983942,
          -4085540.4139914135,
          -2842763.522671369,
          4734432.9201475745,
          -85136843.82819256,
          -5556794.95086545,
          -385154672.6553809,
          23804454.773255534,
          33363727.514124185,
          -271652710.5609982,
          -269761041.163522,
          -256322722.32849658,
          -254431052.93102038
         ],
         "xaxis": "x4",
         "y": [
          "Mininum Efficiency Whole Home Electrification",
          "Mininum Efficiency Heat Pump with Electric Heat Backup",
          "High Efficiency Heat Pump with Electric Heat Backup",
          "Electric Clothes Dryer",
          "Electric Cooking",
          "Induction Cooking",
          "Heat Pump Clothes Dryer",
          "Mininum Efficiency Heat Pump with Existing Heat Backup",
          "Heat Pump Water Heater",
          "High Efficiency Whole Home Electrification",
          "Basic Enclosure",
          "Enhanced Enclosure",
          "Basic Enclosure + HPWH + High Efficiency HP/Electric Backup",
          "Basic Enclosure + High Efficiency Whole Home Electrification",
          "Enhanced Enclosure + HPWH + High Efficiency HP/Electric Backup",
          "Enhanced Enclosure + High Efficiency Whole Home Electrification"
         ],
         "yaxis": "y4"
        },
        {
         "cliponaxis": false,
         "marker": {
          "color": "rgb(0, 121, 61)",
          "line": {
           "color": "rgb(0, 121, 61)"
          }
         },
         "orientation": "h",
         "text": [
          4622011.203429879,
          4139322.297885347,
          4138843.484680678,
          12021.869275966106,
          29797.166720618123,
          29797.166720618123,
          12021.869275966106,
          1058024.8644380565,
          251438.76078152412,
          4622011.203429879,
          811370.9115951823,
          1082846.1091641535,
          4580192.1674332945,
          4622011.203429879,
          4580192.1674332945,
          4622011.203429879
         ],
         "textangle": 0,
         "textfont": {
          "size": 10
         },
         "textposition": "outside",
         "texttemplate": "%{text:.3s}",
         "type": "bar",
         "x": [
          4622011.203429879,
          4139322.297885347,
          4138843.484680678,
          12021.869275966106,
          29797.166720618123,
          29797.166720618123,
          12021.869275966106,
          1058024.8644380565,
          251438.76078152412,
          4622011.203429879,
          811370.9115951823,
          1082846.1091641535,
          4580192.1674332945,
          4622011.203429879,
          4580192.1674332945,
          4622011.203429879
         ],
         "xaxis": "x5",
         "y": [
          "Mininum Efficiency Whole Home Electrification",
          "Mininum Efficiency Heat Pump with Electric Heat Backup",
          "High Efficiency Heat Pump with Electric Heat Backup",
          "Electric Clothes Dryer",
          "Electric Cooking",
          "Induction Cooking",
          "Heat Pump Clothes Dryer",
          "Mininum Efficiency Heat Pump with Existing Heat Backup",
          "Heat Pump Water Heater",
          "High Efficiency Whole Home Electrification",
          "Basic Enclosure",
          "Enhanced Enclosure",
          "Basic Enclosure + HPWH + High Efficiency HP/Electric Backup",
          "Basic Enclosure + High Efficiency Whole Home Electrification",
          "Enhanced Enclosure + HPWH + High Efficiency HP/Electric Backup",
          "Enhanced Enclosure + High Efficiency Whole Home Electrification"
         ],
         "yaxis": "y5"
        }
       ],
       "layout": {
        "autosize": false,
        "font": {
         "size": 10
        },
        "height": 500,
        "plot_bgcolor": "rgba(0, 0, 0, 0)",
        "showlegend": false,
        "template": {
         "data": {
          "bar": [
           {
            "error_x": {
             "color": "#2a3f5f"
            },
            "error_y": {
             "color": "#2a3f5f"
            },
            "marker": {
             "line": {
              "color": "#E5ECF6",
              "width": 0.5
             },
             "pattern": {
              "fillmode": "overlay",
              "size": 10,
              "solidity": 0.2
             }
            },
            "type": "bar"
           }
          ],
          "barpolar": [
           {
            "marker": {
             "line": {
              "color": "#E5ECF6",
              "width": 0.5
             },
             "pattern": {
              "fillmode": "overlay",
              "size": 10,
              "solidity": 0.2
             }
            },
            "type": "barpolar"
           }
          ],
          "carpet": [
           {
            "aaxis": {
             "endlinecolor": "#2a3f5f",
             "gridcolor": "white",
             "linecolor": "white",
             "minorgridcolor": "white",
             "startlinecolor": "#2a3f5f"
            },
            "baxis": {
             "endlinecolor": "#2a3f5f",
             "gridcolor": "white",
             "linecolor": "white",
             "minorgridcolor": "white",
             "startlinecolor": "#2a3f5f"
            },
            "type": "carpet"
           }
          ],
          "choropleth": [
           {
            "colorbar": {
             "outlinewidth": 0,
             "ticks": ""
            },
            "type": "choropleth"
           }
          ],
          "contour": [
           {
            "colorbar": {
             "outlinewidth": 0,
             "ticks": ""
            },
            "colorscale": [
             [
              0,
              "#0d0887"
             ],
             [
              0.1111111111111111,
              "#46039f"
             ],
             [
              0.2222222222222222,
              "#7201a8"
             ],
             [
              0.3333333333333333,
              "#9c179e"
             ],
             [
              0.4444444444444444,
              "#bd3786"
             ],
             [
              0.5555555555555556,
              "#d8576b"
             ],
             [
              0.6666666666666666,
              "#ed7953"
             ],
             [
              0.7777777777777778,
              "#fb9f3a"
             ],
             [
              0.8888888888888888,
              "#fdca26"
             ],
             [
              1,
              "#f0f921"
             ]
            ],
            "type": "contour"
           }
          ],
          "contourcarpet": [
           {
            "colorbar": {
             "outlinewidth": 0,
             "ticks": ""
            },
            "type": "contourcarpet"
           }
          ],
          "heatmap": [
           {
            "colorbar": {
             "outlinewidth": 0,
             "ticks": ""
            },
            "colorscale": [
             [
              0,
              "#0d0887"
             ],
             [
              0.1111111111111111,
              "#46039f"
             ],
             [
              0.2222222222222222,
              "#7201a8"
             ],
             [
              0.3333333333333333,
              "#9c179e"
             ],
             [
              0.4444444444444444,
              "#bd3786"
             ],
             [
              0.5555555555555556,
              "#d8576b"
             ],
             [
              0.6666666666666666,
              "#ed7953"
             ],
             [
              0.7777777777777778,
              "#fb9f3a"
             ],
             [
              0.8888888888888888,
              "#fdca26"
             ],
             [
              1,
              "#f0f921"
             ]
            ],
            "type": "heatmap"
           }
          ],
          "heatmapgl": [
           {
            "colorbar": {
             "outlinewidth": 0,
             "ticks": ""
            },
            "colorscale": [
             [
              0,
              "#0d0887"
             ],
             [
              0.1111111111111111,
              "#46039f"
             ],
             [
              0.2222222222222222,
              "#7201a8"
             ],
             [
              0.3333333333333333,
              "#9c179e"
             ],
             [
              0.4444444444444444,
              "#bd3786"
             ],
             [
              0.5555555555555556,
              "#d8576b"
             ],
             [
              0.6666666666666666,
              "#ed7953"
             ],
             [
              0.7777777777777778,
              "#fb9f3a"
             ],
             [
              0.8888888888888888,
              "#fdca26"
             ],
             [
              1,
              "#f0f921"
             ]
            ],
            "type": "heatmapgl"
           }
          ],
          "histogram": [
           {
            "marker": {
             "pattern": {
              "fillmode": "overlay",
              "size": 10,
              "solidity": 0.2
             }
            },
            "type": "histogram"
           }
          ],
          "histogram2d": [
           {
            "colorbar": {
             "outlinewidth": 0,
             "ticks": ""
            },
            "colorscale": [
             [
              0,
              "#0d0887"
             ],
             [
              0.1111111111111111,
              "#46039f"
             ],
             [
              0.2222222222222222,
              "#7201a8"
             ],
             [
              0.3333333333333333,
              "#9c179e"
             ],
             [
              0.4444444444444444,
              "#bd3786"
             ],
             [
              0.5555555555555556,
              "#d8576b"
             ],
             [
              0.6666666666666666,
              "#ed7953"
             ],
             [
              0.7777777777777778,
              "#fb9f3a"
             ],
             [
              0.8888888888888888,
              "#fdca26"
             ],
             [
              1,
              "#f0f921"
             ]
            ],
            "type": "histogram2d"
           }
          ],
          "histogram2dcontour": [
           {
            "colorbar": {
             "outlinewidth": 0,
             "ticks": ""
            },
            "colorscale": [
             [
              0,
              "#0d0887"
             ],
             [
              0.1111111111111111,
              "#46039f"
             ],
             [
              0.2222222222222222,
              "#7201a8"
             ],
             [
              0.3333333333333333,
              "#9c179e"
             ],
             [
              0.4444444444444444,
              "#bd3786"
             ],
             [
              0.5555555555555556,
              "#d8576b"
             ],
             [
              0.6666666666666666,
              "#ed7953"
             ],
             [
              0.7777777777777778,
              "#fb9f3a"
             ],
             [
              0.8888888888888888,
              "#fdca26"
             ],
             [
              1,
              "#f0f921"
             ]
            ],
            "type": "histogram2dcontour"
           }
          ],
          "mesh3d": [
           {
            "colorbar": {
             "outlinewidth": 0,
             "ticks": ""
            },
            "type": "mesh3d"
           }
          ],
          "parcoords": [
           {
            "line": {
             "colorbar": {
              "outlinewidth": 0,
              "ticks": ""
             }
            },
            "type": "parcoords"
           }
          ],
          "pie": [
           {
            "automargin": true,
            "type": "pie"
           }
          ],
          "scatter": [
           {
            "fillpattern": {
             "fillmode": "overlay",
             "size": 10,
             "solidity": 0.2
            },
            "type": "scatter"
           }
          ],
          "scatter3d": [
           {
            "line": {
             "colorbar": {
              "outlinewidth": 0,
              "ticks": ""
             }
            },
            "marker": {
             "colorbar": {
              "outlinewidth": 0,
              "ticks": ""
             }
            },
            "type": "scatter3d"
           }
          ],
          "scattercarpet": [
           {
            "marker": {
             "colorbar": {
              "outlinewidth": 0,
              "ticks": ""
             }
            },
            "type": "scattercarpet"
           }
          ],
          "scattergeo": [
           {
            "marker": {
             "colorbar": {
              "outlinewidth": 0,
              "ticks": ""
             }
            },
            "type": "scattergeo"
           }
          ],
          "scattergl": [
           {
            "marker": {
             "colorbar": {
              "outlinewidth": 0,
              "ticks": ""
             }
            },
            "type": "scattergl"
           }
          ],
          "scattermapbox": [
           {
            "marker": {
             "colorbar": {
              "outlinewidth": 0,
              "ticks": ""
             }
            },
            "type": "scattermapbox"
           }
          ],
          "scatterpolar": [
           {
            "marker": {
             "colorbar": {
              "outlinewidth": 0,
              "ticks": ""
             }
            },
            "type": "scatterpolar"
           }
          ],
          "scatterpolargl": [
           {
            "marker": {
             "colorbar": {
              "outlinewidth": 0,
              "ticks": ""
             }
            },
            "type": "scatterpolargl"
           }
          ],
          "scatterternary": [
           {
            "marker": {
             "colorbar": {
              "outlinewidth": 0,
              "ticks": ""
             }
            },
            "type": "scatterternary"
           }
          ],
          "surface": [
           {
            "colorbar": {
             "outlinewidth": 0,
             "ticks": ""
            },
            "colorscale": [
             [
              0,
              "#0d0887"
             ],
             [
              0.1111111111111111,
              "#46039f"
             ],
             [
              0.2222222222222222,
              "#7201a8"
             ],
             [
              0.3333333333333333,
              "#9c179e"
             ],
             [
              0.4444444444444444,
              "#bd3786"
             ],
             [
              0.5555555555555556,
              "#d8576b"
             ],
             [
              0.6666666666666666,
              "#ed7953"
             ],
             [
              0.7777777777777778,
              "#fb9f3a"
             ],
             [
              0.8888888888888888,
              "#fdca26"
             ],
             [
              1,
              "#f0f921"
             ]
            ],
            "type": "surface"
           }
          ],
          "table": [
           {
            "cells": {
             "fill": {
              "color": "#EBF0F8"
             },
             "line": {
              "color": "white"
             }
            },
            "header": {
             "fill": {
              "color": "#C8D4E3"
             },
             "line": {
              "color": "white"
             }
            },
            "type": "table"
           }
          ]
         },
         "layout": {
          "annotationdefaults": {
           "arrowcolor": "#2a3f5f",
           "arrowhead": 0,
           "arrowwidth": 1
          },
          "autotypenumbers": "strict",
          "coloraxis": {
           "colorbar": {
            "outlinewidth": 0,
            "ticks": ""
           }
          },
          "colorscale": {
           "diverging": [
            [
             0,
             "#8e0152"
            ],
            [
             0.1,
             "#c51b7d"
            ],
            [
             0.2,
             "#de77ae"
            ],
            [
             0.3,
             "#f1b6da"
            ],
            [
             0.4,
             "#fde0ef"
            ],
            [
             0.5,
             "#f7f7f7"
            ],
            [
             0.6,
             "#e6f5d0"
            ],
            [
             0.7,
             "#b8e186"
            ],
            [
             0.8,
             "#7fbc41"
            ],
            [
             0.9,
             "#4d9221"
            ],
            [
             1,
             "#276419"
            ]
           ],
           "sequential": [
            [
             0,
             "#0d0887"
            ],
            [
             0.1111111111111111,
             "#46039f"
            ],
            [
             0.2222222222222222,
             "#7201a8"
            ],
            [
             0.3333333333333333,
             "#9c179e"
            ],
            [
             0.4444444444444444,
             "#bd3786"
            ],
            [
             0.5555555555555556,
             "#d8576b"
            ],
            [
             0.6666666666666666,
             "#ed7953"
            ],
            [
             0.7777777777777778,
             "#fb9f3a"
            ],
            [
             0.8888888888888888,
             "#fdca26"
            ],
            [
             1,
             "#f0f921"
            ]
           ],
           "sequentialminus": [
            [
             0,
             "#0d0887"
            ],
            [
             0.1111111111111111,
             "#46039f"
            ],
            [
             0.2222222222222222,
             "#7201a8"
            ],
            [
             0.3333333333333333,
             "#9c179e"
            ],
            [
             0.4444444444444444,
             "#bd3786"
            ],
            [
             0.5555555555555556,
             "#d8576b"
            ],
            [
             0.6666666666666666,
             "#ed7953"
            ],
            [
             0.7777777777777778,
             "#fb9f3a"
            ],
            [
             0.8888888888888888,
             "#fdca26"
            ],
            [
             1,
             "#f0f921"
            ]
           ]
          },
          "colorway": [
           "#636efa",
           "#EF553B",
           "#00cc96",
           "#ab63fa",
           "#FFA15A",
           "#19d3f3",
           "#FF6692",
           "#B6E880",
           "#FF97FF",
           "#FECB52"
          ],
          "font": {
           "color": "#2a3f5f"
          },
          "geo": {
           "bgcolor": "white",
           "lakecolor": "white",
           "landcolor": "#E5ECF6",
           "showlakes": true,
           "showland": true,
           "subunitcolor": "white"
          },
          "hoverlabel": {
           "align": "left"
          },
          "hovermode": "closest",
          "mapbox": {
           "style": "light"
          },
          "paper_bgcolor": "white",
          "plot_bgcolor": "#E5ECF6",
          "polar": {
           "angularaxis": {
            "gridcolor": "white",
            "linecolor": "white",
            "ticks": ""
           },
           "bgcolor": "#E5ECF6",
           "radialaxis": {
            "gridcolor": "white",
            "linecolor": "white",
            "ticks": ""
           }
          },
          "scene": {
           "xaxis": {
            "backgroundcolor": "#E5ECF6",
            "gridcolor": "white",
            "gridwidth": 2,
            "linecolor": "white",
            "showbackground": true,
            "ticks": "",
            "zerolinecolor": "white"
           },
           "yaxis": {
            "backgroundcolor": "#E5ECF6",
            "gridcolor": "white",
            "gridwidth": 2,
            "linecolor": "white",
            "showbackground": true,
            "ticks": "",
            "zerolinecolor": "white"
           },
           "zaxis": {
            "backgroundcolor": "#E5ECF6",
            "gridcolor": "white",
            "gridwidth": 2,
            "linecolor": "white",
            "showbackground": true,
            "ticks": "",
            "zerolinecolor": "white"
           }
          },
          "shapedefaults": {
           "line": {
            "color": "#2a3f5f"
           }
          },
          "ternary": {
           "aaxis": {
            "gridcolor": "white",
            "linecolor": "white",
            "ticks": ""
           },
           "baxis": {
            "gridcolor": "white",
            "linecolor": "white",
            "ticks": ""
           },
           "bgcolor": "#E5ECF6",
           "caxis": {
            "gridcolor": "white",
            "linecolor": "white",
            "ticks": ""
           }
          },
          "title": {
           "x": 0.05
          },
          "xaxis": {
           "automargin": true,
           "gridcolor": "white",
           "linecolor": "white",
           "ticks": "",
           "title": {
            "standoff": 15
           },
           "zerolinecolor": "white",
           "zerolinewidth": 2
          },
          "yaxis": {
           "automargin": true,
           "gridcolor": "white",
           "linecolor": "white",
           "ticks": "",
           "title": {
            "standoff": 15
           },
           "zerolinecolor": "white",
           "zerolinewidth": 2
          }
         }
        },
        "title": {
         "text": "Total Annual Savings for the Whole Community"
        },
        "width": 900,
        "xaxis": {
         "anchor": "y",
         "domain": [
          0,
          0.00012996750812296928
         ],
         "tickangle": 45,
         "title": {
          "text": ""
         },
         "visible": false
        },
        "xaxis2": {
         "anchor": "y2",
         "domain": [
          0.12012996750812296,
          0.25009747563109225
         ],
         "tickangle": 45,
         "title": {
          "text": "Bill<br>Savings<br>usd"
         },
         "visible": true
        },
        "xaxis3": {
         "anchor": "y3",
         "domain": [
          0.37009747563109224,
          0.5000649837540615
         ],
         "tickangle": 45,
         "title": {
          "text": "Emission<br>Savings<br>kgCO2e"
         },
         "visible": true
        },
        "xaxis4": {
         "anchor": "y4",
         "domain": [
          0.6200649837540615,
          0.7500324918770308
         ],
         "tickangle": 45,
         "title": {
          "text": "Electricity<br>Savings<br>kwh"
         },
         "visible": true
        },
        "xaxis5": {
         "anchor": "y5",
         "domain": [
          0.8700324918770308,
          1
         ],
         "tickangle": 45,
         "title": {
          "text": "Gas, Propane,<br>Fuel Oil Savings<br>mmbtu"
         },
         "visible": true
        },
        "yaxis": {
         "anchor": "x",
         "domain": [
          0,
          1
         ],
         "visible": true
        },
        "yaxis2": {
         "anchor": "x2",
         "domain": [
          0,
          1
         ],
         "visible": false
        },
        "yaxis3": {
         "anchor": "x3",
         "domain": [
          0,
          1
         ],
         "visible": false
        },
        "yaxis4": {
         "anchor": "x4",
         "domain": [
          0,
          1
         ],
         "visible": false
        },
        "yaxis5": {
         "anchor": "x5",
         "domain": [
          0,
          1
         ],
         "visible": false
        }
       }
      }
     },
     "metadata": {},
     "output_type": "display_data"
    }
   ],
   "source": [
    "# flavor 1 - with electricity and non-electricity split\n",
    "def figure_total_savings(commnity_results):\n",
    "    results = commnity_results[['upgrade_name',\n",
    "                       'saving_energy.electricity_kwh',\n",
    "                      'saving_energy.natural_gas_therm',\n",
    "                                'saving_energy.fuel_oil_mmbtu',\n",
    "                                'saving_energy.propane_mmbtu',\n",
    "                       'saving_cbill.total_usd',\n",
    "                       'saving_emission.total_kgCO2e',\n",
    "                                'sample_weight']]\n",
    "    results = results.loc[results['upgrade_name'] != 'baseline']\n",
    "    results['saving_energy.natural_gas_fuel_oil_propane_mmbtu'] = results['saving_energy.natural_gas_therm']*0.1 + results['saving_energy.fuel_oil_mmbtu']+ results['saving_energy.propane_mmbtu']\n",
    "    results['saving_energy.electricity_kwh'] = results['saving_energy.electricity_kwh']*results['sample_weight']\n",
    "    results['saving_energy.natural_gas_fuel_oil_propane_mmbtu'] = results['saving_energy.natural_gas_fuel_oil_propane_mmbtu']*results['sample_weight']\n",
    "    results['saving_cbill.total_usd'] = results['saving_cbill.total_usd']*results['sample_weight']\n",
    "    results['saving_emission.total_kgCO2e'] = results['saving_emission.total_kgCO2e']*results['sample_weight']\n",
    "    \n",
    "    agg_functions = {'upgrade_name': 'first',\n",
    "                     'saving_energy.electricity_kwh': 'sum',\n",
    "                     'saving_energy.natural_gas_fuel_oil_propane_mmbtu': 'sum', \n",
    "                     'saving_cbill.total_usd': 'sum',\n",
    "                     'saving_emission.total_kgCO2e': 'sum'}\n",
    "    results = results.groupby(results['upgrade_name']).aggregate(agg_functions)\n",
    "    results = results.sort_values('saving_cbill.total_usd')\n",
    "    \n",
    "    fig = make_subplots(rows=1, cols=5, horizontal_spacing=0.12, column_widths=[0.001, 1, 1, 1, 1])\n",
    "    \n",
    "    fig.add_trace(go.Bar(\n",
    "        x=[0] * 176,\n",
    "        y=results['upgrade_name'],\n",
    "        text=None,\n",
    "        orientation='h'), row=1, col=1)\n",
    "    \n",
    "    fig.add_trace(go.Bar(\n",
    "        x=results['saving_cbill.total_usd'],\n",
    "        y=results['upgrade_name'],\n",
    "        text=results['saving_cbill.total_usd'],\n",
    "        orientation='h'), row=1, col=2)\n",
    "    \n",
    "    fig.add_trace(go.Bar(\n",
    "        x=results['saving_emission.total_kgCO2e'],\n",
    "        y=results['upgrade_name'],\n",
    "        text=results['saving_emission.total_kgCO2e'],\n",
    "        orientation='h'),row=1, col=3)\n",
    "    \n",
    "    fig.add_trace(go.Bar(\n",
    "        x=results['saving_energy.electricity_kwh'],\n",
    "        y=results['upgrade_name'],\n",
    "        text=results['saving_energy.electricity_kwh'],\n",
    "        orientation='h'),row=1, col=4)\n",
    "    \n",
    "    fig.add_trace(go.Bar(\n",
    "        x=results['saving_energy.natural_gas_fuel_oil_propane_mmbtu'],\n",
    "        y=results['upgrade_name'],\n",
    "        text=results['saving_energy.natural_gas_fuel_oil_propane_mmbtu'],\n",
    "        orientation='h'),row=1, col=5)\n",
    "\n",
    "    fig.update_traces(textfont_size=10, textangle=0, textposition=\"outside\", cliponaxis=False)\n",
    "    fig.update_traces(marker_color='rgb(0, 121, 61)', marker_line_color='rgb(0, 121, 61)')\n",
    "    fig.update_traces(marker_color='rgb(255, 255, 255)', marker_line_color='rgb(255, 255, 255)',row=1,col=1)\n",
    "    fig.update_traces(texttemplate='%{text:.3s}', textposition='outside',row=1,col=2)\n",
    "    fig.update_traces(texttemplate='%{text:.3s}', textposition='outside',row=1,col=3)\n",
    "    fig.update_traces(texttemplate='%{text:.3s}', textposition='outside',row=1,col=4)\n",
    "    fig.update_traces(texttemplate='%{text:.3s}', textposition='outside',row=1,col=5)\n",
    "    fig.update_layout(xaxis_title=\"\", xaxis_visible=False, yaxis_visible=True,\n",
    "                      xaxis2_title=\"Bill<br>Savings<br>usd\", xaxis2_visible=True, yaxis2_visible=False,\n",
    "                      xaxis3_title=\"Emission<br>Savings<br>kgCO2e\", xaxis3_visible=True, yaxis3_visible=False,\n",
    "                      xaxis4_title=\"Electricity<br>Savings<br>kwh\", xaxis4_visible=True, yaxis4_visible=False,\n",
    "                      xaxis5_title=\"Gas, Propane,<br>Fuel Oil Savings<br>mmbtu\", xaxis5_visible=True, yaxis5_visible=False,\n",
    "                     title='Total Annual Savings for the Whole Community')\n",
    "    fig.update_layout(\n",
    "    autosize=False,\n",
    "    width=900,\n",
    "    height=500,\n",
    "    font=dict(size=10),\n",
    "    plot_bgcolor='rgba(0, 0, 0, 0)',)\n",
    "    fig.update_xaxes(tickangle=45)\n",
    "    fig.update_layout(showlegend=False)\n",
    "    \n",
    "    fig.show()\n",
    "    fig.write_image(fig_dir / 'total_annual_savings_1.svg')\n",
    "\n",
    "figure_total_savings(community_results)"
   ]
  },
  {
   "cell_type": "code",
   "execution_count": 19,
   "id": "ebec6b8d",
   "metadata": {},
   "outputs": [
    {
     "data": {
      "application/vnd.plotly.v1+json": {
       "config": {
        "plotlyServerURL": "https://plot.ly"
       },
       "data": [
        {
         "cliponaxis": false,
         "marker": {
          "color": "rgb(255, 255, 255)",
          "line": {
           "color": "rgb(255, 255, 255)"
          }
         },
         "orientation": "h",
         "textangle": 0,
         "textfont": {
          "size": 10
         },
         "textposition": "outside",
         "type": "bar",
         "x": [
          0,
          0,
          0,
          0,
          0,
          0,
          0,
          0,
          0,
          0,
          0,
          0,
          0,
          0,
          0,
          0,
          0,
          0,
          0,
          0,
          0,
          0,
          0,
          0,
          0,
          0,
          0,
          0,
          0,
          0,
          0,
          0,
          0,
          0,
          0,
          0,
          0,
          0,
          0,
          0,
          0,
          0,
          0,
          0,
          0,
          0,
          0,
          0,
          0,
          0,
          0,
          0,
          0,
          0,
          0,
          0,
          0,
          0,
          0,
          0,
          0,
          0,
          0,
          0,
          0,
          0,
          0,
          0,
          0,
          0,
          0,
          0,
          0,
          0,
          0,
          0,
          0,
          0,
          0,
          0,
          0,
          0,
          0,
          0,
          0,
          0,
          0,
          0,
          0,
          0,
          0,
          0,
          0,
          0,
          0,
          0,
          0,
          0,
          0,
          0,
          0,
          0,
          0,
          0,
          0,
          0,
          0,
          0,
          0,
          0,
          0,
          0,
          0,
          0,
          0,
          0,
          0,
          0,
          0,
          0,
          0,
          0,
          0,
          0,
          0,
          0,
          0,
          0,
          0,
          0,
          0,
          0,
          0,
          0,
          0,
          0,
          0,
          0,
          0,
          0,
          0,
          0,
          0,
          0,
          0,
          0,
          0,
          0,
          0,
          0,
          0,
          0,
          0,
          0,
          0,
          0,
          0,
          0,
          0,
          0,
          0,
          0,
          0,
          0,
          0,
          0,
          0,
          0,
          0,
          0,
          0,
          0,
          0,
          0,
          0,
          0
         ],
         "xaxis": "x",
         "y": [
          "Mininum Efficiency Whole Home Electrification",
          "Mininum Efficiency Heat Pump with Electric Heat Backup",
          "High Efficiency Heat Pump with Electric Heat Backup",
          "Electric Clothes Dryer",
          "Electric Cooking",
          "Induction Cooking",
          "Heat Pump Clothes Dryer",
          "Mininum Efficiency Heat Pump with Existing Heat Backup",
          "Heat Pump Water Heater",
          "High Efficiency Whole Home Electrification",
          "Basic Enclosure",
          "Enhanced Enclosure",
          "Basic Enclosure + HPWH + High Efficiency HP/Electric Backup",
          "Basic Enclosure + High Efficiency Whole Home Electrification",
          "Enhanced Enclosure + HPWH + High Efficiency HP/Electric Backup",
          "Enhanced Enclosure + High Efficiency Whole Home Electrification"
         ],
         "yaxis": "y"
        },
        {
         "cliponaxis": false,
         "marker": {
          "color": "rgb(0, 121, 61)",
          "line": {
           "color": "rgb(0, 121, 61)"
          }
         },
         "orientation": "h",
         "text": [
          -21367390.671423443,
          -20327528.181549888,
          -395459.1508117569,
          -116662.26682610072,
          -83816.51093521103,
          20377.903633061545,
          506819.9685175932,
          1305499.7908440067,
          1921829.8104714649,
          4859006.152865477,
          8318934.913899742,
          11272565.211944839,
          13911975.442515345,
          14533608.21714293,
          15197241.655928282,
          15818874.430555867
         ],
         "textangle": 0,
         "textfont": {
          "size": 10
         },
         "textposition": "outside",
         "texttemplate": "%{text:.3s}",
         "type": "bar",
         "x": [
          -21367390.671423443,
          -20327528.181549888,
          -395459.1508117569,
          -116662.26682610072,
          -83816.51093521103,
          20377.903633061545,
          506819.9685175932,
          1305499.7908440067,
          1921829.8104714649,
          4859006.152865477,
          8318934.913899742,
          11272565.211944839,
          13911975.442515345,
          14533608.21714293,
          15197241.655928282,
          15818874.430555867
         ],
         "xaxis": "x2",
         "y": [
          "Mininum Efficiency Whole Home Electrification",
          "Mininum Efficiency Heat Pump with Electric Heat Backup",
          "High Efficiency Heat Pump with Electric Heat Backup",
          "Electric Clothes Dryer",
          "Electric Cooking",
          "Induction Cooking",
          "Heat Pump Clothes Dryer",
          "Mininum Efficiency Heat Pump with Existing Heat Backup",
          "Heat Pump Water Heater",
          "High Efficiency Whole Home Electrification",
          "Basic Enclosure",
          "Enhanced Enclosure",
          "Basic Enclosure + HPWH + High Efficiency HP/Electric Backup",
          "Basic Enclosure + High Efficiency Whole Home Electrification",
          "Enhanced Enclosure + HPWH + High Efficiency HP/Electric Backup",
          "Enhanced Enclosure + High Efficiency Whole Home Electrification"
         ],
         "yaxis": "y2"
        },
        {
         "cliponaxis": false,
         "marker": {
          "color": "rgb(0, 121, 61)",
          "line": {
           "color": "rgb(0, 121, 61)"
          }
         },
         "orientation": "h",
         "text": [
          230326391.65844133,
          205622565.21037492,
          236108114.61562437,
          507366.0023379695,
          1561327.9044513842,
          1701158.1002626037,
          1333014.305647918,
          62965505.80782202,
          15974956.45396246,
          269875258.9534309,
          59874749.554827884,
          80049730.7991554,
          282022130.0451105,
          285056302.451021,
          284055256.4995859,
          287089428.9054964
         ],
         "textangle": 0,
         "textfont": {
          "size": 10
         },
         "textposition": "outside",
         "texttemplate": "%{text:.3s}",
         "type": "bar",
         "x": [
          230326391.65844133,
          205622565.21037492,
          236108114.61562437,
          507366.0023379695,
          1561327.9044513842,
          1701158.1002626037,
          1333014.305647918,
          62965505.80782202,
          15974956.45396246,
          269875258.9534309,
          59874749.554827884,
          80049730.7991554,
          282022130.0451105,
          285056302.451021,
          284055256.4995859,
          287089428.9054964
         ],
         "xaxis": "x3",
         "y": [
          "Mininum Efficiency Whole Home Electrification",
          "Mininum Efficiency Heat Pump with Electric Heat Backup",
          "High Efficiency Heat Pump with Electric Heat Backup",
          "Electric Clothes Dryer",
          "Electric Cooking",
          "Induction Cooking",
          "Heat Pump Clothes Dryer",
          "Mininum Efficiency Heat Pump with Existing Heat Backup",
          "Heat Pump Water Heater",
          "High Efficiency Whole Home Electrification",
          "Basic Enclosure",
          "Enhanced Enclosure",
          "Basic Enclosure + HPWH + High Efficiency HP/Electric Backup",
          "Basic Enclosure + High Efficiency Whole Home Electrification",
          "Enhanced Enclosure + HPWH + High Efficiency HP/Electric Backup",
          "Enhanced Enclosure + High Efficiency Whole Home Electrification"
         ],
         "yaxis": "y3"
        },
        {
         "cliponaxis": false,
         "marker": {
          "color": "rgb(0, 121, 61)",
          "line": {
           "color": "rgb(0, 121, 61)"
          }
         },
         "orientation": "h",
         "text": [
          67486.696,
          63901.421,
          90576.919,
          74.97600000000014,
          461.0110000000009,
          591.1990000000012,
          898.8770000000002,
          26400.736,
          6875.059999999999,
          105447.363,
          27464.417999999998,
          37976.986,
          116245.843,
          117735.919,
          117806.012,
          119296.088
         ],
         "textangle": 0,
         "textfont": {
          "size": 10
         },
         "textposition": "outside",
         "texttemplate": "%{text:.3s}",
         "type": "bar",
         "x": [
          67486.696,
          63901.421,
          90576.919,
          74.97600000000014,
          461.0110000000009,
          591.1990000000012,
          898.8770000000002,
          26400.736,
          6875.059999999999,
          105447.363,
          27464.417999999998,
          37976.986,
          116245.843,
          117735.919,
          117806.012,
          119296.088
         ],
         "xaxis": "x4",
         "y": [
          "Mininum Efficiency Whole Home Electrification",
          "Mininum Efficiency Heat Pump with Electric Heat Backup",
          "High Efficiency Heat Pump with Electric Heat Backup",
          "Electric Clothes Dryer",
          "Electric Cooking",
          "Induction Cooking",
          "Heat Pump Clothes Dryer",
          "Mininum Efficiency Heat Pump with Existing Heat Backup",
          "Heat Pump Water Heater",
          "High Efficiency Whole Home Electrification",
          "Basic Enclosure",
          "Enhanced Enclosure",
          "Basic Enclosure + HPWH + High Efficiency HP/Electric Backup",
          "Basic Enclosure + High Efficiency Whole Home Electrification",
          "Enhanced Enclosure + HPWH + High Efficiency HP/Electric Backup",
          "Enhanced Enclosure + High Efficiency Whole Home Electrification"
         ],
         "yaxis": "y4"
        },
        {
         "cliponaxis": false,
         "marker": {
          "color": "rgb(0, 121, 61)",
          "line": {
           "color": "rgb(0, 121, 61)"
          }
         },
         "orientation": "h",
         "text": [
          -697969520.2733308,
          -631802545.9690868,
          -394012200.2093022,
          -2702139.5433983942,
          -4085540.4139914135,
          -2842763.522671369,
          4734432.9201475745,
          -85136843.82819256,
          -5556794.95086545,
          -385154672.6553809,
          23804454.773255534,
          33363727.514124185,
          -271652710.5609982,
          -269761041.163522,
          -256322722.32849658,
          -254431052.93102038
         ],
         "textangle": 0,
         "textfont": {
          "size": 10
         },
         "textposition": "outside",
         "texttemplate": "%{text:.3s}",
         "type": "bar",
         "x": [
          -697969520.2733308,
          -631802545.9690868,
          -394012200.2093022,
          -2702139.5433983942,
          -4085540.4139914135,
          -2842763.522671369,
          4734432.9201475745,
          -85136843.82819256,
          -5556794.95086545,
          -385154672.6553809,
          23804454.773255534,
          33363727.514124185,
          -271652710.5609982,
          -269761041.163522,
          -256322722.32849658,
          -254431052.93102038
         ],
         "xaxis": "x5",
         "y": [
          "Mininum Efficiency Whole Home Electrification",
          "Mininum Efficiency Heat Pump with Electric Heat Backup",
          "High Efficiency Heat Pump with Electric Heat Backup",
          "Electric Clothes Dryer",
          "Electric Cooking",
          "Induction Cooking",
          "Heat Pump Clothes Dryer",
          "Mininum Efficiency Heat Pump with Existing Heat Backup",
          "Heat Pump Water Heater",
          "High Efficiency Whole Home Electrification",
          "Basic Enclosure",
          "Enhanced Enclosure",
          "Basic Enclosure + HPWH + High Efficiency HP/Electric Backup",
          "Basic Enclosure + High Efficiency Whole Home Electrification",
          "Enhanced Enclosure + HPWH + High Efficiency HP/Electric Backup",
          "Enhanced Enclosure + High Efficiency Whole Home Electrification"
         ],
         "yaxis": "y5"
        },
        {
         "cliponaxis": false,
         "marker": {
          "color": "rgb(0, 121, 61)",
          "line": {
           "color": "rgb(0, 121, 61)"
          }
         },
         "orientation": "h",
         "text": [
          4622011.203429879,
          4139322.297885347,
          4138843.484680678,
          12021.869275966106,
          29797.166720618123,
          29797.166720618123,
          12021.869275966106,
          1058024.8644380565,
          251438.76078152412,
          4622011.203429879,
          811370.9115951823,
          1082846.1091641535,
          4580192.1674332945,
          4622011.203429879,
          4580192.1674332945,
          4622011.203429879
         ],
         "textangle": 0,
         "textfont": {
          "size": 10
         },
         "textposition": "outside",
         "texttemplate": "%{text:.3s}",
         "type": "bar",
         "x": [
          4622011.203429879,
          4139322.297885347,
          4138843.484680678,
          12021.869275966106,
          29797.166720618123,
          29797.166720618123,
          12021.869275966106,
          1058024.8644380565,
          251438.76078152412,
          4622011.203429879,
          811370.9115951823,
          1082846.1091641535,
          4580192.1674332945,
          4622011.203429879,
          4580192.1674332945,
          4622011.203429879
         ],
         "xaxis": "x6",
         "y": [
          "Mininum Efficiency Whole Home Electrification",
          "Mininum Efficiency Heat Pump with Electric Heat Backup",
          "High Efficiency Heat Pump with Electric Heat Backup",
          "Electric Clothes Dryer",
          "Electric Cooking",
          "Induction Cooking",
          "Heat Pump Clothes Dryer",
          "Mininum Efficiency Heat Pump with Existing Heat Backup",
          "Heat Pump Water Heater",
          "High Efficiency Whole Home Electrification",
          "Basic Enclosure",
          "Enhanced Enclosure",
          "Basic Enclosure + HPWH + High Efficiency HP/Electric Backup",
          "Basic Enclosure + High Efficiency Whole Home Electrification",
          "Enhanced Enclosure + HPWH + High Efficiency HP/Electric Backup",
          "Enhanced Enclosure + High Efficiency Whole Home Electrification"
         ],
         "yaxis": "y6"
        }
       ],
       "layout": {
        "autosize": false,
        "font": {
         "size": 10
        },
        "height": 500,
        "plot_bgcolor": "rgba(0, 0, 0, 0)",
        "showlegend": false,
        "template": {
         "data": {
          "bar": [
           {
            "error_x": {
             "color": "#2a3f5f"
            },
            "error_y": {
             "color": "#2a3f5f"
            },
            "marker": {
             "line": {
              "color": "#E5ECF6",
              "width": 0.5
             },
             "pattern": {
              "fillmode": "overlay",
              "size": 10,
              "solidity": 0.2
             }
            },
            "type": "bar"
           }
          ],
          "barpolar": [
           {
            "marker": {
             "line": {
              "color": "#E5ECF6",
              "width": 0.5
             },
             "pattern": {
              "fillmode": "overlay",
              "size": 10,
              "solidity": 0.2
             }
            },
            "type": "barpolar"
           }
          ],
          "carpet": [
           {
            "aaxis": {
             "endlinecolor": "#2a3f5f",
             "gridcolor": "white",
             "linecolor": "white",
             "minorgridcolor": "white",
             "startlinecolor": "#2a3f5f"
            },
            "baxis": {
             "endlinecolor": "#2a3f5f",
             "gridcolor": "white",
             "linecolor": "white",
             "minorgridcolor": "white",
             "startlinecolor": "#2a3f5f"
            },
            "type": "carpet"
           }
          ],
          "choropleth": [
           {
            "colorbar": {
             "outlinewidth": 0,
             "ticks": ""
            },
            "type": "choropleth"
           }
          ],
          "contour": [
           {
            "colorbar": {
             "outlinewidth": 0,
             "ticks": ""
            },
            "colorscale": [
             [
              0,
              "#0d0887"
             ],
             [
              0.1111111111111111,
              "#46039f"
             ],
             [
              0.2222222222222222,
              "#7201a8"
             ],
             [
              0.3333333333333333,
              "#9c179e"
             ],
             [
              0.4444444444444444,
              "#bd3786"
             ],
             [
              0.5555555555555556,
              "#d8576b"
             ],
             [
              0.6666666666666666,
              "#ed7953"
             ],
             [
              0.7777777777777778,
              "#fb9f3a"
             ],
             [
              0.8888888888888888,
              "#fdca26"
             ],
             [
              1,
              "#f0f921"
             ]
            ],
            "type": "contour"
           }
          ],
          "contourcarpet": [
           {
            "colorbar": {
             "outlinewidth": 0,
             "ticks": ""
            },
            "type": "contourcarpet"
           }
          ],
          "heatmap": [
           {
            "colorbar": {
             "outlinewidth": 0,
             "ticks": ""
            },
            "colorscale": [
             [
              0,
              "#0d0887"
             ],
             [
              0.1111111111111111,
              "#46039f"
             ],
             [
              0.2222222222222222,
              "#7201a8"
             ],
             [
              0.3333333333333333,
              "#9c179e"
             ],
             [
              0.4444444444444444,
              "#bd3786"
             ],
             [
              0.5555555555555556,
              "#d8576b"
             ],
             [
              0.6666666666666666,
              "#ed7953"
             ],
             [
              0.7777777777777778,
              "#fb9f3a"
             ],
             [
              0.8888888888888888,
              "#fdca26"
             ],
             [
              1,
              "#f0f921"
             ]
            ],
            "type": "heatmap"
           }
          ],
          "heatmapgl": [
           {
            "colorbar": {
             "outlinewidth": 0,
             "ticks": ""
            },
            "colorscale": [
             [
              0,
              "#0d0887"
             ],
             [
              0.1111111111111111,
              "#46039f"
             ],
             [
              0.2222222222222222,
              "#7201a8"
             ],
             [
              0.3333333333333333,
              "#9c179e"
             ],
             [
              0.4444444444444444,
              "#bd3786"
             ],
             [
              0.5555555555555556,
              "#d8576b"
             ],
             [
              0.6666666666666666,
              "#ed7953"
             ],
             [
              0.7777777777777778,
              "#fb9f3a"
             ],
             [
              0.8888888888888888,
              "#fdca26"
             ],
             [
              1,
              "#f0f921"
             ]
            ],
            "type": "heatmapgl"
           }
          ],
          "histogram": [
           {
            "marker": {
             "pattern": {
              "fillmode": "overlay",
              "size": 10,
              "solidity": 0.2
             }
            },
            "type": "histogram"
           }
          ],
          "histogram2d": [
           {
            "colorbar": {
             "outlinewidth": 0,
             "ticks": ""
            },
            "colorscale": [
             [
              0,
              "#0d0887"
             ],
             [
              0.1111111111111111,
              "#46039f"
             ],
             [
              0.2222222222222222,
              "#7201a8"
             ],
             [
              0.3333333333333333,
              "#9c179e"
             ],
             [
              0.4444444444444444,
              "#bd3786"
             ],
             [
              0.5555555555555556,
              "#d8576b"
             ],
             [
              0.6666666666666666,
              "#ed7953"
             ],
             [
              0.7777777777777778,
              "#fb9f3a"
             ],
             [
              0.8888888888888888,
              "#fdca26"
             ],
             [
              1,
              "#f0f921"
             ]
            ],
            "type": "histogram2d"
           }
          ],
          "histogram2dcontour": [
           {
            "colorbar": {
             "outlinewidth": 0,
             "ticks": ""
            },
            "colorscale": [
             [
              0,
              "#0d0887"
             ],
             [
              0.1111111111111111,
              "#46039f"
             ],
             [
              0.2222222222222222,
              "#7201a8"
             ],
             [
              0.3333333333333333,
              "#9c179e"
             ],
             [
              0.4444444444444444,
              "#bd3786"
             ],
             [
              0.5555555555555556,
              "#d8576b"
             ],
             [
              0.6666666666666666,
              "#ed7953"
             ],
             [
              0.7777777777777778,
              "#fb9f3a"
             ],
             [
              0.8888888888888888,
              "#fdca26"
             ],
             [
              1,
              "#f0f921"
             ]
            ],
            "type": "histogram2dcontour"
           }
          ],
          "mesh3d": [
           {
            "colorbar": {
             "outlinewidth": 0,
             "ticks": ""
            },
            "type": "mesh3d"
           }
          ],
          "parcoords": [
           {
            "line": {
             "colorbar": {
              "outlinewidth": 0,
              "ticks": ""
             }
            },
            "type": "parcoords"
           }
          ],
          "pie": [
           {
            "automargin": true,
            "type": "pie"
           }
          ],
          "scatter": [
           {
            "fillpattern": {
             "fillmode": "overlay",
             "size": 10,
             "solidity": 0.2
            },
            "type": "scatter"
           }
          ],
          "scatter3d": [
           {
            "line": {
             "colorbar": {
              "outlinewidth": 0,
              "ticks": ""
             }
            },
            "marker": {
             "colorbar": {
              "outlinewidth": 0,
              "ticks": ""
             }
            },
            "type": "scatter3d"
           }
          ],
          "scattercarpet": [
           {
            "marker": {
             "colorbar": {
              "outlinewidth": 0,
              "ticks": ""
             }
            },
            "type": "scattercarpet"
           }
          ],
          "scattergeo": [
           {
            "marker": {
             "colorbar": {
              "outlinewidth": 0,
              "ticks": ""
             }
            },
            "type": "scattergeo"
           }
          ],
          "scattergl": [
           {
            "marker": {
             "colorbar": {
              "outlinewidth": 0,
              "ticks": ""
             }
            },
            "type": "scattergl"
           }
          ],
          "scattermapbox": [
           {
            "marker": {
             "colorbar": {
              "outlinewidth": 0,
              "ticks": ""
             }
            },
            "type": "scattermapbox"
           }
          ],
          "scatterpolar": [
           {
            "marker": {
             "colorbar": {
              "outlinewidth": 0,
              "ticks": ""
             }
            },
            "type": "scatterpolar"
           }
          ],
          "scatterpolargl": [
           {
            "marker": {
             "colorbar": {
              "outlinewidth": 0,
              "ticks": ""
             }
            },
            "type": "scatterpolargl"
           }
          ],
          "scatterternary": [
           {
            "marker": {
             "colorbar": {
              "outlinewidth": 0,
              "ticks": ""
             }
            },
            "type": "scatterternary"
           }
          ],
          "surface": [
           {
            "colorbar": {
             "outlinewidth": 0,
             "ticks": ""
            },
            "colorscale": [
             [
              0,
              "#0d0887"
             ],
             [
              0.1111111111111111,
              "#46039f"
             ],
             [
              0.2222222222222222,
              "#7201a8"
             ],
             [
              0.3333333333333333,
              "#9c179e"
             ],
             [
              0.4444444444444444,
              "#bd3786"
             ],
             [
              0.5555555555555556,
              "#d8576b"
             ],
             [
              0.6666666666666666,
              "#ed7953"
             ],
             [
              0.7777777777777778,
              "#fb9f3a"
             ],
             [
              0.8888888888888888,
              "#fdca26"
             ],
             [
              1,
              "#f0f921"
             ]
            ],
            "type": "surface"
           }
          ],
          "table": [
           {
            "cells": {
             "fill": {
              "color": "#EBF0F8"
             },
             "line": {
              "color": "white"
             }
            },
            "header": {
             "fill": {
              "color": "#C8D4E3"
             },
             "line": {
              "color": "white"
             }
            },
            "type": "table"
           }
          ]
         },
         "layout": {
          "annotationdefaults": {
           "arrowcolor": "#2a3f5f",
           "arrowhead": 0,
           "arrowwidth": 1
          },
          "autotypenumbers": "strict",
          "coloraxis": {
           "colorbar": {
            "outlinewidth": 0,
            "ticks": ""
           }
          },
          "colorscale": {
           "diverging": [
            [
             0,
             "#8e0152"
            ],
            [
             0.1,
             "#c51b7d"
            ],
            [
             0.2,
             "#de77ae"
            ],
            [
             0.3,
             "#f1b6da"
            ],
            [
             0.4,
             "#fde0ef"
            ],
            [
             0.5,
             "#f7f7f7"
            ],
            [
             0.6,
             "#e6f5d0"
            ],
            [
             0.7,
             "#b8e186"
            ],
            [
             0.8,
             "#7fbc41"
            ],
            [
             0.9,
             "#4d9221"
            ],
            [
             1,
             "#276419"
            ]
           ],
           "sequential": [
            [
             0,
             "#0d0887"
            ],
            [
             0.1111111111111111,
             "#46039f"
            ],
            [
             0.2222222222222222,
             "#7201a8"
            ],
            [
             0.3333333333333333,
             "#9c179e"
            ],
            [
             0.4444444444444444,
             "#bd3786"
            ],
            [
             0.5555555555555556,
             "#d8576b"
            ],
            [
             0.6666666666666666,
             "#ed7953"
            ],
            [
             0.7777777777777778,
             "#fb9f3a"
            ],
            [
             0.8888888888888888,
             "#fdca26"
            ],
            [
             1,
             "#f0f921"
            ]
           ],
           "sequentialminus": [
            [
             0,
             "#0d0887"
            ],
            [
             0.1111111111111111,
             "#46039f"
            ],
            [
             0.2222222222222222,
             "#7201a8"
            ],
            [
             0.3333333333333333,
             "#9c179e"
            ],
            [
             0.4444444444444444,
             "#bd3786"
            ],
            [
             0.5555555555555556,
             "#d8576b"
            ],
            [
             0.6666666666666666,
             "#ed7953"
            ],
            [
             0.7777777777777778,
             "#fb9f3a"
            ],
            [
             0.8888888888888888,
             "#fdca26"
            ],
            [
             1,
             "#f0f921"
            ]
           ]
          },
          "colorway": [
           "#636efa",
           "#EF553B",
           "#00cc96",
           "#ab63fa",
           "#FFA15A",
           "#19d3f3",
           "#FF6692",
           "#B6E880",
           "#FF97FF",
           "#FECB52"
          ],
          "font": {
           "color": "#2a3f5f"
          },
          "geo": {
           "bgcolor": "white",
           "lakecolor": "white",
           "landcolor": "#E5ECF6",
           "showlakes": true,
           "showland": true,
           "subunitcolor": "white"
          },
          "hoverlabel": {
           "align": "left"
          },
          "hovermode": "closest",
          "mapbox": {
           "style": "light"
          },
          "paper_bgcolor": "white",
          "plot_bgcolor": "#E5ECF6",
          "polar": {
           "angularaxis": {
            "gridcolor": "white",
            "linecolor": "white",
            "ticks": ""
           },
           "bgcolor": "#E5ECF6",
           "radialaxis": {
            "gridcolor": "white",
            "linecolor": "white",
            "ticks": ""
           }
          },
          "scene": {
           "xaxis": {
            "backgroundcolor": "#E5ECF6",
            "gridcolor": "white",
            "gridwidth": 2,
            "linecolor": "white",
            "showbackground": true,
            "ticks": "",
            "zerolinecolor": "white"
           },
           "yaxis": {
            "backgroundcolor": "#E5ECF6",
            "gridcolor": "white",
            "gridwidth": 2,
            "linecolor": "white",
            "showbackground": true,
            "ticks": "",
            "zerolinecolor": "white"
           },
           "zaxis": {
            "backgroundcolor": "#E5ECF6",
            "gridcolor": "white",
            "gridwidth": 2,
            "linecolor": "white",
            "showbackground": true,
            "ticks": "",
            "zerolinecolor": "white"
           }
          },
          "shapedefaults": {
           "line": {
            "color": "#2a3f5f"
           }
          },
          "ternary": {
           "aaxis": {
            "gridcolor": "white",
            "linecolor": "white",
            "ticks": ""
           },
           "baxis": {
            "gridcolor": "white",
            "linecolor": "white",
            "ticks": ""
           },
           "bgcolor": "#E5ECF6",
           "caxis": {
            "gridcolor": "white",
            "linecolor": "white",
            "ticks": ""
           }
          },
          "title": {
           "x": 0.05
          },
          "xaxis": {
           "automargin": true,
           "gridcolor": "white",
           "linecolor": "white",
           "ticks": "",
           "title": {
            "standoff": 15
           },
           "zerolinecolor": "white",
           "zerolinewidth": 2
          },
          "yaxis": {
           "automargin": true,
           "gridcolor": "white",
           "linecolor": "white",
           "ticks": "",
           "title": {
            "standoff": 15
           },
           "zerolinecolor": "white",
           "zerolinewidth": 2
          }
         }
        },
        "title": {
         "text": "Community Total Annual Savings"
        },
        "width": 1100,
        "xaxis": {
         "anchor": "y",
         "domain": [
          0,
          7.998400319936014e-05
         ],
         "tickangle": 45,
         "title": {
          "text": ""
         },
         "visible": false
        },
        "xaxis2": {
         "anchor": "y2",
         "domain": [
          0.12007998400319936,
          0.2000639872025595
         ],
         "tickangle": 45,
         "title": {
          "text": "Bill<br>Savings<br>usd"
         },
         "visible": true
        },
        "xaxis3": {
         "anchor": "y3",
         "domain": [
          0.32006398720255946,
          0.40004799040191963
         ],
         "tickangle": 45,
         "title": {
          "text": "Site Emission<br>Saving<br>kgCO2e"
         },
         "visible": true
        },
        "xaxis4": {
         "anchor": "y4",
         "domain": [
          0.5200479904019196,
          0.6000319936012798
         ],
         "tickangle": 45,
         "title": {
          "text": "Site Energy<br>Saving<br>mmbtu"
         },
         "visible": true
        },
        "xaxis5": {
         "anchor": "y5",
         "domain": [
          0.7200319936012798,
          0.80001599680064
         ],
         "tickangle": 45,
         "title": {
          "text": "Electricity<br>Saving<br>kwh"
         },
         "visible": true
        },
        "xaxis6": {
         "anchor": "y6",
         "domain": [
          0.9200159968006398,
          1
         ],
         "tickangle": 45,
         "title": {
          "text": "Gas, Propane,<br>Fuel Oil Saving<br>mmbtu"
         },
         "visible": true
        },
        "yaxis": {
         "anchor": "x",
         "domain": [
          0,
          1
         ],
         "visible": true
        },
        "yaxis2": {
         "anchor": "x2",
         "domain": [
          0,
          1
         ],
         "visible": false
        },
        "yaxis3": {
         "anchor": "x3",
         "domain": [
          0,
          1
         ],
         "visible": false
        },
        "yaxis4": {
         "anchor": "x4",
         "domain": [
          0,
          1
         ],
         "visible": false
        },
        "yaxis5": {
         "anchor": "x5",
         "domain": [
          0,
          1
         ],
         "visible": false
        },
        "yaxis6": {
         "anchor": "x6",
         "domain": [
          0,
          1
         ],
         "visible": false
        }
       }
      }
     },
     "metadata": {},
     "output_type": "display_data"
    }
   ],
   "source": [
    "# flavor 2 - site, electricity, and non-electricity\n",
    "def figure_total_savings(commnity_results):\n",
    "    results = commnity_results[[\n",
    "        'upgrade_name',\n",
    "        'saving_energy.total_mmbtu',\n",
    "        'saving_energy.electricity_kwh',\n",
    "        'saving_energy.natural_gas_therm',\n",
    "        'saving_energy.fuel_oil_mmbtu',\n",
    "        'saving_energy.propane_mmbtu',\n",
    "        'saving_cbill.total_usd',\n",
    "        'saving_emission.total_kgCO2e',\n",
    "        'sample_weight']]\n",
    "    results = results.loc[results['upgrade_name'] != 'baseline']\n",
    "    results['saving_energy.natural_gas_fuel_oil_propane_mmbtu'] = results['saving_energy.natural_gas_therm']*0.1 + results['saving_energy.fuel_oil_mmbtu']+ results['saving_energy.propane_mmbtu']\n",
    "    results['saving_energy.electricity_kwh'] = results['saving_energy.electricity_kwh']*results['sample_weight']\n",
    "    results['saving_energy.natural_gas_fuel_oil_propane_mmbtu'] = results['saving_energy.natural_gas_fuel_oil_propane_mmbtu']*results['sample_weight']\n",
    "    results['saving_cbill.total_usd'] = results['saving_cbill.total_usd']*results['sample_weight']\n",
    "    results['saving_emission.total_kgCO2e'] = results['saving_emission.total_kgCO2e']*results['sample_weight']\n",
    "    \n",
    "    agg_functions = {'upgrade_name': 'first',\n",
    "                     'saving_energy.electricity_kwh': 'sum',\n",
    "                     'saving_energy.natural_gas_fuel_oil_propane_mmbtu': 'sum', \n",
    "                      'saving_energy.total_mmbtu': 'sum', \n",
    "                     'saving_cbill.total_usd': 'sum',\n",
    "                     'saving_emission.total_kgCO2e': 'sum'}\n",
    "    results = results.groupby(results['upgrade_name']).aggregate(agg_functions)\n",
    "    results = results.sort_values('saving_cbill.total_usd')\n",
    "    \n",
    "    fig = make_subplots(rows=1, cols=6, horizontal_spacing=0.12, column_widths=[0.001, 1, 1, 1, 1, 1])\n",
    "    \n",
    "    fig.add_trace(go.Bar(\n",
    "        x=[0] * 176,\n",
    "        y=results['upgrade_name'],\n",
    "        text=None,\n",
    "        orientation='h'), row=1, col=1)\n",
    "    \n",
    "    fig.add_trace(go.Bar(\n",
    "        x=results['saving_cbill.total_usd'],\n",
    "        y=results['upgrade_name'],\n",
    "        text=results['saving_cbill.total_usd'],\n",
    "        orientation='h'), row=1, col=2)\n",
    "    \n",
    "    fig.add_trace(go.Bar(\n",
    "        x=results['saving_emission.total_kgCO2e'],\n",
    "        y=results['upgrade_name'],\n",
    "        text=results['saving_emission.total_kgCO2e'],\n",
    "        orientation='h'),row=1, col=3)\n",
    "\n",
    "    fig.add_trace(go.Bar(\n",
    "        x=results['saving_energy.total_mmbtu'],\n",
    "        y=results['upgrade_name'],\n",
    "        text=results['saving_energy.total_mmbtu'],\n",
    "        orientation='h'),row=1, col=4)\n",
    "    \n",
    "    fig.add_trace(go.Bar(\n",
    "        x=results['saving_energy.electricity_kwh'],\n",
    "        y=results['upgrade_name'],\n",
    "        text=results['saving_energy.electricity_kwh'],\n",
    "        orientation='h'),row=1, col=5)\n",
    "    \n",
    "    fig.add_trace(go.Bar(\n",
    "        x=results['saving_energy.natural_gas_fuel_oil_propane_mmbtu'],\n",
    "        y=results['upgrade_name'],\n",
    "        text=results['saving_energy.natural_gas_fuel_oil_propane_mmbtu'],\n",
    "        orientation='h'),row=1, col=6)\n",
    "\n",
    "    fig.update_traces(textfont_size=10, textangle=0, textposition=\"outside\", cliponaxis=False)\n",
    "    fig.update_traces(marker_color='rgb(0, 121, 61)', marker_line_color='rgb(0, 121, 61)')\n",
    "    fig.update_traces(marker_color='rgb(255, 255, 255)', marker_line_color='rgb(255, 255, 255)',row=1,col=1)\n",
    "    fig.update_traces(texttemplate='%{text:.3s}', textposition='outside',row=1,col=2)\n",
    "    fig.update_traces(texttemplate='%{text:.3s}', textposition='outside',row=1,col=3)\n",
    "    fig.update_traces(texttemplate='%{text:.3s}', textposition='outside',row=1,col=4)\n",
    "    fig.update_traces(texttemplate='%{text:.3s}', textposition='outside',row=1,col=5)\n",
    "    fig.update_traces(texttemplate='%{text:.3s}', textposition='outside',row=1,col=6)\n",
    "    fig.update_layout(xaxis_title=\"\", xaxis_visible=False, yaxis_visible=True,\n",
    "                      xaxis2_title=\"Bill<br>Savings<br>usd\", xaxis2_visible=True, yaxis2_visible=False,\n",
    "                      xaxis3_title=\"Site Emission<br>Saving<br>kgCO2e\", xaxis3_visible=True, yaxis3_visible=False,\n",
    "                      xaxis4_title=\"Site Energy<br>Saving<br>mmbtu\", xaxis4_visible=True, yaxis4_visible=False,\n",
    "                      xaxis5_title=\"Electricity<br>Saving<br>kwh\", xaxis5_visible=True, yaxis5_visible=False,\n",
    "                      xaxis6_title=\"Gas, Propane,<br>Fuel Oil Saving<br>mmbtu\", xaxis6_visible=True, yaxis6_visible=False,\n",
    "                     title='Community Total Annual Savings')\n",
    "    fig.update_layout(\n",
    "    autosize=False,\n",
    "    width=1100,\n",
    "    height=500,\n",
    "    font=dict(size=10),\n",
    "    plot_bgcolor='rgba(0, 0, 0, 0)',)\n",
    "    fig.update_xaxes(tickangle=45)\n",
    "    fig.update_layout(showlegend=False)\n",
    "    \n",
    "    fig.show()\n",
    "    fig.write_image(fig_dir / 'total_annual_savings_2.svg')\n",
    "\n",
    "figure_total_savings(community_results)"
   ]
  },
  {
   "cell_type": "code",
   "execution_count": 20,
   "id": "e7ef5df2",
   "metadata": {},
   "outputs": [
    {
     "data": {
      "application/vnd.plotly.v1+json": {
       "config": {
        "plotlyServerURL": "https://plot.ly"
       },
       "data": [
        {
         "cliponaxis": false,
         "marker": {
          "color": "rgb(255, 255, 255)",
          "line": {
           "color": "rgb(255, 255, 255)"
          }
         },
         "orientation": "h",
         "textangle": 0,
         "textfont": {
          "size": 10
         },
         "textposition": "outside",
         "type": "bar",
         "x": [
          0,
          0,
          0,
          0,
          0,
          0,
          0,
          0,
          0,
          0,
          0,
          0,
          0,
          0,
          0,
          0,
          0,
          0,
          0,
          0,
          0,
          0,
          0,
          0,
          0,
          0,
          0,
          0,
          0,
          0,
          0,
          0,
          0,
          0,
          0,
          0,
          0,
          0,
          0,
          0,
          0,
          0,
          0,
          0,
          0,
          0,
          0,
          0,
          0,
          0,
          0,
          0,
          0,
          0,
          0,
          0,
          0,
          0,
          0,
          0,
          0,
          0,
          0,
          0,
          0,
          0,
          0,
          0,
          0,
          0,
          0,
          0,
          0,
          0,
          0,
          0,
          0,
          0,
          0,
          0,
          0,
          0,
          0,
          0,
          0,
          0,
          0,
          0,
          0,
          0,
          0,
          0,
          0,
          0,
          0,
          0,
          0,
          0,
          0,
          0,
          0,
          0,
          0,
          0,
          0,
          0,
          0,
          0,
          0,
          0,
          0,
          0,
          0,
          0,
          0,
          0,
          0,
          0,
          0,
          0,
          0,
          0,
          0,
          0,
          0,
          0,
          0,
          0,
          0,
          0,
          0,
          0,
          0,
          0,
          0,
          0,
          0,
          0,
          0,
          0,
          0,
          0,
          0,
          0,
          0,
          0,
          0,
          0,
          0,
          0,
          0,
          0,
          0,
          0,
          0,
          0,
          0,
          0,
          0,
          0,
          0,
          0,
          0,
          0,
          0,
          0,
          0,
          0,
          0,
          0,
          0,
          0,
          0,
          0,
          0,
          0
         ],
         "xaxis": "x",
         "y": [
          "Mininum Efficiency Whole Home Electrification",
          "Mininum Efficiency Heat Pump with Electric Heat Backup",
          "High Efficiency Heat Pump with Electric Heat Backup",
          "Electric Clothes Dryer",
          "Electric Cooking",
          "Induction Cooking",
          "Heat Pump Clothes Dryer",
          "Mininum Efficiency Heat Pump with Existing Heat Backup",
          "Heat Pump Water Heater",
          "High Efficiency Whole Home Electrification",
          "Basic Enclosure",
          "Enhanced Enclosure",
          "Basic Enclosure + HPWH + High Efficiency HP/Electric Backup",
          "Basic Enclosure + High Efficiency Whole Home Electrification",
          "Enhanced Enclosure + HPWH + High Efficiency HP/Electric Backup",
          "Enhanced Enclosure + High Efficiency Whole Home Electrification"
         ],
         "yaxis": "y"
        },
        {
         "cliponaxis": false,
         "marker": {
          "color": "rgb(0, 121, 61)",
          "line": {
           "color": "rgb(0, 121, 61)"
          }
         },
         "orientation": "h",
         "text": [
          -21367390.671423443,
          -20327528.181549888,
          -395459.1508117569,
          -116662.26682610072,
          -83816.51093521103,
          20377.903633061545,
          506819.9685175932,
          1305499.7908440067,
          1921829.8104714649,
          4859006.152865477,
          8318934.913899742,
          11272565.211944839,
          13911975.442515345,
          14533608.21714293,
          15197241.655928282,
          15818874.430555867
         ],
         "textangle": 0,
         "textfont": {
          "size": 10
         },
         "textposition": "outside",
         "texttemplate": "%{text:.3s}",
         "type": "bar",
         "x": [
          -21367390.671423443,
          -20327528.181549888,
          -395459.1508117569,
          -116662.26682610072,
          -83816.51093521103,
          20377.903633061545,
          506819.9685175932,
          1305499.7908440067,
          1921829.8104714649,
          4859006.152865477,
          8318934.913899742,
          11272565.211944839,
          13911975.442515345,
          14533608.21714293,
          15197241.655928282,
          15818874.430555867
         ],
         "xaxis": "x2",
         "y": [
          "Mininum Efficiency Whole Home Electrification",
          "Mininum Efficiency Heat Pump with Electric Heat Backup",
          "High Efficiency Heat Pump with Electric Heat Backup",
          "Electric Clothes Dryer",
          "Electric Cooking",
          "Induction Cooking",
          "Heat Pump Clothes Dryer",
          "Mininum Efficiency Heat Pump with Existing Heat Backup",
          "Heat Pump Water Heater",
          "High Efficiency Whole Home Electrification",
          "Basic Enclosure",
          "Enhanced Enclosure",
          "Basic Enclosure + HPWH + High Efficiency HP/Electric Backup",
          "Basic Enclosure + High Efficiency Whole Home Electrification",
          "Enhanced Enclosure + HPWH + High Efficiency HP/Electric Backup",
          "Enhanced Enclosure + High Efficiency Whole Home Electrification"
         ],
         "yaxis": "y2"
        },
        {
         "cliponaxis": false,
         "marker": {
          "color": "rgb(0, 121, 61)",
          "line": {
           "color": "rgb(0, 121, 61)"
          }
         },
         "orientation": "h",
         "text": [
          230326391.65844133,
          205622565.21037492,
          236108114.61562437,
          507366.0023379695,
          1561327.9044513842,
          1701158.1002626037,
          1333014.305647918,
          62965505.80782202,
          15974956.45396246,
          269875258.9534309,
          59874749.554827884,
          80049730.7991554,
          282022130.0451105,
          285056302.451021,
          284055256.4995859,
          287089428.9054964
         ],
         "textangle": 0,
         "textfont": {
          "size": 10
         },
         "textposition": "outside",
         "texttemplate": "%{text:.3s}",
         "type": "bar",
         "x": [
          230326391.65844133,
          205622565.21037492,
          236108114.61562437,
          507366.0023379695,
          1561327.9044513842,
          1701158.1002626037,
          1333014.305647918,
          62965505.80782202,
          15974956.45396246,
          269875258.9534309,
          59874749.554827884,
          80049730.7991554,
          282022130.0451105,
          285056302.451021,
          284055256.4995859,
          287089428.9054964
         ],
         "xaxis": "x3",
         "y": [
          "Mininum Efficiency Whole Home Electrification",
          "Mininum Efficiency Heat Pump with Electric Heat Backup",
          "High Efficiency Heat Pump with Electric Heat Backup",
          "Electric Clothes Dryer",
          "Electric Cooking",
          "Induction Cooking",
          "Heat Pump Clothes Dryer",
          "Mininum Efficiency Heat Pump with Existing Heat Backup",
          "Heat Pump Water Heater",
          "High Efficiency Whole Home Electrification",
          "Basic Enclosure",
          "Enhanced Enclosure",
          "Basic Enclosure + HPWH + High Efficiency HP/Electric Backup",
          "Basic Enclosure + High Efficiency Whole Home Electrification",
          "Enhanced Enclosure + HPWH + High Efficiency HP/Electric Backup",
          "Enhanced Enclosure + High Efficiency Whole Home Electrification"
         ],
         "yaxis": "y3"
        },
        {
         "cliponaxis": false,
         "marker": {
          "color": "rgb(0, 121, 61)",
          "line": {
           "color": "rgb(0, 121, 61)"
          }
         },
         "orientation": "h",
         "text": [
          2240440.1620378606,
          1983524.0378412406,
          2794418.211867845,
          2801.7984414317593,
          15856.669821657038,
          20097.254946073608,
          28176.424961546327,
          767524.6556025974,
          232478.18009854818,
          3307808.7393468744,
          892594.6841050673,
          1196686.753324821,
          3653274.277821498,
          3701547.957729118,
          3705582.4014105294,
          3753856.0813181493
         ],
         "textangle": 0,
         "textfont": {
          "size": 10
         },
         "textposition": "outside",
         "texttemplate": "%{text:.3s}",
         "type": "bar",
         "x": [
          2240440.1620378606,
          1983524.0378412406,
          2794418.211867845,
          2801.7984414317593,
          15856.669821657038,
          20097.254946073608,
          28176.424961546327,
          767524.6556025974,
          232478.18009854818,
          3307808.7393468744,
          892594.6841050673,
          1196686.753324821,
          3653274.277821498,
          3701547.957729118,
          3705582.4014105294,
          3753856.0813181493
         ],
         "xaxis": "x4",
         "y": [
          "Mininum Efficiency Whole Home Electrification",
          "Mininum Efficiency Heat Pump with Electric Heat Backup",
          "High Efficiency Heat Pump with Electric Heat Backup",
          "Electric Clothes Dryer",
          "Electric Cooking",
          "Induction Cooking",
          "Heat Pump Clothes Dryer",
          "Mininum Efficiency Heat Pump with Existing Heat Backup",
          "Heat Pump Water Heater",
          "High Efficiency Whole Home Electrification",
          "Basic Enclosure",
          "Enhanced Enclosure",
          "Basic Enclosure + HPWH + High Efficiency HP/Electric Backup",
          "Basic Enclosure + High Efficiency Whole Home Electrification",
          "Enhanced Enclosure + HPWH + High Efficiency HP/Electric Backup",
          "Enhanced Enclosure + High Efficiency Whole Home Electrification"
         ],
         "yaxis": "y4"
        }
       ],
       "layout": {
        "autosize": false,
        "font": {
         "size": 10
        },
        "height": 500,
        "plot_bgcolor": "rgba(0, 0, 0, 0)",
        "showlegend": false,
        "template": {
         "data": {
          "bar": [
           {
            "error_x": {
             "color": "#2a3f5f"
            },
            "error_y": {
             "color": "#2a3f5f"
            },
            "marker": {
             "line": {
              "color": "#E5ECF6",
              "width": 0.5
             },
             "pattern": {
              "fillmode": "overlay",
              "size": 10,
              "solidity": 0.2
             }
            },
            "type": "bar"
           }
          ],
          "barpolar": [
           {
            "marker": {
             "line": {
              "color": "#E5ECF6",
              "width": 0.5
             },
             "pattern": {
              "fillmode": "overlay",
              "size": 10,
              "solidity": 0.2
             }
            },
            "type": "barpolar"
           }
          ],
          "carpet": [
           {
            "aaxis": {
             "endlinecolor": "#2a3f5f",
             "gridcolor": "white",
             "linecolor": "white",
             "minorgridcolor": "white",
             "startlinecolor": "#2a3f5f"
            },
            "baxis": {
             "endlinecolor": "#2a3f5f",
             "gridcolor": "white",
             "linecolor": "white",
             "minorgridcolor": "white",
             "startlinecolor": "#2a3f5f"
            },
            "type": "carpet"
           }
          ],
          "choropleth": [
           {
            "colorbar": {
             "outlinewidth": 0,
             "ticks": ""
            },
            "type": "choropleth"
           }
          ],
          "contour": [
           {
            "colorbar": {
             "outlinewidth": 0,
             "ticks": ""
            },
            "colorscale": [
             [
              0,
              "#0d0887"
             ],
             [
              0.1111111111111111,
              "#46039f"
             ],
             [
              0.2222222222222222,
              "#7201a8"
             ],
             [
              0.3333333333333333,
              "#9c179e"
             ],
             [
              0.4444444444444444,
              "#bd3786"
             ],
             [
              0.5555555555555556,
              "#d8576b"
             ],
             [
              0.6666666666666666,
              "#ed7953"
             ],
             [
              0.7777777777777778,
              "#fb9f3a"
             ],
             [
              0.8888888888888888,
              "#fdca26"
             ],
             [
              1,
              "#f0f921"
             ]
            ],
            "type": "contour"
           }
          ],
          "contourcarpet": [
           {
            "colorbar": {
             "outlinewidth": 0,
             "ticks": ""
            },
            "type": "contourcarpet"
           }
          ],
          "heatmap": [
           {
            "colorbar": {
             "outlinewidth": 0,
             "ticks": ""
            },
            "colorscale": [
             [
              0,
              "#0d0887"
             ],
             [
              0.1111111111111111,
              "#46039f"
             ],
             [
              0.2222222222222222,
              "#7201a8"
             ],
             [
              0.3333333333333333,
              "#9c179e"
             ],
             [
              0.4444444444444444,
              "#bd3786"
             ],
             [
              0.5555555555555556,
              "#d8576b"
             ],
             [
              0.6666666666666666,
              "#ed7953"
             ],
             [
              0.7777777777777778,
              "#fb9f3a"
             ],
             [
              0.8888888888888888,
              "#fdca26"
             ],
             [
              1,
              "#f0f921"
             ]
            ],
            "type": "heatmap"
           }
          ],
          "heatmapgl": [
           {
            "colorbar": {
             "outlinewidth": 0,
             "ticks": ""
            },
            "colorscale": [
             [
              0,
              "#0d0887"
             ],
             [
              0.1111111111111111,
              "#46039f"
             ],
             [
              0.2222222222222222,
              "#7201a8"
             ],
             [
              0.3333333333333333,
              "#9c179e"
             ],
             [
              0.4444444444444444,
              "#bd3786"
             ],
             [
              0.5555555555555556,
              "#d8576b"
             ],
             [
              0.6666666666666666,
              "#ed7953"
             ],
             [
              0.7777777777777778,
              "#fb9f3a"
             ],
             [
              0.8888888888888888,
              "#fdca26"
             ],
             [
              1,
              "#f0f921"
             ]
            ],
            "type": "heatmapgl"
           }
          ],
          "histogram": [
           {
            "marker": {
             "pattern": {
              "fillmode": "overlay",
              "size": 10,
              "solidity": 0.2
             }
            },
            "type": "histogram"
           }
          ],
          "histogram2d": [
           {
            "colorbar": {
             "outlinewidth": 0,
             "ticks": ""
            },
            "colorscale": [
             [
              0,
              "#0d0887"
             ],
             [
              0.1111111111111111,
              "#46039f"
             ],
             [
              0.2222222222222222,
              "#7201a8"
             ],
             [
              0.3333333333333333,
              "#9c179e"
             ],
             [
              0.4444444444444444,
              "#bd3786"
             ],
             [
              0.5555555555555556,
              "#d8576b"
             ],
             [
              0.6666666666666666,
              "#ed7953"
             ],
             [
              0.7777777777777778,
              "#fb9f3a"
             ],
             [
              0.8888888888888888,
              "#fdca26"
             ],
             [
              1,
              "#f0f921"
             ]
            ],
            "type": "histogram2d"
           }
          ],
          "histogram2dcontour": [
           {
            "colorbar": {
             "outlinewidth": 0,
             "ticks": ""
            },
            "colorscale": [
             [
              0,
              "#0d0887"
             ],
             [
              0.1111111111111111,
              "#46039f"
             ],
             [
              0.2222222222222222,
              "#7201a8"
             ],
             [
              0.3333333333333333,
              "#9c179e"
             ],
             [
              0.4444444444444444,
              "#bd3786"
             ],
             [
              0.5555555555555556,
              "#d8576b"
             ],
             [
              0.6666666666666666,
              "#ed7953"
             ],
             [
              0.7777777777777778,
              "#fb9f3a"
             ],
             [
              0.8888888888888888,
              "#fdca26"
             ],
             [
              1,
              "#f0f921"
             ]
            ],
            "type": "histogram2dcontour"
           }
          ],
          "mesh3d": [
           {
            "colorbar": {
             "outlinewidth": 0,
             "ticks": ""
            },
            "type": "mesh3d"
           }
          ],
          "parcoords": [
           {
            "line": {
             "colorbar": {
              "outlinewidth": 0,
              "ticks": ""
             }
            },
            "type": "parcoords"
           }
          ],
          "pie": [
           {
            "automargin": true,
            "type": "pie"
           }
          ],
          "scatter": [
           {
            "fillpattern": {
             "fillmode": "overlay",
             "size": 10,
             "solidity": 0.2
            },
            "type": "scatter"
           }
          ],
          "scatter3d": [
           {
            "line": {
             "colorbar": {
              "outlinewidth": 0,
              "ticks": ""
             }
            },
            "marker": {
             "colorbar": {
              "outlinewidth": 0,
              "ticks": ""
             }
            },
            "type": "scatter3d"
           }
          ],
          "scattercarpet": [
           {
            "marker": {
             "colorbar": {
              "outlinewidth": 0,
              "ticks": ""
             }
            },
            "type": "scattercarpet"
           }
          ],
          "scattergeo": [
           {
            "marker": {
             "colorbar": {
              "outlinewidth": 0,
              "ticks": ""
             }
            },
            "type": "scattergeo"
           }
          ],
          "scattergl": [
           {
            "marker": {
             "colorbar": {
              "outlinewidth": 0,
              "ticks": ""
             }
            },
            "type": "scattergl"
           }
          ],
          "scattermapbox": [
           {
            "marker": {
             "colorbar": {
              "outlinewidth": 0,
              "ticks": ""
             }
            },
            "type": "scattermapbox"
           }
          ],
          "scatterpolar": [
           {
            "marker": {
             "colorbar": {
              "outlinewidth": 0,
              "ticks": ""
             }
            },
            "type": "scatterpolar"
           }
          ],
          "scatterpolargl": [
           {
            "marker": {
             "colorbar": {
              "outlinewidth": 0,
              "ticks": ""
             }
            },
            "type": "scatterpolargl"
           }
          ],
          "scatterternary": [
           {
            "marker": {
             "colorbar": {
              "outlinewidth": 0,
              "ticks": ""
             }
            },
            "type": "scatterternary"
           }
          ],
          "surface": [
           {
            "colorbar": {
             "outlinewidth": 0,
             "ticks": ""
            },
            "colorscale": [
             [
              0,
              "#0d0887"
             ],
             [
              0.1111111111111111,
              "#46039f"
             ],
             [
              0.2222222222222222,
              "#7201a8"
             ],
             [
              0.3333333333333333,
              "#9c179e"
             ],
             [
              0.4444444444444444,
              "#bd3786"
             ],
             [
              0.5555555555555556,
              "#d8576b"
             ],
             [
              0.6666666666666666,
              "#ed7953"
             ],
             [
              0.7777777777777778,
              "#fb9f3a"
             ],
             [
              0.8888888888888888,
              "#fdca26"
             ],
             [
              1,
              "#f0f921"
             ]
            ],
            "type": "surface"
           }
          ],
          "table": [
           {
            "cells": {
             "fill": {
              "color": "#EBF0F8"
             },
             "line": {
              "color": "white"
             }
            },
            "header": {
             "fill": {
              "color": "#C8D4E3"
             },
             "line": {
              "color": "white"
             }
            },
            "type": "table"
           }
          ]
         },
         "layout": {
          "annotationdefaults": {
           "arrowcolor": "#2a3f5f",
           "arrowhead": 0,
           "arrowwidth": 1
          },
          "autotypenumbers": "strict",
          "coloraxis": {
           "colorbar": {
            "outlinewidth": 0,
            "ticks": ""
           }
          },
          "colorscale": {
           "diverging": [
            [
             0,
             "#8e0152"
            ],
            [
             0.1,
             "#c51b7d"
            ],
            [
             0.2,
             "#de77ae"
            ],
            [
             0.3,
             "#f1b6da"
            ],
            [
             0.4,
             "#fde0ef"
            ],
            [
             0.5,
             "#f7f7f7"
            ],
            [
             0.6,
             "#e6f5d0"
            ],
            [
             0.7,
             "#b8e186"
            ],
            [
             0.8,
             "#7fbc41"
            ],
            [
             0.9,
             "#4d9221"
            ],
            [
             1,
             "#276419"
            ]
           ],
           "sequential": [
            [
             0,
             "#0d0887"
            ],
            [
             0.1111111111111111,
             "#46039f"
            ],
            [
             0.2222222222222222,
             "#7201a8"
            ],
            [
             0.3333333333333333,
             "#9c179e"
            ],
            [
             0.4444444444444444,
             "#bd3786"
            ],
            [
             0.5555555555555556,
             "#d8576b"
            ],
            [
             0.6666666666666666,
             "#ed7953"
            ],
            [
             0.7777777777777778,
             "#fb9f3a"
            ],
            [
             0.8888888888888888,
             "#fdca26"
            ],
            [
             1,
             "#f0f921"
            ]
           ],
           "sequentialminus": [
            [
             0,
             "#0d0887"
            ],
            [
             0.1111111111111111,
             "#46039f"
            ],
            [
             0.2222222222222222,
             "#7201a8"
            ],
            [
             0.3333333333333333,
             "#9c179e"
            ],
            [
             0.4444444444444444,
             "#bd3786"
            ],
            [
             0.5555555555555556,
             "#d8576b"
            ],
            [
             0.6666666666666666,
             "#ed7953"
            ],
            [
             0.7777777777777778,
             "#fb9f3a"
            ],
            [
             0.8888888888888888,
             "#fdca26"
            ],
            [
             1,
             "#f0f921"
            ]
           ]
          },
          "colorway": [
           "#636efa",
           "#EF553B",
           "#00cc96",
           "#ab63fa",
           "#FFA15A",
           "#19d3f3",
           "#FF6692",
           "#B6E880",
           "#FF97FF",
           "#FECB52"
          ],
          "font": {
           "color": "#2a3f5f"
          },
          "geo": {
           "bgcolor": "white",
           "lakecolor": "white",
           "landcolor": "#E5ECF6",
           "showlakes": true,
           "showland": true,
           "subunitcolor": "white"
          },
          "hoverlabel": {
           "align": "left"
          },
          "hovermode": "closest",
          "mapbox": {
           "style": "light"
          },
          "paper_bgcolor": "white",
          "plot_bgcolor": "#E5ECF6",
          "polar": {
           "angularaxis": {
            "gridcolor": "white",
            "linecolor": "white",
            "ticks": ""
           },
           "bgcolor": "#E5ECF6",
           "radialaxis": {
            "gridcolor": "white",
            "linecolor": "white",
            "ticks": ""
           }
          },
          "scene": {
           "xaxis": {
            "backgroundcolor": "#E5ECF6",
            "gridcolor": "white",
            "gridwidth": 2,
            "linecolor": "white",
            "showbackground": true,
            "ticks": "",
            "zerolinecolor": "white"
           },
           "yaxis": {
            "backgroundcolor": "#E5ECF6",
            "gridcolor": "white",
            "gridwidth": 2,
            "linecolor": "white",
            "showbackground": true,
            "ticks": "",
            "zerolinecolor": "white"
           },
           "zaxis": {
            "backgroundcolor": "#E5ECF6",
            "gridcolor": "white",
            "gridwidth": 2,
            "linecolor": "white",
            "showbackground": true,
            "ticks": "",
            "zerolinecolor": "white"
           }
          },
          "shapedefaults": {
           "line": {
            "color": "#2a3f5f"
           }
          },
          "ternary": {
           "aaxis": {
            "gridcolor": "white",
            "linecolor": "white",
            "ticks": ""
           },
           "baxis": {
            "gridcolor": "white",
            "linecolor": "white",
            "ticks": ""
           },
           "bgcolor": "#E5ECF6",
           "caxis": {
            "gridcolor": "white",
            "linecolor": "white",
            "ticks": ""
           }
          },
          "title": {
           "x": 0.05
          },
          "xaxis": {
           "automargin": true,
           "gridcolor": "white",
           "linecolor": "white",
           "ticks": "",
           "title": {
            "standoff": 15
           },
           "zerolinecolor": "white",
           "zerolinewidth": 2
          },
          "yaxis": {
           "automargin": true,
           "gridcolor": "white",
           "linecolor": "white",
           "ticks": "",
           "title": {
            "standoff": 15
           },
           "zerolinecolor": "white",
           "zerolinewidth": 2
          }
         }
        },
        "title": {
         "text": "Total Annual Savings for the Whole Community"
        },
        "width": 850,
        "xaxis": {
         "anchor": "y",
         "domain": [
          0,
          0.004635761589403973
         ],
         "tickangle": 45,
         "title": {
          "text": ""
         },
         "visible": false
        },
        "xaxis2": {
         "anchor": "y2",
         "domain": [
          0.10463576158940398,
          0.33642384105960266
         ],
         "tickangle": 45,
         "title": {
          "text": "Bill Savings<br>usd"
         },
         "visible": true
        },
        "xaxis3": {
         "anchor": "y3",
         "domain": [
          0.43642384105960264,
          0.6682119205298013
         ],
         "tickangle": 45,
         "title": {
          "text": "Emission Savings<br>kgCO2e"
         },
         "visible": true
        },
        "xaxis4": {
         "anchor": "y4",
         "domain": [
          0.7682119205298014,
          1
         ],
         "tickangle": 45,
         "title": {
          "text": "Energy Savings<br>mmbtu"
         },
         "visible": true
        },
        "yaxis": {
         "anchor": "x",
         "domain": [
          0,
          1
         ],
         "visible": true
        },
        "yaxis2": {
         "anchor": "x2",
         "domain": [
          0,
          1
         ],
         "visible": false
        },
        "yaxis3": {
         "anchor": "x3",
         "domain": [
          0,
          1
         ],
         "visible": false
        },
        "yaxis4": {
         "anchor": "x4",
         "domain": [
          0,
          1
         ],
         "visible": false
        }
       }
      }
     },
     "metadata": {},
     "output_type": "display_data"
    }
   ],
   "source": [
    "# flavor 3 - site energy only\n",
    "def figure_total_savings(commnity_results):\n",
    "    results = commnity_results[[\n",
    "        'upgrade_name',\n",
    "        'saving_energy.total_mmbtu',\n",
    "        'saving_cbill.total_usd',\n",
    "        'saving_emission.total_kgCO2e',\n",
    "        'sample_weight']]\n",
    "    results = results.loc[results['upgrade_name'] != 'baseline']\n",
    "    results['saving_energy.total_mmbtu'] = results['saving_energy.total_mmbtu']*results['sample_weight']\n",
    "    results['saving_cbill.total_usd'] = results['saving_cbill.total_usd']*results['sample_weight']\n",
    "    results['saving_emission.total_kgCO2e'] = results['saving_emission.total_kgCO2e']*results['sample_weight']\n",
    "    \n",
    "    agg_functions = {'upgrade_name': 'first',\n",
    "                     'saving_energy.total_mmbtu': 'sum', \n",
    "                     'saving_cbill.total_usd': 'sum',\n",
    "                     'saving_emission.total_kgCO2e': 'sum'}\n",
    "    results = results.groupby(results['upgrade_name']).aggregate(agg_functions)\n",
    "    results = results.sort_values('saving_cbill.total_usd')\n",
    "    \n",
    "    fig = make_subplots(rows=1, cols=4, horizontal_spacing=0.1, column_widths=[0.02, 1, 1, 1])\n",
    "    \n",
    "    fig.add_trace(go.Bar(\n",
    "        x=[0] * 176,\n",
    "        y=results['upgrade_name'],\n",
    "        text=None,\n",
    "        orientation='h'), row=1, col=1)\n",
    "    \n",
    "    fig.add_trace(go.Bar(\n",
    "        x=results['saving_cbill.total_usd'],\n",
    "        y=results['upgrade_name'],\n",
    "        text=results['saving_cbill.total_usd'],\n",
    "        orientation='h'), row=1, col=2)\n",
    "    \n",
    "    fig.add_trace(go.Bar(\n",
    "        x=results['saving_emission.total_kgCO2e'],\n",
    "        y=results['upgrade_name'],\n",
    "        text=results['saving_emission.total_kgCO2e'],\n",
    "        orientation='h'),row=1, col=3)\n",
    "    \n",
    "    fig.add_trace(go.Bar(\n",
    "        x=results['saving_energy.total_mmbtu'],\n",
    "        y=results['upgrade_name'],\n",
    "        text=results['saving_energy.total_mmbtu'],\n",
    "        orientation='h'),row=1, col=4)\n",
    "\n",
    "    fig.update_traces(textfont_size=10, textangle=0, textposition=\"outside\", cliponaxis=False)\n",
    "    fig.update_traces(marker_color='rgb(0, 121, 61)', marker_line_color='rgb(0, 121, 61)')\n",
    "    fig.update_traces(marker_color='rgb(255, 255, 255)', marker_line_color='rgb(255, 255, 255)',row=1,col=1)\n",
    "    fig.update_traces(texttemplate='%{text:.3s}', textposition='outside',row=1,col=2)\n",
    "    fig.update_traces(texttemplate='%{text:.3s}', textposition='outside',row=1,col=3)\n",
    "    fig.update_traces(texttemplate='%{text:.3s}', textposition='outside',row=1,col=4)\n",
    "    fig.update_layout(xaxis_title=\"\", xaxis_visible=False, yaxis_visible=True,\n",
    "                      xaxis2_title=\"Bill Savings<br>usd\", xaxis2_visible=True, yaxis2_visible=False,\n",
    "                      xaxis3_title=\"Emission Savings<br>kgCO2e\", xaxis3_visible=True, yaxis3_visible=False,\n",
    "                      xaxis4_title=\"Energy Savings<br>mmbtu\", xaxis4_visible=True, yaxis4_visible=False,\n",
    "                     title='Total Annual Savings for the Whole Community')\n",
    "    fig.update_layout(\n",
    "    autosize=False,\n",
    "    width=850,\n",
    "    height=500,\n",
    "    font=dict(size=10),\n",
    "    plot_bgcolor='rgba(0, 0, 0, 0)',)\n",
    "    fig.update_xaxes(tickangle=45)\n",
    "    fig.update_layout(showlegend=False)\n",
    "    \n",
    "    fig.show()\n",
    "    fig.write_image(fig_dir / 'total_annual_savings_3.svg')\n",
    "\n",
    "figure_total_savings(community_results) "
   ]
  },
  {
   "cell_type": "code",
   "execution_count": 21,
   "id": "9ba37c55",
   "metadata": {},
   "outputs": [
    {
     "name": "stdout",
     "output_type": "stream",
     "text": [
      "sample_weight\n",
      "upgrade_name\n",
      "Mininum Efficiency Whole Home Electrification                      35144.658339\n",
      "Mininum Efficiency Heat Pump with Electric Heat Backup             39762.000000\n",
      "Electric Clothes Dryer                                              5914.743706\n",
      "High Efficiency Heat Pump with Electric Heat Backup                39762.000000\n",
      "Electric Cooking                                                   12722.230006\n",
      "Induction Cooking                                                  39329.804348\n",
      "Heat Pump Clothes Dryer                                            32436.993494\n",
      "Mininum Efficiency Heat Pump with Existing Heat Backup             37835.613214\n",
      "Heat Pump Water Heater                                             39724.904866\n",
      "High Efficiency Whole Home Electrification                         39762.000000\n",
      "Basic Enclosure                                                    34337.157808\n",
      "Enhanced Enclosure                                                 35606.210876\n",
      "Basic Enclosure + HPWH + High Efficiency HP/Electric Backup        39762.000000\n",
      "Basic Enclosure + High Efficiency Whole Home Electrification       39762.000000\n",
      "Enhanced Enclosure + HPWH + High Efficiency HP/Electric Backup     39762.000000\n",
      "Enhanced Enclosure + High Efficiency Whole Home Electrification    39762.000000\n",
      "Name: sample_weight, dtype: float64\n"
     ]
    },
    {
     "data": {
      "application/vnd.plotly.v1+json": {
       "config": {
        "plotlyServerURL": "https://plot.ly"
       },
       "data": [
        {
         "cliponaxis": false,
         "marker": {
          "color": "rgb(255, 255, 255)",
          "line": {
           "color": "rgb(255, 255, 255)"
          }
         },
         "orientation": "h",
         "textangle": 0,
         "textfont": {
          "size": 10
         },
         "textposition": "outside",
         "type": "bar",
         "x": [
          0,
          0,
          0,
          0,
          0,
          0,
          0,
          0,
          0,
          0,
          0,
          0,
          0,
          0,
          0,
          0,
          0,
          0,
          0,
          0,
          0,
          0,
          0,
          0,
          0,
          0,
          0,
          0,
          0,
          0,
          0,
          0,
          0,
          0,
          0,
          0,
          0,
          0,
          0,
          0,
          0,
          0,
          0,
          0,
          0,
          0,
          0,
          0,
          0,
          0,
          0,
          0,
          0,
          0,
          0,
          0,
          0,
          0,
          0,
          0,
          0,
          0,
          0,
          0,
          0,
          0,
          0,
          0,
          0,
          0,
          0,
          0,
          0,
          0,
          0,
          0,
          0,
          0,
          0,
          0,
          0,
          0,
          0,
          0,
          0,
          0,
          0,
          0,
          0,
          0,
          0,
          0,
          0,
          0,
          0,
          0,
          0,
          0,
          0,
          0,
          0,
          0,
          0,
          0,
          0,
          0,
          0,
          0,
          0,
          0,
          0,
          0,
          0,
          0,
          0,
          0,
          0,
          0,
          0,
          0,
          0,
          0,
          0,
          0,
          0,
          0,
          0,
          0,
          0,
          0,
          0,
          0,
          0,
          0,
          0,
          0,
          0,
          0,
          0,
          0,
          0,
          0,
          0,
          0,
          0,
          0,
          0,
          0,
          0,
          0,
          0,
          0,
          0,
          0,
          0,
          0,
          0,
          0,
          0,
          0,
          0,
          0,
          0,
          0,
          0,
          0,
          0,
          0,
          0,
          0,
          0,
          0,
          0,
          0,
          0,
          0
         ],
         "xaxis": "x",
         "y": [
          "Mininum Efficiency Whole Home Electrification",
          "Mininum Efficiency Heat Pump with Electric Heat Backup",
          "Electric Clothes Dryer",
          "High Efficiency Heat Pump with Electric Heat Backup",
          "Electric Cooking",
          "Induction Cooking",
          "Heat Pump Clothes Dryer",
          "Mininum Efficiency Heat Pump with Existing Heat Backup",
          "Heat Pump Water Heater",
          "High Efficiency Whole Home Electrification",
          "Basic Enclosure",
          "Enhanced Enclosure",
          "Basic Enclosure + HPWH + High Efficiency HP/Electric Backup",
          "Basic Enclosure + High Efficiency Whole Home Electrification",
          "Enhanced Enclosure + HPWH + High Efficiency HP/Electric Backup",
          "Enhanced Enclosure + High Efficiency Whole Home Electrification"
         ],
         "yaxis": "y"
        },
        {
         "cliponaxis": false,
         "marker": {
          "color": "rgb(0, 121, 61)",
          "line": {
           "color": "rgb(0, 121, 61)"
          }
         },
         "orientation": "h",
         "text": [
          -607.9840203605943,
          -511.2300231766483,
          -19.723976663517806,
          -9.94565542004318,
          -6.588193335441084,
          0.5181287822548731,
          15.624751677708579,
          34.50452311819599,
          48.378462250359966,
          122.20225725228804,
          242.27208787784213,
          316.5898570681857,
          349.8811790784001,
          365.5150197963616,
          382.20516211277805,
          397.83900283073956
         ],
         "textangle": 0,
         "textfont": {
          "size": 10
         },
         "textposition": "outside",
         "texttemplate": "%{text:.3s}",
         "type": "bar",
         "x": [
          -607.9840203605943,
          -511.2300231766483,
          -19.723976663517806,
          -9.94565542004318,
          -6.588193335441084,
          0.5181287822548731,
          15.624751677708579,
          34.50452311819599,
          48.378462250359966,
          122.20225725228804,
          242.27208787784213,
          316.5898570681857,
          349.8811790784001,
          365.5150197963616,
          382.20516211277805,
          397.83900283073956
         ],
         "xaxis": "x2",
         "y": [
          "Mininum Efficiency Whole Home Electrification",
          "Mininum Efficiency Heat Pump with Electric Heat Backup",
          "Electric Clothes Dryer",
          "High Efficiency Heat Pump with Electric Heat Backup",
          "Electric Cooking",
          "Induction Cooking",
          "Heat Pump Clothes Dryer",
          "Mininum Efficiency Heat Pump with Existing Heat Backup",
          "Heat Pump Water Heater",
          "High Efficiency Whole Home Electrification",
          "Basic Enclosure",
          "Enhanced Enclosure",
          "Basic Enclosure + HPWH + High Efficiency HP/Electric Backup",
          "Basic Enclosure + High Efficiency Whole Home Electrification",
          "Enhanced Enclosure + HPWH + High Efficiency HP/Electric Backup",
          "Enhanced Enclosure + High Efficiency Whole Home Electrification"
         ],
         "yaxis": "y2"
        },
        {
         "cliponaxis": false,
         "marker": {
          "color": "rgb(0, 121, 61)",
          "line": {
           "color": "rgb(0, 121, 61)"
          }
         },
         "orientation": "h",
         "text": [
          6553.667115888383,
          5171.333564970951,
          85.77987949517122,
          5938.03416869434,
          122.72438902277847,
          43.25366292742906,
          41.095495052221565,
          1664.186211313228,
          402.1395773695343,
          6787.265704779208,
          1743.730505881666,
          2248.195717262032,
          7092.755144235967,
          7169.063489035286,
          7143.887543372716,
          7220.195888172034
         ],
         "textangle": 0,
         "textfont": {
          "size": 10
         },
         "textposition": "outside",
         "texttemplate": "%{text:.3s}",
         "type": "bar",
         "x": [
          6553.667115888383,
          5171.333564970951,
          85.77987949517122,
          5938.03416869434,
          122.72438902277847,
          43.25366292742906,
          41.095495052221565,
          1664.186211313228,
          402.1395773695343,
          6787.265704779208,
          1743.730505881666,
          2248.195717262032,
          7092.755144235967,
          7169.063489035286,
          7143.887543372716,
          7220.195888172034
         ],
         "xaxis": "x3",
         "y": [
          "Mininum Efficiency Whole Home Electrification",
          "Mininum Efficiency Heat Pump with Electric Heat Backup",
          "Electric Clothes Dryer",
          "High Efficiency Heat Pump with Electric Heat Backup",
          "Electric Cooking",
          "Induction Cooking",
          "Heat Pump Clothes Dryer",
          "Mininum Efficiency Heat Pump with Existing Heat Backup",
          "Heat Pump Water Heater",
          "High Efficiency Whole Home Electrification",
          "Basic Enclosure",
          "Enhanced Enclosure",
          "Basic Enclosure + HPWH + High Efficiency HP/Electric Backup",
          "Basic Enclosure + High Efficiency Whole Home Electrification",
          "Enhanced Enclosure + HPWH + High Efficiency HP/Electric Backup",
          "Enhanced Enclosure + High Efficiency Whole Home Electrification"
         ],
         "yaxis": "y3"
        },
        {
         "cliponaxis": false,
         "marker": {
          "color": "rgb(0, 121, 61)",
          "line": {
           "color": "rgb(0, 121, 61)"
          }
         },
         "orientation": "h",
         "text": [
          63.74909496623046,
          49.88491619740558,
          0.473697353721544,
          70.27861304430978,
          1.2463750313119335,
          0.5109930059233682,
          0.8686509422220378,
          20.285772857844666,
          5.852202311905491,
          83.19020017471139,
          25.99500777262648,
          33.608932932944406,
          91.87853422417128,
          93.09259991270856,
          93.19406472034932,
          94.4081304088866
         ],
         "textangle": 0,
         "textfont": {
          "size": 10
         },
         "textposition": "outside",
         "texttemplate": "%{text:.3s}",
         "type": "bar",
         "x": [
          63.74909496623046,
          49.88491619740558,
          0.473697353721544,
          70.27861304430978,
          1.2463750313119335,
          0.5109930059233682,
          0.8686509422220378,
          20.285772857844666,
          5.852202311905491,
          83.19020017471139,
          25.99500777262648,
          33.608932932944406,
          91.87853422417128,
          93.09259991270856,
          93.19406472034932,
          94.4081304088866
         ],
         "xaxis": "x4",
         "y": [
          "Mininum Efficiency Whole Home Electrification",
          "Mininum Efficiency Heat Pump with Electric Heat Backup",
          "Electric Clothes Dryer",
          "High Efficiency Heat Pump with Electric Heat Backup",
          "Electric Cooking",
          "Induction Cooking",
          "Heat Pump Clothes Dryer",
          "Mininum Efficiency Heat Pump with Existing Heat Backup",
          "Heat Pump Water Heater",
          "High Efficiency Whole Home Electrification",
          "Basic Enclosure",
          "Enhanced Enclosure",
          "Basic Enclosure + HPWH + High Efficiency HP/Electric Backup",
          "Basic Enclosure + High Efficiency Whole Home Electrification",
          "Enhanced Enclosure + HPWH + High Efficiency HP/Electric Backup",
          "Enhanced Enclosure + High Efficiency Whole Home Electrification"
         ],
         "yaxis": "y4"
        }
       ],
       "layout": {
        "autosize": false,
        "font": {
         "size": 10
        },
        "height": 500,
        "plot_bgcolor": "rgba(0, 0, 0, 0)",
        "showlegend": false,
        "template": {
         "data": {
          "bar": [
           {
            "error_x": {
             "color": "#2a3f5f"
            },
            "error_y": {
             "color": "#2a3f5f"
            },
            "marker": {
             "line": {
              "color": "#E5ECF6",
              "width": 0.5
             },
             "pattern": {
              "fillmode": "overlay",
              "size": 10,
              "solidity": 0.2
             }
            },
            "type": "bar"
           }
          ],
          "barpolar": [
           {
            "marker": {
             "line": {
              "color": "#E5ECF6",
              "width": 0.5
             },
             "pattern": {
              "fillmode": "overlay",
              "size": 10,
              "solidity": 0.2
             }
            },
            "type": "barpolar"
           }
          ],
          "carpet": [
           {
            "aaxis": {
             "endlinecolor": "#2a3f5f",
             "gridcolor": "white",
             "linecolor": "white",
             "minorgridcolor": "white",
             "startlinecolor": "#2a3f5f"
            },
            "baxis": {
             "endlinecolor": "#2a3f5f",
             "gridcolor": "white",
             "linecolor": "white",
             "minorgridcolor": "white",
             "startlinecolor": "#2a3f5f"
            },
            "type": "carpet"
           }
          ],
          "choropleth": [
           {
            "colorbar": {
             "outlinewidth": 0,
             "ticks": ""
            },
            "type": "choropleth"
           }
          ],
          "contour": [
           {
            "colorbar": {
             "outlinewidth": 0,
             "ticks": ""
            },
            "colorscale": [
             [
              0,
              "#0d0887"
             ],
             [
              0.1111111111111111,
              "#46039f"
             ],
             [
              0.2222222222222222,
              "#7201a8"
             ],
             [
              0.3333333333333333,
              "#9c179e"
             ],
             [
              0.4444444444444444,
              "#bd3786"
             ],
             [
              0.5555555555555556,
              "#d8576b"
             ],
             [
              0.6666666666666666,
              "#ed7953"
             ],
             [
              0.7777777777777778,
              "#fb9f3a"
             ],
             [
              0.8888888888888888,
              "#fdca26"
             ],
             [
              1,
              "#f0f921"
             ]
            ],
            "type": "contour"
           }
          ],
          "contourcarpet": [
           {
            "colorbar": {
             "outlinewidth": 0,
             "ticks": ""
            },
            "type": "contourcarpet"
           }
          ],
          "heatmap": [
           {
            "colorbar": {
             "outlinewidth": 0,
             "ticks": ""
            },
            "colorscale": [
             [
              0,
              "#0d0887"
             ],
             [
              0.1111111111111111,
              "#46039f"
             ],
             [
              0.2222222222222222,
              "#7201a8"
             ],
             [
              0.3333333333333333,
              "#9c179e"
             ],
             [
              0.4444444444444444,
              "#bd3786"
             ],
             [
              0.5555555555555556,
              "#d8576b"
             ],
             [
              0.6666666666666666,
              "#ed7953"
             ],
             [
              0.7777777777777778,
              "#fb9f3a"
             ],
             [
              0.8888888888888888,
              "#fdca26"
             ],
             [
              1,
              "#f0f921"
             ]
            ],
            "type": "heatmap"
           }
          ],
          "heatmapgl": [
           {
            "colorbar": {
             "outlinewidth": 0,
             "ticks": ""
            },
            "colorscale": [
             [
              0,
              "#0d0887"
             ],
             [
              0.1111111111111111,
              "#46039f"
             ],
             [
              0.2222222222222222,
              "#7201a8"
             ],
             [
              0.3333333333333333,
              "#9c179e"
             ],
             [
              0.4444444444444444,
              "#bd3786"
             ],
             [
              0.5555555555555556,
              "#d8576b"
             ],
             [
              0.6666666666666666,
              "#ed7953"
             ],
             [
              0.7777777777777778,
              "#fb9f3a"
             ],
             [
              0.8888888888888888,
              "#fdca26"
             ],
             [
              1,
              "#f0f921"
             ]
            ],
            "type": "heatmapgl"
           }
          ],
          "histogram": [
           {
            "marker": {
             "pattern": {
              "fillmode": "overlay",
              "size": 10,
              "solidity": 0.2
             }
            },
            "type": "histogram"
           }
          ],
          "histogram2d": [
           {
            "colorbar": {
             "outlinewidth": 0,
             "ticks": ""
            },
            "colorscale": [
             [
              0,
              "#0d0887"
             ],
             [
              0.1111111111111111,
              "#46039f"
             ],
             [
              0.2222222222222222,
              "#7201a8"
             ],
             [
              0.3333333333333333,
              "#9c179e"
             ],
             [
              0.4444444444444444,
              "#bd3786"
             ],
             [
              0.5555555555555556,
              "#d8576b"
             ],
             [
              0.6666666666666666,
              "#ed7953"
             ],
             [
              0.7777777777777778,
              "#fb9f3a"
             ],
             [
              0.8888888888888888,
              "#fdca26"
             ],
             [
              1,
              "#f0f921"
             ]
            ],
            "type": "histogram2d"
           }
          ],
          "histogram2dcontour": [
           {
            "colorbar": {
             "outlinewidth": 0,
             "ticks": ""
            },
            "colorscale": [
             [
              0,
              "#0d0887"
             ],
             [
              0.1111111111111111,
              "#46039f"
             ],
             [
              0.2222222222222222,
              "#7201a8"
             ],
             [
              0.3333333333333333,
              "#9c179e"
             ],
             [
              0.4444444444444444,
              "#bd3786"
             ],
             [
              0.5555555555555556,
              "#d8576b"
             ],
             [
              0.6666666666666666,
              "#ed7953"
             ],
             [
              0.7777777777777778,
              "#fb9f3a"
             ],
             [
              0.8888888888888888,
              "#fdca26"
             ],
             [
              1,
              "#f0f921"
             ]
            ],
            "type": "histogram2dcontour"
           }
          ],
          "mesh3d": [
           {
            "colorbar": {
             "outlinewidth": 0,
             "ticks": ""
            },
            "type": "mesh3d"
           }
          ],
          "parcoords": [
           {
            "line": {
             "colorbar": {
              "outlinewidth": 0,
              "ticks": ""
             }
            },
            "type": "parcoords"
           }
          ],
          "pie": [
           {
            "automargin": true,
            "type": "pie"
           }
          ],
          "scatter": [
           {
            "fillpattern": {
             "fillmode": "overlay",
             "size": 10,
             "solidity": 0.2
            },
            "type": "scatter"
           }
          ],
          "scatter3d": [
           {
            "line": {
             "colorbar": {
              "outlinewidth": 0,
              "ticks": ""
             }
            },
            "marker": {
             "colorbar": {
              "outlinewidth": 0,
              "ticks": ""
             }
            },
            "type": "scatter3d"
           }
          ],
          "scattercarpet": [
           {
            "marker": {
             "colorbar": {
              "outlinewidth": 0,
              "ticks": ""
             }
            },
            "type": "scattercarpet"
           }
          ],
          "scattergeo": [
           {
            "marker": {
             "colorbar": {
              "outlinewidth": 0,
              "ticks": ""
             }
            },
            "type": "scattergeo"
           }
          ],
          "scattergl": [
           {
            "marker": {
             "colorbar": {
              "outlinewidth": 0,
              "ticks": ""
             }
            },
            "type": "scattergl"
           }
          ],
          "scattermapbox": [
           {
            "marker": {
             "colorbar": {
              "outlinewidth": 0,
              "ticks": ""
             }
            },
            "type": "scattermapbox"
           }
          ],
          "scatterpolar": [
           {
            "marker": {
             "colorbar": {
              "outlinewidth": 0,
              "ticks": ""
             }
            },
            "type": "scatterpolar"
           }
          ],
          "scatterpolargl": [
           {
            "marker": {
             "colorbar": {
              "outlinewidth": 0,
              "ticks": ""
             }
            },
            "type": "scatterpolargl"
           }
          ],
          "scatterternary": [
           {
            "marker": {
             "colorbar": {
              "outlinewidth": 0,
              "ticks": ""
             }
            },
            "type": "scatterternary"
           }
          ],
          "surface": [
           {
            "colorbar": {
             "outlinewidth": 0,
             "ticks": ""
            },
            "colorscale": [
             [
              0,
              "#0d0887"
             ],
             [
              0.1111111111111111,
              "#46039f"
             ],
             [
              0.2222222222222222,
              "#7201a8"
             ],
             [
              0.3333333333333333,
              "#9c179e"
             ],
             [
              0.4444444444444444,
              "#bd3786"
             ],
             [
              0.5555555555555556,
              "#d8576b"
             ],
             [
              0.6666666666666666,
              "#ed7953"
             ],
             [
              0.7777777777777778,
              "#fb9f3a"
             ],
             [
              0.8888888888888888,
              "#fdca26"
             ],
             [
              1,
              "#f0f921"
             ]
            ],
            "type": "surface"
           }
          ],
          "table": [
           {
            "cells": {
             "fill": {
              "color": "#EBF0F8"
             },
             "line": {
              "color": "white"
             }
            },
            "header": {
             "fill": {
              "color": "#C8D4E3"
             },
             "line": {
              "color": "white"
             }
            },
            "type": "table"
           }
          ]
         },
         "layout": {
          "annotationdefaults": {
           "arrowcolor": "#2a3f5f",
           "arrowhead": 0,
           "arrowwidth": 1
          },
          "autotypenumbers": "strict",
          "coloraxis": {
           "colorbar": {
            "outlinewidth": 0,
            "ticks": ""
           }
          },
          "colorscale": {
           "diverging": [
            [
             0,
             "#8e0152"
            ],
            [
             0.1,
             "#c51b7d"
            ],
            [
             0.2,
             "#de77ae"
            ],
            [
             0.3,
             "#f1b6da"
            ],
            [
             0.4,
             "#fde0ef"
            ],
            [
             0.5,
             "#f7f7f7"
            ],
            [
             0.6,
             "#e6f5d0"
            ],
            [
             0.7,
             "#b8e186"
            ],
            [
             0.8,
             "#7fbc41"
            ],
            [
             0.9,
             "#4d9221"
            ],
            [
             1,
             "#276419"
            ]
           ],
           "sequential": [
            [
             0,
             "#0d0887"
            ],
            [
             0.1111111111111111,
             "#46039f"
            ],
            [
             0.2222222222222222,
             "#7201a8"
            ],
            [
             0.3333333333333333,
             "#9c179e"
            ],
            [
             0.4444444444444444,
             "#bd3786"
            ],
            [
             0.5555555555555556,
             "#d8576b"
            ],
            [
             0.6666666666666666,
             "#ed7953"
            ],
            [
             0.7777777777777778,
             "#fb9f3a"
            ],
            [
             0.8888888888888888,
             "#fdca26"
            ],
            [
             1,
             "#f0f921"
            ]
           ],
           "sequentialminus": [
            [
             0,
             "#0d0887"
            ],
            [
             0.1111111111111111,
             "#46039f"
            ],
            [
             0.2222222222222222,
             "#7201a8"
            ],
            [
             0.3333333333333333,
             "#9c179e"
            ],
            [
             0.4444444444444444,
             "#bd3786"
            ],
            [
             0.5555555555555556,
             "#d8576b"
            ],
            [
             0.6666666666666666,
             "#ed7953"
            ],
            [
             0.7777777777777778,
             "#fb9f3a"
            ],
            [
             0.8888888888888888,
             "#fdca26"
            ],
            [
             1,
             "#f0f921"
            ]
           ]
          },
          "colorway": [
           "#636efa",
           "#EF553B",
           "#00cc96",
           "#ab63fa",
           "#FFA15A",
           "#19d3f3",
           "#FF6692",
           "#B6E880",
           "#FF97FF",
           "#FECB52"
          ],
          "font": {
           "color": "#2a3f5f"
          },
          "geo": {
           "bgcolor": "white",
           "lakecolor": "white",
           "landcolor": "#E5ECF6",
           "showlakes": true,
           "showland": true,
           "subunitcolor": "white"
          },
          "hoverlabel": {
           "align": "left"
          },
          "hovermode": "closest",
          "mapbox": {
           "style": "light"
          },
          "paper_bgcolor": "white",
          "plot_bgcolor": "#E5ECF6",
          "polar": {
           "angularaxis": {
            "gridcolor": "white",
            "linecolor": "white",
            "ticks": ""
           },
           "bgcolor": "#E5ECF6",
           "radialaxis": {
            "gridcolor": "white",
            "linecolor": "white",
            "ticks": ""
           }
          },
          "scene": {
           "xaxis": {
            "backgroundcolor": "#E5ECF6",
            "gridcolor": "white",
            "gridwidth": 2,
            "linecolor": "white",
            "showbackground": true,
            "ticks": "",
            "zerolinecolor": "white"
           },
           "yaxis": {
            "backgroundcolor": "#E5ECF6",
            "gridcolor": "white",
            "gridwidth": 2,
            "linecolor": "white",
            "showbackground": true,
            "ticks": "",
            "zerolinecolor": "white"
           },
           "zaxis": {
            "backgroundcolor": "#E5ECF6",
            "gridcolor": "white",
            "gridwidth": 2,
            "linecolor": "white",
            "showbackground": true,
            "ticks": "",
            "zerolinecolor": "white"
           }
          },
          "shapedefaults": {
           "line": {
            "color": "#2a3f5f"
           }
          },
          "ternary": {
           "aaxis": {
            "gridcolor": "white",
            "linecolor": "white",
            "ticks": ""
           },
           "baxis": {
            "gridcolor": "white",
            "linecolor": "white",
            "ticks": ""
           },
           "bgcolor": "#E5ECF6",
           "caxis": {
            "gridcolor": "white",
            "linecolor": "white",
            "ticks": ""
           }
          },
          "title": {
           "x": 0.05
          },
          "xaxis": {
           "automargin": true,
           "gridcolor": "white",
           "linecolor": "white",
           "ticks": "",
           "title": {
            "standoff": 15
           },
           "zerolinecolor": "white",
           "zerolinewidth": 2
          },
          "yaxis": {
           "automargin": true,
           "gridcolor": "white",
           "linecolor": "white",
           "ticks": "",
           "title": {
            "standoff": 15
           },
           "zerolinecolor": "white",
           "zerolinewidth": 2
          }
         }
        },
        "title": {
         "text": "Annual Savings Per Dwelling Unit"
        },
        "width": 850,
        "xaxis": {
         "anchor": "y",
         "domain": [
          0,
          0.004635761589403973
         ],
         "tickangle": 45,
         "title": {
          "text": ""
         },
         "visible": false
        },
        "xaxis2": {
         "anchor": "y2",
         "domain": [
          0.10463576158940398,
          0.33642384105960266
         ],
         "tickangle": 45,
         "title": {
          "text": "Bill Savings<br>usd"
         },
         "visible": true
        },
        "xaxis3": {
         "anchor": "y3",
         "domain": [
          0.43642384105960264,
          0.6682119205298013
         ],
         "tickangle": 45,
         "title": {
          "text": "Emission Savings<br>kgCO2e"
         },
         "visible": true
        },
        "xaxis4": {
         "anchor": "y4",
         "domain": [
          0.7682119205298014,
          1
         ],
         "tickangle": 45,
         "title": {
          "text": "Energy Savings<br>mmbtu"
         },
         "visible": true
        },
        "yaxis": {
         "anchor": "x",
         "domain": [
          0,
          1
         ],
         "visible": true
        },
        "yaxis2": {
         "anchor": "x2",
         "domain": [
          0,
          1
         ],
         "visible": false
        },
        "yaxis3": {
         "anchor": "x3",
         "domain": [
          0,
          1
         ],
         "visible": false
        },
        "yaxis4": {
         "anchor": "x4",
         "domain": [
          0,
          1
         ],
         "visible": false
        }
       }
      }
     },
     "metadata": {},
     "output_type": "display_data"
    }
   ],
   "source": [
    "def figure_mean_savings(commnity_results):\n",
    "    results = commnity_results[['upgrade_name',\n",
    "                       'saving_energy.total_mmbtu',\n",
    "                       'saving_cbill.total_usd',\n",
    "                       'saving_emission.total_kgCO2e',\n",
    "                                'sample_weight']]\n",
    "    results = results.loc[results['upgrade_name'] != 'baseline']\n",
    "    results['saving_energy.total_mmbtu'] = results['saving_energy.total_mmbtu']*results['sample_weight']\n",
    "    results['saving_cbill.total_usd'] = results['saving_cbill.total_usd']*results['sample_weight']\n",
    "    results['saving_emission.total_kgCO2e'] = results['saving_emission.total_kgCO2e']*results['sample_weight']\n",
    "    \n",
    "    agg_functions = {'upgrade_name': 'first',\n",
    "                     'saving_energy.total_mmbtu': 'sum', \n",
    "                     'saving_cbill.total_usd': 'sum',\n",
    "                     'saving_emission.total_kgCO2e': 'sum',\n",
    "                    'sample_weight': 'sum'}\n",
    "    results = results.groupby(results['upgrade_name']).aggregate(agg_functions)\n",
    "    results['saving_energy.total_mmbtu'] = results['saving_energy.total_mmbtu']/results['sample_weight']\n",
    "    results['saving_cbill.total_usd'] = results['saving_cbill.total_usd']/results['sample_weight']\n",
    "    results['saving_emission.total_kgCO2e'] = results['saving_emission.total_kgCO2e']/results['sample_weight']\n",
    "    results = results.sort_values('saving_cbill.total_usd')\n",
    "    \n",
    "    print('sample_weight')\n",
    "    print(results['sample_weight'])\n",
    "  \n",
    "    fig = make_subplots(rows=1, cols=4, horizontal_spacing=0.1, column_widths=[0.02, 1, 1, 1])\n",
    "    \n",
    "    fig.add_trace(go.Bar(\n",
    "        x=[0] * 176,\n",
    "        y=results['upgrade_name'],\n",
    "        text=None,\n",
    "        orientation='h'), row=1, col=1)\n",
    "    \n",
    "    fig.add_trace(go.Bar(\n",
    "        x=results['saving_cbill.total_usd'],\n",
    "        y=results['upgrade_name'],\n",
    "        text=results['saving_cbill.total_usd'],\n",
    "        orientation='h'), row=1, col=2)\n",
    "    \n",
    "    fig.add_trace(go.Bar(\n",
    "        x=results['saving_emission.total_kgCO2e'],\n",
    "        y=results['upgrade_name'],\n",
    "        text=results['saving_emission.total_kgCO2e'],\n",
    "        orientation='h'),row=1, col=3)\n",
    "    \n",
    "    fig.add_trace(go.Bar(\n",
    "        x=results['saving_energy.total_mmbtu'],\n",
    "        y=results['upgrade_name'],\n",
    "        text=results['saving_energy.total_mmbtu'],\n",
    "        orientation='h'),row=1, col=4)\n",
    "\n",
    "    fig.update_traces(textfont_size=10, textangle=0, textposition=\"outside\", cliponaxis=False)\n",
    "    fig.update_traces(marker_color='rgb(0, 121, 61)', marker_line_color='rgb(0, 121, 61)')\n",
    "    fig.update_traces(marker_color='rgb(255, 255, 255)', marker_line_color='rgb(255, 255, 255)',row=1,col=1)\n",
    "    fig.update_traces(texttemplate='%{text:.3s}', textposition='outside',row=1,col=2)\n",
    "    fig.update_traces(texttemplate='%{text:.3s}', textposition='outside',row=1,col=3)\n",
    "    fig.update_traces(texttemplate='%{text:.3s}', textposition='outside',row=1,col=4)\n",
    "    fig.update_layout(xaxis_title=\"\", xaxis_visible=False, yaxis_visible=True,\n",
    "                      xaxis2_title=\"Bill Savings<br>usd\", xaxis2_visible=True, yaxis2_visible=False,\n",
    "                      xaxis3_title=\"Emission Savings<br>kgCO2e\", xaxis3_visible=True, yaxis3_visible=False,\n",
    "                      xaxis4_title=\"Energy Savings<br>mmbtu\", xaxis4_visible=True, yaxis4_visible=False,\n",
    "                     title='Annual Savings Per Dwelling Unit')\n",
    "    fig.update_layout(\n",
    "    autosize=False,\n",
    "    width=850,\n",
    "    height=500,\n",
    "    font=dict(size=10),\n",
    "    plot_bgcolor='rgba(0, 0, 0, 0)',)\n",
    "    fig.update_xaxes(tickangle=45)\n",
    "    fig.update_layout(showlegend=False)\n",
    "    \n",
    "    fig.show()\n",
    "    fig.write_image(fig_dir / 'annual_saving_per_dwelling_unit.svg')\n",
    "\n",
    "figure_mean_savings(community_results) "
   ]
  },
  {
   "cell_type": "markdown",
   "id": "35e7b6ad",
   "metadata": {},
   "source": [
    "# 2. Results for Segments"
   ]
  },
  {
   "cell_type": "markdown",
   "id": "64b35201",
   "metadata": {},
   "source": [
    "## Number of buildings for each segment"
   ]
  },
  {
   "cell_type": "code",
   "execution_count": 22,
   "id": "a708c963",
   "metadata": {},
   "outputs": [
    {
     "name": "stdout",
     "output_type": "stream",
     "text": [
      "1228.1559782608697\n",
      "2821.2535657706135\n",
      "48.02173913043478\n",
      "305.9793706930451\n"
     ]
    }
   ],
   "source": [
    "community_results_baseline = community_results.loc[community_results['upgrade_name'] == 'baseline']\n",
    "segment1 = community_results_baseline.loc[community_results_baseline['segment'] == 'segment1']\n",
    "print(segment1['sample_weight'].sum())\n",
    "segment2 = community_results_baseline.loc[community_results_baseline['segment'] == 'segment2']\n",
    "print(segment2['sample_weight'].sum())\n",
    "segment3 = community_results_baseline.loc[community_results_baseline['segment'] == 'segment3']\n",
    "print(segment3['sample_weight'].sum())\n",
    "segment4 = community_results_baseline.loc[community_results_baseline['segment'] == 'segment4']\n",
    "print(segment4['sample_weight'].sum())"
   ]
  },
  {
   "cell_type": "code",
   "execution_count": 23,
   "id": "8c186688",
   "metadata": {},
   "outputs": [
    {
     "name": "stdout",
     "output_type": "stream",
     "text": [
      "Checking sample size in baseline:\n",
      "          n_samples  n_represented\n",
      "segment                           \n",
      "segment1         16    1228.155978\n",
      "segment2         62    2821.253566\n",
      "segment3          1      48.021739\n",
      "segment4         10     305.979371\n",
      "\n",
      "Checking sample size by upgrade:\n"
     ]
    },
    {
     "data": {
      "text/html": [
       "<div>\n",
       "<style scoped>\n",
       "    .dataframe tbody tr th:only-of-type {\n",
       "        vertical-align: middle;\n",
       "    }\n",
       "\n",
       "    .dataframe tbody tr th {\n",
       "        vertical-align: top;\n",
       "    }\n",
       "\n",
       "    .dataframe thead tr th {\n",
       "        text-align: left;\n",
       "    }\n",
       "\n",
       "    .dataframe thead tr:last-of-type th {\n",
       "        text-align: right;\n",
       "    }\n",
       "</style>\n",
       "<table border=\"1\" class=\"dataframe\">\n",
       "  <thead>\n",
       "    <tr>\n",
       "      <th></th>\n",
       "      <th colspan=\"17\" halign=\"left\">sample_weight</th>\n",
       "    </tr>\n",
       "    <tr>\n",
       "      <th>upgrade_name</th>\n",
       "      <th>Basic Enclosure</th>\n",
       "      <th>Basic Enclosure + HPWH + High Efficiency HP/Electric Backup</th>\n",
       "      <th>Basic Enclosure + High Efficiency Whole Home Electrification</th>\n",
       "      <th>Electric Clothes Dryer</th>\n",
       "      <th>Electric Cooking</th>\n",
       "      <th>Enhanced Enclosure</th>\n",
       "      <th>Enhanced Enclosure + HPWH + High Efficiency HP/Electric Backup</th>\n",
       "      <th>Enhanced Enclosure + High Efficiency Whole Home Electrification</th>\n",
       "      <th>Heat Pump Clothes Dryer</th>\n",
       "      <th>Heat Pump Water Heater</th>\n",
       "      <th>High Efficiency Heat Pump with Electric Heat Backup</th>\n",
       "      <th>High Efficiency Whole Home Electrification</th>\n",
       "      <th>Induction Cooking</th>\n",
       "      <th>Mininum Efficiency Heat Pump with Electric Heat Backup</th>\n",
       "      <th>Mininum Efficiency Heat Pump with Existing Heat Backup</th>\n",
       "      <th>Mininum Efficiency Whole Home Electrification</th>\n",
       "      <th>baseline</th>\n",
       "    </tr>\n",
       "    <tr>\n",
       "      <th>segment</th>\n",
       "      <th></th>\n",
       "      <th></th>\n",
       "      <th></th>\n",
       "      <th></th>\n",
       "      <th></th>\n",
       "      <th></th>\n",
       "      <th></th>\n",
       "      <th></th>\n",
       "      <th></th>\n",
       "      <th></th>\n",
       "      <th></th>\n",
       "      <th></th>\n",
       "      <th></th>\n",
       "      <th></th>\n",
       "      <th></th>\n",
       "      <th></th>\n",
       "      <th></th>\n",
       "    </tr>\n",
       "  </thead>\n",
       "  <tbody>\n",
       "    <tr>\n",
       "      <th>segment1</th>\n",
       "      <td>16.0</td>\n",
       "      <td>16.0</td>\n",
       "      <td>16.0</td>\n",
       "      <td>NaN</td>\n",
       "      <td>4.0</td>\n",
       "      <td>16.0</td>\n",
       "      <td>16.0</td>\n",
       "      <td>16.0</td>\n",
       "      <td>12.0</td>\n",
       "      <td>16.0</td>\n",
       "      <td>16.0</td>\n",
       "      <td>16.0</td>\n",
       "      <td>16.0</td>\n",
       "      <td>16.0</td>\n",
       "      <td>16.0</td>\n",
       "      <td>10.0</td>\n",
       "      <td>16.0</td>\n",
       "    </tr>\n",
       "    <tr>\n",
       "      <th>segment2</th>\n",
       "      <td>40.0</td>\n",
       "      <td>62.0</td>\n",
       "      <td>62.0</td>\n",
       "      <td>2.0</td>\n",
       "      <td>10.0</td>\n",
       "      <td>46.0</td>\n",
       "      <td>62.0</td>\n",
       "      <td>62.0</td>\n",
       "      <td>19.0</td>\n",
       "      <td>62.0</td>\n",
       "      <td>62.0</td>\n",
       "      <td>62.0</td>\n",
       "      <td>62.0</td>\n",
       "      <td>62.0</td>\n",
       "      <td>62.0</td>\n",
       "      <td>37.0</td>\n",
       "      <td>62.0</td>\n",
       "    </tr>\n",
       "    <tr>\n",
       "      <th>segment3</th>\n",
       "      <td>1.0</td>\n",
       "      <td>1.0</td>\n",
       "      <td>1.0</td>\n",
       "      <td>NaN</td>\n",
       "      <td>1.0</td>\n",
       "      <td>1.0</td>\n",
       "      <td>1.0</td>\n",
       "      <td>1.0</td>\n",
       "      <td>1.0</td>\n",
       "      <td>1.0</td>\n",
       "      <td>1.0</td>\n",
       "      <td>1.0</td>\n",
       "      <td>1.0</td>\n",
       "      <td>1.0</td>\n",
       "      <td>1.0</td>\n",
       "      <td>1.0</td>\n",
       "      <td>1.0</td>\n",
       "    </tr>\n",
       "    <tr>\n",
       "      <th>segment4</th>\n",
       "      <td>9.0</td>\n",
       "      <td>10.0</td>\n",
       "      <td>10.0</td>\n",
       "      <td>NaN</td>\n",
       "      <td>2.0</td>\n",
       "      <td>10.0</td>\n",
       "      <td>10.0</td>\n",
       "      <td>10.0</td>\n",
       "      <td>10.0</td>\n",
       "      <td>10.0</td>\n",
       "      <td>10.0</td>\n",
       "      <td>10.0</td>\n",
       "      <td>10.0</td>\n",
       "      <td>10.0</td>\n",
       "      <td>10.0</td>\n",
       "      <td>8.0</td>\n",
       "      <td>10.0</td>\n",
       "    </tr>\n",
       "  </tbody>\n",
       "</table>\n",
       "</div>"
      ],
      "text/plain": [
       "               sample_weight  \\\n",
       "upgrade_name Basic Enclosure   \n",
       "segment                        \n",
       "segment1                16.0   \n",
       "segment2                40.0   \n",
       "segment3                 1.0   \n",
       "segment4                 9.0   \n",
       "\n",
       "                                                                          \\\n",
       "upgrade_name Basic Enclosure + HPWH + High Efficiency HP/Electric Backup   \n",
       "segment                                                                    \n",
       "segment1                                                   16.0            \n",
       "segment2                                                   62.0            \n",
       "segment3                                                    1.0            \n",
       "segment4                                                   10.0            \n",
       "\n",
       "                                                                           \\\n",
       "upgrade_name Basic Enclosure + High Efficiency Whole Home Electrification   \n",
       "segment                                                                     \n",
       "segment1                                                   16.0             \n",
       "segment2                                                   62.0             \n",
       "segment3                                                    1.0             \n",
       "segment4                                                   10.0             \n",
       "\n",
       "                                                                         \\\n",
       "upgrade_name Electric Clothes Dryer Electric Cooking Enhanced Enclosure   \n",
       "segment                                                                   \n",
       "segment1                        NaN              4.0               16.0   \n",
       "segment2                        2.0             10.0               46.0   \n",
       "segment3                        NaN              1.0                1.0   \n",
       "segment4                        NaN              2.0               10.0   \n",
       "\n",
       "                                                                             \\\n",
       "upgrade_name Enhanced Enclosure + HPWH + High Efficiency HP/Electric Backup   \n",
       "segment                                                                       \n",
       "segment1                                                   16.0               \n",
       "segment2                                                   62.0               \n",
       "segment3                                                    1.0               \n",
       "segment4                                                   10.0               \n",
       "\n",
       "                                                                              \\\n",
       "upgrade_name Enhanced Enclosure + High Efficiency Whole Home Electrification   \n",
       "segment                                                                        \n",
       "segment1                                                   16.0                \n",
       "segment2                                                   62.0                \n",
       "segment3                                                    1.0                \n",
       "segment4                                                   10.0                \n",
       "\n",
       "                                                             \\\n",
       "upgrade_name Heat Pump Clothes Dryer Heat Pump Water Heater   \n",
       "segment                                                       \n",
       "segment1                        12.0                   16.0   \n",
       "segment2                        19.0                   62.0   \n",
       "segment3                         1.0                    1.0   \n",
       "segment4                        10.0                   10.0   \n",
       "\n",
       "                                                                  \\\n",
       "upgrade_name High Efficiency Heat Pump with Electric Heat Backup   \n",
       "segment                                                            \n",
       "segment1                                                   16.0    \n",
       "segment2                                                   62.0    \n",
       "segment3                                                    1.0    \n",
       "segment4                                                   10.0    \n",
       "\n",
       "                                                                           \\\n",
       "upgrade_name High Efficiency Whole Home Electrification Induction Cooking   \n",
       "segment                                                                     \n",
       "segment1                                           16.0              16.0   \n",
       "segment2                                           62.0              62.0   \n",
       "segment3                                            1.0               1.0   \n",
       "segment4                                           10.0              10.0   \n",
       "\n",
       "                                                                     \\\n",
       "upgrade_name Mininum Efficiency Heat Pump with Electric Heat Backup   \n",
       "segment                                                               \n",
       "segment1                                                   16.0       \n",
       "segment2                                                   62.0       \n",
       "segment3                                                    1.0       \n",
       "segment4                                                   10.0       \n",
       "\n",
       "                                                                     \\\n",
       "upgrade_name Mininum Efficiency Heat Pump with Existing Heat Backup   \n",
       "segment                                                               \n",
       "segment1                                                   16.0       \n",
       "segment2                                                   62.0       \n",
       "segment3                                                    1.0       \n",
       "segment4                                                   10.0       \n",
       "\n",
       "                                                                     \n",
       "upgrade_name Mininum Efficiency Whole Home Electrification baseline  \n",
       "segment                                                              \n",
       "segment1                                              10.0     16.0  \n",
       "segment2                                              37.0     62.0  \n",
       "segment3                                               1.0      1.0  \n",
       "segment4                                               8.0     10.0  "
      ]
     },
     "execution_count": 23,
     "metadata": {},
     "output_type": "execute_result"
    }
   ],
   "source": [
    "print(\"Checking sample size in baseline:\")\n",
    "print(pd.concat([\n",
    "    community_results.loc[community_results[\"upgrade_name\"]==\"baseline\"].groupby([\"segment\"])[\"sample_weight\"].count().rename(\"n_samples\"),\n",
    "    community_results.loc[community_results[\"upgrade_name\"]==\"baseline\"].groupby([\"segment\"])[\"sample_weight\"].sum().rename(\"n_represented\"),\n",
    "], axis=1))\n",
    "\n",
    "print(\"\\nChecking sample size by upgrade:\")\n",
    "community_results.groupby([\"segment\", \"upgrade_name\"])[\"sample_weight\"].count().to_frame().unstack()"
   ]
  },
  {
   "cell_type": "markdown",
   "id": "13fe6b47",
   "metadata": {},
   "source": [
    "## 2.1 Upgrade Cost Per Dwelling Unit "
   ]
  },
  {
   "cell_type": "code",
   "execution_count": 24,
   "id": "585a1a25",
   "metadata": {},
   "outputs": [
    {
     "name": "stdout",
     "output_type": "stream",
     "text": [
      "segment1: upgrade cost (usd) per dwelling unit\n",
      "upgrade_name\n",
      "Basic Enclosure                                                      828.2\n",
      "Electric Cooking                                                    1127.3\n",
      "Induction Cooking                                                   1953.1\n",
      "Enhanced Enclosure                                                  2458.7\n",
      "Heat Pump Clothes Dryer                                             2547.5\n",
      "Heat Pump Water Heater                                              2905.1\n",
      "High Efficiency Heat Pump with Electric Heat Backup                23617.9\n",
      "Basic Enclosure + HPWH + High Efficiency HP/Electric Backup        26149.0\n",
      "Enhanced Enclosure + HPWH + High Efficiency HP/Electric Backup     27683.6\n",
      "Basic Enclosure + High Efficiency Whole Home Electrification       30000.7\n",
      "High Efficiency Whole Home Electrification                         30374.7\n",
      "Enhanced Enclosure + High Efficiency Whole Home Electrification    31535.3\n",
      "Mininum Efficiency Heat Pump with Electric Heat Backup             36178.5\n",
      "Mininum Efficiency Heat Pump with Existing Heat Backup             36178.5\n",
      "Mininum Efficiency Whole Home Electrification                      50053.3\n",
      "Name: upgrade_cost_usd, dtype: float64\n",
      "segment2: upgrade cost (usd) per dwelling unit\n",
      "upgrade_name\n",
      "Basic Enclosure                                                      617.9\n",
      "Electric Cooking                                                    1127.3\n",
      "Electric Clothes Dryer                                              1266.0\n",
      "Enhanced Enclosure                                                  1360.8\n",
      "Induction Cooking                                                   1953.1\n",
      "Heat Pump Clothes Dryer                                             2547.5\n",
      "Heat Pump Water Heater                                              2933.1\n",
      "Mininum Efficiency Whole Home Electrification                      16844.3\n",
      "High Efficiency Heat Pump with Electric Heat Backup                18369.5\n",
      "Basic Enclosure + HPWH + High Efficiency HP/Electric Backup        21054.6\n",
      "Enhanced Enclosure + HPWH + High Efficiency HP/Electric Backup     21318.6\n",
      "Basic Enclosure + High Efficiency Whole Home Electrification       23751.0\n",
      "High Efficiency Whole Home Electrification                         23999.1\n",
      "Enhanced Enclosure + High Efficiency Whole Home Electrification    24015.1\n",
      "Mininum Efficiency Heat Pump with Electric Heat Backup             39451.9\n",
      "Mininum Efficiency Heat Pump with Existing Heat Backup             39451.9\n",
      "Name: upgrade_cost_usd, dtype: float64\n",
      "segment3: upgrade cost (usd) per dwelling unit\n",
      "upgrade_name\n",
      "Electric Cooking                                                    1127.3\n",
      "Induction Cooking                                                   1953.1\n",
      "Heat Pump Clothes Dryer                                             2547.5\n",
      "Heat Pump Water Heater                                              2905.1\n",
      "Basic Enclosure                                                     6090.6\n",
      "Enhanced Enclosure                                                  6090.6\n",
      "Mininum Efficiency Heat Pump with Electric Heat Backup             11448.3\n",
      "Mininum Efficiency Heat Pump with Existing Heat Backup             11448.3\n",
      "Mininum Efficiency Whole Home Electrification                      12575.6\n",
      "High Efficiency Heat Pump with Electric Heat Backup                26344.0\n",
      "High Efficiency Whole Home Electrification                         33749.7\n",
      "Basic Enclosure + HPWH + High Efficiency HP/Electric Backup        33956.4\n",
      "Enhanced Enclosure + HPWH + High Efficiency HP/Electric Backup     33956.4\n",
      "Basic Enclosure + High Efficiency Whole Home Electrification       38456.9\n",
      "Enhanced Enclosure + High Efficiency Whole Home Electrification    38456.9\n",
      "Name: upgrade_cost_usd, dtype: float64\n",
      "segment4: upgrade cost (usd) per dwelling unit\n",
      "upgrade_name\n",
      "Electric Cooking                                                    1127.3\n",
      "Induction Cooking                                                   1953.1\n",
      "Heat Pump Clothes Dryer                                             2547.5\n",
      "Basic Enclosure                                                     2831.9\n",
      "Heat Pump Water Heater                                              3745.6\n",
      "Enhanced Enclosure                                                  6336.6\n",
      "High Efficiency Heat Pump with Electric Heat Backup                34544.5\n",
      "Enhanced Enclosure + HPWH + High Efficiency HP/Electric Backup     38217.4\n",
      "Basic Enclosure + HPWH + High Efficiency HP/Electric Backup        38327.5\n",
      "Enhanced Enclosure + High Efficiency Whole Home Electrification    42717.9\n",
      "High Efficiency Whole Home Electrification                         42790.6\n",
      "Basic Enclosure + High Efficiency Whole Home Electrification       42828.1\n",
      "Mininum Efficiency Heat Pump with Electric Heat Backup             69122.1\n",
      "Mininum Efficiency Heat Pump with Existing Heat Backup             69122.1\n",
      "Mininum Efficiency Whole Home Electrification                      76145.9\n",
      "Name: upgrade_cost_usd, dtype: float64\n"
     ]
    }
   ],
   "source": [
    "def figure_mean_upgrade_cost(commnity_results):\n",
    "    results = commnity_results[['upgrade_name',\n",
    "                       'upgrade_cost_usd',\n",
    "                                'sample_weight',\n",
    "                                'segment']]\n",
    "    results = results.loc[results['upgrade_name'] != 'baseline']\n",
    "    results['upgrade_cost_usd'] = results['upgrade_cost_usd']*results['sample_weight']\n",
    "    \n",
    "    segment1 = results.loc[results['segment'] == 'segment1']\n",
    "    segment2 = results.loc[results['segment'] == 'segment2']\n",
    "    segment3 = results.loc[results['segment'] == 'segment3']\n",
    "    segment4 = results.loc[results['segment'] == 'segment4']\n",
    "    \n",
    "    agg_functions = {'upgrade_name': 'first',\n",
    "                     'segment': 'first',\n",
    "                     'upgrade_cost_usd': 'sum',\n",
    "                    'sample_weight': 'sum'}\n",
    "    \n",
    "    segment1 = segment1.groupby(segment1['upgrade_name']).aggregate(agg_functions)\n",
    "    segment2 = segment2.groupby(segment2['upgrade_name']).aggregate(agg_functions)\n",
    "    segment3 = segment3.groupby(segment3['upgrade_name']).aggregate(agg_functions)\n",
    "    segment4 = segment4.groupby(segment4['upgrade_name']).aggregate(agg_functions)\n",
    "    \n",
    "    segment1['upgrade_cost_usd'] = segment1['upgrade_cost_usd']/segment1['sample_weight']\n",
    "    segment2['upgrade_cost_usd'] = segment2['upgrade_cost_usd']/segment2['sample_weight']\n",
    "    segment3['upgrade_cost_usd'] = segment3['upgrade_cost_usd']/segment3['sample_weight']\n",
    "    segment4['upgrade_cost_usd'] = segment4['upgrade_cost_usd']/segment4['sample_weight']\n",
    "    \n",
    "    segment1 = segment1.sort_values('upgrade_cost_usd')\n",
    "    segment2 = segment2.sort_values('upgrade_cost_usd')\n",
    "    segment3 = segment3.sort_values('upgrade_cost_usd')\n",
    "    segment4 = segment4.sort_values('upgrade_cost_usd')\n",
    "    \n",
    "    segment1['upgrade_cost_usd'] = segment1['upgrade_cost_usd'].round(1)\n",
    "    segment2['upgrade_cost_usd'] = segment2['upgrade_cost_usd'].round(1)\n",
    "    segment3['upgrade_cost_usd'] = segment3['upgrade_cost_usd'].round(1)\n",
    "    segment4['upgrade_cost_usd'] = segment4['upgrade_cost_usd'].round(1)\n",
    "    \n",
    "    print('segment1: upgrade cost (usd) per dwelling unit')\n",
    "    print(segment1['upgrade_cost_usd'])\n",
    "    print('segment2: upgrade cost (usd) per dwelling unit')\n",
    "    print(segment2['upgrade_cost_usd'])\n",
    "    print('segment3: upgrade cost (usd) per dwelling unit')\n",
    "    print(segment3['upgrade_cost_usd'])\n",
    "    print('segment4: upgrade cost (usd) per dwelling unit')\n",
    "    print(segment4['upgrade_cost_usd'])\n",
    "\n",
    "figure_mean_upgrade_cost(community_results) "
   ]
  },
  {
   "cell_type": "markdown",
   "id": "660e0aa3",
   "metadata": {},
   "source": [
    " ## 2.2 Annual Savings Per Dollar Invested"
   ]
  },
  {
   "cell_type": "code",
   "execution_count": 25,
   "id": "6e31ced4",
   "metadata": {},
   "outputs": [
    {
     "name": "stdout",
     "output_type": "stream",
     "text": [
      "saving_emission.total_kgCO2e\n",
      "segment1\n",
      "upgrade_name\n",
      "Basic Enclosure                                                    0.86086\n",
      "Enhanced Enclosure                                                 0.37614\n",
      "Basic Enclosure + HPWH + High Efficiency HP/Electric Backup        0.13871\n",
      "Enhanced Enclosure + HPWH + High Efficiency HP/Electric Backup     0.13481\n",
      "Basic Enclosure + High Efficiency Whole Home Electrification       0.12310\n",
      "Enhanced Enclosure + High Efficiency Whole Home Electrification    0.12044\n",
      "High Efficiency Heat Pump with Electric Heat Backup                0.11751\n",
      "Electric Cooking                                                   0.11674\n",
      "High Efficiency Whole Home Electrification                         0.11165\n",
      "Heat Pump Water Heater                                             0.09882\n",
      "Mininum Efficiency Whole Home Electrification                      0.07668\n",
      "Mininum Efficiency Heat Pump with Electric Heat Backup             0.06279\n",
      "Mininum Efficiency Heat Pump with Existing Heat Backup             0.04161\n",
      "Induction Cooking                                                  0.02430\n",
      "Heat Pump Clothes Dryer                                            0.00970\n",
      "Name: saving_emission.total_kgCO2e, dtype: float64\n",
      "segment2\n",
      "upgrade_name\n",
      "Basic Enclosure                                                    0.46048\n",
      "Enhanced Enclosure                                                 0.23707\n",
      "Heat Pump Water Heater                                             0.13423\n",
      "Electric Cooking                                                   0.11721\n",
      "Mininum Efficiency Whole Home Electrification                      0.09864\n",
      "Basic Enclosure + HPWH + High Efficiency HP/Electric Backup        0.07922\n",
      "Enhanced Enclosure + HPWH + High Efficiency HP/Electric Backup     0.07883\n",
      "Basic Enclosure + High Efficiency Whole Home Electrification       0.07168\n",
      "Enhanced Enclosure + High Efficiency Whole Home Electrification    0.07142\n",
      "High Efficiency Whole Home Electrification                         0.06850\n",
      "Electric Clothes Dryer                                             0.06384\n",
      "High Efficiency Heat Pump with Electric Heat Backup                0.05541\n",
      "Mininum Efficiency Heat Pump with Electric Heat Backup             0.02000\n",
      "Induction Cooking                                                  0.01323\n",
      "Heat Pump Clothes Dryer                                            0.01176\n",
      "Mininum Efficiency Heat Pump with Existing Heat Backup             0.00876\n",
      "Name: saving_emission.total_kgCO2e, dtype: float64\n",
      "segment3\n",
      "upgrade_name\n",
      "Mininum Efficiency Heat Pump with Electric Heat Backup             1.11756\n",
      "Mininum Efficiency Whole Home Electrification                      1.02711\n",
      "Basic Enclosure                                                    0.81784\n",
      "Enhanced Enclosure                                                 0.81784\n",
      "High Efficiency Heat Pump with Electric Heat Backup                0.55710\n",
      "Basic Enclosure + HPWH + High Efficiency HP/Electric Backup        0.47179\n",
      "Enhanced Enclosure + HPWH + High Efficiency HP/Electric Backup     0.47179\n",
      "High Efficiency Whole Home Electrification                         0.44461\n",
      "Basic Enclosure + High Efficiency Whole Home Electrification       0.42090\n",
      "Enhanced Enclosure + High Efficiency Whole Home Electrification    0.42090\n",
      "Electric Cooking                                                   0.12445\n",
      "Induction Cooking                                                  0.07407\n",
      "Mininum Efficiency Heat Pump with Existing Heat Backup             0.04956\n",
      "Heat Pump Clothes Dryer                                            0.00851\n",
      "Heat Pump Water Heater                                             0.00508\n",
      "Name: saving_emission.total_kgCO2e, dtype: float64\n",
      "segment4\n",
      "upgrade_name\n",
      "Basic Enclosure                                                    0.65687\n",
      "Enhanced Enclosure                                                 0.46282\n",
      "High Efficiency Heat Pump with Electric Heat Backup                0.27940\n",
      "Enhanced Enclosure + HPWH + High Efficiency HP/Electric Backup     0.27507\n",
      "Basic Enclosure + HPWH + High Efficiency HP/Electric Backup        0.27407\n",
      "Enhanced Enclosure + High Efficiency Whole Home Electrification    0.24736\n",
      "Basic Enclosure + High Efficiency Whole Home Electrification       0.24654\n",
      "High Efficiency Whole Home Electrification                         0.23929\n",
      "Electric Cooking                                                   0.14127\n",
      "Mininum Efficiency Whole Home Electrification                      0.13289\n",
      "Mininum Efficiency Heat Pump with Electric Heat Backup             0.12802\n",
      "Heat Pump Water Heater                                             0.08024\n",
      "Mininum Efficiency Heat Pump with Existing Heat Backup             0.07114\n",
      "Induction Cooking                                                  0.01742\n",
      "Heat Pump Clothes Dryer                                            0.00806\n",
      "Name: saving_emission.total_kgCO2e, dtype: float64\n"
     ]
    }
   ],
   "source": [
    "def figure_most_impact_package_savings_per_dollar(indicator, commnity_results):\n",
    "    \n",
    "    results = commnity_results[['upgrade_name', indicator, 'upgrade_cost_usd', 'sample_weight', 'segment']]\n",
    "    results = results.loc[results['upgrade_name'] != 'baseline']\n",
    "    results[indicator] = results[indicator]*results['sample_weight']\n",
    "    results['upgrade_cost_usd'] = results['upgrade_cost_usd']*results['sample_weight']\n",
    "    \n",
    "    segment1 = results.loc[results['segment'] == 'segment1']\n",
    "    segment2 = results.loc[results['segment'] == 'segment2']\n",
    "    segment3 = results.loc[results['segment'] == 'segment3']\n",
    "    segment4 = results.loc[results['segment'] == 'segment4']\n",
    "    \n",
    "    agg_functions = {'upgrade_name': 'first',\n",
    "                     indicator: 'sum',\n",
    "                     'upgrade_cost_usd': 'sum',\n",
    "                     'sample_weight': 'sum'}\n",
    "    \n",
    "    segment1_agg = segment1.groupby(segment1['upgrade_name']).aggregate(agg_functions)\n",
    "    segment2_agg = segment2.groupby(segment2['upgrade_name']).aggregate(agg_functions)\n",
    "    segment3_agg = segment3.groupby(segment3['upgrade_name']).aggregate(agg_functions)\n",
    "    segment4_agg = segment4.groupby(segment4['upgrade_name']).aggregate(agg_functions)\n",
    "    \n",
    "    segment1_agg[indicator] = segment1_agg[indicator]/segment1_agg['upgrade_cost_usd']\n",
    "    segment2_agg[indicator] = segment2_agg[indicator]/segment2_agg['upgrade_cost_usd']\n",
    "    segment3_agg[indicator] = segment3_agg[indicator]/segment3_agg['upgrade_cost_usd']\n",
    "    segment4_agg[indicator] = segment4_agg[indicator]/segment4_agg['upgrade_cost_usd']\n",
    "    \n",
    "    segment1_agg = segment1_agg.sort_values([indicator], ascending=False)\n",
    "    segment2_agg = segment2_agg.sort_values([indicator], ascending=False)\n",
    "    segment3_agg = segment3_agg.sort_values([indicator], ascending=False)\n",
    "    segment4_agg = segment4_agg.sort_values([indicator], ascending=False)\n",
    "    \n",
    "    segment1_agg[indicator] = segment1_agg[indicator].round(5)\n",
    "    segment2_agg[indicator] = segment2_agg[indicator].round(5)\n",
    "    segment3_agg[indicator] = segment3_agg[indicator].round(5)\n",
    "    segment4_agg[indicator] = segment4_agg[indicator].round(5)\n",
    "\n",
    "    print (indicator)\n",
    "    print('segment1')\n",
    "    print(segment1_agg[indicator])\n",
    "    print('segment2')\n",
    "    print(segment2_agg[indicator])\n",
    "    print('segment3')\n",
    "    print(segment3_agg[indicator])\n",
    "    print('segment4')\n",
    "    print(segment4_agg[indicator])\n",
    "    \n",
    "    #print (indicator)\n",
    "    #print('segment1')\n",
    "    #print (segment1_agg.loc[segment1_agg[indicator].idxmax()]['upgrade_name'])\n",
    "    #print (segment1_agg.loc[segment1_agg[indicator].idxmax()][indicator])\n",
    "    #print('segment2')\n",
    "    #print (segment2_agg.loc[segment2_agg[indicator].idxmax()]['upgrade_name'])\n",
    "    #print (segment2_agg.loc[segment2_agg[indicator].idxmax()][indicator])\n",
    "    #print('segment3')\n",
    "    #print (segment3_agg.loc[segment3_agg[indicator].idxmax()]['upgrade_name'])\n",
    "    #print (segment3_agg.loc[segment3_agg[indicator].idxmax()][indicator])\n",
    "    #print('segment4')\n",
    "    #print (segment4_agg.loc[segment4_agg[indicator].idxmax()]['upgrade_name'])\n",
    "    #print (segment4_agg.loc[segment4_agg[indicator].idxmax()][indicator])\n",
    "    \n",
    "indicator ='saving_emission.total_kgCO2e' # 'saving_cbill.total_usd','saving_energy.total_mmbtu', 'saving_emission.total_kgCO2e'\n",
    "figure_most_impact_package_savings_per_dollar(indicator, community_results) "
   ]
  },
  {
   "cell_type": "markdown",
   "id": "961cd050",
   "metadata": {},
   "source": [
    "## 2.3 Annual Total Savings"
   ]
  },
  {
   "cell_type": "code",
   "execution_count": 26,
   "id": "a5596818",
   "metadata": {},
   "outputs": [
    {
     "name": "stdout",
     "output_type": "stream",
     "text": [
      "saving_emission.total_kgCO2e\n",
      "segment1\n",
      "upgrade_name\n",
      "Enhanced Enclosure + High Efficiency Whole Home Electrification    4664583.0\n",
      "Enhanced Enclosure + HPWH + High Efficiency HP/Electric Backup     4583676.3\n",
      "Basic Enclosure + High Efficiency Whole Home Electrification       4535551.1\n",
      "Basic Enclosure + HPWH + High Efficiency HP/Electric Backup        4454644.4\n",
      "High Efficiency Whole Home Electrification                         4165074.2\n",
      "High Efficiency Heat Pump with Electric Heat Backup                3408567.7\n",
      "Mininum Efficiency Whole Home Electrification                      3276294.6\n",
      "Mininum Efficiency Heat Pump with Electric Heat Backup             2789868.9\n",
      "Mininum Efficiency Heat Pump with Existing Heat Backup             1848740.6\n",
      "Enhanced Enclosure                                                 1135807.3\n",
      "Basic Enclosure                                                     875600.1\n",
      "Heat Pump Water Heater                                              352573.1\n",
      "Induction Cooking                                                    58290.2\n",
      "Electric Cooking                                                     53492.9\n",
      "Heat Pump Clothes Dryer                                              22616.6\n",
      "Name: saving_emission.total_kgCO2e, dtype: float64\n",
      "segment2\n",
      "upgrade_name\n",
      "Enhanced Enclosure + High Efficiency Whole Home Electrification    4838923.4\n",
      "Basic Enclosure + High Efficiency Whole Home Electrification       4803318.4\n",
      "Enhanced Enclosure + HPWH + High Efficiency HP/Electric Backup     4741382.5\n",
      "Basic Enclosure + HPWH + High Efficiency HP/Electric Backup        4705777.5\n",
      "High Efficiency Whole Home Electrification                         4638039.4\n",
      "Mininum Efficiency Whole Home Electrification                      3205537.9\n",
      "High Efficiency Heat Pump with Electric Heat Backup                2871699.1\n",
      "Mininum Efficiency Heat Pump with Electric Heat Backup             2225520.7\n",
      "Heat Pump Water Heater                                             1110718.5\n",
      "Mininum Efficiency Heat Pump with Existing Heat Backup              975290.1\n",
      "Enhanced Enclosure                                                  649222.7\n",
      "Basic Enclosure                                                     496860.9\n",
      "Induction Cooking                                                    72881.3\n",
      "Electric Cooking                                                     61237.0\n",
      "Heat Pump Clothes Dryer                                              24659.6\n",
      "Electric Clothes Dryer                                                5987.7\n",
      "Name: saving_emission.total_kgCO2e, dtype: float64\n",
      "segment3\n",
      "upgrade_name\n",
      "Basic Enclosure + High Efficiency Whole Home Electrification       777309.5\n",
      "Enhanced Enclosure + High Efficiency Whole Home Electrification    777309.5\n",
      "Basic Enclosure + HPWH + High Efficiency HP/Electric Backup        769321.3\n",
      "Enhanced Enclosure + HPWH + High Efficiency HP/Electric Backup     769321.3\n",
      "High Efficiency Whole Home Electrification                         720583.8\n",
      "High Efficiency Heat Pump with Electric Heat Backup                704781.8\n",
      "Mininum Efficiency Whole Home Electrification                      620274.5\n",
      "Mininum Efficiency Heat Pump with Electric Heat Backup             614395.8\n",
      "Basic Enclosure                                                    239202.4\n",
      "Enhanced Enclosure                                                 239202.4\n",
      "Mininum Efficiency Heat Pump with Existing Heat Backup              27249.0\n",
      "Induction Cooking                                                    6946.8\n",
      "Electric Cooking                                                     6737.3\n",
      "Heat Pump Clothes Dryer                                              1041.3\n",
      "Heat Pump Water Heater                                                709.2\n",
      "Name: saving_emission.total_kgCO2e, dtype: float64\n",
      "segment4\n",
      "upgrade_name\n",
      "Enhanced Enclosure + High Efficiency Whole Home Electrification    3233256.1\n",
      "Basic Enclosure + High Efficiency Whole Home Electrification       3230794.4\n",
      "Enhanced Enclosure + HPWH + High Efficiency HP/Electric Backup     3216561.8\n",
      "Basic Enclosure + HPWH + High Efficiency HP/Electric Backup        3214100.1\n",
      "High Efficiency Whole Home Electrification                         3133001.2\n",
      "High Efficiency Heat Pump with Electric Heat Backup                2953228.9\n",
      "Mininum Efficiency Whole Home Electrification                      2844925.4\n",
      "Mininum Efficiency Heat Pump with Electric Heat Backup             2707627.6\n",
      "Mininum Efficiency Heat Pump with Existing Heat Backup             1504600.6\n",
      "Enhanced Enclosure                                                  897357.9\n",
      "Basic Enclosure                                                     435189.9\n",
      "Heat Pump Water Heater                                               91956.8\n",
      "Induction Cooking                                                    10409.9\n",
      "Electric Cooking                                                      9197.1\n",
      "Heat Pump Clothes Dryer                                               6284.4\n",
      "Name: saving_emission.total_kgCO2e, dtype: float64\n"
     ]
    }
   ],
   "source": [
    "def figure_most_impact_package_total_savings(indicator, commnity_results):\n",
    "    \n",
    "    results = commnity_results[['upgrade_name', indicator, 'sample_weight', 'segment']]\n",
    "    results = results.loc[results['upgrade_name'] != 'baseline']\n",
    "    results[indicator] = results[indicator]*results['sample_weight']\n",
    "    \n",
    "    segment1 = results.loc[results['segment'] == 'segment1']\n",
    "    segment2 = results.loc[results['segment'] == 'segment2']\n",
    "    segment3 = results.loc[results['segment'] == 'segment3']\n",
    "    segment4 = results.loc[results['segment'] == 'segment4']\n",
    "    \n",
    "    agg_functions = {'upgrade_name': 'first',\n",
    "                     indicator: 'sum',\n",
    "                    'sample_weight': 'sum'}\n",
    "    \n",
    "    segment1_agg = segment1.groupby(segment1['upgrade_name']).aggregate(agg_functions)\n",
    "    segment2_agg = segment2.groupby(segment2['upgrade_name']).aggregate(agg_functions)\n",
    "    segment3_agg = segment3.groupby(segment3['upgrade_name']).aggregate(agg_functions)\n",
    "    segment4_agg = segment4.groupby(segment4['upgrade_name']).aggregate(agg_functions)\n",
    "    \n",
    "    segment1_agg = segment1_agg.sort_values([indicator], ascending=False)\n",
    "    segment2_agg = segment2_agg.sort_values([indicator], ascending=False)\n",
    "    segment3_agg = segment3_agg.sort_values([indicator], ascending=False)\n",
    "    segment4_agg = segment4_agg.sort_values([indicator], ascending=False)\n",
    "    \n",
    "    segment1_agg[indicator] = segment1_agg[indicator].round(1)\n",
    "    segment2_agg[indicator] = segment2_agg[indicator].round(1)\n",
    "    segment3_agg[indicator] = segment3_agg[indicator].round(1)\n",
    "    segment4_agg[indicator] = segment4_agg[indicator].round(1)\n",
    "\n",
    "    print (indicator)\n",
    "    print('segment1')\n",
    "    print(segment1_agg[indicator])\n",
    "    print('segment2')\n",
    "    print(segment2_agg[indicator])\n",
    "    print('segment3')\n",
    "    print(segment3_agg[indicator])\n",
    "    print('segment4')\n",
    "    print(segment4_agg[indicator])\n",
    "\n",
    "    #print (indicator)\n",
    "    #print('segment1')\n",
    "    #print (segment1_agg.loc[segment1_agg[indicator].idxmax()]['upgrade_name'])\n",
    "    ##print (segment1_agg.loc[segment1_agg[indicator].idxmax()][indicator])\n",
    "    #print('segment2')\n",
    "    #print (segment2_agg.loc[segment2_agg[indicator].idxmax()]['upgrade_name'])\n",
    "    #print (segment2_agg.loc[segment2_agg[indicator].idxmax()][indicator])\n",
    "    #print('segment3')\n",
    "    #print (segment3_agg.loc[segment3_agg[indicator].idxmax()]['upgrade_name'])\n",
    "    #print (segment3_agg.loc[segment3_agg[indicator].idxmax()][indicator])\n",
    "    #print('segment4')\n",
    "    #print (segment4_agg.loc[segment4_agg[indicator].idxmax()]['upgrade_name'])\n",
    "    #print (segment4_agg.loc[segment4_agg[indicator].idxmax()][indicator])\n",
    "\n",
    "    \n",
    "indicator ='saving_emission.total_kgCO2e' # 'saving_cbill.total_usd', 'saving_energy.total_mmbtu','saving_emission.total_kgCO2e'\n",
    "figure_most_impact_package_total_savings(indicator, community_results) "
   ]
  },
  {
   "cell_type": "markdown",
   "id": "83cbedb9",
   "metadata": {},
   "source": [
    "## 2.4 Mean Savings"
   ]
  },
  {
   "cell_type": "code",
   "execution_count": 27,
   "id": "36dcf6e7",
   "metadata": {},
   "outputs": [
    {
     "name": "stdout",
     "output_type": "stream",
     "text": [
      "saving_emission.total_kgCO2e\n",
      "segment1\n",
      "upgrade_name\n",
      "Mininum Efficiency Whole Home Electrification                      3838.3\n",
      "Enhanced Enclosure + High Efficiency Whole Home Electrification    3798.0\n",
      "Enhanced Enclosure + HPWH + High Efficiency HP/Electric Backup     3732.2\n",
      "Basic Enclosure + High Efficiency Whole Home Electrification       3693.0\n",
      "Basic Enclosure + HPWH + High Efficiency HP/Electric Backup        3627.1\n",
      "High Efficiency Whole Home Electrification                         3391.3\n",
      "High Efficiency Heat Pump with Electric Heat Backup                2775.4\n",
      "Mininum Efficiency Heat Pump with Electric Heat Backup             2271.6\n",
      "Mininum Efficiency Heat Pump with Existing Heat Backup             1505.3\n",
      "Enhanced Enclosure                                                  924.8\n",
      "Basic Enclosure                                                     712.9\n",
      "Heat Pump Water Heater                                              287.1\n",
      "Electric Cooking                                                    131.6\n",
      "Induction Cooking                                                    47.5\n",
      "Heat Pump Clothes Dryer                                              24.7\n",
      "Name: saving_emission.total_kgCO2e, dtype: float64\n",
      "segment2\n",
      "upgrade_name\n",
      "Enhanced Enclosure + High Efficiency Whole Home Electrification    1715.2\n",
      "Basic Enclosure + High Efficiency Whole Home Electrification       1702.5\n",
      "Enhanced Enclosure + HPWH + High Efficiency HP/Electric Backup     1680.6\n",
      "Basic Enclosure + HPWH + High Efficiency HP/Electric Backup        1668.0\n",
      "Mininum Efficiency Whole Home Electrification                      1661.6\n",
      "High Efficiency Whole Home Electrification                         1644.0\n",
      "High Efficiency Heat Pump with Electric Heat Backup                1017.9\n",
      "Mininum Efficiency Heat Pump with Electric Heat Backup              788.8\n",
      "Heat Pump Water Heater                                              393.7\n",
      "Mininum Efficiency Heat Pump with Existing Heat Backup              345.7\n",
      "Enhanced Enclosure                                                  322.6\n",
      "Basic Enclosure                                                     284.5\n",
      "Electric Cooking                                                    132.1\n",
      "Electric Clothes Dryer                                               80.8\n",
      "Heat Pump Clothes Dryer                                              30.0\n",
      "Induction Cooking                                                    25.8\n",
      "Name: saving_emission.total_kgCO2e, dtype: float64\n",
      "segment3\n",
      "upgrade_name\n",
      "Basic Enclosure + High Efficiency Whole Home Electrification       16186.6\n",
      "Enhanced Enclosure + High Efficiency Whole Home Electrification    16186.6\n",
      "Basic Enclosure + HPWH + High Efficiency HP/Electric Backup        16020.3\n",
      "Enhanced Enclosure + HPWH + High Efficiency HP/Electric Backup     16020.3\n",
      "High Efficiency Whole Home Electrification                         15005.4\n",
      "High Efficiency Heat Pump with Electric Heat Backup                14676.3\n",
      "Mininum Efficiency Whole Home Electrification                      12916.5\n",
      "Mininum Efficiency Heat Pump with Electric Heat Backup             12794.1\n",
      "Basic Enclosure                                                     4981.1\n",
      "Enhanced Enclosure                                                  4981.1\n",
      "Mininum Efficiency Heat Pump with Existing Heat Backup               567.4\n",
      "Induction Cooking                                                    144.7\n",
      "Electric Cooking                                                     140.3\n",
      "Heat Pump Clothes Dryer                                               21.7\n",
      "Heat Pump Water Heater                                                14.8\n",
      "Name: saving_emission.total_kgCO2e, dtype: float64\n",
      "segment4\n",
      "upgrade_name\n",
      "Enhanced Enclosure + High Efficiency Whole Home Electrification    10566.9\n",
      "Basic Enclosure + High Efficiency Whole Home Electrification       10558.9\n",
      "Enhanced Enclosure + HPWH + High Efficiency HP/Electric Backup     10512.3\n",
      "Basic Enclosure + HPWH + High Efficiency HP/Electric Backup        10504.3\n",
      "High Efficiency Whole Home Electrification                         10239.3\n",
      "Mininum Efficiency Whole Home Electrification                      10119.0\n",
      "High Efficiency Heat Pump with Electric Heat Backup                 9651.7\n",
      "Mininum Efficiency Heat Pump with Electric Heat Backup              8849.1\n",
      "Mininum Efficiency Heat Pump with Existing Heat Backup              4917.3\n",
      "Enhanced Enclosure                                                  2932.7\n",
      "Basic Enclosure                                                     1860.2\n",
      "Heat Pump Water Heater                                               300.5\n",
      "Electric Cooking                                                     159.3\n",
      "Induction Cooking                                                     34.0\n",
      "Heat Pump Clothes Dryer                                               20.5\n",
      "Name: saving_emission.total_kgCO2e, dtype: float64\n"
     ]
    }
   ],
   "source": [
    "def figure_most_impact_package_mean_savings(indicator, commnity_results):\n",
    "    \n",
    "    results = commnity_results[['upgrade_name', indicator, 'sample_weight', 'segment']]\n",
    "    results = results.loc[results['upgrade_name'] != 'baseline']\n",
    "    results[indicator] = results[indicator]*results['sample_weight']\n",
    "    \n",
    "    segment1 = results.loc[results['segment'] == 'segment1']\n",
    "    segment2 = results.loc[results['segment'] == 'segment2']\n",
    "    segment3 = results.loc[results['segment'] == 'segment3']\n",
    "    segment4 = results.loc[results['segment'] == 'segment4']\n",
    "    \n",
    "    agg_functions = {'upgrade_name': 'first',\n",
    "                     indicator: 'sum',\n",
    "                    'sample_weight': 'sum'}\n",
    "    \n",
    "    segment1_agg = segment1.groupby(segment1['upgrade_name']).aggregate(agg_functions)\n",
    "    segment2_agg = segment2.groupby(segment2['upgrade_name']).aggregate(agg_functions)\n",
    "    segment3_agg = segment3.groupby(segment3['upgrade_name']).aggregate(agg_functions)\n",
    "    segment4_agg = segment4.groupby(segment4['upgrade_name']).aggregate(agg_functions)\n",
    "    \n",
    "    segment1_agg[indicator] = segment1_agg[indicator]/segment1_agg['sample_weight']\n",
    "    segment2_agg[indicator] = segment2_agg[indicator]/segment2_agg['sample_weight']\n",
    "    segment3_agg[indicator] = segment3_agg[indicator]/segment3_agg['sample_weight']\n",
    "    segment4_agg[indicator] = segment4_agg[indicator]/segment4_agg['sample_weight']\n",
    "    \n",
    "    segment1_agg = segment1_agg.sort_values([indicator], ascending=False)\n",
    "    segment2_agg = segment2_agg.sort_values([indicator], ascending=False)\n",
    "    segment3_agg = segment3_agg.sort_values([indicator], ascending=False)\n",
    "    segment4_agg = segment4_agg.sort_values([indicator], ascending=False)\n",
    "    \n",
    "    segment1_agg[indicator] = segment1_agg[indicator].round(1)\n",
    "    segment2_agg[indicator] = segment2_agg[indicator].round(1)\n",
    "    segment3_agg[indicator] = segment3_agg[indicator].round(1)\n",
    "    segment4_agg[indicator] = segment4_agg[indicator].round(1)\n",
    "\n",
    "    print (indicator)\n",
    "    print('segment1')\n",
    "    print(segment1_agg[indicator])\n",
    "    print('segment2')\n",
    "    print(segment2_agg[indicator])\n",
    "    print('segment3')\n",
    "    print(segment3_agg[indicator])\n",
    "    print('segment4')\n",
    "    print(segment4_agg[indicator])\n",
    "\n",
    "    #print (indicator)\n",
    "    #print('segment1')\n",
    "    #print (segment1_agg.loc[segment1_agg[indicator].idxmax()]['upgrade_name'])\n",
    "    #print (segment1_agg.loc[segment1_agg[indicator].idxmax()][indicator])\n",
    "    #print('segment2')\n",
    "    #print (segment2_agg.loc[segment2_agg[indicator].idxmax()]['upgrade_name'])\n",
    "    #print (segment2_agg.loc[segment2_agg[indicator].idxmax()][indicator])\n",
    "    #print('segment3')\n",
    "    #print (segment3_agg.loc[segment3_agg[indicator].idxmax()]['upgrade_name'])\n",
    "    #print (segment3_agg.loc[segment3_agg[indicator].idxmax()][indicator])\n",
    "    #print('segment4')\n",
    "    #print (segment4_agg.loc[segment4_agg[indicator].idxmax()]['upgrade_name'])\n",
    "    #print (segment4_agg.loc[segment4_agg[indicator].idxmax()][indicator])\n",
    "\n",
    "    \n",
    "indicator = 'saving_emission.total_kgCO2e'#'saving_cbill.total_usd', 'saving_energy.total_mmbtu', 'pct_saving_energy.total_%', 'saving_emission.total_kgCO2e' 'post-upgrade_energy_burden_2023_cbills.%'\n",
    "figure_most_impact_package_mean_savings(indicator, community_results) "
   ]
  },
  {
   "cell_type": "markdown",
   "id": "ebaaed40",
   "metadata": {},
   "source": [
    "## 4. Most impactful retrofit package for each segment: Pecent stock with net positive bill savings"
   ]
  },
  {
   "cell_type": "code",
   "execution_count": 28,
   "id": "828e542c",
   "metadata": {},
   "outputs": [
    {
     "data": {
      "application/vnd.plotly.v1+json": {
       "config": {
        "plotlyServerURL": "https://plot.ly"
       },
       "data": [
        {
         "marker": {
          "color": "red"
         },
         "name": "Negative",
         "orientation": "h",
         "text": [
          1,
          0.875,
          0.7,
          0.7,
          0.7,
          0.5,
          0.5,
          0.5,
          0.5,
          0.4,
          0.2,
          0,
          0,
          0,
          0
         ],
         "textposition": "inside",
         "texttemplate": "%{text:.0%}",
         "type": "bar",
         "x": [
          1,
          0.875,
          0.7,
          0.7,
          0.7,
          0.5,
          0.5,
          0.5,
          0.5,
          0.4,
          0.2,
          0,
          0,
          0,
          0
         ],
         "xaxis": "x",
         "y": [
          "Electric Cooking",
          "Mininum Efficiency Whole Home Electrification",
          "High Efficiency Heat Pump with Electric Heat Backup",
          "High Efficiency Whole Home Electrification",
          "Mininum Efficiency Heat Pump with Electric Heat Backup",
          "Basic Enclosure + HPWH + High Efficiency HP/Electric Backup",
          "Basic Enclosure + High Efficiency Whole Home Electrification",
          "Enhanced Enclosure + HPWH + High Efficiency HP/Electric Backup",
          "Enhanced Enclosure + High Efficiency Whole Home Electrification",
          "Mininum Efficiency Heat Pump with Existing Heat Backup",
          "Induction Cooking",
          "Basic Enclosure",
          "Enhanced Enclosure",
          "Heat Pump Clothes Dryer",
          "Heat Pump Water Heater"
         ],
         "yaxis": "y"
        },
        {
         "marker": {
          "color": "green"
         },
         "name": "Positive",
         "orientation": "h",
         "text": [
          0,
          0.125,
          0.3,
          0.3,
          0.3,
          0.5,
          0.5,
          0.5,
          0.5,
          0.6,
          0.8,
          1,
          1,
          1,
          1
         ],
         "textposition": "inside",
         "texttemplate": "%{text:.0%}",
         "type": "bar",
         "x": [
          0,
          0.125,
          0.3,
          0.3,
          0.3,
          0.5,
          0.5,
          0.5,
          0.5,
          0.6,
          0.8,
          1,
          1,
          1,
          1
         ],
         "xaxis": "x",
         "y": [
          "Electric Cooking",
          "Mininum Efficiency Whole Home Electrification",
          "High Efficiency Heat Pump with Electric Heat Backup",
          "High Efficiency Whole Home Electrification",
          "Mininum Efficiency Heat Pump with Electric Heat Backup",
          "Basic Enclosure + HPWH + High Efficiency HP/Electric Backup",
          "Basic Enclosure + High Efficiency Whole Home Electrification",
          "Enhanced Enclosure + HPWH + High Efficiency HP/Electric Backup",
          "Enhanced Enclosure + High Efficiency Whole Home Electrification",
          "Mininum Efficiency Heat Pump with Existing Heat Backup",
          "Induction Cooking",
          "Basic Enclosure",
          "Enhanced Enclosure",
          "Heat Pump Clothes Dryer",
          "Heat Pump Water Heater"
         ],
         "yaxis": "y"
        },
        {
         "marker": {
          "color": "red"
         },
         "orientation": "h",
         "showlegend": false,
         "text": [
          0,
          0,
          0,
          0,
          0,
          0,
          0,
          0,
          0,
          0,
          0,
          0,
          0,
          0,
          0.3
         ],
         "textposition": "inside",
         "texttemplate": "%{text:.0%}",
         "type": "bar",
         "x": [
          0,
          0,
          0,
          0,
          0,
          0,
          0,
          0,
          0,
          0,
          0,
          0,
          0,
          0,
          0.3
         ],
         "xaxis": "x2",
         "y": [
          "Electric Cooking",
          "Mininum Efficiency Whole Home Electrification",
          "High Efficiency Heat Pump with Electric Heat Backup",
          "High Efficiency Whole Home Electrification",
          "Mininum Efficiency Heat Pump with Electric Heat Backup",
          "Basic Enclosure + HPWH + High Efficiency HP/Electric Backup",
          "Basic Enclosure + High Efficiency Whole Home Electrification",
          "Enhanced Enclosure + HPWH + High Efficiency HP/Electric Backup",
          "Enhanced Enclosure + High Efficiency Whole Home Electrification",
          "Mininum Efficiency Heat Pump with Existing Heat Backup",
          "Induction Cooking",
          "Basic Enclosure",
          "Enhanced Enclosure",
          "Heat Pump Clothes Dryer",
          "Heat Pump Water Heater"
         ],
         "yaxis": "y2"
        },
        {
         "marker": {
          "color": "green"
         },
         "orientation": "h",
         "showlegend": false,
         "text": [
          1,
          1,
          1,
          1,
          1,
          1,
          1,
          1,
          1,
          1,
          1,
          1,
          1,
          1,
          0.7
         ],
         "textposition": "inside",
         "texttemplate": "%{text:.0%}",
         "type": "bar",
         "x": [
          1,
          1,
          1,
          1,
          1,
          1,
          1,
          1,
          1,
          1,
          1,
          1,
          1,
          1,
          0.7
         ],
         "xaxis": "x2",
         "y": [
          "Electric Cooking",
          "Mininum Efficiency Whole Home Electrification",
          "High Efficiency Heat Pump with Electric Heat Backup",
          "High Efficiency Whole Home Electrification",
          "Mininum Efficiency Heat Pump with Electric Heat Backup",
          "Basic Enclosure + HPWH + High Efficiency HP/Electric Backup",
          "Basic Enclosure + High Efficiency Whole Home Electrification",
          "Enhanced Enclosure + HPWH + High Efficiency HP/Electric Backup",
          "Enhanced Enclosure + High Efficiency Whole Home Electrification",
          "Mininum Efficiency Heat Pump with Existing Heat Backup",
          "Induction Cooking",
          "Basic Enclosure",
          "Enhanced Enclosure",
          "Heat Pump Clothes Dryer",
          "Heat Pump Water Heater"
         ],
         "yaxis": "y2"
        },
        {
         "marker": {
          "color": "red"
         },
         "orientation": "h",
         "showlegend": false,
         "text": [
          0,
          0,
          0,
          0,
          0,
          0,
          0,
          0,
          0,
          0,
          0,
          0,
          0,
          0,
          0
         ],
         "textposition": "inside",
         "texttemplate": "%{text:.0%}",
         "type": "bar",
         "x": [
          0,
          0,
          0,
          0,
          0,
          0,
          0,
          0,
          0,
          0,
          0,
          0,
          0,
          0,
          0
         ],
         "xaxis": "x3",
         "y": [
          "Electric Cooking",
          "Mininum Efficiency Whole Home Electrification",
          "High Efficiency Heat Pump with Electric Heat Backup",
          "High Efficiency Whole Home Electrification",
          "Mininum Efficiency Heat Pump with Electric Heat Backup",
          "Basic Enclosure + HPWH + High Efficiency HP/Electric Backup",
          "Basic Enclosure + High Efficiency Whole Home Electrification",
          "Enhanced Enclosure + HPWH + High Efficiency HP/Electric Backup",
          "Enhanced Enclosure + High Efficiency Whole Home Electrification",
          "Mininum Efficiency Heat Pump with Existing Heat Backup",
          "Induction Cooking",
          "Basic Enclosure",
          "Enhanced Enclosure",
          "Heat Pump Clothes Dryer",
          "Heat Pump Water Heater"
         ],
         "yaxis": "y3"
        },
        {
         "marker": {
          "color": "green"
         },
         "orientation": "h",
         "showlegend": false,
         "text": [
          1,
          1,
          1,
          1,
          1,
          1,
          1,
          1,
          1,
          1,
          1,
          1,
          1,
          1,
          1
         ],
         "textposition": "inside",
         "texttemplate": "%{text:.0%}",
         "type": "bar",
         "x": [
          1,
          1,
          1,
          1,
          1,
          1,
          1,
          1,
          1,
          1,
          1,
          1,
          1,
          1,
          1
         ],
         "xaxis": "x3",
         "y": [
          "Electric Cooking",
          "Mininum Efficiency Whole Home Electrification",
          "High Efficiency Heat Pump with Electric Heat Backup",
          "High Efficiency Whole Home Electrification",
          "Mininum Efficiency Heat Pump with Electric Heat Backup",
          "Basic Enclosure + HPWH + High Efficiency HP/Electric Backup",
          "Basic Enclosure + High Efficiency Whole Home Electrification",
          "Enhanced Enclosure + HPWH + High Efficiency HP/Electric Backup",
          "Enhanced Enclosure + High Efficiency Whole Home Electrification",
          "Mininum Efficiency Heat Pump with Existing Heat Backup",
          "Induction Cooking",
          "Basic Enclosure",
          "Enhanced Enclosure",
          "Heat Pump Clothes Dryer",
          "Heat Pump Water Heater"
         ],
         "yaxis": "y3"
        }
       ],
       "layout": {
        "autosize": false,
        "barmode": "relative",
        "font": {
         "size": 10
        },
        "height": 500,
        "template": {
         "data": {
          "bar": [
           {
            "error_x": {
             "color": "#2a3f5f"
            },
            "error_y": {
             "color": "#2a3f5f"
            },
            "marker": {
             "line": {
              "color": "#E5ECF6",
              "width": 0.5
             },
             "pattern": {
              "fillmode": "overlay",
              "size": 10,
              "solidity": 0.2
             }
            },
            "type": "bar"
           }
          ],
          "barpolar": [
           {
            "marker": {
             "line": {
              "color": "#E5ECF6",
              "width": 0.5
             },
             "pattern": {
              "fillmode": "overlay",
              "size": 10,
              "solidity": 0.2
             }
            },
            "type": "barpolar"
           }
          ],
          "carpet": [
           {
            "aaxis": {
             "endlinecolor": "#2a3f5f",
             "gridcolor": "white",
             "linecolor": "white",
             "minorgridcolor": "white",
             "startlinecolor": "#2a3f5f"
            },
            "baxis": {
             "endlinecolor": "#2a3f5f",
             "gridcolor": "white",
             "linecolor": "white",
             "minorgridcolor": "white",
             "startlinecolor": "#2a3f5f"
            },
            "type": "carpet"
           }
          ],
          "choropleth": [
           {
            "colorbar": {
             "outlinewidth": 0,
             "ticks": ""
            },
            "type": "choropleth"
           }
          ],
          "contour": [
           {
            "colorbar": {
             "outlinewidth": 0,
             "ticks": ""
            },
            "colorscale": [
             [
              0,
              "#0d0887"
             ],
             [
              0.1111111111111111,
              "#46039f"
             ],
             [
              0.2222222222222222,
              "#7201a8"
             ],
             [
              0.3333333333333333,
              "#9c179e"
             ],
             [
              0.4444444444444444,
              "#bd3786"
             ],
             [
              0.5555555555555556,
              "#d8576b"
             ],
             [
              0.6666666666666666,
              "#ed7953"
             ],
             [
              0.7777777777777778,
              "#fb9f3a"
             ],
             [
              0.8888888888888888,
              "#fdca26"
             ],
             [
              1,
              "#f0f921"
             ]
            ],
            "type": "contour"
           }
          ],
          "contourcarpet": [
           {
            "colorbar": {
             "outlinewidth": 0,
             "ticks": ""
            },
            "type": "contourcarpet"
           }
          ],
          "heatmap": [
           {
            "colorbar": {
             "outlinewidth": 0,
             "ticks": ""
            },
            "colorscale": [
             [
              0,
              "#0d0887"
             ],
             [
              0.1111111111111111,
              "#46039f"
             ],
             [
              0.2222222222222222,
              "#7201a8"
             ],
             [
              0.3333333333333333,
              "#9c179e"
             ],
             [
              0.4444444444444444,
              "#bd3786"
             ],
             [
              0.5555555555555556,
              "#d8576b"
             ],
             [
              0.6666666666666666,
              "#ed7953"
             ],
             [
              0.7777777777777778,
              "#fb9f3a"
             ],
             [
              0.8888888888888888,
              "#fdca26"
             ],
             [
              1,
              "#f0f921"
             ]
            ],
            "type": "heatmap"
           }
          ],
          "heatmapgl": [
           {
            "colorbar": {
             "outlinewidth": 0,
             "ticks": ""
            },
            "colorscale": [
             [
              0,
              "#0d0887"
             ],
             [
              0.1111111111111111,
              "#46039f"
             ],
             [
              0.2222222222222222,
              "#7201a8"
             ],
             [
              0.3333333333333333,
              "#9c179e"
             ],
             [
              0.4444444444444444,
              "#bd3786"
             ],
             [
              0.5555555555555556,
              "#d8576b"
             ],
             [
              0.6666666666666666,
              "#ed7953"
             ],
             [
              0.7777777777777778,
              "#fb9f3a"
             ],
             [
              0.8888888888888888,
              "#fdca26"
             ],
             [
              1,
              "#f0f921"
             ]
            ],
            "type": "heatmapgl"
           }
          ],
          "histogram": [
           {
            "marker": {
             "pattern": {
              "fillmode": "overlay",
              "size": 10,
              "solidity": 0.2
             }
            },
            "type": "histogram"
           }
          ],
          "histogram2d": [
           {
            "colorbar": {
             "outlinewidth": 0,
             "ticks": ""
            },
            "colorscale": [
             [
              0,
              "#0d0887"
             ],
             [
              0.1111111111111111,
              "#46039f"
             ],
             [
              0.2222222222222222,
              "#7201a8"
             ],
             [
              0.3333333333333333,
              "#9c179e"
             ],
             [
              0.4444444444444444,
              "#bd3786"
             ],
             [
              0.5555555555555556,
              "#d8576b"
             ],
             [
              0.6666666666666666,
              "#ed7953"
             ],
             [
              0.7777777777777778,
              "#fb9f3a"
             ],
             [
              0.8888888888888888,
              "#fdca26"
             ],
             [
              1,
              "#f0f921"
             ]
            ],
            "type": "histogram2d"
           }
          ],
          "histogram2dcontour": [
           {
            "colorbar": {
             "outlinewidth": 0,
             "ticks": ""
            },
            "colorscale": [
             [
              0,
              "#0d0887"
             ],
             [
              0.1111111111111111,
              "#46039f"
             ],
             [
              0.2222222222222222,
              "#7201a8"
             ],
             [
              0.3333333333333333,
              "#9c179e"
             ],
             [
              0.4444444444444444,
              "#bd3786"
             ],
             [
              0.5555555555555556,
              "#d8576b"
             ],
             [
              0.6666666666666666,
              "#ed7953"
             ],
             [
              0.7777777777777778,
              "#fb9f3a"
             ],
             [
              0.8888888888888888,
              "#fdca26"
             ],
             [
              1,
              "#f0f921"
             ]
            ],
            "type": "histogram2dcontour"
           }
          ],
          "mesh3d": [
           {
            "colorbar": {
             "outlinewidth": 0,
             "ticks": ""
            },
            "type": "mesh3d"
           }
          ],
          "parcoords": [
           {
            "line": {
             "colorbar": {
              "outlinewidth": 0,
              "ticks": ""
             }
            },
            "type": "parcoords"
           }
          ],
          "pie": [
           {
            "automargin": true,
            "type": "pie"
           }
          ],
          "scatter": [
           {
            "fillpattern": {
             "fillmode": "overlay",
             "size": 10,
             "solidity": 0.2
            },
            "type": "scatter"
           }
          ],
          "scatter3d": [
           {
            "line": {
             "colorbar": {
              "outlinewidth": 0,
              "ticks": ""
             }
            },
            "marker": {
             "colorbar": {
              "outlinewidth": 0,
              "ticks": ""
             }
            },
            "type": "scatter3d"
           }
          ],
          "scattercarpet": [
           {
            "marker": {
             "colorbar": {
              "outlinewidth": 0,
              "ticks": ""
             }
            },
            "type": "scattercarpet"
           }
          ],
          "scattergeo": [
           {
            "marker": {
             "colorbar": {
              "outlinewidth": 0,
              "ticks": ""
             }
            },
            "type": "scattergeo"
           }
          ],
          "scattergl": [
           {
            "marker": {
             "colorbar": {
              "outlinewidth": 0,
              "ticks": ""
             }
            },
            "type": "scattergl"
           }
          ],
          "scattermapbox": [
           {
            "marker": {
             "colorbar": {
              "outlinewidth": 0,
              "ticks": ""
             }
            },
            "type": "scattermapbox"
           }
          ],
          "scatterpolar": [
           {
            "marker": {
             "colorbar": {
              "outlinewidth": 0,
              "ticks": ""
             }
            },
            "type": "scatterpolar"
           }
          ],
          "scatterpolargl": [
           {
            "marker": {
             "colorbar": {
              "outlinewidth": 0,
              "ticks": ""
             }
            },
            "type": "scatterpolargl"
           }
          ],
          "scatterternary": [
           {
            "marker": {
             "colorbar": {
              "outlinewidth": 0,
              "ticks": ""
             }
            },
            "type": "scatterternary"
           }
          ],
          "surface": [
           {
            "colorbar": {
             "outlinewidth": 0,
             "ticks": ""
            },
            "colorscale": [
             [
              0,
              "#0d0887"
             ],
             [
              0.1111111111111111,
              "#46039f"
             ],
             [
              0.2222222222222222,
              "#7201a8"
             ],
             [
              0.3333333333333333,
              "#9c179e"
             ],
             [
              0.4444444444444444,
              "#bd3786"
             ],
             [
              0.5555555555555556,
              "#d8576b"
             ],
             [
              0.6666666666666666,
              "#ed7953"
             ],
             [
              0.7777777777777778,
              "#fb9f3a"
             ],
             [
              0.8888888888888888,
              "#fdca26"
             ],
             [
              1,
              "#f0f921"
             ]
            ],
            "type": "surface"
           }
          ],
          "table": [
           {
            "cells": {
             "fill": {
              "color": "#EBF0F8"
             },
             "line": {
              "color": "white"
             }
            },
            "header": {
             "fill": {
              "color": "#C8D4E3"
             },
             "line": {
              "color": "white"
             }
            },
            "type": "table"
           }
          ]
         },
         "layout": {
          "annotationdefaults": {
           "arrowcolor": "#2a3f5f",
           "arrowhead": 0,
           "arrowwidth": 1
          },
          "autotypenumbers": "strict",
          "coloraxis": {
           "colorbar": {
            "outlinewidth": 0,
            "ticks": ""
           }
          },
          "colorscale": {
           "diverging": [
            [
             0,
             "#8e0152"
            ],
            [
             0.1,
             "#c51b7d"
            ],
            [
             0.2,
             "#de77ae"
            ],
            [
             0.3,
             "#f1b6da"
            ],
            [
             0.4,
             "#fde0ef"
            ],
            [
             0.5,
             "#f7f7f7"
            ],
            [
             0.6,
             "#e6f5d0"
            ],
            [
             0.7,
             "#b8e186"
            ],
            [
             0.8,
             "#7fbc41"
            ],
            [
             0.9,
             "#4d9221"
            ],
            [
             1,
             "#276419"
            ]
           ],
           "sequential": [
            [
             0,
             "#0d0887"
            ],
            [
             0.1111111111111111,
             "#46039f"
            ],
            [
             0.2222222222222222,
             "#7201a8"
            ],
            [
             0.3333333333333333,
             "#9c179e"
            ],
            [
             0.4444444444444444,
             "#bd3786"
            ],
            [
             0.5555555555555556,
             "#d8576b"
            ],
            [
             0.6666666666666666,
             "#ed7953"
            ],
            [
             0.7777777777777778,
             "#fb9f3a"
            ],
            [
             0.8888888888888888,
             "#fdca26"
            ],
            [
             1,
             "#f0f921"
            ]
           ],
           "sequentialminus": [
            [
             0,
             "#0d0887"
            ],
            [
             0.1111111111111111,
             "#46039f"
            ],
            [
             0.2222222222222222,
             "#7201a8"
            ],
            [
             0.3333333333333333,
             "#9c179e"
            ],
            [
             0.4444444444444444,
             "#bd3786"
            ],
            [
             0.5555555555555556,
             "#d8576b"
            ],
            [
             0.6666666666666666,
             "#ed7953"
            ],
            [
             0.7777777777777778,
             "#fb9f3a"
            ],
            [
             0.8888888888888888,
             "#fdca26"
            ],
            [
             1,
             "#f0f921"
            ]
           ]
          },
          "colorway": [
           "#636efa",
           "#EF553B",
           "#00cc96",
           "#ab63fa",
           "#FFA15A",
           "#19d3f3",
           "#FF6692",
           "#B6E880",
           "#FF97FF",
           "#FECB52"
          ],
          "font": {
           "color": "#2a3f5f"
          },
          "geo": {
           "bgcolor": "white",
           "lakecolor": "white",
           "landcolor": "#E5ECF6",
           "showlakes": true,
           "showland": true,
           "subunitcolor": "white"
          },
          "hoverlabel": {
           "align": "left"
          },
          "hovermode": "closest",
          "mapbox": {
           "style": "light"
          },
          "paper_bgcolor": "white",
          "plot_bgcolor": "#E5ECF6",
          "polar": {
           "angularaxis": {
            "gridcolor": "white",
            "linecolor": "white",
            "ticks": ""
           },
           "bgcolor": "#E5ECF6",
           "radialaxis": {
            "gridcolor": "white",
            "linecolor": "white",
            "ticks": ""
           }
          },
          "scene": {
           "xaxis": {
            "backgroundcolor": "#E5ECF6",
            "gridcolor": "white",
            "gridwidth": 2,
            "linecolor": "white",
            "showbackground": true,
            "ticks": "",
            "zerolinecolor": "white"
           },
           "yaxis": {
            "backgroundcolor": "#E5ECF6",
            "gridcolor": "white",
            "gridwidth": 2,
            "linecolor": "white",
            "showbackground": true,
            "ticks": "",
            "zerolinecolor": "white"
           },
           "zaxis": {
            "backgroundcolor": "#E5ECF6",
            "gridcolor": "white",
            "gridwidth": 2,
            "linecolor": "white",
            "showbackground": true,
            "ticks": "",
            "zerolinecolor": "white"
           }
          },
          "shapedefaults": {
           "line": {
            "color": "#2a3f5f"
           }
          },
          "ternary": {
           "aaxis": {
            "gridcolor": "white",
            "linecolor": "white",
            "ticks": ""
           },
           "baxis": {
            "gridcolor": "white",
            "linecolor": "white",
            "ticks": ""
           },
           "bgcolor": "#E5ECF6",
           "caxis": {
            "gridcolor": "white",
            "linecolor": "white",
            "ticks": ""
           }
          },
          "title": {
           "x": 0.05
          },
          "xaxis": {
           "automargin": true,
           "gridcolor": "white",
           "linecolor": "white",
           "ticks": "",
           "title": {
            "standoff": 15
           },
           "zerolinecolor": "white",
           "zerolinewidth": 2
          },
          "yaxis": {
           "automargin": true,
           "gridcolor": "white",
           "linecolor": "white",
           "ticks": "",
           "title": {
            "standoff": 15
           },
           "zerolinecolor": "white",
           "zerolinewidth": 2
          }
         }
        },
        "title": {
         "text": "Percentage of Household in Positive and Negative Savings"
        },
        "width": 1000,
        "xaxis": {
         "anchor": "y",
         "domain": [
          0,
          0.2888888888888889
         ],
         "tickformat": ",.0%",
         "title": {
          "text": "Bill"
         },
         "visible": true
        },
        "xaxis2": {
         "anchor": "y2",
         "domain": [
          0.35555555555555557,
          0.6444444444444445
         ],
         "tickformat": ",.0%",
         "title": {
          "text": "Emission"
         },
         "visible": true
        },
        "xaxis3": {
         "anchor": "y3",
         "domain": [
          0.7111111111111111,
          1
         ],
         "tickformat": ",.0%",
         "title": {
          "text": "Total Energy"
         },
         "visible": true
        },
        "yaxis": {
         "anchor": "x",
         "domain": [
          0,
          1
         ],
         "visible": true
        },
        "yaxis2": {
         "anchor": "x2",
         "domain": [
          0,
          1
         ],
         "visible": false
        },
        "yaxis3": {
         "anchor": "x3",
         "domain": [
          0,
          1
         ],
         "visible": false
        }
       }
      }
     },
     "metadata": {},
     "output_type": "display_data"
    }
   ],
   "source": [
    "def figure_positive_negative_savings(segment, commnity_results):\n",
    "    results = commnity_results[['upgrade_name',\n",
    "                                  'saving_energy.total_mmbtu',\n",
    "                                  'saving_cbill.total_usd',\n",
    "                                  'saving_emission.total_kgCO2e',\n",
    "                                'sample_weight',\n",
    "                               'segment']]\n",
    "    results = results.loc[results['upgrade_name'] != 'baseline']\n",
    "    results = results.loc[results['segment'] == segment]\n",
    "    results = results.groupby(results['upgrade_name'])\n",
    "  \n",
    "    def pos(col): \n",
    "      return col[col > 0].count()\n",
    "  \n",
    "    def neg(col): \n",
    "      return col[col < 0].count() \n",
    "\n",
    "    percentage = pd.DataFrame()\n",
    "\n",
    "    bill = results['saving_cbill.total_usd'].agg([('negative_values', neg),('positive_values', pos)])\n",
    "    emission = results['saving_emission.total_kgCO2e'].agg([('negative_values', neg),('positive_values', pos)])\n",
    "    energy = results['saving_energy.total_mmbtu'].agg([('negative_values', neg),('positive_values', pos)])\n",
    "    \n",
    "    percentage ['cbill_n'] = bill['negative_values']/(bill['negative_values']+bill['positive_values'])\n",
    "    percentage ['cbill_p'] = bill['positive_values']/(bill['negative_values']+bill['positive_values'])\n",
    "    percentage ['emission_n'] = emission['negative_values']/(emission['negative_values']+emission['positive_values'])\n",
    "    percentage ['emission_p'] = emission['positive_values']/(emission['negative_values']+emission['positive_values'])\n",
    "    percentage ['energy_n'] = energy['negative_values']/(energy['negative_values']+energy['positive_values'])\n",
    "    percentage ['energy_p'] = energy['positive_values']/(energy['negative_values']+energy['positive_values'])\n",
    "    \n",
    "    \n",
    "    percentage = percentage.sort_values(('cbill_p'))\n",
    "    upgrade_name = percentage.index\n",
    "    \n",
    "    fig = make_subplots(rows=1, cols=3)\n",
    "    marker1= dict(color='red')\n",
    "    marker2= dict(color='green')\n",
    "    \n",
    "    fig.add_bar(y=upgrade_name, x=percentage ['cbill_n'], text=percentage ['cbill_n'],\n",
    "                orientation='h',name = \"Negative\",row=1, col=1, marker=marker1)\n",
    "    fig.add_bar(y=upgrade_name, x=percentage ['cbill_p'],text=percentage ['cbill_p'],\n",
    "                orientation='h', name = \"Positive\", row=1, col=1, marker=marker2)\n",
    "    \n",
    "    fig.add_bar(y=upgrade_name, x=percentage ['emission_n'], text=percentage ['emission_n'],\n",
    "                orientation='h',showlegend=False, row=1, col=2, marker=marker1)\n",
    "    fig.add_bar(y=upgrade_name, x=percentage ['emission_p'],text=percentage ['emission_p'],\n",
    "                orientation='h', showlegend=False, row=1, col=2, marker=marker2)\n",
    "    \n",
    "    fig.add_bar(y=upgrade_name, x=percentage ['energy_n'],text=percentage ['energy_n'],\n",
    "                orientation='h',showlegend=False, row=1, col=3, marker=marker1)\n",
    "    fig.add_bar(y=upgrade_name, x=percentage ['energy_p'],text=percentage ['energy_p'],\n",
    "                orientation='h', showlegend=False, row=1, col=3, marker=marker2)\n",
    "   \n",
    "  \n",
    "    fig.update_layout(barmode=\"relative\")\n",
    "    fig.update_traces(texttemplate='%{text:.0%}', textposition='inside')\n",
    "    \n",
    "    fig.update_layout(xaxis_title=\"Bill\", xaxis_visible=True, yaxis_visible=True,\n",
    "                      xaxis2_title=\"Emission\", xaxis2_visible=True, yaxis2_visible=False,\n",
    "                      xaxis3_title=\"Total Energy\", xaxis3_visible=True, yaxis3_visible=False,\n",
    "                      font=dict(size=10))\n",
    "    \n",
    "    fig.update_layout(\n",
    "        title='Percentage of Household in Positive and Negative Savings')\n",
    "    \n",
    "    fig.update_layout(\n",
    "    autosize=False,\n",
    "    width=1000,\n",
    "    height=500,\n",
    "    font=dict(size=10))\n",
    "    fig.layout.xaxis1.tickformat = ',.0%'\n",
    "    fig.layout.xaxis2.tickformat = ',.0%'\n",
    "    fig.layout.xaxis3.tickformat = ',.0%'\n",
    "    \n",
    "    fig.show()\n",
    "    fig.write_image(fig_dir / f'percentage_positive_saving_{segment}.svg')\n",
    "\n",
    "segment = 'segment4'\n",
    "figure_positive_negative_savings(segment, community_results)     \n"
   ]
  },
  {
   "cell_type": "markdown",
   "id": "b53c1061",
   "metadata": {},
   "source": [
    "## 5. Most impactful retrofit package for each segment: energy burden"
   ]
  },
  {
   "cell_type": "code",
   "execution_count": 29,
   "id": "1c373671",
   "metadata": {
    "scrolled": true
   },
   "outputs": [
    {
     "name": "stdout",
     "output_type": "stream",
     "text": [
      "energy burden (%) before and after upgrade\n",
      "segment1\n",
      "                                                                 before  after\n",
      "upgrade_name                                                                  \n",
      "Enhanced Enclosure + High Efficiency Whole Home Electrification     8.0    4.7\n",
      "Enhanced Enclosure + HPWH + High Efficiency HP/Electric Backup      8.0    4.9\n",
      "Basic Enclosure + High Efficiency Whole Home Electrification        8.0    5.4\n",
      "Basic Enclosure + HPWH + High Efficiency HP/Electric Backup         8.0    5.5\n",
      "High Efficiency Whole Home Electrification                          8.0    6.2\n",
      "Enhanced Enclosure                                                  8.0    6.8\n",
      "High Efficiency Heat Pump with Electric Heat Backup                 8.0    7.0\n",
      "Basic Enclosure                                                     8.0    7.1\n",
      "Mininum Efficiency Heat Pump with Existing Heat Backup              8.0    7.6\n",
      "Heat Pump Water Heater                                              8.0    7.7\n",
      "Heat Pump Clothes Dryer                                             8.4    8.2\n",
      "Induction Cooking                                                   8.0    8.0\n",
      "Electric Cooking                                                    7.1    7.1\n",
      "Mininum Efficiency Heat Pump with Electric Heat Backup              8.0    8.7\n",
      "Mininum Efficiency Whole Home Electrification                       8.4    9.6\n",
      "segment2\n",
      "                                                                 before  after\n",
      "upgrade_name                                                                  \n",
      "Enhanced Enclosure + High Efficiency Whole Home Electrification     4.9    3.1\n",
      "Enhanced Enclosure + HPWH + High Efficiency HP/Electric Backup      4.9    3.1\n",
      "Basic Enclosure + High Efficiency Whole Home Electrification        4.9    3.1\n",
      "Basic Enclosure + HPWH + High Efficiency HP/Electric Backup         4.9    3.2\n",
      "High Efficiency Whole Home Electrification                          4.9    3.4\n",
      "High Efficiency Heat Pump with Electric Heat Backup                 4.9    3.9\n",
      "Enhanced Enclosure                                                  5.3    4.6\n",
      "Basic Enclosure                                                     5.2    4.7\n",
      "Mininum Efficiency Heat Pump with Existing Heat Backup              4.9    4.5\n",
      "Heat Pump Water Heater                                              4.9    4.7\n",
      "Heat Pump Clothes Dryer                                             4.5    4.5\n",
      "Induction Cooking                                                   4.9    4.9\n",
      "Mininum Efficiency Heat Pump with Electric Heat Backup              4.9    4.9\n",
      "Electric Cooking                                                    6.6    6.7\n",
      "Electric Clothes Dryer                                              8.7    8.8\n",
      "Mininum Efficiency Whole Home Electrification                       4.8    5.3\n",
      "segment3\n",
      "                                                                 before  after\n",
      "upgrade_name                                                                  \n",
      "Basic Enclosure                                                    13.1   10.5\n",
      "Enhanced Enclosure                                                 13.1   10.5\n",
      "Basic Enclosure + High Efficiency Whole Home Electrification       13.1   12.1\n",
      "Enhanced Enclosure + High Efficiency Whole Home Electrification    13.1   12.1\n",
      "Basic Enclosure + HPWH + High Efficiency HP/Electric Backup        13.1   12.2\n",
      "Enhanced Enclosure + HPWH + High Efficiency HP/Electric Backup     13.1   12.2\n",
      "Heat Pump Water Heater                                             13.1   12.6\n",
      "Heat Pump Clothes Dryer                                            13.1   13.1\n",
      "Induction Cooking                                                  13.1   13.1\n",
      "Electric Cooking                                                   13.1   13.2\n",
      "Mininum Efficiency Heat Pump with Existing Heat Backup             13.1   13.2\n",
      "High Efficiency Whole Home Electrification                         13.1   14.8\n",
      "High Efficiency Heat Pump with Electric Heat Backup                13.1   15.4\n",
      "Mininum Efficiency Heat Pump with Electric Heat Backup             13.1   19.9\n",
      "Mininum Efficiency Whole Home Electrification                      13.1   19.9\n",
      "segment4\n",
      "                                                                 before  after\n",
      "upgrade_name                                                                  \n",
      "Enhanced Enclosure                                                  4.3    3.6\n",
      "Basic Enclosure                                                     5.0    4.4\n",
      "Heat Pump Water Heater                                              4.3    4.0\n",
      "Heat Pump Clothes Dryer                                             4.3    4.3\n",
      "Induction Cooking                                                   4.3    4.3\n",
      "Electric Cooking                                                    1.5    1.6\n",
      "Enhanced Enclosure + High Efficiency Whole Home Electrification     4.3    5.0\n",
      "Basic Enclosure + High Efficiency Whole Home Electrification        4.3    5.0\n",
      "Enhanced Enclosure + HPWH + High Efficiency HP/Electric Backup      4.3    5.0\n",
      "Basic Enclosure + HPWH + High Efficiency HP/Electric Backup         4.3    5.0\n",
      "High Efficiency Whole Home Electrification                          4.3    5.5\n",
      "High Efficiency Heat Pump with Electric Heat Backup                 4.3    6.0\n",
      "Mininum Efficiency Heat Pump with Existing Heat Backup              4.3    6.2\n",
      "Mininum Efficiency Heat Pump with Electric Heat Backup              4.3    7.8\n",
      "Mininum Efficiency Whole Home Electrification                       3.7    7.4\n"
     ]
    },
    {
     "name": "stderr",
     "output_type": "stream",
     "text": [
      "/var/folders/zw/lhnn73fj2250g9z11h_whq1szkf2pm/T/ipykernel_30393/175440032.py:4: SettingWithCopyWarning:\n",
      "\n",
      "\n",
      "A value is trying to be set on a copy of a slice from a DataFrame\n",
      "\n",
      "See the caveats in the documentation: https://pandas.pydata.org/pandas-docs/stable/user_guide/indexing.html#returning-a-view-versus-a-copy\n",
      "\n",
      "/var/folders/zw/lhnn73fj2250g9z11h_whq1szkf2pm/T/ipykernel_30393/175440032.py:5: SettingWithCopyWarning:\n",
      "\n",
      "\n",
      "A value is trying to be set on a copy of a slice from a DataFrame\n",
      "\n",
      "See the caveats in the documentation: https://pandas.pydata.org/pandas-docs/stable/user_guide/indexing.html#returning-a-view-versus-a-copy\n",
      "\n",
      "/var/folders/zw/lhnn73fj2250g9z11h_whq1szkf2pm/T/ipykernel_30393/175440032.py:7: SettingWithCopyWarning:\n",
      "\n",
      "\n",
      "A value is trying to be set on a copy of a slice from a DataFrame.\n",
      "Try using .loc[row_indexer,col_indexer] = value instead\n",
      "\n",
      "See the caveats in the documentation: https://pandas.pydata.org/pandas-docs/stable/user_guide/indexing.html#returning-a-view-versus-a-copy\n",
      "\n",
      "/var/folders/zw/lhnn73fj2250g9z11h_whq1szkf2pm/T/ipykernel_30393/175440032.py:8: SettingWithCopyWarning:\n",
      "\n",
      "\n",
      "A value is trying to be set on a copy of a slice from a DataFrame.\n",
      "Try using .loc[row_indexer,col_indexer] = value instead\n",
      "\n",
      "See the caveats in the documentation: https://pandas.pydata.org/pandas-docs/stable/user_guide/indexing.html#returning-a-view-versus-a-copy\n",
      "\n"
     ]
    }
   ],
   "source": [
    "def figure_most_impact_package_mean_energy_burden(indicator, commnity_results):\n",
    "    \n",
    "    results = commnity_results[['upgrade_name', indicator, 'baseline_energy_burden_2023_cbills.%', 'sample_weight', 'segment']]\n",
    "    results.replace([np.inf, -np.inf], np.nan, inplace=True)\n",
    "    results.dropna(subset=['baseline_energy_burden_2023_cbills.%'], how=\"all\", inplace=True)\n",
    "    results.to_csv('test.csv')\n",
    "    results[indicator] = results[indicator]*results['sample_weight']\n",
    "    results['baseline_energy_burden_2023_cbills.%'] = results['baseline_energy_burden_2023_cbills.%']*results['sample_weight']\n",
    "    \n",
    "    segment1 = results.loc[results['segment'] == 'segment1']\n",
    "    segment2 = results.loc[results['segment'] == 'segment2']\n",
    "    segment3 = results.loc[results['segment'] == 'segment3']\n",
    "    segment4 = results.loc[results['segment'] == 'segment4']\n",
    "    \n",
    "    agg_functions = {'upgrade_name': 'first',\n",
    "                     indicator: 'sum',\n",
    "                     'baseline_energy_burden_2023_cbills.%': 'sum',\n",
    "                    'sample_weight': 'sum'}\n",
    "    \n",
    "    segment1_agg = segment1.groupby(segment1['upgrade_name']).aggregate(agg_functions)\n",
    "    segment2_agg = segment2.groupby(segment2['upgrade_name']).aggregate(agg_functions)\n",
    "    segment3_agg = segment3.groupby(segment3['upgrade_name']).aggregate(agg_functions)\n",
    "    segment4_agg = segment4.groupby(segment4['upgrade_name']).aggregate(agg_functions)\n",
    "    \n",
    "    segment1_agg['baseline_energy_burden_2023_cbills.%'] = segment1_agg['baseline_energy_burden_2023_cbills.%']/segment1_agg['sample_weight']\n",
    "    segment2_agg['baseline_energy_burden_2023_cbills.%'] = segment2_agg['baseline_energy_burden_2023_cbills.%']/segment2_agg['sample_weight']\n",
    "    segment3_agg['baseline_energy_burden_2023_cbills.%'] = segment3_agg['baseline_energy_burden_2023_cbills.%']/segment3_agg['sample_weight']\n",
    "    segment4_agg['baseline_energy_burden_2023_cbills.%'] = segment4_agg['baseline_energy_burden_2023_cbills.%']/segment4_agg['sample_weight']\n",
    "    \n",
    "    segment1_agg[indicator] = segment1_agg[indicator]/segment1_agg['sample_weight']\n",
    "    segment2_agg[indicator] = segment2_agg[indicator]/segment2_agg['sample_weight']\n",
    "    segment3_agg[indicator] = segment3_agg[indicator]/segment3_agg['sample_weight']\n",
    "    segment4_agg[indicator] = segment4_agg[indicator]/segment4_agg['sample_weight']\n",
    "    \n",
    "    segment1_agg['energy_burden_diff'] = segment1_agg['baseline_energy_burden_2023_cbills.%'] - segment1_agg[indicator]\n",
    "    segment2_agg['energy_burden_diff'] = segment2_agg['baseline_energy_burden_2023_cbills.%'] - segment2_agg[indicator]\n",
    "    segment3_agg['energy_burden_diff'] = segment3_agg['baseline_energy_burden_2023_cbills.%'] - segment3_agg[indicator]\n",
    "    segment4_agg['energy_burden_diff'] = segment4_agg['baseline_energy_burden_2023_cbills.%'] - segment4_agg[indicator]\n",
    "    \n",
    "    segment1_agg = segment1_agg.sort_values(['energy_burden_diff'], ascending=False)\n",
    "    segment2_agg = segment2_agg.sort_values(['energy_burden_diff'], ascending=False)\n",
    "    segment3_agg = segment3_agg.sort_values(['energy_burden_diff'], ascending=False)\n",
    "    segment4_agg = segment4_agg.sort_values(['energy_burden_diff'], ascending=False)\n",
    "    \n",
    "    segment1_agg = segment1_agg[segment1_agg.upgrade_name != 'baseline']\n",
    "    segment2_agg = segment2_agg[segment2_agg.upgrade_name != 'baseline']\n",
    "    segment3_agg = segment3_agg[segment3_agg.upgrade_name != 'baseline']\n",
    "    segment4_agg = segment4_agg[segment4_agg.upgrade_name != 'baseline']\n",
    "    \n",
    "    segment1_agg = segment1_agg.rename(columns={'baseline_energy_burden_2023_cbills.%': 'before', indicator: 'after'})\n",
    "    segment2_agg = segment2_agg.rename(columns={'baseline_energy_burden_2023_cbills.%': 'before', indicator: 'after'})\n",
    "    segment3_agg = segment3_agg.rename(columns={'baseline_energy_burden_2023_cbills.%': 'before', indicator: 'after'})\n",
    "    segment4_agg = segment4_agg.rename(columns={'baseline_energy_burden_2023_cbills.%': 'before', indicator: 'after'})\n",
    "    \n",
    "    segment1_agg['before'] = segment1_agg['before'].round(1)\n",
    "    segment2_agg['before'] = segment2_agg['before'].round(1)\n",
    "    segment3_agg['before'] = segment3_agg['before'].round(1)\n",
    "    segment4_agg['before'] = segment4_agg['before'].round(1)\n",
    "    segment1_agg['after'] = segment1_agg['after'].round(1)\n",
    "    segment2_agg['after'] = segment2_agg['after'].round(1)\n",
    "    segment3_agg['after'] = segment3_agg['after'].round(1)\n",
    "    segment4_agg['after'] = segment4_agg['after'].round(1)\n",
    "    \n",
    "    pd.set_option('display.max_colwidth', 3000)\n",
    "    print ('energy burden (%) before and after upgrade')\n",
    "    print('segment1')\n",
    "    print(segment1_agg[['before', 'after']])\n",
    "    print('segment2')\n",
    "    print(segment2_agg[['before', 'after']])\n",
    "    print('segment3')\n",
    "    print(segment3_agg[['before', 'after']])\n",
    "    print('segment4')\n",
    "    print(segment4_agg[['before', 'after']])\n",
    "  \n",
    "    #print ('energy burden (%) before and after upgrade')\n",
    "    #print('segment1')\n",
    "    #print ('baseline')\n",
    "    #print (segment1_agg.loc[segment1_agg['energy_burden_diff'].idxmax()]['baseline_energy_burden_2023_cbills.%'])\n",
    "    #print (segment1_agg.loc[segment1_agg['energy_burden_diff'].idxmax()]['upgrade_name'])\n",
    "    #print (segment1_agg.loc[segment1_agg['energy_burden_diff'].idxmax()][indicator])\n",
    "    #print('segment2')\n",
    "    #print ('baseline')\n",
    "    #print (segment2_agg.loc[segment2_agg['energy_burden_diff'].idxmax()]['baseline_energy_burden_2023_cbills.%'])\n",
    "    #print (segment2_agg.loc[segment2_agg['energy_burden_diff'].idxmax()]['upgrade_name'])\n",
    "    #print (segment2_agg.loc[segment2_agg['energy_burden_diff'].idxmax()][indicator])\n",
    "    #print('segment3')\n",
    "    #print ('baseline')\n",
    "    #print (segment3_agg.loc[segment3_agg['energy_burden_diff'].idxmax()]['baseline_energy_burden_2023_cbills.%'])\n",
    "    #print (segment3_agg.loc[segment3_agg['energy_burden_diff'].idxmax()]['upgrade_name'])\n",
    "    #print (segment3_agg.loc[segment3_agg['energy_burden_diff'].idxmax()][indicator])\n",
    "    #print('segment4')\n",
    "    #print ('baseline')\n",
    "    #print (segment4_agg.loc[segment4_agg['energy_burden_diff'].idxmax()]['baseline_energy_burden_2023_cbills.%'])\n",
    "    #print (segment4_agg.loc[segment4_agg['energy_burden_diff'].idxmax()]['upgrade_name'])\n",
    "    #print (segment4_agg.loc[segment4_agg['energy_burden_diff'].idxmax()][indicator])\n",
    "\n",
    "figure_most_impact_package_mean_energy_burden('post-upgrade_energy_burden_2023_cbills.%', community_results) "
   ]
  },
  {
   "cell_type": "code",
   "execution_count": null,
   "id": "80a66ba1",
   "metadata": {},
   "outputs": [],
   "source": []
  }
 ],
 "metadata": {
  "kernelspec": {
   "display_name": "Python 3 (ipykernel)",
   "language": "python",
   "name": "python3"
  },
  "language_info": {
   "codemirror_mode": {
    "name": "ipython",
    "version": 3
   },
   "file_extension": ".py",
   "mimetype": "text/x-python",
   "name": "python",
   "nbconvert_exporter": "python",
   "pygments_lexer": "ipython3",
   "version": "3.9.13"
  }
 },
 "nbformat": 4,
 "nbformat_minor": 5
}
