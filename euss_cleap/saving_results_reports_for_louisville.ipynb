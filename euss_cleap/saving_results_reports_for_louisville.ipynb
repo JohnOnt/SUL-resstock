{
 "cells": [
  {
   "cell_type": "code",
   "execution_count": 59,
   "id": "db22b178",
   "metadata": {},
   "outputs": [],
   "source": [
    "import plotly.graph_objects as go\n",
    "from plotly.subplots import make_subplots\n",
    "import plotly.express as px\n",
    "import pandas as pd\n",
    "import numpy as np\n",
    "from pathlib import Path"
   ]
  },
  {
   "cell_type": "markdown",
   "id": "4d6ffd8b",
   "metadata": {},
   "source": [
    "# Functions"
   ]
  },
  {
   "cell_type": "markdown",
   "id": "e2c92a98",
   "metadata": {},
   "source": [
    "## Whole Community Upgrade Cost Per Dwelling Unit"
   ]
  },
  {
   "cell_type": "code",
   "execution_count": 60,
   "id": "db8bfb6a",
   "metadata": {},
   "outputs": [],
   "source": [
    "def community_mean_upgrade_cost(commnity_results):\n",
    "    results = commnity_results[['upgrade_name',\n",
    "                       'upgrade_cost_usd',\n",
    "                                'sample_weight']]\n",
    "    results = results.loc[results['upgrade_name'] != 'baseline']\n",
    "    results['upgrade_cost_usd'] = results['upgrade_cost_usd']*results['sample_weight']\n",
    "    \n",
    "    agg_functions = {'upgrade_name': 'first',\n",
    "                     'upgrade_cost_usd': 'sum',\n",
    "                    'sample_weight': 'sum'}\n",
    "    results = results.groupby(results['upgrade_name']).aggregate(agg_functions)\n",
    "    results['upgrade_cost_usd'] = results['upgrade_cost_usd']/results['sample_weight']\n",
    "    results = results.sort_values('upgrade_cost_usd')\n",
    "    results['upgrade_cost_usd'] = results['upgrade_cost_usd'].round(1) \n",
    "    \n",
    "    print('upgrade_cost_usd per dwelling unit')\n",
    "    print(results['upgrade_cost_usd'])\n",
    "    return results['upgrade_cost_usd']"
   ]
  },
  {
   "cell_type": "markdown",
   "id": "0a8130e7",
   "metadata": {},
   "source": [
    "## Whole Community Total Annual Savings"
   ]
  },
  {
   "cell_type": "code",
   "execution_count": 61,
   "id": "eaa95d01",
   "metadata": {},
   "outputs": [],
   "source": [
    "# flavor 1 - with electricity and non-electricity split\n",
    "def figure_total_savings_1(commnity_results):\n",
    "    results = commnity_results[['upgrade_name',\n",
    "                       'saving_energy.electricity_kwh',\n",
    "                      'saving_energy.natural_gas_therm',\n",
    "                                'saving_energy.fuel_oil_mmbtu',\n",
    "                                'saving_energy.propane_mmbtu',\n",
    "                       'saving_cbill.total_usd',\n",
    "                       'saving_emission.total_kgCO2e',\n",
    "                                'sample_weight']]\n",
    "    results = results.loc[results['upgrade_name'] != 'baseline']\n",
    "    results['saving_energy.natural_gas_fuel_oil_propane_mmbtu'] = results['saving_energy.natural_gas_therm']*0.1 + results['saving_energy.fuel_oil_mmbtu']+ results['saving_energy.propane_mmbtu']\n",
    "    results['saving_energy.electricity_kwh'] = results['saving_energy.electricity_kwh']*results['sample_weight']\n",
    "    results['saving_energy.natural_gas_fuel_oil_propane_mmbtu'] = results['saving_energy.natural_gas_fuel_oil_propane_mmbtu']*results['sample_weight']\n",
    "    results['saving_cbill.total_usd'] = results['saving_cbill.total_usd']*results['sample_weight']\n",
    "    results['saving_emission.total_kgCO2e'] = results['saving_emission.total_kgCO2e']*results['sample_weight']\n",
    "    \n",
    "    agg_functions = {'upgrade_name': 'first',\n",
    "                     'saving_energy.electricity_kwh': 'sum',\n",
    "                     'saving_energy.natural_gas_fuel_oil_propane_mmbtu': 'sum', \n",
    "                     'saving_cbill.total_usd': 'sum',\n",
    "                     'saving_emission.total_kgCO2e': 'sum'}\n",
    "    results = results.groupby(results['upgrade_name']).aggregate(agg_functions)\n",
    "    results = results.sort_values('saving_cbill.total_usd')\n",
    "    \n",
    "    fig = make_subplots(rows=1, cols=5, horizontal_spacing=0.12, column_widths=[0.001, 1, 1, 1, 1])\n",
    "    \n",
    "    fig.add_trace(go.Bar(\n",
    "        x=[0] * 176,\n",
    "        y=results['upgrade_name'],\n",
    "        text=None,\n",
    "        orientation='h'), row=1, col=1)\n",
    "    \n",
    "    fig.add_trace(go.Bar(\n",
    "        x=results['saving_cbill.total_usd'],\n",
    "        y=results['upgrade_name'],\n",
    "        text=results['saving_cbill.total_usd'],\n",
    "        orientation='h'), row=1, col=2)\n",
    "    \n",
    "    fig.add_trace(go.Bar(\n",
    "        x=results['saving_emission.total_kgCO2e'],\n",
    "        y=results['upgrade_name'],\n",
    "        text=results['saving_emission.total_kgCO2e'],\n",
    "        orientation='h'),row=1, col=3)\n",
    "    \n",
    "    fig.add_trace(go.Bar(\n",
    "        x=results['saving_energy.electricity_kwh'],\n",
    "        y=results['upgrade_name'],\n",
    "        text=results['saving_energy.electricity_kwh'],\n",
    "        orientation='h'),row=1, col=4)\n",
    "    \n",
    "    fig.add_trace(go.Bar(\n",
    "        x=results['saving_energy.natural_gas_fuel_oil_propane_mmbtu'],\n",
    "        y=results['upgrade_name'],\n",
    "        text=results['saving_energy.natural_gas_fuel_oil_propane_mmbtu'],\n",
    "        orientation='h'),row=1, col=5)\n",
    "\n",
    "    fig.update_traces(textfont_size=10, textangle=0, textposition=\"outside\", cliponaxis=False)\n",
    "    fig.update_traces(marker_color='rgb(0, 121, 61)', marker_line_color='rgb(0, 121, 61)')\n",
    "    fig.update_traces(marker_color='rgb(255, 255, 255)', marker_line_color='rgb(255, 255, 255)',row=1,col=1)\n",
    "    fig.update_traces(texttemplate='%{text:.3s}', textposition='outside',row=1,col=2)\n",
    "    fig.update_traces(texttemplate='%{text:.3s}', textposition='outside',row=1,col=3)\n",
    "    fig.update_traces(texttemplate='%{text:.3s}', textposition='outside',row=1,col=4)\n",
    "    fig.update_traces(texttemplate='%{text:.3s}', textposition='outside',row=1,col=5)\n",
    "    fig.update_layout(xaxis_title=\"\", xaxis_visible=False, yaxis_visible=True,\n",
    "                      xaxis2_title=\"Bill<br>Savings<br>usd\", xaxis2_visible=True, yaxis2_visible=False,\n",
    "                      xaxis3_title=\"Emission<br>Savings<br>kgCO2e\", xaxis3_visible=True, yaxis3_visible=False,\n",
    "                      xaxis4_title=\"Electricity<br>Savings<br>kwh\", xaxis4_visible=True, yaxis4_visible=False,\n",
    "                      xaxis5_title=\"Gas, Propane,<br>Fuel Oil Savings<br>mmbtu\", xaxis5_visible=True, yaxis5_visible=False,\n",
    "                     title='Total Annual Savings for the Whole Community')\n",
    "    fig.update_layout(\n",
    "    autosize=False,\n",
    "    width=900,\n",
    "    height=500,\n",
    "    font=dict(size=10),\n",
    "    plot_bgcolor='rgba(0, 0, 0, 0)',)\n",
    "    fig.update_xaxes(tickangle=45)\n",
    "    fig.update_layout(showlegend=False)\n",
    "    \n",
    "    fig.show()\n",
    "    fig.write_image(fig_dir / 'total_annual_savings_1.svg')    \n",
    "\n",
    "# flavor 2 - site, electricity, and non-electricity\n",
    "def figure_total_savings_2(commnity_results):\n",
    "    results = commnity_results[[\n",
    "        'upgrade_name',\n",
    "        'saving_energy.total_mmbtu',\n",
    "        'saving_energy.electricity_kwh',\n",
    "        'saving_energy.natural_gas_therm',\n",
    "        'saving_energy.fuel_oil_mmbtu',\n",
    "        'saving_energy.propane_mmbtu',\n",
    "        'saving_cbill.total_usd',\n",
    "        'saving_emission.total_kgCO2e',\n",
    "        'sample_weight']]\n",
    "    results = results.loc[results['upgrade_name'] != 'baseline']\n",
    "    results['saving_energy.natural_gas_fuel_oil_propane_mmbtu'] = results['saving_energy.natural_gas_therm']*0.1 + results['saving_energy.fuel_oil_mmbtu']+ results['saving_energy.propane_mmbtu']\n",
    "    results['saving_energy.electricity_kwh'] = results['saving_energy.electricity_kwh']*results['sample_weight']\n",
    "    results['saving_energy.natural_gas_fuel_oil_propane_mmbtu'] = results['saving_energy.natural_gas_fuel_oil_propane_mmbtu']*results['sample_weight']\n",
    "    results['saving_cbill.total_usd'] = results['saving_cbill.total_usd']*results['sample_weight']\n",
    "    results['saving_emission.total_kgCO2e'] = results['saving_emission.total_kgCO2e']*results['sample_weight']\n",
    "    \n",
    "    agg_functions = {'upgrade_name': 'first',\n",
    "                     'saving_energy.electricity_kwh': 'sum',\n",
    "                     'saving_energy.natural_gas_fuel_oil_propane_mmbtu': 'sum', \n",
    "                      'saving_energy.total_mmbtu': 'sum', \n",
    "                     'saving_cbill.total_usd': 'sum',\n",
    "                     'saving_emission.total_kgCO2e': 'sum'}\n",
    "    results = results.groupby(results['upgrade_name']).aggregate(agg_functions)\n",
    "    results = results.sort_values('saving_cbill.total_usd')\n",
    "    \n",
    "    fig = make_subplots(rows=1, cols=6, horizontal_spacing=0.12, column_widths=[0.001, 1, 1, 1, 1, 1])\n",
    "    \n",
    "    fig.add_trace(go.Bar(\n",
    "        x=[0] * 176,\n",
    "        y=results['upgrade_name'],\n",
    "        text=None,\n",
    "        orientation='h'), row=1, col=1)\n",
    "    \n",
    "    fig.add_trace(go.Bar(\n",
    "        x=results['saving_cbill.total_usd'],\n",
    "        y=results['upgrade_name'],\n",
    "        text=results['saving_cbill.total_usd'],\n",
    "        orientation='h'), row=1, col=2)\n",
    "    \n",
    "    fig.add_trace(go.Bar(\n",
    "        x=results['saving_emission.total_kgCO2e'],\n",
    "        y=results['upgrade_name'],\n",
    "        text=results['saving_emission.total_kgCO2e'],\n",
    "        orientation='h'),row=1, col=3)\n",
    "\n",
    "    fig.add_trace(go.Bar(\n",
    "        x=results['saving_energy.total_mmbtu'],\n",
    "        y=results['upgrade_name'],\n",
    "        text=results['saving_energy.total_mmbtu'],\n",
    "        orientation='h'),row=1, col=4)\n",
    "    \n",
    "    fig.add_trace(go.Bar(\n",
    "        x=results['saving_energy.electricity_kwh'],\n",
    "        y=results['upgrade_name'],\n",
    "        text=results['saving_energy.electricity_kwh'],\n",
    "        orientation='h'),row=1, col=5)\n",
    "    \n",
    "    fig.add_trace(go.Bar(\n",
    "        x=results['saving_energy.natural_gas_fuel_oil_propane_mmbtu'],\n",
    "        y=results['upgrade_name'],\n",
    "        text=results['saving_energy.natural_gas_fuel_oil_propane_mmbtu'],\n",
    "        orientation='h'),row=1, col=6)\n",
    "\n",
    "    fig.update_traces(textfont_size=10, textangle=0, textposition=\"outside\", cliponaxis=False)\n",
    "    fig.update_traces(marker_color='rgb(0, 121, 61)', marker_line_color='rgb(0, 121, 61)')\n",
    "    fig.update_traces(marker_color='rgb(255, 255, 255)', marker_line_color='rgb(255, 255, 255)',row=1,col=1)\n",
    "    fig.update_traces(texttemplate='%{text:.3s}', textposition='outside',row=1,col=2)\n",
    "    fig.update_traces(texttemplate='%{text:.3s}', textposition='outside',row=1,col=3)\n",
    "    fig.update_traces(texttemplate='%{text:.3s}', textposition='outside',row=1,col=4)\n",
    "    fig.update_traces(texttemplate='%{text:.3s}', textposition='outside',row=1,col=5)\n",
    "    fig.update_traces(texttemplate='%{text:.3s}', textposition='outside',row=1,col=6)\n",
    "    fig.update_layout(xaxis_title=\"\", xaxis_visible=False, yaxis_visible=True,\n",
    "                      xaxis2_title=\"Bill<br>Savings<br>usd\", xaxis2_visible=True, yaxis2_visible=False,\n",
    "                      xaxis3_title=\"Site Emission<br>Saving<br>kgCO2e\", xaxis3_visible=True, yaxis3_visible=False,\n",
    "                      xaxis4_title=\"Site Energy<br>Saving<br>mmbtu\", xaxis4_visible=True, yaxis4_visible=False,\n",
    "                      xaxis5_title=\"Electricity<br>Saving<br>kwh\", xaxis5_visible=True, yaxis5_visible=False,\n",
    "                      xaxis6_title=\"Gas, Propane,<br>Fuel Oil Saving<br>mmbtu\", xaxis6_visible=True, yaxis6_visible=False,\n",
    "                     title='Community Total Annual Savings')\n",
    "    fig.update_layout(\n",
    "    autosize=False,\n",
    "    width=1100,\n",
    "    height=500,\n",
    "    font=dict(size=10),\n",
    "    plot_bgcolor='rgba(0, 0, 0, 0)',)\n",
    "    fig.update_xaxes(tickangle=45)\n",
    "    fig.update_layout(showlegend=False)\n",
    "    \n",
    "    fig.show()\n",
    "    fig.write_image(fig_dir / 'total_annual_savings_2.svg')\n",
    "    \n",
    "    return results[['saving_cbill.total_usd','saving_emission.total_kgCO2e','saving_energy.total_mmbtu','saving_energy.electricity_kwh','saving_energy.natural_gas_fuel_oil_propane_mmbtu']]\n",
    "\n",
    "# flavor 3 - site energy only\n",
    "def figure_total_savings_3(commnity_results):\n",
    "    results = commnity_results[[\n",
    "        'upgrade_name',\n",
    "        'saving_energy.total_mmbtu',\n",
    "        'saving_cbill.total_usd',\n",
    "        'saving_emission.total_kgCO2e',\n",
    "        'sample_weight']]\n",
    "    results = results.loc[results['upgrade_name'] != 'baseline']\n",
    "    results['saving_energy.total_mmbtu'] = results['saving_energy.total_mmbtu']*results['sample_weight']\n",
    "    results['saving_cbill.total_usd'] = results['saving_cbill.total_usd']*results['sample_weight']\n",
    "    results['saving_emission.total_kgCO2e'] = results['saving_emission.total_kgCO2e']*results['sample_weight']\n",
    "    \n",
    "    agg_functions = {'upgrade_name': 'first',\n",
    "                     'saving_energy.total_mmbtu': 'sum', \n",
    "                     'saving_cbill.total_usd': 'sum',\n",
    "                     'saving_emission.total_kgCO2e': 'sum'}\n",
    "    results = results.groupby(results['upgrade_name']).aggregate(agg_functions)\n",
    "    results = results.sort_values('saving_cbill.total_usd')\n",
    "    \n",
    "    fig = make_subplots(rows=1, cols=4, horizontal_spacing=0.1, column_widths=[0.02, 1, 1, 1])\n",
    "    \n",
    "    fig.add_trace(go.Bar(\n",
    "        x=[0] * 176,\n",
    "        y=results['upgrade_name'],\n",
    "        text=None,\n",
    "        orientation='h'), row=1, col=1)\n",
    "    \n",
    "    fig.add_trace(go.Bar(\n",
    "        x=results['saving_cbill.total_usd'],\n",
    "        y=results['upgrade_name'],\n",
    "        text=results['saving_cbill.total_usd'],\n",
    "        orientation='h'), row=1, col=2)\n",
    "    \n",
    "    fig.add_trace(go.Bar(\n",
    "        x=results['saving_emission.total_kgCO2e'],\n",
    "        y=results['upgrade_name'],\n",
    "        text=results['saving_emission.total_kgCO2e'],\n",
    "        orientation='h'),row=1, col=3)\n",
    "    \n",
    "    fig.add_trace(go.Bar(\n",
    "        x=results['saving_energy.total_mmbtu'],\n",
    "        y=results['upgrade_name'],\n",
    "        text=results['saving_energy.total_mmbtu'],\n",
    "        orientation='h'),row=1, col=4)\n",
    "\n",
    "    fig.update_traces(textfont_size=10, textangle=0, textposition=\"outside\", cliponaxis=False)\n",
    "    fig.update_traces(marker_color='rgb(0, 121, 61)', marker_line_color='rgb(0, 121, 61)')\n",
    "    fig.update_traces(marker_color='rgb(255, 255, 255)', marker_line_color='rgb(255, 255, 255)',row=1,col=1)\n",
    "    fig.update_traces(texttemplate='%{text:.3s}', textposition='outside',row=1,col=2)\n",
    "    fig.update_traces(texttemplate='%{text:.3s}', textposition='outside',row=1,col=3)\n",
    "    fig.update_traces(texttemplate='%{text:.3s}', textposition='outside',row=1,col=4)\n",
    "    fig.update_layout(xaxis_title=\"\", xaxis_visible=False, yaxis_visible=True,\n",
    "                      xaxis2_title=\"Bill Savings<br>usd\", xaxis2_visible=True, yaxis2_visible=False,\n",
    "                      xaxis3_title=\"Emission Savings<br>kgCO2e\", xaxis3_visible=True, yaxis3_visible=False,\n",
    "                      xaxis4_title=\"Energy Savings<br>mmbtu\", xaxis4_visible=True, yaxis4_visible=False,\n",
    "                     title='Total Annual Savings for the Whole Community')\n",
    "    fig.update_layout(\n",
    "    autosize=False,\n",
    "    width=850,\n",
    "    height=500,\n",
    "    font=dict(size=10),\n",
    "    plot_bgcolor='rgba(0, 0, 0, 0)',)\n",
    "    fig.update_xaxes(tickangle=45)\n",
    "    fig.update_layout(showlegend=False)\n",
    "    \n",
    "    fig.show()\n",
    "    fig.write_image(fig_dir / 'total_annual_savings_3.svg')"
   ]
  },
  {
   "cell_type": "markdown",
   "id": "5e598a0f",
   "metadata": {},
   "source": [
    "## Whole Community Annual Savings Per Dewlling Unit"
   ]
  },
  {
   "cell_type": "code",
   "execution_count": 62,
   "id": "7df58f8e",
   "metadata": {},
   "outputs": [],
   "source": [
    "def figure_mean_savings(commnity_results):\n",
    "    results = commnity_results[['upgrade_name',\n",
    "                       'saving_energy.total_mmbtu',\n",
    "                       'saving_cbill.total_usd',\n",
    "                       'saving_emission.total_kgCO2e',\n",
    "                                'sample_weight']]\n",
    "    results = results.loc[results['upgrade_name'] != 'baseline']\n",
    "    results['saving_energy.total_mmbtu'] = results['saving_energy.total_mmbtu']*results['sample_weight']\n",
    "    results['saving_cbill.total_usd'] = results['saving_cbill.total_usd']*results['sample_weight']\n",
    "    results['saving_emission.total_kgCO2e'] = results['saving_emission.total_kgCO2e']*results['sample_weight']\n",
    "    \n",
    "    agg_functions = {'upgrade_name': 'first',\n",
    "                     'saving_energy.total_mmbtu': 'sum', \n",
    "                     'saving_cbill.total_usd': 'sum',\n",
    "                     'saving_emission.total_kgCO2e': 'sum',\n",
    "                    'sample_weight': 'sum'}\n",
    "    results = results.groupby(results['upgrade_name']).aggregate(agg_functions)\n",
    "    results['saving_energy.total_mmbtu'] = results['saving_energy.total_mmbtu']/results['sample_weight']\n",
    "    results['saving_cbill.total_usd'] = results['saving_cbill.total_usd']/results['sample_weight']\n",
    "    results['saving_emission.total_kgCO2e'] = results['saving_emission.total_kgCO2e']/results['sample_weight']\n",
    "    results = results.sort_values('saving_cbill.total_usd')\n",
    "    \n",
    "    print('sample_weight')\n",
    "    print(results['sample_weight'])\n",
    "  \n",
    "    fig = make_subplots(rows=1, cols=4, horizontal_spacing=0.1, column_widths=[0.02, 1, 1, 1])\n",
    "    \n",
    "    fig.add_trace(go.Bar(\n",
    "        x=[0] * 176,\n",
    "        y=results['upgrade_name'],\n",
    "        text=None,\n",
    "        orientation='h'), row=1, col=1)\n",
    "    \n",
    "    fig.add_trace(go.Bar(\n",
    "        x=results['saving_cbill.total_usd'],\n",
    "        y=results['upgrade_name'],\n",
    "        text=results['saving_cbill.total_usd'],\n",
    "        orientation='h'), row=1, col=2)\n",
    "    \n",
    "    fig.add_trace(go.Bar(\n",
    "        x=results['saving_emission.total_kgCO2e'],\n",
    "        y=results['upgrade_name'],\n",
    "        text=results['saving_emission.total_kgCO2e'],\n",
    "        orientation='h'),row=1, col=3)\n",
    "    \n",
    "    fig.add_trace(go.Bar(\n",
    "        x=results['saving_energy.total_mmbtu'],\n",
    "        y=results['upgrade_name'],\n",
    "        text=results['saving_energy.total_mmbtu'],\n",
    "        orientation='h'),row=1, col=4)\n",
    "\n",
    "    fig.update_traces(textfont_size=10, textangle=0, textposition=\"outside\", cliponaxis=False)\n",
    "    fig.update_traces(marker_color='rgb(0, 121, 61)', marker_line_color='rgb(0, 121, 61)')\n",
    "    fig.update_traces(marker_color='rgb(255, 255, 255)', marker_line_color='rgb(255, 255, 255)',row=1,col=1)\n",
    "    fig.update_traces(texttemplate='%{text:.3s}', textposition='outside',row=1,col=2)\n",
    "    fig.update_traces(texttemplate='%{text:.3s}', textposition='outside',row=1,col=3)\n",
    "    fig.update_traces(texttemplate='%{text:.3s}', textposition='outside',row=1,col=4)\n",
    "    fig.update_layout(xaxis_title=\"\", xaxis_visible=False, yaxis_visible=True,\n",
    "                      xaxis2_title=\"Bill Savings<br>usd\", xaxis2_visible=True, yaxis2_visible=False,\n",
    "                      xaxis3_title=\"Emission Savings<br>kgCO2e\", xaxis3_visible=True, yaxis3_visible=False,\n",
    "                      xaxis4_title=\"Energy Savings<br>mmbtu\", xaxis4_visible=True, yaxis4_visible=False,\n",
    "                     title='Annual Savings Per Dwelling Unit')\n",
    "    fig.update_layout(\n",
    "    autosize=False,\n",
    "    width=850,\n",
    "    height=500,\n",
    "    font=dict(size=10),\n",
    "    plot_bgcolor='rgba(0, 0, 0, 0)',)\n",
    "    fig.update_xaxes(tickangle=45)\n",
    "    fig.update_layout(showlegend=False)\n",
    "    \n",
    "    fig.show()\n",
    "    fig.write_image(fig_dir / 'annual_saving_per_dwelling_unit.svg')\n",
    "    \n",
    "    return results[['saving_cbill.total_usd','saving_emission.total_kgCO2e','saving_energy.total_mmbtu']]"
   ]
  },
  {
   "cell_type": "markdown",
   "id": "629953b2",
   "metadata": {},
   "source": [
    "## Segment Upgrade Cost Per Dwelling Unit"
   ]
  },
  {
   "cell_type": "code",
   "execution_count": 63,
   "id": "b17b036c",
   "metadata": {},
   "outputs": [],
   "source": [
    "def segment_mean_upgrade_cost(commnity_results):\n",
    "    results = commnity_results[['upgrade_name',\n",
    "                       'upgrade_cost_usd',\n",
    "                                'sample_weight',\n",
    "                                'segment']]\n",
    "    results = results.loc[results['upgrade_name'] != 'baseline']\n",
    "    results['upgrade_cost_usd'] = results['upgrade_cost_usd']*results['sample_weight']\n",
    "    \n",
    "    segment1 = results.loc[results['segment'] == 'segment1']\n",
    "    segment2 = results.loc[results['segment'] == 'segment2']\n",
    "    segment3 = results.loc[results['segment'] == 'segment3']\n",
    "    segment4 = results.loc[results['segment'] == 'segment4']\n",
    "    \n",
    "    agg_functions = {'upgrade_name': 'first',\n",
    "                     'segment': 'first',\n",
    "                     'upgrade_cost_usd': 'sum',\n",
    "                    'sample_weight': 'sum'}\n",
    "    \n",
    "    segment1 = segment1.groupby(segment1['upgrade_name']).aggregate(agg_functions)\n",
    "    segment2 = segment2.groupby(segment2['upgrade_name']).aggregate(agg_functions)\n",
    "    segment3 = segment3.groupby(segment3['upgrade_name']).aggregate(agg_functions)\n",
    "    segment4 = segment4.groupby(segment4['upgrade_name']).aggregate(agg_functions)\n",
    "    \n",
    "    segment1['upgrade_cost_usd'] = segment1['upgrade_cost_usd']/segment1['sample_weight']\n",
    "    segment2['upgrade_cost_usd'] = segment2['upgrade_cost_usd']/segment2['sample_weight']\n",
    "    segment3['upgrade_cost_usd'] = segment3['upgrade_cost_usd']/segment3['sample_weight']\n",
    "    segment4['upgrade_cost_usd'] = segment4['upgrade_cost_usd']/segment4['sample_weight']\n",
    "    \n",
    "    segment1 = segment1.sort_values('upgrade_cost_usd')\n",
    "    segment2 = segment2.sort_values('upgrade_cost_usd')\n",
    "    segment3 = segment3.sort_values('upgrade_cost_usd')\n",
    "    segment4 = segment4.sort_values('upgrade_cost_usd')\n",
    "    \n",
    "    \n",
    "    segment1['upgrade_cost_usd'] = segment1['upgrade_cost_usd'].round(1)\n",
    "    segment2['upgrade_cost_usd'] = segment2['upgrade_cost_usd'].round(1)\n",
    "    segment3['upgrade_cost_usd'] = segment3['upgrade_cost_usd'].round(1)\n",
    "    segment4['upgrade_cost_usd'] = segment4['upgrade_cost_usd'].round(1)\n",
    "    \n",
    "    print('segment1: upgrade cost (usd) per dwelling unit')\n",
    "    print(segment1['upgrade_cost_usd'])\n",
    "    print('segment2: upgrade cost (usd) per dwelling unit')\n",
    "    print(segment2['upgrade_cost_usd'])\n",
    "    print('segment3: upgrade cost (usd) per dwelling unit')\n",
    "    print(segment3['upgrade_cost_usd'])\n",
    "    print('segment4: upgrade cost (usd) per dwelling unit')\n",
    "    print(segment4['upgrade_cost_usd'])\n",
    "    return (segment1['upgrade_cost_usd'], segment2['upgrade_cost_usd'], segment3['upgrade_cost_usd'], segment4['upgrade_cost_usd'])"
   ]
  },
  {
   "cell_type": "markdown",
   "id": "2233e9eb",
   "metadata": {},
   "source": [
    "## Segment Savings Per Dollar Invested"
   ]
  },
  {
   "cell_type": "code",
   "execution_count": 64,
   "id": "b63f0b29",
   "metadata": {},
   "outputs": [],
   "source": [
    "def segment_savings_per_dollar(indicator, commnity_results):\n",
    "    \n",
    "    results = commnity_results[['upgrade_name', indicator, 'upgrade_cost_usd', 'sample_weight', 'segment']]\n",
    "    results = results.loc[results['upgrade_name'] != 'baseline']\n",
    "    results[indicator] = results[indicator]*results['sample_weight']\n",
    "    results['upgrade_cost_usd'] = results['upgrade_cost_usd']*results['sample_weight']\n",
    "    \n",
    "    segment1 = results.loc[results['segment'] == 'segment1']\n",
    "    segment2 = results.loc[results['segment'] == 'segment2']\n",
    "    segment3 = results.loc[results['segment'] == 'segment3']\n",
    "    segment4 = results.loc[results['segment'] == 'segment4']\n",
    "    \n",
    "    agg_functions = {'upgrade_name': 'first',\n",
    "                     indicator: 'sum',\n",
    "                     'upgrade_cost_usd': 'sum',\n",
    "                     'sample_weight': 'sum'}\n",
    "    \n",
    "    segment1_agg = segment1.groupby(segment1['upgrade_name']).aggregate(agg_functions)\n",
    "    segment2_agg = segment2.groupby(segment2['upgrade_name']).aggregate(agg_functions)\n",
    "    segment3_agg = segment3.groupby(segment3['upgrade_name']).aggregate(agg_functions)\n",
    "    segment4_agg = segment4.groupby(segment4['upgrade_name']).aggregate(agg_functions)\n",
    "    \n",
    "    segment1_agg[indicator] = segment1_agg[indicator]/segment1_agg['upgrade_cost_usd']\n",
    "    segment2_agg[indicator] = segment2_agg[indicator]/segment2_agg['upgrade_cost_usd']\n",
    "    segment3_agg[indicator] = segment3_agg[indicator]/segment3_agg['upgrade_cost_usd']\n",
    "    segment4_agg[indicator] = segment4_agg[indicator]/segment4_agg['upgrade_cost_usd']\n",
    "    \n",
    "    segment1_agg = segment1_agg.sort_values([indicator], ascending=False)\n",
    "    segment2_agg = segment2_agg.sort_values([indicator], ascending=False)\n",
    "    segment3_agg = segment3_agg.sort_values([indicator], ascending=False)\n",
    "    segment4_agg = segment4_agg.sort_values([indicator], ascending=False)\n",
    "    \n",
    "    segment1_agg[indicator] = segment1_agg[indicator].round(5)\n",
    "    segment2_agg[indicator] = segment2_agg[indicator].round(5)\n",
    "    segment3_agg[indicator] = segment3_agg[indicator].round(5)\n",
    "    segment4_agg[indicator] = segment4_agg[indicator].round(5)\n",
    "    \n",
    "    print('segment1')\n",
    "    print(segment1_agg[indicator])\n",
    "    print('segment2')\n",
    "    print(segment2_agg[indicator])\n",
    "    print('segment3')\n",
    "    print(segment3_agg[indicator])\n",
    "    print('segment4')\n",
    "    print(segment4_agg[indicator]) \n",
    "    \n",
    "    return (segment1_agg[indicator],segment2_agg[indicator],segment3_agg[indicator],segment4_agg[indicator])"
   ]
  },
  {
   "cell_type": "markdown",
   "id": "4578ff09",
   "metadata": {},
   "source": [
    "## Segment Annual Total Savings"
   ]
  },
  {
   "cell_type": "code",
   "execution_count": 65,
   "id": "f1de1889",
   "metadata": {},
   "outputs": [],
   "source": [
    "def segment_annual_total_savings(indicator, commnity_results):\n",
    "    \n",
    "    results = commnity_results[['upgrade_name', indicator, 'sample_weight', 'segment']]\n",
    "    results = results.loc[results['upgrade_name'] != 'baseline']\n",
    "    results[indicator] = results[indicator]*results['sample_weight']\n",
    "    \n",
    "    segment1 = results.loc[results['segment'] == 'segment1']\n",
    "    segment2 = results.loc[results['segment'] == 'segment2']\n",
    "    segment3 = results.loc[results['segment'] == 'segment3']\n",
    "    segment4 = results.loc[results['segment'] == 'segment4']\n",
    "    \n",
    "    agg_functions = {'upgrade_name': 'first',\n",
    "                     indicator: 'sum',\n",
    "                    'sample_weight': 'sum'}\n",
    "    \n",
    "    segment1_agg = segment1.groupby(segment1['upgrade_name']).aggregate(agg_functions)\n",
    "    segment2_agg = segment2.groupby(segment2['upgrade_name']).aggregate(agg_functions)\n",
    "    segment3_agg = segment3.groupby(segment3['upgrade_name']).aggregate(agg_functions)\n",
    "    segment4_agg = segment4.groupby(segment4['upgrade_name']).aggregate(agg_functions)\n",
    "    \n",
    "    segment1_agg = segment1_agg.sort_values([indicator], ascending=False)\n",
    "    segment2_agg = segment2_agg.sort_values([indicator], ascending=False)\n",
    "    segment3_agg = segment3_agg.sort_values([indicator], ascending=False)\n",
    "    segment4_agg = segment4_agg.sort_values([indicator], ascending=False)\n",
    "    \n",
    "    segment1_agg[indicator] = segment1_agg[indicator].round(1)\n",
    "    segment2_agg[indicator] = segment2_agg[indicator].round(1)\n",
    "    segment3_agg[indicator] = segment3_agg[indicator].round(1)\n",
    "    segment4_agg[indicator] = segment4_agg[indicator].round(1)\n",
    "\n",
    "    print('segment1')\n",
    "    print(segment1_agg[indicator])\n",
    "    print('segment2')\n",
    "    print(segment2_agg[indicator])\n",
    "    print('segment3')\n",
    "    print(segment3_agg[indicator])\n",
    "    print('segment4')\n",
    "    print(segment4_agg[indicator])\n",
    "    \n",
    "    return (segment1_agg[indicator],segment2_agg[indicator],segment3_agg[indicator],segment4_agg[indicator])"
   ]
  },
  {
   "cell_type": "markdown",
   "id": "102d90f1",
   "metadata": {},
   "source": [
    "## Segment Annual Savings Per Dwelling Unit"
   ]
  },
  {
   "cell_type": "code",
   "execution_count": 66,
   "id": "6b74793b",
   "metadata": {},
   "outputs": [],
   "source": [
    "def segment_mean_savings(indicator, commnity_results):\n",
    "    \n",
    "    results = commnity_results[['upgrade_name', indicator, 'sample_weight', 'segment']]\n",
    "    results = results.loc[results['upgrade_name'] != 'baseline']\n",
    "    results[indicator] = results[indicator]*results['sample_weight']\n",
    "    \n",
    "    segment1 = results.loc[results['segment'] == 'segment1']\n",
    "    segment2 = results.loc[results['segment'] == 'segment2']\n",
    "    segment3 = results.loc[results['segment'] == 'segment3']\n",
    "    segment4 = results.loc[results['segment'] == 'segment4']\n",
    "    \n",
    "    agg_functions = {'upgrade_name': 'first',\n",
    "                     indicator: 'sum',\n",
    "                    'sample_weight': 'sum'}\n",
    "    \n",
    "    segment1_agg = segment1.groupby(segment1['upgrade_name']).aggregate(agg_functions)\n",
    "    segment2_agg = segment2.groupby(segment2['upgrade_name']).aggregate(agg_functions)\n",
    "    segment3_agg = segment3.groupby(segment3['upgrade_name']).aggregate(agg_functions)\n",
    "    segment4_agg = segment4.groupby(segment4['upgrade_name']).aggregate(agg_functions)\n",
    "    \n",
    "    segment1_agg[indicator] = segment1_agg[indicator]/segment1_agg['sample_weight']\n",
    "    segment2_agg[indicator] = segment2_agg[indicator]/segment2_agg['sample_weight']\n",
    "    segment3_agg[indicator] = segment3_agg[indicator]/segment3_agg['sample_weight']\n",
    "    segment4_agg[indicator] = segment4_agg[indicator]/segment4_agg['sample_weight']\n",
    "    \n",
    "    segment1_agg = segment1_agg.sort_values([indicator], ascending=False)\n",
    "    segment2_agg = segment2_agg.sort_values([indicator], ascending=False)\n",
    "    segment3_agg = segment3_agg.sort_values([indicator], ascending=False)\n",
    "    segment4_agg = segment4_agg.sort_values([indicator], ascending=False)\n",
    "    \n",
    "    segment1_agg[indicator] = segment1_agg[indicator].round(1)\n",
    "    segment2_agg[indicator] = segment2_agg[indicator].round(1)\n",
    "    segment3_agg[indicator] = segment3_agg[indicator].round(1)\n",
    "    segment4_agg[indicator] = segment4_agg[indicator].round(1)\n",
    "    \n",
    "    print('segment1')\n",
    "    print(segment1_agg[indicator])\n",
    "    print('segment2')\n",
    "    print(segment2_agg[indicator])\n",
    "    print('segment3')\n",
    "    print(segment3_agg[indicator])\n",
    "    print('segment4')\n",
    "    print(segment4_agg[indicator])\n",
    "    \n",
    "    return (segment1_agg[indicator],segment2_agg[indicator],segment3_agg[indicator],segment4_agg[indicator])"
   ]
  },
  {
   "cell_type": "markdown",
   "id": "4e3a051b",
   "metadata": {},
   "source": [
    "## Segment Percent Stock with Net Positive Savings"
   ]
  },
  {
   "cell_type": "code",
   "execution_count": 67,
   "id": "862cf0d7",
   "metadata": {},
   "outputs": [],
   "source": [
    "def figure_positive_negative_savings(segment, commnity_results):\n",
    "    results = commnity_results[['upgrade_name',\n",
    "                                  'saving_energy.total_mmbtu',\n",
    "                                  'saving_cbill.total_usd',\n",
    "                                  'saving_emission.total_kgCO2e',\n",
    "                                'sample_weight',\n",
    "                               'segment']]\n",
    "    results = results.loc[results['upgrade_name'] != 'baseline']\n",
    "    results = results.loc[results['segment'] == segment]\n",
    "    results = results.groupby(results['upgrade_name'])\n",
    "  \n",
    "    def pos(col): \n",
    "      return col[col > 0].count()\n",
    "  \n",
    "    def neg(col): \n",
    "      return col[col < 0].count() \n",
    "\n",
    "    percentage = pd.DataFrame()\n",
    "\n",
    "    bill = results['saving_cbill.total_usd'].agg([('negative_values', neg),('positive_values', pos)])\n",
    "    emission = results['saving_emission.total_kgCO2e'].agg([('negative_values', neg),('positive_values', pos)])\n",
    "    energy = results['saving_energy.total_mmbtu'].agg([('negative_values', neg),('positive_values', pos)])\n",
    "    \n",
    "    percentage ['cbill_n'] = bill['negative_values']/(bill['negative_values']+bill['positive_values'])\n",
    "    percentage ['cbill_p'] = bill['positive_values']/(bill['negative_values']+bill['positive_values'])\n",
    "    percentage ['emission_n'] = emission['negative_values']/(emission['negative_values']+emission['positive_values'])\n",
    "    percentage ['emission_p'] = emission['positive_values']/(emission['negative_values']+emission['positive_values'])\n",
    "    percentage ['energy_n'] = energy['negative_values']/(energy['negative_values']+energy['positive_values'])\n",
    "    percentage ['energy_p'] = energy['positive_values']/(energy['negative_values']+energy['positive_values'])\n",
    "    \n",
    "    \n",
    "    percentage = percentage.sort_values(('cbill_p'))\n",
    "    upgrade_name = percentage.index\n",
    "    \n",
    "    fig = make_subplots(rows=1, cols=3)\n",
    "    marker1= dict(color='red')\n",
    "    marker2= dict(color='green')\n",
    "    \n",
    "    fig.add_bar(y=upgrade_name, x=percentage ['cbill_n'], text=percentage ['cbill_n'],\n",
    "                orientation='h',name = \"Negative\",row=1, col=1, marker=marker1)\n",
    "    fig.add_bar(y=upgrade_name, x=percentage ['cbill_p'],text=percentage ['cbill_p'],\n",
    "                orientation='h', name = \"Positive\", row=1, col=1, marker=marker2)\n",
    "    \n",
    "    fig.add_bar(y=upgrade_name, x=percentage ['emission_n'], text=percentage ['emission_n'],\n",
    "                orientation='h',showlegend=False, row=1, col=2, marker=marker1)\n",
    "    fig.add_bar(y=upgrade_name, x=percentage ['emission_p'],text=percentage ['emission_p'],\n",
    "                orientation='h', showlegend=False, row=1, col=2, marker=marker2)\n",
    "    \n",
    "    fig.add_bar(y=upgrade_name, x=percentage ['energy_n'],text=percentage ['energy_n'],\n",
    "                orientation='h',showlegend=False, row=1, col=3, marker=marker1)\n",
    "    fig.add_bar(y=upgrade_name, x=percentage ['energy_p'],text=percentage ['energy_p'],\n",
    "                orientation='h', showlegend=False, row=1, col=3, marker=marker2)\n",
    "   \n",
    "  \n",
    "    fig.update_layout(barmode=\"relative\")\n",
    "    fig.update_traces(texttemplate='%{text:.0%}', textposition='inside')\n",
    "    \n",
    "    fig.update_layout(xaxis_title=\"Bill\", xaxis_visible=True, yaxis_visible=True,\n",
    "                      xaxis2_title=\"Emission\", xaxis2_visible=True, yaxis2_visible=False,\n",
    "                      xaxis3_title=\"Total Energy\", xaxis3_visible=True, yaxis3_visible=False,\n",
    "                      font=dict(size=10))\n",
    "    \n",
    "    fig.update_layout(\n",
    "        title='Percentage of Household in Positive and Negative Savings')\n",
    "    \n",
    "    fig.update_layout(\n",
    "    autosize=False,\n",
    "    width=1000,\n",
    "    height=500,\n",
    "    font=dict(size=10))\n",
    "    fig.layout.xaxis1.tickformat = ',.0%'\n",
    "    fig.layout.xaxis2.tickformat = ',.0%'\n",
    "    fig.layout.xaxis3.tickformat = ',.0%'\n",
    "    \n",
    "    fig.show()\n",
    "    fig.write_image(fig_dir / f'percentage_positive_saving_{segment}.svg')\n",
    "    return (percentage ['cbill_p'],percentage ['emission_p'],percentage ['energy_p'])"
   ]
  },
  {
   "cell_type": "markdown",
   "id": "63119384",
   "metadata": {},
   "source": [
    "## Segment Average Energy Burden (%) Before and after Upgrade."
   ]
  },
  {
   "cell_type": "code",
   "execution_count": 68,
   "id": "81da90ec",
   "metadata": {},
   "outputs": [],
   "source": [
    "def segment_mean_energy_burden(indicator, commnity_results):\n",
    "    \n",
    "    results = commnity_results[['upgrade_name', indicator, 'baseline_energy_burden_2023_cbills.%', 'sample_weight', 'segment']]\n",
    "    results.replace([np.inf, -np.inf], np.nan, inplace=True)\n",
    "    results.dropna(subset=['baseline_energy_burden_2023_cbills.%'], how=\"all\", inplace=True)\n",
    "    results[indicator] = results[indicator]*results['sample_weight']\n",
    "    results['baseline_energy_burden_2023_cbills.%'] = results['baseline_energy_burden_2023_cbills.%']*results['sample_weight']\n",
    "    \n",
    "    segment1 = results.loc[results['segment'] == 'segment1']\n",
    "    segment2 = results.loc[results['segment'] == 'segment2']\n",
    "    segment3 = results.loc[results['segment'] == 'segment3']\n",
    "    segment4 = results.loc[results['segment'] == 'segment4']\n",
    "    \n",
    "    agg_functions = {'upgrade_name': 'first',\n",
    "                     indicator: 'sum',\n",
    "                     'baseline_energy_burden_2023_cbills.%': 'sum',\n",
    "                    'sample_weight': 'sum'}\n",
    "    \n",
    "    segment1_agg = segment1.groupby(segment1['upgrade_name']).aggregate(agg_functions)\n",
    "    segment2_agg = segment2.groupby(segment2['upgrade_name']).aggregate(agg_functions)\n",
    "    segment3_agg = segment3.groupby(segment3['upgrade_name']).aggregate(agg_functions)\n",
    "    segment4_agg = segment4.groupby(segment4['upgrade_name']).aggregate(agg_functions)\n",
    "    \n",
    "    segment1_agg['baseline_energy_burden_2023_cbills.%'] = segment1_agg['baseline_energy_burden_2023_cbills.%']/segment1_agg['sample_weight']\n",
    "    segment2_agg['baseline_energy_burden_2023_cbills.%'] = segment2_agg['baseline_energy_burden_2023_cbills.%']/segment2_agg['sample_weight']\n",
    "    segment3_agg['baseline_energy_burden_2023_cbills.%'] = segment3_agg['baseline_energy_burden_2023_cbills.%']/segment3_agg['sample_weight']\n",
    "    segment4_agg['baseline_energy_burden_2023_cbills.%'] = segment4_agg['baseline_energy_burden_2023_cbills.%']/segment4_agg['sample_weight']\n",
    "    \n",
    "    segment1_agg[indicator] = segment1_agg[indicator]/segment1_agg['sample_weight']\n",
    "    segment2_agg[indicator] = segment2_agg[indicator]/segment2_agg['sample_weight']\n",
    "    segment3_agg[indicator] = segment3_agg[indicator]/segment3_agg['sample_weight']\n",
    "    segment4_agg[indicator] = segment4_agg[indicator]/segment4_agg['sample_weight']\n",
    "    \n",
    "    segment1_agg['energy_burden_diff'] = segment1_agg['baseline_energy_burden_2023_cbills.%'] - segment1_agg[indicator]\n",
    "    segment2_agg['energy_burden_diff'] = segment2_agg['baseline_energy_burden_2023_cbills.%'] - segment2_agg[indicator]\n",
    "    segment3_agg['energy_burden_diff'] = segment3_agg['baseline_energy_burden_2023_cbills.%'] - segment3_agg[indicator]\n",
    "    segment4_agg['energy_burden_diff'] = segment4_agg['baseline_energy_burden_2023_cbills.%'] - segment4_agg[indicator]\n",
    "    \n",
    "    segment1_agg = segment1_agg.sort_values(['energy_burden_diff'], ascending=False)\n",
    "    segment2_agg = segment2_agg.sort_values(['energy_burden_diff'], ascending=False)\n",
    "    segment3_agg = segment3_agg.sort_values(['energy_burden_diff'], ascending=False)\n",
    "    segment4_agg = segment4_agg.sort_values(['energy_burden_diff'], ascending=False)\n",
    "    \n",
    "    segment1_agg = segment1_agg[segment1_agg.upgrade_name != 'baseline']\n",
    "    segment2_agg = segment2_agg[segment2_agg.upgrade_name != 'baseline']\n",
    "    segment3_agg = segment3_agg[segment3_agg.upgrade_name != 'baseline']\n",
    "    segment4_agg = segment4_agg[segment4_agg.upgrade_name != 'baseline']\n",
    "    \n",
    "    segment1_agg = segment1_agg.rename(columns={'baseline_energy_burden_2023_cbills.%': 'before', indicator: 'after'})\n",
    "    segment2_agg = segment2_agg.rename(columns={'baseline_energy_burden_2023_cbills.%': 'before', indicator: 'after'})\n",
    "    segment3_agg = segment3_agg.rename(columns={'baseline_energy_burden_2023_cbills.%': 'before', indicator: 'after'})\n",
    "    segment4_agg = segment4_agg.rename(columns={'baseline_energy_burden_2023_cbills.%': 'before', indicator: 'after'})\n",
    "    \n",
    "    segment1_agg['before'] = segment1_agg['before'].round(1)\n",
    "    segment2_agg['before'] = segment2_agg['before'].round(1)\n",
    "    segment3_agg['before'] = segment3_agg['before'].round(1)\n",
    "    segment4_agg['before'] = segment4_agg['before'].round(1)\n",
    "    segment1_agg['after'] = segment1_agg['after'].round(1)\n",
    "    segment2_agg['after'] = segment2_agg['after'].round(1)\n",
    "    segment3_agg['after'] = segment3_agg['after'].round(1)\n",
    "    segment4_agg['after'] = segment4_agg['after'].round(1)\n",
    "    \n",
    "    print ('energy burden (%) before and after upgrade')\n",
    "    print('segment1')\n",
    "    print(segment1_agg[['before', 'after']])\n",
    "    print('segment2')\n",
    "    print(segment2_agg[['before', 'after']])\n",
    "    print('segment3')\n",
    "    print(segment3_agg[['before', 'after']])\n",
    "    print('segment4')\n",
    "    print(segment4_agg[['before', 'after']])\n",
    "    \n",
    "    return(segment1_agg[['before', 'after']],segment2_agg[['before', 'after']],segment3_agg[['before', 'after']],segment4_agg[['before', 'after']])"
   ]
  },
  {
   "cell_type": "code",
   "execution_count": 69,
   "id": "97b37ad7",
   "metadata": {},
   "outputs": [],
   "source": [
    "community = 'louisville'\n",
    "fig_dir = Path(\".\").resolve() / \"results\" / community\n",
    "community_results = pd.read_parquet(f\"data_/community_building_samples_with_upgrade_cost_and_bill/{community}/processed_upgrade_results.parquet\")\n",
    "saving_results = pd.DataFrame()"
   ]
  },
  {
   "cell_type": "markdown",
   "id": "712ba191",
   "metadata": {},
   "source": [
    "# 1. Results for Whole Community"
   ]
  },
  {
   "cell_type": "markdown",
   "id": "825d991e",
   "metadata": {},
   "source": [
    "## 1.1 Upgrade Cost Per Dwelling Unit"
   ]
  },
  {
   "cell_type": "code",
   "execution_count": 70,
   "id": "d2f8640e",
   "metadata": {},
   "outputs": [
    {
     "name": "stdout",
     "output_type": "stream",
     "text": [
      "upgrade_cost_usd per dwelling unit\n",
      "upgrade_name\n",
      "Electric Cooking                                                    1000.8\n",
      "Electric Clothes Dryer                                              1123.9\n",
      "Induction Cooking                                                   1720.9\n",
      "Heat Pump Clothes Dryer                                             2261.5\n",
      "Heat Pump Water Heater                                              2826.5\n",
      "Basic Enclosure                                                     4978.4\n",
      "Enhanced Enclosure                                                  6868.5\n",
      "Mininum Efficiency Heat Pump with Existing Heat Backup             15391.5\n",
      "Mininum Efficiency Heat Pump with Electric Heat Backup             15496.4\n",
      "Mininum Efficiency Whole Home Electrification                      18101.8\n",
      "High Efficiency Heat Pump with Electric Heat Backup                24498.9\n",
      "Basic Enclosure + HPWH + High Efficiency HP/Electric Backup        28878.8\n",
      "Enhanced Enclosure + HPWH + High Efficiency HP/Electric Backup     29746.5\n",
      "High Efficiency Whole Home Electrification                         30888.6\n",
      "Basic Enclosure + High Efficiency Whole Home Electrification       32517.8\n",
      "Enhanced Enclosure + High Efficiency Whole Home Electrification    33385.6\n",
      "Name: upgrade_cost_usd, dtype: float64\n"
     ]
    }
   ],
   "source": [
    "results = community_mean_upgrade_cost(community_results)\n",
    "saving_results['whole_community_upgrade_cost_mean_usd'] = results"
   ]
  },
  {
   "cell_type": "markdown",
   "id": "8612601a",
   "metadata": {},
   "source": [
    "## 1.2 Total Annual Savings"
   ]
  },
  {
   "cell_type": "code",
   "execution_count": 71,
   "id": "2d30637c",
   "metadata": {},
   "outputs": [
    {
     "data": {
      "application/vnd.plotly.v1+json": {
       "config": {
        "plotlyServerURL": "https://plot.ly"
       },
       "data": [
        {
         "cliponaxis": false,
         "marker": {
          "color": "rgb(255, 255, 255)",
          "line": {
           "color": "rgb(255, 255, 255)"
          }
         },
         "orientation": "h",
         "textangle": 0,
         "textfont": {
          "size": 10
         },
         "textposition": "outside",
         "type": "bar",
         "x": [
          0,
          0,
          0,
          0,
          0,
          0,
          0,
          0,
          0,
          0,
          0,
          0,
          0,
          0,
          0,
          0,
          0,
          0,
          0,
          0,
          0,
          0,
          0,
          0,
          0,
          0,
          0,
          0,
          0,
          0,
          0,
          0,
          0,
          0,
          0,
          0,
          0,
          0,
          0,
          0,
          0,
          0,
          0,
          0,
          0,
          0,
          0,
          0,
          0,
          0,
          0,
          0,
          0,
          0,
          0,
          0,
          0,
          0,
          0,
          0,
          0,
          0,
          0,
          0,
          0,
          0,
          0,
          0,
          0,
          0,
          0,
          0,
          0,
          0,
          0,
          0,
          0,
          0,
          0,
          0,
          0,
          0,
          0,
          0,
          0,
          0,
          0,
          0,
          0,
          0,
          0,
          0,
          0,
          0,
          0,
          0,
          0,
          0,
          0,
          0,
          0,
          0,
          0,
          0,
          0,
          0,
          0,
          0,
          0,
          0,
          0,
          0,
          0,
          0,
          0,
          0,
          0,
          0,
          0,
          0,
          0,
          0,
          0,
          0,
          0,
          0,
          0,
          0,
          0,
          0,
          0,
          0,
          0,
          0,
          0,
          0,
          0,
          0,
          0,
          0,
          0,
          0,
          0,
          0,
          0,
          0,
          0,
          0,
          0,
          0,
          0,
          0,
          0,
          0,
          0,
          0,
          0,
          0,
          0,
          0,
          0,
          0,
          0,
          0,
          0,
          0,
          0,
          0,
          0,
          0,
          0,
          0,
          0,
          0,
          0,
          0
         ],
         "xaxis": "x",
         "y": [
          "Electric Cooking",
          "Electric Clothes Dryer",
          "Induction Cooking",
          "Heat Pump Clothes Dryer",
          "Mininum Efficiency Whole Home Electrification",
          "Heat Pump Water Heater",
          "Mininum Efficiency Heat Pump with Electric Heat Backup",
          "Mininum Efficiency Heat Pump with Existing Heat Backup",
          "Basic Enclosure",
          "Enhanced Enclosure",
          "High Efficiency Heat Pump with Electric Heat Backup",
          "High Efficiency Whole Home Electrification",
          "Basic Enclosure + HPWH + High Efficiency HP/Electric Backup",
          "Enhanced Enclosure + HPWH + High Efficiency HP/Electric Backup",
          "Basic Enclosure + High Efficiency Whole Home Electrification",
          "Enhanced Enclosure + High Efficiency Whole Home Electrification"
         ],
         "yaxis": "y"
        },
        {
         "cliponaxis": false,
         "marker": {
          "color": "rgb(0, 121, 61)",
          "line": {
           "color": "rgb(0, 121, 61)"
          }
         },
         "orientation": "h",
         "text": [
          -954971.5027617038,
          -472762.45200744056,
          465109.2983046494,
          8482133.500829851,
          32007833.067682855,
          32251975.81760225,
          57778420.827302195,
          72202667.11262098,
          139129460.07197097,
          166870737.1086053,
          238998390.59987688,
          304058741.8631031,
          354507146.27011347,
          362396165.87444335,
          365079882.40187806,
          372968902.00620794
         ],
         "textangle": 0,
         "textfont": {
          "size": 10
         },
         "textposition": "outside",
         "texttemplate": "%{text:.3s}",
         "type": "bar",
         "x": [
          -954971.5027617038,
          -472762.45200744056,
          465109.2983046494,
          8482133.500829851,
          32007833.067682855,
          32251975.81760225,
          57778420.827302195,
          72202667.11262098,
          139129460.07197097,
          166870737.1086053,
          238998390.59987688,
          304058741.8631031,
          354507146.27011347,
          362396165.87444335,
          365079882.40187806,
          372968902.00620794
         ],
         "xaxis": "x2",
         "y": [
          "Electric Cooking",
          "Electric Clothes Dryer",
          "Induction Cooking",
          "Heat Pump Clothes Dryer",
          "Mininum Efficiency Whole Home Electrification",
          "Heat Pump Water Heater",
          "Mininum Efficiency Heat Pump with Electric Heat Backup",
          "Mininum Efficiency Heat Pump with Existing Heat Backup",
          "Basic Enclosure",
          "Enhanced Enclosure",
          "High Efficiency Heat Pump with Electric Heat Backup",
          "High Efficiency Whole Home Electrification",
          "Basic Enclosure + HPWH + High Efficiency HP/Electric Backup",
          "Enhanced Enclosure + HPWH + High Efficiency HP/Electric Backup",
          "Basic Enclosure + High Efficiency Whole Home Electrification",
          "Enhanced Enclosure + High Efficiency Whole Home Electrification"
         ],
         "yaxis": "y2"
        },
        {
         "cliponaxis": false,
         "marker": {
          "color": "rgb(0, 121, 61)",
          "line": {
           "color": "rgb(0, 121, 61)"
          }
         },
         "orientation": "h",
         "text": [
          4933904.912364874,
          -300504.9042942179,
          9199992.76109711,
          26257408.63796987,
          613720202.9543158,
          156767813.81415036,
          630318845.0554094,
          487372652.64081955,
          636773894.5947045,
          763157161.2236121,
          1249996086.0673997,
          1534858872.8241801,
          1708658865.7873611,
          1736257336.143071,
          1744116267.186428,
          1771714737.542138
         ],
         "textangle": 0,
         "textfont": {
          "size": 10
         },
         "textposition": "outside",
         "texttemplate": "%{text:.3s}",
         "type": "bar",
         "x": [
          4933904.912364874,
          -300504.9042942179,
          9199992.76109711,
          26257408.63796987,
          613720202.9543158,
          156767813.81415036,
          630318845.0554094,
          487372652.64081955,
          636773894.5947045,
          763157161.2236121,
          1249996086.0673997,
          1534858872.8241801,
          1708658865.7873611,
          1736257336.143071,
          1744116267.186428,
          1771714737.542138
         ],
         "xaxis": "x3",
         "y": [
          "Electric Cooking",
          "Electric Clothes Dryer",
          "Induction Cooking",
          "Heat Pump Clothes Dryer",
          "Mininum Efficiency Whole Home Electrification",
          "Heat Pump Water Heater",
          "Mininum Efficiency Heat Pump with Electric Heat Backup",
          "Mininum Efficiency Heat Pump with Existing Heat Backup",
          "Basic Enclosure",
          "Enhanced Enclosure",
          "High Efficiency Heat Pump with Electric Heat Backup",
          "High Efficiency Whole Home Electrification",
          "Basic Enclosure + HPWH + High Efficiency HP/Electric Backup",
          "Enhanced Enclosure + HPWH + High Efficiency HP/Electric Backup",
          "Basic Enclosure + High Efficiency Whole Home Electrification",
          "Enhanced Enclosure + High Efficiency Whole Home Electrification"
         ],
         "yaxis": "y3"
        },
        {
         "cliponaxis": false,
         "marker": {
          "color": "rgb(0, 121, 61)",
          "line": {
           "color": "rgb(0, 121, 61)"
          }
         },
         "orientation": "h",
         "text": [
          -32493214.70328481,
          -7840668.494801734,
          -19999102.429253895,
          70946028.25724201,
          -1695399001.7052932,
          93692534.5397652,
          -1123996491.6825519,
          -220072812.7448606,
          627291383.5748215,
          757847305.944837,
          470629106.31225866,
          698151137.2654991,
          1184078578.310421,
          1253487513.7699482,
          1235025504.1384091,
          1304434439.5979364
         ],
         "textangle": 0,
         "textfont": {
          "size": 10
         },
         "textposition": "outside",
         "texttemplate": "%{text:.3s}",
         "type": "bar",
         "x": [
          -32493214.70328481,
          -7840668.494801734,
          -19999102.429253895,
          70946028.25724201,
          -1695399001.7052932,
          93692534.5397652,
          -1123996491.6825519,
          -220072812.7448606,
          627291383.5748215,
          757847305.944837,
          470629106.31225866,
          698151137.2654991,
          1184078578.310421,
          1253487513.7699482,
          1235025504.1384091,
          1304434439.5979364
         ],
         "xaxis": "x4",
         "y": [
          "Electric Cooking",
          "Electric Clothes Dryer",
          "Induction Cooking",
          "Heat Pump Clothes Dryer",
          "Mininum Efficiency Whole Home Electrification",
          "Heat Pump Water Heater",
          "Mininum Efficiency Heat Pump with Electric Heat Backup",
          "Mininum Efficiency Heat Pump with Existing Heat Backup",
          "Basic Enclosure",
          "Enhanced Enclosure",
          "High Efficiency Heat Pump with Electric Heat Backup",
          "High Efficiency Whole Home Electrification",
          "Basic Enclosure + HPWH + High Efficiency HP/Electric Backup",
          "Enhanced Enclosure + HPWH + High Efficiency HP/Electric Backup",
          "Basic Enclosure + High Efficiency Whole Home Electrification",
          "Enhanced Enclosure + High Efficiency Whole Home Electrification"
         ],
         "yaxis": "y4"
        },
        {
         "cliponaxis": false,
         "marker": {
          "color": "rgb(0, 121, 61)",
          "line": {
           "color": "rgb(0, 121, 61)"
          }
         },
         "orientation": "h",
         "text": [
          236914.23913043475,
          34869.86792587313,
          236914.23913043475,
          34869.86792587313,
          19223203.3787598,
          1867992.59743407,
          16178177.423948683,
          8502919.324019957,
          5935010.547968639,
          7057959.934853884,
          16175946.09729152,
          19223203.3787598,
          18951419.271703493,
          18951419.271703493,
          19223203.3787598,
          19223203.3787598
         ],
         "textangle": 0,
         "textfont": {
          "size": 10
         },
         "textposition": "outside",
         "texttemplate": "%{text:.3s}",
         "type": "bar",
         "x": [
          236914.23913043475,
          34869.86792587313,
          236914.23913043475,
          34869.86792587313,
          19223203.3787598,
          1867992.59743407,
          16178177.423948683,
          8502919.324019957,
          5935010.547968639,
          7057959.934853884,
          16175946.09729152,
          19223203.3787598,
          18951419.271703493,
          18951419.271703493,
          19223203.3787598,
          19223203.3787598
         ],
         "xaxis": "x5",
         "y": [
          "Electric Cooking",
          "Electric Clothes Dryer",
          "Induction Cooking",
          "Heat Pump Clothes Dryer",
          "Mininum Efficiency Whole Home Electrification",
          "Heat Pump Water Heater",
          "Mininum Efficiency Heat Pump with Electric Heat Backup",
          "Mininum Efficiency Heat Pump with Existing Heat Backup",
          "Basic Enclosure",
          "Enhanced Enclosure",
          "High Efficiency Heat Pump with Electric Heat Backup",
          "High Efficiency Whole Home Electrification",
          "Basic Enclosure + HPWH + High Efficiency HP/Electric Backup",
          "Enhanced Enclosure + HPWH + High Efficiency HP/Electric Backup",
          "Basic Enclosure + High Efficiency Whole Home Electrification",
          "Enhanced Enclosure + High Efficiency Whole Home Electrification"
         ],
         "yaxis": "y5"
        }
       ],
       "layout": {
        "autosize": false,
        "font": {
         "size": 10
        },
        "height": 500,
        "plot_bgcolor": "rgba(0, 0, 0, 0)",
        "showlegend": false,
        "template": {
         "data": {
          "bar": [
           {
            "error_x": {
             "color": "#2a3f5f"
            },
            "error_y": {
             "color": "#2a3f5f"
            },
            "marker": {
             "line": {
              "color": "#E5ECF6",
              "width": 0.5
             },
             "pattern": {
              "fillmode": "overlay",
              "size": 10,
              "solidity": 0.2
             }
            },
            "type": "bar"
           }
          ],
          "barpolar": [
           {
            "marker": {
             "line": {
              "color": "#E5ECF6",
              "width": 0.5
             },
             "pattern": {
              "fillmode": "overlay",
              "size": 10,
              "solidity": 0.2
             }
            },
            "type": "barpolar"
           }
          ],
          "carpet": [
           {
            "aaxis": {
             "endlinecolor": "#2a3f5f",
             "gridcolor": "white",
             "linecolor": "white",
             "minorgridcolor": "white",
             "startlinecolor": "#2a3f5f"
            },
            "baxis": {
             "endlinecolor": "#2a3f5f",
             "gridcolor": "white",
             "linecolor": "white",
             "minorgridcolor": "white",
             "startlinecolor": "#2a3f5f"
            },
            "type": "carpet"
           }
          ],
          "choropleth": [
           {
            "colorbar": {
             "outlinewidth": 0,
             "ticks": ""
            },
            "type": "choropleth"
           }
          ],
          "contour": [
           {
            "colorbar": {
             "outlinewidth": 0,
             "ticks": ""
            },
            "colorscale": [
             [
              0,
              "#0d0887"
             ],
             [
              0.1111111111111111,
              "#46039f"
             ],
             [
              0.2222222222222222,
              "#7201a8"
             ],
             [
              0.3333333333333333,
              "#9c179e"
             ],
             [
              0.4444444444444444,
              "#bd3786"
             ],
             [
              0.5555555555555556,
              "#d8576b"
             ],
             [
              0.6666666666666666,
              "#ed7953"
             ],
             [
              0.7777777777777778,
              "#fb9f3a"
             ],
             [
              0.8888888888888888,
              "#fdca26"
             ],
             [
              1,
              "#f0f921"
             ]
            ],
            "type": "contour"
           }
          ],
          "contourcarpet": [
           {
            "colorbar": {
             "outlinewidth": 0,
             "ticks": ""
            },
            "type": "contourcarpet"
           }
          ],
          "heatmap": [
           {
            "colorbar": {
             "outlinewidth": 0,
             "ticks": ""
            },
            "colorscale": [
             [
              0,
              "#0d0887"
             ],
             [
              0.1111111111111111,
              "#46039f"
             ],
             [
              0.2222222222222222,
              "#7201a8"
             ],
             [
              0.3333333333333333,
              "#9c179e"
             ],
             [
              0.4444444444444444,
              "#bd3786"
             ],
             [
              0.5555555555555556,
              "#d8576b"
             ],
             [
              0.6666666666666666,
              "#ed7953"
             ],
             [
              0.7777777777777778,
              "#fb9f3a"
             ],
             [
              0.8888888888888888,
              "#fdca26"
             ],
             [
              1,
              "#f0f921"
             ]
            ],
            "type": "heatmap"
           }
          ],
          "heatmapgl": [
           {
            "colorbar": {
             "outlinewidth": 0,
             "ticks": ""
            },
            "colorscale": [
             [
              0,
              "#0d0887"
             ],
             [
              0.1111111111111111,
              "#46039f"
             ],
             [
              0.2222222222222222,
              "#7201a8"
             ],
             [
              0.3333333333333333,
              "#9c179e"
             ],
             [
              0.4444444444444444,
              "#bd3786"
             ],
             [
              0.5555555555555556,
              "#d8576b"
             ],
             [
              0.6666666666666666,
              "#ed7953"
             ],
             [
              0.7777777777777778,
              "#fb9f3a"
             ],
             [
              0.8888888888888888,
              "#fdca26"
             ],
             [
              1,
              "#f0f921"
             ]
            ],
            "type": "heatmapgl"
           }
          ],
          "histogram": [
           {
            "marker": {
             "pattern": {
              "fillmode": "overlay",
              "size": 10,
              "solidity": 0.2
             }
            },
            "type": "histogram"
           }
          ],
          "histogram2d": [
           {
            "colorbar": {
             "outlinewidth": 0,
             "ticks": ""
            },
            "colorscale": [
             [
              0,
              "#0d0887"
             ],
             [
              0.1111111111111111,
              "#46039f"
             ],
             [
              0.2222222222222222,
              "#7201a8"
             ],
             [
              0.3333333333333333,
              "#9c179e"
             ],
             [
              0.4444444444444444,
              "#bd3786"
             ],
             [
              0.5555555555555556,
              "#d8576b"
             ],
             [
              0.6666666666666666,
              "#ed7953"
             ],
             [
              0.7777777777777778,
              "#fb9f3a"
             ],
             [
              0.8888888888888888,
              "#fdca26"
             ],
             [
              1,
              "#f0f921"
             ]
            ],
            "type": "histogram2d"
           }
          ],
          "histogram2dcontour": [
           {
            "colorbar": {
             "outlinewidth": 0,
             "ticks": ""
            },
            "colorscale": [
             [
              0,
              "#0d0887"
             ],
             [
              0.1111111111111111,
              "#46039f"
             ],
             [
              0.2222222222222222,
              "#7201a8"
             ],
             [
              0.3333333333333333,
              "#9c179e"
             ],
             [
              0.4444444444444444,
              "#bd3786"
             ],
             [
              0.5555555555555556,
              "#d8576b"
             ],
             [
              0.6666666666666666,
              "#ed7953"
             ],
             [
              0.7777777777777778,
              "#fb9f3a"
             ],
             [
              0.8888888888888888,
              "#fdca26"
             ],
             [
              1,
              "#f0f921"
             ]
            ],
            "type": "histogram2dcontour"
           }
          ],
          "mesh3d": [
           {
            "colorbar": {
             "outlinewidth": 0,
             "ticks": ""
            },
            "type": "mesh3d"
           }
          ],
          "parcoords": [
           {
            "line": {
             "colorbar": {
              "outlinewidth": 0,
              "ticks": ""
             }
            },
            "type": "parcoords"
           }
          ],
          "pie": [
           {
            "automargin": true,
            "type": "pie"
           }
          ],
          "scatter": [
           {
            "fillpattern": {
             "fillmode": "overlay",
             "size": 10,
             "solidity": 0.2
            },
            "type": "scatter"
           }
          ],
          "scatter3d": [
           {
            "line": {
             "colorbar": {
              "outlinewidth": 0,
              "ticks": ""
             }
            },
            "marker": {
             "colorbar": {
              "outlinewidth": 0,
              "ticks": ""
             }
            },
            "type": "scatter3d"
           }
          ],
          "scattercarpet": [
           {
            "marker": {
             "colorbar": {
              "outlinewidth": 0,
              "ticks": ""
             }
            },
            "type": "scattercarpet"
           }
          ],
          "scattergeo": [
           {
            "marker": {
             "colorbar": {
              "outlinewidth": 0,
              "ticks": ""
             }
            },
            "type": "scattergeo"
           }
          ],
          "scattergl": [
           {
            "marker": {
             "colorbar": {
              "outlinewidth": 0,
              "ticks": ""
             }
            },
            "type": "scattergl"
           }
          ],
          "scattermapbox": [
           {
            "marker": {
             "colorbar": {
              "outlinewidth": 0,
              "ticks": ""
             }
            },
            "type": "scattermapbox"
           }
          ],
          "scatterpolar": [
           {
            "marker": {
             "colorbar": {
              "outlinewidth": 0,
              "ticks": ""
             }
            },
            "type": "scatterpolar"
           }
          ],
          "scatterpolargl": [
           {
            "marker": {
             "colorbar": {
              "outlinewidth": 0,
              "ticks": ""
             }
            },
            "type": "scatterpolargl"
           }
          ],
          "scatterternary": [
           {
            "marker": {
             "colorbar": {
              "outlinewidth": 0,
              "ticks": ""
             }
            },
            "type": "scatterternary"
           }
          ],
          "surface": [
           {
            "colorbar": {
             "outlinewidth": 0,
             "ticks": ""
            },
            "colorscale": [
             [
              0,
              "#0d0887"
             ],
             [
              0.1111111111111111,
              "#46039f"
             ],
             [
              0.2222222222222222,
              "#7201a8"
             ],
             [
              0.3333333333333333,
              "#9c179e"
             ],
             [
              0.4444444444444444,
              "#bd3786"
             ],
             [
              0.5555555555555556,
              "#d8576b"
             ],
             [
              0.6666666666666666,
              "#ed7953"
             ],
             [
              0.7777777777777778,
              "#fb9f3a"
             ],
             [
              0.8888888888888888,
              "#fdca26"
             ],
             [
              1,
              "#f0f921"
             ]
            ],
            "type": "surface"
           }
          ],
          "table": [
           {
            "cells": {
             "fill": {
              "color": "#EBF0F8"
             },
             "line": {
              "color": "white"
             }
            },
            "header": {
             "fill": {
              "color": "#C8D4E3"
             },
             "line": {
              "color": "white"
             }
            },
            "type": "table"
           }
          ]
         },
         "layout": {
          "annotationdefaults": {
           "arrowcolor": "#2a3f5f",
           "arrowhead": 0,
           "arrowwidth": 1
          },
          "autotypenumbers": "strict",
          "coloraxis": {
           "colorbar": {
            "outlinewidth": 0,
            "ticks": ""
           }
          },
          "colorscale": {
           "diverging": [
            [
             0,
             "#8e0152"
            ],
            [
             0.1,
             "#c51b7d"
            ],
            [
             0.2,
             "#de77ae"
            ],
            [
             0.3,
             "#f1b6da"
            ],
            [
             0.4,
             "#fde0ef"
            ],
            [
             0.5,
             "#f7f7f7"
            ],
            [
             0.6,
             "#e6f5d0"
            ],
            [
             0.7,
             "#b8e186"
            ],
            [
             0.8,
             "#7fbc41"
            ],
            [
             0.9,
             "#4d9221"
            ],
            [
             1,
             "#276419"
            ]
           ],
           "sequential": [
            [
             0,
             "#0d0887"
            ],
            [
             0.1111111111111111,
             "#46039f"
            ],
            [
             0.2222222222222222,
             "#7201a8"
            ],
            [
             0.3333333333333333,
             "#9c179e"
            ],
            [
             0.4444444444444444,
             "#bd3786"
            ],
            [
             0.5555555555555556,
             "#d8576b"
            ],
            [
             0.6666666666666666,
             "#ed7953"
            ],
            [
             0.7777777777777778,
             "#fb9f3a"
            ],
            [
             0.8888888888888888,
             "#fdca26"
            ],
            [
             1,
             "#f0f921"
            ]
           ],
           "sequentialminus": [
            [
             0,
             "#0d0887"
            ],
            [
             0.1111111111111111,
             "#46039f"
            ],
            [
             0.2222222222222222,
             "#7201a8"
            ],
            [
             0.3333333333333333,
             "#9c179e"
            ],
            [
             0.4444444444444444,
             "#bd3786"
            ],
            [
             0.5555555555555556,
             "#d8576b"
            ],
            [
             0.6666666666666666,
             "#ed7953"
            ],
            [
             0.7777777777777778,
             "#fb9f3a"
            ],
            [
             0.8888888888888888,
             "#fdca26"
            ],
            [
             1,
             "#f0f921"
            ]
           ]
          },
          "colorway": [
           "#636efa",
           "#EF553B",
           "#00cc96",
           "#ab63fa",
           "#FFA15A",
           "#19d3f3",
           "#FF6692",
           "#B6E880",
           "#FF97FF",
           "#FECB52"
          ],
          "font": {
           "color": "#2a3f5f"
          },
          "geo": {
           "bgcolor": "white",
           "lakecolor": "white",
           "landcolor": "#E5ECF6",
           "showlakes": true,
           "showland": true,
           "subunitcolor": "white"
          },
          "hoverlabel": {
           "align": "left"
          },
          "hovermode": "closest",
          "mapbox": {
           "style": "light"
          },
          "paper_bgcolor": "white",
          "plot_bgcolor": "#E5ECF6",
          "polar": {
           "angularaxis": {
            "gridcolor": "white",
            "linecolor": "white",
            "ticks": ""
           },
           "bgcolor": "#E5ECF6",
           "radialaxis": {
            "gridcolor": "white",
            "linecolor": "white",
            "ticks": ""
           }
          },
          "scene": {
           "xaxis": {
            "backgroundcolor": "#E5ECF6",
            "gridcolor": "white",
            "gridwidth": 2,
            "linecolor": "white",
            "showbackground": true,
            "ticks": "",
            "zerolinecolor": "white"
           },
           "yaxis": {
            "backgroundcolor": "#E5ECF6",
            "gridcolor": "white",
            "gridwidth": 2,
            "linecolor": "white",
            "showbackground": true,
            "ticks": "",
            "zerolinecolor": "white"
           },
           "zaxis": {
            "backgroundcolor": "#E5ECF6",
            "gridcolor": "white",
            "gridwidth": 2,
            "linecolor": "white",
            "showbackground": true,
            "ticks": "",
            "zerolinecolor": "white"
           }
          },
          "shapedefaults": {
           "line": {
            "color": "#2a3f5f"
           }
          },
          "ternary": {
           "aaxis": {
            "gridcolor": "white",
            "linecolor": "white",
            "ticks": ""
           },
           "baxis": {
            "gridcolor": "white",
            "linecolor": "white",
            "ticks": ""
           },
           "bgcolor": "#E5ECF6",
           "caxis": {
            "gridcolor": "white",
            "linecolor": "white",
            "ticks": ""
           }
          },
          "title": {
           "x": 0.05
          },
          "xaxis": {
           "automargin": true,
           "gridcolor": "white",
           "linecolor": "white",
           "ticks": "",
           "title": {
            "standoff": 15
           },
           "zerolinecolor": "white",
           "zerolinewidth": 2
          },
          "yaxis": {
           "automargin": true,
           "gridcolor": "white",
           "linecolor": "white",
           "ticks": "",
           "title": {
            "standoff": 15
           },
           "zerolinecolor": "white",
           "zerolinewidth": 2
          }
         }
        },
        "title": {
         "text": "Total Annual Savings for the Whole Community"
        },
        "width": 900,
        "xaxis": {
         "anchor": "y",
         "domain": [
          0,
          0.00012996750812296928
         ],
         "tickangle": 45,
         "title": {
          "text": ""
         },
         "visible": false
        },
        "xaxis2": {
         "anchor": "y2",
         "domain": [
          0.12012996750812296,
          0.25009747563109225
         ],
         "tickangle": 45,
         "title": {
          "text": "Bill<br>Savings<br>usd"
         },
         "visible": true
        },
        "xaxis3": {
         "anchor": "y3",
         "domain": [
          0.37009747563109224,
          0.5000649837540615
         ],
         "tickangle": 45,
         "title": {
          "text": "Emission<br>Savings<br>kgCO2e"
         },
         "visible": true
        },
        "xaxis4": {
         "anchor": "y4",
         "domain": [
          0.6200649837540615,
          0.7500324918770308
         ],
         "tickangle": 45,
         "title": {
          "text": "Electricity<br>Savings<br>kwh"
         },
         "visible": true
        },
        "xaxis5": {
         "anchor": "y5",
         "domain": [
          0.8700324918770308,
          1
         ],
         "tickangle": 45,
         "title": {
          "text": "Gas, Propane,<br>Fuel Oil Savings<br>mmbtu"
         },
         "visible": true
        },
        "yaxis": {
         "anchor": "x",
         "domain": [
          0,
          1
         ],
         "visible": true
        },
        "yaxis2": {
         "anchor": "x2",
         "domain": [
          0,
          1
         ],
         "visible": false
        },
        "yaxis3": {
         "anchor": "x3",
         "domain": [
          0,
          1
         ],
         "visible": false
        },
        "yaxis4": {
         "anchor": "x4",
         "domain": [
          0,
          1
         ],
         "visible": false
        },
        "yaxis5": {
         "anchor": "x5",
         "domain": [
          0,
          1
         ],
         "visible": false
        }
       }
      },
      "text/html": [
       "<div>                            <div id=\"f7a442fd-e34a-41f0-ad46-3554a6e8f0a7\" class=\"plotly-graph-div\" style=\"height:500px; width:900px;\"></div>            <script type=\"text/javascript\">                require([\"plotly\"], function(Plotly) {                    window.PLOTLYENV=window.PLOTLYENV || {};                                    if (document.getElementById(\"f7a442fd-e34a-41f0-ad46-3554a6e8f0a7\")) {                    Plotly.newPlot(                        \"f7a442fd-e34a-41f0-ad46-3554a6e8f0a7\",                        [{\"orientation\":\"h\",\"x\":[0,0,0,0,0,0,0,0,0,0,0,0,0,0,0,0,0,0,0,0,0,0,0,0,0,0,0,0,0,0,0,0,0,0,0,0,0,0,0,0,0,0,0,0,0,0,0,0,0,0,0,0,0,0,0,0,0,0,0,0,0,0,0,0,0,0,0,0,0,0,0,0,0,0,0,0,0,0,0,0,0,0,0,0,0,0,0,0,0,0,0,0,0,0,0,0,0,0,0,0,0,0,0,0,0,0,0,0,0,0,0,0,0,0,0,0,0,0,0,0,0,0,0,0,0,0,0,0,0,0,0,0,0,0,0,0,0,0,0,0,0,0,0,0,0,0,0,0,0,0,0,0,0,0,0,0,0,0,0,0,0,0,0,0,0,0,0,0,0,0,0,0,0,0,0,0],\"y\":[\"Electric Cooking\",\"Electric Clothes Dryer\",\"Induction Cooking\",\"Heat Pump Clothes Dryer\",\"Mininum Efficiency Whole Home Electrification\",\"Heat Pump Water Heater\",\"Mininum Efficiency Heat Pump with Electric Heat Backup\",\"Mininum Efficiency Heat Pump with Existing Heat Backup\",\"Basic Enclosure\",\"Enhanced Enclosure\",\"High Efficiency Heat Pump with Electric Heat Backup\",\"High Efficiency Whole Home Electrification\",\"Basic Enclosure + HPWH + High Efficiency HP/Electric Backup\",\"Enhanced Enclosure + HPWH + High Efficiency HP/Electric Backup\",\"Basic Enclosure + High Efficiency Whole Home Electrification\",\"Enhanced Enclosure + High Efficiency Whole Home Electrification\"],\"type\":\"bar\",\"xaxis\":\"x\",\"yaxis\":\"y\",\"textfont\":{\"size\":10},\"cliponaxis\":false,\"textangle\":0,\"textposition\":\"outside\",\"marker\":{\"line\":{\"color\":\"rgb(255, 255, 255)\"},\"color\":\"rgb(255, 255, 255)\"}},{\"orientation\":\"h\",\"text\":[-954971.5027617038,-472762.45200744056,465109.2983046494,8482133.500829851,32007833.067682855,32251975.81760225,57778420.827302195,72202667.11262098,139129460.07197097,166870737.1086053,238998390.59987688,304058741.8631031,354507146.27011347,362396165.87444335,365079882.40187806,372968902.00620794],\"x\":[-954971.5027617038,-472762.45200744056,465109.2983046494,8482133.500829851,32007833.067682855,32251975.81760225,57778420.827302195,72202667.11262098,139129460.07197097,166870737.1086053,238998390.59987688,304058741.8631031,354507146.27011347,362396165.87444335,365079882.40187806,372968902.00620794],\"y\":[\"Electric Cooking\",\"Electric Clothes Dryer\",\"Induction Cooking\",\"Heat Pump Clothes Dryer\",\"Mininum Efficiency Whole Home Electrification\",\"Heat Pump Water Heater\",\"Mininum Efficiency Heat Pump with Electric Heat Backup\",\"Mininum Efficiency Heat Pump with Existing Heat Backup\",\"Basic Enclosure\",\"Enhanced Enclosure\",\"High Efficiency Heat Pump with Electric Heat Backup\",\"High Efficiency Whole Home Electrification\",\"Basic Enclosure + HPWH + High Efficiency HP/Electric Backup\",\"Enhanced Enclosure + HPWH + High Efficiency HP/Electric Backup\",\"Basic Enclosure + High Efficiency Whole Home Electrification\",\"Enhanced Enclosure + High Efficiency Whole Home Electrification\"],\"type\":\"bar\",\"xaxis\":\"x2\",\"yaxis\":\"y2\",\"textfont\":{\"size\":10},\"cliponaxis\":false,\"textangle\":0,\"textposition\":\"outside\",\"marker\":{\"line\":{\"color\":\"rgb(0, 121, 61)\"},\"color\":\"rgb(0, 121, 61)\"},\"texttemplate\":\"%{text:.3s}\"},{\"orientation\":\"h\",\"text\":[4933904.912364874,-300504.9042942179,9199992.76109711,26257408.63796987,613720202.9543158,156767813.81415036,630318845.0554094,487372652.64081955,636773894.5947045,763157161.2236121,1249996086.0673997,1534858872.8241801,1708658865.7873611,1736257336.143071,1744116267.186428,1771714737.542138],\"x\":[4933904.912364874,-300504.9042942179,9199992.76109711,26257408.63796987,613720202.9543158,156767813.81415036,630318845.0554094,487372652.64081955,636773894.5947045,763157161.2236121,1249996086.0673997,1534858872.8241801,1708658865.7873611,1736257336.143071,1744116267.186428,1771714737.542138],\"y\":[\"Electric Cooking\",\"Electric Clothes Dryer\",\"Induction Cooking\",\"Heat Pump Clothes Dryer\",\"Mininum Efficiency Whole Home Electrification\",\"Heat Pump Water Heater\",\"Mininum Efficiency Heat Pump with Electric Heat Backup\",\"Mininum Efficiency Heat Pump with Existing Heat Backup\",\"Basic Enclosure\",\"Enhanced Enclosure\",\"High Efficiency Heat Pump with Electric Heat Backup\",\"High Efficiency Whole Home Electrification\",\"Basic Enclosure + HPWH + High Efficiency HP/Electric Backup\",\"Enhanced Enclosure + HPWH + High Efficiency HP/Electric Backup\",\"Basic Enclosure + High Efficiency Whole Home Electrification\",\"Enhanced Enclosure + High Efficiency Whole Home Electrification\"],\"type\":\"bar\",\"xaxis\":\"x3\",\"yaxis\":\"y3\",\"textfont\":{\"size\":10},\"cliponaxis\":false,\"textangle\":0,\"textposition\":\"outside\",\"marker\":{\"line\":{\"color\":\"rgb(0, 121, 61)\"},\"color\":\"rgb(0, 121, 61)\"},\"texttemplate\":\"%{text:.3s}\"},{\"orientation\":\"h\",\"text\":[-32493214.70328481,-7840668.494801734,-19999102.429253895,70946028.25724201,-1695399001.7052932,93692534.5397652,-1123996491.6825519,-220072812.7448606,627291383.5748215,757847305.944837,470629106.31225866,698151137.2654991,1184078578.310421,1253487513.7699482,1235025504.1384091,1304434439.5979364],\"x\":[-32493214.70328481,-7840668.494801734,-19999102.429253895,70946028.25724201,-1695399001.7052932,93692534.5397652,-1123996491.6825519,-220072812.7448606,627291383.5748215,757847305.944837,470629106.31225866,698151137.2654991,1184078578.310421,1253487513.7699482,1235025504.1384091,1304434439.5979364],\"y\":[\"Electric Cooking\",\"Electric Clothes Dryer\",\"Induction Cooking\",\"Heat Pump Clothes Dryer\",\"Mininum Efficiency Whole Home Electrification\",\"Heat Pump Water Heater\",\"Mininum Efficiency Heat Pump with Electric Heat Backup\",\"Mininum Efficiency Heat Pump with Existing Heat Backup\",\"Basic Enclosure\",\"Enhanced Enclosure\",\"High Efficiency Heat Pump with Electric Heat Backup\",\"High Efficiency Whole Home Electrification\",\"Basic Enclosure + HPWH + High Efficiency HP/Electric Backup\",\"Enhanced Enclosure + HPWH + High Efficiency HP/Electric Backup\",\"Basic Enclosure + High Efficiency Whole Home Electrification\",\"Enhanced Enclosure + High Efficiency Whole Home Electrification\"],\"type\":\"bar\",\"xaxis\":\"x4\",\"yaxis\":\"y4\",\"textfont\":{\"size\":10},\"cliponaxis\":false,\"textangle\":0,\"textposition\":\"outside\",\"marker\":{\"line\":{\"color\":\"rgb(0, 121, 61)\"},\"color\":\"rgb(0, 121, 61)\"},\"texttemplate\":\"%{text:.3s}\"},{\"orientation\":\"h\",\"text\":[236914.23913043475,34869.86792587313,236914.23913043475,34869.86792587313,19223203.3787598,1867992.59743407,16178177.423948683,8502919.324019957,5935010.547968639,7057959.934853884,16175946.09729152,19223203.3787598,18951419.271703493,18951419.271703493,19223203.3787598,19223203.3787598],\"x\":[236914.23913043475,34869.86792587313,236914.23913043475,34869.86792587313,19223203.3787598,1867992.59743407,16178177.423948683,8502919.324019957,5935010.547968639,7057959.934853884,16175946.09729152,19223203.3787598,18951419.271703493,18951419.271703493,19223203.3787598,19223203.3787598],\"y\":[\"Electric Cooking\",\"Electric Clothes Dryer\",\"Induction Cooking\",\"Heat Pump Clothes Dryer\",\"Mininum Efficiency Whole Home Electrification\",\"Heat Pump Water Heater\",\"Mininum Efficiency Heat Pump with Electric Heat Backup\",\"Mininum Efficiency Heat Pump with Existing Heat Backup\",\"Basic Enclosure\",\"Enhanced Enclosure\",\"High Efficiency Heat Pump with Electric Heat Backup\",\"High Efficiency Whole Home Electrification\",\"Basic Enclosure + HPWH + High Efficiency HP/Electric Backup\",\"Enhanced Enclosure + HPWH + High Efficiency HP/Electric Backup\",\"Basic Enclosure + High Efficiency Whole Home Electrification\",\"Enhanced Enclosure + High Efficiency Whole Home Electrification\"],\"type\":\"bar\",\"xaxis\":\"x5\",\"yaxis\":\"y5\",\"textfont\":{\"size\":10},\"cliponaxis\":false,\"textangle\":0,\"textposition\":\"outside\",\"marker\":{\"line\":{\"color\":\"rgb(0, 121, 61)\"},\"color\":\"rgb(0, 121, 61)\"},\"texttemplate\":\"%{text:.3s}\"}],                        {\"template\":{\"data\":{\"histogram2dcontour\":[{\"type\":\"histogram2dcontour\",\"colorbar\":{\"outlinewidth\":0,\"ticks\":\"\"},\"colorscale\":[[0.0,\"#0d0887\"],[0.1111111111111111,\"#46039f\"],[0.2222222222222222,\"#7201a8\"],[0.3333333333333333,\"#9c179e\"],[0.4444444444444444,\"#bd3786\"],[0.5555555555555556,\"#d8576b\"],[0.6666666666666666,\"#ed7953\"],[0.7777777777777778,\"#fb9f3a\"],[0.8888888888888888,\"#fdca26\"],[1.0,\"#f0f921\"]]}],\"choropleth\":[{\"type\":\"choropleth\",\"colorbar\":{\"outlinewidth\":0,\"ticks\":\"\"}}],\"histogram2d\":[{\"type\":\"histogram2d\",\"colorbar\":{\"outlinewidth\":0,\"ticks\":\"\"},\"colorscale\":[[0.0,\"#0d0887\"],[0.1111111111111111,\"#46039f\"],[0.2222222222222222,\"#7201a8\"],[0.3333333333333333,\"#9c179e\"],[0.4444444444444444,\"#bd3786\"],[0.5555555555555556,\"#d8576b\"],[0.6666666666666666,\"#ed7953\"],[0.7777777777777778,\"#fb9f3a\"],[0.8888888888888888,\"#fdca26\"],[1.0,\"#f0f921\"]]}],\"heatmap\":[{\"type\":\"heatmap\",\"colorbar\":{\"outlinewidth\":0,\"ticks\":\"\"},\"colorscale\":[[0.0,\"#0d0887\"],[0.1111111111111111,\"#46039f\"],[0.2222222222222222,\"#7201a8\"],[0.3333333333333333,\"#9c179e\"],[0.4444444444444444,\"#bd3786\"],[0.5555555555555556,\"#d8576b\"],[0.6666666666666666,\"#ed7953\"],[0.7777777777777778,\"#fb9f3a\"],[0.8888888888888888,\"#fdca26\"],[1.0,\"#f0f921\"]]}],\"heatmapgl\":[{\"type\":\"heatmapgl\",\"colorbar\":{\"outlinewidth\":0,\"ticks\":\"\"},\"colorscale\":[[0.0,\"#0d0887\"],[0.1111111111111111,\"#46039f\"],[0.2222222222222222,\"#7201a8\"],[0.3333333333333333,\"#9c179e\"],[0.4444444444444444,\"#bd3786\"],[0.5555555555555556,\"#d8576b\"],[0.6666666666666666,\"#ed7953\"],[0.7777777777777778,\"#fb9f3a\"],[0.8888888888888888,\"#fdca26\"],[1.0,\"#f0f921\"]]}],\"contourcarpet\":[{\"type\":\"contourcarpet\",\"colorbar\":{\"outlinewidth\":0,\"ticks\":\"\"}}],\"contour\":[{\"type\":\"contour\",\"colorbar\":{\"outlinewidth\":0,\"ticks\":\"\"},\"colorscale\":[[0.0,\"#0d0887\"],[0.1111111111111111,\"#46039f\"],[0.2222222222222222,\"#7201a8\"],[0.3333333333333333,\"#9c179e\"],[0.4444444444444444,\"#bd3786\"],[0.5555555555555556,\"#d8576b\"],[0.6666666666666666,\"#ed7953\"],[0.7777777777777778,\"#fb9f3a\"],[0.8888888888888888,\"#fdca26\"],[1.0,\"#f0f921\"]]}],\"surface\":[{\"type\":\"surface\",\"colorbar\":{\"outlinewidth\":0,\"ticks\":\"\"},\"colorscale\":[[0.0,\"#0d0887\"],[0.1111111111111111,\"#46039f\"],[0.2222222222222222,\"#7201a8\"],[0.3333333333333333,\"#9c179e\"],[0.4444444444444444,\"#bd3786\"],[0.5555555555555556,\"#d8576b\"],[0.6666666666666666,\"#ed7953\"],[0.7777777777777778,\"#fb9f3a\"],[0.8888888888888888,\"#fdca26\"],[1.0,\"#f0f921\"]]}],\"mesh3d\":[{\"type\":\"mesh3d\",\"colorbar\":{\"outlinewidth\":0,\"ticks\":\"\"}}],\"scatter\":[{\"fillpattern\":{\"fillmode\":\"overlay\",\"size\":10,\"solidity\":0.2},\"type\":\"scatter\"}],\"parcoords\":[{\"type\":\"parcoords\",\"line\":{\"colorbar\":{\"outlinewidth\":0,\"ticks\":\"\"}}}],\"scatterpolargl\":[{\"type\":\"scatterpolargl\",\"marker\":{\"colorbar\":{\"outlinewidth\":0,\"ticks\":\"\"}}}],\"bar\":[{\"error_x\":{\"color\":\"#2a3f5f\"},\"error_y\":{\"color\":\"#2a3f5f\"},\"marker\":{\"line\":{\"color\":\"#E5ECF6\",\"width\":0.5},\"pattern\":{\"fillmode\":\"overlay\",\"size\":10,\"solidity\":0.2}},\"type\":\"bar\"}],\"scattergeo\":[{\"type\":\"scattergeo\",\"marker\":{\"colorbar\":{\"outlinewidth\":0,\"ticks\":\"\"}}}],\"scatterpolar\":[{\"type\":\"scatterpolar\",\"marker\":{\"colorbar\":{\"outlinewidth\":0,\"ticks\":\"\"}}}],\"histogram\":[{\"marker\":{\"pattern\":{\"fillmode\":\"overlay\",\"size\":10,\"solidity\":0.2}},\"type\":\"histogram\"}],\"scattergl\":[{\"type\":\"scattergl\",\"marker\":{\"colorbar\":{\"outlinewidth\":0,\"ticks\":\"\"}}}],\"scatter3d\":[{\"type\":\"scatter3d\",\"line\":{\"colorbar\":{\"outlinewidth\":0,\"ticks\":\"\"}},\"marker\":{\"colorbar\":{\"outlinewidth\":0,\"ticks\":\"\"}}}],\"scattermapbox\":[{\"type\":\"scattermapbox\",\"marker\":{\"colorbar\":{\"outlinewidth\":0,\"ticks\":\"\"}}}],\"scatterternary\":[{\"type\":\"scatterternary\",\"marker\":{\"colorbar\":{\"outlinewidth\":0,\"ticks\":\"\"}}}],\"scattercarpet\":[{\"type\":\"scattercarpet\",\"marker\":{\"colorbar\":{\"outlinewidth\":0,\"ticks\":\"\"}}}],\"carpet\":[{\"aaxis\":{\"endlinecolor\":\"#2a3f5f\",\"gridcolor\":\"white\",\"linecolor\":\"white\",\"minorgridcolor\":\"white\",\"startlinecolor\":\"#2a3f5f\"},\"baxis\":{\"endlinecolor\":\"#2a3f5f\",\"gridcolor\":\"white\",\"linecolor\":\"white\",\"minorgridcolor\":\"white\",\"startlinecolor\":\"#2a3f5f\"},\"type\":\"carpet\"}],\"table\":[{\"cells\":{\"fill\":{\"color\":\"#EBF0F8\"},\"line\":{\"color\":\"white\"}},\"header\":{\"fill\":{\"color\":\"#C8D4E3\"},\"line\":{\"color\":\"white\"}},\"type\":\"table\"}],\"barpolar\":[{\"marker\":{\"line\":{\"color\":\"#E5ECF6\",\"width\":0.5},\"pattern\":{\"fillmode\":\"overlay\",\"size\":10,\"solidity\":0.2}},\"type\":\"barpolar\"}],\"pie\":[{\"automargin\":true,\"type\":\"pie\"}]},\"layout\":{\"autotypenumbers\":\"strict\",\"colorway\":[\"#636efa\",\"#EF553B\",\"#00cc96\",\"#ab63fa\",\"#FFA15A\",\"#19d3f3\",\"#FF6692\",\"#B6E880\",\"#FF97FF\",\"#FECB52\"],\"font\":{\"color\":\"#2a3f5f\"},\"hovermode\":\"closest\",\"hoverlabel\":{\"align\":\"left\"},\"paper_bgcolor\":\"white\",\"plot_bgcolor\":\"#E5ECF6\",\"polar\":{\"bgcolor\":\"#E5ECF6\",\"angularaxis\":{\"gridcolor\":\"white\",\"linecolor\":\"white\",\"ticks\":\"\"},\"radialaxis\":{\"gridcolor\":\"white\",\"linecolor\":\"white\",\"ticks\":\"\"}},\"ternary\":{\"bgcolor\":\"#E5ECF6\",\"aaxis\":{\"gridcolor\":\"white\",\"linecolor\":\"white\",\"ticks\":\"\"},\"baxis\":{\"gridcolor\":\"white\",\"linecolor\":\"white\",\"ticks\":\"\"},\"caxis\":{\"gridcolor\":\"white\",\"linecolor\":\"white\",\"ticks\":\"\"}},\"coloraxis\":{\"colorbar\":{\"outlinewidth\":0,\"ticks\":\"\"}},\"colorscale\":{\"sequential\":[[0.0,\"#0d0887\"],[0.1111111111111111,\"#46039f\"],[0.2222222222222222,\"#7201a8\"],[0.3333333333333333,\"#9c179e\"],[0.4444444444444444,\"#bd3786\"],[0.5555555555555556,\"#d8576b\"],[0.6666666666666666,\"#ed7953\"],[0.7777777777777778,\"#fb9f3a\"],[0.8888888888888888,\"#fdca26\"],[1.0,\"#f0f921\"]],\"sequentialminus\":[[0.0,\"#0d0887\"],[0.1111111111111111,\"#46039f\"],[0.2222222222222222,\"#7201a8\"],[0.3333333333333333,\"#9c179e\"],[0.4444444444444444,\"#bd3786\"],[0.5555555555555556,\"#d8576b\"],[0.6666666666666666,\"#ed7953\"],[0.7777777777777778,\"#fb9f3a\"],[0.8888888888888888,\"#fdca26\"],[1.0,\"#f0f921\"]],\"diverging\":[[0,\"#8e0152\"],[0.1,\"#c51b7d\"],[0.2,\"#de77ae\"],[0.3,\"#f1b6da\"],[0.4,\"#fde0ef\"],[0.5,\"#f7f7f7\"],[0.6,\"#e6f5d0\"],[0.7,\"#b8e186\"],[0.8,\"#7fbc41\"],[0.9,\"#4d9221\"],[1,\"#276419\"]]},\"xaxis\":{\"gridcolor\":\"white\",\"linecolor\":\"white\",\"ticks\":\"\",\"title\":{\"standoff\":15},\"zerolinecolor\":\"white\",\"automargin\":true,\"zerolinewidth\":2},\"yaxis\":{\"gridcolor\":\"white\",\"linecolor\":\"white\",\"ticks\":\"\",\"title\":{\"standoff\":15},\"zerolinecolor\":\"white\",\"automargin\":true,\"zerolinewidth\":2},\"scene\":{\"xaxis\":{\"backgroundcolor\":\"#E5ECF6\",\"gridcolor\":\"white\",\"linecolor\":\"white\",\"showbackground\":true,\"ticks\":\"\",\"zerolinecolor\":\"white\",\"gridwidth\":2},\"yaxis\":{\"backgroundcolor\":\"#E5ECF6\",\"gridcolor\":\"white\",\"linecolor\":\"white\",\"showbackground\":true,\"ticks\":\"\",\"zerolinecolor\":\"white\",\"gridwidth\":2},\"zaxis\":{\"backgroundcolor\":\"#E5ECF6\",\"gridcolor\":\"white\",\"linecolor\":\"white\",\"showbackground\":true,\"ticks\":\"\",\"zerolinecolor\":\"white\",\"gridwidth\":2}},\"shapedefaults\":{\"line\":{\"color\":\"#2a3f5f\"}},\"annotationdefaults\":{\"arrowcolor\":\"#2a3f5f\",\"arrowhead\":0,\"arrowwidth\":1},\"geo\":{\"bgcolor\":\"white\",\"landcolor\":\"#E5ECF6\",\"subunitcolor\":\"white\",\"showland\":true,\"showlakes\":true,\"lakecolor\":\"white\"},\"title\":{\"x\":0.05},\"mapbox\":{\"style\":\"light\"}}},\"xaxis\":{\"anchor\":\"y\",\"domain\":[0.0,0.00012996750812296928],\"title\":{\"text\":\"\"},\"visible\":false,\"tickangle\":45},\"yaxis\":{\"anchor\":\"x\",\"domain\":[0.0,1.0],\"visible\":true},\"xaxis2\":{\"anchor\":\"y2\",\"domain\":[0.12012996750812296,0.25009747563109225],\"title\":{\"text\":\"Bill<br>Savings<br>usd\"},\"visible\":true,\"tickangle\":45},\"yaxis2\":{\"anchor\":\"x2\",\"domain\":[0.0,1.0],\"visible\":false},\"xaxis3\":{\"anchor\":\"y3\",\"domain\":[0.37009747563109224,0.5000649837540615],\"title\":{\"text\":\"Emission<br>Savings<br>kgCO2e\"},\"visible\":true,\"tickangle\":45},\"yaxis3\":{\"anchor\":\"x3\",\"domain\":[0.0,1.0],\"visible\":false},\"xaxis4\":{\"anchor\":\"y4\",\"domain\":[0.6200649837540615,0.7500324918770308],\"title\":{\"text\":\"Electricity<br>Savings<br>kwh\"},\"visible\":true,\"tickangle\":45},\"yaxis4\":{\"anchor\":\"x4\",\"domain\":[0.0,1.0],\"visible\":false},\"xaxis5\":{\"anchor\":\"y5\",\"domain\":[0.8700324918770308,1.0],\"title\":{\"text\":\"Gas, Propane,<br>Fuel Oil Savings<br>mmbtu\"},\"visible\":true,\"tickangle\":45},\"yaxis5\":{\"anchor\":\"x5\",\"domain\":[0.0,1.0],\"visible\":false},\"title\":{\"text\":\"Total Annual Savings for the Whole Community\"},\"font\":{\"size\":10},\"autosize\":false,\"width\":900,\"height\":500,\"plot_bgcolor\":\"rgba(0, 0, 0, 0)\",\"showlegend\":false},                        {\"responsive\": true}                    ).then(function(){\n",
       "                            \n",
       "var gd = document.getElementById('f7a442fd-e34a-41f0-ad46-3554a6e8f0a7');\n",
       "var x = new MutationObserver(function (mutations, observer) {{\n",
       "        var display = window.getComputedStyle(gd).display;\n",
       "        if (!display || display === 'none') {{\n",
       "            console.log([gd, 'removed!']);\n",
       "            Plotly.purge(gd);\n",
       "            observer.disconnect();\n",
       "        }}\n",
       "}});\n",
       "\n",
       "// Listen for the removal of the full notebook cells\n",
       "var notebookContainer = gd.closest('#notebook-container');\n",
       "if (notebookContainer) {{\n",
       "    x.observe(notebookContainer, {childList: true});\n",
       "}}\n",
       "\n",
       "// Listen for the clearing of the current output cell\n",
       "var outputEl = gd.closest('.output');\n",
       "if (outputEl) {{\n",
       "    x.observe(outputEl, {childList: true});\n",
       "}}\n",
       "\n",
       "                        })                };                });            </script>        </div>"
      ]
     },
     "metadata": {},
     "output_type": "display_data"
    }
   ],
   "source": [
    "figure_total_savings_1(community_results)"
   ]
  },
  {
   "cell_type": "code",
   "execution_count": 72,
   "id": "ebec6b8d",
   "metadata": {},
   "outputs": [
    {
     "data": {
      "application/vnd.plotly.v1+json": {
       "config": {
        "plotlyServerURL": "https://plot.ly"
       },
       "data": [
        {
         "cliponaxis": false,
         "marker": {
          "color": "rgb(255, 255, 255)",
          "line": {
           "color": "rgb(255, 255, 255)"
          }
         },
         "orientation": "h",
         "textangle": 0,
         "textfont": {
          "size": 10
         },
         "textposition": "outside",
         "type": "bar",
         "x": [
          0,
          0,
          0,
          0,
          0,
          0,
          0,
          0,
          0,
          0,
          0,
          0,
          0,
          0,
          0,
          0,
          0,
          0,
          0,
          0,
          0,
          0,
          0,
          0,
          0,
          0,
          0,
          0,
          0,
          0,
          0,
          0,
          0,
          0,
          0,
          0,
          0,
          0,
          0,
          0,
          0,
          0,
          0,
          0,
          0,
          0,
          0,
          0,
          0,
          0,
          0,
          0,
          0,
          0,
          0,
          0,
          0,
          0,
          0,
          0,
          0,
          0,
          0,
          0,
          0,
          0,
          0,
          0,
          0,
          0,
          0,
          0,
          0,
          0,
          0,
          0,
          0,
          0,
          0,
          0,
          0,
          0,
          0,
          0,
          0,
          0,
          0,
          0,
          0,
          0,
          0,
          0,
          0,
          0,
          0,
          0,
          0,
          0,
          0,
          0,
          0,
          0,
          0,
          0,
          0,
          0,
          0,
          0,
          0,
          0,
          0,
          0,
          0,
          0,
          0,
          0,
          0,
          0,
          0,
          0,
          0,
          0,
          0,
          0,
          0,
          0,
          0,
          0,
          0,
          0,
          0,
          0,
          0,
          0,
          0,
          0,
          0,
          0,
          0,
          0,
          0,
          0,
          0,
          0,
          0,
          0,
          0,
          0,
          0,
          0,
          0,
          0,
          0,
          0,
          0,
          0,
          0,
          0,
          0,
          0,
          0,
          0,
          0,
          0,
          0,
          0,
          0,
          0,
          0,
          0,
          0,
          0,
          0,
          0,
          0,
          0
         ],
         "xaxis": "x",
         "y": [
          "Electric Cooking",
          "Electric Clothes Dryer",
          "Induction Cooking",
          "Heat Pump Clothes Dryer",
          "Mininum Efficiency Whole Home Electrification",
          "Heat Pump Water Heater",
          "Mininum Efficiency Heat Pump with Electric Heat Backup",
          "Mininum Efficiency Heat Pump with Existing Heat Backup",
          "Basic Enclosure",
          "Enhanced Enclosure",
          "High Efficiency Heat Pump with Electric Heat Backup",
          "High Efficiency Whole Home Electrification",
          "Basic Enclosure + HPWH + High Efficiency HP/Electric Backup",
          "Enhanced Enclosure + HPWH + High Efficiency HP/Electric Backup",
          "Basic Enclosure + High Efficiency Whole Home Electrification",
          "Enhanced Enclosure + High Efficiency Whole Home Electrification"
         ],
         "yaxis": "y"
        },
        {
         "cliponaxis": false,
         "marker": {
          "color": "rgb(0, 121, 61)",
          "line": {
           "color": "rgb(0, 121, 61)"
          }
         },
         "orientation": "h",
         "text": [
          -954971.5027617038,
          -472762.45200744056,
          465109.2983046494,
          8482133.500829851,
          32007833.067682855,
          32251975.81760225,
          57778420.827302195,
          72202667.11262098,
          139129460.07197097,
          166870737.1086053,
          238998390.59987688,
          304058741.8631031,
          354507146.27011347,
          362396165.87444335,
          365079882.40187806,
          372968902.00620794
         ],
         "textangle": 0,
         "textfont": {
          "size": 10
         },
         "textposition": "outside",
         "texttemplate": "%{text:.3s}",
         "type": "bar",
         "x": [
          -954971.5027617038,
          -472762.45200744056,
          465109.2983046494,
          8482133.500829851,
          32007833.067682855,
          32251975.81760225,
          57778420.827302195,
          72202667.11262098,
          139129460.07197097,
          166870737.1086053,
          238998390.59987688,
          304058741.8631031,
          354507146.27011347,
          362396165.87444335,
          365079882.40187806,
          372968902.00620794
         ],
         "xaxis": "x2",
         "y": [
          "Electric Cooking",
          "Electric Clothes Dryer",
          "Induction Cooking",
          "Heat Pump Clothes Dryer",
          "Mininum Efficiency Whole Home Electrification",
          "Heat Pump Water Heater",
          "Mininum Efficiency Heat Pump with Electric Heat Backup",
          "Mininum Efficiency Heat Pump with Existing Heat Backup",
          "Basic Enclosure",
          "Enhanced Enclosure",
          "High Efficiency Heat Pump with Electric Heat Backup",
          "High Efficiency Whole Home Electrification",
          "Basic Enclosure + HPWH + High Efficiency HP/Electric Backup",
          "Enhanced Enclosure + HPWH + High Efficiency HP/Electric Backup",
          "Basic Enclosure + High Efficiency Whole Home Electrification",
          "Enhanced Enclosure + High Efficiency Whole Home Electrification"
         ],
         "yaxis": "y2"
        },
        {
         "cliponaxis": false,
         "marker": {
          "color": "rgb(0, 121, 61)",
          "line": {
           "color": "rgb(0, 121, 61)"
          }
         },
         "orientation": "h",
         "text": [
          4933904.912364874,
          -300504.9042942179,
          9199992.76109711,
          26257408.63796987,
          613720202.9543158,
          156767813.81415036,
          630318845.0554094,
          487372652.64081955,
          636773894.5947045,
          763157161.2236121,
          1249996086.0673997,
          1534858872.8241801,
          1708658865.7873611,
          1736257336.143071,
          1744116267.186428,
          1771714737.542138
         ],
         "textangle": 0,
         "textfont": {
          "size": 10
         },
         "textposition": "outside",
         "texttemplate": "%{text:.3s}",
         "type": "bar",
         "x": [
          4933904.912364874,
          -300504.9042942179,
          9199992.76109711,
          26257408.63796987,
          613720202.9543158,
          156767813.81415036,
          630318845.0554094,
          487372652.64081955,
          636773894.5947045,
          763157161.2236121,
          1249996086.0673997,
          1534858872.8241801,
          1708658865.7873611,
          1736257336.143071,
          1744116267.186428,
          1771714737.542138
         ],
         "xaxis": "x3",
         "y": [
          "Electric Cooking",
          "Electric Clothes Dryer",
          "Induction Cooking",
          "Heat Pump Clothes Dryer",
          "Mininum Efficiency Whole Home Electrification",
          "Heat Pump Water Heater",
          "Mininum Efficiency Heat Pump with Electric Heat Backup",
          "Mininum Efficiency Heat Pump with Existing Heat Backup",
          "Basic Enclosure",
          "Enhanced Enclosure",
          "High Efficiency Heat Pump with Electric Heat Backup",
          "High Efficiency Whole Home Electrification",
          "Basic Enclosure + HPWH + High Efficiency HP/Electric Backup",
          "Enhanced Enclosure + HPWH + High Efficiency HP/Electric Backup",
          "Basic Enclosure + High Efficiency Whole Home Electrification",
          "Enhanced Enclosure + High Efficiency Whole Home Electrification"
         ],
         "yaxis": "y3"
        },
        {
         "cliponaxis": false,
         "marker": {
          "color": "rgb(0, 121, 61)",
          "line": {
           "color": "rgb(0, 121, 61)"
          }
         },
         "orientation": "h",
         "text": [
          494.09600000000006,
          31.81700000000008,
          661.2190000000008,
          1085.6600000000003,
          52679.173,
          8575.91,
          48385.434,
          30388.505,
          31656.339,
          37804.695,
          69706.227,
          84695.064,
          90129.357,
          91057.763,
          91876.236,
          92804.64199999999
         ],
         "textangle": 0,
         "textfont": {
          "size": 10
         },
         "textposition": "outside",
         "texttemplate": "%{text:.3s}",
         "type": "bar",
         "x": [
          494.09600000000006,
          31.81700000000008,
          661.2190000000008,
          1085.6600000000003,
          52679.173,
          8575.91,
          48385.434,
          30388.505,
          31656.339,
          37804.695,
          69706.227,
          84695.064,
          90129.357,
          91057.763,
          91876.236,
          92804.64199999999
         ],
         "xaxis": "x4",
         "y": [
          "Electric Cooking",
          "Electric Clothes Dryer",
          "Induction Cooking",
          "Heat Pump Clothes Dryer",
          "Mininum Efficiency Whole Home Electrification",
          "Heat Pump Water Heater",
          "Mininum Efficiency Heat Pump with Electric Heat Backup",
          "Mininum Efficiency Heat Pump with Existing Heat Backup",
          "Basic Enclosure",
          "Enhanced Enclosure",
          "High Efficiency Heat Pump with Electric Heat Backup",
          "High Efficiency Whole Home Electrification",
          "Basic Enclosure + HPWH + High Efficiency HP/Electric Backup",
          "Enhanced Enclosure + HPWH + High Efficiency HP/Electric Backup",
          "Basic Enclosure + High Efficiency Whole Home Electrification",
          "Enhanced Enclosure + High Efficiency Whole Home Electrification"
         ],
         "yaxis": "y4"
        },
        {
         "cliponaxis": false,
         "marker": {
          "color": "rgb(0, 121, 61)",
          "line": {
           "color": "rgb(0, 121, 61)"
          }
         },
         "orientation": "h",
         "text": [
          -32493214.70328481,
          -7840668.494801734,
          -19999102.429253895,
          70946028.25724201,
          -1695399001.7052932,
          93692534.5397652,
          -1123996491.6825519,
          -220072812.7448606,
          627291383.5748215,
          757847305.944837,
          470629106.31225866,
          698151137.2654991,
          1184078578.310421,
          1253487513.7699482,
          1235025504.1384091,
          1304434439.5979364
         ],
         "textangle": 0,
         "textfont": {
          "size": 10
         },
         "textposition": "outside",
         "texttemplate": "%{text:.3s}",
         "type": "bar",
         "x": [
          -32493214.70328481,
          -7840668.494801734,
          -19999102.429253895,
          70946028.25724201,
          -1695399001.7052932,
          93692534.5397652,
          -1123996491.6825519,
          -220072812.7448606,
          627291383.5748215,
          757847305.944837,
          470629106.31225866,
          698151137.2654991,
          1184078578.310421,
          1253487513.7699482,
          1235025504.1384091,
          1304434439.5979364
         ],
         "xaxis": "x5",
         "y": [
          "Electric Cooking",
          "Electric Clothes Dryer",
          "Induction Cooking",
          "Heat Pump Clothes Dryer",
          "Mininum Efficiency Whole Home Electrification",
          "Heat Pump Water Heater",
          "Mininum Efficiency Heat Pump with Electric Heat Backup",
          "Mininum Efficiency Heat Pump with Existing Heat Backup",
          "Basic Enclosure",
          "Enhanced Enclosure",
          "High Efficiency Heat Pump with Electric Heat Backup",
          "High Efficiency Whole Home Electrification",
          "Basic Enclosure + HPWH + High Efficiency HP/Electric Backup",
          "Enhanced Enclosure + HPWH + High Efficiency HP/Electric Backup",
          "Basic Enclosure + High Efficiency Whole Home Electrification",
          "Enhanced Enclosure + High Efficiency Whole Home Electrification"
         ],
         "yaxis": "y5"
        },
        {
         "cliponaxis": false,
         "marker": {
          "color": "rgb(0, 121, 61)",
          "line": {
           "color": "rgb(0, 121, 61)"
          }
         },
         "orientation": "h",
         "text": [
          236914.23913043475,
          34869.86792587313,
          236914.23913043475,
          34869.86792587313,
          19223203.3787598,
          1867992.59743407,
          16178177.423948683,
          8502919.324019957,
          5935010.547968639,
          7057959.934853884,
          16175946.09729152,
          19223203.3787598,
          18951419.271703493,
          18951419.271703493,
          19223203.3787598,
          19223203.3787598
         ],
         "textangle": 0,
         "textfont": {
          "size": 10
         },
         "textposition": "outside",
         "texttemplate": "%{text:.3s}",
         "type": "bar",
         "x": [
          236914.23913043475,
          34869.86792587313,
          236914.23913043475,
          34869.86792587313,
          19223203.3787598,
          1867992.59743407,
          16178177.423948683,
          8502919.324019957,
          5935010.547968639,
          7057959.934853884,
          16175946.09729152,
          19223203.3787598,
          18951419.271703493,
          18951419.271703493,
          19223203.3787598,
          19223203.3787598
         ],
         "xaxis": "x6",
         "y": [
          "Electric Cooking",
          "Electric Clothes Dryer",
          "Induction Cooking",
          "Heat Pump Clothes Dryer",
          "Mininum Efficiency Whole Home Electrification",
          "Heat Pump Water Heater",
          "Mininum Efficiency Heat Pump with Electric Heat Backup",
          "Mininum Efficiency Heat Pump with Existing Heat Backup",
          "Basic Enclosure",
          "Enhanced Enclosure",
          "High Efficiency Heat Pump with Electric Heat Backup",
          "High Efficiency Whole Home Electrification",
          "Basic Enclosure + HPWH + High Efficiency HP/Electric Backup",
          "Enhanced Enclosure + HPWH + High Efficiency HP/Electric Backup",
          "Basic Enclosure + High Efficiency Whole Home Electrification",
          "Enhanced Enclosure + High Efficiency Whole Home Electrification"
         ],
         "yaxis": "y6"
        }
       ],
       "layout": {
        "autosize": false,
        "font": {
         "size": 10
        },
        "height": 500,
        "plot_bgcolor": "rgba(0, 0, 0, 0)",
        "showlegend": false,
        "template": {
         "data": {
          "bar": [
           {
            "error_x": {
             "color": "#2a3f5f"
            },
            "error_y": {
             "color": "#2a3f5f"
            },
            "marker": {
             "line": {
              "color": "#E5ECF6",
              "width": 0.5
             },
             "pattern": {
              "fillmode": "overlay",
              "size": 10,
              "solidity": 0.2
             }
            },
            "type": "bar"
           }
          ],
          "barpolar": [
           {
            "marker": {
             "line": {
              "color": "#E5ECF6",
              "width": 0.5
             },
             "pattern": {
              "fillmode": "overlay",
              "size": 10,
              "solidity": 0.2
             }
            },
            "type": "barpolar"
           }
          ],
          "carpet": [
           {
            "aaxis": {
             "endlinecolor": "#2a3f5f",
             "gridcolor": "white",
             "linecolor": "white",
             "minorgridcolor": "white",
             "startlinecolor": "#2a3f5f"
            },
            "baxis": {
             "endlinecolor": "#2a3f5f",
             "gridcolor": "white",
             "linecolor": "white",
             "minorgridcolor": "white",
             "startlinecolor": "#2a3f5f"
            },
            "type": "carpet"
           }
          ],
          "choropleth": [
           {
            "colorbar": {
             "outlinewidth": 0,
             "ticks": ""
            },
            "type": "choropleth"
           }
          ],
          "contour": [
           {
            "colorbar": {
             "outlinewidth": 0,
             "ticks": ""
            },
            "colorscale": [
             [
              0,
              "#0d0887"
             ],
             [
              0.1111111111111111,
              "#46039f"
             ],
             [
              0.2222222222222222,
              "#7201a8"
             ],
             [
              0.3333333333333333,
              "#9c179e"
             ],
             [
              0.4444444444444444,
              "#bd3786"
             ],
             [
              0.5555555555555556,
              "#d8576b"
             ],
             [
              0.6666666666666666,
              "#ed7953"
             ],
             [
              0.7777777777777778,
              "#fb9f3a"
             ],
             [
              0.8888888888888888,
              "#fdca26"
             ],
             [
              1,
              "#f0f921"
             ]
            ],
            "type": "contour"
           }
          ],
          "contourcarpet": [
           {
            "colorbar": {
             "outlinewidth": 0,
             "ticks": ""
            },
            "type": "contourcarpet"
           }
          ],
          "heatmap": [
           {
            "colorbar": {
             "outlinewidth": 0,
             "ticks": ""
            },
            "colorscale": [
             [
              0,
              "#0d0887"
             ],
             [
              0.1111111111111111,
              "#46039f"
             ],
             [
              0.2222222222222222,
              "#7201a8"
             ],
             [
              0.3333333333333333,
              "#9c179e"
             ],
             [
              0.4444444444444444,
              "#bd3786"
             ],
             [
              0.5555555555555556,
              "#d8576b"
             ],
             [
              0.6666666666666666,
              "#ed7953"
             ],
             [
              0.7777777777777778,
              "#fb9f3a"
             ],
             [
              0.8888888888888888,
              "#fdca26"
             ],
             [
              1,
              "#f0f921"
             ]
            ],
            "type": "heatmap"
           }
          ],
          "heatmapgl": [
           {
            "colorbar": {
             "outlinewidth": 0,
             "ticks": ""
            },
            "colorscale": [
             [
              0,
              "#0d0887"
             ],
             [
              0.1111111111111111,
              "#46039f"
             ],
             [
              0.2222222222222222,
              "#7201a8"
             ],
             [
              0.3333333333333333,
              "#9c179e"
             ],
             [
              0.4444444444444444,
              "#bd3786"
             ],
             [
              0.5555555555555556,
              "#d8576b"
             ],
             [
              0.6666666666666666,
              "#ed7953"
             ],
             [
              0.7777777777777778,
              "#fb9f3a"
             ],
             [
              0.8888888888888888,
              "#fdca26"
             ],
             [
              1,
              "#f0f921"
             ]
            ],
            "type": "heatmapgl"
           }
          ],
          "histogram": [
           {
            "marker": {
             "pattern": {
              "fillmode": "overlay",
              "size": 10,
              "solidity": 0.2
             }
            },
            "type": "histogram"
           }
          ],
          "histogram2d": [
           {
            "colorbar": {
             "outlinewidth": 0,
             "ticks": ""
            },
            "colorscale": [
             [
              0,
              "#0d0887"
             ],
             [
              0.1111111111111111,
              "#46039f"
             ],
             [
              0.2222222222222222,
              "#7201a8"
             ],
             [
              0.3333333333333333,
              "#9c179e"
             ],
             [
              0.4444444444444444,
              "#bd3786"
             ],
             [
              0.5555555555555556,
              "#d8576b"
             ],
             [
              0.6666666666666666,
              "#ed7953"
             ],
             [
              0.7777777777777778,
              "#fb9f3a"
             ],
             [
              0.8888888888888888,
              "#fdca26"
             ],
             [
              1,
              "#f0f921"
             ]
            ],
            "type": "histogram2d"
           }
          ],
          "histogram2dcontour": [
           {
            "colorbar": {
             "outlinewidth": 0,
             "ticks": ""
            },
            "colorscale": [
             [
              0,
              "#0d0887"
             ],
             [
              0.1111111111111111,
              "#46039f"
             ],
             [
              0.2222222222222222,
              "#7201a8"
             ],
             [
              0.3333333333333333,
              "#9c179e"
             ],
             [
              0.4444444444444444,
              "#bd3786"
             ],
             [
              0.5555555555555556,
              "#d8576b"
             ],
             [
              0.6666666666666666,
              "#ed7953"
             ],
             [
              0.7777777777777778,
              "#fb9f3a"
             ],
             [
              0.8888888888888888,
              "#fdca26"
             ],
             [
              1,
              "#f0f921"
             ]
            ],
            "type": "histogram2dcontour"
           }
          ],
          "mesh3d": [
           {
            "colorbar": {
             "outlinewidth": 0,
             "ticks": ""
            },
            "type": "mesh3d"
           }
          ],
          "parcoords": [
           {
            "line": {
             "colorbar": {
              "outlinewidth": 0,
              "ticks": ""
             }
            },
            "type": "parcoords"
           }
          ],
          "pie": [
           {
            "automargin": true,
            "type": "pie"
           }
          ],
          "scatter": [
           {
            "fillpattern": {
             "fillmode": "overlay",
             "size": 10,
             "solidity": 0.2
            },
            "type": "scatter"
           }
          ],
          "scatter3d": [
           {
            "line": {
             "colorbar": {
              "outlinewidth": 0,
              "ticks": ""
             }
            },
            "marker": {
             "colorbar": {
              "outlinewidth": 0,
              "ticks": ""
             }
            },
            "type": "scatter3d"
           }
          ],
          "scattercarpet": [
           {
            "marker": {
             "colorbar": {
              "outlinewidth": 0,
              "ticks": ""
             }
            },
            "type": "scattercarpet"
           }
          ],
          "scattergeo": [
           {
            "marker": {
             "colorbar": {
              "outlinewidth": 0,
              "ticks": ""
             }
            },
            "type": "scattergeo"
           }
          ],
          "scattergl": [
           {
            "marker": {
             "colorbar": {
              "outlinewidth": 0,
              "ticks": ""
             }
            },
            "type": "scattergl"
           }
          ],
          "scattermapbox": [
           {
            "marker": {
             "colorbar": {
              "outlinewidth": 0,
              "ticks": ""
             }
            },
            "type": "scattermapbox"
           }
          ],
          "scatterpolar": [
           {
            "marker": {
             "colorbar": {
              "outlinewidth": 0,
              "ticks": ""
             }
            },
            "type": "scatterpolar"
           }
          ],
          "scatterpolargl": [
           {
            "marker": {
             "colorbar": {
              "outlinewidth": 0,
              "ticks": ""
             }
            },
            "type": "scatterpolargl"
           }
          ],
          "scatterternary": [
           {
            "marker": {
             "colorbar": {
              "outlinewidth": 0,
              "ticks": ""
             }
            },
            "type": "scatterternary"
           }
          ],
          "surface": [
           {
            "colorbar": {
             "outlinewidth": 0,
             "ticks": ""
            },
            "colorscale": [
             [
              0,
              "#0d0887"
             ],
             [
              0.1111111111111111,
              "#46039f"
             ],
             [
              0.2222222222222222,
              "#7201a8"
             ],
             [
              0.3333333333333333,
              "#9c179e"
             ],
             [
              0.4444444444444444,
              "#bd3786"
             ],
             [
              0.5555555555555556,
              "#d8576b"
             ],
             [
              0.6666666666666666,
              "#ed7953"
             ],
             [
              0.7777777777777778,
              "#fb9f3a"
             ],
             [
              0.8888888888888888,
              "#fdca26"
             ],
             [
              1,
              "#f0f921"
             ]
            ],
            "type": "surface"
           }
          ],
          "table": [
           {
            "cells": {
             "fill": {
              "color": "#EBF0F8"
             },
             "line": {
              "color": "white"
             }
            },
            "header": {
             "fill": {
              "color": "#C8D4E3"
             },
             "line": {
              "color": "white"
             }
            },
            "type": "table"
           }
          ]
         },
         "layout": {
          "annotationdefaults": {
           "arrowcolor": "#2a3f5f",
           "arrowhead": 0,
           "arrowwidth": 1
          },
          "autotypenumbers": "strict",
          "coloraxis": {
           "colorbar": {
            "outlinewidth": 0,
            "ticks": ""
           }
          },
          "colorscale": {
           "diverging": [
            [
             0,
             "#8e0152"
            ],
            [
             0.1,
             "#c51b7d"
            ],
            [
             0.2,
             "#de77ae"
            ],
            [
             0.3,
             "#f1b6da"
            ],
            [
             0.4,
             "#fde0ef"
            ],
            [
             0.5,
             "#f7f7f7"
            ],
            [
             0.6,
             "#e6f5d0"
            ],
            [
             0.7,
             "#b8e186"
            ],
            [
             0.8,
             "#7fbc41"
            ],
            [
             0.9,
             "#4d9221"
            ],
            [
             1,
             "#276419"
            ]
           ],
           "sequential": [
            [
             0,
             "#0d0887"
            ],
            [
             0.1111111111111111,
             "#46039f"
            ],
            [
             0.2222222222222222,
             "#7201a8"
            ],
            [
             0.3333333333333333,
             "#9c179e"
            ],
            [
             0.4444444444444444,
             "#bd3786"
            ],
            [
             0.5555555555555556,
             "#d8576b"
            ],
            [
             0.6666666666666666,
             "#ed7953"
            ],
            [
             0.7777777777777778,
             "#fb9f3a"
            ],
            [
             0.8888888888888888,
             "#fdca26"
            ],
            [
             1,
             "#f0f921"
            ]
           ],
           "sequentialminus": [
            [
             0,
             "#0d0887"
            ],
            [
             0.1111111111111111,
             "#46039f"
            ],
            [
             0.2222222222222222,
             "#7201a8"
            ],
            [
             0.3333333333333333,
             "#9c179e"
            ],
            [
             0.4444444444444444,
             "#bd3786"
            ],
            [
             0.5555555555555556,
             "#d8576b"
            ],
            [
             0.6666666666666666,
             "#ed7953"
            ],
            [
             0.7777777777777778,
             "#fb9f3a"
            ],
            [
             0.8888888888888888,
             "#fdca26"
            ],
            [
             1,
             "#f0f921"
            ]
           ]
          },
          "colorway": [
           "#636efa",
           "#EF553B",
           "#00cc96",
           "#ab63fa",
           "#FFA15A",
           "#19d3f3",
           "#FF6692",
           "#B6E880",
           "#FF97FF",
           "#FECB52"
          ],
          "font": {
           "color": "#2a3f5f"
          },
          "geo": {
           "bgcolor": "white",
           "lakecolor": "white",
           "landcolor": "#E5ECF6",
           "showlakes": true,
           "showland": true,
           "subunitcolor": "white"
          },
          "hoverlabel": {
           "align": "left"
          },
          "hovermode": "closest",
          "mapbox": {
           "style": "light"
          },
          "paper_bgcolor": "white",
          "plot_bgcolor": "#E5ECF6",
          "polar": {
           "angularaxis": {
            "gridcolor": "white",
            "linecolor": "white",
            "ticks": ""
           },
           "bgcolor": "#E5ECF6",
           "radialaxis": {
            "gridcolor": "white",
            "linecolor": "white",
            "ticks": ""
           }
          },
          "scene": {
           "xaxis": {
            "backgroundcolor": "#E5ECF6",
            "gridcolor": "white",
            "gridwidth": 2,
            "linecolor": "white",
            "showbackground": true,
            "ticks": "",
            "zerolinecolor": "white"
           },
           "yaxis": {
            "backgroundcolor": "#E5ECF6",
            "gridcolor": "white",
            "gridwidth": 2,
            "linecolor": "white",
            "showbackground": true,
            "ticks": "",
            "zerolinecolor": "white"
           },
           "zaxis": {
            "backgroundcolor": "#E5ECF6",
            "gridcolor": "white",
            "gridwidth": 2,
            "linecolor": "white",
            "showbackground": true,
            "ticks": "",
            "zerolinecolor": "white"
           }
          },
          "shapedefaults": {
           "line": {
            "color": "#2a3f5f"
           }
          },
          "ternary": {
           "aaxis": {
            "gridcolor": "white",
            "linecolor": "white",
            "ticks": ""
           },
           "baxis": {
            "gridcolor": "white",
            "linecolor": "white",
            "ticks": ""
           },
           "bgcolor": "#E5ECF6",
           "caxis": {
            "gridcolor": "white",
            "linecolor": "white",
            "ticks": ""
           }
          },
          "title": {
           "x": 0.05
          },
          "xaxis": {
           "automargin": true,
           "gridcolor": "white",
           "linecolor": "white",
           "ticks": "",
           "title": {
            "standoff": 15
           },
           "zerolinecolor": "white",
           "zerolinewidth": 2
          },
          "yaxis": {
           "automargin": true,
           "gridcolor": "white",
           "linecolor": "white",
           "ticks": "",
           "title": {
            "standoff": 15
           },
           "zerolinecolor": "white",
           "zerolinewidth": 2
          }
         }
        },
        "title": {
         "text": "Community Total Annual Savings"
        },
        "width": 1100,
        "xaxis": {
         "anchor": "y",
         "domain": [
          0,
          0.00007998400319936014
         ],
         "tickangle": 45,
         "title": {
          "text": ""
         },
         "visible": false
        },
        "xaxis2": {
         "anchor": "y2",
         "domain": [
          0.12007998400319936,
          0.2000639872025595
         ],
         "tickangle": 45,
         "title": {
          "text": "Bill<br>Savings<br>usd"
         },
         "visible": true
        },
        "xaxis3": {
         "anchor": "y3",
         "domain": [
          0.32006398720255946,
          0.40004799040191963
         ],
         "tickangle": 45,
         "title": {
          "text": "Site Emission<br>Saving<br>kgCO2e"
         },
         "visible": true
        },
        "xaxis4": {
         "anchor": "y4",
         "domain": [
          0.5200479904019196,
          0.6000319936012798
         ],
         "tickangle": 45,
         "title": {
          "text": "Site Energy<br>Saving<br>mmbtu"
         },
         "visible": true
        },
        "xaxis5": {
         "anchor": "y5",
         "domain": [
          0.7200319936012798,
          0.80001599680064
         ],
         "tickangle": 45,
         "title": {
          "text": "Electricity<br>Saving<br>kwh"
         },
         "visible": true
        },
        "xaxis6": {
         "anchor": "y6",
         "domain": [
          0.9200159968006398,
          1
         ],
         "tickangle": 45,
         "title": {
          "text": "Gas, Propane,<br>Fuel Oil Saving<br>mmbtu"
         },
         "visible": true
        },
        "yaxis": {
         "anchor": "x",
         "domain": [
          0,
          1
         ],
         "visible": true
        },
        "yaxis2": {
         "anchor": "x2",
         "domain": [
          0,
          1
         ],
         "visible": false
        },
        "yaxis3": {
         "anchor": "x3",
         "domain": [
          0,
          1
         ],
         "visible": false
        },
        "yaxis4": {
         "anchor": "x4",
         "domain": [
          0,
          1
         ],
         "visible": false
        },
        "yaxis5": {
         "anchor": "x5",
         "domain": [
          0,
          1
         ],
         "visible": false
        },
        "yaxis6": {
         "anchor": "x6",
         "domain": [
          0,
          1
         ],
         "visible": false
        }
       }
      },
      "text/html": [
       "<div>                            <div id=\"fe403d7c-a0ac-429e-94bc-3357580332b9\" class=\"plotly-graph-div\" style=\"height:500px; width:1100px;\"></div>            <script type=\"text/javascript\">                require([\"plotly\"], function(Plotly) {                    window.PLOTLYENV=window.PLOTLYENV || {};                                    if (document.getElementById(\"fe403d7c-a0ac-429e-94bc-3357580332b9\")) {                    Plotly.newPlot(                        \"fe403d7c-a0ac-429e-94bc-3357580332b9\",                        [{\"orientation\":\"h\",\"x\":[0,0,0,0,0,0,0,0,0,0,0,0,0,0,0,0,0,0,0,0,0,0,0,0,0,0,0,0,0,0,0,0,0,0,0,0,0,0,0,0,0,0,0,0,0,0,0,0,0,0,0,0,0,0,0,0,0,0,0,0,0,0,0,0,0,0,0,0,0,0,0,0,0,0,0,0,0,0,0,0,0,0,0,0,0,0,0,0,0,0,0,0,0,0,0,0,0,0,0,0,0,0,0,0,0,0,0,0,0,0,0,0,0,0,0,0,0,0,0,0,0,0,0,0,0,0,0,0,0,0,0,0,0,0,0,0,0,0,0,0,0,0,0,0,0,0,0,0,0,0,0,0,0,0,0,0,0,0,0,0,0,0,0,0,0,0,0,0,0,0,0,0,0,0,0,0],\"y\":[\"Electric Cooking\",\"Electric Clothes Dryer\",\"Induction Cooking\",\"Heat Pump Clothes Dryer\",\"Mininum Efficiency Whole Home Electrification\",\"Heat Pump Water Heater\",\"Mininum Efficiency Heat Pump with Electric Heat Backup\",\"Mininum Efficiency Heat Pump with Existing Heat Backup\",\"Basic Enclosure\",\"Enhanced Enclosure\",\"High Efficiency Heat Pump with Electric Heat Backup\",\"High Efficiency Whole Home Electrification\",\"Basic Enclosure + HPWH + High Efficiency HP/Electric Backup\",\"Enhanced Enclosure + HPWH + High Efficiency HP/Electric Backup\",\"Basic Enclosure + High Efficiency Whole Home Electrification\",\"Enhanced Enclosure + High Efficiency Whole Home Electrification\"],\"type\":\"bar\",\"xaxis\":\"x\",\"yaxis\":\"y\",\"textfont\":{\"size\":10},\"cliponaxis\":false,\"textangle\":0,\"textposition\":\"outside\",\"marker\":{\"line\":{\"color\":\"rgb(255, 255, 255)\"},\"color\":\"rgb(255, 255, 255)\"}},{\"orientation\":\"h\",\"text\":[-954971.5027617038,-472762.45200744056,465109.2983046494,8482133.500829851,32007833.067682855,32251975.81760225,57778420.827302195,72202667.11262098,139129460.07197097,166870737.1086053,238998390.59987688,304058741.8631031,354507146.27011347,362396165.87444335,365079882.40187806,372968902.00620794],\"x\":[-954971.5027617038,-472762.45200744056,465109.2983046494,8482133.500829851,32007833.067682855,32251975.81760225,57778420.827302195,72202667.11262098,139129460.07197097,166870737.1086053,238998390.59987688,304058741.8631031,354507146.27011347,362396165.87444335,365079882.40187806,372968902.00620794],\"y\":[\"Electric Cooking\",\"Electric Clothes Dryer\",\"Induction Cooking\",\"Heat Pump Clothes Dryer\",\"Mininum Efficiency Whole Home Electrification\",\"Heat Pump Water Heater\",\"Mininum Efficiency Heat Pump with Electric Heat Backup\",\"Mininum Efficiency Heat Pump with Existing Heat Backup\",\"Basic Enclosure\",\"Enhanced Enclosure\",\"High Efficiency Heat Pump with Electric Heat Backup\",\"High Efficiency Whole Home Electrification\",\"Basic Enclosure + HPWH + High Efficiency HP/Electric Backup\",\"Enhanced Enclosure + HPWH + High Efficiency HP/Electric Backup\",\"Basic Enclosure + High Efficiency Whole Home Electrification\",\"Enhanced Enclosure + High Efficiency Whole Home Electrification\"],\"type\":\"bar\",\"xaxis\":\"x2\",\"yaxis\":\"y2\",\"textfont\":{\"size\":10},\"cliponaxis\":false,\"textangle\":0,\"textposition\":\"outside\",\"marker\":{\"line\":{\"color\":\"rgb(0, 121, 61)\"},\"color\":\"rgb(0, 121, 61)\"},\"texttemplate\":\"%{text:.3s}\"},{\"orientation\":\"h\",\"text\":[4933904.912364874,-300504.9042942179,9199992.76109711,26257408.63796987,613720202.9543158,156767813.81415036,630318845.0554094,487372652.64081955,636773894.5947045,763157161.2236121,1249996086.0673997,1534858872.8241801,1708658865.7873611,1736257336.143071,1744116267.186428,1771714737.542138],\"x\":[4933904.912364874,-300504.9042942179,9199992.76109711,26257408.63796987,613720202.9543158,156767813.81415036,630318845.0554094,487372652.64081955,636773894.5947045,763157161.2236121,1249996086.0673997,1534858872.8241801,1708658865.7873611,1736257336.143071,1744116267.186428,1771714737.542138],\"y\":[\"Electric Cooking\",\"Electric Clothes Dryer\",\"Induction Cooking\",\"Heat Pump Clothes Dryer\",\"Mininum Efficiency Whole Home Electrification\",\"Heat Pump Water Heater\",\"Mininum Efficiency Heat Pump with Electric Heat Backup\",\"Mininum Efficiency Heat Pump with Existing Heat Backup\",\"Basic Enclosure\",\"Enhanced Enclosure\",\"High Efficiency Heat Pump with Electric Heat Backup\",\"High Efficiency Whole Home Electrification\",\"Basic Enclosure + HPWH + High Efficiency HP/Electric Backup\",\"Enhanced Enclosure + HPWH + High Efficiency HP/Electric Backup\",\"Basic Enclosure + High Efficiency Whole Home Electrification\",\"Enhanced Enclosure + High Efficiency Whole Home Electrification\"],\"type\":\"bar\",\"xaxis\":\"x3\",\"yaxis\":\"y3\",\"textfont\":{\"size\":10},\"cliponaxis\":false,\"textangle\":0,\"textposition\":\"outside\",\"marker\":{\"line\":{\"color\":\"rgb(0, 121, 61)\"},\"color\":\"rgb(0, 121, 61)\"},\"texttemplate\":\"%{text:.3s}\"},{\"orientation\":\"h\",\"text\":[494.09600000000006,31.81700000000008,661.2190000000008,1085.6600000000003,52679.173,8575.91,48385.434,30388.505,31656.339,37804.695,69706.227,84695.064,90129.357,91057.763,91876.236,92804.64199999999],\"x\":[494.09600000000006,31.81700000000008,661.2190000000008,1085.6600000000003,52679.173,8575.91,48385.434,30388.505,31656.339,37804.695,69706.227,84695.064,90129.357,91057.763,91876.236,92804.64199999999],\"y\":[\"Electric Cooking\",\"Electric Clothes Dryer\",\"Induction Cooking\",\"Heat Pump Clothes Dryer\",\"Mininum Efficiency Whole Home Electrification\",\"Heat Pump Water Heater\",\"Mininum Efficiency Heat Pump with Electric Heat Backup\",\"Mininum Efficiency Heat Pump with Existing Heat Backup\",\"Basic Enclosure\",\"Enhanced Enclosure\",\"High Efficiency Heat Pump with Electric Heat Backup\",\"High Efficiency Whole Home Electrification\",\"Basic Enclosure + HPWH + High Efficiency HP/Electric Backup\",\"Enhanced Enclosure + HPWH + High Efficiency HP/Electric Backup\",\"Basic Enclosure + High Efficiency Whole Home Electrification\",\"Enhanced Enclosure + High Efficiency Whole Home Electrification\"],\"type\":\"bar\",\"xaxis\":\"x4\",\"yaxis\":\"y4\",\"textfont\":{\"size\":10},\"cliponaxis\":false,\"textangle\":0,\"textposition\":\"outside\",\"marker\":{\"line\":{\"color\":\"rgb(0, 121, 61)\"},\"color\":\"rgb(0, 121, 61)\"},\"texttemplate\":\"%{text:.3s}\"},{\"orientation\":\"h\",\"text\":[-32493214.70328481,-7840668.494801734,-19999102.429253895,70946028.25724201,-1695399001.7052932,93692534.5397652,-1123996491.6825519,-220072812.7448606,627291383.5748215,757847305.944837,470629106.31225866,698151137.2654991,1184078578.310421,1253487513.7699482,1235025504.1384091,1304434439.5979364],\"x\":[-32493214.70328481,-7840668.494801734,-19999102.429253895,70946028.25724201,-1695399001.7052932,93692534.5397652,-1123996491.6825519,-220072812.7448606,627291383.5748215,757847305.944837,470629106.31225866,698151137.2654991,1184078578.310421,1253487513.7699482,1235025504.1384091,1304434439.5979364],\"y\":[\"Electric Cooking\",\"Electric Clothes Dryer\",\"Induction Cooking\",\"Heat Pump Clothes Dryer\",\"Mininum Efficiency Whole Home Electrification\",\"Heat Pump Water Heater\",\"Mininum Efficiency Heat Pump with Electric Heat Backup\",\"Mininum Efficiency Heat Pump with Existing Heat Backup\",\"Basic Enclosure\",\"Enhanced Enclosure\",\"High Efficiency Heat Pump with Electric Heat Backup\",\"High Efficiency Whole Home Electrification\",\"Basic Enclosure + HPWH + High Efficiency HP/Electric Backup\",\"Enhanced Enclosure + HPWH + High Efficiency HP/Electric Backup\",\"Basic Enclosure + High Efficiency Whole Home Electrification\",\"Enhanced Enclosure + High Efficiency Whole Home Electrification\"],\"type\":\"bar\",\"xaxis\":\"x5\",\"yaxis\":\"y5\",\"textfont\":{\"size\":10},\"cliponaxis\":false,\"textangle\":0,\"textposition\":\"outside\",\"marker\":{\"line\":{\"color\":\"rgb(0, 121, 61)\"},\"color\":\"rgb(0, 121, 61)\"},\"texttemplate\":\"%{text:.3s}\"},{\"orientation\":\"h\",\"text\":[236914.23913043475,34869.86792587313,236914.23913043475,34869.86792587313,19223203.3787598,1867992.59743407,16178177.423948683,8502919.324019957,5935010.547968639,7057959.934853884,16175946.09729152,19223203.3787598,18951419.271703493,18951419.271703493,19223203.3787598,19223203.3787598],\"x\":[236914.23913043475,34869.86792587313,236914.23913043475,34869.86792587313,19223203.3787598,1867992.59743407,16178177.423948683,8502919.324019957,5935010.547968639,7057959.934853884,16175946.09729152,19223203.3787598,18951419.271703493,18951419.271703493,19223203.3787598,19223203.3787598],\"y\":[\"Electric Cooking\",\"Electric Clothes Dryer\",\"Induction Cooking\",\"Heat Pump Clothes Dryer\",\"Mininum Efficiency Whole Home Electrification\",\"Heat Pump Water Heater\",\"Mininum Efficiency Heat Pump with Electric Heat Backup\",\"Mininum Efficiency Heat Pump with Existing Heat Backup\",\"Basic Enclosure\",\"Enhanced Enclosure\",\"High Efficiency Heat Pump with Electric Heat Backup\",\"High Efficiency Whole Home Electrification\",\"Basic Enclosure + HPWH + High Efficiency HP/Electric Backup\",\"Enhanced Enclosure + HPWH + High Efficiency HP/Electric Backup\",\"Basic Enclosure + High Efficiency Whole Home Electrification\",\"Enhanced Enclosure + High Efficiency Whole Home Electrification\"],\"type\":\"bar\",\"xaxis\":\"x6\",\"yaxis\":\"y6\",\"textfont\":{\"size\":10},\"cliponaxis\":false,\"textangle\":0,\"textposition\":\"outside\",\"marker\":{\"line\":{\"color\":\"rgb(0, 121, 61)\"},\"color\":\"rgb(0, 121, 61)\"},\"texttemplate\":\"%{text:.3s}\"}],                        {\"template\":{\"data\":{\"histogram2dcontour\":[{\"type\":\"histogram2dcontour\",\"colorbar\":{\"outlinewidth\":0,\"ticks\":\"\"},\"colorscale\":[[0.0,\"#0d0887\"],[0.1111111111111111,\"#46039f\"],[0.2222222222222222,\"#7201a8\"],[0.3333333333333333,\"#9c179e\"],[0.4444444444444444,\"#bd3786\"],[0.5555555555555556,\"#d8576b\"],[0.6666666666666666,\"#ed7953\"],[0.7777777777777778,\"#fb9f3a\"],[0.8888888888888888,\"#fdca26\"],[1.0,\"#f0f921\"]]}],\"choropleth\":[{\"type\":\"choropleth\",\"colorbar\":{\"outlinewidth\":0,\"ticks\":\"\"}}],\"histogram2d\":[{\"type\":\"histogram2d\",\"colorbar\":{\"outlinewidth\":0,\"ticks\":\"\"},\"colorscale\":[[0.0,\"#0d0887\"],[0.1111111111111111,\"#46039f\"],[0.2222222222222222,\"#7201a8\"],[0.3333333333333333,\"#9c179e\"],[0.4444444444444444,\"#bd3786\"],[0.5555555555555556,\"#d8576b\"],[0.6666666666666666,\"#ed7953\"],[0.7777777777777778,\"#fb9f3a\"],[0.8888888888888888,\"#fdca26\"],[1.0,\"#f0f921\"]]}],\"heatmap\":[{\"type\":\"heatmap\",\"colorbar\":{\"outlinewidth\":0,\"ticks\":\"\"},\"colorscale\":[[0.0,\"#0d0887\"],[0.1111111111111111,\"#46039f\"],[0.2222222222222222,\"#7201a8\"],[0.3333333333333333,\"#9c179e\"],[0.4444444444444444,\"#bd3786\"],[0.5555555555555556,\"#d8576b\"],[0.6666666666666666,\"#ed7953\"],[0.7777777777777778,\"#fb9f3a\"],[0.8888888888888888,\"#fdca26\"],[1.0,\"#f0f921\"]]}],\"heatmapgl\":[{\"type\":\"heatmapgl\",\"colorbar\":{\"outlinewidth\":0,\"ticks\":\"\"},\"colorscale\":[[0.0,\"#0d0887\"],[0.1111111111111111,\"#46039f\"],[0.2222222222222222,\"#7201a8\"],[0.3333333333333333,\"#9c179e\"],[0.4444444444444444,\"#bd3786\"],[0.5555555555555556,\"#d8576b\"],[0.6666666666666666,\"#ed7953\"],[0.7777777777777778,\"#fb9f3a\"],[0.8888888888888888,\"#fdca26\"],[1.0,\"#f0f921\"]]}],\"contourcarpet\":[{\"type\":\"contourcarpet\",\"colorbar\":{\"outlinewidth\":0,\"ticks\":\"\"}}],\"contour\":[{\"type\":\"contour\",\"colorbar\":{\"outlinewidth\":0,\"ticks\":\"\"},\"colorscale\":[[0.0,\"#0d0887\"],[0.1111111111111111,\"#46039f\"],[0.2222222222222222,\"#7201a8\"],[0.3333333333333333,\"#9c179e\"],[0.4444444444444444,\"#bd3786\"],[0.5555555555555556,\"#d8576b\"],[0.6666666666666666,\"#ed7953\"],[0.7777777777777778,\"#fb9f3a\"],[0.8888888888888888,\"#fdca26\"],[1.0,\"#f0f921\"]]}],\"surface\":[{\"type\":\"surface\",\"colorbar\":{\"outlinewidth\":0,\"ticks\":\"\"},\"colorscale\":[[0.0,\"#0d0887\"],[0.1111111111111111,\"#46039f\"],[0.2222222222222222,\"#7201a8\"],[0.3333333333333333,\"#9c179e\"],[0.4444444444444444,\"#bd3786\"],[0.5555555555555556,\"#d8576b\"],[0.6666666666666666,\"#ed7953\"],[0.7777777777777778,\"#fb9f3a\"],[0.8888888888888888,\"#fdca26\"],[1.0,\"#f0f921\"]]}],\"mesh3d\":[{\"type\":\"mesh3d\",\"colorbar\":{\"outlinewidth\":0,\"ticks\":\"\"}}],\"scatter\":[{\"fillpattern\":{\"fillmode\":\"overlay\",\"size\":10,\"solidity\":0.2},\"type\":\"scatter\"}],\"parcoords\":[{\"type\":\"parcoords\",\"line\":{\"colorbar\":{\"outlinewidth\":0,\"ticks\":\"\"}}}],\"scatterpolargl\":[{\"type\":\"scatterpolargl\",\"marker\":{\"colorbar\":{\"outlinewidth\":0,\"ticks\":\"\"}}}],\"bar\":[{\"error_x\":{\"color\":\"#2a3f5f\"},\"error_y\":{\"color\":\"#2a3f5f\"},\"marker\":{\"line\":{\"color\":\"#E5ECF6\",\"width\":0.5},\"pattern\":{\"fillmode\":\"overlay\",\"size\":10,\"solidity\":0.2}},\"type\":\"bar\"}],\"scattergeo\":[{\"type\":\"scattergeo\",\"marker\":{\"colorbar\":{\"outlinewidth\":0,\"ticks\":\"\"}}}],\"scatterpolar\":[{\"type\":\"scatterpolar\",\"marker\":{\"colorbar\":{\"outlinewidth\":0,\"ticks\":\"\"}}}],\"histogram\":[{\"marker\":{\"pattern\":{\"fillmode\":\"overlay\",\"size\":10,\"solidity\":0.2}},\"type\":\"histogram\"}],\"scattergl\":[{\"type\":\"scattergl\",\"marker\":{\"colorbar\":{\"outlinewidth\":0,\"ticks\":\"\"}}}],\"scatter3d\":[{\"type\":\"scatter3d\",\"line\":{\"colorbar\":{\"outlinewidth\":0,\"ticks\":\"\"}},\"marker\":{\"colorbar\":{\"outlinewidth\":0,\"ticks\":\"\"}}}],\"scattermapbox\":[{\"type\":\"scattermapbox\",\"marker\":{\"colorbar\":{\"outlinewidth\":0,\"ticks\":\"\"}}}],\"scatterternary\":[{\"type\":\"scatterternary\",\"marker\":{\"colorbar\":{\"outlinewidth\":0,\"ticks\":\"\"}}}],\"scattercarpet\":[{\"type\":\"scattercarpet\",\"marker\":{\"colorbar\":{\"outlinewidth\":0,\"ticks\":\"\"}}}],\"carpet\":[{\"aaxis\":{\"endlinecolor\":\"#2a3f5f\",\"gridcolor\":\"white\",\"linecolor\":\"white\",\"minorgridcolor\":\"white\",\"startlinecolor\":\"#2a3f5f\"},\"baxis\":{\"endlinecolor\":\"#2a3f5f\",\"gridcolor\":\"white\",\"linecolor\":\"white\",\"minorgridcolor\":\"white\",\"startlinecolor\":\"#2a3f5f\"},\"type\":\"carpet\"}],\"table\":[{\"cells\":{\"fill\":{\"color\":\"#EBF0F8\"},\"line\":{\"color\":\"white\"}},\"header\":{\"fill\":{\"color\":\"#C8D4E3\"},\"line\":{\"color\":\"white\"}},\"type\":\"table\"}],\"barpolar\":[{\"marker\":{\"line\":{\"color\":\"#E5ECF6\",\"width\":0.5},\"pattern\":{\"fillmode\":\"overlay\",\"size\":10,\"solidity\":0.2}},\"type\":\"barpolar\"}],\"pie\":[{\"automargin\":true,\"type\":\"pie\"}]},\"layout\":{\"autotypenumbers\":\"strict\",\"colorway\":[\"#636efa\",\"#EF553B\",\"#00cc96\",\"#ab63fa\",\"#FFA15A\",\"#19d3f3\",\"#FF6692\",\"#B6E880\",\"#FF97FF\",\"#FECB52\"],\"font\":{\"color\":\"#2a3f5f\"},\"hovermode\":\"closest\",\"hoverlabel\":{\"align\":\"left\"},\"paper_bgcolor\":\"white\",\"plot_bgcolor\":\"#E5ECF6\",\"polar\":{\"bgcolor\":\"#E5ECF6\",\"angularaxis\":{\"gridcolor\":\"white\",\"linecolor\":\"white\",\"ticks\":\"\"},\"radialaxis\":{\"gridcolor\":\"white\",\"linecolor\":\"white\",\"ticks\":\"\"}},\"ternary\":{\"bgcolor\":\"#E5ECF6\",\"aaxis\":{\"gridcolor\":\"white\",\"linecolor\":\"white\",\"ticks\":\"\"},\"baxis\":{\"gridcolor\":\"white\",\"linecolor\":\"white\",\"ticks\":\"\"},\"caxis\":{\"gridcolor\":\"white\",\"linecolor\":\"white\",\"ticks\":\"\"}},\"coloraxis\":{\"colorbar\":{\"outlinewidth\":0,\"ticks\":\"\"}},\"colorscale\":{\"sequential\":[[0.0,\"#0d0887\"],[0.1111111111111111,\"#46039f\"],[0.2222222222222222,\"#7201a8\"],[0.3333333333333333,\"#9c179e\"],[0.4444444444444444,\"#bd3786\"],[0.5555555555555556,\"#d8576b\"],[0.6666666666666666,\"#ed7953\"],[0.7777777777777778,\"#fb9f3a\"],[0.8888888888888888,\"#fdca26\"],[1.0,\"#f0f921\"]],\"sequentialminus\":[[0.0,\"#0d0887\"],[0.1111111111111111,\"#46039f\"],[0.2222222222222222,\"#7201a8\"],[0.3333333333333333,\"#9c179e\"],[0.4444444444444444,\"#bd3786\"],[0.5555555555555556,\"#d8576b\"],[0.6666666666666666,\"#ed7953\"],[0.7777777777777778,\"#fb9f3a\"],[0.8888888888888888,\"#fdca26\"],[1.0,\"#f0f921\"]],\"diverging\":[[0,\"#8e0152\"],[0.1,\"#c51b7d\"],[0.2,\"#de77ae\"],[0.3,\"#f1b6da\"],[0.4,\"#fde0ef\"],[0.5,\"#f7f7f7\"],[0.6,\"#e6f5d0\"],[0.7,\"#b8e186\"],[0.8,\"#7fbc41\"],[0.9,\"#4d9221\"],[1,\"#276419\"]]},\"xaxis\":{\"gridcolor\":\"white\",\"linecolor\":\"white\",\"ticks\":\"\",\"title\":{\"standoff\":15},\"zerolinecolor\":\"white\",\"automargin\":true,\"zerolinewidth\":2},\"yaxis\":{\"gridcolor\":\"white\",\"linecolor\":\"white\",\"ticks\":\"\",\"title\":{\"standoff\":15},\"zerolinecolor\":\"white\",\"automargin\":true,\"zerolinewidth\":2},\"scene\":{\"xaxis\":{\"backgroundcolor\":\"#E5ECF6\",\"gridcolor\":\"white\",\"linecolor\":\"white\",\"showbackground\":true,\"ticks\":\"\",\"zerolinecolor\":\"white\",\"gridwidth\":2},\"yaxis\":{\"backgroundcolor\":\"#E5ECF6\",\"gridcolor\":\"white\",\"linecolor\":\"white\",\"showbackground\":true,\"ticks\":\"\",\"zerolinecolor\":\"white\",\"gridwidth\":2},\"zaxis\":{\"backgroundcolor\":\"#E5ECF6\",\"gridcolor\":\"white\",\"linecolor\":\"white\",\"showbackground\":true,\"ticks\":\"\",\"zerolinecolor\":\"white\",\"gridwidth\":2}},\"shapedefaults\":{\"line\":{\"color\":\"#2a3f5f\"}},\"annotationdefaults\":{\"arrowcolor\":\"#2a3f5f\",\"arrowhead\":0,\"arrowwidth\":1},\"geo\":{\"bgcolor\":\"white\",\"landcolor\":\"#E5ECF6\",\"subunitcolor\":\"white\",\"showland\":true,\"showlakes\":true,\"lakecolor\":\"white\"},\"title\":{\"x\":0.05},\"mapbox\":{\"style\":\"light\"}}},\"xaxis\":{\"anchor\":\"y\",\"domain\":[0.0,7.998400319936014e-05],\"title\":{\"text\":\"\"},\"visible\":false,\"tickangle\":45},\"yaxis\":{\"anchor\":\"x\",\"domain\":[0.0,1.0],\"visible\":true},\"xaxis2\":{\"anchor\":\"y2\",\"domain\":[0.12007998400319936,0.2000639872025595],\"title\":{\"text\":\"Bill<br>Savings<br>usd\"},\"visible\":true,\"tickangle\":45},\"yaxis2\":{\"anchor\":\"x2\",\"domain\":[0.0,1.0],\"visible\":false},\"xaxis3\":{\"anchor\":\"y3\",\"domain\":[0.32006398720255946,0.40004799040191963],\"title\":{\"text\":\"Site Emission<br>Saving<br>kgCO2e\"},\"visible\":true,\"tickangle\":45},\"yaxis3\":{\"anchor\":\"x3\",\"domain\":[0.0,1.0],\"visible\":false},\"xaxis4\":{\"anchor\":\"y4\",\"domain\":[0.5200479904019196,0.6000319936012798],\"title\":{\"text\":\"Site Energy<br>Saving<br>mmbtu\"},\"visible\":true,\"tickangle\":45},\"yaxis4\":{\"anchor\":\"x4\",\"domain\":[0.0,1.0],\"visible\":false},\"xaxis5\":{\"anchor\":\"y5\",\"domain\":[0.7200319936012798,0.80001599680064],\"title\":{\"text\":\"Electricity<br>Saving<br>kwh\"},\"visible\":true,\"tickangle\":45},\"yaxis5\":{\"anchor\":\"x5\",\"domain\":[0.0,1.0],\"visible\":false},\"xaxis6\":{\"anchor\":\"y6\",\"domain\":[0.9200159968006398,1.0],\"title\":{\"text\":\"Gas, Propane,<br>Fuel Oil Saving<br>mmbtu\"},\"visible\":true,\"tickangle\":45},\"yaxis6\":{\"anchor\":\"x6\",\"domain\":[0.0,1.0],\"visible\":false},\"title\":{\"text\":\"Community Total Annual Savings\"},\"font\":{\"size\":10},\"autosize\":false,\"width\":1100,\"height\":500,\"plot_bgcolor\":\"rgba(0, 0, 0, 0)\",\"showlegend\":false},                        {\"responsive\": true}                    ).then(function(){\n",
       "                            \n",
       "var gd = document.getElementById('fe403d7c-a0ac-429e-94bc-3357580332b9');\n",
       "var x = new MutationObserver(function (mutations, observer) {{\n",
       "        var display = window.getComputedStyle(gd).display;\n",
       "        if (!display || display === 'none') {{\n",
       "            console.log([gd, 'removed!']);\n",
       "            Plotly.purge(gd);\n",
       "            observer.disconnect();\n",
       "        }}\n",
       "}});\n",
       "\n",
       "// Listen for the removal of the full notebook cells\n",
       "var notebookContainer = gd.closest('#notebook-container');\n",
       "if (notebookContainer) {{\n",
       "    x.observe(notebookContainer, {childList: true});\n",
       "}}\n",
       "\n",
       "// Listen for the clearing of the current output cell\n",
       "var outputEl = gd.closest('.output');\n",
       "if (outputEl) {{\n",
       "    x.observe(outputEl, {childList: true});\n",
       "}}\n",
       "\n",
       "                        })                };                });            </script>        </div>"
      ]
     },
     "metadata": {},
     "output_type": "display_data"
    }
   ],
   "source": [
    "results = figure_total_savings_2(community_results)\n",
    "saving_results[['whole_community_saving_bill_total_usd','whole_community_saving_emission_total_kgCO2e','whole_community_saving_energy_total_mmbtu','whole_community_saving_electricity_total_kwh','whole_community_saving_natural_gas_fuel_oil_propane_total_mmbtu']] = results"
   ]
  },
  {
   "cell_type": "code",
   "execution_count": 73,
   "id": "e7ef5df2",
   "metadata": {},
   "outputs": [
    {
     "data": {
      "application/vnd.plotly.v1+json": {
       "config": {
        "plotlyServerURL": "https://plot.ly"
       },
       "data": [
        {
         "cliponaxis": false,
         "marker": {
          "color": "rgb(255, 255, 255)",
          "line": {
           "color": "rgb(255, 255, 255)"
          }
         },
         "orientation": "h",
         "textangle": 0,
         "textfont": {
          "size": 10
         },
         "textposition": "outside",
         "type": "bar",
         "x": [
          0,
          0,
          0,
          0,
          0,
          0,
          0,
          0,
          0,
          0,
          0,
          0,
          0,
          0,
          0,
          0,
          0,
          0,
          0,
          0,
          0,
          0,
          0,
          0,
          0,
          0,
          0,
          0,
          0,
          0,
          0,
          0,
          0,
          0,
          0,
          0,
          0,
          0,
          0,
          0,
          0,
          0,
          0,
          0,
          0,
          0,
          0,
          0,
          0,
          0,
          0,
          0,
          0,
          0,
          0,
          0,
          0,
          0,
          0,
          0,
          0,
          0,
          0,
          0,
          0,
          0,
          0,
          0,
          0,
          0,
          0,
          0,
          0,
          0,
          0,
          0,
          0,
          0,
          0,
          0,
          0,
          0,
          0,
          0,
          0,
          0,
          0,
          0,
          0,
          0,
          0,
          0,
          0,
          0,
          0,
          0,
          0,
          0,
          0,
          0,
          0,
          0,
          0,
          0,
          0,
          0,
          0,
          0,
          0,
          0,
          0,
          0,
          0,
          0,
          0,
          0,
          0,
          0,
          0,
          0,
          0,
          0,
          0,
          0,
          0,
          0,
          0,
          0,
          0,
          0,
          0,
          0,
          0,
          0,
          0,
          0,
          0,
          0,
          0,
          0,
          0,
          0,
          0,
          0,
          0,
          0,
          0,
          0,
          0,
          0,
          0,
          0,
          0,
          0,
          0,
          0,
          0,
          0,
          0,
          0,
          0,
          0,
          0,
          0,
          0,
          0,
          0,
          0,
          0,
          0,
          0,
          0,
          0,
          0,
          0,
          0
         ],
         "xaxis": "x",
         "y": [
          "Electric Cooking",
          "Electric Clothes Dryer",
          "Induction Cooking",
          "Heat Pump Clothes Dryer",
          "Mininum Efficiency Whole Home Electrification",
          "Heat Pump Water Heater",
          "Mininum Efficiency Heat Pump with Electric Heat Backup",
          "Mininum Efficiency Heat Pump with Existing Heat Backup",
          "Basic Enclosure",
          "Enhanced Enclosure",
          "High Efficiency Heat Pump with Electric Heat Backup",
          "High Efficiency Whole Home Electrification",
          "Basic Enclosure + HPWH + High Efficiency HP/Electric Backup",
          "Enhanced Enclosure + HPWH + High Efficiency HP/Electric Backup",
          "Basic Enclosure + High Efficiency Whole Home Electrification",
          "Enhanced Enclosure + High Efficiency Whole Home Electrification"
         ],
         "yaxis": "y"
        },
        {
         "cliponaxis": false,
         "marker": {
          "color": "rgb(0, 121, 61)",
          "line": {
           "color": "rgb(0, 121, 61)"
          }
         },
         "orientation": "h",
         "text": [
          -954971.5027617038,
          -472762.45200744056,
          465109.2983046494,
          8482133.500829851,
          32007833.067682855,
          32251975.81760225,
          57778420.827302195,
          72202667.11262098,
          139129460.07197097,
          166870737.1086053,
          238998390.59987688,
          304058741.8631031,
          354507146.27011347,
          362396165.87444335,
          365079882.40187806,
          372968902.00620794
         ],
         "textangle": 0,
         "textfont": {
          "size": 10
         },
         "textposition": "outside",
         "texttemplate": "%{text:.3s}",
         "type": "bar",
         "x": [
          -954971.5027617038,
          -472762.45200744056,
          465109.2983046494,
          8482133.500829851,
          32007833.067682855,
          32251975.81760225,
          57778420.827302195,
          72202667.11262098,
          139129460.07197097,
          166870737.1086053,
          238998390.59987688,
          304058741.8631031,
          354507146.27011347,
          362396165.87444335,
          365079882.40187806,
          372968902.00620794
         ],
         "xaxis": "x2",
         "y": [
          "Electric Cooking",
          "Electric Clothes Dryer",
          "Induction Cooking",
          "Heat Pump Clothes Dryer",
          "Mininum Efficiency Whole Home Electrification",
          "Heat Pump Water Heater",
          "Mininum Efficiency Heat Pump with Electric Heat Backup",
          "Mininum Efficiency Heat Pump with Existing Heat Backup",
          "Basic Enclosure",
          "Enhanced Enclosure",
          "High Efficiency Heat Pump with Electric Heat Backup",
          "High Efficiency Whole Home Electrification",
          "Basic Enclosure + HPWH + High Efficiency HP/Electric Backup",
          "Enhanced Enclosure + HPWH + High Efficiency HP/Electric Backup",
          "Basic Enclosure + High Efficiency Whole Home Electrification",
          "Enhanced Enclosure + High Efficiency Whole Home Electrification"
         ],
         "yaxis": "y2"
        },
        {
         "cliponaxis": false,
         "marker": {
          "color": "rgb(0, 121, 61)",
          "line": {
           "color": "rgb(0, 121, 61)"
          }
         },
         "orientation": "h",
         "text": [
          4933904.912364874,
          -300504.9042942179,
          9199992.76109711,
          26257408.63796987,
          613720202.9543158,
          156767813.81415036,
          630318845.0554094,
          487372652.64081955,
          636773894.5947045,
          763157161.2236121,
          1249996086.0673997,
          1534858872.8241801,
          1708658865.7873611,
          1736257336.143071,
          1744116267.186428,
          1771714737.542138
         ],
         "textangle": 0,
         "textfont": {
          "size": 10
         },
         "textposition": "outside",
         "texttemplate": "%{text:.3s}",
         "type": "bar",
         "x": [
          4933904.912364874,
          -300504.9042942179,
          9199992.76109711,
          26257408.63796987,
          613720202.9543158,
          156767813.81415036,
          630318845.0554094,
          487372652.64081955,
          636773894.5947045,
          763157161.2236121,
          1249996086.0673997,
          1534858872.8241801,
          1708658865.7873611,
          1736257336.143071,
          1744116267.186428,
          1771714737.542138
         ],
         "xaxis": "x3",
         "y": [
          "Electric Cooking",
          "Electric Clothes Dryer",
          "Induction Cooking",
          "Heat Pump Clothes Dryer",
          "Mininum Efficiency Whole Home Electrification",
          "Heat Pump Water Heater",
          "Mininum Efficiency Heat Pump with Electric Heat Backup",
          "Mininum Efficiency Heat Pump with Existing Heat Backup",
          "Basic Enclosure",
          "Enhanced Enclosure",
          "High Efficiency Heat Pump with Electric Heat Backup",
          "High Efficiency Whole Home Electrification",
          "Basic Enclosure + HPWH + High Efficiency HP/Electric Backup",
          "Enhanced Enclosure + HPWH + High Efficiency HP/Electric Backup",
          "Basic Enclosure + High Efficiency Whole Home Electrification",
          "Enhanced Enclosure + High Efficiency Whole Home Electrification"
         ],
         "yaxis": "y3"
        },
        {
         "cliponaxis": false,
         "marker": {
          "color": "rgb(0, 121, 61)",
          "line": {
           "color": "rgb(0, 121, 61)"
          }
         },
         "orientation": "h",
         "text": [
          126042.02309337136,
          8116.3965074839825,
          168674.46906628672,
          276947.76478973636,
          13438258.030434782,
          2187682.244476123,
          12342941.431646472,
          7751992.82929437,
          8075412.493300071,
          9643834.882751247,
          17781795.18410549,
          21605390.88068425,
          22991658.496293657,
          23228491.359729152,
          23437280.73014968,
          23674113.593585175
         ],
         "textangle": 0,
         "textfont": {
          "size": 10
         },
         "textposition": "outside",
         "texttemplate": "%{text:.3s}",
         "type": "bar",
         "x": [
          126042.02309337136,
          8116.3965074839825,
          168674.46906628672,
          276947.76478973636,
          13438258.030434782,
          2187682.244476123,
          12342941.431646472,
          7751992.82929437,
          8075412.493300071,
          9643834.882751247,
          17781795.18410549,
          21605390.88068425,
          22991658.496293657,
          23228491.359729152,
          23437280.73014968,
          23674113.593585175
         ],
         "xaxis": "x4",
         "y": [
          "Electric Cooking",
          "Electric Clothes Dryer",
          "Induction Cooking",
          "Heat Pump Clothes Dryer",
          "Mininum Efficiency Whole Home Electrification",
          "Heat Pump Water Heater",
          "Mininum Efficiency Heat Pump with Electric Heat Backup",
          "Mininum Efficiency Heat Pump with Existing Heat Backup",
          "Basic Enclosure",
          "Enhanced Enclosure",
          "High Efficiency Heat Pump with Electric Heat Backup",
          "High Efficiency Whole Home Electrification",
          "Basic Enclosure + HPWH + High Efficiency HP/Electric Backup",
          "Enhanced Enclosure + HPWH + High Efficiency HP/Electric Backup",
          "Basic Enclosure + High Efficiency Whole Home Electrification",
          "Enhanced Enclosure + High Efficiency Whole Home Electrification"
         ],
         "yaxis": "y4"
        }
       ],
       "layout": {
        "autosize": false,
        "font": {
         "size": 10
        },
        "height": 500,
        "plot_bgcolor": "rgba(0, 0, 0, 0)",
        "showlegend": false,
        "template": {
         "data": {
          "bar": [
           {
            "error_x": {
             "color": "#2a3f5f"
            },
            "error_y": {
             "color": "#2a3f5f"
            },
            "marker": {
             "line": {
              "color": "#E5ECF6",
              "width": 0.5
             },
             "pattern": {
              "fillmode": "overlay",
              "size": 10,
              "solidity": 0.2
             }
            },
            "type": "bar"
           }
          ],
          "barpolar": [
           {
            "marker": {
             "line": {
              "color": "#E5ECF6",
              "width": 0.5
             },
             "pattern": {
              "fillmode": "overlay",
              "size": 10,
              "solidity": 0.2
             }
            },
            "type": "barpolar"
           }
          ],
          "carpet": [
           {
            "aaxis": {
             "endlinecolor": "#2a3f5f",
             "gridcolor": "white",
             "linecolor": "white",
             "minorgridcolor": "white",
             "startlinecolor": "#2a3f5f"
            },
            "baxis": {
             "endlinecolor": "#2a3f5f",
             "gridcolor": "white",
             "linecolor": "white",
             "minorgridcolor": "white",
             "startlinecolor": "#2a3f5f"
            },
            "type": "carpet"
           }
          ],
          "choropleth": [
           {
            "colorbar": {
             "outlinewidth": 0,
             "ticks": ""
            },
            "type": "choropleth"
           }
          ],
          "contour": [
           {
            "colorbar": {
             "outlinewidth": 0,
             "ticks": ""
            },
            "colorscale": [
             [
              0,
              "#0d0887"
             ],
             [
              0.1111111111111111,
              "#46039f"
             ],
             [
              0.2222222222222222,
              "#7201a8"
             ],
             [
              0.3333333333333333,
              "#9c179e"
             ],
             [
              0.4444444444444444,
              "#bd3786"
             ],
             [
              0.5555555555555556,
              "#d8576b"
             ],
             [
              0.6666666666666666,
              "#ed7953"
             ],
             [
              0.7777777777777778,
              "#fb9f3a"
             ],
             [
              0.8888888888888888,
              "#fdca26"
             ],
             [
              1,
              "#f0f921"
             ]
            ],
            "type": "contour"
           }
          ],
          "contourcarpet": [
           {
            "colorbar": {
             "outlinewidth": 0,
             "ticks": ""
            },
            "type": "contourcarpet"
           }
          ],
          "heatmap": [
           {
            "colorbar": {
             "outlinewidth": 0,
             "ticks": ""
            },
            "colorscale": [
             [
              0,
              "#0d0887"
             ],
             [
              0.1111111111111111,
              "#46039f"
             ],
             [
              0.2222222222222222,
              "#7201a8"
             ],
             [
              0.3333333333333333,
              "#9c179e"
             ],
             [
              0.4444444444444444,
              "#bd3786"
             ],
             [
              0.5555555555555556,
              "#d8576b"
             ],
             [
              0.6666666666666666,
              "#ed7953"
             ],
             [
              0.7777777777777778,
              "#fb9f3a"
             ],
             [
              0.8888888888888888,
              "#fdca26"
             ],
             [
              1,
              "#f0f921"
             ]
            ],
            "type": "heatmap"
           }
          ],
          "heatmapgl": [
           {
            "colorbar": {
             "outlinewidth": 0,
             "ticks": ""
            },
            "colorscale": [
             [
              0,
              "#0d0887"
             ],
             [
              0.1111111111111111,
              "#46039f"
             ],
             [
              0.2222222222222222,
              "#7201a8"
             ],
             [
              0.3333333333333333,
              "#9c179e"
             ],
             [
              0.4444444444444444,
              "#bd3786"
             ],
             [
              0.5555555555555556,
              "#d8576b"
             ],
             [
              0.6666666666666666,
              "#ed7953"
             ],
             [
              0.7777777777777778,
              "#fb9f3a"
             ],
             [
              0.8888888888888888,
              "#fdca26"
             ],
             [
              1,
              "#f0f921"
             ]
            ],
            "type": "heatmapgl"
           }
          ],
          "histogram": [
           {
            "marker": {
             "pattern": {
              "fillmode": "overlay",
              "size": 10,
              "solidity": 0.2
             }
            },
            "type": "histogram"
           }
          ],
          "histogram2d": [
           {
            "colorbar": {
             "outlinewidth": 0,
             "ticks": ""
            },
            "colorscale": [
             [
              0,
              "#0d0887"
             ],
             [
              0.1111111111111111,
              "#46039f"
             ],
             [
              0.2222222222222222,
              "#7201a8"
             ],
             [
              0.3333333333333333,
              "#9c179e"
             ],
             [
              0.4444444444444444,
              "#bd3786"
             ],
             [
              0.5555555555555556,
              "#d8576b"
             ],
             [
              0.6666666666666666,
              "#ed7953"
             ],
             [
              0.7777777777777778,
              "#fb9f3a"
             ],
             [
              0.8888888888888888,
              "#fdca26"
             ],
             [
              1,
              "#f0f921"
             ]
            ],
            "type": "histogram2d"
           }
          ],
          "histogram2dcontour": [
           {
            "colorbar": {
             "outlinewidth": 0,
             "ticks": ""
            },
            "colorscale": [
             [
              0,
              "#0d0887"
             ],
             [
              0.1111111111111111,
              "#46039f"
             ],
             [
              0.2222222222222222,
              "#7201a8"
             ],
             [
              0.3333333333333333,
              "#9c179e"
             ],
             [
              0.4444444444444444,
              "#bd3786"
             ],
             [
              0.5555555555555556,
              "#d8576b"
             ],
             [
              0.6666666666666666,
              "#ed7953"
             ],
             [
              0.7777777777777778,
              "#fb9f3a"
             ],
             [
              0.8888888888888888,
              "#fdca26"
             ],
             [
              1,
              "#f0f921"
             ]
            ],
            "type": "histogram2dcontour"
           }
          ],
          "mesh3d": [
           {
            "colorbar": {
             "outlinewidth": 0,
             "ticks": ""
            },
            "type": "mesh3d"
           }
          ],
          "parcoords": [
           {
            "line": {
             "colorbar": {
              "outlinewidth": 0,
              "ticks": ""
             }
            },
            "type": "parcoords"
           }
          ],
          "pie": [
           {
            "automargin": true,
            "type": "pie"
           }
          ],
          "scatter": [
           {
            "fillpattern": {
             "fillmode": "overlay",
             "size": 10,
             "solidity": 0.2
            },
            "type": "scatter"
           }
          ],
          "scatter3d": [
           {
            "line": {
             "colorbar": {
              "outlinewidth": 0,
              "ticks": ""
             }
            },
            "marker": {
             "colorbar": {
              "outlinewidth": 0,
              "ticks": ""
             }
            },
            "type": "scatter3d"
           }
          ],
          "scattercarpet": [
           {
            "marker": {
             "colorbar": {
              "outlinewidth": 0,
              "ticks": ""
             }
            },
            "type": "scattercarpet"
           }
          ],
          "scattergeo": [
           {
            "marker": {
             "colorbar": {
              "outlinewidth": 0,
              "ticks": ""
             }
            },
            "type": "scattergeo"
           }
          ],
          "scattergl": [
           {
            "marker": {
             "colorbar": {
              "outlinewidth": 0,
              "ticks": ""
             }
            },
            "type": "scattergl"
           }
          ],
          "scattermapbox": [
           {
            "marker": {
             "colorbar": {
              "outlinewidth": 0,
              "ticks": ""
             }
            },
            "type": "scattermapbox"
           }
          ],
          "scatterpolar": [
           {
            "marker": {
             "colorbar": {
              "outlinewidth": 0,
              "ticks": ""
             }
            },
            "type": "scatterpolar"
           }
          ],
          "scatterpolargl": [
           {
            "marker": {
             "colorbar": {
              "outlinewidth": 0,
              "ticks": ""
             }
            },
            "type": "scatterpolargl"
           }
          ],
          "scatterternary": [
           {
            "marker": {
             "colorbar": {
              "outlinewidth": 0,
              "ticks": ""
             }
            },
            "type": "scatterternary"
           }
          ],
          "surface": [
           {
            "colorbar": {
             "outlinewidth": 0,
             "ticks": ""
            },
            "colorscale": [
             [
              0,
              "#0d0887"
             ],
             [
              0.1111111111111111,
              "#46039f"
             ],
             [
              0.2222222222222222,
              "#7201a8"
             ],
             [
              0.3333333333333333,
              "#9c179e"
             ],
             [
              0.4444444444444444,
              "#bd3786"
             ],
             [
              0.5555555555555556,
              "#d8576b"
             ],
             [
              0.6666666666666666,
              "#ed7953"
             ],
             [
              0.7777777777777778,
              "#fb9f3a"
             ],
             [
              0.8888888888888888,
              "#fdca26"
             ],
             [
              1,
              "#f0f921"
             ]
            ],
            "type": "surface"
           }
          ],
          "table": [
           {
            "cells": {
             "fill": {
              "color": "#EBF0F8"
             },
             "line": {
              "color": "white"
             }
            },
            "header": {
             "fill": {
              "color": "#C8D4E3"
             },
             "line": {
              "color": "white"
             }
            },
            "type": "table"
           }
          ]
         },
         "layout": {
          "annotationdefaults": {
           "arrowcolor": "#2a3f5f",
           "arrowhead": 0,
           "arrowwidth": 1
          },
          "autotypenumbers": "strict",
          "coloraxis": {
           "colorbar": {
            "outlinewidth": 0,
            "ticks": ""
           }
          },
          "colorscale": {
           "diverging": [
            [
             0,
             "#8e0152"
            ],
            [
             0.1,
             "#c51b7d"
            ],
            [
             0.2,
             "#de77ae"
            ],
            [
             0.3,
             "#f1b6da"
            ],
            [
             0.4,
             "#fde0ef"
            ],
            [
             0.5,
             "#f7f7f7"
            ],
            [
             0.6,
             "#e6f5d0"
            ],
            [
             0.7,
             "#b8e186"
            ],
            [
             0.8,
             "#7fbc41"
            ],
            [
             0.9,
             "#4d9221"
            ],
            [
             1,
             "#276419"
            ]
           ],
           "sequential": [
            [
             0,
             "#0d0887"
            ],
            [
             0.1111111111111111,
             "#46039f"
            ],
            [
             0.2222222222222222,
             "#7201a8"
            ],
            [
             0.3333333333333333,
             "#9c179e"
            ],
            [
             0.4444444444444444,
             "#bd3786"
            ],
            [
             0.5555555555555556,
             "#d8576b"
            ],
            [
             0.6666666666666666,
             "#ed7953"
            ],
            [
             0.7777777777777778,
             "#fb9f3a"
            ],
            [
             0.8888888888888888,
             "#fdca26"
            ],
            [
             1,
             "#f0f921"
            ]
           ],
           "sequentialminus": [
            [
             0,
             "#0d0887"
            ],
            [
             0.1111111111111111,
             "#46039f"
            ],
            [
             0.2222222222222222,
             "#7201a8"
            ],
            [
             0.3333333333333333,
             "#9c179e"
            ],
            [
             0.4444444444444444,
             "#bd3786"
            ],
            [
             0.5555555555555556,
             "#d8576b"
            ],
            [
             0.6666666666666666,
             "#ed7953"
            ],
            [
             0.7777777777777778,
             "#fb9f3a"
            ],
            [
             0.8888888888888888,
             "#fdca26"
            ],
            [
             1,
             "#f0f921"
            ]
           ]
          },
          "colorway": [
           "#636efa",
           "#EF553B",
           "#00cc96",
           "#ab63fa",
           "#FFA15A",
           "#19d3f3",
           "#FF6692",
           "#B6E880",
           "#FF97FF",
           "#FECB52"
          ],
          "font": {
           "color": "#2a3f5f"
          },
          "geo": {
           "bgcolor": "white",
           "lakecolor": "white",
           "landcolor": "#E5ECF6",
           "showlakes": true,
           "showland": true,
           "subunitcolor": "white"
          },
          "hoverlabel": {
           "align": "left"
          },
          "hovermode": "closest",
          "mapbox": {
           "style": "light"
          },
          "paper_bgcolor": "white",
          "plot_bgcolor": "#E5ECF6",
          "polar": {
           "angularaxis": {
            "gridcolor": "white",
            "linecolor": "white",
            "ticks": ""
           },
           "bgcolor": "#E5ECF6",
           "radialaxis": {
            "gridcolor": "white",
            "linecolor": "white",
            "ticks": ""
           }
          },
          "scene": {
           "xaxis": {
            "backgroundcolor": "#E5ECF6",
            "gridcolor": "white",
            "gridwidth": 2,
            "linecolor": "white",
            "showbackground": true,
            "ticks": "",
            "zerolinecolor": "white"
           },
           "yaxis": {
            "backgroundcolor": "#E5ECF6",
            "gridcolor": "white",
            "gridwidth": 2,
            "linecolor": "white",
            "showbackground": true,
            "ticks": "",
            "zerolinecolor": "white"
           },
           "zaxis": {
            "backgroundcolor": "#E5ECF6",
            "gridcolor": "white",
            "gridwidth": 2,
            "linecolor": "white",
            "showbackground": true,
            "ticks": "",
            "zerolinecolor": "white"
           }
          },
          "shapedefaults": {
           "line": {
            "color": "#2a3f5f"
           }
          },
          "ternary": {
           "aaxis": {
            "gridcolor": "white",
            "linecolor": "white",
            "ticks": ""
           },
           "baxis": {
            "gridcolor": "white",
            "linecolor": "white",
            "ticks": ""
           },
           "bgcolor": "#E5ECF6",
           "caxis": {
            "gridcolor": "white",
            "linecolor": "white",
            "ticks": ""
           }
          },
          "title": {
           "x": 0.05
          },
          "xaxis": {
           "automargin": true,
           "gridcolor": "white",
           "linecolor": "white",
           "ticks": "",
           "title": {
            "standoff": 15
           },
           "zerolinecolor": "white",
           "zerolinewidth": 2
          },
          "yaxis": {
           "automargin": true,
           "gridcolor": "white",
           "linecolor": "white",
           "ticks": "",
           "title": {
            "standoff": 15
           },
           "zerolinecolor": "white",
           "zerolinewidth": 2
          }
         }
        },
        "title": {
         "text": "Total Annual Savings for the Whole Community"
        },
        "width": 850,
        "xaxis": {
         "anchor": "y",
         "domain": [
          0,
          0.004635761589403973
         ],
         "tickangle": 45,
         "title": {
          "text": ""
         },
         "visible": false
        },
        "xaxis2": {
         "anchor": "y2",
         "domain": [
          0.10463576158940398,
          0.33642384105960266
         ],
         "tickangle": 45,
         "title": {
          "text": "Bill Savings<br>usd"
         },
         "visible": true
        },
        "xaxis3": {
         "anchor": "y3",
         "domain": [
          0.43642384105960264,
          0.6682119205298013
         ],
         "tickangle": 45,
         "title": {
          "text": "Emission Savings<br>kgCO2e"
         },
         "visible": true
        },
        "xaxis4": {
         "anchor": "y4",
         "domain": [
          0.7682119205298014,
          1
         ],
         "tickangle": 45,
         "title": {
          "text": "Energy Savings<br>mmbtu"
         },
         "visible": true
        },
        "yaxis": {
         "anchor": "x",
         "domain": [
          0,
          1
         ],
         "visible": true
        },
        "yaxis2": {
         "anchor": "x2",
         "domain": [
          0,
          1
         ],
         "visible": false
        },
        "yaxis3": {
         "anchor": "x3",
         "domain": [
          0,
          1
         ],
         "visible": false
        },
        "yaxis4": {
         "anchor": "x4",
         "domain": [
          0,
          1
         ],
         "visible": false
        }
       }
      },
      "text/html": [
       "<div>                            <div id=\"081635c6-52ee-4067-b156-f9513f258ab4\" class=\"plotly-graph-div\" style=\"height:500px; width:850px;\"></div>            <script type=\"text/javascript\">                require([\"plotly\"], function(Plotly) {                    window.PLOTLYENV=window.PLOTLYENV || {};                                    if (document.getElementById(\"081635c6-52ee-4067-b156-f9513f258ab4\")) {                    Plotly.newPlot(                        \"081635c6-52ee-4067-b156-f9513f258ab4\",                        [{\"orientation\":\"h\",\"x\":[0,0,0,0,0,0,0,0,0,0,0,0,0,0,0,0,0,0,0,0,0,0,0,0,0,0,0,0,0,0,0,0,0,0,0,0,0,0,0,0,0,0,0,0,0,0,0,0,0,0,0,0,0,0,0,0,0,0,0,0,0,0,0,0,0,0,0,0,0,0,0,0,0,0,0,0,0,0,0,0,0,0,0,0,0,0,0,0,0,0,0,0,0,0,0,0,0,0,0,0,0,0,0,0,0,0,0,0,0,0,0,0,0,0,0,0,0,0,0,0,0,0,0,0,0,0,0,0,0,0,0,0,0,0,0,0,0,0,0,0,0,0,0,0,0,0,0,0,0,0,0,0,0,0,0,0,0,0,0,0,0,0,0,0,0,0,0,0,0,0,0,0,0,0,0,0],\"y\":[\"Electric Cooking\",\"Electric Clothes Dryer\",\"Induction Cooking\",\"Heat Pump Clothes Dryer\",\"Mininum Efficiency Whole Home Electrification\",\"Heat Pump Water Heater\",\"Mininum Efficiency Heat Pump with Electric Heat Backup\",\"Mininum Efficiency Heat Pump with Existing Heat Backup\",\"Basic Enclosure\",\"Enhanced Enclosure\",\"High Efficiency Heat Pump with Electric Heat Backup\",\"High Efficiency Whole Home Electrification\",\"Basic Enclosure + HPWH + High Efficiency HP/Electric Backup\",\"Enhanced Enclosure + HPWH + High Efficiency HP/Electric Backup\",\"Basic Enclosure + High Efficiency Whole Home Electrification\",\"Enhanced Enclosure + High Efficiency Whole Home Electrification\"],\"type\":\"bar\",\"xaxis\":\"x\",\"yaxis\":\"y\",\"textfont\":{\"size\":10},\"cliponaxis\":false,\"textangle\":0,\"textposition\":\"outside\",\"marker\":{\"line\":{\"color\":\"rgb(255, 255, 255)\"},\"color\":\"rgb(255, 255, 255)\"}},{\"orientation\":\"h\",\"text\":[-954971.5027617038,-472762.45200744056,465109.2983046494,8482133.500829851,32007833.067682855,32251975.81760225,57778420.827302195,72202667.11262098,139129460.07197097,166870737.1086053,238998390.59987688,304058741.8631031,354507146.27011347,362396165.87444335,365079882.40187806,372968902.00620794],\"x\":[-954971.5027617038,-472762.45200744056,465109.2983046494,8482133.500829851,32007833.067682855,32251975.81760225,57778420.827302195,72202667.11262098,139129460.07197097,166870737.1086053,238998390.59987688,304058741.8631031,354507146.27011347,362396165.87444335,365079882.40187806,372968902.00620794],\"y\":[\"Electric Cooking\",\"Electric Clothes Dryer\",\"Induction Cooking\",\"Heat Pump Clothes Dryer\",\"Mininum Efficiency Whole Home Electrification\",\"Heat Pump Water Heater\",\"Mininum Efficiency Heat Pump with Electric Heat Backup\",\"Mininum Efficiency Heat Pump with Existing Heat Backup\",\"Basic Enclosure\",\"Enhanced Enclosure\",\"High Efficiency Heat Pump with Electric Heat Backup\",\"High Efficiency Whole Home Electrification\",\"Basic Enclosure + HPWH + High Efficiency HP/Electric Backup\",\"Enhanced Enclosure + HPWH + High Efficiency HP/Electric Backup\",\"Basic Enclosure + High Efficiency Whole Home Electrification\",\"Enhanced Enclosure + High Efficiency Whole Home Electrification\"],\"type\":\"bar\",\"xaxis\":\"x2\",\"yaxis\":\"y2\",\"textfont\":{\"size\":10},\"cliponaxis\":false,\"textangle\":0,\"textposition\":\"outside\",\"marker\":{\"line\":{\"color\":\"rgb(0, 121, 61)\"},\"color\":\"rgb(0, 121, 61)\"},\"texttemplate\":\"%{text:.3s}\"},{\"orientation\":\"h\",\"text\":[4933904.912364874,-300504.9042942179,9199992.76109711,26257408.63796987,613720202.9543158,156767813.81415036,630318845.0554094,487372652.64081955,636773894.5947045,763157161.2236121,1249996086.0673997,1534858872.8241801,1708658865.7873611,1736257336.143071,1744116267.186428,1771714737.542138],\"x\":[4933904.912364874,-300504.9042942179,9199992.76109711,26257408.63796987,613720202.9543158,156767813.81415036,630318845.0554094,487372652.64081955,636773894.5947045,763157161.2236121,1249996086.0673997,1534858872.8241801,1708658865.7873611,1736257336.143071,1744116267.186428,1771714737.542138],\"y\":[\"Electric Cooking\",\"Electric Clothes Dryer\",\"Induction Cooking\",\"Heat Pump Clothes Dryer\",\"Mininum Efficiency Whole Home Electrification\",\"Heat Pump Water Heater\",\"Mininum Efficiency Heat Pump with Electric Heat Backup\",\"Mininum Efficiency Heat Pump with Existing Heat Backup\",\"Basic Enclosure\",\"Enhanced Enclosure\",\"High Efficiency Heat Pump with Electric Heat Backup\",\"High Efficiency Whole Home Electrification\",\"Basic Enclosure + HPWH + High Efficiency HP/Electric Backup\",\"Enhanced Enclosure + HPWH + High Efficiency HP/Electric Backup\",\"Basic Enclosure + High Efficiency Whole Home Electrification\",\"Enhanced Enclosure + High Efficiency Whole Home Electrification\"],\"type\":\"bar\",\"xaxis\":\"x3\",\"yaxis\":\"y3\",\"textfont\":{\"size\":10},\"cliponaxis\":false,\"textangle\":0,\"textposition\":\"outside\",\"marker\":{\"line\":{\"color\":\"rgb(0, 121, 61)\"},\"color\":\"rgb(0, 121, 61)\"},\"texttemplate\":\"%{text:.3s}\"},{\"orientation\":\"h\",\"text\":[126042.02309337136,8116.3965074839825,168674.46906628672,276947.76478973636,13438258.030434782,2187682.244476123,12342941.431646472,7751992.82929437,8075412.493300071,9643834.882751247,17781795.18410549,21605390.88068425,22991658.496293657,23228491.359729152,23437280.73014968,23674113.593585175],\"x\":[126042.02309337136,8116.3965074839825,168674.46906628672,276947.76478973636,13438258.030434782,2187682.244476123,12342941.431646472,7751992.82929437,8075412.493300071,9643834.882751247,17781795.18410549,21605390.88068425,22991658.496293657,23228491.359729152,23437280.73014968,23674113.593585175],\"y\":[\"Electric Cooking\",\"Electric Clothes Dryer\",\"Induction Cooking\",\"Heat Pump Clothes Dryer\",\"Mininum Efficiency Whole Home Electrification\",\"Heat Pump Water Heater\",\"Mininum Efficiency Heat Pump with Electric Heat Backup\",\"Mininum Efficiency Heat Pump with Existing Heat Backup\",\"Basic Enclosure\",\"Enhanced Enclosure\",\"High Efficiency Heat Pump with Electric Heat Backup\",\"High Efficiency Whole Home Electrification\",\"Basic Enclosure + HPWH + High Efficiency HP/Electric Backup\",\"Enhanced Enclosure + HPWH + High Efficiency HP/Electric Backup\",\"Basic Enclosure + High Efficiency Whole Home Electrification\",\"Enhanced Enclosure + High Efficiency Whole Home Electrification\"],\"type\":\"bar\",\"xaxis\":\"x4\",\"yaxis\":\"y4\",\"textfont\":{\"size\":10},\"cliponaxis\":false,\"textangle\":0,\"textposition\":\"outside\",\"marker\":{\"line\":{\"color\":\"rgb(0, 121, 61)\"},\"color\":\"rgb(0, 121, 61)\"},\"texttemplate\":\"%{text:.3s}\"}],                        {\"template\":{\"data\":{\"histogram2dcontour\":[{\"type\":\"histogram2dcontour\",\"colorbar\":{\"outlinewidth\":0,\"ticks\":\"\"},\"colorscale\":[[0.0,\"#0d0887\"],[0.1111111111111111,\"#46039f\"],[0.2222222222222222,\"#7201a8\"],[0.3333333333333333,\"#9c179e\"],[0.4444444444444444,\"#bd3786\"],[0.5555555555555556,\"#d8576b\"],[0.6666666666666666,\"#ed7953\"],[0.7777777777777778,\"#fb9f3a\"],[0.8888888888888888,\"#fdca26\"],[1.0,\"#f0f921\"]]}],\"choropleth\":[{\"type\":\"choropleth\",\"colorbar\":{\"outlinewidth\":0,\"ticks\":\"\"}}],\"histogram2d\":[{\"type\":\"histogram2d\",\"colorbar\":{\"outlinewidth\":0,\"ticks\":\"\"},\"colorscale\":[[0.0,\"#0d0887\"],[0.1111111111111111,\"#46039f\"],[0.2222222222222222,\"#7201a8\"],[0.3333333333333333,\"#9c179e\"],[0.4444444444444444,\"#bd3786\"],[0.5555555555555556,\"#d8576b\"],[0.6666666666666666,\"#ed7953\"],[0.7777777777777778,\"#fb9f3a\"],[0.8888888888888888,\"#fdca26\"],[1.0,\"#f0f921\"]]}],\"heatmap\":[{\"type\":\"heatmap\",\"colorbar\":{\"outlinewidth\":0,\"ticks\":\"\"},\"colorscale\":[[0.0,\"#0d0887\"],[0.1111111111111111,\"#46039f\"],[0.2222222222222222,\"#7201a8\"],[0.3333333333333333,\"#9c179e\"],[0.4444444444444444,\"#bd3786\"],[0.5555555555555556,\"#d8576b\"],[0.6666666666666666,\"#ed7953\"],[0.7777777777777778,\"#fb9f3a\"],[0.8888888888888888,\"#fdca26\"],[1.0,\"#f0f921\"]]}],\"heatmapgl\":[{\"type\":\"heatmapgl\",\"colorbar\":{\"outlinewidth\":0,\"ticks\":\"\"},\"colorscale\":[[0.0,\"#0d0887\"],[0.1111111111111111,\"#46039f\"],[0.2222222222222222,\"#7201a8\"],[0.3333333333333333,\"#9c179e\"],[0.4444444444444444,\"#bd3786\"],[0.5555555555555556,\"#d8576b\"],[0.6666666666666666,\"#ed7953\"],[0.7777777777777778,\"#fb9f3a\"],[0.8888888888888888,\"#fdca26\"],[1.0,\"#f0f921\"]]}],\"contourcarpet\":[{\"type\":\"contourcarpet\",\"colorbar\":{\"outlinewidth\":0,\"ticks\":\"\"}}],\"contour\":[{\"type\":\"contour\",\"colorbar\":{\"outlinewidth\":0,\"ticks\":\"\"},\"colorscale\":[[0.0,\"#0d0887\"],[0.1111111111111111,\"#46039f\"],[0.2222222222222222,\"#7201a8\"],[0.3333333333333333,\"#9c179e\"],[0.4444444444444444,\"#bd3786\"],[0.5555555555555556,\"#d8576b\"],[0.6666666666666666,\"#ed7953\"],[0.7777777777777778,\"#fb9f3a\"],[0.8888888888888888,\"#fdca26\"],[1.0,\"#f0f921\"]]}],\"surface\":[{\"type\":\"surface\",\"colorbar\":{\"outlinewidth\":0,\"ticks\":\"\"},\"colorscale\":[[0.0,\"#0d0887\"],[0.1111111111111111,\"#46039f\"],[0.2222222222222222,\"#7201a8\"],[0.3333333333333333,\"#9c179e\"],[0.4444444444444444,\"#bd3786\"],[0.5555555555555556,\"#d8576b\"],[0.6666666666666666,\"#ed7953\"],[0.7777777777777778,\"#fb9f3a\"],[0.8888888888888888,\"#fdca26\"],[1.0,\"#f0f921\"]]}],\"mesh3d\":[{\"type\":\"mesh3d\",\"colorbar\":{\"outlinewidth\":0,\"ticks\":\"\"}}],\"scatter\":[{\"fillpattern\":{\"fillmode\":\"overlay\",\"size\":10,\"solidity\":0.2},\"type\":\"scatter\"}],\"parcoords\":[{\"type\":\"parcoords\",\"line\":{\"colorbar\":{\"outlinewidth\":0,\"ticks\":\"\"}}}],\"scatterpolargl\":[{\"type\":\"scatterpolargl\",\"marker\":{\"colorbar\":{\"outlinewidth\":0,\"ticks\":\"\"}}}],\"bar\":[{\"error_x\":{\"color\":\"#2a3f5f\"},\"error_y\":{\"color\":\"#2a3f5f\"},\"marker\":{\"line\":{\"color\":\"#E5ECF6\",\"width\":0.5},\"pattern\":{\"fillmode\":\"overlay\",\"size\":10,\"solidity\":0.2}},\"type\":\"bar\"}],\"scattergeo\":[{\"type\":\"scattergeo\",\"marker\":{\"colorbar\":{\"outlinewidth\":0,\"ticks\":\"\"}}}],\"scatterpolar\":[{\"type\":\"scatterpolar\",\"marker\":{\"colorbar\":{\"outlinewidth\":0,\"ticks\":\"\"}}}],\"histogram\":[{\"marker\":{\"pattern\":{\"fillmode\":\"overlay\",\"size\":10,\"solidity\":0.2}},\"type\":\"histogram\"}],\"scattergl\":[{\"type\":\"scattergl\",\"marker\":{\"colorbar\":{\"outlinewidth\":0,\"ticks\":\"\"}}}],\"scatter3d\":[{\"type\":\"scatter3d\",\"line\":{\"colorbar\":{\"outlinewidth\":0,\"ticks\":\"\"}},\"marker\":{\"colorbar\":{\"outlinewidth\":0,\"ticks\":\"\"}}}],\"scattermapbox\":[{\"type\":\"scattermapbox\",\"marker\":{\"colorbar\":{\"outlinewidth\":0,\"ticks\":\"\"}}}],\"scatterternary\":[{\"type\":\"scatterternary\",\"marker\":{\"colorbar\":{\"outlinewidth\":0,\"ticks\":\"\"}}}],\"scattercarpet\":[{\"type\":\"scattercarpet\",\"marker\":{\"colorbar\":{\"outlinewidth\":0,\"ticks\":\"\"}}}],\"carpet\":[{\"aaxis\":{\"endlinecolor\":\"#2a3f5f\",\"gridcolor\":\"white\",\"linecolor\":\"white\",\"minorgridcolor\":\"white\",\"startlinecolor\":\"#2a3f5f\"},\"baxis\":{\"endlinecolor\":\"#2a3f5f\",\"gridcolor\":\"white\",\"linecolor\":\"white\",\"minorgridcolor\":\"white\",\"startlinecolor\":\"#2a3f5f\"},\"type\":\"carpet\"}],\"table\":[{\"cells\":{\"fill\":{\"color\":\"#EBF0F8\"},\"line\":{\"color\":\"white\"}},\"header\":{\"fill\":{\"color\":\"#C8D4E3\"},\"line\":{\"color\":\"white\"}},\"type\":\"table\"}],\"barpolar\":[{\"marker\":{\"line\":{\"color\":\"#E5ECF6\",\"width\":0.5},\"pattern\":{\"fillmode\":\"overlay\",\"size\":10,\"solidity\":0.2}},\"type\":\"barpolar\"}],\"pie\":[{\"automargin\":true,\"type\":\"pie\"}]},\"layout\":{\"autotypenumbers\":\"strict\",\"colorway\":[\"#636efa\",\"#EF553B\",\"#00cc96\",\"#ab63fa\",\"#FFA15A\",\"#19d3f3\",\"#FF6692\",\"#B6E880\",\"#FF97FF\",\"#FECB52\"],\"font\":{\"color\":\"#2a3f5f\"},\"hovermode\":\"closest\",\"hoverlabel\":{\"align\":\"left\"},\"paper_bgcolor\":\"white\",\"plot_bgcolor\":\"#E5ECF6\",\"polar\":{\"bgcolor\":\"#E5ECF6\",\"angularaxis\":{\"gridcolor\":\"white\",\"linecolor\":\"white\",\"ticks\":\"\"},\"radialaxis\":{\"gridcolor\":\"white\",\"linecolor\":\"white\",\"ticks\":\"\"}},\"ternary\":{\"bgcolor\":\"#E5ECF6\",\"aaxis\":{\"gridcolor\":\"white\",\"linecolor\":\"white\",\"ticks\":\"\"},\"baxis\":{\"gridcolor\":\"white\",\"linecolor\":\"white\",\"ticks\":\"\"},\"caxis\":{\"gridcolor\":\"white\",\"linecolor\":\"white\",\"ticks\":\"\"}},\"coloraxis\":{\"colorbar\":{\"outlinewidth\":0,\"ticks\":\"\"}},\"colorscale\":{\"sequential\":[[0.0,\"#0d0887\"],[0.1111111111111111,\"#46039f\"],[0.2222222222222222,\"#7201a8\"],[0.3333333333333333,\"#9c179e\"],[0.4444444444444444,\"#bd3786\"],[0.5555555555555556,\"#d8576b\"],[0.6666666666666666,\"#ed7953\"],[0.7777777777777778,\"#fb9f3a\"],[0.8888888888888888,\"#fdca26\"],[1.0,\"#f0f921\"]],\"sequentialminus\":[[0.0,\"#0d0887\"],[0.1111111111111111,\"#46039f\"],[0.2222222222222222,\"#7201a8\"],[0.3333333333333333,\"#9c179e\"],[0.4444444444444444,\"#bd3786\"],[0.5555555555555556,\"#d8576b\"],[0.6666666666666666,\"#ed7953\"],[0.7777777777777778,\"#fb9f3a\"],[0.8888888888888888,\"#fdca26\"],[1.0,\"#f0f921\"]],\"diverging\":[[0,\"#8e0152\"],[0.1,\"#c51b7d\"],[0.2,\"#de77ae\"],[0.3,\"#f1b6da\"],[0.4,\"#fde0ef\"],[0.5,\"#f7f7f7\"],[0.6,\"#e6f5d0\"],[0.7,\"#b8e186\"],[0.8,\"#7fbc41\"],[0.9,\"#4d9221\"],[1,\"#276419\"]]},\"xaxis\":{\"gridcolor\":\"white\",\"linecolor\":\"white\",\"ticks\":\"\",\"title\":{\"standoff\":15},\"zerolinecolor\":\"white\",\"automargin\":true,\"zerolinewidth\":2},\"yaxis\":{\"gridcolor\":\"white\",\"linecolor\":\"white\",\"ticks\":\"\",\"title\":{\"standoff\":15},\"zerolinecolor\":\"white\",\"automargin\":true,\"zerolinewidth\":2},\"scene\":{\"xaxis\":{\"backgroundcolor\":\"#E5ECF6\",\"gridcolor\":\"white\",\"linecolor\":\"white\",\"showbackground\":true,\"ticks\":\"\",\"zerolinecolor\":\"white\",\"gridwidth\":2},\"yaxis\":{\"backgroundcolor\":\"#E5ECF6\",\"gridcolor\":\"white\",\"linecolor\":\"white\",\"showbackground\":true,\"ticks\":\"\",\"zerolinecolor\":\"white\",\"gridwidth\":2},\"zaxis\":{\"backgroundcolor\":\"#E5ECF6\",\"gridcolor\":\"white\",\"linecolor\":\"white\",\"showbackground\":true,\"ticks\":\"\",\"zerolinecolor\":\"white\",\"gridwidth\":2}},\"shapedefaults\":{\"line\":{\"color\":\"#2a3f5f\"}},\"annotationdefaults\":{\"arrowcolor\":\"#2a3f5f\",\"arrowhead\":0,\"arrowwidth\":1},\"geo\":{\"bgcolor\":\"white\",\"landcolor\":\"#E5ECF6\",\"subunitcolor\":\"white\",\"showland\":true,\"showlakes\":true,\"lakecolor\":\"white\"},\"title\":{\"x\":0.05},\"mapbox\":{\"style\":\"light\"}}},\"xaxis\":{\"anchor\":\"y\",\"domain\":[0.0,0.004635761589403973],\"title\":{\"text\":\"\"},\"visible\":false,\"tickangle\":45},\"yaxis\":{\"anchor\":\"x\",\"domain\":[0.0,1.0],\"visible\":true},\"xaxis2\":{\"anchor\":\"y2\",\"domain\":[0.10463576158940398,0.33642384105960266],\"title\":{\"text\":\"Bill Savings<br>usd\"},\"visible\":true,\"tickangle\":45},\"yaxis2\":{\"anchor\":\"x2\",\"domain\":[0.0,1.0],\"visible\":false},\"xaxis3\":{\"anchor\":\"y3\",\"domain\":[0.43642384105960264,0.6682119205298013],\"title\":{\"text\":\"Emission Savings<br>kgCO2e\"},\"visible\":true,\"tickangle\":45},\"yaxis3\":{\"anchor\":\"x3\",\"domain\":[0.0,1.0],\"visible\":false},\"xaxis4\":{\"anchor\":\"y4\",\"domain\":[0.7682119205298014,1.0],\"title\":{\"text\":\"Energy Savings<br>mmbtu\"},\"visible\":true,\"tickangle\":45},\"yaxis4\":{\"anchor\":\"x4\",\"domain\":[0.0,1.0],\"visible\":false},\"title\":{\"text\":\"Total Annual Savings for the Whole Community\"},\"font\":{\"size\":10},\"autosize\":false,\"width\":850,\"height\":500,\"plot_bgcolor\":\"rgba(0, 0, 0, 0)\",\"showlegend\":false},                        {\"responsive\": true}                    ).then(function(){\n",
       "                            \n",
       "var gd = document.getElementById('081635c6-52ee-4067-b156-f9513f258ab4');\n",
       "var x = new MutationObserver(function (mutations, observer) {{\n",
       "        var display = window.getComputedStyle(gd).display;\n",
       "        if (!display || display === 'none') {{\n",
       "            console.log([gd, 'removed!']);\n",
       "            Plotly.purge(gd);\n",
       "            observer.disconnect();\n",
       "        }}\n",
       "}});\n",
       "\n",
       "// Listen for the removal of the full notebook cells\n",
       "var notebookContainer = gd.closest('#notebook-container');\n",
       "if (notebookContainer) {{\n",
       "    x.observe(notebookContainer, {childList: true});\n",
       "}}\n",
       "\n",
       "// Listen for the clearing of the current output cell\n",
       "var outputEl = gd.closest('.output');\n",
       "if (outputEl) {{\n",
       "    x.observe(outputEl, {childList: true});\n",
       "}}\n",
       "\n",
       "                        })                };                });            </script>        </div>"
      ]
     },
     "metadata": {},
     "output_type": "display_data"
    }
   ],
   "source": [
    "figure_total_savings_3(community_results) "
   ]
  },
  {
   "cell_type": "markdown",
   "id": "e25c8f8e",
   "metadata": {},
   "source": [
    "## 1.3 Annual Savings Per Dwelling Unit"
   ]
  },
  {
   "cell_type": "code",
   "execution_count": 74,
   "id": "9ba37c55",
   "metadata": {},
   "outputs": [
    {
     "name": "stdout",
     "output_type": "stream",
     "text": [
      "sample_weight\n",
      "upgrade_name\n",
      "Electric Clothes Dryer                                              14795.580898\n",
      "Electric Cooking                                                    86222.523165\n",
      "Induction Cooking                                                  352542.979330\n",
      "Heat Pump Clothes Dryer                                            307646.044191\n",
      "Heat Pump Water Heater                                             357134.711333\n",
      "Mininum Efficiency Whole Home Electrification                      253820.741269\n",
      "Mininum Efficiency Heat Pump with Electric Heat Backup             356879.615110\n",
      "Mininum Efficiency Heat Pump with Existing Heat Backup             356114.326443\n",
      "Basic Enclosure                                                    349481.824661\n",
      "Enhanced Enclosure                                                 352542.979330\n",
      "High Efficiency Heat Pump with Electric Heat Backup                356879.615110\n",
      "High Efficiency Whole Home Electrification                         357900.000000\n",
      "Basic Enclosure + HPWH + High Efficiency HP/Electric Backup        357900.000000\n",
      "Enhanced Enclosure + HPWH + High Efficiency HP/Electric Backup     357900.000000\n",
      "Basic Enclosure + High Efficiency Whole Home Electrification       357900.000000\n",
      "Enhanced Enclosure + High Efficiency Whole Home Electrification    357900.000000\n",
      "Name: sample_weight, dtype: float64\n"
     ]
    },
    {
     "data": {
      "application/vnd.plotly.v1+json": {
       "config": {
        "plotlyServerURL": "https://plot.ly"
       },
       "data": [
        {
         "cliponaxis": false,
         "marker": {
          "color": "rgb(255, 255, 255)",
          "line": {
           "color": "rgb(255, 255, 255)"
          }
         },
         "orientation": "h",
         "textangle": 0,
         "textfont": {
          "size": 10
         },
         "textposition": "outside",
         "type": "bar",
         "x": [
          0,
          0,
          0,
          0,
          0,
          0,
          0,
          0,
          0,
          0,
          0,
          0,
          0,
          0,
          0,
          0,
          0,
          0,
          0,
          0,
          0,
          0,
          0,
          0,
          0,
          0,
          0,
          0,
          0,
          0,
          0,
          0,
          0,
          0,
          0,
          0,
          0,
          0,
          0,
          0,
          0,
          0,
          0,
          0,
          0,
          0,
          0,
          0,
          0,
          0,
          0,
          0,
          0,
          0,
          0,
          0,
          0,
          0,
          0,
          0,
          0,
          0,
          0,
          0,
          0,
          0,
          0,
          0,
          0,
          0,
          0,
          0,
          0,
          0,
          0,
          0,
          0,
          0,
          0,
          0,
          0,
          0,
          0,
          0,
          0,
          0,
          0,
          0,
          0,
          0,
          0,
          0,
          0,
          0,
          0,
          0,
          0,
          0,
          0,
          0,
          0,
          0,
          0,
          0,
          0,
          0,
          0,
          0,
          0,
          0,
          0,
          0,
          0,
          0,
          0,
          0,
          0,
          0,
          0,
          0,
          0,
          0,
          0,
          0,
          0,
          0,
          0,
          0,
          0,
          0,
          0,
          0,
          0,
          0,
          0,
          0,
          0,
          0,
          0,
          0,
          0,
          0,
          0,
          0,
          0,
          0,
          0,
          0,
          0,
          0,
          0,
          0,
          0,
          0,
          0,
          0,
          0,
          0,
          0,
          0,
          0,
          0,
          0,
          0,
          0,
          0,
          0,
          0,
          0,
          0,
          0,
          0,
          0,
          0,
          0,
          0
         ],
         "xaxis": "x",
         "y": [
          "Electric Clothes Dryer",
          "Electric Cooking",
          "Induction Cooking",
          "Heat Pump Clothes Dryer",
          "Heat Pump Water Heater",
          "Mininum Efficiency Whole Home Electrification",
          "Mininum Efficiency Heat Pump with Electric Heat Backup",
          "Mininum Efficiency Heat Pump with Existing Heat Backup",
          "Basic Enclosure",
          "Enhanced Enclosure",
          "High Efficiency Heat Pump with Electric Heat Backup",
          "High Efficiency Whole Home Electrification",
          "Basic Enclosure + HPWH + High Efficiency HP/Electric Backup",
          "Enhanced Enclosure + HPWH + High Efficiency HP/Electric Backup",
          "Basic Enclosure + High Efficiency Whole Home Electrification",
          "Enhanced Enclosure + High Efficiency Whole Home Electrification"
         ],
         "yaxis": "y"
        },
        {
         "cliponaxis": false,
         "marker": {
          "color": "rgb(0, 121, 61)",
          "line": {
           "color": "rgb(0, 121, 61)"
          }
         },
         "orientation": "h",
         "text": [
          -31.952949685735714,
          -11.075661761116956,
          1.319298143983947,
          27.57107936536068,
          90.30759204904794,
          126.10408789956782,
          161.8989103914383,
          202.75136873525852,
          398.10213365674315,
          473.33444967684795,
          669.6891065797952,
          849.5634028027469,
          990.5201069296269,
          1012.5626316693025,
          1020.0611411061136,
          1042.1036658457892
         ],
         "textangle": 0,
         "textfont": {
          "size": 10
         },
         "textposition": "outside",
         "texttemplate": "%{text:.3s}",
         "type": "bar",
         "x": [
          -31.952949685735714,
          -11.075661761116956,
          1.319298143983947,
          27.57107936536068,
          90.30759204904794,
          126.10408789956782,
          161.8989103914383,
          202.75136873525852,
          398.10213365674315,
          473.33444967684795,
          669.6891065797952,
          849.5634028027469,
          990.5201069296269,
          1012.5626316693025,
          1020.0611411061136,
          1042.1036658457892
         ],
         "xaxis": "x2",
         "y": [
          "Electric Clothes Dryer",
          "Electric Cooking",
          "Induction Cooking",
          "Heat Pump Clothes Dryer",
          "Heat Pump Water Heater",
          "Mininum Efficiency Whole Home Electrification",
          "Mininum Efficiency Heat Pump with Electric Heat Backup",
          "Mininum Efficiency Heat Pump with Existing Heat Backup",
          "Basic Enclosure",
          "Enhanced Enclosure",
          "High Efficiency Heat Pump with Electric Heat Backup",
          "High Efficiency Whole Home Electrification",
          "Basic Enclosure + HPWH + High Efficiency HP/Electric Backup",
          "Enhanced Enclosure + HPWH + High Efficiency HP/Electric Backup",
          "Basic Enclosure + High Efficiency Whole Home Electrification",
          "Enhanced Enclosure + High Efficiency Whole Home Electrification"
         ],
         "yaxis": "y2"
        },
        {
         "cliponaxis": false,
         "marker": {
          "color": "rgb(0, 121, 61)",
          "line": {
           "color": "rgb(0, 121, 61)"
          }
         },
         "orientation": "h",
         "text": [
          -20.310449881241517,
          57.22292425777521,
          26.09608842184662,
          85.34941090179105,
          438.9598905944457,
          2417.9277071159236,
          1766.1945887839086,
          1368.5847955301779,
          1822.0515336143123,
          2164.720916224058,
          3502.570707717347,
          4288.513195932328,
          4774.1236819987735,
          4851.235921047977,
          4873.194376044784,
          4950.306615093988
         ],
         "textangle": 0,
         "textfont": {
          "size": 10
         },
         "textposition": "outside",
         "texttemplate": "%{text:.3s}",
         "type": "bar",
         "x": [
          -20.310449881241517,
          57.22292425777521,
          26.09608842184662,
          85.34941090179105,
          438.9598905944457,
          2417.9277071159236,
          1766.1945887839086,
          1368.5847955301779,
          1822.0515336143123,
          2164.720916224058,
          3502.570707717347,
          4288.513195932328,
          4774.1236819987735,
          4851.235921047977,
          4873.194376044784,
          4950.306615093988
         ],
         "xaxis": "x3",
         "y": [
          "Electric Clothes Dryer",
          "Electric Cooking",
          "Induction Cooking",
          "Heat Pump Clothes Dryer",
          "Heat Pump Water Heater",
          "Mininum Efficiency Whole Home Electrification",
          "Mininum Efficiency Heat Pump with Electric Heat Backup",
          "Mininum Efficiency Heat Pump with Existing Heat Backup",
          "Basic Enclosure",
          "Enhanced Enclosure",
          "High Efficiency Heat Pump with Electric Heat Backup",
          "High Efficiency Whole Home Electrification",
          "Basic Enclosure + HPWH + High Efficiency HP/Electric Backup",
          "Enhanced Enclosure + HPWH + High Efficiency HP/Electric Backup",
          "Basic Enclosure + High Efficiency Whole Home Electrification",
          "Enhanced Enclosure + High Efficiency Whole Home Electrification"
         ],
         "yaxis": "y3"
        },
        {
         "cliponaxis": false,
         "marker": {
          "color": "rgb(0, 121, 61)",
          "line": {
           "color": "rgb(0, 121, 61)"
          }
         },
         "orientation": "h",
         "text": [
          0.5485689655172428,
          1.461822485207101,
          0.4784507959479022,
          0.9002155887230516,
          6.125650000000001,
          52.94389246231155,
          34.58572837741244,
          21.768270057306594,
          23.10681678832117,
          27.355061505065123,
          49.82575196568978,
          60.36711617961512,
          64.24045402708482,
          64.90218317890235,
          65.4855566642908,
          66.14728581610834
         ],
         "textangle": 0,
         "textfont": {
          "size": 10
         },
         "textposition": "outside",
         "texttemplate": "%{text:.3s}",
         "type": "bar",
         "x": [
          0.5485689655172428,
          1.461822485207101,
          0.4784507959479022,
          0.9002155887230516,
          6.125650000000001,
          52.94389246231155,
          34.58572837741244,
          21.768270057306594,
          23.10681678832117,
          27.355061505065123,
          49.82575196568978,
          60.36711617961512,
          64.24045402708482,
          64.90218317890235,
          65.4855566642908,
          66.14728581610834
         ],
         "xaxis": "x4",
         "y": [
          "Electric Clothes Dryer",
          "Electric Cooking",
          "Induction Cooking",
          "Heat Pump Clothes Dryer",
          "Heat Pump Water Heater",
          "Mininum Efficiency Whole Home Electrification",
          "Mininum Efficiency Heat Pump with Electric Heat Backup",
          "Mininum Efficiency Heat Pump with Existing Heat Backup",
          "Basic Enclosure",
          "Enhanced Enclosure",
          "High Efficiency Heat Pump with Electric Heat Backup",
          "High Efficiency Whole Home Electrification",
          "Basic Enclosure + HPWH + High Efficiency HP/Electric Backup",
          "Enhanced Enclosure + HPWH + High Efficiency HP/Electric Backup",
          "Basic Enclosure + High Efficiency Whole Home Electrification",
          "Enhanced Enclosure + High Efficiency Whole Home Electrification"
         ],
         "yaxis": "y4"
        }
       ],
       "layout": {
        "autosize": false,
        "font": {
         "size": 10
        },
        "height": 500,
        "plot_bgcolor": "rgba(0, 0, 0, 0)",
        "showlegend": false,
        "template": {
         "data": {
          "bar": [
           {
            "error_x": {
             "color": "#2a3f5f"
            },
            "error_y": {
             "color": "#2a3f5f"
            },
            "marker": {
             "line": {
              "color": "#E5ECF6",
              "width": 0.5
             },
             "pattern": {
              "fillmode": "overlay",
              "size": 10,
              "solidity": 0.2
             }
            },
            "type": "bar"
           }
          ],
          "barpolar": [
           {
            "marker": {
             "line": {
              "color": "#E5ECF6",
              "width": 0.5
             },
             "pattern": {
              "fillmode": "overlay",
              "size": 10,
              "solidity": 0.2
             }
            },
            "type": "barpolar"
           }
          ],
          "carpet": [
           {
            "aaxis": {
             "endlinecolor": "#2a3f5f",
             "gridcolor": "white",
             "linecolor": "white",
             "minorgridcolor": "white",
             "startlinecolor": "#2a3f5f"
            },
            "baxis": {
             "endlinecolor": "#2a3f5f",
             "gridcolor": "white",
             "linecolor": "white",
             "minorgridcolor": "white",
             "startlinecolor": "#2a3f5f"
            },
            "type": "carpet"
           }
          ],
          "choropleth": [
           {
            "colorbar": {
             "outlinewidth": 0,
             "ticks": ""
            },
            "type": "choropleth"
           }
          ],
          "contour": [
           {
            "colorbar": {
             "outlinewidth": 0,
             "ticks": ""
            },
            "colorscale": [
             [
              0,
              "#0d0887"
             ],
             [
              0.1111111111111111,
              "#46039f"
             ],
             [
              0.2222222222222222,
              "#7201a8"
             ],
             [
              0.3333333333333333,
              "#9c179e"
             ],
             [
              0.4444444444444444,
              "#bd3786"
             ],
             [
              0.5555555555555556,
              "#d8576b"
             ],
             [
              0.6666666666666666,
              "#ed7953"
             ],
             [
              0.7777777777777778,
              "#fb9f3a"
             ],
             [
              0.8888888888888888,
              "#fdca26"
             ],
             [
              1,
              "#f0f921"
             ]
            ],
            "type": "contour"
           }
          ],
          "contourcarpet": [
           {
            "colorbar": {
             "outlinewidth": 0,
             "ticks": ""
            },
            "type": "contourcarpet"
           }
          ],
          "heatmap": [
           {
            "colorbar": {
             "outlinewidth": 0,
             "ticks": ""
            },
            "colorscale": [
             [
              0,
              "#0d0887"
             ],
             [
              0.1111111111111111,
              "#46039f"
             ],
             [
              0.2222222222222222,
              "#7201a8"
             ],
             [
              0.3333333333333333,
              "#9c179e"
             ],
             [
              0.4444444444444444,
              "#bd3786"
             ],
             [
              0.5555555555555556,
              "#d8576b"
             ],
             [
              0.6666666666666666,
              "#ed7953"
             ],
             [
              0.7777777777777778,
              "#fb9f3a"
             ],
             [
              0.8888888888888888,
              "#fdca26"
             ],
             [
              1,
              "#f0f921"
             ]
            ],
            "type": "heatmap"
           }
          ],
          "heatmapgl": [
           {
            "colorbar": {
             "outlinewidth": 0,
             "ticks": ""
            },
            "colorscale": [
             [
              0,
              "#0d0887"
             ],
             [
              0.1111111111111111,
              "#46039f"
             ],
             [
              0.2222222222222222,
              "#7201a8"
             ],
             [
              0.3333333333333333,
              "#9c179e"
             ],
             [
              0.4444444444444444,
              "#bd3786"
             ],
             [
              0.5555555555555556,
              "#d8576b"
             ],
             [
              0.6666666666666666,
              "#ed7953"
             ],
             [
              0.7777777777777778,
              "#fb9f3a"
             ],
             [
              0.8888888888888888,
              "#fdca26"
             ],
             [
              1,
              "#f0f921"
             ]
            ],
            "type": "heatmapgl"
           }
          ],
          "histogram": [
           {
            "marker": {
             "pattern": {
              "fillmode": "overlay",
              "size": 10,
              "solidity": 0.2
             }
            },
            "type": "histogram"
           }
          ],
          "histogram2d": [
           {
            "colorbar": {
             "outlinewidth": 0,
             "ticks": ""
            },
            "colorscale": [
             [
              0,
              "#0d0887"
             ],
             [
              0.1111111111111111,
              "#46039f"
             ],
             [
              0.2222222222222222,
              "#7201a8"
             ],
             [
              0.3333333333333333,
              "#9c179e"
             ],
             [
              0.4444444444444444,
              "#bd3786"
             ],
             [
              0.5555555555555556,
              "#d8576b"
             ],
             [
              0.6666666666666666,
              "#ed7953"
             ],
             [
              0.7777777777777778,
              "#fb9f3a"
             ],
             [
              0.8888888888888888,
              "#fdca26"
             ],
             [
              1,
              "#f0f921"
             ]
            ],
            "type": "histogram2d"
           }
          ],
          "histogram2dcontour": [
           {
            "colorbar": {
             "outlinewidth": 0,
             "ticks": ""
            },
            "colorscale": [
             [
              0,
              "#0d0887"
             ],
             [
              0.1111111111111111,
              "#46039f"
             ],
             [
              0.2222222222222222,
              "#7201a8"
             ],
             [
              0.3333333333333333,
              "#9c179e"
             ],
             [
              0.4444444444444444,
              "#bd3786"
             ],
             [
              0.5555555555555556,
              "#d8576b"
             ],
             [
              0.6666666666666666,
              "#ed7953"
             ],
             [
              0.7777777777777778,
              "#fb9f3a"
             ],
             [
              0.8888888888888888,
              "#fdca26"
             ],
             [
              1,
              "#f0f921"
             ]
            ],
            "type": "histogram2dcontour"
           }
          ],
          "mesh3d": [
           {
            "colorbar": {
             "outlinewidth": 0,
             "ticks": ""
            },
            "type": "mesh3d"
           }
          ],
          "parcoords": [
           {
            "line": {
             "colorbar": {
              "outlinewidth": 0,
              "ticks": ""
             }
            },
            "type": "parcoords"
           }
          ],
          "pie": [
           {
            "automargin": true,
            "type": "pie"
           }
          ],
          "scatter": [
           {
            "fillpattern": {
             "fillmode": "overlay",
             "size": 10,
             "solidity": 0.2
            },
            "type": "scatter"
           }
          ],
          "scatter3d": [
           {
            "line": {
             "colorbar": {
              "outlinewidth": 0,
              "ticks": ""
             }
            },
            "marker": {
             "colorbar": {
              "outlinewidth": 0,
              "ticks": ""
             }
            },
            "type": "scatter3d"
           }
          ],
          "scattercarpet": [
           {
            "marker": {
             "colorbar": {
              "outlinewidth": 0,
              "ticks": ""
             }
            },
            "type": "scattercarpet"
           }
          ],
          "scattergeo": [
           {
            "marker": {
             "colorbar": {
              "outlinewidth": 0,
              "ticks": ""
             }
            },
            "type": "scattergeo"
           }
          ],
          "scattergl": [
           {
            "marker": {
             "colorbar": {
              "outlinewidth": 0,
              "ticks": ""
             }
            },
            "type": "scattergl"
           }
          ],
          "scattermapbox": [
           {
            "marker": {
             "colorbar": {
              "outlinewidth": 0,
              "ticks": ""
             }
            },
            "type": "scattermapbox"
           }
          ],
          "scatterpolar": [
           {
            "marker": {
             "colorbar": {
              "outlinewidth": 0,
              "ticks": ""
             }
            },
            "type": "scatterpolar"
           }
          ],
          "scatterpolargl": [
           {
            "marker": {
             "colorbar": {
              "outlinewidth": 0,
              "ticks": ""
             }
            },
            "type": "scatterpolargl"
           }
          ],
          "scatterternary": [
           {
            "marker": {
             "colorbar": {
              "outlinewidth": 0,
              "ticks": ""
             }
            },
            "type": "scatterternary"
           }
          ],
          "surface": [
           {
            "colorbar": {
             "outlinewidth": 0,
             "ticks": ""
            },
            "colorscale": [
             [
              0,
              "#0d0887"
             ],
             [
              0.1111111111111111,
              "#46039f"
             ],
             [
              0.2222222222222222,
              "#7201a8"
             ],
             [
              0.3333333333333333,
              "#9c179e"
             ],
             [
              0.4444444444444444,
              "#bd3786"
             ],
             [
              0.5555555555555556,
              "#d8576b"
             ],
             [
              0.6666666666666666,
              "#ed7953"
             ],
             [
              0.7777777777777778,
              "#fb9f3a"
             ],
             [
              0.8888888888888888,
              "#fdca26"
             ],
             [
              1,
              "#f0f921"
             ]
            ],
            "type": "surface"
           }
          ],
          "table": [
           {
            "cells": {
             "fill": {
              "color": "#EBF0F8"
             },
             "line": {
              "color": "white"
             }
            },
            "header": {
             "fill": {
              "color": "#C8D4E3"
             },
             "line": {
              "color": "white"
             }
            },
            "type": "table"
           }
          ]
         },
         "layout": {
          "annotationdefaults": {
           "arrowcolor": "#2a3f5f",
           "arrowhead": 0,
           "arrowwidth": 1
          },
          "autotypenumbers": "strict",
          "coloraxis": {
           "colorbar": {
            "outlinewidth": 0,
            "ticks": ""
           }
          },
          "colorscale": {
           "diverging": [
            [
             0,
             "#8e0152"
            ],
            [
             0.1,
             "#c51b7d"
            ],
            [
             0.2,
             "#de77ae"
            ],
            [
             0.3,
             "#f1b6da"
            ],
            [
             0.4,
             "#fde0ef"
            ],
            [
             0.5,
             "#f7f7f7"
            ],
            [
             0.6,
             "#e6f5d0"
            ],
            [
             0.7,
             "#b8e186"
            ],
            [
             0.8,
             "#7fbc41"
            ],
            [
             0.9,
             "#4d9221"
            ],
            [
             1,
             "#276419"
            ]
           ],
           "sequential": [
            [
             0,
             "#0d0887"
            ],
            [
             0.1111111111111111,
             "#46039f"
            ],
            [
             0.2222222222222222,
             "#7201a8"
            ],
            [
             0.3333333333333333,
             "#9c179e"
            ],
            [
             0.4444444444444444,
             "#bd3786"
            ],
            [
             0.5555555555555556,
             "#d8576b"
            ],
            [
             0.6666666666666666,
             "#ed7953"
            ],
            [
             0.7777777777777778,
             "#fb9f3a"
            ],
            [
             0.8888888888888888,
             "#fdca26"
            ],
            [
             1,
             "#f0f921"
            ]
           ],
           "sequentialminus": [
            [
             0,
             "#0d0887"
            ],
            [
             0.1111111111111111,
             "#46039f"
            ],
            [
             0.2222222222222222,
             "#7201a8"
            ],
            [
             0.3333333333333333,
             "#9c179e"
            ],
            [
             0.4444444444444444,
             "#bd3786"
            ],
            [
             0.5555555555555556,
             "#d8576b"
            ],
            [
             0.6666666666666666,
             "#ed7953"
            ],
            [
             0.7777777777777778,
             "#fb9f3a"
            ],
            [
             0.8888888888888888,
             "#fdca26"
            ],
            [
             1,
             "#f0f921"
            ]
           ]
          },
          "colorway": [
           "#636efa",
           "#EF553B",
           "#00cc96",
           "#ab63fa",
           "#FFA15A",
           "#19d3f3",
           "#FF6692",
           "#B6E880",
           "#FF97FF",
           "#FECB52"
          ],
          "font": {
           "color": "#2a3f5f"
          },
          "geo": {
           "bgcolor": "white",
           "lakecolor": "white",
           "landcolor": "#E5ECF6",
           "showlakes": true,
           "showland": true,
           "subunitcolor": "white"
          },
          "hoverlabel": {
           "align": "left"
          },
          "hovermode": "closest",
          "mapbox": {
           "style": "light"
          },
          "paper_bgcolor": "white",
          "plot_bgcolor": "#E5ECF6",
          "polar": {
           "angularaxis": {
            "gridcolor": "white",
            "linecolor": "white",
            "ticks": ""
           },
           "bgcolor": "#E5ECF6",
           "radialaxis": {
            "gridcolor": "white",
            "linecolor": "white",
            "ticks": ""
           }
          },
          "scene": {
           "xaxis": {
            "backgroundcolor": "#E5ECF6",
            "gridcolor": "white",
            "gridwidth": 2,
            "linecolor": "white",
            "showbackground": true,
            "ticks": "",
            "zerolinecolor": "white"
           },
           "yaxis": {
            "backgroundcolor": "#E5ECF6",
            "gridcolor": "white",
            "gridwidth": 2,
            "linecolor": "white",
            "showbackground": true,
            "ticks": "",
            "zerolinecolor": "white"
           },
           "zaxis": {
            "backgroundcolor": "#E5ECF6",
            "gridcolor": "white",
            "gridwidth": 2,
            "linecolor": "white",
            "showbackground": true,
            "ticks": "",
            "zerolinecolor": "white"
           }
          },
          "shapedefaults": {
           "line": {
            "color": "#2a3f5f"
           }
          },
          "ternary": {
           "aaxis": {
            "gridcolor": "white",
            "linecolor": "white",
            "ticks": ""
           },
           "baxis": {
            "gridcolor": "white",
            "linecolor": "white",
            "ticks": ""
           },
           "bgcolor": "#E5ECF6",
           "caxis": {
            "gridcolor": "white",
            "linecolor": "white",
            "ticks": ""
           }
          },
          "title": {
           "x": 0.05
          },
          "xaxis": {
           "automargin": true,
           "gridcolor": "white",
           "linecolor": "white",
           "ticks": "",
           "title": {
            "standoff": 15
           },
           "zerolinecolor": "white",
           "zerolinewidth": 2
          },
          "yaxis": {
           "automargin": true,
           "gridcolor": "white",
           "linecolor": "white",
           "ticks": "",
           "title": {
            "standoff": 15
           },
           "zerolinecolor": "white",
           "zerolinewidth": 2
          }
         }
        },
        "title": {
         "text": "Annual Savings Per Dwelling Unit"
        },
        "width": 850,
        "xaxis": {
         "anchor": "y",
         "domain": [
          0,
          0.004635761589403973
         ],
         "tickangle": 45,
         "title": {
          "text": ""
         },
         "visible": false
        },
        "xaxis2": {
         "anchor": "y2",
         "domain": [
          0.10463576158940398,
          0.33642384105960266
         ],
         "tickangle": 45,
         "title": {
          "text": "Bill Savings<br>usd"
         },
         "visible": true
        },
        "xaxis3": {
         "anchor": "y3",
         "domain": [
          0.43642384105960264,
          0.6682119205298013
         ],
         "tickangle": 45,
         "title": {
          "text": "Emission Savings<br>kgCO2e"
         },
         "visible": true
        },
        "xaxis4": {
         "anchor": "y4",
         "domain": [
          0.7682119205298014,
          1
         ],
         "tickangle": 45,
         "title": {
          "text": "Energy Savings<br>mmbtu"
         },
         "visible": true
        },
        "yaxis": {
         "anchor": "x",
         "domain": [
          0,
          1
         ],
         "visible": true
        },
        "yaxis2": {
         "anchor": "x2",
         "domain": [
          0,
          1
         ],
         "visible": false
        },
        "yaxis3": {
         "anchor": "x3",
         "domain": [
          0,
          1
         ],
         "visible": false
        },
        "yaxis4": {
         "anchor": "x4",
         "domain": [
          0,
          1
         ],
         "visible": false
        }
       }
      },
      "text/html": [
       "<div>                            <div id=\"cadc0459-58cf-4bed-9199-7005571f54f4\" class=\"plotly-graph-div\" style=\"height:500px; width:850px;\"></div>            <script type=\"text/javascript\">                require([\"plotly\"], function(Plotly) {                    window.PLOTLYENV=window.PLOTLYENV || {};                                    if (document.getElementById(\"cadc0459-58cf-4bed-9199-7005571f54f4\")) {                    Plotly.newPlot(                        \"cadc0459-58cf-4bed-9199-7005571f54f4\",                        [{\"orientation\":\"h\",\"x\":[0,0,0,0,0,0,0,0,0,0,0,0,0,0,0,0,0,0,0,0,0,0,0,0,0,0,0,0,0,0,0,0,0,0,0,0,0,0,0,0,0,0,0,0,0,0,0,0,0,0,0,0,0,0,0,0,0,0,0,0,0,0,0,0,0,0,0,0,0,0,0,0,0,0,0,0,0,0,0,0,0,0,0,0,0,0,0,0,0,0,0,0,0,0,0,0,0,0,0,0,0,0,0,0,0,0,0,0,0,0,0,0,0,0,0,0,0,0,0,0,0,0,0,0,0,0,0,0,0,0,0,0,0,0,0,0,0,0,0,0,0,0,0,0,0,0,0,0,0,0,0,0,0,0,0,0,0,0,0,0,0,0,0,0,0,0,0,0,0,0,0,0,0,0,0,0],\"y\":[\"Electric Clothes Dryer\",\"Electric Cooking\",\"Induction Cooking\",\"Heat Pump Clothes Dryer\",\"Heat Pump Water Heater\",\"Mininum Efficiency Whole Home Electrification\",\"Mininum Efficiency Heat Pump with Electric Heat Backup\",\"Mininum Efficiency Heat Pump with Existing Heat Backup\",\"Basic Enclosure\",\"Enhanced Enclosure\",\"High Efficiency Heat Pump with Electric Heat Backup\",\"High Efficiency Whole Home Electrification\",\"Basic Enclosure + HPWH + High Efficiency HP/Electric Backup\",\"Enhanced Enclosure + HPWH + High Efficiency HP/Electric Backup\",\"Basic Enclosure + High Efficiency Whole Home Electrification\",\"Enhanced Enclosure + High Efficiency Whole Home Electrification\"],\"type\":\"bar\",\"xaxis\":\"x\",\"yaxis\":\"y\",\"textfont\":{\"size\":10},\"cliponaxis\":false,\"textangle\":0,\"textposition\":\"outside\",\"marker\":{\"line\":{\"color\":\"rgb(255, 255, 255)\"},\"color\":\"rgb(255, 255, 255)\"}},{\"orientation\":\"h\",\"text\":[-31.952949685735714,-11.075661761116956,1.319298143983947,27.57107936536068,90.30759204904794,126.10408789956782,161.8989103914383,202.75136873525852,398.10213365674315,473.33444967684795,669.6891065797952,849.5634028027469,990.5201069296269,1012.5626316693025,1020.0611411061136,1042.1036658457892],\"x\":[-31.952949685735714,-11.075661761116956,1.319298143983947,27.57107936536068,90.30759204904794,126.10408789956782,161.8989103914383,202.75136873525852,398.10213365674315,473.33444967684795,669.6891065797952,849.5634028027469,990.5201069296269,1012.5626316693025,1020.0611411061136,1042.1036658457892],\"y\":[\"Electric Clothes Dryer\",\"Electric Cooking\",\"Induction Cooking\",\"Heat Pump Clothes Dryer\",\"Heat Pump Water Heater\",\"Mininum Efficiency Whole Home Electrification\",\"Mininum Efficiency Heat Pump with Electric Heat Backup\",\"Mininum Efficiency Heat Pump with Existing Heat Backup\",\"Basic Enclosure\",\"Enhanced Enclosure\",\"High Efficiency Heat Pump with Electric Heat Backup\",\"High Efficiency Whole Home Electrification\",\"Basic Enclosure + HPWH + High Efficiency HP/Electric Backup\",\"Enhanced Enclosure + HPWH + High Efficiency HP/Electric Backup\",\"Basic Enclosure + High Efficiency Whole Home Electrification\",\"Enhanced Enclosure + High Efficiency Whole Home Electrification\"],\"type\":\"bar\",\"xaxis\":\"x2\",\"yaxis\":\"y2\",\"textfont\":{\"size\":10},\"cliponaxis\":false,\"textangle\":0,\"textposition\":\"outside\",\"marker\":{\"line\":{\"color\":\"rgb(0, 121, 61)\"},\"color\":\"rgb(0, 121, 61)\"},\"texttemplate\":\"%{text:.3s}\"},{\"orientation\":\"h\",\"text\":[-20.310449881241517,57.22292425777521,26.09608842184662,85.34941090179105,438.9598905944457,2417.9277071159236,1766.1945887839086,1368.5847955301779,1822.0515336143123,2164.720916224058,3502.570707717347,4288.513195932328,4774.1236819987735,4851.235921047977,4873.194376044784,4950.306615093988],\"x\":[-20.310449881241517,57.22292425777521,26.09608842184662,85.34941090179105,438.9598905944457,2417.9277071159236,1766.1945887839086,1368.5847955301779,1822.0515336143123,2164.720916224058,3502.570707717347,4288.513195932328,4774.1236819987735,4851.235921047977,4873.194376044784,4950.306615093988],\"y\":[\"Electric Clothes Dryer\",\"Electric Cooking\",\"Induction Cooking\",\"Heat Pump Clothes Dryer\",\"Heat Pump Water Heater\",\"Mininum Efficiency Whole Home Electrification\",\"Mininum Efficiency Heat Pump with Electric Heat Backup\",\"Mininum Efficiency Heat Pump with Existing Heat Backup\",\"Basic Enclosure\",\"Enhanced Enclosure\",\"High Efficiency Heat Pump with Electric Heat Backup\",\"High Efficiency Whole Home Electrification\",\"Basic Enclosure + HPWH + High Efficiency HP/Electric Backup\",\"Enhanced Enclosure + HPWH + High Efficiency HP/Electric Backup\",\"Basic Enclosure + High Efficiency Whole Home Electrification\",\"Enhanced Enclosure + High Efficiency Whole Home Electrification\"],\"type\":\"bar\",\"xaxis\":\"x3\",\"yaxis\":\"y3\",\"textfont\":{\"size\":10},\"cliponaxis\":false,\"textangle\":0,\"textposition\":\"outside\",\"marker\":{\"line\":{\"color\":\"rgb(0, 121, 61)\"},\"color\":\"rgb(0, 121, 61)\"},\"texttemplate\":\"%{text:.3s}\"},{\"orientation\":\"h\",\"text\":[0.5485689655172428,1.461822485207101,0.4784507959479022,0.9002155887230516,6.125650000000001,52.94389246231155,34.58572837741244,21.768270057306594,23.10681678832117,27.355061505065123,49.82575196568978,60.36711617961512,64.24045402708482,64.90218317890235,65.4855566642908,66.14728581610834],\"x\":[0.5485689655172428,1.461822485207101,0.4784507959479022,0.9002155887230516,6.125650000000001,52.94389246231155,34.58572837741244,21.768270057306594,23.10681678832117,27.355061505065123,49.82575196568978,60.36711617961512,64.24045402708482,64.90218317890235,65.4855566642908,66.14728581610834],\"y\":[\"Electric Clothes Dryer\",\"Electric Cooking\",\"Induction Cooking\",\"Heat Pump Clothes Dryer\",\"Heat Pump Water Heater\",\"Mininum Efficiency Whole Home Electrification\",\"Mininum Efficiency Heat Pump with Electric Heat Backup\",\"Mininum Efficiency Heat Pump with Existing Heat Backup\",\"Basic Enclosure\",\"Enhanced Enclosure\",\"High Efficiency Heat Pump with Electric Heat Backup\",\"High Efficiency Whole Home Electrification\",\"Basic Enclosure + HPWH + High Efficiency HP/Electric Backup\",\"Enhanced Enclosure + HPWH + High Efficiency HP/Electric Backup\",\"Basic Enclosure + High Efficiency Whole Home Electrification\",\"Enhanced Enclosure + High Efficiency Whole Home Electrification\"],\"type\":\"bar\",\"xaxis\":\"x4\",\"yaxis\":\"y4\",\"textfont\":{\"size\":10},\"cliponaxis\":false,\"textangle\":0,\"textposition\":\"outside\",\"marker\":{\"line\":{\"color\":\"rgb(0, 121, 61)\"},\"color\":\"rgb(0, 121, 61)\"},\"texttemplate\":\"%{text:.3s}\"}],                        {\"template\":{\"data\":{\"histogram2dcontour\":[{\"type\":\"histogram2dcontour\",\"colorbar\":{\"outlinewidth\":0,\"ticks\":\"\"},\"colorscale\":[[0.0,\"#0d0887\"],[0.1111111111111111,\"#46039f\"],[0.2222222222222222,\"#7201a8\"],[0.3333333333333333,\"#9c179e\"],[0.4444444444444444,\"#bd3786\"],[0.5555555555555556,\"#d8576b\"],[0.6666666666666666,\"#ed7953\"],[0.7777777777777778,\"#fb9f3a\"],[0.8888888888888888,\"#fdca26\"],[1.0,\"#f0f921\"]]}],\"choropleth\":[{\"type\":\"choropleth\",\"colorbar\":{\"outlinewidth\":0,\"ticks\":\"\"}}],\"histogram2d\":[{\"type\":\"histogram2d\",\"colorbar\":{\"outlinewidth\":0,\"ticks\":\"\"},\"colorscale\":[[0.0,\"#0d0887\"],[0.1111111111111111,\"#46039f\"],[0.2222222222222222,\"#7201a8\"],[0.3333333333333333,\"#9c179e\"],[0.4444444444444444,\"#bd3786\"],[0.5555555555555556,\"#d8576b\"],[0.6666666666666666,\"#ed7953\"],[0.7777777777777778,\"#fb9f3a\"],[0.8888888888888888,\"#fdca26\"],[1.0,\"#f0f921\"]]}],\"heatmap\":[{\"type\":\"heatmap\",\"colorbar\":{\"outlinewidth\":0,\"ticks\":\"\"},\"colorscale\":[[0.0,\"#0d0887\"],[0.1111111111111111,\"#46039f\"],[0.2222222222222222,\"#7201a8\"],[0.3333333333333333,\"#9c179e\"],[0.4444444444444444,\"#bd3786\"],[0.5555555555555556,\"#d8576b\"],[0.6666666666666666,\"#ed7953\"],[0.7777777777777778,\"#fb9f3a\"],[0.8888888888888888,\"#fdca26\"],[1.0,\"#f0f921\"]]}],\"heatmapgl\":[{\"type\":\"heatmapgl\",\"colorbar\":{\"outlinewidth\":0,\"ticks\":\"\"},\"colorscale\":[[0.0,\"#0d0887\"],[0.1111111111111111,\"#46039f\"],[0.2222222222222222,\"#7201a8\"],[0.3333333333333333,\"#9c179e\"],[0.4444444444444444,\"#bd3786\"],[0.5555555555555556,\"#d8576b\"],[0.6666666666666666,\"#ed7953\"],[0.7777777777777778,\"#fb9f3a\"],[0.8888888888888888,\"#fdca26\"],[1.0,\"#f0f921\"]]}],\"contourcarpet\":[{\"type\":\"contourcarpet\",\"colorbar\":{\"outlinewidth\":0,\"ticks\":\"\"}}],\"contour\":[{\"type\":\"contour\",\"colorbar\":{\"outlinewidth\":0,\"ticks\":\"\"},\"colorscale\":[[0.0,\"#0d0887\"],[0.1111111111111111,\"#46039f\"],[0.2222222222222222,\"#7201a8\"],[0.3333333333333333,\"#9c179e\"],[0.4444444444444444,\"#bd3786\"],[0.5555555555555556,\"#d8576b\"],[0.6666666666666666,\"#ed7953\"],[0.7777777777777778,\"#fb9f3a\"],[0.8888888888888888,\"#fdca26\"],[1.0,\"#f0f921\"]]}],\"surface\":[{\"type\":\"surface\",\"colorbar\":{\"outlinewidth\":0,\"ticks\":\"\"},\"colorscale\":[[0.0,\"#0d0887\"],[0.1111111111111111,\"#46039f\"],[0.2222222222222222,\"#7201a8\"],[0.3333333333333333,\"#9c179e\"],[0.4444444444444444,\"#bd3786\"],[0.5555555555555556,\"#d8576b\"],[0.6666666666666666,\"#ed7953\"],[0.7777777777777778,\"#fb9f3a\"],[0.8888888888888888,\"#fdca26\"],[1.0,\"#f0f921\"]]}],\"mesh3d\":[{\"type\":\"mesh3d\",\"colorbar\":{\"outlinewidth\":0,\"ticks\":\"\"}}],\"scatter\":[{\"fillpattern\":{\"fillmode\":\"overlay\",\"size\":10,\"solidity\":0.2},\"type\":\"scatter\"}],\"parcoords\":[{\"type\":\"parcoords\",\"line\":{\"colorbar\":{\"outlinewidth\":0,\"ticks\":\"\"}}}],\"scatterpolargl\":[{\"type\":\"scatterpolargl\",\"marker\":{\"colorbar\":{\"outlinewidth\":0,\"ticks\":\"\"}}}],\"bar\":[{\"error_x\":{\"color\":\"#2a3f5f\"},\"error_y\":{\"color\":\"#2a3f5f\"},\"marker\":{\"line\":{\"color\":\"#E5ECF6\",\"width\":0.5},\"pattern\":{\"fillmode\":\"overlay\",\"size\":10,\"solidity\":0.2}},\"type\":\"bar\"}],\"scattergeo\":[{\"type\":\"scattergeo\",\"marker\":{\"colorbar\":{\"outlinewidth\":0,\"ticks\":\"\"}}}],\"scatterpolar\":[{\"type\":\"scatterpolar\",\"marker\":{\"colorbar\":{\"outlinewidth\":0,\"ticks\":\"\"}}}],\"histogram\":[{\"marker\":{\"pattern\":{\"fillmode\":\"overlay\",\"size\":10,\"solidity\":0.2}},\"type\":\"histogram\"}],\"scattergl\":[{\"type\":\"scattergl\",\"marker\":{\"colorbar\":{\"outlinewidth\":0,\"ticks\":\"\"}}}],\"scatter3d\":[{\"type\":\"scatter3d\",\"line\":{\"colorbar\":{\"outlinewidth\":0,\"ticks\":\"\"}},\"marker\":{\"colorbar\":{\"outlinewidth\":0,\"ticks\":\"\"}}}],\"scattermapbox\":[{\"type\":\"scattermapbox\",\"marker\":{\"colorbar\":{\"outlinewidth\":0,\"ticks\":\"\"}}}],\"scatterternary\":[{\"type\":\"scatterternary\",\"marker\":{\"colorbar\":{\"outlinewidth\":0,\"ticks\":\"\"}}}],\"scattercarpet\":[{\"type\":\"scattercarpet\",\"marker\":{\"colorbar\":{\"outlinewidth\":0,\"ticks\":\"\"}}}],\"carpet\":[{\"aaxis\":{\"endlinecolor\":\"#2a3f5f\",\"gridcolor\":\"white\",\"linecolor\":\"white\",\"minorgridcolor\":\"white\",\"startlinecolor\":\"#2a3f5f\"},\"baxis\":{\"endlinecolor\":\"#2a3f5f\",\"gridcolor\":\"white\",\"linecolor\":\"white\",\"minorgridcolor\":\"white\",\"startlinecolor\":\"#2a3f5f\"},\"type\":\"carpet\"}],\"table\":[{\"cells\":{\"fill\":{\"color\":\"#EBF0F8\"},\"line\":{\"color\":\"white\"}},\"header\":{\"fill\":{\"color\":\"#C8D4E3\"},\"line\":{\"color\":\"white\"}},\"type\":\"table\"}],\"barpolar\":[{\"marker\":{\"line\":{\"color\":\"#E5ECF6\",\"width\":0.5},\"pattern\":{\"fillmode\":\"overlay\",\"size\":10,\"solidity\":0.2}},\"type\":\"barpolar\"}],\"pie\":[{\"automargin\":true,\"type\":\"pie\"}]},\"layout\":{\"autotypenumbers\":\"strict\",\"colorway\":[\"#636efa\",\"#EF553B\",\"#00cc96\",\"#ab63fa\",\"#FFA15A\",\"#19d3f3\",\"#FF6692\",\"#B6E880\",\"#FF97FF\",\"#FECB52\"],\"font\":{\"color\":\"#2a3f5f\"},\"hovermode\":\"closest\",\"hoverlabel\":{\"align\":\"left\"},\"paper_bgcolor\":\"white\",\"plot_bgcolor\":\"#E5ECF6\",\"polar\":{\"bgcolor\":\"#E5ECF6\",\"angularaxis\":{\"gridcolor\":\"white\",\"linecolor\":\"white\",\"ticks\":\"\"},\"radialaxis\":{\"gridcolor\":\"white\",\"linecolor\":\"white\",\"ticks\":\"\"}},\"ternary\":{\"bgcolor\":\"#E5ECF6\",\"aaxis\":{\"gridcolor\":\"white\",\"linecolor\":\"white\",\"ticks\":\"\"},\"baxis\":{\"gridcolor\":\"white\",\"linecolor\":\"white\",\"ticks\":\"\"},\"caxis\":{\"gridcolor\":\"white\",\"linecolor\":\"white\",\"ticks\":\"\"}},\"coloraxis\":{\"colorbar\":{\"outlinewidth\":0,\"ticks\":\"\"}},\"colorscale\":{\"sequential\":[[0.0,\"#0d0887\"],[0.1111111111111111,\"#46039f\"],[0.2222222222222222,\"#7201a8\"],[0.3333333333333333,\"#9c179e\"],[0.4444444444444444,\"#bd3786\"],[0.5555555555555556,\"#d8576b\"],[0.6666666666666666,\"#ed7953\"],[0.7777777777777778,\"#fb9f3a\"],[0.8888888888888888,\"#fdca26\"],[1.0,\"#f0f921\"]],\"sequentialminus\":[[0.0,\"#0d0887\"],[0.1111111111111111,\"#46039f\"],[0.2222222222222222,\"#7201a8\"],[0.3333333333333333,\"#9c179e\"],[0.4444444444444444,\"#bd3786\"],[0.5555555555555556,\"#d8576b\"],[0.6666666666666666,\"#ed7953\"],[0.7777777777777778,\"#fb9f3a\"],[0.8888888888888888,\"#fdca26\"],[1.0,\"#f0f921\"]],\"diverging\":[[0,\"#8e0152\"],[0.1,\"#c51b7d\"],[0.2,\"#de77ae\"],[0.3,\"#f1b6da\"],[0.4,\"#fde0ef\"],[0.5,\"#f7f7f7\"],[0.6,\"#e6f5d0\"],[0.7,\"#b8e186\"],[0.8,\"#7fbc41\"],[0.9,\"#4d9221\"],[1,\"#276419\"]]},\"xaxis\":{\"gridcolor\":\"white\",\"linecolor\":\"white\",\"ticks\":\"\",\"title\":{\"standoff\":15},\"zerolinecolor\":\"white\",\"automargin\":true,\"zerolinewidth\":2},\"yaxis\":{\"gridcolor\":\"white\",\"linecolor\":\"white\",\"ticks\":\"\",\"title\":{\"standoff\":15},\"zerolinecolor\":\"white\",\"automargin\":true,\"zerolinewidth\":2},\"scene\":{\"xaxis\":{\"backgroundcolor\":\"#E5ECF6\",\"gridcolor\":\"white\",\"linecolor\":\"white\",\"showbackground\":true,\"ticks\":\"\",\"zerolinecolor\":\"white\",\"gridwidth\":2},\"yaxis\":{\"backgroundcolor\":\"#E5ECF6\",\"gridcolor\":\"white\",\"linecolor\":\"white\",\"showbackground\":true,\"ticks\":\"\",\"zerolinecolor\":\"white\",\"gridwidth\":2},\"zaxis\":{\"backgroundcolor\":\"#E5ECF6\",\"gridcolor\":\"white\",\"linecolor\":\"white\",\"showbackground\":true,\"ticks\":\"\",\"zerolinecolor\":\"white\",\"gridwidth\":2}},\"shapedefaults\":{\"line\":{\"color\":\"#2a3f5f\"}},\"annotationdefaults\":{\"arrowcolor\":\"#2a3f5f\",\"arrowhead\":0,\"arrowwidth\":1},\"geo\":{\"bgcolor\":\"white\",\"landcolor\":\"#E5ECF6\",\"subunitcolor\":\"white\",\"showland\":true,\"showlakes\":true,\"lakecolor\":\"white\"},\"title\":{\"x\":0.05},\"mapbox\":{\"style\":\"light\"}}},\"xaxis\":{\"anchor\":\"y\",\"domain\":[0.0,0.004635761589403973],\"title\":{\"text\":\"\"},\"visible\":false,\"tickangle\":45},\"yaxis\":{\"anchor\":\"x\",\"domain\":[0.0,1.0],\"visible\":true},\"xaxis2\":{\"anchor\":\"y2\",\"domain\":[0.10463576158940398,0.33642384105960266],\"title\":{\"text\":\"Bill Savings<br>usd\"},\"visible\":true,\"tickangle\":45},\"yaxis2\":{\"anchor\":\"x2\",\"domain\":[0.0,1.0],\"visible\":false},\"xaxis3\":{\"anchor\":\"y3\",\"domain\":[0.43642384105960264,0.6682119205298013],\"title\":{\"text\":\"Emission Savings<br>kgCO2e\"},\"visible\":true,\"tickangle\":45},\"yaxis3\":{\"anchor\":\"x3\",\"domain\":[0.0,1.0],\"visible\":false},\"xaxis4\":{\"anchor\":\"y4\",\"domain\":[0.7682119205298014,1.0],\"title\":{\"text\":\"Energy Savings<br>mmbtu\"},\"visible\":true,\"tickangle\":45},\"yaxis4\":{\"anchor\":\"x4\",\"domain\":[0.0,1.0],\"visible\":false},\"title\":{\"text\":\"Annual Savings Per Dwelling Unit\"},\"font\":{\"size\":10},\"autosize\":false,\"width\":850,\"height\":500,\"plot_bgcolor\":\"rgba(0, 0, 0, 0)\",\"showlegend\":false},                        {\"responsive\": true}                    ).then(function(){\n",
       "                            \n",
       "var gd = document.getElementById('cadc0459-58cf-4bed-9199-7005571f54f4');\n",
       "var x = new MutationObserver(function (mutations, observer) {{\n",
       "        var display = window.getComputedStyle(gd).display;\n",
       "        if (!display || display === 'none') {{\n",
       "            console.log([gd, 'removed!']);\n",
       "            Plotly.purge(gd);\n",
       "            observer.disconnect();\n",
       "        }}\n",
       "}});\n",
       "\n",
       "// Listen for the removal of the full notebook cells\n",
       "var notebookContainer = gd.closest('#notebook-container');\n",
       "if (notebookContainer) {{\n",
       "    x.observe(notebookContainer, {childList: true});\n",
       "}}\n",
       "\n",
       "// Listen for the clearing of the current output cell\n",
       "var outputEl = gd.closest('.output');\n",
       "if (outputEl) {{\n",
       "    x.observe(outputEl, {childList: true});\n",
       "}}\n",
       "\n",
       "                        })                };                });            </script>        </div>"
      ]
     },
     "metadata": {},
     "output_type": "display_data"
    }
   ],
   "source": [
    "results = figure_mean_savings(community_results) \n",
    "saving_results[['whole_community_saving_bill_mean_usd','whole_community_saving_emission_mean_kgCO2e','whole_community_saving_energy_mean_mmbtu']] = results"
   ]
  },
  {
   "cell_type": "markdown",
   "id": "35e7b6ad",
   "metadata": {},
   "source": [
    "# 2. Results for Segments (All Income)"
   ]
  },
  {
   "attachments": {},
   "cell_type": "markdown",
   "id": "9c79f834",
   "metadata": {},
   "source": [
    "Segment Definition\n",
    "\n",
    "Segment 1. Occupied, Single-Family Attached, 1940-1979, all income \n",
    "\n",
    "Segment 2. Occupied, Multifamily with 2-4 units, 1940-1979, all income \n",
    "\n",
    "Segment 3. Occupied, Single-Family Detached, 1940-1979, all income \n",
    "\n",
    "Segment 4. Occupied, Multifamily with 5+ units, 1940-1979, all income \n"
   ]
  },
  {
   "cell_type": "code",
   "execution_count": 75,
   "id": "42e13001",
   "metadata": {},
   "outputs": [],
   "source": [
    "income = 'all_incomes'\n",
    "vacancy_status = ['Occupied']\n",
    "\n",
    "seg1_building_type = ['Single-Family Attached']\n",
    "seg1_vintage = ['1940s', '1950s', '1960s', '1970s']\n",
    "seg1_median_income = ['0-30%','30-60%','60-80%','80-100%', '100-120%','120-150%']\n",
    "\n",
    "seg2_building_type = ['Multi-Family with 2 - 4 Units']\n",
    "seg2_vintage = ['1940s', '1950s', '1960s', '1970s']\n",
    "seg2_median_income = ['0-30%','30-60%','60-80%','80-100%', '100-120%','120-150%']\n",
    "\n",
    "seg3_building_type = ['Single-Family Detached']\n",
    "seg3_vintage = ['1940s', '1950s', '1960s', '1970s']\n",
    "seg3_median_income = ['0-30%','30-60%','60-80%','80-100%', '100-120%','120-150%']\n",
    "\n",
    "seg4_building_type = ['Multi-Family with 5+ Units']\n",
    "seg4_vintage = ['1940s', '1950s', '1960s', '1970s']\n",
    "seg4_median_income = ['0-30%','30-60%','60-80%','80-100%', '100-120%','120-150%']\n",
    "\n",
    "community_results.loc[community_results['build_existing_model.vacancy_status'].isin(vacancy_status) & \n",
    "                     community_results['build_existing_model.geometry_building_type_recs'].isin(seg1_building_type) & \n",
    "                     community_results['build_existing_model.vintage'].isin(seg1_vintage) & \n",
    "                     community_results['build_existing_model.area_median_income'].isin(seg1_median_income),\n",
    "                     'segment'] = 'segment1'\n",
    "community_results.loc[community_results['build_existing_model.vacancy_status'].isin(vacancy_status) & \n",
    "                     community_results['build_existing_model.geometry_building_type_recs'].isin(seg2_building_type) & \n",
    "                     community_results['build_existing_model.vintage'].isin(seg2_vintage) & \n",
    "                     community_results['build_existing_model.area_median_income'].isin(seg2_median_income),\n",
    "                     'segment'] = 'segment2'\n",
    "community_results.loc[community_results['build_existing_model.vacancy_status'].isin(vacancy_status) & \n",
    "                     community_results['build_existing_model.geometry_building_type_recs'].isin(seg3_building_type) & \n",
    "                     community_results['build_existing_model.vintage'].isin(seg3_vintage) & \n",
    "                     community_results['build_existing_model.area_median_income'].isin(seg3_median_income),\n",
    "                     'segment'] = 'segment3'\n",
    "community_results.loc[community_results['build_existing_model.vacancy_status'].isin(vacancy_status) & \n",
    "                     community_results['build_existing_model.geometry_building_type_recs'].isin(seg4_building_type) & \n",
    "                     community_results['build_existing_model.vintage'].isin(seg4_vintage) & \n",
    "                     community_results['build_existing_model.area_median_income'].isin(seg4_median_income),\n",
    "                     'segment'] = 'segment4'"
   ]
  },
  {
   "cell_type": "markdown",
   "id": "13fe6b47",
   "metadata": {},
   "source": [
    "## 2.1 Upgrade Cost Per Dwelling Unit "
   ]
  },
  {
   "cell_type": "code",
   "execution_count": 76,
   "id": "585a1a25",
   "metadata": {},
   "outputs": [
    {
     "name": "stdout",
     "output_type": "stream",
     "text": [
      "segment1: upgrade cost (usd) per dwelling unit\n",
      "upgrade_name\n",
      "Electric Cooking                                                    1000.8\n",
      "Induction Cooking                                                   1720.9\n",
      "Heat Pump Clothes Dryer                                             2261.5\n",
      "Basic Enclosure                                                     2502.8\n",
      "Heat Pump Water Heater                                              2579.0\n",
      "Enhanced Enclosure                                                  3158.3\n",
      "Mininum Efficiency Whole Home Electrification                      16903.9\n",
      "Mininum Efficiency Heat Pump with Existing Heat Backup             18377.4\n",
      "Mininum Efficiency Heat Pump with Electric Heat Backup             18409.2\n",
      "High Efficiency Heat Pump with Electric Heat Backup                20955.0\n",
      "Basic Enclosure + HPWH + High Efficiency HP/Electric Backup        22282.7\n",
      "Enhanced Enclosure + HPWH + High Efficiency HP/Electric Backup     22499.5\n",
      "Basic Enclosure + High Efficiency Whole Home Electrification       25752.4\n",
      "Enhanced Enclosure + High Efficiency Whole Home Electrification    25969.1\n",
      "High Efficiency Whole Home Electrification                         27003.7\n",
      "Name: upgrade_cost_usd, dtype: float64\n",
      "segment2: upgrade cost (usd) per dwelling unit\n",
      "upgrade_name\n",
      "Electric Cooking                                                    1000.8\n",
      "Induction Cooking                                                   1720.9\n",
      "Basic Enclosure                                                     2083.5\n",
      "Heat Pump Clothes Dryer                                             2261.5\n",
      "Heat Pump Water Heater                                              2579.0\n",
      "Enhanced Enclosure                                                  3304.3\n",
      "Mininum Efficiency Heat Pump with Existing Heat Backup             11862.5\n",
      "Mininum Efficiency Heat Pump with Electric Heat Backup             11919.3\n",
      "Mininum Efficiency Whole Home Electrification                      13849.7\n",
      "High Efficiency Heat Pump with Electric Heat Backup                20530.4\n",
      "Basic Enclosure + HPWH + High Efficiency HP/Electric Backup        23054.1\n",
      "Enhanced Enclosure + HPWH + High Efficiency HP/Electric Backup     23970.5\n",
      "Basic Enclosure + High Efficiency Whole Home Electrification       26167.0\n",
      "High Efficiency Whole Home Electrification                         26174.6\n",
      "Enhanced Enclosure + High Efficiency Whole Home Electrification    27083.4\n",
      "Name: upgrade_cost_usd, dtype: float64\n",
      "segment3: upgrade cost (usd) per dwelling unit\n",
      "upgrade_name\n",
      "Electric Cooking                                                    1000.8\n",
      "Basic Enclosure                                                     1536.3\n",
      "Enhanced Enclosure                                                  1669.0\n",
      "Induction Cooking                                                   1720.9\n",
      "Heat Pump Clothes Dryer                                             2261.5\n",
      "Heat Pump Water Heater                                              2579.0\n",
      "Mininum Efficiency Heat Pump with Existing Heat Backup             12048.7\n",
      "Mininum Efficiency Heat Pump with Electric Heat Backup             12073.7\n",
      "Mininum Efficiency Whole Home Electrification                      14072.0\n",
      "High Efficiency Heat Pump with Electric Heat Backup                15392.1\n",
      "Basic Enclosure + HPWH + High Efficiency HP/Electric Backup        17346.5\n",
      "Enhanced Enclosure + HPWH + High Efficiency HP/Electric Backup     17431.1\n",
      "Basic Enclosure + High Efficiency Whole Home Electrification       20144.5\n",
      "Enhanced Enclosure + High Efficiency Whole Home Electrification    20229.1\n",
      "High Efficiency Whole Home Electrification                         20769.1\n",
      "Name: upgrade_cost_usd, dtype: float64\n",
      "segment4: upgrade cost (usd) per dwelling unit\n",
      "upgrade_name\n",
      "Electric Cooking                                                    1000.8\n",
      "Basic Enclosure                                                     1295.8\n",
      "Induction Cooking                                                   1720.9\n",
      "Enhanced Enclosure                                                  2101.1\n",
      "Heat Pump Clothes Dryer                                             2261.5\n",
      "Heat Pump Water Heater                                              2588.6\n",
      "Mininum Efficiency Whole Home Electrification                       9186.6\n",
      "Mininum Efficiency Heat Pump with Electric Heat Backup             10151.7\n",
      "Mininum Efficiency Heat Pump with Existing Heat Backup             10239.0\n",
      "High Efficiency Heat Pump with Electric Heat Backup                18658.2\n",
      "Basic Enclosure + HPWH + High Efficiency HP/Electric Backup        21133.5\n",
      "Enhanced Enclosure + HPWH + High Efficiency HP/Electric Backup     21596.9\n",
      "Basic Enclosure + High Efficiency Whole Home Electrification       24067.5\n",
      "High Efficiency Whole Home Electrification                         24155.5\n",
      "Enhanced Enclosure + High Efficiency Whole Home Electrification    24530.9\n",
      "Name: upgrade_cost_usd, dtype: float64\n"
     ]
    }
   ],
   "source": [
    "results = segment_mean_upgrade_cost(community_results) \n",
    "saving_results[f'segment1_{income}_upgrade_cost_mean_usd'] = results[0]\n",
    "saving_results[f'segment2_{income}_upgrade_cost_mean_usd'] = results[1]\n",
    "saving_results[f'segment3_{income}_upgrade_cost_mean_usd'] = results[2]\n",
    "saving_results[f'segment4_{income}_upgrade_cost_mean_usd'] = results[3]"
   ]
  },
  {
   "cell_type": "markdown",
   "id": "660e0aa3",
   "metadata": {},
   "source": [
    " ## 2.2 Annual Savings Per Dollar Invested"
   ]
  },
  {
   "cell_type": "markdown",
   "id": "9492f6e1",
   "metadata": {},
   "source": [
    " ### Annual Bill Savings Per Dollar Invested"
   ]
  },
  {
   "cell_type": "code",
   "execution_count": 77,
   "id": "6e31ced4",
   "metadata": {},
   "outputs": [
    {
     "name": "stdout",
     "output_type": "stream",
     "text": [
      "segment1\n",
      "upgrade_name\n",
      "Basic Enclosure                                                    0.10484\n",
      "Enhanced Enclosure                                                 0.09267\n",
      "Heat Pump Water Heater                                             0.03433\n",
      "Enhanced Enclosure + HPWH + High Efficiency HP/Electric Backup     0.03089\n",
      "Basic Enclosure + HPWH + High Efficiency HP/Electric Backup        0.03065\n",
      "Enhanced Enclosure + High Efficiency Whole Home Electrification    0.02769\n",
      "Basic Enclosure + High Efficiency Whole Home Electrification       0.02746\n",
      "High Efficiency Whole Home Electrification                         0.02223\n",
      "High Efficiency Heat Pump with Electric Heat Backup                0.02116\n",
      "Heat Pump Clothes Dryer                                            0.01060\n",
      "Mininum Efficiency Heat Pump with Electric Heat Backup             0.00652\n",
      "Mininum Efficiency Heat Pump with Existing Heat Backup             0.00614\n",
      "Mininum Efficiency Whole Home Electrification                      0.00570\n",
      "Induction Cooking                                                  0.00162\n",
      "Electric Cooking                                                  -0.01104\n",
      "Name: saving_cbill.total_usd, dtype: float64\n",
      "segment2\n",
      "upgrade_name\n",
      "Basic Enclosure                                                    0.14586\n",
      "Enhanced Enclosure                                                 0.10466\n",
      "Basic Enclosure + HPWH + High Efficiency HP/Electric Backup        0.03541\n",
      "Enhanced Enclosure + HPWH + High Efficiency HP/Electric Backup     0.03479\n",
      "Basic Enclosure + High Efficiency Whole Home Electrification       0.03215\n",
      "Heat Pump Water Heater                                             0.03180\n",
      "Enhanced Enclosure + High Efficiency Whole Home Electrification    0.03171\n",
      "High Efficiency Whole Home Electrification                         0.02721\n",
      "High Efficiency Heat Pump with Electric Heat Backup                0.02654\n",
      "Mininum Efficiency Heat Pump with Existing Heat Backup             0.01815\n",
      "Mininum Efficiency Heat Pump with Electric Heat Backup             0.01583\n",
      "Heat Pump Clothes Dryer                                            0.01279\n",
      "Mininum Efficiency Whole Home Electrification                      0.00675\n",
      "Induction Cooking                                                  0.00098\n",
      "Electric Cooking                                                  -0.00873\n",
      "Name: saving_cbill.total_usd, dtype: float64\n",
      "segment3\n",
      "upgrade_name\n",
      "Basic Enclosure                                                    0.13323\n",
      "Enhanced Enclosure                                                 0.12781\n",
      "Enhanced Enclosure + HPWH + High Efficiency HP/Electric Backup     0.03070\n",
      "Basic Enclosure + HPWH + High Efficiency HP/Electric Backup        0.03054\n",
      "Enhanced Enclosure + High Efficiency Whole Home Electrification    0.02732\n",
      "Basic Enclosure + High Efficiency Whole Home Electrification       0.02717\n",
      "Heat Pump Water Heater                                             0.02277\n",
      "High Efficiency Whole Home Electrification                         0.02267\n",
      "High Efficiency Heat Pump with Electric Heat Backup                0.02234\n",
      "Mininum Efficiency Heat Pump with Existing Heat Backup             0.01017\n",
      "Heat Pump Clothes Dryer                                            0.01009\n",
      "Mininum Efficiency Heat Pump with Electric Heat Backup             0.01002\n",
      "Induction Cooking                                                  0.00141\n",
      "Mininum Efficiency Whole Home Electrification                      0.00056\n",
      "Electric Cooking                                                  -0.00867\n",
      "Name: saving_cbill.total_usd, dtype: float64\n",
      "segment4\n",
      "upgrade_name\n",
      "Basic Enclosure                                                    0.16083\n",
      "Enhanced Enclosure                                                 0.13634\n",
      "Heat Pump Water Heater                                             0.03493\n",
      "Enhanced Enclosure + HPWH + High Efficiency HP/Electric Backup     0.03149\n",
      "Basic Enclosure + HPWH + High Efficiency HP/Electric Backup        0.03098\n",
      "Enhanced Enclosure + High Efficiency Whole Home Electrification    0.02849\n",
      "Basic Enclosure + High Efficiency Whole Home Electrification       0.02799\n",
      "High Efficiency Whole Home Electrification                         0.02474\n",
      "High Efficiency Heat Pump with Electric Heat Backup                0.02373\n",
      "Mininum Efficiency Heat Pump with Existing Heat Backup             0.02015\n",
      "Mininum Efficiency Heat Pump with Electric Heat Backup             0.02004\n",
      "Heat Pump Clothes Dryer                                            0.01127\n",
      "Mininum Efficiency Whole Home Electrification                      0.00759\n",
      "Induction Cooking                                                  0.00126\n",
      "Electric Cooking                                                  -0.00926\n",
      "Name: saving_cbill.total_usd, dtype: float64\n"
     ]
    }
   ],
   "source": [
    "indicator ='saving_cbill.total_usd'\n",
    "results = segment_savings_per_dollar(indicator, community_results) \n",
    "saving_results[f'segment1_{income}_saving_bill_per_dollar_invested_usd'] = results[0]\n",
    "saving_results[f'segment2_{income}_saving_bill_per_dollar_invested_usd'] = results[1]\n",
    "saving_results[f'segment3_{income}_saving_bill_per_dollar_invested_usd'] = results[2]\n",
    "saving_results[f'segment4_{income}_saving_bill_per_dollar_invested_usd'] = results[3]"
   ]
  },
  {
   "cell_type": "markdown",
   "id": "4be95afb",
   "metadata": {},
   "source": [
    " ### Annual Energy Savings Per Dollar Invested"
   ]
  },
  {
   "cell_type": "code",
   "execution_count": 78,
   "id": "d03da729",
   "metadata": {},
   "outputs": [
    {
     "name": "stdout",
     "output_type": "stream",
     "text": [
      "segment1\n",
      "upgrade_name\n",
      "Basic Enclosure                                                    0.00657\n",
      "Enhanced Enclosure                                                 0.00595\n",
      "Heat Pump Water Heater                                             0.00213\n",
      "Basic Enclosure + HPWH + High Efficiency HP/Electric Backup        0.00210\n",
      "Enhanced Enclosure + HPWH + High Efficiency HP/Electric Backup     0.00209\n",
      "Mininum Efficiency Whole Home Electrification                      0.00199\n",
      "Basic Enclosure + High Efficiency Whole Home Electrification       0.00185\n",
      "Enhanced Enclosure + High Efficiency Whole Home Electrification    0.00185\n",
      "High Efficiency Heat Pump with Electric Heat Backup                0.00169\n",
      "High Efficiency Whole Home Electrification                         0.00164\n",
      "Electric Cooking                                                   0.00151\n",
      "Mininum Efficiency Heat Pump with Electric Heat Backup             0.00140\n",
      "Mininum Efficiency Heat Pump with Existing Heat Backup             0.00112\n",
      "Heat Pump Clothes Dryer                                            0.00032\n",
      "Induction Cooking                                                  0.00016\n",
      "Name: saving_energy.total_mmbtu, dtype: float64\n",
      "segment2\n",
      "upgrade_name\n",
      "Basic Enclosure                                                    0.00757\n",
      "Enhanced Enclosure                                                 0.00539\n",
      "Mininum Efficiency Whole Home Electrification                      0.00269\n",
      "Basic Enclosure + HPWH + High Efficiency HP/Electric Backup        0.00191\n",
      "Enhanced Enclosure + HPWH + High Efficiency HP/Electric Backup     0.00186\n",
      "Mininum Efficiency Heat Pump with Electric Heat Backup             0.00185\n",
      "Basic Enclosure + High Efficiency Whole Home Electrification       0.00172\n",
      "Heat Pump Water Heater                                             0.00169\n",
      "Enhanced Enclosure + High Efficiency Whole Home Electrification    0.00168\n",
      "High Efficiency Heat Pump with Electric Heat Backup                0.00159\n",
      "High Efficiency Whole Home Electrification                         0.00157\n",
      "Electric Cooking                                                   0.00139\n",
      "Mininum Efficiency Heat Pump with Existing Heat Backup             0.00126\n",
      "Heat Pump Clothes Dryer                                            0.00038\n",
      "Induction Cooking                                                  0.00028\n",
      "Name: saving_energy.total_mmbtu, dtype: float64\n",
      "segment3\n",
      "upgrade_name\n",
      "Basic Enclosure                                                    0.00663\n",
      "Enhanced Enclosure                                                 0.00655\n",
      "Mininum Efficiency Whole Home Electrification                      0.00177\n",
      "Enhanced Enclosure + HPWH + High Efficiency HP/Electric Backup     0.00169\n",
      "Basic Enclosure + HPWH + High Efficiency HP/Electric Backup        0.00169\n",
      "Heat Pump Water Heater                                             0.00150\n",
      "Enhanced Enclosure + High Efficiency Whole Home Electrification    0.00149\n",
      "Basic Enclosure + High Efficiency Whole Home Electrification       0.00148\n",
      "High Efficiency Heat Pump with Electric Heat Backup                0.00135\n",
      "High Efficiency Whole Home Electrification                         0.00133\n",
      "Electric Cooking                                                   0.00118\n",
      "Mininum Efficiency Heat Pump with Electric Heat Backup             0.00117\n",
      "Mininum Efficiency Heat Pump with Existing Heat Backup             0.00106\n",
      "Heat Pump Clothes Dryer                                            0.00030\n",
      "Induction Cooking                                                  0.00017\n",
      "Name: saving_energy.total_mmbtu, dtype: float64\n",
      "segment4\n",
      "upgrade_name\n",
      "Basic Enclosure                                                    0.00625\n",
      "Enhanced Enclosure                                                 0.00515\n",
      "Mininum Efficiency Whole Home Electrification                      0.00173\n",
      "Heat Pump Water Heater                                             0.00166\n",
      "Electric Cooking                                                   0.00142\n",
      "Enhanced Enclosure + HPWH + High Efficiency HP/Electric Backup     0.00127\n",
      "Basic Enclosure + HPWH + High Efficiency HP/Electric Backup        0.00126\n",
      "Enhanced Enclosure + High Efficiency Whole Home Electrification    0.00115\n",
      "Basic Enclosure + High Efficiency Whole Home Electrification       0.00114\n",
      "Mininum Efficiency Heat Pump with Electric Heat Backup             0.00108\n",
      "High Efficiency Whole Home Electrification                         0.00105\n",
      "High Efficiency Heat Pump with Electric Heat Backup                0.00097\n",
      "Mininum Efficiency Heat Pump with Existing Heat Backup             0.00095\n",
      "Heat Pump Clothes Dryer                                            0.00034\n",
      "Induction Cooking                                                  0.00024\n",
      "Name: saving_energy.total_mmbtu, dtype: float64\n"
     ]
    }
   ],
   "source": [
    "indicator = 'saving_energy.total_mmbtu'\n",
    "results = segment_savings_per_dollar(indicator, community_results) \n",
    "saving_results[f'segment1_{income}_saving_energy_per_dollar_invested_mmbtu'] = results[0]\n",
    "saving_results[f'segment2_{income}_saving_energy_per_dollar_invested_mmbtu'] = results[1]\n",
    "saving_results[f'segment3_{income}_saving_energy_per_dollar_invested_mmbtu'] = results[2]\n",
    "saving_results[f'segment4_{income}_saving_energy_per_dollar_invested_mmbtu'] = results[3]"
   ]
  },
  {
   "cell_type": "markdown",
   "id": "3b3ea80f",
   "metadata": {},
   "source": [
    " ### Annual Emission Savings Per Dollar Invested"
   ]
  },
  {
   "cell_type": "code",
   "execution_count": 79,
   "id": "b538dff9",
   "metadata": {},
   "outputs": [
    {
     "name": "stdout",
     "output_type": "stream",
     "text": [
      "segment1\n",
      "upgrade_name\n",
      "Basic Enclosure                                                    0.50092\n",
      "Enhanced Enclosure                                                 0.44748\n",
      "Heat Pump Water Heater                                             0.15939\n",
      "Enhanced Enclosure + HPWH + High Efficiency HP/Electric Backup     0.15201\n",
      "Basic Enclosure + HPWH + High Efficiency HP/Electric Backup        0.15167\n",
      "Enhanced Enclosure + High Efficiency Whole Home Electrification    0.13459\n",
      "Basic Enclosure + High Efficiency Whole Home Electrification       0.13415\n",
      "High Efficiency Heat Pump with Electric Heat Backup                0.11537\n",
      "High Efficiency Whole Home Electrification                         0.11440\n",
      "Mininum Efficiency Whole Home Electrification                      0.09209\n",
      "Mininum Efficiency Heat Pump with Electric Heat Backup             0.07177\n",
      "Electric Cooking                                                   0.06273\n",
      "Mininum Efficiency Heat Pump with Existing Heat Backup             0.06103\n",
      "Heat Pump Clothes Dryer                                            0.03174\n",
      "Induction Cooking                                                  0.01040\n",
      "Name: saving_emission.total_kgCO2e, dtype: float64\n",
      "segment2\n",
      "upgrade_name\n",
      "Basic Enclosure                                                    0.63367\n",
      "Enhanced Enclosure                                                 0.45317\n",
      "Basic Enclosure + HPWH + High Efficiency HP/Electric Backup        0.15491\n",
      "Enhanced Enclosure + HPWH + High Efficiency HP/Electric Backup     0.15151\n",
      "Basic Enclosure + High Efficiency Whole Home Electrification       0.13951\n",
      "Enhanced Enclosure + High Efficiency Whole Home Electrification    0.13701\n",
      "Heat Pump Water Heater                                             0.13183\n",
      "High Efficiency Heat Pump with Electric Heat Backup                0.12333\n",
      "Mininum Efficiency Whole Home Electrification                      0.12264\n",
      "High Efficiency Whole Home Electrification                         0.12240\n",
      "Mininum Efficiency Heat Pump with Electric Heat Backup             0.11072\n",
      "Mininum Efficiency Heat Pump with Existing Heat Backup             0.09367\n",
      "Electric Cooking                                                   0.05276\n",
      "Heat Pump Clothes Dryer                                            0.03771\n",
      "Induction Cooking                                                  0.01508\n",
      "Name: saving_emission.total_kgCO2e, dtype: float64\n",
      "segment3\n",
      "upgrade_name\n",
      "Basic Enclosure                                                    0.57073\n",
      "Enhanced Enclosure                                                 0.55523\n",
      "Enhanced Enclosure + HPWH + High Efficiency HP/Electric Backup     0.13597\n",
      "Basic Enclosure + HPWH + High Efficiency HP/Electric Backup        0.13552\n",
      "Enhanced Enclosure + High Efficiency Whole Home Electrification    0.11978\n",
      "Basic Enclosure + High Efficiency Whole Home Electrification       0.11933\n",
      "Heat Pump Water Heater                                             0.10680\n",
      "High Efficiency Heat Pump with Electric Heat Backup                0.10523\n",
      "High Efficiency Whole Home Electrification                         0.10301\n",
      "Mininum Efficiency Heat Pump with Electric Heat Backup             0.07155\n",
      "Mininum Efficiency Whole Home Electrification                      0.07150\n",
      "Mininum Efficiency Heat Pump with Existing Heat Backup             0.06885\n",
      "Electric Cooking                                                   0.04518\n",
      "Heat Pump Clothes Dryer                                            0.02990\n",
      "Induction Cooking                                                  0.01037\n",
      "Name: saving_emission.total_kgCO2e, dtype: float64\n",
      "segment4\n",
      "upgrade_name\n",
      "Basic Enclosure                                                    0.61439\n",
      "Enhanced Enclosure                                                 0.51596\n",
      "Heat Pump Water Heater                                             0.13391\n",
      "Enhanced Enclosure + HPWH + High Efficiency HP/Electric Backup     0.12001\n",
      "Basic Enclosure + HPWH + High Efficiency HP/Electric Backup        0.11846\n",
      "Enhanced Enclosure + High Efficiency Whole Home Electrification    0.10831\n",
      "Basic Enclosure + High Efficiency Whole Home Electrification       0.10672\n",
      "High Efficiency Whole Home Electrification                         0.09547\n",
      "High Efficiency Heat Pump with Electric Heat Backup                0.09219\n",
      "Mininum Efficiency Heat Pump with Electric Heat Backup             0.08883\n",
      "Mininum Efficiency Heat Pump with Existing Heat Backup             0.08477\n",
      "Mininum Efficiency Whole Home Electrification                      0.08456\n",
      "Electric Cooking                                                   0.05650\n",
      "Heat Pump Clothes Dryer                                            0.03337\n",
      "Induction Cooking                                                  0.01369\n",
      "Name: saving_emission.total_kgCO2e, dtype: float64\n"
     ]
    }
   ],
   "source": [
    "indicator ='saving_emission.total_kgCO2e'\n",
    "results = segment_savings_per_dollar(indicator, community_results) \n",
    "saving_results[f'segment1_{income}_saving_emission_per_dollar_invested_kgCO2e'] = results[0]\n",
    "saving_results[f'segment2_{income}_saving_emission_per_dollar_invested_kgCO2e'] = results[1]\n",
    "saving_results[f'segment3_{income}_saving_emission_per_dollar_invested_kgCO2e'] = results[2]\n",
    "saving_results[f'segment4_{income}_saving_emission_per_dollar_invested_kgCO2e'] = results[3]"
   ]
  },
  {
   "cell_type": "markdown",
   "id": "961cd050",
   "metadata": {},
   "source": [
    "## 2.3 Annual Total Savings"
   ]
  },
  {
   "cell_type": "markdown",
   "id": "702400cd",
   "metadata": {},
   "source": [
    "### Annual Total Bill Savings"
   ]
  },
  {
   "cell_type": "code",
   "execution_count": 80,
   "id": "4cb37f5f",
   "metadata": {},
   "outputs": [
    {
     "name": "stdout",
     "output_type": "stream",
     "text": [
      "segment1\n",
      "upgrade_name\n",
      "Enhanced Enclosure + High Efficiency Whole Home Electrification    3851596.5\n",
      "Basic Enclosure + High Efficiency Whole Home Electrification       3788044.7\n",
      "Enhanced Enclosure + HPWH + High Efficiency HP/Electric Backup     3722646.0\n",
      "Basic Enclosure + HPWH + High Efficiency HP/Electric Backup        3659094.2\n",
      "High Efficiency Whole Home Electrification                         3216333.0\n",
      "High Efficiency Heat Pump with Electric Heat Backup                2375256.1\n",
      "Enhanced Enclosure                                                 1567979.5\n",
      "Basic Enclosure                                                    1405711.2\n",
      "Mininum Efficiency Heat Pump with Electric Heat Backup              642686.3\n",
      "Mininum Efficiency Heat Pump with Existing Heat Backup              604102.0\n",
      "Heat Pump Water Heater                                              474242.4\n",
      "Mininum Efficiency Whole Home Electrification                       442688.8\n",
      "Heat Pump Clothes Dryer                                             103931.4\n",
      "Induction Cooking                                                    14223.1\n",
      "Electric Cooking                                                     -5635.3\n",
      "Name: saving_cbill.total_usd, dtype: float64\n",
      "segment2\n",
      "upgrade_name\n",
      "Enhanced Enclosure + High Efficiency Whole Home Electrification    11829871.2\n",
      "Basic Enclosure + High Efficiency Whole Home Electrification       11589761.0\n",
      "Enhanced Enclosure + HPWH + High Efficiency HP/Electric Backup     11486163.7\n",
      "Basic Enclosure + HPWH + High Efficiency HP/Electric Backup        11246053.5\n",
      "High Efficiency Whole Home Electrification                          9809960.9\n",
      "High Efficiency Heat Pump with Electric Heat Backup                 7504919.7\n",
      "Enhanced Enclosure                                                  4763990.2\n",
      "Basic Enclosure                                                     4108612.8\n",
      "Mininum Efficiency Heat Pump with Existing Heat Backup              2965307.7\n",
      "Mininum Efficiency Heat Pump with Electric Heat Backup              2598625.8\n",
      "Heat Pump Water Heater                                              1108868.3\n",
      "Mininum Efficiency Whole Home Electrification                        738803.9\n",
      "Heat Pump Clothes Dryer                                              250782.9\n",
      "Induction Cooking                                                     22750.0\n",
      "Electric Cooking                                                     -31216.8\n",
      "Name: saving_cbill.total_usd, dtype: float64\n",
      "segment3\n",
      "upgrade_name\n",
      "Enhanced Enclosure + High Efficiency Whole Home Electrification    3101818.6\n",
      "Basic Enclosure + High Efficiency Whole Home Electrification       3071542.4\n",
      "Enhanced Enclosure + HPWH + High Efficiency HP/Electric Backup     3003390.9\n",
      "Basic Enclosure + HPWH + High Efficiency HP/Electric Backup        2973114.8\n",
      "High Efficiency Whole Home Electrification                         2642697.0\n",
      "High Efficiency Heat Pump with Electric Heat Backup                1929507.0\n",
      "Enhanced Enclosure                                                 1197110.1\n",
      "Basic Enclosure                                                    1148688.8\n",
      "Mininum Efficiency Heat Pump with Existing Heat Backup              687765.2\n",
      "Mininum Efficiency Heat Pump with Electric Heat Backup              678720.4\n",
      "Heat Pump Water Heater                                              329625.3\n",
      "Heat Pump Clothes Dryer                                              69865.4\n",
      "Mininum Efficiency Whole Home Electrification                        23934.5\n",
      "Induction Cooking                                                    12368.1\n",
      "Electric Cooking                                                     -6640.5\n",
      "Name: saving_cbill.total_usd, dtype: float64\n",
      "segment4\n",
      "upgrade_name\n",
      "Enhanced Enclosure + High Efficiency Whole Home Electrification    18183034.7\n",
      "Enhanced Enclosure + HPWH + High Efficiency HP/Electric Backup     17692934.5\n",
      "Basic Enclosure + High Efficiency Whole Home Electrification       17527513.4\n",
      "Basic Enclosure + HPWH + High Efficiency HP/Electric Backup        17037413.2\n",
      "High Efficiency Whole Home Electrification                         15551679.0\n",
      "High Efficiency Heat Pump with Electric Heat Backup                11518831.5\n",
      "Enhanced Enclosure                                                  7307682.3\n",
      "Mininum Efficiency Heat Pump with Electric Heat Backup              5292410.9\n",
      "Basic Enclosure                                                     5209977.6\n",
      "Mininum Efficiency Heat Pump with Existing Heat Backup              5157162.7\n",
      "Heat Pump Water Heater                                              2329555.1\n",
      "Mininum Efficiency Whole Home Electrification                        960221.3\n",
      "Heat Pump Clothes Dryer                                              370502.4\n",
      "Induction Cooking                                                     54821.3\n",
      "Electric Cooking                                                     -47257.6\n",
      "Name: saving_cbill.total_usd, dtype: float64\n"
     ]
    }
   ],
   "source": [
    "indicator ='saving_cbill.total_usd'\n",
    "results = segment_annual_total_savings(indicator, community_results)\n",
    "saving_results[f'segment1_{income}_saving_bill_total_usd'] = results[0]\n",
    "saving_results[f'segment2_{income}_saving_bill_total_usd'] = results[1]\n",
    "saving_results[f'segment3_{income}_saving_bill_total_usd'] = results[2]\n",
    "saving_results[f'segment4_{income}_saving_bill_total_usd'] = results[3]"
   ]
  },
  {
   "cell_type": "markdown",
   "id": "5a9433f1",
   "metadata": {},
   "source": [
    "### Annual Total Energy Savings"
   ]
  },
  {
   "cell_type": "code",
   "execution_count": 81,
   "id": "772222fe",
   "metadata": {},
   "outputs": [
    {
     "name": "stdout",
     "output_type": "stream",
     "text": [
      "segment1\n",
      "upgrade_name\n",
      "Enhanced Enclosure + High Efficiency Whole Home Electrification    256950.8\n",
      "Basic Enclosure + High Efficiency Whole Home Electrification       255042.9\n",
      "Enhanced Enclosure + HPWH + High Efficiency HP/Electric Backup     252465.7\n",
      "Basic Enclosure + HPWH + High Efficiency HP/Electric Backup        250557.8\n",
      "High Efficiency Whole Home Electrification                         237879.8\n",
      "High Efficiency Heat Pump with Electric Heat Backup                189897.5\n",
      "Mininum Efficiency Whole Home Electrification                      154613.3\n",
      "Mininum Efficiency Heat Pump with Electric Heat Backup             137908.3\n",
      "Mininum Efficiency Heat Pump with Existing Heat Backup             110735.2\n",
      "Enhanced Enclosure                                                 100605.4\n",
      "Basic Enclosure                                                     88100.8\n",
      "Heat Pump Water Heater                                              29385.3\n",
      "Heat Pump Clothes Dryer                                              3120.1\n",
      "Induction Cooking                                                    1365.0\n",
      "Electric Cooking                                                      768.9\n",
      "Name: saving_energy.total_mmbtu, dtype: float64\n",
      "segment2\n",
      "upgrade_name\n",
      "Enhanced Enclosure + High Efficiency Whole Home Electrification    627836.7\n",
      "Basic Enclosure + High Efficiency Whole Home Electrification       620628.4\n",
      "Enhanced Enclosure + HPWH + High Efficiency HP/Electric Backup     613732.2\n",
      "Basic Enclosure + HPWH + High Efficiency HP/Electric Backup        606523.9\n",
      "High Efficiency Whole Home Electrification                         567197.8\n",
      "High Efficiency Heat Pump with Electric Heat Backup                450260.4\n",
      "Mininum Efficiency Heat Pump with Electric Heat Backup             302985.9\n",
      "Mininum Efficiency Whole Home Electrification                      294876.2\n",
      "Enhanced Enclosure                                                 245417.1\n",
      "Basic Enclosure                                                    213245.1\n",
      "Mininum Efficiency Heat Pump with Existing Heat Backup             205675.7\n",
      "Heat Pump Water Heater                                              58857.3\n",
      "Heat Pump Clothes Dryer                                              7528.7\n",
      "Induction Cooking                                                    6575.9\n",
      "Electric Cooking                                                     4955.8\n",
      "Name: saving_energy.total_mmbtu, dtype: float64\n",
      "segment3\n",
      "upgrade_name\n",
      "Enhanced Enclosure + High Efficiency Whole Home Electrification    168695.1\n",
      "Basic Enclosure + High Efficiency Whole Home Electrification       167786.2\n",
      "Enhanced Enclosure + HPWH + High Efficiency HP/Electric Backup     165120.5\n",
      "Basic Enclosure + HPWH + High Efficiency HP/Electric Backup        164211.6\n",
      "High Efficiency Whole Home Electrification                         154912.0\n",
      "High Efficiency Heat Pump with Electric Heat Backup                116584.8\n",
      "Mininum Efficiency Heat Pump with Electric Heat Backup              79045.4\n",
      "Mininum Efficiency Whole Home Electrification                       76295.2\n",
      "Mininum Efficiency Heat Pump with Existing Heat Backup              71975.4\n",
      "Enhanced Enclosure                                                  61320.0\n",
      "Basic Enclosure                                                     57143.6\n",
      "Heat Pump Water Heater                                              21660.5\n",
      "Heat Pump Clothes Dryer                                              2097.4\n",
      "Induction Cooking                                                    1477.3\n",
      "Electric Cooking                                                      906.6\n",
      "Name: saving_energy.total_mmbtu, dtype: float64\n",
      "segment4\n",
      "upgrade_name\n",
      "Enhanced Enclosure + High Efficiency Whole Home Electrification    736212.8\n",
      "Basic Enclosure + High Efficiency Whole Home Electrification       716533.7\n",
      "Enhanced Enclosure + HPWH + High Efficiency HP/Electric Backup     714757.9\n",
      "Basic Enclosure + HPWH + High Efficiency HP/Electric Backup        695078.8\n",
      "High Efficiency Whole Home Electrification                         657217.7\n",
      "High Efficiency Heat Pump with Electric Heat Backup                471258.1\n",
      "Mininum Efficiency Heat Pump with Electric Heat Backup             284367.2\n",
      "Enhanced Enclosure                                                 275976.1\n",
      "Mininum Efficiency Heat Pump with Existing Heat Backup             243704.4\n",
      "Mininum Efficiency Whole Home Electrification                      219174.1\n",
      "Basic Enclosure                                                    202446.4\n",
      "Heat Pump Water Heater                                             110437.0\n",
      "Heat Pump Clothes Dryer                                             11122.7\n",
      "Induction Cooking                                                   10332.2\n",
      "Electric Cooking                                                     7267.7\n",
      "Name: saving_energy.total_mmbtu, dtype: float64\n"
     ]
    }
   ],
   "source": [
    "indicator ='saving_energy.total_mmbtu'\n",
    "results = segment_annual_total_savings(indicator, community_results)\n",
    "saving_results[f'segment1_{income}_saving_energy_total_mmbtu'] = results[0]\n",
    "saving_results[f'segment2_{income}_saving_energy_total_mmbtu'] = results[1]\n",
    "saving_results[f'segment3_{income}_saving_energy_total_mmbtu'] = results[2]\n",
    "saving_results[f'segment4_{income}_saving_energy_total_mmbtu'] = results[3]"
   ]
  },
  {
   "cell_type": "markdown",
   "id": "468edc4e",
   "metadata": {},
   "source": [
    "### Annual Total Emission Savings"
   ]
  },
  {
   "cell_type": "code",
   "execution_count": 82,
   "id": "5fb13c1b",
   "metadata": {},
   "outputs": [
    {
     "name": "stdout",
     "output_type": "stream",
     "text": [
      "segment1\n",
      "upgrade_name\n",
      "Enhanced Enclosure + High Efficiency Whole Home Electrification    18724287.4\n",
      "Basic Enclosure + High Efficiency Whole Home Electrification       18507227.4\n",
      "Enhanced Enclosure + HPWH + High Efficiency HP/Electric Backup     18321700.5\n",
      "Basic Enclosure + HPWH + High Efficiency HP/Electric Backup        18104640.5\n",
      "High Efficiency Whole Home Electrification                         16549152.2\n",
      "High Efficiency Heat Pump with Electric Heat Backup                12950497.8\n",
      "Enhanced Enclosure                                                  7571060.8\n",
      "Mininum Efficiency Whole Home Electrification                       7148179.1\n",
      "Mininum Efficiency Heat Pump with Electric Heat Backup              7077819.2\n",
      "Basic Enclosure                                                     6716258.4\n",
      "Mininum Efficiency Heat Pump with Existing Heat Backup              6008360.7\n",
      "Heat Pump Water Heater                                              2202104.6\n",
      "Heat Pump Clothes Dryer                                              311268.3\n",
      "Induction Cooking                                                     91318.6\n",
      "Electric Cooking                                                      32029.5\n",
      "Name: saving_emission.total_kgCO2e, dtype: float64\n",
      "segment2\n",
      "upgrade_name\n",
      "Enhanced Enclosure + High Efficiency Whole Home Electrification    51117315.1\n",
      "Basic Enclosure + High Efficiency Whole Home Electrification       50286683.0\n",
      "Enhanced Enclosure + HPWH + High Efficiency HP/Electric Backup     50026773.6\n",
      "Basic Enclosure + HPWH + High Efficiency HP/Electric Backup        49196141.5\n",
      "High Efficiency Whole Home Electrification                         44132347.7\n",
      "High Efficiency Heat Pump with Electric Heat Backup                34879368.2\n",
      "Enhanced Enclosure                                                 20627293.6\n",
      "Mininum Efficiency Heat Pump with Electric Heat Backup             18178504.8\n",
      "Basic Enclosure                                                    17849910.9\n",
      "Mininum Efficiency Heat Pump with Existing Heat Backup             15305628.0\n",
      "Mininum Efficiency Whole Home Electrification                      13431719.5\n",
      "Heat Pump Water Heater                                              4596824.7\n",
      "Heat Pump Clothes Dryer                                              739765.5\n",
      "Induction Cooking                                                    350776.0\n",
      "Electric Cooking                                                     188581.9\n",
      "Name: saving_emission.total_kgCO2e, dtype: float64\n",
      "segment3\n",
      "upgrade_name\n",
      "Enhanced Enclosure + High Efficiency Whole Home Electrification    13598962.6\n",
      "Basic Enclosure + High Efficiency Whole Home Electrification       13491044.3\n",
      "Enhanced Enclosure + HPWH + High Efficiency HP/Electric Backup     13300909.0\n",
      "Basic Enclosure + HPWH + High Efficiency HP/Electric Backup        13192990.7\n",
      "High Efficiency Whole Home Electrification                         12006829.1\n",
      "High Efficiency Heat Pump with Electric Heat Backup                 9090382.8\n",
      "Enhanced Enclosure                                                  5200662.5\n",
      "Basic Enclosure                                                     4920585.7\n",
      "Mininum Efficiency Heat Pump with Electric Heat Backup              4848349.1\n",
      "Mininum Efficiency Heat Pump with Existing Heat Backup              4655525.0\n",
      "Mininum Efficiency Whole Home Electrification                       3079949.7\n",
      "Heat Pump Water Heater                                              1545743.9\n",
      "Heat Pump Clothes Dryer                                              206992.5\n",
      "Induction Cooking                                                     91061.1\n",
      "Electric Cooking                                                      34604.6\n",
      "Name: saving_emission.total_kgCO2e, dtype: float64\n",
      "segment4\n",
      "upgrade_name\n",
      "Enhanced Enclosure + High Efficiency Whole Home Electrification    69132438.9\n",
      "Enhanced Enclosure + HPWH + High Efficiency HP/Electric Backup     67440034.9\n",
      "Basic Enclosure + High Efficiency Whole Home Electrification       66833408.9\n",
      "Basic Enclosure + HPWH + High Efficiency HP/Electric Backup        65141004.9\n",
      "High Efficiency Whole Home Electrification                         60002883.2\n",
      "High Efficiency Heat Pump with Electric Heat Backup                44755841.5\n",
      "Enhanced Enclosure                                                 27655174.9\n",
      "Mininum Efficiency Heat Pump with Electric Heat Backup             23463530.4\n",
      "Mininum Efficiency Heat Pump with Existing Heat Backup             21698548.1\n",
      "Basic Enclosure                                                    19902640.4\n",
      "Mininum Efficiency Whole Home Electrification                      10700476.9\n",
      "Heat Pump Water Heater                                              8931406.8\n",
      "Heat Pump Clothes Dryer                                             1097335.4\n",
      "Induction Cooking                                                    595068.6\n",
      "Electric Cooking                                                     288461.4\n",
      "Name: saving_emission.total_kgCO2e, dtype: float64\n"
     ]
    }
   ],
   "source": [
    "indicator ='saving_emission.total_kgCO2e'\n",
    "results = segment_annual_total_savings(indicator, community_results)\n",
    "saving_results[f'segment1_{income}_saving_emission_total_kgCO2e'] = results[0]\n",
    "saving_results[f'segment2_{income}_saving_emission_total_kgCO2e'] = results[1]\n",
    "saving_results[f'segment3_{income}_saving_emission_total_kgCO2e'] = results[2]\n",
    "saving_results[f'segment4_{income}_saving_emission_total_kgCO2e'] = results[3]"
   ]
  },
  {
   "cell_type": "markdown",
   "id": "83cbedb9",
   "metadata": {},
   "source": [
    "## 2.4 Annual Savings Per Dwelling Unit"
   ]
  },
  {
   "cell_type": "markdown",
   "id": "eb35438b",
   "metadata": {},
   "source": [
    "### Annual Bill Savings Per Dwelling Unit"
   ]
  },
  {
   "cell_type": "code",
   "execution_count": 83,
   "id": "876cf387",
   "metadata": {},
   "outputs": [
    {
     "name": "stdout",
     "output_type": "stream",
     "text": [
      "segment1\n",
      "upgrade_name\n",
      "Enhanced Enclosure + High Efficiency Whole Home Electrification    719.0\n",
      "Basic Enclosure + High Efficiency Whole Home Electrification       707.1\n",
      "Enhanced Enclosure + HPWH + High Efficiency HP/Electric Backup     694.9\n",
      "Basic Enclosure + HPWH + High Efficiency HP/Electric Backup        683.0\n",
      "High Efficiency Whole Home Electrification                         600.4\n",
      "High Efficiency Heat Pump with Electric Heat Backup                443.4\n",
      "Enhanced Enclosure                                                 292.7\n",
      "Basic Enclosure                                                    262.4\n",
      "Mininum Efficiency Heat Pump with Electric Heat Backup             120.0\n",
      "Mininum Efficiency Heat Pump with Existing Heat Backup             112.8\n",
      "Mininum Efficiency Whole Home Electrification                       96.4\n",
      "Heat Pump Water Heater                                              88.5\n",
      "Heat Pump Clothes Dryer                                             24.0\n",
      "Induction Cooking                                                    2.8\n",
      "Electric Cooking                                                   -11.0\n",
      "Name: saving_cbill.total_usd, dtype: float64\n",
      "segment2\n",
      "upgrade_name\n",
      "Enhanced Enclosure + High Efficiency Whole Home Electrification    858.8\n",
      "Basic Enclosure + High Efficiency Whole Home Electrification       841.3\n",
      "Enhanced Enclosure + HPWH + High Efficiency HP/Electric Backup     833.8\n",
      "Basic Enclosure + HPWH + High Efficiency HP/Electric Backup        816.4\n",
      "High Efficiency Whole Home Electrification                         712.1\n",
      "High Efficiency Heat Pump with Electric Heat Backup                544.8\n",
      "Enhanced Enclosure                                                 345.8\n",
      "Basic Enclosure                                                    303.9\n",
      "Mininum Efficiency Heat Pump with Existing Heat Backup             215.3\n",
      "Mininum Efficiency Heat Pump with Electric Heat Backup             188.6\n",
      "Mininum Efficiency Whole Home Electrification                       93.4\n",
      "Heat Pump Water Heater                                              82.0\n",
      "Heat Pump Clothes Dryer                                             28.9\n",
      "Induction Cooking                                                    1.7\n",
      "Electric Cooking                                                    -8.7\n",
      "Name: saving_cbill.total_usd, dtype: float64\n",
      "segment3\n",
      "upgrade_name\n",
      "Enhanced Enclosure + High Efficiency Whole Home Electrification    552.7\n",
      "Basic Enclosure + High Efficiency Whole Home Electrification       547.3\n",
      "Enhanced Enclosure + HPWH + High Efficiency HP/Electric Backup     535.2\n",
      "Basic Enclosure + HPWH + High Efficiency HP/Electric Backup        529.8\n",
      "High Efficiency Whole Home Electrification                         470.9\n",
      "High Efficiency Heat Pump with Electric Heat Backup                343.8\n",
      "Enhanced Enclosure                                                 213.3\n",
      "Basic Enclosure                                                    204.7\n",
      "Mininum Efficiency Heat Pump with Existing Heat Backup             122.6\n",
      "Mininum Efficiency Heat Pump with Electric Heat Backup             120.9\n",
      "Heat Pump Water Heater                                              58.7\n",
      "Heat Pump Clothes Dryer                                             22.8\n",
      "Mininum Efficiency Whole Home Electrification                        7.8\n",
      "Induction Cooking                                                    2.4\n",
      "Electric Cooking                                                    -8.7\n",
      "Name: saving_cbill.total_usd, dtype: float64\n",
      "segment4\n",
      "upgrade_name\n",
      "Enhanced Enclosure + High Efficiency Whole Home Electrification    698.8\n",
      "Enhanced Enclosure + HPWH + High Efficiency HP/Electric Backup     680.0\n",
      "Basic Enclosure + High Efficiency Whole Home Electrification       673.6\n",
      "Basic Enclosure + HPWH + High Efficiency HP/Electric Backup        654.8\n",
      "High Efficiency Whole Home Electrification                         597.7\n",
      "High Efficiency Heat Pump with Electric Heat Backup                442.7\n",
      "Enhanced Enclosure                                                 286.5\n",
      "Basic Enclosure                                                    208.4\n",
      "Mininum Efficiency Heat Pump with Existing Heat Backup             206.3\n",
      "Mininum Efficiency Heat Pump with Electric Heat Backup             203.4\n",
      "Heat Pump Water Heater                                              90.4\n",
      "Mininum Efficiency Whole Home Electrification                       69.7\n",
      "Heat Pump Clothes Dryer                                             25.5\n",
      "Induction Cooking                                                    2.2\n",
      "Electric Cooking                                                    -9.3\n",
      "Name: saving_cbill.total_usd, dtype: float64\n"
     ]
    }
   ],
   "source": [
    "indicator ='saving_cbill.total_usd'\n",
    "results = segment_mean_savings(indicator, community_results)\n",
    "saving_results[f'segment1_{income}_saving_bill_mean_usd'] = results[0]\n",
    "saving_results[f'segment2_{income}_saving_bill_mean_usd'] = results[1]\n",
    "saving_results[f'segment3_{income}_saving_bill_mean_usd'] = results[2]\n",
    "saving_results[f'segment4_{income}_saving_bill_mean_usd'] = results[3]"
   ]
  },
  {
   "cell_type": "markdown",
   "id": "e902c573",
   "metadata": {},
   "source": [
    "### Annual Energy Savings Per Dwelling Unit"
   ]
  },
  {
   "cell_type": "code",
   "execution_count": 84,
   "id": "5ad585ad",
   "metadata": {},
   "outputs": [
    {
     "name": "stdout",
     "output_type": "stream",
     "text": [
      "segment1\n",
      "upgrade_name\n",
      "Enhanced Enclosure + High Efficiency Whole Home Electrification    48.0\n",
      "Basic Enclosure + High Efficiency Whole Home Electrification       47.6\n",
      "Enhanced Enclosure + HPWH + High Efficiency HP/Electric Backup     47.1\n",
      "Basic Enclosure + HPWH + High Efficiency HP/Electric Backup        46.8\n",
      "High Efficiency Whole Home Electrification                         44.4\n",
      "High Efficiency Heat Pump with Electric Heat Backup                35.4\n",
      "Mininum Efficiency Whole Home Electrification                      33.7\n",
      "Mininum Efficiency Heat Pump with Electric Heat Backup             25.7\n",
      "Mininum Efficiency Heat Pump with Existing Heat Backup             20.7\n",
      "Enhanced Enclosure                                                 18.8\n",
      "Basic Enclosure                                                    16.4\n",
      "Heat Pump Water Heater                                              5.5\n",
      "Electric Cooking                                                    1.5\n",
      "Heat Pump Clothes Dryer                                             0.7\n",
      "Induction Cooking                                                   0.3\n",
      "Name: saving_energy.total_mmbtu, dtype: float64\n",
      "segment2\n",
      "upgrade_name\n",
      "Enhanced Enclosure + High Efficiency Whole Home Electrification    45.6\n",
      "Basic Enclosure + High Efficiency Whole Home Electrification       45.1\n",
      "Enhanced Enclosure + HPWH + High Efficiency HP/Electric Backup     44.6\n",
      "Basic Enclosure + HPWH + High Efficiency HP/Electric Backup        44.0\n",
      "High Efficiency Whole Home Electrification                         41.2\n",
      "Mininum Efficiency Whole Home Electrification                      37.3\n",
      "High Efficiency Heat Pump with Electric Heat Backup                32.7\n",
      "Mininum Efficiency Heat Pump with Electric Heat Backup             22.0\n",
      "Enhanced Enclosure                                                 17.8\n",
      "Basic Enclosure                                                    15.8\n",
      "Mininum Efficiency Heat Pump with Existing Heat Backup             14.9\n",
      "Heat Pump Water Heater                                              4.4\n",
      "Electric Cooking                                                    1.4\n",
      "Heat Pump Clothes Dryer                                             0.9\n",
      "Induction Cooking                                                   0.5\n",
      "Name: saving_energy.total_mmbtu, dtype: float64\n",
      "segment3\n",
      "upgrade_name\n",
      "Enhanced Enclosure + High Efficiency Whole Home Electrification    30.1\n",
      "Basic Enclosure + High Efficiency Whole Home Electrification       29.9\n",
      "Enhanced Enclosure + HPWH + High Efficiency HP/Electric Backup     29.4\n",
      "Basic Enclosure + HPWH + High Efficiency HP/Electric Backup        29.3\n",
      "High Efficiency Whole Home Electrification                         27.6\n",
      "Mininum Efficiency Whole Home Electrification                      24.9\n",
      "High Efficiency Heat Pump with Electric Heat Backup                20.8\n",
      "Mininum Efficiency Heat Pump with Electric Heat Backup             14.1\n",
      "Mininum Efficiency Heat Pump with Existing Heat Backup             12.8\n",
      "Enhanced Enclosure                                                 10.9\n",
      "Basic Enclosure                                                    10.2\n",
      "Heat Pump Water Heater                                              3.9\n",
      "Electric Cooking                                                    1.2\n",
      "Heat Pump Clothes Dryer                                             0.7\n",
      "Induction Cooking                                                   0.3\n",
      "Name: saving_energy.total_mmbtu, dtype: float64\n",
      "segment4\n",
      "upgrade_name\n",
      "Enhanced Enclosure + High Efficiency Whole Home Electrification    28.3\n",
      "Basic Enclosure + High Efficiency Whole Home Electrification       27.5\n",
      "Enhanced Enclosure + HPWH + High Efficiency HP/Electric Backup     27.5\n",
      "Basic Enclosure + HPWH + High Efficiency HP/Electric Backup        26.7\n",
      "High Efficiency Whole Home Electrification                         25.3\n",
      "High Efficiency Heat Pump with Electric Heat Backup                18.1\n",
      "Mininum Efficiency Whole Home Electrification                      15.9\n",
      "Mininum Efficiency Heat Pump with Electric Heat Backup             10.9\n",
      "Enhanced Enclosure                                                 10.8\n",
      "Mininum Efficiency Heat Pump with Existing Heat Backup              9.7\n",
      "Basic Enclosure                                                     8.1\n",
      "Heat Pump Water Heater                                              4.3\n",
      "Electric Cooking                                                    1.4\n",
      "Heat Pump Clothes Dryer                                             0.8\n",
      "Induction Cooking                                                   0.4\n",
      "Name: saving_energy.total_mmbtu, dtype: float64\n"
     ]
    }
   ],
   "source": [
    "indicator ='saving_energy.total_mmbtu'\n",
    "results = segment_mean_savings(indicator, community_results) \n",
    "saving_results[f'segment1_{income}_saving_energy_mean_mmbtu'] = results[0]\n",
    "saving_results[f'segment2_{income}_saving_energy_mean_mmbtu'] = results[1]\n",
    "saving_results[f'segment3_{income}_saving_energy_mean_mmbtu'] = results[2]\n",
    "saving_results[f'segment4_{income}_saving_energy_mean_mmbtu'] = results[3]"
   ]
  },
  {
   "cell_type": "markdown",
   "id": "6d99e632",
   "metadata": {},
   "source": [
    "### Annual Percentage Energy Savings Per Dwelling Unit"
   ]
  },
  {
   "cell_type": "code",
   "execution_count": 85,
   "id": "ae160b7b",
   "metadata": {},
   "outputs": [
    {
     "name": "stdout",
     "output_type": "stream",
     "text": [
      "segment1\n",
      "upgrade_name\n",
      "Enhanced Enclosure + High Efficiency Whole Home Electrification    64.3\n",
      "Basic Enclosure + High Efficiency Whole Home Electrification       64.0\n",
      "Enhanced Enclosure + HPWH + High Efficiency HP/Electric Backup     63.2\n",
      "Basic Enclosure + HPWH + High Efficiency HP/Electric Backup        62.8\n",
      "High Efficiency Whole Home Electrification                         59.6\n",
      "High Efficiency Heat Pump with Electric Heat Backup                47.5\n",
      "Mininum Efficiency Whole Home Electrification                      44.2\n",
      "Mininum Efficiency Heat Pump with Electric Heat Backup             34.1\n",
      "Mininum Efficiency Heat Pump with Existing Heat Backup             27.1\n",
      "Enhanced Enclosure                                                 24.3\n",
      "Basic Enclosure                                                    21.8\n",
      "Heat Pump Water Heater                                              7.4\n",
      "Electric Cooking                                                    1.8\n",
      "Heat Pump Clothes Dryer                                             1.0\n",
      "Induction Cooking                                                   0.3\n",
      "Name: pct_saving_energy.total_%, dtype: float64\n",
      "segment2\n",
      "upgrade_name\n",
      "Enhanced Enclosure + High Efficiency Whole Home Electrification    60.5\n",
      "Basic Enclosure + High Efficiency Whole Home Electrification       59.9\n",
      "Enhanced Enclosure + HPWH + High Efficiency HP/Electric Backup     59.0\n",
      "Basic Enclosure + HPWH + High Efficiency HP/Electric Backup        58.3\n",
      "High Efficiency Whole Home Electrification                         54.5\n",
      "High Efficiency Heat Pump with Electric Heat Backup                42.1\n",
      "Mininum Efficiency Whole Home Electrification                      41.1\n",
      "Mininum Efficiency Heat Pump with Electric Heat Backup             26.9\n",
      "Enhanced Enclosure                                                 22.9\n",
      "Basic Enclosure                                                    20.4\n",
      "Mininum Efficiency Heat Pump with Existing Heat Backup             20.1\n",
      "Heat Pump Water Heater                                              6.7\n",
      "Electric Cooking                                                    1.9\n",
      "Heat Pump Clothes Dryer                                             1.4\n",
      "Induction Cooking                                                   0.7\n",
      "Name: pct_saving_energy.total_%, dtype: float64\n",
      "segment3\n",
      "upgrade_name\n",
      "Enhanced Enclosure + High Efficiency Whole Home Electrification    57.5\n",
      "Basic Enclosure + High Efficiency Whole Home Electrification       57.3\n",
      "Enhanced Enclosure + HPWH + High Efficiency HP/Electric Backup     56.1\n",
      "Basic Enclosure + HPWH + High Efficiency HP/Electric Backup        55.9\n",
      "High Efficiency Whole Home Electrification                         52.9\n",
      "Mininum Efficiency Whole Home Electrification                      42.5\n",
      "High Efficiency Heat Pump with Electric Heat Backup                38.8\n",
      "Mininum Efficiency Heat Pump with Electric Heat Backup             25.6\n",
      "Mininum Efficiency Heat Pump with Existing Heat Backup             23.4\n",
      "Enhanced Enclosure                                                 20.8\n",
      "Basic Enclosure                                                    19.9\n",
      "Heat Pump Water Heater                                              8.0\n",
      "Electric Cooking                                                    2.1\n",
      "Heat Pump Clothes Dryer                                             1.5\n",
      "Induction Cooking                                                   0.6\n",
      "Name: pct_saving_energy.total_%, dtype: float64\n",
      "segment4\n",
      "upgrade_name\n",
      "Enhanced Enclosure + High Efficiency Whole Home Electrification    52.7\n",
      "Basic Enclosure + High Efficiency Whole Home Electrification       51.9\n",
      "Enhanced Enclosure + HPWH + High Efficiency HP/Electric Backup     50.9\n",
      "Basic Enclosure + HPWH + High Efficiency HP/Electric Backup        50.1\n",
      "High Efficiency Whole Home Electrification                         47.6\n",
      "High Efficiency Heat Pump with Electric Heat Backup                31.9\n",
      "Mininum Efficiency Whole Home Electrification                      29.6\n",
      "Mininum Efficiency Heat Pump with Electric Heat Backup             18.2\n",
      "Enhanced Enclosure                                                 18.1\n",
      "Mininum Efficiency Heat Pump with Existing Heat Backup             15.7\n",
      "Basic Enclosure                                                    15.2\n",
      "Heat Pump Water Heater                                              9.5\n",
      "Electric Cooking                                                    3.1\n",
      "Heat Pump Clothes Dryer                                             1.7\n",
      "Induction Cooking                                                   0.9\n",
      "Name: pct_saving_energy.total_%, dtype: float64\n"
     ]
    }
   ],
   "source": [
    "indicator ='pct_saving_energy.total_%'\n",
    "results = segment_mean_savings(indicator, community_results)\n",
    "saving_results[f'segment1_{income}_pct_saving_energy_mean_%'] = results[0]\n",
    "saving_results[f'segment2_{income}_pct_saving_energy_mean_%'] = results[1]\n",
    "saving_results[f'segment3_{income}_pct_saving_energy_mean_%'] = results[2]\n",
    "saving_results[f'segment4_{income}_pct_saving_energy_mean_%'] = results[3]"
   ]
  },
  {
   "cell_type": "markdown",
   "id": "4c18ce08",
   "metadata": {},
   "source": [
    "### Annual Emission Savings Per Dwelling Unit"
   ]
  },
  {
   "cell_type": "code",
   "execution_count": 86,
   "id": "a310fa8d",
   "metadata": {},
   "outputs": [
    {
     "name": "stdout",
     "output_type": "stream",
     "text": [
      "segment1\n",
      "upgrade_name\n",
      "Enhanced Enclosure + High Efficiency Whole Home Electrification    3495.3\n",
      "Basic Enclosure + High Efficiency Whole Home Electrification       3454.8\n",
      "Enhanced Enclosure + HPWH + High Efficiency HP/Electric Backup     3420.1\n",
      "Basic Enclosure + HPWH + High Efficiency HP/Electric Backup        3379.6\n",
      "High Efficiency Whole Home Electrification                         3089.2\n",
      "High Efficiency Heat Pump with Electric Heat Backup                2417.5\n",
      "Mininum Efficiency Whole Home Electrification                      1556.8\n",
      "Enhanced Enclosure                                                 1413.3\n",
      "Mininum Efficiency Heat Pump with Electric Heat Backup             1321.2\n",
      "Basic Enclosure                                                    1253.7\n",
      "Mininum Efficiency Heat Pump with Existing Heat Backup             1121.6\n",
      "Heat Pump Water Heater                                              411.1\n",
      "Heat Pump Clothes Dryer                                              71.8\n",
      "Electric Cooking                                                     62.8\n",
      "Induction Cooking                                                    17.9\n",
      "Name: saving_emission.total_kgCO2e, dtype: float64\n",
      "segment2\n",
      "upgrade_name\n",
      "Enhanced Enclosure + High Efficiency Whole Home Electrification    3710.8\n",
      "Basic Enclosure + High Efficiency Whole Home Electrification       3650.5\n",
      "Enhanced Enclosure + HPWH + High Efficiency HP/Electric Backup     3631.7\n",
      "Basic Enclosure + HPWH + High Efficiency HP/Electric Backup        3571.4\n",
      "High Efficiency Whole Home Electrification                         3203.8\n",
      "High Efficiency Heat Pump with Electric Heat Backup                2532.0\n",
      "Mininum Efficiency Whole Home Electrification                      1698.5\n",
      "Enhanced Enclosure                                                 1497.4\n",
      "Basic Enclosure                                                    1320.2\n",
      "Mininum Efficiency Heat Pump with Electric Heat Backup             1319.7\n",
      "Mininum Efficiency Heat Pump with Existing Heat Backup             1111.1\n",
      "Heat Pump Water Heater                                              340.0\n",
      "Heat Pump Clothes Dryer                                              85.3\n",
      "Electric Cooking                                                     52.8\n",
      "Induction Cooking                                                    25.9\n",
      "Name: saving_emission.total_kgCO2e, dtype: float64\n",
      "segment3\n",
      "upgrade_name\n",
      "Enhanced Enclosure + High Efficiency Whole Home Electrification    2423.1\n",
      "Basic Enclosure + High Efficiency Whole Home Electrification       2403.9\n",
      "Enhanced Enclosure + HPWH + High Efficiency HP/Electric Backup     2370.0\n",
      "Basic Enclosure + HPWH + High Efficiency HP/Electric Backup        2350.8\n",
      "High Efficiency Whole Home Electrification                         2139.4\n",
      "High Efficiency Heat Pump with Electric Heat Backup                1619.8\n",
      "Mininum Efficiency Whole Home Electrification                      1006.1\n",
      "Enhanced Enclosure                                                  926.7\n",
      "Basic Enclosure                                                     876.8\n",
      "Mininum Efficiency Heat Pump with Electric Heat Backup              863.9\n",
      "Mininum Efficiency Heat Pump with Existing Heat Backup              829.5\n",
      "Heat Pump Water Heater                                              275.4\n",
      "Heat Pump Clothes Dryer                                              67.6\n",
      "Electric Cooking                                                     45.2\n",
      "Induction Cooking                                                    17.8\n",
      "Name: saving_emission.total_kgCO2e, dtype: float64\n",
      "segment4\n",
      "upgrade_name\n",
      "Enhanced Enclosure + High Efficiency Whole Home Electrification    2656.9\n",
      "Enhanced Enclosure + HPWH + High Efficiency HP/Electric Backup     2591.9\n",
      "Basic Enclosure + High Efficiency Whole Home Electrification       2568.6\n",
      "Basic Enclosure + HPWH + High Efficiency HP/Electric Backup        2503.5\n",
      "High Efficiency Whole Home Electrification                         2306.0\n",
      "High Efficiency Heat Pump with Electric Heat Backup                1720.1\n",
      "Enhanced Enclosure                                                 1084.1\n",
      "Mininum Efficiency Heat Pump with Electric Heat Backup              901.8\n",
      "Mininum Efficiency Heat Pump with Existing Heat Backup              868.0\n",
      "Basic Enclosure                                                     796.1\n",
      "Mininum Efficiency Whole Home Electrification                       776.8\n",
      "Heat Pump Water Heater                                              346.7\n",
      "Heat Pump Clothes Dryer                                              75.5\n",
      "Electric Cooking                                                     56.5\n",
      "Induction Cooking                                                    23.6\n",
      "Name: saving_emission.total_kgCO2e, dtype: float64\n"
     ]
    }
   ],
   "source": [
    "indicator ='saving_emission.total_kgCO2e'\n",
    "results = segment_mean_savings(indicator, community_results)\n",
    "saving_results[f'segment1_{income}_saving_emission_mean_kgCO2e'] = results[0]\n",
    "saving_results[f'segment2_{income}_saving_emission_mean_kgCO2e'] = results[1]\n",
    "saving_results[f'segment3_{income}_saving_emission_mean_kgCO2e'] = results[2]\n",
    "saving_results[f'segment4_{income}_saving_emission_mean_kgCO2e'] = results[3]"
   ]
  },
  {
   "cell_type": "markdown",
   "id": "ebaaed40",
   "metadata": {},
   "source": [
    "## 2.5. Pecent Stock with Positive and Negtive Savings"
   ]
  },
  {
   "cell_type": "markdown",
   "id": "2660dc7b",
   "metadata": {},
   "source": [
    "### Segment 1"
   ]
  },
  {
   "cell_type": "code",
   "execution_count": 87,
   "id": "361be888",
   "metadata": {},
   "outputs": [
    {
     "data": {
      "application/vnd.plotly.v1+json": {
       "config": {
        "plotlyServerURL": "https://plot.ly"
       },
       "data": [
        {
         "marker": {
          "color": "red"
         },
         "name": "Negative",
         "orientation": "h",
         "text": [
          1,
          0.38095238095238093,
          0.3333333333333333,
          0.3333333333333333,
          0.1,
          0,
          0,
          0,
          0,
          0,
          0,
          0,
          0,
          0,
          0
         ],
         "textposition": "inside",
         "texttemplate": "%{text:.0%}",
         "type": "bar",
         "x": [
          1,
          0.38095238095238093,
          0.3333333333333333,
          0.3333333333333333,
          0.1,
          0,
          0,
          0,
          0,
          0,
          0,
          0,
          0,
          0,
          0
         ],
         "xaxis": "x",
         "y": [
          "Electric Cooking",
          "Mininum Efficiency Heat Pump with Electric Heat Backup",
          "Mininum Efficiency Heat Pump with Existing Heat Backup",
          "Mininum Efficiency Whole Home Electrification",
          "Induction Cooking",
          "Basic Enclosure",
          "Basic Enclosure + HPWH + High Efficiency HP/Electric Backup",
          "Basic Enclosure + High Efficiency Whole Home Electrification",
          "Enhanced Enclosure",
          "Enhanced Enclosure + HPWH + High Efficiency HP/Electric Backup",
          "Enhanced Enclosure + High Efficiency Whole Home Electrification",
          "Heat Pump Clothes Dryer",
          "Heat Pump Water Heater",
          "High Efficiency Heat Pump with Electric Heat Backup",
          "High Efficiency Whole Home Electrification"
         ],
         "yaxis": "y"
        },
        {
         "marker": {
          "color": "green"
         },
         "name": "Positive",
         "orientation": "h",
         "text": [
          0,
          0.6190476190476191,
          0.6666666666666666,
          0.6666666666666666,
          0.9,
          1,
          1,
          1,
          1,
          1,
          1,
          1,
          1,
          1,
          1
         ],
         "textposition": "inside",
         "texttemplate": "%{text:.0%}",
         "type": "bar",
         "x": [
          0,
          0.6190476190476191,
          0.6666666666666666,
          0.6666666666666666,
          0.9,
          1,
          1,
          1,
          1,
          1,
          1,
          1,
          1,
          1,
          1
         ],
         "xaxis": "x",
         "y": [
          "Electric Cooking",
          "Mininum Efficiency Heat Pump with Electric Heat Backup",
          "Mininum Efficiency Heat Pump with Existing Heat Backup",
          "Mininum Efficiency Whole Home Electrification",
          "Induction Cooking",
          "Basic Enclosure",
          "Basic Enclosure + HPWH + High Efficiency HP/Electric Backup",
          "Basic Enclosure + High Efficiency Whole Home Electrification",
          "Enhanced Enclosure",
          "Enhanced Enclosure + HPWH + High Efficiency HP/Electric Backup",
          "Enhanced Enclosure + High Efficiency Whole Home Electrification",
          "Heat Pump Clothes Dryer",
          "Heat Pump Water Heater",
          "High Efficiency Heat Pump with Electric Heat Backup",
          "High Efficiency Whole Home Electrification"
         ],
         "yaxis": "y"
        },
        {
         "marker": {
          "color": "red"
         },
         "orientation": "h",
         "showlegend": false,
         "text": [
          0,
          0.09523809523809523,
          0.14285714285714285,
          0.05555555555555555,
          0,
          0,
          0,
          0,
          0,
          0,
          0,
          0,
          0,
          0,
          0
         ],
         "textposition": "inside",
         "texttemplate": "%{text:.0%}",
         "type": "bar",
         "x": [
          0,
          0.09523809523809523,
          0.14285714285714285,
          0.05555555555555555,
          0,
          0,
          0,
          0,
          0,
          0,
          0,
          0,
          0,
          0,
          0
         ],
         "xaxis": "x2",
         "y": [
          "Electric Cooking",
          "Mininum Efficiency Heat Pump with Electric Heat Backup",
          "Mininum Efficiency Heat Pump with Existing Heat Backup",
          "Mininum Efficiency Whole Home Electrification",
          "Induction Cooking",
          "Basic Enclosure",
          "Basic Enclosure + HPWH + High Efficiency HP/Electric Backup",
          "Basic Enclosure + High Efficiency Whole Home Electrification",
          "Enhanced Enclosure",
          "Enhanced Enclosure + HPWH + High Efficiency HP/Electric Backup",
          "Enhanced Enclosure + High Efficiency Whole Home Electrification",
          "Heat Pump Clothes Dryer",
          "Heat Pump Water Heater",
          "High Efficiency Heat Pump with Electric Heat Backup",
          "High Efficiency Whole Home Electrification"
         ],
         "yaxis": "y2"
        },
        {
         "marker": {
          "color": "green"
         },
         "orientation": "h",
         "showlegend": false,
         "text": [
          1,
          0.9047619047619048,
          0.8571428571428571,
          0.9444444444444444,
          1,
          1,
          1,
          1,
          1,
          1,
          1,
          1,
          1,
          1,
          1
         ],
         "textposition": "inside",
         "texttemplate": "%{text:.0%}",
         "type": "bar",
         "x": [
          1,
          0.9047619047619048,
          0.8571428571428571,
          0.9444444444444444,
          1,
          1,
          1,
          1,
          1,
          1,
          1,
          1,
          1,
          1,
          1
         ],
         "xaxis": "x2",
         "y": [
          "Electric Cooking",
          "Mininum Efficiency Heat Pump with Electric Heat Backup",
          "Mininum Efficiency Heat Pump with Existing Heat Backup",
          "Mininum Efficiency Whole Home Electrification",
          "Induction Cooking",
          "Basic Enclosure",
          "Basic Enclosure + HPWH + High Efficiency HP/Electric Backup",
          "Basic Enclosure + High Efficiency Whole Home Electrification",
          "Enhanced Enclosure",
          "Enhanced Enclosure + HPWH + High Efficiency HP/Electric Backup",
          "Enhanced Enclosure + High Efficiency Whole Home Electrification",
          "Heat Pump Clothes Dryer",
          "Heat Pump Water Heater",
          "High Efficiency Heat Pump with Electric Heat Backup",
          "High Efficiency Whole Home Electrification"
         ],
         "yaxis": "y2"
        },
        {
         "marker": {
          "color": "red"
         },
         "orientation": "h",
         "showlegend": false,
         "text": [
          0,
          0,
          0.09523809523809523,
          0,
          0,
          0,
          0,
          0,
          0,
          0,
          0,
          0,
          0,
          0,
          0
         ],
         "textposition": "inside",
         "texttemplate": "%{text:.0%}",
         "type": "bar",
         "x": [
          0,
          0,
          0.09523809523809523,
          0,
          0,
          0,
          0,
          0,
          0,
          0,
          0,
          0,
          0,
          0,
          0
         ],
         "xaxis": "x3",
         "y": [
          "Electric Cooking",
          "Mininum Efficiency Heat Pump with Electric Heat Backup",
          "Mininum Efficiency Heat Pump with Existing Heat Backup",
          "Mininum Efficiency Whole Home Electrification",
          "Induction Cooking",
          "Basic Enclosure",
          "Basic Enclosure + HPWH + High Efficiency HP/Electric Backup",
          "Basic Enclosure + High Efficiency Whole Home Electrification",
          "Enhanced Enclosure",
          "Enhanced Enclosure + HPWH + High Efficiency HP/Electric Backup",
          "Enhanced Enclosure + High Efficiency Whole Home Electrification",
          "Heat Pump Clothes Dryer",
          "Heat Pump Water Heater",
          "High Efficiency Heat Pump with Electric Heat Backup",
          "High Efficiency Whole Home Electrification"
         ],
         "yaxis": "y3"
        },
        {
         "marker": {
          "color": "green"
         },
         "orientation": "h",
         "showlegend": false,
         "text": [
          1,
          1,
          0.9047619047619048,
          1,
          1,
          1,
          1,
          1,
          1,
          1,
          1,
          1,
          1,
          1,
          1
         ],
         "textposition": "inside",
         "texttemplate": "%{text:.0%}",
         "type": "bar",
         "x": [
          1,
          1,
          0.9047619047619048,
          1,
          1,
          1,
          1,
          1,
          1,
          1,
          1,
          1,
          1,
          1,
          1
         ],
         "xaxis": "x3",
         "y": [
          "Electric Cooking",
          "Mininum Efficiency Heat Pump with Electric Heat Backup",
          "Mininum Efficiency Heat Pump with Existing Heat Backup",
          "Mininum Efficiency Whole Home Electrification",
          "Induction Cooking",
          "Basic Enclosure",
          "Basic Enclosure + HPWH + High Efficiency HP/Electric Backup",
          "Basic Enclosure + High Efficiency Whole Home Electrification",
          "Enhanced Enclosure",
          "Enhanced Enclosure + HPWH + High Efficiency HP/Electric Backup",
          "Enhanced Enclosure + High Efficiency Whole Home Electrification",
          "Heat Pump Clothes Dryer",
          "Heat Pump Water Heater",
          "High Efficiency Heat Pump with Electric Heat Backup",
          "High Efficiency Whole Home Electrification"
         ],
         "yaxis": "y3"
        }
       ],
       "layout": {
        "autosize": false,
        "barmode": "relative",
        "font": {
         "size": 10
        },
        "height": 500,
        "template": {
         "data": {
          "bar": [
           {
            "error_x": {
             "color": "#2a3f5f"
            },
            "error_y": {
             "color": "#2a3f5f"
            },
            "marker": {
             "line": {
              "color": "#E5ECF6",
              "width": 0.5
             },
             "pattern": {
              "fillmode": "overlay",
              "size": 10,
              "solidity": 0.2
             }
            },
            "type": "bar"
           }
          ],
          "barpolar": [
           {
            "marker": {
             "line": {
              "color": "#E5ECF6",
              "width": 0.5
             },
             "pattern": {
              "fillmode": "overlay",
              "size": 10,
              "solidity": 0.2
             }
            },
            "type": "barpolar"
           }
          ],
          "carpet": [
           {
            "aaxis": {
             "endlinecolor": "#2a3f5f",
             "gridcolor": "white",
             "linecolor": "white",
             "minorgridcolor": "white",
             "startlinecolor": "#2a3f5f"
            },
            "baxis": {
             "endlinecolor": "#2a3f5f",
             "gridcolor": "white",
             "linecolor": "white",
             "minorgridcolor": "white",
             "startlinecolor": "#2a3f5f"
            },
            "type": "carpet"
           }
          ],
          "choropleth": [
           {
            "colorbar": {
             "outlinewidth": 0,
             "ticks": ""
            },
            "type": "choropleth"
           }
          ],
          "contour": [
           {
            "colorbar": {
             "outlinewidth": 0,
             "ticks": ""
            },
            "colorscale": [
             [
              0,
              "#0d0887"
             ],
             [
              0.1111111111111111,
              "#46039f"
             ],
             [
              0.2222222222222222,
              "#7201a8"
             ],
             [
              0.3333333333333333,
              "#9c179e"
             ],
             [
              0.4444444444444444,
              "#bd3786"
             ],
             [
              0.5555555555555556,
              "#d8576b"
             ],
             [
              0.6666666666666666,
              "#ed7953"
             ],
             [
              0.7777777777777778,
              "#fb9f3a"
             ],
             [
              0.8888888888888888,
              "#fdca26"
             ],
             [
              1,
              "#f0f921"
             ]
            ],
            "type": "contour"
           }
          ],
          "contourcarpet": [
           {
            "colorbar": {
             "outlinewidth": 0,
             "ticks": ""
            },
            "type": "contourcarpet"
           }
          ],
          "heatmap": [
           {
            "colorbar": {
             "outlinewidth": 0,
             "ticks": ""
            },
            "colorscale": [
             [
              0,
              "#0d0887"
             ],
             [
              0.1111111111111111,
              "#46039f"
             ],
             [
              0.2222222222222222,
              "#7201a8"
             ],
             [
              0.3333333333333333,
              "#9c179e"
             ],
             [
              0.4444444444444444,
              "#bd3786"
             ],
             [
              0.5555555555555556,
              "#d8576b"
             ],
             [
              0.6666666666666666,
              "#ed7953"
             ],
             [
              0.7777777777777778,
              "#fb9f3a"
             ],
             [
              0.8888888888888888,
              "#fdca26"
             ],
             [
              1,
              "#f0f921"
             ]
            ],
            "type": "heatmap"
           }
          ],
          "heatmapgl": [
           {
            "colorbar": {
             "outlinewidth": 0,
             "ticks": ""
            },
            "colorscale": [
             [
              0,
              "#0d0887"
             ],
             [
              0.1111111111111111,
              "#46039f"
             ],
             [
              0.2222222222222222,
              "#7201a8"
             ],
             [
              0.3333333333333333,
              "#9c179e"
             ],
             [
              0.4444444444444444,
              "#bd3786"
             ],
             [
              0.5555555555555556,
              "#d8576b"
             ],
             [
              0.6666666666666666,
              "#ed7953"
             ],
             [
              0.7777777777777778,
              "#fb9f3a"
             ],
             [
              0.8888888888888888,
              "#fdca26"
             ],
             [
              1,
              "#f0f921"
             ]
            ],
            "type": "heatmapgl"
           }
          ],
          "histogram": [
           {
            "marker": {
             "pattern": {
              "fillmode": "overlay",
              "size": 10,
              "solidity": 0.2
             }
            },
            "type": "histogram"
           }
          ],
          "histogram2d": [
           {
            "colorbar": {
             "outlinewidth": 0,
             "ticks": ""
            },
            "colorscale": [
             [
              0,
              "#0d0887"
             ],
             [
              0.1111111111111111,
              "#46039f"
             ],
             [
              0.2222222222222222,
              "#7201a8"
             ],
             [
              0.3333333333333333,
              "#9c179e"
             ],
             [
              0.4444444444444444,
              "#bd3786"
             ],
             [
              0.5555555555555556,
              "#d8576b"
             ],
             [
              0.6666666666666666,
              "#ed7953"
             ],
             [
              0.7777777777777778,
              "#fb9f3a"
             ],
             [
              0.8888888888888888,
              "#fdca26"
             ],
             [
              1,
              "#f0f921"
             ]
            ],
            "type": "histogram2d"
           }
          ],
          "histogram2dcontour": [
           {
            "colorbar": {
             "outlinewidth": 0,
             "ticks": ""
            },
            "colorscale": [
             [
              0,
              "#0d0887"
             ],
             [
              0.1111111111111111,
              "#46039f"
             ],
             [
              0.2222222222222222,
              "#7201a8"
             ],
             [
              0.3333333333333333,
              "#9c179e"
             ],
             [
              0.4444444444444444,
              "#bd3786"
             ],
             [
              0.5555555555555556,
              "#d8576b"
             ],
             [
              0.6666666666666666,
              "#ed7953"
             ],
             [
              0.7777777777777778,
              "#fb9f3a"
             ],
             [
              0.8888888888888888,
              "#fdca26"
             ],
             [
              1,
              "#f0f921"
             ]
            ],
            "type": "histogram2dcontour"
           }
          ],
          "mesh3d": [
           {
            "colorbar": {
             "outlinewidth": 0,
             "ticks": ""
            },
            "type": "mesh3d"
           }
          ],
          "parcoords": [
           {
            "line": {
             "colorbar": {
              "outlinewidth": 0,
              "ticks": ""
             }
            },
            "type": "parcoords"
           }
          ],
          "pie": [
           {
            "automargin": true,
            "type": "pie"
           }
          ],
          "scatter": [
           {
            "fillpattern": {
             "fillmode": "overlay",
             "size": 10,
             "solidity": 0.2
            },
            "type": "scatter"
           }
          ],
          "scatter3d": [
           {
            "line": {
             "colorbar": {
              "outlinewidth": 0,
              "ticks": ""
             }
            },
            "marker": {
             "colorbar": {
              "outlinewidth": 0,
              "ticks": ""
             }
            },
            "type": "scatter3d"
           }
          ],
          "scattercarpet": [
           {
            "marker": {
             "colorbar": {
              "outlinewidth": 0,
              "ticks": ""
             }
            },
            "type": "scattercarpet"
           }
          ],
          "scattergeo": [
           {
            "marker": {
             "colorbar": {
              "outlinewidth": 0,
              "ticks": ""
             }
            },
            "type": "scattergeo"
           }
          ],
          "scattergl": [
           {
            "marker": {
             "colorbar": {
              "outlinewidth": 0,
              "ticks": ""
             }
            },
            "type": "scattergl"
           }
          ],
          "scattermapbox": [
           {
            "marker": {
             "colorbar": {
              "outlinewidth": 0,
              "ticks": ""
             }
            },
            "type": "scattermapbox"
           }
          ],
          "scatterpolar": [
           {
            "marker": {
             "colorbar": {
              "outlinewidth": 0,
              "ticks": ""
             }
            },
            "type": "scatterpolar"
           }
          ],
          "scatterpolargl": [
           {
            "marker": {
             "colorbar": {
              "outlinewidth": 0,
              "ticks": ""
             }
            },
            "type": "scatterpolargl"
           }
          ],
          "scatterternary": [
           {
            "marker": {
             "colorbar": {
              "outlinewidth": 0,
              "ticks": ""
             }
            },
            "type": "scatterternary"
           }
          ],
          "surface": [
           {
            "colorbar": {
             "outlinewidth": 0,
             "ticks": ""
            },
            "colorscale": [
             [
              0,
              "#0d0887"
             ],
             [
              0.1111111111111111,
              "#46039f"
             ],
             [
              0.2222222222222222,
              "#7201a8"
             ],
             [
              0.3333333333333333,
              "#9c179e"
             ],
             [
              0.4444444444444444,
              "#bd3786"
             ],
             [
              0.5555555555555556,
              "#d8576b"
             ],
             [
              0.6666666666666666,
              "#ed7953"
             ],
             [
              0.7777777777777778,
              "#fb9f3a"
             ],
             [
              0.8888888888888888,
              "#fdca26"
             ],
             [
              1,
              "#f0f921"
             ]
            ],
            "type": "surface"
           }
          ],
          "table": [
           {
            "cells": {
             "fill": {
              "color": "#EBF0F8"
             },
             "line": {
              "color": "white"
             }
            },
            "header": {
             "fill": {
              "color": "#C8D4E3"
             },
             "line": {
              "color": "white"
             }
            },
            "type": "table"
           }
          ]
         },
         "layout": {
          "annotationdefaults": {
           "arrowcolor": "#2a3f5f",
           "arrowhead": 0,
           "arrowwidth": 1
          },
          "autotypenumbers": "strict",
          "coloraxis": {
           "colorbar": {
            "outlinewidth": 0,
            "ticks": ""
           }
          },
          "colorscale": {
           "diverging": [
            [
             0,
             "#8e0152"
            ],
            [
             0.1,
             "#c51b7d"
            ],
            [
             0.2,
             "#de77ae"
            ],
            [
             0.3,
             "#f1b6da"
            ],
            [
             0.4,
             "#fde0ef"
            ],
            [
             0.5,
             "#f7f7f7"
            ],
            [
             0.6,
             "#e6f5d0"
            ],
            [
             0.7,
             "#b8e186"
            ],
            [
             0.8,
             "#7fbc41"
            ],
            [
             0.9,
             "#4d9221"
            ],
            [
             1,
             "#276419"
            ]
           ],
           "sequential": [
            [
             0,
             "#0d0887"
            ],
            [
             0.1111111111111111,
             "#46039f"
            ],
            [
             0.2222222222222222,
             "#7201a8"
            ],
            [
             0.3333333333333333,
             "#9c179e"
            ],
            [
             0.4444444444444444,
             "#bd3786"
            ],
            [
             0.5555555555555556,
             "#d8576b"
            ],
            [
             0.6666666666666666,
             "#ed7953"
            ],
            [
             0.7777777777777778,
             "#fb9f3a"
            ],
            [
             0.8888888888888888,
             "#fdca26"
            ],
            [
             1,
             "#f0f921"
            ]
           ],
           "sequentialminus": [
            [
             0,
             "#0d0887"
            ],
            [
             0.1111111111111111,
             "#46039f"
            ],
            [
             0.2222222222222222,
             "#7201a8"
            ],
            [
             0.3333333333333333,
             "#9c179e"
            ],
            [
             0.4444444444444444,
             "#bd3786"
            ],
            [
             0.5555555555555556,
             "#d8576b"
            ],
            [
             0.6666666666666666,
             "#ed7953"
            ],
            [
             0.7777777777777778,
             "#fb9f3a"
            ],
            [
             0.8888888888888888,
             "#fdca26"
            ],
            [
             1,
             "#f0f921"
            ]
           ]
          },
          "colorway": [
           "#636efa",
           "#EF553B",
           "#00cc96",
           "#ab63fa",
           "#FFA15A",
           "#19d3f3",
           "#FF6692",
           "#B6E880",
           "#FF97FF",
           "#FECB52"
          ],
          "font": {
           "color": "#2a3f5f"
          },
          "geo": {
           "bgcolor": "white",
           "lakecolor": "white",
           "landcolor": "#E5ECF6",
           "showlakes": true,
           "showland": true,
           "subunitcolor": "white"
          },
          "hoverlabel": {
           "align": "left"
          },
          "hovermode": "closest",
          "mapbox": {
           "style": "light"
          },
          "paper_bgcolor": "white",
          "plot_bgcolor": "#E5ECF6",
          "polar": {
           "angularaxis": {
            "gridcolor": "white",
            "linecolor": "white",
            "ticks": ""
           },
           "bgcolor": "#E5ECF6",
           "radialaxis": {
            "gridcolor": "white",
            "linecolor": "white",
            "ticks": ""
           }
          },
          "scene": {
           "xaxis": {
            "backgroundcolor": "#E5ECF6",
            "gridcolor": "white",
            "gridwidth": 2,
            "linecolor": "white",
            "showbackground": true,
            "ticks": "",
            "zerolinecolor": "white"
           },
           "yaxis": {
            "backgroundcolor": "#E5ECF6",
            "gridcolor": "white",
            "gridwidth": 2,
            "linecolor": "white",
            "showbackground": true,
            "ticks": "",
            "zerolinecolor": "white"
           },
           "zaxis": {
            "backgroundcolor": "#E5ECF6",
            "gridcolor": "white",
            "gridwidth": 2,
            "linecolor": "white",
            "showbackground": true,
            "ticks": "",
            "zerolinecolor": "white"
           }
          },
          "shapedefaults": {
           "line": {
            "color": "#2a3f5f"
           }
          },
          "ternary": {
           "aaxis": {
            "gridcolor": "white",
            "linecolor": "white",
            "ticks": ""
           },
           "baxis": {
            "gridcolor": "white",
            "linecolor": "white",
            "ticks": ""
           },
           "bgcolor": "#E5ECF6",
           "caxis": {
            "gridcolor": "white",
            "linecolor": "white",
            "ticks": ""
           }
          },
          "title": {
           "x": 0.05
          },
          "xaxis": {
           "automargin": true,
           "gridcolor": "white",
           "linecolor": "white",
           "ticks": "",
           "title": {
            "standoff": 15
           },
           "zerolinecolor": "white",
           "zerolinewidth": 2
          },
          "yaxis": {
           "automargin": true,
           "gridcolor": "white",
           "linecolor": "white",
           "ticks": "",
           "title": {
            "standoff": 15
           },
           "zerolinecolor": "white",
           "zerolinewidth": 2
          }
         }
        },
        "title": {
         "text": "Percentage of Household in Positive and Negative Savings"
        },
        "width": 1000,
        "xaxis": {
         "anchor": "y",
         "domain": [
          0,
          0.2888888888888889
         ],
         "tickformat": ",.0%",
         "title": {
          "text": "Bill"
         },
         "visible": true
        },
        "xaxis2": {
         "anchor": "y2",
         "domain": [
          0.35555555555555557,
          0.6444444444444445
         ],
         "tickformat": ",.0%",
         "title": {
          "text": "Emission"
         },
         "visible": true
        },
        "xaxis3": {
         "anchor": "y3",
         "domain": [
          0.7111111111111111,
          1
         ],
         "tickformat": ",.0%",
         "title": {
          "text": "Total Energy"
         },
         "visible": true
        },
        "yaxis": {
         "anchor": "x",
         "domain": [
          0,
          1
         ],
         "visible": true
        },
        "yaxis2": {
         "anchor": "x2",
         "domain": [
          0,
          1
         ],
         "visible": false
        },
        "yaxis3": {
         "anchor": "x3",
         "domain": [
          0,
          1
         ],
         "visible": false
        }
       }
      },
      "text/html": [
       "<div>                            <div id=\"5cdb8168-87b3-429e-8016-532d3f541f20\" class=\"plotly-graph-div\" style=\"height:500px; width:1000px;\"></div>            <script type=\"text/javascript\">                require([\"plotly\"], function(Plotly) {                    window.PLOTLYENV=window.PLOTLYENV || {};                                    if (document.getElementById(\"5cdb8168-87b3-429e-8016-532d3f541f20\")) {                    Plotly.newPlot(                        \"5cdb8168-87b3-429e-8016-532d3f541f20\",                        [{\"marker\":{\"color\":\"red\"},\"name\":\"Negative\",\"orientation\":\"h\",\"text\":[1.0,0.38095238095238093,0.3333333333333333,0.3333333333333333,0.1,0.0,0.0,0.0,0.0,0.0,0.0,0.0,0.0,0.0,0.0],\"x\":[1.0,0.38095238095238093,0.3333333333333333,0.3333333333333333,0.1,0.0,0.0,0.0,0.0,0.0,0.0,0.0,0.0,0.0,0.0],\"y\":[\"Electric Cooking\",\"Mininum Efficiency Heat Pump with Electric Heat Backup\",\"Mininum Efficiency Heat Pump with Existing Heat Backup\",\"Mininum Efficiency Whole Home Electrification\",\"Induction Cooking\",\"Basic Enclosure\",\"Basic Enclosure + HPWH + High Efficiency HP/Electric Backup\",\"Basic Enclosure + High Efficiency Whole Home Electrification\",\"Enhanced Enclosure\",\"Enhanced Enclosure + HPWH + High Efficiency HP/Electric Backup\",\"Enhanced Enclosure + High Efficiency Whole Home Electrification\",\"Heat Pump Clothes Dryer\",\"Heat Pump Water Heater\",\"High Efficiency Heat Pump with Electric Heat Backup\",\"High Efficiency Whole Home Electrification\"],\"type\":\"bar\",\"xaxis\":\"x\",\"yaxis\":\"y\",\"textposition\":\"inside\",\"texttemplate\":\"%{text:.0%}\"},{\"marker\":{\"color\":\"green\"},\"name\":\"Positive\",\"orientation\":\"h\",\"text\":[0.0,0.6190476190476191,0.6666666666666666,0.6666666666666666,0.9,1.0,1.0,1.0,1.0,1.0,1.0,1.0,1.0,1.0,1.0],\"x\":[0.0,0.6190476190476191,0.6666666666666666,0.6666666666666666,0.9,1.0,1.0,1.0,1.0,1.0,1.0,1.0,1.0,1.0,1.0],\"y\":[\"Electric Cooking\",\"Mininum Efficiency Heat Pump with Electric Heat Backup\",\"Mininum Efficiency Heat Pump with Existing Heat Backup\",\"Mininum Efficiency Whole Home Electrification\",\"Induction Cooking\",\"Basic Enclosure\",\"Basic Enclosure + HPWH + High Efficiency HP/Electric Backup\",\"Basic Enclosure + High Efficiency Whole Home Electrification\",\"Enhanced Enclosure\",\"Enhanced Enclosure + HPWH + High Efficiency HP/Electric Backup\",\"Enhanced Enclosure + High Efficiency Whole Home Electrification\",\"Heat Pump Clothes Dryer\",\"Heat Pump Water Heater\",\"High Efficiency Heat Pump with Electric Heat Backup\",\"High Efficiency Whole Home Electrification\"],\"type\":\"bar\",\"xaxis\":\"x\",\"yaxis\":\"y\",\"textposition\":\"inside\",\"texttemplate\":\"%{text:.0%}\"},{\"marker\":{\"color\":\"red\"},\"orientation\":\"h\",\"showlegend\":false,\"text\":[0.0,0.09523809523809523,0.14285714285714285,0.05555555555555555,0.0,0.0,0.0,0.0,0.0,0.0,0.0,0.0,0.0,0.0,0.0],\"x\":[0.0,0.09523809523809523,0.14285714285714285,0.05555555555555555,0.0,0.0,0.0,0.0,0.0,0.0,0.0,0.0,0.0,0.0,0.0],\"y\":[\"Electric Cooking\",\"Mininum Efficiency Heat Pump with Electric Heat Backup\",\"Mininum Efficiency Heat Pump with Existing Heat Backup\",\"Mininum Efficiency Whole Home Electrification\",\"Induction Cooking\",\"Basic Enclosure\",\"Basic Enclosure + HPWH + High Efficiency HP/Electric Backup\",\"Basic Enclosure + High Efficiency Whole Home Electrification\",\"Enhanced Enclosure\",\"Enhanced Enclosure + HPWH + High Efficiency HP/Electric Backup\",\"Enhanced Enclosure + High Efficiency Whole Home Electrification\",\"Heat Pump Clothes Dryer\",\"Heat Pump Water Heater\",\"High Efficiency Heat Pump with Electric Heat Backup\",\"High Efficiency Whole Home Electrification\"],\"type\":\"bar\",\"xaxis\":\"x2\",\"yaxis\":\"y2\",\"textposition\":\"inside\",\"texttemplate\":\"%{text:.0%}\"},{\"marker\":{\"color\":\"green\"},\"orientation\":\"h\",\"showlegend\":false,\"text\":[1.0,0.9047619047619048,0.8571428571428571,0.9444444444444444,1.0,1.0,1.0,1.0,1.0,1.0,1.0,1.0,1.0,1.0,1.0],\"x\":[1.0,0.9047619047619048,0.8571428571428571,0.9444444444444444,1.0,1.0,1.0,1.0,1.0,1.0,1.0,1.0,1.0,1.0,1.0],\"y\":[\"Electric Cooking\",\"Mininum Efficiency Heat Pump with Electric Heat Backup\",\"Mininum Efficiency Heat Pump with Existing Heat Backup\",\"Mininum Efficiency Whole Home Electrification\",\"Induction Cooking\",\"Basic Enclosure\",\"Basic Enclosure + HPWH + High Efficiency HP/Electric Backup\",\"Basic Enclosure + High Efficiency Whole Home Electrification\",\"Enhanced Enclosure\",\"Enhanced Enclosure + HPWH + High Efficiency HP/Electric Backup\",\"Enhanced Enclosure + High Efficiency Whole Home Electrification\",\"Heat Pump Clothes Dryer\",\"Heat Pump Water Heater\",\"High Efficiency Heat Pump with Electric Heat Backup\",\"High Efficiency Whole Home Electrification\"],\"type\":\"bar\",\"xaxis\":\"x2\",\"yaxis\":\"y2\",\"textposition\":\"inside\",\"texttemplate\":\"%{text:.0%}\"},{\"marker\":{\"color\":\"red\"},\"orientation\":\"h\",\"showlegend\":false,\"text\":[0.0,0.0,0.09523809523809523,0.0,0.0,0.0,0.0,0.0,0.0,0.0,0.0,0.0,0.0,0.0,0.0],\"x\":[0.0,0.0,0.09523809523809523,0.0,0.0,0.0,0.0,0.0,0.0,0.0,0.0,0.0,0.0,0.0,0.0],\"y\":[\"Electric Cooking\",\"Mininum Efficiency Heat Pump with Electric Heat Backup\",\"Mininum Efficiency Heat Pump with Existing Heat Backup\",\"Mininum Efficiency Whole Home Electrification\",\"Induction Cooking\",\"Basic Enclosure\",\"Basic Enclosure + HPWH + High Efficiency HP/Electric Backup\",\"Basic Enclosure + High Efficiency Whole Home Electrification\",\"Enhanced Enclosure\",\"Enhanced Enclosure + HPWH + High Efficiency HP/Electric Backup\",\"Enhanced Enclosure + High Efficiency Whole Home Electrification\",\"Heat Pump Clothes Dryer\",\"Heat Pump Water Heater\",\"High Efficiency Heat Pump with Electric Heat Backup\",\"High Efficiency Whole Home Electrification\"],\"type\":\"bar\",\"xaxis\":\"x3\",\"yaxis\":\"y3\",\"textposition\":\"inside\",\"texttemplate\":\"%{text:.0%}\"},{\"marker\":{\"color\":\"green\"},\"orientation\":\"h\",\"showlegend\":false,\"text\":[1.0,1.0,0.9047619047619048,1.0,1.0,1.0,1.0,1.0,1.0,1.0,1.0,1.0,1.0,1.0,1.0],\"x\":[1.0,1.0,0.9047619047619048,1.0,1.0,1.0,1.0,1.0,1.0,1.0,1.0,1.0,1.0,1.0,1.0],\"y\":[\"Electric Cooking\",\"Mininum Efficiency Heat Pump with Electric Heat Backup\",\"Mininum Efficiency Heat Pump with Existing Heat Backup\",\"Mininum Efficiency Whole Home Electrification\",\"Induction Cooking\",\"Basic Enclosure\",\"Basic Enclosure + HPWH + High Efficiency HP/Electric Backup\",\"Basic Enclosure + High Efficiency Whole Home Electrification\",\"Enhanced Enclosure\",\"Enhanced Enclosure + HPWH + High Efficiency HP/Electric Backup\",\"Enhanced Enclosure + High Efficiency Whole Home Electrification\",\"Heat Pump Clothes Dryer\",\"Heat Pump Water Heater\",\"High Efficiency Heat Pump with Electric Heat Backup\",\"High Efficiency Whole Home Electrification\"],\"type\":\"bar\",\"xaxis\":\"x3\",\"yaxis\":\"y3\",\"textposition\":\"inside\",\"texttemplate\":\"%{text:.0%}\"}],                        {\"template\":{\"data\":{\"histogram2dcontour\":[{\"type\":\"histogram2dcontour\",\"colorbar\":{\"outlinewidth\":0,\"ticks\":\"\"},\"colorscale\":[[0.0,\"#0d0887\"],[0.1111111111111111,\"#46039f\"],[0.2222222222222222,\"#7201a8\"],[0.3333333333333333,\"#9c179e\"],[0.4444444444444444,\"#bd3786\"],[0.5555555555555556,\"#d8576b\"],[0.6666666666666666,\"#ed7953\"],[0.7777777777777778,\"#fb9f3a\"],[0.8888888888888888,\"#fdca26\"],[1.0,\"#f0f921\"]]}],\"choropleth\":[{\"type\":\"choropleth\",\"colorbar\":{\"outlinewidth\":0,\"ticks\":\"\"}}],\"histogram2d\":[{\"type\":\"histogram2d\",\"colorbar\":{\"outlinewidth\":0,\"ticks\":\"\"},\"colorscale\":[[0.0,\"#0d0887\"],[0.1111111111111111,\"#46039f\"],[0.2222222222222222,\"#7201a8\"],[0.3333333333333333,\"#9c179e\"],[0.4444444444444444,\"#bd3786\"],[0.5555555555555556,\"#d8576b\"],[0.6666666666666666,\"#ed7953\"],[0.7777777777777778,\"#fb9f3a\"],[0.8888888888888888,\"#fdca26\"],[1.0,\"#f0f921\"]]}],\"heatmap\":[{\"type\":\"heatmap\",\"colorbar\":{\"outlinewidth\":0,\"ticks\":\"\"},\"colorscale\":[[0.0,\"#0d0887\"],[0.1111111111111111,\"#46039f\"],[0.2222222222222222,\"#7201a8\"],[0.3333333333333333,\"#9c179e\"],[0.4444444444444444,\"#bd3786\"],[0.5555555555555556,\"#d8576b\"],[0.6666666666666666,\"#ed7953\"],[0.7777777777777778,\"#fb9f3a\"],[0.8888888888888888,\"#fdca26\"],[1.0,\"#f0f921\"]]}],\"heatmapgl\":[{\"type\":\"heatmapgl\",\"colorbar\":{\"outlinewidth\":0,\"ticks\":\"\"},\"colorscale\":[[0.0,\"#0d0887\"],[0.1111111111111111,\"#46039f\"],[0.2222222222222222,\"#7201a8\"],[0.3333333333333333,\"#9c179e\"],[0.4444444444444444,\"#bd3786\"],[0.5555555555555556,\"#d8576b\"],[0.6666666666666666,\"#ed7953\"],[0.7777777777777778,\"#fb9f3a\"],[0.8888888888888888,\"#fdca26\"],[1.0,\"#f0f921\"]]}],\"contourcarpet\":[{\"type\":\"contourcarpet\",\"colorbar\":{\"outlinewidth\":0,\"ticks\":\"\"}}],\"contour\":[{\"type\":\"contour\",\"colorbar\":{\"outlinewidth\":0,\"ticks\":\"\"},\"colorscale\":[[0.0,\"#0d0887\"],[0.1111111111111111,\"#46039f\"],[0.2222222222222222,\"#7201a8\"],[0.3333333333333333,\"#9c179e\"],[0.4444444444444444,\"#bd3786\"],[0.5555555555555556,\"#d8576b\"],[0.6666666666666666,\"#ed7953\"],[0.7777777777777778,\"#fb9f3a\"],[0.8888888888888888,\"#fdca26\"],[1.0,\"#f0f921\"]]}],\"surface\":[{\"type\":\"surface\",\"colorbar\":{\"outlinewidth\":0,\"ticks\":\"\"},\"colorscale\":[[0.0,\"#0d0887\"],[0.1111111111111111,\"#46039f\"],[0.2222222222222222,\"#7201a8\"],[0.3333333333333333,\"#9c179e\"],[0.4444444444444444,\"#bd3786\"],[0.5555555555555556,\"#d8576b\"],[0.6666666666666666,\"#ed7953\"],[0.7777777777777778,\"#fb9f3a\"],[0.8888888888888888,\"#fdca26\"],[1.0,\"#f0f921\"]]}],\"mesh3d\":[{\"type\":\"mesh3d\",\"colorbar\":{\"outlinewidth\":0,\"ticks\":\"\"}}],\"scatter\":[{\"fillpattern\":{\"fillmode\":\"overlay\",\"size\":10,\"solidity\":0.2},\"type\":\"scatter\"}],\"parcoords\":[{\"type\":\"parcoords\",\"line\":{\"colorbar\":{\"outlinewidth\":0,\"ticks\":\"\"}}}],\"scatterpolargl\":[{\"type\":\"scatterpolargl\",\"marker\":{\"colorbar\":{\"outlinewidth\":0,\"ticks\":\"\"}}}],\"bar\":[{\"error_x\":{\"color\":\"#2a3f5f\"},\"error_y\":{\"color\":\"#2a3f5f\"},\"marker\":{\"line\":{\"color\":\"#E5ECF6\",\"width\":0.5},\"pattern\":{\"fillmode\":\"overlay\",\"size\":10,\"solidity\":0.2}},\"type\":\"bar\"}],\"scattergeo\":[{\"type\":\"scattergeo\",\"marker\":{\"colorbar\":{\"outlinewidth\":0,\"ticks\":\"\"}}}],\"scatterpolar\":[{\"type\":\"scatterpolar\",\"marker\":{\"colorbar\":{\"outlinewidth\":0,\"ticks\":\"\"}}}],\"histogram\":[{\"marker\":{\"pattern\":{\"fillmode\":\"overlay\",\"size\":10,\"solidity\":0.2}},\"type\":\"histogram\"}],\"scattergl\":[{\"type\":\"scattergl\",\"marker\":{\"colorbar\":{\"outlinewidth\":0,\"ticks\":\"\"}}}],\"scatter3d\":[{\"type\":\"scatter3d\",\"line\":{\"colorbar\":{\"outlinewidth\":0,\"ticks\":\"\"}},\"marker\":{\"colorbar\":{\"outlinewidth\":0,\"ticks\":\"\"}}}],\"scattermapbox\":[{\"type\":\"scattermapbox\",\"marker\":{\"colorbar\":{\"outlinewidth\":0,\"ticks\":\"\"}}}],\"scatterternary\":[{\"type\":\"scatterternary\",\"marker\":{\"colorbar\":{\"outlinewidth\":0,\"ticks\":\"\"}}}],\"scattercarpet\":[{\"type\":\"scattercarpet\",\"marker\":{\"colorbar\":{\"outlinewidth\":0,\"ticks\":\"\"}}}],\"carpet\":[{\"aaxis\":{\"endlinecolor\":\"#2a3f5f\",\"gridcolor\":\"white\",\"linecolor\":\"white\",\"minorgridcolor\":\"white\",\"startlinecolor\":\"#2a3f5f\"},\"baxis\":{\"endlinecolor\":\"#2a3f5f\",\"gridcolor\":\"white\",\"linecolor\":\"white\",\"minorgridcolor\":\"white\",\"startlinecolor\":\"#2a3f5f\"},\"type\":\"carpet\"}],\"table\":[{\"cells\":{\"fill\":{\"color\":\"#EBF0F8\"},\"line\":{\"color\":\"white\"}},\"header\":{\"fill\":{\"color\":\"#C8D4E3\"},\"line\":{\"color\":\"white\"}},\"type\":\"table\"}],\"barpolar\":[{\"marker\":{\"line\":{\"color\":\"#E5ECF6\",\"width\":0.5},\"pattern\":{\"fillmode\":\"overlay\",\"size\":10,\"solidity\":0.2}},\"type\":\"barpolar\"}],\"pie\":[{\"automargin\":true,\"type\":\"pie\"}]},\"layout\":{\"autotypenumbers\":\"strict\",\"colorway\":[\"#636efa\",\"#EF553B\",\"#00cc96\",\"#ab63fa\",\"#FFA15A\",\"#19d3f3\",\"#FF6692\",\"#B6E880\",\"#FF97FF\",\"#FECB52\"],\"font\":{\"color\":\"#2a3f5f\"},\"hovermode\":\"closest\",\"hoverlabel\":{\"align\":\"left\"},\"paper_bgcolor\":\"white\",\"plot_bgcolor\":\"#E5ECF6\",\"polar\":{\"bgcolor\":\"#E5ECF6\",\"angularaxis\":{\"gridcolor\":\"white\",\"linecolor\":\"white\",\"ticks\":\"\"},\"radialaxis\":{\"gridcolor\":\"white\",\"linecolor\":\"white\",\"ticks\":\"\"}},\"ternary\":{\"bgcolor\":\"#E5ECF6\",\"aaxis\":{\"gridcolor\":\"white\",\"linecolor\":\"white\",\"ticks\":\"\"},\"baxis\":{\"gridcolor\":\"white\",\"linecolor\":\"white\",\"ticks\":\"\"},\"caxis\":{\"gridcolor\":\"white\",\"linecolor\":\"white\",\"ticks\":\"\"}},\"coloraxis\":{\"colorbar\":{\"outlinewidth\":0,\"ticks\":\"\"}},\"colorscale\":{\"sequential\":[[0.0,\"#0d0887\"],[0.1111111111111111,\"#46039f\"],[0.2222222222222222,\"#7201a8\"],[0.3333333333333333,\"#9c179e\"],[0.4444444444444444,\"#bd3786\"],[0.5555555555555556,\"#d8576b\"],[0.6666666666666666,\"#ed7953\"],[0.7777777777777778,\"#fb9f3a\"],[0.8888888888888888,\"#fdca26\"],[1.0,\"#f0f921\"]],\"sequentialminus\":[[0.0,\"#0d0887\"],[0.1111111111111111,\"#46039f\"],[0.2222222222222222,\"#7201a8\"],[0.3333333333333333,\"#9c179e\"],[0.4444444444444444,\"#bd3786\"],[0.5555555555555556,\"#d8576b\"],[0.6666666666666666,\"#ed7953\"],[0.7777777777777778,\"#fb9f3a\"],[0.8888888888888888,\"#fdca26\"],[1.0,\"#f0f921\"]],\"diverging\":[[0,\"#8e0152\"],[0.1,\"#c51b7d\"],[0.2,\"#de77ae\"],[0.3,\"#f1b6da\"],[0.4,\"#fde0ef\"],[0.5,\"#f7f7f7\"],[0.6,\"#e6f5d0\"],[0.7,\"#b8e186\"],[0.8,\"#7fbc41\"],[0.9,\"#4d9221\"],[1,\"#276419\"]]},\"xaxis\":{\"gridcolor\":\"white\",\"linecolor\":\"white\",\"ticks\":\"\",\"title\":{\"standoff\":15},\"zerolinecolor\":\"white\",\"automargin\":true,\"zerolinewidth\":2},\"yaxis\":{\"gridcolor\":\"white\",\"linecolor\":\"white\",\"ticks\":\"\",\"title\":{\"standoff\":15},\"zerolinecolor\":\"white\",\"automargin\":true,\"zerolinewidth\":2},\"scene\":{\"xaxis\":{\"backgroundcolor\":\"#E5ECF6\",\"gridcolor\":\"white\",\"linecolor\":\"white\",\"showbackground\":true,\"ticks\":\"\",\"zerolinecolor\":\"white\",\"gridwidth\":2},\"yaxis\":{\"backgroundcolor\":\"#E5ECF6\",\"gridcolor\":\"white\",\"linecolor\":\"white\",\"showbackground\":true,\"ticks\":\"\",\"zerolinecolor\":\"white\",\"gridwidth\":2},\"zaxis\":{\"backgroundcolor\":\"#E5ECF6\",\"gridcolor\":\"white\",\"linecolor\":\"white\",\"showbackground\":true,\"ticks\":\"\",\"zerolinecolor\":\"white\",\"gridwidth\":2}},\"shapedefaults\":{\"line\":{\"color\":\"#2a3f5f\"}},\"annotationdefaults\":{\"arrowcolor\":\"#2a3f5f\",\"arrowhead\":0,\"arrowwidth\":1},\"geo\":{\"bgcolor\":\"white\",\"landcolor\":\"#E5ECF6\",\"subunitcolor\":\"white\",\"showland\":true,\"showlakes\":true,\"lakecolor\":\"white\"},\"title\":{\"x\":0.05},\"mapbox\":{\"style\":\"light\"}}},\"xaxis\":{\"anchor\":\"y\",\"domain\":[0.0,0.2888888888888889],\"title\":{\"text\":\"Bill\"},\"visible\":true,\"tickformat\":\",.0%\"},\"yaxis\":{\"anchor\":\"x\",\"domain\":[0.0,1.0],\"visible\":true},\"xaxis2\":{\"anchor\":\"y2\",\"domain\":[0.35555555555555557,0.6444444444444445],\"title\":{\"text\":\"Emission\"},\"visible\":true,\"tickformat\":\",.0%\"},\"yaxis2\":{\"anchor\":\"x2\",\"domain\":[0.0,1.0],\"visible\":false},\"xaxis3\":{\"anchor\":\"y3\",\"domain\":[0.7111111111111111,1.0],\"title\":{\"text\":\"Total Energy\"},\"visible\":true,\"tickformat\":\",.0%\"},\"yaxis3\":{\"anchor\":\"x3\",\"domain\":[0.0,1.0],\"visible\":false},\"barmode\":\"relative\",\"font\":{\"size\":10},\"title\":{\"text\":\"Percentage of Household in Positive and Negative Savings\"},\"autosize\":false,\"width\":1000,\"height\":500},                        {\"responsive\": true}                    ).then(function(){\n",
       "                            \n",
       "var gd = document.getElementById('5cdb8168-87b3-429e-8016-532d3f541f20');\n",
       "var x = new MutationObserver(function (mutations, observer) {{\n",
       "        var display = window.getComputedStyle(gd).display;\n",
       "        if (!display || display === 'none') {{\n",
       "            console.log([gd, 'removed!']);\n",
       "            Plotly.purge(gd);\n",
       "            observer.disconnect();\n",
       "        }}\n",
       "}});\n",
       "\n",
       "// Listen for the removal of the full notebook cells\n",
       "var notebookContainer = gd.closest('#notebook-container');\n",
       "if (notebookContainer) {{\n",
       "    x.observe(notebookContainer, {childList: true});\n",
       "}}\n",
       "\n",
       "// Listen for the clearing of the current output cell\n",
       "var outputEl = gd.closest('.output');\n",
       "if (outputEl) {{\n",
       "    x.observe(outputEl, {childList: true});\n",
       "}}\n",
       "\n",
       "                        })                };                });            </script>        </div>"
      ]
     },
     "metadata": {},
     "output_type": "display_data"
    }
   ],
   "source": [
    "segment = 'segment1'\n",
    "results = figure_positive_negative_savings(segment, community_results) \n",
    "saving_results[f'segment1_{income}_pct_bill_positive_savings_%'] = results[0]*100\n",
    "saving_results[f'segment1_{income}_pct_emission_positive_savings_%'] = results[1]*100\n",
    "saving_results[f'segment1_{income}_pct_energy_positive_savings_%'] = results[2]*100"
   ]
  },
  {
   "cell_type": "markdown",
   "id": "f3357f7f",
   "metadata": {},
   "source": [
    "### Segment 2"
   ]
  },
  {
   "cell_type": "code",
   "execution_count": 88,
   "id": "362580ae",
   "metadata": {},
   "outputs": [
    {
     "data": {
      "application/vnd.plotly.v1+json": {
       "config": {
        "plotlyServerURL": "https://plot.ly"
       },
       "data": [
        {
         "marker": {
          "color": "red"
         },
         "name": "Negative",
         "orientation": "h",
         "text": [
          0.9285714285714286,
          0.2777777777777778,
          0.24528301886792453,
          0.22580645161290322,
          0.16666666666666666,
          0,
          0,
          0,
          0,
          0,
          0,
          0,
          0,
          0,
          0
         ],
         "textposition": "inside",
         "texttemplate": "%{text:.0%}",
         "type": "bar",
         "x": [
          0.9285714285714286,
          0.2777777777777778,
          0.24528301886792453,
          0.22580645161290322,
          0.16666666666666666,
          0,
          0,
          0,
          0,
          0,
          0,
          0,
          0,
          0,
          0
         ],
         "xaxis": "x",
         "y": [
          "Electric Cooking",
          "Mininum Efficiency Heat Pump with Electric Heat Backup",
          "Induction Cooking",
          "Mininum Efficiency Whole Home Electrification",
          "Mininum Efficiency Heat Pump with Existing Heat Backup",
          "Basic Enclosure",
          "Basic Enclosure + HPWH + High Efficiency HP/Electric Backup",
          "Basic Enclosure + High Efficiency Whole Home Electrification",
          "Enhanced Enclosure",
          "Enhanced Enclosure + HPWH + High Efficiency HP/Electric Backup",
          "Enhanced Enclosure + High Efficiency Whole Home Electrification",
          "Heat Pump Clothes Dryer",
          "Heat Pump Water Heater",
          "High Efficiency Heat Pump with Electric Heat Backup",
          "High Efficiency Whole Home Electrification"
         ],
         "yaxis": "y"
        },
        {
         "marker": {
          "color": "green"
         },
         "name": "Positive",
         "orientation": "h",
         "text": [
          0.07142857142857142,
          0.7222222222222222,
          0.7547169811320755,
          0.7741935483870968,
          0.8333333333333334,
          1,
          1,
          1,
          1,
          1,
          1,
          1,
          1,
          1,
          1
         ],
         "textposition": "inside",
         "texttemplate": "%{text:.0%}",
         "type": "bar",
         "x": [
          0.07142857142857142,
          0.7222222222222222,
          0.7547169811320755,
          0.7741935483870968,
          0.8333333333333334,
          1,
          1,
          1,
          1,
          1,
          1,
          1,
          1,
          1,
          1
         ],
         "xaxis": "x",
         "y": [
          "Electric Cooking",
          "Mininum Efficiency Heat Pump with Electric Heat Backup",
          "Induction Cooking",
          "Mininum Efficiency Whole Home Electrification",
          "Mininum Efficiency Heat Pump with Existing Heat Backup",
          "Basic Enclosure",
          "Basic Enclosure + HPWH + High Efficiency HP/Electric Backup",
          "Basic Enclosure + High Efficiency Whole Home Electrification",
          "Enhanced Enclosure",
          "Enhanced Enclosure + HPWH + High Efficiency HP/Electric Backup",
          "Enhanced Enclosure + High Efficiency Whole Home Electrification",
          "Heat Pump Clothes Dryer",
          "Heat Pump Water Heater",
          "High Efficiency Heat Pump with Electric Heat Backup",
          "High Efficiency Whole Home Electrification"
         ],
         "yaxis": "y"
        },
        {
         "marker": {
          "color": "red"
         },
         "orientation": "h",
         "showlegend": false,
         "text": [
          0,
          0.037037037037037035,
          0,
          0,
          0.07407407407407407,
          0,
          0,
          0,
          0,
          0,
          0,
          0,
          0,
          0,
          0
         ],
         "textposition": "inside",
         "texttemplate": "%{text:.0%}",
         "type": "bar",
         "x": [
          0,
          0.037037037037037035,
          0,
          0,
          0.07407407407407407,
          0,
          0,
          0,
          0,
          0,
          0,
          0,
          0,
          0,
          0
         ],
         "xaxis": "x2",
         "y": [
          "Electric Cooking",
          "Mininum Efficiency Heat Pump with Electric Heat Backup",
          "Induction Cooking",
          "Mininum Efficiency Whole Home Electrification",
          "Mininum Efficiency Heat Pump with Existing Heat Backup",
          "Basic Enclosure",
          "Basic Enclosure + HPWH + High Efficiency HP/Electric Backup",
          "Basic Enclosure + High Efficiency Whole Home Electrification",
          "Enhanced Enclosure",
          "Enhanced Enclosure + HPWH + High Efficiency HP/Electric Backup",
          "Enhanced Enclosure + High Efficiency Whole Home Electrification",
          "Heat Pump Clothes Dryer",
          "Heat Pump Water Heater",
          "High Efficiency Heat Pump with Electric Heat Backup",
          "High Efficiency Whole Home Electrification"
         ],
         "yaxis": "y2"
        },
        {
         "marker": {
          "color": "green"
         },
         "orientation": "h",
         "showlegend": false,
         "text": [
          1,
          0.9629629629629629,
          1,
          1,
          0.9259259259259259,
          1,
          1,
          1,
          1,
          1,
          1,
          1,
          1,
          1,
          1
         ],
         "textposition": "inside",
         "texttemplate": "%{text:.0%}",
         "type": "bar",
         "x": [
          1,
          0.9629629629629629,
          1,
          1,
          0.9259259259259259,
          1,
          1,
          1,
          1,
          1,
          1,
          1,
          1,
          1,
          1
         ],
         "xaxis": "x2",
         "y": [
          "Electric Cooking",
          "Mininum Efficiency Heat Pump with Electric Heat Backup",
          "Induction Cooking",
          "Mininum Efficiency Whole Home Electrification",
          "Mininum Efficiency Heat Pump with Existing Heat Backup",
          "Basic Enclosure",
          "Basic Enclosure + HPWH + High Efficiency HP/Electric Backup",
          "Basic Enclosure + High Efficiency Whole Home Electrification",
          "Enhanced Enclosure",
          "Enhanced Enclosure + HPWH + High Efficiency HP/Electric Backup",
          "Enhanced Enclosure + High Efficiency Whole Home Electrification",
          "Heat Pump Clothes Dryer",
          "Heat Pump Water Heater",
          "High Efficiency Heat Pump with Electric Heat Backup",
          "High Efficiency Whole Home Electrification"
         ],
         "yaxis": "y2"
        },
        {
         "marker": {
          "color": "red"
         },
         "orientation": "h",
         "showlegend": false,
         "text": [
          0,
          0,
          0,
          0,
          0.05555555555555555,
          0,
          0,
          0,
          0,
          0,
          0,
          0,
          0,
          0,
          0
         ],
         "textposition": "inside",
         "texttemplate": "%{text:.0%}",
         "type": "bar",
         "x": [
          0,
          0,
          0,
          0,
          0.05555555555555555,
          0,
          0,
          0,
          0,
          0,
          0,
          0,
          0,
          0,
          0
         ],
         "xaxis": "x3",
         "y": [
          "Electric Cooking",
          "Mininum Efficiency Heat Pump with Electric Heat Backup",
          "Induction Cooking",
          "Mininum Efficiency Whole Home Electrification",
          "Mininum Efficiency Heat Pump with Existing Heat Backup",
          "Basic Enclosure",
          "Basic Enclosure + HPWH + High Efficiency HP/Electric Backup",
          "Basic Enclosure + High Efficiency Whole Home Electrification",
          "Enhanced Enclosure",
          "Enhanced Enclosure + HPWH + High Efficiency HP/Electric Backup",
          "Enhanced Enclosure + High Efficiency Whole Home Electrification",
          "Heat Pump Clothes Dryer",
          "Heat Pump Water Heater",
          "High Efficiency Heat Pump with Electric Heat Backup",
          "High Efficiency Whole Home Electrification"
         ],
         "yaxis": "y3"
        },
        {
         "marker": {
          "color": "green"
         },
         "orientation": "h",
         "showlegend": false,
         "text": [
          1,
          1,
          1,
          1,
          0.9444444444444444,
          1,
          1,
          1,
          1,
          1,
          1,
          1,
          1,
          1,
          1
         ],
         "textposition": "inside",
         "texttemplate": "%{text:.0%}",
         "type": "bar",
         "x": [
          1,
          1,
          1,
          1,
          0.9444444444444444,
          1,
          1,
          1,
          1,
          1,
          1,
          1,
          1,
          1,
          1
         ],
         "xaxis": "x3",
         "y": [
          "Electric Cooking",
          "Mininum Efficiency Heat Pump with Electric Heat Backup",
          "Induction Cooking",
          "Mininum Efficiency Whole Home Electrification",
          "Mininum Efficiency Heat Pump with Existing Heat Backup",
          "Basic Enclosure",
          "Basic Enclosure + HPWH + High Efficiency HP/Electric Backup",
          "Basic Enclosure + High Efficiency Whole Home Electrification",
          "Enhanced Enclosure",
          "Enhanced Enclosure + HPWH + High Efficiency HP/Electric Backup",
          "Enhanced Enclosure + High Efficiency Whole Home Electrification",
          "Heat Pump Clothes Dryer",
          "Heat Pump Water Heater",
          "High Efficiency Heat Pump with Electric Heat Backup",
          "High Efficiency Whole Home Electrification"
         ],
         "yaxis": "y3"
        }
       ],
       "layout": {
        "autosize": false,
        "barmode": "relative",
        "font": {
         "size": 10
        },
        "height": 500,
        "template": {
         "data": {
          "bar": [
           {
            "error_x": {
             "color": "#2a3f5f"
            },
            "error_y": {
             "color": "#2a3f5f"
            },
            "marker": {
             "line": {
              "color": "#E5ECF6",
              "width": 0.5
             },
             "pattern": {
              "fillmode": "overlay",
              "size": 10,
              "solidity": 0.2
             }
            },
            "type": "bar"
           }
          ],
          "barpolar": [
           {
            "marker": {
             "line": {
              "color": "#E5ECF6",
              "width": 0.5
             },
             "pattern": {
              "fillmode": "overlay",
              "size": 10,
              "solidity": 0.2
             }
            },
            "type": "barpolar"
           }
          ],
          "carpet": [
           {
            "aaxis": {
             "endlinecolor": "#2a3f5f",
             "gridcolor": "white",
             "linecolor": "white",
             "minorgridcolor": "white",
             "startlinecolor": "#2a3f5f"
            },
            "baxis": {
             "endlinecolor": "#2a3f5f",
             "gridcolor": "white",
             "linecolor": "white",
             "minorgridcolor": "white",
             "startlinecolor": "#2a3f5f"
            },
            "type": "carpet"
           }
          ],
          "choropleth": [
           {
            "colorbar": {
             "outlinewidth": 0,
             "ticks": ""
            },
            "type": "choropleth"
           }
          ],
          "contour": [
           {
            "colorbar": {
             "outlinewidth": 0,
             "ticks": ""
            },
            "colorscale": [
             [
              0,
              "#0d0887"
             ],
             [
              0.1111111111111111,
              "#46039f"
             ],
             [
              0.2222222222222222,
              "#7201a8"
             ],
             [
              0.3333333333333333,
              "#9c179e"
             ],
             [
              0.4444444444444444,
              "#bd3786"
             ],
             [
              0.5555555555555556,
              "#d8576b"
             ],
             [
              0.6666666666666666,
              "#ed7953"
             ],
             [
              0.7777777777777778,
              "#fb9f3a"
             ],
             [
              0.8888888888888888,
              "#fdca26"
             ],
             [
              1,
              "#f0f921"
             ]
            ],
            "type": "contour"
           }
          ],
          "contourcarpet": [
           {
            "colorbar": {
             "outlinewidth": 0,
             "ticks": ""
            },
            "type": "contourcarpet"
           }
          ],
          "heatmap": [
           {
            "colorbar": {
             "outlinewidth": 0,
             "ticks": ""
            },
            "colorscale": [
             [
              0,
              "#0d0887"
             ],
             [
              0.1111111111111111,
              "#46039f"
             ],
             [
              0.2222222222222222,
              "#7201a8"
             ],
             [
              0.3333333333333333,
              "#9c179e"
             ],
             [
              0.4444444444444444,
              "#bd3786"
             ],
             [
              0.5555555555555556,
              "#d8576b"
             ],
             [
              0.6666666666666666,
              "#ed7953"
             ],
             [
              0.7777777777777778,
              "#fb9f3a"
             ],
             [
              0.8888888888888888,
              "#fdca26"
             ],
             [
              1,
              "#f0f921"
             ]
            ],
            "type": "heatmap"
           }
          ],
          "heatmapgl": [
           {
            "colorbar": {
             "outlinewidth": 0,
             "ticks": ""
            },
            "colorscale": [
             [
              0,
              "#0d0887"
             ],
             [
              0.1111111111111111,
              "#46039f"
             ],
             [
              0.2222222222222222,
              "#7201a8"
             ],
             [
              0.3333333333333333,
              "#9c179e"
             ],
             [
              0.4444444444444444,
              "#bd3786"
             ],
             [
              0.5555555555555556,
              "#d8576b"
             ],
             [
              0.6666666666666666,
              "#ed7953"
             ],
             [
              0.7777777777777778,
              "#fb9f3a"
             ],
             [
              0.8888888888888888,
              "#fdca26"
             ],
             [
              1,
              "#f0f921"
             ]
            ],
            "type": "heatmapgl"
           }
          ],
          "histogram": [
           {
            "marker": {
             "pattern": {
              "fillmode": "overlay",
              "size": 10,
              "solidity": 0.2
             }
            },
            "type": "histogram"
           }
          ],
          "histogram2d": [
           {
            "colorbar": {
             "outlinewidth": 0,
             "ticks": ""
            },
            "colorscale": [
             [
              0,
              "#0d0887"
             ],
             [
              0.1111111111111111,
              "#46039f"
             ],
             [
              0.2222222222222222,
              "#7201a8"
             ],
             [
              0.3333333333333333,
              "#9c179e"
             ],
             [
              0.4444444444444444,
              "#bd3786"
             ],
             [
              0.5555555555555556,
              "#d8576b"
             ],
             [
              0.6666666666666666,
              "#ed7953"
             ],
             [
              0.7777777777777778,
              "#fb9f3a"
             ],
             [
              0.8888888888888888,
              "#fdca26"
             ],
             [
              1,
              "#f0f921"
             ]
            ],
            "type": "histogram2d"
           }
          ],
          "histogram2dcontour": [
           {
            "colorbar": {
             "outlinewidth": 0,
             "ticks": ""
            },
            "colorscale": [
             [
              0,
              "#0d0887"
             ],
             [
              0.1111111111111111,
              "#46039f"
             ],
             [
              0.2222222222222222,
              "#7201a8"
             ],
             [
              0.3333333333333333,
              "#9c179e"
             ],
             [
              0.4444444444444444,
              "#bd3786"
             ],
             [
              0.5555555555555556,
              "#d8576b"
             ],
             [
              0.6666666666666666,
              "#ed7953"
             ],
             [
              0.7777777777777778,
              "#fb9f3a"
             ],
             [
              0.8888888888888888,
              "#fdca26"
             ],
             [
              1,
              "#f0f921"
             ]
            ],
            "type": "histogram2dcontour"
           }
          ],
          "mesh3d": [
           {
            "colorbar": {
             "outlinewidth": 0,
             "ticks": ""
            },
            "type": "mesh3d"
           }
          ],
          "parcoords": [
           {
            "line": {
             "colorbar": {
              "outlinewidth": 0,
              "ticks": ""
             }
            },
            "type": "parcoords"
           }
          ],
          "pie": [
           {
            "automargin": true,
            "type": "pie"
           }
          ],
          "scatter": [
           {
            "fillpattern": {
             "fillmode": "overlay",
             "size": 10,
             "solidity": 0.2
            },
            "type": "scatter"
           }
          ],
          "scatter3d": [
           {
            "line": {
             "colorbar": {
              "outlinewidth": 0,
              "ticks": ""
             }
            },
            "marker": {
             "colorbar": {
              "outlinewidth": 0,
              "ticks": ""
             }
            },
            "type": "scatter3d"
           }
          ],
          "scattercarpet": [
           {
            "marker": {
             "colorbar": {
              "outlinewidth": 0,
              "ticks": ""
             }
            },
            "type": "scattercarpet"
           }
          ],
          "scattergeo": [
           {
            "marker": {
             "colorbar": {
              "outlinewidth": 0,
              "ticks": ""
             }
            },
            "type": "scattergeo"
           }
          ],
          "scattergl": [
           {
            "marker": {
             "colorbar": {
              "outlinewidth": 0,
              "ticks": ""
             }
            },
            "type": "scattergl"
           }
          ],
          "scattermapbox": [
           {
            "marker": {
             "colorbar": {
              "outlinewidth": 0,
              "ticks": ""
             }
            },
            "type": "scattermapbox"
           }
          ],
          "scatterpolar": [
           {
            "marker": {
             "colorbar": {
              "outlinewidth": 0,
              "ticks": ""
             }
            },
            "type": "scatterpolar"
           }
          ],
          "scatterpolargl": [
           {
            "marker": {
             "colorbar": {
              "outlinewidth": 0,
              "ticks": ""
             }
            },
            "type": "scatterpolargl"
           }
          ],
          "scatterternary": [
           {
            "marker": {
             "colorbar": {
              "outlinewidth": 0,
              "ticks": ""
             }
            },
            "type": "scatterternary"
           }
          ],
          "surface": [
           {
            "colorbar": {
             "outlinewidth": 0,
             "ticks": ""
            },
            "colorscale": [
             [
              0,
              "#0d0887"
             ],
             [
              0.1111111111111111,
              "#46039f"
             ],
             [
              0.2222222222222222,
              "#7201a8"
             ],
             [
              0.3333333333333333,
              "#9c179e"
             ],
             [
              0.4444444444444444,
              "#bd3786"
             ],
             [
              0.5555555555555556,
              "#d8576b"
             ],
             [
              0.6666666666666666,
              "#ed7953"
             ],
             [
              0.7777777777777778,
              "#fb9f3a"
             ],
             [
              0.8888888888888888,
              "#fdca26"
             ],
             [
              1,
              "#f0f921"
             ]
            ],
            "type": "surface"
           }
          ],
          "table": [
           {
            "cells": {
             "fill": {
              "color": "#EBF0F8"
             },
             "line": {
              "color": "white"
             }
            },
            "header": {
             "fill": {
              "color": "#C8D4E3"
             },
             "line": {
              "color": "white"
             }
            },
            "type": "table"
           }
          ]
         },
         "layout": {
          "annotationdefaults": {
           "arrowcolor": "#2a3f5f",
           "arrowhead": 0,
           "arrowwidth": 1
          },
          "autotypenumbers": "strict",
          "coloraxis": {
           "colorbar": {
            "outlinewidth": 0,
            "ticks": ""
           }
          },
          "colorscale": {
           "diverging": [
            [
             0,
             "#8e0152"
            ],
            [
             0.1,
             "#c51b7d"
            ],
            [
             0.2,
             "#de77ae"
            ],
            [
             0.3,
             "#f1b6da"
            ],
            [
             0.4,
             "#fde0ef"
            ],
            [
             0.5,
             "#f7f7f7"
            ],
            [
             0.6,
             "#e6f5d0"
            ],
            [
             0.7,
             "#b8e186"
            ],
            [
             0.8,
             "#7fbc41"
            ],
            [
             0.9,
             "#4d9221"
            ],
            [
             1,
             "#276419"
            ]
           ],
           "sequential": [
            [
             0,
             "#0d0887"
            ],
            [
             0.1111111111111111,
             "#46039f"
            ],
            [
             0.2222222222222222,
             "#7201a8"
            ],
            [
             0.3333333333333333,
             "#9c179e"
            ],
            [
             0.4444444444444444,
             "#bd3786"
            ],
            [
             0.5555555555555556,
             "#d8576b"
            ],
            [
             0.6666666666666666,
             "#ed7953"
            ],
            [
             0.7777777777777778,
             "#fb9f3a"
            ],
            [
             0.8888888888888888,
             "#fdca26"
            ],
            [
             1,
             "#f0f921"
            ]
           ],
           "sequentialminus": [
            [
             0,
             "#0d0887"
            ],
            [
             0.1111111111111111,
             "#46039f"
            ],
            [
             0.2222222222222222,
             "#7201a8"
            ],
            [
             0.3333333333333333,
             "#9c179e"
            ],
            [
             0.4444444444444444,
             "#bd3786"
            ],
            [
             0.5555555555555556,
             "#d8576b"
            ],
            [
             0.6666666666666666,
             "#ed7953"
            ],
            [
             0.7777777777777778,
             "#fb9f3a"
            ],
            [
             0.8888888888888888,
             "#fdca26"
            ],
            [
             1,
             "#f0f921"
            ]
           ]
          },
          "colorway": [
           "#636efa",
           "#EF553B",
           "#00cc96",
           "#ab63fa",
           "#FFA15A",
           "#19d3f3",
           "#FF6692",
           "#B6E880",
           "#FF97FF",
           "#FECB52"
          ],
          "font": {
           "color": "#2a3f5f"
          },
          "geo": {
           "bgcolor": "white",
           "lakecolor": "white",
           "landcolor": "#E5ECF6",
           "showlakes": true,
           "showland": true,
           "subunitcolor": "white"
          },
          "hoverlabel": {
           "align": "left"
          },
          "hovermode": "closest",
          "mapbox": {
           "style": "light"
          },
          "paper_bgcolor": "white",
          "plot_bgcolor": "#E5ECF6",
          "polar": {
           "angularaxis": {
            "gridcolor": "white",
            "linecolor": "white",
            "ticks": ""
           },
           "bgcolor": "#E5ECF6",
           "radialaxis": {
            "gridcolor": "white",
            "linecolor": "white",
            "ticks": ""
           }
          },
          "scene": {
           "xaxis": {
            "backgroundcolor": "#E5ECF6",
            "gridcolor": "white",
            "gridwidth": 2,
            "linecolor": "white",
            "showbackground": true,
            "ticks": "",
            "zerolinecolor": "white"
           },
           "yaxis": {
            "backgroundcolor": "#E5ECF6",
            "gridcolor": "white",
            "gridwidth": 2,
            "linecolor": "white",
            "showbackground": true,
            "ticks": "",
            "zerolinecolor": "white"
           },
           "zaxis": {
            "backgroundcolor": "#E5ECF6",
            "gridcolor": "white",
            "gridwidth": 2,
            "linecolor": "white",
            "showbackground": true,
            "ticks": "",
            "zerolinecolor": "white"
           }
          },
          "shapedefaults": {
           "line": {
            "color": "#2a3f5f"
           }
          },
          "ternary": {
           "aaxis": {
            "gridcolor": "white",
            "linecolor": "white",
            "ticks": ""
           },
           "baxis": {
            "gridcolor": "white",
            "linecolor": "white",
            "ticks": ""
           },
           "bgcolor": "#E5ECF6",
           "caxis": {
            "gridcolor": "white",
            "linecolor": "white",
            "ticks": ""
           }
          },
          "title": {
           "x": 0.05
          },
          "xaxis": {
           "automargin": true,
           "gridcolor": "white",
           "linecolor": "white",
           "ticks": "",
           "title": {
            "standoff": 15
           },
           "zerolinecolor": "white",
           "zerolinewidth": 2
          },
          "yaxis": {
           "automargin": true,
           "gridcolor": "white",
           "linecolor": "white",
           "ticks": "",
           "title": {
            "standoff": 15
           },
           "zerolinecolor": "white",
           "zerolinewidth": 2
          }
         }
        },
        "title": {
         "text": "Percentage of Household in Positive and Negative Savings"
        },
        "width": 1000,
        "xaxis": {
         "anchor": "y",
         "domain": [
          0,
          0.2888888888888889
         ],
         "tickformat": ",.0%",
         "title": {
          "text": "Bill"
         },
         "visible": true
        },
        "xaxis2": {
         "anchor": "y2",
         "domain": [
          0.35555555555555557,
          0.6444444444444445
         ],
         "tickformat": ",.0%",
         "title": {
          "text": "Emission"
         },
         "visible": true
        },
        "xaxis3": {
         "anchor": "y3",
         "domain": [
          0.7111111111111111,
          1
         ],
         "tickformat": ",.0%",
         "title": {
          "text": "Total Energy"
         },
         "visible": true
        },
        "yaxis": {
         "anchor": "x",
         "domain": [
          0,
          1
         ],
         "visible": true
        },
        "yaxis2": {
         "anchor": "x2",
         "domain": [
          0,
          1
         ],
         "visible": false
        },
        "yaxis3": {
         "anchor": "x3",
         "domain": [
          0,
          1
         ],
         "visible": false
        }
       }
      },
      "text/html": [
       "<div>                            <div id=\"bcaeaaef-33b5-4f57-bc7c-519d94ba644a\" class=\"plotly-graph-div\" style=\"height:500px; width:1000px;\"></div>            <script type=\"text/javascript\">                require([\"plotly\"], function(Plotly) {                    window.PLOTLYENV=window.PLOTLYENV || {};                                    if (document.getElementById(\"bcaeaaef-33b5-4f57-bc7c-519d94ba644a\")) {                    Plotly.newPlot(                        \"bcaeaaef-33b5-4f57-bc7c-519d94ba644a\",                        [{\"marker\":{\"color\":\"red\"},\"name\":\"Negative\",\"orientation\":\"h\",\"text\":[0.9285714285714286,0.2777777777777778,0.24528301886792453,0.22580645161290322,0.16666666666666666,0.0,0.0,0.0,0.0,0.0,0.0,0.0,0.0,0.0,0.0],\"x\":[0.9285714285714286,0.2777777777777778,0.24528301886792453,0.22580645161290322,0.16666666666666666,0.0,0.0,0.0,0.0,0.0,0.0,0.0,0.0,0.0,0.0],\"y\":[\"Electric Cooking\",\"Mininum Efficiency Heat Pump with Electric Heat Backup\",\"Induction Cooking\",\"Mininum Efficiency Whole Home Electrification\",\"Mininum Efficiency Heat Pump with Existing Heat Backup\",\"Basic Enclosure\",\"Basic Enclosure + HPWH + High Efficiency HP/Electric Backup\",\"Basic Enclosure + High Efficiency Whole Home Electrification\",\"Enhanced Enclosure\",\"Enhanced Enclosure + HPWH + High Efficiency HP/Electric Backup\",\"Enhanced Enclosure + High Efficiency Whole Home Electrification\",\"Heat Pump Clothes Dryer\",\"Heat Pump Water Heater\",\"High Efficiency Heat Pump with Electric Heat Backup\",\"High Efficiency Whole Home Electrification\"],\"type\":\"bar\",\"xaxis\":\"x\",\"yaxis\":\"y\",\"textposition\":\"inside\",\"texttemplate\":\"%{text:.0%}\"},{\"marker\":{\"color\":\"green\"},\"name\":\"Positive\",\"orientation\":\"h\",\"text\":[0.07142857142857142,0.7222222222222222,0.7547169811320755,0.7741935483870968,0.8333333333333334,1.0,1.0,1.0,1.0,1.0,1.0,1.0,1.0,1.0,1.0],\"x\":[0.07142857142857142,0.7222222222222222,0.7547169811320755,0.7741935483870968,0.8333333333333334,1.0,1.0,1.0,1.0,1.0,1.0,1.0,1.0,1.0,1.0],\"y\":[\"Electric Cooking\",\"Mininum Efficiency Heat Pump with Electric Heat Backup\",\"Induction Cooking\",\"Mininum Efficiency Whole Home Electrification\",\"Mininum Efficiency Heat Pump with Existing Heat Backup\",\"Basic Enclosure\",\"Basic Enclosure + HPWH + High Efficiency HP/Electric Backup\",\"Basic Enclosure + High Efficiency Whole Home Electrification\",\"Enhanced Enclosure\",\"Enhanced Enclosure + HPWH + High Efficiency HP/Electric Backup\",\"Enhanced Enclosure + High Efficiency Whole Home Electrification\",\"Heat Pump Clothes Dryer\",\"Heat Pump Water Heater\",\"High Efficiency Heat Pump with Electric Heat Backup\",\"High Efficiency Whole Home Electrification\"],\"type\":\"bar\",\"xaxis\":\"x\",\"yaxis\":\"y\",\"textposition\":\"inside\",\"texttemplate\":\"%{text:.0%}\"},{\"marker\":{\"color\":\"red\"},\"orientation\":\"h\",\"showlegend\":false,\"text\":[0.0,0.037037037037037035,0.0,0.0,0.07407407407407407,0.0,0.0,0.0,0.0,0.0,0.0,0.0,0.0,0.0,0.0],\"x\":[0.0,0.037037037037037035,0.0,0.0,0.07407407407407407,0.0,0.0,0.0,0.0,0.0,0.0,0.0,0.0,0.0,0.0],\"y\":[\"Electric Cooking\",\"Mininum Efficiency Heat Pump with Electric Heat Backup\",\"Induction Cooking\",\"Mininum Efficiency Whole Home Electrification\",\"Mininum Efficiency Heat Pump with Existing Heat Backup\",\"Basic Enclosure\",\"Basic Enclosure + HPWH + High Efficiency HP/Electric Backup\",\"Basic Enclosure + High Efficiency Whole Home Electrification\",\"Enhanced Enclosure\",\"Enhanced Enclosure + HPWH + High Efficiency HP/Electric Backup\",\"Enhanced Enclosure + High Efficiency Whole Home Electrification\",\"Heat Pump Clothes Dryer\",\"Heat Pump Water Heater\",\"High Efficiency Heat Pump with Electric Heat Backup\",\"High Efficiency Whole Home Electrification\"],\"type\":\"bar\",\"xaxis\":\"x2\",\"yaxis\":\"y2\",\"textposition\":\"inside\",\"texttemplate\":\"%{text:.0%}\"},{\"marker\":{\"color\":\"green\"},\"orientation\":\"h\",\"showlegend\":false,\"text\":[1.0,0.9629629629629629,1.0,1.0,0.9259259259259259,1.0,1.0,1.0,1.0,1.0,1.0,1.0,1.0,1.0,1.0],\"x\":[1.0,0.9629629629629629,1.0,1.0,0.9259259259259259,1.0,1.0,1.0,1.0,1.0,1.0,1.0,1.0,1.0,1.0],\"y\":[\"Electric Cooking\",\"Mininum Efficiency Heat Pump with Electric Heat Backup\",\"Induction Cooking\",\"Mininum Efficiency Whole Home Electrification\",\"Mininum Efficiency Heat Pump with Existing Heat Backup\",\"Basic Enclosure\",\"Basic Enclosure + HPWH + High Efficiency HP/Electric Backup\",\"Basic Enclosure + High Efficiency Whole Home Electrification\",\"Enhanced Enclosure\",\"Enhanced Enclosure + HPWH + High Efficiency HP/Electric Backup\",\"Enhanced Enclosure + High Efficiency Whole Home Electrification\",\"Heat Pump Clothes Dryer\",\"Heat Pump Water Heater\",\"High Efficiency Heat Pump with Electric Heat Backup\",\"High Efficiency Whole Home Electrification\"],\"type\":\"bar\",\"xaxis\":\"x2\",\"yaxis\":\"y2\",\"textposition\":\"inside\",\"texttemplate\":\"%{text:.0%}\"},{\"marker\":{\"color\":\"red\"},\"orientation\":\"h\",\"showlegend\":false,\"text\":[0.0,0.0,0.0,0.0,0.05555555555555555,0.0,0.0,0.0,0.0,0.0,0.0,0.0,0.0,0.0,0.0],\"x\":[0.0,0.0,0.0,0.0,0.05555555555555555,0.0,0.0,0.0,0.0,0.0,0.0,0.0,0.0,0.0,0.0],\"y\":[\"Electric Cooking\",\"Mininum Efficiency Heat Pump with Electric Heat Backup\",\"Induction Cooking\",\"Mininum Efficiency Whole Home Electrification\",\"Mininum Efficiency Heat Pump with Existing Heat Backup\",\"Basic Enclosure\",\"Basic Enclosure + HPWH + High Efficiency HP/Electric Backup\",\"Basic Enclosure + High Efficiency Whole Home Electrification\",\"Enhanced Enclosure\",\"Enhanced Enclosure + HPWH + High Efficiency HP/Electric Backup\",\"Enhanced Enclosure + High Efficiency Whole Home Electrification\",\"Heat Pump Clothes Dryer\",\"Heat Pump Water Heater\",\"High Efficiency Heat Pump with Electric Heat Backup\",\"High Efficiency Whole Home Electrification\"],\"type\":\"bar\",\"xaxis\":\"x3\",\"yaxis\":\"y3\",\"textposition\":\"inside\",\"texttemplate\":\"%{text:.0%}\"},{\"marker\":{\"color\":\"green\"},\"orientation\":\"h\",\"showlegend\":false,\"text\":[1.0,1.0,1.0,1.0,0.9444444444444444,1.0,1.0,1.0,1.0,1.0,1.0,1.0,1.0,1.0,1.0],\"x\":[1.0,1.0,1.0,1.0,0.9444444444444444,1.0,1.0,1.0,1.0,1.0,1.0,1.0,1.0,1.0,1.0],\"y\":[\"Electric Cooking\",\"Mininum Efficiency Heat Pump with Electric Heat Backup\",\"Induction Cooking\",\"Mininum Efficiency Whole Home Electrification\",\"Mininum Efficiency Heat Pump with Existing Heat Backup\",\"Basic Enclosure\",\"Basic Enclosure + HPWH + High Efficiency HP/Electric Backup\",\"Basic Enclosure + High Efficiency Whole Home Electrification\",\"Enhanced Enclosure\",\"Enhanced Enclosure + HPWH + High Efficiency HP/Electric Backup\",\"Enhanced Enclosure + High Efficiency Whole Home Electrification\",\"Heat Pump Clothes Dryer\",\"Heat Pump Water Heater\",\"High Efficiency Heat Pump with Electric Heat Backup\",\"High Efficiency Whole Home Electrification\"],\"type\":\"bar\",\"xaxis\":\"x3\",\"yaxis\":\"y3\",\"textposition\":\"inside\",\"texttemplate\":\"%{text:.0%}\"}],                        {\"template\":{\"data\":{\"histogram2dcontour\":[{\"type\":\"histogram2dcontour\",\"colorbar\":{\"outlinewidth\":0,\"ticks\":\"\"},\"colorscale\":[[0.0,\"#0d0887\"],[0.1111111111111111,\"#46039f\"],[0.2222222222222222,\"#7201a8\"],[0.3333333333333333,\"#9c179e\"],[0.4444444444444444,\"#bd3786\"],[0.5555555555555556,\"#d8576b\"],[0.6666666666666666,\"#ed7953\"],[0.7777777777777778,\"#fb9f3a\"],[0.8888888888888888,\"#fdca26\"],[1.0,\"#f0f921\"]]}],\"choropleth\":[{\"type\":\"choropleth\",\"colorbar\":{\"outlinewidth\":0,\"ticks\":\"\"}}],\"histogram2d\":[{\"type\":\"histogram2d\",\"colorbar\":{\"outlinewidth\":0,\"ticks\":\"\"},\"colorscale\":[[0.0,\"#0d0887\"],[0.1111111111111111,\"#46039f\"],[0.2222222222222222,\"#7201a8\"],[0.3333333333333333,\"#9c179e\"],[0.4444444444444444,\"#bd3786\"],[0.5555555555555556,\"#d8576b\"],[0.6666666666666666,\"#ed7953\"],[0.7777777777777778,\"#fb9f3a\"],[0.8888888888888888,\"#fdca26\"],[1.0,\"#f0f921\"]]}],\"heatmap\":[{\"type\":\"heatmap\",\"colorbar\":{\"outlinewidth\":0,\"ticks\":\"\"},\"colorscale\":[[0.0,\"#0d0887\"],[0.1111111111111111,\"#46039f\"],[0.2222222222222222,\"#7201a8\"],[0.3333333333333333,\"#9c179e\"],[0.4444444444444444,\"#bd3786\"],[0.5555555555555556,\"#d8576b\"],[0.6666666666666666,\"#ed7953\"],[0.7777777777777778,\"#fb9f3a\"],[0.8888888888888888,\"#fdca26\"],[1.0,\"#f0f921\"]]}],\"heatmapgl\":[{\"type\":\"heatmapgl\",\"colorbar\":{\"outlinewidth\":0,\"ticks\":\"\"},\"colorscale\":[[0.0,\"#0d0887\"],[0.1111111111111111,\"#46039f\"],[0.2222222222222222,\"#7201a8\"],[0.3333333333333333,\"#9c179e\"],[0.4444444444444444,\"#bd3786\"],[0.5555555555555556,\"#d8576b\"],[0.6666666666666666,\"#ed7953\"],[0.7777777777777778,\"#fb9f3a\"],[0.8888888888888888,\"#fdca26\"],[1.0,\"#f0f921\"]]}],\"contourcarpet\":[{\"type\":\"contourcarpet\",\"colorbar\":{\"outlinewidth\":0,\"ticks\":\"\"}}],\"contour\":[{\"type\":\"contour\",\"colorbar\":{\"outlinewidth\":0,\"ticks\":\"\"},\"colorscale\":[[0.0,\"#0d0887\"],[0.1111111111111111,\"#46039f\"],[0.2222222222222222,\"#7201a8\"],[0.3333333333333333,\"#9c179e\"],[0.4444444444444444,\"#bd3786\"],[0.5555555555555556,\"#d8576b\"],[0.6666666666666666,\"#ed7953\"],[0.7777777777777778,\"#fb9f3a\"],[0.8888888888888888,\"#fdca26\"],[1.0,\"#f0f921\"]]}],\"surface\":[{\"type\":\"surface\",\"colorbar\":{\"outlinewidth\":0,\"ticks\":\"\"},\"colorscale\":[[0.0,\"#0d0887\"],[0.1111111111111111,\"#46039f\"],[0.2222222222222222,\"#7201a8\"],[0.3333333333333333,\"#9c179e\"],[0.4444444444444444,\"#bd3786\"],[0.5555555555555556,\"#d8576b\"],[0.6666666666666666,\"#ed7953\"],[0.7777777777777778,\"#fb9f3a\"],[0.8888888888888888,\"#fdca26\"],[1.0,\"#f0f921\"]]}],\"mesh3d\":[{\"type\":\"mesh3d\",\"colorbar\":{\"outlinewidth\":0,\"ticks\":\"\"}}],\"scatter\":[{\"fillpattern\":{\"fillmode\":\"overlay\",\"size\":10,\"solidity\":0.2},\"type\":\"scatter\"}],\"parcoords\":[{\"type\":\"parcoords\",\"line\":{\"colorbar\":{\"outlinewidth\":0,\"ticks\":\"\"}}}],\"scatterpolargl\":[{\"type\":\"scatterpolargl\",\"marker\":{\"colorbar\":{\"outlinewidth\":0,\"ticks\":\"\"}}}],\"bar\":[{\"error_x\":{\"color\":\"#2a3f5f\"},\"error_y\":{\"color\":\"#2a3f5f\"},\"marker\":{\"line\":{\"color\":\"#E5ECF6\",\"width\":0.5},\"pattern\":{\"fillmode\":\"overlay\",\"size\":10,\"solidity\":0.2}},\"type\":\"bar\"}],\"scattergeo\":[{\"type\":\"scattergeo\",\"marker\":{\"colorbar\":{\"outlinewidth\":0,\"ticks\":\"\"}}}],\"scatterpolar\":[{\"type\":\"scatterpolar\",\"marker\":{\"colorbar\":{\"outlinewidth\":0,\"ticks\":\"\"}}}],\"histogram\":[{\"marker\":{\"pattern\":{\"fillmode\":\"overlay\",\"size\":10,\"solidity\":0.2}},\"type\":\"histogram\"}],\"scattergl\":[{\"type\":\"scattergl\",\"marker\":{\"colorbar\":{\"outlinewidth\":0,\"ticks\":\"\"}}}],\"scatter3d\":[{\"type\":\"scatter3d\",\"line\":{\"colorbar\":{\"outlinewidth\":0,\"ticks\":\"\"}},\"marker\":{\"colorbar\":{\"outlinewidth\":0,\"ticks\":\"\"}}}],\"scattermapbox\":[{\"type\":\"scattermapbox\",\"marker\":{\"colorbar\":{\"outlinewidth\":0,\"ticks\":\"\"}}}],\"scatterternary\":[{\"type\":\"scatterternary\",\"marker\":{\"colorbar\":{\"outlinewidth\":0,\"ticks\":\"\"}}}],\"scattercarpet\":[{\"type\":\"scattercarpet\",\"marker\":{\"colorbar\":{\"outlinewidth\":0,\"ticks\":\"\"}}}],\"carpet\":[{\"aaxis\":{\"endlinecolor\":\"#2a3f5f\",\"gridcolor\":\"white\",\"linecolor\":\"white\",\"minorgridcolor\":\"white\",\"startlinecolor\":\"#2a3f5f\"},\"baxis\":{\"endlinecolor\":\"#2a3f5f\",\"gridcolor\":\"white\",\"linecolor\":\"white\",\"minorgridcolor\":\"white\",\"startlinecolor\":\"#2a3f5f\"},\"type\":\"carpet\"}],\"table\":[{\"cells\":{\"fill\":{\"color\":\"#EBF0F8\"},\"line\":{\"color\":\"white\"}},\"header\":{\"fill\":{\"color\":\"#C8D4E3\"},\"line\":{\"color\":\"white\"}},\"type\":\"table\"}],\"barpolar\":[{\"marker\":{\"line\":{\"color\":\"#E5ECF6\",\"width\":0.5},\"pattern\":{\"fillmode\":\"overlay\",\"size\":10,\"solidity\":0.2}},\"type\":\"barpolar\"}],\"pie\":[{\"automargin\":true,\"type\":\"pie\"}]},\"layout\":{\"autotypenumbers\":\"strict\",\"colorway\":[\"#636efa\",\"#EF553B\",\"#00cc96\",\"#ab63fa\",\"#FFA15A\",\"#19d3f3\",\"#FF6692\",\"#B6E880\",\"#FF97FF\",\"#FECB52\"],\"font\":{\"color\":\"#2a3f5f\"},\"hovermode\":\"closest\",\"hoverlabel\":{\"align\":\"left\"},\"paper_bgcolor\":\"white\",\"plot_bgcolor\":\"#E5ECF6\",\"polar\":{\"bgcolor\":\"#E5ECF6\",\"angularaxis\":{\"gridcolor\":\"white\",\"linecolor\":\"white\",\"ticks\":\"\"},\"radialaxis\":{\"gridcolor\":\"white\",\"linecolor\":\"white\",\"ticks\":\"\"}},\"ternary\":{\"bgcolor\":\"#E5ECF6\",\"aaxis\":{\"gridcolor\":\"white\",\"linecolor\":\"white\",\"ticks\":\"\"},\"baxis\":{\"gridcolor\":\"white\",\"linecolor\":\"white\",\"ticks\":\"\"},\"caxis\":{\"gridcolor\":\"white\",\"linecolor\":\"white\",\"ticks\":\"\"}},\"coloraxis\":{\"colorbar\":{\"outlinewidth\":0,\"ticks\":\"\"}},\"colorscale\":{\"sequential\":[[0.0,\"#0d0887\"],[0.1111111111111111,\"#46039f\"],[0.2222222222222222,\"#7201a8\"],[0.3333333333333333,\"#9c179e\"],[0.4444444444444444,\"#bd3786\"],[0.5555555555555556,\"#d8576b\"],[0.6666666666666666,\"#ed7953\"],[0.7777777777777778,\"#fb9f3a\"],[0.8888888888888888,\"#fdca26\"],[1.0,\"#f0f921\"]],\"sequentialminus\":[[0.0,\"#0d0887\"],[0.1111111111111111,\"#46039f\"],[0.2222222222222222,\"#7201a8\"],[0.3333333333333333,\"#9c179e\"],[0.4444444444444444,\"#bd3786\"],[0.5555555555555556,\"#d8576b\"],[0.6666666666666666,\"#ed7953\"],[0.7777777777777778,\"#fb9f3a\"],[0.8888888888888888,\"#fdca26\"],[1.0,\"#f0f921\"]],\"diverging\":[[0,\"#8e0152\"],[0.1,\"#c51b7d\"],[0.2,\"#de77ae\"],[0.3,\"#f1b6da\"],[0.4,\"#fde0ef\"],[0.5,\"#f7f7f7\"],[0.6,\"#e6f5d0\"],[0.7,\"#b8e186\"],[0.8,\"#7fbc41\"],[0.9,\"#4d9221\"],[1,\"#276419\"]]},\"xaxis\":{\"gridcolor\":\"white\",\"linecolor\":\"white\",\"ticks\":\"\",\"title\":{\"standoff\":15},\"zerolinecolor\":\"white\",\"automargin\":true,\"zerolinewidth\":2},\"yaxis\":{\"gridcolor\":\"white\",\"linecolor\":\"white\",\"ticks\":\"\",\"title\":{\"standoff\":15},\"zerolinecolor\":\"white\",\"automargin\":true,\"zerolinewidth\":2},\"scene\":{\"xaxis\":{\"backgroundcolor\":\"#E5ECF6\",\"gridcolor\":\"white\",\"linecolor\":\"white\",\"showbackground\":true,\"ticks\":\"\",\"zerolinecolor\":\"white\",\"gridwidth\":2},\"yaxis\":{\"backgroundcolor\":\"#E5ECF6\",\"gridcolor\":\"white\",\"linecolor\":\"white\",\"showbackground\":true,\"ticks\":\"\",\"zerolinecolor\":\"white\",\"gridwidth\":2},\"zaxis\":{\"backgroundcolor\":\"#E5ECF6\",\"gridcolor\":\"white\",\"linecolor\":\"white\",\"showbackground\":true,\"ticks\":\"\",\"zerolinecolor\":\"white\",\"gridwidth\":2}},\"shapedefaults\":{\"line\":{\"color\":\"#2a3f5f\"}},\"annotationdefaults\":{\"arrowcolor\":\"#2a3f5f\",\"arrowhead\":0,\"arrowwidth\":1},\"geo\":{\"bgcolor\":\"white\",\"landcolor\":\"#E5ECF6\",\"subunitcolor\":\"white\",\"showland\":true,\"showlakes\":true,\"lakecolor\":\"white\"},\"title\":{\"x\":0.05},\"mapbox\":{\"style\":\"light\"}}},\"xaxis\":{\"anchor\":\"y\",\"domain\":[0.0,0.2888888888888889],\"title\":{\"text\":\"Bill\"},\"visible\":true,\"tickformat\":\",.0%\"},\"yaxis\":{\"anchor\":\"x\",\"domain\":[0.0,1.0],\"visible\":true},\"xaxis2\":{\"anchor\":\"y2\",\"domain\":[0.35555555555555557,0.6444444444444445],\"title\":{\"text\":\"Emission\"},\"visible\":true,\"tickformat\":\",.0%\"},\"yaxis2\":{\"anchor\":\"x2\",\"domain\":[0.0,1.0],\"visible\":false},\"xaxis3\":{\"anchor\":\"y3\",\"domain\":[0.7111111111111111,1.0],\"title\":{\"text\":\"Total Energy\"},\"visible\":true,\"tickformat\":\",.0%\"},\"yaxis3\":{\"anchor\":\"x3\",\"domain\":[0.0,1.0],\"visible\":false},\"barmode\":\"relative\",\"font\":{\"size\":10},\"title\":{\"text\":\"Percentage of Household in Positive and Negative Savings\"},\"autosize\":false,\"width\":1000,\"height\":500},                        {\"responsive\": true}                    ).then(function(){\n",
       "                            \n",
       "var gd = document.getElementById('bcaeaaef-33b5-4f57-bc7c-519d94ba644a');\n",
       "var x = new MutationObserver(function (mutations, observer) {{\n",
       "        var display = window.getComputedStyle(gd).display;\n",
       "        if (!display || display === 'none') {{\n",
       "            console.log([gd, 'removed!']);\n",
       "            Plotly.purge(gd);\n",
       "            observer.disconnect();\n",
       "        }}\n",
       "}});\n",
       "\n",
       "// Listen for the removal of the full notebook cells\n",
       "var notebookContainer = gd.closest('#notebook-container');\n",
       "if (notebookContainer) {{\n",
       "    x.observe(notebookContainer, {childList: true});\n",
       "}}\n",
       "\n",
       "// Listen for the clearing of the current output cell\n",
       "var outputEl = gd.closest('.output');\n",
       "if (outputEl) {{\n",
       "    x.observe(outputEl, {childList: true});\n",
       "}}\n",
       "\n",
       "                        })                };                });            </script>        </div>"
      ]
     },
     "metadata": {},
     "output_type": "display_data"
    }
   ],
   "source": [
    "segment = 'segment2'\n",
    "results = figure_positive_negative_savings(segment, community_results)\n",
    "saving_results[f'segment2_{income}_pct_bill_positive_savings_%'] = results[0]*100\n",
    "saving_results[f'segment2_{income}_pct_emission_positive_savings_%'] = results[1]*100\n",
    "saving_results[f'segment2_{income}_pct_energy_positive_savings_%'] = results[2]*100"
   ]
  },
  {
   "cell_type": "markdown",
   "id": "5bcfb89a",
   "metadata": {},
   "source": [
    "### Segment 3"
   ]
  },
  {
   "cell_type": "code",
   "execution_count": 89,
   "id": "5c5c3d99",
   "metadata": {},
   "outputs": [
    {
     "data": {
      "application/vnd.plotly.v1+json": {
       "config": {
        "plotlyServerURL": "https://plot.ly"
       },
       "data": [
        {
         "marker": {
          "color": "red"
         },
         "name": "Negative",
         "orientation": "h",
         "text": [
          1,
          0.45454545454545453,
          0.4166666666666667,
          0.4090909090909091,
          0.15,
          0.13636363636363635,
          0,
          0,
          0,
          0,
          0,
          0,
          0,
          0,
          0
         ],
         "textposition": "inside",
         "texttemplate": "%{text:.0%}",
         "type": "bar",
         "x": [
          1,
          0.45454545454545453,
          0.4166666666666667,
          0.4090909090909091,
          0.15,
          0.13636363636363635,
          0,
          0,
          0,
          0,
          0,
          0,
          0,
          0,
          0
         ],
         "xaxis": "x",
         "y": [
          "Electric Cooking",
          "Mininum Efficiency Heat Pump with Existing Heat Backup",
          "Mininum Efficiency Whole Home Electrification",
          "Mininum Efficiency Heat Pump with Electric Heat Backup",
          "Induction Cooking",
          "High Efficiency Heat Pump with Electric Heat Backup",
          "Basic Enclosure",
          "Basic Enclosure + HPWH + High Efficiency HP/Electric Backup",
          "Basic Enclosure + High Efficiency Whole Home Electrification",
          "Enhanced Enclosure",
          "Enhanced Enclosure + HPWH + High Efficiency HP/Electric Backup",
          "Enhanced Enclosure + High Efficiency Whole Home Electrification",
          "Heat Pump Clothes Dryer",
          "Heat Pump Water Heater",
          "High Efficiency Whole Home Electrification"
         ],
         "yaxis": "y"
        },
        {
         "marker": {
          "color": "green"
         },
         "name": "Positive",
         "orientation": "h",
         "text": [
          0,
          0.5454545454545454,
          0.5833333333333334,
          0.5909090909090909,
          0.85,
          0.8636363636363636,
          1,
          1,
          1,
          1,
          1,
          1,
          1,
          1,
          1
         ],
         "textposition": "inside",
         "texttemplate": "%{text:.0%}",
         "type": "bar",
         "x": [
          0,
          0.5454545454545454,
          0.5833333333333334,
          0.5909090909090909,
          0.85,
          0.8636363636363636,
          1,
          1,
          1,
          1,
          1,
          1,
          1,
          1,
          1
         ],
         "xaxis": "x",
         "y": [
          "Electric Cooking",
          "Mininum Efficiency Heat Pump with Existing Heat Backup",
          "Mininum Efficiency Whole Home Electrification",
          "Mininum Efficiency Heat Pump with Electric Heat Backup",
          "Induction Cooking",
          "High Efficiency Heat Pump with Electric Heat Backup",
          "Basic Enclosure",
          "Basic Enclosure + HPWH + High Efficiency HP/Electric Backup",
          "Basic Enclosure + High Efficiency Whole Home Electrification",
          "Enhanced Enclosure",
          "Enhanced Enclosure + HPWH + High Efficiency HP/Electric Backup",
          "Enhanced Enclosure + High Efficiency Whole Home Electrification",
          "Heat Pump Clothes Dryer",
          "Heat Pump Water Heater",
          "High Efficiency Whole Home Electrification"
         ],
         "yaxis": "y"
        },
        {
         "marker": {
          "color": "red"
         },
         "orientation": "h",
         "showlegend": false,
         "text": [
          0,
          0.13636363636363635,
          0,
          0.13636363636363635,
          0,
          0.045454545454545456,
          0,
          0,
          0,
          0,
          0,
          0,
          0,
          0,
          0
         ],
         "textposition": "inside",
         "texttemplate": "%{text:.0%}",
         "type": "bar",
         "x": [
          0,
          0.13636363636363635,
          0,
          0.13636363636363635,
          0,
          0.045454545454545456,
          0,
          0,
          0,
          0,
          0,
          0,
          0,
          0,
          0
         ],
         "xaxis": "x2",
         "y": [
          "Electric Cooking",
          "Mininum Efficiency Heat Pump with Existing Heat Backup",
          "Mininum Efficiency Whole Home Electrification",
          "Mininum Efficiency Heat Pump with Electric Heat Backup",
          "Induction Cooking",
          "High Efficiency Heat Pump with Electric Heat Backup",
          "Basic Enclosure",
          "Basic Enclosure + HPWH + High Efficiency HP/Electric Backup",
          "Basic Enclosure + High Efficiency Whole Home Electrification",
          "Enhanced Enclosure",
          "Enhanced Enclosure + HPWH + High Efficiency HP/Electric Backup",
          "Enhanced Enclosure + High Efficiency Whole Home Electrification",
          "Heat Pump Clothes Dryer",
          "Heat Pump Water Heater",
          "High Efficiency Whole Home Electrification"
         ],
         "yaxis": "y2"
        },
        {
         "marker": {
          "color": "green"
         },
         "orientation": "h",
         "showlegend": false,
         "text": [
          1,
          0.8636363636363636,
          1,
          0.8636363636363636,
          1,
          0.9545454545454546,
          1,
          1,
          1,
          1,
          1,
          1,
          1,
          1,
          1
         ],
         "textposition": "inside",
         "texttemplate": "%{text:.0%}",
         "type": "bar",
         "x": [
          1,
          0.8636363636363636,
          1,
          0.8636363636363636,
          1,
          0.9545454545454546,
          1,
          1,
          1,
          1,
          1,
          1,
          1,
          1,
          1
         ],
         "xaxis": "x2",
         "y": [
          "Electric Cooking",
          "Mininum Efficiency Heat Pump with Existing Heat Backup",
          "Mininum Efficiency Whole Home Electrification",
          "Mininum Efficiency Heat Pump with Electric Heat Backup",
          "Induction Cooking",
          "High Efficiency Heat Pump with Electric Heat Backup",
          "Basic Enclosure",
          "Basic Enclosure + HPWH + High Efficiency HP/Electric Backup",
          "Basic Enclosure + High Efficiency Whole Home Electrification",
          "Enhanced Enclosure",
          "Enhanced Enclosure + HPWH + High Efficiency HP/Electric Backup",
          "Enhanced Enclosure + High Efficiency Whole Home Electrification",
          "Heat Pump Clothes Dryer",
          "Heat Pump Water Heater",
          "High Efficiency Whole Home Electrification"
         ],
         "yaxis": "y2"
        },
        {
         "marker": {
          "color": "red"
         },
         "orientation": "h",
         "showlegend": false,
         "text": [
          0,
          0.045454545454545456,
          0,
          0.045454545454545456,
          0,
          0.045454545454545456,
          0,
          0,
          0,
          0,
          0,
          0,
          0,
          0,
          0
         ],
         "textposition": "inside",
         "texttemplate": "%{text:.0%}",
         "type": "bar",
         "x": [
          0,
          0.045454545454545456,
          0,
          0.045454545454545456,
          0,
          0.045454545454545456,
          0,
          0,
          0,
          0,
          0,
          0,
          0,
          0,
          0
         ],
         "xaxis": "x3",
         "y": [
          "Electric Cooking",
          "Mininum Efficiency Heat Pump with Existing Heat Backup",
          "Mininum Efficiency Whole Home Electrification",
          "Mininum Efficiency Heat Pump with Electric Heat Backup",
          "Induction Cooking",
          "High Efficiency Heat Pump with Electric Heat Backup",
          "Basic Enclosure",
          "Basic Enclosure + HPWH + High Efficiency HP/Electric Backup",
          "Basic Enclosure + High Efficiency Whole Home Electrification",
          "Enhanced Enclosure",
          "Enhanced Enclosure + HPWH + High Efficiency HP/Electric Backup",
          "Enhanced Enclosure + High Efficiency Whole Home Electrification",
          "Heat Pump Clothes Dryer",
          "Heat Pump Water Heater",
          "High Efficiency Whole Home Electrification"
         ],
         "yaxis": "y3"
        },
        {
         "marker": {
          "color": "green"
         },
         "orientation": "h",
         "showlegend": false,
         "text": [
          1,
          0.9545454545454546,
          1,
          0.9545454545454546,
          1,
          0.9545454545454546,
          1,
          1,
          1,
          1,
          1,
          1,
          1,
          1,
          1
         ],
         "textposition": "inside",
         "texttemplate": "%{text:.0%}",
         "type": "bar",
         "x": [
          1,
          0.9545454545454546,
          1,
          0.9545454545454546,
          1,
          0.9545454545454546,
          1,
          1,
          1,
          1,
          1,
          1,
          1,
          1,
          1
         ],
         "xaxis": "x3",
         "y": [
          "Electric Cooking",
          "Mininum Efficiency Heat Pump with Existing Heat Backup",
          "Mininum Efficiency Whole Home Electrification",
          "Mininum Efficiency Heat Pump with Electric Heat Backup",
          "Induction Cooking",
          "High Efficiency Heat Pump with Electric Heat Backup",
          "Basic Enclosure",
          "Basic Enclosure + HPWH + High Efficiency HP/Electric Backup",
          "Basic Enclosure + High Efficiency Whole Home Electrification",
          "Enhanced Enclosure",
          "Enhanced Enclosure + HPWH + High Efficiency HP/Electric Backup",
          "Enhanced Enclosure + High Efficiency Whole Home Electrification",
          "Heat Pump Clothes Dryer",
          "Heat Pump Water Heater",
          "High Efficiency Whole Home Electrification"
         ],
         "yaxis": "y3"
        }
       ],
       "layout": {
        "autosize": false,
        "barmode": "relative",
        "font": {
         "size": 10
        },
        "height": 500,
        "template": {
         "data": {
          "bar": [
           {
            "error_x": {
             "color": "#2a3f5f"
            },
            "error_y": {
             "color": "#2a3f5f"
            },
            "marker": {
             "line": {
              "color": "#E5ECF6",
              "width": 0.5
             },
             "pattern": {
              "fillmode": "overlay",
              "size": 10,
              "solidity": 0.2
             }
            },
            "type": "bar"
           }
          ],
          "barpolar": [
           {
            "marker": {
             "line": {
              "color": "#E5ECF6",
              "width": 0.5
             },
             "pattern": {
              "fillmode": "overlay",
              "size": 10,
              "solidity": 0.2
             }
            },
            "type": "barpolar"
           }
          ],
          "carpet": [
           {
            "aaxis": {
             "endlinecolor": "#2a3f5f",
             "gridcolor": "white",
             "linecolor": "white",
             "minorgridcolor": "white",
             "startlinecolor": "#2a3f5f"
            },
            "baxis": {
             "endlinecolor": "#2a3f5f",
             "gridcolor": "white",
             "linecolor": "white",
             "minorgridcolor": "white",
             "startlinecolor": "#2a3f5f"
            },
            "type": "carpet"
           }
          ],
          "choropleth": [
           {
            "colorbar": {
             "outlinewidth": 0,
             "ticks": ""
            },
            "type": "choropleth"
           }
          ],
          "contour": [
           {
            "colorbar": {
             "outlinewidth": 0,
             "ticks": ""
            },
            "colorscale": [
             [
              0,
              "#0d0887"
             ],
             [
              0.1111111111111111,
              "#46039f"
             ],
             [
              0.2222222222222222,
              "#7201a8"
             ],
             [
              0.3333333333333333,
              "#9c179e"
             ],
             [
              0.4444444444444444,
              "#bd3786"
             ],
             [
              0.5555555555555556,
              "#d8576b"
             ],
             [
              0.6666666666666666,
              "#ed7953"
             ],
             [
              0.7777777777777778,
              "#fb9f3a"
             ],
             [
              0.8888888888888888,
              "#fdca26"
             ],
             [
              1,
              "#f0f921"
             ]
            ],
            "type": "contour"
           }
          ],
          "contourcarpet": [
           {
            "colorbar": {
             "outlinewidth": 0,
             "ticks": ""
            },
            "type": "contourcarpet"
           }
          ],
          "heatmap": [
           {
            "colorbar": {
             "outlinewidth": 0,
             "ticks": ""
            },
            "colorscale": [
             [
              0,
              "#0d0887"
             ],
             [
              0.1111111111111111,
              "#46039f"
             ],
             [
              0.2222222222222222,
              "#7201a8"
             ],
             [
              0.3333333333333333,
              "#9c179e"
             ],
             [
              0.4444444444444444,
              "#bd3786"
             ],
             [
              0.5555555555555556,
              "#d8576b"
             ],
             [
              0.6666666666666666,
              "#ed7953"
             ],
             [
              0.7777777777777778,
              "#fb9f3a"
             ],
             [
              0.8888888888888888,
              "#fdca26"
             ],
             [
              1,
              "#f0f921"
             ]
            ],
            "type": "heatmap"
           }
          ],
          "heatmapgl": [
           {
            "colorbar": {
             "outlinewidth": 0,
             "ticks": ""
            },
            "colorscale": [
             [
              0,
              "#0d0887"
             ],
             [
              0.1111111111111111,
              "#46039f"
             ],
             [
              0.2222222222222222,
              "#7201a8"
             ],
             [
              0.3333333333333333,
              "#9c179e"
             ],
             [
              0.4444444444444444,
              "#bd3786"
             ],
             [
              0.5555555555555556,
              "#d8576b"
             ],
             [
              0.6666666666666666,
              "#ed7953"
             ],
             [
              0.7777777777777778,
              "#fb9f3a"
             ],
             [
              0.8888888888888888,
              "#fdca26"
             ],
             [
              1,
              "#f0f921"
             ]
            ],
            "type": "heatmapgl"
           }
          ],
          "histogram": [
           {
            "marker": {
             "pattern": {
              "fillmode": "overlay",
              "size": 10,
              "solidity": 0.2
             }
            },
            "type": "histogram"
           }
          ],
          "histogram2d": [
           {
            "colorbar": {
             "outlinewidth": 0,
             "ticks": ""
            },
            "colorscale": [
             [
              0,
              "#0d0887"
             ],
             [
              0.1111111111111111,
              "#46039f"
             ],
             [
              0.2222222222222222,
              "#7201a8"
             ],
             [
              0.3333333333333333,
              "#9c179e"
             ],
             [
              0.4444444444444444,
              "#bd3786"
             ],
             [
              0.5555555555555556,
              "#d8576b"
             ],
             [
              0.6666666666666666,
              "#ed7953"
             ],
             [
              0.7777777777777778,
              "#fb9f3a"
             ],
             [
              0.8888888888888888,
              "#fdca26"
             ],
             [
              1,
              "#f0f921"
             ]
            ],
            "type": "histogram2d"
           }
          ],
          "histogram2dcontour": [
           {
            "colorbar": {
             "outlinewidth": 0,
             "ticks": ""
            },
            "colorscale": [
             [
              0,
              "#0d0887"
             ],
             [
              0.1111111111111111,
              "#46039f"
             ],
             [
              0.2222222222222222,
              "#7201a8"
             ],
             [
              0.3333333333333333,
              "#9c179e"
             ],
             [
              0.4444444444444444,
              "#bd3786"
             ],
             [
              0.5555555555555556,
              "#d8576b"
             ],
             [
              0.6666666666666666,
              "#ed7953"
             ],
             [
              0.7777777777777778,
              "#fb9f3a"
             ],
             [
              0.8888888888888888,
              "#fdca26"
             ],
             [
              1,
              "#f0f921"
             ]
            ],
            "type": "histogram2dcontour"
           }
          ],
          "mesh3d": [
           {
            "colorbar": {
             "outlinewidth": 0,
             "ticks": ""
            },
            "type": "mesh3d"
           }
          ],
          "parcoords": [
           {
            "line": {
             "colorbar": {
              "outlinewidth": 0,
              "ticks": ""
             }
            },
            "type": "parcoords"
           }
          ],
          "pie": [
           {
            "automargin": true,
            "type": "pie"
           }
          ],
          "scatter": [
           {
            "fillpattern": {
             "fillmode": "overlay",
             "size": 10,
             "solidity": 0.2
            },
            "type": "scatter"
           }
          ],
          "scatter3d": [
           {
            "line": {
             "colorbar": {
              "outlinewidth": 0,
              "ticks": ""
             }
            },
            "marker": {
             "colorbar": {
              "outlinewidth": 0,
              "ticks": ""
             }
            },
            "type": "scatter3d"
           }
          ],
          "scattercarpet": [
           {
            "marker": {
             "colorbar": {
              "outlinewidth": 0,
              "ticks": ""
             }
            },
            "type": "scattercarpet"
           }
          ],
          "scattergeo": [
           {
            "marker": {
             "colorbar": {
              "outlinewidth": 0,
              "ticks": ""
             }
            },
            "type": "scattergeo"
           }
          ],
          "scattergl": [
           {
            "marker": {
             "colorbar": {
              "outlinewidth": 0,
              "ticks": ""
             }
            },
            "type": "scattergl"
           }
          ],
          "scattermapbox": [
           {
            "marker": {
             "colorbar": {
              "outlinewidth": 0,
              "ticks": ""
             }
            },
            "type": "scattermapbox"
           }
          ],
          "scatterpolar": [
           {
            "marker": {
             "colorbar": {
              "outlinewidth": 0,
              "ticks": ""
             }
            },
            "type": "scatterpolar"
           }
          ],
          "scatterpolargl": [
           {
            "marker": {
             "colorbar": {
              "outlinewidth": 0,
              "ticks": ""
             }
            },
            "type": "scatterpolargl"
           }
          ],
          "scatterternary": [
           {
            "marker": {
             "colorbar": {
              "outlinewidth": 0,
              "ticks": ""
             }
            },
            "type": "scatterternary"
           }
          ],
          "surface": [
           {
            "colorbar": {
             "outlinewidth": 0,
             "ticks": ""
            },
            "colorscale": [
             [
              0,
              "#0d0887"
             ],
             [
              0.1111111111111111,
              "#46039f"
             ],
             [
              0.2222222222222222,
              "#7201a8"
             ],
             [
              0.3333333333333333,
              "#9c179e"
             ],
             [
              0.4444444444444444,
              "#bd3786"
             ],
             [
              0.5555555555555556,
              "#d8576b"
             ],
             [
              0.6666666666666666,
              "#ed7953"
             ],
             [
              0.7777777777777778,
              "#fb9f3a"
             ],
             [
              0.8888888888888888,
              "#fdca26"
             ],
             [
              1,
              "#f0f921"
             ]
            ],
            "type": "surface"
           }
          ],
          "table": [
           {
            "cells": {
             "fill": {
              "color": "#EBF0F8"
             },
             "line": {
              "color": "white"
             }
            },
            "header": {
             "fill": {
              "color": "#C8D4E3"
             },
             "line": {
              "color": "white"
             }
            },
            "type": "table"
           }
          ]
         },
         "layout": {
          "annotationdefaults": {
           "arrowcolor": "#2a3f5f",
           "arrowhead": 0,
           "arrowwidth": 1
          },
          "autotypenumbers": "strict",
          "coloraxis": {
           "colorbar": {
            "outlinewidth": 0,
            "ticks": ""
           }
          },
          "colorscale": {
           "diverging": [
            [
             0,
             "#8e0152"
            ],
            [
             0.1,
             "#c51b7d"
            ],
            [
             0.2,
             "#de77ae"
            ],
            [
             0.3,
             "#f1b6da"
            ],
            [
             0.4,
             "#fde0ef"
            ],
            [
             0.5,
             "#f7f7f7"
            ],
            [
             0.6,
             "#e6f5d0"
            ],
            [
             0.7,
             "#b8e186"
            ],
            [
             0.8,
             "#7fbc41"
            ],
            [
             0.9,
             "#4d9221"
            ],
            [
             1,
             "#276419"
            ]
           ],
           "sequential": [
            [
             0,
             "#0d0887"
            ],
            [
             0.1111111111111111,
             "#46039f"
            ],
            [
             0.2222222222222222,
             "#7201a8"
            ],
            [
             0.3333333333333333,
             "#9c179e"
            ],
            [
             0.4444444444444444,
             "#bd3786"
            ],
            [
             0.5555555555555556,
             "#d8576b"
            ],
            [
             0.6666666666666666,
             "#ed7953"
            ],
            [
             0.7777777777777778,
             "#fb9f3a"
            ],
            [
             0.8888888888888888,
             "#fdca26"
            ],
            [
             1,
             "#f0f921"
            ]
           ],
           "sequentialminus": [
            [
             0,
             "#0d0887"
            ],
            [
             0.1111111111111111,
             "#46039f"
            ],
            [
             0.2222222222222222,
             "#7201a8"
            ],
            [
             0.3333333333333333,
             "#9c179e"
            ],
            [
             0.4444444444444444,
             "#bd3786"
            ],
            [
             0.5555555555555556,
             "#d8576b"
            ],
            [
             0.6666666666666666,
             "#ed7953"
            ],
            [
             0.7777777777777778,
             "#fb9f3a"
            ],
            [
             0.8888888888888888,
             "#fdca26"
            ],
            [
             1,
             "#f0f921"
            ]
           ]
          },
          "colorway": [
           "#636efa",
           "#EF553B",
           "#00cc96",
           "#ab63fa",
           "#FFA15A",
           "#19d3f3",
           "#FF6692",
           "#B6E880",
           "#FF97FF",
           "#FECB52"
          ],
          "font": {
           "color": "#2a3f5f"
          },
          "geo": {
           "bgcolor": "white",
           "lakecolor": "white",
           "landcolor": "#E5ECF6",
           "showlakes": true,
           "showland": true,
           "subunitcolor": "white"
          },
          "hoverlabel": {
           "align": "left"
          },
          "hovermode": "closest",
          "mapbox": {
           "style": "light"
          },
          "paper_bgcolor": "white",
          "plot_bgcolor": "#E5ECF6",
          "polar": {
           "angularaxis": {
            "gridcolor": "white",
            "linecolor": "white",
            "ticks": ""
           },
           "bgcolor": "#E5ECF6",
           "radialaxis": {
            "gridcolor": "white",
            "linecolor": "white",
            "ticks": ""
           }
          },
          "scene": {
           "xaxis": {
            "backgroundcolor": "#E5ECF6",
            "gridcolor": "white",
            "gridwidth": 2,
            "linecolor": "white",
            "showbackground": true,
            "ticks": "",
            "zerolinecolor": "white"
           },
           "yaxis": {
            "backgroundcolor": "#E5ECF6",
            "gridcolor": "white",
            "gridwidth": 2,
            "linecolor": "white",
            "showbackground": true,
            "ticks": "",
            "zerolinecolor": "white"
           },
           "zaxis": {
            "backgroundcolor": "#E5ECF6",
            "gridcolor": "white",
            "gridwidth": 2,
            "linecolor": "white",
            "showbackground": true,
            "ticks": "",
            "zerolinecolor": "white"
           }
          },
          "shapedefaults": {
           "line": {
            "color": "#2a3f5f"
           }
          },
          "ternary": {
           "aaxis": {
            "gridcolor": "white",
            "linecolor": "white",
            "ticks": ""
           },
           "baxis": {
            "gridcolor": "white",
            "linecolor": "white",
            "ticks": ""
           },
           "bgcolor": "#E5ECF6",
           "caxis": {
            "gridcolor": "white",
            "linecolor": "white",
            "ticks": ""
           }
          },
          "title": {
           "x": 0.05
          },
          "xaxis": {
           "automargin": true,
           "gridcolor": "white",
           "linecolor": "white",
           "ticks": "",
           "title": {
            "standoff": 15
           },
           "zerolinecolor": "white",
           "zerolinewidth": 2
          },
          "yaxis": {
           "automargin": true,
           "gridcolor": "white",
           "linecolor": "white",
           "ticks": "",
           "title": {
            "standoff": 15
           },
           "zerolinecolor": "white",
           "zerolinewidth": 2
          }
         }
        },
        "title": {
         "text": "Percentage of Household in Positive and Negative Savings"
        },
        "width": 1000,
        "xaxis": {
         "anchor": "y",
         "domain": [
          0,
          0.2888888888888889
         ],
         "tickformat": ",.0%",
         "title": {
          "text": "Bill"
         },
         "visible": true
        },
        "xaxis2": {
         "anchor": "y2",
         "domain": [
          0.35555555555555557,
          0.6444444444444445
         ],
         "tickformat": ",.0%",
         "title": {
          "text": "Emission"
         },
         "visible": true
        },
        "xaxis3": {
         "anchor": "y3",
         "domain": [
          0.7111111111111111,
          1
         ],
         "tickformat": ",.0%",
         "title": {
          "text": "Total Energy"
         },
         "visible": true
        },
        "yaxis": {
         "anchor": "x",
         "domain": [
          0,
          1
         ],
         "visible": true
        },
        "yaxis2": {
         "anchor": "x2",
         "domain": [
          0,
          1
         ],
         "visible": false
        },
        "yaxis3": {
         "anchor": "x3",
         "domain": [
          0,
          1
         ],
         "visible": false
        }
       }
      },
      "text/html": [
       "<div>                            <div id=\"cea9daab-ac82-42ac-93f6-7311de2f90c4\" class=\"plotly-graph-div\" style=\"height:500px; width:1000px;\"></div>            <script type=\"text/javascript\">                require([\"plotly\"], function(Plotly) {                    window.PLOTLYENV=window.PLOTLYENV || {};                                    if (document.getElementById(\"cea9daab-ac82-42ac-93f6-7311de2f90c4\")) {                    Plotly.newPlot(                        \"cea9daab-ac82-42ac-93f6-7311de2f90c4\",                        [{\"marker\":{\"color\":\"red\"},\"name\":\"Negative\",\"orientation\":\"h\",\"text\":[1.0,0.45454545454545453,0.4166666666666667,0.4090909090909091,0.15,0.13636363636363635,0.0,0.0,0.0,0.0,0.0,0.0,0.0,0.0,0.0],\"x\":[1.0,0.45454545454545453,0.4166666666666667,0.4090909090909091,0.15,0.13636363636363635,0.0,0.0,0.0,0.0,0.0,0.0,0.0,0.0,0.0],\"y\":[\"Electric Cooking\",\"Mininum Efficiency Heat Pump with Existing Heat Backup\",\"Mininum Efficiency Whole Home Electrification\",\"Mininum Efficiency Heat Pump with Electric Heat Backup\",\"Induction Cooking\",\"High Efficiency Heat Pump with Electric Heat Backup\",\"Basic Enclosure\",\"Basic Enclosure + HPWH + High Efficiency HP/Electric Backup\",\"Basic Enclosure + High Efficiency Whole Home Electrification\",\"Enhanced Enclosure\",\"Enhanced Enclosure + HPWH + High Efficiency HP/Electric Backup\",\"Enhanced Enclosure + High Efficiency Whole Home Electrification\",\"Heat Pump Clothes Dryer\",\"Heat Pump Water Heater\",\"High Efficiency Whole Home Electrification\"],\"type\":\"bar\",\"xaxis\":\"x\",\"yaxis\":\"y\",\"textposition\":\"inside\",\"texttemplate\":\"%{text:.0%}\"},{\"marker\":{\"color\":\"green\"},\"name\":\"Positive\",\"orientation\":\"h\",\"text\":[0.0,0.5454545454545454,0.5833333333333334,0.5909090909090909,0.85,0.8636363636363636,1.0,1.0,1.0,1.0,1.0,1.0,1.0,1.0,1.0],\"x\":[0.0,0.5454545454545454,0.5833333333333334,0.5909090909090909,0.85,0.8636363636363636,1.0,1.0,1.0,1.0,1.0,1.0,1.0,1.0,1.0],\"y\":[\"Electric Cooking\",\"Mininum Efficiency Heat Pump with Existing Heat Backup\",\"Mininum Efficiency Whole Home Electrification\",\"Mininum Efficiency Heat Pump with Electric Heat Backup\",\"Induction Cooking\",\"High Efficiency Heat Pump with Electric Heat Backup\",\"Basic Enclosure\",\"Basic Enclosure + HPWH + High Efficiency HP/Electric Backup\",\"Basic Enclosure + High Efficiency Whole Home Electrification\",\"Enhanced Enclosure\",\"Enhanced Enclosure + HPWH + High Efficiency HP/Electric Backup\",\"Enhanced Enclosure + High Efficiency Whole Home Electrification\",\"Heat Pump Clothes Dryer\",\"Heat Pump Water Heater\",\"High Efficiency Whole Home Electrification\"],\"type\":\"bar\",\"xaxis\":\"x\",\"yaxis\":\"y\",\"textposition\":\"inside\",\"texttemplate\":\"%{text:.0%}\"},{\"marker\":{\"color\":\"red\"},\"orientation\":\"h\",\"showlegend\":false,\"text\":[0.0,0.13636363636363635,0.0,0.13636363636363635,0.0,0.045454545454545456,0.0,0.0,0.0,0.0,0.0,0.0,0.0,0.0,0.0],\"x\":[0.0,0.13636363636363635,0.0,0.13636363636363635,0.0,0.045454545454545456,0.0,0.0,0.0,0.0,0.0,0.0,0.0,0.0,0.0],\"y\":[\"Electric Cooking\",\"Mininum Efficiency Heat Pump with Existing Heat Backup\",\"Mininum Efficiency Whole Home Electrification\",\"Mininum Efficiency Heat Pump with Electric Heat Backup\",\"Induction Cooking\",\"High Efficiency Heat Pump with Electric Heat Backup\",\"Basic Enclosure\",\"Basic Enclosure + HPWH + High Efficiency HP/Electric Backup\",\"Basic Enclosure + High Efficiency Whole Home Electrification\",\"Enhanced Enclosure\",\"Enhanced Enclosure + HPWH + High Efficiency HP/Electric Backup\",\"Enhanced Enclosure + High Efficiency Whole Home Electrification\",\"Heat Pump Clothes Dryer\",\"Heat Pump Water Heater\",\"High Efficiency Whole Home Electrification\"],\"type\":\"bar\",\"xaxis\":\"x2\",\"yaxis\":\"y2\",\"textposition\":\"inside\",\"texttemplate\":\"%{text:.0%}\"},{\"marker\":{\"color\":\"green\"},\"orientation\":\"h\",\"showlegend\":false,\"text\":[1.0,0.8636363636363636,1.0,0.8636363636363636,1.0,0.9545454545454546,1.0,1.0,1.0,1.0,1.0,1.0,1.0,1.0,1.0],\"x\":[1.0,0.8636363636363636,1.0,0.8636363636363636,1.0,0.9545454545454546,1.0,1.0,1.0,1.0,1.0,1.0,1.0,1.0,1.0],\"y\":[\"Electric Cooking\",\"Mininum Efficiency Heat Pump with Existing Heat Backup\",\"Mininum Efficiency Whole Home Electrification\",\"Mininum Efficiency Heat Pump with Electric Heat Backup\",\"Induction Cooking\",\"High Efficiency Heat Pump with Electric Heat Backup\",\"Basic Enclosure\",\"Basic Enclosure + HPWH + High Efficiency HP/Electric Backup\",\"Basic Enclosure + High Efficiency Whole Home Electrification\",\"Enhanced Enclosure\",\"Enhanced Enclosure + HPWH + High Efficiency HP/Electric Backup\",\"Enhanced Enclosure + High Efficiency Whole Home Electrification\",\"Heat Pump Clothes Dryer\",\"Heat Pump Water Heater\",\"High Efficiency Whole Home Electrification\"],\"type\":\"bar\",\"xaxis\":\"x2\",\"yaxis\":\"y2\",\"textposition\":\"inside\",\"texttemplate\":\"%{text:.0%}\"},{\"marker\":{\"color\":\"red\"},\"orientation\":\"h\",\"showlegend\":false,\"text\":[0.0,0.045454545454545456,0.0,0.045454545454545456,0.0,0.045454545454545456,0.0,0.0,0.0,0.0,0.0,0.0,0.0,0.0,0.0],\"x\":[0.0,0.045454545454545456,0.0,0.045454545454545456,0.0,0.045454545454545456,0.0,0.0,0.0,0.0,0.0,0.0,0.0,0.0,0.0],\"y\":[\"Electric Cooking\",\"Mininum Efficiency Heat Pump with Existing Heat Backup\",\"Mininum Efficiency Whole Home Electrification\",\"Mininum Efficiency Heat Pump with Electric Heat Backup\",\"Induction Cooking\",\"High Efficiency Heat Pump with Electric Heat Backup\",\"Basic Enclosure\",\"Basic Enclosure + HPWH + High Efficiency HP/Electric Backup\",\"Basic Enclosure + High Efficiency Whole Home Electrification\",\"Enhanced Enclosure\",\"Enhanced Enclosure + HPWH + High Efficiency HP/Electric Backup\",\"Enhanced Enclosure + High Efficiency Whole Home Electrification\",\"Heat Pump Clothes Dryer\",\"Heat Pump Water Heater\",\"High Efficiency Whole Home Electrification\"],\"type\":\"bar\",\"xaxis\":\"x3\",\"yaxis\":\"y3\",\"textposition\":\"inside\",\"texttemplate\":\"%{text:.0%}\"},{\"marker\":{\"color\":\"green\"},\"orientation\":\"h\",\"showlegend\":false,\"text\":[1.0,0.9545454545454546,1.0,0.9545454545454546,1.0,0.9545454545454546,1.0,1.0,1.0,1.0,1.0,1.0,1.0,1.0,1.0],\"x\":[1.0,0.9545454545454546,1.0,0.9545454545454546,1.0,0.9545454545454546,1.0,1.0,1.0,1.0,1.0,1.0,1.0,1.0,1.0],\"y\":[\"Electric Cooking\",\"Mininum Efficiency Heat Pump with Existing Heat Backup\",\"Mininum Efficiency Whole Home Electrification\",\"Mininum Efficiency Heat Pump with Electric Heat Backup\",\"Induction Cooking\",\"High Efficiency Heat Pump with Electric Heat Backup\",\"Basic Enclosure\",\"Basic Enclosure + HPWH + High Efficiency HP/Electric Backup\",\"Basic Enclosure + High Efficiency Whole Home Electrification\",\"Enhanced Enclosure\",\"Enhanced Enclosure + HPWH + High Efficiency HP/Electric Backup\",\"Enhanced Enclosure + High Efficiency Whole Home Electrification\",\"Heat Pump Clothes Dryer\",\"Heat Pump Water Heater\",\"High Efficiency Whole Home Electrification\"],\"type\":\"bar\",\"xaxis\":\"x3\",\"yaxis\":\"y3\",\"textposition\":\"inside\",\"texttemplate\":\"%{text:.0%}\"}],                        {\"template\":{\"data\":{\"histogram2dcontour\":[{\"type\":\"histogram2dcontour\",\"colorbar\":{\"outlinewidth\":0,\"ticks\":\"\"},\"colorscale\":[[0.0,\"#0d0887\"],[0.1111111111111111,\"#46039f\"],[0.2222222222222222,\"#7201a8\"],[0.3333333333333333,\"#9c179e\"],[0.4444444444444444,\"#bd3786\"],[0.5555555555555556,\"#d8576b\"],[0.6666666666666666,\"#ed7953\"],[0.7777777777777778,\"#fb9f3a\"],[0.8888888888888888,\"#fdca26\"],[1.0,\"#f0f921\"]]}],\"choropleth\":[{\"type\":\"choropleth\",\"colorbar\":{\"outlinewidth\":0,\"ticks\":\"\"}}],\"histogram2d\":[{\"type\":\"histogram2d\",\"colorbar\":{\"outlinewidth\":0,\"ticks\":\"\"},\"colorscale\":[[0.0,\"#0d0887\"],[0.1111111111111111,\"#46039f\"],[0.2222222222222222,\"#7201a8\"],[0.3333333333333333,\"#9c179e\"],[0.4444444444444444,\"#bd3786\"],[0.5555555555555556,\"#d8576b\"],[0.6666666666666666,\"#ed7953\"],[0.7777777777777778,\"#fb9f3a\"],[0.8888888888888888,\"#fdca26\"],[1.0,\"#f0f921\"]]}],\"heatmap\":[{\"type\":\"heatmap\",\"colorbar\":{\"outlinewidth\":0,\"ticks\":\"\"},\"colorscale\":[[0.0,\"#0d0887\"],[0.1111111111111111,\"#46039f\"],[0.2222222222222222,\"#7201a8\"],[0.3333333333333333,\"#9c179e\"],[0.4444444444444444,\"#bd3786\"],[0.5555555555555556,\"#d8576b\"],[0.6666666666666666,\"#ed7953\"],[0.7777777777777778,\"#fb9f3a\"],[0.8888888888888888,\"#fdca26\"],[1.0,\"#f0f921\"]]}],\"heatmapgl\":[{\"type\":\"heatmapgl\",\"colorbar\":{\"outlinewidth\":0,\"ticks\":\"\"},\"colorscale\":[[0.0,\"#0d0887\"],[0.1111111111111111,\"#46039f\"],[0.2222222222222222,\"#7201a8\"],[0.3333333333333333,\"#9c179e\"],[0.4444444444444444,\"#bd3786\"],[0.5555555555555556,\"#d8576b\"],[0.6666666666666666,\"#ed7953\"],[0.7777777777777778,\"#fb9f3a\"],[0.8888888888888888,\"#fdca26\"],[1.0,\"#f0f921\"]]}],\"contourcarpet\":[{\"type\":\"contourcarpet\",\"colorbar\":{\"outlinewidth\":0,\"ticks\":\"\"}}],\"contour\":[{\"type\":\"contour\",\"colorbar\":{\"outlinewidth\":0,\"ticks\":\"\"},\"colorscale\":[[0.0,\"#0d0887\"],[0.1111111111111111,\"#46039f\"],[0.2222222222222222,\"#7201a8\"],[0.3333333333333333,\"#9c179e\"],[0.4444444444444444,\"#bd3786\"],[0.5555555555555556,\"#d8576b\"],[0.6666666666666666,\"#ed7953\"],[0.7777777777777778,\"#fb9f3a\"],[0.8888888888888888,\"#fdca26\"],[1.0,\"#f0f921\"]]}],\"surface\":[{\"type\":\"surface\",\"colorbar\":{\"outlinewidth\":0,\"ticks\":\"\"},\"colorscale\":[[0.0,\"#0d0887\"],[0.1111111111111111,\"#46039f\"],[0.2222222222222222,\"#7201a8\"],[0.3333333333333333,\"#9c179e\"],[0.4444444444444444,\"#bd3786\"],[0.5555555555555556,\"#d8576b\"],[0.6666666666666666,\"#ed7953\"],[0.7777777777777778,\"#fb9f3a\"],[0.8888888888888888,\"#fdca26\"],[1.0,\"#f0f921\"]]}],\"mesh3d\":[{\"type\":\"mesh3d\",\"colorbar\":{\"outlinewidth\":0,\"ticks\":\"\"}}],\"scatter\":[{\"fillpattern\":{\"fillmode\":\"overlay\",\"size\":10,\"solidity\":0.2},\"type\":\"scatter\"}],\"parcoords\":[{\"type\":\"parcoords\",\"line\":{\"colorbar\":{\"outlinewidth\":0,\"ticks\":\"\"}}}],\"scatterpolargl\":[{\"type\":\"scatterpolargl\",\"marker\":{\"colorbar\":{\"outlinewidth\":0,\"ticks\":\"\"}}}],\"bar\":[{\"error_x\":{\"color\":\"#2a3f5f\"},\"error_y\":{\"color\":\"#2a3f5f\"},\"marker\":{\"line\":{\"color\":\"#E5ECF6\",\"width\":0.5},\"pattern\":{\"fillmode\":\"overlay\",\"size\":10,\"solidity\":0.2}},\"type\":\"bar\"}],\"scattergeo\":[{\"type\":\"scattergeo\",\"marker\":{\"colorbar\":{\"outlinewidth\":0,\"ticks\":\"\"}}}],\"scatterpolar\":[{\"type\":\"scatterpolar\",\"marker\":{\"colorbar\":{\"outlinewidth\":0,\"ticks\":\"\"}}}],\"histogram\":[{\"marker\":{\"pattern\":{\"fillmode\":\"overlay\",\"size\":10,\"solidity\":0.2}},\"type\":\"histogram\"}],\"scattergl\":[{\"type\":\"scattergl\",\"marker\":{\"colorbar\":{\"outlinewidth\":0,\"ticks\":\"\"}}}],\"scatter3d\":[{\"type\":\"scatter3d\",\"line\":{\"colorbar\":{\"outlinewidth\":0,\"ticks\":\"\"}},\"marker\":{\"colorbar\":{\"outlinewidth\":0,\"ticks\":\"\"}}}],\"scattermapbox\":[{\"type\":\"scattermapbox\",\"marker\":{\"colorbar\":{\"outlinewidth\":0,\"ticks\":\"\"}}}],\"scatterternary\":[{\"type\":\"scatterternary\",\"marker\":{\"colorbar\":{\"outlinewidth\":0,\"ticks\":\"\"}}}],\"scattercarpet\":[{\"type\":\"scattercarpet\",\"marker\":{\"colorbar\":{\"outlinewidth\":0,\"ticks\":\"\"}}}],\"carpet\":[{\"aaxis\":{\"endlinecolor\":\"#2a3f5f\",\"gridcolor\":\"white\",\"linecolor\":\"white\",\"minorgridcolor\":\"white\",\"startlinecolor\":\"#2a3f5f\"},\"baxis\":{\"endlinecolor\":\"#2a3f5f\",\"gridcolor\":\"white\",\"linecolor\":\"white\",\"minorgridcolor\":\"white\",\"startlinecolor\":\"#2a3f5f\"},\"type\":\"carpet\"}],\"table\":[{\"cells\":{\"fill\":{\"color\":\"#EBF0F8\"},\"line\":{\"color\":\"white\"}},\"header\":{\"fill\":{\"color\":\"#C8D4E3\"},\"line\":{\"color\":\"white\"}},\"type\":\"table\"}],\"barpolar\":[{\"marker\":{\"line\":{\"color\":\"#E5ECF6\",\"width\":0.5},\"pattern\":{\"fillmode\":\"overlay\",\"size\":10,\"solidity\":0.2}},\"type\":\"barpolar\"}],\"pie\":[{\"automargin\":true,\"type\":\"pie\"}]},\"layout\":{\"autotypenumbers\":\"strict\",\"colorway\":[\"#636efa\",\"#EF553B\",\"#00cc96\",\"#ab63fa\",\"#FFA15A\",\"#19d3f3\",\"#FF6692\",\"#B6E880\",\"#FF97FF\",\"#FECB52\"],\"font\":{\"color\":\"#2a3f5f\"},\"hovermode\":\"closest\",\"hoverlabel\":{\"align\":\"left\"},\"paper_bgcolor\":\"white\",\"plot_bgcolor\":\"#E5ECF6\",\"polar\":{\"bgcolor\":\"#E5ECF6\",\"angularaxis\":{\"gridcolor\":\"white\",\"linecolor\":\"white\",\"ticks\":\"\"},\"radialaxis\":{\"gridcolor\":\"white\",\"linecolor\":\"white\",\"ticks\":\"\"}},\"ternary\":{\"bgcolor\":\"#E5ECF6\",\"aaxis\":{\"gridcolor\":\"white\",\"linecolor\":\"white\",\"ticks\":\"\"},\"baxis\":{\"gridcolor\":\"white\",\"linecolor\":\"white\",\"ticks\":\"\"},\"caxis\":{\"gridcolor\":\"white\",\"linecolor\":\"white\",\"ticks\":\"\"}},\"coloraxis\":{\"colorbar\":{\"outlinewidth\":0,\"ticks\":\"\"}},\"colorscale\":{\"sequential\":[[0.0,\"#0d0887\"],[0.1111111111111111,\"#46039f\"],[0.2222222222222222,\"#7201a8\"],[0.3333333333333333,\"#9c179e\"],[0.4444444444444444,\"#bd3786\"],[0.5555555555555556,\"#d8576b\"],[0.6666666666666666,\"#ed7953\"],[0.7777777777777778,\"#fb9f3a\"],[0.8888888888888888,\"#fdca26\"],[1.0,\"#f0f921\"]],\"sequentialminus\":[[0.0,\"#0d0887\"],[0.1111111111111111,\"#46039f\"],[0.2222222222222222,\"#7201a8\"],[0.3333333333333333,\"#9c179e\"],[0.4444444444444444,\"#bd3786\"],[0.5555555555555556,\"#d8576b\"],[0.6666666666666666,\"#ed7953\"],[0.7777777777777778,\"#fb9f3a\"],[0.8888888888888888,\"#fdca26\"],[1.0,\"#f0f921\"]],\"diverging\":[[0,\"#8e0152\"],[0.1,\"#c51b7d\"],[0.2,\"#de77ae\"],[0.3,\"#f1b6da\"],[0.4,\"#fde0ef\"],[0.5,\"#f7f7f7\"],[0.6,\"#e6f5d0\"],[0.7,\"#b8e186\"],[0.8,\"#7fbc41\"],[0.9,\"#4d9221\"],[1,\"#276419\"]]},\"xaxis\":{\"gridcolor\":\"white\",\"linecolor\":\"white\",\"ticks\":\"\",\"title\":{\"standoff\":15},\"zerolinecolor\":\"white\",\"automargin\":true,\"zerolinewidth\":2},\"yaxis\":{\"gridcolor\":\"white\",\"linecolor\":\"white\",\"ticks\":\"\",\"title\":{\"standoff\":15},\"zerolinecolor\":\"white\",\"automargin\":true,\"zerolinewidth\":2},\"scene\":{\"xaxis\":{\"backgroundcolor\":\"#E5ECF6\",\"gridcolor\":\"white\",\"linecolor\":\"white\",\"showbackground\":true,\"ticks\":\"\",\"zerolinecolor\":\"white\",\"gridwidth\":2},\"yaxis\":{\"backgroundcolor\":\"#E5ECF6\",\"gridcolor\":\"white\",\"linecolor\":\"white\",\"showbackground\":true,\"ticks\":\"\",\"zerolinecolor\":\"white\",\"gridwidth\":2},\"zaxis\":{\"backgroundcolor\":\"#E5ECF6\",\"gridcolor\":\"white\",\"linecolor\":\"white\",\"showbackground\":true,\"ticks\":\"\",\"zerolinecolor\":\"white\",\"gridwidth\":2}},\"shapedefaults\":{\"line\":{\"color\":\"#2a3f5f\"}},\"annotationdefaults\":{\"arrowcolor\":\"#2a3f5f\",\"arrowhead\":0,\"arrowwidth\":1},\"geo\":{\"bgcolor\":\"white\",\"landcolor\":\"#E5ECF6\",\"subunitcolor\":\"white\",\"showland\":true,\"showlakes\":true,\"lakecolor\":\"white\"},\"title\":{\"x\":0.05},\"mapbox\":{\"style\":\"light\"}}},\"xaxis\":{\"anchor\":\"y\",\"domain\":[0.0,0.2888888888888889],\"title\":{\"text\":\"Bill\"},\"visible\":true,\"tickformat\":\",.0%\"},\"yaxis\":{\"anchor\":\"x\",\"domain\":[0.0,1.0],\"visible\":true},\"xaxis2\":{\"anchor\":\"y2\",\"domain\":[0.35555555555555557,0.6444444444444445],\"title\":{\"text\":\"Emission\"},\"visible\":true,\"tickformat\":\",.0%\"},\"yaxis2\":{\"anchor\":\"x2\",\"domain\":[0.0,1.0],\"visible\":false},\"xaxis3\":{\"anchor\":\"y3\",\"domain\":[0.7111111111111111,1.0],\"title\":{\"text\":\"Total Energy\"},\"visible\":true,\"tickformat\":\",.0%\"},\"yaxis3\":{\"anchor\":\"x3\",\"domain\":[0.0,1.0],\"visible\":false},\"barmode\":\"relative\",\"font\":{\"size\":10},\"title\":{\"text\":\"Percentage of Household in Positive and Negative Savings\"},\"autosize\":false,\"width\":1000,\"height\":500},                        {\"responsive\": true}                    ).then(function(){\n",
       "                            \n",
       "var gd = document.getElementById('cea9daab-ac82-42ac-93f6-7311de2f90c4');\n",
       "var x = new MutationObserver(function (mutations, observer) {{\n",
       "        var display = window.getComputedStyle(gd).display;\n",
       "        if (!display || display === 'none') {{\n",
       "            console.log([gd, 'removed!']);\n",
       "            Plotly.purge(gd);\n",
       "            observer.disconnect();\n",
       "        }}\n",
       "}});\n",
       "\n",
       "// Listen for the removal of the full notebook cells\n",
       "var notebookContainer = gd.closest('#notebook-container');\n",
       "if (notebookContainer) {{\n",
       "    x.observe(notebookContainer, {childList: true});\n",
       "}}\n",
       "\n",
       "// Listen for the clearing of the current output cell\n",
       "var outputEl = gd.closest('.output');\n",
       "if (outputEl) {{\n",
       "    x.observe(outputEl, {childList: true});\n",
       "}}\n",
       "\n",
       "                        })                };                });            </script>        </div>"
      ]
     },
     "metadata": {},
     "output_type": "display_data"
    }
   ],
   "source": [
    "segment = 'segment3'\n",
    "results = figure_positive_negative_savings(segment, community_results) \n",
    "saving_results[f'segment3_{income}_pct_bill_positive_savings_%'] = results[0]*100\n",
    "saving_results[f'segment3_{income}_pct_emission_positive_savings_%'] = results[1]*100\n",
    "saving_results[f'segment3_{income}_pct_energy_positive_savings_%'] = results[2]*100"
   ]
  },
  {
   "cell_type": "markdown",
   "id": "a37b751c",
   "metadata": {},
   "source": [
    "### Segment 4"
   ]
  },
  {
   "cell_type": "code",
   "execution_count": 90,
   "id": "20f060e0",
   "metadata": {},
   "outputs": [
    {
     "data": {
      "application/vnd.plotly.v1+json": {
       "config": {
        "plotlyServerURL": "https://plot.ly"
       },
       "data": [
        {
         "marker": {
          "color": "red"
         },
         "name": "Negative",
         "orientation": "h",
         "text": [
          0.85,
          0.2037037037037037,
          0.1717171717171717,
          0.14705882352941177,
          0.14285714285714285,
          0.029411764705882353,
          0.019801980198019802,
          0.00980392156862745,
          0,
          0,
          0,
          0,
          0,
          0,
          0
         ],
         "textposition": "inside",
         "texttemplate": "%{text:.0%}",
         "type": "bar",
         "x": [
          0.85,
          0.2037037037037037,
          0.1717171717171717,
          0.14705882352941177,
          0.14285714285714285,
          0.029411764705882353,
          0.019801980198019802,
          0.00980392156862745,
          0,
          0,
          0,
          0,
          0,
          0,
          0
         ],
         "xaxis": "x",
         "y": [
          "Electric Cooking",
          "Mininum Efficiency Whole Home Electrification",
          "Induction Cooking",
          "Mininum Efficiency Heat Pump with Electric Heat Backup",
          "Mininum Efficiency Heat Pump with Existing Heat Backup",
          "High Efficiency Heat Pump with Electric Heat Backup",
          "Heat Pump Water Heater",
          "High Efficiency Whole Home Electrification",
          "Basic Enclosure",
          "Basic Enclosure + HPWH + High Efficiency HP/Electric Backup",
          "Basic Enclosure + High Efficiency Whole Home Electrification",
          "Enhanced Enclosure",
          "Enhanced Enclosure + HPWH + High Efficiency HP/Electric Backup",
          "Enhanced Enclosure + High Efficiency Whole Home Electrification",
          "Heat Pump Clothes Dryer"
         ],
         "yaxis": "y"
        },
        {
         "marker": {
          "color": "green"
         },
         "name": "Positive",
         "orientation": "h",
         "text": [
          0.15,
          0.7962962962962963,
          0.8282828282828283,
          0.8529411764705882,
          0.8571428571428571,
          0.9705882352941176,
          0.9801980198019802,
          0.9901960784313726,
          1,
          1,
          1,
          1,
          1,
          1,
          1
         ],
         "textposition": "inside",
         "texttemplate": "%{text:.0%}",
         "type": "bar",
         "x": [
          0.15,
          0.7962962962962963,
          0.8282828282828283,
          0.8529411764705882,
          0.8571428571428571,
          0.9705882352941176,
          0.9801980198019802,
          0.9901960784313726,
          1,
          1,
          1,
          1,
          1,
          1,
          1
         ],
         "xaxis": "x",
         "y": [
          "Electric Cooking",
          "Mininum Efficiency Whole Home Electrification",
          "Induction Cooking",
          "Mininum Efficiency Heat Pump with Electric Heat Backup",
          "Mininum Efficiency Heat Pump with Existing Heat Backup",
          "High Efficiency Heat Pump with Electric Heat Backup",
          "Heat Pump Water Heater",
          "High Efficiency Whole Home Electrification",
          "Basic Enclosure",
          "Basic Enclosure + HPWH + High Efficiency HP/Electric Backup",
          "Basic Enclosure + High Efficiency Whole Home Electrification",
          "Enhanced Enclosure",
          "Enhanced Enclosure + HPWH + High Efficiency HP/Electric Backup",
          "Enhanced Enclosure + High Efficiency Whole Home Electrification",
          "Heat Pump Clothes Dryer"
         ],
         "yaxis": "y"
        },
        {
         "marker": {
          "color": "red"
         },
         "orientation": "h",
         "showlegend": false,
         "text": [
          0,
          0.037037037037037035,
          0,
          0.06862745098039216,
          0.07142857142857142,
          0.0196078431372549,
          0,
          0,
          0,
          0,
          0,
          0,
          0,
          0,
          0
         ],
         "textposition": "inside",
         "texttemplate": "%{text:.0%}",
         "type": "bar",
         "x": [
          0,
          0.037037037037037035,
          0,
          0.06862745098039216,
          0.07142857142857142,
          0.0196078431372549,
          0,
          0,
          0,
          0,
          0,
          0,
          0,
          0,
          0
         ],
         "xaxis": "x2",
         "y": [
          "Electric Cooking",
          "Mininum Efficiency Whole Home Electrification",
          "Induction Cooking",
          "Mininum Efficiency Heat Pump with Electric Heat Backup",
          "Mininum Efficiency Heat Pump with Existing Heat Backup",
          "High Efficiency Heat Pump with Electric Heat Backup",
          "Heat Pump Water Heater",
          "High Efficiency Whole Home Electrification",
          "Basic Enclosure",
          "Basic Enclosure + HPWH + High Efficiency HP/Electric Backup",
          "Basic Enclosure + High Efficiency Whole Home Electrification",
          "Enhanced Enclosure",
          "Enhanced Enclosure + HPWH + High Efficiency HP/Electric Backup",
          "Enhanced Enclosure + High Efficiency Whole Home Electrification",
          "Heat Pump Clothes Dryer"
         ],
         "yaxis": "y2"
        },
        {
         "marker": {
          "color": "green"
         },
         "orientation": "h",
         "showlegend": false,
         "text": [
          1,
          0.9629629629629629,
          1,
          0.9313725490196079,
          0.9285714285714286,
          0.9803921568627451,
          1,
          1,
          1,
          1,
          1,
          1,
          1,
          1,
          1
         ],
         "textposition": "inside",
         "texttemplate": "%{text:.0%}",
         "type": "bar",
         "x": [
          1,
          0.9629629629629629,
          1,
          0.9313725490196079,
          0.9285714285714286,
          0.9803921568627451,
          1,
          1,
          1,
          1,
          1,
          1,
          1,
          1,
          1
         ],
         "xaxis": "x2",
         "y": [
          "Electric Cooking",
          "Mininum Efficiency Whole Home Electrification",
          "Induction Cooking",
          "Mininum Efficiency Heat Pump with Electric Heat Backup",
          "Mininum Efficiency Heat Pump with Existing Heat Backup",
          "High Efficiency Heat Pump with Electric Heat Backup",
          "Heat Pump Water Heater",
          "High Efficiency Whole Home Electrification",
          "Basic Enclosure",
          "Basic Enclosure + HPWH + High Efficiency HP/Electric Backup",
          "Basic Enclosure + High Efficiency Whole Home Electrification",
          "Enhanced Enclosure",
          "Enhanced Enclosure + HPWH + High Efficiency HP/Electric Backup",
          "Enhanced Enclosure + High Efficiency Whole Home Electrification",
          "Heat Pump Clothes Dryer"
         ],
         "yaxis": "y2"
        },
        {
         "marker": {
          "color": "red"
         },
         "orientation": "h",
         "showlegend": false,
         "text": [
          0,
          0,
          0,
          0.049019607843137254,
          0.061224489795918366,
          0.00980392156862745,
          0,
          0,
          0,
          0,
          0,
          0,
          0,
          0,
          0
         ],
         "textposition": "inside",
         "texttemplate": "%{text:.0%}",
         "type": "bar",
         "x": [
          0,
          0,
          0,
          0.049019607843137254,
          0.061224489795918366,
          0.00980392156862745,
          0,
          0,
          0,
          0,
          0,
          0,
          0,
          0,
          0
         ],
         "xaxis": "x3",
         "y": [
          "Electric Cooking",
          "Mininum Efficiency Whole Home Electrification",
          "Induction Cooking",
          "Mininum Efficiency Heat Pump with Electric Heat Backup",
          "Mininum Efficiency Heat Pump with Existing Heat Backup",
          "High Efficiency Heat Pump with Electric Heat Backup",
          "Heat Pump Water Heater",
          "High Efficiency Whole Home Electrification",
          "Basic Enclosure",
          "Basic Enclosure + HPWH + High Efficiency HP/Electric Backup",
          "Basic Enclosure + High Efficiency Whole Home Electrification",
          "Enhanced Enclosure",
          "Enhanced Enclosure + HPWH + High Efficiency HP/Electric Backup",
          "Enhanced Enclosure + High Efficiency Whole Home Electrification",
          "Heat Pump Clothes Dryer"
         ],
         "yaxis": "y3"
        },
        {
         "marker": {
          "color": "green"
         },
         "orientation": "h",
         "showlegend": false,
         "text": [
          1,
          1,
          1,
          0.9509803921568627,
          0.9387755102040817,
          0.9901960784313726,
          1,
          1,
          1,
          1,
          1,
          1,
          1,
          1,
          1
         ],
         "textposition": "inside",
         "texttemplate": "%{text:.0%}",
         "type": "bar",
         "x": [
          1,
          1,
          1,
          0.9509803921568627,
          0.9387755102040817,
          0.9901960784313726,
          1,
          1,
          1,
          1,
          1,
          1,
          1,
          1,
          1
         ],
         "xaxis": "x3",
         "y": [
          "Electric Cooking",
          "Mininum Efficiency Whole Home Electrification",
          "Induction Cooking",
          "Mininum Efficiency Heat Pump with Electric Heat Backup",
          "Mininum Efficiency Heat Pump with Existing Heat Backup",
          "High Efficiency Heat Pump with Electric Heat Backup",
          "Heat Pump Water Heater",
          "High Efficiency Whole Home Electrification",
          "Basic Enclosure",
          "Basic Enclosure + HPWH + High Efficiency HP/Electric Backup",
          "Basic Enclosure + High Efficiency Whole Home Electrification",
          "Enhanced Enclosure",
          "Enhanced Enclosure + HPWH + High Efficiency HP/Electric Backup",
          "Enhanced Enclosure + High Efficiency Whole Home Electrification",
          "Heat Pump Clothes Dryer"
         ],
         "yaxis": "y3"
        }
       ],
       "layout": {
        "autosize": false,
        "barmode": "relative",
        "font": {
         "size": 10
        },
        "height": 500,
        "template": {
         "data": {
          "bar": [
           {
            "error_x": {
             "color": "#2a3f5f"
            },
            "error_y": {
             "color": "#2a3f5f"
            },
            "marker": {
             "line": {
              "color": "#E5ECF6",
              "width": 0.5
             },
             "pattern": {
              "fillmode": "overlay",
              "size": 10,
              "solidity": 0.2
             }
            },
            "type": "bar"
           }
          ],
          "barpolar": [
           {
            "marker": {
             "line": {
              "color": "#E5ECF6",
              "width": 0.5
             },
             "pattern": {
              "fillmode": "overlay",
              "size": 10,
              "solidity": 0.2
             }
            },
            "type": "barpolar"
           }
          ],
          "carpet": [
           {
            "aaxis": {
             "endlinecolor": "#2a3f5f",
             "gridcolor": "white",
             "linecolor": "white",
             "minorgridcolor": "white",
             "startlinecolor": "#2a3f5f"
            },
            "baxis": {
             "endlinecolor": "#2a3f5f",
             "gridcolor": "white",
             "linecolor": "white",
             "minorgridcolor": "white",
             "startlinecolor": "#2a3f5f"
            },
            "type": "carpet"
           }
          ],
          "choropleth": [
           {
            "colorbar": {
             "outlinewidth": 0,
             "ticks": ""
            },
            "type": "choropleth"
           }
          ],
          "contour": [
           {
            "colorbar": {
             "outlinewidth": 0,
             "ticks": ""
            },
            "colorscale": [
             [
              0,
              "#0d0887"
             ],
             [
              0.1111111111111111,
              "#46039f"
             ],
             [
              0.2222222222222222,
              "#7201a8"
             ],
             [
              0.3333333333333333,
              "#9c179e"
             ],
             [
              0.4444444444444444,
              "#bd3786"
             ],
             [
              0.5555555555555556,
              "#d8576b"
             ],
             [
              0.6666666666666666,
              "#ed7953"
             ],
             [
              0.7777777777777778,
              "#fb9f3a"
             ],
             [
              0.8888888888888888,
              "#fdca26"
             ],
             [
              1,
              "#f0f921"
             ]
            ],
            "type": "contour"
           }
          ],
          "contourcarpet": [
           {
            "colorbar": {
             "outlinewidth": 0,
             "ticks": ""
            },
            "type": "contourcarpet"
           }
          ],
          "heatmap": [
           {
            "colorbar": {
             "outlinewidth": 0,
             "ticks": ""
            },
            "colorscale": [
             [
              0,
              "#0d0887"
             ],
             [
              0.1111111111111111,
              "#46039f"
             ],
             [
              0.2222222222222222,
              "#7201a8"
             ],
             [
              0.3333333333333333,
              "#9c179e"
             ],
             [
              0.4444444444444444,
              "#bd3786"
             ],
             [
              0.5555555555555556,
              "#d8576b"
             ],
             [
              0.6666666666666666,
              "#ed7953"
             ],
             [
              0.7777777777777778,
              "#fb9f3a"
             ],
             [
              0.8888888888888888,
              "#fdca26"
             ],
             [
              1,
              "#f0f921"
             ]
            ],
            "type": "heatmap"
           }
          ],
          "heatmapgl": [
           {
            "colorbar": {
             "outlinewidth": 0,
             "ticks": ""
            },
            "colorscale": [
             [
              0,
              "#0d0887"
             ],
             [
              0.1111111111111111,
              "#46039f"
             ],
             [
              0.2222222222222222,
              "#7201a8"
             ],
             [
              0.3333333333333333,
              "#9c179e"
             ],
             [
              0.4444444444444444,
              "#bd3786"
             ],
             [
              0.5555555555555556,
              "#d8576b"
             ],
             [
              0.6666666666666666,
              "#ed7953"
             ],
             [
              0.7777777777777778,
              "#fb9f3a"
             ],
             [
              0.8888888888888888,
              "#fdca26"
             ],
             [
              1,
              "#f0f921"
             ]
            ],
            "type": "heatmapgl"
           }
          ],
          "histogram": [
           {
            "marker": {
             "pattern": {
              "fillmode": "overlay",
              "size": 10,
              "solidity": 0.2
             }
            },
            "type": "histogram"
           }
          ],
          "histogram2d": [
           {
            "colorbar": {
             "outlinewidth": 0,
             "ticks": ""
            },
            "colorscale": [
             [
              0,
              "#0d0887"
             ],
             [
              0.1111111111111111,
              "#46039f"
             ],
             [
              0.2222222222222222,
              "#7201a8"
             ],
             [
              0.3333333333333333,
              "#9c179e"
             ],
             [
              0.4444444444444444,
              "#bd3786"
             ],
             [
              0.5555555555555556,
              "#d8576b"
             ],
             [
              0.6666666666666666,
              "#ed7953"
             ],
             [
              0.7777777777777778,
              "#fb9f3a"
             ],
             [
              0.8888888888888888,
              "#fdca26"
             ],
             [
              1,
              "#f0f921"
             ]
            ],
            "type": "histogram2d"
           }
          ],
          "histogram2dcontour": [
           {
            "colorbar": {
             "outlinewidth": 0,
             "ticks": ""
            },
            "colorscale": [
             [
              0,
              "#0d0887"
             ],
             [
              0.1111111111111111,
              "#46039f"
             ],
             [
              0.2222222222222222,
              "#7201a8"
             ],
             [
              0.3333333333333333,
              "#9c179e"
             ],
             [
              0.4444444444444444,
              "#bd3786"
             ],
             [
              0.5555555555555556,
              "#d8576b"
             ],
             [
              0.6666666666666666,
              "#ed7953"
             ],
             [
              0.7777777777777778,
              "#fb9f3a"
             ],
             [
              0.8888888888888888,
              "#fdca26"
             ],
             [
              1,
              "#f0f921"
             ]
            ],
            "type": "histogram2dcontour"
           }
          ],
          "mesh3d": [
           {
            "colorbar": {
             "outlinewidth": 0,
             "ticks": ""
            },
            "type": "mesh3d"
           }
          ],
          "parcoords": [
           {
            "line": {
             "colorbar": {
              "outlinewidth": 0,
              "ticks": ""
             }
            },
            "type": "parcoords"
           }
          ],
          "pie": [
           {
            "automargin": true,
            "type": "pie"
           }
          ],
          "scatter": [
           {
            "fillpattern": {
             "fillmode": "overlay",
             "size": 10,
             "solidity": 0.2
            },
            "type": "scatter"
           }
          ],
          "scatter3d": [
           {
            "line": {
             "colorbar": {
              "outlinewidth": 0,
              "ticks": ""
             }
            },
            "marker": {
             "colorbar": {
              "outlinewidth": 0,
              "ticks": ""
             }
            },
            "type": "scatter3d"
           }
          ],
          "scattercarpet": [
           {
            "marker": {
             "colorbar": {
              "outlinewidth": 0,
              "ticks": ""
             }
            },
            "type": "scattercarpet"
           }
          ],
          "scattergeo": [
           {
            "marker": {
             "colorbar": {
              "outlinewidth": 0,
              "ticks": ""
             }
            },
            "type": "scattergeo"
           }
          ],
          "scattergl": [
           {
            "marker": {
             "colorbar": {
              "outlinewidth": 0,
              "ticks": ""
             }
            },
            "type": "scattergl"
           }
          ],
          "scattermapbox": [
           {
            "marker": {
             "colorbar": {
              "outlinewidth": 0,
              "ticks": ""
             }
            },
            "type": "scattermapbox"
           }
          ],
          "scatterpolar": [
           {
            "marker": {
             "colorbar": {
              "outlinewidth": 0,
              "ticks": ""
             }
            },
            "type": "scatterpolar"
           }
          ],
          "scatterpolargl": [
           {
            "marker": {
             "colorbar": {
              "outlinewidth": 0,
              "ticks": ""
             }
            },
            "type": "scatterpolargl"
           }
          ],
          "scatterternary": [
           {
            "marker": {
             "colorbar": {
              "outlinewidth": 0,
              "ticks": ""
             }
            },
            "type": "scatterternary"
           }
          ],
          "surface": [
           {
            "colorbar": {
             "outlinewidth": 0,
             "ticks": ""
            },
            "colorscale": [
             [
              0,
              "#0d0887"
             ],
             [
              0.1111111111111111,
              "#46039f"
             ],
             [
              0.2222222222222222,
              "#7201a8"
             ],
             [
              0.3333333333333333,
              "#9c179e"
             ],
             [
              0.4444444444444444,
              "#bd3786"
             ],
             [
              0.5555555555555556,
              "#d8576b"
             ],
             [
              0.6666666666666666,
              "#ed7953"
             ],
             [
              0.7777777777777778,
              "#fb9f3a"
             ],
             [
              0.8888888888888888,
              "#fdca26"
             ],
             [
              1,
              "#f0f921"
             ]
            ],
            "type": "surface"
           }
          ],
          "table": [
           {
            "cells": {
             "fill": {
              "color": "#EBF0F8"
             },
             "line": {
              "color": "white"
             }
            },
            "header": {
             "fill": {
              "color": "#C8D4E3"
             },
             "line": {
              "color": "white"
             }
            },
            "type": "table"
           }
          ]
         },
         "layout": {
          "annotationdefaults": {
           "arrowcolor": "#2a3f5f",
           "arrowhead": 0,
           "arrowwidth": 1
          },
          "autotypenumbers": "strict",
          "coloraxis": {
           "colorbar": {
            "outlinewidth": 0,
            "ticks": ""
           }
          },
          "colorscale": {
           "diverging": [
            [
             0,
             "#8e0152"
            ],
            [
             0.1,
             "#c51b7d"
            ],
            [
             0.2,
             "#de77ae"
            ],
            [
             0.3,
             "#f1b6da"
            ],
            [
             0.4,
             "#fde0ef"
            ],
            [
             0.5,
             "#f7f7f7"
            ],
            [
             0.6,
             "#e6f5d0"
            ],
            [
             0.7,
             "#b8e186"
            ],
            [
             0.8,
             "#7fbc41"
            ],
            [
             0.9,
             "#4d9221"
            ],
            [
             1,
             "#276419"
            ]
           ],
           "sequential": [
            [
             0,
             "#0d0887"
            ],
            [
             0.1111111111111111,
             "#46039f"
            ],
            [
             0.2222222222222222,
             "#7201a8"
            ],
            [
             0.3333333333333333,
             "#9c179e"
            ],
            [
             0.4444444444444444,
             "#bd3786"
            ],
            [
             0.5555555555555556,
             "#d8576b"
            ],
            [
             0.6666666666666666,
             "#ed7953"
            ],
            [
             0.7777777777777778,
             "#fb9f3a"
            ],
            [
             0.8888888888888888,
             "#fdca26"
            ],
            [
             1,
             "#f0f921"
            ]
           ],
           "sequentialminus": [
            [
             0,
             "#0d0887"
            ],
            [
             0.1111111111111111,
             "#46039f"
            ],
            [
             0.2222222222222222,
             "#7201a8"
            ],
            [
             0.3333333333333333,
             "#9c179e"
            ],
            [
             0.4444444444444444,
             "#bd3786"
            ],
            [
             0.5555555555555556,
             "#d8576b"
            ],
            [
             0.6666666666666666,
             "#ed7953"
            ],
            [
             0.7777777777777778,
             "#fb9f3a"
            ],
            [
             0.8888888888888888,
             "#fdca26"
            ],
            [
             1,
             "#f0f921"
            ]
           ]
          },
          "colorway": [
           "#636efa",
           "#EF553B",
           "#00cc96",
           "#ab63fa",
           "#FFA15A",
           "#19d3f3",
           "#FF6692",
           "#B6E880",
           "#FF97FF",
           "#FECB52"
          ],
          "font": {
           "color": "#2a3f5f"
          },
          "geo": {
           "bgcolor": "white",
           "lakecolor": "white",
           "landcolor": "#E5ECF6",
           "showlakes": true,
           "showland": true,
           "subunitcolor": "white"
          },
          "hoverlabel": {
           "align": "left"
          },
          "hovermode": "closest",
          "mapbox": {
           "style": "light"
          },
          "paper_bgcolor": "white",
          "plot_bgcolor": "#E5ECF6",
          "polar": {
           "angularaxis": {
            "gridcolor": "white",
            "linecolor": "white",
            "ticks": ""
           },
           "bgcolor": "#E5ECF6",
           "radialaxis": {
            "gridcolor": "white",
            "linecolor": "white",
            "ticks": ""
           }
          },
          "scene": {
           "xaxis": {
            "backgroundcolor": "#E5ECF6",
            "gridcolor": "white",
            "gridwidth": 2,
            "linecolor": "white",
            "showbackground": true,
            "ticks": "",
            "zerolinecolor": "white"
           },
           "yaxis": {
            "backgroundcolor": "#E5ECF6",
            "gridcolor": "white",
            "gridwidth": 2,
            "linecolor": "white",
            "showbackground": true,
            "ticks": "",
            "zerolinecolor": "white"
           },
           "zaxis": {
            "backgroundcolor": "#E5ECF6",
            "gridcolor": "white",
            "gridwidth": 2,
            "linecolor": "white",
            "showbackground": true,
            "ticks": "",
            "zerolinecolor": "white"
           }
          },
          "shapedefaults": {
           "line": {
            "color": "#2a3f5f"
           }
          },
          "ternary": {
           "aaxis": {
            "gridcolor": "white",
            "linecolor": "white",
            "ticks": ""
           },
           "baxis": {
            "gridcolor": "white",
            "linecolor": "white",
            "ticks": ""
           },
           "bgcolor": "#E5ECF6",
           "caxis": {
            "gridcolor": "white",
            "linecolor": "white",
            "ticks": ""
           }
          },
          "title": {
           "x": 0.05
          },
          "xaxis": {
           "automargin": true,
           "gridcolor": "white",
           "linecolor": "white",
           "ticks": "",
           "title": {
            "standoff": 15
           },
           "zerolinecolor": "white",
           "zerolinewidth": 2
          },
          "yaxis": {
           "automargin": true,
           "gridcolor": "white",
           "linecolor": "white",
           "ticks": "",
           "title": {
            "standoff": 15
           },
           "zerolinecolor": "white",
           "zerolinewidth": 2
          }
         }
        },
        "title": {
         "text": "Percentage of Household in Positive and Negative Savings"
        },
        "width": 1000,
        "xaxis": {
         "anchor": "y",
         "domain": [
          0,
          0.2888888888888889
         ],
         "tickformat": ",.0%",
         "title": {
          "text": "Bill"
         },
         "visible": true
        },
        "xaxis2": {
         "anchor": "y2",
         "domain": [
          0.35555555555555557,
          0.6444444444444445
         ],
         "tickformat": ",.0%",
         "title": {
          "text": "Emission"
         },
         "visible": true
        },
        "xaxis3": {
         "anchor": "y3",
         "domain": [
          0.7111111111111111,
          1
         ],
         "tickformat": ",.0%",
         "title": {
          "text": "Total Energy"
         },
         "visible": true
        },
        "yaxis": {
         "anchor": "x",
         "domain": [
          0,
          1
         ],
         "visible": true
        },
        "yaxis2": {
         "anchor": "x2",
         "domain": [
          0,
          1
         ],
         "visible": false
        },
        "yaxis3": {
         "anchor": "x3",
         "domain": [
          0,
          1
         ],
         "visible": false
        }
       }
      },
      "text/html": [
       "<div>                            <div id=\"34bca49e-9652-4c6f-aad7-ce03fda4e631\" class=\"plotly-graph-div\" style=\"height:500px; width:1000px;\"></div>            <script type=\"text/javascript\">                require([\"plotly\"], function(Plotly) {                    window.PLOTLYENV=window.PLOTLYENV || {};                                    if (document.getElementById(\"34bca49e-9652-4c6f-aad7-ce03fda4e631\")) {                    Plotly.newPlot(                        \"34bca49e-9652-4c6f-aad7-ce03fda4e631\",                        [{\"marker\":{\"color\":\"red\"},\"name\":\"Negative\",\"orientation\":\"h\",\"text\":[0.85,0.2037037037037037,0.1717171717171717,0.14705882352941177,0.14285714285714285,0.029411764705882353,0.019801980198019802,0.00980392156862745,0.0,0.0,0.0,0.0,0.0,0.0,0.0],\"x\":[0.85,0.2037037037037037,0.1717171717171717,0.14705882352941177,0.14285714285714285,0.029411764705882353,0.019801980198019802,0.00980392156862745,0.0,0.0,0.0,0.0,0.0,0.0,0.0],\"y\":[\"Electric Cooking\",\"Mininum Efficiency Whole Home Electrification\",\"Induction Cooking\",\"Mininum Efficiency Heat Pump with Electric Heat Backup\",\"Mininum Efficiency Heat Pump with Existing Heat Backup\",\"High Efficiency Heat Pump with Electric Heat Backup\",\"Heat Pump Water Heater\",\"High Efficiency Whole Home Electrification\",\"Basic Enclosure\",\"Basic Enclosure + HPWH + High Efficiency HP/Electric Backup\",\"Basic Enclosure + High Efficiency Whole Home Electrification\",\"Enhanced Enclosure\",\"Enhanced Enclosure + HPWH + High Efficiency HP/Electric Backup\",\"Enhanced Enclosure + High Efficiency Whole Home Electrification\",\"Heat Pump Clothes Dryer\"],\"type\":\"bar\",\"xaxis\":\"x\",\"yaxis\":\"y\",\"textposition\":\"inside\",\"texttemplate\":\"%{text:.0%}\"},{\"marker\":{\"color\":\"green\"},\"name\":\"Positive\",\"orientation\":\"h\",\"text\":[0.15,0.7962962962962963,0.8282828282828283,0.8529411764705882,0.8571428571428571,0.9705882352941176,0.9801980198019802,0.9901960784313726,1.0,1.0,1.0,1.0,1.0,1.0,1.0],\"x\":[0.15,0.7962962962962963,0.8282828282828283,0.8529411764705882,0.8571428571428571,0.9705882352941176,0.9801980198019802,0.9901960784313726,1.0,1.0,1.0,1.0,1.0,1.0,1.0],\"y\":[\"Electric Cooking\",\"Mininum Efficiency Whole Home Electrification\",\"Induction Cooking\",\"Mininum Efficiency Heat Pump with Electric Heat Backup\",\"Mininum Efficiency Heat Pump with Existing Heat Backup\",\"High Efficiency Heat Pump with Electric Heat Backup\",\"Heat Pump Water Heater\",\"High Efficiency Whole Home Electrification\",\"Basic Enclosure\",\"Basic Enclosure + HPWH + High Efficiency HP/Electric Backup\",\"Basic Enclosure + High Efficiency Whole Home Electrification\",\"Enhanced Enclosure\",\"Enhanced Enclosure + HPWH + High Efficiency HP/Electric Backup\",\"Enhanced Enclosure + High Efficiency Whole Home Electrification\",\"Heat Pump Clothes Dryer\"],\"type\":\"bar\",\"xaxis\":\"x\",\"yaxis\":\"y\",\"textposition\":\"inside\",\"texttemplate\":\"%{text:.0%}\"},{\"marker\":{\"color\":\"red\"},\"orientation\":\"h\",\"showlegend\":false,\"text\":[0.0,0.037037037037037035,0.0,0.06862745098039216,0.07142857142857142,0.0196078431372549,0.0,0.0,0.0,0.0,0.0,0.0,0.0,0.0,0.0],\"x\":[0.0,0.037037037037037035,0.0,0.06862745098039216,0.07142857142857142,0.0196078431372549,0.0,0.0,0.0,0.0,0.0,0.0,0.0,0.0,0.0],\"y\":[\"Electric Cooking\",\"Mininum Efficiency Whole Home Electrification\",\"Induction Cooking\",\"Mininum Efficiency Heat Pump with Electric Heat Backup\",\"Mininum Efficiency Heat Pump with Existing Heat Backup\",\"High Efficiency Heat Pump with Electric Heat Backup\",\"Heat Pump Water Heater\",\"High Efficiency Whole Home Electrification\",\"Basic Enclosure\",\"Basic Enclosure + HPWH + High Efficiency HP/Electric Backup\",\"Basic Enclosure + High Efficiency Whole Home Electrification\",\"Enhanced Enclosure\",\"Enhanced Enclosure + HPWH + High Efficiency HP/Electric Backup\",\"Enhanced Enclosure + High Efficiency Whole Home Electrification\",\"Heat Pump Clothes Dryer\"],\"type\":\"bar\",\"xaxis\":\"x2\",\"yaxis\":\"y2\",\"textposition\":\"inside\",\"texttemplate\":\"%{text:.0%}\"},{\"marker\":{\"color\":\"green\"},\"orientation\":\"h\",\"showlegend\":false,\"text\":[1.0,0.9629629629629629,1.0,0.9313725490196079,0.9285714285714286,0.9803921568627451,1.0,1.0,1.0,1.0,1.0,1.0,1.0,1.0,1.0],\"x\":[1.0,0.9629629629629629,1.0,0.9313725490196079,0.9285714285714286,0.9803921568627451,1.0,1.0,1.0,1.0,1.0,1.0,1.0,1.0,1.0],\"y\":[\"Electric Cooking\",\"Mininum Efficiency Whole Home Electrification\",\"Induction Cooking\",\"Mininum Efficiency Heat Pump with Electric Heat Backup\",\"Mininum Efficiency Heat Pump with Existing Heat Backup\",\"High Efficiency Heat Pump with Electric Heat Backup\",\"Heat Pump Water Heater\",\"High Efficiency Whole Home Electrification\",\"Basic Enclosure\",\"Basic Enclosure + HPWH + High Efficiency HP/Electric Backup\",\"Basic Enclosure + High Efficiency Whole Home Electrification\",\"Enhanced Enclosure\",\"Enhanced Enclosure + HPWH + High Efficiency HP/Electric Backup\",\"Enhanced Enclosure + High Efficiency Whole Home Electrification\",\"Heat Pump Clothes Dryer\"],\"type\":\"bar\",\"xaxis\":\"x2\",\"yaxis\":\"y2\",\"textposition\":\"inside\",\"texttemplate\":\"%{text:.0%}\"},{\"marker\":{\"color\":\"red\"},\"orientation\":\"h\",\"showlegend\":false,\"text\":[0.0,0.0,0.0,0.049019607843137254,0.061224489795918366,0.00980392156862745,0.0,0.0,0.0,0.0,0.0,0.0,0.0,0.0,0.0],\"x\":[0.0,0.0,0.0,0.049019607843137254,0.061224489795918366,0.00980392156862745,0.0,0.0,0.0,0.0,0.0,0.0,0.0,0.0,0.0],\"y\":[\"Electric Cooking\",\"Mininum Efficiency Whole Home Electrification\",\"Induction Cooking\",\"Mininum Efficiency Heat Pump with Electric Heat Backup\",\"Mininum Efficiency Heat Pump with Existing Heat Backup\",\"High Efficiency Heat Pump with Electric Heat Backup\",\"Heat Pump Water Heater\",\"High Efficiency Whole Home Electrification\",\"Basic Enclosure\",\"Basic Enclosure + HPWH + High Efficiency HP/Electric Backup\",\"Basic Enclosure + High Efficiency Whole Home Electrification\",\"Enhanced Enclosure\",\"Enhanced Enclosure + HPWH + High Efficiency HP/Electric Backup\",\"Enhanced Enclosure + High Efficiency Whole Home Electrification\",\"Heat Pump Clothes Dryer\"],\"type\":\"bar\",\"xaxis\":\"x3\",\"yaxis\":\"y3\",\"textposition\":\"inside\",\"texttemplate\":\"%{text:.0%}\"},{\"marker\":{\"color\":\"green\"},\"orientation\":\"h\",\"showlegend\":false,\"text\":[1.0,1.0,1.0,0.9509803921568627,0.9387755102040817,0.9901960784313726,1.0,1.0,1.0,1.0,1.0,1.0,1.0,1.0,1.0],\"x\":[1.0,1.0,1.0,0.9509803921568627,0.9387755102040817,0.9901960784313726,1.0,1.0,1.0,1.0,1.0,1.0,1.0,1.0,1.0],\"y\":[\"Electric Cooking\",\"Mininum Efficiency Whole Home Electrification\",\"Induction Cooking\",\"Mininum Efficiency Heat Pump with Electric Heat Backup\",\"Mininum Efficiency Heat Pump with Existing Heat Backup\",\"High Efficiency Heat Pump with Electric Heat Backup\",\"Heat Pump Water Heater\",\"High Efficiency Whole Home Electrification\",\"Basic Enclosure\",\"Basic Enclosure + HPWH + High Efficiency HP/Electric Backup\",\"Basic Enclosure + High Efficiency Whole Home Electrification\",\"Enhanced Enclosure\",\"Enhanced Enclosure + HPWH + High Efficiency HP/Electric Backup\",\"Enhanced Enclosure + High Efficiency Whole Home Electrification\",\"Heat Pump Clothes Dryer\"],\"type\":\"bar\",\"xaxis\":\"x3\",\"yaxis\":\"y3\",\"textposition\":\"inside\",\"texttemplate\":\"%{text:.0%}\"}],                        {\"template\":{\"data\":{\"histogram2dcontour\":[{\"type\":\"histogram2dcontour\",\"colorbar\":{\"outlinewidth\":0,\"ticks\":\"\"},\"colorscale\":[[0.0,\"#0d0887\"],[0.1111111111111111,\"#46039f\"],[0.2222222222222222,\"#7201a8\"],[0.3333333333333333,\"#9c179e\"],[0.4444444444444444,\"#bd3786\"],[0.5555555555555556,\"#d8576b\"],[0.6666666666666666,\"#ed7953\"],[0.7777777777777778,\"#fb9f3a\"],[0.8888888888888888,\"#fdca26\"],[1.0,\"#f0f921\"]]}],\"choropleth\":[{\"type\":\"choropleth\",\"colorbar\":{\"outlinewidth\":0,\"ticks\":\"\"}}],\"histogram2d\":[{\"type\":\"histogram2d\",\"colorbar\":{\"outlinewidth\":0,\"ticks\":\"\"},\"colorscale\":[[0.0,\"#0d0887\"],[0.1111111111111111,\"#46039f\"],[0.2222222222222222,\"#7201a8\"],[0.3333333333333333,\"#9c179e\"],[0.4444444444444444,\"#bd3786\"],[0.5555555555555556,\"#d8576b\"],[0.6666666666666666,\"#ed7953\"],[0.7777777777777778,\"#fb9f3a\"],[0.8888888888888888,\"#fdca26\"],[1.0,\"#f0f921\"]]}],\"heatmap\":[{\"type\":\"heatmap\",\"colorbar\":{\"outlinewidth\":0,\"ticks\":\"\"},\"colorscale\":[[0.0,\"#0d0887\"],[0.1111111111111111,\"#46039f\"],[0.2222222222222222,\"#7201a8\"],[0.3333333333333333,\"#9c179e\"],[0.4444444444444444,\"#bd3786\"],[0.5555555555555556,\"#d8576b\"],[0.6666666666666666,\"#ed7953\"],[0.7777777777777778,\"#fb9f3a\"],[0.8888888888888888,\"#fdca26\"],[1.0,\"#f0f921\"]]}],\"heatmapgl\":[{\"type\":\"heatmapgl\",\"colorbar\":{\"outlinewidth\":0,\"ticks\":\"\"},\"colorscale\":[[0.0,\"#0d0887\"],[0.1111111111111111,\"#46039f\"],[0.2222222222222222,\"#7201a8\"],[0.3333333333333333,\"#9c179e\"],[0.4444444444444444,\"#bd3786\"],[0.5555555555555556,\"#d8576b\"],[0.6666666666666666,\"#ed7953\"],[0.7777777777777778,\"#fb9f3a\"],[0.8888888888888888,\"#fdca26\"],[1.0,\"#f0f921\"]]}],\"contourcarpet\":[{\"type\":\"contourcarpet\",\"colorbar\":{\"outlinewidth\":0,\"ticks\":\"\"}}],\"contour\":[{\"type\":\"contour\",\"colorbar\":{\"outlinewidth\":0,\"ticks\":\"\"},\"colorscale\":[[0.0,\"#0d0887\"],[0.1111111111111111,\"#46039f\"],[0.2222222222222222,\"#7201a8\"],[0.3333333333333333,\"#9c179e\"],[0.4444444444444444,\"#bd3786\"],[0.5555555555555556,\"#d8576b\"],[0.6666666666666666,\"#ed7953\"],[0.7777777777777778,\"#fb9f3a\"],[0.8888888888888888,\"#fdca26\"],[1.0,\"#f0f921\"]]}],\"surface\":[{\"type\":\"surface\",\"colorbar\":{\"outlinewidth\":0,\"ticks\":\"\"},\"colorscale\":[[0.0,\"#0d0887\"],[0.1111111111111111,\"#46039f\"],[0.2222222222222222,\"#7201a8\"],[0.3333333333333333,\"#9c179e\"],[0.4444444444444444,\"#bd3786\"],[0.5555555555555556,\"#d8576b\"],[0.6666666666666666,\"#ed7953\"],[0.7777777777777778,\"#fb9f3a\"],[0.8888888888888888,\"#fdca26\"],[1.0,\"#f0f921\"]]}],\"mesh3d\":[{\"type\":\"mesh3d\",\"colorbar\":{\"outlinewidth\":0,\"ticks\":\"\"}}],\"scatter\":[{\"fillpattern\":{\"fillmode\":\"overlay\",\"size\":10,\"solidity\":0.2},\"type\":\"scatter\"}],\"parcoords\":[{\"type\":\"parcoords\",\"line\":{\"colorbar\":{\"outlinewidth\":0,\"ticks\":\"\"}}}],\"scatterpolargl\":[{\"type\":\"scatterpolargl\",\"marker\":{\"colorbar\":{\"outlinewidth\":0,\"ticks\":\"\"}}}],\"bar\":[{\"error_x\":{\"color\":\"#2a3f5f\"},\"error_y\":{\"color\":\"#2a3f5f\"},\"marker\":{\"line\":{\"color\":\"#E5ECF6\",\"width\":0.5},\"pattern\":{\"fillmode\":\"overlay\",\"size\":10,\"solidity\":0.2}},\"type\":\"bar\"}],\"scattergeo\":[{\"type\":\"scattergeo\",\"marker\":{\"colorbar\":{\"outlinewidth\":0,\"ticks\":\"\"}}}],\"scatterpolar\":[{\"type\":\"scatterpolar\",\"marker\":{\"colorbar\":{\"outlinewidth\":0,\"ticks\":\"\"}}}],\"histogram\":[{\"marker\":{\"pattern\":{\"fillmode\":\"overlay\",\"size\":10,\"solidity\":0.2}},\"type\":\"histogram\"}],\"scattergl\":[{\"type\":\"scattergl\",\"marker\":{\"colorbar\":{\"outlinewidth\":0,\"ticks\":\"\"}}}],\"scatter3d\":[{\"type\":\"scatter3d\",\"line\":{\"colorbar\":{\"outlinewidth\":0,\"ticks\":\"\"}},\"marker\":{\"colorbar\":{\"outlinewidth\":0,\"ticks\":\"\"}}}],\"scattermapbox\":[{\"type\":\"scattermapbox\",\"marker\":{\"colorbar\":{\"outlinewidth\":0,\"ticks\":\"\"}}}],\"scatterternary\":[{\"type\":\"scatterternary\",\"marker\":{\"colorbar\":{\"outlinewidth\":0,\"ticks\":\"\"}}}],\"scattercarpet\":[{\"type\":\"scattercarpet\",\"marker\":{\"colorbar\":{\"outlinewidth\":0,\"ticks\":\"\"}}}],\"carpet\":[{\"aaxis\":{\"endlinecolor\":\"#2a3f5f\",\"gridcolor\":\"white\",\"linecolor\":\"white\",\"minorgridcolor\":\"white\",\"startlinecolor\":\"#2a3f5f\"},\"baxis\":{\"endlinecolor\":\"#2a3f5f\",\"gridcolor\":\"white\",\"linecolor\":\"white\",\"minorgridcolor\":\"white\",\"startlinecolor\":\"#2a3f5f\"},\"type\":\"carpet\"}],\"table\":[{\"cells\":{\"fill\":{\"color\":\"#EBF0F8\"},\"line\":{\"color\":\"white\"}},\"header\":{\"fill\":{\"color\":\"#C8D4E3\"},\"line\":{\"color\":\"white\"}},\"type\":\"table\"}],\"barpolar\":[{\"marker\":{\"line\":{\"color\":\"#E5ECF6\",\"width\":0.5},\"pattern\":{\"fillmode\":\"overlay\",\"size\":10,\"solidity\":0.2}},\"type\":\"barpolar\"}],\"pie\":[{\"automargin\":true,\"type\":\"pie\"}]},\"layout\":{\"autotypenumbers\":\"strict\",\"colorway\":[\"#636efa\",\"#EF553B\",\"#00cc96\",\"#ab63fa\",\"#FFA15A\",\"#19d3f3\",\"#FF6692\",\"#B6E880\",\"#FF97FF\",\"#FECB52\"],\"font\":{\"color\":\"#2a3f5f\"},\"hovermode\":\"closest\",\"hoverlabel\":{\"align\":\"left\"},\"paper_bgcolor\":\"white\",\"plot_bgcolor\":\"#E5ECF6\",\"polar\":{\"bgcolor\":\"#E5ECF6\",\"angularaxis\":{\"gridcolor\":\"white\",\"linecolor\":\"white\",\"ticks\":\"\"},\"radialaxis\":{\"gridcolor\":\"white\",\"linecolor\":\"white\",\"ticks\":\"\"}},\"ternary\":{\"bgcolor\":\"#E5ECF6\",\"aaxis\":{\"gridcolor\":\"white\",\"linecolor\":\"white\",\"ticks\":\"\"},\"baxis\":{\"gridcolor\":\"white\",\"linecolor\":\"white\",\"ticks\":\"\"},\"caxis\":{\"gridcolor\":\"white\",\"linecolor\":\"white\",\"ticks\":\"\"}},\"coloraxis\":{\"colorbar\":{\"outlinewidth\":0,\"ticks\":\"\"}},\"colorscale\":{\"sequential\":[[0.0,\"#0d0887\"],[0.1111111111111111,\"#46039f\"],[0.2222222222222222,\"#7201a8\"],[0.3333333333333333,\"#9c179e\"],[0.4444444444444444,\"#bd3786\"],[0.5555555555555556,\"#d8576b\"],[0.6666666666666666,\"#ed7953\"],[0.7777777777777778,\"#fb9f3a\"],[0.8888888888888888,\"#fdca26\"],[1.0,\"#f0f921\"]],\"sequentialminus\":[[0.0,\"#0d0887\"],[0.1111111111111111,\"#46039f\"],[0.2222222222222222,\"#7201a8\"],[0.3333333333333333,\"#9c179e\"],[0.4444444444444444,\"#bd3786\"],[0.5555555555555556,\"#d8576b\"],[0.6666666666666666,\"#ed7953\"],[0.7777777777777778,\"#fb9f3a\"],[0.8888888888888888,\"#fdca26\"],[1.0,\"#f0f921\"]],\"diverging\":[[0,\"#8e0152\"],[0.1,\"#c51b7d\"],[0.2,\"#de77ae\"],[0.3,\"#f1b6da\"],[0.4,\"#fde0ef\"],[0.5,\"#f7f7f7\"],[0.6,\"#e6f5d0\"],[0.7,\"#b8e186\"],[0.8,\"#7fbc41\"],[0.9,\"#4d9221\"],[1,\"#276419\"]]},\"xaxis\":{\"gridcolor\":\"white\",\"linecolor\":\"white\",\"ticks\":\"\",\"title\":{\"standoff\":15},\"zerolinecolor\":\"white\",\"automargin\":true,\"zerolinewidth\":2},\"yaxis\":{\"gridcolor\":\"white\",\"linecolor\":\"white\",\"ticks\":\"\",\"title\":{\"standoff\":15},\"zerolinecolor\":\"white\",\"automargin\":true,\"zerolinewidth\":2},\"scene\":{\"xaxis\":{\"backgroundcolor\":\"#E5ECF6\",\"gridcolor\":\"white\",\"linecolor\":\"white\",\"showbackground\":true,\"ticks\":\"\",\"zerolinecolor\":\"white\",\"gridwidth\":2},\"yaxis\":{\"backgroundcolor\":\"#E5ECF6\",\"gridcolor\":\"white\",\"linecolor\":\"white\",\"showbackground\":true,\"ticks\":\"\",\"zerolinecolor\":\"white\",\"gridwidth\":2},\"zaxis\":{\"backgroundcolor\":\"#E5ECF6\",\"gridcolor\":\"white\",\"linecolor\":\"white\",\"showbackground\":true,\"ticks\":\"\",\"zerolinecolor\":\"white\",\"gridwidth\":2}},\"shapedefaults\":{\"line\":{\"color\":\"#2a3f5f\"}},\"annotationdefaults\":{\"arrowcolor\":\"#2a3f5f\",\"arrowhead\":0,\"arrowwidth\":1},\"geo\":{\"bgcolor\":\"white\",\"landcolor\":\"#E5ECF6\",\"subunitcolor\":\"white\",\"showland\":true,\"showlakes\":true,\"lakecolor\":\"white\"},\"title\":{\"x\":0.05},\"mapbox\":{\"style\":\"light\"}}},\"xaxis\":{\"anchor\":\"y\",\"domain\":[0.0,0.2888888888888889],\"title\":{\"text\":\"Bill\"},\"visible\":true,\"tickformat\":\",.0%\"},\"yaxis\":{\"anchor\":\"x\",\"domain\":[0.0,1.0],\"visible\":true},\"xaxis2\":{\"anchor\":\"y2\",\"domain\":[0.35555555555555557,0.6444444444444445],\"title\":{\"text\":\"Emission\"},\"visible\":true,\"tickformat\":\",.0%\"},\"yaxis2\":{\"anchor\":\"x2\",\"domain\":[0.0,1.0],\"visible\":false},\"xaxis3\":{\"anchor\":\"y3\",\"domain\":[0.7111111111111111,1.0],\"title\":{\"text\":\"Total Energy\"},\"visible\":true,\"tickformat\":\",.0%\"},\"yaxis3\":{\"anchor\":\"x3\",\"domain\":[0.0,1.0],\"visible\":false},\"barmode\":\"relative\",\"font\":{\"size\":10},\"title\":{\"text\":\"Percentage of Household in Positive and Negative Savings\"},\"autosize\":false,\"width\":1000,\"height\":500},                        {\"responsive\": true}                    ).then(function(){\n",
       "                            \n",
       "var gd = document.getElementById('34bca49e-9652-4c6f-aad7-ce03fda4e631');\n",
       "var x = new MutationObserver(function (mutations, observer) {{\n",
       "        var display = window.getComputedStyle(gd).display;\n",
       "        if (!display || display === 'none') {{\n",
       "            console.log([gd, 'removed!']);\n",
       "            Plotly.purge(gd);\n",
       "            observer.disconnect();\n",
       "        }}\n",
       "}});\n",
       "\n",
       "// Listen for the removal of the full notebook cells\n",
       "var notebookContainer = gd.closest('#notebook-container');\n",
       "if (notebookContainer) {{\n",
       "    x.observe(notebookContainer, {childList: true});\n",
       "}}\n",
       "\n",
       "// Listen for the clearing of the current output cell\n",
       "var outputEl = gd.closest('.output');\n",
       "if (outputEl) {{\n",
       "    x.observe(outputEl, {childList: true});\n",
       "}}\n",
       "\n",
       "                        })                };                });            </script>        </div>"
      ]
     },
     "metadata": {},
     "output_type": "display_data"
    }
   ],
   "source": [
    "segment = 'segment4'\n",
    "results = figure_positive_negative_savings(segment, community_results)\n",
    "saving_results[f'segment4_{income}_pct_bill_positive_savings_%'] = results[0]*100\n",
    "saving_results[f'segment4_{income}_pct_emission_positive_savings_%'] = results[1]*100\n",
    "saving_results[f'segment4_{income}_pct_energy_positive_savings_%'] = results[2]*100"
   ]
  },
  {
   "cell_type": "markdown",
   "id": "b53c1061",
   "metadata": {},
   "source": [
    "## 2.6. Average Energy Burden (%) Before and after Upgrade"
   ]
  },
  {
   "cell_type": "code",
   "execution_count": 91,
   "id": "1c373671",
   "metadata": {},
   "outputs": [
    {
     "name": "stdout",
     "output_type": "stream",
     "text": [
      "energy burden (%) before and after upgrade\n",
      "segment1\n",
      "                                                    before  after\n",
      "upgrade_name                                                     \n",
      "Enhanced Enclosure + High Efficiency Whole Home...     7.6    4.1\n",
      "Basic Enclosure + High Efficiency Whole Home El...     7.6    4.2\n",
      "Enhanced Enclosure + HPWH + High Efficiency HP/...     7.6    4.2\n",
      "Basic Enclosure + HPWH + High Efficiency HP/Ele...     7.6    4.3\n",
      "High Efficiency Whole Home Electrification             7.6    4.7\n",
      "High Efficiency Heat Pump with Electric Heat Ba...     7.6    5.6\n",
      "Enhanced Enclosure                                     7.6    6.0\n",
      "Basic Enclosure                                        7.6    6.3\n",
      "Mininum Efficiency Whole Home Electrification          7.8    7.2\n",
      "Heat Pump Water Heater                                 7.6    7.2\n",
      "Mininum Efficiency Heat Pump with Electric Heat...     7.6    7.2\n",
      "Mininum Efficiency Heat Pump with Existing Heat...     7.6    7.3\n",
      "Heat Pump Clothes Dryer                                8.1    8.0\n",
      "Induction Cooking                                      7.9    7.9\n",
      "Electric Cooking                                       4.6    4.6\n",
      "segment2\n",
      "                                                    before  after\n",
      "upgrade_name                                                     \n",
      "Enhanced Enclosure + High Efficiency Whole Home...     8.5    4.3\n",
      "Basic Enclosure + High Efficiency Whole Home El...     8.5    4.3\n",
      "Enhanced Enclosure + HPWH + High Efficiency HP/...     8.5    4.4\n",
      "Basic Enclosure + HPWH + High Efficiency HP/Ele...     8.5    4.5\n",
      "High Efficiency Whole Home Electrification             8.5    5.0\n",
      "High Efficiency Heat Pump with Electric Heat Ba...     8.5    5.9\n",
      "Enhanced Enclosure                                     8.5    6.8\n",
      "Basic Enclosure                                        8.6    7.0\n",
      "Mininum Efficiency Heat Pump with Existing Heat...     8.5    7.5\n",
      "Mininum Efficiency Heat Pump with Electric Heat...     8.5    7.6\n",
      "Heat Pump Water Heater                                 8.6    8.2\n",
      "Mininum Efficiency Whole Home Electrification          7.1    6.9\n",
      "Heat Pump Clothes Dryer                                8.4    8.2\n",
      "Induction Cooking                                      8.5    8.4\n",
      "Electric Cooking                                       7.7    7.7\n",
      "segment3\n",
      "                                                    before  after\n",
      "upgrade_name                                                     \n",
      "Enhanced Enclosure + High Efficiency Whole Home...    10.8    6.2\n",
      "Basic Enclosure + High Efficiency Whole Home El...    10.8    6.3\n",
      "Enhanced Enclosure + HPWH + High Efficiency HP/...    10.8    6.4\n",
      "Basic Enclosure + HPWH + High Efficiency HP/Ele...    10.8    6.5\n",
      "High Efficiency Whole Home Electrification            10.8    7.0\n",
      "High Efficiency Heat Pump with Electric Heat Ba...    10.8    8.2\n",
      "Enhanced Enclosure                                    10.8    9.0\n",
      "Basic Enclosure                                       10.8    9.2\n",
      "Mininum Efficiency Heat Pump with Existing Heat...    10.8   10.3\n",
      "Heat Pump Water Heater                                10.8   10.3\n",
      "Mininum Efficiency Heat Pump with Electric Heat...    10.8   10.4\n",
      "Heat Pump Clothes Dryer                               12.2   12.0\n",
      "Induction Cooking                                     11.7   11.7\n",
      "Mininum Efficiency Whole Home Electrification         12.0   12.0\n",
      "Electric Cooking                                      16.8   17.0\n",
      "segment4\n",
      "                                                    before  after\n",
      "upgrade_name                                                     \n",
      "Enhanced Enclosure + High Efficiency Whole Home...    10.1    5.1\n",
      "Enhanced Enclosure + HPWH + High Efficiency HP/...    10.1    5.2\n",
      "Basic Enclosure + High Efficiency Whole Home El...    10.1    5.3\n",
      "Basic Enclosure + HPWH + High Efficiency HP/Ele...    10.1    5.4\n",
      "High Efficiency Whole Home Electrification            10.1    5.9\n",
      "High Efficiency Heat Pump with Electric Heat Ba...    10.1    6.8\n",
      "Enhanced Enclosure                                    10.3    8.0\n",
      "Mininum Efficiency Heat Pump with Existing Heat...    10.2    8.6\n",
      "Mininum Efficiency Heat Pump with Electric Heat...    10.1    8.5\n",
      "Basic Enclosure                                       10.1    8.5\n",
      "Heat Pump Water Heater                                 9.9    9.3\n",
      "Mininum Efficiency Whole Home Electrification          9.5    9.0\n",
      "Heat Pump Clothes Dryer                               10.7   10.5\n",
      "Induction Cooking                                      9.6    9.6\n",
      "Electric Cooking                                      10.6   10.7\n"
     ]
    },
    {
     "name": "stderr",
     "output_type": "stream",
     "text": [
      "C:\\Users\\ylou2\\AppData\\Local\\Temp\\1\\ipykernel_17696\\4168045805.py:4: SettingWithCopyWarning:\n",
      "\n",
      "\n",
      "A value is trying to be set on a copy of a slice from a DataFrame\n",
      "\n",
      "See the caveats in the documentation: https://pandas.pydata.org/pandas-docs/stable/user_guide/indexing.html#returning-a-view-versus-a-copy\n",
      "\n",
      "C:\\Users\\ylou2\\AppData\\Local\\Temp\\1\\ipykernel_17696\\4168045805.py:5: SettingWithCopyWarning:\n",
      "\n",
      "\n",
      "A value is trying to be set on a copy of a slice from a DataFrame\n",
      "\n",
      "See the caveats in the documentation: https://pandas.pydata.org/pandas-docs/stable/user_guide/indexing.html#returning-a-view-versus-a-copy\n",
      "\n",
      "C:\\Users\\ylou2\\AppData\\Local\\Temp\\1\\ipykernel_17696\\4168045805.py:6: SettingWithCopyWarning:\n",
      "\n",
      "\n",
      "A value is trying to be set on a copy of a slice from a DataFrame.\n",
      "Try using .loc[row_indexer,col_indexer] = value instead\n",
      "\n",
      "See the caveats in the documentation: https://pandas.pydata.org/pandas-docs/stable/user_guide/indexing.html#returning-a-view-versus-a-copy\n",
      "\n",
      "C:\\Users\\ylou2\\AppData\\Local\\Temp\\1\\ipykernel_17696\\4168045805.py:7: SettingWithCopyWarning:\n",
      "\n",
      "\n",
      "A value is trying to be set on a copy of a slice from a DataFrame.\n",
      "Try using .loc[row_indexer,col_indexer] = value instead\n",
      "\n",
      "See the caveats in the documentation: https://pandas.pydata.org/pandas-docs/stable/user_guide/indexing.html#returning-a-view-versus-a-copy\n",
      "\n"
     ]
    }
   ],
   "source": [
    "results = segment_mean_energy_burden('post-upgrade_energy_burden_2023_cbills.%', community_results) \n",
    "saving_results[[f'segment1_{income}_energy_burden_before_upgrade_%',f'segment1_{income}_energy_burden_after_upgrade_%']] = results[0]\n",
    "saving_results[[f'segment2_{income}_energy_burden_before_upgrade_%',f'segment2_{income}_energy_burden_after_upgrade_%']] = results[1]\n",
    "saving_results[[f'segment3_{income}_energy_burden_before_upgrade_%',f'segment3_{income}_energy_burden_after_upgrade_%']] = results[2]\n",
    "saving_results[[f'segment4_{income}_energy_burden_before_upgrade_%',f'segment4_{income}_energy_burden_after_upgrade_%']] = results[3]"
   ]
  },
  {
   "cell_type": "markdown",
   "id": "0dc19882",
   "metadata": {},
   "source": [
    "# 3. Results for Segments (0-80% AMI)"
   ]
  },
  {
   "attachments": {},
   "cell_type": "markdown",
   "id": "baa2745c",
   "metadata": {},
   "source": [
    "Segment Definition\n",
    "\n",
    "Segment 1. Occupied, Single-Family Attached, 1940-1979, 0-80% AMI  \n",
    "\n",
    "Segment 2. Occupied, Multifamily with 2-4 units, 1940-1979, 0-80% AMI  \n",
    "\n",
    "Segment 3. Occupied, Single-Family Detached, 1940-1979, 0-80% AMI  \n",
    "\n",
    "Segment 4. Occupied, Multifamily with 5+ units, 1940-1979, 0-80% AMI   "
   ]
  },
  {
   "cell_type": "code",
   "execution_count": 92,
   "id": "b85921e5",
   "metadata": {},
   "outputs": [],
   "source": [
    "community_results = pd.read_parquet(f\"data_/community_building_samples_with_upgrade_cost_and_bill/{community}/processed_upgrade_results.parquet\")\n",
    "\n",
    "income = 'specified_by_community'\n",
    "vacancy_status = ['Occupied']\n",
    "\n",
    "seg1_building_type = ['Single-Family Attached']\n",
    "seg1_vintage = ['1940s', '1950s', '1960s', '1970s']\n",
    "seg1_median_income = ['0-30%','30-60%','60-80%']\n",
    "\n",
    "seg2_building_type = ['Multi-Family with 2 - 4 Units']\n",
    "seg2_vintage = ['1940s', '1950s', '1960s', '1970s']\n",
    "seg2_median_income = ['0-30%','30-60%','60-80%']\n",
    "\n",
    "seg3_building_type = ['Single-Family Detached']\n",
    "seg3_vintage = ['1940s', '1950s', '1960s', '1970s']\n",
    "seg3_median_income = ['0-30%','30-60%','60-80%']\n",
    "\n",
    "seg4_building_type = ['Multi-Family with 5+ Units']\n",
    "seg4_vintage = ['1940s', '1950s', '1960s', '1970s']\n",
    "seg4_median_income = ['0-30%','30-60%','60-80%']\n",
    "\n",
    "community_results.loc[community_results['build_existing_model.vacancy_status'].isin(vacancy_status) & \n",
    "                     community_results['build_existing_model.geometry_building_type_recs'].isin(seg1_building_type) & \n",
    "                     community_results['build_existing_model.vintage'].isin(seg1_vintage) &  \n",
    "                     community_results['build_existing_model.area_median_income'].isin(seg1_median_income),\n",
    "                     'segment'] = 'segment1'\n",
    "community_results.loc[community_results['build_existing_model.vacancy_status'].isin(vacancy_status) & \n",
    "                     community_results['build_existing_model.geometry_building_type_recs'].isin(seg2_building_type) & \n",
    "                     community_results['build_existing_model.vintage'].isin(seg2_vintage) & \n",
    "                     community_results['build_existing_model.area_median_income'].isin(seg2_median_income),\n",
    "                     'segment'] = 'segment2'\n",
    "community_results.loc[community_results['build_existing_model.vacancy_status'].isin(vacancy_status) & \n",
    "                     community_results['build_existing_model.geometry_building_type_recs'].isin(seg3_building_type) & \n",
    "                     community_results['build_existing_model.vintage'].isin(seg3_vintage) & \n",
    "                     community_results['build_existing_model.area_median_income'].isin(seg3_median_income),\n",
    "                     'segment'] = 'segment3'\n",
    "community_results.loc[community_results['build_existing_model.vacancy_status'].isin(vacancy_status) & \n",
    "                     community_results['build_existing_model.geometry_building_type_recs'].isin(seg4_building_type) & \n",
    "                     community_results['build_existing_model.vintage'].isin(seg4_vintage) & \n",
    "                     community_results['build_existing_model.area_median_income'].isin(seg4_median_income),\n",
    "                     'segment'] = 'segment4'"
   ]
  },
  {
   "cell_type": "markdown",
   "id": "2b599aa4",
   "metadata": {},
   "source": [
    "## 3.1 Upgrade Cost Per Dwelling Unit "
   ]
  },
  {
   "cell_type": "code",
   "execution_count": 93,
   "id": "8aa276ba",
   "metadata": {},
   "outputs": [
    {
     "name": "stdout",
     "output_type": "stream",
     "text": [
      "segment1: upgrade cost (usd) per dwelling unit\n",
      "upgrade_name\n",
      "Electric Cooking                                                    1000.8\n",
      "Induction Cooking                                                   1720.9\n",
      "Heat Pump Clothes Dryer                                             2261.5\n",
      "Basic Enclosure                                                     2431.1\n",
      "Heat Pump Water Heater                                              2579.0\n",
      "Enhanced Enclosure                                                  3291.5\n",
      "Mininum Efficiency Heat Pump with Existing Heat Backup             17072.6\n",
      "Mininum Efficiency Heat Pump with Electric Heat Backup             17114.3\n",
      "Mininum Efficiency Whole Home Electrification                      17389.2\n",
      "High Efficiency Heat Pump with Electric Heat Backup                20433.6\n",
      "Basic Enclosure + HPWH + High Efficiency HP/Electric Backup        21967.7\n",
      "Enhanced Enclosure + HPWH + High Efficiency HP/Electric Backup     22252.2\n",
      "Basic Enclosure + High Efficiency Whole Home Electrification       25384.7\n",
      "Enhanced Enclosure + High Efficiency Whole Home Electrification    25669.2\n",
      "High Efficiency Whole Home Electrification                         26429.6\n",
      "Name: upgrade_cost_usd, dtype: float64\n",
      "segment2: upgrade cost (usd) per dwelling unit\n",
      "upgrade_name\n",
      "Electric Cooking                                                    1000.8\n",
      "Induction Cooking                                                   1720.9\n",
      "Basic Enclosure                                                     2159.5\n",
      "Heat Pump Clothes Dryer                                             2261.5\n",
      "Heat Pump Water Heater                                              2579.0\n",
      "Enhanced Enclosure                                                  3863.5\n",
      "Mininum Efficiency Heat Pump with Existing Heat Backup             10290.8\n",
      "Mininum Efficiency Heat Pump with Electric Heat Backup             10323.9\n",
      "Mininum Efficiency Whole Home Electrification                      14678.2\n",
      "High Efficiency Heat Pump with Electric Heat Backup                21489.5\n",
      "Basic Enclosure + HPWH + High Efficiency HP/Electric Backup        24411.5\n",
      "Enhanced Enclosure + HPWH + High Efficiency HP/Electric Backup     25843.1\n",
      "High Efficiency Whole Home Electrification                         26974.3\n",
      "Basic Enclosure + High Efficiency Whole Home Electrification       27489.2\n",
      "Enhanced Enclosure + High Efficiency Whole Home Electrification    28920.9\n",
      "Name: upgrade_cost_usd, dtype: float64\n",
      "segment3: upgrade cost (usd) per dwelling unit\n",
      "upgrade_name\n",
      "Electric Cooking                                                    1000.8\n",
      "Basic Enclosure                                                     1507.7\n",
      "Enhanced Enclosure                                                  1661.5\n",
      "Induction Cooking                                                   1720.9\n",
      "Heat Pump Clothes Dryer                                             2261.5\n",
      "Heat Pump Water Heater                                              2579.0\n",
      "Mininum Efficiency Heat Pump with Existing Heat Backup             12144.5\n",
      "Mininum Efficiency Heat Pump with Electric Heat Backup             12173.4\n",
      "Mininum Efficiency Whole Home Electrification                      14180.7\n",
      "High Efficiency Heat Pump with Electric Heat Backup                15425.8\n",
      "Basic Enclosure + HPWH + High Efficiency HP/Electric Backup        17375.6\n",
      "Enhanced Enclosure + HPWH + High Efficiency HP/Electric Backup     17473.6\n",
      "Basic Enclosure + High Efficiency Whole Home Electrification       20315.2\n",
      "Enhanced Enclosure + High Efficiency Whole Home Electrification    20413.2\n",
      "High Efficiency Whole Home Electrification                         20944.4\n",
      "Name: upgrade_cost_usd, dtype: float64\n",
      "segment4: upgrade cost (usd) per dwelling unit\n",
      "upgrade_name\n",
      "Electric Cooking                                                    1000.8\n",
      "Basic Enclosure                                                     1313.3\n",
      "Induction Cooking                                                   1720.9\n",
      "Enhanced Enclosure                                                  1954.9\n",
      "Heat Pump Clothes Dryer                                             2261.5\n",
      "Heat Pump Water Heater                                              2579.0\n",
      "Mininum Efficiency Whole Home Electrification                       9893.8\n",
      "Mininum Efficiency Heat Pump with Existing Heat Backup             10624.1\n",
      "Mininum Efficiency Heat Pump with Electric Heat Backup             10638.6\n",
      "High Efficiency Heat Pump with Electric Heat Backup                17607.7\n",
      "Basic Enclosure + HPWH + High Efficiency HP/Electric Backup        19950.7\n",
      "Enhanced Enclosure + HPWH + High Efficiency HP/Electric Backup     20333.4\n",
      "Basic Enclosure + High Efficiency Whole Home Electrification       22980.8\n",
      "High Efficiency Whole Home Electrification                         23216.8\n",
      "Enhanced Enclosure + High Efficiency Whole Home Electrification    23363.6\n",
      "Name: upgrade_cost_usd, dtype: float64\n"
     ]
    }
   ],
   "source": [
    "results = segment_mean_upgrade_cost(community_results) \n",
    "saving_results[f'segment1_{income}_upgrade_cost_mean_usd'] = results[0]\n",
    "saving_results[f'segment2_{income}_upgrade_cost_mean_usd'] = results[1]\n",
    "saving_results[f'segment3_{income}_upgrade_cost_mean_usd'] = results[2]\n",
    "saving_results[f'segment4_{income}_upgrade_cost_mean_usd'] = results[3]"
   ]
  },
  {
   "cell_type": "markdown",
   "id": "0c3d8db5",
   "metadata": {},
   "source": [
    " ## 3.2 Annual Savings Per Dollar Invested"
   ]
  },
  {
   "cell_type": "markdown",
   "id": "6d7106aa",
   "metadata": {},
   "source": [
    "### Annual Bill Savings Per Dollar Invested"
   ]
  },
  {
   "cell_type": "code",
   "execution_count": 94,
   "id": "da9bebdf",
   "metadata": {},
   "outputs": [
    {
     "name": "stdout",
     "output_type": "stream",
     "text": [
      "segment1\n",
      "upgrade_name\n",
      "Basic Enclosure                                                    0.10088\n",
      "Enhanced Enclosure                                                 0.08659\n",
      "Enhanced Enclosure + HPWH + High Efficiency HP/Electric Backup     0.02978\n",
      "Basic Enclosure + HPWH + High Efficiency HP/Electric Backup        0.02945\n",
      "Heat Pump Water Heater                                             0.02903\n",
      "Enhanced Enclosure + High Efficiency Whole Home Electrification    0.02674\n",
      "Basic Enclosure + High Efficiency Whole Home Electrification       0.02643\n",
      "High Efficiency Whole Home Electrification                         0.02137\n",
      "High Efficiency Heat Pump with Electric Heat Backup                0.01978\n",
      "Heat Pump Clothes Dryer                                            0.01141\n",
      "Mininum Efficiency Whole Home Electrification                      0.00564\n",
      "Mininum Efficiency Heat Pump with Electric Heat Backup             0.00525\n",
      "Mininum Efficiency Heat Pump with Existing Heat Backup             0.00499\n",
      "Induction Cooking                                                  0.00183\n",
      "Electric Cooking                                                  -0.01269\n",
      "Name: saving_cbill.total_usd, dtype: float64\n",
      "segment2\n",
      "upgrade_name\n",
      "Basic Enclosure                                                    0.16059\n",
      "Enhanced Enclosure                                                 0.10982\n",
      "Basic Enclosure + HPWH + High Efficiency HP/Electric Backup        0.03742\n",
      "Enhanced Enclosure + HPWH + High Efficiency HP/Electric Backup     0.03659\n",
      "Basic Enclosure + High Efficiency Whole Home Electrification       0.03412\n",
      "Enhanced Enclosure + High Efficiency Whole Home Electrification    0.03355\n",
      "High Efficiency Whole Home Electrification                         0.02857\n",
      "Heat Pump Water Heater                                             0.02790\n",
      "High Efficiency Heat Pump with Electric Heat Backup                0.02790\n",
      "Mininum Efficiency Heat Pump with Existing Heat Backup             0.02019\n",
      "Heat Pump Clothes Dryer                                            0.01249\n",
      "Mininum Efficiency Heat Pump with Electric Heat Backup             0.01165\n",
      "Mininum Efficiency Whole Home Electrification                      0.00968\n",
      "Induction Cooking                                                  0.00029\n",
      "Electric Cooking                                                  -0.01049\n",
      "Name: saving_cbill.total_usd, dtype: float64\n",
      "segment3\n",
      "upgrade_name\n",
      "Basic Enclosure                                                    0.13437\n",
      "Enhanced Enclosure                                                 0.12796\n",
      "Enhanced Enclosure + HPWH + High Efficiency HP/Electric Backup     0.02993\n",
      "Basic Enclosure + HPWH + High Efficiency HP/Electric Backup        0.02974\n",
      "Enhanced Enclosure + High Efficiency Whole Home Electrification    0.02653\n",
      "Basic Enclosure + High Efficiency Whole Home Electrification       0.02635\n",
      "Heat Pump Water Heater                                             0.02269\n",
      "High Efficiency Whole Home Electrification                         0.02205\n",
      "High Efficiency Heat Pump with Electric Heat Backup                0.02173\n",
      "Heat Pump Clothes Dryer                                            0.01002\n",
      "Mininum Efficiency Heat Pump with Existing Heat Backup             0.00950\n",
      "Mininum Efficiency Heat Pump with Electric Heat Backup             0.00939\n",
      "Induction Cooking                                                  0.00131\n",
      "Mininum Efficiency Whole Home Electrification                      0.00072\n",
      "Electric Cooking                                                  -0.00867\n",
      "Name: saving_cbill.total_usd, dtype: float64\n",
      "segment4\n",
      "upgrade_name\n",
      "Basic Enclosure                                                    0.13501\n",
      "Enhanced Enclosure                                                 0.10552\n",
      "Heat Pump Water Heater                                             0.03838\n",
      "Basic Enclosure + HPWH + High Efficiency HP/Electric Backup        0.02967\n",
      "Enhanced Enclosure + HPWH + High Efficiency HP/Electric Backup     0.02951\n",
      "Basic Enclosure + High Efficiency Whole Home Electrification       0.02652\n",
      "Enhanced Enclosure + High Efficiency Whole Home Electrification    0.02644\n",
      "High Efficiency Whole Home Electrification                         0.02303\n",
      "High Efficiency Heat Pump with Electric Heat Backup                0.02098\n",
      "Mininum Efficiency Heat Pump with Electric Heat Backup             0.01420\n",
      "Mininum Efficiency Heat Pump with Existing Heat Backup             0.01407\n",
      "Heat Pump Clothes Dryer                                            0.01056\n",
      "Induction Cooking                                                  0.00221\n",
      "Electric Cooking                                                   0.00130\n",
      "Mininum Efficiency Whole Home Electrification                      0.00114\n",
      "Name: saving_cbill.total_usd, dtype: float64\n"
     ]
    }
   ],
   "source": [
    "indicator ='saving_cbill.total_usd'\n",
    "results = segment_savings_per_dollar(indicator, community_results) \n",
    "saving_results[f'segment1_{income}_saving_bill_per_dollar_invested_usd'] = results[0]\n",
    "saving_results[f'segment2_{income}_saving_bill_per_dollar_invested_usd'] = results[1]\n",
    "saving_results[f'segment3_{income}_saving_bill_per_dollar_invested_usd'] = results[2]\n",
    "saving_results[f'segment4_{income}_saving_bill_per_dollar_invested_usd'] = results[3]"
   ]
  },
  {
   "cell_type": "markdown",
   "id": "60fa915b",
   "metadata": {},
   "source": [
    " ### Annual Energy Savings Per Dollar Invested"
   ]
  },
  {
   "cell_type": "code",
   "execution_count": 95,
   "id": "0edaa5a4",
   "metadata": {},
   "outputs": [
    {
     "name": "stdout",
     "output_type": "stream",
     "text": [
      "segment1\n",
      "upgrade_name\n",
      "Basic Enclosure                                                    0.00671\n",
      "Enhanced Enclosure                                                 0.00588\n",
      "Basic Enclosure + HPWH + High Efficiency HP/Electric Backup        0.00212\n",
      "Enhanced Enclosure + HPWH + High Efficiency HP/Electric Backup     0.00212\n",
      "Mininum Efficiency Whole Home Electrification                      0.00210\n",
      "Heat Pump Water Heater                                             0.00209\n",
      "Basic Enclosure + High Efficiency Whole Home Electrification       0.00187\n",
      "Enhanced Enclosure + High Efficiency Whole Home Electrification    0.00187\n",
      "Electric Cooking                                                   0.00174\n",
      "High Efficiency Heat Pump with Electric Heat Backup                0.00170\n",
      "High Efficiency Whole Home Electrification                         0.00167\n",
      "Mininum Efficiency Heat Pump with Electric Heat Backup             0.00148\n",
      "Mininum Efficiency Heat Pump with Existing Heat Backup             0.00111\n",
      "Heat Pump Clothes Dryer                                            0.00034\n",
      "Induction Cooking                                                  0.00013\n",
      "Name: saving_energy.total_mmbtu, dtype: float64\n",
      "segment2\n",
      "upgrade_name\n",
      "Basic Enclosure                                                    0.00994\n",
      "Enhanced Enclosure                                                 0.00669\n",
      "Mininum Efficiency Whole Home Electrification                      0.00402\n",
      "Mininum Efficiency Heat Pump with Electric Heat Backup             0.00307\n",
      "Basic Enclosure + HPWH + High Efficiency HP/Electric Backup        0.00245\n",
      "Enhanced Enclosure + HPWH + High Efficiency HP/Electric Backup     0.00235\n",
      "Basic Enclosure + High Efficiency Whole Home Electrification       0.00222\n",
      "High Efficiency Heat Pump with Electric Heat Backup                0.00214\n",
      "Enhanced Enclosure + High Efficiency Whole Home Electrification    0.00214\n",
      "High Efficiency Whole Home Electrification                         0.00207\n",
      "Heat Pump Water Heater                                             0.00190\n",
      "Mininum Efficiency Heat Pump with Existing Heat Backup             0.00179\n",
      "Electric Cooking                                                   0.00143\n",
      "Heat Pump Clothes Dryer                                            0.00037\n",
      "Induction Cooking                                                  0.00035\n",
      "Name: saving_energy.total_mmbtu, dtype: float64\n",
      "segment3\n",
      "upgrade_name\n",
      "Basic Enclosure                                                    0.00669\n",
      "Enhanced Enclosure                                                 0.00659\n",
      "Mininum Efficiency Whole Home Electrification                      0.00167\n",
      "Enhanced Enclosure + HPWH + High Efficiency HP/Electric Backup     0.00167\n",
      "Basic Enclosure + HPWH + High Efficiency HP/Electric Backup        0.00167\n",
      "Heat Pump Water Heater                                             0.00153\n",
      "Enhanced Enclosure + High Efficiency Whole Home Electrification    0.00146\n",
      "Basic Enclosure + High Efficiency Whole Home Electrification       0.00146\n",
      "High Efficiency Heat Pump with Electric Heat Backup                0.00133\n",
      "High Efficiency Whole Home Electrification                         0.00131\n",
      "Electric Cooking                                                   0.00118\n",
      "Mininum Efficiency Heat Pump with Electric Heat Backup             0.00114\n",
      "Mininum Efficiency Heat Pump with Existing Heat Backup             0.00104\n",
      "Heat Pump Clothes Dryer                                            0.00030\n",
      "Induction Cooking                                                  0.00018\n",
      "Name: saving_energy.total_mmbtu, dtype: float64\n",
      "segment4\n",
      "upgrade_name\n",
      "Basic Enclosure                                                    0.00543\n",
      "Enhanced Enclosure                                                 0.00413\n",
      "Electric Cooking                                                   0.00166\n",
      "Heat Pump Water Heater                                             0.00149\n",
      "Mininum Efficiency Whole Home Electrification                      0.00124\n",
      "Basic Enclosure + HPWH + High Efficiency HP/Electric Backup        0.00117\n",
      "Enhanced Enclosure + HPWH + High Efficiency HP/Electric Backup     0.00116\n",
      "Basic Enclosure + High Efficiency Whole Home Electrification       0.00104\n",
      "Enhanced Enclosure + High Efficiency Whole Home Electrification    0.00104\n",
      "High Efficiency Whole Home Electrification                         0.00094\n",
      "High Efficiency Heat Pump with Electric Heat Backup                0.00086\n",
      "Mininum Efficiency Heat Pump with Electric Heat Backup             0.00081\n",
      "Mininum Efficiency Heat Pump with Existing Heat Backup             0.00078\n",
      "Heat Pump Clothes Dryer                                            0.00032\n",
      "Induction Cooking                                                  0.00017\n",
      "Name: saving_energy.total_mmbtu, dtype: float64\n"
     ]
    }
   ],
   "source": [
    "indicator = 'saving_energy.total_mmbtu'\n",
    "results = segment_savings_per_dollar(indicator, community_results) \n",
    "saving_results[f'segment1_{income}_saving_energy_per_dollar_invested_mmbtu'] = results[0]\n",
    "saving_results[f'segment2_{income}_saving_energy_per_dollar_invested_mmbtu'] = results[1]\n",
    "saving_results[f'segment3_{income}_saving_energy_per_dollar_invested_mmbtu'] = results[2]\n",
    "saving_results[f'segment4_{income}_saving_energy_per_dollar_invested_mmbtu'] = results[3]"
   ]
  },
  {
   "cell_type": "markdown",
   "id": "e547f174",
   "metadata": {},
   "source": [
    " ### Annual Emission Savings Per Dollar Invested"
   ]
  },
  {
   "cell_type": "code",
   "execution_count": 96,
   "id": "1434b69a",
   "metadata": {},
   "outputs": [
    {
     "name": "stdout",
     "output_type": "stream",
     "text": [
      "segment1\n",
      "upgrade_name\n",
      "Basic Enclosure                                                    0.49808\n",
      "Enhanced Enclosure                                                 0.43152\n",
      "Enhanced Enclosure + HPWH + High Efficiency HP/Electric Backup     0.15024\n",
      "Basic Enclosure + HPWH + High Efficiency HP/Electric Backup        0.14976\n",
      "Heat Pump Water Heater                                             0.14719\n",
      "Enhanced Enclosure + High Efficiency Whole Home Electrification    0.13314\n",
      "Basic Enclosure + High Efficiency Whole Home Electrification       0.13254\n",
      "High Efficiency Whole Home Electrification                         0.11354\n",
      "High Efficiency Heat Pump with Electric Heat Backup                0.11250\n",
      "Mininum Efficiency Whole Home Electrification                      0.09661\n",
      "Mininum Efficiency Heat Pump with Electric Heat Backup             0.07213\n",
      "Electric Cooking                                                   0.07160\n",
      "Mininum Efficiency Heat Pump with Existing Heat Backup             0.05770\n",
      "Heat Pump Clothes Dryer                                            0.03433\n",
      "Induction Cooking                                                  0.00947\n",
      "Name: saving_emission.total_kgCO2e, dtype: float64\n",
      "segment2\n",
      "upgrade_name\n",
      "Basic Enclosure                                                    0.76326\n",
      "Enhanced Enclosure                                                 0.51762\n",
      "Mininum Efficiency Whole Home Electrification                      0.18332\n",
      "Basic Enclosure + HPWH + High Efficiency HP/Electric Backup        0.18211\n",
      "Enhanced Enclosure + HPWH + High Efficiency HP/Electric Backup     0.17636\n",
      "Basic Enclosure + High Efficiency Whole Home Electrification       0.16460\n",
      "Enhanced Enclosure + High Efficiency Whole Home Electrification    0.16032\n",
      "Mininum Efficiency Heat Pump with Electric Heat Backup             0.15076\n",
      "High Efficiency Heat Pump with Electric Heat Backup                0.14884\n",
      "High Efficiency Whole Home Electrification                         0.14622\n",
      "Heat Pump Water Heater                                             0.13486\n",
      "Mininum Efficiency Heat Pump with Existing Heat Backup             0.12103\n",
      "Electric Cooking                                                   0.05247\n",
      "Heat Pump Clothes Dryer                                            0.03652\n",
      "Induction Cooking                                                  0.01712\n",
      "Name: saving_emission.total_kgCO2e, dtype: float64\n",
      "segment3\n",
      "upgrade_name\n",
      "Basic Enclosure                                                    0.57647\n",
      "Enhanced Enclosure                                                 0.55792\n",
      "Enhanced Enclosure + HPWH + High Efficiency HP/Electric Backup     0.13393\n",
      "Basic Enclosure + HPWH + High Efficiency HP/Electric Backup        0.13340\n",
      "Enhanced Enclosure + High Efficiency Whole Home Electrification    0.11741\n",
      "Basic Enclosure + High Efficiency Whole Home Electrification       0.11688\n",
      "Heat Pump Water Heater                                             0.10843\n",
      "High Efficiency Heat Pump with Electric Heat Backup                0.10354\n",
      "High Efficiency Whole Home Electrification                         0.10127\n",
      "Mininum Efficiency Heat Pump with Electric Heat Backup             0.06964\n",
      "Mininum Efficiency Whole Home Electrification                      0.06874\n",
      "Mininum Efficiency Heat Pump with Existing Heat Backup             0.06679\n",
      "Electric Cooking                                                   0.04518\n",
      "Heat Pump Clothes Dryer                                            0.02969\n",
      "Induction Cooking                                                  0.01075\n",
      "Name: saving_emission.total_kgCO2e, dtype: float64\n",
      "segment4\n",
      "upgrade_name\n",
      "Basic Enclosure                                                    0.51857\n",
      "Enhanced Enclosure                                                 0.40181\n",
      "Heat Pump Water Heater                                             0.13412\n",
      "Basic Enclosure + HPWH + High Efficiency HP/Electric Backup        0.11090\n",
      "Enhanced Enclosure + HPWH + High Efficiency HP/Electric Backup     0.11018\n",
      "Basic Enclosure + High Efficiency Whole Home Electrification       0.09885\n",
      "Enhanced Enclosure + High Efficiency Whole Home Electrification    0.09842\n",
      "High Efficiency Whole Home Electrification                         0.08666\n",
      "High Efficiency Heat Pump with Electric Heat Backup                0.08112\n",
      "Electric Cooking                                                   0.06692\n",
      "Mininum Efficiency Heat Pump with Electric Heat Backup             0.06440\n",
      "Mininum Efficiency Heat Pump with Existing Heat Backup             0.06380\n",
      "Mininum Efficiency Whole Home Electrification                      0.04837\n",
      "Heat Pump Clothes Dryer                                            0.03142\n",
      "Induction Cooking                                                  0.01046\n",
      "Name: saving_emission.total_kgCO2e, dtype: float64\n"
     ]
    }
   ],
   "source": [
    "indicator ='saving_emission.total_kgCO2e'\n",
    "results = segment_savings_per_dollar(indicator, community_results) \n",
    "saving_results[f'segment1_{income}_saving_emission_per_dollar_invested_kgCO2e'] = results[0]\n",
    "saving_results[f'segment2_{income}_saving_emission_per_dollar_invested_kgCO2e'] = results[1]\n",
    "saving_results[f'segment3_{income}_saving_emission_per_dollar_invested_kgCO2e'] = results[2]\n",
    "saving_results[f'segment4_{income}_saving_emission_per_dollar_invested_kgCO2e'] = results[3]"
   ]
  },
  {
   "cell_type": "markdown",
   "id": "dca98489",
   "metadata": {},
   "source": [
    "## 3.3 Annual Total Savings"
   ]
  },
  {
   "cell_type": "markdown",
   "id": "b549310c",
   "metadata": {},
   "source": [
    "### Annual Total Bill Savings"
   ]
  },
  {
   "cell_type": "code",
   "execution_count": 97,
   "id": "fdc30441",
   "metadata": {},
   "outputs": [
    {
     "name": "stdout",
     "output_type": "stream",
     "text": [
      "segment1\n",
      "upgrade_name\n",
      "Enhanced Enclosure + High Efficiency Whole Home Electrification    2801542.7\n",
      "Basic Enclosure + High Efficiency Whole Home Electrification       2737990.8\n",
      "Enhanced Enclosure + HPWH + High Efficiency HP/Electric Backup     2704306.8\n",
      "Basic Enclosure + HPWH + High Efficiency HP/Electric Backup        2640755.0\n",
      "High Efficiency Whole Home Electrification                         2305542.6\n",
      "High Efficiency Heat Pump with Electric Heat Backup                1649513.7\n",
      "Enhanced Enclosure                                                 1163306.8\n",
      "Basic Enclosure                                                    1001038.4\n",
      "Mininum Efficiency Heat Pump with Electric Heat Backup              366513.9\n",
      "Mininum Efficiency Heat Pump with Existing Heat Backup              348061.5\n",
      "Mininum Efficiency Whole Home Electrification                       325213.0\n",
      "Heat Pump Water Heater                                              305608.6\n",
      "Heat Pump Clothes Dryer                                              78957.6\n",
      "Induction Cooking                                                    12880.2\n",
      "Electric Cooking                                                     -3239.3\n",
      "Name: saving_cbill.total_usd, dtype: float64\n",
      "segment2\n",
      "upgrade_name\n",
      "Enhanced Enclosure + High Efficiency Whole Home Electrification    3712388.0\n",
      "Enhanced Enclosure + HPWH + High Efficiency HP/Electric Backup     3618663.6\n",
      "Basic Enclosure + High Efficiency Whole Home Electrification       3588785.2\n",
      "Basic Enclosure + HPWH + High Efficiency HP/Electric Backup        3495060.8\n",
      "High Efficiency Whole Home Electrification                         2948907.6\n",
      "High Efficiency Heat Pump with Electric Heat Backup                2293981.1\n",
      "Enhanced Enclosure                                                 1623488.2\n",
      "Basic Enclosure                                                    1326972.2\n",
      "Mininum Efficiency Heat Pump with Existing Heat Backup              794900.6\n",
      "Mininum Efficiency Heat Pump with Electric Heat Backup              460387.8\n",
      "Mininum Efficiency Whole Home Electrification                       326066.3\n",
      "Heat Pump Water Heater                                              257007.4\n",
      "Heat Pump Clothes Dryer                                              64834.9\n",
      "Induction Cooking                                                     1899.3\n",
      "Electric Cooking                                                    -13387.5\n",
      "Name: saving_cbill.total_usd, dtype: float64\n",
      "segment3\n",
      "upgrade_name\n",
      "Enhanced Enclosure + High Efficiency Whole Home Electrification    2624812.0\n",
      "Basic Enclosure + High Efficiency Whole Home Electrification       2594535.9\n",
      "Enhanced Enclosure + HPWH + High Efficiency HP/Electric Backup     2534694.8\n",
      "Basic Enclosure + HPWH + High Efficiency HP/Electric Backup        2504418.7\n",
      "High Efficiency Whole Home Electrification                         2237952.2\n",
      "High Efficiency Heat Pump with Electric Heat Backup                1624458.0\n",
      "Enhanced Enclosure                                                 1030401.5\n",
      "Basic Enclosure                                                     981980.2\n",
      "Mininum Efficiency Heat Pump with Existing Heat Backup              559351.4\n",
      "Mininum Efficiency Heat Pump with Electric Heat Backup              553991.2\n",
      "Heat Pump Water Heater                                              283662.6\n",
      "Heat Pump Clothes Dryer                                              63594.3\n",
      "Mininum Efficiency Whole Home Electrification                        28499.5\n",
      "Induction Cooking                                                    10328.7\n",
      "Electric Cooking                                                     -6640.5\n",
      "Name: saving_cbill.total_usd, dtype: float64\n",
      "segment4\n",
      "upgrade_name\n",
      "Enhanced Enclosure + High Efficiency Whole Home Electrification    2994175.4\n",
      "Basic Enclosure + High Efficiency Whole Home Electrification       2954339.7\n",
      "Enhanced Enclosure + HPWH + High Efficiency HP/Electric Backup     2908743.4\n",
      "Basic Enclosure + HPWH + High Efficiency HP/Electric Backup        2868907.7\n",
      "High Efficiency Whole Home Electrification                         2591204.5\n",
      "High Efficiency Heat Pump with Electric Heat Backup                1790547.2\n",
      "Enhanced Enclosure                                                  947206.0\n",
      "Basic Enclosure                                                     814196.5\n",
      "Mininum Efficiency Heat Pump with Electric Heat Backup              732247.9\n",
      "Mininum Efficiency Heat Pump with Existing Heat Backup              724680.9\n",
      "Heat Pump Water Heater                                              479701.9\n",
      "Heat Pump Clothes Dryer                                              67018.8\n",
      "Mininum Efficiency Whole Home Electrification                        25881.9\n",
      "Induction Cooking                                                    18413.2\n",
      "Electric Cooking                                                       662.1\n",
      "Name: saving_cbill.total_usd, dtype: float64\n"
     ]
    }
   ],
   "source": [
    "indicator ='saving_cbill.total_usd'\n",
    "results = segment_annual_total_savings(indicator, community_results)\n",
    "saving_results[f'segment1_{income}_saving_bill_total_usd'] = results[0]\n",
    "saving_results[f'segment2_{income}_saving_bill_total_usd'] = results[1]\n",
    "saving_results[f'segment3_{income}_saving_bill_total_usd'] = results[2]\n",
    "saving_results[f'segment4_{income}_saving_bill_total_usd'] = results[3]"
   ]
  },
  {
   "cell_type": "markdown",
   "id": "394241c1",
   "metadata": {},
   "source": [
    "### Annual Total Energy Savings"
   ]
  },
  {
   "cell_type": "code",
   "execution_count": 98,
   "id": "8d5c8c52",
   "metadata": {},
   "outputs": [
    {
     "name": "stdout",
     "output_type": "stream",
     "text": [
      "segment1\n",
      "upgrade_name\n",
      "Enhanced Enclosure + High Efficiency Whole Home Electrification    195525.9\n",
      "Basic Enclosure + High Efficiency Whole Home Electrification       193618.0\n",
      "Enhanced Enclosure + HPWH + High Efficiency HP/Electric Backup     192226.2\n",
      "Basic Enclosure + HPWH + High Efficiency HP/Electric Backup        190318.4\n",
      "High Efficiency Whole Home Electrification                         180635.7\n",
      "High Efficiency Heat Pump with Electric Heat Backup                141717.7\n",
      "Mininum Efficiency Whole Home Electrification                      121185.0\n",
      "Mininum Efficiency Heat Pump with Electric Heat Backup             103211.4\n",
      "Enhanced Enclosure                                                  79058.1\n",
      "Mininum Efficiency Heat Pump with Existing Heat Backup              77001.3\n",
      "Basic Enclosure                                                     66553.6\n",
      "Heat Pump Water Heater                                              21988.3\n",
      "Heat Pump Clothes Dryer                                              2370.4\n",
      "Induction Cooking                                                     929.3\n",
      "Electric Cooking                                                      445.4\n",
      "Name: saving_energy.total_mmbtu, dtype: float64\n",
      "segment2\n",
      "upgrade_name\n",
      "Enhanced Enclosure + High Efficiency Whole Home Electrification    236998.4\n",
      "Basic Enclosure + High Efficiency Whole Home Electrification       233287.8\n",
      "Enhanced Enclosure + HPWH + High Efficiency HP/Electric Backup     232772.8\n",
      "Basic Enclosure + HPWH + High Efficiency HP/Electric Backup        229062.1\n",
      "High Efficiency Whole Home Electrification                         214078.3\n",
      "High Efficiency Heat Pump with Electric Heat Backup                176211.3\n",
      "Mininum Efficiency Whole Home Electrification                      135339.0\n",
      "Mininum Efficiency Heat Pump with Electric Heat Backup             121167.4\n",
      "Enhanced Enclosure                                                  98968.7\n",
      "Basic Enclosure                                                     82097.1\n",
      "Mininum Efficiency Heat Pump with Existing Heat Backup              70555.5\n",
      "Heat Pump Water Heater                                              17529.4\n",
      "Induction Cooking                                                    2279.3\n",
      "Heat Pump Clothes Dryer                                              1946.4\n",
      "Electric Cooking                                                     1820.4\n",
      "Name: saving_energy.total_mmbtu, dtype: float64\n",
      "segment3\n",
      "upgrade_name\n",
      "Enhanced Enclosure + High Efficiency Whole Home Electrification    144577.3\n",
      "Basic Enclosure + High Efficiency Whole Home Electrification       143668.4\n",
      "Enhanced Enclosure + HPWH + High Efficiency HP/Electric Backup     141252.1\n",
      "Basic Enclosure + HPWH + High Efficiency HP/Electric Backup        140343.2\n",
      "High Efficiency Whole Home Electrification                         132963.5\n",
      "High Efficiency Heat Pump with Electric Heat Backup                 99394.4\n",
      "Mininum Efficiency Heat Pump with Electric Heat Backup              67268.4\n",
      "Mininum Efficiency Whole Home Electrification                       66634.4\n",
      "Mininum Efficiency Heat Pump with Existing Heat Backup              61209.1\n",
      "Enhanced Enclosure                                                  53088.1\n",
      "Basic Enclosure                                                     48911.6\n",
      "Heat Pump Water Heater                                              19090.6\n",
      "Heat Pump Clothes Dryer                                              1909.1\n",
      "Induction Cooking                                                    1416.0\n",
      "Electric Cooking                                                      906.6\n",
      "Name: saving_energy.total_mmbtu, dtype: float64\n",
      "segment4\n",
      "upgrade_name\n",
      "Enhanced Enclosure + High Efficiency Whole Home Electrification    117382.8\n",
      "Basic Enclosure + High Efficiency Whole Home Electrification       116186.9\n",
      "Enhanced Enclosure + HPWH + High Efficiency HP/Electric Backup     113992.6\n",
      "Basic Enclosure + HPWH + High Efficiency HP/Electric Backup        112796.7\n",
      "High Efficiency Whole Home Electrification                         105285.1\n",
      "High Efficiency Heat Pump with Electric Heat Backup                 73556.0\n",
      "Mininum Efficiency Heat Pump with Electric Heat Backup              41785.0\n",
      "Mininum Efficiency Heat Pump with Existing Heat Backup              39939.1\n",
      "Enhanced Enclosure                                                  37102.2\n",
      "Basic Enclosure                                                     32735.5\n",
      "Mininum Efficiency Whole Home Electrification                       28272.8\n",
      "Heat Pump Water Heater                                              18629.7\n",
      "Heat Pump Clothes Dryer                                              2011.9\n",
      "Induction Cooking                                                    1378.3\n",
      "Electric Cooking                                                      845.4\n",
      "Name: saving_energy.total_mmbtu, dtype: float64\n"
     ]
    }
   ],
   "source": [
    "indicator ='saving_energy.total_mmbtu'\n",
    "results = segment_annual_total_savings(indicator, community_results)\n",
    "saving_results[f'segment1_{income}_saving_energy_total_mmbtu'] = results[0]\n",
    "saving_results[f'segment2_{income}_saving_energy_total_mmbtu'] = results[1]\n",
    "saving_results[f'segment3_{income}_saving_energy_total_mmbtu'] = results[2]\n",
    "saving_results[f'segment4_{income}_saving_energy_total_mmbtu'] = results[3]"
   ]
  },
  {
   "cell_type": "markdown",
   "id": "5763f90a",
   "metadata": {},
   "source": [
    "### Annual Total Emission Savings"
   ]
  },
  {
   "cell_type": "code",
   "execution_count": 99,
   "id": "f1023e8a",
   "metadata": {},
   "outputs": [
    {
     "name": "stdout",
     "output_type": "stream",
     "text": [
      "segment1\n",
      "upgrade_name\n",
      "Enhanced Enclosure + High Efficiency Whole Home Electrification    13949070.4\n",
      "Basic Enclosure + High Efficiency Whole Home Electrification       13732010.4\n",
      "Enhanced Enclosure + HPWH + High Efficiency HP/Electric Backup     13644854.6\n",
      "Basic Enclosure + HPWH + High Efficiency HP/Electric Backup        13427794.6\n",
      "High Efficiency Whole Home Electrification                         12248352.4\n",
      "High Efficiency Heat Pump with Electric Heat Backup                 9382693.5\n",
      "Enhanced Enclosure                                                  5797125.9\n",
      "Mininum Efficiency Whole Home Electrification                       5570971.7\n",
      "Mininum Efficiency Heat Pump with Electric Heat Backup              5038651.0\n",
      "Basic Enclosure                                                     4942323.5\n",
      "Mininum Efficiency Heat Pump with Existing Heat Backup              4020897.0\n",
      "Heat Pump Water Heater                                              1549342.6\n",
      "Heat Pump Clothes Dryer                                              237674.7\n",
      "Induction Cooking                                                     66541.1\n",
      "Electric Cooking                                                      18280.2\n",
      "Name: saving_emission.total_kgCO2e, dtype: float64\n",
      "segment2\n",
      "upgrade_name\n",
      "Enhanced Enclosure + High Efficiency Whole Home Electrification    17741861.9\n",
      "Enhanced Enclosure + HPWH + High Efficiency HP/Electric Backup     17439539.7\n",
      "Basic Enclosure + High Efficiency Whole Home Electrification       17313119.1\n",
      "Basic Enclosure + HPWH + High Efficiency HP/Electric Backup        17010796.8\n",
      "High Efficiency Whole Home Electrification                         15092004.3\n",
      "High Efficiency Heat Pump with Electric Heat Backup                12238617.1\n",
      "Enhanced Enclosure                                                  7652185.4\n",
      "Basic Enclosure                                                     6306861.1\n",
      "Mininum Efficiency Whole Home Electrification                       6177823.9\n",
      "Mininum Efficiency Heat Pump with Electric Heat Backup              5955394.3\n",
      "Mininum Efficiency Heat Pump with Existing Heat Backup              4765690.8\n",
      "Heat Pump Water Heater                                              1242130.0\n",
      "Heat Pump Clothes Dryer                                              189617.5\n",
      "Induction Cooking                                                    112704.7\n",
      "Electric Cooking                                                      66973.9\n",
      "Name: saving_emission.total_kgCO2e, dtype: float64\n",
      "segment3\n",
      "upgrade_name\n",
      "Enhanced Enclosure + High Efficiency Whole Home Electrification    11616075.2\n",
      "Basic Enclosure + High Efficiency Whole Home Electrification       11508156.9\n",
      "Enhanced Enclosure + HPWH + High Efficiency HP/Electric Backup     11342757.7\n",
      "Basic Enclosure + HPWH + High Efficiency HP/Electric Backup        11234839.4\n",
      "High Efficiency Whole Home Electrification                         10280049.1\n",
      "High Efficiency Heat Pump with Electric Heat Backup                 7740967.2\n",
      "Enhanced Enclosure                                                  4492792.7\n",
      "Basic Enclosure                                                     4212715.9\n",
      "Mininum Efficiency Heat Pump with Electric Heat Backup              4108634.2\n",
      "Mininum Efficiency Heat Pump with Existing Heat Backup              3931325.1\n",
      "Mininum Efficiency Whole Home Electrification                       2735304.8\n",
      "Heat Pump Water Heater                                              1355335.8\n",
      "Heat Pump Clothes Dryer                                              188397.9\n",
      "Induction Cooking                                                     84919.5\n",
      "Electric Cooking                                                      34604.6\n",
      "Name: saving_emission.total_kgCO2e, dtype: float64\n",
      "segment4\n",
      "upgrade_name\n",
      "Enhanced Enclosure + High Efficiency Whole Home Electrification    11144765.2\n",
      "Basic Enclosure + High Efficiency Whole Home Electrification       11010533.9\n",
      "Enhanced Enclosure + HPWH + High Efficiency HP/Electric Backup     10858142.3\n",
      "Basic Enclosure + HPWH + High Efficiency HP/Electric Backup        10723911.1\n",
      "High Efficiency Whole Home Electrification                          9751153.4\n",
      "High Efficiency Heat Pump with Electric Heat Backup                 6922912.4\n",
      "Enhanced Enclosure                                                  3606781.8\n",
      "Mininum Efficiency Heat Pump with Electric Heat Backup              3320901.6\n",
      "Mininum Efficiency Heat Pump with Existing Heat Backup              3285327.0\n",
      "Basic Enclosure                                                     3127181.1\n",
      "Heat Pump Water Heater                                              1676512.8\n",
      "Mininum Efficiency Whole Home Electrification                       1098732.5\n",
      "Heat Pump Clothes Dryer                                              199371.2\n",
      "Induction Cooking                                                     87251.6\n",
      "Electric Cooking                                                      34170.2\n",
      "Name: saving_emission.total_kgCO2e, dtype: float64\n"
     ]
    },
    {
     "name": "stderr",
     "output_type": "stream",
     "text": [
      "C:\\Users\\ylou2\\AppData\\Local\\Temp\\1\\ipykernel_17696\\3926536263.py:6: PerformanceWarning:\n",
      "\n",
      "DataFrame is highly fragmented.  This is usually the result of calling `frame.insert` many times, which has poor performance.  Consider joining all columns at once using pd.concat(axis=1) instead. To get a de-fragmented frame, use `newframe = frame.copy()`\n",
      "\n"
     ]
    }
   ],
   "source": [
    "indicator ='saving_emission.total_kgCO2e'\n",
    "results = segment_annual_total_savings(indicator, community_results)\n",
    "saving_results[f'segment1_{income}_saving_emission_total_kgCO2e'] = results[0]\n",
    "saving_results[f'segment2_{income}_saving_emission_total_kgCO2e'] = results[1]\n",
    "saving_results[f'segment3_{income}_saving_emission_total_kgCO2e'] = results[2]\n",
    "saving_results[f'segment4_{income}_saving_emission_total_kgCO2e'] = results[3]"
   ]
  },
  {
   "cell_type": "markdown",
   "id": "563da3e8",
   "metadata": {},
   "source": [
    "## 3.4 Annual Savings Per Dwelling Unit"
   ]
  },
  {
   "cell_type": "markdown",
   "id": "cc8ea738",
   "metadata": {},
   "source": [
    "### Annual Bill Savings Per Dwelling Unit"
   ]
  },
  {
   "cell_type": "code",
   "execution_count": 100,
   "id": "82aded52",
   "metadata": {},
   "outputs": [
    {
     "name": "stdout",
     "output_type": "stream",
     "text": [
      "segment1\n",
      "upgrade_name\n",
      "Enhanced Enclosure + High Efficiency Whole Home Electrification    686.4\n",
      "Basic Enclosure + High Efficiency Whole Home Electrification       670.8\n",
      "Enhanced Enclosure + HPWH + High Efficiency HP/Electric Backup     662.6\n",
      "Basic Enclosure + HPWH + High Efficiency HP/Electric Backup        647.0\n",
      "High Efficiency Whole Home Electrification                         564.9\n",
      "High Efficiency Heat Pump with Electric Heat Backup                404.1\n",
      "Enhanced Enclosure                                                 285.0\n",
      "Basic Enclosure                                                    245.3\n",
      "Mininum Efficiency Whole Home Electrification                       98.1\n",
      "Mininum Efficiency Heat Pump with Electric Heat Backup              89.8\n",
      "Mininum Efficiency Heat Pump with Existing Heat Backup              85.3\n",
      "Heat Pump Water Heater                                              74.9\n",
      "Heat Pump Clothes Dryer                                             25.8\n",
      "Induction Cooking                                                    3.2\n",
      "Electric Cooking                                                   -12.7\n",
      "Name: saving_cbill.total_usd, dtype: float64\n",
      "segment2\n",
      "upgrade_name\n",
      "Enhanced Enclosure + High Efficiency Whole Home Electrification    970.2\n",
      "Enhanced Enclosure + HPWH + High Efficiency HP/Electric Backup     945.7\n",
      "Basic Enclosure + High Efficiency Whole Home Electrification       937.9\n",
      "Basic Enclosure + HPWH + High Efficiency HP/Electric Backup        913.4\n",
      "High Efficiency Whole Home Electrification                         770.7\n",
      "High Efficiency Heat Pump with Electric Heat Backup                599.5\n",
      "Enhanced Enclosure                                                 424.3\n",
      "Basic Enclosure                                                    346.8\n",
      "Mininum Efficiency Heat Pump with Existing Heat Backup             207.7\n",
      "Mininum Efficiency Whole Home Electrification                      142.0\n",
      "Mininum Efficiency Heat Pump with Electric Heat Backup             120.3\n",
      "Heat Pump Water Heater                                              72.0\n",
      "Heat Pump Clothes Dryer                                             28.2\n",
      "Induction Cooking                                                    0.5\n",
      "Electric Cooking                                                   -10.5\n",
      "Name: saving_cbill.total_usd, dtype: float64\n",
      "segment3\n",
      "upgrade_name\n",
      "Enhanced Enclosure + High Efficiency Whole Home Electrification    541.6\n",
      "Basic Enclosure + High Efficiency Whole Home Electrification       535.3\n",
      "Enhanced Enclosure + HPWH + High Efficiency HP/Electric Backup     523.0\n",
      "Basic Enclosure + HPWH + High Efficiency HP/Electric Backup        516.7\n",
      "High Efficiency Whole Home Electrification                         461.7\n",
      "High Efficiency Heat Pump with Electric Heat Backup                335.2\n",
      "Enhanced Enclosure                                                 212.6\n",
      "Basic Enclosure                                                    202.6\n",
      "Mininum Efficiency Heat Pump with Existing Heat Backup             115.4\n",
      "Mininum Efficiency Heat Pump with Electric Heat Backup             114.3\n",
      "Heat Pump Water Heater                                              58.5\n",
      "Heat Pump Clothes Dryer                                             22.7\n",
      "Mininum Efficiency Whole Home Electrification                       10.2\n",
      "Induction Cooking                                                    2.2\n",
      "Electric Cooking                                                    -8.7\n",
      "Name: saving_cbill.total_usd, dtype: float64\n",
      "segment4\n",
      "upgrade_name\n",
      "Enhanced Enclosure + High Efficiency Whole Home Electrification    617.8\n",
      "Basic Enclosure + High Efficiency Whole Home Electrification       609.5\n",
      "Enhanced Enclosure + HPWH + High Efficiency HP/Electric Backup     600.1\n",
      "Basic Enclosure + HPWH + High Efficiency HP/Electric Backup        591.9\n",
      "High Efficiency Whole Home Electrification                         534.6\n",
      "High Efficiency Heat Pump with Electric Heat Backup                369.4\n",
      "Enhanced Enclosure                                                 206.3\n",
      "Basic Enclosure                                                    177.3\n",
      "Mininum Efficiency Heat Pump with Electric Heat Backup             151.1\n",
      "Mininum Efficiency Heat Pump with Existing Heat Backup             149.5\n",
      "Heat Pump Water Heater                                              99.0\n",
      "Heat Pump Clothes Dryer                                             23.9\n",
      "Mininum Efficiency Whole Home Electrification                       11.3\n",
      "Induction Cooking                                                    3.8\n",
      "Electric Cooking                                                     1.3\n",
      "Name: saving_cbill.total_usd, dtype: float64\n"
     ]
    },
    {
     "name": "stderr",
     "output_type": "stream",
     "text": [
      "C:\\Users\\ylou2\\AppData\\Local\\Temp\\1\\ipykernel_17696\\3071005957.py:3: PerformanceWarning:\n",
      "\n",
      "DataFrame is highly fragmented.  This is usually the result of calling `frame.insert` many times, which has poor performance.  Consider joining all columns at once using pd.concat(axis=1) instead. To get a de-fragmented frame, use `newframe = frame.copy()`\n",
      "\n",
      "C:\\Users\\ylou2\\AppData\\Local\\Temp\\1\\ipykernel_17696\\3071005957.py:4: PerformanceWarning:\n",
      "\n",
      "DataFrame is highly fragmented.  This is usually the result of calling `frame.insert` many times, which has poor performance.  Consider joining all columns at once using pd.concat(axis=1) instead. To get a de-fragmented frame, use `newframe = frame.copy()`\n",
      "\n",
      "C:\\Users\\ylou2\\AppData\\Local\\Temp\\1\\ipykernel_17696\\3071005957.py:5: PerformanceWarning:\n",
      "\n",
      "DataFrame is highly fragmented.  This is usually the result of calling `frame.insert` many times, which has poor performance.  Consider joining all columns at once using pd.concat(axis=1) instead. To get a de-fragmented frame, use `newframe = frame.copy()`\n",
      "\n",
      "C:\\Users\\ylou2\\AppData\\Local\\Temp\\1\\ipykernel_17696\\3071005957.py:6: PerformanceWarning:\n",
      "\n",
      "DataFrame is highly fragmented.  This is usually the result of calling `frame.insert` many times, which has poor performance.  Consider joining all columns at once using pd.concat(axis=1) instead. To get a de-fragmented frame, use `newframe = frame.copy()`\n",
      "\n"
     ]
    }
   ],
   "source": [
    "indicator ='saving_cbill.total_usd'\n",
    "results = segment_mean_savings(indicator, community_results)\n",
    "saving_results[f'segment1_{income}_saving_bill_mean_usd'] = results[0]\n",
    "saving_results[f'segment2_{income}_saving_bill_mean_usd'] = results[1]\n",
    "saving_results[f'segment3_{income}_saving_bill_mean_usd'] = results[2]\n",
    "saving_results[f'segment4_{income}_saving_bill_mean_usd'] = results[3]"
   ]
  },
  {
   "cell_type": "markdown",
   "id": "7b3bbdc3",
   "metadata": {},
   "source": [
    "### Annual Energy Savings Per Dwelling Unit"
   ]
  },
  {
   "cell_type": "code",
   "execution_count": 101,
   "id": "d554f5e1",
   "metadata": {},
   "outputs": [
    {
     "name": "stdout",
     "output_type": "stream",
     "text": [
      "segment1\n",
      "upgrade_name\n",
      "Enhanced Enclosure + High Efficiency Whole Home Electrification    47.9\n",
      "Basic Enclosure + High Efficiency Whole Home Electrification       47.4\n",
      "Enhanced Enclosure + HPWH + High Efficiency HP/Electric Backup     47.1\n",
      "Basic Enclosure + HPWH + High Efficiency HP/Electric Backup        46.6\n",
      "High Efficiency Whole Home Electrification                         44.3\n",
      "Mininum Efficiency Whole Home Electrification                      36.5\n",
      "High Efficiency Heat Pump with Electric Heat Backup                34.7\n",
      "Mininum Efficiency Heat Pump with Electric Heat Backup             25.3\n",
      "Enhanced Enclosure                                                 19.4\n",
      "Mininum Efficiency Heat Pump with Existing Heat Backup             18.9\n",
      "Basic Enclosure                                                    16.3\n",
      "Heat Pump Water Heater                                              5.4\n",
      "Electric Cooking                                                    1.7\n",
      "Heat Pump Clothes Dryer                                             0.8\n",
      "Induction Cooking                                                   0.2\n",
      "Name: saving_energy.total_mmbtu, dtype: float64\n",
      "segment2\n",
      "upgrade_name\n",
      "Enhanced Enclosure + High Efficiency Whole Home Electrification    61.9\n",
      "Basic Enclosure + High Efficiency Whole Home Electrification       61.0\n",
      "Enhanced Enclosure + HPWH + High Efficiency HP/Electric Backup     60.8\n",
      "Basic Enclosure + HPWH + High Efficiency HP/Electric Backup        59.9\n",
      "Mininum Efficiency Whole Home Electrification                      58.9\n",
      "High Efficiency Whole Home Electrification                         55.9\n",
      "High Efficiency Heat Pump with Electric Heat Backup                46.1\n",
      "Mininum Efficiency Heat Pump with Electric Heat Backup             31.7\n",
      "Enhanced Enclosure                                                 25.9\n",
      "Basic Enclosure                                                    21.5\n",
      "Mininum Efficiency Heat Pump with Existing Heat Backup             18.4\n",
      "Heat Pump Water Heater                                              4.9\n",
      "Electric Cooking                                                    1.4\n",
      "Heat Pump Clothes Dryer                                             0.8\n",
      "Induction Cooking                                                   0.6\n",
      "Name: saving_energy.total_mmbtu, dtype: float64\n",
      "segment3\n",
      "upgrade_name\n",
      "Enhanced Enclosure + High Efficiency Whole Home Electrification    29.8\n",
      "Basic Enclosure + High Efficiency Whole Home Electrification       29.6\n",
      "Enhanced Enclosure + HPWH + High Efficiency HP/Electric Backup     29.1\n",
      "Basic Enclosure + HPWH + High Efficiency HP/Electric Backup        29.0\n",
      "High Efficiency Whole Home Electrification                         27.4\n",
      "Mininum Efficiency Whole Home Electrification                      23.7\n",
      "High Efficiency Heat Pump with Electric Heat Backup                20.5\n",
      "Mininum Efficiency Heat Pump with Electric Heat Backup             13.9\n",
      "Mininum Efficiency Heat Pump with Existing Heat Backup             12.6\n",
      "Enhanced Enclosure                                                 11.0\n",
      "Basic Enclosure                                                    10.1\n",
      "Heat Pump Water Heater                                              3.9\n",
      "Electric Cooking                                                    1.2\n",
      "Heat Pump Clothes Dryer                                             0.7\n",
      "Induction Cooking                                                   0.3\n",
      "Name: saving_energy.total_mmbtu, dtype: float64\n",
      "segment4\n",
      "upgrade_name\n",
      "Enhanced Enclosure + High Efficiency Whole Home Electrification    24.2\n",
      "Basic Enclosure + High Efficiency Whole Home Electrification       24.0\n",
      "Enhanced Enclosure + HPWH + High Efficiency HP/Electric Backup     23.5\n",
      "Basic Enclosure + HPWH + High Efficiency HP/Electric Backup        23.3\n",
      "High Efficiency Whole Home Electrification                         21.7\n",
      "High Efficiency Heat Pump with Electric Heat Backup                15.2\n",
      "Mininum Efficiency Whole Home Electrification                      12.3\n",
      "Mininum Efficiency Heat Pump with Electric Heat Backup              8.6\n",
      "Mininum Efficiency Heat Pump with Existing Heat Backup              8.2\n",
      "Enhanced Enclosure                                                  8.1\n",
      "Basic Enclosure                                                     7.1\n",
      "Heat Pump Water Heater                                              3.8\n",
      "Electric Cooking                                                    1.7\n",
      "Heat Pump Clothes Dryer                                             0.7\n",
      "Induction Cooking                                                   0.3\n",
      "Name: saving_energy.total_mmbtu, dtype: float64\n"
     ]
    },
    {
     "name": "stderr",
     "output_type": "stream",
     "text": [
      "C:\\Users\\ylou2\\AppData\\Local\\Temp\\1\\ipykernel_17696\\396568384.py:3: PerformanceWarning:\n",
      "\n",
      "DataFrame is highly fragmented.  This is usually the result of calling `frame.insert` many times, which has poor performance.  Consider joining all columns at once using pd.concat(axis=1) instead. To get a de-fragmented frame, use `newframe = frame.copy()`\n",
      "\n",
      "C:\\Users\\ylou2\\AppData\\Local\\Temp\\1\\ipykernel_17696\\396568384.py:4: PerformanceWarning:\n",
      "\n",
      "DataFrame is highly fragmented.  This is usually the result of calling `frame.insert` many times, which has poor performance.  Consider joining all columns at once using pd.concat(axis=1) instead. To get a de-fragmented frame, use `newframe = frame.copy()`\n",
      "\n",
      "C:\\Users\\ylou2\\AppData\\Local\\Temp\\1\\ipykernel_17696\\396568384.py:5: PerformanceWarning:\n",
      "\n",
      "DataFrame is highly fragmented.  This is usually the result of calling `frame.insert` many times, which has poor performance.  Consider joining all columns at once using pd.concat(axis=1) instead. To get a de-fragmented frame, use `newframe = frame.copy()`\n",
      "\n",
      "C:\\Users\\ylou2\\AppData\\Local\\Temp\\1\\ipykernel_17696\\396568384.py:6: PerformanceWarning:\n",
      "\n",
      "DataFrame is highly fragmented.  This is usually the result of calling `frame.insert` many times, which has poor performance.  Consider joining all columns at once using pd.concat(axis=1) instead. To get a de-fragmented frame, use `newframe = frame.copy()`\n",
      "\n"
     ]
    }
   ],
   "source": [
    "indicator ='saving_energy.total_mmbtu'\n",
    "results = segment_mean_savings(indicator, community_results) \n",
    "saving_results[f'segment1_{income}_saving_energy_mean_mmbtu'] = results[0]\n",
    "saving_results[f'segment2_{income}_saving_energy_mean_mmbtu'] = results[1]\n",
    "saving_results[f'segment3_{income}_saving_energy_mean_mmbtu'] = results[2]\n",
    "saving_results[f'segment4_{income}_saving_energy_mean_mmbtu'] = results[3]"
   ]
  },
  {
   "cell_type": "markdown",
   "id": "1df2744e",
   "metadata": {},
   "source": [
    "### Annual Percentage Energy Savings Per Dwelling Unit"
   ]
  },
  {
   "cell_type": "code",
   "execution_count": 102,
   "id": "75fce0ec",
   "metadata": {},
   "outputs": [
    {
     "name": "stdout",
     "output_type": "stream",
     "text": [
      "segment1\n",
      "upgrade_name\n",
      "Enhanced Enclosure + High Efficiency Whole Home Electrification    64.4\n",
      "Basic Enclosure + High Efficiency Whole Home Electrification       63.9\n",
      "Enhanced Enclosure + HPWH + High Efficiency HP/Electric Backup     63.3\n",
      "Basic Enclosure + HPWH + High Efficiency HP/Electric Backup        62.8\n",
      "High Efficiency Whole Home Electrification                         59.5\n",
      "Mininum Efficiency Whole Home Electrification                      46.7\n",
      "High Efficiency Heat Pump with Electric Heat Backup                46.4\n",
      "Mininum Efficiency Heat Pump with Electric Heat Backup             33.0\n",
      "Enhanced Enclosure                                                 25.1\n",
      "Mininum Efficiency Heat Pump with Existing Heat Backup             24.2\n",
      "Basic Enclosure                                                    21.8\n",
      "Heat Pump Water Heater                                              7.6\n",
      "Electric Cooking                                                    1.5\n",
      "Heat Pump Clothes Dryer                                             1.1\n",
      "Induction Cooking                                                   0.3\n",
      "Name: pct_saving_energy.total_%, dtype: float64\n",
      "segment2\n",
      "upgrade_name\n",
      "Enhanced Enclosure + High Efficiency Whole Home Electrification    61.7\n",
      "Basic Enclosure + High Efficiency Whole Home Electrification       60.8\n",
      "Enhanced Enclosure + HPWH + High Efficiency HP/Electric Backup     60.4\n",
      "Basic Enclosure + HPWH + High Efficiency HP/Electric Backup        59.4\n",
      "High Efficiency Whole Home Electrification                         55.8\n",
      "Mininum Efficiency Whole Home Electrification                      48.3\n",
      "High Efficiency Heat Pump with Electric Heat Backup                44.6\n",
      "Mininum Efficiency Heat Pump with Electric Heat Backup             28.9\n",
      "Enhanced Enclosure                                                 23.3\n",
      "Mininum Efficiency Heat Pump with Existing Heat Backup             20.6\n",
      "Basic Enclosure                                                    19.5\n",
      "Heat Pump Water Heater                                              6.2\n",
      "Electric Cooking                                                    1.4\n",
      "Heat Pump Clothes Dryer                                             1.2\n",
      "Induction Cooking                                                   0.6\n",
      "Name: pct_saving_energy.total_%, dtype: float64\n",
      "segment3\n",
      "upgrade_name\n",
      "Enhanced Enclosure + High Efficiency Whole Home Electrification    57.8\n",
      "Basic Enclosure + High Efficiency Whole Home Electrification       57.6\n",
      "Enhanced Enclosure + HPWH + High Efficiency HP/Electric Backup     56.4\n",
      "Basic Enclosure + HPWH + High Efficiency HP/Electric Backup        56.2\n",
      "High Efficiency Whole Home Electrification                         53.2\n",
      "Mininum Efficiency Whole Home Electrification                      42.5\n",
      "High Efficiency Heat Pump with Electric Heat Backup                39.1\n",
      "Mininum Efficiency Heat Pump with Electric Heat Backup             25.8\n",
      "Mininum Efficiency Heat Pump with Existing Heat Backup             23.4\n",
      "Enhanced Enclosure                                                 21.2\n",
      "Basic Enclosure                                                    20.2\n",
      "Heat Pump Water Heater                                              8.1\n",
      "Electric Cooking                                                    2.1\n",
      "Heat Pump Clothes Dryer                                             1.4\n",
      "Induction Cooking                                                   0.6\n",
      "Name: pct_saving_energy.total_%, dtype: float64\n",
      "segment4\n",
      "upgrade_name\n",
      "Enhanced Enclosure + High Efficiency Whole Home Electrification    49.5\n",
      "Basic Enclosure + High Efficiency Whole Home Electrification       48.9\n",
      "Enhanced Enclosure + HPWH + High Efficiency HP/Electric Backup     47.9\n",
      "Basic Enclosure + HPWH + High Efficiency HP/Electric Backup        47.3\n",
      "High Efficiency Whole Home Electrification                         44.9\n",
      "High Efficiency Heat Pump with Electric Heat Backup                30.0\n",
      "Mininum Efficiency Whole Home Electrification                      24.7\n",
      "Mininum Efficiency Heat Pump with Electric Heat Backup             16.6\n",
      "Enhanced Enclosure                                                 16.5\n",
      "Mininum Efficiency Heat Pump with Existing Heat Backup             15.8\n",
      "Basic Enclosure                                                    14.0\n",
      "Heat Pump Water Heater                                              8.9\n",
      "Electric Cooking                                                    4.1\n",
      "Heat Pump Clothes Dryer                                             1.5\n",
      "Induction Cooking                                                   0.7\n",
      "Name: pct_saving_energy.total_%, dtype: float64\n"
     ]
    },
    {
     "name": "stderr",
     "output_type": "stream",
     "text": [
      "C:\\Users\\ylou2\\AppData\\Local\\Temp\\1\\ipykernel_17696\\1358844843.py:3: PerformanceWarning:\n",
      "\n",
      "DataFrame is highly fragmented.  This is usually the result of calling `frame.insert` many times, which has poor performance.  Consider joining all columns at once using pd.concat(axis=1) instead. To get a de-fragmented frame, use `newframe = frame.copy()`\n",
      "\n",
      "C:\\Users\\ylou2\\AppData\\Local\\Temp\\1\\ipykernel_17696\\1358844843.py:4: PerformanceWarning:\n",
      "\n",
      "DataFrame is highly fragmented.  This is usually the result of calling `frame.insert` many times, which has poor performance.  Consider joining all columns at once using pd.concat(axis=1) instead. To get a de-fragmented frame, use `newframe = frame.copy()`\n",
      "\n",
      "C:\\Users\\ylou2\\AppData\\Local\\Temp\\1\\ipykernel_17696\\1358844843.py:5: PerformanceWarning:\n",
      "\n",
      "DataFrame is highly fragmented.  This is usually the result of calling `frame.insert` many times, which has poor performance.  Consider joining all columns at once using pd.concat(axis=1) instead. To get a de-fragmented frame, use `newframe = frame.copy()`\n",
      "\n",
      "C:\\Users\\ylou2\\AppData\\Local\\Temp\\1\\ipykernel_17696\\1358844843.py:6: PerformanceWarning:\n",
      "\n",
      "DataFrame is highly fragmented.  This is usually the result of calling `frame.insert` many times, which has poor performance.  Consider joining all columns at once using pd.concat(axis=1) instead. To get a de-fragmented frame, use `newframe = frame.copy()`\n",
      "\n"
     ]
    }
   ],
   "source": [
    "indicator ='pct_saving_energy.total_%'\n",
    "results = segment_mean_savings(indicator, community_results)\n",
    "saving_results[f'segment1_{income}_pct_saving_energy_mean_%'] = results[0]\n",
    "saving_results[f'segment2_{income}_pct_saving_energy_mean_%'] = results[1]\n",
    "saving_results[f'segment3_{income}_pct_saving_energy_mean_%'] = results[2]\n",
    "saving_results[f'segment4_{income}_pct_saving_energy_mean_%'] = results[3]"
   ]
  },
  {
   "cell_type": "markdown",
   "id": "d2b75959",
   "metadata": {},
   "source": [
    "### Annual Emission Savings Per Dwelling Unit"
   ]
  },
  {
   "cell_type": "code",
   "execution_count": 103,
   "id": "564427ed",
   "metadata": {},
   "outputs": [
    {
     "name": "stdout",
     "output_type": "stream",
     "text": [
      "segment1\n",
      "upgrade_name\n",
      "Enhanced Enclosure + High Efficiency Whole Home Electrification    3417.6\n",
      "Basic Enclosure + High Efficiency Whole Home Electrification       3364.4\n",
      "Enhanced Enclosure + HPWH + High Efficiency HP/Electric Backup     3343.1\n",
      "Basic Enclosure + HPWH + High Efficiency HP/Electric Backup        3289.9\n",
      "High Efficiency Whole Home Electrification                         3000.9\n",
      "High Efficiency Heat Pump with Electric Heat Backup                2298.8\n",
      "Mininum Efficiency Whole Home Electrification                      1679.9\n",
      "Enhanced Enclosure                                                 1420.3\n",
      "Mininum Efficiency Heat Pump with Electric Heat Backup             1234.5\n",
      "Basic Enclosure                                                    1210.9\n",
      "Mininum Efficiency Heat Pump with Existing Heat Backup              985.1\n",
      "Heat Pump Water Heater                                              379.6\n",
      "Heat Pump Clothes Dryer                                              77.6\n",
      "Electric Cooking                                                     71.7\n",
      "Induction Cooking                                                    16.3\n",
      "Name: saving_emission.total_kgCO2e, dtype: float64\n",
      "segment2\n",
      "upgrade_name\n",
      "Enhanced Enclosure + High Efficiency Whole Home Electrification    4636.6\n",
      "Enhanced Enclosure + HPWH + High Efficiency HP/Electric Backup     4557.6\n",
      "Basic Enclosure + High Efficiency Whole Home Electrification       4524.6\n",
      "Basic Enclosure + HPWH + High Efficiency HP/Electric Backup        4445.6\n",
      "High Efficiency Whole Home Electrification                         3944.1\n",
      "High Efficiency Heat Pump with Electric Heat Backup                3198.4\n",
      "Mininum Efficiency Whole Home Electrification                      2690.8\n",
      "Enhanced Enclosure                                                 1999.8\n",
      "Basic Enclosure                                                    1648.2\n",
      "Mininum Efficiency Heat Pump with Electric Heat Backup             1556.4\n",
      "Mininum Efficiency Heat Pump with Existing Heat Backup             1245.5\n",
      "Heat Pump Water Heater                                              347.8\n",
      "Heat Pump Clothes Dryer                                              82.6\n",
      "Electric Cooking                                                     52.5\n",
      "Induction Cooking                                                    29.5\n",
      "Name: saving_emission.total_kgCO2e, dtype: float64\n",
      "segment3\n",
      "upgrade_name\n",
      "Enhanced Enclosure + High Efficiency Whole Home Electrification    2396.6\n",
      "Basic Enclosure + High Efficiency Whole Home Electrification       2374.4\n",
      "Enhanced Enclosure + HPWH + High Efficiency HP/Electric Backup     2340.2\n",
      "Basic Enclosure + HPWH + High Efficiency HP/Electric Backup        2318.0\n",
      "High Efficiency Whole Home Electrification                         2121.0\n",
      "High Efficiency Heat Pump with Electric Heat Backup                1597.1\n",
      "Mininum Efficiency Whole Home Electrification                       974.8\n",
      "Enhanced Enclosure                                                  927.0\n",
      "Basic Enclosure                                                     869.2\n",
      "Mininum Efficiency Heat Pump with Electric Heat Backup              847.7\n",
      "Mininum Efficiency Heat Pump with Existing Heat Backup              811.1\n",
      "Heat Pump Water Heater                                              279.6\n",
      "Heat Pump Clothes Dryer                                              67.1\n",
      "Electric Cooking                                                     45.2\n",
      "Induction Cooking                                                    18.5\n",
      "Name: saving_emission.total_kgCO2e, dtype: float64\n",
      "segment4\n",
      "upgrade_name\n",
      "Enhanced Enclosure + High Efficiency Whole Home Electrification    2299.4\n",
      "Basic Enclosure + High Efficiency Whole Home Electrification       2271.7\n",
      "Enhanced Enclosure + HPWH + High Efficiency HP/Electric Backup     2240.3\n",
      "Basic Enclosure + HPWH + High Efficiency HP/Electric Backup        2212.6\n",
      "High Efficiency Whole Home Electrification                         2011.9\n",
      "High Efficiency Heat Pump with Electric Heat Backup                1428.3\n",
      "Enhanced Enclosure                                                  785.5\n",
      "Mininum Efficiency Heat Pump with Electric Heat Backup              685.2\n",
      "Basic Enclosure                                                     681.0\n",
      "Mininum Efficiency Heat Pump with Existing Heat Backup              677.8\n",
      "Mininum Efficiency Whole Home Electrification                       478.6\n",
      "Heat Pump Water Heater                                              345.9\n",
      "Heat Pump Clothes Dryer                                              71.1\n",
      "Electric Cooking                                                     67.0\n",
      "Induction Cooking                                                    18.0\n",
      "Name: saving_emission.total_kgCO2e, dtype: float64\n"
     ]
    },
    {
     "name": "stderr",
     "output_type": "stream",
     "text": [
      "C:\\Users\\ylou2\\AppData\\Local\\Temp\\1\\ipykernel_17696\\624873452.py:3: PerformanceWarning:\n",
      "\n",
      "DataFrame is highly fragmented.  This is usually the result of calling `frame.insert` many times, which has poor performance.  Consider joining all columns at once using pd.concat(axis=1) instead. To get a de-fragmented frame, use `newframe = frame.copy()`\n",
      "\n",
      "C:\\Users\\ylou2\\AppData\\Local\\Temp\\1\\ipykernel_17696\\624873452.py:4: PerformanceWarning:\n",
      "\n",
      "DataFrame is highly fragmented.  This is usually the result of calling `frame.insert` many times, which has poor performance.  Consider joining all columns at once using pd.concat(axis=1) instead. To get a de-fragmented frame, use `newframe = frame.copy()`\n",
      "\n",
      "C:\\Users\\ylou2\\AppData\\Local\\Temp\\1\\ipykernel_17696\\624873452.py:5: PerformanceWarning:\n",
      "\n",
      "DataFrame is highly fragmented.  This is usually the result of calling `frame.insert` many times, which has poor performance.  Consider joining all columns at once using pd.concat(axis=1) instead. To get a de-fragmented frame, use `newframe = frame.copy()`\n",
      "\n",
      "C:\\Users\\ylou2\\AppData\\Local\\Temp\\1\\ipykernel_17696\\624873452.py:6: PerformanceWarning:\n",
      "\n",
      "DataFrame is highly fragmented.  This is usually the result of calling `frame.insert` many times, which has poor performance.  Consider joining all columns at once using pd.concat(axis=1) instead. To get a de-fragmented frame, use `newframe = frame.copy()`\n",
      "\n"
     ]
    }
   ],
   "source": [
    "indicator ='saving_emission.total_kgCO2e'\n",
    "results = segment_mean_savings(indicator, community_results)\n",
    "saving_results[f'segment1_{income}_saving_emission_mean_kgCO2e'] = results[0]\n",
    "saving_results[f'segment2_{income}_saving_emission_mean_kgCO2e'] = results[1]\n",
    "saving_results[f'segment3_{income}_saving_emission_mean_kgCO2e'] = results[2]\n",
    "saving_results[f'segment4_{income}_saving_emission_mean_kgCO2e'] = results[3]"
   ]
  },
  {
   "cell_type": "markdown",
   "id": "1a6cb1c1",
   "metadata": {},
   "source": [
    "## 3.5. Pecent Stock with Positive and Negtive Savings"
   ]
  },
  {
   "cell_type": "markdown",
   "id": "ad9fca17",
   "metadata": {},
   "source": [
    "### Segment 1"
   ]
  },
  {
   "cell_type": "code",
   "execution_count": 104,
   "id": "a4c6dfcc",
   "metadata": {},
   "outputs": [
    {
     "data": {
      "application/vnd.plotly.v1+json": {
       "config": {
        "plotlyServerURL": "https://plot.ly"
       },
       "data": [
        {
         "marker": {
          "color": "red"
         },
         "name": "Negative",
         "orientation": "h",
         "text": [
          1,
          0.38461538461538464,
          0.375,
          0.3125,
          0.0625,
          0,
          0,
          0,
          0,
          0,
          0,
          0,
          0,
          0,
          0
         ],
         "textposition": "inside",
         "texttemplate": "%{text:.0%}",
         "type": "bar",
         "x": [
          1,
          0.38461538461538464,
          0.375,
          0.3125,
          0.0625,
          0,
          0,
          0,
          0,
          0,
          0,
          0,
          0,
          0,
          0
         ],
         "xaxis": "x",
         "y": [
          "Electric Cooking",
          "Mininum Efficiency Whole Home Electrification",
          "Mininum Efficiency Heat Pump with Electric Heat Backup",
          "Mininum Efficiency Heat Pump with Existing Heat Backup",
          "Induction Cooking",
          "Basic Enclosure",
          "Basic Enclosure + HPWH + High Efficiency HP/Electric Backup",
          "Basic Enclosure + High Efficiency Whole Home Electrification",
          "Enhanced Enclosure",
          "Enhanced Enclosure + HPWH + High Efficiency HP/Electric Backup",
          "Enhanced Enclosure + High Efficiency Whole Home Electrification",
          "Heat Pump Clothes Dryer",
          "Heat Pump Water Heater",
          "High Efficiency Heat Pump with Electric Heat Backup",
          "High Efficiency Whole Home Electrification"
         ],
         "yaxis": "y"
        },
        {
         "marker": {
          "color": "green"
         },
         "name": "Positive",
         "orientation": "h",
         "text": [
          0,
          0.6153846153846154,
          0.625,
          0.6875,
          0.9375,
          1,
          1,
          1,
          1,
          1,
          1,
          1,
          1,
          1,
          1
         ],
         "textposition": "inside",
         "texttemplate": "%{text:.0%}",
         "type": "bar",
         "x": [
          0,
          0.6153846153846154,
          0.625,
          0.6875,
          0.9375,
          1,
          1,
          1,
          1,
          1,
          1,
          1,
          1,
          1,
          1
         ],
         "xaxis": "x",
         "y": [
          "Electric Cooking",
          "Mininum Efficiency Whole Home Electrification",
          "Mininum Efficiency Heat Pump with Electric Heat Backup",
          "Mininum Efficiency Heat Pump with Existing Heat Backup",
          "Induction Cooking",
          "Basic Enclosure",
          "Basic Enclosure + HPWH + High Efficiency HP/Electric Backup",
          "Basic Enclosure + High Efficiency Whole Home Electrification",
          "Enhanced Enclosure",
          "Enhanced Enclosure + HPWH + High Efficiency HP/Electric Backup",
          "Enhanced Enclosure + High Efficiency Whole Home Electrification",
          "Heat Pump Clothes Dryer",
          "Heat Pump Water Heater",
          "High Efficiency Heat Pump with Electric Heat Backup",
          "High Efficiency Whole Home Electrification"
         ],
         "yaxis": "y"
        },
        {
         "marker": {
          "color": "red"
         },
         "orientation": "h",
         "showlegend": false,
         "text": [
          0,
          0.07692307692307693,
          0.125,
          0.1875,
          0,
          0,
          0,
          0,
          0,
          0,
          0,
          0,
          0,
          0,
          0
         ],
         "textposition": "inside",
         "texttemplate": "%{text:.0%}",
         "type": "bar",
         "x": [
          0,
          0.07692307692307693,
          0.125,
          0.1875,
          0,
          0,
          0,
          0,
          0,
          0,
          0,
          0,
          0,
          0,
          0
         ],
         "xaxis": "x2",
         "y": [
          "Electric Cooking",
          "Mininum Efficiency Whole Home Electrification",
          "Mininum Efficiency Heat Pump with Electric Heat Backup",
          "Mininum Efficiency Heat Pump with Existing Heat Backup",
          "Induction Cooking",
          "Basic Enclosure",
          "Basic Enclosure + HPWH + High Efficiency HP/Electric Backup",
          "Basic Enclosure + High Efficiency Whole Home Electrification",
          "Enhanced Enclosure",
          "Enhanced Enclosure + HPWH + High Efficiency HP/Electric Backup",
          "Enhanced Enclosure + High Efficiency Whole Home Electrification",
          "Heat Pump Clothes Dryer",
          "Heat Pump Water Heater",
          "High Efficiency Heat Pump with Electric Heat Backup",
          "High Efficiency Whole Home Electrification"
         ],
         "yaxis": "y2"
        },
        {
         "marker": {
          "color": "green"
         },
         "orientation": "h",
         "showlegend": false,
         "text": [
          1,
          0.9230769230769231,
          0.875,
          0.8125,
          1,
          1,
          1,
          1,
          1,
          1,
          1,
          1,
          1,
          1,
          1
         ],
         "textposition": "inside",
         "texttemplate": "%{text:.0%}",
         "type": "bar",
         "x": [
          1,
          0.9230769230769231,
          0.875,
          0.8125,
          1,
          1,
          1,
          1,
          1,
          1,
          1,
          1,
          1,
          1,
          1
         ],
         "xaxis": "x2",
         "y": [
          "Electric Cooking",
          "Mininum Efficiency Whole Home Electrification",
          "Mininum Efficiency Heat Pump with Electric Heat Backup",
          "Mininum Efficiency Heat Pump with Existing Heat Backup",
          "Induction Cooking",
          "Basic Enclosure",
          "Basic Enclosure + HPWH + High Efficiency HP/Electric Backup",
          "Basic Enclosure + High Efficiency Whole Home Electrification",
          "Enhanced Enclosure",
          "Enhanced Enclosure + HPWH + High Efficiency HP/Electric Backup",
          "Enhanced Enclosure + High Efficiency Whole Home Electrification",
          "Heat Pump Clothes Dryer",
          "Heat Pump Water Heater",
          "High Efficiency Heat Pump with Electric Heat Backup",
          "High Efficiency Whole Home Electrification"
         ],
         "yaxis": "y2"
        },
        {
         "marker": {
          "color": "red"
         },
         "orientation": "h",
         "showlegend": false,
         "text": [
          0,
          0,
          0,
          0.125,
          0,
          0,
          0,
          0,
          0,
          0,
          0,
          0,
          0,
          0,
          0
         ],
         "textposition": "inside",
         "texttemplate": "%{text:.0%}",
         "type": "bar",
         "x": [
          0,
          0,
          0,
          0.125,
          0,
          0,
          0,
          0,
          0,
          0,
          0,
          0,
          0,
          0,
          0
         ],
         "xaxis": "x3",
         "y": [
          "Electric Cooking",
          "Mininum Efficiency Whole Home Electrification",
          "Mininum Efficiency Heat Pump with Electric Heat Backup",
          "Mininum Efficiency Heat Pump with Existing Heat Backup",
          "Induction Cooking",
          "Basic Enclosure",
          "Basic Enclosure + HPWH + High Efficiency HP/Electric Backup",
          "Basic Enclosure + High Efficiency Whole Home Electrification",
          "Enhanced Enclosure",
          "Enhanced Enclosure + HPWH + High Efficiency HP/Electric Backup",
          "Enhanced Enclosure + High Efficiency Whole Home Electrification",
          "Heat Pump Clothes Dryer",
          "Heat Pump Water Heater",
          "High Efficiency Heat Pump with Electric Heat Backup",
          "High Efficiency Whole Home Electrification"
         ],
         "yaxis": "y3"
        },
        {
         "marker": {
          "color": "green"
         },
         "orientation": "h",
         "showlegend": false,
         "text": [
          1,
          1,
          1,
          0.875,
          1,
          1,
          1,
          1,
          1,
          1,
          1,
          1,
          1,
          1,
          1
         ],
         "textposition": "inside",
         "texttemplate": "%{text:.0%}",
         "type": "bar",
         "x": [
          1,
          1,
          1,
          0.875,
          1,
          1,
          1,
          1,
          1,
          1,
          1,
          1,
          1,
          1,
          1
         ],
         "xaxis": "x3",
         "y": [
          "Electric Cooking",
          "Mininum Efficiency Whole Home Electrification",
          "Mininum Efficiency Heat Pump with Electric Heat Backup",
          "Mininum Efficiency Heat Pump with Existing Heat Backup",
          "Induction Cooking",
          "Basic Enclosure",
          "Basic Enclosure + HPWH + High Efficiency HP/Electric Backup",
          "Basic Enclosure + High Efficiency Whole Home Electrification",
          "Enhanced Enclosure",
          "Enhanced Enclosure + HPWH + High Efficiency HP/Electric Backup",
          "Enhanced Enclosure + High Efficiency Whole Home Electrification",
          "Heat Pump Clothes Dryer",
          "Heat Pump Water Heater",
          "High Efficiency Heat Pump with Electric Heat Backup",
          "High Efficiency Whole Home Electrification"
         ],
         "yaxis": "y3"
        }
       ],
       "layout": {
        "autosize": false,
        "barmode": "relative",
        "font": {
         "size": 10
        },
        "height": 500,
        "template": {
         "data": {
          "bar": [
           {
            "error_x": {
             "color": "#2a3f5f"
            },
            "error_y": {
             "color": "#2a3f5f"
            },
            "marker": {
             "line": {
              "color": "#E5ECF6",
              "width": 0.5
             },
             "pattern": {
              "fillmode": "overlay",
              "size": 10,
              "solidity": 0.2
             }
            },
            "type": "bar"
           }
          ],
          "barpolar": [
           {
            "marker": {
             "line": {
              "color": "#E5ECF6",
              "width": 0.5
             },
             "pattern": {
              "fillmode": "overlay",
              "size": 10,
              "solidity": 0.2
             }
            },
            "type": "barpolar"
           }
          ],
          "carpet": [
           {
            "aaxis": {
             "endlinecolor": "#2a3f5f",
             "gridcolor": "white",
             "linecolor": "white",
             "minorgridcolor": "white",
             "startlinecolor": "#2a3f5f"
            },
            "baxis": {
             "endlinecolor": "#2a3f5f",
             "gridcolor": "white",
             "linecolor": "white",
             "minorgridcolor": "white",
             "startlinecolor": "#2a3f5f"
            },
            "type": "carpet"
           }
          ],
          "choropleth": [
           {
            "colorbar": {
             "outlinewidth": 0,
             "ticks": ""
            },
            "type": "choropleth"
           }
          ],
          "contour": [
           {
            "colorbar": {
             "outlinewidth": 0,
             "ticks": ""
            },
            "colorscale": [
             [
              0,
              "#0d0887"
             ],
             [
              0.1111111111111111,
              "#46039f"
             ],
             [
              0.2222222222222222,
              "#7201a8"
             ],
             [
              0.3333333333333333,
              "#9c179e"
             ],
             [
              0.4444444444444444,
              "#bd3786"
             ],
             [
              0.5555555555555556,
              "#d8576b"
             ],
             [
              0.6666666666666666,
              "#ed7953"
             ],
             [
              0.7777777777777778,
              "#fb9f3a"
             ],
             [
              0.8888888888888888,
              "#fdca26"
             ],
             [
              1,
              "#f0f921"
             ]
            ],
            "type": "contour"
           }
          ],
          "contourcarpet": [
           {
            "colorbar": {
             "outlinewidth": 0,
             "ticks": ""
            },
            "type": "contourcarpet"
           }
          ],
          "heatmap": [
           {
            "colorbar": {
             "outlinewidth": 0,
             "ticks": ""
            },
            "colorscale": [
             [
              0,
              "#0d0887"
             ],
             [
              0.1111111111111111,
              "#46039f"
             ],
             [
              0.2222222222222222,
              "#7201a8"
             ],
             [
              0.3333333333333333,
              "#9c179e"
             ],
             [
              0.4444444444444444,
              "#bd3786"
             ],
             [
              0.5555555555555556,
              "#d8576b"
             ],
             [
              0.6666666666666666,
              "#ed7953"
             ],
             [
              0.7777777777777778,
              "#fb9f3a"
             ],
             [
              0.8888888888888888,
              "#fdca26"
             ],
             [
              1,
              "#f0f921"
             ]
            ],
            "type": "heatmap"
           }
          ],
          "heatmapgl": [
           {
            "colorbar": {
             "outlinewidth": 0,
             "ticks": ""
            },
            "colorscale": [
             [
              0,
              "#0d0887"
             ],
             [
              0.1111111111111111,
              "#46039f"
             ],
             [
              0.2222222222222222,
              "#7201a8"
             ],
             [
              0.3333333333333333,
              "#9c179e"
             ],
             [
              0.4444444444444444,
              "#bd3786"
             ],
             [
              0.5555555555555556,
              "#d8576b"
             ],
             [
              0.6666666666666666,
              "#ed7953"
             ],
             [
              0.7777777777777778,
              "#fb9f3a"
             ],
             [
              0.8888888888888888,
              "#fdca26"
             ],
             [
              1,
              "#f0f921"
             ]
            ],
            "type": "heatmapgl"
           }
          ],
          "histogram": [
           {
            "marker": {
             "pattern": {
              "fillmode": "overlay",
              "size": 10,
              "solidity": 0.2
             }
            },
            "type": "histogram"
           }
          ],
          "histogram2d": [
           {
            "colorbar": {
             "outlinewidth": 0,
             "ticks": ""
            },
            "colorscale": [
             [
              0,
              "#0d0887"
             ],
             [
              0.1111111111111111,
              "#46039f"
             ],
             [
              0.2222222222222222,
              "#7201a8"
             ],
             [
              0.3333333333333333,
              "#9c179e"
             ],
             [
              0.4444444444444444,
              "#bd3786"
             ],
             [
              0.5555555555555556,
              "#d8576b"
             ],
             [
              0.6666666666666666,
              "#ed7953"
             ],
             [
              0.7777777777777778,
              "#fb9f3a"
             ],
             [
              0.8888888888888888,
              "#fdca26"
             ],
             [
              1,
              "#f0f921"
             ]
            ],
            "type": "histogram2d"
           }
          ],
          "histogram2dcontour": [
           {
            "colorbar": {
             "outlinewidth": 0,
             "ticks": ""
            },
            "colorscale": [
             [
              0,
              "#0d0887"
             ],
             [
              0.1111111111111111,
              "#46039f"
             ],
             [
              0.2222222222222222,
              "#7201a8"
             ],
             [
              0.3333333333333333,
              "#9c179e"
             ],
             [
              0.4444444444444444,
              "#bd3786"
             ],
             [
              0.5555555555555556,
              "#d8576b"
             ],
             [
              0.6666666666666666,
              "#ed7953"
             ],
             [
              0.7777777777777778,
              "#fb9f3a"
             ],
             [
              0.8888888888888888,
              "#fdca26"
             ],
             [
              1,
              "#f0f921"
             ]
            ],
            "type": "histogram2dcontour"
           }
          ],
          "mesh3d": [
           {
            "colorbar": {
             "outlinewidth": 0,
             "ticks": ""
            },
            "type": "mesh3d"
           }
          ],
          "parcoords": [
           {
            "line": {
             "colorbar": {
              "outlinewidth": 0,
              "ticks": ""
             }
            },
            "type": "parcoords"
           }
          ],
          "pie": [
           {
            "automargin": true,
            "type": "pie"
           }
          ],
          "scatter": [
           {
            "fillpattern": {
             "fillmode": "overlay",
             "size": 10,
             "solidity": 0.2
            },
            "type": "scatter"
           }
          ],
          "scatter3d": [
           {
            "line": {
             "colorbar": {
              "outlinewidth": 0,
              "ticks": ""
             }
            },
            "marker": {
             "colorbar": {
              "outlinewidth": 0,
              "ticks": ""
             }
            },
            "type": "scatter3d"
           }
          ],
          "scattercarpet": [
           {
            "marker": {
             "colorbar": {
              "outlinewidth": 0,
              "ticks": ""
             }
            },
            "type": "scattercarpet"
           }
          ],
          "scattergeo": [
           {
            "marker": {
             "colorbar": {
              "outlinewidth": 0,
              "ticks": ""
             }
            },
            "type": "scattergeo"
           }
          ],
          "scattergl": [
           {
            "marker": {
             "colorbar": {
              "outlinewidth": 0,
              "ticks": ""
             }
            },
            "type": "scattergl"
           }
          ],
          "scattermapbox": [
           {
            "marker": {
             "colorbar": {
              "outlinewidth": 0,
              "ticks": ""
             }
            },
            "type": "scattermapbox"
           }
          ],
          "scatterpolar": [
           {
            "marker": {
             "colorbar": {
              "outlinewidth": 0,
              "ticks": ""
             }
            },
            "type": "scatterpolar"
           }
          ],
          "scatterpolargl": [
           {
            "marker": {
             "colorbar": {
              "outlinewidth": 0,
              "ticks": ""
             }
            },
            "type": "scatterpolargl"
           }
          ],
          "scatterternary": [
           {
            "marker": {
             "colorbar": {
              "outlinewidth": 0,
              "ticks": ""
             }
            },
            "type": "scatterternary"
           }
          ],
          "surface": [
           {
            "colorbar": {
             "outlinewidth": 0,
             "ticks": ""
            },
            "colorscale": [
             [
              0,
              "#0d0887"
             ],
             [
              0.1111111111111111,
              "#46039f"
             ],
             [
              0.2222222222222222,
              "#7201a8"
             ],
             [
              0.3333333333333333,
              "#9c179e"
             ],
             [
              0.4444444444444444,
              "#bd3786"
             ],
             [
              0.5555555555555556,
              "#d8576b"
             ],
             [
              0.6666666666666666,
              "#ed7953"
             ],
             [
              0.7777777777777778,
              "#fb9f3a"
             ],
             [
              0.8888888888888888,
              "#fdca26"
             ],
             [
              1,
              "#f0f921"
             ]
            ],
            "type": "surface"
           }
          ],
          "table": [
           {
            "cells": {
             "fill": {
              "color": "#EBF0F8"
             },
             "line": {
              "color": "white"
             }
            },
            "header": {
             "fill": {
              "color": "#C8D4E3"
             },
             "line": {
              "color": "white"
             }
            },
            "type": "table"
           }
          ]
         },
         "layout": {
          "annotationdefaults": {
           "arrowcolor": "#2a3f5f",
           "arrowhead": 0,
           "arrowwidth": 1
          },
          "autotypenumbers": "strict",
          "coloraxis": {
           "colorbar": {
            "outlinewidth": 0,
            "ticks": ""
           }
          },
          "colorscale": {
           "diverging": [
            [
             0,
             "#8e0152"
            ],
            [
             0.1,
             "#c51b7d"
            ],
            [
             0.2,
             "#de77ae"
            ],
            [
             0.3,
             "#f1b6da"
            ],
            [
             0.4,
             "#fde0ef"
            ],
            [
             0.5,
             "#f7f7f7"
            ],
            [
             0.6,
             "#e6f5d0"
            ],
            [
             0.7,
             "#b8e186"
            ],
            [
             0.8,
             "#7fbc41"
            ],
            [
             0.9,
             "#4d9221"
            ],
            [
             1,
             "#276419"
            ]
           ],
           "sequential": [
            [
             0,
             "#0d0887"
            ],
            [
             0.1111111111111111,
             "#46039f"
            ],
            [
             0.2222222222222222,
             "#7201a8"
            ],
            [
             0.3333333333333333,
             "#9c179e"
            ],
            [
             0.4444444444444444,
             "#bd3786"
            ],
            [
             0.5555555555555556,
             "#d8576b"
            ],
            [
             0.6666666666666666,
             "#ed7953"
            ],
            [
             0.7777777777777778,
             "#fb9f3a"
            ],
            [
             0.8888888888888888,
             "#fdca26"
            ],
            [
             1,
             "#f0f921"
            ]
           ],
           "sequentialminus": [
            [
             0,
             "#0d0887"
            ],
            [
             0.1111111111111111,
             "#46039f"
            ],
            [
             0.2222222222222222,
             "#7201a8"
            ],
            [
             0.3333333333333333,
             "#9c179e"
            ],
            [
             0.4444444444444444,
             "#bd3786"
            ],
            [
             0.5555555555555556,
             "#d8576b"
            ],
            [
             0.6666666666666666,
             "#ed7953"
            ],
            [
             0.7777777777777778,
             "#fb9f3a"
            ],
            [
             0.8888888888888888,
             "#fdca26"
            ],
            [
             1,
             "#f0f921"
            ]
           ]
          },
          "colorway": [
           "#636efa",
           "#EF553B",
           "#00cc96",
           "#ab63fa",
           "#FFA15A",
           "#19d3f3",
           "#FF6692",
           "#B6E880",
           "#FF97FF",
           "#FECB52"
          ],
          "font": {
           "color": "#2a3f5f"
          },
          "geo": {
           "bgcolor": "white",
           "lakecolor": "white",
           "landcolor": "#E5ECF6",
           "showlakes": true,
           "showland": true,
           "subunitcolor": "white"
          },
          "hoverlabel": {
           "align": "left"
          },
          "hovermode": "closest",
          "mapbox": {
           "style": "light"
          },
          "paper_bgcolor": "white",
          "plot_bgcolor": "#E5ECF6",
          "polar": {
           "angularaxis": {
            "gridcolor": "white",
            "linecolor": "white",
            "ticks": ""
           },
           "bgcolor": "#E5ECF6",
           "radialaxis": {
            "gridcolor": "white",
            "linecolor": "white",
            "ticks": ""
           }
          },
          "scene": {
           "xaxis": {
            "backgroundcolor": "#E5ECF6",
            "gridcolor": "white",
            "gridwidth": 2,
            "linecolor": "white",
            "showbackground": true,
            "ticks": "",
            "zerolinecolor": "white"
           },
           "yaxis": {
            "backgroundcolor": "#E5ECF6",
            "gridcolor": "white",
            "gridwidth": 2,
            "linecolor": "white",
            "showbackground": true,
            "ticks": "",
            "zerolinecolor": "white"
           },
           "zaxis": {
            "backgroundcolor": "#E5ECF6",
            "gridcolor": "white",
            "gridwidth": 2,
            "linecolor": "white",
            "showbackground": true,
            "ticks": "",
            "zerolinecolor": "white"
           }
          },
          "shapedefaults": {
           "line": {
            "color": "#2a3f5f"
           }
          },
          "ternary": {
           "aaxis": {
            "gridcolor": "white",
            "linecolor": "white",
            "ticks": ""
           },
           "baxis": {
            "gridcolor": "white",
            "linecolor": "white",
            "ticks": ""
           },
           "bgcolor": "#E5ECF6",
           "caxis": {
            "gridcolor": "white",
            "linecolor": "white",
            "ticks": ""
           }
          },
          "title": {
           "x": 0.05
          },
          "xaxis": {
           "automargin": true,
           "gridcolor": "white",
           "linecolor": "white",
           "ticks": "",
           "title": {
            "standoff": 15
           },
           "zerolinecolor": "white",
           "zerolinewidth": 2
          },
          "yaxis": {
           "automargin": true,
           "gridcolor": "white",
           "linecolor": "white",
           "ticks": "",
           "title": {
            "standoff": 15
           },
           "zerolinecolor": "white",
           "zerolinewidth": 2
          }
         }
        },
        "title": {
         "text": "Percentage of Household in Positive and Negative Savings"
        },
        "width": 1000,
        "xaxis": {
         "anchor": "y",
         "domain": [
          0,
          0.2888888888888889
         ],
         "tickformat": ",.0%",
         "title": {
          "text": "Bill"
         },
         "visible": true
        },
        "xaxis2": {
         "anchor": "y2",
         "domain": [
          0.35555555555555557,
          0.6444444444444445
         ],
         "tickformat": ",.0%",
         "title": {
          "text": "Emission"
         },
         "visible": true
        },
        "xaxis3": {
         "anchor": "y3",
         "domain": [
          0.7111111111111111,
          1
         ],
         "tickformat": ",.0%",
         "title": {
          "text": "Total Energy"
         },
         "visible": true
        },
        "yaxis": {
         "anchor": "x",
         "domain": [
          0,
          1
         ],
         "visible": true
        },
        "yaxis2": {
         "anchor": "x2",
         "domain": [
          0,
          1
         ],
         "visible": false
        },
        "yaxis3": {
         "anchor": "x3",
         "domain": [
          0,
          1
         ],
         "visible": false
        }
       }
      },
      "text/html": [
       "<div>                            <div id=\"d5498761-4947-4992-9542-c737d690ce0e\" class=\"plotly-graph-div\" style=\"height:500px; width:1000px;\"></div>            <script type=\"text/javascript\">                require([\"plotly\"], function(Plotly) {                    window.PLOTLYENV=window.PLOTLYENV || {};                                    if (document.getElementById(\"d5498761-4947-4992-9542-c737d690ce0e\")) {                    Plotly.newPlot(                        \"d5498761-4947-4992-9542-c737d690ce0e\",                        [{\"marker\":{\"color\":\"red\"},\"name\":\"Negative\",\"orientation\":\"h\",\"text\":[1.0,0.38461538461538464,0.375,0.3125,0.0625,0.0,0.0,0.0,0.0,0.0,0.0,0.0,0.0,0.0,0.0],\"x\":[1.0,0.38461538461538464,0.375,0.3125,0.0625,0.0,0.0,0.0,0.0,0.0,0.0,0.0,0.0,0.0,0.0],\"y\":[\"Electric Cooking\",\"Mininum Efficiency Whole Home Electrification\",\"Mininum Efficiency Heat Pump with Electric Heat Backup\",\"Mininum Efficiency Heat Pump with Existing Heat Backup\",\"Induction Cooking\",\"Basic Enclosure\",\"Basic Enclosure + HPWH + High Efficiency HP/Electric Backup\",\"Basic Enclosure + High Efficiency Whole Home Electrification\",\"Enhanced Enclosure\",\"Enhanced Enclosure + HPWH + High Efficiency HP/Electric Backup\",\"Enhanced Enclosure + High Efficiency Whole Home Electrification\",\"Heat Pump Clothes Dryer\",\"Heat Pump Water Heater\",\"High Efficiency Heat Pump with Electric Heat Backup\",\"High Efficiency Whole Home Electrification\"],\"type\":\"bar\",\"xaxis\":\"x\",\"yaxis\":\"y\",\"textposition\":\"inside\",\"texttemplate\":\"%{text:.0%}\"},{\"marker\":{\"color\":\"green\"},\"name\":\"Positive\",\"orientation\":\"h\",\"text\":[0.0,0.6153846153846154,0.625,0.6875,0.9375,1.0,1.0,1.0,1.0,1.0,1.0,1.0,1.0,1.0,1.0],\"x\":[0.0,0.6153846153846154,0.625,0.6875,0.9375,1.0,1.0,1.0,1.0,1.0,1.0,1.0,1.0,1.0,1.0],\"y\":[\"Electric Cooking\",\"Mininum Efficiency Whole Home Electrification\",\"Mininum Efficiency Heat Pump with Electric Heat Backup\",\"Mininum Efficiency Heat Pump with Existing Heat Backup\",\"Induction Cooking\",\"Basic Enclosure\",\"Basic Enclosure + HPWH + High Efficiency HP/Electric Backup\",\"Basic Enclosure + High Efficiency Whole Home Electrification\",\"Enhanced Enclosure\",\"Enhanced Enclosure + HPWH + High Efficiency HP/Electric Backup\",\"Enhanced Enclosure + High Efficiency Whole Home Electrification\",\"Heat Pump Clothes Dryer\",\"Heat Pump Water Heater\",\"High Efficiency Heat Pump with Electric Heat Backup\",\"High Efficiency Whole Home Electrification\"],\"type\":\"bar\",\"xaxis\":\"x\",\"yaxis\":\"y\",\"textposition\":\"inside\",\"texttemplate\":\"%{text:.0%}\"},{\"marker\":{\"color\":\"red\"},\"orientation\":\"h\",\"showlegend\":false,\"text\":[0.0,0.07692307692307693,0.125,0.1875,0.0,0.0,0.0,0.0,0.0,0.0,0.0,0.0,0.0,0.0,0.0],\"x\":[0.0,0.07692307692307693,0.125,0.1875,0.0,0.0,0.0,0.0,0.0,0.0,0.0,0.0,0.0,0.0,0.0],\"y\":[\"Electric Cooking\",\"Mininum Efficiency Whole Home Electrification\",\"Mininum Efficiency Heat Pump with Electric Heat Backup\",\"Mininum Efficiency Heat Pump with Existing Heat Backup\",\"Induction Cooking\",\"Basic Enclosure\",\"Basic Enclosure + HPWH + High Efficiency HP/Electric Backup\",\"Basic Enclosure + High Efficiency Whole Home Electrification\",\"Enhanced Enclosure\",\"Enhanced Enclosure + HPWH + High Efficiency HP/Electric Backup\",\"Enhanced Enclosure + High Efficiency Whole Home Electrification\",\"Heat Pump Clothes Dryer\",\"Heat Pump Water Heater\",\"High Efficiency Heat Pump with Electric Heat Backup\",\"High Efficiency Whole Home Electrification\"],\"type\":\"bar\",\"xaxis\":\"x2\",\"yaxis\":\"y2\",\"textposition\":\"inside\",\"texttemplate\":\"%{text:.0%}\"},{\"marker\":{\"color\":\"green\"},\"orientation\":\"h\",\"showlegend\":false,\"text\":[1.0,0.9230769230769231,0.875,0.8125,1.0,1.0,1.0,1.0,1.0,1.0,1.0,1.0,1.0,1.0,1.0],\"x\":[1.0,0.9230769230769231,0.875,0.8125,1.0,1.0,1.0,1.0,1.0,1.0,1.0,1.0,1.0,1.0,1.0],\"y\":[\"Electric Cooking\",\"Mininum Efficiency Whole Home Electrification\",\"Mininum Efficiency Heat Pump with Electric Heat Backup\",\"Mininum Efficiency Heat Pump with Existing Heat Backup\",\"Induction Cooking\",\"Basic Enclosure\",\"Basic Enclosure + HPWH + High Efficiency HP/Electric Backup\",\"Basic Enclosure + High Efficiency Whole Home Electrification\",\"Enhanced Enclosure\",\"Enhanced Enclosure + HPWH + High Efficiency HP/Electric Backup\",\"Enhanced Enclosure + High Efficiency Whole Home Electrification\",\"Heat Pump Clothes Dryer\",\"Heat Pump Water Heater\",\"High Efficiency Heat Pump with Electric Heat Backup\",\"High Efficiency Whole Home Electrification\"],\"type\":\"bar\",\"xaxis\":\"x2\",\"yaxis\":\"y2\",\"textposition\":\"inside\",\"texttemplate\":\"%{text:.0%}\"},{\"marker\":{\"color\":\"red\"},\"orientation\":\"h\",\"showlegend\":false,\"text\":[0.0,0.0,0.0,0.125,0.0,0.0,0.0,0.0,0.0,0.0,0.0,0.0,0.0,0.0,0.0],\"x\":[0.0,0.0,0.0,0.125,0.0,0.0,0.0,0.0,0.0,0.0,0.0,0.0,0.0,0.0,0.0],\"y\":[\"Electric Cooking\",\"Mininum Efficiency Whole Home Electrification\",\"Mininum Efficiency Heat Pump with Electric Heat Backup\",\"Mininum Efficiency Heat Pump with Existing Heat Backup\",\"Induction Cooking\",\"Basic Enclosure\",\"Basic Enclosure + HPWH + High Efficiency HP/Electric Backup\",\"Basic Enclosure + High Efficiency Whole Home Electrification\",\"Enhanced Enclosure\",\"Enhanced Enclosure + HPWH + High Efficiency HP/Electric Backup\",\"Enhanced Enclosure + High Efficiency Whole Home Electrification\",\"Heat Pump Clothes Dryer\",\"Heat Pump Water Heater\",\"High Efficiency Heat Pump with Electric Heat Backup\",\"High Efficiency Whole Home Electrification\"],\"type\":\"bar\",\"xaxis\":\"x3\",\"yaxis\":\"y3\",\"textposition\":\"inside\",\"texttemplate\":\"%{text:.0%}\"},{\"marker\":{\"color\":\"green\"},\"orientation\":\"h\",\"showlegend\":false,\"text\":[1.0,1.0,1.0,0.875,1.0,1.0,1.0,1.0,1.0,1.0,1.0,1.0,1.0,1.0,1.0],\"x\":[1.0,1.0,1.0,0.875,1.0,1.0,1.0,1.0,1.0,1.0,1.0,1.0,1.0,1.0,1.0],\"y\":[\"Electric Cooking\",\"Mininum Efficiency Whole Home Electrification\",\"Mininum Efficiency Heat Pump with Electric Heat Backup\",\"Mininum Efficiency Heat Pump with Existing Heat Backup\",\"Induction Cooking\",\"Basic Enclosure\",\"Basic Enclosure + HPWH + High Efficiency HP/Electric Backup\",\"Basic Enclosure + High Efficiency Whole Home Electrification\",\"Enhanced Enclosure\",\"Enhanced Enclosure + HPWH + High Efficiency HP/Electric Backup\",\"Enhanced Enclosure + High Efficiency Whole Home Electrification\",\"Heat Pump Clothes Dryer\",\"Heat Pump Water Heater\",\"High Efficiency Heat Pump with Electric Heat Backup\",\"High Efficiency Whole Home Electrification\"],\"type\":\"bar\",\"xaxis\":\"x3\",\"yaxis\":\"y3\",\"textposition\":\"inside\",\"texttemplate\":\"%{text:.0%}\"}],                        {\"template\":{\"data\":{\"histogram2dcontour\":[{\"type\":\"histogram2dcontour\",\"colorbar\":{\"outlinewidth\":0,\"ticks\":\"\"},\"colorscale\":[[0.0,\"#0d0887\"],[0.1111111111111111,\"#46039f\"],[0.2222222222222222,\"#7201a8\"],[0.3333333333333333,\"#9c179e\"],[0.4444444444444444,\"#bd3786\"],[0.5555555555555556,\"#d8576b\"],[0.6666666666666666,\"#ed7953\"],[0.7777777777777778,\"#fb9f3a\"],[0.8888888888888888,\"#fdca26\"],[1.0,\"#f0f921\"]]}],\"choropleth\":[{\"type\":\"choropleth\",\"colorbar\":{\"outlinewidth\":0,\"ticks\":\"\"}}],\"histogram2d\":[{\"type\":\"histogram2d\",\"colorbar\":{\"outlinewidth\":0,\"ticks\":\"\"},\"colorscale\":[[0.0,\"#0d0887\"],[0.1111111111111111,\"#46039f\"],[0.2222222222222222,\"#7201a8\"],[0.3333333333333333,\"#9c179e\"],[0.4444444444444444,\"#bd3786\"],[0.5555555555555556,\"#d8576b\"],[0.6666666666666666,\"#ed7953\"],[0.7777777777777778,\"#fb9f3a\"],[0.8888888888888888,\"#fdca26\"],[1.0,\"#f0f921\"]]}],\"heatmap\":[{\"type\":\"heatmap\",\"colorbar\":{\"outlinewidth\":0,\"ticks\":\"\"},\"colorscale\":[[0.0,\"#0d0887\"],[0.1111111111111111,\"#46039f\"],[0.2222222222222222,\"#7201a8\"],[0.3333333333333333,\"#9c179e\"],[0.4444444444444444,\"#bd3786\"],[0.5555555555555556,\"#d8576b\"],[0.6666666666666666,\"#ed7953\"],[0.7777777777777778,\"#fb9f3a\"],[0.8888888888888888,\"#fdca26\"],[1.0,\"#f0f921\"]]}],\"heatmapgl\":[{\"type\":\"heatmapgl\",\"colorbar\":{\"outlinewidth\":0,\"ticks\":\"\"},\"colorscale\":[[0.0,\"#0d0887\"],[0.1111111111111111,\"#46039f\"],[0.2222222222222222,\"#7201a8\"],[0.3333333333333333,\"#9c179e\"],[0.4444444444444444,\"#bd3786\"],[0.5555555555555556,\"#d8576b\"],[0.6666666666666666,\"#ed7953\"],[0.7777777777777778,\"#fb9f3a\"],[0.8888888888888888,\"#fdca26\"],[1.0,\"#f0f921\"]]}],\"contourcarpet\":[{\"type\":\"contourcarpet\",\"colorbar\":{\"outlinewidth\":0,\"ticks\":\"\"}}],\"contour\":[{\"type\":\"contour\",\"colorbar\":{\"outlinewidth\":0,\"ticks\":\"\"},\"colorscale\":[[0.0,\"#0d0887\"],[0.1111111111111111,\"#46039f\"],[0.2222222222222222,\"#7201a8\"],[0.3333333333333333,\"#9c179e\"],[0.4444444444444444,\"#bd3786\"],[0.5555555555555556,\"#d8576b\"],[0.6666666666666666,\"#ed7953\"],[0.7777777777777778,\"#fb9f3a\"],[0.8888888888888888,\"#fdca26\"],[1.0,\"#f0f921\"]]}],\"surface\":[{\"type\":\"surface\",\"colorbar\":{\"outlinewidth\":0,\"ticks\":\"\"},\"colorscale\":[[0.0,\"#0d0887\"],[0.1111111111111111,\"#46039f\"],[0.2222222222222222,\"#7201a8\"],[0.3333333333333333,\"#9c179e\"],[0.4444444444444444,\"#bd3786\"],[0.5555555555555556,\"#d8576b\"],[0.6666666666666666,\"#ed7953\"],[0.7777777777777778,\"#fb9f3a\"],[0.8888888888888888,\"#fdca26\"],[1.0,\"#f0f921\"]]}],\"mesh3d\":[{\"type\":\"mesh3d\",\"colorbar\":{\"outlinewidth\":0,\"ticks\":\"\"}}],\"scatter\":[{\"fillpattern\":{\"fillmode\":\"overlay\",\"size\":10,\"solidity\":0.2},\"type\":\"scatter\"}],\"parcoords\":[{\"type\":\"parcoords\",\"line\":{\"colorbar\":{\"outlinewidth\":0,\"ticks\":\"\"}}}],\"scatterpolargl\":[{\"type\":\"scatterpolargl\",\"marker\":{\"colorbar\":{\"outlinewidth\":0,\"ticks\":\"\"}}}],\"bar\":[{\"error_x\":{\"color\":\"#2a3f5f\"},\"error_y\":{\"color\":\"#2a3f5f\"},\"marker\":{\"line\":{\"color\":\"#E5ECF6\",\"width\":0.5},\"pattern\":{\"fillmode\":\"overlay\",\"size\":10,\"solidity\":0.2}},\"type\":\"bar\"}],\"scattergeo\":[{\"type\":\"scattergeo\",\"marker\":{\"colorbar\":{\"outlinewidth\":0,\"ticks\":\"\"}}}],\"scatterpolar\":[{\"type\":\"scatterpolar\",\"marker\":{\"colorbar\":{\"outlinewidth\":0,\"ticks\":\"\"}}}],\"histogram\":[{\"marker\":{\"pattern\":{\"fillmode\":\"overlay\",\"size\":10,\"solidity\":0.2}},\"type\":\"histogram\"}],\"scattergl\":[{\"type\":\"scattergl\",\"marker\":{\"colorbar\":{\"outlinewidth\":0,\"ticks\":\"\"}}}],\"scatter3d\":[{\"type\":\"scatter3d\",\"line\":{\"colorbar\":{\"outlinewidth\":0,\"ticks\":\"\"}},\"marker\":{\"colorbar\":{\"outlinewidth\":0,\"ticks\":\"\"}}}],\"scattermapbox\":[{\"type\":\"scattermapbox\",\"marker\":{\"colorbar\":{\"outlinewidth\":0,\"ticks\":\"\"}}}],\"scatterternary\":[{\"type\":\"scatterternary\",\"marker\":{\"colorbar\":{\"outlinewidth\":0,\"ticks\":\"\"}}}],\"scattercarpet\":[{\"type\":\"scattercarpet\",\"marker\":{\"colorbar\":{\"outlinewidth\":0,\"ticks\":\"\"}}}],\"carpet\":[{\"aaxis\":{\"endlinecolor\":\"#2a3f5f\",\"gridcolor\":\"white\",\"linecolor\":\"white\",\"minorgridcolor\":\"white\",\"startlinecolor\":\"#2a3f5f\"},\"baxis\":{\"endlinecolor\":\"#2a3f5f\",\"gridcolor\":\"white\",\"linecolor\":\"white\",\"minorgridcolor\":\"white\",\"startlinecolor\":\"#2a3f5f\"},\"type\":\"carpet\"}],\"table\":[{\"cells\":{\"fill\":{\"color\":\"#EBF0F8\"},\"line\":{\"color\":\"white\"}},\"header\":{\"fill\":{\"color\":\"#C8D4E3\"},\"line\":{\"color\":\"white\"}},\"type\":\"table\"}],\"barpolar\":[{\"marker\":{\"line\":{\"color\":\"#E5ECF6\",\"width\":0.5},\"pattern\":{\"fillmode\":\"overlay\",\"size\":10,\"solidity\":0.2}},\"type\":\"barpolar\"}],\"pie\":[{\"automargin\":true,\"type\":\"pie\"}]},\"layout\":{\"autotypenumbers\":\"strict\",\"colorway\":[\"#636efa\",\"#EF553B\",\"#00cc96\",\"#ab63fa\",\"#FFA15A\",\"#19d3f3\",\"#FF6692\",\"#B6E880\",\"#FF97FF\",\"#FECB52\"],\"font\":{\"color\":\"#2a3f5f\"},\"hovermode\":\"closest\",\"hoverlabel\":{\"align\":\"left\"},\"paper_bgcolor\":\"white\",\"plot_bgcolor\":\"#E5ECF6\",\"polar\":{\"bgcolor\":\"#E5ECF6\",\"angularaxis\":{\"gridcolor\":\"white\",\"linecolor\":\"white\",\"ticks\":\"\"},\"radialaxis\":{\"gridcolor\":\"white\",\"linecolor\":\"white\",\"ticks\":\"\"}},\"ternary\":{\"bgcolor\":\"#E5ECF6\",\"aaxis\":{\"gridcolor\":\"white\",\"linecolor\":\"white\",\"ticks\":\"\"},\"baxis\":{\"gridcolor\":\"white\",\"linecolor\":\"white\",\"ticks\":\"\"},\"caxis\":{\"gridcolor\":\"white\",\"linecolor\":\"white\",\"ticks\":\"\"}},\"coloraxis\":{\"colorbar\":{\"outlinewidth\":0,\"ticks\":\"\"}},\"colorscale\":{\"sequential\":[[0.0,\"#0d0887\"],[0.1111111111111111,\"#46039f\"],[0.2222222222222222,\"#7201a8\"],[0.3333333333333333,\"#9c179e\"],[0.4444444444444444,\"#bd3786\"],[0.5555555555555556,\"#d8576b\"],[0.6666666666666666,\"#ed7953\"],[0.7777777777777778,\"#fb9f3a\"],[0.8888888888888888,\"#fdca26\"],[1.0,\"#f0f921\"]],\"sequentialminus\":[[0.0,\"#0d0887\"],[0.1111111111111111,\"#46039f\"],[0.2222222222222222,\"#7201a8\"],[0.3333333333333333,\"#9c179e\"],[0.4444444444444444,\"#bd3786\"],[0.5555555555555556,\"#d8576b\"],[0.6666666666666666,\"#ed7953\"],[0.7777777777777778,\"#fb9f3a\"],[0.8888888888888888,\"#fdca26\"],[1.0,\"#f0f921\"]],\"diverging\":[[0,\"#8e0152\"],[0.1,\"#c51b7d\"],[0.2,\"#de77ae\"],[0.3,\"#f1b6da\"],[0.4,\"#fde0ef\"],[0.5,\"#f7f7f7\"],[0.6,\"#e6f5d0\"],[0.7,\"#b8e186\"],[0.8,\"#7fbc41\"],[0.9,\"#4d9221\"],[1,\"#276419\"]]},\"xaxis\":{\"gridcolor\":\"white\",\"linecolor\":\"white\",\"ticks\":\"\",\"title\":{\"standoff\":15},\"zerolinecolor\":\"white\",\"automargin\":true,\"zerolinewidth\":2},\"yaxis\":{\"gridcolor\":\"white\",\"linecolor\":\"white\",\"ticks\":\"\",\"title\":{\"standoff\":15},\"zerolinecolor\":\"white\",\"automargin\":true,\"zerolinewidth\":2},\"scene\":{\"xaxis\":{\"backgroundcolor\":\"#E5ECF6\",\"gridcolor\":\"white\",\"linecolor\":\"white\",\"showbackground\":true,\"ticks\":\"\",\"zerolinecolor\":\"white\",\"gridwidth\":2},\"yaxis\":{\"backgroundcolor\":\"#E5ECF6\",\"gridcolor\":\"white\",\"linecolor\":\"white\",\"showbackground\":true,\"ticks\":\"\",\"zerolinecolor\":\"white\",\"gridwidth\":2},\"zaxis\":{\"backgroundcolor\":\"#E5ECF6\",\"gridcolor\":\"white\",\"linecolor\":\"white\",\"showbackground\":true,\"ticks\":\"\",\"zerolinecolor\":\"white\",\"gridwidth\":2}},\"shapedefaults\":{\"line\":{\"color\":\"#2a3f5f\"}},\"annotationdefaults\":{\"arrowcolor\":\"#2a3f5f\",\"arrowhead\":0,\"arrowwidth\":1},\"geo\":{\"bgcolor\":\"white\",\"landcolor\":\"#E5ECF6\",\"subunitcolor\":\"white\",\"showland\":true,\"showlakes\":true,\"lakecolor\":\"white\"},\"title\":{\"x\":0.05},\"mapbox\":{\"style\":\"light\"}}},\"xaxis\":{\"anchor\":\"y\",\"domain\":[0.0,0.2888888888888889],\"title\":{\"text\":\"Bill\"},\"visible\":true,\"tickformat\":\",.0%\"},\"yaxis\":{\"anchor\":\"x\",\"domain\":[0.0,1.0],\"visible\":true},\"xaxis2\":{\"anchor\":\"y2\",\"domain\":[0.35555555555555557,0.6444444444444445],\"title\":{\"text\":\"Emission\"},\"visible\":true,\"tickformat\":\",.0%\"},\"yaxis2\":{\"anchor\":\"x2\",\"domain\":[0.0,1.0],\"visible\":false},\"xaxis3\":{\"anchor\":\"y3\",\"domain\":[0.7111111111111111,1.0],\"title\":{\"text\":\"Total Energy\"},\"visible\":true,\"tickformat\":\",.0%\"},\"yaxis3\":{\"anchor\":\"x3\",\"domain\":[0.0,1.0],\"visible\":false},\"barmode\":\"relative\",\"font\":{\"size\":10},\"title\":{\"text\":\"Percentage of Household in Positive and Negative Savings\"},\"autosize\":false,\"width\":1000,\"height\":500},                        {\"responsive\": true}                    ).then(function(){\n",
       "                            \n",
       "var gd = document.getElementById('d5498761-4947-4992-9542-c737d690ce0e');\n",
       "var x = new MutationObserver(function (mutations, observer) {{\n",
       "        var display = window.getComputedStyle(gd).display;\n",
       "        if (!display || display === 'none') {{\n",
       "            console.log([gd, 'removed!']);\n",
       "            Plotly.purge(gd);\n",
       "            observer.disconnect();\n",
       "        }}\n",
       "}});\n",
       "\n",
       "// Listen for the removal of the full notebook cells\n",
       "var notebookContainer = gd.closest('#notebook-container');\n",
       "if (notebookContainer) {{\n",
       "    x.observe(notebookContainer, {childList: true});\n",
       "}}\n",
       "\n",
       "// Listen for the clearing of the current output cell\n",
       "var outputEl = gd.closest('.output');\n",
       "if (outputEl) {{\n",
       "    x.observe(outputEl, {childList: true});\n",
       "}}\n",
       "\n",
       "                        })                };                });            </script>        </div>"
      ]
     },
     "metadata": {},
     "output_type": "display_data"
    },
    {
     "name": "stderr",
     "output_type": "stream",
     "text": [
      "C:\\Users\\ylou2\\AppData\\Local\\Temp\\1\\ipykernel_17696\\868763001.py:3: PerformanceWarning:\n",
      "\n",
      "DataFrame is highly fragmented.  This is usually the result of calling `frame.insert` many times, which has poor performance.  Consider joining all columns at once using pd.concat(axis=1) instead. To get a de-fragmented frame, use `newframe = frame.copy()`\n",
      "\n",
      "C:\\Users\\ylou2\\AppData\\Local\\Temp\\1\\ipykernel_17696\\868763001.py:4: PerformanceWarning:\n",
      "\n",
      "DataFrame is highly fragmented.  This is usually the result of calling `frame.insert` many times, which has poor performance.  Consider joining all columns at once using pd.concat(axis=1) instead. To get a de-fragmented frame, use `newframe = frame.copy()`\n",
      "\n",
      "C:\\Users\\ylou2\\AppData\\Local\\Temp\\1\\ipykernel_17696\\868763001.py:5: PerformanceWarning:\n",
      "\n",
      "DataFrame is highly fragmented.  This is usually the result of calling `frame.insert` many times, which has poor performance.  Consider joining all columns at once using pd.concat(axis=1) instead. To get a de-fragmented frame, use `newframe = frame.copy()`\n",
      "\n"
     ]
    }
   ],
   "source": [
    "segment = 'segment1'\n",
    "results = figure_positive_negative_savings(segment, community_results) \n",
    "saving_results[f'segment1_{income}_pct_bill_positive_savings_%'] = results[0]*100\n",
    "saving_results[f'segment1_{income}_pct_emission_positive_savings_%'] = results[1]*100\n",
    "saving_results[f'segment1_{income}_pct_energy_positive_savings_%'] = results[2]*100"
   ]
  },
  {
   "cell_type": "markdown",
   "id": "8494ec4f",
   "metadata": {},
   "source": [
    "### Segment 2"
   ]
  },
  {
   "cell_type": "code",
   "execution_count": 105,
   "id": "e2c5e7d1",
   "metadata": {},
   "outputs": [
    {
     "data": {
      "application/vnd.plotly.v1+json": {
       "config": {
        "plotlyServerURL": "https://plot.ly"
       },
       "data": [
        {
         "marker": {
          "color": "red"
         },
         "name": "Negative",
         "orientation": "h",
         "text": [
          1,
          0.4,
          0.3333333333333333,
          0.1111111111111111,
          0.06666666666666667,
          0,
          0,
          0,
          0,
          0,
          0,
          0,
          0,
          0,
          0
         ],
         "textposition": "inside",
         "texttemplate": "%{text:.0%}",
         "type": "bar",
         "x": [
          1,
          0.4,
          0.3333333333333333,
          0.1111111111111111,
          0.06666666666666667,
          0,
          0,
          0,
          0,
          0,
          0,
          0,
          0,
          0,
          0
         ],
         "xaxis": "x",
         "y": [
          "Electric Cooking",
          "Mininum Efficiency Heat Pump with Electric Heat Backup",
          "Induction Cooking",
          "Mininum Efficiency Whole Home Electrification",
          "Mininum Efficiency Heat Pump with Existing Heat Backup",
          "Basic Enclosure",
          "Basic Enclosure + HPWH + High Efficiency HP/Electric Backup",
          "Basic Enclosure + High Efficiency Whole Home Electrification",
          "Enhanced Enclosure",
          "Enhanced Enclosure + HPWH + High Efficiency HP/Electric Backup",
          "Enhanced Enclosure + High Efficiency Whole Home Electrification",
          "Heat Pump Clothes Dryer",
          "Heat Pump Water Heater",
          "High Efficiency Heat Pump with Electric Heat Backup",
          "High Efficiency Whole Home Electrification"
         ],
         "yaxis": "y"
        },
        {
         "marker": {
          "color": "green"
         },
         "name": "Positive",
         "orientation": "h",
         "text": [
          0,
          0.6,
          0.6666666666666666,
          0.8888888888888888,
          0.9333333333333333,
          1,
          1,
          1,
          1,
          1,
          1,
          1,
          1,
          1,
          1
         ],
         "textposition": "inside",
         "texttemplate": "%{text:.0%}",
         "type": "bar",
         "x": [
          0,
          0.6,
          0.6666666666666666,
          0.8888888888888888,
          0.9333333333333333,
          1,
          1,
          1,
          1,
          1,
          1,
          1,
          1,
          1,
          1
         ],
         "xaxis": "x",
         "y": [
          "Electric Cooking",
          "Mininum Efficiency Heat Pump with Electric Heat Backup",
          "Induction Cooking",
          "Mininum Efficiency Whole Home Electrification",
          "Mininum Efficiency Heat Pump with Existing Heat Backup",
          "Basic Enclosure",
          "Basic Enclosure + HPWH + High Efficiency HP/Electric Backup",
          "Basic Enclosure + High Efficiency Whole Home Electrification",
          "Enhanced Enclosure",
          "Enhanced Enclosure + HPWH + High Efficiency HP/Electric Backup",
          "Enhanced Enclosure + High Efficiency Whole Home Electrification",
          "Heat Pump Clothes Dryer",
          "Heat Pump Water Heater",
          "High Efficiency Heat Pump with Electric Heat Backup",
          "High Efficiency Whole Home Electrification"
         ],
         "yaxis": "y"
        },
        {
         "marker": {
          "color": "red"
         },
         "orientation": "h",
         "showlegend": false,
         "text": [
          0,
          0,
          0,
          0,
          0,
          0,
          0,
          0,
          0,
          0,
          0,
          0,
          0,
          0,
          0
         ],
         "textposition": "inside",
         "texttemplate": "%{text:.0%}",
         "type": "bar",
         "x": [
          0,
          0,
          0,
          0,
          0,
          0,
          0,
          0,
          0,
          0,
          0,
          0,
          0,
          0,
          0
         ],
         "xaxis": "x2",
         "y": [
          "Electric Cooking",
          "Mininum Efficiency Heat Pump with Electric Heat Backup",
          "Induction Cooking",
          "Mininum Efficiency Whole Home Electrification",
          "Mininum Efficiency Heat Pump with Existing Heat Backup",
          "Basic Enclosure",
          "Basic Enclosure + HPWH + High Efficiency HP/Electric Backup",
          "Basic Enclosure + High Efficiency Whole Home Electrification",
          "Enhanced Enclosure",
          "Enhanced Enclosure + HPWH + High Efficiency HP/Electric Backup",
          "Enhanced Enclosure + High Efficiency Whole Home Electrification",
          "Heat Pump Clothes Dryer",
          "Heat Pump Water Heater",
          "High Efficiency Heat Pump with Electric Heat Backup",
          "High Efficiency Whole Home Electrification"
         ],
         "yaxis": "y2"
        },
        {
         "marker": {
          "color": "green"
         },
         "orientation": "h",
         "showlegend": false,
         "text": [
          1,
          1,
          1,
          1,
          1,
          1,
          1,
          1,
          1,
          1,
          1,
          1,
          1,
          1,
          1
         ],
         "textposition": "inside",
         "texttemplate": "%{text:.0%}",
         "type": "bar",
         "x": [
          1,
          1,
          1,
          1,
          1,
          1,
          1,
          1,
          1,
          1,
          1,
          1,
          1,
          1,
          1
         ],
         "xaxis": "x2",
         "y": [
          "Electric Cooking",
          "Mininum Efficiency Heat Pump with Electric Heat Backup",
          "Induction Cooking",
          "Mininum Efficiency Whole Home Electrification",
          "Mininum Efficiency Heat Pump with Existing Heat Backup",
          "Basic Enclosure",
          "Basic Enclosure + HPWH + High Efficiency HP/Electric Backup",
          "Basic Enclosure + High Efficiency Whole Home Electrification",
          "Enhanced Enclosure",
          "Enhanced Enclosure + HPWH + High Efficiency HP/Electric Backup",
          "Enhanced Enclosure + High Efficiency Whole Home Electrification",
          "Heat Pump Clothes Dryer",
          "Heat Pump Water Heater",
          "High Efficiency Heat Pump with Electric Heat Backup",
          "High Efficiency Whole Home Electrification"
         ],
         "yaxis": "y2"
        },
        {
         "marker": {
          "color": "red"
         },
         "orientation": "h",
         "showlegend": false,
         "text": [
          0,
          0,
          0,
          0,
          0,
          0,
          0,
          0,
          0,
          0,
          0,
          0,
          0,
          0,
          0
         ],
         "textposition": "inside",
         "texttemplate": "%{text:.0%}",
         "type": "bar",
         "x": [
          0,
          0,
          0,
          0,
          0,
          0,
          0,
          0,
          0,
          0,
          0,
          0,
          0,
          0,
          0
         ],
         "xaxis": "x3",
         "y": [
          "Electric Cooking",
          "Mininum Efficiency Heat Pump with Electric Heat Backup",
          "Induction Cooking",
          "Mininum Efficiency Whole Home Electrification",
          "Mininum Efficiency Heat Pump with Existing Heat Backup",
          "Basic Enclosure",
          "Basic Enclosure + HPWH + High Efficiency HP/Electric Backup",
          "Basic Enclosure + High Efficiency Whole Home Electrification",
          "Enhanced Enclosure",
          "Enhanced Enclosure + HPWH + High Efficiency HP/Electric Backup",
          "Enhanced Enclosure + High Efficiency Whole Home Electrification",
          "Heat Pump Clothes Dryer",
          "Heat Pump Water Heater",
          "High Efficiency Heat Pump with Electric Heat Backup",
          "High Efficiency Whole Home Electrification"
         ],
         "yaxis": "y3"
        },
        {
         "marker": {
          "color": "green"
         },
         "orientation": "h",
         "showlegend": false,
         "text": [
          1,
          1,
          1,
          1,
          1,
          1,
          1,
          1,
          1,
          1,
          1,
          1,
          1,
          1,
          1
         ],
         "textposition": "inside",
         "texttemplate": "%{text:.0%}",
         "type": "bar",
         "x": [
          1,
          1,
          1,
          1,
          1,
          1,
          1,
          1,
          1,
          1,
          1,
          1,
          1,
          1,
          1
         ],
         "xaxis": "x3",
         "y": [
          "Electric Cooking",
          "Mininum Efficiency Heat Pump with Electric Heat Backup",
          "Induction Cooking",
          "Mininum Efficiency Whole Home Electrification",
          "Mininum Efficiency Heat Pump with Existing Heat Backup",
          "Basic Enclosure",
          "Basic Enclosure + HPWH + High Efficiency HP/Electric Backup",
          "Basic Enclosure + High Efficiency Whole Home Electrification",
          "Enhanced Enclosure",
          "Enhanced Enclosure + HPWH + High Efficiency HP/Electric Backup",
          "Enhanced Enclosure + High Efficiency Whole Home Electrification",
          "Heat Pump Clothes Dryer",
          "Heat Pump Water Heater",
          "High Efficiency Heat Pump with Electric Heat Backup",
          "High Efficiency Whole Home Electrification"
         ],
         "yaxis": "y3"
        }
       ],
       "layout": {
        "autosize": false,
        "barmode": "relative",
        "font": {
         "size": 10
        },
        "height": 500,
        "template": {
         "data": {
          "bar": [
           {
            "error_x": {
             "color": "#2a3f5f"
            },
            "error_y": {
             "color": "#2a3f5f"
            },
            "marker": {
             "line": {
              "color": "#E5ECF6",
              "width": 0.5
             },
             "pattern": {
              "fillmode": "overlay",
              "size": 10,
              "solidity": 0.2
             }
            },
            "type": "bar"
           }
          ],
          "barpolar": [
           {
            "marker": {
             "line": {
              "color": "#E5ECF6",
              "width": 0.5
             },
             "pattern": {
              "fillmode": "overlay",
              "size": 10,
              "solidity": 0.2
             }
            },
            "type": "barpolar"
           }
          ],
          "carpet": [
           {
            "aaxis": {
             "endlinecolor": "#2a3f5f",
             "gridcolor": "white",
             "linecolor": "white",
             "minorgridcolor": "white",
             "startlinecolor": "#2a3f5f"
            },
            "baxis": {
             "endlinecolor": "#2a3f5f",
             "gridcolor": "white",
             "linecolor": "white",
             "minorgridcolor": "white",
             "startlinecolor": "#2a3f5f"
            },
            "type": "carpet"
           }
          ],
          "choropleth": [
           {
            "colorbar": {
             "outlinewidth": 0,
             "ticks": ""
            },
            "type": "choropleth"
           }
          ],
          "contour": [
           {
            "colorbar": {
             "outlinewidth": 0,
             "ticks": ""
            },
            "colorscale": [
             [
              0,
              "#0d0887"
             ],
             [
              0.1111111111111111,
              "#46039f"
             ],
             [
              0.2222222222222222,
              "#7201a8"
             ],
             [
              0.3333333333333333,
              "#9c179e"
             ],
             [
              0.4444444444444444,
              "#bd3786"
             ],
             [
              0.5555555555555556,
              "#d8576b"
             ],
             [
              0.6666666666666666,
              "#ed7953"
             ],
             [
              0.7777777777777778,
              "#fb9f3a"
             ],
             [
              0.8888888888888888,
              "#fdca26"
             ],
             [
              1,
              "#f0f921"
             ]
            ],
            "type": "contour"
           }
          ],
          "contourcarpet": [
           {
            "colorbar": {
             "outlinewidth": 0,
             "ticks": ""
            },
            "type": "contourcarpet"
           }
          ],
          "heatmap": [
           {
            "colorbar": {
             "outlinewidth": 0,
             "ticks": ""
            },
            "colorscale": [
             [
              0,
              "#0d0887"
             ],
             [
              0.1111111111111111,
              "#46039f"
             ],
             [
              0.2222222222222222,
              "#7201a8"
             ],
             [
              0.3333333333333333,
              "#9c179e"
             ],
             [
              0.4444444444444444,
              "#bd3786"
             ],
             [
              0.5555555555555556,
              "#d8576b"
             ],
             [
              0.6666666666666666,
              "#ed7953"
             ],
             [
              0.7777777777777778,
              "#fb9f3a"
             ],
             [
              0.8888888888888888,
              "#fdca26"
             ],
             [
              1,
              "#f0f921"
             ]
            ],
            "type": "heatmap"
           }
          ],
          "heatmapgl": [
           {
            "colorbar": {
             "outlinewidth": 0,
             "ticks": ""
            },
            "colorscale": [
             [
              0,
              "#0d0887"
             ],
             [
              0.1111111111111111,
              "#46039f"
             ],
             [
              0.2222222222222222,
              "#7201a8"
             ],
             [
              0.3333333333333333,
              "#9c179e"
             ],
             [
              0.4444444444444444,
              "#bd3786"
             ],
             [
              0.5555555555555556,
              "#d8576b"
             ],
             [
              0.6666666666666666,
              "#ed7953"
             ],
             [
              0.7777777777777778,
              "#fb9f3a"
             ],
             [
              0.8888888888888888,
              "#fdca26"
             ],
             [
              1,
              "#f0f921"
             ]
            ],
            "type": "heatmapgl"
           }
          ],
          "histogram": [
           {
            "marker": {
             "pattern": {
              "fillmode": "overlay",
              "size": 10,
              "solidity": 0.2
             }
            },
            "type": "histogram"
           }
          ],
          "histogram2d": [
           {
            "colorbar": {
             "outlinewidth": 0,
             "ticks": ""
            },
            "colorscale": [
             [
              0,
              "#0d0887"
             ],
             [
              0.1111111111111111,
              "#46039f"
             ],
             [
              0.2222222222222222,
              "#7201a8"
             ],
             [
              0.3333333333333333,
              "#9c179e"
             ],
             [
              0.4444444444444444,
              "#bd3786"
             ],
             [
              0.5555555555555556,
              "#d8576b"
             ],
             [
              0.6666666666666666,
              "#ed7953"
             ],
             [
              0.7777777777777778,
              "#fb9f3a"
             ],
             [
              0.8888888888888888,
              "#fdca26"
             ],
             [
              1,
              "#f0f921"
             ]
            ],
            "type": "histogram2d"
           }
          ],
          "histogram2dcontour": [
           {
            "colorbar": {
             "outlinewidth": 0,
             "ticks": ""
            },
            "colorscale": [
             [
              0,
              "#0d0887"
             ],
             [
              0.1111111111111111,
              "#46039f"
             ],
             [
              0.2222222222222222,
              "#7201a8"
             ],
             [
              0.3333333333333333,
              "#9c179e"
             ],
             [
              0.4444444444444444,
              "#bd3786"
             ],
             [
              0.5555555555555556,
              "#d8576b"
             ],
             [
              0.6666666666666666,
              "#ed7953"
             ],
             [
              0.7777777777777778,
              "#fb9f3a"
             ],
             [
              0.8888888888888888,
              "#fdca26"
             ],
             [
              1,
              "#f0f921"
             ]
            ],
            "type": "histogram2dcontour"
           }
          ],
          "mesh3d": [
           {
            "colorbar": {
             "outlinewidth": 0,
             "ticks": ""
            },
            "type": "mesh3d"
           }
          ],
          "parcoords": [
           {
            "line": {
             "colorbar": {
              "outlinewidth": 0,
              "ticks": ""
             }
            },
            "type": "parcoords"
           }
          ],
          "pie": [
           {
            "automargin": true,
            "type": "pie"
           }
          ],
          "scatter": [
           {
            "fillpattern": {
             "fillmode": "overlay",
             "size": 10,
             "solidity": 0.2
            },
            "type": "scatter"
           }
          ],
          "scatter3d": [
           {
            "line": {
             "colorbar": {
              "outlinewidth": 0,
              "ticks": ""
             }
            },
            "marker": {
             "colorbar": {
              "outlinewidth": 0,
              "ticks": ""
             }
            },
            "type": "scatter3d"
           }
          ],
          "scattercarpet": [
           {
            "marker": {
             "colorbar": {
              "outlinewidth": 0,
              "ticks": ""
             }
            },
            "type": "scattercarpet"
           }
          ],
          "scattergeo": [
           {
            "marker": {
             "colorbar": {
              "outlinewidth": 0,
              "ticks": ""
             }
            },
            "type": "scattergeo"
           }
          ],
          "scattergl": [
           {
            "marker": {
             "colorbar": {
              "outlinewidth": 0,
              "ticks": ""
             }
            },
            "type": "scattergl"
           }
          ],
          "scattermapbox": [
           {
            "marker": {
             "colorbar": {
              "outlinewidth": 0,
              "ticks": ""
             }
            },
            "type": "scattermapbox"
           }
          ],
          "scatterpolar": [
           {
            "marker": {
             "colorbar": {
              "outlinewidth": 0,
              "ticks": ""
             }
            },
            "type": "scatterpolar"
           }
          ],
          "scatterpolargl": [
           {
            "marker": {
             "colorbar": {
              "outlinewidth": 0,
              "ticks": ""
             }
            },
            "type": "scatterpolargl"
           }
          ],
          "scatterternary": [
           {
            "marker": {
             "colorbar": {
              "outlinewidth": 0,
              "ticks": ""
             }
            },
            "type": "scatterternary"
           }
          ],
          "surface": [
           {
            "colorbar": {
             "outlinewidth": 0,
             "ticks": ""
            },
            "colorscale": [
             [
              0,
              "#0d0887"
             ],
             [
              0.1111111111111111,
              "#46039f"
             ],
             [
              0.2222222222222222,
              "#7201a8"
             ],
             [
              0.3333333333333333,
              "#9c179e"
             ],
             [
              0.4444444444444444,
              "#bd3786"
             ],
             [
              0.5555555555555556,
              "#d8576b"
             ],
             [
              0.6666666666666666,
              "#ed7953"
             ],
             [
              0.7777777777777778,
              "#fb9f3a"
             ],
             [
              0.8888888888888888,
              "#fdca26"
             ],
             [
              1,
              "#f0f921"
             ]
            ],
            "type": "surface"
           }
          ],
          "table": [
           {
            "cells": {
             "fill": {
              "color": "#EBF0F8"
             },
             "line": {
              "color": "white"
             }
            },
            "header": {
             "fill": {
              "color": "#C8D4E3"
             },
             "line": {
              "color": "white"
             }
            },
            "type": "table"
           }
          ]
         },
         "layout": {
          "annotationdefaults": {
           "arrowcolor": "#2a3f5f",
           "arrowhead": 0,
           "arrowwidth": 1
          },
          "autotypenumbers": "strict",
          "coloraxis": {
           "colorbar": {
            "outlinewidth": 0,
            "ticks": ""
           }
          },
          "colorscale": {
           "diverging": [
            [
             0,
             "#8e0152"
            ],
            [
             0.1,
             "#c51b7d"
            ],
            [
             0.2,
             "#de77ae"
            ],
            [
             0.3,
             "#f1b6da"
            ],
            [
             0.4,
             "#fde0ef"
            ],
            [
             0.5,
             "#f7f7f7"
            ],
            [
             0.6,
             "#e6f5d0"
            ],
            [
             0.7,
             "#b8e186"
            ],
            [
             0.8,
             "#7fbc41"
            ],
            [
             0.9,
             "#4d9221"
            ],
            [
             1,
             "#276419"
            ]
           ],
           "sequential": [
            [
             0,
             "#0d0887"
            ],
            [
             0.1111111111111111,
             "#46039f"
            ],
            [
             0.2222222222222222,
             "#7201a8"
            ],
            [
             0.3333333333333333,
             "#9c179e"
            ],
            [
             0.4444444444444444,
             "#bd3786"
            ],
            [
             0.5555555555555556,
             "#d8576b"
            ],
            [
             0.6666666666666666,
             "#ed7953"
            ],
            [
             0.7777777777777778,
             "#fb9f3a"
            ],
            [
             0.8888888888888888,
             "#fdca26"
            ],
            [
             1,
             "#f0f921"
            ]
           ],
           "sequentialminus": [
            [
             0,
             "#0d0887"
            ],
            [
             0.1111111111111111,
             "#46039f"
            ],
            [
             0.2222222222222222,
             "#7201a8"
            ],
            [
             0.3333333333333333,
             "#9c179e"
            ],
            [
             0.4444444444444444,
             "#bd3786"
            ],
            [
             0.5555555555555556,
             "#d8576b"
            ],
            [
             0.6666666666666666,
             "#ed7953"
            ],
            [
             0.7777777777777778,
             "#fb9f3a"
            ],
            [
             0.8888888888888888,
             "#fdca26"
            ],
            [
             1,
             "#f0f921"
            ]
           ]
          },
          "colorway": [
           "#636efa",
           "#EF553B",
           "#00cc96",
           "#ab63fa",
           "#FFA15A",
           "#19d3f3",
           "#FF6692",
           "#B6E880",
           "#FF97FF",
           "#FECB52"
          ],
          "font": {
           "color": "#2a3f5f"
          },
          "geo": {
           "bgcolor": "white",
           "lakecolor": "white",
           "landcolor": "#E5ECF6",
           "showlakes": true,
           "showland": true,
           "subunitcolor": "white"
          },
          "hoverlabel": {
           "align": "left"
          },
          "hovermode": "closest",
          "mapbox": {
           "style": "light"
          },
          "paper_bgcolor": "white",
          "plot_bgcolor": "#E5ECF6",
          "polar": {
           "angularaxis": {
            "gridcolor": "white",
            "linecolor": "white",
            "ticks": ""
           },
           "bgcolor": "#E5ECF6",
           "radialaxis": {
            "gridcolor": "white",
            "linecolor": "white",
            "ticks": ""
           }
          },
          "scene": {
           "xaxis": {
            "backgroundcolor": "#E5ECF6",
            "gridcolor": "white",
            "gridwidth": 2,
            "linecolor": "white",
            "showbackground": true,
            "ticks": "",
            "zerolinecolor": "white"
           },
           "yaxis": {
            "backgroundcolor": "#E5ECF6",
            "gridcolor": "white",
            "gridwidth": 2,
            "linecolor": "white",
            "showbackground": true,
            "ticks": "",
            "zerolinecolor": "white"
           },
           "zaxis": {
            "backgroundcolor": "#E5ECF6",
            "gridcolor": "white",
            "gridwidth": 2,
            "linecolor": "white",
            "showbackground": true,
            "ticks": "",
            "zerolinecolor": "white"
           }
          },
          "shapedefaults": {
           "line": {
            "color": "#2a3f5f"
           }
          },
          "ternary": {
           "aaxis": {
            "gridcolor": "white",
            "linecolor": "white",
            "ticks": ""
           },
           "baxis": {
            "gridcolor": "white",
            "linecolor": "white",
            "ticks": ""
           },
           "bgcolor": "#E5ECF6",
           "caxis": {
            "gridcolor": "white",
            "linecolor": "white",
            "ticks": ""
           }
          },
          "title": {
           "x": 0.05
          },
          "xaxis": {
           "automargin": true,
           "gridcolor": "white",
           "linecolor": "white",
           "ticks": "",
           "title": {
            "standoff": 15
           },
           "zerolinecolor": "white",
           "zerolinewidth": 2
          },
          "yaxis": {
           "automargin": true,
           "gridcolor": "white",
           "linecolor": "white",
           "ticks": "",
           "title": {
            "standoff": 15
           },
           "zerolinecolor": "white",
           "zerolinewidth": 2
          }
         }
        },
        "title": {
         "text": "Percentage of Household in Positive and Negative Savings"
        },
        "width": 1000,
        "xaxis": {
         "anchor": "y",
         "domain": [
          0,
          0.2888888888888889
         ],
         "tickformat": ",.0%",
         "title": {
          "text": "Bill"
         },
         "visible": true
        },
        "xaxis2": {
         "anchor": "y2",
         "domain": [
          0.35555555555555557,
          0.6444444444444445
         ],
         "tickformat": ",.0%",
         "title": {
          "text": "Emission"
         },
         "visible": true
        },
        "xaxis3": {
         "anchor": "y3",
         "domain": [
          0.7111111111111111,
          1
         ],
         "tickformat": ",.0%",
         "title": {
          "text": "Total Energy"
         },
         "visible": true
        },
        "yaxis": {
         "anchor": "x",
         "domain": [
          0,
          1
         ],
         "visible": true
        },
        "yaxis2": {
         "anchor": "x2",
         "domain": [
          0,
          1
         ],
         "visible": false
        },
        "yaxis3": {
         "anchor": "x3",
         "domain": [
          0,
          1
         ],
         "visible": false
        }
       }
      },
      "text/html": [
       "<div>                            <div id=\"1fb064b3-e50c-4823-91ed-ed58fdf73544\" class=\"plotly-graph-div\" style=\"height:500px; width:1000px;\"></div>            <script type=\"text/javascript\">                require([\"plotly\"], function(Plotly) {                    window.PLOTLYENV=window.PLOTLYENV || {};                                    if (document.getElementById(\"1fb064b3-e50c-4823-91ed-ed58fdf73544\")) {                    Plotly.newPlot(                        \"1fb064b3-e50c-4823-91ed-ed58fdf73544\",                        [{\"marker\":{\"color\":\"red\"},\"name\":\"Negative\",\"orientation\":\"h\",\"text\":[1.0,0.4,0.3333333333333333,0.1111111111111111,0.06666666666666667,0.0,0.0,0.0,0.0,0.0,0.0,0.0,0.0,0.0,0.0],\"x\":[1.0,0.4,0.3333333333333333,0.1111111111111111,0.06666666666666667,0.0,0.0,0.0,0.0,0.0,0.0,0.0,0.0,0.0,0.0],\"y\":[\"Electric Cooking\",\"Mininum Efficiency Heat Pump with Electric Heat Backup\",\"Induction Cooking\",\"Mininum Efficiency Whole Home Electrification\",\"Mininum Efficiency Heat Pump with Existing Heat Backup\",\"Basic Enclosure\",\"Basic Enclosure + HPWH + High Efficiency HP/Electric Backup\",\"Basic Enclosure + High Efficiency Whole Home Electrification\",\"Enhanced Enclosure\",\"Enhanced Enclosure + HPWH + High Efficiency HP/Electric Backup\",\"Enhanced Enclosure + High Efficiency Whole Home Electrification\",\"Heat Pump Clothes Dryer\",\"Heat Pump Water Heater\",\"High Efficiency Heat Pump with Electric Heat Backup\",\"High Efficiency Whole Home Electrification\"],\"type\":\"bar\",\"xaxis\":\"x\",\"yaxis\":\"y\",\"textposition\":\"inside\",\"texttemplate\":\"%{text:.0%}\"},{\"marker\":{\"color\":\"green\"},\"name\":\"Positive\",\"orientation\":\"h\",\"text\":[0.0,0.6,0.6666666666666666,0.8888888888888888,0.9333333333333333,1.0,1.0,1.0,1.0,1.0,1.0,1.0,1.0,1.0,1.0],\"x\":[0.0,0.6,0.6666666666666666,0.8888888888888888,0.9333333333333333,1.0,1.0,1.0,1.0,1.0,1.0,1.0,1.0,1.0,1.0],\"y\":[\"Electric Cooking\",\"Mininum Efficiency Heat Pump with Electric Heat Backup\",\"Induction Cooking\",\"Mininum Efficiency Whole Home Electrification\",\"Mininum Efficiency Heat Pump with Existing Heat Backup\",\"Basic Enclosure\",\"Basic Enclosure + HPWH + High Efficiency HP/Electric Backup\",\"Basic Enclosure + High Efficiency Whole Home Electrification\",\"Enhanced Enclosure\",\"Enhanced Enclosure + HPWH + High Efficiency HP/Electric Backup\",\"Enhanced Enclosure + High Efficiency Whole Home Electrification\",\"Heat Pump Clothes Dryer\",\"Heat Pump Water Heater\",\"High Efficiency Heat Pump with Electric Heat Backup\",\"High Efficiency Whole Home Electrification\"],\"type\":\"bar\",\"xaxis\":\"x\",\"yaxis\":\"y\",\"textposition\":\"inside\",\"texttemplate\":\"%{text:.0%}\"},{\"marker\":{\"color\":\"red\"},\"orientation\":\"h\",\"showlegend\":false,\"text\":[0.0,0.0,0.0,0.0,0.0,0.0,0.0,0.0,0.0,0.0,0.0,0.0,0.0,0.0,0.0],\"x\":[0.0,0.0,0.0,0.0,0.0,0.0,0.0,0.0,0.0,0.0,0.0,0.0,0.0,0.0,0.0],\"y\":[\"Electric Cooking\",\"Mininum Efficiency Heat Pump with Electric Heat Backup\",\"Induction Cooking\",\"Mininum Efficiency Whole Home Electrification\",\"Mininum Efficiency Heat Pump with Existing Heat Backup\",\"Basic Enclosure\",\"Basic Enclosure + HPWH + High Efficiency HP/Electric Backup\",\"Basic Enclosure + High Efficiency Whole Home Electrification\",\"Enhanced Enclosure\",\"Enhanced Enclosure + HPWH + High Efficiency HP/Electric Backup\",\"Enhanced Enclosure + High Efficiency Whole Home Electrification\",\"Heat Pump Clothes Dryer\",\"Heat Pump Water Heater\",\"High Efficiency Heat Pump with Electric Heat Backup\",\"High Efficiency Whole Home Electrification\"],\"type\":\"bar\",\"xaxis\":\"x2\",\"yaxis\":\"y2\",\"textposition\":\"inside\",\"texttemplate\":\"%{text:.0%}\"},{\"marker\":{\"color\":\"green\"},\"orientation\":\"h\",\"showlegend\":false,\"text\":[1.0,1.0,1.0,1.0,1.0,1.0,1.0,1.0,1.0,1.0,1.0,1.0,1.0,1.0,1.0],\"x\":[1.0,1.0,1.0,1.0,1.0,1.0,1.0,1.0,1.0,1.0,1.0,1.0,1.0,1.0,1.0],\"y\":[\"Electric Cooking\",\"Mininum Efficiency Heat Pump with Electric Heat Backup\",\"Induction Cooking\",\"Mininum Efficiency Whole Home Electrification\",\"Mininum Efficiency Heat Pump with Existing Heat Backup\",\"Basic Enclosure\",\"Basic Enclosure + HPWH + High Efficiency HP/Electric Backup\",\"Basic Enclosure + High Efficiency Whole Home Electrification\",\"Enhanced Enclosure\",\"Enhanced Enclosure + HPWH + High Efficiency HP/Electric Backup\",\"Enhanced Enclosure + High Efficiency Whole Home Electrification\",\"Heat Pump Clothes Dryer\",\"Heat Pump Water Heater\",\"High Efficiency Heat Pump with Electric Heat Backup\",\"High Efficiency Whole Home Electrification\"],\"type\":\"bar\",\"xaxis\":\"x2\",\"yaxis\":\"y2\",\"textposition\":\"inside\",\"texttemplate\":\"%{text:.0%}\"},{\"marker\":{\"color\":\"red\"},\"orientation\":\"h\",\"showlegend\":false,\"text\":[0.0,0.0,0.0,0.0,0.0,0.0,0.0,0.0,0.0,0.0,0.0,0.0,0.0,0.0,0.0],\"x\":[0.0,0.0,0.0,0.0,0.0,0.0,0.0,0.0,0.0,0.0,0.0,0.0,0.0,0.0,0.0],\"y\":[\"Electric Cooking\",\"Mininum Efficiency Heat Pump with Electric Heat Backup\",\"Induction Cooking\",\"Mininum Efficiency Whole Home Electrification\",\"Mininum Efficiency Heat Pump with Existing Heat Backup\",\"Basic Enclosure\",\"Basic Enclosure + HPWH + High Efficiency HP/Electric Backup\",\"Basic Enclosure + High Efficiency Whole Home Electrification\",\"Enhanced Enclosure\",\"Enhanced Enclosure + HPWH + High Efficiency HP/Electric Backup\",\"Enhanced Enclosure + High Efficiency Whole Home Electrification\",\"Heat Pump Clothes Dryer\",\"Heat Pump Water Heater\",\"High Efficiency Heat Pump with Electric Heat Backup\",\"High Efficiency Whole Home Electrification\"],\"type\":\"bar\",\"xaxis\":\"x3\",\"yaxis\":\"y3\",\"textposition\":\"inside\",\"texttemplate\":\"%{text:.0%}\"},{\"marker\":{\"color\":\"green\"},\"orientation\":\"h\",\"showlegend\":false,\"text\":[1.0,1.0,1.0,1.0,1.0,1.0,1.0,1.0,1.0,1.0,1.0,1.0,1.0,1.0,1.0],\"x\":[1.0,1.0,1.0,1.0,1.0,1.0,1.0,1.0,1.0,1.0,1.0,1.0,1.0,1.0,1.0],\"y\":[\"Electric Cooking\",\"Mininum Efficiency Heat Pump with Electric Heat Backup\",\"Induction Cooking\",\"Mininum Efficiency Whole Home Electrification\",\"Mininum Efficiency Heat Pump with Existing Heat Backup\",\"Basic Enclosure\",\"Basic Enclosure + HPWH + High Efficiency HP/Electric Backup\",\"Basic Enclosure + High Efficiency Whole Home Electrification\",\"Enhanced Enclosure\",\"Enhanced Enclosure + HPWH + High Efficiency HP/Electric Backup\",\"Enhanced Enclosure + High Efficiency Whole Home Electrification\",\"Heat Pump Clothes Dryer\",\"Heat Pump Water Heater\",\"High Efficiency Heat Pump with Electric Heat Backup\",\"High Efficiency Whole Home Electrification\"],\"type\":\"bar\",\"xaxis\":\"x3\",\"yaxis\":\"y3\",\"textposition\":\"inside\",\"texttemplate\":\"%{text:.0%}\"}],                        {\"template\":{\"data\":{\"histogram2dcontour\":[{\"type\":\"histogram2dcontour\",\"colorbar\":{\"outlinewidth\":0,\"ticks\":\"\"},\"colorscale\":[[0.0,\"#0d0887\"],[0.1111111111111111,\"#46039f\"],[0.2222222222222222,\"#7201a8\"],[0.3333333333333333,\"#9c179e\"],[0.4444444444444444,\"#bd3786\"],[0.5555555555555556,\"#d8576b\"],[0.6666666666666666,\"#ed7953\"],[0.7777777777777778,\"#fb9f3a\"],[0.8888888888888888,\"#fdca26\"],[1.0,\"#f0f921\"]]}],\"choropleth\":[{\"type\":\"choropleth\",\"colorbar\":{\"outlinewidth\":0,\"ticks\":\"\"}}],\"histogram2d\":[{\"type\":\"histogram2d\",\"colorbar\":{\"outlinewidth\":0,\"ticks\":\"\"},\"colorscale\":[[0.0,\"#0d0887\"],[0.1111111111111111,\"#46039f\"],[0.2222222222222222,\"#7201a8\"],[0.3333333333333333,\"#9c179e\"],[0.4444444444444444,\"#bd3786\"],[0.5555555555555556,\"#d8576b\"],[0.6666666666666666,\"#ed7953\"],[0.7777777777777778,\"#fb9f3a\"],[0.8888888888888888,\"#fdca26\"],[1.0,\"#f0f921\"]]}],\"heatmap\":[{\"type\":\"heatmap\",\"colorbar\":{\"outlinewidth\":0,\"ticks\":\"\"},\"colorscale\":[[0.0,\"#0d0887\"],[0.1111111111111111,\"#46039f\"],[0.2222222222222222,\"#7201a8\"],[0.3333333333333333,\"#9c179e\"],[0.4444444444444444,\"#bd3786\"],[0.5555555555555556,\"#d8576b\"],[0.6666666666666666,\"#ed7953\"],[0.7777777777777778,\"#fb9f3a\"],[0.8888888888888888,\"#fdca26\"],[1.0,\"#f0f921\"]]}],\"heatmapgl\":[{\"type\":\"heatmapgl\",\"colorbar\":{\"outlinewidth\":0,\"ticks\":\"\"},\"colorscale\":[[0.0,\"#0d0887\"],[0.1111111111111111,\"#46039f\"],[0.2222222222222222,\"#7201a8\"],[0.3333333333333333,\"#9c179e\"],[0.4444444444444444,\"#bd3786\"],[0.5555555555555556,\"#d8576b\"],[0.6666666666666666,\"#ed7953\"],[0.7777777777777778,\"#fb9f3a\"],[0.8888888888888888,\"#fdca26\"],[1.0,\"#f0f921\"]]}],\"contourcarpet\":[{\"type\":\"contourcarpet\",\"colorbar\":{\"outlinewidth\":0,\"ticks\":\"\"}}],\"contour\":[{\"type\":\"contour\",\"colorbar\":{\"outlinewidth\":0,\"ticks\":\"\"},\"colorscale\":[[0.0,\"#0d0887\"],[0.1111111111111111,\"#46039f\"],[0.2222222222222222,\"#7201a8\"],[0.3333333333333333,\"#9c179e\"],[0.4444444444444444,\"#bd3786\"],[0.5555555555555556,\"#d8576b\"],[0.6666666666666666,\"#ed7953\"],[0.7777777777777778,\"#fb9f3a\"],[0.8888888888888888,\"#fdca26\"],[1.0,\"#f0f921\"]]}],\"surface\":[{\"type\":\"surface\",\"colorbar\":{\"outlinewidth\":0,\"ticks\":\"\"},\"colorscale\":[[0.0,\"#0d0887\"],[0.1111111111111111,\"#46039f\"],[0.2222222222222222,\"#7201a8\"],[0.3333333333333333,\"#9c179e\"],[0.4444444444444444,\"#bd3786\"],[0.5555555555555556,\"#d8576b\"],[0.6666666666666666,\"#ed7953\"],[0.7777777777777778,\"#fb9f3a\"],[0.8888888888888888,\"#fdca26\"],[1.0,\"#f0f921\"]]}],\"mesh3d\":[{\"type\":\"mesh3d\",\"colorbar\":{\"outlinewidth\":0,\"ticks\":\"\"}}],\"scatter\":[{\"fillpattern\":{\"fillmode\":\"overlay\",\"size\":10,\"solidity\":0.2},\"type\":\"scatter\"}],\"parcoords\":[{\"type\":\"parcoords\",\"line\":{\"colorbar\":{\"outlinewidth\":0,\"ticks\":\"\"}}}],\"scatterpolargl\":[{\"type\":\"scatterpolargl\",\"marker\":{\"colorbar\":{\"outlinewidth\":0,\"ticks\":\"\"}}}],\"bar\":[{\"error_x\":{\"color\":\"#2a3f5f\"},\"error_y\":{\"color\":\"#2a3f5f\"},\"marker\":{\"line\":{\"color\":\"#E5ECF6\",\"width\":0.5},\"pattern\":{\"fillmode\":\"overlay\",\"size\":10,\"solidity\":0.2}},\"type\":\"bar\"}],\"scattergeo\":[{\"type\":\"scattergeo\",\"marker\":{\"colorbar\":{\"outlinewidth\":0,\"ticks\":\"\"}}}],\"scatterpolar\":[{\"type\":\"scatterpolar\",\"marker\":{\"colorbar\":{\"outlinewidth\":0,\"ticks\":\"\"}}}],\"histogram\":[{\"marker\":{\"pattern\":{\"fillmode\":\"overlay\",\"size\":10,\"solidity\":0.2}},\"type\":\"histogram\"}],\"scattergl\":[{\"type\":\"scattergl\",\"marker\":{\"colorbar\":{\"outlinewidth\":0,\"ticks\":\"\"}}}],\"scatter3d\":[{\"type\":\"scatter3d\",\"line\":{\"colorbar\":{\"outlinewidth\":0,\"ticks\":\"\"}},\"marker\":{\"colorbar\":{\"outlinewidth\":0,\"ticks\":\"\"}}}],\"scattermapbox\":[{\"type\":\"scattermapbox\",\"marker\":{\"colorbar\":{\"outlinewidth\":0,\"ticks\":\"\"}}}],\"scatterternary\":[{\"type\":\"scatterternary\",\"marker\":{\"colorbar\":{\"outlinewidth\":0,\"ticks\":\"\"}}}],\"scattercarpet\":[{\"type\":\"scattercarpet\",\"marker\":{\"colorbar\":{\"outlinewidth\":0,\"ticks\":\"\"}}}],\"carpet\":[{\"aaxis\":{\"endlinecolor\":\"#2a3f5f\",\"gridcolor\":\"white\",\"linecolor\":\"white\",\"minorgridcolor\":\"white\",\"startlinecolor\":\"#2a3f5f\"},\"baxis\":{\"endlinecolor\":\"#2a3f5f\",\"gridcolor\":\"white\",\"linecolor\":\"white\",\"minorgridcolor\":\"white\",\"startlinecolor\":\"#2a3f5f\"},\"type\":\"carpet\"}],\"table\":[{\"cells\":{\"fill\":{\"color\":\"#EBF0F8\"},\"line\":{\"color\":\"white\"}},\"header\":{\"fill\":{\"color\":\"#C8D4E3\"},\"line\":{\"color\":\"white\"}},\"type\":\"table\"}],\"barpolar\":[{\"marker\":{\"line\":{\"color\":\"#E5ECF6\",\"width\":0.5},\"pattern\":{\"fillmode\":\"overlay\",\"size\":10,\"solidity\":0.2}},\"type\":\"barpolar\"}],\"pie\":[{\"automargin\":true,\"type\":\"pie\"}]},\"layout\":{\"autotypenumbers\":\"strict\",\"colorway\":[\"#636efa\",\"#EF553B\",\"#00cc96\",\"#ab63fa\",\"#FFA15A\",\"#19d3f3\",\"#FF6692\",\"#B6E880\",\"#FF97FF\",\"#FECB52\"],\"font\":{\"color\":\"#2a3f5f\"},\"hovermode\":\"closest\",\"hoverlabel\":{\"align\":\"left\"},\"paper_bgcolor\":\"white\",\"plot_bgcolor\":\"#E5ECF6\",\"polar\":{\"bgcolor\":\"#E5ECF6\",\"angularaxis\":{\"gridcolor\":\"white\",\"linecolor\":\"white\",\"ticks\":\"\"},\"radialaxis\":{\"gridcolor\":\"white\",\"linecolor\":\"white\",\"ticks\":\"\"}},\"ternary\":{\"bgcolor\":\"#E5ECF6\",\"aaxis\":{\"gridcolor\":\"white\",\"linecolor\":\"white\",\"ticks\":\"\"},\"baxis\":{\"gridcolor\":\"white\",\"linecolor\":\"white\",\"ticks\":\"\"},\"caxis\":{\"gridcolor\":\"white\",\"linecolor\":\"white\",\"ticks\":\"\"}},\"coloraxis\":{\"colorbar\":{\"outlinewidth\":0,\"ticks\":\"\"}},\"colorscale\":{\"sequential\":[[0.0,\"#0d0887\"],[0.1111111111111111,\"#46039f\"],[0.2222222222222222,\"#7201a8\"],[0.3333333333333333,\"#9c179e\"],[0.4444444444444444,\"#bd3786\"],[0.5555555555555556,\"#d8576b\"],[0.6666666666666666,\"#ed7953\"],[0.7777777777777778,\"#fb9f3a\"],[0.8888888888888888,\"#fdca26\"],[1.0,\"#f0f921\"]],\"sequentialminus\":[[0.0,\"#0d0887\"],[0.1111111111111111,\"#46039f\"],[0.2222222222222222,\"#7201a8\"],[0.3333333333333333,\"#9c179e\"],[0.4444444444444444,\"#bd3786\"],[0.5555555555555556,\"#d8576b\"],[0.6666666666666666,\"#ed7953\"],[0.7777777777777778,\"#fb9f3a\"],[0.8888888888888888,\"#fdca26\"],[1.0,\"#f0f921\"]],\"diverging\":[[0,\"#8e0152\"],[0.1,\"#c51b7d\"],[0.2,\"#de77ae\"],[0.3,\"#f1b6da\"],[0.4,\"#fde0ef\"],[0.5,\"#f7f7f7\"],[0.6,\"#e6f5d0\"],[0.7,\"#b8e186\"],[0.8,\"#7fbc41\"],[0.9,\"#4d9221\"],[1,\"#276419\"]]},\"xaxis\":{\"gridcolor\":\"white\",\"linecolor\":\"white\",\"ticks\":\"\",\"title\":{\"standoff\":15},\"zerolinecolor\":\"white\",\"automargin\":true,\"zerolinewidth\":2},\"yaxis\":{\"gridcolor\":\"white\",\"linecolor\":\"white\",\"ticks\":\"\",\"title\":{\"standoff\":15},\"zerolinecolor\":\"white\",\"automargin\":true,\"zerolinewidth\":2},\"scene\":{\"xaxis\":{\"backgroundcolor\":\"#E5ECF6\",\"gridcolor\":\"white\",\"linecolor\":\"white\",\"showbackground\":true,\"ticks\":\"\",\"zerolinecolor\":\"white\",\"gridwidth\":2},\"yaxis\":{\"backgroundcolor\":\"#E5ECF6\",\"gridcolor\":\"white\",\"linecolor\":\"white\",\"showbackground\":true,\"ticks\":\"\",\"zerolinecolor\":\"white\",\"gridwidth\":2},\"zaxis\":{\"backgroundcolor\":\"#E5ECF6\",\"gridcolor\":\"white\",\"linecolor\":\"white\",\"showbackground\":true,\"ticks\":\"\",\"zerolinecolor\":\"white\",\"gridwidth\":2}},\"shapedefaults\":{\"line\":{\"color\":\"#2a3f5f\"}},\"annotationdefaults\":{\"arrowcolor\":\"#2a3f5f\",\"arrowhead\":0,\"arrowwidth\":1},\"geo\":{\"bgcolor\":\"white\",\"landcolor\":\"#E5ECF6\",\"subunitcolor\":\"white\",\"showland\":true,\"showlakes\":true,\"lakecolor\":\"white\"},\"title\":{\"x\":0.05},\"mapbox\":{\"style\":\"light\"}}},\"xaxis\":{\"anchor\":\"y\",\"domain\":[0.0,0.2888888888888889],\"title\":{\"text\":\"Bill\"},\"visible\":true,\"tickformat\":\",.0%\"},\"yaxis\":{\"anchor\":\"x\",\"domain\":[0.0,1.0],\"visible\":true},\"xaxis2\":{\"anchor\":\"y2\",\"domain\":[0.35555555555555557,0.6444444444444445],\"title\":{\"text\":\"Emission\"},\"visible\":true,\"tickformat\":\",.0%\"},\"yaxis2\":{\"anchor\":\"x2\",\"domain\":[0.0,1.0],\"visible\":false},\"xaxis3\":{\"anchor\":\"y3\",\"domain\":[0.7111111111111111,1.0],\"title\":{\"text\":\"Total Energy\"},\"visible\":true,\"tickformat\":\",.0%\"},\"yaxis3\":{\"anchor\":\"x3\",\"domain\":[0.0,1.0],\"visible\":false},\"barmode\":\"relative\",\"font\":{\"size\":10},\"title\":{\"text\":\"Percentage of Household in Positive and Negative Savings\"},\"autosize\":false,\"width\":1000,\"height\":500},                        {\"responsive\": true}                    ).then(function(){\n",
       "                            \n",
       "var gd = document.getElementById('1fb064b3-e50c-4823-91ed-ed58fdf73544');\n",
       "var x = new MutationObserver(function (mutations, observer) {{\n",
       "        var display = window.getComputedStyle(gd).display;\n",
       "        if (!display || display === 'none') {{\n",
       "            console.log([gd, 'removed!']);\n",
       "            Plotly.purge(gd);\n",
       "            observer.disconnect();\n",
       "        }}\n",
       "}});\n",
       "\n",
       "// Listen for the removal of the full notebook cells\n",
       "var notebookContainer = gd.closest('#notebook-container');\n",
       "if (notebookContainer) {{\n",
       "    x.observe(notebookContainer, {childList: true});\n",
       "}}\n",
       "\n",
       "// Listen for the clearing of the current output cell\n",
       "var outputEl = gd.closest('.output');\n",
       "if (outputEl) {{\n",
       "    x.observe(outputEl, {childList: true});\n",
       "}}\n",
       "\n",
       "                        })                };                });            </script>        </div>"
      ]
     },
     "metadata": {},
     "output_type": "display_data"
    },
    {
     "name": "stderr",
     "output_type": "stream",
     "text": [
      "C:\\Users\\ylou2\\AppData\\Local\\Temp\\1\\ipykernel_17696\\3209730133.py:3: PerformanceWarning:\n",
      "\n",
      "DataFrame is highly fragmented.  This is usually the result of calling `frame.insert` many times, which has poor performance.  Consider joining all columns at once using pd.concat(axis=1) instead. To get a de-fragmented frame, use `newframe = frame.copy()`\n",
      "\n",
      "C:\\Users\\ylou2\\AppData\\Local\\Temp\\1\\ipykernel_17696\\3209730133.py:4: PerformanceWarning:\n",
      "\n",
      "DataFrame is highly fragmented.  This is usually the result of calling `frame.insert` many times, which has poor performance.  Consider joining all columns at once using pd.concat(axis=1) instead. To get a de-fragmented frame, use `newframe = frame.copy()`\n",
      "\n",
      "C:\\Users\\ylou2\\AppData\\Local\\Temp\\1\\ipykernel_17696\\3209730133.py:5: PerformanceWarning:\n",
      "\n",
      "DataFrame is highly fragmented.  This is usually the result of calling `frame.insert` many times, which has poor performance.  Consider joining all columns at once using pd.concat(axis=1) instead. To get a de-fragmented frame, use `newframe = frame.copy()`\n",
      "\n"
     ]
    }
   ],
   "source": [
    "segment = 'segment2'\n",
    "results = figure_positive_negative_savings(segment, community_results)\n",
    "saving_results[f'segment2_{income}_pct_bill_positive_savings_%'] = results[0]*100\n",
    "saving_results[f'segment2_{income}_pct_emission_positive_savings_%'] = results[1]*100\n",
    "saving_results[f'segment2_{income}_pct_energy_positive_savings_%'] = results[2]*100"
   ]
  },
  {
   "cell_type": "markdown",
   "id": "5902d860",
   "metadata": {},
   "source": [
    "### Segment 3"
   ]
  },
  {
   "cell_type": "code",
   "execution_count": 106,
   "id": "bd3a4fc0",
   "metadata": {},
   "outputs": [
    {
     "data": {
      "application/vnd.plotly.v1+json": {
       "config": {
        "plotlyServerURL": "https://plot.ly"
       },
       "data": [
        {
         "marker": {
          "color": "red"
         },
         "name": "Negative",
         "orientation": "h",
         "text": [
          1,
          0.4,
          0.3333333333333333,
          0.1111111111111111,
          0.06666666666666667,
          0,
          0,
          0,
          0,
          0,
          0,
          0,
          0,
          0,
          0
         ],
         "textposition": "inside",
         "texttemplate": "%{text:.0%}",
         "type": "bar",
         "x": [
          1,
          0.4,
          0.3333333333333333,
          0.1111111111111111,
          0.06666666666666667,
          0,
          0,
          0,
          0,
          0,
          0,
          0,
          0,
          0,
          0
         ],
         "xaxis": "x",
         "y": [
          "Electric Cooking",
          "Mininum Efficiency Heat Pump with Electric Heat Backup",
          "Induction Cooking",
          "Mininum Efficiency Whole Home Electrification",
          "Mininum Efficiency Heat Pump with Existing Heat Backup",
          "Basic Enclosure",
          "Basic Enclosure + HPWH + High Efficiency HP/Electric Backup",
          "Basic Enclosure + High Efficiency Whole Home Electrification",
          "Enhanced Enclosure",
          "Enhanced Enclosure + HPWH + High Efficiency HP/Electric Backup",
          "Enhanced Enclosure + High Efficiency Whole Home Electrification",
          "Heat Pump Clothes Dryer",
          "Heat Pump Water Heater",
          "High Efficiency Heat Pump with Electric Heat Backup",
          "High Efficiency Whole Home Electrification"
         ],
         "yaxis": "y"
        },
        {
         "marker": {
          "color": "green"
         },
         "name": "Positive",
         "orientation": "h",
         "text": [
          0,
          0.6,
          0.6666666666666666,
          0.8888888888888888,
          0.9333333333333333,
          1,
          1,
          1,
          1,
          1,
          1,
          1,
          1,
          1,
          1
         ],
         "textposition": "inside",
         "texttemplate": "%{text:.0%}",
         "type": "bar",
         "x": [
          0,
          0.6,
          0.6666666666666666,
          0.8888888888888888,
          0.9333333333333333,
          1,
          1,
          1,
          1,
          1,
          1,
          1,
          1,
          1,
          1
         ],
         "xaxis": "x",
         "y": [
          "Electric Cooking",
          "Mininum Efficiency Heat Pump with Electric Heat Backup",
          "Induction Cooking",
          "Mininum Efficiency Whole Home Electrification",
          "Mininum Efficiency Heat Pump with Existing Heat Backup",
          "Basic Enclosure",
          "Basic Enclosure + HPWH + High Efficiency HP/Electric Backup",
          "Basic Enclosure + High Efficiency Whole Home Electrification",
          "Enhanced Enclosure",
          "Enhanced Enclosure + HPWH + High Efficiency HP/Electric Backup",
          "Enhanced Enclosure + High Efficiency Whole Home Electrification",
          "Heat Pump Clothes Dryer",
          "Heat Pump Water Heater",
          "High Efficiency Heat Pump with Electric Heat Backup",
          "High Efficiency Whole Home Electrification"
         ],
         "yaxis": "y"
        },
        {
         "marker": {
          "color": "red"
         },
         "orientation": "h",
         "showlegend": false,
         "text": [
          0,
          0,
          0,
          0,
          0,
          0,
          0,
          0,
          0,
          0,
          0,
          0,
          0,
          0,
          0
         ],
         "textposition": "inside",
         "texttemplate": "%{text:.0%}",
         "type": "bar",
         "x": [
          0,
          0,
          0,
          0,
          0,
          0,
          0,
          0,
          0,
          0,
          0,
          0,
          0,
          0,
          0
         ],
         "xaxis": "x2",
         "y": [
          "Electric Cooking",
          "Mininum Efficiency Heat Pump with Electric Heat Backup",
          "Induction Cooking",
          "Mininum Efficiency Whole Home Electrification",
          "Mininum Efficiency Heat Pump with Existing Heat Backup",
          "Basic Enclosure",
          "Basic Enclosure + HPWH + High Efficiency HP/Electric Backup",
          "Basic Enclosure + High Efficiency Whole Home Electrification",
          "Enhanced Enclosure",
          "Enhanced Enclosure + HPWH + High Efficiency HP/Electric Backup",
          "Enhanced Enclosure + High Efficiency Whole Home Electrification",
          "Heat Pump Clothes Dryer",
          "Heat Pump Water Heater",
          "High Efficiency Heat Pump with Electric Heat Backup",
          "High Efficiency Whole Home Electrification"
         ],
         "yaxis": "y2"
        },
        {
         "marker": {
          "color": "green"
         },
         "orientation": "h",
         "showlegend": false,
         "text": [
          1,
          1,
          1,
          1,
          1,
          1,
          1,
          1,
          1,
          1,
          1,
          1,
          1,
          1,
          1
         ],
         "textposition": "inside",
         "texttemplate": "%{text:.0%}",
         "type": "bar",
         "x": [
          1,
          1,
          1,
          1,
          1,
          1,
          1,
          1,
          1,
          1,
          1,
          1,
          1,
          1,
          1
         ],
         "xaxis": "x2",
         "y": [
          "Electric Cooking",
          "Mininum Efficiency Heat Pump with Electric Heat Backup",
          "Induction Cooking",
          "Mininum Efficiency Whole Home Electrification",
          "Mininum Efficiency Heat Pump with Existing Heat Backup",
          "Basic Enclosure",
          "Basic Enclosure + HPWH + High Efficiency HP/Electric Backup",
          "Basic Enclosure + High Efficiency Whole Home Electrification",
          "Enhanced Enclosure",
          "Enhanced Enclosure + HPWH + High Efficiency HP/Electric Backup",
          "Enhanced Enclosure + High Efficiency Whole Home Electrification",
          "Heat Pump Clothes Dryer",
          "Heat Pump Water Heater",
          "High Efficiency Heat Pump with Electric Heat Backup",
          "High Efficiency Whole Home Electrification"
         ],
         "yaxis": "y2"
        },
        {
         "marker": {
          "color": "red"
         },
         "orientation": "h",
         "showlegend": false,
         "text": [
          0,
          0,
          0,
          0,
          0,
          0,
          0,
          0,
          0,
          0,
          0,
          0,
          0,
          0,
          0
         ],
         "textposition": "inside",
         "texttemplate": "%{text:.0%}",
         "type": "bar",
         "x": [
          0,
          0,
          0,
          0,
          0,
          0,
          0,
          0,
          0,
          0,
          0,
          0,
          0,
          0,
          0
         ],
         "xaxis": "x3",
         "y": [
          "Electric Cooking",
          "Mininum Efficiency Heat Pump with Electric Heat Backup",
          "Induction Cooking",
          "Mininum Efficiency Whole Home Electrification",
          "Mininum Efficiency Heat Pump with Existing Heat Backup",
          "Basic Enclosure",
          "Basic Enclosure + HPWH + High Efficiency HP/Electric Backup",
          "Basic Enclosure + High Efficiency Whole Home Electrification",
          "Enhanced Enclosure",
          "Enhanced Enclosure + HPWH + High Efficiency HP/Electric Backup",
          "Enhanced Enclosure + High Efficiency Whole Home Electrification",
          "Heat Pump Clothes Dryer",
          "Heat Pump Water Heater",
          "High Efficiency Heat Pump with Electric Heat Backup",
          "High Efficiency Whole Home Electrification"
         ],
         "yaxis": "y3"
        },
        {
         "marker": {
          "color": "green"
         },
         "orientation": "h",
         "showlegend": false,
         "text": [
          1,
          1,
          1,
          1,
          1,
          1,
          1,
          1,
          1,
          1,
          1,
          1,
          1,
          1,
          1
         ],
         "textposition": "inside",
         "texttemplate": "%{text:.0%}",
         "type": "bar",
         "x": [
          1,
          1,
          1,
          1,
          1,
          1,
          1,
          1,
          1,
          1,
          1,
          1,
          1,
          1,
          1
         ],
         "xaxis": "x3",
         "y": [
          "Electric Cooking",
          "Mininum Efficiency Heat Pump with Electric Heat Backup",
          "Induction Cooking",
          "Mininum Efficiency Whole Home Electrification",
          "Mininum Efficiency Heat Pump with Existing Heat Backup",
          "Basic Enclosure",
          "Basic Enclosure + HPWH + High Efficiency HP/Electric Backup",
          "Basic Enclosure + High Efficiency Whole Home Electrification",
          "Enhanced Enclosure",
          "Enhanced Enclosure + HPWH + High Efficiency HP/Electric Backup",
          "Enhanced Enclosure + High Efficiency Whole Home Electrification",
          "Heat Pump Clothes Dryer",
          "Heat Pump Water Heater",
          "High Efficiency Heat Pump with Electric Heat Backup",
          "High Efficiency Whole Home Electrification"
         ],
         "yaxis": "y3"
        }
       ],
       "layout": {
        "autosize": false,
        "barmode": "relative",
        "font": {
         "size": 10
        },
        "height": 500,
        "template": {
         "data": {
          "bar": [
           {
            "error_x": {
             "color": "#2a3f5f"
            },
            "error_y": {
             "color": "#2a3f5f"
            },
            "marker": {
             "line": {
              "color": "#E5ECF6",
              "width": 0.5
             },
             "pattern": {
              "fillmode": "overlay",
              "size": 10,
              "solidity": 0.2
             }
            },
            "type": "bar"
           }
          ],
          "barpolar": [
           {
            "marker": {
             "line": {
              "color": "#E5ECF6",
              "width": 0.5
             },
             "pattern": {
              "fillmode": "overlay",
              "size": 10,
              "solidity": 0.2
             }
            },
            "type": "barpolar"
           }
          ],
          "carpet": [
           {
            "aaxis": {
             "endlinecolor": "#2a3f5f",
             "gridcolor": "white",
             "linecolor": "white",
             "minorgridcolor": "white",
             "startlinecolor": "#2a3f5f"
            },
            "baxis": {
             "endlinecolor": "#2a3f5f",
             "gridcolor": "white",
             "linecolor": "white",
             "minorgridcolor": "white",
             "startlinecolor": "#2a3f5f"
            },
            "type": "carpet"
           }
          ],
          "choropleth": [
           {
            "colorbar": {
             "outlinewidth": 0,
             "ticks": ""
            },
            "type": "choropleth"
           }
          ],
          "contour": [
           {
            "colorbar": {
             "outlinewidth": 0,
             "ticks": ""
            },
            "colorscale": [
             [
              0,
              "#0d0887"
             ],
             [
              0.1111111111111111,
              "#46039f"
             ],
             [
              0.2222222222222222,
              "#7201a8"
             ],
             [
              0.3333333333333333,
              "#9c179e"
             ],
             [
              0.4444444444444444,
              "#bd3786"
             ],
             [
              0.5555555555555556,
              "#d8576b"
             ],
             [
              0.6666666666666666,
              "#ed7953"
             ],
             [
              0.7777777777777778,
              "#fb9f3a"
             ],
             [
              0.8888888888888888,
              "#fdca26"
             ],
             [
              1,
              "#f0f921"
             ]
            ],
            "type": "contour"
           }
          ],
          "contourcarpet": [
           {
            "colorbar": {
             "outlinewidth": 0,
             "ticks": ""
            },
            "type": "contourcarpet"
           }
          ],
          "heatmap": [
           {
            "colorbar": {
             "outlinewidth": 0,
             "ticks": ""
            },
            "colorscale": [
             [
              0,
              "#0d0887"
             ],
             [
              0.1111111111111111,
              "#46039f"
             ],
             [
              0.2222222222222222,
              "#7201a8"
             ],
             [
              0.3333333333333333,
              "#9c179e"
             ],
             [
              0.4444444444444444,
              "#bd3786"
             ],
             [
              0.5555555555555556,
              "#d8576b"
             ],
             [
              0.6666666666666666,
              "#ed7953"
             ],
             [
              0.7777777777777778,
              "#fb9f3a"
             ],
             [
              0.8888888888888888,
              "#fdca26"
             ],
             [
              1,
              "#f0f921"
             ]
            ],
            "type": "heatmap"
           }
          ],
          "heatmapgl": [
           {
            "colorbar": {
             "outlinewidth": 0,
             "ticks": ""
            },
            "colorscale": [
             [
              0,
              "#0d0887"
             ],
             [
              0.1111111111111111,
              "#46039f"
             ],
             [
              0.2222222222222222,
              "#7201a8"
             ],
             [
              0.3333333333333333,
              "#9c179e"
             ],
             [
              0.4444444444444444,
              "#bd3786"
             ],
             [
              0.5555555555555556,
              "#d8576b"
             ],
             [
              0.6666666666666666,
              "#ed7953"
             ],
             [
              0.7777777777777778,
              "#fb9f3a"
             ],
             [
              0.8888888888888888,
              "#fdca26"
             ],
             [
              1,
              "#f0f921"
             ]
            ],
            "type": "heatmapgl"
           }
          ],
          "histogram": [
           {
            "marker": {
             "pattern": {
              "fillmode": "overlay",
              "size": 10,
              "solidity": 0.2
             }
            },
            "type": "histogram"
           }
          ],
          "histogram2d": [
           {
            "colorbar": {
             "outlinewidth": 0,
             "ticks": ""
            },
            "colorscale": [
             [
              0,
              "#0d0887"
             ],
             [
              0.1111111111111111,
              "#46039f"
             ],
             [
              0.2222222222222222,
              "#7201a8"
             ],
             [
              0.3333333333333333,
              "#9c179e"
             ],
             [
              0.4444444444444444,
              "#bd3786"
             ],
             [
              0.5555555555555556,
              "#d8576b"
             ],
             [
              0.6666666666666666,
              "#ed7953"
             ],
             [
              0.7777777777777778,
              "#fb9f3a"
             ],
             [
              0.8888888888888888,
              "#fdca26"
             ],
             [
              1,
              "#f0f921"
             ]
            ],
            "type": "histogram2d"
           }
          ],
          "histogram2dcontour": [
           {
            "colorbar": {
             "outlinewidth": 0,
             "ticks": ""
            },
            "colorscale": [
             [
              0,
              "#0d0887"
             ],
             [
              0.1111111111111111,
              "#46039f"
             ],
             [
              0.2222222222222222,
              "#7201a8"
             ],
             [
              0.3333333333333333,
              "#9c179e"
             ],
             [
              0.4444444444444444,
              "#bd3786"
             ],
             [
              0.5555555555555556,
              "#d8576b"
             ],
             [
              0.6666666666666666,
              "#ed7953"
             ],
             [
              0.7777777777777778,
              "#fb9f3a"
             ],
             [
              0.8888888888888888,
              "#fdca26"
             ],
             [
              1,
              "#f0f921"
             ]
            ],
            "type": "histogram2dcontour"
           }
          ],
          "mesh3d": [
           {
            "colorbar": {
             "outlinewidth": 0,
             "ticks": ""
            },
            "type": "mesh3d"
           }
          ],
          "parcoords": [
           {
            "line": {
             "colorbar": {
              "outlinewidth": 0,
              "ticks": ""
             }
            },
            "type": "parcoords"
           }
          ],
          "pie": [
           {
            "automargin": true,
            "type": "pie"
           }
          ],
          "scatter": [
           {
            "fillpattern": {
             "fillmode": "overlay",
             "size": 10,
             "solidity": 0.2
            },
            "type": "scatter"
           }
          ],
          "scatter3d": [
           {
            "line": {
             "colorbar": {
              "outlinewidth": 0,
              "ticks": ""
             }
            },
            "marker": {
             "colorbar": {
              "outlinewidth": 0,
              "ticks": ""
             }
            },
            "type": "scatter3d"
           }
          ],
          "scattercarpet": [
           {
            "marker": {
             "colorbar": {
              "outlinewidth": 0,
              "ticks": ""
             }
            },
            "type": "scattercarpet"
           }
          ],
          "scattergeo": [
           {
            "marker": {
             "colorbar": {
              "outlinewidth": 0,
              "ticks": ""
             }
            },
            "type": "scattergeo"
           }
          ],
          "scattergl": [
           {
            "marker": {
             "colorbar": {
              "outlinewidth": 0,
              "ticks": ""
             }
            },
            "type": "scattergl"
           }
          ],
          "scattermapbox": [
           {
            "marker": {
             "colorbar": {
              "outlinewidth": 0,
              "ticks": ""
             }
            },
            "type": "scattermapbox"
           }
          ],
          "scatterpolar": [
           {
            "marker": {
             "colorbar": {
              "outlinewidth": 0,
              "ticks": ""
             }
            },
            "type": "scatterpolar"
           }
          ],
          "scatterpolargl": [
           {
            "marker": {
             "colorbar": {
              "outlinewidth": 0,
              "ticks": ""
             }
            },
            "type": "scatterpolargl"
           }
          ],
          "scatterternary": [
           {
            "marker": {
             "colorbar": {
              "outlinewidth": 0,
              "ticks": ""
             }
            },
            "type": "scatterternary"
           }
          ],
          "surface": [
           {
            "colorbar": {
             "outlinewidth": 0,
             "ticks": ""
            },
            "colorscale": [
             [
              0,
              "#0d0887"
             ],
             [
              0.1111111111111111,
              "#46039f"
             ],
             [
              0.2222222222222222,
              "#7201a8"
             ],
             [
              0.3333333333333333,
              "#9c179e"
             ],
             [
              0.4444444444444444,
              "#bd3786"
             ],
             [
              0.5555555555555556,
              "#d8576b"
             ],
             [
              0.6666666666666666,
              "#ed7953"
             ],
             [
              0.7777777777777778,
              "#fb9f3a"
             ],
             [
              0.8888888888888888,
              "#fdca26"
             ],
             [
              1,
              "#f0f921"
             ]
            ],
            "type": "surface"
           }
          ],
          "table": [
           {
            "cells": {
             "fill": {
              "color": "#EBF0F8"
             },
             "line": {
              "color": "white"
             }
            },
            "header": {
             "fill": {
              "color": "#C8D4E3"
             },
             "line": {
              "color": "white"
             }
            },
            "type": "table"
           }
          ]
         },
         "layout": {
          "annotationdefaults": {
           "arrowcolor": "#2a3f5f",
           "arrowhead": 0,
           "arrowwidth": 1
          },
          "autotypenumbers": "strict",
          "coloraxis": {
           "colorbar": {
            "outlinewidth": 0,
            "ticks": ""
           }
          },
          "colorscale": {
           "diverging": [
            [
             0,
             "#8e0152"
            ],
            [
             0.1,
             "#c51b7d"
            ],
            [
             0.2,
             "#de77ae"
            ],
            [
             0.3,
             "#f1b6da"
            ],
            [
             0.4,
             "#fde0ef"
            ],
            [
             0.5,
             "#f7f7f7"
            ],
            [
             0.6,
             "#e6f5d0"
            ],
            [
             0.7,
             "#b8e186"
            ],
            [
             0.8,
             "#7fbc41"
            ],
            [
             0.9,
             "#4d9221"
            ],
            [
             1,
             "#276419"
            ]
           ],
           "sequential": [
            [
             0,
             "#0d0887"
            ],
            [
             0.1111111111111111,
             "#46039f"
            ],
            [
             0.2222222222222222,
             "#7201a8"
            ],
            [
             0.3333333333333333,
             "#9c179e"
            ],
            [
             0.4444444444444444,
             "#bd3786"
            ],
            [
             0.5555555555555556,
             "#d8576b"
            ],
            [
             0.6666666666666666,
             "#ed7953"
            ],
            [
             0.7777777777777778,
             "#fb9f3a"
            ],
            [
             0.8888888888888888,
             "#fdca26"
            ],
            [
             1,
             "#f0f921"
            ]
           ],
           "sequentialminus": [
            [
             0,
             "#0d0887"
            ],
            [
             0.1111111111111111,
             "#46039f"
            ],
            [
             0.2222222222222222,
             "#7201a8"
            ],
            [
             0.3333333333333333,
             "#9c179e"
            ],
            [
             0.4444444444444444,
             "#bd3786"
            ],
            [
             0.5555555555555556,
             "#d8576b"
            ],
            [
             0.6666666666666666,
             "#ed7953"
            ],
            [
             0.7777777777777778,
             "#fb9f3a"
            ],
            [
             0.8888888888888888,
             "#fdca26"
            ],
            [
             1,
             "#f0f921"
            ]
           ]
          },
          "colorway": [
           "#636efa",
           "#EF553B",
           "#00cc96",
           "#ab63fa",
           "#FFA15A",
           "#19d3f3",
           "#FF6692",
           "#B6E880",
           "#FF97FF",
           "#FECB52"
          ],
          "font": {
           "color": "#2a3f5f"
          },
          "geo": {
           "bgcolor": "white",
           "lakecolor": "white",
           "landcolor": "#E5ECF6",
           "showlakes": true,
           "showland": true,
           "subunitcolor": "white"
          },
          "hoverlabel": {
           "align": "left"
          },
          "hovermode": "closest",
          "mapbox": {
           "style": "light"
          },
          "paper_bgcolor": "white",
          "plot_bgcolor": "#E5ECF6",
          "polar": {
           "angularaxis": {
            "gridcolor": "white",
            "linecolor": "white",
            "ticks": ""
           },
           "bgcolor": "#E5ECF6",
           "radialaxis": {
            "gridcolor": "white",
            "linecolor": "white",
            "ticks": ""
           }
          },
          "scene": {
           "xaxis": {
            "backgroundcolor": "#E5ECF6",
            "gridcolor": "white",
            "gridwidth": 2,
            "linecolor": "white",
            "showbackground": true,
            "ticks": "",
            "zerolinecolor": "white"
           },
           "yaxis": {
            "backgroundcolor": "#E5ECF6",
            "gridcolor": "white",
            "gridwidth": 2,
            "linecolor": "white",
            "showbackground": true,
            "ticks": "",
            "zerolinecolor": "white"
           },
           "zaxis": {
            "backgroundcolor": "#E5ECF6",
            "gridcolor": "white",
            "gridwidth": 2,
            "linecolor": "white",
            "showbackground": true,
            "ticks": "",
            "zerolinecolor": "white"
           }
          },
          "shapedefaults": {
           "line": {
            "color": "#2a3f5f"
           }
          },
          "ternary": {
           "aaxis": {
            "gridcolor": "white",
            "linecolor": "white",
            "ticks": ""
           },
           "baxis": {
            "gridcolor": "white",
            "linecolor": "white",
            "ticks": ""
           },
           "bgcolor": "#E5ECF6",
           "caxis": {
            "gridcolor": "white",
            "linecolor": "white",
            "ticks": ""
           }
          },
          "title": {
           "x": 0.05
          },
          "xaxis": {
           "automargin": true,
           "gridcolor": "white",
           "linecolor": "white",
           "ticks": "",
           "title": {
            "standoff": 15
           },
           "zerolinecolor": "white",
           "zerolinewidth": 2
          },
          "yaxis": {
           "automargin": true,
           "gridcolor": "white",
           "linecolor": "white",
           "ticks": "",
           "title": {
            "standoff": 15
           },
           "zerolinecolor": "white",
           "zerolinewidth": 2
          }
         }
        },
        "title": {
         "text": "Percentage of Household in Positive and Negative Savings"
        },
        "width": 1000,
        "xaxis": {
         "anchor": "y",
         "domain": [
          0,
          0.2888888888888889
         ],
         "tickformat": ",.0%",
         "title": {
          "text": "Bill"
         },
         "visible": true
        },
        "xaxis2": {
         "anchor": "y2",
         "domain": [
          0.35555555555555557,
          0.6444444444444445
         ],
         "tickformat": ",.0%",
         "title": {
          "text": "Emission"
         },
         "visible": true
        },
        "xaxis3": {
         "anchor": "y3",
         "domain": [
          0.7111111111111111,
          1
         ],
         "tickformat": ",.0%",
         "title": {
          "text": "Total Energy"
         },
         "visible": true
        },
        "yaxis": {
         "anchor": "x",
         "domain": [
          0,
          1
         ],
         "visible": true
        },
        "yaxis2": {
         "anchor": "x2",
         "domain": [
          0,
          1
         ],
         "visible": false
        },
        "yaxis3": {
         "anchor": "x3",
         "domain": [
          0,
          1
         ],
         "visible": false
        }
       }
      },
      "text/html": [
       "<div>                            <div id=\"483fc9b0-b8d0-4e73-ba2a-58d55a5376a5\" class=\"plotly-graph-div\" style=\"height:500px; width:1000px;\"></div>            <script type=\"text/javascript\">                require([\"plotly\"], function(Plotly) {                    window.PLOTLYENV=window.PLOTLYENV || {};                                    if (document.getElementById(\"483fc9b0-b8d0-4e73-ba2a-58d55a5376a5\")) {                    Plotly.newPlot(                        \"483fc9b0-b8d0-4e73-ba2a-58d55a5376a5\",                        [{\"marker\":{\"color\":\"red\"},\"name\":\"Negative\",\"orientation\":\"h\",\"text\":[1.0,0.4,0.3333333333333333,0.1111111111111111,0.06666666666666667,0.0,0.0,0.0,0.0,0.0,0.0,0.0,0.0,0.0,0.0],\"x\":[1.0,0.4,0.3333333333333333,0.1111111111111111,0.06666666666666667,0.0,0.0,0.0,0.0,0.0,0.0,0.0,0.0,0.0,0.0],\"y\":[\"Electric Cooking\",\"Mininum Efficiency Heat Pump with Electric Heat Backup\",\"Induction Cooking\",\"Mininum Efficiency Whole Home Electrification\",\"Mininum Efficiency Heat Pump with Existing Heat Backup\",\"Basic Enclosure\",\"Basic Enclosure + HPWH + High Efficiency HP/Electric Backup\",\"Basic Enclosure + High Efficiency Whole Home Electrification\",\"Enhanced Enclosure\",\"Enhanced Enclosure + HPWH + High Efficiency HP/Electric Backup\",\"Enhanced Enclosure + High Efficiency Whole Home Electrification\",\"Heat Pump Clothes Dryer\",\"Heat Pump Water Heater\",\"High Efficiency Heat Pump with Electric Heat Backup\",\"High Efficiency Whole Home Electrification\"],\"type\":\"bar\",\"xaxis\":\"x\",\"yaxis\":\"y\",\"textposition\":\"inside\",\"texttemplate\":\"%{text:.0%}\"},{\"marker\":{\"color\":\"green\"},\"name\":\"Positive\",\"orientation\":\"h\",\"text\":[0.0,0.6,0.6666666666666666,0.8888888888888888,0.9333333333333333,1.0,1.0,1.0,1.0,1.0,1.0,1.0,1.0,1.0,1.0],\"x\":[0.0,0.6,0.6666666666666666,0.8888888888888888,0.9333333333333333,1.0,1.0,1.0,1.0,1.0,1.0,1.0,1.0,1.0,1.0],\"y\":[\"Electric Cooking\",\"Mininum Efficiency Heat Pump with Electric Heat Backup\",\"Induction Cooking\",\"Mininum Efficiency Whole Home Electrification\",\"Mininum Efficiency Heat Pump with Existing Heat Backup\",\"Basic Enclosure\",\"Basic Enclosure + HPWH + High Efficiency HP/Electric Backup\",\"Basic Enclosure + High Efficiency Whole Home Electrification\",\"Enhanced Enclosure\",\"Enhanced Enclosure + HPWH + High Efficiency HP/Electric Backup\",\"Enhanced Enclosure + High Efficiency Whole Home Electrification\",\"Heat Pump Clothes Dryer\",\"Heat Pump Water Heater\",\"High Efficiency Heat Pump with Electric Heat Backup\",\"High Efficiency Whole Home Electrification\"],\"type\":\"bar\",\"xaxis\":\"x\",\"yaxis\":\"y\",\"textposition\":\"inside\",\"texttemplate\":\"%{text:.0%}\"},{\"marker\":{\"color\":\"red\"},\"orientation\":\"h\",\"showlegend\":false,\"text\":[0.0,0.0,0.0,0.0,0.0,0.0,0.0,0.0,0.0,0.0,0.0,0.0,0.0,0.0,0.0],\"x\":[0.0,0.0,0.0,0.0,0.0,0.0,0.0,0.0,0.0,0.0,0.0,0.0,0.0,0.0,0.0],\"y\":[\"Electric Cooking\",\"Mininum Efficiency Heat Pump with Electric Heat Backup\",\"Induction Cooking\",\"Mininum Efficiency Whole Home Electrification\",\"Mininum Efficiency Heat Pump with Existing Heat Backup\",\"Basic Enclosure\",\"Basic Enclosure + HPWH + High Efficiency HP/Electric Backup\",\"Basic Enclosure + High Efficiency Whole Home Electrification\",\"Enhanced Enclosure\",\"Enhanced Enclosure + HPWH + High Efficiency HP/Electric Backup\",\"Enhanced Enclosure + High Efficiency Whole Home Electrification\",\"Heat Pump Clothes Dryer\",\"Heat Pump Water Heater\",\"High Efficiency Heat Pump with Electric Heat Backup\",\"High Efficiency Whole Home Electrification\"],\"type\":\"bar\",\"xaxis\":\"x2\",\"yaxis\":\"y2\",\"textposition\":\"inside\",\"texttemplate\":\"%{text:.0%}\"},{\"marker\":{\"color\":\"green\"},\"orientation\":\"h\",\"showlegend\":false,\"text\":[1.0,1.0,1.0,1.0,1.0,1.0,1.0,1.0,1.0,1.0,1.0,1.0,1.0,1.0,1.0],\"x\":[1.0,1.0,1.0,1.0,1.0,1.0,1.0,1.0,1.0,1.0,1.0,1.0,1.0,1.0,1.0],\"y\":[\"Electric Cooking\",\"Mininum Efficiency Heat Pump with Electric Heat Backup\",\"Induction Cooking\",\"Mininum Efficiency Whole Home Electrification\",\"Mininum Efficiency Heat Pump with Existing Heat Backup\",\"Basic Enclosure\",\"Basic Enclosure + HPWH + High Efficiency HP/Electric Backup\",\"Basic Enclosure + High Efficiency Whole Home Electrification\",\"Enhanced Enclosure\",\"Enhanced Enclosure + HPWH + High Efficiency HP/Electric Backup\",\"Enhanced Enclosure + High Efficiency Whole Home Electrification\",\"Heat Pump Clothes Dryer\",\"Heat Pump Water Heater\",\"High Efficiency Heat Pump with Electric Heat Backup\",\"High Efficiency Whole Home Electrification\"],\"type\":\"bar\",\"xaxis\":\"x2\",\"yaxis\":\"y2\",\"textposition\":\"inside\",\"texttemplate\":\"%{text:.0%}\"},{\"marker\":{\"color\":\"red\"},\"orientation\":\"h\",\"showlegend\":false,\"text\":[0.0,0.0,0.0,0.0,0.0,0.0,0.0,0.0,0.0,0.0,0.0,0.0,0.0,0.0,0.0],\"x\":[0.0,0.0,0.0,0.0,0.0,0.0,0.0,0.0,0.0,0.0,0.0,0.0,0.0,0.0,0.0],\"y\":[\"Electric Cooking\",\"Mininum Efficiency Heat Pump with Electric Heat Backup\",\"Induction Cooking\",\"Mininum Efficiency Whole Home Electrification\",\"Mininum Efficiency Heat Pump with Existing Heat Backup\",\"Basic Enclosure\",\"Basic Enclosure + HPWH + High Efficiency HP/Electric Backup\",\"Basic Enclosure + High Efficiency Whole Home Electrification\",\"Enhanced Enclosure\",\"Enhanced Enclosure + HPWH + High Efficiency HP/Electric Backup\",\"Enhanced Enclosure + High Efficiency Whole Home Electrification\",\"Heat Pump Clothes Dryer\",\"Heat Pump Water Heater\",\"High Efficiency Heat Pump with Electric Heat Backup\",\"High Efficiency Whole Home Electrification\"],\"type\":\"bar\",\"xaxis\":\"x3\",\"yaxis\":\"y3\",\"textposition\":\"inside\",\"texttemplate\":\"%{text:.0%}\"},{\"marker\":{\"color\":\"green\"},\"orientation\":\"h\",\"showlegend\":false,\"text\":[1.0,1.0,1.0,1.0,1.0,1.0,1.0,1.0,1.0,1.0,1.0,1.0,1.0,1.0,1.0],\"x\":[1.0,1.0,1.0,1.0,1.0,1.0,1.0,1.0,1.0,1.0,1.0,1.0,1.0,1.0,1.0],\"y\":[\"Electric Cooking\",\"Mininum Efficiency Heat Pump with Electric Heat Backup\",\"Induction Cooking\",\"Mininum Efficiency Whole Home Electrification\",\"Mininum Efficiency Heat Pump with Existing Heat Backup\",\"Basic Enclosure\",\"Basic Enclosure + HPWH + High Efficiency HP/Electric Backup\",\"Basic Enclosure + High Efficiency Whole Home Electrification\",\"Enhanced Enclosure\",\"Enhanced Enclosure + HPWH + High Efficiency HP/Electric Backup\",\"Enhanced Enclosure + High Efficiency Whole Home Electrification\",\"Heat Pump Clothes Dryer\",\"Heat Pump Water Heater\",\"High Efficiency Heat Pump with Electric Heat Backup\",\"High Efficiency Whole Home Electrification\"],\"type\":\"bar\",\"xaxis\":\"x3\",\"yaxis\":\"y3\",\"textposition\":\"inside\",\"texttemplate\":\"%{text:.0%}\"}],                        {\"template\":{\"data\":{\"histogram2dcontour\":[{\"type\":\"histogram2dcontour\",\"colorbar\":{\"outlinewidth\":0,\"ticks\":\"\"},\"colorscale\":[[0.0,\"#0d0887\"],[0.1111111111111111,\"#46039f\"],[0.2222222222222222,\"#7201a8\"],[0.3333333333333333,\"#9c179e\"],[0.4444444444444444,\"#bd3786\"],[0.5555555555555556,\"#d8576b\"],[0.6666666666666666,\"#ed7953\"],[0.7777777777777778,\"#fb9f3a\"],[0.8888888888888888,\"#fdca26\"],[1.0,\"#f0f921\"]]}],\"choropleth\":[{\"type\":\"choropleth\",\"colorbar\":{\"outlinewidth\":0,\"ticks\":\"\"}}],\"histogram2d\":[{\"type\":\"histogram2d\",\"colorbar\":{\"outlinewidth\":0,\"ticks\":\"\"},\"colorscale\":[[0.0,\"#0d0887\"],[0.1111111111111111,\"#46039f\"],[0.2222222222222222,\"#7201a8\"],[0.3333333333333333,\"#9c179e\"],[0.4444444444444444,\"#bd3786\"],[0.5555555555555556,\"#d8576b\"],[0.6666666666666666,\"#ed7953\"],[0.7777777777777778,\"#fb9f3a\"],[0.8888888888888888,\"#fdca26\"],[1.0,\"#f0f921\"]]}],\"heatmap\":[{\"type\":\"heatmap\",\"colorbar\":{\"outlinewidth\":0,\"ticks\":\"\"},\"colorscale\":[[0.0,\"#0d0887\"],[0.1111111111111111,\"#46039f\"],[0.2222222222222222,\"#7201a8\"],[0.3333333333333333,\"#9c179e\"],[0.4444444444444444,\"#bd3786\"],[0.5555555555555556,\"#d8576b\"],[0.6666666666666666,\"#ed7953\"],[0.7777777777777778,\"#fb9f3a\"],[0.8888888888888888,\"#fdca26\"],[1.0,\"#f0f921\"]]}],\"heatmapgl\":[{\"type\":\"heatmapgl\",\"colorbar\":{\"outlinewidth\":0,\"ticks\":\"\"},\"colorscale\":[[0.0,\"#0d0887\"],[0.1111111111111111,\"#46039f\"],[0.2222222222222222,\"#7201a8\"],[0.3333333333333333,\"#9c179e\"],[0.4444444444444444,\"#bd3786\"],[0.5555555555555556,\"#d8576b\"],[0.6666666666666666,\"#ed7953\"],[0.7777777777777778,\"#fb9f3a\"],[0.8888888888888888,\"#fdca26\"],[1.0,\"#f0f921\"]]}],\"contourcarpet\":[{\"type\":\"contourcarpet\",\"colorbar\":{\"outlinewidth\":0,\"ticks\":\"\"}}],\"contour\":[{\"type\":\"contour\",\"colorbar\":{\"outlinewidth\":0,\"ticks\":\"\"},\"colorscale\":[[0.0,\"#0d0887\"],[0.1111111111111111,\"#46039f\"],[0.2222222222222222,\"#7201a8\"],[0.3333333333333333,\"#9c179e\"],[0.4444444444444444,\"#bd3786\"],[0.5555555555555556,\"#d8576b\"],[0.6666666666666666,\"#ed7953\"],[0.7777777777777778,\"#fb9f3a\"],[0.8888888888888888,\"#fdca26\"],[1.0,\"#f0f921\"]]}],\"surface\":[{\"type\":\"surface\",\"colorbar\":{\"outlinewidth\":0,\"ticks\":\"\"},\"colorscale\":[[0.0,\"#0d0887\"],[0.1111111111111111,\"#46039f\"],[0.2222222222222222,\"#7201a8\"],[0.3333333333333333,\"#9c179e\"],[0.4444444444444444,\"#bd3786\"],[0.5555555555555556,\"#d8576b\"],[0.6666666666666666,\"#ed7953\"],[0.7777777777777778,\"#fb9f3a\"],[0.8888888888888888,\"#fdca26\"],[1.0,\"#f0f921\"]]}],\"mesh3d\":[{\"type\":\"mesh3d\",\"colorbar\":{\"outlinewidth\":0,\"ticks\":\"\"}}],\"scatter\":[{\"fillpattern\":{\"fillmode\":\"overlay\",\"size\":10,\"solidity\":0.2},\"type\":\"scatter\"}],\"parcoords\":[{\"type\":\"parcoords\",\"line\":{\"colorbar\":{\"outlinewidth\":0,\"ticks\":\"\"}}}],\"scatterpolargl\":[{\"type\":\"scatterpolargl\",\"marker\":{\"colorbar\":{\"outlinewidth\":0,\"ticks\":\"\"}}}],\"bar\":[{\"error_x\":{\"color\":\"#2a3f5f\"},\"error_y\":{\"color\":\"#2a3f5f\"},\"marker\":{\"line\":{\"color\":\"#E5ECF6\",\"width\":0.5},\"pattern\":{\"fillmode\":\"overlay\",\"size\":10,\"solidity\":0.2}},\"type\":\"bar\"}],\"scattergeo\":[{\"type\":\"scattergeo\",\"marker\":{\"colorbar\":{\"outlinewidth\":0,\"ticks\":\"\"}}}],\"scatterpolar\":[{\"type\":\"scatterpolar\",\"marker\":{\"colorbar\":{\"outlinewidth\":0,\"ticks\":\"\"}}}],\"histogram\":[{\"marker\":{\"pattern\":{\"fillmode\":\"overlay\",\"size\":10,\"solidity\":0.2}},\"type\":\"histogram\"}],\"scattergl\":[{\"type\":\"scattergl\",\"marker\":{\"colorbar\":{\"outlinewidth\":0,\"ticks\":\"\"}}}],\"scatter3d\":[{\"type\":\"scatter3d\",\"line\":{\"colorbar\":{\"outlinewidth\":0,\"ticks\":\"\"}},\"marker\":{\"colorbar\":{\"outlinewidth\":0,\"ticks\":\"\"}}}],\"scattermapbox\":[{\"type\":\"scattermapbox\",\"marker\":{\"colorbar\":{\"outlinewidth\":0,\"ticks\":\"\"}}}],\"scatterternary\":[{\"type\":\"scatterternary\",\"marker\":{\"colorbar\":{\"outlinewidth\":0,\"ticks\":\"\"}}}],\"scattercarpet\":[{\"type\":\"scattercarpet\",\"marker\":{\"colorbar\":{\"outlinewidth\":0,\"ticks\":\"\"}}}],\"carpet\":[{\"aaxis\":{\"endlinecolor\":\"#2a3f5f\",\"gridcolor\":\"white\",\"linecolor\":\"white\",\"minorgridcolor\":\"white\",\"startlinecolor\":\"#2a3f5f\"},\"baxis\":{\"endlinecolor\":\"#2a3f5f\",\"gridcolor\":\"white\",\"linecolor\":\"white\",\"minorgridcolor\":\"white\",\"startlinecolor\":\"#2a3f5f\"},\"type\":\"carpet\"}],\"table\":[{\"cells\":{\"fill\":{\"color\":\"#EBF0F8\"},\"line\":{\"color\":\"white\"}},\"header\":{\"fill\":{\"color\":\"#C8D4E3\"},\"line\":{\"color\":\"white\"}},\"type\":\"table\"}],\"barpolar\":[{\"marker\":{\"line\":{\"color\":\"#E5ECF6\",\"width\":0.5},\"pattern\":{\"fillmode\":\"overlay\",\"size\":10,\"solidity\":0.2}},\"type\":\"barpolar\"}],\"pie\":[{\"automargin\":true,\"type\":\"pie\"}]},\"layout\":{\"autotypenumbers\":\"strict\",\"colorway\":[\"#636efa\",\"#EF553B\",\"#00cc96\",\"#ab63fa\",\"#FFA15A\",\"#19d3f3\",\"#FF6692\",\"#B6E880\",\"#FF97FF\",\"#FECB52\"],\"font\":{\"color\":\"#2a3f5f\"},\"hovermode\":\"closest\",\"hoverlabel\":{\"align\":\"left\"},\"paper_bgcolor\":\"white\",\"plot_bgcolor\":\"#E5ECF6\",\"polar\":{\"bgcolor\":\"#E5ECF6\",\"angularaxis\":{\"gridcolor\":\"white\",\"linecolor\":\"white\",\"ticks\":\"\"},\"radialaxis\":{\"gridcolor\":\"white\",\"linecolor\":\"white\",\"ticks\":\"\"}},\"ternary\":{\"bgcolor\":\"#E5ECF6\",\"aaxis\":{\"gridcolor\":\"white\",\"linecolor\":\"white\",\"ticks\":\"\"},\"baxis\":{\"gridcolor\":\"white\",\"linecolor\":\"white\",\"ticks\":\"\"},\"caxis\":{\"gridcolor\":\"white\",\"linecolor\":\"white\",\"ticks\":\"\"}},\"coloraxis\":{\"colorbar\":{\"outlinewidth\":0,\"ticks\":\"\"}},\"colorscale\":{\"sequential\":[[0.0,\"#0d0887\"],[0.1111111111111111,\"#46039f\"],[0.2222222222222222,\"#7201a8\"],[0.3333333333333333,\"#9c179e\"],[0.4444444444444444,\"#bd3786\"],[0.5555555555555556,\"#d8576b\"],[0.6666666666666666,\"#ed7953\"],[0.7777777777777778,\"#fb9f3a\"],[0.8888888888888888,\"#fdca26\"],[1.0,\"#f0f921\"]],\"sequentialminus\":[[0.0,\"#0d0887\"],[0.1111111111111111,\"#46039f\"],[0.2222222222222222,\"#7201a8\"],[0.3333333333333333,\"#9c179e\"],[0.4444444444444444,\"#bd3786\"],[0.5555555555555556,\"#d8576b\"],[0.6666666666666666,\"#ed7953\"],[0.7777777777777778,\"#fb9f3a\"],[0.8888888888888888,\"#fdca26\"],[1.0,\"#f0f921\"]],\"diverging\":[[0,\"#8e0152\"],[0.1,\"#c51b7d\"],[0.2,\"#de77ae\"],[0.3,\"#f1b6da\"],[0.4,\"#fde0ef\"],[0.5,\"#f7f7f7\"],[0.6,\"#e6f5d0\"],[0.7,\"#b8e186\"],[0.8,\"#7fbc41\"],[0.9,\"#4d9221\"],[1,\"#276419\"]]},\"xaxis\":{\"gridcolor\":\"white\",\"linecolor\":\"white\",\"ticks\":\"\",\"title\":{\"standoff\":15},\"zerolinecolor\":\"white\",\"automargin\":true,\"zerolinewidth\":2},\"yaxis\":{\"gridcolor\":\"white\",\"linecolor\":\"white\",\"ticks\":\"\",\"title\":{\"standoff\":15},\"zerolinecolor\":\"white\",\"automargin\":true,\"zerolinewidth\":2},\"scene\":{\"xaxis\":{\"backgroundcolor\":\"#E5ECF6\",\"gridcolor\":\"white\",\"linecolor\":\"white\",\"showbackground\":true,\"ticks\":\"\",\"zerolinecolor\":\"white\",\"gridwidth\":2},\"yaxis\":{\"backgroundcolor\":\"#E5ECF6\",\"gridcolor\":\"white\",\"linecolor\":\"white\",\"showbackground\":true,\"ticks\":\"\",\"zerolinecolor\":\"white\",\"gridwidth\":2},\"zaxis\":{\"backgroundcolor\":\"#E5ECF6\",\"gridcolor\":\"white\",\"linecolor\":\"white\",\"showbackground\":true,\"ticks\":\"\",\"zerolinecolor\":\"white\",\"gridwidth\":2}},\"shapedefaults\":{\"line\":{\"color\":\"#2a3f5f\"}},\"annotationdefaults\":{\"arrowcolor\":\"#2a3f5f\",\"arrowhead\":0,\"arrowwidth\":1},\"geo\":{\"bgcolor\":\"white\",\"landcolor\":\"#E5ECF6\",\"subunitcolor\":\"white\",\"showland\":true,\"showlakes\":true,\"lakecolor\":\"white\"},\"title\":{\"x\":0.05},\"mapbox\":{\"style\":\"light\"}}},\"xaxis\":{\"anchor\":\"y\",\"domain\":[0.0,0.2888888888888889],\"title\":{\"text\":\"Bill\"},\"visible\":true,\"tickformat\":\",.0%\"},\"yaxis\":{\"anchor\":\"x\",\"domain\":[0.0,1.0],\"visible\":true},\"xaxis2\":{\"anchor\":\"y2\",\"domain\":[0.35555555555555557,0.6444444444444445],\"title\":{\"text\":\"Emission\"},\"visible\":true,\"tickformat\":\",.0%\"},\"yaxis2\":{\"anchor\":\"x2\",\"domain\":[0.0,1.0],\"visible\":false},\"xaxis3\":{\"anchor\":\"y3\",\"domain\":[0.7111111111111111,1.0],\"title\":{\"text\":\"Total Energy\"},\"visible\":true,\"tickformat\":\",.0%\"},\"yaxis3\":{\"anchor\":\"x3\",\"domain\":[0.0,1.0],\"visible\":false},\"barmode\":\"relative\",\"font\":{\"size\":10},\"title\":{\"text\":\"Percentage of Household in Positive and Negative Savings\"},\"autosize\":false,\"width\":1000,\"height\":500},                        {\"responsive\": true}                    ).then(function(){\n",
       "                            \n",
       "var gd = document.getElementById('483fc9b0-b8d0-4e73-ba2a-58d55a5376a5');\n",
       "var x = new MutationObserver(function (mutations, observer) {{\n",
       "        var display = window.getComputedStyle(gd).display;\n",
       "        if (!display || display === 'none') {{\n",
       "            console.log([gd, 'removed!']);\n",
       "            Plotly.purge(gd);\n",
       "            observer.disconnect();\n",
       "        }}\n",
       "}});\n",
       "\n",
       "// Listen for the removal of the full notebook cells\n",
       "var notebookContainer = gd.closest('#notebook-container');\n",
       "if (notebookContainer) {{\n",
       "    x.observe(notebookContainer, {childList: true});\n",
       "}}\n",
       "\n",
       "// Listen for the clearing of the current output cell\n",
       "var outputEl = gd.closest('.output');\n",
       "if (outputEl) {{\n",
       "    x.observe(outputEl, {childList: true});\n",
       "}}\n",
       "\n",
       "                        })                };                });            </script>        </div>"
      ]
     },
     "metadata": {},
     "output_type": "display_data"
    },
    {
     "name": "stderr",
     "output_type": "stream",
     "text": [
      "C:\\Users\\ylou2\\AppData\\Local\\Temp\\1\\ipykernel_17696\\1326448381.py:3: PerformanceWarning:\n",
      "\n",
      "DataFrame is highly fragmented.  This is usually the result of calling `frame.insert` many times, which has poor performance.  Consider joining all columns at once using pd.concat(axis=1) instead. To get a de-fragmented frame, use `newframe = frame.copy()`\n",
      "\n",
      "C:\\Users\\ylou2\\AppData\\Local\\Temp\\1\\ipykernel_17696\\1326448381.py:4: PerformanceWarning:\n",
      "\n",
      "DataFrame is highly fragmented.  This is usually the result of calling `frame.insert` many times, which has poor performance.  Consider joining all columns at once using pd.concat(axis=1) instead. To get a de-fragmented frame, use `newframe = frame.copy()`\n",
      "\n",
      "C:\\Users\\ylou2\\AppData\\Local\\Temp\\1\\ipykernel_17696\\1326448381.py:5: PerformanceWarning:\n",
      "\n",
      "DataFrame is highly fragmented.  This is usually the result of calling `frame.insert` many times, which has poor performance.  Consider joining all columns at once using pd.concat(axis=1) instead. To get a de-fragmented frame, use `newframe = frame.copy()`\n",
      "\n"
     ]
    }
   ],
   "source": [
    "egment = 'segment3'\n",
    "results = figure_positive_negative_savings(segment, community_results) \n",
    "saving_results[f'segment3_{income}_pct_bill_positive_savings_%'] = results[0]*100\n",
    "saving_results[f'segment3_{income}_pct_emission_positive_savings_%'] = results[1]*100\n",
    "saving_results[f'segment3_{income}_pct_energy_positive_savings_%'] = results[2]*100"
   ]
  },
  {
   "cell_type": "markdown",
   "id": "2e251a36",
   "metadata": {},
   "source": [
    "### Segment 4"
   ]
  },
  {
   "cell_type": "code",
   "execution_count": 107,
   "id": "2e970f6b",
   "metadata": {},
   "outputs": [
    {
     "data": {
      "application/vnd.plotly.v1+json": {
       "config": {
        "plotlyServerURL": "https://plot.ly"
       },
       "data": [
        {
         "marker": {
          "color": "red"
         },
         "name": "Negative",
         "orientation": "h",
         "text": [
          0.5,
          0.3333333333333333,
          0.2631578947368421,
          0.21052631578947367,
          0.05263157894736842,
          0.05263157894736842,
          0.05263157894736842,
          0,
          0,
          0,
          0,
          0,
          0,
          0,
          0
         ],
         "textposition": "inside",
         "texttemplate": "%{text:.0%}",
         "type": "bar",
         "x": [
          0.5,
          0.3333333333333333,
          0.2631578947368421,
          0.21052631578947367,
          0.05263157894736842,
          0.05263157894736842,
          0.05263157894736842,
          0,
          0,
          0,
          0,
          0,
          0,
          0,
          0
         ],
         "xaxis": "x",
         "y": [
          "Electric Cooking",
          "Mininum Efficiency Whole Home Electrification",
          "Mininum Efficiency Heat Pump with Existing Heat Backup",
          "Mininum Efficiency Heat Pump with Electric Heat Backup",
          "High Efficiency Heat Pump with Electric Heat Backup",
          "High Efficiency Whole Home Electrification",
          "Induction Cooking",
          "Basic Enclosure",
          "Basic Enclosure + HPWH + High Efficiency HP/Electric Backup",
          "Basic Enclosure + High Efficiency Whole Home Electrification",
          "Enhanced Enclosure",
          "Enhanced Enclosure + HPWH + High Efficiency HP/Electric Backup",
          "Enhanced Enclosure + High Efficiency Whole Home Electrification",
          "Heat Pump Clothes Dryer",
          "Heat Pump Water Heater"
         ],
         "yaxis": "y"
        },
        {
         "marker": {
          "color": "green"
         },
         "name": "Positive",
         "orientation": "h",
         "text": [
          0.5,
          0.6666666666666666,
          0.7368421052631579,
          0.7894736842105263,
          0.9473684210526315,
          0.9473684210526315,
          0.9473684210526315,
          1,
          1,
          1,
          1,
          1,
          1,
          1,
          1
         ],
         "textposition": "inside",
         "texttemplate": "%{text:.0%}",
         "type": "bar",
         "x": [
          0.5,
          0.6666666666666666,
          0.7368421052631579,
          0.7894736842105263,
          0.9473684210526315,
          0.9473684210526315,
          0.9473684210526315,
          1,
          1,
          1,
          1,
          1,
          1,
          1,
          1
         ],
         "xaxis": "x",
         "y": [
          "Electric Cooking",
          "Mininum Efficiency Whole Home Electrification",
          "Mininum Efficiency Heat Pump with Existing Heat Backup",
          "Mininum Efficiency Heat Pump with Electric Heat Backup",
          "High Efficiency Heat Pump with Electric Heat Backup",
          "High Efficiency Whole Home Electrification",
          "Induction Cooking",
          "Basic Enclosure",
          "Basic Enclosure + HPWH + High Efficiency HP/Electric Backup",
          "Basic Enclosure + High Efficiency Whole Home Electrification",
          "Enhanced Enclosure",
          "Enhanced Enclosure + HPWH + High Efficiency HP/Electric Backup",
          "Enhanced Enclosure + High Efficiency Whole Home Electrification",
          "Heat Pump Clothes Dryer",
          "Heat Pump Water Heater"
         ],
         "yaxis": "y"
        },
        {
         "marker": {
          "color": "red"
         },
         "orientation": "h",
         "showlegend": false,
         "text": [
          0,
          0.1111111111111111,
          0.10526315789473684,
          0.10526315789473684,
          0.05263157894736842,
          0,
          0,
          0,
          0,
          0,
          0,
          0,
          0,
          0,
          0
         ],
         "textposition": "inside",
         "texttemplate": "%{text:.0%}",
         "type": "bar",
         "x": [
          0,
          0.1111111111111111,
          0.10526315789473684,
          0.10526315789473684,
          0.05263157894736842,
          0,
          0,
          0,
          0,
          0,
          0,
          0,
          0,
          0,
          0
         ],
         "xaxis": "x2",
         "y": [
          "Electric Cooking",
          "Mininum Efficiency Whole Home Electrification",
          "Mininum Efficiency Heat Pump with Existing Heat Backup",
          "Mininum Efficiency Heat Pump with Electric Heat Backup",
          "High Efficiency Heat Pump with Electric Heat Backup",
          "High Efficiency Whole Home Electrification",
          "Induction Cooking",
          "Basic Enclosure",
          "Basic Enclosure + HPWH + High Efficiency HP/Electric Backup",
          "Basic Enclosure + High Efficiency Whole Home Electrification",
          "Enhanced Enclosure",
          "Enhanced Enclosure + HPWH + High Efficiency HP/Electric Backup",
          "Enhanced Enclosure + High Efficiency Whole Home Electrification",
          "Heat Pump Clothes Dryer",
          "Heat Pump Water Heater"
         ],
         "yaxis": "y2"
        },
        {
         "marker": {
          "color": "green"
         },
         "orientation": "h",
         "showlegend": false,
         "text": [
          1,
          0.8888888888888888,
          0.8947368421052632,
          0.8947368421052632,
          0.9473684210526315,
          1,
          1,
          1,
          1,
          1,
          1,
          1,
          1,
          1,
          1
         ],
         "textposition": "inside",
         "texttemplate": "%{text:.0%}",
         "type": "bar",
         "x": [
          1,
          0.8888888888888888,
          0.8947368421052632,
          0.8947368421052632,
          0.9473684210526315,
          1,
          1,
          1,
          1,
          1,
          1,
          1,
          1,
          1,
          1
         ],
         "xaxis": "x2",
         "y": [
          "Electric Cooking",
          "Mininum Efficiency Whole Home Electrification",
          "Mininum Efficiency Heat Pump with Existing Heat Backup",
          "Mininum Efficiency Heat Pump with Electric Heat Backup",
          "High Efficiency Heat Pump with Electric Heat Backup",
          "High Efficiency Whole Home Electrification",
          "Induction Cooking",
          "Basic Enclosure",
          "Basic Enclosure + HPWH + High Efficiency HP/Electric Backup",
          "Basic Enclosure + High Efficiency Whole Home Electrification",
          "Enhanced Enclosure",
          "Enhanced Enclosure + HPWH + High Efficiency HP/Electric Backup",
          "Enhanced Enclosure + High Efficiency Whole Home Electrification",
          "Heat Pump Clothes Dryer",
          "Heat Pump Water Heater"
         ],
         "yaxis": "y2"
        },
        {
         "marker": {
          "color": "red"
         },
         "orientation": "h",
         "showlegend": false,
         "text": [
          0,
          0,
          0.10526315789473684,
          0.10526315789473684,
          0,
          0,
          0,
          0,
          0,
          0,
          0,
          0,
          0,
          0,
          0
         ],
         "textposition": "inside",
         "texttemplate": "%{text:.0%}",
         "type": "bar",
         "x": [
          0,
          0,
          0.10526315789473684,
          0.10526315789473684,
          0,
          0,
          0,
          0,
          0,
          0,
          0,
          0,
          0,
          0,
          0
         ],
         "xaxis": "x3",
         "y": [
          "Electric Cooking",
          "Mininum Efficiency Whole Home Electrification",
          "Mininum Efficiency Heat Pump with Existing Heat Backup",
          "Mininum Efficiency Heat Pump with Electric Heat Backup",
          "High Efficiency Heat Pump with Electric Heat Backup",
          "High Efficiency Whole Home Electrification",
          "Induction Cooking",
          "Basic Enclosure",
          "Basic Enclosure + HPWH + High Efficiency HP/Electric Backup",
          "Basic Enclosure + High Efficiency Whole Home Electrification",
          "Enhanced Enclosure",
          "Enhanced Enclosure + HPWH + High Efficiency HP/Electric Backup",
          "Enhanced Enclosure + High Efficiency Whole Home Electrification",
          "Heat Pump Clothes Dryer",
          "Heat Pump Water Heater"
         ],
         "yaxis": "y3"
        },
        {
         "marker": {
          "color": "green"
         },
         "orientation": "h",
         "showlegend": false,
         "text": [
          1,
          1,
          0.8947368421052632,
          0.8947368421052632,
          1,
          1,
          1,
          1,
          1,
          1,
          1,
          1,
          1,
          1,
          1
         ],
         "textposition": "inside",
         "texttemplate": "%{text:.0%}",
         "type": "bar",
         "x": [
          1,
          1,
          0.8947368421052632,
          0.8947368421052632,
          1,
          1,
          1,
          1,
          1,
          1,
          1,
          1,
          1,
          1,
          1
         ],
         "xaxis": "x3",
         "y": [
          "Electric Cooking",
          "Mininum Efficiency Whole Home Electrification",
          "Mininum Efficiency Heat Pump with Existing Heat Backup",
          "Mininum Efficiency Heat Pump with Electric Heat Backup",
          "High Efficiency Heat Pump with Electric Heat Backup",
          "High Efficiency Whole Home Electrification",
          "Induction Cooking",
          "Basic Enclosure",
          "Basic Enclosure + HPWH + High Efficiency HP/Electric Backup",
          "Basic Enclosure + High Efficiency Whole Home Electrification",
          "Enhanced Enclosure",
          "Enhanced Enclosure + HPWH + High Efficiency HP/Electric Backup",
          "Enhanced Enclosure + High Efficiency Whole Home Electrification",
          "Heat Pump Clothes Dryer",
          "Heat Pump Water Heater"
         ],
         "yaxis": "y3"
        }
       ],
       "layout": {
        "autosize": false,
        "barmode": "relative",
        "font": {
         "size": 10
        },
        "height": 500,
        "template": {
         "data": {
          "bar": [
           {
            "error_x": {
             "color": "#2a3f5f"
            },
            "error_y": {
             "color": "#2a3f5f"
            },
            "marker": {
             "line": {
              "color": "#E5ECF6",
              "width": 0.5
             },
             "pattern": {
              "fillmode": "overlay",
              "size": 10,
              "solidity": 0.2
             }
            },
            "type": "bar"
           }
          ],
          "barpolar": [
           {
            "marker": {
             "line": {
              "color": "#E5ECF6",
              "width": 0.5
             },
             "pattern": {
              "fillmode": "overlay",
              "size": 10,
              "solidity": 0.2
             }
            },
            "type": "barpolar"
           }
          ],
          "carpet": [
           {
            "aaxis": {
             "endlinecolor": "#2a3f5f",
             "gridcolor": "white",
             "linecolor": "white",
             "minorgridcolor": "white",
             "startlinecolor": "#2a3f5f"
            },
            "baxis": {
             "endlinecolor": "#2a3f5f",
             "gridcolor": "white",
             "linecolor": "white",
             "minorgridcolor": "white",
             "startlinecolor": "#2a3f5f"
            },
            "type": "carpet"
           }
          ],
          "choropleth": [
           {
            "colorbar": {
             "outlinewidth": 0,
             "ticks": ""
            },
            "type": "choropleth"
           }
          ],
          "contour": [
           {
            "colorbar": {
             "outlinewidth": 0,
             "ticks": ""
            },
            "colorscale": [
             [
              0,
              "#0d0887"
             ],
             [
              0.1111111111111111,
              "#46039f"
             ],
             [
              0.2222222222222222,
              "#7201a8"
             ],
             [
              0.3333333333333333,
              "#9c179e"
             ],
             [
              0.4444444444444444,
              "#bd3786"
             ],
             [
              0.5555555555555556,
              "#d8576b"
             ],
             [
              0.6666666666666666,
              "#ed7953"
             ],
             [
              0.7777777777777778,
              "#fb9f3a"
             ],
             [
              0.8888888888888888,
              "#fdca26"
             ],
             [
              1,
              "#f0f921"
             ]
            ],
            "type": "contour"
           }
          ],
          "contourcarpet": [
           {
            "colorbar": {
             "outlinewidth": 0,
             "ticks": ""
            },
            "type": "contourcarpet"
           }
          ],
          "heatmap": [
           {
            "colorbar": {
             "outlinewidth": 0,
             "ticks": ""
            },
            "colorscale": [
             [
              0,
              "#0d0887"
             ],
             [
              0.1111111111111111,
              "#46039f"
             ],
             [
              0.2222222222222222,
              "#7201a8"
             ],
             [
              0.3333333333333333,
              "#9c179e"
             ],
             [
              0.4444444444444444,
              "#bd3786"
             ],
             [
              0.5555555555555556,
              "#d8576b"
             ],
             [
              0.6666666666666666,
              "#ed7953"
             ],
             [
              0.7777777777777778,
              "#fb9f3a"
             ],
             [
              0.8888888888888888,
              "#fdca26"
             ],
             [
              1,
              "#f0f921"
             ]
            ],
            "type": "heatmap"
           }
          ],
          "heatmapgl": [
           {
            "colorbar": {
             "outlinewidth": 0,
             "ticks": ""
            },
            "colorscale": [
             [
              0,
              "#0d0887"
             ],
             [
              0.1111111111111111,
              "#46039f"
             ],
             [
              0.2222222222222222,
              "#7201a8"
             ],
             [
              0.3333333333333333,
              "#9c179e"
             ],
             [
              0.4444444444444444,
              "#bd3786"
             ],
             [
              0.5555555555555556,
              "#d8576b"
             ],
             [
              0.6666666666666666,
              "#ed7953"
             ],
             [
              0.7777777777777778,
              "#fb9f3a"
             ],
             [
              0.8888888888888888,
              "#fdca26"
             ],
             [
              1,
              "#f0f921"
             ]
            ],
            "type": "heatmapgl"
           }
          ],
          "histogram": [
           {
            "marker": {
             "pattern": {
              "fillmode": "overlay",
              "size": 10,
              "solidity": 0.2
             }
            },
            "type": "histogram"
           }
          ],
          "histogram2d": [
           {
            "colorbar": {
             "outlinewidth": 0,
             "ticks": ""
            },
            "colorscale": [
             [
              0,
              "#0d0887"
             ],
             [
              0.1111111111111111,
              "#46039f"
             ],
             [
              0.2222222222222222,
              "#7201a8"
             ],
             [
              0.3333333333333333,
              "#9c179e"
             ],
             [
              0.4444444444444444,
              "#bd3786"
             ],
             [
              0.5555555555555556,
              "#d8576b"
             ],
             [
              0.6666666666666666,
              "#ed7953"
             ],
             [
              0.7777777777777778,
              "#fb9f3a"
             ],
             [
              0.8888888888888888,
              "#fdca26"
             ],
             [
              1,
              "#f0f921"
             ]
            ],
            "type": "histogram2d"
           }
          ],
          "histogram2dcontour": [
           {
            "colorbar": {
             "outlinewidth": 0,
             "ticks": ""
            },
            "colorscale": [
             [
              0,
              "#0d0887"
             ],
             [
              0.1111111111111111,
              "#46039f"
             ],
             [
              0.2222222222222222,
              "#7201a8"
             ],
             [
              0.3333333333333333,
              "#9c179e"
             ],
             [
              0.4444444444444444,
              "#bd3786"
             ],
             [
              0.5555555555555556,
              "#d8576b"
             ],
             [
              0.6666666666666666,
              "#ed7953"
             ],
             [
              0.7777777777777778,
              "#fb9f3a"
             ],
             [
              0.8888888888888888,
              "#fdca26"
             ],
             [
              1,
              "#f0f921"
             ]
            ],
            "type": "histogram2dcontour"
           }
          ],
          "mesh3d": [
           {
            "colorbar": {
             "outlinewidth": 0,
             "ticks": ""
            },
            "type": "mesh3d"
           }
          ],
          "parcoords": [
           {
            "line": {
             "colorbar": {
              "outlinewidth": 0,
              "ticks": ""
             }
            },
            "type": "parcoords"
           }
          ],
          "pie": [
           {
            "automargin": true,
            "type": "pie"
           }
          ],
          "scatter": [
           {
            "fillpattern": {
             "fillmode": "overlay",
             "size": 10,
             "solidity": 0.2
            },
            "type": "scatter"
           }
          ],
          "scatter3d": [
           {
            "line": {
             "colorbar": {
              "outlinewidth": 0,
              "ticks": ""
             }
            },
            "marker": {
             "colorbar": {
              "outlinewidth": 0,
              "ticks": ""
             }
            },
            "type": "scatter3d"
           }
          ],
          "scattercarpet": [
           {
            "marker": {
             "colorbar": {
              "outlinewidth": 0,
              "ticks": ""
             }
            },
            "type": "scattercarpet"
           }
          ],
          "scattergeo": [
           {
            "marker": {
             "colorbar": {
              "outlinewidth": 0,
              "ticks": ""
             }
            },
            "type": "scattergeo"
           }
          ],
          "scattergl": [
           {
            "marker": {
             "colorbar": {
              "outlinewidth": 0,
              "ticks": ""
             }
            },
            "type": "scattergl"
           }
          ],
          "scattermapbox": [
           {
            "marker": {
             "colorbar": {
              "outlinewidth": 0,
              "ticks": ""
             }
            },
            "type": "scattermapbox"
           }
          ],
          "scatterpolar": [
           {
            "marker": {
             "colorbar": {
              "outlinewidth": 0,
              "ticks": ""
             }
            },
            "type": "scatterpolar"
           }
          ],
          "scatterpolargl": [
           {
            "marker": {
             "colorbar": {
              "outlinewidth": 0,
              "ticks": ""
             }
            },
            "type": "scatterpolargl"
           }
          ],
          "scatterternary": [
           {
            "marker": {
             "colorbar": {
              "outlinewidth": 0,
              "ticks": ""
             }
            },
            "type": "scatterternary"
           }
          ],
          "surface": [
           {
            "colorbar": {
             "outlinewidth": 0,
             "ticks": ""
            },
            "colorscale": [
             [
              0,
              "#0d0887"
             ],
             [
              0.1111111111111111,
              "#46039f"
             ],
             [
              0.2222222222222222,
              "#7201a8"
             ],
             [
              0.3333333333333333,
              "#9c179e"
             ],
             [
              0.4444444444444444,
              "#bd3786"
             ],
             [
              0.5555555555555556,
              "#d8576b"
             ],
             [
              0.6666666666666666,
              "#ed7953"
             ],
             [
              0.7777777777777778,
              "#fb9f3a"
             ],
             [
              0.8888888888888888,
              "#fdca26"
             ],
             [
              1,
              "#f0f921"
             ]
            ],
            "type": "surface"
           }
          ],
          "table": [
           {
            "cells": {
             "fill": {
              "color": "#EBF0F8"
             },
             "line": {
              "color": "white"
             }
            },
            "header": {
             "fill": {
              "color": "#C8D4E3"
             },
             "line": {
              "color": "white"
             }
            },
            "type": "table"
           }
          ]
         },
         "layout": {
          "annotationdefaults": {
           "arrowcolor": "#2a3f5f",
           "arrowhead": 0,
           "arrowwidth": 1
          },
          "autotypenumbers": "strict",
          "coloraxis": {
           "colorbar": {
            "outlinewidth": 0,
            "ticks": ""
           }
          },
          "colorscale": {
           "diverging": [
            [
             0,
             "#8e0152"
            ],
            [
             0.1,
             "#c51b7d"
            ],
            [
             0.2,
             "#de77ae"
            ],
            [
             0.3,
             "#f1b6da"
            ],
            [
             0.4,
             "#fde0ef"
            ],
            [
             0.5,
             "#f7f7f7"
            ],
            [
             0.6,
             "#e6f5d0"
            ],
            [
             0.7,
             "#b8e186"
            ],
            [
             0.8,
             "#7fbc41"
            ],
            [
             0.9,
             "#4d9221"
            ],
            [
             1,
             "#276419"
            ]
           ],
           "sequential": [
            [
             0,
             "#0d0887"
            ],
            [
             0.1111111111111111,
             "#46039f"
            ],
            [
             0.2222222222222222,
             "#7201a8"
            ],
            [
             0.3333333333333333,
             "#9c179e"
            ],
            [
             0.4444444444444444,
             "#bd3786"
            ],
            [
             0.5555555555555556,
             "#d8576b"
            ],
            [
             0.6666666666666666,
             "#ed7953"
            ],
            [
             0.7777777777777778,
             "#fb9f3a"
            ],
            [
             0.8888888888888888,
             "#fdca26"
            ],
            [
             1,
             "#f0f921"
            ]
           ],
           "sequentialminus": [
            [
             0,
             "#0d0887"
            ],
            [
             0.1111111111111111,
             "#46039f"
            ],
            [
             0.2222222222222222,
             "#7201a8"
            ],
            [
             0.3333333333333333,
             "#9c179e"
            ],
            [
             0.4444444444444444,
             "#bd3786"
            ],
            [
             0.5555555555555556,
             "#d8576b"
            ],
            [
             0.6666666666666666,
             "#ed7953"
            ],
            [
             0.7777777777777778,
             "#fb9f3a"
            ],
            [
             0.8888888888888888,
             "#fdca26"
            ],
            [
             1,
             "#f0f921"
            ]
           ]
          },
          "colorway": [
           "#636efa",
           "#EF553B",
           "#00cc96",
           "#ab63fa",
           "#FFA15A",
           "#19d3f3",
           "#FF6692",
           "#B6E880",
           "#FF97FF",
           "#FECB52"
          ],
          "font": {
           "color": "#2a3f5f"
          },
          "geo": {
           "bgcolor": "white",
           "lakecolor": "white",
           "landcolor": "#E5ECF6",
           "showlakes": true,
           "showland": true,
           "subunitcolor": "white"
          },
          "hoverlabel": {
           "align": "left"
          },
          "hovermode": "closest",
          "mapbox": {
           "style": "light"
          },
          "paper_bgcolor": "white",
          "plot_bgcolor": "#E5ECF6",
          "polar": {
           "angularaxis": {
            "gridcolor": "white",
            "linecolor": "white",
            "ticks": ""
           },
           "bgcolor": "#E5ECF6",
           "radialaxis": {
            "gridcolor": "white",
            "linecolor": "white",
            "ticks": ""
           }
          },
          "scene": {
           "xaxis": {
            "backgroundcolor": "#E5ECF6",
            "gridcolor": "white",
            "gridwidth": 2,
            "linecolor": "white",
            "showbackground": true,
            "ticks": "",
            "zerolinecolor": "white"
           },
           "yaxis": {
            "backgroundcolor": "#E5ECF6",
            "gridcolor": "white",
            "gridwidth": 2,
            "linecolor": "white",
            "showbackground": true,
            "ticks": "",
            "zerolinecolor": "white"
           },
           "zaxis": {
            "backgroundcolor": "#E5ECF6",
            "gridcolor": "white",
            "gridwidth": 2,
            "linecolor": "white",
            "showbackground": true,
            "ticks": "",
            "zerolinecolor": "white"
           }
          },
          "shapedefaults": {
           "line": {
            "color": "#2a3f5f"
           }
          },
          "ternary": {
           "aaxis": {
            "gridcolor": "white",
            "linecolor": "white",
            "ticks": ""
           },
           "baxis": {
            "gridcolor": "white",
            "linecolor": "white",
            "ticks": ""
           },
           "bgcolor": "#E5ECF6",
           "caxis": {
            "gridcolor": "white",
            "linecolor": "white",
            "ticks": ""
           }
          },
          "title": {
           "x": 0.05
          },
          "xaxis": {
           "automargin": true,
           "gridcolor": "white",
           "linecolor": "white",
           "ticks": "",
           "title": {
            "standoff": 15
           },
           "zerolinecolor": "white",
           "zerolinewidth": 2
          },
          "yaxis": {
           "automargin": true,
           "gridcolor": "white",
           "linecolor": "white",
           "ticks": "",
           "title": {
            "standoff": 15
           },
           "zerolinecolor": "white",
           "zerolinewidth": 2
          }
         }
        },
        "title": {
         "text": "Percentage of Household in Positive and Negative Savings"
        },
        "width": 1000,
        "xaxis": {
         "anchor": "y",
         "domain": [
          0,
          0.2888888888888889
         ],
         "tickformat": ",.0%",
         "title": {
          "text": "Bill"
         },
         "visible": true
        },
        "xaxis2": {
         "anchor": "y2",
         "domain": [
          0.35555555555555557,
          0.6444444444444445
         ],
         "tickformat": ",.0%",
         "title": {
          "text": "Emission"
         },
         "visible": true
        },
        "xaxis3": {
         "anchor": "y3",
         "domain": [
          0.7111111111111111,
          1
         ],
         "tickformat": ",.0%",
         "title": {
          "text": "Total Energy"
         },
         "visible": true
        },
        "yaxis": {
         "anchor": "x",
         "domain": [
          0,
          1
         ],
         "visible": true
        },
        "yaxis2": {
         "anchor": "x2",
         "domain": [
          0,
          1
         ],
         "visible": false
        },
        "yaxis3": {
         "anchor": "x3",
         "domain": [
          0,
          1
         ],
         "visible": false
        }
       }
      },
      "text/html": [
       "<div>                            <div id=\"8162ec07-b275-4b1f-92ce-1b48e05d41f0\" class=\"plotly-graph-div\" style=\"height:500px; width:1000px;\"></div>            <script type=\"text/javascript\">                require([\"plotly\"], function(Plotly) {                    window.PLOTLYENV=window.PLOTLYENV || {};                                    if (document.getElementById(\"8162ec07-b275-4b1f-92ce-1b48e05d41f0\")) {                    Plotly.newPlot(                        \"8162ec07-b275-4b1f-92ce-1b48e05d41f0\",                        [{\"marker\":{\"color\":\"red\"},\"name\":\"Negative\",\"orientation\":\"h\",\"text\":[0.5,0.3333333333333333,0.2631578947368421,0.21052631578947367,0.05263157894736842,0.05263157894736842,0.05263157894736842,0.0,0.0,0.0,0.0,0.0,0.0,0.0,0.0],\"x\":[0.5,0.3333333333333333,0.2631578947368421,0.21052631578947367,0.05263157894736842,0.05263157894736842,0.05263157894736842,0.0,0.0,0.0,0.0,0.0,0.0,0.0,0.0],\"y\":[\"Electric Cooking\",\"Mininum Efficiency Whole Home Electrification\",\"Mininum Efficiency Heat Pump with Existing Heat Backup\",\"Mininum Efficiency Heat Pump with Electric Heat Backup\",\"High Efficiency Heat Pump with Electric Heat Backup\",\"High Efficiency Whole Home Electrification\",\"Induction Cooking\",\"Basic Enclosure\",\"Basic Enclosure + HPWH + High Efficiency HP/Electric Backup\",\"Basic Enclosure + High Efficiency Whole Home Electrification\",\"Enhanced Enclosure\",\"Enhanced Enclosure + HPWH + High Efficiency HP/Electric Backup\",\"Enhanced Enclosure + High Efficiency Whole Home Electrification\",\"Heat Pump Clothes Dryer\",\"Heat Pump Water Heater\"],\"type\":\"bar\",\"xaxis\":\"x\",\"yaxis\":\"y\",\"textposition\":\"inside\",\"texttemplate\":\"%{text:.0%}\"},{\"marker\":{\"color\":\"green\"},\"name\":\"Positive\",\"orientation\":\"h\",\"text\":[0.5,0.6666666666666666,0.7368421052631579,0.7894736842105263,0.9473684210526315,0.9473684210526315,0.9473684210526315,1.0,1.0,1.0,1.0,1.0,1.0,1.0,1.0],\"x\":[0.5,0.6666666666666666,0.7368421052631579,0.7894736842105263,0.9473684210526315,0.9473684210526315,0.9473684210526315,1.0,1.0,1.0,1.0,1.0,1.0,1.0,1.0],\"y\":[\"Electric Cooking\",\"Mininum Efficiency Whole Home Electrification\",\"Mininum Efficiency Heat Pump with Existing Heat Backup\",\"Mininum Efficiency Heat Pump with Electric Heat Backup\",\"High Efficiency Heat Pump with Electric Heat Backup\",\"High Efficiency Whole Home Electrification\",\"Induction Cooking\",\"Basic Enclosure\",\"Basic Enclosure + HPWH + High Efficiency HP/Electric Backup\",\"Basic Enclosure + High Efficiency Whole Home Electrification\",\"Enhanced Enclosure\",\"Enhanced Enclosure + HPWH + High Efficiency HP/Electric Backup\",\"Enhanced Enclosure + High Efficiency Whole Home Electrification\",\"Heat Pump Clothes Dryer\",\"Heat Pump Water Heater\"],\"type\":\"bar\",\"xaxis\":\"x\",\"yaxis\":\"y\",\"textposition\":\"inside\",\"texttemplate\":\"%{text:.0%}\"},{\"marker\":{\"color\":\"red\"},\"orientation\":\"h\",\"showlegend\":false,\"text\":[0.0,0.1111111111111111,0.10526315789473684,0.10526315789473684,0.05263157894736842,0.0,0.0,0.0,0.0,0.0,0.0,0.0,0.0,0.0,0.0],\"x\":[0.0,0.1111111111111111,0.10526315789473684,0.10526315789473684,0.05263157894736842,0.0,0.0,0.0,0.0,0.0,0.0,0.0,0.0,0.0,0.0],\"y\":[\"Electric Cooking\",\"Mininum Efficiency Whole Home Electrification\",\"Mininum Efficiency Heat Pump with Existing Heat Backup\",\"Mininum Efficiency Heat Pump with Electric Heat Backup\",\"High Efficiency Heat Pump with Electric Heat Backup\",\"High Efficiency Whole Home Electrification\",\"Induction Cooking\",\"Basic Enclosure\",\"Basic Enclosure + HPWH + High Efficiency HP/Electric Backup\",\"Basic Enclosure + High Efficiency Whole Home Electrification\",\"Enhanced Enclosure\",\"Enhanced Enclosure + HPWH + High Efficiency HP/Electric Backup\",\"Enhanced Enclosure + High Efficiency Whole Home Electrification\",\"Heat Pump Clothes Dryer\",\"Heat Pump Water Heater\"],\"type\":\"bar\",\"xaxis\":\"x2\",\"yaxis\":\"y2\",\"textposition\":\"inside\",\"texttemplate\":\"%{text:.0%}\"},{\"marker\":{\"color\":\"green\"},\"orientation\":\"h\",\"showlegend\":false,\"text\":[1.0,0.8888888888888888,0.8947368421052632,0.8947368421052632,0.9473684210526315,1.0,1.0,1.0,1.0,1.0,1.0,1.0,1.0,1.0,1.0],\"x\":[1.0,0.8888888888888888,0.8947368421052632,0.8947368421052632,0.9473684210526315,1.0,1.0,1.0,1.0,1.0,1.0,1.0,1.0,1.0,1.0],\"y\":[\"Electric Cooking\",\"Mininum Efficiency Whole Home Electrification\",\"Mininum Efficiency Heat Pump with Existing Heat Backup\",\"Mininum Efficiency Heat Pump with Electric Heat Backup\",\"High Efficiency Heat Pump with Electric Heat Backup\",\"High Efficiency Whole Home Electrification\",\"Induction Cooking\",\"Basic Enclosure\",\"Basic Enclosure + HPWH + High Efficiency HP/Electric Backup\",\"Basic Enclosure + High Efficiency Whole Home Electrification\",\"Enhanced Enclosure\",\"Enhanced Enclosure + HPWH + High Efficiency HP/Electric Backup\",\"Enhanced Enclosure + High Efficiency Whole Home Electrification\",\"Heat Pump Clothes Dryer\",\"Heat Pump Water Heater\"],\"type\":\"bar\",\"xaxis\":\"x2\",\"yaxis\":\"y2\",\"textposition\":\"inside\",\"texttemplate\":\"%{text:.0%}\"},{\"marker\":{\"color\":\"red\"},\"orientation\":\"h\",\"showlegend\":false,\"text\":[0.0,0.0,0.10526315789473684,0.10526315789473684,0.0,0.0,0.0,0.0,0.0,0.0,0.0,0.0,0.0,0.0,0.0],\"x\":[0.0,0.0,0.10526315789473684,0.10526315789473684,0.0,0.0,0.0,0.0,0.0,0.0,0.0,0.0,0.0,0.0,0.0],\"y\":[\"Electric Cooking\",\"Mininum Efficiency Whole Home Electrification\",\"Mininum Efficiency Heat Pump with Existing Heat Backup\",\"Mininum Efficiency Heat Pump with Electric Heat Backup\",\"High Efficiency Heat Pump with Electric Heat Backup\",\"High Efficiency Whole Home Electrification\",\"Induction Cooking\",\"Basic Enclosure\",\"Basic Enclosure + HPWH + High Efficiency HP/Electric Backup\",\"Basic Enclosure + High Efficiency Whole Home Electrification\",\"Enhanced Enclosure\",\"Enhanced Enclosure + HPWH + High Efficiency HP/Electric Backup\",\"Enhanced Enclosure + High Efficiency Whole Home Electrification\",\"Heat Pump Clothes Dryer\",\"Heat Pump Water Heater\"],\"type\":\"bar\",\"xaxis\":\"x3\",\"yaxis\":\"y3\",\"textposition\":\"inside\",\"texttemplate\":\"%{text:.0%}\"},{\"marker\":{\"color\":\"green\"},\"orientation\":\"h\",\"showlegend\":false,\"text\":[1.0,1.0,0.8947368421052632,0.8947368421052632,1.0,1.0,1.0,1.0,1.0,1.0,1.0,1.0,1.0,1.0,1.0],\"x\":[1.0,1.0,0.8947368421052632,0.8947368421052632,1.0,1.0,1.0,1.0,1.0,1.0,1.0,1.0,1.0,1.0,1.0],\"y\":[\"Electric Cooking\",\"Mininum Efficiency Whole Home Electrification\",\"Mininum Efficiency Heat Pump with Existing Heat Backup\",\"Mininum Efficiency Heat Pump with Electric Heat Backup\",\"High Efficiency Heat Pump with Electric Heat Backup\",\"High Efficiency Whole Home Electrification\",\"Induction Cooking\",\"Basic Enclosure\",\"Basic Enclosure + HPWH + High Efficiency HP/Electric Backup\",\"Basic Enclosure + High Efficiency Whole Home Electrification\",\"Enhanced Enclosure\",\"Enhanced Enclosure + HPWH + High Efficiency HP/Electric Backup\",\"Enhanced Enclosure + High Efficiency Whole Home Electrification\",\"Heat Pump Clothes Dryer\",\"Heat Pump Water Heater\"],\"type\":\"bar\",\"xaxis\":\"x3\",\"yaxis\":\"y3\",\"textposition\":\"inside\",\"texttemplate\":\"%{text:.0%}\"}],                        {\"template\":{\"data\":{\"histogram2dcontour\":[{\"type\":\"histogram2dcontour\",\"colorbar\":{\"outlinewidth\":0,\"ticks\":\"\"},\"colorscale\":[[0.0,\"#0d0887\"],[0.1111111111111111,\"#46039f\"],[0.2222222222222222,\"#7201a8\"],[0.3333333333333333,\"#9c179e\"],[0.4444444444444444,\"#bd3786\"],[0.5555555555555556,\"#d8576b\"],[0.6666666666666666,\"#ed7953\"],[0.7777777777777778,\"#fb9f3a\"],[0.8888888888888888,\"#fdca26\"],[1.0,\"#f0f921\"]]}],\"choropleth\":[{\"type\":\"choropleth\",\"colorbar\":{\"outlinewidth\":0,\"ticks\":\"\"}}],\"histogram2d\":[{\"type\":\"histogram2d\",\"colorbar\":{\"outlinewidth\":0,\"ticks\":\"\"},\"colorscale\":[[0.0,\"#0d0887\"],[0.1111111111111111,\"#46039f\"],[0.2222222222222222,\"#7201a8\"],[0.3333333333333333,\"#9c179e\"],[0.4444444444444444,\"#bd3786\"],[0.5555555555555556,\"#d8576b\"],[0.6666666666666666,\"#ed7953\"],[0.7777777777777778,\"#fb9f3a\"],[0.8888888888888888,\"#fdca26\"],[1.0,\"#f0f921\"]]}],\"heatmap\":[{\"type\":\"heatmap\",\"colorbar\":{\"outlinewidth\":0,\"ticks\":\"\"},\"colorscale\":[[0.0,\"#0d0887\"],[0.1111111111111111,\"#46039f\"],[0.2222222222222222,\"#7201a8\"],[0.3333333333333333,\"#9c179e\"],[0.4444444444444444,\"#bd3786\"],[0.5555555555555556,\"#d8576b\"],[0.6666666666666666,\"#ed7953\"],[0.7777777777777778,\"#fb9f3a\"],[0.8888888888888888,\"#fdca26\"],[1.0,\"#f0f921\"]]}],\"heatmapgl\":[{\"type\":\"heatmapgl\",\"colorbar\":{\"outlinewidth\":0,\"ticks\":\"\"},\"colorscale\":[[0.0,\"#0d0887\"],[0.1111111111111111,\"#46039f\"],[0.2222222222222222,\"#7201a8\"],[0.3333333333333333,\"#9c179e\"],[0.4444444444444444,\"#bd3786\"],[0.5555555555555556,\"#d8576b\"],[0.6666666666666666,\"#ed7953\"],[0.7777777777777778,\"#fb9f3a\"],[0.8888888888888888,\"#fdca26\"],[1.0,\"#f0f921\"]]}],\"contourcarpet\":[{\"type\":\"contourcarpet\",\"colorbar\":{\"outlinewidth\":0,\"ticks\":\"\"}}],\"contour\":[{\"type\":\"contour\",\"colorbar\":{\"outlinewidth\":0,\"ticks\":\"\"},\"colorscale\":[[0.0,\"#0d0887\"],[0.1111111111111111,\"#46039f\"],[0.2222222222222222,\"#7201a8\"],[0.3333333333333333,\"#9c179e\"],[0.4444444444444444,\"#bd3786\"],[0.5555555555555556,\"#d8576b\"],[0.6666666666666666,\"#ed7953\"],[0.7777777777777778,\"#fb9f3a\"],[0.8888888888888888,\"#fdca26\"],[1.0,\"#f0f921\"]]}],\"surface\":[{\"type\":\"surface\",\"colorbar\":{\"outlinewidth\":0,\"ticks\":\"\"},\"colorscale\":[[0.0,\"#0d0887\"],[0.1111111111111111,\"#46039f\"],[0.2222222222222222,\"#7201a8\"],[0.3333333333333333,\"#9c179e\"],[0.4444444444444444,\"#bd3786\"],[0.5555555555555556,\"#d8576b\"],[0.6666666666666666,\"#ed7953\"],[0.7777777777777778,\"#fb9f3a\"],[0.8888888888888888,\"#fdca26\"],[1.0,\"#f0f921\"]]}],\"mesh3d\":[{\"type\":\"mesh3d\",\"colorbar\":{\"outlinewidth\":0,\"ticks\":\"\"}}],\"scatter\":[{\"fillpattern\":{\"fillmode\":\"overlay\",\"size\":10,\"solidity\":0.2},\"type\":\"scatter\"}],\"parcoords\":[{\"type\":\"parcoords\",\"line\":{\"colorbar\":{\"outlinewidth\":0,\"ticks\":\"\"}}}],\"scatterpolargl\":[{\"type\":\"scatterpolargl\",\"marker\":{\"colorbar\":{\"outlinewidth\":0,\"ticks\":\"\"}}}],\"bar\":[{\"error_x\":{\"color\":\"#2a3f5f\"},\"error_y\":{\"color\":\"#2a3f5f\"},\"marker\":{\"line\":{\"color\":\"#E5ECF6\",\"width\":0.5},\"pattern\":{\"fillmode\":\"overlay\",\"size\":10,\"solidity\":0.2}},\"type\":\"bar\"}],\"scattergeo\":[{\"type\":\"scattergeo\",\"marker\":{\"colorbar\":{\"outlinewidth\":0,\"ticks\":\"\"}}}],\"scatterpolar\":[{\"type\":\"scatterpolar\",\"marker\":{\"colorbar\":{\"outlinewidth\":0,\"ticks\":\"\"}}}],\"histogram\":[{\"marker\":{\"pattern\":{\"fillmode\":\"overlay\",\"size\":10,\"solidity\":0.2}},\"type\":\"histogram\"}],\"scattergl\":[{\"type\":\"scattergl\",\"marker\":{\"colorbar\":{\"outlinewidth\":0,\"ticks\":\"\"}}}],\"scatter3d\":[{\"type\":\"scatter3d\",\"line\":{\"colorbar\":{\"outlinewidth\":0,\"ticks\":\"\"}},\"marker\":{\"colorbar\":{\"outlinewidth\":0,\"ticks\":\"\"}}}],\"scattermapbox\":[{\"type\":\"scattermapbox\",\"marker\":{\"colorbar\":{\"outlinewidth\":0,\"ticks\":\"\"}}}],\"scatterternary\":[{\"type\":\"scatterternary\",\"marker\":{\"colorbar\":{\"outlinewidth\":0,\"ticks\":\"\"}}}],\"scattercarpet\":[{\"type\":\"scattercarpet\",\"marker\":{\"colorbar\":{\"outlinewidth\":0,\"ticks\":\"\"}}}],\"carpet\":[{\"aaxis\":{\"endlinecolor\":\"#2a3f5f\",\"gridcolor\":\"white\",\"linecolor\":\"white\",\"minorgridcolor\":\"white\",\"startlinecolor\":\"#2a3f5f\"},\"baxis\":{\"endlinecolor\":\"#2a3f5f\",\"gridcolor\":\"white\",\"linecolor\":\"white\",\"minorgridcolor\":\"white\",\"startlinecolor\":\"#2a3f5f\"},\"type\":\"carpet\"}],\"table\":[{\"cells\":{\"fill\":{\"color\":\"#EBF0F8\"},\"line\":{\"color\":\"white\"}},\"header\":{\"fill\":{\"color\":\"#C8D4E3\"},\"line\":{\"color\":\"white\"}},\"type\":\"table\"}],\"barpolar\":[{\"marker\":{\"line\":{\"color\":\"#E5ECF6\",\"width\":0.5},\"pattern\":{\"fillmode\":\"overlay\",\"size\":10,\"solidity\":0.2}},\"type\":\"barpolar\"}],\"pie\":[{\"automargin\":true,\"type\":\"pie\"}]},\"layout\":{\"autotypenumbers\":\"strict\",\"colorway\":[\"#636efa\",\"#EF553B\",\"#00cc96\",\"#ab63fa\",\"#FFA15A\",\"#19d3f3\",\"#FF6692\",\"#B6E880\",\"#FF97FF\",\"#FECB52\"],\"font\":{\"color\":\"#2a3f5f\"},\"hovermode\":\"closest\",\"hoverlabel\":{\"align\":\"left\"},\"paper_bgcolor\":\"white\",\"plot_bgcolor\":\"#E5ECF6\",\"polar\":{\"bgcolor\":\"#E5ECF6\",\"angularaxis\":{\"gridcolor\":\"white\",\"linecolor\":\"white\",\"ticks\":\"\"},\"radialaxis\":{\"gridcolor\":\"white\",\"linecolor\":\"white\",\"ticks\":\"\"}},\"ternary\":{\"bgcolor\":\"#E5ECF6\",\"aaxis\":{\"gridcolor\":\"white\",\"linecolor\":\"white\",\"ticks\":\"\"},\"baxis\":{\"gridcolor\":\"white\",\"linecolor\":\"white\",\"ticks\":\"\"},\"caxis\":{\"gridcolor\":\"white\",\"linecolor\":\"white\",\"ticks\":\"\"}},\"coloraxis\":{\"colorbar\":{\"outlinewidth\":0,\"ticks\":\"\"}},\"colorscale\":{\"sequential\":[[0.0,\"#0d0887\"],[0.1111111111111111,\"#46039f\"],[0.2222222222222222,\"#7201a8\"],[0.3333333333333333,\"#9c179e\"],[0.4444444444444444,\"#bd3786\"],[0.5555555555555556,\"#d8576b\"],[0.6666666666666666,\"#ed7953\"],[0.7777777777777778,\"#fb9f3a\"],[0.8888888888888888,\"#fdca26\"],[1.0,\"#f0f921\"]],\"sequentialminus\":[[0.0,\"#0d0887\"],[0.1111111111111111,\"#46039f\"],[0.2222222222222222,\"#7201a8\"],[0.3333333333333333,\"#9c179e\"],[0.4444444444444444,\"#bd3786\"],[0.5555555555555556,\"#d8576b\"],[0.6666666666666666,\"#ed7953\"],[0.7777777777777778,\"#fb9f3a\"],[0.8888888888888888,\"#fdca26\"],[1.0,\"#f0f921\"]],\"diverging\":[[0,\"#8e0152\"],[0.1,\"#c51b7d\"],[0.2,\"#de77ae\"],[0.3,\"#f1b6da\"],[0.4,\"#fde0ef\"],[0.5,\"#f7f7f7\"],[0.6,\"#e6f5d0\"],[0.7,\"#b8e186\"],[0.8,\"#7fbc41\"],[0.9,\"#4d9221\"],[1,\"#276419\"]]},\"xaxis\":{\"gridcolor\":\"white\",\"linecolor\":\"white\",\"ticks\":\"\",\"title\":{\"standoff\":15},\"zerolinecolor\":\"white\",\"automargin\":true,\"zerolinewidth\":2},\"yaxis\":{\"gridcolor\":\"white\",\"linecolor\":\"white\",\"ticks\":\"\",\"title\":{\"standoff\":15},\"zerolinecolor\":\"white\",\"automargin\":true,\"zerolinewidth\":2},\"scene\":{\"xaxis\":{\"backgroundcolor\":\"#E5ECF6\",\"gridcolor\":\"white\",\"linecolor\":\"white\",\"showbackground\":true,\"ticks\":\"\",\"zerolinecolor\":\"white\",\"gridwidth\":2},\"yaxis\":{\"backgroundcolor\":\"#E5ECF6\",\"gridcolor\":\"white\",\"linecolor\":\"white\",\"showbackground\":true,\"ticks\":\"\",\"zerolinecolor\":\"white\",\"gridwidth\":2},\"zaxis\":{\"backgroundcolor\":\"#E5ECF6\",\"gridcolor\":\"white\",\"linecolor\":\"white\",\"showbackground\":true,\"ticks\":\"\",\"zerolinecolor\":\"white\",\"gridwidth\":2}},\"shapedefaults\":{\"line\":{\"color\":\"#2a3f5f\"}},\"annotationdefaults\":{\"arrowcolor\":\"#2a3f5f\",\"arrowhead\":0,\"arrowwidth\":1},\"geo\":{\"bgcolor\":\"white\",\"landcolor\":\"#E5ECF6\",\"subunitcolor\":\"white\",\"showland\":true,\"showlakes\":true,\"lakecolor\":\"white\"},\"title\":{\"x\":0.05},\"mapbox\":{\"style\":\"light\"}}},\"xaxis\":{\"anchor\":\"y\",\"domain\":[0.0,0.2888888888888889],\"title\":{\"text\":\"Bill\"},\"visible\":true,\"tickformat\":\",.0%\"},\"yaxis\":{\"anchor\":\"x\",\"domain\":[0.0,1.0],\"visible\":true},\"xaxis2\":{\"anchor\":\"y2\",\"domain\":[0.35555555555555557,0.6444444444444445],\"title\":{\"text\":\"Emission\"},\"visible\":true,\"tickformat\":\",.0%\"},\"yaxis2\":{\"anchor\":\"x2\",\"domain\":[0.0,1.0],\"visible\":false},\"xaxis3\":{\"anchor\":\"y3\",\"domain\":[0.7111111111111111,1.0],\"title\":{\"text\":\"Total Energy\"},\"visible\":true,\"tickformat\":\",.0%\"},\"yaxis3\":{\"anchor\":\"x3\",\"domain\":[0.0,1.0],\"visible\":false},\"barmode\":\"relative\",\"font\":{\"size\":10},\"title\":{\"text\":\"Percentage of Household in Positive and Negative Savings\"},\"autosize\":false,\"width\":1000,\"height\":500},                        {\"responsive\": true}                    ).then(function(){\n",
       "                            \n",
       "var gd = document.getElementById('8162ec07-b275-4b1f-92ce-1b48e05d41f0');\n",
       "var x = new MutationObserver(function (mutations, observer) {{\n",
       "        var display = window.getComputedStyle(gd).display;\n",
       "        if (!display || display === 'none') {{\n",
       "            console.log([gd, 'removed!']);\n",
       "            Plotly.purge(gd);\n",
       "            observer.disconnect();\n",
       "        }}\n",
       "}});\n",
       "\n",
       "// Listen for the removal of the full notebook cells\n",
       "var notebookContainer = gd.closest('#notebook-container');\n",
       "if (notebookContainer) {{\n",
       "    x.observe(notebookContainer, {childList: true});\n",
       "}}\n",
       "\n",
       "// Listen for the clearing of the current output cell\n",
       "var outputEl = gd.closest('.output');\n",
       "if (outputEl) {{\n",
       "    x.observe(outputEl, {childList: true});\n",
       "}}\n",
       "\n",
       "                        })                };                });            </script>        </div>"
      ]
     },
     "metadata": {},
     "output_type": "display_data"
    },
    {
     "name": "stderr",
     "output_type": "stream",
     "text": [
      "C:\\Users\\ylou2\\AppData\\Local\\Temp\\1\\ipykernel_17696\\2289506022.py:3: PerformanceWarning:\n",
      "\n",
      "DataFrame is highly fragmented.  This is usually the result of calling `frame.insert` many times, which has poor performance.  Consider joining all columns at once using pd.concat(axis=1) instead. To get a de-fragmented frame, use `newframe = frame.copy()`\n",
      "\n",
      "C:\\Users\\ylou2\\AppData\\Local\\Temp\\1\\ipykernel_17696\\2289506022.py:4: PerformanceWarning:\n",
      "\n",
      "DataFrame is highly fragmented.  This is usually the result of calling `frame.insert` many times, which has poor performance.  Consider joining all columns at once using pd.concat(axis=1) instead. To get a de-fragmented frame, use `newframe = frame.copy()`\n",
      "\n",
      "C:\\Users\\ylou2\\AppData\\Local\\Temp\\1\\ipykernel_17696\\2289506022.py:5: PerformanceWarning:\n",
      "\n",
      "DataFrame is highly fragmented.  This is usually the result of calling `frame.insert` many times, which has poor performance.  Consider joining all columns at once using pd.concat(axis=1) instead. To get a de-fragmented frame, use `newframe = frame.copy()`\n",
      "\n"
     ]
    }
   ],
   "source": [
    "segment = 'segment4'\n",
    "results = figure_positive_negative_savings(segment, community_results)\n",
    "saving_results[f'segment4_{income}_pct_bill_positive_savings_%'] = results[0]*100\n",
    "saving_results[f'segment4_{income}_pct_emission_positive_savings_%'] = results[1]*100\n",
    "saving_results[f'segment4_{income}_pct_energy_positive_savings_%'] = results[2]*100"
   ]
  },
  {
   "cell_type": "markdown",
   "id": "45f2fa39",
   "metadata": {},
   "source": [
    "## 3.6. Average Energy Burden (%) Before and after Upgrade"
   ]
  },
  {
   "cell_type": "code",
   "execution_count": 108,
   "id": "9b9fbe35",
   "metadata": {},
   "outputs": [
    {
     "name": "stdout",
     "output_type": "stream",
     "text": [
      "energy burden (%) before and after upgrade\n",
      "segment1\n",
      "                                                    before  after\n",
      "upgrade_name                                                     \n",
      "Enhanced Enclosure + High Efficiency Whole Home...     9.2    5.0\n",
      "Basic Enclosure + High Efficiency Whole Home El...     9.2    5.1\n",
      "Enhanced Enclosure + HPWH + High Efficiency HP/...     9.2    5.1\n",
      "Basic Enclosure + HPWH + High Efficiency HP/Ele...     9.2    5.2\n",
      "High Efficiency Whole Home Electrification             9.2    5.8\n",
      "High Efficiency Heat Pump with Electric Heat Ba...     9.2    6.8\n",
      "Enhanced Enclosure                                     9.2    7.3\n",
      "Basic Enclosure                                        9.2    7.7\n",
      "Mininum Efficiency Whole Home Electrification         10.0    9.2\n",
      "Heat Pump Water Heater                                 9.2    8.8\n",
      "Mininum Efficiency Heat Pump with Electric Heat...     9.2    8.8\n",
      "Mininum Efficiency Heat Pump with Existing Heat...     9.2    8.9\n",
      "Heat Pump Clothes Dryer                               10.5   10.4\n",
      "Induction Cooking                                      9.2    9.2\n",
      "Electric Cooking                                       6.8    6.8\n",
      "segment2\n",
      "                                                    before  after\n",
      "upgrade_name                                                     \n",
      "Enhanced Enclosure + High Efficiency Whole Home...     3.1    1.6\n",
      "Enhanced Enclosure + HPWH + High Efficiency HP/...     3.1    1.6\n",
      "Basic Enclosure + High Efficiency Whole Home El...     3.1    1.6\n",
      "Basic Enclosure + HPWH + High Efficiency HP/Ele...     3.1    1.7\n",
      "High Efficiency Whole Home Electrification             3.1    1.9\n",
      "High Efficiency Heat Pump with Electric Heat Ba...     3.1    2.2\n",
      "Enhanced Enclosure                                     3.1    2.4\n",
      "Basic Enclosure                                        3.1    2.5\n",
      "Mininum Efficiency Heat Pump with Existing Heat...     3.1    2.8\n",
      "Mininum Efficiency Whole Home Electrification          3.2    3.0\n",
      "Mininum Efficiency Heat Pump with Electric Heat...     3.1    2.9\n",
      "Heat Pump Water Heater                                 3.1    3.0\n",
      "Heat Pump Clothes Dryer                                2.9    2.9\n",
      "Induction Cooking                                      3.1    3.1\n",
      "Electric Cooking                                       3.3    3.3\n",
      "segment3\n",
      "                                                    before  after\n",
      "upgrade_name                                                     \n",
      "Enhanced Enclosure + High Efficiency Whole Home...    12.2    7.1\n",
      "Basic Enclosure + High Efficiency Whole Home El...    12.2    7.2\n",
      "Enhanced Enclosure + HPWH + High Efficiency HP/...    12.2    7.3\n",
      "Basic Enclosure + HPWH + High Efficiency HP/Ele...    12.2    7.4\n",
      "High Efficiency Whole Home Electrification            12.2    7.9\n",
      "High Efficiency Heat Pump with Electric Heat Ba...    12.2    9.3\n",
      "Enhanced Enclosure                                    12.2   10.2\n",
      "Basic Enclosure                                       12.2   10.4\n",
      "Heat Pump Water Heater                                12.2   11.7\n",
      "Mininum Efficiency Heat Pump with Existing Heat...    12.2   11.7\n",
      "Mininum Efficiency Heat Pump with Electric Heat...    12.2   11.7\n",
      "Heat Pump Clothes Dryer                               13.2   13.0\n",
      "Induction Cooking                                     12.8   12.7\n",
      "Mininum Efficiency Whole Home Electrification         12.9   12.9\n",
      "Electric Cooking                                      16.8   17.0\n",
      "segment4\n",
      "                                                    before  after\n",
      "upgrade_name                                                     \n",
      "Enhanced Enclosure + High Efficiency Whole Home...     2.1    1.2\n",
      "Basic Enclosure + High Efficiency Whole Home El...     2.1    1.2\n",
      "Enhanced Enclosure + HPWH + High Efficiency HP/...     2.1    1.2\n",
      "Basic Enclosure + HPWH + High Efficiency HP/Ele...     2.1    1.2\n",
      "High Efficiency Whole Home Electrification             2.1    1.3\n",
      "High Efficiency Heat Pump with Electric Heat Ba...     2.1    1.6\n",
      "Enhanced Enclosure                                     2.2    1.9\n",
      "Basic Enclosure                                        2.2    1.9\n",
      "Mininum Efficiency Heat Pump with Existing Heat...     2.1    1.9\n",
      "Mininum Efficiency Heat Pump with Electric Heat...     2.1    1.9\n",
      "Heat Pump Water Heater                                 2.1    2.0\n",
      "Heat Pump Clothes Dryer                                2.2    2.2\n",
      "Mininum Efficiency Whole Home Electrification          1.6    1.6\n",
      "Induction Cooking                                      2.1    2.1\n",
      "Electric Cooking                                       1.4    1.4\n"
     ]
    },
    {
     "name": "stderr",
     "output_type": "stream",
     "text": [
      "C:\\Users\\ylou2\\AppData\\Local\\Temp\\1\\ipykernel_17696\\4168045805.py:4: SettingWithCopyWarning:\n",
      "\n",
      "\n",
      "A value is trying to be set on a copy of a slice from a DataFrame\n",
      "\n",
      "See the caveats in the documentation: https://pandas.pydata.org/pandas-docs/stable/user_guide/indexing.html#returning-a-view-versus-a-copy\n",
      "\n",
      "C:\\Users\\ylou2\\AppData\\Local\\Temp\\1\\ipykernel_17696\\4168045805.py:5: SettingWithCopyWarning:\n",
      "\n",
      "\n",
      "A value is trying to be set on a copy of a slice from a DataFrame\n",
      "\n",
      "See the caveats in the documentation: https://pandas.pydata.org/pandas-docs/stable/user_guide/indexing.html#returning-a-view-versus-a-copy\n",
      "\n",
      "C:\\Users\\ylou2\\AppData\\Local\\Temp\\1\\ipykernel_17696\\4168045805.py:6: SettingWithCopyWarning:\n",
      "\n",
      "\n",
      "A value is trying to be set on a copy of a slice from a DataFrame.\n",
      "Try using .loc[row_indexer,col_indexer] = value instead\n",
      "\n",
      "See the caveats in the documentation: https://pandas.pydata.org/pandas-docs/stable/user_guide/indexing.html#returning-a-view-versus-a-copy\n",
      "\n",
      "C:\\Users\\ylou2\\AppData\\Local\\Temp\\1\\ipykernel_17696\\4168045805.py:7: SettingWithCopyWarning:\n",
      "\n",
      "\n",
      "A value is trying to be set on a copy of a slice from a DataFrame.\n",
      "Try using .loc[row_indexer,col_indexer] = value instead\n",
      "\n",
      "See the caveats in the documentation: https://pandas.pydata.org/pandas-docs/stable/user_guide/indexing.html#returning-a-view-versus-a-copy\n",
      "\n",
      "C:\\Users\\ylou2\\AppData\\Local\\Temp\\1\\ipykernel_17696\\2330438264.py:2: PerformanceWarning:\n",
      "\n",
      "DataFrame is highly fragmented.  This is usually the result of calling `frame.insert` many times, which has poor performance.  Consider joining all columns at once using pd.concat(axis=1) instead. To get a de-fragmented frame, use `newframe = frame.copy()`\n",
      "\n",
      "C:\\Users\\ylou2\\AppData\\Local\\Temp\\1\\ipykernel_17696\\2330438264.py:2: PerformanceWarning:\n",
      "\n",
      "DataFrame is highly fragmented.  This is usually the result of calling `frame.insert` many times, which has poor performance.  Consider joining all columns at once using pd.concat(axis=1) instead. To get a de-fragmented frame, use `newframe = frame.copy()`\n",
      "\n",
      "C:\\Users\\ylou2\\AppData\\Local\\Temp\\1\\ipykernel_17696\\2330438264.py:3: PerformanceWarning:\n",
      "\n",
      "DataFrame is highly fragmented.  This is usually the result of calling `frame.insert` many times, which has poor performance.  Consider joining all columns at once using pd.concat(axis=1) instead. To get a de-fragmented frame, use `newframe = frame.copy()`\n",
      "\n",
      "C:\\Users\\ylou2\\AppData\\Local\\Temp\\1\\ipykernel_17696\\2330438264.py:3: PerformanceWarning:\n",
      "\n",
      "DataFrame is highly fragmented.  This is usually the result of calling `frame.insert` many times, which has poor performance.  Consider joining all columns at once using pd.concat(axis=1) instead. To get a de-fragmented frame, use `newframe = frame.copy()`\n",
      "\n",
      "C:\\Users\\ylou2\\AppData\\Local\\Temp\\1\\ipykernel_17696\\2330438264.py:4: PerformanceWarning:\n",
      "\n",
      "DataFrame is highly fragmented.  This is usually the result of calling `frame.insert` many times, which has poor performance.  Consider joining all columns at once using pd.concat(axis=1) instead. To get a de-fragmented frame, use `newframe = frame.copy()`\n",
      "\n",
      "C:\\Users\\ylou2\\AppData\\Local\\Temp\\1\\ipykernel_17696\\2330438264.py:4: PerformanceWarning:\n",
      "\n",
      "DataFrame is highly fragmented.  This is usually the result of calling `frame.insert` many times, which has poor performance.  Consider joining all columns at once using pd.concat(axis=1) instead. To get a de-fragmented frame, use `newframe = frame.copy()`\n",
      "\n",
      "C:\\Users\\ylou2\\AppData\\Local\\Temp\\1\\ipykernel_17696\\2330438264.py:5: PerformanceWarning:\n",
      "\n",
      "DataFrame is highly fragmented.  This is usually the result of calling `frame.insert` many times, which has poor performance.  Consider joining all columns at once using pd.concat(axis=1) instead. To get a de-fragmented frame, use `newframe = frame.copy()`\n",
      "\n",
      "C:\\Users\\ylou2\\AppData\\Local\\Temp\\1\\ipykernel_17696\\2330438264.py:5: PerformanceWarning:\n",
      "\n",
      "DataFrame is highly fragmented.  This is usually the result of calling `frame.insert` many times, which has poor performance.  Consider joining all columns at once using pd.concat(axis=1) instead. To get a de-fragmented frame, use `newframe = frame.copy()`\n",
      "\n"
     ]
    }
   ],
   "source": [
    "results = segment_mean_energy_burden('post-upgrade_energy_burden_2023_cbills.%', community_results) \n",
    "saving_results[[f'segment1_{income}_energy_burden_before_upgrade_%',f'segment1_{income}_energy_burden_after_upgrade_%']] = results[0]\n",
    "saving_results[[f'segment2_{income}_energy_burden_before_upgrade_%',f'segment2_{income}_energy_burden_after_upgrade_%']] = results[1]\n",
    "saving_results[[f'segment3_{income}_energy_burden_before_upgrade_%',f'segment3_{income}_energy_burden_after_upgrade_%']] = results[2]\n",
    "saving_results[[f'segment4_{income}_energy_burden_before_upgrade_%',f'segment4_{income}_energy_burden_after_upgrade_%']] = results[3]"
   ]
  },
  {
   "cell_type": "code",
   "execution_count": 109,
   "id": "45f4b53f",
   "metadata": {},
   "outputs": [
    {
     "ename": "PermissionError",
     "evalue": "[Errno 13] Permission denied: 'C:\\\\Users\\\\ylou2\\\\Desktop\\\\resstock\\\\euss_cleap\\\\results\\\\louisville\\\\saving_results_louisville.csv'",
     "output_type": "error",
     "traceback": [
      "\u001b[1;31m---------------------------------------------------------------------------\u001b[0m",
      "\u001b[1;31mPermissionError\u001b[0m                           Traceback (most recent call last)",
      "\u001b[1;32m~\\AppData\\Local\\Temp\\1\\ipykernel_17696\\2121152054.py\u001b[0m in \u001b[0;36m<module>\u001b[1;34m\u001b[0m\n\u001b[1;32m----> 1\u001b[1;33m \u001b[0msaving_results\u001b[0m\u001b[1;33m.\u001b[0m\u001b[0mto_csv\u001b[0m\u001b[1;33m(\u001b[0m\u001b[0mfig_dir\u001b[0m \u001b[1;33m/\u001b[0m \u001b[1;34mf'saving_results_{community}.csv'\u001b[0m\u001b[1;33m)\u001b[0m\u001b[1;33m\u001b[0m\u001b[1;33m\u001b[0m\u001b[0m\n\u001b[0m",
      "\u001b[1;32mC:\\ProgramData\\Anaconda3\\lib\\site-packages\\pandas\\core\\generic.py\u001b[0m in \u001b[0;36mto_csv\u001b[1;34m(self, path_or_buf, sep, na_rep, float_format, columns, header, index, index_label, mode, encoding, compression, quoting, quotechar, line_terminator, chunksize, date_format, doublequote, escapechar, decimal, errors, storage_options)\u001b[0m\n\u001b[0;32m   3549\u001b[0m         )\n\u001b[0;32m   3550\u001b[0m \u001b[1;33m\u001b[0m\u001b[0m\n\u001b[1;32m-> 3551\u001b[1;33m         return DataFrameRenderer(formatter).to_csv(\n\u001b[0m\u001b[0;32m   3552\u001b[0m             \u001b[0mpath_or_buf\u001b[0m\u001b[1;33m,\u001b[0m\u001b[1;33m\u001b[0m\u001b[1;33m\u001b[0m\u001b[0m\n\u001b[0;32m   3553\u001b[0m             \u001b[0mline_terminator\u001b[0m\u001b[1;33m=\u001b[0m\u001b[0mline_terminator\u001b[0m\u001b[1;33m,\u001b[0m\u001b[1;33m\u001b[0m\u001b[1;33m\u001b[0m\u001b[0m\n",
      "\u001b[1;32mC:\\ProgramData\\Anaconda3\\lib\\site-packages\\pandas\\io\\formats\\format.py\u001b[0m in \u001b[0;36mto_csv\u001b[1;34m(self, path_or_buf, encoding, sep, columns, index_label, mode, compression, quoting, quotechar, line_terminator, chunksize, date_format, doublequote, escapechar, errors, storage_options)\u001b[0m\n\u001b[0;32m   1178\u001b[0m             \u001b[0mformatter\u001b[0m\u001b[1;33m=\u001b[0m\u001b[0mself\u001b[0m\u001b[1;33m.\u001b[0m\u001b[0mfmt\u001b[0m\u001b[1;33m,\u001b[0m\u001b[1;33m\u001b[0m\u001b[1;33m\u001b[0m\u001b[0m\n\u001b[0;32m   1179\u001b[0m         )\n\u001b[1;32m-> 1180\u001b[1;33m         \u001b[0mcsv_formatter\u001b[0m\u001b[1;33m.\u001b[0m\u001b[0msave\u001b[0m\u001b[1;33m(\u001b[0m\u001b[1;33m)\u001b[0m\u001b[1;33m\u001b[0m\u001b[1;33m\u001b[0m\u001b[0m\n\u001b[0m\u001b[0;32m   1181\u001b[0m \u001b[1;33m\u001b[0m\u001b[0m\n\u001b[0;32m   1182\u001b[0m         \u001b[1;32mif\u001b[0m \u001b[0mcreated_buffer\u001b[0m\u001b[1;33m:\u001b[0m\u001b[1;33m\u001b[0m\u001b[1;33m\u001b[0m\u001b[0m\n",
      "\u001b[1;32mC:\\ProgramData\\Anaconda3\\lib\\site-packages\\pandas\\io\\formats\\csvs.py\u001b[0m in \u001b[0;36msave\u001b[1;34m(self)\u001b[0m\n\u001b[0;32m    239\u001b[0m         \"\"\"\n\u001b[0;32m    240\u001b[0m         \u001b[1;31m# apply compression and byte/text conversion\u001b[0m\u001b[1;33m\u001b[0m\u001b[1;33m\u001b[0m\u001b[0m\n\u001b[1;32m--> 241\u001b[1;33m         with get_handle(\n\u001b[0m\u001b[0;32m    242\u001b[0m             \u001b[0mself\u001b[0m\u001b[1;33m.\u001b[0m\u001b[0mfilepath_or_buffer\u001b[0m\u001b[1;33m,\u001b[0m\u001b[1;33m\u001b[0m\u001b[1;33m\u001b[0m\u001b[0m\n\u001b[0;32m    243\u001b[0m             \u001b[0mself\u001b[0m\u001b[1;33m.\u001b[0m\u001b[0mmode\u001b[0m\u001b[1;33m,\u001b[0m\u001b[1;33m\u001b[0m\u001b[1;33m\u001b[0m\u001b[0m\n",
      "\u001b[1;32mC:\\ProgramData\\Anaconda3\\lib\\site-packages\\pandas\\io\\common.py\u001b[0m in \u001b[0;36mget_handle\u001b[1;34m(path_or_buf, mode, encoding, compression, memory_map, is_text, errors, storage_options)\u001b[0m\n\u001b[0;32m    784\u001b[0m         \u001b[1;32mif\u001b[0m \u001b[0mioargs\u001b[0m\u001b[1;33m.\u001b[0m\u001b[0mencoding\u001b[0m \u001b[1;32mand\u001b[0m \u001b[1;34m\"b\"\u001b[0m \u001b[1;32mnot\u001b[0m \u001b[1;32min\u001b[0m \u001b[0mioargs\u001b[0m\u001b[1;33m.\u001b[0m\u001b[0mmode\u001b[0m\u001b[1;33m:\u001b[0m\u001b[1;33m\u001b[0m\u001b[1;33m\u001b[0m\u001b[0m\n\u001b[0;32m    785\u001b[0m             \u001b[1;31m# Encoding\u001b[0m\u001b[1;33m\u001b[0m\u001b[1;33m\u001b[0m\u001b[0m\n\u001b[1;32m--> 786\u001b[1;33m             handle = open(\n\u001b[0m\u001b[0;32m    787\u001b[0m                 \u001b[0mhandle\u001b[0m\u001b[1;33m,\u001b[0m\u001b[1;33m\u001b[0m\u001b[1;33m\u001b[0m\u001b[0m\n\u001b[0;32m    788\u001b[0m                 \u001b[0mioargs\u001b[0m\u001b[1;33m.\u001b[0m\u001b[0mmode\u001b[0m\u001b[1;33m,\u001b[0m\u001b[1;33m\u001b[0m\u001b[1;33m\u001b[0m\u001b[0m\n",
      "\u001b[1;31mPermissionError\u001b[0m: [Errno 13] Permission denied: 'C:\\\\Users\\\\ylou2\\\\Desktop\\\\resstock\\\\euss_cleap\\\\results\\\\louisville\\\\saving_results_louisville.csv'"
     ]
    }
   ],
   "source": [
    "saving_results.to_csv(fig_dir / f'saving_results_{community}.csv')"
   ]
  },
  {
   "cell_type": "code",
   "execution_count": null,
   "id": "442ef0c6",
   "metadata": {},
   "outputs": [],
   "source": []
  }
 ],
 "metadata": {
  "kernelspec": {
   "display_name": "myproject",
   "language": "python",
   "name": "python3"
  },
  "language_info": {
   "codemirror_mode": {
    "name": "ipython",
    "version": 3
   },
   "file_extension": ".py",
   "mimetype": "text/x-python",
   "name": "python",
   "nbconvert_exporter": "python",
   "pygments_lexer": "ipython3",
   "version": "3.10.9"
  },
  "vscode": {
   "interpreter": {
    "hash": "3a57d1f596c9ff9c21fe2833ccf65af76902e525ab80c4cb66d19dbf82ca6dce"
   }
  }
 },
 "nbformat": 4,
 "nbformat_minor": 5
}
