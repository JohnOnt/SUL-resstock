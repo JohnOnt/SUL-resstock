{
 "cells": [
  {
   "attachments": {},
   "cell_type": "markdown",
   "id": "04c5e2bc",
   "metadata": {},
   "source": [
    "Get community building samples from euss and renormalize the sample weight"
   ]
  },
  {
   "cell_type": "code",
   "execution_count": 11,
   "id": "60acb568",
   "metadata": {},
   "outputs": [
    {
     "name": "stdout",
     "output_type": "stream",
     "text": [
      "The user is lliu2\n"
     ]
    }
   ],
   "source": [
    "import pandas as pd\n",
    "from pathlib import Path\n",
    "import getpass\n",
    "\n",
    "user = getpass.getuser()\n",
    "print(f\"The user is {user}\")"
   ]
  },
  {
   "cell_type": "code",
   "execution_count": 12,
   "id": "eb12f4f3",
   "metadata": {},
   "outputs": [],
   "source": [
    "## Dwelling unit count by community \n",
    "Total_dwelling_unit_count = {\n",
    "    \"duluth\": 39762,\n",
    "} # TODO add others here"
   ]
  },
  {
   "cell_type": "code",
   "execution_count": 13,
   "id": "07574f05",
   "metadata": {},
   "outputs": [],
   "source": [
    "community = 'duluth' # TODO change community name"
   ]
  },
  {
   "cell_type": "code",
   "execution_count": 14,
   "id": "f8104874",
   "metadata": {},
   "outputs": [
    {
     "name": "stdout",
     "output_type": "stream",
     "text": [
      "euss_dir: /Volumes/Lixi_Liu/euss_aws\n",
      "output_dir: /Users/lliu2/Documents/GitHub/ResStock/euss_cleap/data_/community_building_samples/duluth\n"
     ]
    }
   ],
   "source": [
    "# set path\n",
    "if user == \"ylou2\":\n",
    "    euss_dir = 'data_/euss_res_final_2018_550k_20220901/' # TODO\n",
    "elif user == \"lliu2\":\n",
    "    euss_dir = \"/Volumes/Lixi_Liu/euss_aws\"\n",
    "else:\n",
    "    print(f\"new user={user}, set euss_dir path here with an elif statement\")\n",
    "\n",
    "euss_dir = Path(euss_dir).resolve()\n",
    "output_dir = Path(\".\").resolve() / \"data_\" / \"community_building_samples\" / community\n",
    "\n",
    "print(f\"euss_dir: {euss_dir}\")\n",
    "print(f\"output_dir: {output_dir}\")"
   ]
  },
  {
   "cell_type": "code",
   "execution_count": 15,
   "id": "c3b65fee",
   "metadata": {},
   "outputs": [
    {
     "name": "stdout",
     "output_type": "stream",
     "text": [
      "building_id_weight for duluth has 1217 rows\n",
      " - for up00, community_up has 1217 rows after downselection and 1217 rows after dropping failed sims\n",
      " - for up01, community_up has 1217 rows after downselection and 1048 rows after dropping failed sims\n"
     ]
    }
   ],
   "source": [
    "building_id_weight = pd.read_csv(f'data_/downsampled_buildings_id/euss1_2018_results_up00__downsampled_method1__{community}.csv')\n",
    "building_id_weight['building_id'] = building_id_weight['building_id'].astype(int)\n",
    "building_id_weight = building_id_weight.set_index('building_id')\n",
    "building_id_weight[\"sample_weight\"] *= Total_dwelling_unit_count[community] / building_id_weight[\"sample_weight\"].sum() # normalize \n",
    "assert building_id_weight[\"sample_weight\"].sum() == Total_dwelling_unit_count[community], \"renormalization failed\"\n",
    "\n",
    "print(f\"building_id_weight for {community} has {len(building_id_weight)} rows\")\n",
    "\n",
    "for i in range(11):\n",
    "    euss_up = pd.read_parquet(euss_dir / f'results_up{i:02d}.parquet', engine='pyarrow')\n",
    "    euss_up[\"building_id\"] = euss_up[\"building_id\"].astype(int)\n",
    "    community_up = euss_up.join(building_id_weight, on=\"building_id\", how=\"right\")\n",
    "    n_downselected = len(community_up)\n",
    "\n",
    "    community_up = community_up.loc[community_up[\"completed_status\"] == \"Success\"].reset_index(drop=True) # drop failed sims\n",
    "    community_up.to_parquet(output_dir / f\"up{i:02d}.parquet\")\n",
    "    \n",
    "    print(f\" - for up{i:02d}, community_up has {n_downselected} rows after downselection, and {len(community_up)} rows after dropping failed sims\")\n",
    "\n",
    "print(\"all done!\")\n"
   ]
  }
 ],
 "metadata": {
  "kernelspec": {
   "display_name": "Python 3 (ipykernel)",
   "language": "python",
   "name": "python3"
  },
  "language_info": {
   "codemirror_mode": {
    "name": "ipython",
    "version": 3
   },
   "file_extension": ".py",
   "mimetype": "text/x-python",
   "name": "python",
   "nbconvert_exporter": "python",
   "pygments_lexer": "ipython3",
   "version": "3.11.3"
  }
 },
 "nbformat": 4,
 "nbformat_minor": 5
}
