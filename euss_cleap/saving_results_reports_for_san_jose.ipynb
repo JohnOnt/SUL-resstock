{
 "cells": [
  {
   "cell_type": "code",
   "execution_count": 1,
   "id": "db22b178",
   "metadata": {},
   "outputs": [],
   "source": [
    "import plotly.graph_objects as go\n",
    "from plotly.subplots import make_subplots\n",
    "import plotly.express as px\n",
    "import pandas as pd\n",
    "import numpy as np\n",
    "from pathlib import Path"
   ]
  },
  {
   "cell_type": "markdown",
   "id": "4d6ffd8b",
   "metadata": {},
   "source": [
    "# Functions"
   ]
  },
  {
   "cell_type": "code",
   "execution_count": 2,
   "id": "06b80ddc",
   "metadata": {},
   "outputs": [],
   "source": [
    "def weighted_mean(x, metric: str):\n",
    "    if len(x[metric].dropna()) == 0:\n",
    "        res = 0\n",
    "    else:\n",
    "        res = (x[metric] * x[\"sample_weight\"]).sum()/x[\"sample_weight\"].sum()\n",
    "    col_name = f\"{metric} wt_mean\"\n",
    "    return pd.Series({col_name: res})\n",
    "\n",
    "def weighted_percentile(x, metric: str, percents: int):\n",
    "    col_name = f\"{metric} wt_p{percents}\"\n",
    "    res = _weighted_percentile(x[metric], percents, weights=x[\"sample_weight\"])\n",
    "    return pd.Series({col_name: res})\n",
    "\n",
    "def _weighted_percentile(data, percents: int, weights=None):\n",
    "    \"\"\"\n",
    "    perc : percentile in 0 - 1\n",
    "    \"\"\"\n",
    "    # dropna\n",
    "    idx = ~np.isnan(data) & ~np.isnan(weights)\n",
    "    data = np.array(data)[idx]\n",
    "    if len(data) == 0:\n",
    "        return np.nan\n",
    "    if weights is None:\n",
    "        return np.percentile(data, percents)\n",
    "    weights = np.array(weights)[idx]\n",
    "    ix = np.argsort(data)\n",
    "    data = data[ix] # sort data\n",
    "    weights = weights[ix] # sort weights\n",
    "    cdf = (np.cumsum(weights) - 0.5 * weights) / np.sum(weights) # 'like' a CDF function\n",
    "    return np.interp(percents, cdf, data)\n",
    "\n",
    "def get_summary(df, metric, lower_percentile=0.25, upper_percentile=0.75):\n",
    "    dfgb = df.groupby([\"upgrade_name\"])\n",
    "    dfs = pd.concat([\n",
    "        dfgb[\"sample_weight\"].count().rename(\"n_samples\"),\n",
    "        dfgb[\"sample_weight\"].sum().rename(\"n_represented\"),\n",
    "        dfgb.apply(lambda x: weighted_mean(x, metric)),\n",
    "        dfgb.apply(lambda x: weighted_percentile(x, metric, percents=lower_percentile)),\n",
    "        dfgb.apply(lambda x: weighted_percentile(x, metric, percents=upper_percentile)),\n",
    "    ], axis=1)\n",
    "    dfs = dfs.sort_values(by=f\"{metric} wt_mean\", ascending=False)\n",
    "\n",
    "    return dfs"
   ]
  },
  {
   "cell_type": "markdown",
   "id": "e2c92a98",
   "metadata": {},
   "source": [
    "## Whole Community Upgrade Cost Per Dwelling Unit"
   ]
  },
  {
   "cell_type": "code",
   "execution_count": 3,
   "id": "db8bfb6a",
   "metadata": {},
   "outputs": [],
   "source": [
    "def community_mean_upgrade_cost(commnity_results):\n",
    "    results = commnity_results[['upgrade_name',\n",
    "                       'upgrade_cost_usd',\n",
    "                                'sample_weight']]\n",
    "    results = results.loc[results['upgrade_name'] != 'baseline']\n",
    "    results['upgrade_cost_usd'] = results['upgrade_cost_usd']*results['sample_weight']\n",
    "    \n",
    "    agg_functions = {'upgrade_name': 'first',\n",
    "                     'upgrade_cost_usd': 'sum',\n",
    "                    'sample_weight': 'sum'}\n",
    "    results = results.groupby(results['upgrade_name']).aggregate(agg_functions)\n",
    "    results['upgrade_cost_usd'] = results['upgrade_cost_usd']/results['sample_weight']\n",
    "    results = results.sort_values('upgrade_cost_usd')\n",
    "    results['upgrade_cost_usd'] = results['upgrade_cost_usd'].round(1) \n",
    "    \n",
    "    print('upgrade_cost_usd per dwelling unit')\n",
    "    display(results['upgrade_cost_usd'])\n",
    "    return results['upgrade_cost_usd']"
   ]
  },
  {
   "cell_type": "markdown",
   "id": "0a8130e7",
   "metadata": {},
   "source": [
    "## Whole Community Total Annual Savings"
   ]
  },
  {
   "cell_type": "code",
   "execution_count": 4,
   "id": "eaa95d01",
   "metadata": {},
   "outputs": [],
   "source": [
    "# flavor 1 - with electricity and non-electricity split\n",
    "def figure_total_savings_1(commnity_results):\n",
    "    results = commnity_results[['upgrade_name',\n",
    "                       'saving_energy.electricity_kwh',\n",
    "                      'saving_energy.natural_gas_therm',\n",
    "                                'saving_energy.fuel_oil_mmbtu',\n",
    "                                'saving_energy.propane_mmbtu',\n",
    "                       'saving_cbill.total_usd',\n",
    "                       'saving_emission.total_kgCO2e',\n",
    "                                'sample_weight']]\n",
    "    results = results.loc[results['upgrade_name'] != 'baseline']\n",
    "    results['saving_energy.natural_gas_fuel_oil_propane_mmbtu'] = results['saving_energy.natural_gas_therm']*0.1 + results['saving_energy.fuel_oil_mmbtu']+ results['saving_energy.propane_mmbtu']\n",
    "    results['saving_energy.electricity_kwh'] = results['saving_energy.electricity_kwh']*results['sample_weight']\n",
    "    results['saving_energy.natural_gas_fuel_oil_propane_mmbtu'] = results['saving_energy.natural_gas_fuel_oil_propane_mmbtu']*results['sample_weight']\n",
    "    results['saving_cbill.total_usd'] = results['saving_cbill.total_usd']*results['sample_weight']\n",
    "    results['saving_emission.total_kgCO2e'] = results['saving_emission.total_kgCO2e']*results['sample_weight']\n",
    "    \n",
    "    agg_functions = {'upgrade_name': 'first',\n",
    "                     'saving_energy.electricity_kwh': 'sum',\n",
    "                     'saving_energy.natural_gas_fuel_oil_propane_mmbtu': 'sum', \n",
    "                     'saving_cbill.total_usd': 'sum',\n",
    "                     'saving_emission.total_kgCO2e': 'sum'}\n",
    "    results = results.groupby(results['upgrade_name']).aggregate(agg_functions)\n",
    "    results = results.sort_values('saving_cbill.total_usd')\n",
    "    \n",
    "    fig = make_subplots(rows=1, cols=5, horizontal_spacing=0.12, column_widths=[0.001, 1, 1, 1, 1])\n",
    "    \n",
    "    fig.add_trace(go.Bar(\n",
    "        x=[0] * 176,\n",
    "        y=results['upgrade_name'],\n",
    "        text=None,\n",
    "        orientation='h'), row=1, col=1)\n",
    "    \n",
    "    fig.add_trace(go.Bar(\n",
    "        x=results['saving_cbill.total_usd'],\n",
    "        y=results['upgrade_name'],\n",
    "        text=results['saving_cbill.total_usd'],\n",
    "        orientation='h'), row=1, col=2)\n",
    "    \n",
    "    fig.add_trace(go.Bar(\n",
    "        x=results['saving_emission.total_kgCO2e'],\n",
    "        y=results['upgrade_name'],\n",
    "        text=results['saving_emission.total_kgCO2e'],\n",
    "        orientation='h'),row=1, col=3)\n",
    "    \n",
    "    fig.add_trace(go.Bar(\n",
    "        x=results['saving_energy.electricity_kwh'],\n",
    "        y=results['upgrade_name'],\n",
    "        text=results['saving_energy.electricity_kwh'],\n",
    "        orientation='h'),row=1, col=4)\n",
    "    \n",
    "    fig.add_trace(go.Bar(\n",
    "        x=results['saving_energy.natural_gas_fuel_oil_propane_mmbtu'],\n",
    "        y=results['upgrade_name'],\n",
    "        text=results['saving_energy.natural_gas_fuel_oil_propane_mmbtu'],\n",
    "        orientation='h'),row=1, col=5)\n",
    "\n",
    "    fig.update_traces(textfont_size=10, textangle=0, textposition=\"outside\", cliponaxis=False)\n",
    "    fig.update_traces(marker_color='rgb(0, 121, 61)', marker_line_color='rgb(0, 121, 61)')\n",
    "    fig.update_traces(marker_color='rgb(255, 255, 255)', marker_line_color='rgb(255, 255, 255)',row=1,col=1)\n",
    "    fig.update_traces(texttemplate='%{text:.3s}', textposition='outside',row=1,col=2)\n",
    "    fig.update_traces(texttemplate='%{text:.3s}', textposition='outside',row=1,col=3)\n",
    "    fig.update_traces(texttemplate='%{text:.3s}', textposition='outside',row=1,col=4)\n",
    "    fig.update_traces(texttemplate='%{text:.3s}', textposition='outside',row=1,col=5)\n",
    "    fig.update_layout(xaxis_title=\"\", xaxis_visible=False, yaxis_visible=True,\n",
    "                      xaxis2_title=\"Bill<br>Savings<br>usd\", xaxis2_visible=True, yaxis2_visible=False,\n",
    "                      xaxis3_title=\"Emission<br>Savings<br>kgCO2e\", xaxis3_visible=True, yaxis3_visible=False,\n",
    "                      xaxis4_title=\"Electricity<br>Savings<br>kwh\", xaxis4_visible=True, yaxis4_visible=False,\n",
    "                      xaxis5_title=\"Gas, Propane,<br>Fuel Oil Savings<br>mmbtu\", xaxis5_visible=True, yaxis5_visible=False,\n",
    "                     title='Total Annual Savings for the Whole Community')\n",
    "    fig.update_layout(\n",
    "    autosize=False,\n",
    "    width=900,\n",
    "    height=500,\n",
    "    font=dict(size=10),\n",
    "    plot_bgcolor='rgba(0, 0, 0, 0)',)\n",
    "    fig.update_xaxes(tickangle=45)\n",
    "    fig.update_layout(showlegend=False)\n",
    "    \n",
    "    fig.show()\n",
    "    fig.write_image(fig_dir / 'total_annual_savings_1.svg')    \n",
    "\n",
    "# flavor 2 - site, electricity, and non-electricity\n",
    "def figure_total_savings_2(commnity_results):\n",
    "    results = commnity_results[[\n",
    "        'upgrade_name',\n",
    "        'saving_energy.total_mmbtu',\n",
    "        'saving_energy.electricity_kwh',\n",
    "        'saving_energy.natural_gas_therm',\n",
    "        'saving_energy.fuel_oil_mmbtu',\n",
    "        'saving_energy.propane_mmbtu',\n",
    "        'saving_cbill.total_usd',\n",
    "        'saving_emission.total_kgCO2e',\n",
    "        'sample_weight']]\n",
    "    results = results.loc[results['upgrade_name'] != 'baseline']\n",
    "    results['saving_energy.natural_gas_fuel_oil_propane_mmbtu'] = results['saving_energy.natural_gas_therm']*0.1 + results['saving_energy.fuel_oil_mmbtu']+ results['saving_energy.propane_mmbtu']\n",
    "    results['saving_energy.electricity_kwh'] = results['saving_energy.electricity_kwh']*results['sample_weight']\n",
    "    results['saving_energy.natural_gas_fuel_oil_propane_mmbtu'] = results['saving_energy.natural_gas_fuel_oil_propane_mmbtu']*results['sample_weight']\n",
    "    results['saving_cbill.total_usd'] = results['saving_cbill.total_usd']*results['sample_weight']\n",
    "    results['saving_emission.total_kgCO2e'] = results['saving_emission.total_kgCO2e']*results['sample_weight']\n",
    "    \n",
    "    agg_functions = {'upgrade_name': 'first',\n",
    "                     'saving_energy.electricity_kwh': 'sum',\n",
    "                     'saving_energy.natural_gas_fuel_oil_propane_mmbtu': 'sum', \n",
    "                      'saving_energy.total_mmbtu': 'sum', \n",
    "                     'saving_cbill.total_usd': 'sum',\n",
    "                     'saving_emission.total_kgCO2e': 'sum'}\n",
    "    results = results.groupby(results['upgrade_name']).aggregate(agg_functions)\n",
    "    results = results.sort_values('saving_cbill.total_usd')\n",
    "    \n",
    "    fig = make_subplots(rows=1, cols=6, horizontal_spacing=0.12, column_widths=[0.001, 1, 1, 1, 1, 1])\n",
    "    \n",
    "    fig.add_trace(go.Bar(\n",
    "        x=[0] * 176,\n",
    "        y=results['upgrade_name'],\n",
    "        text=None,\n",
    "        orientation='h'), row=1, col=1)\n",
    "    \n",
    "    fig.add_trace(go.Bar(\n",
    "        x=results['saving_cbill.total_usd'],\n",
    "        y=results['upgrade_name'],\n",
    "        text=results['saving_cbill.total_usd'],\n",
    "        orientation='h'), row=1, col=2)\n",
    "    \n",
    "    fig.add_trace(go.Bar(\n",
    "        x=results['saving_emission.total_kgCO2e'],\n",
    "        y=results['upgrade_name'],\n",
    "        text=results['saving_emission.total_kgCO2e'],\n",
    "        orientation='h'),row=1, col=3)\n",
    "\n",
    "    fig.add_trace(go.Bar(\n",
    "        x=results['saving_energy.total_mmbtu'],\n",
    "        y=results['upgrade_name'],\n",
    "        text=results['saving_energy.total_mmbtu'],\n",
    "        orientation='h'),row=1, col=4)\n",
    "    \n",
    "    fig.add_trace(go.Bar(\n",
    "        x=results['saving_energy.electricity_kwh'],\n",
    "        y=results['upgrade_name'],\n",
    "        text=results['saving_energy.electricity_kwh'],\n",
    "        orientation='h'),row=1, col=5)\n",
    "    \n",
    "    fig.add_trace(go.Bar(\n",
    "        x=results['saving_energy.natural_gas_fuel_oil_propane_mmbtu'],\n",
    "        y=results['upgrade_name'],\n",
    "        text=results['saving_energy.natural_gas_fuel_oil_propane_mmbtu'],\n",
    "        orientation='h'),row=1, col=6)\n",
    "\n",
    "    fig.update_traces(textfont_size=10, textangle=0, textposition=\"outside\", cliponaxis=False)\n",
    "    fig.update_traces(marker_color='rgb(0, 121, 61)', marker_line_color='rgb(0, 121, 61)')\n",
    "    fig.update_traces(marker_color='rgb(255, 255, 255)', marker_line_color='rgb(255, 255, 255)',row=1,col=1)\n",
    "    fig.update_traces(texttemplate='%{text:.3s}', textposition='outside',row=1,col=2)\n",
    "    fig.update_traces(texttemplate='%{text:.3s}', textposition='outside',row=1,col=3)\n",
    "    fig.update_traces(texttemplate='%{text:.3s}', textposition='outside',row=1,col=4)\n",
    "    fig.update_traces(texttemplate='%{text:.3s}', textposition='outside',row=1,col=5)\n",
    "    fig.update_traces(texttemplate='%{text:.3s}', textposition='outside',row=1,col=6)\n",
    "    fig.update_layout(xaxis_title=\"\", xaxis_visible=False, yaxis_visible=True,\n",
    "                      xaxis2_title=\"Bill<br>Savings<br>usd\", xaxis2_visible=True, yaxis2_visible=False,\n",
    "                      xaxis3_title=\"Site Emission<br>Saving<br>kgCO2e\", xaxis3_visible=True, yaxis3_visible=False,\n",
    "                      xaxis4_title=\"Site Energy<br>Saving<br>mmbtu\", xaxis4_visible=True, yaxis4_visible=False,\n",
    "                      xaxis5_title=\"Electricity<br>Saving<br>kwh\", xaxis5_visible=True, yaxis5_visible=False,\n",
    "                      xaxis6_title=\"Gas, Propane,<br>Fuel Oil Saving<br>mmbtu\", xaxis6_visible=True, yaxis6_visible=False,\n",
    "                     title='Community Total Annual Savings')\n",
    "    fig.update_layout(\n",
    "    autosize=False,\n",
    "    width=1100,\n",
    "    height=500,\n",
    "    font=dict(size=10),\n",
    "    plot_bgcolor='rgba(0, 0, 0, 0)',)\n",
    "    fig.update_xaxes(tickangle=45)\n",
    "    fig.update_layout(showlegend=False)\n",
    "    \n",
    "    fig.show()\n",
    "    fig.write_image(fig_dir / 'total_annual_savings_2.svg')\n",
    "    \n",
    "    return results[['saving_cbill.total_usd','saving_emission.total_kgCO2e','saving_energy.total_mmbtu','saving_energy.electricity_kwh','saving_energy.natural_gas_fuel_oil_propane_mmbtu']]\n",
    "\n",
    "# flavor 3 - site energy only\n",
    "def figure_total_savings_3(commnity_results):\n",
    "    results = commnity_results[[\n",
    "        'upgrade_name',\n",
    "        'saving_energy.total_mmbtu',\n",
    "        'saving_cbill.total_usd',\n",
    "        'saving_emission.total_kgCO2e',\n",
    "        'sample_weight']]\n",
    "    results = results.loc[results['upgrade_name'] != 'baseline']\n",
    "    results['saving_energy.total_mmbtu'] = results['saving_energy.total_mmbtu']*results['sample_weight']\n",
    "    results['saving_cbill.total_usd'] = results['saving_cbill.total_usd']*results['sample_weight']\n",
    "    results['saving_emission.total_kgCO2e'] = results['saving_emission.total_kgCO2e']*results['sample_weight']\n",
    "    \n",
    "    agg_functions = {'upgrade_name': 'first',\n",
    "                     'saving_energy.total_mmbtu': 'sum', \n",
    "                     'saving_cbill.total_usd': 'sum',\n",
    "                     'saving_emission.total_kgCO2e': 'sum'}\n",
    "    results = results.groupby(results['upgrade_name']).aggregate(agg_functions)\n",
    "    results = results.sort_values('saving_cbill.total_usd')\n",
    "    \n",
    "    fig = make_subplots(rows=1, cols=4, horizontal_spacing=0.1, column_widths=[0.02, 1, 1, 1])\n",
    "    \n",
    "    fig.add_trace(go.Bar(\n",
    "        x=[0] * 176,\n",
    "        y=results['upgrade_name'],\n",
    "        text=None,\n",
    "        orientation='h'), row=1, col=1)\n",
    "    \n",
    "    fig.add_trace(go.Bar(\n",
    "        x=results['saving_cbill.total_usd'],\n",
    "        y=results['upgrade_name'],\n",
    "        text=results['saving_cbill.total_usd'],\n",
    "        orientation='h'), row=1, col=2)\n",
    "    \n",
    "    fig.add_trace(go.Bar(\n",
    "        x=results['saving_emission.total_kgCO2e'],\n",
    "        y=results['upgrade_name'],\n",
    "        text=results['saving_emission.total_kgCO2e'],\n",
    "        orientation='h'),row=1, col=3)\n",
    "    \n",
    "    fig.add_trace(go.Bar(\n",
    "        x=results['saving_energy.total_mmbtu'],\n",
    "        y=results['upgrade_name'],\n",
    "        text=results['saving_energy.total_mmbtu'],\n",
    "        orientation='h'),row=1, col=4)\n",
    "\n",
    "    fig.update_traces(textfont_size=10, textangle=0, textposition=\"outside\", cliponaxis=False)\n",
    "    fig.update_traces(marker_color='rgb(0, 121, 61)', marker_line_color='rgb(0, 121, 61)')\n",
    "    fig.update_traces(marker_color='rgb(255, 255, 255)', marker_line_color='rgb(255, 255, 255)',row=1,col=1)\n",
    "    fig.update_traces(texttemplate='%{text:.3s}', textposition='outside',row=1,col=2)\n",
    "    fig.update_traces(texttemplate='%{text:.3s}', textposition='outside',row=1,col=3)\n",
    "    fig.update_traces(texttemplate='%{text:.3s}', textposition='outside',row=1,col=4)\n",
    "    fig.update_layout(xaxis_title=\"\", xaxis_visible=False, yaxis_visible=True,\n",
    "                      xaxis2_title=\"Bill Savings<br>usd\", xaxis2_visible=True, yaxis2_visible=False,\n",
    "                      xaxis3_title=\"Emission Savings<br>kgCO2e\", xaxis3_visible=True, yaxis3_visible=False,\n",
    "                      xaxis4_title=\"Energy Savings<br>mmbtu\", xaxis4_visible=True, yaxis4_visible=False,\n",
    "                     title='Total Annual Savings for the Whole Community')\n",
    "    fig.update_layout(\n",
    "    autosize=False,\n",
    "    width=850,\n",
    "    height=500,\n",
    "    font=dict(size=10),\n",
    "    plot_bgcolor='rgba(0, 0, 0, 0)',)\n",
    "    fig.update_xaxes(tickangle=45)\n",
    "    fig.update_layout(showlegend=False)\n",
    "    \n",
    "    fig.show()\n",
    "    fig.write_image(fig_dir / 'total_annual_savings_3.svg')"
   ]
  },
  {
   "cell_type": "markdown",
   "id": "5e598a0f",
   "metadata": {},
   "source": [
    "## Whole Community Annual Savings Per Dewlling Unit"
   ]
  },
  {
   "cell_type": "code",
   "execution_count": 5,
   "id": "7df58f8e",
   "metadata": {},
   "outputs": [],
   "source": [
    "def figure_mean_savings(commnity_results):\n",
    "    results = commnity_results[['upgrade_name',\n",
    "                       'saving_energy.total_mmbtu',\n",
    "                       'saving_cbill.total_usd',\n",
    "                       'saving_emission.total_kgCO2e',\n",
    "                                'sample_weight']]\n",
    "    results = results.loc[results['upgrade_name'] != 'baseline']\n",
    "    results['saving_energy.total_mmbtu'] = results['saving_energy.total_mmbtu']*results['sample_weight']\n",
    "    results['saving_cbill.total_usd'] = results['saving_cbill.total_usd']*results['sample_weight']\n",
    "    results['saving_emission.total_kgCO2e'] = results['saving_emission.total_kgCO2e']*results['sample_weight']\n",
    "    \n",
    "    agg_functions = {'upgrade_name': 'first',\n",
    "                     'saving_energy.total_mmbtu': 'sum', \n",
    "                     'saving_cbill.total_usd': 'sum',\n",
    "                     'saving_emission.total_kgCO2e': 'sum',\n",
    "                    'sample_weight': 'sum'}\n",
    "    results = results.groupby(results['upgrade_name']).aggregate(agg_functions)\n",
    "    results['saving_energy.total_mmbtu'] = results['saving_energy.total_mmbtu']/results['sample_weight']\n",
    "    results['saving_cbill.total_usd'] = results['saving_cbill.total_usd']/results['sample_weight']\n",
    "    results['saving_emission.total_kgCO2e'] = results['saving_emission.total_kgCO2e']/results['sample_weight']\n",
    "    results = results.sort_values('saving_cbill.total_usd')\n",
    "    \n",
    "    print('sample_weight')\n",
    "    display(results['sample_weight'])\n",
    "  \n",
    "    fig = make_subplots(rows=1, cols=4, horizontal_spacing=0.1, column_widths=[0.02, 1, 1, 1])\n",
    "    \n",
    "    fig.add_trace(go.Bar(\n",
    "        x=[0] * 176,\n",
    "        y=results['upgrade_name'],\n",
    "        text=None,\n",
    "        orientation='h'), row=1, col=1)\n",
    "    \n",
    "    fig.add_trace(go.Bar(\n",
    "        x=results['saving_cbill.total_usd'],\n",
    "        y=results['upgrade_name'],\n",
    "        text=results['saving_cbill.total_usd'],\n",
    "        orientation='h'), row=1, col=2)\n",
    "    \n",
    "    fig.add_trace(go.Bar(\n",
    "        x=results['saving_emission.total_kgCO2e'],\n",
    "        y=results['upgrade_name'],\n",
    "        text=results['saving_emission.total_kgCO2e'],\n",
    "        orientation='h'),row=1, col=3)\n",
    "    \n",
    "    fig.add_trace(go.Bar(\n",
    "        x=results['saving_energy.total_mmbtu'],\n",
    "        y=results['upgrade_name'],\n",
    "        text=results['saving_energy.total_mmbtu'],\n",
    "        orientation='h'),row=1, col=4)\n",
    "\n",
    "    fig.update_traces(textfont_size=10, textangle=0, textposition=\"outside\", cliponaxis=False)\n",
    "    fig.update_traces(marker_color='rgb(0, 121, 61)', marker_line_color='rgb(0, 121, 61)')\n",
    "    fig.update_traces(marker_color='rgb(255, 255, 255)', marker_line_color='rgb(255, 255, 255)',row=1,col=1)\n",
    "    fig.update_traces(texttemplate='%{text:.3s}', textposition='outside',row=1,col=2)\n",
    "    fig.update_traces(texttemplate='%{text:.3s}', textposition='outside',row=1,col=3)\n",
    "    fig.update_traces(texttemplate='%{text:.3s}', textposition='outside',row=1,col=4)\n",
    "    fig.update_layout(xaxis_title=\"\", xaxis_visible=False, yaxis_visible=True,\n",
    "                      xaxis2_title=\"Bill Savings<br>usd\", xaxis2_visible=True, yaxis2_visible=False,\n",
    "                      xaxis3_title=\"Emission Savings<br>kgCO2e\", xaxis3_visible=True, yaxis3_visible=False,\n",
    "                      xaxis4_title=\"Energy Savings<br>mmbtu\", xaxis4_visible=True, yaxis4_visible=False,\n",
    "                     title='Annual Savings Per Dwelling Unit')\n",
    "    fig.update_layout(\n",
    "    autosize=False,\n",
    "    width=850,\n",
    "    height=500,\n",
    "    font=dict(size=10),\n",
    "    plot_bgcolor='rgba(0, 0, 0, 0)',)\n",
    "    fig.update_xaxes(tickangle=45)\n",
    "    fig.update_layout(showlegend=False)\n",
    "    \n",
    "    fig.show()\n",
    "    fig.write_image(fig_dir / 'annual_saving_per_dwelling_unit.svg')\n",
    "    \n",
    "    return results[['saving_cbill.total_usd','saving_emission.total_kgCO2e','saving_energy.total_mmbtu']]"
   ]
  },
  {
   "cell_type": "markdown",
   "id": "629953b2",
   "metadata": {},
   "source": [
    "## Segment Upgrade Cost Per Dwelling Unit"
   ]
  },
  {
   "cell_type": "code",
   "execution_count": 6,
   "id": "b17b036c",
   "metadata": {},
   "outputs": [],
   "source": [
    "def segment_mean_upgrade_cost(commnity_results):\n",
    "    results = commnity_results[['upgrade_name',\n",
    "                       'upgrade_cost_usd',\n",
    "                                'sample_weight',\n",
    "                                'segment']]\n",
    "    results = results.loc[results['upgrade_name'] != 'baseline']\n",
    "    results['upgrade_cost_usd'] = results['upgrade_cost_usd']*results['sample_weight']\n",
    "    \n",
    "    segment1 = results.loc[results['segment'] == 'segment1']\n",
    "    segment2 = results.loc[results['segment'] == 'segment2']\n",
    "    segment3 = results.loc[results['segment'] == 'segment3']\n",
    "    segment4 = results.loc[results['segment'] == 'segment4']\n",
    "    \n",
    "    agg_functions = {'upgrade_name': 'first',\n",
    "                     'segment': 'first',\n",
    "                     'upgrade_cost_usd': 'sum',\n",
    "                    'sample_weight': 'sum'}\n",
    "    \n",
    "    segment1 = segment1.groupby(segment1['upgrade_name']).aggregate(agg_functions)\n",
    "    segment2 = segment2.groupby(segment2['upgrade_name']).aggregate(agg_functions)\n",
    "    segment3 = segment3.groupby(segment3['upgrade_name']).aggregate(agg_functions)\n",
    "    segment4 = segment4.groupby(segment4['upgrade_name']).aggregate(agg_functions)\n",
    "    \n",
    "    segment1['upgrade_cost_usd'] = segment1['upgrade_cost_usd']/segment1['sample_weight']\n",
    "    segment2['upgrade_cost_usd'] = segment2['upgrade_cost_usd']/segment2['sample_weight']\n",
    "    segment3['upgrade_cost_usd'] = segment3['upgrade_cost_usd']/segment3['sample_weight']\n",
    "    segment4['upgrade_cost_usd'] = segment4['upgrade_cost_usd']/segment4['sample_weight']\n",
    "    \n",
    "    segment1 = segment1.sort_values('upgrade_cost_usd')\n",
    "    segment2 = segment2.sort_values('upgrade_cost_usd')\n",
    "    segment3 = segment3.sort_values('upgrade_cost_usd')\n",
    "    segment4 = segment4.sort_values('upgrade_cost_usd')\n",
    "    \n",
    "    segment1['upgrade_cost_usd'] = segment1['upgrade_cost_usd'].round(1)\n",
    "    segment2['upgrade_cost_usd'] = segment2['upgrade_cost_usd'].round(1)\n",
    "    segment3['upgrade_cost_usd'] = segment3['upgrade_cost_usd'].round(1)\n",
    "    segment4['upgrade_cost_usd'] = segment4['upgrade_cost_usd'].round(1)\n",
    "    \n",
    "    print('segment1: upgrade cost (usd) per dwelling unit')\n",
    "    display(segment1['upgrade_cost_usd'])\n",
    "    print('segment2: upgrade cost (usd) per dwelling unit')\n",
    "    display(segment2['upgrade_cost_usd'])\n",
    "    print('segment3: upgrade cost (usd) per dwelling unit')\n",
    "    display(segment3['upgrade_cost_usd'])\n",
    "    print('segment4: upgrade cost (usd) per dwelling unit')\n",
    "    display(segment4['upgrade_cost_usd'])\n",
    "    return (segment1['upgrade_cost_usd'], segment2['upgrade_cost_usd'], segment3['upgrade_cost_usd'], segment4['upgrade_cost_usd'])"
   ]
  },
  {
   "cell_type": "markdown",
   "id": "2233e9eb",
   "metadata": {},
   "source": [
    "## Segment Savings Per Dollar Invested"
   ]
  },
  {
   "cell_type": "code",
   "execution_count": 7,
   "id": "b63f0b29",
   "metadata": {},
   "outputs": [],
   "source": [
    "def segment_savings_per_dollar(indicator, commnity_results):\n",
    "    \n",
    "    results = commnity_results[['upgrade_name', indicator, 'upgrade_cost_usd', 'sample_weight', 'segment']]\n",
    "    results = results.loc[results['upgrade_name'] != 'baseline']\n",
    "    results[indicator] = results[indicator]*results['sample_weight']\n",
    "    results['upgrade_cost_usd'] = results['upgrade_cost_usd']*results['sample_weight']\n",
    "    \n",
    "    segment1 = results.loc[results['segment'] == 'segment1']\n",
    "    segment2 = results.loc[results['segment'] == 'segment2']\n",
    "    segment3 = results.loc[results['segment'] == 'segment3']\n",
    "    segment4 = results.loc[results['segment'] == 'segment4']\n",
    "    \n",
    "    agg_functions = {'upgrade_name': 'first',\n",
    "                     indicator: 'sum',\n",
    "                     'upgrade_cost_usd': 'sum',\n",
    "                     'sample_weight': 'sum'}\n",
    "    \n",
    "    segment1_agg = segment1.groupby(segment1['upgrade_name']).aggregate(agg_functions)\n",
    "    segment2_agg = segment2.groupby(segment2['upgrade_name']).aggregate(agg_functions)\n",
    "    segment3_agg = segment3.groupby(segment3['upgrade_name']).aggregate(agg_functions)\n",
    "    segment4_agg = segment4.groupby(segment4['upgrade_name']).aggregate(agg_functions)\n",
    "    \n",
    "    segment1_agg[indicator] = segment1_agg[indicator]/segment1_agg['upgrade_cost_usd']\n",
    "    segment2_agg[indicator] = segment2_agg[indicator]/segment2_agg['upgrade_cost_usd']\n",
    "    segment3_agg[indicator] = segment3_agg[indicator]/segment3_agg['upgrade_cost_usd']\n",
    "    segment4_agg[indicator] = segment4_agg[indicator]/segment4_agg['upgrade_cost_usd']\n",
    "    \n",
    "    segment1_agg = segment1_agg.sort_values([indicator], ascending=False)\n",
    "    segment2_agg = segment2_agg.sort_values([indicator], ascending=False)\n",
    "    segment3_agg = segment3_agg.sort_values([indicator], ascending=False)\n",
    "    segment4_agg = segment4_agg.sort_values([indicator], ascending=False)\n",
    "    \n",
    "    segment1_agg[indicator] = segment1_agg[indicator].round(5)\n",
    "    segment2_agg[indicator] = segment2_agg[indicator].round(5)\n",
    "    segment3_agg[indicator] = segment3_agg[indicator].round(5)\n",
    "    segment4_agg[indicator] = segment4_agg[indicator].round(5)\n",
    "    \n",
    "    print('segment1')\n",
    "    display(segment1_agg[indicator])\n",
    "    print('segment2')\n",
    "    display(segment2_agg[indicator])\n",
    "    print('segment3')\n",
    "    display(segment3_agg[indicator])\n",
    "    print('segment4')\n",
    "    display(segment4_agg[indicator]) \n",
    "    \n",
    "    return (segment1_agg[indicator],segment2_agg[indicator],segment3_agg[indicator],segment4_agg[indicator])"
   ]
  },
  {
   "cell_type": "markdown",
   "id": "4578ff09",
   "metadata": {},
   "source": [
    "## Segment Annual Total Savings"
   ]
  },
  {
   "cell_type": "code",
   "execution_count": 8,
   "id": "f1de1889",
   "metadata": {},
   "outputs": [],
   "source": [
    "def segment_annual_total_savings(indicator, commnity_results):\n",
    "    \n",
    "    results = commnity_results[['upgrade_name', indicator, 'sample_weight', 'segment']]\n",
    "    results = results.loc[results['upgrade_name'] != 'baseline']\n",
    "    results[indicator] = results[indicator]*results['sample_weight']\n",
    "    \n",
    "    segment1 = results.loc[results['segment'] == 'segment1']\n",
    "    segment2 = results.loc[results['segment'] == 'segment2']\n",
    "    segment3 = results.loc[results['segment'] == 'segment3']\n",
    "    segment4 = results.loc[results['segment'] == 'segment4']\n",
    "    \n",
    "    agg_functions = {'upgrade_name': 'first',\n",
    "                     indicator: 'sum',\n",
    "                    'sample_weight': 'sum'}\n",
    "    \n",
    "    segment1_agg = segment1.groupby(segment1['upgrade_name']).aggregate(agg_functions)\n",
    "    segment2_agg = segment2.groupby(segment2['upgrade_name']).aggregate(agg_functions)\n",
    "    segment3_agg = segment3.groupby(segment3['upgrade_name']).aggregate(agg_functions)\n",
    "    segment4_agg = segment4.groupby(segment4['upgrade_name']).aggregate(agg_functions)\n",
    "    \n",
    "    segment1_agg = segment1_agg.sort_values([indicator], ascending=False)\n",
    "    segment2_agg = segment2_agg.sort_values([indicator], ascending=False)\n",
    "    segment3_agg = segment3_agg.sort_values([indicator], ascending=False)\n",
    "    segment4_agg = segment4_agg.sort_values([indicator], ascending=False)\n",
    "    \n",
    "    segment1_agg[indicator] = segment1_agg[indicator].round(1)\n",
    "    segment2_agg[indicator] = segment2_agg[indicator].round(1)\n",
    "    segment3_agg[indicator] = segment3_agg[indicator].round(1)\n",
    "    segment4_agg[indicator] = segment4_agg[indicator].round(1)\n",
    "\n",
    "    print('segment1')\n",
    "    display(segment1_agg[indicator])\n",
    "    print('segment2')\n",
    "    display(segment2_agg[indicator])\n",
    "    print('segment3')\n",
    "    display(segment3_agg[indicator])\n",
    "    print('segment4')\n",
    "    display(segment4_agg[indicator])\n",
    "    \n",
    "    return (segment1_agg[indicator],segment2_agg[indicator],segment3_agg[indicator],segment4_agg[indicator])"
   ]
  },
  {
   "cell_type": "markdown",
   "id": "102d90f1",
   "metadata": {},
   "source": [
    "## Segment Annual Savings Per Dwelling Unit"
   ]
  },
  {
   "cell_type": "code",
   "execution_count": 9,
   "id": "6b74793b",
   "metadata": {},
   "outputs": [],
   "source": [
    "def segment_mean_savings(indicator, commnity_results):\n",
    "    \n",
    "    results = commnity_results[['upgrade_name', indicator, 'sample_weight', 'segment']]\n",
    "    results = results.loc[results['upgrade_name'] != 'baseline']\n",
    "    results[indicator] = results[indicator]*results['sample_weight']\n",
    "    \n",
    "    segment1 = results.loc[results['segment'] == 'segment1']\n",
    "    segment2 = results.loc[results['segment'] == 'segment2']\n",
    "    segment3 = results.loc[results['segment'] == 'segment3']\n",
    "    segment4 = results.loc[results['segment'] == 'segment4']\n",
    "    \n",
    "    agg_functions = {'upgrade_name': 'first',\n",
    "                     indicator: 'sum',\n",
    "                    'sample_weight': 'sum'}\n",
    "    \n",
    "    segment1_agg = segment1.groupby(segment1['upgrade_name']).aggregate(agg_functions)\n",
    "    segment2_agg = segment2.groupby(segment2['upgrade_name']).aggregate(agg_functions)\n",
    "    segment3_agg = segment3.groupby(segment3['upgrade_name']).aggregate(agg_functions)\n",
    "    segment4_agg = segment4.groupby(segment4['upgrade_name']).aggregate(agg_functions)\n",
    "    \n",
    "    segment1_agg[indicator] = segment1_agg[indicator]/segment1_agg['sample_weight']\n",
    "    segment2_agg[indicator] = segment2_agg[indicator]/segment2_agg['sample_weight']\n",
    "    segment3_agg[indicator] = segment3_agg[indicator]/segment3_agg['sample_weight']\n",
    "    segment4_agg[indicator] = segment4_agg[indicator]/segment4_agg['sample_weight']\n",
    "    \n",
    "    segment1_agg = segment1_agg.sort_values([indicator], ascending=False)\n",
    "    segment2_agg = segment2_agg.sort_values([indicator], ascending=False)\n",
    "    segment3_agg = segment3_agg.sort_values([indicator], ascending=False)\n",
    "    segment4_agg = segment4_agg.sort_values([indicator], ascending=False)\n",
    "    \n",
    "    segment1_agg[indicator] = segment1_agg[indicator].round(1)\n",
    "    segment2_agg[indicator] = segment2_agg[indicator].round(1)\n",
    "    segment3_agg[indicator] = segment3_agg[indicator].round(1)\n",
    "    segment4_agg[indicator] = segment4_agg[indicator].round(1)\n",
    "    \n",
    "    print('segment1')\n",
    "    display(segment1_agg[indicator])\n",
    "    print('segment2')\n",
    "    display(segment2_agg[indicator])\n",
    "    print('segment3')\n",
    "    display(segment3_agg[indicator])\n",
    "    print('segment4')\n",
    "    display(segment4_agg[indicator])\n",
    "    \n",
    "    return (segment1_agg[indicator],segment2_agg[indicator],segment3_agg[indicator],segment4_agg[indicator])"
   ]
  },
  {
   "cell_type": "markdown",
   "id": "4e3a051b",
   "metadata": {},
   "source": [
    "## Segment Percent Stock with Net Positive Savings"
   ]
  },
  {
   "cell_type": "code",
   "execution_count": 10,
   "id": "862cf0d7",
   "metadata": {},
   "outputs": [],
   "source": [
    "def figure_positive_negative_savings(segment, commnity_results):\n",
    "    results = commnity_results[['upgrade_name',\n",
    "                                  'saving_energy.total_mmbtu',\n",
    "                                  'saving_cbill.total_usd',\n",
    "                                  'saving_emission.total_kgCO2e',\n",
    "                                'sample_weight',\n",
    "                               'segment']]\n",
    "    results = results.loc[results['upgrade_name'] != 'baseline']\n",
    "    results = results.loc[results['segment'] == segment]\n",
    "    results = results.groupby(results['upgrade_name'])\n",
    "  \n",
    "    def pos(col): \n",
    "      return col[col > 0].count()\n",
    "  \n",
    "    def neg(col): \n",
    "      return col[col < 0].count() \n",
    "\n",
    "    percentage = pd.DataFrame()\n",
    "\n",
    "    bill = results['saving_cbill.total_usd'].agg([('negative_values', neg),('positive_values', pos)])\n",
    "    emission = results['saving_emission.total_kgCO2e'].agg([('negative_values', neg),('positive_values', pos)])\n",
    "    energy = results['saving_energy.total_mmbtu'].agg([('negative_values', neg),('positive_values', pos)])\n",
    "    \n",
    "    percentage ['cbill_n'] = bill['negative_values']/(bill['negative_values']+bill['positive_values'])\n",
    "    percentage ['cbill_p'] = bill['positive_values']/(bill['negative_values']+bill['positive_values'])\n",
    "    percentage ['emission_n'] = emission['negative_values']/(emission['negative_values']+emission['positive_values'])\n",
    "    percentage ['emission_p'] = emission['positive_values']/(emission['negative_values']+emission['positive_values'])\n",
    "    percentage ['energy_n'] = energy['negative_values']/(energy['negative_values']+energy['positive_values'])\n",
    "    percentage ['energy_p'] = energy['positive_values']/(energy['negative_values']+energy['positive_values'])\n",
    "    \n",
    "    \n",
    "    percentage = percentage.sort_values(('cbill_p'))\n",
    "    upgrade_name = percentage.index\n",
    "    \n",
    "    fig = make_subplots(rows=1, cols=3)\n",
    "    marker1= dict(color='red')\n",
    "    marker2= dict(color='green')\n",
    "    \n",
    "    fig.add_bar(y=upgrade_name, x=percentage ['cbill_n'], text=percentage ['cbill_n'],\n",
    "                orientation='h',name = \"Negative\",row=1, col=1, marker=marker1)\n",
    "    fig.add_bar(y=upgrade_name, x=percentage ['cbill_p'],text=percentage ['cbill_p'],\n",
    "                orientation='h', name = \"Positive\", row=1, col=1, marker=marker2)\n",
    "    \n",
    "    fig.add_bar(y=upgrade_name, x=percentage ['emission_n'], text=percentage ['emission_n'],\n",
    "                orientation='h',showlegend=False, row=1, col=2, marker=marker1)\n",
    "    fig.add_bar(y=upgrade_name, x=percentage ['emission_p'],text=percentage ['emission_p'],\n",
    "                orientation='h', showlegend=False, row=1, col=2, marker=marker2)\n",
    "    \n",
    "    fig.add_bar(y=upgrade_name, x=percentage ['energy_n'],text=percentage ['energy_n'],\n",
    "                orientation='h',showlegend=False, row=1, col=3, marker=marker1)\n",
    "    fig.add_bar(y=upgrade_name, x=percentage ['energy_p'],text=percentage ['energy_p'],\n",
    "                orientation='h', showlegend=False, row=1, col=3, marker=marker2)\n",
    "   \n",
    "  \n",
    "    fig.update_layout(barmode=\"relative\")\n",
    "    fig.update_traces(texttemplate='%{text:.0%}', textposition='inside')\n",
    "    \n",
    "    fig.update_layout(xaxis_title=\"Bill\", xaxis_visible=True, yaxis_visible=True,\n",
    "                      xaxis2_title=\"Emission\", xaxis2_visible=True, yaxis2_visible=False,\n",
    "                      xaxis3_title=\"Total Energy\", xaxis3_visible=True, yaxis3_visible=False,\n",
    "                      font=dict(size=10))\n",
    "    \n",
    "    fig.update_layout(\n",
    "        title='Percentage of Household in Positive and Negative Savings')\n",
    "    \n",
    "    fig.update_layout(\n",
    "    autosize=False,\n",
    "    width=1000,\n",
    "    height=500,\n",
    "    font=dict(size=10))\n",
    "    fig.layout.xaxis1.tickformat = ',.0%'\n",
    "    fig.layout.xaxis2.tickformat = ',.0%'\n",
    "    fig.layout.xaxis3.tickformat = ',.0%'\n",
    "    \n",
    "    fig.show()\n",
    "    fig.write_image(fig_dir / f'percentage_positive_saving_{segment}.svg')\n",
    "    return (percentage ['cbill_p'],percentage ['emission_p'],percentage ['energy_p'])"
   ]
  },
  {
   "cell_type": "markdown",
   "id": "63119384",
   "metadata": {},
   "source": [
    "## Segment Average Energy Burden (%) Before and after Upgrade."
   ]
  },
  {
   "cell_type": "code",
   "execution_count": 11,
   "id": "81da90ec",
   "metadata": {},
   "outputs": [],
   "source": [
    "def segment_mean_energy_burden(indicator, commnity_results):\n",
    "    \n",
    "    results = commnity_results[['upgrade_name', indicator, 'baseline_energy_burden_2023_cbills.%', 'sample_weight', 'segment']]\n",
    "    results.replace([np.inf, -np.inf], np.nan, inplace=True)\n",
    "    results.dropna(subset=['baseline_energy_burden_2023_cbills.%'], how=\"all\", inplace=True)\n",
    "    results[indicator] = results[indicator]*results['sample_weight']\n",
    "    results['baseline_energy_burden_2023_cbills.%'] = results['baseline_energy_burden_2023_cbills.%']*results['sample_weight']\n",
    "    \n",
    "    segment1 = results.loc[results['segment'] == 'segment1']\n",
    "    segment2 = results.loc[results['segment'] == 'segment2']\n",
    "    segment3 = results.loc[results['segment'] == 'segment3']\n",
    "    segment4 = results.loc[results['segment'] == 'segment4']\n",
    "    \n",
    "    agg_functions = {'upgrade_name': 'first',\n",
    "                     indicator: 'sum',\n",
    "                     'baseline_energy_burden_2023_cbills.%': 'sum',\n",
    "                    'sample_weight': 'sum'}\n",
    "    \n",
    "    segment1_agg = segment1.groupby(segment1['upgrade_name']).aggregate(agg_functions)\n",
    "    segment2_agg = segment2.groupby(segment2['upgrade_name']).aggregate(agg_functions)\n",
    "    segment3_agg = segment3.groupby(segment3['upgrade_name']).aggregate(agg_functions)\n",
    "    segment4_agg = segment4.groupby(segment4['upgrade_name']).aggregate(agg_functions)\n",
    "    \n",
    "    segment1_agg['baseline_energy_burden_2023_cbills.%'] = segment1_agg['baseline_energy_burden_2023_cbills.%']/segment1_agg['sample_weight']\n",
    "    segment2_agg['baseline_energy_burden_2023_cbills.%'] = segment2_agg['baseline_energy_burden_2023_cbills.%']/segment2_agg['sample_weight']\n",
    "    segment3_agg['baseline_energy_burden_2023_cbills.%'] = segment3_agg['baseline_energy_burden_2023_cbills.%']/segment3_agg['sample_weight']\n",
    "    segment4_agg['baseline_energy_burden_2023_cbills.%'] = segment4_agg['baseline_energy_burden_2023_cbills.%']/segment4_agg['sample_weight']\n",
    "    \n",
    "    segment1_agg[indicator] = segment1_agg[indicator]/segment1_agg['sample_weight']\n",
    "    segment2_agg[indicator] = segment2_agg[indicator]/segment2_agg['sample_weight']\n",
    "    segment3_agg[indicator] = segment3_agg[indicator]/segment3_agg['sample_weight']\n",
    "    segment4_agg[indicator] = segment4_agg[indicator]/segment4_agg['sample_weight']\n",
    "    \n",
    "    segment1_agg['energy_burden_diff'] = segment1_agg['baseline_energy_burden_2023_cbills.%'] - segment1_agg[indicator]\n",
    "    segment2_agg['energy_burden_diff'] = segment2_agg['baseline_energy_burden_2023_cbills.%'] - segment2_agg[indicator]\n",
    "    segment3_agg['energy_burden_diff'] = segment3_agg['baseline_energy_burden_2023_cbills.%'] - segment3_agg[indicator]\n",
    "    segment4_agg['energy_burden_diff'] = segment4_agg['baseline_energy_burden_2023_cbills.%'] - segment4_agg[indicator]\n",
    "    \n",
    "    segment1_agg = segment1_agg.sort_values(['energy_burden_diff'], ascending=False)\n",
    "    segment2_agg = segment2_agg.sort_values(['energy_burden_diff'], ascending=False)\n",
    "    segment3_agg = segment3_agg.sort_values(['energy_burden_diff'], ascending=False)\n",
    "    segment4_agg = segment4_agg.sort_values(['energy_burden_diff'], ascending=False)\n",
    "    \n",
    "    segment1_agg = segment1_agg[segment1_agg.upgrade_name != 'baseline']\n",
    "    segment2_agg = segment2_agg[segment2_agg.upgrade_name != 'baseline']\n",
    "    segment3_agg = segment3_agg[segment3_agg.upgrade_name != 'baseline']\n",
    "    segment4_agg = segment4_agg[segment4_agg.upgrade_name != 'baseline']\n",
    "    \n",
    "    segment1_agg = segment1_agg.rename(columns={'baseline_energy_burden_2023_cbills.%': 'before', indicator: 'after'})\n",
    "    segment2_agg = segment2_agg.rename(columns={'baseline_energy_burden_2023_cbills.%': 'before', indicator: 'after'})\n",
    "    segment3_agg = segment3_agg.rename(columns={'baseline_energy_burden_2023_cbills.%': 'before', indicator: 'after'})\n",
    "    segment4_agg = segment4_agg.rename(columns={'baseline_energy_burden_2023_cbills.%': 'before', indicator: 'after'})\n",
    "    \n",
    "    segment1_agg['before'] = segment1_agg['before'].round(1)\n",
    "    segment2_agg['before'] = segment2_agg['before'].round(1)\n",
    "    segment3_agg['before'] = segment3_agg['before'].round(1)\n",
    "    segment4_agg['before'] = segment4_agg['before'].round(1)\n",
    "    segment1_agg['after'] = segment1_agg['after'].round(1)\n",
    "    segment2_agg['after'] = segment2_agg['after'].round(1)\n",
    "    segment3_agg['after'] = segment3_agg['after'].round(1)\n",
    "    segment4_agg['after'] = segment4_agg['after'].round(1)\n",
    "    \n",
    "    print ('energy burden (%) before and after upgrade')\n",
    "    print('segment1')\n",
    "    display(segment1_agg[['before', 'after']])\n",
    "    print('segment2')\n",
    "    display(segment2_agg[['before', 'after']])\n",
    "    print('segment3')\n",
    "    display(segment3_agg[['before', 'after']])\n",
    "    print('segment4')\n",
    "    display(segment4_agg[['before', 'after']])\n",
    "    \n",
    "    return(segment1_agg[['before', 'after']],segment2_agg[['before', 'after']],segment3_agg[['before', 'after']],segment4_agg[['before', 'after']])"
   ]
  },
  {
   "cell_type": "code",
   "execution_count": 12,
   "id": "97b37ad7",
   "metadata": {},
   "outputs": [],
   "source": [
    "community = 'san_jose'\n",
    "fig_dir = Path(\".\").resolve() / \"results\" / community\n",
    "community_results = pd.read_parquet(f\"data_/community_building_samples_with_upgrade_cost_and_bill/{community}/processed_upgrade_results.parquet\")\n",
    "saving_results = pd.DataFrame()"
   ]
  },
  {
   "cell_type": "markdown",
   "id": "712ba191",
   "metadata": {},
   "source": [
    "# 1. Results for Whole Community"
   ]
  },
  {
   "cell_type": "markdown",
   "id": "825d991e",
   "metadata": {},
   "source": [
    "## 1.1 Upgrade Cost Per Dwelling Unit"
   ]
  },
  {
   "cell_type": "code",
   "execution_count": 13,
   "id": "d2f8640e",
   "metadata": {},
   "outputs": [
    {
     "name": "stdout",
     "output_type": "stream",
     "text": [
      "upgrade_cost_usd per dwelling unit\n"
     ]
    },
    {
     "data": {
      "text/plain": [
       "upgrade_name\n",
       "Electric Clothes Dryer                                              1692.2\n",
       "Electric Cooking                                                    1700.0\n",
       "Heat Pump Clothes Dryer                                             2507.0\n",
       "Induction Cooking                                                   2591.2\n",
       "Heat Pump Water Heater                                              4004.7\n",
       "Basic Enclosure                                                     8279.2\n",
       "Mininum Efficiency Heat Pump with Electric Heat Backup              9969.7\n",
       "Enhanced Enclosure                                                 10337.5\n",
       "Mininum Efficiency Whole Home Electrification                      11373.5\n",
       "Mininum Efficiency Heat Pump with Existing Heat Backup             11644.7\n",
       "High Efficiency Heat Pump with Electric Heat Backup                27872.2\n",
       "High Efficiency Whole Home Electrification                         36277.1\n",
       "Basic Enclosure + HPWH + High Efficiency HP/Electric Backup        36555.0\n",
       "Enhanced Enclosure + HPWH + High Efficiency HP/Electric Backup     38081.8\n",
       "Basic Enclosure + High Efficiency Whole Home Electrification       40977.6\n",
       "Enhanced Enclosure + High Efficiency Whole Home Electrification    42504.4\n",
       "Name: upgrade_cost_usd, dtype: float64"
      ]
     },
     "metadata": {},
     "output_type": "display_data"
    }
   ],
   "source": [
    "results = community_mean_upgrade_cost(community_results)\n",
    "saving_results['whole_community_upgrade_cost_mean_usd'] = results"
   ]
  },
  {
   "cell_type": "markdown",
   "id": "8612601a",
   "metadata": {},
   "source": [
    "## 1.2 Total Annual Savings"
   ]
  },
  {
   "cell_type": "code",
   "execution_count": 14,
   "id": "2d30637c",
   "metadata": {},
   "outputs": [
    {
     "data": {
      "application/vnd.plotly.v1+json": {
       "config": {
        "plotlyServerURL": "https://plot.ly"
       },
       "data": [
        {
         "cliponaxis": false,
         "marker": {
          "color": "rgb(255, 255, 255)",
          "line": {
           "color": "rgb(255, 255, 255)"
          }
         },
         "orientation": "h",
         "textangle": 0,
         "textfont": {
          "size": 10
         },
         "textposition": "outside",
         "type": "bar",
         "x": [
          0,
          0,
          0,
          0,
          0,
          0,
          0,
          0,
          0,
          0,
          0,
          0,
          0,
          0,
          0,
          0,
          0,
          0,
          0,
          0,
          0,
          0,
          0,
          0,
          0,
          0,
          0,
          0,
          0,
          0,
          0,
          0,
          0,
          0,
          0,
          0,
          0,
          0,
          0,
          0,
          0,
          0,
          0,
          0,
          0,
          0,
          0,
          0,
          0,
          0,
          0,
          0,
          0,
          0,
          0,
          0,
          0,
          0,
          0,
          0,
          0,
          0,
          0,
          0,
          0,
          0,
          0,
          0,
          0,
          0,
          0,
          0,
          0,
          0,
          0,
          0,
          0,
          0,
          0,
          0,
          0,
          0,
          0,
          0,
          0,
          0,
          0,
          0,
          0,
          0,
          0,
          0,
          0,
          0,
          0,
          0,
          0,
          0,
          0,
          0,
          0,
          0,
          0,
          0,
          0,
          0,
          0,
          0,
          0,
          0,
          0,
          0,
          0,
          0,
          0,
          0,
          0,
          0,
          0,
          0,
          0,
          0,
          0,
          0,
          0,
          0,
          0,
          0,
          0,
          0,
          0,
          0,
          0,
          0,
          0,
          0,
          0,
          0,
          0,
          0,
          0,
          0,
          0,
          0,
          0,
          0,
          0,
          0,
          0,
          0,
          0,
          0,
          0,
          0,
          0,
          0,
          0,
          0,
          0,
          0,
          0,
          0,
          0,
          0,
          0,
          0,
          0,
          0,
          0,
          0,
          0,
          0,
          0,
          0,
          0,
          0
         ],
         "xaxis": "x",
         "y": [
          "Mininum Efficiency Heat Pump with Existing Heat Backup",
          "Mininum Efficiency Heat Pump with Electric Heat Backup",
          "Electric Clothes Dryer",
          "Electric Cooking",
          "Induction Cooking",
          "Heat Pump Clothes Dryer",
          "High Efficiency Heat Pump with Electric Heat Backup",
          "Mininum Efficiency Whole Home Electrification",
          "Heat Pump Water Heater",
          "Basic Enclosure",
          "Enhanced Enclosure",
          "High Efficiency Whole Home Electrification",
          "Basic Enclosure + HPWH + High Efficiency HP/Electric Backup",
          "Enhanced Enclosure + HPWH + High Efficiency HP/Electric Backup",
          "Basic Enclosure + High Efficiency Whole Home Electrification",
          "Enhanced Enclosure + High Efficiency Whole Home Electrification"
         ],
         "yaxis": "y"
        },
        {
         "cliponaxis": false,
         "marker": {
          "color": "rgb(0, 121, 61)",
          "line": {
           "color": "rgb(0, 121, 61)"
          }
         },
         "orientation": "h",
         "text": [
          -4642880.137388919,
          -4123082.7337498674,
          -520096.7784118043,
          236402.39177044766,
          731641.6470747123,
          2205067.301103392,
          10024140.157818478,
          11906336.949530205,
          13299328.248460013,
          15104347.138046505,
          16677799.010886416,
          31479545.637085635,
          33567214.94896425,
          33892826.37013001,
          36998985.15585126,
          37324596.57701702
         ],
         "textangle": 0,
         "textfont": {
          "size": 10
         },
         "textposition": "outside",
         "texttemplate": "%{text:.3s}",
         "type": "bar",
         "x": [
          -4642880.137388919,
          -4123082.7337498674,
          -520096.7784118043,
          236402.39177044766,
          731641.6470747123,
          2205067.301103392,
          10024140.157818478,
          11906336.949530205,
          13299328.248460013,
          15104347.138046505,
          16677799.010886416,
          31479545.637085635,
          33567214.94896425,
          33892826.37013001,
          36998985.15585126,
          37324596.57701702
         ],
         "xaxis": "x2",
         "y": [
          "Mininum Efficiency Heat Pump with Existing Heat Backup",
          "Mininum Efficiency Heat Pump with Electric Heat Backup",
          "Electric Clothes Dryer",
          "Electric Cooking",
          "Induction Cooking",
          "Heat Pump Clothes Dryer",
          "High Efficiency Heat Pump with Electric Heat Backup",
          "Mininum Efficiency Whole Home Electrification",
          "Heat Pump Water Heater",
          "Basic Enclosure",
          "Enhanced Enclosure",
          "High Efficiency Whole Home Electrification",
          "Basic Enclosure + HPWH + High Efficiency HP/Electric Backup",
          "Enhanced Enclosure + HPWH + High Efficiency HP/Electric Backup",
          "Basic Enclosure + High Efficiency Whole Home Electrification",
          "Enhanced Enclosure + High Efficiency Whole Home Electrification"
         ],
         "yaxis": "y2"
        },
        {
         "cliponaxis": false,
         "marker": {
          "color": "rgb(0, 121, 61)",
          "line": {
           "color": "rgb(0, 121, 61)"
          }
         },
         "orientation": "h",
         "text": [
          37815932.06423375,
          41801680.211664364,
          2239565.7100315965,
          9810472.12248743,
          10057520.707344683,
          3492738.9007866527,
          49040357.815909214,
          117298721.31593601,
          56532751.815031946,
          33863198.12967563,
          37666864.08920914,
          128879302.14707498,
          118284099.49171813,
          118494274.35300097,
          131834359.09984946,
          132044533.9611323
         ],
         "textangle": 0,
         "textfont": {
          "size": 10
         },
         "textposition": "outside",
         "texttemplate": "%{text:.3s}",
         "type": "bar",
         "x": [
          37815932.06423375,
          41801680.211664364,
          2239565.7100315965,
          9810472.12248743,
          10057520.707344683,
          3492738.9007866527,
          49040357.815909214,
          117298721.31593601,
          56532751.815031946,
          33863198.12967563,
          37666864.08920914,
          128879302.14707498,
          118284099.49171813,
          118494274.35300097,
          131834359.09984946,
          132044533.9611323
         ],
         "xaxis": "x3",
         "y": [
          "Mininum Efficiency Heat Pump with Existing Heat Backup",
          "Mininum Efficiency Heat Pump with Electric Heat Backup",
          "Electric Clothes Dryer",
          "Electric Cooking",
          "Induction Cooking",
          "Heat Pump Clothes Dryer",
          "High Efficiency Heat Pump with Electric Heat Backup",
          "Mininum Efficiency Whole Home Electrification",
          "Heat Pump Water Heater",
          "Basic Enclosure",
          "Enhanced Enclosure",
          "High Efficiency Whole Home Electrification",
          "Basic Enclosure + HPWH + High Efficiency HP/Electric Backup",
          "Enhanced Enclosure + HPWH + High Efficiency HP/Electric Backup",
          "Basic Enclosure + High Efficiency Whole Home Electrification",
          "Enhanced Enclosure + High Efficiency Whole Home Electrification"
         ],
         "yaxis": "y3"
        },
        {
         "cliponaxis": false,
         "marker": {
          "color": "rgb(0, 121, 61)",
          "line": {
           "color": "rgb(0, 121, 61)"
          }
         },
         "orientation": "h",
         "text": [
          -130359673.31201044,
          -137125510.44044095,
          -9769939.145218793,
          -23600036.284615364,
          -20269129.267503012,
          8559117.079661466,
          -41956285.44659828,
          -207469535.76970923,
          -34403573.51713635,
          36262547.18907555,
          39352824.48526722,
          -75822988.23436198,
          -26990030.66875862,
          -24800015.729521636,
          -38700042.85660016,
          -36510027.917363174
         ],
         "textangle": 0,
         "textfont": {
          "size": 10
         },
         "textposition": "outside",
         "texttemplate": "%{text:.3s}",
         "type": "bar",
         "x": [
          -130359673.31201044,
          -137125510.44044095,
          -9769939.145218793,
          -23600036.284615364,
          -20269129.267503012,
          8559117.079661466,
          -41956285.44659828,
          -207469535.76970923,
          -34403573.51713635,
          36262547.18907555,
          39352824.48526722,
          -75822988.23436198,
          -26990030.66875862,
          -24800015.729521636,
          -38700042.85660016,
          -36510027.917363174
         ],
         "xaxis": "x4",
         "y": [
          "Mininum Efficiency Heat Pump with Existing Heat Backup",
          "Mininum Efficiency Heat Pump with Electric Heat Backup",
          "Electric Clothes Dryer",
          "Electric Cooking",
          "Induction Cooking",
          "Heat Pump Clothes Dryer",
          "High Efficiency Heat Pump with Electric Heat Backup",
          "Mininum Efficiency Whole Home Electrification",
          "Heat Pump Water Heater",
          "Basic Enclosure",
          "Enhanced Enclosure",
          "High Efficiency Whole Home Electrification",
          "Basic Enclosure + HPWH + High Efficiency HP/Electric Backup",
          "Enhanced Enclosure + HPWH + High Efficiency HP/Electric Backup",
          "Basic Enclosure + High Efficiency Whole Home Electrification",
          "Enhanced Enclosure + High Efficiency Whole Home Electrification"
         ],
         "yaxis": "y4"
        },
        {
         "cliponaxis": false,
         "marker": {
          "color": "rgb(0, 121, 61)",
          "line": {
           "color": "rgb(0, 121, 61)"
          }
         },
         "orientation": "h",
         "text": [
          689140.6675852786,
          760610.882981452,
          43463.916741148256,
          172085.2986675417,
          172085.2986675417,
          43463.916741148256,
          760490.0988734027,
          1992255.5949493914,
          883639.1995002478,
          455204.887577123,
          507366.00293820363,
          1992255.5949493914,
          1776706.3795407014,
          1776706.3795407014,
          1992255.5949493914,
          1992255.5949493914
         ],
         "textangle": 0,
         "textfont": {
          "size": 10
         },
         "textposition": "outside",
         "texttemplate": "%{text:.3s}",
         "type": "bar",
         "x": [
          689140.6675852786,
          760610.882981452,
          43463.916741148256,
          172085.2986675417,
          172085.2986675417,
          43463.916741148256,
          760490.0988734027,
          1992255.5949493914,
          883639.1995002478,
          455204.887577123,
          507366.00293820363,
          1992255.5949493914,
          1776706.3795407014,
          1776706.3795407014,
          1992255.5949493914,
          1992255.5949493914
         ],
         "xaxis": "x5",
         "y": [
          "Mininum Efficiency Heat Pump with Existing Heat Backup",
          "Mininum Efficiency Heat Pump with Electric Heat Backup",
          "Electric Clothes Dryer",
          "Electric Cooking",
          "Induction Cooking",
          "Heat Pump Clothes Dryer",
          "High Efficiency Heat Pump with Electric Heat Backup",
          "Mininum Efficiency Whole Home Electrification",
          "Heat Pump Water Heater",
          "Basic Enclosure",
          "Enhanced Enclosure",
          "High Efficiency Whole Home Electrification",
          "Basic Enclosure + HPWH + High Efficiency HP/Electric Backup",
          "Enhanced Enclosure + HPWH + High Efficiency HP/Electric Backup",
          "Basic Enclosure + High Efficiency Whole Home Electrification",
          "Enhanced Enclosure + High Efficiency Whole Home Electrification"
         ],
         "yaxis": "y5"
        }
       ],
       "layout": {
        "autosize": false,
        "font": {
         "size": 10
        },
        "height": 500,
        "plot_bgcolor": "rgba(0, 0, 0, 0)",
        "showlegend": false,
        "template": {
         "data": {
          "bar": [
           {
            "error_x": {
             "color": "#2a3f5f"
            },
            "error_y": {
             "color": "#2a3f5f"
            },
            "marker": {
             "line": {
              "color": "#E5ECF6",
              "width": 0.5
             },
             "pattern": {
              "fillmode": "overlay",
              "size": 10,
              "solidity": 0.2
             }
            },
            "type": "bar"
           }
          ],
          "barpolar": [
           {
            "marker": {
             "line": {
              "color": "#E5ECF6",
              "width": 0.5
             },
             "pattern": {
              "fillmode": "overlay",
              "size": 10,
              "solidity": 0.2
             }
            },
            "type": "barpolar"
           }
          ],
          "carpet": [
           {
            "aaxis": {
             "endlinecolor": "#2a3f5f",
             "gridcolor": "white",
             "linecolor": "white",
             "minorgridcolor": "white",
             "startlinecolor": "#2a3f5f"
            },
            "baxis": {
             "endlinecolor": "#2a3f5f",
             "gridcolor": "white",
             "linecolor": "white",
             "minorgridcolor": "white",
             "startlinecolor": "#2a3f5f"
            },
            "type": "carpet"
           }
          ],
          "choropleth": [
           {
            "colorbar": {
             "outlinewidth": 0,
             "ticks": ""
            },
            "type": "choropleth"
           }
          ],
          "contour": [
           {
            "colorbar": {
             "outlinewidth": 0,
             "ticks": ""
            },
            "colorscale": [
             [
              0,
              "#0d0887"
             ],
             [
              0.1111111111111111,
              "#46039f"
             ],
             [
              0.2222222222222222,
              "#7201a8"
             ],
             [
              0.3333333333333333,
              "#9c179e"
             ],
             [
              0.4444444444444444,
              "#bd3786"
             ],
             [
              0.5555555555555556,
              "#d8576b"
             ],
             [
              0.6666666666666666,
              "#ed7953"
             ],
             [
              0.7777777777777778,
              "#fb9f3a"
             ],
             [
              0.8888888888888888,
              "#fdca26"
             ],
             [
              1,
              "#f0f921"
             ]
            ],
            "type": "contour"
           }
          ],
          "contourcarpet": [
           {
            "colorbar": {
             "outlinewidth": 0,
             "ticks": ""
            },
            "type": "contourcarpet"
           }
          ],
          "heatmap": [
           {
            "colorbar": {
             "outlinewidth": 0,
             "ticks": ""
            },
            "colorscale": [
             [
              0,
              "#0d0887"
             ],
             [
              0.1111111111111111,
              "#46039f"
             ],
             [
              0.2222222222222222,
              "#7201a8"
             ],
             [
              0.3333333333333333,
              "#9c179e"
             ],
             [
              0.4444444444444444,
              "#bd3786"
             ],
             [
              0.5555555555555556,
              "#d8576b"
             ],
             [
              0.6666666666666666,
              "#ed7953"
             ],
             [
              0.7777777777777778,
              "#fb9f3a"
             ],
             [
              0.8888888888888888,
              "#fdca26"
             ],
             [
              1,
              "#f0f921"
             ]
            ],
            "type": "heatmap"
           }
          ],
          "heatmapgl": [
           {
            "colorbar": {
             "outlinewidth": 0,
             "ticks": ""
            },
            "colorscale": [
             [
              0,
              "#0d0887"
             ],
             [
              0.1111111111111111,
              "#46039f"
             ],
             [
              0.2222222222222222,
              "#7201a8"
             ],
             [
              0.3333333333333333,
              "#9c179e"
             ],
             [
              0.4444444444444444,
              "#bd3786"
             ],
             [
              0.5555555555555556,
              "#d8576b"
             ],
             [
              0.6666666666666666,
              "#ed7953"
             ],
             [
              0.7777777777777778,
              "#fb9f3a"
             ],
             [
              0.8888888888888888,
              "#fdca26"
             ],
             [
              1,
              "#f0f921"
             ]
            ],
            "type": "heatmapgl"
           }
          ],
          "histogram": [
           {
            "marker": {
             "pattern": {
              "fillmode": "overlay",
              "size": 10,
              "solidity": 0.2
             }
            },
            "type": "histogram"
           }
          ],
          "histogram2d": [
           {
            "colorbar": {
             "outlinewidth": 0,
             "ticks": ""
            },
            "colorscale": [
             [
              0,
              "#0d0887"
             ],
             [
              0.1111111111111111,
              "#46039f"
             ],
             [
              0.2222222222222222,
              "#7201a8"
             ],
             [
              0.3333333333333333,
              "#9c179e"
             ],
             [
              0.4444444444444444,
              "#bd3786"
             ],
             [
              0.5555555555555556,
              "#d8576b"
             ],
             [
              0.6666666666666666,
              "#ed7953"
             ],
             [
              0.7777777777777778,
              "#fb9f3a"
             ],
             [
              0.8888888888888888,
              "#fdca26"
             ],
             [
              1,
              "#f0f921"
             ]
            ],
            "type": "histogram2d"
           }
          ],
          "histogram2dcontour": [
           {
            "colorbar": {
             "outlinewidth": 0,
             "ticks": ""
            },
            "colorscale": [
             [
              0,
              "#0d0887"
             ],
             [
              0.1111111111111111,
              "#46039f"
             ],
             [
              0.2222222222222222,
              "#7201a8"
             ],
             [
              0.3333333333333333,
              "#9c179e"
             ],
             [
              0.4444444444444444,
              "#bd3786"
             ],
             [
              0.5555555555555556,
              "#d8576b"
             ],
             [
              0.6666666666666666,
              "#ed7953"
             ],
             [
              0.7777777777777778,
              "#fb9f3a"
             ],
             [
              0.8888888888888888,
              "#fdca26"
             ],
             [
              1,
              "#f0f921"
             ]
            ],
            "type": "histogram2dcontour"
           }
          ],
          "mesh3d": [
           {
            "colorbar": {
             "outlinewidth": 0,
             "ticks": ""
            },
            "type": "mesh3d"
           }
          ],
          "parcoords": [
           {
            "line": {
             "colorbar": {
              "outlinewidth": 0,
              "ticks": ""
             }
            },
            "type": "parcoords"
           }
          ],
          "pie": [
           {
            "automargin": true,
            "type": "pie"
           }
          ],
          "scatter": [
           {
            "fillpattern": {
             "fillmode": "overlay",
             "size": 10,
             "solidity": 0.2
            },
            "type": "scatter"
           }
          ],
          "scatter3d": [
           {
            "line": {
             "colorbar": {
              "outlinewidth": 0,
              "ticks": ""
             }
            },
            "marker": {
             "colorbar": {
              "outlinewidth": 0,
              "ticks": ""
             }
            },
            "type": "scatter3d"
           }
          ],
          "scattercarpet": [
           {
            "marker": {
             "colorbar": {
              "outlinewidth": 0,
              "ticks": ""
             }
            },
            "type": "scattercarpet"
           }
          ],
          "scattergeo": [
           {
            "marker": {
             "colorbar": {
              "outlinewidth": 0,
              "ticks": ""
             }
            },
            "type": "scattergeo"
           }
          ],
          "scattergl": [
           {
            "marker": {
             "colorbar": {
              "outlinewidth": 0,
              "ticks": ""
             }
            },
            "type": "scattergl"
           }
          ],
          "scattermapbox": [
           {
            "marker": {
             "colorbar": {
              "outlinewidth": 0,
              "ticks": ""
             }
            },
            "type": "scattermapbox"
           }
          ],
          "scatterpolar": [
           {
            "marker": {
             "colorbar": {
              "outlinewidth": 0,
              "ticks": ""
             }
            },
            "type": "scatterpolar"
           }
          ],
          "scatterpolargl": [
           {
            "marker": {
             "colorbar": {
              "outlinewidth": 0,
              "ticks": ""
             }
            },
            "type": "scatterpolargl"
           }
          ],
          "scatterternary": [
           {
            "marker": {
             "colorbar": {
              "outlinewidth": 0,
              "ticks": ""
             }
            },
            "type": "scatterternary"
           }
          ],
          "surface": [
           {
            "colorbar": {
             "outlinewidth": 0,
             "ticks": ""
            },
            "colorscale": [
             [
              0,
              "#0d0887"
             ],
             [
              0.1111111111111111,
              "#46039f"
             ],
             [
              0.2222222222222222,
              "#7201a8"
             ],
             [
              0.3333333333333333,
              "#9c179e"
             ],
             [
              0.4444444444444444,
              "#bd3786"
             ],
             [
              0.5555555555555556,
              "#d8576b"
             ],
             [
              0.6666666666666666,
              "#ed7953"
             ],
             [
              0.7777777777777778,
              "#fb9f3a"
             ],
             [
              0.8888888888888888,
              "#fdca26"
             ],
             [
              1,
              "#f0f921"
             ]
            ],
            "type": "surface"
           }
          ],
          "table": [
           {
            "cells": {
             "fill": {
              "color": "#EBF0F8"
             },
             "line": {
              "color": "white"
             }
            },
            "header": {
             "fill": {
              "color": "#C8D4E3"
             },
             "line": {
              "color": "white"
             }
            },
            "type": "table"
           }
          ]
         },
         "layout": {
          "annotationdefaults": {
           "arrowcolor": "#2a3f5f",
           "arrowhead": 0,
           "arrowwidth": 1
          },
          "autotypenumbers": "strict",
          "coloraxis": {
           "colorbar": {
            "outlinewidth": 0,
            "ticks": ""
           }
          },
          "colorscale": {
           "diverging": [
            [
             0,
             "#8e0152"
            ],
            [
             0.1,
             "#c51b7d"
            ],
            [
             0.2,
             "#de77ae"
            ],
            [
             0.3,
             "#f1b6da"
            ],
            [
             0.4,
             "#fde0ef"
            ],
            [
             0.5,
             "#f7f7f7"
            ],
            [
             0.6,
             "#e6f5d0"
            ],
            [
             0.7,
             "#b8e186"
            ],
            [
             0.8,
             "#7fbc41"
            ],
            [
             0.9,
             "#4d9221"
            ],
            [
             1,
             "#276419"
            ]
           ],
           "sequential": [
            [
             0,
             "#0d0887"
            ],
            [
             0.1111111111111111,
             "#46039f"
            ],
            [
             0.2222222222222222,
             "#7201a8"
            ],
            [
             0.3333333333333333,
             "#9c179e"
            ],
            [
             0.4444444444444444,
             "#bd3786"
            ],
            [
             0.5555555555555556,
             "#d8576b"
            ],
            [
             0.6666666666666666,
             "#ed7953"
            ],
            [
             0.7777777777777778,
             "#fb9f3a"
            ],
            [
             0.8888888888888888,
             "#fdca26"
            ],
            [
             1,
             "#f0f921"
            ]
           ],
           "sequentialminus": [
            [
             0,
             "#0d0887"
            ],
            [
             0.1111111111111111,
             "#46039f"
            ],
            [
             0.2222222222222222,
             "#7201a8"
            ],
            [
             0.3333333333333333,
             "#9c179e"
            ],
            [
             0.4444444444444444,
             "#bd3786"
            ],
            [
             0.5555555555555556,
             "#d8576b"
            ],
            [
             0.6666666666666666,
             "#ed7953"
            ],
            [
             0.7777777777777778,
             "#fb9f3a"
            ],
            [
             0.8888888888888888,
             "#fdca26"
            ],
            [
             1,
             "#f0f921"
            ]
           ]
          },
          "colorway": [
           "#636efa",
           "#EF553B",
           "#00cc96",
           "#ab63fa",
           "#FFA15A",
           "#19d3f3",
           "#FF6692",
           "#B6E880",
           "#FF97FF",
           "#FECB52"
          ],
          "font": {
           "color": "#2a3f5f"
          },
          "geo": {
           "bgcolor": "white",
           "lakecolor": "white",
           "landcolor": "#E5ECF6",
           "showlakes": true,
           "showland": true,
           "subunitcolor": "white"
          },
          "hoverlabel": {
           "align": "left"
          },
          "hovermode": "closest",
          "mapbox": {
           "style": "light"
          },
          "paper_bgcolor": "white",
          "plot_bgcolor": "#E5ECF6",
          "polar": {
           "angularaxis": {
            "gridcolor": "white",
            "linecolor": "white",
            "ticks": ""
           },
           "bgcolor": "#E5ECF6",
           "radialaxis": {
            "gridcolor": "white",
            "linecolor": "white",
            "ticks": ""
           }
          },
          "scene": {
           "xaxis": {
            "backgroundcolor": "#E5ECF6",
            "gridcolor": "white",
            "gridwidth": 2,
            "linecolor": "white",
            "showbackground": true,
            "ticks": "",
            "zerolinecolor": "white"
           },
           "yaxis": {
            "backgroundcolor": "#E5ECF6",
            "gridcolor": "white",
            "gridwidth": 2,
            "linecolor": "white",
            "showbackground": true,
            "ticks": "",
            "zerolinecolor": "white"
           },
           "zaxis": {
            "backgroundcolor": "#E5ECF6",
            "gridcolor": "white",
            "gridwidth": 2,
            "linecolor": "white",
            "showbackground": true,
            "ticks": "",
            "zerolinecolor": "white"
           }
          },
          "shapedefaults": {
           "line": {
            "color": "#2a3f5f"
           }
          },
          "ternary": {
           "aaxis": {
            "gridcolor": "white",
            "linecolor": "white",
            "ticks": ""
           },
           "baxis": {
            "gridcolor": "white",
            "linecolor": "white",
            "ticks": ""
           },
           "bgcolor": "#E5ECF6",
           "caxis": {
            "gridcolor": "white",
            "linecolor": "white",
            "ticks": ""
           }
          },
          "title": {
           "x": 0.05
          },
          "xaxis": {
           "automargin": true,
           "gridcolor": "white",
           "linecolor": "white",
           "ticks": "",
           "title": {
            "standoff": 15
           },
           "zerolinecolor": "white",
           "zerolinewidth": 2
          },
          "yaxis": {
           "automargin": true,
           "gridcolor": "white",
           "linecolor": "white",
           "ticks": "",
           "title": {
            "standoff": 15
           },
           "zerolinecolor": "white",
           "zerolinewidth": 2
          }
         }
        },
        "title": {
         "text": "Total Annual Savings for the Whole Community"
        },
        "width": 900,
        "xaxis": {
         "anchor": "y",
         "domain": [
          0,
          0.00012996750812296928
         ],
         "tickangle": 45,
         "title": {
          "text": ""
         },
         "visible": false
        },
        "xaxis2": {
         "anchor": "y2",
         "domain": [
          0.12012996750812296,
          0.25009747563109225
         ],
         "tickangle": 45,
         "title": {
          "text": "Bill<br>Savings<br>usd"
         },
         "visible": true
        },
        "xaxis3": {
         "anchor": "y3",
         "domain": [
          0.37009747563109224,
          0.5000649837540615
         ],
         "tickangle": 45,
         "title": {
          "text": "Emission<br>Savings<br>kgCO2e"
         },
         "visible": true
        },
        "xaxis4": {
         "anchor": "y4",
         "domain": [
          0.6200649837540615,
          0.7500324918770308
         ],
         "tickangle": 45,
         "title": {
          "text": "Electricity<br>Savings<br>kwh"
         },
         "visible": true
        },
        "xaxis5": {
         "anchor": "y5",
         "domain": [
          0.8700324918770308,
          1
         ],
         "tickangle": 45,
         "title": {
          "text": "Gas, Propane,<br>Fuel Oil Savings<br>mmbtu"
         },
         "visible": true
        },
        "yaxis": {
         "anchor": "x",
         "domain": [
          0,
          1
         ],
         "visible": true
        },
        "yaxis2": {
         "anchor": "x2",
         "domain": [
          0,
          1
         ],
         "visible": false
        },
        "yaxis3": {
         "anchor": "x3",
         "domain": [
          0,
          1
         ],
         "visible": false
        },
        "yaxis4": {
         "anchor": "x4",
         "domain": [
          0,
          1
         ],
         "visible": false
        },
        "yaxis5": {
         "anchor": "x5",
         "domain": [
          0,
          1
         ],
         "visible": false
        }
       }
      }
     },
     "metadata": {},
     "output_type": "display_data"
    }
   ],
   "source": [
    "figure_total_savings_1(community_results)"
   ]
  },
  {
   "cell_type": "code",
   "execution_count": 15,
   "id": "ebec6b8d",
   "metadata": {},
   "outputs": [
    {
     "data": {
      "application/vnd.plotly.v1+json": {
       "config": {
        "plotlyServerURL": "https://plot.ly"
       },
       "data": [
        {
         "cliponaxis": false,
         "marker": {
          "color": "rgb(255, 255, 255)",
          "line": {
           "color": "rgb(255, 255, 255)"
          }
         },
         "orientation": "h",
         "textangle": 0,
         "textfont": {
          "size": 10
         },
         "textposition": "outside",
         "type": "bar",
         "x": [
          0,
          0,
          0,
          0,
          0,
          0,
          0,
          0,
          0,
          0,
          0,
          0,
          0,
          0,
          0,
          0,
          0,
          0,
          0,
          0,
          0,
          0,
          0,
          0,
          0,
          0,
          0,
          0,
          0,
          0,
          0,
          0,
          0,
          0,
          0,
          0,
          0,
          0,
          0,
          0,
          0,
          0,
          0,
          0,
          0,
          0,
          0,
          0,
          0,
          0,
          0,
          0,
          0,
          0,
          0,
          0,
          0,
          0,
          0,
          0,
          0,
          0,
          0,
          0,
          0,
          0,
          0,
          0,
          0,
          0,
          0,
          0,
          0,
          0,
          0,
          0,
          0,
          0,
          0,
          0,
          0,
          0,
          0,
          0,
          0,
          0,
          0,
          0,
          0,
          0,
          0,
          0,
          0,
          0,
          0,
          0,
          0,
          0,
          0,
          0,
          0,
          0,
          0,
          0,
          0,
          0,
          0,
          0,
          0,
          0,
          0,
          0,
          0,
          0,
          0,
          0,
          0,
          0,
          0,
          0,
          0,
          0,
          0,
          0,
          0,
          0,
          0,
          0,
          0,
          0,
          0,
          0,
          0,
          0,
          0,
          0,
          0,
          0,
          0,
          0,
          0,
          0,
          0,
          0,
          0,
          0,
          0,
          0,
          0,
          0,
          0,
          0,
          0,
          0,
          0,
          0,
          0,
          0,
          0,
          0,
          0,
          0,
          0,
          0,
          0,
          0,
          0,
          0,
          0,
          0,
          0,
          0,
          0,
          0,
          0,
          0
         ],
         "xaxis": "x",
         "y": [
          "Mininum Efficiency Heat Pump with Existing Heat Backup",
          "Mininum Efficiency Heat Pump with Electric Heat Backup",
          "Electric Clothes Dryer",
          "Electric Cooking",
          "Induction Cooking",
          "Heat Pump Clothes Dryer",
          "High Efficiency Heat Pump with Electric Heat Backup",
          "Mininum Efficiency Whole Home Electrification",
          "Heat Pump Water Heater",
          "Basic Enclosure",
          "Enhanced Enclosure",
          "High Efficiency Whole Home Electrification",
          "Basic Enclosure + HPWH + High Efficiency HP/Electric Backup",
          "Enhanced Enclosure + HPWH + High Efficiency HP/Electric Backup",
          "Basic Enclosure + High Efficiency Whole Home Electrification",
          "Enhanced Enclosure + High Efficiency Whole Home Electrification"
         ],
         "yaxis": "y"
        },
        {
         "cliponaxis": false,
         "marker": {
          "color": "rgb(0, 121, 61)",
          "line": {
           "color": "rgb(0, 121, 61)"
          }
         },
         "orientation": "h",
         "text": [
          -4642880.137388919,
          -4123082.7337498674,
          -520096.7784118043,
          236402.39177044766,
          731641.6470747123,
          2205067.301103392,
          10024140.157818478,
          11906336.949530205,
          13299328.248460013,
          15104347.138046505,
          16677799.010886416,
          31479545.637085635,
          33567214.94896425,
          33892826.37013001,
          36998985.15585126,
          37324596.57701702
         ],
         "textangle": 0,
         "textfont": {
          "size": 10
         },
         "textposition": "outside",
         "texttemplate": "%{text:.3s}",
         "type": "bar",
         "x": [
          -4642880.137388919,
          -4123082.7337498674,
          -520096.7784118043,
          236402.39177044766,
          731641.6470747123,
          2205067.301103392,
          10024140.157818478,
          11906336.949530205,
          13299328.248460013,
          15104347.138046505,
          16677799.010886416,
          31479545.637085635,
          33567214.94896425,
          33892826.37013001,
          36998985.15585126,
          37324596.57701702
         ],
         "xaxis": "x2",
         "y": [
          "Mininum Efficiency Heat Pump with Existing Heat Backup",
          "Mininum Efficiency Heat Pump with Electric Heat Backup",
          "Electric Clothes Dryer",
          "Electric Cooking",
          "Induction Cooking",
          "Heat Pump Clothes Dryer",
          "High Efficiency Heat Pump with Electric Heat Backup",
          "Mininum Efficiency Whole Home Electrification",
          "Heat Pump Water Heater",
          "Basic Enclosure",
          "Enhanced Enclosure",
          "High Efficiency Whole Home Electrification",
          "Basic Enclosure + HPWH + High Efficiency HP/Electric Backup",
          "Enhanced Enclosure + HPWH + High Efficiency HP/Electric Backup",
          "Basic Enclosure + High Efficiency Whole Home Electrification",
          "Enhanced Enclosure + High Efficiency Whole Home Electrification"
         ],
         "yaxis": "y2"
        },
        {
         "cliponaxis": false,
         "marker": {
          "color": "rgb(0, 121, 61)",
          "line": {
           "color": "rgb(0, 121, 61)"
          }
         },
         "orientation": "h",
         "text": [
          37815932.06423375,
          41801680.211664364,
          2239565.7100315965,
          9810472.12248743,
          10057520.707344683,
          3492738.9007866527,
          49040357.815909214,
          117298721.31593601,
          56532751.815031946,
          33863198.12967563,
          37666864.08920914,
          128879302.14707498,
          118284099.49171813,
          118494274.35300097,
          131834359.09984946,
          132044533.9611323
         ],
         "textangle": 0,
         "textfont": {
          "size": 10
         },
         "textposition": "outside",
         "texttemplate": "%{text:.3s}",
         "type": "bar",
         "x": [
          37815932.06423375,
          41801680.211664364,
          2239565.7100315965,
          9810472.12248743,
          10057520.707344683,
          3492738.9007866527,
          49040357.815909214,
          117298721.31593601,
          56532751.815031946,
          33863198.12967563,
          37666864.08920914,
          128879302.14707498,
          118284099.49171813,
          118494274.35300097,
          131834359.09984946,
          132044533.9611323
         ],
         "xaxis": "x3",
         "y": [
          "Mininum Efficiency Heat Pump with Existing Heat Backup",
          "Mininum Efficiency Heat Pump with Electric Heat Backup",
          "Electric Clothes Dryer",
          "Electric Cooking",
          "Induction Cooking",
          "Heat Pump Clothes Dryer",
          "High Efficiency Heat Pump with Electric Heat Backup",
          "Mininum Efficiency Whole Home Electrification",
          "Heat Pump Water Heater",
          "Basic Enclosure",
          "Enhanced Enclosure",
          "High Efficiency Whole Home Electrification",
          "Basic Enclosure + HPWH + High Efficiency HP/Electric Backup",
          "Enhanced Enclosure + HPWH + High Efficiency HP/Electric Backup",
          "Basic Enclosure + High Efficiency Whole Home Electrification",
          "Enhanced Enclosure + High Efficiency Whole Home Electrification"
         ],
         "yaxis": "y3"
        },
        {
         "cliponaxis": false,
         "marker": {
          "color": "rgb(0, 121, 61)",
          "line": {
           "color": "rgb(0, 121, 61)"
          }
         },
         "orientation": "h",
         "text": [
          8462.669,
          10218.961,
          309.47299999999996,
          1891.5039999999997,
          2115.119,
          1793.264,
          17370.688,
          32456.987,
          16564.428,
          15416.39,
          16947.115,
          41647.047,
          40967.55,
          41184.312,
          44875.933,
          45092.695
         ],
         "textangle": 0,
         "textfont": {
          "size": 10
         },
         "textposition": "outside",
         "texttemplate": "%{text:.3s}",
         "type": "bar",
         "x": [
          8462.669,
          10218.961,
          309.47299999999996,
          1891.5039999999997,
          2115.119,
          1793.264,
          17370.688,
          32456.987,
          16564.428,
          15416.39,
          16947.115,
          41647.047,
          40967.55,
          41184.312,
          44875.933,
          45092.695
         ],
         "xaxis": "x4",
         "y": [
          "Mininum Efficiency Heat Pump with Existing Heat Backup",
          "Mininum Efficiency Heat Pump with Electric Heat Backup",
          "Electric Clothes Dryer",
          "Electric Cooking",
          "Induction Cooking",
          "Heat Pump Clothes Dryer",
          "High Efficiency Heat Pump with Electric Heat Backup",
          "Mininum Efficiency Whole Home Electrification",
          "Heat Pump Water Heater",
          "Basic Enclosure",
          "Enhanced Enclosure",
          "High Efficiency Whole Home Electrification",
          "Basic Enclosure + HPWH + High Efficiency HP/Electric Backup",
          "Enhanced Enclosure + HPWH + High Efficiency HP/Electric Backup",
          "Basic Enclosure + High Efficiency Whole Home Electrification",
          "Enhanced Enclosure + High Efficiency Whole Home Electrification"
         ],
         "yaxis": "y4"
        },
        {
         "cliponaxis": false,
         "marker": {
          "color": "rgb(0, 121, 61)",
          "line": {
           "color": "rgb(0, 121, 61)"
          }
         },
         "orientation": "h",
         "text": [
          -130359673.31201044,
          -137125510.44044095,
          -9769939.145218793,
          -23600036.284615364,
          -20269129.267503012,
          8559117.079661466,
          -41956285.44659828,
          -207469535.76970923,
          -34403573.51713635,
          36262547.18907555,
          39352824.48526722,
          -75822988.23436198,
          -26990030.66875862,
          -24800015.729521636,
          -38700042.85660016,
          -36510027.917363174
         ],
         "textangle": 0,
         "textfont": {
          "size": 10
         },
         "textposition": "outside",
         "texttemplate": "%{text:.3s}",
         "type": "bar",
         "x": [
          -130359673.31201044,
          -137125510.44044095,
          -9769939.145218793,
          -23600036.284615364,
          -20269129.267503012,
          8559117.079661466,
          -41956285.44659828,
          -207469535.76970923,
          -34403573.51713635,
          36262547.18907555,
          39352824.48526722,
          -75822988.23436198,
          -26990030.66875862,
          -24800015.729521636,
          -38700042.85660016,
          -36510027.917363174
         ],
         "xaxis": "x5",
         "y": [
          "Mininum Efficiency Heat Pump with Existing Heat Backup",
          "Mininum Efficiency Heat Pump with Electric Heat Backup",
          "Electric Clothes Dryer",
          "Electric Cooking",
          "Induction Cooking",
          "Heat Pump Clothes Dryer",
          "High Efficiency Heat Pump with Electric Heat Backup",
          "Mininum Efficiency Whole Home Electrification",
          "Heat Pump Water Heater",
          "Basic Enclosure",
          "Enhanced Enclosure",
          "High Efficiency Whole Home Electrification",
          "Basic Enclosure + HPWH + High Efficiency HP/Electric Backup",
          "Enhanced Enclosure + HPWH + High Efficiency HP/Electric Backup",
          "Basic Enclosure + High Efficiency Whole Home Electrification",
          "Enhanced Enclosure + High Efficiency Whole Home Electrification"
         ],
         "yaxis": "y5"
        },
        {
         "cliponaxis": false,
         "marker": {
          "color": "rgb(0, 121, 61)",
          "line": {
           "color": "rgb(0, 121, 61)"
          }
         },
         "orientation": "h",
         "text": [
          689140.6675852786,
          760610.882981452,
          43463.916741148256,
          172085.2986675417,
          172085.2986675417,
          43463.916741148256,
          760490.0988734027,
          1992255.5949493914,
          883639.1995002478,
          455204.887577123,
          507366.00293820363,
          1992255.5949493914,
          1776706.3795407014,
          1776706.3795407014,
          1992255.5949493914,
          1992255.5949493914
         ],
         "textangle": 0,
         "textfont": {
          "size": 10
         },
         "textposition": "outside",
         "texttemplate": "%{text:.3s}",
         "type": "bar",
         "x": [
          689140.6675852786,
          760610.882981452,
          43463.916741148256,
          172085.2986675417,
          172085.2986675417,
          43463.916741148256,
          760490.0988734027,
          1992255.5949493914,
          883639.1995002478,
          455204.887577123,
          507366.00293820363,
          1992255.5949493914,
          1776706.3795407014,
          1776706.3795407014,
          1992255.5949493914,
          1992255.5949493914
         ],
         "xaxis": "x6",
         "y": [
          "Mininum Efficiency Heat Pump with Existing Heat Backup",
          "Mininum Efficiency Heat Pump with Electric Heat Backup",
          "Electric Clothes Dryer",
          "Electric Cooking",
          "Induction Cooking",
          "Heat Pump Clothes Dryer",
          "High Efficiency Heat Pump with Electric Heat Backup",
          "Mininum Efficiency Whole Home Electrification",
          "Heat Pump Water Heater",
          "Basic Enclosure",
          "Enhanced Enclosure",
          "High Efficiency Whole Home Electrification",
          "Basic Enclosure + HPWH + High Efficiency HP/Electric Backup",
          "Enhanced Enclosure + HPWH + High Efficiency HP/Electric Backup",
          "Basic Enclosure + High Efficiency Whole Home Electrification",
          "Enhanced Enclosure + High Efficiency Whole Home Electrification"
         ],
         "yaxis": "y6"
        }
       ],
       "layout": {
        "autosize": false,
        "font": {
         "size": 10
        },
        "height": 500,
        "plot_bgcolor": "rgba(0, 0, 0, 0)",
        "showlegend": false,
        "template": {
         "data": {
          "bar": [
           {
            "error_x": {
             "color": "#2a3f5f"
            },
            "error_y": {
             "color": "#2a3f5f"
            },
            "marker": {
             "line": {
              "color": "#E5ECF6",
              "width": 0.5
             },
             "pattern": {
              "fillmode": "overlay",
              "size": 10,
              "solidity": 0.2
             }
            },
            "type": "bar"
           }
          ],
          "barpolar": [
           {
            "marker": {
             "line": {
              "color": "#E5ECF6",
              "width": 0.5
             },
             "pattern": {
              "fillmode": "overlay",
              "size": 10,
              "solidity": 0.2
             }
            },
            "type": "barpolar"
           }
          ],
          "carpet": [
           {
            "aaxis": {
             "endlinecolor": "#2a3f5f",
             "gridcolor": "white",
             "linecolor": "white",
             "minorgridcolor": "white",
             "startlinecolor": "#2a3f5f"
            },
            "baxis": {
             "endlinecolor": "#2a3f5f",
             "gridcolor": "white",
             "linecolor": "white",
             "minorgridcolor": "white",
             "startlinecolor": "#2a3f5f"
            },
            "type": "carpet"
           }
          ],
          "choropleth": [
           {
            "colorbar": {
             "outlinewidth": 0,
             "ticks": ""
            },
            "type": "choropleth"
           }
          ],
          "contour": [
           {
            "colorbar": {
             "outlinewidth": 0,
             "ticks": ""
            },
            "colorscale": [
             [
              0,
              "#0d0887"
             ],
             [
              0.1111111111111111,
              "#46039f"
             ],
             [
              0.2222222222222222,
              "#7201a8"
             ],
             [
              0.3333333333333333,
              "#9c179e"
             ],
             [
              0.4444444444444444,
              "#bd3786"
             ],
             [
              0.5555555555555556,
              "#d8576b"
             ],
             [
              0.6666666666666666,
              "#ed7953"
             ],
             [
              0.7777777777777778,
              "#fb9f3a"
             ],
             [
              0.8888888888888888,
              "#fdca26"
             ],
             [
              1,
              "#f0f921"
             ]
            ],
            "type": "contour"
           }
          ],
          "contourcarpet": [
           {
            "colorbar": {
             "outlinewidth": 0,
             "ticks": ""
            },
            "type": "contourcarpet"
           }
          ],
          "heatmap": [
           {
            "colorbar": {
             "outlinewidth": 0,
             "ticks": ""
            },
            "colorscale": [
             [
              0,
              "#0d0887"
             ],
             [
              0.1111111111111111,
              "#46039f"
             ],
             [
              0.2222222222222222,
              "#7201a8"
             ],
             [
              0.3333333333333333,
              "#9c179e"
             ],
             [
              0.4444444444444444,
              "#bd3786"
             ],
             [
              0.5555555555555556,
              "#d8576b"
             ],
             [
              0.6666666666666666,
              "#ed7953"
             ],
             [
              0.7777777777777778,
              "#fb9f3a"
             ],
             [
              0.8888888888888888,
              "#fdca26"
             ],
             [
              1,
              "#f0f921"
             ]
            ],
            "type": "heatmap"
           }
          ],
          "heatmapgl": [
           {
            "colorbar": {
             "outlinewidth": 0,
             "ticks": ""
            },
            "colorscale": [
             [
              0,
              "#0d0887"
             ],
             [
              0.1111111111111111,
              "#46039f"
             ],
             [
              0.2222222222222222,
              "#7201a8"
             ],
             [
              0.3333333333333333,
              "#9c179e"
             ],
             [
              0.4444444444444444,
              "#bd3786"
             ],
             [
              0.5555555555555556,
              "#d8576b"
             ],
             [
              0.6666666666666666,
              "#ed7953"
             ],
             [
              0.7777777777777778,
              "#fb9f3a"
             ],
             [
              0.8888888888888888,
              "#fdca26"
             ],
             [
              1,
              "#f0f921"
             ]
            ],
            "type": "heatmapgl"
           }
          ],
          "histogram": [
           {
            "marker": {
             "pattern": {
              "fillmode": "overlay",
              "size": 10,
              "solidity": 0.2
             }
            },
            "type": "histogram"
           }
          ],
          "histogram2d": [
           {
            "colorbar": {
             "outlinewidth": 0,
             "ticks": ""
            },
            "colorscale": [
             [
              0,
              "#0d0887"
             ],
             [
              0.1111111111111111,
              "#46039f"
             ],
             [
              0.2222222222222222,
              "#7201a8"
             ],
             [
              0.3333333333333333,
              "#9c179e"
             ],
             [
              0.4444444444444444,
              "#bd3786"
             ],
             [
              0.5555555555555556,
              "#d8576b"
             ],
             [
              0.6666666666666666,
              "#ed7953"
             ],
             [
              0.7777777777777778,
              "#fb9f3a"
             ],
             [
              0.8888888888888888,
              "#fdca26"
             ],
             [
              1,
              "#f0f921"
             ]
            ],
            "type": "histogram2d"
           }
          ],
          "histogram2dcontour": [
           {
            "colorbar": {
             "outlinewidth": 0,
             "ticks": ""
            },
            "colorscale": [
             [
              0,
              "#0d0887"
             ],
             [
              0.1111111111111111,
              "#46039f"
             ],
             [
              0.2222222222222222,
              "#7201a8"
             ],
             [
              0.3333333333333333,
              "#9c179e"
             ],
             [
              0.4444444444444444,
              "#bd3786"
             ],
             [
              0.5555555555555556,
              "#d8576b"
             ],
             [
              0.6666666666666666,
              "#ed7953"
             ],
             [
              0.7777777777777778,
              "#fb9f3a"
             ],
             [
              0.8888888888888888,
              "#fdca26"
             ],
             [
              1,
              "#f0f921"
             ]
            ],
            "type": "histogram2dcontour"
           }
          ],
          "mesh3d": [
           {
            "colorbar": {
             "outlinewidth": 0,
             "ticks": ""
            },
            "type": "mesh3d"
           }
          ],
          "parcoords": [
           {
            "line": {
             "colorbar": {
              "outlinewidth": 0,
              "ticks": ""
             }
            },
            "type": "parcoords"
           }
          ],
          "pie": [
           {
            "automargin": true,
            "type": "pie"
           }
          ],
          "scatter": [
           {
            "fillpattern": {
             "fillmode": "overlay",
             "size": 10,
             "solidity": 0.2
            },
            "type": "scatter"
           }
          ],
          "scatter3d": [
           {
            "line": {
             "colorbar": {
              "outlinewidth": 0,
              "ticks": ""
             }
            },
            "marker": {
             "colorbar": {
              "outlinewidth": 0,
              "ticks": ""
             }
            },
            "type": "scatter3d"
           }
          ],
          "scattercarpet": [
           {
            "marker": {
             "colorbar": {
              "outlinewidth": 0,
              "ticks": ""
             }
            },
            "type": "scattercarpet"
           }
          ],
          "scattergeo": [
           {
            "marker": {
             "colorbar": {
              "outlinewidth": 0,
              "ticks": ""
             }
            },
            "type": "scattergeo"
           }
          ],
          "scattergl": [
           {
            "marker": {
             "colorbar": {
              "outlinewidth": 0,
              "ticks": ""
             }
            },
            "type": "scattergl"
           }
          ],
          "scattermapbox": [
           {
            "marker": {
             "colorbar": {
              "outlinewidth": 0,
              "ticks": ""
             }
            },
            "type": "scattermapbox"
           }
          ],
          "scatterpolar": [
           {
            "marker": {
             "colorbar": {
              "outlinewidth": 0,
              "ticks": ""
             }
            },
            "type": "scatterpolar"
           }
          ],
          "scatterpolargl": [
           {
            "marker": {
             "colorbar": {
              "outlinewidth": 0,
              "ticks": ""
             }
            },
            "type": "scatterpolargl"
           }
          ],
          "scatterternary": [
           {
            "marker": {
             "colorbar": {
              "outlinewidth": 0,
              "ticks": ""
             }
            },
            "type": "scatterternary"
           }
          ],
          "surface": [
           {
            "colorbar": {
             "outlinewidth": 0,
             "ticks": ""
            },
            "colorscale": [
             [
              0,
              "#0d0887"
             ],
             [
              0.1111111111111111,
              "#46039f"
             ],
             [
              0.2222222222222222,
              "#7201a8"
             ],
             [
              0.3333333333333333,
              "#9c179e"
             ],
             [
              0.4444444444444444,
              "#bd3786"
             ],
             [
              0.5555555555555556,
              "#d8576b"
             ],
             [
              0.6666666666666666,
              "#ed7953"
             ],
             [
              0.7777777777777778,
              "#fb9f3a"
             ],
             [
              0.8888888888888888,
              "#fdca26"
             ],
             [
              1,
              "#f0f921"
             ]
            ],
            "type": "surface"
           }
          ],
          "table": [
           {
            "cells": {
             "fill": {
              "color": "#EBF0F8"
             },
             "line": {
              "color": "white"
             }
            },
            "header": {
             "fill": {
              "color": "#C8D4E3"
             },
             "line": {
              "color": "white"
             }
            },
            "type": "table"
           }
          ]
         },
         "layout": {
          "annotationdefaults": {
           "arrowcolor": "#2a3f5f",
           "arrowhead": 0,
           "arrowwidth": 1
          },
          "autotypenumbers": "strict",
          "coloraxis": {
           "colorbar": {
            "outlinewidth": 0,
            "ticks": ""
           }
          },
          "colorscale": {
           "diverging": [
            [
             0,
             "#8e0152"
            ],
            [
             0.1,
             "#c51b7d"
            ],
            [
             0.2,
             "#de77ae"
            ],
            [
             0.3,
             "#f1b6da"
            ],
            [
             0.4,
             "#fde0ef"
            ],
            [
             0.5,
             "#f7f7f7"
            ],
            [
             0.6,
             "#e6f5d0"
            ],
            [
             0.7,
             "#b8e186"
            ],
            [
             0.8,
             "#7fbc41"
            ],
            [
             0.9,
             "#4d9221"
            ],
            [
             1,
             "#276419"
            ]
           ],
           "sequential": [
            [
             0,
             "#0d0887"
            ],
            [
             0.1111111111111111,
             "#46039f"
            ],
            [
             0.2222222222222222,
             "#7201a8"
            ],
            [
             0.3333333333333333,
             "#9c179e"
            ],
            [
             0.4444444444444444,
             "#bd3786"
            ],
            [
             0.5555555555555556,
             "#d8576b"
            ],
            [
             0.6666666666666666,
             "#ed7953"
            ],
            [
             0.7777777777777778,
             "#fb9f3a"
            ],
            [
             0.8888888888888888,
             "#fdca26"
            ],
            [
             1,
             "#f0f921"
            ]
           ],
           "sequentialminus": [
            [
             0,
             "#0d0887"
            ],
            [
             0.1111111111111111,
             "#46039f"
            ],
            [
             0.2222222222222222,
             "#7201a8"
            ],
            [
             0.3333333333333333,
             "#9c179e"
            ],
            [
             0.4444444444444444,
             "#bd3786"
            ],
            [
             0.5555555555555556,
             "#d8576b"
            ],
            [
             0.6666666666666666,
             "#ed7953"
            ],
            [
             0.7777777777777778,
             "#fb9f3a"
            ],
            [
             0.8888888888888888,
             "#fdca26"
            ],
            [
             1,
             "#f0f921"
            ]
           ]
          },
          "colorway": [
           "#636efa",
           "#EF553B",
           "#00cc96",
           "#ab63fa",
           "#FFA15A",
           "#19d3f3",
           "#FF6692",
           "#B6E880",
           "#FF97FF",
           "#FECB52"
          ],
          "font": {
           "color": "#2a3f5f"
          },
          "geo": {
           "bgcolor": "white",
           "lakecolor": "white",
           "landcolor": "#E5ECF6",
           "showlakes": true,
           "showland": true,
           "subunitcolor": "white"
          },
          "hoverlabel": {
           "align": "left"
          },
          "hovermode": "closest",
          "mapbox": {
           "style": "light"
          },
          "paper_bgcolor": "white",
          "plot_bgcolor": "#E5ECF6",
          "polar": {
           "angularaxis": {
            "gridcolor": "white",
            "linecolor": "white",
            "ticks": ""
           },
           "bgcolor": "#E5ECF6",
           "radialaxis": {
            "gridcolor": "white",
            "linecolor": "white",
            "ticks": ""
           }
          },
          "scene": {
           "xaxis": {
            "backgroundcolor": "#E5ECF6",
            "gridcolor": "white",
            "gridwidth": 2,
            "linecolor": "white",
            "showbackground": true,
            "ticks": "",
            "zerolinecolor": "white"
           },
           "yaxis": {
            "backgroundcolor": "#E5ECF6",
            "gridcolor": "white",
            "gridwidth": 2,
            "linecolor": "white",
            "showbackground": true,
            "ticks": "",
            "zerolinecolor": "white"
           },
           "zaxis": {
            "backgroundcolor": "#E5ECF6",
            "gridcolor": "white",
            "gridwidth": 2,
            "linecolor": "white",
            "showbackground": true,
            "ticks": "",
            "zerolinecolor": "white"
           }
          },
          "shapedefaults": {
           "line": {
            "color": "#2a3f5f"
           }
          },
          "ternary": {
           "aaxis": {
            "gridcolor": "white",
            "linecolor": "white",
            "ticks": ""
           },
           "baxis": {
            "gridcolor": "white",
            "linecolor": "white",
            "ticks": ""
           },
           "bgcolor": "#E5ECF6",
           "caxis": {
            "gridcolor": "white",
            "linecolor": "white",
            "ticks": ""
           }
          },
          "title": {
           "x": 0.05
          },
          "xaxis": {
           "automargin": true,
           "gridcolor": "white",
           "linecolor": "white",
           "ticks": "",
           "title": {
            "standoff": 15
           },
           "zerolinecolor": "white",
           "zerolinewidth": 2
          },
          "yaxis": {
           "automargin": true,
           "gridcolor": "white",
           "linecolor": "white",
           "ticks": "",
           "title": {
            "standoff": 15
           },
           "zerolinecolor": "white",
           "zerolinewidth": 2
          }
         }
        },
        "title": {
         "text": "Community Total Annual Savings"
        },
        "width": 1100,
        "xaxis": {
         "anchor": "y",
         "domain": [
          0,
          0.00007998400319936014
         ],
         "tickangle": 45,
         "title": {
          "text": ""
         },
         "visible": false
        },
        "xaxis2": {
         "anchor": "y2",
         "domain": [
          0.12007998400319936,
          0.2000639872025595
         ],
         "tickangle": 45,
         "title": {
          "text": "Bill<br>Savings<br>usd"
         },
         "visible": true
        },
        "xaxis3": {
         "anchor": "y3",
         "domain": [
          0.32006398720255946,
          0.40004799040191963
         ],
         "tickangle": 45,
         "title": {
          "text": "Site Emission<br>Saving<br>kgCO2e"
         },
         "visible": true
        },
        "xaxis4": {
         "anchor": "y4",
         "domain": [
          0.5200479904019196,
          0.6000319936012798
         ],
         "tickangle": 45,
         "title": {
          "text": "Site Energy<br>Saving<br>mmbtu"
         },
         "visible": true
        },
        "xaxis5": {
         "anchor": "y5",
         "domain": [
          0.7200319936012798,
          0.80001599680064
         ],
         "tickangle": 45,
         "title": {
          "text": "Electricity<br>Saving<br>kwh"
         },
         "visible": true
        },
        "xaxis6": {
         "anchor": "y6",
         "domain": [
          0.9200159968006398,
          1
         ],
         "tickangle": 45,
         "title": {
          "text": "Gas, Propane,<br>Fuel Oil Saving<br>mmbtu"
         },
         "visible": true
        },
        "yaxis": {
         "anchor": "x",
         "domain": [
          0,
          1
         ],
         "visible": true
        },
        "yaxis2": {
         "anchor": "x2",
         "domain": [
          0,
          1
         ],
         "visible": false
        },
        "yaxis3": {
         "anchor": "x3",
         "domain": [
          0,
          1
         ],
         "visible": false
        },
        "yaxis4": {
         "anchor": "x4",
         "domain": [
          0,
          1
         ],
         "visible": false
        },
        "yaxis5": {
         "anchor": "x5",
         "domain": [
          0,
          1
         ],
         "visible": false
        },
        "yaxis6": {
         "anchor": "x6",
         "domain": [
          0,
          1
         ],
         "visible": false
        }
       }
      }
     },
     "metadata": {},
     "output_type": "display_data"
    }
   ],
   "source": [
    "results = figure_total_savings_2(community_results)\n",
    "saving_results[['whole_community_saving_bill_total_usd','whole_community_saving_emission_total_kgCO2e','whole_community_saving_energy_total_mmbtu','whole_community_saving_electricity_total_kwh','whole_community_saving_natural_gas_fuel_oil_propane_total_mmbtu']] = results"
   ]
  },
  {
   "cell_type": "code",
   "execution_count": 16,
   "id": "e7ef5df2",
   "metadata": {},
   "outputs": [
    {
     "data": {
      "application/vnd.plotly.v1+json": {
       "config": {
        "plotlyServerURL": "https://plot.ly"
       },
       "data": [
        {
         "cliponaxis": false,
         "marker": {
          "color": "rgb(255, 255, 255)",
          "line": {
           "color": "rgb(255, 255, 255)"
          }
         },
         "orientation": "h",
         "textangle": 0,
         "textfont": {
          "size": 10
         },
         "textposition": "outside",
         "type": "bar",
         "x": [
          0,
          0,
          0,
          0,
          0,
          0,
          0,
          0,
          0,
          0,
          0,
          0,
          0,
          0,
          0,
          0,
          0,
          0,
          0,
          0,
          0,
          0,
          0,
          0,
          0,
          0,
          0,
          0,
          0,
          0,
          0,
          0,
          0,
          0,
          0,
          0,
          0,
          0,
          0,
          0,
          0,
          0,
          0,
          0,
          0,
          0,
          0,
          0,
          0,
          0,
          0,
          0,
          0,
          0,
          0,
          0,
          0,
          0,
          0,
          0,
          0,
          0,
          0,
          0,
          0,
          0,
          0,
          0,
          0,
          0,
          0,
          0,
          0,
          0,
          0,
          0,
          0,
          0,
          0,
          0,
          0,
          0,
          0,
          0,
          0,
          0,
          0,
          0,
          0,
          0,
          0,
          0,
          0,
          0,
          0,
          0,
          0,
          0,
          0,
          0,
          0,
          0,
          0,
          0,
          0,
          0,
          0,
          0,
          0,
          0,
          0,
          0,
          0,
          0,
          0,
          0,
          0,
          0,
          0,
          0,
          0,
          0,
          0,
          0,
          0,
          0,
          0,
          0,
          0,
          0,
          0,
          0,
          0,
          0,
          0,
          0,
          0,
          0,
          0,
          0,
          0,
          0,
          0,
          0,
          0,
          0,
          0,
          0,
          0,
          0,
          0,
          0,
          0,
          0,
          0,
          0,
          0,
          0,
          0,
          0,
          0,
          0,
          0,
          0,
          0,
          0,
          0,
          0,
          0,
          0,
          0,
          0,
          0,
          0,
          0,
          0
         ],
         "xaxis": "x",
         "y": [
          "Mininum Efficiency Heat Pump with Existing Heat Backup",
          "Mininum Efficiency Heat Pump with Electric Heat Backup",
          "Electric Clothes Dryer",
          "Electric Cooking",
          "Induction Cooking",
          "Heat Pump Clothes Dryer",
          "High Efficiency Heat Pump with Electric Heat Backup",
          "Mininum Efficiency Whole Home Electrification",
          "Heat Pump Water Heater",
          "Basic Enclosure",
          "Enhanced Enclosure",
          "High Efficiency Whole Home Electrification",
          "Basic Enclosure + HPWH + High Efficiency HP/Electric Backup",
          "Enhanced Enclosure + HPWH + High Efficiency HP/Electric Backup",
          "Basic Enclosure + High Efficiency Whole Home Electrification",
          "Enhanced Enclosure + High Efficiency Whole Home Electrification"
         ],
         "yaxis": "y"
        },
        {
         "cliponaxis": false,
         "marker": {
          "color": "rgb(0, 121, 61)",
          "line": {
           "color": "rgb(0, 121, 61)"
          }
         },
         "orientation": "h",
         "text": [
          -4642880.137388919,
          -4123082.7337498674,
          -520096.7784118043,
          236402.39177044766,
          731641.6470747123,
          2205067.301103392,
          10024140.157818478,
          11906336.949530205,
          13299328.248460013,
          15104347.138046505,
          16677799.010886416,
          31479545.637085635,
          33567214.94896425,
          33892826.37013001,
          36998985.15585126,
          37324596.57701702
         ],
         "textangle": 0,
         "textfont": {
          "size": 10
         },
         "textposition": "outside",
         "texttemplate": "%{text:.3s}",
         "type": "bar",
         "x": [
          -4642880.137388919,
          -4123082.7337498674,
          -520096.7784118043,
          236402.39177044766,
          731641.6470747123,
          2205067.301103392,
          10024140.157818478,
          11906336.949530205,
          13299328.248460013,
          15104347.138046505,
          16677799.010886416,
          31479545.637085635,
          33567214.94896425,
          33892826.37013001,
          36998985.15585126,
          37324596.57701702
         ],
         "xaxis": "x2",
         "y": [
          "Mininum Efficiency Heat Pump with Existing Heat Backup",
          "Mininum Efficiency Heat Pump with Electric Heat Backup",
          "Electric Clothes Dryer",
          "Electric Cooking",
          "Induction Cooking",
          "Heat Pump Clothes Dryer",
          "High Efficiency Heat Pump with Electric Heat Backup",
          "Mininum Efficiency Whole Home Electrification",
          "Heat Pump Water Heater",
          "Basic Enclosure",
          "Enhanced Enclosure",
          "High Efficiency Whole Home Electrification",
          "Basic Enclosure + HPWH + High Efficiency HP/Electric Backup",
          "Enhanced Enclosure + HPWH + High Efficiency HP/Electric Backup",
          "Basic Enclosure + High Efficiency Whole Home Electrification",
          "Enhanced Enclosure + High Efficiency Whole Home Electrification"
         ],
         "yaxis": "y2"
        },
        {
         "cliponaxis": false,
         "marker": {
          "color": "rgb(0, 121, 61)",
          "line": {
           "color": "rgb(0, 121, 61)"
          }
         },
         "orientation": "h",
         "text": [
          37815932.06423375,
          41801680.211664364,
          2239565.7100315965,
          9810472.12248743,
          10057520.707344683,
          3492738.9007866527,
          49040357.815909214,
          117298721.31593601,
          56532751.815031946,
          33863198.12967563,
          37666864.08920914,
          128879302.14707498,
          118284099.49171813,
          118494274.35300097,
          131834359.09984946,
          132044533.9611323
         ],
         "textangle": 0,
         "textfont": {
          "size": 10
         },
         "textposition": "outside",
         "texttemplate": "%{text:.3s}",
         "type": "bar",
         "x": [
          37815932.06423375,
          41801680.211664364,
          2239565.7100315965,
          9810472.12248743,
          10057520.707344683,
          3492738.9007866527,
          49040357.815909214,
          117298721.31593601,
          56532751.815031946,
          33863198.12967563,
          37666864.08920914,
          128879302.14707498,
          118284099.49171813,
          118494274.35300097,
          131834359.09984946,
          132044533.9611323
         ],
         "xaxis": "x3",
         "y": [
          "Mininum Efficiency Heat Pump with Existing Heat Backup",
          "Mininum Efficiency Heat Pump with Electric Heat Backup",
          "Electric Clothes Dryer",
          "Electric Cooking",
          "Induction Cooking",
          "Heat Pump Clothes Dryer",
          "High Efficiency Heat Pump with Electric Heat Backup",
          "Mininum Efficiency Whole Home Electrification",
          "Heat Pump Water Heater",
          "Basic Enclosure",
          "Enhanced Enclosure",
          "High Efficiency Whole Home Electrification",
          "Basic Enclosure + HPWH + High Efficiency HP/Electric Backup",
          "Enhanced Enclosure + HPWH + High Efficiency HP/Electric Backup",
          "Basic Enclosure + High Efficiency Whole Home Electrification",
          "Enhanced Enclosure + High Efficiency Whole Home Electrification"
         ],
         "yaxis": "y3"
        },
        {
         "cliponaxis": false,
         "marker": {
          "color": "rgb(0, 121, 61)",
          "line": {
           "color": "rgb(0, 121, 61)"
          }
         },
         "orientation": "h",
         "text": [
          244339.97932946452,
          292720.2362951995,
          10127.745172795474,
          91558.82791956607,
          102924.15878600032,
          72668.83648863975,
          617330.85756501,
          1284341.509356973,
          766252.6724338824,
          578941.793862635,
          641648.136084635,
          1733538.5793874848,
          1684614.2940490192,
          1692087.1080249483,
          1860207.2893236591,
          1867680.1032995884
         ],
         "textangle": 0,
         "textfont": {
          "size": 10
         },
         "textposition": "outside",
         "texttemplate": "%{text:.3s}",
         "type": "bar",
         "x": [
          244339.97932946452,
          292720.2362951995,
          10127.745172795474,
          91558.82791956607,
          102924.15878600032,
          72668.83648863975,
          617330.85756501,
          1284341.509356973,
          766252.6724338824,
          578941.793862635,
          641648.136084635,
          1733538.5793874848,
          1684614.2940490192,
          1692087.1080249483,
          1860207.2893236591,
          1867680.1032995884
         ],
         "xaxis": "x4",
         "y": [
          "Mininum Efficiency Heat Pump with Existing Heat Backup",
          "Mininum Efficiency Heat Pump with Electric Heat Backup",
          "Electric Clothes Dryer",
          "Electric Cooking",
          "Induction Cooking",
          "Heat Pump Clothes Dryer",
          "High Efficiency Heat Pump with Electric Heat Backup",
          "Mininum Efficiency Whole Home Electrification",
          "Heat Pump Water Heater",
          "Basic Enclosure",
          "Enhanced Enclosure",
          "High Efficiency Whole Home Electrification",
          "Basic Enclosure + HPWH + High Efficiency HP/Electric Backup",
          "Enhanced Enclosure + HPWH + High Efficiency HP/Electric Backup",
          "Basic Enclosure + High Efficiency Whole Home Electrification",
          "Enhanced Enclosure + High Efficiency Whole Home Electrification"
         ],
         "yaxis": "y4"
        }
       ],
       "layout": {
        "autosize": false,
        "font": {
         "size": 10
        },
        "height": 500,
        "plot_bgcolor": "rgba(0, 0, 0, 0)",
        "showlegend": false,
        "template": {
         "data": {
          "bar": [
           {
            "error_x": {
             "color": "#2a3f5f"
            },
            "error_y": {
             "color": "#2a3f5f"
            },
            "marker": {
             "line": {
              "color": "#E5ECF6",
              "width": 0.5
             },
             "pattern": {
              "fillmode": "overlay",
              "size": 10,
              "solidity": 0.2
             }
            },
            "type": "bar"
           }
          ],
          "barpolar": [
           {
            "marker": {
             "line": {
              "color": "#E5ECF6",
              "width": 0.5
             },
             "pattern": {
              "fillmode": "overlay",
              "size": 10,
              "solidity": 0.2
             }
            },
            "type": "barpolar"
           }
          ],
          "carpet": [
           {
            "aaxis": {
             "endlinecolor": "#2a3f5f",
             "gridcolor": "white",
             "linecolor": "white",
             "minorgridcolor": "white",
             "startlinecolor": "#2a3f5f"
            },
            "baxis": {
             "endlinecolor": "#2a3f5f",
             "gridcolor": "white",
             "linecolor": "white",
             "minorgridcolor": "white",
             "startlinecolor": "#2a3f5f"
            },
            "type": "carpet"
           }
          ],
          "choropleth": [
           {
            "colorbar": {
             "outlinewidth": 0,
             "ticks": ""
            },
            "type": "choropleth"
           }
          ],
          "contour": [
           {
            "colorbar": {
             "outlinewidth": 0,
             "ticks": ""
            },
            "colorscale": [
             [
              0,
              "#0d0887"
             ],
             [
              0.1111111111111111,
              "#46039f"
             ],
             [
              0.2222222222222222,
              "#7201a8"
             ],
             [
              0.3333333333333333,
              "#9c179e"
             ],
             [
              0.4444444444444444,
              "#bd3786"
             ],
             [
              0.5555555555555556,
              "#d8576b"
             ],
             [
              0.6666666666666666,
              "#ed7953"
             ],
             [
              0.7777777777777778,
              "#fb9f3a"
             ],
             [
              0.8888888888888888,
              "#fdca26"
             ],
             [
              1,
              "#f0f921"
             ]
            ],
            "type": "contour"
           }
          ],
          "contourcarpet": [
           {
            "colorbar": {
             "outlinewidth": 0,
             "ticks": ""
            },
            "type": "contourcarpet"
           }
          ],
          "heatmap": [
           {
            "colorbar": {
             "outlinewidth": 0,
             "ticks": ""
            },
            "colorscale": [
             [
              0,
              "#0d0887"
             ],
             [
              0.1111111111111111,
              "#46039f"
             ],
             [
              0.2222222222222222,
              "#7201a8"
             ],
             [
              0.3333333333333333,
              "#9c179e"
             ],
             [
              0.4444444444444444,
              "#bd3786"
             ],
             [
              0.5555555555555556,
              "#d8576b"
             ],
             [
              0.6666666666666666,
              "#ed7953"
             ],
             [
              0.7777777777777778,
              "#fb9f3a"
             ],
             [
              0.8888888888888888,
              "#fdca26"
             ],
             [
              1,
              "#f0f921"
             ]
            ],
            "type": "heatmap"
           }
          ],
          "heatmapgl": [
           {
            "colorbar": {
             "outlinewidth": 0,
             "ticks": ""
            },
            "colorscale": [
             [
              0,
              "#0d0887"
             ],
             [
              0.1111111111111111,
              "#46039f"
             ],
             [
              0.2222222222222222,
              "#7201a8"
             ],
             [
              0.3333333333333333,
              "#9c179e"
             ],
             [
              0.4444444444444444,
              "#bd3786"
             ],
             [
              0.5555555555555556,
              "#d8576b"
             ],
             [
              0.6666666666666666,
              "#ed7953"
             ],
             [
              0.7777777777777778,
              "#fb9f3a"
             ],
             [
              0.8888888888888888,
              "#fdca26"
             ],
             [
              1,
              "#f0f921"
             ]
            ],
            "type": "heatmapgl"
           }
          ],
          "histogram": [
           {
            "marker": {
             "pattern": {
              "fillmode": "overlay",
              "size": 10,
              "solidity": 0.2
             }
            },
            "type": "histogram"
           }
          ],
          "histogram2d": [
           {
            "colorbar": {
             "outlinewidth": 0,
             "ticks": ""
            },
            "colorscale": [
             [
              0,
              "#0d0887"
             ],
             [
              0.1111111111111111,
              "#46039f"
             ],
             [
              0.2222222222222222,
              "#7201a8"
             ],
             [
              0.3333333333333333,
              "#9c179e"
             ],
             [
              0.4444444444444444,
              "#bd3786"
             ],
             [
              0.5555555555555556,
              "#d8576b"
             ],
             [
              0.6666666666666666,
              "#ed7953"
             ],
             [
              0.7777777777777778,
              "#fb9f3a"
             ],
             [
              0.8888888888888888,
              "#fdca26"
             ],
             [
              1,
              "#f0f921"
             ]
            ],
            "type": "histogram2d"
           }
          ],
          "histogram2dcontour": [
           {
            "colorbar": {
             "outlinewidth": 0,
             "ticks": ""
            },
            "colorscale": [
             [
              0,
              "#0d0887"
             ],
             [
              0.1111111111111111,
              "#46039f"
             ],
             [
              0.2222222222222222,
              "#7201a8"
             ],
             [
              0.3333333333333333,
              "#9c179e"
             ],
             [
              0.4444444444444444,
              "#bd3786"
             ],
             [
              0.5555555555555556,
              "#d8576b"
             ],
             [
              0.6666666666666666,
              "#ed7953"
             ],
             [
              0.7777777777777778,
              "#fb9f3a"
             ],
             [
              0.8888888888888888,
              "#fdca26"
             ],
             [
              1,
              "#f0f921"
             ]
            ],
            "type": "histogram2dcontour"
           }
          ],
          "mesh3d": [
           {
            "colorbar": {
             "outlinewidth": 0,
             "ticks": ""
            },
            "type": "mesh3d"
           }
          ],
          "parcoords": [
           {
            "line": {
             "colorbar": {
              "outlinewidth": 0,
              "ticks": ""
             }
            },
            "type": "parcoords"
           }
          ],
          "pie": [
           {
            "automargin": true,
            "type": "pie"
           }
          ],
          "scatter": [
           {
            "fillpattern": {
             "fillmode": "overlay",
             "size": 10,
             "solidity": 0.2
            },
            "type": "scatter"
           }
          ],
          "scatter3d": [
           {
            "line": {
             "colorbar": {
              "outlinewidth": 0,
              "ticks": ""
             }
            },
            "marker": {
             "colorbar": {
              "outlinewidth": 0,
              "ticks": ""
             }
            },
            "type": "scatter3d"
           }
          ],
          "scattercarpet": [
           {
            "marker": {
             "colorbar": {
              "outlinewidth": 0,
              "ticks": ""
             }
            },
            "type": "scattercarpet"
           }
          ],
          "scattergeo": [
           {
            "marker": {
             "colorbar": {
              "outlinewidth": 0,
              "ticks": ""
             }
            },
            "type": "scattergeo"
           }
          ],
          "scattergl": [
           {
            "marker": {
             "colorbar": {
              "outlinewidth": 0,
              "ticks": ""
             }
            },
            "type": "scattergl"
           }
          ],
          "scattermapbox": [
           {
            "marker": {
             "colorbar": {
              "outlinewidth": 0,
              "ticks": ""
             }
            },
            "type": "scattermapbox"
           }
          ],
          "scatterpolar": [
           {
            "marker": {
             "colorbar": {
              "outlinewidth": 0,
              "ticks": ""
             }
            },
            "type": "scatterpolar"
           }
          ],
          "scatterpolargl": [
           {
            "marker": {
             "colorbar": {
              "outlinewidth": 0,
              "ticks": ""
             }
            },
            "type": "scatterpolargl"
           }
          ],
          "scatterternary": [
           {
            "marker": {
             "colorbar": {
              "outlinewidth": 0,
              "ticks": ""
             }
            },
            "type": "scatterternary"
           }
          ],
          "surface": [
           {
            "colorbar": {
             "outlinewidth": 0,
             "ticks": ""
            },
            "colorscale": [
             [
              0,
              "#0d0887"
             ],
             [
              0.1111111111111111,
              "#46039f"
             ],
             [
              0.2222222222222222,
              "#7201a8"
             ],
             [
              0.3333333333333333,
              "#9c179e"
             ],
             [
              0.4444444444444444,
              "#bd3786"
             ],
             [
              0.5555555555555556,
              "#d8576b"
             ],
             [
              0.6666666666666666,
              "#ed7953"
             ],
             [
              0.7777777777777778,
              "#fb9f3a"
             ],
             [
              0.8888888888888888,
              "#fdca26"
             ],
             [
              1,
              "#f0f921"
             ]
            ],
            "type": "surface"
           }
          ],
          "table": [
           {
            "cells": {
             "fill": {
              "color": "#EBF0F8"
             },
             "line": {
              "color": "white"
             }
            },
            "header": {
             "fill": {
              "color": "#C8D4E3"
             },
             "line": {
              "color": "white"
             }
            },
            "type": "table"
           }
          ]
         },
         "layout": {
          "annotationdefaults": {
           "arrowcolor": "#2a3f5f",
           "arrowhead": 0,
           "arrowwidth": 1
          },
          "autotypenumbers": "strict",
          "coloraxis": {
           "colorbar": {
            "outlinewidth": 0,
            "ticks": ""
           }
          },
          "colorscale": {
           "diverging": [
            [
             0,
             "#8e0152"
            ],
            [
             0.1,
             "#c51b7d"
            ],
            [
             0.2,
             "#de77ae"
            ],
            [
             0.3,
             "#f1b6da"
            ],
            [
             0.4,
             "#fde0ef"
            ],
            [
             0.5,
             "#f7f7f7"
            ],
            [
             0.6,
             "#e6f5d0"
            ],
            [
             0.7,
             "#b8e186"
            ],
            [
             0.8,
             "#7fbc41"
            ],
            [
             0.9,
             "#4d9221"
            ],
            [
             1,
             "#276419"
            ]
           ],
           "sequential": [
            [
             0,
             "#0d0887"
            ],
            [
             0.1111111111111111,
             "#46039f"
            ],
            [
             0.2222222222222222,
             "#7201a8"
            ],
            [
             0.3333333333333333,
             "#9c179e"
            ],
            [
             0.4444444444444444,
             "#bd3786"
            ],
            [
             0.5555555555555556,
             "#d8576b"
            ],
            [
             0.6666666666666666,
             "#ed7953"
            ],
            [
             0.7777777777777778,
             "#fb9f3a"
            ],
            [
             0.8888888888888888,
             "#fdca26"
            ],
            [
             1,
             "#f0f921"
            ]
           ],
           "sequentialminus": [
            [
             0,
             "#0d0887"
            ],
            [
             0.1111111111111111,
             "#46039f"
            ],
            [
             0.2222222222222222,
             "#7201a8"
            ],
            [
             0.3333333333333333,
             "#9c179e"
            ],
            [
             0.4444444444444444,
             "#bd3786"
            ],
            [
             0.5555555555555556,
             "#d8576b"
            ],
            [
             0.6666666666666666,
             "#ed7953"
            ],
            [
             0.7777777777777778,
             "#fb9f3a"
            ],
            [
             0.8888888888888888,
             "#fdca26"
            ],
            [
             1,
             "#f0f921"
            ]
           ]
          },
          "colorway": [
           "#636efa",
           "#EF553B",
           "#00cc96",
           "#ab63fa",
           "#FFA15A",
           "#19d3f3",
           "#FF6692",
           "#B6E880",
           "#FF97FF",
           "#FECB52"
          ],
          "font": {
           "color": "#2a3f5f"
          },
          "geo": {
           "bgcolor": "white",
           "lakecolor": "white",
           "landcolor": "#E5ECF6",
           "showlakes": true,
           "showland": true,
           "subunitcolor": "white"
          },
          "hoverlabel": {
           "align": "left"
          },
          "hovermode": "closest",
          "mapbox": {
           "style": "light"
          },
          "paper_bgcolor": "white",
          "plot_bgcolor": "#E5ECF6",
          "polar": {
           "angularaxis": {
            "gridcolor": "white",
            "linecolor": "white",
            "ticks": ""
           },
           "bgcolor": "#E5ECF6",
           "radialaxis": {
            "gridcolor": "white",
            "linecolor": "white",
            "ticks": ""
           }
          },
          "scene": {
           "xaxis": {
            "backgroundcolor": "#E5ECF6",
            "gridcolor": "white",
            "gridwidth": 2,
            "linecolor": "white",
            "showbackground": true,
            "ticks": "",
            "zerolinecolor": "white"
           },
           "yaxis": {
            "backgroundcolor": "#E5ECF6",
            "gridcolor": "white",
            "gridwidth": 2,
            "linecolor": "white",
            "showbackground": true,
            "ticks": "",
            "zerolinecolor": "white"
           },
           "zaxis": {
            "backgroundcolor": "#E5ECF6",
            "gridcolor": "white",
            "gridwidth": 2,
            "linecolor": "white",
            "showbackground": true,
            "ticks": "",
            "zerolinecolor": "white"
           }
          },
          "shapedefaults": {
           "line": {
            "color": "#2a3f5f"
           }
          },
          "ternary": {
           "aaxis": {
            "gridcolor": "white",
            "linecolor": "white",
            "ticks": ""
           },
           "baxis": {
            "gridcolor": "white",
            "linecolor": "white",
            "ticks": ""
           },
           "bgcolor": "#E5ECF6",
           "caxis": {
            "gridcolor": "white",
            "linecolor": "white",
            "ticks": ""
           }
          },
          "title": {
           "x": 0.05
          },
          "xaxis": {
           "automargin": true,
           "gridcolor": "white",
           "linecolor": "white",
           "ticks": "",
           "title": {
            "standoff": 15
           },
           "zerolinecolor": "white",
           "zerolinewidth": 2
          },
          "yaxis": {
           "automargin": true,
           "gridcolor": "white",
           "linecolor": "white",
           "ticks": "",
           "title": {
            "standoff": 15
           },
           "zerolinecolor": "white",
           "zerolinewidth": 2
          }
         }
        },
        "title": {
         "text": "Total Annual Savings for the Whole Community"
        },
        "width": 850,
        "xaxis": {
         "anchor": "y",
         "domain": [
          0,
          0.004635761589403973
         ],
         "tickangle": 45,
         "title": {
          "text": ""
         },
         "visible": false
        },
        "xaxis2": {
         "anchor": "y2",
         "domain": [
          0.10463576158940398,
          0.33642384105960266
         ],
         "tickangle": 45,
         "title": {
          "text": "Bill Savings<br>usd"
         },
         "visible": true
        },
        "xaxis3": {
         "anchor": "y3",
         "domain": [
          0.43642384105960264,
          0.6682119205298013
         ],
         "tickangle": 45,
         "title": {
          "text": "Emission Savings<br>kgCO2e"
         },
         "visible": true
        },
        "xaxis4": {
         "anchor": "y4",
         "domain": [
          0.7682119205298014,
          1
         ],
         "tickangle": 45,
         "title": {
          "text": "Energy Savings<br>mmbtu"
         },
         "visible": true
        },
        "yaxis": {
         "anchor": "x",
         "domain": [
          0,
          1
         ],
         "visible": true
        },
        "yaxis2": {
         "anchor": "x2",
         "domain": [
          0,
          1
         ],
         "visible": false
        },
        "yaxis3": {
         "anchor": "x3",
         "domain": [
          0,
          1
         ],
         "visible": false
        },
        "yaxis4": {
         "anchor": "x4",
         "domain": [
          0,
          1
         ],
         "visible": false
        }
       }
      }
     },
     "metadata": {},
     "output_type": "display_data"
    }
   ],
   "source": [
    "figure_total_savings_3(community_results) "
   ]
  },
  {
   "cell_type": "markdown",
   "id": "e25c8f8e",
   "metadata": {},
   "source": [
    "## 1.3 Annual Savings Per Dwelling Unit"
   ]
  },
  {
   "cell_type": "code",
   "execution_count": 17,
   "id": "9ba37c55",
   "metadata": {},
   "outputs": [
    {
     "name": "stdout",
     "output_type": "stream",
     "text": [
      "sample_weight\n"
     ]
    },
    {
     "data": {
      "text/plain": [
       "upgrade_name\n",
       "Mininum Efficiency Heat Pump with Existing Heat Backup             82906.438235\n",
       "Mininum Efficiency Heat Pump with Electric Heat Backup             83151.000000\n",
       "Electric Clothes Dryer                                             18029.580486\n",
       "Electric Cooking                                                   59015.195250\n",
       "Induction Cooking                                                  81474.190316\n",
       "Heat Pump Clothes Dryer                                            62477.933271\n",
       "High Efficiency Heat Pump with Electric Heat Backup                83151.000000\n",
       "Mininum Efficiency Whole Home Electrification                      79792.351765\n",
       "Heat Pump Water Heater                                             82682.256618\n",
       "Basic Enclosure                                                    77857.765018\n",
       "Enhanced Enclosure                                                 78981.181432\n",
       "High Efficiency Whole Home Electrification                         83151.000000\n",
       "Basic Enclosure + HPWH + High Efficiency HP/Electric Backup        83151.000000\n",
       "Enhanced Enclosure + HPWH + High Efficiency HP/Electric Backup     83151.000000\n",
       "Basic Enclosure + High Efficiency Whole Home Electrification       83151.000000\n",
       "Enhanced Enclosure + High Efficiency Whole Home Electrification    83151.000000\n",
       "Name: sample_weight, dtype: float64"
      ]
     },
     "metadata": {},
     "output_type": "display_data"
    },
    {
     "data": {
      "application/vnd.plotly.v1+json": {
       "config": {
        "plotlyServerURL": "https://plot.ly"
       },
       "data": [
        {
         "cliponaxis": false,
         "marker": {
          "color": "rgb(255, 255, 255)",
          "line": {
           "color": "rgb(255, 255, 255)"
          }
         },
         "orientation": "h",
         "textangle": 0,
         "textfont": {
          "size": 10
         },
         "textposition": "outside",
         "type": "bar",
         "x": [
          0,
          0,
          0,
          0,
          0,
          0,
          0,
          0,
          0,
          0,
          0,
          0,
          0,
          0,
          0,
          0,
          0,
          0,
          0,
          0,
          0,
          0,
          0,
          0,
          0,
          0,
          0,
          0,
          0,
          0,
          0,
          0,
          0,
          0,
          0,
          0,
          0,
          0,
          0,
          0,
          0,
          0,
          0,
          0,
          0,
          0,
          0,
          0,
          0,
          0,
          0,
          0,
          0,
          0,
          0,
          0,
          0,
          0,
          0,
          0,
          0,
          0,
          0,
          0,
          0,
          0,
          0,
          0,
          0,
          0,
          0,
          0,
          0,
          0,
          0,
          0,
          0,
          0,
          0,
          0,
          0,
          0,
          0,
          0,
          0,
          0,
          0,
          0,
          0,
          0,
          0,
          0,
          0,
          0,
          0,
          0,
          0,
          0,
          0,
          0,
          0,
          0,
          0,
          0,
          0,
          0,
          0,
          0,
          0,
          0,
          0,
          0,
          0,
          0,
          0,
          0,
          0,
          0,
          0,
          0,
          0,
          0,
          0,
          0,
          0,
          0,
          0,
          0,
          0,
          0,
          0,
          0,
          0,
          0,
          0,
          0,
          0,
          0,
          0,
          0,
          0,
          0,
          0,
          0,
          0,
          0,
          0,
          0,
          0,
          0,
          0,
          0,
          0,
          0,
          0,
          0,
          0,
          0,
          0,
          0,
          0,
          0,
          0,
          0,
          0,
          0,
          0,
          0,
          0,
          0,
          0,
          0,
          0,
          0,
          0,
          0
         ],
         "xaxis": "x",
         "y": [
          "Mininum Efficiency Heat Pump with Existing Heat Backup",
          "Mininum Efficiency Heat Pump with Electric Heat Backup",
          "Electric Clothes Dryer",
          "Electric Cooking",
          "Induction Cooking",
          "Heat Pump Clothes Dryer",
          "High Efficiency Heat Pump with Electric Heat Backup",
          "Mininum Efficiency Whole Home Electrification",
          "Heat Pump Water Heater",
          "Basic Enclosure",
          "Enhanced Enclosure",
          "High Efficiency Whole Home Electrification",
          "Basic Enclosure + HPWH + High Efficiency HP/Electric Backup",
          "Enhanced Enclosure + HPWH + High Efficiency HP/Electric Backup",
          "Basic Enclosure + High Efficiency Whole Home Electrification",
          "Enhanced Enclosure + High Efficiency Whole Home Electrification"
         ],
         "yaxis": "y"
        },
        {
         "cliponaxis": false,
         "marker": {
          "color": "rgb(0, 121, 61)",
          "line": {
           "color": "rgb(0, 121, 61)"
          }
         },
         "orientation": "h",
         "text": [
          -56.001442544330615,
          -49.585485848033905,
          -28.84685968245019,
          4.005788522273462,
          8.980041952381384,
          35.29353782472057,
          120.55345284865459,
          149.21651870394763,
          160.84863660604915,
          193.99923867085928,
          211.16168065053765,
          378.5828870017875,
          403.68985278546563,
          407.6057578397134,
          444.9613974077433,
          448.87730246199106
         ],
         "textangle": 0,
         "textfont": {
          "size": 10
         },
         "textposition": "outside",
         "texttemplate": "%{text:.3s}",
         "type": "bar",
         "x": [
          -56.001442544330615,
          -49.585485848033905,
          -28.84685968245019,
          4.005788522273462,
          8.980041952381384,
          35.29353782472057,
          120.55345284865459,
          149.21651870394763,
          160.84863660604915,
          193.99923867085928,
          211.16168065053765,
          378.5828870017875,
          403.68985278546563,
          407.6057578397134,
          444.9613974077433,
          448.87730246199106
         ],
         "xaxis": "x2",
         "y": [
          "Mininum Efficiency Heat Pump with Existing Heat Backup",
          "Mininum Efficiency Heat Pump with Electric Heat Backup",
          "Electric Clothes Dryer",
          "Electric Cooking",
          "Induction Cooking",
          "Heat Pump Clothes Dryer",
          "High Efficiency Heat Pump with Electric Heat Backup",
          "Mininum Efficiency Whole Home Electrification",
          "Heat Pump Water Heater",
          "Basic Enclosure",
          "Enhanced Enclosure",
          "High Efficiency Whole Home Electrification",
          "Basic Enclosure + HPWH + High Efficiency HP/Electric Backup",
          "Enhanced Enclosure + HPWH + High Efficiency HP/Electric Backup",
          "Basic Enclosure + High Efficiency Whole Home Electrification",
          "Enhanced Enclosure + High Efficiency Whole Home Electrification"
         ],
         "yaxis": "y2"
        },
        {
         "cliponaxis": false,
         "marker": {
          "color": "rgb(0, 121, 61)",
          "line": {
           "color": "rgb(0, 121, 61)"
          }
         },
         "orientation": "h",
         "text": [
          456.12780948217267,
          502.72011414973196,
          124.21618527264869,
          166.23637490310952,
          123.44425477965848,
          55.903560152156416,
          589.7747208801965,
          1470.0496817267656,
          683.7349889524669,
          434.9366838616756,
          476.9093524104081,
          1549.94290083192,
          1422.5216713174602,
          1425.0493001046407,
          1585.4813423753108,
          1588.0089711624912
         ],
         "textangle": 0,
         "textfont": {
          "size": 10
         },
         "textposition": "outside",
         "texttemplate": "%{text:.3s}",
         "type": "bar",
         "x": [
          456.12780948217267,
          502.72011414973196,
          124.21618527264869,
          166.23637490310952,
          123.44425477965848,
          55.903560152156416,
          589.7747208801965,
          1470.0496817267656,
          683.7349889524669,
          434.9366838616756,
          476.9093524104081,
          1549.94290083192,
          1422.5216713174602,
          1425.0493001046407,
          1585.4813423753108,
          1588.0089711624912
         ],
         "xaxis": "x3",
         "y": [
          "Mininum Efficiency Heat Pump with Existing Heat Backup",
          "Mininum Efficiency Heat Pump with Electric Heat Backup",
          "Electric Clothes Dryer",
          "Electric Cooking",
          "Induction Cooking",
          "Heat Pump Clothes Dryer",
          "High Efficiency Heat Pump with Electric Heat Backup",
          "Mininum Efficiency Whole Home Electrification",
          "Heat Pump Water Heater",
          "Basic Enclosure",
          "Enhanced Enclosure",
          "High Efficiency Whole Home Electrification",
          "Basic Enclosure + HPWH + High Efficiency HP/Electric Backup",
          "Enhanced Enclosure + HPWH + High Efficiency HP/Electric Backup",
          "Basic Enclosure + High Efficiency Whole Home Electrification",
          "Enhanced Enclosure + High Efficiency Whole Home Electrification"
         ],
         "yaxis": "y3"
        },
        {
         "cliponaxis": false,
         "marker": {
          "color": "rgb(0, 121, 61)",
          "line": {
           "color": "rgb(0, 121, 61)"
          }
         },
         "orientation": "h",
         "text": [
          2.947177378866657,
          3.5203453511707554,
          0.5617293858104245,
          1.5514449716276415,
          1.263273171377386,
          1.1631120410732465,
          7.424214472044954,
          16.096047816014725,
          9.26743782498964,
          7.435890225349967,
          8.124063535810361,
          20.848078548513968,
          20.25969975164483,
          20.34957015580027,
          22.371436174233132,
          22.461306578388577
         ],
         "textangle": 0,
         "textfont": {
          "size": 10
         },
         "textposition": "outside",
         "texttemplate": "%{text:.3s}",
         "type": "bar",
         "x": [
          2.947177378866657,
          3.5203453511707554,
          0.5617293858104245,
          1.5514449716276415,
          1.263273171377386,
          1.1631120410732465,
          7.424214472044954,
          16.096047816014725,
          9.26743782498964,
          7.435890225349967,
          8.124063535810361,
          20.848078548513968,
          20.25969975164483,
          20.34957015580027,
          22.371436174233132,
          22.461306578388577
         ],
         "xaxis": "x4",
         "y": [
          "Mininum Efficiency Heat Pump with Existing Heat Backup",
          "Mininum Efficiency Heat Pump with Electric Heat Backup",
          "Electric Clothes Dryer",
          "Electric Cooking",
          "Induction Cooking",
          "Heat Pump Clothes Dryer",
          "High Efficiency Heat Pump with Electric Heat Backup",
          "Mininum Efficiency Whole Home Electrification",
          "Heat Pump Water Heater",
          "Basic Enclosure",
          "Enhanced Enclosure",
          "High Efficiency Whole Home Electrification",
          "Basic Enclosure + HPWH + High Efficiency HP/Electric Backup",
          "Enhanced Enclosure + HPWH + High Efficiency HP/Electric Backup",
          "Basic Enclosure + High Efficiency Whole Home Electrification",
          "Enhanced Enclosure + High Efficiency Whole Home Electrification"
         ],
         "yaxis": "y4"
        }
       ],
       "layout": {
        "autosize": false,
        "font": {
         "size": 10
        },
        "height": 500,
        "plot_bgcolor": "rgba(0, 0, 0, 0)",
        "showlegend": false,
        "template": {
         "data": {
          "bar": [
           {
            "error_x": {
             "color": "#2a3f5f"
            },
            "error_y": {
             "color": "#2a3f5f"
            },
            "marker": {
             "line": {
              "color": "#E5ECF6",
              "width": 0.5
             },
             "pattern": {
              "fillmode": "overlay",
              "size": 10,
              "solidity": 0.2
             }
            },
            "type": "bar"
           }
          ],
          "barpolar": [
           {
            "marker": {
             "line": {
              "color": "#E5ECF6",
              "width": 0.5
             },
             "pattern": {
              "fillmode": "overlay",
              "size": 10,
              "solidity": 0.2
             }
            },
            "type": "barpolar"
           }
          ],
          "carpet": [
           {
            "aaxis": {
             "endlinecolor": "#2a3f5f",
             "gridcolor": "white",
             "linecolor": "white",
             "minorgridcolor": "white",
             "startlinecolor": "#2a3f5f"
            },
            "baxis": {
             "endlinecolor": "#2a3f5f",
             "gridcolor": "white",
             "linecolor": "white",
             "minorgridcolor": "white",
             "startlinecolor": "#2a3f5f"
            },
            "type": "carpet"
           }
          ],
          "choropleth": [
           {
            "colorbar": {
             "outlinewidth": 0,
             "ticks": ""
            },
            "type": "choropleth"
           }
          ],
          "contour": [
           {
            "colorbar": {
             "outlinewidth": 0,
             "ticks": ""
            },
            "colorscale": [
             [
              0,
              "#0d0887"
             ],
             [
              0.1111111111111111,
              "#46039f"
             ],
             [
              0.2222222222222222,
              "#7201a8"
             ],
             [
              0.3333333333333333,
              "#9c179e"
             ],
             [
              0.4444444444444444,
              "#bd3786"
             ],
             [
              0.5555555555555556,
              "#d8576b"
             ],
             [
              0.6666666666666666,
              "#ed7953"
             ],
             [
              0.7777777777777778,
              "#fb9f3a"
             ],
             [
              0.8888888888888888,
              "#fdca26"
             ],
             [
              1,
              "#f0f921"
             ]
            ],
            "type": "contour"
           }
          ],
          "contourcarpet": [
           {
            "colorbar": {
             "outlinewidth": 0,
             "ticks": ""
            },
            "type": "contourcarpet"
           }
          ],
          "heatmap": [
           {
            "colorbar": {
             "outlinewidth": 0,
             "ticks": ""
            },
            "colorscale": [
             [
              0,
              "#0d0887"
             ],
             [
              0.1111111111111111,
              "#46039f"
             ],
             [
              0.2222222222222222,
              "#7201a8"
             ],
             [
              0.3333333333333333,
              "#9c179e"
             ],
             [
              0.4444444444444444,
              "#bd3786"
             ],
             [
              0.5555555555555556,
              "#d8576b"
             ],
             [
              0.6666666666666666,
              "#ed7953"
             ],
             [
              0.7777777777777778,
              "#fb9f3a"
             ],
             [
              0.8888888888888888,
              "#fdca26"
             ],
             [
              1,
              "#f0f921"
             ]
            ],
            "type": "heatmap"
           }
          ],
          "heatmapgl": [
           {
            "colorbar": {
             "outlinewidth": 0,
             "ticks": ""
            },
            "colorscale": [
             [
              0,
              "#0d0887"
             ],
             [
              0.1111111111111111,
              "#46039f"
             ],
             [
              0.2222222222222222,
              "#7201a8"
             ],
             [
              0.3333333333333333,
              "#9c179e"
             ],
             [
              0.4444444444444444,
              "#bd3786"
             ],
             [
              0.5555555555555556,
              "#d8576b"
             ],
             [
              0.6666666666666666,
              "#ed7953"
             ],
             [
              0.7777777777777778,
              "#fb9f3a"
             ],
             [
              0.8888888888888888,
              "#fdca26"
             ],
             [
              1,
              "#f0f921"
             ]
            ],
            "type": "heatmapgl"
           }
          ],
          "histogram": [
           {
            "marker": {
             "pattern": {
              "fillmode": "overlay",
              "size": 10,
              "solidity": 0.2
             }
            },
            "type": "histogram"
           }
          ],
          "histogram2d": [
           {
            "colorbar": {
             "outlinewidth": 0,
             "ticks": ""
            },
            "colorscale": [
             [
              0,
              "#0d0887"
             ],
             [
              0.1111111111111111,
              "#46039f"
             ],
             [
              0.2222222222222222,
              "#7201a8"
             ],
             [
              0.3333333333333333,
              "#9c179e"
             ],
             [
              0.4444444444444444,
              "#bd3786"
             ],
             [
              0.5555555555555556,
              "#d8576b"
             ],
             [
              0.6666666666666666,
              "#ed7953"
             ],
             [
              0.7777777777777778,
              "#fb9f3a"
             ],
             [
              0.8888888888888888,
              "#fdca26"
             ],
             [
              1,
              "#f0f921"
             ]
            ],
            "type": "histogram2d"
           }
          ],
          "histogram2dcontour": [
           {
            "colorbar": {
             "outlinewidth": 0,
             "ticks": ""
            },
            "colorscale": [
             [
              0,
              "#0d0887"
             ],
             [
              0.1111111111111111,
              "#46039f"
             ],
             [
              0.2222222222222222,
              "#7201a8"
             ],
             [
              0.3333333333333333,
              "#9c179e"
             ],
             [
              0.4444444444444444,
              "#bd3786"
             ],
             [
              0.5555555555555556,
              "#d8576b"
             ],
             [
              0.6666666666666666,
              "#ed7953"
             ],
             [
              0.7777777777777778,
              "#fb9f3a"
             ],
             [
              0.8888888888888888,
              "#fdca26"
             ],
             [
              1,
              "#f0f921"
             ]
            ],
            "type": "histogram2dcontour"
           }
          ],
          "mesh3d": [
           {
            "colorbar": {
             "outlinewidth": 0,
             "ticks": ""
            },
            "type": "mesh3d"
           }
          ],
          "parcoords": [
           {
            "line": {
             "colorbar": {
              "outlinewidth": 0,
              "ticks": ""
             }
            },
            "type": "parcoords"
           }
          ],
          "pie": [
           {
            "automargin": true,
            "type": "pie"
           }
          ],
          "scatter": [
           {
            "fillpattern": {
             "fillmode": "overlay",
             "size": 10,
             "solidity": 0.2
            },
            "type": "scatter"
           }
          ],
          "scatter3d": [
           {
            "line": {
             "colorbar": {
              "outlinewidth": 0,
              "ticks": ""
             }
            },
            "marker": {
             "colorbar": {
              "outlinewidth": 0,
              "ticks": ""
             }
            },
            "type": "scatter3d"
           }
          ],
          "scattercarpet": [
           {
            "marker": {
             "colorbar": {
              "outlinewidth": 0,
              "ticks": ""
             }
            },
            "type": "scattercarpet"
           }
          ],
          "scattergeo": [
           {
            "marker": {
             "colorbar": {
              "outlinewidth": 0,
              "ticks": ""
             }
            },
            "type": "scattergeo"
           }
          ],
          "scattergl": [
           {
            "marker": {
             "colorbar": {
              "outlinewidth": 0,
              "ticks": ""
             }
            },
            "type": "scattergl"
           }
          ],
          "scattermapbox": [
           {
            "marker": {
             "colorbar": {
              "outlinewidth": 0,
              "ticks": ""
             }
            },
            "type": "scattermapbox"
           }
          ],
          "scatterpolar": [
           {
            "marker": {
             "colorbar": {
              "outlinewidth": 0,
              "ticks": ""
             }
            },
            "type": "scatterpolar"
           }
          ],
          "scatterpolargl": [
           {
            "marker": {
             "colorbar": {
              "outlinewidth": 0,
              "ticks": ""
             }
            },
            "type": "scatterpolargl"
           }
          ],
          "scatterternary": [
           {
            "marker": {
             "colorbar": {
              "outlinewidth": 0,
              "ticks": ""
             }
            },
            "type": "scatterternary"
           }
          ],
          "surface": [
           {
            "colorbar": {
             "outlinewidth": 0,
             "ticks": ""
            },
            "colorscale": [
             [
              0,
              "#0d0887"
             ],
             [
              0.1111111111111111,
              "#46039f"
             ],
             [
              0.2222222222222222,
              "#7201a8"
             ],
             [
              0.3333333333333333,
              "#9c179e"
             ],
             [
              0.4444444444444444,
              "#bd3786"
             ],
             [
              0.5555555555555556,
              "#d8576b"
             ],
             [
              0.6666666666666666,
              "#ed7953"
             ],
             [
              0.7777777777777778,
              "#fb9f3a"
             ],
             [
              0.8888888888888888,
              "#fdca26"
             ],
             [
              1,
              "#f0f921"
             ]
            ],
            "type": "surface"
           }
          ],
          "table": [
           {
            "cells": {
             "fill": {
              "color": "#EBF0F8"
             },
             "line": {
              "color": "white"
             }
            },
            "header": {
             "fill": {
              "color": "#C8D4E3"
             },
             "line": {
              "color": "white"
             }
            },
            "type": "table"
           }
          ]
         },
         "layout": {
          "annotationdefaults": {
           "arrowcolor": "#2a3f5f",
           "arrowhead": 0,
           "arrowwidth": 1
          },
          "autotypenumbers": "strict",
          "coloraxis": {
           "colorbar": {
            "outlinewidth": 0,
            "ticks": ""
           }
          },
          "colorscale": {
           "diverging": [
            [
             0,
             "#8e0152"
            ],
            [
             0.1,
             "#c51b7d"
            ],
            [
             0.2,
             "#de77ae"
            ],
            [
             0.3,
             "#f1b6da"
            ],
            [
             0.4,
             "#fde0ef"
            ],
            [
             0.5,
             "#f7f7f7"
            ],
            [
             0.6,
             "#e6f5d0"
            ],
            [
             0.7,
             "#b8e186"
            ],
            [
             0.8,
             "#7fbc41"
            ],
            [
             0.9,
             "#4d9221"
            ],
            [
             1,
             "#276419"
            ]
           ],
           "sequential": [
            [
             0,
             "#0d0887"
            ],
            [
             0.1111111111111111,
             "#46039f"
            ],
            [
             0.2222222222222222,
             "#7201a8"
            ],
            [
             0.3333333333333333,
             "#9c179e"
            ],
            [
             0.4444444444444444,
             "#bd3786"
            ],
            [
             0.5555555555555556,
             "#d8576b"
            ],
            [
             0.6666666666666666,
             "#ed7953"
            ],
            [
             0.7777777777777778,
             "#fb9f3a"
            ],
            [
             0.8888888888888888,
             "#fdca26"
            ],
            [
             1,
             "#f0f921"
            ]
           ],
           "sequentialminus": [
            [
             0,
             "#0d0887"
            ],
            [
             0.1111111111111111,
             "#46039f"
            ],
            [
             0.2222222222222222,
             "#7201a8"
            ],
            [
             0.3333333333333333,
             "#9c179e"
            ],
            [
             0.4444444444444444,
             "#bd3786"
            ],
            [
             0.5555555555555556,
             "#d8576b"
            ],
            [
             0.6666666666666666,
             "#ed7953"
            ],
            [
             0.7777777777777778,
             "#fb9f3a"
            ],
            [
             0.8888888888888888,
             "#fdca26"
            ],
            [
             1,
             "#f0f921"
            ]
           ]
          },
          "colorway": [
           "#636efa",
           "#EF553B",
           "#00cc96",
           "#ab63fa",
           "#FFA15A",
           "#19d3f3",
           "#FF6692",
           "#B6E880",
           "#FF97FF",
           "#FECB52"
          ],
          "font": {
           "color": "#2a3f5f"
          },
          "geo": {
           "bgcolor": "white",
           "lakecolor": "white",
           "landcolor": "#E5ECF6",
           "showlakes": true,
           "showland": true,
           "subunitcolor": "white"
          },
          "hoverlabel": {
           "align": "left"
          },
          "hovermode": "closest",
          "mapbox": {
           "style": "light"
          },
          "paper_bgcolor": "white",
          "plot_bgcolor": "#E5ECF6",
          "polar": {
           "angularaxis": {
            "gridcolor": "white",
            "linecolor": "white",
            "ticks": ""
           },
           "bgcolor": "#E5ECF6",
           "radialaxis": {
            "gridcolor": "white",
            "linecolor": "white",
            "ticks": ""
           }
          },
          "scene": {
           "xaxis": {
            "backgroundcolor": "#E5ECF6",
            "gridcolor": "white",
            "gridwidth": 2,
            "linecolor": "white",
            "showbackground": true,
            "ticks": "",
            "zerolinecolor": "white"
           },
           "yaxis": {
            "backgroundcolor": "#E5ECF6",
            "gridcolor": "white",
            "gridwidth": 2,
            "linecolor": "white",
            "showbackground": true,
            "ticks": "",
            "zerolinecolor": "white"
           },
           "zaxis": {
            "backgroundcolor": "#E5ECF6",
            "gridcolor": "white",
            "gridwidth": 2,
            "linecolor": "white",
            "showbackground": true,
            "ticks": "",
            "zerolinecolor": "white"
           }
          },
          "shapedefaults": {
           "line": {
            "color": "#2a3f5f"
           }
          },
          "ternary": {
           "aaxis": {
            "gridcolor": "white",
            "linecolor": "white",
            "ticks": ""
           },
           "baxis": {
            "gridcolor": "white",
            "linecolor": "white",
            "ticks": ""
           },
           "bgcolor": "#E5ECF6",
           "caxis": {
            "gridcolor": "white",
            "linecolor": "white",
            "ticks": ""
           }
          },
          "title": {
           "x": 0.05
          },
          "xaxis": {
           "automargin": true,
           "gridcolor": "white",
           "linecolor": "white",
           "ticks": "",
           "title": {
            "standoff": 15
           },
           "zerolinecolor": "white",
           "zerolinewidth": 2
          },
          "yaxis": {
           "automargin": true,
           "gridcolor": "white",
           "linecolor": "white",
           "ticks": "",
           "title": {
            "standoff": 15
           },
           "zerolinecolor": "white",
           "zerolinewidth": 2
          }
         }
        },
        "title": {
         "text": "Annual Savings Per Dwelling Unit"
        },
        "width": 850,
        "xaxis": {
         "anchor": "y",
         "domain": [
          0,
          0.004635761589403973
         ],
         "tickangle": 45,
         "title": {
          "text": ""
         },
         "visible": false
        },
        "xaxis2": {
         "anchor": "y2",
         "domain": [
          0.10463576158940398,
          0.33642384105960266
         ],
         "tickangle": 45,
         "title": {
          "text": "Bill Savings<br>usd"
         },
         "visible": true
        },
        "xaxis3": {
         "anchor": "y3",
         "domain": [
          0.43642384105960264,
          0.6682119205298013
         ],
         "tickangle": 45,
         "title": {
          "text": "Emission Savings<br>kgCO2e"
         },
         "visible": true
        },
        "xaxis4": {
         "anchor": "y4",
         "domain": [
          0.7682119205298014,
          1
         ],
         "tickangle": 45,
         "title": {
          "text": "Energy Savings<br>mmbtu"
         },
         "visible": true
        },
        "yaxis": {
         "anchor": "x",
         "domain": [
          0,
          1
         ],
         "visible": true
        },
        "yaxis2": {
         "anchor": "x2",
         "domain": [
          0,
          1
         ],
         "visible": false
        },
        "yaxis3": {
         "anchor": "x3",
         "domain": [
          0,
          1
         ],
         "visible": false
        },
        "yaxis4": {
         "anchor": "x4",
         "domain": [
          0,
          1
         ],
         "visible": false
        }
       }
      }
     },
     "metadata": {},
     "output_type": "display_data"
    }
   ],
   "source": [
    "results = figure_mean_savings(community_results) \n",
    "saving_results[['whole_community_saving_bill_mean_usd','whole_community_saving_emission_mean_kgCO2e','whole_community_saving_energy_mean_mmbtu']] = results"
   ]
  },
  {
   "cell_type": "code",
   "execution_count": 18,
   "id": "370a6d1a",
   "metadata": {},
   "outputs": [
    {
     "name": "stdout",
     "output_type": "stream",
     "text": [
      "Community summary:\n"
     ]
    },
    {
     "data": {
      "text/html": [
       "<div>\n",
       "<style scoped>\n",
       "    .dataframe tbody tr th:only-of-type {\n",
       "        vertical-align: middle;\n",
       "    }\n",
       "\n",
       "    .dataframe tbody tr th {\n",
       "        vertical-align: top;\n",
       "    }\n",
       "\n",
       "    .dataframe thead th {\n",
       "        text-align: right;\n",
       "    }\n",
       "</style>\n",
       "<table border=\"1\" class=\"dataframe\">\n",
       "  <thead>\n",
       "    <tr style=\"text-align: right;\">\n",
       "      <th></th>\n",
       "      <th>n_samples</th>\n",
       "      <th>n_represented</th>\n",
       "      <th>pct_saving_energy.total_% wt_mean</th>\n",
       "      <th>pct_saving_energy.total_% wt_p0.25</th>\n",
       "      <th>pct_saving_energy.total_% wt_p0.75</th>\n",
       "    </tr>\n",
       "    <tr>\n",
       "      <th>upgrade_name</th>\n",
       "      <th></th>\n",
       "      <th></th>\n",
       "      <th></th>\n",
       "      <th></th>\n",
       "      <th></th>\n",
       "    </tr>\n",
       "  </thead>\n",
       "  <tbody>\n",
       "    <tr>\n",
       "      <th>Enhanced Enclosure + High Efficiency Whole Home Electrification</th>\n",
       "      <td>1605</td>\n",
       "      <td>83151.000000</td>\n",
       "      <td>43.399736</td>\n",
       "      <td>33.824410</td>\n",
       "      <td>53.610000</td>\n",
       "    </tr>\n",
       "    <tr>\n",
       "      <th>Basic Enclosure + High Efficiency Whole Home Electrification</th>\n",
       "      <td>1605</td>\n",
       "      <td>83151.000000</td>\n",
       "      <td>43.233000</td>\n",
       "      <td>33.305824</td>\n",
       "      <td>53.384847</td>\n",
       "    </tr>\n",
       "    <tr>\n",
       "      <th>High Efficiency Whole Home Electrification</th>\n",
       "      <td>1605</td>\n",
       "      <td>83151.000000</td>\n",
       "      <td>40.399159</td>\n",
       "      <td>31.567398</td>\n",
       "      <td>50.750622</td>\n",
       "    </tr>\n",
       "    <tr>\n",
       "      <th>Enhanced Enclosure + HPWH + High Efficiency HP/Electric Backup</th>\n",
       "      <td>1605</td>\n",
       "      <td>83151.000000</td>\n",
       "      <td>38.368719</td>\n",
       "      <td>27.780424</td>\n",
       "      <td>50.132244</td>\n",
       "    </tr>\n",
       "    <tr>\n",
       "      <th>Basic Enclosure + HPWH + High Efficiency HP/Electric Backup</th>\n",
       "      <td>1605</td>\n",
       "      <td>83151.000000</td>\n",
       "      <td>38.202125</td>\n",
       "      <td>27.593171</td>\n",
       "      <td>50.024528</td>\n",
       "    </tr>\n",
       "    <tr>\n",
       "      <th>Mininum Efficiency Whole Home Electrification</th>\n",
       "      <td>1583</td>\n",
       "      <td>79792.351765</td>\n",
       "      <td>30.218578</td>\n",
       "      <td>19.133915</td>\n",
       "      <td>42.118302</td>\n",
       "    </tr>\n",
       "    <tr>\n",
       "      <th>Heat Pump Water Heater</th>\n",
       "      <td>1599</td>\n",
       "      <td>82682.256618</td>\n",
       "      <td>22.775241</td>\n",
       "      <td>13.874127</td>\n",
       "      <td>30.742321</td>\n",
       "    </tr>\n",
       "    <tr>\n",
       "      <th>Enhanced Enclosure</th>\n",
       "      <td>1560</td>\n",
       "      <td>78981.181432</td>\n",
       "      <td>12.622413</td>\n",
       "      <td>1.633557</td>\n",
       "      <td>20.477467</td>\n",
       "    </tr>\n",
       "    <tr>\n",
       "      <th>Basic Enclosure</th>\n",
       "      <td>1550</td>\n",
       "      <td>77857.765018</td>\n",
       "      <td>11.595405</td>\n",
       "      <td>1.562636</td>\n",
       "      <td>18.479251</td>\n",
       "    </tr>\n",
       "    <tr>\n",
       "      <th>High Efficiency Heat Pump with Electric Heat Backup</th>\n",
       "      <td>1605</td>\n",
       "      <td>83151.000000</td>\n",
       "      <td>7.807834</td>\n",
       "      <td>-6.853860</td>\n",
       "      <td>20.841776</td>\n",
       "    </tr>\n",
       "    <tr>\n",
       "      <th>Electric Cooking</th>\n",
       "      <td>1151</td>\n",
       "      <td>59015.195250</td>\n",
       "      <td>3.965573</td>\n",
       "      <td>2.730000</td>\n",
       "      <td>5.250000</td>\n",
       "    </tr>\n",
       "    <tr>\n",
       "      <th>Induction Cooking</th>\n",
       "      <td>1583</td>\n",
       "      <td>81474.190316</td>\n",
       "      <td>3.245946</td>\n",
       "      <td>0.500000</td>\n",
       "      <td>5.100000</td>\n",
       "    </tr>\n",
       "    <tr>\n",
       "      <th>Heat Pump Clothes Dryer</th>\n",
       "      <td>1369</td>\n",
       "      <td>62477.933271</td>\n",
       "      <td>2.463098</td>\n",
       "      <td>1.590000</td>\n",
       "      <td>3.192620</td>\n",
       "    </tr>\n",
       "    <tr>\n",
       "      <th>Electric Clothes Dryer</th>\n",
       "      <td>494</td>\n",
       "      <td>18029.580486</td>\n",
       "      <td>1.056740</td>\n",
       "      <td>0.690000</td>\n",
       "      <td>1.400000</td>\n",
       "    </tr>\n",
       "    <tr>\n",
       "      <th>baseline</th>\n",
       "      <td>1605</td>\n",
       "      <td>83151.000000</td>\n",
       "      <td>0.000000</td>\n",
       "      <td>NaN</td>\n",
       "      <td>NaN</td>\n",
       "    </tr>\n",
       "    <tr>\n",
       "      <th>Mininum Efficiency Heat Pump with Electric Heat Backup</th>\n",
       "      <td>1605</td>\n",
       "      <td>83151.000000</td>\n",
       "      <td>-1.127218</td>\n",
       "      <td>-14.704649</td>\n",
       "      <td>12.369339</td>\n",
       "    </tr>\n",
       "    <tr>\n",
       "      <th>Mininum Efficiency Heat Pump with Existing Heat Backup</th>\n",
       "      <td>1604</td>\n",
       "      <td>82906.438235</td>\n",
       "      <td>-2.071509</td>\n",
       "      <td>-15.099077</td>\n",
       "      <td>10.322341</td>\n",
       "    </tr>\n",
       "  </tbody>\n",
       "</table>\n",
       "</div>"
      ],
      "text/plain": [
       "                                                    n_samples  n_represented  \\\n",
       "upgrade_name                                                                   \n",
       "Enhanced Enclosure + High Efficiency Whole Home...       1605   83151.000000   \n",
       "Basic Enclosure + High Efficiency Whole Home El...       1605   83151.000000   \n",
       "High Efficiency Whole Home Electrification               1605   83151.000000   \n",
       "Enhanced Enclosure + HPWH + High Efficiency HP/...       1605   83151.000000   \n",
       "Basic Enclosure + HPWH + High Efficiency HP/Ele...       1605   83151.000000   \n",
       "Mininum Efficiency Whole Home Electrification            1583   79792.351765   \n",
       "Heat Pump Water Heater                                   1599   82682.256618   \n",
       "Enhanced Enclosure                                       1560   78981.181432   \n",
       "Basic Enclosure                                          1550   77857.765018   \n",
       "High Efficiency Heat Pump with Electric Heat Ba...       1605   83151.000000   \n",
       "Electric Cooking                                         1151   59015.195250   \n",
       "Induction Cooking                                        1583   81474.190316   \n",
       "Heat Pump Clothes Dryer                                  1369   62477.933271   \n",
       "Electric Clothes Dryer                                    494   18029.580486   \n",
       "baseline                                                 1605   83151.000000   \n",
       "Mininum Efficiency Heat Pump with Electric Heat...       1605   83151.000000   \n",
       "Mininum Efficiency Heat Pump with Existing Heat...       1604   82906.438235   \n",
       "\n",
       "                                                    pct_saving_energy.total_% wt_mean  \\\n",
       "upgrade_name                                                                            \n",
       "Enhanced Enclosure + High Efficiency Whole Home...                          43.399736   \n",
       "Basic Enclosure + High Efficiency Whole Home El...                          43.233000   \n",
       "High Efficiency Whole Home Electrification                                  40.399159   \n",
       "Enhanced Enclosure + HPWH + High Efficiency HP/...                          38.368719   \n",
       "Basic Enclosure + HPWH + High Efficiency HP/Ele...                          38.202125   \n",
       "Mininum Efficiency Whole Home Electrification                               30.218578   \n",
       "Heat Pump Water Heater                                                      22.775241   \n",
       "Enhanced Enclosure                                                          12.622413   \n",
       "Basic Enclosure                                                             11.595405   \n",
       "High Efficiency Heat Pump with Electric Heat Ba...                           7.807834   \n",
       "Electric Cooking                                                             3.965573   \n",
       "Induction Cooking                                                            3.245946   \n",
       "Heat Pump Clothes Dryer                                                      2.463098   \n",
       "Electric Clothes Dryer                                                       1.056740   \n",
       "baseline                                                                     0.000000   \n",
       "Mininum Efficiency Heat Pump with Electric Heat...                          -1.127218   \n",
       "Mininum Efficiency Heat Pump with Existing Heat...                          -2.071509   \n",
       "\n",
       "                                                    pct_saving_energy.total_% wt_p0.25  \\\n",
       "upgrade_name                                                                             \n",
       "Enhanced Enclosure + High Efficiency Whole Home...                           33.824410   \n",
       "Basic Enclosure + High Efficiency Whole Home El...                           33.305824   \n",
       "High Efficiency Whole Home Electrification                                   31.567398   \n",
       "Enhanced Enclosure + HPWH + High Efficiency HP/...                           27.780424   \n",
       "Basic Enclosure + HPWH + High Efficiency HP/Ele...                           27.593171   \n",
       "Mininum Efficiency Whole Home Electrification                                19.133915   \n",
       "Heat Pump Water Heater                                                       13.874127   \n",
       "Enhanced Enclosure                                                            1.633557   \n",
       "Basic Enclosure                                                               1.562636   \n",
       "High Efficiency Heat Pump with Electric Heat Ba...                           -6.853860   \n",
       "Electric Cooking                                                              2.730000   \n",
       "Induction Cooking                                                             0.500000   \n",
       "Heat Pump Clothes Dryer                                                       1.590000   \n",
       "Electric Clothes Dryer                                                        0.690000   \n",
       "baseline                                                                           NaN   \n",
       "Mininum Efficiency Heat Pump with Electric Heat...                          -14.704649   \n",
       "Mininum Efficiency Heat Pump with Existing Heat...                          -15.099077   \n",
       "\n",
       "                                                    pct_saving_energy.total_% wt_p0.75  \n",
       "upgrade_name                                                                            \n",
       "Enhanced Enclosure + High Efficiency Whole Home...                           53.610000  \n",
       "Basic Enclosure + High Efficiency Whole Home El...                           53.384847  \n",
       "High Efficiency Whole Home Electrification                                   50.750622  \n",
       "Enhanced Enclosure + HPWH + High Efficiency HP/...                           50.132244  \n",
       "Basic Enclosure + HPWH + High Efficiency HP/Ele...                           50.024528  \n",
       "Mininum Efficiency Whole Home Electrification                                42.118302  \n",
       "Heat Pump Water Heater                                                       30.742321  \n",
       "Enhanced Enclosure                                                           20.477467  \n",
       "Basic Enclosure                                                              18.479251  \n",
       "High Efficiency Heat Pump with Electric Heat Ba...                           20.841776  \n",
       "Electric Cooking                                                              5.250000  \n",
       "Induction Cooking                                                             5.100000  \n",
       "Heat Pump Clothes Dryer                                                       3.192620  \n",
       "Electric Clothes Dryer                                                        1.400000  \n",
       "baseline                                                                           NaN  \n",
       "Mininum Efficiency Heat Pump with Electric Heat...                           12.369339  \n",
       "Mininum Efficiency Heat Pump with Existing Heat...                           10.322341  "
      ]
     },
     "execution_count": 18,
     "metadata": {},
     "output_type": "execute_result"
    }
   ],
   "source": [
    "metric = \"pct_saving_energy.total_%\"\n",
    "print(\"Community summary:\")\n",
    "get_summary(community_results, metric, lower_percentile=0.25, upper_percentile=0.75)"
   ]
  },
  {
   "cell_type": "markdown",
   "id": "35e7b6ad",
   "metadata": {},
   "source": [
    "# 2. Results for Segments (All Income)"
   ]
  },
  {
   "cell_type": "markdown",
   "id": "9c79f834",
   "metadata": {},
   "source": [
    "Segment Definition\n",
    "\n",
    "Segment 1. Occupied, Multifamily with 5+ units, 1940-1979, all income \n",
    "\n",
    "Segment 2. Occupied, Multifamily with 5+ units, 1980+, all income \n",
    "\n",
    "Segment 3. Occupied, Single family detached 1940-1979, all income \n",
    "\n",
    "Segment 4. Occupied, Single family attached 1940-1979, all income \n"
   ]
  },
  {
   "cell_type": "code",
   "execution_count": 19,
   "id": "42e13001",
   "metadata": {},
   "outputs": [],
   "source": [
    "income = 'all_incomes'\n",
    "vacancy_status = ['Occupied']\n",
    "\n",
    "seg1_building_type = ['Multi-Family with 5+ Units']\n",
    "seg1_vintage = ['1940s', '1950s', '1960s', '1970s']\n",
    "seg1_median_income = ['0-30%','30-60%','60-80%','80-100%', '100-120%','120-150%']\n",
    "\n",
    "seg2_building_type = ['Multi-Family with 5+ Units']\n",
    "seg2_vintage = ['1980s', '1990s', '2000s', '2010s']\n",
    "seg2_median_income = ['0-30%','30-60%','60-80%','80-100%', '100-120%','120-150%']\n",
    "\n",
    "seg3_building_type = ['Single-Family Detached']\n",
    "seg3_vintage = ['1940s', '1950s', '1960s', '1970s']\n",
    "seg3_median_income = ['0-30%','30-60%','60-80%','80-100%', '100-120%','120-150%']\n",
    "\n",
    "seg4_building_type = ['Single-Family Attached']\n",
    "seg4_vintage = ['1940s', '1950s', '1960s', '1970s']\n",
    "seg4_median_income = ['0-30%','30-60%','60-80%','80-100%', '100-120%','120-150%']\n",
    "\n",
    "community_results.loc[community_results['build_existing_model.vacancy_status'].isin(vacancy_status) & \n",
    "                     community_results['build_existing_model.geometry_building_type_recs'].isin(seg1_building_type) & \n",
    "                     community_results['build_existing_model.vintage'].isin(seg1_vintage) & \n",
    "                     community_results['build_existing_model.area_median_income'].isin(seg1_median_income),\n",
    "                     'segment'] = 'segment1'\n",
    "community_results.loc[community_results['build_existing_model.vacancy_status'].isin(vacancy_status) & \n",
    "                     community_results['build_existing_model.geometry_building_type_recs'].isin(seg2_building_type) & \n",
    "                     community_results['build_existing_model.vintage'].isin(seg2_vintage) & \n",
    "                     community_results['build_existing_model.area_median_income'].isin(seg2_median_income),\n",
    "                     'segment'] = 'segment2'\n",
    "community_results.loc[community_results['build_existing_model.vacancy_status'].isin(vacancy_status) & \n",
    "                     community_results['build_existing_model.geometry_building_type_recs'].isin(seg3_building_type) & \n",
    "                     community_results['build_existing_model.vintage'].isin(seg3_vintage) & \n",
    "                     community_results['build_existing_model.area_median_income'].isin(seg3_median_income),\n",
    "                     'segment'] = 'segment3'\n",
    "community_results.loc[community_results['build_existing_model.vacancy_status'].isin(vacancy_status) & \n",
    "                     community_results['build_existing_model.geometry_building_type_recs'].isin(seg4_building_type) & \n",
    "                     community_results['build_existing_model.vintage'].isin(seg4_vintage) & \n",
    "                     community_results['build_existing_model.area_median_income'].isin(seg4_median_income),\n",
    "                     'segment'] = 'segment4'"
   ]
  },
  {
   "cell_type": "code",
   "execution_count": 20,
   "id": "b745ddeb",
   "metadata": {},
   "outputs": [
    {
     "name": "stdout",
     "output_type": "stream",
     "text": [
      "Summary for segment: segment1: \n"
     ]
    },
    {
     "data": {
      "text/html": [
       "<div>\n",
       "<style scoped>\n",
       "    .dataframe tbody tr th:only-of-type {\n",
       "        vertical-align: middle;\n",
       "    }\n",
       "\n",
       "    .dataframe tbody tr th {\n",
       "        vertical-align: top;\n",
       "    }\n",
       "\n",
       "    .dataframe thead th {\n",
       "        text-align: right;\n",
       "    }\n",
       "</style>\n",
       "<table border=\"1\" class=\"dataframe\">\n",
       "  <thead>\n",
       "    <tr style=\"text-align: right;\">\n",
       "      <th></th>\n",
       "      <th>n_samples</th>\n",
       "      <th>n_represented</th>\n",
       "      <th>pct_saving_energy.total_% wt_mean</th>\n",
       "      <th>pct_saving_energy.total_% wt_p0.25</th>\n",
       "      <th>pct_saving_energy.total_% wt_p0.75</th>\n",
       "    </tr>\n",
       "    <tr>\n",
       "      <th>upgrade_name</th>\n",
       "      <th></th>\n",
       "      <th></th>\n",
       "      <th></th>\n",
       "      <th></th>\n",
       "      <th></th>\n",
       "    </tr>\n",
       "  </thead>\n",
       "  <tbody>\n",
       "    <tr>\n",
       "      <th>Enhanced Enclosure + High Efficiency Whole Home Electrification</th>\n",
       "      <td>143</td>\n",
       "      <td>9101.533910</td>\n",
       "      <td>41.168750</td>\n",
       "      <td>32.124486</td>\n",
       "      <td>50.376584</td>\n",
       "    </tr>\n",
       "    <tr>\n",
       "      <th>Basic Enclosure + High Efficiency Whole Home Electrification</th>\n",
       "      <td>143</td>\n",
       "      <td>9101.533910</td>\n",
       "      <td>40.780048</td>\n",
       "      <td>31.439008</td>\n",
       "      <td>50.376584</td>\n",
       "    </tr>\n",
       "    <tr>\n",
       "      <th>High Efficiency Whole Home Electrification</th>\n",
       "      <td>143</td>\n",
       "      <td>9101.533910</td>\n",
       "      <td>39.657092</td>\n",
       "      <td>30.390624</td>\n",
       "      <td>48.984562</td>\n",
       "    </tr>\n",
       "    <tr>\n",
       "      <th>Enhanced Enclosure + HPWH + High Efficiency HP/Electric Backup</th>\n",
       "      <td>143</td>\n",
       "      <td>9101.533910</td>\n",
       "      <td>35.317116</td>\n",
       "      <td>25.954574</td>\n",
       "      <td>44.841715</td>\n",
       "    </tr>\n",
       "    <tr>\n",
       "      <th>Basic Enclosure + HPWH + High Efficiency HP/Electric Backup</th>\n",
       "      <td>143</td>\n",
       "      <td>9101.533910</td>\n",
       "      <td>34.928364</td>\n",
       "      <td>25.919653</td>\n",
       "      <td>44.754023</td>\n",
       "    </tr>\n",
       "    <tr>\n",
       "      <th>Mininum Efficiency Whole Home Electrification</th>\n",
       "      <td>139</td>\n",
       "      <td>8636.866557</td>\n",
       "      <td>31.883543</td>\n",
       "      <td>24.797307</td>\n",
       "      <td>40.304756</td>\n",
       "    </tr>\n",
       "    <tr>\n",
       "      <th>Heat Pump Water Heater</th>\n",
       "      <td>142</td>\n",
       "      <td>8979.253028</td>\n",
       "      <td>25.359542</td>\n",
       "      <td>18.617292</td>\n",
       "      <td>32.067861</td>\n",
       "    </tr>\n",
       "    <tr>\n",
       "      <th>Enhanced Enclosure</th>\n",
       "      <td>142</td>\n",
       "      <td>9087.147924</td>\n",
       "      <td>8.057093</td>\n",
       "      <td>1.855710</td>\n",
       "      <td>13.225198</td>\n",
       "    </tr>\n",
       "    <tr>\n",
       "      <th>Basic Enclosure</th>\n",
       "      <td>139</td>\n",
       "      <td>8940.410865</td>\n",
       "      <td>6.999158</td>\n",
       "      <td>1.800963</td>\n",
       "      <td>11.697476</td>\n",
       "    </tr>\n",
       "    <tr>\n",
       "      <th>Electric Cooking</th>\n",
       "      <td>101</td>\n",
       "      <td>6932.755157</td>\n",
       "      <td>5.484876</td>\n",
       "      <td>4.666573</td>\n",
       "      <td>6.142755</td>\n",
       "    </tr>\n",
       "    <tr>\n",
       "      <th>Induction Cooking</th>\n",
       "      <td>139</td>\n",
       "      <td>8905.884498</td>\n",
       "      <td>4.792016</td>\n",
       "      <td>4.124980</td>\n",
       "      <td>6.360000</td>\n",
       "    </tr>\n",
       "    <tr>\n",
       "      <th>Heat Pump Clothes Dryer</th>\n",
       "      <td>55</td>\n",
       "      <td>3275.883145</td>\n",
       "      <td>3.232615</td>\n",
       "      <td>2.128439</td>\n",
       "      <td>3.989221</td>\n",
       "    </tr>\n",
       "    <tr>\n",
       "      <th>High Efficiency Heat Pump with Electric Heat Backup</th>\n",
       "      <td>143</td>\n",
       "      <td>9101.533910</td>\n",
       "      <td>1.718699</td>\n",
       "      <td>-8.244373</td>\n",
       "      <td>12.723536</td>\n",
       "    </tr>\n",
       "    <tr>\n",
       "      <th>Electric Clothes Dryer</th>\n",
       "      <td>10</td>\n",
       "      <td>471.072542</td>\n",
       "      <td>1.638842</td>\n",
       "      <td>1.304603</td>\n",
       "      <td>2.167687</td>\n",
       "    </tr>\n",
       "    <tr>\n",
       "      <th>baseline</th>\n",
       "      <td>143</td>\n",
       "      <td>9101.533910</td>\n",
       "      <td>0.000000</td>\n",
       "      <td>NaN</td>\n",
       "      <td>NaN</td>\n",
       "    </tr>\n",
       "    <tr>\n",
       "      <th>Mininum Efficiency Heat Pump with Electric Heat Backup</th>\n",
       "      <td>143</td>\n",
       "      <td>9101.533910</td>\n",
       "      <td>-5.983759</td>\n",
       "      <td>-16.181917</td>\n",
       "      <td>4.738834</td>\n",
       "    </tr>\n",
       "    <tr>\n",
       "      <th>Mininum Efficiency Heat Pump with Existing Heat Backup</th>\n",
       "      <td>143</td>\n",
       "      <td>9101.533910</td>\n",
       "      <td>-6.183765</td>\n",
       "      <td>-16.181917</td>\n",
       "      <td>4.473597</td>\n",
       "    </tr>\n",
       "  </tbody>\n",
       "</table>\n",
       "</div>"
      ],
      "text/plain": [
       "                                                    n_samples  n_represented  \\\n",
       "upgrade_name                                                                   \n",
       "Enhanced Enclosure + High Efficiency Whole Home...        143    9101.533910   \n",
       "Basic Enclosure + High Efficiency Whole Home El...        143    9101.533910   \n",
       "High Efficiency Whole Home Electrification                143    9101.533910   \n",
       "Enhanced Enclosure + HPWH + High Efficiency HP/...        143    9101.533910   \n",
       "Basic Enclosure + HPWH + High Efficiency HP/Ele...        143    9101.533910   \n",
       "Mininum Efficiency Whole Home Electrification             139    8636.866557   \n",
       "Heat Pump Water Heater                                    142    8979.253028   \n",
       "Enhanced Enclosure                                        142    9087.147924   \n",
       "Basic Enclosure                                           139    8940.410865   \n",
       "Electric Cooking                                          101    6932.755157   \n",
       "Induction Cooking                                         139    8905.884498   \n",
       "Heat Pump Clothes Dryer                                    55    3275.883145   \n",
       "High Efficiency Heat Pump with Electric Heat Ba...        143    9101.533910   \n",
       "Electric Clothes Dryer                                     10     471.072542   \n",
       "baseline                                                  143    9101.533910   \n",
       "Mininum Efficiency Heat Pump with Electric Heat...        143    9101.533910   \n",
       "Mininum Efficiency Heat Pump with Existing Heat...        143    9101.533910   \n",
       "\n",
       "                                                    pct_saving_energy.total_% wt_mean  \\\n",
       "upgrade_name                                                                            \n",
       "Enhanced Enclosure + High Efficiency Whole Home...                          41.168750   \n",
       "Basic Enclosure + High Efficiency Whole Home El...                          40.780048   \n",
       "High Efficiency Whole Home Electrification                                  39.657092   \n",
       "Enhanced Enclosure + HPWH + High Efficiency HP/...                          35.317116   \n",
       "Basic Enclosure + HPWH + High Efficiency HP/Ele...                          34.928364   \n",
       "Mininum Efficiency Whole Home Electrification                               31.883543   \n",
       "Heat Pump Water Heater                                                      25.359542   \n",
       "Enhanced Enclosure                                                           8.057093   \n",
       "Basic Enclosure                                                              6.999158   \n",
       "Electric Cooking                                                             5.484876   \n",
       "Induction Cooking                                                            4.792016   \n",
       "Heat Pump Clothes Dryer                                                      3.232615   \n",
       "High Efficiency Heat Pump with Electric Heat Ba...                           1.718699   \n",
       "Electric Clothes Dryer                                                       1.638842   \n",
       "baseline                                                                     0.000000   \n",
       "Mininum Efficiency Heat Pump with Electric Heat...                          -5.983759   \n",
       "Mininum Efficiency Heat Pump with Existing Heat...                          -6.183765   \n",
       "\n",
       "                                                    pct_saving_energy.total_% wt_p0.25  \\\n",
       "upgrade_name                                                                             \n",
       "Enhanced Enclosure + High Efficiency Whole Home...                           32.124486   \n",
       "Basic Enclosure + High Efficiency Whole Home El...                           31.439008   \n",
       "High Efficiency Whole Home Electrification                                   30.390624   \n",
       "Enhanced Enclosure + HPWH + High Efficiency HP/...                           25.954574   \n",
       "Basic Enclosure + HPWH + High Efficiency HP/Ele...                           25.919653   \n",
       "Mininum Efficiency Whole Home Electrification                                24.797307   \n",
       "Heat Pump Water Heater                                                       18.617292   \n",
       "Enhanced Enclosure                                                            1.855710   \n",
       "Basic Enclosure                                                               1.800963   \n",
       "Electric Cooking                                                              4.666573   \n",
       "Induction Cooking                                                             4.124980   \n",
       "Heat Pump Clothes Dryer                                                       2.128439   \n",
       "High Efficiency Heat Pump with Electric Heat Ba...                           -8.244373   \n",
       "Electric Clothes Dryer                                                        1.304603   \n",
       "baseline                                                                           NaN   \n",
       "Mininum Efficiency Heat Pump with Electric Heat...                          -16.181917   \n",
       "Mininum Efficiency Heat Pump with Existing Heat...                          -16.181917   \n",
       "\n",
       "                                                    pct_saving_energy.total_% wt_p0.75  \n",
       "upgrade_name                                                                            \n",
       "Enhanced Enclosure + High Efficiency Whole Home...                           50.376584  \n",
       "Basic Enclosure + High Efficiency Whole Home El...                           50.376584  \n",
       "High Efficiency Whole Home Electrification                                   48.984562  \n",
       "Enhanced Enclosure + HPWH + High Efficiency HP/...                           44.841715  \n",
       "Basic Enclosure + HPWH + High Efficiency HP/Ele...                           44.754023  \n",
       "Mininum Efficiency Whole Home Electrification                                40.304756  \n",
       "Heat Pump Water Heater                                                       32.067861  \n",
       "Enhanced Enclosure                                                           13.225198  \n",
       "Basic Enclosure                                                              11.697476  \n",
       "Electric Cooking                                                              6.142755  \n",
       "Induction Cooking                                                             6.360000  \n",
       "Heat Pump Clothes Dryer                                                       3.989221  \n",
       "High Efficiency Heat Pump with Electric Heat Ba...                           12.723536  \n",
       "Electric Clothes Dryer                                                        2.167687  \n",
       "baseline                                                                           NaN  \n",
       "Mininum Efficiency Heat Pump with Electric Heat...                            4.738834  \n",
       "Mininum Efficiency Heat Pump with Existing Heat...                            4.473597  "
      ]
     },
     "metadata": {},
     "output_type": "display_data"
    },
    {
     "name": "stdout",
     "output_type": "stream",
     "text": [
      "Summary for segment: segment2: \n"
     ]
    },
    {
     "data": {
      "text/html": [
       "<div>\n",
       "<style scoped>\n",
       "    .dataframe tbody tr th:only-of-type {\n",
       "        vertical-align: middle;\n",
       "    }\n",
       "\n",
       "    .dataframe tbody tr th {\n",
       "        vertical-align: top;\n",
       "    }\n",
       "\n",
       "    .dataframe thead th {\n",
       "        text-align: right;\n",
       "    }\n",
       "</style>\n",
       "<table border=\"1\" class=\"dataframe\">\n",
       "  <thead>\n",
       "    <tr style=\"text-align: right;\">\n",
       "      <th></th>\n",
       "      <th>n_samples</th>\n",
       "      <th>n_represented</th>\n",
       "      <th>pct_saving_energy.total_% wt_mean</th>\n",
       "      <th>pct_saving_energy.total_% wt_p0.25</th>\n",
       "      <th>pct_saving_energy.total_% wt_p0.75</th>\n",
       "    </tr>\n",
       "    <tr>\n",
       "      <th>upgrade_name</th>\n",
       "      <th></th>\n",
       "      <th></th>\n",
       "      <th></th>\n",
       "      <th></th>\n",
       "      <th></th>\n",
       "    </tr>\n",
       "  </thead>\n",
       "  <tbody>\n",
       "    <tr>\n",
       "      <th>Enhanced Enclosure + High Efficiency Whole Home Electrification</th>\n",
       "      <td>104</td>\n",
       "      <td>12128.040241</td>\n",
       "      <td>37.538687</td>\n",
       "      <td>31.009697</td>\n",
       "      <td>46.500000</td>\n",
       "    </tr>\n",
       "    <tr>\n",
       "      <th>Basic Enclosure + High Efficiency Whole Home Electrification</th>\n",
       "      <td>104</td>\n",
       "      <td>12128.040241</td>\n",
       "      <td>37.435005</td>\n",
       "      <td>30.865769</td>\n",
       "      <td>46.109917</td>\n",
       "    </tr>\n",
       "    <tr>\n",
       "      <th>High Efficiency Whole Home Electrification</th>\n",
       "      <td>104</td>\n",
       "      <td>12128.040241</td>\n",
       "      <td>37.053599</td>\n",
       "      <td>28.741818</td>\n",
       "      <td>45.633802</td>\n",
       "    </tr>\n",
       "    <tr>\n",
       "      <th>Enhanced Enclosure + HPWH + High Efficiency HP/Electric Backup</th>\n",
       "      <td>104</td>\n",
       "      <td>12128.040241</td>\n",
       "      <td>32.279029</td>\n",
       "      <td>24.177727</td>\n",
       "      <td>40.282727</td>\n",
       "    </tr>\n",
       "    <tr>\n",
       "      <th>Basic Enclosure + HPWH + High Efficiency HP/Electric Backup</th>\n",
       "      <td>104</td>\n",
       "      <td>12128.040241</td>\n",
       "      <td>32.175280</td>\n",
       "      <td>24.177727</td>\n",
       "      <td>39.987636</td>\n",
       "    </tr>\n",
       "    <tr>\n",
       "      <th>Mininum Efficiency Whole Home Electrification</th>\n",
       "      <td>101</td>\n",
       "      <td>11516.635829</td>\n",
       "      <td>31.610940</td>\n",
       "      <td>25.033091</td>\n",
       "      <td>41.909177</td>\n",
       "    </tr>\n",
       "    <tr>\n",
       "      <th>Heat Pump Water Heater</th>\n",
       "      <td>104</td>\n",
       "      <td>12128.040241</td>\n",
       "      <td>29.824485</td>\n",
       "      <td>24.284295</td>\n",
       "      <td>37.579182</td>\n",
       "    </tr>\n",
       "    <tr>\n",
       "      <th>Electric Cooking</th>\n",
       "      <td>66</td>\n",
       "      <td>7857.525997</td>\n",
       "      <td>5.923723</td>\n",
       "      <td>4.820000</td>\n",
       "      <td>7.000255</td>\n",
       "    </tr>\n",
       "    <tr>\n",
       "      <th>Induction Cooking</th>\n",
       "      <td>100</td>\n",
       "      <td>11700.057152</td>\n",
       "      <td>4.486117</td>\n",
       "      <td>0.626983</td>\n",
       "      <td>6.840710</td>\n",
       "    </tr>\n",
       "    <tr>\n",
       "      <th>Heat Pump Clothes Dryer</th>\n",
       "      <td>38</td>\n",
       "      <td>4603.689947</td>\n",
       "      <td>2.457750</td>\n",
       "      <td>2.004727</td>\n",
       "      <td>2.990182</td>\n",
       "    </tr>\n",
       "    <tr>\n",
       "      <th>Enhanced Enclosure</th>\n",
       "      <td>79</td>\n",
       "      <td>9499.001270</td>\n",
       "      <td>1.530635</td>\n",
       "      <td>0.000000</td>\n",
       "      <td>1.746529</td>\n",
       "    </tr>\n",
       "    <tr>\n",
       "      <th>Basic Enclosure</th>\n",
       "      <td>77</td>\n",
       "      <td>9335.960094</td>\n",
       "      <td>1.145522</td>\n",
       "      <td>0.000000</td>\n",
       "      <td>1.675292</td>\n",
       "    </tr>\n",
       "    <tr>\n",
       "      <th>Electric Clothes Dryer</th>\n",
       "      <td>3</td>\n",
       "      <td>244.561765</td>\n",
       "      <td>1.023333</td>\n",
       "      <td>0.886667</td>\n",
       "      <td>1.160000</td>\n",
       "    </tr>\n",
       "    <tr>\n",
       "      <th>baseline</th>\n",
       "      <td>104</td>\n",
       "      <td>12128.040241</td>\n",
       "      <td>0.000000</td>\n",
       "      <td>NaN</td>\n",
       "      <td>NaN</td>\n",
       "    </tr>\n",
       "    <tr>\n",
       "      <th>High Efficiency Heat Pump with Electric Heat Backup</th>\n",
       "      <td>104</td>\n",
       "      <td>12128.040241</td>\n",
       "      <td>-3.168742</td>\n",
       "      <td>-11.300000</td>\n",
       "      <td>7.623056</td>\n",
       "    </tr>\n",
       "    <tr>\n",
       "      <th>Mininum Efficiency Heat Pump with Electric Heat Backup</th>\n",
       "      <td>104</td>\n",
       "      <td>12128.040241</td>\n",
       "      <td>-10.715362</td>\n",
       "      <td>-20.363545</td>\n",
       "      <td>0.045199</td>\n",
       "    </tr>\n",
       "    <tr>\n",
       "      <th>Mininum Efficiency Heat Pump with Existing Heat Backup</th>\n",
       "      <td>104</td>\n",
       "      <td>12128.040241</td>\n",
       "      <td>-10.831834</td>\n",
       "      <td>-20.363545</td>\n",
       "      <td>0.027119</td>\n",
       "    </tr>\n",
       "  </tbody>\n",
       "</table>\n",
       "</div>"
      ],
      "text/plain": [
       "                                                    n_samples  n_represented  \\\n",
       "upgrade_name                                                                   \n",
       "Enhanced Enclosure + High Efficiency Whole Home...        104   12128.040241   \n",
       "Basic Enclosure + High Efficiency Whole Home El...        104   12128.040241   \n",
       "High Efficiency Whole Home Electrification                104   12128.040241   \n",
       "Enhanced Enclosure + HPWH + High Efficiency HP/...        104   12128.040241   \n",
       "Basic Enclosure + HPWH + High Efficiency HP/Ele...        104   12128.040241   \n",
       "Mininum Efficiency Whole Home Electrification             101   11516.635829   \n",
       "Heat Pump Water Heater                                    104   12128.040241   \n",
       "Electric Cooking                                           66    7857.525997   \n",
       "Induction Cooking                                         100   11700.057152   \n",
       "Heat Pump Clothes Dryer                                    38    4603.689947   \n",
       "Enhanced Enclosure                                         79    9499.001270   \n",
       "Basic Enclosure                                            77    9335.960094   \n",
       "Electric Clothes Dryer                                      3     244.561765   \n",
       "baseline                                                  104   12128.040241   \n",
       "High Efficiency Heat Pump with Electric Heat Ba...        104   12128.040241   \n",
       "Mininum Efficiency Heat Pump with Electric Heat...        104   12128.040241   \n",
       "Mininum Efficiency Heat Pump with Existing Heat...        104   12128.040241   \n",
       "\n",
       "                                                    pct_saving_energy.total_% wt_mean  \\\n",
       "upgrade_name                                                                            \n",
       "Enhanced Enclosure + High Efficiency Whole Home...                          37.538687   \n",
       "Basic Enclosure + High Efficiency Whole Home El...                          37.435005   \n",
       "High Efficiency Whole Home Electrification                                  37.053599   \n",
       "Enhanced Enclosure + HPWH + High Efficiency HP/...                          32.279029   \n",
       "Basic Enclosure + HPWH + High Efficiency HP/Ele...                          32.175280   \n",
       "Mininum Efficiency Whole Home Electrification                               31.610940   \n",
       "Heat Pump Water Heater                                                      29.824485   \n",
       "Electric Cooking                                                             5.923723   \n",
       "Induction Cooking                                                            4.486117   \n",
       "Heat Pump Clothes Dryer                                                      2.457750   \n",
       "Enhanced Enclosure                                                           1.530635   \n",
       "Basic Enclosure                                                              1.145522   \n",
       "Electric Clothes Dryer                                                       1.023333   \n",
       "baseline                                                                     0.000000   \n",
       "High Efficiency Heat Pump with Electric Heat Ba...                          -3.168742   \n",
       "Mininum Efficiency Heat Pump with Electric Heat...                         -10.715362   \n",
       "Mininum Efficiency Heat Pump with Existing Heat...                         -10.831834   \n",
       "\n",
       "                                                    pct_saving_energy.total_% wt_p0.25  \\\n",
       "upgrade_name                                                                             \n",
       "Enhanced Enclosure + High Efficiency Whole Home...                           31.009697   \n",
       "Basic Enclosure + High Efficiency Whole Home El...                           30.865769   \n",
       "High Efficiency Whole Home Electrification                                   28.741818   \n",
       "Enhanced Enclosure + HPWH + High Efficiency HP/...                           24.177727   \n",
       "Basic Enclosure + HPWH + High Efficiency HP/Ele...                           24.177727   \n",
       "Mininum Efficiency Whole Home Electrification                                25.033091   \n",
       "Heat Pump Water Heater                                                       24.284295   \n",
       "Electric Cooking                                                              4.820000   \n",
       "Induction Cooking                                                             0.626983   \n",
       "Heat Pump Clothes Dryer                                                       2.004727   \n",
       "Enhanced Enclosure                                                            0.000000   \n",
       "Basic Enclosure                                                               0.000000   \n",
       "Electric Clothes Dryer                                                        0.886667   \n",
       "baseline                                                                           NaN   \n",
       "High Efficiency Heat Pump with Electric Heat Ba...                          -11.300000   \n",
       "Mininum Efficiency Heat Pump with Electric Heat...                          -20.363545   \n",
       "Mininum Efficiency Heat Pump with Existing Heat...                          -20.363545   \n",
       "\n",
       "                                                    pct_saving_energy.total_% wt_p0.75  \n",
       "upgrade_name                                                                            \n",
       "Enhanced Enclosure + High Efficiency Whole Home...                           46.500000  \n",
       "Basic Enclosure + High Efficiency Whole Home El...                           46.109917  \n",
       "High Efficiency Whole Home Electrification                                   45.633802  \n",
       "Enhanced Enclosure + HPWH + High Efficiency HP/...                           40.282727  \n",
       "Basic Enclosure + HPWH + High Efficiency HP/Ele...                           39.987636  \n",
       "Mininum Efficiency Whole Home Electrification                                41.909177  \n",
       "Heat Pump Water Heater                                                       37.579182  \n",
       "Electric Cooking                                                              7.000255  \n",
       "Induction Cooking                                                             6.840710  \n",
       "Heat Pump Clothes Dryer                                                       2.990182  \n",
       "Enhanced Enclosure                                                            1.746529  \n",
       "Basic Enclosure                                                               1.675292  \n",
       "Electric Clothes Dryer                                                        1.160000  \n",
       "baseline                                                                           NaN  \n",
       "High Efficiency Heat Pump with Electric Heat Ba...                            7.623056  \n",
       "Mininum Efficiency Heat Pump with Electric Heat...                            0.045199  \n",
       "Mininum Efficiency Heat Pump with Existing Heat...                            0.027119  "
      ]
     },
     "metadata": {},
     "output_type": "display_data"
    },
    {
     "name": "stdout",
     "output_type": "stream",
     "text": [
      "Summary for segment: segment3: \n"
     ]
    },
    {
     "data": {
      "text/html": [
       "<div>\n",
       "<style scoped>\n",
       "    .dataframe tbody tr th:only-of-type {\n",
       "        vertical-align: middle;\n",
       "    }\n",
       "\n",
       "    .dataframe tbody tr th {\n",
       "        vertical-align: top;\n",
       "    }\n",
       "\n",
       "    .dataframe thead th {\n",
       "        text-align: right;\n",
       "    }\n",
       "</style>\n",
       "<table border=\"1\" class=\"dataframe\">\n",
       "  <thead>\n",
       "    <tr style=\"text-align: right;\">\n",
       "      <th></th>\n",
       "      <th>n_samples</th>\n",
       "      <th>n_represented</th>\n",
       "      <th>pct_saving_energy.total_% wt_mean</th>\n",
       "      <th>pct_saving_energy.total_% wt_p0.25</th>\n",
       "      <th>pct_saving_energy.total_% wt_p0.75</th>\n",
       "    </tr>\n",
       "    <tr>\n",
       "      <th>upgrade_name</th>\n",
       "      <th></th>\n",
       "      <th></th>\n",
       "      <th></th>\n",
       "      <th></th>\n",
       "      <th></th>\n",
       "    </tr>\n",
       "  </thead>\n",
       "  <tbody>\n",
       "    <tr>\n",
       "      <th>Enhanced Enclosure + High Efficiency Whole Home Electrification</th>\n",
       "      <td>324</td>\n",
       "      <td>18303.007957</td>\n",
       "      <td>49.975292</td>\n",
       "      <td>39.681553</td>\n",
       "      <td>60.658954</td>\n",
       "    </tr>\n",
       "    <tr>\n",
       "      <th>Basic Enclosure + High Efficiency Whole Home Electrification</th>\n",
       "      <td>324</td>\n",
       "      <td>18303.007957</td>\n",
       "      <td>49.821133</td>\n",
       "      <td>39.241196</td>\n",
       "      <td>60.670000</td>\n",
       "    </tr>\n",
       "    <tr>\n",
       "      <th>High Efficiency Whole Home Electrification</th>\n",
       "      <td>324</td>\n",
       "      <td>18303.007957</td>\n",
       "      <td>45.651783</td>\n",
       "      <td>35.802389</td>\n",
       "      <td>55.431567</td>\n",
       "    </tr>\n",
       "    <tr>\n",
       "      <th>Enhanced Enclosure + HPWH + High Efficiency HP/Electric Backup</th>\n",
       "      <td>324</td>\n",
       "      <td>18303.007957</td>\n",
       "      <td>45.173167</td>\n",
       "      <td>33.820865</td>\n",
       "      <td>57.060065</td>\n",
       "    </tr>\n",
       "    <tr>\n",
       "      <th>Basic Enclosure + HPWH + High Efficiency HP/Electric Backup</th>\n",
       "      <td>324</td>\n",
       "      <td>18303.007957</td>\n",
       "      <td>45.019513</td>\n",
       "      <td>34.203116</td>\n",
       "      <td>56.983462</td>\n",
       "    </tr>\n",
       "    <tr>\n",
       "      <th>Mininum Efficiency Whole Home Electrification</th>\n",
       "      <td>323</td>\n",
       "      <td>18058.446193</td>\n",
       "      <td>34.106703</td>\n",
       "      <td>23.012199</td>\n",
       "      <td>44.849805</td>\n",
       "    </tr>\n",
       "    <tr>\n",
       "      <th>Enhanced Enclosure</th>\n",
       "      <td>324</td>\n",
       "      <td>18303.007957</td>\n",
       "      <td>20.528597</td>\n",
       "      <td>8.391694</td>\n",
       "      <td>31.123987</td>\n",
       "    </tr>\n",
       "    <tr>\n",
       "      <th>Heat Pump Water Heater</th>\n",
       "      <td>324</td>\n",
       "      <td>18303.007957</td>\n",
       "      <td>20.145229</td>\n",
       "      <td>14.064240</td>\n",
       "      <td>26.608162</td>\n",
       "    </tr>\n",
       "    <tr>\n",
       "      <th>Basic Enclosure</th>\n",
       "      <td>323</td>\n",
       "      <td>18241.867516</td>\n",
       "      <td>18.920226</td>\n",
       "      <td>7.640597</td>\n",
       "      <td>28.524199</td>\n",
       "    </tr>\n",
       "    <tr>\n",
       "      <th>High Efficiency Heat Pump with Electric Heat Backup</th>\n",
       "      <td>324</td>\n",
       "      <td>18303.007957</td>\n",
       "      <td>17.053217</td>\n",
       "      <td>0.851571</td>\n",
       "      <td>32.652235</td>\n",
       "    </tr>\n",
       "    <tr>\n",
       "      <th>Mininum Efficiency Heat Pump with Electric Heat Backup</th>\n",
       "      <td>324</td>\n",
       "      <td>18303.007957</td>\n",
       "      <td>7.627104</td>\n",
       "      <td>-10.345782</td>\n",
       "      <td>23.879139</td>\n",
       "    </tr>\n",
       "    <tr>\n",
       "      <th>Mininum Efficiency Heat Pump with Existing Heat Backup</th>\n",
       "      <td>324</td>\n",
       "      <td>18303.007957</td>\n",
       "      <td>6.251424</td>\n",
       "      <td>-10.425023</td>\n",
       "      <td>21.487636</td>\n",
       "    </tr>\n",
       "    <tr>\n",
       "      <th>Electric Cooking</th>\n",
       "      <td>236</td>\n",
       "      <td>13294.317729</td>\n",
       "      <td>3.042842</td>\n",
       "      <td>2.210000</td>\n",
       "      <td>3.767740</td>\n",
       "    </tr>\n",
       "    <tr>\n",
       "      <th>Induction Cooking</th>\n",
       "      <td>318</td>\n",
       "      <td>18013.503998</td>\n",
       "      <td>2.509896</td>\n",
       "      <td>0.474504</td>\n",
       "      <td>3.660000</td>\n",
       "    </tr>\n",
       "    <tr>\n",
       "      <th>Heat Pump Clothes Dryer</th>\n",
       "      <td>315</td>\n",
       "      <td>17817.960457</td>\n",
       "      <td>2.394786</td>\n",
       "      <td>1.480606</td>\n",
       "      <td>3.082932</td>\n",
       "    </tr>\n",
       "    <tr>\n",
       "      <th>Electric Clothes Dryer</th>\n",
       "      <td>120</td>\n",
       "      <td>6217.135900</td>\n",
       "      <td>1.060681</td>\n",
       "      <td>0.680518</td>\n",
       "      <td>1.400000</td>\n",
       "    </tr>\n",
       "    <tr>\n",
       "      <th>baseline</th>\n",
       "      <td>324</td>\n",
       "      <td>18303.007957</td>\n",
       "      <td>0.000000</td>\n",
       "      <td>NaN</td>\n",
       "      <td>NaN</td>\n",
       "    </tr>\n",
       "  </tbody>\n",
       "</table>\n",
       "</div>"
      ],
      "text/plain": [
       "                                                    n_samples  n_represented  \\\n",
       "upgrade_name                                                                   \n",
       "Enhanced Enclosure + High Efficiency Whole Home...        324   18303.007957   \n",
       "Basic Enclosure + High Efficiency Whole Home El...        324   18303.007957   \n",
       "High Efficiency Whole Home Electrification                324   18303.007957   \n",
       "Enhanced Enclosure + HPWH + High Efficiency HP/...        324   18303.007957   \n",
       "Basic Enclosure + HPWH + High Efficiency HP/Ele...        324   18303.007957   \n",
       "Mininum Efficiency Whole Home Electrification             323   18058.446193   \n",
       "Enhanced Enclosure                                        324   18303.007957   \n",
       "Heat Pump Water Heater                                    324   18303.007957   \n",
       "Basic Enclosure                                           323   18241.867516   \n",
       "High Efficiency Heat Pump with Electric Heat Ba...        324   18303.007957   \n",
       "Mininum Efficiency Heat Pump with Electric Heat...        324   18303.007957   \n",
       "Mininum Efficiency Heat Pump with Existing Heat...        324   18303.007957   \n",
       "Electric Cooking                                          236   13294.317729   \n",
       "Induction Cooking                                         318   18013.503998   \n",
       "Heat Pump Clothes Dryer                                   315   17817.960457   \n",
       "Electric Clothes Dryer                                    120    6217.135900   \n",
       "baseline                                                  324   18303.007957   \n",
       "\n",
       "                                                    pct_saving_energy.total_% wt_mean  \\\n",
       "upgrade_name                                                                            \n",
       "Enhanced Enclosure + High Efficiency Whole Home...                          49.975292   \n",
       "Basic Enclosure + High Efficiency Whole Home El...                          49.821133   \n",
       "High Efficiency Whole Home Electrification                                  45.651783   \n",
       "Enhanced Enclosure + HPWH + High Efficiency HP/...                          45.173167   \n",
       "Basic Enclosure + HPWH + High Efficiency HP/Ele...                          45.019513   \n",
       "Mininum Efficiency Whole Home Electrification                               34.106703   \n",
       "Enhanced Enclosure                                                          20.528597   \n",
       "Heat Pump Water Heater                                                      20.145229   \n",
       "Basic Enclosure                                                             18.920226   \n",
       "High Efficiency Heat Pump with Electric Heat Ba...                          17.053217   \n",
       "Mininum Efficiency Heat Pump with Electric Heat...                           7.627104   \n",
       "Mininum Efficiency Heat Pump with Existing Heat...                           6.251424   \n",
       "Electric Cooking                                                             3.042842   \n",
       "Induction Cooking                                                            2.509896   \n",
       "Heat Pump Clothes Dryer                                                      2.394786   \n",
       "Electric Clothes Dryer                                                       1.060681   \n",
       "baseline                                                                     0.000000   \n",
       "\n",
       "                                                    pct_saving_energy.total_% wt_p0.25  \\\n",
       "upgrade_name                                                                             \n",
       "Enhanced Enclosure + High Efficiency Whole Home...                           39.681553   \n",
       "Basic Enclosure + High Efficiency Whole Home El...                           39.241196   \n",
       "High Efficiency Whole Home Electrification                                   35.802389   \n",
       "Enhanced Enclosure + HPWH + High Efficiency HP/...                           33.820865   \n",
       "Basic Enclosure + HPWH + High Efficiency HP/Ele...                           34.203116   \n",
       "Mininum Efficiency Whole Home Electrification                                23.012199   \n",
       "Enhanced Enclosure                                                            8.391694   \n",
       "Heat Pump Water Heater                                                       14.064240   \n",
       "Basic Enclosure                                                               7.640597   \n",
       "High Efficiency Heat Pump with Electric Heat Ba...                            0.851571   \n",
       "Mininum Efficiency Heat Pump with Electric Heat...                          -10.345782   \n",
       "Mininum Efficiency Heat Pump with Existing Heat...                          -10.425023   \n",
       "Electric Cooking                                                              2.210000   \n",
       "Induction Cooking                                                             0.474504   \n",
       "Heat Pump Clothes Dryer                                                       1.480606   \n",
       "Electric Clothes Dryer                                                        0.680518   \n",
       "baseline                                                                           NaN   \n",
       "\n",
       "                                                    pct_saving_energy.total_% wt_p0.75  \n",
       "upgrade_name                                                                            \n",
       "Enhanced Enclosure + High Efficiency Whole Home...                           60.658954  \n",
       "Basic Enclosure + High Efficiency Whole Home El...                           60.670000  \n",
       "High Efficiency Whole Home Electrification                                   55.431567  \n",
       "Enhanced Enclosure + HPWH + High Efficiency HP/...                           57.060065  \n",
       "Basic Enclosure + HPWH + High Efficiency HP/Ele...                           56.983462  \n",
       "Mininum Efficiency Whole Home Electrification                                44.849805  \n",
       "Enhanced Enclosure                                                           31.123987  \n",
       "Heat Pump Water Heater                                                       26.608162  \n",
       "Basic Enclosure                                                              28.524199  \n",
       "High Efficiency Heat Pump with Electric Heat Ba...                           32.652235  \n",
       "Mininum Efficiency Heat Pump with Electric Heat...                           23.879139  \n",
       "Mininum Efficiency Heat Pump with Existing Heat...                           21.487636  \n",
       "Electric Cooking                                                              3.767740  \n",
       "Induction Cooking                                                             3.660000  \n",
       "Heat Pump Clothes Dryer                                                       3.082932  \n",
       "Electric Clothes Dryer                                                        1.400000  \n",
       "baseline                                                                           NaN  "
      ]
     },
     "metadata": {},
     "output_type": "display_data"
    },
    {
     "name": "stdout",
     "output_type": "stream",
     "text": [
      "Summary for segment: segment4: \n"
     ]
    },
    {
     "data": {
      "text/html": [
       "<div>\n",
       "<style scoped>\n",
       "    .dataframe tbody tr th:only-of-type {\n",
       "        vertical-align: middle;\n",
       "    }\n",
       "\n",
       "    .dataframe tbody tr th {\n",
       "        vertical-align: top;\n",
       "    }\n",
       "\n",
       "    .dataframe thead th {\n",
       "        text-align: right;\n",
       "    }\n",
       "</style>\n",
       "<table border=\"1\" class=\"dataframe\">\n",
       "  <thead>\n",
       "    <tr style=\"text-align: right;\">\n",
       "      <th></th>\n",
       "      <th>n_samples</th>\n",
       "      <th>n_represented</th>\n",
       "      <th>pct_saving_energy.total_% wt_mean</th>\n",
       "      <th>pct_saving_energy.total_% wt_p0.25</th>\n",
       "      <th>pct_saving_energy.total_% wt_p0.75</th>\n",
       "    </tr>\n",
       "    <tr>\n",
       "      <th>upgrade_name</th>\n",
       "      <th></th>\n",
       "      <th></th>\n",
       "      <th></th>\n",
       "      <th></th>\n",
       "      <th></th>\n",
       "    </tr>\n",
       "  </thead>\n",
       "  <tbody>\n",
       "    <tr>\n",
       "      <th>Enhanced Enclosure + High Efficiency Whole Home Electrification</th>\n",
       "      <td>24</td>\n",
       "      <td>3668.426471</td>\n",
       "      <td>44.665844</td>\n",
       "      <td>34.319500</td>\n",
       "      <td>57.010000</td>\n",
       "    </tr>\n",
       "    <tr>\n",
       "      <th>Basic Enclosure + High Efficiency Whole Home Electrification</th>\n",
       "      <td>24</td>\n",
       "      <td>3668.426471</td>\n",
       "      <td>44.580378</td>\n",
       "      <td>34.319500</td>\n",
       "      <td>57.010000</td>\n",
       "    </tr>\n",
       "    <tr>\n",
       "      <th>High Efficiency Whole Home Electrification</th>\n",
       "      <td>24</td>\n",
       "      <td>3668.426471</td>\n",
       "      <td>41.446444</td>\n",
       "      <td>31.344889</td>\n",
       "      <td>52.550000</td>\n",
       "    </tr>\n",
       "    <tr>\n",
       "      <th>Enhanced Enclosure + HPWH + High Efficiency HP/Electric Backup</th>\n",
       "      <td>24</td>\n",
       "      <td>3668.426471</td>\n",
       "      <td>38.238422</td>\n",
       "      <td>27.175000</td>\n",
       "      <td>50.605000</td>\n",
       "    </tr>\n",
       "    <tr>\n",
       "      <th>Basic Enclosure + HPWH + High Efficiency HP/Electric Backup</th>\n",
       "      <td>24</td>\n",
       "      <td>3668.426471</td>\n",
       "      <td>38.153622</td>\n",
       "      <td>27.171500</td>\n",
       "      <td>50.605000</td>\n",
       "    </tr>\n",
       "    <tr>\n",
       "      <th>Mininum Efficiency Whole Home Electrification</th>\n",
       "      <td>22</td>\n",
       "      <td>3342.344118</td>\n",
       "      <td>28.989195</td>\n",
       "      <td>19.808000</td>\n",
       "      <td>41.991944</td>\n",
       "    </tr>\n",
       "    <tr>\n",
       "      <th>Heat Pump Water Heater</th>\n",
       "      <td>24</td>\n",
       "      <td>3668.426471</td>\n",
       "      <td>16.745333</td>\n",
       "      <td>10.649667</td>\n",
       "      <td>22.600000</td>\n",
       "    </tr>\n",
       "    <tr>\n",
       "      <th>Enhanced Enclosure</th>\n",
       "      <td>24</td>\n",
       "      <td>3668.426471</td>\n",
       "      <td>13.592511</td>\n",
       "      <td>2.740000</td>\n",
       "      <td>23.132667</td>\n",
       "    </tr>\n",
       "    <tr>\n",
       "      <th>Basic Enclosure</th>\n",
       "      <td>24</td>\n",
       "      <td>3668.426471</td>\n",
       "      <td>12.482378</td>\n",
       "      <td>2.100000</td>\n",
       "      <td>21.987000</td>\n",
       "    </tr>\n",
       "    <tr>\n",
       "      <th>High Efficiency Heat Pump with Electric Heat Backup</th>\n",
       "      <td>24</td>\n",
       "      <td>3668.426471</td>\n",
       "      <td>11.324311</td>\n",
       "      <td>-1.381500</td>\n",
       "      <td>23.000000</td>\n",
       "    </tr>\n",
       "    <tr>\n",
       "      <th>Electric Cooking</th>\n",
       "      <td>17</td>\n",
       "      <td>2951.045294</td>\n",
       "      <td>4.131160</td>\n",
       "      <td>3.062667</td>\n",
       "      <td>5.070833</td>\n",
       "    </tr>\n",
       "    <tr>\n",
       "      <th>Induction Cooking</th>\n",
       "      <td>23</td>\n",
       "      <td>3586.905882</td>\n",
       "      <td>3.874955</td>\n",
       "      <td>2.675333</td>\n",
       "      <td>5.340000</td>\n",
       "    </tr>\n",
       "    <tr>\n",
       "      <th>Mininum Efficiency Heat Pump with Electric Heat Backup</th>\n",
       "      <td>24</td>\n",
       "      <td>3668.426471</td>\n",
       "      <td>3.468867</td>\n",
       "      <td>-7.804444</td>\n",
       "      <td>12.910500</td>\n",
       "    </tr>\n",
       "    <tr>\n",
       "      <th>Heat Pump Clothes Dryer</th>\n",
       "      <td>23</td>\n",
       "      <td>3423.864706</td>\n",
       "      <td>2.828238</td>\n",
       "      <td>1.890000</td>\n",
       "      <td>3.551000</td>\n",
       "    </tr>\n",
       "    <tr>\n",
       "      <th>Mininum Efficiency Heat Pump with Existing Heat Backup</th>\n",
       "      <td>24</td>\n",
       "      <td>3668.426471</td>\n",
       "      <td>2.498244</td>\n",
       "      <td>-7.638222</td>\n",
       "      <td>10.661944</td>\n",
       "    </tr>\n",
       "    <tr>\n",
       "      <th>Electric Clothes Dryer</th>\n",
       "      <td>6</td>\n",
       "      <td>741.837353</td>\n",
       "      <td>1.423297</td>\n",
       "      <td>0.875625</td>\n",
       "      <td>2.070238</td>\n",
       "    </tr>\n",
       "    <tr>\n",
       "      <th>baseline</th>\n",
       "      <td>24</td>\n",
       "      <td>3668.426471</td>\n",
       "      <td>0.000000</td>\n",
       "      <td>NaN</td>\n",
       "      <td>NaN</td>\n",
       "    </tr>\n",
       "  </tbody>\n",
       "</table>\n",
       "</div>"
      ],
      "text/plain": [
       "                                                    n_samples  n_represented  \\\n",
       "upgrade_name                                                                   \n",
       "Enhanced Enclosure + High Efficiency Whole Home...         24    3668.426471   \n",
       "Basic Enclosure + High Efficiency Whole Home El...         24    3668.426471   \n",
       "High Efficiency Whole Home Electrification                 24    3668.426471   \n",
       "Enhanced Enclosure + HPWH + High Efficiency HP/...         24    3668.426471   \n",
       "Basic Enclosure + HPWH + High Efficiency HP/Ele...         24    3668.426471   \n",
       "Mininum Efficiency Whole Home Electrification              22    3342.344118   \n",
       "Heat Pump Water Heater                                     24    3668.426471   \n",
       "Enhanced Enclosure                                         24    3668.426471   \n",
       "Basic Enclosure                                            24    3668.426471   \n",
       "High Efficiency Heat Pump with Electric Heat Ba...         24    3668.426471   \n",
       "Electric Cooking                                           17    2951.045294   \n",
       "Induction Cooking                                          23    3586.905882   \n",
       "Mininum Efficiency Heat Pump with Electric Heat...         24    3668.426471   \n",
       "Heat Pump Clothes Dryer                                    23    3423.864706   \n",
       "Mininum Efficiency Heat Pump with Existing Heat...         24    3668.426471   \n",
       "Electric Clothes Dryer                                      6     741.837353   \n",
       "baseline                                                   24    3668.426471   \n",
       "\n",
       "                                                    pct_saving_energy.total_% wt_mean  \\\n",
       "upgrade_name                                                                            \n",
       "Enhanced Enclosure + High Efficiency Whole Home...                          44.665844   \n",
       "Basic Enclosure + High Efficiency Whole Home El...                          44.580378   \n",
       "High Efficiency Whole Home Electrification                                  41.446444   \n",
       "Enhanced Enclosure + HPWH + High Efficiency HP/...                          38.238422   \n",
       "Basic Enclosure + HPWH + High Efficiency HP/Ele...                          38.153622   \n",
       "Mininum Efficiency Whole Home Electrification                               28.989195   \n",
       "Heat Pump Water Heater                                                      16.745333   \n",
       "Enhanced Enclosure                                                          13.592511   \n",
       "Basic Enclosure                                                             12.482378   \n",
       "High Efficiency Heat Pump with Electric Heat Ba...                          11.324311   \n",
       "Electric Cooking                                                             4.131160   \n",
       "Induction Cooking                                                            3.874955   \n",
       "Mininum Efficiency Heat Pump with Electric Heat...                           3.468867   \n",
       "Heat Pump Clothes Dryer                                                      2.828238   \n",
       "Mininum Efficiency Heat Pump with Existing Heat...                           2.498244   \n",
       "Electric Clothes Dryer                                                       1.423297   \n",
       "baseline                                                                     0.000000   \n",
       "\n",
       "                                                    pct_saving_energy.total_% wt_p0.25  \\\n",
       "upgrade_name                                                                             \n",
       "Enhanced Enclosure + High Efficiency Whole Home...                           34.319500   \n",
       "Basic Enclosure + High Efficiency Whole Home El...                           34.319500   \n",
       "High Efficiency Whole Home Electrification                                   31.344889   \n",
       "Enhanced Enclosure + HPWH + High Efficiency HP/...                           27.175000   \n",
       "Basic Enclosure + HPWH + High Efficiency HP/Ele...                           27.171500   \n",
       "Mininum Efficiency Whole Home Electrification                                19.808000   \n",
       "Heat Pump Water Heater                                                       10.649667   \n",
       "Enhanced Enclosure                                                            2.740000   \n",
       "Basic Enclosure                                                               2.100000   \n",
       "High Efficiency Heat Pump with Electric Heat Ba...                           -1.381500   \n",
       "Electric Cooking                                                              3.062667   \n",
       "Induction Cooking                                                             2.675333   \n",
       "Mininum Efficiency Heat Pump with Electric Heat...                           -7.804444   \n",
       "Heat Pump Clothes Dryer                                                       1.890000   \n",
       "Mininum Efficiency Heat Pump with Existing Heat...                           -7.638222   \n",
       "Electric Clothes Dryer                                                        0.875625   \n",
       "baseline                                                                           NaN   \n",
       "\n",
       "                                                    pct_saving_energy.total_% wt_p0.75  \n",
       "upgrade_name                                                                            \n",
       "Enhanced Enclosure + High Efficiency Whole Home...                           57.010000  \n",
       "Basic Enclosure + High Efficiency Whole Home El...                           57.010000  \n",
       "High Efficiency Whole Home Electrification                                   52.550000  \n",
       "Enhanced Enclosure + HPWH + High Efficiency HP/...                           50.605000  \n",
       "Basic Enclosure + HPWH + High Efficiency HP/Ele...                           50.605000  \n",
       "Mininum Efficiency Whole Home Electrification                                41.991944  \n",
       "Heat Pump Water Heater                                                       22.600000  \n",
       "Enhanced Enclosure                                                           23.132667  \n",
       "Basic Enclosure                                                              21.987000  \n",
       "High Efficiency Heat Pump with Electric Heat Ba...                           23.000000  \n",
       "Electric Cooking                                                              5.070833  \n",
       "Induction Cooking                                                             5.340000  \n",
       "Mininum Efficiency Heat Pump with Electric Heat...                           12.910500  \n",
       "Heat Pump Clothes Dryer                                                       3.551000  \n",
       "Mininum Efficiency Heat Pump with Existing Heat...                           10.661944  \n",
       "Electric Clothes Dryer                                                        2.070238  \n",
       "baseline                                                                           NaN  "
      ]
     },
     "metadata": {},
     "output_type": "display_data"
    }
   ],
   "source": [
    "metric = 'pct_saving_energy.total_%'  # TODO 'pct_saving_cbill.total_%' #'pct_saving_energy.total_%' #'saving_energy.total_mmbtu' #'saving_cbill.total_usd'\n",
    "\n",
    "for segment in sorted(community_results[\"segment\"].dropna().unique()):\n",
    "    print(f\"Summary for segment: {segment}: \")\n",
    "    df_seg = community_results.loc[community_results[\"segment\"]==segment]\n",
    "    display(get_summary(df_seg, metric, lower_percentile=0.25, upper_percentile=0.75))"
   ]
  },
  {
   "cell_type": "markdown",
   "id": "13fe6b47",
   "metadata": {},
   "source": [
    "## 2.1 Upgrade Cost Per Dwelling Unit "
   ]
  },
  {
   "cell_type": "code",
   "execution_count": 21,
   "id": "585a1a25",
   "metadata": {},
   "outputs": [
    {
     "name": "stdout",
     "output_type": "stream",
     "text": [
      "segment1: upgrade cost (usd) per dwelling unit\n"
     ]
    },
    {
     "data": {
      "text/plain": [
       "upgrade_name\n",
       "Electric Clothes Dryer                                              1692.2\n",
       "Electric Cooking                                                    1700.0\n",
       "Heat Pump Clothes Dryer                                             2507.0\n",
       "Induction Cooking                                                   2591.2\n",
       "Basic Enclosure                                                     2826.5\n",
       "Heat Pump Water Heater                                              3761.0\n",
       "Enhanced Enclosure                                                  3997.3\n",
       "Mininum Efficiency Whole Home Electrification                       5676.9\n",
       "Mininum Efficiency Heat Pump with Electric Heat Backup              5732.1\n",
       "Mininum Efficiency Heat Pump with Existing Heat Backup              7571.1\n",
       "High Efficiency Heat Pump with Electric Heat Backup                19346.5\n",
       "Basic Enclosure + HPWH + High Efficiency HP/Electric Backup        24565.4\n",
       "Enhanced Enclosure + HPWH + High Efficiency HP/Electric Backup     25493.1\n",
       "High Efficiency Whole Home Electrification                         26494.8\n",
       "Basic Enclosure + High Efficiency Whole Home Electrification       28003.2\n",
       "Enhanced Enclosure + High Efficiency Whole Home Electrification    28930.9\n",
       "Name: upgrade_cost_usd, dtype: float64"
      ]
     },
     "metadata": {},
     "output_type": "display_data"
    },
    {
     "name": "stdout",
     "output_type": "stream",
     "text": [
      "segment2: upgrade cost (usd) per dwelling unit\n"
     ]
    },
    {
     "data": {
      "text/plain": [
       "upgrade_name\n",
       "Basic Enclosure                                                     1384.6\n",
       "Electric Clothes Dryer                                              1692.2\n",
       "Electric Cooking                                                    1700.0\n",
       "Enhanced Enclosure                                                  1724.4\n",
       "Heat Pump Clothes Dryer                                             2507.0\n",
       "Induction Cooking                                                   2591.2\n",
       "Heat Pump Water Heater                                              3777.0\n",
       "Mininum Efficiency Whole Home Electrification                       4799.5\n",
       "Mininum Efficiency Heat Pump with Electric Heat Backup              6731.7\n",
       "Mininum Efficiency Heat Pump with Existing Heat Backup              7788.3\n",
       "High Efficiency Heat Pump with Electric Heat Backup                21984.0\n",
       "Basic Enclosure + HPWH + High Efficiency HP/Electric Backup        26568.8\n",
       "Enhanced Enclosure + HPWH + High Efficiency HP/Electric Backup     26817.0\n",
       "High Efficiency Whole Home Electrification                         29212.4\n",
       "Basic Enclosure + High Efficiency Whole Home Electrification       30020.1\n",
       "Enhanced Enclosure + High Efficiency Whole Home Electrification    30268.4\n",
       "Name: upgrade_cost_usd, dtype: float64"
      ]
     },
     "metadata": {},
     "output_type": "display_data"
    },
    {
     "name": "stdout",
     "output_type": "stream",
     "text": [
      "segment3: upgrade cost (usd) per dwelling unit\n"
     ]
    },
    {
     "data": {
      "text/plain": [
       "upgrade_name\n",
       "Electric Clothes Dryer                                              1692.2\n",
       "Electric Cooking                                                    1700.0\n",
       "Heat Pump Clothes Dryer                                             2507.0\n",
       "Induction Cooking                                                   2591.2\n",
       "Heat Pump Water Heater                                              4138.8\n",
       "Mininum Efficiency Heat Pump with Electric Heat Backup             12093.6\n",
       "Basic Enclosure                                                    13312.2\n",
       "Mininum Efficiency Heat Pump with Existing Heat Backup             14351.9\n",
       "Mininum Efficiency Whole Home Electrification                      15051.7\n",
       "Enhanced Enclosure                                                 16949.8\n",
       "High Efficiency Heat Pump with Electric Heat Backup                32312.5\n",
       "High Efficiency Whole Home Electrification                         41442.1\n",
       "Basic Enclosure + HPWH + High Efficiency HP/Electric Backup        44172.4\n",
       "Enhanced Enclosure + HPWH + High Efficiency HP/Electric Backup     46962.9\n",
       "Basic Enclosure + High Efficiency Whole Home Electrification       49163.1\n",
       "Enhanced Enclosure + High Efficiency Whole Home Electrification    51953.7\n",
       "Name: upgrade_cost_usd, dtype: float64"
      ]
     },
     "metadata": {},
     "output_type": "display_data"
    },
    {
     "name": "stdout",
     "output_type": "stream",
     "text": [
      "segment4: upgrade cost (usd) per dwelling unit\n"
     ]
    },
    {
     "data": {
      "text/plain": [
       "upgrade_name\n",
       "Electric Clothes Dryer                                              1692.2\n",
       "Electric Cooking                                                    1700.0\n",
       "Heat Pump Clothes Dryer                                             2507.0\n",
       "Induction Cooking                                                   2591.2\n",
       "Heat Pump Water Heater                                              3761.0\n",
       "Basic Enclosure                                                     6315.1\n",
       "Enhanced Enclosure                                                  7642.6\n",
       "Mininum Efficiency Heat Pump with Electric Heat Backup              8728.2\n",
       "Mininum Efficiency Heat Pump with Existing Heat Backup             10367.6\n",
       "Mininum Efficiency Whole Home Electrification                      10508.6\n",
       "High Efficiency Heat Pump with Electric Heat Backup                26072.7\n",
       "Basic Enclosure + HPWH + High Efficiency HP/Electric Backup        33975.3\n",
       "High Efficiency Whole Home Electrification                         34707.2\n",
       "Enhanced Enclosure + HPWH + High Efficiency HP/Electric Backup     34854.2\n",
       "Basic Enclosure + High Efficiency Whole Home Electrification       38848.7\n",
       "Enhanced Enclosure + High Efficiency Whole Home Electrification    39727.7\n",
       "Name: upgrade_cost_usd, dtype: float64"
      ]
     },
     "metadata": {},
     "output_type": "display_data"
    }
   ],
   "source": [
    "results = segment_mean_upgrade_cost(community_results) \n",
    "saving_results[f'segment1_{income}_upgrade_cost_mean_usd'] = results[0]\n",
    "saving_results[f'segment2_{income}_upgrade_cost_mean_usd'] = results[1]\n",
    "saving_results[f'segment3_{income}_upgrade_cost_mean_usd'] = results[2]\n",
    "saving_results[f'segment4_{income}_upgrade_cost_mean_usd'] = results[3]"
   ]
  },
  {
   "cell_type": "markdown",
   "id": "660e0aa3",
   "metadata": {},
   "source": [
    " ## 2.2 Annual Savings Per Dollar Invested"
   ]
  },
  {
   "cell_type": "markdown",
   "id": "9492f6e1",
   "metadata": {},
   "source": [
    " ### Annual Bill Savings Per Dollar Invested"
   ]
  },
  {
   "cell_type": "code",
   "execution_count": 22,
   "id": "6e31ced4",
   "metadata": {},
   "outputs": [
    {
     "name": "stdout",
     "output_type": "stream",
     "text": [
      "segment1\n"
     ]
    },
    {
     "data": {
      "text/plain": [
       "upgrade_name\n",
       "Heat Pump Water Heater                                             0.02611\n",
       "Basic Enclosure                                                    0.02254\n",
       "Enhanced Enclosure                                                 0.01905\n",
       "Mininum Efficiency Whole Home Electrification                      0.01500\n",
       "Heat Pump Clothes Dryer                                            0.01115\n",
       "Basic Enclosure + High Efficiency Whole Home Electrification       0.00722\n",
       "Basic Enclosure + HPWH + High Efficiency HP/Electric Backup        0.00722\n",
       "Enhanced Enclosure + High Efficiency Whole Home Electrification    0.00718\n",
       "Enhanced Enclosure + HPWH + High Efficiency HP/Electric Backup     0.00717\n",
       "High Efficiency Whole Home Electrification                         0.00714\n",
       "Induction Cooking                                                  0.00330\n",
       "Electric Cooking                                                   0.00229\n",
       "High Efficiency Heat Pump with Electric Heat Backup                0.00063\n",
       "Mininum Efficiency Heat Pump with Existing Heat Backup            -0.00993\n",
       "Electric Clothes Dryer                                            -0.01259\n",
       "Mininum Efficiency Heat Pump with Electric Heat Backup            -0.01298\n",
       "Name: saving_cbill.total_usd, dtype: float64"
      ]
     },
     "metadata": {},
     "output_type": "display_data"
    },
    {
     "name": "stdout",
     "output_type": "stream",
     "text": [
      "segment2\n"
     ]
    },
    {
     "data": {
      "text/plain": [
       "upgrade_name\n",
       "Heat Pump Water Heater                                             0.04129\n",
       "Mininum Efficiency Whole Home Electrification                      0.02618\n",
       "Heat Pump Clothes Dryer                                            0.01049\n",
       "Enhanced Enclosure                                                 0.00758\n",
       "Basic Enclosure                                                    0.00689\n",
       "High Efficiency Whole Home Electrification                         0.00687\n",
       "Basic Enclosure + High Efficiency Whole Home Electrification       0.00685\n",
       "Basic Enclosure + HPWH + High Efficiency HP/Electric Backup        0.00683\n",
       "Enhanced Enclosure + High Efficiency Whole Home Electrification    0.00683\n",
       "Enhanced Enclosure + HPWH + High Efficiency HP/Electric Backup     0.00681\n",
       "Electric Cooking                                                   0.00396\n",
       "Induction Cooking                                                  0.00380\n",
       "High Efficiency Heat Pump with Electric Heat Backup               -0.00092\n",
       "Electric Clothes Dryer                                            -0.00864\n",
       "Mininum Efficiency Heat Pump with Existing Heat Backup            -0.01284\n",
       "Mininum Efficiency Heat Pump with Electric Heat Backup            -0.01483\n",
       "Name: saving_cbill.total_usd, dtype: float64"
      ]
     },
     "metadata": {},
     "output_type": "display_data"
    },
    {
     "name": "stdout",
     "output_type": "stream",
     "text": [
      "segment3\n"
     ]
    },
    {
     "data": {
      "text/plain": [
       "upgrade_name\n",
       "Heat Pump Water Heater                                             0.05104\n",
       "Basic Enclosure                                                    0.02697\n",
       "Enhanced Enclosure                                                 0.02285\n",
       "Heat Pump Clothes Dryer                                            0.01632\n",
       "Mininum Efficiency Whole Home Electrification                      0.01626\n",
       "Basic Enclosure + HPWH + High Efficiency HP/Electric Backup        0.01453\n",
       "Basic Enclosure + High Efficiency Whole Home Electrification       0.01420\n",
       "High Efficiency Whole Home Electrification                         0.01387\n",
       "Enhanced Enclosure + HPWH + High Efficiency HP/Electric Backup     0.01377\n",
       "Enhanced Enclosure + High Efficiency Whole Home Electrification    0.01354\n",
       "High Efficiency Heat Pump with Electric Heat Backup                0.00764\n",
       "Induction Cooking                                                  0.00381\n",
       "Electric Cooking                                                   0.00253\n",
       "Mininum Efficiency Heat Pump with Electric Heat Backup            -0.00071\n",
       "Mininum Efficiency Heat Pump with Existing Heat Backup            -0.00141\n",
       "Electric Clothes Dryer                                            -0.02151\n",
       "Name: saving_cbill.total_usd, dtype: float64"
      ]
     },
     "metadata": {},
     "output_type": "display_data"
    },
    {
     "name": "stdout",
     "output_type": "stream",
     "text": [
      "segment4\n"
     ]
    },
    {
     "data": {
      "text/plain": [
       "upgrade_name\n",
       "Heat Pump Water Heater                                             0.02902\n",
       "Basic Enclosure                                                    0.02208\n",
       "Enhanced Enclosure                                                 0.01991\n",
       "Heat Pump Clothes Dryer                                            0.01331\n",
       "Mininum Efficiency Whole Home Electrification                      0.01128\n",
       "Basic Enclosure + HPWH + High Efficiency HP/Electric Backup        0.01002\n",
       "Basic Enclosure + High Efficiency Whole Home Electrification       0.00998\n",
       "Enhanced Enclosure + HPWH + High Efficiency HP/Electric Backup     0.00983\n",
       "Enhanced Enclosure + High Efficiency Whole Home Electrification    0.00982\n",
       "High Efficiency Whole Home Electrification                         0.00954\n",
       "High Efficiency Heat Pump with Electric Heat Backup                0.00368\n",
       "Induction Cooking                                                  0.00367\n",
       "Electric Cooking                                                   0.00200\n",
       "Mininum Efficiency Heat Pump with Existing Heat Backup            -0.00348\n",
       "Mininum Efficiency Heat Pump with Electric Heat Backup            -0.00356\n",
       "Electric Clothes Dryer                                            -0.01154\n",
       "Name: saving_cbill.total_usd, dtype: float64"
      ]
     },
     "metadata": {},
     "output_type": "display_data"
    }
   ],
   "source": [
    "indicator ='saving_cbill.total_usd'\n",
    "results = segment_savings_per_dollar(indicator, community_results) \n",
    "saving_results[f'segment1_{income}_saving_bill_per_dollar_invested_usd'] = results[0]\n",
    "saving_results[f'segment2_{income}_saving_bill_per_dollar_invested_usd'] = results[1]\n",
    "saving_results[f'segment3_{income}_saving_bill_per_dollar_invested_usd'] = results[2]\n",
    "saving_results[f'segment4_{income}_saving_bill_per_dollar_invested_usd'] = results[3]"
   ]
  },
  {
   "cell_type": "markdown",
   "id": "4be95afb",
   "metadata": {},
   "source": [
    " ### Annual Energy Savings Per Dollar Invested"
   ]
  },
  {
   "cell_type": "code",
   "execution_count": 23,
   "id": "d03da729",
   "metadata": {},
   "outputs": [
    {
     "name": "stdout",
     "output_type": "stream",
     "text": [
      "segment1\n"
     ]
    },
    {
     "data": {
      "text/plain": [
       "upgrade_name\n",
       "Heat Pump Water Heater                                             0.00179\n",
       "Mininum Efficiency Whole Home Electrification                      0.00155\n",
       "Electric Cooking                                                   0.00082\n",
       "Basic Enclosure                                                    0.00068\n",
       "Enhanced Enclosure                                                 0.00057\n",
       "Induction Cooking                                                  0.00047\n",
       "High Efficiency Whole Home Electrification                         0.00041\n",
       "Basic Enclosure + High Efficiency Whole Home Electrification       0.00040\n",
       "Basic Enclosure + HPWH + High Efficiency HP/Electric Backup        0.00039\n",
       "Enhanced Enclosure + High Efficiency Whole Home Electrification    0.00039\n",
       "Enhanced Enclosure + HPWH + High Efficiency HP/Electric Backup     0.00038\n",
       "Heat Pump Clothes Dryer                                            0.00031\n",
       "Electric Clothes Dryer                                             0.00024\n",
       "High Efficiency Heat Pump with Electric Heat Backup                0.00004\n",
       "Mininum Efficiency Heat Pump with Existing Heat Backup            -0.00016\n",
       "Mininum Efficiency Heat Pump with Electric Heat Backup            -0.00020\n",
       "Name: saving_energy.total_mmbtu, dtype: float64"
      ]
     },
     "metadata": {},
     "output_type": "display_data"
    },
    {
     "name": "stdout",
     "output_type": "stream",
     "text": [
      "segment2\n"
     ]
    },
    {
     "data": {
      "text/plain": [
       "upgrade_name\n",
       "Heat Pump Water Heater                                             0.00212\n",
       "Mininum Efficiency Whole Home Electrification                      0.00183\n",
       "Electric Cooking                                                   0.00086\n",
       "Induction Cooking                                                  0.00043\n",
       "High Efficiency Whole Home Electrification                         0.00035\n",
       "Basic Enclosure + High Efficiency Whole Home Electrification       0.00034\n",
       "Enhanced Enclosure + High Efficiency Whole Home Electrification    0.00034\n",
       "Basic Enclosure + HPWH + High Efficiency HP/Electric Backup        0.00034\n",
       "Enhanced Enclosure + HPWH + High Efficiency HP/Electric Backup     0.00034\n",
       "Enhanced Enclosure                                                 0.00027\n",
       "Heat Pump Clothes Dryer                                            0.00025\n",
       "Basic Enclosure                                                    0.00023\n",
       "Electric Clothes Dryer                                             0.00017\n",
       "High Efficiency Heat Pump with Electric Heat Backup               -0.00002\n",
       "Mininum Efficiency Heat Pump with Existing Heat Backup            -0.00029\n",
       "Mininum Efficiency Heat Pump with Electric Heat Backup            -0.00033\n",
       "Name: saving_energy.total_mmbtu, dtype: float64"
      ]
     },
     "metadata": {},
     "output_type": "display_data"
    },
    {
     "name": "stdout",
     "output_type": "stream",
     "text": [
      "segment3\n"
     ]
    },
    {
     "data": {
      "text/plain": [
       "upgrade_name\n",
       "Heat Pump Water Heater                                             0.00310\n",
       "Mininum Efficiency Whole Home Electrification                      0.00167\n",
       "Electric Cooking                                                   0.00109\n",
       "Basic Enclosure                                                    0.00106\n",
       "Enhanced Enclosure                                                 0.00090\n",
       "High Efficiency Whole Home Electrification                         0.00078\n",
       "Basic Enclosure + HPWH + High Efficiency HP/Electric Backup        0.00073\n",
       "Basic Enclosure + High Efficiency Whole Home Electrification       0.00072\n",
       "Mininum Efficiency Heat Pump with Electric Heat Backup             0.00071\n",
       "Enhanced Enclosure + HPWH + High Efficiency HP/Electric Backup     0.00069\n",
       "Enhanced Enclosure + High Efficiency Whole Home Electrification    0.00068\n",
       "Heat Pump Clothes Dryer                                            0.00059\n",
       "Induction Cooking                                                  0.00059\n",
       "Mininum Efficiency Heat Pump with Existing Heat Backup             0.00053\n",
       "High Efficiency Heat Pump with Electric Heat Backup                0.00045\n",
       "Electric Clothes Dryer                                             0.00042\n",
       "Name: saving_energy.total_mmbtu, dtype: float64"
      ]
     },
     "metadata": {},
     "output_type": "display_data"
    },
    {
     "name": "stdout",
     "output_type": "stream",
     "text": [
      "segment4\n"
     ]
    },
    {
     "data": {
      "text/plain": [
       "upgrade_name\n",
       "Heat Pump Water Heater                                             0.00152\n",
       "Mininum Efficiency Whole Home Electrification                      0.00119\n",
       "Basic Enclosure                                                    0.00085\n",
       "Electric Cooking                                                   0.00083\n",
       "Enhanced Enclosure                                                 0.00077\n",
       "Induction Cooking                                                  0.00051\n",
       "High Efficiency Whole Home Electrification                         0.00048\n",
       "Basic Enclosure + HPWH + High Efficiency HP/Electric Backup        0.00046\n",
       "Basic Enclosure + High Efficiency Whole Home Electrification       0.00046\n",
       "Enhanced Enclosure + HPWH + High Efficiency HP/Electric Backup     0.00045\n",
       "Enhanced Enclosure + High Efficiency Whole Home Electrification    0.00045\n",
       "Heat Pump Clothes Dryer                                            0.00038\n",
       "Mininum Efficiency Heat Pump with Electric Heat Backup             0.00030\n",
       "Electric Clothes Dryer                                             0.00022\n",
       "High Efficiency Heat Pump with Electric Heat Backup                0.00021\n",
       "Mininum Efficiency Heat Pump with Existing Heat Backup             0.00021\n",
       "Name: saving_energy.total_mmbtu, dtype: float64"
      ]
     },
     "metadata": {},
     "output_type": "display_data"
    }
   ],
   "source": [
    "indicator = 'saving_energy.total_mmbtu'\n",
    "results = segment_savings_per_dollar(indicator, community_results) \n",
    "saving_results[f'segment1_{income}_saving_energy_per_dollar_invested_mmbtu'] = results[0]\n",
    "saving_results[f'segment2_{income}_saving_energy_per_dollar_invested_mmbtu'] = results[1]\n",
    "saving_results[f'segment3_{income}_saving_energy_per_dollar_invested_mmbtu'] = results[2]\n",
    "saving_results[f'segment4_{income}_saving_energy_per_dollar_invested_mmbtu'] = results[3]"
   ]
  },
  {
   "cell_type": "markdown",
   "id": "3b3ea80f",
   "metadata": {},
   "source": [
    " ### Annual Emission Savings Per Dollar Invested"
   ]
  },
  {
   "cell_type": "code",
   "execution_count": 24,
   "id": "b538dff9",
   "metadata": {},
   "outputs": [
    {
     "name": "stdout",
     "output_type": "stream",
     "text": [
      "segment1\n"
     ]
    },
    {
     "data": {
      "text/plain": [
       "upgrade_name\n",
       "Mininum Efficiency Whole Home Electrification                      0.13944\n",
       "Heat Pump Water Heater                                             0.13895\n",
       "Electric Cooking                                                   0.08780\n",
       "Electric Clothes Dryer                                             0.05427\n",
       "Induction Cooking                                                  0.04589\n",
       "Basic Enclosure                                                    0.03193\n",
       "High Efficiency Whole Home Electrification                         0.03097\n",
       "Basic Enclosure + High Efficiency Whole Home Electrification       0.02958\n",
       "Enhanced Enclosure + High Efficiency Whole Home Electrification    0.02872\n",
       "Basic Enclosure + HPWH + High Efficiency HP/Electric Backup        0.02859\n",
       "Enhanced Enclosure + HPWH + High Efficiency HP/Electric Backup     0.02765\n",
       "Enhanced Enclosure                                                 0.02600\n",
       "Heat Pump Clothes Dryer                                            0.01082\n",
       "Mininum Efficiency Heat Pump with Electric Heat Backup             0.00682\n",
       "Mininum Efficiency Heat Pump with Existing Heat Backup             0.00455\n",
       "High Efficiency Heat Pump with Electric Heat Backup                0.00419\n",
       "Name: saving_emission.total_kgCO2e, dtype: float64"
      ]
     },
     "metadata": {},
     "output_type": "display_data"
    },
    {
     "name": "stdout",
     "output_type": "stream",
     "text": [
      "segment2\n"
     ]
    },
    {
     "data": {
      "text/plain": [
       "upgrade_name\n",
       "Mininum Efficiency Whole Home Electrification                      0.14860\n",
       "Heat Pump Water Heater                                             0.14650\n",
       "Electric Cooking                                                   0.09147\n",
       "Induction Cooking                                                  0.04129\n",
       "Electric Clothes Dryer                                             0.03722\n",
       "High Efficiency Whole Home Electrification                         0.02477\n",
       "Basic Enclosure + High Efficiency Whole Home Electrification       0.02419\n",
       "Enhanced Enclosure + High Efficiency Whole Home Electrification    0.02400\n",
       "Basic Enclosure + HPWH + High Efficiency HP/Electric Backup        0.02322\n",
       "Enhanced Enclosure + HPWH + High Efficiency HP/Electric Backup     0.02302\n",
       "Enhanced Enclosure                                                 0.01444\n",
       "Basic Enclosure                                                    0.01188\n",
       "Heat Pump Clothes Dryer                                            0.00632\n",
       "High Efficiency Heat Pump with Electric Heat Backup                0.00013\n",
       "Mininum Efficiency Heat Pump with Existing Heat Backup            -0.00520\n",
       "Mininum Efficiency Heat Pump with Electric Heat Backup            -0.00556\n",
       "Name: saving_emission.total_kgCO2e, dtype: float64"
      ]
     },
     "metadata": {},
     "output_type": "display_data"
    },
    {
     "name": "stdout",
     "output_type": "stream",
     "text": [
      "segment3\n"
     ]
    },
    {
     "data": {
      "text/plain": [
       "upgrade_name\n",
       "Heat Pump Water Heater                                             0.23599\n",
       "Mininum Efficiency Whole Home Electrification                      0.15098\n",
       "Electric Cooking                                                   0.11582\n",
       "Electric Clothes Dryer                                             0.09207\n",
       "Mininum Efficiency Heat Pump with Electric Heat Backup             0.08031\n",
       "Basic Enclosure                                                    0.06279\n",
       "Mininum Efficiency Heat Pump with Existing Heat Backup             0.06210\n",
       "High Efficiency Whole Home Electrification                         0.05891\n",
       "Induction Cooking                                                  0.05733\n",
       "Enhanced Enclosure                                                 0.05351\n",
       "Basic Enclosure + HPWH + High Efficiency HP/Electric Backup        0.05173\n",
       "Basic Enclosure + High Efficiency Whole Home Electrification       0.05101\n",
       "Enhanced Enclosure + HPWH + High Efficiency HP/Electric Backup     0.04873\n",
       "Enhanced Enclosure + High Efficiency Whole Home Electrification    0.04834\n",
       "High Efficiency Heat Pump with Electric Heat Backup                0.03415\n",
       "Heat Pump Clothes Dryer                                            0.03146\n",
       "Name: saving_emission.total_kgCO2e, dtype: float64"
      ]
     },
     "metadata": {},
     "output_type": "display_data"
    },
    {
     "name": "stdout",
     "output_type": "stream",
     "text": [
      "segment4\n"
     ]
    },
    {
     "data": {
      "text/plain": [
       "upgrade_name\n",
       "Mininum Efficiency Whole Home Electrification                      0.10892\n",
       "Heat Pump Water Heater                                             0.10782\n",
       "Electric Cooking                                                   0.09018\n",
       "Induction Cooking                                                  0.05006\n",
       "Basic Enclosure                                                    0.04984\n",
       "Electric Clothes Dryer                                             0.04892\n",
       "Enhanced Enclosure                                                 0.04602\n",
       "Mininum Efficiency Heat Pump with Electric Heat Backup             0.04136\n",
       "High Efficiency Whole Home Electrification                         0.03381\n",
       "Mininum Efficiency Heat Pump with Existing Heat Backup             0.03122\n",
       "Basic Enclosure + High Efficiency Whole Home Electrification       0.03098\n",
       "Basic Enclosure + HPWH + High Efficiency HP/Electric Backup        0.03072\n",
       "Enhanced Enclosure + High Efficiency Whole Home Electrification    0.03035\n",
       "Enhanced Enclosure + HPWH + High Efficiency HP/Electric Backup     0.03000\n",
       "High Efficiency Heat Pump with Electric Heat Backup                0.01644\n",
       "Heat Pump Clothes Dryer                                            0.01417\n",
       "Name: saving_emission.total_kgCO2e, dtype: float64"
      ]
     },
     "metadata": {},
     "output_type": "display_data"
    }
   ],
   "source": [
    "indicator ='saving_emission.total_kgCO2e'\n",
    "results = segment_savings_per_dollar(indicator, community_results) \n",
    "saving_results[f'segment1_{income}_saving_emission_per_dollar_invested_kgCO2e'] = results[0]\n",
    "saving_results[f'segment2_{income}_saving_emission_per_dollar_invested_kgCO2e'] = results[1]\n",
    "saving_results[f'segment3_{income}_saving_emission_per_dollar_invested_kgCO2e'] = results[2]\n",
    "saving_results[f'segment4_{income}_saving_emission_per_dollar_invested_kgCO2e'] = results[3]"
   ]
  },
  {
   "cell_type": "markdown",
   "id": "961cd050",
   "metadata": {},
   "source": [
    "## 2.3 Annual Total Savings"
   ]
  },
  {
   "cell_type": "markdown",
   "id": "702400cd",
   "metadata": {},
   "source": [
    "### Annual Total Bill Savings"
   ]
  },
  {
   "cell_type": "code",
   "execution_count": 25,
   "id": "4cb37f5f",
   "metadata": {},
   "outputs": [
    {
     "name": "stdout",
     "output_type": "stream",
     "text": [
      "segment1\n"
     ]
    },
    {
     "data": {
      "text/plain": [
       "upgrade_name\n",
       "Enhanced Enclosure + High Efficiency Whole Home Electrification    1891074.8\n",
       "Basic Enclosure + High Efficiency Whole Home Electrification       1841076.8\n",
       "High Efficiency Whole Home Electrification                         1721768.5\n",
       "Enhanced Enclosure + HPWH + High Efficiency HP/Electric Backup     1664464.3\n",
       "Basic Enclosure + HPWH + High Efficiency HP/Electric Backup        1614466.3\n",
       "Heat Pump Water Heater                                              881858.2\n",
       "Mininum Efficiency Whole Home Electrification                       735335.7\n",
       "Enhanced Enclosure                                                  691944.3\n",
       "Basic Enclosure                                                     569553.5\n",
       "High Efficiency Heat Pump with Electric Heat Backup                 110529.0\n",
       "Heat Pump Clothes Dryer                                              91600.7\n",
       "Induction Cooking                                                    76092.1\n",
       "Electric Cooking                                                     27044.4\n",
       "Electric Clothes Dryer                                              -10040.0\n",
       "Mininum Efficiency Heat Pump with Electric Heat Backup             -677045.4\n",
       "Mininum Efficiency Heat Pump with Existing Heat Backup             -684129.2\n",
       "Name: saving_cbill.total_usd, dtype: float64"
      ]
     },
     "metadata": {},
     "output_type": "display_data"
    },
    {
     "name": "stdout",
     "output_type": "stream",
     "text": [
      "segment2\n"
     ]
    },
    {
     "data": {
      "text/plain": [
       "upgrade_name\n",
       "Enhanced Enclosure + High Efficiency Whole Home Electrification    2506745.0\n",
       "Basic Enclosure + High Efficiency Whole Home Electrification       2492783.1\n",
       "High Efficiency Whole Home Electrification                         2433782.9\n",
       "Enhanced Enclosure + HPWH + High Efficiency HP/Electric Backup     2215732.7\n",
       "Basic Enclosure + HPWH + High Efficiency HP/Electric Backup        2201770.8\n",
       "Heat Pump Water Heater                                             1891196.0\n",
       "Mininum Efficiency Whole Home Electrification                      1447070.2\n",
       "Enhanced Enclosure                                                  124215.4\n",
       "Heat Pump Clothes Dryer                                             121107.1\n",
       "Induction Cooking                                                   115211.6\n",
       "Basic Enclosure                                                      89074.2\n",
       "Electric Cooking                                                     52854.7\n",
       "Electric Clothes Dryer                                               -3576.6\n",
       "High Efficiency Heat Pump with Electric Heat Backup                -245422.2\n",
       "Mininum Efficiency Heat Pump with Electric Heat Backup            -1210373.9\n",
       "Mininum Efficiency Heat Pump with Existing Heat Backup            -1212865.0\n",
       "Name: saving_cbill.total_usd, dtype: float64"
      ]
     },
     "metadata": {},
     "output_type": "display_data"
    },
    {
     "name": "stdout",
     "output_type": "stream",
     "text": [
      "segment3\n"
     ]
    },
    {
     "data": {
      "text/plain": [
       "upgrade_name\n",
       "Enhanced Enclosure + High Efficiency Whole Home Electrification    12873400.8\n",
       "Basic Enclosure + High Efficiency Whole Home Electrification       12781497.5\n",
       "Enhanced Enclosure + HPWH + High Efficiency HP/Electric Backup     11837980.6\n",
       "Basic Enclosure + HPWH + High Efficiency HP/Electric Backup        11746077.3\n",
       "High Efficiency Whole Home Electrification                         10521089.3\n",
       "Enhanced Enclosure                                                  7087858.2\n",
       "Basic Enclosure                                                     6549768.7\n",
       "High Efficiency Heat Pump with Electric Heat Backup                 4516692.9\n",
       "Mininum Efficiency Whole Home Electrification                       4420256.7\n",
       "Heat Pump Water Heater                                              3866071.8\n",
       "Heat Pump Clothes Dryer                                              729078.0\n",
       "Induction Cooking                                                    177628.9\n",
       "Electric Cooking                                                      57180.3\n",
       "Mininum Efficiency Heat Pump with Electric Heat Backup              -156881.9\n",
       "Electric Clothes Dryer                                              -226257.7\n",
       "Mininum Efficiency Heat Pump with Existing Heat Backup              -370817.6\n",
       "Name: saving_cbill.total_usd, dtype: float64"
      ]
     },
     "metadata": {},
     "output_type": "display_data"
    },
    {
     "name": "stdout",
     "output_type": "stream",
     "text": [
      "segment4\n"
     ]
    },
    {
     "data": {
      "text/plain": [
       "upgrade_name\n",
       "Enhanced Enclosure + High Efficiency Whole Home Electrification    1430600.5\n",
       "Basic Enclosure + High Efficiency Whole Home Electrification       1422503.7\n",
       "Enhanced Enclosure + HPWH + High Efficiency HP/Electric Backup     1257134.5\n",
       "Basic Enclosure + HPWH + High Efficiency HP/Electric Backup        1249037.7\n",
       "High Efficiency Whole Home Electrification                         1214703.6\n",
       "Enhanced Enclosure                                                  558069.8\n",
       "Basic Enclosure                                                     511427.4\n",
       "Heat Pump Water Heater                                              400361.4\n",
       "Mininum Efficiency Whole Home Electrification                       396274.7\n",
       "High Efficiency Heat Pump with Electric Heat Backup                 351875.5\n",
       "Heat Pump Clothes Dryer                                             114275.5\n",
       "Induction Cooking                                                    34153.4\n",
       "Electric Cooking                                                     10051.3\n",
       "Electric Clothes Dryer                                              -14481.9\n",
       "Mininum Efficiency Heat Pump with Electric Heat Backup             -114012.5\n",
       "Mininum Efficiency Heat Pump with Existing Heat Backup             -132419.5\n",
       "Name: saving_cbill.total_usd, dtype: float64"
      ]
     },
     "metadata": {},
     "output_type": "display_data"
    }
   ],
   "source": [
    "indicator ='saving_cbill.total_usd'\n",
    "results = segment_annual_total_savings(indicator, community_results)\n",
    "saving_results[f'segment1_{income}_saving_bill_total_usd'] = results[0]\n",
    "saving_results[f'segment2_{income}_saving_bill_total_usd'] = results[1]\n",
    "saving_results[f'segment3_{income}_saving_bill_total_usd'] = results[2]\n",
    "saving_results[f'segment4_{income}_saving_bill_total_usd'] = results[3]"
   ]
  },
  {
   "cell_type": "markdown",
   "id": "5a9433f1",
   "metadata": {},
   "source": [
    "### Annual Total Energy Savings"
   ]
  },
  {
   "cell_type": "code",
   "execution_count": 26,
   "id": "772222fe",
   "metadata": {},
   "outputs": [
    {
     "name": "stdout",
     "output_type": "stream",
     "text": [
      "segment1\n"
     ]
    },
    {
     "data": {
      "text/plain": [
       "upgrade_name\n",
       "Enhanced Enclosure + High Efficiency Whole Home Electrification    102371.7\n",
       "Basic Enclosure + High Efficiency Whole Home Electrification       101224.4\n",
       "High Efficiency Whole Home Electrification                          98486.2\n",
       "Enhanced Enclosure + HPWH + High Efficiency HP/Electric Backup      89087.5\n",
       "Basic Enclosure + HPWH + High Efficiency HP/Electric Backup         87940.2\n",
       "Mininum Efficiency Whole Home Electrification                       75847.7\n",
       "Heat Pump Water Heater                                              60428.4\n",
       "Enhanced Enclosure                                                  20613.3\n",
       "Basic Enclosure                                                     17267.9\n",
       "Induction Cooking                                                   10757.9\n",
       "Electric Cooking                                                     9632.0\n",
       "High Efficiency Heat Pump with Electric Heat Backup                  7435.6\n",
       "Heat Pump Clothes Dryer                                              2526.3\n",
       "Electric Clothes Dryer                                                193.7\n",
       "Mininum Efficiency Heat Pump with Electric Heat Backup             -10634.5\n",
       "Mininum Efficiency Heat Pump with Existing Heat Backup             -11162.2\n",
       "Name: saving_energy.total_mmbtu, dtype: float64"
      ]
     },
     "metadata": {},
     "output_type": "display_data"
    },
    {
     "name": "stdout",
     "output_type": "stream",
     "text": [
      "segment2\n"
     ]
    },
    {
     "data": {
      "text/plain": [
       "upgrade_name\n",
       "Enhanced Enclosure + High Efficiency Whole Home Electrification    125381.6\n",
       "Basic Enclosure + High Efficiency Whole Home Electrification       125061.2\n",
       "High Efficiency Whole Home Electrification                         123707.1\n",
       "Enhanced Enclosure + HPWH + High Efficiency HP/Electric Backup     109552.7\n",
       "Basic Enclosure + HPWH + High Efficiency HP/Electric Backup        109232.3\n",
       "Mininum Efficiency Whole Home Electrification                      101062.1\n",
       "Heat Pump Water Heater                                              97110.2\n",
       "Induction Cooking                                                   12898.3\n",
       "Electric Cooking                                                    11467.3\n",
       "Enhanced Enclosure                                                   4411.6\n",
       "Basic Enclosure                                                      3001.3\n",
       "Heat Pump Clothes Dryer                                              2930.6\n",
       "Electric Clothes Dryer                                                 69.2\n",
       "High Efficiency Heat Pump with Electric Heat Backup                 -4802.6\n",
       "Mininum Efficiency Heat Pump with Electric Heat Backup             -26933.0\n",
       "Mininum Efficiency Heat Pump with Existing Heat Backup             -27335.7\n",
       "Name: saving_energy.total_mmbtu, dtype: float64"
      ]
     },
     "metadata": {},
     "output_type": "display_data"
    },
    {
     "name": "stdout",
     "output_type": "stream",
     "text": [
      "segment3\n"
     ]
    },
    {
     "data": {
      "text/plain": [
       "upgrade_name\n",
       "Enhanced Enclosure + High Efficiency Whole Home Electrification    648475.6\n",
       "Basic Enclosure + High Efficiency Whole Home Electrification       646366.2\n",
       "Enhanced Enclosure + HPWH + High Efficiency HP/Electric Backup     594839.6\n",
       "High Efficiency Whole Home Electrification                         594491.0\n",
       "Basic Enclosure + HPWH + High Efficiency HP/Electric Backup        592730.2\n",
       "Mininum Efficiency Whole Home Electrification                      454479.5\n",
       "Enhanced Enclosure                                                 278757.0\n",
       "High Efficiency Heat Pump with Electric Heat Backup                263399.1\n",
       "Basic Enclosure                                                    256752.2\n",
       "Heat Pump Water Heater                                             234546.8\n",
       "Mininum Efficiency Heat Pump with Electric Heat Backup             156158.8\n",
       "Mininum Efficiency Heat Pump with Existing Heat Backup             138055.8\n",
       "Induction Cooking                                                   27337.4\n",
       "Heat Pump Clothes Dryer                                             26298.7\n",
       "Electric Cooking                                                    24573.4\n",
       "Electric Clothes Dryer                                               4374.1\n",
       "Name: saving_energy.total_mmbtu, dtype: float64"
      ]
     },
     "metadata": {},
     "output_type": "display_data"
    },
    {
     "name": "stdout",
     "output_type": "stream",
     "text": [
      "segment4\n"
     ]
    },
    {
     "data": {
      "text/plain": [
       "upgrade_name\n",
       "Enhanced Enclosure + High Efficiency Whole Home Electrification    65456.9\n",
       "Basic Enclosure + High Efficiency Whole Home Electrification       65271.0\n",
       "High Efficiency Whole Home Electrification                         60502.1\n",
       "Enhanced Enclosure + HPWH + High Efficiency HP/Electric Backup     57494.4\n",
       "Basic Enclosure + HPWH + High Efficiency HP/Electric Backup        57308.6\n",
       "Mininum Efficiency Whole Home Electrification                      41719.8\n",
       "Enhanced Enclosure                                                 21715.0\n",
       "Heat Pump Water Heater                                             21011.3\n",
       "High Efficiency Heat Pump with Electric Heat Backup                20282.0\n",
       "Basic Enclosure                                                    19629.1\n",
       "Mininum Efficiency Heat Pump with Electric Heat Backup              9591.4\n",
       "Mininum Efficiency Heat Pump with Existing Heat Backup              7936.6\n",
       "Induction Cooking                                                   4728.1\n",
       "Electric Cooking                                                    4175.2\n",
       "Heat Pump Clothes Dryer                                             3234.4\n",
       "Electric Clothes Dryer                                               279.4\n",
       "Name: saving_energy.total_mmbtu, dtype: float64"
      ]
     },
     "metadata": {},
     "output_type": "display_data"
    }
   ],
   "source": [
    "indicator ='saving_energy.total_mmbtu'\n",
    "results = segment_annual_total_savings(indicator, community_results)\n",
    "saving_results[f'segment1_{income}_saving_energy_total_mmbtu'] = results[0]\n",
    "saving_results[f'segment2_{income}_saving_energy_total_mmbtu'] = results[1]\n",
    "saving_results[f'segment3_{income}_saving_energy_total_mmbtu'] = results[2]\n",
    "saving_results[f'segment4_{income}_saving_energy_total_mmbtu'] = results[3]"
   ]
  },
  {
   "cell_type": "markdown",
   "id": "468edc4e",
   "metadata": {},
   "source": [
    "### Annual Total Emission Savings"
   ]
  },
  {
   "cell_type": "code",
   "execution_count": 27,
   "id": "5fb13c1b",
   "metadata": {},
   "outputs": [
    {
     "name": "stdout",
     "output_type": "stream",
     "text": [
      "segment1\n"
     ]
    },
    {
     "data": {
      "text/plain": [
       "upgrade_name\n",
       "Enhanced Enclosure + High Efficiency Whole Home Electrification    7563590.7\n",
       "Basic Enclosure + High Efficiency Whole Home Electrification       7539600.6\n",
       "High Efficiency Whole Home Electrification                         7468951.2\n",
       "Mininum Efficiency Whole Home Electrification                      6837024.6\n",
       "Enhanced Enclosure + HPWH + High Efficiency HP/Electric Backup     6415669.5\n",
       "Basic Enclosure + HPWH + High Efficiency HP/Electric Backup        6391679.4\n",
       "Heat Pump Water Heater                                             4692462.0\n",
       "Induction Cooking                                                  1059090.4\n",
       "Electric Cooking                                                   1034836.2\n",
       "Enhanced Enclosure                                                  944306.3\n",
       "Basic Enclosure                                                     806988.6\n",
       "High Efficiency Heat Pump with Electric Heat Backup                 736910.9\n",
       "Mininum Efficiency Heat Pump with Electric Heat Backup              355711.7\n",
       "Mininum Efficiency Heat Pump with Existing Heat Backup              313706.4\n",
       "Heat Pump Clothes Dryer                                              88830.8\n",
       "Electric Clothes Dryer                                               43259.2\n",
       "Name: saving_emission.total_kgCO2e, dtype: float64"
      ]
     },
     "metadata": {},
     "output_type": "display_data"
    },
    {
     "name": "stdout",
     "output_type": "stream",
     "text": [
      "segment2\n"
     ]
    },
    {
     "data": {
      "text/plain": [
       "upgrade_name\n",
       "Enhanced Enclosure + High Efficiency Whole Home Electrification    8811353.1\n",
       "Basic Enclosure + High Efficiency Whole Home Electrification       8806716.3\n",
       "High Efficiency Whole Home Electrification                         8775852.7\n",
       "Mininum Efficiency Whole Home Electrification                      8213526.7\n",
       "Enhanced Enclosure + HPWH + High Efficiency HP/Electric Backup     7486605.5\n",
       "Basic Enclosure + HPWH + High Efficiency HP/Electric Backup        7481968.8\n",
       "Heat Pump Water Heater                                             6710620.8\n",
       "Induction Cooking                                                  1251799.9\n",
       "Electric Cooking                                                   1221781.0\n",
       "Enhanced Enclosure                                                  236593.2\n",
       "Basic Enclosure                                                     153534.4\n",
       "Heat Pump Clothes Dryer                                              72947.6\n",
       "High Efficiency Heat Pump with Electric Heat Backup                  34475.3\n",
       "Electric Clothes Dryer                                               15402.9\n",
       "Mininum Efficiency Heat Pump with Electric Heat Backup             -453773.0\n",
       "Mininum Efficiency Heat Pump with Existing Heat Backup             -490918.6\n",
       "Name: saving_emission.total_kgCO2e, dtype: float64"
      ]
     },
     "metadata": {},
     "output_type": "display_data"
    },
    {
     "name": "stdout",
     "output_type": "stream",
     "text": [
      "segment3\n"
     ]
    },
    {
     "data": {
      "text/plain": [
       "upgrade_name\n",
       "Enhanced Enclosure + High Efficiency Whole Home Electrification    45968413.5\n",
       "Basic Enclosure + High Efficiency Whole Home Electrification       45901747.9\n",
       "High Efficiency Whole Home Electrification                         44683078.3\n",
       "Enhanced Enclosure + HPWH + High Efficiency HP/Electric Backup     41887164.9\n",
       "Basic Enclosure + HPWH + High Efficiency HP/Electric Backup        41820499.2\n",
       "Mininum Efficiency Whole Home Electrification                      41037317.8\n",
       "High Efficiency Heat Pump with Electric Heat Backup                20197609.6\n",
       "Heat Pump Water Heater                                             17877170.2\n",
       "Mininum Efficiency Heat Pump with Electric Heat Backup             17775728.1\n",
       "Enhanced Enclosure                                                 16600458.0\n",
       "Mininum Efficiency Heat Pump with Existing Heat Backup             16311627.9\n",
       "Basic Enclosure                                                    15248695.5\n",
       "Induction Cooking                                                   2675868.2\n",
       "Electric Cooking                                                    2617466.1\n",
       "Heat Pump Clothes Dryer                                             1405380.4\n",
       "Electric Clothes Dryer                                               968616.0\n",
       "Name: saving_emission.total_kgCO2e, dtype: float64"
      ]
     },
     "metadata": {},
     "output_type": "display_data"
    },
    {
     "name": "stdout",
     "output_type": "stream",
     "text": [
      "segment4\n"
     ]
    },
    {
     "data": {
      "text/plain": [
       "upgrade_name\n",
       "Enhanced Enclosure + High Efficiency Whole Home Electrification    4422425.8\n",
       "Basic Enclosure + High Efficiency Whole Home Electrification       4415155.5\n",
       "High Efficiency Whole Home Electrification                         4304594.3\n",
       "Enhanced Enclosure + HPWH + High Efficiency HP/Electric Backup     3835499.3\n",
       "Basic Enclosure + HPWH + High Efficiency HP/Electric Backup        3828228.9\n",
       "Mininum Efficiency Whole Home Electrification                      3825742.7\n",
       "High Efficiency Heat Pump with Electric Heat Backup                1572441.7\n",
       "Heat Pump Water Heater                                             1487623.6\n",
       "Mininum Efficiency Heat Pump with Electric Heat Backup             1324436.5\n",
       "Enhanced Enclosure                                                 1290272.0\n",
       "Mininum Efficiency Heat Pump with Existing Heat Backup             1187403.7\n",
       "Basic Enclosure                                                    1154577.1\n",
       "Induction Cooking                                                   465270.3\n",
       "Electric Cooking                                                    452413.3\n",
       "Heat Pump Clothes Dryer                                             121656.2\n",
       "Electric Clothes Dryer                                               61418.0\n",
       "Name: saving_emission.total_kgCO2e, dtype: float64"
      ]
     },
     "metadata": {},
     "output_type": "display_data"
    }
   ],
   "source": [
    "indicator ='saving_emission.total_kgCO2e'\n",
    "results = segment_annual_total_savings(indicator, community_results)\n",
    "saving_results[f'segment1_{income}_saving_emission_total_kgCO2e'] = results[0]\n",
    "saving_results[f'segment2_{income}_saving_emission_total_kgCO2e'] = results[1]\n",
    "saving_results[f'segment3_{income}_saving_emission_total_kgCO2e'] = results[2]\n",
    "saving_results[f'segment4_{income}_saving_emission_total_kgCO2e'] = results[3]"
   ]
  },
  {
   "cell_type": "markdown",
   "id": "83cbedb9",
   "metadata": {},
   "source": [
    "## 2.4 Annual Savings Per Dwelling Unit"
   ]
  },
  {
   "cell_type": "markdown",
   "id": "eb35438b",
   "metadata": {},
   "source": [
    "### Annual Bill Savings Per Dwelling Unit"
   ]
  },
  {
   "cell_type": "code",
   "execution_count": 28,
   "id": "876cf387",
   "metadata": {},
   "outputs": [
    {
     "name": "stdout",
     "output_type": "stream",
     "text": [
      "segment1\n"
     ]
    },
    {
     "data": {
      "text/plain": [
       "upgrade_name\n",
       "Enhanced Enclosure + High Efficiency Whole Home Electrification    207.8\n",
       "Basic Enclosure + High Efficiency Whole Home Electrification       202.3\n",
       "High Efficiency Whole Home Electrification                         189.2\n",
       "Enhanced Enclosure + HPWH + High Efficiency HP/Electric Backup     182.9\n",
       "Basic Enclosure + HPWH + High Efficiency HP/Electric Backup        177.4\n",
       "Heat Pump Water Heater                                              98.2\n",
       "Mininum Efficiency Whole Home Electrification                       85.1\n",
       "Enhanced Enclosure                                                  76.1\n",
       "Basic Enclosure                                                     63.7\n",
       "Heat Pump Clothes Dryer                                             28.0\n",
       "High Efficiency Heat Pump with Electric Heat Backup                 12.1\n",
       "Induction Cooking                                                    8.5\n",
       "Electric Cooking                                                     3.9\n",
       "Electric Clothes Dryer                                             -21.3\n",
       "Mininum Efficiency Heat Pump with Electric Heat Backup             -74.4\n",
       "Mininum Efficiency Heat Pump with Existing Heat Backup             -75.2\n",
       "Name: saving_cbill.total_usd, dtype: float64"
      ]
     },
     "metadata": {},
     "output_type": "display_data"
    },
    {
     "name": "stdout",
     "output_type": "stream",
     "text": [
      "segment2\n"
     ]
    },
    {
     "data": {
      "text/plain": [
       "upgrade_name\n",
       "Enhanced Enclosure + High Efficiency Whole Home Electrification    206.7\n",
       "Basic Enclosure + High Efficiency Whole Home Electrification       205.5\n",
       "High Efficiency Whole Home Electrification                         200.7\n",
       "Enhanced Enclosure + HPWH + High Efficiency HP/Electric Backup     182.7\n",
       "Basic Enclosure + HPWH + High Efficiency HP/Electric Backup        181.5\n",
       "Heat Pump Water Heater                                             155.9\n",
       "Mininum Efficiency Whole Home Electrification                      125.7\n",
       "Heat Pump Clothes Dryer                                             26.3\n",
       "Enhanced Enclosure                                                  13.1\n",
       "Induction Cooking                                                    9.8\n",
       "Basic Enclosure                                                      9.5\n",
       "Electric Cooking                                                     6.7\n",
       "Electric Clothes Dryer                                             -14.6\n",
       "High Efficiency Heat Pump with Electric Heat Backup                -20.2\n",
       "Mininum Efficiency Heat Pump with Electric Heat Backup             -99.8\n",
       "Mininum Efficiency Heat Pump with Existing Heat Backup            -100.0\n",
       "Name: saving_cbill.total_usd, dtype: float64"
      ]
     },
     "metadata": {},
     "output_type": "display_data"
    },
    {
     "name": "stdout",
     "output_type": "stream",
     "text": [
      "segment3\n"
     ]
    },
    {
     "data": {
      "text/plain": [
       "upgrade_name\n",
       "Enhanced Enclosure + High Efficiency Whole Home Electrification    703.3\n",
       "Basic Enclosure + High Efficiency Whole Home Electrification       698.3\n",
       "Enhanced Enclosure + HPWH + High Efficiency HP/Electric Backup     646.8\n",
       "Basic Enclosure + HPWH + High Efficiency HP/Electric Backup        641.8\n",
       "High Efficiency Whole Home Electrification                         574.8\n",
       "Enhanced Enclosure                                                 387.3\n",
       "Basic Enclosure                                                    359.1\n",
       "High Efficiency Heat Pump with Electric Heat Backup                246.8\n",
       "Mininum Efficiency Whole Home Electrification                      244.8\n",
       "Heat Pump Water Heater                                             211.2\n",
       "Heat Pump Clothes Dryer                                             40.9\n",
       "Induction Cooking                                                    9.9\n",
       "Electric Cooking                                                     4.3\n",
       "Mininum Efficiency Heat Pump with Electric Heat Backup              -8.6\n",
       "Mininum Efficiency Heat Pump with Existing Heat Backup             -20.3\n",
       "Electric Clothes Dryer                                             -36.4\n",
       "Name: saving_cbill.total_usd, dtype: float64"
      ]
     },
     "metadata": {},
     "output_type": "display_data"
    },
    {
     "name": "stdout",
     "output_type": "stream",
     "text": [
      "segment4\n"
     ]
    },
    {
     "data": {
      "text/plain": [
       "upgrade_name\n",
       "Enhanced Enclosure + High Efficiency Whole Home Electrification    390.0\n",
       "Basic Enclosure + High Efficiency Whole Home Electrification       387.8\n",
       "Enhanced Enclosure + HPWH + High Efficiency HP/Electric Backup     342.7\n",
       "Basic Enclosure + HPWH + High Efficiency HP/Electric Backup        340.5\n",
       "High Efficiency Whole Home Electrification                         331.1\n",
       "Enhanced Enclosure                                                 152.1\n",
       "Basic Enclosure                                                    139.4\n",
       "Mininum Efficiency Whole Home Electrification                      118.6\n",
       "Heat Pump Water Heater                                             109.1\n",
       "High Efficiency Heat Pump with Electric Heat Backup                 95.9\n",
       "Heat Pump Clothes Dryer                                             33.4\n",
       "Induction Cooking                                                    9.5\n",
       "Electric Cooking                                                     3.4\n",
       "Electric Clothes Dryer                                             -19.5\n",
       "Mininum Efficiency Heat Pump with Electric Heat Backup             -31.1\n",
       "Mininum Efficiency Heat Pump with Existing Heat Backup             -36.1\n",
       "Name: saving_cbill.total_usd, dtype: float64"
      ]
     },
     "metadata": {},
     "output_type": "display_data"
    }
   ],
   "source": [
    "indicator ='saving_cbill.total_usd'\n",
    "results = segment_mean_savings(indicator, community_results)\n",
    "saving_results[f'segment1_{income}_saving_bill_mean_usd'] = results[0]\n",
    "saving_results[f'segment2_{income}_saving_bill_mean_usd'] = results[1]\n",
    "saving_results[f'segment3_{income}_saving_bill_mean_usd'] = results[2]\n",
    "saving_results[f'segment4_{income}_saving_bill_mean_usd'] = results[3]"
   ]
  },
  {
   "cell_type": "markdown",
   "id": "e902c573",
   "metadata": {},
   "source": [
    "### Annual Energy Savings Per Dwelling Unit"
   ]
  },
  {
   "cell_type": "code",
   "execution_count": 29,
   "id": "5ad585ad",
   "metadata": {},
   "outputs": [
    {
     "name": "stdout",
     "output_type": "stream",
     "text": [
      "segment1\n"
     ]
    },
    {
     "data": {
      "text/plain": [
       "upgrade_name\n",
       "Enhanced Enclosure + High Efficiency Whole Home Electrification    11.2\n",
       "Basic Enclosure + High Efficiency Whole Home Electrification       11.1\n",
       "High Efficiency Whole Home Electrification                         10.8\n",
       "Enhanced Enclosure + HPWH + High Efficiency HP/Electric Backup      9.8\n",
       "Basic Enclosure + HPWH + High Efficiency HP/Electric Backup         9.7\n",
       "Mininum Efficiency Whole Home Electrification                       8.8\n",
       "Heat Pump Water Heater                                              6.7\n",
       "Enhanced Enclosure                                                  2.3\n",
       "Basic Enclosure                                                     1.9\n",
       "Electric Cooking                                                    1.4\n",
       "Induction Cooking                                                   1.2\n",
       "High Efficiency Heat Pump with Electric Heat Backup                 0.8\n",
       "Heat Pump Clothes Dryer                                             0.8\n",
       "Electric Clothes Dryer                                              0.4\n",
       "Mininum Efficiency Heat Pump with Electric Heat Backup             -1.2\n",
       "Mininum Efficiency Heat Pump with Existing Heat Backup             -1.2\n",
       "Name: saving_energy.total_mmbtu, dtype: float64"
      ]
     },
     "metadata": {},
     "output_type": "display_data"
    },
    {
     "name": "stdout",
     "output_type": "stream",
     "text": [
      "segment2\n"
     ]
    },
    {
     "data": {
      "text/plain": [
       "upgrade_name\n",
       "Enhanced Enclosure + High Efficiency Whole Home Electrification    10.3\n",
       "Basic Enclosure + High Efficiency Whole Home Electrification       10.3\n",
       "High Efficiency Whole Home Electrification                         10.2\n",
       "Enhanced Enclosure + HPWH + High Efficiency HP/Electric Backup      9.0\n",
       "Basic Enclosure + HPWH + High Efficiency HP/Electric Backup         9.0\n",
       "Mininum Efficiency Whole Home Electrification                       8.8\n",
       "Heat Pump Water Heater                                              8.0\n",
       "Electric Cooking                                                    1.5\n",
       "Induction Cooking                                                   1.1\n",
       "Heat Pump Clothes Dryer                                             0.6\n",
       "Enhanced Enclosure                                                  0.5\n",
       "Basic Enclosure                                                     0.3\n",
       "Electric Clothes Dryer                                              0.3\n",
       "High Efficiency Heat Pump with Electric Heat Backup                -0.4\n",
       "Mininum Efficiency Heat Pump with Electric Heat Backup             -2.2\n",
       "Mininum Efficiency Heat Pump with Existing Heat Backup             -2.3\n",
       "Name: saving_energy.total_mmbtu, dtype: float64"
      ]
     },
     "metadata": {},
     "output_type": "display_data"
    },
    {
     "name": "stdout",
     "output_type": "stream",
     "text": [
      "segment3\n"
     ]
    },
    {
     "data": {
      "text/plain": [
       "upgrade_name\n",
       "Enhanced Enclosure + High Efficiency Whole Home Electrification    35.4\n",
       "Basic Enclosure + High Efficiency Whole Home Electrification       35.3\n",
       "Enhanced Enclosure + HPWH + High Efficiency HP/Electric Backup     32.5\n",
       "High Efficiency Whole Home Electrification                         32.5\n",
       "Basic Enclosure + HPWH + High Efficiency HP/Electric Backup        32.4\n",
       "Mininum Efficiency Whole Home Electrification                      25.2\n",
       "Enhanced Enclosure                                                 15.2\n",
       "High Efficiency Heat Pump with Electric Heat Backup                14.4\n",
       "Basic Enclosure                                                    14.1\n",
       "Heat Pump Water Heater                                             12.8\n",
       "Mininum Efficiency Heat Pump with Electric Heat Backup              8.5\n",
       "Mininum Efficiency Heat Pump with Existing Heat Backup              7.5\n",
       "Electric Cooking                                                    1.8\n",
       "Induction Cooking                                                   1.5\n",
       "Heat Pump Clothes Dryer                                             1.5\n",
       "Electric Clothes Dryer                                              0.7\n",
       "Name: saving_energy.total_mmbtu, dtype: float64"
      ]
     },
     "metadata": {},
     "output_type": "display_data"
    },
    {
     "name": "stdout",
     "output_type": "stream",
     "text": [
      "segment4\n"
     ]
    },
    {
     "data": {
      "text/plain": [
       "upgrade_name\n",
       "Enhanced Enclosure + High Efficiency Whole Home Electrification    17.8\n",
       "Basic Enclosure + High Efficiency Whole Home Electrification       17.8\n",
       "High Efficiency Whole Home Electrification                         16.5\n",
       "Enhanced Enclosure + HPWH + High Efficiency HP/Electric Backup     15.7\n",
       "Basic Enclosure + HPWH + High Efficiency HP/Electric Backup        15.6\n",
       "Mininum Efficiency Whole Home Electrification                      12.5\n",
       "Enhanced Enclosure                                                  5.9\n",
       "Heat Pump Water Heater                                              5.7\n",
       "High Efficiency Heat Pump with Electric Heat Backup                 5.5\n",
       "Basic Enclosure                                                     5.4\n",
       "Mininum Efficiency Heat Pump with Electric Heat Backup              2.6\n",
       "Mininum Efficiency Heat Pump with Existing Heat Backup              2.2\n",
       "Electric Cooking                                                    1.4\n",
       "Induction Cooking                                                   1.3\n",
       "Heat Pump Clothes Dryer                                             0.9\n",
       "Electric Clothes Dryer                                              0.4\n",
       "Name: saving_energy.total_mmbtu, dtype: float64"
      ]
     },
     "metadata": {},
     "output_type": "display_data"
    }
   ],
   "source": [
    "indicator ='saving_energy.total_mmbtu'\n",
    "results = segment_mean_savings(indicator, community_results) \n",
    "saving_results[f'segment1_{income}_saving_energy_mean_mmbtu'] = results[0]\n",
    "saving_results[f'segment2_{income}_saving_energy_mean_mmbtu'] = results[1]\n",
    "saving_results[f'segment3_{income}_saving_energy_mean_mmbtu'] = results[2]\n",
    "saving_results[f'segment4_{income}_saving_energy_mean_mmbtu'] = results[3]"
   ]
  },
  {
   "cell_type": "markdown",
   "id": "6d99e632",
   "metadata": {},
   "source": [
    "### Annual Percentage Energy Savings Per Dwelling Unit"
   ]
  },
  {
   "cell_type": "code",
   "execution_count": 30,
   "id": "ae160b7b",
   "metadata": {},
   "outputs": [
    {
     "name": "stdout",
     "output_type": "stream",
     "text": [
      "segment1\n"
     ]
    },
    {
     "data": {
      "text/plain": [
       "upgrade_name\n",
       "Enhanced Enclosure + High Efficiency Whole Home Electrification    41.2\n",
       "Basic Enclosure + High Efficiency Whole Home Electrification       40.8\n",
       "High Efficiency Whole Home Electrification                         39.7\n",
       "Enhanced Enclosure + HPWH + High Efficiency HP/Electric Backup     35.3\n",
       "Basic Enclosure + HPWH + High Efficiency HP/Electric Backup        34.9\n",
       "Mininum Efficiency Whole Home Electrification                      31.9\n",
       "Heat Pump Water Heater                                             25.4\n",
       "Enhanced Enclosure                                                  8.1\n",
       "Basic Enclosure                                                     7.0\n",
       "Electric Cooking                                                    5.5\n",
       "Induction Cooking                                                   4.8\n",
       "Heat Pump Clothes Dryer                                             3.2\n",
       "High Efficiency Heat Pump with Electric Heat Backup                 1.7\n",
       "Electric Clothes Dryer                                              1.6\n",
       "Mininum Efficiency Heat Pump with Electric Heat Backup             -6.0\n",
       "Mininum Efficiency Heat Pump with Existing Heat Backup             -6.2\n",
       "Name: pct_saving_energy.total_%, dtype: float64"
      ]
     },
     "metadata": {},
     "output_type": "display_data"
    },
    {
     "name": "stdout",
     "output_type": "stream",
     "text": [
      "segment2\n"
     ]
    },
    {
     "data": {
      "text/plain": [
       "upgrade_name\n",
       "Enhanced Enclosure + High Efficiency Whole Home Electrification    37.5\n",
       "Basic Enclosure + High Efficiency Whole Home Electrification       37.4\n",
       "High Efficiency Whole Home Electrification                         37.1\n",
       "Enhanced Enclosure + HPWH + High Efficiency HP/Electric Backup     32.3\n",
       "Basic Enclosure + HPWH + High Efficiency HP/Electric Backup        32.2\n",
       "Mininum Efficiency Whole Home Electrification                      31.6\n",
       "Heat Pump Water Heater                                             29.8\n",
       "Electric Cooking                                                    5.9\n",
       "Induction Cooking                                                   4.5\n",
       "Heat Pump Clothes Dryer                                             2.5\n",
       "Enhanced Enclosure                                                  1.5\n",
       "Basic Enclosure                                                     1.1\n",
       "Electric Clothes Dryer                                              1.0\n",
       "High Efficiency Heat Pump with Electric Heat Backup                -3.2\n",
       "Mininum Efficiency Heat Pump with Electric Heat Backup            -10.7\n",
       "Mininum Efficiency Heat Pump with Existing Heat Backup            -10.8\n",
       "Name: pct_saving_energy.total_%, dtype: float64"
      ]
     },
     "metadata": {},
     "output_type": "display_data"
    },
    {
     "name": "stdout",
     "output_type": "stream",
     "text": [
      "segment3\n"
     ]
    },
    {
     "data": {
      "text/plain": [
       "upgrade_name\n",
       "Enhanced Enclosure + High Efficiency Whole Home Electrification    50.0\n",
       "Basic Enclosure + High Efficiency Whole Home Electrification       49.8\n",
       "High Efficiency Whole Home Electrification                         45.7\n",
       "Enhanced Enclosure + HPWH + High Efficiency HP/Electric Backup     45.2\n",
       "Basic Enclosure + HPWH + High Efficiency HP/Electric Backup        45.0\n",
       "Mininum Efficiency Whole Home Electrification                      34.1\n",
       "Enhanced Enclosure                                                 20.5\n",
       "Heat Pump Water Heater                                             20.1\n",
       "Basic Enclosure                                                    18.9\n",
       "High Efficiency Heat Pump with Electric Heat Backup                17.1\n",
       "Mininum Efficiency Heat Pump with Electric Heat Backup              7.6\n",
       "Mininum Efficiency Heat Pump with Existing Heat Backup              6.3\n",
       "Electric Cooking                                                    3.0\n",
       "Induction Cooking                                                   2.5\n",
       "Heat Pump Clothes Dryer                                             2.4\n",
       "Electric Clothes Dryer                                              1.1\n",
       "Name: pct_saving_energy.total_%, dtype: float64"
      ]
     },
     "metadata": {},
     "output_type": "display_data"
    },
    {
     "name": "stdout",
     "output_type": "stream",
     "text": [
      "segment4\n"
     ]
    },
    {
     "data": {
      "text/plain": [
       "upgrade_name\n",
       "Enhanced Enclosure + High Efficiency Whole Home Electrification    44.7\n",
       "Basic Enclosure + High Efficiency Whole Home Electrification       44.6\n",
       "High Efficiency Whole Home Electrification                         41.4\n",
       "Enhanced Enclosure + HPWH + High Efficiency HP/Electric Backup     38.2\n",
       "Basic Enclosure + HPWH + High Efficiency HP/Electric Backup        38.2\n",
       "Mininum Efficiency Whole Home Electrification                      29.0\n",
       "Heat Pump Water Heater                                             16.7\n",
       "Enhanced Enclosure                                                 13.6\n",
       "Basic Enclosure                                                    12.5\n",
       "High Efficiency Heat Pump with Electric Heat Backup                11.3\n",
       "Electric Cooking                                                    4.1\n",
       "Induction Cooking                                                   3.9\n",
       "Mininum Efficiency Heat Pump with Electric Heat Backup              3.5\n",
       "Heat Pump Clothes Dryer                                             2.8\n",
       "Mininum Efficiency Heat Pump with Existing Heat Backup              2.5\n",
       "Electric Clothes Dryer                                              1.4\n",
       "Name: pct_saving_energy.total_%, dtype: float64"
      ]
     },
     "metadata": {},
     "output_type": "display_data"
    }
   ],
   "source": [
    "indicator ='pct_saving_energy.total_%'\n",
    "results = segment_mean_savings(indicator, community_results)\n",
    "saving_results[f'segment1_{income}_pct_saving_energy_mean_%'] = results[0]\n",
    "saving_results[f'segment2_{income}_pct_saving_energy_mean_%'] = results[1]\n",
    "saving_results[f'segment3_{income}_pct_saving_energy_mean_%'] = results[2]\n",
    "saving_results[f'segment4_{income}_pct_saving_energy_mean_%'] = results[3]"
   ]
  },
  {
   "cell_type": "markdown",
   "id": "4c18ce08",
   "metadata": {},
   "source": [
    "### Annual Emission Savings Per Dwelling Unit"
   ]
  },
  {
   "cell_type": "code",
   "execution_count": 31,
   "id": "a310fa8d",
   "metadata": {},
   "outputs": [
    {
     "name": "stdout",
     "output_type": "stream",
     "text": [
      "segment1\n"
     ]
    },
    {
     "data": {
      "text/plain": [
       "upgrade_name\n",
       "Enhanced Enclosure + High Efficiency Whole Home Electrification    831.0\n",
       "Basic Enclosure + High Efficiency Whole Home Electrification       828.4\n",
       "High Efficiency Whole Home Electrification                         820.6\n",
       "Mininum Efficiency Whole Home Electrification                      791.6\n",
       "Enhanced Enclosure + HPWH + High Efficiency HP/Electric Backup     704.9\n",
       "Basic Enclosure + HPWH + High Efficiency HP/Electric Backup        702.3\n",
       "Heat Pump Water Heater                                             522.6\n",
       "Electric Cooking                                                   149.3\n",
       "Induction Cooking                                                  118.9\n",
       "Enhanced Enclosure                                                 103.9\n",
       "Electric Clothes Dryer                                              91.8\n",
       "Basic Enclosure                                                     90.3\n",
       "High Efficiency Heat Pump with Electric Heat Backup                 81.0\n",
       "Mininum Efficiency Heat Pump with Electric Heat Backup              39.1\n",
       "Mininum Efficiency Heat Pump with Existing Heat Backup              34.5\n",
       "Heat Pump Clothes Dryer                                             27.1\n",
       "Name: saving_emission.total_kgCO2e, dtype: float64"
      ]
     },
     "metadata": {},
     "output_type": "display_data"
    },
    {
     "name": "stdout",
     "output_type": "stream",
     "text": [
      "segment2\n"
     ]
    },
    {
     "data": {
      "text/plain": [
       "upgrade_name\n",
       "Enhanced Enclosure + High Efficiency Whole Home Electrification    726.5\n",
       "Basic Enclosure + High Efficiency Whole Home Electrification       726.1\n",
       "High Efficiency Whole Home Electrification                         723.6\n",
       "Mininum Efficiency Whole Home Electrification                      713.2\n",
       "Enhanced Enclosure + HPWH + High Efficiency HP/Electric Backup     617.3\n",
       "Basic Enclosure + HPWH + High Efficiency HP/Electric Backup        616.9\n",
       "Heat Pump Water Heater                                             553.3\n",
       "Electric Cooking                                                   155.5\n",
       "Induction Cooking                                                  107.0\n",
       "Electric Clothes Dryer                                              63.0\n",
       "Enhanced Enclosure                                                  24.9\n",
       "Basic Enclosure                                                     16.4\n",
       "Heat Pump Clothes Dryer                                             15.8\n",
       "High Efficiency Heat Pump with Electric Heat Backup                  2.8\n",
       "Mininum Efficiency Heat Pump with Electric Heat Backup             -37.4\n",
       "Mininum Efficiency Heat Pump with Existing Heat Backup             -40.5\n",
       "Name: saving_emission.total_kgCO2e, dtype: float64"
      ]
     },
     "metadata": {},
     "output_type": "display_data"
    },
    {
     "name": "stdout",
     "output_type": "stream",
     "text": [
      "segment3\n"
     ]
    },
    {
     "data": {
      "text/plain": [
       "upgrade_name\n",
       "Enhanced Enclosure + High Efficiency Whole Home Electrification    2511.5\n",
       "Basic Enclosure + High Efficiency Whole Home Electrification       2507.9\n",
       "High Efficiency Whole Home Electrification                         2441.3\n",
       "Enhanced Enclosure + HPWH + High Efficiency HP/Electric Backup     2288.5\n",
       "Basic Enclosure + HPWH + High Efficiency HP/Electric Backup        2284.9\n",
       "Mininum Efficiency Whole Home Electrification                      2272.5\n",
       "High Efficiency Heat Pump with Electric Heat Backup                1103.5\n",
       "Heat Pump Water Heater                                              976.7\n",
       "Mininum Efficiency Heat Pump with Electric Heat Backup              971.2\n",
       "Enhanced Enclosure                                                  907.0\n",
       "Mininum Efficiency Heat Pump with Existing Heat Backup              891.2\n",
       "Basic Enclosure                                                     835.9\n",
       "Electric Cooking                                                    196.9\n",
       "Electric Clothes Dryer                                              155.8\n",
       "Induction Cooking                                                   148.5\n",
       "Heat Pump Clothes Dryer                                              78.9\n",
       "Name: saving_emission.total_kgCO2e, dtype: float64"
      ]
     },
     "metadata": {},
     "output_type": "display_data"
    },
    {
     "name": "stdout",
     "output_type": "stream",
     "text": [
      "segment4\n"
     ]
    },
    {
     "data": {
      "text/plain": [
       "upgrade_name\n",
       "Enhanced Enclosure + High Efficiency Whole Home Electrification    1205.5\n",
       "Basic Enclosure + High Efficiency Whole Home Electrification       1203.6\n",
       "High Efficiency Whole Home Electrification                         1173.4\n",
       "Mininum Efficiency Whole Home Electrification                      1144.6\n",
       "Enhanced Enclosure + HPWH + High Efficiency HP/Electric Backup     1045.5\n",
       "Basic Enclosure + HPWH + High Efficiency HP/Electric Backup        1043.6\n",
       "High Efficiency Heat Pump with Electric Heat Backup                 428.6\n",
       "Heat Pump Water Heater                                              405.5\n",
       "Mininum Efficiency Heat Pump with Electric Heat Backup              361.0\n",
       "Enhanced Enclosure                                                  351.7\n",
       "Mininum Efficiency Heat Pump with Existing Heat Backup              323.7\n",
       "Basic Enclosure                                                     314.7\n",
       "Electric Cooking                                                    153.3\n",
       "Induction Cooking                                                   129.7\n",
       "Electric Clothes Dryer                                               82.8\n",
       "Heat Pump Clothes Dryer                                              35.5\n",
       "Name: saving_emission.total_kgCO2e, dtype: float64"
      ]
     },
     "metadata": {},
     "output_type": "display_data"
    }
   ],
   "source": [
    "indicator ='saving_emission.total_kgCO2e'\n",
    "results = segment_mean_savings(indicator, community_results)\n",
    "saving_results[f'segment1_{income}_saving_emission_mean_kgCO2e'] = results[0]\n",
    "saving_results[f'segment2_{income}_saving_emission_mean_kgCO2e'] = results[1]\n",
    "saving_results[f'segment3_{income}_saving_emission_mean_kgCO2e'] = results[2]\n",
    "saving_results[f'segment4_{income}_saving_emission_mean_kgCO2e'] = results[3]"
   ]
  },
  {
   "cell_type": "markdown",
   "id": "ebaaed40",
   "metadata": {},
   "source": [
    "## 2.5. Pecent Stock with Positive and Negtive Savings"
   ]
  },
  {
   "cell_type": "markdown",
   "id": "2660dc7b",
   "metadata": {},
   "source": [
    "### Segment 1"
   ]
  },
  {
   "cell_type": "code",
   "execution_count": 32,
   "id": "361be888",
   "metadata": {},
   "outputs": [
    {
     "data": {
      "application/vnd.plotly.v1+json": {
       "config": {
        "plotlyServerURL": "https://plot.ly"
       },
       "data": [
        {
         "marker": {
          "color": "red"
         },
         "name": "Negative",
         "orientation": "h",
         "text": [
          1,
          0.7832167832167832,
          0.7762237762237763,
          0.6223776223776224,
          0.15827338129496402,
          0.06293706293706294,
          0.055944055944055944,
          0.04195804195804196,
          0.04195804195804196,
          0.03496503496503497,
          0.019801980198019802,
          0.014084507042253521,
          0.014084507042253521,
          0.007194244604316547,
          0.007194244604316547,
          0
         ],
         "textposition": "inside",
         "texttemplate": "%{text:.0%}",
         "type": "bar",
         "x": [
          1,
          0.7832167832167832,
          0.7762237762237763,
          0.6223776223776224,
          0.15827338129496402,
          0.06293706293706294,
          0.055944055944055944,
          0.04195804195804196,
          0.04195804195804196,
          0.03496503496503497,
          0.019801980198019802,
          0.014084507042253521,
          0.014084507042253521,
          0.007194244604316547,
          0.007194244604316547,
          0
         ],
         "xaxis": "x",
         "y": [
          "Electric Clothes Dryer",
          "Mininum Efficiency Heat Pump with Existing Heat Backup",
          "Mininum Efficiency Heat Pump with Electric Heat Backup",
          "High Efficiency Heat Pump with Electric Heat Backup",
          "Mininum Efficiency Whole Home Electrification",
          "Basic Enclosure + HPWH + High Efficiency HP/Electric Backup",
          "Enhanced Enclosure + HPWH + High Efficiency HP/Electric Backup",
          "Basic Enclosure + High Efficiency Whole Home Electrification",
          "High Efficiency Whole Home Electrification",
          "Enhanced Enclosure + High Efficiency Whole Home Electrification",
          "Electric Cooking",
          "Enhanced Enclosure",
          "Heat Pump Water Heater",
          "Basic Enclosure",
          "Induction Cooking",
          "Heat Pump Clothes Dryer"
         ],
         "yaxis": "y"
        },
        {
         "marker": {
          "color": "green"
         },
         "name": "Positive",
         "orientation": "h",
         "text": [
          0,
          0.21678321678321677,
          0.22377622377622378,
          0.3776223776223776,
          0.841726618705036,
          0.9370629370629371,
          0.9440559440559441,
          0.958041958041958,
          0.958041958041958,
          0.965034965034965,
          0.9801980198019802,
          0.9859154929577465,
          0.9859154929577465,
          0.9928057553956835,
          0.9928057553956835,
          1
         ],
         "textposition": "inside",
         "texttemplate": "%{text:.0%}",
         "type": "bar",
         "x": [
          0,
          0.21678321678321677,
          0.22377622377622378,
          0.3776223776223776,
          0.841726618705036,
          0.9370629370629371,
          0.9440559440559441,
          0.958041958041958,
          0.958041958041958,
          0.965034965034965,
          0.9801980198019802,
          0.9859154929577465,
          0.9859154929577465,
          0.9928057553956835,
          0.9928057553956835,
          1
         ],
         "xaxis": "x",
         "y": [
          "Electric Clothes Dryer",
          "Mininum Efficiency Heat Pump with Existing Heat Backup",
          "Mininum Efficiency Heat Pump with Electric Heat Backup",
          "High Efficiency Heat Pump with Electric Heat Backup",
          "Mininum Efficiency Whole Home Electrification",
          "Basic Enclosure + HPWH + High Efficiency HP/Electric Backup",
          "Enhanced Enclosure + HPWH + High Efficiency HP/Electric Backup",
          "Basic Enclosure + High Efficiency Whole Home Electrification",
          "High Efficiency Whole Home Electrification",
          "Enhanced Enclosure + High Efficiency Whole Home Electrification",
          "Electric Cooking",
          "Enhanced Enclosure",
          "Heat Pump Water Heater",
          "Basic Enclosure",
          "Induction Cooking",
          "Heat Pump Clothes Dryer"
         ],
         "yaxis": "y"
        },
        {
         "marker": {
          "color": "red"
         },
         "orientation": "h",
         "showlegend": false,
         "text": [
          0,
          0.5524475524475524,
          0.5454545454545454,
          0.45454545454545453,
          0,
          0.006993006993006993,
          0.006993006993006993,
          0,
          0,
          0,
          0,
          0.007042253521126761,
          0,
          0,
          0,
          0
         ],
         "textposition": "inside",
         "texttemplate": "%{text:.0%}",
         "type": "bar",
         "x": [
          0,
          0.5524475524475524,
          0.5454545454545454,
          0.45454545454545453,
          0,
          0.006993006993006993,
          0.006993006993006993,
          0,
          0,
          0,
          0,
          0.007042253521126761,
          0,
          0,
          0,
          0
         ],
         "xaxis": "x2",
         "y": [
          "Electric Clothes Dryer",
          "Mininum Efficiency Heat Pump with Existing Heat Backup",
          "Mininum Efficiency Heat Pump with Electric Heat Backup",
          "High Efficiency Heat Pump with Electric Heat Backup",
          "Mininum Efficiency Whole Home Electrification",
          "Basic Enclosure + HPWH + High Efficiency HP/Electric Backup",
          "Enhanced Enclosure + HPWH + High Efficiency HP/Electric Backup",
          "Basic Enclosure + High Efficiency Whole Home Electrification",
          "High Efficiency Whole Home Electrification",
          "Enhanced Enclosure + High Efficiency Whole Home Electrification",
          "Electric Cooking",
          "Enhanced Enclosure",
          "Heat Pump Water Heater",
          "Basic Enclosure",
          "Induction Cooking",
          "Heat Pump Clothes Dryer"
         ],
         "yaxis": "y2"
        },
        {
         "marker": {
          "color": "green"
         },
         "orientation": "h",
         "showlegend": false,
         "text": [
          1,
          0.44755244755244755,
          0.45454545454545453,
          0.5454545454545454,
          1,
          0.993006993006993,
          0.993006993006993,
          1,
          1,
          1,
          1,
          0.9929577464788732,
          1,
          1,
          1,
          1
         ],
         "textposition": "inside",
         "texttemplate": "%{text:.0%}",
         "type": "bar",
         "x": [
          1,
          0.44755244755244755,
          0.45454545454545453,
          0.5454545454545454,
          1,
          0.993006993006993,
          0.993006993006993,
          1,
          1,
          1,
          1,
          0.9929577464788732,
          1,
          1,
          1,
          1
         ],
         "xaxis": "x2",
         "y": [
          "Electric Clothes Dryer",
          "Mininum Efficiency Heat Pump with Existing Heat Backup",
          "Mininum Efficiency Heat Pump with Electric Heat Backup",
          "High Efficiency Heat Pump with Electric Heat Backup",
          "Mininum Efficiency Whole Home Electrification",
          "Basic Enclosure + HPWH + High Efficiency HP/Electric Backup",
          "Enhanced Enclosure + HPWH + High Efficiency HP/Electric Backup",
          "Basic Enclosure + High Efficiency Whole Home Electrification",
          "High Efficiency Whole Home Electrification",
          "Enhanced Enclosure + High Efficiency Whole Home Electrification",
          "Electric Cooking",
          "Enhanced Enclosure",
          "Heat Pump Water Heater",
          "Basic Enclosure",
          "Induction Cooking",
          "Heat Pump Clothes Dryer"
         ],
         "yaxis": "y2"
        },
        {
         "marker": {
          "color": "red"
         },
         "orientation": "h",
         "showlegend": false,
         "text": [
          0,
          0.7202797202797203,
          0.7062937062937062,
          0.5524475524475524,
          0,
          0.006993006993006993,
          0.006993006993006993,
          0,
          0,
          0,
          0,
          0.007042253521126761,
          0,
          0,
          0,
          0
         ],
         "textposition": "inside",
         "texttemplate": "%{text:.0%}",
         "type": "bar",
         "x": [
          0,
          0.7202797202797203,
          0.7062937062937062,
          0.5524475524475524,
          0,
          0.006993006993006993,
          0.006993006993006993,
          0,
          0,
          0,
          0,
          0.007042253521126761,
          0,
          0,
          0,
          0
         ],
         "xaxis": "x3",
         "y": [
          "Electric Clothes Dryer",
          "Mininum Efficiency Heat Pump with Existing Heat Backup",
          "Mininum Efficiency Heat Pump with Electric Heat Backup",
          "High Efficiency Heat Pump with Electric Heat Backup",
          "Mininum Efficiency Whole Home Electrification",
          "Basic Enclosure + HPWH + High Efficiency HP/Electric Backup",
          "Enhanced Enclosure + HPWH + High Efficiency HP/Electric Backup",
          "Basic Enclosure + High Efficiency Whole Home Electrification",
          "High Efficiency Whole Home Electrification",
          "Enhanced Enclosure + High Efficiency Whole Home Electrification",
          "Electric Cooking",
          "Enhanced Enclosure",
          "Heat Pump Water Heater",
          "Basic Enclosure",
          "Induction Cooking",
          "Heat Pump Clothes Dryer"
         ],
         "yaxis": "y3"
        },
        {
         "marker": {
          "color": "green"
         },
         "orientation": "h",
         "showlegend": false,
         "text": [
          1,
          0.27972027972027974,
          0.2937062937062937,
          0.44755244755244755,
          1,
          0.993006993006993,
          0.993006993006993,
          1,
          1,
          1,
          1,
          0.9929577464788732,
          1,
          1,
          1,
          1
         ],
         "textposition": "inside",
         "texttemplate": "%{text:.0%}",
         "type": "bar",
         "x": [
          1,
          0.27972027972027974,
          0.2937062937062937,
          0.44755244755244755,
          1,
          0.993006993006993,
          0.993006993006993,
          1,
          1,
          1,
          1,
          0.9929577464788732,
          1,
          1,
          1,
          1
         ],
         "xaxis": "x3",
         "y": [
          "Electric Clothes Dryer",
          "Mininum Efficiency Heat Pump with Existing Heat Backup",
          "Mininum Efficiency Heat Pump with Electric Heat Backup",
          "High Efficiency Heat Pump with Electric Heat Backup",
          "Mininum Efficiency Whole Home Electrification",
          "Basic Enclosure + HPWH + High Efficiency HP/Electric Backup",
          "Enhanced Enclosure + HPWH + High Efficiency HP/Electric Backup",
          "Basic Enclosure + High Efficiency Whole Home Electrification",
          "High Efficiency Whole Home Electrification",
          "Enhanced Enclosure + High Efficiency Whole Home Electrification",
          "Electric Cooking",
          "Enhanced Enclosure",
          "Heat Pump Water Heater",
          "Basic Enclosure",
          "Induction Cooking",
          "Heat Pump Clothes Dryer"
         ],
         "yaxis": "y3"
        }
       ],
       "layout": {
        "autosize": false,
        "barmode": "relative",
        "font": {
         "size": 10
        },
        "height": 500,
        "template": {
         "data": {
          "bar": [
           {
            "error_x": {
             "color": "#2a3f5f"
            },
            "error_y": {
             "color": "#2a3f5f"
            },
            "marker": {
             "line": {
              "color": "#E5ECF6",
              "width": 0.5
             },
             "pattern": {
              "fillmode": "overlay",
              "size": 10,
              "solidity": 0.2
             }
            },
            "type": "bar"
           }
          ],
          "barpolar": [
           {
            "marker": {
             "line": {
              "color": "#E5ECF6",
              "width": 0.5
             },
             "pattern": {
              "fillmode": "overlay",
              "size": 10,
              "solidity": 0.2
             }
            },
            "type": "barpolar"
           }
          ],
          "carpet": [
           {
            "aaxis": {
             "endlinecolor": "#2a3f5f",
             "gridcolor": "white",
             "linecolor": "white",
             "minorgridcolor": "white",
             "startlinecolor": "#2a3f5f"
            },
            "baxis": {
             "endlinecolor": "#2a3f5f",
             "gridcolor": "white",
             "linecolor": "white",
             "minorgridcolor": "white",
             "startlinecolor": "#2a3f5f"
            },
            "type": "carpet"
           }
          ],
          "choropleth": [
           {
            "colorbar": {
             "outlinewidth": 0,
             "ticks": ""
            },
            "type": "choropleth"
           }
          ],
          "contour": [
           {
            "colorbar": {
             "outlinewidth": 0,
             "ticks": ""
            },
            "colorscale": [
             [
              0,
              "#0d0887"
             ],
             [
              0.1111111111111111,
              "#46039f"
             ],
             [
              0.2222222222222222,
              "#7201a8"
             ],
             [
              0.3333333333333333,
              "#9c179e"
             ],
             [
              0.4444444444444444,
              "#bd3786"
             ],
             [
              0.5555555555555556,
              "#d8576b"
             ],
             [
              0.6666666666666666,
              "#ed7953"
             ],
             [
              0.7777777777777778,
              "#fb9f3a"
             ],
             [
              0.8888888888888888,
              "#fdca26"
             ],
             [
              1,
              "#f0f921"
             ]
            ],
            "type": "contour"
           }
          ],
          "contourcarpet": [
           {
            "colorbar": {
             "outlinewidth": 0,
             "ticks": ""
            },
            "type": "contourcarpet"
           }
          ],
          "heatmap": [
           {
            "colorbar": {
             "outlinewidth": 0,
             "ticks": ""
            },
            "colorscale": [
             [
              0,
              "#0d0887"
             ],
             [
              0.1111111111111111,
              "#46039f"
             ],
             [
              0.2222222222222222,
              "#7201a8"
             ],
             [
              0.3333333333333333,
              "#9c179e"
             ],
             [
              0.4444444444444444,
              "#bd3786"
             ],
             [
              0.5555555555555556,
              "#d8576b"
             ],
             [
              0.6666666666666666,
              "#ed7953"
             ],
             [
              0.7777777777777778,
              "#fb9f3a"
             ],
             [
              0.8888888888888888,
              "#fdca26"
             ],
             [
              1,
              "#f0f921"
             ]
            ],
            "type": "heatmap"
           }
          ],
          "heatmapgl": [
           {
            "colorbar": {
             "outlinewidth": 0,
             "ticks": ""
            },
            "colorscale": [
             [
              0,
              "#0d0887"
             ],
             [
              0.1111111111111111,
              "#46039f"
             ],
             [
              0.2222222222222222,
              "#7201a8"
             ],
             [
              0.3333333333333333,
              "#9c179e"
             ],
             [
              0.4444444444444444,
              "#bd3786"
             ],
             [
              0.5555555555555556,
              "#d8576b"
             ],
             [
              0.6666666666666666,
              "#ed7953"
             ],
             [
              0.7777777777777778,
              "#fb9f3a"
             ],
             [
              0.8888888888888888,
              "#fdca26"
             ],
             [
              1,
              "#f0f921"
             ]
            ],
            "type": "heatmapgl"
           }
          ],
          "histogram": [
           {
            "marker": {
             "pattern": {
              "fillmode": "overlay",
              "size": 10,
              "solidity": 0.2
             }
            },
            "type": "histogram"
           }
          ],
          "histogram2d": [
           {
            "colorbar": {
             "outlinewidth": 0,
             "ticks": ""
            },
            "colorscale": [
             [
              0,
              "#0d0887"
             ],
             [
              0.1111111111111111,
              "#46039f"
             ],
             [
              0.2222222222222222,
              "#7201a8"
             ],
             [
              0.3333333333333333,
              "#9c179e"
             ],
             [
              0.4444444444444444,
              "#bd3786"
             ],
             [
              0.5555555555555556,
              "#d8576b"
             ],
             [
              0.6666666666666666,
              "#ed7953"
             ],
             [
              0.7777777777777778,
              "#fb9f3a"
             ],
             [
              0.8888888888888888,
              "#fdca26"
             ],
             [
              1,
              "#f0f921"
             ]
            ],
            "type": "histogram2d"
           }
          ],
          "histogram2dcontour": [
           {
            "colorbar": {
             "outlinewidth": 0,
             "ticks": ""
            },
            "colorscale": [
             [
              0,
              "#0d0887"
             ],
             [
              0.1111111111111111,
              "#46039f"
             ],
             [
              0.2222222222222222,
              "#7201a8"
             ],
             [
              0.3333333333333333,
              "#9c179e"
             ],
             [
              0.4444444444444444,
              "#bd3786"
             ],
             [
              0.5555555555555556,
              "#d8576b"
             ],
             [
              0.6666666666666666,
              "#ed7953"
             ],
             [
              0.7777777777777778,
              "#fb9f3a"
             ],
             [
              0.8888888888888888,
              "#fdca26"
             ],
             [
              1,
              "#f0f921"
             ]
            ],
            "type": "histogram2dcontour"
           }
          ],
          "mesh3d": [
           {
            "colorbar": {
             "outlinewidth": 0,
             "ticks": ""
            },
            "type": "mesh3d"
           }
          ],
          "parcoords": [
           {
            "line": {
             "colorbar": {
              "outlinewidth": 0,
              "ticks": ""
             }
            },
            "type": "parcoords"
           }
          ],
          "pie": [
           {
            "automargin": true,
            "type": "pie"
           }
          ],
          "scatter": [
           {
            "fillpattern": {
             "fillmode": "overlay",
             "size": 10,
             "solidity": 0.2
            },
            "type": "scatter"
           }
          ],
          "scatter3d": [
           {
            "line": {
             "colorbar": {
              "outlinewidth": 0,
              "ticks": ""
             }
            },
            "marker": {
             "colorbar": {
              "outlinewidth": 0,
              "ticks": ""
             }
            },
            "type": "scatter3d"
           }
          ],
          "scattercarpet": [
           {
            "marker": {
             "colorbar": {
              "outlinewidth": 0,
              "ticks": ""
             }
            },
            "type": "scattercarpet"
           }
          ],
          "scattergeo": [
           {
            "marker": {
             "colorbar": {
              "outlinewidth": 0,
              "ticks": ""
             }
            },
            "type": "scattergeo"
           }
          ],
          "scattergl": [
           {
            "marker": {
             "colorbar": {
              "outlinewidth": 0,
              "ticks": ""
             }
            },
            "type": "scattergl"
           }
          ],
          "scattermapbox": [
           {
            "marker": {
             "colorbar": {
              "outlinewidth": 0,
              "ticks": ""
             }
            },
            "type": "scattermapbox"
           }
          ],
          "scatterpolar": [
           {
            "marker": {
             "colorbar": {
              "outlinewidth": 0,
              "ticks": ""
             }
            },
            "type": "scatterpolar"
           }
          ],
          "scatterpolargl": [
           {
            "marker": {
             "colorbar": {
              "outlinewidth": 0,
              "ticks": ""
             }
            },
            "type": "scatterpolargl"
           }
          ],
          "scatterternary": [
           {
            "marker": {
             "colorbar": {
              "outlinewidth": 0,
              "ticks": ""
             }
            },
            "type": "scatterternary"
           }
          ],
          "surface": [
           {
            "colorbar": {
             "outlinewidth": 0,
             "ticks": ""
            },
            "colorscale": [
             [
              0,
              "#0d0887"
             ],
             [
              0.1111111111111111,
              "#46039f"
             ],
             [
              0.2222222222222222,
              "#7201a8"
             ],
             [
              0.3333333333333333,
              "#9c179e"
             ],
             [
              0.4444444444444444,
              "#bd3786"
             ],
             [
              0.5555555555555556,
              "#d8576b"
             ],
             [
              0.6666666666666666,
              "#ed7953"
             ],
             [
              0.7777777777777778,
              "#fb9f3a"
             ],
             [
              0.8888888888888888,
              "#fdca26"
             ],
             [
              1,
              "#f0f921"
             ]
            ],
            "type": "surface"
           }
          ],
          "table": [
           {
            "cells": {
             "fill": {
              "color": "#EBF0F8"
             },
             "line": {
              "color": "white"
             }
            },
            "header": {
             "fill": {
              "color": "#C8D4E3"
             },
             "line": {
              "color": "white"
             }
            },
            "type": "table"
           }
          ]
         },
         "layout": {
          "annotationdefaults": {
           "arrowcolor": "#2a3f5f",
           "arrowhead": 0,
           "arrowwidth": 1
          },
          "autotypenumbers": "strict",
          "coloraxis": {
           "colorbar": {
            "outlinewidth": 0,
            "ticks": ""
           }
          },
          "colorscale": {
           "diverging": [
            [
             0,
             "#8e0152"
            ],
            [
             0.1,
             "#c51b7d"
            ],
            [
             0.2,
             "#de77ae"
            ],
            [
             0.3,
             "#f1b6da"
            ],
            [
             0.4,
             "#fde0ef"
            ],
            [
             0.5,
             "#f7f7f7"
            ],
            [
             0.6,
             "#e6f5d0"
            ],
            [
             0.7,
             "#b8e186"
            ],
            [
             0.8,
             "#7fbc41"
            ],
            [
             0.9,
             "#4d9221"
            ],
            [
             1,
             "#276419"
            ]
           ],
           "sequential": [
            [
             0,
             "#0d0887"
            ],
            [
             0.1111111111111111,
             "#46039f"
            ],
            [
             0.2222222222222222,
             "#7201a8"
            ],
            [
             0.3333333333333333,
             "#9c179e"
            ],
            [
             0.4444444444444444,
             "#bd3786"
            ],
            [
             0.5555555555555556,
             "#d8576b"
            ],
            [
             0.6666666666666666,
             "#ed7953"
            ],
            [
             0.7777777777777778,
             "#fb9f3a"
            ],
            [
             0.8888888888888888,
             "#fdca26"
            ],
            [
             1,
             "#f0f921"
            ]
           ],
           "sequentialminus": [
            [
             0,
             "#0d0887"
            ],
            [
             0.1111111111111111,
             "#46039f"
            ],
            [
             0.2222222222222222,
             "#7201a8"
            ],
            [
             0.3333333333333333,
             "#9c179e"
            ],
            [
             0.4444444444444444,
             "#bd3786"
            ],
            [
             0.5555555555555556,
             "#d8576b"
            ],
            [
             0.6666666666666666,
             "#ed7953"
            ],
            [
             0.7777777777777778,
             "#fb9f3a"
            ],
            [
             0.8888888888888888,
             "#fdca26"
            ],
            [
             1,
             "#f0f921"
            ]
           ]
          },
          "colorway": [
           "#636efa",
           "#EF553B",
           "#00cc96",
           "#ab63fa",
           "#FFA15A",
           "#19d3f3",
           "#FF6692",
           "#B6E880",
           "#FF97FF",
           "#FECB52"
          ],
          "font": {
           "color": "#2a3f5f"
          },
          "geo": {
           "bgcolor": "white",
           "lakecolor": "white",
           "landcolor": "#E5ECF6",
           "showlakes": true,
           "showland": true,
           "subunitcolor": "white"
          },
          "hoverlabel": {
           "align": "left"
          },
          "hovermode": "closest",
          "mapbox": {
           "style": "light"
          },
          "paper_bgcolor": "white",
          "plot_bgcolor": "#E5ECF6",
          "polar": {
           "angularaxis": {
            "gridcolor": "white",
            "linecolor": "white",
            "ticks": ""
           },
           "bgcolor": "#E5ECF6",
           "radialaxis": {
            "gridcolor": "white",
            "linecolor": "white",
            "ticks": ""
           }
          },
          "scene": {
           "xaxis": {
            "backgroundcolor": "#E5ECF6",
            "gridcolor": "white",
            "gridwidth": 2,
            "linecolor": "white",
            "showbackground": true,
            "ticks": "",
            "zerolinecolor": "white"
           },
           "yaxis": {
            "backgroundcolor": "#E5ECF6",
            "gridcolor": "white",
            "gridwidth": 2,
            "linecolor": "white",
            "showbackground": true,
            "ticks": "",
            "zerolinecolor": "white"
           },
           "zaxis": {
            "backgroundcolor": "#E5ECF6",
            "gridcolor": "white",
            "gridwidth": 2,
            "linecolor": "white",
            "showbackground": true,
            "ticks": "",
            "zerolinecolor": "white"
           }
          },
          "shapedefaults": {
           "line": {
            "color": "#2a3f5f"
           }
          },
          "ternary": {
           "aaxis": {
            "gridcolor": "white",
            "linecolor": "white",
            "ticks": ""
           },
           "baxis": {
            "gridcolor": "white",
            "linecolor": "white",
            "ticks": ""
           },
           "bgcolor": "#E5ECF6",
           "caxis": {
            "gridcolor": "white",
            "linecolor": "white",
            "ticks": ""
           }
          },
          "title": {
           "x": 0.05
          },
          "xaxis": {
           "automargin": true,
           "gridcolor": "white",
           "linecolor": "white",
           "ticks": "",
           "title": {
            "standoff": 15
           },
           "zerolinecolor": "white",
           "zerolinewidth": 2
          },
          "yaxis": {
           "automargin": true,
           "gridcolor": "white",
           "linecolor": "white",
           "ticks": "",
           "title": {
            "standoff": 15
           },
           "zerolinecolor": "white",
           "zerolinewidth": 2
          }
         }
        },
        "title": {
         "text": "Percentage of Household in Positive and Negative Savings"
        },
        "width": 1000,
        "xaxis": {
         "anchor": "y",
         "domain": [
          0,
          0.2888888888888889
         ],
         "tickformat": ",.0%",
         "title": {
          "text": "Bill"
         },
         "visible": true
        },
        "xaxis2": {
         "anchor": "y2",
         "domain": [
          0.35555555555555557,
          0.6444444444444445
         ],
         "tickformat": ",.0%",
         "title": {
          "text": "Emission"
         },
         "visible": true
        },
        "xaxis3": {
         "anchor": "y3",
         "domain": [
          0.7111111111111111,
          1
         ],
         "tickformat": ",.0%",
         "title": {
          "text": "Total Energy"
         },
         "visible": true
        },
        "yaxis": {
         "anchor": "x",
         "domain": [
          0,
          1
         ],
         "visible": true
        },
        "yaxis2": {
         "anchor": "x2",
         "domain": [
          0,
          1
         ],
         "visible": false
        },
        "yaxis3": {
         "anchor": "x3",
         "domain": [
          0,
          1
         ],
         "visible": false
        }
       }
      }
     },
     "metadata": {},
     "output_type": "display_data"
    }
   ],
   "source": [
    "segment = 'segment1'\n",
    "results = figure_positive_negative_savings(segment, community_results) \n",
    "saving_results[f'segment1_{income}_pct_bill_positive_savings_%'] = results[0]*100\n",
    "saving_results[f'segment1_{income}_pct_emission_positive_savings_%'] = results[1]*100\n",
    "saving_results[f'segment1_{income}_pct_energy_positive_savings_%'] = results[2]*100"
   ]
  },
  {
   "cell_type": "markdown",
   "id": "f3357f7f",
   "metadata": {},
   "source": [
    "### Segment 2"
   ]
  },
  {
   "cell_type": "code",
   "execution_count": 33,
   "id": "362580ae",
   "metadata": {},
   "outputs": [
    {
     "data": {
      "application/vnd.plotly.v1+json": {
       "config": {
        "plotlyServerURL": "https://plot.ly"
       },
       "data": [
        {
         "marker": {
          "color": "red"
         },
         "name": "Negative",
         "orientation": "h",
         "text": [
          1,
          0.7184466019417476,
          0.7184466019417476,
          0.6057692307692307,
          0.16666666666666666,
          0.15789473684210525,
          0.06930693069306931,
          0.0673076923076923,
          0.0673076923076923,
          0.057692307692307696,
          0.04807692307692308,
          0.04807692307692308,
          0.019230769230769232,
          0,
          0,
          0
         ],
         "textposition": "inside",
         "texttemplate": "%{text:.0%}",
         "type": "bar",
         "x": [
          1,
          0.7184466019417476,
          0.7184466019417476,
          0.6057692307692307,
          0.16666666666666666,
          0.15789473684210525,
          0.06930693069306931,
          0.0673076923076923,
          0.0673076923076923,
          0.057692307692307696,
          0.04807692307692308,
          0.04807692307692308,
          0.019230769230769232,
          0,
          0,
          0
         ],
         "xaxis": "x",
         "y": [
          "Electric Clothes Dryer",
          "Mininum Efficiency Heat Pump with Electric Heat Backup",
          "Mininum Efficiency Heat Pump with Existing Heat Backup",
          "High Efficiency Heat Pump with Electric Heat Backup",
          "Enhanced Enclosure",
          "Basic Enclosure",
          "Mininum Efficiency Whole Home Electrification",
          "Basic Enclosure + HPWH + High Efficiency HP/Electric Backup",
          "Enhanced Enclosure + HPWH + High Efficiency HP/Electric Backup",
          "High Efficiency Whole Home Electrification",
          "Basic Enclosure + High Efficiency Whole Home Electrification",
          "Enhanced Enclosure + High Efficiency Whole Home Electrification",
          "Heat Pump Water Heater",
          "Electric Cooking",
          "Heat Pump Clothes Dryer",
          "Induction Cooking"
         ],
         "yaxis": "y"
        },
        {
         "marker": {
          "color": "green"
         },
         "name": "Positive",
         "orientation": "h",
         "text": [
          0,
          0.2815533980582524,
          0.2815533980582524,
          0.3942307692307692,
          0.8333333333333334,
          0.8421052631578947,
          0.9306930693069307,
          0.9326923076923077,
          0.9326923076923077,
          0.9423076923076923,
          0.9519230769230769,
          0.9519230769230769,
          0.9807692307692307,
          1,
          1,
          1
         ],
         "textposition": "inside",
         "texttemplate": "%{text:.0%}",
         "type": "bar",
         "x": [
          0,
          0.2815533980582524,
          0.2815533980582524,
          0.3942307692307692,
          0.8333333333333334,
          0.8421052631578947,
          0.9306930693069307,
          0.9326923076923077,
          0.9326923076923077,
          0.9423076923076923,
          0.9519230769230769,
          0.9519230769230769,
          0.9807692307692307,
          1,
          1,
          1
         ],
         "xaxis": "x",
         "y": [
          "Electric Clothes Dryer",
          "Mininum Efficiency Heat Pump with Electric Heat Backup",
          "Mininum Efficiency Heat Pump with Existing Heat Backup",
          "High Efficiency Heat Pump with Electric Heat Backup",
          "Enhanced Enclosure",
          "Basic Enclosure",
          "Mininum Efficiency Whole Home Electrification",
          "Basic Enclosure + HPWH + High Efficiency HP/Electric Backup",
          "Enhanced Enclosure + HPWH + High Efficiency HP/Electric Backup",
          "High Efficiency Whole Home Electrification",
          "Basic Enclosure + High Efficiency Whole Home Electrification",
          "Enhanced Enclosure + High Efficiency Whole Home Electrification",
          "Heat Pump Water Heater",
          "Electric Cooking",
          "Heat Pump Clothes Dryer",
          "Induction Cooking"
         ],
         "yaxis": "y"
        },
        {
         "marker": {
          "color": "red"
         },
         "orientation": "h",
         "showlegend": false,
         "text": [
          0,
          0.6699029126213593,
          0.6699029126213593,
          0.5961538461538461,
          0.12903225806451613,
          0.11864406779661017,
          0,
          0,
          0,
          0,
          0,
          0,
          0,
          0,
          0,
          0
         ],
         "textposition": "inside",
         "texttemplate": "%{text:.0%}",
         "type": "bar",
         "x": [
          0,
          0.6699029126213593,
          0.6699029126213593,
          0.5961538461538461,
          0.12903225806451613,
          0.11864406779661017,
          0,
          0,
          0,
          0,
          0,
          0,
          0,
          0,
          0,
          0
         ],
         "xaxis": "x2",
         "y": [
          "Electric Clothes Dryer",
          "Mininum Efficiency Heat Pump with Electric Heat Backup",
          "Mininum Efficiency Heat Pump with Existing Heat Backup",
          "High Efficiency Heat Pump with Electric Heat Backup",
          "Enhanced Enclosure",
          "Basic Enclosure",
          "Mininum Efficiency Whole Home Electrification",
          "Basic Enclosure + HPWH + High Efficiency HP/Electric Backup",
          "Enhanced Enclosure + HPWH + High Efficiency HP/Electric Backup",
          "High Efficiency Whole Home Electrification",
          "Basic Enclosure + High Efficiency Whole Home Electrification",
          "Enhanced Enclosure + High Efficiency Whole Home Electrification",
          "Heat Pump Water Heater",
          "Electric Cooking",
          "Heat Pump Clothes Dryer",
          "Induction Cooking"
         ],
         "yaxis": "y2"
        },
        {
         "marker": {
          "color": "green"
         },
         "orientation": "h",
         "showlegend": false,
         "text": [
          1,
          0.3300970873786408,
          0.3300970873786408,
          0.40384615384615385,
          0.8709677419354839,
          0.8813559322033898,
          1,
          1,
          1,
          1,
          1,
          1,
          1,
          1,
          1,
          1
         ],
         "textposition": "inside",
         "texttemplate": "%{text:.0%}",
         "type": "bar",
         "x": [
          1,
          0.3300970873786408,
          0.3300970873786408,
          0.40384615384615385,
          0.8709677419354839,
          0.8813559322033898,
          1,
          1,
          1,
          1,
          1,
          1,
          1,
          1,
          1,
          1
         ],
         "xaxis": "x2",
         "y": [
          "Electric Clothes Dryer",
          "Mininum Efficiency Heat Pump with Electric Heat Backup",
          "Mininum Efficiency Heat Pump with Existing Heat Backup",
          "High Efficiency Heat Pump with Electric Heat Backup",
          "Enhanced Enclosure",
          "Basic Enclosure",
          "Mininum Efficiency Whole Home Electrification",
          "Basic Enclosure + HPWH + High Efficiency HP/Electric Backup",
          "Enhanced Enclosure + HPWH + High Efficiency HP/Electric Backup",
          "High Efficiency Whole Home Electrification",
          "Basic Enclosure + High Efficiency Whole Home Electrification",
          "Enhanced Enclosure + High Efficiency Whole Home Electrification",
          "Heat Pump Water Heater",
          "Electric Cooking",
          "Heat Pump Clothes Dryer",
          "Induction Cooking"
         ],
         "yaxis": "y2"
        },
        {
         "marker": {
          "color": "red"
         },
         "orientation": "h",
         "showlegend": false,
         "text": [
          0,
          0.7087378640776699,
          0.7087378640776699,
          0.5961538461538461,
          0.11666666666666667,
          0.10526315789473684,
          0,
          0,
          0,
          0,
          0,
          0,
          0,
          0,
          0,
          0
         ],
         "textposition": "inside",
         "texttemplate": "%{text:.0%}",
         "type": "bar",
         "x": [
          0,
          0.7087378640776699,
          0.7087378640776699,
          0.5961538461538461,
          0.11666666666666667,
          0.10526315789473684,
          0,
          0,
          0,
          0,
          0,
          0,
          0,
          0,
          0,
          0
         ],
         "xaxis": "x3",
         "y": [
          "Electric Clothes Dryer",
          "Mininum Efficiency Heat Pump with Electric Heat Backup",
          "Mininum Efficiency Heat Pump with Existing Heat Backup",
          "High Efficiency Heat Pump with Electric Heat Backup",
          "Enhanced Enclosure",
          "Basic Enclosure",
          "Mininum Efficiency Whole Home Electrification",
          "Basic Enclosure + HPWH + High Efficiency HP/Electric Backup",
          "Enhanced Enclosure + HPWH + High Efficiency HP/Electric Backup",
          "High Efficiency Whole Home Electrification",
          "Basic Enclosure + High Efficiency Whole Home Electrification",
          "Enhanced Enclosure + High Efficiency Whole Home Electrification",
          "Heat Pump Water Heater",
          "Electric Cooking",
          "Heat Pump Clothes Dryer",
          "Induction Cooking"
         ],
         "yaxis": "y3"
        },
        {
         "marker": {
          "color": "green"
         },
         "orientation": "h",
         "showlegend": false,
         "text": [
          1,
          0.2912621359223301,
          0.2912621359223301,
          0.40384615384615385,
          0.8833333333333333,
          0.8947368421052632,
          1,
          1,
          1,
          1,
          1,
          1,
          1,
          1,
          1,
          1
         ],
         "textposition": "inside",
         "texttemplate": "%{text:.0%}",
         "type": "bar",
         "x": [
          1,
          0.2912621359223301,
          0.2912621359223301,
          0.40384615384615385,
          0.8833333333333333,
          0.8947368421052632,
          1,
          1,
          1,
          1,
          1,
          1,
          1,
          1,
          1,
          1
         ],
         "xaxis": "x3",
         "y": [
          "Electric Clothes Dryer",
          "Mininum Efficiency Heat Pump with Electric Heat Backup",
          "Mininum Efficiency Heat Pump with Existing Heat Backup",
          "High Efficiency Heat Pump with Electric Heat Backup",
          "Enhanced Enclosure",
          "Basic Enclosure",
          "Mininum Efficiency Whole Home Electrification",
          "Basic Enclosure + HPWH + High Efficiency HP/Electric Backup",
          "Enhanced Enclosure + HPWH + High Efficiency HP/Electric Backup",
          "High Efficiency Whole Home Electrification",
          "Basic Enclosure + High Efficiency Whole Home Electrification",
          "Enhanced Enclosure + High Efficiency Whole Home Electrification",
          "Heat Pump Water Heater",
          "Electric Cooking",
          "Heat Pump Clothes Dryer",
          "Induction Cooking"
         ],
         "yaxis": "y3"
        }
       ],
       "layout": {
        "autosize": false,
        "barmode": "relative",
        "font": {
         "size": 10
        },
        "height": 500,
        "template": {
         "data": {
          "bar": [
           {
            "error_x": {
             "color": "#2a3f5f"
            },
            "error_y": {
             "color": "#2a3f5f"
            },
            "marker": {
             "line": {
              "color": "#E5ECF6",
              "width": 0.5
             },
             "pattern": {
              "fillmode": "overlay",
              "size": 10,
              "solidity": 0.2
             }
            },
            "type": "bar"
           }
          ],
          "barpolar": [
           {
            "marker": {
             "line": {
              "color": "#E5ECF6",
              "width": 0.5
             },
             "pattern": {
              "fillmode": "overlay",
              "size": 10,
              "solidity": 0.2
             }
            },
            "type": "barpolar"
           }
          ],
          "carpet": [
           {
            "aaxis": {
             "endlinecolor": "#2a3f5f",
             "gridcolor": "white",
             "linecolor": "white",
             "minorgridcolor": "white",
             "startlinecolor": "#2a3f5f"
            },
            "baxis": {
             "endlinecolor": "#2a3f5f",
             "gridcolor": "white",
             "linecolor": "white",
             "minorgridcolor": "white",
             "startlinecolor": "#2a3f5f"
            },
            "type": "carpet"
           }
          ],
          "choropleth": [
           {
            "colorbar": {
             "outlinewidth": 0,
             "ticks": ""
            },
            "type": "choropleth"
           }
          ],
          "contour": [
           {
            "colorbar": {
             "outlinewidth": 0,
             "ticks": ""
            },
            "colorscale": [
             [
              0,
              "#0d0887"
             ],
             [
              0.1111111111111111,
              "#46039f"
             ],
             [
              0.2222222222222222,
              "#7201a8"
             ],
             [
              0.3333333333333333,
              "#9c179e"
             ],
             [
              0.4444444444444444,
              "#bd3786"
             ],
             [
              0.5555555555555556,
              "#d8576b"
             ],
             [
              0.6666666666666666,
              "#ed7953"
             ],
             [
              0.7777777777777778,
              "#fb9f3a"
             ],
             [
              0.8888888888888888,
              "#fdca26"
             ],
             [
              1,
              "#f0f921"
             ]
            ],
            "type": "contour"
           }
          ],
          "contourcarpet": [
           {
            "colorbar": {
             "outlinewidth": 0,
             "ticks": ""
            },
            "type": "contourcarpet"
           }
          ],
          "heatmap": [
           {
            "colorbar": {
             "outlinewidth": 0,
             "ticks": ""
            },
            "colorscale": [
             [
              0,
              "#0d0887"
             ],
             [
              0.1111111111111111,
              "#46039f"
             ],
             [
              0.2222222222222222,
              "#7201a8"
             ],
             [
              0.3333333333333333,
              "#9c179e"
             ],
             [
              0.4444444444444444,
              "#bd3786"
             ],
             [
              0.5555555555555556,
              "#d8576b"
             ],
             [
              0.6666666666666666,
              "#ed7953"
             ],
             [
              0.7777777777777778,
              "#fb9f3a"
             ],
             [
              0.8888888888888888,
              "#fdca26"
             ],
             [
              1,
              "#f0f921"
             ]
            ],
            "type": "heatmap"
           }
          ],
          "heatmapgl": [
           {
            "colorbar": {
             "outlinewidth": 0,
             "ticks": ""
            },
            "colorscale": [
             [
              0,
              "#0d0887"
             ],
             [
              0.1111111111111111,
              "#46039f"
             ],
             [
              0.2222222222222222,
              "#7201a8"
             ],
             [
              0.3333333333333333,
              "#9c179e"
             ],
             [
              0.4444444444444444,
              "#bd3786"
             ],
             [
              0.5555555555555556,
              "#d8576b"
             ],
             [
              0.6666666666666666,
              "#ed7953"
             ],
             [
              0.7777777777777778,
              "#fb9f3a"
             ],
             [
              0.8888888888888888,
              "#fdca26"
             ],
             [
              1,
              "#f0f921"
             ]
            ],
            "type": "heatmapgl"
           }
          ],
          "histogram": [
           {
            "marker": {
             "pattern": {
              "fillmode": "overlay",
              "size": 10,
              "solidity": 0.2
             }
            },
            "type": "histogram"
           }
          ],
          "histogram2d": [
           {
            "colorbar": {
             "outlinewidth": 0,
             "ticks": ""
            },
            "colorscale": [
             [
              0,
              "#0d0887"
             ],
             [
              0.1111111111111111,
              "#46039f"
             ],
             [
              0.2222222222222222,
              "#7201a8"
             ],
             [
              0.3333333333333333,
              "#9c179e"
             ],
             [
              0.4444444444444444,
              "#bd3786"
             ],
             [
              0.5555555555555556,
              "#d8576b"
             ],
             [
              0.6666666666666666,
              "#ed7953"
             ],
             [
              0.7777777777777778,
              "#fb9f3a"
             ],
             [
              0.8888888888888888,
              "#fdca26"
             ],
             [
              1,
              "#f0f921"
             ]
            ],
            "type": "histogram2d"
           }
          ],
          "histogram2dcontour": [
           {
            "colorbar": {
             "outlinewidth": 0,
             "ticks": ""
            },
            "colorscale": [
             [
              0,
              "#0d0887"
             ],
             [
              0.1111111111111111,
              "#46039f"
             ],
             [
              0.2222222222222222,
              "#7201a8"
             ],
             [
              0.3333333333333333,
              "#9c179e"
             ],
             [
              0.4444444444444444,
              "#bd3786"
             ],
             [
              0.5555555555555556,
              "#d8576b"
             ],
             [
              0.6666666666666666,
              "#ed7953"
             ],
             [
              0.7777777777777778,
              "#fb9f3a"
             ],
             [
              0.8888888888888888,
              "#fdca26"
             ],
             [
              1,
              "#f0f921"
             ]
            ],
            "type": "histogram2dcontour"
           }
          ],
          "mesh3d": [
           {
            "colorbar": {
             "outlinewidth": 0,
             "ticks": ""
            },
            "type": "mesh3d"
           }
          ],
          "parcoords": [
           {
            "line": {
             "colorbar": {
              "outlinewidth": 0,
              "ticks": ""
             }
            },
            "type": "parcoords"
           }
          ],
          "pie": [
           {
            "automargin": true,
            "type": "pie"
           }
          ],
          "scatter": [
           {
            "fillpattern": {
             "fillmode": "overlay",
             "size": 10,
             "solidity": 0.2
            },
            "type": "scatter"
           }
          ],
          "scatter3d": [
           {
            "line": {
             "colorbar": {
              "outlinewidth": 0,
              "ticks": ""
             }
            },
            "marker": {
             "colorbar": {
              "outlinewidth": 0,
              "ticks": ""
             }
            },
            "type": "scatter3d"
           }
          ],
          "scattercarpet": [
           {
            "marker": {
             "colorbar": {
              "outlinewidth": 0,
              "ticks": ""
             }
            },
            "type": "scattercarpet"
           }
          ],
          "scattergeo": [
           {
            "marker": {
             "colorbar": {
              "outlinewidth": 0,
              "ticks": ""
             }
            },
            "type": "scattergeo"
           }
          ],
          "scattergl": [
           {
            "marker": {
             "colorbar": {
              "outlinewidth": 0,
              "ticks": ""
             }
            },
            "type": "scattergl"
           }
          ],
          "scattermapbox": [
           {
            "marker": {
             "colorbar": {
              "outlinewidth": 0,
              "ticks": ""
             }
            },
            "type": "scattermapbox"
           }
          ],
          "scatterpolar": [
           {
            "marker": {
             "colorbar": {
              "outlinewidth": 0,
              "ticks": ""
             }
            },
            "type": "scatterpolar"
           }
          ],
          "scatterpolargl": [
           {
            "marker": {
             "colorbar": {
              "outlinewidth": 0,
              "ticks": ""
             }
            },
            "type": "scatterpolargl"
           }
          ],
          "scatterternary": [
           {
            "marker": {
             "colorbar": {
              "outlinewidth": 0,
              "ticks": ""
             }
            },
            "type": "scatterternary"
           }
          ],
          "surface": [
           {
            "colorbar": {
             "outlinewidth": 0,
             "ticks": ""
            },
            "colorscale": [
             [
              0,
              "#0d0887"
             ],
             [
              0.1111111111111111,
              "#46039f"
             ],
             [
              0.2222222222222222,
              "#7201a8"
             ],
             [
              0.3333333333333333,
              "#9c179e"
             ],
             [
              0.4444444444444444,
              "#bd3786"
             ],
             [
              0.5555555555555556,
              "#d8576b"
             ],
             [
              0.6666666666666666,
              "#ed7953"
             ],
             [
              0.7777777777777778,
              "#fb9f3a"
             ],
             [
              0.8888888888888888,
              "#fdca26"
             ],
             [
              1,
              "#f0f921"
             ]
            ],
            "type": "surface"
           }
          ],
          "table": [
           {
            "cells": {
             "fill": {
              "color": "#EBF0F8"
             },
             "line": {
              "color": "white"
             }
            },
            "header": {
             "fill": {
              "color": "#C8D4E3"
             },
             "line": {
              "color": "white"
             }
            },
            "type": "table"
           }
          ]
         },
         "layout": {
          "annotationdefaults": {
           "arrowcolor": "#2a3f5f",
           "arrowhead": 0,
           "arrowwidth": 1
          },
          "autotypenumbers": "strict",
          "coloraxis": {
           "colorbar": {
            "outlinewidth": 0,
            "ticks": ""
           }
          },
          "colorscale": {
           "diverging": [
            [
             0,
             "#8e0152"
            ],
            [
             0.1,
             "#c51b7d"
            ],
            [
             0.2,
             "#de77ae"
            ],
            [
             0.3,
             "#f1b6da"
            ],
            [
             0.4,
             "#fde0ef"
            ],
            [
             0.5,
             "#f7f7f7"
            ],
            [
             0.6,
             "#e6f5d0"
            ],
            [
             0.7,
             "#b8e186"
            ],
            [
             0.8,
             "#7fbc41"
            ],
            [
             0.9,
             "#4d9221"
            ],
            [
             1,
             "#276419"
            ]
           ],
           "sequential": [
            [
             0,
             "#0d0887"
            ],
            [
             0.1111111111111111,
             "#46039f"
            ],
            [
             0.2222222222222222,
             "#7201a8"
            ],
            [
             0.3333333333333333,
             "#9c179e"
            ],
            [
             0.4444444444444444,
             "#bd3786"
            ],
            [
             0.5555555555555556,
             "#d8576b"
            ],
            [
             0.6666666666666666,
             "#ed7953"
            ],
            [
             0.7777777777777778,
             "#fb9f3a"
            ],
            [
             0.8888888888888888,
             "#fdca26"
            ],
            [
             1,
             "#f0f921"
            ]
           ],
           "sequentialminus": [
            [
             0,
             "#0d0887"
            ],
            [
             0.1111111111111111,
             "#46039f"
            ],
            [
             0.2222222222222222,
             "#7201a8"
            ],
            [
             0.3333333333333333,
             "#9c179e"
            ],
            [
             0.4444444444444444,
             "#bd3786"
            ],
            [
             0.5555555555555556,
             "#d8576b"
            ],
            [
             0.6666666666666666,
             "#ed7953"
            ],
            [
             0.7777777777777778,
             "#fb9f3a"
            ],
            [
             0.8888888888888888,
             "#fdca26"
            ],
            [
             1,
             "#f0f921"
            ]
           ]
          },
          "colorway": [
           "#636efa",
           "#EF553B",
           "#00cc96",
           "#ab63fa",
           "#FFA15A",
           "#19d3f3",
           "#FF6692",
           "#B6E880",
           "#FF97FF",
           "#FECB52"
          ],
          "font": {
           "color": "#2a3f5f"
          },
          "geo": {
           "bgcolor": "white",
           "lakecolor": "white",
           "landcolor": "#E5ECF6",
           "showlakes": true,
           "showland": true,
           "subunitcolor": "white"
          },
          "hoverlabel": {
           "align": "left"
          },
          "hovermode": "closest",
          "mapbox": {
           "style": "light"
          },
          "paper_bgcolor": "white",
          "plot_bgcolor": "#E5ECF6",
          "polar": {
           "angularaxis": {
            "gridcolor": "white",
            "linecolor": "white",
            "ticks": ""
           },
           "bgcolor": "#E5ECF6",
           "radialaxis": {
            "gridcolor": "white",
            "linecolor": "white",
            "ticks": ""
           }
          },
          "scene": {
           "xaxis": {
            "backgroundcolor": "#E5ECF6",
            "gridcolor": "white",
            "gridwidth": 2,
            "linecolor": "white",
            "showbackground": true,
            "ticks": "",
            "zerolinecolor": "white"
           },
           "yaxis": {
            "backgroundcolor": "#E5ECF6",
            "gridcolor": "white",
            "gridwidth": 2,
            "linecolor": "white",
            "showbackground": true,
            "ticks": "",
            "zerolinecolor": "white"
           },
           "zaxis": {
            "backgroundcolor": "#E5ECF6",
            "gridcolor": "white",
            "gridwidth": 2,
            "linecolor": "white",
            "showbackground": true,
            "ticks": "",
            "zerolinecolor": "white"
           }
          },
          "shapedefaults": {
           "line": {
            "color": "#2a3f5f"
           }
          },
          "ternary": {
           "aaxis": {
            "gridcolor": "white",
            "linecolor": "white",
            "ticks": ""
           },
           "baxis": {
            "gridcolor": "white",
            "linecolor": "white",
            "ticks": ""
           },
           "bgcolor": "#E5ECF6",
           "caxis": {
            "gridcolor": "white",
            "linecolor": "white",
            "ticks": ""
           }
          },
          "title": {
           "x": 0.05
          },
          "xaxis": {
           "automargin": true,
           "gridcolor": "white",
           "linecolor": "white",
           "ticks": "",
           "title": {
            "standoff": 15
           },
           "zerolinecolor": "white",
           "zerolinewidth": 2
          },
          "yaxis": {
           "automargin": true,
           "gridcolor": "white",
           "linecolor": "white",
           "ticks": "",
           "title": {
            "standoff": 15
           },
           "zerolinecolor": "white",
           "zerolinewidth": 2
          }
         }
        },
        "title": {
         "text": "Percentage of Household in Positive and Negative Savings"
        },
        "width": 1000,
        "xaxis": {
         "anchor": "y",
         "domain": [
          0,
          0.2888888888888889
         ],
         "tickformat": ",.0%",
         "title": {
          "text": "Bill"
         },
         "visible": true
        },
        "xaxis2": {
         "anchor": "y2",
         "domain": [
          0.35555555555555557,
          0.6444444444444445
         ],
         "tickformat": ",.0%",
         "title": {
          "text": "Emission"
         },
         "visible": true
        },
        "xaxis3": {
         "anchor": "y3",
         "domain": [
          0.7111111111111111,
          1
         ],
         "tickformat": ",.0%",
         "title": {
          "text": "Total Energy"
         },
         "visible": true
        },
        "yaxis": {
         "anchor": "x",
         "domain": [
          0,
          1
         ],
         "visible": true
        },
        "yaxis2": {
         "anchor": "x2",
         "domain": [
          0,
          1
         ],
         "visible": false
        },
        "yaxis3": {
         "anchor": "x3",
         "domain": [
          0,
          1
         ],
         "visible": false
        }
       }
      }
     },
     "metadata": {},
     "output_type": "display_data"
    }
   ],
   "source": [
    "segment = 'segment2'\n",
    "results = figure_positive_negative_savings(segment, community_results)\n",
    "saving_results[f'segment2_{income}_pct_bill_positive_savings_%'] = results[0]*100\n",
    "saving_results[f'segment2_{income}_pct_emission_positive_savings_%'] = results[1]*100\n",
    "saving_results[f'segment2_{income}_pct_energy_positive_savings_%'] = results[2]*100"
   ]
  },
  {
   "cell_type": "markdown",
   "id": "5bcfb89a",
   "metadata": {},
   "source": [
    "### Segment 3"
   ]
  },
  {
   "cell_type": "code",
   "execution_count": 34,
   "id": "5c5c3d99",
   "metadata": {},
   "outputs": [
    {
     "data": {
      "application/vnd.plotly.v1+json": {
       "config": {
        "plotlyServerURL": "https://plot.ly"
       },
       "data": [
        {
         "marker": {
          "color": "red"
         },
         "name": "Negative",
         "orientation": "h",
         "text": [
          1,
          0.6018518518518519,
          0.595679012345679,
          0.3765432098765432,
          0.2786377708978328,
          0.05555555555555555,
          0.043209876543209874,
          0.037037037037037035,
          0.024691358024691357,
          0.021604938271604937,
          0.0030864197530864196,
          0,
          0,
          0,
          0,
          0
         ],
         "textposition": "inside",
         "texttemplate": "%{text:.0%}",
         "type": "bar",
         "x": [
          1,
          0.6018518518518519,
          0.595679012345679,
          0.3765432098765432,
          0.2786377708978328,
          0.05555555555555555,
          0.043209876543209874,
          0.037037037037037035,
          0.024691358024691357,
          0.021604938271604937,
          0.0030864197530864196,
          0,
          0,
          0,
          0,
          0
         ],
         "xaxis": "x",
         "y": [
          "Electric Clothes Dryer",
          "Mininum Efficiency Heat Pump with Existing Heat Backup",
          "Mininum Efficiency Heat Pump with Electric Heat Backup",
          "High Efficiency Heat Pump with Electric Heat Backup",
          "Mininum Efficiency Whole Home Electrification",
          "High Efficiency Whole Home Electrification",
          "Basic Enclosure + HPWH + High Efficiency HP/Electric Backup",
          "Enhanced Enclosure + HPWH + High Efficiency HP/Electric Backup",
          "Basic Enclosure + High Efficiency Whole Home Electrification",
          "Enhanced Enclosure + High Efficiency Whole Home Electrification",
          "Heat Pump Water Heater",
          "Basic Enclosure",
          "Electric Cooking",
          "Enhanced Enclosure",
          "Heat Pump Clothes Dryer",
          "Induction Cooking"
         ],
         "yaxis": "y"
        },
        {
         "marker": {
          "color": "green"
         },
         "name": "Positive",
         "orientation": "h",
         "text": [
          0,
          0.39814814814814814,
          0.404320987654321,
          0.6234567901234568,
          0.7213622291021672,
          0.9444444444444444,
          0.9567901234567902,
          0.9629629629629629,
          0.9753086419753086,
          0.9783950617283951,
          0.9969135802469136,
          1,
          1,
          1,
          1,
          1
         ],
         "textposition": "inside",
         "texttemplate": "%{text:.0%}",
         "type": "bar",
         "x": [
          0,
          0.39814814814814814,
          0.404320987654321,
          0.6234567901234568,
          0.7213622291021672,
          0.9444444444444444,
          0.9567901234567902,
          0.9629629629629629,
          0.9753086419753086,
          0.9783950617283951,
          0.9969135802469136,
          1,
          1,
          1,
          1,
          1
         ],
         "xaxis": "x",
         "y": [
          "Electric Clothes Dryer",
          "Mininum Efficiency Heat Pump with Existing Heat Backup",
          "Mininum Efficiency Heat Pump with Electric Heat Backup",
          "High Efficiency Heat Pump with Electric Heat Backup",
          "Mininum Efficiency Whole Home Electrification",
          "High Efficiency Whole Home Electrification",
          "Basic Enclosure + HPWH + High Efficiency HP/Electric Backup",
          "Enhanced Enclosure + HPWH + High Efficiency HP/Electric Backup",
          "Basic Enclosure + High Efficiency Whole Home Electrification",
          "Enhanced Enclosure + High Efficiency Whole Home Electrification",
          "Heat Pump Water Heater",
          "Basic Enclosure",
          "Electric Cooking",
          "Enhanced Enclosure",
          "Heat Pump Clothes Dryer",
          "Induction Cooking"
         ],
         "yaxis": "y"
        },
        {
         "marker": {
          "color": "red"
         },
         "orientation": "h",
         "showlegend": false,
         "text": [
          0,
          0.1728395061728395,
          0.15123456790123457,
          0.08950617283950617,
          0,
          0,
          0,
          0,
          0,
          0,
          0,
          0,
          0,
          0,
          0,
          0
         ],
         "textposition": "inside",
         "texttemplate": "%{text:.0%}",
         "type": "bar",
         "x": [
          0,
          0.1728395061728395,
          0.15123456790123457,
          0.08950617283950617,
          0,
          0,
          0,
          0,
          0,
          0,
          0,
          0,
          0,
          0,
          0,
          0
         ],
         "xaxis": "x2",
         "y": [
          "Electric Clothes Dryer",
          "Mininum Efficiency Heat Pump with Existing Heat Backup",
          "Mininum Efficiency Heat Pump with Electric Heat Backup",
          "High Efficiency Heat Pump with Electric Heat Backup",
          "Mininum Efficiency Whole Home Electrification",
          "High Efficiency Whole Home Electrification",
          "Basic Enclosure + HPWH + High Efficiency HP/Electric Backup",
          "Enhanced Enclosure + HPWH + High Efficiency HP/Electric Backup",
          "Basic Enclosure + High Efficiency Whole Home Electrification",
          "Enhanced Enclosure + High Efficiency Whole Home Electrification",
          "Heat Pump Water Heater",
          "Basic Enclosure",
          "Electric Cooking",
          "Enhanced Enclosure",
          "Heat Pump Clothes Dryer",
          "Induction Cooking"
         ],
         "yaxis": "y2"
        },
        {
         "marker": {
          "color": "green"
         },
         "orientation": "h",
         "showlegend": false,
         "text": [
          1,
          0.8271604938271605,
          0.8487654320987654,
          0.9104938271604939,
          1,
          1,
          1,
          1,
          1,
          1,
          1,
          1,
          1,
          1,
          1,
          1
         ],
         "textposition": "inside",
         "texttemplate": "%{text:.0%}",
         "type": "bar",
         "x": [
          1,
          0.8271604938271605,
          0.8487654320987654,
          0.9104938271604939,
          1,
          1,
          1,
          1,
          1,
          1,
          1,
          1,
          1,
          1,
          1,
          1
         ],
         "xaxis": "x2",
         "y": [
          "Electric Clothes Dryer",
          "Mininum Efficiency Heat Pump with Existing Heat Backup",
          "Mininum Efficiency Heat Pump with Electric Heat Backup",
          "High Efficiency Heat Pump with Electric Heat Backup",
          "Mininum Efficiency Whole Home Electrification",
          "High Efficiency Whole Home Electrification",
          "Basic Enclosure + HPWH + High Efficiency HP/Electric Backup",
          "Enhanced Enclosure + HPWH + High Efficiency HP/Electric Backup",
          "Basic Enclosure + High Efficiency Whole Home Electrification",
          "Enhanced Enclosure + High Efficiency Whole Home Electrification",
          "Heat Pump Water Heater",
          "Basic Enclosure",
          "Electric Cooking",
          "Enhanced Enclosure",
          "Heat Pump Clothes Dryer",
          "Induction Cooking"
         ],
         "yaxis": "y2"
        },
        {
         "marker": {
          "color": "red"
         },
         "orientation": "h",
         "showlegend": false,
         "text": [
          0,
          0.36419753086419754,
          0.3271604938271605,
          0.21296296296296297,
          0.018575851393188854,
          0.0030864197530864196,
          0.0030864197530864196,
          0.0030864197530864196,
          0.0030864197530864196,
          0.0030864197530864196,
          0,
          0,
          0,
          0,
          0,
          0
         ],
         "textposition": "inside",
         "texttemplate": "%{text:.0%}",
         "type": "bar",
         "x": [
          0,
          0.36419753086419754,
          0.3271604938271605,
          0.21296296296296297,
          0.018575851393188854,
          0.0030864197530864196,
          0.0030864197530864196,
          0.0030864197530864196,
          0.0030864197530864196,
          0.0030864197530864196,
          0,
          0,
          0,
          0,
          0,
          0
         ],
         "xaxis": "x3",
         "y": [
          "Electric Clothes Dryer",
          "Mininum Efficiency Heat Pump with Existing Heat Backup",
          "Mininum Efficiency Heat Pump with Electric Heat Backup",
          "High Efficiency Heat Pump with Electric Heat Backup",
          "Mininum Efficiency Whole Home Electrification",
          "High Efficiency Whole Home Electrification",
          "Basic Enclosure + HPWH + High Efficiency HP/Electric Backup",
          "Enhanced Enclosure + HPWH + High Efficiency HP/Electric Backup",
          "Basic Enclosure + High Efficiency Whole Home Electrification",
          "Enhanced Enclosure + High Efficiency Whole Home Electrification",
          "Heat Pump Water Heater",
          "Basic Enclosure",
          "Electric Cooking",
          "Enhanced Enclosure",
          "Heat Pump Clothes Dryer",
          "Induction Cooking"
         ],
         "yaxis": "y3"
        },
        {
         "marker": {
          "color": "green"
         },
         "orientation": "h",
         "showlegend": false,
         "text": [
          1,
          0.6358024691358025,
          0.6728395061728395,
          0.7870370370370371,
          0.9814241486068112,
          0.9969135802469136,
          0.9969135802469136,
          0.9969135802469136,
          0.9969135802469136,
          0.9969135802469136,
          1,
          1,
          1,
          1,
          1,
          1
         ],
         "textposition": "inside",
         "texttemplate": "%{text:.0%}",
         "type": "bar",
         "x": [
          1,
          0.6358024691358025,
          0.6728395061728395,
          0.7870370370370371,
          0.9814241486068112,
          0.9969135802469136,
          0.9969135802469136,
          0.9969135802469136,
          0.9969135802469136,
          0.9969135802469136,
          1,
          1,
          1,
          1,
          1,
          1
         ],
         "xaxis": "x3",
         "y": [
          "Electric Clothes Dryer",
          "Mininum Efficiency Heat Pump with Existing Heat Backup",
          "Mininum Efficiency Heat Pump with Electric Heat Backup",
          "High Efficiency Heat Pump with Electric Heat Backup",
          "Mininum Efficiency Whole Home Electrification",
          "High Efficiency Whole Home Electrification",
          "Basic Enclosure + HPWH + High Efficiency HP/Electric Backup",
          "Enhanced Enclosure + HPWH + High Efficiency HP/Electric Backup",
          "Basic Enclosure + High Efficiency Whole Home Electrification",
          "Enhanced Enclosure + High Efficiency Whole Home Electrification",
          "Heat Pump Water Heater",
          "Basic Enclosure",
          "Electric Cooking",
          "Enhanced Enclosure",
          "Heat Pump Clothes Dryer",
          "Induction Cooking"
         ],
         "yaxis": "y3"
        }
       ],
       "layout": {
        "autosize": false,
        "barmode": "relative",
        "font": {
         "size": 10
        },
        "height": 500,
        "template": {
         "data": {
          "bar": [
           {
            "error_x": {
             "color": "#2a3f5f"
            },
            "error_y": {
             "color": "#2a3f5f"
            },
            "marker": {
             "line": {
              "color": "#E5ECF6",
              "width": 0.5
             },
             "pattern": {
              "fillmode": "overlay",
              "size": 10,
              "solidity": 0.2
             }
            },
            "type": "bar"
           }
          ],
          "barpolar": [
           {
            "marker": {
             "line": {
              "color": "#E5ECF6",
              "width": 0.5
             },
             "pattern": {
              "fillmode": "overlay",
              "size": 10,
              "solidity": 0.2
             }
            },
            "type": "barpolar"
           }
          ],
          "carpet": [
           {
            "aaxis": {
             "endlinecolor": "#2a3f5f",
             "gridcolor": "white",
             "linecolor": "white",
             "minorgridcolor": "white",
             "startlinecolor": "#2a3f5f"
            },
            "baxis": {
             "endlinecolor": "#2a3f5f",
             "gridcolor": "white",
             "linecolor": "white",
             "minorgridcolor": "white",
             "startlinecolor": "#2a3f5f"
            },
            "type": "carpet"
           }
          ],
          "choropleth": [
           {
            "colorbar": {
             "outlinewidth": 0,
             "ticks": ""
            },
            "type": "choropleth"
           }
          ],
          "contour": [
           {
            "colorbar": {
             "outlinewidth": 0,
             "ticks": ""
            },
            "colorscale": [
             [
              0,
              "#0d0887"
             ],
             [
              0.1111111111111111,
              "#46039f"
             ],
             [
              0.2222222222222222,
              "#7201a8"
             ],
             [
              0.3333333333333333,
              "#9c179e"
             ],
             [
              0.4444444444444444,
              "#bd3786"
             ],
             [
              0.5555555555555556,
              "#d8576b"
             ],
             [
              0.6666666666666666,
              "#ed7953"
             ],
             [
              0.7777777777777778,
              "#fb9f3a"
             ],
             [
              0.8888888888888888,
              "#fdca26"
             ],
             [
              1,
              "#f0f921"
             ]
            ],
            "type": "contour"
           }
          ],
          "contourcarpet": [
           {
            "colorbar": {
             "outlinewidth": 0,
             "ticks": ""
            },
            "type": "contourcarpet"
           }
          ],
          "heatmap": [
           {
            "colorbar": {
             "outlinewidth": 0,
             "ticks": ""
            },
            "colorscale": [
             [
              0,
              "#0d0887"
             ],
             [
              0.1111111111111111,
              "#46039f"
             ],
             [
              0.2222222222222222,
              "#7201a8"
             ],
             [
              0.3333333333333333,
              "#9c179e"
             ],
             [
              0.4444444444444444,
              "#bd3786"
             ],
             [
              0.5555555555555556,
              "#d8576b"
             ],
             [
              0.6666666666666666,
              "#ed7953"
             ],
             [
              0.7777777777777778,
              "#fb9f3a"
             ],
             [
              0.8888888888888888,
              "#fdca26"
             ],
             [
              1,
              "#f0f921"
             ]
            ],
            "type": "heatmap"
           }
          ],
          "heatmapgl": [
           {
            "colorbar": {
             "outlinewidth": 0,
             "ticks": ""
            },
            "colorscale": [
             [
              0,
              "#0d0887"
             ],
             [
              0.1111111111111111,
              "#46039f"
             ],
             [
              0.2222222222222222,
              "#7201a8"
             ],
             [
              0.3333333333333333,
              "#9c179e"
             ],
             [
              0.4444444444444444,
              "#bd3786"
             ],
             [
              0.5555555555555556,
              "#d8576b"
             ],
             [
              0.6666666666666666,
              "#ed7953"
             ],
             [
              0.7777777777777778,
              "#fb9f3a"
             ],
             [
              0.8888888888888888,
              "#fdca26"
             ],
             [
              1,
              "#f0f921"
             ]
            ],
            "type": "heatmapgl"
           }
          ],
          "histogram": [
           {
            "marker": {
             "pattern": {
              "fillmode": "overlay",
              "size": 10,
              "solidity": 0.2
             }
            },
            "type": "histogram"
           }
          ],
          "histogram2d": [
           {
            "colorbar": {
             "outlinewidth": 0,
             "ticks": ""
            },
            "colorscale": [
             [
              0,
              "#0d0887"
             ],
             [
              0.1111111111111111,
              "#46039f"
             ],
             [
              0.2222222222222222,
              "#7201a8"
             ],
             [
              0.3333333333333333,
              "#9c179e"
             ],
             [
              0.4444444444444444,
              "#bd3786"
             ],
             [
              0.5555555555555556,
              "#d8576b"
             ],
             [
              0.6666666666666666,
              "#ed7953"
             ],
             [
              0.7777777777777778,
              "#fb9f3a"
             ],
             [
              0.8888888888888888,
              "#fdca26"
             ],
             [
              1,
              "#f0f921"
             ]
            ],
            "type": "histogram2d"
           }
          ],
          "histogram2dcontour": [
           {
            "colorbar": {
             "outlinewidth": 0,
             "ticks": ""
            },
            "colorscale": [
             [
              0,
              "#0d0887"
             ],
             [
              0.1111111111111111,
              "#46039f"
             ],
             [
              0.2222222222222222,
              "#7201a8"
             ],
             [
              0.3333333333333333,
              "#9c179e"
             ],
             [
              0.4444444444444444,
              "#bd3786"
             ],
             [
              0.5555555555555556,
              "#d8576b"
             ],
             [
              0.6666666666666666,
              "#ed7953"
             ],
             [
              0.7777777777777778,
              "#fb9f3a"
             ],
             [
              0.8888888888888888,
              "#fdca26"
             ],
             [
              1,
              "#f0f921"
             ]
            ],
            "type": "histogram2dcontour"
           }
          ],
          "mesh3d": [
           {
            "colorbar": {
             "outlinewidth": 0,
             "ticks": ""
            },
            "type": "mesh3d"
           }
          ],
          "parcoords": [
           {
            "line": {
             "colorbar": {
              "outlinewidth": 0,
              "ticks": ""
             }
            },
            "type": "parcoords"
           }
          ],
          "pie": [
           {
            "automargin": true,
            "type": "pie"
           }
          ],
          "scatter": [
           {
            "fillpattern": {
             "fillmode": "overlay",
             "size": 10,
             "solidity": 0.2
            },
            "type": "scatter"
           }
          ],
          "scatter3d": [
           {
            "line": {
             "colorbar": {
              "outlinewidth": 0,
              "ticks": ""
             }
            },
            "marker": {
             "colorbar": {
              "outlinewidth": 0,
              "ticks": ""
             }
            },
            "type": "scatter3d"
           }
          ],
          "scattercarpet": [
           {
            "marker": {
             "colorbar": {
              "outlinewidth": 0,
              "ticks": ""
             }
            },
            "type": "scattercarpet"
           }
          ],
          "scattergeo": [
           {
            "marker": {
             "colorbar": {
              "outlinewidth": 0,
              "ticks": ""
             }
            },
            "type": "scattergeo"
           }
          ],
          "scattergl": [
           {
            "marker": {
             "colorbar": {
              "outlinewidth": 0,
              "ticks": ""
             }
            },
            "type": "scattergl"
           }
          ],
          "scattermapbox": [
           {
            "marker": {
             "colorbar": {
              "outlinewidth": 0,
              "ticks": ""
             }
            },
            "type": "scattermapbox"
           }
          ],
          "scatterpolar": [
           {
            "marker": {
             "colorbar": {
              "outlinewidth": 0,
              "ticks": ""
             }
            },
            "type": "scatterpolar"
           }
          ],
          "scatterpolargl": [
           {
            "marker": {
             "colorbar": {
              "outlinewidth": 0,
              "ticks": ""
             }
            },
            "type": "scatterpolargl"
           }
          ],
          "scatterternary": [
           {
            "marker": {
             "colorbar": {
              "outlinewidth": 0,
              "ticks": ""
             }
            },
            "type": "scatterternary"
           }
          ],
          "surface": [
           {
            "colorbar": {
             "outlinewidth": 0,
             "ticks": ""
            },
            "colorscale": [
             [
              0,
              "#0d0887"
             ],
             [
              0.1111111111111111,
              "#46039f"
             ],
             [
              0.2222222222222222,
              "#7201a8"
             ],
             [
              0.3333333333333333,
              "#9c179e"
             ],
             [
              0.4444444444444444,
              "#bd3786"
             ],
             [
              0.5555555555555556,
              "#d8576b"
             ],
             [
              0.6666666666666666,
              "#ed7953"
             ],
             [
              0.7777777777777778,
              "#fb9f3a"
             ],
             [
              0.8888888888888888,
              "#fdca26"
             ],
             [
              1,
              "#f0f921"
             ]
            ],
            "type": "surface"
           }
          ],
          "table": [
           {
            "cells": {
             "fill": {
              "color": "#EBF0F8"
             },
             "line": {
              "color": "white"
             }
            },
            "header": {
             "fill": {
              "color": "#C8D4E3"
             },
             "line": {
              "color": "white"
             }
            },
            "type": "table"
           }
          ]
         },
         "layout": {
          "annotationdefaults": {
           "arrowcolor": "#2a3f5f",
           "arrowhead": 0,
           "arrowwidth": 1
          },
          "autotypenumbers": "strict",
          "coloraxis": {
           "colorbar": {
            "outlinewidth": 0,
            "ticks": ""
           }
          },
          "colorscale": {
           "diverging": [
            [
             0,
             "#8e0152"
            ],
            [
             0.1,
             "#c51b7d"
            ],
            [
             0.2,
             "#de77ae"
            ],
            [
             0.3,
             "#f1b6da"
            ],
            [
             0.4,
             "#fde0ef"
            ],
            [
             0.5,
             "#f7f7f7"
            ],
            [
             0.6,
             "#e6f5d0"
            ],
            [
             0.7,
             "#b8e186"
            ],
            [
             0.8,
             "#7fbc41"
            ],
            [
             0.9,
             "#4d9221"
            ],
            [
             1,
             "#276419"
            ]
           ],
           "sequential": [
            [
             0,
             "#0d0887"
            ],
            [
             0.1111111111111111,
             "#46039f"
            ],
            [
             0.2222222222222222,
             "#7201a8"
            ],
            [
             0.3333333333333333,
             "#9c179e"
            ],
            [
             0.4444444444444444,
             "#bd3786"
            ],
            [
             0.5555555555555556,
             "#d8576b"
            ],
            [
             0.6666666666666666,
             "#ed7953"
            ],
            [
             0.7777777777777778,
             "#fb9f3a"
            ],
            [
             0.8888888888888888,
             "#fdca26"
            ],
            [
             1,
             "#f0f921"
            ]
           ],
           "sequentialminus": [
            [
             0,
             "#0d0887"
            ],
            [
             0.1111111111111111,
             "#46039f"
            ],
            [
             0.2222222222222222,
             "#7201a8"
            ],
            [
             0.3333333333333333,
             "#9c179e"
            ],
            [
             0.4444444444444444,
             "#bd3786"
            ],
            [
             0.5555555555555556,
             "#d8576b"
            ],
            [
             0.6666666666666666,
             "#ed7953"
            ],
            [
             0.7777777777777778,
             "#fb9f3a"
            ],
            [
             0.8888888888888888,
             "#fdca26"
            ],
            [
             1,
             "#f0f921"
            ]
           ]
          },
          "colorway": [
           "#636efa",
           "#EF553B",
           "#00cc96",
           "#ab63fa",
           "#FFA15A",
           "#19d3f3",
           "#FF6692",
           "#B6E880",
           "#FF97FF",
           "#FECB52"
          ],
          "font": {
           "color": "#2a3f5f"
          },
          "geo": {
           "bgcolor": "white",
           "lakecolor": "white",
           "landcolor": "#E5ECF6",
           "showlakes": true,
           "showland": true,
           "subunitcolor": "white"
          },
          "hoverlabel": {
           "align": "left"
          },
          "hovermode": "closest",
          "mapbox": {
           "style": "light"
          },
          "paper_bgcolor": "white",
          "plot_bgcolor": "#E5ECF6",
          "polar": {
           "angularaxis": {
            "gridcolor": "white",
            "linecolor": "white",
            "ticks": ""
           },
           "bgcolor": "#E5ECF6",
           "radialaxis": {
            "gridcolor": "white",
            "linecolor": "white",
            "ticks": ""
           }
          },
          "scene": {
           "xaxis": {
            "backgroundcolor": "#E5ECF6",
            "gridcolor": "white",
            "gridwidth": 2,
            "linecolor": "white",
            "showbackground": true,
            "ticks": "",
            "zerolinecolor": "white"
           },
           "yaxis": {
            "backgroundcolor": "#E5ECF6",
            "gridcolor": "white",
            "gridwidth": 2,
            "linecolor": "white",
            "showbackground": true,
            "ticks": "",
            "zerolinecolor": "white"
           },
           "zaxis": {
            "backgroundcolor": "#E5ECF6",
            "gridcolor": "white",
            "gridwidth": 2,
            "linecolor": "white",
            "showbackground": true,
            "ticks": "",
            "zerolinecolor": "white"
           }
          },
          "shapedefaults": {
           "line": {
            "color": "#2a3f5f"
           }
          },
          "ternary": {
           "aaxis": {
            "gridcolor": "white",
            "linecolor": "white",
            "ticks": ""
           },
           "baxis": {
            "gridcolor": "white",
            "linecolor": "white",
            "ticks": ""
           },
           "bgcolor": "#E5ECF6",
           "caxis": {
            "gridcolor": "white",
            "linecolor": "white",
            "ticks": ""
           }
          },
          "title": {
           "x": 0.05
          },
          "xaxis": {
           "automargin": true,
           "gridcolor": "white",
           "linecolor": "white",
           "ticks": "",
           "title": {
            "standoff": 15
           },
           "zerolinecolor": "white",
           "zerolinewidth": 2
          },
          "yaxis": {
           "automargin": true,
           "gridcolor": "white",
           "linecolor": "white",
           "ticks": "",
           "title": {
            "standoff": 15
           },
           "zerolinecolor": "white",
           "zerolinewidth": 2
          }
         }
        },
        "title": {
         "text": "Percentage of Household in Positive and Negative Savings"
        },
        "width": 1000,
        "xaxis": {
         "anchor": "y",
         "domain": [
          0,
          0.2888888888888889
         ],
         "tickformat": ",.0%",
         "title": {
          "text": "Bill"
         },
         "visible": true
        },
        "xaxis2": {
         "anchor": "y2",
         "domain": [
          0.35555555555555557,
          0.6444444444444445
         ],
         "tickformat": ",.0%",
         "title": {
          "text": "Emission"
         },
         "visible": true
        },
        "xaxis3": {
         "anchor": "y3",
         "domain": [
          0.7111111111111111,
          1
         ],
         "tickformat": ",.0%",
         "title": {
          "text": "Total Energy"
         },
         "visible": true
        },
        "yaxis": {
         "anchor": "x",
         "domain": [
          0,
          1
         ],
         "visible": true
        },
        "yaxis2": {
         "anchor": "x2",
         "domain": [
          0,
          1
         ],
         "visible": false
        },
        "yaxis3": {
         "anchor": "x3",
         "domain": [
          0,
          1
         ],
         "visible": false
        }
       }
      }
     },
     "metadata": {},
     "output_type": "display_data"
    }
   ],
   "source": [
    "segment = 'segment3'\n",
    "results = figure_positive_negative_savings(segment, community_results) \n",
    "saving_results[f'segment3_{income}_pct_bill_positive_savings_%'] = results[0]*100\n",
    "saving_results[f'segment3_{income}_pct_emission_positive_savings_%'] = results[1]*100\n",
    "saving_results[f'segment3_{income}_pct_energy_positive_savings_%'] = results[2]*100"
   ]
  },
  {
   "cell_type": "markdown",
   "id": "a37b751c",
   "metadata": {},
   "source": [
    "### Segment 4"
   ]
  },
  {
   "cell_type": "code",
   "execution_count": 35,
   "id": "20f060e0",
   "metadata": {},
   "outputs": [
    {
     "data": {
      "application/vnd.plotly.v1+json": {
       "config": {
        "plotlyServerURL": "https://plot.ly"
       },
       "data": [
        {
         "marker": {
          "color": "red"
         },
         "name": "Negative",
         "orientation": "h",
         "text": [
          1,
          0.7083333333333334,
          0.7083333333333334,
          0.4166666666666667,
          0.22727272727272727,
          0.041666666666666664,
          0.041666666666666664,
          0.041666666666666664,
          0.041666666666666664,
          0.041666666666666664,
          0,
          0,
          0,
          0,
          0,
          0
         ],
         "textposition": "inside",
         "texttemplate": "%{text:.0%}",
         "type": "bar",
         "x": [
          1,
          0.7083333333333334,
          0.7083333333333334,
          0.4166666666666667,
          0.22727272727272727,
          0.041666666666666664,
          0.041666666666666664,
          0.041666666666666664,
          0.041666666666666664,
          0.041666666666666664,
          0,
          0,
          0,
          0,
          0,
          0
         ],
         "xaxis": "x",
         "y": [
          "Electric Clothes Dryer",
          "Mininum Efficiency Heat Pump with Electric Heat Backup",
          "Mininum Efficiency Heat Pump with Existing Heat Backup",
          "High Efficiency Heat Pump with Electric Heat Backup",
          "Mininum Efficiency Whole Home Electrification",
          "Basic Enclosure",
          "Basic Enclosure + HPWH + High Efficiency HP/Electric Backup",
          "Enhanced Enclosure",
          "Heat Pump Water Heater",
          "High Efficiency Whole Home Electrification",
          "Basic Enclosure + High Efficiency Whole Home Electrification",
          "Electric Cooking",
          "Enhanced Enclosure + HPWH + High Efficiency HP/Electric Backup",
          "Enhanced Enclosure + High Efficiency Whole Home Electrification",
          "Heat Pump Clothes Dryer",
          "Induction Cooking"
         ],
         "yaxis": "y"
        },
        {
         "marker": {
          "color": "green"
         },
         "name": "Positive",
         "orientation": "h",
         "text": [
          0,
          0.2916666666666667,
          0.2916666666666667,
          0.5833333333333334,
          0.7727272727272727,
          0.9583333333333334,
          0.9583333333333334,
          0.9583333333333334,
          0.9583333333333334,
          0.9583333333333334,
          1,
          1,
          1,
          1,
          1,
          1
         ],
         "textposition": "inside",
         "texttemplate": "%{text:.0%}",
         "type": "bar",
         "x": [
          0,
          0.2916666666666667,
          0.2916666666666667,
          0.5833333333333334,
          0.7727272727272727,
          0.9583333333333334,
          0.9583333333333334,
          0.9583333333333334,
          0.9583333333333334,
          0.9583333333333334,
          1,
          1,
          1,
          1,
          1,
          1
         ],
         "xaxis": "x",
         "y": [
          "Electric Clothes Dryer",
          "Mininum Efficiency Heat Pump with Electric Heat Backup",
          "Mininum Efficiency Heat Pump with Existing Heat Backup",
          "High Efficiency Heat Pump with Electric Heat Backup",
          "Mininum Efficiency Whole Home Electrification",
          "Basic Enclosure",
          "Basic Enclosure + HPWH + High Efficiency HP/Electric Backup",
          "Enhanced Enclosure",
          "Heat Pump Water Heater",
          "High Efficiency Whole Home Electrification",
          "Basic Enclosure + High Efficiency Whole Home Electrification",
          "Electric Cooking",
          "Enhanced Enclosure + HPWH + High Efficiency HP/Electric Backup",
          "Enhanced Enclosure + High Efficiency Whole Home Electrification",
          "Heat Pump Clothes Dryer",
          "Induction Cooking"
         ],
         "yaxis": "y"
        },
        {
         "marker": {
          "color": "red"
         },
         "orientation": "h",
         "showlegend": false,
         "text": [
          0,
          0.3333333333333333,
          0.3333333333333333,
          0.25,
          0,
          0,
          0,
          0,
          0,
          0,
          0,
          0,
          0,
          0,
          0,
          0
         ],
         "textposition": "inside",
         "texttemplate": "%{text:.0%}",
         "type": "bar",
         "x": [
          0,
          0.3333333333333333,
          0.3333333333333333,
          0.25,
          0,
          0,
          0,
          0,
          0,
          0,
          0,
          0,
          0,
          0,
          0,
          0
         ],
         "xaxis": "x2",
         "y": [
          "Electric Clothes Dryer",
          "Mininum Efficiency Heat Pump with Electric Heat Backup",
          "Mininum Efficiency Heat Pump with Existing Heat Backup",
          "High Efficiency Heat Pump with Electric Heat Backup",
          "Mininum Efficiency Whole Home Electrification",
          "Basic Enclosure",
          "Basic Enclosure + HPWH + High Efficiency HP/Electric Backup",
          "Enhanced Enclosure",
          "Heat Pump Water Heater",
          "High Efficiency Whole Home Electrification",
          "Basic Enclosure + High Efficiency Whole Home Electrification",
          "Electric Cooking",
          "Enhanced Enclosure + HPWH + High Efficiency HP/Electric Backup",
          "Enhanced Enclosure + High Efficiency Whole Home Electrification",
          "Heat Pump Clothes Dryer",
          "Induction Cooking"
         ],
         "yaxis": "y2"
        },
        {
         "marker": {
          "color": "green"
         },
         "orientation": "h",
         "showlegend": false,
         "text": [
          1,
          0.6666666666666666,
          0.6666666666666666,
          0.75,
          1,
          1,
          1,
          1,
          1,
          1,
          1,
          1,
          1,
          1,
          1,
          1
         ],
         "textposition": "inside",
         "texttemplate": "%{text:.0%}",
         "type": "bar",
         "x": [
          1,
          0.6666666666666666,
          0.6666666666666666,
          0.75,
          1,
          1,
          1,
          1,
          1,
          1,
          1,
          1,
          1,
          1,
          1,
          1
         ],
         "xaxis": "x2",
         "y": [
          "Electric Clothes Dryer",
          "Mininum Efficiency Heat Pump with Electric Heat Backup",
          "Mininum Efficiency Heat Pump with Existing Heat Backup",
          "High Efficiency Heat Pump with Electric Heat Backup",
          "Mininum Efficiency Whole Home Electrification",
          "Basic Enclosure",
          "Basic Enclosure + HPWH + High Efficiency HP/Electric Backup",
          "Enhanced Enclosure",
          "Heat Pump Water Heater",
          "High Efficiency Whole Home Electrification",
          "Basic Enclosure + High Efficiency Whole Home Electrification",
          "Electric Cooking",
          "Enhanced Enclosure + HPWH + High Efficiency HP/Electric Backup",
          "Enhanced Enclosure + High Efficiency Whole Home Electrification",
          "Heat Pump Clothes Dryer",
          "Induction Cooking"
         ],
         "yaxis": "y2"
        },
        {
         "marker": {
          "color": "red"
         },
         "orientation": "h",
         "showlegend": false,
         "text": [
          0,
          0.4583333333333333,
          0.4583333333333333,
          0.2916666666666667,
          0.045454545454545456,
          0.041666666666666664,
          0,
          0.041666666666666664,
          0,
          0,
          0,
          0,
          0,
          0,
          0,
          0
         ],
         "textposition": "inside",
         "texttemplate": "%{text:.0%}",
         "type": "bar",
         "x": [
          0,
          0.4583333333333333,
          0.4583333333333333,
          0.2916666666666667,
          0.045454545454545456,
          0.041666666666666664,
          0,
          0.041666666666666664,
          0,
          0,
          0,
          0,
          0,
          0,
          0,
          0
         ],
         "xaxis": "x3",
         "y": [
          "Electric Clothes Dryer",
          "Mininum Efficiency Heat Pump with Electric Heat Backup",
          "Mininum Efficiency Heat Pump with Existing Heat Backup",
          "High Efficiency Heat Pump with Electric Heat Backup",
          "Mininum Efficiency Whole Home Electrification",
          "Basic Enclosure",
          "Basic Enclosure + HPWH + High Efficiency HP/Electric Backup",
          "Enhanced Enclosure",
          "Heat Pump Water Heater",
          "High Efficiency Whole Home Electrification",
          "Basic Enclosure + High Efficiency Whole Home Electrification",
          "Electric Cooking",
          "Enhanced Enclosure + HPWH + High Efficiency HP/Electric Backup",
          "Enhanced Enclosure + High Efficiency Whole Home Electrification",
          "Heat Pump Clothes Dryer",
          "Induction Cooking"
         ],
         "yaxis": "y3"
        },
        {
         "marker": {
          "color": "green"
         },
         "orientation": "h",
         "showlegend": false,
         "text": [
          1,
          0.5416666666666666,
          0.5416666666666666,
          0.7083333333333334,
          0.9545454545454546,
          0.9583333333333334,
          1,
          0.9583333333333334,
          1,
          1,
          1,
          1,
          1,
          1,
          1,
          1
         ],
         "textposition": "inside",
         "texttemplate": "%{text:.0%}",
         "type": "bar",
         "x": [
          1,
          0.5416666666666666,
          0.5416666666666666,
          0.7083333333333334,
          0.9545454545454546,
          0.9583333333333334,
          1,
          0.9583333333333334,
          1,
          1,
          1,
          1,
          1,
          1,
          1,
          1
         ],
         "xaxis": "x3",
         "y": [
          "Electric Clothes Dryer",
          "Mininum Efficiency Heat Pump with Electric Heat Backup",
          "Mininum Efficiency Heat Pump with Existing Heat Backup",
          "High Efficiency Heat Pump with Electric Heat Backup",
          "Mininum Efficiency Whole Home Electrification",
          "Basic Enclosure",
          "Basic Enclosure + HPWH + High Efficiency HP/Electric Backup",
          "Enhanced Enclosure",
          "Heat Pump Water Heater",
          "High Efficiency Whole Home Electrification",
          "Basic Enclosure + High Efficiency Whole Home Electrification",
          "Electric Cooking",
          "Enhanced Enclosure + HPWH + High Efficiency HP/Electric Backup",
          "Enhanced Enclosure + High Efficiency Whole Home Electrification",
          "Heat Pump Clothes Dryer",
          "Induction Cooking"
         ],
         "yaxis": "y3"
        }
       ],
       "layout": {
        "autosize": false,
        "barmode": "relative",
        "font": {
         "size": 10
        },
        "height": 500,
        "template": {
         "data": {
          "bar": [
           {
            "error_x": {
             "color": "#2a3f5f"
            },
            "error_y": {
             "color": "#2a3f5f"
            },
            "marker": {
             "line": {
              "color": "#E5ECF6",
              "width": 0.5
             },
             "pattern": {
              "fillmode": "overlay",
              "size": 10,
              "solidity": 0.2
             }
            },
            "type": "bar"
           }
          ],
          "barpolar": [
           {
            "marker": {
             "line": {
              "color": "#E5ECF6",
              "width": 0.5
             },
             "pattern": {
              "fillmode": "overlay",
              "size": 10,
              "solidity": 0.2
             }
            },
            "type": "barpolar"
           }
          ],
          "carpet": [
           {
            "aaxis": {
             "endlinecolor": "#2a3f5f",
             "gridcolor": "white",
             "linecolor": "white",
             "minorgridcolor": "white",
             "startlinecolor": "#2a3f5f"
            },
            "baxis": {
             "endlinecolor": "#2a3f5f",
             "gridcolor": "white",
             "linecolor": "white",
             "minorgridcolor": "white",
             "startlinecolor": "#2a3f5f"
            },
            "type": "carpet"
           }
          ],
          "choropleth": [
           {
            "colorbar": {
             "outlinewidth": 0,
             "ticks": ""
            },
            "type": "choropleth"
           }
          ],
          "contour": [
           {
            "colorbar": {
             "outlinewidth": 0,
             "ticks": ""
            },
            "colorscale": [
             [
              0,
              "#0d0887"
             ],
             [
              0.1111111111111111,
              "#46039f"
             ],
             [
              0.2222222222222222,
              "#7201a8"
             ],
             [
              0.3333333333333333,
              "#9c179e"
             ],
             [
              0.4444444444444444,
              "#bd3786"
             ],
             [
              0.5555555555555556,
              "#d8576b"
             ],
             [
              0.6666666666666666,
              "#ed7953"
             ],
             [
              0.7777777777777778,
              "#fb9f3a"
             ],
             [
              0.8888888888888888,
              "#fdca26"
             ],
             [
              1,
              "#f0f921"
             ]
            ],
            "type": "contour"
           }
          ],
          "contourcarpet": [
           {
            "colorbar": {
             "outlinewidth": 0,
             "ticks": ""
            },
            "type": "contourcarpet"
           }
          ],
          "heatmap": [
           {
            "colorbar": {
             "outlinewidth": 0,
             "ticks": ""
            },
            "colorscale": [
             [
              0,
              "#0d0887"
             ],
             [
              0.1111111111111111,
              "#46039f"
             ],
             [
              0.2222222222222222,
              "#7201a8"
             ],
             [
              0.3333333333333333,
              "#9c179e"
             ],
             [
              0.4444444444444444,
              "#bd3786"
             ],
             [
              0.5555555555555556,
              "#d8576b"
             ],
             [
              0.6666666666666666,
              "#ed7953"
             ],
             [
              0.7777777777777778,
              "#fb9f3a"
             ],
             [
              0.8888888888888888,
              "#fdca26"
             ],
             [
              1,
              "#f0f921"
             ]
            ],
            "type": "heatmap"
           }
          ],
          "heatmapgl": [
           {
            "colorbar": {
             "outlinewidth": 0,
             "ticks": ""
            },
            "colorscale": [
             [
              0,
              "#0d0887"
             ],
             [
              0.1111111111111111,
              "#46039f"
             ],
             [
              0.2222222222222222,
              "#7201a8"
             ],
             [
              0.3333333333333333,
              "#9c179e"
             ],
             [
              0.4444444444444444,
              "#bd3786"
             ],
             [
              0.5555555555555556,
              "#d8576b"
             ],
             [
              0.6666666666666666,
              "#ed7953"
             ],
             [
              0.7777777777777778,
              "#fb9f3a"
             ],
             [
              0.8888888888888888,
              "#fdca26"
             ],
             [
              1,
              "#f0f921"
             ]
            ],
            "type": "heatmapgl"
           }
          ],
          "histogram": [
           {
            "marker": {
             "pattern": {
              "fillmode": "overlay",
              "size": 10,
              "solidity": 0.2
             }
            },
            "type": "histogram"
           }
          ],
          "histogram2d": [
           {
            "colorbar": {
             "outlinewidth": 0,
             "ticks": ""
            },
            "colorscale": [
             [
              0,
              "#0d0887"
             ],
             [
              0.1111111111111111,
              "#46039f"
             ],
             [
              0.2222222222222222,
              "#7201a8"
             ],
             [
              0.3333333333333333,
              "#9c179e"
             ],
             [
              0.4444444444444444,
              "#bd3786"
             ],
             [
              0.5555555555555556,
              "#d8576b"
             ],
             [
              0.6666666666666666,
              "#ed7953"
             ],
             [
              0.7777777777777778,
              "#fb9f3a"
             ],
             [
              0.8888888888888888,
              "#fdca26"
             ],
             [
              1,
              "#f0f921"
             ]
            ],
            "type": "histogram2d"
           }
          ],
          "histogram2dcontour": [
           {
            "colorbar": {
             "outlinewidth": 0,
             "ticks": ""
            },
            "colorscale": [
             [
              0,
              "#0d0887"
             ],
             [
              0.1111111111111111,
              "#46039f"
             ],
             [
              0.2222222222222222,
              "#7201a8"
             ],
             [
              0.3333333333333333,
              "#9c179e"
             ],
             [
              0.4444444444444444,
              "#bd3786"
             ],
             [
              0.5555555555555556,
              "#d8576b"
             ],
             [
              0.6666666666666666,
              "#ed7953"
             ],
             [
              0.7777777777777778,
              "#fb9f3a"
             ],
             [
              0.8888888888888888,
              "#fdca26"
             ],
             [
              1,
              "#f0f921"
             ]
            ],
            "type": "histogram2dcontour"
           }
          ],
          "mesh3d": [
           {
            "colorbar": {
             "outlinewidth": 0,
             "ticks": ""
            },
            "type": "mesh3d"
           }
          ],
          "parcoords": [
           {
            "line": {
             "colorbar": {
              "outlinewidth": 0,
              "ticks": ""
             }
            },
            "type": "parcoords"
           }
          ],
          "pie": [
           {
            "automargin": true,
            "type": "pie"
           }
          ],
          "scatter": [
           {
            "fillpattern": {
             "fillmode": "overlay",
             "size": 10,
             "solidity": 0.2
            },
            "type": "scatter"
           }
          ],
          "scatter3d": [
           {
            "line": {
             "colorbar": {
              "outlinewidth": 0,
              "ticks": ""
             }
            },
            "marker": {
             "colorbar": {
              "outlinewidth": 0,
              "ticks": ""
             }
            },
            "type": "scatter3d"
           }
          ],
          "scattercarpet": [
           {
            "marker": {
             "colorbar": {
              "outlinewidth": 0,
              "ticks": ""
             }
            },
            "type": "scattercarpet"
           }
          ],
          "scattergeo": [
           {
            "marker": {
             "colorbar": {
              "outlinewidth": 0,
              "ticks": ""
             }
            },
            "type": "scattergeo"
           }
          ],
          "scattergl": [
           {
            "marker": {
             "colorbar": {
              "outlinewidth": 0,
              "ticks": ""
             }
            },
            "type": "scattergl"
           }
          ],
          "scattermapbox": [
           {
            "marker": {
             "colorbar": {
              "outlinewidth": 0,
              "ticks": ""
             }
            },
            "type": "scattermapbox"
           }
          ],
          "scatterpolar": [
           {
            "marker": {
             "colorbar": {
              "outlinewidth": 0,
              "ticks": ""
             }
            },
            "type": "scatterpolar"
           }
          ],
          "scatterpolargl": [
           {
            "marker": {
             "colorbar": {
              "outlinewidth": 0,
              "ticks": ""
             }
            },
            "type": "scatterpolargl"
           }
          ],
          "scatterternary": [
           {
            "marker": {
             "colorbar": {
              "outlinewidth": 0,
              "ticks": ""
             }
            },
            "type": "scatterternary"
           }
          ],
          "surface": [
           {
            "colorbar": {
             "outlinewidth": 0,
             "ticks": ""
            },
            "colorscale": [
             [
              0,
              "#0d0887"
             ],
             [
              0.1111111111111111,
              "#46039f"
             ],
             [
              0.2222222222222222,
              "#7201a8"
             ],
             [
              0.3333333333333333,
              "#9c179e"
             ],
             [
              0.4444444444444444,
              "#bd3786"
             ],
             [
              0.5555555555555556,
              "#d8576b"
             ],
             [
              0.6666666666666666,
              "#ed7953"
             ],
             [
              0.7777777777777778,
              "#fb9f3a"
             ],
             [
              0.8888888888888888,
              "#fdca26"
             ],
             [
              1,
              "#f0f921"
             ]
            ],
            "type": "surface"
           }
          ],
          "table": [
           {
            "cells": {
             "fill": {
              "color": "#EBF0F8"
             },
             "line": {
              "color": "white"
             }
            },
            "header": {
             "fill": {
              "color": "#C8D4E3"
             },
             "line": {
              "color": "white"
             }
            },
            "type": "table"
           }
          ]
         },
         "layout": {
          "annotationdefaults": {
           "arrowcolor": "#2a3f5f",
           "arrowhead": 0,
           "arrowwidth": 1
          },
          "autotypenumbers": "strict",
          "coloraxis": {
           "colorbar": {
            "outlinewidth": 0,
            "ticks": ""
           }
          },
          "colorscale": {
           "diverging": [
            [
             0,
             "#8e0152"
            ],
            [
             0.1,
             "#c51b7d"
            ],
            [
             0.2,
             "#de77ae"
            ],
            [
             0.3,
             "#f1b6da"
            ],
            [
             0.4,
             "#fde0ef"
            ],
            [
             0.5,
             "#f7f7f7"
            ],
            [
             0.6,
             "#e6f5d0"
            ],
            [
             0.7,
             "#b8e186"
            ],
            [
             0.8,
             "#7fbc41"
            ],
            [
             0.9,
             "#4d9221"
            ],
            [
             1,
             "#276419"
            ]
           ],
           "sequential": [
            [
             0,
             "#0d0887"
            ],
            [
             0.1111111111111111,
             "#46039f"
            ],
            [
             0.2222222222222222,
             "#7201a8"
            ],
            [
             0.3333333333333333,
             "#9c179e"
            ],
            [
             0.4444444444444444,
             "#bd3786"
            ],
            [
             0.5555555555555556,
             "#d8576b"
            ],
            [
             0.6666666666666666,
             "#ed7953"
            ],
            [
             0.7777777777777778,
             "#fb9f3a"
            ],
            [
             0.8888888888888888,
             "#fdca26"
            ],
            [
             1,
             "#f0f921"
            ]
           ],
           "sequentialminus": [
            [
             0,
             "#0d0887"
            ],
            [
             0.1111111111111111,
             "#46039f"
            ],
            [
             0.2222222222222222,
             "#7201a8"
            ],
            [
             0.3333333333333333,
             "#9c179e"
            ],
            [
             0.4444444444444444,
             "#bd3786"
            ],
            [
             0.5555555555555556,
             "#d8576b"
            ],
            [
             0.6666666666666666,
             "#ed7953"
            ],
            [
             0.7777777777777778,
             "#fb9f3a"
            ],
            [
             0.8888888888888888,
             "#fdca26"
            ],
            [
             1,
             "#f0f921"
            ]
           ]
          },
          "colorway": [
           "#636efa",
           "#EF553B",
           "#00cc96",
           "#ab63fa",
           "#FFA15A",
           "#19d3f3",
           "#FF6692",
           "#B6E880",
           "#FF97FF",
           "#FECB52"
          ],
          "font": {
           "color": "#2a3f5f"
          },
          "geo": {
           "bgcolor": "white",
           "lakecolor": "white",
           "landcolor": "#E5ECF6",
           "showlakes": true,
           "showland": true,
           "subunitcolor": "white"
          },
          "hoverlabel": {
           "align": "left"
          },
          "hovermode": "closest",
          "mapbox": {
           "style": "light"
          },
          "paper_bgcolor": "white",
          "plot_bgcolor": "#E5ECF6",
          "polar": {
           "angularaxis": {
            "gridcolor": "white",
            "linecolor": "white",
            "ticks": ""
           },
           "bgcolor": "#E5ECF6",
           "radialaxis": {
            "gridcolor": "white",
            "linecolor": "white",
            "ticks": ""
           }
          },
          "scene": {
           "xaxis": {
            "backgroundcolor": "#E5ECF6",
            "gridcolor": "white",
            "gridwidth": 2,
            "linecolor": "white",
            "showbackground": true,
            "ticks": "",
            "zerolinecolor": "white"
           },
           "yaxis": {
            "backgroundcolor": "#E5ECF6",
            "gridcolor": "white",
            "gridwidth": 2,
            "linecolor": "white",
            "showbackground": true,
            "ticks": "",
            "zerolinecolor": "white"
           },
           "zaxis": {
            "backgroundcolor": "#E5ECF6",
            "gridcolor": "white",
            "gridwidth": 2,
            "linecolor": "white",
            "showbackground": true,
            "ticks": "",
            "zerolinecolor": "white"
           }
          },
          "shapedefaults": {
           "line": {
            "color": "#2a3f5f"
           }
          },
          "ternary": {
           "aaxis": {
            "gridcolor": "white",
            "linecolor": "white",
            "ticks": ""
           },
           "baxis": {
            "gridcolor": "white",
            "linecolor": "white",
            "ticks": ""
           },
           "bgcolor": "#E5ECF6",
           "caxis": {
            "gridcolor": "white",
            "linecolor": "white",
            "ticks": ""
           }
          },
          "title": {
           "x": 0.05
          },
          "xaxis": {
           "automargin": true,
           "gridcolor": "white",
           "linecolor": "white",
           "ticks": "",
           "title": {
            "standoff": 15
           },
           "zerolinecolor": "white",
           "zerolinewidth": 2
          },
          "yaxis": {
           "automargin": true,
           "gridcolor": "white",
           "linecolor": "white",
           "ticks": "",
           "title": {
            "standoff": 15
           },
           "zerolinecolor": "white",
           "zerolinewidth": 2
          }
         }
        },
        "title": {
         "text": "Percentage of Household in Positive and Negative Savings"
        },
        "width": 1000,
        "xaxis": {
         "anchor": "y",
         "domain": [
          0,
          0.2888888888888889
         ],
         "tickformat": ",.0%",
         "title": {
          "text": "Bill"
         },
         "visible": true
        },
        "xaxis2": {
         "anchor": "y2",
         "domain": [
          0.35555555555555557,
          0.6444444444444445
         ],
         "tickformat": ",.0%",
         "title": {
          "text": "Emission"
         },
         "visible": true
        },
        "xaxis3": {
         "anchor": "y3",
         "domain": [
          0.7111111111111111,
          1
         ],
         "tickformat": ",.0%",
         "title": {
          "text": "Total Energy"
         },
         "visible": true
        },
        "yaxis": {
         "anchor": "x",
         "domain": [
          0,
          1
         ],
         "visible": true
        },
        "yaxis2": {
         "anchor": "x2",
         "domain": [
          0,
          1
         ],
         "visible": false
        },
        "yaxis3": {
         "anchor": "x3",
         "domain": [
          0,
          1
         ],
         "visible": false
        }
       }
      }
     },
     "metadata": {},
     "output_type": "display_data"
    }
   ],
   "source": [
    "segment = 'segment4'\n",
    "results = figure_positive_negative_savings(segment, community_results)\n",
    "saving_results[f'segment4_{income}_pct_bill_positive_savings_%'] = results[0]*100\n",
    "saving_results[f'segment4_{income}_pct_emission_positive_savings_%'] = results[1]*100\n",
    "saving_results[f'segment4_{income}_pct_energy_positive_savings_%'] = results[2]*100"
   ]
  },
  {
   "cell_type": "markdown",
   "id": "b53c1061",
   "metadata": {},
   "source": [
    "## 2.6. Average Energy Burden (%) Before and after Upgrade"
   ]
  },
  {
   "cell_type": "code",
   "execution_count": 36,
   "id": "1c373671",
   "metadata": {},
   "outputs": [
    {
     "name": "stdout",
     "output_type": "stream",
     "text": [
      "energy burden (%) before and after upgrade\n",
      "segment1\n"
     ]
    },
    {
     "name": "stderr",
     "output_type": "stream",
     "text": [
      "/var/folders/zw/lhnn73fj2250g9z11h_whq1szkf2pm/T/ipykernel_53214/3555432078.py:4: SettingWithCopyWarning:\n",
      "\n",
      "\n",
      "A value is trying to be set on a copy of a slice from a DataFrame\n",
      "\n",
      "See the caveats in the documentation: https://pandas.pydata.org/pandas-docs/stable/user_guide/indexing.html#returning-a-view-versus-a-copy\n",
      "\n",
      "/var/folders/zw/lhnn73fj2250g9z11h_whq1szkf2pm/T/ipykernel_53214/3555432078.py:5: SettingWithCopyWarning:\n",
      "\n",
      "\n",
      "A value is trying to be set on a copy of a slice from a DataFrame\n",
      "\n",
      "See the caveats in the documentation: https://pandas.pydata.org/pandas-docs/stable/user_guide/indexing.html#returning-a-view-versus-a-copy\n",
      "\n",
      "/var/folders/zw/lhnn73fj2250g9z11h_whq1szkf2pm/T/ipykernel_53214/3555432078.py:6: SettingWithCopyWarning:\n",
      "\n",
      "\n",
      "A value is trying to be set on a copy of a slice from a DataFrame.\n",
      "Try using .loc[row_indexer,col_indexer] = value instead\n",
      "\n",
      "See the caveats in the documentation: https://pandas.pydata.org/pandas-docs/stable/user_guide/indexing.html#returning-a-view-versus-a-copy\n",
      "\n",
      "/var/folders/zw/lhnn73fj2250g9z11h_whq1szkf2pm/T/ipykernel_53214/3555432078.py:7: SettingWithCopyWarning:\n",
      "\n",
      "\n",
      "A value is trying to be set on a copy of a slice from a DataFrame.\n",
      "Try using .loc[row_indexer,col_indexer] = value instead\n",
      "\n",
      "See the caveats in the documentation: https://pandas.pydata.org/pandas-docs/stable/user_guide/indexing.html#returning-a-view-versus-a-copy\n",
      "\n"
     ]
    },
    {
     "data": {
      "text/html": [
       "<div>\n",
       "<style scoped>\n",
       "    .dataframe tbody tr th:only-of-type {\n",
       "        vertical-align: middle;\n",
       "    }\n",
       "\n",
       "    .dataframe tbody tr th {\n",
       "        vertical-align: top;\n",
       "    }\n",
       "\n",
       "    .dataframe thead th {\n",
       "        text-align: right;\n",
       "    }\n",
       "</style>\n",
       "<table border=\"1\" class=\"dataframe\">\n",
       "  <thead>\n",
       "    <tr style=\"text-align: right;\">\n",
       "      <th></th>\n",
       "      <th>before</th>\n",
       "      <th>after</th>\n",
       "    </tr>\n",
       "    <tr>\n",
       "      <th>upgrade_name</th>\n",
       "      <th></th>\n",
       "      <th></th>\n",
       "    </tr>\n",
       "  </thead>\n",
       "  <tbody>\n",
       "    <tr>\n",
       "      <th>Enhanced Enclosure + High Efficiency Whole Home Electrification</th>\n",
       "      <td>3.3</td>\n",
       "      <td>2.5</td>\n",
       "    </tr>\n",
       "    <tr>\n",
       "      <th>Basic Enclosure + High Efficiency Whole Home Electrification</th>\n",
       "      <td>3.3</td>\n",
       "      <td>2.5</td>\n",
       "    </tr>\n",
       "    <tr>\n",
       "      <th>High Efficiency Whole Home Electrification</th>\n",
       "      <td>3.3</td>\n",
       "      <td>2.6</td>\n",
       "    </tr>\n",
       "    <tr>\n",
       "      <th>Enhanced Enclosure + HPWH + High Efficiency HP/Electric Backup</th>\n",
       "      <td>3.3</td>\n",
       "      <td>2.6</td>\n",
       "    </tr>\n",
       "    <tr>\n",
       "      <th>Basic Enclosure + HPWH + High Efficiency HP/Electric Backup</th>\n",
       "      <td>3.3</td>\n",
       "      <td>2.6</td>\n",
       "    </tr>\n",
       "    <tr>\n",
       "      <th>Heat Pump Water Heater</th>\n",
       "      <td>3.4</td>\n",
       "      <td>3.0</td>\n",
       "    </tr>\n",
       "    <tr>\n",
       "      <th>Enhanced Enclosure</th>\n",
       "      <td>3.3</td>\n",
       "      <td>3.0</td>\n",
       "    </tr>\n",
       "    <tr>\n",
       "      <th>Basic Enclosure</th>\n",
       "      <td>3.4</td>\n",
       "      <td>3.1</td>\n",
       "    </tr>\n",
       "    <tr>\n",
       "      <th>Mininum Efficiency Whole Home Electrification</th>\n",
       "      <td>3.4</td>\n",
       "      <td>3.1</td>\n",
       "    </tr>\n",
       "    <tr>\n",
       "      <th>Heat Pump Clothes Dryer</th>\n",
       "      <td>3.9</td>\n",
       "      <td>3.7</td>\n",
       "    </tr>\n",
       "    <tr>\n",
       "      <th>High Efficiency Heat Pump with Electric Heat Backup</th>\n",
       "      <td>3.3</td>\n",
       "      <td>3.3</td>\n",
       "    </tr>\n",
       "    <tr>\n",
       "      <th>Induction Cooking</th>\n",
       "      <td>3.4</td>\n",
       "      <td>3.3</td>\n",
       "    </tr>\n",
       "    <tr>\n",
       "      <th>Electric Cooking</th>\n",
       "      <td>3.3</td>\n",
       "      <td>3.3</td>\n",
       "    </tr>\n",
       "    <tr>\n",
       "      <th>Electric Clothes Dryer</th>\n",
       "      <td>2.7</td>\n",
       "      <td>2.8</td>\n",
       "    </tr>\n",
       "    <tr>\n",
       "      <th>Mininum Efficiency Heat Pump with Electric Heat Backup</th>\n",
       "      <td>3.3</td>\n",
       "      <td>3.6</td>\n",
       "    </tr>\n",
       "    <tr>\n",
       "      <th>Mininum Efficiency Heat Pump with Existing Heat Backup</th>\n",
       "      <td>3.3</td>\n",
       "      <td>3.6</td>\n",
       "    </tr>\n",
       "  </tbody>\n",
       "</table>\n",
       "</div>"
      ],
      "text/plain": [
       "                                                    before  after\n",
       "upgrade_name                                                     \n",
       "Enhanced Enclosure + High Efficiency Whole Home...     3.3    2.5\n",
       "Basic Enclosure + High Efficiency Whole Home El...     3.3    2.5\n",
       "High Efficiency Whole Home Electrification             3.3    2.6\n",
       "Enhanced Enclosure + HPWH + High Efficiency HP/...     3.3    2.6\n",
       "Basic Enclosure + HPWH + High Efficiency HP/Ele...     3.3    2.6\n",
       "Heat Pump Water Heater                                 3.4    3.0\n",
       "Enhanced Enclosure                                     3.3    3.0\n",
       "Basic Enclosure                                        3.4    3.1\n",
       "Mininum Efficiency Whole Home Electrification          3.4    3.1\n",
       "Heat Pump Clothes Dryer                                3.9    3.7\n",
       "High Efficiency Heat Pump with Electric Heat Ba...     3.3    3.3\n",
       "Induction Cooking                                      3.4    3.3\n",
       "Electric Cooking                                       3.3    3.3\n",
       "Electric Clothes Dryer                                 2.7    2.8\n",
       "Mininum Efficiency Heat Pump with Electric Heat...     3.3    3.6\n",
       "Mininum Efficiency Heat Pump with Existing Heat...     3.3    3.6"
      ]
     },
     "metadata": {},
     "output_type": "display_data"
    },
    {
     "name": "stdout",
     "output_type": "stream",
     "text": [
      "segment2\n"
     ]
    },
    {
     "data": {
      "text/html": [
       "<div>\n",
       "<style scoped>\n",
       "    .dataframe tbody tr th:only-of-type {\n",
       "        vertical-align: middle;\n",
       "    }\n",
       "\n",
       "    .dataframe tbody tr th {\n",
       "        vertical-align: top;\n",
       "    }\n",
       "\n",
       "    .dataframe thead th {\n",
       "        text-align: right;\n",
       "    }\n",
       "</style>\n",
       "<table border=\"1\" class=\"dataframe\">\n",
       "  <thead>\n",
       "    <tr style=\"text-align: right;\">\n",
       "      <th></th>\n",
       "      <th>before</th>\n",
       "      <th>after</th>\n",
       "    </tr>\n",
       "    <tr>\n",
       "      <th>upgrade_name</th>\n",
       "      <th></th>\n",
       "      <th></th>\n",
       "    </tr>\n",
       "  </thead>\n",
       "  <tbody>\n",
       "    <tr>\n",
       "      <th>Enhanced Enclosure + High Efficiency Whole Home Electrification</th>\n",
       "      <td>7.9</td>\n",
       "      <td>6.3</td>\n",
       "    </tr>\n",
       "    <tr>\n",
       "      <th>Basic Enclosure + High Efficiency Whole Home Electrification</th>\n",
       "      <td>7.9</td>\n",
       "      <td>6.3</td>\n",
       "    </tr>\n",
       "    <tr>\n",
       "      <th>High Efficiency Whole Home Electrification</th>\n",
       "      <td>7.9</td>\n",
       "      <td>6.3</td>\n",
       "    </tr>\n",
       "    <tr>\n",
       "      <th>Mininum Efficiency Whole Home Electrification</th>\n",
       "      <td>8.2</td>\n",
       "      <td>6.9</td>\n",
       "    </tr>\n",
       "    <tr>\n",
       "      <th>Heat Pump Water Heater</th>\n",
       "      <td>7.9</td>\n",
       "      <td>6.6</td>\n",
       "    </tr>\n",
       "    <tr>\n",
       "      <th>Enhanced Enclosure + HPWH + High Efficiency HP/Electric Backup</th>\n",
       "      <td>7.9</td>\n",
       "      <td>6.6</td>\n",
       "    </tr>\n",
       "    <tr>\n",
       "      <th>Basic Enclosure + HPWH + High Efficiency HP/Electric Backup</th>\n",
       "      <td>7.9</td>\n",
       "      <td>6.6</td>\n",
       "    </tr>\n",
       "    <tr>\n",
       "      <th>Heat Pump Clothes Dryer</th>\n",
       "      <td>15.0</td>\n",
       "      <td>14.4</td>\n",
       "    </tr>\n",
       "    <tr>\n",
       "      <th>Induction Cooking</th>\n",
       "      <td>8.1</td>\n",
       "      <td>8.0</td>\n",
       "    </tr>\n",
       "    <tr>\n",
       "      <th>Electric Cooking</th>\n",
       "      <td>10.2</td>\n",
       "      <td>10.1</td>\n",
       "    </tr>\n",
       "    <tr>\n",
       "      <th>Enhanced Enclosure</th>\n",
       "      <td>8.8</td>\n",
       "      <td>8.8</td>\n",
       "    </tr>\n",
       "    <tr>\n",
       "      <th>Basic Enclosure</th>\n",
       "      <td>8.9</td>\n",
       "      <td>8.9</td>\n",
       "    </tr>\n",
       "    <tr>\n",
       "      <th>Electric Clothes Dryer</th>\n",
       "      <td>5.4</td>\n",
       "      <td>5.5</td>\n",
       "    </tr>\n",
       "    <tr>\n",
       "      <th>High Efficiency Heat Pump with Electric Heat Backup</th>\n",
       "      <td>7.9</td>\n",
       "      <td>8.4</td>\n",
       "    </tr>\n",
       "    <tr>\n",
       "      <th>Mininum Efficiency Heat Pump with Electric Heat Backup</th>\n",
       "      <td>7.9</td>\n",
       "      <td>9.0</td>\n",
       "    </tr>\n",
       "    <tr>\n",
       "      <th>Mininum Efficiency Heat Pump with Existing Heat Backup</th>\n",
       "      <td>7.9</td>\n",
       "      <td>9.0</td>\n",
       "    </tr>\n",
       "  </tbody>\n",
       "</table>\n",
       "</div>"
      ],
      "text/plain": [
       "                                                    before  after\n",
       "upgrade_name                                                     \n",
       "Enhanced Enclosure + High Efficiency Whole Home...     7.9    6.3\n",
       "Basic Enclosure + High Efficiency Whole Home El...     7.9    6.3\n",
       "High Efficiency Whole Home Electrification             7.9    6.3\n",
       "Mininum Efficiency Whole Home Electrification          8.2    6.9\n",
       "Heat Pump Water Heater                                 7.9    6.6\n",
       "Enhanced Enclosure + HPWH + High Efficiency HP/...     7.9    6.6\n",
       "Basic Enclosure + HPWH + High Efficiency HP/Ele...     7.9    6.6\n",
       "Heat Pump Clothes Dryer                               15.0   14.4\n",
       "Induction Cooking                                      8.1    8.0\n",
       "Electric Cooking                                      10.2   10.1\n",
       "Enhanced Enclosure                                     8.8    8.8\n",
       "Basic Enclosure                                        8.9    8.9\n",
       "Electric Clothes Dryer                                 5.4    5.5\n",
       "High Efficiency Heat Pump with Electric Heat Ba...     7.9    8.4\n",
       "Mininum Efficiency Heat Pump with Electric Heat...     7.9    9.0\n",
       "Mininum Efficiency Heat Pump with Existing Heat...     7.9    9.0"
      ]
     },
     "metadata": {},
     "output_type": "display_data"
    },
    {
     "name": "stdout",
     "output_type": "stream",
     "text": [
      "segment3\n"
     ]
    },
    {
     "data": {
      "text/html": [
       "<div>\n",
       "<style scoped>\n",
       "    .dataframe tbody tr th:only-of-type {\n",
       "        vertical-align: middle;\n",
       "    }\n",
       "\n",
       "    .dataframe tbody tr th {\n",
       "        vertical-align: top;\n",
       "    }\n",
       "\n",
       "    .dataframe thead th {\n",
       "        text-align: right;\n",
       "    }\n",
       "</style>\n",
       "<table border=\"1\" class=\"dataframe\">\n",
       "  <thead>\n",
       "    <tr style=\"text-align: right;\">\n",
       "      <th></th>\n",
       "      <th>before</th>\n",
       "      <th>after</th>\n",
       "    </tr>\n",
       "    <tr>\n",
       "      <th>upgrade_name</th>\n",
       "      <th></th>\n",
       "      <th></th>\n",
       "    </tr>\n",
       "  </thead>\n",
       "  <tbody>\n",
       "    <tr>\n",
       "      <th>Enhanced Enclosure + High Efficiency Whole Home Electrification</th>\n",
       "      <td>2.9</td>\n",
       "      <td>2.0</td>\n",
       "    </tr>\n",
       "    <tr>\n",
       "      <th>Basic Enclosure + High Efficiency Whole Home Electrification</th>\n",
       "      <td>2.9</td>\n",
       "      <td>2.0</td>\n",
       "    </tr>\n",
       "    <tr>\n",
       "      <th>Enhanced Enclosure + HPWH + High Efficiency HP/Electric Backup</th>\n",
       "      <td>2.9</td>\n",
       "      <td>2.1</td>\n",
       "    </tr>\n",
       "    <tr>\n",
       "      <th>Basic Enclosure + HPWH + High Efficiency HP/Electric Backup</th>\n",
       "      <td>2.9</td>\n",
       "      <td>2.1</td>\n",
       "    </tr>\n",
       "    <tr>\n",
       "      <th>High Efficiency Whole Home Electrification</th>\n",
       "      <td>2.9</td>\n",
       "      <td>2.1</td>\n",
       "    </tr>\n",
       "    <tr>\n",
       "      <th>Enhanced Enclosure</th>\n",
       "      <td>2.9</td>\n",
       "      <td>2.4</td>\n",
       "    </tr>\n",
       "    <tr>\n",
       "      <th>Basic Enclosure</th>\n",
       "      <td>2.9</td>\n",
       "      <td>2.4</td>\n",
       "    </tr>\n",
       "    <tr>\n",
       "      <th>High Efficiency Heat Pump with Electric Heat Backup</th>\n",
       "      <td>2.9</td>\n",
       "      <td>2.6</td>\n",
       "    </tr>\n",
       "    <tr>\n",
       "      <th>Heat Pump Water Heater</th>\n",
       "      <td>2.9</td>\n",
       "      <td>2.6</td>\n",
       "    </tr>\n",
       "    <tr>\n",
       "      <th>Mininum Efficiency Whole Home Electrification</th>\n",
       "      <td>2.9</td>\n",
       "      <td>2.6</td>\n",
       "    </tr>\n",
       "    <tr>\n",
       "      <th>Heat Pump Clothes Dryer</th>\n",
       "      <td>2.9</td>\n",
       "      <td>2.9</td>\n",
       "    </tr>\n",
       "    <tr>\n",
       "      <th>Induction Cooking</th>\n",
       "      <td>3.0</td>\n",
       "      <td>2.9</td>\n",
       "    </tr>\n",
       "    <tr>\n",
       "      <th>Electric Cooking</th>\n",
       "      <td>3.1</td>\n",
       "      <td>3.1</td>\n",
       "    </tr>\n",
       "    <tr>\n",
       "      <th>Electric Clothes Dryer</th>\n",
       "      <td>3.5</td>\n",
       "      <td>3.6</td>\n",
       "    </tr>\n",
       "    <tr>\n",
       "      <th>Mininum Efficiency Heat Pump with Electric Heat Backup</th>\n",
       "      <td>2.9</td>\n",
       "      <td>3.0</td>\n",
       "    </tr>\n",
       "    <tr>\n",
       "      <th>Mininum Efficiency Heat Pump with Existing Heat Backup</th>\n",
       "      <td>2.9</td>\n",
       "      <td>3.0</td>\n",
       "    </tr>\n",
       "  </tbody>\n",
       "</table>\n",
       "</div>"
      ],
      "text/plain": [
       "                                                    before  after\n",
       "upgrade_name                                                     \n",
       "Enhanced Enclosure + High Efficiency Whole Home...     2.9    2.0\n",
       "Basic Enclosure + High Efficiency Whole Home El...     2.9    2.0\n",
       "Enhanced Enclosure + HPWH + High Efficiency HP/...     2.9    2.1\n",
       "Basic Enclosure + HPWH + High Efficiency HP/Ele...     2.9    2.1\n",
       "High Efficiency Whole Home Electrification             2.9    2.1\n",
       "Enhanced Enclosure                                     2.9    2.4\n",
       "Basic Enclosure                                        2.9    2.4\n",
       "High Efficiency Heat Pump with Electric Heat Ba...     2.9    2.6\n",
       "Heat Pump Water Heater                                 2.9    2.6\n",
       "Mininum Efficiency Whole Home Electrification          2.9    2.6\n",
       "Heat Pump Clothes Dryer                                2.9    2.9\n",
       "Induction Cooking                                      3.0    2.9\n",
       "Electric Cooking                                       3.1    3.1\n",
       "Electric Clothes Dryer                                 3.5    3.6\n",
       "Mininum Efficiency Heat Pump with Electric Heat...     2.9    3.0\n",
       "Mininum Efficiency Heat Pump with Existing Heat...     2.9    3.0"
      ]
     },
     "metadata": {},
     "output_type": "display_data"
    },
    {
     "name": "stdout",
     "output_type": "stream",
     "text": [
      "segment4\n"
     ]
    },
    {
     "data": {
      "text/html": [
       "<div>\n",
       "<style scoped>\n",
       "    .dataframe tbody tr th:only-of-type {\n",
       "        vertical-align: middle;\n",
       "    }\n",
       "\n",
       "    .dataframe tbody tr th {\n",
       "        vertical-align: top;\n",
       "    }\n",
       "\n",
       "    .dataframe thead th {\n",
       "        text-align: right;\n",
       "    }\n",
       "</style>\n",
       "<table border=\"1\" class=\"dataframe\">\n",
       "  <thead>\n",
       "    <tr style=\"text-align: right;\">\n",
       "      <th></th>\n",
       "      <th>before</th>\n",
       "      <th>after</th>\n",
       "    </tr>\n",
       "    <tr>\n",
       "      <th>upgrade_name</th>\n",
       "      <th></th>\n",
       "      <th></th>\n",
       "    </tr>\n",
       "  </thead>\n",
       "  <tbody>\n",
       "    <tr>\n",
       "      <th>Enhanced Enclosure + High Efficiency Whole Home Electrification</th>\n",
       "      <td>1.8</td>\n",
       "      <td>1.3</td>\n",
       "    </tr>\n",
       "    <tr>\n",
       "      <th>Basic Enclosure + High Efficiency Whole Home Electrification</th>\n",
       "      <td>1.8</td>\n",
       "      <td>1.3</td>\n",
       "    </tr>\n",
       "    <tr>\n",
       "      <th>Enhanced Enclosure + HPWH + High Efficiency HP/Electric Backup</th>\n",
       "      <td>1.8</td>\n",
       "      <td>1.3</td>\n",
       "    </tr>\n",
       "    <tr>\n",
       "      <th>Basic Enclosure + HPWH + High Efficiency HP/Electric Backup</th>\n",
       "      <td>1.8</td>\n",
       "      <td>1.3</td>\n",
       "    </tr>\n",
       "    <tr>\n",
       "      <th>High Efficiency Whole Home Electrification</th>\n",
       "      <td>1.8</td>\n",
       "      <td>1.3</td>\n",
       "    </tr>\n",
       "    <tr>\n",
       "      <th>Enhanced Enclosure</th>\n",
       "      <td>1.8</td>\n",
       "      <td>1.6</td>\n",
       "    </tr>\n",
       "    <tr>\n",
       "      <th>Basic Enclosure</th>\n",
       "      <td>1.8</td>\n",
       "      <td>1.6</td>\n",
       "    </tr>\n",
       "    <tr>\n",
       "      <th>Heat Pump Water Heater</th>\n",
       "      <td>1.8</td>\n",
       "      <td>1.6</td>\n",
       "    </tr>\n",
       "    <tr>\n",
       "      <th>Mininum Efficiency Whole Home Electrification</th>\n",
       "      <td>1.8</td>\n",
       "      <td>1.7</td>\n",
       "    </tr>\n",
       "    <tr>\n",
       "      <th>High Efficiency Heat Pump with Electric Heat Backup</th>\n",
       "      <td>1.8</td>\n",
       "      <td>1.7</td>\n",
       "    </tr>\n",
       "    <tr>\n",
       "      <th>Heat Pump Clothes Dryer</th>\n",
       "      <td>1.9</td>\n",
       "      <td>1.8</td>\n",
       "    </tr>\n",
       "    <tr>\n",
       "      <th>Induction Cooking</th>\n",
       "      <td>1.8</td>\n",
       "      <td>1.8</td>\n",
       "    </tr>\n",
       "    <tr>\n",
       "      <th>Electric Cooking</th>\n",
       "      <td>1.6</td>\n",
       "      <td>1.6</td>\n",
       "    </tr>\n",
       "    <tr>\n",
       "      <th>Electric Clothes Dryer</th>\n",
       "      <td>2.7</td>\n",
       "      <td>2.8</td>\n",
       "    </tr>\n",
       "    <tr>\n",
       "      <th>Mininum Efficiency Heat Pump with Electric Heat Backup</th>\n",
       "      <td>1.8</td>\n",
       "      <td>1.9</td>\n",
       "    </tr>\n",
       "    <tr>\n",
       "      <th>Mininum Efficiency Heat Pump with Existing Heat Backup</th>\n",
       "      <td>1.8</td>\n",
       "      <td>1.9</td>\n",
       "    </tr>\n",
       "  </tbody>\n",
       "</table>\n",
       "</div>"
      ],
      "text/plain": [
       "                                                    before  after\n",
       "upgrade_name                                                     \n",
       "Enhanced Enclosure + High Efficiency Whole Home...     1.8    1.3\n",
       "Basic Enclosure + High Efficiency Whole Home El...     1.8    1.3\n",
       "Enhanced Enclosure + HPWH + High Efficiency HP/...     1.8    1.3\n",
       "Basic Enclosure + HPWH + High Efficiency HP/Ele...     1.8    1.3\n",
       "High Efficiency Whole Home Electrification             1.8    1.3\n",
       "Enhanced Enclosure                                     1.8    1.6\n",
       "Basic Enclosure                                        1.8    1.6\n",
       "Heat Pump Water Heater                                 1.8    1.6\n",
       "Mininum Efficiency Whole Home Electrification          1.8    1.7\n",
       "High Efficiency Heat Pump with Electric Heat Ba...     1.8    1.7\n",
       "Heat Pump Clothes Dryer                                1.9    1.8\n",
       "Induction Cooking                                      1.8    1.8\n",
       "Electric Cooking                                       1.6    1.6\n",
       "Electric Clothes Dryer                                 2.7    2.8\n",
       "Mininum Efficiency Heat Pump with Electric Heat...     1.8    1.9\n",
       "Mininum Efficiency Heat Pump with Existing Heat...     1.8    1.9"
      ]
     },
     "metadata": {},
     "output_type": "display_data"
    }
   ],
   "source": [
    "results = segment_mean_energy_burden('post-upgrade_energy_burden_2023_cbills.%', community_results) \n",
    "saving_results[[f'segment1_{income}_energy_burden_before_upgrade_%',f'segment1_{income}_energy_burden_after_upgrade_%']] = results[0]\n",
    "saving_results[[f'segment2_{income}_energy_burden_before_upgrade_%',f'segment2_{income}_energy_burden_after_upgrade_%']] = results[1]\n",
    "saving_results[[f'segment3_{income}_energy_burden_before_upgrade_%',f'segment3_{income}_energy_burden_after_upgrade_%']] = results[2]\n",
    "saving_results[[f'segment4_{income}_energy_burden_before_upgrade_%',f'segment4_{income}_energy_burden_after_upgrade_%']] = results[3]"
   ]
  },
  {
   "cell_type": "markdown",
   "id": "0dc19882",
   "metadata": {},
   "source": [
    "# 3. Results for Segments (0-80% AMI)"
   ]
  },
  {
   "cell_type": "markdown",
   "id": "baa2745c",
   "metadata": {},
   "source": [
    "Segment Definition\n",
    "\n",
    "Segment 1. Occupied, Multifamily with 5+ units, 1940-1979, 0-80% AMI \n",
    "\n",
    "Segment 2. Occupied, Multifamily with 5+ units, 1980+, 0-80% AMI \n",
    "\n",
    "Segment 3. Occupied, Single family detached 1940-1979, 0-80% AMI \n",
    "\n",
    "Segment 4. Occupied, Single family attached 1940-1979, 0-80% AMI "
   ]
  },
  {
   "cell_type": "code",
   "execution_count": 37,
   "id": "b85921e5",
   "metadata": {},
   "outputs": [],
   "source": [
    "community_results = pd.read_parquet(f\"data_/community_building_samples_with_upgrade_cost_and_bill/{community}/processed_upgrade_results.parquet\")\n",
    "\n",
    "income = '0-80%AMI'\n",
    "vacancy_status = ['Occupied']\n",
    "\n",
    "seg1_building_type = ['Multi-Family with 5+ Units']\n",
    "seg1_vintage = ['1940s', '1950s', '1960s', '1970s']\n",
    "seg1_median_income = ['0-30%','30-60%','60-80%']\n",
    "\n",
    "seg2_building_type = ['Multi-Family with 5+ Units']\n",
    "seg2_vintage = ['1980s', '1990s', '2000s', '2010s']\n",
    "seg2_median_income = ['0-30%','30-60%','60-80%']\n",
    "\n",
    "seg3_building_type = ['Single-Family Detached']\n",
    "seg3_vintage = ['1940s', '1950s', '1960s', '1970s']\n",
    "seg3_median_income = ['0-30%','30-60%','60-80%']\n",
    "\n",
    "seg4_building_type = ['Single-Family Attached']\n",
    "seg4_vintage = ['1940s', '1950s', '1960s', '1970s']\n",
    "seg4_median_income = ['0-30%','30-60%','60-80%']\n",
    "\n",
    "community_results.loc[community_results['build_existing_model.vacancy_status'].isin(vacancy_status) & \n",
    "                     community_results['build_existing_model.geometry_building_type_recs'].isin(seg1_building_type) & \n",
    "                     community_results['build_existing_model.vintage'].isin(seg1_vintage) &  \n",
    "                     community_results['build_existing_model.area_median_income'].isin(seg1_median_income),\n",
    "                     'segment'] = 'segment1'\n",
    "community_results.loc[community_results['build_existing_model.vacancy_status'].isin(vacancy_status) & \n",
    "                     community_results['build_existing_model.geometry_building_type_recs'].isin(seg2_building_type) & \n",
    "                     community_results['build_existing_model.vintage'].isin(seg2_vintage) & \n",
    "                     community_results['build_existing_model.area_median_income'].isin(seg2_median_income),\n",
    "                     'segment'] = 'segment2'\n",
    "community_results.loc[community_results['build_existing_model.vacancy_status'].isin(vacancy_status) & \n",
    "                     community_results['build_existing_model.geometry_building_type_recs'].isin(seg3_building_type) & \n",
    "                     community_results['build_existing_model.vintage'].isin(seg3_vintage) & \n",
    "                     community_results['build_existing_model.area_median_income'].isin(seg3_median_income),\n",
    "                     'segment'] = 'segment3'\n",
    "community_results.loc[community_results['build_existing_model.vacancy_status'].isin(vacancy_status) & \n",
    "                     community_results['build_existing_model.geometry_building_type_recs'].isin(seg4_building_type) & \n",
    "                     community_results['build_existing_model.vintage'].isin(seg4_vintage) & \n",
    "                     community_results['build_existing_model.area_median_income'].isin(seg4_median_income),\n",
    "                     'segment'] = 'segment4'"
   ]
  },
  {
   "cell_type": "markdown",
   "id": "2b599aa4",
   "metadata": {},
   "source": [
    "## 3.1 Upgrade Cost Per Dwelling Unit "
   ]
  },
  {
   "cell_type": "code",
   "execution_count": 38,
   "id": "8aa276ba",
   "metadata": {},
   "outputs": [
    {
     "name": "stdout",
     "output_type": "stream",
     "text": [
      "segment1: upgrade cost (usd) per dwelling unit\n"
     ]
    },
    {
     "data": {
      "text/plain": [
       "upgrade_name\n",
       "Electric Clothes Dryer                                              1692.2\n",
       "Electric Cooking                                                    1700.0\n",
       "Heat Pump Clothes Dryer                                             2507.0\n",
       "Induction Cooking                                                   2591.2\n",
       "Basic Enclosure                                                     2788.4\n",
       "Enhanced Enclosure                                                  3759.3\n",
       "Heat Pump Water Heater                                              3761.0\n",
       "Mininum Efficiency Heat Pump with Electric Heat Backup              5860.7\n",
       "Mininum Efficiency Whole Home Electrification                       5911.8\n",
       "Mininum Efficiency Heat Pump with Existing Heat Backup              7429.5\n",
       "High Efficiency Heat Pump with Electric Heat Backup                19504.2\n",
       "Basic Enclosure + HPWH + High Efficiency HP/Electric Backup        24727.3\n",
       "Enhanced Enclosure + HPWH + High Efficiency HP/Electric Backup     25560.3\n",
       "High Efficiency Whole Home Electrification                         26612.0\n",
       "Basic Enclosure + High Efficiency Whole Home Electrification       28141.5\n",
       "Enhanced Enclosure + High Efficiency Whole Home Electrification    28974.5\n",
       "Name: upgrade_cost_usd, dtype: float64"
      ]
     },
     "metadata": {},
     "output_type": "display_data"
    },
    {
     "name": "stdout",
     "output_type": "stream",
     "text": [
      "segment2: upgrade cost (usd) per dwelling unit\n"
     ]
    },
    {
     "data": {
      "text/plain": [
       "upgrade_name\n",
       "Basic Enclosure                                                     1280.2\n",
       "Enhanced Enclosure                                                  1541.1\n",
       "Electric Clothes Dryer                                              1692.2\n",
       "Electric Cooking                                                    1700.0\n",
       "Heat Pump Clothes Dryer                                             2507.0\n",
       "Induction Cooking                                                   2591.2\n",
       "Heat Pump Water Heater                                              3780.9\n",
       "Mininum Efficiency Whole Home Electrification                       4387.7\n",
       "Mininum Efficiency Heat Pump with Electric Heat Backup              6762.2\n",
       "Mininum Efficiency Heat Pump with Existing Heat Backup              7602.8\n",
       "High Efficiency Heat Pump with Electric Heat Backup                22042.9\n",
       "Basic Enclosure + HPWH + High Efficiency HP/Electric Backup        26584.8\n",
       "Enhanced Enclosure + HPWH + High Efficiency HP/Electric Backup     26781.1\n",
       "High Efficiency Whole Home Electrification                         29360.1\n",
       "Basic Enclosure + High Efficiency Whole Home Electrification       30121.1\n",
       "Enhanced Enclosure + High Efficiency Whole Home Electrification    30317.4\n",
       "Name: upgrade_cost_usd, dtype: float64"
      ]
     },
     "metadata": {},
     "output_type": "display_data"
    },
    {
     "name": "stdout",
     "output_type": "stream",
     "text": [
      "segment3: upgrade cost (usd) per dwelling unit\n"
     ]
    },
    {
     "data": {
      "text/plain": [
       "upgrade_name\n",
       "Electric Clothes Dryer                                              1692.2\n",
       "Electric Cooking                                                    1700.0\n",
       "Heat Pump Clothes Dryer                                             2507.0\n",
       "Induction Cooking                                                   2591.2\n",
       "Heat Pump Water Heater                                              4076.1\n",
       "Mininum Efficiency Heat Pump with Electric Heat Backup             12283.2\n",
       "Basic Enclosure                                                    12956.8\n",
       "Mininum Efficiency Whole Home Electrification                      14470.5\n",
       "Mininum Efficiency Heat Pump with Existing Heat Backup             14578.2\n",
       "Enhanced Enclosure                                                 16446.3\n",
       "High Efficiency Heat Pump with Electric Heat Backup                32289.1\n",
       "High Efficiency Whole Home Electrification                         41387.3\n",
       "Basic Enclosure + HPWH + High Efficiency HP/Electric Backup        43621.0\n",
       "Enhanced Enclosure + HPWH + High Efficiency HP/Electric Backup     46282.1\n",
       "Basic Enclosure + High Efficiency Whole Home Electrification       48643.2\n",
       "Enhanced Enclosure + High Efficiency Whole Home Electrification    51304.2\n",
       "Name: upgrade_cost_usd, dtype: float64"
      ]
     },
     "metadata": {},
     "output_type": "display_data"
    },
    {
     "name": "stdout",
     "output_type": "stream",
     "text": [
      "segment4: upgrade cost (usd) per dwelling unit\n"
     ]
    },
    {
     "data": {
      "text/plain": [
       "upgrade_name\n",
       "Electric Clothes Dryer                                              1692.2\n",
       "Electric Cooking                                                    1700.0\n",
       "Heat Pump Clothes Dryer                                             2507.0\n",
       "Induction Cooking                                                   2591.2\n",
       "Heat Pump Water Heater                                              3761.0\n",
       "Basic Enclosure                                                     6830.3\n",
       "Enhanced Enclosure                                                  8147.5\n",
       "Mininum Efficiency Heat Pump with Electric Heat Backup             10421.7\n",
       "Mininum Efficiency Whole Home Electrification                      12318.8\n",
       "Mininum Efficiency Heat Pump with Existing Heat Backup             12844.6\n",
       "High Efficiency Heat Pump with Electric Heat Backup                29586.0\n",
       "Basic Enclosure + HPWH + High Efficiency HP/Electric Backup        37811.0\n",
       "High Efficiency Whole Home Electrification                         38445.2\n",
       "Enhanced Enclosure + HPWH + High Efficiency HP/Electric Backup     38833.4\n",
       "Basic Enclosure + High Efficiency Whole Home Electrification       42909.2\n",
       "Enhanced Enclosure + High Efficiency Whole Home Electrification    43931.6\n",
       "Name: upgrade_cost_usd, dtype: float64"
      ]
     },
     "metadata": {},
     "output_type": "display_data"
    }
   ],
   "source": [
    "results = segment_mean_upgrade_cost(community_results) \n",
    "saving_results[f'segment1_{income}_upgrade_cost_mean_usd'] = results[0]\n",
    "saving_results[f'segment2_{income}_upgrade_cost_mean_usd'] = results[1]\n",
    "saving_results[f'segment3_{income}_upgrade_cost_mean_usd'] = results[2]\n",
    "saving_results[f'segment4_{income}_upgrade_cost_mean_usd'] = results[3]"
   ]
  },
  {
   "cell_type": "markdown",
   "id": "0c3d8db5",
   "metadata": {},
   "source": [
    " ## 3.2 Annual Savings Per Dollar Invested"
   ]
  },
  {
   "cell_type": "markdown",
   "id": "6d7106aa",
   "metadata": {},
   "source": [
    "### Annual Bill Savings Per Dollar Invested"
   ]
  },
  {
   "cell_type": "code",
   "execution_count": 39,
   "id": "da9bebdf",
   "metadata": {},
   "outputs": [
    {
     "name": "stdout",
     "output_type": "stream",
     "text": [
      "segment1\n"
     ]
    },
    {
     "data": {
      "text/plain": [
       "upgrade_name\n",
       "Heat Pump Water Heater                                             0.02422\n",
       "Basic Enclosure                                                    0.02241\n",
       "Enhanced Enclosure                                                 0.01874\n",
       "Mininum Efficiency Whole Home Electrification                      0.01482\n",
       "Heat Pump Clothes Dryer                                            0.01140\n",
       "Basic Enclosure + High Efficiency Whole Home Electrification       0.00677\n",
       "Basic Enclosure + HPWH + High Efficiency HP/Electric Backup        0.00669\n",
       "Enhanced Enclosure + High Efficiency Whole Home Electrification    0.00667\n",
       "High Efficiency Whole Home Electrification                         0.00666\n",
       "Enhanced Enclosure + HPWH + High Efficiency HP/Electric Backup     0.00659\n",
       "Induction Cooking                                                  0.00320\n",
       "Electric Cooking                                                   0.00227\n",
       "High Efficiency Heat Pump with Electric Heat Backup                0.00029\n",
       "Mininum Efficiency Heat Pump with Existing Heat Backup            -0.01098\n",
       "Electric Clothes Dryer                                            -0.01291\n",
       "Mininum Efficiency Heat Pump with Electric Heat Backup            -0.01377\n",
       "Name: saving_cbill.total_usd, dtype: float64"
      ]
     },
     "metadata": {},
     "output_type": "display_data"
    },
    {
     "name": "stdout",
     "output_type": "stream",
     "text": [
      "segment2\n"
     ]
    },
    {
     "data": {
      "text/plain": [
       "upgrade_name\n",
       "Heat Pump Water Heater                                             0.04303\n",
       "Mininum Efficiency Whole Home Electrification                      0.02743\n",
       "Heat Pump Clothes Dryer                                            0.01054\n",
       "High Efficiency Whole Home Electrification                         0.00668\n",
       "Basic Enclosure + High Efficiency Whole Home Electrification       0.00665\n",
       "Enhanced Enclosure + High Efficiency Whole Home Electrification    0.00664\n",
       "Basic Enclosure + HPWH + High Efficiency HP/Electric Backup        0.00661\n",
       "Enhanced Enclosure + HPWH + High Efficiency HP/Electric Backup     0.00660\n",
       "Basic Enclosure                                                    0.00642\n",
       "Enhanced Enclosure                                                 0.00611\n",
       "Electric Cooking                                                   0.00459\n",
       "Induction Cooking                                                  0.00403\n",
       "High Efficiency Heat Pump with Electric Heat Backup               -0.00144\n",
       "Electric Clothes Dryer                                            -0.00962\n",
       "Mininum Efficiency Heat Pump with Existing Heat Backup            -0.01480\n",
       "Mininum Efficiency Heat Pump with Electric Heat Backup            -0.01661\n",
       "Name: saving_cbill.total_usd, dtype: float64"
      ]
     },
     "metadata": {},
     "output_type": "display_data"
    },
    {
     "name": "stdout",
     "output_type": "stream",
     "text": [
      "segment3\n"
     ]
    },
    {
     "data": {
      "text/plain": [
       "upgrade_name\n",
       "Heat Pump Water Heater                                             0.05408\n",
       "Basic Enclosure                                                    0.02939\n",
       "Enhanced Enclosure                                                 0.02477\n",
       "Mininum Efficiency Whole Home Electrification                      0.01840\n",
       "Heat Pump Clothes Dryer                                            0.01619\n",
       "Basic Enclosure + HPWH + High Efficiency HP/Electric Backup        0.01550\n",
       "Basic Enclosure + High Efficiency Whole Home Electrification       0.01507\n",
       "High Efficiency Whole Home Electrification                         0.01474\n",
       "Enhanced Enclosure + HPWH + High Efficiency HP/Electric Backup     0.01472\n",
       "Enhanced Enclosure + High Efficiency Whole Home Electrification    0.01439\n",
       "High Efficiency Heat Pump with Electric Heat Backup                0.00846\n",
       "Induction Cooking                                                  0.00386\n",
       "Electric Cooking                                                   0.00265\n",
       "Mininum Efficiency Heat Pump with Electric Heat Backup             0.00150\n",
       "Mininum Efficiency Heat Pump with Existing Heat Backup             0.00045\n",
       "Electric Clothes Dryer                                            -0.02218\n",
       "Name: saving_cbill.total_usd, dtype: float64"
      ]
     },
     "metadata": {},
     "output_type": "display_data"
    },
    {
     "name": "stdout",
     "output_type": "stream",
     "text": [
      "segment4\n"
     ]
    },
    {
     "data": {
      "text/plain": [
       "upgrade_name\n",
       "Basic Enclosure                                                    0.03353\n",
       "Enhanced Enclosure                                                 0.03046\n",
       "Heat Pump Water Heater                                             0.02908\n",
       "Mininum Efficiency Whole Home Electrification                      0.01818\n",
       "Heat Pump Clothes Dryer                                            0.01560\n",
       "Basic Enclosure + HPWH + High Efficiency HP/Electric Backup        0.01516\n",
       "Enhanced Enclosure + HPWH + High Efficiency HP/Electric Backup     0.01488\n",
       "Basic Enclosure + High Efficiency Whole Home Electrification       0.01466\n",
       "Enhanced Enclosure + High Efficiency Whole Home Electrification    0.01442\n",
       "High Efficiency Whole Home Electrification                         0.01412\n",
       "High Efficiency Heat Pump with Electric Heat Backup                0.00855\n",
       "Mininum Efficiency Heat Pump with Electric Heat Backup             0.00784\n",
       "Mininum Efficiency Heat Pump with Existing Heat Backup             0.00577\n",
       "Induction Cooking                                                  0.00390\n",
       "Electric Cooking                                                   0.00173\n",
       "Electric Clothes Dryer                                            -0.01218\n",
       "Name: saving_cbill.total_usd, dtype: float64"
      ]
     },
     "metadata": {},
     "output_type": "display_data"
    }
   ],
   "source": [
    "indicator ='saving_cbill.total_usd'\n",
    "results = segment_savings_per_dollar(indicator, community_results) \n",
    "saving_results[f'segment1_{income}_saving_bill_per_dollar_invested_usd'] = results[0]\n",
    "saving_results[f'segment2_{income}_saving_bill_per_dollar_invested_usd'] = results[1]\n",
    "saving_results[f'segment3_{income}_saving_bill_per_dollar_invested_usd'] = results[2]\n",
    "saving_results[f'segment4_{income}_saving_bill_per_dollar_invested_usd'] = results[3]"
   ]
  },
  {
   "cell_type": "markdown",
   "id": "60fa915b",
   "metadata": {},
   "source": [
    " ### Annual Energy Savings Per Dollar Invested"
   ]
  },
  {
   "cell_type": "code",
   "execution_count": 40,
   "id": "0edaa5a4",
   "metadata": {},
   "outputs": [
    {
     "name": "stdout",
     "output_type": "stream",
     "text": [
      "segment1\n"
     ]
    },
    {
     "data": {
      "text/plain": [
       "upgrade_name\n",
       "Heat Pump Water Heater                                             0.00182\n",
       "Mininum Efficiency Whole Home Electrification                      0.00157\n",
       "Electric Cooking                                                   0.00083\n",
       "Basic Enclosure                                                    0.00070\n",
       "Enhanced Enclosure                                                 0.00058\n",
       "Induction Cooking                                                  0.00049\n",
       "High Efficiency Whole Home Electrification                         0.00041\n",
       "Basic Enclosure + High Efficiency Whole Home Electrification       0.00040\n",
       "Basic Enclosure + HPWH + High Efficiency HP/Electric Backup        0.00039\n",
       "Enhanced Enclosure + High Efficiency Whole Home Electrification    0.00039\n",
       "Enhanced Enclosure + HPWH + High Efficiency HP/Electric Backup     0.00038\n",
       "Heat Pump Clothes Dryer                                            0.00032\n",
       "Electric Clothes Dryer                                             0.00025\n",
       "High Efficiency Heat Pump with Electric Heat Backup                0.00004\n",
       "Mininum Efficiency Heat Pump with Existing Heat Backup            -0.00018\n",
       "Mininum Efficiency Heat Pump with Electric Heat Backup            -0.00022\n",
       "Name: saving_energy.total_mmbtu, dtype: float64"
      ]
     },
     "metadata": {},
     "output_type": "display_data"
    },
    {
     "name": "stdout",
     "output_type": "stream",
     "text": [
      "segment2\n"
     ]
    },
    {
     "data": {
      "text/plain": [
       "upgrade_name\n",
       "Heat Pump Water Heater                                             0.00214\n",
       "Mininum Efficiency Whole Home Electrification                      0.00191\n",
       "Electric Cooking                                                   0.00086\n",
       "Induction Cooking                                                  0.00042\n",
       "High Efficiency Whole Home Electrification                         0.00033\n",
       "Basic Enclosure + High Efficiency Whole Home Electrification       0.00033\n",
       "Enhanced Enclosure + High Efficiency Whole Home Electrification    0.00033\n",
       "Basic Enclosure + HPWH + High Efficiency HP/Electric Backup        0.00032\n",
       "Enhanced Enclosure + HPWH + High Efficiency HP/Electric Backup     0.00032\n",
       "Heat Pump Clothes Dryer                                            0.00025\n",
       "Basic Enclosure                                                    0.00019\n",
       "Electric Clothes Dryer                                             0.00019\n",
       "Enhanced Enclosure                                                 0.00018\n",
       "High Efficiency Heat Pump with Electric Heat Backup               -0.00004\n",
       "Mininum Efficiency Heat Pump with Existing Heat Backup            -0.00036\n",
       "Mininum Efficiency Heat Pump with Electric Heat Backup            -0.00040\n",
       "Name: saving_energy.total_mmbtu, dtype: float64"
      ]
     },
     "metadata": {},
     "output_type": "display_data"
    },
    {
     "name": "stdout",
     "output_type": "stream",
     "text": [
      "segment3\n"
     ]
    },
    {
     "data": {
      "text/plain": [
       "upgrade_name\n",
       "Heat Pump Water Heater                                             0.00329\n",
       "Mininum Efficiency Whole Home Electrification                      0.00178\n",
       "Electric Cooking                                                   0.00111\n",
       "Basic Enclosure                                                    0.00110\n",
       "Enhanced Enclosure                                                 0.00093\n",
       "High Efficiency Whole Home Electrification                         0.00080\n",
       "Basic Enclosure + HPWH + High Efficiency HP/Electric Backup        0.00076\n",
       "Basic Enclosure + High Efficiency Whole Home Electrification       0.00074\n",
       "Enhanced Enclosure + HPWH + High Efficiency HP/Electric Backup     0.00072\n",
       "Enhanced Enclosure + High Efficiency Whole Home Electrification    0.00070\n",
       "Mininum Efficiency Heat Pump with Electric Heat Backup             0.00070\n",
       "Heat Pump Clothes Dryer                                            0.00060\n",
       "Induction Cooking                                                  0.00060\n",
       "Mininum Efficiency Heat Pump with Existing Heat Backup             0.00052\n",
       "High Efficiency Heat Pump with Electric Heat Backup                0.00045\n",
       "Electric Clothes Dryer                                             0.00043\n",
       "Name: saving_energy.total_mmbtu, dtype: float64"
      ]
     },
     "metadata": {},
     "output_type": "display_data"
    },
    {
     "name": "stdout",
     "output_type": "stream",
     "text": [
      "segment4\n"
     ]
    },
    {
     "data": {
      "text/plain": [
       "upgrade_name\n",
       "Mininum Efficiency Whole Home Electrification                      0.00162\n",
       "Heat Pump Water Heater                                             0.00146\n",
       "Basic Enclosure                                                    0.00130\n",
       "Enhanced Enclosure                                                 0.00119\n",
       "Electric Cooking                                                   0.00096\n",
       "Mininum Efficiency Heat Pump with Electric Heat Backup             0.00075\n",
       "Basic Enclosure + HPWH + High Efficiency HP/Electric Backup        0.00065\n",
       "High Efficiency Whole Home Electrification                         0.00064\n",
       "Enhanced Enclosure + HPWH + High Efficiency HP/Electric Backup     0.00063\n",
       "Basic Enclosure + High Efficiency Whole Home Electrification       0.00062\n",
       "Enhanced Enclosure + High Efficiency Whole Home Electrification    0.00061\n",
       "Mininum Efficiency Heat Pump with Existing Heat Backup             0.00055\n",
       "Induction Cooking                                                  0.00049\n",
       "Heat Pump Clothes Dryer                                            0.00042\n",
       "High Efficiency Heat Pump with Electric Heat Backup                0.00040\n",
       "Electric Clothes Dryer                                             0.00023\n",
       "Name: saving_energy.total_mmbtu, dtype: float64"
      ]
     },
     "metadata": {},
     "output_type": "display_data"
    }
   ],
   "source": [
    "indicator = 'saving_energy.total_mmbtu'\n",
    "results = segment_savings_per_dollar(indicator, community_results) \n",
    "saving_results[f'segment1_{income}_saving_energy_per_dollar_invested_mmbtu'] = results[0]\n",
    "saving_results[f'segment2_{income}_saving_energy_per_dollar_invested_mmbtu'] = results[1]\n",
    "saving_results[f'segment3_{income}_saving_energy_per_dollar_invested_mmbtu'] = results[2]\n",
    "saving_results[f'segment4_{income}_saving_energy_per_dollar_invested_mmbtu'] = results[3]"
   ]
  },
  {
   "cell_type": "markdown",
   "id": "e547f174",
   "metadata": {},
   "source": [
    " ### Annual Emission Savings Per Dollar Invested"
   ]
  },
  {
   "cell_type": "code",
   "execution_count": 41,
   "id": "1434b69a",
   "metadata": {},
   "outputs": [
    {
     "name": "stdout",
     "output_type": "stream",
     "text": [
      "segment1\n"
     ]
    },
    {
     "data": {
      "text/plain": [
       "upgrade_name\n",
       "Heat Pump Water Heater                                             0.14488\n",
       "Mininum Efficiency Whole Home Electrification                      0.14130\n",
       "Electric Cooking                                                   0.08855\n",
       "Electric Clothes Dryer                                             0.05578\n",
       "Induction Cooking                                                  0.04812\n",
       "Basic Enclosure                                                    0.03350\n",
       "High Efficiency Whole Home Electrification                         0.03211\n",
       "Basic Enclosure + High Efficiency Whole Home Electrification       0.03064\n",
       "Enhanced Enclosure + High Efficiency Whole Home Electrification    0.02981\n",
       "Basic Enclosure + HPWH + High Efficiency HP/Electric Backup        0.02946\n",
       "Enhanced Enclosure + HPWH + High Efficiency HP/Electric Backup     0.02856\n",
       "Enhanced Enclosure                                                 0.02761\n",
       "Heat Pump Clothes Dryer                                            0.01172\n",
       "Mininum Efficiency Heat Pump with Electric Heat Backup             0.00659\n",
       "Mininum Efficiency Heat Pump with Existing Heat Backup             0.00454\n",
       "High Efficiency Heat Pump with Electric Heat Backup                0.00414\n",
       "Name: saving_emission.total_kgCO2e, dtype: float64"
      ]
     },
     "metadata": {},
     "output_type": "display_data"
    },
    {
     "name": "stdout",
     "output_type": "stream",
     "text": [
      "segment2\n"
     ]
    },
    {
     "data": {
      "text/plain": [
       "upgrade_name\n",
       "Mininum Efficiency Whole Home Electrification                      0.15484\n",
       "Heat Pump Water Heater                                             0.14403\n",
       "Electric Cooking                                                   0.09211\n",
       "Electric Clothes Dryer                                             0.04140\n",
       "Induction Cooking                                                  0.04035\n",
       "High Efficiency Whole Home Electrification                         0.02330\n",
       "Basic Enclosure + High Efficiency Whole Home Electrification       0.02278\n",
       "Enhanced Enclosure + High Efficiency Whole Home Electrification    0.02264\n",
       "Basic Enclosure + HPWH + High Efficiency HP/Electric Backup        0.02179\n",
       "Enhanced Enclosure + HPWH + High Efficiency HP/Electric Backup     0.02164\n",
       "Basic Enclosure                                                    0.00840\n",
       "Enhanced Enclosure                                                 0.00805\n",
       "Heat Pump Clothes Dryer                                            0.00609\n",
       "High Efficiency Heat Pump with Electric Heat Backup               -0.00090\n",
       "Mininum Efficiency Heat Pump with Existing Heat Backup            -0.00829\n",
       "Mininum Efficiency Heat Pump with Electric Heat Backup            -0.00895\n",
       "Name: saving_emission.total_kgCO2e, dtype: float64"
      ]
     },
     "metadata": {},
     "output_type": "display_data"
    },
    {
     "name": "stdout",
     "output_type": "stream",
     "text": [
      "segment3\n"
     ]
    },
    {
     "data": {
      "text/plain": [
       "upgrade_name\n",
       "Heat Pump Water Heater                                             0.25044\n",
       "Mininum Efficiency Whole Home Electrification                      0.15830\n",
       "Electric Cooking                                                   0.11835\n",
       "Electric Clothes Dryer                                             0.09488\n",
       "Mininum Efficiency Heat Pump with Electric Heat Backup             0.07578\n",
       "Basic Enclosure                                                    0.06315\n",
       "High Efficiency Whole Home Electrification                         0.05922\n",
       "Mininum Efficiency Heat Pump with Existing Heat Backup             0.05861\n",
       "Induction Cooking                                                  0.05852\n",
       "Enhanced Enclosure                                                 0.05339\n",
       "Basic Enclosure + HPWH + High Efficiency HP/Electric Backup        0.05242\n",
       "Basic Enclosure + High Efficiency Whole Home Electrification       0.05174\n",
       "Enhanced Enclosure + HPWH + High Efficiency HP/Electric Backup     0.04948\n",
       "Enhanced Enclosure + High Efficiency Whole Home Electrification    0.04912\n",
       "High Efficiency Heat Pump with Electric Heat Backup                0.03293\n",
       "Heat Pump Clothes Dryer                                            0.03274\n",
       "Name: saving_emission.total_kgCO2e, dtype: float64"
      ]
     },
     "metadata": {},
     "output_type": "display_data"
    },
    {
     "name": "stdout",
     "output_type": "stream",
     "text": [
      "segment4\n"
     ]
    },
    {
     "data": {
      "text/plain": [
       "upgrade_name\n",
       "Mininum Efficiency Whole Home Electrification                      0.14140\n",
       "Electric Cooking                                                   0.10516\n",
       "Heat Pump Water Heater                                             0.10069\n",
       "Basic Enclosure                                                    0.07685\n",
       "Enhanced Enclosure                                                 0.07089\n",
       "Mininum Efficiency Heat Pump with Electric Heat Backup             0.06734\n",
       "Mininum Efficiency Heat Pump with Existing Heat Backup             0.04994\n",
       "Electric Clothes Dryer                                             0.04957\n",
       "Induction Cooking                                                  0.04770\n",
       "High Efficiency Whole Home Electrification                         0.04321\n",
       "Basic Enclosure + HPWH + High Efficiency HP/Electric Backup        0.04096\n",
       "Enhanced Enclosure + HPWH + High Efficiency HP/Electric Backup     0.03996\n",
       "Basic Enclosure + High Efficiency Whole Home Electrification       0.03979\n",
       "Enhanced Enclosure + High Efficiency Whole Home Electrification    0.03893\n",
       "High Efficiency Heat Pump with Electric Heat Backup                0.02690\n",
       "Heat Pump Clothes Dryer                                            0.01395\n",
       "Name: saving_emission.total_kgCO2e, dtype: float64"
      ]
     },
     "metadata": {},
     "output_type": "display_data"
    }
   ],
   "source": [
    "indicator ='saving_emission.total_kgCO2e'\n",
    "results = segment_savings_per_dollar(indicator, community_results) \n",
    "saving_results[f'segment1_{income}_saving_emission_per_dollar_invested_kgCO2e'] = results[0]\n",
    "saving_results[f'segment2_{income}_saving_emission_per_dollar_invested_kgCO2e'] = results[1]\n",
    "saving_results[f'segment3_{income}_saving_emission_per_dollar_invested_kgCO2e'] = results[2]\n",
    "saving_results[f'segment4_{income}_saving_emission_per_dollar_invested_kgCO2e'] = results[3]"
   ]
  },
  {
   "cell_type": "markdown",
   "id": "dca98489",
   "metadata": {},
   "source": [
    "## 3.3 Annual Total Savings"
   ]
  },
  {
   "cell_type": "markdown",
   "id": "b549310c",
   "metadata": {},
   "source": [
    "### Annual Total Bill Savings"
   ]
  },
  {
   "cell_type": "code",
   "execution_count": 42,
   "id": "fdc30441",
   "metadata": {},
   "outputs": [
    {
     "name": "stdout",
     "output_type": "stream",
     "text": [
      "segment1\n"
     ]
    },
    {
     "data": {
      "text/plain": [
       "upgrade_name\n",
       "Enhanced Enclosure + High Efficiency Whole Home Electrification    1317222.3\n",
       "Basic Enclosure + High Efficiency Whole Home Electrification       1297974.0\n",
       "High Efficiency Whole Home Electrification                         1206899.1\n",
       "Enhanced Enclosure + HPWH + High Efficiency HP/Electric Backup     1146960.6\n",
       "Basic Enclosure + HPWH + High Efficiency HP/Electric Backup        1127712.3\n",
       "Heat Pump Water Heater                                              609558.0\n",
       "Mininum Efficiency Whole Home Electrification                       567005.8\n",
       "Enhanced Enclosure                                                  480078.0\n",
       "Basic Enclosure                                                     418183.1\n",
       "Heat Pump Clothes Dryer                                              65362.1\n",
       "Induction Cooking                                                    56041.8\n",
       "High Efficiency Heat Pump with Electric Heat Backup                  38219.1\n",
       "Electric Cooking                                                     21206.6\n",
       "Electric Clothes Dryer                                               -8093.9\n",
       "Mininum Efficiency Heat Pump with Electric Heat Backup             -549855.0\n",
       "Mininum Efficiency Heat Pump with Existing Heat Backup             -555646.5\n",
       "Name: saving_cbill.total_usd, dtype: float64"
      ]
     },
     "metadata": {},
     "output_type": "display_data"
    },
    {
     "name": "stdout",
     "output_type": "stream",
     "text": [
      "segment2\n"
     ]
    },
    {
     "data": {
      "text/plain": [
       "upgrade_name\n",
       "Enhanced Enclosure + High Efficiency Whole Home Electrification    1962260.2\n",
       "Basic Enclosure + High Efficiency Whole Home Electrification       1951297.4\n",
       "High Efficiency Whole Home Electrification                         1910640.7\n",
       "Enhanced Enclosure + HPWH + High Efficiency HP/Electric Backup     1721736.9\n",
       "Basic Enclosure + HPWH + High Efficiency HP/Electric Backup        1710774.1\n",
       "Heat Pump Water Heater                                             1584874.4\n",
       "Mininum Efficiency Whole Home Electrification                      1098831.3\n",
       "Heat Pump Clothes Dryer                                             107071.9\n",
       "Induction Cooking                                                    97775.9\n",
       "Enhanced Enclosure                                                   73249.4\n",
       "Basic Enclosure                                                      64025.4\n",
       "Electric Cooking                                                     47645.2\n",
       "Electric Clothes Dryer                                               -2653.7\n",
       "High Efficiency Heat Pump with Electric Heat Backup                -309269.5\n",
       "Mininum Efficiency Heat Pump with Electric Heat Backup            -1094197.2\n",
       "Mininum Efficiency Heat Pump with Existing Heat Backup            -1095781.3\n",
       "Name: saving_cbill.total_usd, dtype: float64"
      ]
     },
     "metadata": {},
     "output_type": "display_data"
    },
    {
     "name": "stdout",
     "output_type": "stream",
     "text": [
      "segment3\n"
     ]
    },
    {
     "data": {
      "text/plain": [
       "upgrade_name\n",
       "Enhanced Enclosure + High Efficiency Whole Home Electrification    7453864.0\n",
       "Basic Enclosure + High Efficiency Whole Home Electrification       7400811.1\n",
       "Enhanced Enclosure + HPWH + High Efficiency HP/Electric Backup     6880001.3\n",
       "Basic Enclosure + HPWH + High Efficiency HP/Electric Backup        6826948.4\n",
       "High Efficiency Whole Home Electrification                         6159055.0\n",
       "Enhanced Enclosure                                                 4113297.3\n",
       "Basic Enclosure                                                    3844894.9\n",
       "High Efficiency Heat Pump with Electric Heat Backup                2757981.9\n",
       "Mininum Efficiency Whole Home Electrification                      2623276.9\n",
       "Heat Pump Water Heater                                             2225248.3\n",
       "Heat Pump Clothes Dryer                                             403070.3\n",
       "Mininum Efficiency Heat Pump with Electric Heat Backup              185812.8\n",
       "Induction Cooking                                                    99582.3\n",
       "Mininum Efficiency Heat Pump with Existing Heat Backup               66561.0\n",
       "Electric Cooking                                                     33102.8\n",
       "Electric Clothes Dryer                                             -133614.6\n",
       "Name: saving_cbill.total_usd, dtype: float64"
      ]
     },
     "metadata": {},
     "output_type": "display_data"
    },
    {
     "name": "stdout",
     "output_type": "stream",
     "text": [
      "segment4\n"
     ]
    },
    {
     "data": {
      "text/plain": [
       "upgrade_name\n",
       "Enhanced Enclosure + High Efficiency Whole Home Electrification    929489.4\n",
       "Basic Enclosure + High Efficiency Whole Home Electrification       922797.1\n",
       "Enhanced Enclosure + HPWH + High Efficiency HP/Electric Backup     847653.1\n",
       "Basic Enclosure + HPWH + High Efficiency HP/Electric Backup        840960.8\n",
       "High Efficiency Whole Home Electrification                         796405.9\n",
       "High Efficiency Heat Pump with Electric Heat Backup                371378.8\n",
       "Enhanced Enclosure                                                 364110.4\n",
       "Basic Enclosure                                                    336021.8\n",
       "Mininum Efficiency Whole Home Electrification                      273795.8\n",
       "Heat Pump Water Heater                                             160480.3\n",
       "Mininum Efficiency Heat Pump with Electric Heat Backup             119887.0\n",
       "Mininum Efficiency Heat Pump with Existing Heat Backup             108790.1\n",
       "Heat Pump Clothes Dryer                                             57375.2\n",
       "Induction Cooking                                                   14831.5\n",
       "Electric Cooking                                                     2880.3\n",
       "Electric Clothes Dryer                                              -5039.8\n",
       "Name: saving_cbill.total_usd, dtype: float64"
      ]
     },
     "metadata": {},
     "output_type": "display_data"
    }
   ],
   "source": [
    "indicator ='saving_cbill.total_usd'\n",
    "results = segment_annual_total_savings(indicator, community_results)\n",
    "saving_results[f'segment1_{income}_saving_bill_total_usd'] = results[0]\n",
    "saving_results[f'segment2_{income}_saving_bill_total_usd'] = results[1]\n",
    "saving_results[f'segment3_{income}_saving_bill_total_usd'] = results[2]\n",
    "saving_results[f'segment4_{income}_saving_bill_total_usd'] = results[3]"
   ]
  },
  {
   "cell_type": "markdown",
   "id": "394241c1",
   "metadata": {},
   "source": [
    "### Annual Total Energy Savings"
   ]
  },
  {
   "cell_type": "code",
   "execution_count": 43,
   "id": "8d5c8c52",
   "metadata": {},
   "outputs": [
    {
     "name": "stdout",
     "output_type": "stream",
     "text": [
      "segment1\n"
     ]
    },
    {
     "data": {
      "text/plain": [
       "upgrade_name\n",
       "Enhanced Enclosure + High Efficiency Whole Home Electrification    77312.1\n",
       "Basic Enclosure + High Efficiency Whole Home Electrification       76870.4\n",
       "High Efficiency Whole Home Electrification                         74780.2\n",
       "Enhanced Enclosure + HPWH + High Efficiency HP/Electric Backup     66942.1\n",
       "Basic Enclosure + HPWH + High Efficiency HP/Electric Backup        66500.5\n",
       "Mininum Efficiency Whole Home Electrification                      60094.8\n",
       "Heat Pump Water Heater                                             45893.8\n",
       "Enhanced Enclosure                                                 14834.1\n",
       "Basic Enclosure                                                    13012.5\n",
       "Induction Cooking                                                   8528.1\n",
       "Electric Cooking                                                    7728.6\n",
       "High Efficiency Heat Pump with Electric Heat Backup                 4827.5\n",
       "Heat Pump Clothes Dryer                                             1841.8\n",
       "Electric Clothes Dryer                                               156.0\n",
       "Mininum Efficiency Heat Pump with Electric Heat Backup             -8665.2\n",
       "Mininum Efficiency Heat Pump with Existing Heat Backup             -9090.4\n",
       "Name: saving_energy.total_mmbtu, dtype: float64"
      ]
     },
     "metadata": {},
     "output_type": "display_data"
    },
    {
     "name": "stdout",
     "output_type": "stream",
     "text": [
      "segment2\n"
     ]
    },
    {
     "data": {
      "text/plain": [
       "upgrade_name\n",
       "Enhanced Enclosure + High Efficiency Whole Home Electrification    96478.0\n",
       "Basic Enclosure + High Efficiency Whole Home Electrification       96226.4\n",
       "High Efficiency Whole Home Electrification                         95293.4\n",
       "Enhanced Enclosure + HPWH + High Efficiency HP/Electric Backup     83782.9\n",
       "Basic Enclosure + HPWH + High Efficiency HP/Electric Backup        83531.3\n",
       "Heat Pump Water Heater                                             78687.2\n",
       "Mininum Efficiency Whole Home Electrification                      76662.2\n",
       "Induction Cooking                                                  10125.6\n",
       "Electric Cooking                                                    8975.3\n",
       "Heat Pump Clothes Dryer                                             2569.5\n",
       "Enhanced Enclosure                                                  2201.0\n",
       "Basic Enclosure                                                     1905.5\n",
       "Electric Clothes Dryer                                                51.4\n",
       "High Efficiency Heat Pump with Electric Heat Backup                -8039.8\n",
       "Mininum Efficiency Heat Pump with Electric Heat Backup            -26040.2\n",
       "Mininum Efficiency Heat Pump with Existing Heat Backup            -26303.9\n",
       "Name: saving_energy.total_mmbtu, dtype: float64"
      ]
     },
     "metadata": {},
     "output_type": "display_data"
    },
    {
     "name": "stdout",
     "output_type": "stream",
     "text": [
      "segment3\n"
     ]
    },
    {
     "data": {
      "text/plain": [
       "upgrade_name\n",
       "Enhanced Enclosure + High Efficiency Whole Home Electrification    364543.7\n",
       "Basic Enclosure + High Efficiency Whole Home Electrification       363326.1\n",
       "High Efficiency Whole Home Electrification                         334828.3\n",
       "Enhanced Enclosure + HPWH + High Efficiency HP/Electric Backup     334231.9\n",
       "Basic Enclosure + HPWH + High Efficiency HP/Electric Backup        333014.3\n",
       "Mininum Efficiency Whole Home Electrification                      253683.8\n",
       "Enhanced Enclosure                                                 154356.8\n",
       "High Efficiency Heat Pump with Electric Heat Backup                145702.8\n",
       "Basic Enclosure                                                    144071.4\n",
       "Heat Pump Water Heater                                             135292.1\n",
       "Mininum Efficiency Heat Pump with Electric Heat Backup              86685.6\n",
       "Mininum Efficiency Heat Pump with Existing Heat Backup              77057.2\n",
       "Induction Cooking                                                   15412.4\n",
       "Heat Pump Clothes Dryer                                             14899.4\n",
       "Electric Cooking                                                    13886.8\n",
       "Electric Clothes Dryer                                               2582.7\n",
       "Name: saving_energy.total_mmbtu, dtype: float64"
      ]
     },
     "metadata": {},
     "output_type": "display_data"
    },
    {
     "name": "stdout",
     "output_type": "stream",
     "text": [
      "segment4\n"
     ]
    },
    {
     "data": {
      "text/plain": [
       "upgrade_name\n",
       "Enhanced Enclosure + High Efficiency Whole Home Electrification    39406.2\n",
       "Basic Enclosure + High Efficiency Whole Home Electrification       39252.7\n",
       "High Efficiency Whole Home Electrification                         36352.0\n",
       "Enhanced Enclosure + HPWH + High Efficiency HP/Electric Backup     36005.5\n",
       "Basic Enclosure + HPWH + High Efficiency HP/Electric Backup        35851.9\n",
       "Mininum Efficiency Whole Home Electrification                      24358.4\n",
       "High Efficiency Heat Pump with Electric Heat Backup                17193.7\n",
       "Enhanced Enclosure                                                 14260.5\n",
       "Basic Enclosure                                                    13045.3\n",
       "Mininum Efficiency Heat Pump with Electric Heat Backup             11423.1\n",
       "Mininum Efficiency Heat Pump with Existing Heat Backup             10365.8\n",
       "Heat Pump Water Heater                                              8065.3\n",
       "Induction Cooking                                                   1871.3\n",
       "Electric Cooking                                                    1597.2\n",
       "Heat Pump Clothes Dryer                                             1529.5\n",
       "Electric Clothes Dryer                                                97.1\n",
       "Name: saving_energy.total_mmbtu, dtype: float64"
      ]
     },
     "metadata": {},
     "output_type": "display_data"
    }
   ],
   "source": [
    "indicator ='saving_energy.total_mmbtu'\n",
    "results = segment_annual_total_savings(indicator, community_results)\n",
    "saving_results[f'segment1_{income}_saving_energy_total_mmbtu'] = results[0]\n",
    "saving_results[f'segment2_{income}_saving_energy_total_mmbtu'] = results[1]\n",
    "saving_results[f'segment3_{income}_saving_energy_total_mmbtu'] = results[2]\n",
    "saving_results[f'segment4_{income}_saving_energy_total_mmbtu'] = results[3]"
   ]
  },
  {
   "cell_type": "markdown",
   "id": "5763f90a",
   "metadata": {},
   "source": [
    "### Annual Total Emission Savings"
   ]
  },
  {
   "cell_type": "code",
   "execution_count": 44,
   "id": "f1023e8a",
   "metadata": {},
   "outputs": [
    {
     "name": "stdout",
     "output_type": "stream",
     "text": [
      "segment1\n"
     ]
    },
    {
     "data": {
      "text/plain": [
       "upgrade_name\n",
       "Enhanced Enclosure + High Efficiency Whole Home Electrification    5885543.0\n",
       "Basic Enclosure + High Efficiency Whole Home Electrification       5875420.6\n",
       "High Efficiency Whole Home Electrification                         5822326.4\n",
       "Mininum Efficiency Whole Home Electrification                      5406183.0\n",
       "Enhanced Enclosure + HPWH + High Efficiency HP/Electric Backup     4974815.5\n",
       "Basic Enclosure + HPWH + High Efficiency HP/Electric Backup        4964693.1\n",
       "Heat Pump Water Heater                                             3646539.0\n",
       "Induction Cooking                                                   843533.3\n",
       "Electric Cooking                                                    826773.7\n",
       "Enhanced Enclosure                                                  707376.5\n",
       "Basic Enclosure                                                     625057.2\n",
       "High Efficiency Heat Pump with Electric Heat Backup                 549736.2\n",
       "Mininum Efficiency Heat Pump with Electric Heat Backup              263306.0\n",
       "Mininum Efficiency Heat Pump with Existing Heat Backup              229672.7\n",
       "Heat Pump Clothes Dryer                                              67194.2\n",
       "Electric Clothes Dryer                                               34977.9\n",
       "Name: saving_emission.total_kgCO2e, dtype: float64"
      ]
     },
     "metadata": {},
     "output_type": "display_data"
    },
    {
     "name": "stdout",
     "output_type": "stream",
     "text": [
      "segment2\n"
     ]
    },
    {
     "data": {
      "text/plain": [
       "upgrade_name\n",
       "Enhanced Enclosure + High Efficiency Whole Home Electrification    6687699.2\n",
       "Basic Enclosure + High Efficiency Whole Home Electrification       6684066.8\n",
       "High Efficiency Whole Home Electrification                         6663327.7\n",
       "Mininum Efficiency Whole Home Electrification                      6203179.3\n",
       "Enhanced Enclosure + HPWH + High Efficiency HP/Electric Backup     5645632.8\n",
       "Basic Enclosure + HPWH + High Efficiency HP/Electric Backup        5642000.4\n",
       "Heat Pump Water Heater                                             5304897.1\n",
       "Induction Cooking                                                   980202.0\n",
       "Electric Cooking                                                    956104.0\n",
       "Enhanced Enclosure                                                   96609.8\n",
       "Basic Enclosure                                                      83741.4\n",
       "Heat Pump Clothes Dryer                                              61864.4\n",
       "Electric Clothes Dryer                                               11423.0\n",
       "High Efficiency Heat Pump with Electric Heat Backup                -193421.9\n",
       "Mininum Efficiency Heat Pump with Electric Heat Backup             -589549.9\n",
       "Mininum Efficiency Heat Pump with Existing Heat Backup             -614191.9\n",
       "Name: saving_emission.total_kgCO2e, dtype: float64"
      ]
     },
     "metadata": {},
     "output_type": "display_data"
    },
    {
     "name": "stdout",
     "output_type": "stream",
     "text": [
      "segment3\n"
     ]
    },
    {
     "data": {
      "text/plain": [
       "upgrade_name\n",
       "Enhanced Enclosure + High Efficiency Whole Home Electrification    25443091.4\n",
       "Basic Enclosure + High Efficiency Whole Home Electrification       25410758.5\n",
       "High Efficiency Whole Home Electrification                         24745510.4\n",
       "Enhanced Enclosure + HPWH + High Efficiency HP/Electric Backup     23117982.7\n",
       "Basic Enclosure + HPWH + High Efficiency HP/Electric Backup        23085649.8\n",
       "Mininum Efficiency Whole Home Electrification                      22566191.9\n",
       "High Efficiency Heat Pump with Electric Heat Backup                10735561.9\n",
       "Heat Pump Water Heater                                             10305526.4\n",
       "Mininum Efficiency Heat Pump with Electric Heat Backup              9397301.2\n",
       "Enhanced Enclosure                                                  8864240.9\n",
       "Mininum Efficiency Heat Pump with Existing Heat Backup              8626515.1\n",
       "Basic Enclosure                                                     8260037.8\n",
       "Induction Cooking                                                   1509804.9\n",
       "Electric Cooking                                                    1478007.5\n",
       "Heat Pump Clothes Dryer                                              815303.8\n",
       "Electric Clothes Dryer                                               571468.0\n",
       "Name: saving_emission.total_kgCO2e, dtype: float64"
      ]
     },
     "metadata": {},
     "output_type": "display_data"
    },
    {
     "name": "stdout",
     "output_type": "stream",
     "text": [
      "segment4\n"
     ]
    },
    {
     "data": {
      "text/plain": [
       "upgrade_name\n",
       "Enhanced Enclosure + High Efficiency Whole Home Electrification    2509851.2\n",
       "Basic Enclosure + High Efficiency Whole Home Electrification       2505156.3\n",
       "High Efficiency Whole Home Electrification                         2437782.2\n",
       "Enhanced Enclosure + HPWH + High Efficiency HP/Electric Backup     2277143.2\n",
       "Basic Enclosure + HPWH + High Efficiency HP/Electric Backup        2272448.3\n",
       "Mininum Efficiency Whole Home Electrification                      2130008.3\n",
       "High Efficiency Heat Pump with Electric Heat Backup                1167744.1\n",
       "Mininum Efficiency Heat Pump with Electric Heat Backup             1029803.4\n",
       "Mininum Efficiency Heat Pump with Existing Heat Backup              941238.5\n",
       "Enhanced Enclosure                                                  847495.5\n",
       "Basic Enclosure                                                     770235.2\n",
       "Heat Pump Water Heater                                              555681.4\n",
       "Induction Cooking                                                   181382.3\n",
       "Electric Cooking                                                    174887.6\n",
       "Heat Pump Clothes Dryer                                              51325.7\n",
       "Electric Clothes Dryer                                               20517.0\n",
       "Name: saving_emission.total_kgCO2e, dtype: float64"
      ]
     },
     "metadata": {},
     "output_type": "display_data"
    },
    {
     "name": "stderr",
     "output_type": "stream",
     "text": [
      "/var/folders/zw/lhnn73fj2250g9z11h_whq1szkf2pm/T/ipykernel_53214/3926536263.py:6: PerformanceWarning:\n",
      "\n",
      "DataFrame is highly fragmented.  This is usually the result of calling `frame.insert` many times, which has poor performance.  Consider joining all columns at once using pd.concat(axis=1) instead. To get a de-fragmented frame, use `newframe = frame.copy()`\n",
      "\n"
     ]
    }
   ],
   "source": [
    "indicator ='saving_emission.total_kgCO2e'\n",
    "results = segment_annual_total_savings(indicator, community_results)\n",
    "saving_results[f'segment1_{income}_saving_emission_total_kgCO2e'] = results[0]\n",
    "saving_results[f'segment2_{income}_saving_emission_total_kgCO2e'] = results[1]\n",
    "saving_results[f'segment3_{income}_saving_emission_total_kgCO2e'] = results[2]\n",
    "saving_results[f'segment4_{income}_saving_emission_total_kgCO2e'] = results[3]"
   ]
  },
  {
   "cell_type": "markdown",
   "id": "563da3e8",
   "metadata": {},
   "source": [
    "## 3.4 Annual Savings Per Dwelling Unit"
   ]
  },
  {
   "cell_type": "markdown",
   "id": "cc8ea738",
   "metadata": {},
   "source": [
    "### Annual Bill Savings Per Dwelling Unit"
   ]
  },
  {
   "cell_type": "code",
   "execution_count": 45,
   "id": "82aded52",
   "metadata": {},
   "outputs": [
    {
     "name": "stdout",
     "output_type": "stream",
     "text": [
      "segment1\n"
     ]
    },
    {
     "data": {
      "text/plain": [
       "upgrade_name\n",
       "Enhanced Enclosure + High Efficiency Whole Home Electrification    193.3\n",
       "Basic Enclosure + High Efficiency Whole Home Electrification       190.5\n",
       "High Efficiency Whole Home Electrification                         177.1\n",
       "Enhanced Enclosure + HPWH + High Efficiency HP/Electric Backup     168.3\n",
       "Basic Enclosure + HPWH + High Efficiency HP/Electric Backup        165.5\n",
       "Heat Pump Water Heater                                              91.1\n",
       "Mininum Efficiency Whole Home Electrification                       87.6\n",
       "Enhanced Enclosure                                                  70.5\n",
       "Basic Enclosure                                                     62.5\n",
       "Heat Pump Clothes Dryer                                             28.6\n",
       "Induction Cooking                                                    8.3\n",
       "High Efficiency Heat Pump with Electric Heat Backup                  5.6\n",
       "Electric Cooking                                                     3.9\n",
       "Electric Clothes Dryer                                             -21.8\n",
       "Mininum Efficiency Heat Pump with Electric Heat Backup             -80.7\n",
       "Mininum Efficiency Heat Pump with Existing Heat Backup             -81.5\n",
       "Name: saving_cbill.total_usd, dtype: float64"
      ]
     },
     "metadata": {},
     "output_type": "display_data"
    },
    {
     "name": "stdout",
     "output_type": "stream",
     "text": [
      "segment2\n"
     ]
    },
    {
     "data": {
      "text/plain": [
       "upgrade_name\n",
       "Enhanced Enclosure + High Efficiency Whole Home Electrification    201.4\n",
       "Basic Enclosure + High Efficiency Whole Home Electrification       200.3\n",
       "High Efficiency Whole Home Electrification                         196.1\n",
       "Enhanced Enclosure + HPWH + High Efficiency HP/Electric Backup     176.7\n",
       "Basic Enclosure + HPWH + High Efficiency HP/Electric Backup        175.6\n",
       "Heat Pump Water Heater                                             162.7\n",
       "Mininum Efficiency Whole Home Electrification                      120.3\n",
       "Heat Pump Clothes Dryer                                             26.4\n",
       "Induction Cooking                                                   10.4\n",
       "Enhanced Enclosure                                                   9.4\n",
       "Basic Enclosure                                                      8.2\n",
       "Electric Cooking                                                     7.8\n",
       "Electric Clothes Dryer                                             -16.3\n",
       "High Efficiency Heat Pump with Electric Heat Backup                -31.7\n",
       "Mininum Efficiency Heat Pump with Electric Heat Backup            -112.3\n",
       "Mininum Efficiency Heat Pump with Existing Heat Backup            -112.5\n",
       "Name: saving_cbill.total_usd, dtype: float64"
      ]
     },
     "metadata": {},
     "output_type": "display_data"
    },
    {
     "name": "stdout",
     "output_type": "stream",
     "text": [
      "segment3\n"
     ]
    },
    {
     "data": {
      "text/plain": [
       "upgrade_name\n",
       "Enhanced Enclosure + High Efficiency Whole Home Electrification    738.3\n",
       "Basic Enclosure + High Efficiency Whole Home Electrification       733.1\n",
       "Enhanced Enclosure + HPWH + High Efficiency HP/Electric Backup     681.5\n",
       "Basic Enclosure + HPWH + High Efficiency HP/Electric Backup        676.2\n",
       "High Efficiency Whole Home Electrification                         610.1\n",
       "Enhanced Enclosure                                                 407.4\n",
       "Basic Enclosure                                                    380.8\n",
       "High Efficiency Heat Pump with Electric Heat Backup                273.2\n",
       "Mininum Efficiency Whole Home Electrification                      266.3\n",
       "Heat Pump Water Heater                                             220.4\n",
       "Heat Pump Clothes Dryer                                             40.6\n",
       "Mininum Efficiency Heat Pump with Electric Heat Backup              18.4\n",
       "Induction Cooking                                                   10.0\n",
       "Mininum Efficiency Heat Pump with Existing Heat Backup               6.6\n",
       "Electric Cooking                                                     4.5\n",
       "Electric Clothes Dryer                                             -37.5\n",
       "Name: saving_cbill.total_usd, dtype: float64"
      ]
     },
     "metadata": {},
     "output_type": "display_data"
    },
    {
     "name": "stdout",
     "output_type": "stream",
     "text": [
      "segment4\n"
     ]
    },
    {
     "data": {
      "text/plain": [
       "upgrade_name\n",
       "Enhanced Enclosure + High Efficiency Whole Home Electrification    633.4\n",
       "Basic Enclosure + High Efficiency Whole Home Electrification       628.9\n",
       "Enhanced Enclosure + HPWH + High Efficiency HP/Electric Backup     577.7\n",
       "Basic Enclosure + HPWH + High Efficiency HP/Electric Backup        573.1\n",
       "High Efficiency Whole Home Electrification                         542.7\n",
       "High Efficiency Heat Pump with Electric Heat Backup                253.1\n",
       "Enhanced Enclosure                                                 248.1\n",
       "Basic Enclosure                                                    229.0\n",
       "Mininum Efficiency Whole Home Electrification                      223.9\n",
       "Heat Pump Water Heater                                             109.4\n",
       "Mininum Efficiency Heat Pump with Electric Heat Backup              81.7\n",
       "Mininum Efficiency Heat Pump with Existing Heat Backup              74.1\n",
       "Heat Pump Clothes Dryer                                             39.1\n",
       "Induction Cooking                                                   10.1\n",
       "Electric Cooking                                                     2.9\n",
       "Electric Clothes Dryer                                             -20.6\n",
       "Name: saving_cbill.total_usd, dtype: float64"
      ]
     },
     "metadata": {},
     "output_type": "display_data"
    },
    {
     "name": "stderr",
     "output_type": "stream",
     "text": [
      "/var/folders/zw/lhnn73fj2250g9z11h_whq1szkf2pm/T/ipykernel_53214/3071005957.py:3: PerformanceWarning:\n",
      "\n",
      "DataFrame is highly fragmented.  This is usually the result of calling `frame.insert` many times, which has poor performance.  Consider joining all columns at once using pd.concat(axis=1) instead. To get a de-fragmented frame, use `newframe = frame.copy()`\n",
      "\n",
      "/var/folders/zw/lhnn73fj2250g9z11h_whq1szkf2pm/T/ipykernel_53214/3071005957.py:4: PerformanceWarning:\n",
      "\n",
      "DataFrame is highly fragmented.  This is usually the result of calling `frame.insert` many times, which has poor performance.  Consider joining all columns at once using pd.concat(axis=1) instead. To get a de-fragmented frame, use `newframe = frame.copy()`\n",
      "\n",
      "/var/folders/zw/lhnn73fj2250g9z11h_whq1szkf2pm/T/ipykernel_53214/3071005957.py:5: PerformanceWarning:\n",
      "\n",
      "DataFrame is highly fragmented.  This is usually the result of calling `frame.insert` many times, which has poor performance.  Consider joining all columns at once using pd.concat(axis=1) instead. To get a de-fragmented frame, use `newframe = frame.copy()`\n",
      "\n",
      "/var/folders/zw/lhnn73fj2250g9z11h_whq1szkf2pm/T/ipykernel_53214/3071005957.py:6: PerformanceWarning:\n",
      "\n",
      "DataFrame is highly fragmented.  This is usually the result of calling `frame.insert` many times, which has poor performance.  Consider joining all columns at once using pd.concat(axis=1) instead. To get a de-fragmented frame, use `newframe = frame.copy()`\n",
      "\n"
     ]
    }
   ],
   "source": [
    "indicator ='saving_cbill.total_usd'\n",
    "results = segment_mean_savings(indicator, community_results)\n",
    "saving_results[f'segment1_{income}_saving_bill_mean_usd'] = results[0]\n",
    "saving_results[f'segment2_{income}_saving_bill_mean_usd'] = results[1]\n",
    "saving_results[f'segment3_{income}_saving_bill_mean_usd'] = results[2]\n",
    "saving_results[f'segment4_{income}_saving_bill_mean_usd'] = results[3]"
   ]
  },
  {
   "cell_type": "markdown",
   "id": "7b3bbdc3",
   "metadata": {},
   "source": [
    "### Annual Energy Savings Per Dwelling Unit"
   ]
  },
  {
   "cell_type": "code",
   "execution_count": 46,
   "id": "d554f5e1",
   "metadata": {},
   "outputs": [
    {
     "name": "stdout",
     "output_type": "stream",
     "text": [
      "segment1\n"
     ]
    },
    {
     "data": {
      "text/plain": [
       "upgrade_name\n",
       "Enhanced Enclosure + High Efficiency Whole Home Electrification    11.3\n",
       "Basic Enclosure + High Efficiency Whole Home Electrification       11.3\n",
       "High Efficiency Whole Home Electrification                         11.0\n",
       "Enhanced Enclosure + HPWH + High Efficiency HP/Electric Backup      9.8\n",
       "Basic Enclosure + HPWH + High Efficiency HP/Electric Backup         9.8\n",
       "Mininum Efficiency Whole Home Electrification                       9.3\n",
       "Heat Pump Water Heater                                              6.9\n",
       "Enhanced Enclosure                                                  2.2\n",
       "Basic Enclosure                                                     1.9\n",
       "Electric Cooking                                                    1.4\n",
       "Induction Cooking                                                   1.3\n",
       "Heat Pump Clothes Dryer                                             0.8\n",
       "High Efficiency Heat Pump with Electric Heat Backup                 0.7\n",
       "Electric Clothes Dryer                                              0.4\n",
       "Mininum Efficiency Heat Pump with Electric Heat Backup             -1.3\n",
       "Mininum Efficiency Heat Pump with Existing Heat Backup             -1.3\n",
       "Name: saving_energy.total_mmbtu, dtype: float64"
      ]
     },
     "metadata": {},
     "output_type": "display_data"
    },
    {
     "name": "stdout",
     "output_type": "stream",
     "text": [
      "segment2\n"
     ]
    },
    {
     "data": {
      "text/plain": [
       "upgrade_name\n",
       "Enhanced Enclosure + High Efficiency Whole Home Electrification    9.9\n",
       "Basic Enclosure + High Efficiency Whole Home Electrification       9.9\n",
       "High Efficiency Whole Home Electrification                         9.8\n",
       "Enhanced Enclosure + HPWH + High Efficiency HP/Electric Backup     8.6\n",
       "Basic Enclosure + HPWH + High Efficiency HP/Electric Backup        8.6\n",
       "Mininum Efficiency Whole Home Electrification                      8.4\n",
       "Heat Pump Water Heater                                             8.1\n",
       "Electric Cooking                                                   1.5\n",
       "Induction Cooking                                                  1.1\n",
       "Heat Pump Clothes Dryer                                            0.6\n",
       "Electric Clothes Dryer                                             0.3\n",
       "Enhanced Enclosure                                                 0.3\n",
       "Basic Enclosure                                                    0.2\n",
       "High Efficiency Heat Pump with Electric Heat Backup               -0.8\n",
       "Mininum Efficiency Heat Pump with Electric Heat Backup            -2.7\n",
       "Mininum Efficiency Heat Pump with Existing Heat Backup            -2.7\n",
       "Name: saving_energy.total_mmbtu, dtype: float64"
      ]
     },
     "metadata": {},
     "output_type": "display_data"
    },
    {
     "name": "stdout",
     "output_type": "stream",
     "text": [
      "segment3\n"
     ]
    },
    {
     "data": {
      "text/plain": [
       "upgrade_name\n",
       "Enhanced Enclosure + High Efficiency Whole Home Electrification    36.1\n",
       "Basic Enclosure + High Efficiency Whole Home Electrification       36.0\n",
       "High Efficiency Whole Home Electrification                         33.2\n",
       "Enhanced Enclosure + HPWH + High Efficiency HP/Electric Backup     33.1\n",
       "Basic Enclosure + HPWH + High Efficiency HP/Electric Backup        33.0\n",
       "Mininum Efficiency Whole Home Electrification                      25.8\n",
       "Enhanced Enclosure                                                 15.3\n",
       "High Efficiency Heat Pump with Electric Heat Backup                14.4\n",
       "Basic Enclosure                                                    14.3\n",
       "Heat Pump Water Heater                                             13.4\n",
       "Mininum Efficiency Heat Pump with Electric Heat Backup              8.6\n",
       "Mininum Efficiency Heat Pump with Existing Heat Backup              7.6\n",
       "Electric Cooking                                                    1.9\n",
       "Induction Cooking                                                   1.5\n",
       "Heat Pump Clothes Dryer                                             1.5\n",
       "Electric Clothes Dryer                                              0.7\n",
       "Name: saving_energy.total_mmbtu, dtype: float64"
      ]
     },
     "metadata": {},
     "output_type": "display_data"
    },
    {
     "name": "stdout",
     "output_type": "stream",
     "text": [
      "segment4\n"
     ]
    },
    {
     "data": {
      "text/plain": [
       "upgrade_name\n",
       "Enhanced Enclosure + High Efficiency Whole Home Electrification    26.9\n",
       "Basic Enclosure + High Efficiency Whole Home Electrification       26.8\n",
       "High Efficiency Whole Home Electrification                         24.8\n",
       "Enhanced Enclosure + HPWH + High Efficiency HP/Electric Backup     24.5\n",
       "Basic Enclosure + HPWH + High Efficiency HP/Electric Backup        24.4\n",
       "Mininum Efficiency Whole Home Electrification                      19.9\n",
       "High Efficiency Heat Pump with Electric Heat Backup                11.7\n",
       "Enhanced Enclosure                                                  9.7\n",
       "Basic Enclosure                                                     8.9\n",
       "Mininum Efficiency Heat Pump with Electric Heat Backup              7.8\n",
       "Mininum Efficiency Heat Pump with Existing Heat Backup              7.1\n",
       "Heat Pump Water Heater                                              5.5\n",
       "Electric Cooking                                                    1.6\n",
       "Induction Cooking                                                   1.3\n",
       "Heat Pump Clothes Dryer                                             1.0\n",
       "Electric Clothes Dryer                                              0.4\n",
       "Name: saving_energy.total_mmbtu, dtype: float64"
      ]
     },
     "metadata": {},
     "output_type": "display_data"
    },
    {
     "name": "stderr",
     "output_type": "stream",
     "text": [
      "/var/folders/zw/lhnn73fj2250g9z11h_whq1szkf2pm/T/ipykernel_53214/396568384.py:3: PerformanceWarning:\n",
      "\n",
      "DataFrame is highly fragmented.  This is usually the result of calling `frame.insert` many times, which has poor performance.  Consider joining all columns at once using pd.concat(axis=1) instead. To get a de-fragmented frame, use `newframe = frame.copy()`\n",
      "\n",
      "/var/folders/zw/lhnn73fj2250g9z11h_whq1szkf2pm/T/ipykernel_53214/396568384.py:4: PerformanceWarning:\n",
      "\n",
      "DataFrame is highly fragmented.  This is usually the result of calling `frame.insert` many times, which has poor performance.  Consider joining all columns at once using pd.concat(axis=1) instead. To get a de-fragmented frame, use `newframe = frame.copy()`\n",
      "\n",
      "/var/folders/zw/lhnn73fj2250g9z11h_whq1szkf2pm/T/ipykernel_53214/396568384.py:5: PerformanceWarning:\n",
      "\n",
      "DataFrame is highly fragmented.  This is usually the result of calling `frame.insert` many times, which has poor performance.  Consider joining all columns at once using pd.concat(axis=1) instead. To get a de-fragmented frame, use `newframe = frame.copy()`\n",
      "\n",
      "/var/folders/zw/lhnn73fj2250g9z11h_whq1szkf2pm/T/ipykernel_53214/396568384.py:6: PerformanceWarning:\n",
      "\n",
      "DataFrame is highly fragmented.  This is usually the result of calling `frame.insert` many times, which has poor performance.  Consider joining all columns at once using pd.concat(axis=1) instead. To get a de-fragmented frame, use `newframe = frame.copy()`\n",
      "\n"
     ]
    }
   ],
   "source": [
    "indicator ='saving_energy.total_mmbtu'\n",
    "results = segment_mean_savings(indicator, community_results) \n",
    "saving_results[f'segment1_{income}_saving_energy_mean_mmbtu'] = results[0]\n",
    "saving_results[f'segment2_{income}_saving_energy_mean_mmbtu'] = results[1]\n",
    "saving_results[f'segment3_{income}_saving_energy_mean_mmbtu'] = results[2]\n",
    "saving_results[f'segment4_{income}_saving_energy_mean_mmbtu'] = results[3]"
   ]
  },
  {
   "cell_type": "markdown",
   "id": "1df2744e",
   "metadata": {},
   "source": [
    "### Annual Percentage Energy Savings Per Dwelling Unit"
   ]
  },
  {
   "cell_type": "code",
   "execution_count": 47,
   "id": "75fce0ec",
   "metadata": {},
   "outputs": [
    {
     "name": "stdout",
     "output_type": "stream",
     "text": [
      "segment1\n"
     ]
    },
    {
     "data": {
      "text/plain": [
       "upgrade_name\n",
       "Enhanced Enclosure + High Efficiency Whole Home Electrification    41.7\n",
       "Basic Enclosure + High Efficiency Whole Home Electrification       41.5\n",
       "High Efficiency Whole Home Electrification                         40.4\n",
       "Enhanced Enclosure + HPWH + High Efficiency HP/Electric Backup     35.8\n",
       "Basic Enclosure + HPWH + High Efficiency HP/Electric Backup        35.5\n",
       "Mininum Efficiency Whole Home Electrification                      34.0\n",
       "Heat Pump Water Heater                                             26.2\n",
       "Enhanced Enclosure                                                  7.8\n",
       "Basic Enclosure                                                     7.0\n",
       "Electric Cooking                                                    5.4\n",
       "Induction Cooking                                                   4.8\n",
       "Heat Pump Clothes Dryer                                             3.4\n",
       "Electric Clothes Dryer                                              1.7\n",
       "High Efficiency Heat Pump with Electric Heat Backup                 1.3\n",
       "Mininum Efficiency Heat Pump with Electric Heat Backup             -6.4\n",
       "Mininum Efficiency Heat Pump with Existing Heat Backup             -6.6\n",
       "Name: pct_saving_energy.total_%, dtype: float64"
      ]
     },
     "metadata": {},
     "output_type": "display_data"
    },
    {
     "name": "stdout",
     "output_type": "stream",
     "text": [
      "segment2\n"
     ]
    },
    {
     "data": {
      "text/plain": [
       "upgrade_name\n",
       "Enhanced Enclosure + High Efficiency Whole Home Electrification    35.9\n",
       "Basic Enclosure + High Efficiency Whole Home Electrification       35.8\n",
       "High Efficiency Whole Home Electrification                         35.5\n",
       "Enhanced Enclosure + HPWH + High Efficiency HP/Electric Backup     30.6\n",
       "Basic Enclosure + HPWH + High Efficiency HP/Electric Backup        30.5\n",
       "Mininum Efficiency Whole Home Electrification                      30.2\n",
       "Heat Pump Water Heater                                             30.0\n",
       "Electric Cooking                                                    6.0\n",
       "Induction Cooking                                                   4.4\n",
       "Heat Pump Clothes Dryer                                             2.4\n",
       "Enhanced Enclosure                                                  1.1\n",
       "Electric Clothes Dryer                                              1.1\n",
       "Basic Enclosure                                                     1.0\n",
       "High Efficiency Heat Pump with Electric Heat Backup                -5.0\n",
       "Mininum Efficiency Heat Pump with Electric Heat Backup            -12.8\n",
       "Mininum Efficiency Heat Pump with Existing Heat Backup            -12.9\n",
       "Name: pct_saving_energy.total_%, dtype: float64"
      ]
     },
     "metadata": {},
     "output_type": "display_data"
    },
    {
     "name": "stdout",
     "output_type": "stream",
     "text": [
      "segment3\n"
     ]
    },
    {
     "data": {
      "text/plain": [
       "upgrade_name\n",
       "Enhanced Enclosure + High Efficiency Whole Home Electrification    49.3\n",
       "Basic Enclosure + High Efficiency Whole Home Electrification       49.1\n",
       "High Efficiency Whole Home Electrification                         45.0\n",
       "Enhanced Enclosure + HPWH + High Efficiency HP/Electric Backup     44.4\n",
       "Basic Enclosure + HPWH + High Efficiency HP/Electric Backup        44.2\n",
       "Mininum Efficiency Whole Home Electrification                      33.7\n",
       "Heat Pump Water Heater                                             21.0\n",
       "Enhanced Enclosure                                                 19.7\n",
       "Basic Enclosure                                                    18.2\n",
       "High Efficiency Heat Pump with Electric Heat Backup                15.4\n",
       "Mininum Efficiency Heat Pump with Electric Heat Backup              6.1\n",
       "Mininum Efficiency Heat Pump with Existing Heat Backup              4.8\n",
       "Electric Cooking                                                    3.1\n",
       "Induction Cooking                                                   2.6\n",
       "Heat Pump Clothes Dryer                                             2.4\n",
       "Electric Clothes Dryer                                              1.1\n",
       "Name: pct_saving_energy.total_%, dtype: float64"
      ]
     },
     "metadata": {},
     "output_type": "display_data"
    },
    {
     "name": "stdout",
     "output_type": "stream",
     "text": [
      "segment4\n"
     ]
    },
    {
     "data": {
      "text/plain": [
       "upgrade_name\n",
       "Enhanced Enclosure + High Efficiency Whole Home Electrification    51.7\n",
       "Basic Enclosure + High Efficiency Whole Home Electrification       51.5\n",
       "High Efficiency Whole Home Electrification                         47.9\n",
       "Enhanced Enclosure + HPWH + High Efficiency HP/Electric Backup     46.5\n",
       "Basic Enclosure + HPWH + High Efficiency HP/Electric Backup        46.3\n",
       "Mininum Efficiency Whole Home Electrification                      33.7\n",
       "High Efficiency Heat Pump with Electric Heat Backup                20.3\n",
       "Enhanced Enclosure                                                 16.9\n",
       "Basic Enclosure                                                    15.8\n",
       "Heat Pump Water Heater                                             13.0\n",
       "Mininum Efficiency Heat Pump with Electric Heat Backup             12.2\n",
       "Mininum Efficiency Heat Pump with Existing Heat Backup             11.1\n",
       "Electric Cooking                                                    3.3\n",
       "Induction Cooking                                                   2.6\n",
       "Heat Pump Clothes Dryer                                             2.6\n",
       "Electric Clothes Dryer                                              1.8\n",
       "Name: pct_saving_energy.total_%, dtype: float64"
      ]
     },
     "metadata": {},
     "output_type": "display_data"
    },
    {
     "name": "stderr",
     "output_type": "stream",
     "text": [
      "/var/folders/zw/lhnn73fj2250g9z11h_whq1szkf2pm/T/ipykernel_53214/1358844843.py:3: PerformanceWarning:\n",
      "\n",
      "DataFrame is highly fragmented.  This is usually the result of calling `frame.insert` many times, which has poor performance.  Consider joining all columns at once using pd.concat(axis=1) instead. To get a de-fragmented frame, use `newframe = frame.copy()`\n",
      "\n",
      "/var/folders/zw/lhnn73fj2250g9z11h_whq1szkf2pm/T/ipykernel_53214/1358844843.py:4: PerformanceWarning:\n",
      "\n",
      "DataFrame is highly fragmented.  This is usually the result of calling `frame.insert` many times, which has poor performance.  Consider joining all columns at once using pd.concat(axis=1) instead. To get a de-fragmented frame, use `newframe = frame.copy()`\n",
      "\n",
      "/var/folders/zw/lhnn73fj2250g9z11h_whq1szkf2pm/T/ipykernel_53214/1358844843.py:5: PerformanceWarning:\n",
      "\n",
      "DataFrame is highly fragmented.  This is usually the result of calling `frame.insert` many times, which has poor performance.  Consider joining all columns at once using pd.concat(axis=1) instead. To get a de-fragmented frame, use `newframe = frame.copy()`\n",
      "\n",
      "/var/folders/zw/lhnn73fj2250g9z11h_whq1szkf2pm/T/ipykernel_53214/1358844843.py:6: PerformanceWarning:\n",
      "\n",
      "DataFrame is highly fragmented.  This is usually the result of calling `frame.insert` many times, which has poor performance.  Consider joining all columns at once using pd.concat(axis=1) instead. To get a de-fragmented frame, use `newframe = frame.copy()`\n",
      "\n"
     ]
    }
   ],
   "source": [
    "indicator ='pct_saving_energy.total_%'\n",
    "results = segment_mean_savings(indicator, community_results)\n",
    "saving_results[f'segment1_{income}_pct_saving_energy_mean_%'] = results[0]\n",
    "saving_results[f'segment2_{income}_pct_saving_energy_mean_%'] = results[1]\n",
    "saving_results[f'segment3_{income}_pct_saving_energy_mean_%'] = results[2]\n",
    "saving_results[f'segment4_{income}_pct_saving_energy_mean_%'] = results[3]"
   ]
  },
  {
   "cell_type": "markdown",
   "id": "d2b75959",
   "metadata": {},
   "source": [
    "### Annual Emission Savings Per Dwelling Unit"
   ]
  },
  {
   "cell_type": "code",
   "execution_count": 48,
   "id": "564427ed",
   "metadata": {},
   "outputs": [
    {
     "name": "stdout",
     "output_type": "stream",
     "text": [
      "segment1\n"
     ]
    },
    {
     "data": {
      "text/plain": [
       "upgrade_name\n",
       "Enhanced Enclosure + High Efficiency Whole Home Electrification    863.7\n",
       "Basic Enclosure + High Efficiency Whole Home Electrification       862.2\n",
       "High Efficiency Whole Home Electrification                         854.4\n",
       "Mininum Efficiency Whole Home Electrification                      835.3\n",
       "Enhanced Enclosure + HPWH + High Efficiency HP/Electric Backup     730.1\n",
       "Basic Enclosure + HPWH + High Efficiency HP/Electric Backup        728.6\n",
       "Heat Pump Water Heater                                             544.9\n",
       "Electric Cooking                                                   150.5\n",
       "Induction Cooking                                                  124.7\n",
       "Enhanced Enclosure                                                 103.8\n",
       "Electric Clothes Dryer                                              94.4\n",
       "Basic Enclosure                                                     93.4\n",
       "High Efficiency Heat Pump with Electric Heat Backup                 80.7\n",
       "Mininum Efficiency Heat Pump with Electric Heat Backup              38.6\n",
       "Mininum Efficiency Heat Pump with Existing Heat Backup              33.7\n",
       "Heat Pump Clothes Dryer                                             29.4\n",
       "Name: saving_emission.total_kgCO2e, dtype: float64"
      ]
     },
     "metadata": {},
     "output_type": "display_data"
    },
    {
     "name": "stdout",
     "output_type": "stream",
     "text": [
      "segment2\n"
     ]
    },
    {
     "data": {
      "text/plain": [
       "upgrade_name\n",
       "Enhanced Enclosure + High Efficiency Whole Home Electrification    686.5\n",
       "Basic Enclosure + High Efficiency Whole Home Electrification       686.1\n",
       "High Efficiency Whole Home Electrification                         684.0\n",
       "Mininum Efficiency Whole Home Electrification                      679.4\n",
       "Enhanced Enclosure + HPWH + High Efficiency HP/Electric Backup     579.5\n",
       "Basic Enclosure + HPWH + High Efficiency HP/Electric Backup        579.2\n",
       "Heat Pump Water Heater                                             544.6\n",
       "Electric Cooking                                                   156.6\n",
       "Induction Cooking                                                  104.6\n",
       "Electric Clothes Dryer                                              70.1\n",
       "Heat Pump Clothes Dryer                                             15.3\n",
       "Enhanced Enclosure                                                  12.4\n",
       "Basic Enclosure                                                     10.8\n",
       "High Efficiency Heat Pump with Electric Heat Backup                -19.9\n",
       "Mininum Efficiency Heat Pump with Electric Heat Backup             -60.5\n",
       "Mininum Efficiency Heat Pump with Existing Heat Backup             -63.0\n",
       "Name: saving_emission.total_kgCO2e, dtype: float64"
      ]
     },
     "metadata": {},
     "output_type": "display_data"
    },
    {
     "name": "stdout",
     "output_type": "stream",
     "text": [
      "segment3\n"
     ]
    },
    {
     "data": {
      "text/plain": [
       "upgrade_name\n",
       "Enhanced Enclosure + High Efficiency Whole Home Electrification    2520.2\n",
       "Basic Enclosure + High Efficiency Whole Home Electrification       2517.0\n",
       "High Efficiency Whole Home Electrification                         2451.1\n",
       "Mininum Efficiency Whole Home Electrification                      2290.7\n",
       "Enhanced Enclosure + HPWH + High Efficiency HP/Electric Backup     2289.9\n",
       "Basic Enclosure + HPWH + High Efficiency HP/Electric Backup        2286.7\n",
       "High Efficiency Heat Pump with Electric Heat Backup                1063.4\n",
       "Heat Pump Water Heater                                             1020.8\n",
       "Mininum Efficiency Heat Pump with Electric Heat Backup              930.8\n",
       "Enhanced Enclosure                                                  878.0\n",
       "Mininum Efficiency Heat Pump with Existing Heat Backup              854.5\n",
       "Basic Enclosure                                                     818.2\n",
       "Electric Cooking                                                    201.2\n",
       "Electric Clothes Dryer                                              160.6\n",
       "Induction Cooking                                                   151.6\n",
       "Heat Pump Clothes Dryer                                              82.1\n",
       "Name: saving_emission.total_kgCO2e, dtype: float64"
      ]
     },
     "metadata": {},
     "output_type": "display_data"
    },
    {
     "name": "stdout",
     "output_type": "stream",
     "text": [
      "segment4\n"
     ]
    },
    {
     "data": {
      "text/plain": [
       "upgrade_name\n",
       "Mininum Efficiency Whole Home Electrification                      1741.9\n",
       "Enhanced Enclosure + High Efficiency Whole Home Electrification    1710.4\n",
       "Basic Enclosure + High Efficiency Whole Home Electrification       1707.2\n",
       "High Efficiency Whole Home Electrification                         1661.3\n",
       "Enhanced Enclosure + HPWH + High Efficiency HP/Electric Backup     1551.9\n",
       "Basic Enclosure + HPWH + High Efficiency HP/Electric Backup        1548.7\n",
       "High Efficiency Heat Pump with Electric Heat Backup                 795.8\n",
       "Mininum Efficiency Heat Pump with Electric Heat Backup              701.8\n",
       "Mininum Efficiency Heat Pump with Existing Heat Backup              641.4\n",
       "Enhanced Enclosure                                                  577.6\n",
       "Basic Enclosure                                                     524.9\n",
       "Heat Pump Water Heater                                              378.7\n",
       "Electric Cooking                                                    178.8\n",
       "Induction Cooking                                                   123.6\n",
       "Electric Clothes Dryer                                               83.9\n",
       "Heat Pump Clothes Dryer                                              35.0\n",
       "Name: saving_emission.total_kgCO2e, dtype: float64"
      ]
     },
     "metadata": {},
     "output_type": "display_data"
    },
    {
     "name": "stderr",
     "output_type": "stream",
     "text": [
      "/var/folders/zw/lhnn73fj2250g9z11h_whq1szkf2pm/T/ipykernel_53214/624873452.py:3: PerformanceWarning:\n",
      "\n",
      "DataFrame is highly fragmented.  This is usually the result of calling `frame.insert` many times, which has poor performance.  Consider joining all columns at once using pd.concat(axis=1) instead. To get a de-fragmented frame, use `newframe = frame.copy()`\n",
      "\n",
      "/var/folders/zw/lhnn73fj2250g9z11h_whq1szkf2pm/T/ipykernel_53214/624873452.py:4: PerformanceWarning:\n",
      "\n",
      "DataFrame is highly fragmented.  This is usually the result of calling `frame.insert` many times, which has poor performance.  Consider joining all columns at once using pd.concat(axis=1) instead. To get a de-fragmented frame, use `newframe = frame.copy()`\n",
      "\n",
      "/var/folders/zw/lhnn73fj2250g9z11h_whq1szkf2pm/T/ipykernel_53214/624873452.py:5: PerformanceWarning:\n",
      "\n",
      "DataFrame is highly fragmented.  This is usually the result of calling `frame.insert` many times, which has poor performance.  Consider joining all columns at once using pd.concat(axis=1) instead. To get a de-fragmented frame, use `newframe = frame.copy()`\n",
      "\n",
      "/var/folders/zw/lhnn73fj2250g9z11h_whq1szkf2pm/T/ipykernel_53214/624873452.py:6: PerformanceWarning:\n",
      "\n",
      "DataFrame is highly fragmented.  This is usually the result of calling `frame.insert` many times, which has poor performance.  Consider joining all columns at once using pd.concat(axis=1) instead. To get a de-fragmented frame, use `newframe = frame.copy()`\n",
      "\n"
     ]
    }
   ],
   "source": [
    "indicator ='saving_emission.total_kgCO2e'\n",
    "results = segment_mean_savings(indicator, community_results)\n",
    "saving_results[f'segment1_{income}_saving_emission_mean_kgCO2e'] = results[0]\n",
    "saving_results[f'segment2_{income}_saving_emission_mean_kgCO2e'] = results[1]\n",
    "saving_results[f'segment3_{income}_saving_emission_mean_kgCO2e'] = results[2]\n",
    "saving_results[f'segment4_{income}_saving_emission_mean_kgCO2e'] = results[3]"
   ]
  },
  {
   "cell_type": "markdown",
   "id": "1a6cb1c1",
   "metadata": {},
   "source": [
    "## 3.5. Pecent Stock with Positive and Negtive Savings"
   ]
  },
  {
   "cell_type": "markdown",
   "id": "ad9fca17",
   "metadata": {},
   "source": [
    "### Segment 1"
   ]
  },
  {
   "cell_type": "code",
   "execution_count": 49,
   "id": "a4c6dfcc",
   "metadata": {},
   "outputs": [
    {
     "data": {
      "application/vnd.plotly.v1+json": {
       "config": {
        "plotlyServerURL": "https://plot.ly"
       },
       "data": [
        {
         "marker": {
          "color": "red"
         },
         "name": "Negative",
         "orientation": "h",
         "text": [
          1,
          0.7317073170731707,
          0.7317073170731707,
          0.5975609756097561,
          0.12658227848101267,
          0.08536585365853659,
          0.08536585365853659,
          0.04878048780487805,
          0.04878048780487805,
          0.04878048780487805,
          0.024691358024691357,
          0.01639344262295082,
          0.0125,
          0.0125,
          0.012195121951219513,
          0
         ],
         "textposition": "inside",
         "texttemplate": "%{text:.0%}",
         "type": "bar",
         "x": [
          1,
          0.7317073170731707,
          0.7317073170731707,
          0.5975609756097561,
          0.12658227848101267,
          0.08536585365853659,
          0.08536585365853659,
          0.04878048780487805,
          0.04878048780487805,
          0.04878048780487805,
          0.024691358024691357,
          0.01639344262295082,
          0.0125,
          0.0125,
          0.012195121951219513,
          0
         ],
         "xaxis": "x",
         "y": [
          "Electric Clothes Dryer",
          "Mininum Efficiency Heat Pump with Electric Heat Backup",
          "Mininum Efficiency Heat Pump with Existing Heat Backup",
          "High Efficiency Heat Pump with Electric Heat Backup",
          "Mininum Efficiency Whole Home Electrification",
          "Basic Enclosure + HPWH + High Efficiency HP/Electric Backup",
          "Enhanced Enclosure + HPWH + High Efficiency HP/Electric Backup",
          "Basic Enclosure + High Efficiency Whole Home Electrification",
          "Enhanced Enclosure + High Efficiency Whole Home Electrification",
          "High Efficiency Whole Home Electrification",
          "Heat Pump Water Heater",
          "Electric Cooking",
          "Basic Enclosure",
          "Induction Cooking",
          "Enhanced Enclosure",
          "Heat Pump Clothes Dryer"
         ],
         "yaxis": "y"
        },
        {
         "marker": {
          "color": "green"
         },
         "name": "Positive",
         "orientation": "h",
         "text": [
          0,
          0.2682926829268293,
          0.2682926829268293,
          0.4024390243902439,
          0.8734177215189873,
          0.9146341463414634,
          0.9146341463414634,
          0.9512195121951219,
          0.9512195121951219,
          0.9512195121951219,
          0.9753086419753086,
          0.9836065573770492,
          0.9875,
          0.9875,
          0.9878048780487805,
          1
         ],
         "textposition": "inside",
         "texttemplate": "%{text:.0%}",
         "type": "bar",
         "x": [
          0,
          0.2682926829268293,
          0.2682926829268293,
          0.4024390243902439,
          0.8734177215189873,
          0.9146341463414634,
          0.9146341463414634,
          0.9512195121951219,
          0.9512195121951219,
          0.9512195121951219,
          0.9753086419753086,
          0.9836065573770492,
          0.9875,
          0.9875,
          0.9878048780487805,
          1
         ],
         "xaxis": "x",
         "y": [
          "Electric Clothes Dryer",
          "Mininum Efficiency Heat Pump with Electric Heat Backup",
          "Mininum Efficiency Heat Pump with Existing Heat Backup",
          "High Efficiency Heat Pump with Electric Heat Backup",
          "Mininum Efficiency Whole Home Electrification",
          "Basic Enclosure + HPWH + High Efficiency HP/Electric Backup",
          "Enhanced Enclosure + HPWH + High Efficiency HP/Electric Backup",
          "Basic Enclosure + High Efficiency Whole Home Electrification",
          "Enhanced Enclosure + High Efficiency Whole Home Electrification",
          "High Efficiency Whole Home Electrification",
          "Heat Pump Water Heater",
          "Electric Cooking",
          "Basic Enclosure",
          "Induction Cooking",
          "Enhanced Enclosure",
          "Heat Pump Clothes Dryer"
         ],
         "yaxis": "y"
        },
        {
         "marker": {
          "color": "red"
         },
         "orientation": "h",
         "showlegend": false,
         "text": [
          0,
          0.5853658536585366,
          0.5975609756097561,
          0.5121951219512195,
          0,
          0.012195121951219513,
          0.012195121951219513,
          0,
          0,
          0,
          0,
          0,
          0,
          0,
          0,
          0
         ],
         "textposition": "inside",
         "texttemplate": "%{text:.0%}",
         "type": "bar",
         "x": [
          0,
          0.5853658536585366,
          0.5975609756097561,
          0.5121951219512195,
          0,
          0.012195121951219513,
          0.012195121951219513,
          0,
          0,
          0,
          0,
          0,
          0,
          0,
          0,
          0
         ],
         "xaxis": "x2",
         "y": [
          "Electric Clothes Dryer",
          "Mininum Efficiency Heat Pump with Electric Heat Backup",
          "Mininum Efficiency Heat Pump with Existing Heat Backup",
          "High Efficiency Heat Pump with Electric Heat Backup",
          "Mininum Efficiency Whole Home Electrification",
          "Basic Enclosure + HPWH + High Efficiency HP/Electric Backup",
          "Enhanced Enclosure + HPWH + High Efficiency HP/Electric Backup",
          "Basic Enclosure + High Efficiency Whole Home Electrification",
          "Enhanced Enclosure + High Efficiency Whole Home Electrification",
          "High Efficiency Whole Home Electrification",
          "Heat Pump Water Heater",
          "Electric Cooking",
          "Basic Enclosure",
          "Induction Cooking",
          "Enhanced Enclosure",
          "Heat Pump Clothes Dryer"
         ],
         "yaxis": "y2"
        },
        {
         "marker": {
          "color": "green"
         },
         "orientation": "h",
         "showlegend": false,
         "text": [
          1,
          0.4146341463414634,
          0.4024390243902439,
          0.4878048780487805,
          1,
          0.9878048780487805,
          0.9878048780487805,
          1,
          1,
          1,
          1,
          1,
          1,
          1,
          1,
          1
         ],
         "textposition": "inside",
         "texttemplate": "%{text:.0%}",
         "type": "bar",
         "x": [
          1,
          0.4146341463414634,
          0.4024390243902439,
          0.4878048780487805,
          1,
          0.9878048780487805,
          0.9878048780487805,
          1,
          1,
          1,
          1,
          1,
          1,
          1,
          1,
          1
         ],
         "xaxis": "x2",
         "y": [
          "Electric Clothes Dryer",
          "Mininum Efficiency Heat Pump with Electric Heat Backup",
          "Mininum Efficiency Heat Pump with Existing Heat Backup",
          "High Efficiency Heat Pump with Electric Heat Backup",
          "Mininum Efficiency Whole Home Electrification",
          "Basic Enclosure + HPWH + High Efficiency HP/Electric Backup",
          "Enhanced Enclosure + HPWH + High Efficiency HP/Electric Backup",
          "Basic Enclosure + High Efficiency Whole Home Electrification",
          "Enhanced Enclosure + High Efficiency Whole Home Electrification",
          "High Efficiency Whole Home Electrification",
          "Heat Pump Water Heater",
          "Electric Cooking",
          "Basic Enclosure",
          "Induction Cooking",
          "Enhanced Enclosure",
          "Heat Pump Clothes Dryer"
         ],
         "yaxis": "y2"
        },
        {
         "marker": {
          "color": "red"
         },
         "orientation": "h",
         "showlegend": false,
         "text": [
          0,
          0.6951219512195121,
          0.7073170731707317,
          0.5975609756097561,
          0,
          0.012195121951219513,
          0.012195121951219513,
          0,
          0,
          0,
          0,
          0,
          0,
          0,
          0,
          0
         ],
         "textposition": "inside",
         "texttemplate": "%{text:.0%}",
         "type": "bar",
         "x": [
          0,
          0.6951219512195121,
          0.7073170731707317,
          0.5975609756097561,
          0,
          0.012195121951219513,
          0.012195121951219513,
          0,
          0,
          0,
          0,
          0,
          0,
          0,
          0,
          0
         ],
         "xaxis": "x3",
         "y": [
          "Electric Clothes Dryer",
          "Mininum Efficiency Heat Pump with Electric Heat Backup",
          "Mininum Efficiency Heat Pump with Existing Heat Backup",
          "High Efficiency Heat Pump with Electric Heat Backup",
          "Mininum Efficiency Whole Home Electrification",
          "Basic Enclosure + HPWH + High Efficiency HP/Electric Backup",
          "Enhanced Enclosure + HPWH + High Efficiency HP/Electric Backup",
          "Basic Enclosure + High Efficiency Whole Home Electrification",
          "Enhanced Enclosure + High Efficiency Whole Home Electrification",
          "High Efficiency Whole Home Electrification",
          "Heat Pump Water Heater",
          "Electric Cooking",
          "Basic Enclosure",
          "Induction Cooking",
          "Enhanced Enclosure",
          "Heat Pump Clothes Dryer"
         ],
         "yaxis": "y3"
        },
        {
         "marker": {
          "color": "green"
         },
         "orientation": "h",
         "showlegend": false,
         "text": [
          1,
          0.3048780487804878,
          0.2926829268292683,
          0.4024390243902439,
          1,
          0.9878048780487805,
          0.9878048780487805,
          1,
          1,
          1,
          1,
          1,
          1,
          1,
          1,
          1
         ],
         "textposition": "inside",
         "texttemplate": "%{text:.0%}",
         "type": "bar",
         "x": [
          1,
          0.3048780487804878,
          0.2926829268292683,
          0.4024390243902439,
          1,
          0.9878048780487805,
          0.9878048780487805,
          1,
          1,
          1,
          1,
          1,
          1,
          1,
          1,
          1
         ],
         "xaxis": "x3",
         "y": [
          "Electric Clothes Dryer",
          "Mininum Efficiency Heat Pump with Electric Heat Backup",
          "Mininum Efficiency Heat Pump with Existing Heat Backup",
          "High Efficiency Heat Pump with Electric Heat Backup",
          "Mininum Efficiency Whole Home Electrification",
          "Basic Enclosure + HPWH + High Efficiency HP/Electric Backup",
          "Enhanced Enclosure + HPWH + High Efficiency HP/Electric Backup",
          "Basic Enclosure + High Efficiency Whole Home Electrification",
          "Enhanced Enclosure + High Efficiency Whole Home Electrification",
          "High Efficiency Whole Home Electrification",
          "Heat Pump Water Heater",
          "Electric Cooking",
          "Basic Enclosure",
          "Induction Cooking",
          "Enhanced Enclosure",
          "Heat Pump Clothes Dryer"
         ],
         "yaxis": "y3"
        }
       ],
       "layout": {
        "autosize": false,
        "barmode": "relative",
        "font": {
         "size": 10
        },
        "height": 500,
        "template": {
         "data": {
          "bar": [
           {
            "error_x": {
             "color": "#2a3f5f"
            },
            "error_y": {
             "color": "#2a3f5f"
            },
            "marker": {
             "line": {
              "color": "#E5ECF6",
              "width": 0.5
             },
             "pattern": {
              "fillmode": "overlay",
              "size": 10,
              "solidity": 0.2
             }
            },
            "type": "bar"
           }
          ],
          "barpolar": [
           {
            "marker": {
             "line": {
              "color": "#E5ECF6",
              "width": 0.5
             },
             "pattern": {
              "fillmode": "overlay",
              "size": 10,
              "solidity": 0.2
             }
            },
            "type": "barpolar"
           }
          ],
          "carpet": [
           {
            "aaxis": {
             "endlinecolor": "#2a3f5f",
             "gridcolor": "white",
             "linecolor": "white",
             "minorgridcolor": "white",
             "startlinecolor": "#2a3f5f"
            },
            "baxis": {
             "endlinecolor": "#2a3f5f",
             "gridcolor": "white",
             "linecolor": "white",
             "minorgridcolor": "white",
             "startlinecolor": "#2a3f5f"
            },
            "type": "carpet"
           }
          ],
          "choropleth": [
           {
            "colorbar": {
             "outlinewidth": 0,
             "ticks": ""
            },
            "type": "choropleth"
           }
          ],
          "contour": [
           {
            "colorbar": {
             "outlinewidth": 0,
             "ticks": ""
            },
            "colorscale": [
             [
              0,
              "#0d0887"
             ],
             [
              0.1111111111111111,
              "#46039f"
             ],
             [
              0.2222222222222222,
              "#7201a8"
             ],
             [
              0.3333333333333333,
              "#9c179e"
             ],
             [
              0.4444444444444444,
              "#bd3786"
             ],
             [
              0.5555555555555556,
              "#d8576b"
             ],
             [
              0.6666666666666666,
              "#ed7953"
             ],
             [
              0.7777777777777778,
              "#fb9f3a"
             ],
             [
              0.8888888888888888,
              "#fdca26"
             ],
             [
              1,
              "#f0f921"
             ]
            ],
            "type": "contour"
           }
          ],
          "contourcarpet": [
           {
            "colorbar": {
             "outlinewidth": 0,
             "ticks": ""
            },
            "type": "contourcarpet"
           }
          ],
          "heatmap": [
           {
            "colorbar": {
             "outlinewidth": 0,
             "ticks": ""
            },
            "colorscale": [
             [
              0,
              "#0d0887"
             ],
             [
              0.1111111111111111,
              "#46039f"
             ],
             [
              0.2222222222222222,
              "#7201a8"
             ],
             [
              0.3333333333333333,
              "#9c179e"
             ],
             [
              0.4444444444444444,
              "#bd3786"
             ],
             [
              0.5555555555555556,
              "#d8576b"
             ],
             [
              0.6666666666666666,
              "#ed7953"
             ],
             [
              0.7777777777777778,
              "#fb9f3a"
             ],
             [
              0.8888888888888888,
              "#fdca26"
             ],
             [
              1,
              "#f0f921"
             ]
            ],
            "type": "heatmap"
           }
          ],
          "heatmapgl": [
           {
            "colorbar": {
             "outlinewidth": 0,
             "ticks": ""
            },
            "colorscale": [
             [
              0,
              "#0d0887"
             ],
             [
              0.1111111111111111,
              "#46039f"
             ],
             [
              0.2222222222222222,
              "#7201a8"
             ],
             [
              0.3333333333333333,
              "#9c179e"
             ],
             [
              0.4444444444444444,
              "#bd3786"
             ],
             [
              0.5555555555555556,
              "#d8576b"
             ],
             [
              0.6666666666666666,
              "#ed7953"
             ],
             [
              0.7777777777777778,
              "#fb9f3a"
             ],
             [
              0.8888888888888888,
              "#fdca26"
             ],
             [
              1,
              "#f0f921"
             ]
            ],
            "type": "heatmapgl"
           }
          ],
          "histogram": [
           {
            "marker": {
             "pattern": {
              "fillmode": "overlay",
              "size": 10,
              "solidity": 0.2
             }
            },
            "type": "histogram"
           }
          ],
          "histogram2d": [
           {
            "colorbar": {
             "outlinewidth": 0,
             "ticks": ""
            },
            "colorscale": [
             [
              0,
              "#0d0887"
             ],
             [
              0.1111111111111111,
              "#46039f"
             ],
             [
              0.2222222222222222,
              "#7201a8"
             ],
             [
              0.3333333333333333,
              "#9c179e"
             ],
             [
              0.4444444444444444,
              "#bd3786"
             ],
             [
              0.5555555555555556,
              "#d8576b"
             ],
             [
              0.6666666666666666,
              "#ed7953"
             ],
             [
              0.7777777777777778,
              "#fb9f3a"
             ],
             [
              0.8888888888888888,
              "#fdca26"
             ],
             [
              1,
              "#f0f921"
             ]
            ],
            "type": "histogram2d"
           }
          ],
          "histogram2dcontour": [
           {
            "colorbar": {
             "outlinewidth": 0,
             "ticks": ""
            },
            "colorscale": [
             [
              0,
              "#0d0887"
             ],
             [
              0.1111111111111111,
              "#46039f"
             ],
             [
              0.2222222222222222,
              "#7201a8"
             ],
             [
              0.3333333333333333,
              "#9c179e"
             ],
             [
              0.4444444444444444,
              "#bd3786"
             ],
             [
              0.5555555555555556,
              "#d8576b"
             ],
             [
              0.6666666666666666,
              "#ed7953"
             ],
             [
              0.7777777777777778,
              "#fb9f3a"
             ],
             [
              0.8888888888888888,
              "#fdca26"
             ],
             [
              1,
              "#f0f921"
             ]
            ],
            "type": "histogram2dcontour"
           }
          ],
          "mesh3d": [
           {
            "colorbar": {
             "outlinewidth": 0,
             "ticks": ""
            },
            "type": "mesh3d"
           }
          ],
          "parcoords": [
           {
            "line": {
             "colorbar": {
              "outlinewidth": 0,
              "ticks": ""
             }
            },
            "type": "parcoords"
           }
          ],
          "pie": [
           {
            "automargin": true,
            "type": "pie"
           }
          ],
          "scatter": [
           {
            "fillpattern": {
             "fillmode": "overlay",
             "size": 10,
             "solidity": 0.2
            },
            "type": "scatter"
           }
          ],
          "scatter3d": [
           {
            "line": {
             "colorbar": {
              "outlinewidth": 0,
              "ticks": ""
             }
            },
            "marker": {
             "colorbar": {
              "outlinewidth": 0,
              "ticks": ""
             }
            },
            "type": "scatter3d"
           }
          ],
          "scattercarpet": [
           {
            "marker": {
             "colorbar": {
              "outlinewidth": 0,
              "ticks": ""
             }
            },
            "type": "scattercarpet"
           }
          ],
          "scattergeo": [
           {
            "marker": {
             "colorbar": {
              "outlinewidth": 0,
              "ticks": ""
             }
            },
            "type": "scattergeo"
           }
          ],
          "scattergl": [
           {
            "marker": {
             "colorbar": {
              "outlinewidth": 0,
              "ticks": ""
             }
            },
            "type": "scattergl"
           }
          ],
          "scattermapbox": [
           {
            "marker": {
             "colorbar": {
              "outlinewidth": 0,
              "ticks": ""
             }
            },
            "type": "scattermapbox"
           }
          ],
          "scatterpolar": [
           {
            "marker": {
             "colorbar": {
              "outlinewidth": 0,
              "ticks": ""
             }
            },
            "type": "scatterpolar"
           }
          ],
          "scatterpolargl": [
           {
            "marker": {
             "colorbar": {
              "outlinewidth": 0,
              "ticks": ""
             }
            },
            "type": "scatterpolargl"
           }
          ],
          "scatterternary": [
           {
            "marker": {
             "colorbar": {
              "outlinewidth": 0,
              "ticks": ""
             }
            },
            "type": "scatterternary"
           }
          ],
          "surface": [
           {
            "colorbar": {
             "outlinewidth": 0,
             "ticks": ""
            },
            "colorscale": [
             [
              0,
              "#0d0887"
             ],
             [
              0.1111111111111111,
              "#46039f"
             ],
             [
              0.2222222222222222,
              "#7201a8"
             ],
             [
              0.3333333333333333,
              "#9c179e"
             ],
             [
              0.4444444444444444,
              "#bd3786"
             ],
             [
              0.5555555555555556,
              "#d8576b"
             ],
             [
              0.6666666666666666,
              "#ed7953"
             ],
             [
              0.7777777777777778,
              "#fb9f3a"
             ],
             [
              0.8888888888888888,
              "#fdca26"
             ],
             [
              1,
              "#f0f921"
             ]
            ],
            "type": "surface"
           }
          ],
          "table": [
           {
            "cells": {
             "fill": {
              "color": "#EBF0F8"
             },
             "line": {
              "color": "white"
             }
            },
            "header": {
             "fill": {
              "color": "#C8D4E3"
             },
             "line": {
              "color": "white"
             }
            },
            "type": "table"
           }
          ]
         },
         "layout": {
          "annotationdefaults": {
           "arrowcolor": "#2a3f5f",
           "arrowhead": 0,
           "arrowwidth": 1
          },
          "autotypenumbers": "strict",
          "coloraxis": {
           "colorbar": {
            "outlinewidth": 0,
            "ticks": ""
           }
          },
          "colorscale": {
           "diverging": [
            [
             0,
             "#8e0152"
            ],
            [
             0.1,
             "#c51b7d"
            ],
            [
             0.2,
             "#de77ae"
            ],
            [
             0.3,
             "#f1b6da"
            ],
            [
             0.4,
             "#fde0ef"
            ],
            [
             0.5,
             "#f7f7f7"
            ],
            [
             0.6,
             "#e6f5d0"
            ],
            [
             0.7,
             "#b8e186"
            ],
            [
             0.8,
             "#7fbc41"
            ],
            [
             0.9,
             "#4d9221"
            ],
            [
             1,
             "#276419"
            ]
           ],
           "sequential": [
            [
             0,
             "#0d0887"
            ],
            [
             0.1111111111111111,
             "#46039f"
            ],
            [
             0.2222222222222222,
             "#7201a8"
            ],
            [
             0.3333333333333333,
             "#9c179e"
            ],
            [
             0.4444444444444444,
             "#bd3786"
            ],
            [
             0.5555555555555556,
             "#d8576b"
            ],
            [
             0.6666666666666666,
             "#ed7953"
            ],
            [
             0.7777777777777778,
             "#fb9f3a"
            ],
            [
             0.8888888888888888,
             "#fdca26"
            ],
            [
             1,
             "#f0f921"
            ]
           ],
           "sequentialminus": [
            [
             0,
             "#0d0887"
            ],
            [
             0.1111111111111111,
             "#46039f"
            ],
            [
             0.2222222222222222,
             "#7201a8"
            ],
            [
             0.3333333333333333,
             "#9c179e"
            ],
            [
             0.4444444444444444,
             "#bd3786"
            ],
            [
             0.5555555555555556,
             "#d8576b"
            ],
            [
             0.6666666666666666,
             "#ed7953"
            ],
            [
             0.7777777777777778,
             "#fb9f3a"
            ],
            [
             0.8888888888888888,
             "#fdca26"
            ],
            [
             1,
             "#f0f921"
            ]
           ]
          },
          "colorway": [
           "#636efa",
           "#EF553B",
           "#00cc96",
           "#ab63fa",
           "#FFA15A",
           "#19d3f3",
           "#FF6692",
           "#B6E880",
           "#FF97FF",
           "#FECB52"
          ],
          "font": {
           "color": "#2a3f5f"
          },
          "geo": {
           "bgcolor": "white",
           "lakecolor": "white",
           "landcolor": "#E5ECF6",
           "showlakes": true,
           "showland": true,
           "subunitcolor": "white"
          },
          "hoverlabel": {
           "align": "left"
          },
          "hovermode": "closest",
          "mapbox": {
           "style": "light"
          },
          "paper_bgcolor": "white",
          "plot_bgcolor": "#E5ECF6",
          "polar": {
           "angularaxis": {
            "gridcolor": "white",
            "linecolor": "white",
            "ticks": ""
           },
           "bgcolor": "#E5ECF6",
           "radialaxis": {
            "gridcolor": "white",
            "linecolor": "white",
            "ticks": ""
           }
          },
          "scene": {
           "xaxis": {
            "backgroundcolor": "#E5ECF6",
            "gridcolor": "white",
            "gridwidth": 2,
            "linecolor": "white",
            "showbackground": true,
            "ticks": "",
            "zerolinecolor": "white"
           },
           "yaxis": {
            "backgroundcolor": "#E5ECF6",
            "gridcolor": "white",
            "gridwidth": 2,
            "linecolor": "white",
            "showbackground": true,
            "ticks": "",
            "zerolinecolor": "white"
           },
           "zaxis": {
            "backgroundcolor": "#E5ECF6",
            "gridcolor": "white",
            "gridwidth": 2,
            "linecolor": "white",
            "showbackground": true,
            "ticks": "",
            "zerolinecolor": "white"
           }
          },
          "shapedefaults": {
           "line": {
            "color": "#2a3f5f"
           }
          },
          "ternary": {
           "aaxis": {
            "gridcolor": "white",
            "linecolor": "white",
            "ticks": ""
           },
           "baxis": {
            "gridcolor": "white",
            "linecolor": "white",
            "ticks": ""
           },
           "bgcolor": "#E5ECF6",
           "caxis": {
            "gridcolor": "white",
            "linecolor": "white",
            "ticks": ""
           }
          },
          "title": {
           "x": 0.05
          },
          "xaxis": {
           "automargin": true,
           "gridcolor": "white",
           "linecolor": "white",
           "ticks": "",
           "title": {
            "standoff": 15
           },
           "zerolinecolor": "white",
           "zerolinewidth": 2
          },
          "yaxis": {
           "automargin": true,
           "gridcolor": "white",
           "linecolor": "white",
           "ticks": "",
           "title": {
            "standoff": 15
           },
           "zerolinecolor": "white",
           "zerolinewidth": 2
          }
         }
        },
        "title": {
         "text": "Percentage of Household in Positive and Negative Savings"
        },
        "width": 1000,
        "xaxis": {
         "anchor": "y",
         "domain": [
          0,
          0.2888888888888889
         ],
         "tickformat": ",.0%",
         "title": {
          "text": "Bill"
         },
         "visible": true
        },
        "xaxis2": {
         "anchor": "y2",
         "domain": [
          0.35555555555555557,
          0.6444444444444445
         ],
         "tickformat": ",.0%",
         "title": {
          "text": "Emission"
         },
         "visible": true
        },
        "xaxis3": {
         "anchor": "y3",
         "domain": [
          0.7111111111111111,
          1
         ],
         "tickformat": ",.0%",
         "title": {
          "text": "Total Energy"
         },
         "visible": true
        },
        "yaxis": {
         "anchor": "x",
         "domain": [
          0,
          1
         ],
         "visible": true
        },
        "yaxis2": {
         "anchor": "x2",
         "domain": [
          0,
          1
         ],
         "visible": false
        },
        "yaxis3": {
         "anchor": "x3",
         "domain": [
          0,
          1
         ],
         "visible": false
        }
       }
      }
     },
     "metadata": {},
     "output_type": "display_data"
    },
    {
     "name": "stderr",
     "output_type": "stream",
     "text": [
      "/var/folders/zw/lhnn73fj2250g9z11h_whq1szkf2pm/T/ipykernel_53214/868763001.py:3: PerformanceWarning:\n",
      "\n",
      "DataFrame is highly fragmented.  This is usually the result of calling `frame.insert` many times, which has poor performance.  Consider joining all columns at once using pd.concat(axis=1) instead. To get a de-fragmented frame, use `newframe = frame.copy()`\n",
      "\n",
      "/var/folders/zw/lhnn73fj2250g9z11h_whq1szkf2pm/T/ipykernel_53214/868763001.py:4: PerformanceWarning:\n",
      "\n",
      "DataFrame is highly fragmented.  This is usually the result of calling `frame.insert` many times, which has poor performance.  Consider joining all columns at once using pd.concat(axis=1) instead. To get a de-fragmented frame, use `newframe = frame.copy()`\n",
      "\n",
      "/var/folders/zw/lhnn73fj2250g9z11h_whq1szkf2pm/T/ipykernel_53214/868763001.py:5: PerformanceWarning:\n",
      "\n",
      "DataFrame is highly fragmented.  This is usually the result of calling `frame.insert` many times, which has poor performance.  Consider joining all columns at once using pd.concat(axis=1) instead. To get a de-fragmented frame, use `newframe = frame.copy()`\n",
      "\n"
     ]
    }
   ],
   "source": [
    "segment = 'segment1'\n",
    "results = figure_positive_negative_savings(segment, community_results) \n",
    "saving_results[f'segment1_{income}_pct_bill_positive_savings_%'] = results[0]*100\n",
    "saving_results[f'segment1_{income}_pct_emission_positive_savings_%'] = results[1]*100\n",
    "saving_results[f'segment1_{income}_pct_energy_positive_savings_%'] = results[2]*100"
   ]
  },
  {
   "cell_type": "markdown",
   "id": "8494ec4f",
   "metadata": {},
   "source": [
    "### Segment 2"
   ]
  },
  {
   "cell_type": "code",
   "execution_count": 50,
   "id": "e2c5e7d1",
   "metadata": {},
   "outputs": [
    {
     "data": {
      "application/vnd.plotly.v1+json": {
       "config": {
        "plotlyServerURL": "https://plot.ly"
       },
       "data": [
        {
         "marker": {
          "color": "red"
         },
         "name": "Negative",
         "orientation": "h",
         "text": [
          1,
          0.7567567567567568,
          0.7567567567567568,
          0.7027027027027027,
          0.11363636363636363,
          0.1111111111111111,
          0.08450704225352113,
          0.06756756756756757,
          0.06756756756756757,
          0.05405405405405406,
          0.05405405405405406,
          0.05405405405405406,
          0.02702702702702703,
          0,
          0,
          0
         ],
         "textposition": "inside",
         "texttemplate": "%{text:.0%}",
         "type": "bar",
         "x": [
          1,
          0.7567567567567568,
          0.7567567567567568,
          0.7027027027027027,
          0.11363636363636363,
          0.1111111111111111,
          0.08450704225352113,
          0.06756756756756757,
          0.06756756756756757,
          0.05405405405405406,
          0.05405405405405406,
          0.05405405405405406,
          0.02702702702702703,
          0,
          0,
          0
         ],
         "xaxis": "x",
         "y": [
          "Electric Clothes Dryer",
          "Mininum Efficiency Heat Pump with Electric Heat Backup",
          "Mininum Efficiency Heat Pump with Existing Heat Backup",
          "High Efficiency Heat Pump with Electric Heat Backup",
          "Basic Enclosure",
          "Enhanced Enclosure",
          "Mininum Efficiency Whole Home Electrification",
          "Basic Enclosure + HPWH + High Efficiency HP/Electric Backup",
          "Enhanced Enclosure + HPWH + High Efficiency HP/Electric Backup",
          "Basic Enclosure + High Efficiency Whole Home Electrification",
          "Enhanced Enclosure + High Efficiency Whole Home Electrification",
          "High Efficiency Whole Home Electrification",
          "Heat Pump Water Heater",
          "Electric Cooking",
          "Heat Pump Clothes Dryer",
          "Induction Cooking"
         ],
         "yaxis": "y"
        },
        {
         "marker": {
          "color": "green"
         },
         "name": "Positive",
         "orientation": "h",
         "text": [
          0,
          0.24324324324324326,
          0.24324324324324326,
          0.2972972972972973,
          0.8863636363636364,
          0.8888888888888888,
          0.9154929577464789,
          0.9324324324324325,
          0.9324324324324325,
          0.9459459459459459,
          0.9459459459459459,
          0.9459459459459459,
          0.972972972972973,
          1,
          1,
          1
         ],
         "textposition": "inside",
         "texttemplate": "%{text:.0%}",
         "type": "bar",
         "x": [
          0,
          0.24324324324324326,
          0.24324324324324326,
          0.2972972972972973,
          0.8863636363636364,
          0.8888888888888888,
          0.9154929577464789,
          0.9324324324324325,
          0.9324324324324325,
          0.9459459459459459,
          0.9459459459459459,
          0.9459459459459459,
          0.972972972972973,
          1,
          1,
          1
         ],
         "xaxis": "x",
         "y": [
          "Electric Clothes Dryer",
          "Mininum Efficiency Heat Pump with Electric Heat Backup",
          "Mininum Efficiency Heat Pump with Existing Heat Backup",
          "High Efficiency Heat Pump with Electric Heat Backup",
          "Basic Enclosure",
          "Enhanced Enclosure",
          "Mininum Efficiency Whole Home Electrification",
          "Basic Enclosure + HPWH + High Efficiency HP/Electric Backup",
          "Enhanced Enclosure + HPWH + High Efficiency HP/Electric Backup",
          "Basic Enclosure + High Efficiency Whole Home Electrification",
          "Enhanced Enclosure + High Efficiency Whole Home Electrification",
          "High Efficiency Whole Home Electrification",
          "Heat Pump Water Heater",
          "Electric Cooking",
          "Heat Pump Clothes Dryer",
          "Induction Cooking"
         ],
         "yaxis": "y"
        },
        {
         "marker": {
          "color": "red"
         },
         "orientation": "h",
         "showlegend": false,
         "text": [
          0,
          0.7432432432432432,
          0.7432432432432432,
          0.6891891891891891,
          0.10869565217391304,
          0.10638297872340426,
          0,
          0,
          0,
          0,
          0,
          0,
          0,
          0,
          0,
          0
         ],
         "textposition": "inside",
         "texttemplate": "%{text:.0%}",
         "type": "bar",
         "x": [
          0,
          0.7432432432432432,
          0.7432432432432432,
          0.6891891891891891,
          0.10869565217391304,
          0.10638297872340426,
          0,
          0,
          0,
          0,
          0,
          0,
          0,
          0,
          0,
          0
         ],
         "xaxis": "x2",
         "y": [
          "Electric Clothes Dryer",
          "Mininum Efficiency Heat Pump with Electric Heat Backup",
          "Mininum Efficiency Heat Pump with Existing Heat Backup",
          "High Efficiency Heat Pump with Electric Heat Backup",
          "Basic Enclosure",
          "Enhanced Enclosure",
          "Mininum Efficiency Whole Home Electrification",
          "Basic Enclosure + HPWH + High Efficiency HP/Electric Backup",
          "Enhanced Enclosure + HPWH + High Efficiency HP/Electric Backup",
          "Basic Enclosure + High Efficiency Whole Home Electrification",
          "Enhanced Enclosure + High Efficiency Whole Home Electrification",
          "High Efficiency Whole Home Electrification",
          "Heat Pump Water Heater",
          "Electric Cooking",
          "Heat Pump Clothes Dryer",
          "Induction Cooking"
         ],
         "yaxis": "y2"
        },
        {
         "marker": {
          "color": "green"
         },
         "orientation": "h",
         "showlegend": false,
         "text": [
          1,
          0.25675675675675674,
          0.25675675675675674,
          0.3108108108108108,
          0.8913043478260869,
          0.8936170212765957,
          1,
          1,
          1,
          1,
          1,
          1,
          1,
          1,
          1,
          1
         ],
         "textposition": "inside",
         "texttemplate": "%{text:.0%}",
         "type": "bar",
         "x": [
          1,
          0.25675675675675674,
          0.25675675675675674,
          0.3108108108108108,
          0.8913043478260869,
          0.8936170212765957,
          1,
          1,
          1,
          1,
          1,
          1,
          1,
          1,
          1,
          1
         ],
         "xaxis": "x2",
         "y": [
          "Electric Clothes Dryer",
          "Mininum Efficiency Heat Pump with Electric Heat Backup",
          "Mininum Efficiency Heat Pump with Existing Heat Backup",
          "High Efficiency Heat Pump with Electric Heat Backup",
          "Basic Enclosure",
          "Enhanced Enclosure",
          "Mininum Efficiency Whole Home Electrification",
          "Basic Enclosure + HPWH + High Efficiency HP/Electric Backup",
          "Enhanced Enclosure + HPWH + High Efficiency HP/Electric Backup",
          "Basic Enclosure + High Efficiency Whole Home Electrification",
          "Enhanced Enclosure + High Efficiency Whole Home Electrification",
          "High Efficiency Whole Home Electrification",
          "Heat Pump Water Heater",
          "Electric Cooking",
          "Heat Pump Clothes Dryer",
          "Induction Cooking"
         ],
         "yaxis": "y2"
        },
        {
         "marker": {
          "color": "red"
         },
         "orientation": "h",
         "showlegend": false,
         "text": [
          0,
          0.7567567567567568,
          0.7567567567567568,
          0.6891891891891891,
          0.1111111111111111,
          0.10869565217391304,
          0,
          0,
          0,
          0,
          0,
          0,
          0,
          0,
          0,
          0
         ],
         "textposition": "inside",
         "texttemplate": "%{text:.0%}",
         "type": "bar",
         "x": [
          0,
          0.7567567567567568,
          0.7567567567567568,
          0.6891891891891891,
          0.1111111111111111,
          0.10869565217391304,
          0,
          0,
          0,
          0,
          0,
          0,
          0,
          0,
          0,
          0
         ],
         "xaxis": "x3",
         "y": [
          "Electric Clothes Dryer",
          "Mininum Efficiency Heat Pump with Electric Heat Backup",
          "Mininum Efficiency Heat Pump with Existing Heat Backup",
          "High Efficiency Heat Pump with Electric Heat Backup",
          "Basic Enclosure",
          "Enhanced Enclosure",
          "Mininum Efficiency Whole Home Electrification",
          "Basic Enclosure + HPWH + High Efficiency HP/Electric Backup",
          "Enhanced Enclosure + HPWH + High Efficiency HP/Electric Backup",
          "Basic Enclosure + High Efficiency Whole Home Electrification",
          "Enhanced Enclosure + High Efficiency Whole Home Electrification",
          "High Efficiency Whole Home Electrification",
          "Heat Pump Water Heater",
          "Electric Cooking",
          "Heat Pump Clothes Dryer",
          "Induction Cooking"
         ],
         "yaxis": "y3"
        },
        {
         "marker": {
          "color": "green"
         },
         "orientation": "h",
         "showlegend": false,
         "text": [
          1,
          0.24324324324324326,
          0.24324324324324326,
          0.3108108108108108,
          0.8888888888888888,
          0.8913043478260869,
          1,
          1,
          1,
          1,
          1,
          1,
          1,
          1,
          1,
          1
         ],
         "textposition": "inside",
         "texttemplate": "%{text:.0%}",
         "type": "bar",
         "x": [
          1,
          0.24324324324324326,
          0.24324324324324326,
          0.3108108108108108,
          0.8888888888888888,
          0.8913043478260869,
          1,
          1,
          1,
          1,
          1,
          1,
          1,
          1,
          1,
          1
         ],
         "xaxis": "x3",
         "y": [
          "Electric Clothes Dryer",
          "Mininum Efficiency Heat Pump with Electric Heat Backup",
          "Mininum Efficiency Heat Pump with Existing Heat Backup",
          "High Efficiency Heat Pump with Electric Heat Backup",
          "Basic Enclosure",
          "Enhanced Enclosure",
          "Mininum Efficiency Whole Home Electrification",
          "Basic Enclosure + HPWH + High Efficiency HP/Electric Backup",
          "Enhanced Enclosure + HPWH + High Efficiency HP/Electric Backup",
          "Basic Enclosure + High Efficiency Whole Home Electrification",
          "Enhanced Enclosure + High Efficiency Whole Home Electrification",
          "High Efficiency Whole Home Electrification",
          "Heat Pump Water Heater",
          "Electric Cooking",
          "Heat Pump Clothes Dryer",
          "Induction Cooking"
         ],
         "yaxis": "y3"
        }
       ],
       "layout": {
        "autosize": false,
        "barmode": "relative",
        "font": {
         "size": 10
        },
        "height": 500,
        "template": {
         "data": {
          "bar": [
           {
            "error_x": {
             "color": "#2a3f5f"
            },
            "error_y": {
             "color": "#2a3f5f"
            },
            "marker": {
             "line": {
              "color": "#E5ECF6",
              "width": 0.5
             },
             "pattern": {
              "fillmode": "overlay",
              "size": 10,
              "solidity": 0.2
             }
            },
            "type": "bar"
           }
          ],
          "barpolar": [
           {
            "marker": {
             "line": {
              "color": "#E5ECF6",
              "width": 0.5
             },
             "pattern": {
              "fillmode": "overlay",
              "size": 10,
              "solidity": 0.2
             }
            },
            "type": "barpolar"
           }
          ],
          "carpet": [
           {
            "aaxis": {
             "endlinecolor": "#2a3f5f",
             "gridcolor": "white",
             "linecolor": "white",
             "minorgridcolor": "white",
             "startlinecolor": "#2a3f5f"
            },
            "baxis": {
             "endlinecolor": "#2a3f5f",
             "gridcolor": "white",
             "linecolor": "white",
             "minorgridcolor": "white",
             "startlinecolor": "#2a3f5f"
            },
            "type": "carpet"
           }
          ],
          "choropleth": [
           {
            "colorbar": {
             "outlinewidth": 0,
             "ticks": ""
            },
            "type": "choropleth"
           }
          ],
          "contour": [
           {
            "colorbar": {
             "outlinewidth": 0,
             "ticks": ""
            },
            "colorscale": [
             [
              0,
              "#0d0887"
             ],
             [
              0.1111111111111111,
              "#46039f"
             ],
             [
              0.2222222222222222,
              "#7201a8"
             ],
             [
              0.3333333333333333,
              "#9c179e"
             ],
             [
              0.4444444444444444,
              "#bd3786"
             ],
             [
              0.5555555555555556,
              "#d8576b"
             ],
             [
              0.6666666666666666,
              "#ed7953"
             ],
             [
              0.7777777777777778,
              "#fb9f3a"
             ],
             [
              0.8888888888888888,
              "#fdca26"
             ],
             [
              1,
              "#f0f921"
             ]
            ],
            "type": "contour"
           }
          ],
          "contourcarpet": [
           {
            "colorbar": {
             "outlinewidth": 0,
             "ticks": ""
            },
            "type": "contourcarpet"
           }
          ],
          "heatmap": [
           {
            "colorbar": {
             "outlinewidth": 0,
             "ticks": ""
            },
            "colorscale": [
             [
              0,
              "#0d0887"
             ],
             [
              0.1111111111111111,
              "#46039f"
             ],
             [
              0.2222222222222222,
              "#7201a8"
             ],
             [
              0.3333333333333333,
              "#9c179e"
             ],
             [
              0.4444444444444444,
              "#bd3786"
             ],
             [
              0.5555555555555556,
              "#d8576b"
             ],
             [
              0.6666666666666666,
              "#ed7953"
             ],
             [
              0.7777777777777778,
              "#fb9f3a"
             ],
             [
              0.8888888888888888,
              "#fdca26"
             ],
             [
              1,
              "#f0f921"
             ]
            ],
            "type": "heatmap"
           }
          ],
          "heatmapgl": [
           {
            "colorbar": {
             "outlinewidth": 0,
             "ticks": ""
            },
            "colorscale": [
             [
              0,
              "#0d0887"
             ],
             [
              0.1111111111111111,
              "#46039f"
             ],
             [
              0.2222222222222222,
              "#7201a8"
             ],
             [
              0.3333333333333333,
              "#9c179e"
             ],
             [
              0.4444444444444444,
              "#bd3786"
             ],
             [
              0.5555555555555556,
              "#d8576b"
             ],
             [
              0.6666666666666666,
              "#ed7953"
             ],
             [
              0.7777777777777778,
              "#fb9f3a"
             ],
             [
              0.8888888888888888,
              "#fdca26"
             ],
             [
              1,
              "#f0f921"
             ]
            ],
            "type": "heatmapgl"
           }
          ],
          "histogram": [
           {
            "marker": {
             "pattern": {
              "fillmode": "overlay",
              "size": 10,
              "solidity": 0.2
             }
            },
            "type": "histogram"
           }
          ],
          "histogram2d": [
           {
            "colorbar": {
             "outlinewidth": 0,
             "ticks": ""
            },
            "colorscale": [
             [
              0,
              "#0d0887"
             ],
             [
              0.1111111111111111,
              "#46039f"
             ],
             [
              0.2222222222222222,
              "#7201a8"
             ],
             [
              0.3333333333333333,
              "#9c179e"
             ],
             [
              0.4444444444444444,
              "#bd3786"
             ],
             [
              0.5555555555555556,
              "#d8576b"
             ],
             [
              0.6666666666666666,
              "#ed7953"
             ],
             [
              0.7777777777777778,
              "#fb9f3a"
             ],
             [
              0.8888888888888888,
              "#fdca26"
             ],
             [
              1,
              "#f0f921"
             ]
            ],
            "type": "histogram2d"
           }
          ],
          "histogram2dcontour": [
           {
            "colorbar": {
             "outlinewidth": 0,
             "ticks": ""
            },
            "colorscale": [
             [
              0,
              "#0d0887"
             ],
             [
              0.1111111111111111,
              "#46039f"
             ],
             [
              0.2222222222222222,
              "#7201a8"
             ],
             [
              0.3333333333333333,
              "#9c179e"
             ],
             [
              0.4444444444444444,
              "#bd3786"
             ],
             [
              0.5555555555555556,
              "#d8576b"
             ],
             [
              0.6666666666666666,
              "#ed7953"
             ],
             [
              0.7777777777777778,
              "#fb9f3a"
             ],
             [
              0.8888888888888888,
              "#fdca26"
             ],
             [
              1,
              "#f0f921"
             ]
            ],
            "type": "histogram2dcontour"
           }
          ],
          "mesh3d": [
           {
            "colorbar": {
             "outlinewidth": 0,
             "ticks": ""
            },
            "type": "mesh3d"
           }
          ],
          "parcoords": [
           {
            "line": {
             "colorbar": {
              "outlinewidth": 0,
              "ticks": ""
             }
            },
            "type": "parcoords"
           }
          ],
          "pie": [
           {
            "automargin": true,
            "type": "pie"
           }
          ],
          "scatter": [
           {
            "fillpattern": {
             "fillmode": "overlay",
             "size": 10,
             "solidity": 0.2
            },
            "type": "scatter"
           }
          ],
          "scatter3d": [
           {
            "line": {
             "colorbar": {
              "outlinewidth": 0,
              "ticks": ""
             }
            },
            "marker": {
             "colorbar": {
              "outlinewidth": 0,
              "ticks": ""
             }
            },
            "type": "scatter3d"
           }
          ],
          "scattercarpet": [
           {
            "marker": {
             "colorbar": {
              "outlinewidth": 0,
              "ticks": ""
             }
            },
            "type": "scattercarpet"
           }
          ],
          "scattergeo": [
           {
            "marker": {
             "colorbar": {
              "outlinewidth": 0,
              "ticks": ""
             }
            },
            "type": "scattergeo"
           }
          ],
          "scattergl": [
           {
            "marker": {
             "colorbar": {
              "outlinewidth": 0,
              "ticks": ""
             }
            },
            "type": "scattergl"
           }
          ],
          "scattermapbox": [
           {
            "marker": {
             "colorbar": {
              "outlinewidth": 0,
              "ticks": ""
             }
            },
            "type": "scattermapbox"
           }
          ],
          "scatterpolar": [
           {
            "marker": {
             "colorbar": {
              "outlinewidth": 0,
              "ticks": ""
             }
            },
            "type": "scatterpolar"
           }
          ],
          "scatterpolargl": [
           {
            "marker": {
             "colorbar": {
              "outlinewidth": 0,
              "ticks": ""
             }
            },
            "type": "scatterpolargl"
           }
          ],
          "scatterternary": [
           {
            "marker": {
             "colorbar": {
              "outlinewidth": 0,
              "ticks": ""
             }
            },
            "type": "scatterternary"
           }
          ],
          "surface": [
           {
            "colorbar": {
             "outlinewidth": 0,
             "ticks": ""
            },
            "colorscale": [
             [
              0,
              "#0d0887"
             ],
             [
              0.1111111111111111,
              "#46039f"
             ],
             [
              0.2222222222222222,
              "#7201a8"
             ],
             [
              0.3333333333333333,
              "#9c179e"
             ],
             [
              0.4444444444444444,
              "#bd3786"
             ],
             [
              0.5555555555555556,
              "#d8576b"
             ],
             [
              0.6666666666666666,
              "#ed7953"
             ],
             [
              0.7777777777777778,
              "#fb9f3a"
             ],
             [
              0.8888888888888888,
              "#fdca26"
             ],
             [
              1,
              "#f0f921"
             ]
            ],
            "type": "surface"
           }
          ],
          "table": [
           {
            "cells": {
             "fill": {
              "color": "#EBF0F8"
             },
             "line": {
              "color": "white"
             }
            },
            "header": {
             "fill": {
              "color": "#C8D4E3"
             },
             "line": {
              "color": "white"
             }
            },
            "type": "table"
           }
          ]
         },
         "layout": {
          "annotationdefaults": {
           "arrowcolor": "#2a3f5f",
           "arrowhead": 0,
           "arrowwidth": 1
          },
          "autotypenumbers": "strict",
          "coloraxis": {
           "colorbar": {
            "outlinewidth": 0,
            "ticks": ""
           }
          },
          "colorscale": {
           "diverging": [
            [
             0,
             "#8e0152"
            ],
            [
             0.1,
             "#c51b7d"
            ],
            [
             0.2,
             "#de77ae"
            ],
            [
             0.3,
             "#f1b6da"
            ],
            [
             0.4,
             "#fde0ef"
            ],
            [
             0.5,
             "#f7f7f7"
            ],
            [
             0.6,
             "#e6f5d0"
            ],
            [
             0.7,
             "#b8e186"
            ],
            [
             0.8,
             "#7fbc41"
            ],
            [
             0.9,
             "#4d9221"
            ],
            [
             1,
             "#276419"
            ]
           ],
           "sequential": [
            [
             0,
             "#0d0887"
            ],
            [
             0.1111111111111111,
             "#46039f"
            ],
            [
             0.2222222222222222,
             "#7201a8"
            ],
            [
             0.3333333333333333,
             "#9c179e"
            ],
            [
             0.4444444444444444,
             "#bd3786"
            ],
            [
             0.5555555555555556,
             "#d8576b"
            ],
            [
             0.6666666666666666,
             "#ed7953"
            ],
            [
             0.7777777777777778,
             "#fb9f3a"
            ],
            [
             0.8888888888888888,
             "#fdca26"
            ],
            [
             1,
             "#f0f921"
            ]
           ],
           "sequentialminus": [
            [
             0,
             "#0d0887"
            ],
            [
             0.1111111111111111,
             "#46039f"
            ],
            [
             0.2222222222222222,
             "#7201a8"
            ],
            [
             0.3333333333333333,
             "#9c179e"
            ],
            [
             0.4444444444444444,
             "#bd3786"
            ],
            [
             0.5555555555555556,
             "#d8576b"
            ],
            [
             0.6666666666666666,
             "#ed7953"
            ],
            [
             0.7777777777777778,
             "#fb9f3a"
            ],
            [
             0.8888888888888888,
             "#fdca26"
            ],
            [
             1,
             "#f0f921"
            ]
           ]
          },
          "colorway": [
           "#636efa",
           "#EF553B",
           "#00cc96",
           "#ab63fa",
           "#FFA15A",
           "#19d3f3",
           "#FF6692",
           "#B6E880",
           "#FF97FF",
           "#FECB52"
          ],
          "font": {
           "color": "#2a3f5f"
          },
          "geo": {
           "bgcolor": "white",
           "lakecolor": "white",
           "landcolor": "#E5ECF6",
           "showlakes": true,
           "showland": true,
           "subunitcolor": "white"
          },
          "hoverlabel": {
           "align": "left"
          },
          "hovermode": "closest",
          "mapbox": {
           "style": "light"
          },
          "paper_bgcolor": "white",
          "plot_bgcolor": "#E5ECF6",
          "polar": {
           "angularaxis": {
            "gridcolor": "white",
            "linecolor": "white",
            "ticks": ""
           },
           "bgcolor": "#E5ECF6",
           "radialaxis": {
            "gridcolor": "white",
            "linecolor": "white",
            "ticks": ""
           }
          },
          "scene": {
           "xaxis": {
            "backgroundcolor": "#E5ECF6",
            "gridcolor": "white",
            "gridwidth": 2,
            "linecolor": "white",
            "showbackground": true,
            "ticks": "",
            "zerolinecolor": "white"
           },
           "yaxis": {
            "backgroundcolor": "#E5ECF6",
            "gridcolor": "white",
            "gridwidth": 2,
            "linecolor": "white",
            "showbackground": true,
            "ticks": "",
            "zerolinecolor": "white"
           },
           "zaxis": {
            "backgroundcolor": "#E5ECF6",
            "gridcolor": "white",
            "gridwidth": 2,
            "linecolor": "white",
            "showbackground": true,
            "ticks": "",
            "zerolinecolor": "white"
           }
          },
          "shapedefaults": {
           "line": {
            "color": "#2a3f5f"
           }
          },
          "ternary": {
           "aaxis": {
            "gridcolor": "white",
            "linecolor": "white",
            "ticks": ""
           },
           "baxis": {
            "gridcolor": "white",
            "linecolor": "white",
            "ticks": ""
           },
           "bgcolor": "#E5ECF6",
           "caxis": {
            "gridcolor": "white",
            "linecolor": "white",
            "ticks": ""
           }
          },
          "title": {
           "x": 0.05
          },
          "xaxis": {
           "automargin": true,
           "gridcolor": "white",
           "linecolor": "white",
           "ticks": "",
           "title": {
            "standoff": 15
           },
           "zerolinecolor": "white",
           "zerolinewidth": 2
          },
          "yaxis": {
           "automargin": true,
           "gridcolor": "white",
           "linecolor": "white",
           "ticks": "",
           "title": {
            "standoff": 15
           },
           "zerolinecolor": "white",
           "zerolinewidth": 2
          }
         }
        },
        "title": {
         "text": "Percentage of Household in Positive and Negative Savings"
        },
        "width": 1000,
        "xaxis": {
         "anchor": "y",
         "domain": [
          0,
          0.2888888888888889
         ],
         "tickformat": ",.0%",
         "title": {
          "text": "Bill"
         },
         "visible": true
        },
        "xaxis2": {
         "anchor": "y2",
         "domain": [
          0.35555555555555557,
          0.6444444444444445
         ],
         "tickformat": ",.0%",
         "title": {
          "text": "Emission"
         },
         "visible": true
        },
        "xaxis3": {
         "anchor": "y3",
         "domain": [
          0.7111111111111111,
          1
         ],
         "tickformat": ",.0%",
         "title": {
          "text": "Total Energy"
         },
         "visible": true
        },
        "yaxis": {
         "anchor": "x",
         "domain": [
          0,
          1
         ],
         "visible": true
        },
        "yaxis2": {
         "anchor": "x2",
         "domain": [
          0,
          1
         ],
         "visible": false
        },
        "yaxis3": {
         "anchor": "x3",
         "domain": [
          0,
          1
         ],
         "visible": false
        }
       }
      }
     },
     "metadata": {},
     "output_type": "display_data"
    },
    {
     "name": "stderr",
     "output_type": "stream",
     "text": [
      "/var/folders/zw/lhnn73fj2250g9z11h_whq1szkf2pm/T/ipykernel_53214/3209730133.py:3: PerformanceWarning:\n",
      "\n",
      "DataFrame is highly fragmented.  This is usually the result of calling `frame.insert` many times, which has poor performance.  Consider joining all columns at once using pd.concat(axis=1) instead. To get a de-fragmented frame, use `newframe = frame.copy()`\n",
      "\n",
      "/var/folders/zw/lhnn73fj2250g9z11h_whq1szkf2pm/T/ipykernel_53214/3209730133.py:4: PerformanceWarning:\n",
      "\n",
      "DataFrame is highly fragmented.  This is usually the result of calling `frame.insert` many times, which has poor performance.  Consider joining all columns at once using pd.concat(axis=1) instead. To get a de-fragmented frame, use `newframe = frame.copy()`\n",
      "\n",
      "/var/folders/zw/lhnn73fj2250g9z11h_whq1szkf2pm/T/ipykernel_53214/3209730133.py:5: PerformanceWarning:\n",
      "\n",
      "DataFrame is highly fragmented.  This is usually the result of calling `frame.insert` many times, which has poor performance.  Consider joining all columns at once using pd.concat(axis=1) instead. To get a de-fragmented frame, use `newframe = frame.copy()`\n",
      "\n"
     ]
    }
   ],
   "source": [
    "segment = 'segment2'\n",
    "results = figure_positive_negative_savings(segment, community_results)\n",
    "saving_results[f'segment2_{income}_pct_bill_positive_savings_%'] = results[0]*100\n",
    "saving_results[f'segment2_{income}_pct_emission_positive_savings_%'] = results[1]*100\n",
    "saving_results[f'segment2_{income}_pct_energy_positive_savings_%'] = results[2]*100"
   ]
  },
  {
   "cell_type": "markdown",
   "id": "5902d860",
   "metadata": {},
   "source": [
    "### Segment 3"
   ]
  },
  {
   "cell_type": "code",
   "execution_count": 51,
   "id": "bd3a4fc0",
   "metadata": {},
   "outputs": [
    {
     "data": {
      "application/vnd.plotly.v1+json": {
       "config": {
        "plotlyServerURL": "https://plot.ly"
       },
       "data": [
        {
         "marker": {
          "color": "red"
         },
         "name": "Negative",
         "orientation": "h",
         "text": [
          1,
          0.7567567567567568,
          0.7567567567567568,
          0.7027027027027027,
          0.11363636363636363,
          0.1111111111111111,
          0.08450704225352113,
          0.06756756756756757,
          0.06756756756756757,
          0.05405405405405406,
          0.05405405405405406,
          0.05405405405405406,
          0.02702702702702703,
          0,
          0,
          0
         ],
         "textposition": "inside",
         "texttemplate": "%{text:.0%}",
         "type": "bar",
         "x": [
          1,
          0.7567567567567568,
          0.7567567567567568,
          0.7027027027027027,
          0.11363636363636363,
          0.1111111111111111,
          0.08450704225352113,
          0.06756756756756757,
          0.06756756756756757,
          0.05405405405405406,
          0.05405405405405406,
          0.05405405405405406,
          0.02702702702702703,
          0,
          0,
          0
         ],
         "xaxis": "x",
         "y": [
          "Electric Clothes Dryer",
          "Mininum Efficiency Heat Pump with Electric Heat Backup",
          "Mininum Efficiency Heat Pump with Existing Heat Backup",
          "High Efficiency Heat Pump with Electric Heat Backup",
          "Basic Enclosure",
          "Enhanced Enclosure",
          "Mininum Efficiency Whole Home Electrification",
          "Basic Enclosure + HPWH + High Efficiency HP/Electric Backup",
          "Enhanced Enclosure + HPWH + High Efficiency HP/Electric Backup",
          "Basic Enclosure + High Efficiency Whole Home Electrification",
          "Enhanced Enclosure + High Efficiency Whole Home Electrification",
          "High Efficiency Whole Home Electrification",
          "Heat Pump Water Heater",
          "Electric Cooking",
          "Heat Pump Clothes Dryer",
          "Induction Cooking"
         ],
         "yaxis": "y"
        },
        {
         "marker": {
          "color": "green"
         },
         "name": "Positive",
         "orientation": "h",
         "text": [
          0,
          0.24324324324324326,
          0.24324324324324326,
          0.2972972972972973,
          0.8863636363636364,
          0.8888888888888888,
          0.9154929577464789,
          0.9324324324324325,
          0.9324324324324325,
          0.9459459459459459,
          0.9459459459459459,
          0.9459459459459459,
          0.972972972972973,
          1,
          1,
          1
         ],
         "textposition": "inside",
         "texttemplate": "%{text:.0%}",
         "type": "bar",
         "x": [
          0,
          0.24324324324324326,
          0.24324324324324326,
          0.2972972972972973,
          0.8863636363636364,
          0.8888888888888888,
          0.9154929577464789,
          0.9324324324324325,
          0.9324324324324325,
          0.9459459459459459,
          0.9459459459459459,
          0.9459459459459459,
          0.972972972972973,
          1,
          1,
          1
         ],
         "xaxis": "x",
         "y": [
          "Electric Clothes Dryer",
          "Mininum Efficiency Heat Pump with Electric Heat Backup",
          "Mininum Efficiency Heat Pump with Existing Heat Backup",
          "High Efficiency Heat Pump with Electric Heat Backup",
          "Basic Enclosure",
          "Enhanced Enclosure",
          "Mininum Efficiency Whole Home Electrification",
          "Basic Enclosure + HPWH + High Efficiency HP/Electric Backup",
          "Enhanced Enclosure + HPWH + High Efficiency HP/Electric Backup",
          "Basic Enclosure + High Efficiency Whole Home Electrification",
          "Enhanced Enclosure + High Efficiency Whole Home Electrification",
          "High Efficiency Whole Home Electrification",
          "Heat Pump Water Heater",
          "Electric Cooking",
          "Heat Pump Clothes Dryer",
          "Induction Cooking"
         ],
         "yaxis": "y"
        },
        {
         "marker": {
          "color": "red"
         },
         "orientation": "h",
         "showlegend": false,
         "text": [
          0,
          0.7432432432432432,
          0.7432432432432432,
          0.6891891891891891,
          0.10869565217391304,
          0.10638297872340426,
          0,
          0,
          0,
          0,
          0,
          0,
          0,
          0,
          0,
          0
         ],
         "textposition": "inside",
         "texttemplate": "%{text:.0%}",
         "type": "bar",
         "x": [
          0,
          0.7432432432432432,
          0.7432432432432432,
          0.6891891891891891,
          0.10869565217391304,
          0.10638297872340426,
          0,
          0,
          0,
          0,
          0,
          0,
          0,
          0,
          0,
          0
         ],
         "xaxis": "x2",
         "y": [
          "Electric Clothes Dryer",
          "Mininum Efficiency Heat Pump with Electric Heat Backup",
          "Mininum Efficiency Heat Pump with Existing Heat Backup",
          "High Efficiency Heat Pump with Electric Heat Backup",
          "Basic Enclosure",
          "Enhanced Enclosure",
          "Mininum Efficiency Whole Home Electrification",
          "Basic Enclosure + HPWH + High Efficiency HP/Electric Backup",
          "Enhanced Enclosure + HPWH + High Efficiency HP/Electric Backup",
          "Basic Enclosure + High Efficiency Whole Home Electrification",
          "Enhanced Enclosure + High Efficiency Whole Home Electrification",
          "High Efficiency Whole Home Electrification",
          "Heat Pump Water Heater",
          "Electric Cooking",
          "Heat Pump Clothes Dryer",
          "Induction Cooking"
         ],
         "yaxis": "y2"
        },
        {
         "marker": {
          "color": "green"
         },
         "orientation": "h",
         "showlegend": false,
         "text": [
          1,
          0.25675675675675674,
          0.25675675675675674,
          0.3108108108108108,
          0.8913043478260869,
          0.8936170212765957,
          1,
          1,
          1,
          1,
          1,
          1,
          1,
          1,
          1,
          1
         ],
         "textposition": "inside",
         "texttemplate": "%{text:.0%}",
         "type": "bar",
         "x": [
          1,
          0.25675675675675674,
          0.25675675675675674,
          0.3108108108108108,
          0.8913043478260869,
          0.8936170212765957,
          1,
          1,
          1,
          1,
          1,
          1,
          1,
          1,
          1,
          1
         ],
         "xaxis": "x2",
         "y": [
          "Electric Clothes Dryer",
          "Mininum Efficiency Heat Pump with Electric Heat Backup",
          "Mininum Efficiency Heat Pump with Existing Heat Backup",
          "High Efficiency Heat Pump with Electric Heat Backup",
          "Basic Enclosure",
          "Enhanced Enclosure",
          "Mininum Efficiency Whole Home Electrification",
          "Basic Enclosure + HPWH + High Efficiency HP/Electric Backup",
          "Enhanced Enclosure + HPWH + High Efficiency HP/Electric Backup",
          "Basic Enclosure + High Efficiency Whole Home Electrification",
          "Enhanced Enclosure + High Efficiency Whole Home Electrification",
          "High Efficiency Whole Home Electrification",
          "Heat Pump Water Heater",
          "Electric Cooking",
          "Heat Pump Clothes Dryer",
          "Induction Cooking"
         ],
         "yaxis": "y2"
        },
        {
         "marker": {
          "color": "red"
         },
         "orientation": "h",
         "showlegend": false,
         "text": [
          0,
          0.7567567567567568,
          0.7567567567567568,
          0.6891891891891891,
          0.1111111111111111,
          0.10869565217391304,
          0,
          0,
          0,
          0,
          0,
          0,
          0,
          0,
          0,
          0
         ],
         "textposition": "inside",
         "texttemplate": "%{text:.0%}",
         "type": "bar",
         "x": [
          0,
          0.7567567567567568,
          0.7567567567567568,
          0.6891891891891891,
          0.1111111111111111,
          0.10869565217391304,
          0,
          0,
          0,
          0,
          0,
          0,
          0,
          0,
          0,
          0
         ],
         "xaxis": "x3",
         "y": [
          "Electric Clothes Dryer",
          "Mininum Efficiency Heat Pump with Electric Heat Backup",
          "Mininum Efficiency Heat Pump with Existing Heat Backup",
          "High Efficiency Heat Pump with Electric Heat Backup",
          "Basic Enclosure",
          "Enhanced Enclosure",
          "Mininum Efficiency Whole Home Electrification",
          "Basic Enclosure + HPWH + High Efficiency HP/Electric Backup",
          "Enhanced Enclosure + HPWH + High Efficiency HP/Electric Backup",
          "Basic Enclosure + High Efficiency Whole Home Electrification",
          "Enhanced Enclosure + High Efficiency Whole Home Electrification",
          "High Efficiency Whole Home Electrification",
          "Heat Pump Water Heater",
          "Electric Cooking",
          "Heat Pump Clothes Dryer",
          "Induction Cooking"
         ],
         "yaxis": "y3"
        },
        {
         "marker": {
          "color": "green"
         },
         "orientation": "h",
         "showlegend": false,
         "text": [
          1,
          0.24324324324324326,
          0.24324324324324326,
          0.3108108108108108,
          0.8888888888888888,
          0.8913043478260869,
          1,
          1,
          1,
          1,
          1,
          1,
          1,
          1,
          1,
          1
         ],
         "textposition": "inside",
         "texttemplate": "%{text:.0%}",
         "type": "bar",
         "x": [
          1,
          0.24324324324324326,
          0.24324324324324326,
          0.3108108108108108,
          0.8888888888888888,
          0.8913043478260869,
          1,
          1,
          1,
          1,
          1,
          1,
          1,
          1,
          1,
          1
         ],
         "xaxis": "x3",
         "y": [
          "Electric Clothes Dryer",
          "Mininum Efficiency Heat Pump with Electric Heat Backup",
          "Mininum Efficiency Heat Pump with Existing Heat Backup",
          "High Efficiency Heat Pump with Electric Heat Backup",
          "Basic Enclosure",
          "Enhanced Enclosure",
          "Mininum Efficiency Whole Home Electrification",
          "Basic Enclosure + HPWH + High Efficiency HP/Electric Backup",
          "Enhanced Enclosure + HPWH + High Efficiency HP/Electric Backup",
          "Basic Enclosure + High Efficiency Whole Home Electrification",
          "Enhanced Enclosure + High Efficiency Whole Home Electrification",
          "High Efficiency Whole Home Electrification",
          "Heat Pump Water Heater",
          "Electric Cooking",
          "Heat Pump Clothes Dryer",
          "Induction Cooking"
         ],
         "yaxis": "y3"
        }
       ],
       "layout": {
        "autosize": false,
        "barmode": "relative",
        "font": {
         "size": 10
        },
        "height": 500,
        "template": {
         "data": {
          "bar": [
           {
            "error_x": {
             "color": "#2a3f5f"
            },
            "error_y": {
             "color": "#2a3f5f"
            },
            "marker": {
             "line": {
              "color": "#E5ECF6",
              "width": 0.5
             },
             "pattern": {
              "fillmode": "overlay",
              "size": 10,
              "solidity": 0.2
             }
            },
            "type": "bar"
           }
          ],
          "barpolar": [
           {
            "marker": {
             "line": {
              "color": "#E5ECF6",
              "width": 0.5
             },
             "pattern": {
              "fillmode": "overlay",
              "size": 10,
              "solidity": 0.2
             }
            },
            "type": "barpolar"
           }
          ],
          "carpet": [
           {
            "aaxis": {
             "endlinecolor": "#2a3f5f",
             "gridcolor": "white",
             "linecolor": "white",
             "minorgridcolor": "white",
             "startlinecolor": "#2a3f5f"
            },
            "baxis": {
             "endlinecolor": "#2a3f5f",
             "gridcolor": "white",
             "linecolor": "white",
             "minorgridcolor": "white",
             "startlinecolor": "#2a3f5f"
            },
            "type": "carpet"
           }
          ],
          "choropleth": [
           {
            "colorbar": {
             "outlinewidth": 0,
             "ticks": ""
            },
            "type": "choropleth"
           }
          ],
          "contour": [
           {
            "colorbar": {
             "outlinewidth": 0,
             "ticks": ""
            },
            "colorscale": [
             [
              0,
              "#0d0887"
             ],
             [
              0.1111111111111111,
              "#46039f"
             ],
             [
              0.2222222222222222,
              "#7201a8"
             ],
             [
              0.3333333333333333,
              "#9c179e"
             ],
             [
              0.4444444444444444,
              "#bd3786"
             ],
             [
              0.5555555555555556,
              "#d8576b"
             ],
             [
              0.6666666666666666,
              "#ed7953"
             ],
             [
              0.7777777777777778,
              "#fb9f3a"
             ],
             [
              0.8888888888888888,
              "#fdca26"
             ],
             [
              1,
              "#f0f921"
             ]
            ],
            "type": "contour"
           }
          ],
          "contourcarpet": [
           {
            "colorbar": {
             "outlinewidth": 0,
             "ticks": ""
            },
            "type": "contourcarpet"
           }
          ],
          "heatmap": [
           {
            "colorbar": {
             "outlinewidth": 0,
             "ticks": ""
            },
            "colorscale": [
             [
              0,
              "#0d0887"
             ],
             [
              0.1111111111111111,
              "#46039f"
             ],
             [
              0.2222222222222222,
              "#7201a8"
             ],
             [
              0.3333333333333333,
              "#9c179e"
             ],
             [
              0.4444444444444444,
              "#bd3786"
             ],
             [
              0.5555555555555556,
              "#d8576b"
             ],
             [
              0.6666666666666666,
              "#ed7953"
             ],
             [
              0.7777777777777778,
              "#fb9f3a"
             ],
             [
              0.8888888888888888,
              "#fdca26"
             ],
             [
              1,
              "#f0f921"
             ]
            ],
            "type": "heatmap"
           }
          ],
          "heatmapgl": [
           {
            "colorbar": {
             "outlinewidth": 0,
             "ticks": ""
            },
            "colorscale": [
             [
              0,
              "#0d0887"
             ],
             [
              0.1111111111111111,
              "#46039f"
             ],
             [
              0.2222222222222222,
              "#7201a8"
             ],
             [
              0.3333333333333333,
              "#9c179e"
             ],
             [
              0.4444444444444444,
              "#bd3786"
             ],
             [
              0.5555555555555556,
              "#d8576b"
             ],
             [
              0.6666666666666666,
              "#ed7953"
             ],
             [
              0.7777777777777778,
              "#fb9f3a"
             ],
             [
              0.8888888888888888,
              "#fdca26"
             ],
             [
              1,
              "#f0f921"
             ]
            ],
            "type": "heatmapgl"
           }
          ],
          "histogram": [
           {
            "marker": {
             "pattern": {
              "fillmode": "overlay",
              "size": 10,
              "solidity": 0.2
             }
            },
            "type": "histogram"
           }
          ],
          "histogram2d": [
           {
            "colorbar": {
             "outlinewidth": 0,
             "ticks": ""
            },
            "colorscale": [
             [
              0,
              "#0d0887"
             ],
             [
              0.1111111111111111,
              "#46039f"
             ],
             [
              0.2222222222222222,
              "#7201a8"
             ],
             [
              0.3333333333333333,
              "#9c179e"
             ],
             [
              0.4444444444444444,
              "#bd3786"
             ],
             [
              0.5555555555555556,
              "#d8576b"
             ],
             [
              0.6666666666666666,
              "#ed7953"
             ],
             [
              0.7777777777777778,
              "#fb9f3a"
             ],
             [
              0.8888888888888888,
              "#fdca26"
             ],
             [
              1,
              "#f0f921"
             ]
            ],
            "type": "histogram2d"
           }
          ],
          "histogram2dcontour": [
           {
            "colorbar": {
             "outlinewidth": 0,
             "ticks": ""
            },
            "colorscale": [
             [
              0,
              "#0d0887"
             ],
             [
              0.1111111111111111,
              "#46039f"
             ],
             [
              0.2222222222222222,
              "#7201a8"
             ],
             [
              0.3333333333333333,
              "#9c179e"
             ],
             [
              0.4444444444444444,
              "#bd3786"
             ],
             [
              0.5555555555555556,
              "#d8576b"
             ],
             [
              0.6666666666666666,
              "#ed7953"
             ],
             [
              0.7777777777777778,
              "#fb9f3a"
             ],
             [
              0.8888888888888888,
              "#fdca26"
             ],
             [
              1,
              "#f0f921"
             ]
            ],
            "type": "histogram2dcontour"
           }
          ],
          "mesh3d": [
           {
            "colorbar": {
             "outlinewidth": 0,
             "ticks": ""
            },
            "type": "mesh3d"
           }
          ],
          "parcoords": [
           {
            "line": {
             "colorbar": {
              "outlinewidth": 0,
              "ticks": ""
             }
            },
            "type": "parcoords"
           }
          ],
          "pie": [
           {
            "automargin": true,
            "type": "pie"
           }
          ],
          "scatter": [
           {
            "fillpattern": {
             "fillmode": "overlay",
             "size": 10,
             "solidity": 0.2
            },
            "type": "scatter"
           }
          ],
          "scatter3d": [
           {
            "line": {
             "colorbar": {
              "outlinewidth": 0,
              "ticks": ""
             }
            },
            "marker": {
             "colorbar": {
              "outlinewidth": 0,
              "ticks": ""
             }
            },
            "type": "scatter3d"
           }
          ],
          "scattercarpet": [
           {
            "marker": {
             "colorbar": {
              "outlinewidth": 0,
              "ticks": ""
             }
            },
            "type": "scattercarpet"
           }
          ],
          "scattergeo": [
           {
            "marker": {
             "colorbar": {
              "outlinewidth": 0,
              "ticks": ""
             }
            },
            "type": "scattergeo"
           }
          ],
          "scattergl": [
           {
            "marker": {
             "colorbar": {
              "outlinewidth": 0,
              "ticks": ""
             }
            },
            "type": "scattergl"
           }
          ],
          "scattermapbox": [
           {
            "marker": {
             "colorbar": {
              "outlinewidth": 0,
              "ticks": ""
             }
            },
            "type": "scattermapbox"
           }
          ],
          "scatterpolar": [
           {
            "marker": {
             "colorbar": {
              "outlinewidth": 0,
              "ticks": ""
             }
            },
            "type": "scatterpolar"
           }
          ],
          "scatterpolargl": [
           {
            "marker": {
             "colorbar": {
              "outlinewidth": 0,
              "ticks": ""
             }
            },
            "type": "scatterpolargl"
           }
          ],
          "scatterternary": [
           {
            "marker": {
             "colorbar": {
              "outlinewidth": 0,
              "ticks": ""
             }
            },
            "type": "scatterternary"
           }
          ],
          "surface": [
           {
            "colorbar": {
             "outlinewidth": 0,
             "ticks": ""
            },
            "colorscale": [
             [
              0,
              "#0d0887"
             ],
             [
              0.1111111111111111,
              "#46039f"
             ],
             [
              0.2222222222222222,
              "#7201a8"
             ],
             [
              0.3333333333333333,
              "#9c179e"
             ],
             [
              0.4444444444444444,
              "#bd3786"
             ],
             [
              0.5555555555555556,
              "#d8576b"
             ],
             [
              0.6666666666666666,
              "#ed7953"
             ],
             [
              0.7777777777777778,
              "#fb9f3a"
             ],
             [
              0.8888888888888888,
              "#fdca26"
             ],
             [
              1,
              "#f0f921"
             ]
            ],
            "type": "surface"
           }
          ],
          "table": [
           {
            "cells": {
             "fill": {
              "color": "#EBF0F8"
             },
             "line": {
              "color": "white"
             }
            },
            "header": {
             "fill": {
              "color": "#C8D4E3"
             },
             "line": {
              "color": "white"
             }
            },
            "type": "table"
           }
          ]
         },
         "layout": {
          "annotationdefaults": {
           "arrowcolor": "#2a3f5f",
           "arrowhead": 0,
           "arrowwidth": 1
          },
          "autotypenumbers": "strict",
          "coloraxis": {
           "colorbar": {
            "outlinewidth": 0,
            "ticks": ""
           }
          },
          "colorscale": {
           "diverging": [
            [
             0,
             "#8e0152"
            ],
            [
             0.1,
             "#c51b7d"
            ],
            [
             0.2,
             "#de77ae"
            ],
            [
             0.3,
             "#f1b6da"
            ],
            [
             0.4,
             "#fde0ef"
            ],
            [
             0.5,
             "#f7f7f7"
            ],
            [
             0.6,
             "#e6f5d0"
            ],
            [
             0.7,
             "#b8e186"
            ],
            [
             0.8,
             "#7fbc41"
            ],
            [
             0.9,
             "#4d9221"
            ],
            [
             1,
             "#276419"
            ]
           ],
           "sequential": [
            [
             0,
             "#0d0887"
            ],
            [
             0.1111111111111111,
             "#46039f"
            ],
            [
             0.2222222222222222,
             "#7201a8"
            ],
            [
             0.3333333333333333,
             "#9c179e"
            ],
            [
             0.4444444444444444,
             "#bd3786"
            ],
            [
             0.5555555555555556,
             "#d8576b"
            ],
            [
             0.6666666666666666,
             "#ed7953"
            ],
            [
             0.7777777777777778,
             "#fb9f3a"
            ],
            [
             0.8888888888888888,
             "#fdca26"
            ],
            [
             1,
             "#f0f921"
            ]
           ],
           "sequentialminus": [
            [
             0,
             "#0d0887"
            ],
            [
             0.1111111111111111,
             "#46039f"
            ],
            [
             0.2222222222222222,
             "#7201a8"
            ],
            [
             0.3333333333333333,
             "#9c179e"
            ],
            [
             0.4444444444444444,
             "#bd3786"
            ],
            [
             0.5555555555555556,
             "#d8576b"
            ],
            [
             0.6666666666666666,
             "#ed7953"
            ],
            [
             0.7777777777777778,
             "#fb9f3a"
            ],
            [
             0.8888888888888888,
             "#fdca26"
            ],
            [
             1,
             "#f0f921"
            ]
           ]
          },
          "colorway": [
           "#636efa",
           "#EF553B",
           "#00cc96",
           "#ab63fa",
           "#FFA15A",
           "#19d3f3",
           "#FF6692",
           "#B6E880",
           "#FF97FF",
           "#FECB52"
          ],
          "font": {
           "color": "#2a3f5f"
          },
          "geo": {
           "bgcolor": "white",
           "lakecolor": "white",
           "landcolor": "#E5ECF6",
           "showlakes": true,
           "showland": true,
           "subunitcolor": "white"
          },
          "hoverlabel": {
           "align": "left"
          },
          "hovermode": "closest",
          "mapbox": {
           "style": "light"
          },
          "paper_bgcolor": "white",
          "plot_bgcolor": "#E5ECF6",
          "polar": {
           "angularaxis": {
            "gridcolor": "white",
            "linecolor": "white",
            "ticks": ""
           },
           "bgcolor": "#E5ECF6",
           "radialaxis": {
            "gridcolor": "white",
            "linecolor": "white",
            "ticks": ""
           }
          },
          "scene": {
           "xaxis": {
            "backgroundcolor": "#E5ECF6",
            "gridcolor": "white",
            "gridwidth": 2,
            "linecolor": "white",
            "showbackground": true,
            "ticks": "",
            "zerolinecolor": "white"
           },
           "yaxis": {
            "backgroundcolor": "#E5ECF6",
            "gridcolor": "white",
            "gridwidth": 2,
            "linecolor": "white",
            "showbackground": true,
            "ticks": "",
            "zerolinecolor": "white"
           },
           "zaxis": {
            "backgroundcolor": "#E5ECF6",
            "gridcolor": "white",
            "gridwidth": 2,
            "linecolor": "white",
            "showbackground": true,
            "ticks": "",
            "zerolinecolor": "white"
           }
          },
          "shapedefaults": {
           "line": {
            "color": "#2a3f5f"
           }
          },
          "ternary": {
           "aaxis": {
            "gridcolor": "white",
            "linecolor": "white",
            "ticks": ""
           },
           "baxis": {
            "gridcolor": "white",
            "linecolor": "white",
            "ticks": ""
           },
           "bgcolor": "#E5ECF6",
           "caxis": {
            "gridcolor": "white",
            "linecolor": "white",
            "ticks": ""
           }
          },
          "title": {
           "x": 0.05
          },
          "xaxis": {
           "automargin": true,
           "gridcolor": "white",
           "linecolor": "white",
           "ticks": "",
           "title": {
            "standoff": 15
           },
           "zerolinecolor": "white",
           "zerolinewidth": 2
          },
          "yaxis": {
           "automargin": true,
           "gridcolor": "white",
           "linecolor": "white",
           "ticks": "",
           "title": {
            "standoff": 15
           },
           "zerolinecolor": "white",
           "zerolinewidth": 2
          }
         }
        },
        "title": {
         "text": "Percentage of Household in Positive and Negative Savings"
        },
        "width": 1000,
        "xaxis": {
         "anchor": "y",
         "domain": [
          0,
          0.2888888888888889
         ],
         "tickformat": ",.0%",
         "title": {
          "text": "Bill"
         },
         "visible": true
        },
        "xaxis2": {
         "anchor": "y2",
         "domain": [
          0.35555555555555557,
          0.6444444444444445
         ],
         "tickformat": ",.0%",
         "title": {
          "text": "Emission"
         },
         "visible": true
        },
        "xaxis3": {
         "anchor": "y3",
         "domain": [
          0.7111111111111111,
          1
         ],
         "tickformat": ",.0%",
         "title": {
          "text": "Total Energy"
         },
         "visible": true
        },
        "yaxis": {
         "anchor": "x",
         "domain": [
          0,
          1
         ],
         "visible": true
        },
        "yaxis2": {
         "anchor": "x2",
         "domain": [
          0,
          1
         ],
         "visible": false
        },
        "yaxis3": {
         "anchor": "x3",
         "domain": [
          0,
          1
         ],
         "visible": false
        }
       }
      }
     },
     "metadata": {},
     "output_type": "display_data"
    },
    {
     "name": "stderr",
     "output_type": "stream",
     "text": [
      "/var/folders/zw/lhnn73fj2250g9z11h_whq1szkf2pm/T/ipykernel_53214/1326448381.py:3: PerformanceWarning:\n",
      "\n",
      "DataFrame is highly fragmented.  This is usually the result of calling `frame.insert` many times, which has poor performance.  Consider joining all columns at once using pd.concat(axis=1) instead. To get a de-fragmented frame, use `newframe = frame.copy()`\n",
      "\n",
      "/var/folders/zw/lhnn73fj2250g9z11h_whq1szkf2pm/T/ipykernel_53214/1326448381.py:4: PerformanceWarning:\n",
      "\n",
      "DataFrame is highly fragmented.  This is usually the result of calling `frame.insert` many times, which has poor performance.  Consider joining all columns at once using pd.concat(axis=1) instead. To get a de-fragmented frame, use `newframe = frame.copy()`\n",
      "\n",
      "/var/folders/zw/lhnn73fj2250g9z11h_whq1szkf2pm/T/ipykernel_53214/1326448381.py:5: PerformanceWarning:\n",
      "\n",
      "DataFrame is highly fragmented.  This is usually the result of calling `frame.insert` many times, which has poor performance.  Consider joining all columns at once using pd.concat(axis=1) instead. To get a de-fragmented frame, use `newframe = frame.copy()`\n",
      "\n"
     ]
    }
   ],
   "source": [
    "egment = 'segment3'\n",
    "results = figure_positive_negative_savings(segment, community_results) \n",
    "saving_results[f'segment3_{income}_pct_bill_positive_savings_%'] = results[0]*100\n",
    "saving_results[f'segment3_{income}_pct_emission_positive_savings_%'] = results[1]*100\n",
    "saving_results[f'segment3_{income}_pct_energy_positive_savings_%'] = results[2]*100"
   ]
  },
  {
   "cell_type": "markdown",
   "id": "2e251a36",
   "metadata": {},
   "source": [
    "### Segment 4"
   ]
  },
  {
   "cell_type": "code",
   "execution_count": 52,
   "id": "2e970f6b",
   "metadata": {},
   "outputs": [
    {
     "data": {
      "application/vnd.plotly.v1+json": {
       "config": {
        "plotlyServerURL": "https://plot.ly"
       },
       "data": [
        {
         "marker": {
          "color": "red"
         },
         "name": "Negative",
         "orientation": "h",
         "text": [
          1,
          0.375,
          0.375,
          0.2857142857142857,
          0.25,
          0.125,
          0,
          0,
          0,
          0,
          0,
          0,
          0,
          0,
          0,
          0
         ],
         "textposition": "inside",
         "texttemplate": "%{text:.0%}",
         "type": "bar",
         "x": [
          1,
          0.375,
          0.375,
          0.2857142857142857,
          0.25,
          0.125,
          0,
          0,
          0,
          0,
          0,
          0,
          0,
          0,
          0,
          0
         ],
         "xaxis": "x",
         "y": [
          "Electric Clothes Dryer",
          "Mininum Efficiency Heat Pump with Electric Heat Backup",
          "Mininum Efficiency Heat Pump with Existing Heat Backup",
          "Mininum Efficiency Whole Home Electrification",
          "High Efficiency Heat Pump with Electric Heat Backup",
          "Heat Pump Water Heater",
          "Basic Enclosure",
          "Basic Enclosure + HPWH + High Efficiency HP/Electric Backup",
          "Basic Enclosure + High Efficiency Whole Home Electrification",
          "Electric Cooking",
          "Enhanced Enclosure",
          "Enhanced Enclosure + HPWH + High Efficiency HP/Electric Backup",
          "Enhanced Enclosure + High Efficiency Whole Home Electrification",
          "Heat Pump Clothes Dryer",
          "High Efficiency Whole Home Electrification",
          "Induction Cooking"
         ],
         "yaxis": "y"
        },
        {
         "marker": {
          "color": "green"
         },
         "name": "Positive",
         "orientation": "h",
         "text": [
          0,
          0.625,
          0.625,
          0.7142857142857143,
          0.75,
          0.875,
          1,
          1,
          1,
          1,
          1,
          1,
          1,
          1,
          1,
          1
         ],
         "textposition": "inside",
         "texttemplate": "%{text:.0%}",
         "type": "bar",
         "x": [
          0,
          0.625,
          0.625,
          0.7142857142857143,
          0.75,
          0.875,
          1,
          1,
          1,
          1,
          1,
          1,
          1,
          1,
          1,
          1
         ],
         "xaxis": "x",
         "y": [
          "Electric Clothes Dryer",
          "Mininum Efficiency Heat Pump with Electric Heat Backup",
          "Mininum Efficiency Heat Pump with Existing Heat Backup",
          "Mininum Efficiency Whole Home Electrification",
          "High Efficiency Heat Pump with Electric Heat Backup",
          "Heat Pump Water Heater",
          "Basic Enclosure",
          "Basic Enclosure + HPWH + High Efficiency HP/Electric Backup",
          "Basic Enclosure + High Efficiency Whole Home Electrification",
          "Electric Cooking",
          "Enhanced Enclosure",
          "Enhanced Enclosure + HPWH + High Efficiency HP/Electric Backup",
          "Enhanced Enclosure + High Efficiency Whole Home Electrification",
          "Heat Pump Clothes Dryer",
          "High Efficiency Whole Home Electrification",
          "Induction Cooking"
         ],
         "yaxis": "y"
        },
        {
         "marker": {
          "color": "red"
         },
         "orientation": "h",
         "showlegend": false,
         "text": [
          0,
          0.25,
          0.25,
          0,
          0.25,
          0,
          0,
          0,
          0,
          0,
          0,
          0,
          0,
          0,
          0,
          0
         ],
         "textposition": "inside",
         "texttemplate": "%{text:.0%}",
         "type": "bar",
         "x": [
          0,
          0.25,
          0.25,
          0,
          0.25,
          0,
          0,
          0,
          0,
          0,
          0,
          0,
          0,
          0,
          0,
          0
         ],
         "xaxis": "x2",
         "y": [
          "Electric Clothes Dryer",
          "Mininum Efficiency Heat Pump with Electric Heat Backup",
          "Mininum Efficiency Heat Pump with Existing Heat Backup",
          "Mininum Efficiency Whole Home Electrification",
          "High Efficiency Heat Pump with Electric Heat Backup",
          "Heat Pump Water Heater",
          "Basic Enclosure",
          "Basic Enclosure + HPWH + High Efficiency HP/Electric Backup",
          "Basic Enclosure + High Efficiency Whole Home Electrification",
          "Electric Cooking",
          "Enhanced Enclosure",
          "Enhanced Enclosure + HPWH + High Efficiency HP/Electric Backup",
          "Enhanced Enclosure + High Efficiency Whole Home Electrification",
          "Heat Pump Clothes Dryer",
          "High Efficiency Whole Home Electrification",
          "Induction Cooking"
         ],
         "yaxis": "y2"
        },
        {
         "marker": {
          "color": "green"
         },
         "orientation": "h",
         "showlegend": false,
         "text": [
          1,
          0.75,
          0.75,
          1,
          0.75,
          1,
          1,
          1,
          1,
          1,
          1,
          1,
          1,
          1,
          1,
          1
         ],
         "textposition": "inside",
         "texttemplate": "%{text:.0%}",
         "type": "bar",
         "x": [
          1,
          0.75,
          0.75,
          1,
          0.75,
          1,
          1,
          1,
          1,
          1,
          1,
          1,
          1,
          1,
          1,
          1
         ],
         "xaxis": "x2",
         "y": [
          "Electric Clothes Dryer",
          "Mininum Efficiency Heat Pump with Electric Heat Backup",
          "Mininum Efficiency Heat Pump with Existing Heat Backup",
          "Mininum Efficiency Whole Home Electrification",
          "High Efficiency Heat Pump with Electric Heat Backup",
          "Heat Pump Water Heater",
          "Basic Enclosure",
          "Basic Enclosure + HPWH + High Efficiency HP/Electric Backup",
          "Basic Enclosure + High Efficiency Whole Home Electrification",
          "Electric Cooking",
          "Enhanced Enclosure",
          "Enhanced Enclosure + HPWH + High Efficiency HP/Electric Backup",
          "Enhanced Enclosure + High Efficiency Whole Home Electrification",
          "Heat Pump Clothes Dryer",
          "High Efficiency Whole Home Electrification",
          "Induction Cooking"
         ],
         "yaxis": "y2"
        },
        {
         "marker": {
          "color": "red"
         },
         "orientation": "h",
         "showlegend": false,
         "text": [
          0,
          0.25,
          0.25,
          0,
          0.25,
          0,
          0,
          0,
          0,
          0,
          0,
          0,
          0,
          0,
          0,
          0
         ],
         "textposition": "inside",
         "texttemplate": "%{text:.0%}",
         "type": "bar",
         "x": [
          0,
          0.25,
          0.25,
          0,
          0.25,
          0,
          0,
          0,
          0,
          0,
          0,
          0,
          0,
          0,
          0,
          0
         ],
         "xaxis": "x3",
         "y": [
          "Electric Clothes Dryer",
          "Mininum Efficiency Heat Pump with Electric Heat Backup",
          "Mininum Efficiency Heat Pump with Existing Heat Backup",
          "Mininum Efficiency Whole Home Electrification",
          "High Efficiency Heat Pump with Electric Heat Backup",
          "Heat Pump Water Heater",
          "Basic Enclosure",
          "Basic Enclosure + HPWH + High Efficiency HP/Electric Backup",
          "Basic Enclosure + High Efficiency Whole Home Electrification",
          "Electric Cooking",
          "Enhanced Enclosure",
          "Enhanced Enclosure + HPWH + High Efficiency HP/Electric Backup",
          "Enhanced Enclosure + High Efficiency Whole Home Electrification",
          "Heat Pump Clothes Dryer",
          "High Efficiency Whole Home Electrification",
          "Induction Cooking"
         ],
         "yaxis": "y3"
        },
        {
         "marker": {
          "color": "green"
         },
         "orientation": "h",
         "showlegend": false,
         "text": [
          1,
          0.75,
          0.75,
          1,
          0.75,
          1,
          1,
          1,
          1,
          1,
          1,
          1,
          1,
          1,
          1,
          1
         ],
         "textposition": "inside",
         "texttemplate": "%{text:.0%}",
         "type": "bar",
         "x": [
          1,
          0.75,
          0.75,
          1,
          0.75,
          1,
          1,
          1,
          1,
          1,
          1,
          1,
          1,
          1,
          1,
          1
         ],
         "xaxis": "x3",
         "y": [
          "Electric Clothes Dryer",
          "Mininum Efficiency Heat Pump with Electric Heat Backup",
          "Mininum Efficiency Heat Pump with Existing Heat Backup",
          "Mininum Efficiency Whole Home Electrification",
          "High Efficiency Heat Pump with Electric Heat Backup",
          "Heat Pump Water Heater",
          "Basic Enclosure",
          "Basic Enclosure + HPWH + High Efficiency HP/Electric Backup",
          "Basic Enclosure + High Efficiency Whole Home Electrification",
          "Electric Cooking",
          "Enhanced Enclosure",
          "Enhanced Enclosure + HPWH + High Efficiency HP/Electric Backup",
          "Enhanced Enclosure + High Efficiency Whole Home Electrification",
          "Heat Pump Clothes Dryer",
          "High Efficiency Whole Home Electrification",
          "Induction Cooking"
         ],
         "yaxis": "y3"
        }
       ],
       "layout": {
        "autosize": false,
        "barmode": "relative",
        "font": {
         "size": 10
        },
        "height": 500,
        "template": {
         "data": {
          "bar": [
           {
            "error_x": {
             "color": "#2a3f5f"
            },
            "error_y": {
             "color": "#2a3f5f"
            },
            "marker": {
             "line": {
              "color": "#E5ECF6",
              "width": 0.5
             },
             "pattern": {
              "fillmode": "overlay",
              "size": 10,
              "solidity": 0.2
             }
            },
            "type": "bar"
           }
          ],
          "barpolar": [
           {
            "marker": {
             "line": {
              "color": "#E5ECF6",
              "width": 0.5
             },
             "pattern": {
              "fillmode": "overlay",
              "size": 10,
              "solidity": 0.2
             }
            },
            "type": "barpolar"
           }
          ],
          "carpet": [
           {
            "aaxis": {
             "endlinecolor": "#2a3f5f",
             "gridcolor": "white",
             "linecolor": "white",
             "minorgridcolor": "white",
             "startlinecolor": "#2a3f5f"
            },
            "baxis": {
             "endlinecolor": "#2a3f5f",
             "gridcolor": "white",
             "linecolor": "white",
             "minorgridcolor": "white",
             "startlinecolor": "#2a3f5f"
            },
            "type": "carpet"
           }
          ],
          "choropleth": [
           {
            "colorbar": {
             "outlinewidth": 0,
             "ticks": ""
            },
            "type": "choropleth"
           }
          ],
          "contour": [
           {
            "colorbar": {
             "outlinewidth": 0,
             "ticks": ""
            },
            "colorscale": [
             [
              0,
              "#0d0887"
             ],
             [
              0.1111111111111111,
              "#46039f"
             ],
             [
              0.2222222222222222,
              "#7201a8"
             ],
             [
              0.3333333333333333,
              "#9c179e"
             ],
             [
              0.4444444444444444,
              "#bd3786"
             ],
             [
              0.5555555555555556,
              "#d8576b"
             ],
             [
              0.6666666666666666,
              "#ed7953"
             ],
             [
              0.7777777777777778,
              "#fb9f3a"
             ],
             [
              0.8888888888888888,
              "#fdca26"
             ],
             [
              1,
              "#f0f921"
             ]
            ],
            "type": "contour"
           }
          ],
          "contourcarpet": [
           {
            "colorbar": {
             "outlinewidth": 0,
             "ticks": ""
            },
            "type": "contourcarpet"
           }
          ],
          "heatmap": [
           {
            "colorbar": {
             "outlinewidth": 0,
             "ticks": ""
            },
            "colorscale": [
             [
              0,
              "#0d0887"
             ],
             [
              0.1111111111111111,
              "#46039f"
             ],
             [
              0.2222222222222222,
              "#7201a8"
             ],
             [
              0.3333333333333333,
              "#9c179e"
             ],
             [
              0.4444444444444444,
              "#bd3786"
             ],
             [
              0.5555555555555556,
              "#d8576b"
             ],
             [
              0.6666666666666666,
              "#ed7953"
             ],
             [
              0.7777777777777778,
              "#fb9f3a"
             ],
             [
              0.8888888888888888,
              "#fdca26"
             ],
             [
              1,
              "#f0f921"
             ]
            ],
            "type": "heatmap"
           }
          ],
          "heatmapgl": [
           {
            "colorbar": {
             "outlinewidth": 0,
             "ticks": ""
            },
            "colorscale": [
             [
              0,
              "#0d0887"
             ],
             [
              0.1111111111111111,
              "#46039f"
             ],
             [
              0.2222222222222222,
              "#7201a8"
             ],
             [
              0.3333333333333333,
              "#9c179e"
             ],
             [
              0.4444444444444444,
              "#bd3786"
             ],
             [
              0.5555555555555556,
              "#d8576b"
             ],
             [
              0.6666666666666666,
              "#ed7953"
             ],
             [
              0.7777777777777778,
              "#fb9f3a"
             ],
             [
              0.8888888888888888,
              "#fdca26"
             ],
             [
              1,
              "#f0f921"
             ]
            ],
            "type": "heatmapgl"
           }
          ],
          "histogram": [
           {
            "marker": {
             "pattern": {
              "fillmode": "overlay",
              "size": 10,
              "solidity": 0.2
             }
            },
            "type": "histogram"
           }
          ],
          "histogram2d": [
           {
            "colorbar": {
             "outlinewidth": 0,
             "ticks": ""
            },
            "colorscale": [
             [
              0,
              "#0d0887"
             ],
             [
              0.1111111111111111,
              "#46039f"
             ],
             [
              0.2222222222222222,
              "#7201a8"
             ],
             [
              0.3333333333333333,
              "#9c179e"
             ],
             [
              0.4444444444444444,
              "#bd3786"
             ],
             [
              0.5555555555555556,
              "#d8576b"
             ],
             [
              0.6666666666666666,
              "#ed7953"
             ],
             [
              0.7777777777777778,
              "#fb9f3a"
             ],
             [
              0.8888888888888888,
              "#fdca26"
             ],
             [
              1,
              "#f0f921"
             ]
            ],
            "type": "histogram2d"
           }
          ],
          "histogram2dcontour": [
           {
            "colorbar": {
             "outlinewidth": 0,
             "ticks": ""
            },
            "colorscale": [
             [
              0,
              "#0d0887"
             ],
             [
              0.1111111111111111,
              "#46039f"
             ],
             [
              0.2222222222222222,
              "#7201a8"
             ],
             [
              0.3333333333333333,
              "#9c179e"
             ],
             [
              0.4444444444444444,
              "#bd3786"
             ],
             [
              0.5555555555555556,
              "#d8576b"
             ],
             [
              0.6666666666666666,
              "#ed7953"
             ],
             [
              0.7777777777777778,
              "#fb9f3a"
             ],
             [
              0.8888888888888888,
              "#fdca26"
             ],
             [
              1,
              "#f0f921"
             ]
            ],
            "type": "histogram2dcontour"
           }
          ],
          "mesh3d": [
           {
            "colorbar": {
             "outlinewidth": 0,
             "ticks": ""
            },
            "type": "mesh3d"
           }
          ],
          "parcoords": [
           {
            "line": {
             "colorbar": {
              "outlinewidth": 0,
              "ticks": ""
             }
            },
            "type": "parcoords"
           }
          ],
          "pie": [
           {
            "automargin": true,
            "type": "pie"
           }
          ],
          "scatter": [
           {
            "fillpattern": {
             "fillmode": "overlay",
             "size": 10,
             "solidity": 0.2
            },
            "type": "scatter"
           }
          ],
          "scatter3d": [
           {
            "line": {
             "colorbar": {
              "outlinewidth": 0,
              "ticks": ""
             }
            },
            "marker": {
             "colorbar": {
              "outlinewidth": 0,
              "ticks": ""
             }
            },
            "type": "scatter3d"
           }
          ],
          "scattercarpet": [
           {
            "marker": {
             "colorbar": {
              "outlinewidth": 0,
              "ticks": ""
             }
            },
            "type": "scattercarpet"
           }
          ],
          "scattergeo": [
           {
            "marker": {
             "colorbar": {
              "outlinewidth": 0,
              "ticks": ""
             }
            },
            "type": "scattergeo"
           }
          ],
          "scattergl": [
           {
            "marker": {
             "colorbar": {
              "outlinewidth": 0,
              "ticks": ""
             }
            },
            "type": "scattergl"
           }
          ],
          "scattermapbox": [
           {
            "marker": {
             "colorbar": {
              "outlinewidth": 0,
              "ticks": ""
             }
            },
            "type": "scattermapbox"
           }
          ],
          "scatterpolar": [
           {
            "marker": {
             "colorbar": {
              "outlinewidth": 0,
              "ticks": ""
             }
            },
            "type": "scatterpolar"
           }
          ],
          "scatterpolargl": [
           {
            "marker": {
             "colorbar": {
              "outlinewidth": 0,
              "ticks": ""
             }
            },
            "type": "scatterpolargl"
           }
          ],
          "scatterternary": [
           {
            "marker": {
             "colorbar": {
              "outlinewidth": 0,
              "ticks": ""
             }
            },
            "type": "scatterternary"
           }
          ],
          "surface": [
           {
            "colorbar": {
             "outlinewidth": 0,
             "ticks": ""
            },
            "colorscale": [
             [
              0,
              "#0d0887"
             ],
             [
              0.1111111111111111,
              "#46039f"
             ],
             [
              0.2222222222222222,
              "#7201a8"
             ],
             [
              0.3333333333333333,
              "#9c179e"
             ],
             [
              0.4444444444444444,
              "#bd3786"
             ],
             [
              0.5555555555555556,
              "#d8576b"
             ],
             [
              0.6666666666666666,
              "#ed7953"
             ],
             [
              0.7777777777777778,
              "#fb9f3a"
             ],
             [
              0.8888888888888888,
              "#fdca26"
             ],
             [
              1,
              "#f0f921"
             ]
            ],
            "type": "surface"
           }
          ],
          "table": [
           {
            "cells": {
             "fill": {
              "color": "#EBF0F8"
             },
             "line": {
              "color": "white"
             }
            },
            "header": {
             "fill": {
              "color": "#C8D4E3"
             },
             "line": {
              "color": "white"
             }
            },
            "type": "table"
           }
          ]
         },
         "layout": {
          "annotationdefaults": {
           "arrowcolor": "#2a3f5f",
           "arrowhead": 0,
           "arrowwidth": 1
          },
          "autotypenumbers": "strict",
          "coloraxis": {
           "colorbar": {
            "outlinewidth": 0,
            "ticks": ""
           }
          },
          "colorscale": {
           "diverging": [
            [
             0,
             "#8e0152"
            ],
            [
             0.1,
             "#c51b7d"
            ],
            [
             0.2,
             "#de77ae"
            ],
            [
             0.3,
             "#f1b6da"
            ],
            [
             0.4,
             "#fde0ef"
            ],
            [
             0.5,
             "#f7f7f7"
            ],
            [
             0.6,
             "#e6f5d0"
            ],
            [
             0.7,
             "#b8e186"
            ],
            [
             0.8,
             "#7fbc41"
            ],
            [
             0.9,
             "#4d9221"
            ],
            [
             1,
             "#276419"
            ]
           ],
           "sequential": [
            [
             0,
             "#0d0887"
            ],
            [
             0.1111111111111111,
             "#46039f"
            ],
            [
             0.2222222222222222,
             "#7201a8"
            ],
            [
             0.3333333333333333,
             "#9c179e"
            ],
            [
             0.4444444444444444,
             "#bd3786"
            ],
            [
             0.5555555555555556,
             "#d8576b"
            ],
            [
             0.6666666666666666,
             "#ed7953"
            ],
            [
             0.7777777777777778,
             "#fb9f3a"
            ],
            [
             0.8888888888888888,
             "#fdca26"
            ],
            [
             1,
             "#f0f921"
            ]
           ],
           "sequentialminus": [
            [
             0,
             "#0d0887"
            ],
            [
             0.1111111111111111,
             "#46039f"
            ],
            [
             0.2222222222222222,
             "#7201a8"
            ],
            [
             0.3333333333333333,
             "#9c179e"
            ],
            [
             0.4444444444444444,
             "#bd3786"
            ],
            [
             0.5555555555555556,
             "#d8576b"
            ],
            [
             0.6666666666666666,
             "#ed7953"
            ],
            [
             0.7777777777777778,
             "#fb9f3a"
            ],
            [
             0.8888888888888888,
             "#fdca26"
            ],
            [
             1,
             "#f0f921"
            ]
           ]
          },
          "colorway": [
           "#636efa",
           "#EF553B",
           "#00cc96",
           "#ab63fa",
           "#FFA15A",
           "#19d3f3",
           "#FF6692",
           "#B6E880",
           "#FF97FF",
           "#FECB52"
          ],
          "font": {
           "color": "#2a3f5f"
          },
          "geo": {
           "bgcolor": "white",
           "lakecolor": "white",
           "landcolor": "#E5ECF6",
           "showlakes": true,
           "showland": true,
           "subunitcolor": "white"
          },
          "hoverlabel": {
           "align": "left"
          },
          "hovermode": "closest",
          "mapbox": {
           "style": "light"
          },
          "paper_bgcolor": "white",
          "plot_bgcolor": "#E5ECF6",
          "polar": {
           "angularaxis": {
            "gridcolor": "white",
            "linecolor": "white",
            "ticks": ""
           },
           "bgcolor": "#E5ECF6",
           "radialaxis": {
            "gridcolor": "white",
            "linecolor": "white",
            "ticks": ""
           }
          },
          "scene": {
           "xaxis": {
            "backgroundcolor": "#E5ECF6",
            "gridcolor": "white",
            "gridwidth": 2,
            "linecolor": "white",
            "showbackground": true,
            "ticks": "",
            "zerolinecolor": "white"
           },
           "yaxis": {
            "backgroundcolor": "#E5ECF6",
            "gridcolor": "white",
            "gridwidth": 2,
            "linecolor": "white",
            "showbackground": true,
            "ticks": "",
            "zerolinecolor": "white"
           },
           "zaxis": {
            "backgroundcolor": "#E5ECF6",
            "gridcolor": "white",
            "gridwidth": 2,
            "linecolor": "white",
            "showbackground": true,
            "ticks": "",
            "zerolinecolor": "white"
           }
          },
          "shapedefaults": {
           "line": {
            "color": "#2a3f5f"
           }
          },
          "ternary": {
           "aaxis": {
            "gridcolor": "white",
            "linecolor": "white",
            "ticks": ""
           },
           "baxis": {
            "gridcolor": "white",
            "linecolor": "white",
            "ticks": ""
           },
           "bgcolor": "#E5ECF6",
           "caxis": {
            "gridcolor": "white",
            "linecolor": "white",
            "ticks": ""
           }
          },
          "title": {
           "x": 0.05
          },
          "xaxis": {
           "automargin": true,
           "gridcolor": "white",
           "linecolor": "white",
           "ticks": "",
           "title": {
            "standoff": 15
           },
           "zerolinecolor": "white",
           "zerolinewidth": 2
          },
          "yaxis": {
           "automargin": true,
           "gridcolor": "white",
           "linecolor": "white",
           "ticks": "",
           "title": {
            "standoff": 15
           },
           "zerolinecolor": "white",
           "zerolinewidth": 2
          }
         }
        },
        "title": {
         "text": "Percentage of Household in Positive and Negative Savings"
        },
        "width": 1000,
        "xaxis": {
         "anchor": "y",
         "domain": [
          0,
          0.2888888888888889
         ],
         "tickformat": ",.0%",
         "title": {
          "text": "Bill"
         },
         "visible": true
        },
        "xaxis2": {
         "anchor": "y2",
         "domain": [
          0.35555555555555557,
          0.6444444444444445
         ],
         "tickformat": ",.0%",
         "title": {
          "text": "Emission"
         },
         "visible": true
        },
        "xaxis3": {
         "anchor": "y3",
         "domain": [
          0.7111111111111111,
          1
         ],
         "tickformat": ",.0%",
         "title": {
          "text": "Total Energy"
         },
         "visible": true
        },
        "yaxis": {
         "anchor": "x",
         "domain": [
          0,
          1
         ],
         "visible": true
        },
        "yaxis2": {
         "anchor": "x2",
         "domain": [
          0,
          1
         ],
         "visible": false
        },
        "yaxis3": {
         "anchor": "x3",
         "domain": [
          0,
          1
         ],
         "visible": false
        }
       }
      }
     },
     "metadata": {},
     "output_type": "display_data"
    },
    {
     "name": "stderr",
     "output_type": "stream",
     "text": [
      "/var/folders/zw/lhnn73fj2250g9z11h_whq1szkf2pm/T/ipykernel_53214/2289506022.py:3: PerformanceWarning:\n",
      "\n",
      "DataFrame is highly fragmented.  This is usually the result of calling `frame.insert` many times, which has poor performance.  Consider joining all columns at once using pd.concat(axis=1) instead. To get a de-fragmented frame, use `newframe = frame.copy()`\n",
      "\n",
      "/var/folders/zw/lhnn73fj2250g9z11h_whq1szkf2pm/T/ipykernel_53214/2289506022.py:4: PerformanceWarning:\n",
      "\n",
      "DataFrame is highly fragmented.  This is usually the result of calling `frame.insert` many times, which has poor performance.  Consider joining all columns at once using pd.concat(axis=1) instead. To get a de-fragmented frame, use `newframe = frame.copy()`\n",
      "\n",
      "/var/folders/zw/lhnn73fj2250g9z11h_whq1szkf2pm/T/ipykernel_53214/2289506022.py:5: PerformanceWarning:\n",
      "\n",
      "DataFrame is highly fragmented.  This is usually the result of calling `frame.insert` many times, which has poor performance.  Consider joining all columns at once using pd.concat(axis=1) instead. To get a de-fragmented frame, use `newframe = frame.copy()`\n",
      "\n"
     ]
    }
   ],
   "source": [
    "segment = 'segment4'\n",
    "results = figure_positive_negative_savings(segment, community_results)\n",
    "saving_results[f'segment4_{income}_pct_bill_positive_savings_%'] = results[0]*100\n",
    "saving_results[f'segment4_{income}_pct_emission_positive_savings_%'] = results[1]*100\n",
    "saving_results[f'segment4_{income}_pct_energy_positive_savings_%'] = results[2]*100"
   ]
  },
  {
   "cell_type": "markdown",
   "id": "45f2fa39",
   "metadata": {},
   "source": [
    "## 3.6. Average Energy Burden (%) Before and after Upgrade"
   ]
  },
  {
   "cell_type": "code",
   "execution_count": 53,
   "id": "9b9fbe35",
   "metadata": {},
   "outputs": [
    {
     "name": "stdout",
     "output_type": "stream",
     "text": [
      "energy burden (%) before and after upgrade\n",
      "segment1\n"
     ]
    },
    {
     "name": "stderr",
     "output_type": "stream",
     "text": [
      "/var/folders/zw/lhnn73fj2250g9z11h_whq1szkf2pm/T/ipykernel_53214/3555432078.py:4: SettingWithCopyWarning:\n",
      "\n",
      "\n",
      "A value is trying to be set on a copy of a slice from a DataFrame\n",
      "\n",
      "See the caveats in the documentation: https://pandas.pydata.org/pandas-docs/stable/user_guide/indexing.html#returning-a-view-versus-a-copy\n",
      "\n",
      "/var/folders/zw/lhnn73fj2250g9z11h_whq1szkf2pm/T/ipykernel_53214/3555432078.py:5: SettingWithCopyWarning:\n",
      "\n",
      "\n",
      "A value is trying to be set on a copy of a slice from a DataFrame\n",
      "\n",
      "See the caveats in the documentation: https://pandas.pydata.org/pandas-docs/stable/user_guide/indexing.html#returning-a-view-versus-a-copy\n",
      "\n",
      "/var/folders/zw/lhnn73fj2250g9z11h_whq1szkf2pm/T/ipykernel_53214/3555432078.py:6: SettingWithCopyWarning:\n",
      "\n",
      "\n",
      "A value is trying to be set on a copy of a slice from a DataFrame.\n",
      "Try using .loc[row_indexer,col_indexer] = value instead\n",
      "\n",
      "See the caveats in the documentation: https://pandas.pydata.org/pandas-docs/stable/user_guide/indexing.html#returning-a-view-versus-a-copy\n",
      "\n",
      "/var/folders/zw/lhnn73fj2250g9z11h_whq1szkf2pm/T/ipykernel_53214/3555432078.py:7: SettingWithCopyWarning:\n",
      "\n",
      "\n",
      "A value is trying to be set on a copy of a slice from a DataFrame.\n",
      "Try using .loc[row_indexer,col_indexer] = value instead\n",
      "\n",
      "See the caveats in the documentation: https://pandas.pydata.org/pandas-docs/stable/user_guide/indexing.html#returning-a-view-versus-a-copy\n",
      "\n"
     ]
    },
    {
     "data": {
      "text/html": [
       "<div>\n",
       "<style scoped>\n",
       "    .dataframe tbody tr th:only-of-type {\n",
       "        vertical-align: middle;\n",
       "    }\n",
       "\n",
       "    .dataframe tbody tr th {\n",
       "        vertical-align: top;\n",
       "    }\n",
       "\n",
       "    .dataframe thead th {\n",
       "        text-align: right;\n",
       "    }\n",
       "</style>\n",
       "<table border=\"1\" class=\"dataframe\">\n",
       "  <thead>\n",
       "    <tr style=\"text-align: right;\">\n",
       "      <th></th>\n",
       "      <th>before</th>\n",
       "      <th>after</th>\n",
       "    </tr>\n",
       "    <tr>\n",
       "      <th>upgrade_name</th>\n",
       "      <th></th>\n",
       "      <th></th>\n",
       "    </tr>\n",
       "  </thead>\n",
       "  <tbody>\n",
       "    <tr>\n",
       "      <th>Enhanced Enclosure + High Efficiency Whole Home Electrification</th>\n",
       "      <td>4.2</td>\n",
       "      <td>3.1</td>\n",
       "    </tr>\n",
       "    <tr>\n",
       "      <th>Basic Enclosure + High Efficiency Whole Home Electrification</th>\n",
       "      <td>4.2</td>\n",
       "      <td>3.1</td>\n",
       "    </tr>\n",
       "    <tr>\n",
       "      <th>High Efficiency Whole Home Electrification</th>\n",
       "      <td>4.2</td>\n",
       "      <td>3.2</td>\n",
       "    </tr>\n",
       "    <tr>\n",
       "      <th>Enhanced Enclosure + HPWH + High Efficiency HP/Electric Backup</th>\n",
       "      <td>4.2</td>\n",
       "      <td>3.2</td>\n",
       "    </tr>\n",
       "    <tr>\n",
       "      <th>Basic Enclosure + HPWH + High Efficiency HP/Electric Backup</th>\n",
       "      <td>4.2</td>\n",
       "      <td>3.3</td>\n",
       "    </tr>\n",
       "    <tr>\n",
       "      <th>Heat Pump Water Heater</th>\n",
       "      <td>4.2</td>\n",
       "      <td>3.8</td>\n",
       "    </tr>\n",
       "    <tr>\n",
       "      <th>Enhanced Enclosure</th>\n",
       "      <td>4.2</td>\n",
       "      <td>3.7</td>\n",
       "    </tr>\n",
       "    <tr>\n",
       "      <th>Basic Enclosure</th>\n",
       "      <td>4.2</td>\n",
       "      <td>3.8</td>\n",
       "    </tr>\n",
       "    <tr>\n",
       "      <th>Mininum Efficiency Whole Home Electrification</th>\n",
       "      <td>4.3</td>\n",
       "      <td>3.9</td>\n",
       "    </tr>\n",
       "    <tr>\n",
       "      <th>Heat Pump Clothes Dryer</th>\n",
       "      <td>5.2</td>\n",
       "      <td>5.0</td>\n",
       "    </tr>\n",
       "    <tr>\n",
       "      <th>High Efficiency Heat Pump with Electric Heat Backup</th>\n",
       "      <td>4.2</td>\n",
       "      <td>4.1</td>\n",
       "    </tr>\n",
       "    <tr>\n",
       "      <th>Induction Cooking</th>\n",
       "      <td>4.2</td>\n",
       "      <td>4.1</td>\n",
       "    </tr>\n",
       "    <tr>\n",
       "      <th>Electric Cooking</th>\n",
       "      <td>3.9</td>\n",
       "      <td>3.9</td>\n",
       "    </tr>\n",
       "    <tr>\n",
       "      <th>Electric Clothes Dryer</th>\n",
       "      <td>3.2</td>\n",
       "      <td>3.3</td>\n",
       "    </tr>\n",
       "    <tr>\n",
       "      <th>Mininum Efficiency Heat Pump with Electric Heat Backup</th>\n",
       "      <td>4.2</td>\n",
       "      <td>4.5</td>\n",
       "    </tr>\n",
       "    <tr>\n",
       "      <th>Mininum Efficiency Heat Pump with Existing Heat Backup</th>\n",
       "      <td>4.2</td>\n",
       "      <td>4.5</td>\n",
       "    </tr>\n",
       "  </tbody>\n",
       "</table>\n",
       "</div>"
      ],
      "text/plain": [
       "                                                    before  after\n",
       "upgrade_name                                                     \n",
       "Enhanced Enclosure + High Efficiency Whole Home...     4.2    3.1\n",
       "Basic Enclosure + High Efficiency Whole Home El...     4.2    3.1\n",
       "High Efficiency Whole Home Electrification             4.2    3.2\n",
       "Enhanced Enclosure + HPWH + High Efficiency HP/...     4.2    3.2\n",
       "Basic Enclosure + HPWH + High Efficiency HP/Ele...     4.2    3.3\n",
       "Heat Pump Water Heater                                 4.2    3.8\n",
       "Enhanced Enclosure                                     4.2    3.7\n",
       "Basic Enclosure                                        4.2    3.8\n",
       "Mininum Efficiency Whole Home Electrification          4.3    3.9\n",
       "Heat Pump Clothes Dryer                                5.2    5.0\n",
       "High Efficiency Heat Pump with Electric Heat Ba...     4.2    4.1\n",
       "Induction Cooking                                      4.2    4.1\n",
       "Electric Cooking                                       3.9    3.9\n",
       "Electric Clothes Dryer                                 3.2    3.3\n",
       "Mininum Efficiency Heat Pump with Electric Heat...     4.2    4.5\n",
       "Mininum Efficiency Heat Pump with Existing Heat...     4.2    4.5"
      ]
     },
     "metadata": {},
     "output_type": "display_data"
    },
    {
     "name": "stdout",
     "output_type": "stream",
     "text": [
      "segment2\n"
     ]
    },
    {
     "data": {
      "text/html": [
       "<div>\n",
       "<style scoped>\n",
       "    .dataframe tbody tr th:only-of-type {\n",
       "        vertical-align: middle;\n",
       "    }\n",
       "\n",
       "    .dataframe tbody tr th {\n",
       "        vertical-align: top;\n",
       "    }\n",
       "\n",
       "    .dataframe thead th {\n",
       "        text-align: right;\n",
       "    }\n",
       "</style>\n",
       "<table border=\"1\" class=\"dataframe\">\n",
       "  <thead>\n",
       "    <tr style=\"text-align: right;\">\n",
       "      <th></th>\n",
       "      <th>before</th>\n",
       "      <th>after</th>\n",
       "    </tr>\n",
       "    <tr>\n",
       "      <th>upgrade_name</th>\n",
       "      <th></th>\n",
       "      <th></th>\n",
       "    </tr>\n",
       "  </thead>\n",
       "  <tbody>\n",
       "    <tr>\n",
       "      <th>Enhanced Enclosure + High Efficiency Whole Home Electrification</th>\n",
       "      <td>9.7</td>\n",
       "      <td>7.7</td>\n",
       "    </tr>\n",
       "    <tr>\n",
       "      <th>Basic Enclosure + High Efficiency Whole Home Electrification</th>\n",
       "      <td>9.7</td>\n",
       "      <td>7.7</td>\n",
       "    </tr>\n",
       "    <tr>\n",
       "      <th>High Efficiency Whole Home Electrification</th>\n",
       "      <td>9.7</td>\n",
       "      <td>7.7</td>\n",
       "    </tr>\n",
       "    <tr>\n",
       "      <th>Mininum Efficiency Whole Home Electrification</th>\n",
       "      <td>10.1</td>\n",
       "      <td>8.5</td>\n",
       "    </tr>\n",
       "    <tr>\n",
       "      <th>Heat Pump Water Heater</th>\n",
       "      <td>9.7</td>\n",
       "      <td>8.1</td>\n",
       "    </tr>\n",
       "    <tr>\n",
       "      <th>Enhanced Enclosure + HPWH + High Efficiency HP/Electric Backup</th>\n",
       "      <td>9.7</td>\n",
       "      <td>8.1</td>\n",
       "    </tr>\n",
       "    <tr>\n",
       "      <th>Basic Enclosure + HPWH + High Efficiency HP/Electric Backup</th>\n",
       "      <td>9.7</td>\n",
       "      <td>8.1</td>\n",
       "    </tr>\n",
       "    <tr>\n",
       "      <th>Heat Pump Clothes Dryer</th>\n",
       "      <td>16.9</td>\n",
       "      <td>16.2</td>\n",
       "    </tr>\n",
       "    <tr>\n",
       "      <th>Induction Cooking</th>\n",
       "      <td>9.9</td>\n",
       "      <td>9.8</td>\n",
       "    </tr>\n",
       "    <tr>\n",
       "      <th>Electric Cooking</th>\n",
       "      <td>12.9</td>\n",
       "      <td>12.8</td>\n",
       "    </tr>\n",
       "    <tr>\n",
       "      <th>Enhanced Enclosure</th>\n",
       "      <td>10.6</td>\n",
       "      <td>10.5</td>\n",
       "    </tr>\n",
       "    <tr>\n",
       "      <th>Basic Enclosure</th>\n",
       "      <td>10.6</td>\n",
       "      <td>10.5</td>\n",
       "    </tr>\n",
       "    <tr>\n",
       "      <th>Electric Clothes Dryer</th>\n",
       "      <td>7.5</td>\n",
       "      <td>7.7</td>\n",
       "    </tr>\n",
       "    <tr>\n",
       "      <th>High Efficiency Heat Pump with Electric Heat Backup</th>\n",
       "      <td>9.7</td>\n",
       "      <td>10.2</td>\n",
       "    </tr>\n",
       "    <tr>\n",
       "      <th>Mininum Efficiency Heat Pump with Electric Heat Backup</th>\n",
       "      <td>9.7</td>\n",
       "      <td>11.0</td>\n",
       "    </tr>\n",
       "    <tr>\n",
       "      <th>Mininum Efficiency Heat Pump with Existing Heat Backup</th>\n",
       "      <td>9.7</td>\n",
       "      <td>11.0</td>\n",
       "    </tr>\n",
       "  </tbody>\n",
       "</table>\n",
       "</div>"
      ],
      "text/plain": [
       "                                                    before  after\n",
       "upgrade_name                                                     \n",
       "Enhanced Enclosure + High Efficiency Whole Home...     9.7    7.7\n",
       "Basic Enclosure + High Efficiency Whole Home El...     9.7    7.7\n",
       "High Efficiency Whole Home Electrification             9.7    7.7\n",
       "Mininum Efficiency Whole Home Electrification         10.1    8.5\n",
       "Heat Pump Water Heater                                 9.7    8.1\n",
       "Enhanced Enclosure + HPWH + High Efficiency HP/...     9.7    8.1\n",
       "Basic Enclosure + HPWH + High Efficiency HP/Ele...     9.7    8.1\n",
       "Heat Pump Clothes Dryer                               16.9   16.2\n",
       "Induction Cooking                                      9.9    9.8\n",
       "Electric Cooking                                      12.9   12.8\n",
       "Enhanced Enclosure                                    10.6   10.5\n",
       "Basic Enclosure                                       10.6   10.5\n",
       "Electric Clothes Dryer                                 7.5    7.7\n",
       "High Efficiency Heat Pump with Electric Heat Ba...     9.7   10.2\n",
       "Mininum Efficiency Heat Pump with Electric Heat...     9.7   11.0\n",
       "Mininum Efficiency Heat Pump with Existing Heat...     9.7   11.0"
      ]
     },
     "metadata": {},
     "output_type": "display_data"
    },
    {
     "name": "stdout",
     "output_type": "stream",
     "text": [
      "segment3\n"
     ]
    },
    {
     "data": {
      "text/html": [
       "<div>\n",
       "<style scoped>\n",
       "    .dataframe tbody tr th:only-of-type {\n",
       "        vertical-align: middle;\n",
       "    }\n",
       "\n",
       "    .dataframe tbody tr th {\n",
       "        vertical-align: top;\n",
       "    }\n",
       "\n",
       "    .dataframe thead th {\n",
       "        text-align: right;\n",
       "    }\n",
       "</style>\n",
       "<table border=\"1\" class=\"dataframe\">\n",
       "  <thead>\n",
       "    <tr style=\"text-align: right;\">\n",
       "      <th></th>\n",
       "      <th>before</th>\n",
       "      <th>after</th>\n",
       "    </tr>\n",
       "    <tr>\n",
       "      <th>upgrade_name</th>\n",
       "      <th></th>\n",
       "      <th></th>\n",
       "    </tr>\n",
       "  </thead>\n",
       "  <tbody>\n",
       "    <tr>\n",
       "      <th>Enhanced Enclosure + High Efficiency Whole Home Electrification</th>\n",
       "      <td>4.1</td>\n",
       "      <td>2.8</td>\n",
       "    </tr>\n",
       "    <tr>\n",
       "      <th>Basic Enclosure + High Efficiency Whole Home Electrification</th>\n",
       "      <td>4.1</td>\n",
       "      <td>2.8</td>\n",
       "    </tr>\n",
       "    <tr>\n",
       "      <th>Enhanced Enclosure + HPWH + High Efficiency HP/Electric Backup</th>\n",
       "      <td>4.1</td>\n",
       "      <td>2.9</td>\n",
       "    </tr>\n",
       "    <tr>\n",
       "      <th>Basic Enclosure + HPWH + High Efficiency HP/Electric Backup</th>\n",
       "      <td>4.1</td>\n",
       "      <td>2.9</td>\n",
       "    </tr>\n",
       "    <tr>\n",
       "      <th>High Efficiency Whole Home Electrification</th>\n",
       "      <td>4.1</td>\n",
       "      <td>3.0</td>\n",
       "    </tr>\n",
       "    <tr>\n",
       "      <th>Enhanced Enclosure</th>\n",
       "      <td>4.1</td>\n",
       "      <td>3.3</td>\n",
       "    </tr>\n",
       "    <tr>\n",
       "      <th>Basic Enclosure</th>\n",
       "      <td>4.1</td>\n",
       "      <td>3.4</td>\n",
       "    </tr>\n",
       "    <tr>\n",
       "      <th>Heat Pump Water Heater</th>\n",
       "      <td>4.1</td>\n",
       "      <td>3.7</td>\n",
       "    </tr>\n",
       "    <tr>\n",
       "      <th>High Efficiency Heat Pump with Electric Heat Backup</th>\n",
       "      <td>4.1</td>\n",
       "      <td>3.7</td>\n",
       "    </tr>\n",
       "    <tr>\n",
       "      <th>Mininum Efficiency Whole Home Electrification</th>\n",
       "      <td>4.1</td>\n",
       "      <td>3.7</td>\n",
       "    </tr>\n",
       "    <tr>\n",
       "      <th>Heat Pump Clothes Dryer</th>\n",
       "      <td>4.1</td>\n",
       "      <td>4.0</td>\n",
       "    </tr>\n",
       "    <tr>\n",
       "      <th>Induction Cooking</th>\n",
       "      <td>4.1</td>\n",
       "      <td>4.1</td>\n",
       "    </tr>\n",
       "    <tr>\n",
       "      <th>Electric Cooking</th>\n",
       "      <td>4.4</td>\n",
       "      <td>4.4</td>\n",
       "    </tr>\n",
       "    <tr>\n",
       "      <th>Electric Clothes Dryer</th>\n",
       "      <td>5.1</td>\n",
       "      <td>5.2</td>\n",
       "    </tr>\n",
       "    <tr>\n",
       "      <th>Mininum Efficiency Heat Pump with Electric Heat Backup</th>\n",
       "      <td>4.1</td>\n",
       "      <td>4.2</td>\n",
       "    </tr>\n",
       "    <tr>\n",
       "      <th>Mininum Efficiency Heat Pump with Existing Heat Backup</th>\n",
       "      <td>4.1</td>\n",
       "      <td>4.2</td>\n",
       "    </tr>\n",
       "  </tbody>\n",
       "</table>\n",
       "</div>"
      ],
      "text/plain": [
       "                                                    before  after\n",
       "upgrade_name                                                     \n",
       "Enhanced Enclosure + High Efficiency Whole Home...     4.1    2.8\n",
       "Basic Enclosure + High Efficiency Whole Home El...     4.1    2.8\n",
       "Enhanced Enclosure + HPWH + High Efficiency HP/...     4.1    2.9\n",
       "Basic Enclosure + HPWH + High Efficiency HP/Ele...     4.1    2.9\n",
       "High Efficiency Whole Home Electrification             4.1    3.0\n",
       "Enhanced Enclosure                                     4.1    3.3\n",
       "Basic Enclosure                                        4.1    3.4\n",
       "Heat Pump Water Heater                                 4.1    3.7\n",
       "High Efficiency Heat Pump with Electric Heat Ba...     4.1    3.7\n",
       "Mininum Efficiency Whole Home Electrification          4.1    3.7\n",
       "Heat Pump Clothes Dryer                                4.1    4.0\n",
       "Induction Cooking                                      4.1    4.1\n",
       "Electric Cooking                                       4.4    4.4\n",
       "Electric Clothes Dryer                                 5.1    5.2\n",
       "Mininum Efficiency Heat Pump with Electric Heat...     4.1    4.2\n",
       "Mininum Efficiency Heat Pump with Existing Heat...     4.1    4.2"
      ]
     },
     "metadata": {},
     "output_type": "display_data"
    },
    {
     "name": "stdout",
     "output_type": "stream",
     "text": [
      "segment4\n"
     ]
    },
    {
     "data": {
      "text/html": [
       "<div>\n",
       "<style scoped>\n",
       "    .dataframe tbody tr th:only-of-type {\n",
       "        vertical-align: middle;\n",
       "    }\n",
       "\n",
       "    .dataframe tbody tr th {\n",
       "        vertical-align: top;\n",
       "    }\n",
       "\n",
       "    .dataframe thead th {\n",
       "        text-align: right;\n",
       "    }\n",
       "</style>\n",
       "<table border=\"1\" class=\"dataframe\">\n",
       "  <thead>\n",
       "    <tr style=\"text-align: right;\">\n",
       "      <th></th>\n",
       "      <th>before</th>\n",
       "      <th>after</th>\n",
       "    </tr>\n",
       "    <tr>\n",
       "      <th>upgrade_name</th>\n",
       "      <th></th>\n",
       "      <th></th>\n",
       "    </tr>\n",
       "  </thead>\n",
       "  <tbody>\n",
       "    <tr>\n",
       "      <th>Enhanced Enclosure + High Efficiency Whole Home Electrification</th>\n",
       "      <td>2.9</td>\n",
       "      <td>2.0</td>\n",
       "    </tr>\n",
       "    <tr>\n",
       "      <th>Basic Enclosure + High Efficiency Whole Home Electrification</th>\n",
       "      <td>2.9</td>\n",
       "      <td>2.0</td>\n",
       "    </tr>\n",
       "    <tr>\n",
       "      <th>Enhanced Enclosure + HPWH + High Efficiency HP/Electric Backup</th>\n",
       "      <td>2.9</td>\n",
       "      <td>2.1</td>\n",
       "    </tr>\n",
       "    <tr>\n",
       "      <th>Basic Enclosure + HPWH + High Efficiency HP/Electric Backup</th>\n",
       "      <td>2.9</td>\n",
       "      <td>2.1</td>\n",
       "    </tr>\n",
       "    <tr>\n",
       "      <th>High Efficiency Whole Home Electrification</th>\n",
       "      <td>2.9</td>\n",
       "      <td>2.1</td>\n",
       "    </tr>\n",
       "    <tr>\n",
       "      <th>Enhanced Enclosure</th>\n",
       "      <td>2.9</td>\n",
       "      <td>2.6</td>\n",
       "    </tr>\n",
       "    <tr>\n",
       "      <th>Basic Enclosure</th>\n",
       "      <td>2.9</td>\n",
       "      <td>2.6</td>\n",
       "    </tr>\n",
       "    <tr>\n",
       "      <th>Heat Pump Water Heater</th>\n",
       "      <td>2.9</td>\n",
       "      <td>2.7</td>\n",
       "    </tr>\n",
       "    <tr>\n",
       "      <th>Mininum Efficiency Whole Home Electrification</th>\n",
       "      <td>3.2</td>\n",
       "      <td>2.9</td>\n",
       "    </tr>\n",
       "    <tr>\n",
       "      <th>High Efficiency Heat Pump with Electric Heat Backup</th>\n",
       "      <td>2.9</td>\n",
       "      <td>2.7</td>\n",
       "    </tr>\n",
       "    <tr>\n",
       "      <th>Heat Pump Clothes Dryer</th>\n",
       "      <td>2.9</td>\n",
       "      <td>2.9</td>\n",
       "    </tr>\n",
       "    <tr>\n",
       "      <th>Induction Cooking</th>\n",
       "      <td>2.9</td>\n",
       "      <td>2.9</td>\n",
       "    </tr>\n",
       "    <tr>\n",
       "      <th>Electric Cooking</th>\n",
       "      <td>2.7</td>\n",
       "      <td>2.7</td>\n",
       "    </tr>\n",
       "    <tr>\n",
       "      <th>Mininum Efficiency Heat Pump with Electric Heat Backup</th>\n",
       "      <td>2.9</td>\n",
       "      <td>3.0</td>\n",
       "    </tr>\n",
       "    <tr>\n",
       "      <th>Mininum Efficiency Heat Pump with Existing Heat Backup</th>\n",
       "      <td>2.9</td>\n",
       "      <td>3.1</td>\n",
       "    </tr>\n",
       "    <tr>\n",
       "      <th>Electric Clothes Dryer</th>\n",
       "      <td>6.1</td>\n",
       "      <td>6.3</td>\n",
       "    </tr>\n",
       "  </tbody>\n",
       "</table>\n",
       "</div>"
      ],
      "text/plain": [
       "                                                    before  after\n",
       "upgrade_name                                                     \n",
       "Enhanced Enclosure + High Efficiency Whole Home...     2.9    2.0\n",
       "Basic Enclosure + High Efficiency Whole Home El...     2.9    2.0\n",
       "Enhanced Enclosure + HPWH + High Efficiency HP/...     2.9    2.1\n",
       "Basic Enclosure + HPWH + High Efficiency HP/Ele...     2.9    2.1\n",
       "High Efficiency Whole Home Electrification             2.9    2.1\n",
       "Enhanced Enclosure                                     2.9    2.6\n",
       "Basic Enclosure                                        2.9    2.6\n",
       "Heat Pump Water Heater                                 2.9    2.7\n",
       "Mininum Efficiency Whole Home Electrification          3.2    2.9\n",
       "High Efficiency Heat Pump with Electric Heat Ba...     2.9    2.7\n",
       "Heat Pump Clothes Dryer                                2.9    2.9\n",
       "Induction Cooking                                      2.9    2.9\n",
       "Electric Cooking                                       2.7    2.7\n",
       "Mininum Efficiency Heat Pump with Electric Heat...     2.9    3.0\n",
       "Mininum Efficiency Heat Pump with Existing Heat...     2.9    3.1\n",
       "Electric Clothes Dryer                                 6.1    6.3"
      ]
     },
     "metadata": {},
     "output_type": "display_data"
    },
    {
     "name": "stderr",
     "output_type": "stream",
     "text": [
      "/var/folders/zw/lhnn73fj2250g9z11h_whq1szkf2pm/T/ipykernel_53214/2330438264.py:2: PerformanceWarning:\n",
      "\n",
      "DataFrame is highly fragmented.  This is usually the result of calling `frame.insert` many times, which has poor performance.  Consider joining all columns at once using pd.concat(axis=1) instead. To get a de-fragmented frame, use `newframe = frame.copy()`\n",
      "\n",
      "/var/folders/zw/lhnn73fj2250g9z11h_whq1szkf2pm/T/ipykernel_53214/2330438264.py:2: PerformanceWarning:\n",
      "\n",
      "DataFrame is highly fragmented.  This is usually the result of calling `frame.insert` many times, which has poor performance.  Consider joining all columns at once using pd.concat(axis=1) instead. To get a de-fragmented frame, use `newframe = frame.copy()`\n",
      "\n",
      "/var/folders/zw/lhnn73fj2250g9z11h_whq1szkf2pm/T/ipykernel_53214/2330438264.py:3: PerformanceWarning:\n",
      "\n",
      "DataFrame is highly fragmented.  This is usually the result of calling `frame.insert` many times, which has poor performance.  Consider joining all columns at once using pd.concat(axis=1) instead. To get a de-fragmented frame, use `newframe = frame.copy()`\n",
      "\n",
      "/var/folders/zw/lhnn73fj2250g9z11h_whq1szkf2pm/T/ipykernel_53214/2330438264.py:3: PerformanceWarning:\n",
      "\n",
      "DataFrame is highly fragmented.  This is usually the result of calling `frame.insert` many times, which has poor performance.  Consider joining all columns at once using pd.concat(axis=1) instead. To get a de-fragmented frame, use `newframe = frame.copy()`\n",
      "\n",
      "/var/folders/zw/lhnn73fj2250g9z11h_whq1szkf2pm/T/ipykernel_53214/2330438264.py:4: PerformanceWarning:\n",
      "\n",
      "DataFrame is highly fragmented.  This is usually the result of calling `frame.insert` many times, which has poor performance.  Consider joining all columns at once using pd.concat(axis=1) instead. To get a de-fragmented frame, use `newframe = frame.copy()`\n",
      "\n",
      "/var/folders/zw/lhnn73fj2250g9z11h_whq1szkf2pm/T/ipykernel_53214/2330438264.py:4: PerformanceWarning:\n",
      "\n",
      "DataFrame is highly fragmented.  This is usually the result of calling `frame.insert` many times, which has poor performance.  Consider joining all columns at once using pd.concat(axis=1) instead. To get a de-fragmented frame, use `newframe = frame.copy()`\n",
      "\n",
      "/var/folders/zw/lhnn73fj2250g9z11h_whq1szkf2pm/T/ipykernel_53214/2330438264.py:5: PerformanceWarning:\n",
      "\n",
      "DataFrame is highly fragmented.  This is usually the result of calling `frame.insert` many times, which has poor performance.  Consider joining all columns at once using pd.concat(axis=1) instead. To get a de-fragmented frame, use `newframe = frame.copy()`\n",
      "\n",
      "/var/folders/zw/lhnn73fj2250g9z11h_whq1szkf2pm/T/ipykernel_53214/2330438264.py:5: PerformanceWarning:\n",
      "\n",
      "DataFrame is highly fragmented.  This is usually the result of calling `frame.insert` many times, which has poor performance.  Consider joining all columns at once using pd.concat(axis=1) instead. To get a de-fragmented frame, use `newframe = frame.copy()`\n",
      "\n"
     ]
    }
   ],
   "source": [
    "results = segment_mean_energy_burden('post-upgrade_energy_burden_2023_cbills.%', community_results) \n",
    "saving_results[[f'segment1_{income}_energy_burden_before_upgrade_%',f'segment1_{income}_energy_burden_after_upgrade_%']] = results[0]\n",
    "saving_results[[f'segment2_{income}_energy_burden_before_upgrade_%',f'segment2_{income}_energy_burden_after_upgrade_%']] = results[1]\n",
    "saving_results[[f'segment3_{income}_energy_burden_before_upgrade_%',f'segment3_{income}_energy_burden_after_upgrade_%']] = results[2]\n",
    "saving_results[[f'segment4_{income}_energy_burden_before_upgrade_%',f'segment4_{income}_energy_burden_after_upgrade_%']] = results[3]"
   ]
  },
  {
   "cell_type": "code",
   "execution_count": 54,
   "id": "45f4b53f",
   "metadata": {},
   "outputs": [],
   "source": [
    "saving_results.to_csv(fig_dir / f'saving_results_{community}.csv')"
   ]
  },
  {
   "cell_type": "markdown",
   "id": "825b3c32",
   "metadata": {},
   "source": [
    "### Save html file"
   ]
  },
  {
   "cell_type": "code",
   "execution_count": 55,
   "id": "442ef0c6",
   "metadata": {},
   "outputs": [
    {
     "name": "stdout",
     "output_type": "stream",
     "text": [
      "[NbConvertApp] Converting notebook saving_results_reports_for_san_jose.ipynb to html\n",
      "/Users/lliu2/micromamba/envs/res-est/share/jupyter/nbconvert/templates/base/display_priority.j2:32: UserWarning: Your element with mimetype(s) dict_keys(['application/vnd.plotly.v1+json']) is not able to be represented.\n",
      "  {%- elif type == 'application/javascript' -%}\n",
      "[NbConvertApp] Writing 505085 bytes to results/san_jose/saving_results_reports_for_san_jose.html\n"
     ]
    }
   ],
   "source": [
    "! jupyter nbconvert --output-dir='./results/san_jose/' --to=html --no-input saving_results_reports_for_san_jose.ipynb"
   ]
  }
 ],
 "metadata": {
  "kernelspec": {
   "display_name": "Python 3 (ipykernel)",
   "language": "python",
   "name": "python3"
  },
  "language_info": {
   "codemirror_mode": {
    "name": "ipython",
    "version": 3
   },
   "file_extension": ".py",
   "mimetype": "text/x-python",
   "name": "python",
   "nbconvert_exporter": "python",
   "pygments_lexer": "ipython3",
   "version": "3.9.16"
  }
 },
 "nbformat": 4,
 "nbformat_minor": 5
}
