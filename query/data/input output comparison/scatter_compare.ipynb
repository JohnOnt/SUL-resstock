{
 "cells": [
  {
   "cell_type": "code",
   "execution_count": 53,
   "metadata": {
    "collapsed": false
   },
   "outputs": [],
   "source": [
    "import seaborn as sns\n",
    "import os, glob\n",
    "import matplotlib as mpl\n",
    "import matplotlib.pyplot as plt\n",
    "import pandas as pd\n",
    "import palettable\n",
    "from palettable.tableau import Tableau_20\n",
    "%matplotlib inline\n",
    "sns.set_style('darkgrid')"
   ]
  },
  {
   "cell_type": "code",
   "execution_count": 54,
   "metadata": {
    "collapsed": false
   },
   "outputs": [],
   "source": [
    "def draw_scatter(category, x_filename, y_filename, metacats):\n",
    "    df_x = pd.read_csv(x_filename)\n",
    "    df_y = pd.read_csv(y_filename)\n",
    "    \n",
    "    cols = df_x.columns\n",
    "    cols = cols.intersection(df_y.columns)\n",
    "    cols = cols.difference(metacats)\n",
    "\n",
    "    df = pd.merge(df_x, df_y, on=metacats, how='outer', suffixes=(x_filename, y_filename))\n",
    "    df = df.set_index(metacats)\n",
    "\n",
    "    plt.rcParams['figure.figsize'] = 10, 10  # that's default image size for this interactive session\n",
    "    weights = df['Weight'] * 500 / df['Weight'].max()\n",
    "    max_colors = 20\n",
    "    marker_colors = Tableau_20.mpl_colors\n",
    "    \n",
    "    for i, col in enumerate(cols):\n",
    "        x = df[col + x_filename]\n",
    "        y = df[col + y_filename]\n",
    "\n",
    "        marker_color = marker_colors[i % max_colors]\n",
    "        plt.scatter(x, y, s=weights, c=marker_color, alpha=0.5, label=col)\n",
    "\n",
    "    # y=x line\n",
    "    ax = plt.gca()\n",
    "    lims = [0,1]\n",
    "\n",
    "    # now plot both limits against eachother\n",
    "    ax.plot(lims, lims, 'k-', alpha=0.75, zorder=0)\n",
    "\n",
    "    # +20% line\n",
    "    ax.plot(lims, [0.2, 1.2], 'k-', alpha=0.1, zorder=0)\n",
    "\n",
    "    # +20% line\n",
    "    ax.plot(lims, [-0.2, 0.8], 'k-', alpha=0.1, zorder=0)\n",
    "\n",
    "    ax.set_aspect('equal')\n",
    "    ax.set_xlim(lims)\n",
    "    ax.set_ylim(lims)\n",
    "\n",
    "    plt.legend()\n",
    "\n",
    "    title_size = 20\n",
    "    axis_label_size = 24\n",
    "    tick_size = 16\n",
    "\n",
    "    ax.set_xlabel('Input (RBSA Query)', fontsize=axis_label_size)\n",
    "    ax.set_ylabel('Output (Models)', fontsize=axis_label_size)\n",
    "\n",
    "    plt.tick_params(axis='both', which='major', labelsize=tick_size)\n",
    "    plt.title(category, fontsize=title_size)\n",
    "    \n",
    "    filename = os.path.join('saved images','{} vs {}.png'.format(x_filename, y_filename).replace(os.sep,'_'))\n",
    "    plt.savefig(filename, bbox_inches='tight', dpi=200)\n",
    "    plt.clf()\n",
    "    print \"Plotted {}\".format(filename)"
   ]
  },
  {
   "cell_type": "code",
   "execution_count": 55,
   "metadata": {
    "collapsed": false
   },
   "outputs": [
    {
     "name": "stdout",
     "output_type": "stream",
     "text": [
      "Plotted saved images\\Walls_WallsInput.csv vs Walls_WallsOutput1000.csv.png\n",
      "Plotted saved images\\Walls_WallsInput.csv vs Walls_WallsOutput2500.csv.png\n",
      "Plotted saved images\\Walls_WallsInput.csv vs Walls_WallsOutput500.csv.png\n",
      "Plotted saved images\\Walls_WallsInput.csv vs Walls_WallsOutput5000.csv.png\n",
      "Plotted saved images\\Attic_AtticInput.csv vs Attic_AtticOutput1000.csv.png\n",
      "Plotted saved images\\Attic_AtticInput.csv vs Attic_AtticOutput2500.csv.png\n",
      "Plotted saved images\\Attic_AtticInput.csv vs Attic_AtticOutput500.csv.png\n",
      "Plotted saved images\\Attic_AtticInput.csv vs Attic_AtticOutput5000.csv.png\n",
      "Plotted saved images\\Ducts_DuctsInput.csv vs Ducts_DuctsOutput1000.csv.png\n",
      "Plotted saved images\\Ducts_DuctsInput.csv vs Ducts_DuctsOutput2500.csv.png\n",
      "Plotted saved images\\Ducts_DuctsInput.csv vs Ducts_DuctsOutput500.csv.png\n",
      "Plotted saved images\\Ducts_DuctsInput.csv vs Ducts_DuctsOutput5000.csv.png\n",
      "Plotted saved images\\ASHP_ASHPInput.csv vs ASHP_ASHPOutput1000.csv.png\n",
      "Plotted saved images\\ASHP_ASHPInput.csv vs ASHP_ASHPOutput2500.csv.png\n",
      "Plotted saved images\\ASHP_ASHPInput.csv vs ASHP_ASHPOutput500.csv.png\n",
      "Plotted saved images\\ASHP_ASHPInput.csv vs ASHP_ASHPOutput5000.csv.png\n",
      "Plotted saved images\\Baseboard_BaseboardInput.csv vs Baseboard_BaseboardOutput1000.csv.png\n",
      "Plotted saved images\\Baseboard_BaseboardInput.csv vs Baseboard_BaseboardOutput2500.csv.png\n",
      "Plotted saved images\\Baseboard_BaseboardInput.csv vs Baseboard_BaseboardOutput500.csv.png\n",
      "Plotted saved images\\Baseboard_BaseboardInput.csv vs Baseboard_BaseboardOutput5000.csv.png\n",
      "Plotted saved images\\Boiler_BoilerInput.csv vs Boiler_BoilerOutput1000.csv.png\n",
      "Plotted saved images\\Boiler_BoilerInput.csv vs Boiler_BoilerOutput2500.csv.png\n",
      "Plotted saved images\\Boiler_BoilerInput.csv vs Boiler_BoilerOutput500.csv.png\n",
      "Plotted saved images\\Boiler_BoilerInput.csv vs Boiler_BoilerOutput5000.csv.png\n",
      "Plotted saved images\\Furnace_FurnaceInput.csv vs Furnace_FurnaceOutput1000.csv.png\n",
      "Plotted saved images\\Furnace_FurnaceInput.csv vs Furnace_FurnaceOutput2500.csv.png\n",
      "Plotted saved images\\Furnace_FurnaceInput.csv vs Furnace_FurnaceOutput500.csv.png\n",
      "Plotted saved images\\Furnace_FurnaceInput.csv vs Furnace_FurnaceOutput5000.csv.png\n",
      "Plotted saved images\\Infiltration_InfiltrationInput.csv vs Infiltration_InfiltrationOutput1000.csv.png\n",
      "Plotted saved images\\Infiltration_InfiltrationInput.csv vs Infiltration_InfiltrationOutput2500.csv.png\n",
      "Plotted saved images\\Infiltration_InfiltrationInput.csv vs Infiltration_InfiltrationOutput500.csv.png\n",
      "Plotted saved images\\Infiltration_InfiltrationInput.csv vs Infiltration_InfiltrationOutput5000.csv.png\n",
      "Plotted saved images\\Windows_WindowsInput.csv vs Windows_WindowsOutput1000.csv.png\n",
      "Plotted saved images\\Windows_WindowsInput.csv vs Windows_WindowsOutput2500.csv.png\n",
      "Plotted saved images\\Windows_WindowsInput.csv vs Windows_WindowsOutput500.csv.png\n",
      "Plotted saved images\\Windows_WindowsInput.csv vs Windows_WindowsOutput5000.csv.png\n"
     ]
    },
    {
     "data": {
      "text/plain": [
       "<matplotlib.figure.Figure at 0xb052530>"
      ]
     },
     "metadata": {},
     "output_type": "display_data"
    }
   ],
   "source": [
    "category = 'Walls'\n",
    "x_filename = os.path.join('Walls','WallsInput.csv')\n",
    "y_filenames = glob.glob(os.path.join('Walls','WallsOutput*.csv'))\n",
    "metacats = ['Location','Vintage']\n",
    "for y_filename in y_filenames:\n",
    "    draw_scatter(category, x_filename, y_filename, metacats)\n",
    "    \n",
    "category = 'Attic'\n",
    "x_filename = os.path.join('Attic','AtticInput.csv')\n",
    "y_filenames = glob.glob(os.path.join('Attic','AtticOutput*.csv'))\n",
    "metacats = ['Location','Vintage']\n",
    "for y_filename in y_filenames:\n",
    "    draw_scatter(category, x_filename, y_filename, metacats)\n",
    "\n",
    "category = 'Ducts'\n",
    "x_filename = os.path.join('Ducts','DuctsInput.csv')\n",
    "y_filenames = glob.glob(os.path.join('Ducts','DuctsOutput*.csv'))\n",
    "metacats = ['Foundation Type','Vintage']\n",
    "for y_filename in y_filenames:\n",
    "    draw_scatter(category, x_filename, y_filename, metacats)\n",
    "\n",
    "category = 'Air Source Heat Pump'\n",
    "x_filename = os.path.join('ASHP','ASHPInput.csv')\n",
    "y_filenames = glob.glob(os.path.join('ASHP','ASHPOutput*.csv'))\n",
    "metacats = ['Location','Vintage','Heating Fuel']\n",
    "for y_filename in y_filenames:\n",
    "    draw_scatter(category, x_filename, y_filename, metacats)\n",
    "\n",
    "category = 'Electric Baseboard'\n",
    "x_filename = os.path.join('Baseboard','BaseboardInput.csv')\n",
    "y_filenames = glob.glob(os.path.join('Baseboard','BaseboardOutput*.csv'))\n",
    "metacats = ['Location','Vintage','Heating Fuel']\n",
    "for y_filename in y_filenames:\n",
    "    draw_scatter(category, x_filename, y_filename, metacats)\n",
    "\n",
    "category = 'Boiler'\n",
    "x_filename = os.path.join('Boiler','BoilerInput.csv')\n",
    "y_filenames = glob.glob(os.path.join('Boiler','BoilerOutput*.csv'))\n",
    "metacats = ['Location','Vintage','Heating Fuel']\n",
    "for y_filename in y_filenames:\n",
    "    draw_scatter(category, x_filename, y_filename, metacats)\n",
    "\n",
    "category = 'Furnace'\n",
    "x_filename = os.path.join('Furnace','FurnaceInput.csv')\n",
    "y_filenames = glob.glob(os.path.join('Furnace','FurnaceOutput*.csv'))\n",
    "metacats = ['Location','Vintage','Heating Fuel']\n",
    "for y_filename in y_filenames:\n",
    "    draw_scatter(category, x_filename, y_filename, metacats)\n",
    "    \n",
    "category = 'Air Leakage'\n",
    "x_filename = os.path.join('Infiltration','InfiltrationInput.csv')\n",
    "y_filenames = glob.glob(os.path.join('Infiltration','InfiltrationOutput*.csv'))\n",
    "metacats = ['Vintage','Size']\n",
    "for y_filename in y_filenames:\n",
    "    draw_scatter(category, x_filename, y_filename, metacats)\n",
    "    \n",
    "category = 'Windows'\n",
    "x_filename = os.path.join('Windows','WindowsInput.csv')\n",
    "y_filenames = glob.glob(os.path.join('Windows','WindowsOutput*.csv'))\n",
    "metacats = ['Location','Vintage']\n",
    "for y_filename in y_filenames:\n",
    "    draw_scatter(category, x_filename, y_filename, metacats)"
   ]
  },
  {
   "cell_type": "code",
   "execution_count": null,
   "metadata": {
    "collapsed": true
   },
   "outputs": [],
   "source": []
  },
  {
   "cell_type": "code",
   "execution_count": null,
   "metadata": {
    "collapsed": true
   },
   "outputs": [],
   "source": []
  }
 ],
 "metadata": {
  "kernelspec": {
   "display_name": "Python 2",
   "language": "python",
   "name": "python2"
  },
  "language_info": {
   "codemirror_mode": {
    "name": "ipython",
    "version": 2
   },
   "file_extension": ".py",
   "mimetype": "text/x-python",
   "name": "python",
   "nbconvert_exporter": "python",
   "pygments_lexer": "ipython2",
   "version": "2.7.11"
  }
 },
 "nbformat": 4,
 "nbformat_minor": 0
}
