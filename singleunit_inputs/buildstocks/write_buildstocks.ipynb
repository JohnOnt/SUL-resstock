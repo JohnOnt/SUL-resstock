{
 "cells": [
  {
   "cell_type": "code",
   "execution_count": 1,
   "metadata": {},
   "outputs": [
    {
     "data": {
      "text/html": [
       "\n",
       "<style>\n",
       "    div#notebook-container    { width: 90%; }\n",
       "    div#menubar-container     { width: 65%; }\n",
       "    div#maintoolbar-container { width: 95%; }\n",
       "</style>\n"
      ],
      "text/plain": [
       "<IPython.core.display.HTML object>"
      ]
     },
     "metadata": {},
     "output_type": "display_data"
    }
   ],
   "source": [
    "import pandas as pd\n",
    "import numpy as np\n",
    "\n",
    "from IPython.display import display, HTML\n",
    "display(HTML(data=\"\"\"\n",
    "<style>\n",
    "    div#notebook-container    { width: 90%; }\n",
    "    div#menubar-container     { width: 65%; }\n",
    "    div#maintoolbar-container { width: 95%; }\n",
    "</style>\n",
    "\"\"\"))\n",
    "# pd.set_option('max_colwidth', 100)"
   ]
  },
  {
   "cell_type": "code",
   "execution_count": 10,
   "metadata": {},
   "outputs": [],
   "source": [
    "mf = pd.read_csv('buildstock_MF.csv', index_col='Building')\n",
    "sfa = pd.read_csv('buildstock_SFA.csv', index_col='Building')"
   ]
  },
  {
   "cell_type": "code",
   "execution_count": 27,
   "metadata": {},
   "outputs": [],
   "source": [
    "mf = pd.read_csv('buildstock_MF_foundationtests.csv', index_col='Building')"
   ]
  },
  {
   "cell_type": "code",
   "execution_count": 28,
   "metadata": {},
   "outputs": [],
   "source": [
    "dirs = ['North', 'Northeast', 'East', 'Southeast', 'South', 'Southwest', 'West', 'Northwest']\n",
    "inv_dirs = ['South', 'Southwest', 'West', 'Northwest', 'North', 'Northeast', 'East', 'Southeast']\n",
    "orient_dict = dict(zip(dirs, inv_dirs))"
   ]
  },
  {
   "cell_type": "code",
   "execution_count": 29,
   "metadata": {
    "scrolled": true
   },
   "outputs": [],
   "source": [
    "master_df = pd.DataFrame()\n",
    "buildtype = 'MF'\n",
    "df = mf\n",
    "middle_ct = 0\n",
    "for idx in df.index:\n",
    "    bldg = df.loc[idx]\n",
    "    units = int(bldg[f'Geometry Building Number Units {buildtype}'])\n",
    "    bstock = pd.DataFrame(columns= df.columns)\n",
    "    bstock.index.name = 'Building'\n",
    "    \n",
    "    if units >= 3 and buildtype == 'SFA':\n",
    "        mid_mult = units-2\n",
    "        units = 3\n",
    "    else:\n",
    "        mid_mult = np.NaN\n",
    "    \n",
    "    if buildtype == 'MF':\n",
    "        not_type = 'SFA'\n",
    "        floors = int(bldg['Geometry Stories'])\n",
    "        num_units_per_floor = units/floors\n",
    "        front_orient = bldg['Orientation']\n",
    "        rear_orient = front_orient\n",
    "        num_middle_z = floors - 2\n",
    "        if num_units_per_floor%2 != 0: #no rear\n",
    "            has_rear_units = False\n",
    "            num_middle_x = int(num_units_per_floor - 2)\n",
    "        else: #rear units\n",
    "            has_rear_units = True\n",
    "            rear_orient = orient_dict[bldg['Orientation']]\n",
    "            num_middle_x = int((num_units_per_floor/2) - 2)   \n",
    "        if num_middle_x < 0:\n",
    "            num_middle_x = 0\n",
    "        if has_rear_units:\n",
    "            num_units_front = int(units/2)\n",
    "            units_add = int(num_units_per_floor/2)\n",
    "        else:\n",
    "            num_units_front = int(units)\n",
    "            units_add = int(num_units_per_floor)\n",
    "    else:\n",
    "        not_type = 'MF'\n",
    "        num_middle_x = units - 2\n",
    "        has_rear_units = False\n",
    "\n",
    "    #Initial horizontal locations\n",
    "    h_left = [1]\n",
    "    if num_middle_x > 0:\n",
    "        h_mid = list(range(2, 2+int(num_middle_x)))\n",
    "    else:\n",
    "        h_mid = []\n",
    "    if (buildtype=='SFA') or (num_units_front/floors > 1 and buildtype=='MF'):\n",
    "        h_right = [num_middle_x + 2]\n",
    "    else:\n",
    "        h_right = []\n",
    "        \n",
    "    #Define horizontal locatons by floor\n",
    "    if buildtype == 'MF':\n",
    "        for f in range(2,floors+1):\n",
    "            h_left += [h_left[-1] + units_add]\n",
    "            h_mid += list(map(lambda x: x+units_add, h_mid[-num_middle_x:]))\n",
    "            h_right += list(map(lambda x: x+units_add, h_right[-1:]))\n",
    "\n",
    "    #LEVELS\n",
    "    if buildtype == 'MF':\n",
    "        #..bottom\n",
    "        if num_units_front/floors > 1:\n",
    "            lv_bottom = list(range(1,2+num_middle_x+1))\n",
    "        else:\n",
    "            lv_bottom = [1]\n",
    "        #..middle\n",
    "        if num_middle_z > 0:\n",
    "            lv_middle = list(range(lv_bottom[-1]+1, lv_bottom[-1]+1 + (units_add*num_middle_z)))\n",
    "        else:\n",
    "            lv_middle = []\n",
    "        #..top\n",
    "        if floors > 1:\n",
    "            lv_top = list(range(units_add*(floors-1) + 1, units_add*floors +1))\n",
    "        else:\n",
    "            lv_top = []\n",
    "\n",
    "        if has_rear_units:\n",
    "            h_left += list(map(lambda x:x+num_units_front, h_left))\n",
    "            h_mid += list(map(lambda x:x+num_units_front, h_mid))\n",
    "            h_right += list(map(lambda x:x+num_units_front, h_right))\n",
    "            lv_bottom += list(map(lambda x:x+num_units_front, lv_bottom))\n",
    "            lv_middle += list(map(lambda x:x+num_units_front, lv_middle))\n",
    "            lv_top += list(map(lambda x:x+num_units_front, lv_top))\n",
    "\n",
    "    floor_unit = 1\n",
    "   \n",
    "    for unit in range(1,units+1):     \n",
    "        bstock.loc[unit] = bldg\n",
    "        bstock.loc[unit, f'Geometry Building Horizontal Location {not_type}'] = 'None'\n",
    "        if unit in h_left:\n",
    "            bstock.loc[unit, f'Geometry Building Horizontal Location {buildtype}'] = 'Left'\n",
    "        elif unit in h_mid:\n",
    "            middle_ct += 1\n",
    "            bstock.loc[unit, f'Geometry Building Horizontal Location {buildtype}'] = 'Middle'\n",
    "        elif unit in h_right:\n",
    "            bstock.loc[unit, f'Geometry Building Horizontal Location {buildtype}'] = 'Right'\n",
    "\n",
    "        if buildtype == 'MF':\n",
    "            if unit in lv_bottom:\n",
    "                bstock.loc[unit, 'Geometry Building Level MF'] = 'Bottom'\n",
    "            elif unit in lv_middle:\n",
    "                bstock.loc[unit, 'Geometry Building Level MF'] = 'Middle'\n",
    "            elif unit in lv_top:\n",
    "                bstock.loc[unit, 'Geometry Building Level MF'] = 'Top'\n",
    "\n",
    "            if unit <= units/2:\n",
    "                bstock.loc[unit, 'Orientation'] = front_orient\n",
    "            else:\n",
    "                bstock.loc[unit, 'Orientation'] = rear_orient\n",
    "        else:\n",
    "            bstock.loc[unit, 'Geometry Building Level MF'] = 'None'\n",
    "            \n",
    "    bstock.loc[unit, 'Geometry Building Has Rear Units MF'] = has_rear_units\n",
    "    bstock['building_code'] = 'bldg_{}'.format(idx)\n",
    "    bstock['middle_multiplier'] = mid_mult\n",
    "    \n",
    "    if master_df.empty:\n",
    "        master_df = bstock.copy()\n",
    "    else:\n",
    "        master_df = master_df.append(bstock)\n",
    "    \n",
    "master_df.index= range(1,len(master_df)+1)\n",
    "master_df.index.rename('Building', inplace=True)"
   ]
  },
  {
   "cell_type": "code",
   "execution_count": 30,
   "metadata": {
    "scrolled": true
   },
   "outputs": [],
   "source": [
    "bldg_map = pd.DataFrame(columns=['building_range', 'mid_multiplier'], index=master_df.building_code.unique())\n",
    "for bldg in master_df.building_code.unique():\n",
    "    idx = list(master_df[master_df.building_code == bldg].index.values)\n",
    "    bldg_map.loc[bldg]['building_range'] = '\"{}\"'.format(str(idx).replace(' ','').strip(']['))\n",
    "    bldg_map.loc[bldg]['mid_multiplier'] = master_df[master_df.building_code == bldg].iloc[0].middle_multiplier\n",
    "bldg_map.head()\n",
    "bldg_map.to_csv(f'./building_id_mapping_{buildtype}_foundationtests.csv')"
   ]
  },
  {
   "cell_type": "code",
   "execution_count": 31,
   "metadata": {},
   "outputs": [],
   "source": [
    "master_df = master_df.drop(['building_code', 'middle_multiplier'], axis=1)\n",
    "master_df.to_csv(f'buildstock_{buildtype}_single.csv')"
   ]
  },
  {
   "cell_type": "code",
   "execution_count": null,
   "metadata": {},
   "outputs": [],
   "source": []
  }
 ],
 "metadata": {
  "kernelspec": {
   "display_name": "Python 3",
   "language": "python",
   "name": "python3"
  },
  "language_info": {
   "codemirror_mode": {
    "name": "ipython",
    "version": 3
   },
   "file_extension": ".py",
   "mimetype": "text/x-python",
   "name": "python",
   "nbconvert_exporter": "python",
   "pygments_lexer": "ipython3",
   "version": "3.6.8"
  },
  "toc": {
   "base_numbering": 1,
   "nav_menu": {},
   "number_sections": false,
   "sideBar": false,
   "skip_h1_title": false,
   "title_cell": "Table of Contents",
   "title_sidebar": "Contents",
   "toc_cell": false,
   "toc_position": {},
   "toc_section_display": false,
   "toc_window_display": false
  }
 },
 "nbformat": 4,
 "nbformat_minor": 2
}
