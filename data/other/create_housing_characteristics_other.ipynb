{
 "cells": [
  {
   "cell_type": "markdown",
   "metadata": {},
   "source": [
    "# This notebook loads the tsv maker for the other data sources\n",
    "\n",
    "This notebook creates the Lighting.tsv.\n",
    "\n",
    "## Import modules"
   ]
  },
  {
   "cell_type": "code",
   "execution_count": 1,
   "metadata": {},
   "outputs": [],
   "source": [
    "import sys\n",
    "import pandas as pd\n",
    "import numpy as np\n",
    "from IPython.display import display\n",
    "try:\n",
    "    del sys.modules['tsv_maker'] \n",
    "except KeyError:\n",
    "    pass\n",
    "from tsv_maker import Lighting # Class methods to create the spatial tsvs"
   ]
  },
  {
   "cell_type": "markdown",
   "metadata": {},
   "source": [
    "## Inputs\n",
    "\n",
    "- `projects`: project folder names at the root of OpenStudio-Buildstock repository"
   ]
  },
  {
   "cell_type": "code",
   "execution_count": 7,
   "metadata": {},
   "outputs": [],
   "source": [
    "projects = ['project_multifamily_beta','project_singlefamilydetached']"
   ]
  },
  {
   "cell_type": "markdown",
   "metadata": {},
   "source": [
    "## Create Lighting.tsv\n",
    "\n",
    "Data is obtained from table 4.2 on page 49 of the following data source:\n",
    "\n",
    "    Navigant Consulting, Inc. 2017. \"2015 U.S. Lighting Market Characterization.\" DOE/EE-1719.\n",
    "\n",
    "A valid link as of 02/12/2020 is:\n",
    "https://www.energy.gov/sites/prod/files/2017/12/f46/lmc2015_nov17.pdf"
   ]
  },
  {
   "cell_type": "code",
   "execution_count": 8,
   "metadata": {},
   "outputs": [
    {
     "data": {
      "text/html": [
       "<div>\n",
       "<style scoped>\n",
       "    .dataframe tbody tr th:only-of-type {\n",
       "        vertical-align: middle;\n",
       "    }\n",
       "\n",
       "    .dataframe tbody tr th {\n",
       "        vertical-align: top;\n",
       "    }\n",
       "\n",
       "    .dataframe thead th {\n",
       "        text-align: right;\n",
       "    }\n",
       "</style>\n",
       "<table border=\"1\" class=\"dataframe\">\n",
       "  <thead>\n",
       "    <tr style=\"text-align: right;\">\n",
       "      <th></th>\n",
       "      <th>Option=100% Incandescent</th>\n",
       "      <th>Option=100% CFL</th>\n",
       "      <th>Option=100% LED</th>\n",
       "      <th>source_count</th>\n",
       "      <th>source_weight</th>\n",
       "    </tr>\n",
       "  </thead>\n",
       "  <tbody>\n",
       "    <tr>\n",
       "      <th>0</th>\n",
       "      <td>0.516</td>\n",
       "      <td>0.414</td>\n",
       "      <td>0.07</td>\n",
       "      <td>0</td>\n",
       "      <td>0</td>\n",
       "    </tr>\n",
       "  </tbody>\n",
       "</table>\n",
       "</div>"
      ],
      "text/plain": [
       "  Option=100% Incandescent Option=100% CFL Option=100% LED source_count  \\\n",
       "0                    0.516           0.414            0.07            0   \n",
       "\n",
       "  source_weight  \n",
       "0             0  "
      ]
     },
     "metadata": {},
     "output_type": "display_data"
    }
   ],
   "source": [
    "# Initialize the object\n",
    "lighting_maker = Lighting(projects)\n",
    "\n",
    "# Create the lighting data frame\n",
    "lighting_maker.create_lighting_tsv()\n",
    "\n",
    "display(lighting_maker.df)"
   ]
  },
  {
   "cell_type": "markdown",
   "metadata": {},
   "source": [
    "## Write Housing Characteristics\n",
    "Write the housing characteristics to the projects."
   ]
  },
  {
   "cell_type": "code",
   "execution_count": 9,
   "metadata": {},
   "outputs": [
    {
     "name": "stdout",
     "output_type": "stream",
     "text": [
      "../../project_multifamily_beta/housing_characteristics/Lighting.tsv\n",
      "../../project_singlefamilydetached/housing_characteristics/Lighting.tsv\n"
     ]
    }
   ],
   "source": [
    "lighting_maker.write_tsvs_to_projects()"
   ]
  },
  {
   "cell_type": "code",
   "execution_count": null,
   "metadata": {},
   "outputs": [],
   "source": []
  }
 ],
 "metadata": {
  "kernelspec": {
   "display_name": "Python 3",
   "language": "python",
   "name": "python3"
  },
  "language_info": {
   "codemirror_mode": {
    "name": "ipython",
    "version": 3
   },
   "file_extension": ".py",
   "mimetype": "text/x-python",
   "name": "python",
   "nbconvert_exporter": "python",
   "pygments_lexer": "ipython3",
   "version": "3.7.6"
  }
 },
 "nbformat": 4,
 "nbformat_minor": 2
}
