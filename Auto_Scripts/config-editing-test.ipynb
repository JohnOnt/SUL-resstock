{
 "cells": [
  {
   "cell_type": "code",
   "execution_count": 4,
   "id": "initial_id",
   "metadata": {
    "collapsed": true,
    "ExecuteTime": {
     "end_time": "2024-01-17T16:03:50.060544300Z",
     "start_time": "2024-01-17T16:03:49.805295300Z"
    }
   },
   "outputs": [],
   "source": [
    "from ruamel.yaml import YAML\n",
    "import pandas as pd"
   ]
  },
  {
   "cell_type": "code",
   "outputs": [],
   "source": [
    "yaml = YAML()\n",
    "\n",
    "with open('../project_testing/testing_baseline.yml', 'r') as f:\n",
    "    baseline = yaml.load(f)"
   ],
   "metadata": {
    "collapsed": false,
    "ExecuteTime": {
     "end_time": "2024-01-17T15:18:50.712062600Z",
     "start_time": "2024-01-17T15:18:50.690156500Z"
    }
   },
   "id": "831854bbc9eab923",
   "execution_count": 2
  },
  {
   "cell_type": "code",
   "outputs": [],
   "source": [
    "baseline['output_directory'] = 'testing_baseline'\n",
    "\n",
    "with open('../project_testing/testing_baseline.yml', 'w') as f:\n",
    "    yaml.dump(baseline, f)"
   ],
   "metadata": {
    "collapsed": false,
    "ExecuteTime": {
     "end_time": "2024-01-17T15:19:53.603528600Z",
     "start_time": "2024-01-17T15:19:53.584158100Z"
    }
   },
   "id": "38992c80b09b7fd8",
   "execution_count": 3
  },
  {
   "cell_type": "code",
   "outputs": [],
   "source": [
    "combos = pd.read_csv('ashp-groupings-l2.csv')\n",
    "combos.columns = ['Vintage Bin', 'Floor Area Bin', 'Frequency']"
   ],
   "metadata": {
    "collapsed": false,
    "ExecuteTime": {
     "end_time": "2024-01-17T16:06:09.264853700Z",
     "start_time": "2024-01-17T16:06:09.257672900Z"
    }
   },
   "id": "b21d2dff22ec0e60",
   "execution_count": 11
  },
  {
   "cell_type": "code",
   "outputs": [
    {
     "data": {
      "text/plain": "'residential_quota'"
     },
     "execution_count": 15,
     "metadata": {},
     "output_type": "execute_result"
    }
   ],
   "source": [
    "baseline['sampler']['type']"
   ],
   "metadata": {
    "collapsed": false,
    "ExecuteTime": {
     "end_time": "2024-01-17T16:07:29.833612500Z",
     "start_time": "2024-01-17T16:07:29.818602200Z"
    }
   },
   "id": "929b3c9fc1903605",
   "execution_count": 15
  },
  {
   "cell_type": "code",
   "outputs": [
    {
     "data": {
      "text/plain": "  Vintage Bin Floor Area Bin  Frequency\n0       <1940      1500-1999        931\n1       1980s      1500-1999        766\n2       <1940      1000-1499        751\n3       1970s      1500-1999        729\n4       1950s      1000-1499        709",
      "text/html": "<div>\n<style scoped>\n    .dataframe tbody tr th:only-of-type {\n        vertical-align: middle;\n    }\n\n    .dataframe tbody tr th {\n        vertical-align: top;\n    }\n\n    .dataframe thead th {\n        text-align: right;\n    }\n</style>\n<table border=\"1\" class=\"dataframe\">\n  <thead>\n    <tr style=\"text-align: right;\">\n      <th></th>\n      <th>Vintage Bin</th>\n      <th>Floor Area Bin</th>\n      <th>Frequency</th>\n    </tr>\n  </thead>\n  <tbody>\n    <tr>\n      <th>0</th>\n      <td>&lt;1940</td>\n      <td>1500-1999</td>\n      <td>931</td>\n    </tr>\n    <tr>\n      <th>1</th>\n      <td>1980s</td>\n      <td>1500-1999</td>\n      <td>766</td>\n    </tr>\n    <tr>\n      <th>2</th>\n      <td>&lt;1940</td>\n      <td>1000-1499</td>\n      <td>751</td>\n    </tr>\n    <tr>\n      <th>3</th>\n      <td>1970s</td>\n      <td>1500-1999</td>\n      <td>729</td>\n    </tr>\n    <tr>\n      <th>4</th>\n      <td>1950s</td>\n      <td>1000-1499</td>\n      <td>709</td>\n    </tr>\n  </tbody>\n</table>\n</div>"
     },
     "execution_count": 12,
     "metadata": {},
     "output_type": "execute_result"
    }
   ],
   "source": [
    "combos.head()"
   ],
   "metadata": {
    "collapsed": false,
    "ExecuteTime": {
     "end_time": "2024-01-17T16:06:09.453506700Z",
     "start_time": "2024-01-17T16:06:09.438172100Z"
    }
   },
   "id": "910e04a5aabb2a8b",
   "execution_count": 12
  },
  {
   "cell_type": "code",
   "outputs": [
    {
     "data": {
      "text/plain": "(81, 3)"
     },
     "execution_count": 14,
     "metadata": {},
     "output_type": "execute_result"
    }
   ],
   "source": [
    "combos.shape"
   ],
   "metadata": {
    "collapsed": false,
    "ExecuteTime": {
     "end_time": "2024-01-17T16:06:23.827972200Z",
     "start_time": "2024-01-17T16:06:23.799522500Z"
    }
   },
   "id": "9c453a47221c097c",
   "execution_count": 14
  },
  {
   "cell_type": "markdown",
   "source": [
    "# More complex YAML substitution"
   ],
   "metadata": {
    "collapsed": false
   },
   "id": "f3348756d9726298"
  },
  {
   "cell_type": "code",
   "outputs": [],
   "source": [
    "with open('../project_national/new_england_baseline_batch.yml', 'r') as f:\n",
    "    baseline = yaml.load(f)"
   ],
   "metadata": {
    "collapsed": false,
    "ExecuteTime": {
     "end_time": "2024-01-18T00:59:00.564106500Z",
     "start_time": "2024-01-18T00:59:00.540082700Z"
    }
   },
   "id": "78c87494495f063a",
   "execution_count": 19
  },
  {
   "cell_type": "code",
   "outputs": [
    {
     "data": {
      "text/plain": "['Geometry Building Type RECS|Single-Family Detached', 'State|MA']"
     },
     "execution_count": 20,
     "metadata": {},
     "output_type": "execute_result"
    }
   ],
   "source": [
    "baseline['sampler']['args']['logic']['and']"
   ],
   "metadata": {
    "collapsed": false,
    "ExecuteTime": {
     "end_time": "2024-01-18T00:59:37.045188400Z",
     "start_time": "2024-01-18T00:59:37.037044100Z"
    }
   },
   "id": "ab0dcc2d7b8e92c3",
   "execution_count": 20
  },
  {
   "cell_type": "code",
   "outputs": [],
   "source": [
    "baseline['sampler']['args']['logic']['and'] = ['Geometry Building Type RECS|Single-Family Detached', 'State|MA', 'Vintage|1980s']"
   ],
   "metadata": {
    "collapsed": false,
    "ExecuteTime": {
     "end_time": "2024-01-18T01:01:52.109297600Z",
     "start_time": "2024-01-18T01:01:52.093399100Z"
    }
   },
   "id": "32a11d237e96698a",
   "execution_count": 21
  },
  {
   "cell_type": "code",
   "outputs": [],
   "source": [
    "with open('../project_national/new_england_baseline_batch.yml', 'w') as f:\n",
    "    yaml.dump(baseline, f)\n"
   ],
   "metadata": {
    "collapsed": false,
    "ExecuteTime": {
     "end_time": "2024-01-18T01:02:28.063654900Z",
     "start_time": "2024-01-18T01:02:28.050363900Z"
    }
   },
   "id": "bb7c6a92f5da6052",
   "execution_count": 22
  },
  {
   "cell_type": "markdown",
   "source": [
    "# Copying Files"
   ],
   "metadata": {
    "collapsed": false
   },
   "id": "adada8b9eb11b2ae"
  },
  {
   "cell_type": "code",
   "outputs": [],
   "source": [
    "import shutil"
   ],
   "metadata": {
    "collapsed": false,
    "ExecuteTime": {
     "end_time": "2024-01-18T00:16:56.692445700Z",
     "start_time": "2024-01-18T00:16:56.681710500Z"
    }
   },
   "id": "7d5f57582494db85",
   "execution_count": 16
  },
  {
   "cell_type": "code",
   "outputs": [
    {
     "data": {
      "text/plain": "'../Mass_Buildstocks/test_case.csv'"
     },
     "execution_count": 17,
     "metadata": {},
     "output_type": "execute_result"
    }
   ],
   "source": [
    "# specify the source file path\n",
    "source_file_path = '../project_testing/housing_characteristics/buildstock.csv'\n",
    "\n",
    "# specify the destination file path with the new file name\n",
    "destination_file_path = '../Mass_Buildstocks/test_case.csv'\n",
    "\n",
    "# copy the file\n",
    "shutil.copy2(source_file_path, destination_file_path)"
   ],
   "metadata": {
    "collapsed": false,
    "ExecuteTime": {
     "end_time": "2024-01-18T00:18:38.961072900Z",
     "start_time": "2024-01-18T00:18:38.937075200Z"
    }
   },
   "id": "249a8aefbdb99996",
   "execution_count": 17
  },
  {
   "cell_type": "code",
   "outputs": [
    {
     "name": "stdout",
     "output_type": "stream",
     "text": [
      " Volume in drive C is Windows\n",
      " Volume Serial Number is 1815-2714\n",
      "\n",
      " Directory of C:\\Users\\jhont\\Documents\\Energy_Modeling\\SUL-resstock\\Auto_Scripts\n",
      "\n",
      "01/17/2024  07:30 PM    <DIR>          .\n",
      "01/17/2024  07:16 PM    <DIR>          ..\n",
      "01/17/2024  10:35 AM             1,471 ashp-groupings-l2.csv\n",
      "01/17/2024  07:30 PM             6,658 config-editing-test.ipynb\n",
      "01/17/2024  07:30 PM               376 Run-sims-2cat.py\n",
      "               3 File(s)          8,505 bytes\n",
      "               2 Dir(s)  655,698,128,896 bytes free\n"
     ]
    }
   ],
   "source": [
    "!dir"
   ],
   "metadata": {
    "collapsed": false,
    "ExecuteTime": {
     "end_time": "2024-01-18T00:30:33.531995400Z",
     "start_time": "2024-01-18T00:30:33.490148400Z"
    }
   },
   "id": "b22b4ec07141a9ff",
   "execution_count": 18
  },
  {
   "cell_type": "code",
   "outputs": [],
   "source": [],
   "metadata": {
    "collapsed": false
   },
   "id": "e89a196b830365dc"
  }
 ],
 "metadata": {
  "kernelspec": {
   "display_name": "Python 3",
   "language": "python",
   "name": "python3"
  },
  "language_info": {
   "codemirror_mode": {
    "name": "ipython",
    "version": 2
   },
   "file_extension": ".py",
   "mimetype": "text/x-python",
   "name": "python",
   "nbconvert_exporter": "python",
   "pygments_lexer": "ipython2",
   "version": "2.7.6"
  }
 },
 "nbformat": 4,
 "nbformat_minor": 5
}
