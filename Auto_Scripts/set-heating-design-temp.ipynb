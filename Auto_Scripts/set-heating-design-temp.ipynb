{
 "cells": [
  {
   "cell_type": "code",
   "outputs": [],
   "source": [
    "import os\n",
    "import zipfile\n",
    "import tempfile\n",
    "import re"
   ],
   "metadata": {
    "collapsed": false,
    "ExecuteTime": {
     "end_time": "2024-02-07T14:42:10.476818Z",
     "start_time": "2024-02-07T14:42:10.471500Z"
    }
   },
   "id": "c3f451628e496cb8",
   "execution_count": 4
  },
  {
   "cell_type": "code",
   "outputs": [],
   "source": [
    "# Create a temporary directory\n",
    "with tempfile.TemporaryDirectory() as temp_dir:\n",
    "    # Unzip the file to the temporary directory\n",
    "    with zipfile.ZipFile(\"../../Buildstock_TMY3_FIPS.zip\", 'r') as zip_ref:\n",
    "        zip_ref.extractall(temp_dir)\n",
    "\n",
    "    # Iterate over the files in the temporary directory\n",
    "    for foldername, subfolders, filenames in os.walk(temp_dir):\n",
    "        for filename in filenames:\n",
    "            # If the file ends with \".epw\", edit it\n",
    "            if filename.endswith(\".epw\"):\n",
    "                filepath = os.path.join(foldername, filename)\n",
    "                with open(filepath, 'r+') as file:\n",
    "                    content = file.read()\n",
    "                    # Regex match and replace to fix heating setpoint to 5°F (-15°C)\n",
    "                    content = re.sub(r\"Heating,1,-?\\d+(\\.\\d+)?,-?\\d+(\\.\\d+)?\", \"Heating,1,-15,-15\", content)\n",
    "                    # # Write the edited content back to the file\n",
    "                    file.seek(0)\n",
    "                    file.write(content)\n",
    "                    file.truncate()\n",
    "\n",
    "    # Rezip the directory\n",
    "    with zipfile.ZipFile(\"../../Buildstock_TMY3_FIPS_edited.zip\", 'w') as zipf:\n",
    "        for foldername, subfolders, filenames in os.walk(temp_dir):\n",
    "            for filename in filenames:\n",
    "                filepath = os.path.join(foldername, filename)\n",
    "                zipf.write(filepath, arcname=os.path.relpath(filepath, start=temp_dir))"
   ],
   "metadata": {
    "collapsed": false,
    "ExecuteTime": {
     "end_time": "2024-02-07T14:52:54.602611Z",
     "start_time": "2024-02-07T14:52:20.530675Z"
    }
   },
   "id": "945d0b7ba6ce2938",
   "execution_count": 7
  },
  {
   "cell_type": "code",
   "outputs": [],
   "source": [],
   "metadata": {
    "collapsed": false
   },
   "id": "87cf42673917d478"
  }
 ],
 "metadata": {
  "kernelspec": {
   "display_name": "Python 3",
   "language": "python",
   "name": "python3"
  },
  "language_info": {
   "codemirror_mode": {
    "name": "ipython",
    "version": 2
   },
   "file_extension": ".py",
   "mimetype": "text/x-python",
   "name": "python",
   "nbconvert_exporter": "python",
   "pygments_lexer": "ipython2",
   "version": "2.7.6"
  }
 },
 "nbformat": 4,
 "nbformat_minor": 5
}
